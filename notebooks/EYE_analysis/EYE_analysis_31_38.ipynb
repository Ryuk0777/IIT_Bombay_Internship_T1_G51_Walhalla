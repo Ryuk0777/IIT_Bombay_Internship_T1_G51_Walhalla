{
 "cells": [
  {
   "cell_type": "markdown",
   "id": "fc44ee30",
   "metadata": {},
   "source": [
    "## Student 31"
   ]
  },
  {
   "cell_type": "code",
   "execution_count": null,
   "id": "db31616a",
   "metadata": {},
   "outputs": [],
   "source": [
    "%load_ext cudf"
   ]
  },
  {
   "cell_type": "code",
   "execution_count": null,
   "id": "0c8eba24",
   "metadata": {},
   "outputs": [],
   "source": [
    "import numpy as np\n",
    "import pandas as pd\n",
    "import matplotlib.pyplot as plt\n",
    "import seaborn as sns"
   ]
  },
  {
   "cell_type": "code",
   "execution_count": null,
   "id": "61333725",
   "metadata": {},
   "outputs": [],
   "source": [
    "import datashader as ds\n",
    "import datashader.transfer_functions as tf"
   ]
  },
  {
   "cell_type": "code",
   "execution_count": null,
   "id": "4f3ed31f",
   "metadata": {},
   "outputs": [],
   "source": [
    "pd.set_option('display.max_columns', None)"
   ]
  },
  {
   "cell_type": "code",
   "execution_count": null,
   "id": "160b7ab3",
   "metadata": {},
   "outputs": [],
   "source": [
    "df_31_EYE = pd.read_csv('data/STData/31/31_EYE.csv')"
   ]
  },
  {
   "cell_type": "code",
   "execution_count": null,
   "id": "39e90174",
   "metadata": {},
   "outputs": [],
   "source": [
    "df_31_EYE.head()"
   ]
  },
  {
   "cell_type": "code",
   "execution_count": null,
   "id": "4ff6fe30",
   "metadata": {},
   "outputs": [],
   "source": [
    "df_31_EYE.shape"
   ]
  },
  {
   "cell_type": "code",
   "execution_count": null,
   "id": "79b563ba",
   "metadata": {},
   "outputs": [],
   "source": [
    "df_31_EYE.columns"
   ]
  },
  {
   "cell_type": "code",
   "execution_count": null,
   "id": "b8c3289b",
   "metadata": {},
   "outputs": [],
   "source": [
    "df_31_EYE.info()"
   ]
  },
  {
   "cell_type": "code",
   "execution_count": null,
   "id": "74b1f279",
   "metadata": {},
   "outputs": [],
   "source": [
    "df_31_EYE.isnull().sum()"
   ]
  },
  {
   "cell_type": "code",
   "execution_count": null,
   "id": "a4cfc0cf",
   "metadata": {},
   "outputs": [],
   "source": [
    "plt.figure(figsize=(12,8))\n",
    "sns.heatmap(df_31_EYE.isnull(), cmap='viridis')\n",
    "plt.show()"
   ]
  },
  {
   "cell_type": "markdown",
   "id": "2c203db3",
   "metadata": {},
   "source": [
    "# Notes & Observations\n",
    "\n",
    "- We observe many **null** (or missing) values in the `QuestionKey` columns.  \n",
    "- The nulls in the `QuestionKey` column may not represent “true” nulls. Rather, they follow interval patterns, suggesting that during those periods no question was displayed.  \n",
    "- These missing values in `QuestionKey` require additional investigation and context-aware handling.  "
   ]
  },
  {
   "cell_type": "code",
   "execution_count": null,
   "id": "dc384d2a",
   "metadata": {},
   "outputs": [],
   "source": [
    "df_31_EYE['QuestionKey'].unique()"
   ]
  },
  {
   "cell_type": "code",
   "execution_count": null,
   "id": "d6d06b39",
   "metadata": {},
   "outputs": [],
   "source": [
    "df_31_EYE['Timestamp'] = pd.to_datetime(df_31_EYE['Timestamp'])"
   ]
  },
  {
   "cell_type": "code",
   "execution_count": null,
   "id": "df81ec48",
   "metadata": {},
   "outputs": [],
   "source": [
    "df_31_EYE.head(3)"
   ]
  },
  {
   "cell_type": "code",
   "execution_count": null,
   "id": "09f3bd69",
   "metadata": {},
   "outputs": [],
   "source": [
    "df_31_EYE['QuestionKey'].fillna('None', inplace=True)"
   ]
  },
  {
   "cell_type": "code",
   "execution_count": null,
   "id": "896dd4a5",
   "metadata": {},
   "outputs": [],
   "source": [
    "df_31_EYE['QuestionKey'].value_counts()"
   ]
  },
  {
   "cell_type": "code",
   "execution_count": null,
   "id": "4555d282",
   "metadata": {},
   "outputs": [],
   "source": [
    "plt.figure(figsize=(12,8))\n",
    "sns.heatmap(df_31_EYE.isnull(), cmap='viridis')\n",
    "plt.show()"
   ]
  },
  {
   "cell_type": "code",
   "execution_count": null,
   "id": "28ccb16e",
   "metadata": {},
   "outputs": [],
   "source": [
    "df_31_EYE.isnull().sum()"
   ]
  },
  {
   "cell_type": "code",
   "execution_count": null,
   "id": "b549ce13",
   "metadata": {},
   "outputs": [],
   "source": [
    "df_31_EYE.dropna(inplace=True)"
   ]
  },
  {
   "cell_type": "code",
   "execution_count": null,
   "id": "98091e84",
   "metadata": {},
   "outputs": [],
   "source": [
    "df_31_EYE.head()"
   ]
  },
  {
   "cell_type": "code",
   "execution_count": null,
   "id": "1878db11",
   "metadata": {},
   "outputs": [],
   "source": [
    "df_31_EYE['Row'].unique()"
   ]
  },
  {
   "cell_type": "code",
   "execution_count": null,
   "id": "cf4fd66d",
   "metadata": {},
   "outputs": [],
   "source": [
    "plt.figure(figsize=(8,6))\n",
    "sns.histplot(df_31_EYE['Row'])\n",
    "plt.show()"
   ]
  },
  {
   "cell_type": "markdown",
   "id": "c2bdcef5",
   "metadata": {},
   "source": [
    "# Notes & Observations\n",
    "\n",
    "- The `Row` column appears to be a simple row index and does not provide meaningful information relevant to the eye-tracking data itself. Therefore, it can be dropped."
   ]
  },
  {
   "cell_type": "code",
   "execution_count": null,
   "id": "bb35a7ee",
   "metadata": {},
   "outputs": [],
   "source": [
    "df_31_EYE.drop('Row', axis=1, inplace=True)"
   ]
  },
  {
   "cell_type": "code",
   "execution_count": null,
   "id": "f970049d",
   "metadata": {},
   "outputs": [],
   "source": [
    "df_31_EYE['ET_ValidityLeft'].unique()"
   ]
  },
  {
   "cell_type": "code",
   "execution_count": null,
   "id": "2c744b9f",
   "metadata": {},
   "outputs": [],
   "source": [
    "df_31_EYE['ET_ValidityLeft'].value_counts()"
   ]
  },
  {
   "cell_type": "code",
   "execution_count": null,
   "id": "c30e2541",
   "metadata": {},
   "outputs": [],
   "source": [
    "df_31_EYE['ET_ValidityRight'].unique()"
   ]
  },
  {
   "cell_type": "code",
   "execution_count": null,
   "id": "777ba173",
   "metadata": {},
   "outputs": [],
   "source": [
    "df_31_EYE['ET_ValidityRight'].value_counts()"
   ]
  },
  {
   "cell_type": "code",
   "execution_count": null,
   "id": "8f40edc1",
   "metadata": {},
   "outputs": [],
   "source": [
    "plt.figure(figsize=(12, 6))\n",
    "\n",
    "plt.subplot(1, 2, 1)\n",
    "sns.barplot(x=df_31_EYE['ET_ValidityLeft'].value_counts().index, y=df_31_EYE['ET_ValidityLeft'].value_counts().values)\n",
    "plt.title('Count of ET_ValidityLeft')\n",
    "plt.xlabel('Validity')\n",
    "plt.ylabel('Count')\n",
    "\n",
    "\n",
    "plt.subplot(1, 2, 2)\n",
    "sns.barplot(x=df_31_EYE['ET_ValidityRight'].value_counts().index, y=df_31_EYE['ET_ValidityRight'].value_counts().values)\n",
    "plt.title('Count of ET_ValidityRight')\n",
    "plt.xlabel('Validity')\n",
    "plt.ylabel('Count')\n",
    "\n",
    "plt.tight_layout()\n",
    "plt.show()"
   ]
  },
  {
   "cell_type": "markdown",
   "id": "3c4106bb",
   "metadata": {},
   "source": [
    "# Notes & Observations\n",
    "\n",
    "- The `ET_ValidityLeft` and `ET_ValidityRight` columns indicate the validity of the eye-tracking data for the left and right eye, respectively.\n",
    "- Based on the value counts and the bar plots, it appears that a value of `0.0` represents valid eye-tracking data, while a value of `4.0` represents invalid data.\n",
    "- Although the amount of invalid data is relatively small, removing these rows could introduce unwanted patterns or gaps in the time series data.\n",
    "- Therefore, we will keep the data and replace the value `4.0` with `1.0` in both `ET_ValidityLeft` and `ET_ValidityRight` columns. This will indicate to a machine learning model that the eye tracker had invalid data at those specific points in time while maintaining the integrity of the time series."
   ]
  },
  {
   "cell_type": "code",
   "execution_count": null,
   "id": "cc9b8661",
   "metadata": {},
   "outputs": [],
   "source": [
    "validity_map = {4.0: 1.0, 0.0: 0.0}"
   ]
  },
  {
   "cell_type": "code",
   "execution_count": null,
   "id": "a07543ba",
   "metadata": {},
   "outputs": [],
   "source": [
    "df_31_EYE['ET_ValidityLeft'] = df_31_EYE['ET_ValidityLeft'].map(validity_map).astype(np.int8)\n",
    "df_31_EYE['ET_ValidityRight'] = df_31_EYE['ET_ValidityRight'].map(validity_map).astype(np.int8)"
   ]
  },
  {
   "cell_type": "code",
   "execution_count": null,
   "id": "21ab8f8a",
   "metadata": {},
   "outputs": [],
   "source": [
    "df_31_EYE.head(3)"
   ]
  },
  {
   "cell_type": "code",
   "execution_count": null,
   "id": "481ecc9e",
   "metadata": {},
   "outputs": [],
   "source": [
    "df_31_EYE.describe()"
   ]
  },
  {
   "cell_type": "code",
   "execution_count": null,
   "id": "66c0b19d",
   "metadata": {},
   "outputs": [],
   "source": [
    "df_31_EYE[df_31_EYE['ET_ValidityLeft'] == 1].shape"
   ]
  },
  {
   "cell_type": "code",
   "execution_count": null,
   "id": "e27c1147",
   "metadata": {},
   "outputs": [],
   "source": [
    "df_31_EYE[df_31_EYE['ET_ValidityRight'] == 1].shape"
   ]
  },
  {
   "cell_type": "code",
   "execution_count": null,
   "id": "c0384669",
   "metadata": {},
   "outputs": [],
   "source": [
    "plt.figure(figsize=(18, 8))\n",
    "\n",
    "plt.subplot(1, 2, 1)\n",
    "sns.heatmap(df_31_EYE == -1, cmap='viridis')\n",
    "plt.title('Heatmap of -1 Values')\n",
    "\n",
    "plt.subplot(1, 2, 2)\n",
    "sns.heatmap(df_31_EYE == 1, cmap='viridis')\n",
    "plt.title('Heatmap of 1 Values')\n",
    "\n",
    "plt.tight_layout()\n",
    "plt.show()"
   ]
  },
  {
   "cell_type": "code",
   "execution_count": null,
   "id": "7eab050c",
   "metadata": {},
   "outputs": [],
   "source": [
    "df_31_EYE[df_31_EYE['ET_PupilLeft'] == -1].shape"
   ]
  },
  {
   "cell_type": "code",
   "execution_count": null,
   "id": "41879cd6",
   "metadata": {},
   "outputs": [],
   "source": [
    "df_31_EYE[df_31_EYE['ET_PupilRight'] == -1].shape"
   ]
  },
  {
   "cell_type": "code",
   "execution_count": null,
   "id": "7ce09059",
   "metadata": {},
   "outputs": [],
   "source": [
    "df_31_EYE[df_31_EYE['ET_PupilLeft'] == -1].shape[0] / df_31_EYE.shape[0]"
   ]
  },
  {
   "cell_type": "code",
   "execution_count": null,
   "id": "0e735c19",
   "metadata": {},
   "outputs": [],
   "source": [
    "df_31_EYE[df_31_EYE['ET_PupilRight'] == -1].shape[0] / df_31_EYE.shape[0]"
   ]
  },
  {
   "cell_type": "code",
   "execution_count": null,
   "id": "46c43884",
   "metadata": {},
   "outputs": [],
   "source": [
    "plt.figure(figsize=(18, 8))\n",
    "\n",
    "plt.subplot(1, 2, 1)\n",
    "sns.heatmap(df_31_EYE[df_31_EYE['ET_ValidityLeft'] == 1] == -1, cmap='viridis')\n",
    "plt.title('Heatmap of -1 Values')\n",
    "\n",
    "plt.subplot(1, 2, 2)\n",
    "sns.heatmap(df_31_EYE[df_31_EYE['ET_ValidityRight'] == 1] == -1, cmap='viridis')\n",
    "plt.title('Heatmap of -1 Values')\n",
    "\n",
    "plt.tight_layout()\n",
    "plt.show()"
   ]
  },
  {
   "cell_type": "markdown",
   "id": "821546f6",
   "metadata": {},
   "source": [
    "# Notes & Observations\n",
    "\n",
    "- The heatmaps reveal the distribution of -1 values across different columns.\n",
    "- It is evident that the `-1` values are not randomly scattered but appear in specific columns, notably `ET_GazeLeftx`, `ET_GazeLefty`, `ET_GazeRightx`, `ET_GazeRighty`, `ET_PupilLeft`, `ET_PupilRight`, `ET_DistanceLeft`, `ET_DistanceRight`, `ET_CameraLeftX`, `ET_CameraLeftY`, `ET_CameraRightX`, and `ET_CameraRightY`.\n",
    "- These `-1` values often coincide with instances where `ET_ValidityLeft` or `ET_ValidityRight` is 1, indicating invalid eye-tracking data. This suggests that `-1` is used as a placeholder for missing or invalid measurements in these columns when the eye tracker is not providing valid data for a particular eye.\n",
    "- Given that over 70% of the data in the `ET_PupilLeft` and `ET_PupilRight` columns is marked as invalid (-1), these columns may not be suitable for analysis and could be considered for dropping."
   ]
  },
  {
   "cell_type": "code",
   "execution_count": null,
   "id": "cffd1686",
   "metadata": {},
   "outputs": [],
   "source": [
    "df_31_EYE.drop(['ET_PupilLeft', 'ET_PupilRight'], axis=1, inplace=True)"
   ]
  },
  {
   "cell_type": "code",
   "execution_count": null,
   "id": "4a07efa8",
   "metadata": {},
   "outputs": [],
   "source": [
    "df_31_EYE.head()"
   ]
  },
  {
   "cell_type": "code",
   "execution_count": null,
   "id": "bbfd32b8",
   "metadata": {},
   "outputs": [],
   "source": [
    "plt.figure(figsize=(18, 8))\n",
    "\n",
    "plt.subplot(1, 2, 1)\n",
    "sns.heatmap(df_31_EYE == -1, cmap='viridis')\n",
    "plt.title('Heatmap of -1 Values')\n",
    "\n",
    "plt.subplot(1, 2, 2)\n",
    "sns.heatmap(df_31_EYE == 1, cmap='viridis')\n",
    "plt.title('Heatmap of -1 Values')\n",
    "\n",
    "plt.tight_layout()\n",
    "plt.show()"
   ]
  },
  {
   "cell_type": "code",
   "execution_count": null,
   "id": "fd3ec0bb",
   "metadata": {},
   "outputs": [],
   "source": [
    "valid_left_ratio  = 1 - df_31_EYE['ET_ValidityLeft'].mean()\n",
    "valid_right_ratio = 1 - df_31_EYE['ET_ValidityRight'].mean()"
   ]
  },
  {
   "cell_type": "code",
   "execution_count": null,
   "id": "995e7abf",
   "metadata": {},
   "outputs": [],
   "source": [
    "valid_left_ratio"
   ]
  },
  {
   "cell_type": "code",
   "execution_count": null,
   "id": "37e8eade",
   "metadata": {},
   "outputs": [],
   "source": [
    "valid_right_ratio"
   ]
  },
  {
   "cell_type": "code",
   "execution_count": null,
   "id": "adb3de27",
   "metadata": {},
   "outputs": [],
   "source": [
    "df_31_EYE.head()"
   ]
  },
  {
   "cell_type": "code",
   "execution_count": null,
   "id": "052dc3f2",
   "metadata": {},
   "outputs": [],
   "source": [
    "# Select only the numeric columns for plotting histograms, excluding time-related columns\n",
    "numeric_cols = df_31_EYE.select_dtypes(include=np.number).columns\n",
    "cols_to_plot = [col for col in numeric_cols if col not in ['UnixTime']]\n",
    "\n",
    "# Calculate the number of rows and columns for the grid\n",
    "n_cols = 4  # You can adjust the number of columns as needed\n",
    "n_rows = (len(cols_to_plot) + n_cols - 1) // n_cols\n",
    "\n",
    "plt.figure(figsize=(n_cols * 5, n_rows * 4)) # Adjust figure size as needed\n",
    "\n",
    "for i, col in enumerate(cols_to_plot):\n",
    "    plt.subplot(n_rows, n_cols, i + 1)\n",
    "    sns.histplot(df_31_EYE[col], kde=True)\n",
    "    plt.title(f'Distribution of {col}')\n",
    "    plt.xlabel(col)\n",
    "    plt.ylabel('Frequency')\n",
    "\n",
    "plt.tight_layout()\n",
    "plt.show()"
   ]
  },
  {
   "cell_type": "code",
   "execution_count": null,
   "id": "d6386e1a",
   "metadata": {},
   "outputs": [],
   "source": [
    "df_31_EYE.columns"
   ]
  },
  {
   "cell_type": "code",
   "execution_count": null,
   "id": "54bd52f3",
   "metadata": {},
   "outputs": [],
   "source": [
    "cols = ['ET_GazeLeftx', 'ET_GazeLefty',\n",
    "       'ET_GazeRightx', 'ET_GazeRighty', 'ET_TimeSignal', 'ET_DistanceLeft',\n",
    "       'ET_DistanceRight', 'ET_CameraLeftX', 'ET_CameraLeftY',\n",
    "       'ET_CameraRightX', 'ET_CameraRightY', 'ET_ValidityLeft',\n",
    "       'ET_ValidityRight']"
   ]
  },
  {
   "cell_type": "code",
   "execution_count": null,
   "id": "a3be923c",
   "metadata": {},
   "outputs": [],
   "source": [
    "from IPython.display import display, Markdown\n",
    "\n",
    "for col in cols:\n",
    "    # Add a markdown cell before each plot for better separation and labeling\n",
    "    display(Markdown(f'### {col} over Time'))\n",
    "    plt.figure(figsize=(16, 10))\n",
    "    plt.plot(df_31_EYE['Timestamp'], df_31_EYE[col])\n",
    "    plt.xlabel(\"Timestamp\") # Add x-axis label\n",
    "    plt.ylabel(col) # Add y-axis label\n",
    "    plt.show()"
   ]
  },
  {
   "cell_type": "code",
   "execution_count": null,
   "id": "a4e64a6d",
   "metadata": {},
   "outputs": [],
   "source": [
    "# Select only the numeric columns for plotting histograms, excluding time-related columns\n",
    "numeric_cols = df_31_EYE.select_dtypes(include=np.number).columns\n",
    "\n",
    "# Calculate the number of rows and columns for the grid\n",
    "n_cols = 4  # You can adjust the number of columns as needed\n",
    "n_rows = (len(numeric_cols) + n_cols - 1) // n_cols\n",
    "\n",
    "plt.figure(figsize=(n_cols * 5, n_rows * 4)) # Adjust figure size as needed\n",
    "\n",
    "for i, col in enumerate(numeric_cols):\n",
    "    plt.subplot(n_rows, n_cols, i + 1)\n",
    "    sns.boxplot(df_31_EYE[col])\n",
    "    plt.title(f'Boxplot of {col}')\n",
    "    plt.xlabel(col)\n",
    "\n",
    "plt.tight_layout()\n",
    "plt.show()"
   ]
  },
  {
   "cell_type": "code",
   "execution_count": null,
   "id": "04fc90ce",
   "metadata": {},
   "outputs": [],
   "source": [
    "df_31_EYE.replace({-1: np.nan}, inplace=True)"
   ]
  },
  {
   "cell_type": "code",
   "execution_count": null,
   "id": "c8805a62",
   "metadata": {},
   "outputs": [],
   "source": [
    "numeric_cols = df_31_EYE.select_dtypes(include=np.number).columns\n",
    "\n",
    "for col in numeric_cols:\n",
    "    df_31_EYE[col].fillna(df_31_EYE[col].mean(), inplace=True)"
   ]
  },
  {
   "cell_type": "code",
   "execution_count": null,
   "id": "6be41821",
   "metadata": {},
   "outputs": [],
   "source": [
    "df_31_EYE.head()"
   ]
  },
  {
   "cell_type": "code",
   "execution_count": null,
   "id": "5641b37a",
   "metadata": {},
   "outputs": [],
   "source": [
    "# Select only the numeric columns for plotting histograms, excluding time-related columns\n",
    "numeric_cols = df_31_EYE.select_dtypes(include=np.number).columns\n",
    "cols_to_plot = [col for col in numeric_cols if col not in ['UnixTime']]\n",
    "\n",
    "# Calculate the number of rows and columns for the grid\n",
    "n_cols = 4  # You can adjust the number of columns as needed\n",
    "n_rows = (len(cols_to_plot) + n_cols - 1) // n_cols\n",
    "\n",
    "plt.figure(figsize=(n_cols * 5, n_rows * 4)) # Adjust figure size as needed\n",
    "\n",
    "for i, col in enumerate(cols_to_plot):\n",
    "    plt.subplot(n_rows, n_cols, i + 1)\n",
    "    sns.histplot(df_31_EYE[col], kde=True)\n",
    "    plt.title(f'Distribution of {col}')\n",
    "    plt.xlabel(col)\n",
    "    plt.ylabel('Frequency')\n",
    "\n",
    "plt.tight_layout()\n",
    "plt.show()"
   ]
  },
  {
   "cell_type": "code",
   "execution_count": null,
   "id": "a57d7474",
   "metadata": {},
   "outputs": [],
   "source": []
  },
  {
   "cell_type": "code",
   "execution_count": null,
   "id": "afe788b6",
   "metadata": {},
   "outputs": [],
   "source": []
  },
  {
   "cell_type": "code",
   "execution_count": null,
   "id": "ec29c4e6",
   "metadata": {},
   "outputs": [],
   "source": []
  },
  {
   "cell_type": "code",
   "execution_count": null,
   "id": "596c012a",
   "metadata": {},
   "outputs": [],
   "source": []
  },
  {
   "cell_type": "code",
   "execution_count": null,
   "id": "39a8e709",
   "metadata": {},
   "outputs": [],
   "source": []
  },
  {
   "cell_type": "code",
   "execution_count": null,
   "id": "dbb7b42d",
   "metadata": {},
   "outputs": [],
   "source": []
  },
  {
   "cell_type": "code",
   "execution_count": null,
   "id": "5ea153f2",
   "metadata": {},
   "outputs": [],
   "source": []
  },
  {
   "cell_type": "code",
   "execution_count": null,
   "id": "d5fa7601",
   "metadata": {},
   "outputs": [],
   "source": []
  },
  {
   "cell_type": "code",
   "execution_count": null,
   "id": "ad4475be",
   "metadata": {},
   "outputs": [],
   "source": []
  },
  {
   "cell_type": "code",
   "execution_count": null,
   "id": "e081ffaa",
   "metadata": {},
   "outputs": [],
   "source": []
  },
  {
   "cell_type": "code",
   "execution_count": null,
   "id": "8de38f68",
   "metadata": {},
   "outputs": [],
   "source": []
  },
  {
   "cell_type": "code",
   "execution_count": null,
   "id": "0415f57f",
   "metadata": {},
   "outputs": [],
   "source": []
  },
  {
   "cell_type": "markdown",
   "id": "c0e29266",
   "metadata": {},
   "source": [
    "# Eye Tracking Data Analysis\n",
    "\n",
    "This notebook performs exploratory data analysis and cleaning on eye-tracking data.\n",
    "\n",
    "## Data Loading and Initial Inspection"
   ]
  },
  {
   "cell_type": "code",
   "execution_count": null,
   "id": "ee548b50",
   "metadata": {},
   "outputs": [],
   "source": [
    "%load_ext cudf"
   ]
  },
  {
   "cell_type": "markdown",
   "id": "05cf92d8",
   "metadata": {},
   "source": [
    "Import necessary libraries for data manipulation, analysis, and visualization."
   ]
  },
  {
   "cell_type": "code",
   "execution_count": null,
   "id": "7f43c4de",
   "metadata": {},
   "outputs": [],
   "source": [
    "import numpy as np\n",
    "import pandas as pd\n",
    "import matplotlib.pyplot as plt\n",
    "import seaborn as sns"
   ]
  },
  {
   "cell_type": "markdown",
   "id": "aad37534",
   "metadata": {},
   "source": [
    "Import libraries for datashader, which can be used for visualizing large datasets."
   ]
  },
  {
   "cell_type": "code",
   "execution_count": null,
   "id": "7c67e689",
   "metadata": {},
   "outputs": [],
   "source": [
    "import datashader as ds\n",
    "import datashader.transfer_functions as tf"
   ]
  },
  {
   "cell_type": "markdown",
   "id": "223316c2",
   "metadata": {},
   "source": [
    "Set pandas display options to show all columns."
   ]
  },
  {
   "cell_type": "code",
   "execution_count": null,
   "id": "67eb54bb",
   "metadata": {},
   "outputs": [],
   "source": [
    "pd.set_option('display.max_columns', None)"
   ]
  },
  {
   "cell_type": "markdown",
   "id": "6168a3f5",
   "metadata": {},
   "source": [
    "Load the eye-tracking data from the specified CSV file into a pandas DataFrame."
   ]
  },
  {
   "cell_type": "code",
   "execution_count": null,
   "id": "9f73d1cd",
   "metadata": {},
   "outputs": [],
   "source": [
    "df_31_EYE = pd.read_csv('data/STData/31/31_EYE.csv')"
   ]
  },
  {
   "cell_type": "markdown",
   "id": "a724e33d",
   "metadata": {},
   "source": [
    "Display the first few rows of the DataFrame to get an initial look at the data structure and content."
   ]
  },
  {
   "cell_type": "code",
   "execution_count": null,
   "id": "5df30aa4",
   "metadata": {},
   "outputs": [],
   "source": [
    "df_31_EYE.head()"
   ]
  },
  {
   "cell_type": "markdown",
   "id": "94d8977f",
   "metadata": {},
   "source": [
    "Check the dimensions (number of rows and columns) of the DataFrame."
   ]
  },
  {
   "cell_type": "code",
   "execution_count": null,
   "id": "32c3b7eb",
   "metadata": {},
   "outputs": [],
   "source": [
    "df_31_EYE.shape"
   ]
  },
  {
   "cell_type": "markdown",
   "id": "c85f2599",
   "metadata": {},
   "source": [
    "List the names of all columns in the DataFrame."
   ]
  },
  {
   "cell_type": "code",
   "execution_count": null,
   "id": "d38d3e37",
   "metadata": {},
   "outputs": [],
   "source": [
    "df_31_EYE.columns"
   ]
  },
  {
   "cell_type": "markdown",
   "id": "1e188216",
   "metadata": {},
   "source": [
    "Display concise information about the DataFrame, including the data types of each column and the number of non-null values. This helps identify columns with missing data."
   ]
  },
  {
   "cell_type": "code",
   "execution_count": null,
   "id": "03859e41",
   "metadata": {},
   "outputs": [],
   "source": [
    "df_31_EYE.info()"
   ]
  },
  {
   "cell_type": "markdown",
   "id": "bf6124a8",
   "metadata": {},
   "source": [
    "Calculate and display the number of missing values in each column."
   ]
  },
  {
   "cell_type": "code",
   "execution_count": null,
   "id": "25cbc19e",
   "metadata": {},
   "outputs": [],
   "source": [
    "df_31_EYE.isnull().sum()"
   ]
  },
  {
   "cell_type": "markdown",
   "id": "abb4ace7",
   "metadata": {},
   "source": [
    "Visualize the distribution of missing values using a heatmap. This provides a visual representation of which columns have missing data and the extent of missingness."
   ]
  },
  {
   "cell_type": "code",
   "execution_count": null,
   "id": "486a88f0",
   "metadata": {},
   "outputs": [],
   "source": [
    "plt.figure(figsize=(12,8))\n",
    "sns.heatmap(df_31_EYE.isnull(), cmap='viridis')\n",
    "plt.show()"
   ]
  },
  {
   "cell_type": "markdown",
   "id": "e8438083",
   "metadata": {},
   "source": [
    "# Notes & Observations\n",
    "\n",
    "- We observe many **null** (or missing) values in the `QuestionKey` columns.\n",
    "- The nulls in the `QuestionKey` column may not represent “true” nulls. Rather, they follow interval patterns, suggesting that during those periods no question was displayed.\n",
    "- These missing values in `QuestionKey` require additional investigation and context-aware handling."
   ]
  },
  {
   "cell_type": "markdown",
   "id": "2677e8e2",
   "metadata": {},
   "source": [
    "Display the unique values in the `QuestionKey` column to understand the different types of questions or states recorded."
   ]
  },
  {
   "cell_type": "code",
   "execution_count": null,
   "id": "80a34a53",
   "metadata": {},
   "outputs": [],
   "source": [
    "df_31_EYE['QuestionKey'].unique()"
   ]
  },
  {
   "cell_type": "markdown",
   "id": "42f6e729",
   "metadata": {},
   "source": [
    "Convert the `Timestamp` column to datetime objects. This is crucial for any time series analysis or manipulation."
   ]
  },
  {
   "cell_type": "code",
   "execution_count": null,
   "id": "40a48794",
   "metadata": {},
   "outputs": [],
   "source": [
    "df_31_EYE['Timestamp'] = pd.to_datetime(df_31_EYE['Timestamp'])"
   ]
  },
  {
   "cell_type": "markdown",
   "id": "2e3d8ad5",
   "metadata": {},
   "source": [
    "Display the first few rows again to see the effect of the timestamp conversion."
   ]
  },
  {
   "cell_type": "code",
   "execution_count": null,
   "id": "6d64b35e",
   "metadata": {},
   "outputs": [],
   "source": [
    "df_31_EYE.head(3)"
   ]
  },
  {
   "cell_type": "markdown",
   "id": "928b0005",
   "metadata": {},
   "source": [
    "Fill the missing values in the `QuestionKey` column with the string 'None'. This helps to explicitly mark periods where no question was active."
   ]
  },
  {
   "cell_type": "code",
   "execution_count": null,
   "id": "afbb0fff",
   "metadata": {},
   "outputs": [],
   "source": [
    "df_31_EYE['QuestionKey'].fillna('None', inplace=True)"
   ]
  },
  {
   "cell_type": "markdown",
   "id": "985ee129",
   "metadata": {},
   "source": [
    "Count the occurrences of each unique value in the `QuestionKey` column after filling missing values."
   ]
  },
  {
   "cell_type": "code",
   "execution_count": null,
   "id": "f306d414",
   "metadata": {},
   "outputs": [],
   "source": [
    "df_31_EYE['QuestionKey'].value_counts()"
   ]
  },
  {
   "cell_type": "markdown",
   "id": "3b5971d1",
   "metadata": {},
   "source": [
    "Display the heatmap of missing values again to confirm that the missing values in `QuestionKey` have been handled."
   ]
  },
  {
   "cell_type": "code",
   "execution_count": null,
   "id": "cc84e505",
   "metadata": {},
   "outputs": [],
   "source": [
    "plt.figure(figsize=(12,8))\n",
    "sns.heatmap(df_31_EYE.isnull(), cmap='viridis')\n",
    "plt.show()"
   ]
  },
  {
   "cell_type": "markdown",
   "id": "2e0d5d72",
   "metadata": {},
   "source": [
    "Recalculate and display the number of missing values per column to confirm the changes after handling `QuestionKey`."
   ]
  },
  {
   "cell_type": "code",
   "execution_count": null,
   "id": "6a71c1e7",
   "metadata": {},
   "outputs": [],
   "source": [
    "df_31_EYE.isnull().sum()"
   ]
  },
  {
   "cell_type": "markdown",
   "id": "c5f7d64a",
   "metadata": {},
   "source": [
    "Drop rows that still contain any missing values. This is done after handling `QuestionKey` separately."
   ]
  },
  {
   "cell_type": "code",
   "execution_count": null,
   "id": "26d36ec4",
   "metadata": {},
   "outputs": [],
   "source": [
    "df_31_EYE.dropna(inplace=True)"
   ]
  },
  {
   "cell_type": "markdown",
   "id": "e6f324e3",
   "metadata": {},
   "source": [
    "Display the first few rows after dropping rows with missing values."
   ]
  },
  {
   "cell_type": "code",
   "execution_count": null,
   "id": "66cfe188",
   "metadata": {},
   "outputs": [],
   "source": [
    "df_31_EYE.head()"
   ]
  },
  {
   "cell_type": "markdown",
   "id": "d2c31be5",
   "metadata": {},
   "source": [
    "Display the unique values in the `Row` column."
   ]
  },
  {
   "cell_type": "code",
   "execution_count": null,
   "id": "72f41a66",
   "metadata": {},
   "outputs": [],
   "source": [
    "df_31_EYE['Row'].unique()"
   ]
  },
  {
   "cell_type": "markdown",
   "id": "d146623f",
   "metadata": {},
   "source": [
    "Plot a histogram of the `Row` column to visualize its distribution."
   ]
  },
  {
   "cell_type": "code",
   "execution_count": null,
   "id": "61c2c4a3",
   "metadata": {},
   "outputs": [],
   "source": [
    "plt.figure(figsize=(8,6))\n",
    "sns.histplot(df_31_EYE['Row'])\n",
    "plt.show()"
   ]
  },
  {
   "cell_type": "markdown",
   "id": "529decd8",
   "metadata": {},
   "source": [
    "# Notes & Observations\n",
    "\n",
    "- The `Row` column appears to be a simple row index and does not provide meaningful information relevant to the eye-tracking data itself. Therefore, it can be dropped."
   ]
  },
  {
   "cell_type": "markdown",
   "id": "23a024a0",
   "metadata": {},
   "source": [
    "Drop the `Row` column as it is not relevant for the analysis."
   ]
  },
  {
   "cell_type": "code",
   "execution_count": null,
   "id": "a3ee679a",
   "metadata": {},
   "outputs": [],
   "source": [
    "df_31_EYE.drop('Row', axis=1, inplace=True)"
   ]
  },
  {
   "cell_type": "markdown",
   "id": "f7180fbf",
   "metadata": {},
   "source": [
    "Display the unique values in the `ET_ValidityLeft` column."
   ]
  },
  {
   "cell_type": "code",
   "execution_count": null,
   "id": "79edd2f2",
   "metadata": {},
   "outputs": [],
   "source": [
    "df_31_EYE['ET_ValidityLeft'].unique()"
   ]
  },
  {
   "cell_type": "markdown",
   "id": "369613a7",
   "metadata": {},
   "source": [
    "Count the occurrences of each unique value in the `ET_ValidityLeft` column."
   ]
  },
  {
   "cell_type": "code",
   "execution_count": null,
   "id": "f18720cd",
   "metadata": {},
   "outputs": [],
   "source": [
    "df_31_EYE['ET_ValidityLeft'].value_counts()"
   ]
  },
  {
   "cell_type": "markdown",
   "id": "91c103df",
   "metadata": {},
   "source": [
    "Display the unique values in the `ET_ValidityRight` column."
   ]
  },
  {
   "cell_type": "code",
   "execution_count": null,
   "id": "33225f2a",
   "metadata": {},
   "outputs": [],
   "source": [
    "df_31_EYE['ET_ValidityRight'].unique()"
   ]
  },
  {
   "cell_type": "markdown",
   "id": "d7f87fea",
   "metadata": {},
   "source": [
    "Count the occurrences of each unique value in the `ET_ValidityRight` column."
   ]
  },
  {
   "cell_type": "code",
   "execution_count": null,
   "id": "0736cab4",
   "metadata": {},
   "outputs": [],
   "source": [
    "df_31_EYE['ET_ValidityRight'].value_counts()"
   ]
  },
  {
   "cell_type": "markdown",
   "id": "9b13d014",
   "metadata": {},
   "source": [
    "Visualize the counts of valid and invalid data for both left and right eyes using bar plots."
   ]
  },
  {
   "cell_type": "code",
   "execution_count": null,
   "id": "a162769d",
   "metadata": {},
   "outputs": [],
   "source": [
    "plt.figure(figsize=(12, 6))\n",
    "\n",
    "plt.subplot(1, 2, 1)\n",
    "sns.barplot(x=df_31_EYE['ET_ValidityLeft'].value_counts().index, y=df_31_EYE['ET_ValidityLeft'].value_counts().values)\n",
    "plt.title('Count of ET_ValidityLeft')\n",
    "plt.xlabel('Validity')\n",
    "plt.ylabel('Count')\n",
    "\n",
    "\n",
    "plt.subplot(1, 2, 2)\n",
    "sns.barplot(x=df_31_EYE['ET_ValidityRight'].value_counts().index, y=df_31_EYE['ET_ValidityRight'].value_counts().values)\n",
    "plt.title('Count of ET_ValidityRight')\n",
    "plt.xlabel('Validity')\n",
    "plt.ylabel('Count')\n",
    "\n",
    "plt.tight_layout()\n",
    "plt.show()"
   ]
  },
  {
   "cell_type": "markdown",
   "id": "dc2d9e72",
   "metadata": {},
   "source": [
    "# Notes & Observations\n",
    "\n",
    "- The `ET_ValidityLeft` and `ET_ValidityRight` columns indicate the validity of the eye-tracking data for the left and right eye, respectively.\n",
    "- Based on the value counts and the bar plots, it appears that a value of `0.0` represents valid eye-tracking data, while a value of `4.0` represents invalid data.\n",
    "- Although the amount of invalid data is relatively small, removing these rows could introduce unwanted patterns or gaps in the time series data.\n",
    "- Therefore, we will keep the data and replace the value `4.0` with `1.0` in both `ET_ValidityLeft` and `ET_ValidityRight` columns. This will indicate to a machine learning model that the eye tracker had invalid data at those specific points in time while maintaining the integrity of the time series."
   ]
  },
  {
   "cell_type": "markdown",
   "id": "f05e6d70",
   "metadata": {},
   "source": [
    "Define a mapping to convert validity values from `0.0` and `4.0` to `0` and `1`."
   ]
  },
  {
   "cell_type": "code",
   "execution_count": null,
   "id": "870a766d",
   "metadata": {},
   "outputs": [],
   "source": [
    "validity_map = {4.0: 1.0, 0.0: 0.0}"
   ]
  },
  {
   "cell_type": "markdown",
   "id": "0854fc51",
   "metadata": {},
   "source": [
    "Apply the mapping to the `ET_ValidityLeft` and `ET_ValidityRight` columns and convert the data type to integer."
   ]
  },
  {
   "cell_type": "code",
   "execution_count": null,
   "id": "6c7ef162",
   "metadata": {},
   "outputs": [],
   "source": [
    "df_31_EYE['ET_ValidityLeft'] = df_31_EYE['ET_ValidityLeft'].map(validity_map).astype(np.int8)\n",
    "df_31_EYE['ET_ValidityRight'] = df_31_EYE['ET_ValidityRight'].map(validity_map).astype(np.int8)"
   ]
  },
  {
   "cell_type": "markdown",
   "id": "31f2c0f5",
   "metadata": {},
   "source": [
    "Display the first few rows to see the updated validity columns."
   ]
  },
  {
   "cell_type": "code",
   "execution_count": null,
   "id": "84f7758d",
   "metadata": {},
   "outputs": [],
   "source": [
    "df_31_EYE.head(3)"
   ]
  },
  {
   "cell_type": "markdown",
   "id": "07cfd3f4",
   "metadata": {},
   "source": [
    "Display descriptive statistics for the DataFrame, including count, mean, standard deviation, min, max, and quartiles for numeric columns."
   ]
  },
  {
   "cell_type": "code",
   "execution_count": null,
   "id": "b4eb4170",
   "metadata": {},
   "outputs": [],
   "source": [
    "df_31_EYE.describe()"
   ]
  },
  {
   "cell_type": "markdown",
   "id": "b1c9d82a",
   "metadata": {},
   "source": [
    "Check the number of rows where `ET_ValidityLeft` is 1 (invalid data for the left eye)."
   ]
  },
  {
   "cell_type": "code",
   "execution_count": null,
   "id": "1257c1c4",
   "metadata": {},
   "outputs": [],
   "source": [
    "df_31_EYE[df_31_EYE['ET_ValidityLeft'] == 1].shape"
   ]
  },
  {
   "cell_type": "markdown",
   "id": "13cae461",
   "metadata": {},
   "source": [
    "Check the number of rows where `ET_ValidityRight` is 1 (invalid data for the right eye)."
   ]
  },
  {
   "cell_type": "code",
   "execution_count": null,
   "id": "3fd52ddc",
   "metadata": {},
   "outputs": [],
   "source": [
    "df_31_EYE[df_31_EYE['ET_ValidityRight'] == 1].shape"
   ]
  },
  {
   "cell_type": "markdown",
   "id": "c51cabe3",
   "metadata": {},
   "source": [
    "Visualize the distribution of -1 and 1 values across columns using heatmaps. This helps identify columns with placeholder or indicator values."
   ]
  },
  {
   "cell_type": "code",
   "execution_count": null,
   "id": "72e3e851",
   "metadata": {},
   "outputs": [],
   "source": [
    "plt.figure(figsize=(18, 8))\n",
    "\n",
    "plt.subplot(1, 2, 1)\n",
    "sns.heatmap(df_31_EYE == -1, cmap='viridis')\n",
    "plt.title('Heatmap of -1 Values')\n",
    "\n",
    "plt.subplot(1, 2, 2)\n",
    "sns.heatmap(df_31_EYE == 1, cmap='viridis')\n",
    "plt.title('Heatmap of 1 Values')\n",
    "\n",
    "plt.tight_layout()\n",
    "plt.show()"
   ]
  },
  {
   "cell_type": "markdown",
   "id": "69495dfd",
   "metadata": {},
   "source": [
    "Check the number of rows where `ET_PupilLeft` is -1."
   ]
  },
  {
   "cell_type": "code",
   "execution_count": null,
   "id": "5e8ec7a8",
   "metadata": {},
   "outputs": [],
   "source": [
    "df_31_EYE[df_31_EYE['ET_PupilLeft'] == -1].shape"
   ]
  },
  {
   "cell_type": "markdown",
   "id": "784a59bf",
   "metadata": {},
   "source": [
    "Check the number of rows where `ET_PupilRight` is -1."
   ]
  },
  {
   "cell_type": "code",
   "execution_count": null,
   "id": "c4e79ba9",
   "metadata": {},
   "outputs": [],
   "source": [
    "df_31_EYE[df_31_EYE['ET_PupilRight'] == -1].shape"
   ]
  },
  {
   "cell_type": "markdown",
   "id": "3f69306c",
   "metadata": {},
   "source": [
    "Calculate the ratio of rows with -1 values in the `ET_PupilLeft` column to the total number of rows."
   ]
  },
  {
   "cell_type": "code",
   "execution_count": null,
   "id": "b760832b",
   "metadata": {},
   "outputs": [],
   "source": [
    "df_31_EYE[df_31_EYE['ET_PupilLeft'] == -1].shape[0] / df_31_EYE.shape[0]"
   ]
  },
  {
   "cell_type": "markdown",
   "id": "ea440c95",
   "metadata": {},
   "source": [
    "Calculate the ratio of rows with -1 values in the `ET_PupilRight` column to the total number of rows."
   ]
  },
  {
   "cell_type": "code",
   "execution_count": null,
   "id": "ea5cd2c3",
   "metadata": {},
   "outputs": [],
   "source": [
    "df_31_EYE[df_31_EYE['ET_PupilRight'] == -1].shape[0] / df_31_EYE.shape[0]"
   ]
  },
  {
   "cell_type": "markdown",
   "id": "7cc22274",
   "metadata": {},
   "source": [
    "Visualize the distribution of -1 values specifically for rows where validity is 1 (invalid data)."
   ]
  },
  {
   "cell_type": "code",
   "execution_count": null,
   "id": "5b1fba9c",
   "metadata": {},
   "outputs": [],
   "source": [
    "plt.figure(figsize=(18, 8))\n",
    "\n",
    "plt.subplot(1, 2, 1)\n",
    "sns.heatmap(df_31_EYE[df_31_EYE['ET_ValidityLeft'] == 1] == -1, cmap='viridis')\n",
    "plt.title('Heatmap of -1 Values')\n",
    "\n",
    "plt.subplot(1, 2, 2)\n",
    "sns.heatmap(df_31_EYE[df_31_EYE['ET_ValidityRight'] == 1] == -1, cmap='viridis')\n",
    "plt.title('Heatmap of -1 Values')\n",
    "\n",
    "plt.tight_layout()\n",
    "plt.show()"
   ]
  },
  {
   "cell_type": "markdown",
   "id": "889bb9a2",
   "metadata": {},
   "source": [
    "# Notes & Observations\n",
    "\n",
    "- The heatmaps reveal the distribution of -1 values across different columns.\n",
    "- It is evident that the `-1` values are not randomly scattered but appear in specific columns, notably `ET_GazeLeftx`, `ET_GazeLefty`, `ET_GazeRightx`, `ET_GazeRighty`, `ET_PupilLeft`, `ET_PupilRight`, `ET_DistanceLeft`, `ET_DistanceRight`, `ET_CameraLeftX`, `ET_CameraLeftY`, `ET_CameraRightX`, and `ET_CameraRightY`.\n",
    "- These `-1` values often coincide with instances where `ET_ValidityLeft` or `ET_ValidityRight` is 1, indicating invalid eye-tracking data. This suggests that `-1` is used as a placeholder for missing or invalid measurements in these columns when the eye tracker is not providing valid data for a particular eye.\n",
    "- Given that over 70% of the data in the `ET_PupilLeft` and `ET_PupilRight` columns is marked as invalid (-1), these columns may not be suitable for analysis and could be considered for dropping."
   ]
  },
  {
   "cell_type": "markdown",
   "id": "6ad8b7c7",
   "metadata": {},
   "source": [
    "Drop the `ET_PupilLeft` and `ET_PupilRight` columns due to the high percentage of invalid data."
   ]
  },
  {
   "cell_type": "code",
   "execution_count": null,
   "id": "6c47d265",
   "metadata": {},
   "outputs": [],
   "source": [
    "df_31_EYE.drop(['ET_PupilLeft', 'ET_PupilRight'], axis=1, inplace=True)"
   ]
  },
  {
   "cell_type": "markdown",
   "id": "98de5a31",
   "metadata": {},
   "source": [
    "Display the first few rows after dropping the pupil columns."
   ]
  },
  {
   "cell_type": "code",
   "execution_count": null,
   "id": "00a0896c",
   "metadata": {},
   "outputs": [],
   "source": [
    "df_31_EYE.head()"
   ]
  },
  {
   "cell_type": "markdown",
   "id": "0bbb88f0",
   "metadata": {},
   "source": [
    "Visualize the distribution of -1 and 1 values again after dropping the pupil columns."
   ]
  },
  {
   "cell_type": "code",
   "execution_count": null,
   "id": "e4d7d375",
   "metadata": {},
   "outputs": [],
   "source": [
    "plt.figure(figsize=(18, 8))\n",
    "\n",
    "plt.subplot(1, 2, 1)\n",
    "sns.heatmap(df_31_EYE == -1, cmap='viridis')\n",
    "plt.title('Heatmap of -1 Values')\n",
    "\n",
    "plt.subplot(1, 2, 2)\n",
    "sns.heatmap(df_31_EYE == 1, cmap='viridis')\n",
    "plt.title('Heatmap of -1 Values')\n",
    "\n",
    "plt.tight_layout()\n",
    "plt.show()"
   ]
  },
  {
   "cell_type": "markdown",
   "id": "416db182",
   "metadata": {},
   "source": [
    "Calculate the ratio of valid data points for the left eye."
   ]
  },
  {
   "cell_type": "code",
   "execution_count": null,
   "id": "dcc8c124",
   "metadata": {},
   "outputs": [],
   "source": [
    "valid_left_ratio  = 1 - df_31_EYE['ET_ValidityLeft'].mean()"
   ]
  },
  {
   "cell_type": "markdown",
   "id": "5f56a71c",
   "metadata": {},
   "source": [
    "Display the ratio of valid data points for the left eye."
   ]
  },
  {
   "cell_type": "code",
   "execution_count": null,
   "id": "6eef7390",
   "metadata": {},
   "outputs": [],
   "source": [
    "valid_left_ratio"
   ]
  },
  {
   "cell_type": "markdown",
   "id": "e116ccb0",
   "metadata": {},
   "source": [
    "Calculate the ratio of valid data points for the right eye."
   ]
  },
  {
   "cell_type": "code",
   "execution_count": null,
   "id": "54074254",
   "metadata": {},
   "outputs": [],
   "source": [
    "valid_right_ratio = 1 - df_31_EYE['ET_ValidityRight'].mean()"
   ]
  },
  {
   "cell_type": "markdown",
   "id": "fab52452",
   "metadata": {},
   "source": [
    "Display the ratio of valid data points for the right eye."
   ]
  },
  {
   "cell_type": "code",
   "execution_count": null,
   "id": "aabc3469",
   "metadata": {},
   "outputs": [],
   "source": [
    "valid_right_ratio"
   ]
  },
  {
   "cell_type": "markdown",
   "id": "5102521a",
   "metadata": {},
   "source": [
    "Display the first few rows of the DataFrame."
   ]
  },
  {
   "cell_type": "code",
   "execution_count": null,
   "id": "ead856e5",
   "metadata": {},
   "outputs": [],
   "source": [
    "df_31_EYE.head()"
   ]
  },
  {
   "cell_type": "markdown",
   "id": "8875afa2",
   "metadata": {},
   "source": [
    "Visualize the distributions of numeric columns using histograms with Kernel Density Estimate (KDE) plots. This helps understand the shape and spread of the data in each numeric column."
   ]
  },
  {
   "cell_type": "code",
   "execution_count": null,
   "id": "c09c4928",
   "metadata": {},
   "outputs": [],
   "source": [
    "# Select only the numeric columns for plotting histograms, excluding time-related columns\n",
    "numeric_cols = df_31_EYE.select_dtypes(include=np.number).columns\n",
    "cols_to_plot = [col for col in numeric_cols if col not in ['UnixTime']]\n",
    "\n",
    "# Calculate the number of rows and columns for the grid\n",
    "n_cols = 4  # You can adjust the number of columns as needed\n",
    "n_rows = (len(cols_to_plot) + n_cols - 1) // n_cols\n",
    "\n",
    "plt.figure(figsize=(n_cols * 5, n_rows * 4)) # Adjust figure size as needed\n",
    "\n",
    "for i, col in enumerate(cols_to_plot):\n",
    "    plt.subplot(n_rows, n_cols, i + 1)\n",
    "    sns.histplot(df_31_EYE[col], kde=True)\n",
    "    plt.title(f'Distribution of {col}')\n",
    "    plt.xlabel(col)\n",
    "    plt.ylabel('Frequency')\n",
    "\n",
    "plt.tight_layout()\n",
    "plt.show()"
   ]
  },
  {
   "cell_type": "markdown",
   "id": "31c75ca9",
   "metadata": {},
   "source": [
    "List the names of the columns in the DataFrame."
   ]
  },
  {
   "cell_type": "code",
   "execution_count": null,
   "id": "36c1d2ee",
   "metadata": {},
   "outputs": [],
   "source": [
    "df_31_EYE.columns"
   ]
  },
  {
   "cell_type": "markdown",
   "id": "f3a189ca",
   "metadata": {},
   "source": [
    "Define a list of columns to be plotted over time."
   ]
  },
  {
   "cell_type": "code",
   "execution_count": null,
   "id": "06ebe18f",
   "metadata": {},
   "outputs": [],
   "source": [
    "cols = ['ET_GazeLeftx', 'ET_GazeLefty',\n",
    "       'ET_GazeRightx', 'ET_GazeRighty', 'ET_TimeSignal', 'ET_DistanceLeft',\n",
    "       'ET_DistanceRight', 'ET_CameraLeftX', 'ET_CameraLeftY',\n",
    "       'ET_CameraRightX', 'ET_CameraRightY', 'ET_ValidityLeft',\n",
    "       'ET_ValidityRight']"
   ]
  },
  {
   "cell_type": "markdown",
   "id": "3d804c55",
   "metadata": {},
   "source": [
    "Plot each of the selected columns against the timestamp to visualize their trends and patterns over time. Markdown cells are added before each plot for better readability."
   ]
  },
  {
   "cell_type": "code",
   "execution_count": null,
   "id": "15d11056",
   "metadata": {},
   "outputs": [],
   "source": [
    "from IPython.display import display, Markdown\n",
    "\n",
    "for col in cols:\n",
    "    # Add a markdown cell before each plot for better separation and labeling\n",
    "    display(Markdown(f'### {col} over Time'))\n",
    "    plt.figure(figsize=(16, 10))\n",
    "    plt.plot(df_31_EYE['Timestamp'], df_31_EYE[col])\n",
    "    plt.xlabel(\"Timestamp\") # Add x-axis label\n",
    "    plt.ylabel(col) # Add y-axis label\n",
    "    plt.show()"
   ]
  },
  {
   "cell_type": "markdown",
   "id": "da3e6f36",
   "metadata": {},
   "source": [
    "Visualize the distributions of numeric columns using boxplots. This helps identify potential outliers and the spread of the data."
   ]
  },
  {
   "cell_type": "code",
   "execution_count": null,
   "id": "35b32e67",
   "metadata": {},
   "outputs": [],
   "source": [
    "# Select only the numeric columns for plotting histograms, excluding time-related columns\n",
    "numeric_cols = df_31_EYE.select_dtypes(include=np.number).columns\n",
    "\n",
    "# Calculate the number of rows and columns for the grid\n",
    "n_cols = 4  # You can adjust the number of columns as needed\n",
    "n_rows = (len(numeric_cols) + n_cols - 1) // n_cols\n",
    "\n",
    "plt.figure(figsize=(n_cols * 5, n_rows * 4)) # Adjust figure size as needed\n",
    "\n",
    "for i, col in enumerate(numeric_cols):\n",
    "    plt.subplot(n_rows, n_cols, i + 1)\n",
    "    sns.boxplot(df_31_EYE[col])\n",
    "    plt.title(f'Boxplot of {col}')\n",
    "    plt.xlabel(col)\n",
    "\n",
    "plt.tight_layout()\n",
    "plt.show()"
   ]
  },
  {
   "cell_type": "markdown",
   "id": "0c53c1f1",
   "metadata": {},
   "source": [
    "Replace the placeholder value -1 with NaN (Not a Number) in the DataFrame. This is done before imputation."
   ]
  },
  {
   "cell_type": "code",
   "execution_count": null,
   "id": "8c8b8653",
   "metadata": {},
   "outputs": [],
   "source": [
    "df_31_EYE.replace({-1: np.nan}, inplace=True)"
   ]
  },
  {
   "cell_type": "markdown",
   "id": "3f890c33",
   "metadata": {},
   "source": [
    "Impute the missing values (NaN) in the numeric columns with the mean of each column."
   ]
  },
  {
   "cell_type": "code",
   "execution_count": null,
   "id": "f36dd1d4",
   "metadata": {},
   "outputs": [],
   "source": [
    "numeric_cols = df_31_EYE.select_dtypes(include=np.number).columns\n",
    "\n",
    "for col in numeric_cols:\n",
    "    df_31_EYE[col].fillna(df_31_EYE[col].mean(), inplace=True)"
   ]
  },
  {
   "cell_type": "markdown",
   "id": "c84aaae1",
   "metadata": {},
   "source": [
    "Display the first few rows after imputing missing values."
   ]
  },
  {
   "cell_type": "code",
   "execution_count": null,
   "id": "acfa8e1e",
   "metadata": {},
   "outputs": [],
   "source": [
    "df_31_EYE.head()"
   ]
  },
  {
   "cell_type": "markdown",
   "id": "cefc2f48",
   "metadata": {},
   "source": [
    "Visualize the distributions of numeric columns again using histograms with KDE plots after imputation. This helps assess the impact of imputation on the data distributions."
   ]
  },
  {
   "cell_type": "code",
   "execution_count": null,
   "id": "61334478",
   "metadata": {},
   "outputs": [],
   "source": [
    "# Select only the numeric columns for plotting histograms, excluding time-related columns\n",
    "numeric_cols = df_31_EYE.select_dtypes(include=np.number).columns\n",
    "cols_to_plot = [col for col in numeric_cols if col not in ['UnixTime']]\n",
    "\n",
    "# Calculate the number of rows and columns for the grid\n",
    "n_cols = 4  # You can adjust the number of columns as needed\n",
    "n_rows = (len(cols_to_plot) + n_cols - 1) // n_cols\n",
    "\n",
    "plt.figure(figsize=(n_cols * 5, n_rows * 4)) # Adjust figure size as needed\n",
    "\n",
    "for i, col in enumerate(cols_to_plot):\n",
    "    plt.subplot(n_rows, n_cols, i + 1)\n",
    "    sns.histplot(df_31_EYE[col], kde=True)\n",
    "    plt.title(f'Distribution of {col}')\n",
    "    plt.xlabel(col)\n",
    "    plt.ylabel('Frequency')\n",
    "\n",
    "plt.tight_layout()\n",
    "plt.show()"
   ]
  },
  {
   "cell_type": "code",
   "execution_count": null,
   "id": "64b38248",
   "metadata": {},
   "outputs": [],
   "source": []
  },
  {
   "cell_type": "markdown",
   "id": "55bcb5a3",
   "metadata": {},
   "source": [
    "## Student 32"
   ]
  },
  {
   "cell_type": "code",
   "execution_count": null,
   "id": "5782f345",
   "metadata": {},
   "outputs": [],
   "source": [
    "%load_ext cudf"
   ]
  },
  {
   "cell_type": "code",
   "execution_count": null,
   "id": "af08db1f",
   "metadata": {},
   "outputs": [],
   "source": [
    "import numpy as np\n",
    "import pandas as pd\n",
    "import matplotlib.pyplot as plt\n",
    "import seaborn as sns"
   ]
  },
  {
   "cell_type": "code",
   "execution_count": null,
   "id": "ed669f33",
   "metadata": {},
   "outputs": [],
   "source": [
    "import datashader as ds\n",
    "import datashader.transfer_functions as tf"
   ]
  },
  {
   "cell_type": "code",
   "execution_count": null,
   "id": "5d7f4796",
   "metadata": {},
   "outputs": [],
   "source": [
    "pd.set_option('display.max_columns', None)"
   ]
  },
  {
   "cell_type": "code",
   "execution_count": null,
   "id": "4c853abe",
   "metadata": {},
   "outputs": [],
   "source": [
    "df_32_EYE = pd.read_csv('data/STData/32/32_EYE.csv')"
   ]
  },
  {
   "cell_type": "code",
   "execution_count": null,
   "id": "2ded45d3",
   "metadata": {},
   "outputs": [],
   "source": [
    "df_32_EYE.head()"
   ]
  },
  {
   "cell_type": "code",
   "execution_count": null,
   "id": "fbb7fafc",
   "metadata": {},
   "outputs": [],
   "source": [
    "df_32_EYE.shape"
   ]
  },
  {
   "cell_type": "code",
   "execution_count": null,
   "id": "e2818322",
   "metadata": {},
   "outputs": [],
   "source": [
    "df_32_EYE.columns"
   ]
  },
  {
   "cell_type": "code",
   "execution_count": null,
   "id": "9b69dca1",
   "metadata": {},
   "outputs": [],
   "source": [
    "df_32_EYE.info()"
   ]
  },
  {
   "cell_type": "code",
   "execution_count": null,
   "id": "d01d9f40",
   "metadata": {},
   "outputs": [],
   "source": [
    "df_32_EYE.isnull().sum()"
   ]
  },
  {
   "cell_type": "code",
   "execution_count": null,
   "id": "cb51fe01",
   "metadata": {},
   "outputs": [],
   "source": [
    "plt.figure(figsize=(12,8))\n",
    "sns.heatmap(df_32_EYE.isnull(), cmap='viridis')\n",
    "plt.show()"
   ]
  },
  {
   "cell_type": "markdown",
   "id": "c0829ffb",
   "metadata": {},
   "source": [
    "# Notes & Observations\n",
    "\n",
    "- We observe many **null** (or missing) values in the `QuestionKey` columns.  \n",
    "- The nulls in the `QuestionKey` column may not represent “true” nulls. Rather, they follow interval patterns, suggesting that during those periods no question was displayed.  \n",
    "- These missing values in `QuestionKey` require additional investigation and context-aware handling.  "
   ]
  },
  {
   "cell_type": "code",
   "execution_count": null,
   "id": "69c94dfa",
   "metadata": {},
   "outputs": [],
   "source": [
    "df_32_EYE['QuestionKey'].unique()"
   ]
  },
  {
   "cell_type": "code",
   "execution_count": null,
   "id": "d2c7e8e1",
   "metadata": {},
   "outputs": [],
   "source": [
    "df_32_EYE['Timestamp'] = pd.to_datetime(df_32_EYE['Timestamp'])"
   ]
  },
  {
   "cell_type": "code",
   "execution_count": null,
   "id": "13ee084b",
   "metadata": {},
   "outputs": [],
   "source": [
    "df_32_EYE.head(3)"
   ]
  },
  {
   "cell_type": "code",
   "execution_count": null,
   "id": "2f433a9b",
   "metadata": {},
   "outputs": [],
   "source": [
    "df_32_EYE['QuestionKey'].fillna('None', inplace=True)"
   ]
  },
  {
   "cell_type": "code",
   "execution_count": null,
   "id": "5b25501e",
   "metadata": {},
   "outputs": [],
   "source": [
    "df_32_EYE['QuestionKey'].value_counts()"
   ]
  },
  {
   "cell_type": "code",
   "execution_count": null,
   "id": "8c7f05e2",
   "metadata": {},
   "outputs": [],
   "source": [
    "plt.figure(figsize=(12,8))\n",
    "sns.heatmap(df_32_EYE.isnull(), cmap='viridis')\n",
    "plt.show()"
   ]
  },
  {
   "cell_type": "code",
   "execution_count": null,
   "id": "cc481957",
   "metadata": {},
   "outputs": [],
   "source": [
    "df_32_EYE.isnull().sum()"
   ]
  },
  {
   "cell_type": "code",
   "execution_count": null,
   "id": "4b732565",
   "metadata": {},
   "outputs": [],
   "source": [
    "df_32_EYE.dropna(inplace=True)"
   ]
  },
  {
   "cell_type": "code",
   "execution_count": null,
   "id": "1354cfaa",
   "metadata": {},
   "outputs": [],
   "source": [
    "df_32_EYE.head()"
   ]
  },
  {
   "cell_type": "code",
   "execution_count": null,
   "id": "f3141e45",
   "metadata": {},
   "outputs": [],
   "source": [
    "df_32_EYE['Row'].unique()"
   ]
  },
  {
   "cell_type": "code",
   "execution_count": null,
   "id": "b1eb541e",
   "metadata": {},
   "outputs": [],
   "source": [
    "plt.figure(figsize=(8,6))\n",
    "sns.histplot(df_32_EYE['Row'])\n",
    "plt.show()"
   ]
  },
  {
   "cell_type": "markdown",
   "id": "0643de68",
   "metadata": {},
   "source": [
    "# Notes & Observations\n",
    "\n",
    "- The `Row` column appears to be a simple row index and does not provide meaningful information relevant to the eye-tracking data itself. Therefore, it can be dropped."
   ]
  },
  {
   "cell_type": "code",
   "execution_count": null,
   "id": "dd446b50",
   "metadata": {},
   "outputs": [],
   "source": [
    "df_32_EYE.drop('Row', axis=1, inplace=True)"
   ]
  },
  {
   "cell_type": "code",
   "execution_count": null,
   "id": "5fa0f121",
   "metadata": {},
   "outputs": [],
   "source": [
    "df_32_EYE['ET_ValidityLeft'].unique()"
   ]
  },
  {
   "cell_type": "code",
   "execution_count": null,
   "id": "c0594d02",
   "metadata": {},
   "outputs": [],
   "source": [
    "df_32_EYE['ET_ValidityLeft'].value_counts()"
   ]
  },
  {
   "cell_type": "code",
   "execution_count": null,
   "id": "a9953e84",
   "metadata": {},
   "outputs": [],
   "source": [
    "df_32_EYE['ET_ValidityRight'].unique()"
   ]
  },
  {
   "cell_type": "code",
   "execution_count": null,
   "id": "dbac27ec",
   "metadata": {},
   "outputs": [],
   "source": [
    "df_32_EYE['ET_ValidityRight'].value_counts()"
   ]
  },
  {
   "cell_type": "code",
   "execution_count": null,
   "id": "192370cf",
   "metadata": {},
   "outputs": [],
   "source": [
    "plt.figure(figsize=(12, 6))\n",
    "\n",
    "plt.subplot(1, 2, 1)\n",
    "sns.barplot(x=df_32_EYE['ET_ValidityLeft'].value_counts().index, y=df_32_EYE['ET_ValidityLeft'].value_counts().values)\n",
    "plt.title('Count of ET_ValidityLeft')\n",
    "plt.xlabel('Validity')\n",
    "plt.ylabel('Count')\n",
    "\n",
    "\n",
    "plt.subplot(1, 2, 2)\n",
    "sns.barplot(x=df_32_EYE['ET_ValidityRight'].value_counts().index, y=df_32_EYE['ET_ValidityRight'].value_counts().values)\n",
    "plt.title('Count of ET_ValidityRight')\n",
    "plt.xlabel('Validity')\n",
    "plt.ylabel('Count')\n",
    "\n",
    "plt.tight_layout()\n",
    "plt.show()"
   ]
  },
  {
   "cell_type": "markdown",
   "id": "8350819d",
   "metadata": {},
   "source": [
    "# Notes & Observations\n",
    "\n",
    "- The `ET_ValidityLeft` and `ET_ValidityRight` columns indicate the validity of the eye-tracking data for the left and right eye, respectively.\n",
    "- Based on the value counts and the bar plots, it appears that a value of `0.0` represents valid eye-tracking data, while a value of `4.0` represents invalid data.\n",
    "- Although the amount of invalid data is relatively small, removing these rows could introduce unwanted patterns or gaps in the time series data.\n",
    "- Therefore, we will keep the data and replace the value `4.0` with `1.0` in both `ET_ValidityLeft` and `ET_ValidityRight` columns. This will indicate to a machine learning model that the eye tracker had invalid data at those specific points in time while maintaining the integrity of the time series."
   ]
  },
  {
   "cell_type": "code",
   "execution_count": null,
   "id": "a443c4d5",
   "metadata": {},
   "outputs": [],
   "source": [
    "validity_map = {4.0: 1.0, 0.0: 0.0}"
   ]
  },
  {
   "cell_type": "code",
   "execution_count": null,
   "id": "12dc5f72",
   "metadata": {},
   "outputs": [],
   "source": [
    "df_32_EYE['ET_ValidityLeft'] = df_32_EYE['ET_ValidityLeft'].map(validity_map).astype(np.int8)\n",
    "df_32_EYE['ET_ValidityRight'] = df_32_EYE['ET_ValidityRight'].map(validity_map).astype(np.int8)"
   ]
  },
  {
   "cell_type": "code",
   "execution_count": null,
   "id": "322bd1f7",
   "metadata": {},
   "outputs": [],
   "source": [
    "df_32_EYE.head(3)"
   ]
  },
  {
   "cell_type": "code",
   "execution_count": null,
   "id": "ec4c4078",
   "metadata": {},
   "outputs": [],
   "source": [
    "df_32_EYE.describe()"
   ]
  },
  {
   "cell_type": "code",
   "execution_count": null,
   "id": "16dda058",
   "metadata": {},
   "outputs": [],
   "source": [
    "df_32_EYE[df_32_EYE['ET_ValidityLeft'] == 1].shape"
   ]
  },
  {
   "cell_type": "code",
   "execution_count": null,
   "id": "ff7a907e",
   "metadata": {},
   "outputs": [],
   "source": [
    "df_32_EYE[df_32_EYE['ET_ValidityRight'] == 1].shape"
   ]
  },
  {
   "cell_type": "code",
   "execution_count": null,
   "id": "7aa720a4",
   "metadata": {},
   "outputs": [],
   "source": [
    "plt.figure(figsize=(18, 8))\n",
    "\n",
    "plt.subplot(1, 2, 1)\n",
    "sns.heatmap(df_32_EYE == -1, cmap='viridis')\n",
    "plt.title('Heatmap of -1 Values')\n",
    "\n",
    "plt.subplot(1, 2, 2)\n",
    "sns.heatmap(df_32_EYE == 1, cmap='viridis')\n",
    "plt.title('Heatmap of 1 Values')\n",
    "\n",
    "plt.tight_layout()\n",
    "plt.show()"
   ]
  },
  {
   "cell_type": "code",
   "execution_count": null,
   "id": "cd5e0a56",
   "metadata": {},
   "outputs": [],
   "source": [
    "df_32_EYE[df_32_EYE['ET_PupilLeft'] == -1].shape"
   ]
  },
  {
   "cell_type": "code",
   "execution_count": null,
   "id": "d16a99ff",
   "metadata": {},
   "outputs": [],
   "source": [
    "df_32_EYE[df_32_EYE['ET_PupilRight'] == -1].shape"
   ]
  },
  {
   "cell_type": "code",
   "execution_count": null,
   "id": "af39ddaf",
   "metadata": {},
   "outputs": [],
   "source": [
    "df_32_EYE[df_32_EYE['ET_PupilLeft'] == -1].shape[0] / df_32_EYE.shape[0]"
   ]
  },
  {
   "cell_type": "code",
   "execution_count": null,
   "id": "4f64d4be",
   "metadata": {},
   "outputs": [],
   "source": [
    "df_32_EYE[df_32_EYE['ET_PupilRight'] == -1].shape[0] / df_32_EYE.shape[0]"
   ]
  },
  {
   "cell_type": "code",
   "execution_count": null,
   "id": "840d760d",
   "metadata": {},
   "outputs": [],
   "source": [
    "plt.figure(figsize=(18, 8))\n",
    "\n",
    "plt.subplot(1, 2, 1)\n",
    "sns.heatmap(df_32_EYE[df_32_EYE['ET_ValidityLeft'] == 1] == -1, cmap='viridis')\n",
    "plt.title('Heatmap of -1 Values')\n",
    "\n",
    "plt.subplot(1, 2, 2)\n",
    "sns.heatmap(df_32_EYE[df_32_EYE['ET_ValidityRight'] == 1] == -1, cmap='viridis')\n",
    "plt.title('Heatmap of -1 Values')\n",
    "\n",
    "plt.tight_layout()\n",
    "plt.show()"
   ]
  },
  {
   "cell_type": "markdown",
   "id": "3c6e7867",
   "metadata": {},
   "source": [
    "# Notes & Observations\n",
    "\n",
    "- The heatmaps reveal the distribution of -1 values across different columns.\n",
    "- It is evident that the `-1` values are not randomly scattered but appear in specific columns, notably `ET_GazeLeftx`, `ET_GazeLefty`, `ET_GazeRightx`, `ET_GazeRighty`, `ET_PupilLeft`, `ET_PupilRight`, `ET_DistanceLeft`, `ET_DistanceRight`, `ET_CameraLeftX`, `ET_CameraLeftY`, `ET_CameraRightX`, and `ET_CameraRightY`.\n",
    "- These `-1` values often coincide with instances where `ET_ValidityLeft` or `ET_ValidityRight` is 1, indicating invalid eye-tracking data. This suggests that `-1` is used as a placeholder for missing or invalid measurements in these columns when the eye tracker is not providing valid data for a particular eye.\n",
    "- Given that over 70% of the data in the `ET_PupilLeft` and `ET_PupilRight` columns is marked as invalid (-1), these columns may not be suitable for analysis and could be considered for dropping."
   ]
  },
  {
   "cell_type": "code",
   "execution_count": null,
   "id": "4ed9f243",
   "metadata": {},
   "outputs": [],
   "source": [
    "df_32_EYE.drop(['ET_PupilLeft', 'ET_PupilRight'], axis=1, inplace=True)"
   ]
  },
  {
   "cell_type": "code",
   "execution_count": null,
   "id": "b5ade5ca",
   "metadata": {},
   "outputs": [],
   "source": [
    "df_32_EYE.head()"
   ]
  },
  {
   "cell_type": "code",
   "execution_count": null,
   "id": "c14f9b88",
   "metadata": {},
   "outputs": [],
   "source": [
    "plt.figure(figsize=(18, 8))\n",
    "\n",
    "plt.subplot(1, 2, 1)\n",
    "sns.heatmap(df_32_EYE == -1, cmap='viridis')\n",
    "plt.title('Heatmap of -1 Values')\n",
    "\n",
    "plt.subplot(1, 2, 2)\n",
    "sns.heatmap(df_32_EYE == 1, cmap='viridis')\n",
    "plt.title('Heatmap of -1 Values')\n",
    "\n",
    "plt.tight_layout()\n",
    "plt.show()"
   ]
  },
  {
   "cell_type": "code",
   "execution_count": null,
   "id": "0c76c44f",
   "metadata": {},
   "outputs": [],
   "source": [
    "valid_left_ratio  = 1 - df_32_EYE['ET_ValidityLeft'].mean()\n",
    "valid_right_ratio = 1 - df_32_EYE['ET_ValidityRight'].mean()"
   ]
  },
  {
   "cell_type": "code",
   "execution_count": null,
   "id": "b224daf7",
   "metadata": {},
   "outputs": [],
   "source": [
    "valid_left_ratio"
   ]
  },
  {
   "cell_type": "code",
   "execution_count": null,
   "id": "c3c9b1c0",
   "metadata": {},
   "outputs": [],
   "source": [
    "valid_right_ratio"
   ]
  },
  {
   "cell_type": "code",
   "execution_count": null,
   "id": "ba5a25a1",
   "metadata": {},
   "outputs": [],
   "source": [
    "df_32_EYE.head()"
   ]
  },
  {
   "cell_type": "code",
   "execution_count": null,
   "id": "b4fec8c4",
   "metadata": {},
   "outputs": [],
   "source": [
    "# Select only the numeric columns for plotting histograms, excluding time-related columns\n",
    "numeric_cols = df_32_EYE.select_dtypes(include=np.number).columns\n",
    "cols_to_plot = [col for col in numeric_cols if col not in ['UnixTime']]\n",
    "\n",
    "# Calculate the number of rows and columns for the grid\n",
    "n_cols = 4  # You can adjust the number of columns as needed\n",
    "n_rows = (len(cols_to_plot) + n_cols - 1) // n_cols\n",
    "\n",
    "plt.figure(figsize=(n_cols * 5, n_rows * 4)) # Adjust figure size as needed\n",
    "\n",
    "for i, col in enumerate(cols_to_plot):\n",
    "    plt.subplot(n_rows, n_cols, i + 1)\n",
    "    sns.histplot(df_32_EYE[col], kde=True)\n",
    "    plt.title(f'Distribution of {col}')\n",
    "    plt.xlabel(col)\n",
    "    plt.ylabel('Frequency')\n",
    "\n",
    "plt.tight_layout()\n",
    "plt.show()"
   ]
  },
  {
   "cell_type": "code",
   "execution_count": null,
   "id": "75358556",
   "metadata": {},
   "outputs": [],
   "source": [
    "df_32_EYE.columns"
   ]
  },
  {
   "cell_type": "code",
   "execution_count": null,
   "id": "1eac1b3a",
   "metadata": {},
   "outputs": [],
   "source": [
    "cols = ['ET_GazeLeftx', 'ET_GazeLefty',\n",
    "       'ET_GazeRightx', 'ET_GazeRighty', 'ET_TimeSignal', 'ET_DistanceLeft',\n",
    "       'ET_DistanceRight', 'ET_CameraLeftX', 'ET_CameraLeftY',\n",
    "       'ET_CameraRightX', 'ET_CameraRightY', 'ET_ValidityLeft',\n",
    "       'ET_ValidityRight']"
   ]
  },
  {
   "cell_type": "code",
   "execution_count": null,
   "id": "d2438f78",
   "metadata": {},
   "outputs": [],
   "source": [
    "from IPython.display import display, Markdown\n",
    "\n",
    "for col in cols:\n",
    "    # Add a markdown cell before each plot for better separation and labeling\n",
    "    display(Markdown(f'### {col} over Time'))\n",
    "    plt.figure(figsize=(16, 10))\n",
    "    plt.plot(df_32_EYE['Timestamp'], df_32_EYE[col])\n",
    "    plt.xlabel(\"Timestamp\") # Add x-axis label\n",
    "    plt.ylabel(col) # Add y-axis label\n",
    "    plt.show()"
   ]
  },
  {
   "cell_type": "code",
   "execution_count": null,
   "id": "c17fcdaa",
   "metadata": {},
   "outputs": [],
   "source": [
    "# Select only the numeric columns for plotting histograms, excluding time-related columns\n",
    "numeric_cols = df_32_EYE.select_dtypes(include=np.number).columns\n",
    "\n",
    "# Calculate the number of rows and columns for the grid\n",
    "n_cols = 4  # You can adjust the number of columns as needed\n",
    "n_rows = (len(numeric_cols) + n_cols - 1) // n_cols\n",
    "\n",
    "plt.figure(figsize=(n_cols * 5, n_rows * 4)) # Adjust figure size as needed\n",
    "\n",
    "for i, col in enumerate(numeric_cols):\n",
    "    plt.subplot(n_rows, n_cols, i + 1)\n",
    "    sns.boxplot(df_32_EYE[col])\n",
    "    plt.title(f'Boxplot of {col}')\n",
    "    plt.xlabel(col)\n",
    "\n",
    "plt.tight_layout()\n",
    "plt.show()"
   ]
  },
  {
   "cell_type": "code",
   "execution_count": null,
   "id": "d3f5e6be",
   "metadata": {},
   "outputs": [],
   "source": [
    "df_32_EYE.replace({-1: np.nan}, inplace=True)"
   ]
  },
  {
   "cell_type": "code",
   "execution_count": null,
   "id": "7a4f7d54",
   "metadata": {},
   "outputs": [],
   "source": [
    "numeric_cols = df_32_EYE.select_dtypes(include=np.number).columns\n",
    "\n",
    "for col in numeric_cols:\n",
    "    df_32_EYE[col].fillna(df_32_EYE[col].mean(), inplace=True)"
   ]
  },
  {
   "cell_type": "code",
   "execution_count": null,
   "id": "a6901b47",
   "metadata": {},
   "outputs": [],
   "source": [
    "df_32_EYE.head()"
   ]
  },
  {
   "cell_type": "code",
   "execution_count": null,
   "id": "87cf4e72",
   "metadata": {},
   "outputs": [],
   "source": [
    "# Select only the numeric columns for plotting histograms, excluding time-related columns\n",
    "numeric_cols = df_32_EYE.select_dtypes(include=np.number).columns\n",
    "cols_to_plot = [col for col in numeric_cols if col not in ['UnixTime']]\n",
    "\n",
    "# Calculate the number of rows and columns for the grid\n",
    "n_cols = 4  # You can adjust the number of columns as needed\n",
    "n_rows = (len(cols_to_plot) + n_cols - 1) // n_cols\n",
    "\n",
    "plt.figure(figsize=(n_cols * 5, n_rows * 4)) # Adjust figure size as needed\n",
    "\n",
    "for i, col in enumerate(cols_to_plot):\n",
    "    plt.subplot(n_rows, n_cols, i + 1)\n",
    "    sns.histplot(df_32_EYE[col], kde=True)\n",
    "    plt.title(f'Distribution of {col}')\n",
    "    plt.xlabel(col)\n",
    "    plt.ylabel('Frequency')\n",
    "\n",
    "plt.tight_layout()\n",
    "plt.show()"
   ]
  },
  {
   "cell_type": "code",
   "execution_count": null,
   "id": "ae5c297b",
   "metadata": {},
   "outputs": [],
   "source": []
  },
  {
   "cell_type": "code",
   "execution_count": null,
   "id": "2009651a",
   "metadata": {},
   "outputs": [],
   "source": []
  },
  {
   "cell_type": "code",
   "execution_count": null,
   "id": "9274880b",
   "metadata": {},
   "outputs": [],
   "source": []
  },
  {
   "cell_type": "code",
   "execution_count": null,
   "id": "206c9bb2",
   "metadata": {},
   "outputs": [],
   "source": []
  },
  {
   "cell_type": "code",
   "execution_count": null,
   "id": "705e46da",
   "metadata": {},
   "outputs": [],
   "source": []
  },
  {
   "cell_type": "code",
   "execution_count": null,
   "id": "1cf44017",
   "metadata": {},
   "outputs": [],
   "source": []
  },
  {
   "cell_type": "code",
   "execution_count": null,
   "id": "89fc95b1",
   "metadata": {},
   "outputs": [],
   "source": []
  },
  {
   "cell_type": "code",
   "execution_count": null,
   "id": "f65809b4",
   "metadata": {},
   "outputs": [],
   "source": []
  },
  {
   "cell_type": "code",
   "execution_count": null,
   "id": "24e30827",
   "metadata": {},
   "outputs": [],
   "source": []
  },
  {
   "cell_type": "code",
   "execution_count": null,
   "id": "efb487cf",
   "metadata": {},
   "outputs": [],
   "source": []
  },
  {
   "cell_type": "code",
   "execution_count": null,
   "id": "75c3046e",
   "metadata": {},
   "outputs": [],
   "source": []
  },
  {
   "cell_type": "code",
   "execution_count": null,
   "id": "5e082c83",
   "metadata": {},
   "outputs": [],
   "source": []
  },
  {
   "cell_type": "markdown",
   "id": "dfbb6b20",
   "metadata": {},
   "source": [
    "# Eye Tracking Data Analysis\n",
    "\n",
    "This notebook performs exploratory data analysis and cleaning on eye-tracking data.\n",
    "\n",
    "## Data Loading and Initial Inspection"
   ]
  },
  {
   "cell_type": "code",
   "execution_count": null,
   "id": "331f456e",
   "metadata": {},
   "outputs": [],
   "source": [
    "%load_ext cudf"
   ]
  },
  {
   "cell_type": "markdown",
   "id": "eacb3b09",
   "metadata": {},
   "source": [
    "Import necessary libraries for data manipulation, analysis, and visualization."
   ]
  },
  {
   "cell_type": "code",
   "execution_count": null,
   "id": "aa3cb86b",
   "metadata": {},
   "outputs": [],
   "source": [
    "import numpy as np\n",
    "import pandas as pd\n",
    "import matplotlib.pyplot as plt\n",
    "import seaborn as sns"
   ]
  },
  {
   "cell_type": "markdown",
   "id": "a5a4c3c6",
   "metadata": {},
   "source": [
    "Import libraries for datashader, which can be used for visualizing large datasets."
   ]
  },
  {
   "cell_type": "code",
   "execution_count": null,
   "id": "4c8ec255",
   "metadata": {},
   "outputs": [],
   "source": [
    "import datashader as ds\n",
    "import datashader.transfer_functions as tf"
   ]
  },
  {
   "cell_type": "markdown",
   "id": "6276bae0",
   "metadata": {},
   "source": [
    "Set pandas display options to show all columns."
   ]
  },
  {
   "cell_type": "code",
   "execution_count": null,
   "id": "cace52d4",
   "metadata": {},
   "outputs": [],
   "source": [
    "pd.set_option('display.max_columns', None)"
   ]
  },
  {
   "cell_type": "markdown",
   "id": "284930eb",
   "metadata": {},
   "source": [
    "Load the eye-tracking data from the specified CSV file into a pandas DataFrame."
   ]
  },
  {
   "cell_type": "code",
   "execution_count": null,
   "id": "3f1c57bb",
   "metadata": {},
   "outputs": [],
   "source": [
    "df_32_EYE = pd.read_csv('data/STData/32/32_EYE.csv')"
   ]
  },
  {
   "cell_type": "markdown",
   "id": "eb235097",
   "metadata": {},
   "source": [
    "Display the first few rows of the DataFrame to get an initial look at the data structure and content."
   ]
  },
  {
   "cell_type": "code",
   "execution_count": null,
   "id": "7ba83318",
   "metadata": {},
   "outputs": [],
   "source": [
    "df_32_EYE.head()"
   ]
  },
  {
   "cell_type": "markdown",
   "id": "94301e63",
   "metadata": {},
   "source": [
    "Check the dimensions (number of rows and columns) of the DataFrame."
   ]
  },
  {
   "cell_type": "code",
   "execution_count": null,
   "id": "6a521439",
   "metadata": {},
   "outputs": [],
   "source": [
    "df_32_EYE.shape"
   ]
  },
  {
   "cell_type": "markdown",
   "id": "1b637a84",
   "metadata": {},
   "source": [
    "List the names of all columns in the DataFrame."
   ]
  },
  {
   "cell_type": "code",
   "execution_count": null,
   "id": "045c7aeb",
   "metadata": {},
   "outputs": [],
   "source": [
    "df_32_EYE.columns"
   ]
  },
  {
   "cell_type": "markdown",
   "id": "fad33f34",
   "metadata": {},
   "source": [
    "Display concise information about the DataFrame, including the data types of each column and the number of non-null values. This helps identify columns with missing data."
   ]
  },
  {
   "cell_type": "code",
   "execution_count": null,
   "id": "ba84ac1e",
   "metadata": {},
   "outputs": [],
   "source": [
    "df_32_EYE.info()"
   ]
  },
  {
   "cell_type": "markdown",
   "id": "88287339",
   "metadata": {},
   "source": [
    "Calculate and display the number of missing values in each column."
   ]
  },
  {
   "cell_type": "code",
   "execution_count": null,
   "id": "71a91869",
   "metadata": {},
   "outputs": [],
   "source": [
    "df_32_EYE.isnull().sum()"
   ]
  },
  {
   "cell_type": "markdown",
   "id": "c0061966",
   "metadata": {},
   "source": [
    "Visualize the distribution of missing values using a heatmap. This provides a visual representation of which columns have missing data and the extent of missingness."
   ]
  },
  {
   "cell_type": "code",
   "execution_count": null,
   "id": "5fc58d4a",
   "metadata": {},
   "outputs": [],
   "source": [
    "plt.figure(figsize=(12,8))\n",
    "sns.heatmap(df_32_EYE.isnull(), cmap='viridis')\n",
    "plt.show()"
   ]
  },
  {
   "cell_type": "markdown",
   "id": "4e30c6e6",
   "metadata": {},
   "source": [
    "# Notes & Observations\n",
    "\n",
    "- We observe many **null** (or missing) values in the `QuestionKey` columns.\n",
    "- The nulls in the `QuestionKey` column may not represent “true” nulls. Rather, they follow interval patterns, suggesting that during those periods no question was displayed.\n",
    "- These missing values in `QuestionKey` require additional investigation and context-aware handling."
   ]
  },
  {
   "cell_type": "markdown",
   "id": "0ff89408",
   "metadata": {},
   "source": [
    "Display the unique values in the `QuestionKey` column to understand the different types of questions or states recorded."
   ]
  },
  {
   "cell_type": "code",
   "execution_count": null,
   "id": "64b1e677",
   "metadata": {},
   "outputs": [],
   "source": [
    "df_32_EYE['QuestionKey'].unique()"
   ]
  },
  {
   "cell_type": "markdown",
   "id": "5b7ca576",
   "metadata": {},
   "source": [
    "Convert the `Timestamp` column to datetime objects. This is crucial for any time series analysis or manipulation."
   ]
  },
  {
   "cell_type": "code",
   "execution_count": null,
   "id": "2be6db9d",
   "metadata": {},
   "outputs": [],
   "source": [
    "df_32_EYE['Timestamp'] = pd.to_datetime(df_32_EYE['Timestamp'])"
   ]
  },
  {
   "cell_type": "markdown",
   "id": "46e40e5b",
   "metadata": {},
   "source": [
    "Display the first few rows again to see the effect of the timestamp conversion."
   ]
  },
  {
   "cell_type": "code",
   "execution_count": null,
   "id": "13244f10",
   "metadata": {},
   "outputs": [],
   "source": [
    "df_32_EYE.head(3)"
   ]
  },
  {
   "cell_type": "markdown",
   "id": "33a4b182",
   "metadata": {},
   "source": [
    "Fill the missing values in the `QuestionKey` column with the string 'None'. This helps to explicitly mark periods where no question was active."
   ]
  },
  {
   "cell_type": "code",
   "execution_count": null,
   "id": "e37eea84",
   "metadata": {},
   "outputs": [],
   "source": [
    "df_32_EYE['QuestionKey'].fillna('None', inplace=True)"
   ]
  },
  {
   "cell_type": "markdown",
   "id": "1833e13f",
   "metadata": {},
   "source": [
    "Count the occurrences of each unique value in the `QuestionKey` column after filling missing values."
   ]
  },
  {
   "cell_type": "code",
   "execution_count": null,
   "id": "f5ad7692",
   "metadata": {},
   "outputs": [],
   "source": [
    "df_32_EYE['QuestionKey'].value_counts()"
   ]
  },
  {
   "cell_type": "markdown",
   "id": "20eb7804",
   "metadata": {},
   "source": [
    "Display the heatmap of missing values again to confirm that the missing values in `QuestionKey` have been handled."
   ]
  },
  {
   "cell_type": "code",
   "execution_count": null,
   "id": "f1079c0b",
   "metadata": {},
   "outputs": [],
   "source": [
    "plt.figure(figsize=(12,8))\n",
    "sns.heatmap(df_32_EYE.isnull(), cmap='viridis')\n",
    "plt.show()"
   ]
  },
  {
   "cell_type": "markdown",
   "id": "f36f06ab",
   "metadata": {},
   "source": [
    "Recalculate and display the number of missing values per column to confirm the changes after handling `QuestionKey`."
   ]
  },
  {
   "cell_type": "code",
   "execution_count": null,
   "id": "534cd922",
   "metadata": {},
   "outputs": [],
   "source": [
    "df_32_EYE.isnull().sum()"
   ]
  },
  {
   "cell_type": "markdown",
   "id": "134dfa49",
   "metadata": {},
   "source": [
    "Drop rows that still contain any missing values. This is done after handling `QuestionKey` separately."
   ]
  },
  {
   "cell_type": "code",
   "execution_count": null,
   "id": "d42ce1e4",
   "metadata": {},
   "outputs": [],
   "source": [
    "df_32_EYE.dropna(inplace=True)"
   ]
  },
  {
   "cell_type": "markdown",
   "id": "9d78341d",
   "metadata": {},
   "source": [
    "Display the first few rows after dropping rows with missing values."
   ]
  },
  {
   "cell_type": "code",
   "execution_count": null,
   "id": "0d94f7aa",
   "metadata": {},
   "outputs": [],
   "source": [
    "df_32_EYE.head()"
   ]
  },
  {
   "cell_type": "markdown",
   "id": "04633f27",
   "metadata": {},
   "source": [
    "Display the unique values in the `Row` column."
   ]
  },
  {
   "cell_type": "code",
   "execution_count": null,
   "id": "cf89d6ee",
   "metadata": {},
   "outputs": [],
   "source": [
    "df_32_EYE['Row'].unique()"
   ]
  },
  {
   "cell_type": "markdown",
   "id": "d377a6da",
   "metadata": {},
   "source": [
    "Plot a histogram of the `Row` column to visualize its distribution."
   ]
  },
  {
   "cell_type": "code",
   "execution_count": null,
   "id": "70773984",
   "metadata": {},
   "outputs": [],
   "source": [
    "plt.figure(figsize=(8,6))\n",
    "sns.histplot(df_32_EYE['Row'])\n",
    "plt.show()"
   ]
  },
  {
   "cell_type": "markdown",
   "id": "366acffa",
   "metadata": {},
   "source": [
    "# Notes & Observations\n",
    "\n",
    "- The `Row` column appears to be a simple row index and does not provide meaningful information relevant to the eye-tracking data itself. Therefore, it can be dropped."
   ]
  },
  {
   "cell_type": "markdown",
   "id": "031c6b6a",
   "metadata": {},
   "source": [
    "Drop the `Row` column as it is not relevant for the analysis."
   ]
  },
  {
   "cell_type": "code",
   "execution_count": null,
   "id": "f2d700fc",
   "metadata": {},
   "outputs": [],
   "source": [
    "df_32_EYE.drop('Row', axis=1, inplace=True)"
   ]
  },
  {
   "cell_type": "markdown",
   "id": "0c9afb58",
   "metadata": {},
   "source": [
    "Display the unique values in the `ET_ValidityLeft` column."
   ]
  },
  {
   "cell_type": "code",
   "execution_count": null,
   "id": "ead739bf",
   "metadata": {},
   "outputs": [],
   "source": [
    "df_32_EYE['ET_ValidityLeft'].unique()"
   ]
  },
  {
   "cell_type": "markdown",
   "id": "63b32e8e",
   "metadata": {},
   "source": [
    "Count the occurrences of each unique value in the `ET_ValidityLeft` column."
   ]
  },
  {
   "cell_type": "code",
   "execution_count": null,
   "id": "87c3e96f",
   "metadata": {},
   "outputs": [],
   "source": [
    "df_32_EYE['ET_ValidityLeft'].value_counts()"
   ]
  },
  {
   "cell_type": "markdown",
   "id": "e46af6fe",
   "metadata": {},
   "source": [
    "Display the unique values in the `ET_ValidityRight` column."
   ]
  },
  {
   "cell_type": "code",
   "execution_count": null,
   "id": "71a1fcb6",
   "metadata": {},
   "outputs": [],
   "source": [
    "df_32_EYE['ET_ValidityRight'].unique()"
   ]
  },
  {
   "cell_type": "markdown",
   "id": "51528165",
   "metadata": {},
   "source": [
    "Count the occurrences of each unique value in the `ET_ValidityRight` column."
   ]
  },
  {
   "cell_type": "code",
   "execution_count": null,
   "id": "4c9f7875",
   "metadata": {},
   "outputs": [],
   "source": [
    "df_32_EYE['ET_ValidityRight'].value_counts()"
   ]
  },
  {
   "cell_type": "markdown",
   "id": "616ed5e7",
   "metadata": {},
   "source": [
    "Visualize the counts of valid and invalid data for both left and right eyes using bar plots."
   ]
  },
  {
   "cell_type": "code",
   "execution_count": null,
   "id": "c38e6c23",
   "metadata": {},
   "outputs": [],
   "source": [
    "plt.figure(figsize=(12, 6))\n",
    "\n",
    "plt.subplot(1, 2, 1)\n",
    "sns.barplot(x=df_32_EYE['ET_ValidityLeft'].value_counts().index, y=df_32_EYE['ET_ValidityLeft'].value_counts().values)\n",
    "plt.title('Count of ET_ValidityLeft')\n",
    "plt.xlabel('Validity')\n",
    "plt.ylabel('Count')\n",
    "\n",
    "\n",
    "plt.subplot(1, 2, 2)\n",
    "sns.barplot(x=df_32_EYE['ET_ValidityRight'].value_counts().index, y=df_32_EYE['ET_ValidityRight'].value_counts().values)\n",
    "plt.title('Count of ET_ValidityRight')\n",
    "plt.xlabel('Validity')\n",
    "plt.ylabel('Count')\n",
    "\n",
    "plt.tight_layout()\n",
    "plt.show()"
   ]
  },
  {
   "cell_type": "markdown",
   "id": "0a7ae6b4",
   "metadata": {},
   "source": [
    "# Notes & Observations\n",
    "\n",
    "- The `ET_ValidityLeft` and `ET_ValidityRight` columns indicate the validity of the eye-tracking data for the left and right eye, respectively.\n",
    "- Based on the value counts and the bar plots, it appears that a value of `0.0` represents valid eye-tracking data, while a value of `4.0` represents invalid data.\n",
    "- Although the amount of invalid data is relatively small, removing these rows could introduce unwanted patterns or gaps in the time series data.\n",
    "- Therefore, we will keep the data and replace the value `4.0` with `1.0` in both `ET_ValidityLeft` and `ET_ValidityRight` columns. This will indicate to a machine learning model that the eye tracker had invalid data at those specific points in time while maintaining the integrity of the time series."
   ]
  },
  {
   "cell_type": "markdown",
   "id": "24bf583b",
   "metadata": {},
   "source": [
    "Define a mapping to convert validity values from `0.0` and `4.0` to `0` and `1`."
   ]
  },
  {
   "cell_type": "code",
   "execution_count": null,
   "id": "6c87bf76",
   "metadata": {},
   "outputs": [],
   "source": [
    "validity_map = {4.0: 1.0, 0.0: 0.0}"
   ]
  },
  {
   "cell_type": "markdown",
   "id": "371aedec",
   "metadata": {},
   "source": [
    "Apply the mapping to the `ET_ValidityLeft` and `ET_ValidityRight` columns and convert the data type to integer."
   ]
  },
  {
   "cell_type": "code",
   "execution_count": null,
   "id": "9687bb94",
   "metadata": {},
   "outputs": [],
   "source": [
    "df_32_EYE['ET_ValidityLeft'] = df_32_EYE['ET_ValidityLeft'].map(validity_map).astype(np.int8)\n",
    "df_32_EYE['ET_ValidityRight'] = df_32_EYE['ET_ValidityRight'].map(validity_map).astype(np.int8)"
   ]
  },
  {
   "cell_type": "markdown",
   "id": "ff6a5636",
   "metadata": {},
   "source": [
    "Display the first few rows to see the updated validity columns."
   ]
  },
  {
   "cell_type": "code",
   "execution_count": null,
   "id": "bd1ddb88",
   "metadata": {},
   "outputs": [],
   "source": [
    "df_32_EYE.head(3)"
   ]
  },
  {
   "cell_type": "markdown",
   "id": "43d2e38e",
   "metadata": {},
   "source": [
    "Display descriptive statistics for the DataFrame, including count, mean, standard deviation, min, max, and quartiles for numeric columns."
   ]
  },
  {
   "cell_type": "code",
   "execution_count": null,
   "id": "2afae622",
   "metadata": {},
   "outputs": [],
   "source": [
    "df_32_EYE.describe()"
   ]
  },
  {
   "cell_type": "markdown",
   "id": "fc2e7369",
   "metadata": {},
   "source": [
    "Check the number of rows where `ET_ValidityLeft` is 1 (invalid data for the left eye)."
   ]
  },
  {
   "cell_type": "code",
   "execution_count": null,
   "id": "75350945",
   "metadata": {},
   "outputs": [],
   "source": [
    "df_32_EYE[df_32_EYE['ET_ValidityLeft'] == 1].shape"
   ]
  },
  {
   "cell_type": "markdown",
   "id": "b93dda48",
   "metadata": {},
   "source": [
    "Check the number of rows where `ET_ValidityRight` is 1 (invalid data for the right eye)."
   ]
  },
  {
   "cell_type": "code",
   "execution_count": null,
   "id": "5097e9d9",
   "metadata": {},
   "outputs": [],
   "source": [
    "df_32_EYE[df_32_EYE['ET_ValidityRight'] == 1].shape"
   ]
  },
  {
   "cell_type": "markdown",
   "id": "5ccfe177",
   "metadata": {},
   "source": [
    "Visualize the distribution of -1 and 1 values across columns using heatmaps. This helps identify columns with placeholder or indicator values."
   ]
  },
  {
   "cell_type": "code",
   "execution_count": null,
   "id": "b3c132e4",
   "metadata": {},
   "outputs": [],
   "source": [
    "plt.figure(figsize=(18, 8))\n",
    "\n",
    "plt.subplot(1, 2, 1)\n",
    "sns.heatmap(df_32_EYE == -1, cmap='viridis')\n",
    "plt.title('Heatmap of -1 Values')\n",
    "\n",
    "plt.subplot(1, 2, 2)\n",
    "sns.heatmap(df_32_EYE == 1, cmap='viridis')\n",
    "plt.title('Heatmap of 1 Values')\n",
    "\n",
    "plt.tight_layout()\n",
    "plt.show()"
   ]
  },
  {
   "cell_type": "markdown",
   "id": "ac6190bb",
   "metadata": {},
   "source": [
    "Check the number of rows where `ET_PupilLeft` is -1."
   ]
  },
  {
   "cell_type": "code",
   "execution_count": null,
   "id": "8006d92d",
   "metadata": {},
   "outputs": [],
   "source": [
    "df_32_EYE[df_32_EYE['ET_PupilLeft'] == -1].shape"
   ]
  },
  {
   "cell_type": "markdown",
   "id": "b7314da2",
   "metadata": {},
   "source": [
    "Check the number of rows where `ET_PupilRight` is -1."
   ]
  },
  {
   "cell_type": "code",
   "execution_count": null,
   "id": "e5be65f0",
   "metadata": {},
   "outputs": [],
   "source": [
    "df_32_EYE[df_32_EYE['ET_PupilRight'] == -1].shape"
   ]
  },
  {
   "cell_type": "markdown",
   "id": "67311df6",
   "metadata": {},
   "source": [
    "Calculate the ratio of rows with -1 values in the `ET_PupilLeft` column to the total number of rows."
   ]
  },
  {
   "cell_type": "code",
   "execution_count": null,
   "id": "86ec5599",
   "metadata": {},
   "outputs": [],
   "source": [
    "df_32_EYE[df_32_EYE['ET_PupilLeft'] == -1].shape[0] / df_32_EYE.shape[0]"
   ]
  },
  {
   "cell_type": "markdown",
   "id": "be1d698a",
   "metadata": {},
   "source": [
    "Calculate the ratio of rows with -1 values in the `ET_PupilRight` column to the total number of rows."
   ]
  },
  {
   "cell_type": "code",
   "execution_count": null,
   "id": "22a00152",
   "metadata": {},
   "outputs": [],
   "source": [
    "df_32_EYE[df_32_EYE['ET_PupilRight'] == -1].shape[0] / df_32_EYE.shape[0]"
   ]
  },
  {
   "cell_type": "markdown",
   "id": "f9533b89",
   "metadata": {},
   "source": [
    "Visualize the distribution of -1 values specifically for rows where validity is 1 (invalid data)."
   ]
  },
  {
   "cell_type": "code",
   "execution_count": null,
   "id": "f0a90281",
   "metadata": {},
   "outputs": [],
   "source": [
    "plt.figure(figsize=(18, 8))\n",
    "\n",
    "plt.subplot(1, 2, 1)\n",
    "sns.heatmap(df_32_EYE[df_32_EYE['ET_ValidityLeft'] == 1] == -1, cmap='viridis')\n",
    "plt.title('Heatmap of -1 Values')\n",
    "\n",
    "plt.subplot(1, 2, 2)\n",
    "sns.heatmap(df_32_EYE[df_32_EYE['ET_ValidityRight'] == 1] == -1, cmap='viridis')\n",
    "plt.title('Heatmap of -1 Values')\n",
    "\n",
    "plt.tight_layout()\n",
    "plt.show()"
   ]
  },
  {
   "cell_type": "markdown",
   "id": "ac515992",
   "metadata": {},
   "source": [
    "# Notes & Observations\n",
    "\n",
    "- The heatmaps reveal the distribution of -1 values across different columns.\n",
    "- It is evident that the `-1` values are not randomly scattered but appear in specific columns, notably `ET_GazeLeftx`, `ET_GazeLefty`, `ET_GazeRightx`, `ET_GazeRighty`, `ET_PupilLeft`, `ET_PupilRight`, `ET_DistanceLeft`, `ET_DistanceRight`, `ET_CameraLeftX`, `ET_CameraLeftY`, `ET_CameraRightX`, and `ET_CameraRightY`.\n",
    "- These `-1` values often coincide with instances where `ET_ValidityLeft` or `ET_ValidityRight` is 1, indicating invalid eye-tracking data. This suggests that `-1` is used as a placeholder for missing or invalid measurements in these columns when the eye tracker is not providing valid data for a particular eye.\n",
    "- Given that over 70% of the data in the `ET_PupilLeft` and `ET_PupilRight` columns is marked as invalid (-1), these columns may not be suitable for analysis and could be considered for dropping."
   ]
  },
  {
   "cell_type": "markdown",
   "id": "e7b16648",
   "metadata": {},
   "source": [
    "Drop the `ET_PupilLeft` and `ET_PupilRight` columns due to the high percentage of invalid data."
   ]
  },
  {
   "cell_type": "code",
   "execution_count": null,
   "id": "befb127a",
   "metadata": {},
   "outputs": [],
   "source": [
    "df_32_EYE.drop(['ET_PupilLeft', 'ET_PupilRight'], axis=1, inplace=True)"
   ]
  },
  {
   "cell_type": "markdown",
   "id": "c2913a52",
   "metadata": {},
   "source": [
    "Display the first few rows after dropping the pupil columns."
   ]
  },
  {
   "cell_type": "code",
   "execution_count": null,
   "id": "72fb0ddf",
   "metadata": {},
   "outputs": [],
   "source": [
    "df_32_EYE.head()"
   ]
  },
  {
   "cell_type": "markdown",
   "id": "3ee2614f",
   "metadata": {},
   "source": [
    "Visualize the distribution of -1 and 1 values again after dropping the pupil columns."
   ]
  },
  {
   "cell_type": "code",
   "execution_count": null,
   "id": "6cfae96f",
   "metadata": {},
   "outputs": [],
   "source": [
    "plt.figure(figsize=(18, 8))\n",
    "\n",
    "plt.subplot(1, 2, 1)\n",
    "sns.heatmap(df_32_EYE == -1, cmap='viridis')\n",
    "plt.title('Heatmap of -1 Values')\n",
    "\n",
    "plt.subplot(1, 2, 2)\n",
    "sns.heatmap(df_32_EYE == 1, cmap='viridis')\n",
    "plt.title('Heatmap of -1 Values')\n",
    "\n",
    "plt.tight_layout()\n",
    "plt.show()"
   ]
  },
  {
   "cell_type": "markdown",
   "id": "cb214fff",
   "metadata": {},
   "source": [
    "Calculate the ratio of valid data points for the left eye."
   ]
  },
  {
   "cell_type": "code",
   "execution_count": null,
   "id": "0a3dc03d",
   "metadata": {},
   "outputs": [],
   "source": [
    "valid_left_ratio  = 1 - df_32_EYE['ET_ValidityLeft'].mean()"
   ]
  },
  {
   "cell_type": "markdown",
   "id": "cfa5e09e",
   "metadata": {},
   "source": [
    "Display the ratio of valid data points for the left eye."
   ]
  },
  {
   "cell_type": "code",
   "execution_count": null,
   "id": "622af9f7",
   "metadata": {},
   "outputs": [],
   "source": [
    "valid_left_ratio"
   ]
  },
  {
   "cell_type": "markdown",
   "id": "8bd699f6",
   "metadata": {},
   "source": [
    "Calculate the ratio of valid data points for the right eye."
   ]
  },
  {
   "cell_type": "code",
   "execution_count": null,
   "id": "1b067be8",
   "metadata": {},
   "outputs": [],
   "source": [
    "valid_right_ratio = 1 - df_32_EYE['ET_ValidityRight'].mean()"
   ]
  },
  {
   "cell_type": "markdown",
   "id": "6bf7a36d",
   "metadata": {},
   "source": [
    "Display the ratio of valid data points for the right eye."
   ]
  },
  {
   "cell_type": "code",
   "execution_count": null,
   "id": "32cf1a1b",
   "metadata": {},
   "outputs": [],
   "source": [
    "valid_right_ratio"
   ]
  },
  {
   "cell_type": "markdown",
   "id": "cb8dbdc6",
   "metadata": {},
   "source": [
    "Display the first few rows of the DataFrame."
   ]
  },
  {
   "cell_type": "code",
   "execution_count": null,
   "id": "7d5a13bf",
   "metadata": {},
   "outputs": [],
   "source": [
    "df_32_EYE.head()"
   ]
  },
  {
   "cell_type": "markdown",
   "id": "8abd24a8",
   "metadata": {},
   "source": [
    "Visualize the distributions of numeric columns using histograms with Kernel Density Estimate (KDE) plots. This helps understand the shape and spread of the data in each numeric column."
   ]
  },
  {
   "cell_type": "code",
   "execution_count": null,
   "id": "0b765977",
   "metadata": {},
   "outputs": [],
   "source": [
    "# Select only the numeric columns for plotting histograms, excluding time-related columns\n",
    "numeric_cols = df_32_EYE.select_dtypes(include=np.number).columns\n",
    "cols_to_plot = [col for col in numeric_cols if col not in ['UnixTime']]\n",
    "\n",
    "# Calculate the number of rows and columns for the grid\n",
    "n_cols = 4  # You can adjust the number of columns as needed\n",
    "n_rows = (len(cols_to_plot) + n_cols - 1) // n_cols\n",
    "\n",
    "plt.figure(figsize=(n_cols * 5, n_rows * 4)) # Adjust figure size as needed\n",
    "\n",
    "for i, col in enumerate(cols_to_plot):\n",
    "    plt.subplot(n_rows, n_cols, i + 1)\n",
    "    sns.histplot(df_32_EYE[col], kde=True)\n",
    "    plt.title(f'Distribution of {col}')\n",
    "    plt.xlabel(col)\n",
    "    plt.ylabel('Frequency')\n",
    "\n",
    "plt.tight_layout()\n",
    "plt.show()"
   ]
  },
  {
   "cell_type": "markdown",
   "id": "a49c21c5",
   "metadata": {},
   "source": [
    "List the names of the columns in the DataFrame."
   ]
  },
  {
   "cell_type": "code",
   "execution_count": null,
   "id": "0eec9d77",
   "metadata": {},
   "outputs": [],
   "source": [
    "df_32_EYE.columns"
   ]
  },
  {
   "cell_type": "markdown",
   "id": "30b27529",
   "metadata": {},
   "source": [
    "Define a list of columns to be plotted over time."
   ]
  },
  {
   "cell_type": "code",
   "execution_count": null,
   "id": "8e2adbd8",
   "metadata": {},
   "outputs": [],
   "source": [
    "cols = ['ET_GazeLeftx', 'ET_GazeLefty',\n",
    "       'ET_GazeRightx', 'ET_GazeRighty', 'ET_TimeSignal', 'ET_DistanceLeft',\n",
    "       'ET_DistanceRight', 'ET_CameraLeftX', 'ET_CameraLeftY',\n",
    "       'ET_CameraRightX', 'ET_CameraRightY', 'ET_ValidityLeft',\n",
    "       'ET_ValidityRight']"
   ]
  },
  {
   "cell_type": "markdown",
   "id": "95f851a5",
   "metadata": {},
   "source": [
    "Plot each of the selected columns against the timestamp to visualize their trends and patterns over time. Markdown cells are added before each plot for better readability."
   ]
  },
  {
   "cell_type": "code",
   "execution_count": null,
   "id": "672442c8",
   "metadata": {},
   "outputs": [],
   "source": [
    "from IPython.display import display, Markdown\n",
    "\n",
    "for col in cols:\n",
    "    # Add a markdown cell before each plot for better separation and labeling\n",
    "    display(Markdown(f'### {col} over Time'))\n",
    "    plt.figure(figsize=(16, 10))\n",
    "    plt.plot(df_32_EYE['Timestamp'], df_32_EYE[col])\n",
    "    plt.xlabel(\"Timestamp\") # Add x-axis label\n",
    "    plt.ylabel(col) # Add y-axis label\n",
    "    plt.show()"
   ]
  },
  {
   "cell_type": "markdown",
   "id": "17fe35c5",
   "metadata": {},
   "source": [
    "Visualize the distributions of numeric columns using boxplots. This helps identify potential outliers and the spread of the data."
   ]
  },
  {
   "cell_type": "code",
   "execution_count": null,
   "id": "88119ab7",
   "metadata": {},
   "outputs": [],
   "source": [
    "# Select only the numeric columns for plotting histograms, excluding time-related columns\n",
    "numeric_cols = df_32_EYE.select_dtypes(include=np.number).columns\n",
    "\n",
    "# Calculate the number of rows and columns for the grid\n",
    "n_cols = 4  # You can adjust the number of columns as needed\n",
    "n_rows = (len(numeric_cols) + n_cols - 1) // n_cols\n",
    "\n",
    "plt.figure(figsize=(n_cols * 5, n_rows * 4)) # Adjust figure size as needed\n",
    "\n",
    "for i, col in enumerate(numeric_cols):\n",
    "    plt.subplot(n_rows, n_cols, i + 1)\n",
    "    sns.boxplot(df_32_EYE[col])\n",
    "    plt.title(f'Boxplot of {col}')\n",
    "    plt.xlabel(col)\n",
    "\n",
    "plt.tight_layout()\n",
    "plt.show()"
   ]
  },
  {
   "cell_type": "markdown",
   "id": "1c4d1d2e",
   "metadata": {},
   "source": [
    "Replace the placeholder value -1 with NaN (Not a Number) in the DataFrame. This is done before imputation."
   ]
  },
  {
   "cell_type": "code",
   "execution_count": null,
   "id": "86819b96",
   "metadata": {},
   "outputs": [],
   "source": [
    "df_32_EYE.replace({-1: np.nan}, inplace=True)"
   ]
  },
  {
   "cell_type": "markdown",
   "id": "8cc87c03",
   "metadata": {},
   "source": [
    "Impute the missing values (NaN) in the numeric columns with the mean of each column."
   ]
  },
  {
   "cell_type": "code",
   "execution_count": null,
   "id": "3f4104fd",
   "metadata": {},
   "outputs": [],
   "source": [
    "numeric_cols = df_32_EYE.select_dtypes(include=np.number).columns\n",
    "\n",
    "for col in numeric_cols:\n",
    "    df_32_EYE[col].fillna(df_32_EYE[col].mean(), inplace=True)"
   ]
  },
  {
   "cell_type": "markdown",
   "id": "f73a3560",
   "metadata": {},
   "source": [
    "Display the first few rows after imputing missing values."
   ]
  },
  {
   "cell_type": "code",
   "execution_count": null,
   "id": "3fc41d00",
   "metadata": {},
   "outputs": [],
   "source": [
    "df_32_EYE.head()"
   ]
  },
  {
   "cell_type": "markdown",
   "id": "09e37b60",
   "metadata": {},
   "source": [
    "Visualize the distributions of numeric columns again using histograms with KDE plots after imputation. This helps assess the impact of imputation on the data distributions."
   ]
  },
  {
   "cell_type": "code",
   "execution_count": null,
   "id": "c770496b",
   "metadata": {},
   "outputs": [],
   "source": [
    "# Select only the numeric columns for plotting histograms, excluding time-related columns\n",
    "numeric_cols = df_32_EYE.select_dtypes(include=np.number).columns\n",
    "cols_to_plot = [col for col in numeric_cols if col not in ['UnixTime']]\n",
    "\n",
    "# Calculate the number of rows and columns for the grid\n",
    "n_cols = 4  # You can adjust the number of columns as needed\n",
    "n_rows = (len(cols_to_plot) + n_cols - 1) // n_cols\n",
    "\n",
    "plt.figure(figsize=(n_cols * 5, n_rows * 4)) # Adjust figure size as needed\n",
    "\n",
    "for i, col in enumerate(cols_to_plot):\n",
    "    plt.subplot(n_rows, n_cols, i + 1)\n",
    "    sns.histplot(df_32_EYE[col], kde=True)\n",
    "    plt.title(f'Distribution of {col}')\n",
    "    plt.xlabel(col)\n",
    "    plt.ylabel('Frequency')\n",
    "\n",
    "plt.tight_layout()\n",
    "plt.show()"
   ]
  },
  {
   "cell_type": "code",
   "execution_count": null,
   "id": "9debaba9",
   "metadata": {},
   "outputs": [],
   "source": []
  },
  {
   "cell_type": "markdown",
   "id": "c4162f22",
   "metadata": {},
   "source": [
    "## Student 33"
   ]
  },
  {
   "cell_type": "code",
   "execution_count": null,
   "id": "818185bd",
   "metadata": {},
   "outputs": [],
   "source": [
    "%load_ext cudf"
   ]
  },
  {
   "cell_type": "code",
   "execution_count": null,
   "id": "fe6c3027",
   "metadata": {},
   "outputs": [],
   "source": [
    "import numpy as np\n",
    "import pandas as pd\n",
    "import matplotlib.pyplot as plt\n",
    "import seaborn as sns"
   ]
  },
  {
   "cell_type": "code",
   "execution_count": null,
   "id": "adfdeeb8",
   "metadata": {},
   "outputs": [],
   "source": [
    "import datashader as ds\n",
    "import datashader.transfer_functions as tf"
   ]
  },
  {
   "cell_type": "code",
   "execution_count": null,
   "id": "a5932280",
   "metadata": {},
   "outputs": [],
   "source": [
    "pd.set_option('display.max_columns', None)"
   ]
  },
  {
   "cell_type": "code",
   "execution_count": null,
   "id": "25118816",
   "metadata": {},
   "outputs": [],
   "source": [
    "df_33_EYE = pd.read_csv('data/STData/33/33_EYE.csv')"
   ]
  },
  {
   "cell_type": "code",
   "execution_count": null,
   "id": "36fff78e",
   "metadata": {},
   "outputs": [],
   "source": [
    "df_33_EYE.head()"
   ]
  },
  {
   "cell_type": "code",
   "execution_count": null,
   "id": "8ace828f",
   "metadata": {},
   "outputs": [],
   "source": [
    "df_33_EYE.shape"
   ]
  },
  {
   "cell_type": "code",
   "execution_count": null,
   "id": "83ab677a",
   "metadata": {},
   "outputs": [],
   "source": [
    "df_33_EYE.columns"
   ]
  },
  {
   "cell_type": "code",
   "execution_count": null,
   "id": "37ea7726",
   "metadata": {},
   "outputs": [],
   "source": [
    "df_33_EYE.info()"
   ]
  },
  {
   "cell_type": "code",
   "execution_count": null,
   "id": "3d35d48f",
   "metadata": {},
   "outputs": [],
   "source": [
    "df_33_EYE.isnull().sum()"
   ]
  },
  {
   "cell_type": "code",
   "execution_count": null,
   "id": "e95a8ba2",
   "metadata": {},
   "outputs": [],
   "source": [
    "plt.figure(figsize=(12,8))\n",
    "sns.heatmap(df_33_EYE.isnull(), cmap='viridis')\n",
    "plt.show()"
   ]
  },
  {
   "cell_type": "markdown",
   "id": "f9e2f000",
   "metadata": {},
   "source": [
    "# Notes & Observations\n",
    "\n",
    "- We observe many **null** (or missing) values in the `QuestionKey` columns.  \n",
    "- The nulls in the `QuestionKey` column may not represent “true” nulls. Rather, they follow interval patterns, suggesting that during those periods no question was displayed.  \n",
    "- These missing values in `QuestionKey` require additional investigation and context-aware handling.  "
   ]
  },
  {
   "cell_type": "code",
   "execution_count": null,
   "id": "5b794413",
   "metadata": {},
   "outputs": [],
   "source": [
    "df_33_EYE['QuestionKey'].unique()"
   ]
  },
  {
   "cell_type": "code",
   "execution_count": null,
   "id": "0619bc09",
   "metadata": {},
   "outputs": [],
   "source": [
    "df_33_EYE['Timestamp'] = pd.to_datetime(df_33_EYE['Timestamp'])"
   ]
  },
  {
   "cell_type": "code",
   "execution_count": null,
   "id": "56275e4a",
   "metadata": {},
   "outputs": [],
   "source": [
    "df_33_EYE.head(3)"
   ]
  },
  {
   "cell_type": "code",
   "execution_count": null,
   "id": "99da6db4",
   "metadata": {},
   "outputs": [],
   "source": [
    "df_33_EYE['QuestionKey'].fillna('None', inplace=True)"
   ]
  },
  {
   "cell_type": "code",
   "execution_count": null,
   "id": "48d75e51",
   "metadata": {},
   "outputs": [],
   "source": [
    "df_33_EYE['QuestionKey'].value_counts()"
   ]
  },
  {
   "cell_type": "code",
   "execution_count": null,
   "id": "eeaa646c",
   "metadata": {},
   "outputs": [],
   "source": [
    "plt.figure(figsize=(12,8))\n",
    "sns.heatmap(df_33_EYE.isnull(), cmap='viridis')\n",
    "plt.show()"
   ]
  },
  {
   "cell_type": "code",
   "execution_count": null,
   "id": "c95bf718",
   "metadata": {},
   "outputs": [],
   "source": [
    "df_33_EYE.isnull().sum()"
   ]
  },
  {
   "cell_type": "code",
   "execution_count": null,
   "id": "c051dd38",
   "metadata": {},
   "outputs": [],
   "source": [
    "df_33_EYE.dropna(inplace=True)"
   ]
  },
  {
   "cell_type": "code",
   "execution_count": null,
   "id": "ac8cd686",
   "metadata": {},
   "outputs": [],
   "source": [
    "df_33_EYE.head()"
   ]
  },
  {
   "cell_type": "code",
   "execution_count": null,
   "id": "a60c9a3d",
   "metadata": {},
   "outputs": [],
   "source": [
    "df_33_EYE['Row'].unique()"
   ]
  },
  {
   "cell_type": "code",
   "execution_count": null,
   "id": "86f8142b",
   "metadata": {},
   "outputs": [],
   "source": [
    "plt.figure(figsize=(8,6))\n",
    "sns.histplot(df_33_EYE['Row'])\n",
    "plt.show()"
   ]
  },
  {
   "cell_type": "markdown",
   "id": "ff77b88e",
   "metadata": {},
   "source": [
    "# Notes & Observations\n",
    "\n",
    "- The `Row` column appears to be a simple row index and does not provide meaningful information relevant to the eye-tracking data itself. Therefore, it can be dropped."
   ]
  },
  {
   "cell_type": "code",
   "execution_count": null,
   "id": "1e02561d",
   "metadata": {},
   "outputs": [],
   "source": [
    "df_33_EYE.drop('Row', axis=1, inplace=True)"
   ]
  },
  {
   "cell_type": "code",
   "execution_count": null,
   "id": "68bf4cff",
   "metadata": {},
   "outputs": [],
   "source": [
    "df_33_EYE['ET_ValidityLeft'].unique()"
   ]
  },
  {
   "cell_type": "code",
   "execution_count": null,
   "id": "6fab8d35",
   "metadata": {},
   "outputs": [],
   "source": [
    "df_33_EYE['ET_ValidityLeft'].value_counts()"
   ]
  },
  {
   "cell_type": "code",
   "execution_count": null,
   "id": "7d6bb247",
   "metadata": {},
   "outputs": [],
   "source": [
    "df_33_EYE['ET_ValidityRight'].unique()"
   ]
  },
  {
   "cell_type": "code",
   "execution_count": null,
   "id": "3d6221b8",
   "metadata": {},
   "outputs": [],
   "source": [
    "df_33_EYE['ET_ValidityRight'].value_counts()"
   ]
  },
  {
   "cell_type": "code",
   "execution_count": null,
   "id": "69d18d6f",
   "metadata": {},
   "outputs": [],
   "source": [
    "plt.figure(figsize=(12, 6))\n",
    "\n",
    "plt.subplot(1, 2, 1)\n",
    "sns.barplot(x=df_33_EYE['ET_ValidityLeft'].value_counts().index, y=df_33_EYE['ET_ValidityLeft'].value_counts().values)\n",
    "plt.title('Count of ET_ValidityLeft')\n",
    "plt.xlabel('Validity')\n",
    "plt.ylabel('Count')\n",
    "\n",
    "\n",
    "plt.subplot(1, 2, 2)\n",
    "sns.barplot(x=df_33_EYE['ET_ValidityRight'].value_counts().index, y=df_33_EYE['ET_ValidityRight'].value_counts().values)\n",
    "plt.title('Count of ET_ValidityRight')\n",
    "plt.xlabel('Validity')\n",
    "plt.ylabel('Count')\n",
    "\n",
    "plt.tight_layout()\n",
    "plt.show()"
   ]
  },
  {
   "cell_type": "markdown",
   "id": "168fea07",
   "metadata": {},
   "source": [
    "# Notes & Observations\n",
    "\n",
    "- The `ET_ValidityLeft` and `ET_ValidityRight` columns indicate the validity of the eye-tracking data for the left and right eye, respectively.\n",
    "- Based on the value counts and the bar plots, it appears that a value of `0.0` represents valid eye-tracking data, while a value of `4.0` represents invalid data.\n",
    "- Although the amount of invalid data is relatively small, removing these rows could introduce unwanted patterns or gaps in the time series data.\n",
    "- Therefore, we will keep the data and replace the value `4.0` with `1.0` in both `ET_ValidityLeft` and `ET_ValidityRight` columns. This will indicate to a machine learning model that the eye tracker had invalid data at those specific points in time while maintaining the integrity of the time series."
   ]
  },
  {
   "cell_type": "code",
   "execution_count": null,
   "id": "2a3bbb3e",
   "metadata": {},
   "outputs": [],
   "source": [
    "validity_map = {4.0: 1.0, 0.0: 0.0}"
   ]
  },
  {
   "cell_type": "code",
   "execution_count": null,
   "id": "fdb62737",
   "metadata": {},
   "outputs": [],
   "source": [
    "df_33_EYE['ET_ValidityLeft'] = df_33_EYE['ET_ValidityLeft'].map(validity_map).astype(np.int8)\n",
    "df_33_EYE['ET_ValidityRight'] = df_33_EYE['ET_ValidityRight'].map(validity_map).astype(np.int8)"
   ]
  },
  {
   "cell_type": "code",
   "execution_count": null,
   "id": "5fc40692",
   "metadata": {},
   "outputs": [],
   "source": [
    "df_33_EYE.head(3)"
   ]
  },
  {
   "cell_type": "code",
   "execution_count": null,
   "id": "a27dd107",
   "metadata": {},
   "outputs": [],
   "source": [
    "df_33_EYE.describe()"
   ]
  },
  {
   "cell_type": "code",
   "execution_count": null,
   "id": "b41a1f11",
   "metadata": {},
   "outputs": [],
   "source": [
    "df_33_EYE[df_33_EYE['ET_ValidityLeft'] == 1].shape"
   ]
  },
  {
   "cell_type": "code",
   "execution_count": null,
   "id": "63c233b8",
   "metadata": {},
   "outputs": [],
   "source": [
    "df_33_EYE[df_33_EYE['ET_ValidityRight'] == 1].shape"
   ]
  },
  {
   "cell_type": "code",
   "execution_count": null,
   "id": "7e788453",
   "metadata": {},
   "outputs": [],
   "source": [
    "plt.figure(figsize=(18, 8))\n",
    "\n",
    "plt.subplot(1, 2, 1)\n",
    "sns.heatmap(df_33_EYE == -1, cmap='viridis')\n",
    "plt.title('Heatmap of -1 Values')\n",
    "\n",
    "plt.subplot(1, 2, 2)\n",
    "sns.heatmap(df_33_EYE == 1, cmap='viridis')\n",
    "plt.title('Heatmap of 1 Values')\n",
    "\n",
    "plt.tight_layout()\n",
    "plt.show()"
   ]
  },
  {
   "cell_type": "code",
   "execution_count": null,
   "id": "a3398b3d",
   "metadata": {},
   "outputs": [],
   "source": [
    "df_33_EYE[df_33_EYE['ET_PupilLeft'] == -1].shape"
   ]
  },
  {
   "cell_type": "code",
   "execution_count": null,
   "id": "0f8cfc42",
   "metadata": {},
   "outputs": [],
   "source": [
    "df_33_EYE[df_33_EYE['ET_PupilRight'] == -1].shape"
   ]
  },
  {
   "cell_type": "code",
   "execution_count": null,
   "id": "7f343971",
   "metadata": {},
   "outputs": [],
   "source": [
    "df_33_EYE[df_33_EYE['ET_PupilLeft'] == -1].shape[0] / df_33_EYE.shape[0]"
   ]
  },
  {
   "cell_type": "code",
   "execution_count": null,
   "id": "8ace8e91",
   "metadata": {},
   "outputs": [],
   "source": [
    "df_33_EYE[df_33_EYE['ET_PupilRight'] == -1].shape[0] / df_33_EYE.shape[0]"
   ]
  },
  {
   "cell_type": "code",
   "execution_count": null,
   "id": "93e58f00",
   "metadata": {},
   "outputs": [],
   "source": [
    "plt.figure(figsize=(18, 8))\n",
    "\n",
    "plt.subplot(1, 2, 1)\n",
    "sns.heatmap(df_33_EYE[df_33_EYE['ET_ValidityLeft'] == 1] == -1, cmap='viridis')\n",
    "plt.title('Heatmap of -1 Values')\n",
    "\n",
    "plt.subplot(1, 2, 2)\n",
    "sns.heatmap(df_33_EYE[df_33_EYE['ET_ValidityRight'] == 1] == -1, cmap='viridis')\n",
    "plt.title('Heatmap of -1 Values')\n",
    "\n",
    "plt.tight_layout()\n",
    "plt.show()"
   ]
  },
  {
   "cell_type": "markdown",
   "id": "477fa6c7",
   "metadata": {},
   "source": [
    "# Notes & Observations\n",
    "\n",
    "- The heatmaps reveal the distribution of -1 values across different columns.\n",
    "- It is evident that the `-1` values are not randomly scattered but appear in specific columns, notably `ET_GazeLeftx`, `ET_GazeLefty`, `ET_GazeRightx`, `ET_GazeRighty`, `ET_PupilLeft`, `ET_PupilRight`, `ET_DistanceLeft`, `ET_DistanceRight`, `ET_CameraLeftX`, `ET_CameraLeftY`, `ET_CameraRightX`, and `ET_CameraRightY`.\n",
    "- These `-1` values often coincide with instances where `ET_ValidityLeft` or `ET_ValidityRight` is 1, indicating invalid eye-tracking data. This suggests that `-1` is used as a placeholder for missing or invalid measurements in these columns when the eye tracker is not providing valid data for a particular eye.\n",
    "- Given that over 70% of the data in the `ET_PupilLeft` and `ET_PupilRight` columns is marked as invalid (-1), these columns may not be suitable for analysis and could be considered for dropping."
   ]
  },
  {
   "cell_type": "code",
   "execution_count": null,
   "id": "d3c4bf3e",
   "metadata": {},
   "outputs": [],
   "source": [
    "df_33_EYE.drop(['ET_PupilLeft', 'ET_PupilRight'], axis=1, inplace=True)"
   ]
  },
  {
   "cell_type": "code",
   "execution_count": null,
   "id": "82eea681",
   "metadata": {},
   "outputs": [],
   "source": [
    "df_33_EYE.head()"
   ]
  },
  {
   "cell_type": "code",
   "execution_count": null,
   "id": "cd3d60a6",
   "metadata": {},
   "outputs": [],
   "source": [
    "plt.figure(figsize=(18, 8))\n",
    "\n",
    "plt.subplot(1, 2, 1)\n",
    "sns.heatmap(df_33_EYE == -1, cmap='viridis')\n",
    "plt.title('Heatmap of -1 Values')\n",
    "\n",
    "plt.subplot(1, 2, 2)\n",
    "sns.heatmap(df_33_EYE == 1, cmap='viridis')\n",
    "plt.title('Heatmap of -1 Values')\n",
    "\n",
    "plt.tight_layout()\n",
    "plt.show()"
   ]
  },
  {
   "cell_type": "code",
   "execution_count": null,
   "id": "34d6164a",
   "metadata": {},
   "outputs": [],
   "source": [
    "valid_left_ratio  = 1 - df_33_EYE['ET_ValidityLeft'].mean()\n",
    "valid_right_ratio = 1 - df_33_EYE['ET_ValidityRight'].mean()"
   ]
  },
  {
   "cell_type": "code",
   "execution_count": null,
   "id": "7e85d2cc",
   "metadata": {},
   "outputs": [],
   "source": [
    "valid_left_ratio"
   ]
  },
  {
   "cell_type": "code",
   "execution_count": null,
   "id": "7b7e3f56",
   "metadata": {},
   "outputs": [],
   "source": [
    "valid_right_ratio"
   ]
  },
  {
   "cell_type": "code",
   "execution_count": null,
   "id": "662479f4",
   "metadata": {},
   "outputs": [],
   "source": [
    "df_33_EYE.head()"
   ]
  },
  {
   "cell_type": "code",
   "execution_count": null,
   "id": "92b4580b",
   "metadata": {},
   "outputs": [],
   "source": [
    "# Select only the numeric columns for plotting histograms, excluding time-related columns\n",
    "numeric_cols = df_33_EYE.select_dtypes(include=np.number).columns\n",
    "cols_to_plot = [col for col in numeric_cols if col not in ['UnixTime']]\n",
    "\n",
    "# Calculate the number of rows and columns for the grid\n",
    "n_cols = 4  # You can adjust the number of columns as needed\n",
    "n_rows = (len(cols_to_plot) + n_cols - 1) // n_cols\n",
    "\n",
    "plt.figure(figsize=(n_cols * 5, n_rows * 4)) # Adjust figure size as needed\n",
    "\n",
    "for i, col in enumerate(cols_to_plot):\n",
    "    plt.subplot(n_rows, n_cols, i + 1)\n",
    "    sns.histplot(df_33_EYE[col], kde=True)\n",
    "    plt.title(f'Distribution of {col}')\n",
    "    plt.xlabel(col)\n",
    "    plt.ylabel('Frequency')\n",
    "\n",
    "plt.tight_layout()\n",
    "plt.show()"
   ]
  },
  {
   "cell_type": "code",
   "execution_count": null,
   "id": "094d8552",
   "metadata": {},
   "outputs": [],
   "source": [
    "df_33_EYE.columns"
   ]
  },
  {
   "cell_type": "code",
   "execution_count": null,
   "id": "1012bd06",
   "metadata": {},
   "outputs": [],
   "source": [
    "cols = ['ET_GazeLeftx', 'ET_GazeLefty',\n",
    "       'ET_GazeRightx', 'ET_GazeRighty', 'ET_TimeSignal', 'ET_DistanceLeft',\n",
    "       'ET_DistanceRight', 'ET_CameraLeftX', 'ET_CameraLeftY',\n",
    "       'ET_CameraRightX', 'ET_CameraRightY', 'ET_ValidityLeft',\n",
    "       'ET_ValidityRight']"
   ]
  },
  {
   "cell_type": "code",
   "execution_count": null,
   "id": "28260aea",
   "metadata": {},
   "outputs": [],
   "source": [
    "from IPython.display import display, Markdown\n",
    "\n",
    "for col in cols:\n",
    "    # Add a markdown cell before each plot for better separation and labeling\n",
    "    display(Markdown(f'### {col} over Time'))\n",
    "    plt.figure(figsize=(16, 10))\n",
    "    plt.plot(df_33_EYE['Timestamp'], df_33_EYE[col])\n",
    "    plt.xlabel(\"Timestamp\") # Add x-axis label\n",
    "    plt.ylabel(col) # Add y-axis label\n",
    "    plt.show()"
   ]
  },
  {
   "cell_type": "code",
   "execution_count": null,
   "id": "094f1f88",
   "metadata": {},
   "outputs": [],
   "source": [
    "# Select only the numeric columns for plotting histograms, excluding time-related columns\n",
    "numeric_cols = df_33_EYE.select_dtypes(include=np.number).columns\n",
    "\n",
    "# Calculate the number of rows and columns for the grid\n",
    "n_cols = 4  # You can adjust the number of columns as needed\n",
    "n_rows = (len(numeric_cols) + n_cols - 1) // n_cols\n",
    "\n",
    "plt.figure(figsize=(n_cols * 5, n_rows * 4)) # Adjust figure size as needed\n",
    "\n",
    "for i, col in enumerate(numeric_cols):\n",
    "    plt.subplot(n_rows, n_cols, i + 1)\n",
    "    sns.boxplot(df_33_EYE[col])\n",
    "    plt.title(f'Boxplot of {col}')\n",
    "    plt.xlabel(col)\n",
    "\n",
    "plt.tight_layout()\n",
    "plt.show()"
   ]
  },
  {
   "cell_type": "code",
   "execution_count": null,
   "id": "95358ca2",
   "metadata": {},
   "outputs": [],
   "source": [
    "df_33_EYE.replace({-1: np.nan}, inplace=True)"
   ]
  },
  {
   "cell_type": "code",
   "execution_count": null,
   "id": "bfc34a55",
   "metadata": {},
   "outputs": [],
   "source": [
    "numeric_cols = df_33_EYE.select_dtypes(include=np.number).columns\n",
    "\n",
    "for col in numeric_cols:\n",
    "    df_33_EYE[col].fillna(df_33_EYE[col].mean(), inplace=True)"
   ]
  },
  {
   "cell_type": "code",
   "execution_count": null,
   "id": "cf862b32",
   "metadata": {},
   "outputs": [],
   "source": [
    "df_33_EYE.head()"
   ]
  },
  {
   "cell_type": "code",
   "execution_count": null,
   "id": "efc63491",
   "metadata": {},
   "outputs": [],
   "source": [
    "# Select only the numeric columns for plotting histograms, excluding time-related columns\n",
    "numeric_cols = df_33_EYE.select_dtypes(include=np.number).columns\n",
    "cols_to_plot = [col for col in numeric_cols if col not in ['UnixTime']]\n",
    "\n",
    "# Calculate the number of rows and columns for the grid\n",
    "n_cols = 4  # You can adjust the number of columns as needed\n",
    "n_rows = (len(cols_to_plot) + n_cols - 1) // n_cols\n",
    "\n",
    "plt.figure(figsize=(n_cols * 5, n_rows * 4)) # Adjust figure size as needed\n",
    "\n",
    "for i, col in enumerate(cols_to_plot):\n",
    "    plt.subplot(n_rows, n_cols, i + 1)\n",
    "    sns.histplot(df_33_EYE[col], kde=True)\n",
    "    plt.title(f'Distribution of {col}')\n",
    "    plt.xlabel(col)\n",
    "    plt.ylabel('Frequency')\n",
    "\n",
    "plt.tight_layout()\n",
    "plt.show()"
   ]
  },
  {
   "cell_type": "code",
   "execution_count": null,
   "id": "29c6ee85",
   "metadata": {},
   "outputs": [],
   "source": []
  },
  {
   "cell_type": "code",
   "execution_count": null,
   "id": "8df130f3",
   "metadata": {},
   "outputs": [],
   "source": []
  },
  {
   "cell_type": "code",
   "execution_count": null,
   "id": "95d9c508",
   "metadata": {},
   "outputs": [],
   "source": []
  },
  {
   "cell_type": "code",
   "execution_count": null,
   "id": "52dfb63a",
   "metadata": {},
   "outputs": [],
   "source": []
  },
  {
   "cell_type": "code",
   "execution_count": null,
   "id": "1047502d",
   "metadata": {},
   "outputs": [],
   "source": []
  },
  {
   "cell_type": "code",
   "execution_count": null,
   "id": "559d62d9",
   "metadata": {},
   "outputs": [],
   "source": []
  },
  {
   "cell_type": "code",
   "execution_count": null,
   "id": "bc76b2bf",
   "metadata": {},
   "outputs": [],
   "source": []
  },
  {
   "cell_type": "code",
   "execution_count": null,
   "id": "78fff245",
   "metadata": {},
   "outputs": [],
   "source": []
  },
  {
   "cell_type": "code",
   "execution_count": null,
   "id": "5617db2a",
   "metadata": {},
   "outputs": [],
   "source": []
  },
  {
   "cell_type": "code",
   "execution_count": null,
   "id": "2cbaaae6",
   "metadata": {},
   "outputs": [],
   "source": []
  },
  {
   "cell_type": "code",
   "execution_count": null,
   "id": "1536ae67",
   "metadata": {},
   "outputs": [],
   "source": []
  },
  {
   "cell_type": "code",
   "execution_count": null,
   "id": "2488dcbc",
   "metadata": {},
   "outputs": [],
   "source": []
  },
  {
   "cell_type": "markdown",
   "id": "9244eb17",
   "metadata": {},
   "source": [
    "# Eye Tracking Data Analysis\n",
    "\n",
    "This notebook performs exploratory data analysis and cleaning on eye-tracking data.\n",
    "\n",
    "## Data Loading and Initial Inspection"
   ]
  },
  {
   "cell_type": "code",
   "execution_count": null,
   "id": "4ccdcefe",
   "metadata": {},
   "outputs": [],
   "source": [
    "%load_ext cudf"
   ]
  },
  {
   "cell_type": "markdown",
   "id": "4de34613",
   "metadata": {},
   "source": [
    "Import necessary libraries for data manipulation, analysis, and visualization."
   ]
  },
  {
   "cell_type": "code",
   "execution_count": null,
   "id": "b0dcf3f5",
   "metadata": {},
   "outputs": [],
   "source": [
    "import numpy as np\n",
    "import pandas as pd\n",
    "import matplotlib.pyplot as plt\n",
    "import seaborn as sns"
   ]
  },
  {
   "cell_type": "markdown",
   "id": "ebca5575",
   "metadata": {},
   "source": [
    "Import libraries for datashader, which can be used for visualizing large datasets."
   ]
  },
  {
   "cell_type": "code",
   "execution_count": null,
   "id": "053ac4ea",
   "metadata": {},
   "outputs": [],
   "source": [
    "import datashader as ds\n",
    "import datashader.transfer_functions as tf"
   ]
  },
  {
   "cell_type": "markdown",
   "id": "d8ecda9b",
   "metadata": {},
   "source": [
    "Set pandas display options to show all columns."
   ]
  },
  {
   "cell_type": "code",
   "execution_count": null,
   "id": "1ff63a05",
   "metadata": {},
   "outputs": [],
   "source": [
    "pd.set_option('display.max_columns', None)"
   ]
  },
  {
   "cell_type": "markdown",
   "id": "5ffb1174",
   "metadata": {},
   "source": [
    "Load the eye-tracking data from the specified CSV file into a pandas DataFrame."
   ]
  },
  {
   "cell_type": "code",
   "execution_count": null,
   "id": "a05341da",
   "metadata": {},
   "outputs": [],
   "source": [
    "df_33_EYE = pd.read_csv('data/STData/33/33_EYE.csv')"
   ]
  },
  {
   "cell_type": "markdown",
   "id": "81537203",
   "metadata": {},
   "source": [
    "Display the first few rows of the DataFrame to get an initial look at the data structure and content."
   ]
  },
  {
   "cell_type": "code",
   "execution_count": null,
   "id": "9b3e93ad",
   "metadata": {},
   "outputs": [],
   "source": [
    "df_33_EYE.head()"
   ]
  },
  {
   "cell_type": "markdown",
   "id": "7de442ad",
   "metadata": {},
   "source": [
    "Check the dimensions (number of rows and columns) of the DataFrame."
   ]
  },
  {
   "cell_type": "code",
   "execution_count": null,
   "id": "a59963be",
   "metadata": {},
   "outputs": [],
   "source": [
    "df_33_EYE.shape"
   ]
  },
  {
   "cell_type": "markdown",
   "id": "0459e8be",
   "metadata": {},
   "source": [
    "List the names of all columns in the DataFrame."
   ]
  },
  {
   "cell_type": "code",
   "execution_count": null,
   "id": "9be73686",
   "metadata": {},
   "outputs": [],
   "source": [
    "df_33_EYE.columns"
   ]
  },
  {
   "cell_type": "markdown",
   "id": "1e722715",
   "metadata": {},
   "source": [
    "Display concise information about the DataFrame, including the data types of each column and the number of non-null values. This helps identify columns with missing data."
   ]
  },
  {
   "cell_type": "code",
   "execution_count": null,
   "id": "8ad506f7",
   "metadata": {},
   "outputs": [],
   "source": [
    "df_33_EYE.info()"
   ]
  },
  {
   "cell_type": "markdown",
   "id": "9da4d399",
   "metadata": {},
   "source": [
    "Calculate and display the number of missing values in each column."
   ]
  },
  {
   "cell_type": "code",
   "execution_count": null,
   "id": "a04a3388",
   "metadata": {},
   "outputs": [],
   "source": [
    "df_33_EYE.isnull().sum()"
   ]
  },
  {
   "cell_type": "markdown",
   "id": "a2fee488",
   "metadata": {},
   "source": [
    "Visualize the distribution of missing values using a heatmap. This provides a visual representation of which columns have missing data and the extent of missingness."
   ]
  },
  {
   "cell_type": "code",
   "execution_count": null,
   "id": "d6fa57c4",
   "metadata": {},
   "outputs": [],
   "source": [
    "plt.figure(figsize=(12,8))\n",
    "sns.heatmap(df_33_EYE.isnull(), cmap='viridis')\n",
    "plt.show()"
   ]
  },
  {
   "cell_type": "markdown",
   "id": "d41ee2a3",
   "metadata": {},
   "source": [
    "# Notes & Observations\n",
    "\n",
    "- We observe many **null** (or missing) values in the `QuestionKey` columns.\n",
    "- The nulls in the `QuestionKey` column may not represent “true” nulls. Rather, they follow interval patterns, suggesting that during those periods no question was displayed.\n",
    "- These missing values in `QuestionKey` require additional investigation and context-aware handling."
   ]
  },
  {
   "cell_type": "markdown",
   "id": "8d870919",
   "metadata": {},
   "source": [
    "Display the unique values in the `QuestionKey` column to understand the different types of questions or states recorded."
   ]
  },
  {
   "cell_type": "code",
   "execution_count": null,
   "id": "151a6130",
   "metadata": {},
   "outputs": [],
   "source": [
    "df_33_EYE['QuestionKey'].unique()"
   ]
  },
  {
   "cell_type": "markdown",
   "id": "736ab59d",
   "metadata": {},
   "source": [
    "Convert the `Timestamp` column to datetime objects. This is crucial for any time series analysis or manipulation."
   ]
  },
  {
   "cell_type": "code",
   "execution_count": null,
   "id": "bad075fe",
   "metadata": {},
   "outputs": [],
   "source": [
    "df_33_EYE['Timestamp'] = pd.to_datetime(df_33_EYE['Timestamp'])"
   ]
  },
  {
   "cell_type": "markdown",
   "id": "ccf76812",
   "metadata": {},
   "source": [
    "Display the first few rows again to see the effect of the timestamp conversion."
   ]
  },
  {
   "cell_type": "code",
   "execution_count": null,
   "id": "425ff60e",
   "metadata": {},
   "outputs": [],
   "source": [
    "df_33_EYE.head(3)"
   ]
  },
  {
   "cell_type": "markdown",
   "id": "23a4de59",
   "metadata": {},
   "source": [
    "Fill the missing values in the `QuestionKey` column with the string 'None'. This helps to explicitly mark periods where no question was active."
   ]
  },
  {
   "cell_type": "code",
   "execution_count": null,
   "id": "44367af0",
   "metadata": {},
   "outputs": [],
   "source": [
    "df_33_EYE['QuestionKey'].fillna('None', inplace=True)"
   ]
  },
  {
   "cell_type": "markdown",
   "id": "4051a9d1",
   "metadata": {},
   "source": [
    "Count the occurrences of each unique value in the `QuestionKey` column after filling missing values."
   ]
  },
  {
   "cell_type": "code",
   "execution_count": null,
   "id": "6990ac03",
   "metadata": {},
   "outputs": [],
   "source": [
    "df_33_EYE['QuestionKey'].value_counts()"
   ]
  },
  {
   "cell_type": "markdown",
   "id": "650bf7c7",
   "metadata": {},
   "source": [
    "Display the heatmap of missing values again to confirm that the missing values in `QuestionKey` have been handled."
   ]
  },
  {
   "cell_type": "code",
   "execution_count": null,
   "id": "c75f0ac5",
   "metadata": {},
   "outputs": [],
   "source": [
    "plt.figure(figsize=(12,8))\n",
    "sns.heatmap(df_33_EYE.isnull(), cmap='viridis')\n",
    "plt.show()"
   ]
  },
  {
   "cell_type": "markdown",
   "id": "48c21c0b",
   "metadata": {},
   "source": [
    "Recalculate and display the number of missing values per column to confirm the changes after handling `QuestionKey`."
   ]
  },
  {
   "cell_type": "code",
   "execution_count": null,
   "id": "9a406eb7",
   "metadata": {},
   "outputs": [],
   "source": [
    "df_33_EYE.isnull().sum()"
   ]
  },
  {
   "cell_type": "markdown",
   "id": "2dde58ea",
   "metadata": {},
   "source": [
    "Drop rows that still contain any missing values. This is done after handling `QuestionKey` separately."
   ]
  },
  {
   "cell_type": "code",
   "execution_count": null,
   "id": "dadf1b4d",
   "metadata": {},
   "outputs": [],
   "source": [
    "df_33_EYE.dropna(inplace=True)"
   ]
  },
  {
   "cell_type": "markdown",
   "id": "802f38c2",
   "metadata": {},
   "source": [
    "Display the first few rows after dropping rows with missing values."
   ]
  },
  {
   "cell_type": "code",
   "execution_count": null,
   "id": "e0fdaad6",
   "metadata": {},
   "outputs": [],
   "source": [
    "df_33_EYE.head()"
   ]
  },
  {
   "cell_type": "markdown",
   "id": "723dcd23",
   "metadata": {},
   "source": [
    "Display the unique values in the `Row` column."
   ]
  },
  {
   "cell_type": "code",
   "execution_count": null,
   "id": "09ad48b4",
   "metadata": {},
   "outputs": [],
   "source": [
    "df_33_EYE['Row'].unique()"
   ]
  },
  {
   "cell_type": "markdown",
   "id": "438dc23b",
   "metadata": {},
   "source": [
    "Plot a histogram of the `Row` column to visualize its distribution."
   ]
  },
  {
   "cell_type": "code",
   "execution_count": null,
   "id": "a722b0de",
   "metadata": {},
   "outputs": [],
   "source": [
    "plt.figure(figsize=(8,6))\n",
    "sns.histplot(df_33_EYE['Row'])\n",
    "plt.show()"
   ]
  },
  {
   "cell_type": "markdown",
   "id": "304e82ce",
   "metadata": {},
   "source": [
    "# Notes & Observations\n",
    "\n",
    "- The `Row` column appears to be a simple row index and does not provide meaningful information relevant to the eye-tracking data itself. Therefore, it can be dropped."
   ]
  },
  {
   "cell_type": "markdown",
   "id": "f3c7c644",
   "metadata": {},
   "source": [
    "Drop the `Row` column as it is not relevant for the analysis."
   ]
  },
  {
   "cell_type": "code",
   "execution_count": null,
   "id": "680f64c9",
   "metadata": {},
   "outputs": [],
   "source": [
    "df_33_EYE.drop('Row', axis=1, inplace=True)"
   ]
  },
  {
   "cell_type": "markdown",
   "id": "00a92e33",
   "metadata": {},
   "source": [
    "Display the unique values in the `ET_ValidityLeft` column."
   ]
  },
  {
   "cell_type": "code",
   "execution_count": null,
   "id": "561147b1",
   "metadata": {},
   "outputs": [],
   "source": [
    "df_33_EYE['ET_ValidityLeft'].unique()"
   ]
  },
  {
   "cell_type": "markdown",
   "id": "7de42b2f",
   "metadata": {},
   "source": [
    "Count the occurrences of each unique value in the `ET_ValidityLeft` column."
   ]
  },
  {
   "cell_type": "code",
   "execution_count": null,
   "id": "e87f53d1",
   "metadata": {},
   "outputs": [],
   "source": [
    "df_33_EYE['ET_ValidityLeft'].value_counts()"
   ]
  },
  {
   "cell_type": "markdown",
   "id": "45908f5e",
   "metadata": {},
   "source": [
    "Display the unique values in the `ET_ValidityRight` column."
   ]
  },
  {
   "cell_type": "code",
   "execution_count": null,
   "id": "52ca555f",
   "metadata": {},
   "outputs": [],
   "source": [
    "df_33_EYE['ET_ValidityRight'].unique()"
   ]
  },
  {
   "cell_type": "markdown",
   "id": "8471c400",
   "metadata": {},
   "source": [
    "Count the occurrences of each unique value in the `ET_ValidityRight` column."
   ]
  },
  {
   "cell_type": "code",
   "execution_count": null,
   "id": "ca772ef8",
   "metadata": {},
   "outputs": [],
   "source": [
    "df_33_EYE['ET_ValidityRight'].value_counts()"
   ]
  },
  {
   "cell_type": "markdown",
   "id": "b9941060",
   "metadata": {},
   "source": [
    "Visualize the counts of valid and invalid data for both left and right eyes using bar plots."
   ]
  },
  {
   "cell_type": "code",
   "execution_count": null,
   "id": "2eb9bc8c",
   "metadata": {},
   "outputs": [],
   "source": [
    "plt.figure(figsize=(12, 6))\n",
    "\n",
    "plt.subplot(1, 2, 1)\n",
    "sns.barplot(x=df_33_EYE['ET_ValidityLeft'].value_counts().index, y=df_33_EYE['ET_ValidityLeft'].value_counts().values)\n",
    "plt.title('Count of ET_ValidityLeft')\n",
    "plt.xlabel('Validity')\n",
    "plt.ylabel('Count')\n",
    "\n",
    "\n",
    "plt.subplot(1, 2, 2)\n",
    "sns.barplot(x=df_33_EYE['ET_ValidityRight'].value_counts().index, y=df_33_EYE['ET_ValidityRight'].value_counts().values)\n",
    "plt.title('Count of ET_ValidityRight')\n",
    "plt.xlabel('Validity')\n",
    "plt.ylabel('Count')\n",
    "\n",
    "plt.tight_layout()\n",
    "plt.show()"
   ]
  },
  {
   "cell_type": "markdown",
   "id": "a3a14e0b",
   "metadata": {},
   "source": [
    "# Notes & Observations\n",
    "\n",
    "- The `ET_ValidityLeft` and `ET_ValidityRight` columns indicate the validity of the eye-tracking data for the left and right eye, respectively.\n",
    "- Based on the value counts and the bar plots, it appears that a value of `0.0` represents valid eye-tracking data, while a value of `4.0` represents invalid data.\n",
    "- Although the amount of invalid data is relatively small, removing these rows could introduce unwanted patterns or gaps in the time series data.\n",
    "- Therefore, we will keep the data and replace the value `4.0` with `1.0` in both `ET_ValidityLeft` and `ET_ValidityRight` columns. This will indicate to a machine learning model that the eye tracker had invalid data at those specific points in time while maintaining the integrity of the time series."
   ]
  },
  {
   "cell_type": "markdown",
   "id": "d5192b73",
   "metadata": {},
   "source": [
    "Define a mapping to convert validity values from `0.0` and `4.0` to `0` and `1`."
   ]
  },
  {
   "cell_type": "code",
   "execution_count": null,
   "id": "c861c436",
   "metadata": {},
   "outputs": [],
   "source": [
    "validity_map = {4.0: 1.0, 0.0: 0.0}"
   ]
  },
  {
   "cell_type": "markdown",
   "id": "61a1e2a3",
   "metadata": {},
   "source": [
    "Apply the mapping to the `ET_ValidityLeft` and `ET_ValidityRight` columns and convert the data type to integer."
   ]
  },
  {
   "cell_type": "code",
   "execution_count": null,
   "id": "f32188ca",
   "metadata": {},
   "outputs": [],
   "source": [
    "df_33_EYE['ET_ValidityLeft'] = df_33_EYE['ET_ValidityLeft'].map(validity_map).astype(np.int8)\n",
    "df_33_EYE['ET_ValidityRight'] = df_33_EYE['ET_ValidityRight'].map(validity_map).astype(np.int8)"
   ]
  },
  {
   "cell_type": "markdown",
   "id": "246bab44",
   "metadata": {},
   "source": [
    "Display the first few rows to see the updated validity columns."
   ]
  },
  {
   "cell_type": "code",
   "execution_count": null,
   "id": "6e1bac45",
   "metadata": {},
   "outputs": [],
   "source": [
    "df_33_EYE.head(3)"
   ]
  },
  {
   "cell_type": "markdown",
   "id": "c66c6004",
   "metadata": {},
   "source": [
    "Display descriptive statistics for the DataFrame, including count, mean, standard deviation, min, max, and quartiles for numeric columns."
   ]
  },
  {
   "cell_type": "code",
   "execution_count": null,
   "id": "ee6d602d",
   "metadata": {},
   "outputs": [],
   "source": [
    "df_33_EYE.describe()"
   ]
  },
  {
   "cell_type": "markdown",
   "id": "62178e2c",
   "metadata": {},
   "source": [
    "Check the number of rows where `ET_ValidityLeft` is 1 (invalid data for the left eye)."
   ]
  },
  {
   "cell_type": "code",
   "execution_count": null,
   "id": "39466e7b",
   "metadata": {},
   "outputs": [],
   "source": [
    "df_33_EYE[df_33_EYE['ET_ValidityLeft'] == 1].shape"
   ]
  },
  {
   "cell_type": "markdown",
   "id": "881b2393",
   "metadata": {},
   "source": [
    "Check the number of rows where `ET_ValidityRight` is 1 (invalid data for the right eye)."
   ]
  },
  {
   "cell_type": "code",
   "execution_count": null,
   "id": "04b5cbcf",
   "metadata": {},
   "outputs": [],
   "source": [
    "df_33_EYE[df_33_EYE['ET_ValidityRight'] == 1].shape"
   ]
  },
  {
   "cell_type": "markdown",
   "id": "1ea50259",
   "metadata": {},
   "source": [
    "Visualize the distribution of -1 and 1 values across columns using heatmaps. This helps identify columns with placeholder or indicator values."
   ]
  },
  {
   "cell_type": "code",
   "execution_count": null,
   "id": "042df940",
   "metadata": {},
   "outputs": [],
   "source": [
    "plt.figure(figsize=(18, 8))\n",
    "\n",
    "plt.subplot(1, 2, 1)\n",
    "sns.heatmap(df_33_EYE == -1, cmap='viridis')\n",
    "plt.title('Heatmap of -1 Values')\n",
    "\n",
    "plt.subplot(1, 2, 2)\n",
    "sns.heatmap(df_33_EYE == 1, cmap='viridis')\n",
    "plt.title('Heatmap of 1 Values')\n",
    "\n",
    "plt.tight_layout()\n",
    "plt.show()"
   ]
  },
  {
   "cell_type": "markdown",
   "id": "469abf22",
   "metadata": {},
   "source": [
    "Check the number of rows where `ET_PupilLeft` is -1."
   ]
  },
  {
   "cell_type": "code",
   "execution_count": null,
   "id": "6fbbb8bf",
   "metadata": {},
   "outputs": [],
   "source": [
    "df_33_EYE[df_33_EYE['ET_PupilLeft'] == -1].shape"
   ]
  },
  {
   "cell_type": "markdown",
   "id": "552dd95e",
   "metadata": {},
   "source": [
    "Check the number of rows where `ET_PupilRight` is -1."
   ]
  },
  {
   "cell_type": "code",
   "execution_count": null,
   "id": "81101f75",
   "metadata": {},
   "outputs": [],
   "source": [
    "df_33_EYE[df_33_EYE['ET_PupilRight'] == -1].shape"
   ]
  },
  {
   "cell_type": "markdown",
   "id": "ea92d00e",
   "metadata": {},
   "source": [
    "Calculate the ratio of rows with -1 values in the `ET_PupilLeft` column to the total number of rows."
   ]
  },
  {
   "cell_type": "code",
   "execution_count": null,
   "id": "2d02ff5a",
   "metadata": {},
   "outputs": [],
   "source": [
    "df_33_EYE[df_33_EYE['ET_PupilLeft'] == -1].shape[0] / df_33_EYE.shape[0]"
   ]
  },
  {
   "cell_type": "markdown",
   "id": "f09f70b7",
   "metadata": {},
   "source": [
    "Calculate the ratio of rows with -1 values in the `ET_PupilRight` column to the total number of rows."
   ]
  },
  {
   "cell_type": "code",
   "execution_count": null,
   "id": "98ff2433",
   "metadata": {},
   "outputs": [],
   "source": [
    "df_33_EYE[df_33_EYE['ET_PupilRight'] == -1].shape[0] / df_33_EYE.shape[0]"
   ]
  },
  {
   "cell_type": "markdown",
   "id": "ffbe8c01",
   "metadata": {},
   "source": [
    "Visualize the distribution of -1 values specifically for rows where validity is 1 (invalid data)."
   ]
  },
  {
   "cell_type": "code",
   "execution_count": null,
   "id": "0fc80061",
   "metadata": {},
   "outputs": [],
   "source": [
    "plt.figure(figsize=(18, 8))\n",
    "\n",
    "plt.subplot(1, 2, 1)\n",
    "sns.heatmap(df_33_EYE[df_33_EYE['ET_ValidityLeft'] == 1] == -1, cmap='viridis')\n",
    "plt.title('Heatmap of -1 Values')\n",
    "\n",
    "plt.subplot(1, 2, 2)\n",
    "sns.heatmap(df_33_EYE[df_33_EYE['ET_ValidityRight'] == 1] == -1, cmap='viridis')\n",
    "plt.title('Heatmap of -1 Values')\n",
    "\n",
    "plt.tight_layout()\n",
    "plt.show()"
   ]
  },
  {
   "cell_type": "markdown",
   "id": "47cc74c8",
   "metadata": {},
   "source": [
    "# Notes & Observations\n",
    "\n",
    "- The heatmaps reveal the distribution of -1 values across different columns.\n",
    "- It is evident that the `-1` values are not randomly scattered but appear in specific columns, notably `ET_GazeLeftx`, `ET_GazeLefty`, `ET_GazeRightx`, `ET_GazeRighty`, `ET_PupilLeft`, `ET_PupilRight`, `ET_DistanceLeft`, `ET_DistanceRight`, `ET_CameraLeftX`, `ET_CameraLeftY`, `ET_CameraRightX`, and `ET_CameraRightY`.\n",
    "- These `-1` values often coincide with instances where `ET_ValidityLeft` or `ET_ValidityRight` is 1, indicating invalid eye-tracking data. This suggests that `-1` is used as a placeholder for missing or invalid measurements in these columns when the eye tracker is not providing valid data for a particular eye.\n",
    "- Given that over 70% of the data in the `ET_PupilLeft` and `ET_PupilRight` columns is marked as invalid (-1), these columns may not be suitable for analysis and could be considered for dropping."
   ]
  },
  {
   "cell_type": "markdown",
   "id": "c9a7aa68",
   "metadata": {},
   "source": [
    "Drop the `ET_PupilLeft` and `ET_PupilRight` columns due to the high percentage of invalid data."
   ]
  },
  {
   "cell_type": "code",
   "execution_count": null,
   "id": "2cb78c56",
   "metadata": {},
   "outputs": [],
   "source": [
    "df_33_EYE.drop(['ET_PupilLeft', 'ET_PupilRight'], axis=1, inplace=True)"
   ]
  },
  {
   "cell_type": "markdown",
   "id": "5e3ba3b7",
   "metadata": {},
   "source": [
    "Display the first few rows after dropping the pupil columns."
   ]
  },
  {
   "cell_type": "code",
   "execution_count": null,
   "id": "30cb03dd",
   "metadata": {},
   "outputs": [],
   "source": [
    "df_33_EYE.head()"
   ]
  },
  {
   "cell_type": "markdown",
   "id": "2bdcc7fb",
   "metadata": {},
   "source": [
    "Visualize the distribution of -1 and 1 values again after dropping the pupil columns."
   ]
  },
  {
   "cell_type": "code",
   "execution_count": null,
   "id": "b9dca0ed",
   "metadata": {},
   "outputs": [],
   "source": [
    "plt.figure(figsize=(18, 8))\n",
    "\n",
    "plt.subplot(1, 2, 1)\n",
    "sns.heatmap(df_33_EYE == -1, cmap='viridis')\n",
    "plt.title('Heatmap of -1 Values')\n",
    "\n",
    "plt.subplot(1, 2, 2)\n",
    "sns.heatmap(df_33_EYE == 1, cmap='viridis')\n",
    "plt.title('Heatmap of -1 Values')\n",
    "\n",
    "plt.tight_layout()\n",
    "plt.show()"
   ]
  },
  {
   "cell_type": "markdown",
   "id": "1a7e607b",
   "metadata": {},
   "source": [
    "Calculate the ratio of valid data points for the left eye."
   ]
  },
  {
   "cell_type": "code",
   "execution_count": null,
   "id": "7899950d",
   "metadata": {},
   "outputs": [],
   "source": [
    "valid_left_ratio  = 1 - df_33_EYE['ET_ValidityLeft'].mean()"
   ]
  },
  {
   "cell_type": "markdown",
   "id": "15e7688e",
   "metadata": {},
   "source": [
    "Display the ratio of valid data points for the left eye."
   ]
  },
  {
   "cell_type": "code",
   "execution_count": null,
   "id": "f472fb87",
   "metadata": {},
   "outputs": [],
   "source": [
    "valid_left_ratio"
   ]
  },
  {
   "cell_type": "markdown",
   "id": "970ad265",
   "metadata": {},
   "source": [
    "Calculate the ratio of valid data points for the right eye."
   ]
  },
  {
   "cell_type": "code",
   "execution_count": null,
   "id": "d4373384",
   "metadata": {},
   "outputs": [],
   "source": [
    "valid_right_ratio = 1 - df_33_EYE['ET_ValidityRight'].mean()"
   ]
  },
  {
   "cell_type": "markdown",
   "id": "f531cae8",
   "metadata": {},
   "source": [
    "Display the ratio of valid data points for the right eye."
   ]
  },
  {
   "cell_type": "code",
   "execution_count": null,
   "id": "1b9c2372",
   "metadata": {},
   "outputs": [],
   "source": [
    "valid_right_ratio"
   ]
  },
  {
   "cell_type": "markdown",
   "id": "213d45f1",
   "metadata": {},
   "source": [
    "Display the first few rows of the DataFrame."
   ]
  },
  {
   "cell_type": "code",
   "execution_count": null,
   "id": "a71c2a6b",
   "metadata": {},
   "outputs": [],
   "source": [
    "df_33_EYE.head()"
   ]
  },
  {
   "cell_type": "markdown",
   "id": "6e5ccbb2",
   "metadata": {},
   "source": [
    "Visualize the distributions of numeric columns using histograms with Kernel Density Estimate (KDE) plots. This helps understand the shape and spread of the data in each numeric column."
   ]
  },
  {
   "cell_type": "code",
   "execution_count": null,
   "id": "b1d4613c",
   "metadata": {},
   "outputs": [],
   "source": [
    "# Select only the numeric columns for plotting histograms, excluding time-related columns\n",
    "numeric_cols = df_33_EYE.select_dtypes(include=np.number).columns\n",
    "cols_to_plot = [col for col in numeric_cols if col not in ['UnixTime']]\n",
    "\n",
    "# Calculate the number of rows and columns for the grid\n",
    "n_cols = 4  # You can adjust the number of columns as needed\n",
    "n_rows = (len(cols_to_plot) + n_cols - 1) // n_cols\n",
    "\n",
    "plt.figure(figsize=(n_cols * 5, n_rows * 4)) # Adjust figure size as needed\n",
    "\n",
    "for i, col in enumerate(cols_to_plot):\n",
    "    plt.subplot(n_rows, n_cols, i + 1)\n",
    "    sns.histplot(df_33_EYE[col], kde=True)\n",
    "    plt.title(f'Distribution of {col}')\n",
    "    plt.xlabel(col)\n",
    "    plt.ylabel('Frequency')\n",
    "\n",
    "plt.tight_layout()\n",
    "plt.show()"
   ]
  },
  {
   "cell_type": "markdown",
   "id": "3604d093",
   "metadata": {},
   "source": [
    "List the names of the columns in the DataFrame."
   ]
  },
  {
   "cell_type": "code",
   "execution_count": null,
   "id": "696eae8f",
   "metadata": {},
   "outputs": [],
   "source": [
    "df_33_EYE.columns"
   ]
  },
  {
   "cell_type": "markdown",
   "id": "4c80c450",
   "metadata": {},
   "source": [
    "Define a list of columns to be plotted over time."
   ]
  },
  {
   "cell_type": "code",
   "execution_count": null,
   "id": "b93b51ac",
   "metadata": {},
   "outputs": [],
   "source": [
    "cols = ['ET_GazeLeftx', 'ET_GazeLefty',\n",
    "       'ET_GazeRightx', 'ET_GazeRighty', 'ET_TimeSignal', 'ET_DistanceLeft',\n",
    "       'ET_DistanceRight', 'ET_CameraLeftX', 'ET_CameraLeftY',\n",
    "       'ET_CameraRightX', 'ET_CameraRightY', 'ET_ValidityLeft',\n",
    "       'ET_ValidityRight']"
   ]
  },
  {
   "cell_type": "markdown",
   "id": "a7fba3c5",
   "metadata": {},
   "source": [
    "Plot each of the selected columns against the timestamp to visualize their trends and patterns over time. Markdown cells are added before each plot for better readability."
   ]
  },
  {
   "cell_type": "code",
   "execution_count": null,
   "id": "b1227547",
   "metadata": {},
   "outputs": [],
   "source": [
    "from IPython.display import display, Markdown\n",
    "\n",
    "for col in cols:\n",
    "    # Add a markdown cell before each plot for better separation and labeling\n",
    "    display(Markdown(f'### {col} over Time'))\n",
    "    plt.figure(figsize=(16, 10))\n",
    "    plt.plot(df_33_EYE['Timestamp'], df_33_EYE[col])\n",
    "    plt.xlabel(\"Timestamp\") # Add x-axis label\n",
    "    plt.ylabel(col) # Add y-axis label\n",
    "    plt.show()"
   ]
  },
  {
   "cell_type": "markdown",
   "id": "e240dbb8",
   "metadata": {},
   "source": [
    "Visualize the distributions of numeric columns using boxplots. This helps identify potential outliers and the spread of the data."
   ]
  },
  {
   "cell_type": "code",
   "execution_count": null,
   "id": "f30d8172",
   "metadata": {},
   "outputs": [],
   "source": [
    "# Select only the numeric columns for plotting histograms, excluding time-related columns\n",
    "numeric_cols = df_33_EYE.select_dtypes(include=np.number).columns\n",
    "\n",
    "# Calculate the number of rows and columns for the grid\n",
    "n_cols = 4  # You can adjust the number of columns as needed\n",
    "n_rows = (len(numeric_cols) + n_cols - 1) // n_cols\n",
    "\n",
    "plt.figure(figsize=(n_cols * 5, n_rows * 4)) # Adjust figure size as needed\n",
    "\n",
    "for i, col in enumerate(numeric_cols):\n",
    "    plt.subplot(n_rows, n_cols, i + 1)\n",
    "    sns.boxplot(df_33_EYE[col])\n",
    "    plt.title(f'Boxplot of {col}')\n",
    "    plt.xlabel(col)\n",
    "\n",
    "plt.tight_layout()\n",
    "plt.show()"
   ]
  },
  {
   "cell_type": "markdown",
   "id": "ba6b122d",
   "metadata": {},
   "source": [
    "Replace the placeholder value -1 with NaN (Not a Number) in the DataFrame. This is done before imputation."
   ]
  },
  {
   "cell_type": "code",
   "execution_count": null,
   "id": "835f91ec",
   "metadata": {},
   "outputs": [],
   "source": [
    "df_33_EYE.replace({-1: np.nan}, inplace=True)"
   ]
  },
  {
   "cell_type": "markdown",
   "id": "1b6e2a8e",
   "metadata": {},
   "source": [
    "Impute the missing values (NaN) in the numeric columns with the mean of each column."
   ]
  },
  {
   "cell_type": "code",
   "execution_count": null,
   "id": "98365b70",
   "metadata": {},
   "outputs": [],
   "source": [
    "numeric_cols = df_33_EYE.select_dtypes(include=np.number).columns\n",
    "\n",
    "for col in numeric_cols:\n",
    "    df_33_EYE[col].fillna(df_33_EYE[col].mean(), inplace=True)"
   ]
  },
  {
   "cell_type": "markdown",
   "id": "39869ab4",
   "metadata": {},
   "source": [
    "Display the first few rows after imputing missing values."
   ]
  },
  {
   "cell_type": "code",
   "execution_count": null,
   "id": "02838617",
   "metadata": {},
   "outputs": [],
   "source": [
    "df_33_EYE.head()"
   ]
  },
  {
   "cell_type": "markdown",
   "id": "27065adf",
   "metadata": {},
   "source": [
    "Visualize the distributions of numeric columns again using histograms with KDE plots after imputation. This helps assess the impact of imputation on the data distributions."
   ]
  },
  {
   "cell_type": "code",
   "execution_count": null,
   "id": "4dc6342f",
   "metadata": {},
   "outputs": [],
   "source": [
    "# Select only the numeric columns for plotting histograms, excluding time-related columns\n",
    "numeric_cols = df_33_EYE.select_dtypes(include=np.number).columns\n",
    "cols_to_plot = [col for col in numeric_cols if col not in ['UnixTime']]\n",
    "\n",
    "# Calculate the number of rows and columns for the grid\n",
    "n_cols = 4  # You can adjust the number of columns as needed\n",
    "n_rows = (len(cols_to_plot) + n_cols - 1) // n_cols\n",
    "\n",
    "plt.figure(figsize=(n_cols * 5, n_rows * 4)) # Adjust figure size as needed\n",
    "\n",
    "for i, col in enumerate(cols_to_plot):\n",
    "    plt.subplot(n_rows, n_cols, i + 1)\n",
    "    sns.histplot(df_33_EYE[col], kde=True)\n",
    "    plt.title(f'Distribution of {col}')\n",
    "    plt.xlabel(col)\n",
    "    plt.ylabel('Frequency')\n",
    "\n",
    "plt.tight_layout()\n",
    "plt.show()"
   ]
  },
  {
   "cell_type": "code",
   "execution_count": null,
   "id": "aafae06e",
   "metadata": {},
   "outputs": [],
   "source": []
  },
  {
   "cell_type": "markdown",
   "id": "e92ddfd3",
   "metadata": {},
   "source": [
    "## Student 34"
   ]
  },
  {
   "cell_type": "code",
   "execution_count": null,
   "id": "f27afb54",
   "metadata": {},
   "outputs": [],
   "source": [
    "%load_ext cudf"
   ]
  },
  {
   "cell_type": "code",
   "execution_count": null,
   "id": "aab7bd5c",
   "metadata": {},
   "outputs": [],
   "source": [
    "import numpy as np\n",
    "import pandas as pd\n",
    "import matplotlib.pyplot as plt\n",
    "import seaborn as sns"
   ]
  },
  {
   "cell_type": "code",
   "execution_count": null,
   "id": "f982b4f5",
   "metadata": {},
   "outputs": [],
   "source": [
    "import datashader as ds\n",
    "import datashader.transfer_functions as tf"
   ]
  },
  {
   "cell_type": "code",
   "execution_count": null,
   "id": "f33a4362",
   "metadata": {},
   "outputs": [],
   "source": [
    "pd.set_option('display.max_columns', None)"
   ]
  },
  {
   "cell_type": "code",
   "execution_count": null,
   "id": "7b83c6f8",
   "metadata": {},
   "outputs": [],
   "source": [
    "df_34_EYE = pd.read_csv('data/STData/34/34_EYE.csv')"
   ]
  },
  {
   "cell_type": "code",
   "execution_count": null,
   "id": "2afff17f",
   "metadata": {},
   "outputs": [],
   "source": [
    "df_34_EYE.head()"
   ]
  },
  {
   "cell_type": "code",
   "execution_count": null,
   "id": "5fbfe2ee",
   "metadata": {},
   "outputs": [],
   "source": [
    "df_34_EYE.shape"
   ]
  },
  {
   "cell_type": "code",
   "execution_count": null,
   "id": "0eab6bd4",
   "metadata": {},
   "outputs": [],
   "source": [
    "df_34_EYE.columns"
   ]
  },
  {
   "cell_type": "code",
   "execution_count": null,
   "id": "7ff4aaaa",
   "metadata": {},
   "outputs": [],
   "source": [
    "df_34_EYE.info()"
   ]
  },
  {
   "cell_type": "code",
   "execution_count": null,
   "id": "08d609aa",
   "metadata": {},
   "outputs": [],
   "source": [
    "df_34_EYE.isnull().sum()"
   ]
  },
  {
   "cell_type": "code",
   "execution_count": null,
   "id": "fe4ecb00",
   "metadata": {},
   "outputs": [],
   "source": [
    "plt.figure(figsize=(12,8))\n",
    "sns.heatmap(df_34_EYE.isnull(), cmap='viridis')\n",
    "plt.show()"
   ]
  },
  {
   "cell_type": "markdown",
   "id": "5bb8a2c7",
   "metadata": {},
   "source": [
    "# Notes & Observations\n",
    "\n",
    "- We observe many **null** (or missing) values in the `QuestionKey` columns.  \n",
    "- The nulls in the `QuestionKey` column may not represent “true” nulls. Rather, they follow interval patterns, suggesting that during those periods no question was displayed.  \n",
    "- These missing values in `QuestionKey` require additional investigation and context-aware handling.  "
   ]
  },
  {
   "cell_type": "code",
   "execution_count": null,
   "id": "eebeae72",
   "metadata": {},
   "outputs": [],
   "source": [
    "df_34_EYE['QuestionKey'].unique()"
   ]
  },
  {
   "cell_type": "code",
   "execution_count": null,
   "id": "45dc7b23",
   "metadata": {},
   "outputs": [],
   "source": [
    "df_34_EYE['Timestamp'] = pd.to_datetime(df_34_EYE['Timestamp'])"
   ]
  },
  {
   "cell_type": "code",
   "execution_count": null,
   "id": "8a28d3d0",
   "metadata": {},
   "outputs": [],
   "source": [
    "df_34_EYE.head(3)"
   ]
  },
  {
   "cell_type": "code",
   "execution_count": null,
   "id": "7262bb22",
   "metadata": {},
   "outputs": [],
   "source": [
    "df_34_EYE['QuestionKey'].fillna('None', inplace=True)"
   ]
  },
  {
   "cell_type": "code",
   "execution_count": null,
   "id": "05f396a0",
   "metadata": {},
   "outputs": [],
   "source": [
    "df_34_EYE['QuestionKey'].value_counts()"
   ]
  },
  {
   "cell_type": "code",
   "execution_count": null,
   "id": "325f1753",
   "metadata": {},
   "outputs": [],
   "source": [
    "plt.figure(figsize=(12,8))\n",
    "sns.heatmap(df_34_EYE.isnull(), cmap='viridis')\n",
    "plt.show()"
   ]
  },
  {
   "cell_type": "code",
   "execution_count": null,
   "id": "6afba9e9",
   "metadata": {},
   "outputs": [],
   "source": [
    "df_34_EYE.isnull().sum()"
   ]
  },
  {
   "cell_type": "code",
   "execution_count": null,
   "id": "b50e8648",
   "metadata": {},
   "outputs": [],
   "source": [
    "df_34_EYE.dropna(inplace=True)"
   ]
  },
  {
   "cell_type": "code",
   "execution_count": null,
   "id": "a8ce5e55",
   "metadata": {},
   "outputs": [],
   "source": [
    "df_34_EYE.head()"
   ]
  },
  {
   "cell_type": "code",
   "execution_count": null,
   "id": "c11effa6",
   "metadata": {},
   "outputs": [],
   "source": [
    "df_34_EYE['Row'].unique()"
   ]
  },
  {
   "cell_type": "code",
   "execution_count": null,
   "id": "d160e560",
   "metadata": {},
   "outputs": [],
   "source": [
    "plt.figure(figsize=(8,6))\n",
    "sns.histplot(df_34_EYE['Row'])\n",
    "plt.show()"
   ]
  },
  {
   "cell_type": "markdown",
   "id": "51241c35",
   "metadata": {},
   "source": [
    "# Notes & Observations\n",
    "\n",
    "- The `Row` column appears to be a simple row index and does not provide meaningful information relevant to the eye-tracking data itself. Therefore, it can be dropped."
   ]
  },
  {
   "cell_type": "code",
   "execution_count": null,
   "id": "21b4a1d2",
   "metadata": {},
   "outputs": [],
   "source": [
    "df_34_EYE.drop('Row', axis=1, inplace=True)"
   ]
  },
  {
   "cell_type": "code",
   "execution_count": null,
   "id": "6e17f11b",
   "metadata": {},
   "outputs": [],
   "source": [
    "df_34_EYE['ET_ValidityLeft'].unique()"
   ]
  },
  {
   "cell_type": "code",
   "execution_count": null,
   "id": "cd2630cf",
   "metadata": {},
   "outputs": [],
   "source": [
    "df_34_EYE['ET_ValidityLeft'].value_counts()"
   ]
  },
  {
   "cell_type": "code",
   "execution_count": null,
   "id": "11e6d700",
   "metadata": {},
   "outputs": [],
   "source": [
    "df_34_EYE['ET_ValidityRight'].unique()"
   ]
  },
  {
   "cell_type": "code",
   "execution_count": null,
   "id": "f6e82fe2",
   "metadata": {},
   "outputs": [],
   "source": [
    "df_34_EYE['ET_ValidityRight'].value_counts()"
   ]
  },
  {
   "cell_type": "code",
   "execution_count": null,
   "id": "dfc83cee",
   "metadata": {},
   "outputs": [],
   "source": [
    "plt.figure(figsize=(12, 6))\n",
    "\n",
    "plt.subplot(1, 2, 1)\n",
    "sns.barplot(x=df_34_EYE['ET_ValidityLeft'].value_counts().index, y=df_34_EYE['ET_ValidityLeft'].value_counts().values)\n",
    "plt.title('Count of ET_ValidityLeft')\n",
    "plt.xlabel('Validity')\n",
    "plt.ylabel('Count')\n",
    "\n",
    "\n",
    "plt.subplot(1, 2, 2)\n",
    "sns.barplot(x=df_34_EYE['ET_ValidityRight'].value_counts().index, y=df_34_EYE['ET_ValidityRight'].value_counts().values)\n",
    "plt.title('Count of ET_ValidityRight')\n",
    "plt.xlabel('Validity')\n",
    "plt.ylabel('Count')\n",
    "\n",
    "plt.tight_layout()\n",
    "plt.show()"
   ]
  },
  {
   "cell_type": "markdown",
   "id": "e854f2ea",
   "metadata": {},
   "source": [
    "# Notes & Observations\n",
    "\n",
    "- The `ET_ValidityLeft` and `ET_ValidityRight` columns indicate the validity of the eye-tracking data for the left and right eye, respectively.\n",
    "- Based on the value counts and the bar plots, it appears that a value of `0.0` represents valid eye-tracking data, while a value of `4.0` represents invalid data.\n",
    "- Although the amount of invalid data is relatively small, removing these rows could introduce unwanted patterns or gaps in the time series data.\n",
    "- Therefore, we will keep the data and replace the value `4.0` with `1.0` in both `ET_ValidityLeft` and `ET_ValidityRight` columns. This will indicate to a machine learning model that the eye tracker had invalid data at those specific points in time while maintaining the integrity of the time series."
   ]
  },
  {
   "cell_type": "code",
   "execution_count": null,
   "id": "0a46f6f6",
   "metadata": {},
   "outputs": [],
   "source": [
    "validity_map = {4.0: 1.0, 0.0: 0.0}"
   ]
  },
  {
   "cell_type": "code",
   "execution_count": null,
   "id": "5c8387a5",
   "metadata": {},
   "outputs": [],
   "source": [
    "df_34_EYE['ET_ValidityLeft'] = df_34_EYE['ET_ValidityLeft'].map(validity_map).astype(np.int8)\n",
    "df_34_EYE['ET_ValidityRight'] = df_34_EYE['ET_ValidityRight'].map(validity_map).astype(np.int8)"
   ]
  },
  {
   "cell_type": "code",
   "execution_count": null,
   "id": "000b40e4",
   "metadata": {},
   "outputs": [],
   "source": [
    "df_34_EYE.head(3)"
   ]
  },
  {
   "cell_type": "code",
   "execution_count": null,
   "id": "0513f574",
   "metadata": {},
   "outputs": [],
   "source": [
    "df_34_EYE.describe()"
   ]
  },
  {
   "cell_type": "code",
   "execution_count": null,
   "id": "b1cde8bb",
   "metadata": {},
   "outputs": [],
   "source": [
    "df_34_EYE[df_34_EYE['ET_ValidityLeft'] == 1].shape"
   ]
  },
  {
   "cell_type": "code",
   "execution_count": null,
   "id": "28597bb8",
   "metadata": {},
   "outputs": [],
   "source": [
    "df_34_EYE[df_34_EYE['ET_ValidityRight'] == 1].shape"
   ]
  },
  {
   "cell_type": "code",
   "execution_count": null,
   "id": "ad30b4e8",
   "metadata": {},
   "outputs": [],
   "source": [
    "plt.figure(figsize=(18, 8))\n",
    "\n",
    "plt.subplot(1, 2, 1)\n",
    "sns.heatmap(df_34_EYE == -1, cmap='viridis')\n",
    "plt.title('Heatmap of -1 Values')\n",
    "\n",
    "plt.subplot(1, 2, 2)\n",
    "sns.heatmap(df_34_EYE == 1, cmap='viridis')\n",
    "plt.title('Heatmap of 1 Values')\n",
    "\n",
    "plt.tight_layout()\n",
    "plt.show()"
   ]
  },
  {
   "cell_type": "code",
   "execution_count": null,
   "id": "4656478a",
   "metadata": {},
   "outputs": [],
   "source": [
    "df_34_EYE[df_34_EYE['ET_PupilLeft'] == -1].shape"
   ]
  },
  {
   "cell_type": "code",
   "execution_count": null,
   "id": "b085a818",
   "metadata": {},
   "outputs": [],
   "source": [
    "df_34_EYE[df_34_EYE['ET_PupilRight'] == -1].shape"
   ]
  },
  {
   "cell_type": "code",
   "execution_count": null,
   "id": "37397b74",
   "metadata": {},
   "outputs": [],
   "source": [
    "df_34_EYE[df_34_EYE['ET_PupilLeft'] == -1].shape[0] / df_34_EYE.shape[0]"
   ]
  },
  {
   "cell_type": "code",
   "execution_count": null,
   "id": "9a36d518",
   "metadata": {},
   "outputs": [],
   "source": [
    "df_34_EYE[df_34_EYE['ET_PupilRight'] == -1].shape[0] / df_34_EYE.shape[0]"
   ]
  },
  {
   "cell_type": "code",
   "execution_count": null,
   "id": "658823b2",
   "metadata": {},
   "outputs": [],
   "source": [
    "plt.figure(figsize=(18, 8))\n",
    "\n",
    "plt.subplot(1, 2, 1)\n",
    "sns.heatmap(df_34_EYE[df_34_EYE['ET_ValidityLeft'] == 1] == -1, cmap='viridis')\n",
    "plt.title('Heatmap of -1 Values')\n",
    "\n",
    "plt.subplot(1, 2, 2)\n",
    "sns.heatmap(df_34_EYE[df_34_EYE['ET_ValidityRight'] == 1] == -1, cmap='viridis')\n",
    "plt.title('Heatmap of -1 Values')\n",
    "\n",
    "plt.tight_layout()\n",
    "plt.show()"
   ]
  },
  {
   "cell_type": "markdown",
   "id": "cf1510c2",
   "metadata": {},
   "source": [
    "# Notes & Observations\n",
    "\n",
    "- The heatmaps reveal the distribution of -1 values across different columns.\n",
    "- It is evident that the `-1` values are not randomly scattered but appear in specific columns, notably `ET_GazeLeftx`, `ET_GazeLefty`, `ET_GazeRightx`, `ET_GazeRighty`, `ET_PupilLeft`, `ET_PupilRight`, `ET_DistanceLeft`, `ET_DistanceRight`, `ET_CameraLeftX`, `ET_CameraLeftY`, `ET_CameraRightX`, and `ET_CameraRightY`.\n",
    "- These `-1` values often coincide with instances where `ET_ValidityLeft` or `ET_ValidityRight` is 1, indicating invalid eye-tracking data. This suggests that `-1` is used as a placeholder for missing or invalid measurements in these columns when the eye tracker is not providing valid data for a particular eye.\n",
    "- Given that over 70% of the data in the `ET_PupilLeft` and `ET_PupilRight` columns is marked as invalid (-1), these columns may not be suitable for analysis and could be considered for dropping."
   ]
  },
  {
   "cell_type": "code",
   "execution_count": null,
   "id": "708b59f7",
   "metadata": {},
   "outputs": [],
   "source": [
    "df_34_EYE.drop(['ET_PupilLeft', 'ET_PupilRight'], axis=1, inplace=True)"
   ]
  },
  {
   "cell_type": "code",
   "execution_count": null,
   "id": "2b6396e9",
   "metadata": {},
   "outputs": [],
   "source": [
    "df_34_EYE.head()"
   ]
  },
  {
   "cell_type": "code",
   "execution_count": null,
   "id": "47f2eb98",
   "metadata": {},
   "outputs": [],
   "source": [
    "plt.figure(figsize=(18, 8))\n",
    "\n",
    "plt.subplot(1, 2, 1)\n",
    "sns.heatmap(df_34_EYE == -1, cmap='viridis')\n",
    "plt.title('Heatmap of -1 Values')\n",
    "\n",
    "plt.subplot(1, 2, 2)\n",
    "sns.heatmap(df_34_EYE == 1, cmap='viridis')\n",
    "plt.title('Heatmap of -1 Values')\n",
    "\n",
    "plt.tight_layout()\n",
    "plt.show()"
   ]
  },
  {
   "cell_type": "code",
   "execution_count": null,
   "id": "260cf163",
   "metadata": {},
   "outputs": [],
   "source": [
    "valid_left_ratio  = 1 - df_34_EYE['ET_ValidityLeft'].mean()\n",
    "valid_right_ratio = 1 - df_34_EYE['ET_ValidityRight'].mean()"
   ]
  },
  {
   "cell_type": "code",
   "execution_count": null,
   "id": "11ad1135",
   "metadata": {},
   "outputs": [],
   "source": [
    "valid_left_ratio"
   ]
  },
  {
   "cell_type": "code",
   "execution_count": null,
   "id": "f623f65a",
   "metadata": {},
   "outputs": [],
   "source": [
    "valid_right_ratio"
   ]
  },
  {
   "cell_type": "code",
   "execution_count": null,
   "id": "c9a0d76e",
   "metadata": {},
   "outputs": [],
   "source": [
    "df_34_EYE.head()"
   ]
  },
  {
   "cell_type": "code",
   "execution_count": null,
   "id": "bde022d7",
   "metadata": {},
   "outputs": [],
   "source": [
    "# Select only the numeric columns for plotting histograms, excluding time-related columns\n",
    "numeric_cols = df_34_EYE.select_dtypes(include=np.number).columns\n",
    "cols_to_plot = [col for col in numeric_cols if col not in ['UnixTime']]\n",
    "\n",
    "# Calculate the number of rows and columns for the grid\n",
    "n_cols = 4  # You can adjust the number of columns as needed\n",
    "n_rows = (len(cols_to_plot) + n_cols - 1) // n_cols\n",
    "\n",
    "plt.figure(figsize=(n_cols * 5, n_rows * 4)) # Adjust figure size as needed\n",
    "\n",
    "for i, col in enumerate(cols_to_plot):\n",
    "    plt.subplot(n_rows, n_cols, i + 1)\n",
    "    sns.histplot(df_34_EYE[col], kde=True)\n",
    "    plt.title(f'Distribution of {col}')\n",
    "    plt.xlabel(col)\n",
    "    plt.ylabel('Frequency')\n",
    "\n",
    "plt.tight_layout()\n",
    "plt.show()"
   ]
  },
  {
   "cell_type": "code",
   "execution_count": null,
   "id": "e79d7387",
   "metadata": {},
   "outputs": [],
   "source": [
    "df_34_EYE.columns"
   ]
  },
  {
   "cell_type": "code",
   "execution_count": null,
   "id": "2af44d6f",
   "metadata": {},
   "outputs": [],
   "source": [
    "cols = ['ET_GazeLeftx', 'ET_GazeLefty',\n",
    "       'ET_GazeRightx', 'ET_GazeRighty', 'ET_TimeSignal', 'ET_DistanceLeft',\n",
    "       'ET_DistanceRight', 'ET_CameraLeftX', 'ET_CameraLeftY',\n",
    "       'ET_CameraRightX', 'ET_CameraRightY', 'ET_ValidityLeft',\n",
    "       'ET_ValidityRight']"
   ]
  },
  {
   "cell_type": "code",
   "execution_count": null,
   "id": "295a24ba",
   "metadata": {},
   "outputs": [],
   "source": [
    "from IPython.display import display, Markdown\n",
    "\n",
    "for col in cols:\n",
    "    # Add a markdown cell before each plot for better separation and labeling\n",
    "    display(Markdown(f'### {col} over Time'))\n",
    "    plt.figure(figsize=(16, 10))\n",
    "    plt.plot(df_34_EYE['Timestamp'], df_34_EYE[col])\n",
    "    plt.xlabel(\"Timestamp\") # Add x-axis label\n",
    "    plt.ylabel(col) # Add y-axis label\n",
    "    plt.show()"
   ]
  },
  {
   "cell_type": "code",
   "execution_count": null,
   "id": "24862f60",
   "metadata": {},
   "outputs": [],
   "source": [
    "# Select only the numeric columns for plotting histograms, excluding time-related columns\n",
    "numeric_cols = df_34_EYE.select_dtypes(include=np.number).columns\n",
    "\n",
    "# Calculate the number of rows and columns for the grid\n",
    "n_cols = 4  # You can adjust the number of columns as needed\n",
    "n_rows = (len(numeric_cols) + n_cols - 1) // n_cols\n",
    "\n",
    "plt.figure(figsize=(n_cols * 5, n_rows * 4)) # Adjust figure size as needed\n",
    "\n",
    "for i, col in enumerate(numeric_cols):\n",
    "    plt.subplot(n_rows, n_cols, i + 1)\n",
    "    sns.boxplot(df_34_EYE[col])\n",
    "    plt.title(f'Boxplot of {col}')\n",
    "    plt.xlabel(col)\n",
    "\n",
    "plt.tight_layout()\n",
    "plt.show()"
   ]
  },
  {
   "cell_type": "code",
   "execution_count": null,
   "id": "32eee167",
   "metadata": {},
   "outputs": [],
   "source": [
    "df_34_EYE.replace({-1: np.nan}, inplace=True)"
   ]
  },
  {
   "cell_type": "code",
   "execution_count": null,
   "id": "c0031464",
   "metadata": {},
   "outputs": [],
   "source": [
    "numeric_cols = df_34_EYE.select_dtypes(include=np.number).columns\n",
    "\n",
    "for col in numeric_cols:\n",
    "    df_34_EYE[col].fillna(df_34_EYE[col].mean(), inplace=True)"
   ]
  },
  {
   "cell_type": "code",
   "execution_count": null,
   "id": "061ac57a",
   "metadata": {},
   "outputs": [],
   "source": [
    "df_34_EYE.head()"
   ]
  },
  {
   "cell_type": "code",
   "execution_count": null,
   "id": "dad2bba9",
   "metadata": {},
   "outputs": [],
   "source": [
    "# Select only the numeric columns for plotting histograms, excluding time-related columns\n",
    "numeric_cols = df_34_EYE.select_dtypes(include=np.number).columns\n",
    "cols_to_plot = [col for col in numeric_cols if col not in ['UnixTime']]\n",
    "\n",
    "# Calculate the number of rows and columns for the grid\n",
    "n_cols = 4  # You can adjust the number of columns as needed\n",
    "n_rows = (len(cols_to_plot) + n_cols - 1) // n_cols\n",
    "\n",
    "plt.figure(figsize=(n_cols * 5, n_rows * 4)) # Adjust figure size as needed\n",
    "\n",
    "for i, col in enumerate(cols_to_plot):\n",
    "    plt.subplot(n_rows, n_cols, i + 1)\n",
    "    sns.histplot(df_34_EYE[col], kde=True)\n",
    "    plt.title(f'Distribution of {col}')\n",
    "    plt.xlabel(col)\n",
    "    plt.ylabel('Frequency')\n",
    "\n",
    "plt.tight_layout()\n",
    "plt.show()"
   ]
  },
  {
   "cell_type": "code",
   "execution_count": null,
   "id": "1c76612b",
   "metadata": {},
   "outputs": [],
   "source": []
  },
  {
   "cell_type": "code",
   "execution_count": null,
   "id": "7c39edc7",
   "metadata": {},
   "outputs": [],
   "source": []
  },
  {
   "cell_type": "code",
   "execution_count": null,
   "id": "fffb4e08",
   "metadata": {},
   "outputs": [],
   "source": []
  },
  {
   "cell_type": "code",
   "execution_count": null,
   "id": "0630b0bf",
   "metadata": {},
   "outputs": [],
   "source": []
  },
  {
   "cell_type": "code",
   "execution_count": null,
   "id": "e26c1515",
   "metadata": {},
   "outputs": [],
   "source": []
  },
  {
   "cell_type": "code",
   "execution_count": null,
   "id": "75733772",
   "metadata": {},
   "outputs": [],
   "source": []
  },
  {
   "cell_type": "code",
   "execution_count": null,
   "id": "ae20cbdc",
   "metadata": {},
   "outputs": [],
   "source": []
  },
  {
   "cell_type": "code",
   "execution_count": null,
   "id": "4edb8aa1",
   "metadata": {},
   "outputs": [],
   "source": []
  },
  {
   "cell_type": "code",
   "execution_count": null,
   "id": "b9ac08e3",
   "metadata": {},
   "outputs": [],
   "source": []
  },
  {
   "cell_type": "code",
   "execution_count": null,
   "id": "4b46ca38",
   "metadata": {},
   "outputs": [],
   "source": []
  },
  {
   "cell_type": "code",
   "execution_count": null,
   "id": "64c5c8e0",
   "metadata": {},
   "outputs": [],
   "source": []
  },
  {
   "cell_type": "code",
   "execution_count": null,
   "id": "148cc62a",
   "metadata": {},
   "outputs": [],
   "source": []
  },
  {
   "cell_type": "markdown",
   "id": "3778cd93",
   "metadata": {},
   "source": [
    "# Eye Tracking Data Analysis\n",
    "\n",
    "This notebook performs exploratory data analysis and cleaning on eye-tracking data.\n",
    "\n",
    "## Data Loading and Initial Inspection"
   ]
  },
  {
   "cell_type": "code",
   "execution_count": null,
   "id": "36a4a26e",
   "metadata": {},
   "outputs": [],
   "source": [
    "%load_ext cudf"
   ]
  },
  {
   "cell_type": "markdown",
   "id": "065a3552",
   "metadata": {},
   "source": [
    "Import necessary libraries for data manipulation, analysis, and visualization."
   ]
  },
  {
   "cell_type": "code",
   "execution_count": null,
   "id": "00028950",
   "metadata": {},
   "outputs": [],
   "source": [
    "import numpy as np\n",
    "import pandas as pd\n",
    "import matplotlib.pyplot as plt\n",
    "import seaborn as sns"
   ]
  },
  {
   "cell_type": "markdown",
   "id": "a5a2bf99",
   "metadata": {},
   "source": [
    "Import libraries for datashader, which can be used for visualizing large datasets."
   ]
  },
  {
   "cell_type": "code",
   "execution_count": null,
   "id": "bcb9c619",
   "metadata": {},
   "outputs": [],
   "source": [
    "import datashader as ds\n",
    "import datashader.transfer_functions as tf"
   ]
  },
  {
   "cell_type": "markdown",
   "id": "2de91d2f",
   "metadata": {},
   "source": [
    "Set pandas display options to show all columns."
   ]
  },
  {
   "cell_type": "code",
   "execution_count": null,
   "id": "a263be65",
   "metadata": {},
   "outputs": [],
   "source": [
    "pd.set_option('display.max_columns', None)"
   ]
  },
  {
   "cell_type": "markdown",
   "id": "d3702643",
   "metadata": {},
   "source": [
    "Load the eye-tracking data from the specified CSV file into a pandas DataFrame."
   ]
  },
  {
   "cell_type": "code",
   "execution_count": null,
   "id": "3dd65d43",
   "metadata": {},
   "outputs": [],
   "source": [
    "df_34_EYE = pd.read_csv('data/STData/34/34_EYE.csv')"
   ]
  },
  {
   "cell_type": "markdown",
   "id": "0a9d9ea9",
   "metadata": {},
   "source": [
    "Display the first few rows of the DataFrame to get an initial look at the data structure and content."
   ]
  },
  {
   "cell_type": "code",
   "execution_count": null,
   "id": "528567e3",
   "metadata": {},
   "outputs": [],
   "source": [
    "df_34_EYE.head()"
   ]
  },
  {
   "cell_type": "markdown",
   "id": "68e6d5f3",
   "metadata": {},
   "source": [
    "Check the dimensions (number of rows and columns) of the DataFrame."
   ]
  },
  {
   "cell_type": "code",
   "execution_count": null,
   "id": "267085d1",
   "metadata": {},
   "outputs": [],
   "source": [
    "df_34_EYE.shape"
   ]
  },
  {
   "cell_type": "markdown",
   "id": "ed218da8",
   "metadata": {},
   "source": [
    "List the names of all columns in the DataFrame."
   ]
  },
  {
   "cell_type": "code",
   "execution_count": null,
   "id": "482ce7f1",
   "metadata": {},
   "outputs": [],
   "source": [
    "df_34_EYE.columns"
   ]
  },
  {
   "cell_type": "markdown",
   "id": "9c63ef1d",
   "metadata": {},
   "source": [
    "Display concise information about the DataFrame, including the data types of each column and the number of non-null values. This helps identify columns with missing data."
   ]
  },
  {
   "cell_type": "code",
   "execution_count": null,
   "id": "7e02fcd3",
   "metadata": {},
   "outputs": [],
   "source": [
    "df_34_EYE.info()"
   ]
  },
  {
   "cell_type": "markdown",
   "id": "462e5a79",
   "metadata": {},
   "source": [
    "Calculate and display the number of missing values in each column."
   ]
  },
  {
   "cell_type": "code",
   "execution_count": null,
   "id": "8109ecd8",
   "metadata": {},
   "outputs": [],
   "source": [
    "df_34_EYE.isnull().sum()"
   ]
  },
  {
   "cell_type": "markdown",
   "id": "fe31c136",
   "metadata": {},
   "source": [
    "Visualize the distribution of missing values using a heatmap. This provides a visual representation of which columns have missing data and the extent of missingness."
   ]
  },
  {
   "cell_type": "code",
   "execution_count": null,
   "id": "5663c9de",
   "metadata": {},
   "outputs": [],
   "source": [
    "plt.figure(figsize=(12,8))\n",
    "sns.heatmap(df_34_EYE.isnull(), cmap='viridis')\n",
    "plt.show()"
   ]
  },
  {
   "cell_type": "markdown",
   "id": "17c740f1",
   "metadata": {},
   "source": [
    "# Notes & Observations\n",
    "\n",
    "- We observe many **null** (or missing) values in the `QuestionKey` columns.\n",
    "- The nulls in the `QuestionKey` column may not represent “true” nulls. Rather, they follow interval patterns, suggesting that during those periods no question was displayed.\n",
    "- These missing values in `QuestionKey` require additional investigation and context-aware handling."
   ]
  },
  {
   "cell_type": "markdown",
   "id": "4a11e4e8",
   "metadata": {},
   "source": [
    "Display the unique values in the `QuestionKey` column to understand the different types of questions or states recorded."
   ]
  },
  {
   "cell_type": "code",
   "execution_count": null,
   "id": "7b9d39d1",
   "metadata": {},
   "outputs": [],
   "source": [
    "df_34_EYE['QuestionKey'].unique()"
   ]
  },
  {
   "cell_type": "markdown",
   "id": "bbdb4531",
   "metadata": {},
   "source": [
    "Convert the `Timestamp` column to datetime objects. This is crucial for any time series analysis or manipulation."
   ]
  },
  {
   "cell_type": "code",
   "execution_count": null,
   "id": "4e8cab23",
   "metadata": {},
   "outputs": [],
   "source": [
    "df_34_EYE['Timestamp'] = pd.to_datetime(df_34_EYE['Timestamp'])"
   ]
  },
  {
   "cell_type": "markdown",
   "id": "71fe8891",
   "metadata": {},
   "source": [
    "Display the first few rows again to see the effect of the timestamp conversion."
   ]
  },
  {
   "cell_type": "code",
   "execution_count": null,
   "id": "c3781191",
   "metadata": {},
   "outputs": [],
   "source": [
    "df_34_EYE.head(3)"
   ]
  },
  {
   "cell_type": "markdown",
   "id": "2d0ba04a",
   "metadata": {},
   "source": [
    "Fill the missing values in the `QuestionKey` column with the string 'None'. This helps to explicitly mark periods where no question was active."
   ]
  },
  {
   "cell_type": "code",
   "execution_count": null,
   "id": "b85d1b29",
   "metadata": {},
   "outputs": [],
   "source": [
    "df_34_EYE['QuestionKey'].fillna('None', inplace=True)"
   ]
  },
  {
   "cell_type": "markdown",
   "id": "f7de8127",
   "metadata": {},
   "source": [
    "Count the occurrences of each unique value in the `QuestionKey` column after filling missing values."
   ]
  },
  {
   "cell_type": "code",
   "execution_count": null,
   "id": "6b03f2a1",
   "metadata": {},
   "outputs": [],
   "source": [
    "df_34_EYE['QuestionKey'].value_counts()"
   ]
  },
  {
   "cell_type": "markdown",
   "id": "2b3c684d",
   "metadata": {},
   "source": [
    "Display the heatmap of missing values again to confirm that the missing values in `QuestionKey` have been handled."
   ]
  },
  {
   "cell_type": "code",
   "execution_count": null,
   "id": "ce7cc243",
   "metadata": {},
   "outputs": [],
   "source": [
    "plt.figure(figsize=(12,8))\n",
    "sns.heatmap(df_34_EYE.isnull(), cmap='viridis')\n",
    "plt.show()"
   ]
  },
  {
   "cell_type": "markdown",
   "id": "36674dcb",
   "metadata": {},
   "source": [
    "Recalculate and display the number of missing values per column to confirm the changes after handling `QuestionKey`."
   ]
  },
  {
   "cell_type": "code",
   "execution_count": null,
   "id": "2d91ddb8",
   "metadata": {},
   "outputs": [],
   "source": [
    "df_34_EYE.isnull().sum()"
   ]
  },
  {
   "cell_type": "markdown",
   "id": "d26d833d",
   "metadata": {},
   "source": [
    "Drop rows that still contain any missing values. This is done after handling `QuestionKey` separately."
   ]
  },
  {
   "cell_type": "code",
   "execution_count": null,
   "id": "1b27e6f1",
   "metadata": {},
   "outputs": [],
   "source": [
    "df_34_EYE.dropna(inplace=True)"
   ]
  },
  {
   "cell_type": "markdown",
   "id": "1cdfd4c6",
   "metadata": {},
   "source": [
    "Display the first few rows after dropping rows with missing values."
   ]
  },
  {
   "cell_type": "code",
   "execution_count": null,
   "id": "a85e9ec7",
   "metadata": {},
   "outputs": [],
   "source": [
    "df_34_EYE.head()"
   ]
  },
  {
   "cell_type": "markdown",
   "id": "5c20c194",
   "metadata": {},
   "source": [
    "Display the unique values in the `Row` column."
   ]
  },
  {
   "cell_type": "code",
   "execution_count": null,
   "id": "df235dd6",
   "metadata": {},
   "outputs": [],
   "source": [
    "df_34_EYE['Row'].unique()"
   ]
  },
  {
   "cell_type": "markdown",
   "id": "4f7ca6e1",
   "metadata": {},
   "source": [
    "Plot a histogram of the `Row` column to visualize its distribution."
   ]
  },
  {
   "cell_type": "code",
   "execution_count": null,
   "id": "c9fa5dc1",
   "metadata": {},
   "outputs": [],
   "source": [
    "plt.figure(figsize=(8,6))\n",
    "sns.histplot(df_34_EYE['Row'])\n",
    "plt.show()"
   ]
  },
  {
   "cell_type": "markdown",
   "id": "4436945b",
   "metadata": {},
   "source": [
    "# Notes & Observations\n",
    "\n",
    "- The `Row` column appears to be a simple row index and does not provide meaningful information relevant to the eye-tracking data itself. Therefore, it can be dropped."
   ]
  },
  {
   "cell_type": "markdown",
   "id": "b41cd2d0",
   "metadata": {},
   "source": [
    "Drop the `Row` column as it is not relevant for the analysis."
   ]
  },
  {
   "cell_type": "code",
   "execution_count": null,
   "id": "4ab799a9",
   "metadata": {},
   "outputs": [],
   "source": [
    "df_34_EYE.drop('Row', axis=1, inplace=True)"
   ]
  },
  {
   "cell_type": "markdown",
   "id": "c8c1417c",
   "metadata": {},
   "source": [
    "Display the unique values in the `ET_ValidityLeft` column."
   ]
  },
  {
   "cell_type": "code",
   "execution_count": null,
   "id": "7c7a6cbf",
   "metadata": {},
   "outputs": [],
   "source": [
    "df_34_EYE['ET_ValidityLeft'].unique()"
   ]
  },
  {
   "cell_type": "markdown",
   "id": "dc6be133",
   "metadata": {},
   "source": [
    "Count the occurrences of each unique value in the `ET_ValidityLeft` column."
   ]
  },
  {
   "cell_type": "code",
   "execution_count": null,
   "id": "a2e8869e",
   "metadata": {},
   "outputs": [],
   "source": [
    "df_34_EYE['ET_ValidityLeft'].value_counts()"
   ]
  },
  {
   "cell_type": "markdown",
   "id": "2ede66f3",
   "metadata": {},
   "source": [
    "Display the unique values in the `ET_ValidityRight` column."
   ]
  },
  {
   "cell_type": "code",
   "execution_count": null,
   "id": "90542e9c",
   "metadata": {},
   "outputs": [],
   "source": [
    "df_34_EYE['ET_ValidityRight'].unique()"
   ]
  },
  {
   "cell_type": "markdown",
   "id": "7ff242c2",
   "metadata": {},
   "source": [
    "Count the occurrences of each unique value in the `ET_ValidityRight` column."
   ]
  },
  {
   "cell_type": "code",
   "execution_count": null,
   "id": "0ad9bf16",
   "metadata": {},
   "outputs": [],
   "source": [
    "df_34_EYE['ET_ValidityRight'].value_counts()"
   ]
  },
  {
   "cell_type": "markdown",
   "id": "04f42c43",
   "metadata": {},
   "source": [
    "Visualize the counts of valid and invalid data for both left and right eyes using bar plots."
   ]
  },
  {
   "cell_type": "code",
   "execution_count": null,
   "id": "8fc9d2d4",
   "metadata": {},
   "outputs": [],
   "source": [
    "plt.figure(figsize=(12, 6))\n",
    "\n",
    "plt.subplot(1, 2, 1)\n",
    "sns.barplot(x=df_34_EYE['ET_ValidityLeft'].value_counts().index, y=df_34_EYE['ET_ValidityLeft'].value_counts().values)\n",
    "plt.title('Count of ET_ValidityLeft')\n",
    "plt.xlabel('Validity')\n",
    "plt.ylabel('Count')\n",
    "\n",
    "\n",
    "plt.subplot(1, 2, 2)\n",
    "sns.barplot(x=df_34_EYE['ET_ValidityRight'].value_counts().index, y=df_34_EYE['ET_ValidityRight'].value_counts().values)\n",
    "plt.title('Count of ET_ValidityRight')\n",
    "plt.xlabel('Validity')\n",
    "plt.ylabel('Count')\n",
    "\n",
    "plt.tight_layout()\n",
    "plt.show()"
   ]
  },
  {
   "cell_type": "markdown",
   "id": "59338ae2",
   "metadata": {},
   "source": [
    "# Notes & Observations\n",
    "\n",
    "- The `ET_ValidityLeft` and `ET_ValidityRight` columns indicate the validity of the eye-tracking data for the left and right eye, respectively.\n",
    "- Based on the value counts and the bar plots, it appears that a value of `0.0` represents valid eye-tracking data, while a value of `4.0` represents invalid data.\n",
    "- Although the amount of invalid data is relatively small, removing these rows could introduce unwanted patterns or gaps in the time series data.\n",
    "- Therefore, we will keep the data and replace the value `4.0` with `1.0` in both `ET_ValidityLeft` and `ET_ValidityRight` columns. This will indicate to a machine learning model that the eye tracker had invalid data at those specific points in time while maintaining the integrity of the time series."
   ]
  },
  {
   "cell_type": "markdown",
   "id": "aa50eb3c",
   "metadata": {},
   "source": [
    "Define a mapping to convert validity values from `0.0` and `4.0` to `0` and `1`."
   ]
  },
  {
   "cell_type": "code",
   "execution_count": null,
   "id": "eaeb7f5f",
   "metadata": {},
   "outputs": [],
   "source": [
    "validity_map = {4.0: 1.0, 0.0: 0.0}"
   ]
  },
  {
   "cell_type": "markdown",
   "id": "99fc858d",
   "metadata": {},
   "source": [
    "Apply the mapping to the `ET_ValidityLeft` and `ET_ValidityRight` columns and convert the data type to integer."
   ]
  },
  {
   "cell_type": "code",
   "execution_count": null,
   "id": "f741ea54",
   "metadata": {},
   "outputs": [],
   "source": [
    "df_34_EYE['ET_ValidityLeft'] = df_34_EYE['ET_ValidityLeft'].map(validity_map).astype(np.int8)\n",
    "df_34_EYE['ET_ValidityRight'] = df_34_EYE['ET_ValidityRight'].map(validity_map).astype(np.int8)"
   ]
  },
  {
   "cell_type": "markdown",
   "id": "aa1a31e6",
   "metadata": {},
   "source": [
    "Display the first few rows to see the updated validity columns."
   ]
  },
  {
   "cell_type": "code",
   "execution_count": null,
   "id": "e1ba4ae7",
   "metadata": {},
   "outputs": [],
   "source": [
    "df_34_EYE.head(3)"
   ]
  },
  {
   "cell_type": "markdown",
   "id": "b6465c68",
   "metadata": {},
   "source": [
    "Display descriptive statistics for the DataFrame, including count, mean, standard deviation, min, max, and quartiles for numeric columns."
   ]
  },
  {
   "cell_type": "code",
   "execution_count": null,
   "id": "d1d592dc",
   "metadata": {},
   "outputs": [],
   "source": [
    "df_34_EYE.describe()"
   ]
  },
  {
   "cell_type": "markdown",
   "id": "fdad7bc3",
   "metadata": {},
   "source": [
    "Check the number of rows where `ET_ValidityLeft` is 1 (invalid data for the left eye)."
   ]
  },
  {
   "cell_type": "code",
   "execution_count": null,
   "id": "24b65ceb",
   "metadata": {},
   "outputs": [],
   "source": [
    "df_34_EYE[df_34_EYE['ET_ValidityLeft'] == 1].shape"
   ]
  },
  {
   "cell_type": "markdown",
   "id": "f1ea235a",
   "metadata": {},
   "source": [
    "Check the number of rows where `ET_ValidityRight` is 1 (invalid data for the right eye)."
   ]
  },
  {
   "cell_type": "code",
   "execution_count": null,
   "id": "b534b792",
   "metadata": {},
   "outputs": [],
   "source": [
    "df_34_EYE[df_34_EYE['ET_ValidityRight'] == 1].shape"
   ]
  },
  {
   "cell_type": "markdown",
   "id": "2f68d65f",
   "metadata": {},
   "source": [
    "Visualize the distribution of -1 and 1 values across columns using heatmaps. This helps identify columns with placeholder or indicator values."
   ]
  },
  {
   "cell_type": "code",
   "execution_count": null,
   "id": "3fcd1ff9",
   "metadata": {},
   "outputs": [],
   "source": [
    "plt.figure(figsize=(18, 8))\n",
    "\n",
    "plt.subplot(1, 2, 1)\n",
    "sns.heatmap(df_34_EYE == -1, cmap='viridis')\n",
    "plt.title('Heatmap of -1 Values')\n",
    "\n",
    "plt.subplot(1, 2, 2)\n",
    "sns.heatmap(df_34_EYE == 1, cmap='viridis')\n",
    "plt.title('Heatmap of 1 Values')\n",
    "\n",
    "plt.tight_layout()\n",
    "plt.show()"
   ]
  },
  {
   "cell_type": "markdown",
   "id": "3b305b1b",
   "metadata": {},
   "source": [
    "Check the number of rows where `ET_PupilLeft` is -1."
   ]
  },
  {
   "cell_type": "code",
   "execution_count": null,
   "id": "ef6ab4dc",
   "metadata": {},
   "outputs": [],
   "source": [
    "df_34_EYE[df_34_EYE['ET_PupilLeft'] == -1].shape"
   ]
  },
  {
   "cell_type": "markdown",
   "id": "f91813db",
   "metadata": {},
   "source": [
    "Check the number of rows where `ET_PupilRight` is -1."
   ]
  },
  {
   "cell_type": "code",
   "execution_count": null,
   "id": "63c17eb0",
   "metadata": {},
   "outputs": [],
   "source": [
    "df_34_EYE[df_34_EYE['ET_PupilRight'] == -1].shape"
   ]
  },
  {
   "cell_type": "markdown",
   "id": "17f370d8",
   "metadata": {},
   "source": [
    "Calculate the ratio of rows with -1 values in the `ET_PupilLeft` column to the total number of rows."
   ]
  },
  {
   "cell_type": "code",
   "execution_count": null,
   "id": "f78262fd",
   "metadata": {},
   "outputs": [],
   "source": [
    "df_34_EYE[df_34_EYE['ET_PupilLeft'] == -1].shape[0] / df_34_EYE.shape[0]"
   ]
  },
  {
   "cell_type": "markdown",
   "id": "f3182a12",
   "metadata": {},
   "source": [
    "Calculate the ratio of rows with -1 values in the `ET_PupilRight` column to the total number of rows."
   ]
  },
  {
   "cell_type": "code",
   "execution_count": null,
   "id": "e08afe30",
   "metadata": {},
   "outputs": [],
   "source": [
    "df_34_EYE[df_34_EYE['ET_PupilRight'] == -1].shape[0] / df_34_EYE.shape[0]"
   ]
  },
  {
   "cell_type": "markdown",
   "id": "1d6b9f47",
   "metadata": {},
   "source": [
    "Visualize the distribution of -1 values specifically for rows where validity is 1 (invalid data)."
   ]
  },
  {
   "cell_type": "code",
   "execution_count": null,
   "id": "ac2f19fe",
   "metadata": {},
   "outputs": [],
   "source": [
    "plt.figure(figsize=(18, 8))\n",
    "\n",
    "plt.subplot(1, 2, 1)\n",
    "sns.heatmap(df_34_EYE[df_34_EYE['ET_ValidityLeft'] == 1] == -1, cmap='viridis')\n",
    "plt.title('Heatmap of -1 Values')\n",
    "\n",
    "plt.subplot(1, 2, 2)\n",
    "sns.heatmap(df_34_EYE[df_34_EYE['ET_ValidityRight'] == 1] == -1, cmap='viridis')\n",
    "plt.title('Heatmap of -1 Values')\n",
    "\n",
    "plt.tight_layout()\n",
    "plt.show()"
   ]
  },
  {
   "cell_type": "markdown",
   "id": "c8adcbad",
   "metadata": {},
   "source": [
    "# Notes & Observations\n",
    "\n",
    "- The heatmaps reveal the distribution of -1 values across different columns.\n",
    "- It is evident that the `-1` values are not randomly scattered but appear in specific columns, notably `ET_GazeLeftx`, `ET_GazeLefty`, `ET_GazeRightx`, `ET_GazeRighty`, `ET_PupilLeft`, `ET_PupilRight`, `ET_DistanceLeft`, `ET_DistanceRight`, `ET_CameraLeftX`, `ET_CameraLeftY`, `ET_CameraRightX`, and `ET_CameraRightY`.\n",
    "- These `-1` values often coincide with instances where `ET_ValidityLeft` or `ET_ValidityRight` is 1, indicating invalid eye-tracking data. This suggests that `-1` is used as a placeholder for missing or invalid measurements in these columns when the eye tracker is not providing valid data for a particular eye.\n",
    "- Given that over 70% of the data in the `ET_PupilLeft` and `ET_PupilRight` columns is marked as invalid (-1), these columns may not be suitable for analysis and could be considered for dropping."
   ]
  },
  {
   "cell_type": "markdown",
   "id": "2042944e",
   "metadata": {},
   "source": [
    "Drop the `ET_PupilLeft` and `ET_PupilRight` columns due to the high percentage of invalid data."
   ]
  },
  {
   "cell_type": "code",
   "execution_count": null,
   "id": "73ef567f",
   "metadata": {},
   "outputs": [],
   "source": [
    "df_34_EYE.drop(['ET_PupilLeft', 'ET_PupilRight'], axis=1, inplace=True)"
   ]
  },
  {
   "cell_type": "markdown",
   "id": "e4e77962",
   "metadata": {},
   "source": [
    "Display the first few rows after dropping the pupil columns."
   ]
  },
  {
   "cell_type": "code",
   "execution_count": null,
   "id": "803bcbb3",
   "metadata": {},
   "outputs": [],
   "source": [
    "df_34_EYE.head()"
   ]
  },
  {
   "cell_type": "markdown",
   "id": "9718cd3b",
   "metadata": {},
   "source": [
    "Visualize the distribution of -1 and 1 values again after dropping the pupil columns."
   ]
  },
  {
   "cell_type": "code",
   "execution_count": null,
   "id": "7a3f6baf",
   "metadata": {},
   "outputs": [],
   "source": [
    "plt.figure(figsize=(18, 8))\n",
    "\n",
    "plt.subplot(1, 2, 1)\n",
    "sns.heatmap(df_34_EYE == -1, cmap='viridis')\n",
    "plt.title('Heatmap of -1 Values')\n",
    "\n",
    "plt.subplot(1, 2, 2)\n",
    "sns.heatmap(df_34_EYE == 1, cmap='viridis')\n",
    "plt.title('Heatmap of -1 Values')\n",
    "\n",
    "plt.tight_layout()\n",
    "plt.show()"
   ]
  },
  {
   "cell_type": "markdown",
   "id": "2e6a9c71",
   "metadata": {},
   "source": [
    "Calculate the ratio of valid data points for the left eye."
   ]
  },
  {
   "cell_type": "code",
   "execution_count": null,
   "id": "3edd4f25",
   "metadata": {},
   "outputs": [],
   "source": [
    "valid_left_ratio  = 1 - df_34_EYE['ET_ValidityLeft'].mean()"
   ]
  },
  {
   "cell_type": "markdown",
   "id": "b6c60b1d",
   "metadata": {},
   "source": [
    "Display the ratio of valid data points for the left eye."
   ]
  },
  {
   "cell_type": "code",
   "execution_count": null,
   "id": "6b5ef4bc",
   "metadata": {},
   "outputs": [],
   "source": [
    "valid_left_ratio"
   ]
  },
  {
   "cell_type": "markdown",
   "id": "dca91065",
   "metadata": {},
   "source": [
    "Calculate the ratio of valid data points for the right eye."
   ]
  },
  {
   "cell_type": "code",
   "execution_count": null,
   "id": "d2e3fdb4",
   "metadata": {},
   "outputs": [],
   "source": [
    "valid_right_ratio = 1 - df_34_EYE['ET_ValidityRight'].mean()"
   ]
  },
  {
   "cell_type": "markdown",
   "id": "372c4959",
   "metadata": {},
   "source": [
    "Display the ratio of valid data points for the right eye."
   ]
  },
  {
   "cell_type": "code",
   "execution_count": null,
   "id": "60f1e70d",
   "metadata": {},
   "outputs": [],
   "source": [
    "valid_right_ratio"
   ]
  },
  {
   "cell_type": "markdown",
   "id": "1dc8f764",
   "metadata": {},
   "source": [
    "Display the first few rows of the DataFrame."
   ]
  },
  {
   "cell_type": "code",
   "execution_count": null,
   "id": "00ece6f6",
   "metadata": {},
   "outputs": [],
   "source": [
    "df_34_EYE.head()"
   ]
  },
  {
   "cell_type": "markdown",
   "id": "7f1ee1c6",
   "metadata": {},
   "source": [
    "Visualize the distributions of numeric columns using histograms with Kernel Density Estimate (KDE) plots. This helps understand the shape and spread of the data in each numeric column."
   ]
  },
  {
   "cell_type": "code",
   "execution_count": null,
   "id": "a64a0ab8",
   "metadata": {},
   "outputs": [],
   "source": [
    "# Select only the numeric columns for plotting histograms, excluding time-related columns\n",
    "numeric_cols = df_34_EYE.select_dtypes(include=np.number).columns\n",
    "cols_to_plot = [col for col in numeric_cols if col not in ['UnixTime']]\n",
    "\n",
    "# Calculate the number of rows and columns for the grid\n",
    "n_cols = 4  # You can adjust the number of columns as needed\n",
    "n_rows = (len(cols_to_plot) + n_cols - 1) // n_cols\n",
    "\n",
    "plt.figure(figsize=(n_cols * 5, n_rows * 4)) # Adjust figure size as needed\n",
    "\n",
    "for i, col in enumerate(cols_to_plot):\n",
    "    plt.subplot(n_rows, n_cols, i + 1)\n",
    "    sns.histplot(df_34_EYE[col], kde=True)\n",
    "    plt.title(f'Distribution of {col}')\n",
    "    plt.xlabel(col)\n",
    "    plt.ylabel('Frequency')\n",
    "\n",
    "plt.tight_layout()\n",
    "plt.show()"
   ]
  },
  {
   "cell_type": "markdown",
   "id": "3b628256",
   "metadata": {},
   "source": [
    "List the names of the columns in the DataFrame."
   ]
  },
  {
   "cell_type": "code",
   "execution_count": null,
   "id": "a4999b0d",
   "metadata": {},
   "outputs": [],
   "source": [
    "df_34_EYE.columns"
   ]
  },
  {
   "cell_type": "markdown",
   "id": "13f8f787",
   "metadata": {},
   "source": [
    "Define a list of columns to be plotted over time."
   ]
  },
  {
   "cell_type": "code",
   "execution_count": null,
   "id": "c529432c",
   "metadata": {},
   "outputs": [],
   "source": [
    "cols = ['ET_GazeLeftx', 'ET_GazeLefty',\n",
    "       'ET_GazeRightx', 'ET_GazeRighty', 'ET_TimeSignal', 'ET_DistanceLeft',\n",
    "       'ET_DistanceRight', 'ET_CameraLeftX', 'ET_CameraLeftY',\n",
    "       'ET_CameraRightX', 'ET_CameraRightY', 'ET_ValidityLeft',\n",
    "       'ET_ValidityRight']"
   ]
  },
  {
   "cell_type": "markdown",
   "id": "e9f6839d",
   "metadata": {},
   "source": [
    "Plot each of the selected columns against the timestamp to visualize their trends and patterns over time. Markdown cells are added before each plot for better readability."
   ]
  },
  {
   "cell_type": "code",
   "execution_count": null,
   "id": "17d688b7",
   "metadata": {},
   "outputs": [],
   "source": [
    "from IPython.display import display, Markdown\n",
    "\n",
    "for col in cols:\n",
    "    # Add a markdown cell before each plot for better separation and labeling\n",
    "    display(Markdown(f'### {col} over Time'))\n",
    "    plt.figure(figsize=(16, 10))\n",
    "    plt.plot(df_34_EYE['Timestamp'], df_34_EYE[col])\n",
    "    plt.xlabel(\"Timestamp\") # Add x-axis label\n",
    "    plt.ylabel(col) # Add y-axis label\n",
    "    plt.show()"
   ]
  },
  {
   "cell_type": "markdown",
   "id": "8a81cd88",
   "metadata": {},
   "source": [
    "Visualize the distributions of numeric columns using boxplots. This helps identify potential outliers and the spread of the data."
   ]
  },
  {
   "cell_type": "code",
   "execution_count": null,
   "id": "0af83e8b",
   "metadata": {},
   "outputs": [],
   "source": [
    "# Select only the numeric columns for plotting histograms, excluding time-related columns\n",
    "numeric_cols = df_34_EYE.select_dtypes(include=np.number).columns\n",
    "\n",
    "# Calculate the number of rows and columns for the grid\n",
    "n_cols = 4  # You can adjust the number of columns as needed\n",
    "n_rows = (len(numeric_cols) + n_cols - 1) // n_cols\n",
    "\n",
    "plt.figure(figsize=(n_cols * 5, n_rows * 4)) # Adjust figure size as needed\n",
    "\n",
    "for i, col in enumerate(numeric_cols):\n",
    "    plt.subplot(n_rows, n_cols, i + 1)\n",
    "    sns.boxplot(df_34_EYE[col])\n",
    "    plt.title(f'Boxplot of {col}')\n",
    "    plt.xlabel(col)\n",
    "\n",
    "plt.tight_layout()\n",
    "plt.show()"
   ]
  },
  {
   "cell_type": "markdown",
   "id": "305ca518",
   "metadata": {},
   "source": [
    "Replace the placeholder value -1 with NaN (Not a Number) in the DataFrame. This is done before imputation."
   ]
  },
  {
   "cell_type": "code",
   "execution_count": null,
   "id": "d12ba167",
   "metadata": {},
   "outputs": [],
   "source": [
    "df_34_EYE.replace({-1: np.nan}, inplace=True)"
   ]
  },
  {
   "cell_type": "markdown",
   "id": "43d9b9d8",
   "metadata": {},
   "source": [
    "Impute the missing values (NaN) in the numeric columns with the mean of each column."
   ]
  },
  {
   "cell_type": "code",
   "execution_count": null,
   "id": "25f0cf17",
   "metadata": {},
   "outputs": [],
   "source": [
    "numeric_cols = df_34_EYE.select_dtypes(include=np.number).columns\n",
    "\n",
    "for col in numeric_cols:\n",
    "    df_34_EYE[col].fillna(df_34_EYE[col].mean(), inplace=True)"
   ]
  },
  {
   "cell_type": "markdown",
   "id": "547fff81",
   "metadata": {},
   "source": [
    "Display the first few rows after imputing missing values."
   ]
  },
  {
   "cell_type": "code",
   "execution_count": null,
   "id": "ae0971b6",
   "metadata": {},
   "outputs": [],
   "source": [
    "df_34_EYE.head()"
   ]
  },
  {
   "cell_type": "markdown",
   "id": "46d4cf28",
   "metadata": {},
   "source": [
    "Visualize the distributions of numeric columns again using histograms with KDE plots after imputation. This helps assess the impact of imputation on the data distributions."
   ]
  },
  {
   "cell_type": "code",
   "execution_count": null,
   "id": "05dfcf56",
   "metadata": {},
   "outputs": [],
   "source": [
    "# Select only the numeric columns for plotting histograms, excluding time-related columns\n",
    "numeric_cols = df_34_EYE.select_dtypes(include=np.number).columns\n",
    "cols_to_plot = [col for col in numeric_cols if col not in ['UnixTime']]\n",
    "\n",
    "# Calculate the number of rows and columns for the grid\n",
    "n_cols = 4  # You can adjust the number of columns as needed\n",
    "n_rows = (len(cols_to_plot) + n_cols - 1) // n_cols\n",
    "\n",
    "plt.figure(figsize=(n_cols * 5, n_rows * 4)) # Adjust figure size as needed\n",
    "\n",
    "for i, col in enumerate(cols_to_plot):\n",
    "    plt.subplot(n_rows, n_cols, i + 1)\n",
    "    sns.histplot(df_34_EYE[col], kde=True)\n",
    "    plt.title(f'Distribution of {col}')\n",
    "    plt.xlabel(col)\n",
    "    plt.ylabel('Frequency')\n",
    "\n",
    "plt.tight_layout()\n",
    "plt.show()"
   ]
  },
  {
   "cell_type": "code",
   "execution_count": null,
   "id": "a10b1673",
   "metadata": {},
   "outputs": [],
   "source": []
  },
  {
   "cell_type": "markdown",
   "id": "f6ea2efa",
   "metadata": {},
   "source": [
    "## Student 35"
   ]
  },
  {
   "cell_type": "code",
   "execution_count": null,
   "id": "555e5fa2",
   "metadata": {},
   "outputs": [],
   "source": [
    "%load_ext cudf"
   ]
  },
  {
   "cell_type": "code",
   "execution_count": null,
   "id": "e24894ca",
   "metadata": {},
   "outputs": [],
   "source": [
    "import numpy as np\n",
    "import pandas as pd\n",
    "import matplotlib.pyplot as plt\n",
    "import seaborn as sns"
   ]
  },
  {
   "cell_type": "code",
   "execution_count": null,
   "id": "013a861f",
   "metadata": {},
   "outputs": [],
   "source": [
    "import datashader as ds\n",
    "import datashader.transfer_functions as tf"
   ]
  },
  {
   "cell_type": "code",
   "execution_count": null,
   "id": "07f86d14",
   "metadata": {},
   "outputs": [],
   "source": [
    "pd.set_option('display.max_columns', None)"
   ]
  },
  {
   "cell_type": "code",
   "execution_count": null,
   "id": "7424f9ca",
   "metadata": {},
   "outputs": [],
   "source": [
    "df_35_EYE = pd.read_csv('data/STData/35/35_EYE.csv')"
   ]
  },
  {
   "cell_type": "code",
   "execution_count": null,
   "id": "8d432b1a",
   "metadata": {},
   "outputs": [],
   "source": [
    "df_35_EYE.head()"
   ]
  },
  {
   "cell_type": "code",
   "execution_count": null,
   "id": "81a001ab",
   "metadata": {},
   "outputs": [],
   "source": [
    "df_35_EYE.shape"
   ]
  },
  {
   "cell_type": "code",
   "execution_count": null,
   "id": "642f1ea0",
   "metadata": {},
   "outputs": [],
   "source": [
    "df_35_EYE.columns"
   ]
  },
  {
   "cell_type": "code",
   "execution_count": null,
   "id": "2e9df721",
   "metadata": {},
   "outputs": [],
   "source": [
    "df_35_EYE.info()"
   ]
  },
  {
   "cell_type": "code",
   "execution_count": null,
   "id": "3b5abbd4",
   "metadata": {},
   "outputs": [],
   "source": [
    "df_35_EYE.isnull().sum()"
   ]
  },
  {
   "cell_type": "code",
   "execution_count": null,
   "id": "ec30b1b4",
   "metadata": {},
   "outputs": [],
   "source": [
    "plt.figure(figsize=(12,8))\n",
    "sns.heatmap(df_35_EYE.isnull(), cmap='viridis')\n",
    "plt.show()"
   ]
  },
  {
   "cell_type": "markdown",
   "id": "ad0c0287",
   "metadata": {},
   "source": [
    "# Notes & Observations\n",
    "\n",
    "- We observe many **null** (or missing) values in the `QuestionKey` columns.  \n",
    "- The nulls in the `QuestionKey` column may not represent “true” nulls. Rather, they follow interval patterns, suggesting that during those periods no question was displayed.  \n",
    "- These missing values in `QuestionKey` require additional investigation and context-aware handling.  "
   ]
  },
  {
   "cell_type": "code",
   "execution_count": null,
   "id": "d5956285",
   "metadata": {},
   "outputs": [],
   "source": [
    "df_35_EYE['QuestionKey'].unique()"
   ]
  },
  {
   "cell_type": "code",
   "execution_count": null,
   "id": "d9ae4f89",
   "metadata": {},
   "outputs": [],
   "source": [
    "df_35_EYE['Timestamp'] = pd.to_datetime(df_35_EYE['Timestamp'])"
   ]
  },
  {
   "cell_type": "code",
   "execution_count": null,
   "id": "d71540ad",
   "metadata": {},
   "outputs": [],
   "source": [
    "df_35_EYE.head(3)"
   ]
  },
  {
   "cell_type": "code",
   "execution_count": null,
   "id": "94900b52",
   "metadata": {},
   "outputs": [],
   "source": [
    "df_35_EYE['QuestionKey'].fillna('None', inplace=True)"
   ]
  },
  {
   "cell_type": "code",
   "execution_count": null,
   "id": "ae078195",
   "metadata": {},
   "outputs": [],
   "source": [
    "df_35_EYE['QuestionKey'].value_counts()"
   ]
  },
  {
   "cell_type": "code",
   "execution_count": null,
   "id": "352e7426",
   "metadata": {},
   "outputs": [],
   "source": [
    "plt.figure(figsize=(12,8))\n",
    "sns.heatmap(df_35_EYE.isnull(), cmap='viridis')\n",
    "plt.show()"
   ]
  },
  {
   "cell_type": "code",
   "execution_count": null,
   "id": "3c10682f",
   "metadata": {},
   "outputs": [],
   "source": [
    "df_35_EYE.isnull().sum()"
   ]
  },
  {
   "cell_type": "code",
   "execution_count": null,
   "id": "aaebeb0e",
   "metadata": {},
   "outputs": [],
   "source": [
    "df_35_EYE.dropna(inplace=True)"
   ]
  },
  {
   "cell_type": "code",
   "execution_count": null,
   "id": "c676467c",
   "metadata": {},
   "outputs": [],
   "source": [
    "df_35_EYE.head()"
   ]
  },
  {
   "cell_type": "code",
   "execution_count": null,
   "id": "e8234f32",
   "metadata": {},
   "outputs": [],
   "source": [
    "df_35_EYE['Row'].unique()"
   ]
  },
  {
   "cell_type": "code",
   "execution_count": null,
   "id": "2284264f",
   "metadata": {},
   "outputs": [],
   "source": [
    "plt.figure(figsize=(8,6))\n",
    "sns.histplot(df_35_EYE['Row'])\n",
    "plt.show()"
   ]
  },
  {
   "cell_type": "markdown",
   "id": "8b6fa634",
   "metadata": {},
   "source": [
    "# Notes & Observations\n",
    "\n",
    "- The `Row` column appears to be a simple row index and does not provide meaningful information relevant to the eye-tracking data itself. Therefore, it can be dropped."
   ]
  },
  {
   "cell_type": "code",
   "execution_count": null,
   "id": "55825a1e",
   "metadata": {},
   "outputs": [],
   "source": [
    "df_35_EYE.drop('Row', axis=1, inplace=True)"
   ]
  },
  {
   "cell_type": "code",
   "execution_count": null,
   "id": "fac8cd7b",
   "metadata": {},
   "outputs": [],
   "source": [
    "df_35_EYE['ET_ValidityLeft'].unique()"
   ]
  },
  {
   "cell_type": "code",
   "execution_count": null,
   "id": "e73a563d",
   "metadata": {},
   "outputs": [],
   "source": [
    "df_35_EYE['ET_ValidityLeft'].value_counts()"
   ]
  },
  {
   "cell_type": "code",
   "execution_count": null,
   "id": "a6c7581e",
   "metadata": {},
   "outputs": [],
   "source": [
    "df_35_EYE['ET_ValidityRight'].unique()"
   ]
  },
  {
   "cell_type": "code",
   "execution_count": null,
   "id": "5003b434",
   "metadata": {},
   "outputs": [],
   "source": [
    "df_35_EYE['ET_ValidityRight'].value_counts()"
   ]
  },
  {
   "cell_type": "code",
   "execution_count": null,
   "id": "4481d420",
   "metadata": {},
   "outputs": [],
   "source": [
    "plt.figure(figsize=(12, 6))\n",
    "\n",
    "plt.subplot(1, 2, 1)\n",
    "sns.barplot(x=df_35_EYE['ET_ValidityLeft'].value_counts().index, y=df_35_EYE['ET_ValidityLeft'].value_counts().values)\n",
    "plt.title('Count of ET_ValidityLeft')\n",
    "plt.xlabel('Validity')\n",
    "plt.ylabel('Count')\n",
    "\n",
    "\n",
    "plt.subplot(1, 2, 2)\n",
    "sns.barplot(x=df_35_EYE['ET_ValidityRight'].value_counts().index, y=df_35_EYE['ET_ValidityRight'].value_counts().values)\n",
    "plt.title('Count of ET_ValidityRight')\n",
    "plt.xlabel('Validity')\n",
    "plt.ylabel('Count')\n",
    "\n",
    "plt.tight_layout()\n",
    "plt.show()"
   ]
  },
  {
   "cell_type": "markdown",
   "id": "6230aaf6",
   "metadata": {},
   "source": [
    "# Notes & Observations\n",
    "\n",
    "- The `ET_ValidityLeft` and `ET_ValidityRight` columns indicate the validity of the eye-tracking data for the left and right eye, respectively.\n",
    "- Based on the value counts and the bar plots, it appears that a value of `0.0` represents valid eye-tracking data, while a value of `4.0` represents invalid data.\n",
    "- Although the amount of invalid data is relatively small, removing these rows could introduce unwanted patterns or gaps in the time series data.\n",
    "- Therefore, we will keep the data and replace the value `4.0` with `1.0` in both `ET_ValidityLeft` and `ET_ValidityRight` columns. This will indicate to a machine learning model that the eye tracker had invalid data at those specific points in time while maintaining the integrity of the time series."
   ]
  },
  {
   "cell_type": "code",
   "execution_count": null,
   "id": "53b0bc9c",
   "metadata": {},
   "outputs": [],
   "source": [
    "validity_map = {4.0: 1.0, 0.0: 0.0}"
   ]
  },
  {
   "cell_type": "code",
   "execution_count": null,
   "id": "42a5fe21",
   "metadata": {},
   "outputs": [],
   "source": [
    "df_35_EYE['ET_ValidityLeft'] = df_35_EYE['ET_ValidityLeft'].map(validity_map).astype(np.int8)\n",
    "df_35_EYE['ET_ValidityRight'] = df_35_EYE['ET_ValidityRight'].map(validity_map).astype(np.int8)"
   ]
  },
  {
   "cell_type": "code",
   "execution_count": null,
   "id": "ca606e97",
   "metadata": {},
   "outputs": [],
   "source": [
    "df_35_EYE.head(3)"
   ]
  },
  {
   "cell_type": "code",
   "execution_count": null,
   "id": "e48be720",
   "metadata": {},
   "outputs": [],
   "source": [
    "df_35_EYE.describe()"
   ]
  },
  {
   "cell_type": "code",
   "execution_count": null,
   "id": "f5a10a15",
   "metadata": {},
   "outputs": [],
   "source": [
    "df_35_EYE[df_35_EYE['ET_ValidityLeft'] == 1].shape"
   ]
  },
  {
   "cell_type": "code",
   "execution_count": null,
   "id": "24acdadb",
   "metadata": {},
   "outputs": [],
   "source": [
    "df_35_EYE[df_35_EYE['ET_ValidityRight'] == 1].shape"
   ]
  },
  {
   "cell_type": "code",
   "execution_count": null,
   "id": "c87aea82",
   "metadata": {},
   "outputs": [],
   "source": [
    "plt.figure(figsize=(18, 8))\n",
    "\n",
    "plt.subplot(1, 2, 1)\n",
    "sns.heatmap(df_35_EYE == -1, cmap='viridis')\n",
    "plt.title('Heatmap of -1 Values')\n",
    "\n",
    "plt.subplot(1, 2, 2)\n",
    "sns.heatmap(df_35_EYE == 1, cmap='viridis')\n",
    "plt.title('Heatmap of 1 Values')\n",
    "\n",
    "plt.tight_layout()\n",
    "plt.show()"
   ]
  },
  {
   "cell_type": "code",
   "execution_count": null,
   "id": "0458cda5",
   "metadata": {},
   "outputs": [],
   "source": [
    "df_35_EYE[df_35_EYE['ET_PupilLeft'] == -1].shape"
   ]
  },
  {
   "cell_type": "code",
   "execution_count": null,
   "id": "d3fabf4b",
   "metadata": {},
   "outputs": [],
   "source": [
    "df_35_EYE[df_35_EYE['ET_PupilRight'] == -1].shape"
   ]
  },
  {
   "cell_type": "code",
   "execution_count": null,
   "id": "db32b85a",
   "metadata": {},
   "outputs": [],
   "source": [
    "df_35_EYE[df_35_EYE['ET_PupilLeft'] == -1].shape[0] / df_35_EYE.shape[0]"
   ]
  },
  {
   "cell_type": "code",
   "execution_count": null,
   "id": "09961860",
   "metadata": {},
   "outputs": [],
   "source": [
    "df_35_EYE[df_35_EYE['ET_PupilRight'] == -1].shape[0] / df_35_EYE.shape[0]"
   ]
  },
  {
   "cell_type": "code",
   "execution_count": null,
   "id": "eeb72522",
   "metadata": {},
   "outputs": [],
   "source": [
    "plt.figure(figsize=(18, 8))\n",
    "\n",
    "plt.subplot(1, 2, 1)\n",
    "sns.heatmap(df_35_EYE[df_35_EYE['ET_ValidityLeft'] == 1] == -1, cmap='viridis')\n",
    "plt.title('Heatmap of -1 Values')\n",
    "\n",
    "plt.subplot(1, 2, 2)\n",
    "sns.heatmap(df_35_EYE[df_35_EYE['ET_ValidityRight'] == 1] == -1, cmap='viridis')\n",
    "plt.title('Heatmap of -1 Values')\n",
    "\n",
    "plt.tight_layout()\n",
    "plt.show()"
   ]
  },
  {
   "cell_type": "markdown",
   "id": "e08ed24f",
   "metadata": {},
   "source": [
    "# Notes & Observations\n",
    "\n",
    "- The heatmaps reveal the distribution of -1 values across different columns.\n",
    "- It is evident that the `-1` values are not randomly scattered but appear in specific columns, notably `ET_GazeLeftx`, `ET_GazeLefty`, `ET_GazeRightx`, `ET_GazeRighty`, `ET_PupilLeft`, `ET_PupilRight`, `ET_DistanceLeft`, `ET_DistanceRight`, `ET_CameraLeftX`, `ET_CameraLeftY`, `ET_CameraRightX`, and `ET_CameraRightY`.\n",
    "- These `-1` values often coincide with instances where `ET_ValidityLeft` or `ET_ValidityRight` is 1, indicating invalid eye-tracking data. This suggests that `-1` is used as a placeholder for missing or invalid measurements in these columns when the eye tracker is not providing valid data for a particular eye.\n",
    "- Given that over 70% of the data in the `ET_PupilLeft` and `ET_PupilRight` columns is marked as invalid (-1), these columns may not be suitable for analysis and could be considered for dropping."
   ]
  },
  {
   "cell_type": "code",
   "execution_count": null,
   "id": "02876db5",
   "metadata": {},
   "outputs": [],
   "source": [
    "df_35_EYE.drop(['ET_PupilLeft', 'ET_PupilRight'], axis=1, inplace=True)"
   ]
  },
  {
   "cell_type": "code",
   "execution_count": null,
   "id": "901e2015",
   "metadata": {},
   "outputs": [],
   "source": [
    "df_35_EYE.head()"
   ]
  },
  {
   "cell_type": "code",
   "execution_count": null,
   "id": "277005f0",
   "metadata": {},
   "outputs": [],
   "source": [
    "plt.figure(figsize=(18, 8))\n",
    "\n",
    "plt.subplot(1, 2, 1)\n",
    "sns.heatmap(df_35_EYE == -1, cmap='viridis')\n",
    "plt.title('Heatmap of -1 Values')\n",
    "\n",
    "plt.subplot(1, 2, 2)\n",
    "sns.heatmap(df_35_EYE == 1, cmap='viridis')\n",
    "plt.title('Heatmap of -1 Values')\n",
    "\n",
    "plt.tight_layout()\n",
    "plt.show()"
   ]
  },
  {
   "cell_type": "code",
   "execution_count": null,
   "id": "e4fc6a5d",
   "metadata": {},
   "outputs": [],
   "source": [
    "valid_left_ratio  = 1 - df_35_EYE['ET_ValidityLeft'].mean()\n",
    "valid_right_ratio = 1 - df_35_EYE['ET_ValidityRight'].mean()"
   ]
  },
  {
   "cell_type": "code",
   "execution_count": null,
   "id": "70337c6d",
   "metadata": {},
   "outputs": [],
   "source": [
    "valid_left_ratio"
   ]
  },
  {
   "cell_type": "code",
   "execution_count": null,
   "id": "b125d1ef",
   "metadata": {},
   "outputs": [],
   "source": [
    "valid_right_ratio"
   ]
  },
  {
   "cell_type": "code",
   "execution_count": null,
   "id": "8e37843a",
   "metadata": {},
   "outputs": [],
   "source": [
    "df_35_EYE.head()"
   ]
  },
  {
   "cell_type": "code",
   "execution_count": null,
   "id": "b8f054c9",
   "metadata": {},
   "outputs": [],
   "source": [
    "# Select only the numeric columns for plotting histograms, excluding time-related columns\n",
    "numeric_cols = df_35_EYE.select_dtypes(include=np.number).columns\n",
    "cols_to_plot = [col for col in numeric_cols if col not in ['UnixTime']]\n",
    "\n",
    "# Calculate the number of rows and columns for the grid\n",
    "n_cols = 4  # You can adjust the number of columns as needed\n",
    "n_rows = (len(cols_to_plot) + n_cols - 1) // n_cols\n",
    "\n",
    "plt.figure(figsize=(n_cols * 5, n_rows * 4)) # Adjust figure size as needed\n",
    "\n",
    "for i, col in enumerate(cols_to_plot):\n",
    "    plt.subplot(n_rows, n_cols, i + 1)\n",
    "    sns.histplot(df_35_EYE[col], kde=True)\n",
    "    plt.title(f'Distribution of {col}')\n",
    "    plt.xlabel(col)\n",
    "    plt.ylabel('Frequency')\n",
    "\n",
    "plt.tight_layout()\n",
    "plt.show()"
   ]
  },
  {
   "cell_type": "code",
   "execution_count": null,
   "id": "f306f91d",
   "metadata": {},
   "outputs": [],
   "source": [
    "df_35_EYE.columns"
   ]
  },
  {
   "cell_type": "code",
   "execution_count": null,
   "id": "b60630a2",
   "metadata": {},
   "outputs": [],
   "source": [
    "cols = ['ET_GazeLeftx', 'ET_GazeLefty',\n",
    "       'ET_GazeRightx', 'ET_GazeRighty', 'ET_TimeSignal', 'ET_DistanceLeft',\n",
    "       'ET_DistanceRight', 'ET_CameraLeftX', 'ET_CameraLeftY',\n",
    "       'ET_CameraRightX', 'ET_CameraRightY', 'ET_ValidityLeft',\n",
    "       'ET_ValidityRight']"
   ]
  },
  {
   "cell_type": "code",
   "execution_count": null,
   "id": "606b4863",
   "metadata": {},
   "outputs": [],
   "source": [
    "from IPython.display import display, Markdown\n",
    "\n",
    "for col in cols:\n",
    "    # Add a markdown cell before each plot for better separation and labeling\n",
    "    display(Markdown(f'### {col} over Time'))\n",
    "    plt.figure(figsize=(16, 10))\n",
    "    plt.plot(df_35_EYE['Timestamp'], df_35_EYE[col])\n",
    "    plt.xlabel(\"Timestamp\") # Add x-axis label\n",
    "    plt.ylabel(col) # Add y-axis label\n",
    "    plt.show()"
   ]
  },
  {
   "cell_type": "code",
   "execution_count": null,
   "id": "918b2b41",
   "metadata": {},
   "outputs": [],
   "source": [
    "# Select only the numeric columns for plotting histograms, excluding time-related columns\n",
    "numeric_cols = df_35_EYE.select_dtypes(include=np.number).columns\n",
    "\n",
    "# Calculate the number of rows and columns for the grid\n",
    "n_cols = 4  # You can adjust the number of columns as needed\n",
    "n_rows = (len(numeric_cols) + n_cols - 1) // n_cols\n",
    "\n",
    "plt.figure(figsize=(n_cols * 5, n_rows * 4)) # Adjust figure size as needed\n",
    "\n",
    "for i, col in enumerate(numeric_cols):\n",
    "    plt.subplot(n_rows, n_cols, i + 1)\n",
    "    sns.boxplot(df_35_EYE[col])\n",
    "    plt.title(f'Boxplot of {col}')\n",
    "    plt.xlabel(col)\n",
    "\n",
    "plt.tight_layout()\n",
    "plt.show()"
   ]
  },
  {
   "cell_type": "code",
   "execution_count": null,
   "id": "f57572f9",
   "metadata": {},
   "outputs": [],
   "source": [
    "df_35_EYE.replace({-1: np.nan}, inplace=True)"
   ]
  },
  {
   "cell_type": "code",
   "execution_count": null,
   "id": "93337a00",
   "metadata": {},
   "outputs": [],
   "source": [
    "numeric_cols = df_35_EYE.select_dtypes(include=np.number).columns\n",
    "\n",
    "for col in numeric_cols:\n",
    "    df_35_EYE[col].fillna(df_35_EYE[col].mean(), inplace=True)"
   ]
  },
  {
   "cell_type": "code",
   "execution_count": null,
   "id": "6909ba12",
   "metadata": {},
   "outputs": [],
   "source": [
    "df_35_EYE.head()"
   ]
  },
  {
   "cell_type": "code",
   "execution_count": null,
   "id": "ec31ef31",
   "metadata": {},
   "outputs": [],
   "source": [
    "# Select only the numeric columns for plotting histograms, excluding time-related columns\n",
    "numeric_cols = df_35_EYE.select_dtypes(include=np.number).columns\n",
    "cols_to_plot = [col for col in numeric_cols if col not in ['UnixTime']]\n",
    "\n",
    "# Calculate the number of rows and columns for the grid\n",
    "n_cols = 4  # You can adjust the number of columns as needed\n",
    "n_rows = (len(cols_to_plot) + n_cols - 1) // n_cols\n",
    "\n",
    "plt.figure(figsize=(n_cols * 5, n_rows * 4)) # Adjust figure size as needed\n",
    "\n",
    "for i, col in enumerate(cols_to_plot):\n",
    "    plt.subplot(n_rows, n_cols, i + 1)\n",
    "    sns.histplot(df_35_EYE[col], kde=True)\n",
    "    plt.title(f'Distribution of {col}')\n",
    "    plt.xlabel(col)\n",
    "    plt.ylabel('Frequency')\n",
    "\n",
    "plt.tight_layout()\n",
    "plt.show()"
   ]
  },
  {
   "cell_type": "code",
   "execution_count": null,
   "id": "d8e890f4",
   "metadata": {},
   "outputs": [],
   "source": []
  },
  {
   "cell_type": "code",
   "execution_count": null,
   "id": "7f32673b",
   "metadata": {},
   "outputs": [],
   "source": []
  },
  {
   "cell_type": "code",
   "execution_count": null,
   "id": "0826cfe1",
   "metadata": {},
   "outputs": [],
   "source": []
  },
  {
   "cell_type": "code",
   "execution_count": null,
   "id": "458a26ff",
   "metadata": {},
   "outputs": [],
   "source": []
  },
  {
   "cell_type": "code",
   "execution_count": null,
   "id": "908c1797",
   "metadata": {},
   "outputs": [],
   "source": []
  },
  {
   "cell_type": "code",
   "execution_count": null,
   "id": "df923fa1",
   "metadata": {},
   "outputs": [],
   "source": []
  },
  {
   "cell_type": "code",
   "execution_count": null,
   "id": "c7fefd35",
   "metadata": {},
   "outputs": [],
   "source": []
  },
  {
   "cell_type": "code",
   "execution_count": null,
   "id": "2fbad713",
   "metadata": {},
   "outputs": [],
   "source": []
  },
  {
   "cell_type": "code",
   "execution_count": null,
   "id": "e6b931c8",
   "metadata": {},
   "outputs": [],
   "source": []
  },
  {
   "cell_type": "code",
   "execution_count": null,
   "id": "4d6460c6",
   "metadata": {},
   "outputs": [],
   "source": []
  },
  {
   "cell_type": "code",
   "execution_count": null,
   "id": "3e08364c",
   "metadata": {},
   "outputs": [],
   "source": []
  },
  {
   "cell_type": "code",
   "execution_count": null,
   "id": "a72b3616",
   "metadata": {},
   "outputs": [],
   "source": []
  },
  {
   "cell_type": "markdown",
   "id": "578a569d",
   "metadata": {},
   "source": [
    "# Eye Tracking Data Analysis\n",
    "\n",
    "This notebook performs exploratory data analysis and cleaning on eye-tracking data.\n",
    "\n",
    "## Data Loading and Initial Inspection"
   ]
  },
  {
   "cell_type": "code",
   "execution_count": null,
   "id": "e9570368",
   "metadata": {},
   "outputs": [],
   "source": [
    "%load_ext cudf"
   ]
  },
  {
   "cell_type": "markdown",
   "id": "1b50c001",
   "metadata": {},
   "source": [
    "Import necessary libraries for data manipulation, analysis, and visualization."
   ]
  },
  {
   "cell_type": "code",
   "execution_count": null,
   "id": "14478eff",
   "metadata": {},
   "outputs": [],
   "source": [
    "import numpy as np\n",
    "import pandas as pd\n",
    "import matplotlib.pyplot as plt\n",
    "import seaborn as sns"
   ]
  },
  {
   "cell_type": "markdown",
   "id": "5f8ddb46",
   "metadata": {},
   "source": [
    "Import libraries for datashader, which can be used for visualizing large datasets."
   ]
  },
  {
   "cell_type": "code",
   "execution_count": null,
   "id": "af3c23c8",
   "metadata": {},
   "outputs": [],
   "source": [
    "import datashader as ds\n",
    "import datashader.transfer_functions as tf"
   ]
  },
  {
   "cell_type": "markdown",
   "id": "825722ea",
   "metadata": {},
   "source": [
    "Set pandas display options to show all columns."
   ]
  },
  {
   "cell_type": "code",
   "execution_count": null,
   "id": "7b826271",
   "metadata": {},
   "outputs": [],
   "source": [
    "pd.set_option('display.max_columns', None)"
   ]
  },
  {
   "cell_type": "markdown",
   "id": "5c385ee6",
   "metadata": {},
   "source": [
    "Load the eye-tracking data from the specified CSV file into a pandas DataFrame."
   ]
  },
  {
   "cell_type": "code",
   "execution_count": null,
   "id": "ef75202c",
   "metadata": {},
   "outputs": [],
   "source": [
    "df_35_EYE = pd.read_csv('data/STData/35/35_EYE.csv')"
   ]
  },
  {
   "cell_type": "markdown",
   "id": "c291e9bf",
   "metadata": {},
   "source": [
    "Display the first few rows of the DataFrame to get an initial look at the data structure and content."
   ]
  },
  {
   "cell_type": "code",
   "execution_count": null,
   "id": "52eb3bda",
   "metadata": {},
   "outputs": [],
   "source": [
    "df_35_EYE.head()"
   ]
  },
  {
   "cell_type": "markdown",
   "id": "6268e79a",
   "metadata": {},
   "source": [
    "Check the dimensions (number of rows and columns) of the DataFrame."
   ]
  },
  {
   "cell_type": "code",
   "execution_count": null,
   "id": "732f2edf",
   "metadata": {},
   "outputs": [],
   "source": [
    "df_35_EYE.shape"
   ]
  },
  {
   "cell_type": "markdown",
   "id": "fa6d6710",
   "metadata": {},
   "source": [
    "List the names of all columns in the DataFrame."
   ]
  },
  {
   "cell_type": "code",
   "execution_count": null,
   "id": "6241c755",
   "metadata": {},
   "outputs": [],
   "source": [
    "df_35_EYE.columns"
   ]
  },
  {
   "cell_type": "markdown",
   "id": "daf078fd",
   "metadata": {},
   "source": [
    "Display concise information about the DataFrame, including the data types of each column and the number of non-null values. This helps identify columns with missing data."
   ]
  },
  {
   "cell_type": "code",
   "execution_count": null,
   "id": "4466e793",
   "metadata": {},
   "outputs": [],
   "source": [
    "df_35_EYE.info()"
   ]
  },
  {
   "cell_type": "markdown",
   "id": "9c0089b6",
   "metadata": {},
   "source": [
    "Calculate and display the number of missing values in each column."
   ]
  },
  {
   "cell_type": "code",
   "execution_count": null,
   "id": "b2930f84",
   "metadata": {},
   "outputs": [],
   "source": [
    "df_35_EYE.isnull().sum()"
   ]
  },
  {
   "cell_type": "markdown",
   "id": "fc079d99",
   "metadata": {},
   "source": [
    "Visualize the distribution of missing values using a heatmap. This provides a visual representation of which columns have missing data and the extent of missingness."
   ]
  },
  {
   "cell_type": "code",
   "execution_count": null,
   "id": "0d4fcaab",
   "metadata": {},
   "outputs": [],
   "source": [
    "plt.figure(figsize=(12,8))\n",
    "sns.heatmap(df_35_EYE.isnull(), cmap='viridis')\n",
    "plt.show()"
   ]
  },
  {
   "cell_type": "markdown",
   "id": "54d16a88",
   "metadata": {},
   "source": [
    "# Notes & Observations\n",
    "\n",
    "- We observe many **null** (or missing) values in the `QuestionKey` columns.\n",
    "- The nulls in the `QuestionKey` column may not represent “true” nulls. Rather, they follow interval patterns, suggesting that during those periods no question was displayed.\n",
    "- These missing values in `QuestionKey` require additional investigation and context-aware handling."
   ]
  },
  {
   "cell_type": "markdown",
   "id": "80d6f022",
   "metadata": {},
   "source": [
    "Display the unique values in the `QuestionKey` column to understand the different types of questions or states recorded."
   ]
  },
  {
   "cell_type": "code",
   "execution_count": null,
   "id": "4334a768",
   "metadata": {},
   "outputs": [],
   "source": [
    "df_35_EYE['QuestionKey'].unique()"
   ]
  },
  {
   "cell_type": "markdown",
   "id": "98fdcc2a",
   "metadata": {},
   "source": [
    "Convert the `Timestamp` column to datetime objects. This is crucial for any time series analysis or manipulation."
   ]
  },
  {
   "cell_type": "code",
   "execution_count": null,
   "id": "ca530431",
   "metadata": {},
   "outputs": [],
   "source": [
    "df_35_EYE['Timestamp'] = pd.to_datetime(df_35_EYE['Timestamp'])"
   ]
  },
  {
   "cell_type": "markdown",
   "id": "a1533a22",
   "metadata": {},
   "source": [
    "Display the first few rows again to see the effect of the timestamp conversion."
   ]
  },
  {
   "cell_type": "code",
   "execution_count": null,
   "id": "078fc592",
   "metadata": {},
   "outputs": [],
   "source": [
    "df_35_EYE.head(3)"
   ]
  },
  {
   "cell_type": "markdown",
   "id": "f5eafc8f",
   "metadata": {},
   "source": [
    "Fill the missing values in the `QuestionKey` column with the string 'None'. This helps to explicitly mark periods where no question was active."
   ]
  },
  {
   "cell_type": "code",
   "execution_count": null,
   "id": "a30a9520",
   "metadata": {},
   "outputs": [],
   "source": [
    "df_35_EYE['QuestionKey'].fillna('None', inplace=True)"
   ]
  },
  {
   "cell_type": "markdown",
   "id": "fd7368a2",
   "metadata": {},
   "source": [
    "Count the occurrences of each unique value in the `QuestionKey` column after filling missing values."
   ]
  },
  {
   "cell_type": "code",
   "execution_count": null,
   "id": "cec09a28",
   "metadata": {},
   "outputs": [],
   "source": [
    "df_35_EYE['QuestionKey'].value_counts()"
   ]
  },
  {
   "cell_type": "markdown",
   "id": "b0ca7f5f",
   "metadata": {},
   "source": [
    "Display the heatmap of missing values again to confirm that the missing values in `QuestionKey` have been handled."
   ]
  },
  {
   "cell_type": "code",
   "execution_count": null,
   "id": "754c8933",
   "metadata": {},
   "outputs": [],
   "source": [
    "plt.figure(figsize=(12,8))\n",
    "sns.heatmap(df_35_EYE.isnull(), cmap='viridis')\n",
    "plt.show()"
   ]
  },
  {
   "cell_type": "markdown",
   "id": "0b83ba77",
   "metadata": {},
   "source": [
    "Recalculate and display the number of missing values per column to confirm the changes after handling `QuestionKey`."
   ]
  },
  {
   "cell_type": "code",
   "execution_count": null,
   "id": "44e7d540",
   "metadata": {},
   "outputs": [],
   "source": [
    "df_35_EYE.isnull().sum()"
   ]
  },
  {
   "cell_type": "markdown",
   "id": "de6f553b",
   "metadata": {},
   "source": [
    "Drop rows that still contain any missing values. This is done after handling `QuestionKey` separately."
   ]
  },
  {
   "cell_type": "code",
   "execution_count": null,
   "id": "814fb9fa",
   "metadata": {},
   "outputs": [],
   "source": [
    "df_35_EYE.dropna(inplace=True)"
   ]
  },
  {
   "cell_type": "markdown",
   "id": "352daaf3",
   "metadata": {},
   "source": [
    "Display the first few rows after dropping rows with missing values."
   ]
  },
  {
   "cell_type": "code",
   "execution_count": null,
   "id": "9abb2d8c",
   "metadata": {},
   "outputs": [],
   "source": [
    "df_35_EYE.head()"
   ]
  },
  {
   "cell_type": "markdown",
   "id": "82373ceb",
   "metadata": {},
   "source": [
    "Display the unique values in the `Row` column."
   ]
  },
  {
   "cell_type": "code",
   "execution_count": null,
   "id": "7d926a04",
   "metadata": {},
   "outputs": [],
   "source": [
    "df_35_EYE['Row'].unique()"
   ]
  },
  {
   "cell_type": "markdown",
   "id": "b60625cf",
   "metadata": {},
   "source": [
    "Plot a histogram of the `Row` column to visualize its distribution."
   ]
  },
  {
   "cell_type": "code",
   "execution_count": null,
   "id": "a376ac29",
   "metadata": {},
   "outputs": [],
   "source": [
    "plt.figure(figsize=(8,6))\n",
    "sns.histplot(df_35_EYE['Row'])\n",
    "plt.show()"
   ]
  },
  {
   "cell_type": "markdown",
   "id": "b788e2dd",
   "metadata": {},
   "source": [
    "# Notes & Observations\n",
    "\n",
    "- The `Row` column appears to be a simple row index and does not provide meaningful information relevant to the eye-tracking data itself. Therefore, it can be dropped."
   ]
  },
  {
   "cell_type": "markdown",
   "id": "5f9ebc7a",
   "metadata": {},
   "source": [
    "Drop the `Row` column as it is not relevant for the analysis."
   ]
  },
  {
   "cell_type": "code",
   "execution_count": null,
   "id": "b037a818",
   "metadata": {},
   "outputs": [],
   "source": [
    "df_35_EYE.drop('Row', axis=1, inplace=True)"
   ]
  },
  {
   "cell_type": "markdown",
   "id": "b154a40c",
   "metadata": {},
   "source": [
    "Display the unique values in the `ET_ValidityLeft` column."
   ]
  },
  {
   "cell_type": "code",
   "execution_count": null,
   "id": "c30663b9",
   "metadata": {},
   "outputs": [],
   "source": [
    "df_35_EYE['ET_ValidityLeft'].unique()"
   ]
  },
  {
   "cell_type": "markdown",
   "id": "dc5dd8d1",
   "metadata": {},
   "source": [
    "Count the occurrences of each unique value in the `ET_ValidityLeft` column."
   ]
  },
  {
   "cell_type": "code",
   "execution_count": null,
   "id": "488f215d",
   "metadata": {},
   "outputs": [],
   "source": [
    "df_35_EYE['ET_ValidityLeft'].value_counts()"
   ]
  },
  {
   "cell_type": "markdown",
   "id": "6da572ba",
   "metadata": {},
   "source": [
    "Display the unique values in the `ET_ValidityRight` column."
   ]
  },
  {
   "cell_type": "code",
   "execution_count": null,
   "id": "3cd269bf",
   "metadata": {},
   "outputs": [],
   "source": [
    "df_35_EYE['ET_ValidityRight'].unique()"
   ]
  },
  {
   "cell_type": "markdown",
   "id": "b3795677",
   "metadata": {},
   "source": [
    "Count the occurrences of each unique value in the `ET_ValidityRight` column."
   ]
  },
  {
   "cell_type": "code",
   "execution_count": null,
   "id": "f9fbcbec",
   "metadata": {},
   "outputs": [],
   "source": [
    "df_35_EYE['ET_ValidityRight'].value_counts()"
   ]
  },
  {
   "cell_type": "markdown",
   "id": "0e7f59db",
   "metadata": {},
   "source": [
    "Visualize the counts of valid and invalid data for both left and right eyes using bar plots."
   ]
  },
  {
   "cell_type": "code",
   "execution_count": null,
   "id": "866c1a76",
   "metadata": {},
   "outputs": [],
   "source": [
    "plt.figure(figsize=(12, 6))\n",
    "\n",
    "plt.subplot(1, 2, 1)\n",
    "sns.barplot(x=df_35_EYE['ET_ValidityLeft'].value_counts().index, y=df_35_EYE['ET_ValidityLeft'].value_counts().values)\n",
    "plt.title('Count of ET_ValidityLeft')\n",
    "plt.xlabel('Validity')\n",
    "plt.ylabel('Count')\n",
    "\n",
    "\n",
    "plt.subplot(1, 2, 2)\n",
    "sns.barplot(x=df_35_EYE['ET_ValidityRight'].value_counts().index, y=df_35_EYE['ET_ValidityRight'].value_counts().values)\n",
    "plt.title('Count of ET_ValidityRight')\n",
    "plt.xlabel('Validity')\n",
    "plt.ylabel('Count')\n",
    "\n",
    "plt.tight_layout()\n",
    "plt.show()"
   ]
  },
  {
   "cell_type": "markdown",
   "id": "021f3347",
   "metadata": {},
   "source": [
    "# Notes & Observations\n",
    "\n",
    "- The `ET_ValidityLeft` and `ET_ValidityRight` columns indicate the validity of the eye-tracking data for the left and right eye, respectively.\n",
    "- Based on the value counts and the bar plots, it appears that a value of `0.0` represents valid eye-tracking data, while a value of `4.0` represents invalid data.\n",
    "- Although the amount of invalid data is relatively small, removing these rows could introduce unwanted patterns or gaps in the time series data.\n",
    "- Therefore, we will keep the data and replace the value `4.0` with `1.0` in both `ET_ValidityLeft` and `ET_ValidityRight` columns. This will indicate to a machine learning model that the eye tracker had invalid data at those specific points in time while maintaining the integrity of the time series."
   ]
  },
  {
   "cell_type": "markdown",
   "id": "39997e14",
   "metadata": {},
   "source": [
    "Define a mapping to convert validity values from `0.0` and `4.0` to `0` and `1`."
   ]
  },
  {
   "cell_type": "code",
   "execution_count": null,
   "id": "19929141",
   "metadata": {},
   "outputs": [],
   "source": [
    "validity_map = {4.0: 1.0, 0.0: 0.0}"
   ]
  },
  {
   "cell_type": "markdown",
   "id": "2b9cbc8e",
   "metadata": {},
   "source": [
    "Apply the mapping to the `ET_ValidityLeft` and `ET_ValidityRight` columns and convert the data type to integer."
   ]
  },
  {
   "cell_type": "code",
   "execution_count": null,
   "id": "b564ccc1",
   "metadata": {},
   "outputs": [],
   "source": [
    "df_35_EYE['ET_ValidityLeft'] = df_35_EYE['ET_ValidityLeft'].map(validity_map).astype(np.int8)\n",
    "df_35_EYE['ET_ValidityRight'] = df_35_EYE['ET_ValidityRight'].map(validity_map).astype(np.int8)"
   ]
  },
  {
   "cell_type": "markdown",
   "id": "2c3fdc31",
   "metadata": {},
   "source": [
    "Display the first few rows to see the updated validity columns."
   ]
  },
  {
   "cell_type": "code",
   "execution_count": null,
   "id": "54718934",
   "metadata": {},
   "outputs": [],
   "source": [
    "df_35_EYE.head(3)"
   ]
  },
  {
   "cell_type": "markdown",
   "id": "09aa29a0",
   "metadata": {},
   "source": [
    "Display descriptive statistics for the DataFrame, including count, mean, standard deviation, min, max, and quartiles for numeric columns."
   ]
  },
  {
   "cell_type": "code",
   "execution_count": null,
   "id": "cb9ce900",
   "metadata": {},
   "outputs": [],
   "source": [
    "df_35_EYE.describe()"
   ]
  },
  {
   "cell_type": "markdown",
   "id": "09e8510c",
   "metadata": {},
   "source": [
    "Check the number of rows where `ET_ValidityLeft` is 1 (invalid data for the left eye)."
   ]
  },
  {
   "cell_type": "code",
   "execution_count": null,
   "id": "9ac23986",
   "metadata": {},
   "outputs": [],
   "source": [
    "df_35_EYE[df_35_EYE['ET_ValidityLeft'] == 1].shape"
   ]
  },
  {
   "cell_type": "markdown",
   "id": "7c1fac46",
   "metadata": {},
   "source": [
    "Check the number of rows where `ET_ValidityRight` is 1 (invalid data for the right eye)."
   ]
  },
  {
   "cell_type": "code",
   "execution_count": null,
   "id": "d833fe57",
   "metadata": {},
   "outputs": [],
   "source": [
    "df_35_EYE[df_35_EYE['ET_ValidityRight'] == 1].shape"
   ]
  },
  {
   "cell_type": "markdown",
   "id": "ab4a3fac",
   "metadata": {},
   "source": [
    "Visualize the distribution of -1 and 1 values across columns using heatmaps. This helps identify columns with placeholder or indicator values."
   ]
  },
  {
   "cell_type": "code",
   "execution_count": null,
   "id": "06c10b01",
   "metadata": {},
   "outputs": [],
   "source": [
    "plt.figure(figsize=(18, 8))\n",
    "\n",
    "plt.subplot(1, 2, 1)\n",
    "sns.heatmap(df_35_EYE == -1, cmap='viridis')\n",
    "plt.title('Heatmap of -1 Values')\n",
    "\n",
    "plt.subplot(1, 2, 2)\n",
    "sns.heatmap(df_35_EYE == 1, cmap='viridis')\n",
    "plt.title('Heatmap of 1 Values')\n",
    "\n",
    "plt.tight_layout()\n",
    "plt.show()"
   ]
  },
  {
   "cell_type": "markdown",
   "id": "79d423e6",
   "metadata": {},
   "source": [
    "Check the number of rows where `ET_PupilLeft` is -1."
   ]
  },
  {
   "cell_type": "code",
   "execution_count": null,
   "id": "f3ef8b92",
   "metadata": {},
   "outputs": [],
   "source": [
    "df_35_EYE[df_35_EYE['ET_PupilLeft'] == -1].shape"
   ]
  },
  {
   "cell_type": "markdown",
   "id": "df59b1cf",
   "metadata": {},
   "source": [
    "Check the number of rows where `ET_PupilRight` is -1."
   ]
  },
  {
   "cell_type": "code",
   "execution_count": null,
   "id": "444336b1",
   "metadata": {},
   "outputs": [],
   "source": [
    "df_35_EYE[df_35_EYE['ET_PupilRight'] == -1].shape"
   ]
  },
  {
   "cell_type": "markdown",
   "id": "458426c5",
   "metadata": {},
   "source": [
    "Calculate the ratio of rows with -1 values in the `ET_PupilLeft` column to the total number of rows."
   ]
  },
  {
   "cell_type": "code",
   "execution_count": null,
   "id": "71073738",
   "metadata": {},
   "outputs": [],
   "source": [
    "df_35_EYE[df_35_EYE['ET_PupilLeft'] == -1].shape[0] / df_35_EYE.shape[0]"
   ]
  },
  {
   "cell_type": "markdown",
   "id": "e3089b57",
   "metadata": {},
   "source": [
    "Calculate the ratio of rows with -1 values in the `ET_PupilRight` column to the total number of rows."
   ]
  },
  {
   "cell_type": "code",
   "execution_count": null,
   "id": "47c99a3d",
   "metadata": {},
   "outputs": [],
   "source": [
    "df_35_EYE[df_35_EYE['ET_PupilRight'] == -1].shape[0] / df_35_EYE.shape[0]"
   ]
  },
  {
   "cell_type": "markdown",
   "id": "e0dab6a3",
   "metadata": {},
   "source": [
    "Visualize the distribution of -1 values specifically for rows where validity is 1 (invalid data)."
   ]
  },
  {
   "cell_type": "code",
   "execution_count": null,
   "id": "d7bfc631",
   "metadata": {},
   "outputs": [],
   "source": [
    "plt.figure(figsize=(18, 8))\n",
    "\n",
    "plt.subplot(1, 2, 1)\n",
    "sns.heatmap(df_35_EYE[df_35_EYE['ET_ValidityLeft'] == 1] == -1, cmap='viridis')\n",
    "plt.title('Heatmap of -1 Values')\n",
    "\n",
    "plt.subplot(1, 2, 2)\n",
    "sns.heatmap(df_35_EYE[df_35_EYE['ET_ValidityRight'] == 1] == -1, cmap='viridis')\n",
    "plt.title('Heatmap of -1 Values')\n",
    "\n",
    "plt.tight_layout()\n",
    "plt.show()"
   ]
  },
  {
   "cell_type": "markdown",
   "id": "9bf041be",
   "metadata": {},
   "source": [
    "# Notes & Observations\n",
    "\n",
    "- The heatmaps reveal the distribution of -1 values across different columns.\n",
    "- It is evident that the `-1` values are not randomly scattered but appear in specific columns, notably `ET_GazeLeftx`, `ET_GazeLefty`, `ET_GazeRightx`, `ET_GazeRighty`, `ET_PupilLeft`, `ET_PupilRight`, `ET_DistanceLeft`, `ET_DistanceRight`, `ET_CameraLeftX`, `ET_CameraLeftY`, `ET_CameraRightX`, and `ET_CameraRightY`.\n",
    "- These `-1` values often coincide with instances where `ET_ValidityLeft` or `ET_ValidityRight` is 1, indicating invalid eye-tracking data. This suggests that `-1` is used as a placeholder for missing or invalid measurements in these columns when the eye tracker is not providing valid data for a particular eye.\n",
    "- Given that over 70% of the data in the `ET_PupilLeft` and `ET_PupilRight` columns is marked as invalid (-1), these columns may not be suitable for analysis and could be considered for dropping."
   ]
  },
  {
   "cell_type": "markdown",
   "id": "fa327332",
   "metadata": {},
   "source": [
    "Drop the `ET_PupilLeft` and `ET_PupilRight` columns due to the high percentage of invalid data."
   ]
  },
  {
   "cell_type": "code",
   "execution_count": null,
   "id": "0077c64d",
   "metadata": {},
   "outputs": [],
   "source": [
    "df_35_EYE.drop(['ET_PupilLeft', 'ET_PupilRight'], axis=1, inplace=True)"
   ]
  },
  {
   "cell_type": "markdown",
   "id": "873c1ce8",
   "metadata": {},
   "source": [
    "Display the first few rows after dropping the pupil columns."
   ]
  },
  {
   "cell_type": "code",
   "execution_count": null,
   "id": "2ef8ec03",
   "metadata": {},
   "outputs": [],
   "source": [
    "df_35_EYE.head()"
   ]
  },
  {
   "cell_type": "markdown",
   "id": "31ba1a29",
   "metadata": {},
   "source": [
    "Visualize the distribution of -1 and 1 values again after dropping the pupil columns."
   ]
  },
  {
   "cell_type": "code",
   "execution_count": null,
   "id": "7630b9ec",
   "metadata": {},
   "outputs": [],
   "source": [
    "plt.figure(figsize=(18, 8))\n",
    "\n",
    "plt.subplot(1, 2, 1)\n",
    "sns.heatmap(df_35_EYE == -1, cmap='viridis')\n",
    "plt.title('Heatmap of -1 Values')\n",
    "\n",
    "plt.subplot(1, 2, 2)\n",
    "sns.heatmap(df_35_EYE == 1, cmap='viridis')\n",
    "plt.title('Heatmap of -1 Values')\n",
    "\n",
    "plt.tight_layout()\n",
    "plt.show()"
   ]
  },
  {
   "cell_type": "markdown",
   "id": "867762e9",
   "metadata": {},
   "source": [
    "Calculate the ratio of valid data points for the left eye."
   ]
  },
  {
   "cell_type": "code",
   "execution_count": null,
   "id": "10d5e092",
   "metadata": {},
   "outputs": [],
   "source": [
    "valid_left_ratio  = 1 - df_35_EYE['ET_ValidityLeft'].mean()"
   ]
  },
  {
   "cell_type": "markdown",
   "id": "39ea98d3",
   "metadata": {},
   "source": [
    "Display the ratio of valid data points for the left eye."
   ]
  },
  {
   "cell_type": "code",
   "execution_count": null,
   "id": "701df096",
   "metadata": {},
   "outputs": [],
   "source": [
    "valid_left_ratio"
   ]
  },
  {
   "cell_type": "markdown",
   "id": "5bf08209",
   "metadata": {},
   "source": [
    "Calculate the ratio of valid data points for the right eye."
   ]
  },
  {
   "cell_type": "code",
   "execution_count": null,
   "id": "1fe12c52",
   "metadata": {},
   "outputs": [],
   "source": [
    "valid_right_ratio = 1 - df_35_EYE['ET_ValidityRight'].mean()"
   ]
  },
  {
   "cell_type": "markdown",
   "id": "c0f02ab8",
   "metadata": {},
   "source": [
    "Display the ratio of valid data points for the right eye."
   ]
  },
  {
   "cell_type": "code",
   "execution_count": null,
   "id": "3029fa86",
   "metadata": {},
   "outputs": [],
   "source": [
    "valid_right_ratio"
   ]
  },
  {
   "cell_type": "markdown",
   "id": "1f27f5f7",
   "metadata": {},
   "source": [
    "Display the first few rows of the DataFrame."
   ]
  },
  {
   "cell_type": "code",
   "execution_count": null,
   "id": "f3f39d21",
   "metadata": {},
   "outputs": [],
   "source": [
    "df_35_EYE.head()"
   ]
  },
  {
   "cell_type": "markdown",
   "id": "4a859066",
   "metadata": {},
   "source": [
    "Visualize the distributions of numeric columns using histograms with Kernel Density Estimate (KDE) plots. This helps understand the shape and spread of the data in each numeric column."
   ]
  },
  {
   "cell_type": "code",
   "execution_count": null,
   "id": "315e309a",
   "metadata": {},
   "outputs": [],
   "source": [
    "# Select only the numeric columns for plotting histograms, excluding time-related columns\n",
    "numeric_cols = df_35_EYE.select_dtypes(include=np.number).columns\n",
    "cols_to_plot = [col for col in numeric_cols if col not in ['UnixTime']]\n",
    "\n",
    "# Calculate the number of rows and columns for the grid\n",
    "n_cols = 4  # You can adjust the number of columns as needed\n",
    "n_rows = (len(cols_to_plot) + n_cols - 1) // n_cols\n",
    "\n",
    "plt.figure(figsize=(n_cols * 5, n_rows * 4)) # Adjust figure size as needed\n",
    "\n",
    "for i, col in enumerate(cols_to_plot):\n",
    "    plt.subplot(n_rows, n_cols, i + 1)\n",
    "    sns.histplot(df_35_EYE[col], kde=True)\n",
    "    plt.title(f'Distribution of {col}')\n",
    "    plt.xlabel(col)\n",
    "    plt.ylabel('Frequency')\n",
    "\n",
    "plt.tight_layout()\n",
    "plt.show()"
   ]
  },
  {
   "cell_type": "markdown",
   "id": "8292081d",
   "metadata": {},
   "source": [
    "List the names of the columns in the DataFrame."
   ]
  },
  {
   "cell_type": "code",
   "execution_count": null,
   "id": "7e1eef78",
   "metadata": {},
   "outputs": [],
   "source": [
    "df_35_EYE.columns"
   ]
  },
  {
   "cell_type": "markdown",
   "id": "e4190b1e",
   "metadata": {},
   "source": [
    "Define a list of columns to be plotted over time."
   ]
  },
  {
   "cell_type": "code",
   "execution_count": null,
   "id": "680dee37",
   "metadata": {},
   "outputs": [],
   "source": [
    "cols = ['ET_GazeLeftx', 'ET_GazeLefty',\n",
    "       'ET_GazeRightx', 'ET_GazeRighty', 'ET_TimeSignal', 'ET_DistanceLeft',\n",
    "       'ET_DistanceRight', 'ET_CameraLeftX', 'ET_CameraLeftY',\n",
    "       'ET_CameraRightX', 'ET_CameraRightY', 'ET_ValidityLeft',\n",
    "       'ET_ValidityRight']"
   ]
  },
  {
   "cell_type": "markdown",
   "id": "8e8089d0",
   "metadata": {},
   "source": [
    "Plot each of the selected columns against the timestamp to visualize their trends and patterns over time. Markdown cells are added before each plot for better readability."
   ]
  },
  {
   "cell_type": "code",
   "execution_count": null,
   "id": "ff378664",
   "metadata": {},
   "outputs": [],
   "source": [
    "from IPython.display import display, Markdown\n",
    "\n",
    "for col in cols:\n",
    "    # Add a markdown cell before each plot for better separation and labeling\n",
    "    display(Markdown(f'### {col} over Time'))\n",
    "    plt.figure(figsize=(16, 10))\n",
    "    plt.plot(df_35_EYE['Timestamp'], df_35_EYE[col])\n",
    "    plt.xlabel(\"Timestamp\") # Add x-axis label\n",
    "    plt.ylabel(col) # Add y-axis label\n",
    "    plt.show()"
   ]
  },
  {
   "cell_type": "markdown",
   "id": "59d3fc28",
   "metadata": {},
   "source": [
    "Visualize the distributions of numeric columns using boxplots. This helps identify potential outliers and the spread of the data."
   ]
  },
  {
   "cell_type": "code",
   "execution_count": null,
   "id": "7632e368",
   "metadata": {},
   "outputs": [],
   "source": [
    "# Select only the numeric columns for plotting histograms, excluding time-related columns\n",
    "numeric_cols = df_35_EYE.select_dtypes(include=np.number).columns\n",
    "\n",
    "# Calculate the number of rows and columns for the grid\n",
    "n_cols = 4  # You can adjust the number of columns as needed\n",
    "n_rows = (len(numeric_cols) + n_cols - 1) // n_cols\n",
    "\n",
    "plt.figure(figsize=(n_cols * 5, n_rows * 4)) # Adjust figure size as needed\n",
    "\n",
    "for i, col in enumerate(numeric_cols):\n",
    "    plt.subplot(n_rows, n_cols, i + 1)\n",
    "    sns.boxplot(df_35_EYE[col])\n",
    "    plt.title(f'Boxplot of {col}')\n",
    "    plt.xlabel(col)\n",
    "\n",
    "plt.tight_layout()\n",
    "plt.show()"
   ]
  },
  {
   "cell_type": "markdown",
   "id": "0200e7e4",
   "metadata": {},
   "source": [
    "Replace the placeholder value -1 with NaN (Not a Number) in the DataFrame. This is done before imputation."
   ]
  },
  {
   "cell_type": "code",
   "execution_count": null,
   "id": "63affe84",
   "metadata": {},
   "outputs": [],
   "source": [
    "df_35_EYE.replace({-1: np.nan}, inplace=True)"
   ]
  },
  {
   "cell_type": "markdown",
   "id": "34472372",
   "metadata": {},
   "source": [
    "Impute the missing values (NaN) in the numeric columns with the mean of each column."
   ]
  },
  {
   "cell_type": "code",
   "execution_count": null,
   "id": "f0ab1f0d",
   "metadata": {},
   "outputs": [],
   "source": [
    "numeric_cols = df_35_EYE.select_dtypes(include=np.number).columns\n",
    "\n",
    "for col in numeric_cols:\n",
    "    df_35_EYE[col].fillna(df_35_EYE[col].mean(), inplace=True)"
   ]
  },
  {
   "cell_type": "markdown",
   "id": "d74eb17b",
   "metadata": {},
   "source": [
    "Display the first few rows after imputing missing values."
   ]
  },
  {
   "cell_type": "code",
   "execution_count": null,
   "id": "aac063c0",
   "metadata": {},
   "outputs": [],
   "source": [
    "df_35_EYE.head()"
   ]
  },
  {
   "cell_type": "markdown",
   "id": "298dc41a",
   "metadata": {},
   "source": [
    "Visualize the distributions of numeric columns again using histograms with KDE plots after imputation. This helps assess the impact of imputation on the data distributions."
   ]
  },
  {
   "cell_type": "code",
   "execution_count": null,
   "id": "c4399bdb",
   "metadata": {},
   "outputs": [],
   "source": [
    "# Select only the numeric columns for plotting histograms, excluding time-related columns\n",
    "numeric_cols = df_35_EYE.select_dtypes(include=np.number).columns\n",
    "cols_to_plot = [col for col in numeric_cols if col not in ['UnixTime']]\n",
    "\n",
    "# Calculate the number of rows and columns for the grid\n",
    "n_cols = 4  # You can adjust the number of columns as needed\n",
    "n_rows = (len(cols_to_plot) + n_cols - 1) // n_cols\n",
    "\n",
    "plt.figure(figsize=(n_cols * 5, n_rows * 4)) # Adjust figure size as needed\n",
    "\n",
    "for i, col in enumerate(cols_to_plot):\n",
    "    plt.subplot(n_rows, n_cols, i + 1)\n",
    "    sns.histplot(df_35_EYE[col], kde=True)\n",
    "    plt.title(f'Distribution of {col}')\n",
    "    plt.xlabel(col)\n",
    "    plt.ylabel('Frequency')\n",
    "\n",
    "plt.tight_layout()\n",
    "plt.show()"
   ]
  },
  {
   "cell_type": "code",
   "execution_count": null,
   "id": "83394d46",
   "metadata": {},
   "outputs": [],
   "source": []
  },
  {
   "cell_type": "markdown",
   "id": "e76729ee",
   "metadata": {},
   "source": [
    "## Student 36"
   ]
  },
  {
   "cell_type": "code",
   "execution_count": null,
   "id": "d1143f5e",
   "metadata": {},
   "outputs": [],
   "source": [
    "%load_ext cudf"
   ]
  },
  {
   "cell_type": "code",
   "execution_count": null,
   "id": "b8cbe2f2",
   "metadata": {},
   "outputs": [],
   "source": [
    "import numpy as np\n",
    "import pandas as pd\n",
    "import matplotlib.pyplot as plt\n",
    "import seaborn as sns"
   ]
  },
  {
   "cell_type": "code",
   "execution_count": null,
   "id": "d13f8079",
   "metadata": {},
   "outputs": [],
   "source": [
    "import datashader as ds\n",
    "import datashader.transfer_functions as tf"
   ]
  },
  {
   "cell_type": "code",
   "execution_count": null,
   "id": "b53b8e93",
   "metadata": {},
   "outputs": [],
   "source": [
    "pd.set_option('display.max_columns', None)"
   ]
  },
  {
   "cell_type": "code",
   "execution_count": null,
   "id": "a0d9093b",
   "metadata": {},
   "outputs": [],
   "source": [
    "df_36_EYE = pd.read_csv('data/STData/36/36_EYE.csv')"
   ]
  },
  {
   "cell_type": "code",
   "execution_count": null,
   "id": "cf8a429a",
   "metadata": {},
   "outputs": [],
   "source": [
    "df_36_EYE.head()"
   ]
  },
  {
   "cell_type": "code",
   "execution_count": null,
   "id": "9edd5057",
   "metadata": {},
   "outputs": [],
   "source": [
    "df_36_EYE.shape"
   ]
  },
  {
   "cell_type": "code",
   "execution_count": null,
   "id": "9c19aff2",
   "metadata": {},
   "outputs": [],
   "source": [
    "df_36_EYE.columns"
   ]
  },
  {
   "cell_type": "code",
   "execution_count": null,
   "id": "57678317",
   "metadata": {},
   "outputs": [],
   "source": [
    "df_36_EYE.info()"
   ]
  },
  {
   "cell_type": "code",
   "execution_count": null,
   "id": "88130234",
   "metadata": {},
   "outputs": [],
   "source": [
    "df_36_EYE.isnull().sum()"
   ]
  },
  {
   "cell_type": "code",
   "execution_count": null,
   "id": "c1bdda66",
   "metadata": {},
   "outputs": [],
   "source": [
    "plt.figure(figsize=(12,8))\n",
    "sns.heatmap(df_36_EYE.isnull(), cmap='viridis')\n",
    "plt.show()"
   ]
  },
  {
   "cell_type": "markdown",
   "id": "da38b3dd",
   "metadata": {},
   "source": [
    "# Notes & Observations\n",
    "\n",
    "- We observe many **null** (or missing) values in the `QuestionKey` columns.  \n",
    "- The nulls in the `QuestionKey` column may not represent “true” nulls. Rather, they follow interval patterns, suggesting that during those periods no question was displayed.  \n",
    "- These missing values in `QuestionKey` require additional investigation and context-aware handling.  "
   ]
  },
  {
   "cell_type": "code",
   "execution_count": null,
   "id": "f713410c",
   "metadata": {},
   "outputs": [],
   "source": [
    "df_36_EYE['QuestionKey'].unique()"
   ]
  },
  {
   "cell_type": "code",
   "execution_count": null,
   "id": "cf11e4bb",
   "metadata": {},
   "outputs": [],
   "source": [
    "df_36_EYE['Timestamp'] = pd.to_datetime(df_36_EYE['Timestamp'])"
   ]
  },
  {
   "cell_type": "code",
   "execution_count": null,
   "id": "305b28e7",
   "metadata": {},
   "outputs": [],
   "source": [
    "df_36_EYE.head(3)"
   ]
  },
  {
   "cell_type": "code",
   "execution_count": null,
   "id": "ffdb5706",
   "metadata": {},
   "outputs": [],
   "source": [
    "df_36_EYE['QuestionKey'].fillna('None', inplace=True)"
   ]
  },
  {
   "cell_type": "code",
   "execution_count": null,
   "id": "6a39650a",
   "metadata": {},
   "outputs": [],
   "source": [
    "df_36_EYE['QuestionKey'].value_counts()"
   ]
  },
  {
   "cell_type": "code",
   "execution_count": null,
   "id": "c1364749",
   "metadata": {},
   "outputs": [],
   "source": [
    "plt.figure(figsize=(12,8))\n",
    "sns.heatmap(df_36_EYE.isnull(), cmap='viridis')\n",
    "plt.show()"
   ]
  },
  {
   "cell_type": "code",
   "execution_count": null,
   "id": "6f14ad6c",
   "metadata": {},
   "outputs": [],
   "source": [
    "df_36_EYE.isnull().sum()"
   ]
  },
  {
   "cell_type": "code",
   "execution_count": null,
   "id": "ada89f1d",
   "metadata": {},
   "outputs": [],
   "source": [
    "df_36_EYE.dropna(inplace=True)"
   ]
  },
  {
   "cell_type": "code",
   "execution_count": null,
   "id": "c7d46a09",
   "metadata": {},
   "outputs": [],
   "source": [
    "df_36_EYE.head()"
   ]
  },
  {
   "cell_type": "code",
   "execution_count": null,
   "id": "bc6d6266",
   "metadata": {},
   "outputs": [],
   "source": [
    "df_36_EYE['Row'].unique()"
   ]
  },
  {
   "cell_type": "code",
   "execution_count": null,
   "id": "ca1d6234",
   "metadata": {},
   "outputs": [],
   "source": [
    "plt.figure(figsize=(8,6))\n",
    "sns.histplot(df_36_EYE['Row'])\n",
    "plt.show()"
   ]
  },
  {
   "cell_type": "markdown",
   "id": "4fd32b8b",
   "metadata": {},
   "source": [
    "# Notes & Observations\n",
    "\n",
    "- The `Row` column appears to be a simple row index and does not provide meaningful information relevant to the eye-tracking data itself. Therefore, it can be dropped."
   ]
  },
  {
   "cell_type": "code",
   "execution_count": null,
   "id": "8f9a3e2e",
   "metadata": {},
   "outputs": [],
   "source": [
    "df_36_EYE.drop('Row', axis=1, inplace=True)"
   ]
  },
  {
   "cell_type": "code",
   "execution_count": null,
   "id": "728aab9c",
   "metadata": {},
   "outputs": [],
   "source": [
    "df_36_EYE['ET_ValidityLeft'].unique()"
   ]
  },
  {
   "cell_type": "code",
   "execution_count": null,
   "id": "ee72c08f",
   "metadata": {},
   "outputs": [],
   "source": [
    "df_36_EYE['ET_ValidityLeft'].value_counts()"
   ]
  },
  {
   "cell_type": "code",
   "execution_count": null,
   "id": "5e9b0ba0",
   "metadata": {},
   "outputs": [],
   "source": [
    "df_36_EYE['ET_ValidityRight'].unique()"
   ]
  },
  {
   "cell_type": "code",
   "execution_count": null,
   "id": "16b96f03",
   "metadata": {},
   "outputs": [],
   "source": [
    "df_36_EYE['ET_ValidityRight'].value_counts()"
   ]
  },
  {
   "cell_type": "code",
   "execution_count": null,
   "id": "580847a8",
   "metadata": {},
   "outputs": [],
   "source": [
    "plt.figure(figsize=(12, 6))\n",
    "\n",
    "plt.subplot(1, 2, 1)\n",
    "sns.barplot(x=df_36_EYE['ET_ValidityLeft'].value_counts().index, y=df_36_EYE['ET_ValidityLeft'].value_counts().values)\n",
    "plt.title('Count of ET_ValidityLeft')\n",
    "plt.xlabel('Validity')\n",
    "plt.ylabel('Count')\n",
    "\n",
    "\n",
    "plt.subplot(1, 2, 2)\n",
    "sns.barplot(x=df_36_EYE['ET_ValidityRight'].value_counts().index, y=df_36_EYE['ET_ValidityRight'].value_counts().values)\n",
    "plt.title('Count of ET_ValidityRight')\n",
    "plt.xlabel('Validity')\n",
    "plt.ylabel('Count')\n",
    "\n",
    "plt.tight_layout()\n",
    "plt.show()"
   ]
  },
  {
   "cell_type": "markdown",
   "id": "eb4c2a65",
   "metadata": {},
   "source": [
    "# Notes & Observations\n",
    "\n",
    "- The `ET_ValidityLeft` and `ET_ValidityRight` columns indicate the validity of the eye-tracking data for the left and right eye, respectively.\n",
    "- Based on the value counts and the bar plots, it appears that a value of `0.0` represents valid eye-tracking data, while a value of `4.0` represents invalid data.\n",
    "- Although the amount of invalid data is relatively small, removing these rows could introduce unwanted patterns or gaps in the time series data.\n",
    "- Therefore, we will keep the data and replace the value `4.0` with `1.0` in both `ET_ValidityLeft` and `ET_ValidityRight` columns. This will indicate to a machine learning model that the eye tracker had invalid data at those specific points in time while maintaining the integrity of the time series."
   ]
  },
  {
   "cell_type": "code",
   "execution_count": null,
   "id": "0f5bc3e8",
   "metadata": {},
   "outputs": [],
   "source": [
    "validity_map = {4.0: 1.0, 0.0: 0.0}"
   ]
  },
  {
   "cell_type": "code",
   "execution_count": null,
   "id": "7525ad4b",
   "metadata": {},
   "outputs": [],
   "source": [
    "df_36_EYE['ET_ValidityLeft'] = df_36_EYE['ET_ValidityLeft'].map(validity_map).astype(np.int8)\n",
    "df_36_EYE['ET_ValidityRight'] = df_36_EYE['ET_ValidityRight'].map(validity_map).astype(np.int8)"
   ]
  },
  {
   "cell_type": "code",
   "execution_count": null,
   "id": "0de22339",
   "metadata": {},
   "outputs": [],
   "source": [
    "df_36_EYE.head(3)"
   ]
  },
  {
   "cell_type": "code",
   "execution_count": null,
   "id": "bfd29665",
   "metadata": {},
   "outputs": [],
   "source": [
    "df_36_EYE.describe()"
   ]
  },
  {
   "cell_type": "code",
   "execution_count": null,
   "id": "99685885",
   "metadata": {},
   "outputs": [],
   "source": [
    "df_36_EYE[df_36_EYE['ET_ValidityLeft'] == 1].shape"
   ]
  },
  {
   "cell_type": "code",
   "execution_count": null,
   "id": "e998cc14",
   "metadata": {},
   "outputs": [],
   "source": [
    "df_36_EYE[df_36_EYE['ET_ValidityRight'] == 1].shape"
   ]
  },
  {
   "cell_type": "code",
   "execution_count": null,
   "id": "2dd2d9fe",
   "metadata": {},
   "outputs": [],
   "source": [
    "plt.figure(figsize=(18, 8))\n",
    "\n",
    "plt.subplot(1, 2, 1)\n",
    "sns.heatmap(df_36_EYE == -1, cmap='viridis')\n",
    "plt.title('Heatmap of -1 Values')\n",
    "\n",
    "plt.subplot(1, 2, 2)\n",
    "sns.heatmap(df_36_EYE == 1, cmap='viridis')\n",
    "plt.title('Heatmap of 1 Values')\n",
    "\n",
    "plt.tight_layout()\n",
    "plt.show()"
   ]
  },
  {
   "cell_type": "code",
   "execution_count": null,
   "id": "24829f18",
   "metadata": {},
   "outputs": [],
   "source": [
    "df_36_EYE[df_36_EYE['ET_PupilLeft'] == -1].shape"
   ]
  },
  {
   "cell_type": "code",
   "execution_count": null,
   "id": "351e2559",
   "metadata": {},
   "outputs": [],
   "source": [
    "df_36_EYE[df_36_EYE['ET_PupilRight'] == -1].shape"
   ]
  },
  {
   "cell_type": "code",
   "execution_count": null,
   "id": "214c2d9c",
   "metadata": {},
   "outputs": [],
   "source": [
    "df_36_EYE[df_36_EYE['ET_PupilLeft'] == -1].shape[0] / df_36_EYE.shape[0]"
   ]
  },
  {
   "cell_type": "code",
   "execution_count": null,
   "id": "d6834c7a",
   "metadata": {},
   "outputs": [],
   "source": [
    "df_36_EYE[df_36_EYE['ET_PupilRight'] == -1].shape[0] / df_36_EYE.shape[0]"
   ]
  },
  {
   "cell_type": "code",
   "execution_count": null,
   "id": "fa18e32e",
   "metadata": {},
   "outputs": [],
   "source": [
    "plt.figure(figsize=(18, 8))\n",
    "\n",
    "plt.subplot(1, 2, 1)\n",
    "sns.heatmap(df_36_EYE[df_36_EYE['ET_ValidityLeft'] == 1] == -1, cmap='viridis')\n",
    "plt.title('Heatmap of -1 Values')\n",
    "\n",
    "plt.subplot(1, 2, 2)\n",
    "sns.heatmap(df_36_EYE[df_36_EYE['ET_ValidityRight'] == 1] == -1, cmap='viridis')\n",
    "plt.title('Heatmap of -1 Values')\n",
    "\n",
    "plt.tight_layout()\n",
    "plt.show()"
   ]
  },
  {
   "cell_type": "markdown",
   "id": "6e35c8b0",
   "metadata": {},
   "source": [
    "# Notes & Observations\n",
    "\n",
    "- The heatmaps reveal the distribution of -1 values across different columns.\n",
    "- It is evident that the `-1` values are not randomly scattered but appear in specific columns, notably `ET_GazeLeftx`, `ET_GazeLefty`, `ET_GazeRightx`, `ET_GazeRighty`, `ET_PupilLeft`, `ET_PupilRight`, `ET_DistanceLeft`, `ET_DistanceRight`, `ET_CameraLeftX`, `ET_CameraLeftY`, `ET_CameraRightX`, and `ET_CameraRightY`.\n",
    "- These `-1` values often coincide with instances where `ET_ValidityLeft` or `ET_ValidityRight` is 1, indicating invalid eye-tracking data. This suggests that `-1` is used as a placeholder for missing or invalid measurements in these columns when the eye tracker is not providing valid data for a particular eye.\n",
    "- Given that over 70% of the data in the `ET_PupilLeft` and `ET_PupilRight` columns is marked as invalid (-1), these columns may not be suitable for analysis and could be considered for dropping."
   ]
  },
  {
   "cell_type": "code",
   "execution_count": null,
   "id": "8914a352",
   "metadata": {},
   "outputs": [],
   "source": [
    "df_36_EYE.drop(['ET_PupilLeft', 'ET_PupilRight'], axis=1, inplace=True)"
   ]
  },
  {
   "cell_type": "code",
   "execution_count": null,
   "id": "bf288167",
   "metadata": {},
   "outputs": [],
   "source": [
    "df_36_EYE.head()"
   ]
  },
  {
   "cell_type": "code",
   "execution_count": null,
   "id": "09e1c421",
   "metadata": {},
   "outputs": [],
   "source": [
    "plt.figure(figsize=(18, 8))\n",
    "\n",
    "plt.subplot(1, 2, 1)\n",
    "sns.heatmap(df_36_EYE == -1, cmap='viridis')\n",
    "plt.title('Heatmap of -1 Values')\n",
    "\n",
    "plt.subplot(1, 2, 2)\n",
    "sns.heatmap(df_36_EYE == 1, cmap='viridis')\n",
    "plt.title('Heatmap of -1 Values')\n",
    "\n",
    "plt.tight_layout()\n",
    "plt.show()"
   ]
  },
  {
   "cell_type": "code",
   "execution_count": null,
   "id": "f4bfbf43",
   "metadata": {},
   "outputs": [],
   "source": [
    "valid_left_ratio  = 1 - df_36_EYE['ET_ValidityLeft'].mean()\n",
    "valid_right_ratio = 1 - df_36_EYE['ET_ValidityRight'].mean()"
   ]
  },
  {
   "cell_type": "code",
   "execution_count": null,
   "id": "e93a86bd",
   "metadata": {},
   "outputs": [],
   "source": [
    "valid_left_ratio"
   ]
  },
  {
   "cell_type": "code",
   "execution_count": null,
   "id": "480602ea",
   "metadata": {},
   "outputs": [],
   "source": [
    "valid_right_ratio"
   ]
  },
  {
   "cell_type": "code",
   "execution_count": null,
   "id": "5c405515",
   "metadata": {},
   "outputs": [],
   "source": [
    "df_36_EYE.head()"
   ]
  },
  {
   "cell_type": "code",
   "execution_count": null,
   "id": "ee206e3f",
   "metadata": {},
   "outputs": [],
   "source": [
    "# Select only the numeric columns for plotting histograms, excluding time-related columns\n",
    "numeric_cols = df_36_EYE.select_dtypes(include=np.number).columns\n",
    "cols_to_plot = [col for col in numeric_cols if col not in ['UnixTime']]\n",
    "\n",
    "# Calculate the number of rows and columns for the grid\n",
    "n_cols = 4  # You can adjust the number of columns as needed\n",
    "n_rows = (len(cols_to_plot) + n_cols - 1) // n_cols\n",
    "\n",
    "plt.figure(figsize=(n_cols * 5, n_rows * 4)) # Adjust figure size as needed\n",
    "\n",
    "for i, col in enumerate(cols_to_plot):\n",
    "    plt.subplot(n_rows, n_cols, i + 1)\n",
    "    sns.histplot(df_36_EYE[col], kde=True)\n",
    "    plt.title(f'Distribution of {col}')\n",
    "    plt.xlabel(col)\n",
    "    plt.ylabel('Frequency')\n",
    "\n",
    "plt.tight_layout()\n",
    "plt.show()"
   ]
  },
  {
   "cell_type": "code",
   "execution_count": null,
   "id": "92bcb0b9",
   "metadata": {},
   "outputs": [],
   "source": [
    "df_36_EYE.columns"
   ]
  },
  {
   "cell_type": "code",
   "execution_count": null,
   "id": "5fa0603b",
   "metadata": {},
   "outputs": [],
   "source": [
    "cols = ['ET_GazeLeftx', 'ET_GazeLefty',\n",
    "       'ET_GazeRightx', 'ET_GazeRighty', 'ET_TimeSignal', 'ET_DistanceLeft',\n",
    "       'ET_DistanceRight', 'ET_CameraLeftX', 'ET_CameraLeftY',\n",
    "       'ET_CameraRightX', 'ET_CameraRightY', 'ET_ValidityLeft',\n",
    "       'ET_ValidityRight']"
   ]
  },
  {
   "cell_type": "code",
   "execution_count": null,
   "id": "a893b215",
   "metadata": {},
   "outputs": [],
   "source": [
    "from IPython.display import display, Markdown\n",
    "\n",
    "for col in cols:\n",
    "    # Add a markdown cell before each plot for better separation and labeling\n",
    "    display(Markdown(f'### {col} over Time'))\n",
    "    plt.figure(figsize=(16, 10))\n",
    "    plt.plot(df_36_EYE['Timestamp'], df_36_EYE[col])\n",
    "    plt.xlabel(\"Timestamp\") # Add x-axis label\n",
    "    plt.ylabel(col) # Add y-axis label\n",
    "    plt.show()"
   ]
  },
  {
   "cell_type": "code",
   "execution_count": null,
   "id": "1da2af37",
   "metadata": {},
   "outputs": [],
   "source": [
    "# Select only the numeric columns for plotting histograms, excluding time-related columns\n",
    "numeric_cols = df_36_EYE.select_dtypes(include=np.number).columns\n",
    "\n",
    "# Calculate the number of rows and columns for the grid\n",
    "n_cols = 4  # You can adjust the number of columns as needed\n",
    "n_rows = (len(numeric_cols) + n_cols - 1) // n_cols\n",
    "\n",
    "plt.figure(figsize=(n_cols * 5, n_rows * 4)) # Adjust figure size as needed\n",
    "\n",
    "for i, col in enumerate(numeric_cols):\n",
    "    plt.subplot(n_rows, n_cols, i + 1)\n",
    "    sns.boxplot(df_36_EYE[col])\n",
    "    plt.title(f'Boxplot of {col}')\n",
    "    plt.xlabel(col)\n",
    "\n",
    "plt.tight_layout()\n",
    "plt.show()"
   ]
  },
  {
   "cell_type": "code",
   "execution_count": null,
   "id": "45867057",
   "metadata": {},
   "outputs": [],
   "source": [
    "df_36_EYE.replace({-1: np.nan}, inplace=True)"
   ]
  },
  {
   "cell_type": "code",
   "execution_count": null,
   "id": "0ac36ce0",
   "metadata": {},
   "outputs": [],
   "source": [
    "numeric_cols = df_36_EYE.select_dtypes(include=np.number).columns\n",
    "\n",
    "for col in numeric_cols:\n",
    "    df_36_EYE[col].fillna(df_36_EYE[col].mean(), inplace=True)"
   ]
  },
  {
   "cell_type": "code",
   "execution_count": null,
   "id": "f3af2581",
   "metadata": {},
   "outputs": [],
   "source": [
    "df_36_EYE.head()"
   ]
  },
  {
   "cell_type": "code",
   "execution_count": null,
   "id": "23788e29",
   "metadata": {},
   "outputs": [],
   "source": [
    "# Select only the numeric columns for plotting histograms, excluding time-related columns\n",
    "numeric_cols = df_36_EYE.select_dtypes(include=np.number).columns\n",
    "cols_to_plot = [col for col in numeric_cols if col not in ['UnixTime']]\n",
    "\n",
    "# Calculate the number of rows and columns for the grid\n",
    "n_cols = 4  # You can adjust the number of columns as needed\n",
    "n_rows = (len(cols_to_plot) + n_cols - 1) // n_cols\n",
    "\n",
    "plt.figure(figsize=(n_cols * 5, n_rows * 4)) # Adjust figure size as needed\n",
    "\n",
    "for i, col in enumerate(cols_to_plot):\n",
    "    plt.subplot(n_rows, n_cols, i + 1)\n",
    "    sns.histplot(df_36_EYE[col], kde=True)\n",
    "    plt.title(f'Distribution of {col}')\n",
    "    plt.xlabel(col)\n",
    "    plt.ylabel('Frequency')\n",
    "\n",
    "plt.tight_layout()\n",
    "plt.show()"
   ]
  },
  {
   "cell_type": "code",
   "execution_count": null,
   "id": "50ab8940",
   "metadata": {},
   "outputs": [],
   "source": []
  },
  {
   "cell_type": "code",
   "execution_count": null,
   "id": "8328a3e1",
   "metadata": {},
   "outputs": [],
   "source": []
  },
  {
   "cell_type": "code",
   "execution_count": null,
   "id": "b8651918",
   "metadata": {},
   "outputs": [],
   "source": []
  },
  {
   "cell_type": "code",
   "execution_count": null,
   "id": "db5f2f72",
   "metadata": {},
   "outputs": [],
   "source": []
  },
  {
   "cell_type": "code",
   "execution_count": null,
   "id": "62d7e55e",
   "metadata": {},
   "outputs": [],
   "source": []
  },
  {
   "cell_type": "code",
   "execution_count": null,
   "id": "6cc6f016",
   "metadata": {},
   "outputs": [],
   "source": []
  },
  {
   "cell_type": "code",
   "execution_count": null,
   "id": "42fbf1c5",
   "metadata": {},
   "outputs": [],
   "source": []
  },
  {
   "cell_type": "code",
   "execution_count": null,
   "id": "52cdf54e",
   "metadata": {},
   "outputs": [],
   "source": []
  },
  {
   "cell_type": "code",
   "execution_count": null,
   "id": "3d02123a",
   "metadata": {},
   "outputs": [],
   "source": []
  },
  {
   "cell_type": "code",
   "execution_count": null,
   "id": "80293dba",
   "metadata": {},
   "outputs": [],
   "source": []
  },
  {
   "cell_type": "code",
   "execution_count": null,
   "id": "cc6c6aab",
   "metadata": {},
   "outputs": [],
   "source": []
  },
  {
   "cell_type": "code",
   "execution_count": null,
   "id": "c88c01c8",
   "metadata": {},
   "outputs": [],
   "source": []
  },
  {
   "cell_type": "markdown",
   "id": "491436f4",
   "metadata": {},
   "source": [
    "# Eye Tracking Data Analysis\n",
    "\n",
    "This notebook performs exploratory data analysis and cleaning on eye-tracking data.\n",
    "\n",
    "## Data Loading and Initial Inspection"
   ]
  },
  {
   "cell_type": "code",
   "execution_count": null,
   "id": "53868334",
   "metadata": {},
   "outputs": [],
   "source": [
    "%load_ext cudf"
   ]
  },
  {
   "cell_type": "markdown",
   "id": "a562f298",
   "metadata": {},
   "source": [
    "Import necessary libraries for data manipulation, analysis, and visualization."
   ]
  },
  {
   "cell_type": "code",
   "execution_count": null,
   "id": "7aff9ffd",
   "metadata": {},
   "outputs": [],
   "source": [
    "import numpy as np\n",
    "import pandas as pd\n",
    "import matplotlib.pyplot as plt\n",
    "import seaborn as sns"
   ]
  },
  {
   "cell_type": "markdown",
   "id": "29f254b5",
   "metadata": {},
   "source": [
    "Import libraries for datashader, which can be used for visualizing large datasets."
   ]
  },
  {
   "cell_type": "code",
   "execution_count": null,
   "id": "1b62aee2",
   "metadata": {},
   "outputs": [],
   "source": [
    "import datashader as ds\n",
    "import datashader.transfer_functions as tf"
   ]
  },
  {
   "cell_type": "markdown",
   "id": "2ec11fa1",
   "metadata": {},
   "source": [
    "Set pandas display options to show all columns."
   ]
  },
  {
   "cell_type": "code",
   "execution_count": null,
   "id": "b50057a4",
   "metadata": {},
   "outputs": [],
   "source": [
    "pd.set_option('display.max_columns', None)"
   ]
  },
  {
   "cell_type": "markdown",
   "id": "b5240245",
   "metadata": {},
   "source": [
    "Load the eye-tracking data from the specified CSV file into a pandas DataFrame."
   ]
  },
  {
   "cell_type": "code",
   "execution_count": null,
   "id": "ee64c404",
   "metadata": {},
   "outputs": [],
   "source": [
    "df_36_EYE = pd.read_csv('data/STData/36/36_EYE.csv')"
   ]
  },
  {
   "cell_type": "markdown",
   "id": "664cf9eb",
   "metadata": {},
   "source": [
    "Display the first few rows of the DataFrame to get an initial look at the data structure and content."
   ]
  },
  {
   "cell_type": "code",
   "execution_count": null,
   "id": "6363c61a",
   "metadata": {},
   "outputs": [],
   "source": [
    "df_36_EYE.head()"
   ]
  },
  {
   "cell_type": "markdown",
   "id": "55ee556d",
   "metadata": {},
   "source": [
    "Check the dimensions (number of rows and columns) of the DataFrame."
   ]
  },
  {
   "cell_type": "code",
   "execution_count": null,
   "id": "bfadc011",
   "metadata": {},
   "outputs": [],
   "source": [
    "df_36_EYE.shape"
   ]
  },
  {
   "cell_type": "markdown",
   "id": "c59beff9",
   "metadata": {},
   "source": [
    "List the names of all columns in the DataFrame."
   ]
  },
  {
   "cell_type": "code",
   "execution_count": null,
   "id": "10b632f9",
   "metadata": {},
   "outputs": [],
   "source": [
    "df_36_EYE.columns"
   ]
  },
  {
   "cell_type": "markdown",
   "id": "a902942f",
   "metadata": {},
   "source": [
    "Display concise information about the DataFrame, including the data types of each column and the number of non-null values. This helps identify columns with missing data."
   ]
  },
  {
   "cell_type": "code",
   "execution_count": null,
   "id": "d605adfc",
   "metadata": {},
   "outputs": [],
   "source": [
    "df_36_EYE.info()"
   ]
  },
  {
   "cell_type": "markdown",
   "id": "0cfdd608",
   "metadata": {},
   "source": [
    "Calculate and display the number of missing values in each column."
   ]
  },
  {
   "cell_type": "code",
   "execution_count": null,
   "id": "5df0e0bd",
   "metadata": {},
   "outputs": [],
   "source": [
    "df_36_EYE.isnull().sum()"
   ]
  },
  {
   "cell_type": "markdown",
   "id": "e519d329",
   "metadata": {},
   "source": [
    "Visualize the distribution of missing values using a heatmap. This provides a visual representation of which columns have missing data and the extent of missingness."
   ]
  },
  {
   "cell_type": "code",
   "execution_count": null,
   "id": "202a20a5",
   "metadata": {},
   "outputs": [],
   "source": [
    "plt.figure(figsize=(12,8))\n",
    "sns.heatmap(df_36_EYE.isnull(), cmap='viridis')\n",
    "plt.show()"
   ]
  },
  {
   "cell_type": "markdown",
   "id": "f192596d",
   "metadata": {},
   "source": [
    "# Notes & Observations\n",
    "\n",
    "- We observe many **null** (or missing) values in the `QuestionKey` columns.\n",
    "- The nulls in the `QuestionKey` column may not represent “true” nulls. Rather, they follow interval patterns, suggesting that during those periods no question was displayed.\n",
    "- These missing values in `QuestionKey` require additional investigation and context-aware handling."
   ]
  },
  {
   "cell_type": "markdown",
   "id": "8959bb14",
   "metadata": {},
   "source": [
    "Display the unique values in the `QuestionKey` column to understand the different types of questions or states recorded."
   ]
  },
  {
   "cell_type": "code",
   "execution_count": null,
   "id": "8dc44554",
   "metadata": {},
   "outputs": [],
   "source": [
    "df_36_EYE['QuestionKey'].unique()"
   ]
  },
  {
   "cell_type": "markdown",
   "id": "7a01c75f",
   "metadata": {},
   "source": [
    "Convert the `Timestamp` column to datetime objects. This is crucial for any time series analysis or manipulation."
   ]
  },
  {
   "cell_type": "code",
   "execution_count": null,
   "id": "44cd9a8f",
   "metadata": {},
   "outputs": [],
   "source": [
    "df_36_EYE['Timestamp'] = pd.to_datetime(df_36_EYE['Timestamp'])"
   ]
  },
  {
   "cell_type": "markdown",
   "id": "05862021",
   "metadata": {},
   "source": [
    "Display the first few rows again to see the effect of the timestamp conversion."
   ]
  },
  {
   "cell_type": "code",
   "execution_count": null,
   "id": "821fea1b",
   "metadata": {},
   "outputs": [],
   "source": [
    "df_36_EYE.head(3)"
   ]
  },
  {
   "cell_type": "markdown",
   "id": "44b7045d",
   "metadata": {},
   "source": [
    "Fill the missing values in the `QuestionKey` column with the string 'None'. This helps to explicitly mark periods where no question was active."
   ]
  },
  {
   "cell_type": "code",
   "execution_count": null,
   "id": "bc36851d",
   "metadata": {},
   "outputs": [],
   "source": [
    "df_36_EYE['QuestionKey'].fillna('None', inplace=True)"
   ]
  },
  {
   "cell_type": "markdown",
   "id": "245a824f",
   "metadata": {},
   "source": [
    "Count the occurrences of each unique value in the `QuestionKey` column after filling missing values."
   ]
  },
  {
   "cell_type": "code",
   "execution_count": null,
   "id": "b2373919",
   "metadata": {},
   "outputs": [],
   "source": [
    "df_36_EYE['QuestionKey'].value_counts()"
   ]
  },
  {
   "cell_type": "markdown",
   "id": "fade96f0",
   "metadata": {},
   "source": [
    "Display the heatmap of missing values again to confirm that the missing values in `QuestionKey` have been handled."
   ]
  },
  {
   "cell_type": "code",
   "execution_count": null,
   "id": "b415c3ff",
   "metadata": {},
   "outputs": [],
   "source": [
    "plt.figure(figsize=(12,8))\n",
    "sns.heatmap(df_36_EYE.isnull(), cmap='viridis')\n",
    "plt.show()"
   ]
  },
  {
   "cell_type": "markdown",
   "id": "17de7a39",
   "metadata": {},
   "source": [
    "Recalculate and display the number of missing values per column to confirm the changes after handling `QuestionKey`."
   ]
  },
  {
   "cell_type": "code",
   "execution_count": null,
   "id": "6ae8f806",
   "metadata": {},
   "outputs": [],
   "source": [
    "df_36_EYE.isnull().sum()"
   ]
  },
  {
   "cell_type": "markdown",
   "id": "496eadfc",
   "metadata": {},
   "source": [
    "Drop rows that still contain any missing values. This is done after handling `QuestionKey` separately."
   ]
  },
  {
   "cell_type": "code",
   "execution_count": null,
   "id": "530012fa",
   "metadata": {},
   "outputs": [],
   "source": [
    "df_36_EYE.dropna(inplace=True)"
   ]
  },
  {
   "cell_type": "markdown",
   "id": "6e3761ec",
   "metadata": {},
   "source": [
    "Display the first few rows after dropping rows with missing values."
   ]
  },
  {
   "cell_type": "code",
   "execution_count": null,
   "id": "b68ca87f",
   "metadata": {},
   "outputs": [],
   "source": [
    "df_36_EYE.head()"
   ]
  },
  {
   "cell_type": "markdown",
   "id": "4eccd3f4",
   "metadata": {},
   "source": [
    "Display the unique values in the `Row` column."
   ]
  },
  {
   "cell_type": "code",
   "execution_count": null,
   "id": "79ab0196",
   "metadata": {},
   "outputs": [],
   "source": [
    "df_36_EYE['Row'].unique()"
   ]
  },
  {
   "cell_type": "markdown",
   "id": "5f642ffa",
   "metadata": {},
   "source": [
    "Plot a histogram of the `Row` column to visualize its distribution."
   ]
  },
  {
   "cell_type": "code",
   "execution_count": null,
   "id": "9dde6ac1",
   "metadata": {},
   "outputs": [],
   "source": [
    "plt.figure(figsize=(8,6))\n",
    "sns.histplot(df_36_EYE['Row'])\n",
    "plt.show()"
   ]
  },
  {
   "cell_type": "markdown",
   "id": "d53f54c4",
   "metadata": {},
   "source": [
    "# Notes & Observations\n",
    "\n",
    "- The `Row` column appears to be a simple row index and does not provide meaningful information relevant to the eye-tracking data itself. Therefore, it can be dropped."
   ]
  },
  {
   "cell_type": "markdown",
   "id": "7ca5d25a",
   "metadata": {},
   "source": [
    "Drop the `Row` column as it is not relevant for the analysis."
   ]
  },
  {
   "cell_type": "code",
   "execution_count": null,
   "id": "0d1344cc",
   "metadata": {},
   "outputs": [],
   "source": [
    "df_36_EYE.drop('Row', axis=1, inplace=True)"
   ]
  },
  {
   "cell_type": "markdown",
   "id": "49302cb8",
   "metadata": {},
   "source": [
    "Display the unique values in the `ET_ValidityLeft` column."
   ]
  },
  {
   "cell_type": "code",
   "execution_count": null,
   "id": "085d904a",
   "metadata": {},
   "outputs": [],
   "source": [
    "df_36_EYE['ET_ValidityLeft'].unique()"
   ]
  },
  {
   "cell_type": "markdown",
   "id": "402c26be",
   "metadata": {},
   "source": [
    "Count the occurrences of each unique value in the `ET_ValidityLeft` column."
   ]
  },
  {
   "cell_type": "code",
   "execution_count": null,
   "id": "0674e2d1",
   "metadata": {},
   "outputs": [],
   "source": [
    "df_36_EYE['ET_ValidityLeft'].value_counts()"
   ]
  },
  {
   "cell_type": "markdown",
   "id": "a27e70b8",
   "metadata": {},
   "source": [
    "Display the unique values in the `ET_ValidityRight` column."
   ]
  },
  {
   "cell_type": "code",
   "execution_count": null,
   "id": "78cb710a",
   "metadata": {},
   "outputs": [],
   "source": [
    "df_36_EYE['ET_ValidityRight'].unique()"
   ]
  },
  {
   "cell_type": "markdown",
   "id": "24d62920",
   "metadata": {},
   "source": [
    "Count the occurrences of each unique value in the `ET_ValidityRight` column."
   ]
  },
  {
   "cell_type": "code",
   "execution_count": null,
   "id": "d13d9fc4",
   "metadata": {},
   "outputs": [],
   "source": [
    "df_36_EYE['ET_ValidityRight'].value_counts()"
   ]
  },
  {
   "cell_type": "markdown",
   "id": "ed061b97",
   "metadata": {},
   "source": [
    "Visualize the counts of valid and invalid data for both left and right eyes using bar plots."
   ]
  },
  {
   "cell_type": "code",
   "execution_count": null,
   "id": "f5792c24",
   "metadata": {},
   "outputs": [],
   "source": [
    "plt.figure(figsize=(12, 6))\n",
    "\n",
    "plt.subplot(1, 2, 1)\n",
    "sns.barplot(x=df_36_EYE['ET_ValidityLeft'].value_counts().index, y=df_36_EYE['ET_ValidityLeft'].value_counts().values)\n",
    "plt.title('Count of ET_ValidityLeft')\n",
    "plt.xlabel('Validity')\n",
    "plt.ylabel('Count')\n",
    "\n",
    "\n",
    "plt.subplot(1, 2, 2)\n",
    "sns.barplot(x=df_36_EYE['ET_ValidityRight'].value_counts().index, y=df_36_EYE['ET_ValidityRight'].value_counts().values)\n",
    "plt.title('Count of ET_ValidityRight')\n",
    "plt.xlabel('Validity')\n",
    "plt.ylabel('Count')\n",
    "\n",
    "plt.tight_layout()\n",
    "plt.show()"
   ]
  },
  {
   "cell_type": "markdown",
   "id": "dbc8429e",
   "metadata": {},
   "source": [
    "# Notes & Observations\n",
    "\n",
    "- The `ET_ValidityLeft` and `ET_ValidityRight` columns indicate the validity of the eye-tracking data for the left and right eye, respectively.\n",
    "- Based on the value counts and the bar plots, it appears that a value of `0.0` represents valid eye-tracking data, while a value of `4.0` represents invalid data.\n",
    "- Although the amount of invalid data is relatively small, removing these rows could introduce unwanted patterns or gaps in the time series data.\n",
    "- Therefore, we will keep the data and replace the value `4.0` with `1.0` in both `ET_ValidityLeft` and `ET_ValidityRight` columns. This will indicate to a machine learning model that the eye tracker had invalid data at those specific points in time while maintaining the integrity of the time series."
   ]
  },
  {
   "cell_type": "markdown",
   "id": "902d1ed5",
   "metadata": {},
   "source": [
    "Define a mapping to convert validity values from `0.0` and `4.0` to `0` and `1`."
   ]
  },
  {
   "cell_type": "code",
   "execution_count": null,
   "id": "c79934a7",
   "metadata": {},
   "outputs": [],
   "source": [
    "validity_map = {4.0: 1.0, 0.0: 0.0}"
   ]
  },
  {
   "cell_type": "markdown",
   "id": "efd47e3d",
   "metadata": {},
   "source": [
    "Apply the mapping to the `ET_ValidityLeft` and `ET_ValidityRight` columns and convert the data type to integer."
   ]
  },
  {
   "cell_type": "code",
   "execution_count": null,
   "id": "b2c1d816",
   "metadata": {},
   "outputs": [],
   "source": [
    "df_36_EYE['ET_ValidityLeft'] = df_36_EYE['ET_ValidityLeft'].map(validity_map).astype(np.int8)\n",
    "df_36_EYE['ET_ValidityRight'] = df_36_EYE['ET_ValidityRight'].map(validity_map).astype(np.int8)"
   ]
  },
  {
   "cell_type": "markdown",
   "id": "0571b208",
   "metadata": {},
   "source": [
    "Display the first few rows to see the updated validity columns."
   ]
  },
  {
   "cell_type": "code",
   "execution_count": null,
   "id": "94c46cd4",
   "metadata": {},
   "outputs": [],
   "source": [
    "df_36_EYE.head(3)"
   ]
  },
  {
   "cell_type": "markdown",
   "id": "4c8263e6",
   "metadata": {},
   "source": [
    "Display descriptive statistics for the DataFrame, including count, mean, standard deviation, min, max, and quartiles for numeric columns."
   ]
  },
  {
   "cell_type": "code",
   "execution_count": null,
   "id": "de2497c6",
   "metadata": {},
   "outputs": [],
   "source": [
    "df_36_EYE.describe()"
   ]
  },
  {
   "cell_type": "markdown",
   "id": "41d89e75",
   "metadata": {},
   "source": [
    "Check the number of rows where `ET_ValidityLeft` is 1 (invalid data for the left eye)."
   ]
  },
  {
   "cell_type": "code",
   "execution_count": null,
   "id": "53a19e70",
   "metadata": {},
   "outputs": [],
   "source": [
    "df_36_EYE[df_36_EYE['ET_ValidityLeft'] == 1].shape"
   ]
  },
  {
   "cell_type": "markdown",
   "id": "8d56186b",
   "metadata": {},
   "source": [
    "Check the number of rows where `ET_ValidityRight` is 1 (invalid data for the right eye)."
   ]
  },
  {
   "cell_type": "code",
   "execution_count": null,
   "id": "989a05b2",
   "metadata": {},
   "outputs": [],
   "source": [
    "df_36_EYE[df_36_EYE['ET_ValidityRight'] == 1].shape"
   ]
  },
  {
   "cell_type": "markdown",
   "id": "0905611c",
   "metadata": {},
   "source": [
    "Visualize the distribution of -1 and 1 values across columns using heatmaps. This helps identify columns with placeholder or indicator values."
   ]
  },
  {
   "cell_type": "code",
   "execution_count": null,
   "id": "b03e127b",
   "metadata": {},
   "outputs": [],
   "source": [
    "plt.figure(figsize=(18, 8))\n",
    "\n",
    "plt.subplot(1, 2, 1)\n",
    "sns.heatmap(df_36_EYE == -1, cmap='viridis')\n",
    "plt.title('Heatmap of -1 Values')\n",
    "\n",
    "plt.subplot(1, 2, 2)\n",
    "sns.heatmap(df_36_EYE == 1, cmap='viridis')\n",
    "plt.title('Heatmap of 1 Values')\n",
    "\n",
    "plt.tight_layout()\n",
    "plt.show()"
   ]
  },
  {
   "cell_type": "markdown",
   "id": "e5d23012",
   "metadata": {},
   "source": [
    "Check the number of rows where `ET_PupilLeft` is -1."
   ]
  },
  {
   "cell_type": "code",
   "execution_count": null,
   "id": "eabe133b",
   "metadata": {},
   "outputs": [],
   "source": [
    "df_36_EYE[df_36_EYE['ET_PupilLeft'] == -1].shape"
   ]
  },
  {
   "cell_type": "markdown",
   "id": "b9bd14a6",
   "metadata": {},
   "source": [
    "Check the number of rows where `ET_PupilRight` is -1."
   ]
  },
  {
   "cell_type": "code",
   "execution_count": null,
   "id": "8b284620",
   "metadata": {},
   "outputs": [],
   "source": [
    "df_36_EYE[df_36_EYE['ET_PupilRight'] == -1].shape"
   ]
  },
  {
   "cell_type": "markdown",
   "id": "8bbd87a5",
   "metadata": {},
   "source": [
    "Calculate the ratio of rows with -1 values in the `ET_PupilLeft` column to the total number of rows."
   ]
  },
  {
   "cell_type": "code",
   "execution_count": null,
   "id": "32039148",
   "metadata": {},
   "outputs": [],
   "source": [
    "df_36_EYE[df_36_EYE['ET_PupilLeft'] == -1].shape[0] / df_36_EYE.shape[0]"
   ]
  },
  {
   "cell_type": "markdown",
   "id": "9c0bbf5e",
   "metadata": {},
   "source": [
    "Calculate the ratio of rows with -1 values in the `ET_PupilRight` column to the total number of rows."
   ]
  },
  {
   "cell_type": "code",
   "execution_count": null,
   "id": "98d29f8f",
   "metadata": {},
   "outputs": [],
   "source": [
    "df_36_EYE[df_36_EYE['ET_PupilRight'] == -1].shape[0] / df_36_EYE.shape[0]"
   ]
  },
  {
   "cell_type": "markdown",
   "id": "aaa21ef6",
   "metadata": {},
   "source": [
    "Visualize the distribution of -1 values specifically for rows where validity is 1 (invalid data)."
   ]
  },
  {
   "cell_type": "code",
   "execution_count": null,
   "id": "56ee8023",
   "metadata": {},
   "outputs": [],
   "source": [
    "plt.figure(figsize=(18, 8))\n",
    "\n",
    "plt.subplot(1, 2, 1)\n",
    "sns.heatmap(df_36_EYE[df_36_EYE['ET_ValidityLeft'] == 1] == -1, cmap='viridis')\n",
    "plt.title('Heatmap of -1 Values')\n",
    "\n",
    "plt.subplot(1, 2, 2)\n",
    "sns.heatmap(df_36_EYE[df_36_EYE['ET_ValidityRight'] == 1] == -1, cmap='viridis')\n",
    "plt.title('Heatmap of -1 Values')\n",
    "\n",
    "plt.tight_layout()\n",
    "plt.show()"
   ]
  },
  {
   "cell_type": "markdown",
   "id": "ef66cef0",
   "metadata": {},
   "source": [
    "# Notes & Observations\n",
    "\n",
    "- The heatmaps reveal the distribution of -1 values across different columns.\n",
    "- It is evident that the `-1` values are not randomly scattered but appear in specific columns, notably `ET_GazeLeftx`, `ET_GazeLefty`, `ET_GazeRightx`, `ET_GazeRighty`, `ET_PupilLeft`, `ET_PupilRight`, `ET_DistanceLeft`, `ET_DistanceRight`, `ET_CameraLeftX`, `ET_CameraLeftY`, `ET_CameraRightX`, and `ET_CameraRightY`.\n",
    "- These `-1` values often coincide with instances where `ET_ValidityLeft` or `ET_ValidityRight` is 1, indicating invalid eye-tracking data. This suggests that `-1` is used as a placeholder for missing or invalid measurements in these columns when the eye tracker is not providing valid data for a particular eye.\n",
    "- Given that over 70% of the data in the `ET_PupilLeft` and `ET_PupilRight` columns is marked as invalid (-1), these columns may not be suitable for analysis and could be considered for dropping."
   ]
  },
  {
   "cell_type": "markdown",
   "id": "b7fb9c4a",
   "metadata": {},
   "source": [
    "Drop the `ET_PupilLeft` and `ET_PupilRight` columns due to the high percentage of invalid data."
   ]
  },
  {
   "cell_type": "code",
   "execution_count": null,
   "id": "b124feff",
   "metadata": {},
   "outputs": [],
   "source": [
    "df_36_EYE.drop(['ET_PupilLeft', 'ET_PupilRight'], axis=1, inplace=True)"
   ]
  },
  {
   "cell_type": "markdown",
   "id": "13365f3d",
   "metadata": {},
   "source": [
    "Display the first few rows after dropping the pupil columns."
   ]
  },
  {
   "cell_type": "code",
   "execution_count": null,
   "id": "be937238",
   "metadata": {},
   "outputs": [],
   "source": [
    "df_36_EYE.head()"
   ]
  },
  {
   "cell_type": "markdown",
   "id": "63956a06",
   "metadata": {},
   "source": [
    "Visualize the distribution of -1 and 1 values again after dropping the pupil columns."
   ]
  },
  {
   "cell_type": "code",
   "execution_count": null,
   "id": "690d579c",
   "metadata": {},
   "outputs": [],
   "source": [
    "plt.figure(figsize=(18, 8))\n",
    "\n",
    "plt.subplot(1, 2, 1)\n",
    "sns.heatmap(df_36_EYE == -1, cmap='viridis')\n",
    "plt.title('Heatmap of -1 Values')\n",
    "\n",
    "plt.subplot(1, 2, 2)\n",
    "sns.heatmap(df_36_EYE == 1, cmap='viridis')\n",
    "plt.title('Heatmap of -1 Values')\n",
    "\n",
    "plt.tight_layout()\n",
    "plt.show()"
   ]
  },
  {
   "cell_type": "markdown",
   "id": "99298a8d",
   "metadata": {},
   "source": [
    "Calculate the ratio of valid data points for the left eye."
   ]
  },
  {
   "cell_type": "code",
   "execution_count": null,
   "id": "15c81ddb",
   "metadata": {},
   "outputs": [],
   "source": [
    "valid_left_ratio  = 1 - df_36_EYE['ET_ValidityLeft'].mean()"
   ]
  },
  {
   "cell_type": "markdown",
   "id": "2e25ac13",
   "metadata": {},
   "source": [
    "Display the ratio of valid data points for the left eye."
   ]
  },
  {
   "cell_type": "code",
   "execution_count": null,
   "id": "aeddd018",
   "metadata": {},
   "outputs": [],
   "source": [
    "valid_left_ratio"
   ]
  },
  {
   "cell_type": "markdown",
   "id": "718fde9e",
   "metadata": {},
   "source": [
    "Calculate the ratio of valid data points for the right eye."
   ]
  },
  {
   "cell_type": "code",
   "execution_count": null,
   "id": "b09983ca",
   "metadata": {},
   "outputs": [],
   "source": [
    "valid_right_ratio = 1 - df_36_EYE['ET_ValidityRight'].mean()"
   ]
  },
  {
   "cell_type": "markdown",
   "id": "6f1ddc30",
   "metadata": {},
   "source": [
    "Display the ratio of valid data points for the right eye."
   ]
  },
  {
   "cell_type": "code",
   "execution_count": null,
   "id": "77afb83c",
   "metadata": {},
   "outputs": [],
   "source": [
    "valid_right_ratio"
   ]
  },
  {
   "cell_type": "markdown",
   "id": "0e4f5ac7",
   "metadata": {},
   "source": [
    "Display the first few rows of the DataFrame."
   ]
  },
  {
   "cell_type": "code",
   "execution_count": null,
   "id": "1ecc1ff5",
   "metadata": {},
   "outputs": [],
   "source": [
    "df_36_EYE.head()"
   ]
  },
  {
   "cell_type": "markdown",
   "id": "dbc6cc42",
   "metadata": {},
   "source": [
    "Visualize the distributions of numeric columns using histograms with Kernel Density Estimate (KDE) plots. This helps understand the shape and spread of the data in each numeric column."
   ]
  },
  {
   "cell_type": "code",
   "execution_count": null,
   "id": "92824ebe",
   "metadata": {},
   "outputs": [],
   "source": [
    "# Select only the numeric columns for plotting histograms, excluding time-related columns\n",
    "numeric_cols = df_36_EYE.select_dtypes(include=np.number).columns\n",
    "cols_to_plot = [col for col in numeric_cols if col not in ['UnixTime']]\n",
    "\n",
    "# Calculate the number of rows and columns for the grid\n",
    "n_cols = 4  # You can adjust the number of columns as needed\n",
    "n_rows = (len(cols_to_plot) + n_cols - 1) // n_cols\n",
    "\n",
    "plt.figure(figsize=(n_cols * 5, n_rows * 4)) # Adjust figure size as needed\n",
    "\n",
    "for i, col in enumerate(cols_to_plot):\n",
    "    plt.subplot(n_rows, n_cols, i + 1)\n",
    "    sns.histplot(df_36_EYE[col], kde=True)\n",
    "    plt.title(f'Distribution of {col}')\n",
    "    plt.xlabel(col)\n",
    "    plt.ylabel('Frequency')\n",
    "\n",
    "plt.tight_layout()\n",
    "plt.show()"
   ]
  },
  {
   "cell_type": "markdown",
   "id": "0fafa9f9",
   "metadata": {},
   "source": [
    "List the names of the columns in the DataFrame."
   ]
  },
  {
   "cell_type": "code",
   "execution_count": null,
   "id": "2ba39cc9",
   "metadata": {},
   "outputs": [],
   "source": [
    "df_36_EYE.columns"
   ]
  },
  {
   "cell_type": "markdown",
   "id": "dab436ca",
   "metadata": {},
   "source": [
    "Define a list of columns to be plotted over time."
   ]
  },
  {
   "cell_type": "code",
   "execution_count": null,
   "id": "0c1d4dd9",
   "metadata": {},
   "outputs": [],
   "source": [
    "cols = ['ET_GazeLeftx', 'ET_GazeLefty',\n",
    "       'ET_GazeRightx', 'ET_GazeRighty', 'ET_TimeSignal', 'ET_DistanceLeft',\n",
    "       'ET_DistanceRight', 'ET_CameraLeftX', 'ET_CameraLeftY',\n",
    "       'ET_CameraRightX', 'ET_CameraRightY', 'ET_ValidityLeft',\n",
    "       'ET_ValidityRight']"
   ]
  },
  {
   "cell_type": "markdown",
   "id": "84069775",
   "metadata": {},
   "source": [
    "Plot each of the selected columns against the timestamp to visualize their trends and patterns over time. Markdown cells are added before each plot for better readability."
   ]
  },
  {
   "cell_type": "code",
   "execution_count": null,
   "id": "6c6580da",
   "metadata": {},
   "outputs": [],
   "source": [
    "from IPython.display import display, Markdown\n",
    "\n",
    "for col in cols:\n",
    "    # Add a markdown cell before each plot for better separation and labeling\n",
    "    display(Markdown(f'### {col} over Time'))\n",
    "    plt.figure(figsize=(16, 10))\n",
    "    plt.plot(df_36_EYE['Timestamp'], df_36_EYE[col])\n",
    "    plt.xlabel(\"Timestamp\") # Add x-axis label\n",
    "    plt.ylabel(col) # Add y-axis label\n",
    "    plt.show()"
   ]
  },
  {
   "cell_type": "markdown",
   "id": "8dff0c8a",
   "metadata": {},
   "source": [
    "Visualize the distributions of numeric columns using boxplots. This helps identify potential outliers and the spread of the data."
   ]
  },
  {
   "cell_type": "code",
   "execution_count": null,
   "id": "622f2378",
   "metadata": {},
   "outputs": [],
   "source": [
    "# Select only the numeric columns for plotting histograms, excluding time-related columns\n",
    "numeric_cols = df_36_EYE.select_dtypes(include=np.number).columns\n",
    "\n",
    "# Calculate the number of rows and columns for the grid\n",
    "n_cols = 4  # You can adjust the number of columns as needed\n",
    "n_rows = (len(numeric_cols) + n_cols - 1) // n_cols\n",
    "\n",
    "plt.figure(figsize=(n_cols * 5, n_rows * 4)) # Adjust figure size as needed\n",
    "\n",
    "for i, col in enumerate(numeric_cols):\n",
    "    plt.subplot(n_rows, n_cols, i + 1)\n",
    "    sns.boxplot(df_36_EYE[col])\n",
    "    plt.title(f'Boxplot of {col}')\n",
    "    plt.xlabel(col)\n",
    "\n",
    "plt.tight_layout()\n",
    "plt.show()"
   ]
  },
  {
   "cell_type": "markdown",
   "id": "bfa05b43",
   "metadata": {},
   "source": [
    "Replace the placeholder value -1 with NaN (Not a Number) in the DataFrame. This is done before imputation."
   ]
  },
  {
   "cell_type": "code",
   "execution_count": null,
   "id": "5b768c32",
   "metadata": {},
   "outputs": [],
   "source": [
    "df_36_EYE.replace({-1: np.nan}, inplace=True)"
   ]
  },
  {
   "cell_type": "markdown",
   "id": "1dbe4b19",
   "metadata": {},
   "source": [
    "Impute the missing values (NaN) in the numeric columns with the mean of each column."
   ]
  },
  {
   "cell_type": "code",
   "execution_count": null,
   "id": "18b25eb5",
   "metadata": {},
   "outputs": [],
   "source": [
    "numeric_cols = df_36_EYE.select_dtypes(include=np.number).columns\n",
    "\n",
    "for col in numeric_cols:\n",
    "    df_36_EYE[col].fillna(df_36_EYE[col].mean(), inplace=True)"
   ]
  },
  {
   "cell_type": "markdown",
   "id": "7a257f19",
   "metadata": {},
   "source": [
    "Display the first few rows after imputing missing values."
   ]
  },
  {
   "cell_type": "code",
   "execution_count": null,
   "id": "f1eda611",
   "metadata": {},
   "outputs": [],
   "source": [
    "df_36_EYE.head()"
   ]
  },
  {
   "cell_type": "markdown",
   "id": "328a80cf",
   "metadata": {},
   "source": [
    "Visualize the distributions of numeric columns again using histograms with KDE plots after imputation. This helps assess the impact of imputation on the data distributions."
   ]
  },
  {
   "cell_type": "code",
   "execution_count": null,
   "id": "7cf40219",
   "metadata": {},
   "outputs": [],
   "source": [
    "# Select only the numeric columns for plotting histograms, excluding time-related columns\n",
    "numeric_cols = df_36_EYE.select_dtypes(include=np.number).columns\n",
    "cols_to_plot = [col for col in numeric_cols if col not in ['UnixTime']]\n",
    "\n",
    "# Calculate the number of rows and columns for the grid\n",
    "n_cols = 4  # You can adjust the number of columns as needed\n",
    "n_rows = (len(cols_to_plot) + n_cols - 1) // n_cols\n",
    "\n",
    "plt.figure(figsize=(n_cols * 5, n_rows * 4)) # Adjust figure size as needed\n",
    "\n",
    "for i, col in enumerate(cols_to_plot):\n",
    "    plt.subplot(n_rows, n_cols, i + 1)\n",
    "    sns.histplot(df_36_EYE[col], kde=True)\n",
    "    plt.title(f'Distribution of {col}')\n",
    "    plt.xlabel(col)\n",
    "    plt.ylabel('Frequency')\n",
    "\n",
    "plt.tight_layout()\n",
    "plt.show()"
   ]
  },
  {
   "cell_type": "code",
   "execution_count": null,
   "id": "6b38e146",
   "metadata": {},
   "outputs": [],
   "source": []
  },
  {
   "cell_type": "markdown",
   "id": "03736f1c",
   "metadata": {},
   "source": [
    "## Student 37"
   ]
  },
  {
   "cell_type": "code",
   "execution_count": null,
   "id": "eeccd46a",
   "metadata": {},
   "outputs": [],
   "source": [
    "%load_ext cudf"
   ]
  },
  {
   "cell_type": "code",
   "execution_count": null,
   "id": "1bfe600d",
   "metadata": {},
   "outputs": [],
   "source": [
    "import numpy as np\n",
    "import pandas as pd\n",
    "import matplotlib.pyplot as plt\n",
    "import seaborn as sns"
   ]
  },
  {
   "cell_type": "code",
   "execution_count": null,
   "id": "d48af40e",
   "metadata": {},
   "outputs": [],
   "source": [
    "import datashader as ds\n",
    "import datashader.transfer_functions as tf"
   ]
  },
  {
   "cell_type": "code",
   "execution_count": null,
   "id": "0ef389b2",
   "metadata": {},
   "outputs": [],
   "source": [
    "pd.set_option('display.max_columns', None)"
   ]
  },
  {
   "cell_type": "code",
   "execution_count": null,
   "id": "4bd4324e",
   "metadata": {},
   "outputs": [],
   "source": [
    "df_37_EYE = pd.read_csv('data/STData/37/37_EYE.csv')"
   ]
  },
  {
   "cell_type": "code",
   "execution_count": null,
   "id": "aa54b2f0",
   "metadata": {},
   "outputs": [],
   "source": [
    "df_37_EYE.head()"
   ]
  },
  {
   "cell_type": "code",
   "execution_count": null,
   "id": "60efd42d",
   "metadata": {},
   "outputs": [],
   "source": [
    "df_37_EYE.shape"
   ]
  },
  {
   "cell_type": "code",
   "execution_count": null,
   "id": "3736ee2c",
   "metadata": {},
   "outputs": [],
   "source": [
    "df_37_EYE.columns"
   ]
  },
  {
   "cell_type": "code",
   "execution_count": null,
   "id": "9c5d3d0f",
   "metadata": {},
   "outputs": [],
   "source": [
    "df_37_EYE.info()"
   ]
  },
  {
   "cell_type": "code",
   "execution_count": null,
   "id": "bb70a48f",
   "metadata": {},
   "outputs": [],
   "source": [
    "df_37_EYE.isnull().sum()"
   ]
  },
  {
   "cell_type": "code",
   "execution_count": null,
   "id": "fc48c17b",
   "metadata": {},
   "outputs": [],
   "source": [
    "plt.figure(figsize=(12,8))\n",
    "sns.heatmap(df_37_EYE.isnull(), cmap='viridis')\n",
    "plt.show()"
   ]
  },
  {
   "cell_type": "markdown",
   "id": "2bf42a51",
   "metadata": {},
   "source": [
    "# Notes & Observations\n",
    "\n",
    "- We observe many **null** (or missing) values in the `QuestionKey` columns.  \n",
    "- The nulls in the `QuestionKey` column may not represent “true” nulls. Rather, they follow interval patterns, suggesting that during those periods no question was displayed.  \n",
    "- These missing values in `QuestionKey` require additional investigation and context-aware handling.  "
   ]
  },
  {
   "cell_type": "code",
   "execution_count": null,
   "id": "6f8d4697",
   "metadata": {},
   "outputs": [],
   "source": [
    "df_37_EYE['QuestionKey'].unique()"
   ]
  },
  {
   "cell_type": "code",
   "execution_count": null,
   "id": "8ef3095d",
   "metadata": {},
   "outputs": [],
   "source": [
    "df_37_EYE['Timestamp'] = pd.to_datetime(df_37_EYE['Timestamp'])"
   ]
  },
  {
   "cell_type": "code",
   "execution_count": null,
   "id": "0febadb0",
   "metadata": {},
   "outputs": [],
   "source": [
    "df_37_EYE.head(3)"
   ]
  },
  {
   "cell_type": "code",
   "execution_count": null,
   "id": "69e2f066",
   "metadata": {},
   "outputs": [],
   "source": [
    "df_37_EYE['QuestionKey'].fillna('None', inplace=True)"
   ]
  },
  {
   "cell_type": "code",
   "execution_count": null,
   "id": "c7d27192",
   "metadata": {},
   "outputs": [],
   "source": [
    "df_37_EYE['QuestionKey'].value_counts()"
   ]
  },
  {
   "cell_type": "code",
   "execution_count": null,
   "id": "1659f3e8",
   "metadata": {},
   "outputs": [],
   "source": [
    "plt.figure(figsize=(12,8))\n",
    "sns.heatmap(df_37_EYE.isnull(), cmap='viridis')\n",
    "plt.show()"
   ]
  },
  {
   "cell_type": "code",
   "execution_count": null,
   "id": "636e1e6c",
   "metadata": {},
   "outputs": [],
   "source": [
    "df_37_EYE.isnull().sum()"
   ]
  },
  {
   "cell_type": "code",
   "execution_count": null,
   "id": "c09dd59d",
   "metadata": {},
   "outputs": [],
   "source": [
    "df_37_EYE.dropna(inplace=True)"
   ]
  },
  {
   "cell_type": "code",
   "execution_count": null,
   "id": "a2d6a551",
   "metadata": {},
   "outputs": [],
   "source": [
    "df_37_EYE.head()"
   ]
  },
  {
   "cell_type": "code",
   "execution_count": null,
   "id": "b9996ae3",
   "metadata": {},
   "outputs": [],
   "source": [
    "df_37_EYE['Row'].unique()"
   ]
  },
  {
   "cell_type": "code",
   "execution_count": null,
   "id": "e62110d9",
   "metadata": {},
   "outputs": [],
   "source": [
    "plt.figure(figsize=(8,6))\n",
    "sns.histplot(df_37_EYE['Row'])\n",
    "plt.show()"
   ]
  },
  {
   "cell_type": "markdown",
   "id": "3b1c7a9f",
   "metadata": {},
   "source": [
    "# Notes & Observations\n",
    "\n",
    "- The `Row` column appears to be a simple row index and does not provide meaningful information relevant to the eye-tracking data itself. Therefore, it can be dropped."
   ]
  },
  {
   "cell_type": "code",
   "execution_count": null,
   "id": "2fe5b6f9",
   "metadata": {},
   "outputs": [],
   "source": [
    "df_37_EYE.drop('Row', axis=1, inplace=True)"
   ]
  },
  {
   "cell_type": "code",
   "execution_count": null,
   "id": "b634b72a",
   "metadata": {},
   "outputs": [],
   "source": [
    "df_37_EYE['ET_ValidityLeft'].unique()"
   ]
  },
  {
   "cell_type": "code",
   "execution_count": null,
   "id": "e2f4adb8",
   "metadata": {},
   "outputs": [],
   "source": [
    "df_37_EYE['ET_ValidityLeft'].value_counts()"
   ]
  },
  {
   "cell_type": "code",
   "execution_count": null,
   "id": "92d7cbd4",
   "metadata": {},
   "outputs": [],
   "source": [
    "df_37_EYE['ET_ValidityRight'].unique()"
   ]
  },
  {
   "cell_type": "code",
   "execution_count": null,
   "id": "20eb457e",
   "metadata": {},
   "outputs": [],
   "source": [
    "df_37_EYE['ET_ValidityRight'].value_counts()"
   ]
  },
  {
   "cell_type": "code",
   "execution_count": null,
   "id": "ca1d0452",
   "metadata": {},
   "outputs": [],
   "source": [
    "plt.figure(figsize=(12, 6))\n",
    "\n",
    "plt.subplot(1, 2, 1)\n",
    "sns.barplot(x=df_37_EYE['ET_ValidityLeft'].value_counts().index, y=df_37_EYE['ET_ValidityLeft'].value_counts().values)\n",
    "plt.title('Count of ET_ValidityLeft')\n",
    "plt.xlabel('Validity')\n",
    "plt.ylabel('Count')\n",
    "\n",
    "\n",
    "plt.subplot(1, 2, 2)\n",
    "sns.barplot(x=df_37_EYE['ET_ValidityRight'].value_counts().index, y=df_37_EYE['ET_ValidityRight'].value_counts().values)\n",
    "plt.title('Count of ET_ValidityRight')\n",
    "plt.xlabel('Validity')\n",
    "plt.ylabel('Count')\n",
    "\n",
    "plt.tight_layout()\n",
    "plt.show()"
   ]
  },
  {
   "cell_type": "markdown",
   "id": "f3c45764",
   "metadata": {},
   "source": [
    "# Notes & Observations\n",
    "\n",
    "- The `ET_ValidityLeft` and `ET_ValidityRight` columns indicate the validity of the eye-tracking data for the left and right eye, respectively.\n",
    "- Based on the value counts and the bar plots, it appears that a value of `0.0` represents valid eye-tracking data, while a value of `4.0` represents invalid data.\n",
    "- Although the amount of invalid data is relatively small, removing these rows could introduce unwanted patterns or gaps in the time series data.\n",
    "- Therefore, we will keep the data and replace the value `4.0` with `1.0` in both `ET_ValidityLeft` and `ET_ValidityRight` columns. This will indicate to a machine learning model that the eye tracker had invalid data at those specific points in time while maintaining the integrity of the time series."
   ]
  },
  {
   "cell_type": "code",
   "execution_count": null,
   "id": "109cf501",
   "metadata": {},
   "outputs": [],
   "source": [
    "validity_map = {4.0: 1.0, 0.0: 0.0}"
   ]
  },
  {
   "cell_type": "code",
   "execution_count": null,
   "id": "5b438b47",
   "metadata": {},
   "outputs": [],
   "source": [
    "df_37_EYE['ET_ValidityLeft'] = df_37_EYE['ET_ValidityLeft'].map(validity_map).astype(np.int8)\n",
    "df_37_EYE['ET_ValidityRight'] = df_37_EYE['ET_ValidityRight'].map(validity_map).astype(np.int8)"
   ]
  },
  {
   "cell_type": "code",
   "execution_count": null,
   "id": "d743c08e",
   "metadata": {},
   "outputs": [],
   "source": [
    "df_37_EYE.head(3)"
   ]
  },
  {
   "cell_type": "code",
   "execution_count": null,
   "id": "865c83e5",
   "metadata": {},
   "outputs": [],
   "source": [
    "df_37_EYE.describe()"
   ]
  },
  {
   "cell_type": "code",
   "execution_count": null,
   "id": "e401277a",
   "metadata": {},
   "outputs": [],
   "source": [
    "df_37_EYE[df_37_EYE['ET_ValidityLeft'] == 1].shape"
   ]
  },
  {
   "cell_type": "code",
   "execution_count": null,
   "id": "2993efbf",
   "metadata": {},
   "outputs": [],
   "source": [
    "df_37_EYE[df_37_EYE['ET_ValidityRight'] == 1].shape"
   ]
  },
  {
   "cell_type": "code",
   "execution_count": null,
   "id": "e492c684",
   "metadata": {},
   "outputs": [],
   "source": [
    "plt.figure(figsize=(18, 8))\n",
    "\n",
    "plt.subplot(1, 2, 1)\n",
    "sns.heatmap(df_37_EYE == -1, cmap='viridis')\n",
    "plt.title('Heatmap of -1 Values')\n",
    "\n",
    "plt.subplot(1, 2, 2)\n",
    "sns.heatmap(df_37_EYE == 1, cmap='viridis')\n",
    "plt.title('Heatmap of 1 Values')\n",
    "\n",
    "plt.tight_layout()\n",
    "plt.show()"
   ]
  },
  {
   "cell_type": "code",
   "execution_count": null,
   "id": "6493f060",
   "metadata": {},
   "outputs": [],
   "source": [
    "df_37_EYE[df_37_EYE['ET_PupilLeft'] == -1].shape"
   ]
  },
  {
   "cell_type": "code",
   "execution_count": null,
   "id": "f74e998c",
   "metadata": {},
   "outputs": [],
   "source": [
    "df_37_EYE[df_37_EYE['ET_PupilRight'] == -1].shape"
   ]
  },
  {
   "cell_type": "code",
   "execution_count": null,
   "id": "fb6aca02",
   "metadata": {},
   "outputs": [],
   "source": [
    "df_37_EYE[df_37_EYE['ET_PupilLeft'] == -1].shape[0] / df_37_EYE.shape[0]"
   ]
  },
  {
   "cell_type": "code",
   "execution_count": null,
   "id": "75c74b8c",
   "metadata": {},
   "outputs": [],
   "source": [
    "df_37_EYE[df_37_EYE['ET_PupilRight'] == -1].shape[0] / df_37_EYE.shape[0]"
   ]
  },
  {
   "cell_type": "code",
   "execution_count": null,
   "id": "3854c4c1",
   "metadata": {},
   "outputs": [],
   "source": [
    "plt.figure(figsize=(18, 8))\n",
    "\n",
    "plt.subplot(1, 2, 1)\n",
    "sns.heatmap(df_37_EYE[df_37_EYE['ET_ValidityLeft'] == 1] == -1, cmap='viridis')\n",
    "plt.title('Heatmap of -1 Values')\n",
    "\n",
    "plt.subplot(1, 2, 2)\n",
    "sns.heatmap(df_37_EYE[df_37_EYE['ET_ValidityRight'] == 1] == -1, cmap='viridis')\n",
    "plt.title('Heatmap of -1 Values')\n",
    "\n",
    "plt.tight_layout()\n",
    "plt.show()"
   ]
  },
  {
   "cell_type": "markdown",
   "id": "4fc34a9d",
   "metadata": {},
   "source": [
    "# Notes & Observations\n",
    "\n",
    "- The heatmaps reveal the distribution of -1 values across different columns.\n",
    "- It is evident that the `-1` values are not randomly scattered but appear in specific columns, notably `ET_GazeLeftx`, `ET_GazeLefty`, `ET_GazeRightx`, `ET_GazeRighty`, `ET_PupilLeft`, `ET_PupilRight`, `ET_DistanceLeft`, `ET_DistanceRight`, `ET_CameraLeftX`, `ET_CameraLeftY`, `ET_CameraRightX`, and `ET_CameraRightY`.\n",
    "- These `-1` values often coincide with instances where `ET_ValidityLeft` or `ET_ValidityRight` is 1, indicating invalid eye-tracking data. This suggests that `-1` is used as a placeholder for missing or invalid measurements in these columns when the eye tracker is not providing valid data for a particular eye.\n",
    "- Given that over 70% of the data in the `ET_PupilLeft` and `ET_PupilRight` columns is marked as invalid (-1), these columns may not be suitable for analysis and could be considered for dropping."
   ]
  },
  {
   "cell_type": "code",
   "execution_count": null,
   "id": "2b60dd91",
   "metadata": {},
   "outputs": [],
   "source": [
    "df_37_EYE.drop(['ET_PupilLeft', 'ET_PupilRight'], axis=1, inplace=True)"
   ]
  },
  {
   "cell_type": "code",
   "execution_count": null,
   "id": "a5fe40db",
   "metadata": {},
   "outputs": [],
   "source": [
    "df_37_EYE.head()"
   ]
  },
  {
   "cell_type": "code",
   "execution_count": null,
   "id": "378a75f0",
   "metadata": {},
   "outputs": [],
   "source": [
    "plt.figure(figsize=(18, 8))\n",
    "\n",
    "plt.subplot(1, 2, 1)\n",
    "sns.heatmap(df_37_EYE == -1, cmap='viridis')\n",
    "plt.title('Heatmap of -1 Values')\n",
    "\n",
    "plt.subplot(1, 2, 2)\n",
    "sns.heatmap(df_37_EYE == 1, cmap='viridis')\n",
    "plt.title('Heatmap of -1 Values')\n",
    "\n",
    "plt.tight_layout()\n",
    "plt.show()"
   ]
  },
  {
   "cell_type": "code",
   "execution_count": null,
   "id": "321dfe74",
   "metadata": {},
   "outputs": [],
   "source": [
    "valid_left_ratio  = 1 - df_37_EYE['ET_ValidityLeft'].mean()\n",
    "valid_right_ratio = 1 - df_37_EYE['ET_ValidityRight'].mean()"
   ]
  },
  {
   "cell_type": "code",
   "execution_count": null,
   "id": "abf42fef",
   "metadata": {},
   "outputs": [],
   "source": [
    "valid_left_ratio"
   ]
  },
  {
   "cell_type": "code",
   "execution_count": null,
   "id": "e462995d",
   "metadata": {},
   "outputs": [],
   "source": [
    "valid_right_ratio"
   ]
  },
  {
   "cell_type": "code",
   "execution_count": null,
   "id": "e20de93e",
   "metadata": {},
   "outputs": [],
   "source": [
    "df_37_EYE.head()"
   ]
  },
  {
   "cell_type": "code",
   "execution_count": null,
   "id": "fd01cb78",
   "metadata": {},
   "outputs": [],
   "source": [
    "# Select only the numeric columns for plotting histograms, excluding time-related columns\n",
    "numeric_cols = df_37_EYE.select_dtypes(include=np.number).columns\n",
    "cols_to_plot = [col for col in numeric_cols if col not in ['UnixTime']]\n",
    "\n",
    "# Calculate the number of rows and columns for the grid\n",
    "n_cols = 4  # You can adjust the number of columns as needed\n",
    "n_rows = (len(cols_to_plot) + n_cols - 1) // n_cols\n",
    "\n",
    "plt.figure(figsize=(n_cols * 5, n_rows * 4)) # Adjust figure size as needed\n",
    "\n",
    "for i, col in enumerate(cols_to_plot):\n",
    "    plt.subplot(n_rows, n_cols, i + 1)\n",
    "    sns.histplot(df_37_EYE[col], kde=True)\n",
    "    plt.title(f'Distribution of {col}')\n",
    "    plt.xlabel(col)\n",
    "    plt.ylabel('Frequency')\n",
    "\n",
    "plt.tight_layout()\n",
    "plt.show()"
   ]
  },
  {
   "cell_type": "code",
   "execution_count": null,
   "id": "f13f56ba",
   "metadata": {},
   "outputs": [],
   "source": [
    "df_37_EYE.columns"
   ]
  },
  {
   "cell_type": "code",
   "execution_count": null,
   "id": "14a0dcc8",
   "metadata": {},
   "outputs": [],
   "source": [
    "cols = ['ET_GazeLeftx', 'ET_GazeLefty',\n",
    "       'ET_GazeRightx', 'ET_GazeRighty', 'ET_TimeSignal', 'ET_DistanceLeft',\n",
    "       'ET_DistanceRight', 'ET_CameraLeftX', 'ET_CameraLeftY',\n",
    "       'ET_CameraRightX', 'ET_CameraRightY', 'ET_ValidityLeft',\n",
    "       'ET_ValidityRight']"
   ]
  },
  {
   "cell_type": "code",
   "execution_count": null,
   "id": "d53e3445",
   "metadata": {},
   "outputs": [],
   "source": [
    "from IPython.display import display, Markdown\n",
    "\n",
    "for col in cols:\n",
    "    # Add a markdown cell before each plot for better separation and labeling\n",
    "    display(Markdown(f'### {col} over Time'))\n",
    "    plt.figure(figsize=(16, 10))\n",
    "    plt.plot(df_37_EYE['Timestamp'], df_37_EYE[col])\n",
    "    plt.xlabel(\"Timestamp\") # Add x-axis label\n",
    "    plt.ylabel(col) # Add y-axis label\n",
    "    plt.show()"
   ]
  },
  {
   "cell_type": "code",
   "execution_count": null,
   "id": "745d3699",
   "metadata": {},
   "outputs": [],
   "source": [
    "# Select only the numeric columns for plotting histograms, excluding time-related columns\n",
    "numeric_cols = df_37_EYE.select_dtypes(include=np.number).columns\n",
    "\n",
    "# Calculate the number of rows and columns for the grid\n",
    "n_cols = 4  # You can adjust the number of columns as needed\n",
    "n_rows = (len(numeric_cols) + n_cols - 1) // n_cols\n",
    "\n",
    "plt.figure(figsize=(n_cols * 5, n_rows * 4)) # Adjust figure size as needed\n",
    "\n",
    "for i, col in enumerate(numeric_cols):\n",
    "    plt.subplot(n_rows, n_cols, i + 1)\n",
    "    sns.boxplot(df_37_EYE[col])\n",
    "    plt.title(f'Boxplot of {col}')\n",
    "    plt.xlabel(col)\n",
    "\n",
    "plt.tight_layout()\n",
    "plt.show()"
   ]
  },
  {
   "cell_type": "code",
   "execution_count": null,
   "id": "73af4b91",
   "metadata": {},
   "outputs": [],
   "source": [
    "df_37_EYE.replace({-1: np.nan}, inplace=True)"
   ]
  },
  {
   "cell_type": "code",
   "execution_count": null,
   "id": "da9386e9",
   "metadata": {},
   "outputs": [],
   "source": [
    "numeric_cols = df_37_EYE.select_dtypes(include=np.number).columns\n",
    "\n",
    "for col in numeric_cols:\n",
    "    df_37_EYE[col].fillna(df_37_EYE[col].mean(), inplace=True)"
   ]
  },
  {
   "cell_type": "code",
   "execution_count": null,
   "id": "659da2ae",
   "metadata": {},
   "outputs": [],
   "source": [
    "df_37_EYE.head()"
   ]
  },
  {
   "cell_type": "code",
   "execution_count": null,
   "id": "55b28c0a",
   "metadata": {},
   "outputs": [],
   "source": [
    "# Select only the numeric columns for plotting histograms, excluding time-related columns\n",
    "numeric_cols = df_37_EYE.select_dtypes(include=np.number).columns\n",
    "cols_to_plot = [col for col in numeric_cols if col not in ['UnixTime']]\n",
    "\n",
    "# Calculate the number of rows and columns for the grid\n",
    "n_cols = 4  # You can adjust the number of columns as needed\n",
    "n_rows = (len(cols_to_plot) + n_cols - 1) // n_cols\n",
    "\n",
    "plt.figure(figsize=(n_cols * 5, n_rows * 4)) # Adjust figure size as needed\n",
    "\n",
    "for i, col in enumerate(cols_to_plot):\n",
    "    plt.subplot(n_rows, n_cols, i + 1)\n",
    "    sns.histplot(df_37_EYE[col], kde=True)\n",
    "    plt.title(f'Distribution of {col}')\n",
    "    plt.xlabel(col)\n",
    "    plt.ylabel('Frequency')\n",
    "\n",
    "plt.tight_layout()\n",
    "plt.show()"
   ]
  },
  {
   "cell_type": "code",
   "execution_count": null,
   "id": "fcb8fbc4",
   "metadata": {},
   "outputs": [],
   "source": []
  },
  {
   "cell_type": "code",
   "execution_count": null,
   "id": "3e176865",
   "metadata": {},
   "outputs": [],
   "source": []
  },
  {
   "cell_type": "code",
   "execution_count": null,
   "id": "8b2f6aac",
   "metadata": {},
   "outputs": [],
   "source": []
  },
  {
   "cell_type": "code",
   "execution_count": null,
   "id": "8ee59ea7",
   "metadata": {},
   "outputs": [],
   "source": []
  },
  {
   "cell_type": "code",
   "execution_count": null,
   "id": "f6a8ce24",
   "metadata": {},
   "outputs": [],
   "source": []
  },
  {
   "cell_type": "code",
   "execution_count": null,
   "id": "4ac5f1e2",
   "metadata": {},
   "outputs": [],
   "source": []
  },
  {
   "cell_type": "code",
   "execution_count": null,
   "id": "0a6dbc01",
   "metadata": {},
   "outputs": [],
   "source": []
  },
  {
   "cell_type": "code",
   "execution_count": null,
   "id": "72d966e3",
   "metadata": {},
   "outputs": [],
   "source": []
  },
  {
   "cell_type": "code",
   "execution_count": null,
   "id": "7f9767d0",
   "metadata": {},
   "outputs": [],
   "source": []
  },
  {
   "cell_type": "code",
   "execution_count": null,
   "id": "feb8c9fe",
   "metadata": {},
   "outputs": [],
   "source": []
  },
  {
   "cell_type": "code",
   "execution_count": null,
   "id": "e50f5e8f",
   "metadata": {},
   "outputs": [],
   "source": []
  },
  {
   "cell_type": "code",
   "execution_count": null,
   "id": "d13c10ec",
   "metadata": {},
   "outputs": [],
   "source": []
  },
  {
   "cell_type": "markdown",
   "id": "fb0dc674",
   "metadata": {},
   "source": [
    "# Eye Tracking Data Analysis\n",
    "\n",
    "This notebook performs exploratory data analysis and cleaning on eye-tracking data.\n",
    "\n",
    "## Data Loading and Initial Inspection"
   ]
  },
  {
   "cell_type": "code",
   "execution_count": null,
   "id": "33aab258",
   "metadata": {},
   "outputs": [],
   "source": [
    "%load_ext cudf"
   ]
  },
  {
   "cell_type": "markdown",
   "id": "bb4e7263",
   "metadata": {},
   "source": [
    "Import necessary libraries for data manipulation, analysis, and visualization."
   ]
  },
  {
   "cell_type": "code",
   "execution_count": null,
   "id": "0848d3fe",
   "metadata": {},
   "outputs": [],
   "source": [
    "import numpy as np\n",
    "import pandas as pd\n",
    "import matplotlib.pyplot as plt\n",
    "import seaborn as sns"
   ]
  },
  {
   "cell_type": "markdown",
   "id": "e51569c8",
   "metadata": {},
   "source": [
    "Import libraries for datashader, which can be used for visualizing large datasets."
   ]
  },
  {
   "cell_type": "code",
   "execution_count": null,
   "id": "eb95ee3d",
   "metadata": {},
   "outputs": [],
   "source": [
    "import datashader as ds\n",
    "import datashader.transfer_functions as tf"
   ]
  },
  {
   "cell_type": "markdown",
   "id": "1d5df750",
   "metadata": {},
   "source": [
    "Set pandas display options to show all columns."
   ]
  },
  {
   "cell_type": "code",
   "execution_count": null,
   "id": "b40251c4",
   "metadata": {},
   "outputs": [],
   "source": [
    "pd.set_option('display.max_columns', None)"
   ]
  },
  {
   "cell_type": "markdown",
   "id": "b0568977",
   "metadata": {},
   "source": [
    "Load the eye-tracking data from the specified CSV file into a pandas DataFrame."
   ]
  },
  {
   "cell_type": "code",
   "execution_count": null,
   "id": "b92cc488",
   "metadata": {},
   "outputs": [],
   "source": [
    "df_37_EYE = pd.read_csv('data/STData/37/37_EYE.csv')"
   ]
  },
  {
   "cell_type": "markdown",
   "id": "33a015cf",
   "metadata": {},
   "source": [
    "Display the first few rows of the DataFrame to get an initial look at the data structure and content."
   ]
  },
  {
   "cell_type": "code",
   "execution_count": null,
   "id": "0a959fb1",
   "metadata": {},
   "outputs": [],
   "source": [
    "df_37_EYE.head()"
   ]
  },
  {
   "cell_type": "markdown",
   "id": "913aa02c",
   "metadata": {},
   "source": [
    "Check the dimensions (number of rows and columns) of the DataFrame."
   ]
  },
  {
   "cell_type": "code",
   "execution_count": null,
   "id": "9e177a26",
   "metadata": {},
   "outputs": [],
   "source": [
    "df_37_EYE.shape"
   ]
  },
  {
   "cell_type": "markdown",
   "id": "cfb05058",
   "metadata": {},
   "source": [
    "List the names of all columns in the DataFrame."
   ]
  },
  {
   "cell_type": "code",
   "execution_count": null,
   "id": "03653e1a",
   "metadata": {},
   "outputs": [],
   "source": [
    "df_37_EYE.columns"
   ]
  },
  {
   "cell_type": "markdown",
   "id": "3901ee0c",
   "metadata": {},
   "source": [
    "Display concise information about the DataFrame, including the data types of each column and the number of non-null values. This helps identify columns with missing data."
   ]
  },
  {
   "cell_type": "code",
   "execution_count": null,
   "id": "5b744446",
   "metadata": {},
   "outputs": [],
   "source": [
    "df_37_EYE.info()"
   ]
  },
  {
   "cell_type": "markdown",
   "id": "ea376633",
   "metadata": {},
   "source": [
    "Calculate and display the number of missing values in each column."
   ]
  },
  {
   "cell_type": "code",
   "execution_count": null,
   "id": "e97d4f5f",
   "metadata": {},
   "outputs": [],
   "source": [
    "df_37_EYE.isnull().sum()"
   ]
  },
  {
   "cell_type": "markdown",
   "id": "251acc8a",
   "metadata": {},
   "source": [
    "Visualize the distribution of missing values using a heatmap. This provides a visual representation of which columns have missing data and the extent of missingness."
   ]
  },
  {
   "cell_type": "code",
   "execution_count": null,
   "id": "0c66b8a8",
   "metadata": {},
   "outputs": [],
   "source": [
    "plt.figure(figsize=(12,8))\n",
    "sns.heatmap(df_37_EYE.isnull(), cmap='viridis')\n",
    "plt.show()"
   ]
  },
  {
   "cell_type": "markdown",
   "id": "281e17d6",
   "metadata": {},
   "source": [
    "# Notes & Observations\n",
    "\n",
    "- We observe many **null** (or missing) values in the `QuestionKey` columns.\n",
    "- The nulls in the `QuestionKey` column may not represent “true” nulls. Rather, they follow interval patterns, suggesting that during those periods no question was displayed.\n",
    "- These missing values in `QuestionKey` require additional investigation and context-aware handling."
   ]
  },
  {
   "cell_type": "markdown",
   "id": "19a6d145",
   "metadata": {},
   "source": [
    "Display the unique values in the `QuestionKey` column to understand the different types of questions or states recorded."
   ]
  },
  {
   "cell_type": "code",
   "execution_count": null,
   "id": "17075e1f",
   "metadata": {},
   "outputs": [],
   "source": [
    "df_37_EYE['QuestionKey'].unique()"
   ]
  },
  {
   "cell_type": "markdown",
   "id": "f4e75bc4",
   "metadata": {},
   "source": [
    "Convert the `Timestamp` column to datetime objects. This is crucial for any time series analysis or manipulation."
   ]
  },
  {
   "cell_type": "code",
   "execution_count": null,
   "id": "3e92c140",
   "metadata": {},
   "outputs": [],
   "source": [
    "df_37_EYE['Timestamp'] = pd.to_datetime(df_37_EYE['Timestamp'])"
   ]
  },
  {
   "cell_type": "markdown",
   "id": "5c78d628",
   "metadata": {},
   "source": [
    "Display the first few rows again to see the effect of the timestamp conversion."
   ]
  },
  {
   "cell_type": "code",
   "execution_count": null,
   "id": "dcd7a20d",
   "metadata": {},
   "outputs": [],
   "source": [
    "df_37_EYE.head(3)"
   ]
  },
  {
   "cell_type": "markdown",
   "id": "6bab1ac2",
   "metadata": {},
   "source": [
    "Fill the missing values in the `QuestionKey` column with the string 'None'. This helps to explicitly mark periods where no question was active."
   ]
  },
  {
   "cell_type": "code",
   "execution_count": null,
   "id": "3ee5f0c8",
   "metadata": {},
   "outputs": [],
   "source": [
    "df_37_EYE['QuestionKey'].fillna('None', inplace=True)"
   ]
  },
  {
   "cell_type": "markdown",
   "id": "876cf5aa",
   "metadata": {},
   "source": [
    "Count the occurrences of each unique value in the `QuestionKey` column after filling missing values."
   ]
  },
  {
   "cell_type": "code",
   "execution_count": null,
   "id": "11225aa9",
   "metadata": {},
   "outputs": [],
   "source": [
    "df_37_EYE['QuestionKey'].value_counts()"
   ]
  },
  {
   "cell_type": "markdown",
   "id": "77b5ec10",
   "metadata": {},
   "source": [
    "Display the heatmap of missing values again to confirm that the missing values in `QuestionKey` have been handled."
   ]
  },
  {
   "cell_type": "code",
   "execution_count": null,
   "id": "7ce3b335",
   "metadata": {},
   "outputs": [],
   "source": [
    "plt.figure(figsize=(12,8))\n",
    "sns.heatmap(df_37_EYE.isnull(), cmap='viridis')\n",
    "plt.show()"
   ]
  },
  {
   "cell_type": "markdown",
   "id": "f16ba400",
   "metadata": {},
   "source": [
    "Recalculate and display the number of missing values per column to confirm the changes after handling `QuestionKey`."
   ]
  },
  {
   "cell_type": "code",
   "execution_count": null,
   "id": "2a856ac1",
   "metadata": {},
   "outputs": [],
   "source": [
    "df_37_EYE.isnull().sum()"
   ]
  },
  {
   "cell_type": "markdown",
   "id": "c16c0fea",
   "metadata": {},
   "source": [
    "Drop rows that still contain any missing values. This is done after handling `QuestionKey` separately."
   ]
  },
  {
   "cell_type": "code",
   "execution_count": null,
   "id": "e1d7e208",
   "metadata": {},
   "outputs": [],
   "source": [
    "df_37_EYE.dropna(inplace=True)"
   ]
  },
  {
   "cell_type": "markdown",
   "id": "83ab51a7",
   "metadata": {},
   "source": [
    "Display the first few rows after dropping rows with missing values."
   ]
  },
  {
   "cell_type": "code",
   "execution_count": null,
   "id": "7a536466",
   "metadata": {},
   "outputs": [],
   "source": [
    "df_37_EYE.head()"
   ]
  },
  {
   "cell_type": "markdown",
   "id": "4a3d325d",
   "metadata": {},
   "source": [
    "Display the unique values in the `Row` column."
   ]
  },
  {
   "cell_type": "code",
   "execution_count": null,
   "id": "e6ac2fbd",
   "metadata": {},
   "outputs": [],
   "source": [
    "df_37_EYE['Row'].unique()"
   ]
  },
  {
   "cell_type": "markdown",
   "id": "d41e9fc8",
   "metadata": {},
   "source": [
    "Plot a histogram of the `Row` column to visualize its distribution."
   ]
  },
  {
   "cell_type": "code",
   "execution_count": null,
   "id": "72e14d34",
   "metadata": {},
   "outputs": [],
   "source": [
    "plt.figure(figsize=(8,6))\n",
    "sns.histplot(df_37_EYE['Row'])\n",
    "plt.show()"
   ]
  },
  {
   "cell_type": "markdown",
   "id": "903d6c30",
   "metadata": {},
   "source": [
    "# Notes & Observations\n",
    "\n",
    "- The `Row` column appears to be a simple row index and does not provide meaningful information relevant to the eye-tracking data itself. Therefore, it can be dropped."
   ]
  },
  {
   "cell_type": "markdown",
   "id": "f574de81",
   "metadata": {},
   "source": [
    "Drop the `Row` column as it is not relevant for the analysis."
   ]
  },
  {
   "cell_type": "code",
   "execution_count": null,
   "id": "1d7a9700",
   "metadata": {},
   "outputs": [],
   "source": [
    "df_37_EYE.drop('Row', axis=1, inplace=True)"
   ]
  },
  {
   "cell_type": "markdown",
   "id": "11f3931b",
   "metadata": {},
   "source": [
    "Display the unique values in the `ET_ValidityLeft` column."
   ]
  },
  {
   "cell_type": "code",
   "execution_count": null,
   "id": "177563e4",
   "metadata": {},
   "outputs": [],
   "source": [
    "df_37_EYE['ET_ValidityLeft'].unique()"
   ]
  },
  {
   "cell_type": "markdown",
   "id": "143fecbe",
   "metadata": {},
   "source": [
    "Count the occurrences of each unique value in the `ET_ValidityLeft` column."
   ]
  },
  {
   "cell_type": "code",
   "execution_count": null,
   "id": "5b4e61aa",
   "metadata": {},
   "outputs": [],
   "source": [
    "df_37_EYE['ET_ValidityLeft'].value_counts()"
   ]
  },
  {
   "cell_type": "markdown",
   "id": "7adf490e",
   "metadata": {},
   "source": [
    "Display the unique values in the `ET_ValidityRight` column."
   ]
  },
  {
   "cell_type": "code",
   "execution_count": null,
   "id": "df467a85",
   "metadata": {},
   "outputs": [],
   "source": [
    "df_37_EYE['ET_ValidityRight'].unique()"
   ]
  },
  {
   "cell_type": "markdown",
   "id": "ed3c0678",
   "metadata": {},
   "source": [
    "Count the occurrences of each unique value in the `ET_ValidityRight` column."
   ]
  },
  {
   "cell_type": "code",
   "execution_count": null,
   "id": "fbd41d95",
   "metadata": {},
   "outputs": [],
   "source": [
    "df_37_EYE['ET_ValidityRight'].value_counts()"
   ]
  },
  {
   "cell_type": "markdown",
   "id": "d00a2faf",
   "metadata": {},
   "source": [
    "Visualize the counts of valid and invalid data for both left and right eyes using bar plots."
   ]
  },
  {
   "cell_type": "code",
   "execution_count": null,
   "id": "7cbb2dd4",
   "metadata": {},
   "outputs": [],
   "source": [
    "plt.figure(figsize=(12, 6))\n",
    "\n",
    "plt.subplot(1, 2, 1)\n",
    "sns.barplot(x=df_37_EYE['ET_ValidityLeft'].value_counts().index, y=df_37_EYE['ET_ValidityLeft'].value_counts().values)\n",
    "plt.title('Count of ET_ValidityLeft')\n",
    "plt.xlabel('Validity')\n",
    "plt.ylabel('Count')\n",
    "\n",
    "\n",
    "plt.subplot(1, 2, 2)\n",
    "sns.barplot(x=df_37_EYE['ET_ValidityRight'].value_counts().index, y=df_37_EYE['ET_ValidityRight'].value_counts().values)\n",
    "plt.title('Count of ET_ValidityRight')\n",
    "plt.xlabel('Validity')\n",
    "plt.ylabel('Count')\n",
    "\n",
    "plt.tight_layout()\n",
    "plt.show()"
   ]
  },
  {
   "cell_type": "markdown",
   "id": "be9e8c46",
   "metadata": {},
   "source": [
    "# Notes & Observations\n",
    "\n",
    "- The `ET_ValidityLeft` and `ET_ValidityRight` columns indicate the validity of the eye-tracking data for the left and right eye, respectively.\n",
    "- Based on the value counts and the bar plots, it appears that a value of `0.0` represents valid eye-tracking data, while a value of `4.0` represents invalid data.\n",
    "- Although the amount of invalid data is relatively small, removing these rows could introduce unwanted patterns or gaps in the time series data.\n",
    "- Therefore, we will keep the data and replace the value `4.0` with `1.0` in both `ET_ValidityLeft` and `ET_ValidityRight` columns. This will indicate to a machine learning model that the eye tracker had invalid data at those specific points in time while maintaining the integrity of the time series."
   ]
  },
  {
   "cell_type": "markdown",
   "id": "a37e5a6c",
   "metadata": {},
   "source": [
    "Define a mapping to convert validity values from `0.0` and `4.0` to `0` and `1`."
   ]
  },
  {
   "cell_type": "code",
   "execution_count": null,
   "id": "b6e01c5e",
   "metadata": {},
   "outputs": [],
   "source": [
    "validity_map = {4.0: 1.0, 0.0: 0.0}"
   ]
  },
  {
   "cell_type": "markdown",
   "id": "93ea97e7",
   "metadata": {},
   "source": [
    "Apply the mapping to the `ET_ValidityLeft` and `ET_ValidityRight` columns and convert the data type to integer."
   ]
  },
  {
   "cell_type": "code",
   "execution_count": null,
   "id": "5e98b551",
   "metadata": {},
   "outputs": [],
   "source": [
    "df_37_EYE['ET_ValidityLeft'] = df_37_EYE['ET_ValidityLeft'].map(validity_map).astype(np.int8)\n",
    "df_37_EYE['ET_ValidityRight'] = df_37_EYE['ET_ValidityRight'].map(validity_map).astype(np.int8)"
   ]
  },
  {
   "cell_type": "markdown",
   "id": "8e378f3c",
   "metadata": {},
   "source": [
    "Display the first few rows to see the updated validity columns."
   ]
  },
  {
   "cell_type": "code",
   "execution_count": null,
   "id": "6e4c466f",
   "metadata": {},
   "outputs": [],
   "source": [
    "df_37_EYE.head(3)"
   ]
  },
  {
   "cell_type": "markdown",
   "id": "b7175a8e",
   "metadata": {},
   "source": [
    "Display descriptive statistics for the DataFrame, including count, mean, standard deviation, min, max, and quartiles for numeric columns."
   ]
  },
  {
   "cell_type": "code",
   "execution_count": null,
   "id": "6c43dda3",
   "metadata": {},
   "outputs": [],
   "source": [
    "df_37_EYE.describe()"
   ]
  },
  {
   "cell_type": "markdown",
   "id": "f3812de4",
   "metadata": {},
   "source": [
    "Check the number of rows where `ET_ValidityLeft` is 1 (invalid data for the left eye)."
   ]
  },
  {
   "cell_type": "code",
   "execution_count": null,
   "id": "d759fbe7",
   "metadata": {},
   "outputs": [],
   "source": [
    "df_37_EYE[df_37_EYE['ET_ValidityLeft'] == 1].shape"
   ]
  },
  {
   "cell_type": "markdown",
   "id": "086d6345",
   "metadata": {},
   "source": [
    "Check the number of rows where `ET_ValidityRight` is 1 (invalid data for the right eye)."
   ]
  },
  {
   "cell_type": "code",
   "execution_count": null,
   "id": "1071ea85",
   "metadata": {},
   "outputs": [],
   "source": [
    "df_37_EYE[df_37_EYE['ET_ValidityRight'] == 1].shape"
   ]
  },
  {
   "cell_type": "markdown",
   "id": "d8f38e46",
   "metadata": {},
   "source": [
    "Visualize the distribution of -1 and 1 values across columns using heatmaps. This helps identify columns with placeholder or indicator values."
   ]
  },
  {
   "cell_type": "code",
   "execution_count": null,
   "id": "8b36cfea",
   "metadata": {},
   "outputs": [],
   "source": [
    "plt.figure(figsize=(18, 8))\n",
    "\n",
    "plt.subplot(1, 2, 1)\n",
    "sns.heatmap(df_37_EYE == -1, cmap='viridis')\n",
    "plt.title('Heatmap of -1 Values')\n",
    "\n",
    "plt.subplot(1, 2, 2)\n",
    "sns.heatmap(df_37_EYE == 1, cmap='viridis')\n",
    "plt.title('Heatmap of 1 Values')\n",
    "\n",
    "plt.tight_layout()\n",
    "plt.show()"
   ]
  },
  {
   "cell_type": "markdown",
   "id": "b1db0be7",
   "metadata": {},
   "source": [
    "Check the number of rows where `ET_PupilLeft` is -1."
   ]
  },
  {
   "cell_type": "code",
   "execution_count": null,
   "id": "20b7b84e",
   "metadata": {},
   "outputs": [],
   "source": [
    "df_37_EYE[df_37_EYE['ET_PupilLeft'] == -1].shape"
   ]
  },
  {
   "cell_type": "markdown",
   "id": "f03fdd27",
   "metadata": {},
   "source": [
    "Check the number of rows where `ET_PupilRight` is -1."
   ]
  },
  {
   "cell_type": "code",
   "execution_count": null,
   "id": "c8710f43",
   "metadata": {},
   "outputs": [],
   "source": [
    "df_37_EYE[df_37_EYE['ET_PupilRight'] == -1].shape"
   ]
  },
  {
   "cell_type": "markdown",
   "id": "80ecfe6e",
   "metadata": {},
   "source": [
    "Calculate the ratio of rows with -1 values in the `ET_PupilLeft` column to the total number of rows."
   ]
  },
  {
   "cell_type": "code",
   "execution_count": null,
   "id": "1e131798",
   "metadata": {},
   "outputs": [],
   "source": [
    "df_37_EYE[df_37_EYE['ET_PupilLeft'] == -1].shape[0] / df_37_EYE.shape[0]"
   ]
  },
  {
   "cell_type": "markdown",
   "id": "a0adb7ee",
   "metadata": {},
   "source": [
    "Calculate the ratio of rows with -1 values in the `ET_PupilRight` column to the total number of rows."
   ]
  },
  {
   "cell_type": "code",
   "execution_count": null,
   "id": "7dc9107a",
   "metadata": {},
   "outputs": [],
   "source": [
    "df_37_EYE[df_37_EYE['ET_PupilRight'] == -1].shape[0] / df_37_EYE.shape[0]"
   ]
  },
  {
   "cell_type": "markdown",
   "id": "0177db16",
   "metadata": {},
   "source": [
    "Visualize the distribution of -1 values specifically for rows where validity is 1 (invalid data)."
   ]
  },
  {
   "cell_type": "code",
   "execution_count": null,
   "id": "b093ae3d",
   "metadata": {},
   "outputs": [],
   "source": [
    "plt.figure(figsize=(18, 8))\n",
    "\n",
    "plt.subplot(1, 2, 1)\n",
    "sns.heatmap(df_37_EYE[df_37_EYE['ET_ValidityLeft'] == 1] == -1, cmap='viridis')\n",
    "plt.title('Heatmap of -1 Values')\n",
    "\n",
    "plt.subplot(1, 2, 2)\n",
    "sns.heatmap(df_37_EYE[df_37_EYE['ET_ValidityRight'] == 1] == -1, cmap='viridis')\n",
    "plt.title('Heatmap of -1 Values')\n",
    "\n",
    "plt.tight_layout()\n",
    "plt.show()"
   ]
  },
  {
   "cell_type": "markdown",
   "id": "8520c5dd",
   "metadata": {},
   "source": [
    "# Notes & Observations\n",
    "\n",
    "- The heatmaps reveal the distribution of -1 values across different columns.\n",
    "- It is evident that the `-1` values are not randomly scattered but appear in specific columns, notably `ET_GazeLeftx`, `ET_GazeLefty`, `ET_GazeRightx`, `ET_GazeRighty`, `ET_PupilLeft`, `ET_PupilRight`, `ET_DistanceLeft`, `ET_DistanceRight`, `ET_CameraLeftX`, `ET_CameraLeftY`, `ET_CameraRightX`, and `ET_CameraRightY`.\n",
    "- These `-1` values often coincide with instances where `ET_ValidityLeft` or `ET_ValidityRight` is 1, indicating invalid eye-tracking data. This suggests that `-1` is used as a placeholder for missing or invalid measurements in these columns when the eye tracker is not providing valid data for a particular eye.\n",
    "- Given that over 70% of the data in the `ET_PupilLeft` and `ET_PupilRight` columns is marked as invalid (-1), these columns may not be suitable for analysis and could be considered for dropping."
   ]
  },
  {
   "cell_type": "markdown",
   "id": "c61b4b1b",
   "metadata": {},
   "source": [
    "Drop the `ET_PupilLeft` and `ET_PupilRight` columns due to the high percentage of invalid data."
   ]
  },
  {
   "cell_type": "code",
   "execution_count": null,
   "id": "175b7709",
   "metadata": {},
   "outputs": [],
   "source": [
    "df_37_EYE.drop(['ET_PupilLeft', 'ET_PupilRight'], axis=1, inplace=True)"
   ]
  },
  {
   "cell_type": "markdown",
   "id": "accdcc11",
   "metadata": {},
   "source": [
    "Display the first few rows after dropping the pupil columns."
   ]
  },
  {
   "cell_type": "code",
   "execution_count": null,
   "id": "484edabe",
   "metadata": {},
   "outputs": [],
   "source": [
    "df_37_EYE.head()"
   ]
  },
  {
   "cell_type": "markdown",
   "id": "c877954d",
   "metadata": {},
   "source": [
    "Visualize the distribution of -1 and 1 values again after dropping the pupil columns."
   ]
  },
  {
   "cell_type": "code",
   "execution_count": null,
   "id": "37f3a254",
   "metadata": {},
   "outputs": [],
   "source": [
    "plt.figure(figsize=(18, 8))\n",
    "\n",
    "plt.subplot(1, 2, 1)\n",
    "sns.heatmap(df_37_EYE == -1, cmap='viridis')\n",
    "plt.title('Heatmap of -1 Values')\n",
    "\n",
    "plt.subplot(1, 2, 2)\n",
    "sns.heatmap(df_37_EYE == 1, cmap='viridis')\n",
    "plt.title('Heatmap of -1 Values')\n",
    "\n",
    "plt.tight_layout()\n",
    "plt.show()"
   ]
  },
  {
   "cell_type": "markdown",
   "id": "e766e35e",
   "metadata": {},
   "source": [
    "Calculate the ratio of valid data points for the left eye."
   ]
  },
  {
   "cell_type": "code",
   "execution_count": null,
   "id": "9c7afb12",
   "metadata": {},
   "outputs": [],
   "source": [
    "valid_left_ratio  = 1 - df_37_EYE['ET_ValidityLeft'].mean()"
   ]
  },
  {
   "cell_type": "markdown",
   "id": "5424fba2",
   "metadata": {},
   "source": [
    "Display the ratio of valid data points for the left eye."
   ]
  },
  {
   "cell_type": "code",
   "execution_count": null,
   "id": "1fbe89b8",
   "metadata": {},
   "outputs": [],
   "source": [
    "valid_left_ratio"
   ]
  },
  {
   "cell_type": "markdown",
   "id": "5b547546",
   "metadata": {},
   "source": [
    "Calculate the ratio of valid data points for the right eye."
   ]
  },
  {
   "cell_type": "code",
   "execution_count": null,
   "id": "be8869d3",
   "metadata": {},
   "outputs": [],
   "source": [
    "valid_right_ratio = 1 - df_37_EYE['ET_ValidityRight'].mean()"
   ]
  },
  {
   "cell_type": "markdown",
   "id": "58ff123a",
   "metadata": {},
   "source": [
    "Display the ratio of valid data points for the right eye."
   ]
  },
  {
   "cell_type": "code",
   "execution_count": null,
   "id": "20bbd3f4",
   "metadata": {},
   "outputs": [],
   "source": [
    "valid_right_ratio"
   ]
  },
  {
   "cell_type": "markdown",
   "id": "d2ec921a",
   "metadata": {},
   "source": [
    "Display the first few rows of the DataFrame."
   ]
  },
  {
   "cell_type": "code",
   "execution_count": null,
   "id": "77da1524",
   "metadata": {},
   "outputs": [],
   "source": [
    "df_37_EYE.head()"
   ]
  },
  {
   "cell_type": "markdown",
   "id": "7c239a65",
   "metadata": {},
   "source": [
    "Visualize the distributions of numeric columns using histograms with Kernel Density Estimate (KDE) plots. This helps understand the shape and spread of the data in each numeric column."
   ]
  },
  {
   "cell_type": "code",
   "execution_count": null,
   "id": "16c5f67f",
   "metadata": {},
   "outputs": [],
   "source": [
    "# Select only the numeric columns for plotting histograms, excluding time-related columns\n",
    "numeric_cols = df_37_EYE.select_dtypes(include=np.number).columns\n",
    "cols_to_plot = [col for col in numeric_cols if col not in ['UnixTime']]\n",
    "\n",
    "# Calculate the number of rows and columns for the grid\n",
    "n_cols = 4  # You can adjust the number of columns as needed\n",
    "n_rows = (len(cols_to_plot) + n_cols - 1) // n_cols\n",
    "\n",
    "plt.figure(figsize=(n_cols * 5, n_rows * 4)) # Adjust figure size as needed\n",
    "\n",
    "for i, col in enumerate(cols_to_plot):\n",
    "    plt.subplot(n_rows, n_cols, i + 1)\n",
    "    sns.histplot(df_37_EYE[col], kde=True)\n",
    "    plt.title(f'Distribution of {col}')\n",
    "    plt.xlabel(col)\n",
    "    plt.ylabel('Frequency')\n",
    "\n",
    "plt.tight_layout()\n",
    "plt.show()"
   ]
  },
  {
   "cell_type": "markdown",
   "id": "c001433a",
   "metadata": {},
   "source": [
    "List the names of the columns in the DataFrame."
   ]
  },
  {
   "cell_type": "code",
   "execution_count": null,
   "id": "59f244a1",
   "metadata": {},
   "outputs": [],
   "source": [
    "df_37_EYE.columns"
   ]
  },
  {
   "cell_type": "markdown",
   "id": "cc42b198",
   "metadata": {},
   "source": [
    "Define a list of columns to be plotted over time."
   ]
  },
  {
   "cell_type": "code",
   "execution_count": null,
   "id": "6cfeaeeb",
   "metadata": {},
   "outputs": [],
   "source": [
    "cols = ['ET_GazeLeftx', 'ET_GazeLefty',\n",
    "       'ET_GazeRightx', 'ET_GazeRighty', 'ET_TimeSignal', 'ET_DistanceLeft',\n",
    "       'ET_DistanceRight', 'ET_CameraLeftX', 'ET_CameraLeftY',\n",
    "       'ET_CameraRightX', 'ET_CameraRightY', 'ET_ValidityLeft',\n",
    "       'ET_ValidityRight']"
   ]
  },
  {
   "cell_type": "markdown",
   "id": "b97baac0",
   "metadata": {},
   "source": [
    "Plot each of the selected columns against the timestamp to visualize their trends and patterns over time. Markdown cells are added before each plot for better readability."
   ]
  },
  {
   "cell_type": "code",
   "execution_count": null,
   "id": "e5fa633f",
   "metadata": {},
   "outputs": [],
   "source": [
    "from IPython.display import display, Markdown\n",
    "\n",
    "for col in cols:\n",
    "    # Add a markdown cell before each plot for better separation and labeling\n",
    "    display(Markdown(f'### {col} over Time'))\n",
    "    plt.figure(figsize=(16, 10))\n",
    "    plt.plot(df_37_EYE['Timestamp'], df_37_EYE[col])\n",
    "    plt.xlabel(\"Timestamp\") # Add x-axis label\n",
    "    plt.ylabel(col) # Add y-axis label\n",
    "    plt.show()"
   ]
  },
  {
   "cell_type": "markdown",
   "id": "c72d2702",
   "metadata": {},
   "source": [
    "Visualize the distributions of numeric columns using boxplots. This helps identify potential outliers and the spread of the data."
   ]
  },
  {
   "cell_type": "code",
   "execution_count": null,
   "id": "1b6d5d46",
   "metadata": {},
   "outputs": [],
   "source": [
    "# Select only the numeric columns for plotting histograms, excluding time-related columns\n",
    "numeric_cols = df_37_EYE.select_dtypes(include=np.number).columns\n",
    "\n",
    "# Calculate the number of rows and columns for the grid\n",
    "n_cols = 4  # You can adjust the number of columns as needed\n",
    "n_rows = (len(numeric_cols) + n_cols - 1) // n_cols\n",
    "\n",
    "plt.figure(figsize=(n_cols * 5, n_rows * 4)) # Adjust figure size as needed\n",
    "\n",
    "for i, col in enumerate(numeric_cols):\n",
    "    plt.subplot(n_rows, n_cols, i + 1)\n",
    "    sns.boxplot(df_37_EYE[col])\n",
    "    plt.title(f'Boxplot of {col}')\n",
    "    plt.xlabel(col)\n",
    "\n",
    "plt.tight_layout()\n",
    "plt.show()"
   ]
  },
  {
   "cell_type": "markdown",
   "id": "5d6a66bb",
   "metadata": {},
   "source": [
    "Replace the placeholder value -1 with NaN (Not a Number) in the DataFrame. This is done before imputation."
   ]
  },
  {
   "cell_type": "code",
   "execution_count": null,
   "id": "73ee583e",
   "metadata": {},
   "outputs": [],
   "source": [
    "df_37_EYE.replace({-1: np.nan}, inplace=True)"
   ]
  },
  {
   "cell_type": "markdown",
   "id": "209e29eb",
   "metadata": {},
   "source": [
    "Impute the missing values (NaN) in the numeric columns with the mean of each column."
   ]
  },
  {
   "cell_type": "code",
   "execution_count": null,
   "id": "dfe29263",
   "metadata": {},
   "outputs": [],
   "source": [
    "numeric_cols = df_37_EYE.select_dtypes(include=np.number).columns\n",
    "\n",
    "for col in numeric_cols:\n",
    "    df_37_EYE[col].fillna(df_37_EYE[col].mean(), inplace=True)"
   ]
  },
  {
   "cell_type": "markdown",
   "id": "3b544142",
   "metadata": {},
   "source": [
    "Display the first few rows after imputing missing values."
   ]
  },
  {
   "cell_type": "code",
   "execution_count": null,
   "id": "6964893b",
   "metadata": {},
   "outputs": [],
   "source": [
    "df_37_EYE.head()"
   ]
  },
  {
   "cell_type": "markdown",
   "id": "10594d49",
   "metadata": {},
   "source": [
    "Visualize the distributions of numeric columns again using histograms with KDE plots after imputation. This helps assess the impact of imputation on the data distributions."
   ]
  },
  {
   "cell_type": "code",
   "execution_count": null,
   "id": "e2a5df01",
   "metadata": {},
   "outputs": [],
   "source": [
    "# Select only the numeric columns for plotting histograms, excluding time-related columns\n",
    "numeric_cols = df_37_EYE.select_dtypes(include=np.number).columns\n",
    "cols_to_plot = [col for col in numeric_cols if col not in ['UnixTime']]\n",
    "\n",
    "# Calculate the number of rows and columns for the grid\n",
    "n_cols = 4  # You can adjust the number of columns as needed\n",
    "n_rows = (len(cols_to_plot) + n_cols - 1) // n_cols\n",
    "\n",
    "plt.figure(figsize=(n_cols * 5, n_rows * 4)) # Adjust figure size as needed\n",
    "\n",
    "for i, col in enumerate(cols_to_plot):\n",
    "    plt.subplot(n_rows, n_cols, i + 1)\n",
    "    sns.histplot(df_37_EYE[col], kde=True)\n",
    "    plt.title(f'Distribution of {col}')\n",
    "    plt.xlabel(col)\n",
    "    plt.ylabel('Frequency')\n",
    "\n",
    "plt.tight_layout()\n",
    "plt.show()"
   ]
  },
  {
   "cell_type": "code",
   "execution_count": null,
   "id": "87344728",
   "metadata": {},
   "outputs": [],
   "source": []
  },
  {
   "cell_type": "markdown",
   "id": "4f393559",
   "metadata": {},
   "source": [
    "## Student 38"
   ]
  },
  {
   "cell_type": "code",
   "execution_count": null,
   "id": "e821c822",
   "metadata": {},
   "outputs": [],
   "source": [
    "%load_ext cudf"
   ]
  },
  {
   "cell_type": "code",
   "execution_count": null,
   "id": "bac4be35",
   "metadata": {},
   "outputs": [],
   "source": [
    "import numpy as np\n",
    "import pandas as pd\n",
    "import matplotlib.pyplot as plt\n",
    "import seaborn as sns"
   ]
  },
  {
   "cell_type": "code",
   "execution_count": null,
   "id": "2b4e9ff0",
   "metadata": {},
   "outputs": [],
   "source": [
    "import datashader as ds\n",
    "import datashader.transfer_functions as tf"
   ]
  },
  {
   "cell_type": "code",
   "execution_count": null,
   "id": "9c450250",
   "metadata": {},
   "outputs": [],
   "source": [
    "pd.set_option('display.max_columns', None)"
   ]
  },
  {
   "cell_type": "code",
   "execution_count": null,
   "id": "6bd763ec",
   "metadata": {},
   "outputs": [],
   "source": [
    "df_38_EYE = pd.read_csv('data/STData/38/38_EYE.csv')"
   ]
  },
  {
   "cell_type": "code",
   "execution_count": null,
   "id": "e043a9b8",
   "metadata": {},
   "outputs": [],
   "source": [
    "df_38_EYE.head()"
   ]
  },
  {
   "cell_type": "code",
   "execution_count": null,
   "id": "09e7e04e",
   "metadata": {},
   "outputs": [],
   "source": [
    "df_38_EYE.shape"
   ]
  },
  {
   "cell_type": "code",
   "execution_count": null,
   "id": "bba3eca3",
   "metadata": {},
   "outputs": [],
   "source": [
    "df_38_EYE.columns"
   ]
  },
  {
   "cell_type": "code",
   "execution_count": null,
   "id": "97a0cf4d",
   "metadata": {},
   "outputs": [],
   "source": [
    "df_38_EYE.info()"
   ]
  },
  {
   "cell_type": "code",
   "execution_count": null,
   "id": "fa9ee28a",
   "metadata": {},
   "outputs": [],
   "source": [
    "df_38_EYE.isnull().sum()"
   ]
  },
  {
   "cell_type": "code",
   "execution_count": null,
   "id": "aadde9e7",
   "metadata": {},
   "outputs": [],
   "source": [
    "plt.figure(figsize=(12,8))\n",
    "sns.heatmap(df_38_EYE.isnull(), cmap='viridis')\n",
    "plt.show()"
   ]
  },
  {
   "cell_type": "markdown",
   "id": "6c9ac5aa",
   "metadata": {},
   "source": [
    "# Notes & Observations\n",
    "\n",
    "- We observe many **null** (or missing) values in the `QuestionKey` columns.  \n",
    "- The nulls in the `QuestionKey` column may not represent “true” nulls. Rather, they follow interval patterns, suggesting that during those periods no question was displayed.  \n",
    "- These missing values in `QuestionKey` require additional investigation and context-aware handling.  "
   ]
  },
  {
   "cell_type": "code",
   "execution_count": null,
   "id": "d5ada78a",
   "metadata": {},
   "outputs": [],
   "source": [
    "df_38_EYE['QuestionKey'].unique()"
   ]
  },
  {
   "cell_type": "code",
   "execution_count": null,
   "id": "d5e99956",
   "metadata": {},
   "outputs": [],
   "source": [
    "df_38_EYE['Timestamp'] = pd.to_datetime(df_38_EYE['Timestamp'])"
   ]
  },
  {
   "cell_type": "code",
   "execution_count": null,
   "id": "75526ff0",
   "metadata": {},
   "outputs": [],
   "source": [
    "df_38_EYE.head(3)"
   ]
  },
  {
   "cell_type": "code",
   "execution_count": null,
   "id": "e02b81a3",
   "metadata": {},
   "outputs": [],
   "source": [
    "df_38_EYE['QuestionKey'].fillna('None', inplace=True)"
   ]
  },
  {
   "cell_type": "code",
   "execution_count": null,
   "id": "5d9065d4",
   "metadata": {},
   "outputs": [],
   "source": [
    "df_38_EYE['QuestionKey'].value_counts()"
   ]
  },
  {
   "cell_type": "code",
   "execution_count": null,
   "id": "68816580",
   "metadata": {},
   "outputs": [],
   "source": [
    "plt.figure(figsize=(12,8))\n",
    "sns.heatmap(df_38_EYE.isnull(), cmap='viridis')\n",
    "plt.show()"
   ]
  },
  {
   "cell_type": "code",
   "execution_count": null,
   "id": "de376264",
   "metadata": {},
   "outputs": [],
   "source": [
    "df_38_EYE.isnull().sum()"
   ]
  },
  {
   "cell_type": "code",
   "execution_count": null,
   "id": "55e73dcf",
   "metadata": {},
   "outputs": [],
   "source": [
    "df_38_EYE.dropna(inplace=True)"
   ]
  },
  {
   "cell_type": "code",
   "execution_count": null,
   "id": "adf2ebd8",
   "metadata": {},
   "outputs": [],
   "source": [
    "df_38_EYE.head()"
   ]
  },
  {
   "cell_type": "code",
   "execution_count": null,
   "id": "c64c57d4",
   "metadata": {},
   "outputs": [],
   "source": [
    "df_38_EYE['Row'].unique()"
   ]
  },
  {
   "cell_type": "code",
   "execution_count": null,
   "id": "e39e08be",
   "metadata": {},
   "outputs": [],
   "source": [
    "plt.figure(figsize=(8,6))\n",
    "sns.histplot(df_38_EYE['Row'])\n",
    "plt.show()"
   ]
  },
  {
   "cell_type": "markdown",
   "id": "85426321",
   "metadata": {},
   "source": [
    "# Notes & Observations\n",
    "\n",
    "- The `Row` column appears to be a simple row index and does not provide meaningful information relevant to the eye-tracking data itself. Therefore, it can be dropped."
   ]
  },
  {
   "cell_type": "code",
   "execution_count": null,
   "id": "32a2598b",
   "metadata": {},
   "outputs": [],
   "source": [
    "df_38_EYE.drop('Row', axis=1, inplace=True)"
   ]
  },
  {
   "cell_type": "code",
   "execution_count": null,
   "id": "a01a6ed7",
   "metadata": {},
   "outputs": [],
   "source": [
    "df_38_EYE['ET_ValidityLeft'].unique()"
   ]
  },
  {
   "cell_type": "code",
   "execution_count": null,
   "id": "8b63a005",
   "metadata": {},
   "outputs": [],
   "source": [
    "df_38_EYE['ET_ValidityLeft'].value_counts()"
   ]
  },
  {
   "cell_type": "code",
   "execution_count": null,
   "id": "b8e0e7dd",
   "metadata": {},
   "outputs": [],
   "source": [
    "df_38_EYE['ET_ValidityRight'].unique()"
   ]
  },
  {
   "cell_type": "code",
   "execution_count": null,
   "id": "a52e5798",
   "metadata": {},
   "outputs": [],
   "source": [
    "df_38_EYE['ET_ValidityRight'].value_counts()"
   ]
  },
  {
   "cell_type": "code",
   "execution_count": null,
   "id": "62182b54",
   "metadata": {},
   "outputs": [],
   "source": [
    "plt.figure(figsize=(12, 6))\n",
    "\n",
    "plt.subplot(1, 2, 1)\n",
    "sns.barplot(x=df_38_EYE['ET_ValidityLeft'].value_counts().index, y=df_38_EYE['ET_ValidityLeft'].value_counts().values)\n",
    "plt.title('Count of ET_ValidityLeft')\n",
    "plt.xlabel('Validity')\n",
    "plt.ylabel('Count')\n",
    "\n",
    "\n",
    "plt.subplot(1, 2, 2)\n",
    "sns.barplot(x=df_38_EYE['ET_ValidityRight'].value_counts().index, y=df_38_EYE['ET_ValidityRight'].value_counts().values)\n",
    "plt.title('Count of ET_ValidityRight')\n",
    "plt.xlabel('Validity')\n",
    "plt.ylabel('Count')\n",
    "\n",
    "plt.tight_layout()\n",
    "plt.show()"
   ]
  },
  {
   "cell_type": "markdown",
   "id": "1a222794",
   "metadata": {},
   "source": [
    "# Notes & Observations\n",
    "\n",
    "- The `ET_ValidityLeft` and `ET_ValidityRight` columns indicate the validity of the eye-tracking data for the left and right eye, respectively.\n",
    "- Based on the value counts and the bar plots, it appears that a value of `0.0` represents valid eye-tracking data, while a value of `4.0` represents invalid data.\n",
    "- Although the amount of invalid data is relatively small, removing these rows could introduce unwanted patterns or gaps in the time series data.\n",
    "- Therefore, we will keep the data and replace the value `4.0` with `1.0` in both `ET_ValidityLeft` and `ET_ValidityRight` columns. This will indicate to a machine learning model that the eye tracker had invalid data at those specific points in time while maintaining the integrity of the time series."
   ]
  },
  {
   "cell_type": "code",
   "execution_count": null,
   "id": "401a2689",
   "metadata": {},
   "outputs": [],
   "source": [
    "validity_map = {4.0: 1.0, 0.0: 0.0}"
   ]
  },
  {
   "cell_type": "code",
   "execution_count": null,
   "id": "13fe7035",
   "metadata": {},
   "outputs": [],
   "source": [
    "df_38_EYE['ET_ValidityLeft'] = df_38_EYE['ET_ValidityLeft'].map(validity_map).astype(np.int8)\n",
    "df_38_EYE['ET_ValidityRight'] = df_38_EYE['ET_ValidityRight'].map(validity_map).astype(np.int8)"
   ]
  },
  {
   "cell_type": "code",
   "execution_count": null,
   "id": "72eb96e8",
   "metadata": {},
   "outputs": [],
   "source": [
    "df_38_EYE.head(3)"
   ]
  },
  {
   "cell_type": "code",
   "execution_count": null,
   "id": "78e54ca1",
   "metadata": {},
   "outputs": [],
   "source": [
    "df_38_EYE.describe()"
   ]
  },
  {
   "cell_type": "code",
   "execution_count": null,
   "id": "bcbe9400",
   "metadata": {},
   "outputs": [],
   "source": [
    "df_38_EYE[df_38_EYE['ET_ValidityLeft'] == 1].shape"
   ]
  },
  {
   "cell_type": "code",
   "execution_count": null,
   "id": "c95c61f5",
   "metadata": {},
   "outputs": [],
   "source": [
    "df_38_EYE[df_38_EYE['ET_ValidityRight'] == 1].shape"
   ]
  },
  {
   "cell_type": "code",
   "execution_count": null,
   "id": "f986af51",
   "metadata": {},
   "outputs": [],
   "source": [
    "plt.figure(figsize=(18, 8))\n",
    "\n",
    "plt.subplot(1, 2, 1)\n",
    "sns.heatmap(df_38_EYE == -1, cmap='viridis')\n",
    "plt.title('Heatmap of -1 Values')\n",
    "\n",
    "plt.subplot(1, 2, 2)\n",
    "sns.heatmap(df_38_EYE == 1, cmap='viridis')\n",
    "plt.title('Heatmap of 1 Values')\n",
    "\n",
    "plt.tight_layout()\n",
    "plt.show()"
   ]
  },
  {
   "cell_type": "code",
   "execution_count": null,
   "id": "56dc9b48",
   "metadata": {},
   "outputs": [],
   "source": [
    "df_38_EYE[df_38_EYE['ET_PupilLeft'] == -1].shape"
   ]
  },
  {
   "cell_type": "code",
   "execution_count": null,
   "id": "6f6ccca8",
   "metadata": {},
   "outputs": [],
   "source": [
    "df_38_EYE[df_38_EYE['ET_PupilRight'] == -1].shape"
   ]
  },
  {
   "cell_type": "code",
   "execution_count": null,
   "id": "9101125a",
   "metadata": {},
   "outputs": [],
   "source": [
    "df_38_EYE[df_38_EYE['ET_PupilLeft'] == -1].shape[0] / df_38_EYE.shape[0]"
   ]
  },
  {
   "cell_type": "code",
   "execution_count": null,
   "id": "99d5f98d",
   "metadata": {},
   "outputs": [],
   "source": [
    "df_38_EYE[df_38_EYE['ET_PupilRight'] == -1].shape[0] / df_38_EYE.shape[0]"
   ]
  },
  {
   "cell_type": "code",
   "execution_count": null,
   "id": "38d42cdd",
   "metadata": {},
   "outputs": [],
   "source": [
    "plt.figure(figsize=(18, 8))\n",
    "\n",
    "plt.subplot(1, 2, 1)\n",
    "sns.heatmap(df_38_EYE[df_38_EYE['ET_ValidityLeft'] == 1] == -1, cmap='viridis')\n",
    "plt.title('Heatmap of -1 Values')\n",
    "\n",
    "plt.subplot(1, 2, 2)\n",
    "sns.heatmap(df_38_EYE[df_38_EYE['ET_ValidityRight'] == 1] == -1, cmap='viridis')\n",
    "plt.title('Heatmap of -1 Values')\n",
    "\n",
    "plt.tight_layout()\n",
    "plt.show()"
   ]
  },
  {
   "cell_type": "markdown",
   "id": "dd780c86",
   "metadata": {},
   "source": [
    "# Notes & Observations\n",
    "\n",
    "- The heatmaps reveal the distribution of -1 values across different columns.\n",
    "- It is evident that the `-1` values are not randomly scattered but appear in specific columns, notably `ET_GazeLeftx`, `ET_GazeLefty`, `ET_GazeRightx`, `ET_GazeRighty`, `ET_PupilLeft`, `ET_PupilRight`, `ET_DistanceLeft`, `ET_DistanceRight`, `ET_CameraLeftX`, `ET_CameraLeftY`, `ET_CameraRightX`, and `ET_CameraRightY`.\n",
    "- These `-1` values often coincide with instances where `ET_ValidityLeft` or `ET_ValidityRight` is 1, indicating invalid eye-tracking data. This suggests that `-1` is used as a placeholder for missing or invalid measurements in these columns when the eye tracker is not providing valid data for a particular eye.\n",
    "- Given that over 70% of the data in the `ET_PupilLeft` and `ET_PupilRight` columns is marked as invalid (-1), these columns may not be suitable for analysis and could be considered for dropping."
   ]
  },
  {
   "cell_type": "code",
   "execution_count": null,
   "id": "bffa1560",
   "metadata": {},
   "outputs": [],
   "source": [
    "df_38_EYE.drop(['ET_PupilLeft', 'ET_PupilRight'], axis=1, inplace=True)"
   ]
  },
  {
   "cell_type": "code",
   "execution_count": null,
   "id": "a89d7d48",
   "metadata": {},
   "outputs": [],
   "source": [
    "df_38_EYE.head()"
   ]
  },
  {
   "cell_type": "code",
   "execution_count": null,
   "id": "e7916bff",
   "metadata": {},
   "outputs": [],
   "source": [
    "plt.figure(figsize=(18, 8))\n",
    "\n",
    "plt.subplot(1, 2, 1)\n",
    "sns.heatmap(df_38_EYE == -1, cmap='viridis')\n",
    "plt.title('Heatmap of -1 Values')\n",
    "\n",
    "plt.subplot(1, 2, 2)\n",
    "sns.heatmap(df_38_EYE == 1, cmap='viridis')\n",
    "plt.title('Heatmap of -1 Values')\n",
    "\n",
    "plt.tight_layout()\n",
    "plt.show()"
   ]
  },
  {
   "cell_type": "code",
   "execution_count": null,
   "id": "bf0302c5",
   "metadata": {},
   "outputs": [],
   "source": [
    "valid_left_ratio  = 1 - df_38_EYE['ET_ValidityLeft'].mean()\n",
    "valid_right_ratio = 1 - df_38_EYE['ET_ValidityRight'].mean()"
   ]
  },
  {
   "cell_type": "code",
   "execution_count": null,
   "id": "bc04763b",
   "metadata": {},
   "outputs": [],
   "source": [
    "valid_left_ratio"
   ]
  },
  {
   "cell_type": "code",
   "execution_count": null,
   "id": "23bbba8f",
   "metadata": {},
   "outputs": [],
   "source": [
    "valid_right_ratio"
   ]
  },
  {
   "cell_type": "code",
   "execution_count": null,
   "id": "032c7a3a",
   "metadata": {},
   "outputs": [],
   "source": [
    "df_38_EYE.head()"
   ]
  },
  {
   "cell_type": "code",
   "execution_count": null,
   "id": "95532a11",
   "metadata": {},
   "outputs": [],
   "source": [
    "# Select only the numeric columns for plotting histograms, excluding time-related columns\n",
    "numeric_cols = df_38_EYE.select_dtypes(include=np.number).columns\n",
    "cols_to_plot = [col for col in numeric_cols if col not in ['UnixTime']]\n",
    "\n",
    "# Calculate the number of rows and columns for the grid\n",
    "n_cols = 4  # You can adjust the number of columns as needed\n",
    "n_rows = (len(cols_to_plot) + n_cols - 1) // n_cols\n",
    "\n",
    "plt.figure(figsize=(n_cols * 5, n_rows * 4)) # Adjust figure size as needed\n",
    "\n",
    "for i, col in enumerate(cols_to_plot):\n",
    "    plt.subplot(n_rows, n_cols, i + 1)\n",
    "    sns.histplot(df_38_EYE[col], kde=True)\n",
    "    plt.title(f'Distribution of {col}')\n",
    "    plt.xlabel(col)\n",
    "    plt.ylabel('Frequency')\n",
    "\n",
    "plt.tight_layout()\n",
    "plt.show()"
   ]
  },
  {
   "cell_type": "code",
   "execution_count": null,
   "id": "da202152",
   "metadata": {},
   "outputs": [],
   "source": [
    "df_38_EYE.columns"
   ]
  },
  {
   "cell_type": "code",
   "execution_count": null,
   "id": "d9481714",
   "metadata": {},
   "outputs": [],
   "source": [
    "cols = ['ET_GazeLeftx', 'ET_GazeLefty',\n",
    "       'ET_GazeRightx', 'ET_GazeRighty', 'ET_TimeSignal', 'ET_DistanceLeft',\n",
    "       'ET_DistanceRight', 'ET_CameraLeftX', 'ET_CameraLeftY',\n",
    "       'ET_CameraRightX', 'ET_CameraRightY', 'ET_ValidityLeft',\n",
    "       'ET_ValidityRight']"
   ]
  },
  {
   "cell_type": "code",
   "execution_count": null,
   "id": "ae4c427a",
   "metadata": {},
   "outputs": [],
   "source": [
    "from IPython.display import display, Markdown\n",
    "\n",
    "for col in cols:\n",
    "    # Add a markdown cell before each plot for better separation and labeling\n",
    "    display(Markdown(f'### {col} over Time'))\n",
    "    plt.figure(figsize=(16, 10))\n",
    "    plt.plot(df_38_EYE['Timestamp'], df_38_EYE[col])\n",
    "    plt.xlabel(\"Timestamp\") # Add x-axis label\n",
    "    plt.ylabel(col) # Add y-axis label\n",
    "    plt.show()"
   ]
  },
  {
   "cell_type": "code",
   "execution_count": null,
   "id": "99c428b7",
   "metadata": {},
   "outputs": [],
   "source": [
    "# Select only the numeric columns for plotting histograms, excluding time-related columns\n",
    "numeric_cols = df_38_EYE.select_dtypes(include=np.number).columns\n",
    "\n",
    "# Calculate the number of rows and columns for the grid\n",
    "n_cols = 4  # You can adjust the number of columns as needed\n",
    "n_rows = (len(numeric_cols) + n_cols - 1) // n_cols\n",
    "\n",
    "plt.figure(figsize=(n_cols * 5, n_rows * 4)) # Adjust figure size as needed\n",
    "\n",
    "for i, col in enumerate(numeric_cols):\n",
    "    plt.subplot(n_rows, n_cols, i + 1)\n",
    "    sns.boxplot(df_38_EYE[col])\n",
    "    plt.title(f'Boxplot of {col}')\n",
    "    plt.xlabel(col)\n",
    "\n",
    "plt.tight_layout()\n",
    "plt.show()"
   ]
  },
  {
   "cell_type": "code",
   "execution_count": null,
   "id": "8b3dfe89",
   "metadata": {},
   "outputs": [],
   "source": [
    "df_38_EYE.replace({-1: np.nan}, inplace=True)"
   ]
  },
  {
   "cell_type": "code",
   "execution_count": null,
   "id": "87620be2",
   "metadata": {},
   "outputs": [],
   "source": [
    "numeric_cols = df_38_EYE.select_dtypes(include=np.number).columns\n",
    "\n",
    "for col in numeric_cols:\n",
    "    df_38_EYE[col].fillna(df_38_EYE[col].mean(), inplace=True)"
   ]
  },
  {
   "cell_type": "code",
   "execution_count": null,
   "id": "d6068b06",
   "metadata": {},
   "outputs": [],
   "source": [
    "df_38_EYE.head()"
   ]
  },
  {
   "cell_type": "code",
   "execution_count": null,
   "id": "c56d6b4c",
   "metadata": {},
   "outputs": [],
   "source": [
    "# Select only the numeric columns for plotting histograms, excluding time-related columns\n",
    "numeric_cols = df_38_EYE.select_dtypes(include=np.number).columns\n",
    "cols_to_plot = [col for col in numeric_cols if col not in ['UnixTime']]\n",
    "\n",
    "# Calculate the number of rows and columns for the grid\n",
    "n_cols = 4  # You can adjust the number of columns as needed\n",
    "n_rows = (len(cols_to_plot) + n_cols - 1) // n_cols\n",
    "\n",
    "plt.figure(figsize=(n_cols * 5, n_rows * 4)) # Adjust figure size as needed\n",
    "\n",
    "for i, col in enumerate(cols_to_plot):\n",
    "    plt.subplot(n_rows, n_cols, i + 1)\n",
    "    sns.histplot(df_38_EYE[col], kde=True)\n",
    "    plt.title(f'Distribution of {col}')\n",
    "    plt.xlabel(col)\n",
    "    plt.ylabel('Frequency')\n",
    "\n",
    "plt.tight_layout()\n",
    "plt.show()"
   ]
  },
  {
   "cell_type": "code",
   "execution_count": null,
   "id": "bfb492e9",
   "metadata": {},
   "outputs": [],
   "source": []
  },
  {
   "cell_type": "code",
   "execution_count": null,
   "id": "fc0ecaf0",
   "metadata": {},
   "outputs": [],
   "source": []
  },
  {
   "cell_type": "code",
   "execution_count": null,
   "id": "ee0a8ebc",
   "metadata": {},
   "outputs": [],
   "source": []
  },
  {
   "cell_type": "code",
   "execution_count": null,
   "id": "fae2baf5",
   "metadata": {},
   "outputs": [],
   "source": []
  },
  {
   "cell_type": "code",
   "execution_count": null,
   "id": "51117ea2",
   "metadata": {},
   "outputs": [],
   "source": []
  },
  {
   "cell_type": "code",
   "execution_count": null,
   "id": "9925a4fd",
   "metadata": {},
   "outputs": [],
   "source": []
  },
  {
   "cell_type": "code",
   "execution_count": null,
   "id": "ef4ea3f3",
   "metadata": {},
   "outputs": [],
   "source": []
  },
  {
   "cell_type": "code",
   "execution_count": null,
   "id": "f9a732b2",
   "metadata": {},
   "outputs": [],
   "source": []
  },
  {
   "cell_type": "code",
   "execution_count": null,
   "id": "cafed7cf",
   "metadata": {},
   "outputs": [],
   "source": []
  },
  {
   "cell_type": "code",
   "execution_count": null,
   "id": "2b4eb573",
   "metadata": {},
   "outputs": [],
   "source": []
  },
  {
   "cell_type": "code",
   "execution_count": null,
   "id": "820d755a",
   "metadata": {},
   "outputs": [],
   "source": []
  },
  {
   "cell_type": "code",
   "execution_count": null,
   "id": "04d344b2",
   "metadata": {},
   "outputs": [],
   "source": []
  },
  {
   "cell_type": "markdown",
   "id": "4516873a",
   "metadata": {},
   "source": [
    "# Eye Tracking Data Analysis\n",
    "\n",
    "This notebook performs exploratory data analysis and cleaning on eye-tracking data.\n",
    "\n",
    "## Data Loading and Initial Inspection"
   ]
  },
  {
   "cell_type": "code",
   "execution_count": null,
   "id": "3ecf5214",
   "metadata": {},
   "outputs": [],
   "source": [
    "%load_ext cudf"
   ]
  },
  {
   "cell_type": "markdown",
   "id": "0b458719",
   "metadata": {},
   "source": [
    "Import necessary libraries for data manipulation, analysis, and visualization."
   ]
  },
  {
   "cell_type": "code",
   "execution_count": null,
   "id": "2e06e95a",
   "metadata": {},
   "outputs": [],
   "source": [
    "import numpy as np\n",
    "import pandas as pd\n",
    "import matplotlib.pyplot as plt\n",
    "import seaborn as sns"
   ]
  },
  {
   "cell_type": "markdown",
   "id": "c5cf0eed",
   "metadata": {},
   "source": [
    "Import libraries for datashader, which can be used for visualizing large datasets."
   ]
  },
  {
   "cell_type": "code",
   "execution_count": null,
   "id": "bf7c3890",
   "metadata": {},
   "outputs": [],
   "source": [
    "import datashader as ds\n",
    "import datashader.transfer_functions as tf"
   ]
  },
  {
   "cell_type": "markdown",
   "id": "282f0a14",
   "metadata": {},
   "source": [
    "Set pandas display options to show all columns."
   ]
  },
  {
   "cell_type": "code",
   "execution_count": null,
   "id": "bb573269",
   "metadata": {},
   "outputs": [],
   "source": [
    "pd.set_option('display.max_columns', None)"
   ]
  },
  {
   "cell_type": "markdown",
   "id": "6c2a74d6",
   "metadata": {},
   "source": [
    "Load the eye-tracking data from the specified CSV file into a pandas DataFrame."
   ]
  },
  {
   "cell_type": "code",
   "execution_count": null,
   "id": "ac34648d",
   "metadata": {},
   "outputs": [],
   "source": [
    "df_38_EYE = pd.read_csv('data/STData/38/38_EYE.csv')"
   ]
  },
  {
   "cell_type": "markdown",
   "id": "911af5fa",
   "metadata": {},
   "source": [
    "Display the first few rows of the DataFrame to get an initial look at the data structure and content."
   ]
  },
  {
   "cell_type": "code",
   "execution_count": null,
   "id": "84b99dbf",
   "metadata": {},
   "outputs": [],
   "source": [
    "df_38_EYE.head()"
   ]
  },
  {
   "cell_type": "markdown",
   "id": "b1ba9126",
   "metadata": {},
   "source": [
    "Check the dimensions (number of rows and columns) of the DataFrame."
   ]
  },
  {
   "cell_type": "code",
   "execution_count": null,
   "id": "06f35662",
   "metadata": {},
   "outputs": [],
   "source": [
    "df_38_EYE.shape"
   ]
  },
  {
   "cell_type": "markdown",
   "id": "5b2e3b2a",
   "metadata": {},
   "source": [
    "List the names of all columns in the DataFrame."
   ]
  },
  {
   "cell_type": "code",
   "execution_count": null,
   "id": "7e89949a",
   "metadata": {},
   "outputs": [],
   "source": [
    "df_38_EYE.columns"
   ]
  },
  {
   "cell_type": "markdown",
   "id": "1c6a09ba",
   "metadata": {},
   "source": [
    "Display concise information about the DataFrame, including the data types of each column and the number of non-null values. This helps identify columns with missing data."
   ]
  },
  {
   "cell_type": "code",
   "execution_count": null,
   "id": "a0c3ff95",
   "metadata": {},
   "outputs": [],
   "source": [
    "df_38_EYE.info()"
   ]
  },
  {
   "cell_type": "markdown",
   "id": "5675793e",
   "metadata": {},
   "source": [
    "Calculate and display the number of missing values in each column."
   ]
  },
  {
   "cell_type": "code",
   "execution_count": null,
   "id": "3c74f63b",
   "metadata": {},
   "outputs": [],
   "source": [
    "df_38_EYE.isnull().sum()"
   ]
  },
  {
   "cell_type": "markdown",
   "id": "2a6f2b10",
   "metadata": {},
   "source": [
    "Visualize the distribution of missing values using a heatmap. This provides a visual representation of which columns have missing data and the extent of missingness."
   ]
  },
  {
   "cell_type": "code",
   "execution_count": null,
   "id": "5e46d692",
   "metadata": {},
   "outputs": [],
   "source": [
    "plt.figure(figsize=(12,8))\n",
    "sns.heatmap(df_38_EYE.isnull(), cmap='viridis')\n",
    "plt.show()"
   ]
  },
  {
   "cell_type": "markdown",
   "id": "521fb09e",
   "metadata": {},
   "source": [
    "# Notes & Observations\n",
    "\n",
    "- We observe many **null** (or missing) values in the `QuestionKey` columns.\n",
    "- The nulls in the `QuestionKey` column may not represent “true” nulls. Rather, they follow interval patterns, suggesting that during those periods no question was displayed.\n",
    "- These missing values in `QuestionKey` require additional investigation and context-aware handling."
   ]
  },
  {
   "cell_type": "markdown",
   "id": "d621ee0e",
   "metadata": {},
   "source": [
    "Display the unique values in the `QuestionKey` column to understand the different types of questions or states recorded."
   ]
  },
  {
   "cell_type": "code",
   "execution_count": null,
   "id": "0540aee4",
   "metadata": {},
   "outputs": [],
   "source": [
    "df_38_EYE['QuestionKey'].unique()"
   ]
  },
  {
   "cell_type": "markdown",
   "id": "4f5a3e1e",
   "metadata": {},
   "source": [
    "Convert the `Timestamp` column to datetime objects. This is crucial for any time series analysis or manipulation."
   ]
  },
  {
   "cell_type": "code",
   "execution_count": null,
   "id": "f2492e81",
   "metadata": {},
   "outputs": [],
   "source": [
    "df_38_EYE['Timestamp'] = pd.to_datetime(df_38_EYE['Timestamp'])"
   ]
  },
  {
   "cell_type": "markdown",
   "id": "47d18380",
   "metadata": {},
   "source": [
    "Display the first few rows again to see the effect of the timestamp conversion."
   ]
  },
  {
   "cell_type": "code",
   "execution_count": null,
   "id": "c7f79513",
   "metadata": {},
   "outputs": [],
   "source": [
    "df_38_EYE.head(3)"
   ]
  },
  {
   "cell_type": "markdown",
   "id": "f6f2b1eb",
   "metadata": {},
   "source": [
    "Fill the missing values in the `QuestionKey` column with the string 'None'. This helps to explicitly mark periods where no question was active."
   ]
  },
  {
   "cell_type": "code",
   "execution_count": null,
   "id": "6cf2dba1",
   "metadata": {},
   "outputs": [],
   "source": [
    "df_38_EYE['QuestionKey'].fillna('None', inplace=True)"
   ]
  },
  {
   "cell_type": "markdown",
   "id": "67812506",
   "metadata": {},
   "source": [
    "Count the occurrences of each unique value in the `QuestionKey` column after filling missing values."
   ]
  },
  {
   "cell_type": "code",
   "execution_count": null,
   "id": "f924c72b",
   "metadata": {},
   "outputs": [],
   "source": [
    "df_38_EYE['QuestionKey'].value_counts()"
   ]
  },
  {
   "cell_type": "markdown",
   "id": "0c1afd08",
   "metadata": {},
   "source": [
    "Display the heatmap of missing values again to confirm that the missing values in `QuestionKey` have been handled."
   ]
  },
  {
   "cell_type": "code",
   "execution_count": null,
   "id": "25a142c9",
   "metadata": {},
   "outputs": [],
   "source": [
    "plt.figure(figsize=(12,8))\n",
    "sns.heatmap(df_38_EYE.isnull(), cmap='viridis')\n",
    "plt.show()"
   ]
  },
  {
   "cell_type": "markdown",
   "id": "b5ff58c2",
   "metadata": {},
   "source": [
    "Recalculate and display the number of missing values per column to confirm the changes after handling `QuestionKey`."
   ]
  },
  {
   "cell_type": "code",
   "execution_count": null,
   "id": "49614af9",
   "metadata": {},
   "outputs": [],
   "source": [
    "df_38_EYE.isnull().sum()"
   ]
  },
  {
   "cell_type": "markdown",
   "id": "77516df2",
   "metadata": {},
   "source": [
    "Drop rows that still contain any missing values. This is done after handling `QuestionKey` separately."
   ]
  },
  {
   "cell_type": "code",
   "execution_count": null,
   "id": "0314b26a",
   "metadata": {},
   "outputs": [],
   "source": [
    "df_38_EYE.dropna(inplace=True)"
   ]
  },
  {
   "cell_type": "markdown",
   "id": "5792a3ce",
   "metadata": {},
   "source": [
    "Display the first few rows after dropping rows with missing values."
   ]
  },
  {
   "cell_type": "code",
   "execution_count": null,
   "id": "e5718298",
   "metadata": {},
   "outputs": [],
   "source": [
    "df_38_EYE.head()"
   ]
  },
  {
   "cell_type": "markdown",
   "id": "7efc76c9",
   "metadata": {},
   "source": [
    "Display the unique values in the `Row` column."
   ]
  },
  {
   "cell_type": "code",
   "execution_count": null,
   "id": "b923af1a",
   "metadata": {},
   "outputs": [],
   "source": [
    "df_38_EYE['Row'].unique()"
   ]
  },
  {
   "cell_type": "markdown",
   "id": "63375253",
   "metadata": {},
   "source": [
    "Plot a histogram of the `Row` column to visualize its distribution."
   ]
  },
  {
   "cell_type": "code",
   "execution_count": null,
   "id": "0e7141e6",
   "metadata": {},
   "outputs": [],
   "source": [
    "plt.figure(figsize=(8,6))\n",
    "sns.histplot(df_38_EYE['Row'])\n",
    "plt.show()"
   ]
  },
  {
   "cell_type": "markdown",
   "id": "29c19454",
   "metadata": {},
   "source": [
    "# Notes & Observations\n",
    "\n",
    "- The `Row` column appears to be a simple row index and does not provide meaningful information relevant to the eye-tracking data itself. Therefore, it can be dropped."
   ]
  },
  {
   "cell_type": "markdown",
   "id": "b4c690f1",
   "metadata": {},
   "source": [
    "Drop the `Row` column as it is not relevant for the analysis."
   ]
  },
  {
   "cell_type": "code",
   "execution_count": null,
   "id": "7bcfdb7f",
   "metadata": {},
   "outputs": [],
   "source": [
    "df_38_EYE.drop('Row', axis=1, inplace=True)"
   ]
  },
  {
   "cell_type": "markdown",
   "id": "92dae124",
   "metadata": {},
   "source": [
    "Display the unique values in the `ET_ValidityLeft` column."
   ]
  },
  {
   "cell_type": "code",
   "execution_count": null,
   "id": "bc927738",
   "metadata": {},
   "outputs": [],
   "source": [
    "df_38_EYE['ET_ValidityLeft'].unique()"
   ]
  },
  {
   "cell_type": "markdown",
   "id": "3fc67543",
   "metadata": {},
   "source": [
    "Count the occurrences of each unique value in the `ET_ValidityLeft` column."
   ]
  },
  {
   "cell_type": "code",
   "execution_count": null,
   "id": "e49edd0f",
   "metadata": {},
   "outputs": [],
   "source": [
    "df_38_EYE['ET_ValidityLeft'].value_counts()"
   ]
  },
  {
   "cell_type": "markdown",
   "id": "7a769ebf",
   "metadata": {},
   "source": [
    "Display the unique values in the `ET_ValidityRight` column."
   ]
  },
  {
   "cell_type": "code",
   "execution_count": null,
   "id": "19a67a55",
   "metadata": {},
   "outputs": [],
   "source": [
    "df_38_EYE['ET_ValidityRight'].unique()"
   ]
  },
  {
   "cell_type": "markdown",
   "id": "20a64589",
   "metadata": {},
   "source": [
    "Count the occurrences of each unique value in the `ET_ValidityRight` column."
   ]
  },
  {
   "cell_type": "code",
   "execution_count": null,
   "id": "0e15d294",
   "metadata": {},
   "outputs": [],
   "source": [
    "df_38_EYE['ET_ValidityRight'].value_counts()"
   ]
  },
  {
   "cell_type": "markdown",
   "id": "8deac017",
   "metadata": {},
   "source": [
    "Visualize the counts of valid and invalid data for both left and right eyes using bar plots."
   ]
  },
  {
   "cell_type": "code",
   "execution_count": null,
   "id": "1939b4dd",
   "metadata": {},
   "outputs": [],
   "source": [
    "plt.figure(figsize=(12, 6))\n",
    "\n",
    "plt.subplot(1, 2, 1)\n",
    "sns.barplot(x=df_38_EYE['ET_ValidityLeft'].value_counts().index, y=df_38_EYE['ET_ValidityLeft'].value_counts().values)\n",
    "plt.title('Count of ET_ValidityLeft')\n",
    "plt.xlabel('Validity')\n",
    "plt.ylabel('Count')\n",
    "\n",
    "\n",
    "plt.subplot(1, 2, 2)\n",
    "sns.barplot(x=df_38_EYE['ET_ValidityRight'].value_counts().index, y=df_38_EYE['ET_ValidityRight'].value_counts().values)\n",
    "plt.title('Count of ET_ValidityRight')\n",
    "plt.xlabel('Validity')\n",
    "plt.ylabel('Count')\n",
    "\n",
    "plt.tight_layout()\n",
    "plt.show()"
   ]
  },
  {
   "cell_type": "markdown",
   "id": "3d324433",
   "metadata": {},
   "source": [
    "# Notes & Observations\n",
    "\n",
    "- The `ET_ValidityLeft` and `ET_ValidityRight` columns indicate the validity of the eye-tracking data for the left and right eye, respectively.\n",
    "- Based on the value counts and the bar plots, it appears that a value of `0.0` represents valid eye-tracking data, while a value of `4.0` represents invalid data.\n",
    "- Although the amount of invalid data is relatively small, removing these rows could introduce unwanted patterns or gaps in the time series data.\n",
    "- Therefore, we will keep the data and replace the value `4.0` with `1.0` in both `ET_ValidityLeft` and `ET_ValidityRight` columns. This will indicate to a machine learning model that the eye tracker had invalid data at those specific points in time while maintaining the integrity of the time series."
   ]
  },
  {
   "cell_type": "markdown",
   "id": "e13e8ddd",
   "metadata": {},
   "source": [
    "Define a mapping to convert validity values from `0.0` and `4.0` to `0` and `1`."
   ]
  },
  {
   "cell_type": "code",
   "execution_count": null,
   "id": "afb4bfe0",
   "metadata": {},
   "outputs": [],
   "source": [
    "validity_map = {4.0: 1.0, 0.0: 0.0}"
   ]
  },
  {
   "cell_type": "markdown",
   "id": "024acdce",
   "metadata": {},
   "source": [
    "Apply the mapping to the `ET_ValidityLeft` and `ET_ValidityRight` columns and convert the data type to integer."
   ]
  },
  {
   "cell_type": "code",
   "execution_count": null,
   "id": "bcd1efd4",
   "metadata": {},
   "outputs": [],
   "source": [
    "df_38_EYE['ET_ValidityLeft'] = df_38_EYE['ET_ValidityLeft'].map(validity_map).astype(np.int8)\n",
    "df_38_EYE['ET_ValidityRight'] = df_38_EYE['ET_ValidityRight'].map(validity_map).astype(np.int8)"
   ]
  },
  {
   "cell_type": "markdown",
   "id": "b8eaf36d",
   "metadata": {},
   "source": [
    "Display the first few rows to see the updated validity columns."
   ]
  },
  {
   "cell_type": "code",
   "execution_count": null,
   "id": "67c6fb59",
   "metadata": {},
   "outputs": [],
   "source": [
    "df_38_EYE.head(3)"
   ]
  },
  {
   "cell_type": "markdown",
   "id": "3c3c1959",
   "metadata": {},
   "source": [
    "Display descriptive statistics for the DataFrame, including count, mean, standard deviation, min, max, and quartiles for numeric columns."
   ]
  },
  {
   "cell_type": "code",
   "execution_count": null,
   "id": "a4fb0963",
   "metadata": {},
   "outputs": [],
   "source": [
    "df_38_EYE.describe()"
   ]
  },
  {
   "cell_type": "markdown",
   "id": "9eae12dd",
   "metadata": {},
   "source": [
    "Check the number of rows where `ET_ValidityLeft` is 1 (invalid data for the left eye)."
   ]
  },
  {
   "cell_type": "code",
   "execution_count": null,
   "id": "4a769357",
   "metadata": {},
   "outputs": [],
   "source": [
    "df_38_EYE[df_38_EYE['ET_ValidityLeft'] == 1].shape"
   ]
  },
  {
   "cell_type": "markdown",
   "id": "2fe6699b",
   "metadata": {},
   "source": [
    "Check the number of rows where `ET_ValidityRight` is 1 (invalid data for the right eye)."
   ]
  },
  {
   "cell_type": "code",
   "execution_count": null,
   "id": "9f7c9990",
   "metadata": {},
   "outputs": [],
   "source": [
    "df_38_EYE[df_38_EYE['ET_ValidityRight'] == 1].shape"
   ]
  },
  {
   "cell_type": "markdown",
   "id": "4d8ddfe7",
   "metadata": {},
   "source": [
    "Visualize the distribution of -1 and 1 values across columns using heatmaps. This helps identify columns with placeholder or indicator values."
   ]
  },
  {
   "cell_type": "code",
   "execution_count": null,
   "id": "1a70a4f6",
   "metadata": {},
   "outputs": [],
   "source": [
    "plt.figure(figsize=(18, 8))\n",
    "\n",
    "plt.subplot(1, 2, 1)\n",
    "sns.heatmap(df_38_EYE == -1, cmap='viridis')\n",
    "plt.title('Heatmap of -1 Values')\n",
    "\n",
    "plt.subplot(1, 2, 2)\n",
    "sns.heatmap(df_38_EYE == 1, cmap='viridis')\n",
    "plt.title('Heatmap of 1 Values')\n",
    "\n",
    "plt.tight_layout()\n",
    "plt.show()"
   ]
  },
  {
   "cell_type": "markdown",
   "id": "6d3f36eb",
   "metadata": {},
   "source": [
    "Check the number of rows where `ET_PupilLeft` is -1."
   ]
  },
  {
   "cell_type": "code",
   "execution_count": null,
   "id": "21025e66",
   "metadata": {},
   "outputs": [],
   "source": [
    "df_38_EYE[df_38_EYE['ET_PupilLeft'] == -1].shape"
   ]
  },
  {
   "cell_type": "markdown",
   "id": "04e57987",
   "metadata": {},
   "source": [
    "Check the number of rows where `ET_PupilRight` is -1."
   ]
  },
  {
   "cell_type": "code",
   "execution_count": null,
   "id": "82f76b75",
   "metadata": {},
   "outputs": [],
   "source": [
    "df_38_EYE[df_38_EYE['ET_PupilRight'] == -1].shape"
   ]
  },
  {
   "cell_type": "markdown",
   "id": "312eb952",
   "metadata": {},
   "source": [
    "Calculate the ratio of rows with -1 values in the `ET_PupilLeft` column to the total number of rows."
   ]
  },
  {
   "cell_type": "code",
   "execution_count": null,
   "id": "f021b627",
   "metadata": {},
   "outputs": [],
   "source": [
    "df_38_EYE[df_38_EYE['ET_PupilLeft'] == -1].shape[0] / df_38_EYE.shape[0]"
   ]
  },
  {
   "cell_type": "markdown",
   "id": "b5dd6437",
   "metadata": {},
   "source": [
    "Calculate the ratio of rows with -1 values in the `ET_PupilRight` column to the total number of rows."
   ]
  },
  {
   "cell_type": "code",
   "execution_count": null,
   "id": "67c2362e",
   "metadata": {},
   "outputs": [],
   "source": [
    "df_38_EYE[df_38_EYE['ET_PupilRight'] == -1].shape[0] / df_38_EYE.shape[0]"
   ]
  },
  {
   "cell_type": "markdown",
   "id": "11360025",
   "metadata": {},
   "source": [
    "Visualize the distribution of -1 values specifically for rows where validity is 1 (invalid data)."
   ]
  },
  {
   "cell_type": "code",
   "execution_count": null,
   "id": "81ef0245",
   "metadata": {},
   "outputs": [],
   "source": [
    "plt.figure(figsize=(18, 8))\n",
    "\n",
    "plt.subplot(1, 2, 1)\n",
    "sns.heatmap(df_38_EYE[df_38_EYE['ET_ValidityLeft'] == 1] == -1, cmap='viridis')\n",
    "plt.title('Heatmap of -1 Values')\n",
    "\n",
    "plt.subplot(1, 2, 2)\n",
    "sns.heatmap(df_38_EYE[df_38_EYE['ET_ValidityRight'] == 1] == -1, cmap='viridis')\n",
    "plt.title('Heatmap of -1 Values')\n",
    "\n",
    "plt.tight_layout()\n",
    "plt.show()"
   ]
  },
  {
   "cell_type": "markdown",
   "id": "78cd5fab",
   "metadata": {},
   "source": [
    "# Notes & Observations\n",
    "\n",
    "- The heatmaps reveal the distribution of -1 values across different columns.\n",
    "- It is evident that the `-1` values are not randomly scattered but appear in specific columns, notably `ET_GazeLeftx`, `ET_GazeLefty`, `ET_GazeRightx`, `ET_GazeRighty`, `ET_PupilLeft`, `ET_PupilRight`, `ET_DistanceLeft`, `ET_DistanceRight`, `ET_CameraLeftX`, `ET_CameraLeftY`, `ET_CameraRightX`, and `ET_CameraRightY`.\n",
    "- These `-1` values often coincide with instances where `ET_ValidityLeft` or `ET_ValidityRight` is 1, indicating invalid eye-tracking data. This suggests that `-1` is used as a placeholder for missing or invalid measurements in these columns when the eye tracker is not providing valid data for a particular eye.\n",
    "- Given that over 70% of the data in the `ET_PupilLeft` and `ET_PupilRight` columns is marked as invalid (-1), these columns may not be suitable for analysis and could be considered for dropping."
   ]
  },
  {
   "cell_type": "markdown",
   "id": "dc6245df",
   "metadata": {},
   "source": [
    "Drop the `ET_PupilLeft` and `ET_PupilRight` columns due to the high percentage of invalid data."
   ]
  },
  {
   "cell_type": "code",
   "execution_count": null,
   "id": "fb4b90c6",
   "metadata": {},
   "outputs": [],
   "source": [
    "df_38_EYE.drop(['ET_PupilLeft', 'ET_PupilRight'], axis=1, inplace=True)"
   ]
  },
  {
   "cell_type": "markdown",
   "id": "7a919d26",
   "metadata": {},
   "source": [
    "Display the first few rows after dropping the pupil columns."
   ]
  },
  {
   "cell_type": "code",
   "execution_count": null,
   "id": "d279f136",
   "metadata": {},
   "outputs": [],
   "source": [
    "df_38_EYE.head()"
   ]
  },
  {
   "cell_type": "markdown",
   "id": "afa00187",
   "metadata": {},
   "source": [
    "Visualize the distribution of -1 and 1 values again after dropping the pupil columns."
   ]
  },
  {
   "cell_type": "code",
   "execution_count": null,
   "id": "fd766d28",
   "metadata": {},
   "outputs": [],
   "source": [
    "plt.figure(figsize=(18, 8))\n",
    "\n",
    "plt.subplot(1, 2, 1)\n",
    "sns.heatmap(df_38_EYE == -1, cmap='viridis')\n",
    "plt.title('Heatmap of -1 Values')\n",
    "\n",
    "plt.subplot(1, 2, 2)\n",
    "sns.heatmap(df_38_EYE == 1, cmap='viridis')\n",
    "plt.title('Heatmap of -1 Values')\n",
    "\n",
    "plt.tight_layout()\n",
    "plt.show()"
   ]
  },
  {
   "cell_type": "markdown",
   "id": "9f09f8ab",
   "metadata": {},
   "source": [
    "Calculate the ratio of valid data points for the left eye."
   ]
  },
  {
   "cell_type": "code",
   "execution_count": null,
   "id": "3e490889",
   "metadata": {},
   "outputs": [],
   "source": [
    "valid_left_ratio  = 1 - df_38_EYE['ET_ValidityLeft'].mean()"
   ]
  },
  {
   "cell_type": "markdown",
   "id": "a3532014",
   "metadata": {},
   "source": [
    "Display the ratio of valid data points for the left eye."
   ]
  },
  {
   "cell_type": "code",
   "execution_count": null,
   "id": "58958442",
   "metadata": {},
   "outputs": [],
   "source": [
    "valid_left_ratio"
   ]
  },
  {
   "cell_type": "markdown",
   "id": "a026477b",
   "metadata": {},
   "source": [
    "Calculate the ratio of valid data points for the right eye."
   ]
  },
  {
   "cell_type": "code",
   "execution_count": null,
   "id": "86f657cc",
   "metadata": {},
   "outputs": [],
   "source": [
    "valid_right_ratio = 1 - df_38_EYE['ET_ValidityRight'].mean()"
   ]
  },
  {
   "cell_type": "markdown",
   "id": "ddfaf4bb",
   "metadata": {},
   "source": [
    "Display the ratio of valid data points for the right eye."
   ]
  },
  {
   "cell_type": "code",
   "execution_count": null,
   "id": "03005003",
   "metadata": {},
   "outputs": [],
   "source": [
    "valid_right_ratio"
   ]
  },
  {
   "cell_type": "markdown",
   "id": "e4f10281",
   "metadata": {},
   "source": [
    "Display the first few rows of the DataFrame."
   ]
  },
  {
   "cell_type": "code",
   "execution_count": null,
   "id": "af524858",
   "metadata": {},
   "outputs": [],
   "source": [
    "df_38_EYE.head()"
   ]
  },
  {
   "cell_type": "markdown",
   "id": "b12cc629",
   "metadata": {},
   "source": [
    "Visualize the distributions of numeric columns using histograms with Kernel Density Estimate (KDE) plots. This helps understand the shape and spread of the data in each numeric column."
   ]
  },
  {
   "cell_type": "code",
   "execution_count": null,
   "id": "712ecb5f",
   "metadata": {},
   "outputs": [],
   "source": [
    "# Select only the numeric columns for plotting histograms, excluding time-related columns\n",
    "numeric_cols = df_38_EYE.select_dtypes(include=np.number).columns\n",
    "cols_to_plot = [col for col in numeric_cols if col not in ['UnixTime']]\n",
    "\n",
    "# Calculate the number of rows and columns for the grid\n",
    "n_cols = 4  # You can adjust the number of columns as needed\n",
    "n_rows = (len(cols_to_plot) + n_cols - 1) // n_cols\n",
    "\n",
    "plt.figure(figsize=(n_cols * 5, n_rows * 4)) # Adjust figure size as needed\n",
    "\n",
    "for i, col in enumerate(cols_to_plot):\n",
    "    plt.subplot(n_rows, n_cols, i + 1)\n",
    "    sns.histplot(df_38_EYE[col], kde=True)\n",
    "    plt.title(f'Distribution of {col}')\n",
    "    plt.xlabel(col)\n",
    "    plt.ylabel('Frequency')\n",
    "\n",
    "plt.tight_layout()\n",
    "plt.show()"
   ]
  },
  {
   "cell_type": "markdown",
   "id": "b5213ad0",
   "metadata": {},
   "source": [
    "List the names of the columns in the DataFrame."
   ]
  },
  {
   "cell_type": "code",
   "execution_count": null,
   "id": "0585f6cd",
   "metadata": {},
   "outputs": [],
   "source": [
    "df_38_EYE.columns"
   ]
  },
  {
   "cell_type": "markdown",
   "id": "05370df1",
   "metadata": {},
   "source": [
    "Define a list of columns to be plotted over time."
   ]
  },
  {
   "cell_type": "code",
   "execution_count": null,
   "id": "48cabb8a",
   "metadata": {},
   "outputs": [],
   "source": [
    "cols = ['ET_GazeLeftx', 'ET_GazeLefty',\n",
    "       'ET_GazeRightx', 'ET_GazeRighty', 'ET_TimeSignal', 'ET_DistanceLeft',\n",
    "       'ET_DistanceRight', 'ET_CameraLeftX', 'ET_CameraLeftY',\n",
    "       'ET_CameraRightX', 'ET_CameraRightY', 'ET_ValidityLeft',\n",
    "       'ET_ValidityRight']"
   ]
  },
  {
   "cell_type": "markdown",
   "id": "5dcdcf58",
   "metadata": {},
   "source": [
    "Plot each of the selected columns against the timestamp to visualize their trends and patterns over time. Markdown cells are added before each plot for better readability."
   ]
  },
  {
   "cell_type": "code",
   "execution_count": null,
   "id": "aa44173a",
   "metadata": {},
   "outputs": [],
   "source": [
    "from IPython.display import display, Markdown\n",
    "\n",
    "for col in cols:\n",
    "    # Add a markdown cell before each plot for better separation and labeling\n",
    "    display(Markdown(f'### {col} over Time'))\n",
    "    plt.figure(figsize=(16, 10))\n",
    "    plt.plot(df_38_EYE['Timestamp'], df_38_EYE[col])\n",
    "    plt.xlabel(\"Timestamp\") # Add x-axis label\n",
    "    plt.ylabel(col) # Add y-axis label\n",
    "    plt.show()"
   ]
  },
  {
   "cell_type": "markdown",
   "id": "78ec52a9",
   "metadata": {},
   "source": [
    "Visualize the distributions of numeric columns using boxplots. This helps identify potential outliers and the spread of the data."
   ]
  },
  {
   "cell_type": "code",
   "execution_count": null,
   "id": "1a7eac07",
   "metadata": {},
   "outputs": [],
   "source": [
    "# Select only the numeric columns for plotting histograms, excluding time-related columns\n",
    "numeric_cols = df_38_EYE.select_dtypes(include=np.number).columns\n",
    "\n",
    "# Calculate the number of rows and columns for the grid\n",
    "n_cols = 4  # You can adjust the number of columns as needed\n",
    "n_rows = (len(numeric_cols) + n_cols - 1) // n_cols\n",
    "\n",
    "plt.figure(figsize=(n_cols * 5, n_rows * 4)) # Adjust figure size as needed\n",
    "\n",
    "for i, col in enumerate(numeric_cols):\n",
    "    plt.subplot(n_rows, n_cols, i + 1)\n",
    "    sns.boxplot(df_38_EYE[col])\n",
    "    plt.title(f'Boxplot of {col}')\n",
    "    plt.xlabel(col)\n",
    "\n",
    "plt.tight_layout()\n",
    "plt.show()"
   ]
  },
  {
   "cell_type": "markdown",
   "id": "066fe49b",
   "metadata": {},
   "source": [
    "Replace the placeholder value -1 with NaN (Not a Number) in the DataFrame. This is done before imputation."
   ]
  },
  {
   "cell_type": "code",
   "execution_count": null,
   "id": "00ea30ce",
   "metadata": {},
   "outputs": [],
   "source": [
    "df_38_EYE.replace({-1: np.nan}, inplace=True)"
   ]
  },
  {
   "cell_type": "markdown",
   "id": "038ffcbf",
   "metadata": {},
   "source": [
    "Impute the missing values (NaN) in the numeric columns with the mean of each column."
   ]
  },
  {
   "cell_type": "code",
   "execution_count": null,
   "id": "9d202a90",
   "metadata": {},
   "outputs": [],
   "source": [
    "numeric_cols = df_38_EYE.select_dtypes(include=np.number).columns\n",
    "\n",
    "for col in numeric_cols:\n",
    "    df_38_EYE[col].fillna(df_38_EYE[col].mean(), inplace=True)"
   ]
  },
  {
   "cell_type": "markdown",
   "id": "4b44333c",
   "metadata": {},
   "source": [
    "Display the first few rows after imputing missing values."
   ]
  },
  {
   "cell_type": "code",
   "execution_count": null,
   "id": "1ecfdf82",
   "metadata": {},
   "outputs": [],
   "source": [
    "df_38_EYE.head()"
   ]
  },
  {
   "cell_type": "markdown",
   "id": "f2a1ae73",
   "metadata": {},
   "source": [
    "Visualize the distributions of numeric columns again using histograms with KDE plots after imputation. This helps assess the impact of imputation on the data distributions."
   ]
  },
  {
   "cell_type": "code",
   "execution_count": null,
   "id": "299b73d5",
   "metadata": {},
   "outputs": [],
   "source": [
    "# Select only the numeric columns for plotting histograms, excluding time-related columns\n",
    "numeric_cols = df_38_EYE.select_dtypes(include=np.number).columns\n",
    "cols_to_plot = [col for col in numeric_cols if col not in ['UnixTime']]\n",
    "\n",
    "# Calculate the number of rows and columns for the grid\n",
    "n_cols = 4  # You can adjust the number of columns as needed\n",
    "n_rows = (len(cols_to_plot) + n_cols - 1) // n_cols\n",
    "\n",
    "plt.figure(figsize=(n_cols * 5, n_rows * 4)) # Adjust figure size as needed\n",
    "\n",
    "for i, col in enumerate(cols_to_plot):\n",
    "    plt.subplot(n_rows, n_cols, i + 1)\n",
    "    sns.histplot(df_38_EYE[col], kde=True)\n",
    "    plt.title(f'Distribution of {col}')\n",
    "    plt.xlabel(col)\n",
    "    plt.ylabel('Frequency')\n",
    "\n",
    "plt.tight_layout()\n",
    "plt.show()"
   ]
  },
  {
   "cell_type": "code",
   "execution_count": null,
   "id": "e446f6ae",
   "metadata": {},
   "outputs": [],
   "source": []
  }
 ],
 "metadata": {},
 "nbformat": 4,
 "nbformat_minor": 5
}
