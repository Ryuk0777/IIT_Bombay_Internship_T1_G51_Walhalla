{
 "cells": [
  {
   "cell_type": "markdown",
   "id": "013a1d56",
   "metadata": {},
   "source": [
    "## Student 11"
   ]
  },
  {
   "cell_type": "code",
   "execution_count": null,
   "id": "7c6284b7",
   "metadata": {},
   "outputs": [],
   "source": [
    "%load_ext cudf"
   ]
  },
  {
   "cell_type": "code",
   "execution_count": null,
   "id": "720e51cd",
   "metadata": {},
   "outputs": [],
   "source": [
    "import numpy as np\n",
    "import pandas as pd\n",
    "import matplotlib.pyplot as plt\n",
    "import seaborn as sns"
   ]
  },
  {
   "cell_type": "code",
   "execution_count": null,
   "id": "6c280e05",
   "metadata": {},
   "outputs": [],
   "source": [
    "import datashader as ds\n",
    "import datashader.transfer_functions as tf"
   ]
  },
  {
   "cell_type": "code",
   "execution_count": null,
   "id": "7b3817fe",
   "metadata": {},
   "outputs": [],
   "source": [
    "pd.set_option('display.max_columns', None)"
   ]
  },
  {
   "cell_type": "code",
   "execution_count": null,
   "id": "9076eea2",
   "metadata": {},
   "outputs": [],
   "source": [
    "df_11_EYE = pd.read_csv('data/STData/11/11_EYE.csv')"
   ]
  },
  {
   "cell_type": "code",
   "execution_count": null,
   "id": "29fe9999",
   "metadata": {},
   "outputs": [],
   "source": [
    "df_11_EYE.head()"
   ]
  },
  {
   "cell_type": "code",
   "execution_count": null,
   "id": "8f24333c",
   "metadata": {},
   "outputs": [],
   "source": [
    "df_11_EYE.shape"
   ]
  },
  {
   "cell_type": "code",
   "execution_count": null,
   "id": "7336f530",
   "metadata": {},
   "outputs": [],
   "source": [
    "df_11_EYE.columns"
   ]
  },
  {
   "cell_type": "code",
   "execution_count": null,
   "id": "c44cdef7",
   "metadata": {},
   "outputs": [],
   "source": [
    "df_11_EYE.info()"
   ]
  },
  {
   "cell_type": "code",
   "execution_count": null,
   "id": "f5847373",
   "metadata": {},
   "outputs": [],
   "source": [
    "df_11_EYE.isnull().sum()"
   ]
  },
  {
   "cell_type": "code",
   "execution_count": null,
   "id": "3e53dcd8",
   "metadata": {},
   "outputs": [],
   "source": [
    "plt.figure(figsize=(12,8))\n",
    "sns.heatmap(df_11_EYE.isnull(), cmap='viridis')\n",
    "plt.show()"
   ]
  },
  {
   "cell_type": "markdown",
   "id": "2661c28f",
   "metadata": {},
   "source": [
    "# Notes & Observations\n",
    "\n",
    "- We observe many **null** (or missing) values in the `QuestionKey` columns.  \n",
    "- The nulls in the `QuestionKey` column may not represent “true” nulls. Rather, they follow interval patterns, suggesting that during those periods no question was displayed.  \n",
    "- These missing values in `QuestionKey` require additional investigation and context-aware handling.  "
   ]
  },
  {
   "cell_type": "code",
   "execution_count": null,
   "id": "37b1739f",
   "metadata": {},
   "outputs": [],
   "source": [
    "df_11_EYE['QuestionKey'].unique()"
   ]
  },
  {
   "cell_type": "code",
   "execution_count": null,
   "id": "5218268d",
   "metadata": {},
   "outputs": [],
   "source": [
    "df_11_EYE['Timestamp'] = pd.to_datetime(df_11_EYE['Timestamp'])"
   ]
  },
  {
   "cell_type": "code",
   "execution_count": null,
   "id": "6f32ede4",
   "metadata": {},
   "outputs": [],
   "source": [
    "df_11_EYE.head(3)"
   ]
  },
  {
   "cell_type": "code",
   "execution_count": null,
   "id": "9c4cca47",
   "metadata": {},
   "outputs": [],
   "source": [
    "df_11_EYE['QuestionKey'].fillna('None', inplace=True)"
   ]
  },
  {
   "cell_type": "code",
   "execution_count": null,
   "id": "527652c1",
   "metadata": {},
   "outputs": [],
   "source": [
    "df_11_EYE['QuestionKey'].value_counts()"
   ]
  },
  {
   "cell_type": "code",
   "execution_count": null,
   "id": "1110ec78",
   "metadata": {},
   "outputs": [],
   "source": [
    "plt.figure(figsize=(12,8))\n",
    "sns.heatmap(df_11_EYE.isnull(), cmap='viridis')\n",
    "plt.show()"
   ]
  },
  {
   "cell_type": "code",
   "execution_count": null,
   "id": "a12cfd5d",
   "metadata": {},
   "outputs": [],
   "source": [
    "df_11_EYE.isnull().sum()"
   ]
  },
  {
   "cell_type": "code",
   "execution_count": null,
   "id": "a424fc45",
   "metadata": {},
   "outputs": [],
   "source": [
    "df_11_EYE.dropna(inplace=True)"
   ]
  },
  {
   "cell_type": "code",
   "execution_count": null,
   "id": "33ebd098",
   "metadata": {},
   "outputs": [],
   "source": [
    "df_11_EYE.head()"
   ]
  },
  {
   "cell_type": "code",
   "execution_count": null,
   "id": "c245f2f8",
   "metadata": {},
   "outputs": [],
   "source": [
    "df_11_EYE['Row'].unique()"
   ]
  },
  {
   "cell_type": "code",
   "execution_count": null,
   "id": "17139ffe",
   "metadata": {},
   "outputs": [],
   "source": [
    "plt.figure(figsize=(8,6))\n",
    "sns.histplot(df_11_EYE['Row'])\n",
    "plt.show()"
   ]
  },
  {
   "cell_type": "markdown",
   "id": "27819f6b",
   "metadata": {},
   "source": [
    "# Notes & Observations\n",
    "\n",
    "- The `Row` column appears to be a simple row index and does not provide meaningful information relevant to the eye-tracking data itself. Therefore, it can be dropped."
   ]
  },
  {
   "cell_type": "code",
   "execution_count": null,
   "id": "31830f26",
   "metadata": {},
   "outputs": [],
   "source": [
    "df_11_EYE.drop('Row', axis=1, inplace=True)"
   ]
  },
  {
   "cell_type": "code",
   "execution_count": null,
   "id": "60758fbe",
   "metadata": {},
   "outputs": [],
   "source": [
    "df_11_EYE['ET_ValidityLeft'].unique()"
   ]
  },
  {
   "cell_type": "code",
   "execution_count": null,
   "id": "65a31e41",
   "metadata": {},
   "outputs": [],
   "source": [
    "df_11_EYE['ET_ValidityLeft'].value_counts()"
   ]
  },
  {
   "cell_type": "code",
   "execution_count": null,
   "id": "4a0e993a",
   "metadata": {},
   "outputs": [],
   "source": [
    "df_11_EYE['ET_ValidityRight'].unique()"
   ]
  },
  {
   "cell_type": "code",
   "execution_count": null,
   "id": "6a3b0cdf",
   "metadata": {},
   "outputs": [],
   "source": [
    "df_11_EYE['ET_ValidityRight'].value_counts()"
   ]
  },
  {
   "cell_type": "code",
   "execution_count": null,
   "id": "9cfa0652",
   "metadata": {},
   "outputs": [],
   "source": [
    "plt.figure(figsize=(12, 6))\n",
    "\n",
    "plt.subplot(1, 2, 1)\n",
    "sns.barplot(x=df_11_EYE['ET_ValidityLeft'].value_counts().index, y=df_11_EYE['ET_ValidityLeft'].value_counts().values)\n",
    "plt.title('Count of ET_ValidityLeft')\n",
    "plt.xlabel('Validity')\n",
    "plt.ylabel('Count')\n",
    "\n",
    "\n",
    "plt.subplot(1, 2, 2)\n",
    "sns.barplot(x=df_11_EYE['ET_ValidityRight'].value_counts().index, y=df_11_EYE['ET_ValidityRight'].value_counts().values)\n",
    "plt.title('Count of ET_ValidityRight')\n",
    "plt.xlabel('Validity')\n",
    "plt.ylabel('Count')\n",
    "\n",
    "plt.tight_layout()\n",
    "plt.show()"
   ]
  },
  {
   "cell_type": "markdown",
   "id": "94a5c1e6",
   "metadata": {},
   "source": [
    "# Notes & Observations\n",
    "\n",
    "- The `ET_ValidityLeft` and `ET_ValidityRight` columns indicate the validity of the eye-tracking data for the left and right eye, respectively.\n",
    "- Based on the value counts and the bar plots, it appears that a value of `0.0` represents valid eye-tracking data, while a value of `4.0` represents invalid data.\n",
    "- Although the amount of invalid data is relatively small, removing these rows could introduce unwanted patterns or gaps in the time series data.\n",
    "- Therefore, we will keep the data and replace the value `4.0` with `1.0` in both `ET_ValidityLeft` and `ET_ValidityRight` columns. This will indicate to a machine learning model that the eye tracker had invalid data at those specific points in time while maintaining the integrity of the time series."
   ]
  },
  {
   "cell_type": "code",
   "execution_count": null,
   "id": "818e75e9",
   "metadata": {},
   "outputs": [],
   "source": [
    "validity_map = {4.0: 1.0, 0.0: 0.0}"
   ]
  },
  {
   "cell_type": "code",
   "execution_count": null,
   "id": "a834f934",
   "metadata": {},
   "outputs": [],
   "source": [
    "df_11_EYE['ET_ValidityLeft'] = df_11_EYE['ET_ValidityLeft'].map(validity_map).astype(np.int8)\n",
    "df_11_EYE['ET_ValidityRight'] = df_11_EYE['ET_ValidityRight'].map(validity_map).astype(np.int8)"
   ]
  },
  {
   "cell_type": "code",
   "execution_count": null,
   "id": "958506be",
   "metadata": {},
   "outputs": [],
   "source": [
    "df_11_EYE.head(3)"
   ]
  },
  {
   "cell_type": "code",
   "execution_count": null,
   "id": "31076b46",
   "metadata": {},
   "outputs": [],
   "source": [
    "df_11_EYE.describe()"
   ]
  },
  {
   "cell_type": "code",
   "execution_count": null,
   "id": "4240fcc0",
   "metadata": {},
   "outputs": [],
   "source": [
    "df_11_EYE[df_11_EYE['ET_ValidityLeft'] == 1].shape"
   ]
  },
  {
   "cell_type": "code",
   "execution_count": null,
   "id": "7c54230e",
   "metadata": {},
   "outputs": [],
   "source": [
    "df_11_EYE[df_11_EYE['ET_ValidityRight'] == 1].shape"
   ]
  },
  {
   "cell_type": "code",
   "execution_count": null,
   "id": "4ef935bc",
   "metadata": {},
   "outputs": [],
   "source": [
    "plt.figure(figsize=(18, 8))\n",
    "\n",
    "plt.subplot(1, 2, 1)\n",
    "sns.heatmap(df_11_EYE == -1, cmap='viridis')\n",
    "plt.title('Heatmap of -1 Values')\n",
    "\n",
    "plt.subplot(1, 2, 2)\n",
    "sns.heatmap(df_11_EYE == 1, cmap='viridis')\n",
    "plt.title('Heatmap of 1 Values')\n",
    "\n",
    "plt.tight_layout()\n",
    "plt.show()"
   ]
  },
  {
   "cell_type": "code",
   "execution_count": null,
   "id": "9c6af008",
   "metadata": {},
   "outputs": [],
   "source": [
    "df_11_EYE[df_11_EYE['ET_PupilLeft'] == -1].shape"
   ]
  },
  {
   "cell_type": "code",
   "execution_count": null,
   "id": "a831f860",
   "metadata": {},
   "outputs": [],
   "source": [
    "df_11_EYE[df_11_EYE['ET_PupilRight'] == -1].shape"
   ]
  },
  {
   "cell_type": "code",
   "execution_count": null,
   "id": "fb0970af",
   "metadata": {},
   "outputs": [],
   "source": [
    "df_11_EYE[df_11_EYE['ET_PupilLeft'] == -1].shape[0] / df_11_EYE.shape[0]"
   ]
  },
  {
   "cell_type": "code",
   "execution_count": null,
   "id": "97b4c2b7",
   "metadata": {},
   "outputs": [],
   "source": [
    "df_11_EYE[df_11_EYE['ET_PupilRight'] == -1].shape[0] / df_11_EYE.shape[0]"
   ]
  },
  {
   "cell_type": "code",
   "execution_count": null,
   "id": "3747c607",
   "metadata": {},
   "outputs": [],
   "source": [
    "plt.figure(figsize=(18, 8))\n",
    "\n",
    "plt.subplot(1, 2, 1)\n",
    "sns.heatmap(df_11_EYE[df_11_EYE['ET_ValidityLeft'] == 1] == -1, cmap='viridis')\n",
    "plt.title('Heatmap of -1 Values')\n",
    "\n",
    "plt.subplot(1, 2, 2)\n",
    "sns.heatmap(df_11_EYE[df_11_EYE['ET_ValidityRight'] == 1] == -1, cmap='viridis')\n",
    "plt.title('Heatmap of -1 Values')\n",
    "\n",
    "plt.tight_layout()\n",
    "plt.show()"
   ]
  },
  {
   "cell_type": "markdown",
   "id": "789d41c6",
   "metadata": {},
   "source": [
    "# Notes & Observations\n",
    "\n",
    "- The heatmaps reveal the distribution of -1 values across different columns.\n",
    "- It is evident that the `-1` values are not randomly scattered but appear in specific columns, notably `ET_GazeLeftx`, `ET_GazeLefty`, `ET_GazeRightx`, `ET_GazeRighty`, `ET_PupilLeft`, `ET_PupilRight`, `ET_DistanceLeft`, `ET_DistanceRight`, `ET_CameraLeftX`, `ET_CameraLeftY`, `ET_CameraRightX`, and `ET_CameraRightY`.\n",
    "- These `-1` values often coincide with instances where `ET_ValidityLeft` or `ET_ValidityRight` is 1, indicating invalid eye-tracking data. This suggests that `-1` is used as a placeholder for missing or invalid measurements in these columns when the eye tracker is not providing valid data for a particular eye.\n",
    "- Given that over 70% of the data in the `ET_PupilLeft` and `ET_PupilRight` columns is marked as invalid (-1), these columns may not be suitable for analysis and could be considered for dropping."
   ]
  },
  {
   "cell_type": "code",
   "execution_count": null,
   "id": "83fafd09",
   "metadata": {},
   "outputs": [],
   "source": [
    "df_11_EYE.drop(['ET_PupilLeft', 'ET_PupilRight'], axis=1, inplace=True)"
   ]
  },
  {
   "cell_type": "code",
   "execution_count": null,
   "id": "4563183a",
   "metadata": {},
   "outputs": [],
   "source": [
    "df_11_EYE.head()"
   ]
  },
  {
   "cell_type": "code",
   "execution_count": null,
   "id": "7e33dad1",
   "metadata": {},
   "outputs": [],
   "source": [
    "plt.figure(figsize=(18, 8))\n",
    "\n",
    "plt.subplot(1, 2, 1)\n",
    "sns.heatmap(df_11_EYE == -1, cmap='viridis')\n",
    "plt.title('Heatmap of -1 Values')\n",
    "\n",
    "plt.subplot(1, 2, 2)\n",
    "sns.heatmap(df_11_EYE == 1, cmap='viridis')\n",
    "plt.title('Heatmap of -1 Values')\n",
    "\n",
    "plt.tight_layout()\n",
    "plt.show()"
   ]
  },
  {
   "cell_type": "code",
   "execution_count": null,
   "id": "11185bd6",
   "metadata": {},
   "outputs": [],
   "source": [
    "valid_left_ratio  = 1 - df_11_EYE['ET_ValidityLeft'].mean()\n",
    "valid_right_ratio = 1 - df_11_EYE['ET_ValidityRight'].mean()"
   ]
  },
  {
   "cell_type": "code",
   "execution_count": null,
   "id": "d19d989f",
   "metadata": {},
   "outputs": [],
   "source": [
    "valid_left_ratio"
   ]
  },
  {
   "cell_type": "code",
   "execution_count": null,
   "id": "ace07d58",
   "metadata": {},
   "outputs": [],
   "source": [
    "valid_right_ratio"
   ]
  },
  {
   "cell_type": "code",
   "execution_count": null,
   "id": "2c51828d",
   "metadata": {},
   "outputs": [],
   "source": [
    "df_11_EYE.head()"
   ]
  },
  {
   "cell_type": "code",
   "execution_count": null,
   "id": "d24a6cfc",
   "metadata": {},
   "outputs": [],
   "source": [
    "# Select only the numeric columns for plotting histograms, excluding time-related columns\n",
    "numeric_cols = df_11_EYE.select_dtypes(include=np.number).columns\n",
    "cols_to_plot = [col for col in numeric_cols if col not in ['UnixTime']]\n",
    "\n",
    "# Calculate the number of rows and columns for the grid\n",
    "n_cols = 4  # You can adjust the number of columns as needed\n",
    "n_rows = (len(cols_to_plot) + n_cols - 1) // n_cols\n",
    "\n",
    "plt.figure(figsize=(n_cols * 5, n_rows * 4)) # Adjust figure size as needed\n",
    "\n",
    "for i, col in enumerate(cols_to_plot):\n",
    "    plt.subplot(n_rows, n_cols, i + 1)\n",
    "    sns.histplot(df_11_EYE[col], kde=True)\n",
    "    plt.title(f'Distribution of {col}')\n",
    "    plt.xlabel(col)\n",
    "    plt.ylabel('Frequency')\n",
    "\n",
    "plt.tight_layout()\n",
    "plt.show()"
   ]
  },
  {
   "cell_type": "code",
   "execution_count": null,
   "id": "fe785c26",
   "metadata": {},
   "outputs": [],
   "source": [
    "df_11_EYE.columns"
   ]
  },
  {
   "cell_type": "code",
   "execution_count": null,
   "id": "2051a21d",
   "metadata": {},
   "outputs": [],
   "source": [
    "cols = ['ET_GazeLeftx', 'ET_GazeLefty',\n",
    "       'ET_GazeRightx', 'ET_GazeRighty', 'ET_TimeSignal', 'ET_DistanceLeft',\n",
    "       'ET_DistanceRight', 'ET_CameraLeftX', 'ET_CameraLeftY',\n",
    "       'ET_CameraRightX', 'ET_CameraRightY', 'ET_ValidityLeft',\n",
    "       'ET_ValidityRight']"
   ]
  },
  {
   "cell_type": "code",
   "execution_count": null,
   "id": "9d91260f",
   "metadata": {},
   "outputs": [],
   "source": [
    "from IPython.display import display, Markdown\n",
    "\n",
    "for col in cols:\n",
    "    # Add a markdown cell before each plot for better separation and labeling\n",
    "    display(Markdown(f'### {col} over Time'))\n",
    "    plt.figure(figsize=(16, 10))\n",
    "    plt.plot(df_11_EYE['Timestamp'], df_11_EYE[col])\n",
    "    plt.xlabel(\"Timestamp\") # Add x-axis label\n",
    "    plt.ylabel(col) # Add y-axis label\n",
    "    plt.show()"
   ]
  },
  {
   "cell_type": "code",
   "execution_count": null,
   "id": "458b443f",
   "metadata": {},
   "outputs": [],
   "source": [
    "# Select only the numeric columns for plotting histograms, excluding time-related columns\n",
    "numeric_cols = df_11_EYE.select_dtypes(include=np.number).columns\n",
    "\n",
    "# Calculate the number of rows and columns for the grid\n",
    "n_cols = 4  # You can adjust the number of columns as needed\n",
    "n_rows = (len(numeric_cols) + n_cols - 1) // n_cols\n",
    "\n",
    "plt.figure(figsize=(n_cols * 5, n_rows * 4)) # Adjust figure size as needed\n",
    "\n",
    "for i, col in enumerate(numeric_cols):\n",
    "    plt.subplot(n_rows, n_cols, i + 1)\n",
    "    sns.boxplot(df_11_EYE[col])\n",
    "    plt.title(f'Boxplot of {col}')\n",
    "    plt.xlabel(col)\n",
    "\n",
    "plt.tight_layout()\n",
    "plt.show()"
   ]
  },
  {
   "cell_type": "code",
   "execution_count": null,
   "id": "cf5056ac",
   "metadata": {},
   "outputs": [],
   "source": [
    "df_11_EYE.replace({-1: np.nan}, inplace=True)"
   ]
  },
  {
   "cell_type": "code",
   "execution_count": null,
   "id": "56d0d11a",
   "metadata": {},
   "outputs": [],
   "source": [
    "numeric_cols = df_11_EYE.select_dtypes(include=np.number).columns\n",
    "\n",
    "for col in numeric_cols:\n",
    "    df_11_EYE[col].fillna(df_11_EYE[col].mean(), inplace=True)"
   ]
  },
  {
   "cell_type": "code",
   "execution_count": null,
   "id": "b8f5c825",
   "metadata": {},
   "outputs": [],
   "source": [
    "df_11_EYE.head()"
   ]
  },
  {
   "cell_type": "code",
   "execution_count": null,
   "id": "69089cad",
   "metadata": {},
   "outputs": [],
   "source": [
    "# Select only the numeric columns for plotting histograms, excluding time-related columns\n",
    "numeric_cols = df_11_EYE.select_dtypes(include=np.number).columns\n",
    "cols_to_plot = [col for col in numeric_cols if col not in ['UnixTime']]\n",
    "\n",
    "# Calculate the number of rows and columns for the grid\n",
    "n_cols = 4  # You can adjust the number of columns as needed\n",
    "n_rows = (len(cols_to_plot) + n_cols - 1) // n_cols\n",
    "\n",
    "plt.figure(figsize=(n_cols * 5, n_rows * 4)) # Adjust figure size as needed\n",
    "\n",
    "for i, col in enumerate(cols_to_plot):\n",
    "    plt.subplot(n_rows, n_cols, i + 1)\n",
    "    sns.histplot(df_11_EYE[col], kde=True)\n",
    "    plt.title(f'Distribution of {col}')\n",
    "    plt.xlabel(col)\n",
    "    plt.ylabel('Frequency')\n",
    "\n",
    "plt.tight_layout()\n",
    "plt.show()"
   ]
  },
  {
   "cell_type": "code",
   "execution_count": null,
   "id": "b60cb7ba",
   "metadata": {},
   "outputs": [],
   "source": []
  },
  {
   "cell_type": "code",
   "execution_count": null,
   "id": "aa8f5d0d",
   "metadata": {},
   "outputs": [],
   "source": []
  },
  {
   "cell_type": "code",
   "execution_count": null,
   "id": "e94efbee",
   "metadata": {},
   "outputs": [],
   "source": []
  },
  {
   "cell_type": "code",
   "execution_count": null,
   "id": "5f1a3b26",
   "metadata": {},
   "outputs": [],
   "source": []
  },
  {
   "cell_type": "code",
   "execution_count": null,
   "id": "c8c9f296",
   "metadata": {},
   "outputs": [],
   "source": []
  },
  {
   "cell_type": "code",
   "execution_count": null,
   "id": "099b9b3f",
   "metadata": {},
   "outputs": [],
   "source": []
  },
  {
   "cell_type": "code",
   "execution_count": null,
   "id": "6dd81816",
   "metadata": {},
   "outputs": [],
   "source": []
  },
  {
   "cell_type": "code",
   "execution_count": null,
   "id": "daaf078d",
   "metadata": {},
   "outputs": [],
   "source": []
  },
  {
   "cell_type": "code",
   "execution_count": null,
   "id": "da44f510",
   "metadata": {},
   "outputs": [],
   "source": []
  },
  {
   "cell_type": "code",
   "execution_count": null,
   "id": "ed17f89a",
   "metadata": {},
   "outputs": [],
   "source": []
  },
  {
   "cell_type": "code",
   "execution_count": null,
   "id": "53ab2380",
   "metadata": {},
   "outputs": [],
   "source": []
  },
  {
   "cell_type": "code",
   "execution_count": null,
   "id": "ef267600",
   "metadata": {},
   "outputs": [],
   "source": []
  },
  {
   "cell_type": "markdown",
   "id": "eb7fde4c",
   "metadata": {},
   "source": [
    "# Eye Tracking Data Analysis\n",
    "\n",
    "This notebook performs exploratory data analysis and cleaning on eye-tracking data.\n",
    "\n",
    "## Data Loading and Initial Inspection"
   ]
  },
  {
   "cell_type": "code",
   "execution_count": null,
   "id": "275ad593",
   "metadata": {},
   "outputs": [],
   "source": [
    "%load_ext cudf"
   ]
  },
  {
   "cell_type": "markdown",
   "id": "2d460272",
   "metadata": {},
   "source": [
    "Import necessary libraries for data manipulation, analysis, and visualization."
   ]
  },
  {
   "cell_type": "code",
   "execution_count": null,
   "id": "8e8016e0",
   "metadata": {},
   "outputs": [],
   "source": [
    "import numpy as np\n",
    "import pandas as pd\n",
    "import matplotlib.pyplot as plt\n",
    "import seaborn as sns"
   ]
  },
  {
   "cell_type": "markdown",
   "id": "5b002c86",
   "metadata": {},
   "source": [
    "Import libraries for datashader, which can be used for visualizing large datasets."
   ]
  },
  {
   "cell_type": "code",
   "execution_count": null,
   "id": "1fb2705b",
   "metadata": {},
   "outputs": [],
   "source": [
    "import datashader as ds\n",
    "import datashader.transfer_functions as tf"
   ]
  },
  {
   "cell_type": "markdown",
   "id": "b2bffed8",
   "metadata": {},
   "source": [
    "Set pandas display options to show all columns."
   ]
  },
  {
   "cell_type": "code",
   "execution_count": null,
   "id": "2df03956",
   "metadata": {},
   "outputs": [],
   "source": [
    "pd.set_option('display.max_columns', None)"
   ]
  },
  {
   "cell_type": "markdown",
   "id": "930d9a91",
   "metadata": {},
   "source": [
    "Load the eye-tracking data from the specified CSV file into a pandas DataFrame."
   ]
  },
  {
   "cell_type": "code",
   "execution_count": null,
   "id": "dea55c74",
   "metadata": {},
   "outputs": [],
   "source": [
    "df_11_EYE = pd.read_csv('data/STData/11/11_EYE.csv')"
   ]
  },
  {
   "cell_type": "markdown",
   "id": "a82a8d5d",
   "metadata": {},
   "source": [
    "Display the first few rows of the DataFrame to get an initial look at the data structure and content."
   ]
  },
  {
   "cell_type": "code",
   "execution_count": null,
   "id": "bd4b8eca",
   "metadata": {},
   "outputs": [],
   "source": [
    "df_11_EYE.head()"
   ]
  },
  {
   "cell_type": "markdown",
   "id": "9d6e98c9",
   "metadata": {},
   "source": [
    "Check the dimensions (number of rows and columns) of the DataFrame."
   ]
  },
  {
   "cell_type": "code",
   "execution_count": null,
   "id": "cb51a01f",
   "metadata": {},
   "outputs": [],
   "source": [
    "df_11_EYE.shape"
   ]
  },
  {
   "cell_type": "markdown",
   "id": "a760b943",
   "metadata": {},
   "source": [
    "List the names of all columns in the DataFrame."
   ]
  },
  {
   "cell_type": "code",
   "execution_count": null,
   "id": "dde1e4ca",
   "metadata": {},
   "outputs": [],
   "source": [
    "df_11_EYE.columns"
   ]
  },
  {
   "cell_type": "markdown",
   "id": "a0e81c78",
   "metadata": {},
   "source": [
    "Display concise information about the DataFrame, including the data types of each column and the number of non-null values. This helps identify columns with missing data."
   ]
  },
  {
   "cell_type": "code",
   "execution_count": null,
   "id": "7052905a",
   "metadata": {},
   "outputs": [],
   "source": [
    "df_11_EYE.info()"
   ]
  },
  {
   "cell_type": "markdown",
   "id": "a89154f6",
   "metadata": {},
   "source": [
    "Calculate and display the number of missing values in each column."
   ]
  },
  {
   "cell_type": "code",
   "execution_count": null,
   "id": "d7709362",
   "metadata": {},
   "outputs": [],
   "source": [
    "df_11_EYE.isnull().sum()"
   ]
  },
  {
   "cell_type": "markdown",
   "id": "1e38ea6c",
   "metadata": {},
   "source": [
    "Visualize the distribution of missing values using a heatmap. This provides a visual representation of which columns have missing data and the extent of missingness."
   ]
  },
  {
   "cell_type": "code",
   "execution_count": null,
   "id": "6f090b32",
   "metadata": {},
   "outputs": [],
   "source": [
    "plt.figure(figsize=(12,8))\n",
    "sns.heatmap(df_11_EYE.isnull(), cmap='viridis')\n",
    "plt.show()"
   ]
  },
  {
   "cell_type": "markdown",
   "id": "a407fa61",
   "metadata": {},
   "source": [
    "# Notes & Observations\n",
    "\n",
    "- We observe many **null** (or missing) values in the `QuestionKey` columns.\n",
    "- The nulls in the `QuestionKey` column may not represent “true” nulls. Rather, they follow interval patterns, suggesting that during those periods no question was displayed.\n",
    "- These missing values in `QuestionKey` require additional investigation and context-aware handling."
   ]
  },
  {
   "cell_type": "markdown",
   "id": "08b27458",
   "metadata": {},
   "source": [
    "Display the unique values in the `QuestionKey` column to understand the different types of questions or states recorded."
   ]
  },
  {
   "cell_type": "code",
   "execution_count": null,
   "id": "4f83e220",
   "metadata": {},
   "outputs": [],
   "source": [
    "df_11_EYE['QuestionKey'].unique()"
   ]
  },
  {
   "cell_type": "markdown",
   "id": "2643b708",
   "metadata": {},
   "source": [
    "Convert the `Timestamp` column to datetime objects. This is crucial for any time series analysis or manipulation."
   ]
  },
  {
   "cell_type": "code",
   "execution_count": null,
   "id": "1ec3d948",
   "metadata": {},
   "outputs": [],
   "source": [
    "df_11_EYE['Timestamp'] = pd.to_datetime(df_11_EYE['Timestamp'])"
   ]
  },
  {
   "cell_type": "markdown",
   "id": "1749c7bf",
   "metadata": {},
   "source": [
    "Display the first few rows again to see the effect of the timestamp conversion."
   ]
  },
  {
   "cell_type": "code",
   "execution_count": null,
   "id": "ac07d4ec",
   "metadata": {},
   "outputs": [],
   "source": [
    "df_11_EYE.head(3)"
   ]
  },
  {
   "cell_type": "markdown",
   "id": "9f9b1de2",
   "metadata": {},
   "source": [
    "Fill the missing values in the `QuestionKey` column with the string 'None'. This helps to explicitly mark periods where no question was active."
   ]
  },
  {
   "cell_type": "code",
   "execution_count": null,
   "id": "c72ea7fa",
   "metadata": {},
   "outputs": [],
   "source": [
    "df_11_EYE['QuestionKey'].fillna('None', inplace=True)"
   ]
  },
  {
   "cell_type": "markdown",
   "id": "5ec71ee5",
   "metadata": {},
   "source": [
    "Count the occurrences of each unique value in the `QuestionKey` column after filling missing values."
   ]
  },
  {
   "cell_type": "code",
   "execution_count": null,
   "id": "21b070c7",
   "metadata": {},
   "outputs": [],
   "source": [
    "df_11_EYE['QuestionKey'].value_counts()"
   ]
  },
  {
   "cell_type": "markdown",
   "id": "dda725ea",
   "metadata": {},
   "source": [
    "Display the heatmap of missing values again to confirm that the missing values in `QuestionKey` have been handled."
   ]
  },
  {
   "cell_type": "code",
   "execution_count": null,
   "id": "f244bbbc",
   "metadata": {},
   "outputs": [],
   "source": [
    "plt.figure(figsize=(12,8))\n",
    "sns.heatmap(df_11_EYE.isnull(), cmap='viridis')\n",
    "plt.show()"
   ]
  },
  {
   "cell_type": "markdown",
   "id": "1c85a6aa",
   "metadata": {},
   "source": [
    "Recalculate and display the number of missing values per column to confirm the changes after handling `QuestionKey`."
   ]
  },
  {
   "cell_type": "code",
   "execution_count": null,
   "id": "a7e97003",
   "metadata": {},
   "outputs": [],
   "source": [
    "df_11_EYE.isnull().sum()"
   ]
  },
  {
   "cell_type": "markdown",
   "id": "024d2908",
   "metadata": {},
   "source": [
    "Drop rows that still contain any missing values. This is done after handling `QuestionKey` separately."
   ]
  },
  {
   "cell_type": "code",
   "execution_count": null,
   "id": "f3c2f3ba",
   "metadata": {},
   "outputs": [],
   "source": [
    "df_11_EYE.dropna(inplace=True)"
   ]
  },
  {
   "cell_type": "markdown",
   "id": "fa6b19fa",
   "metadata": {},
   "source": [
    "Display the first few rows after dropping rows with missing values."
   ]
  },
  {
   "cell_type": "code",
   "execution_count": null,
   "id": "72d5f5c4",
   "metadata": {},
   "outputs": [],
   "source": [
    "df_11_EYE.head()"
   ]
  },
  {
   "cell_type": "markdown",
   "id": "896e80fb",
   "metadata": {},
   "source": [
    "Display the unique values in the `Row` column."
   ]
  },
  {
   "cell_type": "code",
   "execution_count": null,
   "id": "5271e659",
   "metadata": {},
   "outputs": [],
   "source": [
    "df_11_EYE['Row'].unique()"
   ]
  },
  {
   "cell_type": "markdown",
   "id": "3826d2e2",
   "metadata": {},
   "source": [
    "Plot a histogram of the `Row` column to visualize its distribution."
   ]
  },
  {
   "cell_type": "code",
   "execution_count": null,
   "id": "760f34eb",
   "metadata": {},
   "outputs": [],
   "source": [
    "plt.figure(figsize=(8,6))\n",
    "sns.histplot(df_11_EYE['Row'])\n",
    "plt.show()"
   ]
  },
  {
   "cell_type": "markdown",
   "id": "a5a583be",
   "metadata": {},
   "source": [
    "# Notes & Observations\n",
    "\n",
    "- The `Row` column appears to be a simple row index and does not provide meaningful information relevant to the eye-tracking data itself. Therefore, it can be dropped."
   ]
  },
  {
   "cell_type": "markdown",
   "id": "c8a3d8d4",
   "metadata": {},
   "source": [
    "Drop the `Row` column as it is not relevant for the analysis."
   ]
  },
  {
   "cell_type": "code",
   "execution_count": null,
   "id": "cdf7cd21",
   "metadata": {},
   "outputs": [],
   "source": [
    "df_11_EYE.drop('Row', axis=1, inplace=True)"
   ]
  },
  {
   "cell_type": "markdown",
   "id": "33078617",
   "metadata": {},
   "source": [
    "Display the unique values in the `ET_ValidityLeft` column."
   ]
  },
  {
   "cell_type": "code",
   "execution_count": null,
   "id": "20ae6830",
   "metadata": {},
   "outputs": [],
   "source": [
    "df_11_EYE['ET_ValidityLeft'].unique()"
   ]
  },
  {
   "cell_type": "markdown",
   "id": "04c501d3",
   "metadata": {},
   "source": [
    "Count the occurrences of each unique value in the `ET_ValidityLeft` column."
   ]
  },
  {
   "cell_type": "code",
   "execution_count": null,
   "id": "39695126",
   "metadata": {},
   "outputs": [],
   "source": [
    "df_11_EYE['ET_ValidityLeft'].value_counts()"
   ]
  },
  {
   "cell_type": "markdown",
   "id": "c2befcfa",
   "metadata": {},
   "source": [
    "Display the unique values in the `ET_ValidityRight` column."
   ]
  },
  {
   "cell_type": "code",
   "execution_count": null,
   "id": "501d992a",
   "metadata": {},
   "outputs": [],
   "source": [
    "df_11_EYE['ET_ValidityRight'].unique()"
   ]
  },
  {
   "cell_type": "markdown",
   "id": "8cc9005f",
   "metadata": {},
   "source": [
    "Count the occurrences of each unique value in the `ET_ValidityRight` column."
   ]
  },
  {
   "cell_type": "code",
   "execution_count": null,
   "id": "ba4db0a7",
   "metadata": {},
   "outputs": [],
   "source": [
    "df_11_EYE['ET_ValidityRight'].value_counts()"
   ]
  },
  {
   "cell_type": "markdown",
   "id": "e83d8f12",
   "metadata": {},
   "source": [
    "Visualize the counts of valid and invalid data for both left and right eyes using bar plots."
   ]
  },
  {
   "cell_type": "code",
   "execution_count": null,
   "id": "ea21b667",
   "metadata": {},
   "outputs": [],
   "source": [
    "plt.figure(figsize=(12, 6))\n",
    "\n",
    "plt.subplot(1, 2, 1)\n",
    "sns.barplot(x=df_11_EYE['ET_ValidityLeft'].value_counts().index, y=df_11_EYE['ET_ValidityLeft'].value_counts().values)\n",
    "plt.title('Count of ET_ValidityLeft')\n",
    "plt.xlabel('Validity')\n",
    "plt.ylabel('Count')\n",
    "\n",
    "\n",
    "plt.subplot(1, 2, 2)\n",
    "sns.barplot(x=df_11_EYE['ET_ValidityRight'].value_counts().index, y=df_11_EYE['ET_ValidityRight'].value_counts().values)\n",
    "plt.title('Count of ET_ValidityRight')\n",
    "plt.xlabel('Validity')\n",
    "plt.ylabel('Count')\n",
    "\n",
    "plt.tight_layout()\n",
    "plt.show()"
   ]
  },
  {
   "cell_type": "markdown",
   "id": "b131e2ca",
   "metadata": {},
   "source": [
    "# Notes & Observations\n",
    "\n",
    "- The `ET_ValidityLeft` and `ET_ValidityRight` columns indicate the validity of the eye-tracking data for the left and right eye, respectively.\n",
    "- Based on the value counts and the bar plots, it appears that a value of `0.0` represents valid eye-tracking data, while a value of `4.0` represents invalid data.\n",
    "- Although the amount of invalid data is relatively small, removing these rows could introduce unwanted patterns or gaps in the time series data.\n",
    "- Therefore, we will keep the data and replace the value `4.0` with `1.0` in both `ET_ValidityLeft` and `ET_ValidityRight` columns. This will indicate to a machine learning model that the eye tracker had invalid data at those specific points in time while maintaining the integrity of the time series."
   ]
  },
  {
   "cell_type": "markdown",
   "id": "22776f3d",
   "metadata": {},
   "source": [
    "Define a mapping to convert validity values from `0.0` and `4.0` to `0` and `1`."
   ]
  },
  {
   "cell_type": "code",
   "execution_count": null,
   "id": "acd1b193",
   "metadata": {},
   "outputs": [],
   "source": [
    "validity_map = {4.0: 1.0, 0.0: 0.0}"
   ]
  },
  {
   "cell_type": "markdown",
   "id": "740977f3",
   "metadata": {},
   "source": [
    "Apply the mapping to the `ET_ValidityLeft` and `ET_ValidityRight` columns and convert the data type to integer."
   ]
  },
  {
   "cell_type": "code",
   "execution_count": null,
   "id": "6cca3b69",
   "metadata": {},
   "outputs": [],
   "source": [
    "df_11_EYE['ET_ValidityLeft'] = df_11_EYE['ET_ValidityLeft'].map(validity_map).astype(np.int8)\n",
    "df_11_EYE['ET_ValidityRight'] = df_11_EYE['ET_ValidityRight'].map(validity_map).astype(np.int8)"
   ]
  },
  {
   "cell_type": "markdown",
   "id": "38aa7e49",
   "metadata": {},
   "source": [
    "Display the first few rows to see the updated validity columns."
   ]
  },
  {
   "cell_type": "code",
   "execution_count": null,
   "id": "d1d8864d",
   "metadata": {},
   "outputs": [],
   "source": [
    "df_11_EYE.head(3)"
   ]
  },
  {
   "cell_type": "markdown",
   "id": "45392d78",
   "metadata": {},
   "source": [
    "Display descriptive statistics for the DataFrame, including count, mean, standard deviation, min, max, and quartiles for numeric columns."
   ]
  },
  {
   "cell_type": "code",
   "execution_count": null,
   "id": "ace21421",
   "metadata": {},
   "outputs": [],
   "source": [
    "df_11_EYE.describe()"
   ]
  },
  {
   "cell_type": "markdown",
   "id": "7201d784",
   "metadata": {},
   "source": [
    "Check the number of rows where `ET_ValidityLeft` is 1 (invalid data for the left eye)."
   ]
  },
  {
   "cell_type": "code",
   "execution_count": null,
   "id": "dafc94b4",
   "metadata": {},
   "outputs": [],
   "source": [
    "df_11_EYE[df_11_EYE['ET_ValidityLeft'] == 1].shape"
   ]
  },
  {
   "cell_type": "markdown",
   "id": "b3e19a71",
   "metadata": {},
   "source": [
    "Check the number of rows where `ET_ValidityRight` is 1 (invalid data for the right eye)."
   ]
  },
  {
   "cell_type": "code",
   "execution_count": null,
   "id": "cd25f11b",
   "metadata": {},
   "outputs": [],
   "source": [
    "df_11_EYE[df_11_EYE['ET_ValidityRight'] == 1].shape"
   ]
  },
  {
   "cell_type": "markdown",
   "id": "7da07a6f",
   "metadata": {},
   "source": [
    "Visualize the distribution of -1 and 1 values across columns using heatmaps. This helps identify columns with placeholder or indicator values."
   ]
  },
  {
   "cell_type": "code",
   "execution_count": null,
   "id": "ca614d68",
   "metadata": {},
   "outputs": [],
   "source": [
    "plt.figure(figsize=(18, 8))\n",
    "\n",
    "plt.subplot(1, 2, 1)\n",
    "sns.heatmap(df_11_EYE == -1, cmap='viridis')\n",
    "plt.title('Heatmap of -1 Values')\n",
    "\n",
    "plt.subplot(1, 2, 2)\n",
    "sns.heatmap(df_11_EYE == 1, cmap='viridis')\n",
    "plt.title('Heatmap of 1 Values')\n",
    "\n",
    "plt.tight_layout()\n",
    "plt.show()"
   ]
  },
  {
   "cell_type": "markdown",
   "id": "cafa81ef",
   "metadata": {},
   "source": [
    "Check the number of rows where `ET_PupilLeft` is -1."
   ]
  },
  {
   "cell_type": "code",
   "execution_count": null,
   "id": "9add408e",
   "metadata": {},
   "outputs": [],
   "source": [
    "df_11_EYE[df_11_EYE['ET_PupilLeft'] == -1].shape"
   ]
  },
  {
   "cell_type": "markdown",
   "id": "3bf4be57",
   "metadata": {},
   "source": [
    "Check the number of rows where `ET_PupilRight` is -1."
   ]
  },
  {
   "cell_type": "code",
   "execution_count": null,
   "id": "b63ac681",
   "metadata": {},
   "outputs": [],
   "source": [
    "df_11_EYE[df_11_EYE['ET_PupilRight'] == -1].shape"
   ]
  },
  {
   "cell_type": "markdown",
   "id": "cf884c81",
   "metadata": {},
   "source": [
    "Calculate the ratio of rows with -1 values in the `ET_PupilLeft` column to the total number of rows."
   ]
  },
  {
   "cell_type": "code",
   "execution_count": null,
   "id": "d76a0576",
   "metadata": {},
   "outputs": [],
   "source": [
    "df_11_EYE[df_11_EYE['ET_PupilLeft'] == -1].shape[0] / df_11_EYE.shape[0]"
   ]
  },
  {
   "cell_type": "markdown",
   "id": "25a1226f",
   "metadata": {},
   "source": [
    "Calculate the ratio of rows with -1 values in the `ET_PupilRight` column to the total number of rows."
   ]
  },
  {
   "cell_type": "code",
   "execution_count": null,
   "id": "df0aec12",
   "metadata": {},
   "outputs": [],
   "source": [
    "df_11_EYE[df_11_EYE['ET_PupilRight'] == -1].shape[0] / df_11_EYE.shape[0]"
   ]
  },
  {
   "cell_type": "markdown",
   "id": "8d7aa67e",
   "metadata": {},
   "source": [
    "Visualize the distribution of -1 values specifically for rows where validity is 1 (invalid data)."
   ]
  },
  {
   "cell_type": "code",
   "execution_count": null,
   "id": "0f1df211",
   "metadata": {},
   "outputs": [],
   "source": [
    "plt.figure(figsize=(18, 8))\n",
    "\n",
    "plt.subplot(1, 2, 1)\n",
    "sns.heatmap(df_11_EYE[df_11_EYE['ET_ValidityLeft'] == 1] == -1, cmap='viridis')\n",
    "plt.title('Heatmap of -1 Values')\n",
    "\n",
    "plt.subplot(1, 2, 2)\n",
    "sns.heatmap(df_11_EYE[df_11_EYE['ET_ValidityRight'] == 1] == -1, cmap='viridis')\n",
    "plt.title('Heatmap of -1 Values')\n",
    "\n",
    "plt.tight_layout()\n",
    "plt.show()"
   ]
  },
  {
   "cell_type": "markdown",
   "id": "962528df",
   "metadata": {},
   "source": [
    "# Notes & Observations\n",
    "\n",
    "- The heatmaps reveal the distribution of -1 values across different columns.\n",
    "- It is evident that the `-1` values are not randomly scattered but appear in specific columns, notably `ET_GazeLeftx`, `ET_GazeLefty`, `ET_GazeRightx`, `ET_GazeRighty`, `ET_PupilLeft`, `ET_PupilRight`, `ET_DistanceLeft`, `ET_DistanceRight`, `ET_CameraLeftX`, `ET_CameraLeftY`, `ET_CameraRightX`, and `ET_CameraRightY`.\n",
    "- These `-1` values often coincide with instances where `ET_ValidityLeft` or `ET_ValidityRight` is 1, indicating invalid eye-tracking data. This suggests that `-1` is used as a placeholder for missing or invalid measurements in these columns when the eye tracker is not providing valid data for a particular eye.\n",
    "- Given that over 70% of the data in the `ET_PupilLeft` and `ET_PupilRight` columns is marked as invalid (-1), these columns may not be suitable for analysis and could be considered for dropping."
   ]
  },
  {
   "cell_type": "markdown",
   "id": "0080ca75",
   "metadata": {},
   "source": [
    "Drop the `ET_PupilLeft` and `ET_PupilRight` columns due to the high percentage of invalid data."
   ]
  },
  {
   "cell_type": "code",
   "execution_count": null,
   "id": "7e9d8c21",
   "metadata": {},
   "outputs": [],
   "source": [
    "df_11_EYE.drop(['ET_PupilLeft', 'ET_PupilRight'], axis=1, inplace=True)"
   ]
  },
  {
   "cell_type": "markdown",
   "id": "1b657c3f",
   "metadata": {},
   "source": [
    "Display the first few rows after dropping the pupil columns."
   ]
  },
  {
   "cell_type": "code",
   "execution_count": null,
   "id": "acbf765f",
   "metadata": {},
   "outputs": [],
   "source": [
    "df_11_EYE.head()"
   ]
  },
  {
   "cell_type": "markdown",
   "id": "188f45cc",
   "metadata": {},
   "source": [
    "Visualize the distribution of -1 and 1 values again after dropping the pupil columns."
   ]
  },
  {
   "cell_type": "code",
   "execution_count": null,
   "id": "3894a416",
   "metadata": {},
   "outputs": [],
   "source": [
    "plt.figure(figsize=(18, 8))\n",
    "\n",
    "plt.subplot(1, 2, 1)\n",
    "sns.heatmap(df_11_EYE == -1, cmap='viridis')\n",
    "plt.title('Heatmap of -1 Values')\n",
    "\n",
    "plt.subplot(1, 2, 2)\n",
    "sns.heatmap(df_11_EYE == 1, cmap='viridis')\n",
    "plt.title('Heatmap of -1 Values')\n",
    "\n",
    "plt.tight_layout()\n",
    "plt.show()"
   ]
  },
  {
   "cell_type": "markdown",
   "id": "b371dcb0",
   "metadata": {},
   "source": [
    "Calculate the ratio of valid data points for the left eye."
   ]
  },
  {
   "cell_type": "code",
   "execution_count": null,
   "id": "0a861ad0",
   "metadata": {},
   "outputs": [],
   "source": [
    "valid_left_ratio  = 1 - df_11_EYE['ET_ValidityLeft'].mean()"
   ]
  },
  {
   "cell_type": "markdown",
   "id": "c679f071",
   "metadata": {},
   "source": [
    "Display the ratio of valid data points for the left eye."
   ]
  },
  {
   "cell_type": "code",
   "execution_count": null,
   "id": "671e1390",
   "metadata": {},
   "outputs": [],
   "source": [
    "valid_left_ratio"
   ]
  },
  {
   "cell_type": "markdown",
   "id": "20a76e0d",
   "metadata": {},
   "source": [
    "Calculate the ratio of valid data points for the right eye."
   ]
  },
  {
   "cell_type": "code",
   "execution_count": null,
   "id": "aeea8a1e",
   "metadata": {},
   "outputs": [],
   "source": [
    "valid_right_ratio = 1 - df_11_EYE['ET_ValidityRight'].mean()"
   ]
  },
  {
   "cell_type": "markdown",
   "id": "03623fa9",
   "metadata": {},
   "source": [
    "Display the ratio of valid data points for the right eye."
   ]
  },
  {
   "cell_type": "code",
   "execution_count": null,
   "id": "fdab406d",
   "metadata": {},
   "outputs": [],
   "source": [
    "valid_right_ratio"
   ]
  },
  {
   "cell_type": "markdown",
   "id": "a7402e30",
   "metadata": {},
   "source": [
    "Display the first few rows of the DataFrame."
   ]
  },
  {
   "cell_type": "code",
   "execution_count": null,
   "id": "f93826a3",
   "metadata": {},
   "outputs": [],
   "source": [
    "df_11_EYE.head()"
   ]
  },
  {
   "cell_type": "markdown",
   "id": "ce067818",
   "metadata": {},
   "source": [
    "Visualize the distributions of numeric columns using histograms with Kernel Density Estimate (KDE) plots. This helps understand the shape and spread of the data in each numeric column."
   ]
  },
  {
   "cell_type": "code",
   "execution_count": null,
   "id": "c32704c9",
   "metadata": {},
   "outputs": [],
   "source": [
    "# Select only the numeric columns for plotting histograms, excluding time-related columns\n",
    "numeric_cols = df_11_EYE.select_dtypes(include=np.number).columns\n",
    "cols_to_plot = [col for col in numeric_cols if col not in ['UnixTime']]\n",
    "\n",
    "# Calculate the number of rows and columns for the grid\n",
    "n_cols = 4  # You can adjust the number of columns as needed\n",
    "n_rows = (len(cols_to_plot) + n_cols - 1) // n_cols\n",
    "\n",
    "plt.figure(figsize=(n_cols * 5, n_rows * 4)) # Adjust figure size as needed\n",
    "\n",
    "for i, col in enumerate(cols_to_plot):\n",
    "    plt.subplot(n_rows, n_cols, i + 1)\n",
    "    sns.histplot(df_11_EYE[col], kde=True)\n",
    "    plt.title(f'Distribution of {col}')\n",
    "    plt.xlabel(col)\n",
    "    plt.ylabel('Frequency')\n",
    "\n",
    "plt.tight_layout()\n",
    "plt.show()"
   ]
  },
  {
   "cell_type": "markdown",
   "id": "f65d7000",
   "metadata": {},
   "source": [
    "List the names of the columns in the DataFrame."
   ]
  },
  {
   "cell_type": "code",
   "execution_count": null,
   "id": "e7988043",
   "metadata": {},
   "outputs": [],
   "source": [
    "df_11_EYE.columns"
   ]
  },
  {
   "cell_type": "markdown",
   "id": "885b3a3d",
   "metadata": {},
   "source": [
    "Define a list of columns to be plotted over time."
   ]
  },
  {
   "cell_type": "code",
   "execution_count": null,
   "id": "a5011558",
   "metadata": {},
   "outputs": [],
   "source": [
    "cols = ['ET_GazeLeftx', 'ET_GazeLefty',\n",
    "       'ET_GazeRightx', 'ET_GazeRighty', 'ET_TimeSignal', 'ET_DistanceLeft',\n",
    "       'ET_DistanceRight', 'ET_CameraLeftX', 'ET_CameraLeftY',\n",
    "       'ET_CameraRightX', 'ET_CameraRightY', 'ET_ValidityLeft',\n",
    "       'ET_ValidityRight']"
   ]
  },
  {
   "cell_type": "markdown",
   "id": "5c3640f4",
   "metadata": {},
   "source": [
    "Plot each of the selected columns against the timestamp to visualize their trends and patterns over time. Markdown cells are added before each plot for better readability."
   ]
  },
  {
   "cell_type": "code",
   "execution_count": null,
   "id": "362dc2f2",
   "metadata": {},
   "outputs": [],
   "source": [
    "from IPython.display import display, Markdown\n",
    "\n",
    "for col in cols:\n",
    "    # Add a markdown cell before each plot for better separation and labeling\n",
    "    display(Markdown(f'### {col} over Time'))\n",
    "    plt.figure(figsize=(16, 10))\n",
    "    plt.plot(df_11_EYE['Timestamp'], df_11_EYE[col])\n",
    "    plt.xlabel(\"Timestamp\") # Add x-axis label\n",
    "    plt.ylabel(col) # Add y-axis label\n",
    "    plt.show()"
   ]
  },
  {
   "cell_type": "markdown",
   "id": "1ddbf810",
   "metadata": {},
   "source": [
    "Visualize the distributions of numeric columns using boxplots. This helps identify potential outliers and the spread of the data."
   ]
  },
  {
   "cell_type": "code",
   "execution_count": null,
   "id": "82922596",
   "metadata": {},
   "outputs": [],
   "source": [
    "# Select only the numeric columns for plotting histograms, excluding time-related columns\n",
    "numeric_cols = df_11_EYE.select_dtypes(include=np.number).columns\n",
    "\n",
    "# Calculate the number of rows and columns for the grid\n",
    "n_cols = 4  # You can adjust the number of columns as needed\n",
    "n_rows = (len(numeric_cols) + n_cols - 1) // n_cols\n",
    "\n",
    "plt.figure(figsize=(n_cols * 5, n_rows * 4)) # Adjust figure size as needed\n",
    "\n",
    "for i, col in enumerate(numeric_cols):\n",
    "    plt.subplot(n_rows, n_cols, i + 1)\n",
    "    sns.boxplot(df_11_EYE[col])\n",
    "    plt.title(f'Boxplot of {col}')\n",
    "    plt.xlabel(col)\n",
    "\n",
    "plt.tight_layout()\n",
    "plt.show()"
   ]
  },
  {
   "cell_type": "markdown",
   "id": "57221739",
   "metadata": {},
   "source": [
    "Replace the placeholder value -1 with NaN (Not a Number) in the DataFrame. This is done before imputation."
   ]
  },
  {
   "cell_type": "code",
   "execution_count": null,
   "id": "10475bb0",
   "metadata": {},
   "outputs": [],
   "source": [
    "df_11_EYE.replace({-1: np.nan}, inplace=True)"
   ]
  },
  {
   "cell_type": "markdown",
   "id": "51ffc6bb",
   "metadata": {},
   "source": [
    "Impute the missing values (NaN) in the numeric columns with the mean of each column."
   ]
  },
  {
   "cell_type": "code",
   "execution_count": null,
   "id": "f58ba4e8",
   "metadata": {},
   "outputs": [],
   "source": [
    "numeric_cols = df_11_EYE.select_dtypes(include=np.number).columns\n",
    "\n",
    "for col in numeric_cols:\n",
    "    df_11_EYE[col].fillna(df_11_EYE[col].mean(), inplace=True)"
   ]
  },
  {
   "cell_type": "markdown",
   "id": "10790309",
   "metadata": {},
   "source": [
    "Display the first few rows after imputing missing values."
   ]
  },
  {
   "cell_type": "code",
   "execution_count": null,
   "id": "29ea35d5",
   "metadata": {},
   "outputs": [],
   "source": [
    "df_11_EYE.head()"
   ]
  },
  {
   "cell_type": "markdown",
   "id": "187601c8",
   "metadata": {},
   "source": [
    "Visualize the distributions of numeric columns again using histograms with KDE plots after imputation. This helps assess the impact of imputation on the data distributions."
   ]
  },
  {
   "cell_type": "code",
   "execution_count": null,
   "id": "d6cc6f7a",
   "metadata": {},
   "outputs": [],
   "source": [
    "# Select only the numeric columns for plotting histograms, excluding time-related columns\n",
    "numeric_cols = df_11_EYE.select_dtypes(include=np.number).columns\n",
    "cols_to_plot = [col for col in numeric_cols if col not in ['UnixTime']]\n",
    "\n",
    "# Calculate the number of rows and columns for the grid\n",
    "n_cols = 4  # You can adjust the number of columns as needed\n",
    "n_rows = (len(cols_to_plot) + n_cols - 1) // n_cols\n",
    "\n",
    "plt.figure(figsize=(n_cols * 5, n_rows * 4)) # Adjust figure size as needed\n",
    "\n",
    "for i, col in enumerate(cols_to_plot):\n",
    "    plt.subplot(n_rows, n_cols, i + 1)\n",
    "    sns.histplot(df_11_EYE[col], kde=True)\n",
    "    plt.title(f'Distribution of {col}')\n",
    "    plt.xlabel(col)\n",
    "    plt.ylabel('Frequency')\n",
    "\n",
    "plt.tight_layout()\n",
    "plt.show()"
   ]
  },
  {
   "cell_type": "code",
   "execution_count": null,
   "id": "2ca26050",
   "metadata": {},
   "outputs": [],
   "source": []
  },
  {
   "cell_type": "markdown",
   "id": "abd43ad6",
   "metadata": {},
   "source": [
    "## Student 12"
   ]
  },
  {
   "cell_type": "code",
   "execution_count": null,
   "id": "1e64d619",
   "metadata": {},
   "outputs": [],
   "source": [
    "%load_ext cudf"
   ]
  },
  {
   "cell_type": "code",
   "execution_count": null,
   "id": "ab007671",
   "metadata": {},
   "outputs": [],
   "source": [
    "import numpy as np\n",
    "import pandas as pd\n",
    "import matplotlib.pyplot as plt\n",
    "import seaborn as sns"
   ]
  },
  {
   "cell_type": "code",
   "execution_count": null,
   "id": "6fc79e09",
   "metadata": {},
   "outputs": [],
   "source": [
    "import datashader as ds\n",
    "import datashader.transfer_functions as tf"
   ]
  },
  {
   "cell_type": "code",
   "execution_count": null,
   "id": "5d44b183",
   "metadata": {},
   "outputs": [],
   "source": [
    "pd.set_option('display.max_columns', None)"
   ]
  },
  {
   "cell_type": "code",
   "execution_count": null,
   "id": "503bffa2",
   "metadata": {},
   "outputs": [],
   "source": [
    "df_12_EYE = pd.read_csv('data/STData/12/12_EYE.csv')"
   ]
  },
  {
   "cell_type": "code",
   "execution_count": null,
   "id": "7f41ebfd",
   "metadata": {},
   "outputs": [],
   "source": [
    "df_12_EYE.head()"
   ]
  },
  {
   "cell_type": "code",
   "execution_count": null,
   "id": "bfd97688",
   "metadata": {},
   "outputs": [],
   "source": [
    "df_12_EYE.shape"
   ]
  },
  {
   "cell_type": "code",
   "execution_count": null,
   "id": "fc2baa5d",
   "metadata": {},
   "outputs": [],
   "source": [
    "df_12_EYE.columns"
   ]
  },
  {
   "cell_type": "code",
   "execution_count": null,
   "id": "1fb46bcf",
   "metadata": {},
   "outputs": [],
   "source": [
    "df_12_EYE.info()"
   ]
  },
  {
   "cell_type": "code",
   "execution_count": null,
   "id": "ddfde1a2",
   "metadata": {},
   "outputs": [],
   "source": [
    "df_12_EYE.isnull().sum()"
   ]
  },
  {
   "cell_type": "code",
   "execution_count": null,
   "id": "0adc24d4",
   "metadata": {},
   "outputs": [],
   "source": [
    "plt.figure(figsize=(12,8))\n",
    "sns.heatmap(df_12_EYE.isnull(), cmap='viridis')\n",
    "plt.show()"
   ]
  },
  {
   "cell_type": "markdown",
   "id": "b06c5cb6",
   "metadata": {},
   "source": [
    "# Notes & Observations\n",
    "\n",
    "- We observe many **null** (or missing) values in the `QuestionKey` columns.  \n",
    "- The nulls in the `QuestionKey` column may not represent “true” nulls. Rather, they follow interval patterns, suggesting that during those periods no question was displayed.  \n",
    "- These missing values in `QuestionKey` require additional investigation and context-aware handling.  "
   ]
  },
  {
   "cell_type": "code",
   "execution_count": null,
   "id": "7c876835",
   "metadata": {},
   "outputs": [],
   "source": [
    "df_12_EYE['QuestionKey'].unique()"
   ]
  },
  {
   "cell_type": "code",
   "execution_count": null,
   "id": "c272eead",
   "metadata": {},
   "outputs": [],
   "source": [
    "df_12_EYE['Timestamp'] = pd.to_datetime(df_12_EYE['Timestamp'])"
   ]
  },
  {
   "cell_type": "code",
   "execution_count": null,
   "id": "97e1b669",
   "metadata": {},
   "outputs": [],
   "source": [
    "df_12_EYE.head(3)"
   ]
  },
  {
   "cell_type": "code",
   "execution_count": null,
   "id": "325ce25f",
   "metadata": {},
   "outputs": [],
   "source": [
    "df_12_EYE['QuestionKey'].fillna('None', inplace=True)"
   ]
  },
  {
   "cell_type": "code",
   "execution_count": null,
   "id": "4da7ef2e",
   "metadata": {},
   "outputs": [],
   "source": [
    "df_12_EYE['QuestionKey'].value_counts()"
   ]
  },
  {
   "cell_type": "code",
   "execution_count": null,
   "id": "d370387d",
   "metadata": {},
   "outputs": [],
   "source": [
    "plt.figure(figsize=(12,8))\n",
    "sns.heatmap(df_12_EYE.isnull(), cmap='viridis')\n",
    "plt.show()"
   ]
  },
  {
   "cell_type": "code",
   "execution_count": null,
   "id": "b7073d3a",
   "metadata": {},
   "outputs": [],
   "source": [
    "df_12_EYE.isnull().sum()"
   ]
  },
  {
   "cell_type": "code",
   "execution_count": null,
   "id": "2028c15c",
   "metadata": {},
   "outputs": [],
   "source": [
    "df_12_EYE.dropna(inplace=True)"
   ]
  },
  {
   "cell_type": "code",
   "execution_count": null,
   "id": "28f476d4",
   "metadata": {},
   "outputs": [],
   "source": [
    "df_12_EYE.head()"
   ]
  },
  {
   "cell_type": "code",
   "execution_count": null,
   "id": "b59c4d2b",
   "metadata": {},
   "outputs": [],
   "source": [
    "df_12_EYE['Row'].unique()"
   ]
  },
  {
   "cell_type": "code",
   "execution_count": null,
   "id": "f5b43cc4",
   "metadata": {},
   "outputs": [],
   "source": [
    "plt.figure(figsize=(8,6))\n",
    "sns.histplot(df_12_EYE['Row'])\n",
    "plt.show()"
   ]
  },
  {
   "cell_type": "markdown",
   "id": "5a41d8b6",
   "metadata": {},
   "source": [
    "# Notes & Observations\n",
    "\n",
    "- The `Row` column appears to be a simple row index and does not provide meaningful information relevant to the eye-tracking data itself. Therefore, it can be dropped."
   ]
  },
  {
   "cell_type": "code",
   "execution_count": null,
   "id": "9aa201fa",
   "metadata": {},
   "outputs": [],
   "source": [
    "df_12_EYE.drop('Row', axis=1, inplace=True)"
   ]
  },
  {
   "cell_type": "code",
   "execution_count": null,
   "id": "9cc9e285",
   "metadata": {},
   "outputs": [],
   "source": [
    "df_12_EYE['ET_ValidityLeft'].unique()"
   ]
  },
  {
   "cell_type": "code",
   "execution_count": null,
   "id": "494497f9",
   "metadata": {},
   "outputs": [],
   "source": [
    "df_12_EYE['ET_ValidityLeft'].value_counts()"
   ]
  },
  {
   "cell_type": "code",
   "execution_count": null,
   "id": "6b7cfaac",
   "metadata": {},
   "outputs": [],
   "source": [
    "df_12_EYE['ET_ValidityRight'].unique()"
   ]
  },
  {
   "cell_type": "code",
   "execution_count": null,
   "id": "fabef2b5",
   "metadata": {},
   "outputs": [],
   "source": [
    "df_12_EYE['ET_ValidityRight'].value_counts()"
   ]
  },
  {
   "cell_type": "code",
   "execution_count": null,
   "id": "c85e0068",
   "metadata": {},
   "outputs": [],
   "source": [
    "plt.figure(figsize=(12, 6))\n",
    "\n",
    "plt.subplot(1, 2, 1)\n",
    "sns.barplot(x=df_12_EYE['ET_ValidityLeft'].value_counts().index, y=df_12_EYE['ET_ValidityLeft'].value_counts().values)\n",
    "plt.title('Count of ET_ValidityLeft')\n",
    "plt.xlabel('Validity')\n",
    "plt.ylabel('Count')\n",
    "\n",
    "\n",
    "plt.subplot(1, 2, 2)\n",
    "sns.barplot(x=df_12_EYE['ET_ValidityRight'].value_counts().index, y=df_12_EYE['ET_ValidityRight'].value_counts().values)\n",
    "plt.title('Count of ET_ValidityRight')\n",
    "plt.xlabel('Validity')\n",
    "plt.ylabel('Count')\n",
    "\n",
    "plt.tight_layout()\n",
    "plt.show()"
   ]
  },
  {
   "cell_type": "markdown",
   "id": "fefbd642",
   "metadata": {},
   "source": [
    "# Notes & Observations\n",
    "\n",
    "- The `ET_ValidityLeft` and `ET_ValidityRight` columns indicate the validity of the eye-tracking data for the left and right eye, respectively.\n",
    "- Based on the value counts and the bar plots, it appears that a value of `0.0` represents valid eye-tracking data, while a value of `4.0` represents invalid data.\n",
    "- Although the amount of invalid data is relatively small, removing these rows could introduce unwanted patterns or gaps in the time series data.\n",
    "- Therefore, we will keep the data and replace the value `4.0` with `1.0` in both `ET_ValidityLeft` and `ET_ValidityRight` columns. This will indicate to a machine learning model that the eye tracker had invalid data at those specific points in time while maintaining the integrity of the time series."
   ]
  },
  {
   "cell_type": "code",
   "execution_count": null,
   "id": "991d8299",
   "metadata": {},
   "outputs": [],
   "source": [
    "validity_map = {4.0: 1.0, 0.0: 0.0}"
   ]
  },
  {
   "cell_type": "code",
   "execution_count": null,
   "id": "079c450e",
   "metadata": {},
   "outputs": [],
   "source": [
    "df_12_EYE['ET_ValidityLeft'] = df_12_EYE['ET_ValidityLeft'].map(validity_map).astype(np.int8)\n",
    "df_12_EYE['ET_ValidityRight'] = df_12_EYE['ET_ValidityRight'].map(validity_map).astype(np.int8)"
   ]
  },
  {
   "cell_type": "code",
   "execution_count": null,
   "id": "0042d44a",
   "metadata": {},
   "outputs": [],
   "source": [
    "df_12_EYE.head(3)"
   ]
  },
  {
   "cell_type": "code",
   "execution_count": null,
   "id": "47ca1203",
   "metadata": {},
   "outputs": [],
   "source": [
    "df_12_EYE.describe()"
   ]
  },
  {
   "cell_type": "code",
   "execution_count": null,
   "id": "78611c3c",
   "metadata": {},
   "outputs": [],
   "source": [
    "df_12_EYE[df_12_EYE['ET_ValidityLeft'] == 1].shape"
   ]
  },
  {
   "cell_type": "code",
   "execution_count": null,
   "id": "48a16877",
   "metadata": {},
   "outputs": [],
   "source": [
    "df_12_EYE[df_12_EYE['ET_ValidityRight'] == 1].shape"
   ]
  },
  {
   "cell_type": "code",
   "execution_count": null,
   "id": "f615d5e1",
   "metadata": {},
   "outputs": [],
   "source": [
    "plt.figure(figsize=(18, 8))\n",
    "\n",
    "plt.subplot(1, 2, 1)\n",
    "sns.heatmap(df_12_EYE == -1, cmap='viridis')\n",
    "plt.title('Heatmap of -1 Values')\n",
    "\n",
    "plt.subplot(1, 2, 2)\n",
    "sns.heatmap(df_12_EYE == 1, cmap='viridis')\n",
    "plt.title('Heatmap of 1 Values')\n",
    "\n",
    "plt.tight_layout()\n",
    "plt.show()"
   ]
  },
  {
   "cell_type": "code",
   "execution_count": null,
   "id": "8d014241",
   "metadata": {},
   "outputs": [],
   "source": [
    "df_12_EYE[df_12_EYE['ET_PupilLeft'] == -1].shape"
   ]
  },
  {
   "cell_type": "code",
   "execution_count": null,
   "id": "1f1c2c18",
   "metadata": {},
   "outputs": [],
   "source": [
    "df_12_EYE[df_12_EYE['ET_PupilRight'] == -1].shape"
   ]
  },
  {
   "cell_type": "code",
   "execution_count": null,
   "id": "69cd5dca",
   "metadata": {},
   "outputs": [],
   "source": [
    "df_12_EYE[df_12_EYE['ET_PupilLeft'] == -1].shape[0] / df_12_EYE.shape[0]"
   ]
  },
  {
   "cell_type": "code",
   "execution_count": null,
   "id": "15295e5a",
   "metadata": {},
   "outputs": [],
   "source": [
    "df_12_EYE[df_12_EYE['ET_PupilRight'] == -1].shape[0] / df_12_EYE.shape[0]"
   ]
  },
  {
   "cell_type": "code",
   "execution_count": null,
   "id": "eb2d920d",
   "metadata": {},
   "outputs": [],
   "source": [
    "plt.figure(figsize=(18, 8))\n",
    "\n",
    "plt.subplot(1, 2, 1)\n",
    "sns.heatmap(df_12_EYE[df_12_EYE['ET_ValidityLeft'] == 1] == -1, cmap='viridis')\n",
    "plt.title('Heatmap of -1 Values')\n",
    "\n",
    "plt.subplot(1, 2, 2)\n",
    "sns.heatmap(df_12_EYE[df_12_EYE['ET_ValidityRight'] == 1] == -1, cmap='viridis')\n",
    "plt.title('Heatmap of -1 Values')\n",
    "\n",
    "plt.tight_layout()\n",
    "plt.show()"
   ]
  },
  {
   "cell_type": "markdown",
   "id": "b2dd0063",
   "metadata": {},
   "source": [
    "# Notes & Observations\n",
    "\n",
    "- The heatmaps reveal the distribution of -1 values across different columns.\n",
    "- It is evident that the `-1` values are not randomly scattered but appear in specific columns, notably `ET_GazeLeftx`, `ET_GazeLefty`, `ET_GazeRightx`, `ET_GazeRighty`, `ET_PupilLeft`, `ET_PupilRight`, `ET_DistanceLeft`, `ET_DistanceRight`, `ET_CameraLeftX`, `ET_CameraLeftY`, `ET_CameraRightX`, and `ET_CameraRightY`.\n",
    "- These `-1` values often coincide with instances where `ET_ValidityLeft` or `ET_ValidityRight` is 1, indicating invalid eye-tracking data. This suggests that `-1` is used as a placeholder for missing or invalid measurements in these columns when the eye tracker is not providing valid data for a particular eye.\n",
    "- Given that over 70% of the data in the `ET_PupilLeft` and `ET_PupilRight` columns is marked as invalid (-1), these columns may not be suitable for analysis and could be considered for dropping."
   ]
  },
  {
   "cell_type": "code",
   "execution_count": null,
   "id": "d4257da8",
   "metadata": {},
   "outputs": [],
   "source": [
    "df_12_EYE.drop(['ET_PupilLeft', 'ET_PupilRight'], axis=1, inplace=True)"
   ]
  },
  {
   "cell_type": "code",
   "execution_count": null,
   "id": "5affe643",
   "metadata": {},
   "outputs": [],
   "source": [
    "df_12_EYE.head()"
   ]
  },
  {
   "cell_type": "code",
   "execution_count": null,
   "id": "2837a469",
   "metadata": {},
   "outputs": [],
   "source": [
    "plt.figure(figsize=(18, 8))\n",
    "\n",
    "plt.subplot(1, 2, 1)\n",
    "sns.heatmap(df_12_EYE == -1, cmap='viridis')\n",
    "plt.title('Heatmap of -1 Values')\n",
    "\n",
    "plt.subplot(1, 2, 2)\n",
    "sns.heatmap(df_12_EYE == 1, cmap='viridis')\n",
    "plt.title('Heatmap of -1 Values')\n",
    "\n",
    "plt.tight_layout()\n",
    "plt.show()"
   ]
  },
  {
   "cell_type": "code",
   "execution_count": null,
   "id": "879c1873",
   "metadata": {},
   "outputs": [],
   "source": [
    "valid_left_ratio  = 1 - df_12_EYE['ET_ValidityLeft'].mean()\n",
    "valid_right_ratio = 1 - df_12_EYE['ET_ValidityRight'].mean()"
   ]
  },
  {
   "cell_type": "code",
   "execution_count": null,
   "id": "968feeeb",
   "metadata": {},
   "outputs": [],
   "source": [
    "valid_left_ratio"
   ]
  },
  {
   "cell_type": "code",
   "execution_count": null,
   "id": "489137e0",
   "metadata": {},
   "outputs": [],
   "source": [
    "valid_right_ratio"
   ]
  },
  {
   "cell_type": "code",
   "execution_count": null,
   "id": "fdfa274b",
   "metadata": {},
   "outputs": [],
   "source": [
    "df_12_EYE.head()"
   ]
  },
  {
   "cell_type": "code",
   "execution_count": null,
   "id": "5985fe50",
   "metadata": {},
   "outputs": [],
   "source": [
    "# Select only the numeric columns for plotting histograms, excluding time-related columns\n",
    "numeric_cols = df_12_EYE.select_dtypes(include=np.number).columns\n",
    "cols_to_plot = [col for col in numeric_cols if col not in ['UnixTime']]\n",
    "\n",
    "# Calculate the number of rows and columns for the grid\n",
    "n_cols = 4  # You can adjust the number of columns as needed\n",
    "n_rows = (len(cols_to_plot) + n_cols - 1) // n_cols\n",
    "\n",
    "plt.figure(figsize=(n_cols * 5, n_rows * 4)) # Adjust figure size as needed\n",
    "\n",
    "for i, col in enumerate(cols_to_plot):\n",
    "    plt.subplot(n_rows, n_cols, i + 1)\n",
    "    sns.histplot(df_12_EYE[col], kde=True)\n",
    "    plt.title(f'Distribution of {col}')\n",
    "    plt.xlabel(col)\n",
    "    plt.ylabel('Frequency')\n",
    "\n",
    "plt.tight_layout()\n",
    "plt.show()"
   ]
  },
  {
   "cell_type": "code",
   "execution_count": null,
   "id": "afacd066",
   "metadata": {},
   "outputs": [],
   "source": [
    "df_12_EYE.columns"
   ]
  },
  {
   "cell_type": "code",
   "execution_count": null,
   "id": "18ff9f35",
   "metadata": {},
   "outputs": [],
   "source": [
    "cols = ['ET_GazeLeftx', 'ET_GazeLefty',\n",
    "       'ET_GazeRightx', 'ET_GazeRighty', 'ET_TimeSignal', 'ET_DistanceLeft',\n",
    "       'ET_DistanceRight', 'ET_CameraLeftX', 'ET_CameraLeftY',\n",
    "       'ET_CameraRightX', 'ET_CameraRightY', 'ET_ValidityLeft',\n",
    "       'ET_ValidityRight']"
   ]
  },
  {
   "cell_type": "code",
   "execution_count": null,
   "id": "58d4e3b3",
   "metadata": {},
   "outputs": [],
   "source": [
    "from IPython.display import display, Markdown\n",
    "\n",
    "for col in cols:\n",
    "    # Add a markdown cell before each plot for better separation and labeling\n",
    "    display(Markdown(f'### {col} over Time'))\n",
    "    plt.figure(figsize=(16, 10))\n",
    "    plt.plot(df_12_EYE['Timestamp'], df_12_EYE[col])\n",
    "    plt.xlabel(\"Timestamp\") # Add x-axis label\n",
    "    plt.ylabel(col) # Add y-axis label\n",
    "    plt.show()"
   ]
  },
  {
   "cell_type": "code",
   "execution_count": null,
   "id": "baea6c76",
   "metadata": {},
   "outputs": [],
   "source": [
    "# Select only the numeric columns for plotting histograms, excluding time-related columns\n",
    "numeric_cols = df_12_EYE.select_dtypes(include=np.number).columns\n",
    "\n",
    "# Calculate the number of rows and columns for the grid\n",
    "n_cols = 4  # You can adjust the number of columns as needed\n",
    "n_rows = (len(numeric_cols) + n_cols - 1) // n_cols\n",
    "\n",
    "plt.figure(figsize=(n_cols * 5, n_rows * 4)) # Adjust figure size as needed\n",
    "\n",
    "for i, col in enumerate(numeric_cols):\n",
    "    plt.subplot(n_rows, n_cols, i + 1)\n",
    "    sns.boxplot(df_12_EYE[col])\n",
    "    plt.title(f'Boxplot of {col}')\n",
    "    plt.xlabel(col)\n",
    "\n",
    "plt.tight_layout()\n",
    "plt.show()"
   ]
  },
  {
   "cell_type": "code",
   "execution_count": null,
   "id": "ca1f6e64",
   "metadata": {},
   "outputs": [],
   "source": [
    "df_12_EYE.replace({-1: np.nan}, inplace=True)"
   ]
  },
  {
   "cell_type": "code",
   "execution_count": null,
   "id": "5d18ba1f",
   "metadata": {},
   "outputs": [],
   "source": [
    "numeric_cols = df_12_EYE.select_dtypes(include=np.number).columns\n",
    "\n",
    "for col in numeric_cols:\n",
    "    df_12_EYE[col].fillna(df_12_EYE[col].mean(), inplace=True)"
   ]
  },
  {
   "cell_type": "code",
   "execution_count": null,
   "id": "6b3da051",
   "metadata": {},
   "outputs": [],
   "source": [
    "df_12_EYE.head()"
   ]
  },
  {
   "cell_type": "code",
   "execution_count": null,
   "id": "335d470c",
   "metadata": {},
   "outputs": [],
   "source": [
    "# Select only the numeric columns for plotting histograms, excluding time-related columns\n",
    "numeric_cols = df_12_EYE.select_dtypes(include=np.number).columns\n",
    "cols_to_plot = [col for col in numeric_cols if col not in ['UnixTime']]\n",
    "\n",
    "# Calculate the number of rows and columns for the grid\n",
    "n_cols = 4  # You can adjust the number of columns as needed\n",
    "n_rows = (len(cols_to_plot) + n_cols - 1) // n_cols\n",
    "\n",
    "plt.figure(figsize=(n_cols * 5, n_rows * 4)) # Adjust figure size as needed\n",
    "\n",
    "for i, col in enumerate(cols_to_plot):\n",
    "    plt.subplot(n_rows, n_cols, i + 1)\n",
    "    sns.histplot(df_12_EYE[col], kde=True)\n",
    "    plt.title(f'Distribution of {col}')\n",
    "    plt.xlabel(col)\n",
    "    plt.ylabel('Frequency')\n",
    "\n",
    "plt.tight_layout()\n",
    "plt.show()"
   ]
  },
  {
   "cell_type": "code",
   "execution_count": null,
   "id": "b902146d",
   "metadata": {},
   "outputs": [],
   "source": []
  },
  {
   "cell_type": "code",
   "execution_count": null,
   "id": "804f252f",
   "metadata": {},
   "outputs": [],
   "source": []
  },
  {
   "cell_type": "code",
   "execution_count": null,
   "id": "37dfdd7c",
   "metadata": {},
   "outputs": [],
   "source": []
  },
  {
   "cell_type": "code",
   "execution_count": null,
   "id": "697266fc",
   "metadata": {},
   "outputs": [],
   "source": []
  },
  {
   "cell_type": "code",
   "execution_count": null,
   "id": "8e31f748",
   "metadata": {},
   "outputs": [],
   "source": []
  },
  {
   "cell_type": "code",
   "execution_count": null,
   "id": "20ffcd38",
   "metadata": {},
   "outputs": [],
   "source": []
  },
  {
   "cell_type": "code",
   "execution_count": null,
   "id": "7e56fd37",
   "metadata": {},
   "outputs": [],
   "source": []
  },
  {
   "cell_type": "code",
   "execution_count": null,
   "id": "3631906c",
   "metadata": {},
   "outputs": [],
   "source": []
  },
  {
   "cell_type": "code",
   "execution_count": null,
   "id": "e1c7fffb",
   "metadata": {},
   "outputs": [],
   "source": []
  },
  {
   "cell_type": "code",
   "execution_count": null,
   "id": "5d9fe778",
   "metadata": {},
   "outputs": [],
   "source": []
  },
  {
   "cell_type": "code",
   "execution_count": null,
   "id": "d15b5ea2",
   "metadata": {},
   "outputs": [],
   "source": []
  },
  {
   "cell_type": "code",
   "execution_count": null,
   "id": "8b4213d8",
   "metadata": {},
   "outputs": [],
   "source": []
  },
  {
   "cell_type": "markdown",
   "id": "9bc4a70f",
   "metadata": {},
   "source": [
    "# Eye Tracking Data Analysis\n",
    "\n",
    "This notebook performs exploratory data analysis and cleaning on eye-tracking data.\n",
    "\n",
    "## Data Loading and Initial Inspection"
   ]
  },
  {
   "cell_type": "code",
   "execution_count": null,
   "id": "84ad6620",
   "metadata": {},
   "outputs": [],
   "source": [
    "%load_ext cudf"
   ]
  },
  {
   "cell_type": "markdown",
   "id": "6e9e4d36",
   "metadata": {},
   "source": [
    "Import necessary libraries for data manipulation, analysis, and visualization."
   ]
  },
  {
   "cell_type": "code",
   "execution_count": null,
   "id": "19279504",
   "metadata": {},
   "outputs": [],
   "source": [
    "import numpy as np\n",
    "import pandas as pd\n",
    "import matplotlib.pyplot as plt\n",
    "import seaborn as sns"
   ]
  },
  {
   "cell_type": "markdown",
   "id": "a7cf3a20",
   "metadata": {},
   "source": [
    "Import libraries for datashader, which can be used for visualizing large datasets."
   ]
  },
  {
   "cell_type": "code",
   "execution_count": null,
   "id": "41f915f8",
   "metadata": {},
   "outputs": [],
   "source": [
    "import datashader as ds\n",
    "import datashader.transfer_functions as tf"
   ]
  },
  {
   "cell_type": "markdown",
   "id": "dff70a7a",
   "metadata": {},
   "source": [
    "Set pandas display options to show all columns."
   ]
  },
  {
   "cell_type": "code",
   "execution_count": null,
   "id": "9ab6420e",
   "metadata": {},
   "outputs": [],
   "source": [
    "pd.set_option('display.max_columns', None)"
   ]
  },
  {
   "cell_type": "markdown",
   "id": "5c28e79e",
   "metadata": {},
   "source": [
    "Load the eye-tracking data from the specified CSV file into a pandas DataFrame."
   ]
  },
  {
   "cell_type": "code",
   "execution_count": null,
   "id": "85b47b19",
   "metadata": {},
   "outputs": [],
   "source": [
    "df_12_EYE = pd.read_csv('data/STData/12/12_EYE.csv')"
   ]
  },
  {
   "cell_type": "markdown",
   "id": "94a0c873",
   "metadata": {},
   "source": [
    "Display the first few rows of the DataFrame to get an initial look at the data structure and content."
   ]
  },
  {
   "cell_type": "code",
   "execution_count": null,
   "id": "82acd35a",
   "metadata": {},
   "outputs": [],
   "source": [
    "df_12_EYE.head()"
   ]
  },
  {
   "cell_type": "markdown",
   "id": "b5d338cd",
   "metadata": {},
   "source": [
    "Check the dimensions (number of rows and columns) of the DataFrame."
   ]
  },
  {
   "cell_type": "code",
   "execution_count": null,
   "id": "8e0d4a3b",
   "metadata": {},
   "outputs": [],
   "source": [
    "df_12_EYE.shape"
   ]
  },
  {
   "cell_type": "markdown",
   "id": "734705fe",
   "metadata": {},
   "source": [
    "List the names of all columns in the DataFrame."
   ]
  },
  {
   "cell_type": "code",
   "execution_count": null,
   "id": "4f7df97d",
   "metadata": {},
   "outputs": [],
   "source": [
    "df_12_EYE.columns"
   ]
  },
  {
   "cell_type": "markdown",
   "id": "0b858b2c",
   "metadata": {},
   "source": [
    "Display concise information about the DataFrame, including the data types of each column and the number of non-null values. This helps identify columns with missing data."
   ]
  },
  {
   "cell_type": "code",
   "execution_count": null,
   "id": "0ecabc1a",
   "metadata": {},
   "outputs": [],
   "source": [
    "df_12_EYE.info()"
   ]
  },
  {
   "cell_type": "markdown",
   "id": "e5b0ebea",
   "metadata": {},
   "source": [
    "Calculate and display the number of missing values in each column."
   ]
  },
  {
   "cell_type": "code",
   "execution_count": null,
   "id": "eca872ac",
   "metadata": {},
   "outputs": [],
   "source": [
    "df_12_EYE.isnull().sum()"
   ]
  },
  {
   "cell_type": "markdown",
   "id": "2dd7b82a",
   "metadata": {},
   "source": [
    "Visualize the distribution of missing values using a heatmap. This provides a visual representation of which columns have missing data and the extent of missingness."
   ]
  },
  {
   "cell_type": "code",
   "execution_count": null,
   "id": "05373144",
   "metadata": {},
   "outputs": [],
   "source": [
    "plt.figure(figsize=(12,8))\n",
    "sns.heatmap(df_12_EYE.isnull(), cmap='viridis')\n",
    "plt.show()"
   ]
  },
  {
   "cell_type": "markdown",
   "id": "0d8cdf8f",
   "metadata": {},
   "source": [
    "# Notes & Observations\n",
    "\n",
    "- We observe many **null** (or missing) values in the `QuestionKey` columns.\n",
    "- The nulls in the `QuestionKey` column may not represent “true” nulls. Rather, they follow interval patterns, suggesting that during those periods no question was displayed.\n",
    "- These missing values in `QuestionKey` require additional investigation and context-aware handling."
   ]
  },
  {
   "cell_type": "markdown",
   "id": "74699609",
   "metadata": {},
   "source": [
    "Display the unique values in the `QuestionKey` column to understand the different types of questions or states recorded."
   ]
  },
  {
   "cell_type": "code",
   "execution_count": null,
   "id": "fc8719c4",
   "metadata": {},
   "outputs": [],
   "source": [
    "df_12_EYE['QuestionKey'].unique()"
   ]
  },
  {
   "cell_type": "markdown",
   "id": "ec56b1c6",
   "metadata": {},
   "source": [
    "Convert the `Timestamp` column to datetime objects. This is crucial for any time series analysis or manipulation."
   ]
  },
  {
   "cell_type": "code",
   "execution_count": null,
   "id": "f2e6f414",
   "metadata": {},
   "outputs": [],
   "source": [
    "df_12_EYE['Timestamp'] = pd.to_datetime(df_12_EYE['Timestamp'])"
   ]
  },
  {
   "cell_type": "markdown",
   "id": "cbb0b29d",
   "metadata": {},
   "source": [
    "Display the first few rows again to see the effect of the timestamp conversion."
   ]
  },
  {
   "cell_type": "code",
   "execution_count": null,
   "id": "6dd047de",
   "metadata": {},
   "outputs": [],
   "source": [
    "df_12_EYE.head(3)"
   ]
  },
  {
   "cell_type": "markdown",
   "id": "c97e4275",
   "metadata": {},
   "source": [
    "Fill the missing values in the `QuestionKey` column with the string 'None'. This helps to explicitly mark periods where no question was active."
   ]
  },
  {
   "cell_type": "code",
   "execution_count": null,
   "id": "4a560629",
   "metadata": {},
   "outputs": [],
   "source": [
    "df_12_EYE['QuestionKey'].fillna('None', inplace=True)"
   ]
  },
  {
   "cell_type": "markdown",
   "id": "33a3f6ba",
   "metadata": {},
   "source": [
    "Count the occurrences of each unique value in the `QuestionKey` column after filling missing values."
   ]
  },
  {
   "cell_type": "code",
   "execution_count": null,
   "id": "6e1e2555",
   "metadata": {},
   "outputs": [],
   "source": [
    "df_12_EYE['QuestionKey'].value_counts()"
   ]
  },
  {
   "cell_type": "markdown",
   "id": "c0a9bd12",
   "metadata": {},
   "source": [
    "Display the heatmap of missing values again to confirm that the missing values in `QuestionKey` have been handled."
   ]
  },
  {
   "cell_type": "code",
   "execution_count": null,
   "id": "37ec8d3c",
   "metadata": {},
   "outputs": [],
   "source": [
    "plt.figure(figsize=(12,8))\n",
    "sns.heatmap(df_12_EYE.isnull(), cmap='viridis')\n",
    "plt.show()"
   ]
  },
  {
   "cell_type": "markdown",
   "id": "a3b3fb30",
   "metadata": {},
   "source": [
    "Recalculate and display the number of missing values per column to confirm the changes after handling `QuestionKey`."
   ]
  },
  {
   "cell_type": "code",
   "execution_count": null,
   "id": "7bbac483",
   "metadata": {},
   "outputs": [],
   "source": [
    "df_12_EYE.isnull().sum()"
   ]
  },
  {
   "cell_type": "markdown",
   "id": "c4b747bf",
   "metadata": {},
   "source": [
    "Drop rows that still contain any missing values. This is done after handling `QuestionKey` separately."
   ]
  },
  {
   "cell_type": "code",
   "execution_count": null,
   "id": "d998e8c4",
   "metadata": {},
   "outputs": [],
   "source": [
    "df_12_EYE.dropna(inplace=True)"
   ]
  },
  {
   "cell_type": "markdown",
   "id": "84da015f",
   "metadata": {},
   "source": [
    "Display the first few rows after dropping rows with missing values."
   ]
  },
  {
   "cell_type": "code",
   "execution_count": null,
   "id": "1251dbdd",
   "metadata": {},
   "outputs": [],
   "source": [
    "df_12_EYE.head()"
   ]
  },
  {
   "cell_type": "markdown",
   "id": "90d91a20",
   "metadata": {},
   "source": [
    "Display the unique values in the `Row` column."
   ]
  },
  {
   "cell_type": "code",
   "execution_count": null,
   "id": "e3844bab",
   "metadata": {},
   "outputs": [],
   "source": [
    "df_12_EYE['Row'].unique()"
   ]
  },
  {
   "cell_type": "markdown",
   "id": "e373453a",
   "metadata": {},
   "source": [
    "Plot a histogram of the `Row` column to visualize its distribution."
   ]
  },
  {
   "cell_type": "code",
   "execution_count": null,
   "id": "fcf58cc0",
   "metadata": {},
   "outputs": [],
   "source": [
    "plt.figure(figsize=(8,6))\n",
    "sns.histplot(df_12_EYE['Row'])\n",
    "plt.show()"
   ]
  },
  {
   "cell_type": "markdown",
   "id": "4f3d4385",
   "metadata": {},
   "source": [
    "# Notes & Observations\n",
    "\n",
    "- The `Row` column appears to be a simple row index and does not provide meaningful information relevant to the eye-tracking data itself. Therefore, it can be dropped."
   ]
  },
  {
   "cell_type": "markdown",
   "id": "db99c000",
   "metadata": {},
   "source": [
    "Drop the `Row` column as it is not relevant for the analysis."
   ]
  },
  {
   "cell_type": "code",
   "execution_count": null,
   "id": "bf5bd269",
   "metadata": {},
   "outputs": [],
   "source": [
    "df_12_EYE.drop('Row', axis=1, inplace=True)"
   ]
  },
  {
   "cell_type": "markdown",
   "id": "b07cd1cb",
   "metadata": {},
   "source": [
    "Display the unique values in the `ET_ValidityLeft` column."
   ]
  },
  {
   "cell_type": "code",
   "execution_count": null,
   "id": "daeef526",
   "metadata": {},
   "outputs": [],
   "source": [
    "df_12_EYE['ET_ValidityLeft'].unique()"
   ]
  },
  {
   "cell_type": "markdown",
   "id": "01775f62",
   "metadata": {},
   "source": [
    "Count the occurrences of each unique value in the `ET_ValidityLeft` column."
   ]
  },
  {
   "cell_type": "code",
   "execution_count": null,
   "id": "39deb2d0",
   "metadata": {},
   "outputs": [],
   "source": [
    "df_12_EYE['ET_ValidityLeft'].value_counts()"
   ]
  },
  {
   "cell_type": "markdown",
   "id": "73165f19",
   "metadata": {},
   "source": [
    "Display the unique values in the `ET_ValidityRight` column."
   ]
  },
  {
   "cell_type": "code",
   "execution_count": null,
   "id": "79087714",
   "metadata": {},
   "outputs": [],
   "source": [
    "df_12_EYE['ET_ValidityRight'].unique()"
   ]
  },
  {
   "cell_type": "markdown",
   "id": "23a55f62",
   "metadata": {},
   "source": [
    "Count the occurrences of each unique value in the `ET_ValidityRight` column."
   ]
  },
  {
   "cell_type": "code",
   "execution_count": null,
   "id": "b10f9df8",
   "metadata": {},
   "outputs": [],
   "source": [
    "df_12_EYE['ET_ValidityRight'].value_counts()"
   ]
  },
  {
   "cell_type": "markdown",
   "id": "5c597213",
   "metadata": {},
   "source": [
    "Visualize the counts of valid and invalid data for both left and right eyes using bar plots."
   ]
  },
  {
   "cell_type": "code",
   "execution_count": null,
   "id": "110a919d",
   "metadata": {},
   "outputs": [],
   "source": [
    "plt.figure(figsize=(12, 6))\n",
    "\n",
    "plt.subplot(1, 2, 1)\n",
    "sns.barplot(x=df_12_EYE['ET_ValidityLeft'].value_counts().index, y=df_12_EYE['ET_ValidityLeft'].value_counts().values)\n",
    "plt.title('Count of ET_ValidityLeft')\n",
    "plt.xlabel('Validity')\n",
    "plt.ylabel('Count')\n",
    "\n",
    "\n",
    "plt.subplot(1, 2, 2)\n",
    "sns.barplot(x=df_12_EYE['ET_ValidityRight'].value_counts().index, y=df_12_EYE['ET_ValidityRight'].value_counts().values)\n",
    "plt.title('Count of ET_ValidityRight')\n",
    "plt.xlabel('Validity')\n",
    "plt.ylabel('Count')\n",
    "\n",
    "plt.tight_layout()\n",
    "plt.show()"
   ]
  },
  {
   "cell_type": "markdown",
   "id": "ecae42a5",
   "metadata": {},
   "source": [
    "# Notes & Observations\n",
    "\n",
    "- The `ET_ValidityLeft` and `ET_ValidityRight` columns indicate the validity of the eye-tracking data for the left and right eye, respectively.\n",
    "- Based on the value counts and the bar plots, it appears that a value of `0.0` represents valid eye-tracking data, while a value of `4.0` represents invalid data.\n",
    "- Although the amount of invalid data is relatively small, removing these rows could introduce unwanted patterns or gaps in the time series data.\n",
    "- Therefore, we will keep the data and replace the value `4.0` with `1.0` in both `ET_ValidityLeft` and `ET_ValidityRight` columns. This will indicate to a machine learning model that the eye tracker had invalid data at those specific points in time while maintaining the integrity of the time series."
   ]
  },
  {
   "cell_type": "markdown",
   "id": "55724ff7",
   "metadata": {},
   "source": [
    "Define a mapping to convert validity values from `0.0` and `4.0` to `0` and `1`."
   ]
  },
  {
   "cell_type": "code",
   "execution_count": null,
   "id": "b9d89d4a",
   "metadata": {},
   "outputs": [],
   "source": [
    "validity_map = {4.0: 1.0, 0.0: 0.0}"
   ]
  },
  {
   "cell_type": "markdown",
   "id": "e528215f",
   "metadata": {},
   "source": [
    "Apply the mapping to the `ET_ValidityLeft` and `ET_ValidityRight` columns and convert the data type to integer."
   ]
  },
  {
   "cell_type": "code",
   "execution_count": null,
   "id": "3892d9c0",
   "metadata": {},
   "outputs": [],
   "source": [
    "df_12_EYE['ET_ValidityLeft'] = df_12_EYE['ET_ValidityLeft'].map(validity_map).astype(np.int8)\n",
    "df_12_EYE['ET_ValidityRight'] = df_12_EYE['ET_ValidityRight'].map(validity_map).astype(np.int8)"
   ]
  },
  {
   "cell_type": "markdown",
   "id": "b3231b15",
   "metadata": {},
   "source": [
    "Display the first few rows to see the updated validity columns."
   ]
  },
  {
   "cell_type": "code",
   "execution_count": null,
   "id": "8273920d",
   "metadata": {},
   "outputs": [],
   "source": [
    "df_12_EYE.head(3)"
   ]
  },
  {
   "cell_type": "markdown",
   "id": "b3292d3a",
   "metadata": {},
   "source": [
    "Display descriptive statistics for the DataFrame, including count, mean, standard deviation, min, max, and quartiles for numeric columns."
   ]
  },
  {
   "cell_type": "code",
   "execution_count": null,
   "id": "4c67259c",
   "metadata": {},
   "outputs": [],
   "source": [
    "df_12_EYE.describe()"
   ]
  },
  {
   "cell_type": "markdown",
   "id": "de96fb03",
   "metadata": {},
   "source": [
    "Check the number of rows where `ET_ValidityLeft` is 1 (invalid data for the left eye)."
   ]
  },
  {
   "cell_type": "code",
   "execution_count": null,
   "id": "d4de59e7",
   "metadata": {},
   "outputs": [],
   "source": [
    "df_12_EYE[df_12_EYE['ET_ValidityLeft'] == 1].shape"
   ]
  },
  {
   "cell_type": "markdown",
   "id": "1858440e",
   "metadata": {},
   "source": [
    "Check the number of rows where `ET_ValidityRight` is 1 (invalid data for the right eye)."
   ]
  },
  {
   "cell_type": "code",
   "execution_count": null,
   "id": "d18ebd15",
   "metadata": {},
   "outputs": [],
   "source": [
    "df_12_EYE[df_12_EYE['ET_ValidityRight'] == 1].shape"
   ]
  },
  {
   "cell_type": "markdown",
   "id": "6abe9596",
   "metadata": {},
   "source": [
    "Visualize the distribution of -1 and 1 values across columns using heatmaps. This helps identify columns with placeholder or indicator values."
   ]
  },
  {
   "cell_type": "code",
   "execution_count": null,
   "id": "3a31c28e",
   "metadata": {},
   "outputs": [],
   "source": [
    "plt.figure(figsize=(18, 8))\n",
    "\n",
    "plt.subplot(1, 2, 1)\n",
    "sns.heatmap(df_12_EYE == -1, cmap='viridis')\n",
    "plt.title('Heatmap of -1 Values')\n",
    "\n",
    "plt.subplot(1, 2, 2)\n",
    "sns.heatmap(df_12_EYE == 1, cmap='viridis')\n",
    "plt.title('Heatmap of 1 Values')\n",
    "\n",
    "plt.tight_layout()\n",
    "plt.show()"
   ]
  },
  {
   "cell_type": "markdown",
   "id": "e06796ab",
   "metadata": {},
   "source": [
    "Check the number of rows where `ET_PupilLeft` is -1."
   ]
  },
  {
   "cell_type": "code",
   "execution_count": null,
   "id": "fd035d53",
   "metadata": {},
   "outputs": [],
   "source": [
    "df_12_EYE[df_12_EYE['ET_PupilLeft'] == -1].shape"
   ]
  },
  {
   "cell_type": "markdown",
   "id": "32cf56b6",
   "metadata": {},
   "source": [
    "Check the number of rows where `ET_PupilRight` is -1."
   ]
  },
  {
   "cell_type": "code",
   "execution_count": null,
   "id": "4b757799",
   "metadata": {},
   "outputs": [],
   "source": [
    "df_12_EYE[df_12_EYE['ET_PupilRight'] == -1].shape"
   ]
  },
  {
   "cell_type": "markdown",
   "id": "77c874fc",
   "metadata": {},
   "source": [
    "Calculate the ratio of rows with -1 values in the `ET_PupilLeft` column to the total number of rows."
   ]
  },
  {
   "cell_type": "code",
   "execution_count": null,
   "id": "f1b99029",
   "metadata": {},
   "outputs": [],
   "source": [
    "df_12_EYE[df_12_EYE['ET_PupilLeft'] == -1].shape[0] / df_12_EYE.shape[0]"
   ]
  },
  {
   "cell_type": "markdown",
   "id": "e9317773",
   "metadata": {},
   "source": [
    "Calculate the ratio of rows with -1 values in the `ET_PupilRight` column to the total number of rows."
   ]
  },
  {
   "cell_type": "code",
   "execution_count": null,
   "id": "00a08b8a",
   "metadata": {},
   "outputs": [],
   "source": [
    "df_12_EYE[df_12_EYE['ET_PupilRight'] == -1].shape[0] / df_12_EYE.shape[0]"
   ]
  },
  {
   "cell_type": "markdown",
   "id": "47bdb6ae",
   "metadata": {},
   "source": [
    "Visualize the distribution of -1 values specifically for rows where validity is 1 (invalid data)."
   ]
  },
  {
   "cell_type": "code",
   "execution_count": null,
   "id": "49da3075",
   "metadata": {},
   "outputs": [],
   "source": [
    "plt.figure(figsize=(18, 8))\n",
    "\n",
    "plt.subplot(1, 2, 1)\n",
    "sns.heatmap(df_12_EYE[df_12_EYE['ET_ValidityLeft'] == 1] == -1, cmap='viridis')\n",
    "plt.title('Heatmap of -1 Values')\n",
    "\n",
    "plt.subplot(1, 2, 2)\n",
    "sns.heatmap(df_12_EYE[df_12_EYE['ET_ValidityRight'] == 1] == -1, cmap='viridis')\n",
    "plt.title('Heatmap of -1 Values')\n",
    "\n",
    "plt.tight_layout()\n",
    "plt.show()"
   ]
  },
  {
   "cell_type": "markdown",
   "id": "883811c0",
   "metadata": {},
   "source": [
    "# Notes & Observations\n",
    "\n",
    "- The heatmaps reveal the distribution of -1 values across different columns.\n",
    "- It is evident that the `-1` values are not randomly scattered but appear in specific columns, notably `ET_GazeLeftx`, `ET_GazeLefty`, `ET_GazeRightx`, `ET_GazeRighty`, `ET_PupilLeft`, `ET_PupilRight`, `ET_DistanceLeft`, `ET_DistanceRight`, `ET_CameraLeftX`, `ET_CameraLeftY`, `ET_CameraRightX`, and `ET_CameraRightY`.\n",
    "- These `-1` values often coincide with instances where `ET_ValidityLeft` or `ET_ValidityRight` is 1, indicating invalid eye-tracking data. This suggests that `-1` is used as a placeholder for missing or invalid measurements in these columns when the eye tracker is not providing valid data for a particular eye.\n",
    "- Given that over 70% of the data in the `ET_PupilLeft` and `ET_PupilRight` columns is marked as invalid (-1), these columns may not be suitable for analysis and could be considered for dropping."
   ]
  },
  {
   "cell_type": "markdown",
   "id": "54283e11",
   "metadata": {},
   "source": [
    "Drop the `ET_PupilLeft` and `ET_PupilRight` columns due to the high percentage of invalid data."
   ]
  },
  {
   "cell_type": "code",
   "execution_count": null,
   "id": "c2cb925b",
   "metadata": {},
   "outputs": [],
   "source": [
    "df_12_EYE.drop(['ET_PupilLeft', 'ET_PupilRight'], axis=1, inplace=True)"
   ]
  },
  {
   "cell_type": "markdown",
   "id": "801f8882",
   "metadata": {},
   "source": [
    "Display the first few rows after dropping the pupil columns."
   ]
  },
  {
   "cell_type": "code",
   "execution_count": null,
   "id": "ac15c3f5",
   "metadata": {},
   "outputs": [],
   "source": [
    "df_12_EYE.head()"
   ]
  },
  {
   "cell_type": "markdown",
   "id": "2d0b381c",
   "metadata": {},
   "source": [
    "Visualize the distribution of -1 and 1 values again after dropping the pupil columns."
   ]
  },
  {
   "cell_type": "code",
   "execution_count": null,
   "id": "41927b65",
   "metadata": {},
   "outputs": [],
   "source": [
    "plt.figure(figsize=(18, 8))\n",
    "\n",
    "plt.subplot(1, 2, 1)\n",
    "sns.heatmap(df_12_EYE == -1, cmap='viridis')\n",
    "plt.title('Heatmap of -1 Values')\n",
    "\n",
    "plt.subplot(1, 2, 2)\n",
    "sns.heatmap(df_12_EYE == 1, cmap='viridis')\n",
    "plt.title('Heatmap of -1 Values')\n",
    "\n",
    "plt.tight_layout()\n",
    "plt.show()"
   ]
  },
  {
   "cell_type": "markdown",
   "id": "78eccd45",
   "metadata": {},
   "source": [
    "Calculate the ratio of valid data points for the left eye."
   ]
  },
  {
   "cell_type": "code",
   "execution_count": null,
   "id": "ceffffff",
   "metadata": {},
   "outputs": [],
   "source": [
    "valid_left_ratio  = 1 - df_12_EYE['ET_ValidityLeft'].mean()"
   ]
  },
  {
   "cell_type": "markdown",
   "id": "0f95fba4",
   "metadata": {},
   "source": [
    "Display the ratio of valid data points for the left eye."
   ]
  },
  {
   "cell_type": "code",
   "execution_count": null,
   "id": "b1b117f1",
   "metadata": {},
   "outputs": [],
   "source": [
    "valid_left_ratio"
   ]
  },
  {
   "cell_type": "markdown",
   "id": "bbe28410",
   "metadata": {},
   "source": [
    "Calculate the ratio of valid data points for the right eye."
   ]
  },
  {
   "cell_type": "code",
   "execution_count": null,
   "id": "a5067111",
   "metadata": {},
   "outputs": [],
   "source": [
    "valid_right_ratio = 1 - df_12_EYE['ET_ValidityRight'].mean()"
   ]
  },
  {
   "cell_type": "markdown",
   "id": "ada0d4dc",
   "metadata": {},
   "source": [
    "Display the ratio of valid data points for the right eye."
   ]
  },
  {
   "cell_type": "code",
   "execution_count": null,
   "id": "cd77adf1",
   "metadata": {},
   "outputs": [],
   "source": [
    "valid_right_ratio"
   ]
  },
  {
   "cell_type": "markdown",
   "id": "fbc38863",
   "metadata": {},
   "source": [
    "Display the first few rows of the DataFrame."
   ]
  },
  {
   "cell_type": "code",
   "execution_count": null,
   "id": "f48d66d6",
   "metadata": {},
   "outputs": [],
   "source": [
    "df_12_EYE.head()"
   ]
  },
  {
   "cell_type": "markdown",
   "id": "1c484040",
   "metadata": {},
   "source": [
    "Visualize the distributions of numeric columns using histograms with Kernel Density Estimate (KDE) plots. This helps understand the shape and spread of the data in each numeric column."
   ]
  },
  {
   "cell_type": "code",
   "execution_count": null,
   "id": "f6b7093b",
   "metadata": {},
   "outputs": [],
   "source": [
    "# Select only the numeric columns for plotting histograms, excluding time-related columns\n",
    "numeric_cols = df_12_EYE.select_dtypes(include=np.number).columns\n",
    "cols_to_plot = [col for col in numeric_cols if col not in ['UnixTime']]\n",
    "\n",
    "# Calculate the number of rows and columns for the grid\n",
    "n_cols = 4  # You can adjust the number of columns as needed\n",
    "n_rows = (len(cols_to_plot) + n_cols - 1) // n_cols\n",
    "\n",
    "plt.figure(figsize=(n_cols * 5, n_rows * 4)) # Adjust figure size as needed\n",
    "\n",
    "for i, col in enumerate(cols_to_plot):\n",
    "    plt.subplot(n_rows, n_cols, i + 1)\n",
    "    sns.histplot(df_12_EYE[col], kde=True)\n",
    "    plt.title(f'Distribution of {col}')\n",
    "    plt.xlabel(col)\n",
    "    plt.ylabel('Frequency')\n",
    "\n",
    "plt.tight_layout()\n",
    "plt.show()"
   ]
  },
  {
   "cell_type": "markdown",
   "id": "9ee6a5b5",
   "metadata": {},
   "source": [
    "List the names of the columns in the DataFrame."
   ]
  },
  {
   "cell_type": "code",
   "execution_count": null,
   "id": "60ed2609",
   "metadata": {},
   "outputs": [],
   "source": [
    "df_12_EYE.columns"
   ]
  },
  {
   "cell_type": "markdown",
   "id": "d2909da2",
   "metadata": {},
   "source": [
    "Define a list of columns to be plotted over time."
   ]
  },
  {
   "cell_type": "code",
   "execution_count": null,
   "id": "350a9996",
   "metadata": {},
   "outputs": [],
   "source": [
    "cols = ['ET_GazeLeftx', 'ET_GazeLefty',\n",
    "       'ET_GazeRightx', 'ET_GazeRighty', 'ET_TimeSignal', 'ET_DistanceLeft',\n",
    "       'ET_DistanceRight', 'ET_CameraLeftX', 'ET_CameraLeftY',\n",
    "       'ET_CameraRightX', 'ET_CameraRightY', 'ET_ValidityLeft',\n",
    "       'ET_ValidityRight']"
   ]
  },
  {
   "cell_type": "markdown",
   "id": "e0287a77",
   "metadata": {},
   "source": [
    "Plot each of the selected columns against the timestamp to visualize their trends and patterns over time. Markdown cells are added before each plot for better readability."
   ]
  },
  {
   "cell_type": "code",
   "execution_count": null,
   "id": "e3e0e64b",
   "metadata": {},
   "outputs": [],
   "source": [
    "from IPython.display import display, Markdown\n",
    "\n",
    "for col in cols:\n",
    "    # Add a markdown cell before each plot for better separation and labeling\n",
    "    display(Markdown(f'### {col} over Time'))\n",
    "    plt.figure(figsize=(16, 10))\n",
    "    plt.plot(df_12_EYE['Timestamp'], df_12_EYE[col])\n",
    "    plt.xlabel(\"Timestamp\") # Add x-axis label\n",
    "    plt.ylabel(col) # Add y-axis label\n",
    "    plt.show()"
   ]
  },
  {
   "cell_type": "markdown",
   "id": "ea6e3190",
   "metadata": {},
   "source": [
    "Visualize the distributions of numeric columns using boxplots. This helps identify potential outliers and the spread of the data."
   ]
  },
  {
   "cell_type": "code",
   "execution_count": null,
   "id": "5c7e916d",
   "metadata": {},
   "outputs": [],
   "source": [
    "# Select only the numeric columns for plotting histograms, excluding time-related columns\n",
    "numeric_cols = df_12_EYE.select_dtypes(include=np.number).columns\n",
    "\n",
    "# Calculate the number of rows and columns for the grid\n",
    "n_cols = 4  # You can adjust the number of columns as needed\n",
    "n_rows = (len(numeric_cols) + n_cols - 1) // n_cols\n",
    "\n",
    "plt.figure(figsize=(n_cols * 5, n_rows * 4)) # Adjust figure size as needed\n",
    "\n",
    "for i, col in enumerate(numeric_cols):\n",
    "    plt.subplot(n_rows, n_cols, i + 1)\n",
    "    sns.boxplot(df_12_EYE[col])\n",
    "    plt.title(f'Boxplot of {col}')\n",
    "    plt.xlabel(col)\n",
    "\n",
    "plt.tight_layout()\n",
    "plt.show()"
   ]
  },
  {
   "cell_type": "markdown",
   "id": "db26ac28",
   "metadata": {},
   "source": [
    "Replace the placeholder value -1 with NaN (Not a Number) in the DataFrame. This is done before imputation."
   ]
  },
  {
   "cell_type": "code",
   "execution_count": null,
   "id": "67408210",
   "metadata": {},
   "outputs": [],
   "source": [
    "df_12_EYE.replace({-1: np.nan}, inplace=True)"
   ]
  },
  {
   "cell_type": "markdown",
   "id": "84e01fb2",
   "metadata": {},
   "source": [
    "Impute the missing values (NaN) in the numeric columns with the mean of each column."
   ]
  },
  {
   "cell_type": "code",
   "execution_count": null,
   "id": "7c0916ba",
   "metadata": {},
   "outputs": [],
   "source": [
    "numeric_cols = df_12_EYE.select_dtypes(include=np.number).columns\n",
    "\n",
    "for col in numeric_cols:\n",
    "    df_12_EYE[col].fillna(df_12_EYE[col].mean(), inplace=True)"
   ]
  },
  {
   "cell_type": "markdown",
   "id": "c89cc34d",
   "metadata": {},
   "source": [
    "Display the first few rows after imputing missing values."
   ]
  },
  {
   "cell_type": "code",
   "execution_count": null,
   "id": "918ba02a",
   "metadata": {},
   "outputs": [],
   "source": [
    "df_12_EYE.head()"
   ]
  },
  {
   "cell_type": "markdown",
   "id": "2b78bcef",
   "metadata": {},
   "source": [
    "Visualize the distributions of numeric columns again using histograms with KDE plots after imputation. This helps assess the impact of imputation on the data distributions."
   ]
  },
  {
   "cell_type": "code",
   "execution_count": null,
   "id": "3077e846",
   "metadata": {},
   "outputs": [],
   "source": [
    "# Select only the numeric columns for plotting histograms, excluding time-related columns\n",
    "numeric_cols = df_12_EYE.select_dtypes(include=np.number).columns\n",
    "cols_to_plot = [col for col in numeric_cols if col not in ['UnixTime']]\n",
    "\n",
    "# Calculate the number of rows and columns for the grid\n",
    "n_cols = 4  # You can adjust the number of columns as needed\n",
    "n_rows = (len(cols_to_plot) + n_cols - 1) // n_cols\n",
    "\n",
    "plt.figure(figsize=(n_cols * 5, n_rows * 4)) # Adjust figure size as needed\n",
    "\n",
    "for i, col in enumerate(cols_to_plot):\n",
    "    plt.subplot(n_rows, n_cols, i + 1)\n",
    "    sns.histplot(df_12_EYE[col], kde=True)\n",
    "    plt.title(f'Distribution of {col}')\n",
    "    plt.xlabel(col)\n",
    "    plt.ylabel('Frequency')\n",
    "\n",
    "plt.tight_layout()\n",
    "plt.show()"
   ]
  },
  {
   "cell_type": "code",
   "execution_count": null,
   "id": "84a9b9ea",
   "metadata": {},
   "outputs": [],
   "source": []
  },
  {
   "cell_type": "markdown",
   "id": "d1f1c69e",
   "metadata": {},
   "source": [
    "## Student 13"
   ]
  },
  {
   "cell_type": "code",
   "execution_count": null,
   "id": "5adfeb63",
   "metadata": {},
   "outputs": [],
   "source": [
    "%load_ext cudf"
   ]
  },
  {
   "cell_type": "code",
   "execution_count": null,
   "id": "432fdb03",
   "metadata": {},
   "outputs": [],
   "source": [
    "import numpy as np\n",
    "import pandas as pd\n",
    "import matplotlib.pyplot as plt\n",
    "import seaborn as sns"
   ]
  },
  {
   "cell_type": "code",
   "execution_count": null,
   "id": "d280b69c",
   "metadata": {},
   "outputs": [],
   "source": [
    "import datashader as ds\n",
    "import datashader.transfer_functions as tf"
   ]
  },
  {
   "cell_type": "code",
   "execution_count": null,
   "id": "0286abb2",
   "metadata": {},
   "outputs": [],
   "source": [
    "pd.set_option('display.max_columns', None)"
   ]
  },
  {
   "cell_type": "code",
   "execution_count": null,
   "id": "7c49694c",
   "metadata": {},
   "outputs": [],
   "source": [
    "df_13_EYE = pd.read_csv('data/STData/13/13_EYE.csv')"
   ]
  },
  {
   "cell_type": "code",
   "execution_count": null,
   "id": "89732e71",
   "metadata": {},
   "outputs": [],
   "source": [
    "df_13_EYE.head()"
   ]
  },
  {
   "cell_type": "code",
   "execution_count": null,
   "id": "dd5b1963",
   "metadata": {},
   "outputs": [],
   "source": [
    "df_13_EYE.shape"
   ]
  },
  {
   "cell_type": "code",
   "execution_count": null,
   "id": "8abe3aeb",
   "metadata": {},
   "outputs": [],
   "source": [
    "df_13_EYE.columns"
   ]
  },
  {
   "cell_type": "code",
   "execution_count": null,
   "id": "8f9ced80",
   "metadata": {},
   "outputs": [],
   "source": [
    "df_13_EYE.info()"
   ]
  },
  {
   "cell_type": "code",
   "execution_count": null,
   "id": "8ed5f7c5",
   "metadata": {},
   "outputs": [],
   "source": [
    "df_13_EYE.isnull().sum()"
   ]
  },
  {
   "cell_type": "code",
   "execution_count": null,
   "id": "f3711103",
   "metadata": {},
   "outputs": [],
   "source": [
    "plt.figure(figsize=(12,8))\n",
    "sns.heatmap(df_13_EYE.isnull(), cmap='viridis')\n",
    "plt.show()"
   ]
  },
  {
   "cell_type": "markdown",
   "id": "f4bbff53",
   "metadata": {},
   "source": [
    "# Notes & Observations\n",
    "\n",
    "- We observe many **null** (or missing) values in the `QuestionKey` columns.  \n",
    "- The nulls in the `QuestionKey` column may not represent “true” nulls. Rather, they follow interval patterns, suggesting that during those periods no question was displayed.  \n",
    "- These missing values in `QuestionKey` require additional investigation and context-aware handling.  "
   ]
  },
  {
   "cell_type": "code",
   "execution_count": null,
   "id": "c6d47848",
   "metadata": {},
   "outputs": [],
   "source": [
    "df_13_EYE['QuestionKey'].unique()"
   ]
  },
  {
   "cell_type": "code",
   "execution_count": null,
   "id": "7423a242",
   "metadata": {},
   "outputs": [],
   "source": [
    "df_13_EYE['Timestamp'] = pd.to_datetime(df_13_EYE['Timestamp'])"
   ]
  },
  {
   "cell_type": "code",
   "execution_count": null,
   "id": "75e88de8",
   "metadata": {},
   "outputs": [],
   "source": [
    "df_13_EYE.head(3)"
   ]
  },
  {
   "cell_type": "code",
   "execution_count": null,
   "id": "bb1d408c",
   "metadata": {},
   "outputs": [],
   "source": [
    "df_13_EYE['QuestionKey'].fillna('None', inplace=True)"
   ]
  },
  {
   "cell_type": "code",
   "execution_count": null,
   "id": "2cc99a25",
   "metadata": {},
   "outputs": [],
   "source": [
    "df_13_EYE['QuestionKey'].value_counts()"
   ]
  },
  {
   "cell_type": "code",
   "execution_count": null,
   "id": "7fcbc909",
   "metadata": {},
   "outputs": [],
   "source": [
    "plt.figure(figsize=(12,8))\n",
    "sns.heatmap(df_13_EYE.isnull(), cmap='viridis')\n",
    "plt.show()"
   ]
  },
  {
   "cell_type": "code",
   "execution_count": null,
   "id": "7d7a0e5a",
   "metadata": {},
   "outputs": [],
   "source": [
    "df_13_EYE.isnull().sum()"
   ]
  },
  {
   "cell_type": "code",
   "execution_count": null,
   "id": "77a85d5a",
   "metadata": {},
   "outputs": [],
   "source": [
    "df_13_EYE.dropna(inplace=True)"
   ]
  },
  {
   "cell_type": "code",
   "execution_count": null,
   "id": "b520ccac",
   "metadata": {},
   "outputs": [],
   "source": [
    "df_13_EYE.head()"
   ]
  },
  {
   "cell_type": "code",
   "execution_count": null,
   "id": "97b32f2a",
   "metadata": {},
   "outputs": [],
   "source": [
    "df_13_EYE['Row'].unique()"
   ]
  },
  {
   "cell_type": "code",
   "execution_count": null,
   "id": "7ce1bff6",
   "metadata": {},
   "outputs": [],
   "source": [
    "plt.figure(figsize=(8,6))\n",
    "sns.histplot(df_13_EYE['Row'])\n",
    "plt.show()"
   ]
  },
  {
   "cell_type": "markdown",
   "id": "35bda3e4",
   "metadata": {},
   "source": [
    "# Notes & Observations\n",
    "\n",
    "- The `Row` column appears to be a simple row index and does not provide meaningful information relevant to the eye-tracking data itself. Therefore, it can be dropped."
   ]
  },
  {
   "cell_type": "code",
   "execution_count": null,
   "id": "34f3db10",
   "metadata": {},
   "outputs": [],
   "source": [
    "df_13_EYE.drop('Row', axis=1, inplace=True)"
   ]
  },
  {
   "cell_type": "code",
   "execution_count": null,
   "id": "20b4b5fe",
   "metadata": {},
   "outputs": [],
   "source": [
    "df_13_EYE['ET_ValidityLeft'].unique()"
   ]
  },
  {
   "cell_type": "code",
   "execution_count": null,
   "id": "6694eae9",
   "metadata": {},
   "outputs": [],
   "source": [
    "df_13_EYE['ET_ValidityLeft'].value_counts()"
   ]
  },
  {
   "cell_type": "code",
   "execution_count": null,
   "id": "d8f6b125",
   "metadata": {},
   "outputs": [],
   "source": [
    "df_13_EYE['ET_ValidityRight'].unique()"
   ]
  },
  {
   "cell_type": "code",
   "execution_count": null,
   "id": "c358484a",
   "metadata": {},
   "outputs": [],
   "source": [
    "df_13_EYE['ET_ValidityRight'].value_counts()"
   ]
  },
  {
   "cell_type": "code",
   "execution_count": null,
   "id": "e8aa8716",
   "metadata": {},
   "outputs": [],
   "source": [
    "plt.figure(figsize=(12, 6))\n",
    "\n",
    "plt.subplot(1, 2, 1)\n",
    "sns.barplot(x=df_13_EYE['ET_ValidityLeft'].value_counts().index, y=df_13_EYE['ET_ValidityLeft'].value_counts().values)\n",
    "plt.title('Count of ET_ValidityLeft')\n",
    "plt.xlabel('Validity')\n",
    "plt.ylabel('Count')\n",
    "\n",
    "\n",
    "plt.subplot(1, 2, 2)\n",
    "sns.barplot(x=df_13_EYE['ET_ValidityRight'].value_counts().index, y=df_13_EYE['ET_ValidityRight'].value_counts().values)\n",
    "plt.title('Count of ET_ValidityRight')\n",
    "plt.xlabel('Validity')\n",
    "plt.ylabel('Count')\n",
    "\n",
    "plt.tight_layout()\n",
    "plt.show()"
   ]
  },
  {
   "cell_type": "markdown",
   "id": "aef7ec66",
   "metadata": {},
   "source": [
    "# Notes & Observations\n",
    "\n",
    "- The `ET_ValidityLeft` and `ET_ValidityRight` columns indicate the validity of the eye-tracking data for the left and right eye, respectively.\n",
    "- Based on the value counts and the bar plots, it appears that a value of `0.0` represents valid eye-tracking data, while a value of `4.0` represents invalid data.\n",
    "- Although the amount of invalid data is relatively small, removing these rows could introduce unwanted patterns or gaps in the time series data.\n",
    "- Therefore, we will keep the data and replace the value `4.0` with `1.0` in both `ET_ValidityLeft` and `ET_ValidityRight` columns. This will indicate to a machine learning model that the eye tracker had invalid data at those specific points in time while maintaining the integrity of the time series."
   ]
  },
  {
   "cell_type": "code",
   "execution_count": null,
   "id": "b36ae989",
   "metadata": {},
   "outputs": [],
   "source": [
    "validity_map = {4.0: 1.0, 0.0: 0.0}"
   ]
  },
  {
   "cell_type": "code",
   "execution_count": null,
   "id": "f72961f4",
   "metadata": {},
   "outputs": [],
   "source": [
    "df_13_EYE['ET_ValidityLeft'] = df_13_EYE['ET_ValidityLeft'].map(validity_map).astype(np.int8)\n",
    "df_13_EYE['ET_ValidityRight'] = df_13_EYE['ET_ValidityRight'].map(validity_map).astype(np.int8)"
   ]
  },
  {
   "cell_type": "code",
   "execution_count": null,
   "id": "ed0ad0ba",
   "metadata": {},
   "outputs": [],
   "source": [
    "df_13_EYE.head(3)"
   ]
  },
  {
   "cell_type": "code",
   "execution_count": null,
   "id": "a30bbd76",
   "metadata": {},
   "outputs": [],
   "source": [
    "df_13_EYE.describe()"
   ]
  },
  {
   "cell_type": "code",
   "execution_count": null,
   "id": "eeae17a7",
   "metadata": {},
   "outputs": [],
   "source": [
    "df_13_EYE[df_13_EYE['ET_ValidityLeft'] == 1].shape"
   ]
  },
  {
   "cell_type": "code",
   "execution_count": null,
   "id": "298d889f",
   "metadata": {},
   "outputs": [],
   "source": [
    "df_13_EYE[df_13_EYE['ET_ValidityRight'] == 1].shape"
   ]
  },
  {
   "cell_type": "code",
   "execution_count": null,
   "id": "8541473f",
   "metadata": {},
   "outputs": [],
   "source": [
    "plt.figure(figsize=(18, 8))\n",
    "\n",
    "plt.subplot(1, 2, 1)\n",
    "sns.heatmap(df_13_EYE == -1, cmap='viridis')\n",
    "plt.title('Heatmap of -1 Values')\n",
    "\n",
    "plt.subplot(1, 2, 2)\n",
    "sns.heatmap(df_13_EYE == 1, cmap='viridis')\n",
    "plt.title('Heatmap of 1 Values')\n",
    "\n",
    "plt.tight_layout()\n",
    "plt.show()"
   ]
  },
  {
   "cell_type": "code",
   "execution_count": null,
   "id": "3396f18e",
   "metadata": {},
   "outputs": [],
   "source": [
    "df_13_EYE[df_13_EYE['ET_PupilLeft'] == -1].shape"
   ]
  },
  {
   "cell_type": "code",
   "execution_count": null,
   "id": "0323e476",
   "metadata": {},
   "outputs": [],
   "source": [
    "df_13_EYE[df_13_EYE['ET_PupilRight'] == -1].shape"
   ]
  },
  {
   "cell_type": "code",
   "execution_count": null,
   "id": "f85542d1",
   "metadata": {},
   "outputs": [],
   "source": [
    "df_13_EYE[df_13_EYE['ET_PupilLeft'] == -1].shape[0] / df_13_EYE.shape[0]"
   ]
  },
  {
   "cell_type": "code",
   "execution_count": null,
   "id": "efb0f1a3",
   "metadata": {},
   "outputs": [],
   "source": [
    "df_13_EYE[df_13_EYE['ET_PupilRight'] == -1].shape[0] / df_13_EYE.shape[0]"
   ]
  },
  {
   "cell_type": "code",
   "execution_count": null,
   "id": "e367a2fe",
   "metadata": {},
   "outputs": [],
   "source": [
    "plt.figure(figsize=(18, 8))\n",
    "\n",
    "plt.subplot(1, 2, 1)\n",
    "sns.heatmap(df_13_EYE[df_13_EYE['ET_ValidityLeft'] == 1] == -1, cmap='viridis')\n",
    "plt.title('Heatmap of -1 Values')\n",
    "\n",
    "plt.subplot(1, 2, 2)\n",
    "sns.heatmap(df_13_EYE[df_13_EYE['ET_ValidityRight'] == 1] == -1, cmap='viridis')\n",
    "plt.title('Heatmap of -1 Values')\n",
    "\n",
    "plt.tight_layout()\n",
    "plt.show()"
   ]
  },
  {
   "cell_type": "markdown",
   "id": "915b7110",
   "metadata": {},
   "source": [
    "# Notes & Observations\n",
    "\n",
    "- The heatmaps reveal the distribution of -1 values across different columns.\n",
    "- It is evident that the `-1` values are not randomly scattered but appear in specific columns, notably `ET_GazeLeftx`, `ET_GazeLefty`, `ET_GazeRightx`, `ET_GazeRighty`, `ET_PupilLeft`, `ET_PupilRight`, `ET_DistanceLeft`, `ET_DistanceRight`, `ET_CameraLeftX`, `ET_CameraLeftY`, `ET_CameraRightX`, and `ET_CameraRightY`.\n",
    "- These `-1` values often coincide with instances where `ET_ValidityLeft` or `ET_ValidityRight` is 1, indicating invalid eye-tracking data. This suggests that `-1` is used as a placeholder for missing or invalid measurements in these columns when the eye tracker is not providing valid data for a particular eye.\n",
    "- Given that over 70% of the data in the `ET_PupilLeft` and `ET_PupilRight` columns is marked as invalid (-1), these columns may not be suitable for analysis and could be considered for dropping."
   ]
  },
  {
   "cell_type": "code",
   "execution_count": null,
   "id": "3a28480e",
   "metadata": {},
   "outputs": [],
   "source": [
    "df_13_EYE.drop(['ET_PupilLeft', 'ET_PupilRight'], axis=1, inplace=True)"
   ]
  },
  {
   "cell_type": "code",
   "execution_count": null,
   "id": "a9e7ed4d",
   "metadata": {},
   "outputs": [],
   "source": [
    "df_13_EYE.head()"
   ]
  },
  {
   "cell_type": "code",
   "execution_count": null,
   "id": "0ca6b4c1",
   "metadata": {},
   "outputs": [],
   "source": [
    "plt.figure(figsize=(18, 8))\n",
    "\n",
    "plt.subplot(1, 2, 1)\n",
    "sns.heatmap(df_13_EYE == -1, cmap='viridis')\n",
    "plt.title('Heatmap of -1 Values')\n",
    "\n",
    "plt.subplot(1, 2, 2)\n",
    "sns.heatmap(df_13_EYE == 1, cmap='viridis')\n",
    "plt.title('Heatmap of -1 Values')\n",
    "\n",
    "plt.tight_layout()\n",
    "plt.show()"
   ]
  },
  {
   "cell_type": "code",
   "execution_count": null,
   "id": "15702ee5",
   "metadata": {},
   "outputs": [],
   "source": [
    "valid_left_ratio  = 1 - df_13_EYE['ET_ValidityLeft'].mean()\n",
    "valid_right_ratio = 1 - df_13_EYE['ET_ValidityRight'].mean()"
   ]
  },
  {
   "cell_type": "code",
   "execution_count": null,
   "id": "9c3d5127",
   "metadata": {},
   "outputs": [],
   "source": [
    "valid_left_ratio"
   ]
  },
  {
   "cell_type": "code",
   "execution_count": null,
   "id": "d4301808",
   "metadata": {},
   "outputs": [],
   "source": [
    "valid_right_ratio"
   ]
  },
  {
   "cell_type": "code",
   "execution_count": null,
   "id": "df3b3057",
   "metadata": {},
   "outputs": [],
   "source": [
    "df_13_EYE.head()"
   ]
  },
  {
   "cell_type": "code",
   "execution_count": null,
   "id": "5763b245",
   "metadata": {},
   "outputs": [],
   "source": [
    "# Select only the numeric columns for plotting histograms, excluding time-related columns\n",
    "numeric_cols = df_13_EYE.select_dtypes(include=np.number).columns\n",
    "cols_to_plot = [col for col in numeric_cols if col not in ['UnixTime']]\n",
    "\n",
    "# Calculate the number of rows and columns for the grid\n",
    "n_cols = 4  # You can adjust the number of columns as needed\n",
    "n_rows = (len(cols_to_plot) + n_cols - 1) // n_cols\n",
    "\n",
    "plt.figure(figsize=(n_cols * 5, n_rows * 4)) # Adjust figure size as needed\n",
    "\n",
    "for i, col in enumerate(cols_to_plot):\n",
    "    plt.subplot(n_rows, n_cols, i + 1)\n",
    "    sns.histplot(df_13_EYE[col], kde=True)\n",
    "    plt.title(f'Distribution of {col}')\n",
    "    plt.xlabel(col)\n",
    "    plt.ylabel('Frequency')\n",
    "\n",
    "plt.tight_layout()\n",
    "plt.show()"
   ]
  },
  {
   "cell_type": "code",
   "execution_count": null,
   "id": "acbf03ce",
   "metadata": {},
   "outputs": [],
   "source": [
    "df_13_EYE.columns"
   ]
  },
  {
   "cell_type": "code",
   "execution_count": null,
   "id": "e9e09c1b",
   "metadata": {},
   "outputs": [],
   "source": [
    "cols = ['ET_GazeLeftx', 'ET_GazeLefty',\n",
    "       'ET_GazeRightx', 'ET_GazeRighty', 'ET_TimeSignal', 'ET_DistanceLeft',\n",
    "       'ET_DistanceRight', 'ET_CameraLeftX', 'ET_CameraLeftY',\n",
    "       'ET_CameraRightX', 'ET_CameraRightY', 'ET_ValidityLeft',\n",
    "       'ET_ValidityRight']"
   ]
  },
  {
   "cell_type": "code",
   "execution_count": null,
   "id": "7bf05883",
   "metadata": {},
   "outputs": [],
   "source": [
    "from IPython.display import display, Markdown\n",
    "\n",
    "for col in cols:\n",
    "    # Add a markdown cell before each plot for better separation and labeling\n",
    "    display(Markdown(f'### {col} over Time'))\n",
    "    plt.figure(figsize=(16, 10))\n",
    "    plt.plot(df_13_EYE['Timestamp'], df_13_EYE[col])\n",
    "    plt.xlabel(\"Timestamp\") # Add x-axis label\n",
    "    plt.ylabel(col) # Add y-axis label\n",
    "    plt.show()"
   ]
  },
  {
   "cell_type": "code",
   "execution_count": null,
   "id": "de2e15bb",
   "metadata": {},
   "outputs": [],
   "source": [
    "# Select only the numeric columns for plotting histograms, excluding time-related columns\n",
    "numeric_cols = df_13_EYE.select_dtypes(include=np.number).columns\n",
    "\n",
    "# Calculate the number of rows and columns for the grid\n",
    "n_cols = 4  # You can adjust the number of columns as needed\n",
    "n_rows = (len(numeric_cols) + n_cols - 1) // n_cols\n",
    "\n",
    "plt.figure(figsize=(n_cols * 5, n_rows * 4)) # Adjust figure size as needed\n",
    "\n",
    "for i, col in enumerate(numeric_cols):\n",
    "    plt.subplot(n_rows, n_cols, i + 1)\n",
    "    sns.boxplot(df_13_EYE[col])\n",
    "    plt.title(f'Boxplot of {col}')\n",
    "    plt.xlabel(col)\n",
    "\n",
    "plt.tight_layout()\n",
    "plt.show()"
   ]
  },
  {
   "cell_type": "code",
   "execution_count": null,
   "id": "033aab9b",
   "metadata": {},
   "outputs": [],
   "source": [
    "df_13_EYE.replace({-1: np.nan}, inplace=True)"
   ]
  },
  {
   "cell_type": "code",
   "execution_count": null,
   "id": "26b6b4fd",
   "metadata": {},
   "outputs": [],
   "source": [
    "numeric_cols = df_13_EYE.select_dtypes(include=np.number).columns\n",
    "\n",
    "for col in numeric_cols:\n",
    "    df_13_EYE[col].fillna(df_13_EYE[col].mean(), inplace=True)"
   ]
  },
  {
   "cell_type": "code",
   "execution_count": null,
   "id": "876c7f3c",
   "metadata": {},
   "outputs": [],
   "source": [
    "df_13_EYE.head()"
   ]
  },
  {
   "cell_type": "code",
   "execution_count": null,
   "id": "69a53ac5",
   "metadata": {},
   "outputs": [],
   "source": [
    "# Select only the numeric columns for plotting histograms, excluding time-related columns\n",
    "numeric_cols = df_13_EYE.select_dtypes(include=np.number).columns\n",
    "cols_to_plot = [col for col in numeric_cols if col not in ['UnixTime']]\n",
    "\n",
    "# Calculate the number of rows and columns for the grid\n",
    "n_cols = 4  # You can adjust the number of columns as needed\n",
    "n_rows = (len(cols_to_plot) + n_cols - 1) // n_cols\n",
    "\n",
    "plt.figure(figsize=(n_cols * 5, n_rows * 4)) # Adjust figure size as needed\n",
    "\n",
    "for i, col in enumerate(cols_to_plot):\n",
    "    plt.subplot(n_rows, n_cols, i + 1)\n",
    "    sns.histplot(df_13_EYE[col], kde=True)\n",
    "    plt.title(f'Distribution of {col}')\n",
    "    plt.xlabel(col)\n",
    "    plt.ylabel('Frequency')\n",
    "\n",
    "plt.tight_layout()\n",
    "plt.show()"
   ]
  },
  {
   "cell_type": "code",
   "execution_count": null,
   "id": "3fea406d",
   "metadata": {},
   "outputs": [],
   "source": []
  },
  {
   "cell_type": "code",
   "execution_count": null,
   "id": "a80a266b",
   "metadata": {},
   "outputs": [],
   "source": []
  },
  {
   "cell_type": "code",
   "execution_count": null,
   "id": "858eb4bf",
   "metadata": {},
   "outputs": [],
   "source": []
  },
  {
   "cell_type": "code",
   "execution_count": null,
   "id": "9759fa97",
   "metadata": {},
   "outputs": [],
   "source": []
  },
  {
   "cell_type": "code",
   "execution_count": null,
   "id": "45d442a7",
   "metadata": {},
   "outputs": [],
   "source": []
  },
  {
   "cell_type": "code",
   "execution_count": null,
   "id": "5f59fd01",
   "metadata": {},
   "outputs": [],
   "source": []
  },
  {
   "cell_type": "code",
   "execution_count": null,
   "id": "a697f807",
   "metadata": {},
   "outputs": [],
   "source": []
  },
  {
   "cell_type": "code",
   "execution_count": null,
   "id": "4583dde8",
   "metadata": {},
   "outputs": [],
   "source": []
  },
  {
   "cell_type": "code",
   "execution_count": null,
   "id": "90422a87",
   "metadata": {},
   "outputs": [],
   "source": []
  },
  {
   "cell_type": "code",
   "execution_count": null,
   "id": "1d697d41",
   "metadata": {},
   "outputs": [],
   "source": []
  },
  {
   "cell_type": "code",
   "execution_count": null,
   "id": "00bf77e7",
   "metadata": {},
   "outputs": [],
   "source": []
  },
  {
   "cell_type": "code",
   "execution_count": null,
   "id": "4f6f3d4d",
   "metadata": {},
   "outputs": [],
   "source": []
  },
  {
   "cell_type": "markdown",
   "id": "467f2df0",
   "metadata": {},
   "source": [
    "# Eye Tracking Data Analysis\n",
    "\n",
    "This notebook performs exploratory data analysis and cleaning on eye-tracking data.\n",
    "\n",
    "## Data Loading and Initial Inspection"
   ]
  },
  {
   "cell_type": "code",
   "execution_count": null,
   "id": "3b322e1d",
   "metadata": {},
   "outputs": [],
   "source": [
    "%load_ext cudf"
   ]
  },
  {
   "cell_type": "markdown",
   "id": "1637f481",
   "metadata": {},
   "source": [
    "Import necessary libraries for data manipulation, analysis, and visualization."
   ]
  },
  {
   "cell_type": "code",
   "execution_count": null,
   "id": "db9acbde",
   "metadata": {},
   "outputs": [],
   "source": [
    "import numpy as np\n",
    "import pandas as pd\n",
    "import matplotlib.pyplot as plt\n",
    "import seaborn as sns"
   ]
  },
  {
   "cell_type": "markdown",
   "id": "fa8245c4",
   "metadata": {},
   "source": [
    "Import libraries for datashader, which can be used for visualizing large datasets."
   ]
  },
  {
   "cell_type": "code",
   "execution_count": null,
   "id": "16ca96de",
   "metadata": {},
   "outputs": [],
   "source": [
    "import datashader as ds\n",
    "import datashader.transfer_functions as tf"
   ]
  },
  {
   "cell_type": "markdown",
   "id": "5981f551",
   "metadata": {},
   "source": [
    "Set pandas display options to show all columns."
   ]
  },
  {
   "cell_type": "code",
   "execution_count": null,
   "id": "e638fdaa",
   "metadata": {},
   "outputs": [],
   "source": [
    "pd.set_option('display.max_columns', None)"
   ]
  },
  {
   "cell_type": "markdown",
   "id": "29b3b59b",
   "metadata": {},
   "source": [
    "Load the eye-tracking data from the specified CSV file into a pandas DataFrame."
   ]
  },
  {
   "cell_type": "code",
   "execution_count": null,
   "id": "bf28cfef",
   "metadata": {},
   "outputs": [],
   "source": [
    "df_13_EYE = pd.read_csv('data/STData/13/13_EYE.csv')"
   ]
  },
  {
   "cell_type": "markdown",
   "id": "cb4e2fcf",
   "metadata": {},
   "source": [
    "Display the first few rows of the DataFrame to get an initial look at the data structure and content."
   ]
  },
  {
   "cell_type": "code",
   "execution_count": null,
   "id": "c0d64309",
   "metadata": {},
   "outputs": [],
   "source": [
    "df_13_EYE.head()"
   ]
  },
  {
   "cell_type": "markdown",
   "id": "41afc6ef",
   "metadata": {},
   "source": [
    "Check the dimensions (number of rows and columns) of the DataFrame."
   ]
  },
  {
   "cell_type": "code",
   "execution_count": null,
   "id": "d4551efc",
   "metadata": {},
   "outputs": [],
   "source": [
    "df_13_EYE.shape"
   ]
  },
  {
   "cell_type": "markdown",
   "id": "0a8d2e18",
   "metadata": {},
   "source": [
    "List the names of all columns in the DataFrame."
   ]
  },
  {
   "cell_type": "code",
   "execution_count": null,
   "id": "ef1a3de3",
   "metadata": {},
   "outputs": [],
   "source": [
    "df_13_EYE.columns"
   ]
  },
  {
   "cell_type": "markdown",
   "id": "eed0fd3b",
   "metadata": {},
   "source": [
    "Display concise information about the DataFrame, including the data types of each column and the number of non-null values. This helps identify columns with missing data."
   ]
  },
  {
   "cell_type": "code",
   "execution_count": null,
   "id": "b5e8d9ba",
   "metadata": {},
   "outputs": [],
   "source": [
    "df_13_EYE.info()"
   ]
  },
  {
   "cell_type": "markdown",
   "id": "9cc255f1",
   "metadata": {},
   "source": [
    "Calculate and display the number of missing values in each column."
   ]
  },
  {
   "cell_type": "code",
   "execution_count": null,
   "id": "4822c89d",
   "metadata": {},
   "outputs": [],
   "source": [
    "df_13_EYE.isnull().sum()"
   ]
  },
  {
   "cell_type": "markdown",
   "id": "7910d236",
   "metadata": {},
   "source": [
    "Visualize the distribution of missing values using a heatmap. This provides a visual representation of which columns have missing data and the extent of missingness."
   ]
  },
  {
   "cell_type": "code",
   "execution_count": null,
   "id": "bb244cf9",
   "metadata": {},
   "outputs": [],
   "source": [
    "plt.figure(figsize=(12,8))\n",
    "sns.heatmap(df_13_EYE.isnull(), cmap='viridis')\n",
    "plt.show()"
   ]
  },
  {
   "cell_type": "markdown",
   "id": "c1156998",
   "metadata": {},
   "source": [
    "# Notes & Observations\n",
    "\n",
    "- We observe many **null** (or missing) values in the `QuestionKey` columns.\n",
    "- The nulls in the `QuestionKey` column may not represent “true” nulls. Rather, they follow interval patterns, suggesting that during those periods no question was displayed.\n",
    "- These missing values in `QuestionKey` require additional investigation and context-aware handling."
   ]
  },
  {
   "cell_type": "markdown",
   "id": "80ff2d8f",
   "metadata": {},
   "source": [
    "Display the unique values in the `QuestionKey` column to understand the different types of questions or states recorded."
   ]
  },
  {
   "cell_type": "code",
   "execution_count": null,
   "id": "b0d1af86",
   "metadata": {},
   "outputs": [],
   "source": [
    "df_13_EYE['QuestionKey'].unique()"
   ]
  },
  {
   "cell_type": "markdown",
   "id": "4cf40ea6",
   "metadata": {},
   "source": [
    "Convert the `Timestamp` column to datetime objects. This is crucial for any time series analysis or manipulation."
   ]
  },
  {
   "cell_type": "code",
   "execution_count": null,
   "id": "917afe83",
   "metadata": {},
   "outputs": [],
   "source": [
    "df_13_EYE['Timestamp'] = pd.to_datetime(df_13_EYE['Timestamp'])"
   ]
  },
  {
   "cell_type": "markdown",
   "id": "f402f6c0",
   "metadata": {},
   "source": [
    "Display the first few rows again to see the effect of the timestamp conversion."
   ]
  },
  {
   "cell_type": "code",
   "execution_count": null,
   "id": "1bb3b4c3",
   "metadata": {},
   "outputs": [],
   "source": [
    "df_13_EYE.head(3)"
   ]
  },
  {
   "cell_type": "markdown",
   "id": "edad9f17",
   "metadata": {},
   "source": [
    "Fill the missing values in the `QuestionKey` column with the string 'None'. This helps to explicitly mark periods where no question was active."
   ]
  },
  {
   "cell_type": "code",
   "execution_count": null,
   "id": "8fed12bd",
   "metadata": {},
   "outputs": [],
   "source": [
    "df_13_EYE['QuestionKey'].fillna('None', inplace=True)"
   ]
  },
  {
   "cell_type": "markdown",
   "id": "1ab2c4b4",
   "metadata": {},
   "source": [
    "Count the occurrences of each unique value in the `QuestionKey` column after filling missing values."
   ]
  },
  {
   "cell_type": "code",
   "execution_count": null,
   "id": "17d8c0be",
   "metadata": {},
   "outputs": [],
   "source": [
    "df_13_EYE['QuestionKey'].value_counts()"
   ]
  },
  {
   "cell_type": "markdown",
   "id": "67615712",
   "metadata": {},
   "source": [
    "Display the heatmap of missing values again to confirm that the missing values in `QuestionKey` have been handled."
   ]
  },
  {
   "cell_type": "code",
   "execution_count": null,
   "id": "7ec364c3",
   "metadata": {},
   "outputs": [],
   "source": [
    "plt.figure(figsize=(12,8))\n",
    "sns.heatmap(df_13_EYE.isnull(), cmap='viridis')\n",
    "plt.show()"
   ]
  },
  {
   "cell_type": "markdown",
   "id": "c2e177eb",
   "metadata": {},
   "source": [
    "Recalculate and display the number of missing values per column to confirm the changes after handling `QuestionKey`."
   ]
  },
  {
   "cell_type": "code",
   "execution_count": null,
   "id": "3b1df5e9",
   "metadata": {},
   "outputs": [],
   "source": [
    "df_13_EYE.isnull().sum()"
   ]
  },
  {
   "cell_type": "markdown",
   "id": "69115890",
   "metadata": {},
   "source": [
    "Drop rows that still contain any missing values. This is done after handling `QuestionKey` separately."
   ]
  },
  {
   "cell_type": "code",
   "execution_count": null,
   "id": "3aeb0a93",
   "metadata": {},
   "outputs": [],
   "source": [
    "df_13_EYE.dropna(inplace=True)"
   ]
  },
  {
   "cell_type": "markdown",
   "id": "ad7a3ed9",
   "metadata": {},
   "source": [
    "Display the first few rows after dropping rows with missing values."
   ]
  },
  {
   "cell_type": "code",
   "execution_count": null,
   "id": "78685110",
   "metadata": {},
   "outputs": [],
   "source": [
    "df_13_EYE.head()"
   ]
  },
  {
   "cell_type": "markdown",
   "id": "385cbaf1",
   "metadata": {},
   "source": [
    "Display the unique values in the `Row` column."
   ]
  },
  {
   "cell_type": "code",
   "execution_count": null,
   "id": "696f4784",
   "metadata": {},
   "outputs": [],
   "source": [
    "df_13_EYE['Row'].unique()"
   ]
  },
  {
   "cell_type": "markdown",
   "id": "c5da0ea7",
   "metadata": {},
   "source": [
    "Plot a histogram of the `Row` column to visualize its distribution."
   ]
  },
  {
   "cell_type": "code",
   "execution_count": null,
   "id": "271b265e",
   "metadata": {},
   "outputs": [],
   "source": [
    "plt.figure(figsize=(8,6))\n",
    "sns.histplot(df_13_EYE['Row'])\n",
    "plt.show()"
   ]
  },
  {
   "cell_type": "markdown",
   "id": "901361b7",
   "metadata": {},
   "source": [
    "# Notes & Observations\n",
    "\n",
    "- The `Row` column appears to be a simple row index and does not provide meaningful information relevant to the eye-tracking data itself. Therefore, it can be dropped."
   ]
  },
  {
   "cell_type": "markdown",
   "id": "2cb1377b",
   "metadata": {},
   "source": [
    "Drop the `Row` column as it is not relevant for the analysis."
   ]
  },
  {
   "cell_type": "code",
   "execution_count": null,
   "id": "19a91d55",
   "metadata": {},
   "outputs": [],
   "source": [
    "df_13_EYE.drop('Row', axis=1, inplace=True)"
   ]
  },
  {
   "cell_type": "markdown",
   "id": "48171186",
   "metadata": {},
   "source": [
    "Display the unique values in the `ET_ValidityLeft` column."
   ]
  },
  {
   "cell_type": "code",
   "execution_count": null,
   "id": "4017b30e",
   "metadata": {},
   "outputs": [],
   "source": [
    "df_13_EYE['ET_ValidityLeft'].unique()"
   ]
  },
  {
   "cell_type": "markdown",
   "id": "a345dd67",
   "metadata": {},
   "source": [
    "Count the occurrences of each unique value in the `ET_ValidityLeft` column."
   ]
  },
  {
   "cell_type": "code",
   "execution_count": null,
   "id": "626ef699",
   "metadata": {},
   "outputs": [],
   "source": [
    "df_13_EYE['ET_ValidityLeft'].value_counts()"
   ]
  },
  {
   "cell_type": "markdown",
   "id": "8c56410d",
   "metadata": {},
   "source": [
    "Display the unique values in the `ET_ValidityRight` column."
   ]
  },
  {
   "cell_type": "code",
   "execution_count": null,
   "id": "1d2919c4",
   "metadata": {},
   "outputs": [],
   "source": [
    "df_13_EYE['ET_ValidityRight'].unique()"
   ]
  },
  {
   "cell_type": "markdown",
   "id": "25c707e8",
   "metadata": {},
   "source": [
    "Count the occurrences of each unique value in the `ET_ValidityRight` column."
   ]
  },
  {
   "cell_type": "code",
   "execution_count": null,
   "id": "3a94ff3f",
   "metadata": {},
   "outputs": [],
   "source": [
    "df_13_EYE['ET_ValidityRight'].value_counts()"
   ]
  },
  {
   "cell_type": "markdown",
   "id": "e97cc5ae",
   "metadata": {},
   "source": [
    "Visualize the counts of valid and invalid data for both left and right eyes using bar plots."
   ]
  },
  {
   "cell_type": "code",
   "execution_count": null,
   "id": "16b01899",
   "metadata": {},
   "outputs": [],
   "source": [
    "plt.figure(figsize=(12, 6))\n",
    "\n",
    "plt.subplot(1, 2, 1)\n",
    "sns.barplot(x=df_13_EYE['ET_ValidityLeft'].value_counts().index, y=df_13_EYE['ET_ValidityLeft'].value_counts().values)\n",
    "plt.title('Count of ET_ValidityLeft')\n",
    "plt.xlabel('Validity')\n",
    "plt.ylabel('Count')\n",
    "\n",
    "\n",
    "plt.subplot(1, 2, 2)\n",
    "sns.barplot(x=df_13_EYE['ET_ValidityRight'].value_counts().index, y=df_13_EYE['ET_ValidityRight'].value_counts().values)\n",
    "plt.title('Count of ET_ValidityRight')\n",
    "plt.xlabel('Validity')\n",
    "plt.ylabel('Count')\n",
    "\n",
    "plt.tight_layout()\n",
    "plt.show()"
   ]
  },
  {
   "cell_type": "markdown",
   "id": "deab4a3e",
   "metadata": {},
   "source": [
    "# Notes & Observations\n",
    "\n",
    "- The `ET_ValidityLeft` and `ET_ValidityRight` columns indicate the validity of the eye-tracking data for the left and right eye, respectively.\n",
    "- Based on the value counts and the bar plots, it appears that a value of `0.0` represents valid eye-tracking data, while a value of `4.0` represents invalid data.\n",
    "- Although the amount of invalid data is relatively small, removing these rows could introduce unwanted patterns or gaps in the time series data.\n",
    "- Therefore, we will keep the data and replace the value `4.0` with `1.0` in both `ET_ValidityLeft` and `ET_ValidityRight` columns. This will indicate to a machine learning model that the eye tracker had invalid data at those specific points in time while maintaining the integrity of the time series."
   ]
  },
  {
   "cell_type": "markdown",
   "id": "2d179887",
   "metadata": {},
   "source": [
    "Define a mapping to convert validity values from `0.0` and `4.0` to `0` and `1`."
   ]
  },
  {
   "cell_type": "code",
   "execution_count": null,
   "id": "7b57cce9",
   "metadata": {},
   "outputs": [],
   "source": [
    "validity_map = {4.0: 1.0, 0.0: 0.0}"
   ]
  },
  {
   "cell_type": "markdown",
   "id": "29297205",
   "metadata": {},
   "source": [
    "Apply the mapping to the `ET_ValidityLeft` and `ET_ValidityRight` columns and convert the data type to integer."
   ]
  },
  {
   "cell_type": "code",
   "execution_count": null,
   "id": "714322a4",
   "metadata": {},
   "outputs": [],
   "source": [
    "df_13_EYE['ET_ValidityLeft'] = df_13_EYE['ET_ValidityLeft'].map(validity_map).astype(np.int8)\n",
    "df_13_EYE['ET_ValidityRight'] = df_13_EYE['ET_ValidityRight'].map(validity_map).astype(np.int8)"
   ]
  },
  {
   "cell_type": "markdown",
   "id": "d8edac41",
   "metadata": {},
   "source": [
    "Display the first few rows to see the updated validity columns."
   ]
  },
  {
   "cell_type": "code",
   "execution_count": null,
   "id": "6373cea0",
   "metadata": {},
   "outputs": [],
   "source": [
    "df_13_EYE.head(3)"
   ]
  },
  {
   "cell_type": "markdown",
   "id": "221e0f2b",
   "metadata": {},
   "source": [
    "Display descriptive statistics for the DataFrame, including count, mean, standard deviation, min, max, and quartiles for numeric columns."
   ]
  },
  {
   "cell_type": "code",
   "execution_count": null,
   "id": "c40d61ef",
   "metadata": {},
   "outputs": [],
   "source": [
    "df_13_EYE.describe()"
   ]
  },
  {
   "cell_type": "markdown",
   "id": "39952df1",
   "metadata": {},
   "source": [
    "Check the number of rows where `ET_ValidityLeft` is 1 (invalid data for the left eye)."
   ]
  },
  {
   "cell_type": "code",
   "execution_count": null,
   "id": "b0cf5f12",
   "metadata": {},
   "outputs": [],
   "source": [
    "df_13_EYE[df_13_EYE['ET_ValidityLeft'] == 1].shape"
   ]
  },
  {
   "cell_type": "markdown",
   "id": "83a3e568",
   "metadata": {},
   "source": [
    "Check the number of rows where `ET_ValidityRight` is 1 (invalid data for the right eye)."
   ]
  },
  {
   "cell_type": "code",
   "execution_count": null,
   "id": "b58cd61a",
   "metadata": {},
   "outputs": [],
   "source": [
    "df_13_EYE[df_13_EYE['ET_ValidityRight'] == 1].shape"
   ]
  },
  {
   "cell_type": "markdown",
   "id": "3b796278",
   "metadata": {},
   "source": [
    "Visualize the distribution of -1 and 1 values across columns using heatmaps. This helps identify columns with placeholder or indicator values."
   ]
  },
  {
   "cell_type": "code",
   "execution_count": null,
   "id": "4a533519",
   "metadata": {},
   "outputs": [],
   "source": [
    "plt.figure(figsize=(18, 8))\n",
    "\n",
    "plt.subplot(1, 2, 1)\n",
    "sns.heatmap(df_13_EYE == -1, cmap='viridis')\n",
    "plt.title('Heatmap of -1 Values')\n",
    "\n",
    "plt.subplot(1, 2, 2)\n",
    "sns.heatmap(df_13_EYE == 1, cmap='viridis')\n",
    "plt.title('Heatmap of 1 Values')\n",
    "\n",
    "plt.tight_layout()\n",
    "plt.show()"
   ]
  },
  {
   "cell_type": "markdown",
   "id": "7b9bb2fd",
   "metadata": {},
   "source": [
    "Check the number of rows where `ET_PupilLeft` is -1."
   ]
  },
  {
   "cell_type": "code",
   "execution_count": null,
   "id": "72a5ea00",
   "metadata": {},
   "outputs": [],
   "source": [
    "df_13_EYE[df_13_EYE['ET_PupilLeft'] == -1].shape"
   ]
  },
  {
   "cell_type": "markdown",
   "id": "f7148548",
   "metadata": {},
   "source": [
    "Check the number of rows where `ET_PupilRight` is -1."
   ]
  },
  {
   "cell_type": "code",
   "execution_count": null,
   "id": "038890ed",
   "metadata": {},
   "outputs": [],
   "source": [
    "df_13_EYE[df_13_EYE['ET_PupilRight'] == -1].shape"
   ]
  },
  {
   "cell_type": "markdown",
   "id": "943af014",
   "metadata": {},
   "source": [
    "Calculate the ratio of rows with -1 values in the `ET_PupilLeft` column to the total number of rows."
   ]
  },
  {
   "cell_type": "code",
   "execution_count": null,
   "id": "43c92eb5",
   "metadata": {},
   "outputs": [],
   "source": [
    "df_13_EYE[df_13_EYE['ET_PupilLeft'] == -1].shape[0] / df_13_EYE.shape[0]"
   ]
  },
  {
   "cell_type": "markdown",
   "id": "e931fbf2",
   "metadata": {},
   "source": [
    "Calculate the ratio of rows with -1 values in the `ET_PupilRight` column to the total number of rows."
   ]
  },
  {
   "cell_type": "code",
   "execution_count": null,
   "id": "6ecf16fd",
   "metadata": {},
   "outputs": [],
   "source": [
    "df_13_EYE[df_13_EYE['ET_PupilRight'] == -1].shape[0] / df_13_EYE.shape[0]"
   ]
  },
  {
   "cell_type": "markdown",
   "id": "5da20b66",
   "metadata": {},
   "source": [
    "Visualize the distribution of -1 values specifically for rows where validity is 1 (invalid data)."
   ]
  },
  {
   "cell_type": "code",
   "execution_count": null,
   "id": "8dff9ad3",
   "metadata": {},
   "outputs": [],
   "source": [
    "plt.figure(figsize=(18, 8))\n",
    "\n",
    "plt.subplot(1, 2, 1)\n",
    "sns.heatmap(df_13_EYE[df_13_EYE['ET_ValidityLeft'] == 1] == -1, cmap='viridis')\n",
    "plt.title('Heatmap of -1 Values')\n",
    "\n",
    "plt.subplot(1, 2, 2)\n",
    "sns.heatmap(df_13_EYE[df_13_EYE['ET_ValidityRight'] == 1] == -1, cmap='viridis')\n",
    "plt.title('Heatmap of -1 Values')\n",
    "\n",
    "plt.tight_layout()\n",
    "plt.show()"
   ]
  },
  {
   "cell_type": "markdown",
   "id": "f4b7cbb7",
   "metadata": {},
   "source": [
    "# Notes & Observations\n",
    "\n",
    "- The heatmaps reveal the distribution of -1 values across different columns.\n",
    "- It is evident that the `-1` values are not randomly scattered but appear in specific columns, notably `ET_GazeLeftx`, `ET_GazeLefty`, `ET_GazeRightx`, `ET_GazeRighty`, `ET_PupilLeft`, `ET_PupilRight`, `ET_DistanceLeft`, `ET_DistanceRight`, `ET_CameraLeftX`, `ET_CameraLeftY`, `ET_CameraRightX`, and `ET_CameraRightY`.\n",
    "- These `-1` values often coincide with instances where `ET_ValidityLeft` or `ET_ValidityRight` is 1, indicating invalid eye-tracking data. This suggests that `-1` is used as a placeholder for missing or invalid measurements in these columns when the eye tracker is not providing valid data for a particular eye.\n",
    "- Given that over 70% of the data in the `ET_PupilLeft` and `ET_PupilRight` columns is marked as invalid (-1), these columns may not be suitable for analysis and could be considered for dropping."
   ]
  },
  {
   "cell_type": "markdown",
   "id": "52914d99",
   "metadata": {},
   "source": [
    "Drop the `ET_PupilLeft` and `ET_PupilRight` columns due to the high percentage of invalid data."
   ]
  },
  {
   "cell_type": "code",
   "execution_count": null,
   "id": "7aa36ab5",
   "metadata": {},
   "outputs": [],
   "source": [
    "df_13_EYE.drop(['ET_PupilLeft', 'ET_PupilRight'], axis=1, inplace=True)"
   ]
  },
  {
   "cell_type": "markdown",
   "id": "48cda79b",
   "metadata": {},
   "source": [
    "Display the first few rows after dropping the pupil columns."
   ]
  },
  {
   "cell_type": "code",
   "execution_count": null,
   "id": "aaca4d4b",
   "metadata": {},
   "outputs": [],
   "source": [
    "df_13_EYE.head()"
   ]
  },
  {
   "cell_type": "markdown",
   "id": "ff375ba5",
   "metadata": {},
   "source": [
    "Visualize the distribution of -1 and 1 values again after dropping the pupil columns."
   ]
  },
  {
   "cell_type": "code",
   "execution_count": null,
   "id": "1f81478f",
   "metadata": {},
   "outputs": [],
   "source": [
    "plt.figure(figsize=(18, 8))\n",
    "\n",
    "plt.subplot(1, 2, 1)\n",
    "sns.heatmap(df_13_EYE == -1, cmap='viridis')\n",
    "plt.title('Heatmap of -1 Values')\n",
    "\n",
    "plt.subplot(1, 2, 2)\n",
    "sns.heatmap(df_13_EYE == 1, cmap='viridis')\n",
    "plt.title('Heatmap of -1 Values')\n",
    "\n",
    "plt.tight_layout()\n",
    "plt.show()"
   ]
  },
  {
   "cell_type": "markdown",
   "id": "79767456",
   "metadata": {},
   "source": [
    "Calculate the ratio of valid data points for the left eye."
   ]
  },
  {
   "cell_type": "code",
   "execution_count": null,
   "id": "1cfbd529",
   "metadata": {},
   "outputs": [],
   "source": [
    "valid_left_ratio  = 1 - df_13_EYE['ET_ValidityLeft'].mean()"
   ]
  },
  {
   "cell_type": "markdown",
   "id": "e646b1ed",
   "metadata": {},
   "source": [
    "Display the ratio of valid data points for the left eye."
   ]
  },
  {
   "cell_type": "code",
   "execution_count": null,
   "id": "835d09e4",
   "metadata": {},
   "outputs": [],
   "source": [
    "valid_left_ratio"
   ]
  },
  {
   "cell_type": "markdown",
   "id": "663bbdef",
   "metadata": {},
   "source": [
    "Calculate the ratio of valid data points for the right eye."
   ]
  },
  {
   "cell_type": "code",
   "execution_count": null,
   "id": "c24faca9",
   "metadata": {},
   "outputs": [],
   "source": [
    "valid_right_ratio = 1 - df_13_EYE['ET_ValidityRight'].mean()"
   ]
  },
  {
   "cell_type": "markdown",
   "id": "cbfcbe16",
   "metadata": {},
   "source": [
    "Display the ratio of valid data points for the right eye."
   ]
  },
  {
   "cell_type": "code",
   "execution_count": null,
   "id": "6e0ba217",
   "metadata": {},
   "outputs": [],
   "source": [
    "valid_right_ratio"
   ]
  },
  {
   "cell_type": "markdown",
   "id": "cbacfc17",
   "metadata": {},
   "source": [
    "Display the first few rows of the DataFrame."
   ]
  },
  {
   "cell_type": "code",
   "execution_count": null,
   "id": "00795a6f",
   "metadata": {},
   "outputs": [],
   "source": [
    "df_13_EYE.head()"
   ]
  },
  {
   "cell_type": "markdown",
   "id": "c12c2b97",
   "metadata": {},
   "source": [
    "Visualize the distributions of numeric columns using histograms with Kernel Density Estimate (KDE) plots. This helps understand the shape and spread of the data in each numeric column."
   ]
  },
  {
   "cell_type": "code",
   "execution_count": null,
   "id": "3f49f5cd",
   "metadata": {},
   "outputs": [],
   "source": [
    "# Select only the numeric columns for plotting histograms, excluding time-related columns\n",
    "numeric_cols = df_13_EYE.select_dtypes(include=np.number).columns\n",
    "cols_to_plot = [col for col in numeric_cols if col not in ['UnixTime']]\n",
    "\n",
    "# Calculate the number of rows and columns for the grid\n",
    "n_cols = 4  # You can adjust the number of columns as needed\n",
    "n_rows = (len(cols_to_plot) + n_cols - 1) // n_cols\n",
    "\n",
    "plt.figure(figsize=(n_cols * 5, n_rows * 4)) # Adjust figure size as needed\n",
    "\n",
    "for i, col in enumerate(cols_to_plot):\n",
    "    plt.subplot(n_rows, n_cols, i + 1)\n",
    "    sns.histplot(df_13_EYE[col], kde=True)\n",
    "    plt.title(f'Distribution of {col}')\n",
    "    plt.xlabel(col)\n",
    "    plt.ylabel('Frequency')\n",
    "\n",
    "plt.tight_layout()\n",
    "plt.show()"
   ]
  },
  {
   "cell_type": "markdown",
   "id": "d9167ace",
   "metadata": {},
   "source": [
    "List the names of the columns in the DataFrame."
   ]
  },
  {
   "cell_type": "code",
   "execution_count": null,
   "id": "c5be4e69",
   "metadata": {},
   "outputs": [],
   "source": [
    "df_13_EYE.columns"
   ]
  },
  {
   "cell_type": "markdown",
   "id": "97b8a2ee",
   "metadata": {},
   "source": [
    "Define a list of columns to be plotted over time."
   ]
  },
  {
   "cell_type": "code",
   "execution_count": null,
   "id": "29959302",
   "metadata": {},
   "outputs": [],
   "source": [
    "cols = ['ET_GazeLeftx', 'ET_GazeLefty',\n",
    "       'ET_GazeRightx', 'ET_GazeRighty', 'ET_TimeSignal', 'ET_DistanceLeft',\n",
    "       'ET_DistanceRight', 'ET_CameraLeftX', 'ET_CameraLeftY',\n",
    "       'ET_CameraRightX', 'ET_CameraRightY', 'ET_ValidityLeft',\n",
    "       'ET_ValidityRight']"
   ]
  },
  {
   "cell_type": "markdown",
   "id": "ed81176f",
   "metadata": {},
   "source": [
    "Plot each of the selected columns against the timestamp to visualize their trends and patterns over time. Markdown cells are added before each plot for better readability."
   ]
  },
  {
   "cell_type": "code",
   "execution_count": null,
   "id": "3e21332b",
   "metadata": {},
   "outputs": [],
   "source": [
    "from IPython.display import display, Markdown\n",
    "\n",
    "for col in cols:\n",
    "    # Add a markdown cell before each plot for better separation and labeling\n",
    "    display(Markdown(f'### {col} over Time'))\n",
    "    plt.figure(figsize=(16, 10))\n",
    "    plt.plot(df_13_EYE['Timestamp'], df_13_EYE[col])\n",
    "    plt.xlabel(\"Timestamp\") # Add x-axis label\n",
    "    plt.ylabel(col) # Add y-axis label\n",
    "    plt.show()"
   ]
  },
  {
   "cell_type": "markdown",
   "id": "d8c8a466",
   "metadata": {},
   "source": [
    "Visualize the distributions of numeric columns using boxplots. This helps identify potential outliers and the spread of the data."
   ]
  },
  {
   "cell_type": "code",
   "execution_count": null,
   "id": "02e0d3a1",
   "metadata": {},
   "outputs": [],
   "source": [
    "# Select only the numeric columns for plotting histograms, excluding time-related columns\n",
    "numeric_cols = df_13_EYE.select_dtypes(include=np.number).columns\n",
    "\n",
    "# Calculate the number of rows and columns for the grid\n",
    "n_cols = 4  # You can adjust the number of columns as needed\n",
    "n_rows = (len(numeric_cols) + n_cols - 1) // n_cols\n",
    "\n",
    "plt.figure(figsize=(n_cols * 5, n_rows * 4)) # Adjust figure size as needed\n",
    "\n",
    "for i, col in enumerate(numeric_cols):\n",
    "    plt.subplot(n_rows, n_cols, i + 1)\n",
    "    sns.boxplot(df_13_EYE[col])\n",
    "    plt.title(f'Boxplot of {col}')\n",
    "    plt.xlabel(col)\n",
    "\n",
    "plt.tight_layout()\n",
    "plt.show()"
   ]
  },
  {
   "cell_type": "markdown",
   "id": "cd3b8bf0",
   "metadata": {},
   "source": [
    "Replace the placeholder value -1 with NaN (Not a Number) in the DataFrame. This is done before imputation."
   ]
  },
  {
   "cell_type": "code",
   "execution_count": null,
   "id": "19eb52b2",
   "metadata": {},
   "outputs": [],
   "source": [
    "df_13_EYE.replace({-1: np.nan}, inplace=True)"
   ]
  },
  {
   "cell_type": "markdown",
   "id": "c020b7f3",
   "metadata": {},
   "source": [
    "Impute the missing values (NaN) in the numeric columns with the mean of each column."
   ]
  },
  {
   "cell_type": "code",
   "execution_count": null,
   "id": "541e36e0",
   "metadata": {},
   "outputs": [],
   "source": [
    "numeric_cols = df_13_EYE.select_dtypes(include=np.number).columns\n",
    "\n",
    "for col in numeric_cols:\n",
    "    df_13_EYE[col].fillna(df_13_EYE[col].mean(), inplace=True)"
   ]
  },
  {
   "cell_type": "markdown",
   "id": "15028566",
   "metadata": {},
   "source": [
    "Display the first few rows after imputing missing values."
   ]
  },
  {
   "cell_type": "code",
   "execution_count": null,
   "id": "08402092",
   "metadata": {},
   "outputs": [],
   "source": [
    "df_13_EYE.head()"
   ]
  },
  {
   "cell_type": "markdown",
   "id": "cba32f2c",
   "metadata": {},
   "source": [
    "Visualize the distributions of numeric columns again using histograms with KDE plots after imputation. This helps assess the impact of imputation on the data distributions."
   ]
  },
  {
   "cell_type": "code",
   "execution_count": null,
   "id": "17b3334a",
   "metadata": {},
   "outputs": [],
   "source": [
    "# Select only the numeric columns for plotting histograms, excluding time-related columns\n",
    "numeric_cols = df_13_EYE.select_dtypes(include=np.number).columns\n",
    "cols_to_plot = [col for col in numeric_cols if col not in ['UnixTime']]\n",
    "\n",
    "# Calculate the number of rows and columns for the grid\n",
    "n_cols = 4  # You can adjust the number of columns as needed\n",
    "n_rows = (len(cols_to_plot) + n_cols - 1) // n_cols\n",
    "\n",
    "plt.figure(figsize=(n_cols * 5, n_rows * 4)) # Adjust figure size as needed\n",
    "\n",
    "for i, col in enumerate(cols_to_plot):\n",
    "    plt.subplot(n_rows, n_cols, i + 1)\n",
    "    sns.histplot(df_13_EYE[col], kde=True)\n",
    "    plt.title(f'Distribution of {col}')\n",
    "    plt.xlabel(col)\n",
    "    plt.ylabel('Frequency')\n",
    "\n",
    "plt.tight_layout()\n",
    "plt.show()"
   ]
  },
  {
   "cell_type": "code",
   "execution_count": null,
   "id": "338a71e4",
   "metadata": {},
   "outputs": [],
   "source": []
  },
  {
   "cell_type": "markdown",
   "id": "95aaa34c",
   "metadata": {},
   "source": [
    "## Student 14"
   ]
  },
  {
   "cell_type": "code",
   "execution_count": null,
   "id": "1da49177",
   "metadata": {},
   "outputs": [],
   "source": [
    "%load_ext cudf"
   ]
  },
  {
   "cell_type": "code",
   "execution_count": null,
   "id": "f9358605",
   "metadata": {},
   "outputs": [],
   "source": [
    "import numpy as np\n",
    "import pandas as pd\n",
    "import matplotlib.pyplot as plt\n",
    "import seaborn as sns"
   ]
  },
  {
   "cell_type": "code",
   "execution_count": null,
   "id": "ba091fd2",
   "metadata": {},
   "outputs": [],
   "source": [
    "import datashader as ds\n",
    "import datashader.transfer_functions as tf"
   ]
  },
  {
   "cell_type": "code",
   "execution_count": null,
   "id": "8ed5ce8d",
   "metadata": {},
   "outputs": [],
   "source": [
    "pd.set_option('display.max_columns', None)"
   ]
  },
  {
   "cell_type": "code",
   "execution_count": null,
   "id": "b9d0ef04",
   "metadata": {},
   "outputs": [],
   "source": [
    "df_14_EYE = pd.read_csv('data/STData/14/14_EYE.csv')"
   ]
  },
  {
   "cell_type": "code",
   "execution_count": null,
   "id": "fc29777a",
   "metadata": {},
   "outputs": [],
   "source": [
    "df_14_EYE.head()"
   ]
  },
  {
   "cell_type": "code",
   "execution_count": null,
   "id": "4b7024ae",
   "metadata": {},
   "outputs": [],
   "source": [
    "df_14_EYE.shape"
   ]
  },
  {
   "cell_type": "code",
   "execution_count": null,
   "id": "142fbc6c",
   "metadata": {},
   "outputs": [],
   "source": [
    "df_14_EYE.columns"
   ]
  },
  {
   "cell_type": "code",
   "execution_count": null,
   "id": "10adf4aa",
   "metadata": {},
   "outputs": [],
   "source": [
    "df_14_EYE.info()"
   ]
  },
  {
   "cell_type": "code",
   "execution_count": null,
   "id": "31ab1555",
   "metadata": {},
   "outputs": [],
   "source": [
    "df_14_EYE.isnull().sum()"
   ]
  },
  {
   "cell_type": "code",
   "execution_count": null,
   "id": "0833e309",
   "metadata": {},
   "outputs": [],
   "source": [
    "plt.figure(figsize=(12,8))\n",
    "sns.heatmap(df_14_EYE.isnull(), cmap='viridis')\n",
    "plt.show()"
   ]
  },
  {
   "cell_type": "markdown",
   "id": "e9ff9ce1",
   "metadata": {},
   "source": [
    "# Notes & Observations\n",
    "\n",
    "- We observe many **null** (or missing) values in the `QuestionKey` columns.  \n",
    "- The nulls in the `QuestionKey` column may not represent “true” nulls. Rather, they follow interval patterns, suggesting that during those periods no question was displayed.  \n",
    "- These missing values in `QuestionKey` require additional investigation and context-aware handling.  "
   ]
  },
  {
   "cell_type": "code",
   "execution_count": null,
   "id": "1665dc86",
   "metadata": {},
   "outputs": [],
   "source": [
    "df_14_EYE['QuestionKey'].unique()"
   ]
  },
  {
   "cell_type": "code",
   "execution_count": null,
   "id": "50b75f0f",
   "metadata": {},
   "outputs": [],
   "source": [
    "df_14_EYE['Timestamp'] = pd.to_datetime(df_14_EYE['Timestamp'])"
   ]
  },
  {
   "cell_type": "code",
   "execution_count": null,
   "id": "8bb63794",
   "metadata": {},
   "outputs": [],
   "source": [
    "df_14_EYE.head(3)"
   ]
  },
  {
   "cell_type": "code",
   "execution_count": null,
   "id": "631c43f9",
   "metadata": {},
   "outputs": [],
   "source": [
    "df_14_EYE['QuestionKey'].fillna('None', inplace=True)"
   ]
  },
  {
   "cell_type": "code",
   "execution_count": null,
   "id": "bf453f23",
   "metadata": {},
   "outputs": [],
   "source": [
    "df_14_EYE['QuestionKey'].value_counts()"
   ]
  },
  {
   "cell_type": "code",
   "execution_count": null,
   "id": "d78c9c79",
   "metadata": {},
   "outputs": [],
   "source": [
    "plt.figure(figsize=(12,8))\n",
    "sns.heatmap(df_14_EYE.isnull(), cmap='viridis')\n",
    "plt.show()"
   ]
  },
  {
   "cell_type": "code",
   "execution_count": null,
   "id": "c305c549",
   "metadata": {},
   "outputs": [],
   "source": [
    "df_14_EYE.isnull().sum()"
   ]
  },
  {
   "cell_type": "code",
   "execution_count": null,
   "id": "0d7e1cf5",
   "metadata": {},
   "outputs": [],
   "source": [
    "df_14_EYE.dropna(inplace=True)"
   ]
  },
  {
   "cell_type": "code",
   "execution_count": null,
   "id": "2242a493",
   "metadata": {},
   "outputs": [],
   "source": [
    "df_14_EYE.head()"
   ]
  },
  {
   "cell_type": "code",
   "execution_count": null,
   "id": "8726fb9c",
   "metadata": {},
   "outputs": [],
   "source": [
    "df_14_EYE['Row'].unique()"
   ]
  },
  {
   "cell_type": "code",
   "execution_count": null,
   "id": "943cbd1a",
   "metadata": {},
   "outputs": [],
   "source": [
    "plt.figure(figsize=(8,6))\n",
    "sns.histplot(df_14_EYE['Row'])\n",
    "plt.show()"
   ]
  },
  {
   "cell_type": "markdown",
   "id": "733a343c",
   "metadata": {},
   "source": [
    "# Notes & Observations\n",
    "\n",
    "- The `Row` column appears to be a simple row index and does not provide meaningful information relevant to the eye-tracking data itself. Therefore, it can be dropped."
   ]
  },
  {
   "cell_type": "code",
   "execution_count": null,
   "id": "651248ac",
   "metadata": {},
   "outputs": [],
   "source": [
    "df_14_EYE.drop('Row', axis=1, inplace=True)"
   ]
  },
  {
   "cell_type": "code",
   "execution_count": null,
   "id": "93b249a4",
   "metadata": {},
   "outputs": [],
   "source": [
    "df_14_EYE['ET_ValidityLeft'].unique()"
   ]
  },
  {
   "cell_type": "code",
   "execution_count": null,
   "id": "d505e735",
   "metadata": {},
   "outputs": [],
   "source": [
    "df_14_EYE['ET_ValidityLeft'].value_counts()"
   ]
  },
  {
   "cell_type": "code",
   "execution_count": null,
   "id": "282c16d5",
   "metadata": {},
   "outputs": [],
   "source": [
    "df_14_EYE['ET_ValidityRight'].unique()"
   ]
  },
  {
   "cell_type": "code",
   "execution_count": null,
   "id": "84b7e805",
   "metadata": {},
   "outputs": [],
   "source": [
    "df_14_EYE['ET_ValidityRight'].value_counts()"
   ]
  },
  {
   "cell_type": "code",
   "execution_count": null,
   "id": "de7a6664",
   "metadata": {},
   "outputs": [],
   "source": [
    "plt.figure(figsize=(12, 6))\n",
    "\n",
    "plt.subplot(1, 2, 1)\n",
    "sns.barplot(x=df_14_EYE['ET_ValidityLeft'].value_counts().index, y=df_14_EYE['ET_ValidityLeft'].value_counts().values)\n",
    "plt.title('Count of ET_ValidityLeft')\n",
    "plt.xlabel('Validity')\n",
    "plt.ylabel('Count')\n",
    "\n",
    "\n",
    "plt.subplot(1, 2, 2)\n",
    "sns.barplot(x=df_14_EYE['ET_ValidityRight'].value_counts().index, y=df_14_EYE['ET_ValidityRight'].value_counts().values)\n",
    "plt.title('Count of ET_ValidityRight')\n",
    "plt.xlabel('Validity')\n",
    "plt.ylabel('Count')\n",
    "\n",
    "plt.tight_layout()\n",
    "plt.show()"
   ]
  },
  {
   "cell_type": "markdown",
   "id": "f3085c80",
   "metadata": {},
   "source": [
    "# Notes & Observations\n",
    "\n",
    "- The `ET_ValidityLeft` and `ET_ValidityRight` columns indicate the validity of the eye-tracking data for the left and right eye, respectively.\n",
    "- Based on the value counts and the bar plots, it appears that a value of `0.0` represents valid eye-tracking data, while a value of `4.0` represents invalid data.\n",
    "- Although the amount of invalid data is relatively small, removing these rows could introduce unwanted patterns or gaps in the time series data.\n",
    "- Therefore, we will keep the data and replace the value `4.0` with `1.0` in both `ET_ValidityLeft` and `ET_ValidityRight` columns. This will indicate to a machine learning model that the eye tracker had invalid data at those specific points in time while maintaining the integrity of the time series."
   ]
  },
  {
   "cell_type": "code",
   "execution_count": null,
   "id": "b6af7ad2",
   "metadata": {},
   "outputs": [],
   "source": [
    "validity_map = {4.0: 1.0, 0.0: 0.0}"
   ]
  },
  {
   "cell_type": "code",
   "execution_count": null,
   "id": "b0fdc26e",
   "metadata": {},
   "outputs": [],
   "source": [
    "df_14_EYE['ET_ValidityLeft'] = df_14_EYE['ET_ValidityLeft'].map(validity_map).astype(np.int8)\n",
    "df_14_EYE['ET_ValidityRight'] = df_14_EYE['ET_ValidityRight'].map(validity_map).astype(np.int8)"
   ]
  },
  {
   "cell_type": "code",
   "execution_count": null,
   "id": "bd578904",
   "metadata": {},
   "outputs": [],
   "source": [
    "df_14_EYE.head(3)"
   ]
  },
  {
   "cell_type": "code",
   "execution_count": null,
   "id": "9191ab7f",
   "metadata": {},
   "outputs": [],
   "source": [
    "df_14_EYE.describe()"
   ]
  },
  {
   "cell_type": "code",
   "execution_count": null,
   "id": "3c289caa",
   "metadata": {},
   "outputs": [],
   "source": [
    "df_14_EYE[df_14_EYE['ET_ValidityLeft'] == 1].shape"
   ]
  },
  {
   "cell_type": "code",
   "execution_count": null,
   "id": "0abca1c4",
   "metadata": {},
   "outputs": [],
   "source": [
    "df_14_EYE[df_14_EYE['ET_ValidityRight'] == 1].shape"
   ]
  },
  {
   "cell_type": "code",
   "execution_count": null,
   "id": "5d07d606",
   "metadata": {},
   "outputs": [],
   "source": [
    "plt.figure(figsize=(18, 8))\n",
    "\n",
    "plt.subplot(1, 2, 1)\n",
    "sns.heatmap(df_14_EYE == -1, cmap='viridis')\n",
    "plt.title('Heatmap of -1 Values')\n",
    "\n",
    "plt.subplot(1, 2, 2)\n",
    "sns.heatmap(df_14_EYE == 1, cmap='viridis')\n",
    "plt.title('Heatmap of 1 Values')\n",
    "\n",
    "plt.tight_layout()\n",
    "plt.show()"
   ]
  },
  {
   "cell_type": "code",
   "execution_count": null,
   "id": "146b21af",
   "metadata": {},
   "outputs": [],
   "source": [
    "df_14_EYE[df_14_EYE['ET_PupilLeft'] == -1].shape"
   ]
  },
  {
   "cell_type": "code",
   "execution_count": null,
   "id": "573b30df",
   "metadata": {},
   "outputs": [],
   "source": [
    "df_14_EYE[df_14_EYE['ET_PupilRight'] == -1].shape"
   ]
  },
  {
   "cell_type": "code",
   "execution_count": null,
   "id": "78dcdbc7",
   "metadata": {},
   "outputs": [],
   "source": [
    "df_14_EYE[df_14_EYE['ET_PupilLeft'] == -1].shape[0] / df_14_EYE.shape[0]"
   ]
  },
  {
   "cell_type": "code",
   "execution_count": null,
   "id": "dc17ea8f",
   "metadata": {},
   "outputs": [],
   "source": [
    "df_14_EYE[df_14_EYE['ET_PupilRight'] == -1].shape[0] / df_14_EYE.shape[0]"
   ]
  },
  {
   "cell_type": "code",
   "execution_count": null,
   "id": "a22da987",
   "metadata": {},
   "outputs": [],
   "source": [
    "plt.figure(figsize=(18, 8))\n",
    "\n",
    "plt.subplot(1, 2, 1)\n",
    "sns.heatmap(df_14_EYE[df_14_EYE['ET_ValidityLeft'] == 1] == -1, cmap='viridis')\n",
    "plt.title('Heatmap of -1 Values')\n",
    "\n",
    "plt.subplot(1, 2, 2)\n",
    "sns.heatmap(df_14_EYE[df_14_EYE['ET_ValidityRight'] == 1] == -1, cmap='viridis')\n",
    "plt.title('Heatmap of -1 Values')\n",
    "\n",
    "plt.tight_layout()\n",
    "plt.show()"
   ]
  },
  {
   "cell_type": "markdown",
   "id": "d58baa46",
   "metadata": {},
   "source": [
    "# Notes & Observations\n",
    "\n",
    "- The heatmaps reveal the distribution of -1 values across different columns.\n",
    "- It is evident that the `-1` values are not randomly scattered but appear in specific columns, notably `ET_GazeLeftx`, `ET_GazeLefty`, `ET_GazeRightx`, `ET_GazeRighty`, `ET_PupilLeft`, `ET_PupilRight`, `ET_DistanceLeft`, `ET_DistanceRight`, `ET_CameraLeftX`, `ET_CameraLeftY`, `ET_CameraRightX`, and `ET_CameraRightY`.\n",
    "- These `-1` values often coincide with instances where `ET_ValidityLeft` or `ET_ValidityRight` is 1, indicating invalid eye-tracking data. This suggests that `-1` is used as a placeholder for missing or invalid measurements in these columns when the eye tracker is not providing valid data for a particular eye.\n",
    "- Given that over 70% of the data in the `ET_PupilLeft` and `ET_PupilRight` columns is marked as invalid (-1), these columns may not be suitable for analysis and could be considered for dropping."
   ]
  },
  {
   "cell_type": "code",
   "execution_count": null,
   "id": "58eb7bf4",
   "metadata": {},
   "outputs": [],
   "source": [
    "df_14_EYE.drop(['ET_PupilLeft', 'ET_PupilRight'], axis=1, inplace=True)"
   ]
  },
  {
   "cell_type": "code",
   "execution_count": null,
   "id": "c91744c8",
   "metadata": {},
   "outputs": [],
   "source": [
    "df_14_EYE.head()"
   ]
  },
  {
   "cell_type": "code",
   "execution_count": null,
   "id": "7fc222e7",
   "metadata": {},
   "outputs": [],
   "source": [
    "plt.figure(figsize=(18, 8))\n",
    "\n",
    "plt.subplot(1, 2, 1)\n",
    "sns.heatmap(df_14_EYE == -1, cmap='viridis')\n",
    "plt.title('Heatmap of -1 Values')\n",
    "\n",
    "plt.subplot(1, 2, 2)\n",
    "sns.heatmap(df_14_EYE == 1, cmap='viridis')\n",
    "plt.title('Heatmap of -1 Values')\n",
    "\n",
    "plt.tight_layout()\n",
    "plt.show()"
   ]
  },
  {
   "cell_type": "code",
   "execution_count": null,
   "id": "78877d61",
   "metadata": {},
   "outputs": [],
   "source": [
    "valid_left_ratio  = 1 - df_14_EYE['ET_ValidityLeft'].mean()\n",
    "valid_right_ratio = 1 - df_14_EYE['ET_ValidityRight'].mean()"
   ]
  },
  {
   "cell_type": "code",
   "execution_count": null,
   "id": "f2e91a02",
   "metadata": {},
   "outputs": [],
   "source": [
    "valid_left_ratio"
   ]
  },
  {
   "cell_type": "code",
   "execution_count": null,
   "id": "967c2018",
   "metadata": {},
   "outputs": [],
   "source": [
    "valid_right_ratio"
   ]
  },
  {
   "cell_type": "code",
   "execution_count": null,
   "id": "dfb208e7",
   "metadata": {},
   "outputs": [],
   "source": [
    "df_14_EYE.head()"
   ]
  },
  {
   "cell_type": "code",
   "execution_count": null,
   "id": "1ee3e7da",
   "metadata": {},
   "outputs": [],
   "source": [
    "# Select only the numeric columns for plotting histograms, excluding time-related columns\n",
    "numeric_cols = df_14_EYE.select_dtypes(include=np.number).columns\n",
    "cols_to_plot = [col for col in numeric_cols if col not in ['UnixTime']]\n",
    "\n",
    "# Calculate the number of rows and columns for the grid\n",
    "n_cols = 4  # You can adjust the number of columns as needed\n",
    "n_rows = (len(cols_to_plot) + n_cols - 1) // n_cols\n",
    "\n",
    "plt.figure(figsize=(n_cols * 5, n_rows * 4)) # Adjust figure size as needed\n",
    "\n",
    "for i, col in enumerate(cols_to_plot):\n",
    "    plt.subplot(n_rows, n_cols, i + 1)\n",
    "    sns.histplot(df_14_EYE[col], kde=True)\n",
    "    plt.title(f'Distribution of {col}')\n",
    "    plt.xlabel(col)\n",
    "    plt.ylabel('Frequency')\n",
    "\n",
    "plt.tight_layout()\n",
    "plt.show()"
   ]
  },
  {
   "cell_type": "code",
   "execution_count": null,
   "id": "e433f821",
   "metadata": {},
   "outputs": [],
   "source": [
    "df_14_EYE.columns"
   ]
  },
  {
   "cell_type": "code",
   "execution_count": null,
   "id": "70556370",
   "metadata": {},
   "outputs": [],
   "source": [
    "cols = ['ET_GazeLeftx', 'ET_GazeLefty',\n",
    "       'ET_GazeRightx', 'ET_GazeRighty', 'ET_TimeSignal', 'ET_DistanceLeft',\n",
    "       'ET_DistanceRight', 'ET_CameraLeftX', 'ET_CameraLeftY',\n",
    "       'ET_CameraRightX', 'ET_CameraRightY', 'ET_ValidityLeft',\n",
    "       'ET_ValidityRight']"
   ]
  },
  {
   "cell_type": "code",
   "execution_count": null,
   "id": "72f77249",
   "metadata": {},
   "outputs": [],
   "source": [
    "from IPython.display import display, Markdown\n",
    "\n",
    "for col in cols:\n",
    "    # Add a markdown cell before each plot for better separation and labeling\n",
    "    display(Markdown(f'### {col} over Time'))\n",
    "    plt.figure(figsize=(16, 10))\n",
    "    plt.plot(df_14_EYE['Timestamp'], df_14_EYE[col])\n",
    "    plt.xlabel(\"Timestamp\") # Add x-axis label\n",
    "    plt.ylabel(col) # Add y-axis label\n",
    "    plt.show()"
   ]
  },
  {
   "cell_type": "code",
   "execution_count": null,
   "id": "3ff630fc",
   "metadata": {},
   "outputs": [],
   "source": [
    "# Select only the numeric columns for plotting histograms, excluding time-related columns\n",
    "numeric_cols = df_14_EYE.select_dtypes(include=np.number).columns\n",
    "\n",
    "# Calculate the number of rows and columns for the grid\n",
    "n_cols = 4  # You can adjust the number of columns as needed\n",
    "n_rows = (len(numeric_cols) + n_cols - 1) // n_cols\n",
    "\n",
    "plt.figure(figsize=(n_cols * 5, n_rows * 4)) # Adjust figure size as needed\n",
    "\n",
    "for i, col in enumerate(numeric_cols):\n",
    "    plt.subplot(n_rows, n_cols, i + 1)\n",
    "    sns.boxplot(df_14_EYE[col])\n",
    "    plt.title(f'Boxplot of {col}')\n",
    "    plt.xlabel(col)\n",
    "\n",
    "plt.tight_layout()\n",
    "plt.show()"
   ]
  },
  {
   "cell_type": "code",
   "execution_count": null,
   "id": "48c82cb3",
   "metadata": {},
   "outputs": [],
   "source": [
    "df_14_EYE.replace({-1: np.nan}, inplace=True)"
   ]
  },
  {
   "cell_type": "code",
   "execution_count": null,
   "id": "83bfb57b",
   "metadata": {},
   "outputs": [],
   "source": [
    "numeric_cols = df_14_EYE.select_dtypes(include=np.number).columns\n",
    "\n",
    "for col in numeric_cols:\n",
    "    df_14_EYE[col].fillna(df_14_EYE[col].mean(), inplace=True)"
   ]
  },
  {
   "cell_type": "code",
   "execution_count": null,
   "id": "15326e5c",
   "metadata": {},
   "outputs": [],
   "source": [
    "df_14_EYE.head()"
   ]
  },
  {
   "cell_type": "code",
   "execution_count": null,
   "id": "16a3821b",
   "metadata": {},
   "outputs": [],
   "source": [
    "# Select only the numeric columns for plotting histograms, excluding time-related columns\n",
    "numeric_cols = df_14_EYE.select_dtypes(include=np.number).columns\n",
    "cols_to_plot = [col for col in numeric_cols if col not in ['UnixTime']]\n",
    "\n",
    "# Calculate the number of rows and columns for the grid\n",
    "n_cols = 4  # You can adjust the number of columns as needed\n",
    "n_rows = (len(cols_to_plot) + n_cols - 1) // n_cols\n",
    "\n",
    "plt.figure(figsize=(n_cols * 5, n_rows * 4)) # Adjust figure size as needed\n",
    "\n",
    "for i, col in enumerate(cols_to_plot):\n",
    "    plt.subplot(n_rows, n_cols, i + 1)\n",
    "    sns.histplot(df_14_EYE[col], kde=True)\n",
    "    plt.title(f'Distribution of {col}')\n",
    "    plt.xlabel(col)\n",
    "    plt.ylabel('Frequency')\n",
    "\n",
    "plt.tight_layout()\n",
    "plt.show()"
   ]
  },
  {
   "cell_type": "code",
   "execution_count": null,
   "id": "d956fc88",
   "metadata": {},
   "outputs": [],
   "source": []
  },
  {
   "cell_type": "code",
   "execution_count": null,
   "id": "35ca0286",
   "metadata": {},
   "outputs": [],
   "source": []
  },
  {
   "cell_type": "code",
   "execution_count": null,
   "id": "bbab6273",
   "metadata": {},
   "outputs": [],
   "source": []
  },
  {
   "cell_type": "code",
   "execution_count": null,
   "id": "301ce0cd",
   "metadata": {},
   "outputs": [],
   "source": []
  },
  {
   "cell_type": "code",
   "execution_count": null,
   "id": "50c55cce",
   "metadata": {},
   "outputs": [],
   "source": []
  },
  {
   "cell_type": "code",
   "execution_count": null,
   "id": "8104a661",
   "metadata": {},
   "outputs": [],
   "source": []
  },
  {
   "cell_type": "code",
   "execution_count": null,
   "id": "d714518d",
   "metadata": {},
   "outputs": [],
   "source": []
  },
  {
   "cell_type": "code",
   "execution_count": null,
   "id": "45d3bfff",
   "metadata": {},
   "outputs": [],
   "source": []
  },
  {
   "cell_type": "code",
   "execution_count": null,
   "id": "8ff70ba0",
   "metadata": {},
   "outputs": [],
   "source": []
  },
  {
   "cell_type": "code",
   "execution_count": null,
   "id": "93de44ba",
   "metadata": {},
   "outputs": [],
   "source": []
  },
  {
   "cell_type": "code",
   "execution_count": null,
   "id": "e5cac42f",
   "metadata": {},
   "outputs": [],
   "source": []
  },
  {
   "cell_type": "code",
   "execution_count": null,
   "id": "3e20a262",
   "metadata": {},
   "outputs": [],
   "source": []
  },
  {
   "cell_type": "markdown",
   "id": "cd064300",
   "metadata": {},
   "source": [
    "# Eye Tracking Data Analysis\n",
    "\n",
    "This notebook performs exploratory data analysis and cleaning on eye-tracking data.\n",
    "\n",
    "## Data Loading and Initial Inspection"
   ]
  },
  {
   "cell_type": "code",
   "execution_count": null,
   "id": "9e4fe6d1",
   "metadata": {},
   "outputs": [],
   "source": [
    "%load_ext cudf"
   ]
  },
  {
   "cell_type": "markdown",
   "id": "2f3b0583",
   "metadata": {},
   "source": [
    "Import necessary libraries for data manipulation, analysis, and visualization."
   ]
  },
  {
   "cell_type": "code",
   "execution_count": null,
   "id": "ac33af8a",
   "metadata": {},
   "outputs": [],
   "source": [
    "import numpy as np\n",
    "import pandas as pd\n",
    "import matplotlib.pyplot as plt\n",
    "import seaborn as sns"
   ]
  },
  {
   "cell_type": "markdown",
   "id": "758492fe",
   "metadata": {},
   "source": [
    "Import libraries for datashader, which can be used for visualizing large datasets."
   ]
  },
  {
   "cell_type": "code",
   "execution_count": null,
   "id": "51ab281a",
   "metadata": {},
   "outputs": [],
   "source": [
    "import datashader as ds\n",
    "import datashader.transfer_functions as tf"
   ]
  },
  {
   "cell_type": "markdown",
   "id": "b1eed13a",
   "metadata": {},
   "source": [
    "Set pandas display options to show all columns."
   ]
  },
  {
   "cell_type": "code",
   "execution_count": null,
   "id": "1bf8b7ed",
   "metadata": {},
   "outputs": [],
   "source": [
    "pd.set_option('display.max_columns', None)"
   ]
  },
  {
   "cell_type": "markdown",
   "id": "48774526",
   "metadata": {},
   "source": [
    "Load the eye-tracking data from the specified CSV file into a pandas DataFrame."
   ]
  },
  {
   "cell_type": "code",
   "execution_count": null,
   "id": "7f83ed6d",
   "metadata": {},
   "outputs": [],
   "source": [
    "df_14_EYE = pd.read_csv('data/STData/14/14_EYE.csv')"
   ]
  },
  {
   "cell_type": "markdown",
   "id": "6b550087",
   "metadata": {},
   "source": [
    "Display the first few rows of the DataFrame to get an initial look at the data structure and content."
   ]
  },
  {
   "cell_type": "code",
   "execution_count": null,
   "id": "7f1df727",
   "metadata": {},
   "outputs": [],
   "source": [
    "df_14_EYE.head()"
   ]
  },
  {
   "cell_type": "markdown",
   "id": "bc4b7824",
   "metadata": {},
   "source": [
    "Check the dimensions (number of rows and columns) of the DataFrame."
   ]
  },
  {
   "cell_type": "code",
   "execution_count": null,
   "id": "ff684938",
   "metadata": {},
   "outputs": [],
   "source": [
    "df_14_EYE.shape"
   ]
  },
  {
   "cell_type": "markdown",
   "id": "666678a9",
   "metadata": {},
   "source": [
    "List the names of all columns in the DataFrame."
   ]
  },
  {
   "cell_type": "code",
   "execution_count": null,
   "id": "1fc74fce",
   "metadata": {},
   "outputs": [],
   "source": [
    "df_14_EYE.columns"
   ]
  },
  {
   "cell_type": "markdown",
   "id": "e8dfff6f",
   "metadata": {},
   "source": [
    "Display concise information about the DataFrame, including the data types of each column and the number of non-null values. This helps identify columns with missing data."
   ]
  },
  {
   "cell_type": "code",
   "execution_count": null,
   "id": "204cbbb0",
   "metadata": {},
   "outputs": [],
   "source": [
    "df_14_EYE.info()"
   ]
  },
  {
   "cell_type": "markdown",
   "id": "22abf46b",
   "metadata": {},
   "source": [
    "Calculate and display the number of missing values in each column."
   ]
  },
  {
   "cell_type": "code",
   "execution_count": null,
   "id": "720da332",
   "metadata": {},
   "outputs": [],
   "source": [
    "df_14_EYE.isnull().sum()"
   ]
  },
  {
   "cell_type": "markdown",
   "id": "b7390120",
   "metadata": {},
   "source": [
    "Visualize the distribution of missing values using a heatmap. This provides a visual representation of which columns have missing data and the extent of missingness."
   ]
  },
  {
   "cell_type": "code",
   "execution_count": null,
   "id": "537f5a52",
   "metadata": {},
   "outputs": [],
   "source": [
    "plt.figure(figsize=(12,8))\n",
    "sns.heatmap(df_14_EYE.isnull(), cmap='viridis')\n",
    "plt.show()"
   ]
  },
  {
   "cell_type": "markdown",
   "id": "878bd5a0",
   "metadata": {},
   "source": [
    "# Notes & Observations\n",
    "\n",
    "- We observe many **null** (or missing) values in the `QuestionKey` columns.\n",
    "- The nulls in the `QuestionKey` column may not represent “true” nulls. Rather, they follow interval patterns, suggesting that during those periods no question was displayed.\n",
    "- These missing values in `QuestionKey` require additional investigation and context-aware handling."
   ]
  },
  {
   "cell_type": "markdown",
   "id": "29ae87ba",
   "metadata": {},
   "source": [
    "Display the unique values in the `QuestionKey` column to understand the different types of questions or states recorded."
   ]
  },
  {
   "cell_type": "code",
   "execution_count": null,
   "id": "44a4c090",
   "metadata": {},
   "outputs": [],
   "source": [
    "df_14_EYE['QuestionKey'].unique()"
   ]
  },
  {
   "cell_type": "markdown",
   "id": "962b1cac",
   "metadata": {},
   "source": [
    "Convert the `Timestamp` column to datetime objects. This is crucial for any time series analysis or manipulation."
   ]
  },
  {
   "cell_type": "code",
   "execution_count": null,
   "id": "dca1bd14",
   "metadata": {},
   "outputs": [],
   "source": [
    "df_14_EYE['Timestamp'] = pd.to_datetime(df_14_EYE['Timestamp'])"
   ]
  },
  {
   "cell_type": "markdown",
   "id": "e4064689",
   "metadata": {},
   "source": [
    "Display the first few rows again to see the effect of the timestamp conversion."
   ]
  },
  {
   "cell_type": "code",
   "execution_count": null,
   "id": "6d37ac4d",
   "metadata": {},
   "outputs": [],
   "source": [
    "df_14_EYE.head(3)"
   ]
  },
  {
   "cell_type": "markdown",
   "id": "26192fdc",
   "metadata": {},
   "source": [
    "Fill the missing values in the `QuestionKey` column with the string 'None'. This helps to explicitly mark periods where no question was active."
   ]
  },
  {
   "cell_type": "code",
   "execution_count": null,
   "id": "7f360eca",
   "metadata": {},
   "outputs": [],
   "source": [
    "df_14_EYE['QuestionKey'].fillna('None', inplace=True)"
   ]
  },
  {
   "cell_type": "markdown",
   "id": "768bfa2e",
   "metadata": {},
   "source": [
    "Count the occurrences of each unique value in the `QuestionKey` column after filling missing values."
   ]
  },
  {
   "cell_type": "code",
   "execution_count": null,
   "id": "857caee3",
   "metadata": {},
   "outputs": [],
   "source": [
    "df_14_EYE['QuestionKey'].value_counts()"
   ]
  },
  {
   "cell_type": "markdown",
   "id": "844e9675",
   "metadata": {},
   "source": [
    "Display the heatmap of missing values again to confirm that the missing values in `QuestionKey` have been handled."
   ]
  },
  {
   "cell_type": "code",
   "execution_count": null,
   "id": "88a13414",
   "metadata": {},
   "outputs": [],
   "source": [
    "plt.figure(figsize=(12,8))\n",
    "sns.heatmap(df_14_EYE.isnull(), cmap='viridis')\n",
    "plt.show()"
   ]
  },
  {
   "cell_type": "markdown",
   "id": "806d9462",
   "metadata": {},
   "source": [
    "Recalculate and display the number of missing values per column to confirm the changes after handling `QuestionKey`."
   ]
  },
  {
   "cell_type": "code",
   "execution_count": null,
   "id": "0721e1e0",
   "metadata": {},
   "outputs": [],
   "source": [
    "df_14_EYE.isnull().sum()"
   ]
  },
  {
   "cell_type": "markdown",
   "id": "11426e56",
   "metadata": {},
   "source": [
    "Drop rows that still contain any missing values. This is done after handling `QuestionKey` separately."
   ]
  },
  {
   "cell_type": "code",
   "execution_count": null,
   "id": "30a33aa9",
   "metadata": {},
   "outputs": [],
   "source": [
    "df_14_EYE.dropna(inplace=True)"
   ]
  },
  {
   "cell_type": "markdown",
   "id": "201c7d5f",
   "metadata": {},
   "source": [
    "Display the first few rows after dropping rows with missing values."
   ]
  },
  {
   "cell_type": "code",
   "execution_count": null,
   "id": "cf045773",
   "metadata": {},
   "outputs": [],
   "source": [
    "df_14_EYE.head()"
   ]
  },
  {
   "cell_type": "markdown",
   "id": "82890078",
   "metadata": {},
   "source": [
    "Display the unique values in the `Row` column."
   ]
  },
  {
   "cell_type": "code",
   "execution_count": null,
   "id": "20b7d551",
   "metadata": {},
   "outputs": [],
   "source": [
    "df_14_EYE['Row'].unique()"
   ]
  },
  {
   "cell_type": "markdown",
   "id": "9eb05d14",
   "metadata": {},
   "source": [
    "Plot a histogram of the `Row` column to visualize its distribution."
   ]
  },
  {
   "cell_type": "code",
   "execution_count": null,
   "id": "6989a8fd",
   "metadata": {},
   "outputs": [],
   "source": [
    "plt.figure(figsize=(8,6))\n",
    "sns.histplot(df_14_EYE['Row'])\n",
    "plt.show()"
   ]
  },
  {
   "cell_type": "markdown",
   "id": "48bbfe2b",
   "metadata": {},
   "source": [
    "# Notes & Observations\n",
    "\n",
    "- The `Row` column appears to be a simple row index and does not provide meaningful information relevant to the eye-tracking data itself. Therefore, it can be dropped."
   ]
  },
  {
   "cell_type": "markdown",
   "id": "e684b398",
   "metadata": {},
   "source": [
    "Drop the `Row` column as it is not relevant for the analysis."
   ]
  },
  {
   "cell_type": "code",
   "execution_count": null,
   "id": "6605459c",
   "metadata": {},
   "outputs": [],
   "source": [
    "df_14_EYE.drop('Row', axis=1, inplace=True)"
   ]
  },
  {
   "cell_type": "markdown",
   "id": "95a1adf4",
   "metadata": {},
   "source": [
    "Display the unique values in the `ET_ValidityLeft` column."
   ]
  },
  {
   "cell_type": "code",
   "execution_count": null,
   "id": "ac00138b",
   "metadata": {},
   "outputs": [],
   "source": [
    "df_14_EYE['ET_ValidityLeft'].unique()"
   ]
  },
  {
   "cell_type": "markdown",
   "id": "61009eb7",
   "metadata": {},
   "source": [
    "Count the occurrences of each unique value in the `ET_ValidityLeft` column."
   ]
  },
  {
   "cell_type": "code",
   "execution_count": null,
   "id": "598d1a91",
   "metadata": {},
   "outputs": [],
   "source": [
    "df_14_EYE['ET_ValidityLeft'].value_counts()"
   ]
  },
  {
   "cell_type": "markdown",
   "id": "59c56fea",
   "metadata": {},
   "source": [
    "Display the unique values in the `ET_ValidityRight` column."
   ]
  },
  {
   "cell_type": "code",
   "execution_count": null,
   "id": "1649f7c6",
   "metadata": {},
   "outputs": [],
   "source": [
    "df_14_EYE['ET_ValidityRight'].unique()"
   ]
  },
  {
   "cell_type": "markdown",
   "id": "651e5c57",
   "metadata": {},
   "source": [
    "Count the occurrences of each unique value in the `ET_ValidityRight` column."
   ]
  },
  {
   "cell_type": "code",
   "execution_count": null,
   "id": "94d36380",
   "metadata": {},
   "outputs": [],
   "source": [
    "df_14_EYE['ET_ValidityRight'].value_counts()"
   ]
  },
  {
   "cell_type": "markdown",
   "id": "88c87439",
   "metadata": {},
   "source": [
    "Visualize the counts of valid and invalid data for both left and right eyes using bar plots."
   ]
  },
  {
   "cell_type": "code",
   "execution_count": null,
   "id": "65e51902",
   "metadata": {},
   "outputs": [],
   "source": [
    "plt.figure(figsize=(12, 6))\n",
    "\n",
    "plt.subplot(1, 2, 1)\n",
    "sns.barplot(x=df_14_EYE['ET_ValidityLeft'].value_counts().index, y=df_14_EYE['ET_ValidityLeft'].value_counts().values)\n",
    "plt.title('Count of ET_ValidityLeft')\n",
    "plt.xlabel('Validity')\n",
    "plt.ylabel('Count')\n",
    "\n",
    "\n",
    "plt.subplot(1, 2, 2)\n",
    "sns.barplot(x=df_14_EYE['ET_ValidityRight'].value_counts().index, y=df_14_EYE['ET_ValidityRight'].value_counts().values)\n",
    "plt.title('Count of ET_ValidityRight')\n",
    "plt.xlabel('Validity')\n",
    "plt.ylabel('Count')\n",
    "\n",
    "plt.tight_layout()\n",
    "plt.show()"
   ]
  },
  {
   "cell_type": "markdown",
   "id": "a2ca7f7d",
   "metadata": {},
   "source": [
    "# Notes & Observations\n",
    "\n",
    "- The `ET_ValidityLeft` and `ET_ValidityRight` columns indicate the validity of the eye-tracking data for the left and right eye, respectively.\n",
    "- Based on the value counts and the bar plots, it appears that a value of `0.0` represents valid eye-tracking data, while a value of `4.0` represents invalid data.\n",
    "- Although the amount of invalid data is relatively small, removing these rows could introduce unwanted patterns or gaps in the time series data.\n",
    "- Therefore, we will keep the data and replace the value `4.0` with `1.0` in both `ET_ValidityLeft` and `ET_ValidityRight` columns. This will indicate to a machine learning model that the eye tracker had invalid data at those specific points in time while maintaining the integrity of the time series."
   ]
  },
  {
   "cell_type": "markdown",
   "id": "97e60196",
   "metadata": {},
   "source": [
    "Define a mapping to convert validity values from `0.0` and `4.0` to `0` and `1`."
   ]
  },
  {
   "cell_type": "code",
   "execution_count": null,
   "id": "d7cd331f",
   "metadata": {},
   "outputs": [],
   "source": [
    "validity_map = {4.0: 1.0, 0.0: 0.0}"
   ]
  },
  {
   "cell_type": "markdown",
   "id": "f91e60d8",
   "metadata": {},
   "source": [
    "Apply the mapping to the `ET_ValidityLeft` and `ET_ValidityRight` columns and convert the data type to integer."
   ]
  },
  {
   "cell_type": "code",
   "execution_count": null,
   "id": "2916ac41",
   "metadata": {},
   "outputs": [],
   "source": [
    "df_14_EYE['ET_ValidityLeft'] = df_14_EYE['ET_ValidityLeft'].map(validity_map).astype(np.int8)\n",
    "df_14_EYE['ET_ValidityRight'] = df_14_EYE['ET_ValidityRight'].map(validity_map).astype(np.int8)"
   ]
  },
  {
   "cell_type": "markdown",
   "id": "1ffb2b24",
   "metadata": {},
   "source": [
    "Display the first few rows to see the updated validity columns."
   ]
  },
  {
   "cell_type": "code",
   "execution_count": null,
   "id": "ae982fe6",
   "metadata": {},
   "outputs": [],
   "source": [
    "df_14_EYE.head(3)"
   ]
  },
  {
   "cell_type": "markdown",
   "id": "9a4a746a",
   "metadata": {},
   "source": [
    "Display descriptive statistics for the DataFrame, including count, mean, standard deviation, min, max, and quartiles for numeric columns."
   ]
  },
  {
   "cell_type": "code",
   "execution_count": null,
   "id": "759a11c8",
   "metadata": {},
   "outputs": [],
   "source": [
    "df_14_EYE.describe()"
   ]
  },
  {
   "cell_type": "markdown",
   "id": "20b0f97b",
   "metadata": {},
   "source": [
    "Check the number of rows where `ET_ValidityLeft` is 1 (invalid data for the left eye)."
   ]
  },
  {
   "cell_type": "code",
   "execution_count": null,
   "id": "e9a54c93",
   "metadata": {},
   "outputs": [],
   "source": [
    "df_14_EYE[df_14_EYE['ET_ValidityLeft'] == 1].shape"
   ]
  },
  {
   "cell_type": "markdown",
   "id": "7d3ea899",
   "metadata": {},
   "source": [
    "Check the number of rows where `ET_ValidityRight` is 1 (invalid data for the right eye)."
   ]
  },
  {
   "cell_type": "code",
   "execution_count": null,
   "id": "12cc8700",
   "metadata": {},
   "outputs": [],
   "source": [
    "df_14_EYE[df_14_EYE['ET_ValidityRight'] == 1].shape"
   ]
  },
  {
   "cell_type": "markdown",
   "id": "09fe2100",
   "metadata": {},
   "source": [
    "Visualize the distribution of -1 and 1 values across columns using heatmaps. This helps identify columns with placeholder or indicator values."
   ]
  },
  {
   "cell_type": "code",
   "execution_count": null,
   "id": "dcac5b94",
   "metadata": {},
   "outputs": [],
   "source": [
    "plt.figure(figsize=(18, 8))\n",
    "\n",
    "plt.subplot(1, 2, 1)\n",
    "sns.heatmap(df_14_EYE == -1, cmap='viridis')\n",
    "plt.title('Heatmap of -1 Values')\n",
    "\n",
    "plt.subplot(1, 2, 2)\n",
    "sns.heatmap(df_14_EYE == 1, cmap='viridis')\n",
    "plt.title('Heatmap of 1 Values')\n",
    "\n",
    "plt.tight_layout()\n",
    "plt.show()"
   ]
  },
  {
   "cell_type": "markdown",
   "id": "269c2d54",
   "metadata": {},
   "source": [
    "Check the number of rows where `ET_PupilLeft` is -1."
   ]
  },
  {
   "cell_type": "code",
   "execution_count": null,
   "id": "132c58e4",
   "metadata": {},
   "outputs": [],
   "source": [
    "df_14_EYE[df_14_EYE['ET_PupilLeft'] == -1].shape"
   ]
  },
  {
   "cell_type": "markdown",
   "id": "35e3ba5e",
   "metadata": {},
   "source": [
    "Check the number of rows where `ET_PupilRight` is -1."
   ]
  },
  {
   "cell_type": "code",
   "execution_count": null,
   "id": "2b345f58",
   "metadata": {},
   "outputs": [],
   "source": [
    "df_14_EYE[df_14_EYE['ET_PupilRight'] == -1].shape"
   ]
  },
  {
   "cell_type": "markdown",
   "id": "e2d2faf4",
   "metadata": {},
   "source": [
    "Calculate the ratio of rows with -1 values in the `ET_PupilLeft` column to the total number of rows."
   ]
  },
  {
   "cell_type": "code",
   "execution_count": null,
   "id": "3e554a83",
   "metadata": {},
   "outputs": [],
   "source": [
    "df_14_EYE[df_14_EYE['ET_PupilLeft'] == -1].shape[0] / df_14_EYE.shape[0]"
   ]
  },
  {
   "cell_type": "markdown",
   "id": "2cb607b5",
   "metadata": {},
   "source": [
    "Calculate the ratio of rows with -1 values in the `ET_PupilRight` column to the total number of rows."
   ]
  },
  {
   "cell_type": "code",
   "execution_count": null,
   "id": "32089bc9",
   "metadata": {},
   "outputs": [],
   "source": [
    "df_14_EYE[df_14_EYE['ET_PupilRight'] == -1].shape[0] / df_14_EYE.shape[0]"
   ]
  },
  {
   "cell_type": "markdown",
   "id": "af6b9be0",
   "metadata": {},
   "source": [
    "Visualize the distribution of -1 values specifically for rows where validity is 1 (invalid data)."
   ]
  },
  {
   "cell_type": "code",
   "execution_count": null,
   "id": "2d4d4bf9",
   "metadata": {},
   "outputs": [],
   "source": [
    "plt.figure(figsize=(18, 8))\n",
    "\n",
    "plt.subplot(1, 2, 1)\n",
    "sns.heatmap(df_14_EYE[df_14_EYE['ET_ValidityLeft'] == 1] == -1, cmap='viridis')\n",
    "plt.title('Heatmap of -1 Values')\n",
    "\n",
    "plt.subplot(1, 2, 2)\n",
    "sns.heatmap(df_14_EYE[df_14_EYE['ET_ValidityRight'] == 1] == -1, cmap='viridis')\n",
    "plt.title('Heatmap of -1 Values')\n",
    "\n",
    "plt.tight_layout()\n",
    "plt.show()"
   ]
  },
  {
   "cell_type": "markdown",
   "id": "ce311751",
   "metadata": {},
   "source": [
    "# Notes & Observations\n",
    "\n",
    "- The heatmaps reveal the distribution of -1 values across different columns.\n",
    "- It is evident that the `-1` values are not randomly scattered but appear in specific columns, notably `ET_GazeLeftx`, `ET_GazeLefty`, `ET_GazeRightx`, `ET_GazeRighty`, `ET_PupilLeft`, `ET_PupilRight`, `ET_DistanceLeft`, `ET_DistanceRight`, `ET_CameraLeftX`, `ET_CameraLeftY`, `ET_CameraRightX`, and `ET_CameraRightY`.\n",
    "- These `-1` values often coincide with instances where `ET_ValidityLeft` or `ET_ValidityRight` is 1, indicating invalid eye-tracking data. This suggests that `-1` is used as a placeholder for missing or invalid measurements in these columns when the eye tracker is not providing valid data for a particular eye.\n",
    "- Given that over 70% of the data in the `ET_PupilLeft` and `ET_PupilRight` columns is marked as invalid (-1), these columns may not be suitable for analysis and could be considered for dropping."
   ]
  },
  {
   "cell_type": "markdown",
   "id": "62922e91",
   "metadata": {},
   "source": [
    "Drop the `ET_PupilLeft` and `ET_PupilRight` columns due to the high percentage of invalid data."
   ]
  },
  {
   "cell_type": "code",
   "execution_count": null,
   "id": "28a2deb9",
   "metadata": {},
   "outputs": [],
   "source": [
    "df_14_EYE.drop(['ET_PupilLeft', 'ET_PupilRight'], axis=1, inplace=True)"
   ]
  },
  {
   "cell_type": "markdown",
   "id": "12645ee3",
   "metadata": {},
   "source": [
    "Display the first few rows after dropping the pupil columns."
   ]
  },
  {
   "cell_type": "code",
   "execution_count": null,
   "id": "8bad4cab",
   "metadata": {},
   "outputs": [],
   "source": [
    "df_14_EYE.head()"
   ]
  },
  {
   "cell_type": "markdown",
   "id": "55d03927",
   "metadata": {},
   "source": [
    "Visualize the distribution of -1 and 1 values again after dropping the pupil columns."
   ]
  },
  {
   "cell_type": "code",
   "execution_count": null,
   "id": "e91c9896",
   "metadata": {},
   "outputs": [],
   "source": [
    "plt.figure(figsize=(18, 8))\n",
    "\n",
    "plt.subplot(1, 2, 1)\n",
    "sns.heatmap(df_14_EYE == -1, cmap='viridis')\n",
    "plt.title('Heatmap of -1 Values')\n",
    "\n",
    "plt.subplot(1, 2, 2)\n",
    "sns.heatmap(df_14_EYE == 1, cmap='viridis')\n",
    "plt.title('Heatmap of -1 Values')\n",
    "\n",
    "plt.tight_layout()\n",
    "plt.show()"
   ]
  },
  {
   "cell_type": "markdown",
   "id": "22adfa36",
   "metadata": {},
   "source": [
    "Calculate the ratio of valid data points for the left eye."
   ]
  },
  {
   "cell_type": "code",
   "execution_count": null,
   "id": "438653cf",
   "metadata": {},
   "outputs": [],
   "source": [
    "valid_left_ratio  = 1 - df_14_EYE['ET_ValidityLeft'].mean()"
   ]
  },
  {
   "cell_type": "markdown",
   "id": "61cb5700",
   "metadata": {},
   "source": [
    "Display the ratio of valid data points for the left eye."
   ]
  },
  {
   "cell_type": "code",
   "execution_count": null,
   "id": "d659b1ee",
   "metadata": {},
   "outputs": [],
   "source": [
    "valid_left_ratio"
   ]
  },
  {
   "cell_type": "markdown",
   "id": "f81a7c2f",
   "metadata": {},
   "source": [
    "Calculate the ratio of valid data points for the right eye."
   ]
  },
  {
   "cell_type": "code",
   "execution_count": null,
   "id": "fb0c79cb",
   "metadata": {},
   "outputs": [],
   "source": [
    "valid_right_ratio = 1 - df_14_EYE['ET_ValidityRight'].mean()"
   ]
  },
  {
   "cell_type": "markdown",
   "id": "1c36de5b",
   "metadata": {},
   "source": [
    "Display the ratio of valid data points for the right eye."
   ]
  },
  {
   "cell_type": "code",
   "execution_count": null,
   "id": "161efbbf",
   "metadata": {},
   "outputs": [],
   "source": [
    "valid_right_ratio"
   ]
  },
  {
   "cell_type": "markdown",
   "id": "a21c102c",
   "metadata": {},
   "source": [
    "Display the first few rows of the DataFrame."
   ]
  },
  {
   "cell_type": "code",
   "execution_count": null,
   "id": "5712d9e0",
   "metadata": {},
   "outputs": [],
   "source": [
    "df_14_EYE.head()"
   ]
  },
  {
   "cell_type": "markdown",
   "id": "4e18e06f",
   "metadata": {},
   "source": [
    "Visualize the distributions of numeric columns using histograms with Kernel Density Estimate (KDE) plots. This helps understand the shape and spread of the data in each numeric column."
   ]
  },
  {
   "cell_type": "code",
   "execution_count": null,
   "id": "a1ca5e96",
   "metadata": {},
   "outputs": [],
   "source": [
    "# Select only the numeric columns for plotting histograms, excluding time-related columns\n",
    "numeric_cols = df_14_EYE.select_dtypes(include=np.number).columns\n",
    "cols_to_plot = [col for col in numeric_cols if col not in ['UnixTime']]\n",
    "\n",
    "# Calculate the number of rows and columns for the grid\n",
    "n_cols = 4  # You can adjust the number of columns as needed\n",
    "n_rows = (len(cols_to_plot) + n_cols - 1) // n_cols\n",
    "\n",
    "plt.figure(figsize=(n_cols * 5, n_rows * 4)) # Adjust figure size as needed\n",
    "\n",
    "for i, col in enumerate(cols_to_plot):\n",
    "    plt.subplot(n_rows, n_cols, i + 1)\n",
    "    sns.histplot(df_14_EYE[col], kde=True)\n",
    "    plt.title(f'Distribution of {col}')\n",
    "    plt.xlabel(col)\n",
    "    plt.ylabel('Frequency')\n",
    "\n",
    "plt.tight_layout()\n",
    "plt.show()"
   ]
  },
  {
   "cell_type": "markdown",
   "id": "496b8cdc",
   "metadata": {},
   "source": [
    "List the names of the columns in the DataFrame."
   ]
  },
  {
   "cell_type": "code",
   "execution_count": null,
   "id": "c501023f",
   "metadata": {},
   "outputs": [],
   "source": [
    "df_14_EYE.columns"
   ]
  },
  {
   "cell_type": "markdown",
   "id": "e9664633",
   "metadata": {},
   "source": [
    "Define a list of columns to be plotted over time."
   ]
  },
  {
   "cell_type": "code",
   "execution_count": null,
   "id": "73c83552",
   "metadata": {},
   "outputs": [],
   "source": [
    "cols = ['ET_GazeLeftx', 'ET_GazeLefty',\n",
    "       'ET_GazeRightx', 'ET_GazeRighty', 'ET_TimeSignal', 'ET_DistanceLeft',\n",
    "       'ET_DistanceRight', 'ET_CameraLeftX', 'ET_CameraLeftY',\n",
    "       'ET_CameraRightX', 'ET_CameraRightY', 'ET_ValidityLeft',\n",
    "       'ET_ValidityRight']"
   ]
  },
  {
   "cell_type": "markdown",
   "id": "0f9c42db",
   "metadata": {},
   "source": [
    "Plot each of the selected columns against the timestamp to visualize their trends and patterns over time. Markdown cells are added before each plot for better readability."
   ]
  },
  {
   "cell_type": "code",
   "execution_count": null,
   "id": "8412d336",
   "metadata": {},
   "outputs": [],
   "source": [
    "from IPython.display import display, Markdown\n",
    "\n",
    "for col in cols:\n",
    "    # Add a markdown cell before each plot for better separation and labeling\n",
    "    display(Markdown(f'### {col} over Time'))\n",
    "    plt.figure(figsize=(16, 10))\n",
    "    plt.plot(df_14_EYE['Timestamp'], df_14_EYE[col])\n",
    "    plt.xlabel(\"Timestamp\") # Add x-axis label\n",
    "    plt.ylabel(col) # Add y-axis label\n",
    "    plt.show()"
   ]
  },
  {
   "cell_type": "markdown",
   "id": "ae48c7a2",
   "metadata": {},
   "source": [
    "Visualize the distributions of numeric columns using boxplots. This helps identify potential outliers and the spread of the data."
   ]
  },
  {
   "cell_type": "code",
   "execution_count": null,
   "id": "aac43ac2",
   "metadata": {},
   "outputs": [],
   "source": [
    "# Select only the numeric columns for plotting histograms, excluding time-related columns\n",
    "numeric_cols = df_14_EYE.select_dtypes(include=np.number).columns\n",
    "\n",
    "# Calculate the number of rows and columns for the grid\n",
    "n_cols = 4  # You can adjust the number of columns as needed\n",
    "n_rows = (len(numeric_cols) + n_cols - 1) // n_cols\n",
    "\n",
    "plt.figure(figsize=(n_cols * 5, n_rows * 4)) # Adjust figure size as needed\n",
    "\n",
    "for i, col in enumerate(numeric_cols):\n",
    "    plt.subplot(n_rows, n_cols, i + 1)\n",
    "    sns.boxplot(df_14_EYE[col])\n",
    "    plt.title(f'Boxplot of {col}')\n",
    "    plt.xlabel(col)\n",
    "\n",
    "plt.tight_layout()\n",
    "plt.show()"
   ]
  },
  {
   "cell_type": "markdown",
   "id": "8f48f349",
   "metadata": {},
   "source": [
    "Replace the placeholder value -1 with NaN (Not a Number) in the DataFrame. This is done before imputation."
   ]
  },
  {
   "cell_type": "code",
   "execution_count": null,
   "id": "deac7aa9",
   "metadata": {},
   "outputs": [],
   "source": [
    "df_14_EYE.replace({-1: np.nan}, inplace=True)"
   ]
  },
  {
   "cell_type": "markdown",
   "id": "9ebcd0ee",
   "metadata": {},
   "source": [
    "Impute the missing values (NaN) in the numeric columns with the mean of each column."
   ]
  },
  {
   "cell_type": "code",
   "execution_count": null,
   "id": "f602cc3a",
   "metadata": {},
   "outputs": [],
   "source": [
    "numeric_cols = df_14_EYE.select_dtypes(include=np.number).columns\n",
    "\n",
    "for col in numeric_cols:\n",
    "    df_14_EYE[col].fillna(df_14_EYE[col].mean(), inplace=True)"
   ]
  },
  {
   "cell_type": "markdown",
   "id": "054b8389",
   "metadata": {},
   "source": [
    "Display the first few rows after imputing missing values."
   ]
  },
  {
   "cell_type": "code",
   "execution_count": null,
   "id": "bc2245a3",
   "metadata": {},
   "outputs": [],
   "source": [
    "df_14_EYE.head()"
   ]
  },
  {
   "cell_type": "markdown",
   "id": "106b2053",
   "metadata": {},
   "source": [
    "Visualize the distributions of numeric columns again using histograms with KDE plots after imputation. This helps assess the impact of imputation on the data distributions."
   ]
  },
  {
   "cell_type": "code",
   "execution_count": null,
   "id": "f68ecf8a",
   "metadata": {},
   "outputs": [],
   "source": [
    "# Select only the numeric columns for plotting histograms, excluding time-related columns\n",
    "numeric_cols = df_14_EYE.select_dtypes(include=np.number).columns\n",
    "cols_to_plot = [col for col in numeric_cols if col not in ['UnixTime']]\n",
    "\n",
    "# Calculate the number of rows and columns for the grid\n",
    "n_cols = 4  # You can adjust the number of columns as needed\n",
    "n_rows = (len(cols_to_plot) + n_cols - 1) // n_cols\n",
    "\n",
    "plt.figure(figsize=(n_cols * 5, n_rows * 4)) # Adjust figure size as needed\n",
    "\n",
    "for i, col in enumerate(cols_to_plot):\n",
    "    plt.subplot(n_rows, n_cols, i + 1)\n",
    "    sns.histplot(df_14_EYE[col], kde=True)\n",
    "    plt.title(f'Distribution of {col}')\n",
    "    plt.xlabel(col)\n",
    "    plt.ylabel('Frequency')\n",
    "\n",
    "plt.tight_layout()\n",
    "plt.show()"
   ]
  },
  {
   "cell_type": "code",
   "execution_count": null,
   "id": "e63bf525",
   "metadata": {},
   "outputs": [],
   "source": []
  },
  {
   "cell_type": "markdown",
   "id": "b89b079b",
   "metadata": {},
   "source": [
    "## Student 15"
   ]
  },
  {
   "cell_type": "code",
   "execution_count": null,
   "id": "eeebda02",
   "metadata": {},
   "outputs": [],
   "source": [
    "%load_ext cudf"
   ]
  },
  {
   "cell_type": "code",
   "execution_count": null,
   "id": "54966f74",
   "metadata": {},
   "outputs": [],
   "source": [
    "import numpy as np\n",
    "import pandas as pd\n",
    "import matplotlib.pyplot as plt\n",
    "import seaborn as sns"
   ]
  },
  {
   "cell_type": "code",
   "execution_count": null,
   "id": "7b10f656",
   "metadata": {},
   "outputs": [],
   "source": [
    "import datashader as ds\n",
    "import datashader.transfer_functions as tf"
   ]
  },
  {
   "cell_type": "code",
   "execution_count": null,
   "id": "8c428e7c",
   "metadata": {},
   "outputs": [],
   "source": [
    "pd.set_option('display.max_columns', None)"
   ]
  },
  {
   "cell_type": "code",
   "execution_count": null,
   "id": "42e81713",
   "metadata": {},
   "outputs": [],
   "source": [
    "df_15_EYE = pd.read_csv('data/STData/15/15_EYE.csv')"
   ]
  },
  {
   "cell_type": "code",
   "execution_count": null,
   "id": "0cde0c3e",
   "metadata": {},
   "outputs": [],
   "source": [
    "df_15_EYE.head()"
   ]
  },
  {
   "cell_type": "code",
   "execution_count": null,
   "id": "31b6f602",
   "metadata": {},
   "outputs": [],
   "source": [
    "df_15_EYE.shape"
   ]
  },
  {
   "cell_type": "code",
   "execution_count": null,
   "id": "fde97bb7",
   "metadata": {},
   "outputs": [],
   "source": [
    "df_15_EYE.columns"
   ]
  },
  {
   "cell_type": "code",
   "execution_count": null,
   "id": "7264b930",
   "metadata": {},
   "outputs": [],
   "source": [
    "df_15_EYE.info()"
   ]
  },
  {
   "cell_type": "code",
   "execution_count": null,
   "id": "8b21ee8e",
   "metadata": {},
   "outputs": [],
   "source": [
    "df_15_EYE.isnull().sum()"
   ]
  },
  {
   "cell_type": "code",
   "execution_count": null,
   "id": "89d1bebc",
   "metadata": {},
   "outputs": [],
   "source": [
    "plt.figure(figsize=(12,8))\n",
    "sns.heatmap(df_15_EYE.isnull(), cmap='viridis')\n",
    "plt.show()"
   ]
  },
  {
   "cell_type": "markdown",
   "id": "d5207b01",
   "metadata": {},
   "source": [
    "# Notes & Observations\n",
    "\n",
    "- We observe many **null** (or missing) values in the `QuestionKey` columns.  \n",
    "- The nulls in the `QuestionKey` column may not represent “true” nulls. Rather, they follow interval patterns, suggesting that during those periods no question was displayed.  \n",
    "- These missing values in `QuestionKey` require additional investigation and context-aware handling.  "
   ]
  },
  {
   "cell_type": "code",
   "execution_count": null,
   "id": "02fdf5e6",
   "metadata": {},
   "outputs": [],
   "source": [
    "df_15_EYE['QuestionKey'].unique()"
   ]
  },
  {
   "cell_type": "code",
   "execution_count": null,
   "id": "52a56280",
   "metadata": {},
   "outputs": [],
   "source": [
    "df_15_EYE['Timestamp'] = pd.to_datetime(df_15_EYE['Timestamp'])"
   ]
  },
  {
   "cell_type": "code",
   "execution_count": null,
   "id": "bd22d118",
   "metadata": {},
   "outputs": [],
   "source": [
    "df_15_EYE.head(3)"
   ]
  },
  {
   "cell_type": "code",
   "execution_count": null,
   "id": "7bf2d808",
   "metadata": {},
   "outputs": [],
   "source": [
    "df_15_EYE['QuestionKey'].fillna('None', inplace=True)"
   ]
  },
  {
   "cell_type": "code",
   "execution_count": null,
   "id": "885fd893",
   "metadata": {},
   "outputs": [],
   "source": [
    "df_15_EYE['QuestionKey'].value_counts()"
   ]
  },
  {
   "cell_type": "code",
   "execution_count": null,
   "id": "72e1399e",
   "metadata": {},
   "outputs": [],
   "source": [
    "plt.figure(figsize=(12,8))\n",
    "sns.heatmap(df_15_EYE.isnull(), cmap='viridis')\n",
    "plt.show()"
   ]
  },
  {
   "cell_type": "code",
   "execution_count": null,
   "id": "27103d7e",
   "metadata": {},
   "outputs": [],
   "source": [
    "df_15_EYE.isnull().sum()"
   ]
  },
  {
   "cell_type": "code",
   "execution_count": null,
   "id": "9c9dcf50",
   "metadata": {},
   "outputs": [],
   "source": [
    "df_15_EYE.dropna(inplace=True)"
   ]
  },
  {
   "cell_type": "code",
   "execution_count": null,
   "id": "bef496e1",
   "metadata": {},
   "outputs": [],
   "source": [
    "df_15_EYE.head()"
   ]
  },
  {
   "cell_type": "code",
   "execution_count": null,
   "id": "7016a29f",
   "metadata": {},
   "outputs": [],
   "source": [
    "df_15_EYE['Row'].unique()"
   ]
  },
  {
   "cell_type": "code",
   "execution_count": null,
   "id": "289a7cae",
   "metadata": {},
   "outputs": [],
   "source": [
    "plt.figure(figsize=(8,6))\n",
    "sns.histplot(df_15_EYE['Row'])\n",
    "plt.show()"
   ]
  },
  {
   "cell_type": "markdown",
   "id": "946b3889",
   "metadata": {},
   "source": [
    "# Notes & Observations\n",
    "\n",
    "- The `Row` column appears to be a simple row index and does not provide meaningful information relevant to the eye-tracking data itself. Therefore, it can be dropped."
   ]
  },
  {
   "cell_type": "code",
   "execution_count": null,
   "id": "aec7afb1",
   "metadata": {},
   "outputs": [],
   "source": [
    "df_15_EYE.drop('Row', axis=1, inplace=True)"
   ]
  },
  {
   "cell_type": "code",
   "execution_count": null,
   "id": "ce2ea367",
   "metadata": {},
   "outputs": [],
   "source": [
    "df_15_EYE['ET_ValidityLeft'].unique()"
   ]
  },
  {
   "cell_type": "code",
   "execution_count": null,
   "id": "27498be6",
   "metadata": {},
   "outputs": [],
   "source": [
    "df_15_EYE['ET_ValidityLeft'].value_counts()"
   ]
  },
  {
   "cell_type": "code",
   "execution_count": null,
   "id": "e0bccfde",
   "metadata": {},
   "outputs": [],
   "source": [
    "df_15_EYE['ET_ValidityRight'].unique()"
   ]
  },
  {
   "cell_type": "code",
   "execution_count": null,
   "id": "cab384a0",
   "metadata": {},
   "outputs": [],
   "source": [
    "df_15_EYE['ET_ValidityRight'].value_counts()"
   ]
  },
  {
   "cell_type": "code",
   "execution_count": null,
   "id": "a76b53dd",
   "metadata": {},
   "outputs": [],
   "source": [
    "plt.figure(figsize=(12, 6))\n",
    "\n",
    "plt.subplot(1, 2, 1)\n",
    "sns.barplot(x=df_15_EYE['ET_ValidityLeft'].value_counts().index, y=df_15_EYE['ET_ValidityLeft'].value_counts().values)\n",
    "plt.title('Count of ET_ValidityLeft')\n",
    "plt.xlabel('Validity')\n",
    "plt.ylabel('Count')\n",
    "\n",
    "\n",
    "plt.subplot(1, 2, 2)\n",
    "sns.barplot(x=df_15_EYE['ET_ValidityRight'].value_counts().index, y=df_15_EYE['ET_ValidityRight'].value_counts().values)\n",
    "plt.title('Count of ET_ValidityRight')\n",
    "plt.xlabel('Validity')\n",
    "plt.ylabel('Count')\n",
    "\n",
    "plt.tight_layout()\n",
    "plt.show()"
   ]
  },
  {
   "cell_type": "markdown",
   "id": "c4bf9504",
   "metadata": {},
   "source": [
    "# Notes & Observations\n",
    "\n",
    "- The `ET_ValidityLeft` and `ET_ValidityRight` columns indicate the validity of the eye-tracking data for the left and right eye, respectively.\n",
    "- Based on the value counts and the bar plots, it appears that a value of `0.0` represents valid eye-tracking data, while a value of `4.0` represents invalid data.\n",
    "- Although the amount of invalid data is relatively small, removing these rows could introduce unwanted patterns or gaps in the time series data.\n",
    "- Therefore, we will keep the data and replace the value `4.0` with `1.0` in both `ET_ValidityLeft` and `ET_ValidityRight` columns. This will indicate to a machine learning model that the eye tracker had invalid data at those specific points in time while maintaining the integrity of the time series."
   ]
  },
  {
   "cell_type": "code",
   "execution_count": null,
   "id": "8f2be0bb",
   "metadata": {},
   "outputs": [],
   "source": [
    "validity_map = {4.0: 1.0, 0.0: 0.0}"
   ]
  },
  {
   "cell_type": "code",
   "execution_count": null,
   "id": "817b778e",
   "metadata": {},
   "outputs": [],
   "source": [
    "df_15_EYE['ET_ValidityLeft'] = df_15_EYE['ET_ValidityLeft'].map(validity_map).astype(np.int8)\n",
    "df_15_EYE['ET_ValidityRight'] = df_15_EYE['ET_ValidityRight'].map(validity_map).astype(np.int8)"
   ]
  },
  {
   "cell_type": "code",
   "execution_count": null,
   "id": "125017ce",
   "metadata": {},
   "outputs": [],
   "source": [
    "df_15_EYE.head(3)"
   ]
  },
  {
   "cell_type": "code",
   "execution_count": null,
   "id": "183ebc5d",
   "metadata": {},
   "outputs": [],
   "source": [
    "df_15_EYE.describe()"
   ]
  },
  {
   "cell_type": "code",
   "execution_count": null,
   "id": "1bbd2eb7",
   "metadata": {},
   "outputs": [],
   "source": [
    "df_15_EYE[df_15_EYE['ET_ValidityLeft'] == 1].shape"
   ]
  },
  {
   "cell_type": "code",
   "execution_count": null,
   "id": "eb78e7c6",
   "metadata": {},
   "outputs": [],
   "source": [
    "df_15_EYE[df_15_EYE['ET_ValidityRight'] == 1].shape"
   ]
  },
  {
   "cell_type": "code",
   "execution_count": null,
   "id": "ed4593b7",
   "metadata": {},
   "outputs": [],
   "source": [
    "plt.figure(figsize=(18, 8))\n",
    "\n",
    "plt.subplot(1, 2, 1)\n",
    "sns.heatmap(df_15_EYE == -1, cmap='viridis')\n",
    "plt.title('Heatmap of -1 Values')\n",
    "\n",
    "plt.subplot(1, 2, 2)\n",
    "sns.heatmap(df_15_EYE == 1, cmap='viridis')\n",
    "plt.title('Heatmap of 1 Values')\n",
    "\n",
    "plt.tight_layout()\n",
    "plt.show()"
   ]
  },
  {
   "cell_type": "code",
   "execution_count": null,
   "id": "26f9e049",
   "metadata": {},
   "outputs": [],
   "source": [
    "df_15_EYE[df_15_EYE['ET_PupilLeft'] == -1].shape"
   ]
  },
  {
   "cell_type": "code",
   "execution_count": null,
   "id": "d92d093e",
   "metadata": {},
   "outputs": [],
   "source": [
    "df_15_EYE[df_15_EYE['ET_PupilRight'] == -1].shape"
   ]
  },
  {
   "cell_type": "code",
   "execution_count": null,
   "id": "436ee178",
   "metadata": {},
   "outputs": [],
   "source": [
    "df_15_EYE[df_15_EYE['ET_PupilLeft'] == -1].shape[0] / df_15_EYE.shape[0]"
   ]
  },
  {
   "cell_type": "code",
   "execution_count": null,
   "id": "eb4761b9",
   "metadata": {},
   "outputs": [],
   "source": [
    "df_15_EYE[df_15_EYE['ET_PupilRight'] == -1].shape[0] / df_15_EYE.shape[0]"
   ]
  },
  {
   "cell_type": "code",
   "execution_count": null,
   "id": "cfa34300",
   "metadata": {},
   "outputs": [],
   "source": [
    "plt.figure(figsize=(18, 8))\n",
    "\n",
    "plt.subplot(1, 2, 1)\n",
    "sns.heatmap(df_15_EYE[df_15_EYE['ET_ValidityLeft'] == 1] == -1, cmap='viridis')\n",
    "plt.title('Heatmap of -1 Values')\n",
    "\n",
    "plt.subplot(1, 2, 2)\n",
    "sns.heatmap(df_15_EYE[df_15_EYE['ET_ValidityRight'] == 1] == -1, cmap='viridis')\n",
    "plt.title('Heatmap of -1 Values')\n",
    "\n",
    "plt.tight_layout()\n",
    "plt.show()"
   ]
  },
  {
   "cell_type": "markdown",
   "id": "336d088a",
   "metadata": {},
   "source": [
    "# Notes & Observations\n",
    "\n",
    "- The heatmaps reveal the distribution of -1 values across different columns.\n",
    "- It is evident that the `-1` values are not randomly scattered but appear in specific columns, notably `ET_GazeLeftx`, `ET_GazeLefty`, `ET_GazeRightx`, `ET_GazeRighty`, `ET_PupilLeft`, `ET_PupilRight`, `ET_DistanceLeft`, `ET_DistanceRight`, `ET_CameraLeftX`, `ET_CameraLeftY`, `ET_CameraRightX`, and `ET_CameraRightY`.\n",
    "- These `-1` values often coincide with instances where `ET_ValidityLeft` or `ET_ValidityRight` is 1, indicating invalid eye-tracking data. This suggests that `-1` is used as a placeholder for missing or invalid measurements in these columns when the eye tracker is not providing valid data for a particular eye.\n",
    "- Given that over 70% of the data in the `ET_PupilLeft` and `ET_PupilRight` columns is marked as invalid (-1), these columns may not be suitable for analysis and could be considered for dropping."
   ]
  },
  {
   "cell_type": "code",
   "execution_count": null,
   "id": "e4471c1a",
   "metadata": {},
   "outputs": [],
   "source": [
    "df_15_EYE.drop(['ET_PupilLeft', 'ET_PupilRight'], axis=1, inplace=True)"
   ]
  },
  {
   "cell_type": "code",
   "execution_count": null,
   "id": "c29b072b",
   "metadata": {},
   "outputs": [],
   "source": [
    "df_15_EYE.head()"
   ]
  },
  {
   "cell_type": "code",
   "execution_count": null,
   "id": "490f523a",
   "metadata": {},
   "outputs": [],
   "source": [
    "plt.figure(figsize=(18, 8))\n",
    "\n",
    "plt.subplot(1, 2, 1)\n",
    "sns.heatmap(df_15_EYE == -1, cmap='viridis')\n",
    "plt.title('Heatmap of -1 Values')\n",
    "\n",
    "plt.subplot(1, 2, 2)\n",
    "sns.heatmap(df_15_EYE == 1, cmap='viridis')\n",
    "plt.title('Heatmap of -1 Values')\n",
    "\n",
    "plt.tight_layout()\n",
    "plt.show()"
   ]
  },
  {
   "cell_type": "code",
   "execution_count": null,
   "id": "f2f8cebd",
   "metadata": {},
   "outputs": [],
   "source": [
    "valid_left_ratio  = 1 - df_15_EYE['ET_ValidityLeft'].mean()\n",
    "valid_right_ratio = 1 - df_15_EYE['ET_ValidityRight'].mean()"
   ]
  },
  {
   "cell_type": "code",
   "execution_count": null,
   "id": "27e26ded",
   "metadata": {},
   "outputs": [],
   "source": [
    "valid_left_ratio"
   ]
  },
  {
   "cell_type": "code",
   "execution_count": null,
   "id": "a00761df",
   "metadata": {},
   "outputs": [],
   "source": [
    "valid_right_ratio"
   ]
  },
  {
   "cell_type": "code",
   "execution_count": null,
   "id": "6c87f50d",
   "metadata": {},
   "outputs": [],
   "source": [
    "df_15_EYE.head()"
   ]
  },
  {
   "cell_type": "code",
   "execution_count": null,
   "id": "30da3ce9",
   "metadata": {},
   "outputs": [],
   "source": [
    "# Select only the numeric columns for plotting histograms, excluding time-related columns\n",
    "numeric_cols = df_15_EYE.select_dtypes(include=np.number).columns\n",
    "cols_to_plot = [col for col in numeric_cols if col not in ['UnixTime']]\n",
    "\n",
    "# Calculate the number of rows and columns for the grid\n",
    "n_cols = 4  # You can adjust the number of columns as needed\n",
    "n_rows = (len(cols_to_plot) + n_cols - 1) // n_cols\n",
    "\n",
    "plt.figure(figsize=(n_cols * 5, n_rows * 4)) # Adjust figure size as needed\n",
    "\n",
    "for i, col in enumerate(cols_to_plot):\n",
    "    plt.subplot(n_rows, n_cols, i + 1)\n",
    "    sns.histplot(df_15_EYE[col], kde=True)\n",
    "    plt.title(f'Distribution of {col}')\n",
    "    plt.xlabel(col)\n",
    "    plt.ylabel('Frequency')\n",
    "\n",
    "plt.tight_layout()\n",
    "plt.show()"
   ]
  },
  {
   "cell_type": "code",
   "execution_count": null,
   "id": "154226c9",
   "metadata": {},
   "outputs": [],
   "source": [
    "df_15_EYE.columns"
   ]
  },
  {
   "cell_type": "code",
   "execution_count": null,
   "id": "440d2d60",
   "metadata": {},
   "outputs": [],
   "source": [
    "cols = ['ET_GazeLeftx', 'ET_GazeLefty',\n",
    "       'ET_GazeRightx', 'ET_GazeRighty', 'ET_TimeSignal', 'ET_DistanceLeft',\n",
    "       'ET_DistanceRight', 'ET_CameraLeftX', 'ET_CameraLeftY',\n",
    "       'ET_CameraRightX', 'ET_CameraRightY', 'ET_ValidityLeft',\n",
    "       'ET_ValidityRight']"
   ]
  },
  {
   "cell_type": "code",
   "execution_count": null,
   "id": "ccec1c2d",
   "metadata": {},
   "outputs": [],
   "source": [
    "from IPython.display import display, Markdown\n",
    "\n",
    "for col in cols:\n",
    "    # Add a markdown cell before each plot for better separation and labeling\n",
    "    display(Markdown(f'### {col} over Time'))\n",
    "    plt.figure(figsize=(16, 10))\n",
    "    plt.plot(df_15_EYE['Timestamp'], df_15_EYE[col])\n",
    "    plt.xlabel(\"Timestamp\") # Add x-axis label\n",
    "    plt.ylabel(col) # Add y-axis label\n",
    "    plt.show()"
   ]
  },
  {
   "cell_type": "code",
   "execution_count": null,
   "id": "24bc3bd5",
   "metadata": {},
   "outputs": [],
   "source": [
    "# Select only the numeric columns for plotting histograms, excluding time-related columns\n",
    "numeric_cols = df_15_EYE.select_dtypes(include=np.number).columns\n",
    "\n",
    "# Calculate the number of rows and columns for the grid\n",
    "n_cols = 4  # You can adjust the number of columns as needed\n",
    "n_rows = (len(numeric_cols) + n_cols - 1) // n_cols\n",
    "\n",
    "plt.figure(figsize=(n_cols * 5, n_rows * 4)) # Adjust figure size as needed\n",
    "\n",
    "for i, col in enumerate(numeric_cols):\n",
    "    plt.subplot(n_rows, n_cols, i + 1)\n",
    "    sns.boxplot(df_15_EYE[col])\n",
    "    plt.title(f'Boxplot of {col}')\n",
    "    plt.xlabel(col)\n",
    "\n",
    "plt.tight_layout()\n",
    "plt.show()"
   ]
  },
  {
   "cell_type": "code",
   "execution_count": null,
   "id": "c3430215",
   "metadata": {},
   "outputs": [],
   "source": [
    "df_15_EYE.replace({-1: np.nan}, inplace=True)"
   ]
  },
  {
   "cell_type": "code",
   "execution_count": null,
   "id": "9f8b2b1c",
   "metadata": {},
   "outputs": [],
   "source": [
    "numeric_cols = df_15_EYE.select_dtypes(include=np.number).columns\n",
    "\n",
    "for col in numeric_cols:\n",
    "    df_15_EYE[col].fillna(df_15_EYE[col].mean(), inplace=True)"
   ]
  },
  {
   "cell_type": "code",
   "execution_count": null,
   "id": "3b978c5a",
   "metadata": {},
   "outputs": [],
   "source": [
    "df_15_EYE.head()"
   ]
  },
  {
   "cell_type": "code",
   "execution_count": null,
   "id": "9c2c12da",
   "metadata": {},
   "outputs": [],
   "source": [
    "# Select only the numeric columns for plotting histograms, excluding time-related columns\n",
    "numeric_cols = df_15_EYE.select_dtypes(include=np.number).columns\n",
    "cols_to_plot = [col for col in numeric_cols if col not in ['UnixTime']]\n",
    "\n",
    "# Calculate the number of rows and columns for the grid\n",
    "n_cols = 4  # You can adjust the number of columns as needed\n",
    "n_rows = (len(cols_to_plot) + n_cols - 1) // n_cols\n",
    "\n",
    "plt.figure(figsize=(n_cols * 5, n_rows * 4)) # Adjust figure size as needed\n",
    "\n",
    "for i, col in enumerate(cols_to_plot):\n",
    "    plt.subplot(n_rows, n_cols, i + 1)\n",
    "    sns.histplot(df_15_EYE[col], kde=True)\n",
    "    plt.title(f'Distribution of {col}')\n",
    "    plt.xlabel(col)\n",
    "    plt.ylabel('Frequency')\n",
    "\n",
    "plt.tight_layout()\n",
    "plt.show()"
   ]
  },
  {
   "cell_type": "code",
   "execution_count": null,
   "id": "9328a4ff",
   "metadata": {},
   "outputs": [],
   "source": []
  },
  {
   "cell_type": "code",
   "execution_count": null,
   "id": "dd1918d0",
   "metadata": {},
   "outputs": [],
   "source": []
  },
  {
   "cell_type": "code",
   "execution_count": null,
   "id": "ec178db9",
   "metadata": {},
   "outputs": [],
   "source": []
  },
  {
   "cell_type": "code",
   "execution_count": null,
   "id": "d83d38a5",
   "metadata": {},
   "outputs": [],
   "source": []
  },
  {
   "cell_type": "code",
   "execution_count": null,
   "id": "93154913",
   "metadata": {},
   "outputs": [],
   "source": []
  },
  {
   "cell_type": "code",
   "execution_count": null,
   "id": "24bbad85",
   "metadata": {},
   "outputs": [],
   "source": []
  },
  {
   "cell_type": "code",
   "execution_count": null,
   "id": "0c4eba76",
   "metadata": {},
   "outputs": [],
   "source": []
  },
  {
   "cell_type": "code",
   "execution_count": null,
   "id": "90f8a3af",
   "metadata": {},
   "outputs": [],
   "source": []
  },
  {
   "cell_type": "code",
   "execution_count": null,
   "id": "37080113",
   "metadata": {},
   "outputs": [],
   "source": []
  },
  {
   "cell_type": "code",
   "execution_count": null,
   "id": "4fa0f7c7",
   "metadata": {},
   "outputs": [],
   "source": []
  },
  {
   "cell_type": "code",
   "execution_count": null,
   "id": "5274a8fe",
   "metadata": {},
   "outputs": [],
   "source": []
  },
  {
   "cell_type": "code",
   "execution_count": null,
   "id": "34241f3c",
   "metadata": {},
   "outputs": [],
   "source": []
  },
  {
   "cell_type": "markdown",
   "id": "1d91e4b9",
   "metadata": {},
   "source": [
    "# Eye Tracking Data Analysis\n",
    "\n",
    "This notebook performs exploratory data analysis and cleaning on eye-tracking data.\n",
    "\n",
    "## Data Loading and Initial Inspection"
   ]
  },
  {
   "cell_type": "code",
   "execution_count": null,
   "id": "b8be875c",
   "metadata": {},
   "outputs": [],
   "source": [
    "%load_ext cudf"
   ]
  },
  {
   "cell_type": "markdown",
   "id": "b0434ef6",
   "metadata": {},
   "source": [
    "Import necessary libraries for data manipulation, analysis, and visualization."
   ]
  },
  {
   "cell_type": "code",
   "execution_count": null,
   "id": "807eb028",
   "metadata": {},
   "outputs": [],
   "source": [
    "import numpy as np\n",
    "import pandas as pd\n",
    "import matplotlib.pyplot as plt\n",
    "import seaborn as sns"
   ]
  },
  {
   "cell_type": "markdown",
   "id": "a1b6397f",
   "metadata": {},
   "source": [
    "Import libraries for datashader, which can be used for visualizing large datasets."
   ]
  },
  {
   "cell_type": "code",
   "execution_count": null,
   "id": "bccdda61",
   "metadata": {},
   "outputs": [],
   "source": [
    "import datashader as ds\n",
    "import datashader.transfer_functions as tf"
   ]
  },
  {
   "cell_type": "markdown",
   "id": "2778445f",
   "metadata": {},
   "source": [
    "Set pandas display options to show all columns."
   ]
  },
  {
   "cell_type": "code",
   "execution_count": null,
   "id": "9d0b443f",
   "metadata": {},
   "outputs": [],
   "source": [
    "pd.set_option('display.max_columns', None)"
   ]
  },
  {
   "cell_type": "markdown",
   "id": "45c912d9",
   "metadata": {},
   "source": [
    "Load the eye-tracking data from the specified CSV file into a pandas DataFrame."
   ]
  },
  {
   "cell_type": "code",
   "execution_count": null,
   "id": "189b38c8",
   "metadata": {},
   "outputs": [],
   "source": [
    "df_15_EYE = pd.read_csv('data/STData/15/15_EYE.csv')"
   ]
  },
  {
   "cell_type": "markdown",
   "id": "04875ee6",
   "metadata": {},
   "source": [
    "Display the first few rows of the DataFrame to get an initial look at the data structure and content."
   ]
  },
  {
   "cell_type": "code",
   "execution_count": null,
   "id": "39c8372a",
   "metadata": {},
   "outputs": [],
   "source": [
    "df_15_EYE.head()"
   ]
  },
  {
   "cell_type": "markdown",
   "id": "d4f1f376",
   "metadata": {},
   "source": [
    "Check the dimensions (number of rows and columns) of the DataFrame."
   ]
  },
  {
   "cell_type": "code",
   "execution_count": null,
   "id": "013dd61e",
   "metadata": {},
   "outputs": [],
   "source": [
    "df_15_EYE.shape"
   ]
  },
  {
   "cell_type": "markdown",
   "id": "a90f795a",
   "metadata": {},
   "source": [
    "List the names of all columns in the DataFrame."
   ]
  },
  {
   "cell_type": "code",
   "execution_count": null,
   "id": "b7e8ff38",
   "metadata": {},
   "outputs": [],
   "source": [
    "df_15_EYE.columns"
   ]
  },
  {
   "cell_type": "markdown",
   "id": "7bc1fb0f",
   "metadata": {},
   "source": [
    "Display concise information about the DataFrame, including the data types of each column and the number of non-null values. This helps identify columns with missing data."
   ]
  },
  {
   "cell_type": "code",
   "execution_count": null,
   "id": "3ef6c890",
   "metadata": {},
   "outputs": [],
   "source": [
    "df_15_EYE.info()"
   ]
  },
  {
   "cell_type": "markdown",
   "id": "395ab382",
   "metadata": {},
   "source": [
    "Calculate and display the number of missing values in each column."
   ]
  },
  {
   "cell_type": "code",
   "execution_count": null,
   "id": "41bba1ca",
   "metadata": {},
   "outputs": [],
   "source": [
    "df_15_EYE.isnull().sum()"
   ]
  },
  {
   "cell_type": "markdown",
   "id": "0b766210",
   "metadata": {},
   "source": [
    "Visualize the distribution of missing values using a heatmap. This provides a visual representation of which columns have missing data and the extent of missingness."
   ]
  },
  {
   "cell_type": "code",
   "execution_count": null,
   "id": "3174c260",
   "metadata": {},
   "outputs": [],
   "source": [
    "plt.figure(figsize=(12,8))\n",
    "sns.heatmap(df_15_EYE.isnull(), cmap='viridis')\n",
    "plt.show()"
   ]
  },
  {
   "cell_type": "markdown",
   "id": "a51c7c7d",
   "metadata": {},
   "source": [
    "# Notes & Observations\n",
    "\n",
    "- We observe many **null** (or missing) values in the `QuestionKey` columns.\n",
    "- The nulls in the `QuestionKey` column may not represent “true” nulls. Rather, they follow interval patterns, suggesting that during those periods no question was displayed.\n",
    "- These missing values in `QuestionKey` require additional investigation and context-aware handling."
   ]
  },
  {
   "cell_type": "markdown",
   "id": "1152a6ef",
   "metadata": {},
   "source": [
    "Display the unique values in the `QuestionKey` column to understand the different types of questions or states recorded."
   ]
  },
  {
   "cell_type": "code",
   "execution_count": null,
   "id": "6fbc3886",
   "metadata": {},
   "outputs": [],
   "source": [
    "df_15_EYE['QuestionKey'].unique()"
   ]
  },
  {
   "cell_type": "markdown",
   "id": "70281485",
   "metadata": {},
   "source": [
    "Convert the `Timestamp` column to datetime objects. This is crucial for any time series analysis or manipulation."
   ]
  },
  {
   "cell_type": "code",
   "execution_count": null,
   "id": "ff527a68",
   "metadata": {},
   "outputs": [],
   "source": [
    "df_15_EYE['Timestamp'] = pd.to_datetime(df_15_EYE['Timestamp'])"
   ]
  },
  {
   "cell_type": "markdown",
   "id": "051b2ca2",
   "metadata": {},
   "source": [
    "Display the first few rows again to see the effect of the timestamp conversion."
   ]
  },
  {
   "cell_type": "code",
   "execution_count": null,
   "id": "1a9f1143",
   "metadata": {},
   "outputs": [],
   "source": [
    "df_15_EYE.head(3)"
   ]
  },
  {
   "cell_type": "markdown",
   "id": "f76d4932",
   "metadata": {},
   "source": [
    "Fill the missing values in the `QuestionKey` column with the string 'None'. This helps to explicitly mark periods where no question was active."
   ]
  },
  {
   "cell_type": "code",
   "execution_count": null,
   "id": "99b95c45",
   "metadata": {},
   "outputs": [],
   "source": [
    "df_15_EYE['QuestionKey'].fillna('None', inplace=True)"
   ]
  },
  {
   "cell_type": "markdown",
   "id": "4481e216",
   "metadata": {},
   "source": [
    "Count the occurrences of each unique value in the `QuestionKey` column after filling missing values."
   ]
  },
  {
   "cell_type": "code",
   "execution_count": null,
   "id": "ee2faeaa",
   "metadata": {},
   "outputs": [],
   "source": [
    "df_15_EYE['QuestionKey'].value_counts()"
   ]
  },
  {
   "cell_type": "markdown",
   "id": "73310aef",
   "metadata": {},
   "source": [
    "Display the heatmap of missing values again to confirm that the missing values in `QuestionKey` have been handled."
   ]
  },
  {
   "cell_type": "code",
   "execution_count": null,
   "id": "16e51b10",
   "metadata": {},
   "outputs": [],
   "source": [
    "plt.figure(figsize=(12,8))\n",
    "sns.heatmap(df_15_EYE.isnull(), cmap='viridis')\n",
    "plt.show()"
   ]
  },
  {
   "cell_type": "markdown",
   "id": "e67ecf5a",
   "metadata": {},
   "source": [
    "Recalculate and display the number of missing values per column to confirm the changes after handling `QuestionKey`."
   ]
  },
  {
   "cell_type": "code",
   "execution_count": null,
   "id": "e4700b19",
   "metadata": {},
   "outputs": [],
   "source": [
    "df_15_EYE.isnull().sum()"
   ]
  },
  {
   "cell_type": "markdown",
   "id": "5666bd78",
   "metadata": {},
   "source": [
    "Drop rows that still contain any missing values. This is done after handling `QuestionKey` separately."
   ]
  },
  {
   "cell_type": "code",
   "execution_count": null,
   "id": "4b84b4f2",
   "metadata": {},
   "outputs": [],
   "source": [
    "df_15_EYE.dropna(inplace=True)"
   ]
  },
  {
   "cell_type": "markdown",
   "id": "82673701",
   "metadata": {},
   "source": [
    "Display the first few rows after dropping rows with missing values."
   ]
  },
  {
   "cell_type": "code",
   "execution_count": null,
   "id": "a6c6c201",
   "metadata": {},
   "outputs": [],
   "source": [
    "df_15_EYE.head()"
   ]
  },
  {
   "cell_type": "markdown",
   "id": "3173acae",
   "metadata": {},
   "source": [
    "Display the unique values in the `Row` column."
   ]
  },
  {
   "cell_type": "code",
   "execution_count": null,
   "id": "4da236f8",
   "metadata": {},
   "outputs": [],
   "source": [
    "df_15_EYE['Row'].unique()"
   ]
  },
  {
   "cell_type": "markdown",
   "id": "27dabdfc",
   "metadata": {},
   "source": [
    "Plot a histogram of the `Row` column to visualize its distribution."
   ]
  },
  {
   "cell_type": "code",
   "execution_count": null,
   "id": "8f216e20",
   "metadata": {},
   "outputs": [],
   "source": [
    "plt.figure(figsize=(8,6))\n",
    "sns.histplot(df_15_EYE['Row'])\n",
    "plt.show()"
   ]
  },
  {
   "cell_type": "markdown",
   "id": "d44a68f3",
   "metadata": {},
   "source": [
    "# Notes & Observations\n",
    "\n",
    "- The `Row` column appears to be a simple row index and does not provide meaningful information relevant to the eye-tracking data itself. Therefore, it can be dropped."
   ]
  },
  {
   "cell_type": "markdown",
   "id": "4236f0d2",
   "metadata": {},
   "source": [
    "Drop the `Row` column as it is not relevant for the analysis."
   ]
  },
  {
   "cell_type": "code",
   "execution_count": null,
   "id": "901d6fdc",
   "metadata": {},
   "outputs": [],
   "source": [
    "df_15_EYE.drop('Row', axis=1, inplace=True)"
   ]
  },
  {
   "cell_type": "markdown",
   "id": "265bfb10",
   "metadata": {},
   "source": [
    "Display the unique values in the `ET_ValidityLeft` column."
   ]
  },
  {
   "cell_type": "code",
   "execution_count": null,
   "id": "9fbc39b4",
   "metadata": {},
   "outputs": [],
   "source": [
    "df_15_EYE['ET_ValidityLeft'].unique()"
   ]
  },
  {
   "cell_type": "markdown",
   "id": "22674bc4",
   "metadata": {},
   "source": [
    "Count the occurrences of each unique value in the `ET_ValidityLeft` column."
   ]
  },
  {
   "cell_type": "code",
   "execution_count": null,
   "id": "e95a4e3e",
   "metadata": {},
   "outputs": [],
   "source": [
    "df_15_EYE['ET_ValidityLeft'].value_counts()"
   ]
  },
  {
   "cell_type": "markdown",
   "id": "f0219332",
   "metadata": {},
   "source": [
    "Display the unique values in the `ET_ValidityRight` column."
   ]
  },
  {
   "cell_type": "code",
   "execution_count": null,
   "id": "3fad8e3c",
   "metadata": {},
   "outputs": [],
   "source": [
    "df_15_EYE['ET_ValidityRight'].unique()"
   ]
  },
  {
   "cell_type": "markdown",
   "id": "c975eb64",
   "metadata": {},
   "source": [
    "Count the occurrences of each unique value in the `ET_ValidityRight` column."
   ]
  },
  {
   "cell_type": "code",
   "execution_count": null,
   "id": "2bea13ba",
   "metadata": {},
   "outputs": [],
   "source": [
    "df_15_EYE['ET_ValidityRight'].value_counts()"
   ]
  },
  {
   "cell_type": "markdown",
   "id": "c52bd2ee",
   "metadata": {},
   "source": [
    "Visualize the counts of valid and invalid data for both left and right eyes using bar plots."
   ]
  },
  {
   "cell_type": "code",
   "execution_count": null,
   "id": "89a10eee",
   "metadata": {},
   "outputs": [],
   "source": [
    "plt.figure(figsize=(12, 6))\n",
    "\n",
    "plt.subplot(1, 2, 1)\n",
    "sns.barplot(x=df_15_EYE['ET_ValidityLeft'].value_counts().index, y=df_15_EYE['ET_ValidityLeft'].value_counts().values)\n",
    "plt.title('Count of ET_ValidityLeft')\n",
    "plt.xlabel('Validity')\n",
    "plt.ylabel('Count')\n",
    "\n",
    "\n",
    "plt.subplot(1, 2, 2)\n",
    "sns.barplot(x=df_15_EYE['ET_ValidityRight'].value_counts().index, y=df_15_EYE['ET_ValidityRight'].value_counts().values)\n",
    "plt.title('Count of ET_ValidityRight')\n",
    "plt.xlabel('Validity')\n",
    "plt.ylabel('Count')\n",
    "\n",
    "plt.tight_layout()\n",
    "plt.show()"
   ]
  },
  {
   "cell_type": "markdown",
   "id": "7210adf2",
   "metadata": {},
   "source": [
    "# Notes & Observations\n",
    "\n",
    "- The `ET_ValidityLeft` and `ET_ValidityRight` columns indicate the validity of the eye-tracking data for the left and right eye, respectively.\n",
    "- Based on the value counts and the bar plots, it appears that a value of `0.0` represents valid eye-tracking data, while a value of `4.0` represents invalid data.\n",
    "- Although the amount of invalid data is relatively small, removing these rows could introduce unwanted patterns or gaps in the time series data.\n",
    "- Therefore, we will keep the data and replace the value `4.0` with `1.0` in both `ET_ValidityLeft` and `ET_ValidityRight` columns. This will indicate to a machine learning model that the eye tracker had invalid data at those specific points in time while maintaining the integrity of the time series."
   ]
  },
  {
   "cell_type": "markdown",
   "id": "51ef6132",
   "metadata": {},
   "source": [
    "Define a mapping to convert validity values from `0.0` and `4.0` to `0` and `1`."
   ]
  },
  {
   "cell_type": "code",
   "execution_count": null,
   "id": "63c1951a",
   "metadata": {},
   "outputs": [],
   "source": [
    "validity_map = {4.0: 1.0, 0.0: 0.0}"
   ]
  },
  {
   "cell_type": "markdown",
   "id": "c8f0601d",
   "metadata": {},
   "source": [
    "Apply the mapping to the `ET_ValidityLeft` and `ET_ValidityRight` columns and convert the data type to integer."
   ]
  },
  {
   "cell_type": "code",
   "execution_count": null,
   "id": "8615d901",
   "metadata": {},
   "outputs": [],
   "source": [
    "df_15_EYE['ET_ValidityLeft'] = df_15_EYE['ET_ValidityLeft'].map(validity_map).astype(np.int8)\n",
    "df_15_EYE['ET_ValidityRight'] = df_15_EYE['ET_ValidityRight'].map(validity_map).astype(np.int8)"
   ]
  },
  {
   "cell_type": "markdown",
   "id": "d184a9e2",
   "metadata": {},
   "source": [
    "Display the first few rows to see the updated validity columns."
   ]
  },
  {
   "cell_type": "code",
   "execution_count": null,
   "id": "bc559ca4",
   "metadata": {},
   "outputs": [],
   "source": [
    "df_15_EYE.head(3)"
   ]
  },
  {
   "cell_type": "markdown",
   "id": "12c8ccc7",
   "metadata": {},
   "source": [
    "Display descriptive statistics for the DataFrame, including count, mean, standard deviation, min, max, and quartiles for numeric columns."
   ]
  },
  {
   "cell_type": "code",
   "execution_count": null,
   "id": "1a737042",
   "metadata": {},
   "outputs": [],
   "source": [
    "df_15_EYE.describe()"
   ]
  },
  {
   "cell_type": "markdown",
   "id": "08ff9d55",
   "metadata": {},
   "source": [
    "Check the number of rows where `ET_ValidityLeft` is 1 (invalid data for the left eye)."
   ]
  },
  {
   "cell_type": "code",
   "execution_count": null,
   "id": "d0291bf3",
   "metadata": {},
   "outputs": [],
   "source": [
    "df_15_EYE[df_15_EYE['ET_ValidityLeft'] == 1].shape"
   ]
  },
  {
   "cell_type": "markdown",
   "id": "b8c267a6",
   "metadata": {},
   "source": [
    "Check the number of rows where `ET_ValidityRight` is 1 (invalid data for the right eye)."
   ]
  },
  {
   "cell_type": "code",
   "execution_count": null,
   "id": "b7333643",
   "metadata": {},
   "outputs": [],
   "source": [
    "df_15_EYE[df_15_EYE['ET_ValidityRight'] == 1].shape"
   ]
  },
  {
   "cell_type": "markdown",
   "id": "e2dc2e53",
   "metadata": {},
   "source": [
    "Visualize the distribution of -1 and 1 values across columns using heatmaps. This helps identify columns with placeholder or indicator values."
   ]
  },
  {
   "cell_type": "code",
   "execution_count": null,
   "id": "60788ddc",
   "metadata": {},
   "outputs": [],
   "source": [
    "plt.figure(figsize=(18, 8))\n",
    "\n",
    "plt.subplot(1, 2, 1)\n",
    "sns.heatmap(df_15_EYE == -1, cmap='viridis')\n",
    "plt.title('Heatmap of -1 Values')\n",
    "\n",
    "plt.subplot(1, 2, 2)\n",
    "sns.heatmap(df_15_EYE == 1, cmap='viridis')\n",
    "plt.title('Heatmap of 1 Values')\n",
    "\n",
    "plt.tight_layout()\n",
    "plt.show()"
   ]
  },
  {
   "cell_type": "markdown",
   "id": "002d4870",
   "metadata": {},
   "source": [
    "Check the number of rows where `ET_PupilLeft` is -1."
   ]
  },
  {
   "cell_type": "code",
   "execution_count": null,
   "id": "9526bc71",
   "metadata": {},
   "outputs": [],
   "source": [
    "df_15_EYE[df_15_EYE['ET_PupilLeft'] == -1].shape"
   ]
  },
  {
   "cell_type": "markdown",
   "id": "21d1e9d3",
   "metadata": {},
   "source": [
    "Check the number of rows where `ET_PupilRight` is -1."
   ]
  },
  {
   "cell_type": "code",
   "execution_count": null,
   "id": "3f9a13c4",
   "metadata": {},
   "outputs": [],
   "source": [
    "df_15_EYE[df_15_EYE['ET_PupilRight'] == -1].shape"
   ]
  },
  {
   "cell_type": "markdown",
   "id": "bd5f066b",
   "metadata": {},
   "source": [
    "Calculate the ratio of rows with -1 values in the `ET_PupilLeft` column to the total number of rows."
   ]
  },
  {
   "cell_type": "code",
   "execution_count": null,
   "id": "f72e41f4",
   "metadata": {},
   "outputs": [],
   "source": [
    "df_15_EYE[df_15_EYE['ET_PupilLeft'] == -1].shape[0] / df_15_EYE.shape[0]"
   ]
  },
  {
   "cell_type": "markdown",
   "id": "4a17122f",
   "metadata": {},
   "source": [
    "Calculate the ratio of rows with -1 values in the `ET_PupilRight` column to the total number of rows."
   ]
  },
  {
   "cell_type": "code",
   "execution_count": null,
   "id": "212bf8ce",
   "metadata": {},
   "outputs": [],
   "source": [
    "df_15_EYE[df_15_EYE['ET_PupilRight'] == -1].shape[0] / df_15_EYE.shape[0]"
   ]
  },
  {
   "cell_type": "markdown",
   "id": "628e868c",
   "metadata": {},
   "source": [
    "Visualize the distribution of -1 values specifically for rows where validity is 1 (invalid data)."
   ]
  },
  {
   "cell_type": "code",
   "execution_count": null,
   "id": "36fc98b9",
   "metadata": {},
   "outputs": [],
   "source": [
    "plt.figure(figsize=(18, 8))\n",
    "\n",
    "plt.subplot(1, 2, 1)\n",
    "sns.heatmap(df_15_EYE[df_15_EYE['ET_ValidityLeft'] == 1] == -1, cmap='viridis')\n",
    "plt.title('Heatmap of -1 Values')\n",
    "\n",
    "plt.subplot(1, 2, 2)\n",
    "sns.heatmap(df_15_EYE[df_15_EYE['ET_ValidityRight'] == 1] == -1, cmap='viridis')\n",
    "plt.title('Heatmap of -1 Values')\n",
    "\n",
    "plt.tight_layout()\n",
    "plt.show()"
   ]
  },
  {
   "cell_type": "markdown",
   "id": "fae8678e",
   "metadata": {},
   "source": [
    "# Notes & Observations\n",
    "\n",
    "- The heatmaps reveal the distribution of -1 values across different columns.\n",
    "- It is evident that the `-1` values are not randomly scattered but appear in specific columns, notably `ET_GazeLeftx`, `ET_GazeLefty`, `ET_GazeRightx`, `ET_GazeRighty`, `ET_PupilLeft`, `ET_PupilRight`, `ET_DistanceLeft`, `ET_DistanceRight`, `ET_CameraLeftX`, `ET_CameraLeftY`, `ET_CameraRightX`, and `ET_CameraRightY`.\n",
    "- These `-1` values often coincide with instances where `ET_ValidityLeft` or `ET_ValidityRight` is 1, indicating invalid eye-tracking data. This suggests that `-1` is used as a placeholder for missing or invalid measurements in these columns when the eye tracker is not providing valid data for a particular eye.\n",
    "- Given that over 70% of the data in the `ET_PupilLeft` and `ET_PupilRight` columns is marked as invalid (-1), these columns may not be suitable for analysis and could be considered for dropping."
   ]
  },
  {
   "cell_type": "markdown",
   "id": "1ca7534f",
   "metadata": {},
   "source": [
    "Drop the `ET_PupilLeft` and `ET_PupilRight` columns due to the high percentage of invalid data."
   ]
  },
  {
   "cell_type": "code",
   "execution_count": null,
   "id": "72f4ce75",
   "metadata": {},
   "outputs": [],
   "source": [
    "df_15_EYE.drop(['ET_PupilLeft', 'ET_PupilRight'], axis=1, inplace=True)"
   ]
  },
  {
   "cell_type": "markdown",
   "id": "3a20f2ea",
   "metadata": {},
   "source": [
    "Display the first few rows after dropping the pupil columns."
   ]
  },
  {
   "cell_type": "code",
   "execution_count": null,
   "id": "aa677d67",
   "metadata": {},
   "outputs": [],
   "source": [
    "df_15_EYE.head()"
   ]
  },
  {
   "cell_type": "markdown",
   "id": "42cf44a2",
   "metadata": {},
   "source": [
    "Visualize the distribution of -1 and 1 values again after dropping the pupil columns."
   ]
  },
  {
   "cell_type": "code",
   "execution_count": null,
   "id": "24e28f48",
   "metadata": {},
   "outputs": [],
   "source": [
    "plt.figure(figsize=(18, 8))\n",
    "\n",
    "plt.subplot(1, 2, 1)\n",
    "sns.heatmap(df_15_EYE == -1, cmap='viridis')\n",
    "plt.title('Heatmap of -1 Values')\n",
    "\n",
    "plt.subplot(1, 2, 2)\n",
    "sns.heatmap(df_15_EYE == 1, cmap='viridis')\n",
    "plt.title('Heatmap of -1 Values')\n",
    "\n",
    "plt.tight_layout()\n",
    "plt.show()"
   ]
  },
  {
   "cell_type": "markdown",
   "id": "a27c9fef",
   "metadata": {},
   "source": [
    "Calculate the ratio of valid data points for the left eye."
   ]
  },
  {
   "cell_type": "code",
   "execution_count": null,
   "id": "e073d34c",
   "metadata": {},
   "outputs": [],
   "source": [
    "valid_left_ratio  = 1 - df_15_EYE['ET_ValidityLeft'].mean()"
   ]
  },
  {
   "cell_type": "markdown",
   "id": "f209c28e",
   "metadata": {},
   "source": [
    "Display the ratio of valid data points for the left eye."
   ]
  },
  {
   "cell_type": "code",
   "execution_count": null,
   "id": "061870cd",
   "metadata": {},
   "outputs": [],
   "source": [
    "valid_left_ratio"
   ]
  },
  {
   "cell_type": "markdown",
   "id": "9b515e53",
   "metadata": {},
   "source": [
    "Calculate the ratio of valid data points for the right eye."
   ]
  },
  {
   "cell_type": "code",
   "execution_count": null,
   "id": "fcbd7a6d",
   "metadata": {},
   "outputs": [],
   "source": [
    "valid_right_ratio = 1 - df_15_EYE['ET_ValidityRight'].mean()"
   ]
  },
  {
   "cell_type": "markdown",
   "id": "4a96b4d1",
   "metadata": {},
   "source": [
    "Display the ratio of valid data points for the right eye."
   ]
  },
  {
   "cell_type": "code",
   "execution_count": null,
   "id": "c12ee61d",
   "metadata": {},
   "outputs": [],
   "source": [
    "valid_right_ratio"
   ]
  },
  {
   "cell_type": "markdown",
   "id": "022951f2",
   "metadata": {},
   "source": [
    "Display the first few rows of the DataFrame."
   ]
  },
  {
   "cell_type": "code",
   "execution_count": null,
   "id": "212c9fd3",
   "metadata": {},
   "outputs": [],
   "source": [
    "df_15_EYE.head()"
   ]
  },
  {
   "cell_type": "markdown",
   "id": "27bee06e",
   "metadata": {},
   "source": [
    "Visualize the distributions of numeric columns using histograms with Kernel Density Estimate (KDE) plots. This helps understand the shape and spread of the data in each numeric column."
   ]
  },
  {
   "cell_type": "code",
   "execution_count": null,
   "id": "468dbbc9",
   "metadata": {},
   "outputs": [],
   "source": [
    "# Select only the numeric columns for plotting histograms, excluding time-related columns\n",
    "numeric_cols = df_15_EYE.select_dtypes(include=np.number).columns\n",
    "cols_to_plot = [col for col in numeric_cols if col not in ['UnixTime']]\n",
    "\n",
    "# Calculate the number of rows and columns for the grid\n",
    "n_cols = 4  # You can adjust the number of columns as needed\n",
    "n_rows = (len(cols_to_plot) + n_cols - 1) // n_cols\n",
    "\n",
    "plt.figure(figsize=(n_cols * 5, n_rows * 4)) # Adjust figure size as needed\n",
    "\n",
    "for i, col in enumerate(cols_to_plot):\n",
    "    plt.subplot(n_rows, n_cols, i + 1)\n",
    "    sns.histplot(df_15_EYE[col], kde=True)\n",
    "    plt.title(f'Distribution of {col}')\n",
    "    plt.xlabel(col)\n",
    "    plt.ylabel('Frequency')\n",
    "\n",
    "plt.tight_layout()\n",
    "plt.show()"
   ]
  },
  {
   "cell_type": "markdown",
   "id": "d211dcc0",
   "metadata": {},
   "source": [
    "List the names of the columns in the DataFrame."
   ]
  },
  {
   "cell_type": "code",
   "execution_count": null,
   "id": "ac3e7cc6",
   "metadata": {},
   "outputs": [],
   "source": [
    "df_15_EYE.columns"
   ]
  },
  {
   "cell_type": "markdown",
   "id": "47b510c6",
   "metadata": {},
   "source": [
    "Define a list of columns to be plotted over time."
   ]
  },
  {
   "cell_type": "code",
   "execution_count": null,
   "id": "49664d7d",
   "metadata": {},
   "outputs": [],
   "source": [
    "cols = ['ET_GazeLeftx', 'ET_GazeLefty',\n",
    "       'ET_GazeRightx', 'ET_GazeRighty', 'ET_TimeSignal', 'ET_DistanceLeft',\n",
    "       'ET_DistanceRight', 'ET_CameraLeftX', 'ET_CameraLeftY',\n",
    "       'ET_CameraRightX', 'ET_CameraRightY', 'ET_ValidityLeft',\n",
    "       'ET_ValidityRight']"
   ]
  },
  {
   "cell_type": "markdown",
   "id": "8f728d1d",
   "metadata": {},
   "source": [
    "Plot each of the selected columns against the timestamp to visualize their trends and patterns over time. Markdown cells are added before each plot for better readability."
   ]
  },
  {
   "cell_type": "code",
   "execution_count": null,
   "id": "28c8e447",
   "metadata": {},
   "outputs": [],
   "source": [
    "from IPython.display import display, Markdown\n",
    "\n",
    "for col in cols:\n",
    "    # Add a markdown cell before each plot for better separation and labeling\n",
    "    display(Markdown(f'### {col} over Time'))\n",
    "    plt.figure(figsize=(16, 10))\n",
    "    plt.plot(df_15_EYE['Timestamp'], df_15_EYE[col])\n",
    "    plt.xlabel(\"Timestamp\") # Add x-axis label\n",
    "    plt.ylabel(col) # Add y-axis label\n",
    "    plt.show()"
   ]
  },
  {
   "cell_type": "markdown",
   "id": "d0fa8eed",
   "metadata": {},
   "source": [
    "Visualize the distributions of numeric columns using boxplots. This helps identify potential outliers and the spread of the data."
   ]
  },
  {
   "cell_type": "code",
   "execution_count": null,
   "id": "4561faa8",
   "metadata": {},
   "outputs": [],
   "source": [
    "# Select only the numeric columns for plotting histograms, excluding time-related columns\n",
    "numeric_cols = df_15_EYE.select_dtypes(include=np.number).columns\n",
    "\n",
    "# Calculate the number of rows and columns for the grid\n",
    "n_cols = 4  # You can adjust the number of columns as needed\n",
    "n_rows = (len(numeric_cols) + n_cols - 1) // n_cols\n",
    "\n",
    "plt.figure(figsize=(n_cols * 5, n_rows * 4)) # Adjust figure size as needed\n",
    "\n",
    "for i, col in enumerate(numeric_cols):\n",
    "    plt.subplot(n_rows, n_cols, i + 1)\n",
    "    sns.boxplot(df_15_EYE[col])\n",
    "    plt.title(f'Boxplot of {col}')\n",
    "    plt.xlabel(col)\n",
    "\n",
    "plt.tight_layout()\n",
    "plt.show()"
   ]
  },
  {
   "cell_type": "markdown",
   "id": "b5370cd7",
   "metadata": {},
   "source": [
    "Replace the placeholder value -1 with NaN (Not a Number) in the DataFrame. This is done before imputation."
   ]
  },
  {
   "cell_type": "code",
   "execution_count": null,
   "id": "489284d2",
   "metadata": {},
   "outputs": [],
   "source": [
    "df_15_EYE.replace({-1: np.nan}, inplace=True)"
   ]
  },
  {
   "cell_type": "markdown",
   "id": "d37304f9",
   "metadata": {},
   "source": [
    "Impute the missing values (NaN) in the numeric columns with the mean of each column."
   ]
  },
  {
   "cell_type": "code",
   "execution_count": null,
   "id": "fd9843af",
   "metadata": {},
   "outputs": [],
   "source": [
    "numeric_cols = df_15_EYE.select_dtypes(include=np.number).columns\n",
    "\n",
    "for col in numeric_cols:\n",
    "    df_15_EYE[col].fillna(df_15_EYE[col].mean(), inplace=True)"
   ]
  },
  {
   "cell_type": "markdown",
   "id": "ea6302da",
   "metadata": {},
   "source": [
    "Display the first few rows after imputing missing values."
   ]
  },
  {
   "cell_type": "code",
   "execution_count": null,
   "id": "50da0e34",
   "metadata": {},
   "outputs": [],
   "source": [
    "df_15_EYE.head()"
   ]
  },
  {
   "cell_type": "markdown",
   "id": "c0878a9b",
   "metadata": {},
   "source": [
    "Visualize the distributions of numeric columns again using histograms with KDE plots after imputation. This helps assess the impact of imputation on the data distributions."
   ]
  },
  {
   "cell_type": "code",
   "execution_count": null,
   "id": "19c15a70",
   "metadata": {},
   "outputs": [],
   "source": [
    "# Select only the numeric columns for plotting histograms, excluding time-related columns\n",
    "numeric_cols = df_15_EYE.select_dtypes(include=np.number).columns\n",
    "cols_to_plot = [col for col in numeric_cols if col not in ['UnixTime']]\n",
    "\n",
    "# Calculate the number of rows and columns for the grid\n",
    "n_cols = 4  # You can adjust the number of columns as needed\n",
    "n_rows = (len(cols_to_plot) + n_cols - 1) // n_cols\n",
    "\n",
    "plt.figure(figsize=(n_cols * 5, n_rows * 4)) # Adjust figure size as needed\n",
    "\n",
    "for i, col in enumerate(cols_to_plot):\n",
    "    plt.subplot(n_rows, n_cols, i + 1)\n",
    "    sns.histplot(df_15_EYE[col], kde=True)\n",
    "    plt.title(f'Distribution of {col}')\n",
    "    plt.xlabel(col)\n",
    "    plt.ylabel('Frequency')\n",
    "\n",
    "plt.tight_layout()\n",
    "plt.show()"
   ]
  },
  {
   "cell_type": "code",
   "execution_count": null,
   "id": "cd663299",
   "metadata": {},
   "outputs": [],
   "source": []
  },
  {
   "cell_type": "markdown",
   "id": "cf604a87",
   "metadata": {},
   "source": [
    "## Student 16"
   ]
  },
  {
   "cell_type": "code",
   "execution_count": null,
   "id": "7b14848d",
   "metadata": {},
   "outputs": [],
   "source": [
    "%load_ext cudf"
   ]
  },
  {
   "cell_type": "code",
   "execution_count": null,
   "id": "6cad165d",
   "metadata": {},
   "outputs": [],
   "source": [
    "import numpy as np\n",
    "import pandas as pd\n",
    "import matplotlib.pyplot as plt\n",
    "import seaborn as sns"
   ]
  },
  {
   "cell_type": "code",
   "execution_count": null,
   "id": "d270a57b",
   "metadata": {},
   "outputs": [],
   "source": [
    "import datashader as ds\n",
    "import datashader.transfer_functions as tf"
   ]
  },
  {
   "cell_type": "code",
   "execution_count": null,
   "id": "8f2c9b37",
   "metadata": {},
   "outputs": [],
   "source": [
    "pd.set_option('display.max_columns', None)"
   ]
  },
  {
   "cell_type": "code",
   "execution_count": null,
   "id": "d5143003",
   "metadata": {},
   "outputs": [],
   "source": [
    "df_16_EYE = pd.read_csv('data/STData/16/16_EYE.csv')"
   ]
  },
  {
   "cell_type": "code",
   "execution_count": null,
   "id": "850de765",
   "metadata": {},
   "outputs": [],
   "source": [
    "df_16_EYE.head()"
   ]
  },
  {
   "cell_type": "code",
   "execution_count": null,
   "id": "e3d7940d",
   "metadata": {},
   "outputs": [],
   "source": [
    "df_16_EYE.shape"
   ]
  },
  {
   "cell_type": "code",
   "execution_count": null,
   "id": "3014ed24",
   "metadata": {},
   "outputs": [],
   "source": [
    "df_16_EYE.columns"
   ]
  },
  {
   "cell_type": "code",
   "execution_count": null,
   "id": "f8bf7b74",
   "metadata": {},
   "outputs": [],
   "source": [
    "df_16_EYE.info()"
   ]
  },
  {
   "cell_type": "code",
   "execution_count": null,
   "id": "c6c4467b",
   "metadata": {},
   "outputs": [],
   "source": [
    "df_16_EYE.isnull().sum()"
   ]
  },
  {
   "cell_type": "code",
   "execution_count": null,
   "id": "edc6053a",
   "metadata": {},
   "outputs": [],
   "source": [
    "plt.figure(figsize=(12,8))\n",
    "sns.heatmap(df_16_EYE.isnull(), cmap='viridis')\n",
    "plt.show()"
   ]
  },
  {
   "cell_type": "markdown",
   "id": "72489c56",
   "metadata": {},
   "source": [
    "# Notes & Observations\n",
    "\n",
    "- We observe many **null** (or missing) values in the `QuestionKey` columns.  \n",
    "- The nulls in the `QuestionKey` column may not represent “true” nulls. Rather, they follow interval patterns, suggesting that during those periods no question was displayed.  \n",
    "- These missing values in `QuestionKey` require additional investigation and context-aware handling.  "
   ]
  },
  {
   "cell_type": "code",
   "execution_count": null,
   "id": "e24307b6",
   "metadata": {},
   "outputs": [],
   "source": [
    "df_16_EYE['QuestionKey'].unique()"
   ]
  },
  {
   "cell_type": "code",
   "execution_count": null,
   "id": "951cf247",
   "metadata": {},
   "outputs": [],
   "source": [
    "df_16_EYE['Timestamp'] = pd.to_datetime(df_16_EYE['Timestamp'])"
   ]
  },
  {
   "cell_type": "code",
   "execution_count": null,
   "id": "5fb07c3b",
   "metadata": {},
   "outputs": [],
   "source": [
    "df_16_EYE.head(3)"
   ]
  },
  {
   "cell_type": "code",
   "execution_count": null,
   "id": "d83124ed",
   "metadata": {},
   "outputs": [],
   "source": [
    "df_16_EYE['QuestionKey'].fillna('None', inplace=True)"
   ]
  },
  {
   "cell_type": "code",
   "execution_count": null,
   "id": "3ab4aa31",
   "metadata": {},
   "outputs": [],
   "source": [
    "df_16_EYE['QuestionKey'].value_counts()"
   ]
  },
  {
   "cell_type": "code",
   "execution_count": null,
   "id": "78055089",
   "metadata": {},
   "outputs": [],
   "source": [
    "plt.figure(figsize=(12,8))\n",
    "sns.heatmap(df_16_EYE.isnull(), cmap='viridis')\n",
    "plt.show()"
   ]
  },
  {
   "cell_type": "code",
   "execution_count": null,
   "id": "48b70038",
   "metadata": {},
   "outputs": [],
   "source": [
    "df_16_EYE.isnull().sum()"
   ]
  },
  {
   "cell_type": "code",
   "execution_count": null,
   "id": "add0a59a",
   "metadata": {},
   "outputs": [],
   "source": [
    "df_16_EYE.dropna(inplace=True)"
   ]
  },
  {
   "cell_type": "code",
   "execution_count": null,
   "id": "99f17cce",
   "metadata": {},
   "outputs": [],
   "source": [
    "df_16_EYE.head()"
   ]
  },
  {
   "cell_type": "code",
   "execution_count": null,
   "id": "1504b4cb",
   "metadata": {},
   "outputs": [],
   "source": [
    "df_16_EYE['Row'].unique()"
   ]
  },
  {
   "cell_type": "code",
   "execution_count": null,
   "id": "9a9ddd61",
   "metadata": {},
   "outputs": [],
   "source": [
    "plt.figure(figsize=(8,6))\n",
    "sns.histplot(df_16_EYE['Row'])\n",
    "plt.show()"
   ]
  },
  {
   "cell_type": "markdown",
   "id": "89b05ee8",
   "metadata": {},
   "source": [
    "# Notes & Observations\n",
    "\n",
    "- The `Row` column appears to be a simple row index and does not provide meaningful information relevant to the eye-tracking data itself. Therefore, it can be dropped."
   ]
  },
  {
   "cell_type": "code",
   "execution_count": null,
   "id": "34b28e89",
   "metadata": {},
   "outputs": [],
   "source": [
    "df_16_EYE.drop('Row', axis=1, inplace=True)"
   ]
  },
  {
   "cell_type": "code",
   "execution_count": null,
   "id": "b78cb56f",
   "metadata": {},
   "outputs": [],
   "source": [
    "df_16_EYE['ET_ValidityLeft'].unique()"
   ]
  },
  {
   "cell_type": "code",
   "execution_count": null,
   "id": "2039dd58",
   "metadata": {},
   "outputs": [],
   "source": [
    "df_16_EYE['ET_ValidityLeft'].value_counts()"
   ]
  },
  {
   "cell_type": "code",
   "execution_count": null,
   "id": "5fc413d6",
   "metadata": {},
   "outputs": [],
   "source": [
    "df_16_EYE['ET_ValidityRight'].unique()"
   ]
  },
  {
   "cell_type": "code",
   "execution_count": null,
   "id": "e7bfdd2a",
   "metadata": {},
   "outputs": [],
   "source": [
    "df_16_EYE['ET_ValidityRight'].value_counts()"
   ]
  },
  {
   "cell_type": "code",
   "execution_count": null,
   "id": "c52a8282",
   "metadata": {},
   "outputs": [],
   "source": [
    "plt.figure(figsize=(12, 6))\n",
    "\n",
    "plt.subplot(1, 2, 1)\n",
    "sns.barplot(x=df_16_EYE['ET_ValidityLeft'].value_counts().index, y=df_16_EYE['ET_ValidityLeft'].value_counts().values)\n",
    "plt.title('Count of ET_ValidityLeft')\n",
    "plt.xlabel('Validity')\n",
    "plt.ylabel('Count')\n",
    "\n",
    "\n",
    "plt.subplot(1, 2, 2)\n",
    "sns.barplot(x=df_16_EYE['ET_ValidityRight'].value_counts().index, y=df_16_EYE['ET_ValidityRight'].value_counts().values)\n",
    "plt.title('Count of ET_ValidityRight')\n",
    "plt.xlabel('Validity')\n",
    "plt.ylabel('Count')\n",
    "\n",
    "plt.tight_layout()\n",
    "plt.show()"
   ]
  },
  {
   "cell_type": "markdown",
   "id": "e73ce70f",
   "metadata": {},
   "source": [
    "# Notes & Observations\n",
    "\n",
    "- The `ET_ValidityLeft` and `ET_ValidityRight` columns indicate the validity of the eye-tracking data for the left and right eye, respectively.\n",
    "- Based on the value counts and the bar plots, it appears that a value of `0.0` represents valid eye-tracking data, while a value of `4.0` represents invalid data.\n",
    "- Although the amount of invalid data is relatively small, removing these rows could introduce unwanted patterns or gaps in the time series data.\n",
    "- Therefore, we will keep the data and replace the value `4.0` with `1.0` in both `ET_ValidityLeft` and `ET_ValidityRight` columns. This will indicate to a machine learning model that the eye tracker had invalid data at those specific points in time while maintaining the integrity of the time series."
   ]
  },
  {
   "cell_type": "code",
   "execution_count": null,
   "id": "bc7a4bab",
   "metadata": {},
   "outputs": [],
   "source": [
    "validity_map = {4.0: 1.0, 0.0: 0.0}"
   ]
  },
  {
   "cell_type": "code",
   "execution_count": null,
   "id": "7492e649",
   "metadata": {},
   "outputs": [],
   "source": [
    "df_16_EYE['ET_ValidityLeft'] = df_16_EYE['ET_ValidityLeft'].map(validity_map).astype(np.int8)\n",
    "df_16_EYE['ET_ValidityRight'] = df_16_EYE['ET_ValidityRight'].map(validity_map).astype(np.int8)"
   ]
  },
  {
   "cell_type": "code",
   "execution_count": null,
   "id": "9bc60403",
   "metadata": {},
   "outputs": [],
   "source": [
    "df_16_EYE.head(3)"
   ]
  },
  {
   "cell_type": "code",
   "execution_count": null,
   "id": "555c93bc",
   "metadata": {},
   "outputs": [],
   "source": [
    "df_16_EYE.describe()"
   ]
  },
  {
   "cell_type": "code",
   "execution_count": null,
   "id": "03edeac1",
   "metadata": {},
   "outputs": [],
   "source": [
    "df_16_EYE[df_16_EYE['ET_ValidityLeft'] == 1].shape"
   ]
  },
  {
   "cell_type": "code",
   "execution_count": null,
   "id": "7c78382b",
   "metadata": {},
   "outputs": [],
   "source": [
    "df_16_EYE[df_16_EYE['ET_ValidityRight'] == 1].shape"
   ]
  },
  {
   "cell_type": "code",
   "execution_count": null,
   "id": "07ceef75",
   "metadata": {},
   "outputs": [],
   "source": [
    "plt.figure(figsize=(18, 8))\n",
    "\n",
    "plt.subplot(1, 2, 1)\n",
    "sns.heatmap(df_16_EYE == -1, cmap='viridis')\n",
    "plt.title('Heatmap of -1 Values')\n",
    "\n",
    "plt.subplot(1, 2, 2)\n",
    "sns.heatmap(df_16_EYE == 1, cmap='viridis')\n",
    "plt.title('Heatmap of 1 Values')\n",
    "\n",
    "plt.tight_layout()\n",
    "plt.show()"
   ]
  },
  {
   "cell_type": "code",
   "execution_count": null,
   "id": "62f271e6",
   "metadata": {},
   "outputs": [],
   "source": [
    "df_16_EYE[df_16_EYE['ET_PupilLeft'] == -1].shape"
   ]
  },
  {
   "cell_type": "code",
   "execution_count": null,
   "id": "d77aa6f6",
   "metadata": {},
   "outputs": [],
   "source": [
    "df_16_EYE[df_16_EYE['ET_PupilRight'] == -1].shape"
   ]
  },
  {
   "cell_type": "code",
   "execution_count": null,
   "id": "0efab8c7",
   "metadata": {},
   "outputs": [],
   "source": [
    "df_16_EYE[df_16_EYE['ET_PupilLeft'] == -1].shape[0] / df_16_EYE.shape[0]"
   ]
  },
  {
   "cell_type": "code",
   "execution_count": null,
   "id": "3a4f3fd3",
   "metadata": {},
   "outputs": [],
   "source": [
    "df_16_EYE[df_16_EYE['ET_PupilRight'] == -1].shape[0] / df_16_EYE.shape[0]"
   ]
  },
  {
   "cell_type": "code",
   "execution_count": null,
   "id": "f7593404",
   "metadata": {},
   "outputs": [],
   "source": [
    "plt.figure(figsize=(18, 8))\n",
    "\n",
    "plt.subplot(1, 2, 1)\n",
    "sns.heatmap(df_16_EYE[df_16_EYE['ET_ValidityLeft'] == 1] == -1, cmap='viridis')\n",
    "plt.title('Heatmap of -1 Values')\n",
    "\n",
    "plt.subplot(1, 2, 2)\n",
    "sns.heatmap(df_16_EYE[df_16_EYE['ET_ValidityRight'] == 1] == -1, cmap='viridis')\n",
    "plt.title('Heatmap of -1 Values')\n",
    "\n",
    "plt.tight_layout()\n",
    "plt.show()"
   ]
  },
  {
   "cell_type": "markdown",
   "id": "5754bdcd",
   "metadata": {},
   "source": [
    "# Notes & Observations\n",
    "\n",
    "- The heatmaps reveal the distribution of -1 values across different columns.\n",
    "- It is evident that the `-1` values are not randomly scattered but appear in specific columns, notably `ET_GazeLeftx`, `ET_GazeLefty`, `ET_GazeRightx`, `ET_GazeRighty`, `ET_PupilLeft`, `ET_PupilRight`, `ET_DistanceLeft`, `ET_DistanceRight`, `ET_CameraLeftX`, `ET_CameraLeftY`, `ET_CameraRightX`, and `ET_CameraRightY`.\n",
    "- These `-1` values often coincide with instances where `ET_ValidityLeft` or `ET_ValidityRight` is 1, indicating invalid eye-tracking data. This suggests that `-1` is used as a placeholder for missing or invalid measurements in these columns when the eye tracker is not providing valid data for a particular eye.\n",
    "- Given that over 70% of the data in the `ET_PupilLeft` and `ET_PupilRight` columns is marked as invalid (-1), these columns may not be suitable for analysis and could be considered for dropping."
   ]
  },
  {
   "cell_type": "code",
   "execution_count": null,
   "id": "a0fd2130",
   "metadata": {},
   "outputs": [],
   "source": [
    "df_16_EYE.drop(['ET_PupilLeft', 'ET_PupilRight'], axis=1, inplace=True)"
   ]
  },
  {
   "cell_type": "code",
   "execution_count": null,
   "id": "c529227e",
   "metadata": {},
   "outputs": [],
   "source": [
    "df_16_EYE.head()"
   ]
  },
  {
   "cell_type": "code",
   "execution_count": null,
   "id": "969f1ccc",
   "metadata": {},
   "outputs": [],
   "source": [
    "plt.figure(figsize=(18, 8))\n",
    "\n",
    "plt.subplot(1, 2, 1)\n",
    "sns.heatmap(df_16_EYE == -1, cmap='viridis')\n",
    "plt.title('Heatmap of -1 Values')\n",
    "\n",
    "plt.subplot(1, 2, 2)\n",
    "sns.heatmap(df_16_EYE == 1, cmap='viridis')\n",
    "plt.title('Heatmap of -1 Values')\n",
    "\n",
    "plt.tight_layout()\n",
    "plt.show()"
   ]
  },
  {
   "cell_type": "code",
   "execution_count": null,
   "id": "81acfe01",
   "metadata": {},
   "outputs": [],
   "source": [
    "valid_left_ratio  = 1 - df_16_EYE['ET_ValidityLeft'].mean()\n",
    "valid_right_ratio = 1 - df_16_EYE['ET_ValidityRight'].mean()"
   ]
  },
  {
   "cell_type": "code",
   "execution_count": null,
   "id": "d87de627",
   "metadata": {},
   "outputs": [],
   "source": [
    "valid_left_ratio"
   ]
  },
  {
   "cell_type": "code",
   "execution_count": null,
   "id": "776b8511",
   "metadata": {},
   "outputs": [],
   "source": [
    "valid_right_ratio"
   ]
  },
  {
   "cell_type": "code",
   "execution_count": null,
   "id": "7279c99b",
   "metadata": {},
   "outputs": [],
   "source": [
    "df_16_EYE.head()"
   ]
  },
  {
   "cell_type": "code",
   "execution_count": null,
   "id": "c73cf549",
   "metadata": {},
   "outputs": [],
   "source": [
    "# Select only the numeric columns for plotting histograms, excluding time-related columns\n",
    "numeric_cols = df_16_EYE.select_dtypes(include=np.number).columns\n",
    "cols_to_plot = [col for col in numeric_cols if col not in ['UnixTime']]\n",
    "\n",
    "# Calculate the number of rows and columns for the grid\n",
    "n_cols = 4  # You can adjust the number of columns as needed\n",
    "n_rows = (len(cols_to_plot) + n_cols - 1) // n_cols\n",
    "\n",
    "plt.figure(figsize=(n_cols * 5, n_rows * 4)) # Adjust figure size as needed\n",
    "\n",
    "for i, col in enumerate(cols_to_plot):\n",
    "    plt.subplot(n_rows, n_cols, i + 1)\n",
    "    sns.histplot(df_16_EYE[col], kde=True)\n",
    "    plt.title(f'Distribution of {col}')\n",
    "    plt.xlabel(col)\n",
    "    plt.ylabel('Frequency')\n",
    "\n",
    "plt.tight_layout()\n",
    "plt.show()"
   ]
  },
  {
   "cell_type": "code",
   "execution_count": null,
   "id": "a851a5a7",
   "metadata": {},
   "outputs": [],
   "source": [
    "df_16_EYE.columns"
   ]
  },
  {
   "cell_type": "code",
   "execution_count": null,
   "id": "01bb92f7",
   "metadata": {},
   "outputs": [],
   "source": [
    "cols = ['ET_GazeLeftx', 'ET_GazeLefty',\n",
    "       'ET_GazeRightx', 'ET_GazeRighty', 'ET_TimeSignal', 'ET_DistanceLeft',\n",
    "       'ET_DistanceRight', 'ET_CameraLeftX', 'ET_CameraLeftY',\n",
    "       'ET_CameraRightX', 'ET_CameraRightY', 'ET_ValidityLeft',\n",
    "       'ET_ValidityRight']"
   ]
  },
  {
   "cell_type": "code",
   "execution_count": null,
   "id": "aaacd8b7",
   "metadata": {},
   "outputs": [],
   "source": [
    "from IPython.display import display, Markdown\n",
    "\n",
    "for col in cols:\n",
    "    # Add a markdown cell before each plot for better separation and labeling\n",
    "    display(Markdown(f'### {col} over Time'))\n",
    "    plt.figure(figsize=(16, 10))\n",
    "    plt.plot(df_16_EYE['Timestamp'], df_16_EYE[col])\n",
    "    plt.xlabel(\"Timestamp\") # Add x-axis label\n",
    "    plt.ylabel(col) # Add y-axis label\n",
    "    plt.show()"
   ]
  },
  {
   "cell_type": "code",
   "execution_count": null,
   "id": "f58c3809",
   "metadata": {},
   "outputs": [],
   "source": [
    "# Select only the numeric columns for plotting histograms, excluding time-related columns\n",
    "numeric_cols = df_16_EYE.select_dtypes(include=np.number).columns\n",
    "\n",
    "# Calculate the number of rows and columns for the grid\n",
    "n_cols = 4  # You can adjust the number of columns as needed\n",
    "n_rows = (len(numeric_cols) + n_cols - 1) // n_cols\n",
    "\n",
    "plt.figure(figsize=(n_cols * 5, n_rows * 4)) # Adjust figure size as needed\n",
    "\n",
    "for i, col in enumerate(numeric_cols):\n",
    "    plt.subplot(n_rows, n_cols, i + 1)\n",
    "    sns.boxplot(df_16_EYE[col])\n",
    "    plt.title(f'Boxplot of {col}')\n",
    "    plt.xlabel(col)\n",
    "\n",
    "plt.tight_layout()\n",
    "plt.show()"
   ]
  },
  {
   "cell_type": "code",
   "execution_count": null,
   "id": "49dc9460",
   "metadata": {},
   "outputs": [],
   "source": [
    "df_16_EYE.replace({-1: np.nan}, inplace=True)"
   ]
  },
  {
   "cell_type": "code",
   "execution_count": null,
   "id": "05b8f961",
   "metadata": {},
   "outputs": [],
   "source": [
    "numeric_cols = df_16_EYE.select_dtypes(include=np.number).columns\n",
    "\n",
    "for col in numeric_cols:\n",
    "    df_16_EYE[col].fillna(df_16_EYE[col].mean(), inplace=True)"
   ]
  },
  {
   "cell_type": "code",
   "execution_count": null,
   "id": "c4ccd345",
   "metadata": {},
   "outputs": [],
   "source": [
    "df_16_EYE.head()"
   ]
  },
  {
   "cell_type": "code",
   "execution_count": null,
   "id": "42b0876a",
   "metadata": {},
   "outputs": [],
   "source": [
    "# Select only the numeric columns for plotting histograms, excluding time-related columns\n",
    "numeric_cols = df_16_EYE.select_dtypes(include=np.number).columns\n",
    "cols_to_plot = [col for col in numeric_cols if col not in ['UnixTime']]\n",
    "\n",
    "# Calculate the number of rows and columns for the grid\n",
    "n_cols = 4  # You can adjust the number of columns as needed\n",
    "n_rows = (len(cols_to_plot) + n_cols - 1) // n_cols\n",
    "\n",
    "plt.figure(figsize=(n_cols * 5, n_rows * 4)) # Adjust figure size as needed\n",
    "\n",
    "for i, col in enumerate(cols_to_plot):\n",
    "    plt.subplot(n_rows, n_cols, i + 1)\n",
    "    sns.histplot(df_16_EYE[col], kde=True)\n",
    "    plt.title(f'Distribution of {col}')\n",
    "    plt.xlabel(col)\n",
    "    plt.ylabel('Frequency')\n",
    "\n",
    "plt.tight_layout()\n",
    "plt.show()"
   ]
  },
  {
   "cell_type": "code",
   "execution_count": null,
   "id": "78149368",
   "metadata": {},
   "outputs": [],
   "source": []
  },
  {
   "cell_type": "code",
   "execution_count": null,
   "id": "c213e24b",
   "metadata": {},
   "outputs": [],
   "source": []
  },
  {
   "cell_type": "code",
   "execution_count": null,
   "id": "2e451420",
   "metadata": {},
   "outputs": [],
   "source": []
  },
  {
   "cell_type": "code",
   "execution_count": null,
   "id": "5f372629",
   "metadata": {},
   "outputs": [],
   "source": []
  },
  {
   "cell_type": "code",
   "execution_count": null,
   "id": "f55bbe99",
   "metadata": {},
   "outputs": [],
   "source": []
  },
  {
   "cell_type": "code",
   "execution_count": null,
   "id": "c069bd8f",
   "metadata": {},
   "outputs": [],
   "source": []
  },
  {
   "cell_type": "code",
   "execution_count": null,
   "id": "01d2c485",
   "metadata": {},
   "outputs": [],
   "source": []
  },
  {
   "cell_type": "code",
   "execution_count": null,
   "id": "af3ac3ad",
   "metadata": {},
   "outputs": [],
   "source": []
  },
  {
   "cell_type": "code",
   "execution_count": null,
   "id": "55d2a492",
   "metadata": {},
   "outputs": [],
   "source": []
  },
  {
   "cell_type": "code",
   "execution_count": null,
   "id": "1d5f2901",
   "metadata": {},
   "outputs": [],
   "source": []
  },
  {
   "cell_type": "code",
   "execution_count": null,
   "id": "1d907055",
   "metadata": {},
   "outputs": [],
   "source": []
  },
  {
   "cell_type": "code",
   "execution_count": null,
   "id": "02e1acc7",
   "metadata": {},
   "outputs": [],
   "source": []
  },
  {
   "cell_type": "markdown",
   "id": "f68621b9",
   "metadata": {},
   "source": [
    "# Eye Tracking Data Analysis\n",
    "\n",
    "This notebook performs exploratory data analysis and cleaning on eye-tracking data.\n",
    "\n",
    "## Data Loading and Initial Inspection"
   ]
  },
  {
   "cell_type": "code",
   "execution_count": null,
   "id": "8b537f55",
   "metadata": {},
   "outputs": [],
   "source": [
    "%load_ext cudf"
   ]
  },
  {
   "cell_type": "markdown",
   "id": "1105564c",
   "metadata": {},
   "source": [
    "Import necessary libraries for data manipulation, analysis, and visualization."
   ]
  },
  {
   "cell_type": "code",
   "execution_count": null,
   "id": "084904fb",
   "metadata": {},
   "outputs": [],
   "source": [
    "import numpy as np\n",
    "import pandas as pd\n",
    "import matplotlib.pyplot as plt\n",
    "import seaborn as sns"
   ]
  },
  {
   "cell_type": "markdown",
   "id": "287dcef7",
   "metadata": {},
   "source": [
    "Import libraries for datashader, which can be used for visualizing large datasets."
   ]
  },
  {
   "cell_type": "code",
   "execution_count": null,
   "id": "5d4c9e9e",
   "metadata": {},
   "outputs": [],
   "source": [
    "import datashader as ds\n",
    "import datashader.transfer_functions as tf"
   ]
  },
  {
   "cell_type": "markdown",
   "id": "75abe46c",
   "metadata": {},
   "source": [
    "Set pandas display options to show all columns."
   ]
  },
  {
   "cell_type": "code",
   "execution_count": null,
   "id": "754080cd",
   "metadata": {},
   "outputs": [],
   "source": [
    "pd.set_option('display.max_columns', None)"
   ]
  },
  {
   "cell_type": "markdown",
   "id": "18eaafe3",
   "metadata": {},
   "source": [
    "Load the eye-tracking data from the specified CSV file into a pandas DataFrame."
   ]
  },
  {
   "cell_type": "code",
   "execution_count": null,
   "id": "a95d765c",
   "metadata": {},
   "outputs": [],
   "source": [
    "df_16_EYE = pd.read_csv('data/STData/16/16_EYE.csv')"
   ]
  },
  {
   "cell_type": "markdown",
   "id": "ab958d78",
   "metadata": {},
   "source": [
    "Display the first few rows of the DataFrame to get an initial look at the data structure and content."
   ]
  },
  {
   "cell_type": "code",
   "execution_count": null,
   "id": "35d8625f",
   "metadata": {},
   "outputs": [],
   "source": [
    "df_16_EYE.head()"
   ]
  },
  {
   "cell_type": "markdown",
   "id": "570f2b2f",
   "metadata": {},
   "source": [
    "Check the dimensions (number of rows and columns) of the DataFrame."
   ]
  },
  {
   "cell_type": "code",
   "execution_count": null,
   "id": "a68b63f9",
   "metadata": {},
   "outputs": [],
   "source": [
    "df_16_EYE.shape"
   ]
  },
  {
   "cell_type": "markdown",
   "id": "15a7f5f9",
   "metadata": {},
   "source": [
    "List the names of all columns in the DataFrame."
   ]
  },
  {
   "cell_type": "code",
   "execution_count": null,
   "id": "5f11b593",
   "metadata": {},
   "outputs": [],
   "source": [
    "df_16_EYE.columns"
   ]
  },
  {
   "cell_type": "markdown",
   "id": "f2b913cc",
   "metadata": {},
   "source": [
    "Display concise information about the DataFrame, including the data types of each column and the number of non-null values. This helps identify columns with missing data."
   ]
  },
  {
   "cell_type": "code",
   "execution_count": null,
   "id": "74960645",
   "metadata": {},
   "outputs": [],
   "source": [
    "df_16_EYE.info()"
   ]
  },
  {
   "cell_type": "markdown",
   "id": "4da6f631",
   "metadata": {},
   "source": [
    "Calculate and display the number of missing values in each column."
   ]
  },
  {
   "cell_type": "code",
   "execution_count": null,
   "id": "809614f4",
   "metadata": {},
   "outputs": [],
   "source": [
    "df_16_EYE.isnull().sum()"
   ]
  },
  {
   "cell_type": "markdown",
   "id": "d30206a4",
   "metadata": {},
   "source": [
    "Visualize the distribution of missing values using a heatmap. This provides a visual representation of which columns have missing data and the extent of missingness."
   ]
  },
  {
   "cell_type": "code",
   "execution_count": null,
   "id": "2c8a23f0",
   "metadata": {},
   "outputs": [],
   "source": [
    "plt.figure(figsize=(12,8))\n",
    "sns.heatmap(df_16_EYE.isnull(), cmap='viridis')\n",
    "plt.show()"
   ]
  },
  {
   "cell_type": "markdown",
   "id": "4f6284f9",
   "metadata": {},
   "source": [
    "# Notes & Observations\n",
    "\n",
    "- We observe many **null** (or missing) values in the `QuestionKey` columns.\n",
    "- The nulls in the `QuestionKey` column may not represent “true” nulls. Rather, they follow interval patterns, suggesting that during those periods no question was displayed.\n",
    "- These missing values in `QuestionKey` require additional investigation and context-aware handling."
   ]
  },
  {
   "cell_type": "markdown",
   "id": "3697c840",
   "metadata": {},
   "source": [
    "Display the unique values in the `QuestionKey` column to understand the different types of questions or states recorded."
   ]
  },
  {
   "cell_type": "code",
   "execution_count": null,
   "id": "fc5539ed",
   "metadata": {},
   "outputs": [],
   "source": [
    "df_16_EYE['QuestionKey'].unique()"
   ]
  },
  {
   "cell_type": "markdown",
   "id": "b934f57a",
   "metadata": {},
   "source": [
    "Convert the `Timestamp` column to datetime objects. This is crucial for any time series analysis or manipulation."
   ]
  },
  {
   "cell_type": "code",
   "execution_count": null,
   "id": "56418b3a",
   "metadata": {},
   "outputs": [],
   "source": [
    "df_16_EYE['Timestamp'] = pd.to_datetime(df_16_EYE['Timestamp'])"
   ]
  },
  {
   "cell_type": "markdown",
   "id": "5b04c602",
   "metadata": {},
   "source": [
    "Display the first few rows again to see the effect of the timestamp conversion."
   ]
  },
  {
   "cell_type": "code",
   "execution_count": null,
   "id": "f6816a95",
   "metadata": {},
   "outputs": [],
   "source": [
    "df_16_EYE.head(3)"
   ]
  },
  {
   "cell_type": "markdown",
   "id": "06b64834",
   "metadata": {},
   "source": [
    "Fill the missing values in the `QuestionKey` column with the string 'None'. This helps to explicitly mark periods where no question was active."
   ]
  },
  {
   "cell_type": "code",
   "execution_count": null,
   "id": "9d103728",
   "metadata": {},
   "outputs": [],
   "source": [
    "df_16_EYE['QuestionKey'].fillna('None', inplace=True)"
   ]
  },
  {
   "cell_type": "markdown",
   "id": "8801aeda",
   "metadata": {},
   "source": [
    "Count the occurrences of each unique value in the `QuestionKey` column after filling missing values."
   ]
  },
  {
   "cell_type": "code",
   "execution_count": null,
   "id": "7d03b585",
   "metadata": {},
   "outputs": [],
   "source": [
    "df_16_EYE['QuestionKey'].value_counts()"
   ]
  },
  {
   "cell_type": "markdown",
   "id": "c76c29c3",
   "metadata": {},
   "source": [
    "Display the heatmap of missing values again to confirm that the missing values in `QuestionKey` have been handled."
   ]
  },
  {
   "cell_type": "code",
   "execution_count": null,
   "id": "f7a12137",
   "metadata": {},
   "outputs": [],
   "source": [
    "plt.figure(figsize=(12,8))\n",
    "sns.heatmap(df_16_EYE.isnull(), cmap='viridis')\n",
    "plt.show()"
   ]
  },
  {
   "cell_type": "markdown",
   "id": "49942a95",
   "metadata": {},
   "source": [
    "Recalculate and display the number of missing values per column to confirm the changes after handling `QuestionKey`."
   ]
  },
  {
   "cell_type": "code",
   "execution_count": null,
   "id": "979666ba",
   "metadata": {},
   "outputs": [],
   "source": [
    "df_16_EYE.isnull().sum()"
   ]
  },
  {
   "cell_type": "markdown",
   "id": "c5bf6693",
   "metadata": {},
   "source": [
    "Drop rows that still contain any missing values. This is done after handling `QuestionKey` separately."
   ]
  },
  {
   "cell_type": "code",
   "execution_count": null,
   "id": "7e5c98ba",
   "metadata": {},
   "outputs": [],
   "source": [
    "df_16_EYE.dropna(inplace=True)"
   ]
  },
  {
   "cell_type": "markdown",
   "id": "39fd4075",
   "metadata": {},
   "source": [
    "Display the first few rows after dropping rows with missing values."
   ]
  },
  {
   "cell_type": "code",
   "execution_count": null,
   "id": "56c580e4",
   "metadata": {},
   "outputs": [],
   "source": [
    "df_16_EYE.head()"
   ]
  },
  {
   "cell_type": "markdown",
   "id": "e9c5795b",
   "metadata": {},
   "source": [
    "Display the unique values in the `Row` column."
   ]
  },
  {
   "cell_type": "code",
   "execution_count": null,
   "id": "19ffcd4b",
   "metadata": {},
   "outputs": [],
   "source": [
    "df_16_EYE['Row'].unique()"
   ]
  },
  {
   "cell_type": "markdown",
   "id": "d0eb76af",
   "metadata": {},
   "source": [
    "Plot a histogram of the `Row` column to visualize its distribution."
   ]
  },
  {
   "cell_type": "code",
   "execution_count": null,
   "id": "da8a84ac",
   "metadata": {},
   "outputs": [],
   "source": [
    "plt.figure(figsize=(8,6))\n",
    "sns.histplot(df_16_EYE['Row'])\n",
    "plt.show()"
   ]
  },
  {
   "cell_type": "markdown",
   "id": "df71b4de",
   "metadata": {},
   "source": [
    "# Notes & Observations\n",
    "\n",
    "- The `Row` column appears to be a simple row index and does not provide meaningful information relevant to the eye-tracking data itself. Therefore, it can be dropped."
   ]
  },
  {
   "cell_type": "markdown",
   "id": "24df70bb",
   "metadata": {},
   "source": [
    "Drop the `Row` column as it is not relevant for the analysis."
   ]
  },
  {
   "cell_type": "code",
   "execution_count": null,
   "id": "aaab47e7",
   "metadata": {},
   "outputs": [],
   "source": [
    "df_16_EYE.drop('Row', axis=1, inplace=True)"
   ]
  },
  {
   "cell_type": "markdown",
   "id": "402fcd9f",
   "metadata": {},
   "source": [
    "Display the unique values in the `ET_ValidityLeft` column."
   ]
  },
  {
   "cell_type": "code",
   "execution_count": null,
   "id": "17a55d0f",
   "metadata": {},
   "outputs": [],
   "source": [
    "df_16_EYE['ET_ValidityLeft'].unique()"
   ]
  },
  {
   "cell_type": "markdown",
   "id": "7fcb8d4b",
   "metadata": {},
   "source": [
    "Count the occurrences of each unique value in the `ET_ValidityLeft` column."
   ]
  },
  {
   "cell_type": "code",
   "execution_count": null,
   "id": "623c996e",
   "metadata": {},
   "outputs": [],
   "source": [
    "df_16_EYE['ET_ValidityLeft'].value_counts()"
   ]
  },
  {
   "cell_type": "markdown",
   "id": "ea9e01e6",
   "metadata": {},
   "source": [
    "Display the unique values in the `ET_ValidityRight` column."
   ]
  },
  {
   "cell_type": "code",
   "execution_count": null,
   "id": "e56c838d",
   "metadata": {},
   "outputs": [],
   "source": [
    "df_16_EYE['ET_ValidityRight'].unique()"
   ]
  },
  {
   "cell_type": "markdown",
   "id": "532eb12c",
   "metadata": {},
   "source": [
    "Count the occurrences of each unique value in the `ET_ValidityRight` column."
   ]
  },
  {
   "cell_type": "code",
   "execution_count": null,
   "id": "a244a99e",
   "metadata": {},
   "outputs": [],
   "source": [
    "df_16_EYE['ET_ValidityRight'].value_counts()"
   ]
  },
  {
   "cell_type": "markdown",
   "id": "a551c276",
   "metadata": {},
   "source": [
    "Visualize the counts of valid and invalid data for both left and right eyes using bar plots."
   ]
  },
  {
   "cell_type": "code",
   "execution_count": null,
   "id": "0c0d079f",
   "metadata": {},
   "outputs": [],
   "source": [
    "plt.figure(figsize=(12, 6))\n",
    "\n",
    "plt.subplot(1, 2, 1)\n",
    "sns.barplot(x=df_16_EYE['ET_ValidityLeft'].value_counts().index, y=df_16_EYE['ET_ValidityLeft'].value_counts().values)\n",
    "plt.title('Count of ET_ValidityLeft')\n",
    "plt.xlabel('Validity')\n",
    "plt.ylabel('Count')\n",
    "\n",
    "\n",
    "plt.subplot(1, 2, 2)\n",
    "sns.barplot(x=df_16_EYE['ET_ValidityRight'].value_counts().index, y=df_16_EYE['ET_ValidityRight'].value_counts().values)\n",
    "plt.title('Count of ET_ValidityRight')\n",
    "plt.xlabel('Validity')\n",
    "plt.ylabel('Count')\n",
    "\n",
    "plt.tight_layout()\n",
    "plt.show()"
   ]
  },
  {
   "cell_type": "markdown",
   "id": "87ae5450",
   "metadata": {},
   "source": [
    "# Notes & Observations\n",
    "\n",
    "- The `ET_ValidityLeft` and `ET_ValidityRight` columns indicate the validity of the eye-tracking data for the left and right eye, respectively.\n",
    "- Based on the value counts and the bar plots, it appears that a value of `0.0` represents valid eye-tracking data, while a value of `4.0` represents invalid data.\n",
    "- Although the amount of invalid data is relatively small, removing these rows could introduce unwanted patterns or gaps in the time series data.\n",
    "- Therefore, we will keep the data and replace the value `4.0` with `1.0` in both `ET_ValidityLeft` and `ET_ValidityRight` columns. This will indicate to a machine learning model that the eye tracker had invalid data at those specific points in time while maintaining the integrity of the time series."
   ]
  },
  {
   "cell_type": "markdown",
   "id": "a3863c2c",
   "metadata": {},
   "source": [
    "Define a mapping to convert validity values from `0.0` and `4.0` to `0` and `1`."
   ]
  },
  {
   "cell_type": "code",
   "execution_count": null,
   "id": "eb6644e3",
   "metadata": {},
   "outputs": [],
   "source": [
    "validity_map = {4.0: 1.0, 0.0: 0.0}"
   ]
  },
  {
   "cell_type": "markdown",
   "id": "82de8edf",
   "metadata": {},
   "source": [
    "Apply the mapping to the `ET_ValidityLeft` and `ET_ValidityRight` columns and convert the data type to integer."
   ]
  },
  {
   "cell_type": "code",
   "execution_count": null,
   "id": "234f165a",
   "metadata": {},
   "outputs": [],
   "source": [
    "df_16_EYE['ET_ValidityLeft'] = df_16_EYE['ET_ValidityLeft'].map(validity_map).astype(np.int8)\n",
    "df_16_EYE['ET_ValidityRight'] = df_16_EYE['ET_ValidityRight'].map(validity_map).astype(np.int8)"
   ]
  },
  {
   "cell_type": "markdown",
   "id": "5db023b7",
   "metadata": {},
   "source": [
    "Display the first few rows to see the updated validity columns."
   ]
  },
  {
   "cell_type": "code",
   "execution_count": null,
   "id": "8919a6e7",
   "metadata": {},
   "outputs": [],
   "source": [
    "df_16_EYE.head(3)"
   ]
  },
  {
   "cell_type": "markdown",
   "id": "fecfebe5",
   "metadata": {},
   "source": [
    "Display descriptive statistics for the DataFrame, including count, mean, standard deviation, min, max, and quartiles for numeric columns."
   ]
  },
  {
   "cell_type": "code",
   "execution_count": null,
   "id": "712ab7ff",
   "metadata": {},
   "outputs": [],
   "source": [
    "df_16_EYE.describe()"
   ]
  },
  {
   "cell_type": "markdown",
   "id": "a3466998",
   "metadata": {},
   "source": [
    "Check the number of rows where `ET_ValidityLeft` is 1 (invalid data for the left eye)."
   ]
  },
  {
   "cell_type": "code",
   "execution_count": null,
   "id": "d659bbaa",
   "metadata": {},
   "outputs": [],
   "source": [
    "df_16_EYE[df_16_EYE['ET_ValidityLeft'] == 1].shape"
   ]
  },
  {
   "cell_type": "markdown",
   "id": "f713a4e0",
   "metadata": {},
   "source": [
    "Check the number of rows where `ET_ValidityRight` is 1 (invalid data for the right eye)."
   ]
  },
  {
   "cell_type": "code",
   "execution_count": null,
   "id": "7dec436d",
   "metadata": {},
   "outputs": [],
   "source": [
    "df_16_EYE[df_16_EYE['ET_ValidityRight'] == 1].shape"
   ]
  },
  {
   "cell_type": "markdown",
   "id": "79f31e84",
   "metadata": {},
   "source": [
    "Visualize the distribution of -1 and 1 values across columns using heatmaps. This helps identify columns with placeholder or indicator values."
   ]
  },
  {
   "cell_type": "code",
   "execution_count": null,
   "id": "e8cdd1f5",
   "metadata": {},
   "outputs": [],
   "source": [
    "plt.figure(figsize=(18, 8))\n",
    "\n",
    "plt.subplot(1, 2, 1)\n",
    "sns.heatmap(df_16_EYE == -1, cmap='viridis')\n",
    "plt.title('Heatmap of -1 Values')\n",
    "\n",
    "plt.subplot(1, 2, 2)\n",
    "sns.heatmap(df_16_EYE == 1, cmap='viridis')\n",
    "plt.title('Heatmap of 1 Values')\n",
    "\n",
    "plt.tight_layout()\n",
    "plt.show()"
   ]
  },
  {
   "cell_type": "markdown",
   "id": "5cf648ec",
   "metadata": {},
   "source": [
    "Check the number of rows where `ET_PupilLeft` is -1."
   ]
  },
  {
   "cell_type": "code",
   "execution_count": null,
   "id": "c907800f",
   "metadata": {},
   "outputs": [],
   "source": [
    "df_16_EYE[df_16_EYE['ET_PupilLeft'] == -1].shape"
   ]
  },
  {
   "cell_type": "markdown",
   "id": "63516486",
   "metadata": {},
   "source": [
    "Check the number of rows where `ET_PupilRight` is -1."
   ]
  },
  {
   "cell_type": "code",
   "execution_count": null,
   "id": "5b645cf3",
   "metadata": {},
   "outputs": [],
   "source": [
    "df_16_EYE[df_16_EYE['ET_PupilRight'] == -1].shape"
   ]
  },
  {
   "cell_type": "markdown",
   "id": "7afe4bb0",
   "metadata": {},
   "source": [
    "Calculate the ratio of rows with -1 values in the `ET_PupilLeft` column to the total number of rows."
   ]
  },
  {
   "cell_type": "code",
   "execution_count": null,
   "id": "a7b6c0a8",
   "metadata": {},
   "outputs": [],
   "source": [
    "df_16_EYE[df_16_EYE['ET_PupilLeft'] == -1].shape[0] / df_16_EYE.shape[0]"
   ]
  },
  {
   "cell_type": "markdown",
   "id": "266859e8",
   "metadata": {},
   "source": [
    "Calculate the ratio of rows with -1 values in the `ET_PupilRight` column to the total number of rows."
   ]
  },
  {
   "cell_type": "code",
   "execution_count": null,
   "id": "d9772363",
   "metadata": {},
   "outputs": [],
   "source": [
    "df_16_EYE[df_16_EYE['ET_PupilRight'] == -1].shape[0] / df_16_EYE.shape[0]"
   ]
  },
  {
   "cell_type": "markdown",
   "id": "77ae19a9",
   "metadata": {},
   "source": [
    "Visualize the distribution of -1 values specifically for rows where validity is 1 (invalid data)."
   ]
  },
  {
   "cell_type": "code",
   "execution_count": null,
   "id": "206fdb5d",
   "metadata": {},
   "outputs": [],
   "source": [
    "plt.figure(figsize=(18, 8))\n",
    "\n",
    "plt.subplot(1, 2, 1)\n",
    "sns.heatmap(df_16_EYE[df_16_EYE['ET_ValidityLeft'] == 1] == -1, cmap='viridis')\n",
    "plt.title('Heatmap of -1 Values')\n",
    "\n",
    "plt.subplot(1, 2, 2)\n",
    "sns.heatmap(df_16_EYE[df_16_EYE['ET_ValidityRight'] == 1] == -1, cmap='viridis')\n",
    "plt.title('Heatmap of -1 Values')\n",
    "\n",
    "plt.tight_layout()\n",
    "plt.show()"
   ]
  },
  {
   "cell_type": "markdown",
   "id": "cfeef91b",
   "metadata": {},
   "source": [
    "# Notes & Observations\n",
    "\n",
    "- The heatmaps reveal the distribution of -1 values across different columns.\n",
    "- It is evident that the `-1` values are not randomly scattered but appear in specific columns, notably `ET_GazeLeftx`, `ET_GazeLefty`, `ET_GazeRightx`, `ET_GazeRighty`, `ET_PupilLeft`, `ET_PupilRight`, `ET_DistanceLeft`, `ET_DistanceRight`, `ET_CameraLeftX`, `ET_CameraLeftY`, `ET_CameraRightX`, and `ET_CameraRightY`.\n",
    "- These `-1` values often coincide with instances where `ET_ValidityLeft` or `ET_ValidityRight` is 1, indicating invalid eye-tracking data. This suggests that `-1` is used as a placeholder for missing or invalid measurements in these columns when the eye tracker is not providing valid data for a particular eye.\n",
    "- Given that over 70% of the data in the `ET_PupilLeft` and `ET_PupilRight` columns is marked as invalid (-1), these columns may not be suitable for analysis and could be considered for dropping."
   ]
  },
  {
   "cell_type": "markdown",
   "id": "5f5dc997",
   "metadata": {},
   "source": [
    "Drop the `ET_PupilLeft` and `ET_PupilRight` columns due to the high percentage of invalid data."
   ]
  },
  {
   "cell_type": "code",
   "execution_count": null,
   "id": "772518ed",
   "metadata": {},
   "outputs": [],
   "source": [
    "df_16_EYE.drop(['ET_PupilLeft', 'ET_PupilRight'], axis=1, inplace=True)"
   ]
  },
  {
   "cell_type": "markdown",
   "id": "1e5907c0",
   "metadata": {},
   "source": [
    "Display the first few rows after dropping the pupil columns."
   ]
  },
  {
   "cell_type": "code",
   "execution_count": null,
   "id": "34ae7729",
   "metadata": {},
   "outputs": [],
   "source": [
    "df_16_EYE.head()"
   ]
  },
  {
   "cell_type": "markdown",
   "id": "555054e1",
   "metadata": {},
   "source": [
    "Visualize the distribution of -1 and 1 values again after dropping the pupil columns."
   ]
  },
  {
   "cell_type": "code",
   "execution_count": null,
   "id": "71fc1ca5",
   "metadata": {},
   "outputs": [],
   "source": [
    "plt.figure(figsize=(18, 8))\n",
    "\n",
    "plt.subplot(1, 2, 1)\n",
    "sns.heatmap(df_16_EYE == -1, cmap='viridis')\n",
    "plt.title('Heatmap of -1 Values')\n",
    "\n",
    "plt.subplot(1, 2, 2)\n",
    "sns.heatmap(df_16_EYE == 1, cmap='viridis')\n",
    "plt.title('Heatmap of -1 Values')\n",
    "\n",
    "plt.tight_layout()\n",
    "plt.show()"
   ]
  },
  {
   "cell_type": "markdown",
   "id": "26f47874",
   "metadata": {},
   "source": [
    "Calculate the ratio of valid data points for the left eye."
   ]
  },
  {
   "cell_type": "code",
   "execution_count": null,
   "id": "90e7ae0b",
   "metadata": {},
   "outputs": [],
   "source": [
    "valid_left_ratio  = 1 - df_16_EYE['ET_ValidityLeft'].mean()"
   ]
  },
  {
   "cell_type": "markdown",
   "id": "f2b52c09",
   "metadata": {},
   "source": [
    "Display the ratio of valid data points for the left eye."
   ]
  },
  {
   "cell_type": "code",
   "execution_count": null,
   "id": "1907f581",
   "metadata": {},
   "outputs": [],
   "source": [
    "valid_left_ratio"
   ]
  },
  {
   "cell_type": "markdown",
   "id": "2f0301d8",
   "metadata": {},
   "source": [
    "Calculate the ratio of valid data points for the right eye."
   ]
  },
  {
   "cell_type": "code",
   "execution_count": null,
   "id": "3b279c9c",
   "metadata": {},
   "outputs": [],
   "source": [
    "valid_right_ratio = 1 - df_16_EYE['ET_ValidityRight'].mean()"
   ]
  },
  {
   "cell_type": "markdown",
   "id": "116ca0cb",
   "metadata": {},
   "source": [
    "Display the ratio of valid data points for the right eye."
   ]
  },
  {
   "cell_type": "code",
   "execution_count": null,
   "id": "09734b85",
   "metadata": {},
   "outputs": [],
   "source": [
    "valid_right_ratio"
   ]
  },
  {
   "cell_type": "markdown",
   "id": "b3466714",
   "metadata": {},
   "source": [
    "Display the first few rows of the DataFrame."
   ]
  },
  {
   "cell_type": "code",
   "execution_count": null,
   "id": "0b3fde85",
   "metadata": {},
   "outputs": [],
   "source": [
    "df_16_EYE.head()"
   ]
  },
  {
   "cell_type": "markdown",
   "id": "3881dcb8",
   "metadata": {},
   "source": [
    "Visualize the distributions of numeric columns using histograms with Kernel Density Estimate (KDE) plots. This helps understand the shape and spread of the data in each numeric column."
   ]
  },
  {
   "cell_type": "code",
   "execution_count": null,
   "id": "129a7477",
   "metadata": {},
   "outputs": [],
   "source": [
    "# Select only the numeric columns for plotting histograms, excluding time-related columns\n",
    "numeric_cols = df_16_EYE.select_dtypes(include=np.number).columns\n",
    "cols_to_plot = [col for col in numeric_cols if col not in ['UnixTime']]\n",
    "\n",
    "# Calculate the number of rows and columns for the grid\n",
    "n_cols = 4  # You can adjust the number of columns as needed\n",
    "n_rows = (len(cols_to_plot) + n_cols - 1) // n_cols\n",
    "\n",
    "plt.figure(figsize=(n_cols * 5, n_rows * 4)) # Adjust figure size as needed\n",
    "\n",
    "for i, col in enumerate(cols_to_plot):\n",
    "    plt.subplot(n_rows, n_cols, i + 1)\n",
    "    sns.histplot(df_16_EYE[col], kde=True)\n",
    "    plt.title(f'Distribution of {col}')\n",
    "    plt.xlabel(col)\n",
    "    plt.ylabel('Frequency')\n",
    "\n",
    "plt.tight_layout()\n",
    "plt.show()"
   ]
  },
  {
   "cell_type": "markdown",
   "id": "1363bdcd",
   "metadata": {},
   "source": [
    "List the names of the columns in the DataFrame."
   ]
  },
  {
   "cell_type": "code",
   "execution_count": null,
   "id": "a7f7f08a",
   "metadata": {},
   "outputs": [],
   "source": [
    "df_16_EYE.columns"
   ]
  },
  {
   "cell_type": "markdown",
   "id": "203aa2e4",
   "metadata": {},
   "source": [
    "Define a list of columns to be plotted over time."
   ]
  },
  {
   "cell_type": "code",
   "execution_count": null,
   "id": "03f22c15",
   "metadata": {},
   "outputs": [],
   "source": [
    "cols = ['ET_GazeLeftx', 'ET_GazeLefty',\n",
    "       'ET_GazeRightx', 'ET_GazeRighty', 'ET_TimeSignal', 'ET_DistanceLeft',\n",
    "       'ET_DistanceRight', 'ET_CameraLeftX', 'ET_CameraLeftY',\n",
    "       'ET_CameraRightX', 'ET_CameraRightY', 'ET_ValidityLeft',\n",
    "       'ET_ValidityRight']"
   ]
  },
  {
   "cell_type": "markdown",
   "id": "68266e9f",
   "metadata": {},
   "source": [
    "Plot each of the selected columns against the timestamp to visualize their trends and patterns over time. Markdown cells are added before each plot for better readability."
   ]
  },
  {
   "cell_type": "code",
   "execution_count": null,
   "id": "d39efe13",
   "metadata": {},
   "outputs": [],
   "source": [
    "from IPython.display import display, Markdown\n",
    "\n",
    "for col in cols:\n",
    "    # Add a markdown cell before each plot for better separation and labeling\n",
    "    display(Markdown(f'### {col} over Time'))\n",
    "    plt.figure(figsize=(16, 10))\n",
    "    plt.plot(df_16_EYE['Timestamp'], df_16_EYE[col])\n",
    "    plt.xlabel(\"Timestamp\") # Add x-axis label\n",
    "    plt.ylabel(col) # Add y-axis label\n",
    "    plt.show()"
   ]
  },
  {
   "cell_type": "markdown",
   "id": "1e642594",
   "metadata": {},
   "source": [
    "Visualize the distributions of numeric columns using boxplots. This helps identify potential outliers and the spread of the data."
   ]
  },
  {
   "cell_type": "code",
   "execution_count": null,
   "id": "dc9f2324",
   "metadata": {},
   "outputs": [],
   "source": [
    "# Select only the numeric columns for plotting histograms, excluding time-related columns\n",
    "numeric_cols = df_16_EYE.select_dtypes(include=np.number).columns\n",
    "\n",
    "# Calculate the number of rows and columns for the grid\n",
    "n_cols = 4  # You can adjust the number of columns as needed\n",
    "n_rows = (len(numeric_cols) + n_cols - 1) // n_cols\n",
    "\n",
    "plt.figure(figsize=(n_cols * 5, n_rows * 4)) # Adjust figure size as needed\n",
    "\n",
    "for i, col in enumerate(numeric_cols):\n",
    "    plt.subplot(n_rows, n_cols, i + 1)\n",
    "    sns.boxplot(df_16_EYE[col])\n",
    "    plt.title(f'Boxplot of {col}')\n",
    "    plt.xlabel(col)\n",
    "\n",
    "plt.tight_layout()\n",
    "plt.show()"
   ]
  },
  {
   "cell_type": "markdown",
   "id": "0b22480a",
   "metadata": {},
   "source": [
    "Replace the placeholder value -1 with NaN (Not a Number) in the DataFrame. This is done before imputation."
   ]
  },
  {
   "cell_type": "code",
   "execution_count": null,
   "id": "45c08021",
   "metadata": {},
   "outputs": [],
   "source": [
    "df_16_EYE.replace({-1: np.nan}, inplace=True)"
   ]
  },
  {
   "cell_type": "markdown",
   "id": "26036090",
   "metadata": {},
   "source": [
    "Impute the missing values (NaN) in the numeric columns with the mean of each column."
   ]
  },
  {
   "cell_type": "code",
   "execution_count": null,
   "id": "cd270278",
   "metadata": {},
   "outputs": [],
   "source": [
    "numeric_cols = df_16_EYE.select_dtypes(include=np.number).columns\n",
    "\n",
    "for col in numeric_cols:\n",
    "    df_16_EYE[col].fillna(df_16_EYE[col].mean(), inplace=True)"
   ]
  },
  {
   "cell_type": "markdown",
   "id": "5178a763",
   "metadata": {},
   "source": [
    "Display the first few rows after imputing missing values."
   ]
  },
  {
   "cell_type": "code",
   "execution_count": null,
   "id": "3738d971",
   "metadata": {},
   "outputs": [],
   "source": [
    "df_16_EYE.head()"
   ]
  },
  {
   "cell_type": "markdown",
   "id": "a5a56c48",
   "metadata": {},
   "source": [
    "Visualize the distributions of numeric columns again using histograms with KDE plots after imputation. This helps assess the impact of imputation on the data distributions."
   ]
  },
  {
   "cell_type": "code",
   "execution_count": null,
   "id": "a3cba5d7",
   "metadata": {},
   "outputs": [],
   "source": [
    "# Select only the numeric columns for plotting histograms, excluding time-related columns\n",
    "numeric_cols = df_16_EYE.select_dtypes(include=np.number).columns\n",
    "cols_to_plot = [col for col in numeric_cols if col not in ['UnixTime']]\n",
    "\n",
    "# Calculate the number of rows and columns for the grid\n",
    "n_cols = 4  # You can adjust the number of columns as needed\n",
    "n_rows = (len(cols_to_plot) + n_cols - 1) // n_cols\n",
    "\n",
    "plt.figure(figsize=(n_cols * 5, n_rows * 4)) # Adjust figure size as needed\n",
    "\n",
    "for i, col in enumerate(cols_to_plot):\n",
    "    plt.subplot(n_rows, n_cols, i + 1)\n",
    "    sns.histplot(df_16_EYE[col], kde=True)\n",
    "    plt.title(f'Distribution of {col}')\n",
    "    plt.xlabel(col)\n",
    "    plt.ylabel('Frequency')\n",
    "\n",
    "plt.tight_layout()\n",
    "plt.show()"
   ]
  },
  {
   "cell_type": "code",
   "execution_count": null,
   "id": "5f879269",
   "metadata": {},
   "outputs": [],
   "source": []
  },
  {
   "cell_type": "markdown",
   "id": "91be5b9b",
   "metadata": {},
   "source": [
    "## Student 17"
   ]
  },
  {
   "cell_type": "code",
   "execution_count": null,
   "id": "ef9089a5",
   "metadata": {},
   "outputs": [],
   "source": [
    "%load_ext cudf"
   ]
  },
  {
   "cell_type": "code",
   "execution_count": null,
   "id": "f011bfaf",
   "metadata": {},
   "outputs": [],
   "source": [
    "import numpy as np\n",
    "import pandas as pd\n",
    "import matplotlib.pyplot as plt\n",
    "import seaborn as sns"
   ]
  },
  {
   "cell_type": "code",
   "execution_count": null,
   "id": "6f653ed5",
   "metadata": {},
   "outputs": [],
   "source": [
    "import datashader as ds\n",
    "import datashader.transfer_functions as tf"
   ]
  },
  {
   "cell_type": "code",
   "execution_count": null,
   "id": "d6ae3b8a",
   "metadata": {},
   "outputs": [],
   "source": [
    "pd.set_option('display.max_columns', None)"
   ]
  },
  {
   "cell_type": "code",
   "execution_count": null,
   "id": "725c4a09",
   "metadata": {},
   "outputs": [],
   "source": [
    "df_17_EYE = pd.read_csv('data/STData/17/17_EYE.csv')"
   ]
  },
  {
   "cell_type": "code",
   "execution_count": null,
   "id": "6ec697f8",
   "metadata": {},
   "outputs": [],
   "source": [
    "df_17_EYE.head()"
   ]
  },
  {
   "cell_type": "code",
   "execution_count": null,
   "id": "35415e13",
   "metadata": {},
   "outputs": [],
   "source": [
    "df_17_EYE.shape"
   ]
  },
  {
   "cell_type": "code",
   "execution_count": null,
   "id": "ee2304eb",
   "metadata": {},
   "outputs": [],
   "source": [
    "df_17_EYE.columns"
   ]
  },
  {
   "cell_type": "code",
   "execution_count": null,
   "id": "4a97ecd1",
   "metadata": {},
   "outputs": [],
   "source": [
    "df_17_EYE.info()"
   ]
  },
  {
   "cell_type": "code",
   "execution_count": null,
   "id": "897eb150",
   "metadata": {},
   "outputs": [],
   "source": [
    "df_17_EYE.isnull().sum()"
   ]
  },
  {
   "cell_type": "code",
   "execution_count": null,
   "id": "afc3e1de",
   "metadata": {},
   "outputs": [],
   "source": [
    "plt.figure(figsize=(12,8))\n",
    "sns.heatmap(df_17_EYE.isnull(), cmap='viridis')\n",
    "plt.show()"
   ]
  },
  {
   "cell_type": "markdown",
   "id": "7175f197",
   "metadata": {},
   "source": [
    "# Notes & Observations\n",
    "\n",
    "- We observe many **null** (or missing) values in the `QuestionKey` columns.  \n",
    "- The nulls in the `QuestionKey` column may not represent “true” nulls. Rather, they follow interval patterns, suggesting that during those periods no question was displayed.  \n",
    "- These missing values in `QuestionKey` require additional investigation and context-aware handling.  "
   ]
  },
  {
   "cell_type": "code",
   "execution_count": null,
   "id": "d0ee9383",
   "metadata": {},
   "outputs": [],
   "source": [
    "df_17_EYE['QuestionKey'].unique()"
   ]
  },
  {
   "cell_type": "code",
   "execution_count": null,
   "id": "5c597504",
   "metadata": {},
   "outputs": [],
   "source": [
    "df_17_EYE['Timestamp'] = pd.to_datetime(df_17_EYE['Timestamp'])"
   ]
  },
  {
   "cell_type": "code",
   "execution_count": null,
   "id": "4af1f9dc",
   "metadata": {},
   "outputs": [],
   "source": [
    "df_17_EYE.head(3)"
   ]
  },
  {
   "cell_type": "code",
   "execution_count": null,
   "id": "516d0233",
   "metadata": {},
   "outputs": [],
   "source": [
    "df_17_EYE['QuestionKey'].fillna('None', inplace=True)"
   ]
  },
  {
   "cell_type": "code",
   "execution_count": null,
   "id": "09091eaa",
   "metadata": {},
   "outputs": [],
   "source": [
    "df_17_EYE['QuestionKey'].value_counts()"
   ]
  },
  {
   "cell_type": "code",
   "execution_count": null,
   "id": "69399d1c",
   "metadata": {},
   "outputs": [],
   "source": [
    "plt.figure(figsize=(12,8))\n",
    "sns.heatmap(df_17_EYE.isnull(), cmap='viridis')\n",
    "plt.show()"
   ]
  },
  {
   "cell_type": "code",
   "execution_count": null,
   "id": "e061fa0a",
   "metadata": {},
   "outputs": [],
   "source": [
    "df_17_EYE.isnull().sum()"
   ]
  },
  {
   "cell_type": "code",
   "execution_count": null,
   "id": "6498da56",
   "metadata": {},
   "outputs": [],
   "source": [
    "df_17_EYE.dropna(inplace=True)"
   ]
  },
  {
   "cell_type": "code",
   "execution_count": null,
   "id": "f95b366a",
   "metadata": {},
   "outputs": [],
   "source": [
    "df_17_EYE.head()"
   ]
  },
  {
   "cell_type": "code",
   "execution_count": null,
   "id": "9cbf98f7",
   "metadata": {},
   "outputs": [],
   "source": [
    "df_17_EYE['Row'].unique()"
   ]
  },
  {
   "cell_type": "code",
   "execution_count": null,
   "id": "2f68a19c",
   "metadata": {},
   "outputs": [],
   "source": [
    "plt.figure(figsize=(8,6))\n",
    "sns.histplot(df_17_EYE['Row'])\n",
    "plt.show()"
   ]
  },
  {
   "cell_type": "markdown",
   "id": "037355c3",
   "metadata": {},
   "source": [
    "# Notes & Observations\n",
    "\n",
    "- The `Row` column appears to be a simple row index and does not provide meaningful information relevant to the eye-tracking data itself. Therefore, it can be dropped."
   ]
  },
  {
   "cell_type": "code",
   "execution_count": null,
   "id": "6c03fa18",
   "metadata": {},
   "outputs": [],
   "source": [
    "df_17_EYE.drop('Row', axis=1, inplace=True)"
   ]
  },
  {
   "cell_type": "code",
   "execution_count": null,
   "id": "a1a90927",
   "metadata": {},
   "outputs": [],
   "source": [
    "df_17_EYE['ET_ValidityLeft'].unique()"
   ]
  },
  {
   "cell_type": "code",
   "execution_count": null,
   "id": "5214b19b",
   "metadata": {},
   "outputs": [],
   "source": [
    "df_17_EYE['ET_ValidityLeft'].value_counts()"
   ]
  },
  {
   "cell_type": "code",
   "execution_count": null,
   "id": "4ad3e35f",
   "metadata": {},
   "outputs": [],
   "source": [
    "df_17_EYE['ET_ValidityRight'].unique()"
   ]
  },
  {
   "cell_type": "code",
   "execution_count": null,
   "id": "734d75d5",
   "metadata": {},
   "outputs": [],
   "source": [
    "df_17_EYE['ET_ValidityRight'].value_counts()"
   ]
  },
  {
   "cell_type": "code",
   "execution_count": null,
   "id": "6ada52a1",
   "metadata": {},
   "outputs": [],
   "source": [
    "plt.figure(figsize=(12, 6))\n",
    "\n",
    "plt.subplot(1, 2, 1)\n",
    "sns.barplot(x=df_17_EYE['ET_ValidityLeft'].value_counts().index, y=df_17_EYE['ET_ValidityLeft'].value_counts().values)\n",
    "plt.title('Count of ET_ValidityLeft')\n",
    "plt.xlabel('Validity')\n",
    "plt.ylabel('Count')\n",
    "\n",
    "\n",
    "plt.subplot(1, 2, 2)\n",
    "sns.barplot(x=df_17_EYE['ET_ValidityRight'].value_counts().index, y=df_17_EYE['ET_ValidityRight'].value_counts().values)\n",
    "plt.title('Count of ET_ValidityRight')\n",
    "plt.xlabel('Validity')\n",
    "plt.ylabel('Count')\n",
    "\n",
    "plt.tight_layout()\n",
    "plt.show()"
   ]
  },
  {
   "cell_type": "markdown",
   "id": "6de906f3",
   "metadata": {},
   "source": [
    "# Notes & Observations\n",
    "\n",
    "- The `ET_ValidityLeft` and `ET_ValidityRight` columns indicate the validity of the eye-tracking data for the left and right eye, respectively.\n",
    "- Based on the value counts and the bar plots, it appears that a value of `0.0` represents valid eye-tracking data, while a value of `4.0` represents invalid data.\n",
    "- Although the amount of invalid data is relatively small, removing these rows could introduce unwanted patterns or gaps in the time series data.\n",
    "- Therefore, we will keep the data and replace the value `4.0` with `1.0` in both `ET_ValidityLeft` and `ET_ValidityRight` columns. This will indicate to a machine learning model that the eye tracker had invalid data at those specific points in time while maintaining the integrity of the time series."
   ]
  },
  {
   "cell_type": "code",
   "execution_count": null,
   "id": "436dc2da",
   "metadata": {},
   "outputs": [],
   "source": [
    "validity_map = {4.0: 1.0, 0.0: 0.0}"
   ]
  },
  {
   "cell_type": "code",
   "execution_count": null,
   "id": "49a25c6f",
   "metadata": {},
   "outputs": [],
   "source": [
    "df_17_EYE['ET_ValidityLeft'] = df_17_EYE['ET_ValidityLeft'].map(validity_map).astype(np.int8)\n",
    "df_17_EYE['ET_ValidityRight'] = df_17_EYE['ET_ValidityRight'].map(validity_map).astype(np.int8)"
   ]
  },
  {
   "cell_type": "code",
   "execution_count": null,
   "id": "f5bd20ce",
   "metadata": {},
   "outputs": [],
   "source": [
    "df_17_EYE.head(3)"
   ]
  },
  {
   "cell_type": "code",
   "execution_count": null,
   "id": "e64c6957",
   "metadata": {},
   "outputs": [],
   "source": [
    "df_17_EYE.describe()"
   ]
  },
  {
   "cell_type": "code",
   "execution_count": null,
   "id": "fce7ed67",
   "metadata": {},
   "outputs": [],
   "source": [
    "df_17_EYE[df_17_EYE['ET_ValidityLeft'] == 1].shape"
   ]
  },
  {
   "cell_type": "code",
   "execution_count": null,
   "id": "8e4c6f5b",
   "metadata": {},
   "outputs": [],
   "source": [
    "df_17_EYE[df_17_EYE['ET_ValidityRight'] == 1].shape"
   ]
  },
  {
   "cell_type": "code",
   "execution_count": null,
   "id": "3e7a9ad0",
   "metadata": {},
   "outputs": [],
   "source": [
    "plt.figure(figsize=(18, 8))\n",
    "\n",
    "plt.subplot(1, 2, 1)\n",
    "sns.heatmap(df_17_EYE == -1, cmap='viridis')\n",
    "plt.title('Heatmap of -1 Values')\n",
    "\n",
    "plt.subplot(1, 2, 2)\n",
    "sns.heatmap(df_17_EYE == 1, cmap='viridis')\n",
    "plt.title('Heatmap of 1 Values')\n",
    "\n",
    "plt.tight_layout()\n",
    "plt.show()"
   ]
  },
  {
   "cell_type": "code",
   "execution_count": null,
   "id": "1fc3b9b0",
   "metadata": {},
   "outputs": [],
   "source": [
    "df_17_EYE[df_17_EYE['ET_PupilLeft'] == -1].shape"
   ]
  },
  {
   "cell_type": "code",
   "execution_count": null,
   "id": "22ed638a",
   "metadata": {},
   "outputs": [],
   "source": [
    "df_17_EYE[df_17_EYE['ET_PupilRight'] == -1].shape"
   ]
  },
  {
   "cell_type": "code",
   "execution_count": null,
   "id": "ddf3e918",
   "metadata": {},
   "outputs": [],
   "source": [
    "df_17_EYE[df_17_EYE['ET_PupilLeft'] == -1].shape[0] / df_17_EYE.shape[0]"
   ]
  },
  {
   "cell_type": "code",
   "execution_count": null,
   "id": "e8e33ae6",
   "metadata": {},
   "outputs": [],
   "source": [
    "df_17_EYE[df_17_EYE['ET_PupilRight'] == -1].shape[0] / df_17_EYE.shape[0]"
   ]
  },
  {
   "cell_type": "code",
   "execution_count": null,
   "id": "40aa7258",
   "metadata": {},
   "outputs": [],
   "source": [
    "plt.figure(figsize=(18, 8))\n",
    "\n",
    "plt.subplot(1, 2, 1)\n",
    "sns.heatmap(df_17_EYE[df_17_EYE['ET_ValidityLeft'] == 1] == -1, cmap='viridis')\n",
    "plt.title('Heatmap of -1 Values')\n",
    "\n",
    "plt.subplot(1, 2, 2)\n",
    "sns.heatmap(df_17_EYE[df_17_EYE['ET_ValidityRight'] == 1] == -1, cmap='viridis')\n",
    "plt.title('Heatmap of -1 Values')\n",
    "\n",
    "plt.tight_layout()\n",
    "plt.show()"
   ]
  },
  {
   "cell_type": "markdown",
   "id": "0243c31f",
   "metadata": {},
   "source": [
    "# Notes & Observations\n",
    "\n",
    "- The heatmaps reveal the distribution of -1 values across different columns.\n",
    "- It is evident that the `-1` values are not randomly scattered but appear in specific columns, notably `ET_GazeLeftx`, `ET_GazeLefty`, `ET_GazeRightx`, `ET_GazeRighty`, `ET_PupilLeft`, `ET_PupilRight`, `ET_DistanceLeft`, `ET_DistanceRight`, `ET_CameraLeftX`, `ET_CameraLeftY`, `ET_CameraRightX`, and `ET_CameraRightY`.\n",
    "- These `-1` values often coincide with instances where `ET_ValidityLeft` or `ET_ValidityRight` is 1, indicating invalid eye-tracking data. This suggests that `-1` is used as a placeholder for missing or invalid measurements in these columns when the eye tracker is not providing valid data for a particular eye.\n",
    "- Given that over 70% of the data in the `ET_PupilLeft` and `ET_PupilRight` columns is marked as invalid (-1), these columns may not be suitable for analysis and could be considered for dropping."
   ]
  },
  {
   "cell_type": "code",
   "execution_count": null,
   "id": "98791c56",
   "metadata": {},
   "outputs": [],
   "source": [
    "df_17_EYE.drop(['ET_PupilLeft', 'ET_PupilRight'], axis=1, inplace=True)"
   ]
  },
  {
   "cell_type": "code",
   "execution_count": null,
   "id": "f4cec711",
   "metadata": {},
   "outputs": [],
   "source": [
    "df_17_EYE.head()"
   ]
  },
  {
   "cell_type": "code",
   "execution_count": null,
   "id": "a7fb58c5",
   "metadata": {},
   "outputs": [],
   "source": [
    "plt.figure(figsize=(18, 8))\n",
    "\n",
    "plt.subplot(1, 2, 1)\n",
    "sns.heatmap(df_17_EYE == -1, cmap='viridis')\n",
    "plt.title('Heatmap of -1 Values')\n",
    "\n",
    "plt.subplot(1, 2, 2)\n",
    "sns.heatmap(df_17_EYE == 1, cmap='viridis')\n",
    "plt.title('Heatmap of -1 Values')\n",
    "\n",
    "plt.tight_layout()\n",
    "plt.show()"
   ]
  },
  {
   "cell_type": "code",
   "execution_count": null,
   "id": "03ab2707",
   "metadata": {},
   "outputs": [],
   "source": [
    "valid_left_ratio  = 1 - df_17_EYE['ET_ValidityLeft'].mean()\n",
    "valid_right_ratio = 1 - df_17_EYE['ET_ValidityRight'].mean()"
   ]
  },
  {
   "cell_type": "code",
   "execution_count": null,
   "id": "9b86fedc",
   "metadata": {},
   "outputs": [],
   "source": [
    "valid_left_ratio"
   ]
  },
  {
   "cell_type": "code",
   "execution_count": null,
   "id": "0a9165bf",
   "metadata": {},
   "outputs": [],
   "source": [
    "valid_right_ratio"
   ]
  },
  {
   "cell_type": "code",
   "execution_count": null,
   "id": "51f85a77",
   "metadata": {},
   "outputs": [],
   "source": [
    "df_17_EYE.head()"
   ]
  },
  {
   "cell_type": "code",
   "execution_count": null,
   "id": "4ec4b0c0",
   "metadata": {},
   "outputs": [],
   "source": [
    "# Select only the numeric columns for plotting histograms, excluding time-related columns\n",
    "numeric_cols = df_17_EYE.select_dtypes(include=np.number).columns\n",
    "cols_to_plot = [col for col in numeric_cols if col not in ['UnixTime']]\n",
    "\n",
    "# Calculate the number of rows and columns for the grid\n",
    "n_cols = 4  # You can adjust the number of columns as needed\n",
    "n_rows = (len(cols_to_plot) + n_cols - 1) // n_cols\n",
    "\n",
    "plt.figure(figsize=(n_cols * 5, n_rows * 4)) # Adjust figure size as needed\n",
    "\n",
    "for i, col in enumerate(cols_to_plot):\n",
    "    plt.subplot(n_rows, n_cols, i + 1)\n",
    "    sns.histplot(df_17_EYE[col], kde=True)\n",
    "    plt.title(f'Distribution of {col}')\n",
    "    plt.xlabel(col)\n",
    "    plt.ylabel('Frequency')\n",
    "\n",
    "plt.tight_layout()\n",
    "plt.show()"
   ]
  },
  {
   "cell_type": "code",
   "execution_count": null,
   "id": "01df997d",
   "metadata": {},
   "outputs": [],
   "source": [
    "df_17_EYE.columns"
   ]
  },
  {
   "cell_type": "code",
   "execution_count": null,
   "id": "fbf4bf41",
   "metadata": {},
   "outputs": [],
   "source": [
    "cols = ['ET_GazeLeftx', 'ET_GazeLefty',\n",
    "       'ET_GazeRightx', 'ET_GazeRighty', 'ET_TimeSignal', 'ET_DistanceLeft',\n",
    "       'ET_DistanceRight', 'ET_CameraLeftX', 'ET_CameraLeftY',\n",
    "       'ET_CameraRightX', 'ET_CameraRightY', 'ET_ValidityLeft',\n",
    "       'ET_ValidityRight']"
   ]
  },
  {
   "cell_type": "code",
   "execution_count": null,
   "id": "80c1d24a",
   "metadata": {},
   "outputs": [],
   "source": [
    "from IPython.display import display, Markdown\n",
    "\n",
    "for col in cols:\n",
    "    # Add a markdown cell before each plot for better separation and labeling\n",
    "    display(Markdown(f'### {col} over Time'))\n",
    "    plt.figure(figsize=(16, 10))\n",
    "    plt.plot(df_17_EYE['Timestamp'], df_17_EYE[col])\n",
    "    plt.xlabel(\"Timestamp\") # Add x-axis label\n",
    "    plt.ylabel(col) # Add y-axis label\n",
    "    plt.show()"
   ]
  },
  {
   "cell_type": "code",
   "execution_count": null,
   "id": "2bc89314",
   "metadata": {},
   "outputs": [],
   "source": [
    "# Select only the numeric columns for plotting histograms, excluding time-related columns\n",
    "numeric_cols = df_17_EYE.select_dtypes(include=np.number).columns\n",
    "\n",
    "# Calculate the number of rows and columns for the grid\n",
    "n_cols = 4  # You can adjust the number of columns as needed\n",
    "n_rows = (len(numeric_cols) + n_cols - 1) // n_cols\n",
    "\n",
    "plt.figure(figsize=(n_cols * 5, n_rows * 4)) # Adjust figure size as needed\n",
    "\n",
    "for i, col in enumerate(numeric_cols):\n",
    "    plt.subplot(n_rows, n_cols, i + 1)\n",
    "    sns.boxplot(df_17_EYE[col])\n",
    "    plt.title(f'Boxplot of {col}')\n",
    "    plt.xlabel(col)\n",
    "\n",
    "plt.tight_layout()\n",
    "plt.show()"
   ]
  },
  {
   "cell_type": "code",
   "execution_count": null,
   "id": "151d204b",
   "metadata": {},
   "outputs": [],
   "source": [
    "df_17_EYE.replace({-1: np.nan}, inplace=True)"
   ]
  },
  {
   "cell_type": "code",
   "execution_count": null,
   "id": "abf1e27b",
   "metadata": {},
   "outputs": [],
   "source": [
    "numeric_cols = df_17_EYE.select_dtypes(include=np.number).columns\n",
    "\n",
    "for col in numeric_cols:\n",
    "    df_17_EYE[col].fillna(df_17_EYE[col].mean(), inplace=True)"
   ]
  },
  {
   "cell_type": "code",
   "execution_count": null,
   "id": "94bfa1d8",
   "metadata": {},
   "outputs": [],
   "source": [
    "df_17_EYE.head()"
   ]
  },
  {
   "cell_type": "code",
   "execution_count": null,
   "id": "d634b89b",
   "metadata": {},
   "outputs": [],
   "source": [
    "# Select only the numeric columns for plotting histograms, excluding time-related columns\n",
    "numeric_cols = df_17_EYE.select_dtypes(include=np.number).columns\n",
    "cols_to_plot = [col for col in numeric_cols if col not in ['UnixTime']]\n",
    "\n",
    "# Calculate the number of rows and columns for the grid\n",
    "n_cols = 4  # You can adjust the number of columns as needed\n",
    "n_rows = (len(cols_to_plot) + n_cols - 1) // n_cols\n",
    "\n",
    "plt.figure(figsize=(n_cols * 5, n_rows * 4)) # Adjust figure size as needed\n",
    "\n",
    "for i, col in enumerate(cols_to_plot):\n",
    "    plt.subplot(n_rows, n_cols, i + 1)\n",
    "    sns.histplot(df_17_EYE[col], kde=True)\n",
    "    plt.title(f'Distribution of {col}')\n",
    "    plt.xlabel(col)\n",
    "    plt.ylabel('Frequency')\n",
    "\n",
    "plt.tight_layout()\n",
    "plt.show()"
   ]
  },
  {
   "cell_type": "code",
   "execution_count": null,
   "id": "9e93e95d",
   "metadata": {},
   "outputs": [],
   "source": []
  },
  {
   "cell_type": "code",
   "execution_count": null,
   "id": "1f979137",
   "metadata": {},
   "outputs": [],
   "source": []
  },
  {
   "cell_type": "code",
   "execution_count": null,
   "id": "03aa20c4",
   "metadata": {},
   "outputs": [],
   "source": []
  },
  {
   "cell_type": "code",
   "execution_count": null,
   "id": "afb11ebd",
   "metadata": {},
   "outputs": [],
   "source": []
  },
  {
   "cell_type": "code",
   "execution_count": null,
   "id": "d7ba29ef",
   "metadata": {},
   "outputs": [],
   "source": []
  },
  {
   "cell_type": "code",
   "execution_count": null,
   "id": "256023fb",
   "metadata": {},
   "outputs": [],
   "source": []
  },
  {
   "cell_type": "code",
   "execution_count": null,
   "id": "ddeb4fa1",
   "metadata": {},
   "outputs": [],
   "source": []
  },
  {
   "cell_type": "code",
   "execution_count": null,
   "id": "09beb371",
   "metadata": {},
   "outputs": [],
   "source": []
  },
  {
   "cell_type": "code",
   "execution_count": null,
   "id": "9d7bae09",
   "metadata": {},
   "outputs": [],
   "source": []
  },
  {
   "cell_type": "code",
   "execution_count": null,
   "id": "07cafc62",
   "metadata": {},
   "outputs": [],
   "source": []
  },
  {
   "cell_type": "code",
   "execution_count": null,
   "id": "990c4549",
   "metadata": {},
   "outputs": [],
   "source": []
  },
  {
   "cell_type": "code",
   "execution_count": null,
   "id": "c6c9972f",
   "metadata": {},
   "outputs": [],
   "source": []
  },
  {
   "cell_type": "markdown",
   "id": "d8cb7b8c",
   "metadata": {},
   "source": [
    "# Eye Tracking Data Analysis\n",
    "\n",
    "This notebook performs exploratory data analysis and cleaning on eye-tracking data.\n",
    "\n",
    "## Data Loading and Initial Inspection"
   ]
  },
  {
   "cell_type": "code",
   "execution_count": null,
   "id": "07350191",
   "metadata": {},
   "outputs": [],
   "source": [
    "%load_ext cudf"
   ]
  },
  {
   "cell_type": "markdown",
   "id": "e5c999cf",
   "metadata": {},
   "source": [
    "Import necessary libraries for data manipulation, analysis, and visualization."
   ]
  },
  {
   "cell_type": "code",
   "execution_count": null,
   "id": "ebb69b85",
   "metadata": {},
   "outputs": [],
   "source": [
    "import numpy as np\n",
    "import pandas as pd\n",
    "import matplotlib.pyplot as plt\n",
    "import seaborn as sns"
   ]
  },
  {
   "cell_type": "markdown",
   "id": "01679c84",
   "metadata": {},
   "source": [
    "Import libraries for datashader, which can be used for visualizing large datasets."
   ]
  },
  {
   "cell_type": "code",
   "execution_count": null,
   "id": "b417f33e",
   "metadata": {},
   "outputs": [],
   "source": [
    "import datashader as ds\n",
    "import datashader.transfer_functions as tf"
   ]
  },
  {
   "cell_type": "markdown",
   "id": "39f11c4e",
   "metadata": {},
   "source": [
    "Set pandas display options to show all columns."
   ]
  },
  {
   "cell_type": "code",
   "execution_count": null,
   "id": "923ae940",
   "metadata": {},
   "outputs": [],
   "source": [
    "pd.set_option('display.max_columns', None)"
   ]
  },
  {
   "cell_type": "markdown",
   "id": "1b2945fc",
   "metadata": {},
   "source": [
    "Load the eye-tracking data from the specified CSV file into a pandas DataFrame."
   ]
  },
  {
   "cell_type": "code",
   "execution_count": null,
   "id": "e1a72d50",
   "metadata": {},
   "outputs": [],
   "source": [
    "df_17_EYE = pd.read_csv('data/STData/17/17_EYE.csv')"
   ]
  },
  {
   "cell_type": "markdown",
   "id": "747de041",
   "metadata": {},
   "source": [
    "Display the first few rows of the DataFrame to get an initial look at the data structure and content."
   ]
  },
  {
   "cell_type": "code",
   "execution_count": null,
   "id": "265b6c64",
   "metadata": {},
   "outputs": [],
   "source": [
    "df_17_EYE.head()"
   ]
  },
  {
   "cell_type": "markdown",
   "id": "1ccd2942",
   "metadata": {},
   "source": [
    "Check the dimensions (number of rows and columns) of the DataFrame."
   ]
  },
  {
   "cell_type": "code",
   "execution_count": null,
   "id": "c7f02d40",
   "metadata": {},
   "outputs": [],
   "source": [
    "df_17_EYE.shape"
   ]
  },
  {
   "cell_type": "markdown",
   "id": "98bdfd7e",
   "metadata": {},
   "source": [
    "List the names of all columns in the DataFrame."
   ]
  },
  {
   "cell_type": "code",
   "execution_count": null,
   "id": "91071472",
   "metadata": {},
   "outputs": [],
   "source": [
    "df_17_EYE.columns"
   ]
  },
  {
   "cell_type": "markdown",
   "id": "7cbdc4fd",
   "metadata": {},
   "source": [
    "Display concise information about the DataFrame, including the data types of each column and the number of non-null values. This helps identify columns with missing data."
   ]
  },
  {
   "cell_type": "code",
   "execution_count": null,
   "id": "4759b815",
   "metadata": {},
   "outputs": [],
   "source": [
    "df_17_EYE.info()"
   ]
  },
  {
   "cell_type": "markdown",
   "id": "c0ee577d",
   "metadata": {},
   "source": [
    "Calculate and display the number of missing values in each column."
   ]
  },
  {
   "cell_type": "code",
   "execution_count": null,
   "id": "17b91748",
   "metadata": {},
   "outputs": [],
   "source": [
    "df_17_EYE.isnull().sum()"
   ]
  },
  {
   "cell_type": "markdown",
   "id": "96f8c20a",
   "metadata": {},
   "source": [
    "Visualize the distribution of missing values using a heatmap. This provides a visual representation of which columns have missing data and the extent of missingness."
   ]
  },
  {
   "cell_type": "code",
   "execution_count": null,
   "id": "93c682e2",
   "metadata": {},
   "outputs": [],
   "source": [
    "plt.figure(figsize=(12,8))\n",
    "sns.heatmap(df_17_EYE.isnull(), cmap='viridis')\n",
    "plt.show()"
   ]
  },
  {
   "cell_type": "markdown",
   "id": "80dbe250",
   "metadata": {},
   "source": [
    "# Notes & Observations\n",
    "\n",
    "- We observe many **null** (or missing) values in the `QuestionKey` columns.\n",
    "- The nulls in the `QuestionKey` column may not represent “true” nulls. Rather, they follow interval patterns, suggesting that during those periods no question was displayed.\n",
    "- These missing values in `QuestionKey` require additional investigation and context-aware handling."
   ]
  },
  {
   "cell_type": "markdown",
   "id": "330c781c",
   "metadata": {},
   "source": [
    "Display the unique values in the `QuestionKey` column to understand the different types of questions or states recorded."
   ]
  },
  {
   "cell_type": "code",
   "execution_count": null,
   "id": "8f02e74e",
   "metadata": {},
   "outputs": [],
   "source": [
    "df_17_EYE['QuestionKey'].unique()"
   ]
  },
  {
   "cell_type": "markdown",
   "id": "8be9341b",
   "metadata": {},
   "source": [
    "Convert the `Timestamp` column to datetime objects. This is crucial for any time series analysis or manipulation."
   ]
  },
  {
   "cell_type": "code",
   "execution_count": null,
   "id": "ef52eb6b",
   "metadata": {},
   "outputs": [],
   "source": [
    "df_17_EYE['Timestamp'] = pd.to_datetime(df_17_EYE['Timestamp'])"
   ]
  },
  {
   "cell_type": "markdown",
   "id": "6fb849e3",
   "metadata": {},
   "source": [
    "Display the first few rows again to see the effect of the timestamp conversion."
   ]
  },
  {
   "cell_type": "code",
   "execution_count": null,
   "id": "cf16787f",
   "metadata": {},
   "outputs": [],
   "source": [
    "df_17_EYE.head(3)"
   ]
  },
  {
   "cell_type": "markdown",
   "id": "61667fa7",
   "metadata": {},
   "source": [
    "Fill the missing values in the `QuestionKey` column with the string 'None'. This helps to explicitly mark periods where no question was active."
   ]
  },
  {
   "cell_type": "code",
   "execution_count": null,
   "id": "6d733225",
   "metadata": {},
   "outputs": [],
   "source": [
    "df_17_EYE['QuestionKey'].fillna('None', inplace=True)"
   ]
  },
  {
   "cell_type": "markdown",
   "id": "56222ef0",
   "metadata": {},
   "source": [
    "Count the occurrences of each unique value in the `QuestionKey` column after filling missing values."
   ]
  },
  {
   "cell_type": "code",
   "execution_count": null,
   "id": "c65221eb",
   "metadata": {},
   "outputs": [],
   "source": [
    "df_17_EYE['QuestionKey'].value_counts()"
   ]
  },
  {
   "cell_type": "markdown",
   "id": "c2a305e9",
   "metadata": {},
   "source": [
    "Display the heatmap of missing values again to confirm that the missing values in `QuestionKey` have been handled."
   ]
  },
  {
   "cell_type": "code",
   "execution_count": null,
   "id": "c042b523",
   "metadata": {},
   "outputs": [],
   "source": [
    "plt.figure(figsize=(12,8))\n",
    "sns.heatmap(df_17_EYE.isnull(), cmap='viridis')\n",
    "plt.show()"
   ]
  },
  {
   "cell_type": "markdown",
   "id": "93db78ae",
   "metadata": {},
   "source": [
    "Recalculate and display the number of missing values per column to confirm the changes after handling `QuestionKey`."
   ]
  },
  {
   "cell_type": "code",
   "execution_count": null,
   "id": "ebf9e4af",
   "metadata": {},
   "outputs": [],
   "source": [
    "df_17_EYE.isnull().sum()"
   ]
  },
  {
   "cell_type": "markdown",
   "id": "255343cc",
   "metadata": {},
   "source": [
    "Drop rows that still contain any missing values. This is done after handling `QuestionKey` separately."
   ]
  },
  {
   "cell_type": "code",
   "execution_count": null,
   "id": "07c359d2",
   "metadata": {},
   "outputs": [],
   "source": [
    "df_17_EYE.dropna(inplace=True)"
   ]
  },
  {
   "cell_type": "markdown",
   "id": "725e264c",
   "metadata": {},
   "source": [
    "Display the first few rows after dropping rows with missing values."
   ]
  },
  {
   "cell_type": "code",
   "execution_count": null,
   "id": "9901c4fd",
   "metadata": {},
   "outputs": [],
   "source": [
    "df_17_EYE.head()"
   ]
  },
  {
   "cell_type": "markdown",
   "id": "e0d0b64b",
   "metadata": {},
   "source": [
    "Display the unique values in the `Row` column."
   ]
  },
  {
   "cell_type": "code",
   "execution_count": null,
   "id": "3ff6c3b1",
   "metadata": {},
   "outputs": [],
   "source": [
    "df_17_EYE['Row'].unique()"
   ]
  },
  {
   "cell_type": "markdown",
   "id": "eeb5961f",
   "metadata": {},
   "source": [
    "Plot a histogram of the `Row` column to visualize its distribution."
   ]
  },
  {
   "cell_type": "code",
   "execution_count": null,
   "id": "457ed928",
   "metadata": {},
   "outputs": [],
   "source": [
    "plt.figure(figsize=(8,6))\n",
    "sns.histplot(df_17_EYE['Row'])\n",
    "plt.show()"
   ]
  },
  {
   "cell_type": "markdown",
   "id": "6918642f",
   "metadata": {},
   "source": [
    "# Notes & Observations\n",
    "\n",
    "- The `Row` column appears to be a simple row index and does not provide meaningful information relevant to the eye-tracking data itself. Therefore, it can be dropped."
   ]
  },
  {
   "cell_type": "markdown",
   "id": "84d3bcac",
   "metadata": {},
   "source": [
    "Drop the `Row` column as it is not relevant for the analysis."
   ]
  },
  {
   "cell_type": "code",
   "execution_count": null,
   "id": "057b029b",
   "metadata": {},
   "outputs": [],
   "source": [
    "df_17_EYE.drop('Row', axis=1, inplace=True)"
   ]
  },
  {
   "cell_type": "markdown",
   "id": "671b2fb9",
   "metadata": {},
   "source": [
    "Display the unique values in the `ET_ValidityLeft` column."
   ]
  },
  {
   "cell_type": "code",
   "execution_count": null,
   "id": "37b4d947",
   "metadata": {},
   "outputs": [],
   "source": [
    "df_17_EYE['ET_ValidityLeft'].unique()"
   ]
  },
  {
   "cell_type": "markdown",
   "id": "dfa0923a",
   "metadata": {},
   "source": [
    "Count the occurrences of each unique value in the `ET_ValidityLeft` column."
   ]
  },
  {
   "cell_type": "code",
   "execution_count": null,
   "id": "0f0a4bfe",
   "metadata": {},
   "outputs": [],
   "source": [
    "df_17_EYE['ET_ValidityLeft'].value_counts()"
   ]
  },
  {
   "cell_type": "markdown",
   "id": "63f5570a",
   "metadata": {},
   "source": [
    "Display the unique values in the `ET_ValidityRight` column."
   ]
  },
  {
   "cell_type": "code",
   "execution_count": null,
   "id": "63d37fd1",
   "metadata": {},
   "outputs": [],
   "source": [
    "df_17_EYE['ET_ValidityRight'].unique()"
   ]
  },
  {
   "cell_type": "markdown",
   "id": "0094695b",
   "metadata": {},
   "source": [
    "Count the occurrences of each unique value in the `ET_ValidityRight` column."
   ]
  },
  {
   "cell_type": "code",
   "execution_count": null,
   "id": "8388c898",
   "metadata": {},
   "outputs": [],
   "source": [
    "df_17_EYE['ET_ValidityRight'].value_counts()"
   ]
  },
  {
   "cell_type": "markdown",
   "id": "53f50107",
   "metadata": {},
   "source": [
    "Visualize the counts of valid and invalid data for both left and right eyes using bar plots."
   ]
  },
  {
   "cell_type": "code",
   "execution_count": null,
   "id": "be90ef0c",
   "metadata": {},
   "outputs": [],
   "source": [
    "plt.figure(figsize=(12, 6))\n",
    "\n",
    "plt.subplot(1, 2, 1)\n",
    "sns.barplot(x=df_17_EYE['ET_ValidityLeft'].value_counts().index, y=df_17_EYE['ET_ValidityLeft'].value_counts().values)\n",
    "plt.title('Count of ET_ValidityLeft')\n",
    "plt.xlabel('Validity')\n",
    "plt.ylabel('Count')\n",
    "\n",
    "\n",
    "plt.subplot(1, 2, 2)\n",
    "sns.barplot(x=df_17_EYE['ET_ValidityRight'].value_counts().index, y=df_17_EYE['ET_ValidityRight'].value_counts().values)\n",
    "plt.title('Count of ET_ValidityRight')\n",
    "plt.xlabel('Validity')\n",
    "plt.ylabel('Count')\n",
    "\n",
    "plt.tight_layout()\n",
    "plt.show()"
   ]
  },
  {
   "cell_type": "markdown",
   "id": "f3865eb5",
   "metadata": {},
   "source": [
    "# Notes & Observations\n",
    "\n",
    "- The `ET_ValidityLeft` and `ET_ValidityRight` columns indicate the validity of the eye-tracking data for the left and right eye, respectively.\n",
    "- Based on the value counts and the bar plots, it appears that a value of `0.0` represents valid eye-tracking data, while a value of `4.0` represents invalid data.\n",
    "- Although the amount of invalid data is relatively small, removing these rows could introduce unwanted patterns or gaps in the time series data.\n",
    "- Therefore, we will keep the data and replace the value `4.0` with `1.0` in both `ET_ValidityLeft` and `ET_ValidityRight` columns. This will indicate to a machine learning model that the eye tracker had invalid data at those specific points in time while maintaining the integrity of the time series."
   ]
  },
  {
   "cell_type": "markdown",
   "id": "374503fe",
   "metadata": {},
   "source": [
    "Define a mapping to convert validity values from `0.0` and `4.0` to `0` and `1`."
   ]
  },
  {
   "cell_type": "code",
   "execution_count": null,
   "id": "9eed1366",
   "metadata": {},
   "outputs": [],
   "source": [
    "validity_map = {4.0: 1.0, 0.0: 0.0}"
   ]
  },
  {
   "cell_type": "markdown",
   "id": "948ac44f",
   "metadata": {},
   "source": [
    "Apply the mapping to the `ET_ValidityLeft` and `ET_ValidityRight` columns and convert the data type to integer."
   ]
  },
  {
   "cell_type": "code",
   "execution_count": null,
   "id": "a676f38f",
   "metadata": {},
   "outputs": [],
   "source": [
    "df_17_EYE['ET_ValidityLeft'] = df_17_EYE['ET_ValidityLeft'].map(validity_map).astype(np.int8)\n",
    "df_17_EYE['ET_ValidityRight'] = df_17_EYE['ET_ValidityRight'].map(validity_map).astype(np.int8)"
   ]
  },
  {
   "cell_type": "markdown",
   "id": "3a82f685",
   "metadata": {},
   "source": [
    "Display the first few rows to see the updated validity columns."
   ]
  },
  {
   "cell_type": "code",
   "execution_count": null,
   "id": "c9b294b7",
   "metadata": {},
   "outputs": [],
   "source": [
    "df_17_EYE.head(3)"
   ]
  },
  {
   "cell_type": "markdown",
   "id": "fcdaae9a",
   "metadata": {},
   "source": [
    "Display descriptive statistics for the DataFrame, including count, mean, standard deviation, min, max, and quartiles for numeric columns."
   ]
  },
  {
   "cell_type": "code",
   "execution_count": null,
   "id": "307271ac",
   "metadata": {},
   "outputs": [],
   "source": [
    "df_17_EYE.describe()"
   ]
  },
  {
   "cell_type": "markdown",
   "id": "fc0fad75",
   "metadata": {},
   "source": [
    "Check the number of rows where `ET_ValidityLeft` is 1 (invalid data for the left eye)."
   ]
  },
  {
   "cell_type": "code",
   "execution_count": null,
   "id": "0cd8fe6a",
   "metadata": {},
   "outputs": [],
   "source": [
    "df_17_EYE[df_17_EYE['ET_ValidityLeft'] == 1].shape"
   ]
  },
  {
   "cell_type": "markdown",
   "id": "bb8f2b64",
   "metadata": {},
   "source": [
    "Check the number of rows where `ET_ValidityRight` is 1 (invalid data for the right eye)."
   ]
  },
  {
   "cell_type": "code",
   "execution_count": null,
   "id": "47e56712",
   "metadata": {},
   "outputs": [],
   "source": [
    "df_17_EYE[df_17_EYE['ET_ValidityRight'] == 1].shape"
   ]
  },
  {
   "cell_type": "markdown",
   "id": "aa84084c",
   "metadata": {},
   "source": [
    "Visualize the distribution of -1 and 1 values across columns using heatmaps. This helps identify columns with placeholder or indicator values."
   ]
  },
  {
   "cell_type": "code",
   "execution_count": null,
   "id": "52a4291b",
   "metadata": {},
   "outputs": [],
   "source": [
    "plt.figure(figsize=(18, 8))\n",
    "\n",
    "plt.subplot(1, 2, 1)\n",
    "sns.heatmap(df_17_EYE == -1, cmap='viridis')\n",
    "plt.title('Heatmap of -1 Values')\n",
    "\n",
    "plt.subplot(1, 2, 2)\n",
    "sns.heatmap(df_17_EYE == 1, cmap='viridis')\n",
    "plt.title('Heatmap of 1 Values')\n",
    "\n",
    "plt.tight_layout()\n",
    "plt.show()"
   ]
  },
  {
   "cell_type": "markdown",
   "id": "e96cbe57",
   "metadata": {},
   "source": [
    "Check the number of rows where `ET_PupilLeft` is -1."
   ]
  },
  {
   "cell_type": "code",
   "execution_count": null,
   "id": "ec3624a1",
   "metadata": {},
   "outputs": [],
   "source": [
    "df_17_EYE[df_17_EYE['ET_PupilLeft'] == -1].shape"
   ]
  },
  {
   "cell_type": "markdown",
   "id": "e829736d",
   "metadata": {},
   "source": [
    "Check the number of rows where `ET_PupilRight` is -1."
   ]
  },
  {
   "cell_type": "code",
   "execution_count": null,
   "id": "2b58e0ba",
   "metadata": {},
   "outputs": [],
   "source": [
    "df_17_EYE[df_17_EYE['ET_PupilRight'] == -1].shape"
   ]
  },
  {
   "cell_type": "markdown",
   "id": "545794f2",
   "metadata": {},
   "source": [
    "Calculate the ratio of rows with -1 values in the `ET_PupilLeft` column to the total number of rows."
   ]
  },
  {
   "cell_type": "code",
   "execution_count": null,
   "id": "e361f829",
   "metadata": {},
   "outputs": [],
   "source": [
    "df_17_EYE[df_17_EYE['ET_PupilLeft'] == -1].shape[0] / df_17_EYE.shape[0]"
   ]
  },
  {
   "cell_type": "markdown",
   "id": "711a9939",
   "metadata": {},
   "source": [
    "Calculate the ratio of rows with -1 values in the `ET_PupilRight` column to the total number of rows."
   ]
  },
  {
   "cell_type": "code",
   "execution_count": null,
   "id": "71d41537",
   "metadata": {},
   "outputs": [],
   "source": [
    "df_17_EYE[df_17_EYE['ET_PupilRight'] == -1].shape[0] / df_17_EYE.shape[0]"
   ]
  },
  {
   "cell_type": "markdown",
   "id": "ab8eda2c",
   "metadata": {},
   "source": [
    "Visualize the distribution of -1 values specifically for rows where validity is 1 (invalid data)."
   ]
  },
  {
   "cell_type": "code",
   "execution_count": null,
   "id": "030354b4",
   "metadata": {},
   "outputs": [],
   "source": [
    "plt.figure(figsize=(18, 8))\n",
    "\n",
    "plt.subplot(1, 2, 1)\n",
    "sns.heatmap(df_17_EYE[df_17_EYE['ET_ValidityLeft'] == 1] == -1, cmap='viridis')\n",
    "plt.title('Heatmap of -1 Values')\n",
    "\n",
    "plt.subplot(1, 2, 2)\n",
    "sns.heatmap(df_17_EYE[df_17_EYE['ET_ValidityRight'] == 1] == -1, cmap='viridis')\n",
    "plt.title('Heatmap of -1 Values')\n",
    "\n",
    "plt.tight_layout()\n",
    "plt.show()"
   ]
  },
  {
   "cell_type": "markdown",
   "id": "8cbf8969",
   "metadata": {},
   "source": [
    "# Notes & Observations\n",
    "\n",
    "- The heatmaps reveal the distribution of -1 values across different columns.\n",
    "- It is evident that the `-1` values are not randomly scattered but appear in specific columns, notably `ET_GazeLeftx`, `ET_GazeLefty`, `ET_GazeRightx`, `ET_GazeRighty`, `ET_PupilLeft`, `ET_PupilRight`, `ET_DistanceLeft`, `ET_DistanceRight`, `ET_CameraLeftX`, `ET_CameraLeftY`, `ET_CameraRightX`, and `ET_CameraRightY`.\n",
    "- These `-1` values often coincide with instances where `ET_ValidityLeft` or `ET_ValidityRight` is 1, indicating invalid eye-tracking data. This suggests that `-1` is used as a placeholder for missing or invalid measurements in these columns when the eye tracker is not providing valid data for a particular eye.\n",
    "- Given that over 70% of the data in the `ET_PupilLeft` and `ET_PupilRight` columns is marked as invalid (-1), these columns may not be suitable for analysis and could be considered for dropping."
   ]
  },
  {
   "cell_type": "markdown",
   "id": "5990d683",
   "metadata": {},
   "source": [
    "Drop the `ET_PupilLeft` and `ET_PupilRight` columns due to the high percentage of invalid data."
   ]
  },
  {
   "cell_type": "code",
   "execution_count": null,
   "id": "5e8b3b87",
   "metadata": {},
   "outputs": [],
   "source": [
    "df_17_EYE.drop(['ET_PupilLeft', 'ET_PupilRight'], axis=1, inplace=True)"
   ]
  },
  {
   "cell_type": "markdown",
   "id": "f13f21f9",
   "metadata": {},
   "source": [
    "Display the first few rows after dropping the pupil columns."
   ]
  },
  {
   "cell_type": "code",
   "execution_count": null,
   "id": "717507a8",
   "metadata": {},
   "outputs": [],
   "source": [
    "df_17_EYE.head()"
   ]
  },
  {
   "cell_type": "markdown",
   "id": "4bba6c49",
   "metadata": {},
   "source": [
    "Visualize the distribution of -1 and 1 values again after dropping the pupil columns."
   ]
  },
  {
   "cell_type": "code",
   "execution_count": null,
   "id": "c98f35d2",
   "metadata": {},
   "outputs": [],
   "source": [
    "plt.figure(figsize=(18, 8))\n",
    "\n",
    "plt.subplot(1, 2, 1)\n",
    "sns.heatmap(df_17_EYE == -1, cmap='viridis')\n",
    "plt.title('Heatmap of -1 Values')\n",
    "\n",
    "plt.subplot(1, 2, 2)\n",
    "sns.heatmap(df_17_EYE == 1, cmap='viridis')\n",
    "plt.title('Heatmap of -1 Values')\n",
    "\n",
    "plt.tight_layout()\n",
    "plt.show()"
   ]
  },
  {
   "cell_type": "markdown",
   "id": "c566fed3",
   "metadata": {},
   "source": [
    "Calculate the ratio of valid data points for the left eye."
   ]
  },
  {
   "cell_type": "code",
   "execution_count": null,
   "id": "884838d1",
   "metadata": {},
   "outputs": [],
   "source": [
    "valid_left_ratio  = 1 - df_17_EYE['ET_ValidityLeft'].mean()"
   ]
  },
  {
   "cell_type": "markdown",
   "id": "1e3735fe",
   "metadata": {},
   "source": [
    "Display the ratio of valid data points for the left eye."
   ]
  },
  {
   "cell_type": "code",
   "execution_count": null,
   "id": "0b32033c",
   "metadata": {},
   "outputs": [],
   "source": [
    "valid_left_ratio"
   ]
  },
  {
   "cell_type": "markdown",
   "id": "a451c718",
   "metadata": {},
   "source": [
    "Calculate the ratio of valid data points for the right eye."
   ]
  },
  {
   "cell_type": "code",
   "execution_count": null,
   "id": "246d9b97",
   "metadata": {},
   "outputs": [],
   "source": [
    "valid_right_ratio = 1 - df_17_EYE['ET_ValidityRight'].mean()"
   ]
  },
  {
   "cell_type": "markdown",
   "id": "e3f4f837",
   "metadata": {},
   "source": [
    "Display the ratio of valid data points for the right eye."
   ]
  },
  {
   "cell_type": "code",
   "execution_count": null,
   "id": "a7bf4d94",
   "metadata": {},
   "outputs": [],
   "source": [
    "valid_right_ratio"
   ]
  },
  {
   "cell_type": "markdown",
   "id": "3858aeab",
   "metadata": {},
   "source": [
    "Display the first few rows of the DataFrame."
   ]
  },
  {
   "cell_type": "code",
   "execution_count": null,
   "id": "72c9665b",
   "metadata": {},
   "outputs": [],
   "source": [
    "df_17_EYE.head()"
   ]
  },
  {
   "cell_type": "markdown",
   "id": "f094700d",
   "metadata": {},
   "source": [
    "Visualize the distributions of numeric columns using histograms with Kernel Density Estimate (KDE) plots. This helps understand the shape and spread of the data in each numeric column."
   ]
  },
  {
   "cell_type": "code",
   "execution_count": null,
   "id": "4f930fb9",
   "metadata": {},
   "outputs": [],
   "source": [
    "# Select only the numeric columns for plotting histograms, excluding time-related columns\n",
    "numeric_cols = df_17_EYE.select_dtypes(include=np.number).columns\n",
    "cols_to_plot = [col for col in numeric_cols if col not in ['UnixTime']]\n",
    "\n",
    "# Calculate the number of rows and columns for the grid\n",
    "n_cols = 4  # You can adjust the number of columns as needed\n",
    "n_rows = (len(cols_to_plot) + n_cols - 1) // n_cols\n",
    "\n",
    "plt.figure(figsize=(n_cols * 5, n_rows * 4)) # Adjust figure size as needed\n",
    "\n",
    "for i, col in enumerate(cols_to_plot):\n",
    "    plt.subplot(n_rows, n_cols, i + 1)\n",
    "    sns.histplot(df_17_EYE[col], kde=True)\n",
    "    plt.title(f'Distribution of {col}')\n",
    "    plt.xlabel(col)\n",
    "    plt.ylabel('Frequency')\n",
    "\n",
    "plt.tight_layout()\n",
    "plt.show()"
   ]
  },
  {
   "cell_type": "markdown",
   "id": "30b8ca7e",
   "metadata": {},
   "source": [
    "List the names of the columns in the DataFrame."
   ]
  },
  {
   "cell_type": "code",
   "execution_count": null,
   "id": "be964ac5",
   "metadata": {},
   "outputs": [],
   "source": [
    "df_17_EYE.columns"
   ]
  },
  {
   "cell_type": "markdown",
   "id": "1fac0180",
   "metadata": {},
   "source": [
    "Define a list of columns to be plotted over time."
   ]
  },
  {
   "cell_type": "code",
   "execution_count": null,
   "id": "a13f2f87",
   "metadata": {},
   "outputs": [],
   "source": [
    "cols = ['ET_GazeLeftx', 'ET_GazeLefty',\n",
    "       'ET_GazeRightx', 'ET_GazeRighty', 'ET_TimeSignal', 'ET_DistanceLeft',\n",
    "       'ET_DistanceRight', 'ET_CameraLeftX', 'ET_CameraLeftY',\n",
    "       'ET_CameraRightX', 'ET_CameraRightY', 'ET_ValidityLeft',\n",
    "       'ET_ValidityRight']"
   ]
  },
  {
   "cell_type": "markdown",
   "id": "3b052ca9",
   "metadata": {},
   "source": [
    "Plot each of the selected columns against the timestamp to visualize their trends and patterns over time. Markdown cells are added before each plot for better readability."
   ]
  },
  {
   "cell_type": "code",
   "execution_count": null,
   "id": "65cc2d8e",
   "metadata": {},
   "outputs": [],
   "source": [
    "from IPython.display import display, Markdown\n",
    "\n",
    "for col in cols:\n",
    "    # Add a markdown cell before each plot for better separation and labeling\n",
    "    display(Markdown(f'### {col} over Time'))\n",
    "    plt.figure(figsize=(16, 10))\n",
    "    plt.plot(df_17_EYE['Timestamp'], df_17_EYE[col])\n",
    "    plt.xlabel(\"Timestamp\") # Add x-axis label\n",
    "    plt.ylabel(col) # Add y-axis label\n",
    "    plt.show()"
   ]
  },
  {
   "cell_type": "markdown",
   "id": "2c7c0ba8",
   "metadata": {},
   "source": [
    "Visualize the distributions of numeric columns using boxplots. This helps identify potential outliers and the spread of the data."
   ]
  },
  {
   "cell_type": "code",
   "execution_count": null,
   "id": "69bb6eee",
   "metadata": {},
   "outputs": [],
   "source": [
    "# Select only the numeric columns for plotting histograms, excluding time-related columns\n",
    "numeric_cols = df_17_EYE.select_dtypes(include=np.number).columns\n",
    "\n",
    "# Calculate the number of rows and columns for the grid\n",
    "n_cols = 4  # You can adjust the number of columns as needed\n",
    "n_rows = (len(numeric_cols) + n_cols - 1) // n_cols\n",
    "\n",
    "plt.figure(figsize=(n_cols * 5, n_rows * 4)) # Adjust figure size as needed\n",
    "\n",
    "for i, col in enumerate(numeric_cols):\n",
    "    plt.subplot(n_rows, n_cols, i + 1)\n",
    "    sns.boxplot(df_17_EYE[col])\n",
    "    plt.title(f'Boxplot of {col}')\n",
    "    plt.xlabel(col)\n",
    "\n",
    "plt.tight_layout()\n",
    "plt.show()"
   ]
  },
  {
   "cell_type": "markdown",
   "id": "51f09429",
   "metadata": {},
   "source": [
    "Replace the placeholder value -1 with NaN (Not a Number) in the DataFrame. This is done before imputation."
   ]
  },
  {
   "cell_type": "code",
   "execution_count": null,
   "id": "97fd59cc",
   "metadata": {},
   "outputs": [],
   "source": [
    "df_17_EYE.replace({-1: np.nan}, inplace=True)"
   ]
  },
  {
   "cell_type": "markdown",
   "id": "bdc70726",
   "metadata": {},
   "source": [
    "Impute the missing values (NaN) in the numeric columns with the mean of each column."
   ]
  },
  {
   "cell_type": "code",
   "execution_count": null,
   "id": "ca0a8ee1",
   "metadata": {},
   "outputs": [],
   "source": [
    "numeric_cols = df_17_EYE.select_dtypes(include=np.number).columns\n",
    "\n",
    "for col in numeric_cols:\n",
    "    df_17_EYE[col].fillna(df_17_EYE[col].mean(), inplace=True)"
   ]
  },
  {
   "cell_type": "markdown",
   "id": "e727783a",
   "metadata": {},
   "source": [
    "Display the first few rows after imputing missing values."
   ]
  },
  {
   "cell_type": "code",
   "execution_count": null,
   "id": "660bd935",
   "metadata": {},
   "outputs": [],
   "source": [
    "df_17_EYE.head()"
   ]
  },
  {
   "cell_type": "markdown",
   "id": "bb2a2a85",
   "metadata": {},
   "source": [
    "Visualize the distributions of numeric columns again using histograms with KDE plots after imputation. This helps assess the impact of imputation on the data distributions."
   ]
  },
  {
   "cell_type": "code",
   "execution_count": null,
   "id": "4f659ea0",
   "metadata": {},
   "outputs": [],
   "source": [
    "# Select only the numeric columns for plotting histograms, excluding time-related columns\n",
    "numeric_cols = df_17_EYE.select_dtypes(include=np.number).columns\n",
    "cols_to_plot = [col for col in numeric_cols if col not in ['UnixTime']]\n",
    "\n",
    "# Calculate the number of rows and columns for the grid\n",
    "n_cols = 4  # You can adjust the number of columns as needed\n",
    "n_rows = (len(cols_to_plot) + n_cols - 1) // n_cols\n",
    "\n",
    "plt.figure(figsize=(n_cols * 5, n_rows * 4)) # Adjust figure size as needed\n",
    "\n",
    "for i, col in enumerate(cols_to_plot):\n",
    "    plt.subplot(n_rows, n_cols, i + 1)\n",
    "    sns.histplot(df_17_EYE[col], kde=True)\n",
    "    plt.title(f'Distribution of {col}')\n",
    "    plt.xlabel(col)\n",
    "    plt.ylabel('Frequency')\n",
    "\n",
    "plt.tight_layout()\n",
    "plt.show()"
   ]
  },
  {
   "cell_type": "code",
   "execution_count": null,
   "id": "70752f14",
   "metadata": {},
   "outputs": [],
   "source": []
  },
  {
   "cell_type": "markdown",
   "id": "aa1acbba",
   "metadata": {},
   "source": [
    "## Student 18"
   ]
  },
  {
   "cell_type": "code",
   "execution_count": null,
   "id": "c22dcaad",
   "metadata": {},
   "outputs": [],
   "source": [
    "%load_ext cudf"
   ]
  },
  {
   "cell_type": "code",
   "execution_count": null,
   "id": "542448ab",
   "metadata": {},
   "outputs": [],
   "source": [
    "import numpy as np\n",
    "import pandas as pd\n",
    "import matplotlib.pyplot as plt\n",
    "import seaborn as sns"
   ]
  },
  {
   "cell_type": "code",
   "execution_count": null,
   "id": "39322032",
   "metadata": {},
   "outputs": [],
   "source": [
    "import datashader as ds\n",
    "import datashader.transfer_functions as tf"
   ]
  },
  {
   "cell_type": "code",
   "execution_count": null,
   "id": "5701d13b",
   "metadata": {},
   "outputs": [],
   "source": [
    "pd.set_option('display.max_columns', None)"
   ]
  },
  {
   "cell_type": "code",
   "execution_count": null,
   "id": "2faac4b9",
   "metadata": {},
   "outputs": [],
   "source": [
    "df_18_EYE = pd.read_csv('data/STData/18/18_EYE.csv')"
   ]
  },
  {
   "cell_type": "code",
   "execution_count": null,
   "id": "eeb5b3f1",
   "metadata": {},
   "outputs": [],
   "source": [
    "df_18_EYE.head()"
   ]
  },
  {
   "cell_type": "code",
   "execution_count": null,
   "id": "67649390",
   "metadata": {},
   "outputs": [],
   "source": [
    "df_18_EYE.shape"
   ]
  },
  {
   "cell_type": "code",
   "execution_count": null,
   "id": "67c8ce51",
   "metadata": {},
   "outputs": [],
   "source": [
    "df_18_EYE.columns"
   ]
  },
  {
   "cell_type": "code",
   "execution_count": null,
   "id": "46b0f221",
   "metadata": {},
   "outputs": [],
   "source": [
    "df_18_EYE.info()"
   ]
  },
  {
   "cell_type": "code",
   "execution_count": null,
   "id": "5ce53da8",
   "metadata": {},
   "outputs": [],
   "source": [
    "df_18_EYE.isnull().sum()"
   ]
  },
  {
   "cell_type": "code",
   "execution_count": null,
   "id": "0a977ab0",
   "metadata": {},
   "outputs": [],
   "source": [
    "plt.figure(figsize=(12,8))\n",
    "sns.heatmap(df_18_EYE.isnull(), cmap='viridis')\n",
    "plt.show()"
   ]
  },
  {
   "cell_type": "markdown",
   "id": "8ce0264d",
   "metadata": {},
   "source": [
    "# Notes & Observations\n",
    "\n",
    "- We observe many **null** (or missing) values in the `QuestionKey` columns.  \n",
    "- The nulls in the `QuestionKey` column may not represent “true” nulls. Rather, they follow interval patterns, suggesting that during those periods no question was displayed.  \n",
    "- These missing values in `QuestionKey` require additional investigation and context-aware handling.  "
   ]
  },
  {
   "cell_type": "code",
   "execution_count": null,
   "id": "7c7ed318",
   "metadata": {},
   "outputs": [],
   "source": [
    "df_18_EYE['QuestionKey'].unique()"
   ]
  },
  {
   "cell_type": "code",
   "execution_count": null,
   "id": "0312e21a",
   "metadata": {},
   "outputs": [],
   "source": [
    "df_18_EYE['Timestamp'] = pd.to_datetime(df_18_EYE['Timestamp'])"
   ]
  },
  {
   "cell_type": "code",
   "execution_count": null,
   "id": "cd707829",
   "metadata": {},
   "outputs": [],
   "source": [
    "df_18_EYE.head(3)"
   ]
  },
  {
   "cell_type": "code",
   "execution_count": null,
   "id": "82500ec0",
   "metadata": {},
   "outputs": [],
   "source": [
    "df_18_EYE['QuestionKey'].fillna('None', inplace=True)"
   ]
  },
  {
   "cell_type": "code",
   "execution_count": null,
   "id": "061db75b",
   "metadata": {},
   "outputs": [],
   "source": [
    "df_18_EYE['QuestionKey'].value_counts()"
   ]
  },
  {
   "cell_type": "code",
   "execution_count": null,
   "id": "0e2b3340",
   "metadata": {},
   "outputs": [],
   "source": [
    "plt.figure(figsize=(12,8))\n",
    "sns.heatmap(df_18_EYE.isnull(), cmap='viridis')\n",
    "plt.show()"
   ]
  },
  {
   "cell_type": "code",
   "execution_count": null,
   "id": "e8ba1f7a",
   "metadata": {},
   "outputs": [],
   "source": [
    "df_18_EYE.isnull().sum()"
   ]
  },
  {
   "cell_type": "code",
   "execution_count": null,
   "id": "84694f4f",
   "metadata": {},
   "outputs": [],
   "source": [
    "df_18_EYE.dropna(inplace=True)"
   ]
  },
  {
   "cell_type": "code",
   "execution_count": null,
   "id": "3c54dbcf",
   "metadata": {},
   "outputs": [],
   "source": [
    "df_18_EYE.head()"
   ]
  },
  {
   "cell_type": "code",
   "execution_count": null,
   "id": "684b3647",
   "metadata": {},
   "outputs": [],
   "source": [
    "df_18_EYE['Row'].unique()"
   ]
  },
  {
   "cell_type": "code",
   "execution_count": null,
   "id": "4c69b265",
   "metadata": {},
   "outputs": [],
   "source": [
    "plt.figure(figsize=(8,6))\n",
    "sns.histplot(df_18_EYE['Row'])\n",
    "plt.show()"
   ]
  },
  {
   "cell_type": "markdown",
   "id": "3a0287c9",
   "metadata": {},
   "source": [
    "# Notes & Observations\n",
    "\n",
    "- The `Row` column appears to be a simple row index and does not provide meaningful information relevant to the eye-tracking data itself. Therefore, it can be dropped."
   ]
  },
  {
   "cell_type": "code",
   "execution_count": null,
   "id": "ceb7eae0",
   "metadata": {},
   "outputs": [],
   "source": [
    "df_18_EYE.drop('Row', axis=1, inplace=True)"
   ]
  },
  {
   "cell_type": "code",
   "execution_count": null,
   "id": "11655c76",
   "metadata": {},
   "outputs": [],
   "source": [
    "df_18_EYE['ET_ValidityLeft'].unique()"
   ]
  },
  {
   "cell_type": "code",
   "execution_count": null,
   "id": "a522de71",
   "metadata": {},
   "outputs": [],
   "source": [
    "df_18_EYE['ET_ValidityLeft'].value_counts()"
   ]
  },
  {
   "cell_type": "code",
   "execution_count": null,
   "id": "7276370e",
   "metadata": {},
   "outputs": [],
   "source": [
    "df_18_EYE['ET_ValidityRight'].unique()"
   ]
  },
  {
   "cell_type": "code",
   "execution_count": null,
   "id": "c7996405",
   "metadata": {},
   "outputs": [],
   "source": [
    "df_18_EYE['ET_ValidityRight'].value_counts()"
   ]
  },
  {
   "cell_type": "code",
   "execution_count": null,
   "id": "bcb09f3c",
   "metadata": {},
   "outputs": [],
   "source": [
    "plt.figure(figsize=(12, 6))\n",
    "\n",
    "plt.subplot(1, 2, 1)\n",
    "sns.barplot(x=df_18_EYE['ET_ValidityLeft'].value_counts().index, y=df_18_EYE['ET_ValidityLeft'].value_counts().values)\n",
    "plt.title('Count of ET_ValidityLeft')\n",
    "plt.xlabel('Validity')\n",
    "plt.ylabel('Count')\n",
    "\n",
    "\n",
    "plt.subplot(1, 2, 2)\n",
    "sns.barplot(x=df_18_EYE['ET_ValidityRight'].value_counts().index, y=df_18_EYE['ET_ValidityRight'].value_counts().values)\n",
    "plt.title('Count of ET_ValidityRight')\n",
    "plt.xlabel('Validity')\n",
    "plt.ylabel('Count')\n",
    "\n",
    "plt.tight_layout()\n",
    "plt.show()"
   ]
  },
  {
   "cell_type": "markdown",
   "id": "8e346b41",
   "metadata": {},
   "source": [
    "# Notes & Observations\n",
    "\n",
    "- The `ET_ValidityLeft` and `ET_ValidityRight` columns indicate the validity of the eye-tracking data for the left and right eye, respectively.\n",
    "- Based on the value counts and the bar plots, it appears that a value of `0.0` represents valid eye-tracking data, while a value of `4.0` represents invalid data.\n",
    "- Although the amount of invalid data is relatively small, removing these rows could introduce unwanted patterns or gaps in the time series data.\n",
    "- Therefore, we will keep the data and replace the value `4.0` with `1.0` in both `ET_ValidityLeft` and `ET_ValidityRight` columns. This will indicate to a machine learning model that the eye tracker had invalid data at those specific points in time while maintaining the integrity of the time series."
   ]
  },
  {
   "cell_type": "code",
   "execution_count": null,
   "id": "74a7cc8e",
   "metadata": {},
   "outputs": [],
   "source": [
    "validity_map = {4.0: 1.0, 0.0: 0.0}"
   ]
  },
  {
   "cell_type": "code",
   "execution_count": null,
   "id": "c7f6a3cc",
   "metadata": {},
   "outputs": [],
   "source": [
    "df_18_EYE['ET_ValidityLeft'] = df_18_EYE['ET_ValidityLeft'].map(validity_map).astype(np.int8)\n",
    "df_18_EYE['ET_ValidityRight'] = df_18_EYE['ET_ValidityRight'].map(validity_map).astype(np.int8)"
   ]
  },
  {
   "cell_type": "code",
   "execution_count": null,
   "id": "de17ba91",
   "metadata": {},
   "outputs": [],
   "source": [
    "df_18_EYE.head(3)"
   ]
  },
  {
   "cell_type": "code",
   "execution_count": null,
   "id": "f84d0fd7",
   "metadata": {},
   "outputs": [],
   "source": [
    "df_18_EYE.describe()"
   ]
  },
  {
   "cell_type": "code",
   "execution_count": null,
   "id": "69d4ae3e",
   "metadata": {},
   "outputs": [],
   "source": [
    "df_18_EYE[df_18_EYE['ET_ValidityLeft'] == 1].shape"
   ]
  },
  {
   "cell_type": "code",
   "execution_count": null,
   "id": "d216f070",
   "metadata": {},
   "outputs": [],
   "source": [
    "df_18_EYE[df_18_EYE['ET_ValidityRight'] == 1].shape"
   ]
  },
  {
   "cell_type": "code",
   "execution_count": null,
   "id": "34163458",
   "metadata": {},
   "outputs": [],
   "source": [
    "plt.figure(figsize=(18, 8))\n",
    "\n",
    "plt.subplot(1, 2, 1)\n",
    "sns.heatmap(df_18_EYE == -1, cmap='viridis')\n",
    "plt.title('Heatmap of -1 Values')\n",
    "\n",
    "plt.subplot(1, 2, 2)\n",
    "sns.heatmap(df_18_EYE == 1, cmap='viridis')\n",
    "plt.title('Heatmap of 1 Values')\n",
    "\n",
    "plt.tight_layout()\n",
    "plt.show()"
   ]
  },
  {
   "cell_type": "code",
   "execution_count": null,
   "id": "cd839df3",
   "metadata": {},
   "outputs": [],
   "source": [
    "df_18_EYE[df_18_EYE['ET_PupilLeft'] == -1].shape"
   ]
  },
  {
   "cell_type": "code",
   "execution_count": null,
   "id": "7ae6f70d",
   "metadata": {},
   "outputs": [],
   "source": [
    "df_18_EYE[df_18_EYE['ET_PupilRight'] == -1].shape"
   ]
  },
  {
   "cell_type": "code",
   "execution_count": null,
   "id": "ac0b0971",
   "metadata": {},
   "outputs": [],
   "source": [
    "df_18_EYE[df_18_EYE['ET_PupilLeft'] == -1].shape[0] / df_18_EYE.shape[0]"
   ]
  },
  {
   "cell_type": "code",
   "execution_count": null,
   "id": "5a2eddf0",
   "metadata": {},
   "outputs": [],
   "source": [
    "df_18_EYE[df_18_EYE['ET_PupilRight'] == -1].shape[0] / df_18_EYE.shape[0]"
   ]
  },
  {
   "cell_type": "code",
   "execution_count": null,
   "id": "2eb5a1fe",
   "metadata": {},
   "outputs": [],
   "source": [
    "plt.figure(figsize=(18, 8))\n",
    "\n",
    "plt.subplot(1, 2, 1)\n",
    "sns.heatmap(df_18_EYE[df_18_EYE['ET_ValidityLeft'] == 1] == -1, cmap='viridis')\n",
    "plt.title('Heatmap of -1 Values')\n",
    "\n",
    "plt.subplot(1, 2, 2)\n",
    "sns.heatmap(df_18_EYE[df_18_EYE['ET_ValidityRight'] == 1] == -1, cmap='viridis')\n",
    "plt.title('Heatmap of -1 Values')\n",
    "\n",
    "plt.tight_layout()\n",
    "plt.show()"
   ]
  },
  {
   "cell_type": "markdown",
   "id": "4a105c27",
   "metadata": {},
   "source": [
    "# Notes & Observations\n",
    "\n",
    "- The heatmaps reveal the distribution of -1 values across different columns.\n",
    "- It is evident that the `-1` values are not randomly scattered but appear in specific columns, notably `ET_GazeLeftx`, `ET_GazeLefty`, `ET_GazeRightx`, `ET_GazeRighty`, `ET_PupilLeft`, `ET_PupilRight`, `ET_DistanceLeft`, `ET_DistanceRight`, `ET_CameraLeftX`, `ET_CameraLeftY`, `ET_CameraRightX`, and `ET_CameraRightY`.\n",
    "- These `-1` values often coincide with instances where `ET_ValidityLeft` or `ET_ValidityRight` is 1, indicating invalid eye-tracking data. This suggests that `-1` is used as a placeholder for missing or invalid measurements in these columns when the eye tracker is not providing valid data for a particular eye.\n",
    "- Given that over 70% of the data in the `ET_PupilLeft` and `ET_PupilRight` columns is marked as invalid (-1), these columns may not be suitable for analysis and could be considered for dropping."
   ]
  },
  {
   "cell_type": "code",
   "execution_count": null,
   "id": "17e81dcb",
   "metadata": {},
   "outputs": [],
   "source": [
    "df_18_EYE.drop(['ET_PupilLeft', 'ET_PupilRight'], axis=1, inplace=True)"
   ]
  },
  {
   "cell_type": "code",
   "execution_count": null,
   "id": "c377551c",
   "metadata": {},
   "outputs": [],
   "source": [
    "df_18_EYE.head()"
   ]
  },
  {
   "cell_type": "code",
   "execution_count": null,
   "id": "e077624a",
   "metadata": {},
   "outputs": [],
   "source": [
    "plt.figure(figsize=(18, 8))\n",
    "\n",
    "plt.subplot(1, 2, 1)\n",
    "sns.heatmap(df_18_EYE == -1, cmap='viridis')\n",
    "plt.title('Heatmap of -1 Values')\n",
    "\n",
    "plt.subplot(1, 2, 2)\n",
    "sns.heatmap(df_18_EYE == 1, cmap='viridis')\n",
    "plt.title('Heatmap of -1 Values')\n",
    "\n",
    "plt.tight_layout()\n",
    "plt.show()"
   ]
  },
  {
   "cell_type": "code",
   "execution_count": null,
   "id": "fe96f05b",
   "metadata": {},
   "outputs": [],
   "source": [
    "valid_left_ratio  = 1 - df_18_EYE['ET_ValidityLeft'].mean()\n",
    "valid_right_ratio = 1 - df_18_EYE['ET_ValidityRight'].mean()"
   ]
  },
  {
   "cell_type": "code",
   "execution_count": null,
   "id": "4181570e",
   "metadata": {},
   "outputs": [],
   "source": [
    "valid_left_ratio"
   ]
  },
  {
   "cell_type": "code",
   "execution_count": null,
   "id": "d4f68a2c",
   "metadata": {},
   "outputs": [],
   "source": [
    "valid_right_ratio"
   ]
  },
  {
   "cell_type": "code",
   "execution_count": null,
   "id": "b806934f",
   "metadata": {},
   "outputs": [],
   "source": [
    "df_18_EYE.head()"
   ]
  },
  {
   "cell_type": "code",
   "execution_count": null,
   "id": "c70d0622",
   "metadata": {},
   "outputs": [],
   "source": [
    "# Select only the numeric columns for plotting histograms, excluding time-related columns\n",
    "numeric_cols = df_18_EYE.select_dtypes(include=np.number).columns\n",
    "cols_to_plot = [col for col in numeric_cols if col not in ['UnixTime']]\n",
    "\n",
    "# Calculate the number of rows and columns for the grid\n",
    "n_cols = 4  # You can adjust the number of columns as needed\n",
    "n_rows = (len(cols_to_plot) + n_cols - 1) // n_cols\n",
    "\n",
    "plt.figure(figsize=(n_cols * 5, n_rows * 4)) # Adjust figure size as needed\n",
    "\n",
    "for i, col in enumerate(cols_to_plot):\n",
    "    plt.subplot(n_rows, n_cols, i + 1)\n",
    "    sns.histplot(df_18_EYE[col], kde=True)\n",
    "    plt.title(f'Distribution of {col}')\n",
    "    plt.xlabel(col)\n",
    "    plt.ylabel('Frequency')\n",
    "\n",
    "plt.tight_layout()\n",
    "plt.show()"
   ]
  },
  {
   "cell_type": "code",
   "execution_count": null,
   "id": "dc54373b",
   "metadata": {},
   "outputs": [],
   "source": [
    "df_18_EYE.columns"
   ]
  },
  {
   "cell_type": "code",
   "execution_count": null,
   "id": "122ad868",
   "metadata": {},
   "outputs": [],
   "source": [
    "cols = ['ET_GazeLeftx', 'ET_GazeLefty',\n",
    "       'ET_GazeRightx', 'ET_GazeRighty', 'ET_TimeSignal', 'ET_DistanceLeft',\n",
    "       'ET_DistanceRight', 'ET_CameraLeftX', 'ET_CameraLeftY',\n",
    "       'ET_CameraRightX', 'ET_CameraRightY', 'ET_ValidityLeft',\n",
    "       'ET_ValidityRight']"
   ]
  },
  {
   "cell_type": "code",
   "execution_count": null,
   "id": "61a833d5",
   "metadata": {},
   "outputs": [],
   "source": [
    "from IPython.display import display, Markdown\n",
    "\n",
    "for col in cols:\n",
    "    # Add a markdown cell before each plot for better separation and labeling\n",
    "    display(Markdown(f'### {col} over Time'))\n",
    "    plt.figure(figsize=(16, 10))\n",
    "    plt.plot(df_18_EYE['Timestamp'], df_18_EYE[col])\n",
    "    plt.xlabel(\"Timestamp\") # Add x-axis label\n",
    "    plt.ylabel(col) # Add y-axis label\n",
    "    plt.show()"
   ]
  },
  {
   "cell_type": "code",
   "execution_count": null,
   "id": "f1942cc7",
   "metadata": {},
   "outputs": [],
   "source": [
    "# Select only the numeric columns for plotting histograms, excluding time-related columns\n",
    "numeric_cols = df_18_EYE.select_dtypes(include=np.number).columns\n",
    "\n",
    "# Calculate the number of rows and columns for the grid\n",
    "n_cols = 4  # You can adjust the number of columns as needed\n",
    "n_rows = (len(numeric_cols) + n_cols - 1) // n_cols\n",
    "\n",
    "plt.figure(figsize=(n_cols * 5, n_rows * 4)) # Adjust figure size as needed\n",
    "\n",
    "for i, col in enumerate(numeric_cols):\n",
    "    plt.subplot(n_rows, n_cols, i + 1)\n",
    "    sns.boxplot(df_18_EYE[col])\n",
    "    plt.title(f'Boxplot of {col}')\n",
    "    plt.xlabel(col)\n",
    "\n",
    "plt.tight_layout()\n",
    "plt.show()"
   ]
  },
  {
   "cell_type": "code",
   "execution_count": null,
   "id": "d8d638e7",
   "metadata": {},
   "outputs": [],
   "source": [
    "df_18_EYE.replace({-1: np.nan}, inplace=True)"
   ]
  },
  {
   "cell_type": "code",
   "execution_count": null,
   "id": "c0d4ae6a",
   "metadata": {},
   "outputs": [],
   "source": [
    "numeric_cols = df_18_EYE.select_dtypes(include=np.number).columns\n",
    "\n",
    "for col in numeric_cols:\n",
    "    df_18_EYE[col].fillna(df_18_EYE[col].mean(), inplace=True)"
   ]
  },
  {
   "cell_type": "code",
   "execution_count": null,
   "id": "e8652565",
   "metadata": {},
   "outputs": [],
   "source": [
    "df_18_EYE.head()"
   ]
  },
  {
   "cell_type": "code",
   "execution_count": null,
   "id": "c09dfdbc",
   "metadata": {},
   "outputs": [],
   "source": [
    "# Select only the numeric columns for plotting histograms, excluding time-related columns\n",
    "numeric_cols = df_18_EYE.select_dtypes(include=np.number).columns\n",
    "cols_to_plot = [col for col in numeric_cols if col not in ['UnixTime']]\n",
    "\n",
    "# Calculate the number of rows and columns for the grid\n",
    "n_cols = 4  # You can adjust the number of columns as needed\n",
    "n_rows = (len(cols_to_plot) + n_cols - 1) // n_cols\n",
    "\n",
    "plt.figure(figsize=(n_cols * 5, n_rows * 4)) # Adjust figure size as needed\n",
    "\n",
    "for i, col in enumerate(cols_to_plot):\n",
    "    plt.subplot(n_rows, n_cols, i + 1)\n",
    "    sns.histplot(df_18_EYE[col], kde=True)\n",
    "    plt.title(f'Distribution of {col}')\n",
    "    plt.xlabel(col)\n",
    "    plt.ylabel('Frequency')\n",
    "\n",
    "plt.tight_layout()\n",
    "plt.show()"
   ]
  },
  {
   "cell_type": "code",
   "execution_count": null,
   "id": "e9f5220f",
   "metadata": {},
   "outputs": [],
   "source": []
  },
  {
   "cell_type": "code",
   "execution_count": null,
   "id": "5dc69317",
   "metadata": {},
   "outputs": [],
   "source": []
  },
  {
   "cell_type": "code",
   "execution_count": null,
   "id": "f9c12ed0",
   "metadata": {},
   "outputs": [],
   "source": []
  },
  {
   "cell_type": "code",
   "execution_count": null,
   "id": "afa7b800",
   "metadata": {},
   "outputs": [],
   "source": []
  },
  {
   "cell_type": "code",
   "execution_count": null,
   "id": "1c09b3ef",
   "metadata": {},
   "outputs": [],
   "source": []
  },
  {
   "cell_type": "code",
   "execution_count": null,
   "id": "68710fcd",
   "metadata": {},
   "outputs": [],
   "source": []
  },
  {
   "cell_type": "code",
   "execution_count": null,
   "id": "1f6a73b1",
   "metadata": {},
   "outputs": [],
   "source": []
  },
  {
   "cell_type": "code",
   "execution_count": null,
   "id": "ccf0e355",
   "metadata": {},
   "outputs": [],
   "source": []
  },
  {
   "cell_type": "code",
   "execution_count": null,
   "id": "6e921e92",
   "metadata": {},
   "outputs": [],
   "source": []
  },
  {
   "cell_type": "code",
   "execution_count": null,
   "id": "b1d6f436",
   "metadata": {},
   "outputs": [],
   "source": []
  },
  {
   "cell_type": "code",
   "execution_count": null,
   "id": "13f80a7b",
   "metadata": {},
   "outputs": [],
   "source": []
  },
  {
   "cell_type": "code",
   "execution_count": null,
   "id": "aee72b87",
   "metadata": {},
   "outputs": [],
   "source": []
  },
  {
   "cell_type": "markdown",
   "id": "70709137",
   "metadata": {},
   "source": [
    "# Eye Tracking Data Analysis\n",
    "\n",
    "This notebook performs exploratory data analysis and cleaning on eye-tracking data.\n",
    "\n",
    "## Data Loading and Initial Inspection"
   ]
  },
  {
   "cell_type": "code",
   "execution_count": null,
   "id": "8d19ef5c",
   "metadata": {},
   "outputs": [],
   "source": [
    "%load_ext cudf"
   ]
  },
  {
   "cell_type": "markdown",
   "id": "257c9be3",
   "metadata": {},
   "source": [
    "Import necessary libraries for data manipulation, analysis, and visualization."
   ]
  },
  {
   "cell_type": "code",
   "execution_count": null,
   "id": "fc8d61b0",
   "metadata": {},
   "outputs": [],
   "source": [
    "import numpy as np\n",
    "import pandas as pd\n",
    "import matplotlib.pyplot as plt\n",
    "import seaborn as sns"
   ]
  },
  {
   "cell_type": "markdown",
   "id": "4da42466",
   "metadata": {},
   "source": [
    "Import libraries for datashader, which can be used for visualizing large datasets."
   ]
  },
  {
   "cell_type": "code",
   "execution_count": null,
   "id": "24eba1c2",
   "metadata": {},
   "outputs": [],
   "source": [
    "import datashader as ds\n",
    "import datashader.transfer_functions as tf"
   ]
  },
  {
   "cell_type": "markdown",
   "id": "6164b8d7",
   "metadata": {},
   "source": [
    "Set pandas display options to show all columns."
   ]
  },
  {
   "cell_type": "code",
   "execution_count": null,
   "id": "e2da98b5",
   "metadata": {},
   "outputs": [],
   "source": [
    "pd.set_option('display.max_columns', None)"
   ]
  },
  {
   "cell_type": "markdown",
   "id": "3abb1186",
   "metadata": {},
   "source": [
    "Load the eye-tracking data from the specified CSV file into a pandas DataFrame."
   ]
  },
  {
   "cell_type": "code",
   "execution_count": null,
   "id": "2df8494d",
   "metadata": {},
   "outputs": [],
   "source": [
    "df_18_EYE = pd.read_csv('data/STData/18/18_EYE.csv')"
   ]
  },
  {
   "cell_type": "markdown",
   "id": "41d17617",
   "metadata": {},
   "source": [
    "Display the first few rows of the DataFrame to get an initial look at the data structure and content."
   ]
  },
  {
   "cell_type": "code",
   "execution_count": null,
   "id": "4d09e755",
   "metadata": {},
   "outputs": [],
   "source": [
    "df_18_EYE.head()"
   ]
  },
  {
   "cell_type": "markdown",
   "id": "020d3a0f",
   "metadata": {},
   "source": [
    "Check the dimensions (number of rows and columns) of the DataFrame."
   ]
  },
  {
   "cell_type": "code",
   "execution_count": null,
   "id": "12220a36",
   "metadata": {},
   "outputs": [],
   "source": [
    "df_18_EYE.shape"
   ]
  },
  {
   "cell_type": "markdown",
   "id": "214aa868",
   "metadata": {},
   "source": [
    "List the names of all columns in the DataFrame."
   ]
  },
  {
   "cell_type": "code",
   "execution_count": null,
   "id": "c9959caf",
   "metadata": {},
   "outputs": [],
   "source": [
    "df_18_EYE.columns"
   ]
  },
  {
   "cell_type": "markdown",
   "id": "72dbfb8f",
   "metadata": {},
   "source": [
    "Display concise information about the DataFrame, including the data types of each column and the number of non-null values. This helps identify columns with missing data."
   ]
  },
  {
   "cell_type": "code",
   "execution_count": null,
   "id": "133e6861",
   "metadata": {},
   "outputs": [],
   "source": [
    "df_18_EYE.info()"
   ]
  },
  {
   "cell_type": "markdown",
   "id": "2729890e",
   "metadata": {},
   "source": [
    "Calculate and display the number of missing values in each column."
   ]
  },
  {
   "cell_type": "code",
   "execution_count": null,
   "id": "aac81388",
   "metadata": {},
   "outputs": [],
   "source": [
    "df_18_EYE.isnull().sum()"
   ]
  },
  {
   "cell_type": "markdown",
   "id": "e07c5316",
   "metadata": {},
   "source": [
    "Visualize the distribution of missing values using a heatmap. This provides a visual representation of which columns have missing data and the extent of missingness."
   ]
  },
  {
   "cell_type": "code",
   "execution_count": null,
   "id": "06ba6494",
   "metadata": {},
   "outputs": [],
   "source": [
    "plt.figure(figsize=(12,8))\n",
    "sns.heatmap(df_18_EYE.isnull(), cmap='viridis')\n",
    "plt.show()"
   ]
  },
  {
   "cell_type": "markdown",
   "id": "be6583d9",
   "metadata": {},
   "source": [
    "# Notes & Observations\n",
    "\n",
    "- We observe many **null** (or missing) values in the `QuestionKey` columns.\n",
    "- The nulls in the `QuestionKey` column may not represent “true” nulls. Rather, they follow interval patterns, suggesting that during those periods no question was displayed.\n",
    "- These missing values in `QuestionKey` require additional investigation and context-aware handling."
   ]
  },
  {
   "cell_type": "markdown",
   "id": "8cbc1645",
   "metadata": {},
   "source": [
    "Display the unique values in the `QuestionKey` column to understand the different types of questions or states recorded."
   ]
  },
  {
   "cell_type": "code",
   "execution_count": null,
   "id": "544f4211",
   "metadata": {},
   "outputs": [],
   "source": [
    "df_18_EYE['QuestionKey'].unique()"
   ]
  },
  {
   "cell_type": "markdown",
   "id": "7c6dc039",
   "metadata": {},
   "source": [
    "Convert the `Timestamp` column to datetime objects. This is crucial for any time series analysis or manipulation."
   ]
  },
  {
   "cell_type": "code",
   "execution_count": null,
   "id": "36e86511",
   "metadata": {},
   "outputs": [],
   "source": [
    "df_18_EYE['Timestamp'] = pd.to_datetime(df_18_EYE['Timestamp'])"
   ]
  },
  {
   "cell_type": "markdown",
   "id": "54fe1d1c",
   "metadata": {},
   "source": [
    "Display the first few rows again to see the effect of the timestamp conversion."
   ]
  },
  {
   "cell_type": "code",
   "execution_count": null,
   "id": "7f0a1595",
   "metadata": {},
   "outputs": [],
   "source": [
    "df_18_EYE.head(3)"
   ]
  },
  {
   "cell_type": "markdown",
   "id": "d155c4e8",
   "metadata": {},
   "source": [
    "Fill the missing values in the `QuestionKey` column with the string 'None'. This helps to explicitly mark periods where no question was active."
   ]
  },
  {
   "cell_type": "code",
   "execution_count": null,
   "id": "7677917b",
   "metadata": {},
   "outputs": [],
   "source": [
    "df_18_EYE['QuestionKey'].fillna('None', inplace=True)"
   ]
  },
  {
   "cell_type": "markdown",
   "id": "b43a00f0",
   "metadata": {},
   "source": [
    "Count the occurrences of each unique value in the `QuestionKey` column after filling missing values."
   ]
  },
  {
   "cell_type": "code",
   "execution_count": null,
   "id": "982da1cd",
   "metadata": {},
   "outputs": [],
   "source": [
    "df_18_EYE['QuestionKey'].value_counts()"
   ]
  },
  {
   "cell_type": "markdown",
   "id": "47973251",
   "metadata": {},
   "source": [
    "Display the heatmap of missing values again to confirm that the missing values in `QuestionKey` have been handled."
   ]
  },
  {
   "cell_type": "code",
   "execution_count": null,
   "id": "0cf1f1b7",
   "metadata": {},
   "outputs": [],
   "source": [
    "plt.figure(figsize=(12,8))\n",
    "sns.heatmap(df_18_EYE.isnull(), cmap='viridis')\n",
    "plt.show()"
   ]
  },
  {
   "cell_type": "markdown",
   "id": "129bb62c",
   "metadata": {},
   "source": [
    "Recalculate and display the number of missing values per column to confirm the changes after handling `QuestionKey`."
   ]
  },
  {
   "cell_type": "code",
   "execution_count": null,
   "id": "e3351770",
   "metadata": {},
   "outputs": [],
   "source": [
    "df_18_EYE.isnull().sum()"
   ]
  },
  {
   "cell_type": "markdown",
   "id": "2c132c50",
   "metadata": {},
   "source": [
    "Drop rows that still contain any missing values. This is done after handling `QuestionKey` separately."
   ]
  },
  {
   "cell_type": "code",
   "execution_count": null,
   "id": "3c64d874",
   "metadata": {},
   "outputs": [],
   "source": [
    "df_18_EYE.dropna(inplace=True)"
   ]
  },
  {
   "cell_type": "markdown",
   "id": "709f8d65",
   "metadata": {},
   "source": [
    "Display the first few rows after dropping rows with missing values."
   ]
  },
  {
   "cell_type": "code",
   "execution_count": null,
   "id": "16643385",
   "metadata": {},
   "outputs": [],
   "source": [
    "df_18_EYE.head()"
   ]
  },
  {
   "cell_type": "markdown",
   "id": "65e29aa0",
   "metadata": {},
   "source": [
    "Display the unique values in the `Row` column."
   ]
  },
  {
   "cell_type": "code",
   "execution_count": null,
   "id": "52659cbd",
   "metadata": {},
   "outputs": [],
   "source": [
    "df_18_EYE['Row'].unique()"
   ]
  },
  {
   "cell_type": "markdown",
   "id": "e369fdb0",
   "metadata": {},
   "source": [
    "Plot a histogram of the `Row` column to visualize its distribution."
   ]
  },
  {
   "cell_type": "code",
   "execution_count": null,
   "id": "12af53e9",
   "metadata": {},
   "outputs": [],
   "source": [
    "plt.figure(figsize=(8,6))\n",
    "sns.histplot(df_18_EYE['Row'])\n",
    "plt.show()"
   ]
  },
  {
   "cell_type": "markdown",
   "id": "71f74322",
   "metadata": {},
   "source": [
    "# Notes & Observations\n",
    "\n",
    "- The `Row` column appears to be a simple row index and does not provide meaningful information relevant to the eye-tracking data itself. Therefore, it can be dropped."
   ]
  },
  {
   "cell_type": "markdown",
   "id": "71a6b59d",
   "metadata": {},
   "source": [
    "Drop the `Row` column as it is not relevant for the analysis."
   ]
  },
  {
   "cell_type": "code",
   "execution_count": null,
   "id": "54945b0d",
   "metadata": {},
   "outputs": [],
   "source": [
    "df_18_EYE.drop('Row', axis=1, inplace=True)"
   ]
  },
  {
   "cell_type": "markdown",
   "id": "323dfea9",
   "metadata": {},
   "source": [
    "Display the unique values in the `ET_ValidityLeft` column."
   ]
  },
  {
   "cell_type": "code",
   "execution_count": null,
   "id": "79555a1a",
   "metadata": {},
   "outputs": [],
   "source": [
    "df_18_EYE['ET_ValidityLeft'].unique()"
   ]
  },
  {
   "cell_type": "markdown",
   "id": "95cdb10d",
   "metadata": {},
   "source": [
    "Count the occurrences of each unique value in the `ET_ValidityLeft` column."
   ]
  },
  {
   "cell_type": "code",
   "execution_count": null,
   "id": "7f4a8c04",
   "metadata": {},
   "outputs": [],
   "source": [
    "df_18_EYE['ET_ValidityLeft'].value_counts()"
   ]
  },
  {
   "cell_type": "markdown",
   "id": "86821ee5",
   "metadata": {},
   "source": [
    "Display the unique values in the `ET_ValidityRight` column."
   ]
  },
  {
   "cell_type": "code",
   "execution_count": null,
   "id": "0f7eee1c",
   "metadata": {},
   "outputs": [],
   "source": [
    "df_18_EYE['ET_ValidityRight'].unique()"
   ]
  },
  {
   "cell_type": "markdown",
   "id": "70bea5e0",
   "metadata": {},
   "source": [
    "Count the occurrences of each unique value in the `ET_ValidityRight` column."
   ]
  },
  {
   "cell_type": "code",
   "execution_count": null,
   "id": "629931f1",
   "metadata": {},
   "outputs": [],
   "source": [
    "df_18_EYE['ET_ValidityRight'].value_counts()"
   ]
  },
  {
   "cell_type": "markdown",
   "id": "6e1e18ea",
   "metadata": {},
   "source": [
    "Visualize the counts of valid and invalid data for both left and right eyes using bar plots."
   ]
  },
  {
   "cell_type": "code",
   "execution_count": null,
   "id": "a41d9a11",
   "metadata": {},
   "outputs": [],
   "source": [
    "plt.figure(figsize=(12, 6))\n",
    "\n",
    "plt.subplot(1, 2, 1)\n",
    "sns.barplot(x=df_18_EYE['ET_ValidityLeft'].value_counts().index, y=df_18_EYE['ET_ValidityLeft'].value_counts().values)\n",
    "plt.title('Count of ET_ValidityLeft')\n",
    "plt.xlabel('Validity')\n",
    "plt.ylabel('Count')\n",
    "\n",
    "\n",
    "plt.subplot(1, 2, 2)\n",
    "sns.barplot(x=df_18_EYE['ET_ValidityRight'].value_counts().index, y=df_18_EYE['ET_ValidityRight'].value_counts().values)\n",
    "plt.title('Count of ET_ValidityRight')\n",
    "plt.xlabel('Validity')\n",
    "plt.ylabel('Count')\n",
    "\n",
    "plt.tight_layout()\n",
    "plt.show()"
   ]
  },
  {
   "cell_type": "markdown",
   "id": "f4ee6e39",
   "metadata": {},
   "source": [
    "# Notes & Observations\n",
    "\n",
    "- The `ET_ValidityLeft` and `ET_ValidityRight` columns indicate the validity of the eye-tracking data for the left and right eye, respectively.\n",
    "- Based on the value counts and the bar plots, it appears that a value of `0.0` represents valid eye-tracking data, while a value of `4.0` represents invalid data.\n",
    "- Although the amount of invalid data is relatively small, removing these rows could introduce unwanted patterns or gaps in the time series data.\n",
    "- Therefore, we will keep the data and replace the value `4.0` with `1.0` in both `ET_ValidityLeft` and `ET_ValidityRight` columns. This will indicate to a machine learning model that the eye tracker had invalid data at those specific points in time while maintaining the integrity of the time series."
   ]
  },
  {
   "cell_type": "markdown",
   "id": "77316015",
   "metadata": {},
   "source": [
    "Define a mapping to convert validity values from `0.0` and `4.0` to `0` and `1`."
   ]
  },
  {
   "cell_type": "code",
   "execution_count": null,
   "id": "e9db510d",
   "metadata": {},
   "outputs": [],
   "source": [
    "validity_map = {4.0: 1.0, 0.0: 0.0}"
   ]
  },
  {
   "cell_type": "markdown",
   "id": "fb81e64a",
   "metadata": {},
   "source": [
    "Apply the mapping to the `ET_ValidityLeft` and `ET_ValidityRight` columns and convert the data type to integer."
   ]
  },
  {
   "cell_type": "code",
   "execution_count": null,
   "id": "4bd3f625",
   "metadata": {},
   "outputs": [],
   "source": [
    "df_18_EYE['ET_ValidityLeft'] = df_18_EYE['ET_ValidityLeft'].map(validity_map).astype(np.int8)\n",
    "df_18_EYE['ET_ValidityRight'] = df_18_EYE['ET_ValidityRight'].map(validity_map).astype(np.int8)"
   ]
  },
  {
   "cell_type": "markdown",
   "id": "cf574e3c",
   "metadata": {},
   "source": [
    "Display the first few rows to see the updated validity columns."
   ]
  },
  {
   "cell_type": "code",
   "execution_count": null,
   "id": "8c946d83",
   "metadata": {},
   "outputs": [],
   "source": [
    "df_18_EYE.head(3)"
   ]
  },
  {
   "cell_type": "markdown",
   "id": "a7de8ae2",
   "metadata": {},
   "source": [
    "Display descriptive statistics for the DataFrame, including count, mean, standard deviation, min, max, and quartiles for numeric columns."
   ]
  },
  {
   "cell_type": "code",
   "execution_count": null,
   "id": "3dbe4bf1",
   "metadata": {},
   "outputs": [],
   "source": [
    "df_18_EYE.describe()"
   ]
  },
  {
   "cell_type": "markdown",
   "id": "5ebe80c9",
   "metadata": {},
   "source": [
    "Check the number of rows where `ET_ValidityLeft` is 1 (invalid data for the left eye)."
   ]
  },
  {
   "cell_type": "code",
   "execution_count": null,
   "id": "42155aea",
   "metadata": {},
   "outputs": [],
   "source": [
    "df_18_EYE[df_18_EYE['ET_ValidityLeft'] == 1].shape"
   ]
  },
  {
   "cell_type": "markdown",
   "id": "f9e794a3",
   "metadata": {},
   "source": [
    "Check the number of rows where `ET_ValidityRight` is 1 (invalid data for the right eye)."
   ]
  },
  {
   "cell_type": "code",
   "execution_count": null,
   "id": "915f7e72",
   "metadata": {},
   "outputs": [],
   "source": [
    "df_18_EYE[df_18_EYE['ET_ValidityRight'] == 1].shape"
   ]
  },
  {
   "cell_type": "markdown",
   "id": "94ce69af",
   "metadata": {},
   "source": [
    "Visualize the distribution of -1 and 1 values across columns using heatmaps. This helps identify columns with placeholder or indicator values."
   ]
  },
  {
   "cell_type": "code",
   "execution_count": null,
   "id": "d3122f43",
   "metadata": {},
   "outputs": [],
   "source": [
    "plt.figure(figsize=(18, 8))\n",
    "\n",
    "plt.subplot(1, 2, 1)\n",
    "sns.heatmap(df_18_EYE == -1, cmap='viridis')\n",
    "plt.title('Heatmap of -1 Values')\n",
    "\n",
    "plt.subplot(1, 2, 2)\n",
    "sns.heatmap(df_18_EYE == 1, cmap='viridis')\n",
    "plt.title('Heatmap of 1 Values')\n",
    "\n",
    "plt.tight_layout()\n",
    "plt.show()"
   ]
  },
  {
   "cell_type": "markdown",
   "id": "2b7b4624",
   "metadata": {},
   "source": [
    "Check the number of rows where `ET_PupilLeft` is -1."
   ]
  },
  {
   "cell_type": "code",
   "execution_count": null,
   "id": "14f30dae",
   "metadata": {},
   "outputs": [],
   "source": [
    "df_18_EYE[df_18_EYE['ET_PupilLeft'] == -1].shape"
   ]
  },
  {
   "cell_type": "markdown",
   "id": "d111a50a",
   "metadata": {},
   "source": [
    "Check the number of rows where `ET_PupilRight` is -1."
   ]
  },
  {
   "cell_type": "code",
   "execution_count": null,
   "id": "1646fd51",
   "metadata": {},
   "outputs": [],
   "source": [
    "df_18_EYE[df_18_EYE['ET_PupilRight'] == -1].shape"
   ]
  },
  {
   "cell_type": "markdown",
   "id": "5c799718",
   "metadata": {},
   "source": [
    "Calculate the ratio of rows with -1 values in the `ET_PupilLeft` column to the total number of rows."
   ]
  },
  {
   "cell_type": "code",
   "execution_count": null,
   "id": "7a46248c",
   "metadata": {},
   "outputs": [],
   "source": [
    "df_18_EYE[df_18_EYE['ET_PupilLeft'] == -1].shape[0] / df_18_EYE.shape[0]"
   ]
  },
  {
   "cell_type": "markdown",
   "id": "407754ba",
   "metadata": {},
   "source": [
    "Calculate the ratio of rows with -1 values in the `ET_PupilRight` column to the total number of rows."
   ]
  },
  {
   "cell_type": "code",
   "execution_count": null,
   "id": "2fe6fe71",
   "metadata": {},
   "outputs": [],
   "source": [
    "df_18_EYE[df_18_EYE['ET_PupilRight'] == -1].shape[0] / df_18_EYE.shape[0]"
   ]
  },
  {
   "cell_type": "markdown",
   "id": "de165ca1",
   "metadata": {},
   "source": [
    "Visualize the distribution of -1 values specifically for rows where validity is 1 (invalid data)."
   ]
  },
  {
   "cell_type": "code",
   "execution_count": null,
   "id": "55f9f523",
   "metadata": {},
   "outputs": [],
   "source": [
    "plt.figure(figsize=(18, 8))\n",
    "\n",
    "plt.subplot(1, 2, 1)\n",
    "sns.heatmap(df_18_EYE[df_18_EYE['ET_ValidityLeft'] == 1] == -1, cmap='viridis')\n",
    "plt.title('Heatmap of -1 Values')\n",
    "\n",
    "plt.subplot(1, 2, 2)\n",
    "sns.heatmap(df_18_EYE[df_18_EYE['ET_ValidityRight'] == 1] == -1, cmap='viridis')\n",
    "plt.title('Heatmap of -1 Values')\n",
    "\n",
    "plt.tight_layout()\n",
    "plt.show()"
   ]
  },
  {
   "cell_type": "markdown",
   "id": "47299648",
   "metadata": {},
   "source": [
    "# Notes & Observations\n",
    "\n",
    "- The heatmaps reveal the distribution of -1 values across different columns.\n",
    "- It is evident that the `-1` values are not randomly scattered but appear in specific columns, notably `ET_GazeLeftx`, `ET_GazeLefty`, `ET_GazeRightx`, `ET_GazeRighty`, `ET_PupilLeft`, `ET_PupilRight`, `ET_DistanceLeft`, `ET_DistanceRight`, `ET_CameraLeftX`, `ET_CameraLeftY`, `ET_CameraRightX`, and `ET_CameraRightY`.\n",
    "- These `-1` values often coincide with instances where `ET_ValidityLeft` or `ET_ValidityRight` is 1, indicating invalid eye-tracking data. This suggests that `-1` is used as a placeholder for missing or invalid measurements in these columns when the eye tracker is not providing valid data for a particular eye.\n",
    "- Given that over 70% of the data in the `ET_PupilLeft` and `ET_PupilRight` columns is marked as invalid (-1), these columns may not be suitable for analysis and could be considered for dropping."
   ]
  },
  {
   "cell_type": "markdown",
   "id": "9933f9c3",
   "metadata": {},
   "source": [
    "Drop the `ET_PupilLeft` and `ET_PupilRight` columns due to the high percentage of invalid data."
   ]
  },
  {
   "cell_type": "code",
   "execution_count": null,
   "id": "d0023eb8",
   "metadata": {},
   "outputs": [],
   "source": [
    "df_18_EYE.drop(['ET_PupilLeft', 'ET_PupilRight'], axis=1, inplace=True)"
   ]
  },
  {
   "cell_type": "markdown",
   "id": "7feeae4c",
   "metadata": {},
   "source": [
    "Display the first few rows after dropping the pupil columns."
   ]
  },
  {
   "cell_type": "code",
   "execution_count": null,
   "id": "7a9cfb6f",
   "metadata": {},
   "outputs": [],
   "source": [
    "df_18_EYE.head()"
   ]
  },
  {
   "cell_type": "markdown",
   "id": "2b604efa",
   "metadata": {},
   "source": [
    "Visualize the distribution of -1 and 1 values again after dropping the pupil columns."
   ]
  },
  {
   "cell_type": "code",
   "execution_count": null,
   "id": "5ef124c3",
   "metadata": {},
   "outputs": [],
   "source": [
    "plt.figure(figsize=(18, 8))\n",
    "\n",
    "plt.subplot(1, 2, 1)\n",
    "sns.heatmap(df_18_EYE == -1, cmap='viridis')\n",
    "plt.title('Heatmap of -1 Values')\n",
    "\n",
    "plt.subplot(1, 2, 2)\n",
    "sns.heatmap(df_18_EYE == 1, cmap='viridis')\n",
    "plt.title('Heatmap of -1 Values')\n",
    "\n",
    "plt.tight_layout()\n",
    "plt.show()"
   ]
  },
  {
   "cell_type": "markdown",
   "id": "63ca3d61",
   "metadata": {},
   "source": [
    "Calculate the ratio of valid data points for the left eye."
   ]
  },
  {
   "cell_type": "code",
   "execution_count": null,
   "id": "dbd17a38",
   "metadata": {},
   "outputs": [],
   "source": [
    "valid_left_ratio  = 1 - df_18_EYE['ET_ValidityLeft'].mean()"
   ]
  },
  {
   "cell_type": "markdown",
   "id": "989e8f6b",
   "metadata": {},
   "source": [
    "Display the ratio of valid data points for the left eye."
   ]
  },
  {
   "cell_type": "code",
   "execution_count": null,
   "id": "d962eb5b",
   "metadata": {},
   "outputs": [],
   "source": [
    "valid_left_ratio"
   ]
  },
  {
   "cell_type": "markdown",
   "id": "8321f1e9",
   "metadata": {},
   "source": [
    "Calculate the ratio of valid data points for the right eye."
   ]
  },
  {
   "cell_type": "code",
   "execution_count": null,
   "id": "4e469b1a",
   "metadata": {},
   "outputs": [],
   "source": [
    "valid_right_ratio = 1 - df_18_EYE['ET_ValidityRight'].mean()"
   ]
  },
  {
   "cell_type": "markdown",
   "id": "8ddb16b0",
   "metadata": {},
   "source": [
    "Display the ratio of valid data points for the right eye."
   ]
  },
  {
   "cell_type": "code",
   "execution_count": null,
   "id": "80290142",
   "metadata": {},
   "outputs": [],
   "source": [
    "valid_right_ratio"
   ]
  },
  {
   "cell_type": "markdown",
   "id": "3e4067b1",
   "metadata": {},
   "source": [
    "Display the first few rows of the DataFrame."
   ]
  },
  {
   "cell_type": "code",
   "execution_count": null,
   "id": "b4c2c4e2",
   "metadata": {},
   "outputs": [],
   "source": [
    "df_18_EYE.head()"
   ]
  },
  {
   "cell_type": "markdown",
   "id": "13fae688",
   "metadata": {},
   "source": [
    "Visualize the distributions of numeric columns using histograms with Kernel Density Estimate (KDE) plots. This helps understand the shape and spread of the data in each numeric column."
   ]
  },
  {
   "cell_type": "code",
   "execution_count": null,
   "id": "b9a5781f",
   "metadata": {},
   "outputs": [],
   "source": [
    "# Select only the numeric columns for plotting histograms, excluding time-related columns\n",
    "numeric_cols = df_18_EYE.select_dtypes(include=np.number).columns\n",
    "cols_to_plot = [col for col in numeric_cols if col not in ['UnixTime']]\n",
    "\n",
    "# Calculate the number of rows and columns for the grid\n",
    "n_cols = 4  # You can adjust the number of columns as needed\n",
    "n_rows = (len(cols_to_plot) + n_cols - 1) // n_cols\n",
    "\n",
    "plt.figure(figsize=(n_cols * 5, n_rows * 4)) # Adjust figure size as needed\n",
    "\n",
    "for i, col in enumerate(cols_to_plot):\n",
    "    plt.subplot(n_rows, n_cols, i + 1)\n",
    "    sns.histplot(df_18_EYE[col], kde=True)\n",
    "    plt.title(f'Distribution of {col}')\n",
    "    plt.xlabel(col)\n",
    "    plt.ylabel('Frequency')\n",
    "\n",
    "plt.tight_layout()\n",
    "plt.show()"
   ]
  },
  {
   "cell_type": "markdown",
   "id": "f3650c28",
   "metadata": {},
   "source": [
    "List the names of the columns in the DataFrame."
   ]
  },
  {
   "cell_type": "code",
   "execution_count": null,
   "id": "ed958386",
   "metadata": {},
   "outputs": [],
   "source": [
    "df_18_EYE.columns"
   ]
  },
  {
   "cell_type": "markdown",
   "id": "a670469c",
   "metadata": {},
   "source": [
    "Define a list of columns to be plotted over time."
   ]
  },
  {
   "cell_type": "code",
   "execution_count": null,
   "id": "e2f3d4ee",
   "metadata": {},
   "outputs": [],
   "source": [
    "cols = ['ET_GazeLeftx', 'ET_GazeLefty',\n",
    "       'ET_GazeRightx', 'ET_GazeRighty', 'ET_TimeSignal', 'ET_DistanceLeft',\n",
    "       'ET_DistanceRight', 'ET_CameraLeftX', 'ET_CameraLeftY',\n",
    "       'ET_CameraRightX', 'ET_CameraRightY', 'ET_ValidityLeft',\n",
    "       'ET_ValidityRight']"
   ]
  },
  {
   "cell_type": "markdown",
   "id": "8a24b43c",
   "metadata": {},
   "source": [
    "Plot each of the selected columns against the timestamp to visualize their trends and patterns over time. Markdown cells are added before each plot for better readability."
   ]
  },
  {
   "cell_type": "code",
   "execution_count": null,
   "id": "53079b1d",
   "metadata": {},
   "outputs": [],
   "source": [
    "from IPython.display import display, Markdown\n",
    "\n",
    "for col in cols:\n",
    "    # Add a markdown cell before each plot for better separation and labeling\n",
    "    display(Markdown(f'### {col} over Time'))\n",
    "    plt.figure(figsize=(16, 10))\n",
    "    plt.plot(df_18_EYE['Timestamp'], df_18_EYE[col])\n",
    "    plt.xlabel(\"Timestamp\") # Add x-axis label\n",
    "    plt.ylabel(col) # Add y-axis label\n",
    "    plt.show()"
   ]
  },
  {
   "cell_type": "markdown",
   "id": "eaeb2a2a",
   "metadata": {},
   "source": [
    "Visualize the distributions of numeric columns using boxplots. This helps identify potential outliers and the spread of the data."
   ]
  },
  {
   "cell_type": "code",
   "execution_count": null,
   "id": "e4c903f6",
   "metadata": {},
   "outputs": [],
   "source": [
    "# Select only the numeric columns for plotting histograms, excluding time-related columns\n",
    "numeric_cols = df_18_EYE.select_dtypes(include=np.number).columns\n",
    "\n",
    "# Calculate the number of rows and columns for the grid\n",
    "n_cols = 4  # You can adjust the number of columns as needed\n",
    "n_rows = (len(numeric_cols) + n_cols - 1) // n_cols\n",
    "\n",
    "plt.figure(figsize=(n_cols * 5, n_rows * 4)) # Adjust figure size as needed\n",
    "\n",
    "for i, col in enumerate(numeric_cols):\n",
    "    plt.subplot(n_rows, n_cols, i + 1)\n",
    "    sns.boxplot(df_18_EYE[col])\n",
    "    plt.title(f'Boxplot of {col}')\n",
    "    plt.xlabel(col)\n",
    "\n",
    "plt.tight_layout()\n",
    "plt.show()"
   ]
  },
  {
   "cell_type": "markdown",
   "id": "49a2a55c",
   "metadata": {},
   "source": [
    "Replace the placeholder value -1 with NaN (Not a Number) in the DataFrame. This is done before imputation."
   ]
  },
  {
   "cell_type": "code",
   "execution_count": null,
   "id": "63a04f3d",
   "metadata": {},
   "outputs": [],
   "source": [
    "df_18_EYE.replace({-1: np.nan}, inplace=True)"
   ]
  },
  {
   "cell_type": "markdown",
   "id": "12eb3f95",
   "metadata": {},
   "source": [
    "Impute the missing values (NaN) in the numeric columns with the mean of each column."
   ]
  },
  {
   "cell_type": "code",
   "execution_count": null,
   "id": "032f9f5f",
   "metadata": {},
   "outputs": [],
   "source": [
    "numeric_cols = df_18_EYE.select_dtypes(include=np.number).columns\n",
    "\n",
    "for col in numeric_cols:\n",
    "    df_18_EYE[col].fillna(df_18_EYE[col].mean(), inplace=True)"
   ]
  },
  {
   "cell_type": "markdown",
   "id": "b78da3f4",
   "metadata": {},
   "source": [
    "Display the first few rows after imputing missing values."
   ]
  },
  {
   "cell_type": "code",
   "execution_count": null,
   "id": "4463d716",
   "metadata": {},
   "outputs": [],
   "source": [
    "df_18_EYE.head()"
   ]
  },
  {
   "cell_type": "markdown",
   "id": "3645a85e",
   "metadata": {},
   "source": [
    "Visualize the distributions of numeric columns again using histograms with KDE plots after imputation. This helps assess the impact of imputation on the data distributions."
   ]
  },
  {
   "cell_type": "code",
   "execution_count": null,
   "id": "189f9f9f",
   "metadata": {},
   "outputs": [],
   "source": [
    "# Select only the numeric columns for plotting histograms, excluding time-related columns\n",
    "numeric_cols = df_18_EYE.select_dtypes(include=np.number).columns\n",
    "cols_to_plot = [col for col in numeric_cols if col not in ['UnixTime']]\n",
    "\n",
    "# Calculate the number of rows and columns for the grid\n",
    "n_cols = 4  # You can adjust the number of columns as needed\n",
    "n_rows = (len(cols_to_plot) + n_cols - 1) // n_cols\n",
    "\n",
    "plt.figure(figsize=(n_cols * 5, n_rows * 4)) # Adjust figure size as needed\n",
    "\n",
    "for i, col in enumerate(cols_to_plot):\n",
    "    plt.subplot(n_rows, n_cols, i + 1)\n",
    "    sns.histplot(df_18_EYE[col], kde=True)\n",
    "    plt.title(f'Distribution of {col}')\n",
    "    plt.xlabel(col)\n",
    "    plt.ylabel('Frequency')\n",
    "\n",
    "plt.tight_layout()\n",
    "plt.show()"
   ]
  },
  {
   "cell_type": "code",
   "execution_count": null,
   "id": "50f35508",
   "metadata": {},
   "outputs": [],
   "source": []
  },
  {
   "cell_type": "markdown",
   "id": "8de96774",
   "metadata": {},
   "source": [
    "## Student 19"
   ]
  },
  {
   "cell_type": "code",
   "execution_count": null,
   "id": "bdba1ba5",
   "metadata": {},
   "outputs": [],
   "source": [
    "%load_ext cudf"
   ]
  },
  {
   "cell_type": "code",
   "execution_count": null,
   "id": "e8cc0be0",
   "metadata": {},
   "outputs": [],
   "source": [
    "import numpy as np\n",
    "import pandas as pd\n",
    "import matplotlib.pyplot as plt\n",
    "import seaborn as sns"
   ]
  },
  {
   "cell_type": "code",
   "execution_count": null,
   "id": "20f01328",
   "metadata": {},
   "outputs": [],
   "source": [
    "import datashader as ds\n",
    "import datashader.transfer_functions as tf"
   ]
  },
  {
   "cell_type": "code",
   "execution_count": null,
   "id": "eec67789",
   "metadata": {},
   "outputs": [],
   "source": [
    "pd.set_option('display.max_columns', None)"
   ]
  },
  {
   "cell_type": "code",
   "execution_count": null,
   "id": "b2114342",
   "metadata": {},
   "outputs": [],
   "source": [
    "df_19_EYE = pd.read_csv('data/STData/19/19_EYE.csv')"
   ]
  },
  {
   "cell_type": "code",
   "execution_count": null,
   "id": "fc0c431a",
   "metadata": {},
   "outputs": [],
   "source": [
    "df_19_EYE.head()"
   ]
  },
  {
   "cell_type": "code",
   "execution_count": null,
   "id": "5e416b27",
   "metadata": {},
   "outputs": [],
   "source": [
    "df_19_EYE.shape"
   ]
  },
  {
   "cell_type": "code",
   "execution_count": null,
   "id": "83414eab",
   "metadata": {},
   "outputs": [],
   "source": [
    "df_19_EYE.columns"
   ]
  },
  {
   "cell_type": "code",
   "execution_count": null,
   "id": "f069353a",
   "metadata": {},
   "outputs": [],
   "source": [
    "df_19_EYE.info()"
   ]
  },
  {
   "cell_type": "code",
   "execution_count": null,
   "id": "6a5d0396",
   "metadata": {},
   "outputs": [],
   "source": [
    "df_19_EYE.isnull().sum()"
   ]
  },
  {
   "cell_type": "code",
   "execution_count": null,
   "id": "aebc380a",
   "metadata": {},
   "outputs": [],
   "source": [
    "plt.figure(figsize=(12,8))\n",
    "sns.heatmap(df_19_EYE.isnull(), cmap='viridis')\n",
    "plt.show()"
   ]
  },
  {
   "cell_type": "markdown",
   "id": "c9dbf6e8",
   "metadata": {},
   "source": [
    "# Notes & Observations\n",
    "\n",
    "- We observe many **null** (or missing) values in the `QuestionKey` columns.  \n",
    "- The nulls in the `QuestionKey` column may not represent “true” nulls. Rather, they follow interval patterns, suggesting that during those periods no question was displayed.  \n",
    "- These missing values in `QuestionKey` require additional investigation and context-aware handling.  "
   ]
  },
  {
   "cell_type": "code",
   "execution_count": null,
   "id": "8c00aabb",
   "metadata": {},
   "outputs": [],
   "source": [
    "df_19_EYE['QuestionKey'].unique()"
   ]
  },
  {
   "cell_type": "code",
   "execution_count": null,
   "id": "8c060d22",
   "metadata": {},
   "outputs": [],
   "source": [
    "df_19_EYE['Timestamp'] = pd.to_datetime(df_19_EYE['Timestamp'])"
   ]
  },
  {
   "cell_type": "code",
   "execution_count": null,
   "id": "e0d96795",
   "metadata": {},
   "outputs": [],
   "source": [
    "df_19_EYE.head(3)"
   ]
  },
  {
   "cell_type": "code",
   "execution_count": null,
   "id": "99ac85e5",
   "metadata": {},
   "outputs": [],
   "source": [
    "df_19_EYE['QuestionKey'].fillna('None', inplace=True)"
   ]
  },
  {
   "cell_type": "code",
   "execution_count": null,
   "id": "15b0de2e",
   "metadata": {},
   "outputs": [],
   "source": [
    "df_19_EYE['QuestionKey'].value_counts()"
   ]
  },
  {
   "cell_type": "code",
   "execution_count": null,
   "id": "cba73e4f",
   "metadata": {},
   "outputs": [],
   "source": [
    "plt.figure(figsize=(12,8))\n",
    "sns.heatmap(df_19_EYE.isnull(), cmap='viridis')\n",
    "plt.show()"
   ]
  },
  {
   "cell_type": "code",
   "execution_count": null,
   "id": "ecde4665",
   "metadata": {},
   "outputs": [],
   "source": [
    "df_19_EYE.isnull().sum()"
   ]
  },
  {
   "cell_type": "code",
   "execution_count": null,
   "id": "830dedd0",
   "metadata": {},
   "outputs": [],
   "source": [
    "df_19_EYE.dropna(inplace=True)"
   ]
  },
  {
   "cell_type": "code",
   "execution_count": null,
   "id": "809facfd",
   "metadata": {},
   "outputs": [],
   "source": [
    "df_19_EYE.head()"
   ]
  },
  {
   "cell_type": "code",
   "execution_count": null,
   "id": "7a5266e8",
   "metadata": {},
   "outputs": [],
   "source": [
    "df_19_EYE['Row'].unique()"
   ]
  },
  {
   "cell_type": "code",
   "execution_count": null,
   "id": "670451f4",
   "metadata": {},
   "outputs": [],
   "source": [
    "plt.figure(figsize=(8,6))\n",
    "sns.histplot(df_19_EYE['Row'])\n",
    "plt.show()"
   ]
  },
  {
   "cell_type": "markdown",
   "id": "c62f2527",
   "metadata": {},
   "source": [
    "# Notes & Observations\n",
    "\n",
    "- The `Row` column appears to be a simple row index and does not provide meaningful information relevant to the eye-tracking data itself. Therefore, it can be dropped."
   ]
  },
  {
   "cell_type": "code",
   "execution_count": null,
   "id": "6c9a043a",
   "metadata": {},
   "outputs": [],
   "source": [
    "df_19_EYE.drop('Row', axis=1, inplace=True)"
   ]
  },
  {
   "cell_type": "code",
   "execution_count": null,
   "id": "ff54eddd",
   "metadata": {},
   "outputs": [],
   "source": [
    "df_19_EYE['ET_ValidityLeft'].unique()"
   ]
  },
  {
   "cell_type": "code",
   "execution_count": null,
   "id": "5d166a91",
   "metadata": {},
   "outputs": [],
   "source": [
    "df_19_EYE['ET_ValidityLeft'].value_counts()"
   ]
  },
  {
   "cell_type": "code",
   "execution_count": null,
   "id": "56411961",
   "metadata": {},
   "outputs": [],
   "source": [
    "df_19_EYE['ET_ValidityRight'].unique()"
   ]
  },
  {
   "cell_type": "code",
   "execution_count": null,
   "id": "69571d72",
   "metadata": {},
   "outputs": [],
   "source": [
    "df_19_EYE['ET_ValidityRight'].value_counts()"
   ]
  },
  {
   "cell_type": "code",
   "execution_count": null,
   "id": "1268904a",
   "metadata": {},
   "outputs": [],
   "source": [
    "plt.figure(figsize=(12, 6))\n",
    "\n",
    "plt.subplot(1, 2, 1)\n",
    "sns.barplot(x=df_19_EYE['ET_ValidityLeft'].value_counts().index, y=df_19_EYE['ET_ValidityLeft'].value_counts().values)\n",
    "plt.title('Count of ET_ValidityLeft')\n",
    "plt.xlabel('Validity')\n",
    "plt.ylabel('Count')\n",
    "\n",
    "\n",
    "plt.subplot(1, 2, 2)\n",
    "sns.barplot(x=df_19_EYE['ET_ValidityRight'].value_counts().index, y=df_19_EYE['ET_ValidityRight'].value_counts().values)\n",
    "plt.title('Count of ET_ValidityRight')\n",
    "plt.xlabel('Validity')\n",
    "plt.ylabel('Count')\n",
    "\n",
    "plt.tight_layout()\n",
    "plt.show()"
   ]
  },
  {
   "cell_type": "markdown",
   "id": "b0411fba",
   "metadata": {},
   "source": [
    "# Notes & Observations\n",
    "\n",
    "- The `ET_ValidityLeft` and `ET_ValidityRight` columns indicate the validity of the eye-tracking data for the left and right eye, respectively.\n",
    "- Based on the value counts and the bar plots, it appears that a value of `0.0` represents valid eye-tracking data, while a value of `4.0` represents invalid data.\n",
    "- Although the amount of invalid data is relatively small, removing these rows could introduce unwanted patterns or gaps in the time series data.\n",
    "- Therefore, we will keep the data and replace the value `4.0` with `1.0` in both `ET_ValidityLeft` and `ET_ValidityRight` columns. This will indicate to a machine learning model that the eye tracker had invalid data at those specific points in time while maintaining the integrity of the time series."
   ]
  },
  {
   "cell_type": "code",
   "execution_count": null,
   "id": "ba301ec8",
   "metadata": {},
   "outputs": [],
   "source": [
    "validity_map = {4.0: 1.0, 0.0: 0.0}"
   ]
  },
  {
   "cell_type": "code",
   "execution_count": null,
   "id": "8f664194",
   "metadata": {},
   "outputs": [],
   "source": [
    "df_19_EYE['ET_ValidityLeft'] = df_19_EYE['ET_ValidityLeft'].map(validity_map).astype(np.int8)\n",
    "df_19_EYE['ET_ValidityRight'] = df_19_EYE['ET_ValidityRight'].map(validity_map).astype(np.int8)"
   ]
  },
  {
   "cell_type": "code",
   "execution_count": null,
   "id": "03ff2591",
   "metadata": {},
   "outputs": [],
   "source": [
    "df_19_EYE.head(3)"
   ]
  },
  {
   "cell_type": "code",
   "execution_count": null,
   "id": "b9fd8088",
   "metadata": {},
   "outputs": [],
   "source": [
    "df_19_EYE.describe()"
   ]
  },
  {
   "cell_type": "code",
   "execution_count": null,
   "id": "f0bea331",
   "metadata": {},
   "outputs": [],
   "source": [
    "df_19_EYE[df_19_EYE['ET_ValidityLeft'] == 1].shape"
   ]
  },
  {
   "cell_type": "code",
   "execution_count": null,
   "id": "56c723a1",
   "metadata": {},
   "outputs": [],
   "source": [
    "df_19_EYE[df_19_EYE['ET_ValidityRight'] == 1].shape"
   ]
  },
  {
   "cell_type": "code",
   "execution_count": null,
   "id": "84b7463c",
   "metadata": {},
   "outputs": [],
   "source": [
    "plt.figure(figsize=(18, 8))\n",
    "\n",
    "plt.subplot(1, 2, 1)\n",
    "sns.heatmap(df_19_EYE == -1, cmap='viridis')\n",
    "plt.title('Heatmap of -1 Values')\n",
    "\n",
    "plt.subplot(1, 2, 2)\n",
    "sns.heatmap(df_19_EYE == 1, cmap='viridis')\n",
    "plt.title('Heatmap of 1 Values')\n",
    "\n",
    "plt.tight_layout()\n",
    "plt.show()"
   ]
  },
  {
   "cell_type": "code",
   "execution_count": null,
   "id": "00120008",
   "metadata": {},
   "outputs": [],
   "source": [
    "df_19_EYE[df_19_EYE['ET_PupilLeft'] == -1].shape"
   ]
  },
  {
   "cell_type": "code",
   "execution_count": null,
   "id": "59987ef3",
   "metadata": {},
   "outputs": [],
   "source": [
    "df_19_EYE[df_19_EYE['ET_PupilRight'] == -1].shape"
   ]
  },
  {
   "cell_type": "code",
   "execution_count": null,
   "id": "48743b67",
   "metadata": {},
   "outputs": [],
   "source": [
    "df_19_EYE[df_19_EYE['ET_PupilLeft'] == -1].shape[0] / df_19_EYE.shape[0]"
   ]
  },
  {
   "cell_type": "code",
   "execution_count": null,
   "id": "c66df8a6",
   "metadata": {},
   "outputs": [],
   "source": [
    "df_19_EYE[df_19_EYE['ET_PupilRight'] == -1].shape[0] / df_19_EYE.shape[0]"
   ]
  },
  {
   "cell_type": "code",
   "execution_count": null,
   "id": "bf52ccbe",
   "metadata": {},
   "outputs": [],
   "source": [
    "plt.figure(figsize=(18, 8))\n",
    "\n",
    "plt.subplot(1, 2, 1)\n",
    "sns.heatmap(df_19_EYE[df_19_EYE['ET_ValidityLeft'] == 1] == -1, cmap='viridis')\n",
    "plt.title('Heatmap of -1 Values')\n",
    "\n",
    "plt.subplot(1, 2, 2)\n",
    "sns.heatmap(df_19_EYE[df_19_EYE['ET_ValidityRight'] == 1] == -1, cmap='viridis')\n",
    "plt.title('Heatmap of -1 Values')\n",
    "\n",
    "plt.tight_layout()\n",
    "plt.show()"
   ]
  },
  {
   "cell_type": "markdown",
   "id": "077e3691",
   "metadata": {},
   "source": [
    "# Notes & Observations\n",
    "\n",
    "- The heatmaps reveal the distribution of -1 values across different columns.\n",
    "- It is evident that the `-1` values are not randomly scattered but appear in specific columns, notably `ET_GazeLeftx`, `ET_GazeLefty`, `ET_GazeRightx`, `ET_GazeRighty`, `ET_PupilLeft`, `ET_PupilRight`, `ET_DistanceLeft`, `ET_DistanceRight`, `ET_CameraLeftX`, `ET_CameraLeftY`, `ET_CameraRightX`, and `ET_CameraRightY`.\n",
    "- These `-1` values often coincide with instances where `ET_ValidityLeft` or `ET_ValidityRight` is 1, indicating invalid eye-tracking data. This suggests that `-1` is used as a placeholder for missing or invalid measurements in these columns when the eye tracker is not providing valid data for a particular eye.\n",
    "- Given that over 70% of the data in the `ET_PupilLeft` and `ET_PupilRight` columns is marked as invalid (-1), these columns may not be suitable for analysis and could be considered for dropping."
   ]
  },
  {
   "cell_type": "code",
   "execution_count": null,
   "id": "011136bd",
   "metadata": {},
   "outputs": [],
   "source": [
    "df_19_EYE.drop(['ET_PupilLeft', 'ET_PupilRight'], axis=1, inplace=True)"
   ]
  },
  {
   "cell_type": "code",
   "execution_count": null,
   "id": "a00e5cca",
   "metadata": {},
   "outputs": [],
   "source": [
    "df_19_EYE.head()"
   ]
  },
  {
   "cell_type": "code",
   "execution_count": null,
   "id": "7c7c97f7",
   "metadata": {},
   "outputs": [],
   "source": [
    "plt.figure(figsize=(18, 8))\n",
    "\n",
    "plt.subplot(1, 2, 1)\n",
    "sns.heatmap(df_19_EYE == -1, cmap='viridis')\n",
    "plt.title('Heatmap of -1 Values')\n",
    "\n",
    "plt.subplot(1, 2, 2)\n",
    "sns.heatmap(df_19_EYE == 1, cmap='viridis')\n",
    "plt.title('Heatmap of -1 Values')\n",
    "\n",
    "plt.tight_layout()\n",
    "plt.show()"
   ]
  },
  {
   "cell_type": "code",
   "execution_count": null,
   "id": "1811ba5d",
   "metadata": {},
   "outputs": [],
   "source": [
    "valid_left_ratio  = 1 - df_19_EYE['ET_ValidityLeft'].mean()\n",
    "valid_right_ratio = 1 - df_19_EYE['ET_ValidityRight'].mean()"
   ]
  },
  {
   "cell_type": "code",
   "execution_count": null,
   "id": "633fe0d5",
   "metadata": {},
   "outputs": [],
   "source": [
    "valid_left_ratio"
   ]
  },
  {
   "cell_type": "code",
   "execution_count": null,
   "id": "74779671",
   "metadata": {},
   "outputs": [],
   "source": [
    "valid_right_ratio"
   ]
  },
  {
   "cell_type": "code",
   "execution_count": null,
   "id": "9e5abd46",
   "metadata": {},
   "outputs": [],
   "source": [
    "df_19_EYE.head()"
   ]
  },
  {
   "cell_type": "code",
   "execution_count": null,
   "id": "255560b0",
   "metadata": {},
   "outputs": [],
   "source": [
    "# Select only the numeric columns for plotting histograms, excluding time-related columns\n",
    "numeric_cols = df_19_EYE.select_dtypes(include=np.number).columns\n",
    "cols_to_plot = [col for col in numeric_cols if col not in ['UnixTime']]\n",
    "\n",
    "# Calculate the number of rows and columns for the grid\n",
    "n_cols = 4  # You can adjust the number of columns as needed\n",
    "n_rows = (len(cols_to_plot) + n_cols - 1) // n_cols\n",
    "\n",
    "plt.figure(figsize=(n_cols * 5, n_rows * 4)) # Adjust figure size as needed\n",
    "\n",
    "for i, col in enumerate(cols_to_plot):\n",
    "    plt.subplot(n_rows, n_cols, i + 1)\n",
    "    sns.histplot(df_19_EYE[col], kde=True)\n",
    "    plt.title(f'Distribution of {col}')\n",
    "    plt.xlabel(col)\n",
    "    plt.ylabel('Frequency')\n",
    "\n",
    "plt.tight_layout()\n",
    "plt.show()"
   ]
  },
  {
   "cell_type": "code",
   "execution_count": null,
   "id": "d546d595",
   "metadata": {},
   "outputs": [],
   "source": [
    "df_19_EYE.columns"
   ]
  },
  {
   "cell_type": "code",
   "execution_count": null,
   "id": "9118f280",
   "metadata": {},
   "outputs": [],
   "source": [
    "cols = ['ET_GazeLeftx', 'ET_GazeLefty',\n",
    "       'ET_GazeRightx', 'ET_GazeRighty', 'ET_TimeSignal', 'ET_DistanceLeft',\n",
    "       'ET_DistanceRight', 'ET_CameraLeftX', 'ET_CameraLeftY',\n",
    "       'ET_CameraRightX', 'ET_CameraRightY', 'ET_ValidityLeft',\n",
    "       'ET_ValidityRight']"
   ]
  },
  {
   "cell_type": "code",
   "execution_count": null,
   "id": "d9b65119",
   "metadata": {},
   "outputs": [],
   "source": [
    "from IPython.display import display, Markdown\n",
    "\n",
    "for col in cols:\n",
    "    # Add a markdown cell before each plot for better separation and labeling\n",
    "    display(Markdown(f'### {col} over Time'))\n",
    "    plt.figure(figsize=(16, 10))\n",
    "    plt.plot(df_19_EYE['Timestamp'], df_19_EYE[col])\n",
    "    plt.xlabel(\"Timestamp\") # Add x-axis label\n",
    "    plt.ylabel(col) # Add y-axis label\n",
    "    plt.show()"
   ]
  },
  {
   "cell_type": "code",
   "execution_count": null,
   "id": "8cf7e233",
   "metadata": {},
   "outputs": [],
   "source": [
    "# Select only the numeric columns for plotting histograms, excluding time-related columns\n",
    "numeric_cols = df_19_EYE.select_dtypes(include=np.number).columns\n",
    "\n",
    "# Calculate the number of rows and columns for the grid\n",
    "n_cols = 4  # You can adjust the number of columns as needed\n",
    "n_rows = (len(numeric_cols) + n_cols - 1) // n_cols\n",
    "\n",
    "plt.figure(figsize=(n_cols * 5, n_rows * 4)) # Adjust figure size as needed\n",
    "\n",
    "for i, col in enumerate(numeric_cols):\n",
    "    plt.subplot(n_rows, n_cols, i + 1)\n",
    "    sns.boxplot(df_19_EYE[col])\n",
    "    plt.title(f'Boxplot of {col}')\n",
    "    plt.xlabel(col)\n",
    "\n",
    "plt.tight_layout()\n",
    "plt.show()"
   ]
  },
  {
   "cell_type": "code",
   "execution_count": null,
   "id": "0291e6ef",
   "metadata": {},
   "outputs": [],
   "source": [
    "df_19_EYE.replace({-1: np.nan}, inplace=True)"
   ]
  },
  {
   "cell_type": "code",
   "execution_count": null,
   "id": "066371c7",
   "metadata": {},
   "outputs": [],
   "source": [
    "numeric_cols = df_19_EYE.select_dtypes(include=np.number).columns\n",
    "\n",
    "for col in numeric_cols:\n",
    "    df_19_EYE[col].fillna(df_19_EYE[col].mean(), inplace=True)"
   ]
  },
  {
   "cell_type": "code",
   "execution_count": null,
   "id": "ac402afe",
   "metadata": {},
   "outputs": [],
   "source": [
    "df_19_EYE.head()"
   ]
  },
  {
   "cell_type": "code",
   "execution_count": null,
   "id": "e09758d6",
   "metadata": {},
   "outputs": [],
   "source": [
    "# Select only the numeric columns for plotting histograms, excluding time-related columns\n",
    "numeric_cols = df_19_EYE.select_dtypes(include=np.number).columns\n",
    "cols_to_plot = [col for col in numeric_cols if col not in ['UnixTime']]\n",
    "\n",
    "# Calculate the number of rows and columns for the grid\n",
    "n_cols = 4  # You can adjust the number of columns as needed\n",
    "n_rows = (len(cols_to_plot) + n_cols - 1) // n_cols\n",
    "\n",
    "plt.figure(figsize=(n_cols * 5, n_rows * 4)) # Adjust figure size as needed\n",
    "\n",
    "for i, col in enumerate(cols_to_plot):\n",
    "    plt.subplot(n_rows, n_cols, i + 1)\n",
    "    sns.histplot(df_19_EYE[col], kde=True)\n",
    "    plt.title(f'Distribution of {col}')\n",
    "    plt.xlabel(col)\n",
    "    plt.ylabel('Frequency')\n",
    "\n",
    "plt.tight_layout()\n",
    "plt.show()"
   ]
  },
  {
   "cell_type": "code",
   "execution_count": null,
   "id": "a414d7fd",
   "metadata": {},
   "outputs": [],
   "source": []
  },
  {
   "cell_type": "code",
   "execution_count": null,
   "id": "751c58c9",
   "metadata": {},
   "outputs": [],
   "source": []
  },
  {
   "cell_type": "code",
   "execution_count": null,
   "id": "cd6b71ed",
   "metadata": {},
   "outputs": [],
   "source": []
  },
  {
   "cell_type": "code",
   "execution_count": null,
   "id": "ce4198a9",
   "metadata": {},
   "outputs": [],
   "source": []
  },
  {
   "cell_type": "code",
   "execution_count": null,
   "id": "4a41a938",
   "metadata": {},
   "outputs": [],
   "source": []
  },
  {
   "cell_type": "code",
   "execution_count": null,
   "id": "12aaf209",
   "metadata": {},
   "outputs": [],
   "source": []
  },
  {
   "cell_type": "code",
   "execution_count": null,
   "id": "39490dc3",
   "metadata": {},
   "outputs": [],
   "source": []
  },
  {
   "cell_type": "code",
   "execution_count": null,
   "id": "a459a001",
   "metadata": {},
   "outputs": [],
   "source": []
  },
  {
   "cell_type": "code",
   "execution_count": null,
   "id": "b7dc646d",
   "metadata": {},
   "outputs": [],
   "source": []
  },
  {
   "cell_type": "code",
   "execution_count": null,
   "id": "b38d5f6a",
   "metadata": {},
   "outputs": [],
   "source": []
  },
  {
   "cell_type": "code",
   "execution_count": null,
   "id": "cd68087f",
   "metadata": {},
   "outputs": [],
   "source": []
  },
  {
   "cell_type": "code",
   "execution_count": null,
   "id": "60172413",
   "metadata": {},
   "outputs": [],
   "source": []
  },
  {
   "cell_type": "markdown",
   "id": "55d863e9",
   "metadata": {},
   "source": [
    "# Eye Tracking Data Analysis\n",
    "\n",
    "This notebook performs exploratory data analysis and cleaning on eye-tracking data.\n",
    "\n",
    "## Data Loading and Initial Inspection"
   ]
  },
  {
   "cell_type": "code",
   "execution_count": null,
   "id": "1a0ca41e",
   "metadata": {},
   "outputs": [],
   "source": [
    "%load_ext cudf"
   ]
  },
  {
   "cell_type": "markdown",
   "id": "1f910c31",
   "metadata": {},
   "source": [
    "Import necessary libraries for data manipulation, analysis, and visualization."
   ]
  },
  {
   "cell_type": "code",
   "execution_count": null,
   "id": "d5383296",
   "metadata": {},
   "outputs": [],
   "source": [
    "import numpy as np\n",
    "import pandas as pd\n",
    "import matplotlib.pyplot as plt\n",
    "import seaborn as sns"
   ]
  },
  {
   "cell_type": "markdown",
   "id": "9ab20e91",
   "metadata": {},
   "source": [
    "Import libraries for datashader, which can be used for visualizing large datasets."
   ]
  },
  {
   "cell_type": "code",
   "execution_count": null,
   "id": "68d82634",
   "metadata": {},
   "outputs": [],
   "source": [
    "import datashader as ds\n",
    "import datashader.transfer_functions as tf"
   ]
  },
  {
   "cell_type": "markdown",
   "id": "dcbf3c9f",
   "metadata": {},
   "source": [
    "Set pandas display options to show all columns."
   ]
  },
  {
   "cell_type": "code",
   "execution_count": null,
   "id": "576ebb7c",
   "metadata": {},
   "outputs": [],
   "source": [
    "pd.set_option('display.max_columns', None)"
   ]
  },
  {
   "cell_type": "markdown",
   "id": "817bee4e",
   "metadata": {},
   "source": [
    "Load the eye-tracking data from the specified CSV file into a pandas DataFrame."
   ]
  },
  {
   "cell_type": "code",
   "execution_count": null,
   "id": "0e9ebff3",
   "metadata": {},
   "outputs": [],
   "source": [
    "df_19_EYE = pd.read_csv('data/STData/19/19_EYE.csv')"
   ]
  },
  {
   "cell_type": "markdown",
   "id": "9c83b446",
   "metadata": {},
   "source": [
    "Display the first few rows of the DataFrame to get an initial look at the data structure and content."
   ]
  },
  {
   "cell_type": "code",
   "execution_count": null,
   "id": "a39abe0f",
   "metadata": {},
   "outputs": [],
   "source": [
    "df_19_EYE.head()"
   ]
  },
  {
   "cell_type": "markdown",
   "id": "e2ead4b7",
   "metadata": {},
   "source": [
    "Check the dimensions (number of rows and columns) of the DataFrame."
   ]
  },
  {
   "cell_type": "code",
   "execution_count": null,
   "id": "c71e35a7",
   "metadata": {},
   "outputs": [],
   "source": [
    "df_19_EYE.shape"
   ]
  },
  {
   "cell_type": "markdown",
   "id": "200470e2",
   "metadata": {},
   "source": [
    "List the names of all columns in the DataFrame."
   ]
  },
  {
   "cell_type": "code",
   "execution_count": null,
   "id": "e1709bdc",
   "metadata": {},
   "outputs": [],
   "source": [
    "df_19_EYE.columns"
   ]
  },
  {
   "cell_type": "markdown",
   "id": "974a49a8",
   "metadata": {},
   "source": [
    "Display concise information about the DataFrame, including the data types of each column and the number of non-null values. This helps identify columns with missing data."
   ]
  },
  {
   "cell_type": "code",
   "execution_count": null,
   "id": "e420fc65",
   "metadata": {},
   "outputs": [],
   "source": [
    "df_19_EYE.info()"
   ]
  },
  {
   "cell_type": "markdown",
   "id": "501aa988",
   "metadata": {},
   "source": [
    "Calculate and display the number of missing values in each column."
   ]
  },
  {
   "cell_type": "code",
   "execution_count": null,
   "id": "2f4d9b3c",
   "metadata": {},
   "outputs": [],
   "source": [
    "df_19_EYE.isnull().sum()"
   ]
  },
  {
   "cell_type": "markdown",
   "id": "db2babf2",
   "metadata": {},
   "source": [
    "Visualize the distribution of missing values using a heatmap. This provides a visual representation of which columns have missing data and the extent of missingness."
   ]
  },
  {
   "cell_type": "code",
   "execution_count": null,
   "id": "a1909e01",
   "metadata": {},
   "outputs": [],
   "source": [
    "plt.figure(figsize=(12,8))\n",
    "sns.heatmap(df_19_EYE.isnull(), cmap='viridis')\n",
    "plt.show()"
   ]
  },
  {
   "cell_type": "markdown",
   "id": "39c38227",
   "metadata": {},
   "source": [
    "# Notes & Observations\n",
    "\n",
    "- We observe many **null** (or missing) values in the `QuestionKey` columns.\n",
    "- The nulls in the `QuestionKey` column may not represent “true” nulls. Rather, they follow interval patterns, suggesting that during those periods no question was displayed.\n",
    "- These missing values in `QuestionKey` require additional investigation and context-aware handling."
   ]
  },
  {
   "cell_type": "markdown",
   "id": "59085409",
   "metadata": {},
   "source": [
    "Display the unique values in the `QuestionKey` column to understand the different types of questions or states recorded."
   ]
  },
  {
   "cell_type": "code",
   "execution_count": null,
   "id": "e2690bae",
   "metadata": {},
   "outputs": [],
   "source": [
    "df_19_EYE['QuestionKey'].unique()"
   ]
  },
  {
   "cell_type": "markdown",
   "id": "bb987b0f",
   "metadata": {},
   "source": [
    "Convert the `Timestamp` column to datetime objects. This is crucial for any time series analysis or manipulation."
   ]
  },
  {
   "cell_type": "code",
   "execution_count": null,
   "id": "cd60b975",
   "metadata": {},
   "outputs": [],
   "source": [
    "df_19_EYE['Timestamp'] = pd.to_datetime(df_19_EYE['Timestamp'])"
   ]
  },
  {
   "cell_type": "markdown",
   "id": "a0fb4d01",
   "metadata": {},
   "source": [
    "Display the first few rows again to see the effect of the timestamp conversion."
   ]
  },
  {
   "cell_type": "code",
   "execution_count": null,
   "id": "614cdff6",
   "metadata": {},
   "outputs": [],
   "source": [
    "df_19_EYE.head(3)"
   ]
  },
  {
   "cell_type": "markdown",
   "id": "1f71a65f",
   "metadata": {},
   "source": [
    "Fill the missing values in the `QuestionKey` column with the string 'None'. This helps to explicitly mark periods where no question was active."
   ]
  },
  {
   "cell_type": "code",
   "execution_count": null,
   "id": "f518d7bc",
   "metadata": {},
   "outputs": [],
   "source": [
    "df_19_EYE['QuestionKey'].fillna('None', inplace=True)"
   ]
  },
  {
   "cell_type": "markdown",
   "id": "faf54bb5",
   "metadata": {},
   "source": [
    "Count the occurrences of each unique value in the `QuestionKey` column after filling missing values."
   ]
  },
  {
   "cell_type": "code",
   "execution_count": null,
   "id": "859ba227",
   "metadata": {},
   "outputs": [],
   "source": [
    "df_19_EYE['QuestionKey'].value_counts()"
   ]
  },
  {
   "cell_type": "markdown",
   "id": "0d999824",
   "metadata": {},
   "source": [
    "Display the heatmap of missing values again to confirm that the missing values in `QuestionKey` have been handled."
   ]
  },
  {
   "cell_type": "code",
   "execution_count": null,
   "id": "fe3f891b",
   "metadata": {},
   "outputs": [],
   "source": [
    "plt.figure(figsize=(12,8))\n",
    "sns.heatmap(df_19_EYE.isnull(), cmap='viridis')\n",
    "plt.show()"
   ]
  },
  {
   "cell_type": "markdown",
   "id": "786bd9fe",
   "metadata": {},
   "source": [
    "Recalculate and display the number of missing values per column to confirm the changes after handling `QuestionKey`."
   ]
  },
  {
   "cell_type": "code",
   "execution_count": null,
   "id": "f55535ec",
   "metadata": {},
   "outputs": [],
   "source": [
    "df_19_EYE.isnull().sum()"
   ]
  },
  {
   "cell_type": "markdown",
   "id": "009959aa",
   "metadata": {},
   "source": [
    "Drop rows that still contain any missing values. This is done after handling `QuestionKey` separately."
   ]
  },
  {
   "cell_type": "code",
   "execution_count": null,
   "id": "8a0fb4d7",
   "metadata": {},
   "outputs": [],
   "source": [
    "df_19_EYE.dropna(inplace=True)"
   ]
  },
  {
   "cell_type": "markdown",
   "id": "6b081f34",
   "metadata": {},
   "source": [
    "Display the first few rows after dropping rows with missing values."
   ]
  },
  {
   "cell_type": "code",
   "execution_count": null,
   "id": "31024f0d",
   "metadata": {},
   "outputs": [],
   "source": [
    "df_19_EYE.head()"
   ]
  },
  {
   "cell_type": "markdown",
   "id": "b37332a4",
   "metadata": {},
   "source": [
    "Display the unique values in the `Row` column."
   ]
  },
  {
   "cell_type": "code",
   "execution_count": null,
   "id": "84e44381",
   "metadata": {},
   "outputs": [],
   "source": [
    "df_19_EYE['Row'].unique()"
   ]
  },
  {
   "cell_type": "markdown",
   "id": "648a67f0",
   "metadata": {},
   "source": [
    "Plot a histogram of the `Row` column to visualize its distribution."
   ]
  },
  {
   "cell_type": "code",
   "execution_count": null,
   "id": "b3957763",
   "metadata": {},
   "outputs": [],
   "source": [
    "plt.figure(figsize=(8,6))\n",
    "sns.histplot(df_19_EYE['Row'])\n",
    "plt.show()"
   ]
  },
  {
   "cell_type": "markdown",
   "id": "4ac6c205",
   "metadata": {},
   "source": [
    "# Notes & Observations\n",
    "\n",
    "- The `Row` column appears to be a simple row index and does not provide meaningful information relevant to the eye-tracking data itself. Therefore, it can be dropped."
   ]
  },
  {
   "cell_type": "markdown",
   "id": "8f304c91",
   "metadata": {},
   "source": [
    "Drop the `Row` column as it is not relevant for the analysis."
   ]
  },
  {
   "cell_type": "code",
   "execution_count": null,
   "id": "50a96726",
   "metadata": {},
   "outputs": [],
   "source": [
    "df_19_EYE.drop('Row', axis=1, inplace=True)"
   ]
  },
  {
   "cell_type": "markdown",
   "id": "884e3879",
   "metadata": {},
   "source": [
    "Display the unique values in the `ET_ValidityLeft` column."
   ]
  },
  {
   "cell_type": "code",
   "execution_count": null,
   "id": "05db447a",
   "metadata": {},
   "outputs": [],
   "source": [
    "df_19_EYE['ET_ValidityLeft'].unique()"
   ]
  },
  {
   "cell_type": "markdown",
   "id": "551c1368",
   "metadata": {},
   "source": [
    "Count the occurrences of each unique value in the `ET_ValidityLeft` column."
   ]
  },
  {
   "cell_type": "code",
   "execution_count": null,
   "id": "8053e318",
   "metadata": {},
   "outputs": [],
   "source": [
    "df_19_EYE['ET_ValidityLeft'].value_counts()"
   ]
  },
  {
   "cell_type": "markdown",
   "id": "5808b952",
   "metadata": {},
   "source": [
    "Display the unique values in the `ET_ValidityRight` column."
   ]
  },
  {
   "cell_type": "code",
   "execution_count": null,
   "id": "3c79fa8b",
   "metadata": {},
   "outputs": [],
   "source": [
    "df_19_EYE['ET_ValidityRight'].unique()"
   ]
  },
  {
   "cell_type": "markdown",
   "id": "ee4b8223",
   "metadata": {},
   "source": [
    "Count the occurrences of each unique value in the `ET_ValidityRight` column."
   ]
  },
  {
   "cell_type": "code",
   "execution_count": null,
   "id": "42109f46",
   "metadata": {},
   "outputs": [],
   "source": [
    "df_19_EYE['ET_ValidityRight'].value_counts()"
   ]
  },
  {
   "cell_type": "markdown",
   "id": "bf4f868a",
   "metadata": {},
   "source": [
    "Visualize the counts of valid and invalid data for both left and right eyes using bar plots."
   ]
  },
  {
   "cell_type": "code",
   "execution_count": null,
   "id": "66ab5ecd",
   "metadata": {},
   "outputs": [],
   "source": [
    "plt.figure(figsize=(12, 6))\n",
    "\n",
    "plt.subplot(1, 2, 1)\n",
    "sns.barplot(x=df_19_EYE['ET_ValidityLeft'].value_counts().index, y=df_19_EYE['ET_ValidityLeft'].value_counts().values)\n",
    "plt.title('Count of ET_ValidityLeft')\n",
    "plt.xlabel('Validity')\n",
    "plt.ylabel('Count')\n",
    "\n",
    "\n",
    "plt.subplot(1, 2, 2)\n",
    "sns.barplot(x=df_19_EYE['ET_ValidityRight'].value_counts().index, y=df_19_EYE['ET_ValidityRight'].value_counts().values)\n",
    "plt.title('Count of ET_ValidityRight')\n",
    "plt.xlabel('Validity')\n",
    "plt.ylabel('Count')\n",
    "\n",
    "plt.tight_layout()\n",
    "plt.show()"
   ]
  },
  {
   "cell_type": "markdown",
   "id": "5dc6d8f5",
   "metadata": {},
   "source": [
    "# Notes & Observations\n",
    "\n",
    "- The `ET_ValidityLeft` and `ET_ValidityRight` columns indicate the validity of the eye-tracking data for the left and right eye, respectively.\n",
    "- Based on the value counts and the bar plots, it appears that a value of `0.0` represents valid eye-tracking data, while a value of `4.0` represents invalid data.\n",
    "- Although the amount of invalid data is relatively small, removing these rows could introduce unwanted patterns or gaps in the time series data.\n",
    "- Therefore, we will keep the data and replace the value `4.0` with `1.0` in both `ET_ValidityLeft` and `ET_ValidityRight` columns. This will indicate to a machine learning model that the eye tracker had invalid data at those specific points in time while maintaining the integrity of the time series."
   ]
  },
  {
   "cell_type": "markdown",
   "id": "b46d4b5c",
   "metadata": {},
   "source": [
    "Define a mapping to convert validity values from `0.0` and `4.0` to `0` and `1`."
   ]
  },
  {
   "cell_type": "code",
   "execution_count": null,
   "id": "85092774",
   "metadata": {},
   "outputs": [],
   "source": [
    "validity_map = {4.0: 1.0, 0.0: 0.0}"
   ]
  },
  {
   "cell_type": "markdown",
   "id": "1d7f8b9a",
   "metadata": {},
   "source": [
    "Apply the mapping to the `ET_ValidityLeft` and `ET_ValidityRight` columns and convert the data type to integer."
   ]
  },
  {
   "cell_type": "code",
   "execution_count": null,
   "id": "3d9e94f5",
   "metadata": {},
   "outputs": [],
   "source": [
    "df_19_EYE['ET_ValidityLeft'] = df_19_EYE['ET_ValidityLeft'].map(validity_map).astype(np.int8)\n",
    "df_19_EYE['ET_ValidityRight'] = df_19_EYE['ET_ValidityRight'].map(validity_map).astype(np.int8)"
   ]
  },
  {
   "cell_type": "markdown",
   "id": "c1a779b5",
   "metadata": {},
   "source": [
    "Display the first few rows to see the updated validity columns."
   ]
  },
  {
   "cell_type": "code",
   "execution_count": null,
   "id": "90711a78",
   "metadata": {},
   "outputs": [],
   "source": [
    "df_19_EYE.head(3)"
   ]
  },
  {
   "cell_type": "markdown",
   "id": "01548424",
   "metadata": {},
   "source": [
    "Display descriptive statistics for the DataFrame, including count, mean, standard deviation, min, max, and quartiles for numeric columns."
   ]
  },
  {
   "cell_type": "code",
   "execution_count": null,
   "id": "8f5515b4",
   "metadata": {},
   "outputs": [],
   "source": [
    "df_19_EYE.describe()"
   ]
  },
  {
   "cell_type": "markdown",
   "id": "e57bb955",
   "metadata": {},
   "source": [
    "Check the number of rows where `ET_ValidityLeft` is 1 (invalid data for the left eye)."
   ]
  },
  {
   "cell_type": "code",
   "execution_count": null,
   "id": "1c60baa6",
   "metadata": {},
   "outputs": [],
   "source": [
    "df_19_EYE[df_19_EYE['ET_ValidityLeft'] == 1].shape"
   ]
  },
  {
   "cell_type": "markdown",
   "id": "16c5161a",
   "metadata": {},
   "source": [
    "Check the number of rows where `ET_ValidityRight` is 1 (invalid data for the right eye)."
   ]
  },
  {
   "cell_type": "code",
   "execution_count": null,
   "id": "fcff99b8",
   "metadata": {},
   "outputs": [],
   "source": [
    "df_19_EYE[df_19_EYE['ET_ValidityRight'] == 1].shape"
   ]
  },
  {
   "cell_type": "markdown",
   "id": "d29894b5",
   "metadata": {},
   "source": [
    "Visualize the distribution of -1 and 1 values across columns using heatmaps. This helps identify columns with placeholder or indicator values."
   ]
  },
  {
   "cell_type": "code",
   "execution_count": null,
   "id": "b965fe41",
   "metadata": {},
   "outputs": [],
   "source": [
    "plt.figure(figsize=(18, 8))\n",
    "\n",
    "plt.subplot(1, 2, 1)\n",
    "sns.heatmap(df_19_EYE == -1, cmap='viridis')\n",
    "plt.title('Heatmap of -1 Values')\n",
    "\n",
    "plt.subplot(1, 2, 2)\n",
    "sns.heatmap(df_19_EYE == 1, cmap='viridis')\n",
    "plt.title('Heatmap of 1 Values')\n",
    "\n",
    "plt.tight_layout()\n",
    "plt.show()"
   ]
  },
  {
   "cell_type": "markdown",
   "id": "946231f2",
   "metadata": {},
   "source": [
    "Check the number of rows where `ET_PupilLeft` is -1."
   ]
  },
  {
   "cell_type": "code",
   "execution_count": null,
   "id": "672f3b9b",
   "metadata": {},
   "outputs": [],
   "source": [
    "df_19_EYE[df_19_EYE['ET_PupilLeft'] == -1].shape"
   ]
  },
  {
   "cell_type": "markdown",
   "id": "66d34ac8",
   "metadata": {},
   "source": [
    "Check the number of rows where `ET_PupilRight` is -1."
   ]
  },
  {
   "cell_type": "code",
   "execution_count": null,
   "id": "7b6d148b",
   "metadata": {},
   "outputs": [],
   "source": [
    "df_19_EYE[df_19_EYE['ET_PupilRight'] == -1].shape"
   ]
  },
  {
   "cell_type": "markdown",
   "id": "71a29bf1",
   "metadata": {},
   "source": [
    "Calculate the ratio of rows with -1 values in the `ET_PupilLeft` column to the total number of rows."
   ]
  },
  {
   "cell_type": "code",
   "execution_count": null,
   "id": "4f50d536",
   "metadata": {},
   "outputs": [],
   "source": [
    "df_19_EYE[df_19_EYE['ET_PupilLeft'] == -1].shape[0] / df_19_EYE.shape[0]"
   ]
  },
  {
   "cell_type": "markdown",
   "id": "203bb31e",
   "metadata": {},
   "source": [
    "Calculate the ratio of rows with -1 values in the `ET_PupilRight` column to the total number of rows."
   ]
  },
  {
   "cell_type": "code",
   "execution_count": null,
   "id": "1f59ed4f",
   "metadata": {},
   "outputs": [],
   "source": [
    "df_19_EYE[df_19_EYE['ET_PupilRight'] == -1].shape[0] / df_19_EYE.shape[0]"
   ]
  },
  {
   "cell_type": "markdown",
   "id": "6bc5c00e",
   "metadata": {},
   "source": [
    "Visualize the distribution of -1 values specifically for rows where validity is 1 (invalid data)."
   ]
  },
  {
   "cell_type": "code",
   "execution_count": null,
   "id": "38fb2c77",
   "metadata": {},
   "outputs": [],
   "source": [
    "plt.figure(figsize=(18, 8))\n",
    "\n",
    "plt.subplot(1, 2, 1)\n",
    "sns.heatmap(df_19_EYE[df_19_EYE['ET_ValidityLeft'] == 1] == -1, cmap='viridis')\n",
    "plt.title('Heatmap of -1 Values')\n",
    "\n",
    "plt.subplot(1, 2, 2)\n",
    "sns.heatmap(df_19_EYE[df_19_EYE['ET_ValidityRight'] == 1] == -1, cmap='viridis')\n",
    "plt.title('Heatmap of -1 Values')\n",
    "\n",
    "plt.tight_layout()\n",
    "plt.show()"
   ]
  },
  {
   "cell_type": "markdown",
   "id": "b787e8f3",
   "metadata": {},
   "source": [
    "# Notes & Observations\n",
    "\n",
    "- The heatmaps reveal the distribution of -1 values across different columns.\n",
    "- It is evident that the `-1` values are not randomly scattered but appear in specific columns, notably `ET_GazeLeftx`, `ET_GazeLefty`, `ET_GazeRightx`, `ET_GazeRighty`, `ET_PupilLeft`, `ET_PupilRight`, `ET_DistanceLeft`, `ET_DistanceRight`, `ET_CameraLeftX`, `ET_CameraLeftY`, `ET_CameraRightX`, and `ET_CameraRightY`.\n",
    "- These `-1` values often coincide with instances where `ET_ValidityLeft` or `ET_ValidityRight` is 1, indicating invalid eye-tracking data. This suggests that `-1` is used as a placeholder for missing or invalid measurements in these columns when the eye tracker is not providing valid data for a particular eye.\n",
    "- Given that over 70% of the data in the `ET_PupilLeft` and `ET_PupilRight` columns is marked as invalid (-1), these columns may not be suitable for analysis and could be considered for dropping."
   ]
  },
  {
   "cell_type": "markdown",
   "id": "be5ce67e",
   "metadata": {},
   "source": [
    "Drop the `ET_PupilLeft` and `ET_PupilRight` columns due to the high percentage of invalid data."
   ]
  },
  {
   "cell_type": "code",
   "execution_count": null,
   "id": "f3ca5431",
   "metadata": {},
   "outputs": [],
   "source": [
    "df_19_EYE.drop(['ET_PupilLeft', 'ET_PupilRight'], axis=1, inplace=True)"
   ]
  },
  {
   "cell_type": "markdown",
   "id": "ba4d89e4",
   "metadata": {},
   "source": [
    "Display the first few rows after dropping the pupil columns."
   ]
  },
  {
   "cell_type": "code",
   "execution_count": null,
   "id": "5f947514",
   "metadata": {},
   "outputs": [],
   "source": [
    "df_19_EYE.head()"
   ]
  },
  {
   "cell_type": "markdown",
   "id": "f6aa02dd",
   "metadata": {},
   "source": [
    "Visualize the distribution of -1 and 1 values again after dropping the pupil columns."
   ]
  },
  {
   "cell_type": "code",
   "execution_count": null,
   "id": "466f60a4",
   "metadata": {},
   "outputs": [],
   "source": [
    "plt.figure(figsize=(18, 8))\n",
    "\n",
    "plt.subplot(1, 2, 1)\n",
    "sns.heatmap(df_19_EYE == -1, cmap='viridis')\n",
    "plt.title('Heatmap of -1 Values')\n",
    "\n",
    "plt.subplot(1, 2, 2)\n",
    "sns.heatmap(df_19_EYE == 1, cmap='viridis')\n",
    "plt.title('Heatmap of -1 Values')\n",
    "\n",
    "plt.tight_layout()\n",
    "plt.show()"
   ]
  },
  {
   "cell_type": "markdown",
   "id": "432069e0",
   "metadata": {},
   "source": [
    "Calculate the ratio of valid data points for the left eye."
   ]
  },
  {
   "cell_type": "code",
   "execution_count": null,
   "id": "082e554b",
   "metadata": {},
   "outputs": [],
   "source": [
    "valid_left_ratio  = 1 - df_19_EYE['ET_ValidityLeft'].mean()"
   ]
  },
  {
   "cell_type": "markdown",
   "id": "17eed991",
   "metadata": {},
   "source": [
    "Display the ratio of valid data points for the left eye."
   ]
  },
  {
   "cell_type": "code",
   "execution_count": null,
   "id": "050d9ec0",
   "metadata": {},
   "outputs": [],
   "source": [
    "valid_left_ratio"
   ]
  },
  {
   "cell_type": "markdown",
   "id": "46e84688",
   "metadata": {},
   "source": [
    "Calculate the ratio of valid data points for the right eye."
   ]
  },
  {
   "cell_type": "code",
   "execution_count": null,
   "id": "84d14842",
   "metadata": {},
   "outputs": [],
   "source": [
    "valid_right_ratio = 1 - df_19_EYE['ET_ValidityRight'].mean()"
   ]
  },
  {
   "cell_type": "markdown",
   "id": "604fa701",
   "metadata": {},
   "source": [
    "Display the ratio of valid data points for the right eye."
   ]
  },
  {
   "cell_type": "code",
   "execution_count": null,
   "id": "e4141752",
   "metadata": {},
   "outputs": [],
   "source": [
    "valid_right_ratio"
   ]
  },
  {
   "cell_type": "markdown",
   "id": "1511764d",
   "metadata": {},
   "source": [
    "Display the first few rows of the DataFrame."
   ]
  },
  {
   "cell_type": "code",
   "execution_count": null,
   "id": "74aa4c4b",
   "metadata": {},
   "outputs": [],
   "source": [
    "df_19_EYE.head()"
   ]
  },
  {
   "cell_type": "markdown",
   "id": "b1543d7f",
   "metadata": {},
   "source": [
    "Visualize the distributions of numeric columns using histograms with Kernel Density Estimate (KDE) plots. This helps understand the shape and spread of the data in each numeric column."
   ]
  },
  {
   "cell_type": "code",
   "execution_count": null,
   "id": "bb9df91a",
   "metadata": {},
   "outputs": [],
   "source": [
    "# Select only the numeric columns for plotting histograms, excluding time-related columns\n",
    "numeric_cols = df_19_EYE.select_dtypes(include=np.number).columns\n",
    "cols_to_plot = [col for col in numeric_cols if col not in ['UnixTime']]\n",
    "\n",
    "# Calculate the number of rows and columns for the grid\n",
    "n_cols = 4  # You can adjust the number of columns as needed\n",
    "n_rows = (len(cols_to_plot) + n_cols - 1) // n_cols\n",
    "\n",
    "plt.figure(figsize=(n_cols * 5, n_rows * 4)) # Adjust figure size as needed\n",
    "\n",
    "for i, col in enumerate(cols_to_plot):\n",
    "    plt.subplot(n_rows, n_cols, i + 1)\n",
    "    sns.histplot(df_19_EYE[col], kde=True)\n",
    "    plt.title(f'Distribution of {col}')\n",
    "    plt.xlabel(col)\n",
    "    plt.ylabel('Frequency')\n",
    "\n",
    "plt.tight_layout()\n",
    "plt.show()"
   ]
  },
  {
   "cell_type": "markdown",
   "id": "9123e909",
   "metadata": {},
   "source": [
    "List the names of the columns in the DataFrame."
   ]
  },
  {
   "cell_type": "code",
   "execution_count": null,
   "id": "b176f054",
   "metadata": {},
   "outputs": [],
   "source": [
    "df_19_EYE.columns"
   ]
  },
  {
   "cell_type": "markdown",
   "id": "97d0dfa4",
   "metadata": {},
   "source": [
    "Define a list of columns to be plotted over time."
   ]
  },
  {
   "cell_type": "code",
   "execution_count": null,
   "id": "f57dc46b",
   "metadata": {},
   "outputs": [],
   "source": [
    "cols = ['ET_GazeLeftx', 'ET_GazeLefty',\n",
    "       'ET_GazeRightx', 'ET_GazeRighty', 'ET_TimeSignal', 'ET_DistanceLeft',\n",
    "       'ET_DistanceRight', 'ET_CameraLeftX', 'ET_CameraLeftY',\n",
    "       'ET_CameraRightX', 'ET_CameraRightY', 'ET_ValidityLeft',\n",
    "       'ET_ValidityRight']"
   ]
  },
  {
   "cell_type": "markdown",
   "id": "58296033",
   "metadata": {},
   "source": [
    "Plot each of the selected columns against the timestamp to visualize their trends and patterns over time. Markdown cells are added before each plot for better readability."
   ]
  },
  {
   "cell_type": "code",
   "execution_count": null,
   "id": "bee2ee73",
   "metadata": {},
   "outputs": [],
   "source": [
    "from IPython.display import display, Markdown\n",
    "\n",
    "for col in cols:\n",
    "    # Add a markdown cell before each plot for better separation and labeling\n",
    "    display(Markdown(f'### {col} over Time'))\n",
    "    plt.figure(figsize=(16, 10))\n",
    "    plt.plot(df_19_EYE['Timestamp'], df_19_EYE[col])\n",
    "    plt.xlabel(\"Timestamp\") # Add x-axis label\n",
    "    plt.ylabel(col) # Add y-axis label\n",
    "    plt.show()"
   ]
  },
  {
   "cell_type": "markdown",
   "id": "9f899b18",
   "metadata": {},
   "source": [
    "Visualize the distributions of numeric columns using boxplots. This helps identify potential outliers and the spread of the data."
   ]
  },
  {
   "cell_type": "code",
   "execution_count": null,
   "id": "e4624d0b",
   "metadata": {},
   "outputs": [],
   "source": [
    "# Select only the numeric columns for plotting histograms, excluding time-related columns\n",
    "numeric_cols = df_19_EYE.select_dtypes(include=np.number).columns\n",
    "\n",
    "# Calculate the number of rows and columns for the grid\n",
    "n_cols = 4  # You can adjust the number of columns as needed\n",
    "n_rows = (len(numeric_cols) + n_cols - 1) // n_cols\n",
    "\n",
    "plt.figure(figsize=(n_cols * 5, n_rows * 4)) # Adjust figure size as needed\n",
    "\n",
    "for i, col in enumerate(numeric_cols):\n",
    "    plt.subplot(n_rows, n_cols, i + 1)\n",
    "    sns.boxplot(df_19_EYE[col])\n",
    "    plt.title(f'Boxplot of {col}')\n",
    "    plt.xlabel(col)\n",
    "\n",
    "plt.tight_layout()\n",
    "plt.show()"
   ]
  },
  {
   "cell_type": "markdown",
   "id": "13bb51ce",
   "metadata": {},
   "source": [
    "Replace the placeholder value -1 with NaN (Not a Number) in the DataFrame. This is done before imputation."
   ]
  },
  {
   "cell_type": "code",
   "execution_count": null,
   "id": "0860effe",
   "metadata": {},
   "outputs": [],
   "source": [
    "df_19_EYE.replace({-1: np.nan}, inplace=True)"
   ]
  },
  {
   "cell_type": "markdown",
   "id": "8e07b885",
   "metadata": {},
   "source": [
    "Impute the missing values (NaN) in the numeric columns with the mean of each column."
   ]
  },
  {
   "cell_type": "code",
   "execution_count": null,
   "id": "1d680889",
   "metadata": {},
   "outputs": [],
   "source": [
    "numeric_cols = df_19_EYE.select_dtypes(include=np.number).columns\n",
    "\n",
    "for col in numeric_cols:\n",
    "    df_19_EYE[col].fillna(df_19_EYE[col].mean(), inplace=True)"
   ]
  },
  {
   "cell_type": "markdown",
   "id": "2f3c8b8e",
   "metadata": {},
   "source": [
    "Display the first few rows after imputing missing values."
   ]
  },
  {
   "cell_type": "code",
   "execution_count": null,
   "id": "0f77bbbb",
   "metadata": {},
   "outputs": [],
   "source": [
    "df_19_EYE.head()"
   ]
  },
  {
   "cell_type": "markdown",
   "id": "a03b604c",
   "metadata": {},
   "source": [
    "Visualize the distributions of numeric columns again using histograms with KDE plots after imputation. This helps assess the impact of imputation on the data distributions."
   ]
  },
  {
   "cell_type": "code",
   "execution_count": null,
   "id": "8791b810",
   "metadata": {},
   "outputs": [],
   "source": [
    "# Select only the numeric columns for plotting histograms, excluding time-related columns\n",
    "numeric_cols = df_19_EYE.select_dtypes(include=np.number).columns\n",
    "cols_to_plot = [col for col in numeric_cols if col not in ['UnixTime']]\n",
    "\n",
    "# Calculate the number of rows and columns for the grid\n",
    "n_cols = 4  # You can adjust the number of columns as needed\n",
    "n_rows = (len(cols_to_plot) + n_cols - 1) // n_cols\n",
    "\n",
    "plt.figure(figsize=(n_cols * 5, n_rows * 4)) # Adjust figure size as needed\n",
    "\n",
    "for i, col in enumerate(cols_to_plot):\n",
    "    plt.subplot(n_rows, n_cols, i + 1)\n",
    "    sns.histplot(df_19_EYE[col], kde=True)\n",
    "    plt.title(f'Distribution of {col}')\n",
    "    plt.xlabel(col)\n",
    "    plt.ylabel('Frequency')\n",
    "\n",
    "plt.tight_layout()\n",
    "plt.show()"
   ]
  },
  {
   "cell_type": "code",
   "execution_count": null,
   "id": "99e789f3",
   "metadata": {},
   "outputs": [],
   "source": []
  },
  {
   "cell_type": "markdown",
   "id": "400d9b4b",
   "metadata": {},
   "source": [
    "## Student 20"
   ]
  },
  {
   "cell_type": "code",
   "execution_count": null,
   "id": "39b34960",
   "metadata": {},
   "outputs": [],
   "source": [
    "%load_ext cudf"
   ]
  },
  {
   "cell_type": "code",
   "execution_count": null,
   "id": "5fbcaf41",
   "metadata": {},
   "outputs": [],
   "source": [
    "import numpy as np\n",
    "import pandas as pd\n",
    "import matplotlib.pyplot as plt\n",
    "import seaborn as sns"
   ]
  },
  {
   "cell_type": "code",
   "execution_count": null,
   "id": "deae6171",
   "metadata": {},
   "outputs": [],
   "source": [
    "import datashader as ds\n",
    "import datashader.transfer_functions as tf"
   ]
  },
  {
   "cell_type": "code",
   "execution_count": null,
   "id": "fafcfa6d",
   "metadata": {},
   "outputs": [],
   "source": [
    "pd.set_option('display.max_columns', None)"
   ]
  },
  {
   "cell_type": "code",
   "execution_count": null,
   "id": "81de8160",
   "metadata": {},
   "outputs": [],
   "source": [
    "df_20_EYE = pd.read_csv('data/STData/20/20_EYE.csv')"
   ]
  },
  {
   "cell_type": "code",
   "execution_count": null,
   "id": "ba0bc951",
   "metadata": {},
   "outputs": [],
   "source": [
    "df_20_EYE.head()"
   ]
  },
  {
   "cell_type": "code",
   "execution_count": null,
   "id": "99b711ff",
   "metadata": {},
   "outputs": [],
   "source": [
    "df_20_EYE.shape"
   ]
  },
  {
   "cell_type": "code",
   "execution_count": null,
   "id": "3be80dbf",
   "metadata": {},
   "outputs": [],
   "source": [
    "df_20_EYE.columns"
   ]
  },
  {
   "cell_type": "code",
   "execution_count": null,
   "id": "60b7dbd0",
   "metadata": {},
   "outputs": [],
   "source": [
    "df_20_EYE.info()"
   ]
  },
  {
   "cell_type": "code",
   "execution_count": null,
   "id": "348fc037",
   "metadata": {},
   "outputs": [],
   "source": [
    "df_20_EYE.isnull().sum()"
   ]
  },
  {
   "cell_type": "code",
   "execution_count": null,
   "id": "7f5bc4eb",
   "metadata": {},
   "outputs": [],
   "source": [
    "plt.figure(figsize=(12,8))\n",
    "sns.heatmap(df_20_EYE.isnull(), cmap='viridis')\n",
    "plt.show()"
   ]
  },
  {
   "cell_type": "markdown",
   "id": "8dd131b5",
   "metadata": {},
   "source": [
    "# Notes & Observations\n",
    "\n",
    "- We observe many **null** (or missing) values in the `QuestionKey` columns.  \n",
    "- The nulls in the `QuestionKey` column may not represent “true” nulls. Rather, they follow interval patterns, suggesting that during those periods no question was displayed.  \n",
    "- These missing values in `QuestionKey` require additional investigation and context-aware handling.  "
   ]
  },
  {
   "cell_type": "code",
   "execution_count": null,
   "id": "4528491f",
   "metadata": {},
   "outputs": [],
   "source": [
    "df_20_EYE['QuestionKey'].unique()"
   ]
  },
  {
   "cell_type": "code",
   "execution_count": null,
   "id": "981d2961",
   "metadata": {},
   "outputs": [],
   "source": [
    "df_20_EYE['Timestamp'] = pd.to_datetime(df_20_EYE['Timestamp'])"
   ]
  },
  {
   "cell_type": "code",
   "execution_count": null,
   "id": "9788581e",
   "metadata": {},
   "outputs": [],
   "source": [
    "df_20_EYE.head(3)"
   ]
  },
  {
   "cell_type": "code",
   "execution_count": null,
   "id": "94b1a09e",
   "metadata": {},
   "outputs": [],
   "source": [
    "df_20_EYE['QuestionKey'].fillna('None', inplace=True)"
   ]
  },
  {
   "cell_type": "code",
   "execution_count": null,
   "id": "18bc08c2",
   "metadata": {},
   "outputs": [],
   "source": [
    "df_20_EYE['QuestionKey'].value_counts()"
   ]
  },
  {
   "cell_type": "code",
   "execution_count": null,
   "id": "ef3e96bc",
   "metadata": {},
   "outputs": [],
   "source": [
    "plt.figure(figsize=(12,8))\n",
    "sns.heatmap(df_20_EYE.isnull(), cmap='viridis')\n",
    "plt.show()"
   ]
  },
  {
   "cell_type": "code",
   "execution_count": null,
   "id": "cfcd68f5",
   "metadata": {},
   "outputs": [],
   "source": [
    "df_20_EYE.isnull().sum()"
   ]
  },
  {
   "cell_type": "code",
   "execution_count": null,
   "id": "73c75e22",
   "metadata": {},
   "outputs": [],
   "source": [
    "df_20_EYE.dropna(inplace=True)"
   ]
  },
  {
   "cell_type": "code",
   "execution_count": null,
   "id": "7b2ad999",
   "metadata": {},
   "outputs": [],
   "source": [
    "df_20_EYE.head()"
   ]
  },
  {
   "cell_type": "code",
   "execution_count": null,
   "id": "eca559fb",
   "metadata": {},
   "outputs": [],
   "source": [
    "df_20_EYE['Row'].unique()"
   ]
  },
  {
   "cell_type": "code",
   "execution_count": null,
   "id": "aaf913ae",
   "metadata": {},
   "outputs": [],
   "source": [
    "plt.figure(figsize=(8,6))\n",
    "sns.histplot(df_20_EYE['Row'])\n",
    "plt.show()"
   ]
  },
  {
   "cell_type": "markdown",
   "id": "f575437b",
   "metadata": {},
   "source": [
    "# Notes & Observations\n",
    "\n",
    "- The `Row` column appears to be a simple row index and does not provide meaningful information relevant to the eye-tracking data itself. Therefore, it can be dropped."
   ]
  },
  {
   "cell_type": "code",
   "execution_count": null,
   "id": "3ed67f8a",
   "metadata": {},
   "outputs": [],
   "source": [
    "df_20_EYE.drop('Row', axis=1, inplace=True)"
   ]
  },
  {
   "cell_type": "code",
   "execution_count": null,
   "id": "a764f640",
   "metadata": {},
   "outputs": [],
   "source": [
    "df_20_EYE['ET_ValidityLeft'].unique()"
   ]
  },
  {
   "cell_type": "code",
   "execution_count": null,
   "id": "edd396cc",
   "metadata": {},
   "outputs": [],
   "source": [
    "df_20_EYE['ET_ValidityLeft'].value_counts()"
   ]
  },
  {
   "cell_type": "code",
   "execution_count": null,
   "id": "c0d807e8",
   "metadata": {},
   "outputs": [],
   "source": [
    "df_20_EYE['ET_ValidityRight'].unique()"
   ]
  },
  {
   "cell_type": "code",
   "execution_count": null,
   "id": "ae6f8119",
   "metadata": {},
   "outputs": [],
   "source": [
    "df_20_EYE['ET_ValidityRight'].value_counts()"
   ]
  },
  {
   "cell_type": "code",
   "execution_count": null,
   "id": "c8053f30",
   "metadata": {},
   "outputs": [],
   "source": [
    "plt.figure(figsize=(12, 6))\n",
    "\n",
    "plt.subplot(1, 2, 1)\n",
    "sns.barplot(x=df_20_EYE['ET_ValidityLeft'].value_counts().index, y=df_20_EYE['ET_ValidityLeft'].value_counts().values)\n",
    "plt.title('Count of ET_ValidityLeft')\n",
    "plt.xlabel('Validity')\n",
    "plt.ylabel('Count')\n",
    "\n",
    "\n",
    "plt.subplot(1, 2, 2)\n",
    "sns.barplot(x=df_20_EYE['ET_ValidityRight'].value_counts().index, y=df_20_EYE['ET_ValidityRight'].value_counts().values)\n",
    "plt.title('Count of ET_ValidityRight')\n",
    "plt.xlabel('Validity')\n",
    "plt.ylabel('Count')\n",
    "\n",
    "plt.tight_layout()\n",
    "plt.show()"
   ]
  },
  {
   "cell_type": "markdown",
   "id": "c5dc8bc2",
   "metadata": {},
   "source": [
    "# Notes & Observations\n",
    "\n",
    "- The `ET_ValidityLeft` and `ET_ValidityRight` columns indicate the validity of the eye-tracking data for the left and right eye, respectively.\n",
    "- Based on the value counts and the bar plots, it appears that a value of `0.0` represents valid eye-tracking data, while a value of `4.0` represents invalid data.\n",
    "- Although the amount of invalid data is relatively small, removing these rows could introduce unwanted patterns or gaps in the time series data.\n",
    "- Therefore, we will keep the data and replace the value `4.0` with `1.0` in both `ET_ValidityLeft` and `ET_ValidityRight` columns. This will indicate to a machine learning model that the eye tracker had invalid data at those specific points in time while maintaining the integrity of the time series."
   ]
  },
  {
   "cell_type": "code",
   "execution_count": null,
   "id": "b3570f8e",
   "metadata": {},
   "outputs": [],
   "source": [
    "validity_map = {4.0: 1.0, 0.0: 0.0}"
   ]
  },
  {
   "cell_type": "code",
   "execution_count": null,
   "id": "b0287591",
   "metadata": {},
   "outputs": [],
   "source": [
    "df_20_EYE['ET_ValidityLeft'] = df_20_EYE['ET_ValidityLeft'].map(validity_map).astype(np.int8)\n",
    "df_20_EYE['ET_ValidityRight'] = df_20_EYE['ET_ValidityRight'].map(validity_map).astype(np.int8)"
   ]
  },
  {
   "cell_type": "code",
   "execution_count": null,
   "id": "04871dc2",
   "metadata": {},
   "outputs": [],
   "source": [
    "df_20_EYE.head(3)"
   ]
  },
  {
   "cell_type": "code",
   "execution_count": null,
   "id": "97542716",
   "metadata": {},
   "outputs": [],
   "source": [
    "df_20_EYE.describe()"
   ]
  },
  {
   "cell_type": "code",
   "execution_count": null,
   "id": "df36f0c3",
   "metadata": {},
   "outputs": [],
   "source": [
    "df_20_EYE[df_20_EYE['ET_ValidityLeft'] == 1].shape"
   ]
  },
  {
   "cell_type": "code",
   "execution_count": null,
   "id": "b87d9617",
   "metadata": {},
   "outputs": [],
   "source": [
    "df_20_EYE[df_20_EYE['ET_ValidityRight'] == 1].shape"
   ]
  },
  {
   "cell_type": "code",
   "execution_count": null,
   "id": "b1b686dd",
   "metadata": {},
   "outputs": [],
   "source": [
    "plt.figure(figsize=(18, 8))\n",
    "\n",
    "plt.subplot(1, 2, 1)\n",
    "sns.heatmap(df_20_EYE == -1, cmap='viridis')\n",
    "plt.title('Heatmap of -1 Values')\n",
    "\n",
    "plt.subplot(1, 2, 2)\n",
    "sns.heatmap(df_20_EYE == 1, cmap='viridis')\n",
    "plt.title('Heatmap of 1 Values')\n",
    "\n",
    "plt.tight_layout()\n",
    "plt.show()"
   ]
  },
  {
   "cell_type": "code",
   "execution_count": null,
   "id": "34151f3c",
   "metadata": {},
   "outputs": [],
   "source": [
    "df_20_EYE[df_20_EYE['ET_PupilLeft'] == -1].shape"
   ]
  },
  {
   "cell_type": "code",
   "execution_count": null,
   "id": "94683496",
   "metadata": {},
   "outputs": [],
   "source": [
    "df_20_EYE[df_20_EYE['ET_PupilRight'] == -1].shape"
   ]
  },
  {
   "cell_type": "code",
   "execution_count": null,
   "id": "92e6f959",
   "metadata": {},
   "outputs": [],
   "source": [
    "df_20_EYE[df_20_EYE['ET_PupilLeft'] == -1].shape[0] / df_20_EYE.shape[0]"
   ]
  },
  {
   "cell_type": "code",
   "execution_count": null,
   "id": "10de852b",
   "metadata": {},
   "outputs": [],
   "source": [
    "df_20_EYE[df_20_EYE['ET_PupilRight'] == -1].shape[0] / df_20_EYE.shape[0]"
   ]
  },
  {
   "cell_type": "code",
   "execution_count": null,
   "id": "d14707f6",
   "metadata": {},
   "outputs": [],
   "source": [
    "plt.figure(figsize=(18, 8))\n",
    "\n",
    "plt.subplot(1, 2, 1)\n",
    "sns.heatmap(df_20_EYE[df_20_EYE['ET_ValidityLeft'] == 1] == -1, cmap='viridis')\n",
    "plt.title('Heatmap of -1 Values')\n",
    "\n",
    "plt.subplot(1, 2, 2)\n",
    "sns.heatmap(df_20_EYE[df_20_EYE['ET_ValidityRight'] == 1] == -1, cmap='viridis')\n",
    "plt.title('Heatmap of -1 Values')\n",
    "\n",
    "plt.tight_layout()\n",
    "plt.show()"
   ]
  },
  {
   "cell_type": "markdown",
   "id": "7b08524e",
   "metadata": {},
   "source": [
    "# Notes & Observations\n",
    "\n",
    "- The heatmaps reveal the distribution of -1 values across different columns.\n",
    "- It is evident that the `-1` values are not randomly scattered but appear in specific columns, notably `ET_GazeLeftx`, `ET_GazeLefty`, `ET_GazeRightx`, `ET_GazeRighty`, `ET_PupilLeft`, `ET_PupilRight`, `ET_DistanceLeft`, `ET_DistanceRight`, `ET_CameraLeftX`, `ET_CameraLeftY`, `ET_CameraRightX`, and `ET_CameraRightY`.\n",
    "- These `-1` values often coincide with instances where `ET_ValidityLeft` or `ET_ValidityRight` is 1, indicating invalid eye-tracking data. This suggests that `-1` is used as a placeholder for missing or invalid measurements in these columns when the eye tracker is not providing valid data for a particular eye.\n",
    "- Given that over 70% of the data in the `ET_PupilLeft` and `ET_PupilRight` columns is marked as invalid (-1), these columns may not be suitable for analysis and could be considered for dropping."
   ]
  },
  {
   "cell_type": "code",
   "execution_count": null,
   "id": "9da8e425",
   "metadata": {},
   "outputs": [],
   "source": [
    "df_20_EYE.drop(['ET_PupilLeft', 'ET_PupilRight'], axis=1, inplace=True)"
   ]
  },
  {
   "cell_type": "code",
   "execution_count": null,
   "id": "38f6ebfb",
   "metadata": {},
   "outputs": [],
   "source": [
    "df_20_EYE.head()"
   ]
  },
  {
   "cell_type": "code",
   "execution_count": null,
   "id": "d8e6f9fe",
   "metadata": {},
   "outputs": [],
   "source": [
    "plt.figure(figsize=(18, 8))\n",
    "\n",
    "plt.subplot(1, 2, 1)\n",
    "sns.heatmap(df_20_EYE == -1, cmap='viridis')\n",
    "plt.title('Heatmap of -1 Values')\n",
    "\n",
    "plt.subplot(1, 2, 2)\n",
    "sns.heatmap(df_20_EYE == 1, cmap='viridis')\n",
    "plt.title('Heatmap of -1 Values')\n",
    "\n",
    "plt.tight_layout()\n",
    "plt.show()"
   ]
  },
  {
   "cell_type": "code",
   "execution_count": null,
   "id": "0957a67e",
   "metadata": {},
   "outputs": [],
   "source": [
    "valid_left_ratio  = 1 - df_20_EYE['ET_ValidityLeft'].mean()\n",
    "valid_right_ratio = 1 - df_20_EYE['ET_ValidityRight'].mean()"
   ]
  },
  {
   "cell_type": "code",
   "execution_count": null,
   "id": "aa8e8274",
   "metadata": {},
   "outputs": [],
   "source": [
    "valid_left_ratio"
   ]
  },
  {
   "cell_type": "code",
   "execution_count": null,
   "id": "60a82eec",
   "metadata": {},
   "outputs": [],
   "source": [
    "valid_right_ratio"
   ]
  },
  {
   "cell_type": "code",
   "execution_count": null,
   "id": "1d032f39",
   "metadata": {},
   "outputs": [],
   "source": [
    "df_20_EYE.head()"
   ]
  },
  {
   "cell_type": "code",
   "execution_count": null,
   "id": "b9c7b88d",
   "metadata": {},
   "outputs": [],
   "source": [
    "# Select only the numeric columns for plotting histograms, excluding time-related columns\n",
    "numeric_cols = df_20_EYE.select_dtypes(include=np.number).columns\n",
    "cols_to_plot = [col for col in numeric_cols if col not in ['UnixTime']]\n",
    "\n",
    "# Calculate the number of rows and columns for the grid\n",
    "n_cols = 4  # You can adjust the number of columns as needed\n",
    "n_rows = (len(cols_to_plot) + n_cols - 1) // n_cols\n",
    "\n",
    "plt.figure(figsize=(n_cols * 5, n_rows * 4)) # Adjust figure size as needed\n",
    "\n",
    "for i, col in enumerate(cols_to_plot):\n",
    "    plt.subplot(n_rows, n_cols, i + 1)\n",
    "    sns.histplot(df_20_EYE[col], kde=True)\n",
    "    plt.title(f'Distribution of {col}')\n",
    "    plt.xlabel(col)\n",
    "    plt.ylabel('Frequency')\n",
    "\n",
    "plt.tight_layout()\n",
    "plt.show()"
   ]
  },
  {
   "cell_type": "code",
   "execution_count": null,
   "id": "8cd2d3ab",
   "metadata": {},
   "outputs": [],
   "source": [
    "df_20_EYE.columns"
   ]
  },
  {
   "cell_type": "code",
   "execution_count": null,
   "id": "cd256f3d",
   "metadata": {},
   "outputs": [],
   "source": [
    "cols = ['ET_GazeLeftx', 'ET_GazeLefty',\n",
    "       'ET_GazeRightx', 'ET_GazeRighty', 'ET_TimeSignal', 'ET_DistanceLeft',\n",
    "       'ET_DistanceRight', 'ET_CameraLeftX', 'ET_CameraLeftY',\n",
    "       'ET_CameraRightX', 'ET_CameraRightY', 'ET_ValidityLeft',\n",
    "       'ET_ValidityRight']"
   ]
  },
  {
   "cell_type": "code",
   "execution_count": null,
   "id": "4c2c2c58",
   "metadata": {},
   "outputs": [],
   "source": [
    "from IPython.display import display, Markdown\n",
    "\n",
    "for col in cols:\n",
    "    # Add a markdown cell before each plot for better separation and labeling\n",
    "    display(Markdown(f'### {col} over Time'))\n",
    "    plt.figure(figsize=(16, 10))\n",
    "    plt.plot(df_20_EYE['Timestamp'], df_20_EYE[col])\n",
    "    plt.xlabel(\"Timestamp\") # Add x-axis label\n",
    "    plt.ylabel(col) # Add y-axis label\n",
    "    plt.show()"
   ]
  },
  {
   "cell_type": "code",
   "execution_count": null,
   "id": "4acc2f53",
   "metadata": {},
   "outputs": [],
   "source": [
    "# Select only the numeric columns for plotting histograms, excluding time-related columns\n",
    "numeric_cols = df_20_EYE.select_dtypes(include=np.number).columns\n",
    "\n",
    "# Calculate the number of rows and columns for the grid\n",
    "n_cols = 4  # You can adjust the number of columns as needed\n",
    "n_rows = (len(numeric_cols) + n_cols - 1) // n_cols\n",
    "\n",
    "plt.figure(figsize=(n_cols * 5, n_rows * 4)) # Adjust figure size as needed\n",
    "\n",
    "for i, col in enumerate(numeric_cols):\n",
    "    plt.subplot(n_rows, n_cols, i + 1)\n",
    "    sns.boxplot(df_20_EYE[col])\n",
    "    plt.title(f'Boxplot of {col}')\n",
    "    plt.xlabel(col)\n",
    "\n",
    "plt.tight_layout()\n",
    "plt.show()"
   ]
  },
  {
   "cell_type": "code",
   "execution_count": null,
   "id": "e43c7021",
   "metadata": {},
   "outputs": [],
   "source": [
    "df_20_EYE.replace({-1: np.nan}, inplace=True)"
   ]
  },
  {
   "cell_type": "code",
   "execution_count": null,
   "id": "9a9a7d6d",
   "metadata": {},
   "outputs": [],
   "source": [
    "numeric_cols = df_20_EYE.select_dtypes(include=np.number).columns\n",
    "\n",
    "for col in numeric_cols:\n",
    "    df_20_EYE[col].fillna(df_20_EYE[col].mean(), inplace=True)"
   ]
  },
  {
   "cell_type": "code",
   "execution_count": null,
   "id": "ff2a0ba3",
   "metadata": {},
   "outputs": [],
   "source": [
    "df_20_EYE.head()"
   ]
  },
  {
   "cell_type": "code",
   "execution_count": null,
   "id": "12b74863",
   "metadata": {},
   "outputs": [],
   "source": [
    "# Select only the numeric columns for plotting histograms, excluding time-related columns\n",
    "numeric_cols = df_20_EYE.select_dtypes(include=np.number).columns\n",
    "cols_to_plot = [col for col in numeric_cols if col not in ['UnixTime']]\n",
    "\n",
    "# Calculate the number of rows and columns for the grid\n",
    "n_cols = 4  # You can adjust the number of columns as needed\n",
    "n_rows = (len(cols_to_plot) + n_cols - 1) // n_cols\n",
    "\n",
    "plt.figure(figsize=(n_cols * 5, n_rows * 4)) # Adjust figure size as needed\n",
    "\n",
    "for i, col in enumerate(cols_to_plot):\n",
    "    plt.subplot(n_rows, n_cols, i + 1)\n",
    "    sns.histplot(df_20_EYE[col], kde=True)\n",
    "    plt.title(f'Distribution of {col}')\n",
    "    plt.xlabel(col)\n",
    "    plt.ylabel('Frequency')\n",
    "\n",
    "plt.tight_layout()\n",
    "plt.show()"
   ]
  },
  {
   "cell_type": "code",
   "execution_count": null,
   "id": "3c1538cc",
   "metadata": {},
   "outputs": [],
   "source": []
  },
  {
   "cell_type": "code",
   "execution_count": null,
   "id": "df8c9802",
   "metadata": {},
   "outputs": [],
   "source": []
  },
  {
   "cell_type": "code",
   "execution_count": null,
   "id": "ffdb2590",
   "metadata": {},
   "outputs": [],
   "source": []
  },
  {
   "cell_type": "code",
   "execution_count": null,
   "id": "cf4815fc",
   "metadata": {},
   "outputs": [],
   "source": []
  },
  {
   "cell_type": "code",
   "execution_count": null,
   "id": "75613bee",
   "metadata": {},
   "outputs": [],
   "source": []
  },
  {
   "cell_type": "code",
   "execution_count": null,
   "id": "7bab4d9d",
   "metadata": {},
   "outputs": [],
   "source": []
  },
  {
   "cell_type": "code",
   "execution_count": null,
   "id": "01e7056b",
   "metadata": {},
   "outputs": [],
   "source": []
  },
  {
   "cell_type": "code",
   "execution_count": null,
   "id": "8e5e2aa1",
   "metadata": {},
   "outputs": [],
   "source": []
  },
  {
   "cell_type": "code",
   "execution_count": null,
   "id": "fbc0b9ea",
   "metadata": {},
   "outputs": [],
   "source": []
  },
  {
   "cell_type": "code",
   "execution_count": null,
   "id": "766018a2",
   "metadata": {},
   "outputs": [],
   "source": []
  },
  {
   "cell_type": "code",
   "execution_count": null,
   "id": "dce2ae70",
   "metadata": {},
   "outputs": [],
   "source": []
  },
  {
   "cell_type": "code",
   "execution_count": null,
   "id": "cfce39c9",
   "metadata": {},
   "outputs": [],
   "source": []
  },
  {
   "cell_type": "markdown",
   "id": "9f652b20",
   "metadata": {},
   "source": [
    "# Eye Tracking Data Analysis\n",
    "\n",
    "This notebook performs exploratory data analysis and cleaning on eye-tracking data.\n",
    "\n",
    "## Data Loading and Initial Inspection"
   ]
  },
  {
   "cell_type": "code",
   "execution_count": null,
   "id": "12b0a7f6",
   "metadata": {},
   "outputs": [],
   "source": [
    "%load_ext cudf"
   ]
  },
  {
   "cell_type": "markdown",
   "id": "d7be204d",
   "metadata": {},
   "source": [
    "Import necessary libraries for data manipulation, analysis, and visualization."
   ]
  },
  {
   "cell_type": "code",
   "execution_count": null,
   "id": "5795bc24",
   "metadata": {},
   "outputs": [],
   "source": [
    "import numpy as np\n",
    "import pandas as pd\n",
    "import matplotlib.pyplot as plt\n",
    "import seaborn as sns"
   ]
  },
  {
   "cell_type": "markdown",
   "id": "9743f504",
   "metadata": {},
   "source": [
    "Import libraries for datashader, which can be used for visualizing large datasets."
   ]
  },
  {
   "cell_type": "code",
   "execution_count": null,
   "id": "6bb6b525",
   "metadata": {},
   "outputs": [],
   "source": [
    "import datashader as ds\n",
    "import datashader.transfer_functions as tf"
   ]
  },
  {
   "cell_type": "markdown",
   "id": "f0e0ab8a",
   "metadata": {},
   "source": [
    "Set pandas display options to show all columns."
   ]
  },
  {
   "cell_type": "code",
   "execution_count": null,
   "id": "59b503c6",
   "metadata": {},
   "outputs": [],
   "source": [
    "pd.set_option('display.max_columns', None)"
   ]
  },
  {
   "cell_type": "markdown",
   "id": "b7addb4a",
   "metadata": {},
   "source": [
    "Load the eye-tracking data from the specified CSV file into a pandas DataFrame."
   ]
  },
  {
   "cell_type": "code",
   "execution_count": null,
   "id": "59cd304d",
   "metadata": {},
   "outputs": [],
   "source": [
    "df_20_EYE = pd.read_csv('data/STData/20/20_EYE.csv')"
   ]
  },
  {
   "cell_type": "markdown",
   "id": "3bb4f1d0",
   "metadata": {},
   "source": [
    "Display the first few rows of the DataFrame to get an initial look at the data structure and content."
   ]
  },
  {
   "cell_type": "code",
   "execution_count": null,
   "id": "3679aeac",
   "metadata": {},
   "outputs": [],
   "source": [
    "df_20_EYE.head()"
   ]
  },
  {
   "cell_type": "markdown",
   "id": "f21e01a2",
   "metadata": {},
   "source": [
    "Check the dimensions (number of rows and columns) of the DataFrame."
   ]
  },
  {
   "cell_type": "code",
   "execution_count": null,
   "id": "3c413818",
   "metadata": {},
   "outputs": [],
   "source": [
    "df_20_EYE.shape"
   ]
  },
  {
   "cell_type": "markdown",
   "id": "ee67472e",
   "metadata": {},
   "source": [
    "List the names of all columns in the DataFrame."
   ]
  },
  {
   "cell_type": "code",
   "execution_count": null,
   "id": "3a4c3a8f",
   "metadata": {},
   "outputs": [],
   "source": [
    "df_20_EYE.columns"
   ]
  },
  {
   "cell_type": "markdown",
   "id": "8be58e77",
   "metadata": {},
   "source": [
    "Display concise information about the DataFrame, including the data types of each column and the number of non-null values. This helps identify columns with missing data."
   ]
  },
  {
   "cell_type": "code",
   "execution_count": null,
   "id": "4193ca02",
   "metadata": {},
   "outputs": [],
   "source": [
    "df_20_EYE.info()"
   ]
  },
  {
   "cell_type": "markdown",
   "id": "660d54a3",
   "metadata": {},
   "source": [
    "Calculate and display the number of missing values in each column."
   ]
  },
  {
   "cell_type": "code",
   "execution_count": null,
   "id": "f5f8daf1",
   "metadata": {},
   "outputs": [],
   "source": [
    "df_20_EYE.isnull().sum()"
   ]
  },
  {
   "cell_type": "markdown",
   "id": "e82a9313",
   "metadata": {},
   "source": [
    "Visualize the distribution of missing values using a heatmap. This provides a visual representation of which columns have missing data and the extent of missingness."
   ]
  },
  {
   "cell_type": "code",
   "execution_count": null,
   "id": "72e7a091",
   "metadata": {},
   "outputs": [],
   "source": [
    "plt.figure(figsize=(12,8))\n",
    "sns.heatmap(df_20_EYE.isnull(), cmap='viridis')\n",
    "plt.show()"
   ]
  },
  {
   "cell_type": "markdown",
   "id": "540c75e0",
   "metadata": {},
   "source": [
    "# Notes & Observations\n",
    "\n",
    "- We observe many **null** (or missing) values in the `QuestionKey` columns.\n",
    "- The nulls in the `QuestionKey` column may not represent “true” nulls. Rather, they follow interval patterns, suggesting that during those periods no question was displayed.\n",
    "- These missing values in `QuestionKey` require additional investigation and context-aware handling."
   ]
  },
  {
   "cell_type": "markdown",
   "id": "fdc1754b",
   "metadata": {},
   "source": [
    "Display the unique values in the `QuestionKey` column to understand the different types of questions or states recorded."
   ]
  },
  {
   "cell_type": "code",
   "execution_count": null,
   "id": "89730306",
   "metadata": {},
   "outputs": [],
   "source": [
    "df_20_EYE['QuestionKey'].unique()"
   ]
  },
  {
   "cell_type": "markdown",
   "id": "4d98ad77",
   "metadata": {},
   "source": [
    "Convert the `Timestamp` column to datetime objects. This is crucial for any time series analysis or manipulation."
   ]
  },
  {
   "cell_type": "code",
   "execution_count": null,
   "id": "2f481abb",
   "metadata": {},
   "outputs": [],
   "source": [
    "df_20_EYE['Timestamp'] = pd.to_datetime(df_20_EYE['Timestamp'])"
   ]
  },
  {
   "cell_type": "markdown",
   "id": "237d53e6",
   "metadata": {},
   "source": [
    "Display the first few rows again to see the effect of the timestamp conversion."
   ]
  },
  {
   "cell_type": "code",
   "execution_count": null,
   "id": "523e94b8",
   "metadata": {},
   "outputs": [],
   "source": [
    "df_20_EYE.head(3)"
   ]
  },
  {
   "cell_type": "markdown",
   "id": "89bfef85",
   "metadata": {},
   "source": [
    "Fill the missing values in the `QuestionKey` column with the string 'None'. This helps to explicitly mark periods where no question was active."
   ]
  },
  {
   "cell_type": "code",
   "execution_count": null,
   "id": "60007b4d",
   "metadata": {},
   "outputs": [],
   "source": [
    "df_20_EYE['QuestionKey'].fillna('None', inplace=True)"
   ]
  },
  {
   "cell_type": "markdown",
   "id": "fcf27f47",
   "metadata": {},
   "source": [
    "Count the occurrences of each unique value in the `QuestionKey` column after filling missing values."
   ]
  },
  {
   "cell_type": "code",
   "execution_count": null,
   "id": "ef77eb34",
   "metadata": {},
   "outputs": [],
   "source": [
    "df_20_EYE['QuestionKey'].value_counts()"
   ]
  },
  {
   "cell_type": "markdown",
   "id": "b5bdfaeb",
   "metadata": {},
   "source": [
    "Display the heatmap of missing values again to confirm that the missing values in `QuestionKey` have been handled."
   ]
  },
  {
   "cell_type": "code",
   "execution_count": null,
   "id": "a514d786",
   "metadata": {},
   "outputs": [],
   "source": [
    "plt.figure(figsize=(12,8))\n",
    "sns.heatmap(df_20_EYE.isnull(), cmap='viridis')\n",
    "plt.show()"
   ]
  },
  {
   "cell_type": "markdown",
   "id": "e4584a82",
   "metadata": {},
   "source": [
    "Recalculate and display the number of missing values per column to confirm the changes after handling `QuestionKey`."
   ]
  },
  {
   "cell_type": "code",
   "execution_count": null,
   "id": "70260185",
   "metadata": {},
   "outputs": [],
   "source": [
    "df_20_EYE.isnull().sum()"
   ]
  },
  {
   "cell_type": "markdown",
   "id": "f13e3c4a",
   "metadata": {},
   "source": [
    "Drop rows that still contain any missing values. This is done after handling `QuestionKey` separately."
   ]
  },
  {
   "cell_type": "code",
   "execution_count": null,
   "id": "59759c04",
   "metadata": {},
   "outputs": [],
   "source": [
    "df_20_EYE.dropna(inplace=True)"
   ]
  },
  {
   "cell_type": "markdown",
   "id": "960dee86",
   "metadata": {},
   "source": [
    "Display the first few rows after dropping rows with missing values."
   ]
  },
  {
   "cell_type": "code",
   "execution_count": null,
   "id": "0b1ffaf9",
   "metadata": {},
   "outputs": [],
   "source": [
    "df_20_EYE.head()"
   ]
  },
  {
   "cell_type": "markdown",
   "id": "bb58d530",
   "metadata": {},
   "source": [
    "Display the unique values in the `Row` column."
   ]
  },
  {
   "cell_type": "code",
   "execution_count": null,
   "id": "c459f885",
   "metadata": {},
   "outputs": [],
   "source": [
    "df_20_EYE['Row'].unique()"
   ]
  },
  {
   "cell_type": "markdown",
   "id": "73b1af88",
   "metadata": {},
   "source": [
    "Plot a histogram of the `Row` column to visualize its distribution."
   ]
  },
  {
   "cell_type": "code",
   "execution_count": null,
   "id": "e0690e52",
   "metadata": {},
   "outputs": [],
   "source": [
    "plt.figure(figsize=(8,6))\n",
    "sns.histplot(df_20_EYE['Row'])\n",
    "plt.show()"
   ]
  },
  {
   "cell_type": "markdown",
   "id": "1fd8de68",
   "metadata": {},
   "source": [
    "# Notes & Observations\n",
    "\n",
    "- The `Row` column appears to be a simple row index and does not provide meaningful information relevant to the eye-tracking data itself. Therefore, it can be dropped."
   ]
  },
  {
   "cell_type": "markdown",
   "id": "2c7052f0",
   "metadata": {},
   "source": [
    "Drop the `Row` column as it is not relevant for the analysis."
   ]
  },
  {
   "cell_type": "code",
   "execution_count": null,
   "id": "7a64e18b",
   "metadata": {},
   "outputs": [],
   "source": [
    "df_20_EYE.drop('Row', axis=1, inplace=True)"
   ]
  },
  {
   "cell_type": "markdown",
   "id": "728034a4",
   "metadata": {},
   "source": [
    "Display the unique values in the `ET_ValidityLeft` column."
   ]
  },
  {
   "cell_type": "code",
   "execution_count": null,
   "id": "ecc64069",
   "metadata": {},
   "outputs": [],
   "source": [
    "df_20_EYE['ET_ValidityLeft'].unique()"
   ]
  },
  {
   "cell_type": "markdown",
   "id": "8562b218",
   "metadata": {},
   "source": [
    "Count the occurrences of each unique value in the `ET_ValidityLeft` column."
   ]
  },
  {
   "cell_type": "code",
   "execution_count": null,
   "id": "7e637876",
   "metadata": {},
   "outputs": [],
   "source": [
    "df_20_EYE['ET_ValidityLeft'].value_counts()"
   ]
  },
  {
   "cell_type": "markdown",
   "id": "da95c412",
   "metadata": {},
   "source": [
    "Display the unique values in the `ET_ValidityRight` column."
   ]
  },
  {
   "cell_type": "code",
   "execution_count": null,
   "id": "11f8ce5e",
   "metadata": {},
   "outputs": [],
   "source": [
    "df_20_EYE['ET_ValidityRight'].unique()"
   ]
  },
  {
   "cell_type": "markdown",
   "id": "bfc5af8f",
   "metadata": {},
   "source": [
    "Count the occurrences of each unique value in the `ET_ValidityRight` column."
   ]
  },
  {
   "cell_type": "code",
   "execution_count": null,
   "id": "2f9f389b",
   "metadata": {},
   "outputs": [],
   "source": [
    "df_20_EYE['ET_ValidityRight'].value_counts()"
   ]
  },
  {
   "cell_type": "markdown",
   "id": "a1c03321",
   "metadata": {},
   "source": [
    "Visualize the counts of valid and invalid data for both left and right eyes using bar plots."
   ]
  },
  {
   "cell_type": "code",
   "execution_count": null,
   "id": "40687e17",
   "metadata": {},
   "outputs": [],
   "source": [
    "plt.figure(figsize=(12, 6))\n",
    "\n",
    "plt.subplot(1, 2, 1)\n",
    "sns.barplot(x=df_20_EYE['ET_ValidityLeft'].value_counts().index, y=df_20_EYE['ET_ValidityLeft'].value_counts().values)\n",
    "plt.title('Count of ET_ValidityLeft')\n",
    "plt.xlabel('Validity')\n",
    "plt.ylabel('Count')\n",
    "\n",
    "\n",
    "plt.subplot(1, 2, 2)\n",
    "sns.barplot(x=df_20_EYE['ET_ValidityRight'].value_counts().index, y=df_20_EYE['ET_ValidityRight'].value_counts().values)\n",
    "plt.title('Count of ET_ValidityRight')\n",
    "plt.xlabel('Validity')\n",
    "plt.ylabel('Count')\n",
    "\n",
    "plt.tight_layout()\n",
    "plt.show()"
   ]
  },
  {
   "cell_type": "markdown",
   "id": "283e5070",
   "metadata": {},
   "source": [
    "# Notes & Observations\n",
    "\n",
    "- The `ET_ValidityLeft` and `ET_ValidityRight` columns indicate the validity of the eye-tracking data for the left and right eye, respectively.\n",
    "- Based on the value counts and the bar plots, it appears that a value of `0.0` represents valid eye-tracking data, while a value of `4.0` represents invalid data.\n",
    "- Although the amount of invalid data is relatively small, removing these rows could introduce unwanted patterns or gaps in the time series data.\n",
    "- Therefore, we will keep the data and replace the value `4.0` with `1.0` in both `ET_ValidityLeft` and `ET_ValidityRight` columns. This will indicate to a machine learning model that the eye tracker had invalid data at those specific points in time while maintaining the integrity of the time series."
   ]
  },
  {
   "cell_type": "markdown",
   "id": "3e17d88a",
   "metadata": {},
   "source": [
    "Define a mapping to convert validity values from `0.0` and `4.0` to `0` and `1`."
   ]
  },
  {
   "cell_type": "code",
   "execution_count": null,
   "id": "96fa29e2",
   "metadata": {},
   "outputs": [],
   "source": [
    "validity_map = {4.0: 1.0, 0.0: 0.0}"
   ]
  },
  {
   "cell_type": "markdown",
   "id": "1bf808b9",
   "metadata": {},
   "source": [
    "Apply the mapping to the `ET_ValidityLeft` and `ET_ValidityRight` columns and convert the data type to integer."
   ]
  },
  {
   "cell_type": "code",
   "execution_count": null,
   "id": "c465076f",
   "metadata": {},
   "outputs": [],
   "source": [
    "df_20_EYE['ET_ValidityLeft'] = df_20_EYE['ET_ValidityLeft'].map(validity_map).astype(np.int8)\n",
    "df_20_EYE['ET_ValidityRight'] = df_20_EYE['ET_ValidityRight'].map(validity_map).astype(np.int8)"
   ]
  },
  {
   "cell_type": "markdown",
   "id": "cdbc7036",
   "metadata": {},
   "source": [
    "Display the first few rows to see the updated validity columns."
   ]
  },
  {
   "cell_type": "code",
   "execution_count": null,
   "id": "2c7ea880",
   "metadata": {},
   "outputs": [],
   "source": [
    "df_20_EYE.head(3)"
   ]
  },
  {
   "cell_type": "markdown",
   "id": "cae0c684",
   "metadata": {},
   "source": [
    "Display descriptive statistics for the DataFrame, including count, mean, standard deviation, min, max, and quartiles for numeric columns."
   ]
  },
  {
   "cell_type": "code",
   "execution_count": null,
   "id": "ab4625ed",
   "metadata": {},
   "outputs": [],
   "source": [
    "df_20_EYE.describe()"
   ]
  },
  {
   "cell_type": "markdown",
   "id": "13d497b8",
   "metadata": {},
   "source": [
    "Check the number of rows where `ET_ValidityLeft` is 1 (invalid data for the left eye)."
   ]
  },
  {
   "cell_type": "code",
   "execution_count": null,
   "id": "9b2abb95",
   "metadata": {},
   "outputs": [],
   "source": [
    "df_20_EYE[df_20_EYE['ET_ValidityLeft'] == 1].shape"
   ]
  },
  {
   "cell_type": "markdown",
   "id": "e2647cc7",
   "metadata": {},
   "source": [
    "Check the number of rows where `ET_ValidityRight` is 1 (invalid data for the right eye)."
   ]
  },
  {
   "cell_type": "code",
   "execution_count": null,
   "id": "d5e1ba61",
   "metadata": {},
   "outputs": [],
   "source": [
    "df_20_EYE[df_20_EYE['ET_ValidityRight'] == 1].shape"
   ]
  },
  {
   "cell_type": "markdown",
   "id": "f2379381",
   "metadata": {},
   "source": [
    "Visualize the distribution of -1 and 1 values across columns using heatmaps. This helps identify columns with placeholder or indicator values."
   ]
  },
  {
   "cell_type": "code",
   "execution_count": null,
   "id": "c64d6cc2",
   "metadata": {},
   "outputs": [],
   "source": [
    "plt.figure(figsize=(18, 8))\n",
    "\n",
    "plt.subplot(1, 2, 1)\n",
    "sns.heatmap(df_20_EYE == -1, cmap='viridis')\n",
    "plt.title('Heatmap of -1 Values')\n",
    "\n",
    "plt.subplot(1, 2, 2)\n",
    "sns.heatmap(df_20_EYE == 1, cmap='viridis')\n",
    "plt.title('Heatmap of 1 Values')\n",
    "\n",
    "plt.tight_layout()\n",
    "plt.show()"
   ]
  },
  {
   "cell_type": "markdown",
   "id": "56ffe8e0",
   "metadata": {},
   "source": [
    "Check the number of rows where `ET_PupilLeft` is -1."
   ]
  },
  {
   "cell_type": "code",
   "execution_count": null,
   "id": "37bcb8d1",
   "metadata": {},
   "outputs": [],
   "source": [
    "df_20_EYE[df_20_EYE['ET_PupilLeft'] == -1].shape"
   ]
  },
  {
   "cell_type": "markdown",
   "id": "174bd2da",
   "metadata": {},
   "source": [
    "Check the number of rows where `ET_PupilRight` is -1."
   ]
  },
  {
   "cell_type": "code",
   "execution_count": null,
   "id": "f0de54f0",
   "metadata": {},
   "outputs": [],
   "source": [
    "df_20_EYE[df_20_EYE['ET_PupilRight'] == -1].shape"
   ]
  },
  {
   "cell_type": "markdown",
   "id": "9e7e4e79",
   "metadata": {},
   "source": [
    "Calculate the ratio of rows with -1 values in the `ET_PupilLeft` column to the total number of rows."
   ]
  },
  {
   "cell_type": "code",
   "execution_count": null,
   "id": "8a8763e4",
   "metadata": {},
   "outputs": [],
   "source": [
    "df_20_EYE[df_20_EYE['ET_PupilLeft'] == -1].shape[0] / df_20_EYE.shape[0]"
   ]
  },
  {
   "cell_type": "markdown",
   "id": "a5b92791",
   "metadata": {},
   "source": [
    "Calculate the ratio of rows with -1 values in the `ET_PupilRight` column to the total number of rows."
   ]
  },
  {
   "cell_type": "code",
   "execution_count": null,
   "id": "c7328222",
   "metadata": {},
   "outputs": [],
   "source": [
    "df_20_EYE[df_20_EYE['ET_PupilRight'] == -1].shape[0] / df_20_EYE.shape[0]"
   ]
  },
  {
   "cell_type": "markdown",
   "id": "3316eabe",
   "metadata": {},
   "source": [
    "Visualize the distribution of -1 values specifically for rows where validity is 1 (invalid data)."
   ]
  },
  {
   "cell_type": "code",
   "execution_count": null,
   "id": "605b1278",
   "metadata": {},
   "outputs": [],
   "source": [
    "plt.figure(figsize=(18, 8))\n",
    "\n",
    "plt.subplot(1, 2, 1)\n",
    "sns.heatmap(df_20_EYE[df_20_EYE['ET_ValidityLeft'] == 1] == -1, cmap='viridis')\n",
    "plt.title('Heatmap of -1 Values')\n",
    "\n",
    "plt.subplot(1, 2, 2)\n",
    "sns.heatmap(df_20_EYE[df_20_EYE['ET_ValidityRight'] == 1] == -1, cmap='viridis')\n",
    "plt.title('Heatmap of -1 Values')\n",
    "\n",
    "plt.tight_layout()\n",
    "plt.show()"
   ]
  },
  {
   "cell_type": "markdown",
   "id": "d9f78286",
   "metadata": {},
   "source": [
    "# Notes & Observations\n",
    "\n",
    "- The heatmaps reveal the distribution of -1 values across different columns.\n",
    "- It is evident that the `-1` values are not randomly scattered but appear in specific columns, notably `ET_GazeLeftx`, `ET_GazeLefty`, `ET_GazeRightx`, `ET_GazeRighty`, `ET_PupilLeft`, `ET_PupilRight`, `ET_DistanceLeft`, `ET_DistanceRight`, `ET_CameraLeftX`, `ET_CameraLeftY`, `ET_CameraRightX`, and `ET_CameraRightY`.\n",
    "- These `-1` values often coincide with instances where `ET_ValidityLeft` or `ET_ValidityRight` is 1, indicating invalid eye-tracking data. This suggests that `-1` is used as a placeholder for missing or invalid measurements in these columns when the eye tracker is not providing valid data for a particular eye.\n",
    "- Given that over 70% of the data in the `ET_PupilLeft` and `ET_PupilRight` columns is marked as invalid (-1), these columns may not be suitable for analysis and could be considered for dropping."
   ]
  },
  {
   "cell_type": "markdown",
   "id": "f678e070",
   "metadata": {},
   "source": [
    "Drop the `ET_PupilLeft` and `ET_PupilRight` columns due to the high percentage of invalid data."
   ]
  },
  {
   "cell_type": "code",
   "execution_count": null,
   "id": "a7d7698d",
   "metadata": {},
   "outputs": [],
   "source": [
    "df_20_EYE.drop(['ET_PupilLeft', 'ET_PupilRight'], axis=1, inplace=True)"
   ]
  },
  {
   "cell_type": "markdown",
   "id": "1504eee6",
   "metadata": {},
   "source": [
    "Display the first few rows after dropping the pupil columns."
   ]
  },
  {
   "cell_type": "code",
   "execution_count": null,
   "id": "65c9b08e",
   "metadata": {},
   "outputs": [],
   "source": [
    "df_20_EYE.head()"
   ]
  },
  {
   "cell_type": "markdown",
   "id": "833db905",
   "metadata": {},
   "source": [
    "Visualize the distribution of -1 and 1 values again after dropping the pupil columns."
   ]
  },
  {
   "cell_type": "code",
   "execution_count": null,
   "id": "61620766",
   "metadata": {},
   "outputs": [],
   "source": [
    "plt.figure(figsize=(18, 8))\n",
    "\n",
    "plt.subplot(1, 2, 1)\n",
    "sns.heatmap(df_20_EYE == -1, cmap='viridis')\n",
    "plt.title('Heatmap of -1 Values')\n",
    "\n",
    "plt.subplot(1, 2, 2)\n",
    "sns.heatmap(df_20_EYE == 1, cmap='viridis')\n",
    "plt.title('Heatmap of -1 Values')\n",
    "\n",
    "plt.tight_layout()\n",
    "plt.show()"
   ]
  },
  {
   "cell_type": "markdown",
   "id": "0cba033f",
   "metadata": {},
   "source": [
    "Calculate the ratio of valid data points for the left eye."
   ]
  },
  {
   "cell_type": "code",
   "execution_count": null,
   "id": "839aa256",
   "metadata": {},
   "outputs": [],
   "source": [
    "valid_left_ratio  = 1 - df_20_EYE['ET_ValidityLeft'].mean()"
   ]
  },
  {
   "cell_type": "markdown",
   "id": "7a190db8",
   "metadata": {},
   "source": [
    "Display the ratio of valid data points for the left eye."
   ]
  },
  {
   "cell_type": "code",
   "execution_count": null,
   "id": "94084923",
   "metadata": {},
   "outputs": [],
   "source": [
    "valid_left_ratio"
   ]
  },
  {
   "cell_type": "markdown",
   "id": "7bbb455f",
   "metadata": {},
   "source": [
    "Calculate the ratio of valid data points for the right eye."
   ]
  },
  {
   "cell_type": "code",
   "execution_count": null,
   "id": "d9ce2b34",
   "metadata": {},
   "outputs": [],
   "source": [
    "valid_right_ratio = 1 - df_20_EYE['ET_ValidityRight'].mean()"
   ]
  },
  {
   "cell_type": "markdown",
   "id": "c1f05d69",
   "metadata": {},
   "source": [
    "Display the ratio of valid data points for the right eye."
   ]
  },
  {
   "cell_type": "code",
   "execution_count": null,
   "id": "28d58b9e",
   "metadata": {},
   "outputs": [],
   "source": [
    "valid_right_ratio"
   ]
  },
  {
   "cell_type": "markdown",
   "id": "b5fd225f",
   "metadata": {},
   "source": [
    "Display the first few rows of the DataFrame."
   ]
  },
  {
   "cell_type": "code",
   "execution_count": null,
   "id": "81c796ee",
   "metadata": {},
   "outputs": [],
   "source": [
    "df_20_EYE.head()"
   ]
  },
  {
   "cell_type": "markdown",
   "id": "4ab02e78",
   "metadata": {},
   "source": [
    "Visualize the distributions of numeric columns using histograms with Kernel Density Estimate (KDE) plots. This helps understand the shape and spread of the data in each numeric column."
   ]
  },
  {
   "cell_type": "code",
   "execution_count": null,
   "id": "0b18f0d9",
   "metadata": {},
   "outputs": [],
   "source": [
    "# Select only the numeric columns for plotting histograms, excluding time-related columns\n",
    "numeric_cols = df_20_EYE.select_dtypes(include=np.number).columns\n",
    "cols_to_plot = [col for col in numeric_cols if col not in ['UnixTime']]\n",
    "\n",
    "# Calculate the number of rows and columns for the grid\n",
    "n_cols = 4  # You can adjust the number of columns as needed\n",
    "n_rows = (len(cols_to_plot) + n_cols - 1) // n_cols\n",
    "\n",
    "plt.figure(figsize=(n_cols * 5, n_rows * 4)) # Adjust figure size as needed\n",
    "\n",
    "for i, col in enumerate(cols_to_plot):\n",
    "    plt.subplot(n_rows, n_cols, i + 1)\n",
    "    sns.histplot(df_20_EYE[col], kde=True)\n",
    "    plt.title(f'Distribution of {col}')\n",
    "    plt.xlabel(col)\n",
    "    plt.ylabel('Frequency')\n",
    "\n",
    "plt.tight_layout()\n",
    "plt.show()"
   ]
  },
  {
   "cell_type": "markdown",
   "id": "b30466e2",
   "metadata": {},
   "source": [
    "List the names of the columns in the DataFrame."
   ]
  },
  {
   "cell_type": "code",
   "execution_count": null,
   "id": "c080a893",
   "metadata": {},
   "outputs": [],
   "source": [
    "df_20_EYE.columns"
   ]
  },
  {
   "cell_type": "markdown",
   "id": "9326923a",
   "metadata": {},
   "source": [
    "Define a list of columns to be plotted over time."
   ]
  },
  {
   "cell_type": "code",
   "execution_count": null,
   "id": "39a17f37",
   "metadata": {},
   "outputs": [],
   "source": [
    "cols = ['ET_GazeLeftx', 'ET_GazeLefty',\n",
    "       'ET_GazeRightx', 'ET_GazeRighty', 'ET_TimeSignal', 'ET_DistanceLeft',\n",
    "       'ET_DistanceRight', 'ET_CameraLeftX', 'ET_CameraLeftY',\n",
    "       'ET_CameraRightX', 'ET_CameraRightY', 'ET_ValidityLeft',\n",
    "       'ET_ValidityRight']"
   ]
  },
  {
   "cell_type": "markdown",
   "id": "d6f4f7c3",
   "metadata": {},
   "source": [
    "Plot each of the selected columns against the timestamp to visualize their trends and patterns over time. Markdown cells are added before each plot for better readability."
   ]
  },
  {
   "cell_type": "code",
   "execution_count": null,
   "id": "0b85c1b2",
   "metadata": {},
   "outputs": [],
   "source": [
    "from IPython.display import display, Markdown\n",
    "\n",
    "for col in cols:\n",
    "    # Add a markdown cell before each plot for better separation and labeling\n",
    "    display(Markdown(f'### {col} over Time'))\n",
    "    plt.figure(figsize=(16, 10))\n",
    "    plt.plot(df_20_EYE['Timestamp'], df_20_EYE[col])\n",
    "    plt.xlabel(\"Timestamp\") # Add x-axis label\n",
    "    plt.ylabel(col) # Add y-axis label\n",
    "    plt.show()"
   ]
  },
  {
   "cell_type": "markdown",
   "id": "a3e2c2e8",
   "metadata": {},
   "source": [
    "Visualize the distributions of numeric columns using boxplots. This helps identify potential outliers and the spread of the data."
   ]
  },
  {
   "cell_type": "code",
   "execution_count": null,
   "id": "8452bba0",
   "metadata": {},
   "outputs": [],
   "source": [
    "# Select only the numeric columns for plotting histograms, excluding time-related columns\n",
    "numeric_cols = df_20_EYE.select_dtypes(include=np.number).columns\n",
    "\n",
    "# Calculate the number of rows and columns for the grid\n",
    "n_cols = 4  # You can adjust the number of columns as needed\n",
    "n_rows = (len(numeric_cols) + n_cols - 1) // n_cols\n",
    "\n",
    "plt.figure(figsize=(n_cols * 5, n_rows * 4)) # Adjust figure size as needed\n",
    "\n",
    "for i, col in enumerate(numeric_cols):\n",
    "    plt.subplot(n_rows, n_cols, i + 1)\n",
    "    sns.boxplot(df_20_EYE[col])\n",
    "    plt.title(f'Boxplot of {col}')\n",
    "    plt.xlabel(col)\n",
    "\n",
    "plt.tight_layout()\n",
    "plt.show()"
   ]
  },
  {
   "cell_type": "markdown",
   "id": "b989acc1",
   "metadata": {},
   "source": [
    "Replace the placeholder value -1 with NaN (Not a Number) in the DataFrame. This is done before imputation."
   ]
  },
  {
   "cell_type": "code",
   "execution_count": null,
   "id": "e0e73907",
   "metadata": {},
   "outputs": [],
   "source": [
    "df_20_EYE.replace({-1: np.nan}, inplace=True)"
   ]
  },
  {
   "cell_type": "markdown",
   "id": "2833fb1b",
   "metadata": {},
   "source": [
    "Impute the missing values (NaN) in the numeric columns with the mean of each column."
   ]
  },
  {
   "cell_type": "code",
   "execution_count": null,
   "id": "724c0ff6",
   "metadata": {},
   "outputs": [],
   "source": [
    "numeric_cols = df_20_EYE.select_dtypes(include=np.number).columns\n",
    "\n",
    "for col in numeric_cols:\n",
    "    df_20_EYE[col].fillna(df_20_EYE[col].mean(), inplace=True)"
   ]
  },
  {
   "cell_type": "markdown",
   "id": "edea6ac8",
   "metadata": {},
   "source": [
    "Display the first few rows after imputing missing values."
   ]
  },
  {
   "cell_type": "code",
   "execution_count": null,
   "id": "75d55466",
   "metadata": {},
   "outputs": [],
   "source": [
    "df_20_EYE.head()"
   ]
  },
  {
   "cell_type": "markdown",
   "id": "bc1b6f07",
   "metadata": {},
   "source": [
    "Visualize the distributions of numeric columns again using histograms with KDE plots after imputation. This helps assess the impact of imputation on the data distributions."
   ]
  },
  {
   "cell_type": "code",
   "execution_count": null,
   "id": "db1b6bf5",
   "metadata": {},
   "outputs": [],
   "source": [
    "# Select only the numeric columns for plotting histograms, excluding time-related columns\n",
    "numeric_cols = df_20_EYE.select_dtypes(include=np.number).columns\n",
    "cols_to_plot = [col for col in numeric_cols if col not in ['UnixTime']]\n",
    "\n",
    "# Calculate the number of rows and columns for the grid\n",
    "n_cols = 4  # You can adjust the number of columns as needed\n",
    "n_rows = (len(cols_to_plot) + n_cols - 1) // n_cols\n",
    "\n",
    "plt.figure(figsize=(n_cols * 5, n_rows * 4)) # Adjust figure size as needed\n",
    "\n",
    "for i, col in enumerate(cols_to_plot):\n",
    "    plt.subplot(n_rows, n_cols, i + 1)\n",
    "    sns.histplot(df_20_EYE[col], kde=True)\n",
    "    plt.title(f'Distribution of {col}')\n",
    "    plt.xlabel(col)\n",
    "    plt.ylabel('Frequency')\n",
    "\n",
    "plt.tight_layout()\n",
    "plt.show()"
   ]
  },
  {
   "cell_type": "code",
   "execution_count": null,
   "id": "2841b413",
   "metadata": {},
   "outputs": [],
   "source": []
  }
 ],
 "metadata": {},
 "nbformat": 4,
 "nbformat_minor": 5
}
