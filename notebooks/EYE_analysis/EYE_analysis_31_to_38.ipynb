{
 "cells": [
  {
   "cell_type": "markdown",
   "id": "c83f0882",
   "metadata": {
    "id": "bee36084"
   },
   "source": [
    "# Eye Tracking Data Analysis\n",
    "\n",
    "This notebook performs exploratory data analysis and cleaning on eye-tracking data.\n"
   ]
  },
  {
   "cell_type": "code",
   "execution_count": null,
   "id": "b28ffa41",
   "metadata": {
    "id": "2859523e"
   },
   "outputs": [],
   "source": [
    "%load_ext cudf"
   ]
  },
  {
   "cell_type": "code",
   "execution_count": null,
   "id": "3fb21abd",
   "metadata": {
    "id": "1d3880d5"
   },
   "outputs": [],
   "source": [
    "import numpy as np\n",
    "import pandas as pd\n",
    "import matplotlib.pyplot as plt\n",
    "import seaborn as sns"
   ]
  },
  {
   "cell_type": "code",
   "execution_count": null,
   "id": "5ef5367e",
   "metadata": {
    "id": "da8bfd20"
   },
   "outputs": [],
   "source": [
    "import datashader as ds\n",
    "import datashader.transfer_functions as tf"
   ]
  },
  {
   "cell_type": "code",
   "execution_count": null,
   "id": "7117e764",
   "metadata": {
    "id": "2471d2fd"
   },
   "outputs": [],
   "source": [
    "pd.set_option('display.max_columns', None)"
   ]
  },
  {
   "cell_type": "markdown",
   "id": "e7ec6d81",
   "metadata": {
    "id": "sMcHS8LIOGeT"
   },
   "source": [
    "# **31_EYE**"
   ]
  },
  {
   "cell_type": "code",
   "execution_count": null,
   "id": "0424019a",
   "metadata": {
    "id": "L2tJooyROWnM"
   },
   "outputs": [],
   "source": []
  },
  {
   "cell_type": "code",
   "execution_count": null,
   "id": "4c523885",
   "metadata": {
    "id": "6c647c4f"
   },
   "outputs": [],
   "source": [
    "df_31_EYE = pd.read_csv('data/STData/31/31_EYE.csv')"
   ]
  },
  {
   "cell_type": "code",
   "execution_count": null,
   "id": "8817d17d",
   "metadata": {
    "id": "c229bba7"
   },
   "outputs": [],
   "source": [
    "df_31_EYE.head()"
   ]
  },
  {
   "cell_type": "code",
   "execution_count": null,
   "id": "03dec361",
   "metadata": {
    "id": "0ec8e716"
   },
   "outputs": [],
   "source": [
    "df_31_EYE.shape"
   ]
  },
  {
   "cell_type": "code",
   "execution_count": null,
   "id": "53dab3b0",
   "metadata": {
    "id": "43ba37eb"
   },
   "outputs": [],
   "source": [
    "df_31_EYE.columns"
   ]
  },
  {
   "cell_type": "code",
   "execution_count": null,
   "id": "245c2439",
   "metadata": {
    "id": "19f68fb4"
   },
   "outputs": [],
   "source": [
    "df_31_EYE.info()"
   ]
  },
  {
   "cell_type": "code",
   "execution_count": null,
   "id": "f993ace8",
   "metadata": {
    "id": "603369d7"
   },
   "outputs": [],
   "source": [
    "df_31_EYE.isnull().sum()"
   ]
  },
  {
   "cell_type": "code",
   "execution_count": null,
   "id": "ba107379",
   "metadata": {
    "id": "874353e3"
   },
   "outputs": [],
   "source": [
    "plt.figure(figsize=(12,8))\n",
    "sns.heatmap(df_31_EYE.isnull(), cmap='viridis')\n",
    "plt.show()"
   ]
  },
  {
   "cell_type": "markdown",
   "id": "4115239a",
   "metadata": {
    "id": "b17906e7"
   },
   "source": [
    "# Notes & Observations\n",
    "\n",
    "- We observe many **null** (or missing) values in the `QuestionKey` columns.\n",
    "- The nulls in the `QuestionKey` column may not represent “true” nulls. Rather, they follow interval patterns, suggesting that during those periods no question was displayed.\n",
    "- These missing values in `QuestionKey` require additional investigation and context-aware handling."
   ]
  },
  {
   "cell_type": "code",
   "execution_count": null,
   "id": "e75e9ebb",
   "metadata": {
    "id": "1113779e"
   },
   "outputs": [],
   "source": [
    "df_31_EYE['QuestionKey'].unique()"
   ]
  },
  {
   "cell_type": "code",
   "execution_count": null,
   "id": "1cdd117e",
   "metadata": {
    "id": "db0a93a2"
   },
   "outputs": [],
   "source": [
    "df_31_EYE['Timestamp'] = pd.to_datetime(df_31_EYE['Timestamp'])"
   ]
  },
  {
   "cell_type": "code",
   "execution_count": null,
   "id": "e6410862",
   "metadata": {
    "id": "03d57b0a"
   },
   "outputs": [],
   "source": [
    "df_31_EYE.head(3)"
   ]
  },
  {
   "cell_type": "code",
   "execution_count": null,
   "id": "f50c857d",
   "metadata": {
    "id": "c0004029"
   },
   "outputs": [],
   "source": [
    "df_31_EYE['QuestionKey'] = df_31_EYE['QuestionKey'].fillna('None')"
   ]
  },
  {
   "cell_type": "code",
   "execution_count": null,
   "id": "6af7e1e9",
   "metadata": {
    "id": "dfb4729e"
   },
   "outputs": [],
   "source": [
    "df_31_EYE['QuestionKey'].value_counts()"
   ]
  },
  {
   "cell_type": "code",
   "execution_count": null,
   "id": "63c55b1b",
   "metadata": {
    "id": "9353c9d8"
   },
   "outputs": [],
   "source": [
    "plt.figure(figsize=(12,8))\n",
    "sns.heatmap(df_31_EYE.isnull(), cmap='viridis')\n",
    "plt.show()"
   ]
  },
  {
   "cell_type": "code",
   "execution_count": null,
   "id": "007118af",
   "metadata": {
    "id": "5c73d150"
   },
   "outputs": [],
   "source": [
    "df_31_EYE.isnull().sum()"
   ]
  },
  {
   "cell_type": "code",
   "execution_count": null,
   "id": "8f43fc3a",
   "metadata": {
    "id": "6c700142"
   },
   "outputs": [],
   "source": [
    "df_31_EYE.dropna(inplace=True)"
   ]
  },
  {
   "cell_type": "code",
   "execution_count": null,
   "id": "d3629e5b",
   "metadata": {
    "id": "90a604ce"
   },
   "outputs": [],
   "source": [
    "df_31_EYE.head()"
   ]
  },
  {
   "cell_type": "code",
   "execution_count": null,
   "id": "fe733545",
   "metadata": {
    "id": "a43a4283"
   },
   "outputs": [],
   "source": [
    "df_31_EYE['Row'].unique()"
   ]
  },
  {
   "cell_type": "code",
   "execution_count": null,
   "id": "d705d725",
   "metadata": {
    "id": "f66566f9"
   },
   "outputs": [],
   "source": [
    "plt.figure(figsize=(8,6))\n",
    "sns.histplot(df_31_EYE['Row'])\n",
    "plt.show()"
   ]
  },
  {
   "cell_type": "markdown",
   "id": "95f140ba",
   "metadata": {
    "id": "5ddf40fd"
   },
   "source": [
    "# Notes & Observations\n",
    "\n",
    "- The `Row` column appears to be a simple row index and does not provide meaningful information relevant to the eye-tracking data itself. Therefore, it can be dropped."
   ]
  },
  {
   "cell_type": "code",
   "execution_count": null,
   "id": "0e6237ab",
   "metadata": {
    "id": "5aee4404"
   },
   "outputs": [],
   "source": [
    "df_31_EYE.drop('Row', axis=1, inplace=True)"
   ]
  },
  {
   "cell_type": "code",
   "execution_count": null,
   "id": "6377e18d",
   "metadata": {
    "id": "827f3274"
   },
   "outputs": [],
   "source": [
    "df_31_EYE['ET_ValidityLeft'].unique()"
   ]
  },
  {
   "cell_type": "code",
   "execution_count": null,
   "id": "e32664db",
   "metadata": {
    "id": "1437751a"
   },
   "outputs": [],
   "source": [
    "df_31_EYE['ET_ValidityLeft'].value_counts()"
   ]
  },
  {
   "cell_type": "code",
   "execution_count": null,
   "id": "1f67ec9a",
   "metadata": {
    "id": "d0a9ee4a"
   },
   "outputs": [],
   "source": [
    "df_31_EYE['ET_ValidityRight'].unique()"
   ]
  },
  {
   "cell_type": "code",
   "execution_count": null,
   "id": "5f95a1dd",
   "metadata": {
    "id": "55ddcc2b"
   },
   "outputs": [],
   "source": [
    "df_31_EYE['ET_ValidityRight'].value_counts()"
   ]
  },
  {
   "cell_type": "code",
   "execution_count": null,
   "id": "4676dbe7",
   "metadata": {
    "id": "faef00be"
   },
   "outputs": [],
   "source": [
    "plt.figure(figsize=(12, 6))\n",
    "\n",
    "plt.subplot(1, 2, 1)\n",
    "sns.barplot(x=df_31_EYE['ET_ValidityLeft'].value_counts().index, y=df_31_EYE['ET_ValidityLeft'].value_counts().values)\n",
    "plt.title('Count of ET_ValidityLeft')\n",
    "plt.xlabel('Validity')\n",
    "plt.ylabel('Count')\n",
    "\n",
    "\n",
    "plt.subplot(1, 2, 2)\n",
    "sns.barplot(x=df_31_EYE['ET_ValidityRight'].value_counts().index, y=df_31_EYE['ET_ValidityRight'].value_counts().values)\n",
    "plt.title('Count of ET_ValidityRight')\n",
    "plt.xlabel('Validity')\n",
    "plt.ylabel('Count')\n",
    "\n",
    "plt.tight_layout()\n",
    "plt.show()"
   ]
  },
  {
   "cell_type": "markdown",
   "id": "93a26125",
   "metadata": {
    "id": "b43706ea"
   },
   "source": [
    "# Notes & Observations\n",
    "\n",
    "- The `ET_ValidityLeft` and `ET_ValidityRight` columns indicate the validity of the eye-tracking data for the left and right eye, respectively.\n",
    "- Based on the value counts and the bar plots, it appears that a value of `0.0` represents valid eye-tracking data, while a value of `4.0` represents invalid data.\n",
    "- Although the amount of invalid data is relatively small, removing these rows could introduce unwanted patterns or gaps in the time series data.\n",
    "- Therefore, we will keep the data and replace the value `4.0` with `1.0` in both `ET_ValidityLeft` and `ET_ValidityRight` columns. This will indicate to a machine learning model that the eye tracker had invalid data at those specific points in time while maintaining the integrity of the time series."
   ]
  },
  {
   "cell_type": "markdown",
   "id": "985db36f",
   "metadata": {
    "id": "e9e671b2"
   },
   "source": [
    "Define a mapping to convert validity values from `0.0` and `4.0` to `0` and `1`."
   ]
  },
  {
   "cell_type": "code",
   "execution_count": null,
   "id": "6c3f8401",
   "metadata": {
    "id": "08e7ed71"
   },
   "outputs": [],
   "source": [
    "validity_map = {4.0: 1.0, 0.0: 0.0}"
   ]
  },
  {
   "cell_type": "code",
   "execution_count": null,
   "id": "8c84ed7a",
   "metadata": {
    "id": "0bba3ac0"
   },
   "outputs": [],
   "source": [
    "df_31_EYE['ET_ValidityLeft'] = df_31_EYE['ET_ValidityLeft'].map(validity_map).astype(np.int8)\n",
    "df_31_EYE['ET_ValidityRight'] = df_31_EYE['ET_ValidityRight'].map(validity_map).astype(np.int8)"
   ]
  },
  {
   "cell_type": "code",
   "execution_count": null,
   "id": "8858781a",
   "metadata": {
    "id": "0ff3f16c"
   },
   "outputs": [],
   "source": [
    "df_31_EYE.head(3)"
   ]
  },
  {
   "cell_type": "code",
   "execution_count": null,
   "id": "ea6dab44",
   "metadata": {
    "id": "32eb3225"
   },
   "outputs": [],
   "source": [
    "df_31_EYE.describe()"
   ]
  },
  {
   "cell_type": "code",
   "execution_count": null,
   "id": "884621f4",
   "metadata": {
    "id": "c1e092e1"
   },
   "outputs": [],
   "source": [
    "df_31_EYE[df_31_EYE['ET_ValidityLeft'] == 1].shape"
   ]
  },
  {
   "cell_type": "code",
   "execution_count": null,
   "id": "fc0c2c7f",
   "metadata": {
    "id": "8ebfb0cc"
   },
   "outputs": [],
   "source": [
    "df_31_EYE[df_31_EYE['ET_ValidityRight'] == 1].shape"
   ]
  },
  {
   "cell_type": "code",
   "execution_count": null,
   "id": "6585ad85",
   "metadata": {
    "id": "0d175df2"
   },
   "outputs": [],
   "source": [
    "df_31_EYE[df_31_EYE['ET_ValidityLeft'] == 1].shape[0] / df_31_EYE.shape[0]"
   ]
  },
  {
   "cell_type": "code",
   "execution_count": null,
   "id": "be97d259",
   "metadata": {
    "id": "54cc0f9e"
   },
   "outputs": [],
   "source": [
    "df_31_EYE[df_31_EYE['ET_ValidityRight'] == 1].shape[0] / df_31_EYE.shape[0]"
   ]
  },
  {
   "cell_type": "code",
   "execution_count": null,
   "id": "c091052a",
   "metadata": {
    "id": "45c977c1"
   },
   "outputs": [],
   "source": [
    "plt.figure(figsize=(18, 8))\n",
    "\n",
    "plt.subplot(1, 2, 1)\n",
    "sns.heatmap(df_31_EYE == -1, cmap='viridis')\n",
    "plt.title('Heatmap of -1 Values')\n",
    "\n",
    "plt.subplot(1, 2, 2)\n",
    "sns.heatmap(df_31_EYE == 1, cmap='viridis')\n",
    "plt.title('Heatmap of 1 Values')\n",
    "\n",
    "plt.tight_layout()\n",
    "plt.show()"
   ]
  },
  {
   "cell_type": "code",
   "execution_count": null,
   "id": "c876e140",
   "metadata": {
    "id": "3b98a13b"
   },
   "outputs": [],
   "source": [
    "df_31_EYE[df_31_EYE['ET_PupilLeft'] == -1].shape"
   ]
  },
  {
   "cell_type": "code",
   "execution_count": null,
   "id": "8dd07b95",
   "metadata": {
    "id": "a2f296f6"
   },
   "outputs": [],
   "source": [
    "df_31_EYE[df_31_EYE['ET_PupilRight'] == -1].shape"
   ]
  },
  {
   "cell_type": "code",
   "execution_count": null,
   "id": "6a7f57c4",
   "metadata": {
    "id": "42cff7eb"
   },
   "outputs": [],
   "source": [
    "df_31_EYE[df_31_EYE['ET_PupilLeft'] == -1].shape[0] / df_31_EYE.shape[0]"
   ]
  },
  {
   "cell_type": "code",
   "execution_count": null,
   "id": "97ea7da4",
   "metadata": {
    "id": "83c97903"
   },
   "outputs": [],
   "source": [
    "df_31_EYE[df_31_EYE['ET_PupilRight'] == -1].shape[0] / df_31_EYE.shape[0]"
   ]
  },
  {
   "cell_type": "code",
   "execution_count": null,
   "id": "a028e0f4",
   "metadata": {
    "id": "6e176d63"
   },
   "outputs": [],
   "source": [
    "plt.figure(figsize=(18, 8))\n",
    "\n",
    "plt.subplot(1, 2, 1)\n",
    "sns.heatmap(df_31_EYE[df_31_EYE['ET_ValidityLeft'] == 1] == -1, cmap='viridis')\n",
    "plt.title('Heatmap of -1 Values')\n",
    "\n",
    "plt.subplot(1, 2, 2)\n",
    "sns.heatmap(df_31_EYE[df_31_EYE['ET_ValidityRight'] == 1] == -1, cmap='viridis')\n",
    "plt.title('Heatmap of -1 Values')\n",
    "\n",
    "plt.tight_layout()\n",
    "plt.show()"
   ]
  },
  {
   "cell_type": "markdown",
   "id": "b09db6b0",
   "metadata": {
    "id": "fff8db39"
   },
   "source": [
    "# Notes & Observations\n",
    "\n",
    "- The heatmaps reveal the distribution of -1 values across different columns.\n",
    "- It is evident that the `-1` values are not randomly scattered but appear in specific columns, notably `ET_GazeLeftx`, `ET_GazeLefty`, `ET_GazeRightx`, `ET_GazeRighty`, `ET_PupilLeft`, `ET_PupilRight`, `ET_DistanceLeft`, `ET_DistanceRight`, `ET_CameraLeftX`, `ET_CameraLeftY`, `ET_CameraRightX`, and `ET_CameraRightY`.\n",
    "- These `-1` values often coincide with instances where `ET_ValidityLeft` or `ET_ValidityRight` is 1, indicating invalid eye-tracking data. This suggests that `-1` is used as a placeholder for missing or invalid measurements in these columns when the eye tracker is not providing valid data for a particular eye.\n",
    "- Given that over 70% of the data in the `ET_PupilLeft` and `ET_PupilRight` columns is marked as invalid (-1), so instead of dropping them we can create new feature for both the `ET_PupilLeft` and `ET_PupilRight` to represent which row consist invalid `ET_PupilLeft` and `ET_PupilRight` data"
   ]
  },
  {
   "cell_type": "code",
   "execution_count": null,
   "id": "25bf599d",
   "metadata": {
    "id": "cf7437aa"
   },
   "outputs": [],
   "source": [
    "pupil_validity = {-1: 1 }"
   ]
  },
  {
   "cell_type": "code",
   "execution_count": null,
   "id": "bdccfc4d",
   "metadata": {
    "id": "989b113d"
   },
   "outputs": [],
   "source": [
    "df_31_EYE['ET_PupilLeft_validity'] = df_31_EYE['ET_PupilLeft'].map(pupil_validity)"
   ]
  },
  {
   "cell_type": "code",
   "execution_count": null,
   "id": "3978ed52",
   "metadata": {
    "id": "9ecdfbc0"
   },
   "outputs": [],
   "source": [
    "df_31_EYE['ET_PupilRight_validity'] = df_31_EYE['ET_PupilRight'].map(pupil_validity)"
   ]
  },
  {
   "cell_type": "code",
   "execution_count": null,
   "id": "f497f5b3",
   "metadata": {
    "id": "7f5d2b28"
   },
   "outputs": [],
   "source": [
    "df_31_EYE[['ET_PupilLeft_validity', 'ET_PupilRight_validity']].head()"
   ]
  },
  {
   "cell_type": "code",
   "execution_count": null,
   "id": "39e7d628",
   "metadata": {
    "id": "6a86c472"
   },
   "outputs": [],
   "source": [
    "df_31_EYE[['ET_PupilLeft_validity', 'ET_PupilRight_validity']].isnull().sum()"
   ]
  },
  {
   "cell_type": "code",
   "execution_count": null,
   "id": "7178c4db",
   "metadata": {
    "id": "9121e4a8"
   },
   "outputs": [],
   "source": [
    "plt.figure(figsize=(18, 8))\n",
    "sns.heatmap(df_31_EYE[['ET_PupilLeft_validity', 'ET_PupilRight_validity']].isnull(), cmap='viridis')\n",
    "plt.show()"
   ]
  },
  {
   "cell_type": "code",
   "execution_count": null,
   "id": "14282ffe",
   "metadata": {
    "id": "613a230a"
   },
   "outputs": [],
   "source": [
    "df_31_EYE['ET_PupilLeft_validity'] = df_31_EYE['ET_PupilLeft_validity'].fillna(0)"
   ]
  },
  {
   "cell_type": "code",
   "execution_count": null,
   "id": "b7c6f74d",
   "metadata": {
    "id": "89ae7d3f"
   },
   "outputs": [],
   "source": [
    "df_31_EYE['ET_PupilRight_validity'] = df_31_EYE['ET_PupilRight_validity'].fillna(0)"
   ]
  },
  {
   "cell_type": "code",
   "execution_count": null,
   "id": "51e54d46",
   "metadata": {
    "id": "a2c39f03"
   },
   "outputs": [],
   "source": [
    "df_31_EYE[['ET_PupilLeft_validity', 'ET_PupilRight_validity']].head()"
   ]
  },
  {
   "cell_type": "code",
   "execution_count": null,
   "id": "51dd3cbd",
   "metadata": {
    "id": "6e9c2645"
   },
   "outputs": [],
   "source": [
    "plt.figure(figsize=(18, 8))\n",
    "sns.heatmap(df_31_EYE[['ET_PupilLeft_validity', 'ET_PupilRight_validity']].isnull(), cmap='viridis')\n",
    "plt.show()"
   ]
  },
  {
   "cell_type": "code",
   "execution_count": null,
   "id": "2daf91e8",
   "metadata": {
    "id": "7e52da92"
   },
   "outputs": [],
   "source": [
    "df_31_EYE.head()"
   ]
  },
  {
   "cell_type": "code",
   "execution_count": null,
   "id": "a40467b8",
   "metadata": {
    "id": "1cefd42d"
   },
   "outputs": [],
   "source": [
    "plt.figure(figsize=(18, 8))\n",
    "\n",
    "plt.subplot(1, 2, 1)\n",
    "sns.heatmap(df_31_EYE == -1, cmap='viridis')\n",
    "plt.title('Heatmap of -1 Values')\n",
    "\n",
    "plt.subplot(1, 2, 2)\n",
    "sns.heatmap(df_31_EYE == 1, cmap='viridis')\n",
    "plt.title('Heatmap of -1 Values')\n",
    "\n",
    "plt.tight_layout()\n",
    "plt.show()"
   ]
  },
  {
   "cell_type": "code",
   "execution_count": null,
   "id": "2554044d",
   "metadata": {
    "id": "dcf38f27"
   },
   "outputs": [],
   "source": [
    "valid_left_ratio  = 1 - df_31_EYE['ET_ValidityLeft'].mean()"
   ]
  },
  {
   "cell_type": "code",
   "execution_count": null,
   "id": "7b5a9295",
   "metadata": {
    "id": "2aea00ec"
   },
   "outputs": [],
   "source": [
    "valid_left_ratio"
   ]
  },
  {
   "cell_type": "code",
   "execution_count": null,
   "id": "4676ce9b",
   "metadata": {
    "id": "19ac306c"
   },
   "outputs": [],
   "source": [
    "valid_right_ratio = 1 - df_31_EYE['ET_ValidityRight'].mean()"
   ]
  },
  {
   "cell_type": "code",
   "execution_count": null,
   "id": "235fd1e8",
   "metadata": {
    "id": "4f0aa48e"
   },
   "outputs": [],
   "source": [
    "valid_right_ratio"
   ]
  },
  {
   "cell_type": "code",
   "execution_count": null,
   "id": "8c0387dc",
   "metadata": {
    "id": "a000b670"
   },
   "outputs": [],
   "source": [
    "df_31_EYE['ET_PupilLeft_validity'] = df_31_EYE['ET_PupilLeft_validity'].astype(np.int8)\n",
    "df_31_EYE['ET_PupilRight_validity'] = df_31_EYE['ET_PupilRight_validity'].astype(np.int8)"
   ]
  },
  {
   "cell_type": "markdown",
   "id": "ddb19f5f",
   "metadata": {
    "id": "6acf6847"
   },
   "source": [
    "# Feature Engineering and Observations\n",
    "\n",
    "Based on the analysis of the data, we've created two new features, `ET_PupilLeft_validity` and `ET_PupilRight_validity`. These features indicate the validity of the pupil data for the left and right eyes, respectively, with a value of 1 representing invalid data (originally -1) and 0 representing valid data.\n",
    "\n",
    "The heatmaps above visually demonstrate the distribution of -1 and 1 values across the dataset. We observed that:\n",
    "- The `-1` values are concentrated in specific columns related to gaze, pupil size, distance, and camera position, suggesting they represent missing or invalid sensor readings.\n",
    "- The `1` values, after mapping from `4.0` in the original validity columns, indicate instances of invalid eye-tracking data.\n",
    "- The heatmaps also show a strong correlation between the `-1` values in the pupil columns and a validity of 1 in the newly created pupil validity features, confirming that -1 was used to mark invalid pupil data."
   ]
  },
  {
   "cell_type": "code",
   "execution_count": null,
   "id": "f151dc53",
   "metadata": {
    "id": "de9f2594"
   },
   "outputs": [],
   "source": [
    "df_31_EYE.head()"
   ]
  },
  {
   "cell_type": "code",
   "execution_count": null,
   "id": "adf8f8a0",
   "metadata": {
    "id": "bfa2e174"
   },
   "outputs": [],
   "source": [
    "# Select only the numeric columns for plotting histograms, excluding time-related columns\n",
    "numeric_cols = df_31_EYE.select_dtypes(include=np.number).columns\n",
    "cols_to_plot = [col for col in numeric_cols if col not in ['UnixTime']]\n",
    "\n",
    "# Calculate the number of rows and columns for the grid\n",
    "n_cols = 4  # You can adjust the number of columns as needed\n",
    "n_rows = (len(cols_to_plot) + n_cols - 1) // n_cols\n",
    "\n",
    "plt.figure(figsize=(n_cols * 5, n_rows * 4)) # Adjust figure size as needed\n",
    "\n",
    "for i, col in enumerate(cols_to_plot):\n",
    "    plt.subplot(n_rows, n_cols, i + 1)\n",
    "    sns.histplot(df_31_EYE[col], kde=True)\n",
    "    plt.title(f'Distribution of {col}')\n",
    "    plt.xlabel(col)\n",
    "    plt.ylabel('Frequency')\n",
    "\n",
    "plt.tight_layout()\n",
    "plt.show()"
   ]
  },
  {
   "cell_type": "markdown",
   "id": "6c2de80a",
   "metadata": {
    "id": "8059766d"
   },
   "source": [
    "# Observations from Histograms\n",
    "\n",
    "The grid of histograms provides insights into the distribution of values for each numeric column in the dataset (excluding 'UnixTime'). Key observations include:\n",
    "\n",
    "- Several columns, such as `ET_GazeLeftx`, `ET_GazeLefty`, `ET_GazeRightx`, and `ET_GazeRighty`, show distributions that appear somewhat multimodal or skewed, suggesting variations in gaze patterns.\n",
    "- The `ET_PupilLeft` and `ET_PupilRight` histograms clearly show a peak at -1, confirming the presence of a significant number of invalid pupil readings.\n",
    "- `ET_TimeSignal` shows a relatively uniform distribution, as expected for a time-based signal.\n",
    "- `ET_DistanceLeft` and `ET_DistanceRight` appear to have distributions centered around certain values, with some outliers or variations.\n",
    "- The camera position columns (`ET_CameraLeftX`, `ET_CameraLeftY`, `ET_CameraRightX`, `ET_CameraRightY`) seem to have distributions concentrated within specific ranges, reflecting the camera's field of view.\n",
    "- The validity columns (`ET_ValidityLeft`, `ET_ValidityRight`, `ET_PupilLeft_validity`, `ET_PupilRight_validity`) show distributions dominated by 0, indicating that most of the data is considered valid after the mapping. The smaller peaks at 1 represent the instances of invalid data.\n",
    "\n",
    "These distributions highlight the need for appropriate handling of the -1 values and potential outliers in subsequent analysis or modeling steps."
   ]
  },
  {
   "cell_type": "code",
   "execution_count": null,
   "id": "b7b93984",
   "metadata": {
    "id": "cb65ae1e"
   },
   "outputs": [],
   "source": [
    "df_31_EYE.columns"
   ]
  },
  {
   "cell_type": "code",
   "execution_count": null,
   "id": "5d1aeade",
   "metadata": {
    "id": "8cf2280c"
   },
   "outputs": [],
   "source": [
    "cols = ['ET_GazeLeftx', 'ET_GazeLefty',\n",
    "       'ET_GazeRightx', 'ET_GazeRighty', 'ET_PupilLeft', 'ET_PupilRight',\n",
    "       'ET_TimeSignal', 'ET_DistanceLeft', 'ET_DistanceRight',\n",
    "       'ET_CameraLeftX', 'ET_CameraLeftY', 'ET_CameraRightX',\n",
    "       'ET_CameraRightY', 'ET_ValidityLeft', 'ET_ValidityRight',\n",
    "       'ET_PupilLeft_validity', 'ET_PupilRight_validity']"
   ]
  },
  {
   "cell_type": "code",
   "execution_count": null,
   "id": "cfc814a8",
   "metadata": {
    "id": "85e45ea9"
   },
   "outputs": [],
   "source": [
    "from IPython.display import display, Markdown\n",
    "\n",
    "for col in cols:\n",
    "    # Add a markdown cell before each plot for better separation and labeling\n",
    "    display(Markdown(f'### {col} over Time'))\n",
    "    plt.figure(figsize=(16, 10))\n",
    "    plt.plot(df_31_EYE['Timestamp'], df_31_EYE[col])\n",
    "    plt.xlabel(\"Timestamp\") # Add x-axis label\n",
    "    plt.ylabel(col) # Add y-axis label\n",
    "    plt.show()"
   ]
  },
  {
   "cell_type": "markdown",
   "id": "58d25327",
   "metadata": {
    "id": "f7ffd08f"
   },
   "source": [
    "# Observations from Time Series Plots\n",
    "\n",
    "The line plots showing various features against the `Timestamp` reveal the temporal patterns and fluctuations in the eye-tracking data. Key observations include:\n",
    "\n",
    "- **Gaze Coordinates (`ET_GazeLeftx`, `ET_GazeLefty`, `ET_GazeRightx`, `ET_GazeRighty`):** These plots show the changes in gaze position over time. We can observe periods of relatively stable gaze interspersed with rapid movements (saccades) and blinks or other events where the gaze data might be invalid (-1 values appear as gaps or spikes if not handled).\n",
    "- **Pupil Size (`ET_PupilLeft`, `ET_PupilRight`):** The pupil size plots show variations over time. The presence of many -1 values is evident as flat lines at the bottom of the plot, indicating periods where pupil data was not recorded or was invalid.\n",
    "- **Time Signal (`ET_TimeSignal`):** This plot shows a steady, increasing trend, as expected for a time-based signal.\n",
    "- **Distance and Camera Position (`ET_DistanceLeft`, `ET_DistanceRight`, `ET_CameraLeftX`, `ET_CameraLeftY`, `ET_CameraRightX`, `ET_CameraRightY`):** These plots show how the distance from the eye tracker and the camera positions change over time. Variations in these features can be related to head movements or changes in the user's position relative to the eye tracker.\n",
    "- **Validity (`ET_ValidityLeft`, `ET_ValidityRight`, `ET_PupilLeft_validity`, `ET_PupilRight_validity`):** These plots clearly show periods of invalid data (represented by 1) as spikes or plateaus, corresponding to instances where the eye tracker lost track of the eyes or the pupil data was marked as invalid.\n",
    "\n",
    "Analyzing these time series plots is crucial for understanding the dynamics of the eye-tracking data and identifying patterns or anomalies that may require further investigation or specific handling during subsequent analysis."
   ]
  },
  {
   "cell_type": "code",
   "execution_count": null,
   "id": "b6182e25",
   "metadata": {
    "id": "cdd85f8c"
   },
   "outputs": [],
   "source": [
    "# Select only the numeric columns for plotting histograms, excluding time-related columns\n",
    "numeric_cols = df_31_EYE.select_dtypes(include=np.number).columns\n",
    "\n",
    "# Calculate the number of rows and columns for the grid\n",
    "n_cols = 4  # You can adjust the number of columns as needed\n",
    "n_rows = (len(numeric_cols) + n_cols - 1) // n_cols\n",
    "\n",
    "plt.figure(figsize=(n_cols * 5, n_rows * 4)) # Adjust figure size as needed\n",
    "\n",
    "for i, col in enumerate(numeric_cols):\n",
    "    plt.subplot(n_rows, n_cols, i + 1)\n",
    "    sns.boxplot(df_31_EYE[col])\n",
    "    plt.title(f'Boxplot of {col}')\n",
    "    plt.xlabel(col)\n",
    "\n",
    "plt.tight_layout()\n",
    "plt.show()"
   ]
  },
  {
   "cell_type": "markdown",
   "id": "e12b76f2",
   "metadata": {
    "id": "2cca19c5"
   },
   "source": [
    "# Observations from Boxplots and Handling -1 Values\n",
    "\n",
    "The boxplots provide a visual summary of the distribution and potential outliers for each numeric column. Key observations from the boxplots include:\n",
    "\n",
    "- The boxplots for columns like `ET_GazeLeftx`, `ET_GazeLefty`, `ET_GazeRightx`, `ET_GazeRighty`, `ET_PupilLeft`, `ET_PupilRight`, `ET_DistanceLeft`, `ET_DistanceRight`, `ET_CameraLeftX`, `ET_CameraLeftY`, `ET_CameraRightX`, and `ET_CameraRightY` clearly show the presence of -1 values as significant outliers, confirming our earlier observations from the heatmaps and histograms.\n",
    "- The boxplots for the validity columns (`ET_ValidityLeft`, `ET_ValidityRight`, `ET_PupilLeft_validity`, `ET_PupilRight_validity`) show the discrete nature of these features, with the majority of data points at 0 (valid) and a smaller number at 1 (invalid).\n",
    "\n",
    "Given the significant presence of -1 values, which represent invalid or missing data, especially in the pupil-related columns, we have decided to replace these -1 values with NaN to properly represent them as missing data. Subsequently, we will impute these missing values using the mean of each respective column. This approach helps to retain the data structure and allows for further analysis or modeling without the distortion caused by the -1 placeholders."
   ]
  },
  {
   "cell_type": "code",
   "execution_count": null,
   "id": "0895aa11",
   "metadata": {
    "id": "9217371b"
   },
   "outputs": [],
   "source": [
    "df_31_EYE.replace({-1: np.nan}, inplace=True)"
   ]
  },
  {
   "cell_type": "code",
   "execution_count": null,
   "id": "7b5bf0c4",
   "metadata": {
    "id": "8108fa01"
   },
   "outputs": [],
   "source": [
    "df_31_EYE[['ET_GazeLeftx', 'ET_GazeLefty',\n",
    "       'ET_GazeRightx', 'ET_GazeRighty', 'ET_PupilLeft', 'ET_PupilRight',\n",
    "       'ET_TimeSignal', 'ET_DistanceLeft', 'ET_DistanceRight',\n",
    "       'ET_CameraLeftX', 'ET_CameraLeftY', 'ET_CameraRightX',\n",
    "       'ET_CameraRightY', 'ET_ValidityLeft', 'ET_ValidityRight',\n",
    "       'ET_PupilLeft_validity', 'ET_PupilRight_validity']].mean()"
   ]
  },
  {
   "cell_type": "code",
   "execution_count": null,
   "id": "581991ad",
   "metadata": {
    "id": "9b94fbce"
   },
   "outputs": [],
   "source": [
    "df_31_EYE[['ET_GazeLeftx', 'ET_GazeLefty',\n",
    "       'ET_GazeRightx', 'ET_GazeRighty', 'ET_PupilLeft', 'ET_PupilRight',\n",
    "       'ET_TimeSignal', 'ET_DistanceLeft', 'ET_DistanceRight',\n",
    "       'ET_CameraLeftX', 'ET_CameraLeftY', 'ET_CameraRightX',\n",
    "       'ET_CameraRightY', 'ET_ValidityLeft', 'ET_ValidityRight',\n",
    "       'ET_PupilLeft_validity', 'ET_PupilRight_validity']].median()"
   ]
  },
  {
   "cell_type": "code",
   "execution_count": null,
   "id": "87d8918e",
   "metadata": {
    "id": "ee1238c8"
   },
   "outputs": [],
   "source": [
    "numeric_cols = df_31_EYE.select_dtypes(include=np.number).columns\n",
    "\n",
    "for col in numeric_cols:\n",
    "    df_31_EYE[col] = df_31_EYE[col].fillna(df_31_EYE[col].mean())"
   ]
  },
  {
   "cell_type": "code",
   "execution_count": null,
   "id": "50dcbe43",
   "metadata": {
    "id": "b0bc522d"
   },
   "outputs": [],
   "source": [
    "plt.figure(figsize=(18, 8))\n",
    "\n",
    "plt.subplot(1, 2, 1)\n",
    "sns.heatmap(df_31_EYE.isnull(), cmap='viridis')\n",
    "plt.title('Heatmap of Missing Values After Imputation')\n",
    "\n",
    "plt.subplot(1, 2, 2)\n",
    "sns.heatmap(df_31_EYE == 1, cmap='viridis')\n",
    "plt.title('Heatmap of 1 Values')\n",
    "\n",
    "plt.tight_layout()\n",
    "plt.show()"
   ]
  },
  {
   "cell_type": "markdown",
   "id": "6617b011",
   "metadata": {
    "id": "c0f1e10d"
   },
   "source": [
    "# Handling Missing Values (Imputation)\n",
    "\n",
    "As decided, we have replaced all the `-1` values with `NaN` to treat them as missing data. Subsequently, we have imputed these `NaN` values with the mean of their respective columns. The heatmap above, which was generated after the imputation, now shows no visible signs of `NaN` values, indicating that the imputation was successful."
   ]
  },
  {
   "cell_type": "code",
   "execution_count": null,
   "id": "bf88928d",
   "metadata": {
    "id": "2491c1da"
   },
   "outputs": [],
   "source": [
    "df_31_EYE.head()"
   ]
  },
  {
   "cell_type": "code",
   "execution_count": null,
   "id": "bd0f53aa",
   "metadata": {
    "id": "64f04350"
   },
   "outputs": [],
   "source": [
    "# Select only the numeric columns for plotting histograms, excluding time-related columns\n",
    "numeric_cols = df_31_EYE.select_dtypes(include=np.number).columns\n",
    "cols_to_plot = [col for col in numeric_cols if col not in ['UnixTime']]\n",
    "\n",
    "# Calculate the number of rows and columns for the grid\n",
    "n_cols = 4  # You can adjust the number of columns as needed\n",
    "n_rows = (len(cols_to_plot) + n_cols - 1) // n_cols\n",
    "\n",
    "plt.figure(figsize=(n_cols * 5, n_rows * 4)) # Adjust figure size as needed\n",
    "\n",
    "for i, col in enumerate(cols_to_plot):\n",
    "    plt.subplot(n_rows, n_cols, i + 1)\n",
    "    sns.histplot(df_31_EYE[col], kde=True)\n",
    "    plt.title(f'Distribution of {col}')\n",
    "    plt.xlabel(col)\n",
    "    plt.ylabel('Frequency')\n",
    "\n",
    "plt.tight_layout()\n",
    "plt.show()"
   ]
  },
  {
   "cell_type": "markdown",
   "id": "c87b97ef",
   "metadata": {
    "id": "e0c83f1c"
   },
   "source": [
    "# Observations from Histograms After Imputation\n",
    "\n",
    "The histograms generated after replacing the -1 values with the mean of each column show the distributions of the numeric features with the missing data handled. Key observations from these updated histograms include:\n",
    "\n",
    "- The distinct peaks at -1, which were prominent in the histograms for several columns (e.g., pupil size, gaze coordinates, distance, and camera position) before imputation, are now replaced by a peak at the mean of each respective column.\n",
    "- The distributions in many columns now appear more unimodal or show shifted modes compared to the original histograms.\n",
    "- The histograms for the validity columns still show their bimodal distributions with peaks at 0 and 1, as these were handled separately.\n",
    "\n",
    "These histograms provide an updated view of the data's distribution after handling the missing values, highlighting the impact of the imputation method on the data's characteristics."
   ]
  },
  {
   "cell_type": "code",
   "execution_count": null,
   "id": "069c15ab",
   "metadata": {
    "id": "de0b2f65"
   },
   "outputs": [],
   "source": [
    "cols = ['ET_GazeLeftx', 'ET_GazeLefty',\n",
    "       'ET_GazeRightx', 'ET_GazeRighty', 'ET_PupilLeft', 'ET_PupilRight',\n",
    "       'ET_TimeSignal', 'ET_DistanceLeft', 'ET_DistanceRight',\n",
    "       'ET_CameraLeftX', 'ET_CameraLeftY', 'ET_CameraRightX',\n",
    "       'ET_CameraRightY', 'ET_ValidityLeft', 'ET_ValidityRight',\n",
    "       'ET_PupilLeft_validity', 'ET_PupilRight_validity']"
   ]
  },
  {
   "cell_type": "code",
   "execution_count": null,
   "id": "1e246ffc",
   "metadata": {
    "id": "4ddd4915"
   },
   "outputs": [],
   "source": [
    "for col in cols:\n",
    "    # Add a markdown cell before each plot for better separation and labeling\n",
    "    display(Markdown(f'### {col} over Time'))\n",
    "    plt.figure(figsize=(16, 10))\n",
    "    plt.plot(df_31_EYE['Timestamp'], df_31_EYE[col])\n",
    "    plt.xlabel(\"Timestamp\") # Add x-axis label\n",
    "    plt.ylabel(col) # Add y-axis label\n",
    "    plt.show()"
   ]
  },
  {
   "cell_type": "markdown",
   "id": "778159cd",
   "metadata": {
    "id": "0fb07abb"
   },
   "source": [
    "# Observations from Time Series Plots After Imputation\n",
    "\n",
    "The line plots generated after imputing the missing values with the mean show the temporal patterns of the features with the missing data handled. Key observations from these updated plots include:\n",
    "\n",
    "- The gaps or flat lines at -1, which were prominent in the plots for columns like gaze coordinates, pupil size, distance, and camera position, are now filled by lines at the mean value of the respective columns.\n",
    "- The plots for the validity columns remain the same as they were handled separately.\n",
    "- The `ET_TimeSignal` plot still shows a steady increasing trend, as expected."
   ]
  },
  {
   "cell_type": "code",
   "execution_count": null,
   "id": "ebb0631f",
   "metadata": {
    "id": "c608fd95"
   },
   "outputs": [],
   "source": [
    "plt.figure(figsize=(16, 10))\n",
    "sns.heatmap(df_31_EYE.corr(numeric_only=True), cmap='YlGnBu', annot=True)\n",
    "plt.show()"
   ]
  },
  {
   "cell_type": "markdown",
   "id": "03690a5e",
   "metadata": {
    "id": "82405ba6"
   },
   "source": [
    "# Observations from Correlation Heatmap\n",
    "\n",
    "The correlation heatmap provides a visual representation of the pairwise correlations between the numeric columns in the dataset. Key observations from the heatmap include:\n",
    "\n",
    "- **High Positive Correlations:** We observe strong positive correlations (values close to 1) between:\n",
    "  - `ET_GazeLeftx` and `ET_GazeRightx`: This is expected as the gaze positions of both eyes should be highly correlated when fixating on a point.\n",
    "  - `ET_GazeLefty` and `ET_GazeRighty`: Similar to the x-coordinates, the y-coordinates of gaze should also be highly correlated.\n",
    "  - `ET_PupilLeft` and `ET_PupilRight`: Pupil sizes of both eyes tend to change together in response to light and cognitive load.\n",
    "  - `ET_DistanceLeft` and `ET_DistanceRight`: The distance from the eye tracker to each eye should be highly correlated.\n",
    "  - `ET_CameraLeftX` and `ET_CameraRightX`, `ET_CameraLeftY` and `ET_CameraRightY`: The camera positions for both eyes are also expected to be highly correlated.\n",
    "  - `UnixTime` and `ET_TimeSignal`: As previously noted, these two columns are almost perfectly linearly correlated, indicating redundancy.\n",
    "  - `ET_ValidityLeft` and `ET_PupilLeft_validity`: There is a positive correlation, suggesting that when the overall left eye data is invalid, the left pupil data is also likely to be invalid.\n",
    "  - `ET_ValidityRight` and `ET_PupilRight_validity`: Similar to the left eye, there is a positive correlation between the overall right eye validity and the right pupil validity.\n",
    "- **Other Correlations:** We can also observe other varying degrees of correlations between different features, which can provide insights into the relationships between gaze behavior, pupil size, distance, and camera position. For example, there might be correlations between gaze coordinates and camera positions, reflecting head movements.\n",
    "- **Low or Near-Zero Correlations:** Columns with low or near-zero correlations are relatively independent of each other.\n",
    "\n",
    "Understanding these correlations is important for feature selection and for building models, as highly correlated features might indicate multicollinearity, while correlations between features can reveal underlying patterns in the data."
   ]
  },
  {
   "cell_type": "markdown",
   "id": "fc453cf1",
   "metadata": {
    "id": "1c413c3b"
   },
   "source": [
    "# Analysis of ET_TimeSignal and Decision to Drop\n",
    "\n",
    "As observed in the time series plot and confirmed by the correlation heatmap, the `ET_TimeSignal` column exhibits a near-perfect linear relationship with both the `Timestamp` and `UnixTime` columns. This strong correlation (close to 1) suggests that `ET_TimeSignal` is essentially redundant and likely represents another form of time recording or a signal directly derived from the timestamp.\n",
    "\n",
    "Including highly correlated features like this in a dataset can lead to issues such as multicollinearity in some statistical models, which can make it difficult to interpret the individual impact of each feature. Since the `Timestamp` column already provides the necessary temporal information, retaining `ET_TimeSignal` does not appear to add significant value for further analysis or modeling in most cases.\n",
    "\n",
    "Therefore, based on its high correlation and lack of unique insight, we will proceed to drop the `ET_TimeSignal` column to simplify the dataset and potentially improve the performance and interpretability of future analyses."
   ]
  },
  {
   "cell_type": "code",
   "execution_count": null,
   "id": "510067d9",
   "metadata": {
    "id": "7c96e349"
   },
   "outputs": [],
   "source": [
    "df_31_EYE.drop('ET_TimeSignal', axis=1, inplace=True)"
   ]
  },
  {
   "cell_type": "code",
   "execution_count": null,
   "id": "c4364e1e",
   "metadata": {
    "id": "5845a61d"
   },
   "outputs": [],
   "source": [
    "plt.figure(figsize=(16, 10))\n",
    "sns.pairplot(df_31_EYE)\n",
    "plt.show()"
   ]
  },
  {
   "cell_type": "markdown",
   "id": "2783eca4",
   "metadata": {
    "id": "sMcHS8LIOGeT"
   },
   "source": [
    "# **32_EYE**"
   ]
  },
  {
   "cell_type": "code",
   "execution_count": null,
   "id": "09b4af81",
   "metadata": {
    "id": "L2tJooyROWnM"
   },
   "outputs": [],
   "source": []
  },
  {
   "cell_type": "code",
   "execution_count": null,
   "id": "6ea11948",
   "metadata": {
    "id": "6c647c4f"
   },
   "outputs": [],
   "source": [
    "df_32_EYE = pd.read_csv('data/STData/32/32_EYE.csv')"
   ]
  },
  {
   "cell_type": "code",
   "execution_count": null,
   "id": "b262a532",
   "metadata": {
    "id": "c229bba7"
   },
   "outputs": [],
   "source": [
    "df_32_EYE.head()"
   ]
  },
  {
   "cell_type": "code",
   "execution_count": null,
   "id": "b94bae55",
   "metadata": {
    "id": "0ec8e716"
   },
   "outputs": [],
   "source": [
    "df_32_EYE.shape"
   ]
  },
  {
   "cell_type": "code",
   "execution_count": null,
   "id": "f51b95a8",
   "metadata": {
    "id": "43ba37eb"
   },
   "outputs": [],
   "source": [
    "df_32_EYE.columns"
   ]
  },
  {
   "cell_type": "code",
   "execution_count": null,
   "id": "c6a563a0",
   "metadata": {
    "id": "19f68fb4"
   },
   "outputs": [],
   "source": [
    "df_32_EYE.info()"
   ]
  },
  {
   "cell_type": "code",
   "execution_count": null,
   "id": "6c9a7367",
   "metadata": {
    "id": "603369d7"
   },
   "outputs": [],
   "source": [
    "df_32_EYE.isnull().sum()"
   ]
  },
  {
   "cell_type": "code",
   "execution_count": null,
   "id": "d0374c5a",
   "metadata": {
    "id": "874353e3"
   },
   "outputs": [],
   "source": [
    "plt.figure(figsize=(12,8))\n",
    "sns.heatmap(df_32_EYE.isnull(), cmap='viridis')\n",
    "plt.show()"
   ]
  },
  {
   "cell_type": "markdown",
   "id": "2dc13688",
   "metadata": {
    "id": "b17906e7"
   },
   "source": [
    "# Notes & Observations\n",
    "\n",
    "- We observe many **null** (or missing) values in the `QuestionKey` columns.\n",
    "- The nulls in the `QuestionKey` column may not represent “true” nulls. Rather, they follow interval patterns, suggesting that during those periods no question was displayed.\n",
    "- These missing values in `QuestionKey` require additional investigation and context-aware handling."
   ]
  },
  {
   "cell_type": "code",
   "execution_count": null,
   "id": "00c9f6f1",
   "metadata": {
    "id": "1113779e"
   },
   "outputs": [],
   "source": [
    "df_32_EYE['QuestionKey'].unique()"
   ]
  },
  {
   "cell_type": "code",
   "execution_count": null,
   "id": "56df8eff",
   "metadata": {
    "id": "db0a93a2"
   },
   "outputs": [],
   "source": [
    "df_32_EYE['Timestamp'] = pd.to_datetime(df_32_EYE['Timestamp'])"
   ]
  },
  {
   "cell_type": "code",
   "execution_count": null,
   "id": "e8b6577d",
   "metadata": {
    "id": "03d57b0a"
   },
   "outputs": [],
   "source": [
    "df_32_EYE.head(3)"
   ]
  },
  {
   "cell_type": "code",
   "execution_count": null,
   "id": "e2364a69",
   "metadata": {
    "id": "c0004029"
   },
   "outputs": [],
   "source": [
    "df_32_EYE['QuestionKey'] = df_32_EYE['QuestionKey'].fillna('None')"
   ]
  },
  {
   "cell_type": "code",
   "execution_count": null,
   "id": "69711e91",
   "metadata": {
    "id": "dfb4729e"
   },
   "outputs": [],
   "source": [
    "df_32_EYE['QuestionKey'].value_counts()"
   ]
  },
  {
   "cell_type": "code",
   "execution_count": null,
   "id": "74768128",
   "metadata": {
    "id": "9353c9d8"
   },
   "outputs": [],
   "source": [
    "plt.figure(figsize=(12,8))\n",
    "sns.heatmap(df_32_EYE.isnull(), cmap='viridis')\n",
    "plt.show()"
   ]
  },
  {
   "cell_type": "code",
   "execution_count": null,
   "id": "645f0601",
   "metadata": {
    "id": "5c73d150"
   },
   "outputs": [],
   "source": [
    "df_32_EYE.isnull().sum()"
   ]
  },
  {
   "cell_type": "code",
   "execution_count": null,
   "id": "61e616d9",
   "metadata": {
    "id": "6c700142"
   },
   "outputs": [],
   "source": [
    "df_32_EYE.dropna(inplace=True)"
   ]
  },
  {
   "cell_type": "code",
   "execution_count": null,
   "id": "3a4419f0",
   "metadata": {
    "id": "90a604ce"
   },
   "outputs": [],
   "source": [
    "df_32_EYE.head()"
   ]
  },
  {
   "cell_type": "code",
   "execution_count": null,
   "id": "7c51db4c",
   "metadata": {
    "id": "a43a4283"
   },
   "outputs": [],
   "source": [
    "df_32_EYE['Row'].unique()"
   ]
  },
  {
   "cell_type": "code",
   "execution_count": null,
   "id": "bb7d971e",
   "metadata": {
    "id": "f66566f9"
   },
   "outputs": [],
   "source": [
    "plt.figure(figsize=(8,6))\n",
    "sns.histplot(df_32_EYE['Row'])\n",
    "plt.show()"
   ]
  },
  {
   "cell_type": "markdown",
   "id": "3a822555",
   "metadata": {
    "id": "5ddf40fd"
   },
   "source": [
    "# Notes & Observations\n",
    "\n",
    "- The `Row` column appears to be a simple row index and does not provide meaningful information relevant to the eye-tracking data itself. Therefore, it can be dropped."
   ]
  },
  {
   "cell_type": "code",
   "execution_count": null,
   "id": "bbe2e531",
   "metadata": {
    "id": "5aee4404"
   },
   "outputs": [],
   "source": [
    "df_32_EYE.drop('Row', axis=1, inplace=True)"
   ]
  },
  {
   "cell_type": "code",
   "execution_count": null,
   "id": "470f0308",
   "metadata": {
    "id": "827f3274"
   },
   "outputs": [],
   "source": [
    "df_32_EYE['ET_ValidityLeft'].unique()"
   ]
  },
  {
   "cell_type": "code",
   "execution_count": null,
   "id": "33ce4eb1",
   "metadata": {
    "id": "1437751a"
   },
   "outputs": [],
   "source": [
    "df_32_EYE['ET_ValidityLeft'].value_counts()"
   ]
  },
  {
   "cell_type": "code",
   "execution_count": null,
   "id": "40d62942",
   "metadata": {
    "id": "d0a9ee4a"
   },
   "outputs": [],
   "source": [
    "df_32_EYE['ET_ValidityRight'].unique()"
   ]
  },
  {
   "cell_type": "code",
   "execution_count": null,
   "id": "f68d0590",
   "metadata": {
    "id": "55ddcc2b"
   },
   "outputs": [],
   "source": [
    "df_32_EYE['ET_ValidityRight'].value_counts()"
   ]
  },
  {
   "cell_type": "code",
   "execution_count": null,
   "id": "59e6bc9f",
   "metadata": {
    "id": "faef00be"
   },
   "outputs": [],
   "source": [
    "plt.figure(figsize=(12, 6))\n",
    "\n",
    "plt.subplot(1, 2, 1)\n",
    "sns.barplot(x=df_32_EYE['ET_ValidityLeft'].value_counts().index, y=df_32_EYE['ET_ValidityLeft'].value_counts().values)\n",
    "plt.title('Count of ET_ValidityLeft')\n",
    "plt.xlabel('Validity')\n",
    "plt.ylabel('Count')\n",
    "\n",
    "\n",
    "plt.subplot(1, 2, 2)\n",
    "sns.barplot(x=df_32_EYE['ET_ValidityRight'].value_counts().index, y=df_32_EYE['ET_ValidityRight'].value_counts().values)\n",
    "plt.title('Count of ET_ValidityRight')\n",
    "plt.xlabel('Validity')\n",
    "plt.ylabel('Count')\n",
    "\n",
    "plt.tight_layout()\n",
    "plt.show()"
   ]
  },
  {
   "cell_type": "markdown",
   "id": "635320bd",
   "metadata": {
    "id": "b43706ea"
   },
   "source": [
    "# Notes & Observations\n",
    "\n",
    "- The `ET_ValidityLeft` and `ET_ValidityRight` columns indicate the validity of the eye-tracking data for the left and right eye, respectively.\n",
    "- Based on the value counts and the bar plots, it appears that a value of `0.0` represents valid eye-tracking data, while a value of `4.0` represents invalid data.\n",
    "- Although the amount of invalid data is relatively small, removing these rows could introduce unwanted patterns or gaps in the time series data.\n",
    "- Therefore, we will keep the data and replace the value `4.0` with `1.0` in both `ET_ValidityLeft` and `ET_ValidityRight` columns. This will indicate to a machine learning model that the eye tracker had invalid data at those specific points in time while maintaining the integrity of the time series."
   ]
  },
  {
   "cell_type": "markdown",
   "id": "49ab0d62",
   "metadata": {
    "id": "e9e671b2"
   },
   "source": [
    "Define a mapping to convert validity values from `0.0` and `4.0` to `0` and `1`."
   ]
  },
  {
   "cell_type": "code",
   "execution_count": null,
   "id": "888d83f6",
   "metadata": {
    "id": "08e7ed71"
   },
   "outputs": [],
   "source": [
    "validity_map = {4.0: 1.0, 0.0: 0.0}"
   ]
  },
  {
   "cell_type": "code",
   "execution_count": null,
   "id": "ed22e555",
   "metadata": {
    "id": "0bba3ac0"
   },
   "outputs": [],
   "source": [
    "df_32_EYE['ET_ValidityLeft'] = df_32_EYE['ET_ValidityLeft'].map(validity_map).astype(np.int8)\n",
    "df_32_EYE['ET_ValidityRight'] = df_32_EYE['ET_ValidityRight'].map(validity_map).astype(np.int8)"
   ]
  },
  {
   "cell_type": "code",
   "execution_count": null,
   "id": "c45bec16",
   "metadata": {
    "id": "0ff3f16c"
   },
   "outputs": [],
   "source": [
    "df_32_EYE.head(3)"
   ]
  },
  {
   "cell_type": "code",
   "execution_count": null,
   "id": "89a23864",
   "metadata": {
    "id": "32eb3225"
   },
   "outputs": [],
   "source": [
    "df_32_EYE.describe()"
   ]
  },
  {
   "cell_type": "code",
   "execution_count": null,
   "id": "7faaa9a3",
   "metadata": {
    "id": "c1e092e1"
   },
   "outputs": [],
   "source": [
    "df_32_EYE[df_32_EYE['ET_ValidityLeft'] == 1].shape"
   ]
  },
  {
   "cell_type": "code",
   "execution_count": null,
   "id": "99ce85e4",
   "metadata": {
    "id": "8ebfb0cc"
   },
   "outputs": [],
   "source": [
    "df_32_EYE[df_32_EYE['ET_ValidityRight'] == 1].shape"
   ]
  },
  {
   "cell_type": "code",
   "execution_count": null,
   "id": "850c6cc5",
   "metadata": {
    "id": "0d175df2"
   },
   "outputs": [],
   "source": [
    "df_32_EYE[df_32_EYE['ET_ValidityLeft'] == 1].shape[0] / df_32_EYE.shape[0]"
   ]
  },
  {
   "cell_type": "code",
   "execution_count": null,
   "id": "65138039",
   "metadata": {
    "id": "54cc0f9e"
   },
   "outputs": [],
   "source": [
    "df_32_EYE[df_32_EYE['ET_ValidityRight'] == 1].shape[0] / df_32_EYE.shape[0]"
   ]
  },
  {
   "cell_type": "code",
   "execution_count": null,
   "id": "a501aa1c",
   "metadata": {
    "id": "45c977c1"
   },
   "outputs": [],
   "source": [
    "plt.figure(figsize=(18, 8))\n",
    "\n",
    "plt.subplot(1, 2, 1)\n",
    "sns.heatmap(df_32_EYE == -1, cmap='viridis')\n",
    "plt.title('Heatmap of -1 Values')\n",
    "\n",
    "plt.subplot(1, 2, 2)\n",
    "sns.heatmap(df_32_EYE == 1, cmap='viridis')\n",
    "plt.title('Heatmap of 1 Values')\n",
    "\n",
    "plt.tight_layout()\n",
    "plt.show()"
   ]
  },
  {
   "cell_type": "code",
   "execution_count": null,
   "id": "cd6e95b7",
   "metadata": {
    "id": "3b98a13b"
   },
   "outputs": [],
   "source": [
    "df_32_EYE[df_32_EYE['ET_PupilLeft'] == -1].shape"
   ]
  },
  {
   "cell_type": "code",
   "execution_count": null,
   "id": "5b02d63e",
   "metadata": {
    "id": "a2f296f6"
   },
   "outputs": [],
   "source": [
    "df_32_EYE[df_32_EYE['ET_PupilRight'] == -1].shape"
   ]
  },
  {
   "cell_type": "code",
   "execution_count": null,
   "id": "84d8f5a6",
   "metadata": {
    "id": "42cff7eb"
   },
   "outputs": [],
   "source": [
    "df_32_EYE[df_32_EYE['ET_PupilLeft'] == -1].shape[0] / df_32_EYE.shape[0]"
   ]
  },
  {
   "cell_type": "code",
   "execution_count": null,
   "id": "71f51883",
   "metadata": {
    "id": "83c97903"
   },
   "outputs": [],
   "source": [
    "df_32_EYE[df_32_EYE['ET_PupilRight'] == -1].shape[0] / df_32_EYE.shape[0]"
   ]
  },
  {
   "cell_type": "code",
   "execution_count": null,
   "id": "b5021895",
   "metadata": {
    "id": "6e176d63"
   },
   "outputs": [],
   "source": [
    "plt.figure(figsize=(18, 8))\n",
    "\n",
    "plt.subplot(1, 2, 1)\n",
    "sns.heatmap(df_32_EYE[df_32_EYE['ET_ValidityLeft'] == 1] == -1, cmap='viridis')\n",
    "plt.title('Heatmap of -1 Values')\n",
    "\n",
    "plt.subplot(1, 2, 2)\n",
    "sns.heatmap(df_32_EYE[df_32_EYE['ET_ValidityRight'] == 1] == -1, cmap='viridis')\n",
    "plt.title('Heatmap of -1 Values')\n",
    "\n",
    "plt.tight_layout()\n",
    "plt.show()"
   ]
  },
  {
   "cell_type": "markdown",
   "id": "4529f79d",
   "metadata": {
    "id": "fff8db39"
   },
   "source": [
    "# Notes & Observations\n",
    "\n",
    "- The heatmaps reveal the distribution of -1 values across different columns.\n",
    "- It is evident that the `-1` values are not randomly scattered but appear in specific columns, notably `ET_GazeLeftx`, `ET_GazeLefty`, `ET_GazeRightx`, `ET_GazeRighty`, `ET_PupilLeft`, `ET_PupilRight`, `ET_DistanceLeft`, `ET_DistanceRight`, `ET_CameraLeftX`, `ET_CameraLeftY`, `ET_CameraRightX`, and `ET_CameraRightY`.\n",
    "- These `-1` values often coincide with instances where `ET_ValidityLeft` or `ET_ValidityRight` is 1, indicating invalid eye-tracking data. This suggests that `-1` is used as a placeholder for missing or invalid measurements in these columns when the eye tracker is not providing valid data for a particular eye.\n",
    "- Given that over 70% of the data in the `ET_PupilLeft` and `ET_PupilRight` columns is marked as invalid (-1), so instead of dropping them we can create new feature for both the `ET_PupilLeft` and `ET_PupilRight` to represent which row consist invalid `ET_PupilLeft` and `ET_PupilRight` data"
   ]
  },
  {
   "cell_type": "code",
   "execution_count": null,
   "id": "814df53a",
   "metadata": {
    "id": "cf7437aa"
   },
   "outputs": [],
   "source": [
    "pupil_validity = {-1: 1 }"
   ]
  },
  {
   "cell_type": "code",
   "execution_count": null,
   "id": "387ba231",
   "metadata": {
    "id": "989b113d"
   },
   "outputs": [],
   "source": [
    "df_32_EYE['ET_PupilLeft_validity'] = df_32_EYE['ET_PupilLeft'].map(pupil_validity)"
   ]
  },
  {
   "cell_type": "code",
   "execution_count": null,
   "id": "e5732e99",
   "metadata": {
    "id": "9ecdfbc0"
   },
   "outputs": [],
   "source": [
    "df_32_EYE['ET_PupilRight_validity'] = df_32_EYE['ET_PupilRight'].map(pupil_validity)"
   ]
  },
  {
   "cell_type": "code",
   "execution_count": null,
   "id": "2aa7ed17",
   "metadata": {
    "id": "7f5d2b28"
   },
   "outputs": [],
   "source": [
    "df_32_EYE[['ET_PupilLeft_validity', 'ET_PupilRight_validity']].head()"
   ]
  },
  {
   "cell_type": "code",
   "execution_count": null,
   "id": "dbdbee3c",
   "metadata": {
    "id": "6a86c472"
   },
   "outputs": [],
   "source": [
    "df_32_EYE[['ET_PupilLeft_validity', 'ET_PupilRight_validity']].isnull().sum()"
   ]
  },
  {
   "cell_type": "code",
   "execution_count": null,
   "id": "754941ad",
   "metadata": {
    "id": "9121e4a8"
   },
   "outputs": [],
   "source": [
    "plt.figure(figsize=(18, 8))\n",
    "sns.heatmap(df_32_EYE[['ET_PupilLeft_validity', 'ET_PupilRight_validity']].isnull(), cmap='viridis')\n",
    "plt.show()"
   ]
  },
  {
   "cell_type": "code",
   "execution_count": null,
   "id": "acc9b3eb",
   "metadata": {
    "id": "613a230a"
   },
   "outputs": [],
   "source": [
    "df_32_EYE['ET_PupilLeft_validity'] = df_32_EYE['ET_PupilLeft_validity'].fillna(0)"
   ]
  },
  {
   "cell_type": "code",
   "execution_count": null,
   "id": "80687be7",
   "metadata": {
    "id": "89ae7d3f"
   },
   "outputs": [],
   "source": [
    "df_32_EYE['ET_PupilRight_validity'] = df_32_EYE['ET_PupilRight_validity'].fillna(0)"
   ]
  },
  {
   "cell_type": "code",
   "execution_count": null,
   "id": "f649d7f5",
   "metadata": {
    "id": "a2c39f03"
   },
   "outputs": [],
   "source": [
    "df_32_EYE[['ET_PupilLeft_validity', 'ET_PupilRight_validity']].head()"
   ]
  },
  {
   "cell_type": "code",
   "execution_count": null,
   "id": "6ad5c9ab",
   "metadata": {
    "id": "6e9c2645"
   },
   "outputs": [],
   "source": [
    "plt.figure(figsize=(18, 8))\n",
    "sns.heatmap(df_32_EYE[['ET_PupilLeft_validity', 'ET_PupilRight_validity']].isnull(), cmap='viridis')\n",
    "plt.show()"
   ]
  },
  {
   "cell_type": "code",
   "execution_count": null,
   "id": "def23569",
   "metadata": {
    "id": "7e52da92"
   },
   "outputs": [],
   "source": [
    "df_32_EYE.head()"
   ]
  },
  {
   "cell_type": "code",
   "execution_count": null,
   "id": "1643f628",
   "metadata": {
    "id": "1cefd42d"
   },
   "outputs": [],
   "source": [
    "plt.figure(figsize=(18, 8))\n",
    "\n",
    "plt.subplot(1, 2, 1)\n",
    "sns.heatmap(df_32_EYE == -1, cmap='viridis')\n",
    "plt.title('Heatmap of -1 Values')\n",
    "\n",
    "plt.subplot(1, 2, 2)\n",
    "sns.heatmap(df_32_EYE == 1, cmap='viridis')\n",
    "plt.title('Heatmap of -1 Values')\n",
    "\n",
    "plt.tight_layout()\n",
    "plt.show()"
   ]
  },
  {
   "cell_type": "code",
   "execution_count": null,
   "id": "f75af410",
   "metadata": {
    "id": "dcf38f27"
   },
   "outputs": [],
   "source": [
    "valid_left_ratio  = 1 - df_32_EYE['ET_ValidityLeft'].mean()"
   ]
  },
  {
   "cell_type": "code",
   "execution_count": null,
   "id": "edc68e94",
   "metadata": {
    "id": "2aea00ec"
   },
   "outputs": [],
   "source": [
    "valid_left_ratio"
   ]
  },
  {
   "cell_type": "code",
   "execution_count": null,
   "id": "b91798db",
   "metadata": {
    "id": "19ac306c"
   },
   "outputs": [],
   "source": [
    "valid_right_ratio = 1 - df_32_EYE['ET_ValidityRight'].mean()"
   ]
  },
  {
   "cell_type": "code",
   "execution_count": null,
   "id": "40fb3855",
   "metadata": {
    "id": "4f0aa48e"
   },
   "outputs": [],
   "source": [
    "valid_right_ratio"
   ]
  },
  {
   "cell_type": "code",
   "execution_count": null,
   "id": "3959fb5d",
   "metadata": {
    "id": "a000b670"
   },
   "outputs": [],
   "source": [
    "df_32_EYE['ET_PupilLeft_validity'] = df_32_EYE['ET_PupilLeft_validity'].astype(np.int8)\n",
    "df_32_EYE['ET_PupilRight_validity'] = df_32_EYE['ET_PupilRight_validity'].astype(np.int8)"
   ]
  },
  {
   "cell_type": "markdown",
   "id": "61558c9e",
   "metadata": {
    "id": "6acf6847"
   },
   "source": [
    "# Feature Engineering and Observations\n",
    "\n",
    "Based on the analysis of the data, we've created two new features, `ET_PupilLeft_validity` and `ET_PupilRight_validity`. These features indicate the validity of the pupil data for the left and right eyes, respectively, with a value of 1 representing invalid data (originally -1) and 0 representing valid data.\n",
    "\n",
    "The heatmaps above visually demonstrate the distribution of -1 and 1 values across the dataset. We observed that:\n",
    "- The `-1` values are concentrated in specific columns related to gaze, pupil size, distance, and camera position, suggesting they represent missing or invalid sensor readings.\n",
    "- The `1` values, after mapping from `4.0` in the original validity columns, indicate instances of invalid eye-tracking data.\n",
    "- The heatmaps also show a strong correlation between the `-1` values in the pupil columns and a validity of 1 in the newly created pupil validity features, confirming that -1 was used to mark invalid pupil data."
   ]
  },
  {
   "cell_type": "code",
   "execution_count": null,
   "id": "815f1d33",
   "metadata": {
    "id": "de9f2594"
   },
   "outputs": [],
   "source": [
    "df_32_EYE.head()"
   ]
  },
  {
   "cell_type": "code",
   "execution_count": null,
   "id": "3316ece7",
   "metadata": {
    "id": "bfa2e174"
   },
   "outputs": [],
   "source": [
    "# Select only the numeric columns for plotting histograms, excluding time-related columns\n",
    "numeric_cols = df_32_EYE.select_dtypes(include=np.number).columns\n",
    "cols_to_plot = [col for col in numeric_cols if col not in ['UnixTime']]\n",
    "\n",
    "# Calculate the number of rows and columns for the grid\n",
    "n_cols = 4  # You can adjust the number of columns as needed\n",
    "n_rows = (len(cols_to_plot) + n_cols - 1) // n_cols\n",
    "\n",
    "plt.figure(figsize=(n_cols * 5, n_rows * 4)) # Adjust figure size as needed\n",
    "\n",
    "for i, col in enumerate(cols_to_plot):\n",
    "    plt.subplot(n_rows, n_cols, i + 1)\n",
    "    sns.histplot(df_32_EYE[col], kde=True)\n",
    "    plt.title(f'Distribution of {col}')\n",
    "    plt.xlabel(col)\n",
    "    plt.ylabel('Frequency')\n",
    "\n",
    "plt.tight_layout()\n",
    "plt.show()"
   ]
  },
  {
   "cell_type": "markdown",
   "id": "14487d8a",
   "metadata": {
    "id": "8059766d"
   },
   "source": [
    "# Observations from Histograms\n",
    "\n",
    "The grid of histograms provides insights into the distribution of values for each numeric column in the dataset (excluding 'UnixTime'). Key observations include:\n",
    "\n",
    "- Several columns, such as `ET_GazeLeftx`, `ET_GazeLefty`, `ET_GazeRightx`, and `ET_GazeRighty`, show distributions that appear somewhat multimodal or skewed, suggesting variations in gaze patterns.\n",
    "- The `ET_PupilLeft` and `ET_PupilRight` histograms clearly show a peak at -1, confirming the presence of a significant number of invalid pupil readings.\n",
    "- `ET_TimeSignal` shows a relatively uniform distribution, as expected for a time-based signal.\n",
    "- `ET_DistanceLeft` and `ET_DistanceRight` appear to have distributions centered around certain values, with some outliers or variations.\n",
    "- The camera position columns (`ET_CameraLeftX`, `ET_CameraLeftY`, `ET_CameraRightX`, `ET_CameraRightY`) seem to have distributions concentrated within specific ranges, reflecting the camera's field of view.\n",
    "- The validity columns (`ET_ValidityLeft`, `ET_ValidityRight`, `ET_PupilLeft_validity`, `ET_PupilRight_validity`) show distributions dominated by 0, indicating that most of the data is considered valid after the mapping. The smaller peaks at 1 represent the instances of invalid data.\n",
    "\n",
    "These distributions highlight the need for appropriate handling of the -1 values and potential outliers in subsequent analysis or modeling steps."
   ]
  },
  {
   "cell_type": "code",
   "execution_count": null,
   "id": "d9215c91",
   "metadata": {
    "id": "cb65ae1e"
   },
   "outputs": [],
   "source": [
    "df_32_EYE.columns"
   ]
  },
  {
   "cell_type": "code",
   "execution_count": null,
   "id": "45bb5963",
   "metadata": {
    "id": "8cf2280c"
   },
   "outputs": [],
   "source": [
    "cols = ['ET_GazeLeftx', 'ET_GazeLefty',\n",
    "       'ET_GazeRightx', 'ET_GazeRighty', 'ET_PupilLeft', 'ET_PupilRight',\n",
    "       'ET_TimeSignal', 'ET_DistanceLeft', 'ET_DistanceRight',\n",
    "       'ET_CameraLeftX', 'ET_CameraLeftY', 'ET_CameraRightX',\n",
    "       'ET_CameraRightY', 'ET_ValidityLeft', 'ET_ValidityRight',\n",
    "       'ET_PupilLeft_validity', 'ET_PupilRight_validity']"
   ]
  },
  {
   "cell_type": "code",
   "execution_count": null,
   "id": "84114b60",
   "metadata": {
    "id": "85e45ea9"
   },
   "outputs": [],
   "source": [
    "from IPython.display import display, Markdown\n",
    "\n",
    "for col in cols:\n",
    "    # Add a markdown cell before each plot for better separation and labeling\n",
    "    display(Markdown(f'### {col} over Time'))\n",
    "    plt.figure(figsize=(16, 10))\n",
    "    plt.plot(df_32_EYE['Timestamp'], df_32_EYE[col])\n",
    "    plt.xlabel(\"Timestamp\") # Add x-axis label\n",
    "    plt.ylabel(col) # Add y-axis label\n",
    "    plt.show()"
   ]
  },
  {
   "cell_type": "markdown",
   "id": "1417a9a1",
   "metadata": {
    "id": "f7ffd08f"
   },
   "source": [
    "# Observations from Time Series Plots\n",
    "\n",
    "The line plots showing various features against the `Timestamp` reveal the temporal patterns and fluctuations in the eye-tracking data. Key observations include:\n",
    "\n",
    "- **Gaze Coordinates (`ET_GazeLeftx`, `ET_GazeLefty`, `ET_GazeRightx`, `ET_GazeRighty`):** These plots show the changes in gaze position over time. We can observe periods of relatively stable gaze interspersed with rapid movements (saccades) and blinks or other events where the gaze data might be invalid (-1 values appear as gaps or spikes if not handled).\n",
    "- **Pupil Size (`ET_PupilLeft`, `ET_PupilRight`):** The pupil size plots show variations over time. The presence of many -1 values is evident as flat lines at the bottom of the plot, indicating periods where pupil data was not recorded or was invalid.\n",
    "- **Time Signal (`ET_TimeSignal`):** This plot shows a steady, increasing trend, as expected for a time-based signal.\n",
    "- **Distance and Camera Position (`ET_DistanceLeft`, `ET_DistanceRight`, `ET_CameraLeftX`, `ET_CameraLeftY`, `ET_CameraRightX`, `ET_CameraRightY`):** These plots show how the distance from the eye tracker and the camera positions change over time. Variations in these features can be related to head movements or changes in the user's position relative to the eye tracker.\n",
    "- **Validity (`ET_ValidityLeft`, `ET_ValidityRight`, `ET_PupilLeft_validity`, `ET_PupilRight_validity`):** These plots clearly show periods of invalid data (represented by 1) as spikes or plateaus, corresponding to instances where the eye tracker lost track of the eyes or the pupil data was marked as invalid.\n",
    "\n",
    "Analyzing these time series plots is crucial for understanding the dynamics of the eye-tracking data and identifying patterns or anomalies that may require further investigation or specific handling during subsequent analysis."
   ]
  },
  {
   "cell_type": "code",
   "execution_count": null,
   "id": "51b9a859",
   "metadata": {
    "id": "cdd85f8c"
   },
   "outputs": [],
   "source": [
    "# Select only the numeric columns for plotting histograms, excluding time-related columns\n",
    "numeric_cols = df_32_EYE.select_dtypes(include=np.number).columns\n",
    "\n",
    "# Calculate the number of rows and columns for the grid\n",
    "n_cols = 4  # You can adjust the number of columns as needed\n",
    "n_rows = (len(numeric_cols) + n_cols - 1) // n_cols\n",
    "\n",
    "plt.figure(figsize=(n_cols * 5, n_rows * 4)) # Adjust figure size as needed\n",
    "\n",
    "for i, col in enumerate(numeric_cols):\n",
    "    plt.subplot(n_rows, n_cols, i + 1)\n",
    "    sns.boxplot(df_32_EYE[col])\n",
    "    plt.title(f'Boxplot of {col}')\n",
    "    plt.xlabel(col)\n",
    "\n",
    "plt.tight_layout()\n",
    "plt.show()"
   ]
  },
  {
   "cell_type": "markdown",
   "id": "3944f2cc",
   "metadata": {
    "id": "2cca19c5"
   },
   "source": [
    "# Observations from Boxplots and Handling -1 Values\n",
    "\n",
    "The boxplots provide a visual summary of the distribution and potential outliers for each numeric column. Key observations from the boxplots include:\n",
    "\n",
    "- The boxplots for columns like `ET_GazeLeftx`, `ET_GazeLefty`, `ET_GazeRightx`, `ET_GazeRighty`, `ET_PupilLeft`, `ET_PupilRight`, `ET_DistanceLeft`, `ET_DistanceRight`, `ET_CameraLeftX`, `ET_CameraLeftY`, `ET_CameraRightX`, and `ET_CameraRightY` clearly show the presence of -1 values as significant outliers, confirming our earlier observations from the heatmaps and histograms.\n",
    "- The boxplots for the validity columns (`ET_ValidityLeft`, `ET_ValidityRight`, `ET_PupilLeft_validity`, `ET_PupilRight_validity`) show the discrete nature of these features, with the majority of data points at 0 (valid) and a smaller number at 1 (invalid).\n",
    "\n",
    "Given the significant presence of -1 values, which represent invalid or missing data, especially in the pupil-related columns, we have decided to replace these -1 values with NaN to properly represent them as missing data. Subsequently, we will impute these missing values using the mean of each respective column. This approach helps to retain the data structure and allows for further analysis or modeling without the distortion caused by the -1 placeholders."
   ]
  },
  {
   "cell_type": "code",
   "execution_count": null,
   "id": "157da24f",
   "metadata": {
    "id": "9217371b"
   },
   "outputs": [],
   "source": [
    "df_32_EYE.replace({-1: np.nan}, inplace=True)"
   ]
  },
  {
   "cell_type": "code",
   "execution_count": null,
   "id": "5e5ce494",
   "metadata": {
    "id": "8108fa01"
   },
   "outputs": [],
   "source": [
    "df_32_EYE[['ET_GazeLeftx', 'ET_GazeLefty',\n",
    "       'ET_GazeRightx', 'ET_GazeRighty', 'ET_PupilLeft', 'ET_PupilRight',\n",
    "       'ET_TimeSignal', 'ET_DistanceLeft', 'ET_DistanceRight',\n",
    "       'ET_CameraLeftX', 'ET_CameraLeftY', 'ET_CameraRightX',\n",
    "       'ET_CameraRightY', 'ET_ValidityLeft', 'ET_ValidityRight',\n",
    "       'ET_PupilLeft_validity', 'ET_PupilRight_validity']].mean()"
   ]
  },
  {
   "cell_type": "code",
   "execution_count": null,
   "id": "51191548",
   "metadata": {
    "id": "9b94fbce"
   },
   "outputs": [],
   "source": [
    "df_32_EYE[['ET_GazeLeftx', 'ET_GazeLefty',\n",
    "       'ET_GazeRightx', 'ET_GazeRighty', 'ET_PupilLeft', 'ET_PupilRight',\n",
    "       'ET_TimeSignal', 'ET_DistanceLeft', 'ET_DistanceRight',\n",
    "       'ET_CameraLeftX', 'ET_CameraLeftY', 'ET_CameraRightX',\n",
    "       'ET_CameraRightY', 'ET_ValidityLeft', 'ET_ValidityRight',\n",
    "       'ET_PupilLeft_validity', 'ET_PupilRight_validity']].median()"
   ]
  },
  {
   "cell_type": "code",
   "execution_count": null,
   "id": "75e1b8b9",
   "metadata": {
    "id": "ee1238c8"
   },
   "outputs": [],
   "source": [
    "numeric_cols = df_32_EYE.select_dtypes(include=np.number).columns\n",
    "\n",
    "for col in numeric_cols:\n",
    "    df_32_EYE[col] = df_32_EYE[col].fillna(df_32_EYE[col].mean())"
   ]
  },
  {
   "cell_type": "code",
   "execution_count": null,
   "id": "8953e5b4",
   "metadata": {
    "id": "b0bc522d"
   },
   "outputs": [],
   "source": [
    "plt.figure(figsize=(18, 8))\n",
    "\n",
    "plt.subplot(1, 2, 1)\n",
    "sns.heatmap(df_32_EYE.isnull(), cmap='viridis')\n",
    "plt.title('Heatmap of Missing Values After Imputation')\n",
    "\n",
    "plt.subplot(1, 2, 2)\n",
    "sns.heatmap(df_32_EYE == 1, cmap='viridis')\n",
    "plt.title('Heatmap of 1 Values')\n",
    "\n",
    "plt.tight_layout()\n",
    "plt.show()"
   ]
  },
  {
   "cell_type": "markdown",
   "id": "4d9ac987",
   "metadata": {
    "id": "c0f1e10d"
   },
   "source": [
    "# Handling Missing Values (Imputation)\n",
    "\n",
    "As decided, we have replaced all the `-1` values with `NaN` to treat them as missing data. Subsequently, we have imputed these `NaN` values with the mean of their respective columns. The heatmap above, which was generated after the imputation, now shows no visible signs of `NaN` values, indicating that the imputation was successful."
   ]
  },
  {
   "cell_type": "code",
   "execution_count": null,
   "id": "91897da2",
   "metadata": {
    "id": "2491c1da"
   },
   "outputs": [],
   "source": [
    "df_32_EYE.head()"
   ]
  },
  {
   "cell_type": "code",
   "execution_count": null,
   "id": "6c22a2ce",
   "metadata": {
    "id": "64f04350"
   },
   "outputs": [],
   "source": [
    "# Select only the numeric columns for plotting histograms, excluding time-related columns\n",
    "numeric_cols = df_32_EYE.select_dtypes(include=np.number).columns\n",
    "cols_to_plot = [col for col in numeric_cols if col not in ['UnixTime']]\n",
    "\n",
    "# Calculate the number of rows and columns for the grid\n",
    "n_cols = 4  # You can adjust the number of columns as needed\n",
    "n_rows = (len(cols_to_plot) + n_cols - 1) // n_cols\n",
    "\n",
    "plt.figure(figsize=(n_cols * 5, n_rows * 4)) # Adjust figure size as needed\n",
    "\n",
    "for i, col in enumerate(cols_to_plot):\n",
    "    plt.subplot(n_rows, n_cols, i + 1)\n",
    "    sns.histplot(df_32_EYE[col], kde=True)\n",
    "    plt.title(f'Distribution of {col}')\n",
    "    plt.xlabel(col)\n",
    "    plt.ylabel('Frequency')\n",
    "\n",
    "plt.tight_layout()\n",
    "plt.show()"
   ]
  },
  {
   "cell_type": "markdown",
   "id": "40e5a3ae",
   "metadata": {
    "id": "e0c83f1c"
   },
   "source": [
    "# Observations from Histograms After Imputation\n",
    "\n",
    "The histograms generated after replacing the -1 values with the mean of each column show the distributions of the numeric features with the missing data handled. Key observations from these updated histograms include:\n",
    "\n",
    "- The distinct peaks at -1, which were prominent in the histograms for several columns (e.g., pupil size, gaze coordinates, distance, and camera position) before imputation, are now replaced by a peak at the mean of each respective column.\n",
    "- The distributions in many columns now appear more unimodal or show shifted modes compared to the original histograms.\n",
    "- The histograms for the validity columns still show their bimodal distributions with peaks at 0 and 1, as these were handled separately.\n",
    "\n",
    "These histograms provide an updated view of the data's distribution after handling the missing values, highlighting the impact of the imputation method on the data's characteristics."
   ]
  },
  {
   "cell_type": "code",
   "execution_count": null,
   "id": "c9d30466",
   "metadata": {
    "id": "de0b2f65"
   },
   "outputs": [],
   "source": [
    "cols = ['ET_GazeLeftx', 'ET_GazeLefty',\n",
    "       'ET_GazeRightx', 'ET_GazeRighty', 'ET_PupilLeft', 'ET_PupilRight',\n",
    "       'ET_TimeSignal', 'ET_DistanceLeft', 'ET_DistanceRight',\n",
    "       'ET_CameraLeftX', 'ET_CameraLeftY', 'ET_CameraRightX',\n",
    "       'ET_CameraRightY', 'ET_ValidityLeft', 'ET_ValidityRight',\n",
    "       'ET_PupilLeft_validity', 'ET_PupilRight_validity']"
   ]
  },
  {
   "cell_type": "code",
   "execution_count": null,
   "id": "795081c6",
   "metadata": {
    "id": "4ddd4915"
   },
   "outputs": [],
   "source": [
    "for col in cols:\n",
    "    # Add a markdown cell before each plot for better separation and labeling\n",
    "    display(Markdown(f'### {col} over Time'))\n",
    "    plt.figure(figsize=(16, 10))\n",
    "    plt.plot(df_32_EYE['Timestamp'], df_32_EYE[col])\n",
    "    plt.xlabel(\"Timestamp\") # Add x-axis label\n",
    "    plt.ylabel(col) # Add y-axis label\n",
    "    plt.show()"
   ]
  },
  {
   "cell_type": "markdown",
   "id": "44034d3a",
   "metadata": {
    "id": "0fb07abb"
   },
   "source": [
    "# Observations from Time Series Plots After Imputation\n",
    "\n",
    "The line plots generated after imputing the missing values with the mean show the temporal patterns of the features with the missing data handled. Key observations from these updated plots include:\n",
    "\n",
    "- The gaps or flat lines at -1, which were prominent in the plots for columns like gaze coordinates, pupil size, distance, and camera position, are now filled by lines at the mean value of the respective columns.\n",
    "- The plots for the validity columns remain the same as they were handled separately.\n",
    "- The `ET_TimeSignal` plot still shows a steady increasing trend, as expected."
   ]
  },
  {
   "cell_type": "code",
   "execution_count": null,
   "id": "97d615eb",
   "metadata": {
    "id": "c608fd95"
   },
   "outputs": [],
   "source": [
    "plt.figure(figsize=(16, 10))\n",
    "sns.heatmap(df_32_EYE.corr(numeric_only=True), cmap='YlGnBu', annot=True)\n",
    "plt.show()"
   ]
  },
  {
   "cell_type": "markdown",
   "id": "26c66b22",
   "metadata": {
    "id": "82405ba6"
   },
   "source": [
    "# Observations from Correlation Heatmap\n",
    "\n",
    "The correlation heatmap provides a visual representation of the pairwise correlations between the numeric columns in the dataset. Key observations from the heatmap include:\n",
    "\n",
    "- **High Positive Correlations:** We observe strong positive correlations (values close to 1) between:\n",
    "  - `ET_GazeLeftx` and `ET_GazeRightx`: This is expected as the gaze positions of both eyes should be highly correlated when fixating on a point.\n",
    "  - `ET_GazeLefty` and `ET_GazeRighty`: Similar to the x-coordinates, the y-coordinates of gaze should also be highly correlated.\n",
    "  - `ET_PupilLeft` and `ET_PupilRight`: Pupil sizes of both eyes tend to change together in response to light and cognitive load.\n",
    "  - `ET_DistanceLeft` and `ET_DistanceRight`: The distance from the eye tracker to each eye should be highly correlated.\n",
    "  - `ET_CameraLeftX` and `ET_CameraRightX`, `ET_CameraLeftY` and `ET_CameraRightY`: The camera positions for both eyes are also expected to be highly correlated.\n",
    "  - `UnixTime` and `ET_TimeSignal`: As previously noted, these two columns are almost perfectly linearly correlated, indicating redundancy.\n",
    "  - `ET_ValidityLeft` and `ET_PupilLeft_validity`: There is a positive correlation, suggesting that when the overall left eye data is invalid, the left pupil data is also likely to be invalid.\n",
    "  - `ET_ValidityRight` and `ET_PupilRight_validity`: Similar to the left eye, there is a positive correlation between the overall right eye validity and the right pupil validity.\n",
    "- **Other Correlations:** We can also observe other varying degrees of correlations between different features, which can provide insights into the relationships between gaze behavior, pupil size, distance, and camera position. For example, there might be correlations between gaze coordinates and camera positions, reflecting head movements.\n",
    "- **Low or Near-Zero Correlations:** Columns with low or near-zero correlations are relatively independent of each other.\n",
    "\n",
    "Understanding these correlations is important for feature selection and for building models, as highly correlated features might indicate multicollinearity, while correlations between features can reveal underlying patterns in the data."
   ]
  },
  {
   "cell_type": "markdown",
   "id": "1e1cdd42",
   "metadata": {
    "id": "1c413c3b"
   },
   "source": [
    "# Analysis of ET_TimeSignal and Decision to Drop\n",
    "\n",
    "As observed in the time series plot and confirmed by the correlation heatmap, the `ET_TimeSignal` column exhibits a near-perfect linear relationship with both the `Timestamp` and `UnixTime` columns. This strong correlation (close to 1) suggests that `ET_TimeSignal` is essentially redundant and likely represents another form of time recording or a signal directly derived from the timestamp.\n",
    "\n",
    "Including highly correlated features like this in a dataset can lead to issues such as multicollinearity in some statistical models, which can make it difficult to interpret the individual impact of each feature. Since the `Timestamp` column already provides the necessary temporal information, retaining `ET_TimeSignal` does not appear to add significant value for further analysis or modeling in most cases.\n",
    "\n",
    "Therefore, based on its high correlation and lack of unique insight, we will proceed to drop the `ET_TimeSignal` column to simplify the dataset and potentially improve the performance and interpretability of future analyses."
   ]
  },
  {
   "cell_type": "code",
   "execution_count": null,
   "id": "d2fe46b1",
   "metadata": {
    "id": "7c96e349"
   },
   "outputs": [],
   "source": [
    "df_32_EYE.drop('ET_TimeSignal', axis=1, inplace=True)"
   ]
  },
  {
   "cell_type": "code",
   "execution_count": null,
   "id": "e975af6a",
   "metadata": {
    "id": "5845a61d"
   },
   "outputs": [],
   "source": [
    "plt.figure(figsize=(16, 10))\n",
    "sns.pairplot(df_32_EYE)\n",
    "plt.show()"
   ]
  },
  {
   "cell_type": "markdown",
   "id": "08f5d164",
   "metadata": {
    "id": "sMcHS8LIOGeT"
   },
   "source": [
    "# **33_EYE**"
   ]
  },
  {
   "cell_type": "code",
   "execution_count": null,
   "id": "bacd8de2",
   "metadata": {
    "id": "L2tJooyROWnM"
   },
   "outputs": [],
   "source": []
  },
  {
   "cell_type": "code",
   "execution_count": null,
   "id": "06292b40",
   "metadata": {
    "id": "6c647c4f"
   },
   "outputs": [],
   "source": [
    "df_33_EYE = pd.read_csv('data/STData/33/33_EYE.csv')"
   ]
  },
  {
   "cell_type": "code",
   "execution_count": null,
   "id": "1db6a272",
   "metadata": {
    "id": "c229bba7"
   },
   "outputs": [],
   "source": [
    "df_33_EYE.head()"
   ]
  },
  {
   "cell_type": "code",
   "execution_count": null,
   "id": "6c44f621",
   "metadata": {
    "id": "0ec8e716"
   },
   "outputs": [],
   "source": [
    "df_33_EYE.shape"
   ]
  },
  {
   "cell_type": "code",
   "execution_count": null,
   "id": "0b335121",
   "metadata": {
    "id": "43ba37eb"
   },
   "outputs": [],
   "source": [
    "df_33_EYE.columns"
   ]
  },
  {
   "cell_type": "code",
   "execution_count": null,
   "id": "2be3bdf1",
   "metadata": {
    "id": "19f68fb4"
   },
   "outputs": [],
   "source": [
    "df_33_EYE.info()"
   ]
  },
  {
   "cell_type": "code",
   "execution_count": null,
   "id": "f3df5a44",
   "metadata": {
    "id": "603369d7"
   },
   "outputs": [],
   "source": [
    "df_33_EYE.isnull().sum()"
   ]
  },
  {
   "cell_type": "code",
   "execution_count": null,
   "id": "4b6630ea",
   "metadata": {
    "id": "874353e3"
   },
   "outputs": [],
   "source": [
    "plt.figure(figsize=(12,8))\n",
    "sns.heatmap(df_33_EYE.isnull(), cmap='viridis')\n",
    "plt.show()"
   ]
  },
  {
   "cell_type": "markdown",
   "id": "60cae2fa",
   "metadata": {
    "id": "b17906e7"
   },
   "source": [
    "# Notes & Observations\n",
    "\n",
    "- We observe many **null** (or missing) values in the `QuestionKey` columns.\n",
    "- The nulls in the `QuestionKey` column may not represent “true” nulls. Rather, they follow interval patterns, suggesting that during those periods no question was displayed.\n",
    "- These missing values in `QuestionKey` require additional investigation and context-aware handling."
   ]
  },
  {
   "cell_type": "code",
   "execution_count": null,
   "id": "97486d7e",
   "metadata": {
    "id": "1113779e"
   },
   "outputs": [],
   "source": [
    "df_33_EYE['QuestionKey'].unique()"
   ]
  },
  {
   "cell_type": "code",
   "execution_count": null,
   "id": "0466ebce",
   "metadata": {
    "id": "db0a93a2"
   },
   "outputs": [],
   "source": [
    "df_33_EYE['Timestamp'] = pd.to_datetime(df_33_EYE['Timestamp'])"
   ]
  },
  {
   "cell_type": "code",
   "execution_count": null,
   "id": "8887c459",
   "metadata": {
    "id": "03d57b0a"
   },
   "outputs": [],
   "source": [
    "df_33_EYE.head(3)"
   ]
  },
  {
   "cell_type": "code",
   "execution_count": null,
   "id": "114cfaa3",
   "metadata": {
    "id": "c0004029"
   },
   "outputs": [],
   "source": [
    "df_33_EYE['QuestionKey'] = df_33_EYE['QuestionKey'].fillna('None')"
   ]
  },
  {
   "cell_type": "code",
   "execution_count": null,
   "id": "c7d37d48",
   "metadata": {
    "id": "dfb4729e"
   },
   "outputs": [],
   "source": [
    "df_33_EYE['QuestionKey'].value_counts()"
   ]
  },
  {
   "cell_type": "code",
   "execution_count": null,
   "id": "006abfcf",
   "metadata": {
    "id": "9353c9d8"
   },
   "outputs": [],
   "source": [
    "plt.figure(figsize=(12,8))\n",
    "sns.heatmap(df_33_EYE.isnull(), cmap='viridis')\n",
    "plt.show()"
   ]
  },
  {
   "cell_type": "code",
   "execution_count": null,
   "id": "e211a438",
   "metadata": {
    "id": "5c73d150"
   },
   "outputs": [],
   "source": [
    "df_33_EYE.isnull().sum()"
   ]
  },
  {
   "cell_type": "code",
   "execution_count": null,
   "id": "658dd6e9",
   "metadata": {
    "id": "6c700142"
   },
   "outputs": [],
   "source": [
    "df_33_EYE.dropna(inplace=True)"
   ]
  },
  {
   "cell_type": "code",
   "execution_count": null,
   "id": "c8599d3c",
   "metadata": {
    "id": "90a604ce"
   },
   "outputs": [],
   "source": [
    "df_33_EYE.head()"
   ]
  },
  {
   "cell_type": "code",
   "execution_count": null,
   "id": "bd8faab2",
   "metadata": {
    "id": "a43a4283"
   },
   "outputs": [],
   "source": [
    "df_33_EYE['Row'].unique()"
   ]
  },
  {
   "cell_type": "code",
   "execution_count": null,
   "id": "7aebc490",
   "metadata": {
    "id": "f66566f9"
   },
   "outputs": [],
   "source": [
    "plt.figure(figsize=(8,6))\n",
    "sns.histplot(df_33_EYE['Row'])\n",
    "plt.show()"
   ]
  },
  {
   "cell_type": "markdown",
   "id": "078d3fdd",
   "metadata": {
    "id": "5ddf40fd"
   },
   "source": [
    "# Notes & Observations\n",
    "\n",
    "- The `Row` column appears to be a simple row index and does not provide meaningful information relevant to the eye-tracking data itself. Therefore, it can be dropped."
   ]
  },
  {
   "cell_type": "code",
   "execution_count": null,
   "id": "3dd29872",
   "metadata": {
    "id": "5aee4404"
   },
   "outputs": [],
   "source": [
    "df_33_EYE.drop('Row', axis=1, inplace=True)"
   ]
  },
  {
   "cell_type": "code",
   "execution_count": null,
   "id": "5581a9a5",
   "metadata": {
    "id": "827f3274"
   },
   "outputs": [],
   "source": [
    "df_33_EYE['ET_ValidityLeft'].unique()"
   ]
  },
  {
   "cell_type": "code",
   "execution_count": null,
   "id": "25dcf8c9",
   "metadata": {
    "id": "1437751a"
   },
   "outputs": [],
   "source": [
    "df_33_EYE['ET_ValidityLeft'].value_counts()"
   ]
  },
  {
   "cell_type": "code",
   "execution_count": null,
   "id": "e2330369",
   "metadata": {
    "id": "d0a9ee4a"
   },
   "outputs": [],
   "source": [
    "df_33_EYE['ET_ValidityRight'].unique()"
   ]
  },
  {
   "cell_type": "code",
   "execution_count": null,
   "id": "29a3c2c3",
   "metadata": {
    "id": "55ddcc2b"
   },
   "outputs": [],
   "source": [
    "df_33_EYE['ET_ValidityRight'].value_counts()"
   ]
  },
  {
   "cell_type": "code",
   "execution_count": null,
   "id": "135bbb0b",
   "metadata": {
    "id": "faef00be"
   },
   "outputs": [],
   "source": [
    "plt.figure(figsize=(12, 6))\n",
    "\n",
    "plt.subplot(1, 2, 1)\n",
    "sns.barplot(x=df_33_EYE['ET_ValidityLeft'].value_counts().index, y=df_33_EYE['ET_ValidityLeft'].value_counts().values)\n",
    "plt.title('Count of ET_ValidityLeft')\n",
    "plt.xlabel('Validity')\n",
    "plt.ylabel('Count')\n",
    "\n",
    "\n",
    "plt.subplot(1, 2, 2)\n",
    "sns.barplot(x=df_33_EYE['ET_ValidityRight'].value_counts().index, y=df_33_EYE['ET_ValidityRight'].value_counts().values)\n",
    "plt.title('Count of ET_ValidityRight')\n",
    "plt.xlabel('Validity')\n",
    "plt.ylabel('Count')\n",
    "\n",
    "plt.tight_layout()\n",
    "plt.show()"
   ]
  },
  {
   "cell_type": "markdown",
   "id": "ffaa109c",
   "metadata": {
    "id": "b43706ea"
   },
   "source": [
    "# Notes & Observations\n",
    "\n",
    "- The `ET_ValidityLeft` and `ET_ValidityRight` columns indicate the validity of the eye-tracking data for the left and right eye, respectively.\n",
    "- Based on the value counts and the bar plots, it appears that a value of `0.0` represents valid eye-tracking data, while a value of `4.0` represents invalid data.\n",
    "- Although the amount of invalid data is relatively small, removing these rows could introduce unwanted patterns or gaps in the time series data.\n",
    "- Therefore, we will keep the data and replace the value `4.0` with `1.0` in both `ET_ValidityLeft` and `ET_ValidityRight` columns. This will indicate to a machine learning model that the eye tracker had invalid data at those specific points in time while maintaining the integrity of the time series."
   ]
  },
  {
   "cell_type": "markdown",
   "id": "cbed8929",
   "metadata": {
    "id": "e9e671b2"
   },
   "source": [
    "Define a mapping to convert validity values from `0.0` and `4.0` to `0` and `1`."
   ]
  },
  {
   "cell_type": "code",
   "execution_count": null,
   "id": "4fac1f82",
   "metadata": {
    "id": "08e7ed71"
   },
   "outputs": [],
   "source": [
    "validity_map = {4.0: 1.0, 0.0: 0.0}"
   ]
  },
  {
   "cell_type": "code",
   "execution_count": null,
   "id": "425ca48f",
   "metadata": {
    "id": "0bba3ac0"
   },
   "outputs": [],
   "source": [
    "df_33_EYE['ET_ValidityLeft'] = df_33_EYE['ET_ValidityLeft'].map(validity_map).astype(np.int8)\n",
    "df_33_EYE['ET_ValidityRight'] = df_33_EYE['ET_ValidityRight'].map(validity_map).astype(np.int8)"
   ]
  },
  {
   "cell_type": "code",
   "execution_count": null,
   "id": "03f66a30",
   "metadata": {
    "id": "0ff3f16c"
   },
   "outputs": [],
   "source": [
    "df_33_EYE.head(3)"
   ]
  },
  {
   "cell_type": "code",
   "execution_count": null,
   "id": "ec533fb3",
   "metadata": {
    "id": "32eb3225"
   },
   "outputs": [],
   "source": [
    "df_33_EYE.describe()"
   ]
  },
  {
   "cell_type": "code",
   "execution_count": null,
   "id": "b77be4a7",
   "metadata": {
    "id": "c1e092e1"
   },
   "outputs": [],
   "source": [
    "df_33_EYE[df_33_EYE['ET_ValidityLeft'] == 1].shape"
   ]
  },
  {
   "cell_type": "code",
   "execution_count": null,
   "id": "1bde72c0",
   "metadata": {
    "id": "8ebfb0cc"
   },
   "outputs": [],
   "source": [
    "df_33_EYE[df_33_EYE['ET_ValidityRight'] == 1].shape"
   ]
  },
  {
   "cell_type": "code",
   "execution_count": null,
   "id": "e43e1e20",
   "metadata": {
    "id": "0d175df2"
   },
   "outputs": [],
   "source": [
    "df_33_EYE[df_33_EYE['ET_ValidityLeft'] == 1].shape[0] / df_33_EYE.shape[0]"
   ]
  },
  {
   "cell_type": "code",
   "execution_count": null,
   "id": "d0f5ba89",
   "metadata": {
    "id": "54cc0f9e"
   },
   "outputs": [],
   "source": [
    "df_33_EYE[df_33_EYE['ET_ValidityRight'] == 1].shape[0] / df_33_EYE.shape[0]"
   ]
  },
  {
   "cell_type": "code",
   "execution_count": null,
   "id": "195f4680",
   "metadata": {
    "id": "45c977c1"
   },
   "outputs": [],
   "source": [
    "plt.figure(figsize=(18, 8))\n",
    "\n",
    "plt.subplot(1, 2, 1)\n",
    "sns.heatmap(df_33_EYE == -1, cmap='viridis')\n",
    "plt.title('Heatmap of -1 Values')\n",
    "\n",
    "plt.subplot(1, 2, 2)\n",
    "sns.heatmap(df_33_EYE == 1, cmap='viridis')\n",
    "plt.title('Heatmap of 1 Values')\n",
    "\n",
    "plt.tight_layout()\n",
    "plt.show()"
   ]
  },
  {
   "cell_type": "code",
   "execution_count": null,
   "id": "b939b0b0",
   "metadata": {
    "id": "3b98a13b"
   },
   "outputs": [],
   "source": [
    "df_33_EYE[df_33_EYE['ET_PupilLeft'] == -1].shape"
   ]
  },
  {
   "cell_type": "code",
   "execution_count": null,
   "id": "6e0fb388",
   "metadata": {
    "id": "a2f296f6"
   },
   "outputs": [],
   "source": [
    "df_33_EYE[df_33_EYE['ET_PupilRight'] == -1].shape"
   ]
  },
  {
   "cell_type": "code",
   "execution_count": null,
   "id": "43a1f93d",
   "metadata": {
    "id": "42cff7eb"
   },
   "outputs": [],
   "source": [
    "df_33_EYE[df_33_EYE['ET_PupilLeft'] == -1].shape[0] / df_33_EYE.shape[0]"
   ]
  },
  {
   "cell_type": "code",
   "execution_count": null,
   "id": "5aa9a731",
   "metadata": {
    "id": "83c97903"
   },
   "outputs": [],
   "source": [
    "df_33_EYE[df_33_EYE['ET_PupilRight'] == -1].shape[0] / df_33_EYE.shape[0]"
   ]
  },
  {
   "cell_type": "code",
   "execution_count": null,
   "id": "72dccbe0",
   "metadata": {
    "id": "6e176d63"
   },
   "outputs": [],
   "source": [
    "plt.figure(figsize=(18, 8))\n",
    "\n",
    "plt.subplot(1, 2, 1)\n",
    "sns.heatmap(df_33_EYE[df_33_EYE['ET_ValidityLeft'] == 1] == -1, cmap='viridis')\n",
    "plt.title('Heatmap of -1 Values')\n",
    "\n",
    "plt.subplot(1, 2, 2)\n",
    "sns.heatmap(df_33_EYE[df_33_EYE['ET_ValidityRight'] == 1] == -1, cmap='viridis')\n",
    "plt.title('Heatmap of -1 Values')\n",
    "\n",
    "plt.tight_layout()\n",
    "plt.show()"
   ]
  },
  {
   "cell_type": "markdown",
   "id": "d3e10177",
   "metadata": {
    "id": "fff8db39"
   },
   "source": [
    "# Notes & Observations\n",
    "\n",
    "- The heatmaps reveal the distribution of -1 values across different columns.\n",
    "- It is evident that the `-1` values are not randomly scattered but appear in specific columns, notably `ET_GazeLeftx`, `ET_GazeLefty`, `ET_GazeRightx`, `ET_GazeRighty`, `ET_PupilLeft`, `ET_PupilRight`, `ET_DistanceLeft`, `ET_DistanceRight`, `ET_CameraLeftX`, `ET_CameraLeftY`, `ET_CameraRightX`, and `ET_CameraRightY`.\n",
    "- These `-1` values often coincide with instances where `ET_ValidityLeft` or `ET_ValidityRight` is 1, indicating invalid eye-tracking data. This suggests that `-1` is used as a placeholder for missing or invalid measurements in these columns when the eye tracker is not providing valid data for a particular eye.\n",
    "- Given that over 70% of the data in the `ET_PupilLeft` and `ET_PupilRight` columns is marked as invalid (-1), so instead of dropping them we can create new feature for both the `ET_PupilLeft` and `ET_PupilRight` to represent which row consist invalid `ET_PupilLeft` and `ET_PupilRight` data"
   ]
  },
  {
   "cell_type": "code",
   "execution_count": null,
   "id": "427bea7b",
   "metadata": {
    "id": "cf7437aa"
   },
   "outputs": [],
   "source": [
    "pupil_validity = {-1: 1 }"
   ]
  },
  {
   "cell_type": "code",
   "execution_count": null,
   "id": "eb06d30d",
   "metadata": {
    "id": "989b113d"
   },
   "outputs": [],
   "source": [
    "df_33_EYE['ET_PupilLeft_validity'] = df_33_EYE['ET_PupilLeft'].map(pupil_validity)"
   ]
  },
  {
   "cell_type": "code",
   "execution_count": null,
   "id": "3ff265de",
   "metadata": {
    "id": "9ecdfbc0"
   },
   "outputs": [],
   "source": [
    "df_33_EYE['ET_PupilRight_validity'] = df_33_EYE['ET_PupilRight'].map(pupil_validity)"
   ]
  },
  {
   "cell_type": "code",
   "execution_count": null,
   "id": "80ebf224",
   "metadata": {
    "id": "7f5d2b28"
   },
   "outputs": [],
   "source": [
    "df_33_EYE[['ET_PupilLeft_validity', 'ET_PupilRight_validity']].head()"
   ]
  },
  {
   "cell_type": "code",
   "execution_count": null,
   "id": "c1412901",
   "metadata": {
    "id": "6a86c472"
   },
   "outputs": [],
   "source": [
    "df_33_EYE[['ET_PupilLeft_validity', 'ET_PupilRight_validity']].isnull().sum()"
   ]
  },
  {
   "cell_type": "code",
   "execution_count": null,
   "id": "709e0f22",
   "metadata": {
    "id": "9121e4a8"
   },
   "outputs": [],
   "source": [
    "plt.figure(figsize=(18, 8))\n",
    "sns.heatmap(df_33_EYE[['ET_PupilLeft_validity', 'ET_PupilRight_validity']].isnull(), cmap='viridis')\n",
    "plt.show()"
   ]
  },
  {
   "cell_type": "code",
   "execution_count": null,
   "id": "d1cec801",
   "metadata": {
    "id": "613a230a"
   },
   "outputs": [],
   "source": [
    "df_33_EYE['ET_PupilLeft_validity'] = df_33_EYE['ET_PupilLeft_validity'].fillna(0)"
   ]
  },
  {
   "cell_type": "code",
   "execution_count": null,
   "id": "0e41e1a8",
   "metadata": {
    "id": "89ae7d3f"
   },
   "outputs": [],
   "source": [
    "df_33_EYE['ET_PupilRight_validity'] = df_33_EYE['ET_PupilRight_validity'].fillna(0)"
   ]
  },
  {
   "cell_type": "code",
   "execution_count": null,
   "id": "9e7623f6",
   "metadata": {
    "id": "a2c39f03"
   },
   "outputs": [],
   "source": [
    "df_33_EYE[['ET_PupilLeft_validity', 'ET_PupilRight_validity']].head()"
   ]
  },
  {
   "cell_type": "code",
   "execution_count": null,
   "id": "1c58bbd9",
   "metadata": {
    "id": "6e9c2645"
   },
   "outputs": [],
   "source": [
    "plt.figure(figsize=(18, 8))\n",
    "sns.heatmap(df_33_EYE[['ET_PupilLeft_validity', 'ET_PupilRight_validity']].isnull(), cmap='viridis')\n",
    "plt.show()"
   ]
  },
  {
   "cell_type": "code",
   "execution_count": null,
   "id": "120d3da7",
   "metadata": {
    "id": "7e52da92"
   },
   "outputs": [],
   "source": [
    "df_33_EYE.head()"
   ]
  },
  {
   "cell_type": "code",
   "execution_count": null,
   "id": "79572e49",
   "metadata": {
    "id": "1cefd42d"
   },
   "outputs": [],
   "source": [
    "plt.figure(figsize=(18, 8))\n",
    "\n",
    "plt.subplot(1, 2, 1)\n",
    "sns.heatmap(df_33_EYE == -1, cmap='viridis')\n",
    "plt.title('Heatmap of -1 Values')\n",
    "\n",
    "plt.subplot(1, 2, 2)\n",
    "sns.heatmap(df_33_EYE == 1, cmap='viridis')\n",
    "plt.title('Heatmap of -1 Values')\n",
    "\n",
    "plt.tight_layout()\n",
    "plt.show()"
   ]
  },
  {
   "cell_type": "code",
   "execution_count": null,
   "id": "c3f6c140",
   "metadata": {
    "id": "dcf38f27"
   },
   "outputs": [],
   "source": [
    "valid_left_ratio  = 1 - df_33_EYE['ET_ValidityLeft'].mean()"
   ]
  },
  {
   "cell_type": "code",
   "execution_count": null,
   "id": "cbae5869",
   "metadata": {
    "id": "2aea00ec"
   },
   "outputs": [],
   "source": [
    "valid_left_ratio"
   ]
  },
  {
   "cell_type": "code",
   "execution_count": null,
   "id": "7630d554",
   "metadata": {
    "id": "19ac306c"
   },
   "outputs": [],
   "source": [
    "valid_right_ratio = 1 - df_33_EYE['ET_ValidityRight'].mean()"
   ]
  },
  {
   "cell_type": "code",
   "execution_count": null,
   "id": "4a7bead4",
   "metadata": {
    "id": "4f0aa48e"
   },
   "outputs": [],
   "source": [
    "valid_right_ratio"
   ]
  },
  {
   "cell_type": "code",
   "execution_count": null,
   "id": "0327cca1",
   "metadata": {
    "id": "a000b670"
   },
   "outputs": [],
   "source": [
    "df_33_EYE['ET_PupilLeft_validity'] = df_33_EYE['ET_PupilLeft_validity'].astype(np.int8)\n",
    "df_33_EYE['ET_PupilRight_validity'] = df_33_EYE['ET_PupilRight_validity'].astype(np.int8)"
   ]
  },
  {
   "cell_type": "markdown",
   "id": "3aec270f",
   "metadata": {
    "id": "6acf6847"
   },
   "source": [
    "# Feature Engineering and Observations\n",
    "\n",
    "Based on the analysis of the data, we've created two new features, `ET_PupilLeft_validity` and `ET_PupilRight_validity`. These features indicate the validity of the pupil data for the left and right eyes, respectively, with a value of 1 representing invalid data (originally -1) and 0 representing valid data.\n",
    "\n",
    "The heatmaps above visually demonstrate the distribution of -1 and 1 values across the dataset. We observed that:\n",
    "- The `-1` values are concentrated in specific columns related to gaze, pupil size, distance, and camera position, suggesting they represent missing or invalid sensor readings.\n",
    "- The `1` values, after mapping from `4.0` in the original validity columns, indicate instances of invalid eye-tracking data.\n",
    "- The heatmaps also show a strong correlation between the `-1` values in the pupil columns and a validity of 1 in the newly created pupil validity features, confirming that -1 was used to mark invalid pupil data."
   ]
  },
  {
   "cell_type": "code",
   "execution_count": null,
   "id": "ec15e811",
   "metadata": {
    "id": "de9f2594"
   },
   "outputs": [],
   "source": [
    "df_33_EYE.head()"
   ]
  },
  {
   "cell_type": "code",
   "execution_count": null,
   "id": "707b8487",
   "metadata": {
    "id": "bfa2e174"
   },
   "outputs": [],
   "source": [
    "# Select only the numeric columns for plotting histograms, excluding time-related columns\n",
    "numeric_cols = df_33_EYE.select_dtypes(include=np.number).columns\n",
    "cols_to_plot = [col for col in numeric_cols if col not in ['UnixTime']]\n",
    "\n",
    "# Calculate the number of rows and columns for the grid\n",
    "n_cols = 4  # You can adjust the number of columns as needed\n",
    "n_rows = (len(cols_to_plot) + n_cols - 1) // n_cols\n",
    "\n",
    "plt.figure(figsize=(n_cols * 5, n_rows * 4)) # Adjust figure size as needed\n",
    "\n",
    "for i, col in enumerate(cols_to_plot):\n",
    "    plt.subplot(n_rows, n_cols, i + 1)\n",
    "    sns.histplot(df_33_EYE[col], kde=True)\n",
    "    plt.title(f'Distribution of {col}')\n",
    "    plt.xlabel(col)\n",
    "    plt.ylabel('Frequency')\n",
    "\n",
    "plt.tight_layout()\n",
    "plt.show()"
   ]
  },
  {
   "cell_type": "markdown",
   "id": "b0b8d523",
   "metadata": {
    "id": "8059766d"
   },
   "source": [
    "# Observations from Histograms\n",
    "\n",
    "The grid of histograms provides insights into the distribution of values for each numeric column in the dataset (excluding 'UnixTime'). Key observations include:\n",
    "\n",
    "- Several columns, such as `ET_GazeLeftx`, `ET_GazeLefty`, `ET_GazeRightx`, and `ET_GazeRighty`, show distributions that appear somewhat multimodal or skewed, suggesting variations in gaze patterns.\n",
    "- The `ET_PupilLeft` and `ET_PupilRight` histograms clearly show a peak at -1, confirming the presence of a significant number of invalid pupil readings.\n",
    "- `ET_TimeSignal` shows a relatively uniform distribution, as expected for a time-based signal.\n",
    "- `ET_DistanceLeft` and `ET_DistanceRight` appear to have distributions centered around certain values, with some outliers or variations.\n",
    "- The camera position columns (`ET_CameraLeftX`, `ET_CameraLeftY`, `ET_CameraRightX`, `ET_CameraRightY`) seem to have distributions concentrated within specific ranges, reflecting the camera's field of view.\n",
    "- The validity columns (`ET_ValidityLeft`, `ET_ValidityRight`, `ET_PupilLeft_validity`, `ET_PupilRight_validity`) show distributions dominated by 0, indicating that most of the data is considered valid after the mapping. The smaller peaks at 1 represent the instances of invalid data.\n",
    "\n",
    "These distributions highlight the need for appropriate handling of the -1 values and potential outliers in subsequent analysis or modeling steps."
   ]
  },
  {
   "cell_type": "code",
   "execution_count": null,
   "id": "6a80c7bb",
   "metadata": {
    "id": "cb65ae1e"
   },
   "outputs": [],
   "source": [
    "df_33_EYE.columns"
   ]
  },
  {
   "cell_type": "code",
   "execution_count": null,
   "id": "bd0f3a0b",
   "metadata": {
    "id": "8cf2280c"
   },
   "outputs": [],
   "source": [
    "cols = ['ET_GazeLeftx', 'ET_GazeLefty',\n",
    "       'ET_GazeRightx', 'ET_GazeRighty', 'ET_PupilLeft', 'ET_PupilRight',\n",
    "       'ET_TimeSignal', 'ET_DistanceLeft', 'ET_DistanceRight',\n",
    "       'ET_CameraLeftX', 'ET_CameraLeftY', 'ET_CameraRightX',\n",
    "       'ET_CameraRightY', 'ET_ValidityLeft', 'ET_ValidityRight',\n",
    "       'ET_PupilLeft_validity', 'ET_PupilRight_validity']"
   ]
  },
  {
   "cell_type": "code",
   "execution_count": null,
   "id": "64b039b4",
   "metadata": {
    "id": "85e45ea9"
   },
   "outputs": [],
   "source": [
    "from IPython.display import display, Markdown\n",
    "\n",
    "for col in cols:\n",
    "    # Add a markdown cell before each plot for better separation and labeling\n",
    "    display(Markdown(f'### {col} over Time'))\n",
    "    plt.figure(figsize=(16, 10))\n",
    "    plt.plot(df_33_EYE['Timestamp'], df_33_EYE[col])\n",
    "    plt.xlabel(\"Timestamp\") # Add x-axis label\n",
    "    plt.ylabel(col) # Add y-axis label\n",
    "    plt.show()"
   ]
  },
  {
   "cell_type": "markdown",
   "id": "ca71ca94",
   "metadata": {
    "id": "f7ffd08f"
   },
   "source": [
    "# Observations from Time Series Plots\n",
    "\n",
    "The line plots showing various features against the `Timestamp` reveal the temporal patterns and fluctuations in the eye-tracking data. Key observations include:\n",
    "\n",
    "- **Gaze Coordinates (`ET_GazeLeftx`, `ET_GazeLefty`, `ET_GazeRightx`, `ET_GazeRighty`):** These plots show the changes in gaze position over time. We can observe periods of relatively stable gaze interspersed with rapid movements (saccades) and blinks or other events where the gaze data might be invalid (-1 values appear as gaps or spikes if not handled).\n",
    "- **Pupil Size (`ET_PupilLeft`, `ET_PupilRight`):** The pupil size plots show variations over time. The presence of many -1 values is evident as flat lines at the bottom of the plot, indicating periods where pupil data was not recorded or was invalid.\n",
    "- **Time Signal (`ET_TimeSignal`):** This plot shows a steady, increasing trend, as expected for a time-based signal.\n",
    "- **Distance and Camera Position (`ET_DistanceLeft`, `ET_DistanceRight`, `ET_CameraLeftX`, `ET_CameraLeftY`, `ET_CameraRightX`, `ET_CameraRightY`):** These plots show how the distance from the eye tracker and the camera positions change over time. Variations in these features can be related to head movements or changes in the user's position relative to the eye tracker.\n",
    "- **Validity (`ET_ValidityLeft`, `ET_ValidityRight`, `ET_PupilLeft_validity`, `ET_PupilRight_validity`):** These plots clearly show periods of invalid data (represented by 1) as spikes or plateaus, corresponding to instances where the eye tracker lost track of the eyes or the pupil data was marked as invalid.\n",
    "\n",
    "Analyzing these time series plots is crucial for understanding the dynamics of the eye-tracking data and identifying patterns or anomalies that may require further investigation or specific handling during subsequent analysis."
   ]
  },
  {
   "cell_type": "code",
   "execution_count": null,
   "id": "37e9bae9",
   "metadata": {
    "id": "cdd85f8c"
   },
   "outputs": [],
   "source": [
    "# Select only the numeric columns for plotting histograms, excluding time-related columns\n",
    "numeric_cols = df_33_EYE.select_dtypes(include=np.number).columns\n",
    "\n",
    "# Calculate the number of rows and columns for the grid\n",
    "n_cols = 4  # You can adjust the number of columns as needed\n",
    "n_rows = (len(numeric_cols) + n_cols - 1) // n_cols\n",
    "\n",
    "plt.figure(figsize=(n_cols * 5, n_rows * 4)) # Adjust figure size as needed\n",
    "\n",
    "for i, col in enumerate(numeric_cols):\n",
    "    plt.subplot(n_rows, n_cols, i + 1)\n",
    "    sns.boxplot(df_33_EYE[col])\n",
    "    plt.title(f'Boxplot of {col}')\n",
    "    plt.xlabel(col)\n",
    "\n",
    "plt.tight_layout()\n",
    "plt.show()"
   ]
  },
  {
   "cell_type": "markdown",
   "id": "938746ca",
   "metadata": {
    "id": "2cca19c5"
   },
   "source": [
    "# Observations from Boxplots and Handling -1 Values\n",
    "\n",
    "The boxplots provide a visual summary of the distribution and potential outliers for each numeric column. Key observations from the boxplots include:\n",
    "\n",
    "- The boxplots for columns like `ET_GazeLeftx`, `ET_GazeLefty`, `ET_GazeRightx`, `ET_GazeRighty`, `ET_PupilLeft`, `ET_PupilRight`, `ET_DistanceLeft`, `ET_DistanceRight`, `ET_CameraLeftX`, `ET_CameraLeftY`, `ET_CameraRightX`, and `ET_CameraRightY` clearly show the presence of -1 values as significant outliers, confirming our earlier observations from the heatmaps and histograms.\n",
    "- The boxplots for the validity columns (`ET_ValidityLeft`, `ET_ValidityRight`, `ET_PupilLeft_validity`, `ET_PupilRight_validity`) show the discrete nature of these features, with the majority of data points at 0 (valid) and a smaller number at 1 (invalid).\n",
    "\n",
    "Given the significant presence of -1 values, which represent invalid or missing data, especially in the pupil-related columns, we have decided to replace these -1 values with NaN to properly represent them as missing data. Subsequently, we will impute these missing values using the mean of each respective column. This approach helps to retain the data structure and allows for further analysis or modeling without the distortion caused by the -1 placeholders."
   ]
  },
  {
   "cell_type": "code",
   "execution_count": null,
   "id": "5375e3ad",
   "metadata": {
    "id": "9217371b"
   },
   "outputs": [],
   "source": [
    "df_33_EYE.replace({-1: np.nan}, inplace=True)"
   ]
  },
  {
   "cell_type": "code",
   "execution_count": null,
   "id": "2cc09293",
   "metadata": {
    "id": "8108fa01"
   },
   "outputs": [],
   "source": [
    "df_33_EYE[['ET_GazeLeftx', 'ET_GazeLefty',\n",
    "       'ET_GazeRightx', 'ET_GazeRighty', 'ET_PupilLeft', 'ET_PupilRight',\n",
    "       'ET_TimeSignal', 'ET_DistanceLeft', 'ET_DistanceRight',\n",
    "       'ET_CameraLeftX', 'ET_CameraLeftY', 'ET_CameraRightX',\n",
    "       'ET_CameraRightY', 'ET_ValidityLeft', 'ET_ValidityRight',\n",
    "       'ET_PupilLeft_validity', 'ET_PupilRight_validity']].mean()"
   ]
  },
  {
   "cell_type": "code",
   "execution_count": null,
   "id": "5f3f3a72",
   "metadata": {
    "id": "9b94fbce"
   },
   "outputs": [],
   "source": [
    "df_33_EYE[['ET_GazeLeftx', 'ET_GazeLefty',\n",
    "       'ET_GazeRightx', 'ET_GazeRighty', 'ET_PupilLeft', 'ET_PupilRight',\n",
    "       'ET_TimeSignal', 'ET_DistanceLeft', 'ET_DistanceRight',\n",
    "       'ET_CameraLeftX', 'ET_CameraLeftY', 'ET_CameraRightX',\n",
    "       'ET_CameraRightY', 'ET_ValidityLeft', 'ET_ValidityRight',\n",
    "       'ET_PupilLeft_validity', 'ET_PupilRight_validity']].median()"
   ]
  },
  {
   "cell_type": "code",
   "execution_count": null,
   "id": "473d3fd4",
   "metadata": {
    "id": "ee1238c8"
   },
   "outputs": [],
   "source": [
    "numeric_cols = df_33_EYE.select_dtypes(include=np.number).columns\n",
    "\n",
    "for col in numeric_cols:\n",
    "    df_33_EYE[col] = df_33_EYE[col].fillna(df_33_EYE[col].mean())"
   ]
  },
  {
   "cell_type": "code",
   "execution_count": null,
   "id": "8f3582c2",
   "metadata": {
    "id": "b0bc522d"
   },
   "outputs": [],
   "source": [
    "plt.figure(figsize=(18, 8))\n",
    "\n",
    "plt.subplot(1, 2, 1)\n",
    "sns.heatmap(df_33_EYE.isnull(), cmap='viridis')\n",
    "plt.title('Heatmap of Missing Values After Imputation')\n",
    "\n",
    "plt.subplot(1, 2, 2)\n",
    "sns.heatmap(df_33_EYE == 1, cmap='viridis')\n",
    "plt.title('Heatmap of 1 Values')\n",
    "\n",
    "plt.tight_layout()\n",
    "plt.show()"
   ]
  },
  {
   "cell_type": "markdown",
   "id": "10774e0b",
   "metadata": {
    "id": "c0f1e10d"
   },
   "source": [
    "# Handling Missing Values (Imputation)\n",
    "\n",
    "As decided, we have replaced all the `-1` values with `NaN` to treat them as missing data. Subsequently, we have imputed these `NaN` values with the mean of their respective columns. The heatmap above, which was generated after the imputation, now shows no visible signs of `NaN` values, indicating that the imputation was successful."
   ]
  },
  {
   "cell_type": "code",
   "execution_count": null,
   "id": "a281fabf",
   "metadata": {
    "id": "2491c1da"
   },
   "outputs": [],
   "source": [
    "df_33_EYE.head()"
   ]
  },
  {
   "cell_type": "code",
   "execution_count": null,
   "id": "853739b5",
   "metadata": {
    "id": "64f04350"
   },
   "outputs": [],
   "source": [
    "# Select only the numeric columns for plotting histograms, excluding time-related columns\n",
    "numeric_cols = df_33_EYE.select_dtypes(include=np.number).columns\n",
    "cols_to_plot = [col for col in numeric_cols if col not in ['UnixTime']]\n",
    "\n",
    "# Calculate the number of rows and columns for the grid\n",
    "n_cols = 4  # You can adjust the number of columns as needed\n",
    "n_rows = (len(cols_to_plot) + n_cols - 1) // n_cols\n",
    "\n",
    "plt.figure(figsize=(n_cols * 5, n_rows * 4)) # Adjust figure size as needed\n",
    "\n",
    "for i, col in enumerate(cols_to_plot):\n",
    "    plt.subplot(n_rows, n_cols, i + 1)\n",
    "    sns.histplot(df_33_EYE[col], kde=True)\n",
    "    plt.title(f'Distribution of {col}')\n",
    "    plt.xlabel(col)\n",
    "    plt.ylabel('Frequency')\n",
    "\n",
    "plt.tight_layout()\n",
    "plt.show()"
   ]
  },
  {
   "cell_type": "markdown",
   "id": "03f4824b",
   "metadata": {
    "id": "e0c83f1c"
   },
   "source": [
    "# Observations from Histograms After Imputation\n",
    "\n",
    "The histograms generated after replacing the -1 values with the mean of each column show the distributions of the numeric features with the missing data handled. Key observations from these updated histograms include:\n",
    "\n",
    "- The distinct peaks at -1, which were prominent in the histograms for several columns (e.g., pupil size, gaze coordinates, distance, and camera position) before imputation, are now replaced by a peak at the mean of each respective column.\n",
    "- The distributions in many columns now appear more unimodal or show shifted modes compared to the original histograms.\n",
    "- The histograms for the validity columns still show their bimodal distributions with peaks at 0 and 1, as these were handled separately.\n",
    "\n",
    "These histograms provide an updated view of the data's distribution after handling the missing values, highlighting the impact of the imputation method on the data's characteristics."
   ]
  },
  {
   "cell_type": "code",
   "execution_count": null,
   "id": "ab497efb",
   "metadata": {
    "id": "de0b2f65"
   },
   "outputs": [],
   "source": [
    "cols = ['ET_GazeLeftx', 'ET_GazeLefty',\n",
    "       'ET_GazeRightx', 'ET_GazeRighty', 'ET_PupilLeft', 'ET_PupilRight',\n",
    "       'ET_TimeSignal', 'ET_DistanceLeft', 'ET_DistanceRight',\n",
    "       'ET_CameraLeftX', 'ET_CameraLeftY', 'ET_CameraRightX',\n",
    "       'ET_CameraRightY', 'ET_ValidityLeft', 'ET_ValidityRight',\n",
    "       'ET_PupilLeft_validity', 'ET_PupilRight_validity']"
   ]
  },
  {
   "cell_type": "code",
   "execution_count": null,
   "id": "2a117661",
   "metadata": {
    "id": "4ddd4915"
   },
   "outputs": [],
   "source": [
    "for col in cols:\n",
    "    # Add a markdown cell before each plot for better separation and labeling\n",
    "    display(Markdown(f'### {col} over Time'))\n",
    "    plt.figure(figsize=(16, 10))\n",
    "    plt.plot(df_33_EYE['Timestamp'], df_33_EYE[col])\n",
    "    plt.xlabel(\"Timestamp\") # Add x-axis label\n",
    "    plt.ylabel(col) # Add y-axis label\n",
    "    plt.show()"
   ]
  },
  {
   "cell_type": "markdown",
   "id": "d5932cb6",
   "metadata": {
    "id": "0fb07abb"
   },
   "source": [
    "# Observations from Time Series Plots After Imputation\n",
    "\n",
    "The line plots generated after imputing the missing values with the mean show the temporal patterns of the features with the missing data handled. Key observations from these updated plots include:\n",
    "\n",
    "- The gaps or flat lines at -1, which were prominent in the plots for columns like gaze coordinates, pupil size, distance, and camera position, are now filled by lines at the mean value of the respective columns.\n",
    "- The plots for the validity columns remain the same as they were handled separately.\n",
    "- The `ET_TimeSignal` plot still shows a steady increasing trend, as expected."
   ]
  },
  {
   "cell_type": "code",
   "execution_count": null,
   "id": "68adc4a5",
   "metadata": {
    "id": "c608fd95"
   },
   "outputs": [],
   "source": [
    "plt.figure(figsize=(16, 10))\n",
    "sns.heatmap(df_33_EYE.corr(numeric_only=True), cmap='YlGnBu', annot=True)\n",
    "plt.show()"
   ]
  },
  {
   "cell_type": "markdown",
   "id": "fbc6da1d",
   "metadata": {
    "id": "82405ba6"
   },
   "source": [
    "# Observations from Correlation Heatmap\n",
    "\n",
    "The correlation heatmap provides a visual representation of the pairwise correlations between the numeric columns in the dataset. Key observations from the heatmap include:\n",
    "\n",
    "- **High Positive Correlations:** We observe strong positive correlations (values close to 1) between:\n",
    "  - `ET_GazeLeftx` and `ET_GazeRightx`: This is expected as the gaze positions of both eyes should be highly correlated when fixating on a point.\n",
    "  - `ET_GazeLefty` and `ET_GazeRighty`: Similar to the x-coordinates, the y-coordinates of gaze should also be highly correlated.\n",
    "  - `ET_PupilLeft` and `ET_PupilRight`: Pupil sizes of both eyes tend to change together in response to light and cognitive load.\n",
    "  - `ET_DistanceLeft` and `ET_DistanceRight`: The distance from the eye tracker to each eye should be highly correlated.\n",
    "  - `ET_CameraLeftX` and `ET_CameraRightX`, `ET_CameraLeftY` and `ET_CameraRightY`: The camera positions for both eyes are also expected to be highly correlated.\n",
    "  - `UnixTime` and `ET_TimeSignal`: As previously noted, these two columns are almost perfectly linearly correlated, indicating redundancy.\n",
    "  - `ET_ValidityLeft` and `ET_PupilLeft_validity`: There is a positive correlation, suggesting that when the overall left eye data is invalid, the left pupil data is also likely to be invalid.\n",
    "  - `ET_ValidityRight` and `ET_PupilRight_validity`: Similar to the left eye, there is a positive correlation between the overall right eye validity and the right pupil validity.\n",
    "- **Other Correlations:** We can also observe other varying degrees of correlations between different features, which can provide insights into the relationships between gaze behavior, pupil size, distance, and camera position. For example, there might be correlations between gaze coordinates and camera positions, reflecting head movements.\n",
    "- **Low or Near-Zero Correlations:** Columns with low or near-zero correlations are relatively independent of each other.\n",
    "\n",
    "Understanding these correlations is important for feature selection and for building models, as highly correlated features might indicate multicollinearity, while correlations between features can reveal underlying patterns in the data."
   ]
  },
  {
   "cell_type": "markdown",
   "id": "bfc60541",
   "metadata": {
    "id": "1c413c3b"
   },
   "source": [
    "# Analysis of ET_TimeSignal and Decision to Drop\n",
    "\n",
    "As observed in the time series plot and confirmed by the correlation heatmap, the `ET_TimeSignal` column exhibits a near-perfect linear relationship with both the `Timestamp` and `UnixTime` columns. This strong correlation (close to 1) suggests that `ET_TimeSignal` is essentially redundant and likely represents another form of time recording or a signal directly derived from the timestamp.\n",
    "\n",
    "Including highly correlated features like this in a dataset can lead to issues such as multicollinearity in some statistical models, which can make it difficult to interpret the individual impact of each feature. Since the `Timestamp` column already provides the necessary temporal information, retaining `ET_TimeSignal` does not appear to add significant value for further analysis or modeling in most cases.\n",
    "\n",
    "Therefore, based on its high correlation and lack of unique insight, we will proceed to drop the `ET_TimeSignal` column to simplify the dataset and potentially improve the performance and interpretability of future analyses."
   ]
  },
  {
   "cell_type": "code",
   "execution_count": null,
   "id": "814036f1",
   "metadata": {
    "id": "7c96e349"
   },
   "outputs": [],
   "source": [
    "df_33_EYE.drop('ET_TimeSignal', axis=1, inplace=True)"
   ]
  },
  {
   "cell_type": "code",
   "execution_count": null,
   "id": "c46a0002",
   "metadata": {
    "id": "5845a61d"
   },
   "outputs": [],
   "source": [
    "plt.figure(figsize=(16, 10))\n",
    "sns.pairplot(df_33_EYE)\n",
    "plt.show()"
   ]
  },
  {
   "cell_type": "markdown",
   "id": "426f0c9f",
   "metadata": {
    "id": "sMcHS8LIOGeT"
   },
   "source": [
    "# **34_EYE**"
   ]
  },
  {
   "cell_type": "code",
   "execution_count": null,
   "id": "cab11146",
   "metadata": {
    "id": "L2tJooyROWnM"
   },
   "outputs": [],
   "source": []
  },
  {
   "cell_type": "code",
   "execution_count": null,
   "id": "e8eb7165",
   "metadata": {
    "id": "6c647c4f"
   },
   "outputs": [],
   "source": [
    "df_34_EYE = pd.read_csv('data/STData/34/34_EYE.csv')"
   ]
  },
  {
   "cell_type": "code",
   "execution_count": null,
   "id": "2711a854",
   "metadata": {
    "id": "c229bba7"
   },
   "outputs": [],
   "source": [
    "df_34_EYE.head()"
   ]
  },
  {
   "cell_type": "code",
   "execution_count": null,
   "id": "d929f0e2",
   "metadata": {
    "id": "0ec8e716"
   },
   "outputs": [],
   "source": [
    "df_34_EYE.shape"
   ]
  },
  {
   "cell_type": "code",
   "execution_count": null,
   "id": "3818bcbb",
   "metadata": {
    "id": "43ba37eb"
   },
   "outputs": [],
   "source": [
    "df_34_EYE.columns"
   ]
  },
  {
   "cell_type": "code",
   "execution_count": null,
   "id": "77becdf9",
   "metadata": {
    "id": "19f68fb4"
   },
   "outputs": [],
   "source": [
    "df_34_EYE.info()"
   ]
  },
  {
   "cell_type": "code",
   "execution_count": null,
   "id": "b2743c4e",
   "metadata": {
    "id": "603369d7"
   },
   "outputs": [],
   "source": [
    "df_34_EYE.isnull().sum()"
   ]
  },
  {
   "cell_type": "code",
   "execution_count": null,
   "id": "91c5e846",
   "metadata": {
    "id": "874353e3"
   },
   "outputs": [],
   "source": [
    "plt.figure(figsize=(12,8))\n",
    "sns.heatmap(df_34_EYE.isnull(), cmap='viridis')\n",
    "plt.show()"
   ]
  },
  {
   "cell_type": "markdown",
   "id": "9ab18e24",
   "metadata": {
    "id": "b17906e7"
   },
   "source": [
    "# Notes & Observations\n",
    "\n",
    "- We observe many **null** (or missing) values in the `QuestionKey` columns.\n",
    "- The nulls in the `QuestionKey` column may not represent “true” nulls. Rather, they follow interval patterns, suggesting that during those periods no question was displayed.\n",
    "- These missing values in `QuestionKey` require additional investigation and context-aware handling."
   ]
  },
  {
   "cell_type": "code",
   "execution_count": null,
   "id": "7a7b2913",
   "metadata": {
    "id": "1113779e"
   },
   "outputs": [],
   "source": [
    "df_34_EYE['QuestionKey'].unique()"
   ]
  },
  {
   "cell_type": "code",
   "execution_count": null,
   "id": "1c0121a2",
   "metadata": {
    "id": "db0a93a2"
   },
   "outputs": [],
   "source": [
    "df_34_EYE['Timestamp'] = pd.to_datetime(df_34_EYE['Timestamp'])"
   ]
  },
  {
   "cell_type": "code",
   "execution_count": null,
   "id": "8c7e8008",
   "metadata": {
    "id": "03d57b0a"
   },
   "outputs": [],
   "source": [
    "df_34_EYE.head(3)"
   ]
  },
  {
   "cell_type": "code",
   "execution_count": null,
   "id": "1c6b7d37",
   "metadata": {
    "id": "c0004029"
   },
   "outputs": [],
   "source": [
    "df_34_EYE['QuestionKey'] = df_34_EYE['QuestionKey'].fillna('None')"
   ]
  },
  {
   "cell_type": "code",
   "execution_count": null,
   "id": "b11937d7",
   "metadata": {
    "id": "dfb4729e"
   },
   "outputs": [],
   "source": [
    "df_34_EYE['QuestionKey'].value_counts()"
   ]
  },
  {
   "cell_type": "code",
   "execution_count": null,
   "id": "0bea5a3d",
   "metadata": {
    "id": "9353c9d8"
   },
   "outputs": [],
   "source": [
    "plt.figure(figsize=(12,8))\n",
    "sns.heatmap(df_34_EYE.isnull(), cmap='viridis')\n",
    "plt.show()"
   ]
  },
  {
   "cell_type": "code",
   "execution_count": null,
   "id": "2baf130a",
   "metadata": {
    "id": "5c73d150"
   },
   "outputs": [],
   "source": [
    "df_34_EYE.isnull().sum()"
   ]
  },
  {
   "cell_type": "code",
   "execution_count": null,
   "id": "9870c247",
   "metadata": {
    "id": "6c700142"
   },
   "outputs": [],
   "source": [
    "df_34_EYE.dropna(inplace=True)"
   ]
  },
  {
   "cell_type": "code",
   "execution_count": null,
   "id": "4d274eee",
   "metadata": {
    "id": "90a604ce"
   },
   "outputs": [],
   "source": [
    "df_34_EYE.head()"
   ]
  },
  {
   "cell_type": "code",
   "execution_count": null,
   "id": "1b8157e1",
   "metadata": {
    "id": "a43a4283"
   },
   "outputs": [],
   "source": [
    "df_34_EYE['Row'].unique()"
   ]
  },
  {
   "cell_type": "code",
   "execution_count": null,
   "id": "5de7298d",
   "metadata": {
    "id": "f66566f9"
   },
   "outputs": [],
   "source": [
    "plt.figure(figsize=(8,6))\n",
    "sns.histplot(df_34_EYE['Row'])\n",
    "plt.show()"
   ]
  },
  {
   "cell_type": "markdown",
   "id": "03018c91",
   "metadata": {
    "id": "5ddf40fd"
   },
   "source": [
    "# Notes & Observations\n",
    "\n",
    "- The `Row` column appears to be a simple row index and does not provide meaningful information relevant to the eye-tracking data itself. Therefore, it can be dropped."
   ]
  },
  {
   "cell_type": "code",
   "execution_count": null,
   "id": "f7510266",
   "metadata": {
    "id": "5aee4404"
   },
   "outputs": [],
   "source": [
    "df_34_EYE.drop('Row', axis=1, inplace=True)"
   ]
  },
  {
   "cell_type": "code",
   "execution_count": null,
   "id": "86da1256",
   "metadata": {
    "id": "827f3274"
   },
   "outputs": [],
   "source": [
    "df_34_EYE['ET_ValidityLeft'].unique()"
   ]
  },
  {
   "cell_type": "code",
   "execution_count": null,
   "id": "08bd16dd",
   "metadata": {
    "id": "1437751a"
   },
   "outputs": [],
   "source": [
    "df_34_EYE['ET_ValidityLeft'].value_counts()"
   ]
  },
  {
   "cell_type": "code",
   "execution_count": null,
   "id": "be054a6e",
   "metadata": {
    "id": "d0a9ee4a"
   },
   "outputs": [],
   "source": [
    "df_34_EYE['ET_ValidityRight'].unique()"
   ]
  },
  {
   "cell_type": "code",
   "execution_count": null,
   "id": "c30ca1e8",
   "metadata": {
    "id": "55ddcc2b"
   },
   "outputs": [],
   "source": [
    "df_34_EYE['ET_ValidityRight'].value_counts()"
   ]
  },
  {
   "cell_type": "code",
   "execution_count": null,
   "id": "c8087bfe",
   "metadata": {
    "id": "faef00be"
   },
   "outputs": [],
   "source": [
    "plt.figure(figsize=(12, 6))\n",
    "\n",
    "plt.subplot(1, 2, 1)\n",
    "sns.barplot(x=df_34_EYE['ET_ValidityLeft'].value_counts().index, y=df_34_EYE['ET_ValidityLeft'].value_counts().values)\n",
    "plt.title('Count of ET_ValidityLeft')\n",
    "plt.xlabel('Validity')\n",
    "plt.ylabel('Count')\n",
    "\n",
    "\n",
    "plt.subplot(1, 2, 2)\n",
    "sns.barplot(x=df_34_EYE['ET_ValidityRight'].value_counts().index, y=df_34_EYE['ET_ValidityRight'].value_counts().values)\n",
    "plt.title('Count of ET_ValidityRight')\n",
    "plt.xlabel('Validity')\n",
    "plt.ylabel('Count')\n",
    "\n",
    "plt.tight_layout()\n",
    "plt.show()"
   ]
  },
  {
   "cell_type": "markdown",
   "id": "551b75e4",
   "metadata": {
    "id": "b43706ea"
   },
   "source": [
    "# Notes & Observations\n",
    "\n",
    "- The `ET_ValidityLeft` and `ET_ValidityRight` columns indicate the validity of the eye-tracking data for the left and right eye, respectively.\n",
    "- Based on the value counts and the bar plots, it appears that a value of `0.0` represents valid eye-tracking data, while a value of `4.0` represents invalid data.\n",
    "- Although the amount of invalid data is relatively small, removing these rows could introduce unwanted patterns or gaps in the time series data.\n",
    "- Therefore, we will keep the data and replace the value `4.0` with `1.0` in both `ET_ValidityLeft` and `ET_ValidityRight` columns. This will indicate to a machine learning model that the eye tracker had invalid data at those specific points in time while maintaining the integrity of the time series."
   ]
  },
  {
   "cell_type": "markdown",
   "id": "4243d4ff",
   "metadata": {
    "id": "e9e671b2"
   },
   "source": [
    "Define a mapping to convert validity values from `0.0` and `4.0` to `0` and `1`."
   ]
  },
  {
   "cell_type": "code",
   "execution_count": null,
   "id": "bad061f8",
   "metadata": {
    "id": "08e7ed71"
   },
   "outputs": [],
   "source": [
    "validity_map = {4.0: 1.0, 0.0: 0.0}"
   ]
  },
  {
   "cell_type": "code",
   "execution_count": null,
   "id": "f0aaf7aa",
   "metadata": {
    "id": "0bba3ac0"
   },
   "outputs": [],
   "source": [
    "df_34_EYE['ET_ValidityLeft'] = df_34_EYE['ET_ValidityLeft'].map(validity_map).astype(np.int8)\n",
    "df_34_EYE['ET_ValidityRight'] = df_34_EYE['ET_ValidityRight'].map(validity_map).astype(np.int8)"
   ]
  },
  {
   "cell_type": "code",
   "execution_count": null,
   "id": "482a6992",
   "metadata": {
    "id": "0ff3f16c"
   },
   "outputs": [],
   "source": [
    "df_34_EYE.head(3)"
   ]
  },
  {
   "cell_type": "code",
   "execution_count": null,
   "id": "4ab2e7ad",
   "metadata": {
    "id": "32eb3225"
   },
   "outputs": [],
   "source": [
    "df_34_EYE.describe()"
   ]
  },
  {
   "cell_type": "code",
   "execution_count": null,
   "id": "cc1ed969",
   "metadata": {
    "id": "c1e092e1"
   },
   "outputs": [],
   "source": [
    "df_34_EYE[df_34_EYE['ET_ValidityLeft'] == 1].shape"
   ]
  },
  {
   "cell_type": "code",
   "execution_count": null,
   "id": "8e6319ef",
   "metadata": {
    "id": "8ebfb0cc"
   },
   "outputs": [],
   "source": [
    "df_34_EYE[df_34_EYE['ET_ValidityRight'] == 1].shape"
   ]
  },
  {
   "cell_type": "code",
   "execution_count": null,
   "id": "aa5bf539",
   "metadata": {
    "id": "0d175df2"
   },
   "outputs": [],
   "source": [
    "df_34_EYE[df_34_EYE['ET_ValidityLeft'] == 1].shape[0] / df_34_EYE.shape[0]"
   ]
  },
  {
   "cell_type": "code",
   "execution_count": null,
   "id": "96606755",
   "metadata": {
    "id": "54cc0f9e"
   },
   "outputs": [],
   "source": [
    "df_34_EYE[df_34_EYE['ET_ValidityRight'] == 1].shape[0] / df_34_EYE.shape[0]"
   ]
  },
  {
   "cell_type": "code",
   "execution_count": null,
   "id": "71e9cbc8",
   "metadata": {
    "id": "45c977c1"
   },
   "outputs": [],
   "source": [
    "plt.figure(figsize=(18, 8))\n",
    "\n",
    "plt.subplot(1, 2, 1)\n",
    "sns.heatmap(df_34_EYE == -1, cmap='viridis')\n",
    "plt.title('Heatmap of -1 Values')\n",
    "\n",
    "plt.subplot(1, 2, 2)\n",
    "sns.heatmap(df_34_EYE == 1, cmap='viridis')\n",
    "plt.title('Heatmap of 1 Values')\n",
    "\n",
    "plt.tight_layout()\n",
    "plt.show()"
   ]
  },
  {
   "cell_type": "code",
   "execution_count": null,
   "id": "942c0dc0",
   "metadata": {
    "id": "3b98a13b"
   },
   "outputs": [],
   "source": [
    "df_34_EYE[df_34_EYE['ET_PupilLeft'] == -1].shape"
   ]
  },
  {
   "cell_type": "code",
   "execution_count": null,
   "id": "7115910f",
   "metadata": {
    "id": "a2f296f6"
   },
   "outputs": [],
   "source": [
    "df_34_EYE[df_34_EYE['ET_PupilRight'] == -1].shape"
   ]
  },
  {
   "cell_type": "code",
   "execution_count": null,
   "id": "aa2a180e",
   "metadata": {
    "id": "42cff7eb"
   },
   "outputs": [],
   "source": [
    "df_34_EYE[df_34_EYE['ET_PupilLeft'] == -1].shape[0] / df_34_EYE.shape[0]"
   ]
  },
  {
   "cell_type": "code",
   "execution_count": null,
   "id": "81f52af4",
   "metadata": {
    "id": "83c97903"
   },
   "outputs": [],
   "source": [
    "df_34_EYE[df_34_EYE['ET_PupilRight'] == -1].shape[0] / df_34_EYE.shape[0]"
   ]
  },
  {
   "cell_type": "code",
   "execution_count": null,
   "id": "160d3573",
   "metadata": {
    "id": "6e176d63"
   },
   "outputs": [],
   "source": [
    "plt.figure(figsize=(18, 8))\n",
    "\n",
    "plt.subplot(1, 2, 1)\n",
    "sns.heatmap(df_34_EYE[df_34_EYE['ET_ValidityLeft'] == 1] == -1, cmap='viridis')\n",
    "plt.title('Heatmap of -1 Values')\n",
    "\n",
    "plt.subplot(1, 2, 2)\n",
    "sns.heatmap(df_34_EYE[df_34_EYE['ET_ValidityRight'] == 1] == -1, cmap='viridis')\n",
    "plt.title('Heatmap of -1 Values')\n",
    "\n",
    "plt.tight_layout()\n",
    "plt.show()"
   ]
  },
  {
   "cell_type": "markdown",
   "id": "0774e016",
   "metadata": {
    "id": "fff8db39"
   },
   "source": [
    "# Notes & Observations\n",
    "\n",
    "- The heatmaps reveal the distribution of -1 values across different columns.\n",
    "- It is evident that the `-1` values are not randomly scattered but appear in specific columns, notably `ET_GazeLeftx`, `ET_GazeLefty`, `ET_GazeRightx`, `ET_GazeRighty`, `ET_PupilLeft`, `ET_PupilRight`, `ET_DistanceLeft`, `ET_DistanceRight`, `ET_CameraLeftX`, `ET_CameraLeftY`, `ET_CameraRightX`, and `ET_CameraRightY`.\n",
    "- These `-1` values often coincide with instances where `ET_ValidityLeft` or `ET_ValidityRight` is 1, indicating invalid eye-tracking data. This suggests that `-1` is used as a placeholder for missing or invalid measurements in these columns when the eye tracker is not providing valid data for a particular eye.\n",
    "- Given that over 70% of the data in the `ET_PupilLeft` and `ET_PupilRight` columns is marked as invalid (-1), so instead of dropping them we can create new feature for both the `ET_PupilLeft` and `ET_PupilRight` to represent which row consist invalid `ET_PupilLeft` and `ET_PupilRight` data"
   ]
  },
  {
   "cell_type": "code",
   "execution_count": null,
   "id": "28ea9172",
   "metadata": {
    "id": "cf7437aa"
   },
   "outputs": [],
   "source": [
    "pupil_validity = {-1: 1 }"
   ]
  },
  {
   "cell_type": "code",
   "execution_count": null,
   "id": "535f2257",
   "metadata": {
    "id": "989b113d"
   },
   "outputs": [],
   "source": [
    "df_34_EYE['ET_PupilLeft_validity'] = df_34_EYE['ET_PupilLeft'].map(pupil_validity)"
   ]
  },
  {
   "cell_type": "code",
   "execution_count": null,
   "id": "106081e4",
   "metadata": {
    "id": "9ecdfbc0"
   },
   "outputs": [],
   "source": [
    "df_34_EYE['ET_PupilRight_validity'] = df_34_EYE['ET_PupilRight'].map(pupil_validity)"
   ]
  },
  {
   "cell_type": "code",
   "execution_count": null,
   "id": "3da9f9d1",
   "metadata": {
    "id": "7f5d2b28"
   },
   "outputs": [],
   "source": [
    "df_34_EYE[['ET_PupilLeft_validity', 'ET_PupilRight_validity']].head()"
   ]
  },
  {
   "cell_type": "code",
   "execution_count": null,
   "id": "c29ca0be",
   "metadata": {
    "id": "6a86c472"
   },
   "outputs": [],
   "source": [
    "df_34_EYE[['ET_PupilLeft_validity', 'ET_PupilRight_validity']].isnull().sum()"
   ]
  },
  {
   "cell_type": "code",
   "execution_count": null,
   "id": "3fdcf85c",
   "metadata": {
    "id": "9121e4a8"
   },
   "outputs": [],
   "source": [
    "plt.figure(figsize=(18, 8))\n",
    "sns.heatmap(df_34_EYE[['ET_PupilLeft_validity', 'ET_PupilRight_validity']].isnull(), cmap='viridis')\n",
    "plt.show()"
   ]
  },
  {
   "cell_type": "code",
   "execution_count": null,
   "id": "4820bc00",
   "metadata": {
    "id": "613a230a"
   },
   "outputs": [],
   "source": [
    "df_34_EYE['ET_PupilLeft_validity'] = df_34_EYE['ET_PupilLeft_validity'].fillna(0)"
   ]
  },
  {
   "cell_type": "code",
   "execution_count": null,
   "id": "9f6680e4",
   "metadata": {
    "id": "89ae7d3f"
   },
   "outputs": [],
   "source": [
    "df_34_EYE['ET_PupilRight_validity'] = df_34_EYE['ET_PupilRight_validity'].fillna(0)"
   ]
  },
  {
   "cell_type": "code",
   "execution_count": null,
   "id": "e22ad1a3",
   "metadata": {
    "id": "a2c39f03"
   },
   "outputs": [],
   "source": [
    "df_34_EYE[['ET_PupilLeft_validity', 'ET_PupilRight_validity']].head()"
   ]
  },
  {
   "cell_type": "code",
   "execution_count": null,
   "id": "6bdd1ede",
   "metadata": {
    "id": "6e9c2645"
   },
   "outputs": [],
   "source": [
    "plt.figure(figsize=(18, 8))\n",
    "sns.heatmap(df_34_EYE[['ET_PupilLeft_validity', 'ET_PupilRight_validity']].isnull(), cmap='viridis')\n",
    "plt.show()"
   ]
  },
  {
   "cell_type": "code",
   "execution_count": null,
   "id": "c8a4beaf",
   "metadata": {
    "id": "7e52da92"
   },
   "outputs": [],
   "source": [
    "df_34_EYE.head()"
   ]
  },
  {
   "cell_type": "code",
   "execution_count": null,
   "id": "229f7633",
   "metadata": {
    "id": "1cefd42d"
   },
   "outputs": [],
   "source": [
    "plt.figure(figsize=(18, 8))\n",
    "\n",
    "plt.subplot(1, 2, 1)\n",
    "sns.heatmap(df_34_EYE == -1, cmap='viridis')\n",
    "plt.title('Heatmap of -1 Values')\n",
    "\n",
    "plt.subplot(1, 2, 2)\n",
    "sns.heatmap(df_34_EYE == 1, cmap='viridis')\n",
    "plt.title('Heatmap of -1 Values')\n",
    "\n",
    "plt.tight_layout()\n",
    "plt.show()"
   ]
  },
  {
   "cell_type": "code",
   "execution_count": null,
   "id": "d76879f1",
   "metadata": {
    "id": "dcf38f27"
   },
   "outputs": [],
   "source": [
    "valid_left_ratio  = 1 - df_34_EYE['ET_ValidityLeft'].mean()"
   ]
  },
  {
   "cell_type": "code",
   "execution_count": null,
   "id": "2e847fca",
   "metadata": {
    "id": "2aea00ec"
   },
   "outputs": [],
   "source": [
    "valid_left_ratio"
   ]
  },
  {
   "cell_type": "code",
   "execution_count": null,
   "id": "05b3bce6",
   "metadata": {
    "id": "19ac306c"
   },
   "outputs": [],
   "source": [
    "valid_right_ratio = 1 - df_34_EYE['ET_ValidityRight'].mean()"
   ]
  },
  {
   "cell_type": "code",
   "execution_count": null,
   "id": "6da8041f",
   "metadata": {
    "id": "4f0aa48e"
   },
   "outputs": [],
   "source": [
    "valid_right_ratio"
   ]
  },
  {
   "cell_type": "code",
   "execution_count": null,
   "id": "d5fd6263",
   "metadata": {
    "id": "a000b670"
   },
   "outputs": [],
   "source": [
    "df_34_EYE['ET_PupilLeft_validity'] = df_34_EYE['ET_PupilLeft_validity'].astype(np.int8)\n",
    "df_34_EYE['ET_PupilRight_validity'] = df_34_EYE['ET_PupilRight_validity'].astype(np.int8)"
   ]
  },
  {
   "cell_type": "markdown",
   "id": "193e5d87",
   "metadata": {
    "id": "6acf6847"
   },
   "source": [
    "# Feature Engineering and Observations\n",
    "\n",
    "Based on the analysis of the data, we've created two new features, `ET_PupilLeft_validity` and `ET_PupilRight_validity`. These features indicate the validity of the pupil data for the left and right eyes, respectively, with a value of 1 representing invalid data (originally -1) and 0 representing valid data.\n",
    "\n",
    "The heatmaps above visually demonstrate the distribution of -1 and 1 values across the dataset. We observed that:\n",
    "- The `-1` values are concentrated in specific columns related to gaze, pupil size, distance, and camera position, suggesting they represent missing or invalid sensor readings.\n",
    "- The `1` values, after mapping from `4.0` in the original validity columns, indicate instances of invalid eye-tracking data.\n",
    "- The heatmaps also show a strong correlation between the `-1` values in the pupil columns and a validity of 1 in the newly created pupil validity features, confirming that -1 was used to mark invalid pupil data."
   ]
  },
  {
   "cell_type": "code",
   "execution_count": null,
   "id": "e4d9c7ad",
   "metadata": {
    "id": "de9f2594"
   },
   "outputs": [],
   "source": [
    "df_34_EYE.head()"
   ]
  },
  {
   "cell_type": "code",
   "execution_count": null,
   "id": "c8d9449e",
   "metadata": {
    "id": "bfa2e174"
   },
   "outputs": [],
   "source": [
    "# Select only the numeric columns for plotting histograms, excluding time-related columns\n",
    "numeric_cols = df_34_EYE.select_dtypes(include=np.number).columns\n",
    "cols_to_plot = [col for col in numeric_cols if col not in ['UnixTime']]\n",
    "\n",
    "# Calculate the number of rows and columns for the grid\n",
    "n_cols = 4  # You can adjust the number of columns as needed\n",
    "n_rows = (len(cols_to_plot) + n_cols - 1) // n_cols\n",
    "\n",
    "plt.figure(figsize=(n_cols * 5, n_rows * 4)) # Adjust figure size as needed\n",
    "\n",
    "for i, col in enumerate(cols_to_plot):\n",
    "    plt.subplot(n_rows, n_cols, i + 1)\n",
    "    sns.histplot(df_34_EYE[col], kde=True)\n",
    "    plt.title(f'Distribution of {col}')\n",
    "    plt.xlabel(col)\n",
    "    plt.ylabel('Frequency')\n",
    "\n",
    "plt.tight_layout()\n",
    "plt.show()"
   ]
  },
  {
   "cell_type": "markdown",
   "id": "b9f86d56",
   "metadata": {
    "id": "8059766d"
   },
   "source": [
    "# Observations from Histograms\n",
    "\n",
    "The grid of histograms provides insights into the distribution of values for each numeric column in the dataset (excluding 'UnixTime'). Key observations include:\n",
    "\n",
    "- Several columns, such as `ET_GazeLeftx`, `ET_GazeLefty`, `ET_GazeRightx`, and `ET_GazeRighty`, show distributions that appear somewhat multimodal or skewed, suggesting variations in gaze patterns.\n",
    "- The `ET_PupilLeft` and `ET_PupilRight` histograms clearly show a peak at -1, confirming the presence of a significant number of invalid pupil readings.\n",
    "- `ET_TimeSignal` shows a relatively uniform distribution, as expected for a time-based signal.\n",
    "- `ET_DistanceLeft` and `ET_DistanceRight` appear to have distributions centered around certain values, with some outliers or variations.\n",
    "- The camera position columns (`ET_CameraLeftX`, `ET_CameraLeftY`, `ET_CameraRightX`, `ET_CameraRightY`) seem to have distributions concentrated within specific ranges, reflecting the camera's field of view.\n",
    "- The validity columns (`ET_ValidityLeft`, `ET_ValidityRight`, `ET_PupilLeft_validity`, `ET_PupilRight_validity`) show distributions dominated by 0, indicating that most of the data is considered valid after the mapping. The smaller peaks at 1 represent the instances of invalid data.\n",
    "\n",
    "These distributions highlight the need for appropriate handling of the -1 values and potential outliers in subsequent analysis or modeling steps."
   ]
  },
  {
   "cell_type": "code",
   "execution_count": null,
   "id": "0a1d65b0",
   "metadata": {
    "id": "cb65ae1e"
   },
   "outputs": [],
   "source": [
    "df_34_EYE.columns"
   ]
  },
  {
   "cell_type": "code",
   "execution_count": null,
   "id": "f504e5e7",
   "metadata": {
    "id": "8cf2280c"
   },
   "outputs": [],
   "source": [
    "cols = ['ET_GazeLeftx', 'ET_GazeLefty',\n",
    "       'ET_GazeRightx', 'ET_GazeRighty', 'ET_PupilLeft', 'ET_PupilRight',\n",
    "       'ET_TimeSignal', 'ET_DistanceLeft', 'ET_DistanceRight',\n",
    "       'ET_CameraLeftX', 'ET_CameraLeftY', 'ET_CameraRightX',\n",
    "       'ET_CameraRightY', 'ET_ValidityLeft', 'ET_ValidityRight',\n",
    "       'ET_PupilLeft_validity', 'ET_PupilRight_validity']"
   ]
  },
  {
   "cell_type": "code",
   "execution_count": null,
   "id": "8abe9ccc",
   "metadata": {
    "id": "85e45ea9"
   },
   "outputs": [],
   "source": [
    "from IPython.display import display, Markdown\n",
    "\n",
    "for col in cols:\n",
    "    # Add a markdown cell before each plot for better separation and labeling\n",
    "    display(Markdown(f'### {col} over Time'))\n",
    "    plt.figure(figsize=(16, 10))\n",
    "    plt.plot(df_34_EYE['Timestamp'], df_34_EYE[col])\n",
    "    plt.xlabel(\"Timestamp\") # Add x-axis label\n",
    "    plt.ylabel(col) # Add y-axis label\n",
    "    plt.show()"
   ]
  },
  {
   "cell_type": "markdown",
   "id": "43a8dbe4",
   "metadata": {
    "id": "f7ffd08f"
   },
   "source": [
    "# Observations from Time Series Plots\n",
    "\n",
    "The line plots showing various features against the `Timestamp` reveal the temporal patterns and fluctuations in the eye-tracking data. Key observations include:\n",
    "\n",
    "- **Gaze Coordinates (`ET_GazeLeftx`, `ET_GazeLefty`, `ET_GazeRightx`, `ET_GazeRighty`):** These plots show the changes in gaze position over time. We can observe periods of relatively stable gaze interspersed with rapid movements (saccades) and blinks or other events where the gaze data might be invalid (-1 values appear as gaps or spikes if not handled).\n",
    "- **Pupil Size (`ET_PupilLeft`, `ET_PupilRight`):** The pupil size plots show variations over time. The presence of many -1 values is evident as flat lines at the bottom of the plot, indicating periods where pupil data was not recorded or was invalid.\n",
    "- **Time Signal (`ET_TimeSignal`):** This plot shows a steady, increasing trend, as expected for a time-based signal.\n",
    "- **Distance and Camera Position (`ET_DistanceLeft`, `ET_DistanceRight`, `ET_CameraLeftX`, `ET_CameraLeftY`, `ET_CameraRightX`, `ET_CameraRightY`):** These plots show how the distance from the eye tracker and the camera positions change over time. Variations in these features can be related to head movements or changes in the user's position relative to the eye tracker.\n",
    "- **Validity (`ET_ValidityLeft`, `ET_ValidityRight`, `ET_PupilLeft_validity`, `ET_PupilRight_validity`):** These plots clearly show periods of invalid data (represented by 1) as spikes or plateaus, corresponding to instances where the eye tracker lost track of the eyes or the pupil data was marked as invalid.\n",
    "\n",
    "Analyzing these time series plots is crucial for understanding the dynamics of the eye-tracking data and identifying patterns or anomalies that may require further investigation or specific handling during subsequent analysis."
   ]
  },
  {
   "cell_type": "code",
   "execution_count": null,
   "id": "76688ef7",
   "metadata": {
    "id": "cdd85f8c"
   },
   "outputs": [],
   "source": [
    "# Select only the numeric columns for plotting histograms, excluding time-related columns\n",
    "numeric_cols = df_34_EYE.select_dtypes(include=np.number).columns\n",
    "\n",
    "# Calculate the number of rows and columns for the grid\n",
    "n_cols = 4  # You can adjust the number of columns as needed\n",
    "n_rows = (len(numeric_cols) + n_cols - 1) // n_cols\n",
    "\n",
    "plt.figure(figsize=(n_cols * 5, n_rows * 4)) # Adjust figure size as needed\n",
    "\n",
    "for i, col in enumerate(numeric_cols):\n",
    "    plt.subplot(n_rows, n_cols, i + 1)\n",
    "    sns.boxplot(df_34_EYE[col])\n",
    "    plt.title(f'Boxplot of {col}')\n",
    "    plt.xlabel(col)\n",
    "\n",
    "plt.tight_layout()\n",
    "plt.show()"
   ]
  },
  {
   "cell_type": "markdown",
   "id": "49562b48",
   "metadata": {
    "id": "2cca19c5"
   },
   "source": [
    "# Observations from Boxplots and Handling -1 Values\n",
    "\n",
    "The boxplots provide a visual summary of the distribution and potential outliers for each numeric column. Key observations from the boxplots include:\n",
    "\n",
    "- The boxplots for columns like `ET_GazeLeftx`, `ET_GazeLefty`, `ET_GazeRightx`, `ET_GazeRighty`, `ET_PupilLeft`, `ET_PupilRight`, `ET_DistanceLeft`, `ET_DistanceRight`, `ET_CameraLeftX`, `ET_CameraLeftY`, `ET_CameraRightX`, and `ET_CameraRightY` clearly show the presence of -1 values as significant outliers, confirming our earlier observations from the heatmaps and histograms.\n",
    "- The boxplots for the validity columns (`ET_ValidityLeft`, `ET_ValidityRight`, `ET_PupilLeft_validity`, `ET_PupilRight_validity`) show the discrete nature of these features, with the majority of data points at 0 (valid) and a smaller number at 1 (invalid).\n",
    "\n",
    "Given the significant presence of -1 values, which represent invalid or missing data, especially in the pupil-related columns, we have decided to replace these -1 values with NaN to properly represent them as missing data. Subsequently, we will impute these missing values using the mean of each respective column. This approach helps to retain the data structure and allows for further analysis or modeling without the distortion caused by the -1 placeholders."
   ]
  },
  {
   "cell_type": "code",
   "execution_count": null,
   "id": "bee808eb",
   "metadata": {
    "id": "9217371b"
   },
   "outputs": [],
   "source": [
    "df_34_EYE.replace({-1: np.nan}, inplace=True)"
   ]
  },
  {
   "cell_type": "code",
   "execution_count": null,
   "id": "72f3f71e",
   "metadata": {
    "id": "8108fa01"
   },
   "outputs": [],
   "source": [
    "df_34_EYE[['ET_GazeLeftx', 'ET_GazeLefty',\n",
    "       'ET_GazeRightx', 'ET_GazeRighty', 'ET_PupilLeft', 'ET_PupilRight',\n",
    "       'ET_TimeSignal', 'ET_DistanceLeft', 'ET_DistanceRight',\n",
    "       'ET_CameraLeftX', 'ET_CameraLeftY', 'ET_CameraRightX',\n",
    "       'ET_CameraRightY', 'ET_ValidityLeft', 'ET_ValidityRight',\n",
    "       'ET_PupilLeft_validity', 'ET_PupilRight_validity']].mean()"
   ]
  },
  {
   "cell_type": "code",
   "execution_count": null,
   "id": "73f7eeef",
   "metadata": {
    "id": "9b94fbce"
   },
   "outputs": [],
   "source": [
    "df_34_EYE[['ET_GazeLeftx', 'ET_GazeLefty',\n",
    "       'ET_GazeRightx', 'ET_GazeRighty', 'ET_PupilLeft', 'ET_PupilRight',\n",
    "       'ET_TimeSignal', 'ET_DistanceLeft', 'ET_DistanceRight',\n",
    "       'ET_CameraLeftX', 'ET_CameraLeftY', 'ET_CameraRightX',\n",
    "       'ET_CameraRightY', 'ET_ValidityLeft', 'ET_ValidityRight',\n",
    "       'ET_PupilLeft_validity', 'ET_PupilRight_validity']].median()"
   ]
  },
  {
   "cell_type": "code",
   "execution_count": null,
   "id": "91c34b5f",
   "metadata": {
    "id": "ee1238c8"
   },
   "outputs": [],
   "source": [
    "numeric_cols = df_34_EYE.select_dtypes(include=np.number).columns\n",
    "\n",
    "for col in numeric_cols:\n",
    "    df_34_EYE[col] = df_34_EYE[col].fillna(df_34_EYE[col].mean())"
   ]
  },
  {
   "cell_type": "code",
   "execution_count": null,
   "id": "87280864",
   "metadata": {
    "id": "b0bc522d"
   },
   "outputs": [],
   "source": [
    "plt.figure(figsize=(18, 8))\n",
    "\n",
    "plt.subplot(1, 2, 1)\n",
    "sns.heatmap(df_34_EYE.isnull(), cmap='viridis')\n",
    "plt.title('Heatmap of Missing Values After Imputation')\n",
    "\n",
    "plt.subplot(1, 2, 2)\n",
    "sns.heatmap(df_34_EYE == 1, cmap='viridis')\n",
    "plt.title('Heatmap of 1 Values')\n",
    "\n",
    "plt.tight_layout()\n",
    "plt.show()"
   ]
  },
  {
   "cell_type": "markdown",
   "id": "e7bb6da1",
   "metadata": {
    "id": "c0f1e10d"
   },
   "source": [
    "# Handling Missing Values (Imputation)\n",
    "\n",
    "As decided, we have replaced all the `-1` values with `NaN` to treat them as missing data. Subsequently, we have imputed these `NaN` values with the mean of their respective columns. The heatmap above, which was generated after the imputation, now shows no visible signs of `NaN` values, indicating that the imputation was successful."
   ]
  },
  {
   "cell_type": "code",
   "execution_count": null,
   "id": "f650f4b4",
   "metadata": {
    "id": "2491c1da"
   },
   "outputs": [],
   "source": [
    "df_34_EYE.head()"
   ]
  },
  {
   "cell_type": "code",
   "execution_count": null,
   "id": "d77a4d5d",
   "metadata": {
    "id": "64f04350"
   },
   "outputs": [],
   "source": [
    "# Select only the numeric columns for plotting histograms, excluding time-related columns\n",
    "numeric_cols = df_34_EYE.select_dtypes(include=np.number).columns\n",
    "cols_to_plot = [col for col in numeric_cols if col not in ['UnixTime']]\n",
    "\n",
    "# Calculate the number of rows and columns for the grid\n",
    "n_cols = 4  # You can adjust the number of columns as needed\n",
    "n_rows = (len(cols_to_plot) + n_cols - 1) // n_cols\n",
    "\n",
    "plt.figure(figsize=(n_cols * 5, n_rows * 4)) # Adjust figure size as needed\n",
    "\n",
    "for i, col in enumerate(cols_to_plot):\n",
    "    plt.subplot(n_rows, n_cols, i + 1)\n",
    "    sns.histplot(df_34_EYE[col], kde=True)\n",
    "    plt.title(f'Distribution of {col}')\n",
    "    plt.xlabel(col)\n",
    "    plt.ylabel('Frequency')\n",
    "\n",
    "plt.tight_layout()\n",
    "plt.show()"
   ]
  },
  {
   "cell_type": "markdown",
   "id": "2472a923",
   "metadata": {
    "id": "e0c83f1c"
   },
   "source": [
    "# Observations from Histograms After Imputation\n",
    "\n",
    "The histograms generated after replacing the -1 values with the mean of each column show the distributions of the numeric features with the missing data handled. Key observations from these updated histograms include:\n",
    "\n",
    "- The distinct peaks at -1, which were prominent in the histograms for several columns (e.g., pupil size, gaze coordinates, distance, and camera position) before imputation, are now replaced by a peak at the mean of each respective column.\n",
    "- The distributions in many columns now appear more unimodal or show shifted modes compared to the original histograms.\n",
    "- The histograms for the validity columns still show their bimodal distributions with peaks at 0 and 1, as these were handled separately.\n",
    "\n",
    "These histograms provide an updated view of the data's distribution after handling the missing values, highlighting the impact of the imputation method on the data's characteristics."
   ]
  },
  {
   "cell_type": "code",
   "execution_count": null,
   "id": "ea70a50f",
   "metadata": {
    "id": "de0b2f65"
   },
   "outputs": [],
   "source": [
    "cols = ['ET_GazeLeftx', 'ET_GazeLefty',\n",
    "       'ET_GazeRightx', 'ET_GazeRighty', 'ET_PupilLeft', 'ET_PupilRight',\n",
    "       'ET_TimeSignal', 'ET_DistanceLeft', 'ET_DistanceRight',\n",
    "       'ET_CameraLeftX', 'ET_CameraLeftY', 'ET_CameraRightX',\n",
    "       'ET_CameraRightY', 'ET_ValidityLeft', 'ET_ValidityRight',\n",
    "       'ET_PupilLeft_validity', 'ET_PupilRight_validity']"
   ]
  },
  {
   "cell_type": "code",
   "execution_count": null,
   "id": "8bd87922",
   "metadata": {
    "id": "4ddd4915"
   },
   "outputs": [],
   "source": [
    "for col in cols:\n",
    "    # Add a markdown cell before each plot for better separation and labeling\n",
    "    display(Markdown(f'### {col} over Time'))\n",
    "    plt.figure(figsize=(16, 10))\n",
    "    plt.plot(df_34_EYE['Timestamp'], df_34_EYE[col])\n",
    "    plt.xlabel(\"Timestamp\") # Add x-axis label\n",
    "    plt.ylabel(col) # Add y-axis label\n",
    "    plt.show()"
   ]
  },
  {
   "cell_type": "markdown",
   "id": "0ec70d4a",
   "metadata": {
    "id": "0fb07abb"
   },
   "source": [
    "# Observations from Time Series Plots After Imputation\n",
    "\n",
    "The line plots generated after imputing the missing values with the mean show the temporal patterns of the features with the missing data handled. Key observations from these updated plots include:\n",
    "\n",
    "- The gaps or flat lines at -1, which were prominent in the plots for columns like gaze coordinates, pupil size, distance, and camera position, are now filled by lines at the mean value of the respective columns.\n",
    "- The plots for the validity columns remain the same as they were handled separately.\n",
    "- The `ET_TimeSignal` plot still shows a steady increasing trend, as expected."
   ]
  },
  {
   "cell_type": "code",
   "execution_count": null,
   "id": "45b71b45",
   "metadata": {
    "id": "c608fd95"
   },
   "outputs": [],
   "source": [
    "plt.figure(figsize=(16, 10))\n",
    "sns.heatmap(df_34_EYE.corr(numeric_only=True), cmap='YlGnBu', annot=True)\n",
    "plt.show()"
   ]
  },
  {
   "cell_type": "markdown",
   "id": "6f67f816",
   "metadata": {
    "id": "82405ba6"
   },
   "source": [
    "# Observations from Correlation Heatmap\n",
    "\n",
    "The correlation heatmap provides a visual representation of the pairwise correlations between the numeric columns in the dataset. Key observations from the heatmap include:\n",
    "\n",
    "- **High Positive Correlations:** We observe strong positive correlations (values close to 1) between:\n",
    "  - `ET_GazeLeftx` and `ET_GazeRightx`: This is expected as the gaze positions of both eyes should be highly correlated when fixating on a point.\n",
    "  - `ET_GazeLefty` and `ET_GazeRighty`: Similar to the x-coordinates, the y-coordinates of gaze should also be highly correlated.\n",
    "  - `ET_PupilLeft` and `ET_PupilRight`: Pupil sizes of both eyes tend to change together in response to light and cognitive load.\n",
    "  - `ET_DistanceLeft` and `ET_DistanceRight`: The distance from the eye tracker to each eye should be highly correlated.\n",
    "  - `ET_CameraLeftX` and `ET_CameraRightX`, `ET_CameraLeftY` and `ET_CameraRightY`: The camera positions for both eyes are also expected to be highly correlated.\n",
    "  - `UnixTime` and `ET_TimeSignal`: As previously noted, these two columns are almost perfectly linearly correlated, indicating redundancy.\n",
    "  - `ET_ValidityLeft` and `ET_PupilLeft_validity`: There is a positive correlation, suggesting that when the overall left eye data is invalid, the left pupil data is also likely to be invalid.\n",
    "  - `ET_ValidityRight` and `ET_PupilRight_validity`: Similar to the left eye, there is a positive correlation between the overall right eye validity and the right pupil validity.\n",
    "- **Other Correlations:** We can also observe other varying degrees of correlations between different features, which can provide insights into the relationships between gaze behavior, pupil size, distance, and camera position. For example, there might be correlations between gaze coordinates and camera positions, reflecting head movements.\n",
    "- **Low or Near-Zero Correlations:** Columns with low or near-zero correlations are relatively independent of each other.\n",
    "\n",
    "Understanding these correlations is important for feature selection and for building models, as highly correlated features might indicate multicollinearity, while correlations between features can reveal underlying patterns in the data."
   ]
  },
  {
   "cell_type": "markdown",
   "id": "d2022a05",
   "metadata": {
    "id": "1c413c3b"
   },
   "source": [
    "# Analysis of ET_TimeSignal and Decision to Drop\n",
    "\n",
    "As observed in the time series plot and confirmed by the correlation heatmap, the `ET_TimeSignal` column exhibits a near-perfect linear relationship with both the `Timestamp` and `UnixTime` columns. This strong correlation (close to 1) suggests that `ET_TimeSignal` is essentially redundant and likely represents another form of time recording or a signal directly derived from the timestamp.\n",
    "\n",
    "Including highly correlated features like this in a dataset can lead to issues such as multicollinearity in some statistical models, which can make it difficult to interpret the individual impact of each feature. Since the `Timestamp` column already provides the necessary temporal information, retaining `ET_TimeSignal` does not appear to add significant value for further analysis or modeling in most cases.\n",
    "\n",
    "Therefore, based on its high correlation and lack of unique insight, we will proceed to drop the `ET_TimeSignal` column to simplify the dataset and potentially improve the performance and interpretability of future analyses."
   ]
  },
  {
   "cell_type": "code",
   "execution_count": null,
   "id": "32a75618",
   "metadata": {
    "id": "7c96e349"
   },
   "outputs": [],
   "source": [
    "df_34_EYE.drop('ET_TimeSignal', axis=1, inplace=True)"
   ]
  },
  {
   "cell_type": "code",
   "execution_count": null,
   "id": "91bb1d35",
   "metadata": {
    "id": "5845a61d"
   },
   "outputs": [],
   "source": [
    "plt.figure(figsize=(16, 10))\n",
    "sns.pairplot(df_34_EYE)\n",
    "plt.show()"
   ]
  },
  {
   "cell_type": "markdown",
   "id": "bd995f73",
   "metadata": {
    "id": "sMcHS8LIOGeT"
   },
   "source": [
    "# **35_EYE**"
   ]
  },
  {
   "cell_type": "code",
   "execution_count": null,
   "id": "2aaed54e",
   "metadata": {
    "id": "L2tJooyROWnM"
   },
   "outputs": [],
   "source": []
  },
  {
   "cell_type": "code",
   "execution_count": null,
   "id": "21070438",
   "metadata": {
    "id": "6c647c4f"
   },
   "outputs": [],
   "source": [
    "df_35_EYE = pd.read_csv('data/STData/35/35_EYE.csv')"
   ]
  },
  {
   "cell_type": "code",
   "execution_count": null,
   "id": "e04bb57e",
   "metadata": {
    "id": "c229bba7"
   },
   "outputs": [],
   "source": [
    "df_35_EYE.head()"
   ]
  },
  {
   "cell_type": "code",
   "execution_count": null,
   "id": "ff1f6872",
   "metadata": {
    "id": "0ec8e716"
   },
   "outputs": [],
   "source": [
    "df_35_EYE.shape"
   ]
  },
  {
   "cell_type": "code",
   "execution_count": null,
   "id": "de947dbe",
   "metadata": {
    "id": "43ba37eb"
   },
   "outputs": [],
   "source": [
    "df_35_EYE.columns"
   ]
  },
  {
   "cell_type": "code",
   "execution_count": null,
   "id": "e23ece55",
   "metadata": {
    "id": "19f68fb4"
   },
   "outputs": [],
   "source": [
    "df_35_EYE.info()"
   ]
  },
  {
   "cell_type": "code",
   "execution_count": null,
   "id": "67c6e1cd",
   "metadata": {
    "id": "603369d7"
   },
   "outputs": [],
   "source": [
    "df_35_EYE.isnull().sum()"
   ]
  },
  {
   "cell_type": "code",
   "execution_count": null,
   "id": "087aabd5",
   "metadata": {
    "id": "874353e3"
   },
   "outputs": [],
   "source": [
    "plt.figure(figsize=(12,8))\n",
    "sns.heatmap(df_35_EYE.isnull(), cmap='viridis')\n",
    "plt.show()"
   ]
  },
  {
   "cell_type": "markdown",
   "id": "a6c65b46",
   "metadata": {
    "id": "b17906e7"
   },
   "source": [
    "# Notes & Observations\n",
    "\n",
    "- We observe many **null** (or missing) values in the `QuestionKey` columns.\n",
    "- The nulls in the `QuestionKey` column may not represent “true” nulls. Rather, they follow interval patterns, suggesting that during those periods no question was displayed.\n",
    "- These missing values in `QuestionKey` require additional investigation and context-aware handling."
   ]
  },
  {
   "cell_type": "code",
   "execution_count": null,
   "id": "d702f124",
   "metadata": {
    "id": "1113779e"
   },
   "outputs": [],
   "source": [
    "df_35_EYE['QuestionKey'].unique()"
   ]
  },
  {
   "cell_type": "code",
   "execution_count": null,
   "id": "55c2ba01",
   "metadata": {
    "id": "db0a93a2"
   },
   "outputs": [],
   "source": [
    "df_35_EYE['Timestamp'] = pd.to_datetime(df_35_EYE['Timestamp'])"
   ]
  },
  {
   "cell_type": "code",
   "execution_count": null,
   "id": "c66e8338",
   "metadata": {
    "id": "03d57b0a"
   },
   "outputs": [],
   "source": [
    "df_35_EYE.head(3)"
   ]
  },
  {
   "cell_type": "code",
   "execution_count": null,
   "id": "b21661a1",
   "metadata": {
    "id": "c0004029"
   },
   "outputs": [],
   "source": [
    "df_35_EYE['QuestionKey'] = df_35_EYE['QuestionKey'].fillna('None')"
   ]
  },
  {
   "cell_type": "code",
   "execution_count": null,
   "id": "401d6af2",
   "metadata": {
    "id": "dfb4729e"
   },
   "outputs": [],
   "source": [
    "df_35_EYE['QuestionKey'].value_counts()"
   ]
  },
  {
   "cell_type": "code",
   "execution_count": null,
   "id": "267c2f55",
   "metadata": {
    "id": "9353c9d8"
   },
   "outputs": [],
   "source": [
    "plt.figure(figsize=(12,8))\n",
    "sns.heatmap(df_35_EYE.isnull(), cmap='viridis')\n",
    "plt.show()"
   ]
  },
  {
   "cell_type": "code",
   "execution_count": null,
   "id": "be9b78c3",
   "metadata": {
    "id": "5c73d150"
   },
   "outputs": [],
   "source": [
    "df_35_EYE.isnull().sum()"
   ]
  },
  {
   "cell_type": "code",
   "execution_count": null,
   "id": "3c023178",
   "metadata": {
    "id": "6c700142"
   },
   "outputs": [],
   "source": [
    "df_35_EYE.dropna(inplace=True)"
   ]
  },
  {
   "cell_type": "code",
   "execution_count": null,
   "id": "14477058",
   "metadata": {
    "id": "90a604ce"
   },
   "outputs": [],
   "source": [
    "df_35_EYE.head()"
   ]
  },
  {
   "cell_type": "code",
   "execution_count": null,
   "id": "f763d09f",
   "metadata": {
    "id": "a43a4283"
   },
   "outputs": [],
   "source": [
    "df_35_EYE['Row'].unique()"
   ]
  },
  {
   "cell_type": "code",
   "execution_count": null,
   "id": "f7cfa325",
   "metadata": {
    "id": "f66566f9"
   },
   "outputs": [],
   "source": [
    "plt.figure(figsize=(8,6))\n",
    "sns.histplot(df_35_EYE['Row'])\n",
    "plt.show()"
   ]
  },
  {
   "cell_type": "markdown",
   "id": "e15c92db",
   "metadata": {
    "id": "5ddf40fd"
   },
   "source": [
    "# Notes & Observations\n",
    "\n",
    "- The `Row` column appears to be a simple row index and does not provide meaningful information relevant to the eye-tracking data itself. Therefore, it can be dropped."
   ]
  },
  {
   "cell_type": "code",
   "execution_count": null,
   "id": "3ec014de",
   "metadata": {
    "id": "5aee4404"
   },
   "outputs": [],
   "source": [
    "df_35_EYE.drop('Row', axis=1, inplace=True)"
   ]
  },
  {
   "cell_type": "code",
   "execution_count": null,
   "id": "0e6b4c83",
   "metadata": {
    "id": "827f3274"
   },
   "outputs": [],
   "source": [
    "df_35_EYE['ET_ValidityLeft'].unique()"
   ]
  },
  {
   "cell_type": "code",
   "execution_count": null,
   "id": "307fb9ed",
   "metadata": {
    "id": "1437751a"
   },
   "outputs": [],
   "source": [
    "df_35_EYE['ET_ValidityLeft'].value_counts()"
   ]
  },
  {
   "cell_type": "code",
   "execution_count": null,
   "id": "4b53bed6",
   "metadata": {
    "id": "d0a9ee4a"
   },
   "outputs": [],
   "source": [
    "df_35_EYE['ET_ValidityRight'].unique()"
   ]
  },
  {
   "cell_type": "code",
   "execution_count": null,
   "id": "61c91947",
   "metadata": {
    "id": "55ddcc2b"
   },
   "outputs": [],
   "source": [
    "df_35_EYE['ET_ValidityRight'].value_counts()"
   ]
  },
  {
   "cell_type": "code",
   "execution_count": null,
   "id": "b2bf6c5e",
   "metadata": {
    "id": "faef00be"
   },
   "outputs": [],
   "source": [
    "plt.figure(figsize=(12, 6))\n",
    "\n",
    "plt.subplot(1, 2, 1)\n",
    "sns.barplot(x=df_35_EYE['ET_ValidityLeft'].value_counts().index, y=df_35_EYE['ET_ValidityLeft'].value_counts().values)\n",
    "plt.title('Count of ET_ValidityLeft')\n",
    "plt.xlabel('Validity')\n",
    "plt.ylabel('Count')\n",
    "\n",
    "\n",
    "plt.subplot(1, 2, 2)\n",
    "sns.barplot(x=df_35_EYE['ET_ValidityRight'].value_counts().index, y=df_35_EYE['ET_ValidityRight'].value_counts().values)\n",
    "plt.title('Count of ET_ValidityRight')\n",
    "plt.xlabel('Validity')\n",
    "plt.ylabel('Count')\n",
    "\n",
    "plt.tight_layout()\n",
    "plt.show()"
   ]
  },
  {
   "cell_type": "markdown",
   "id": "5ef0950a",
   "metadata": {
    "id": "b43706ea"
   },
   "source": [
    "# Notes & Observations\n",
    "\n",
    "- The `ET_ValidityLeft` and `ET_ValidityRight` columns indicate the validity of the eye-tracking data for the left and right eye, respectively.\n",
    "- Based on the value counts and the bar plots, it appears that a value of `0.0` represents valid eye-tracking data, while a value of `4.0` represents invalid data.\n",
    "- Although the amount of invalid data is relatively small, removing these rows could introduce unwanted patterns or gaps in the time series data.\n",
    "- Therefore, we will keep the data and replace the value `4.0` with `1.0` in both `ET_ValidityLeft` and `ET_ValidityRight` columns. This will indicate to a machine learning model that the eye tracker had invalid data at those specific points in time while maintaining the integrity of the time series."
   ]
  },
  {
   "cell_type": "markdown",
   "id": "57b31f42",
   "metadata": {
    "id": "e9e671b2"
   },
   "source": [
    "Define a mapping to convert validity values from `0.0` and `4.0` to `0` and `1`."
   ]
  },
  {
   "cell_type": "code",
   "execution_count": null,
   "id": "6e228e27",
   "metadata": {
    "id": "08e7ed71"
   },
   "outputs": [],
   "source": [
    "validity_map = {4.0: 1.0, 0.0: 0.0}"
   ]
  },
  {
   "cell_type": "code",
   "execution_count": null,
   "id": "767de35a",
   "metadata": {
    "id": "0bba3ac0"
   },
   "outputs": [],
   "source": [
    "df_35_EYE['ET_ValidityLeft'] = df_35_EYE['ET_ValidityLeft'].map(validity_map).astype(np.int8)\n",
    "df_35_EYE['ET_ValidityRight'] = df_35_EYE['ET_ValidityRight'].map(validity_map).astype(np.int8)"
   ]
  },
  {
   "cell_type": "code",
   "execution_count": null,
   "id": "74898cb5",
   "metadata": {
    "id": "0ff3f16c"
   },
   "outputs": [],
   "source": [
    "df_35_EYE.head(3)"
   ]
  },
  {
   "cell_type": "code",
   "execution_count": null,
   "id": "e096d8b5",
   "metadata": {
    "id": "32eb3225"
   },
   "outputs": [],
   "source": [
    "df_35_EYE.describe()"
   ]
  },
  {
   "cell_type": "code",
   "execution_count": null,
   "id": "05f2690f",
   "metadata": {
    "id": "c1e092e1"
   },
   "outputs": [],
   "source": [
    "df_35_EYE[df_35_EYE['ET_ValidityLeft'] == 1].shape"
   ]
  },
  {
   "cell_type": "code",
   "execution_count": null,
   "id": "bab4339f",
   "metadata": {
    "id": "8ebfb0cc"
   },
   "outputs": [],
   "source": [
    "df_35_EYE[df_35_EYE['ET_ValidityRight'] == 1].shape"
   ]
  },
  {
   "cell_type": "code",
   "execution_count": null,
   "id": "43a184e6",
   "metadata": {
    "id": "0d175df2"
   },
   "outputs": [],
   "source": [
    "df_35_EYE[df_35_EYE['ET_ValidityLeft'] == 1].shape[0] / df_35_EYE.shape[0]"
   ]
  },
  {
   "cell_type": "code",
   "execution_count": null,
   "id": "e0dcb29a",
   "metadata": {
    "id": "54cc0f9e"
   },
   "outputs": [],
   "source": [
    "df_35_EYE[df_35_EYE['ET_ValidityRight'] == 1].shape[0] / df_35_EYE.shape[0]"
   ]
  },
  {
   "cell_type": "code",
   "execution_count": null,
   "id": "5f726178",
   "metadata": {
    "id": "45c977c1"
   },
   "outputs": [],
   "source": [
    "plt.figure(figsize=(18, 8))\n",
    "\n",
    "plt.subplot(1, 2, 1)\n",
    "sns.heatmap(df_35_EYE == -1, cmap='viridis')\n",
    "plt.title('Heatmap of -1 Values')\n",
    "\n",
    "plt.subplot(1, 2, 2)\n",
    "sns.heatmap(df_35_EYE == 1, cmap='viridis')\n",
    "plt.title('Heatmap of 1 Values')\n",
    "\n",
    "plt.tight_layout()\n",
    "plt.show()"
   ]
  },
  {
   "cell_type": "code",
   "execution_count": null,
   "id": "17d51e04",
   "metadata": {
    "id": "3b98a13b"
   },
   "outputs": [],
   "source": [
    "df_35_EYE[df_35_EYE['ET_PupilLeft'] == -1].shape"
   ]
  },
  {
   "cell_type": "code",
   "execution_count": null,
   "id": "cd92d4d4",
   "metadata": {
    "id": "a2f296f6"
   },
   "outputs": [],
   "source": [
    "df_35_EYE[df_35_EYE['ET_PupilRight'] == -1].shape"
   ]
  },
  {
   "cell_type": "code",
   "execution_count": null,
   "id": "2b2b4a90",
   "metadata": {
    "id": "42cff7eb"
   },
   "outputs": [],
   "source": [
    "df_35_EYE[df_35_EYE['ET_PupilLeft'] == -1].shape[0] / df_35_EYE.shape[0]"
   ]
  },
  {
   "cell_type": "code",
   "execution_count": null,
   "id": "dd8a387f",
   "metadata": {
    "id": "83c97903"
   },
   "outputs": [],
   "source": [
    "df_35_EYE[df_35_EYE['ET_PupilRight'] == -1].shape[0] / df_35_EYE.shape[0]"
   ]
  },
  {
   "cell_type": "code",
   "execution_count": null,
   "id": "5db19ef3",
   "metadata": {
    "id": "6e176d63"
   },
   "outputs": [],
   "source": [
    "plt.figure(figsize=(18, 8))\n",
    "\n",
    "plt.subplot(1, 2, 1)\n",
    "sns.heatmap(df_35_EYE[df_35_EYE['ET_ValidityLeft'] == 1] == -1, cmap='viridis')\n",
    "plt.title('Heatmap of -1 Values')\n",
    "\n",
    "plt.subplot(1, 2, 2)\n",
    "sns.heatmap(df_35_EYE[df_35_EYE['ET_ValidityRight'] == 1] == -1, cmap='viridis')\n",
    "plt.title('Heatmap of -1 Values')\n",
    "\n",
    "plt.tight_layout()\n",
    "plt.show()"
   ]
  },
  {
   "cell_type": "markdown",
   "id": "4b60893a",
   "metadata": {
    "id": "fff8db39"
   },
   "source": [
    "# Notes & Observations\n",
    "\n",
    "- The heatmaps reveal the distribution of -1 values across different columns.\n",
    "- It is evident that the `-1` values are not randomly scattered but appear in specific columns, notably `ET_GazeLeftx`, `ET_GazeLefty`, `ET_GazeRightx`, `ET_GazeRighty`, `ET_PupilLeft`, `ET_PupilRight`, `ET_DistanceLeft`, `ET_DistanceRight`, `ET_CameraLeftX`, `ET_CameraLeftY`, `ET_CameraRightX`, and `ET_CameraRightY`.\n",
    "- These `-1` values often coincide with instances where `ET_ValidityLeft` or `ET_ValidityRight` is 1, indicating invalid eye-tracking data. This suggests that `-1` is used as a placeholder for missing or invalid measurements in these columns when the eye tracker is not providing valid data for a particular eye.\n",
    "- Given that over 70% of the data in the `ET_PupilLeft` and `ET_PupilRight` columns is marked as invalid (-1), so instead of dropping them we can create new feature for both the `ET_PupilLeft` and `ET_PupilRight` to represent which row consist invalid `ET_PupilLeft` and `ET_PupilRight` data"
   ]
  },
  {
   "cell_type": "code",
   "execution_count": null,
   "id": "94b0f56c",
   "metadata": {
    "id": "cf7437aa"
   },
   "outputs": [],
   "source": [
    "pupil_validity = {-1: 1 }"
   ]
  },
  {
   "cell_type": "code",
   "execution_count": null,
   "id": "50c23ce0",
   "metadata": {
    "id": "989b113d"
   },
   "outputs": [],
   "source": [
    "df_35_EYE['ET_PupilLeft_validity'] = df_35_EYE['ET_PupilLeft'].map(pupil_validity)"
   ]
  },
  {
   "cell_type": "code",
   "execution_count": null,
   "id": "2718c156",
   "metadata": {
    "id": "9ecdfbc0"
   },
   "outputs": [],
   "source": [
    "df_35_EYE['ET_PupilRight_validity'] = df_35_EYE['ET_PupilRight'].map(pupil_validity)"
   ]
  },
  {
   "cell_type": "code",
   "execution_count": null,
   "id": "5971aed7",
   "metadata": {
    "id": "7f5d2b28"
   },
   "outputs": [],
   "source": [
    "df_35_EYE[['ET_PupilLeft_validity', 'ET_PupilRight_validity']].head()"
   ]
  },
  {
   "cell_type": "code",
   "execution_count": null,
   "id": "5082972f",
   "metadata": {
    "id": "6a86c472"
   },
   "outputs": [],
   "source": [
    "df_35_EYE[['ET_PupilLeft_validity', 'ET_PupilRight_validity']].isnull().sum()"
   ]
  },
  {
   "cell_type": "code",
   "execution_count": null,
   "id": "6bbef5a8",
   "metadata": {
    "id": "9121e4a8"
   },
   "outputs": [],
   "source": [
    "plt.figure(figsize=(18, 8))\n",
    "sns.heatmap(df_35_EYE[['ET_PupilLeft_validity', 'ET_PupilRight_validity']].isnull(), cmap='viridis')\n",
    "plt.show()"
   ]
  },
  {
   "cell_type": "code",
   "execution_count": null,
   "id": "d03ba8ed",
   "metadata": {
    "id": "613a230a"
   },
   "outputs": [],
   "source": [
    "df_35_EYE['ET_PupilLeft_validity'] = df_35_EYE['ET_PupilLeft_validity'].fillna(0)"
   ]
  },
  {
   "cell_type": "code",
   "execution_count": null,
   "id": "7ee7eb78",
   "metadata": {
    "id": "89ae7d3f"
   },
   "outputs": [],
   "source": [
    "df_35_EYE['ET_PupilRight_validity'] = df_35_EYE['ET_PupilRight_validity'].fillna(0)"
   ]
  },
  {
   "cell_type": "code",
   "execution_count": null,
   "id": "9392aedf",
   "metadata": {
    "id": "a2c39f03"
   },
   "outputs": [],
   "source": [
    "df_35_EYE[['ET_PupilLeft_validity', 'ET_PupilRight_validity']].head()"
   ]
  },
  {
   "cell_type": "code",
   "execution_count": null,
   "id": "e6a07a09",
   "metadata": {
    "id": "6e9c2645"
   },
   "outputs": [],
   "source": [
    "plt.figure(figsize=(18, 8))\n",
    "sns.heatmap(df_35_EYE[['ET_PupilLeft_validity', 'ET_PupilRight_validity']].isnull(), cmap='viridis')\n",
    "plt.show()"
   ]
  },
  {
   "cell_type": "code",
   "execution_count": null,
   "id": "918fcc4b",
   "metadata": {
    "id": "7e52da92"
   },
   "outputs": [],
   "source": [
    "df_35_EYE.head()"
   ]
  },
  {
   "cell_type": "code",
   "execution_count": null,
   "id": "695ba0b3",
   "metadata": {
    "id": "1cefd42d"
   },
   "outputs": [],
   "source": [
    "plt.figure(figsize=(18, 8))\n",
    "\n",
    "plt.subplot(1, 2, 1)\n",
    "sns.heatmap(df_35_EYE == -1, cmap='viridis')\n",
    "plt.title('Heatmap of -1 Values')\n",
    "\n",
    "plt.subplot(1, 2, 2)\n",
    "sns.heatmap(df_35_EYE == 1, cmap='viridis')\n",
    "plt.title('Heatmap of -1 Values')\n",
    "\n",
    "plt.tight_layout()\n",
    "plt.show()"
   ]
  },
  {
   "cell_type": "code",
   "execution_count": null,
   "id": "10bdb9c1",
   "metadata": {
    "id": "dcf38f27"
   },
   "outputs": [],
   "source": [
    "valid_left_ratio  = 1 - df_35_EYE['ET_ValidityLeft'].mean()"
   ]
  },
  {
   "cell_type": "code",
   "execution_count": null,
   "id": "fa8838f8",
   "metadata": {
    "id": "2aea00ec"
   },
   "outputs": [],
   "source": [
    "valid_left_ratio"
   ]
  },
  {
   "cell_type": "code",
   "execution_count": null,
   "id": "2e6c1074",
   "metadata": {
    "id": "19ac306c"
   },
   "outputs": [],
   "source": [
    "valid_right_ratio = 1 - df_35_EYE['ET_ValidityRight'].mean()"
   ]
  },
  {
   "cell_type": "code",
   "execution_count": null,
   "id": "c46eaae3",
   "metadata": {
    "id": "4f0aa48e"
   },
   "outputs": [],
   "source": [
    "valid_right_ratio"
   ]
  },
  {
   "cell_type": "code",
   "execution_count": null,
   "id": "c7f5ae53",
   "metadata": {
    "id": "a000b670"
   },
   "outputs": [],
   "source": [
    "df_35_EYE['ET_PupilLeft_validity'] = df_35_EYE['ET_PupilLeft_validity'].astype(np.int8)\n",
    "df_35_EYE['ET_PupilRight_validity'] = df_35_EYE['ET_PupilRight_validity'].astype(np.int8)"
   ]
  },
  {
   "cell_type": "markdown",
   "id": "3b3e53b0",
   "metadata": {
    "id": "6acf6847"
   },
   "source": [
    "# Feature Engineering and Observations\n",
    "\n",
    "Based on the analysis of the data, we've created two new features, `ET_PupilLeft_validity` and `ET_PupilRight_validity`. These features indicate the validity of the pupil data for the left and right eyes, respectively, with a value of 1 representing invalid data (originally -1) and 0 representing valid data.\n",
    "\n",
    "The heatmaps above visually demonstrate the distribution of -1 and 1 values across the dataset. We observed that:\n",
    "- The `-1` values are concentrated in specific columns related to gaze, pupil size, distance, and camera position, suggesting they represent missing or invalid sensor readings.\n",
    "- The `1` values, after mapping from `4.0` in the original validity columns, indicate instances of invalid eye-tracking data.\n",
    "- The heatmaps also show a strong correlation between the `-1` values in the pupil columns and a validity of 1 in the newly created pupil validity features, confirming that -1 was used to mark invalid pupil data."
   ]
  },
  {
   "cell_type": "code",
   "execution_count": null,
   "id": "6bd75daf",
   "metadata": {
    "id": "de9f2594"
   },
   "outputs": [],
   "source": [
    "df_35_EYE.head()"
   ]
  },
  {
   "cell_type": "code",
   "execution_count": null,
   "id": "23143de2",
   "metadata": {
    "id": "bfa2e174"
   },
   "outputs": [],
   "source": [
    "# Select only the numeric columns for plotting histograms, excluding time-related columns\n",
    "numeric_cols = df_35_EYE.select_dtypes(include=np.number).columns\n",
    "cols_to_plot = [col for col in numeric_cols if col not in ['UnixTime']]\n",
    "\n",
    "# Calculate the number of rows and columns for the grid\n",
    "n_cols = 4  # You can adjust the number of columns as needed\n",
    "n_rows = (len(cols_to_plot) + n_cols - 1) // n_cols\n",
    "\n",
    "plt.figure(figsize=(n_cols * 5, n_rows * 4)) # Adjust figure size as needed\n",
    "\n",
    "for i, col in enumerate(cols_to_plot):\n",
    "    plt.subplot(n_rows, n_cols, i + 1)\n",
    "    sns.histplot(df_35_EYE[col], kde=True)\n",
    "    plt.title(f'Distribution of {col}')\n",
    "    plt.xlabel(col)\n",
    "    plt.ylabel('Frequency')\n",
    "\n",
    "plt.tight_layout()\n",
    "plt.show()"
   ]
  },
  {
   "cell_type": "markdown",
   "id": "847d3211",
   "metadata": {
    "id": "8059766d"
   },
   "source": [
    "# Observations from Histograms\n",
    "\n",
    "The grid of histograms provides insights into the distribution of values for each numeric column in the dataset (excluding 'UnixTime'). Key observations include:\n",
    "\n",
    "- Several columns, such as `ET_GazeLeftx`, `ET_GazeLefty`, `ET_GazeRightx`, and `ET_GazeRighty`, show distributions that appear somewhat multimodal or skewed, suggesting variations in gaze patterns.\n",
    "- The `ET_PupilLeft` and `ET_PupilRight` histograms clearly show a peak at -1, confirming the presence of a significant number of invalid pupil readings.\n",
    "- `ET_TimeSignal` shows a relatively uniform distribution, as expected for a time-based signal.\n",
    "- `ET_DistanceLeft` and `ET_DistanceRight` appear to have distributions centered around certain values, with some outliers or variations.\n",
    "- The camera position columns (`ET_CameraLeftX`, `ET_CameraLeftY`, `ET_CameraRightX`, `ET_CameraRightY`) seem to have distributions concentrated within specific ranges, reflecting the camera's field of view.\n",
    "- The validity columns (`ET_ValidityLeft`, `ET_ValidityRight`, `ET_PupilLeft_validity`, `ET_PupilRight_validity`) show distributions dominated by 0, indicating that most of the data is considered valid after the mapping. The smaller peaks at 1 represent the instances of invalid data.\n",
    "\n",
    "These distributions highlight the need for appropriate handling of the -1 values and potential outliers in subsequent analysis or modeling steps."
   ]
  },
  {
   "cell_type": "code",
   "execution_count": null,
   "id": "8b9e0071",
   "metadata": {
    "id": "cb65ae1e"
   },
   "outputs": [],
   "source": [
    "df_35_EYE.columns"
   ]
  },
  {
   "cell_type": "code",
   "execution_count": null,
   "id": "66938fb4",
   "metadata": {
    "id": "8cf2280c"
   },
   "outputs": [],
   "source": [
    "cols = ['ET_GazeLeftx', 'ET_GazeLefty',\n",
    "       'ET_GazeRightx', 'ET_GazeRighty', 'ET_PupilLeft', 'ET_PupilRight',\n",
    "       'ET_TimeSignal', 'ET_DistanceLeft', 'ET_DistanceRight',\n",
    "       'ET_CameraLeftX', 'ET_CameraLeftY', 'ET_CameraRightX',\n",
    "       'ET_CameraRightY', 'ET_ValidityLeft', 'ET_ValidityRight',\n",
    "       'ET_PupilLeft_validity', 'ET_PupilRight_validity']"
   ]
  },
  {
   "cell_type": "code",
   "execution_count": null,
   "id": "e534a29b",
   "metadata": {
    "id": "85e45ea9"
   },
   "outputs": [],
   "source": [
    "from IPython.display import display, Markdown\n",
    "\n",
    "for col in cols:\n",
    "    # Add a markdown cell before each plot for better separation and labeling\n",
    "    display(Markdown(f'### {col} over Time'))\n",
    "    plt.figure(figsize=(16, 10))\n",
    "    plt.plot(df_35_EYE['Timestamp'], df_35_EYE[col])\n",
    "    plt.xlabel(\"Timestamp\") # Add x-axis label\n",
    "    plt.ylabel(col) # Add y-axis label\n",
    "    plt.show()"
   ]
  },
  {
   "cell_type": "markdown",
   "id": "6c497d6e",
   "metadata": {
    "id": "f7ffd08f"
   },
   "source": [
    "# Observations from Time Series Plots\n",
    "\n",
    "The line plots showing various features against the `Timestamp` reveal the temporal patterns and fluctuations in the eye-tracking data. Key observations include:\n",
    "\n",
    "- **Gaze Coordinates (`ET_GazeLeftx`, `ET_GazeLefty`, `ET_GazeRightx`, `ET_GazeRighty`):** These plots show the changes in gaze position over time. We can observe periods of relatively stable gaze interspersed with rapid movements (saccades) and blinks or other events where the gaze data might be invalid (-1 values appear as gaps or spikes if not handled).\n",
    "- **Pupil Size (`ET_PupilLeft`, `ET_PupilRight`):** The pupil size plots show variations over time. The presence of many -1 values is evident as flat lines at the bottom of the plot, indicating periods where pupil data was not recorded or was invalid.\n",
    "- **Time Signal (`ET_TimeSignal`):** This plot shows a steady, increasing trend, as expected for a time-based signal.\n",
    "- **Distance and Camera Position (`ET_DistanceLeft`, `ET_DistanceRight`, `ET_CameraLeftX`, `ET_CameraLeftY`, `ET_CameraRightX`, `ET_CameraRightY`):** These plots show how the distance from the eye tracker and the camera positions change over time. Variations in these features can be related to head movements or changes in the user's position relative to the eye tracker.\n",
    "- **Validity (`ET_ValidityLeft`, `ET_ValidityRight`, `ET_PupilLeft_validity`, `ET_PupilRight_validity`):** These plots clearly show periods of invalid data (represented by 1) as spikes or plateaus, corresponding to instances where the eye tracker lost track of the eyes or the pupil data was marked as invalid.\n",
    "\n",
    "Analyzing these time series plots is crucial for understanding the dynamics of the eye-tracking data and identifying patterns or anomalies that may require further investigation or specific handling during subsequent analysis."
   ]
  },
  {
   "cell_type": "code",
   "execution_count": null,
   "id": "ee734504",
   "metadata": {
    "id": "cdd85f8c"
   },
   "outputs": [],
   "source": [
    "# Select only the numeric columns for plotting histograms, excluding time-related columns\n",
    "numeric_cols = df_35_EYE.select_dtypes(include=np.number).columns\n",
    "\n",
    "# Calculate the number of rows and columns for the grid\n",
    "n_cols = 4  # You can adjust the number of columns as needed\n",
    "n_rows = (len(numeric_cols) + n_cols - 1) // n_cols\n",
    "\n",
    "plt.figure(figsize=(n_cols * 5, n_rows * 4)) # Adjust figure size as needed\n",
    "\n",
    "for i, col in enumerate(numeric_cols):\n",
    "    plt.subplot(n_rows, n_cols, i + 1)\n",
    "    sns.boxplot(df_35_EYE[col])\n",
    "    plt.title(f'Boxplot of {col}')\n",
    "    plt.xlabel(col)\n",
    "\n",
    "plt.tight_layout()\n",
    "plt.show()"
   ]
  },
  {
   "cell_type": "markdown",
   "id": "f1851e60",
   "metadata": {
    "id": "2cca19c5"
   },
   "source": [
    "# Observations from Boxplots and Handling -1 Values\n",
    "\n",
    "The boxplots provide a visual summary of the distribution and potential outliers for each numeric column. Key observations from the boxplots include:\n",
    "\n",
    "- The boxplots for columns like `ET_GazeLeftx`, `ET_GazeLefty`, `ET_GazeRightx`, `ET_GazeRighty`, `ET_PupilLeft`, `ET_PupilRight`, `ET_DistanceLeft`, `ET_DistanceRight`, `ET_CameraLeftX`, `ET_CameraLeftY`, `ET_CameraRightX`, and `ET_CameraRightY` clearly show the presence of -1 values as significant outliers, confirming our earlier observations from the heatmaps and histograms.\n",
    "- The boxplots for the validity columns (`ET_ValidityLeft`, `ET_ValidityRight`, `ET_PupilLeft_validity`, `ET_PupilRight_validity`) show the discrete nature of these features, with the majority of data points at 0 (valid) and a smaller number at 1 (invalid).\n",
    "\n",
    "Given the significant presence of -1 values, which represent invalid or missing data, especially in the pupil-related columns, we have decided to replace these -1 values with NaN to properly represent them as missing data. Subsequently, we will impute these missing values using the mean of each respective column. This approach helps to retain the data structure and allows for further analysis or modeling without the distortion caused by the -1 placeholders."
   ]
  },
  {
   "cell_type": "code",
   "execution_count": null,
   "id": "2c083dcc",
   "metadata": {
    "id": "9217371b"
   },
   "outputs": [],
   "source": [
    "df_35_EYE.replace({-1: np.nan}, inplace=True)"
   ]
  },
  {
   "cell_type": "code",
   "execution_count": null,
   "id": "12703ef6",
   "metadata": {
    "id": "8108fa01"
   },
   "outputs": [],
   "source": [
    "df_35_EYE[['ET_GazeLeftx', 'ET_GazeLefty',\n",
    "       'ET_GazeRightx', 'ET_GazeRighty', 'ET_PupilLeft', 'ET_PupilRight',\n",
    "       'ET_TimeSignal', 'ET_DistanceLeft', 'ET_DistanceRight',\n",
    "       'ET_CameraLeftX', 'ET_CameraLeftY', 'ET_CameraRightX',\n",
    "       'ET_CameraRightY', 'ET_ValidityLeft', 'ET_ValidityRight',\n",
    "       'ET_PupilLeft_validity', 'ET_PupilRight_validity']].mean()"
   ]
  },
  {
   "cell_type": "code",
   "execution_count": null,
   "id": "7de19380",
   "metadata": {
    "id": "9b94fbce"
   },
   "outputs": [],
   "source": [
    "df_35_EYE[['ET_GazeLeftx', 'ET_GazeLefty',\n",
    "       'ET_GazeRightx', 'ET_GazeRighty', 'ET_PupilLeft', 'ET_PupilRight',\n",
    "       'ET_TimeSignal', 'ET_DistanceLeft', 'ET_DistanceRight',\n",
    "       'ET_CameraLeftX', 'ET_CameraLeftY', 'ET_CameraRightX',\n",
    "       'ET_CameraRightY', 'ET_ValidityLeft', 'ET_ValidityRight',\n",
    "       'ET_PupilLeft_validity', 'ET_PupilRight_validity']].median()"
   ]
  },
  {
   "cell_type": "code",
   "execution_count": null,
   "id": "83223b46",
   "metadata": {
    "id": "ee1238c8"
   },
   "outputs": [],
   "source": [
    "numeric_cols = df_35_EYE.select_dtypes(include=np.number).columns\n",
    "\n",
    "for col in numeric_cols:\n",
    "    df_35_EYE[col] = df_35_EYE[col].fillna(df_35_EYE[col].mean())"
   ]
  },
  {
   "cell_type": "code",
   "execution_count": null,
   "id": "42969c16",
   "metadata": {
    "id": "b0bc522d"
   },
   "outputs": [],
   "source": [
    "plt.figure(figsize=(18, 8))\n",
    "\n",
    "plt.subplot(1, 2, 1)\n",
    "sns.heatmap(df_35_EYE.isnull(), cmap='viridis')\n",
    "plt.title('Heatmap of Missing Values After Imputation')\n",
    "\n",
    "plt.subplot(1, 2, 2)\n",
    "sns.heatmap(df_35_EYE == 1, cmap='viridis')\n",
    "plt.title('Heatmap of 1 Values')\n",
    "\n",
    "plt.tight_layout()\n",
    "plt.show()"
   ]
  },
  {
   "cell_type": "markdown",
   "id": "ba9ebc69",
   "metadata": {
    "id": "c0f1e10d"
   },
   "source": [
    "# Handling Missing Values (Imputation)\n",
    "\n",
    "As decided, we have replaced all the `-1` values with `NaN` to treat them as missing data. Subsequently, we have imputed these `NaN` values with the mean of their respective columns. The heatmap above, which was generated after the imputation, now shows no visible signs of `NaN` values, indicating that the imputation was successful."
   ]
  },
  {
   "cell_type": "code",
   "execution_count": null,
   "id": "1c45a6e4",
   "metadata": {
    "id": "2491c1da"
   },
   "outputs": [],
   "source": [
    "df_35_EYE.head()"
   ]
  },
  {
   "cell_type": "code",
   "execution_count": null,
   "id": "0e69d4b3",
   "metadata": {
    "id": "64f04350"
   },
   "outputs": [],
   "source": [
    "# Select only the numeric columns for plotting histograms, excluding time-related columns\n",
    "numeric_cols = df_35_EYE.select_dtypes(include=np.number).columns\n",
    "cols_to_plot = [col for col in numeric_cols if col not in ['UnixTime']]\n",
    "\n",
    "# Calculate the number of rows and columns for the grid\n",
    "n_cols = 4  # You can adjust the number of columns as needed\n",
    "n_rows = (len(cols_to_plot) + n_cols - 1) // n_cols\n",
    "\n",
    "plt.figure(figsize=(n_cols * 5, n_rows * 4)) # Adjust figure size as needed\n",
    "\n",
    "for i, col in enumerate(cols_to_plot):\n",
    "    plt.subplot(n_rows, n_cols, i + 1)\n",
    "    sns.histplot(df_35_EYE[col], kde=True)\n",
    "    plt.title(f'Distribution of {col}')\n",
    "    plt.xlabel(col)\n",
    "    plt.ylabel('Frequency')\n",
    "\n",
    "plt.tight_layout()\n",
    "plt.show()"
   ]
  },
  {
   "cell_type": "markdown",
   "id": "f7c89272",
   "metadata": {
    "id": "e0c83f1c"
   },
   "source": [
    "# Observations from Histograms After Imputation\n",
    "\n",
    "The histograms generated after replacing the -1 values with the mean of each column show the distributions of the numeric features with the missing data handled. Key observations from these updated histograms include:\n",
    "\n",
    "- The distinct peaks at -1, which were prominent in the histograms for several columns (e.g., pupil size, gaze coordinates, distance, and camera position) before imputation, are now replaced by a peak at the mean of each respective column.\n",
    "- The distributions in many columns now appear more unimodal or show shifted modes compared to the original histograms.\n",
    "- The histograms for the validity columns still show their bimodal distributions with peaks at 0 and 1, as these were handled separately.\n",
    "\n",
    "These histograms provide an updated view of the data's distribution after handling the missing values, highlighting the impact of the imputation method on the data's characteristics."
   ]
  },
  {
   "cell_type": "code",
   "execution_count": null,
   "id": "385e1c2c",
   "metadata": {
    "id": "de0b2f65"
   },
   "outputs": [],
   "source": [
    "cols = ['ET_GazeLeftx', 'ET_GazeLefty',\n",
    "       'ET_GazeRightx', 'ET_GazeRighty', 'ET_PupilLeft', 'ET_PupilRight',\n",
    "       'ET_TimeSignal', 'ET_DistanceLeft', 'ET_DistanceRight',\n",
    "       'ET_CameraLeftX', 'ET_CameraLeftY', 'ET_CameraRightX',\n",
    "       'ET_CameraRightY', 'ET_ValidityLeft', 'ET_ValidityRight',\n",
    "       'ET_PupilLeft_validity', 'ET_PupilRight_validity']"
   ]
  },
  {
   "cell_type": "code",
   "execution_count": null,
   "id": "477463e3",
   "metadata": {
    "id": "4ddd4915"
   },
   "outputs": [],
   "source": [
    "for col in cols:\n",
    "    # Add a markdown cell before each plot for better separation and labeling\n",
    "    display(Markdown(f'### {col} over Time'))\n",
    "    plt.figure(figsize=(16, 10))\n",
    "    plt.plot(df_35_EYE['Timestamp'], df_35_EYE[col])\n",
    "    plt.xlabel(\"Timestamp\") # Add x-axis label\n",
    "    plt.ylabel(col) # Add y-axis label\n",
    "    plt.show()"
   ]
  },
  {
   "cell_type": "markdown",
   "id": "879ab281",
   "metadata": {
    "id": "0fb07abb"
   },
   "source": [
    "# Observations from Time Series Plots After Imputation\n",
    "\n",
    "The line plots generated after imputing the missing values with the mean show the temporal patterns of the features with the missing data handled. Key observations from these updated plots include:\n",
    "\n",
    "- The gaps or flat lines at -1, which were prominent in the plots for columns like gaze coordinates, pupil size, distance, and camera position, are now filled by lines at the mean value of the respective columns.\n",
    "- The plots for the validity columns remain the same as they were handled separately.\n",
    "- The `ET_TimeSignal` plot still shows a steady increasing trend, as expected."
   ]
  },
  {
   "cell_type": "code",
   "execution_count": null,
   "id": "def89f5b",
   "metadata": {
    "id": "c608fd95"
   },
   "outputs": [],
   "source": [
    "plt.figure(figsize=(16, 10))\n",
    "sns.heatmap(df_35_EYE.corr(numeric_only=True), cmap='YlGnBu', annot=True)\n",
    "plt.show()"
   ]
  },
  {
   "cell_type": "markdown",
   "id": "a153b505",
   "metadata": {
    "id": "82405ba6"
   },
   "source": [
    "# Observations from Correlation Heatmap\n",
    "\n",
    "The correlation heatmap provides a visual representation of the pairwise correlations between the numeric columns in the dataset. Key observations from the heatmap include:\n",
    "\n",
    "- **High Positive Correlations:** We observe strong positive correlations (values close to 1) between:\n",
    "  - `ET_GazeLeftx` and `ET_GazeRightx`: This is expected as the gaze positions of both eyes should be highly correlated when fixating on a point.\n",
    "  - `ET_GazeLefty` and `ET_GazeRighty`: Similar to the x-coordinates, the y-coordinates of gaze should also be highly correlated.\n",
    "  - `ET_PupilLeft` and `ET_PupilRight`: Pupil sizes of both eyes tend to change together in response to light and cognitive load.\n",
    "  - `ET_DistanceLeft` and `ET_DistanceRight`: The distance from the eye tracker to each eye should be highly correlated.\n",
    "  - `ET_CameraLeftX` and `ET_CameraRightX`, `ET_CameraLeftY` and `ET_CameraRightY`: The camera positions for both eyes are also expected to be highly correlated.\n",
    "  - `UnixTime` and `ET_TimeSignal`: As previously noted, these two columns are almost perfectly linearly correlated, indicating redundancy.\n",
    "  - `ET_ValidityLeft` and `ET_PupilLeft_validity`: There is a positive correlation, suggesting that when the overall left eye data is invalid, the left pupil data is also likely to be invalid.\n",
    "  - `ET_ValidityRight` and `ET_PupilRight_validity`: Similar to the left eye, there is a positive correlation between the overall right eye validity and the right pupil validity.\n",
    "- **Other Correlations:** We can also observe other varying degrees of correlations between different features, which can provide insights into the relationships between gaze behavior, pupil size, distance, and camera position. For example, there might be correlations between gaze coordinates and camera positions, reflecting head movements.\n",
    "- **Low or Near-Zero Correlations:** Columns with low or near-zero correlations are relatively independent of each other.\n",
    "\n",
    "Understanding these correlations is important for feature selection and for building models, as highly correlated features might indicate multicollinearity, while correlations between features can reveal underlying patterns in the data."
   ]
  },
  {
   "cell_type": "markdown",
   "id": "1fcee308",
   "metadata": {
    "id": "1c413c3b"
   },
   "source": [
    "# Analysis of ET_TimeSignal and Decision to Drop\n",
    "\n",
    "As observed in the time series plot and confirmed by the correlation heatmap, the `ET_TimeSignal` column exhibits a near-perfect linear relationship with both the `Timestamp` and `UnixTime` columns. This strong correlation (close to 1) suggests that `ET_TimeSignal` is essentially redundant and likely represents another form of time recording or a signal directly derived from the timestamp.\n",
    "\n",
    "Including highly correlated features like this in a dataset can lead to issues such as multicollinearity in some statistical models, which can make it difficult to interpret the individual impact of each feature. Since the `Timestamp` column already provides the necessary temporal information, retaining `ET_TimeSignal` does not appear to add significant value for further analysis or modeling in most cases.\n",
    "\n",
    "Therefore, based on its high correlation and lack of unique insight, we will proceed to drop the `ET_TimeSignal` column to simplify the dataset and potentially improve the performance and interpretability of future analyses."
   ]
  },
  {
   "cell_type": "code",
   "execution_count": null,
   "id": "5549851c",
   "metadata": {
    "id": "7c96e349"
   },
   "outputs": [],
   "source": [
    "df_35_EYE.drop('ET_TimeSignal', axis=1, inplace=True)"
   ]
  },
  {
   "cell_type": "code",
   "execution_count": null,
   "id": "1caee904",
   "metadata": {
    "id": "5845a61d"
   },
   "outputs": [],
   "source": [
    "plt.figure(figsize=(16, 10))\n",
    "sns.pairplot(df_35_EYE)\n",
    "plt.show()"
   ]
  },
  {
   "cell_type": "markdown",
   "id": "9387d479",
   "metadata": {
    "id": "sMcHS8LIOGeT"
   },
   "source": [
    "# **36_EYE**"
   ]
  },
  {
   "cell_type": "code",
   "execution_count": null,
   "id": "d0453448",
   "metadata": {
    "id": "L2tJooyROWnM"
   },
   "outputs": [],
   "source": []
  },
  {
   "cell_type": "code",
   "execution_count": null,
   "id": "bc445065",
   "metadata": {
    "id": "6c647c4f"
   },
   "outputs": [],
   "source": [
    "df_36_EYE = pd.read_csv('data/STData/36/36_EYE.csv')"
   ]
  },
  {
   "cell_type": "code",
   "execution_count": null,
   "id": "f3de416f",
   "metadata": {
    "id": "c229bba7"
   },
   "outputs": [],
   "source": [
    "df_36_EYE.head()"
   ]
  },
  {
   "cell_type": "code",
   "execution_count": null,
   "id": "fa7c8257",
   "metadata": {
    "id": "0ec8e716"
   },
   "outputs": [],
   "source": [
    "df_36_EYE.shape"
   ]
  },
  {
   "cell_type": "code",
   "execution_count": null,
   "id": "e4c1476c",
   "metadata": {
    "id": "43ba37eb"
   },
   "outputs": [],
   "source": [
    "df_36_EYE.columns"
   ]
  },
  {
   "cell_type": "code",
   "execution_count": null,
   "id": "b6a1abfb",
   "metadata": {
    "id": "19f68fb4"
   },
   "outputs": [],
   "source": [
    "df_36_EYE.info()"
   ]
  },
  {
   "cell_type": "code",
   "execution_count": null,
   "id": "3d53a536",
   "metadata": {
    "id": "603369d7"
   },
   "outputs": [],
   "source": [
    "df_36_EYE.isnull().sum()"
   ]
  },
  {
   "cell_type": "code",
   "execution_count": null,
   "id": "8d1c07e1",
   "metadata": {
    "id": "874353e3"
   },
   "outputs": [],
   "source": [
    "plt.figure(figsize=(12,8))\n",
    "sns.heatmap(df_36_EYE.isnull(), cmap='viridis')\n",
    "plt.show()"
   ]
  },
  {
   "cell_type": "markdown",
   "id": "4d437790",
   "metadata": {
    "id": "b17906e7"
   },
   "source": [
    "# Notes & Observations\n",
    "\n",
    "- We observe many **null** (or missing) values in the `QuestionKey` columns.\n",
    "- The nulls in the `QuestionKey` column may not represent “true” nulls. Rather, they follow interval patterns, suggesting that during those periods no question was displayed.\n",
    "- These missing values in `QuestionKey` require additional investigation and context-aware handling."
   ]
  },
  {
   "cell_type": "code",
   "execution_count": null,
   "id": "ec63477b",
   "metadata": {
    "id": "1113779e"
   },
   "outputs": [],
   "source": [
    "df_36_EYE['QuestionKey'].unique()"
   ]
  },
  {
   "cell_type": "code",
   "execution_count": null,
   "id": "6b6ad63f",
   "metadata": {
    "id": "db0a93a2"
   },
   "outputs": [],
   "source": [
    "df_36_EYE['Timestamp'] = pd.to_datetime(df_36_EYE['Timestamp'])"
   ]
  },
  {
   "cell_type": "code",
   "execution_count": null,
   "id": "4b51d2bd",
   "metadata": {
    "id": "03d57b0a"
   },
   "outputs": [],
   "source": [
    "df_36_EYE.head(3)"
   ]
  },
  {
   "cell_type": "code",
   "execution_count": null,
   "id": "3e892e3c",
   "metadata": {
    "id": "c0004029"
   },
   "outputs": [],
   "source": [
    "df_36_EYE['QuestionKey'] = df_36_EYE['QuestionKey'].fillna('None')"
   ]
  },
  {
   "cell_type": "code",
   "execution_count": null,
   "id": "653c3de2",
   "metadata": {
    "id": "dfb4729e"
   },
   "outputs": [],
   "source": [
    "df_36_EYE['QuestionKey'].value_counts()"
   ]
  },
  {
   "cell_type": "code",
   "execution_count": null,
   "id": "e2af9b8a",
   "metadata": {
    "id": "9353c9d8"
   },
   "outputs": [],
   "source": [
    "plt.figure(figsize=(12,8))\n",
    "sns.heatmap(df_36_EYE.isnull(), cmap='viridis')\n",
    "plt.show()"
   ]
  },
  {
   "cell_type": "code",
   "execution_count": null,
   "id": "dc0065a5",
   "metadata": {
    "id": "5c73d150"
   },
   "outputs": [],
   "source": [
    "df_36_EYE.isnull().sum()"
   ]
  },
  {
   "cell_type": "code",
   "execution_count": null,
   "id": "da6ab7c8",
   "metadata": {
    "id": "6c700142"
   },
   "outputs": [],
   "source": [
    "df_36_EYE.dropna(inplace=True)"
   ]
  },
  {
   "cell_type": "code",
   "execution_count": null,
   "id": "b7549b07",
   "metadata": {
    "id": "90a604ce"
   },
   "outputs": [],
   "source": [
    "df_36_EYE.head()"
   ]
  },
  {
   "cell_type": "code",
   "execution_count": null,
   "id": "0d0f6c95",
   "metadata": {
    "id": "a43a4283"
   },
   "outputs": [],
   "source": [
    "df_36_EYE['Row'].unique()"
   ]
  },
  {
   "cell_type": "code",
   "execution_count": null,
   "id": "84f06bda",
   "metadata": {
    "id": "f66566f9"
   },
   "outputs": [],
   "source": [
    "plt.figure(figsize=(8,6))\n",
    "sns.histplot(df_36_EYE['Row'])\n",
    "plt.show()"
   ]
  },
  {
   "cell_type": "markdown",
   "id": "36b1f622",
   "metadata": {
    "id": "5ddf40fd"
   },
   "source": [
    "# Notes & Observations\n",
    "\n",
    "- The `Row` column appears to be a simple row index and does not provide meaningful information relevant to the eye-tracking data itself. Therefore, it can be dropped."
   ]
  },
  {
   "cell_type": "code",
   "execution_count": null,
   "id": "6517bbcf",
   "metadata": {
    "id": "5aee4404"
   },
   "outputs": [],
   "source": [
    "df_36_EYE.drop('Row', axis=1, inplace=True)"
   ]
  },
  {
   "cell_type": "code",
   "execution_count": null,
   "id": "f56b710e",
   "metadata": {
    "id": "827f3274"
   },
   "outputs": [],
   "source": [
    "df_36_EYE['ET_ValidityLeft'].unique()"
   ]
  },
  {
   "cell_type": "code",
   "execution_count": null,
   "id": "4614af92",
   "metadata": {
    "id": "1437751a"
   },
   "outputs": [],
   "source": [
    "df_36_EYE['ET_ValidityLeft'].value_counts()"
   ]
  },
  {
   "cell_type": "code",
   "execution_count": null,
   "id": "ade791d5",
   "metadata": {
    "id": "d0a9ee4a"
   },
   "outputs": [],
   "source": [
    "df_36_EYE['ET_ValidityRight'].unique()"
   ]
  },
  {
   "cell_type": "code",
   "execution_count": null,
   "id": "8db1e63d",
   "metadata": {
    "id": "55ddcc2b"
   },
   "outputs": [],
   "source": [
    "df_36_EYE['ET_ValidityRight'].value_counts()"
   ]
  },
  {
   "cell_type": "code",
   "execution_count": null,
   "id": "ee171ce9",
   "metadata": {
    "id": "faef00be"
   },
   "outputs": [],
   "source": [
    "plt.figure(figsize=(12, 6))\n",
    "\n",
    "plt.subplot(1, 2, 1)\n",
    "sns.barplot(x=df_36_EYE['ET_ValidityLeft'].value_counts().index, y=df_36_EYE['ET_ValidityLeft'].value_counts().values)\n",
    "plt.title('Count of ET_ValidityLeft')\n",
    "plt.xlabel('Validity')\n",
    "plt.ylabel('Count')\n",
    "\n",
    "\n",
    "plt.subplot(1, 2, 2)\n",
    "sns.barplot(x=df_36_EYE['ET_ValidityRight'].value_counts().index, y=df_36_EYE['ET_ValidityRight'].value_counts().values)\n",
    "plt.title('Count of ET_ValidityRight')\n",
    "plt.xlabel('Validity')\n",
    "plt.ylabel('Count')\n",
    "\n",
    "plt.tight_layout()\n",
    "plt.show()"
   ]
  },
  {
   "cell_type": "markdown",
   "id": "9839e448",
   "metadata": {
    "id": "b43706ea"
   },
   "source": [
    "# Notes & Observations\n",
    "\n",
    "- The `ET_ValidityLeft` and `ET_ValidityRight` columns indicate the validity of the eye-tracking data for the left and right eye, respectively.\n",
    "- Based on the value counts and the bar plots, it appears that a value of `0.0` represents valid eye-tracking data, while a value of `4.0` represents invalid data.\n",
    "- Although the amount of invalid data is relatively small, removing these rows could introduce unwanted patterns or gaps in the time series data.\n",
    "- Therefore, we will keep the data and replace the value `4.0` with `1.0` in both `ET_ValidityLeft` and `ET_ValidityRight` columns. This will indicate to a machine learning model that the eye tracker had invalid data at those specific points in time while maintaining the integrity of the time series."
   ]
  },
  {
   "cell_type": "markdown",
   "id": "c7b293c4",
   "metadata": {
    "id": "e9e671b2"
   },
   "source": [
    "Define a mapping to convert validity values from `0.0` and `4.0` to `0` and `1`."
   ]
  },
  {
   "cell_type": "code",
   "execution_count": null,
   "id": "46ed4f21",
   "metadata": {
    "id": "08e7ed71"
   },
   "outputs": [],
   "source": [
    "validity_map = {4.0: 1.0, 0.0: 0.0}"
   ]
  },
  {
   "cell_type": "code",
   "execution_count": null,
   "id": "726bacf0",
   "metadata": {
    "id": "0bba3ac0"
   },
   "outputs": [],
   "source": [
    "df_36_EYE['ET_ValidityLeft'] = df_36_EYE['ET_ValidityLeft'].map(validity_map).astype(np.int8)\n",
    "df_36_EYE['ET_ValidityRight'] = df_36_EYE['ET_ValidityRight'].map(validity_map).astype(np.int8)"
   ]
  },
  {
   "cell_type": "code",
   "execution_count": null,
   "id": "47643615",
   "metadata": {
    "id": "0ff3f16c"
   },
   "outputs": [],
   "source": [
    "df_36_EYE.head(3)"
   ]
  },
  {
   "cell_type": "code",
   "execution_count": null,
   "id": "49832032",
   "metadata": {
    "id": "32eb3225"
   },
   "outputs": [],
   "source": [
    "df_36_EYE.describe()"
   ]
  },
  {
   "cell_type": "code",
   "execution_count": null,
   "id": "61db1933",
   "metadata": {
    "id": "c1e092e1"
   },
   "outputs": [],
   "source": [
    "df_36_EYE[df_36_EYE['ET_ValidityLeft'] == 1].shape"
   ]
  },
  {
   "cell_type": "code",
   "execution_count": null,
   "id": "67d27a28",
   "metadata": {
    "id": "8ebfb0cc"
   },
   "outputs": [],
   "source": [
    "df_36_EYE[df_36_EYE['ET_ValidityRight'] == 1].shape"
   ]
  },
  {
   "cell_type": "code",
   "execution_count": null,
   "id": "4a64e534",
   "metadata": {
    "id": "0d175df2"
   },
   "outputs": [],
   "source": [
    "df_36_EYE[df_36_EYE['ET_ValidityLeft'] == 1].shape[0] / df_36_EYE.shape[0]"
   ]
  },
  {
   "cell_type": "code",
   "execution_count": null,
   "id": "348f0c93",
   "metadata": {
    "id": "54cc0f9e"
   },
   "outputs": [],
   "source": [
    "df_36_EYE[df_36_EYE['ET_ValidityRight'] == 1].shape[0] / df_36_EYE.shape[0]"
   ]
  },
  {
   "cell_type": "code",
   "execution_count": null,
   "id": "33a89da3",
   "metadata": {
    "id": "45c977c1"
   },
   "outputs": [],
   "source": [
    "plt.figure(figsize=(18, 8))\n",
    "\n",
    "plt.subplot(1, 2, 1)\n",
    "sns.heatmap(df_36_EYE == -1, cmap='viridis')\n",
    "plt.title('Heatmap of -1 Values')\n",
    "\n",
    "plt.subplot(1, 2, 2)\n",
    "sns.heatmap(df_36_EYE == 1, cmap='viridis')\n",
    "plt.title('Heatmap of 1 Values')\n",
    "\n",
    "plt.tight_layout()\n",
    "plt.show()"
   ]
  },
  {
   "cell_type": "code",
   "execution_count": null,
   "id": "66c111b8",
   "metadata": {
    "id": "3b98a13b"
   },
   "outputs": [],
   "source": [
    "df_36_EYE[df_36_EYE['ET_PupilLeft'] == -1].shape"
   ]
  },
  {
   "cell_type": "code",
   "execution_count": null,
   "id": "e13e0220",
   "metadata": {
    "id": "a2f296f6"
   },
   "outputs": [],
   "source": [
    "df_36_EYE[df_36_EYE['ET_PupilRight'] == -1].shape"
   ]
  },
  {
   "cell_type": "code",
   "execution_count": null,
   "id": "67a74661",
   "metadata": {
    "id": "42cff7eb"
   },
   "outputs": [],
   "source": [
    "df_36_EYE[df_36_EYE['ET_PupilLeft'] == -1].shape[0] / df_36_EYE.shape[0]"
   ]
  },
  {
   "cell_type": "code",
   "execution_count": null,
   "id": "6d938b38",
   "metadata": {
    "id": "83c97903"
   },
   "outputs": [],
   "source": [
    "df_36_EYE[df_36_EYE['ET_PupilRight'] == -1].shape[0] / df_36_EYE.shape[0]"
   ]
  },
  {
   "cell_type": "code",
   "execution_count": null,
   "id": "c8e5e6c0",
   "metadata": {
    "id": "6e176d63"
   },
   "outputs": [],
   "source": [
    "plt.figure(figsize=(18, 8))\n",
    "\n",
    "plt.subplot(1, 2, 1)\n",
    "sns.heatmap(df_36_EYE[df_36_EYE['ET_ValidityLeft'] == 1] == -1, cmap='viridis')\n",
    "plt.title('Heatmap of -1 Values')\n",
    "\n",
    "plt.subplot(1, 2, 2)\n",
    "sns.heatmap(df_36_EYE[df_36_EYE['ET_ValidityRight'] == 1] == -1, cmap='viridis')\n",
    "plt.title('Heatmap of -1 Values')\n",
    "\n",
    "plt.tight_layout()\n",
    "plt.show()"
   ]
  },
  {
   "cell_type": "markdown",
   "id": "ed0f8ee0",
   "metadata": {
    "id": "fff8db39"
   },
   "source": [
    "# Notes & Observations\n",
    "\n",
    "- The heatmaps reveal the distribution of -1 values across different columns.\n",
    "- It is evident that the `-1` values are not randomly scattered but appear in specific columns, notably `ET_GazeLeftx`, `ET_GazeLefty`, `ET_GazeRightx`, `ET_GazeRighty`, `ET_PupilLeft`, `ET_PupilRight`, `ET_DistanceLeft`, `ET_DistanceRight`, `ET_CameraLeftX`, `ET_CameraLeftY`, `ET_CameraRightX`, and `ET_CameraRightY`.\n",
    "- These `-1` values often coincide with instances where `ET_ValidityLeft` or `ET_ValidityRight` is 1, indicating invalid eye-tracking data. This suggests that `-1` is used as a placeholder for missing or invalid measurements in these columns when the eye tracker is not providing valid data for a particular eye.\n",
    "- Given that over 70% of the data in the `ET_PupilLeft` and `ET_PupilRight` columns is marked as invalid (-1), so instead of dropping them we can create new feature for both the `ET_PupilLeft` and `ET_PupilRight` to represent which row consist invalid `ET_PupilLeft` and `ET_PupilRight` data"
   ]
  },
  {
   "cell_type": "code",
   "execution_count": null,
   "id": "f47849fa",
   "metadata": {
    "id": "cf7437aa"
   },
   "outputs": [],
   "source": [
    "pupil_validity = {-1: 1 }"
   ]
  },
  {
   "cell_type": "code",
   "execution_count": null,
   "id": "2bcc1237",
   "metadata": {
    "id": "989b113d"
   },
   "outputs": [],
   "source": [
    "df_36_EYE['ET_PupilLeft_validity'] = df_36_EYE['ET_PupilLeft'].map(pupil_validity)"
   ]
  },
  {
   "cell_type": "code",
   "execution_count": null,
   "id": "14a94a30",
   "metadata": {
    "id": "9ecdfbc0"
   },
   "outputs": [],
   "source": [
    "df_36_EYE['ET_PupilRight_validity'] = df_36_EYE['ET_PupilRight'].map(pupil_validity)"
   ]
  },
  {
   "cell_type": "code",
   "execution_count": null,
   "id": "4a510fe1",
   "metadata": {
    "id": "7f5d2b28"
   },
   "outputs": [],
   "source": [
    "df_36_EYE[['ET_PupilLeft_validity', 'ET_PupilRight_validity']].head()"
   ]
  },
  {
   "cell_type": "code",
   "execution_count": null,
   "id": "b8db1a0f",
   "metadata": {
    "id": "6a86c472"
   },
   "outputs": [],
   "source": [
    "df_36_EYE[['ET_PupilLeft_validity', 'ET_PupilRight_validity']].isnull().sum()"
   ]
  },
  {
   "cell_type": "code",
   "execution_count": null,
   "id": "8aa8d25d",
   "metadata": {
    "id": "9121e4a8"
   },
   "outputs": [],
   "source": [
    "plt.figure(figsize=(18, 8))\n",
    "sns.heatmap(df_36_EYE[['ET_PupilLeft_validity', 'ET_PupilRight_validity']].isnull(), cmap='viridis')\n",
    "plt.show()"
   ]
  },
  {
   "cell_type": "code",
   "execution_count": null,
   "id": "98567ec1",
   "metadata": {
    "id": "613a230a"
   },
   "outputs": [],
   "source": [
    "df_36_EYE['ET_PupilLeft_validity'] = df_36_EYE['ET_PupilLeft_validity'].fillna(0)"
   ]
  },
  {
   "cell_type": "code",
   "execution_count": null,
   "id": "8e27ba6d",
   "metadata": {
    "id": "89ae7d3f"
   },
   "outputs": [],
   "source": [
    "df_36_EYE['ET_PupilRight_validity'] = df_36_EYE['ET_PupilRight_validity'].fillna(0)"
   ]
  },
  {
   "cell_type": "code",
   "execution_count": null,
   "id": "ec114dda",
   "metadata": {
    "id": "a2c39f03"
   },
   "outputs": [],
   "source": [
    "df_36_EYE[['ET_PupilLeft_validity', 'ET_PupilRight_validity']].head()"
   ]
  },
  {
   "cell_type": "code",
   "execution_count": null,
   "id": "a5d108c4",
   "metadata": {
    "id": "6e9c2645"
   },
   "outputs": [],
   "source": [
    "plt.figure(figsize=(18, 8))\n",
    "sns.heatmap(df_36_EYE[['ET_PupilLeft_validity', 'ET_PupilRight_validity']].isnull(), cmap='viridis')\n",
    "plt.show()"
   ]
  },
  {
   "cell_type": "code",
   "execution_count": null,
   "id": "3eafa825",
   "metadata": {
    "id": "7e52da92"
   },
   "outputs": [],
   "source": [
    "df_36_EYE.head()"
   ]
  },
  {
   "cell_type": "code",
   "execution_count": null,
   "id": "5bc5b93f",
   "metadata": {
    "id": "1cefd42d"
   },
   "outputs": [],
   "source": [
    "plt.figure(figsize=(18, 8))\n",
    "\n",
    "plt.subplot(1, 2, 1)\n",
    "sns.heatmap(df_36_EYE == -1, cmap='viridis')\n",
    "plt.title('Heatmap of -1 Values')\n",
    "\n",
    "plt.subplot(1, 2, 2)\n",
    "sns.heatmap(df_36_EYE == 1, cmap='viridis')\n",
    "plt.title('Heatmap of -1 Values')\n",
    "\n",
    "plt.tight_layout()\n",
    "plt.show()"
   ]
  },
  {
   "cell_type": "code",
   "execution_count": null,
   "id": "9f7d9173",
   "metadata": {
    "id": "dcf38f27"
   },
   "outputs": [],
   "source": [
    "valid_left_ratio  = 1 - df_36_EYE['ET_ValidityLeft'].mean()"
   ]
  },
  {
   "cell_type": "code",
   "execution_count": null,
   "id": "58295463",
   "metadata": {
    "id": "2aea00ec"
   },
   "outputs": [],
   "source": [
    "valid_left_ratio"
   ]
  },
  {
   "cell_type": "code",
   "execution_count": null,
   "id": "1eb6129c",
   "metadata": {
    "id": "19ac306c"
   },
   "outputs": [],
   "source": [
    "valid_right_ratio = 1 - df_36_EYE['ET_ValidityRight'].mean()"
   ]
  },
  {
   "cell_type": "code",
   "execution_count": null,
   "id": "c58ca898",
   "metadata": {
    "id": "4f0aa48e"
   },
   "outputs": [],
   "source": [
    "valid_right_ratio"
   ]
  },
  {
   "cell_type": "code",
   "execution_count": null,
   "id": "fd7bed6f",
   "metadata": {
    "id": "a000b670"
   },
   "outputs": [],
   "source": [
    "df_36_EYE['ET_PupilLeft_validity'] = df_36_EYE['ET_PupilLeft_validity'].astype(np.int8)\n",
    "df_36_EYE['ET_PupilRight_validity'] = df_36_EYE['ET_PupilRight_validity'].astype(np.int8)"
   ]
  },
  {
   "cell_type": "markdown",
   "id": "ea670bef",
   "metadata": {
    "id": "6acf6847"
   },
   "source": [
    "# Feature Engineering and Observations\n",
    "\n",
    "Based on the analysis of the data, we've created two new features, `ET_PupilLeft_validity` and `ET_PupilRight_validity`. These features indicate the validity of the pupil data for the left and right eyes, respectively, with a value of 1 representing invalid data (originally -1) and 0 representing valid data.\n",
    "\n",
    "The heatmaps above visually demonstrate the distribution of -1 and 1 values across the dataset. We observed that:\n",
    "- The `-1` values are concentrated in specific columns related to gaze, pupil size, distance, and camera position, suggesting they represent missing or invalid sensor readings.\n",
    "- The `1` values, after mapping from `4.0` in the original validity columns, indicate instances of invalid eye-tracking data.\n",
    "- The heatmaps also show a strong correlation between the `-1` values in the pupil columns and a validity of 1 in the newly created pupil validity features, confirming that -1 was used to mark invalid pupil data."
   ]
  },
  {
   "cell_type": "code",
   "execution_count": null,
   "id": "f7097a23",
   "metadata": {
    "id": "de9f2594"
   },
   "outputs": [],
   "source": [
    "df_36_EYE.head()"
   ]
  },
  {
   "cell_type": "code",
   "execution_count": null,
   "id": "12c9b692",
   "metadata": {
    "id": "bfa2e174"
   },
   "outputs": [],
   "source": [
    "# Select only the numeric columns for plotting histograms, excluding time-related columns\n",
    "numeric_cols = df_36_EYE.select_dtypes(include=np.number).columns\n",
    "cols_to_plot = [col for col in numeric_cols if col not in ['UnixTime']]\n",
    "\n",
    "# Calculate the number of rows and columns for the grid\n",
    "n_cols = 4  # You can adjust the number of columns as needed\n",
    "n_rows = (len(cols_to_plot) + n_cols - 1) // n_cols\n",
    "\n",
    "plt.figure(figsize=(n_cols * 5, n_rows * 4)) # Adjust figure size as needed\n",
    "\n",
    "for i, col in enumerate(cols_to_plot):\n",
    "    plt.subplot(n_rows, n_cols, i + 1)\n",
    "    sns.histplot(df_36_EYE[col], kde=True)\n",
    "    plt.title(f'Distribution of {col}')\n",
    "    plt.xlabel(col)\n",
    "    plt.ylabel('Frequency')\n",
    "\n",
    "plt.tight_layout()\n",
    "plt.show()"
   ]
  },
  {
   "cell_type": "markdown",
   "id": "b33cc9f9",
   "metadata": {
    "id": "8059766d"
   },
   "source": [
    "# Observations from Histograms\n",
    "\n",
    "The grid of histograms provides insights into the distribution of values for each numeric column in the dataset (excluding 'UnixTime'). Key observations include:\n",
    "\n",
    "- Several columns, such as `ET_GazeLeftx`, `ET_GazeLefty`, `ET_GazeRightx`, and `ET_GazeRighty`, show distributions that appear somewhat multimodal or skewed, suggesting variations in gaze patterns.\n",
    "- The `ET_PupilLeft` and `ET_PupilRight` histograms clearly show a peak at -1, confirming the presence of a significant number of invalid pupil readings.\n",
    "- `ET_TimeSignal` shows a relatively uniform distribution, as expected for a time-based signal.\n",
    "- `ET_DistanceLeft` and `ET_DistanceRight` appear to have distributions centered around certain values, with some outliers or variations.\n",
    "- The camera position columns (`ET_CameraLeftX`, `ET_CameraLeftY`, `ET_CameraRightX`, `ET_CameraRightY`) seem to have distributions concentrated within specific ranges, reflecting the camera's field of view.\n",
    "- The validity columns (`ET_ValidityLeft`, `ET_ValidityRight`, `ET_PupilLeft_validity`, `ET_PupilRight_validity`) show distributions dominated by 0, indicating that most of the data is considered valid after the mapping. The smaller peaks at 1 represent the instances of invalid data.\n",
    "\n",
    "These distributions highlight the need for appropriate handling of the -1 values and potential outliers in subsequent analysis or modeling steps."
   ]
  },
  {
   "cell_type": "code",
   "execution_count": null,
   "id": "9d354881",
   "metadata": {
    "id": "cb65ae1e"
   },
   "outputs": [],
   "source": [
    "df_36_EYE.columns"
   ]
  },
  {
   "cell_type": "code",
   "execution_count": null,
   "id": "bdf21034",
   "metadata": {
    "id": "8cf2280c"
   },
   "outputs": [],
   "source": [
    "cols = ['ET_GazeLeftx', 'ET_GazeLefty',\n",
    "       'ET_GazeRightx', 'ET_GazeRighty', 'ET_PupilLeft', 'ET_PupilRight',\n",
    "       'ET_TimeSignal', 'ET_DistanceLeft', 'ET_DistanceRight',\n",
    "       'ET_CameraLeftX', 'ET_CameraLeftY', 'ET_CameraRightX',\n",
    "       'ET_CameraRightY', 'ET_ValidityLeft', 'ET_ValidityRight',\n",
    "       'ET_PupilLeft_validity', 'ET_PupilRight_validity']"
   ]
  },
  {
   "cell_type": "code",
   "execution_count": null,
   "id": "f74b1daa",
   "metadata": {
    "id": "85e45ea9"
   },
   "outputs": [],
   "source": [
    "from IPython.display import display, Markdown\n",
    "\n",
    "for col in cols:\n",
    "    # Add a markdown cell before each plot for better separation and labeling\n",
    "    display(Markdown(f'### {col} over Time'))\n",
    "    plt.figure(figsize=(16, 10))\n",
    "    plt.plot(df_36_EYE['Timestamp'], df_36_EYE[col])\n",
    "    plt.xlabel(\"Timestamp\") # Add x-axis label\n",
    "    plt.ylabel(col) # Add y-axis label\n",
    "    plt.show()"
   ]
  },
  {
   "cell_type": "markdown",
   "id": "acb562b0",
   "metadata": {
    "id": "f7ffd08f"
   },
   "source": [
    "# Observations from Time Series Plots\n",
    "\n",
    "The line plots showing various features against the `Timestamp` reveal the temporal patterns and fluctuations in the eye-tracking data. Key observations include:\n",
    "\n",
    "- **Gaze Coordinates (`ET_GazeLeftx`, `ET_GazeLefty`, `ET_GazeRightx`, `ET_GazeRighty`):** These plots show the changes in gaze position over time. We can observe periods of relatively stable gaze interspersed with rapid movements (saccades) and blinks or other events where the gaze data might be invalid (-1 values appear as gaps or spikes if not handled).\n",
    "- **Pupil Size (`ET_PupilLeft`, `ET_PupilRight`):** The pupil size plots show variations over time. The presence of many -1 values is evident as flat lines at the bottom of the plot, indicating periods where pupil data was not recorded or was invalid.\n",
    "- **Time Signal (`ET_TimeSignal`):** This plot shows a steady, increasing trend, as expected for a time-based signal.\n",
    "- **Distance and Camera Position (`ET_DistanceLeft`, `ET_DistanceRight`, `ET_CameraLeftX`, `ET_CameraLeftY`, `ET_CameraRightX`, `ET_CameraRightY`):** These plots show how the distance from the eye tracker and the camera positions change over time. Variations in these features can be related to head movements or changes in the user's position relative to the eye tracker.\n",
    "- **Validity (`ET_ValidityLeft`, `ET_ValidityRight`, `ET_PupilLeft_validity`, `ET_PupilRight_validity`):** These plots clearly show periods of invalid data (represented by 1) as spikes or plateaus, corresponding to instances where the eye tracker lost track of the eyes or the pupil data was marked as invalid.\n",
    "\n",
    "Analyzing these time series plots is crucial for understanding the dynamics of the eye-tracking data and identifying patterns or anomalies that may require further investigation or specific handling during subsequent analysis."
   ]
  },
  {
   "cell_type": "code",
   "execution_count": null,
   "id": "2516ef09",
   "metadata": {
    "id": "cdd85f8c"
   },
   "outputs": [],
   "source": [
    "# Select only the numeric columns for plotting histograms, excluding time-related columns\n",
    "numeric_cols = df_36_EYE.select_dtypes(include=np.number).columns\n",
    "\n",
    "# Calculate the number of rows and columns for the grid\n",
    "n_cols = 4  # You can adjust the number of columns as needed\n",
    "n_rows = (len(numeric_cols) + n_cols - 1) // n_cols\n",
    "\n",
    "plt.figure(figsize=(n_cols * 5, n_rows * 4)) # Adjust figure size as needed\n",
    "\n",
    "for i, col in enumerate(numeric_cols):\n",
    "    plt.subplot(n_rows, n_cols, i + 1)\n",
    "    sns.boxplot(df_36_EYE[col])\n",
    "    plt.title(f'Boxplot of {col}')\n",
    "    plt.xlabel(col)\n",
    "\n",
    "plt.tight_layout()\n",
    "plt.show()"
   ]
  },
  {
   "cell_type": "markdown",
   "id": "b221c810",
   "metadata": {
    "id": "2cca19c5"
   },
   "source": [
    "# Observations from Boxplots and Handling -1 Values\n",
    "\n",
    "The boxplots provide a visual summary of the distribution and potential outliers for each numeric column. Key observations from the boxplots include:\n",
    "\n",
    "- The boxplots for columns like `ET_GazeLeftx`, `ET_GazeLefty`, `ET_GazeRightx`, `ET_GazeRighty`, `ET_PupilLeft`, `ET_PupilRight`, `ET_DistanceLeft`, `ET_DistanceRight`, `ET_CameraLeftX`, `ET_CameraLeftY`, `ET_CameraRightX`, and `ET_CameraRightY` clearly show the presence of -1 values as significant outliers, confirming our earlier observations from the heatmaps and histograms.\n",
    "- The boxplots for the validity columns (`ET_ValidityLeft`, `ET_ValidityRight`, `ET_PupilLeft_validity`, `ET_PupilRight_validity`) show the discrete nature of these features, with the majority of data points at 0 (valid) and a smaller number at 1 (invalid).\n",
    "\n",
    "Given the significant presence of -1 values, which represent invalid or missing data, especially in the pupil-related columns, we have decided to replace these -1 values with NaN to properly represent them as missing data. Subsequently, we will impute these missing values using the mean of each respective column. This approach helps to retain the data structure and allows for further analysis or modeling without the distortion caused by the -1 placeholders."
   ]
  },
  {
   "cell_type": "code",
   "execution_count": null,
   "id": "ba5ae82f",
   "metadata": {
    "id": "9217371b"
   },
   "outputs": [],
   "source": [
    "df_36_EYE.replace({-1: np.nan}, inplace=True)"
   ]
  },
  {
   "cell_type": "code",
   "execution_count": null,
   "id": "1a5f8dbf",
   "metadata": {
    "id": "8108fa01"
   },
   "outputs": [],
   "source": [
    "df_36_EYE[['ET_GazeLeftx', 'ET_GazeLefty',\n",
    "       'ET_GazeRightx', 'ET_GazeRighty', 'ET_PupilLeft', 'ET_PupilRight',\n",
    "       'ET_TimeSignal', 'ET_DistanceLeft', 'ET_DistanceRight',\n",
    "       'ET_CameraLeftX', 'ET_CameraLeftY', 'ET_CameraRightX',\n",
    "       'ET_CameraRightY', 'ET_ValidityLeft', 'ET_ValidityRight',\n",
    "       'ET_PupilLeft_validity', 'ET_PupilRight_validity']].mean()"
   ]
  },
  {
   "cell_type": "code",
   "execution_count": null,
   "id": "d4916855",
   "metadata": {
    "id": "9b94fbce"
   },
   "outputs": [],
   "source": [
    "df_36_EYE[['ET_GazeLeftx', 'ET_GazeLefty',\n",
    "       'ET_GazeRightx', 'ET_GazeRighty', 'ET_PupilLeft', 'ET_PupilRight',\n",
    "       'ET_TimeSignal', 'ET_DistanceLeft', 'ET_DistanceRight',\n",
    "       'ET_CameraLeftX', 'ET_CameraLeftY', 'ET_CameraRightX',\n",
    "       'ET_CameraRightY', 'ET_ValidityLeft', 'ET_ValidityRight',\n",
    "       'ET_PupilLeft_validity', 'ET_PupilRight_validity']].median()"
   ]
  },
  {
   "cell_type": "code",
   "execution_count": null,
   "id": "cc5ffb14",
   "metadata": {
    "id": "ee1238c8"
   },
   "outputs": [],
   "source": [
    "numeric_cols = df_36_EYE.select_dtypes(include=np.number).columns\n",
    "\n",
    "for col in numeric_cols:\n",
    "    df_36_EYE[col] = df_36_EYE[col].fillna(df_36_EYE[col].mean())"
   ]
  },
  {
   "cell_type": "code",
   "execution_count": null,
   "id": "84ef988d",
   "metadata": {
    "id": "b0bc522d"
   },
   "outputs": [],
   "source": [
    "plt.figure(figsize=(18, 8))\n",
    "\n",
    "plt.subplot(1, 2, 1)\n",
    "sns.heatmap(df_36_EYE.isnull(), cmap='viridis')\n",
    "plt.title('Heatmap of Missing Values After Imputation')\n",
    "\n",
    "plt.subplot(1, 2, 2)\n",
    "sns.heatmap(df_36_EYE == 1, cmap='viridis')\n",
    "plt.title('Heatmap of 1 Values')\n",
    "\n",
    "plt.tight_layout()\n",
    "plt.show()"
   ]
  },
  {
   "cell_type": "markdown",
   "id": "6071a26d",
   "metadata": {
    "id": "c0f1e10d"
   },
   "source": [
    "# Handling Missing Values (Imputation)\n",
    "\n",
    "As decided, we have replaced all the `-1` values with `NaN` to treat them as missing data. Subsequently, we have imputed these `NaN` values with the mean of their respective columns. The heatmap above, which was generated after the imputation, now shows no visible signs of `NaN` values, indicating that the imputation was successful."
   ]
  },
  {
   "cell_type": "code",
   "execution_count": null,
   "id": "0db0d23e",
   "metadata": {
    "id": "2491c1da"
   },
   "outputs": [],
   "source": [
    "df_36_EYE.head()"
   ]
  },
  {
   "cell_type": "code",
   "execution_count": null,
   "id": "57432a4d",
   "metadata": {
    "id": "64f04350"
   },
   "outputs": [],
   "source": [
    "# Select only the numeric columns for plotting histograms, excluding time-related columns\n",
    "numeric_cols = df_36_EYE.select_dtypes(include=np.number).columns\n",
    "cols_to_plot = [col for col in numeric_cols if col not in ['UnixTime']]\n",
    "\n",
    "# Calculate the number of rows and columns for the grid\n",
    "n_cols = 4  # You can adjust the number of columns as needed\n",
    "n_rows = (len(cols_to_plot) + n_cols - 1) // n_cols\n",
    "\n",
    "plt.figure(figsize=(n_cols * 5, n_rows * 4)) # Adjust figure size as needed\n",
    "\n",
    "for i, col in enumerate(cols_to_plot):\n",
    "    plt.subplot(n_rows, n_cols, i + 1)\n",
    "    sns.histplot(df_36_EYE[col], kde=True)\n",
    "    plt.title(f'Distribution of {col}')\n",
    "    plt.xlabel(col)\n",
    "    plt.ylabel('Frequency')\n",
    "\n",
    "plt.tight_layout()\n",
    "plt.show()"
   ]
  },
  {
   "cell_type": "markdown",
   "id": "3cdc942c",
   "metadata": {
    "id": "e0c83f1c"
   },
   "source": [
    "# Observations from Histograms After Imputation\n",
    "\n",
    "The histograms generated after replacing the -1 values with the mean of each column show the distributions of the numeric features with the missing data handled. Key observations from these updated histograms include:\n",
    "\n",
    "- The distinct peaks at -1, which were prominent in the histograms for several columns (e.g., pupil size, gaze coordinates, distance, and camera position) before imputation, are now replaced by a peak at the mean of each respective column.\n",
    "- The distributions in many columns now appear more unimodal or show shifted modes compared to the original histograms.\n",
    "- The histograms for the validity columns still show their bimodal distributions with peaks at 0 and 1, as these were handled separately.\n",
    "\n",
    "These histograms provide an updated view of the data's distribution after handling the missing values, highlighting the impact of the imputation method on the data's characteristics."
   ]
  },
  {
   "cell_type": "code",
   "execution_count": null,
   "id": "2f160c7c",
   "metadata": {
    "id": "de0b2f65"
   },
   "outputs": [],
   "source": [
    "cols = ['ET_GazeLeftx', 'ET_GazeLefty',\n",
    "       'ET_GazeRightx', 'ET_GazeRighty', 'ET_PupilLeft', 'ET_PupilRight',\n",
    "       'ET_TimeSignal', 'ET_DistanceLeft', 'ET_DistanceRight',\n",
    "       'ET_CameraLeftX', 'ET_CameraLeftY', 'ET_CameraRightX',\n",
    "       'ET_CameraRightY', 'ET_ValidityLeft', 'ET_ValidityRight',\n",
    "       'ET_PupilLeft_validity', 'ET_PupilRight_validity']"
   ]
  },
  {
   "cell_type": "code",
   "execution_count": null,
   "id": "35a11c4d",
   "metadata": {
    "id": "4ddd4915"
   },
   "outputs": [],
   "source": [
    "for col in cols:\n",
    "    # Add a markdown cell before each plot for better separation and labeling\n",
    "    display(Markdown(f'### {col} over Time'))\n",
    "    plt.figure(figsize=(16, 10))\n",
    "    plt.plot(df_36_EYE['Timestamp'], df_36_EYE[col])\n",
    "    plt.xlabel(\"Timestamp\") # Add x-axis label\n",
    "    plt.ylabel(col) # Add y-axis label\n",
    "    plt.show()"
   ]
  },
  {
   "cell_type": "markdown",
   "id": "426eaa3f",
   "metadata": {
    "id": "0fb07abb"
   },
   "source": [
    "# Observations from Time Series Plots After Imputation\n",
    "\n",
    "The line plots generated after imputing the missing values with the mean show the temporal patterns of the features with the missing data handled. Key observations from these updated plots include:\n",
    "\n",
    "- The gaps or flat lines at -1, which were prominent in the plots for columns like gaze coordinates, pupil size, distance, and camera position, are now filled by lines at the mean value of the respective columns.\n",
    "- The plots for the validity columns remain the same as they were handled separately.\n",
    "- The `ET_TimeSignal` plot still shows a steady increasing trend, as expected."
   ]
  },
  {
   "cell_type": "code",
   "execution_count": null,
   "id": "9c73cb28",
   "metadata": {
    "id": "c608fd95"
   },
   "outputs": [],
   "source": [
    "plt.figure(figsize=(16, 10))\n",
    "sns.heatmap(df_36_EYE.corr(numeric_only=True), cmap='YlGnBu', annot=True)\n",
    "plt.show()"
   ]
  },
  {
   "cell_type": "markdown",
   "id": "76568559",
   "metadata": {
    "id": "82405ba6"
   },
   "source": [
    "# Observations from Correlation Heatmap\n",
    "\n",
    "The correlation heatmap provides a visual representation of the pairwise correlations between the numeric columns in the dataset. Key observations from the heatmap include:\n",
    "\n",
    "- **High Positive Correlations:** We observe strong positive correlations (values close to 1) between:\n",
    "  - `ET_GazeLeftx` and `ET_GazeRightx`: This is expected as the gaze positions of both eyes should be highly correlated when fixating on a point.\n",
    "  - `ET_GazeLefty` and `ET_GazeRighty`: Similar to the x-coordinates, the y-coordinates of gaze should also be highly correlated.\n",
    "  - `ET_PupilLeft` and `ET_PupilRight`: Pupil sizes of both eyes tend to change together in response to light and cognitive load.\n",
    "  - `ET_DistanceLeft` and `ET_DistanceRight`: The distance from the eye tracker to each eye should be highly correlated.\n",
    "  - `ET_CameraLeftX` and `ET_CameraRightX`, `ET_CameraLeftY` and `ET_CameraRightY`: The camera positions for both eyes are also expected to be highly correlated.\n",
    "  - `UnixTime` and `ET_TimeSignal`: As previously noted, these two columns are almost perfectly linearly correlated, indicating redundancy.\n",
    "  - `ET_ValidityLeft` and `ET_PupilLeft_validity`: There is a positive correlation, suggesting that when the overall left eye data is invalid, the left pupil data is also likely to be invalid.\n",
    "  - `ET_ValidityRight` and `ET_PupilRight_validity`: Similar to the left eye, there is a positive correlation between the overall right eye validity and the right pupil validity.\n",
    "- **Other Correlations:** We can also observe other varying degrees of correlations between different features, which can provide insights into the relationships between gaze behavior, pupil size, distance, and camera position. For example, there might be correlations between gaze coordinates and camera positions, reflecting head movements.\n",
    "- **Low or Near-Zero Correlations:** Columns with low or near-zero correlations are relatively independent of each other.\n",
    "\n",
    "Understanding these correlations is important for feature selection and for building models, as highly correlated features might indicate multicollinearity, while correlations between features can reveal underlying patterns in the data."
   ]
  },
  {
   "cell_type": "markdown",
   "id": "c9f0cc84",
   "metadata": {
    "id": "1c413c3b"
   },
   "source": [
    "# Analysis of ET_TimeSignal and Decision to Drop\n",
    "\n",
    "As observed in the time series plot and confirmed by the correlation heatmap, the `ET_TimeSignal` column exhibits a near-perfect linear relationship with both the `Timestamp` and `UnixTime` columns. This strong correlation (close to 1) suggests that `ET_TimeSignal` is essentially redundant and likely represents another form of time recording or a signal directly derived from the timestamp.\n",
    "\n",
    "Including highly correlated features like this in a dataset can lead to issues such as multicollinearity in some statistical models, which can make it difficult to interpret the individual impact of each feature. Since the `Timestamp` column already provides the necessary temporal information, retaining `ET_TimeSignal` does not appear to add significant value for further analysis or modeling in most cases.\n",
    "\n",
    "Therefore, based on its high correlation and lack of unique insight, we will proceed to drop the `ET_TimeSignal` column to simplify the dataset and potentially improve the performance and interpretability of future analyses."
   ]
  },
  {
   "cell_type": "code",
   "execution_count": null,
   "id": "0c7f5bd0",
   "metadata": {
    "id": "7c96e349"
   },
   "outputs": [],
   "source": [
    "df_36_EYE.drop('ET_TimeSignal', axis=1, inplace=True)"
   ]
  },
  {
   "cell_type": "code",
   "execution_count": null,
   "id": "07f2ddc5",
   "metadata": {
    "id": "5845a61d"
   },
   "outputs": [],
   "source": [
    "plt.figure(figsize=(16, 10))\n",
    "sns.pairplot(df_36_EYE)\n",
    "plt.show()"
   ]
  },
  {
   "cell_type": "markdown",
   "id": "8b881e3d",
   "metadata": {
    "id": "sMcHS8LIOGeT"
   },
   "source": [
    "# **37_EYE**"
   ]
  },
  {
   "cell_type": "code",
   "execution_count": null,
   "id": "22ca409e",
   "metadata": {
    "id": "L2tJooyROWnM"
   },
   "outputs": [],
   "source": []
  },
  {
   "cell_type": "code",
   "execution_count": null,
   "id": "bd41ecda",
   "metadata": {
    "id": "6c647c4f"
   },
   "outputs": [],
   "source": [
    "df_37_EYE = pd.read_csv('data/STData/37/37_EYE.csv')"
   ]
  },
  {
   "cell_type": "code",
   "execution_count": null,
   "id": "31b92812",
   "metadata": {
    "id": "c229bba7"
   },
   "outputs": [],
   "source": [
    "df_37_EYE.head()"
   ]
  },
  {
   "cell_type": "code",
   "execution_count": null,
   "id": "8d821209",
   "metadata": {
    "id": "0ec8e716"
   },
   "outputs": [],
   "source": [
    "df_37_EYE.shape"
   ]
  },
  {
   "cell_type": "code",
   "execution_count": null,
   "id": "78f76399",
   "metadata": {
    "id": "43ba37eb"
   },
   "outputs": [],
   "source": [
    "df_37_EYE.columns"
   ]
  },
  {
   "cell_type": "code",
   "execution_count": null,
   "id": "cabe5337",
   "metadata": {
    "id": "19f68fb4"
   },
   "outputs": [],
   "source": [
    "df_37_EYE.info()"
   ]
  },
  {
   "cell_type": "code",
   "execution_count": null,
   "id": "41773371",
   "metadata": {
    "id": "603369d7"
   },
   "outputs": [],
   "source": [
    "df_37_EYE.isnull().sum()"
   ]
  },
  {
   "cell_type": "code",
   "execution_count": null,
   "id": "cde7ebaf",
   "metadata": {
    "id": "874353e3"
   },
   "outputs": [],
   "source": [
    "plt.figure(figsize=(12,8))\n",
    "sns.heatmap(df_37_EYE.isnull(), cmap='viridis')\n",
    "plt.show()"
   ]
  },
  {
   "cell_type": "markdown",
   "id": "d4f21073",
   "metadata": {
    "id": "b17906e7"
   },
   "source": [
    "# Notes & Observations\n",
    "\n",
    "- We observe many **null** (or missing) values in the `QuestionKey` columns.\n",
    "- The nulls in the `QuestionKey` column may not represent “true” nulls. Rather, they follow interval patterns, suggesting that during those periods no question was displayed.\n",
    "- These missing values in `QuestionKey` require additional investigation and context-aware handling."
   ]
  },
  {
   "cell_type": "code",
   "execution_count": null,
   "id": "90c55c5d",
   "metadata": {
    "id": "1113779e"
   },
   "outputs": [],
   "source": [
    "df_37_EYE['QuestionKey'].unique()"
   ]
  },
  {
   "cell_type": "code",
   "execution_count": null,
   "id": "4bcb5e23",
   "metadata": {
    "id": "db0a93a2"
   },
   "outputs": [],
   "source": [
    "df_37_EYE['Timestamp'] = pd.to_datetime(df_37_EYE['Timestamp'])"
   ]
  },
  {
   "cell_type": "code",
   "execution_count": null,
   "id": "07bd6165",
   "metadata": {
    "id": "03d57b0a"
   },
   "outputs": [],
   "source": [
    "df_37_EYE.head(3)"
   ]
  },
  {
   "cell_type": "code",
   "execution_count": null,
   "id": "fd568559",
   "metadata": {
    "id": "c0004029"
   },
   "outputs": [],
   "source": [
    "df_37_EYE['QuestionKey'] = df_37_EYE['QuestionKey'].fillna('None')"
   ]
  },
  {
   "cell_type": "code",
   "execution_count": null,
   "id": "0f1a4585",
   "metadata": {
    "id": "dfb4729e"
   },
   "outputs": [],
   "source": [
    "df_37_EYE['QuestionKey'].value_counts()"
   ]
  },
  {
   "cell_type": "code",
   "execution_count": null,
   "id": "512cf2af",
   "metadata": {
    "id": "9353c9d8"
   },
   "outputs": [],
   "source": [
    "plt.figure(figsize=(12,8))\n",
    "sns.heatmap(df_37_EYE.isnull(), cmap='viridis')\n",
    "plt.show()"
   ]
  },
  {
   "cell_type": "code",
   "execution_count": null,
   "id": "c4404579",
   "metadata": {
    "id": "5c73d150"
   },
   "outputs": [],
   "source": [
    "df_37_EYE.isnull().sum()"
   ]
  },
  {
   "cell_type": "code",
   "execution_count": null,
   "id": "c933e2b1",
   "metadata": {
    "id": "6c700142"
   },
   "outputs": [],
   "source": [
    "df_37_EYE.dropna(inplace=True)"
   ]
  },
  {
   "cell_type": "code",
   "execution_count": null,
   "id": "0d813b63",
   "metadata": {
    "id": "90a604ce"
   },
   "outputs": [],
   "source": [
    "df_37_EYE.head()"
   ]
  },
  {
   "cell_type": "code",
   "execution_count": null,
   "id": "30690813",
   "metadata": {
    "id": "a43a4283"
   },
   "outputs": [],
   "source": [
    "df_37_EYE['Row'].unique()"
   ]
  },
  {
   "cell_type": "code",
   "execution_count": null,
   "id": "b333dd23",
   "metadata": {
    "id": "f66566f9"
   },
   "outputs": [],
   "source": [
    "plt.figure(figsize=(8,6))\n",
    "sns.histplot(df_37_EYE['Row'])\n",
    "plt.show()"
   ]
  },
  {
   "cell_type": "markdown",
   "id": "9d12e81f",
   "metadata": {
    "id": "5ddf40fd"
   },
   "source": [
    "# Notes & Observations\n",
    "\n",
    "- The `Row` column appears to be a simple row index and does not provide meaningful information relevant to the eye-tracking data itself. Therefore, it can be dropped."
   ]
  },
  {
   "cell_type": "code",
   "execution_count": null,
   "id": "4c72bfe6",
   "metadata": {
    "id": "5aee4404"
   },
   "outputs": [],
   "source": [
    "df_37_EYE.drop('Row', axis=1, inplace=True)"
   ]
  },
  {
   "cell_type": "code",
   "execution_count": null,
   "id": "6bde3060",
   "metadata": {
    "id": "827f3274"
   },
   "outputs": [],
   "source": [
    "df_37_EYE['ET_ValidityLeft'].unique()"
   ]
  },
  {
   "cell_type": "code",
   "execution_count": null,
   "id": "9ca58c13",
   "metadata": {
    "id": "1437751a"
   },
   "outputs": [],
   "source": [
    "df_37_EYE['ET_ValidityLeft'].value_counts()"
   ]
  },
  {
   "cell_type": "code",
   "execution_count": null,
   "id": "a7d172cb",
   "metadata": {
    "id": "d0a9ee4a"
   },
   "outputs": [],
   "source": [
    "df_37_EYE['ET_ValidityRight'].unique()"
   ]
  },
  {
   "cell_type": "code",
   "execution_count": null,
   "id": "50c45094",
   "metadata": {
    "id": "55ddcc2b"
   },
   "outputs": [],
   "source": [
    "df_37_EYE['ET_ValidityRight'].value_counts()"
   ]
  },
  {
   "cell_type": "code",
   "execution_count": null,
   "id": "f54c3b83",
   "metadata": {
    "id": "faef00be"
   },
   "outputs": [],
   "source": [
    "plt.figure(figsize=(12, 6))\n",
    "\n",
    "plt.subplot(1, 2, 1)\n",
    "sns.barplot(x=df_37_EYE['ET_ValidityLeft'].value_counts().index, y=df_37_EYE['ET_ValidityLeft'].value_counts().values)\n",
    "plt.title('Count of ET_ValidityLeft')\n",
    "plt.xlabel('Validity')\n",
    "plt.ylabel('Count')\n",
    "\n",
    "\n",
    "plt.subplot(1, 2, 2)\n",
    "sns.barplot(x=df_37_EYE['ET_ValidityRight'].value_counts().index, y=df_37_EYE['ET_ValidityRight'].value_counts().values)\n",
    "plt.title('Count of ET_ValidityRight')\n",
    "plt.xlabel('Validity')\n",
    "plt.ylabel('Count')\n",
    "\n",
    "plt.tight_layout()\n",
    "plt.show()"
   ]
  },
  {
   "cell_type": "markdown",
   "id": "8bc33c5c",
   "metadata": {
    "id": "b43706ea"
   },
   "source": [
    "# Notes & Observations\n",
    "\n",
    "- The `ET_ValidityLeft` and `ET_ValidityRight` columns indicate the validity of the eye-tracking data for the left and right eye, respectively.\n",
    "- Based on the value counts and the bar plots, it appears that a value of `0.0` represents valid eye-tracking data, while a value of `4.0` represents invalid data.\n",
    "- Although the amount of invalid data is relatively small, removing these rows could introduce unwanted patterns or gaps in the time series data.\n",
    "- Therefore, we will keep the data and replace the value `4.0` with `1.0` in both `ET_ValidityLeft` and `ET_ValidityRight` columns. This will indicate to a machine learning model that the eye tracker had invalid data at those specific points in time while maintaining the integrity of the time series."
   ]
  },
  {
   "cell_type": "markdown",
   "id": "a362ede2",
   "metadata": {
    "id": "e9e671b2"
   },
   "source": [
    "Define a mapping to convert validity values from `0.0` and `4.0` to `0` and `1`."
   ]
  },
  {
   "cell_type": "code",
   "execution_count": null,
   "id": "deedb1ec",
   "metadata": {
    "id": "08e7ed71"
   },
   "outputs": [],
   "source": [
    "validity_map = {4.0: 1.0, 0.0: 0.0}"
   ]
  },
  {
   "cell_type": "code",
   "execution_count": null,
   "id": "e6bf01d4",
   "metadata": {
    "id": "0bba3ac0"
   },
   "outputs": [],
   "source": [
    "df_37_EYE['ET_ValidityLeft'] = df_37_EYE['ET_ValidityLeft'].map(validity_map).astype(np.int8)\n",
    "df_37_EYE['ET_ValidityRight'] = df_37_EYE['ET_ValidityRight'].map(validity_map).astype(np.int8)"
   ]
  },
  {
   "cell_type": "code",
   "execution_count": null,
   "id": "0fc63366",
   "metadata": {
    "id": "0ff3f16c"
   },
   "outputs": [],
   "source": [
    "df_37_EYE.head(3)"
   ]
  },
  {
   "cell_type": "code",
   "execution_count": null,
   "id": "d2f7f44f",
   "metadata": {
    "id": "32eb3225"
   },
   "outputs": [],
   "source": [
    "df_37_EYE.describe()"
   ]
  },
  {
   "cell_type": "code",
   "execution_count": null,
   "id": "60292e91",
   "metadata": {
    "id": "c1e092e1"
   },
   "outputs": [],
   "source": [
    "df_37_EYE[df_37_EYE['ET_ValidityLeft'] == 1].shape"
   ]
  },
  {
   "cell_type": "code",
   "execution_count": null,
   "id": "a42bda40",
   "metadata": {
    "id": "8ebfb0cc"
   },
   "outputs": [],
   "source": [
    "df_37_EYE[df_37_EYE['ET_ValidityRight'] == 1].shape"
   ]
  },
  {
   "cell_type": "code",
   "execution_count": null,
   "id": "e32ec8f8",
   "metadata": {
    "id": "0d175df2"
   },
   "outputs": [],
   "source": [
    "df_37_EYE[df_37_EYE['ET_ValidityLeft'] == 1].shape[0] / df_37_EYE.shape[0]"
   ]
  },
  {
   "cell_type": "code",
   "execution_count": null,
   "id": "d628560e",
   "metadata": {
    "id": "54cc0f9e"
   },
   "outputs": [],
   "source": [
    "df_37_EYE[df_37_EYE['ET_ValidityRight'] == 1].shape[0] / df_37_EYE.shape[0]"
   ]
  },
  {
   "cell_type": "code",
   "execution_count": null,
   "id": "517b9946",
   "metadata": {
    "id": "45c977c1"
   },
   "outputs": [],
   "source": [
    "plt.figure(figsize=(18, 8))\n",
    "\n",
    "plt.subplot(1, 2, 1)\n",
    "sns.heatmap(df_37_EYE == -1, cmap='viridis')\n",
    "plt.title('Heatmap of -1 Values')\n",
    "\n",
    "plt.subplot(1, 2, 2)\n",
    "sns.heatmap(df_37_EYE == 1, cmap='viridis')\n",
    "plt.title('Heatmap of 1 Values')\n",
    "\n",
    "plt.tight_layout()\n",
    "plt.show()"
   ]
  },
  {
   "cell_type": "code",
   "execution_count": null,
   "id": "16d0ee4a",
   "metadata": {
    "id": "3b98a13b"
   },
   "outputs": [],
   "source": [
    "df_37_EYE[df_37_EYE['ET_PupilLeft'] == -1].shape"
   ]
  },
  {
   "cell_type": "code",
   "execution_count": null,
   "id": "9669bf3c",
   "metadata": {
    "id": "a2f296f6"
   },
   "outputs": [],
   "source": [
    "df_37_EYE[df_37_EYE['ET_PupilRight'] == -1].shape"
   ]
  },
  {
   "cell_type": "code",
   "execution_count": null,
   "id": "0c5810c5",
   "metadata": {
    "id": "42cff7eb"
   },
   "outputs": [],
   "source": [
    "df_37_EYE[df_37_EYE['ET_PupilLeft'] == -1].shape[0] / df_37_EYE.shape[0]"
   ]
  },
  {
   "cell_type": "code",
   "execution_count": null,
   "id": "5f2b6f20",
   "metadata": {
    "id": "83c97903"
   },
   "outputs": [],
   "source": [
    "df_37_EYE[df_37_EYE['ET_PupilRight'] == -1].shape[0] / df_37_EYE.shape[0]"
   ]
  },
  {
   "cell_type": "code",
   "execution_count": null,
   "id": "baccacb3",
   "metadata": {
    "id": "6e176d63"
   },
   "outputs": [],
   "source": [
    "plt.figure(figsize=(18, 8))\n",
    "\n",
    "plt.subplot(1, 2, 1)\n",
    "sns.heatmap(df_37_EYE[df_37_EYE['ET_ValidityLeft'] == 1] == -1, cmap='viridis')\n",
    "plt.title('Heatmap of -1 Values')\n",
    "\n",
    "plt.subplot(1, 2, 2)\n",
    "sns.heatmap(df_37_EYE[df_37_EYE['ET_ValidityRight'] == 1] == -1, cmap='viridis')\n",
    "plt.title('Heatmap of -1 Values')\n",
    "\n",
    "plt.tight_layout()\n",
    "plt.show()"
   ]
  },
  {
   "cell_type": "markdown",
   "id": "b1cf0535",
   "metadata": {
    "id": "fff8db39"
   },
   "source": [
    "# Notes & Observations\n",
    "\n",
    "- The heatmaps reveal the distribution of -1 values across different columns.\n",
    "- It is evident that the `-1` values are not randomly scattered but appear in specific columns, notably `ET_GazeLeftx`, `ET_GazeLefty`, `ET_GazeRightx`, `ET_GazeRighty`, `ET_PupilLeft`, `ET_PupilRight`, `ET_DistanceLeft`, `ET_DistanceRight`, `ET_CameraLeftX`, `ET_CameraLeftY`, `ET_CameraRightX`, and `ET_CameraRightY`.\n",
    "- These `-1` values often coincide with instances where `ET_ValidityLeft` or `ET_ValidityRight` is 1, indicating invalid eye-tracking data. This suggests that `-1` is used as a placeholder for missing or invalid measurements in these columns when the eye tracker is not providing valid data for a particular eye.\n",
    "- Given that over 70% of the data in the `ET_PupilLeft` and `ET_PupilRight` columns is marked as invalid (-1), so instead of dropping them we can create new feature for both the `ET_PupilLeft` and `ET_PupilRight` to represent which row consist invalid `ET_PupilLeft` and `ET_PupilRight` data"
   ]
  },
  {
   "cell_type": "code",
   "execution_count": null,
   "id": "027ddc1d",
   "metadata": {
    "id": "cf7437aa"
   },
   "outputs": [],
   "source": [
    "pupil_validity = {-1: 1 }"
   ]
  },
  {
   "cell_type": "code",
   "execution_count": null,
   "id": "9d64315b",
   "metadata": {
    "id": "989b113d"
   },
   "outputs": [],
   "source": [
    "df_37_EYE['ET_PupilLeft_validity'] = df_37_EYE['ET_PupilLeft'].map(pupil_validity)"
   ]
  },
  {
   "cell_type": "code",
   "execution_count": null,
   "id": "c7184c4c",
   "metadata": {
    "id": "9ecdfbc0"
   },
   "outputs": [],
   "source": [
    "df_37_EYE['ET_PupilRight_validity'] = df_37_EYE['ET_PupilRight'].map(pupil_validity)"
   ]
  },
  {
   "cell_type": "code",
   "execution_count": null,
   "id": "3eb930c4",
   "metadata": {
    "id": "7f5d2b28"
   },
   "outputs": [],
   "source": [
    "df_37_EYE[['ET_PupilLeft_validity', 'ET_PupilRight_validity']].head()"
   ]
  },
  {
   "cell_type": "code",
   "execution_count": null,
   "id": "fa074616",
   "metadata": {
    "id": "6a86c472"
   },
   "outputs": [],
   "source": [
    "df_37_EYE[['ET_PupilLeft_validity', 'ET_PupilRight_validity']].isnull().sum()"
   ]
  },
  {
   "cell_type": "code",
   "execution_count": null,
   "id": "54e3ebfb",
   "metadata": {
    "id": "9121e4a8"
   },
   "outputs": [],
   "source": [
    "plt.figure(figsize=(18, 8))\n",
    "sns.heatmap(df_37_EYE[['ET_PupilLeft_validity', 'ET_PupilRight_validity']].isnull(), cmap='viridis')\n",
    "plt.show()"
   ]
  },
  {
   "cell_type": "code",
   "execution_count": null,
   "id": "c043d41d",
   "metadata": {
    "id": "613a230a"
   },
   "outputs": [],
   "source": [
    "df_37_EYE['ET_PupilLeft_validity'] = df_37_EYE['ET_PupilLeft_validity'].fillna(0)"
   ]
  },
  {
   "cell_type": "code",
   "execution_count": null,
   "id": "7dcb7728",
   "metadata": {
    "id": "89ae7d3f"
   },
   "outputs": [],
   "source": [
    "df_37_EYE['ET_PupilRight_validity'] = df_37_EYE['ET_PupilRight_validity'].fillna(0)"
   ]
  },
  {
   "cell_type": "code",
   "execution_count": null,
   "id": "58d3eead",
   "metadata": {
    "id": "a2c39f03"
   },
   "outputs": [],
   "source": [
    "df_37_EYE[['ET_PupilLeft_validity', 'ET_PupilRight_validity']].head()"
   ]
  },
  {
   "cell_type": "code",
   "execution_count": null,
   "id": "e7b967a4",
   "metadata": {
    "id": "6e9c2645"
   },
   "outputs": [],
   "source": [
    "plt.figure(figsize=(18, 8))\n",
    "sns.heatmap(df_37_EYE[['ET_PupilLeft_validity', 'ET_PupilRight_validity']].isnull(), cmap='viridis')\n",
    "plt.show()"
   ]
  },
  {
   "cell_type": "code",
   "execution_count": null,
   "id": "7d420b80",
   "metadata": {
    "id": "7e52da92"
   },
   "outputs": [],
   "source": [
    "df_37_EYE.head()"
   ]
  },
  {
   "cell_type": "code",
   "execution_count": null,
   "id": "fd705610",
   "metadata": {
    "id": "1cefd42d"
   },
   "outputs": [],
   "source": [
    "plt.figure(figsize=(18, 8))\n",
    "\n",
    "plt.subplot(1, 2, 1)\n",
    "sns.heatmap(df_37_EYE == -1, cmap='viridis')\n",
    "plt.title('Heatmap of -1 Values')\n",
    "\n",
    "plt.subplot(1, 2, 2)\n",
    "sns.heatmap(df_37_EYE == 1, cmap='viridis')\n",
    "plt.title('Heatmap of -1 Values')\n",
    "\n",
    "plt.tight_layout()\n",
    "plt.show()"
   ]
  },
  {
   "cell_type": "code",
   "execution_count": null,
   "id": "a6b2e84c",
   "metadata": {
    "id": "dcf38f27"
   },
   "outputs": [],
   "source": [
    "valid_left_ratio  = 1 - df_37_EYE['ET_ValidityLeft'].mean()"
   ]
  },
  {
   "cell_type": "code",
   "execution_count": null,
   "id": "c35b5af3",
   "metadata": {
    "id": "2aea00ec"
   },
   "outputs": [],
   "source": [
    "valid_left_ratio"
   ]
  },
  {
   "cell_type": "code",
   "execution_count": null,
   "id": "d84681d7",
   "metadata": {
    "id": "19ac306c"
   },
   "outputs": [],
   "source": [
    "valid_right_ratio = 1 - df_37_EYE['ET_ValidityRight'].mean()"
   ]
  },
  {
   "cell_type": "code",
   "execution_count": null,
   "id": "a41b6573",
   "metadata": {
    "id": "4f0aa48e"
   },
   "outputs": [],
   "source": [
    "valid_right_ratio"
   ]
  },
  {
   "cell_type": "code",
   "execution_count": null,
   "id": "665e310f",
   "metadata": {
    "id": "a000b670"
   },
   "outputs": [],
   "source": [
    "df_37_EYE['ET_PupilLeft_validity'] = df_37_EYE['ET_PupilLeft_validity'].astype(np.int8)\n",
    "df_37_EYE['ET_PupilRight_validity'] = df_37_EYE['ET_PupilRight_validity'].astype(np.int8)"
   ]
  },
  {
   "cell_type": "markdown",
   "id": "5fca112c",
   "metadata": {
    "id": "6acf6847"
   },
   "source": [
    "# Feature Engineering and Observations\n",
    "\n",
    "Based on the analysis of the data, we've created two new features, `ET_PupilLeft_validity` and `ET_PupilRight_validity`. These features indicate the validity of the pupil data for the left and right eyes, respectively, with a value of 1 representing invalid data (originally -1) and 0 representing valid data.\n",
    "\n",
    "The heatmaps above visually demonstrate the distribution of -1 and 1 values across the dataset. We observed that:\n",
    "- The `-1` values are concentrated in specific columns related to gaze, pupil size, distance, and camera position, suggesting they represent missing or invalid sensor readings.\n",
    "- The `1` values, after mapping from `4.0` in the original validity columns, indicate instances of invalid eye-tracking data.\n",
    "- The heatmaps also show a strong correlation between the `-1` values in the pupil columns and a validity of 1 in the newly created pupil validity features, confirming that -1 was used to mark invalid pupil data."
   ]
  },
  {
   "cell_type": "code",
   "execution_count": null,
   "id": "09be43c8",
   "metadata": {
    "id": "de9f2594"
   },
   "outputs": [],
   "source": [
    "df_37_EYE.head()"
   ]
  },
  {
   "cell_type": "code",
   "execution_count": null,
   "id": "192c9457",
   "metadata": {
    "id": "bfa2e174"
   },
   "outputs": [],
   "source": [
    "# Select only the numeric columns for plotting histograms, excluding time-related columns\n",
    "numeric_cols = df_37_EYE.select_dtypes(include=np.number).columns\n",
    "cols_to_plot = [col for col in numeric_cols if col not in ['UnixTime']]\n",
    "\n",
    "# Calculate the number of rows and columns for the grid\n",
    "n_cols = 4  # You can adjust the number of columns as needed\n",
    "n_rows = (len(cols_to_plot) + n_cols - 1) // n_cols\n",
    "\n",
    "plt.figure(figsize=(n_cols * 5, n_rows * 4)) # Adjust figure size as needed\n",
    "\n",
    "for i, col in enumerate(cols_to_plot):\n",
    "    plt.subplot(n_rows, n_cols, i + 1)\n",
    "    sns.histplot(df_37_EYE[col], kde=True)\n",
    "    plt.title(f'Distribution of {col}')\n",
    "    plt.xlabel(col)\n",
    "    plt.ylabel('Frequency')\n",
    "\n",
    "plt.tight_layout()\n",
    "plt.show()"
   ]
  },
  {
   "cell_type": "markdown",
   "id": "de6e76b1",
   "metadata": {
    "id": "8059766d"
   },
   "source": [
    "# Observations from Histograms\n",
    "\n",
    "The grid of histograms provides insights into the distribution of values for each numeric column in the dataset (excluding 'UnixTime'). Key observations include:\n",
    "\n",
    "- Several columns, such as `ET_GazeLeftx`, `ET_GazeLefty`, `ET_GazeRightx`, and `ET_GazeRighty`, show distributions that appear somewhat multimodal or skewed, suggesting variations in gaze patterns.\n",
    "- The `ET_PupilLeft` and `ET_PupilRight` histograms clearly show a peak at -1, confirming the presence of a significant number of invalid pupil readings.\n",
    "- `ET_TimeSignal` shows a relatively uniform distribution, as expected for a time-based signal.\n",
    "- `ET_DistanceLeft` and `ET_DistanceRight` appear to have distributions centered around certain values, with some outliers or variations.\n",
    "- The camera position columns (`ET_CameraLeftX`, `ET_CameraLeftY`, `ET_CameraRightX`, `ET_CameraRightY`) seem to have distributions concentrated within specific ranges, reflecting the camera's field of view.\n",
    "- The validity columns (`ET_ValidityLeft`, `ET_ValidityRight`, `ET_PupilLeft_validity`, `ET_PupilRight_validity`) show distributions dominated by 0, indicating that most of the data is considered valid after the mapping. The smaller peaks at 1 represent the instances of invalid data.\n",
    "\n",
    "These distributions highlight the need for appropriate handling of the -1 values and potential outliers in subsequent analysis or modeling steps."
   ]
  },
  {
   "cell_type": "code",
   "execution_count": null,
   "id": "7db5e6c0",
   "metadata": {
    "id": "cb65ae1e"
   },
   "outputs": [],
   "source": [
    "df_37_EYE.columns"
   ]
  },
  {
   "cell_type": "code",
   "execution_count": null,
   "id": "79335d56",
   "metadata": {
    "id": "8cf2280c"
   },
   "outputs": [],
   "source": [
    "cols = ['ET_GazeLeftx', 'ET_GazeLefty',\n",
    "       'ET_GazeRightx', 'ET_GazeRighty', 'ET_PupilLeft', 'ET_PupilRight',\n",
    "       'ET_TimeSignal', 'ET_DistanceLeft', 'ET_DistanceRight',\n",
    "       'ET_CameraLeftX', 'ET_CameraLeftY', 'ET_CameraRightX',\n",
    "       'ET_CameraRightY', 'ET_ValidityLeft', 'ET_ValidityRight',\n",
    "       'ET_PupilLeft_validity', 'ET_PupilRight_validity']"
   ]
  },
  {
   "cell_type": "code",
   "execution_count": null,
   "id": "7b2c911b",
   "metadata": {
    "id": "85e45ea9"
   },
   "outputs": [],
   "source": [
    "from IPython.display import display, Markdown\n",
    "\n",
    "for col in cols:\n",
    "    # Add a markdown cell before each plot for better separation and labeling\n",
    "    display(Markdown(f'### {col} over Time'))\n",
    "    plt.figure(figsize=(16, 10))\n",
    "    plt.plot(df_37_EYE['Timestamp'], df_37_EYE[col])\n",
    "    plt.xlabel(\"Timestamp\") # Add x-axis label\n",
    "    plt.ylabel(col) # Add y-axis label\n",
    "    plt.show()"
   ]
  },
  {
   "cell_type": "markdown",
   "id": "57579702",
   "metadata": {
    "id": "f7ffd08f"
   },
   "source": [
    "# Observations from Time Series Plots\n",
    "\n",
    "The line plots showing various features against the `Timestamp` reveal the temporal patterns and fluctuations in the eye-tracking data. Key observations include:\n",
    "\n",
    "- **Gaze Coordinates (`ET_GazeLeftx`, `ET_GazeLefty`, `ET_GazeRightx`, `ET_GazeRighty`):** These plots show the changes in gaze position over time. We can observe periods of relatively stable gaze interspersed with rapid movements (saccades) and blinks or other events where the gaze data might be invalid (-1 values appear as gaps or spikes if not handled).\n",
    "- **Pupil Size (`ET_PupilLeft`, `ET_PupilRight`):** The pupil size plots show variations over time. The presence of many -1 values is evident as flat lines at the bottom of the plot, indicating periods where pupil data was not recorded or was invalid.\n",
    "- **Time Signal (`ET_TimeSignal`):** This plot shows a steady, increasing trend, as expected for a time-based signal.\n",
    "- **Distance and Camera Position (`ET_DistanceLeft`, `ET_DistanceRight`, `ET_CameraLeftX`, `ET_CameraLeftY`, `ET_CameraRightX`, `ET_CameraRightY`):** These plots show how the distance from the eye tracker and the camera positions change over time. Variations in these features can be related to head movements or changes in the user's position relative to the eye tracker.\n",
    "- **Validity (`ET_ValidityLeft`, `ET_ValidityRight`, `ET_PupilLeft_validity`, `ET_PupilRight_validity`):** These plots clearly show periods of invalid data (represented by 1) as spikes or plateaus, corresponding to instances where the eye tracker lost track of the eyes or the pupil data was marked as invalid.\n",
    "\n",
    "Analyzing these time series plots is crucial for understanding the dynamics of the eye-tracking data and identifying patterns or anomalies that may require further investigation or specific handling during subsequent analysis."
   ]
  },
  {
   "cell_type": "code",
   "execution_count": null,
   "id": "0467f8e4",
   "metadata": {
    "id": "cdd85f8c"
   },
   "outputs": [],
   "source": [
    "# Select only the numeric columns for plotting histograms, excluding time-related columns\n",
    "numeric_cols = df_37_EYE.select_dtypes(include=np.number).columns\n",
    "\n",
    "# Calculate the number of rows and columns for the grid\n",
    "n_cols = 4  # You can adjust the number of columns as needed\n",
    "n_rows = (len(numeric_cols) + n_cols - 1) // n_cols\n",
    "\n",
    "plt.figure(figsize=(n_cols * 5, n_rows * 4)) # Adjust figure size as needed\n",
    "\n",
    "for i, col in enumerate(numeric_cols):\n",
    "    plt.subplot(n_rows, n_cols, i + 1)\n",
    "    sns.boxplot(df_37_EYE[col])\n",
    "    plt.title(f'Boxplot of {col}')\n",
    "    plt.xlabel(col)\n",
    "\n",
    "plt.tight_layout()\n",
    "plt.show()"
   ]
  },
  {
   "cell_type": "markdown",
   "id": "d7387d24",
   "metadata": {
    "id": "2cca19c5"
   },
   "source": [
    "# Observations from Boxplots and Handling -1 Values\n",
    "\n",
    "The boxplots provide a visual summary of the distribution and potential outliers for each numeric column. Key observations from the boxplots include:\n",
    "\n",
    "- The boxplots for columns like `ET_GazeLeftx`, `ET_GazeLefty`, `ET_GazeRightx`, `ET_GazeRighty`, `ET_PupilLeft`, `ET_PupilRight`, `ET_DistanceLeft`, `ET_DistanceRight`, `ET_CameraLeftX`, `ET_CameraLeftY`, `ET_CameraRightX`, and `ET_CameraRightY` clearly show the presence of -1 values as significant outliers, confirming our earlier observations from the heatmaps and histograms.\n",
    "- The boxplots for the validity columns (`ET_ValidityLeft`, `ET_ValidityRight`, `ET_PupilLeft_validity`, `ET_PupilRight_validity`) show the discrete nature of these features, with the majority of data points at 0 (valid) and a smaller number at 1 (invalid).\n",
    "\n",
    "Given the significant presence of -1 values, which represent invalid or missing data, especially in the pupil-related columns, we have decided to replace these -1 values with NaN to properly represent them as missing data. Subsequently, we will impute these missing values using the mean of each respective column. This approach helps to retain the data structure and allows for further analysis or modeling without the distortion caused by the -1 placeholders."
   ]
  },
  {
   "cell_type": "code",
   "execution_count": null,
   "id": "480086d4",
   "metadata": {
    "id": "9217371b"
   },
   "outputs": [],
   "source": [
    "df_37_EYE.replace({-1: np.nan}, inplace=True)"
   ]
  },
  {
   "cell_type": "code",
   "execution_count": null,
   "id": "cc11a4c7",
   "metadata": {
    "id": "8108fa01"
   },
   "outputs": [],
   "source": [
    "df_37_EYE[['ET_GazeLeftx', 'ET_GazeLefty',\n",
    "       'ET_GazeRightx', 'ET_GazeRighty', 'ET_PupilLeft', 'ET_PupilRight',\n",
    "       'ET_TimeSignal', 'ET_DistanceLeft', 'ET_DistanceRight',\n",
    "       'ET_CameraLeftX', 'ET_CameraLeftY', 'ET_CameraRightX',\n",
    "       'ET_CameraRightY', 'ET_ValidityLeft', 'ET_ValidityRight',\n",
    "       'ET_PupilLeft_validity', 'ET_PupilRight_validity']].mean()"
   ]
  },
  {
   "cell_type": "code",
   "execution_count": null,
   "id": "05734222",
   "metadata": {
    "id": "9b94fbce"
   },
   "outputs": [],
   "source": [
    "df_37_EYE[['ET_GazeLeftx', 'ET_GazeLefty',\n",
    "       'ET_GazeRightx', 'ET_GazeRighty', 'ET_PupilLeft', 'ET_PupilRight',\n",
    "       'ET_TimeSignal', 'ET_DistanceLeft', 'ET_DistanceRight',\n",
    "       'ET_CameraLeftX', 'ET_CameraLeftY', 'ET_CameraRightX',\n",
    "       'ET_CameraRightY', 'ET_ValidityLeft', 'ET_ValidityRight',\n",
    "       'ET_PupilLeft_validity', 'ET_PupilRight_validity']].median()"
   ]
  },
  {
   "cell_type": "code",
   "execution_count": null,
   "id": "b63700da",
   "metadata": {
    "id": "ee1238c8"
   },
   "outputs": [],
   "source": [
    "numeric_cols = df_37_EYE.select_dtypes(include=np.number).columns\n",
    "\n",
    "for col in numeric_cols:\n",
    "    df_37_EYE[col] = df_37_EYE[col].fillna(df_37_EYE[col].mean())"
   ]
  },
  {
   "cell_type": "code",
   "execution_count": null,
   "id": "609653e9",
   "metadata": {
    "id": "b0bc522d"
   },
   "outputs": [],
   "source": [
    "plt.figure(figsize=(18, 8))\n",
    "\n",
    "plt.subplot(1, 2, 1)\n",
    "sns.heatmap(df_37_EYE.isnull(), cmap='viridis')\n",
    "plt.title('Heatmap of Missing Values After Imputation')\n",
    "\n",
    "plt.subplot(1, 2, 2)\n",
    "sns.heatmap(df_37_EYE == 1, cmap='viridis')\n",
    "plt.title('Heatmap of 1 Values')\n",
    "\n",
    "plt.tight_layout()\n",
    "plt.show()"
   ]
  },
  {
   "cell_type": "markdown",
   "id": "b5fa3b08",
   "metadata": {
    "id": "c0f1e10d"
   },
   "source": [
    "# Handling Missing Values (Imputation)\n",
    "\n",
    "As decided, we have replaced all the `-1` values with `NaN` to treat them as missing data. Subsequently, we have imputed these `NaN` values with the mean of their respective columns. The heatmap above, which was generated after the imputation, now shows no visible signs of `NaN` values, indicating that the imputation was successful."
   ]
  },
  {
   "cell_type": "code",
   "execution_count": null,
   "id": "1e60f969",
   "metadata": {
    "id": "2491c1da"
   },
   "outputs": [],
   "source": [
    "df_37_EYE.head()"
   ]
  },
  {
   "cell_type": "code",
   "execution_count": null,
   "id": "57d9d613",
   "metadata": {
    "id": "64f04350"
   },
   "outputs": [],
   "source": [
    "# Select only the numeric columns for plotting histograms, excluding time-related columns\n",
    "numeric_cols = df_37_EYE.select_dtypes(include=np.number).columns\n",
    "cols_to_plot = [col for col in numeric_cols if col not in ['UnixTime']]\n",
    "\n",
    "# Calculate the number of rows and columns for the grid\n",
    "n_cols = 4  # You can adjust the number of columns as needed\n",
    "n_rows = (len(cols_to_plot) + n_cols - 1) // n_cols\n",
    "\n",
    "plt.figure(figsize=(n_cols * 5, n_rows * 4)) # Adjust figure size as needed\n",
    "\n",
    "for i, col in enumerate(cols_to_plot):\n",
    "    plt.subplot(n_rows, n_cols, i + 1)\n",
    "    sns.histplot(df_37_EYE[col], kde=True)\n",
    "    plt.title(f'Distribution of {col}')\n",
    "    plt.xlabel(col)\n",
    "    plt.ylabel('Frequency')\n",
    "\n",
    "plt.tight_layout()\n",
    "plt.show()"
   ]
  },
  {
   "cell_type": "markdown",
   "id": "d51be0c1",
   "metadata": {
    "id": "e0c83f1c"
   },
   "source": [
    "# Observations from Histograms After Imputation\n",
    "\n",
    "The histograms generated after replacing the -1 values with the mean of each column show the distributions of the numeric features with the missing data handled. Key observations from these updated histograms include:\n",
    "\n",
    "- The distinct peaks at -1, which were prominent in the histograms for several columns (e.g., pupil size, gaze coordinates, distance, and camera position) before imputation, are now replaced by a peak at the mean of each respective column.\n",
    "- The distributions in many columns now appear more unimodal or show shifted modes compared to the original histograms.\n",
    "- The histograms for the validity columns still show their bimodal distributions with peaks at 0 and 1, as these were handled separately.\n",
    "\n",
    "These histograms provide an updated view of the data's distribution after handling the missing values, highlighting the impact of the imputation method on the data's characteristics."
   ]
  },
  {
   "cell_type": "code",
   "execution_count": null,
   "id": "f25092f2",
   "metadata": {
    "id": "de0b2f65"
   },
   "outputs": [],
   "source": [
    "cols = ['ET_GazeLeftx', 'ET_GazeLefty',\n",
    "       'ET_GazeRightx', 'ET_GazeRighty', 'ET_PupilLeft', 'ET_PupilRight',\n",
    "       'ET_TimeSignal', 'ET_DistanceLeft', 'ET_DistanceRight',\n",
    "       'ET_CameraLeftX', 'ET_CameraLeftY', 'ET_CameraRightX',\n",
    "       'ET_CameraRightY', 'ET_ValidityLeft', 'ET_ValidityRight',\n",
    "       'ET_PupilLeft_validity', 'ET_PupilRight_validity']"
   ]
  },
  {
   "cell_type": "code",
   "execution_count": null,
   "id": "9b844fbc",
   "metadata": {
    "id": "4ddd4915"
   },
   "outputs": [],
   "source": [
    "for col in cols:\n",
    "    # Add a markdown cell before each plot for better separation and labeling\n",
    "    display(Markdown(f'### {col} over Time'))\n",
    "    plt.figure(figsize=(16, 10))\n",
    "    plt.plot(df_37_EYE['Timestamp'], df_37_EYE[col])\n",
    "    plt.xlabel(\"Timestamp\") # Add x-axis label\n",
    "    plt.ylabel(col) # Add y-axis label\n",
    "    plt.show()"
   ]
  },
  {
   "cell_type": "markdown",
   "id": "62d43853",
   "metadata": {
    "id": "0fb07abb"
   },
   "source": [
    "# Observations from Time Series Plots After Imputation\n",
    "\n",
    "The line plots generated after imputing the missing values with the mean show the temporal patterns of the features with the missing data handled. Key observations from these updated plots include:\n",
    "\n",
    "- The gaps or flat lines at -1, which were prominent in the plots for columns like gaze coordinates, pupil size, distance, and camera position, are now filled by lines at the mean value of the respective columns.\n",
    "- The plots for the validity columns remain the same as they were handled separately.\n",
    "- The `ET_TimeSignal` plot still shows a steady increasing trend, as expected."
   ]
  },
  {
   "cell_type": "code",
   "execution_count": null,
   "id": "9e44c3ae",
   "metadata": {
    "id": "c608fd95"
   },
   "outputs": [],
   "source": [
    "plt.figure(figsize=(16, 10))\n",
    "sns.heatmap(df_37_EYE.corr(numeric_only=True), cmap='YlGnBu', annot=True)\n",
    "plt.show()"
   ]
  },
  {
   "cell_type": "markdown",
   "id": "f873507a",
   "metadata": {
    "id": "82405ba6"
   },
   "source": [
    "# Observations from Correlation Heatmap\n",
    "\n",
    "The correlation heatmap provides a visual representation of the pairwise correlations between the numeric columns in the dataset. Key observations from the heatmap include:\n",
    "\n",
    "- **High Positive Correlations:** We observe strong positive correlations (values close to 1) between:\n",
    "  - `ET_GazeLeftx` and `ET_GazeRightx`: This is expected as the gaze positions of both eyes should be highly correlated when fixating on a point.\n",
    "  - `ET_GazeLefty` and `ET_GazeRighty`: Similar to the x-coordinates, the y-coordinates of gaze should also be highly correlated.\n",
    "  - `ET_PupilLeft` and `ET_PupilRight`: Pupil sizes of both eyes tend to change together in response to light and cognitive load.\n",
    "  - `ET_DistanceLeft` and `ET_DistanceRight`: The distance from the eye tracker to each eye should be highly correlated.\n",
    "  - `ET_CameraLeftX` and `ET_CameraRightX`, `ET_CameraLeftY` and `ET_CameraRightY`: The camera positions for both eyes are also expected to be highly correlated.\n",
    "  - `UnixTime` and `ET_TimeSignal`: As previously noted, these two columns are almost perfectly linearly correlated, indicating redundancy.\n",
    "  - `ET_ValidityLeft` and `ET_PupilLeft_validity`: There is a positive correlation, suggesting that when the overall left eye data is invalid, the left pupil data is also likely to be invalid.\n",
    "  - `ET_ValidityRight` and `ET_PupilRight_validity`: Similar to the left eye, there is a positive correlation between the overall right eye validity and the right pupil validity.\n",
    "- **Other Correlations:** We can also observe other varying degrees of correlations between different features, which can provide insights into the relationships between gaze behavior, pupil size, distance, and camera position. For example, there might be correlations between gaze coordinates and camera positions, reflecting head movements.\n",
    "- **Low or Near-Zero Correlations:** Columns with low or near-zero correlations are relatively independent of each other.\n",
    "\n",
    "Understanding these correlations is important for feature selection and for building models, as highly correlated features might indicate multicollinearity, while correlations between features can reveal underlying patterns in the data."
   ]
  },
  {
   "cell_type": "markdown",
   "id": "9c86dac8",
   "metadata": {
    "id": "1c413c3b"
   },
   "source": [
    "# Analysis of ET_TimeSignal and Decision to Drop\n",
    "\n",
    "As observed in the time series plot and confirmed by the correlation heatmap, the `ET_TimeSignal` column exhibits a near-perfect linear relationship with both the `Timestamp` and `UnixTime` columns. This strong correlation (close to 1) suggests that `ET_TimeSignal` is essentially redundant and likely represents another form of time recording or a signal directly derived from the timestamp.\n",
    "\n",
    "Including highly correlated features like this in a dataset can lead to issues such as multicollinearity in some statistical models, which can make it difficult to interpret the individual impact of each feature. Since the `Timestamp` column already provides the necessary temporal information, retaining `ET_TimeSignal` does not appear to add significant value for further analysis or modeling in most cases.\n",
    "\n",
    "Therefore, based on its high correlation and lack of unique insight, we will proceed to drop the `ET_TimeSignal` column to simplify the dataset and potentially improve the performance and interpretability of future analyses."
   ]
  },
  {
   "cell_type": "code",
   "execution_count": null,
   "id": "9905e780",
   "metadata": {
    "id": "7c96e349"
   },
   "outputs": [],
   "source": [
    "df_37_EYE.drop('ET_TimeSignal', axis=1, inplace=True)"
   ]
  },
  {
   "cell_type": "code",
   "execution_count": null,
   "id": "d800f530",
   "metadata": {
    "id": "5845a61d"
   },
   "outputs": [],
   "source": [
    "plt.figure(figsize=(16, 10))\n",
    "sns.pairplot(df_37_EYE)\n",
    "plt.show()"
   ]
  },
  {
   "cell_type": "markdown",
   "id": "0ceb19c0",
   "metadata": {
    "id": "sMcHS8LIOGeT"
   },
   "source": [
    "# **38_EYE**"
   ]
  },
  {
   "cell_type": "code",
   "execution_count": null,
   "id": "06bd02bc",
   "metadata": {
    "id": "L2tJooyROWnM"
   },
   "outputs": [],
   "source": []
  },
  {
   "cell_type": "code",
   "execution_count": null,
   "id": "399a7d42",
   "metadata": {
    "id": "6c647c4f"
   },
   "outputs": [],
   "source": [
    "df_38_EYE = pd.read_csv('data/STData/38/38_EYE.csv')"
   ]
  },
  {
   "cell_type": "code",
   "execution_count": null,
   "id": "8b1f208c",
   "metadata": {
    "id": "c229bba7"
   },
   "outputs": [],
   "source": [
    "df_38_EYE.head()"
   ]
  },
  {
   "cell_type": "code",
   "execution_count": null,
   "id": "e4744e31",
   "metadata": {
    "id": "0ec8e716"
   },
   "outputs": [],
   "source": [
    "df_38_EYE.shape"
   ]
  },
  {
   "cell_type": "code",
   "execution_count": null,
   "id": "dddae772",
   "metadata": {
    "id": "43ba37eb"
   },
   "outputs": [],
   "source": [
    "df_38_EYE.columns"
   ]
  },
  {
   "cell_type": "code",
   "execution_count": null,
   "id": "6f703271",
   "metadata": {
    "id": "19f68fb4"
   },
   "outputs": [],
   "source": [
    "df_38_EYE.info()"
   ]
  },
  {
   "cell_type": "code",
   "execution_count": null,
   "id": "7af9443d",
   "metadata": {
    "id": "603369d7"
   },
   "outputs": [],
   "source": [
    "df_38_EYE.isnull().sum()"
   ]
  },
  {
   "cell_type": "code",
   "execution_count": null,
   "id": "e8a57f6f",
   "metadata": {
    "id": "874353e3"
   },
   "outputs": [],
   "source": [
    "plt.figure(figsize=(12,8))\n",
    "sns.heatmap(df_38_EYE.isnull(), cmap='viridis')\n",
    "plt.show()"
   ]
  },
  {
   "cell_type": "markdown",
   "id": "9534d816",
   "metadata": {
    "id": "b17906e7"
   },
   "source": [
    "# Notes & Observations\n",
    "\n",
    "- We observe many **null** (or missing) values in the `QuestionKey` columns.\n",
    "- The nulls in the `QuestionKey` column may not represent “true” nulls. Rather, they follow interval patterns, suggesting that during those periods no question was displayed.\n",
    "- These missing values in `QuestionKey` require additional investigation and context-aware handling."
   ]
  },
  {
   "cell_type": "code",
   "execution_count": null,
   "id": "02777588",
   "metadata": {
    "id": "1113779e"
   },
   "outputs": [],
   "source": [
    "df_38_EYE['QuestionKey'].unique()"
   ]
  },
  {
   "cell_type": "code",
   "execution_count": null,
   "id": "0161f06e",
   "metadata": {
    "id": "db0a93a2"
   },
   "outputs": [],
   "source": [
    "df_38_EYE['Timestamp'] = pd.to_datetime(df_38_EYE['Timestamp'])"
   ]
  },
  {
   "cell_type": "code",
   "execution_count": null,
   "id": "3d52fb0b",
   "metadata": {
    "id": "03d57b0a"
   },
   "outputs": [],
   "source": [
    "df_38_EYE.head(3)"
   ]
  },
  {
   "cell_type": "code",
   "execution_count": null,
   "id": "20b614f4",
   "metadata": {
    "id": "c0004029"
   },
   "outputs": [],
   "source": [
    "df_38_EYE['QuestionKey'] = df_38_EYE['QuestionKey'].fillna('None')"
   ]
  },
  {
   "cell_type": "code",
   "execution_count": null,
   "id": "2b4df2b1",
   "metadata": {
    "id": "dfb4729e"
   },
   "outputs": [],
   "source": [
    "df_38_EYE['QuestionKey'].value_counts()"
   ]
  },
  {
   "cell_type": "code",
   "execution_count": null,
   "id": "0220093c",
   "metadata": {
    "id": "9353c9d8"
   },
   "outputs": [],
   "source": [
    "plt.figure(figsize=(12,8))\n",
    "sns.heatmap(df_38_EYE.isnull(), cmap='viridis')\n",
    "plt.show()"
   ]
  },
  {
   "cell_type": "code",
   "execution_count": null,
   "id": "104b8515",
   "metadata": {
    "id": "5c73d150"
   },
   "outputs": [],
   "source": [
    "df_38_EYE.isnull().sum()"
   ]
  },
  {
   "cell_type": "code",
   "execution_count": null,
   "id": "d8d7b54c",
   "metadata": {
    "id": "6c700142"
   },
   "outputs": [],
   "source": [
    "df_38_EYE.dropna(inplace=True)"
   ]
  },
  {
   "cell_type": "code",
   "execution_count": null,
   "id": "99dd61ef",
   "metadata": {
    "id": "90a604ce"
   },
   "outputs": [],
   "source": [
    "df_38_EYE.head()"
   ]
  },
  {
   "cell_type": "code",
   "execution_count": null,
   "id": "1270678e",
   "metadata": {
    "id": "a43a4283"
   },
   "outputs": [],
   "source": [
    "df_38_EYE['Row'].unique()"
   ]
  },
  {
   "cell_type": "code",
   "execution_count": null,
   "id": "7c94d597",
   "metadata": {
    "id": "f66566f9"
   },
   "outputs": [],
   "source": [
    "plt.figure(figsize=(8,6))\n",
    "sns.histplot(df_38_EYE['Row'])\n",
    "plt.show()"
   ]
  },
  {
   "cell_type": "markdown",
   "id": "fd6726f4",
   "metadata": {
    "id": "5ddf40fd"
   },
   "source": [
    "# Notes & Observations\n",
    "\n",
    "- The `Row` column appears to be a simple row index and does not provide meaningful information relevant to the eye-tracking data itself. Therefore, it can be dropped."
   ]
  },
  {
   "cell_type": "code",
   "execution_count": null,
   "id": "d0dbaad5",
   "metadata": {
    "id": "5aee4404"
   },
   "outputs": [],
   "source": [
    "df_38_EYE.drop('Row', axis=1, inplace=True)"
   ]
  },
  {
   "cell_type": "code",
   "execution_count": null,
   "id": "3b3443fa",
   "metadata": {
    "id": "827f3274"
   },
   "outputs": [],
   "source": [
    "df_38_EYE['ET_ValidityLeft'].unique()"
   ]
  },
  {
   "cell_type": "code",
   "execution_count": null,
   "id": "25973e57",
   "metadata": {
    "id": "1437751a"
   },
   "outputs": [],
   "source": [
    "df_38_EYE['ET_ValidityLeft'].value_counts()"
   ]
  },
  {
   "cell_type": "code",
   "execution_count": null,
   "id": "282d5be3",
   "metadata": {
    "id": "d0a9ee4a"
   },
   "outputs": [],
   "source": [
    "df_38_EYE['ET_ValidityRight'].unique()"
   ]
  },
  {
   "cell_type": "code",
   "execution_count": null,
   "id": "fff7af3a",
   "metadata": {
    "id": "55ddcc2b"
   },
   "outputs": [],
   "source": [
    "df_38_EYE['ET_ValidityRight'].value_counts()"
   ]
  },
  {
   "cell_type": "code",
   "execution_count": null,
   "id": "a1d202d7",
   "metadata": {
    "id": "faef00be"
   },
   "outputs": [],
   "source": [
    "plt.figure(figsize=(12, 6))\n",
    "\n",
    "plt.subplot(1, 2, 1)\n",
    "sns.barplot(x=df_38_EYE['ET_ValidityLeft'].value_counts().index, y=df_38_EYE['ET_ValidityLeft'].value_counts().values)\n",
    "plt.title('Count of ET_ValidityLeft')\n",
    "plt.xlabel('Validity')\n",
    "plt.ylabel('Count')\n",
    "\n",
    "\n",
    "plt.subplot(1, 2, 2)\n",
    "sns.barplot(x=df_38_EYE['ET_ValidityRight'].value_counts().index, y=df_38_EYE['ET_ValidityRight'].value_counts().values)\n",
    "plt.title('Count of ET_ValidityRight')\n",
    "plt.xlabel('Validity')\n",
    "plt.ylabel('Count')\n",
    "\n",
    "plt.tight_layout()\n",
    "plt.show()"
   ]
  },
  {
   "cell_type": "markdown",
   "id": "b8ebddeb",
   "metadata": {
    "id": "b43706ea"
   },
   "source": [
    "# Notes & Observations\n",
    "\n",
    "- The `ET_ValidityLeft` and `ET_ValidityRight` columns indicate the validity of the eye-tracking data for the left and right eye, respectively.\n",
    "- Based on the value counts and the bar plots, it appears that a value of `0.0` represents valid eye-tracking data, while a value of `4.0` represents invalid data.\n",
    "- Although the amount of invalid data is relatively small, removing these rows could introduce unwanted patterns or gaps in the time series data.\n",
    "- Therefore, we will keep the data and replace the value `4.0` with `1.0` in both `ET_ValidityLeft` and `ET_ValidityRight` columns. This will indicate to a machine learning model that the eye tracker had invalid data at those specific points in time while maintaining the integrity of the time series."
   ]
  },
  {
   "cell_type": "markdown",
   "id": "7981328d",
   "metadata": {
    "id": "e9e671b2"
   },
   "source": [
    "Define a mapping to convert validity values from `0.0` and `4.0` to `0` and `1`."
   ]
  },
  {
   "cell_type": "code",
   "execution_count": null,
   "id": "9e912637",
   "metadata": {
    "id": "08e7ed71"
   },
   "outputs": [],
   "source": [
    "validity_map = {4.0: 1.0, 0.0: 0.0}"
   ]
  },
  {
   "cell_type": "code",
   "execution_count": null,
   "id": "8d88ad39",
   "metadata": {
    "id": "0bba3ac0"
   },
   "outputs": [],
   "source": [
    "df_38_EYE['ET_ValidityLeft'] = df_38_EYE['ET_ValidityLeft'].map(validity_map).astype(np.int8)\n",
    "df_38_EYE['ET_ValidityRight'] = df_38_EYE['ET_ValidityRight'].map(validity_map).astype(np.int8)"
   ]
  },
  {
   "cell_type": "code",
   "execution_count": null,
   "id": "8fd9b766",
   "metadata": {
    "id": "0ff3f16c"
   },
   "outputs": [],
   "source": [
    "df_38_EYE.head(3)"
   ]
  },
  {
   "cell_type": "code",
   "execution_count": null,
   "id": "2fa86c0c",
   "metadata": {
    "id": "32eb3225"
   },
   "outputs": [],
   "source": [
    "df_38_EYE.describe()"
   ]
  },
  {
   "cell_type": "code",
   "execution_count": null,
   "id": "d955dd4f",
   "metadata": {
    "id": "c1e092e1"
   },
   "outputs": [],
   "source": [
    "df_38_EYE[df_38_EYE['ET_ValidityLeft'] == 1].shape"
   ]
  },
  {
   "cell_type": "code",
   "execution_count": null,
   "id": "1a5ed250",
   "metadata": {
    "id": "8ebfb0cc"
   },
   "outputs": [],
   "source": [
    "df_38_EYE[df_38_EYE['ET_ValidityRight'] == 1].shape"
   ]
  },
  {
   "cell_type": "code",
   "execution_count": null,
   "id": "ad4be6d5",
   "metadata": {
    "id": "0d175df2"
   },
   "outputs": [],
   "source": [
    "df_38_EYE[df_38_EYE['ET_ValidityLeft'] == 1].shape[0] / df_38_EYE.shape[0]"
   ]
  },
  {
   "cell_type": "code",
   "execution_count": null,
   "id": "b52e0aee",
   "metadata": {
    "id": "54cc0f9e"
   },
   "outputs": [],
   "source": [
    "df_38_EYE[df_38_EYE['ET_ValidityRight'] == 1].shape[0] / df_38_EYE.shape[0]"
   ]
  },
  {
   "cell_type": "code",
   "execution_count": null,
   "id": "0dec3bdf",
   "metadata": {
    "id": "45c977c1"
   },
   "outputs": [],
   "source": [
    "plt.figure(figsize=(18, 8))\n",
    "\n",
    "plt.subplot(1, 2, 1)\n",
    "sns.heatmap(df_38_EYE == -1, cmap='viridis')\n",
    "plt.title('Heatmap of -1 Values')\n",
    "\n",
    "plt.subplot(1, 2, 2)\n",
    "sns.heatmap(df_38_EYE == 1, cmap='viridis')\n",
    "plt.title('Heatmap of 1 Values')\n",
    "\n",
    "plt.tight_layout()\n",
    "plt.show()"
   ]
  },
  {
   "cell_type": "code",
   "execution_count": null,
   "id": "8b2baca4",
   "metadata": {
    "id": "3b98a13b"
   },
   "outputs": [],
   "source": [
    "df_38_EYE[df_38_EYE['ET_PupilLeft'] == -1].shape"
   ]
  },
  {
   "cell_type": "code",
   "execution_count": null,
   "id": "70c50e56",
   "metadata": {
    "id": "a2f296f6"
   },
   "outputs": [],
   "source": [
    "df_38_EYE[df_38_EYE['ET_PupilRight'] == -1].shape"
   ]
  },
  {
   "cell_type": "code",
   "execution_count": null,
   "id": "3ec8899b",
   "metadata": {
    "id": "42cff7eb"
   },
   "outputs": [],
   "source": [
    "df_38_EYE[df_38_EYE['ET_PupilLeft'] == -1].shape[0] / df_38_EYE.shape[0]"
   ]
  },
  {
   "cell_type": "code",
   "execution_count": null,
   "id": "367bbe48",
   "metadata": {
    "id": "83c97903"
   },
   "outputs": [],
   "source": [
    "df_38_EYE[df_38_EYE['ET_PupilRight'] == -1].shape[0] / df_38_EYE.shape[0]"
   ]
  },
  {
   "cell_type": "code",
   "execution_count": null,
   "id": "0079af28",
   "metadata": {
    "id": "6e176d63"
   },
   "outputs": [],
   "source": [
    "plt.figure(figsize=(18, 8))\n",
    "\n",
    "plt.subplot(1, 2, 1)\n",
    "sns.heatmap(df_38_EYE[df_38_EYE['ET_ValidityLeft'] == 1] == -1, cmap='viridis')\n",
    "plt.title('Heatmap of -1 Values')\n",
    "\n",
    "plt.subplot(1, 2, 2)\n",
    "sns.heatmap(df_38_EYE[df_38_EYE['ET_ValidityRight'] == 1] == -1, cmap='viridis')\n",
    "plt.title('Heatmap of -1 Values')\n",
    "\n",
    "plt.tight_layout()\n",
    "plt.show()"
   ]
  },
  {
   "cell_type": "markdown",
   "id": "b467e1d2",
   "metadata": {
    "id": "fff8db39"
   },
   "source": [
    "# Notes & Observations\n",
    "\n",
    "- The heatmaps reveal the distribution of -1 values across different columns.\n",
    "- It is evident that the `-1` values are not randomly scattered but appear in specific columns, notably `ET_GazeLeftx`, `ET_GazeLefty`, `ET_GazeRightx`, `ET_GazeRighty`, `ET_PupilLeft`, `ET_PupilRight`, `ET_DistanceLeft`, `ET_DistanceRight`, `ET_CameraLeftX`, `ET_CameraLeftY`, `ET_CameraRightX`, and `ET_CameraRightY`.\n",
    "- These `-1` values often coincide with instances where `ET_ValidityLeft` or `ET_ValidityRight` is 1, indicating invalid eye-tracking data. This suggests that `-1` is used as a placeholder for missing or invalid measurements in these columns when the eye tracker is not providing valid data for a particular eye.\n",
    "- Given that over 70% of the data in the `ET_PupilLeft` and `ET_PupilRight` columns is marked as invalid (-1), so instead of dropping them we can create new feature for both the `ET_PupilLeft` and `ET_PupilRight` to represent which row consist invalid `ET_PupilLeft` and `ET_PupilRight` data"
   ]
  },
  {
   "cell_type": "code",
   "execution_count": null,
   "id": "3b9ea556",
   "metadata": {
    "id": "cf7437aa"
   },
   "outputs": [],
   "source": [
    "pupil_validity = {-1: 1 }"
   ]
  },
  {
   "cell_type": "code",
   "execution_count": null,
   "id": "da9aa320",
   "metadata": {
    "id": "989b113d"
   },
   "outputs": [],
   "source": [
    "df_38_EYE['ET_PupilLeft_validity'] = df_38_EYE['ET_PupilLeft'].map(pupil_validity)"
   ]
  },
  {
   "cell_type": "code",
   "execution_count": null,
   "id": "0f1954db",
   "metadata": {
    "id": "9ecdfbc0"
   },
   "outputs": [],
   "source": [
    "df_38_EYE['ET_PupilRight_validity'] = df_38_EYE['ET_PupilRight'].map(pupil_validity)"
   ]
  },
  {
   "cell_type": "code",
   "execution_count": null,
   "id": "31505987",
   "metadata": {
    "id": "7f5d2b28"
   },
   "outputs": [],
   "source": [
    "df_38_EYE[['ET_PupilLeft_validity', 'ET_PupilRight_validity']].head()"
   ]
  },
  {
   "cell_type": "code",
   "execution_count": null,
   "id": "7bf22620",
   "metadata": {
    "id": "6a86c472"
   },
   "outputs": [],
   "source": [
    "df_38_EYE[['ET_PupilLeft_validity', 'ET_PupilRight_validity']].isnull().sum()"
   ]
  },
  {
   "cell_type": "code",
   "execution_count": null,
   "id": "e9dc0956",
   "metadata": {
    "id": "9121e4a8"
   },
   "outputs": [],
   "source": [
    "plt.figure(figsize=(18, 8))\n",
    "sns.heatmap(df_38_EYE[['ET_PupilLeft_validity', 'ET_PupilRight_validity']].isnull(), cmap='viridis')\n",
    "plt.show()"
   ]
  },
  {
   "cell_type": "code",
   "execution_count": null,
   "id": "db609019",
   "metadata": {
    "id": "613a230a"
   },
   "outputs": [],
   "source": [
    "df_38_EYE['ET_PupilLeft_validity'] = df_38_EYE['ET_PupilLeft_validity'].fillna(0)"
   ]
  },
  {
   "cell_type": "code",
   "execution_count": null,
   "id": "2614f2a5",
   "metadata": {
    "id": "89ae7d3f"
   },
   "outputs": [],
   "source": [
    "df_38_EYE['ET_PupilRight_validity'] = df_38_EYE['ET_PupilRight_validity'].fillna(0)"
   ]
  },
  {
   "cell_type": "code",
   "execution_count": null,
   "id": "d10366ba",
   "metadata": {
    "id": "a2c39f03"
   },
   "outputs": [],
   "source": [
    "df_38_EYE[['ET_PupilLeft_validity', 'ET_PupilRight_validity']].head()"
   ]
  },
  {
   "cell_type": "code",
   "execution_count": null,
   "id": "1fc48ec5",
   "metadata": {
    "id": "6e9c2645"
   },
   "outputs": [],
   "source": [
    "plt.figure(figsize=(18, 8))\n",
    "sns.heatmap(df_38_EYE[['ET_PupilLeft_validity', 'ET_PupilRight_validity']].isnull(), cmap='viridis')\n",
    "plt.show()"
   ]
  },
  {
   "cell_type": "code",
   "execution_count": null,
   "id": "fd7c2b00",
   "metadata": {
    "id": "7e52da92"
   },
   "outputs": [],
   "source": [
    "df_38_EYE.head()"
   ]
  },
  {
   "cell_type": "code",
   "execution_count": null,
   "id": "f6dfa0e7",
   "metadata": {
    "id": "1cefd42d"
   },
   "outputs": [],
   "source": [
    "plt.figure(figsize=(18, 8))\n",
    "\n",
    "plt.subplot(1, 2, 1)\n",
    "sns.heatmap(df_38_EYE == -1, cmap='viridis')\n",
    "plt.title('Heatmap of -1 Values')\n",
    "\n",
    "plt.subplot(1, 2, 2)\n",
    "sns.heatmap(df_38_EYE == 1, cmap='viridis')\n",
    "plt.title('Heatmap of -1 Values')\n",
    "\n",
    "plt.tight_layout()\n",
    "plt.show()"
   ]
  },
  {
   "cell_type": "code",
   "execution_count": null,
   "id": "c05c0637",
   "metadata": {
    "id": "dcf38f27"
   },
   "outputs": [],
   "source": [
    "valid_left_ratio  = 1 - df_38_EYE['ET_ValidityLeft'].mean()"
   ]
  },
  {
   "cell_type": "code",
   "execution_count": null,
   "id": "6500437e",
   "metadata": {
    "id": "2aea00ec"
   },
   "outputs": [],
   "source": [
    "valid_left_ratio"
   ]
  },
  {
   "cell_type": "code",
   "execution_count": null,
   "id": "81530acc",
   "metadata": {
    "id": "19ac306c"
   },
   "outputs": [],
   "source": [
    "valid_right_ratio = 1 - df_38_EYE['ET_ValidityRight'].mean()"
   ]
  },
  {
   "cell_type": "code",
   "execution_count": null,
   "id": "650708e6",
   "metadata": {
    "id": "4f0aa48e"
   },
   "outputs": [],
   "source": [
    "valid_right_ratio"
   ]
  },
  {
   "cell_type": "code",
   "execution_count": null,
   "id": "100e1f1a",
   "metadata": {
    "id": "a000b670"
   },
   "outputs": [],
   "source": [
    "df_38_EYE['ET_PupilLeft_validity'] = df_38_EYE['ET_PupilLeft_validity'].astype(np.int8)\n",
    "df_38_EYE['ET_PupilRight_validity'] = df_38_EYE['ET_PupilRight_validity'].astype(np.int8)"
   ]
  },
  {
   "cell_type": "markdown",
   "id": "29d14c8c",
   "metadata": {
    "id": "6acf6847"
   },
   "source": [
    "# Feature Engineering and Observations\n",
    "\n",
    "Based on the analysis of the data, we've created two new features, `ET_PupilLeft_validity` and `ET_PupilRight_validity`. These features indicate the validity of the pupil data for the left and right eyes, respectively, with a value of 1 representing invalid data (originally -1) and 0 representing valid data.\n",
    "\n",
    "The heatmaps above visually demonstrate the distribution of -1 and 1 values across the dataset. We observed that:\n",
    "- The `-1` values are concentrated in specific columns related to gaze, pupil size, distance, and camera position, suggesting they represent missing or invalid sensor readings.\n",
    "- The `1` values, after mapping from `4.0` in the original validity columns, indicate instances of invalid eye-tracking data.\n",
    "- The heatmaps also show a strong correlation between the `-1` values in the pupil columns and a validity of 1 in the newly created pupil validity features, confirming that -1 was used to mark invalid pupil data."
   ]
  },
  {
   "cell_type": "code",
   "execution_count": null,
   "id": "da680c5f",
   "metadata": {
    "id": "de9f2594"
   },
   "outputs": [],
   "source": [
    "df_38_EYE.head()"
   ]
  },
  {
   "cell_type": "code",
   "execution_count": null,
   "id": "a740d31e",
   "metadata": {
    "id": "bfa2e174"
   },
   "outputs": [],
   "source": [
    "# Select only the numeric columns for plotting histograms, excluding time-related columns\n",
    "numeric_cols = df_38_EYE.select_dtypes(include=np.number).columns\n",
    "cols_to_plot = [col for col in numeric_cols if col not in ['UnixTime']]\n",
    "\n",
    "# Calculate the number of rows and columns for the grid\n",
    "n_cols = 4  # You can adjust the number of columns as needed\n",
    "n_rows = (len(cols_to_plot) + n_cols - 1) // n_cols\n",
    "\n",
    "plt.figure(figsize=(n_cols * 5, n_rows * 4)) # Adjust figure size as needed\n",
    "\n",
    "for i, col in enumerate(cols_to_plot):\n",
    "    plt.subplot(n_rows, n_cols, i + 1)\n",
    "    sns.histplot(df_38_EYE[col], kde=True)\n",
    "    plt.title(f'Distribution of {col}')\n",
    "    plt.xlabel(col)\n",
    "    plt.ylabel('Frequency')\n",
    "\n",
    "plt.tight_layout()\n",
    "plt.show()"
   ]
  },
  {
   "cell_type": "markdown",
   "id": "4276cddd",
   "metadata": {
    "id": "8059766d"
   },
   "source": [
    "# Observations from Histograms\n",
    "\n",
    "The grid of histograms provides insights into the distribution of values for each numeric column in the dataset (excluding 'UnixTime'). Key observations include:\n",
    "\n",
    "- Several columns, such as `ET_GazeLeftx`, `ET_GazeLefty`, `ET_GazeRightx`, and `ET_GazeRighty`, show distributions that appear somewhat multimodal or skewed, suggesting variations in gaze patterns.\n",
    "- The `ET_PupilLeft` and `ET_PupilRight` histograms clearly show a peak at -1, confirming the presence of a significant number of invalid pupil readings.\n",
    "- `ET_TimeSignal` shows a relatively uniform distribution, as expected for a time-based signal.\n",
    "- `ET_DistanceLeft` and `ET_DistanceRight` appear to have distributions centered around certain values, with some outliers or variations.\n",
    "- The camera position columns (`ET_CameraLeftX`, `ET_CameraLeftY`, `ET_CameraRightX`, `ET_CameraRightY`) seem to have distributions concentrated within specific ranges, reflecting the camera's field of view.\n",
    "- The validity columns (`ET_ValidityLeft`, `ET_ValidityRight`, `ET_PupilLeft_validity`, `ET_PupilRight_validity`) show distributions dominated by 0, indicating that most of the data is considered valid after the mapping. The smaller peaks at 1 represent the instances of invalid data.\n",
    "\n",
    "These distributions highlight the need for appropriate handling of the -1 values and potential outliers in subsequent analysis or modeling steps."
   ]
  },
  {
   "cell_type": "code",
   "execution_count": null,
   "id": "7617b140",
   "metadata": {
    "id": "cb65ae1e"
   },
   "outputs": [],
   "source": [
    "df_38_EYE.columns"
   ]
  },
  {
   "cell_type": "code",
   "execution_count": null,
   "id": "5ecf7497",
   "metadata": {
    "id": "8cf2280c"
   },
   "outputs": [],
   "source": [
    "cols = ['ET_GazeLeftx', 'ET_GazeLefty',\n",
    "       'ET_GazeRightx', 'ET_GazeRighty', 'ET_PupilLeft', 'ET_PupilRight',\n",
    "       'ET_TimeSignal', 'ET_DistanceLeft', 'ET_DistanceRight',\n",
    "       'ET_CameraLeftX', 'ET_CameraLeftY', 'ET_CameraRightX',\n",
    "       'ET_CameraRightY', 'ET_ValidityLeft', 'ET_ValidityRight',\n",
    "       'ET_PupilLeft_validity', 'ET_PupilRight_validity']"
   ]
  },
  {
   "cell_type": "code",
   "execution_count": null,
   "id": "52626996",
   "metadata": {
    "id": "85e45ea9"
   },
   "outputs": [],
   "source": [
    "from IPython.display import display, Markdown\n",
    "\n",
    "for col in cols:\n",
    "    # Add a markdown cell before each plot for better separation and labeling\n",
    "    display(Markdown(f'### {col} over Time'))\n",
    "    plt.figure(figsize=(16, 10))\n",
    "    plt.plot(df_38_EYE['Timestamp'], df_38_EYE[col])\n",
    "    plt.xlabel(\"Timestamp\") # Add x-axis label\n",
    "    plt.ylabel(col) # Add y-axis label\n",
    "    plt.show()"
   ]
  },
  {
   "cell_type": "markdown",
   "id": "8acd8d87",
   "metadata": {
    "id": "f7ffd08f"
   },
   "source": [
    "# Observations from Time Series Plots\n",
    "\n",
    "The line plots showing various features against the `Timestamp` reveal the temporal patterns and fluctuations in the eye-tracking data. Key observations include:\n",
    "\n",
    "- **Gaze Coordinates (`ET_GazeLeftx`, `ET_GazeLefty`, `ET_GazeRightx`, `ET_GazeRighty`):** These plots show the changes in gaze position over time. We can observe periods of relatively stable gaze interspersed with rapid movements (saccades) and blinks or other events where the gaze data might be invalid (-1 values appear as gaps or spikes if not handled).\n",
    "- **Pupil Size (`ET_PupilLeft`, `ET_PupilRight`):** The pupil size plots show variations over time. The presence of many -1 values is evident as flat lines at the bottom of the plot, indicating periods where pupil data was not recorded or was invalid.\n",
    "- **Time Signal (`ET_TimeSignal`):** This plot shows a steady, increasing trend, as expected for a time-based signal.\n",
    "- **Distance and Camera Position (`ET_DistanceLeft`, `ET_DistanceRight`, `ET_CameraLeftX`, `ET_CameraLeftY`, `ET_CameraRightX`, `ET_CameraRightY`):** These plots show how the distance from the eye tracker and the camera positions change over time. Variations in these features can be related to head movements or changes in the user's position relative to the eye tracker.\n",
    "- **Validity (`ET_ValidityLeft`, `ET_ValidityRight`, `ET_PupilLeft_validity`, `ET_PupilRight_validity`):** These plots clearly show periods of invalid data (represented by 1) as spikes or plateaus, corresponding to instances where the eye tracker lost track of the eyes or the pupil data was marked as invalid.\n",
    "\n",
    "Analyzing these time series plots is crucial for understanding the dynamics of the eye-tracking data and identifying patterns or anomalies that may require further investigation or specific handling during subsequent analysis."
   ]
  },
  {
   "cell_type": "code",
   "execution_count": null,
   "id": "4ceca3a9",
   "metadata": {
    "id": "cdd85f8c"
   },
   "outputs": [],
   "source": [
    "# Select only the numeric columns for plotting histograms, excluding time-related columns\n",
    "numeric_cols = df_38_EYE.select_dtypes(include=np.number).columns\n",
    "\n",
    "# Calculate the number of rows and columns for the grid\n",
    "n_cols = 4  # You can adjust the number of columns as needed\n",
    "n_rows = (len(numeric_cols) + n_cols - 1) // n_cols\n",
    "\n",
    "plt.figure(figsize=(n_cols * 5, n_rows * 4)) # Adjust figure size as needed\n",
    "\n",
    "for i, col in enumerate(numeric_cols):\n",
    "    plt.subplot(n_rows, n_cols, i + 1)\n",
    "    sns.boxplot(df_38_EYE[col])\n",
    "    plt.title(f'Boxplot of {col}')\n",
    "    plt.xlabel(col)\n",
    "\n",
    "plt.tight_layout()\n",
    "plt.show()"
   ]
  },
  {
   "cell_type": "markdown",
   "id": "70faf073",
   "metadata": {
    "id": "2cca19c5"
   },
   "source": [
    "# Observations from Boxplots and Handling -1 Values\n",
    "\n",
    "The boxplots provide a visual summary of the distribution and potential outliers for each numeric column. Key observations from the boxplots include:\n",
    "\n",
    "- The boxplots for columns like `ET_GazeLeftx`, `ET_GazeLefty`, `ET_GazeRightx`, `ET_GazeRighty`, `ET_PupilLeft`, `ET_PupilRight`, `ET_DistanceLeft`, `ET_DistanceRight`, `ET_CameraLeftX`, `ET_CameraLeftY`, `ET_CameraRightX`, and `ET_CameraRightY` clearly show the presence of -1 values as significant outliers, confirming our earlier observations from the heatmaps and histograms.\n",
    "- The boxplots for the validity columns (`ET_ValidityLeft`, `ET_ValidityRight`, `ET_PupilLeft_validity`, `ET_PupilRight_validity`) show the discrete nature of these features, with the majority of data points at 0 (valid) and a smaller number at 1 (invalid).\n",
    "\n",
    "Given the significant presence of -1 values, which represent invalid or missing data, especially in the pupil-related columns, we have decided to replace these -1 values with NaN to properly represent them as missing data. Subsequently, we will impute these missing values using the mean of each respective column. This approach helps to retain the data structure and allows for further analysis or modeling without the distortion caused by the -1 placeholders."
   ]
  },
  {
   "cell_type": "code",
   "execution_count": null,
   "id": "a4b212d6",
   "metadata": {
    "id": "9217371b"
   },
   "outputs": [],
   "source": [
    "df_38_EYE.replace({-1: np.nan}, inplace=True)"
   ]
  },
  {
   "cell_type": "code",
   "execution_count": null,
   "id": "1873f449",
   "metadata": {
    "id": "8108fa01"
   },
   "outputs": [],
   "source": [
    "df_38_EYE[['ET_GazeLeftx', 'ET_GazeLefty',\n",
    "       'ET_GazeRightx', 'ET_GazeRighty', 'ET_PupilLeft', 'ET_PupilRight',\n",
    "       'ET_TimeSignal', 'ET_DistanceLeft', 'ET_DistanceRight',\n",
    "       'ET_CameraLeftX', 'ET_CameraLeftY', 'ET_CameraRightX',\n",
    "       'ET_CameraRightY', 'ET_ValidityLeft', 'ET_ValidityRight',\n",
    "       'ET_PupilLeft_validity', 'ET_PupilRight_validity']].mean()"
   ]
  },
  {
   "cell_type": "code",
   "execution_count": null,
   "id": "ada490c9",
   "metadata": {
    "id": "9b94fbce"
   },
   "outputs": [],
   "source": [
    "df_38_EYE[['ET_GazeLeftx', 'ET_GazeLefty',\n",
    "       'ET_GazeRightx', 'ET_GazeRighty', 'ET_PupilLeft', 'ET_PupilRight',\n",
    "       'ET_TimeSignal', 'ET_DistanceLeft', 'ET_DistanceRight',\n",
    "       'ET_CameraLeftX', 'ET_CameraLeftY', 'ET_CameraRightX',\n",
    "       'ET_CameraRightY', 'ET_ValidityLeft', 'ET_ValidityRight',\n",
    "       'ET_PupilLeft_validity', 'ET_PupilRight_validity']].median()"
   ]
  },
  {
   "cell_type": "code",
   "execution_count": null,
   "id": "9082dfaf",
   "metadata": {
    "id": "ee1238c8"
   },
   "outputs": [],
   "source": [
    "numeric_cols = df_38_EYE.select_dtypes(include=np.number).columns\n",
    "\n",
    "for col in numeric_cols:\n",
    "    df_38_EYE[col] = df_38_EYE[col].fillna(df_38_EYE[col].mean())"
   ]
  },
  {
   "cell_type": "code",
   "execution_count": null,
   "id": "0b23e271",
   "metadata": {
    "id": "b0bc522d"
   },
   "outputs": [],
   "source": [
    "plt.figure(figsize=(18, 8))\n",
    "\n",
    "plt.subplot(1, 2, 1)\n",
    "sns.heatmap(df_38_EYE.isnull(), cmap='viridis')\n",
    "plt.title('Heatmap of Missing Values After Imputation')\n",
    "\n",
    "plt.subplot(1, 2, 2)\n",
    "sns.heatmap(df_38_EYE == 1, cmap='viridis')\n",
    "plt.title('Heatmap of 1 Values')\n",
    "\n",
    "plt.tight_layout()\n",
    "plt.show()"
   ]
  },
  {
   "cell_type": "markdown",
   "id": "155da40b",
   "metadata": {
    "id": "c0f1e10d"
   },
   "source": [
    "# Handling Missing Values (Imputation)\n",
    "\n",
    "As decided, we have replaced all the `-1` values with `NaN` to treat them as missing data. Subsequently, we have imputed these `NaN` values with the mean of their respective columns. The heatmap above, which was generated after the imputation, now shows no visible signs of `NaN` values, indicating that the imputation was successful."
   ]
  },
  {
   "cell_type": "code",
   "execution_count": null,
   "id": "516a7432",
   "metadata": {
    "id": "2491c1da"
   },
   "outputs": [],
   "source": [
    "df_38_EYE.head()"
   ]
  },
  {
   "cell_type": "code",
   "execution_count": null,
   "id": "b209a174",
   "metadata": {
    "id": "64f04350"
   },
   "outputs": [],
   "source": [
    "# Select only the numeric columns for plotting histograms, excluding time-related columns\n",
    "numeric_cols = df_38_EYE.select_dtypes(include=np.number).columns\n",
    "cols_to_plot = [col for col in numeric_cols if col not in ['UnixTime']]\n",
    "\n",
    "# Calculate the number of rows and columns for the grid\n",
    "n_cols = 4  # You can adjust the number of columns as needed\n",
    "n_rows = (len(cols_to_plot) + n_cols - 1) // n_cols\n",
    "\n",
    "plt.figure(figsize=(n_cols * 5, n_rows * 4)) # Adjust figure size as needed\n",
    "\n",
    "for i, col in enumerate(cols_to_plot):\n",
    "    plt.subplot(n_rows, n_cols, i + 1)\n",
    "    sns.histplot(df_38_EYE[col], kde=True)\n",
    "    plt.title(f'Distribution of {col}')\n",
    "    plt.xlabel(col)\n",
    "    plt.ylabel('Frequency')\n",
    "\n",
    "plt.tight_layout()\n",
    "plt.show()"
   ]
  },
  {
   "cell_type": "markdown",
   "id": "f498280a",
   "metadata": {
    "id": "e0c83f1c"
   },
   "source": [
    "# Observations from Histograms After Imputation\n",
    "\n",
    "The histograms generated after replacing the -1 values with the mean of each column show the distributions of the numeric features with the missing data handled. Key observations from these updated histograms include:\n",
    "\n",
    "- The distinct peaks at -1, which were prominent in the histograms for several columns (e.g., pupil size, gaze coordinates, distance, and camera position) before imputation, are now replaced by a peak at the mean of each respective column.\n",
    "- The distributions in many columns now appear more unimodal or show shifted modes compared to the original histograms.\n",
    "- The histograms for the validity columns still show their bimodal distributions with peaks at 0 and 1, as these were handled separately.\n",
    "\n",
    "These histograms provide an updated view of the data's distribution after handling the missing values, highlighting the impact of the imputation method on the data's characteristics."
   ]
  },
  {
   "cell_type": "code",
   "execution_count": null,
   "id": "97956c6a",
   "metadata": {
    "id": "de0b2f65"
   },
   "outputs": [],
   "source": [
    "cols = ['ET_GazeLeftx', 'ET_GazeLefty',\n",
    "       'ET_GazeRightx', 'ET_GazeRighty', 'ET_PupilLeft', 'ET_PupilRight',\n",
    "       'ET_TimeSignal', 'ET_DistanceLeft', 'ET_DistanceRight',\n",
    "       'ET_CameraLeftX', 'ET_CameraLeftY', 'ET_CameraRightX',\n",
    "       'ET_CameraRightY', 'ET_ValidityLeft', 'ET_ValidityRight',\n",
    "       'ET_PupilLeft_validity', 'ET_PupilRight_validity']"
   ]
  },
  {
   "cell_type": "code",
   "execution_count": null,
   "id": "55d1f19a",
   "metadata": {
    "id": "4ddd4915"
   },
   "outputs": [],
   "source": [
    "for col in cols:\n",
    "    # Add a markdown cell before each plot for better separation and labeling\n",
    "    display(Markdown(f'### {col} over Time'))\n",
    "    plt.figure(figsize=(16, 10))\n",
    "    plt.plot(df_38_EYE['Timestamp'], df_38_EYE[col])\n",
    "    plt.xlabel(\"Timestamp\") # Add x-axis label\n",
    "    plt.ylabel(col) # Add y-axis label\n",
    "    plt.show()"
   ]
  },
  {
   "cell_type": "markdown",
   "id": "f227860a",
   "metadata": {
    "id": "0fb07abb"
   },
   "source": [
    "# Observations from Time Series Plots After Imputation\n",
    "\n",
    "The line plots generated after imputing the missing values with the mean show the temporal patterns of the features with the missing data handled. Key observations from these updated plots include:\n",
    "\n",
    "- The gaps or flat lines at -1, which were prominent in the plots for columns like gaze coordinates, pupil size, distance, and camera position, are now filled by lines at the mean value of the respective columns.\n",
    "- The plots for the validity columns remain the same as they were handled separately.\n",
    "- The `ET_TimeSignal` plot still shows a steady increasing trend, as expected."
   ]
  },
  {
   "cell_type": "code",
   "execution_count": null,
   "id": "04e89258",
   "metadata": {
    "id": "c608fd95"
   },
   "outputs": [],
   "source": [
    "plt.figure(figsize=(16, 10))\n",
    "sns.heatmap(df_38_EYE.corr(numeric_only=True), cmap='YlGnBu', annot=True)\n",
    "plt.show()"
   ]
  },
  {
   "cell_type": "markdown",
   "id": "142df0a0",
   "metadata": {
    "id": "82405ba6"
   },
   "source": [
    "# Observations from Correlation Heatmap\n",
    "\n",
    "The correlation heatmap provides a visual representation of the pairwise correlations between the numeric columns in the dataset. Key observations from the heatmap include:\n",
    "\n",
    "- **High Positive Correlations:** We observe strong positive correlations (values close to 1) between:\n",
    "  - `ET_GazeLeftx` and `ET_GazeRightx`: This is expected as the gaze positions of both eyes should be highly correlated when fixating on a point.\n",
    "  - `ET_GazeLefty` and `ET_GazeRighty`: Similar to the x-coordinates, the y-coordinates of gaze should also be highly correlated.\n",
    "  - `ET_PupilLeft` and `ET_PupilRight`: Pupil sizes of both eyes tend to change together in response to light and cognitive load.\n",
    "  - `ET_DistanceLeft` and `ET_DistanceRight`: The distance from the eye tracker to each eye should be highly correlated.\n",
    "  - `ET_CameraLeftX` and `ET_CameraRightX`, `ET_CameraLeftY` and `ET_CameraRightY`: The camera positions for both eyes are also expected to be highly correlated.\n",
    "  - `UnixTime` and `ET_TimeSignal`: As previously noted, these two columns are almost perfectly linearly correlated, indicating redundancy.\n",
    "  - `ET_ValidityLeft` and `ET_PupilLeft_validity`: There is a positive correlation, suggesting that when the overall left eye data is invalid, the left pupil data is also likely to be invalid.\n",
    "  - `ET_ValidityRight` and `ET_PupilRight_validity`: Similar to the left eye, there is a positive correlation between the overall right eye validity and the right pupil validity.\n",
    "- **Other Correlations:** We can also observe other varying degrees of correlations between different features, which can provide insights into the relationships between gaze behavior, pupil size, distance, and camera position. For example, there might be correlations between gaze coordinates and camera positions, reflecting head movements.\n",
    "- **Low or Near-Zero Correlations:** Columns with low or near-zero correlations are relatively independent of each other.\n",
    "\n",
    "Understanding these correlations is important for feature selection and for building models, as highly correlated features might indicate multicollinearity, while correlations between features can reveal underlying patterns in the data."
   ]
  },
  {
   "cell_type": "markdown",
   "id": "864058df",
   "metadata": {
    "id": "1c413c3b"
   },
   "source": [
    "# Analysis of ET_TimeSignal and Decision to Drop\n",
    "\n",
    "As observed in the time series plot and confirmed by the correlation heatmap, the `ET_TimeSignal` column exhibits a near-perfect linear relationship with both the `Timestamp` and `UnixTime` columns. This strong correlation (close to 1) suggests that `ET_TimeSignal` is essentially redundant and likely represents another form of time recording or a signal directly derived from the timestamp.\n",
    "\n",
    "Including highly correlated features like this in a dataset can lead to issues such as multicollinearity in some statistical models, which can make it difficult to interpret the individual impact of each feature. Since the `Timestamp` column already provides the necessary temporal information, retaining `ET_TimeSignal` does not appear to add significant value for further analysis or modeling in most cases.\n",
    "\n",
    "Therefore, based on its high correlation and lack of unique insight, we will proceed to drop the `ET_TimeSignal` column to simplify the dataset and potentially improve the performance and interpretability of future analyses."
   ]
  },
  {
   "cell_type": "code",
   "execution_count": null,
   "id": "75100b6c",
   "metadata": {
    "id": "7c96e349"
   },
   "outputs": [],
   "source": [
    "df_38_EYE.drop('ET_TimeSignal', axis=1, inplace=True)"
   ]
  },
  {
   "cell_type": "code",
   "execution_count": null,
   "id": "f6b7106e",
   "metadata": {
    "id": "5845a61d"
   },
   "outputs": [],
   "source": [
    "plt.figure(figsize=(16, 10))\n",
    "sns.pairplot(df_38_EYE)\n",
    "plt.show()"
   ]
  }
 ],
 "metadata": {
  "colab": {
   "provenance": []
  },
  "kernelspec": {
   "display_name": "Python 3",
   "name": "python3"
  },
  "language_info": {
   "name": "python"
  }
 },
 "nbformat": 4,
 "nbformat_minor": 5
}
