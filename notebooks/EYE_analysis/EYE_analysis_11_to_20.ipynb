{
 "cells": [
  {
   "cell_type": "markdown",
   "id": "f0accdeb",
   "metadata": {
    "id": "bee36084"
   },
   "source": [
    "# Eye Tracking Data Analysis\n",
    "\n",
    "This notebook performs exploratory data analysis and cleaning on eye-tracking data.\n"
   ]
  },
  {
   "cell_type": "code",
   "execution_count": null,
   "id": "d0124c7d",
   "metadata": {
    "id": "2859523e"
   },
   "outputs": [],
   "source": [
    "%load_ext cudf"
   ]
  },
  {
   "cell_type": "code",
   "execution_count": null,
   "id": "eead4581",
   "metadata": {
    "id": "1d3880d5"
   },
   "outputs": [],
   "source": [
    "import numpy as np\n",
    "import pandas as pd\n",
    "import matplotlib.pyplot as plt\n",
    "import seaborn as sns"
   ]
  },
  {
   "cell_type": "code",
   "execution_count": null,
   "id": "a9d401cc",
   "metadata": {
    "id": "da8bfd20"
   },
   "outputs": [],
   "source": [
    "import datashader as ds\n",
    "import datashader.transfer_functions as tf"
   ]
  },
  {
   "cell_type": "code",
   "execution_count": null,
   "id": "cfb4d4ac",
   "metadata": {
    "id": "2471d2fd"
   },
   "outputs": [],
   "source": [
    "pd.set_option('display.max_columns', None)"
   ]
  },
  {
   "cell_type": "markdown",
   "id": "e566c398",
   "metadata": {
    "id": "sMcHS8LIOGeT"
   },
   "source": [
    "# **11_EYE**"
   ]
  },
  {
   "cell_type": "code",
   "execution_count": null,
   "id": "a0ac3eb5",
   "metadata": {
    "id": "L2tJooyROWnM"
   },
   "outputs": [],
   "source": []
  },
  {
   "cell_type": "code",
   "execution_count": null,
   "id": "81705c54",
   "metadata": {
    "id": "6c647c4f"
   },
   "outputs": [],
   "source": [
    "df_11_EYE = pd.read_csv('data/STData/11/11_EYE.csv')"
   ]
  },
  {
   "cell_type": "code",
   "execution_count": null,
   "id": "b73f25c9",
   "metadata": {
    "id": "c229bba7"
   },
   "outputs": [],
   "source": [
    "df_11_EYE.head()"
   ]
  },
  {
   "cell_type": "code",
   "execution_count": null,
   "id": "8c75eafc",
   "metadata": {
    "id": "0ec8e716"
   },
   "outputs": [],
   "source": [
    "df_11_EYE.shape"
   ]
  },
  {
   "cell_type": "code",
   "execution_count": null,
   "id": "4af4d6da",
   "metadata": {
    "id": "43ba37eb"
   },
   "outputs": [],
   "source": [
    "df_11_EYE.columns"
   ]
  },
  {
   "cell_type": "code",
   "execution_count": null,
   "id": "72f9102d",
   "metadata": {
    "id": "19f68fb4"
   },
   "outputs": [],
   "source": [
    "df_11_EYE.info()"
   ]
  },
  {
   "cell_type": "code",
   "execution_count": null,
   "id": "2e22caa9",
   "metadata": {
    "id": "603369d7"
   },
   "outputs": [],
   "source": [
    "df_11_EYE.isnull().sum()"
   ]
  },
  {
   "cell_type": "code",
   "execution_count": null,
   "id": "0e35f187",
   "metadata": {
    "id": "874353e3"
   },
   "outputs": [],
   "source": [
    "plt.figure(figsize=(12,8))\n",
    "sns.heatmap(df_11_EYE.isnull(), cmap='viridis')\n",
    "plt.show()"
   ]
  },
  {
   "cell_type": "markdown",
   "id": "c5c1b913",
   "metadata": {
    "id": "b17906e7"
   },
   "source": [
    "# Notes & Observations\n",
    "\n",
    "- We observe many **null** (or missing) values in the `QuestionKey` columns.\n",
    "- The nulls in the `QuestionKey` column may not represent “true” nulls. Rather, they follow interval patterns, suggesting that during those periods no question was displayed.\n",
    "- These missing values in `QuestionKey` require additional investigation and context-aware handling."
   ]
  },
  {
   "cell_type": "code",
   "execution_count": null,
   "id": "4443382b",
   "metadata": {
    "id": "1113779e"
   },
   "outputs": [],
   "source": [
    "df_11_EYE['QuestionKey'].unique()"
   ]
  },
  {
   "cell_type": "code",
   "execution_count": null,
   "id": "fe2cb732",
   "metadata": {
    "id": "db0a93a2"
   },
   "outputs": [],
   "source": [
    "df_11_EYE['Timestamp'] = pd.to_datetime(df_11_EYE['Timestamp'])"
   ]
  },
  {
   "cell_type": "code",
   "execution_count": null,
   "id": "1735f237",
   "metadata": {
    "id": "03d57b0a"
   },
   "outputs": [],
   "source": [
    "df_11_EYE.head(3)"
   ]
  },
  {
   "cell_type": "code",
   "execution_count": null,
   "id": "17c3942f",
   "metadata": {
    "id": "c0004029"
   },
   "outputs": [],
   "source": [
    "df_11_EYE['QuestionKey'] = df_11_EYE['QuestionKey'].fillna('None')"
   ]
  },
  {
   "cell_type": "code",
   "execution_count": null,
   "id": "00060766",
   "metadata": {
    "id": "dfb4729e"
   },
   "outputs": [],
   "source": [
    "df_11_EYE['QuestionKey'].value_counts()"
   ]
  },
  {
   "cell_type": "code",
   "execution_count": null,
   "id": "093f6174",
   "metadata": {
    "id": "9353c9d8"
   },
   "outputs": [],
   "source": [
    "plt.figure(figsize=(12,8))\n",
    "sns.heatmap(df_11_EYE.isnull(), cmap='viridis')\n",
    "plt.show()"
   ]
  },
  {
   "cell_type": "code",
   "execution_count": null,
   "id": "c09fa1f6",
   "metadata": {
    "id": "5c73d150"
   },
   "outputs": [],
   "source": [
    "df_11_EYE.isnull().sum()"
   ]
  },
  {
   "cell_type": "code",
   "execution_count": null,
   "id": "42115765",
   "metadata": {
    "id": "6c700142"
   },
   "outputs": [],
   "source": [
    "df_11_EYE.dropna(inplace=True)"
   ]
  },
  {
   "cell_type": "code",
   "execution_count": null,
   "id": "020013f2",
   "metadata": {
    "id": "90a604ce"
   },
   "outputs": [],
   "source": [
    "df_11_EYE.head()"
   ]
  },
  {
   "cell_type": "code",
   "execution_count": null,
   "id": "d6e56c5d",
   "metadata": {
    "id": "a43a4283"
   },
   "outputs": [],
   "source": [
    "df_11_EYE['Row'].unique()"
   ]
  },
  {
   "cell_type": "code",
   "execution_count": null,
   "id": "96c32b38",
   "metadata": {
    "id": "f66566f9"
   },
   "outputs": [],
   "source": [
    "plt.figure(figsize=(8,6))\n",
    "sns.histplot(df_11_EYE['Row'])\n",
    "plt.show()"
   ]
  },
  {
   "cell_type": "markdown",
   "id": "3343c44a",
   "metadata": {
    "id": "5ddf40fd"
   },
   "source": [
    "# Notes & Observations\n",
    "\n",
    "- The `Row` column appears to be a simple row index and does not provide meaningful information relevant to the eye-tracking data itself. Therefore, it can be dropped."
   ]
  },
  {
   "cell_type": "code",
   "execution_count": null,
   "id": "60ae3eff",
   "metadata": {
    "id": "5aee4404"
   },
   "outputs": [],
   "source": [
    "df_11_EYE.drop('Row', axis=1, inplace=True)"
   ]
  },
  {
   "cell_type": "code",
   "execution_count": null,
   "id": "1cfd5511",
   "metadata": {
    "id": "827f3274"
   },
   "outputs": [],
   "source": [
    "df_11_EYE['ET_ValidityLeft'].unique()"
   ]
  },
  {
   "cell_type": "code",
   "execution_count": null,
   "id": "ec18ba8f",
   "metadata": {
    "id": "1437751a"
   },
   "outputs": [],
   "source": [
    "df_11_EYE['ET_ValidityLeft'].value_counts()"
   ]
  },
  {
   "cell_type": "code",
   "execution_count": null,
   "id": "e5224a51",
   "metadata": {
    "id": "d0a9ee4a"
   },
   "outputs": [],
   "source": [
    "df_11_EYE['ET_ValidityRight'].unique()"
   ]
  },
  {
   "cell_type": "code",
   "execution_count": null,
   "id": "85e42136",
   "metadata": {
    "id": "55ddcc2b"
   },
   "outputs": [],
   "source": [
    "df_11_EYE['ET_ValidityRight'].value_counts()"
   ]
  },
  {
   "cell_type": "code",
   "execution_count": null,
   "id": "47c96fa2",
   "metadata": {
    "id": "faef00be"
   },
   "outputs": [],
   "source": [
    "plt.figure(figsize=(12, 6))\n",
    "\n",
    "plt.subplot(1, 2, 1)\n",
    "sns.barplot(x=df_11_EYE['ET_ValidityLeft'].value_counts().index, y=df_11_EYE['ET_ValidityLeft'].value_counts().values)\n",
    "plt.title('Count of ET_ValidityLeft')\n",
    "plt.xlabel('Validity')\n",
    "plt.ylabel('Count')\n",
    "\n",
    "\n",
    "plt.subplot(1, 2, 2)\n",
    "sns.barplot(x=df_11_EYE['ET_ValidityRight'].value_counts().index, y=df_11_EYE['ET_ValidityRight'].value_counts().values)\n",
    "plt.title('Count of ET_ValidityRight')\n",
    "plt.xlabel('Validity')\n",
    "plt.ylabel('Count')\n",
    "\n",
    "plt.tight_layout()\n",
    "plt.show()"
   ]
  },
  {
   "cell_type": "markdown",
   "id": "fa87a10c",
   "metadata": {
    "id": "b43706ea"
   },
   "source": [
    "# Notes & Observations\n",
    "\n",
    "- The `ET_ValidityLeft` and `ET_ValidityRight` columns indicate the validity of the eye-tracking data for the left and right eye, respectively.\n",
    "- Based on the value counts and the bar plots, it appears that a value of `0.0` represents valid eye-tracking data, while a value of `4.0` represents invalid data.\n",
    "- Although the amount of invalid data is relatively small, removing these rows could introduce unwanted patterns or gaps in the time series data.\n",
    "- Therefore, we will keep the data and replace the value `4.0` with `1.0` in both `ET_ValidityLeft` and `ET_ValidityRight` columns. This will indicate to a machine learning model that the eye tracker had invalid data at those specific points in time while maintaining the integrity of the time series."
   ]
  },
  {
   "cell_type": "markdown",
   "id": "4b29f317",
   "metadata": {
    "id": "e9e671b2"
   },
   "source": [
    "Define a mapping to convert validity values from `0.0` and `4.0` to `0` and `1`."
   ]
  },
  {
   "cell_type": "code",
   "execution_count": null,
   "id": "0cc395f7",
   "metadata": {
    "id": "08e7ed71"
   },
   "outputs": [],
   "source": [
    "validity_map = {4.0: 1.0, 0.0: 0.0}"
   ]
  },
  {
   "cell_type": "code",
   "execution_count": null,
   "id": "5a82c73a",
   "metadata": {
    "id": "0bba3ac0"
   },
   "outputs": [],
   "source": [
    "df_11_EYE['ET_ValidityLeft'] = df_11_EYE['ET_ValidityLeft'].map(validity_map).astype(np.int8)\n",
    "df_11_EYE['ET_ValidityRight'] = df_11_EYE['ET_ValidityRight'].map(validity_map).astype(np.int8)"
   ]
  },
  {
   "cell_type": "code",
   "execution_count": null,
   "id": "b73a9194",
   "metadata": {
    "id": "0ff3f16c"
   },
   "outputs": [],
   "source": [
    "df_11_EYE.head(3)"
   ]
  },
  {
   "cell_type": "code",
   "execution_count": null,
   "id": "bf0b3cc2",
   "metadata": {
    "id": "32eb3225"
   },
   "outputs": [],
   "source": [
    "df_11_EYE.describe()"
   ]
  },
  {
   "cell_type": "code",
   "execution_count": null,
   "id": "e8ecbcbb",
   "metadata": {
    "id": "c1e092e1"
   },
   "outputs": [],
   "source": [
    "df_11_EYE[df_11_EYE['ET_ValidityLeft'] == 1].shape"
   ]
  },
  {
   "cell_type": "code",
   "execution_count": null,
   "id": "79b4a9b5",
   "metadata": {
    "id": "8ebfb0cc"
   },
   "outputs": [],
   "source": [
    "df_11_EYE[df_11_EYE['ET_ValidityRight'] == 1].shape"
   ]
  },
  {
   "cell_type": "code",
   "execution_count": null,
   "id": "f842f94a",
   "metadata": {
    "id": "0d175df2"
   },
   "outputs": [],
   "source": [
    "df_11_EYE[df_11_EYE['ET_ValidityLeft'] == 1].shape[0] / df_11_EYE.shape[0]"
   ]
  },
  {
   "cell_type": "code",
   "execution_count": null,
   "id": "ff4b1a44",
   "metadata": {
    "id": "54cc0f9e"
   },
   "outputs": [],
   "source": [
    "df_11_EYE[df_11_EYE['ET_ValidityRight'] == 1].shape[0] / df_11_EYE.shape[0]"
   ]
  },
  {
   "cell_type": "code",
   "execution_count": null,
   "id": "8bba252c",
   "metadata": {
    "id": "45c977c1"
   },
   "outputs": [],
   "source": [
    "plt.figure(figsize=(18, 8))\n",
    "\n",
    "plt.subplot(1, 2, 1)\n",
    "sns.heatmap(df_11_EYE == -1, cmap='viridis')\n",
    "plt.title('Heatmap of -1 Values')\n",
    "\n",
    "plt.subplot(1, 2, 2)\n",
    "sns.heatmap(df_11_EYE == 1, cmap='viridis')\n",
    "plt.title('Heatmap of 1 Values')\n",
    "\n",
    "plt.tight_layout()\n",
    "plt.show()"
   ]
  },
  {
   "cell_type": "code",
   "execution_count": null,
   "id": "709bef4f",
   "metadata": {
    "id": "3b98a13b"
   },
   "outputs": [],
   "source": [
    "df_11_EYE[df_11_EYE['ET_PupilLeft'] == -1].shape"
   ]
  },
  {
   "cell_type": "code",
   "execution_count": null,
   "id": "ef8c9c7e",
   "metadata": {
    "id": "a2f296f6"
   },
   "outputs": [],
   "source": [
    "df_11_EYE[df_11_EYE['ET_PupilRight'] == -1].shape"
   ]
  },
  {
   "cell_type": "code",
   "execution_count": null,
   "id": "ff93b6e8",
   "metadata": {
    "id": "42cff7eb"
   },
   "outputs": [],
   "source": [
    "df_11_EYE[df_11_EYE['ET_PupilLeft'] == -1].shape[0] / df_11_EYE.shape[0]"
   ]
  },
  {
   "cell_type": "code",
   "execution_count": null,
   "id": "7721d713",
   "metadata": {
    "id": "83c97903"
   },
   "outputs": [],
   "source": [
    "df_11_EYE[df_11_EYE['ET_PupilRight'] == -1].shape[0] / df_11_EYE.shape[0]"
   ]
  },
  {
   "cell_type": "code",
   "execution_count": null,
   "id": "e9e8979a",
   "metadata": {
    "id": "6e176d63"
   },
   "outputs": [],
   "source": [
    "plt.figure(figsize=(18, 8))\n",
    "\n",
    "plt.subplot(1, 2, 1)\n",
    "sns.heatmap(df_11_EYE[df_11_EYE['ET_ValidityLeft'] == 1] == -1, cmap='viridis')\n",
    "plt.title('Heatmap of -1 Values')\n",
    "\n",
    "plt.subplot(1, 2, 2)\n",
    "sns.heatmap(df_11_EYE[df_11_EYE['ET_ValidityRight'] == 1] == -1, cmap='viridis')\n",
    "plt.title('Heatmap of -1 Values')\n",
    "\n",
    "plt.tight_layout()\n",
    "plt.show()"
   ]
  },
  {
   "cell_type": "markdown",
   "id": "e1a3c9e8",
   "metadata": {
    "id": "fff8db39"
   },
   "source": [
    "# Notes & Observations\n",
    "\n",
    "- The heatmaps reveal the distribution of -1 values across different columns.\n",
    "- It is evident that the `-1` values are not randomly scattered but appear in specific columns, notably `ET_GazeLeftx`, `ET_GazeLefty`, `ET_GazeRightx`, `ET_GazeRighty`, `ET_PupilLeft`, `ET_PupilRight`, `ET_DistanceLeft`, `ET_DistanceRight`, `ET_CameraLeftX`, `ET_CameraLeftY`, `ET_CameraRightX`, and `ET_CameraRightY`.\n",
    "- These `-1` values often coincide with instances where `ET_ValidityLeft` or `ET_ValidityRight` is 1, indicating invalid eye-tracking data. This suggests that `-1` is used as a placeholder for missing or invalid measurements in these columns when the eye tracker is not providing valid data for a particular eye.\n",
    "- Given that over 70% of the data in the `ET_PupilLeft` and `ET_PupilRight` columns is marked as invalid (-1), so instead of dropping them we can create new feature for both the `ET_PupilLeft` and `ET_PupilRight` to represent which row consist invalid `ET_PupilLeft` and `ET_PupilRight` data"
   ]
  },
  {
   "cell_type": "code",
   "execution_count": null,
   "id": "6acc3a99",
   "metadata": {
    "id": "cf7437aa"
   },
   "outputs": [],
   "source": [
    "pupil_validity = {-1: 1 }"
   ]
  },
  {
   "cell_type": "code",
   "execution_count": null,
   "id": "cab174db",
   "metadata": {
    "id": "989b113d"
   },
   "outputs": [],
   "source": [
    "df_11_EYE['ET_PupilLeft_validity'] = df_11_EYE['ET_PupilLeft'].map(pupil_validity)"
   ]
  },
  {
   "cell_type": "code",
   "execution_count": null,
   "id": "e0bb1622",
   "metadata": {
    "id": "9ecdfbc0"
   },
   "outputs": [],
   "source": [
    "df_11_EYE['ET_PupilRight_validity'] = df_11_EYE['ET_PupilRight'].map(pupil_validity)"
   ]
  },
  {
   "cell_type": "code",
   "execution_count": null,
   "id": "d1bc233b",
   "metadata": {
    "id": "7f5d2b28"
   },
   "outputs": [],
   "source": [
    "df_11_EYE[['ET_PupilLeft_validity', 'ET_PupilRight_validity']].head()"
   ]
  },
  {
   "cell_type": "code",
   "execution_count": null,
   "id": "6f766f68",
   "metadata": {
    "id": "6a86c472"
   },
   "outputs": [],
   "source": [
    "df_11_EYE[['ET_PupilLeft_validity', 'ET_PupilRight_validity']].isnull().sum()"
   ]
  },
  {
   "cell_type": "code",
   "execution_count": null,
   "id": "9138efe0",
   "metadata": {
    "id": "9121e4a8"
   },
   "outputs": [],
   "source": [
    "plt.figure(figsize=(18, 8))\n",
    "sns.heatmap(df_11_EYE[['ET_PupilLeft_validity', 'ET_PupilRight_validity']].isnull(), cmap='viridis')\n",
    "plt.show()"
   ]
  },
  {
   "cell_type": "code",
   "execution_count": null,
   "id": "cf957901",
   "metadata": {
    "id": "613a230a"
   },
   "outputs": [],
   "source": [
    "df_11_EYE['ET_PupilLeft_validity'] = df_11_EYE['ET_PupilLeft_validity'].fillna(0)"
   ]
  },
  {
   "cell_type": "code",
   "execution_count": null,
   "id": "1984d662",
   "metadata": {
    "id": "89ae7d3f"
   },
   "outputs": [],
   "source": [
    "df_11_EYE['ET_PupilRight_validity'] = df_11_EYE['ET_PupilRight_validity'].fillna(0)"
   ]
  },
  {
   "cell_type": "code",
   "execution_count": null,
   "id": "de554391",
   "metadata": {
    "id": "a2c39f03"
   },
   "outputs": [],
   "source": [
    "df_11_EYE[['ET_PupilLeft_validity', 'ET_PupilRight_validity']].head()"
   ]
  },
  {
   "cell_type": "code",
   "execution_count": null,
   "id": "10199f21",
   "metadata": {
    "id": "6e9c2645"
   },
   "outputs": [],
   "source": [
    "plt.figure(figsize=(18, 8))\n",
    "sns.heatmap(df_11_EYE[['ET_PupilLeft_validity', 'ET_PupilRight_validity']].isnull(), cmap='viridis')\n",
    "plt.show()"
   ]
  },
  {
   "cell_type": "code",
   "execution_count": null,
   "id": "1c97afd6",
   "metadata": {
    "id": "7e52da92"
   },
   "outputs": [],
   "source": [
    "df_11_EYE.head()"
   ]
  },
  {
   "cell_type": "code",
   "execution_count": null,
   "id": "0af29ddf",
   "metadata": {
    "id": "1cefd42d"
   },
   "outputs": [],
   "source": [
    "plt.figure(figsize=(18, 8))\n",
    "\n",
    "plt.subplot(1, 2, 1)\n",
    "sns.heatmap(df_11_EYE == -1, cmap='viridis')\n",
    "plt.title('Heatmap of -1 Values')\n",
    "\n",
    "plt.subplot(1, 2, 2)\n",
    "sns.heatmap(df_11_EYE == 1, cmap='viridis')\n",
    "plt.title('Heatmap of -1 Values')\n",
    "\n",
    "plt.tight_layout()\n",
    "plt.show()"
   ]
  },
  {
   "cell_type": "code",
   "execution_count": null,
   "id": "56194878",
   "metadata": {
    "id": "dcf38f27"
   },
   "outputs": [],
   "source": [
    "valid_left_ratio  = 1 - df_11_EYE['ET_ValidityLeft'].mean()"
   ]
  },
  {
   "cell_type": "code",
   "execution_count": null,
   "id": "6afa691e",
   "metadata": {
    "id": "2aea00ec"
   },
   "outputs": [],
   "source": [
    "valid_left_ratio"
   ]
  },
  {
   "cell_type": "code",
   "execution_count": null,
   "id": "952bc9b1",
   "metadata": {
    "id": "19ac306c"
   },
   "outputs": [],
   "source": [
    "valid_right_ratio = 1 - df_11_EYE['ET_ValidityRight'].mean()"
   ]
  },
  {
   "cell_type": "code",
   "execution_count": null,
   "id": "968ed0c6",
   "metadata": {
    "id": "4f0aa48e"
   },
   "outputs": [],
   "source": [
    "valid_right_ratio"
   ]
  },
  {
   "cell_type": "code",
   "execution_count": null,
   "id": "a3b51c39",
   "metadata": {
    "id": "a000b670"
   },
   "outputs": [],
   "source": [
    "df_11_EYE['ET_PupilLeft_validity'] = df_11_EYE['ET_PupilLeft_validity'].astype(np.int8)\n",
    "df_11_EYE['ET_PupilRight_validity'] = df_11_EYE['ET_PupilRight_validity'].astype(np.int8)"
   ]
  },
  {
   "cell_type": "markdown",
   "id": "edca353a",
   "metadata": {
    "id": "6acf6847"
   },
   "source": [
    "# Feature Engineering and Observations\n",
    "\n",
    "Based on the analysis of the data, we've created two new features, `ET_PupilLeft_validity` and `ET_PupilRight_validity`. These features indicate the validity of the pupil data for the left and right eyes, respectively, with a value of 1 representing invalid data (originally -1) and 0 representing valid data.\n",
    "\n",
    "The heatmaps above visually demonstrate the distribution of -1 and 1 values across the dataset. We observed that:\n",
    "- The `-1` values are concentrated in specific columns related to gaze, pupil size, distance, and camera position, suggesting they represent missing or invalid sensor readings.\n",
    "- The `1` values, after mapping from `4.0` in the original validity columns, indicate instances of invalid eye-tracking data.\n",
    "- The heatmaps also show a strong correlation between the `-1` values in the pupil columns and a validity of 1 in the newly created pupil validity features, confirming that -1 was used to mark invalid pupil data."
   ]
  },
  {
   "cell_type": "code",
   "execution_count": null,
   "id": "09faefab",
   "metadata": {
    "id": "de9f2594"
   },
   "outputs": [],
   "source": [
    "df_11_EYE.head()"
   ]
  },
  {
   "cell_type": "code",
   "execution_count": null,
   "id": "f99c08f7",
   "metadata": {
    "id": "bfa2e174"
   },
   "outputs": [],
   "source": [
    "# Select only the numeric columns for plotting histograms, excluding time-related columns\n",
    "numeric_cols = df_11_EYE.select_dtypes(include=np.number).columns\n",
    "cols_to_plot = [col for col in numeric_cols if col not in ['UnixTime']]\n",
    "\n",
    "# Calculate the number of rows and columns for the grid\n",
    "n_cols = 4  # You can adjust the number of columns as needed\n",
    "n_rows = (len(cols_to_plot) + n_cols - 1) // n_cols\n",
    "\n",
    "plt.figure(figsize=(n_cols * 5, n_rows * 4)) # Adjust figure size as needed\n",
    "\n",
    "for i, col in enumerate(cols_to_plot):\n",
    "    plt.subplot(n_rows, n_cols, i + 1)\n",
    "    sns.histplot(df_11_EYE[col], kde=True)\n",
    "    plt.title(f'Distribution of {col}')\n",
    "    plt.xlabel(col)\n",
    "    plt.ylabel('Frequency')\n",
    "\n",
    "plt.tight_layout()\n",
    "plt.show()"
   ]
  },
  {
   "cell_type": "markdown",
   "id": "fd8daf7f",
   "metadata": {
    "id": "8059766d"
   },
   "source": [
    "# Observations from Histograms\n",
    "\n",
    "The grid of histograms provides insights into the distribution of values for each numeric column in the dataset (excluding 'UnixTime'). Key observations include:\n",
    "\n",
    "- Several columns, such as `ET_GazeLeftx`, `ET_GazeLefty`, `ET_GazeRightx`, and `ET_GazeRighty`, show distributions that appear somewhat multimodal or skewed, suggesting variations in gaze patterns.\n",
    "- The `ET_PupilLeft` and `ET_PupilRight` histograms clearly show a peak at -1, confirming the presence of a significant number of invalid pupil readings.\n",
    "- `ET_TimeSignal` shows a relatively uniform distribution, as expected for a time-based signal.\n",
    "- `ET_DistanceLeft` and `ET_DistanceRight` appear to have distributions centered around certain values, with some outliers or variations.\n",
    "- The camera position columns (`ET_CameraLeftX`, `ET_CameraLeftY`, `ET_CameraRightX`, `ET_CameraRightY`) seem to have distributions concentrated within specific ranges, reflecting the camera's field of view.\n",
    "- The validity columns (`ET_ValidityLeft`, `ET_ValidityRight`, `ET_PupilLeft_validity`, `ET_PupilRight_validity`) show distributions dominated by 0, indicating that most of the data is considered valid after the mapping. The smaller peaks at 1 represent the instances of invalid data.\n",
    "\n",
    "These distributions highlight the need for appropriate handling of the -1 values and potential outliers in subsequent analysis or modeling steps."
   ]
  },
  {
   "cell_type": "code",
   "execution_count": null,
   "id": "a0a84a78",
   "metadata": {
    "id": "cb65ae1e"
   },
   "outputs": [],
   "source": [
    "df_11_EYE.columns"
   ]
  },
  {
   "cell_type": "code",
   "execution_count": null,
   "id": "b281ebb6",
   "metadata": {
    "id": "8cf2280c"
   },
   "outputs": [],
   "source": [
    "cols = ['ET_GazeLeftx', 'ET_GazeLefty',\n",
    "       'ET_GazeRightx', 'ET_GazeRighty', 'ET_PupilLeft', 'ET_PupilRight',\n",
    "       'ET_TimeSignal', 'ET_DistanceLeft', 'ET_DistanceRight',\n",
    "       'ET_CameraLeftX', 'ET_CameraLeftY', 'ET_CameraRightX',\n",
    "       'ET_CameraRightY', 'ET_ValidityLeft', 'ET_ValidityRight',\n",
    "       'ET_PupilLeft_validity', 'ET_PupilRight_validity']"
   ]
  },
  {
   "cell_type": "code",
   "execution_count": null,
   "id": "787ad6fa",
   "metadata": {
    "id": "85e45ea9"
   },
   "outputs": [],
   "source": [
    "from IPython.display import display, Markdown\n",
    "\n",
    "for col in cols:\n",
    "    # Add a markdown cell before each plot for better separation and labeling\n",
    "    display(Markdown(f'### {col} over Time'))\n",
    "    plt.figure(figsize=(16, 10))\n",
    "    plt.plot(df_11_EYE['Timestamp'], df_11_EYE[col])\n",
    "    plt.xlabel(\"Timestamp\") # Add x-axis label\n",
    "    plt.ylabel(col) # Add y-axis label\n",
    "    plt.show()"
   ]
  },
  {
   "cell_type": "markdown",
   "id": "0b4f191e",
   "metadata": {
    "id": "f7ffd08f"
   },
   "source": [
    "# Observations from Time Series Plots\n",
    "\n",
    "The line plots showing various features against the `Timestamp` reveal the temporal patterns and fluctuations in the eye-tracking data. Key observations include:\n",
    "\n",
    "- **Gaze Coordinates (`ET_GazeLeftx`, `ET_GazeLefty`, `ET_GazeRightx`, `ET_GazeRighty`):** These plots show the changes in gaze position over time. We can observe periods of relatively stable gaze interspersed with rapid movements (saccades) and blinks or other events where the gaze data might be invalid (-1 values appear as gaps or spikes if not handled).\n",
    "- **Pupil Size (`ET_PupilLeft`, `ET_PupilRight`):** The pupil size plots show variations over time. The presence of many -1 values is evident as flat lines at the bottom of the plot, indicating periods where pupil data was not recorded or was invalid.\n",
    "- **Time Signal (`ET_TimeSignal`):** This plot shows a steady, increasing trend, as expected for a time-based signal.\n",
    "- **Distance and Camera Position (`ET_DistanceLeft`, `ET_DistanceRight`, `ET_CameraLeftX`, `ET_CameraLeftY`, `ET_CameraRightX`, `ET_CameraRightY`):** These plots show how the distance from the eye tracker and the camera positions change over time. Variations in these features can be related to head movements or changes in the user's position relative to the eye tracker.\n",
    "- **Validity (`ET_ValidityLeft`, `ET_ValidityRight`, `ET_PupilLeft_validity`, `ET_PupilRight_validity`):** These plots clearly show periods of invalid data (represented by 1) as spikes or plateaus, corresponding to instances where the eye tracker lost track of the eyes or the pupil data was marked as invalid.\n",
    "\n",
    "Analyzing these time series plots is crucial for understanding the dynamics of the eye-tracking data and identifying patterns or anomalies that may require further investigation or specific handling during subsequent analysis."
   ]
  },
  {
   "cell_type": "code",
   "execution_count": null,
   "id": "eceeac98",
   "metadata": {
    "id": "cdd85f8c"
   },
   "outputs": [],
   "source": [
    "# Select only the numeric columns for plotting histograms, excluding time-related columns\n",
    "numeric_cols = df_11_EYE.select_dtypes(include=np.number).columns\n",
    "\n",
    "# Calculate the number of rows and columns for the grid\n",
    "n_cols = 4  # You can adjust the number of columns as needed\n",
    "n_rows = (len(numeric_cols) + n_cols - 1) // n_cols\n",
    "\n",
    "plt.figure(figsize=(n_cols * 5, n_rows * 4)) # Adjust figure size as needed\n",
    "\n",
    "for i, col in enumerate(numeric_cols):\n",
    "    plt.subplot(n_rows, n_cols, i + 1)\n",
    "    sns.boxplot(df_11_EYE[col])\n",
    "    plt.title(f'Boxplot of {col}')\n",
    "    plt.xlabel(col)\n",
    "\n",
    "plt.tight_layout()\n",
    "plt.show()"
   ]
  },
  {
   "cell_type": "markdown",
   "id": "d64995cd",
   "metadata": {
    "id": "2cca19c5"
   },
   "source": [
    "# Observations from Boxplots and Handling -1 Values\n",
    "\n",
    "The boxplots provide a visual summary of the distribution and potential outliers for each numeric column. Key observations from the boxplots include:\n",
    "\n",
    "- The boxplots for columns like `ET_GazeLeftx`, `ET_GazeLefty`, `ET_GazeRightx`, `ET_GazeRighty`, `ET_PupilLeft`, `ET_PupilRight`, `ET_DistanceLeft`, `ET_DistanceRight`, `ET_CameraLeftX`, `ET_CameraLeftY`, `ET_CameraRightX`, and `ET_CameraRightY` clearly show the presence of -1 values as significant outliers, confirming our earlier observations from the heatmaps and histograms.\n",
    "- The boxplots for the validity columns (`ET_ValidityLeft`, `ET_ValidityRight`, `ET_PupilLeft_validity`, `ET_PupilRight_validity`) show the discrete nature of these features, with the majority of data points at 0 (valid) and a smaller number at 1 (invalid).\n",
    "\n",
    "Given the significant presence of -1 values, which represent invalid or missing data, especially in the pupil-related columns, we have decided to replace these -1 values with NaN to properly represent them as missing data. Subsequently, we will impute these missing values using the mean of each respective column. This approach helps to retain the data structure and allows for further analysis or modeling without the distortion caused by the -1 placeholders."
   ]
  },
  {
   "cell_type": "code",
   "execution_count": null,
   "id": "60b470b5",
   "metadata": {
    "id": "9217371b"
   },
   "outputs": [],
   "source": [
    "df_11_EYE.replace({-1: np.nan}, inplace=True)"
   ]
  },
  {
   "cell_type": "code",
   "execution_count": null,
   "id": "88add75d",
   "metadata": {
    "id": "8108fa01"
   },
   "outputs": [],
   "source": [
    "df_11_EYE[['ET_GazeLeftx', 'ET_GazeLefty',\n",
    "       'ET_GazeRightx', 'ET_GazeRighty', 'ET_PupilLeft', 'ET_PupilRight',\n",
    "       'ET_TimeSignal', 'ET_DistanceLeft', 'ET_DistanceRight',\n",
    "       'ET_CameraLeftX', 'ET_CameraLeftY', 'ET_CameraRightX',\n",
    "       'ET_CameraRightY', 'ET_ValidityLeft', 'ET_ValidityRight',\n",
    "       'ET_PupilLeft_validity', 'ET_PupilRight_validity']].mean()"
   ]
  },
  {
   "cell_type": "code",
   "execution_count": null,
   "id": "7c7b1843",
   "metadata": {
    "id": "9b94fbce"
   },
   "outputs": [],
   "source": [
    "df_11_EYE[['ET_GazeLeftx', 'ET_GazeLefty',\n",
    "       'ET_GazeRightx', 'ET_GazeRighty', 'ET_PupilLeft', 'ET_PupilRight',\n",
    "       'ET_TimeSignal', 'ET_DistanceLeft', 'ET_DistanceRight',\n",
    "       'ET_CameraLeftX', 'ET_CameraLeftY', 'ET_CameraRightX',\n",
    "       'ET_CameraRightY', 'ET_ValidityLeft', 'ET_ValidityRight',\n",
    "       'ET_PupilLeft_validity', 'ET_PupilRight_validity']].median()"
   ]
  },
  {
   "cell_type": "code",
   "execution_count": null,
   "id": "22f611b8",
   "metadata": {
    "id": "ee1238c8"
   },
   "outputs": [],
   "source": [
    "numeric_cols = df_11_EYE.select_dtypes(include=np.number).columns\n",
    "\n",
    "for col in numeric_cols:\n",
    "    df_11_EYE[col] = df_11_EYE[col].fillna(df_11_EYE[col].mean())"
   ]
  },
  {
   "cell_type": "code",
   "execution_count": null,
   "id": "c986ea64",
   "metadata": {
    "id": "b0bc522d"
   },
   "outputs": [],
   "source": [
    "plt.figure(figsize=(18, 8))\n",
    "\n",
    "plt.subplot(1, 2, 1)\n",
    "sns.heatmap(df_11_EYE.isnull(), cmap='viridis')\n",
    "plt.title('Heatmap of Missing Values After Imputation')\n",
    "\n",
    "plt.subplot(1, 2, 2)\n",
    "sns.heatmap(df_11_EYE == 1, cmap='viridis')\n",
    "plt.title('Heatmap of 1 Values')\n",
    "\n",
    "plt.tight_layout()\n",
    "plt.show()"
   ]
  },
  {
   "cell_type": "markdown",
   "id": "56a3b4d5",
   "metadata": {
    "id": "c0f1e10d"
   },
   "source": [
    "# Handling Missing Values (Imputation)\n",
    "\n",
    "As decided, we have replaced all the `-1` values with `NaN` to treat them as missing data. Subsequently, we have imputed these `NaN` values with the mean of their respective columns. The heatmap above, which was generated after the imputation, now shows no visible signs of `NaN` values, indicating that the imputation was successful."
   ]
  },
  {
   "cell_type": "code",
   "execution_count": null,
   "id": "9a2c9039",
   "metadata": {
    "id": "2491c1da"
   },
   "outputs": [],
   "source": [
    "df_11_EYE.head()"
   ]
  },
  {
   "cell_type": "code",
   "execution_count": null,
   "id": "b3b5daa5",
   "metadata": {
    "id": "64f04350"
   },
   "outputs": [],
   "source": [
    "# Select only the numeric columns for plotting histograms, excluding time-related columns\n",
    "numeric_cols = df_11_EYE.select_dtypes(include=np.number).columns\n",
    "cols_to_plot = [col for col in numeric_cols if col not in ['UnixTime']]\n",
    "\n",
    "# Calculate the number of rows and columns for the grid\n",
    "n_cols = 4  # You can adjust the number of columns as needed\n",
    "n_rows = (len(cols_to_plot) + n_cols - 1) // n_cols\n",
    "\n",
    "plt.figure(figsize=(n_cols * 5, n_rows * 4)) # Adjust figure size as needed\n",
    "\n",
    "for i, col in enumerate(cols_to_plot):\n",
    "    plt.subplot(n_rows, n_cols, i + 1)\n",
    "    sns.histplot(df_11_EYE[col], kde=True)\n",
    "    plt.title(f'Distribution of {col}')\n",
    "    plt.xlabel(col)\n",
    "    plt.ylabel('Frequency')\n",
    "\n",
    "plt.tight_layout()\n",
    "plt.show()"
   ]
  },
  {
   "cell_type": "markdown",
   "id": "065eb913",
   "metadata": {
    "id": "e0c83f1c"
   },
   "source": [
    "# Observations from Histograms After Imputation\n",
    "\n",
    "The histograms generated after replacing the -1 values with the mean of each column show the distributions of the numeric features with the missing data handled. Key observations from these updated histograms include:\n",
    "\n",
    "- The distinct peaks at -1, which were prominent in the histograms for several columns (e.g., pupil size, gaze coordinates, distance, and camera position) before imputation, are now replaced by a peak at the mean of each respective column.\n",
    "- The distributions in many columns now appear more unimodal or show shifted modes compared to the original histograms.\n",
    "- The histograms for the validity columns still show their bimodal distributions with peaks at 0 and 1, as these were handled separately.\n",
    "\n",
    "These histograms provide an updated view of the data's distribution after handling the missing values, highlighting the impact of the imputation method on the data's characteristics."
   ]
  },
  {
   "cell_type": "code",
   "execution_count": null,
   "id": "cda5f4e4",
   "metadata": {
    "id": "de0b2f65"
   },
   "outputs": [],
   "source": [
    "cols = ['ET_GazeLeftx', 'ET_GazeLefty',\n",
    "       'ET_GazeRightx', 'ET_GazeRighty', 'ET_PupilLeft', 'ET_PupilRight',\n",
    "       'ET_TimeSignal', 'ET_DistanceLeft', 'ET_DistanceRight',\n",
    "       'ET_CameraLeftX', 'ET_CameraLeftY', 'ET_CameraRightX',\n",
    "       'ET_CameraRightY', 'ET_ValidityLeft', 'ET_ValidityRight',\n",
    "       'ET_PupilLeft_validity', 'ET_PupilRight_validity']"
   ]
  },
  {
   "cell_type": "code",
   "execution_count": null,
   "id": "852570b1",
   "metadata": {
    "id": "4ddd4915"
   },
   "outputs": [],
   "source": [
    "for col in cols:\n",
    "    # Add a markdown cell before each plot for better separation and labeling\n",
    "    display(Markdown(f'### {col} over Time'))\n",
    "    plt.figure(figsize=(16, 10))\n",
    "    plt.plot(df_11_EYE['Timestamp'], df_11_EYE[col])\n",
    "    plt.xlabel(\"Timestamp\") # Add x-axis label\n",
    "    plt.ylabel(col) # Add y-axis label\n",
    "    plt.show()"
   ]
  },
  {
   "cell_type": "markdown",
   "id": "80871720",
   "metadata": {
    "id": "0fb07abb"
   },
   "source": [
    "# Observations from Time Series Plots After Imputation\n",
    "\n",
    "The line plots generated after imputing the missing values with the mean show the temporal patterns of the features with the missing data handled. Key observations from these updated plots include:\n",
    "\n",
    "- The gaps or flat lines at -1, which were prominent in the plots for columns like gaze coordinates, pupil size, distance, and camera position, are now filled by lines at the mean value of the respective columns.\n",
    "- The plots for the validity columns remain the same as they were handled separately.\n",
    "- The `ET_TimeSignal` plot still shows a steady increasing trend, as expected."
   ]
  },
  {
   "cell_type": "code",
   "execution_count": null,
   "id": "773c68db",
   "metadata": {
    "id": "c608fd95"
   },
   "outputs": [],
   "source": [
    "plt.figure(figsize=(16, 10))\n",
    "sns.heatmap(df_11_EYE.corr(numeric_only=True), cmap='YlGnBu', annot=True)\n",
    "plt.show()"
   ]
  },
  {
   "cell_type": "markdown",
   "id": "7479c0b0",
   "metadata": {
    "id": "82405ba6"
   },
   "source": [
    "# Observations from Correlation Heatmap\n",
    "\n",
    "The correlation heatmap provides a visual representation of the pairwise correlations between the numeric columns in the dataset. Key observations from the heatmap include:\n",
    "\n",
    "- **High Positive Correlations:** We observe strong positive correlations (values close to 1) between:\n",
    "  - `ET_GazeLeftx` and `ET_GazeRightx`: This is expected as the gaze positions of both eyes should be highly correlated when fixating on a point.\n",
    "  - `ET_GazeLefty` and `ET_GazeRighty`: Similar to the x-coordinates, the y-coordinates of gaze should also be highly correlated.\n",
    "  - `ET_PupilLeft` and `ET_PupilRight`: Pupil sizes of both eyes tend to change together in response to light and cognitive load.\n",
    "  - `ET_DistanceLeft` and `ET_DistanceRight`: The distance from the eye tracker to each eye should be highly correlated.\n",
    "  - `ET_CameraLeftX` and `ET_CameraRightX`, `ET_CameraLeftY` and `ET_CameraRightY`: The camera positions for both eyes are also expected to be highly correlated.\n",
    "  - `UnixTime` and `ET_TimeSignal`: As previously noted, these two columns are almost perfectly linearly correlated, indicating redundancy.\n",
    "  - `ET_ValidityLeft` and `ET_PupilLeft_validity`: There is a positive correlation, suggesting that when the overall left eye data is invalid, the left pupil data is also likely to be invalid.\n",
    "  - `ET_ValidityRight` and `ET_PupilRight_validity`: Similar to the left eye, there is a positive correlation between the overall right eye validity and the right pupil validity.\n",
    "- **Other Correlations:** We can also observe other varying degrees of correlations between different features, which can provide insights into the relationships between gaze behavior, pupil size, distance, and camera position. For example, there might be correlations between gaze coordinates and camera positions, reflecting head movements.\n",
    "- **Low or Near-Zero Correlations:** Columns with low or near-zero correlations are relatively independent of each other.\n",
    "\n",
    "Understanding these correlations is important for feature selection and for building models, as highly correlated features might indicate multicollinearity, while correlations between features can reveal underlying patterns in the data."
   ]
  },
  {
   "cell_type": "markdown",
   "id": "4650f438",
   "metadata": {
    "id": "1c413c3b"
   },
   "source": [
    "# Analysis of ET_TimeSignal and Decision to Drop\n",
    "\n",
    "As observed in the time series plot and confirmed by the correlation heatmap, the `ET_TimeSignal` column exhibits a near-perfect linear relationship with both the `Timestamp` and `UnixTime` columns. This strong correlation (close to 1) suggests that `ET_TimeSignal` is essentially redundant and likely represents another form of time recording or a signal directly derived from the timestamp.\n",
    "\n",
    "Including highly correlated features like this in a dataset can lead to issues such as multicollinearity in some statistical models, which can make it difficult to interpret the individual impact of each feature. Since the `Timestamp` column already provides the necessary temporal information, retaining `ET_TimeSignal` does not appear to add significant value for further analysis or modeling in most cases.\n",
    "\n",
    "Therefore, based on its high correlation and lack of unique insight, we will proceed to drop the `ET_TimeSignal` column to simplify the dataset and potentially improve the performance and interpretability of future analyses."
   ]
  },
  {
   "cell_type": "code",
   "execution_count": null,
   "id": "087bdae1",
   "metadata": {
    "id": "7c96e349"
   },
   "outputs": [],
   "source": [
    "df_11_EYE.drop('ET_TimeSignal', axis=1, inplace=True)"
   ]
  },
  {
   "cell_type": "code",
   "execution_count": null,
   "id": "1f085d08",
   "metadata": {
    "id": "5845a61d"
   },
   "outputs": [],
   "source": [
    "plt.figure(figsize=(16, 10))\n",
    "sns.pairplot(df_11_EYE)\n",
    "plt.show()"
   ]
  },
  {
   "cell_type": "markdown",
   "id": "81940255",
   "metadata": {
    "id": "sMcHS8LIOGeT"
   },
   "source": [
    "# **12_EYE**"
   ]
  },
  {
   "cell_type": "code",
   "execution_count": null,
   "id": "7353c456",
   "metadata": {
    "id": "L2tJooyROWnM"
   },
   "outputs": [],
   "source": []
  },
  {
   "cell_type": "code",
   "execution_count": null,
   "id": "c748bca4",
   "metadata": {
    "id": "6c647c4f"
   },
   "outputs": [],
   "source": [
    "df_12_EYE = pd.read_csv('data/STData/12/12_EYE.csv')"
   ]
  },
  {
   "cell_type": "code",
   "execution_count": null,
   "id": "f5e03039",
   "metadata": {
    "id": "c229bba7"
   },
   "outputs": [],
   "source": [
    "df_12_EYE.head()"
   ]
  },
  {
   "cell_type": "code",
   "execution_count": null,
   "id": "217b88a7",
   "metadata": {
    "id": "0ec8e716"
   },
   "outputs": [],
   "source": [
    "df_12_EYE.shape"
   ]
  },
  {
   "cell_type": "code",
   "execution_count": null,
   "id": "b5b4da9b",
   "metadata": {
    "id": "43ba37eb"
   },
   "outputs": [],
   "source": [
    "df_12_EYE.columns"
   ]
  },
  {
   "cell_type": "code",
   "execution_count": null,
   "id": "d06344b4",
   "metadata": {
    "id": "19f68fb4"
   },
   "outputs": [],
   "source": [
    "df_12_EYE.info()"
   ]
  },
  {
   "cell_type": "code",
   "execution_count": null,
   "id": "6d6f1d6d",
   "metadata": {
    "id": "603369d7"
   },
   "outputs": [],
   "source": [
    "df_12_EYE.isnull().sum()"
   ]
  },
  {
   "cell_type": "code",
   "execution_count": null,
   "id": "0cb1fe47",
   "metadata": {
    "id": "874353e3"
   },
   "outputs": [],
   "source": [
    "plt.figure(figsize=(12,8))\n",
    "sns.heatmap(df_12_EYE.isnull(), cmap='viridis')\n",
    "plt.show()"
   ]
  },
  {
   "cell_type": "markdown",
   "id": "039195fc",
   "metadata": {
    "id": "b17906e7"
   },
   "source": [
    "# Notes & Observations\n",
    "\n",
    "- We observe many **null** (or missing) values in the `QuestionKey` columns.\n",
    "- The nulls in the `QuestionKey` column may not represent “true” nulls. Rather, they follow interval patterns, suggesting that during those periods no question was displayed.\n",
    "- These missing values in `QuestionKey` require additional investigation and context-aware handling."
   ]
  },
  {
   "cell_type": "code",
   "execution_count": null,
   "id": "46ff1b07",
   "metadata": {
    "id": "1113779e"
   },
   "outputs": [],
   "source": [
    "df_12_EYE['QuestionKey'].unique()"
   ]
  },
  {
   "cell_type": "code",
   "execution_count": null,
   "id": "6f18e52f",
   "metadata": {
    "id": "db0a93a2"
   },
   "outputs": [],
   "source": [
    "df_12_EYE['Timestamp'] = pd.to_datetime(df_12_EYE['Timestamp'])"
   ]
  },
  {
   "cell_type": "code",
   "execution_count": null,
   "id": "2988a70b",
   "metadata": {
    "id": "03d57b0a"
   },
   "outputs": [],
   "source": [
    "df_12_EYE.head(3)"
   ]
  },
  {
   "cell_type": "code",
   "execution_count": null,
   "id": "934ef14b",
   "metadata": {
    "id": "c0004029"
   },
   "outputs": [],
   "source": [
    "df_12_EYE['QuestionKey'] = df_12_EYE['QuestionKey'].fillna('None')"
   ]
  },
  {
   "cell_type": "code",
   "execution_count": null,
   "id": "c0e5e185",
   "metadata": {
    "id": "dfb4729e"
   },
   "outputs": [],
   "source": [
    "df_12_EYE['QuestionKey'].value_counts()"
   ]
  },
  {
   "cell_type": "code",
   "execution_count": null,
   "id": "55da1ec1",
   "metadata": {
    "id": "9353c9d8"
   },
   "outputs": [],
   "source": [
    "plt.figure(figsize=(12,8))\n",
    "sns.heatmap(df_12_EYE.isnull(), cmap='viridis')\n",
    "plt.show()"
   ]
  },
  {
   "cell_type": "code",
   "execution_count": null,
   "id": "c17636ac",
   "metadata": {
    "id": "5c73d150"
   },
   "outputs": [],
   "source": [
    "df_12_EYE.isnull().sum()"
   ]
  },
  {
   "cell_type": "code",
   "execution_count": null,
   "id": "d431bb11",
   "metadata": {
    "id": "6c700142"
   },
   "outputs": [],
   "source": [
    "df_12_EYE.dropna(inplace=True)"
   ]
  },
  {
   "cell_type": "code",
   "execution_count": null,
   "id": "f2b14485",
   "metadata": {
    "id": "90a604ce"
   },
   "outputs": [],
   "source": [
    "df_12_EYE.head()"
   ]
  },
  {
   "cell_type": "code",
   "execution_count": null,
   "id": "68a8af03",
   "metadata": {
    "id": "a43a4283"
   },
   "outputs": [],
   "source": [
    "df_12_EYE['Row'].unique()"
   ]
  },
  {
   "cell_type": "code",
   "execution_count": null,
   "id": "c272936a",
   "metadata": {
    "id": "f66566f9"
   },
   "outputs": [],
   "source": [
    "plt.figure(figsize=(8,6))\n",
    "sns.histplot(df_12_EYE['Row'])\n",
    "plt.show()"
   ]
  },
  {
   "cell_type": "markdown",
   "id": "9df0ae21",
   "metadata": {
    "id": "5ddf40fd"
   },
   "source": [
    "# Notes & Observations\n",
    "\n",
    "- The `Row` column appears to be a simple row index and does not provide meaningful information relevant to the eye-tracking data itself. Therefore, it can be dropped."
   ]
  },
  {
   "cell_type": "code",
   "execution_count": null,
   "id": "d0778554",
   "metadata": {
    "id": "5aee4404"
   },
   "outputs": [],
   "source": [
    "df_12_EYE.drop('Row', axis=1, inplace=True)"
   ]
  },
  {
   "cell_type": "code",
   "execution_count": null,
   "id": "223f4982",
   "metadata": {
    "id": "827f3274"
   },
   "outputs": [],
   "source": [
    "df_12_EYE['ET_ValidityLeft'].unique()"
   ]
  },
  {
   "cell_type": "code",
   "execution_count": null,
   "id": "96bd6859",
   "metadata": {
    "id": "1437751a"
   },
   "outputs": [],
   "source": [
    "df_12_EYE['ET_ValidityLeft'].value_counts()"
   ]
  },
  {
   "cell_type": "code",
   "execution_count": null,
   "id": "bc7a0f23",
   "metadata": {
    "id": "d0a9ee4a"
   },
   "outputs": [],
   "source": [
    "df_12_EYE['ET_ValidityRight'].unique()"
   ]
  },
  {
   "cell_type": "code",
   "execution_count": null,
   "id": "5fb79790",
   "metadata": {
    "id": "55ddcc2b"
   },
   "outputs": [],
   "source": [
    "df_12_EYE['ET_ValidityRight'].value_counts()"
   ]
  },
  {
   "cell_type": "code",
   "execution_count": null,
   "id": "fe276db9",
   "metadata": {
    "id": "faef00be"
   },
   "outputs": [],
   "source": [
    "plt.figure(figsize=(12, 6))\n",
    "\n",
    "plt.subplot(1, 2, 1)\n",
    "sns.barplot(x=df_12_EYE['ET_ValidityLeft'].value_counts().index, y=df_12_EYE['ET_ValidityLeft'].value_counts().values)\n",
    "plt.title('Count of ET_ValidityLeft')\n",
    "plt.xlabel('Validity')\n",
    "plt.ylabel('Count')\n",
    "\n",
    "\n",
    "plt.subplot(1, 2, 2)\n",
    "sns.barplot(x=df_12_EYE['ET_ValidityRight'].value_counts().index, y=df_12_EYE['ET_ValidityRight'].value_counts().values)\n",
    "plt.title('Count of ET_ValidityRight')\n",
    "plt.xlabel('Validity')\n",
    "plt.ylabel('Count')\n",
    "\n",
    "plt.tight_layout()\n",
    "plt.show()"
   ]
  },
  {
   "cell_type": "markdown",
   "id": "98ba2662",
   "metadata": {
    "id": "b43706ea"
   },
   "source": [
    "# Notes & Observations\n",
    "\n",
    "- The `ET_ValidityLeft` and `ET_ValidityRight` columns indicate the validity of the eye-tracking data for the left and right eye, respectively.\n",
    "- Based on the value counts and the bar plots, it appears that a value of `0.0` represents valid eye-tracking data, while a value of `4.0` represents invalid data.\n",
    "- Although the amount of invalid data is relatively small, removing these rows could introduce unwanted patterns or gaps in the time series data.\n",
    "- Therefore, we will keep the data and replace the value `4.0` with `1.0` in both `ET_ValidityLeft` and `ET_ValidityRight` columns. This will indicate to a machine learning model that the eye tracker had invalid data at those specific points in time while maintaining the integrity of the time series."
   ]
  },
  {
   "cell_type": "markdown",
   "id": "9d269529",
   "metadata": {
    "id": "e9e671b2"
   },
   "source": [
    "Define a mapping to convert validity values from `0.0` and `4.0` to `0` and `1`."
   ]
  },
  {
   "cell_type": "code",
   "execution_count": null,
   "id": "56e5c5ce",
   "metadata": {
    "id": "08e7ed71"
   },
   "outputs": [],
   "source": [
    "validity_map = {4.0: 1.0, 0.0: 0.0}"
   ]
  },
  {
   "cell_type": "code",
   "execution_count": null,
   "id": "008ee881",
   "metadata": {
    "id": "0bba3ac0"
   },
   "outputs": [],
   "source": [
    "df_12_EYE['ET_ValidityLeft'] = df_12_EYE['ET_ValidityLeft'].map(validity_map).astype(np.int8)\n",
    "df_12_EYE['ET_ValidityRight'] = df_12_EYE['ET_ValidityRight'].map(validity_map).astype(np.int8)"
   ]
  },
  {
   "cell_type": "code",
   "execution_count": null,
   "id": "ed47733d",
   "metadata": {
    "id": "0ff3f16c"
   },
   "outputs": [],
   "source": [
    "df_12_EYE.head(3)"
   ]
  },
  {
   "cell_type": "code",
   "execution_count": null,
   "id": "3172c92c",
   "metadata": {
    "id": "32eb3225"
   },
   "outputs": [],
   "source": [
    "df_12_EYE.describe()"
   ]
  },
  {
   "cell_type": "code",
   "execution_count": null,
   "id": "5128cbf0",
   "metadata": {
    "id": "c1e092e1"
   },
   "outputs": [],
   "source": [
    "df_12_EYE[df_12_EYE['ET_ValidityLeft'] == 1].shape"
   ]
  },
  {
   "cell_type": "code",
   "execution_count": null,
   "id": "1b9922e0",
   "metadata": {
    "id": "8ebfb0cc"
   },
   "outputs": [],
   "source": [
    "df_12_EYE[df_12_EYE['ET_ValidityRight'] == 1].shape"
   ]
  },
  {
   "cell_type": "code",
   "execution_count": null,
   "id": "fb38d9f9",
   "metadata": {
    "id": "0d175df2"
   },
   "outputs": [],
   "source": [
    "df_12_EYE[df_12_EYE['ET_ValidityLeft'] == 1].shape[0] / df_12_EYE.shape[0]"
   ]
  },
  {
   "cell_type": "code",
   "execution_count": null,
   "id": "351b4038",
   "metadata": {
    "id": "54cc0f9e"
   },
   "outputs": [],
   "source": [
    "df_12_EYE[df_12_EYE['ET_ValidityRight'] == 1].shape[0] / df_12_EYE.shape[0]"
   ]
  },
  {
   "cell_type": "code",
   "execution_count": null,
   "id": "a05d370d",
   "metadata": {
    "id": "45c977c1"
   },
   "outputs": [],
   "source": [
    "plt.figure(figsize=(18, 8))\n",
    "\n",
    "plt.subplot(1, 2, 1)\n",
    "sns.heatmap(df_12_EYE == -1, cmap='viridis')\n",
    "plt.title('Heatmap of -1 Values')\n",
    "\n",
    "plt.subplot(1, 2, 2)\n",
    "sns.heatmap(df_12_EYE == 1, cmap='viridis')\n",
    "plt.title('Heatmap of 1 Values')\n",
    "\n",
    "plt.tight_layout()\n",
    "plt.show()"
   ]
  },
  {
   "cell_type": "code",
   "execution_count": null,
   "id": "cbe32d5b",
   "metadata": {
    "id": "3b98a13b"
   },
   "outputs": [],
   "source": [
    "df_12_EYE[df_12_EYE['ET_PupilLeft'] == -1].shape"
   ]
  },
  {
   "cell_type": "code",
   "execution_count": null,
   "id": "ac467907",
   "metadata": {
    "id": "a2f296f6"
   },
   "outputs": [],
   "source": [
    "df_12_EYE[df_12_EYE['ET_PupilRight'] == -1].shape"
   ]
  },
  {
   "cell_type": "code",
   "execution_count": null,
   "id": "51d43d29",
   "metadata": {
    "id": "42cff7eb"
   },
   "outputs": [],
   "source": [
    "df_12_EYE[df_12_EYE['ET_PupilLeft'] == -1].shape[0] / df_12_EYE.shape[0]"
   ]
  },
  {
   "cell_type": "code",
   "execution_count": null,
   "id": "a609b9cd",
   "metadata": {
    "id": "83c97903"
   },
   "outputs": [],
   "source": [
    "df_12_EYE[df_12_EYE['ET_PupilRight'] == -1].shape[0] / df_12_EYE.shape[0]"
   ]
  },
  {
   "cell_type": "code",
   "execution_count": null,
   "id": "ba01d039",
   "metadata": {
    "id": "6e176d63"
   },
   "outputs": [],
   "source": [
    "plt.figure(figsize=(18, 8))\n",
    "\n",
    "plt.subplot(1, 2, 1)\n",
    "sns.heatmap(df_12_EYE[df_12_EYE['ET_ValidityLeft'] == 1] == -1, cmap='viridis')\n",
    "plt.title('Heatmap of -1 Values')\n",
    "\n",
    "plt.subplot(1, 2, 2)\n",
    "sns.heatmap(df_12_EYE[df_12_EYE['ET_ValidityRight'] == 1] == -1, cmap='viridis')\n",
    "plt.title('Heatmap of -1 Values')\n",
    "\n",
    "plt.tight_layout()\n",
    "plt.show()"
   ]
  },
  {
   "cell_type": "markdown",
   "id": "47407ec3",
   "metadata": {
    "id": "fff8db39"
   },
   "source": [
    "# Notes & Observations\n",
    "\n",
    "- The heatmaps reveal the distribution of -1 values across different columns.\n",
    "- It is evident that the `-1` values are not randomly scattered but appear in specific columns, notably `ET_GazeLeftx`, `ET_GazeLefty`, `ET_GazeRightx`, `ET_GazeRighty`, `ET_PupilLeft`, `ET_PupilRight`, `ET_DistanceLeft`, `ET_DistanceRight`, `ET_CameraLeftX`, `ET_CameraLeftY`, `ET_CameraRightX`, and `ET_CameraRightY`.\n",
    "- These `-1` values often coincide with instances where `ET_ValidityLeft` or `ET_ValidityRight` is 1, indicating invalid eye-tracking data. This suggests that `-1` is used as a placeholder for missing or invalid measurements in these columns when the eye tracker is not providing valid data for a particular eye.\n",
    "- Given that over 70% of the data in the `ET_PupilLeft` and `ET_PupilRight` columns is marked as invalid (-1), so instead of dropping them we can create new feature for both the `ET_PupilLeft` and `ET_PupilRight` to represent which row consist invalid `ET_PupilLeft` and `ET_PupilRight` data"
   ]
  },
  {
   "cell_type": "code",
   "execution_count": null,
   "id": "8771a68c",
   "metadata": {
    "id": "cf7437aa"
   },
   "outputs": [],
   "source": [
    "pupil_validity = {-1: 1 }"
   ]
  },
  {
   "cell_type": "code",
   "execution_count": null,
   "id": "4ab46288",
   "metadata": {
    "id": "989b113d"
   },
   "outputs": [],
   "source": [
    "df_12_EYE['ET_PupilLeft_validity'] = df_12_EYE['ET_PupilLeft'].map(pupil_validity)"
   ]
  },
  {
   "cell_type": "code",
   "execution_count": null,
   "id": "8d117167",
   "metadata": {
    "id": "9ecdfbc0"
   },
   "outputs": [],
   "source": [
    "df_12_EYE['ET_PupilRight_validity'] = df_12_EYE['ET_PupilRight'].map(pupil_validity)"
   ]
  },
  {
   "cell_type": "code",
   "execution_count": null,
   "id": "4cff0d83",
   "metadata": {
    "id": "7f5d2b28"
   },
   "outputs": [],
   "source": [
    "df_12_EYE[['ET_PupilLeft_validity', 'ET_PupilRight_validity']].head()"
   ]
  },
  {
   "cell_type": "code",
   "execution_count": null,
   "id": "720cd87c",
   "metadata": {
    "id": "6a86c472"
   },
   "outputs": [],
   "source": [
    "df_12_EYE[['ET_PupilLeft_validity', 'ET_PupilRight_validity']].isnull().sum()"
   ]
  },
  {
   "cell_type": "code",
   "execution_count": null,
   "id": "fbb3cd6b",
   "metadata": {
    "id": "9121e4a8"
   },
   "outputs": [],
   "source": [
    "plt.figure(figsize=(18, 8))\n",
    "sns.heatmap(df_12_EYE[['ET_PupilLeft_validity', 'ET_PupilRight_validity']].isnull(), cmap='viridis')\n",
    "plt.show()"
   ]
  },
  {
   "cell_type": "code",
   "execution_count": null,
   "id": "24dd52ce",
   "metadata": {
    "id": "613a230a"
   },
   "outputs": [],
   "source": [
    "df_12_EYE['ET_PupilLeft_validity'] = df_12_EYE['ET_PupilLeft_validity'].fillna(0)"
   ]
  },
  {
   "cell_type": "code",
   "execution_count": null,
   "id": "cfb90e33",
   "metadata": {
    "id": "89ae7d3f"
   },
   "outputs": [],
   "source": [
    "df_12_EYE['ET_PupilRight_validity'] = df_12_EYE['ET_PupilRight_validity'].fillna(0)"
   ]
  },
  {
   "cell_type": "code",
   "execution_count": null,
   "id": "9d58ea76",
   "metadata": {
    "id": "a2c39f03"
   },
   "outputs": [],
   "source": [
    "df_12_EYE[['ET_PupilLeft_validity', 'ET_PupilRight_validity']].head()"
   ]
  },
  {
   "cell_type": "code",
   "execution_count": null,
   "id": "c1e93d95",
   "metadata": {
    "id": "6e9c2645"
   },
   "outputs": [],
   "source": [
    "plt.figure(figsize=(18, 8))\n",
    "sns.heatmap(df_12_EYE[['ET_PupilLeft_validity', 'ET_PupilRight_validity']].isnull(), cmap='viridis')\n",
    "plt.show()"
   ]
  },
  {
   "cell_type": "code",
   "execution_count": null,
   "id": "85a50518",
   "metadata": {
    "id": "7e52da92"
   },
   "outputs": [],
   "source": [
    "df_12_EYE.head()"
   ]
  },
  {
   "cell_type": "code",
   "execution_count": null,
   "id": "d856d480",
   "metadata": {
    "id": "1cefd42d"
   },
   "outputs": [],
   "source": [
    "plt.figure(figsize=(18, 8))\n",
    "\n",
    "plt.subplot(1, 2, 1)\n",
    "sns.heatmap(df_12_EYE == -1, cmap='viridis')\n",
    "plt.title('Heatmap of -1 Values')\n",
    "\n",
    "plt.subplot(1, 2, 2)\n",
    "sns.heatmap(df_12_EYE == 1, cmap='viridis')\n",
    "plt.title('Heatmap of -1 Values')\n",
    "\n",
    "plt.tight_layout()\n",
    "plt.show()"
   ]
  },
  {
   "cell_type": "code",
   "execution_count": null,
   "id": "21ba9a78",
   "metadata": {
    "id": "dcf38f27"
   },
   "outputs": [],
   "source": [
    "valid_left_ratio  = 1 - df_12_EYE['ET_ValidityLeft'].mean()"
   ]
  },
  {
   "cell_type": "code",
   "execution_count": null,
   "id": "cb3b8236",
   "metadata": {
    "id": "2aea00ec"
   },
   "outputs": [],
   "source": [
    "valid_left_ratio"
   ]
  },
  {
   "cell_type": "code",
   "execution_count": null,
   "id": "3b9abf41",
   "metadata": {
    "id": "19ac306c"
   },
   "outputs": [],
   "source": [
    "valid_right_ratio = 1 - df_12_EYE['ET_ValidityRight'].mean()"
   ]
  },
  {
   "cell_type": "code",
   "execution_count": null,
   "id": "a51da2cd",
   "metadata": {
    "id": "4f0aa48e"
   },
   "outputs": [],
   "source": [
    "valid_right_ratio"
   ]
  },
  {
   "cell_type": "code",
   "execution_count": null,
   "id": "c175f5f7",
   "metadata": {
    "id": "a000b670"
   },
   "outputs": [],
   "source": [
    "df_12_EYE['ET_PupilLeft_validity'] = df_12_EYE['ET_PupilLeft_validity'].astype(np.int8)\n",
    "df_12_EYE['ET_PupilRight_validity'] = df_12_EYE['ET_PupilRight_validity'].astype(np.int8)"
   ]
  },
  {
   "cell_type": "markdown",
   "id": "b33f5504",
   "metadata": {
    "id": "6acf6847"
   },
   "source": [
    "# Feature Engineering and Observations\n",
    "\n",
    "Based on the analysis of the data, we've created two new features, `ET_PupilLeft_validity` and `ET_PupilRight_validity`. These features indicate the validity of the pupil data for the left and right eyes, respectively, with a value of 1 representing invalid data (originally -1) and 0 representing valid data.\n",
    "\n",
    "The heatmaps above visually demonstrate the distribution of -1 and 1 values across the dataset. We observed that:\n",
    "- The `-1` values are concentrated in specific columns related to gaze, pupil size, distance, and camera position, suggesting they represent missing or invalid sensor readings.\n",
    "- The `1` values, after mapping from `4.0` in the original validity columns, indicate instances of invalid eye-tracking data.\n",
    "- The heatmaps also show a strong correlation between the `-1` values in the pupil columns and a validity of 1 in the newly created pupil validity features, confirming that -1 was used to mark invalid pupil data."
   ]
  },
  {
   "cell_type": "code",
   "execution_count": null,
   "id": "66fce37f",
   "metadata": {
    "id": "de9f2594"
   },
   "outputs": [],
   "source": [
    "df_12_EYE.head()"
   ]
  },
  {
   "cell_type": "code",
   "execution_count": null,
   "id": "d8c6e82c",
   "metadata": {
    "id": "bfa2e174"
   },
   "outputs": [],
   "source": [
    "# Select only the numeric columns for plotting histograms, excluding time-related columns\n",
    "numeric_cols = df_12_EYE.select_dtypes(include=np.number).columns\n",
    "cols_to_plot = [col for col in numeric_cols if col not in ['UnixTime']]\n",
    "\n",
    "# Calculate the number of rows and columns for the grid\n",
    "n_cols = 4  # You can adjust the number of columns as needed\n",
    "n_rows = (len(cols_to_plot) + n_cols - 1) // n_cols\n",
    "\n",
    "plt.figure(figsize=(n_cols * 5, n_rows * 4)) # Adjust figure size as needed\n",
    "\n",
    "for i, col in enumerate(cols_to_plot):\n",
    "    plt.subplot(n_rows, n_cols, i + 1)\n",
    "    sns.histplot(df_12_EYE[col], kde=True)\n",
    "    plt.title(f'Distribution of {col}')\n",
    "    plt.xlabel(col)\n",
    "    plt.ylabel('Frequency')\n",
    "\n",
    "plt.tight_layout()\n",
    "plt.show()"
   ]
  },
  {
   "cell_type": "markdown",
   "id": "b978d5ee",
   "metadata": {
    "id": "8059766d"
   },
   "source": [
    "# Observations from Histograms\n",
    "\n",
    "The grid of histograms provides insights into the distribution of values for each numeric column in the dataset (excluding 'UnixTime'). Key observations include:\n",
    "\n",
    "- Several columns, such as `ET_GazeLeftx`, `ET_GazeLefty`, `ET_GazeRightx`, and `ET_GazeRighty`, show distributions that appear somewhat multimodal or skewed, suggesting variations in gaze patterns.\n",
    "- The `ET_PupilLeft` and `ET_PupilRight` histograms clearly show a peak at -1, confirming the presence of a significant number of invalid pupil readings.\n",
    "- `ET_TimeSignal` shows a relatively uniform distribution, as expected for a time-based signal.\n",
    "- `ET_DistanceLeft` and `ET_DistanceRight` appear to have distributions centered around certain values, with some outliers or variations.\n",
    "- The camera position columns (`ET_CameraLeftX`, `ET_CameraLeftY`, `ET_CameraRightX`, `ET_CameraRightY`) seem to have distributions concentrated within specific ranges, reflecting the camera's field of view.\n",
    "- The validity columns (`ET_ValidityLeft`, `ET_ValidityRight`, `ET_PupilLeft_validity`, `ET_PupilRight_validity`) show distributions dominated by 0, indicating that most of the data is considered valid after the mapping. The smaller peaks at 1 represent the instances of invalid data.\n",
    "\n",
    "These distributions highlight the need for appropriate handling of the -1 values and potential outliers in subsequent analysis or modeling steps."
   ]
  },
  {
   "cell_type": "code",
   "execution_count": null,
   "id": "0a744e52",
   "metadata": {
    "id": "cb65ae1e"
   },
   "outputs": [],
   "source": [
    "df_12_EYE.columns"
   ]
  },
  {
   "cell_type": "code",
   "execution_count": null,
   "id": "c3dbce14",
   "metadata": {
    "id": "8cf2280c"
   },
   "outputs": [],
   "source": [
    "cols = ['ET_GazeLeftx', 'ET_GazeLefty',\n",
    "       'ET_GazeRightx', 'ET_GazeRighty', 'ET_PupilLeft', 'ET_PupilRight',\n",
    "       'ET_TimeSignal', 'ET_DistanceLeft', 'ET_DistanceRight',\n",
    "       'ET_CameraLeftX', 'ET_CameraLeftY', 'ET_CameraRightX',\n",
    "       'ET_CameraRightY', 'ET_ValidityLeft', 'ET_ValidityRight',\n",
    "       'ET_PupilLeft_validity', 'ET_PupilRight_validity']"
   ]
  },
  {
   "cell_type": "code",
   "execution_count": null,
   "id": "ba857a0e",
   "metadata": {
    "id": "85e45ea9"
   },
   "outputs": [],
   "source": [
    "from IPython.display import display, Markdown\n",
    "\n",
    "for col in cols:\n",
    "    # Add a markdown cell before each plot for better separation and labeling\n",
    "    display(Markdown(f'### {col} over Time'))\n",
    "    plt.figure(figsize=(16, 10))\n",
    "    plt.plot(df_12_EYE['Timestamp'], df_12_EYE[col])\n",
    "    plt.xlabel(\"Timestamp\") # Add x-axis label\n",
    "    plt.ylabel(col) # Add y-axis label\n",
    "    plt.show()"
   ]
  },
  {
   "cell_type": "markdown",
   "id": "62eecc6a",
   "metadata": {
    "id": "f7ffd08f"
   },
   "source": [
    "# Observations from Time Series Plots\n",
    "\n",
    "The line plots showing various features against the `Timestamp` reveal the temporal patterns and fluctuations in the eye-tracking data. Key observations include:\n",
    "\n",
    "- **Gaze Coordinates (`ET_GazeLeftx`, `ET_GazeLefty`, `ET_GazeRightx`, `ET_GazeRighty`):** These plots show the changes in gaze position over time. We can observe periods of relatively stable gaze interspersed with rapid movements (saccades) and blinks or other events where the gaze data might be invalid (-1 values appear as gaps or spikes if not handled).\n",
    "- **Pupil Size (`ET_PupilLeft`, `ET_PupilRight`):** The pupil size plots show variations over time. The presence of many -1 values is evident as flat lines at the bottom of the plot, indicating periods where pupil data was not recorded or was invalid.\n",
    "- **Time Signal (`ET_TimeSignal`):** This plot shows a steady, increasing trend, as expected for a time-based signal.\n",
    "- **Distance and Camera Position (`ET_DistanceLeft`, `ET_DistanceRight`, `ET_CameraLeftX`, `ET_CameraLeftY`, `ET_CameraRightX`, `ET_CameraRightY`):** These plots show how the distance from the eye tracker and the camera positions change over time. Variations in these features can be related to head movements or changes in the user's position relative to the eye tracker.\n",
    "- **Validity (`ET_ValidityLeft`, `ET_ValidityRight`, `ET_PupilLeft_validity`, `ET_PupilRight_validity`):** These plots clearly show periods of invalid data (represented by 1) as spikes or plateaus, corresponding to instances where the eye tracker lost track of the eyes or the pupil data was marked as invalid.\n",
    "\n",
    "Analyzing these time series plots is crucial for understanding the dynamics of the eye-tracking data and identifying patterns or anomalies that may require further investigation or specific handling during subsequent analysis."
   ]
  },
  {
   "cell_type": "code",
   "execution_count": null,
   "id": "d5dab822",
   "metadata": {
    "id": "cdd85f8c"
   },
   "outputs": [],
   "source": [
    "# Select only the numeric columns for plotting histograms, excluding time-related columns\n",
    "numeric_cols = df_12_EYE.select_dtypes(include=np.number).columns\n",
    "\n",
    "# Calculate the number of rows and columns for the grid\n",
    "n_cols = 4  # You can adjust the number of columns as needed\n",
    "n_rows = (len(numeric_cols) + n_cols - 1) // n_cols\n",
    "\n",
    "plt.figure(figsize=(n_cols * 5, n_rows * 4)) # Adjust figure size as needed\n",
    "\n",
    "for i, col in enumerate(numeric_cols):\n",
    "    plt.subplot(n_rows, n_cols, i + 1)\n",
    "    sns.boxplot(df_12_EYE[col])\n",
    "    plt.title(f'Boxplot of {col}')\n",
    "    plt.xlabel(col)\n",
    "\n",
    "plt.tight_layout()\n",
    "plt.show()"
   ]
  },
  {
   "cell_type": "markdown",
   "id": "e461fa17",
   "metadata": {
    "id": "2cca19c5"
   },
   "source": [
    "# Observations from Boxplots and Handling -1 Values\n",
    "\n",
    "The boxplots provide a visual summary of the distribution and potential outliers for each numeric column. Key observations from the boxplots include:\n",
    "\n",
    "- The boxplots for columns like `ET_GazeLeftx`, `ET_GazeLefty`, `ET_GazeRightx`, `ET_GazeRighty`, `ET_PupilLeft`, `ET_PupilRight`, `ET_DistanceLeft`, `ET_DistanceRight`, `ET_CameraLeftX`, `ET_CameraLeftY`, `ET_CameraRightX`, and `ET_CameraRightY` clearly show the presence of -1 values as significant outliers, confirming our earlier observations from the heatmaps and histograms.\n",
    "- The boxplots for the validity columns (`ET_ValidityLeft`, `ET_ValidityRight`, `ET_PupilLeft_validity`, `ET_PupilRight_validity`) show the discrete nature of these features, with the majority of data points at 0 (valid) and a smaller number at 1 (invalid).\n",
    "\n",
    "Given the significant presence of -1 values, which represent invalid or missing data, especially in the pupil-related columns, we have decided to replace these -1 values with NaN to properly represent them as missing data. Subsequently, we will impute these missing values using the mean of each respective column. This approach helps to retain the data structure and allows for further analysis or modeling without the distortion caused by the -1 placeholders."
   ]
  },
  {
   "cell_type": "code",
   "execution_count": null,
   "id": "bfa41fc9",
   "metadata": {
    "id": "9217371b"
   },
   "outputs": [],
   "source": [
    "df_12_EYE.replace({-1: np.nan}, inplace=True)"
   ]
  },
  {
   "cell_type": "code",
   "execution_count": null,
   "id": "7791d4fb",
   "metadata": {
    "id": "8108fa01"
   },
   "outputs": [],
   "source": [
    "df_12_EYE[['ET_GazeLeftx', 'ET_GazeLefty',\n",
    "       'ET_GazeRightx', 'ET_GazeRighty', 'ET_PupilLeft', 'ET_PupilRight',\n",
    "       'ET_TimeSignal', 'ET_DistanceLeft', 'ET_DistanceRight',\n",
    "       'ET_CameraLeftX', 'ET_CameraLeftY', 'ET_CameraRightX',\n",
    "       'ET_CameraRightY', 'ET_ValidityLeft', 'ET_ValidityRight',\n",
    "       'ET_PupilLeft_validity', 'ET_PupilRight_validity']].mean()"
   ]
  },
  {
   "cell_type": "code",
   "execution_count": null,
   "id": "523aee29",
   "metadata": {
    "id": "9b94fbce"
   },
   "outputs": [],
   "source": [
    "df_12_EYE[['ET_GazeLeftx', 'ET_GazeLefty',\n",
    "       'ET_GazeRightx', 'ET_GazeRighty', 'ET_PupilLeft', 'ET_PupilRight',\n",
    "       'ET_TimeSignal', 'ET_DistanceLeft', 'ET_DistanceRight',\n",
    "       'ET_CameraLeftX', 'ET_CameraLeftY', 'ET_CameraRightX',\n",
    "       'ET_CameraRightY', 'ET_ValidityLeft', 'ET_ValidityRight',\n",
    "       'ET_PupilLeft_validity', 'ET_PupilRight_validity']].median()"
   ]
  },
  {
   "cell_type": "code",
   "execution_count": null,
   "id": "af3972bc",
   "metadata": {
    "id": "ee1238c8"
   },
   "outputs": [],
   "source": [
    "numeric_cols = df_12_EYE.select_dtypes(include=np.number).columns\n",
    "\n",
    "for col in numeric_cols:\n",
    "    df_12_EYE[col] = df_12_EYE[col].fillna(df_12_EYE[col].mean())"
   ]
  },
  {
   "cell_type": "code",
   "execution_count": null,
   "id": "497f3c11",
   "metadata": {
    "id": "b0bc522d"
   },
   "outputs": [],
   "source": [
    "plt.figure(figsize=(18, 8))\n",
    "\n",
    "plt.subplot(1, 2, 1)\n",
    "sns.heatmap(df_12_EYE.isnull(), cmap='viridis')\n",
    "plt.title('Heatmap of Missing Values After Imputation')\n",
    "\n",
    "plt.subplot(1, 2, 2)\n",
    "sns.heatmap(df_12_EYE == 1, cmap='viridis')\n",
    "plt.title('Heatmap of 1 Values')\n",
    "\n",
    "plt.tight_layout()\n",
    "plt.show()"
   ]
  },
  {
   "cell_type": "markdown",
   "id": "7213c164",
   "metadata": {
    "id": "c0f1e10d"
   },
   "source": [
    "# Handling Missing Values (Imputation)\n",
    "\n",
    "As decided, we have replaced all the `-1` values with `NaN` to treat them as missing data. Subsequently, we have imputed these `NaN` values with the mean of their respective columns. The heatmap above, which was generated after the imputation, now shows no visible signs of `NaN` values, indicating that the imputation was successful."
   ]
  },
  {
   "cell_type": "code",
   "execution_count": null,
   "id": "dfa72e9b",
   "metadata": {
    "id": "2491c1da"
   },
   "outputs": [],
   "source": [
    "df_12_EYE.head()"
   ]
  },
  {
   "cell_type": "code",
   "execution_count": null,
   "id": "7a0c2e39",
   "metadata": {
    "id": "64f04350"
   },
   "outputs": [],
   "source": [
    "# Select only the numeric columns for plotting histograms, excluding time-related columns\n",
    "numeric_cols = df_12_EYE.select_dtypes(include=np.number).columns\n",
    "cols_to_plot = [col for col in numeric_cols if col not in ['UnixTime']]\n",
    "\n",
    "# Calculate the number of rows and columns for the grid\n",
    "n_cols = 4  # You can adjust the number of columns as needed\n",
    "n_rows = (len(cols_to_plot) + n_cols - 1) // n_cols\n",
    "\n",
    "plt.figure(figsize=(n_cols * 5, n_rows * 4)) # Adjust figure size as needed\n",
    "\n",
    "for i, col in enumerate(cols_to_plot):\n",
    "    plt.subplot(n_rows, n_cols, i + 1)\n",
    "    sns.histplot(df_12_EYE[col], kde=True)\n",
    "    plt.title(f'Distribution of {col}')\n",
    "    plt.xlabel(col)\n",
    "    plt.ylabel('Frequency')\n",
    "\n",
    "plt.tight_layout()\n",
    "plt.show()"
   ]
  },
  {
   "cell_type": "markdown",
   "id": "d5379385",
   "metadata": {
    "id": "e0c83f1c"
   },
   "source": [
    "# Observations from Histograms After Imputation\n",
    "\n",
    "The histograms generated after replacing the -1 values with the mean of each column show the distributions of the numeric features with the missing data handled. Key observations from these updated histograms include:\n",
    "\n",
    "- The distinct peaks at -1, which were prominent in the histograms for several columns (e.g., pupil size, gaze coordinates, distance, and camera position) before imputation, are now replaced by a peak at the mean of each respective column.\n",
    "- The distributions in many columns now appear more unimodal or show shifted modes compared to the original histograms.\n",
    "- The histograms for the validity columns still show their bimodal distributions with peaks at 0 and 1, as these were handled separately.\n",
    "\n",
    "These histograms provide an updated view of the data's distribution after handling the missing values, highlighting the impact of the imputation method on the data's characteristics."
   ]
  },
  {
   "cell_type": "code",
   "execution_count": null,
   "id": "25d77caa",
   "metadata": {
    "id": "de0b2f65"
   },
   "outputs": [],
   "source": [
    "cols = ['ET_GazeLeftx', 'ET_GazeLefty',\n",
    "       'ET_GazeRightx', 'ET_GazeRighty', 'ET_PupilLeft', 'ET_PupilRight',\n",
    "       'ET_TimeSignal', 'ET_DistanceLeft', 'ET_DistanceRight',\n",
    "       'ET_CameraLeftX', 'ET_CameraLeftY', 'ET_CameraRightX',\n",
    "       'ET_CameraRightY', 'ET_ValidityLeft', 'ET_ValidityRight',\n",
    "       'ET_PupilLeft_validity', 'ET_PupilRight_validity']"
   ]
  },
  {
   "cell_type": "code",
   "execution_count": null,
   "id": "ba7cc599",
   "metadata": {
    "id": "4ddd4915"
   },
   "outputs": [],
   "source": [
    "for col in cols:\n",
    "    # Add a markdown cell before each plot for better separation and labeling\n",
    "    display(Markdown(f'### {col} over Time'))\n",
    "    plt.figure(figsize=(16, 10))\n",
    "    plt.plot(df_12_EYE['Timestamp'], df_12_EYE[col])\n",
    "    plt.xlabel(\"Timestamp\") # Add x-axis label\n",
    "    plt.ylabel(col) # Add y-axis label\n",
    "    plt.show()"
   ]
  },
  {
   "cell_type": "markdown",
   "id": "aa5d614c",
   "metadata": {
    "id": "0fb07abb"
   },
   "source": [
    "# Observations from Time Series Plots After Imputation\n",
    "\n",
    "The line plots generated after imputing the missing values with the mean show the temporal patterns of the features with the missing data handled. Key observations from these updated plots include:\n",
    "\n",
    "- The gaps or flat lines at -1, which were prominent in the plots for columns like gaze coordinates, pupil size, distance, and camera position, are now filled by lines at the mean value of the respective columns.\n",
    "- The plots for the validity columns remain the same as they were handled separately.\n",
    "- The `ET_TimeSignal` plot still shows a steady increasing trend, as expected."
   ]
  },
  {
   "cell_type": "code",
   "execution_count": null,
   "id": "20359ab7",
   "metadata": {
    "id": "c608fd95"
   },
   "outputs": [],
   "source": [
    "plt.figure(figsize=(16, 10))\n",
    "sns.heatmap(df_12_EYE.corr(numeric_only=True), cmap='YlGnBu', annot=True)\n",
    "plt.show()"
   ]
  },
  {
   "cell_type": "markdown",
   "id": "407e941f",
   "metadata": {
    "id": "82405ba6"
   },
   "source": [
    "# Observations from Correlation Heatmap\n",
    "\n",
    "The correlation heatmap provides a visual representation of the pairwise correlations between the numeric columns in the dataset. Key observations from the heatmap include:\n",
    "\n",
    "- **High Positive Correlations:** We observe strong positive correlations (values close to 1) between:\n",
    "  - `ET_GazeLeftx` and `ET_GazeRightx`: This is expected as the gaze positions of both eyes should be highly correlated when fixating on a point.\n",
    "  - `ET_GazeLefty` and `ET_GazeRighty`: Similar to the x-coordinates, the y-coordinates of gaze should also be highly correlated.\n",
    "  - `ET_PupilLeft` and `ET_PupilRight`: Pupil sizes of both eyes tend to change together in response to light and cognitive load.\n",
    "  - `ET_DistanceLeft` and `ET_DistanceRight`: The distance from the eye tracker to each eye should be highly correlated.\n",
    "  - `ET_CameraLeftX` and `ET_CameraRightX`, `ET_CameraLeftY` and `ET_CameraRightY`: The camera positions for both eyes are also expected to be highly correlated.\n",
    "  - `UnixTime` and `ET_TimeSignal`: As previously noted, these two columns are almost perfectly linearly correlated, indicating redundancy.\n",
    "  - `ET_ValidityLeft` and `ET_PupilLeft_validity`: There is a positive correlation, suggesting that when the overall left eye data is invalid, the left pupil data is also likely to be invalid.\n",
    "  - `ET_ValidityRight` and `ET_PupilRight_validity`: Similar to the left eye, there is a positive correlation between the overall right eye validity and the right pupil validity.\n",
    "- **Other Correlations:** We can also observe other varying degrees of correlations between different features, which can provide insights into the relationships between gaze behavior, pupil size, distance, and camera position. For example, there might be correlations between gaze coordinates and camera positions, reflecting head movements.\n",
    "- **Low or Near-Zero Correlations:** Columns with low or near-zero correlations are relatively independent of each other.\n",
    "\n",
    "Understanding these correlations is important for feature selection and for building models, as highly correlated features might indicate multicollinearity, while correlations between features can reveal underlying patterns in the data."
   ]
  },
  {
   "cell_type": "markdown",
   "id": "6a8dcf24",
   "metadata": {
    "id": "1c413c3b"
   },
   "source": [
    "# Analysis of ET_TimeSignal and Decision to Drop\n",
    "\n",
    "As observed in the time series plot and confirmed by the correlation heatmap, the `ET_TimeSignal` column exhibits a near-perfect linear relationship with both the `Timestamp` and `UnixTime` columns. This strong correlation (close to 1) suggests that `ET_TimeSignal` is essentially redundant and likely represents another form of time recording or a signal directly derived from the timestamp.\n",
    "\n",
    "Including highly correlated features like this in a dataset can lead to issues such as multicollinearity in some statistical models, which can make it difficult to interpret the individual impact of each feature. Since the `Timestamp` column already provides the necessary temporal information, retaining `ET_TimeSignal` does not appear to add significant value for further analysis or modeling in most cases.\n",
    "\n",
    "Therefore, based on its high correlation and lack of unique insight, we will proceed to drop the `ET_TimeSignal` column to simplify the dataset and potentially improve the performance and interpretability of future analyses."
   ]
  },
  {
   "cell_type": "code",
   "execution_count": null,
   "id": "64fac110",
   "metadata": {
    "id": "7c96e349"
   },
   "outputs": [],
   "source": [
    "df_12_EYE.drop('ET_TimeSignal', axis=1, inplace=True)"
   ]
  },
  {
   "cell_type": "code",
   "execution_count": null,
   "id": "54d271d3",
   "metadata": {
    "id": "5845a61d"
   },
   "outputs": [],
   "source": [
    "plt.figure(figsize=(16, 10))\n",
    "sns.pairplot(df_12_EYE)\n",
    "plt.show()"
   ]
  },
  {
   "cell_type": "markdown",
   "id": "9bad9dd8",
   "metadata": {
    "id": "sMcHS8LIOGeT"
   },
   "source": [
    "# **13_EYE**"
   ]
  },
  {
   "cell_type": "code",
   "execution_count": null,
   "id": "385ec8ea",
   "metadata": {
    "id": "L2tJooyROWnM"
   },
   "outputs": [],
   "source": []
  },
  {
   "cell_type": "code",
   "execution_count": null,
   "id": "7ff9df4e",
   "metadata": {
    "id": "6c647c4f"
   },
   "outputs": [],
   "source": [
    "df_13_EYE = pd.read_csv('data/STData/13/13_EYE.csv')"
   ]
  },
  {
   "cell_type": "code",
   "execution_count": null,
   "id": "3824a3f7",
   "metadata": {
    "id": "c229bba7"
   },
   "outputs": [],
   "source": [
    "df_13_EYE.head()"
   ]
  },
  {
   "cell_type": "code",
   "execution_count": null,
   "id": "22067673",
   "metadata": {
    "id": "0ec8e716"
   },
   "outputs": [],
   "source": [
    "df_13_EYE.shape"
   ]
  },
  {
   "cell_type": "code",
   "execution_count": null,
   "id": "25078e6d",
   "metadata": {
    "id": "43ba37eb"
   },
   "outputs": [],
   "source": [
    "df_13_EYE.columns"
   ]
  },
  {
   "cell_type": "code",
   "execution_count": null,
   "id": "bf74c0c5",
   "metadata": {
    "id": "19f68fb4"
   },
   "outputs": [],
   "source": [
    "df_13_EYE.info()"
   ]
  },
  {
   "cell_type": "code",
   "execution_count": null,
   "id": "2ab6c651",
   "metadata": {
    "id": "603369d7"
   },
   "outputs": [],
   "source": [
    "df_13_EYE.isnull().sum()"
   ]
  },
  {
   "cell_type": "code",
   "execution_count": null,
   "id": "7bcaec2b",
   "metadata": {
    "id": "874353e3"
   },
   "outputs": [],
   "source": [
    "plt.figure(figsize=(12,8))\n",
    "sns.heatmap(df_13_EYE.isnull(), cmap='viridis')\n",
    "plt.show()"
   ]
  },
  {
   "cell_type": "markdown",
   "id": "e2ff758c",
   "metadata": {
    "id": "b17906e7"
   },
   "source": [
    "# Notes & Observations\n",
    "\n",
    "- We observe many **null** (or missing) values in the `QuestionKey` columns.\n",
    "- The nulls in the `QuestionKey` column may not represent “true” nulls. Rather, they follow interval patterns, suggesting that during those periods no question was displayed.\n",
    "- These missing values in `QuestionKey` require additional investigation and context-aware handling."
   ]
  },
  {
   "cell_type": "code",
   "execution_count": null,
   "id": "85150ce1",
   "metadata": {
    "id": "1113779e"
   },
   "outputs": [],
   "source": [
    "df_13_EYE['QuestionKey'].unique()"
   ]
  },
  {
   "cell_type": "code",
   "execution_count": null,
   "id": "a3e966b2",
   "metadata": {
    "id": "db0a93a2"
   },
   "outputs": [],
   "source": [
    "df_13_EYE['Timestamp'] = pd.to_datetime(df_13_EYE['Timestamp'])"
   ]
  },
  {
   "cell_type": "code",
   "execution_count": null,
   "id": "e770e176",
   "metadata": {
    "id": "03d57b0a"
   },
   "outputs": [],
   "source": [
    "df_13_EYE.head(3)"
   ]
  },
  {
   "cell_type": "code",
   "execution_count": null,
   "id": "3eebb1aa",
   "metadata": {
    "id": "c0004029"
   },
   "outputs": [],
   "source": [
    "df_13_EYE['QuestionKey'] = df_13_EYE['QuestionKey'].fillna('None')"
   ]
  },
  {
   "cell_type": "code",
   "execution_count": null,
   "id": "9d98e05e",
   "metadata": {
    "id": "dfb4729e"
   },
   "outputs": [],
   "source": [
    "df_13_EYE['QuestionKey'].value_counts()"
   ]
  },
  {
   "cell_type": "code",
   "execution_count": null,
   "id": "746d33d4",
   "metadata": {
    "id": "9353c9d8"
   },
   "outputs": [],
   "source": [
    "plt.figure(figsize=(12,8))\n",
    "sns.heatmap(df_13_EYE.isnull(), cmap='viridis')\n",
    "plt.show()"
   ]
  },
  {
   "cell_type": "code",
   "execution_count": null,
   "id": "3424a527",
   "metadata": {
    "id": "5c73d150"
   },
   "outputs": [],
   "source": [
    "df_13_EYE.isnull().sum()"
   ]
  },
  {
   "cell_type": "code",
   "execution_count": null,
   "id": "1ee9b740",
   "metadata": {
    "id": "6c700142"
   },
   "outputs": [],
   "source": [
    "df_13_EYE.dropna(inplace=True)"
   ]
  },
  {
   "cell_type": "code",
   "execution_count": null,
   "id": "3e7375f5",
   "metadata": {
    "id": "90a604ce"
   },
   "outputs": [],
   "source": [
    "df_13_EYE.head()"
   ]
  },
  {
   "cell_type": "code",
   "execution_count": null,
   "id": "b3cf34a2",
   "metadata": {
    "id": "a43a4283"
   },
   "outputs": [],
   "source": [
    "df_13_EYE['Row'].unique()"
   ]
  },
  {
   "cell_type": "code",
   "execution_count": null,
   "id": "d3af1e4e",
   "metadata": {
    "id": "f66566f9"
   },
   "outputs": [],
   "source": [
    "plt.figure(figsize=(8,6))\n",
    "sns.histplot(df_13_EYE['Row'])\n",
    "plt.show()"
   ]
  },
  {
   "cell_type": "markdown",
   "id": "144912c5",
   "metadata": {
    "id": "5ddf40fd"
   },
   "source": [
    "# Notes & Observations\n",
    "\n",
    "- The `Row` column appears to be a simple row index and does not provide meaningful information relevant to the eye-tracking data itself. Therefore, it can be dropped."
   ]
  },
  {
   "cell_type": "code",
   "execution_count": null,
   "id": "7897b894",
   "metadata": {
    "id": "5aee4404"
   },
   "outputs": [],
   "source": [
    "df_13_EYE.drop('Row', axis=1, inplace=True)"
   ]
  },
  {
   "cell_type": "code",
   "execution_count": null,
   "id": "6f6a2937",
   "metadata": {
    "id": "827f3274"
   },
   "outputs": [],
   "source": [
    "df_13_EYE['ET_ValidityLeft'].unique()"
   ]
  },
  {
   "cell_type": "code",
   "execution_count": null,
   "id": "5e20db26",
   "metadata": {
    "id": "1437751a"
   },
   "outputs": [],
   "source": [
    "df_13_EYE['ET_ValidityLeft'].value_counts()"
   ]
  },
  {
   "cell_type": "code",
   "execution_count": null,
   "id": "55a27e87",
   "metadata": {
    "id": "d0a9ee4a"
   },
   "outputs": [],
   "source": [
    "df_13_EYE['ET_ValidityRight'].unique()"
   ]
  },
  {
   "cell_type": "code",
   "execution_count": null,
   "id": "41d42b5f",
   "metadata": {
    "id": "55ddcc2b"
   },
   "outputs": [],
   "source": [
    "df_13_EYE['ET_ValidityRight'].value_counts()"
   ]
  },
  {
   "cell_type": "code",
   "execution_count": null,
   "id": "26cab664",
   "metadata": {
    "id": "faef00be"
   },
   "outputs": [],
   "source": [
    "plt.figure(figsize=(12, 6))\n",
    "\n",
    "plt.subplot(1, 2, 1)\n",
    "sns.barplot(x=df_13_EYE['ET_ValidityLeft'].value_counts().index, y=df_13_EYE['ET_ValidityLeft'].value_counts().values)\n",
    "plt.title('Count of ET_ValidityLeft')\n",
    "plt.xlabel('Validity')\n",
    "plt.ylabel('Count')\n",
    "\n",
    "\n",
    "plt.subplot(1, 2, 2)\n",
    "sns.barplot(x=df_13_EYE['ET_ValidityRight'].value_counts().index, y=df_13_EYE['ET_ValidityRight'].value_counts().values)\n",
    "plt.title('Count of ET_ValidityRight')\n",
    "plt.xlabel('Validity')\n",
    "plt.ylabel('Count')\n",
    "\n",
    "plt.tight_layout()\n",
    "plt.show()"
   ]
  },
  {
   "cell_type": "markdown",
   "id": "64d6f21f",
   "metadata": {
    "id": "b43706ea"
   },
   "source": [
    "# Notes & Observations\n",
    "\n",
    "- The `ET_ValidityLeft` and `ET_ValidityRight` columns indicate the validity of the eye-tracking data for the left and right eye, respectively.\n",
    "- Based on the value counts and the bar plots, it appears that a value of `0.0` represents valid eye-tracking data, while a value of `4.0` represents invalid data.\n",
    "- Although the amount of invalid data is relatively small, removing these rows could introduce unwanted patterns or gaps in the time series data.\n",
    "- Therefore, we will keep the data and replace the value `4.0` with `1.0` in both `ET_ValidityLeft` and `ET_ValidityRight` columns. This will indicate to a machine learning model that the eye tracker had invalid data at those specific points in time while maintaining the integrity of the time series."
   ]
  },
  {
   "cell_type": "markdown",
   "id": "8594e05c",
   "metadata": {
    "id": "e9e671b2"
   },
   "source": [
    "Define a mapping to convert validity values from `0.0` and `4.0` to `0` and `1`."
   ]
  },
  {
   "cell_type": "code",
   "execution_count": null,
   "id": "15ee22d9",
   "metadata": {
    "id": "08e7ed71"
   },
   "outputs": [],
   "source": [
    "validity_map = {4.0: 1.0, 0.0: 0.0}"
   ]
  },
  {
   "cell_type": "code",
   "execution_count": null,
   "id": "652432a9",
   "metadata": {
    "id": "0bba3ac0"
   },
   "outputs": [],
   "source": [
    "df_13_EYE['ET_ValidityLeft'] = df_13_EYE['ET_ValidityLeft'].map(validity_map).astype(np.int8)\n",
    "df_13_EYE['ET_ValidityRight'] = df_13_EYE['ET_ValidityRight'].map(validity_map).astype(np.int8)"
   ]
  },
  {
   "cell_type": "code",
   "execution_count": null,
   "id": "66aa3a01",
   "metadata": {
    "id": "0ff3f16c"
   },
   "outputs": [],
   "source": [
    "df_13_EYE.head(3)"
   ]
  },
  {
   "cell_type": "code",
   "execution_count": null,
   "id": "94f68eef",
   "metadata": {
    "id": "32eb3225"
   },
   "outputs": [],
   "source": [
    "df_13_EYE.describe()"
   ]
  },
  {
   "cell_type": "code",
   "execution_count": null,
   "id": "945b44d5",
   "metadata": {
    "id": "c1e092e1"
   },
   "outputs": [],
   "source": [
    "df_13_EYE[df_13_EYE['ET_ValidityLeft'] == 1].shape"
   ]
  },
  {
   "cell_type": "code",
   "execution_count": null,
   "id": "ca012868",
   "metadata": {
    "id": "8ebfb0cc"
   },
   "outputs": [],
   "source": [
    "df_13_EYE[df_13_EYE['ET_ValidityRight'] == 1].shape"
   ]
  },
  {
   "cell_type": "code",
   "execution_count": null,
   "id": "b0f2771d",
   "metadata": {
    "id": "0d175df2"
   },
   "outputs": [],
   "source": [
    "df_13_EYE[df_13_EYE['ET_ValidityLeft'] == 1].shape[0] / df_13_EYE.shape[0]"
   ]
  },
  {
   "cell_type": "code",
   "execution_count": null,
   "id": "a6ccecd7",
   "metadata": {
    "id": "54cc0f9e"
   },
   "outputs": [],
   "source": [
    "df_13_EYE[df_13_EYE['ET_ValidityRight'] == 1].shape[0] / df_13_EYE.shape[0]"
   ]
  },
  {
   "cell_type": "code",
   "execution_count": null,
   "id": "444e320a",
   "metadata": {
    "id": "45c977c1"
   },
   "outputs": [],
   "source": [
    "plt.figure(figsize=(18, 8))\n",
    "\n",
    "plt.subplot(1, 2, 1)\n",
    "sns.heatmap(df_13_EYE == -1, cmap='viridis')\n",
    "plt.title('Heatmap of -1 Values')\n",
    "\n",
    "plt.subplot(1, 2, 2)\n",
    "sns.heatmap(df_13_EYE == 1, cmap='viridis')\n",
    "plt.title('Heatmap of 1 Values')\n",
    "\n",
    "plt.tight_layout()\n",
    "plt.show()"
   ]
  },
  {
   "cell_type": "code",
   "execution_count": null,
   "id": "ff93fbf2",
   "metadata": {
    "id": "3b98a13b"
   },
   "outputs": [],
   "source": [
    "df_13_EYE[df_13_EYE['ET_PupilLeft'] == -1].shape"
   ]
  },
  {
   "cell_type": "code",
   "execution_count": null,
   "id": "35eeca93",
   "metadata": {
    "id": "a2f296f6"
   },
   "outputs": [],
   "source": [
    "df_13_EYE[df_13_EYE['ET_PupilRight'] == -1].shape"
   ]
  },
  {
   "cell_type": "code",
   "execution_count": null,
   "id": "9716b10f",
   "metadata": {
    "id": "42cff7eb"
   },
   "outputs": [],
   "source": [
    "df_13_EYE[df_13_EYE['ET_PupilLeft'] == -1].shape[0] / df_13_EYE.shape[0]"
   ]
  },
  {
   "cell_type": "code",
   "execution_count": null,
   "id": "56aa950b",
   "metadata": {
    "id": "83c97903"
   },
   "outputs": [],
   "source": [
    "df_13_EYE[df_13_EYE['ET_PupilRight'] == -1].shape[0] / df_13_EYE.shape[0]"
   ]
  },
  {
   "cell_type": "code",
   "execution_count": null,
   "id": "3053a95c",
   "metadata": {
    "id": "6e176d63"
   },
   "outputs": [],
   "source": [
    "plt.figure(figsize=(18, 8))\n",
    "\n",
    "plt.subplot(1, 2, 1)\n",
    "sns.heatmap(df_13_EYE[df_13_EYE['ET_ValidityLeft'] == 1] == -1, cmap='viridis')\n",
    "plt.title('Heatmap of -1 Values')\n",
    "\n",
    "plt.subplot(1, 2, 2)\n",
    "sns.heatmap(df_13_EYE[df_13_EYE['ET_ValidityRight'] == 1] == -1, cmap='viridis')\n",
    "plt.title('Heatmap of -1 Values')\n",
    "\n",
    "plt.tight_layout()\n",
    "plt.show()"
   ]
  },
  {
   "cell_type": "markdown",
   "id": "6d037caa",
   "metadata": {
    "id": "fff8db39"
   },
   "source": [
    "# Notes & Observations\n",
    "\n",
    "- The heatmaps reveal the distribution of -1 values across different columns.\n",
    "- It is evident that the `-1` values are not randomly scattered but appear in specific columns, notably `ET_GazeLeftx`, `ET_GazeLefty`, `ET_GazeRightx`, `ET_GazeRighty`, `ET_PupilLeft`, `ET_PupilRight`, `ET_DistanceLeft`, `ET_DistanceRight`, `ET_CameraLeftX`, `ET_CameraLeftY`, `ET_CameraRightX`, and `ET_CameraRightY`.\n",
    "- These `-1` values often coincide with instances where `ET_ValidityLeft` or `ET_ValidityRight` is 1, indicating invalid eye-tracking data. This suggests that `-1` is used as a placeholder for missing or invalid measurements in these columns when the eye tracker is not providing valid data for a particular eye.\n",
    "- Given that over 70% of the data in the `ET_PupilLeft` and `ET_PupilRight` columns is marked as invalid (-1), so instead of dropping them we can create new feature for both the `ET_PupilLeft` and `ET_PupilRight` to represent which row consist invalid `ET_PupilLeft` and `ET_PupilRight` data"
   ]
  },
  {
   "cell_type": "code",
   "execution_count": null,
   "id": "32ea1c7c",
   "metadata": {
    "id": "cf7437aa"
   },
   "outputs": [],
   "source": [
    "pupil_validity = {-1: 1 }"
   ]
  },
  {
   "cell_type": "code",
   "execution_count": null,
   "id": "c43af79b",
   "metadata": {
    "id": "989b113d"
   },
   "outputs": [],
   "source": [
    "df_13_EYE['ET_PupilLeft_validity'] = df_13_EYE['ET_PupilLeft'].map(pupil_validity)"
   ]
  },
  {
   "cell_type": "code",
   "execution_count": null,
   "id": "521d5e63",
   "metadata": {
    "id": "9ecdfbc0"
   },
   "outputs": [],
   "source": [
    "df_13_EYE['ET_PupilRight_validity'] = df_13_EYE['ET_PupilRight'].map(pupil_validity)"
   ]
  },
  {
   "cell_type": "code",
   "execution_count": null,
   "id": "084b9385",
   "metadata": {
    "id": "7f5d2b28"
   },
   "outputs": [],
   "source": [
    "df_13_EYE[['ET_PupilLeft_validity', 'ET_PupilRight_validity']].head()"
   ]
  },
  {
   "cell_type": "code",
   "execution_count": null,
   "id": "eb1b3a3b",
   "metadata": {
    "id": "6a86c472"
   },
   "outputs": [],
   "source": [
    "df_13_EYE[['ET_PupilLeft_validity', 'ET_PupilRight_validity']].isnull().sum()"
   ]
  },
  {
   "cell_type": "code",
   "execution_count": null,
   "id": "bc8eeca4",
   "metadata": {
    "id": "9121e4a8"
   },
   "outputs": [],
   "source": [
    "plt.figure(figsize=(18, 8))\n",
    "sns.heatmap(df_13_EYE[['ET_PupilLeft_validity', 'ET_PupilRight_validity']].isnull(), cmap='viridis')\n",
    "plt.show()"
   ]
  },
  {
   "cell_type": "code",
   "execution_count": null,
   "id": "ea2a9c0c",
   "metadata": {
    "id": "613a230a"
   },
   "outputs": [],
   "source": [
    "df_13_EYE['ET_PupilLeft_validity'] = df_13_EYE['ET_PupilLeft_validity'].fillna(0)"
   ]
  },
  {
   "cell_type": "code",
   "execution_count": null,
   "id": "64259b9f",
   "metadata": {
    "id": "89ae7d3f"
   },
   "outputs": [],
   "source": [
    "df_13_EYE['ET_PupilRight_validity'] = df_13_EYE['ET_PupilRight_validity'].fillna(0)"
   ]
  },
  {
   "cell_type": "code",
   "execution_count": null,
   "id": "72d52d8e",
   "metadata": {
    "id": "a2c39f03"
   },
   "outputs": [],
   "source": [
    "df_13_EYE[['ET_PupilLeft_validity', 'ET_PupilRight_validity']].head()"
   ]
  },
  {
   "cell_type": "code",
   "execution_count": null,
   "id": "6e21b529",
   "metadata": {
    "id": "6e9c2645"
   },
   "outputs": [],
   "source": [
    "plt.figure(figsize=(18, 8))\n",
    "sns.heatmap(df_13_EYE[['ET_PupilLeft_validity', 'ET_PupilRight_validity']].isnull(), cmap='viridis')\n",
    "plt.show()"
   ]
  },
  {
   "cell_type": "code",
   "execution_count": null,
   "id": "4953ea92",
   "metadata": {
    "id": "7e52da92"
   },
   "outputs": [],
   "source": [
    "df_13_EYE.head()"
   ]
  },
  {
   "cell_type": "code",
   "execution_count": null,
   "id": "0e91ff6f",
   "metadata": {
    "id": "1cefd42d"
   },
   "outputs": [],
   "source": [
    "plt.figure(figsize=(18, 8))\n",
    "\n",
    "plt.subplot(1, 2, 1)\n",
    "sns.heatmap(df_13_EYE == -1, cmap='viridis')\n",
    "plt.title('Heatmap of -1 Values')\n",
    "\n",
    "plt.subplot(1, 2, 2)\n",
    "sns.heatmap(df_13_EYE == 1, cmap='viridis')\n",
    "plt.title('Heatmap of -1 Values')\n",
    "\n",
    "plt.tight_layout()\n",
    "plt.show()"
   ]
  },
  {
   "cell_type": "code",
   "execution_count": null,
   "id": "2da3f403",
   "metadata": {
    "id": "dcf38f27"
   },
   "outputs": [],
   "source": [
    "valid_left_ratio  = 1 - df_13_EYE['ET_ValidityLeft'].mean()"
   ]
  },
  {
   "cell_type": "code",
   "execution_count": null,
   "id": "bbab29e3",
   "metadata": {
    "id": "2aea00ec"
   },
   "outputs": [],
   "source": [
    "valid_left_ratio"
   ]
  },
  {
   "cell_type": "code",
   "execution_count": null,
   "id": "683f0d34",
   "metadata": {
    "id": "19ac306c"
   },
   "outputs": [],
   "source": [
    "valid_right_ratio = 1 - df_13_EYE['ET_ValidityRight'].mean()"
   ]
  },
  {
   "cell_type": "code",
   "execution_count": null,
   "id": "a2dff811",
   "metadata": {
    "id": "4f0aa48e"
   },
   "outputs": [],
   "source": [
    "valid_right_ratio"
   ]
  },
  {
   "cell_type": "code",
   "execution_count": null,
   "id": "eb7c4eaf",
   "metadata": {
    "id": "a000b670"
   },
   "outputs": [],
   "source": [
    "df_13_EYE['ET_PupilLeft_validity'] = df_13_EYE['ET_PupilLeft_validity'].astype(np.int8)\n",
    "df_13_EYE['ET_PupilRight_validity'] = df_13_EYE['ET_PupilRight_validity'].astype(np.int8)"
   ]
  },
  {
   "cell_type": "markdown",
   "id": "901acf77",
   "metadata": {
    "id": "6acf6847"
   },
   "source": [
    "# Feature Engineering and Observations\n",
    "\n",
    "Based on the analysis of the data, we've created two new features, `ET_PupilLeft_validity` and `ET_PupilRight_validity`. These features indicate the validity of the pupil data for the left and right eyes, respectively, with a value of 1 representing invalid data (originally -1) and 0 representing valid data.\n",
    "\n",
    "The heatmaps above visually demonstrate the distribution of -1 and 1 values across the dataset. We observed that:\n",
    "- The `-1` values are concentrated in specific columns related to gaze, pupil size, distance, and camera position, suggesting they represent missing or invalid sensor readings.\n",
    "- The `1` values, after mapping from `4.0` in the original validity columns, indicate instances of invalid eye-tracking data.\n",
    "- The heatmaps also show a strong correlation between the `-1` values in the pupil columns and a validity of 1 in the newly created pupil validity features, confirming that -1 was used to mark invalid pupil data."
   ]
  },
  {
   "cell_type": "code",
   "execution_count": null,
   "id": "ab99c92b",
   "metadata": {
    "id": "de9f2594"
   },
   "outputs": [],
   "source": [
    "df_13_EYE.head()"
   ]
  },
  {
   "cell_type": "code",
   "execution_count": null,
   "id": "cf0ad653",
   "metadata": {
    "id": "bfa2e174"
   },
   "outputs": [],
   "source": [
    "# Select only the numeric columns for plotting histograms, excluding time-related columns\n",
    "numeric_cols = df_13_EYE.select_dtypes(include=np.number).columns\n",
    "cols_to_plot = [col for col in numeric_cols if col not in ['UnixTime']]\n",
    "\n",
    "# Calculate the number of rows and columns for the grid\n",
    "n_cols = 4  # You can adjust the number of columns as needed\n",
    "n_rows = (len(cols_to_plot) + n_cols - 1) // n_cols\n",
    "\n",
    "plt.figure(figsize=(n_cols * 5, n_rows * 4)) # Adjust figure size as needed\n",
    "\n",
    "for i, col in enumerate(cols_to_plot):\n",
    "    plt.subplot(n_rows, n_cols, i + 1)\n",
    "    sns.histplot(df_13_EYE[col], kde=True)\n",
    "    plt.title(f'Distribution of {col}')\n",
    "    plt.xlabel(col)\n",
    "    plt.ylabel('Frequency')\n",
    "\n",
    "plt.tight_layout()\n",
    "plt.show()"
   ]
  },
  {
   "cell_type": "markdown",
   "id": "d2ab8b22",
   "metadata": {
    "id": "8059766d"
   },
   "source": [
    "# Observations from Histograms\n",
    "\n",
    "The grid of histograms provides insights into the distribution of values for each numeric column in the dataset (excluding 'UnixTime'). Key observations include:\n",
    "\n",
    "- Several columns, such as `ET_GazeLeftx`, `ET_GazeLefty`, `ET_GazeRightx`, and `ET_GazeRighty`, show distributions that appear somewhat multimodal or skewed, suggesting variations in gaze patterns.\n",
    "- The `ET_PupilLeft` and `ET_PupilRight` histograms clearly show a peak at -1, confirming the presence of a significant number of invalid pupil readings.\n",
    "- `ET_TimeSignal` shows a relatively uniform distribution, as expected for a time-based signal.\n",
    "- `ET_DistanceLeft` and `ET_DistanceRight` appear to have distributions centered around certain values, with some outliers or variations.\n",
    "- The camera position columns (`ET_CameraLeftX`, `ET_CameraLeftY`, `ET_CameraRightX`, `ET_CameraRightY`) seem to have distributions concentrated within specific ranges, reflecting the camera's field of view.\n",
    "- The validity columns (`ET_ValidityLeft`, `ET_ValidityRight`, `ET_PupilLeft_validity`, `ET_PupilRight_validity`) show distributions dominated by 0, indicating that most of the data is considered valid after the mapping. The smaller peaks at 1 represent the instances of invalid data.\n",
    "\n",
    "These distributions highlight the need for appropriate handling of the -1 values and potential outliers in subsequent analysis or modeling steps."
   ]
  },
  {
   "cell_type": "code",
   "execution_count": null,
   "id": "18293188",
   "metadata": {
    "id": "cb65ae1e"
   },
   "outputs": [],
   "source": [
    "df_13_EYE.columns"
   ]
  },
  {
   "cell_type": "code",
   "execution_count": null,
   "id": "2c7f3c72",
   "metadata": {
    "id": "8cf2280c"
   },
   "outputs": [],
   "source": [
    "cols = ['ET_GazeLeftx', 'ET_GazeLefty',\n",
    "       'ET_GazeRightx', 'ET_GazeRighty', 'ET_PupilLeft', 'ET_PupilRight',\n",
    "       'ET_TimeSignal', 'ET_DistanceLeft', 'ET_DistanceRight',\n",
    "       'ET_CameraLeftX', 'ET_CameraLeftY', 'ET_CameraRightX',\n",
    "       'ET_CameraRightY', 'ET_ValidityLeft', 'ET_ValidityRight',\n",
    "       'ET_PupilLeft_validity', 'ET_PupilRight_validity']"
   ]
  },
  {
   "cell_type": "code",
   "execution_count": null,
   "id": "5103e478",
   "metadata": {
    "id": "85e45ea9"
   },
   "outputs": [],
   "source": [
    "from IPython.display import display, Markdown\n",
    "\n",
    "for col in cols:\n",
    "    # Add a markdown cell before each plot for better separation and labeling\n",
    "    display(Markdown(f'### {col} over Time'))\n",
    "    plt.figure(figsize=(16, 10))\n",
    "    plt.plot(df_13_EYE['Timestamp'], df_13_EYE[col])\n",
    "    plt.xlabel(\"Timestamp\") # Add x-axis label\n",
    "    plt.ylabel(col) # Add y-axis label\n",
    "    plt.show()"
   ]
  },
  {
   "cell_type": "markdown",
   "id": "3c1fdcd9",
   "metadata": {
    "id": "f7ffd08f"
   },
   "source": [
    "# Observations from Time Series Plots\n",
    "\n",
    "The line plots showing various features against the `Timestamp` reveal the temporal patterns and fluctuations in the eye-tracking data. Key observations include:\n",
    "\n",
    "- **Gaze Coordinates (`ET_GazeLeftx`, `ET_GazeLefty`, `ET_GazeRightx`, `ET_GazeRighty`):** These plots show the changes in gaze position over time. We can observe periods of relatively stable gaze interspersed with rapid movements (saccades) and blinks or other events where the gaze data might be invalid (-1 values appear as gaps or spikes if not handled).\n",
    "- **Pupil Size (`ET_PupilLeft`, `ET_PupilRight`):** The pupil size plots show variations over time. The presence of many -1 values is evident as flat lines at the bottom of the plot, indicating periods where pupil data was not recorded or was invalid.\n",
    "- **Time Signal (`ET_TimeSignal`):** This plot shows a steady, increasing trend, as expected for a time-based signal.\n",
    "- **Distance and Camera Position (`ET_DistanceLeft`, `ET_DistanceRight`, `ET_CameraLeftX`, `ET_CameraLeftY`, `ET_CameraRightX`, `ET_CameraRightY`):** These plots show how the distance from the eye tracker and the camera positions change over time. Variations in these features can be related to head movements or changes in the user's position relative to the eye tracker.\n",
    "- **Validity (`ET_ValidityLeft`, `ET_ValidityRight`, `ET_PupilLeft_validity`, `ET_PupilRight_validity`):** These plots clearly show periods of invalid data (represented by 1) as spikes or plateaus, corresponding to instances where the eye tracker lost track of the eyes or the pupil data was marked as invalid.\n",
    "\n",
    "Analyzing these time series plots is crucial for understanding the dynamics of the eye-tracking data and identifying patterns or anomalies that may require further investigation or specific handling during subsequent analysis."
   ]
  },
  {
   "cell_type": "code",
   "execution_count": null,
   "id": "3f569db5",
   "metadata": {
    "id": "cdd85f8c"
   },
   "outputs": [],
   "source": [
    "# Select only the numeric columns for plotting histograms, excluding time-related columns\n",
    "numeric_cols = df_13_EYE.select_dtypes(include=np.number).columns\n",
    "\n",
    "# Calculate the number of rows and columns for the grid\n",
    "n_cols = 4  # You can adjust the number of columns as needed\n",
    "n_rows = (len(numeric_cols) + n_cols - 1) // n_cols\n",
    "\n",
    "plt.figure(figsize=(n_cols * 5, n_rows * 4)) # Adjust figure size as needed\n",
    "\n",
    "for i, col in enumerate(numeric_cols):\n",
    "    plt.subplot(n_rows, n_cols, i + 1)\n",
    "    sns.boxplot(df_13_EYE[col])\n",
    "    plt.title(f'Boxplot of {col}')\n",
    "    plt.xlabel(col)\n",
    "\n",
    "plt.tight_layout()\n",
    "plt.show()"
   ]
  },
  {
   "cell_type": "markdown",
   "id": "8dee4150",
   "metadata": {
    "id": "2cca19c5"
   },
   "source": [
    "# Observations from Boxplots and Handling -1 Values\n",
    "\n",
    "The boxplots provide a visual summary of the distribution and potential outliers for each numeric column. Key observations from the boxplots include:\n",
    "\n",
    "- The boxplots for columns like `ET_GazeLeftx`, `ET_GazeLefty`, `ET_GazeRightx`, `ET_GazeRighty`, `ET_PupilLeft`, `ET_PupilRight`, `ET_DistanceLeft`, `ET_DistanceRight`, `ET_CameraLeftX`, `ET_CameraLeftY`, `ET_CameraRightX`, and `ET_CameraRightY` clearly show the presence of -1 values as significant outliers, confirming our earlier observations from the heatmaps and histograms.\n",
    "- The boxplots for the validity columns (`ET_ValidityLeft`, `ET_ValidityRight`, `ET_PupilLeft_validity`, `ET_PupilRight_validity`) show the discrete nature of these features, with the majority of data points at 0 (valid) and a smaller number at 1 (invalid).\n",
    "\n",
    "Given the significant presence of -1 values, which represent invalid or missing data, especially in the pupil-related columns, we have decided to replace these -1 values with NaN to properly represent them as missing data. Subsequently, we will impute these missing values using the mean of each respective column. This approach helps to retain the data structure and allows for further analysis or modeling without the distortion caused by the -1 placeholders."
   ]
  },
  {
   "cell_type": "code",
   "execution_count": null,
   "id": "856f39d3",
   "metadata": {
    "id": "9217371b"
   },
   "outputs": [],
   "source": [
    "df_13_EYE.replace({-1: np.nan}, inplace=True)"
   ]
  },
  {
   "cell_type": "code",
   "execution_count": null,
   "id": "a0a6e90f",
   "metadata": {
    "id": "8108fa01"
   },
   "outputs": [],
   "source": [
    "df_13_EYE[['ET_GazeLeftx', 'ET_GazeLefty',\n",
    "       'ET_GazeRightx', 'ET_GazeRighty', 'ET_PupilLeft', 'ET_PupilRight',\n",
    "       'ET_TimeSignal', 'ET_DistanceLeft', 'ET_DistanceRight',\n",
    "       'ET_CameraLeftX', 'ET_CameraLeftY', 'ET_CameraRightX',\n",
    "       'ET_CameraRightY', 'ET_ValidityLeft', 'ET_ValidityRight',\n",
    "       'ET_PupilLeft_validity', 'ET_PupilRight_validity']].mean()"
   ]
  },
  {
   "cell_type": "code",
   "execution_count": null,
   "id": "4a1542c0",
   "metadata": {
    "id": "9b94fbce"
   },
   "outputs": [],
   "source": [
    "df_13_EYE[['ET_GazeLeftx', 'ET_GazeLefty',\n",
    "       'ET_GazeRightx', 'ET_GazeRighty', 'ET_PupilLeft', 'ET_PupilRight',\n",
    "       'ET_TimeSignal', 'ET_DistanceLeft', 'ET_DistanceRight',\n",
    "       'ET_CameraLeftX', 'ET_CameraLeftY', 'ET_CameraRightX',\n",
    "       'ET_CameraRightY', 'ET_ValidityLeft', 'ET_ValidityRight',\n",
    "       'ET_PupilLeft_validity', 'ET_PupilRight_validity']].median()"
   ]
  },
  {
   "cell_type": "code",
   "execution_count": null,
   "id": "fe6a4385",
   "metadata": {
    "id": "ee1238c8"
   },
   "outputs": [],
   "source": [
    "numeric_cols = df_13_EYE.select_dtypes(include=np.number).columns\n",
    "\n",
    "for col in numeric_cols:\n",
    "    df_13_EYE[col] = df_13_EYE[col].fillna(df_13_EYE[col].mean())"
   ]
  },
  {
   "cell_type": "code",
   "execution_count": null,
   "id": "0dfa9441",
   "metadata": {
    "id": "b0bc522d"
   },
   "outputs": [],
   "source": [
    "plt.figure(figsize=(18, 8))\n",
    "\n",
    "plt.subplot(1, 2, 1)\n",
    "sns.heatmap(df_13_EYE.isnull(), cmap='viridis')\n",
    "plt.title('Heatmap of Missing Values After Imputation')\n",
    "\n",
    "plt.subplot(1, 2, 2)\n",
    "sns.heatmap(df_13_EYE == 1, cmap='viridis')\n",
    "plt.title('Heatmap of 1 Values')\n",
    "\n",
    "plt.tight_layout()\n",
    "plt.show()"
   ]
  },
  {
   "cell_type": "markdown",
   "id": "9a2a9be8",
   "metadata": {
    "id": "c0f1e10d"
   },
   "source": [
    "# Handling Missing Values (Imputation)\n",
    "\n",
    "As decided, we have replaced all the `-1` values with `NaN` to treat them as missing data. Subsequently, we have imputed these `NaN` values with the mean of their respective columns. The heatmap above, which was generated after the imputation, now shows no visible signs of `NaN` values, indicating that the imputation was successful."
   ]
  },
  {
   "cell_type": "code",
   "execution_count": null,
   "id": "48dceaf9",
   "metadata": {
    "id": "2491c1da"
   },
   "outputs": [],
   "source": [
    "df_13_EYE.head()"
   ]
  },
  {
   "cell_type": "code",
   "execution_count": null,
   "id": "fb26feaa",
   "metadata": {
    "id": "64f04350"
   },
   "outputs": [],
   "source": [
    "# Select only the numeric columns for plotting histograms, excluding time-related columns\n",
    "numeric_cols = df_13_EYE.select_dtypes(include=np.number).columns\n",
    "cols_to_plot = [col for col in numeric_cols if col not in ['UnixTime']]\n",
    "\n",
    "# Calculate the number of rows and columns for the grid\n",
    "n_cols = 4  # You can adjust the number of columns as needed\n",
    "n_rows = (len(cols_to_plot) + n_cols - 1) // n_cols\n",
    "\n",
    "plt.figure(figsize=(n_cols * 5, n_rows * 4)) # Adjust figure size as needed\n",
    "\n",
    "for i, col in enumerate(cols_to_plot):\n",
    "    plt.subplot(n_rows, n_cols, i + 1)\n",
    "    sns.histplot(df_13_EYE[col], kde=True)\n",
    "    plt.title(f'Distribution of {col}')\n",
    "    plt.xlabel(col)\n",
    "    plt.ylabel('Frequency')\n",
    "\n",
    "plt.tight_layout()\n",
    "plt.show()"
   ]
  },
  {
   "cell_type": "markdown",
   "id": "c12b0e34",
   "metadata": {
    "id": "e0c83f1c"
   },
   "source": [
    "# Observations from Histograms After Imputation\n",
    "\n",
    "The histograms generated after replacing the -1 values with the mean of each column show the distributions of the numeric features with the missing data handled. Key observations from these updated histograms include:\n",
    "\n",
    "- The distinct peaks at -1, which were prominent in the histograms for several columns (e.g., pupil size, gaze coordinates, distance, and camera position) before imputation, are now replaced by a peak at the mean of each respective column.\n",
    "- The distributions in many columns now appear more unimodal or show shifted modes compared to the original histograms.\n",
    "- The histograms for the validity columns still show their bimodal distributions with peaks at 0 and 1, as these were handled separately.\n",
    "\n",
    "These histograms provide an updated view of the data's distribution after handling the missing values, highlighting the impact of the imputation method on the data's characteristics."
   ]
  },
  {
   "cell_type": "code",
   "execution_count": null,
   "id": "456dd82d",
   "metadata": {
    "id": "de0b2f65"
   },
   "outputs": [],
   "source": [
    "cols = ['ET_GazeLeftx', 'ET_GazeLefty',\n",
    "       'ET_GazeRightx', 'ET_GazeRighty', 'ET_PupilLeft', 'ET_PupilRight',\n",
    "       'ET_TimeSignal', 'ET_DistanceLeft', 'ET_DistanceRight',\n",
    "       'ET_CameraLeftX', 'ET_CameraLeftY', 'ET_CameraRightX',\n",
    "       'ET_CameraRightY', 'ET_ValidityLeft', 'ET_ValidityRight',\n",
    "       'ET_PupilLeft_validity', 'ET_PupilRight_validity']"
   ]
  },
  {
   "cell_type": "code",
   "execution_count": null,
   "id": "947afb28",
   "metadata": {
    "id": "4ddd4915"
   },
   "outputs": [],
   "source": [
    "for col in cols:\n",
    "    # Add a markdown cell before each plot for better separation and labeling\n",
    "    display(Markdown(f'### {col} over Time'))\n",
    "    plt.figure(figsize=(16, 10))\n",
    "    plt.plot(df_13_EYE['Timestamp'], df_13_EYE[col])\n",
    "    plt.xlabel(\"Timestamp\") # Add x-axis label\n",
    "    plt.ylabel(col) # Add y-axis label\n",
    "    plt.show()"
   ]
  },
  {
   "cell_type": "markdown",
   "id": "9c0a9d6f",
   "metadata": {
    "id": "0fb07abb"
   },
   "source": [
    "# Observations from Time Series Plots After Imputation\n",
    "\n",
    "The line plots generated after imputing the missing values with the mean show the temporal patterns of the features with the missing data handled. Key observations from these updated plots include:\n",
    "\n",
    "- The gaps or flat lines at -1, which were prominent in the plots for columns like gaze coordinates, pupil size, distance, and camera position, are now filled by lines at the mean value of the respective columns.\n",
    "- The plots for the validity columns remain the same as they were handled separately.\n",
    "- The `ET_TimeSignal` plot still shows a steady increasing trend, as expected."
   ]
  },
  {
   "cell_type": "code",
   "execution_count": null,
   "id": "994e4b7d",
   "metadata": {
    "id": "c608fd95"
   },
   "outputs": [],
   "source": [
    "plt.figure(figsize=(16, 10))\n",
    "sns.heatmap(df_13_EYE.corr(numeric_only=True), cmap='YlGnBu', annot=True)\n",
    "plt.show()"
   ]
  },
  {
   "cell_type": "markdown",
   "id": "ca05bbbd",
   "metadata": {
    "id": "82405ba6"
   },
   "source": [
    "# Observations from Correlation Heatmap\n",
    "\n",
    "The correlation heatmap provides a visual representation of the pairwise correlations between the numeric columns in the dataset. Key observations from the heatmap include:\n",
    "\n",
    "- **High Positive Correlations:** We observe strong positive correlations (values close to 1) between:\n",
    "  - `ET_GazeLeftx` and `ET_GazeRightx`: This is expected as the gaze positions of both eyes should be highly correlated when fixating on a point.\n",
    "  - `ET_GazeLefty` and `ET_GazeRighty`: Similar to the x-coordinates, the y-coordinates of gaze should also be highly correlated.\n",
    "  - `ET_PupilLeft` and `ET_PupilRight`: Pupil sizes of both eyes tend to change together in response to light and cognitive load.\n",
    "  - `ET_DistanceLeft` and `ET_DistanceRight`: The distance from the eye tracker to each eye should be highly correlated.\n",
    "  - `ET_CameraLeftX` and `ET_CameraRightX`, `ET_CameraLeftY` and `ET_CameraRightY`: The camera positions for both eyes are also expected to be highly correlated.\n",
    "  - `UnixTime` and `ET_TimeSignal`: As previously noted, these two columns are almost perfectly linearly correlated, indicating redundancy.\n",
    "  - `ET_ValidityLeft` and `ET_PupilLeft_validity`: There is a positive correlation, suggesting that when the overall left eye data is invalid, the left pupil data is also likely to be invalid.\n",
    "  - `ET_ValidityRight` and `ET_PupilRight_validity`: Similar to the left eye, there is a positive correlation between the overall right eye validity and the right pupil validity.\n",
    "- **Other Correlations:** We can also observe other varying degrees of correlations between different features, which can provide insights into the relationships between gaze behavior, pupil size, distance, and camera position. For example, there might be correlations between gaze coordinates and camera positions, reflecting head movements.\n",
    "- **Low or Near-Zero Correlations:** Columns with low or near-zero correlations are relatively independent of each other.\n",
    "\n",
    "Understanding these correlations is important for feature selection and for building models, as highly correlated features might indicate multicollinearity, while correlations between features can reveal underlying patterns in the data."
   ]
  },
  {
   "cell_type": "markdown",
   "id": "38a494bf",
   "metadata": {
    "id": "1c413c3b"
   },
   "source": [
    "# Analysis of ET_TimeSignal and Decision to Drop\n",
    "\n",
    "As observed in the time series plot and confirmed by the correlation heatmap, the `ET_TimeSignal` column exhibits a near-perfect linear relationship with both the `Timestamp` and `UnixTime` columns. This strong correlation (close to 1) suggests that `ET_TimeSignal` is essentially redundant and likely represents another form of time recording or a signal directly derived from the timestamp.\n",
    "\n",
    "Including highly correlated features like this in a dataset can lead to issues such as multicollinearity in some statistical models, which can make it difficult to interpret the individual impact of each feature. Since the `Timestamp` column already provides the necessary temporal information, retaining `ET_TimeSignal` does not appear to add significant value for further analysis or modeling in most cases.\n",
    "\n",
    "Therefore, based on its high correlation and lack of unique insight, we will proceed to drop the `ET_TimeSignal` column to simplify the dataset and potentially improve the performance and interpretability of future analyses."
   ]
  },
  {
   "cell_type": "code",
   "execution_count": null,
   "id": "49e48ffe",
   "metadata": {
    "id": "7c96e349"
   },
   "outputs": [],
   "source": [
    "df_13_EYE.drop('ET_TimeSignal', axis=1, inplace=True)"
   ]
  },
  {
   "cell_type": "code",
   "execution_count": null,
   "id": "7d5b2dc0",
   "metadata": {
    "id": "5845a61d"
   },
   "outputs": [],
   "source": [
    "plt.figure(figsize=(16, 10))\n",
    "sns.pairplot(df_13_EYE)\n",
    "plt.show()"
   ]
  },
  {
   "cell_type": "markdown",
   "id": "8f95a588",
   "metadata": {
    "id": "sMcHS8LIOGeT"
   },
   "source": [
    "# **14_EYE**"
   ]
  },
  {
   "cell_type": "code",
   "execution_count": null,
   "id": "5d41e356",
   "metadata": {
    "id": "L2tJooyROWnM"
   },
   "outputs": [],
   "source": []
  },
  {
   "cell_type": "code",
   "execution_count": null,
   "id": "31188a5d",
   "metadata": {
    "id": "6c647c4f"
   },
   "outputs": [],
   "source": [
    "df_14_EYE = pd.read_csv('data/STData/14/14_EYE.csv')"
   ]
  },
  {
   "cell_type": "code",
   "execution_count": null,
   "id": "8b51f60c",
   "metadata": {
    "id": "c229bba7"
   },
   "outputs": [],
   "source": [
    "df_14_EYE.head()"
   ]
  },
  {
   "cell_type": "code",
   "execution_count": null,
   "id": "5e8f9f57",
   "metadata": {
    "id": "0ec8e716"
   },
   "outputs": [],
   "source": [
    "df_14_EYE.shape"
   ]
  },
  {
   "cell_type": "code",
   "execution_count": null,
   "id": "98d17fb2",
   "metadata": {
    "id": "43ba37eb"
   },
   "outputs": [],
   "source": [
    "df_14_EYE.columns"
   ]
  },
  {
   "cell_type": "code",
   "execution_count": null,
   "id": "ea39c4d3",
   "metadata": {
    "id": "19f68fb4"
   },
   "outputs": [],
   "source": [
    "df_14_EYE.info()"
   ]
  },
  {
   "cell_type": "code",
   "execution_count": null,
   "id": "bc5f9e43",
   "metadata": {
    "id": "603369d7"
   },
   "outputs": [],
   "source": [
    "df_14_EYE.isnull().sum()"
   ]
  },
  {
   "cell_type": "code",
   "execution_count": null,
   "id": "5a4cf083",
   "metadata": {
    "id": "874353e3"
   },
   "outputs": [],
   "source": [
    "plt.figure(figsize=(12,8))\n",
    "sns.heatmap(df_14_EYE.isnull(), cmap='viridis')\n",
    "plt.show()"
   ]
  },
  {
   "cell_type": "markdown",
   "id": "a6c97b0c",
   "metadata": {
    "id": "b17906e7"
   },
   "source": [
    "# Notes & Observations\n",
    "\n",
    "- We observe many **null** (or missing) values in the `QuestionKey` columns.\n",
    "- The nulls in the `QuestionKey` column may not represent “true” nulls. Rather, they follow interval patterns, suggesting that during those periods no question was displayed.\n",
    "- These missing values in `QuestionKey` require additional investigation and context-aware handling."
   ]
  },
  {
   "cell_type": "code",
   "execution_count": null,
   "id": "6db87a2b",
   "metadata": {
    "id": "1113779e"
   },
   "outputs": [],
   "source": [
    "df_14_EYE['QuestionKey'].unique()"
   ]
  },
  {
   "cell_type": "code",
   "execution_count": null,
   "id": "c92e796f",
   "metadata": {
    "id": "db0a93a2"
   },
   "outputs": [],
   "source": [
    "df_14_EYE['Timestamp'] = pd.to_datetime(df_14_EYE['Timestamp'])"
   ]
  },
  {
   "cell_type": "code",
   "execution_count": null,
   "id": "c5c0988f",
   "metadata": {
    "id": "03d57b0a"
   },
   "outputs": [],
   "source": [
    "df_14_EYE.head(3)"
   ]
  },
  {
   "cell_type": "code",
   "execution_count": null,
   "id": "1e8cca0d",
   "metadata": {
    "id": "c0004029"
   },
   "outputs": [],
   "source": [
    "df_14_EYE['QuestionKey'] = df_14_EYE['QuestionKey'].fillna('None')"
   ]
  },
  {
   "cell_type": "code",
   "execution_count": null,
   "id": "6a29ffce",
   "metadata": {
    "id": "dfb4729e"
   },
   "outputs": [],
   "source": [
    "df_14_EYE['QuestionKey'].value_counts()"
   ]
  },
  {
   "cell_type": "code",
   "execution_count": null,
   "id": "7c71e981",
   "metadata": {
    "id": "9353c9d8"
   },
   "outputs": [],
   "source": [
    "plt.figure(figsize=(12,8))\n",
    "sns.heatmap(df_14_EYE.isnull(), cmap='viridis')\n",
    "plt.show()"
   ]
  },
  {
   "cell_type": "code",
   "execution_count": null,
   "id": "b83056ae",
   "metadata": {
    "id": "5c73d150"
   },
   "outputs": [],
   "source": [
    "df_14_EYE.isnull().sum()"
   ]
  },
  {
   "cell_type": "code",
   "execution_count": null,
   "id": "0179de03",
   "metadata": {
    "id": "6c700142"
   },
   "outputs": [],
   "source": [
    "df_14_EYE.dropna(inplace=True)"
   ]
  },
  {
   "cell_type": "code",
   "execution_count": null,
   "id": "5a9246e5",
   "metadata": {
    "id": "90a604ce"
   },
   "outputs": [],
   "source": [
    "df_14_EYE.head()"
   ]
  },
  {
   "cell_type": "code",
   "execution_count": null,
   "id": "ddb1e4fd",
   "metadata": {
    "id": "a43a4283"
   },
   "outputs": [],
   "source": [
    "df_14_EYE['Row'].unique()"
   ]
  },
  {
   "cell_type": "code",
   "execution_count": null,
   "id": "16a0c6e5",
   "metadata": {
    "id": "f66566f9"
   },
   "outputs": [],
   "source": [
    "plt.figure(figsize=(8,6))\n",
    "sns.histplot(df_14_EYE['Row'])\n",
    "plt.show()"
   ]
  },
  {
   "cell_type": "markdown",
   "id": "93f9a517",
   "metadata": {
    "id": "5ddf40fd"
   },
   "source": [
    "# Notes & Observations\n",
    "\n",
    "- The `Row` column appears to be a simple row index and does not provide meaningful information relevant to the eye-tracking data itself. Therefore, it can be dropped."
   ]
  },
  {
   "cell_type": "code",
   "execution_count": null,
   "id": "c063bc3f",
   "metadata": {
    "id": "5aee4404"
   },
   "outputs": [],
   "source": [
    "df_14_EYE.drop('Row', axis=1, inplace=True)"
   ]
  },
  {
   "cell_type": "code",
   "execution_count": null,
   "id": "19a7d9f6",
   "metadata": {
    "id": "827f3274"
   },
   "outputs": [],
   "source": [
    "df_14_EYE['ET_ValidityLeft'].unique()"
   ]
  },
  {
   "cell_type": "code",
   "execution_count": null,
   "id": "0bfb62b2",
   "metadata": {
    "id": "1437751a"
   },
   "outputs": [],
   "source": [
    "df_14_EYE['ET_ValidityLeft'].value_counts()"
   ]
  },
  {
   "cell_type": "code",
   "execution_count": null,
   "id": "fc2fc003",
   "metadata": {
    "id": "d0a9ee4a"
   },
   "outputs": [],
   "source": [
    "df_14_EYE['ET_ValidityRight'].unique()"
   ]
  },
  {
   "cell_type": "code",
   "execution_count": null,
   "id": "26c7d56a",
   "metadata": {
    "id": "55ddcc2b"
   },
   "outputs": [],
   "source": [
    "df_14_EYE['ET_ValidityRight'].value_counts()"
   ]
  },
  {
   "cell_type": "code",
   "execution_count": null,
   "id": "9ef09fe5",
   "metadata": {
    "id": "faef00be"
   },
   "outputs": [],
   "source": [
    "plt.figure(figsize=(12, 6))\n",
    "\n",
    "plt.subplot(1, 2, 1)\n",
    "sns.barplot(x=df_14_EYE['ET_ValidityLeft'].value_counts().index, y=df_14_EYE['ET_ValidityLeft'].value_counts().values)\n",
    "plt.title('Count of ET_ValidityLeft')\n",
    "plt.xlabel('Validity')\n",
    "plt.ylabel('Count')\n",
    "\n",
    "\n",
    "plt.subplot(1, 2, 2)\n",
    "sns.barplot(x=df_14_EYE['ET_ValidityRight'].value_counts().index, y=df_14_EYE['ET_ValidityRight'].value_counts().values)\n",
    "plt.title('Count of ET_ValidityRight')\n",
    "plt.xlabel('Validity')\n",
    "plt.ylabel('Count')\n",
    "\n",
    "plt.tight_layout()\n",
    "plt.show()"
   ]
  },
  {
   "cell_type": "markdown",
   "id": "ef50179e",
   "metadata": {
    "id": "b43706ea"
   },
   "source": [
    "# Notes & Observations\n",
    "\n",
    "- The `ET_ValidityLeft` and `ET_ValidityRight` columns indicate the validity of the eye-tracking data for the left and right eye, respectively.\n",
    "- Based on the value counts and the bar plots, it appears that a value of `0.0` represents valid eye-tracking data, while a value of `4.0` represents invalid data.\n",
    "- Although the amount of invalid data is relatively small, removing these rows could introduce unwanted patterns or gaps in the time series data.\n",
    "- Therefore, we will keep the data and replace the value `4.0` with `1.0` in both `ET_ValidityLeft` and `ET_ValidityRight` columns. This will indicate to a machine learning model that the eye tracker had invalid data at those specific points in time while maintaining the integrity of the time series."
   ]
  },
  {
   "cell_type": "markdown",
   "id": "5fe29ed1",
   "metadata": {
    "id": "e9e671b2"
   },
   "source": [
    "Define a mapping to convert validity values from `0.0` and `4.0` to `0` and `1`."
   ]
  },
  {
   "cell_type": "code",
   "execution_count": null,
   "id": "14ce2adb",
   "metadata": {
    "id": "08e7ed71"
   },
   "outputs": [],
   "source": [
    "validity_map = {4.0: 1.0, 0.0: 0.0}"
   ]
  },
  {
   "cell_type": "code",
   "execution_count": null,
   "id": "7377add3",
   "metadata": {
    "id": "0bba3ac0"
   },
   "outputs": [],
   "source": [
    "df_14_EYE['ET_ValidityLeft'] = df_14_EYE['ET_ValidityLeft'].map(validity_map).astype(np.int8)\n",
    "df_14_EYE['ET_ValidityRight'] = df_14_EYE['ET_ValidityRight'].map(validity_map).astype(np.int8)"
   ]
  },
  {
   "cell_type": "code",
   "execution_count": null,
   "id": "5701a8c1",
   "metadata": {
    "id": "0ff3f16c"
   },
   "outputs": [],
   "source": [
    "df_14_EYE.head(3)"
   ]
  },
  {
   "cell_type": "code",
   "execution_count": null,
   "id": "87c7dcb9",
   "metadata": {
    "id": "32eb3225"
   },
   "outputs": [],
   "source": [
    "df_14_EYE.describe()"
   ]
  },
  {
   "cell_type": "code",
   "execution_count": null,
   "id": "5fb54916",
   "metadata": {
    "id": "c1e092e1"
   },
   "outputs": [],
   "source": [
    "df_14_EYE[df_14_EYE['ET_ValidityLeft'] == 1].shape"
   ]
  },
  {
   "cell_type": "code",
   "execution_count": null,
   "id": "282bec95",
   "metadata": {
    "id": "8ebfb0cc"
   },
   "outputs": [],
   "source": [
    "df_14_EYE[df_14_EYE['ET_ValidityRight'] == 1].shape"
   ]
  },
  {
   "cell_type": "code",
   "execution_count": null,
   "id": "cc04b201",
   "metadata": {
    "id": "0d175df2"
   },
   "outputs": [],
   "source": [
    "df_14_EYE[df_14_EYE['ET_ValidityLeft'] == 1].shape[0] / df_14_EYE.shape[0]"
   ]
  },
  {
   "cell_type": "code",
   "execution_count": null,
   "id": "5ea30872",
   "metadata": {
    "id": "54cc0f9e"
   },
   "outputs": [],
   "source": [
    "df_14_EYE[df_14_EYE['ET_ValidityRight'] == 1].shape[0] / df_14_EYE.shape[0]"
   ]
  },
  {
   "cell_type": "code",
   "execution_count": null,
   "id": "36a4892a",
   "metadata": {
    "id": "45c977c1"
   },
   "outputs": [],
   "source": [
    "plt.figure(figsize=(18, 8))\n",
    "\n",
    "plt.subplot(1, 2, 1)\n",
    "sns.heatmap(df_14_EYE == -1, cmap='viridis')\n",
    "plt.title('Heatmap of -1 Values')\n",
    "\n",
    "plt.subplot(1, 2, 2)\n",
    "sns.heatmap(df_14_EYE == 1, cmap='viridis')\n",
    "plt.title('Heatmap of 1 Values')\n",
    "\n",
    "plt.tight_layout()\n",
    "plt.show()"
   ]
  },
  {
   "cell_type": "code",
   "execution_count": null,
   "id": "93f6a5f7",
   "metadata": {
    "id": "3b98a13b"
   },
   "outputs": [],
   "source": [
    "df_14_EYE[df_14_EYE['ET_PupilLeft'] == -1].shape"
   ]
  },
  {
   "cell_type": "code",
   "execution_count": null,
   "id": "c339cc90",
   "metadata": {
    "id": "a2f296f6"
   },
   "outputs": [],
   "source": [
    "df_14_EYE[df_14_EYE['ET_PupilRight'] == -1].shape"
   ]
  },
  {
   "cell_type": "code",
   "execution_count": null,
   "id": "257be111",
   "metadata": {
    "id": "42cff7eb"
   },
   "outputs": [],
   "source": [
    "df_14_EYE[df_14_EYE['ET_PupilLeft'] == -1].shape[0] / df_14_EYE.shape[0]"
   ]
  },
  {
   "cell_type": "code",
   "execution_count": null,
   "id": "7e913626",
   "metadata": {
    "id": "83c97903"
   },
   "outputs": [],
   "source": [
    "df_14_EYE[df_14_EYE['ET_PupilRight'] == -1].shape[0] / df_14_EYE.shape[0]"
   ]
  },
  {
   "cell_type": "code",
   "execution_count": null,
   "id": "ceffe9d5",
   "metadata": {
    "id": "6e176d63"
   },
   "outputs": [],
   "source": [
    "plt.figure(figsize=(18, 8))\n",
    "\n",
    "plt.subplot(1, 2, 1)\n",
    "sns.heatmap(df_14_EYE[df_14_EYE['ET_ValidityLeft'] == 1] == -1, cmap='viridis')\n",
    "plt.title('Heatmap of -1 Values')\n",
    "\n",
    "plt.subplot(1, 2, 2)\n",
    "sns.heatmap(df_14_EYE[df_14_EYE['ET_ValidityRight'] == 1] == -1, cmap='viridis')\n",
    "plt.title('Heatmap of -1 Values')\n",
    "\n",
    "plt.tight_layout()\n",
    "plt.show()"
   ]
  },
  {
   "cell_type": "markdown",
   "id": "ea71b582",
   "metadata": {
    "id": "fff8db39"
   },
   "source": [
    "# Notes & Observations\n",
    "\n",
    "- The heatmaps reveal the distribution of -1 values across different columns.\n",
    "- It is evident that the `-1` values are not randomly scattered but appear in specific columns, notably `ET_GazeLeftx`, `ET_GazeLefty`, `ET_GazeRightx`, `ET_GazeRighty`, `ET_PupilLeft`, `ET_PupilRight`, `ET_DistanceLeft`, `ET_DistanceRight`, `ET_CameraLeftX`, `ET_CameraLeftY`, `ET_CameraRightX`, and `ET_CameraRightY`.\n",
    "- These `-1` values often coincide with instances where `ET_ValidityLeft` or `ET_ValidityRight` is 1, indicating invalid eye-tracking data. This suggests that `-1` is used as a placeholder for missing or invalid measurements in these columns when the eye tracker is not providing valid data for a particular eye.\n",
    "- Given that over 70% of the data in the `ET_PupilLeft` and `ET_PupilRight` columns is marked as invalid (-1), so instead of dropping them we can create new feature for both the `ET_PupilLeft` and `ET_PupilRight` to represent which row consist invalid `ET_PupilLeft` and `ET_PupilRight` data"
   ]
  },
  {
   "cell_type": "code",
   "execution_count": null,
   "id": "7c209ff1",
   "metadata": {
    "id": "cf7437aa"
   },
   "outputs": [],
   "source": [
    "pupil_validity = {-1: 1 }"
   ]
  },
  {
   "cell_type": "code",
   "execution_count": null,
   "id": "6c67d1db",
   "metadata": {
    "id": "989b113d"
   },
   "outputs": [],
   "source": [
    "df_14_EYE['ET_PupilLeft_validity'] = df_14_EYE['ET_PupilLeft'].map(pupil_validity)"
   ]
  },
  {
   "cell_type": "code",
   "execution_count": null,
   "id": "6c5c7885",
   "metadata": {
    "id": "9ecdfbc0"
   },
   "outputs": [],
   "source": [
    "df_14_EYE['ET_PupilRight_validity'] = df_14_EYE['ET_PupilRight'].map(pupil_validity)"
   ]
  },
  {
   "cell_type": "code",
   "execution_count": null,
   "id": "e2990e8d",
   "metadata": {
    "id": "7f5d2b28"
   },
   "outputs": [],
   "source": [
    "df_14_EYE[['ET_PupilLeft_validity', 'ET_PupilRight_validity']].head()"
   ]
  },
  {
   "cell_type": "code",
   "execution_count": null,
   "id": "2a24ab54",
   "metadata": {
    "id": "6a86c472"
   },
   "outputs": [],
   "source": [
    "df_14_EYE[['ET_PupilLeft_validity', 'ET_PupilRight_validity']].isnull().sum()"
   ]
  },
  {
   "cell_type": "code",
   "execution_count": null,
   "id": "a778e7e8",
   "metadata": {
    "id": "9121e4a8"
   },
   "outputs": [],
   "source": [
    "plt.figure(figsize=(18, 8))\n",
    "sns.heatmap(df_14_EYE[['ET_PupilLeft_validity', 'ET_PupilRight_validity']].isnull(), cmap='viridis')\n",
    "plt.show()"
   ]
  },
  {
   "cell_type": "code",
   "execution_count": null,
   "id": "54fdef0c",
   "metadata": {
    "id": "613a230a"
   },
   "outputs": [],
   "source": [
    "df_14_EYE['ET_PupilLeft_validity'] = df_14_EYE['ET_PupilLeft_validity'].fillna(0)"
   ]
  },
  {
   "cell_type": "code",
   "execution_count": null,
   "id": "c875e694",
   "metadata": {
    "id": "89ae7d3f"
   },
   "outputs": [],
   "source": [
    "df_14_EYE['ET_PupilRight_validity'] = df_14_EYE['ET_PupilRight_validity'].fillna(0)"
   ]
  },
  {
   "cell_type": "code",
   "execution_count": null,
   "id": "f958efe4",
   "metadata": {
    "id": "a2c39f03"
   },
   "outputs": [],
   "source": [
    "df_14_EYE[['ET_PupilLeft_validity', 'ET_PupilRight_validity']].head()"
   ]
  },
  {
   "cell_type": "code",
   "execution_count": null,
   "id": "ca72db44",
   "metadata": {
    "id": "6e9c2645"
   },
   "outputs": [],
   "source": [
    "plt.figure(figsize=(18, 8))\n",
    "sns.heatmap(df_14_EYE[['ET_PupilLeft_validity', 'ET_PupilRight_validity']].isnull(), cmap='viridis')\n",
    "plt.show()"
   ]
  },
  {
   "cell_type": "code",
   "execution_count": null,
   "id": "fc2a17e0",
   "metadata": {
    "id": "7e52da92"
   },
   "outputs": [],
   "source": [
    "df_14_EYE.head()"
   ]
  },
  {
   "cell_type": "code",
   "execution_count": null,
   "id": "5e31e6b3",
   "metadata": {
    "id": "1cefd42d"
   },
   "outputs": [],
   "source": [
    "plt.figure(figsize=(18, 8))\n",
    "\n",
    "plt.subplot(1, 2, 1)\n",
    "sns.heatmap(df_14_EYE == -1, cmap='viridis')\n",
    "plt.title('Heatmap of -1 Values')\n",
    "\n",
    "plt.subplot(1, 2, 2)\n",
    "sns.heatmap(df_14_EYE == 1, cmap='viridis')\n",
    "plt.title('Heatmap of -1 Values')\n",
    "\n",
    "plt.tight_layout()\n",
    "plt.show()"
   ]
  },
  {
   "cell_type": "code",
   "execution_count": null,
   "id": "1f60062e",
   "metadata": {
    "id": "dcf38f27"
   },
   "outputs": [],
   "source": [
    "valid_left_ratio  = 1 - df_14_EYE['ET_ValidityLeft'].mean()"
   ]
  },
  {
   "cell_type": "code",
   "execution_count": null,
   "id": "ec4f6978",
   "metadata": {
    "id": "2aea00ec"
   },
   "outputs": [],
   "source": [
    "valid_left_ratio"
   ]
  },
  {
   "cell_type": "code",
   "execution_count": null,
   "id": "e908c53a",
   "metadata": {
    "id": "19ac306c"
   },
   "outputs": [],
   "source": [
    "valid_right_ratio = 1 - df_14_EYE['ET_ValidityRight'].mean()"
   ]
  },
  {
   "cell_type": "code",
   "execution_count": null,
   "id": "fd7fa284",
   "metadata": {
    "id": "4f0aa48e"
   },
   "outputs": [],
   "source": [
    "valid_right_ratio"
   ]
  },
  {
   "cell_type": "code",
   "execution_count": null,
   "id": "4cfc3b40",
   "metadata": {
    "id": "a000b670"
   },
   "outputs": [],
   "source": [
    "df_14_EYE['ET_PupilLeft_validity'] = df_14_EYE['ET_PupilLeft_validity'].astype(np.int8)\n",
    "df_14_EYE['ET_PupilRight_validity'] = df_14_EYE['ET_PupilRight_validity'].astype(np.int8)"
   ]
  },
  {
   "cell_type": "markdown",
   "id": "8c1e85f8",
   "metadata": {
    "id": "6acf6847"
   },
   "source": [
    "# Feature Engineering and Observations\n",
    "\n",
    "Based on the analysis of the data, we've created two new features, `ET_PupilLeft_validity` and `ET_PupilRight_validity`. These features indicate the validity of the pupil data for the left and right eyes, respectively, with a value of 1 representing invalid data (originally -1) and 0 representing valid data.\n",
    "\n",
    "The heatmaps above visually demonstrate the distribution of -1 and 1 values across the dataset. We observed that:\n",
    "- The `-1` values are concentrated in specific columns related to gaze, pupil size, distance, and camera position, suggesting they represent missing or invalid sensor readings.\n",
    "- The `1` values, after mapping from `4.0` in the original validity columns, indicate instances of invalid eye-tracking data.\n",
    "- The heatmaps also show a strong correlation between the `-1` values in the pupil columns and a validity of 1 in the newly created pupil validity features, confirming that -1 was used to mark invalid pupil data."
   ]
  },
  {
   "cell_type": "code",
   "execution_count": null,
   "id": "0ced6511",
   "metadata": {
    "id": "de9f2594"
   },
   "outputs": [],
   "source": [
    "df_14_EYE.head()"
   ]
  },
  {
   "cell_type": "code",
   "execution_count": null,
   "id": "f1e0aedc",
   "metadata": {
    "id": "bfa2e174"
   },
   "outputs": [],
   "source": [
    "# Select only the numeric columns for plotting histograms, excluding time-related columns\n",
    "numeric_cols = df_14_EYE.select_dtypes(include=np.number).columns\n",
    "cols_to_plot = [col for col in numeric_cols if col not in ['UnixTime']]\n",
    "\n",
    "# Calculate the number of rows and columns for the grid\n",
    "n_cols = 4  # You can adjust the number of columns as needed\n",
    "n_rows = (len(cols_to_plot) + n_cols - 1) // n_cols\n",
    "\n",
    "plt.figure(figsize=(n_cols * 5, n_rows * 4)) # Adjust figure size as needed\n",
    "\n",
    "for i, col in enumerate(cols_to_plot):\n",
    "    plt.subplot(n_rows, n_cols, i + 1)\n",
    "    sns.histplot(df_14_EYE[col], kde=True)\n",
    "    plt.title(f'Distribution of {col}')\n",
    "    plt.xlabel(col)\n",
    "    plt.ylabel('Frequency')\n",
    "\n",
    "plt.tight_layout()\n",
    "plt.show()"
   ]
  },
  {
   "cell_type": "markdown",
   "id": "0447f6ee",
   "metadata": {
    "id": "8059766d"
   },
   "source": [
    "# Observations from Histograms\n",
    "\n",
    "The grid of histograms provides insights into the distribution of values for each numeric column in the dataset (excluding 'UnixTime'). Key observations include:\n",
    "\n",
    "- Several columns, such as `ET_GazeLeftx`, `ET_GazeLefty`, `ET_GazeRightx`, and `ET_GazeRighty`, show distributions that appear somewhat multimodal or skewed, suggesting variations in gaze patterns.\n",
    "- The `ET_PupilLeft` and `ET_PupilRight` histograms clearly show a peak at -1, confirming the presence of a significant number of invalid pupil readings.\n",
    "- `ET_TimeSignal` shows a relatively uniform distribution, as expected for a time-based signal.\n",
    "- `ET_DistanceLeft` and `ET_DistanceRight` appear to have distributions centered around certain values, with some outliers or variations.\n",
    "- The camera position columns (`ET_CameraLeftX`, `ET_CameraLeftY`, `ET_CameraRightX`, `ET_CameraRightY`) seem to have distributions concentrated within specific ranges, reflecting the camera's field of view.\n",
    "- The validity columns (`ET_ValidityLeft`, `ET_ValidityRight`, `ET_PupilLeft_validity`, `ET_PupilRight_validity`) show distributions dominated by 0, indicating that most of the data is considered valid after the mapping. The smaller peaks at 1 represent the instances of invalid data.\n",
    "\n",
    "These distributions highlight the need for appropriate handling of the -1 values and potential outliers in subsequent analysis or modeling steps."
   ]
  },
  {
   "cell_type": "code",
   "execution_count": null,
   "id": "d6456c0f",
   "metadata": {
    "id": "cb65ae1e"
   },
   "outputs": [],
   "source": [
    "df_14_EYE.columns"
   ]
  },
  {
   "cell_type": "code",
   "execution_count": null,
   "id": "5558ee28",
   "metadata": {
    "id": "8cf2280c"
   },
   "outputs": [],
   "source": [
    "cols = ['ET_GazeLeftx', 'ET_GazeLefty',\n",
    "       'ET_GazeRightx', 'ET_GazeRighty', 'ET_PupilLeft', 'ET_PupilRight',\n",
    "       'ET_TimeSignal', 'ET_DistanceLeft', 'ET_DistanceRight',\n",
    "       'ET_CameraLeftX', 'ET_CameraLeftY', 'ET_CameraRightX',\n",
    "       'ET_CameraRightY', 'ET_ValidityLeft', 'ET_ValidityRight',\n",
    "       'ET_PupilLeft_validity', 'ET_PupilRight_validity']"
   ]
  },
  {
   "cell_type": "code",
   "execution_count": null,
   "id": "cec4d4e8",
   "metadata": {
    "id": "85e45ea9"
   },
   "outputs": [],
   "source": [
    "from IPython.display import display, Markdown\n",
    "\n",
    "for col in cols:\n",
    "    # Add a markdown cell before each plot for better separation and labeling\n",
    "    display(Markdown(f'### {col} over Time'))\n",
    "    plt.figure(figsize=(16, 10))\n",
    "    plt.plot(df_14_EYE['Timestamp'], df_14_EYE[col])\n",
    "    plt.xlabel(\"Timestamp\") # Add x-axis label\n",
    "    plt.ylabel(col) # Add y-axis label\n",
    "    plt.show()"
   ]
  },
  {
   "cell_type": "markdown",
   "id": "c33e5c8d",
   "metadata": {
    "id": "f7ffd08f"
   },
   "source": [
    "# Observations from Time Series Plots\n",
    "\n",
    "The line plots showing various features against the `Timestamp` reveal the temporal patterns and fluctuations in the eye-tracking data. Key observations include:\n",
    "\n",
    "- **Gaze Coordinates (`ET_GazeLeftx`, `ET_GazeLefty`, `ET_GazeRightx`, `ET_GazeRighty`):** These plots show the changes in gaze position over time. We can observe periods of relatively stable gaze interspersed with rapid movements (saccades) and blinks or other events where the gaze data might be invalid (-1 values appear as gaps or spikes if not handled).\n",
    "- **Pupil Size (`ET_PupilLeft`, `ET_PupilRight`):** The pupil size plots show variations over time. The presence of many -1 values is evident as flat lines at the bottom of the plot, indicating periods where pupil data was not recorded or was invalid.\n",
    "- **Time Signal (`ET_TimeSignal`):** This plot shows a steady, increasing trend, as expected for a time-based signal.\n",
    "- **Distance and Camera Position (`ET_DistanceLeft`, `ET_DistanceRight`, `ET_CameraLeftX`, `ET_CameraLeftY`, `ET_CameraRightX`, `ET_CameraRightY`):** These plots show how the distance from the eye tracker and the camera positions change over time. Variations in these features can be related to head movements or changes in the user's position relative to the eye tracker.\n",
    "- **Validity (`ET_ValidityLeft`, `ET_ValidityRight`, `ET_PupilLeft_validity`, `ET_PupilRight_validity`):** These plots clearly show periods of invalid data (represented by 1) as spikes or plateaus, corresponding to instances where the eye tracker lost track of the eyes or the pupil data was marked as invalid.\n",
    "\n",
    "Analyzing these time series plots is crucial for understanding the dynamics of the eye-tracking data and identifying patterns or anomalies that may require further investigation or specific handling during subsequent analysis."
   ]
  },
  {
   "cell_type": "code",
   "execution_count": null,
   "id": "cb38c7d5",
   "metadata": {
    "id": "cdd85f8c"
   },
   "outputs": [],
   "source": [
    "# Select only the numeric columns for plotting histograms, excluding time-related columns\n",
    "numeric_cols = df_14_EYE.select_dtypes(include=np.number).columns\n",
    "\n",
    "# Calculate the number of rows and columns for the grid\n",
    "n_cols = 4  # You can adjust the number of columns as needed\n",
    "n_rows = (len(numeric_cols) + n_cols - 1) // n_cols\n",
    "\n",
    "plt.figure(figsize=(n_cols * 5, n_rows * 4)) # Adjust figure size as needed\n",
    "\n",
    "for i, col in enumerate(numeric_cols):\n",
    "    plt.subplot(n_rows, n_cols, i + 1)\n",
    "    sns.boxplot(df_14_EYE[col])\n",
    "    plt.title(f'Boxplot of {col}')\n",
    "    plt.xlabel(col)\n",
    "\n",
    "plt.tight_layout()\n",
    "plt.show()"
   ]
  },
  {
   "cell_type": "markdown",
   "id": "4bec33c9",
   "metadata": {
    "id": "2cca19c5"
   },
   "source": [
    "# Observations from Boxplots and Handling -1 Values\n",
    "\n",
    "The boxplots provide a visual summary of the distribution and potential outliers for each numeric column. Key observations from the boxplots include:\n",
    "\n",
    "- The boxplots for columns like `ET_GazeLeftx`, `ET_GazeLefty`, `ET_GazeRightx`, `ET_GazeRighty`, `ET_PupilLeft`, `ET_PupilRight`, `ET_DistanceLeft`, `ET_DistanceRight`, `ET_CameraLeftX`, `ET_CameraLeftY`, `ET_CameraRightX`, and `ET_CameraRightY` clearly show the presence of -1 values as significant outliers, confirming our earlier observations from the heatmaps and histograms.\n",
    "- The boxplots for the validity columns (`ET_ValidityLeft`, `ET_ValidityRight`, `ET_PupilLeft_validity`, `ET_PupilRight_validity`) show the discrete nature of these features, with the majority of data points at 0 (valid) and a smaller number at 1 (invalid).\n",
    "\n",
    "Given the significant presence of -1 values, which represent invalid or missing data, especially in the pupil-related columns, we have decided to replace these -1 values with NaN to properly represent them as missing data. Subsequently, we will impute these missing values using the mean of each respective column. This approach helps to retain the data structure and allows for further analysis or modeling without the distortion caused by the -1 placeholders."
   ]
  },
  {
   "cell_type": "code",
   "execution_count": null,
   "id": "27cbc210",
   "metadata": {
    "id": "9217371b"
   },
   "outputs": [],
   "source": [
    "df_14_EYE.replace({-1: np.nan}, inplace=True)"
   ]
  },
  {
   "cell_type": "code",
   "execution_count": null,
   "id": "d347d2cd",
   "metadata": {
    "id": "8108fa01"
   },
   "outputs": [],
   "source": [
    "df_14_EYE[['ET_GazeLeftx', 'ET_GazeLefty',\n",
    "       'ET_GazeRightx', 'ET_GazeRighty', 'ET_PupilLeft', 'ET_PupilRight',\n",
    "       'ET_TimeSignal', 'ET_DistanceLeft', 'ET_DistanceRight',\n",
    "       'ET_CameraLeftX', 'ET_CameraLeftY', 'ET_CameraRightX',\n",
    "       'ET_CameraRightY', 'ET_ValidityLeft', 'ET_ValidityRight',\n",
    "       'ET_PupilLeft_validity', 'ET_PupilRight_validity']].mean()"
   ]
  },
  {
   "cell_type": "code",
   "execution_count": null,
   "id": "33bfa346",
   "metadata": {
    "id": "9b94fbce"
   },
   "outputs": [],
   "source": [
    "df_14_EYE[['ET_GazeLeftx', 'ET_GazeLefty',\n",
    "       'ET_GazeRightx', 'ET_GazeRighty', 'ET_PupilLeft', 'ET_PupilRight',\n",
    "       'ET_TimeSignal', 'ET_DistanceLeft', 'ET_DistanceRight',\n",
    "       'ET_CameraLeftX', 'ET_CameraLeftY', 'ET_CameraRightX',\n",
    "       'ET_CameraRightY', 'ET_ValidityLeft', 'ET_ValidityRight',\n",
    "       'ET_PupilLeft_validity', 'ET_PupilRight_validity']].median()"
   ]
  },
  {
   "cell_type": "code",
   "execution_count": null,
   "id": "2d724a30",
   "metadata": {
    "id": "ee1238c8"
   },
   "outputs": [],
   "source": [
    "numeric_cols = df_14_EYE.select_dtypes(include=np.number).columns\n",
    "\n",
    "for col in numeric_cols:\n",
    "    df_14_EYE[col] = df_14_EYE[col].fillna(df_14_EYE[col].mean())"
   ]
  },
  {
   "cell_type": "code",
   "execution_count": null,
   "id": "30747609",
   "metadata": {
    "id": "b0bc522d"
   },
   "outputs": [],
   "source": [
    "plt.figure(figsize=(18, 8))\n",
    "\n",
    "plt.subplot(1, 2, 1)\n",
    "sns.heatmap(df_14_EYE.isnull(), cmap='viridis')\n",
    "plt.title('Heatmap of Missing Values After Imputation')\n",
    "\n",
    "plt.subplot(1, 2, 2)\n",
    "sns.heatmap(df_14_EYE == 1, cmap='viridis')\n",
    "plt.title('Heatmap of 1 Values')\n",
    "\n",
    "plt.tight_layout()\n",
    "plt.show()"
   ]
  },
  {
   "cell_type": "markdown",
   "id": "cc574e34",
   "metadata": {
    "id": "c0f1e10d"
   },
   "source": [
    "# Handling Missing Values (Imputation)\n",
    "\n",
    "As decided, we have replaced all the `-1` values with `NaN` to treat them as missing data. Subsequently, we have imputed these `NaN` values with the mean of their respective columns. The heatmap above, which was generated after the imputation, now shows no visible signs of `NaN` values, indicating that the imputation was successful."
   ]
  },
  {
   "cell_type": "code",
   "execution_count": null,
   "id": "4c19a501",
   "metadata": {
    "id": "2491c1da"
   },
   "outputs": [],
   "source": [
    "df_14_EYE.head()"
   ]
  },
  {
   "cell_type": "code",
   "execution_count": null,
   "id": "a8007f28",
   "metadata": {
    "id": "64f04350"
   },
   "outputs": [],
   "source": [
    "# Select only the numeric columns for plotting histograms, excluding time-related columns\n",
    "numeric_cols = df_14_EYE.select_dtypes(include=np.number).columns\n",
    "cols_to_plot = [col for col in numeric_cols if col not in ['UnixTime']]\n",
    "\n",
    "# Calculate the number of rows and columns for the grid\n",
    "n_cols = 4  # You can adjust the number of columns as needed\n",
    "n_rows = (len(cols_to_plot) + n_cols - 1) // n_cols\n",
    "\n",
    "plt.figure(figsize=(n_cols * 5, n_rows * 4)) # Adjust figure size as needed\n",
    "\n",
    "for i, col in enumerate(cols_to_plot):\n",
    "    plt.subplot(n_rows, n_cols, i + 1)\n",
    "    sns.histplot(df_14_EYE[col], kde=True)\n",
    "    plt.title(f'Distribution of {col}')\n",
    "    plt.xlabel(col)\n",
    "    plt.ylabel('Frequency')\n",
    "\n",
    "plt.tight_layout()\n",
    "plt.show()"
   ]
  },
  {
   "cell_type": "markdown",
   "id": "07707fe4",
   "metadata": {
    "id": "e0c83f1c"
   },
   "source": [
    "# Observations from Histograms After Imputation\n",
    "\n",
    "The histograms generated after replacing the -1 values with the mean of each column show the distributions of the numeric features with the missing data handled. Key observations from these updated histograms include:\n",
    "\n",
    "- The distinct peaks at -1, which were prominent in the histograms for several columns (e.g., pupil size, gaze coordinates, distance, and camera position) before imputation, are now replaced by a peak at the mean of each respective column.\n",
    "- The distributions in many columns now appear more unimodal or show shifted modes compared to the original histograms.\n",
    "- The histograms for the validity columns still show their bimodal distributions with peaks at 0 and 1, as these were handled separately.\n",
    "\n",
    "These histograms provide an updated view of the data's distribution after handling the missing values, highlighting the impact of the imputation method on the data's characteristics."
   ]
  },
  {
   "cell_type": "code",
   "execution_count": null,
   "id": "167f9cd8",
   "metadata": {
    "id": "de0b2f65"
   },
   "outputs": [],
   "source": [
    "cols = ['ET_GazeLeftx', 'ET_GazeLefty',\n",
    "       'ET_GazeRightx', 'ET_GazeRighty', 'ET_PupilLeft', 'ET_PupilRight',\n",
    "       'ET_TimeSignal', 'ET_DistanceLeft', 'ET_DistanceRight',\n",
    "       'ET_CameraLeftX', 'ET_CameraLeftY', 'ET_CameraRightX',\n",
    "       'ET_CameraRightY', 'ET_ValidityLeft', 'ET_ValidityRight',\n",
    "       'ET_PupilLeft_validity', 'ET_PupilRight_validity']"
   ]
  },
  {
   "cell_type": "code",
   "execution_count": null,
   "id": "2b681fa7",
   "metadata": {
    "id": "4ddd4915"
   },
   "outputs": [],
   "source": [
    "for col in cols:\n",
    "    # Add a markdown cell before each plot for better separation and labeling\n",
    "    display(Markdown(f'### {col} over Time'))\n",
    "    plt.figure(figsize=(16, 10))\n",
    "    plt.plot(df_14_EYE['Timestamp'], df_14_EYE[col])\n",
    "    plt.xlabel(\"Timestamp\") # Add x-axis label\n",
    "    plt.ylabel(col) # Add y-axis label\n",
    "    plt.show()"
   ]
  },
  {
   "cell_type": "markdown",
   "id": "a6cc11e6",
   "metadata": {
    "id": "0fb07abb"
   },
   "source": [
    "# Observations from Time Series Plots After Imputation\n",
    "\n",
    "The line plots generated after imputing the missing values with the mean show the temporal patterns of the features with the missing data handled. Key observations from these updated plots include:\n",
    "\n",
    "- The gaps or flat lines at -1, which were prominent in the plots for columns like gaze coordinates, pupil size, distance, and camera position, are now filled by lines at the mean value of the respective columns.\n",
    "- The plots for the validity columns remain the same as they were handled separately.\n",
    "- The `ET_TimeSignal` plot still shows a steady increasing trend, as expected."
   ]
  },
  {
   "cell_type": "code",
   "execution_count": null,
   "id": "9a2b6b14",
   "metadata": {
    "id": "c608fd95"
   },
   "outputs": [],
   "source": [
    "plt.figure(figsize=(16, 10))\n",
    "sns.heatmap(df_14_EYE.corr(numeric_only=True), cmap='YlGnBu', annot=True)\n",
    "plt.show()"
   ]
  },
  {
   "cell_type": "markdown",
   "id": "85ddcef9",
   "metadata": {
    "id": "82405ba6"
   },
   "source": [
    "# Observations from Correlation Heatmap\n",
    "\n",
    "The correlation heatmap provides a visual representation of the pairwise correlations between the numeric columns in the dataset. Key observations from the heatmap include:\n",
    "\n",
    "- **High Positive Correlations:** We observe strong positive correlations (values close to 1) between:\n",
    "  - `ET_GazeLeftx` and `ET_GazeRightx`: This is expected as the gaze positions of both eyes should be highly correlated when fixating on a point.\n",
    "  - `ET_GazeLefty` and `ET_GazeRighty`: Similar to the x-coordinates, the y-coordinates of gaze should also be highly correlated.\n",
    "  - `ET_PupilLeft` and `ET_PupilRight`: Pupil sizes of both eyes tend to change together in response to light and cognitive load.\n",
    "  - `ET_DistanceLeft` and `ET_DistanceRight`: The distance from the eye tracker to each eye should be highly correlated.\n",
    "  - `ET_CameraLeftX` and `ET_CameraRightX`, `ET_CameraLeftY` and `ET_CameraRightY`: The camera positions for both eyes are also expected to be highly correlated.\n",
    "  - `UnixTime` and `ET_TimeSignal`: As previously noted, these two columns are almost perfectly linearly correlated, indicating redundancy.\n",
    "  - `ET_ValidityLeft` and `ET_PupilLeft_validity`: There is a positive correlation, suggesting that when the overall left eye data is invalid, the left pupil data is also likely to be invalid.\n",
    "  - `ET_ValidityRight` and `ET_PupilRight_validity`: Similar to the left eye, there is a positive correlation between the overall right eye validity and the right pupil validity.\n",
    "- **Other Correlations:** We can also observe other varying degrees of correlations between different features, which can provide insights into the relationships between gaze behavior, pupil size, distance, and camera position. For example, there might be correlations between gaze coordinates and camera positions, reflecting head movements.\n",
    "- **Low or Near-Zero Correlations:** Columns with low or near-zero correlations are relatively independent of each other.\n",
    "\n",
    "Understanding these correlations is important for feature selection and for building models, as highly correlated features might indicate multicollinearity, while correlations between features can reveal underlying patterns in the data."
   ]
  },
  {
   "cell_type": "markdown",
   "id": "b5c65bec",
   "metadata": {
    "id": "1c413c3b"
   },
   "source": [
    "# Analysis of ET_TimeSignal and Decision to Drop\n",
    "\n",
    "As observed in the time series plot and confirmed by the correlation heatmap, the `ET_TimeSignal` column exhibits a near-perfect linear relationship with both the `Timestamp` and `UnixTime` columns. This strong correlation (close to 1) suggests that `ET_TimeSignal` is essentially redundant and likely represents another form of time recording or a signal directly derived from the timestamp.\n",
    "\n",
    "Including highly correlated features like this in a dataset can lead to issues such as multicollinearity in some statistical models, which can make it difficult to interpret the individual impact of each feature. Since the `Timestamp` column already provides the necessary temporal information, retaining `ET_TimeSignal` does not appear to add significant value for further analysis or modeling in most cases.\n",
    "\n",
    "Therefore, based on its high correlation and lack of unique insight, we will proceed to drop the `ET_TimeSignal` column to simplify the dataset and potentially improve the performance and interpretability of future analyses."
   ]
  },
  {
   "cell_type": "code",
   "execution_count": null,
   "id": "efd120d2",
   "metadata": {
    "id": "7c96e349"
   },
   "outputs": [],
   "source": [
    "df_14_EYE.drop('ET_TimeSignal', axis=1, inplace=True)"
   ]
  },
  {
   "cell_type": "code",
   "execution_count": null,
   "id": "cf06465a",
   "metadata": {
    "id": "5845a61d"
   },
   "outputs": [],
   "source": [
    "plt.figure(figsize=(16, 10))\n",
    "sns.pairplot(df_14_EYE)\n",
    "plt.show()"
   ]
  },
  {
   "cell_type": "markdown",
   "id": "8b11f219",
   "metadata": {
    "id": "sMcHS8LIOGeT"
   },
   "source": [
    "# **15_EYE**"
   ]
  },
  {
   "cell_type": "code",
   "execution_count": null,
   "id": "1c6fee5f",
   "metadata": {
    "id": "L2tJooyROWnM"
   },
   "outputs": [],
   "source": []
  },
  {
   "cell_type": "code",
   "execution_count": null,
   "id": "b67c4962",
   "metadata": {
    "id": "6c647c4f"
   },
   "outputs": [],
   "source": [
    "df_15_EYE = pd.read_csv('data/STData/15/15_EYE.csv')"
   ]
  },
  {
   "cell_type": "code",
   "execution_count": null,
   "id": "bf9da090",
   "metadata": {
    "id": "c229bba7"
   },
   "outputs": [],
   "source": [
    "df_15_EYE.head()"
   ]
  },
  {
   "cell_type": "code",
   "execution_count": null,
   "id": "e597851c",
   "metadata": {
    "id": "0ec8e716"
   },
   "outputs": [],
   "source": [
    "df_15_EYE.shape"
   ]
  },
  {
   "cell_type": "code",
   "execution_count": null,
   "id": "4439d036",
   "metadata": {
    "id": "43ba37eb"
   },
   "outputs": [],
   "source": [
    "df_15_EYE.columns"
   ]
  },
  {
   "cell_type": "code",
   "execution_count": null,
   "id": "b261a86b",
   "metadata": {
    "id": "19f68fb4"
   },
   "outputs": [],
   "source": [
    "df_15_EYE.info()"
   ]
  },
  {
   "cell_type": "code",
   "execution_count": null,
   "id": "f4bd54b3",
   "metadata": {
    "id": "603369d7"
   },
   "outputs": [],
   "source": [
    "df_15_EYE.isnull().sum()"
   ]
  },
  {
   "cell_type": "code",
   "execution_count": null,
   "id": "8c24d99f",
   "metadata": {
    "id": "874353e3"
   },
   "outputs": [],
   "source": [
    "plt.figure(figsize=(12,8))\n",
    "sns.heatmap(df_15_EYE.isnull(), cmap='viridis')\n",
    "plt.show()"
   ]
  },
  {
   "cell_type": "markdown",
   "id": "1eaad9ae",
   "metadata": {
    "id": "b17906e7"
   },
   "source": [
    "# Notes & Observations\n",
    "\n",
    "- We observe many **null** (or missing) values in the `QuestionKey` columns.\n",
    "- The nulls in the `QuestionKey` column may not represent “true” nulls. Rather, they follow interval patterns, suggesting that during those periods no question was displayed.\n",
    "- These missing values in `QuestionKey` require additional investigation and context-aware handling."
   ]
  },
  {
   "cell_type": "code",
   "execution_count": null,
   "id": "33a11cca",
   "metadata": {
    "id": "1113779e"
   },
   "outputs": [],
   "source": [
    "df_15_EYE['QuestionKey'].unique()"
   ]
  },
  {
   "cell_type": "code",
   "execution_count": null,
   "id": "b700e1bb",
   "metadata": {
    "id": "db0a93a2"
   },
   "outputs": [],
   "source": [
    "df_15_EYE['Timestamp'] = pd.to_datetime(df_15_EYE['Timestamp'])"
   ]
  },
  {
   "cell_type": "code",
   "execution_count": null,
   "id": "d8c64624",
   "metadata": {
    "id": "03d57b0a"
   },
   "outputs": [],
   "source": [
    "df_15_EYE.head(3)"
   ]
  },
  {
   "cell_type": "code",
   "execution_count": null,
   "id": "fcb4fdd2",
   "metadata": {
    "id": "c0004029"
   },
   "outputs": [],
   "source": [
    "df_15_EYE['QuestionKey'] = df_15_EYE['QuestionKey'].fillna('None')"
   ]
  },
  {
   "cell_type": "code",
   "execution_count": null,
   "id": "984fb3a6",
   "metadata": {
    "id": "dfb4729e"
   },
   "outputs": [],
   "source": [
    "df_15_EYE['QuestionKey'].value_counts()"
   ]
  },
  {
   "cell_type": "code",
   "execution_count": null,
   "id": "99ceed05",
   "metadata": {
    "id": "9353c9d8"
   },
   "outputs": [],
   "source": [
    "plt.figure(figsize=(12,8))\n",
    "sns.heatmap(df_15_EYE.isnull(), cmap='viridis')\n",
    "plt.show()"
   ]
  },
  {
   "cell_type": "code",
   "execution_count": null,
   "id": "0d1d3522",
   "metadata": {
    "id": "5c73d150"
   },
   "outputs": [],
   "source": [
    "df_15_EYE.isnull().sum()"
   ]
  },
  {
   "cell_type": "code",
   "execution_count": null,
   "id": "eb1dcd01",
   "metadata": {
    "id": "6c700142"
   },
   "outputs": [],
   "source": [
    "df_15_EYE.dropna(inplace=True)"
   ]
  },
  {
   "cell_type": "code",
   "execution_count": null,
   "id": "10de939f",
   "metadata": {
    "id": "90a604ce"
   },
   "outputs": [],
   "source": [
    "df_15_EYE.head()"
   ]
  },
  {
   "cell_type": "code",
   "execution_count": null,
   "id": "1a83695c",
   "metadata": {
    "id": "a43a4283"
   },
   "outputs": [],
   "source": [
    "df_15_EYE['Row'].unique()"
   ]
  },
  {
   "cell_type": "code",
   "execution_count": null,
   "id": "4f5ec637",
   "metadata": {
    "id": "f66566f9"
   },
   "outputs": [],
   "source": [
    "plt.figure(figsize=(8,6))\n",
    "sns.histplot(df_15_EYE['Row'])\n",
    "plt.show()"
   ]
  },
  {
   "cell_type": "markdown",
   "id": "53914da5",
   "metadata": {
    "id": "5ddf40fd"
   },
   "source": [
    "# Notes & Observations\n",
    "\n",
    "- The `Row` column appears to be a simple row index and does not provide meaningful information relevant to the eye-tracking data itself. Therefore, it can be dropped."
   ]
  },
  {
   "cell_type": "code",
   "execution_count": null,
   "id": "658e65a6",
   "metadata": {
    "id": "5aee4404"
   },
   "outputs": [],
   "source": [
    "df_15_EYE.drop('Row', axis=1, inplace=True)"
   ]
  },
  {
   "cell_type": "code",
   "execution_count": null,
   "id": "c1781b7b",
   "metadata": {
    "id": "827f3274"
   },
   "outputs": [],
   "source": [
    "df_15_EYE['ET_ValidityLeft'].unique()"
   ]
  },
  {
   "cell_type": "code",
   "execution_count": null,
   "id": "7df63a2a",
   "metadata": {
    "id": "1437751a"
   },
   "outputs": [],
   "source": [
    "df_15_EYE['ET_ValidityLeft'].value_counts()"
   ]
  },
  {
   "cell_type": "code",
   "execution_count": null,
   "id": "29c3abfe",
   "metadata": {
    "id": "d0a9ee4a"
   },
   "outputs": [],
   "source": [
    "df_15_EYE['ET_ValidityRight'].unique()"
   ]
  },
  {
   "cell_type": "code",
   "execution_count": null,
   "id": "a03bd99f",
   "metadata": {
    "id": "55ddcc2b"
   },
   "outputs": [],
   "source": [
    "df_15_EYE['ET_ValidityRight'].value_counts()"
   ]
  },
  {
   "cell_type": "code",
   "execution_count": null,
   "id": "74a8a9c2",
   "metadata": {
    "id": "faef00be"
   },
   "outputs": [],
   "source": [
    "plt.figure(figsize=(12, 6))\n",
    "\n",
    "plt.subplot(1, 2, 1)\n",
    "sns.barplot(x=df_15_EYE['ET_ValidityLeft'].value_counts().index, y=df_15_EYE['ET_ValidityLeft'].value_counts().values)\n",
    "plt.title('Count of ET_ValidityLeft')\n",
    "plt.xlabel('Validity')\n",
    "plt.ylabel('Count')\n",
    "\n",
    "\n",
    "plt.subplot(1, 2, 2)\n",
    "sns.barplot(x=df_15_EYE['ET_ValidityRight'].value_counts().index, y=df_15_EYE['ET_ValidityRight'].value_counts().values)\n",
    "plt.title('Count of ET_ValidityRight')\n",
    "plt.xlabel('Validity')\n",
    "plt.ylabel('Count')\n",
    "\n",
    "plt.tight_layout()\n",
    "plt.show()"
   ]
  },
  {
   "cell_type": "markdown",
   "id": "66b3a115",
   "metadata": {
    "id": "b43706ea"
   },
   "source": [
    "# Notes & Observations\n",
    "\n",
    "- The `ET_ValidityLeft` and `ET_ValidityRight` columns indicate the validity of the eye-tracking data for the left and right eye, respectively.\n",
    "- Based on the value counts and the bar plots, it appears that a value of `0.0` represents valid eye-tracking data, while a value of `4.0` represents invalid data.\n",
    "- Although the amount of invalid data is relatively small, removing these rows could introduce unwanted patterns or gaps in the time series data.\n",
    "- Therefore, we will keep the data and replace the value `4.0` with `1.0` in both `ET_ValidityLeft` and `ET_ValidityRight` columns. This will indicate to a machine learning model that the eye tracker had invalid data at those specific points in time while maintaining the integrity of the time series."
   ]
  },
  {
   "cell_type": "markdown",
   "id": "7597128a",
   "metadata": {
    "id": "e9e671b2"
   },
   "source": [
    "Define a mapping to convert validity values from `0.0` and `4.0` to `0` and `1`."
   ]
  },
  {
   "cell_type": "code",
   "execution_count": null,
   "id": "9d282e78",
   "metadata": {
    "id": "08e7ed71"
   },
   "outputs": [],
   "source": [
    "validity_map = {4.0: 1.0, 0.0: 0.0}"
   ]
  },
  {
   "cell_type": "code",
   "execution_count": null,
   "id": "1d63d5fa",
   "metadata": {
    "id": "0bba3ac0"
   },
   "outputs": [],
   "source": [
    "df_15_EYE['ET_ValidityLeft'] = df_15_EYE['ET_ValidityLeft'].map(validity_map).astype(np.int8)\n",
    "df_15_EYE['ET_ValidityRight'] = df_15_EYE['ET_ValidityRight'].map(validity_map).astype(np.int8)"
   ]
  },
  {
   "cell_type": "code",
   "execution_count": null,
   "id": "45b934c5",
   "metadata": {
    "id": "0ff3f16c"
   },
   "outputs": [],
   "source": [
    "df_15_EYE.head(3)"
   ]
  },
  {
   "cell_type": "code",
   "execution_count": null,
   "id": "8c19b6b0",
   "metadata": {
    "id": "32eb3225"
   },
   "outputs": [],
   "source": [
    "df_15_EYE.describe()"
   ]
  },
  {
   "cell_type": "code",
   "execution_count": null,
   "id": "5b9728c9",
   "metadata": {
    "id": "c1e092e1"
   },
   "outputs": [],
   "source": [
    "df_15_EYE[df_15_EYE['ET_ValidityLeft'] == 1].shape"
   ]
  },
  {
   "cell_type": "code",
   "execution_count": null,
   "id": "0867e45e",
   "metadata": {
    "id": "8ebfb0cc"
   },
   "outputs": [],
   "source": [
    "df_15_EYE[df_15_EYE['ET_ValidityRight'] == 1].shape"
   ]
  },
  {
   "cell_type": "code",
   "execution_count": null,
   "id": "70c58a81",
   "metadata": {
    "id": "0d175df2"
   },
   "outputs": [],
   "source": [
    "df_15_EYE[df_15_EYE['ET_ValidityLeft'] == 1].shape[0] / df_15_EYE.shape[0]"
   ]
  },
  {
   "cell_type": "code",
   "execution_count": null,
   "id": "7cd20fc1",
   "metadata": {
    "id": "54cc0f9e"
   },
   "outputs": [],
   "source": [
    "df_15_EYE[df_15_EYE['ET_ValidityRight'] == 1].shape[0] / df_15_EYE.shape[0]"
   ]
  },
  {
   "cell_type": "code",
   "execution_count": null,
   "id": "20ebad9a",
   "metadata": {
    "id": "45c977c1"
   },
   "outputs": [],
   "source": [
    "plt.figure(figsize=(18, 8))\n",
    "\n",
    "plt.subplot(1, 2, 1)\n",
    "sns.heatmap(df_15_EYE == -1, cmap='viridis')\n",
    "plt.title('Heatmap of -1 Values')\n",
    "\n",
    "plt.subplot(1, 2, 2)\n",
    "sns.heatmap(df_15_EYE == 1, cmap='viridis')\n",
    "plt.title('Heatmap of 1 Values')\n",
    "\n",
    "plt.tight_layout()\n",
    "plt.show()"
   ]
  },
  {
   "cell_type": "code",
   "execution_count": null,
   "id": "a62479b6",
   "metadata": {
    "id": "3b98a13b"
   },
   "outputs": [],
   "source": [
    "df_15_EYE[df_15_EYE['ET_PupilLeft'] == -1].shape"
   ]
  },
  {
   "cell_type": "code",
   "execution_count": null,
   "id": "b59aafb9",
   "metadata": {
    "id": "a2f296f6"
   },
   "outputs": [],
   "source": [
    "df_15_EYE[df_15_EYE['ET_PupilRight'] == -1].shape"
   ]
  },
  {
   "cell_type": "code",
   "execution_count": null,
   "id": "0a62d302",
   "metadata": {
    "id": "42cff7eb"
   },
   "outputs": [],
   "source": [
    "df_15_EYE[df_15_EYE['ET_PupilLeft'] == -1].shape[0] / df_15_EYE.shape[0]"
   ]
  },
  {
   "cell_type": "code",
   "execution_count": null,
   "id": "fa22e2aa",
   "metadata": {
    "id": "83c97903"
   },
   "outputs": [],
   "source": [
    "df_15_EYE[df_15_EYE['ET_PupilRight'] == -1].shape[0] / df_15_EYE.shape[0]"
   ]
  },
  {
   "cell_type": "code",
   "execution_count": null,
   "id": "a64b5828",
   "metadata": {
    "id": "6e176d63"
   },
   "outputs": [],
   "source": [
    "plt.figure(figsize=(18, 8))\n",
    "\n",
    "plt.subplot(1, 2, 1)\n",
    "sns.heatmap(df_15_EYE[df_15_EYE['ET_ValidityLeft'] == 1] == -1, cmap='viridis')\n",
    "plt.title('Heatmap of -1 Values')\n",
    "\n",
    "plt.subplot(1, 2, 2)\n",
    "sns.heatmap(df_15_EYE[df_15_EYE['ET_ValidityRight'] == 1] == -1, cmap='viridis')\n",
    "plt.title('Heatmap of -1 Values')\n",
    "\n",
    "plt.tight_layout()\n",
    "plt.show()"
   ]
  },
  {
   "cell_type": "markdown",
   "id": "f4612e42",
   "metadata": {
    "id": "fff8db39"
   },
   "source": [
    "# Notes & Observations\n",
    "\n",
    "- The heatmaps reveal the distribution of -1 values across different columns.\n",
    "- It is evident that the `-1` values are not randomly scattered but appear in specific columns, notably `ET_GazeLeftx`, `ET_GazeLefty`, `ET_GazeRightx`, `ET_GazeRighty`, `ET_PupilLeft`, `ET_PupilRight`, `ET_DistanceLeft`, `ET_DistanceRight`, `ET_CameraLeftX`, `ET_CameraLeftY`, `ET_CameraRightX`, and `ET_CameraRightY`.\n",
    "- These `-1` values often coincide with instances where `ET_ValidityLeft` or `ET_ValidityRight` is 1, indicating invalid eye-tracking data. This suggests that `-1` is used as a placeholder for missing or invalid measurements in these columns when the eye tracker is not providing valid data for a particular eye.\n",
    "- Given that over 70% of the data in the `ET_PupilLeft` and `ET_PupilRight` columns is marked as invalid (-1), so instead of dropping them we can create new feature for both the `ET_PupilLeft` and `ET_PupilRight` to represent which row consist invalid `ET_PupilLeft` and `ET_PupilRight` data"
   ]
  },
  {
   "cell_type": "code",
   "execution_count": null,
   "id": "b7ddc1ce",
   "metadata": {
    "id": "cf7437aa"
   },
   "outputs": [],
   "source": [
    "pupil_validity = {-1: 1 }"
   ]
  },
  {
   "cell_type": "code",
   "execution_count": null,
   "id": "599283f5",
   "metadata": {
    "id": "989b113d"
   },
   "outputs": [],
   "source": [
    "df_15_EYE['ET_PupilLeft_validity'] = df_15_EYE['ET_PupilLeft'].map(pupil_validity)"
   ]
  },
  {
   "cell_type": "code",
   "execution_count": null,
   "id": "6c85f5a0",
   "metadata": {
    "id": "9ecdfbc0"
   },
   "outputs": [],
   "source": [
    "df_15_EYE['ET_PupilRight_validity'] = df_15_EYE['ET_PupilRight'].map(pupil_validity)"
   ]
  },
  {
   "cell_type": "code",
   "execution_count": null,
   "id": "1f2ceacd",
   "metadata": {
    "id": "7f5d2b28"
   },
   "outputs": [],
   "source": [
    "df_15_EYE[['ET_PupilLeft_validity', 'ET_PupilRight_validity']].head()"
   ]
  },
  {
   "cell_type": "code",
   "execution_count": null,
   "id": "cc9e9115",
   "metadata": {
    "id": "6a86c472"
   },
   "outputs": [],
   "source": [
    "df_15_EYE[['ET_PupilLeft_validity', 'ET_PupilRight_validity']].isnull().sum()"
   ]
  },
  {
   "cell_type": "code",
   "execution_count": null,
   "id": "20241e66",
   "metadata": {
    "id": "9121e4a8"
   },
   "outputs": [],
   "source": [
    "plt.figure(figsize=(18, 8))\n",
    "sns.heatmap(df_15_EYE[['ET_PupilLeft_validity', 'ET_PupilRight_validity']].isnull(), cmap='viridis')\n",
    "plt.show()"
   ]
  },
  {
   "cell_type": "code",
   "execution_count": null,
   "id": "4cc02202",
   "metadata": {
    "id": "613a230a"
   },
   "outputs": [],
   "source": [
    "df_15_EYE['ET_PupilLeft_validity'] = df_15_EYE['ET_PupilLeft_validity'].fillna(0)"
   ]
  },
  {
   "cell_type": "code",
   "execution_count": null,
   "id": "74ec5997",
   "metadata": {
    "id": "89ae7d3f"
   },
   "outputs": [],
   "source": [
    "df_15_EYE['ET_PupilRight_validity'] = df_15_EYE['ET_PupilRight_validity'].fillna(0)"
   ]
  },
  {
   "cell_type": "code",
   "execution_count": null,
   "id": "377ceb01",
   "metadata": {
    "id": "a2c39f03"
   },
   "outputs": [],
   "source": [
    "df_15_EYE[['ET_PupilLeft_validity', 'ET_PupilRight_validity']].head()"
   ]
  },
  {
   "cell_type": "code",
   "execution_count": null,
   "id": "3c317a77",
   "metadata": {
    "id": "6e9c2645"
   },
   "outputs": [],
   "source": [
    "plt.figure(figsize=(18, 8))\n",
    "sns.heatmap(df_15_EYE[['ET_PupilLeft_validity', 'ET_PupilRight_validity']].isnull(), cmap='viridis')\n",
    "plt.show()"
   ]
  },
  {
   "cell_type": "code",
   "execution_count": null,
   "id": "44861f95",
   "metadata": {
    "id": "7e52da92"
   },
   "outputs": [],
   "source": [
    "df_15_EYE.head()"
   ]
  },
  {
   "cell_type": "code",
   "execution_count": null,
   "id": "53f46092",
   "metadata": {
    "id": "1cefd42d"
   },
   "outputs": [],
   "source": [
    "plt.figure(figsize=(18, 8))\n",
    "\n",
    "plt.subplot(1, 2, 1)\n",
    "sns.heatmap(df_15_EYE == -1, cmap='viridis')\n",
    "plt.title('Heatmap of -1 Values')\n",
    "\n",
    "plt.subplot(1, 2, 2)\n",
    "sns.heatmap(df_15_EYE == 1, cmap='viridis')\n",
    "plt.title('Heatmap of -1 Values')\n",
    "\n",
    "plt.tight_layout()\n",
    "plt.show()"
   ]
  },
  {
   "cell_type": "code",
   "execution_count": null,
   "id": "169291ca",
   "metadata": {
    "id": "dcf38f27"
   },
   "outputs": [],
   "source": [
    "valid_left_ratio  = 1 - df_15_EYE['ET_ValidityLeft'].mean()"
   ]
  },
  {
   "cell_type": "code",
   "execution_count": null,
   "id": "b43b1b22",
   "metadata": {
    "id": "2aea00ec"
   },
   "outputs": [],
   "source": [
    "valid_left_ratio"
   ]
  },
  {
   "cell_type": "code",
   "execution_count": null,
   "id": "2a86bf29",
   "metadata": {
    "id": "19ac306c"
   },
   "outputs": [],
   "source": [
    "valid_right_ratio = 1 - df_15_EYE['ET_ValidityRight'].mean()"
   ]
  },
  {
   "cell_type": "code",
   "execution_count": null,
   "id": "691a909a",
   "metadata": {
    "id": "4f0aa48e"
   },
   "outputs": [],
   "source": [
    "valid_right_ratio"
   ]
  },
  {
   "cell_type": "code",
   "execution_count": null,
   "id": "1be21b3a",
   "metadata": {
    "id": "a000b670"
   },
   "outputs": [],
   "source": [
    "df_15_EYE['ET_PupilLeft_validity'] = df_15_EYE['ET_PupilLeft_validity'].astype(np.int8)\n",
    "df_15_EYE['ET_PupilRight_validity'] = df_15_EYE['ET_PupilRight_validity'].astype(np.int8)"
   ]
  },
  {
   "cell_type": "markdown",
   "id": "14140fcd",
   "metadata": {
    "id": "6acf6847"
   },
   "source": [
    "# Feature Engineering and Observations\n",
    "\n",
    "Based on the analysis of the data, we've created two new features, `ET_PupilLeft_validity` and `ET_PupilRight_validity`. These features indicate the validity of the pupil data for the left and right eyes, respectively, with a value of 1 representing invalid data (originally -1) and 0 representing valid data.\n",
    "\n",
    "The heatmaps above visually demonstrate the distribution of -1 and 1 values across the dataset. We observed that:\n",
    "- The `-1` values are concentrated in specific columns related to gaze, pupil size, distance, and camera position, suggesting they represent missing or invalid sensor readings.\n",
    "- The `1` values, after mapping from `4.0` in the original validity columns, indicate instances of invalid eye-tracking data.\n",
    "- The heatmaps also show a strong correlation between the `-1` values in the pupil columns and a validity of 1 in the newly created pupil validity features, confirming that -1 was used to mark invalid pupil data."
   ]
  },
  {
   "cell_type": "code",
   "execution_count": null,
   "id": "c4650a4f",
   "metadata": {
    "id": "de9f2594"
   },
   "outputs": [],
   "source": [
    "df_15_EYE.head()"
   ]
  },
  {
   "cell_type": "code",
   "execution_count": null,
   "id": "73d34610",
   "metadata": {
    "id": "bfa2e174"
   },
   "outputs": [],
   "source": [
    "# Select only the numeric columns for plotting histograms, excluding time-related columns\n",
    "numeric_cols = df_15_EYE.select_dtypes(include=np.number).columns\n",
    "cols_to_plot = [col for col in numeric_cols if col not in ['UnixTime']]\n",
    "\n",
    "# Calculate the number of rows and columns for the grid\n",
    "n_cols = 4  # You can adjust the number of columns as needed\n",
    "n_rows = (len(cols_to_plot) + n_cols - 1) // n_cols\n",
    "\n",
    "plt.figure(figsize=(n_cols * 5, n_rows * 4)) # Adjust figure size as needed\n",
    "\n",
    "for i, col in enumerate(cols_to_plot):\n",
    "    plt.subplot(n_rows, n_cols, i + 1)\n",
    "    sns.histplot(df_15_EYE[col], kde=True)\n",
    "    plt.title(f'Distribution of {col}')\n",
    "    plt.xlabel(col)\n",
    "    plt.ylabel('Frequency')\n",
    "\n",
    "plt.tight_layout()\n",
    "plt.show()"
   ]
  },
  {
   "cell_type": "markdown",
   "id": "aa9491f6",
   "metadata": {
    "id": "8059766d"
   },
   "source": [
    "# Observations from Histograms\n",
    "\n",
    "The grid of histograms provides insights into the distribution of values for each numeric column in the dataset (excluding 'UnixTime'). Key observations include:\n",
    "\n",
    "- Several columns, such as `ET_GazeLeftx`, `ET_GazeLefty`, `ET_GazeRightx`, and `ET_GazeRighty`, show distributions that appear somewhat multimodal or skewed, suggesting variations in gaze patterns.\n",
    "- The `ET_PupilLeft` and `ET_PupilRight` histograms clearly show a peak at -1, confirming the presence of a significant number of invalid pupil readings.\n",
    "- `ET_TimeSignal` shows a relatively uniform distribution, as expected for a time-based signal.\n",
    "- `ET_DistanceLeft` and `ET_DistanceRight` appear to have distributions centered around certain values, with some outliers or variations.\n",
    "- The camera position columns (`ET_CameraLeftX`, `ET_CameraLeftY`, `ET_CameraRightX`, `ET_CameraRightY`) seem to have distributions concentrated within specific ranges, reflecting the camera's field of view.\n",
    "- The validity columns (`ET_ValidityLeft`, `ET_ValidityRight`, `ET_PupilLeft_validity`, `ET_PupilRight_validity`) show distributions dominated by 0, indicating that most of the data is considered valid after the mapping. The smaller peaks at 1 represent the instances of invalid data.\n",
    "\n",
    "These distributions highlight the need for appropriate handling of the -1 values and potential outliers in subsequent analysis or modeling steps."
   ]
  },
  {
   "cell_type": "code",
   "execution_count": null,
   "id": "3f69676d",
   "metadata": {
    "id": "cb65ae1e"
   },
   "outputs": [],
   "source": [
    "df_15_EYE.columns"
   ]
  },
  {
   "cell_type": "code",
   "execution_count": null,
   "id": "f51b89c9",
   "metadata": {
    "id": "8cf2280c"
   },
   "outputs": [],
   "source": [
    "cols = ['ET_GazeLeftx', 'ET_GazeLefty',\n",
    "       'ET_GazeRightx', 'ET_GazeRighty', 'ET_PupilLeft', 'ET_PupilRight',\n",
    "       'ET_TimeSignal', 'ET_DistanceLeft', 'ET_DistanceRight',\n",
    "       'ET_CameraLeftX', 'ET_CameraLeftY', 'ET_CameraRightX',\n",
    "       'ET_CameraRightY', 'ET_ValidityLeft', 'ET_ValidityRight',\n",
    "       'ET_PupilLeft_validity', 'ET_PupilRight_validity']"
   ]
  },
  {
   "cell_type": "code",
   "execution_count": null,
   "id": "ac75b05a",
   "metadata": {
    "id": "85e45ea9"
   },
   "outputs": [],
   "source": [
    "from IPython.display import display, Markdown\n",
    "\n",
    "for col in cols:\n",
    "    # Add a markdown cell before each plot for better separation and labeling\n",
    "    display(Markdown(f'### {col} over Time'))\n",
    "    plt.figure(figsize=(16, 10))\n",
    "    plt.plot(df_15_EYE['Timestamp'], df_15_EYE[col])\n",
    "    plt.xlabel(\"Timestamp\") # Add x-axis label\n",
    "    plt.ylabel(col) # Add y-axis label\n",
    "    plt.show()"
   ]
  },
  {
   "cell_type": "markdown",
   "id": "9ad312cb",
   "metadata": {
    "id": "f7ffd08f"
   },
   "source": [
    "# Observations from Time Series Plots\n",
    "\n",
    "The line plots showing various features against the `Timestamp` reveal the temporal patterns and fluctuations in the eye-tracking data. Key observations include:\n",
    "\n",
    "- **Gaze Coordinates (`ET_GazeLeftx`, `ET_GazeLefty`, `ET_GazeRightx`, `ET_GazeRighty`):** These plots show the changes in gaze position over time. We can observe periods of relatively stable gaze interspersed with rapid movements (saccades) and blinks or other events where the gaze data might be invalid (-1 values appear as gaps or spikes if not handled).\n",
    "- **Pupil Size (`ET_PupilLeft`, `ET_PupilRight`):** The pupil size plots show variations over time. The presence of many -1 values is evident as flat lines at the bottom of the plot, indicating periods where pupil data was not recorded or was invalid.\n",
    "- **Time Signal (`ET_TimeSignal`):** This plot shows a steady, increasing trend, as expected for a time-based signal.\n",
    "- **Distance and Camera Position (`ET_DistanceLeft`, `ET_DistanceRight`, `ET_CameraLeftX`, `ET_CameraLeftY`, `ET_CameraRightX`, `ET_CameraRightY`):** These plots show how the distance from the eye tracker and the camera positions change over time. Variations in these features can be related to head movements or changes in the user's position relative to the eye tracker.\n",
    "- **Validity (`ET_ValidityLeft`, `ET_ValidityRight`, `ET_PupilLeft_validity`, `ET_PupilRight_validity`):** These plots clearly show periods of invalid data (represented by 1) as spikes or plateaus, corresponding to instances where the eye tracker lost track of the eyes or the pupil data was marked as invalid.\n",
    "\n",
    "Analyzing these time series plots is crucial for understanding the dynamics of the eye-tracking data and identifying patterns or anomalies that may require further investigation or specific handling during subsequent analysis."
   ]
  },
  {
   "cell_type": "code",
   "execution_count": null,
   "id": "9481859a",
   "metadata": {
    "id": "cdd85f8c"
   },
   "outputs": [],
   "source": [
    "# Select only the numeric columns for plotting histograms, excluding time-related columns\n",
    "numeric_cols = df_15_EYE.select_dtypes(include=np.number).columns\n",
    "\n",
    "# Calculate the number of rows and columns for the grid\n",
    "n_cols = 4  # You can adjust the number of columns as needed\n",
    "n_rows = (len(numeric_cols) + n_cols - 1) // n_cols\n",
    "\n",
    "plt.figure(figsize=(n_cols * 5, n_rows * 4)) # Adjust figure size as needed\n",
    "\n",
    "for i, col in enumerate(numeric_cols):\n",
    "    plt.subplot(n_rows, n_cols, i + 1)\n",
    "    sns.boxplot(df_15_EYE[col])\n",
    "    plt.title(f'Boxplot of {col}')\n",
    "    plt.xlabel(col)\n",
    "\n",
    "plt.tight_layout()\n",
    "plt.show()"
   ]
  },
  {
   "cell_type": "markdown",
   "id": "244ee993",
   "metadata": {
    "id": "2cca19c5"
   },
   "source": [
    "# Observations from Boxplots and Handling -1 Values\n",
    "\n",
    "The boxplots provide a visual summary of the distribution and potential outliers for each numeric column. Key observations from the boxplots include:\n",
    "\n",
    "- The boxplots for columns like `ET_GazeLeftx`, `ET_GazeLefty`, `ET_GazeRightx`, `ET_GazeRighty`, `ET_PupilLeft`, `ET_PupilRight`, `ET_DistanceLeft`, `ET_DistanceRight`, `ET_CameraLeftX`, `ET_CameraLeftY`, `ET_CameraRightX`, and `ET_CameraRightY` clearly show the presence of -1 values as significant outliers, confirming our earlier observations from the heatmaps and histograms.\n",
    "- The boxplots for the validity columns (`ET_ValidityLeft`, `ET_ValidityRight`, `ET_PupilLeft_validity`, `ET_PupilRight_validity`) show the discrete nature of these features, with the majority of data points at 0 (valid) and a smaller number at 1 (invalid).\n",
    "\n",
    "Given the significant presence of -1 values, which represent invalid or missing data, especially in the pupil-related columns, we have decided to replace these -1 values with NaN to properly represent them as missing data. Subsequently, we will impute these missing values using the mean of each respective column. This approach helps to retain the data structure and allows for further analysis or modeling without the distortion caused by the -1 placeholders."
   ]
  },
  {
   "cell_type": "code",
   "execution_count": null,
   "id": "fb27b1a5",
   "metadata": {
    "id": "9217371b"
   },
   "outputs": [],
   "source": [
    "df_15_EYE.replace({-1: np.nan}, inplace=True)"
   ]
  },
  {
   "cell_type": "code",
   "execution_count": null,
   "id": "a240d071",
   "metadata": {
    "id": "8108fa01"
   },
   "outputs": [],
   "source": [
    "df_15_EYE[['ET_GazeLeftx', 'ET_GazeLefty',\n",
    "       'ET_GazeRightx', 'ET_GazeRighty', 'ET_PupilLeft', 'ET_PupilRight',\n",
    "       'ET_TimeSignal', 'ET_DistanceLeft', 'ET_DistanceRight',\n",
    "       'ET_CameraLeftX', 'ET_CameraLeftY', 'ET_CameraRightX',\n",
    "       'ET_CameraRightY', 'ET_ValidityLeft', 'ET_ValidityRight',\n",
    "       'ET_PupilLeft_validity', 'ET_PupilRight_validity']].mean()"
   ]
  },
  {
   "cell_type": "code",
   "execution_count": null,
   "id": "b65c32de",
   "metadata": {
    "id": "9b94fbce"
   },
   "outputs": [],
   "source": [
    "df_15_EYE[['ET_GazeLeftx', 'ET_GazeLefty',\n",
    "       'ET_GazeRightx', 'ET_GazeRighty', 'ET_PupilLeft', 'ET_PupilRight',\n",
    "       'ET_TimeSignal', 'ET_DistanceLeft', 'ET_DistanceRight',\n",
    "       'ET_CameraLeftX', 'ET_CameraLeftY', 'ET_CameraRightX',\n",
    "       'ET_CameraRightY', 'ET_ValidityLeft', 'ET_ValidityRight',\n",
    "       'ET_PupilLeft_validity', 'ET_PupilRight_validity']].median()"
   ]
  },
  {
   "cell_type": "code",
   "execution_count": null,
   "id": "60e8fb36",
   "metadata": {
    "id": "ee1238c8"
   },
   "outputs": [],
   "source": [
    "numeric_cols = df_15_EYE.select_dtypes(include=np.number).columns\n",
    "\n",
    "for col in numeric_cols:\n",
    "    df_15_EYE[col] = df_15_EYE[col].fillna(df_15_EYE[col].mean())"
   ]
  },
  {
   "cell_type": "code",
   "execution_count": null,
   "id": "ad217860",
   "metadata": {
    "id": "b0bc522d"
   },
   "outputs": [],
   "source": [
    "plt.figure(figsize=(18, 8))\n",
    "\n",
    "plt.subplot(1, 2, 1)\n",
    "sns.heatmap(df_15_EYE.isnull(), cmap='viridis')\n",
    "plt.title('Heatmap of Missing Values After Imputation')\n",
    "\n",
    "plt.subplot(1, 2, 2)\n",
    "sns.heatmap(df_15_EYE == 1, cmap='viridis')\n",
    "plt.title('Heatmap of 1 Values')\n",
    "\n",
    "plt.tight_layout()\n",
    "plt.show()"
   ]
  },
  {
   "cell_type": "markdown",
   "id": "50f64403",
   "metadata": {
    "id": "c0f1e10d"
   },
   "source": [
    "# Handling Missing Values (Imputation)\n",
    "\n",
    "As decided, we have replaced all the `-1` values with `NaN` to treat them as missing data. Subsequently, we have imputed these `NaN` values with the mean of their respective columns. The heatmap above, which was generated after the imputation, now shows no visible signs of `NaN` values, indicating that the imputation was successful."
   ]
  },
  {
   "cell_type": "code",
   "execution_count": null,
   "id": "9b8d824f",
   "metadata": {
    "id": "2491c1da"
   },
   "outputs": [],
   "source": [
    "df_15_EYE.head()"
   ]
  },
  {
   "cell_type": "code",
   "execution_count": null,
   "id": "b4c62bbd",
   "metadata": {
    "id": "64f04350"
   },
   "outputs": [],
   "source": [
    "# Select only the numeric columns for plotting histograms, excluding time-related columns\n",
    "numeric_cols = df_15_EYE.select_dtypes(include=np.number).columns\n",
    "cols_to_plot = [col for col in numeric_cols if col not in ['UnixTime']]\n",
    "\n",
    "# Calculate the number of rows and columns for the grid\n",
    "n_cols = 4  # You can adjust the number of columns as needed\n",
    "n_rows = (len(cols_to_plot) + n_cols - 1) // n_cols\n",
    "\n",
    "plt.figure(figsize=(n_cols * 5, n_rows * 4)) # Adjust figure size as needed\n",
    "\n",
    "for i, col in enumerate(cols_to_plot):\n",
    "    plt.subplot(n_rows, n_cols, i + 1)\n",
    "    sns.histplot(df_15_EYE[col], kde=True)\n",
    "    plt.title(f'Distribution of {col}')\n",
    "    plt.xlabel(col)\n",
    "    plt.ylabel('Frequency')\n",
    "\n",
    "plt.tight_layout()\n",
    "plt.show()"
   ]
  },
  {
   "cell_type": "markdown",
   "id": "d645909a",
   "metadata": {
    "id": "e0c83f1c"
   },
   "source": [
    "# Observations from Histograms After Imputation\n",
    "\n",
    "The histograms generated after replacing the -1 values with the mean of each column show the distributions of the numeric features with the missing data handled. Key observations from these updated histograms include:\n",
    "\n",
    "- The distinct peaks at -1, which were prominent in the histograms for several columns (e.g., pupil size, gaze coordinates, distance, and camera position) before imputation, are now replaced by a peak at the mean of each respective column.\n",
    "- The distributions in many columns now appear more unimodal or show shifted modes compared to the original histograms.\n",
    "- The histograms for the validity columns still show their bimodal distributions with peaks at 0 and 1, as these were handled separately.\n",
    "\n",
    "These histograms provide an updated view of the data's distribution after handling the missing values, highlighting the impact of the imputation method on the data's characteristics."
   ]
  },
  {
   "cell_type": "code",
   "execution_count": null,
   "id": "2b592c87",
   "metadata": {
    "id": "de0b2f65"
   },
   "outputs": [],
   "source": [
    "cols = ['ET_GazeLeftx', 'ET_GazeLefty',\n",
    "       'ET_GazeRightx', 'ET_GazeRighty', 'ET_PupilLeft', 'ET_PupilRight',\n",
    "       'ET_TimeSignal', 'ET_DistanceLeft', 'ET_DistanceRight',\n",
    "       'ET_CameraLeftX', 'ET_CameraLeftY', 'ET_CameraRightX',\n",
    "       'ET_CameraRightY', 'ET_ValidityLeft', 'ET_ValidityRight',\n",
    "       'ET_PupilLeft_validity', 'ET_PupilRight_validity']"
   ]
  },
  {
   "cell_type": "code",
   "execution_count": null,
   "id": "02c41a92",
   "metadata": {
    "id": "4ddd4915"
   },
   "outputs": [],
   "source": [
    "for col in cols:\n",
    "    # Add a markdown cell before each plot for better separation and labeling\n",
    "    display(Markdown(f'### {col} over Time'))\n",
    "    plt.figure(figsize=(16, 10))\n",
    "    plt.plot(df_15_EYE['Timestamp'], df_15_EYE[col])\n",
    "    plt.xlabel(\"Timestamp\") # Add x-axis label\n",
    "    plt.ylabel(col) # Add y-axis label\n",
    "    plt.show()"
   ]
  },
  {
   "cell_type": "markdown",
   "id": "465e86e4",
   "metadata": {
    "id": "0fb07abb"
   },
   "source": [
    "# Observations from Time Series Plots After Imputation\n",
    "\n",
    "The line plots generated after imputing the missing values with the mean show the temporal patterns of the features with the missing data handled. Key observations from these updated plots include:\n",
    "\n",
    "- The gaps or flat lines at -1, which were prominent in the plots for columns like gaze coordinates, pupil size, distance, and camera position, are now filled by lines at the mean value of the respective columns.\n",
    "- The plots for the validity columns remain the same as they were handled separately.\n",
    "- The `ET_TimeSignal` plot still shows a steady increasing trend, as expected."
   ]
  },
  {
   "cell_type": "code",
   "execution_count": null,
   "id": "6ed48f51",
   "metadata": {
    "id": "c608fd95"
   },
   "outputs": [],
   "source": [
    "plt.figure(figsize=(16, 10))\n",
    "sns.heatmap(df_15_EYE.corr(numeric_only=True), cmap='YlGnBu', annot=True)\n",
    "plt.show()"
   ]
  },
  {
   "cell_type": "markdown",
   "id": "695fd13c",
   "metadata": {
    "id": "82405ba6"
   },
   "source": [
    "# Observations from Correlation Heatmap\n",
    "\n",
    "The correlation heatmap provides a visual representation of the pairwise correlations between the numeric columns in the dataset. Key observations from the heatmap include:\n",
    "\n",
    "- **High Positive Correlations:** We observe strong positive correlations (values close to 1) between:\n",
    "  - `ET_GazeLeftx` and `ET_GazeRightx`: This is expected as the gaze positions of both eyes should be highly correlated when fixating on a point.\n",
    "  - `ET_GazeLefty` and `ET_GazeRighty`: Similar to the x-coordinates, the y-coordinates of gaze should also be highly correlated.\n",
    "  - `ET_PupilLeft` and `ET_PupilRight`: Pupil sizes of both eyes tend to change together in response to light and cognitive load.\n",
    "  - `ET_DistanceLeft` and `ET_DistanceRight`: The distance from the eye tracker to each eye should be highly correlated.\n",
    "  - `ET_CameraLeftX` and `ET_CameraRightX`, `ET_CameraLeftY` and `ET_CameraRightY`: The camera positions for both eyes are also expected to be highly correlated.\n",
    "  - `UnixTime` and `ET_TimeSignal`: As previously noted, these two columns are almost perfectly linearly correlated, indicating redundancy.\n",
    "  - `ET_ValidityLeft` and `ET_PupilLeft_validity`: There is a positive correlation, suggesting that when the overall left eye data is invalid, the left pupil data is also likely to be invalid.\n",
    "  - `ET_ValidityRight` and `ET_PupilRight_validity`: Similar to the left eye, there is a positive correlation between the overall right eye validity and the right pupil validity.\n",
    "- **Other Correlations:** We can also observe other varying degrees of correlations between different features, which can provide insights into the relationships between gaze behavior, pupil size, distance, and camera position. For example, there might be correlations between gaze coordinates and camera positions, reflecting head movements.\n",
    "- **Low or Near-Zero Correlations:** Columns with low or near-zero correlations are relatively independent of each other.\n",
    "\n",
    "Understanding these correlations is important for feature selection and for building models, as highly correlated features might indicate multicollinearity, while correlations between features can reveal underlying patterns in the data."
   ]
  },
  {
   "cell_type": "markdown",
   "id": "f7ab1d26",
   "metadata": {
    "id": "1c413c3b"
   },
   "source": [
    "# Analysis of ET_TimeSignal and Decision to Drop\n",
    "\n",
    "As observed in the time series plot and confirmed by the correlation heatmap, the `ET_TimeSignal` column exhibits a near-perfect linear relationship with both the `Timestamp` and `UnixTime` columns. This strong correlation (close to 1) suggests that `ET_TimeSignal` is essentially redundant and likely represents another form of time recording or a signal directly derived from the timestamp.\n",
    "\n",
    "Including highly correlated features like this in a dataset can lead to issues such as multicollinearity in some statistical models, which can make it difficult to interpret the individual impact of each feature. Since the `Timestamp` column already provides the necessary temporal information, retaining `ET_TimeSignal` does not appear to add significant value for further analysis or modeling in most cases.\n",
    "\n",
    "Therefore, based on its high correlation and lack of unique insight, we will proceed to drop the `ET_TimeSignal` column to simplify the dataset and potentially improve the performance and interpretability of future analyses."
   ]
  },
  {
   "cell_type": "code",
   "execution_count": null,
   "id": "b63f4967",
   "metadata": {
    "id": "7c96e349"
   },
   "outputs": [],
   "source": [
    "df_15_EYE.drop('ET_TimeSignal', axis=1, inplace=True)"
   ]
  },
  {
   "cell_type": "code",
   "execution_count": null,
   "id": "2248fbfa",
   "metadata": {
    "id": "5845a61d"
   },
   "outputs": [],
   "source": [
    "plt.figure(figsize=(16, 10))\n",
    "sns.pairplot(df_15_EYE)\n",
    "plt.show()"
   ]
  },
  {
   "cell_type": "markdown",
   "id": "e683ec76",
   "metadata": {
    "id": "sMcHS8LIOGeT"
   },
   "source": [
    "# **16_EYE**"
   ]
  },
  {
   "cell_type": "code",
   "execution_count": null,
   "id": "5d59223b",
   "metadata": {
    "id": "L2tJooyROWnM"
   },
   "outputs": [],
   "source": []
  },
  {
   "cell_type": "code",
   "execution_count": null,
   "id": "2c3334da",
   "metadata": {
    "id": "6c647c4f"
   },
   "outputs": [],
   "source": [
    "df_16_EYE = pd.read_csv('data/STData/16/16_EYE.csv')"
   ]
  },
  {
   "cell_type": "code",
   "execution_count": null,
   "id": "7c01ae02",
   "metadata": {
    "id": "c229bba7"
   },
   "outputs": [],
   "source": [
    "df_16_EYE.head()"
   ]
  },
  {
   "cell_type": "code",
   "execution_count": null,
   "id": "2a39af80",
   "metadata": {
    "id": "0ec8e716"
   },
   "outputs": [],
   "source": [
    "df_16_EYE.shape"
   ]
  },
  {
   "cell_type": "code",
   "execution_count": null,
   "id": "083432d3",
   "metadata": {
    "id": "43ba37eb"
   },
   "outputs": [],
   "source": [
    "df_16_EYE.columns"
   ]
  },
  {
   "cell_type": "code",
   "execution_count": null,
   "id": "f94eaa24",
   "metadata": {
    "id": "19f68fb4"
   },
   "outputs": [],
   "source": [
    "df_16_EYE.info()"
   ]
  },
  {
   "cell_type": "code",
   "execution_count": null,
   "id": "cee9dbb1",
   "metadata": {
    "id": "603369d7"
   },
   "outputs": [],
   "source": [
    "df_16_EYE.isnull().sum()"
   ]
  },
  {
   "cell_type": "code",
   "execution_count": null,
   "id": "40e1051e",
   "metadata": {
    "id": "874353e3"
   },
   "outputs": [],
   "source": [
    "plt.figure(figsize=(12,8))\n",
    "sns.heatmap(df_16_EYE.isnull(), cmap='viridis')\n",
    "plt.show()"
   ]
  },
  {
   "cell_type": "markdown",
   "id": "276dce6b",
   "metadata": {
    "id": "b17906e7"
   },
   "source": [
    "# Notes & Observations\n",
    "\n",
    "- We observe many **null** (or missing) values in the `QuestionKey` columns.\n",
    "- The nulls in the `QuestionKey` column may not represent “true” nulls. Rather, they follow interval patterns, suggesting that during those periods no question was displayed.\n",
    "- These missing values in `QuestionKey` require additional investigation and context-aware handling."
   ]
  },
  {
   "cell_type": "code",
   "execution_count": null,
   "id": "80fa26db",
   "metadata": {
    "id": "1113779e"
   },
   "outputs": [],
   "source": [
    "df_16_EYE['QuestionKey'].unique()"
   ]
  },
  {
   "cell_type": "code",
   "execution_count": null,
   "id": "f2fe6139",
   "metadata": {
    "id": "db0a93a2"
   },
   "outputs": [],
   "source": [
    "df_16_EYE['Timestamp'] = pd.to_datetime(df_16_EYE['Timestamp'])"
   ]
  },
  {
   "cell_type": "code",
   "execution_count": null,
   "id": "b16d56f7",
   "metadata": {
    "id": "03d57b0a"
   },
   "outputs": [],
   "source": [
    "df_16_EYE.head(3)"
   ]
  },
  {
   "cell_type": "code",
   "execution_count": null,
   "id": "7819730b",
   "metadata": {
    "id": "c0004029"
   },
   "outputs": [],
   "source": [
    "df_16_EYE['QuestionKey'] = df_16_EYE['QuestionKey'].fillna('None')"
   ]
  },
  {
   "cell_type": "code",
   "execution_count": null,
   "id": "40138a76",
   "metadata": {
    "id": "dfb4729e"
   },
   "outputs": [],
   "source": [
    "df_16_EYE['QuestionKey'].value_counts()"
   ]
  },
  {
   "cell_type": "code",
   "execution_count": null,
   "id": "72272799",
   "metadata": {
    "id": "9353c9d8"
   },
   "outputs": [],
   "source": [
    "plt.figure(figsize=(12,8))\n",
    "sns.heatmap(df_16_EYE.isnull(), cmap='viridis')\n",
    "plt.show()"
   ]
  },
  {
   "cell_type": "code",
   "execution_count": null,
   "id": "b205f581",
   "metadata": {
    "id": "5c73d150"
   },
   "outputs": [],
   "source": [
    "df_16_EYE.isnull().sum()"
   ]
  },
  {
   "cell_type": "code",
   "execution_count": null,
   "id": "aa90c77e",
   "metadata": {
    "id": "6c700142"
   },
   "outputs": [],
   "source": [
    "df_16_EYE.dropna(inplace=True)"
   ]
  },
  {
   "cell_type": "code",
   "execution_count": null,
   "id": "7313ae1f",
   "metadata": {
    "id": "90a604ce"
   },
   "outputs": [],
   "source": [
    "df_16_EYE.head()"
   ]
  },
  {
   "cell_type": "code",
   "execution_count": null,
   "id": "9cbbd6ca",
   "metadata": {
    "id": "a43a4283"
   },
   "outputs": [],
   "source": [
    "df_16_EYE['Row'].unique()"
   ]
  },
  {
   "cell_type": "code",
   "execution_count": null,
   "id": "e79dacd6",
   "metadata": {
    "id": "f66566f9"
   },
   "outputs": [],
   "source": [
    "plt.figure(figsize=(8,6))\n",
    "sns.histplot(df_16_EYE['Row'])\n",
    "plt.show()"
   ]
  },
  {
   "cell_type": "markdown",
   "id": "7eef9664",
   "metadata": {
    "id": "5ddf40fd"
   },
   "source": [
    "# Notes & Observations\n",
    "\n",
    "- The `Row` column appears to be a simple row index and does not provide meaningful information relevant to the eye-tracking data itself. Therefore, it can be dropped."
   ]
  },
  {
   "cell_type": "code",
   "execution_count": null,
   "id": "bbafb2a0",
   "metadata": {
    "id": "5aee4404"
   },
   "outputs": [],
   "source": [
    "df_16_EYE.drop('Row', axis=1, inplace=True)"
   ]
  },
  {
   "cell_type": "code",
   "execution_count": null,
   "id": "4fa74dcc",
   "metadata": {
    "id": "827f3274"
   },
   "outputs": [],
   "source": [
    "df_16_EYE['ET_ValidityLeft'].unique()"
   ]
  },
  {
   "cell_type": "code",
   "execution_count": null,
   "id": "e077bba5",
   "metadata": {
    "id": "1437751a"
   },
   "outputs": [],
   "source": [
    "df_16_EYE['ET_ValidityLeft'].value_counts()"
   ]
  },
  {
   "cell_type": "code",
   "execution_count": null,
   "id": "a50ada83",
   "metadata": {
    "id": "d0a9ee4a"
   },
   "outputs": [],
   "source": [
    "df_16_EYE['ET_ValidityRight'].unique()"
   ]
  },
  {
   "cell_type": "code",
   "execution_count": null,
   "id": "60803d3c",
   "metadata": {
    "id": "55ddcc2b"
   },
   "outputs": [],
   "source": [
    "df_16_EYE['ET_ValidityRight'].value_counts()"
   ]
  },
  {
   "cell_type": "code",
   "execution_count": null,
   "id": "0eff158d",
   "metadata": {
    "id": "faef00be"
   },
   "outputs": [],
   "source": [
    "plt.figure(figsize=(12, 6))\n",
    "\n",
    "plt.subplot(1, 2, 1)\n",
    "sns.barplot(x=df_16_EYE['ET_ValidityLeft'].value_counts().index, y=df_16_EYE['ET_ValidityLeft'].value_counts().values)\n",
    "plt.title('Count of ET_ValidityLeft')\n",
    "plt.xlabel('Validity')\n",
    "plt.ylabel('Count')\n",
    "\n",
    "\n",
    "plt.subplot(1, 2, 2)\n",
    "sns.barplot(x=df_16_EYE['ET_ValidityRight'].value_counts().index, y=df_16_EYE['ET_ValidityRight'].value_counts().values)\n",
    "plt.title('Count of ET_ValidityRight')\n",
    "plt.xlabel('Validity')\n",
    "plt.ylabel('Count')\n",
    "\n",
    "plt.tight_layout()\n",
    "plt.show()"
   ]
  },
  {
   "cell_type": "markdown",
   "id": "3461f87a",
   "metadata": {
    "id": "b43706ea"
   },
   "source": [
    "# Notes & Observations\n",
    "\n",
    "- The `ET_ValidityLeft` and `ET_ValidityRight` columns indicate the validity of the eye-tracking data for the left and right eye, respectively.\n",
    "- Based on the value counts and the bar plots, it appears that a value of `0.0` represents valid eye-tracking data, while a value of `4.0` represents invalid data.\n",
    "- Although the amount of invalid data is relatively small, removing these rows could introduce unwanted patterns or gaps in the time series data.\n",
    "- Therefore, we will keep the data and replace the value `4.0` with `1.0` in both `ET_ValidityLeft` and `ET_ValidityRight` columns. This will indicate to a machine learning model that the eye tracker had invalid data at those specific points in time while maintaining the integrity of the time series."
   ]
  },
  {
   "cell_type": "markdown",
   "id": "b6b6441e",
   "metadata": {
    "id": "e9e671b2"
   },
   "source": [
    "Define a mapping to convert validity values from `0.0` and `4.0` to `0` and `1`."
   ]
  },
  {
   "cell_type": "code",
   "execution_count": null,
   "id": "3a9af4b7",
   "metadata": {
    "id": "08e7ed71"
   },
   "outputs": [],
   "source": [
    "validity_map = {4.0: 1.0, 0.0: 0.0}"
   ]
  },
  {
   "cell_type": "code",
   "execution_count": null,
   "id": "4422e352",
   "metadata": {
    "id": "0bba3ac0"
   },
   "outputs": [],
   "source": [
    "df_16_EYE['ET_ValidityLeft'] = df_16_EYE['ET_ValidityLeft'].map(validity_map).astype(np.int8)\n",
    "df_16_EYE['ET_ValidityRight'] = df_16_EYE['ET_ValidityRight'].map(validity_map).astype(np.int8)"
   ]
  },
  {
   "cell_type": "code",
   "execution_count": null,
   "id": "38d75f24",
   "metadata": {
    "id": "0ff3f16c"
   },
   "outputs": [],
   "source": [
    "df_16_EYE.head(3)"
   ]
  },
  {
   "cell_type": "code",
   "execution_count": null,
   "id": "c7509dfe",
   "metadata": {
    "id": "32eb3225"
   },
   "outputs": [],
   "source": [
    "df_16_EYE.describe()"
   ]
  },
  {
   "cell_type": "code",
   "execution_count": null,
   "id": "6c2bb907",
   "metadata": {
    "id": "c1e092e1"
   },
   "outputs": [],
   "source": [
    "df_16_EYE[df_16_EYE['ET_ValidityLeft'] == 1].shape"
   ]
  },
  {
   "cell_type": "code",
   "execution_count": null,
   "id": "c4240d37",
   "metadata": {
    "id": "8ebfb0cc"
   },
   "outputs": [],
   "source": [
    "df_16_EYE[df_16_EYE['ET_ValidityRight'] == 1].shape"
   ]
  },
  {
   "cell_type": "code",
   "execution_count": null,
   "id": "1f019c43",
   "metadata": {
    "id": "0d175df2"
   },
   "outputs": [],
   "source": [
    "df_16_EYE[df_16_EYE['ET_ValidityLeft'] == 1].shape[0] / df_16_EYE.shape[0]"
   ]
  },
  {
   "cell_type": "code",
   "execution_count": null,
   "id": "d79804f2",
   "metadata": {
    "id": "54cc0f9e"
   },
   "outputs": [],
   "source": [
    "df_16_EYE[df_16_EYE['ET_ValidityRight'] == 1].shape[0] / df_16_EYE.shape[0]"
   ]
  },
  {
   "cell_type": "code",
   "execution_count": null,
   "id": "0750888d",
   "metadata": {
    "id": "45c977c1"
   },
   "outputs": [],
   "source": [
    "plt.figure(figsize=(18, 8))\n",
    "\n",
    "plt.subplot(1, 2, 1)\n",
    "sns.heatmap(df_16_EYE == -1, cmap='viridis')\n",
    "plt.title('Heatmap of -1 Values')\n",
    "\n",
    "plt.subplot(1, 2, 2)\n",
    "sns.heatmap(df_16_EYE == 1, cmap='viridis')\n",
    "plt.title('Heatmap of 1 Values')\n",
    "\n",
    "plt.tight_layout()\n",
    "plt.show()"
   ]
  },
  {
   "cell_type": "code",
   "execution_count": null,
   "id": "c3267954",
   "metadata": {
    "id": "3b98a13b"
   },
   "outputs": [],
   "source": [
    "df_16_EYE[df_16_EYE['ET_PupilLeft'] == -1].shape"
   ]
  },
  {
   "cell_type": "code",
   "execution_count": null,
   "id": "a34d247f",
   "metadata": {
    "id": "a2f296f6"
   },
   "outputs": [],
   "source": [
    "df_16_EYE[df_16_EYE['ET_PupilRight'] == -1].shape"
   ]
  },
  {
   "cell_type": "code",
   "execution_count": null,
   "id": "b4e9a1dc",
   "metadata": {
    "id": "42cff7eb"
   },
   "outputs": [],
   "source": [
    "df_16_EYE[df_16_EYE['ET_PupilLeft'] == -1].shape[0] / df_16_EYE.shape[0]"
   ]
  },
  {
   "cell_type": "code",
   "execution_count": null,
   "id": "ae90e4a4",
   "metadata": {
    "id": "83c97903"
   },
   "outputs": [],
   "source": [
    "df_16_EYE[df_16_EYE['ET_PupilRight'] == -1].shape[0] / df_16_EYE.shape[0]"
   ]
  },
  {
   "cell_type": "code",
   "execution_count": null,
   "id": "2538cfb0",
   "metadata": {
    "id": "6e176d63"
   },
   "outputs": [],
   "source": [
    "plt.figure(figsize=(18, 8))\n",
    "\n",
    "plt.subplot(1, 2, 1)\n",
    "sns.heatmap(df_16_EYE[df_16_EYE['ET_ValidityLeft'] == 1] == -1, cmap='viridis')\n",
    "plt.title('Heatmap of -1 Values')\n",
    "\n",
    "plt.subplot(1, 2, 2)\n",
    "sns.heatmap(df_16_EYE[df_16_EYE['ET_ValidityRight'] == 1] == -1, cmap='viridis')\n",
    "plt.title('Heatmap of -1 Values')\n",
    "\n",
    "plt.tight_layout()\n",
    "plt.show()"
   ]
  },
  {
   "cell_type": "markdown",
   "id": "463b4109",
   "metadata": {
    "id": "fff8db39"
   },
   "source": [
    "# Notes & Observations\n",
    "\n",
    "- The heatmaps reveal the distribution of -1 values across different columns.\n",
    "- It is evident that the `-1` values are not randomly scattered but appear in specific columns, notably `ET_GazeLeftx`, `ET_GazeLefty`, `ET_GazeRightx`, `ET_GazeRighty`, `ET_PupilLeft`, `ET_PupilRight`, `ET_DistanceLeft`, `ET_DistanceRight`, `ET_CameraLeftX`, `ET_CameraLeftY`, `ET_CameraRightX`, and `ET_CameraRightY`.\n",
    "- These `-1` values often coincide with instances where `ET_ValidityLeft` or `ET_ValidityRight` is 1, indicating invalid eye-tracking data. This suggests that `-1` is used as a placeholder for missing or invalid measurements in these columns when the eye tracker is not providing valid data for a particular eye.\n",
    "- Given that over 70% of the data in the `ET_PupilLeft` and `ET_PupilRight` columns is marked as invalid (-1), so instead of dropping them we can create new feature for both the `ET_PupilLeft` and `ET_PupilRight` to represent which row consist invalid `ET_PupilLeft` and `ET_PupilRight` data"
   ]
  },
  {
   "cell_type": "code",
   "execution_count": null,
   "id": "3126724f",
   "metadata": {
    "id": "cf7437aa"
   },
   "outputs": [],
   "source": [
    "pupil_validity = {-1: 1 }"
   ]
  },
  {
   "cell_type": "code",
   "execution_count": null,
   "id": "e9de5aa1",
   "metadata": {
    "id": "989b113d"
   },
   "outputs": [],
   "source": [
    "df_16_EYE['ET_PupilLeft_validity'] = df_16_EYE['ET_PupilLeft'].map(pupil_validity)"
   ]
  },
  {
   "cell_type": "code",
   "execution_count": null,
   "id": "61424f62",
   "metadata": {
    "id": "9ecdfbc0"
   },
   "outputs": [],
   "source": [
    "df_16_EYE['ET_PupilRight_validity'] = df_16_EYE['ET_PupilRight'].map(pupil_validity)"
   ]
  },
  {
   "cell_type": "code",
   "execution_count": null,
   "id": "859ebbbd",
   "metadata": {
    "id": "7f5d2b28"
   },
   "outputs": [],
   "source": [
    "df_16_EYE[['ET_PupilLeft_validity', 'ET_PupilRight_validity']].head()"
   ]
  },
  {
   "cell_type": "code",
   "execution_count": null,
   "id": "4ab9d890",
   "metadata": {
    "id": "6a86c472"
   },
   "outputs": [],
   "source": [
    "df_16_EYE[['ET_PupilLeft_validity', 'ET_PupilRight_validity']].isnull().sum()"
   ]
  },
  {
   "cell_type": "code",
   "execution_count": null,
   "id": "fa9d8b27",
   "metadata": {
    "id": "9121e4a8"
   },
   "outputs": [],
   "source": [
    "plt.figure(figsize=(18, 8))\n",
    "sns.heatmap(df_16_EYE[['ET_PupilLeft_validity', 'ET_PupilRight_validity']].isnull(), cmap='viridis')\n",
    "plt.show()"
   ]
  },
  {
   "cell_type": "code",
   "execution_count": null,
   "id": "aa287e09",
   "metadata": {
    "id": "613a230a"
   },
   "outputs": [],
   "source": [
    "df_16_EYE['ET_PupilLeft_validity'] = df_16_EYE['ET_PupilLeft_validity'].fillna(0)"
   ]
  },
  {
   "cell_type": "code",
   "execution_count": null,
   "id": "ed94b0c8",
   "metadata": {
    "id": "89ae7d3f"
   },
   "outputs": [],
   "source": [
    "df_16_EYE['ET_PupilRight_validity'] = df_16_EYE['ET_PupilRight_validity'].fillna(0)"
   ]
  },
  {
   "cell_type": "code",
   "execution_count": null,
   "id": "842b144b",
   "metadata": {
    "id": "a2c39f03"
   },
   "outputs": [],
   "source": [
    "df_16_EYE[['ET_PupilLeft_validity', 'ET_PupilRight_validity']].head()"
   ]
  },
  {
   "cell_type": "code",
   "execution_count": null,
   "id": "d77dab04",
   "metadata": {
    "id": "6e9c2645"
   },
   "outputs": [],
   "source": [
    "plt.figure(figsize=(18, 8))\n",
    "sns.heatmap(df_16_EYE[['ET_PupilLeft_validity', 'ET_PupilRight_validity']].isnull(), cmap='viridis')\n",
    "plt.show()"
   ]
  },
  {
   "cell_type": "code",
   "execution_count": null,
   "id": "ec556256",
   "metadata": {
    "id": "7e52da92"
   },
   "outputs": [],
   "source": [
    "df_16_EYE.head()"
   ]
  },
  {
   "cell_type": "code",
   "execution_count": null,
   "id": "39e7d40a",
   "metadata": {
    "id": "1cefd42d"
   },
   "outputs": [],
   "source": [
    "plt.figure(figsize=(18, 8))\n",
    "\n",
    "plt.subplot(1, 2, 1)\n",
    "sns.heatmap(df_16_EYE == -1, cmap='viridis')\n",
    "plt.title('Heatmap of -1 Values')\n",
    "\n",
    "plt.subplot(1, 2, 2)\n",
    "sns.heatmap(df_16_EYE == 1, cmap='viridis')\n",
    "plt.title('Heatmap of -1 Values')\n",
    "\n",
    "plt.tight_layout()\n",
    "plt.show()"
   ]
  },
  {
   "cell_type": "code",
   "execution_count": null,
   "id": "5286639a",
   "metadata": {
    "id": "dcf38f27"
   },
   "outputs": [],
   "source": [
    "valid_left_ratio  = 1 - df_16_EYE['ET_ValidityLeft'].mean()"
   ]
  },
  {
   "cell_type": "code",
   "execution_count": null,
   "id": "6f2a9079",
   "metadata": {
    "id": "2aea00ec"
   },
   "outputs": [],
   "source": [
    "valid_left_ratio"
   ]
  },
  {
   "cell_type": "code",
   "execution_count": null,
   "id": "6ab24c9a",
   "metadata": {
    "id": "19ac306c"
   },
   "outputs": [],
   "source": [
    "valid_right_ratio = 1 - df_16_EYE['ET_ValidityRight'].mean()"
   ]
  },
  {
   "cell_type": "code",
   "execution_count": null,
   "id": "e2cb27f0",
   "metadata": {
    "id": "4f0aa48e"
   },
   "outputs": [],
   "source": [
    "valid_right_ratio"
   ]
  },
  {
   "cell_type": "code",
   "execution_count": null,
   "id": "2922900f",
   "metadata": {
    "id": "a000b670"
   },
   "outputs": [],
   "source": [
    "df_16_EYE['ET_PupilLeft_validity'] = df_16_EYE['ET_PupilLeft_validity'].astype(np.int8)\n",
    "df_16_EYE['ET_PupilRight_validity'] = df_16_EYE['ET_PupilRight_validity'].astype(np.int8)"
   ]
  },
  {
   "cell_type": "markdown",
   "id": "4ef8ace7",
   "metadata": {
    "id": "6acf6847"
   },
   "source": [
    "# Feature Engineering and Observations\n",
    "\n",
    "Based on the analysis of the data, we've created two new features, `ET_PupilLeft_validity` and `ET_PupilRight_validity`. These features indicate the validity of the pupil data for the left and right eyes, respectively, with a value of 1 representing invalid data (originally -1) and 0 representing valid data.\n",
    "\n",
    "The heatmaps above visually demonstrate the distribution of -1 and 1 values across the dataset. We observed that:\n",
    "- The `-1` values are concentrated in specific columns related to gaze, pupil size, distance, and camera position, suggesting they represent missing or invalid sensor readings.\n",
    "- The `1` values, after mapping from `4.0` in the original validity columns, indicate instances of invalid eye-tracking data.\n",
    "- The heatmaps also show a strong correlation between the `-1` values in the pupil columns and a validity of 1 in the newly created pupil validity features, confirming that -1 was used to mark invalid pupil data."
   ]
  },
  {
   "cell_type": "code",
   "execution_count": null,
   "id": "45917fd7",
   "metadata": {
    "id": "de9f2594"
   },
   "outputs": [],
   "source": [
    "df_16_EYE.head()"
   ]
  },
  {
   "cell_type": "code",
   "execution_count": null,
   "id": "0fb6a942",
   "metadata": {
    "id": "bfa2e174"
   },
   "outputs": [],
   "source": [
    "# Select only the numeric columns for plotting histograms, excluding time-related columns\n",
    "numeric_cols = df_16_EYE.select_dtypes(include=np.number).columns\n",
    "cols_to_plot = [col for col in numeric_cols if col not in ['UnixTime']]\n",
    "\n",
    "# Calculate the number of rows and columns for the grid\n",
    "n_cols = 4  # You can adjust the number of columns as needed\n",
    "n_rows = (len(cols_to_plot) + n_cols - 1) // n_cols\n",
    "\n",
    "plt.figure(figsize=(n_cols * 5, n_rows * 4)) # Adjust figure size as needed\n",
    "\n",
    "for i, col in enumerate(cols_to_plot):\n",
    "    plt.subplot(n_rows, n_cols, i + 1)\n",
    "    sns.histplot(df_16_EYE[col], kde=True)\n",
    "    plt.title(f'Distribution of {col}')\n",
    "    plt.xlabel(col)\n",
    "    plt.ylabel('Frequency')\n",
    "\n",
    "plt.tight_layout()\n",
    "plt.show()"
   ]
  },
  {
   "cell_type": "markdown",
   "id": "de5cd504",
   "metadata": {
    "id": "8059766d"
   },
   "source": [
    "# Observations from Histograms\n",
    "\n",
    "The grid of histograms provides insights into the distribution of values for each numeric column in the dataset (excluding 'UnixTime'). Key observations include:\n",
    "\n",
    "- Several columns, such as `ET_GazeLeftx`, `ET_GazeLefty`, `ET_GazeRightx`, and `ET_GazeRighty`, show distributions that appear somewhat multimodal or skewed, suggesting variations in gaze patterns.\n",
    "- The `ET_PupilLeft` and `ET_PupilRight` histograms clearly show a peak at -1, confirming the presence of a significant number of invalid pupil readings.\n",
    "- `ET_TimeSignal` shows a relatively uniform distribution, as expected for a time-based signal.\n",
    "- `ET_DistanceLeft` and `ET_DistanceRight` appear to have distributions centered around certain values, with some outliers or variations.\n",
    "- The camera position columns (`ET_CameraLeftX`, `ET_CameraLeftY`, `ET_CameraRightX`, `ET_CameraRightY`) seem to have distributions concentrated within specific ranges, reflecting the camera's field of view.\n",
    "- The validity columns (`ET_ValidityLeft`, `ET_ValidityRight`, `ET_PupilLeft_validity`, `ET_PupilRight_validity`) show distributions dominated by 0, indicating that most of the data is considered valid after the mapping. The smaller peaks at 1 represent the instances of invalid data.\n",
    "\n",
    "These distributions highlight the need for appropriate handling of the -1 values and potential outliers in subsequent analysis or modeling steps."
   ]
  },
  {
   "cell_type": "code",
   "execution_count": null,
   "id": "eb860063",
   "metadata": {
    "id": "cb65ae1e"
   },
   "outputs": [],
   "source": [
    "df_16_EYE.columns"
   ]
  },
  {
   "cell_type": "code",
   "execution_count": null,
   "id": "15a72c5b",
   "metadata": {
    "id": "8cf2280c"
   },
   "outputs": [],
   "source": [
    "cols = ['ET_GazeLeftx', 'ET_GazeLefty',\n",
    "       'ET_GazeRightx', 'ET_GazeRighty', 'ET_PupilLeft', 'ET_PupilRight',\n",
    "       'ET_TimeSignal', 'ET_DistanceLeft', 'ET_DistanceRight',\n",
    "       'ET_CameraLeftX', 'ET_CameraLeftY', 'ET_CameraRightX',\n",
    "       'ET_CameraRightY', 'ET_ValidityLeft', 'ET_ValidityRight',\n",
    "       'ET_PupilLeft_validity', 'ET_PupilRight_validity']"
   ]
  },
  {
   "cell_type": "code",
   "execution_count": null,
   "id": "38d8f7d7",
   "metadata": {
    "id": "85e45ea9"
   },
   "outputs": [],
   "source": [
    "from IPython.display import display, Markdown\n",
    "\n",
    "for col in cols:\n",
    "    # Add a markdown cell before each plot for better separation and labeling\n",
    "    display(Markdown(f'### {col} over Time'))\n",
    "    plt.figure(figsize=(16, 10))\n",
    "    plt.plot(df_16_EYE['Timestamp'], df_16_EYE[col])\n",
    "    plt.xlabel(\"Timestamp\") # Add x-axis label\n",
    "    plt.ylabel(col) # Add y-axis label\n",
    "    plt.show()"
   ]
  },
  {
   "cell_type": "markdown",
   "id": "d859adbd",
   "metadata": {
    "id": "f7ffd08f"
   },
   "source": [
    "# Observations from Time Series Plots\n",
    "\n",
    "The line plots showing various features against the `Timestamp` reveal the temporal patterns and fluctuations in the eye-tracking data. Key observations include:\n",
    "\n",
    "- **Gaze Coordinates (`ET_GazeLeftx`, `ET_GazeLefty`, `ET_GazeRightx`, `ET_GazeRighty`):** These plots show the changes in gaze position over time. We can observe periods of relatively stable gaze interspersed with rapid movements (saccades) and blinks or other events where the gaze data might be invalid (-1 values appear as gaps or spikes if not handled).\n",
    "- **Pupil Size (`ET_PupilLeft`, `ET_PupilRight`):** The pupil size plots show variations over time. The presence of many -1 values is evident as flat lines at the bottom of the plot, indicating periods where pupil data was not recorded or was invalid.\n",
    "- **Time Signal (`ET_TimeSignal`):** This plot shows a steady, increasing trend, as expected for a time-based signal.\n",
    "- **Distance and Camera Position (`ET_DistanceLeft`, `ET_DistanceRight`, `ET_CameraLeftX`, `ET_CameraLeftY`, `ET_CameraRightX`, `ET_CameraRightY`):** These plots show how the distance from the eye tracker and the camera positions change over time. Variations in these features can be related to head movements or changes in the user's position relative to the eye tracker.\n",
    "- **Validity (`ET_ValidityLeft`, `ET_ValidityRight`, `ET_PupilLeft_validity`, `ET_PupilRight_validity`):** These plots clearly show periods of invalid data (represented by 1) as spikes or plateaus, corresponding to instances where the eye tracker lost track of the eyes or the pupil data was marked as invalid.\n",
    "\n",
    "Analyzing these time series plots is crucial for understanding the dynamics of the eye-tracking data and identifying patterns or anomalies that may require further investigation or specific handling during subsequent analysis."
   ]
  },
  {
   "cell_type": "code",
   "execution_count": null,
   "id": "56c303e7",
   "metadata": {
    "id": "cdd85f8c"
   },
   "outputs": [],
   "source": [
    "# Select only the numeric columns for plotting histograms, excluding time-related columns\n",
    "numeric_cols = df_16_EYE.select_dtypes(include=np.number).columns\n",
    "\n",
    "# Calculate the number of rows and columns for the grid\n",
    "n_cols = 4  # You can adjust the number of columns as needed\n",
    "n_rows = (len(numeric_cols) + n_cols - 1) // n_cols\n",
    "\n",
    "plt.figure(figsize=(n_cols * 5, n_rows * 4)) # Adjust figure size as needed\n",
    "\n",
    "for i, col in enumerate(numeric_cols):\n",
    "    plt.subplot(n_rows, n_cols, i + 1)\n",
    "    sns.boxplot(df_16_EYE[col])\n",
    "    plt.title(f'Boxplot of {col}')\n",
    "    plt.xlabel(col)\n",
    "\n",
    "plt.tight_layout()\n",
    "plt.show()"
   ]
  },
  {
   "cell_type": "markdown",
   "id": "4d8a9d42",
   "metadata": {
    "id": "2cca19c5"
   },
   "source": [
    "# Observations from Boxplots and Handling -1 Values\n",
    "\n",
    "The boxplots provide a visual summary of the distribution and potential outliers for each numeric column. Key observations from the boxplots include:\n",
    "\n",
    "- The boxplots for columns like `ET_GazeLeftx`, `ET_GazeLefty`, `ET_GazeRightx`, `ET_GazeRighty`, `ET_PupilLeft`, `ET_PupilRight`, `ET_DistanceLeft`, `ET_DistanceRight`, `ET_CameraLeftX`, `ET_CameraLeftY`, `ET_CameraRightX`, and `ET_CameraRightY` clearly show the presence of -1 values as significant outliers, confirming our earlier observations from the heatmaps and histograms.\n",
    "- The boxplots for the validity columns (`ET_ValidityLeft`, `ET_ValidityRight`, `ET_PupilLeft_validity`, `ET_PupilRight_validity`) show the discrete nature of these features, with the majority of data points at 0 (valid) and a smaller number at 1 (invalid).\n",
    "\n",
    "Given the significant presence of -1 values, which represent invalid or missing data, especially in the pupil-related columns, we have decided to replace these -1 values with NaN to properly represent them as missing data. Subsequently, we will impute these missing values using the mean of each respective column. This approach helps to retain the data structure and allows for further analysis or modeling without the distortion caused by the -1 placeholders."
   ]
  },
  {
   "cell_type": "code",
   "execution_count": null,
   "id": "34779057",
   "metadata": {
    "id": "9217371b"
   },
   "outputs": [],
   "source": [
    "df_16_EYE.replace({-1: np.nan}, inplace=True)"
   ]
  },
  {
   "cell_type": "code",
   "execution_count": null,
   "id": "679fd94a",
   "metadata": {
    "id": "8108fa01"
   },
   "outputs": [],
   "source": [
    "df_16_EYE[['ET_GazeLeftx', 'ET_GazeLefty',\n",
    "       'ET_GazeRightx', 'ET_GazeRighty', 'ET_PupilLeft', 'ET_PupilRight',\n",
    "       'ET_TimeSignal', 'ET_DistanceLeft', 'ET_DistanceRight',\n",
    "       'ET_CameraLeftX', 'ET_CameraLeftY', 'ET_CameraRightX',\n",
    "       'ET_CameraRightY', 'ET_ValidityLeft', 'ET_ValidityRight',\n",
    "       'ET_PupilLeft_validity', 'ET_PupilRight_validity']].mean()"
   ]
  },
  {
   "cell_type": "code",
   "execution_count": null,
   "id": "4ac0a793",
   "metadata": {
    "id": "9b94fbce"
   },
   "outputs": [],
   "source": [
    "df_16_EYE[['ET_GazeLeftx', 'ET_GazeLefty',\n",
    "       'ET_GazeRightx', 'ET_GazeRighty', 'ET_PupilLeft', 'ET_PupilRight',\n",
    "       'ET_TimeSignal', 'ET_DistanceLeft', 'ET_DistanceRight',\n",
    "       'ET_CameraLeftX', 'ET_CameraLeftY', 'ET_CameraRightX',\n",
    "       'ET_CameraRightY', 'ET_ValidityLeft', 'ET_ValidityRight',\n",
    "       'ET_PupilLeft_validity', 'ET_PupilRight_validity']].median()"
   ]
  },
  {
   "cell_type": "code",
   "execution_count": null,
   "id": "36b1958a",
   "metadata": {
    "id": "ee1238c8"
   },
   "outputs": [],
   "source": [
    "numeric_cols = df_16_EYE.select_dtypes(include=np.number).columns\n",
    "\n",
    "for col in numeric_cols:\n",
    "    df_16_EYE[col] = df_16_EYE[col].fillna(df_16_EYE[col].mean())"
   ]
  },
  {
   "cell_type": "code",
   "execution_count": null,
   "id": "67da6d24",
   "metadata": {
    "id": "b0bc522d"
   },
   "outputs": [],
   "source": [
    "plt.figure(figsize=(18, 8))\n",
    "\n",
    "plt.subplot(1, 2, 1)\n",
    "sns.heatmap(df_16_EYE.isnull(), cmap='viridis')\n",
    "plt.title('Heatmap of Missing Values After Imputation')\n",
    "\n",
    "plt.subplot(1, 2, 2)\n",
    "sns.heatmap(df_16_EYE == 1, cmap='viridis')\n",
    "plt.title('Heatmap of 1 Values')\n",
    "\n",
    "plt.tight_layout()\n",
    "plt.show()"
   ]
  },
  {
   "cell_type": "markdown",
   "id": "1d64c9d5",
   "metadata": {
    "id": "c0f1e10d"
   },
   "source": [
    "# Handling Missing Values (Imputation)\n",
    "\n",
    "As decided, we have replaced all the `-1` values with `NaN` to treat them as missing data. Subsequently, we have imputed these `NaN` values with the mean of their respective columns. The heatmap above, which was generated after the imputation, now shows no visible signs of `NaN` values, indicating that the imputation was successful."
   ]
  },
  {
   "cell_type": "code",
   "execution_count": null,
   "id": "d70bd3ec",
   "metadata": {
    "id": "2491c1da"
   },
   "outputs": [],
   "source": [
    "df_16_EYE.head()"
   ]
  },
  {
   "cell_type": "code",
   "execution_count": null,
   "id": "649a675a",
   "metadata": {
    "id": "64f04350"
   },
   "outputs": [],
   "source": [
    "# Select only the numeric columns for plotting histograms, excluding time-related columns\n",
    "numeric_cols = df_16_EYE.select_dtypes(include=np.number).columns\n",
    "cols_to_plot = [col for col in numeric_cols if col not in ['UnixTime']]\n",
    "\n",
    "# Calculate the number of rows and columns for the grid\n",
    "n_cols = 4  # You can adjust the number of columns as needed\n",
    "n_rows = (len(cols_to_plot) + n_cols - 1) // n_cols\n",
    "\n",
    "plt.figure(figsize=(n_cols * 5, n_rows * 4)) # Adjust figure size as needed\n",
    "\n",
    "for i, col in enumerate(cols_to_plot):\n",
    "    plt.subplot(n_rows, n_cols, i + 1)\n",
    "    sns.histplot(df_16_EYE[col], kde=True)\n",
    "    plt.title(f'Distribution of {col}')\n",
    "    plt.xlabel(col)\n",
    "    plt.ylabel('Frequency')\n",
    "\n",
    "plt.tight_layout()\n",
    "plt.show()"
   ]
  },
  {
   "cell_type": "markdown",
   "id": "012098f8",
   "metadata": {
    "id": "e0c83f1c"
   },
   "source": [
    "# Observations from Histograms After Imputation\n",
    "\n",
    "The histograms generated after replacing the -1 values with the mean of each column show the distributions of the numeric features with the missing data handled. Key observations from these updated histograms include:\n",
    "\n",
    "- The distinct peaks at -1, which were prominent in the histograms for several columns (e.g., pupil size, gaze coordinates, distance, and camera position) before imputation, are now replaced by a peak at the mean of each respective column.\n",
    "- The distributions in many columns now appear more unimodal or show shifted modes compared to the original histograms.\n",
    "- The histograms for the validity columns still show their bimodal distributions with peaks at 0 and 1, as these were handled separately.\n",
    "\n",
    "These histograms provide an updated view of the data's distribution after handling the missing values, highlighting the impact of the imputation method on the data's characteristics."
   ]
  },
  {
   "cell_type": "code",
   "execution_count": null,
   "id": "5722f327",
   "metadata": {
    "id": "de0b2f65"
   },
   "outputs": [],
   "source": [
    "cols = ['ET_GazeLeftx', 'ET_GazeLefty',\n",
    "       'ET_GazeRightx', 'ET_GazeRighty', 'ET_PupilLeft', 'ET_PupilRight',\n",
    "       'ET_TimeSignal', 'ET_DistanceLeft', 'ET_DistanceRight',\n",
    "       'ET_CameraLeftX', 'ET_CameraLeftY', 'ET_CameraRightX',\n",
    "       'ET_CameraRightY', 'ET_ValidityLeft', 'ET_ValidityRight',\n",
    "       'ET_PupilLeft_validity', 'ET_PupilRight_validity']"
   ]
  },
  {
   "cell_type": "code",
   "execution_count": null,
   "id": "15d1aff0",
   "metadata": {
    "id": "4ddd4915"
   },
   "outputs": [],
   "source": [
    "for col in cols:\n",
    "    # Add a markdown cell before each plot for better separation and labeling\n",
    "    display(Markdown(f'### {col} over Time'))\n",
    "    plt.figure(figsize=(16, 10))\n",
    "    plt.plot(df_16_EYE['Timestamp'], df_16_EYE[col])\n",
    "    plt.xlabel(\"Timestamp\") # Add x-axis label\n",
    "    plt.ylabel(col) # Add y-axis label\n",
    "    plt.show()"
   ]
  },
  {
   "cell_type": "markdown",
   "id": "4a8f51ff",
   "metadata": {
    "id": "0fb07abb"
   },
   "source": [
    "# Observations from Time Series Plots After Imputation\n",
    "\n",
    "The line plots generated after imputing the missing values with the mean show the temporal patterns of the features with the missing data handled. Key observations from these updated plots include:\n",
    "\n",
    "- The gaps or flat lines at -1, which were prominent in the plots for columns like gaze coordinates, pupil size, distance, and camera position, are now filled by lines at the mean value of the respective columns.\n",
    "- The plots for the validity columns remain the same as they were handled separately.\n",
    "- The `ET_TimeSignal` plot still shows a steady increasing trend, as expected."
   ]
  },
  {
   "cell_type": "code",
   "execution_count": null,
   "id": "b855dd7c",
   "metadata": {
    "id": "c608fd95"
   },
   "outputs": [],
   "source": [
    "plt.figure(figsize=(16, 10))\n",
    "sns.heatmap(df_16_EYE.corr(numeric_only=True), cmap='YlGnBu', annot=True)\n",
    "plt.show()"
   ]
  },
  {
   "cell_type": "markdown",
   "id": "8cfabdda",
   "metadata": {
    "id": "82405ba6"
   },
   "source": [
    "# Observations from Correlation Heatmap\n",
    "\n",
    "The correlation heatmap provides a visual representation of the pairwise correlations between the numeric columns in the dataset. Key observations from the heatmap include:\n",
    "\n",
    "- **High Positive Correlations:** We observe strong positive correlations (values close to 1) between:\n",
    "  - `ET_GazeLeftx` and `ET_GazeRightx`: This is expected as the gaze positions of both eyes should be highly correlated when fixating on a point.\n",
    "  - `ET_GazeLefty` and `ET_GazeRighty`: Similar to the x-coordinates, the y-coordinates of gaze should also be highly correlated.\n",
    "  - `ET_PupilLeft` and `ET_PupilRight`: Pupil sizes of both eyes tend to change together in response to light and cognitive load.\n",
    "  - `ET_DistanceLeft` and `ET_DistanceRight`: The distance from the eye tracker to each eye should be highly correlated.\n",
    "  - `ET_CameraLeftX` and `ET_CameraRightX`, `ET_CameraLeftY` and `ET_CameraRightY`: The camera positions for both eyes are also expected to be highly correlated.\n",
    "  - `UnixTime` and `ET_TimeSignal`: As previously noted, these two columns are almost perfectly linearly correlated, indicating redundancy.\n",
    "  - `ET_ValidityLeft` and `ET_PupilLeft_validity`: There is a positive correlation, suggesting that when the overall left eye data is invalid, the left pupil data is also likely to be invalid.\n",
    "  - `ET_ValidityRight` and `ET_PupilRight_validity`: Similar to the left eye, there is a positive correlation between the overall right eye validity and the right pupil validity.\n",
    "- **Other Correlations:** We can also observe other varying degrees of correlations between different features, which can provide insights into the relationships between gaze behavior, pupil size, distance, and camera position. For example, there might be correlations between gaze coordinates and camera positions, reflecting head movements.\n",
    "- **Low or Near-Zero Correlations:** Columns with low or near-zero correlations are relatively independent of each other.\n",
    "\n",
    "Understanding these correlations is important for feature selection and for building models, as highly correlated features might indicate multicollinearity, while correlations between features can reveal underlying patterns in the data."
   ]
  },
  {
   "cell_type": "markdown",
   "id": "db5efaef",
   "metadata": {
    "id": "1c413c3b"
   },
   "source": [
    "# Analysis of ET_TimeSignal and Decision to Drop\n",
    "\n",
    "As observed in the time series plot and confirmed by the correlation heatmap, the `ET_TimeSignal` column exhibits a near-perfect linear relationship with both the `Timestamp` and `UnixTime` columns. This strong correlation (close to 1) suggests that `ET_TimeSignal` is essentially redundant and likely represents another form of time recording or a signal directly derived from the timestamp.\n",
    "\n",
    "Including highly correlated features like this in a dataset can lead to issues such as multicollinearity in some statistical models, which can make it difficult to interpret the individual impact of each feature. Since the `Timestamp` column already provides the necessary temporal information, retaining `ET_TimeSignal` does not appear to add significant value for further analysis or modeling in most cases.\n",
    "\n",
    "Therefore, based on its high correlation and lack of unique insight, we will proceed to drop the `ET_TimeSignal` column to simplify the dataset and potentially improve the performance and interpretability of future analyses."
   ]
  },
  {
   "cell_type": "code",
   "execution_count": null,
   "id": "251cb869",
   "metadata": {
    "id": "7c96e349"
   },
   "outputs": [],
   "source": [
    "df_16_EYE.drop('ET_TimeSignal', axis=1, inplace=True)"
   ]
  },
  {
   "cell_type": "code",
   "execution_count": null,
   "id": "90967b90",
   "metadata": {
    "id": "5845a61d"
   },
   "outputs": [],
   "source": [
    "plt.figure(figsize=(16, 10))\n",
    "sns.pairplot(df_16_EYE)\n",
    "plt.show()"
   ]
  },
  {
   "cell_type": "markdown",
   "id": "c02b3811",
   "metadata": {
    "id": "sMcHS8LIOGeT"
   },
   "source": [
    "# **17_EYE**"
   ]
  },
  {
   "cell_type": "code",
   "execution_count": null,
   "id": "e1339cb7",
   "metadata": {
    "id": "L2tJooyROWnM"
   },
   "outputs": [],
   "source": []
  },
  {
   "cell_type": "code",
   "execution_count": null,
   "id": "29e25550",
   "metadata": {
    "id": "6c647c4f"
   },
   "outputs": [],
   "source": [
    "df_17_EYE = pd.read_csv('data/STData/17/17_EYE.csv')"
   ]
  },
  {
   "cell_type": "code",
   "execution_count": null,
   "id": "a9b3bd9e",
   "metadata": {
    "id": "c229bba7"
   },
   "outputs": [],
   "source": [
    "df_17_EYE.head()"
   ]
  },
  {
   "cell_type": "code",
   "execution_count": null,
   "id": "0026ff98",
   "metadata": {
    "id": "0ec8e716"
   },
   "outputs": [],
   "source": [
    "df_17_EYE.shape"
   ]
  },
  {
   "cell_type": "code",
   "execution_count": null,
   "id": "b01b01b5",
   "metadata": {
    "id": "43ba37eb"
   },
   "outputs": [],
   "source": [
    "df_17_EYE.columns"
   ]
  },
  {
   "cell_type": "code",
   "execution_count": null,
   "id": "d07331d4",
   "metadata": {
    "id": "19f68fb4"
   },
   "outputs": [],
   "source": [
    "df_17_EYE.info()"
   ]
  },
  {
   "cell_type": "code",
   "execution_count": null,
   "id": "52c72e5b",
   "metadata": {
    "id": "603369d7"
   },
   "outputs": [],
   "source": [
    "df_17_EYE.isnull().sum()"
   ]
  },
  {
   "cell_type": "code",
   "execution_count": null,
   "id": "a39852a3",
   "metadata": {
    "id": "874353e3"
   },
   "outputs": [],
   "source": [
    "plt.figure(figsize=(12,8))\n",
    "sns.heatmap(df_17_EYE.isnull(), cmap='viridis')\n",
    "plt.show()"
   ]
  },
  {
   "cell_type": "markdown",
   "id": "bfea15b8",
   "metadata": {
    "id": "b17906e7"
   },
   "source": [
    "# Notes & Observations\n",
    "\n",
    "- We observe many **null** (or missing) values in the `QuestionKey` columns.\n",
    "- The nulls in the `QuestionKey` column may not represent “true” nulls. Rather, they follow interval patterns, suggesting that during those periods no question was displayed.\n",
    "- These missing values in `QuestionKey` require additional investigation and context-aware handling."
   ]
  },
  {
   "cell_type": "code",
   "execution_count": null,
   "id": "068f8880",
   "metadata": {
    "id": "1113779e"
   },
   "outputs": [],
   "source": [
    "df_17_EYE['QuestionKey'].unique()"
   ]
  },
  {
   "cell_type": "code",
   "execution_count": null,
   "id": "c6ebf1cf",
   "metadata": {
    "id": "db0a93a2"
   },
   "outputs": [],
   "source": [
    "df_17_EYE['Timestamp'] = pd.to_datetime(df_17_EYE['Timestamp'])"
   ]
  },
  {
   "cell_type": "code",
   "execution_count": null,
   "id": "56cd02d9",
   "metadata": {
    "id": "03d57b0a"
   },
   "outputs": [],
   "source": [
    "df_17_EYE.head(3)"
   ]
  },
  {
   "cell_type": "code",
   "execution_count": null,
   "id": "d9119732",
   "metadata": {
    "id": "c0004029"
   },
   "outputs": [],
   "source": [
    "df_17_EYE['QuestionKey'] = df_17_EYE['QuestionKey'].fillna('None')"
   ]
  },
  {
   "cell_type": "code",
   "execution_count": null,
   "id": "ad88c8a4",
   "metadata": {
    "id": "dfb4729e"
   },
   "outputs": [],
   "source": [
    "df_17_EYE['QuestionKey'].value_counts()"
   ]
  },
  {
   "cell_type": "code",
   "execution_count": null,
   "id": "a732d650",
   "metadata": {
    "id": "9353c9d8"
   },
   "outputs": [],
   "source": [
    "plt.figure(figsize=(12,8))\n",
    "sns.heatmap(df_17_EYE.isnull(), cmap='viridis')\n",
    "plt.show()"
   ]
  },
  {
   "cell_type": "code",
   "execution_count": null,
   "id": "f0af5490",
   "metadata": {
    "id": "5c73d150"
   },
   "outputs": [],
   "source": [
    "df_17_EYE.isnull().sum()"
   ]
  },
  {
   "cell_type": "code",
   "execution_count": null,
   "id": "3d95df82",
   "metadata": {
    "id": "6c700142"
   },
   "outputs": [],
   "source": [
    "df_17_EYE.dropna(inplace=True)"
   ]
  },
  {
   "cell_type": "code",
   "execution_count": null,
   "id": "fc5f8423",
   "metadata": {
    "id": "90a604ce"
   },
   "outputs": [],
   "source": [
    "df_17_EYE.head()"
   ]
  },
  {
   "cell_type": "code",
   "execution_count": null,
   "id": "19109e1b",
   "metadata": {
    "id": "a43a4283"
   },
   "outputs": [],
   "source": [
    "df_17_EYE['Row'].unique()"
   ]
  },
  {
   "cell_type": "code",
   "execution_count": null,
   "id": "85e1fd7d",
   "metadata": {
    "id": "f66566f9"
   },
   "outputs": [],
   "source": [
    "plt.figure(figsize=(8,6))\n",
    "sns.histplot(df_17_EYE['Row'])\n",
    "plt.show()"
   ]
  },
  {
   "cell_type": "markdown",
   "id": "0a821f59",
   "metadata": {
    "id": "5ddf40fd"
   },
   "source": [
    "# Notes & Observations\n",
    "\n",
    "- The `Row` column appears to be a simple row index and does not provide meaningful information relevant to the eye-tracking data itself. Therefore, it can be dropped."
   ]
  },
  {
   "cell_type": "code",
   "execution_count": null,
   "id": "2f27e399",
   "metadata": {
    "id": "5aee4404"
   },
   "outputs": [],
   "source": [
    "df_17_EYE.drop('Row', axis=1, inplace=True)"
   ]
  },
  {
   "cell_type": "code",
   "execution_count": null,
   "id": "c101f610",
   "metadata": {
    "id": "827f3274"
   },
   "outputs": [],
   "source": [
    "df_17_EYE['ET_ValidityLeft'].unique()"
   ]
  },
  {
   "cell_type": "code",
   "execution_count": null,
   "id": "2844f3ee",
   "metadata": {
    "id": "1437751a"
   },
   "outputs": [],
   "source": [
    "df_17_EYE['ET_ValidityLeft'].value_counts()"
   ]
  },
  {
   "cell_type": "code",
   "execution_count": null,
   "id": "7da0bb4e",
   "metadata": {
    "id": "d0a9ee4a"
   },
   "outputs": [],
   "source": [
    "df_17_EYE['ET_ValidityRight'].unique()"
   ]
  },
  {
   "cell_type": "code",
   "execution_count": null,
   "id": "743af2ea",
   "metadata": {
    "id": "55ddcc2b"
   },
   "outputs": [],
   "source": [
    "df_17_EYE['ET_ValidityRight'].value_counts()"
   ]
  },
  {
   "cell_type": "code",
   "execution_count": null,
   "id": "76a99c3b",
   "metadata": {
    "id": "faef00be"
   },
   "outputs": [],
   "source": [
    "plt.figure(figsize=(12, 6))\n",
    "\n",
    "plt.subplot(1, 2, 1)\n",
    "sns.barplot(x=df_17_EYE['ET_ValidityLeft'].value_counts().index, y=df_17_EYE['ET_ValidityLeft'].value_counts().values)\n",
    "plt.title('Count of ET_ValidityLeft')\n",
    "plt.xlabel('Validity')\n",
    "plt.ylabel('Count')\n",
    "\n",
    "\n",
    "plt.subplot(1, 2, 2)\n",
    "sns.barplot(x=df_17_EYE['ET_ValidityRight'].value_counts().index, y=df_17_EYE['ET_ValidityRight'].value_counts().values)\n",
    "plt.title('Count of ET_ValidityRight')\n",
    "plt.xlabel('Validity')\n",
    "plt.ylabel('Count')\n",
    "\n",
    "plt.tight_layout()\n",
    "plt.show()"
   ]
  },
  {
   "cell_type": "markdown",
   "id": "eb768ff1",
   "metadata": {
    "id": "b43706ea"
   },
   "source": [
    "# Notes & Observations\n",
    "\n",
    "- The `ET_ValidityLeft` and `ET_ValidityRight` columns indicate the validity of the eye-tracking data for the left and right eye, respectively.\n",
    "- Based on the value counts and the bar plots, it appears that a value of `0.0` represents valid eye-tracking data, while a value of `4.0` represents invalid data.\n",
    "- Although the amount of invalid data is relatively small, removing these rows could introduce unwanted patterns or gaps in the time series data.\n",
    "- Therefore, we will keep the data and replace the value `4.0` with `1.0` in both `ET_ValidityLeft` and `ET_ValidityRight` columns. This will indicate to a machine learning model that the eye tracker had invalid data at those specific points in time while maintaining the integrity of the time series."
   ]
  },
  {
   "cell_type": "markdown",
   "id": "395155c9",
   "metadata": {
    "id": "e9e671b2"
   },
   "source": [
    "Define a mapping to convert validity values from `0.0` and `4.0` to `0` and `1`."
   ]
  },
  {
   "cell_type": "code",
   "execution_count": null,
   "id": "bf427412",
   "metadata": {
    "id": "08e7ed71"
   },
   "outputs": [],
   "source": [
    "validity_map = {4.0: 1.0, 0.0: 0.0}"
   ]
  },
  {
   "cell_type": "code",
   "execution_count": null,
   "id": "8cb0e1fa",
   "metadata": {
    "id": "0bba3ac0"
   },
   "outputs": [],
   "source": [
    "df_17_EYE['ET_ValidityLeft'] = df_17_EYE['ET_ValidityLeft'].map(validity_map).astype(np.int8)\n",
    "df_17_EYE['ET_ValidityRight'] = df_17_EYE['ET_ValidityRight'].map(validity_map).astype(np.int8)"
   ]
  },
  {
   "cell_type": "code",
   "execution_count": null,
   "id": "94acb0c0",
   "metadata": {
    "id": "0ff3f16c"
   },
   "outputs": [],
   "source": [
    "df_17_EYE.head(3)"
   ]
  },
  {
   "cell_type": "code",
   "execution_count": null,
   "id": "7e807764",
   "metadata": {
    "id": "32eb3225"
   },
   "outputs": [],
   "source": [
    "df_17_EYE.describe()"
   ]
  },
  {
   "cell_type": "code",
   "execution_count": null,
   "id": "935882cc",
   "metadata": {
    "id": "c1e092e1"
   },
   "outputs": [],
   "source": [
    "df_17_EYE[df_17_EYE['ET_ValidityLeft'] == 1].shape"
   ]
  },
  {
   "cell_type": "code",
   "execution_count": null,
   "id": "3353dd54",
   "metadata": {
    "id": "8ebfb0cc"
   },
   "outputs": [],
   "source": [
    "df_17_EYE[df_17_EYE['ET_ValidityRight'] == 1].shape"
   ]
  },
  {
   "cell_type": "code",
   "execution_count": null,
   "id": "e004bc13",
   "metadata": {
    "id": "0d175df2"
   },
   "outputs": [],
   "source": [
    "df_17_EYE[df_17_EYE['ET_ValidityLeft'] == 1].shape[0] / df_17_EYE.shape[0]"
   ]
  },
  {
   "cell_type": "code",
   "execution_count": null,
   "id": "e62cfa04",
   "metadata": {
    "id": "54cc0f9e"
   },
   "outputs": [],
   "source": [
    "df_17_EYE[df_17_EYE['ET_ValidityRight'] == 1].shape[0] / df_17_EYE.shape[0]"
   ]
  },
  {
   "cell_type": "code",
   "execution_count": null,
   "id": "39418313",
   "metadata": {
    "id": "45c977c1"
   },
   "outputs": [],
   "source": [
    "plt.figure(figsize=(18, 8))\n",
    "\n",
    "plt.subplot(1, 2, 1)\n",
    "sns.heatmap(df_17_EYE == -1, cmap='viridis')\n",
    "plt.title('Heatmap of -1 Values')\n",
    "\n",
    "plt.subplot(1, 2, 2)\n",
    "sns.heatmap(df_17_EYE == 1, cmap='viridis')\n",
    "plt.title('Heatmap of 1 Values')\n",
    "\n",
    "plt.tight_layout()\n",
    "plt.show()"
   ]
  },
  {
   "cell_type": "code",
   "execution_count": null,
   "id": "e694bc02",
   "metadata": {
    "id": "3b98a13b"
   },
   "outputs": [],
   "source": [
    "df_17_EYE[df_17_EYE['ET_PupilLeft'] == -1].shape"
   ]
  },
  {
   "cell_type": "code",
   "execution_count": null,
   "id": "1e83aabf",
   "metadata": {
    "id": "a2f296f6"
   },
   "outputs": [],
   "source": [
    "df_17_EYE[df_17_EYE['ET_PupilRight'] == -1].shape"
   ]
  },
  {
   "cell_type": "code",
   "execution_count": null,
   "id": "3c73eeaf",
   "metadata": {
    "id": "42cff7eb"
   },
   "outputs": [],
   "source": [
    "df_17_EYE[df_17_EYE['ET_PupilLeft'] == -1].shape[0] / df_17_EYE.shape[0]"
   ]
  },
  {
   "cell_type": "code",
   "execution_count": null,
   "id": "044a782b",
   "metadata": {
    "id": "83c97903"
   },
   "outputs": [],
   "source": [
    "df_17_EYE[df_17_EYE['ET_PupilRight'] == -1].shape[0] / df_17_EYE.shape[0]"
   ]
  },
  {
   "cell_type": "code",
   "execution_count": null,
   "id": "3432d8ec",
   "metadata": {
    "id": "6e176d63"
   },
   "outputs": [],
   "source": [
    "plt.figure(figsize=(18, 8))\n",
    "\n",
    "plt.subplot(1, 2, 1)\n",
    "sns.heatmap(df_17_EYE[df_17_EYE['ET_ValidityLeft'] == 1] == -1, cmap='viridis')\n",
    "plt.title('Heatmap of -1 Values')\n",
    "\n",
    "plt.subplot(1, 2, 2)\n",
    "sns.heatmap(df_17_EYE[df_17_EYE['ET_ValidityRight'] == 1] == -1, cmap='viridis')\n",
    "plt.title('Heatmap of -1 Values')\n",
    "\n",
    "plt.tight_layout()\n",
    "plt.show()"
   ]
  },
  {
   "cell_type": "markdown",
   "id": "5f1cd24b",
   "metadata": {
    "id": "fff8db39"
   },
   "source": [
    "# Notes & Observations\n",
    "\n",
    "- The heatmaps reveal the distribution of -1 values across different columns.\n",
    "- It is evident that the `-1` values are not randomly scattered but appear in specific columns, notably `ET_GazeLeftx`, `ET_GazeLefty`, `ET_GazeRightx`, `ET_GazeRighty`, `ET_PupilLeft`, `ET_PupilRight`, `ET_DistanceLeft`, `ET_DistanceRight`, `ET_CameraLeftX`, `ET_CameraLeftY`, `ET_CameraRightX`, and `ET_CameraRightY`.\n",
    "- These `-1` values often coincide with instances where `ET_ValidityLeft` or `ET_ValidityRight` is 1, indicating invalid eye-tracking data. This suggests that `-1` is used as a placeholder for missing or invalid measurements in these columns when the eye tracker is not providing valid data for a particular eye.\n",
    "- Given that over 70% of the data in the `ET_PupilLeft` and `ET_PupilRight` columns is marked as invalid (-1), so instead of dropping them we can create new feature for both the `ET_PupilLeft` and `ET_PupilRight` to represent which row consist invalid `ET_PupilLeft` and `ET_PupilRight` data"
   ]
  },
  {
   "cell_type": "code",
   "execution_count": null,
   "id": "2e3e454c",
   "metadata": {
    "id": "cf7437aa"
   },
   "outputs": [],
   "source": [
    "pupil_validity = {-1: 1 }"
   ]
  },
  {
   "cell_type": "code",
   "execution_count": null,
   "id": "eb09a893",
   "metadata": {
    "id": "989b113d"
   },
   "outputs": [],
   "source": [
    "df_17_EYE['ET_PupilLeft_validity'] = df_17_EYE['ET_PupilLeft'].map(pupil_validity)"
   ]
  },
  {
   "cell_type": "code",
   "execution_count": null,
   "id": "16b70c34",
   "metadata": {
    "id": "9ecdfbc0"
   },
   "outputs": [],
   "source": [
    "df_17_EYE['ET_PupilRight_validity'] = df_17_EYE['ET_PupilRight'].map(pupil_validity)"
   ]
  },
  {
   "cell_type": "code",
   "execution_count": null,
   "id": "64e27c19",
   "metadata": {
    "id": "7f5d2b28"
   },
   "outputs": [],
   "source": [
    "df_17_EYE[['ET_PupilLeft_validity', 'ET_PupilRight_validity']].head()"
   ]
  },
  {
   "cell_type": "code",
   "execution_count": null,
   "id": "bd867d49",
   "metadata": {
    "id": "6a86c472"
   },
   "outputs": [],
   "source": [
    "df_17_EYE[['ET_PupilLeft_validity', 'ET_PupilRight_validity']].isnull().sum()"
   ]
  },
  {
   "cell_type": "code",
   "execution_count": null,
   "id": "7a8f00f2",
   "metadata": {
    "id": "9121e4a8"
   },
   "outputs": [],
   "source": [
    "plt.figure(figsize=(18, 8))\n",
    "sns.heatmap(df_17_EYE[['ET_PupilLeft_validity', 'ET_PupilRight_validity']].isnull(), cmap='viridis')\n",
    "plt.show()"
   ]
  },
  {
   "cell_type": "code",
   "execution_count": null,
   "id": "23817263",
   "metadata": {
    "id": "613a230a"
   },
   "outputs": [],
   "source": [
    "df_17_EYE['ET_PupilLeft_validity'] = df_17_EYE['ET_PupilLeft_validity'].fillna(0)"
   ]
  },
  {
   "cell_type": "code",
   "execution_count": null,
   "id": "5bfb1f18",
   "metadata": {
    "id": "89ae7d3f"
   },
   "outputs": [],
   "source": [
    "df_17_EYE['ET_PupilRight_validity'] = df_17_EYE['ET_PupilRight_validity'].fillna(0)"
   ]
  },
  {
   "cell_type": "code",
   "execution_count": null,
   "id": "14fe6634",
   "metadata": {
    "id": "a2c39f03"
   },
   "outputs": [],
   "source": [
    "df_17_EYE[['ET_PupilLeft_validity', 'ET_PupilRight_validity']].head()"
   ]
  },
  {
   "cell_type": "code",
   "execution_count": null,
   "id": "05e08ef0",
   "metadata": {
    "id": "6e9c2645"
   },
   "outputs": [],
   "source": [
    "plt.figure(figsize=(18, 8))\n",
    "sns.heatmap(df_17_EYE[['ET_PupilLeft_validity', 'ET_PupilRight_validity']].isnull(), cmap='viridis')\n",
    "plt.show()"
   ]
  },
  {
   "cell_type": "code",
   "execution_count": null,
   "id": "85238055",
   "metadata": {
    "id": "7e52da92"
   },
   "outputs": [],
   "source": [
    "df_17_EYE.head()"
   ]
  },
  {
   "cell_type": "code",
   "execution_count": null,
   "id": "929f0303",
   "metadata": {
    "id": "1cefd42d"
   },
   "outputs": [],
   "source": [
    "plt.figure(figsize=(18, 8))\n",
    "\n",
    "plt.subplot(1, 2, 1)\n",
    "sns.heatmap(df_17_EYE == -1, cmap='viridis')\n",
    "plt.title('Heatmap of -1 Values')\n",
    "\n",
    "plt.subplot(1, 2, 2)\n",
    "sns.heatmap(df_17_EYE == 1, cmap='viridis')\n",
    "plt.title('Heatmap of -1 Values')\n",
    "\n",
    "plt.tight_layout()\n",
    "plt.show()"
   ]
  },
  {
   "cell_type": "code",
   "execution_count": null,
   "id": "38a8435d",
   "metadata": {
    "id": "dcf38f27"
   },
   "outputs": [],
   "source": [
    "valid_left_ratio  = 1 - df_17_EYE['ET_ValidityLeft'].mean()"
   ]
  },
  {
   "cell_type": "code",
   "execution_count": null,
   "id": "1c59e382",
   "metadata": {
    "id": "2aea00ec"
   },
   "outputs": [],
   "source": [
    "valid_left_ratio"
   ]
  },
  {
   "cell_type": "code",
   "execution_count": null,
   "id": "c664b861",
   "metadata": {
    "id": "19ac306c"
   },
   "outputs": [],
   "source": [
    "valid_right_ratio = 1 - df_17_EYE['ET_ValidityRight'].mean()"
   ]
  },
  {
   "cell_type": "code",
   "execution_count": null,
   "id": "4b9a0c3f",
   "metadata": {
    "id": "4f0aa48e"
   },
   "outputs": [],
   "source": [
    "valid_right_ratio"
   ]
  },
  {
   "cell_type": "code",
   "execution_count": null,
   "id": "658f513e",
   "metadata": {
    "id": "a000b670"
   },
   "outputs": [],
   "source": [
    "df_17_EYE['ET_PupilLeft_validity'] = df_17_EYE['ET_PupilLeft_validity'].astype(np.int8)\n",
    "df_17_EYE['ET_PupilRight_validity'] = df_17_EYE['ET_PupilRight_validity'].astype(np.int8)"
   ]
  },
  {
   "cell_type": "markdown",
   "id": "21b69256",
   "metadata": {
    "id": "6acf6847"
   },
   "source": [
    "# Feature Engineering and Observations\n",
    "\n",
    "Based on the analysis of the data, we've created two new features, `ET_PupilLeft_validity` and `ET_PupilRight_validity`. These features indicate the validity of the pupil data for the left and right eyes, respectively, with a value of 1 representing invalid data (originally -1) and 0 representing valid data.\n",
    "\n",
    "The heatmaps above visually demonstrate the distribution of -1 and 1 values across the dataset. We observed that:\n",
    "- The `-1` values are concentrated in specific columns related to gaze, pupil size, distance, and camera position, suggesting they represent missing or invalid sensor readings.\n",
    "- The `1` values, after mapping from `4.0` in the original validity columns, indicate instances of invalid eye-tracking data.\n",
    "- The heatmaps also show a strong correlation between the `-1` values in the pupil columns and a validity of 1 in the newly created pupil validity features, confirming that -1 was used to mark invalid pupil data."
   ]
  },
  {
   "cell_type": "code",
   "execution_count": null,
   "id": "7aa854f2",
   "metadata": {
    "id": "de9f2594"
   },
   "outputs": [],
   "source": [
    "df_17_EYE.head()"
   ]
  },
  {
   "cell_type": "code",
   "execution_count": null,
   "id": "99601fda",
   "metadata": {
    "id": "bfa2e174"
   },
   "outputs": [],
   "source": [
    "# Select only the numeric columns for plotting histograms, excluding time-related columns\n",
    "numeric_cols = df_17_EYE.select_dtypes(include=np.number).columns\n",
    "cols_to_plot = [col for col in numeric_cols if col not in ['UnixTime']]\n",
    "\n",
    "# Calculate the number of rows and columns for the grid\n",
    "n_cols = 4  # You can adjust the number of columns as needed\n",
    "n_rows = (len(cols_to_plot) + n_cols - 1) // n_cols\n",
    "\n",
    "plt.figure(figsize=(n_cols * 5, n_rows * 4)) # Adjust figure size as needed\n",
    "\n",
    "for i, col in enumerate(cols_to_plot):\n",
    "    plt.subplot(n_rows, n_cols, i + 1)\n",
    "    sns.histplot(df_17_EYE[col], kde=True)\n",
    "    plt.title(f'Distribution of {col}')\n",
    "    plt.xlabel(col)\n",
    "    plt.ylabel('Frequency')\n",
    "\n",
    "plt.tight_layout()\n",
    "plt.show()"
   ]
  },
  {
   "cell_type": "markdown",
   "id": "0eecdf95",
   "metadata": {
    "id": "8059766d"
   },
   "source": [
    "# Observations from Histograms\n",
    "\n",
    "The grid of histograms provides insights into the distribution of values for each numeric column in the dataset (excluding 'UnixTime'). Key observations include:\n",
    "\n",
    "- Several columns, such as `ET_GazeLeftx`, `ET_GazeLefty`, `ET_GazeRightx`, and `ET_GazeRighty`, show distributions that appear somewhat multimodal or skewed, suggesting variations in gaze patterns.\n",
    "- The `ET_PupilLeft` and `ET_PupilRight` histograms clearly show a peak at -1, confirming the presence of a significant number of invalid pupil readings.\n",
    "- `ET_TimeSignal` shows a relatively uniform distribution, as expected for a time-based signal.\n",
    "- `ET_DistanceLeft` and `ET_DistanceRight` appear to have distributions centered around certain values, with some outliers or variations.\n",
    "- The camera position columns (`ET_CameraLeftX`, `ET_CameraLeftY`, `ET_CameraRightX`, `ET_CameraRightY`) seem to have distributions concentrated within specific ranges, reflecting the camera's field of view.\n",
    "- The validity columns (`ET_ValidityLeft`, `ET_ValidityRight`, `ET_PupilLeft_validity`, `ET_PupilRight_validity`) show distributions dominated by 0, indicating that most of the data is considered valid after the mapping. The smaller peaks at 1 represent the instances of invalid data.\n",
    "\n",
    "These distributions highlight the need for appropriate handling of the -1 values and potential outliers in subsequent analysis or modeling steps."
   ]
  },
  {
   "cell_type": "code",
   "execution_count": null,
   "id": "9dcc54dd",
   "metadata": {
    "id": "cb65ae1e"
   },
   "outputs": [],
   "source": [
    "df_17_EYE.columns"
   ]
  },
  {
   "cell_type": "code",
   "execution_count": null,
   "id": "e4183da1",
   "metadata": {
    "id": "8cf2280c"
   },
   "outputs": [],
   "source": [
    "cols = ['ET_GazeLeftx', 'ET_GazeLefty',\n",
    "       'ET_GazeRightx', 'ET_GazeRighty', 'ET_PupilLeft', 'ET_PupilRight',\n",
    "       'ET_TimeSignal', 'ET_DistanceLeft', 'ET_DistanceRight',\n",
    "       'ET_CameraLeftX', 'ET_CameraLeftY', 'ET_CameraRightX',\n",
    "       'ET_CameraRightY', 'ET_ValidityLeft', 'ET_ValidityRight',\n",
    "       'ET_PupilLeft_validity', 'ET_PupilRight_validity']"
   ]
  },
  {
   "cell_type": "code",
   "execution_count": null,
   "id": "734a9004",
   "metadata": {
    "id": "85e45ea9"
   },
   "outputs": [],
   "source": [
    "from IPython.display import display, Markdown\n",
    "\n",
    "for col in cols:\n",
    "    # Add a markdown cell before each plot for better separation and labeling\n",
    "    display(Markdown(f'### {col} over Time'))\n",
    "    plt.figure(figsize=(16, 10))\n",
    "    plt.plot(df_17_EYE['Timestamp'], df_17_EYE[col])\n",
    "    plt.xlabel(\"Timestamp\") # Add x-axis label\n",
    "    plt.ylabel(col) # Add y-axis label\n",
    "    plt.show()"
   ]
  },
  {
   "cell_type": "markdown",
   "id": "d76b671a",
   "metadata": {
    "id": "f7ffd08f"
   },
   "source": [
    "# Observations from Time Series Plots\n",
    "\n",
    "The line plots showing various features against the `Timestamp` reveal the temporal patterns and fluctuations in the eye-tracking data. Key observations include:\n",
    "\n",
    "- **Gaze Coordinates (`ET_GazeLeftx`, `ET_GazeLefty`, `ET_GazeRightx`, `ET_GazeRighty`):** These plots show the changes in gaze position over time. We can observe periods of relatively stable gaze interspersed with rapid movements (saccades) and blinks or other events where the gaze data might be invalid (-1 values appear as gaps or spikes if not handled).\n",
    "- **Pupil Size (`ET_PupilLeft`, `ET_PupilRight`):** The pupil size plots show variations over time. The presence of many -1 values is evident as flat lines at the bottom of the plot, indicating periods where pupil data was not recorded or was invalid.\n",
    "- **Time Signal (`ET_TimeSignal`):** This plot shows a steady, increasing trend, as expected for a time-based signal.\n",
    "- **Distance and Camera Position (`ET_DistanceLeft`, `ET_DistanceRight`, `ET_CameraLeftX`, `ET_CameraLeftY`, `ET_CameraRightX`, `ET_CameraRightY`):** These plots show how the distance from the eye tracker and the camera positions change over time. Variations in these features can be related to head movements or changes in the user's position relative to the eye tracker.\n",
    "- **Validity (`ET_ValidityLeft`, `ET_ValidityRight`, `ET_PupilLeft_validity`, `ET_PupilRight_validity`):** These plots clearly show periods of invalid data (represented by 1) as spikes or plateaus, corresponding to instances where the eye tracker lost track of the eyes or the pupil data was marked as invalid.\n",
    "\n",
    "Analyzing these time series plots is crucial for understanding the dynamics of the eye-tracking data and identifying patterns or anomalies that may require further investigation or specific handling during subsequent analysis."
   ]
  },
  {
   "cell_type": "code",
   "execution_count": null,
   "id": "342b9f6a",
   "metadata": {
    "id": "cdd85f8c"
   },
   "outputs": [],
   "source": [
    "# Select only the numeric columns for plotting histograms, excluding time-related columns\n",
    "numeric_cols = df_17_EYE.select_dtypes(include=np.number).columns\n",
    "\n",
    "# Calculate the number of rows and columns for the grid\n",
    "n_cols = 4  # You can adjust the number of columns as needed\n",
    "n_rows = (len(numeric_cols) + n_cols - 1) // n_cols\n",
    "\n",
    "plt.figure(figsize=(n_cols * 5, n_rows * 4)) # Adjust figure size as needed\n",
    "\n",
    "for i, col in enumerate(numeric_cols):\n",
    "    plt.subplot(n_rows, n_cols, i + 1)\n",
    "    sns.boxplot(df_17_EYE[col])\n",
    "    plt.title(f'Boxplot of {col}')\n",
    "    plt.xlabel(col)\n",
    "\n",
    "plt.tight_layout()\n",
    "plt.show()"
   ]
  },
  {
   "cell_type": "markdown",
   "id": "5aebd8a4",
   "metadata": {
    "id": "2cca19c5"
   },
   "source": [
    "# Observations from Boxplots and Handling -1 Values\n",
    "\n",
    "The boxplots provide a visual summary of the distribution and potential outliers for each numeric column. Key observations from the boxplots include:\n",
    "\n",
    "- The boxplots for columns like `ET_GazeLeftx`, `ET_GazeLefty`, `ET_GazeRightx`, `ET_GazeRighty`, `ET_PupilLeft`, `ET_PupilRight`, `ET_DistanceLeft`, `ET_DistanceRight`, `ET_CameraLeftX`, `ET_CameraLeftY`, `ET_CameraRightX`, and `ET_CameraRightY` clearly show the presence of -1 values as significant outliers, confirming our earlier observations from the heatmaps and histograms.\n",
    "- The boxplots for the validity columns (`ET_ValidityLeft`, `ET_ValidityRight`, `ET_PupilLeft_validity`, `ET_PupilRight_validity`) show the discrete nature of these features, with the majority of data points at 0 (valid) and a smaller number at 1 (invalid).\n",
    "\n",
    "Given the significant presence of -1 values, which represent invalid or missing data, especially in the pupil-related columns, we have decided to replace these -1 values with NaN to properly represent them as missing data. Subsequently, we will impute these missing values using the mean of each respective column. This approach helps to retain the data structure and allows for further analysis or modeling without the distortion caused by the -1 placeholders."
   ]
  },
  {
   "cell_type": "code",
   "execution_count": null,
   "id": "75ff3072",
   "metadata": {
    "id": "9217371b"
   },
   "outputs": [],
   "source": [
    "df_17_EYE.replace({-1: np.nan}, inplace=True)"
   ]
  },
  {
   "cell_type": "code",
   "execution_count": null,
   "id": "f46cd1b5",
   "metadata": {
    "id": "8108fa01"
   },
   "outputs": [],
   "source": [
    "df_17_EYE[['ET_GazeLeftx', 'ET_GazeLefty',\n",
    "       'ET_GazeRightx', 'ET_GazeRighty', 'ET_PupilLeft', 'ET_PupilRight',\n",
    "       'ET_TimeSignal', 'ET_DistanceLeft', 'ET_DistanceRight',\n",
    "       'ET_CameraLeftX', 'ET_CameraLeftY', 'ET_CameraRightX',\n",
    "       'ET_CameraRightY', 'ET_ValidityLeft', 'ET_ValidityRight',\n",
    "       'ET_PupilLeft_validity', 'ET_PupilRight_validity']].mean()"
   ]
  },
  {
   "cell_type": "code",
   "execution_count": null,
   "id": "63eae4a5",
   "metadata": {
    "id": "9b94fbce"
   },
   "outputs": [],
   "source": [
    "df_17_EYE[['ET_GazeLeftx', 'ET_GazeLefty',\n",
    "       'ET_GazeRightx', 'ET_GazeRighty', 'ET_PupilLeft', 'ET_PupilRight',\n",
    "       'ET_TimeSignal', 'ET_DistanceLeft', 'ET_DistanceRight',\n",
    "       'ET_CameraLeftX', 'ET_CameraLeftY', 'ET_CameraRightX',\n",
    "       'ET_CameraRightY', 'ET_ValidityLeft', 'ET_ValidityRight',\n",
    "       'ET_PupilLeft_validity', 'ET_PupilRight_validity']].median()"
   ]
  },
  {
   "cell_type": "code",
   "execution_count": null,
   "id": "35c60205",
   "metadata": {
    "id": "ee1238c8"
   },
   "outputs": [],
   "source": [
    "numeric_cols = df_17_EYE.select_dtypes(include=np.number).columns\n",
    "\n",
    "for col in numeric_cols:\n",
    "    df_17_EYE[col] = df_17_EYE[col].fillna(df_17_EYE[col].mean())"
   ]
  },
  {
   "cell_type": "code",
   "execution_count": null,
   "id": "37844fbb",
   "metadata": {
    "id": "b0bc522d"
   },
   "outputs": [],
   "source": [
    "plt.figure(figsize=(18, 8))\n",
    "\n",
    "plt.subplot(1, 2, 1)\n",
    "sns.heatmap(df_17_EYE.isnull(), cmap='viridis')\n",
    "plt.title('Heatmap of Missing Values After Imputation')\n",
    "\n",
    "plt.subplot(1, 2, 2)\n",
    "sns.heatmap(df_17_EYE == 1, cmap='viridis')\n",
    "plt.title('Heatmap of 1 Values')\n",
    "\n",
    "plt.tight_layout()\n",
    "plt.show()"
   ]
  },
  {
   "cell_type": "markdown",
   "id": "748deb79",
   "metadata": {
    "id": "c0f1e10d"
   },
   "source": [
    "# Handling Missing Values (Imputation)\n",
    "\n",
    "As decided, we have replaced all the `-1` values with `NaN` to treat them as missing data. Subsequently, we have imputed these `NaN` values with the mean of their respective columns. The heatmap above, which was generated after the imputation, now shows no visible signs of `NaN` values, indicating that the imputation was successful."
   ]
  },
  {
   "cell_type": "code",
   "execution_count": null,
   "id": "55ae0ed4",
   "metadata": {
    "id": "2491c1da"
   },
   "outputs": [],
   "source": [
    "df_17_EYE.head()"
   ]
  },
  {
   "cell_type": "code",
   "execution_count": null,
   "id": "b2e3a542",
   "metadata": {
    "id": "64f04350"
   },
   "outputs": [],
   "source": [
    "# Select only the numeric columns for plotting histograms, excluding time-related columns\n",
    "numeric_cols = df_17_EYE.select_dtypes(include=np.number).columns\n",
    "cols_to_plot = [col for col in numeric_cols if col not in ['UnixTime']]\n",
    "\n",
    "# Calculate the number of rows and columns for the grid\n",
    "n_cols = 4  # You can adjust the number of columns as needed\n",
    "n_rows = (len(cols_to_plot) + n_cols - 1) // n_cols\n",
    "\n",
    "plt.figure(figsize=(n_cols * 5, n_rows * 4)) # Adjust figure size as needed\n",
    "\n",
    "for i, col in enumerate(cols_to_plot):\n",
    "    plt.subplot(n_rows, n_cols, i + 1)\n",
    "    sns.histplot(df_17_EYE[col], kde=True)\n",
    "    plt.title(f'Distribution of {col}')\n",
    "    plt.xlabel(col)\n",
    "    plt.ylabel('Frequency')\n",
    "\n",
    "plt.tight_layout()\n",
    "plt.show()"
   ]
  },
  {
   "cell_type": "markdown",
   "id": "ce35814f",
   "metadata": {
    "id": "e0c83f1c"
   },
   "source": [
    "# Observations from Histograms After Imputation\n",
    "\n",
    "The histograms generated after replacing the -1 values with the mean of each column show the distributions of the numeric features with the missing data handled. Key observations from these updated histograms include:\n",
    "\n",
    "- The distinct peaks at -1, which were prominent in the histograms for several columns (e.g., pupil size, gaze coordinates, distance, and camera position) before imputation, are now replaced by a peak at the mean of each respective column.\n",
    "- The distributions in many columns now appear more unimodal or show shifted modes compared to the original histograms.\n",
    "- The histograms for the validity columns still show their bimodal distributions with peaks at 0 and 1, as these were handled separately.\n",
    "\n",
    "These histograms provide an updated view of the data's distribution after handling the missing values, highlighting the impact of the imputation method on the data's characteristics."
   ]
  },
  {
   "cell_type": "code",
   "execution_count": null,
   "id": "303f5b9b",
   "metadata": {
    "id": "de0b2f65"
   },
   "outputs": [],
   "source": [
    "cols = ['ET_GazeLeftx', 'ET_GazeLefty',\n",
    "       'ET_GazeRightx', 'ET_GazeRighty', 'ET_PupilLeft', 'ET_PupilRight',\n",
    "       'ET_TimeSignal', 'ET_DistanceLeft', 'ET_DistanceRight',\n",
    "       'ET_CameraLeftX', 'ET_CameraLeftY', 'ET_CameraRightX',\n",
    "       'ET_CameraRightY', 'ET_ValidityLeft', 'ET_ValidityRight',\n",
    "       'ET_PupilLeft_validity', 'ET_PupilRight_validity']"
   ]
  },
  {
   "cell_type": "code",
   "execution_count": null,
   "id": "46da0285",
   "metadata": {
    "id": "4ddd4915"
   },
   "outputs": [],
   "source": [
    "for col in cols:\n",
    "    # Add a markdown cell before each plot for better separation and labeling\n",
    "    display(Markdown(f'### {col} over Time'))\n",
    "    plt.figure(figsize=(16, 10))\n",
    "    plt.plot(df_17_EYE['Timestamp'], df_17_EYE[col])\n",
    "    plt.xlabel(\"Timestamp\") # Add x-axis label\n",
    "    plt.ylabel(col) # Add y-axis label\n",
    "    plt.show()"
   ]
  },
  {
   "cell_type": "markdown",
   "id": "76daefcb",
   "metadata": {
    "id": "0fb07abb"
   },
   "source": [
    "# Observations from Time Series Plots After Imputation\n",
    "\n",
    "The line plots generated after imputing the missing values with the mean show the temporal patterns of the features with the missing data handled. Key observations from these updated plots include:\n",
    "\n",
    "- The gaps or flat lines at -1, which were prominent in the plots for columns like gaze coordinates, pupil size, distance, and camera position, are now filled by lines at the mean value of the respective columns.\n",
    "- The plots for the validity columns remain the same as they were handled separately.\n",
    "- The `ET_TimeSignal` plot still shows a steady increasing trend, as expected."
   ]
  },
  {
   "cell_type": "code",
   "execution_count": null,
   "id": "cc04699e",
   "metadata": {
    "id": "c608fd95"
   },
   "outputs": [],
   "source": [
    "plt.figure(figsize=(16, 10))\n",
    "sns.heatmap(df_17_EYE.corr(numeric_only=True), cmap='YlGnBu', annot=True)\n",
    "plt.show()"
   ]
  },
  {
   "cell_type": "markdown",
   "id": "050ea174",
   "metadata": {
    "id": "82405ba6"
   },
   "source": [
    "# Observations from Correlation Heatmap\n",
    "\n",
    "The correlation heatmap provides a visual representation of the pairwise correlations between the numeric columns in the dataset. Key observations from the heatmap include:\n",
    "\n",
    "- **High Positive Correlations:** We observe strong positive correlations (values close to 1) between:\n",
    "  - `ET_GazeLeftx` and `ET_GazeRightx`: This is expected as the gaze positions of both eyes should be highly correlated when fixating on a point.\n",
    "  - `ET_GazeLefty` and `ET_GazeRighty`: Similar to the x-coordinates, the y-coordinates of gaze should also be highly correlated.\n",
    "  - `ET_PupilLeft` and `ET_PupilRight`: Pupil sizes of both eyes tend to change together in response to light and cognitive load.\n",
    "  - `ET_DistanceLeft` and `ET_DistanceRight`: The distance from the eye tracker to each eye should be highly correlated.\n",
    "  - `ET_CameraLeftX` and `ET_CameraRightX`, `ET_CameraLeftY` and `ET_CameraRightY`: The camera positions for both eyes are also expected to be highly correlated.\n",
    "  - `UnixTime` and `ET_TimeSignal`: As previously noted, these two columns are almost perfectly linearly correlated, indicating redundancy.\n",
    "  - `ET_ValidityLeft` and `ET_PupilLeft_validity`: There is a positive correlation, suggesting that when the overall left eye data is invalid, the left pupil data is also likely to be invalid.\n",
    "  - `ET_ValidityRight` and `ET_PupilRight_validity`: Similar to the left eye, there is a positive correlation between the overall right eye validity and the right pupil validity.\n",
    "- **Other Correlations:** We can also observe other varying degrees of correlations between different features, which can provide insights into the relationships between gaze behavior, pupil size, distance, and camera position. For example, there might be correlations between gaze coordinates and camera positions, reflecting head movements.\n",
    "- **Low or Near-Zero Correlations:** Columns with low or near-zero correlations are relatively independent of each other.\n",
    "\n",
    "Understanding these correlations is important for feature selection and for building models, as highly correlated features might indicate multicollinearity, while correlations between features can reveal underlying patterns in the data."
   ]
  },
  {
   "cell_type": "markdown",
   "id": "5c630217",
   "metadata": {
    "id": "1c413c3b"
   },
   "source": [
    "# Analysis of ET_TimeSignal and Decision to Drop\n",
    "\n",
    "As observed in the time series plot and confirmed by the correlation heatmap, the `ET_TimeSignal` column exhibits a near-perfect linear relationship with both the `Timestamp` and `UnixTime` columns. This strong correlation (close to 1) suggests that `ET_TimeSignal` is essentially redundant and likely represents another form of time recording or a signal directly derived from the timestamp.\n",
    "\n",
    "Including highly correlated features like this in a dataset can lead to issues such as multicollinearity in some statistical models, which can make it difficult to interpret the individual impact of each feature. Since the `Timestamp` column already provides the necessary temporal information, retaining `ET_TimeSignal` does not appear to add significant value for further analysis or modeling in most cases.\n",
    "\n",
    "Therefore, based on its high correlation and lack of unique insight, we will proceed to drop the `ET_TimeSignal` column to simplify the dataset and potentially improve the performance and interpretability of future analyses."
   ]
  },
  {
   "cell_type": "code",
   "execution_count": null,
   "id": "142c5d26",
   "metadata": {
    "id": "7c96e349"
   },
   "outputs": [],
   "source": [
    "df_17_EYE.drop('ET_TimeSignal', axis=1, inplace=True)"
   ]
  },
  {
   "cell_type": "code",
   "execution_count": null,
   "id": "52dfc26c",
   "metadata": {
    "id": "5845a61d"
   },
   "outputs": [],
   "source": [
    "plt.figure(figsize=(16, 10))\n",
    "sns.pairplot(df_17_EYE)\n",
    "plt.show()"
   ]
  },
  {
   "cell_type": "markdown",
   "id": "1200575b",
   "metadata": {
    "id": "sMcHS8LIOGeT"
   },
   "source": [
    "# **18_EYE**"
   ]
  },
  {
   "cell_type": "code",
   "execution_count": null,
   "id": "7ab5dd53",
   "metadata": {
    "id": "L2tJooyROWnM"
   },
   "outputs": [],
   "source": []
  },
  {
   "cell_type": "code",
   "execution_count": null,
   "id": "2daddf34",
   "metadata": {
    "id": "6c647c4f"
   },
   "outputs": [],
   "source": [
    "df_18_EYE = pd.read_csv('data/STData/18/18_EYE.csv')"
   ]
  },
  {
   "cell_type": "code",
   "execution_count": null,
   "id": "355060f6",
   "metadata": {
    "id": "c229bba7"
   },
   "outputs": [],
   "source": [
    "df_18_EYE.head()"
   ]
  },
  {
   "cell_type": "code",
   "execution_count": null,
   "id": "25efaff6",
   "metadata": {
    "id": "0ec8e716"
   },
   "outputs": [],
   "source": [
    "df_18_EYE.shape"
   ]
  },
  {
   "cell_type": "code",
   "execution_count": null,
   "id": "48f0bdc6",
   "metadata": {
    "id": "43ba37eb"
   },
   "outputs": [],
   "source": [
    "df_18_EYE.columns"
   ]
  },
  {
   "cell_type": "code",
   "execution_count": null,
   "id": "3df41b26",
   "metadata": {
    "id": "19f68fb4"
   },
   "outputs": [],
   "source": [
    "df_18_EYE.info()"
   ]
  },
  {
   "cell_type": "code",
   "execution_count": null,
   "id": "b1737dab",
   "metadata": {
    "id": "603369d7"
   },
   "outputs": [],
   "source": [
    "df_18_EYE.isnull().sum()"
   ]
  },
  {
   "cell_type": "code",
   "execution_count": null,
   "id": "a073636c",
   "metadata": {
    "id": "874353e3"
   },
   "outputs": [],
   "source": [
    "plt.figure(figsize=(12,8))\n",
    "sns.heatmap(df_18_EYE.isnull(), cmap='viridis')\n",
    "plt.show()"
   ]
  },
  {
   "cell_type": "markdown",
   "id": "b53a887c",
   "metadata": {
    "id": "b17906e7"
   },
   "source": [
    "# Notes & Observations\n",
    "\n",
    "- We observe many **null** (or missing) values in the `QuestionKey` columns.\n",
    "- The nulls in the `QuestionKey` column may not represent “true” nulls. Rather, they follow interval patterns, suggesting that during those periods no question was displayed.\n",
    "- These missing values in `QuestionKey` require additional investigation and context-aware handling."
   ]
  },
  {
   "cell_type": "code",
   "execution_count": null,
   "id": "64c20e84",
   "metadata": {
    "id": "1113779e"
   },
   "outputs": [],
   "source": [
    "df_18_EYE['QuestionKey'].unique()"
   ]
  },
  {
   "cell_type": "code",
   "execution_count": null,
   "id": "b472df9a",
   "metadata": {
    "id": "db0a93a2"
   },
   "outputs": [],
   "source": [
    "df_18_EYE['Timestamp'] = pd.to_datetime(df_18_EYE['Timestamp'])"
   ]
  },
  {
   "cell_type": "code",
   "execution_count": null,
   "id": "e77c6698",
   "metadata": {
    "id": "03d57b0a"
   },
   "outputs": [],
   "source": [
    "df_18_EYE.head(3)"
   ]
  },
  {
   "cell_type": "code",
   "execution_count": null,
   "id": "fac09bf9",
   "metadata": {
    "id": "c0004029"
   },
   "outputs": [],
   "source": [
    "df_18_EYE['QuestionKey'] = df_18_EYE['QuestionKey'].fillna('None')"
   ]
  },
  {
   "cell_type": "code",
   "execution_count": null,
   "id": "08b94e09",
   "metadata": {
    "id": "dfb4729e"
   },
   "outputs": [],
   "source": [
    "df_18_EYE['QuestionKey'].value_counts()"
   ]
  },
  {
   "cell_type": "code",
   "execution_count": null,
   "id": "cd03f030",
   "metadata": {
    "id": "9353c9d8"
   },
   "outputs": [],
   "source": [
    "plt.figure(figsize=(12,8))\n",
    "sns.heatmap(df_18_EYE.isnull(), cmap='viridis')\n",
    "plt.show()"
   ]
  },
  {
   "cell_type": "code",
   "execution_count": null,
   "id": "ef79ce35",
   "metadata": {
    "id": "5c73d150"
   },
   "outputs": [],
   "source": [
    "df_18_EYE.isnull().sum()"
   ]
  },
  {
   "cell_type": "code",
   "execution_count": null,
   "id": "21f654d0",
   "metadata": {
    "id": "6c700142"
   },
   "outputs": [],
   "source": [
    "df_18_EYE.dropna(inplace=True)"
   ]
  },
  {
   "cell_type": "code",
   "execution_count": null,
   "id": "94e7f8fd",
   "metadata": {
    "id": "90a604ce"
   },
   "outputs": [],
   "source": [
    "df_18_EYE.head()"
   ]
  },
  {
   "cell_type": "code",
   "execution_count": null,
   "id": "b39d7a22",
   "metadata": {
    "id": "a43a4283"
   },
   "outputs": [],
   "source": [
    "df_18_EYE['Row'].unique()"
   ]
  },
  {
   "cell_type": "code",
   "execution_count": null,
   "id": "4ee99509",
   "metadata": {
    "id": "f66566f9"
   },
   "outputs": [],
   "source": [
    "plt.figure(figsize=(8,6))\n",
    "sns.histplot(df_18_EYE['Row'])\n",
    "plt.show()"
   ]
  },
  {
   "cell_type": "markdown",
   "id": "5bb1dcb4",
   "metadata": {
    "id": "5ddf40fd"
   },
   "source": [
    "# Notes & Observations\n",
    "\n",
    "- The `Row` column appears to be a simple row index and does not provide meaningful information relevant to the eye-tracking data itself. Therefore, it can be dropped."
   ]
  },
  {
   "cell_type": "code",
   "execution_count": null,
   "id": "42d8b5d9",
   "metadata": {
    "id": "5aee4404"
   },
   "outputs": [],
   "source": [
    "df_18_EYE.drop('Row', axis=1, inplace=True)"
   ]
  },
  {
   "cell_type": "code",
   "execution_count": null,
   "id": "5633864b",
   "metadata": {
    "id": "827f3274"
   },
   "outputs": [],
   "source": [
    "df_18_EYE['ET_ValidityLeft'].unique()"
   ]
  },
  {
   "cell_type": "code",
   "execution_count": null,
   "id": "44d5f7b9",
   "metadata": {
    "id": "1437751a"
   },
   "outputs": [],
   "source": [
    "df_18_EYE['ET_ValidityLeft'].value_counts()"
   ]
  },
  {
   "cell_type": "code",
   "execution_count": null,
   "id": "f30281e9",
   "metadata": {
    "id": "d0a9ee4a"
   },
   "outputs": [],
   "source": [
    "df_18_EYE['ET_ValidityRight'].unique()"
   ]
  },
  {
   "cell_type": "code",
   "execution_count": null,
   "id": "25909124",
   "metadata": {
    "id": "55ddcc2b"
   },
   "outputs": [],
   "source": [
    "df_18_EYE['ET_ValidityRight'].value_counts()"
   ]
  },
  {
   "cell_type": "code",
   "execution_count": null,
   "id": "13c8dc21",
   "metadata": {
    "id": "faef00be"
   },
   "outputs": [],
   "source": [
    "plt.figure(figsize=(12, 6))\n",
    "\n",
    "plt.subplot(1, 2, 1)\n",
    "sns.barplot(x=df_18_EYE['ET_ValidityLeft'].value_counts().index, y=df_18_EYE['ET_ValidityLeft'].value_counts().values)\n",
    "plt.title('Count of ET_ValidityLeft')\n",
    "plt.xlabel('Validity')\n",
    "plt.ylabel('Count')\n",
    "\n",
    "\n",
    "plt.subplot(1, 2, 2)\n",
    "sns.barplot(x=df_18_EYE['ET_ValidityRight'].value_counts().index, y=df_18_EYE['ET_ValidityRight'].value_counts().values)\n",
    "plt.title('Count of ET_ValidityRight')\n",
    "plt.xlabel('Validity')\n",
    "plt.ylabel('Count')\n",
    "\n",
    "plt.tight_layout()\n",
    "plt.show()"
   ]
  },
  {
   "cell_type": "markdown",
   "id": "c89753b9",
   "metadata": {
    "id": "b43706ea"
   },
   "source": [
    "# Notes & Observations\n",
    "\n",
    "- The `ET_ValidityLeft` and `ET_ValidityRight` columns indicate the validity of the eye-tracking data for the left and right eye, respectively.\n",
    "- Based on the value counts and the bar plots, it appears that a value of `0.0` represents valid eye-tracking data, while a value of `4.0` represents invalid data.\n",
    "- Although the amount of invalid data is relatively small, removing these rows could introduce unwanted patterns or gaps in the time series data.\n",
    "- Therefore, we will keep the data and replace the value `4.0` with `1.0` in both `ET_ValidityLeft` and `ET_ValidityRight` columns. This will indicate to a machine learning model that the eye tracker had invalid data at those specific points in time while maintaining the integrity of the time series."
   ]
  },
  {
   "cell_type": "markdown",
   "id": "20d139fd",
   "metadata": {
    "id": "e9e671b2"
   },
   "source": [
    "Define a mapping to convert validity values from `0.0` and `4.0` to `0` and `1`."
   ]
  },
  {
   "cell_type": "code",
   "execution_count": null,
   "id": "9663a37b",
   "metadata": {
    "id": "08e7ed71"
   },
   "outputs": [],
   "source": [
    "validity_map = {4.0: 1.0, 0.0: 0.0}"
   ]
  },
  {
   "cell_type": "code",
   "execution_count": null,
   "id": "9d746f13",
   "metadata": {
    "id": "0bba3ac0"
   },
   "outputs": [],
   "source": [
    "df_18_EYE['ET_ValidityLeft'] = df_18_EYE['ET_ValidityLeft'].map(validity_map).astype(np.int8)\n",
    "df_18_EYE['ET_ValidityRight'] = df_18_EYE['ET_ValidityRight'].map(validity_map).astype(np.int8)"
   ]
  },
  {
   "cell_type": "code",
   "execution_count": null,
   "id": "e502541d",
   "metadata": {
    "id": "0ff3f16c"
   },
   "outputs": [],
   "source": [
    "df_18_EYE.head(3)"
   ]
  },
  {
   "cell_type": "code",
   "execution_count": null,
   "id": "a4adf5bf",
   "metadata": {
    "id": "32eb3225"
   },
   "outputs": [],
   "source": [
    "df_18_EYE.describe()"
   ]
  },
  {
   "cell_type": "code",
   "execution_count": null,
   "id": "adbf997b",
   "metadata": {
    "id": "c1e092e1"
   },
   "outputs": [],
   "source": [
    "df_18_EYE[df_18_EYE['ET_ValidityLeft'] == 1].shape"
   ]
  },
  {
   "cell_type": "code",
   "execution_count": null,
   "id": "b3908cca",
   "metadata": {
    "id": "8ebfb0cc"
   },
   "outputs": [],
   "source": [
    "df_18_EYE[df_18_EYE['ET_ValidityRight'] == 1].shape"
   ]
  },
  {
   "cell_type": "code",
   "execution_count": null,
   "id": "0f1c8c27",
   "metadata": {
    "id": "0d175df2"
   },
   "outputs": [],
   "source": [
    "df_18_EYE[df_18_EYE['ET_ValidityLeft'] == 1].shape[0] / df_18_EYE.shape[0]"
   ]
  },
  {
   "cell_type": "code",
   "execution_count": null,
   "id": "9b280432",
   "metadata": {
    "id": "54cc0f9e"
   },
   "outputs": [],
   "source": [
    "df_18_EYE[df_18_EYE['ET_ValidityRight'] == 1].shape[0] / df_18_EYE.shape[0]"
   ]
  },
  {
   "cell_type": "code",
   "execution_count": null,
   "id": "e608ee1d",
   "metadata": {
    "id": "45c977c1"
   },
   "outputs": [],
   "source": [
    "plt.figure(figsize=(18, 8))\n",
    "\n",
    "plt.subplot(1, 2, 1)\n",
    "sns.heatmap(df_18_EYE == -1, cmap='viridis')\n",
    "plt.title('Heatmap of -1 Values')\n",
    "\n",
    "plt.subplot(1, 2, 2)\n",
    "sns.heatmap(df_18_EYE == 1, cmap='viridis')\n",
    "plt.title('Heatmap of 1 Values')\n",
    "\n",
    "plt.tight_layout()\n",
    "plt.show()"
   ]
  },
  {
   "cell_type": "code",
   "execution_count": null,
   "id": "4ade0141",
   "metadata": {
    "id": "3b98a13b"
   },
   "outputs": [],
   "source": [
    "df_18_EYE[df_18_EYE['ET_PupilLeft'] == -1].shape"
   ]
  },
  {
   "cell_type": "code",
   "execution_count": null,
   "id": "d66a8797",
   "metadata": {
    "id": "a2f296f6"
   },
   "outputs": [],
   "source": [
    "df_18_EYE[df_18_EYE['ET_PupilRight'] == -1].shape"
   ]
  },
  {
   "cell_type": "code",
   "execution_count": null,
   "id": "14631487",
   "metadata": {
    "id": "42cff7eb"
   },
   "outputs": [],
   "source": [
    "df_18_EYE[df_18_EYE['ET_PupilLeft'] == -1].shape[0] / df_18_EYE.shape[0]"
   ]
  },
  {
   "cell_type": "code",
   "execution_count": null,
   "id": "d37f8a93",
   "metadata": {
    "id": "83c97903"
   },
   "outputs": [],
   "source": [
    "df_18_EYE[df_18_EYE['ET_PupilRight'] == -1].shape[0] / df_18_EYE.shape[0]"
   ]
  },
  {
   "cell_type": "code",
   "execution_count": null,
   "id": "cea9d723",
   "metadata": {
    "id": "6e176d63"
   },
   "outputs": [],
   "source": [
    "plt.figure(figsize=(18, 8))\n",
    "\n",
    "plt.subplot(1, 2, 1)\n",
    "sns.heatmap(df_18_EYE[df_18_EYE['ET_ValidityLeft'] == 1] == -1, cmap='viridis')\n",
    "plt.title('Heatmap of -1 Values')\n",
    "\n",
    "plt.subplot(1, 2, 2)\n",
    "sns.heatmap(df_18_EYE[df_18_EYE['ET_ValidityRight'] == 1] == -1, cmap='viridis')\n",
    "plt.title('Heatmap of -1 Values')\n",
    "\n",
    "plt.tight_layout()\n",
    "plt.show()"
   ]
  },
  {
   "cell_type": "markdown",
   "id": "64227aca",
   "metadata": {
    "id": "fff8db39"
   },
   "source": [
    "# Notes & Observations\n",
    "\n",
    "- The heatmaps reveal the distribution of -1 values across different columns.\n",
    "- It is evident that the `-1` values are not randomly scattered but appear in specific columns, notably `ET_GazeLeftx`, `ET_GazeLefty`, `ET_GazeRightx`, `ET_GazeRighty`, `ET_PupilLeft`, `ET_PupilRight`, `ET_DistanceLeft`, `ET_DistanceRight`, `ET_CameraLeftX`, `ET_CameraLeftY`, `ET_CameraRightX`, and `ET_CameraRightY`.\n",
    "- These `-1` values often coincide with instances where `ET_ValidityLeft` or `ET_ValidityRight` is 1, indicating invalid eye-tracking data. This suggests that `-1` is used as a placeholder for missing or invalid measurements in these columns when the eye tracker is not providing valid data for a particular eye.\n",
    "- Given that over 70% of the data in the `ET_PupilLeft` and `ET_PupilRight` columns is marked as invalid (-1), so instead of dropping them we can create new feature for both the `ET_PupilLeft` and `ET_PupilRight` to represent which row consist invalid `ET_PupilLeft` and `ET_PupilRight` data"
   ]
  },
  {
   "cell_type": "code",
   "execution_count": null,
   "id": "026b219d",
   "metadata": {
    "id": "cf7437aa"
   },
   "outputs": [],
   "source": [
    "pupil_validity = {-1: 1 }"
   ]
  },
  {
   "cell_type": "code",
   "execution_count": null,
   "id": "5759cfcd",
   "metadata": {
    "id": "989b113d"
   },
   "outputs": [],
   "source": [
    "df_18_EYE['ET_PupilLeft_validity'] = df_18_EYE['ET_PupilLeft'].map(pupil_validity)"
   ]
  },
  {
   "cell_type": "code",
   "execution_count": null,
   "id": "d16a4129",
   "metadata": {
    "id": "9ecdfbc0"
   },
   "outputs": [],
   "source": [
    "df_18_EYE['ET_PupilRight_validity'] = df_18_EYE['ET_PupilRight'].map(pupil_validity)"
   ]
  },
  {
   "cell_type": "code",
   "execution_count": null,
   "id": "feae3860",
   "metadata": {
    "id": "7f5d2b28"
   },
   "outputs": [],
   "source": [
    "df_18_EYE[['ET_PupilLeft_validity', 'ET_PupilRight_validity']].head()"
   ]
  },
  {
   "cell_type": "code",
   "execution_count": null,
   "id": "b083f1ad",
   "metadata": {
    "id": "6a86c472"
   },
   "outputs": [],
   "source": [
    "df_18_EYE[['ET_PupilLeft_validity', 'ET_PupilRight_validity']].isnull().sum()"
   ]
  },
  {
   "cell_type": "code",
   "execution_count": null,
   "id": "9d87105b",
   "metadata": {
    "id": "9121e4a8"
   },
   "outputs": [],
   "source": [
    "plt.figure(figsize=(18, 8))\n",
    "sns.heatmap(df_18_EYE[['ET_PupilLeft_validity', 'ET_PupilRight_validity']].isnull(), cmap='viridis')\n",
    "plt.show()"
   ]
  },
  {
   "cell_type": "code",
   "execution_count": null,
   "id": "ffc20310",
   "metadata": {
    "id": "613a230a"
   },
   "outputs": [],
   "source": [
    "df_18_EYE['ET_PupilLeft_validity'] = df_18_EYE['ET_PupilLeft_validity'].fillna(0)"
   ]
  },
  {
   "cell_type": "code",
   "execution_count": null,
   "id": "6208964d",
   "metadata": {
    "id": "89ae7d3f"
   },
   "outputs": [],
   "source": [
    "df_18_EYE['ET_PupilRight_validity'] = df_18_EYE['ET_PupilRight_validity'].fillna(0)"
   ]
  },
  {
   "cell_type": "code",
   "execution_count": null,
   "id": "7e69c2bf",
   "metadata": {
    "id": "a2c39f03"
   },
   "outputs": [],
   "source": [
    "df_18_EYE[['ET_PupilLeft_validity', 'ET_PupilRight_validity']].head()"
   ]
  },
  {
   "cell_type": "code",
   "execution_count": null,
   "id": "2e281b60",
   "metadata": {
    "id": "6e9c2645"
   },
   "outputs": [],
   "source": [
    "plt.figure(figsize=(18, 8))\n",
    "sns.heatmap(df_18_EYE[['ET_PupilLeft_validity', 'ET_PupilRight_validity']].isnull(), cmap='viridis')\n",
    "plt.show()"
   ]
  },
  {
   "cell_type": "code",
   "execution_count": null,
   "id": "573b840c",
   "metadata": {
    "id": "7e52da92"
   },
   "outputs": [],
   "source": [
    "df_18_EYE.head()"
   ]
  },
  {
   "cell_type": "code",
   "execution_count": null,
   "id": "afb426ac",
   "metadata": {
    "id": "1cefd42d"
   },
   "outputs": [],
   "source": [
    "plt.figure(figsize=(18, 8))\n",
    "\n",
    "plt.subplot(1, 2, 1)\n",
    "sns.heatmap(df_18_EYE == -1, cmap='viridis')\n",
    "plt.title('Heatmap of -1 Values')\n",
    "\n",
    "plt.subplot(1, 2, 2)\n",
    "sns.heatmap(df_18_EYE == 1, cmap='viridis')\n",
    "plt.title('Heatmap of -1 Values')\n",
    "\n",
    "plt.tight_layout()\n",
    "plt.show()"
   ]
  },
  {
   "cell_type": "code",
   "execution_count": null,
   "id": "3a6bfc1c",
   "metadata": {
    "id": "dcf38f27"
   },
   "outputs": [],
   "source": [
    "valid_left_ratio  = 1 - df_18_EYE['ET_ValidityLeft'].mean()"
   ]
  },
  {
   "cell_type": "code",
   "execution_count": null,
   "id": "4491707a",
   "metadata": {
    "id": "2aea00ec"
   },
   "outputs": [],
   "source": [
    "valid_left_ratio"
   ]
  },
  {
   "cell_type": "code",
   "execution_count": null,
   "id": "0cc138ff",
   "metadata": {
    "id": "19ac306c"
   },
   "outputs": [],
   "source": [
    "valid_right_ratio = 1 - df_18_EYE['ET_ValidityRight'].mean()"
   ]
  },
  {
   "cell_type": "code",
   "execution_count": null,
   "id": "85c488d8",
   "metadata": {
    "id": "4f0aa48e"
   },
   "outputs": [],
   "source": [
    "valid_right_ratio"
   ]
  },
  {
   "cell_type": "code",
   "execution_count": null,
   "id": "85b60330",
   "metadata": {
    "id": "a000b670"
   },
   "outputs": [],
   "source": [
    "df_18_EYE['ET_PupilLeft_validity'] = df_18_EYE['ET_PupilLeft_validity'].astype(np.int8)\n",
    "df_18_EYE['ET_PupilRight_validity'] = df_18_EYE['ET_PupilRight_validity'].astype(np.int8)"
   ]
  },
  {
   "cell_type": "markdown",
   "id": "682e185b",
   "metadata": {
    "id": "6acf6847"
   },
   "source": [
    "# Feature Engineering and Observations\n",
    "\n",
    "Based on the analysis of the data, we've created two new features, `ET_PupilLeft_validity` and `ET_PupilRight_validity`. These features indicate the validity of the pupil data for the left and right eyes, respectively, with a value of 1 representing invalid data (originally -1) and 0 representing valid data.\n",
    "\n",
    "The heatmaps above visually demonstrate the distribution of -1 and 1 values across the dataset. We observed that:\n",
    "- The `-1` values are concentrated in specific columns related to gaze, pupil size, distance, and camera position, suggesting they represent missing or invalid sensor readings.\n",
    "- The `1` values, after mapping from `4.0` in the original validity columns, indicate instances of invalid eye-tracking data.\n",
    "- The heatmaps also show a strong correlation between the `-1` values in the pupil columns and a validity of 1 in the newly created pupil validity features, confirming that -1 was used to mark invalid pupil data."
   ]
  },
  {
   "cell_type": "code",
   "execution_count": null,
   "id": "8c4a7553",
   "metadata": {
    "id": "de9f2594"
   },
   "outputs": [],
   "source": [
    "df_18_EYE.head()"
   ]
  },
  {
   "cell_type": "code",
   "execution_count": null,
   "id": "af49d60c",
   "metadata": {
    "id": "bfa2e174"
   },
   "outputs": [],
   "source": [
    "# Select only the numeric columns for plotting histograms, excluding time-related columns\n",
    "numeric_cols = df_18_EYE.select_dtypes(include=np.number).columns\n",
    "cols_to_plot = [col for col in numeric_cols if col not in ['UnixTime']]\n",
    "\n",
    "# Calculate the number of rows and columns for the grid\n",
    "n_cols = 4  # You can adjust the number of columns as needed\n",
    "n_rows = (len(cols_to_plot) + n_cols - 1) // n_cols\n",
    "\n",
    "plt.figure(figsize=(n_cols * 5, n_rows * 4)) # Adjust figure size as needed\n",
    "\n",
    "for i, col in enumerate(cols_to_plot):\n",
    "    plt.subplot(n_rows, n_cols, i + 1)\n",
    "    sns.histplot(df_18_EYE[col], kde=True)\n",
    "    plt.title(f'Distribution of {col}')\n",
    "    plt.xlabel(col)\n",
    "    plt.ylabel('Frequency')\n",
    "\n",
    "plt.tight_layout()\n",
    "plt.show()"
   ]
  },
  {
   "cell_type": "markdown",
   "id": "b1d88a07",
   "metadata": {
    "id": "8059766d"
   },
   "source": [
    "# Observations from Histograms\n",
    "\n",
    "The grid of histograms provides insights into the distribution of values for each numeric column in the dataset (excluding 'UnixTime'). Key observations include:\n",
    "\n",
    "- Several columns, such as `ET_GazeLeftx`, `ET_GazeLefty`, `ET_GazeRightx`, and `ET_GazeRighty`, show distributions that appear somewhat multimodal or skewed, suggesting variations in gaze patterns.\n",
    "- The `ET_PupilLeft` and `ET_PupilRight` histograms clearly show a peak at -1, confirming the presence of a significant number of invalid pupil readings.\n",
    "- `ET_TimeSignal` shows a relatively uniform distribution, as expected for a time-based signal.\n",
    "- `ET_DistanceLeft` and `ET_DistanceRight` appear to have distributions centered around certain values, with some outliers or variations.\n",
    "- The camera position columns (`ET_CameraLeftX`, `ET_CameraLeftY`, `ET_CameraRightX`, `ET_CameraRightY`) seem to have distributions concentrated within specific ranges, reflecting the camera's field of view.\n",
    "- The validity columns (`ET_ValidityLeft`, `ET_ValidityRight`, `ET_PupilLeft_validity`, `ET_PupilRight_validity`) show distributions dominated by 0, indicating that most of the data is considered valid after the mapping. The smaller peaks at 1 represent the instances of invalid data.\n",
    "\n",
    "These distributions highlight the need for appropriate handling of the -1 values and potential outliers in subsequent analysis or modeling steps."
   ]
  },
  {
   "cell_type": "code",
   "execution_count": null,
   "id": "1de666e2",
   "metadata": {
    "id": "cb65ae1e"
   },
   "outputs": [],
   "source": [
    "df_18_EYE.columns"
   ]
  },
  {
   "cell_type": "code",
   "execution_count": null,
   "id": "c395b9c5",
   "metadata": {
    "id": "8cf2280c"
   },
   "outputs": [],
   "source": [
    "cols = ['ET_GazeLeftx', 'ET_GazeLefty',\n",
    "       'ET_GazeRightx', 'ET_GazeRighty', 'ET_PupilLeft', 'ET_PupilRight',\n",
    "       'ET_TimeSignal', 'ET_DistanceLeft', 'ET_DistanceRight',\n",
    "       'ET_CameraLeftX', 'ET_CameraLeftY', 'ET_CameraRightX',\n",
    "       'ET_CameraRightY', 'ET_ValidityLeft', 'ET_ValidityRight',\n",
    "       'ET_PupilLeft_validity', 'ET_PupilRight_validity']"
   ]
  },
  {
   "cell_type": "code",
   "execution_count": null,
   "id": "0fb9393a",
   "metadata": {
    "id": "85e45ea9"
   },
   "outputs": [],
   "source": [
    "from IPython.display import display, Markdown\n",
    "\n",
    "for col in cols:\n",
    "    # Add a markdown cell before each plot for better separation and labeling\n",
    "    display(Markdown(f'### {col} over Time'))\n",
    "    plt.figure(figsize=(16, 10))\n",
    "    plt.plot(df_18_EYE['Timestamp'], df_18_EYE[col])\n",
    "    plt.xlabel(\"Timestamp\") # Add x-axis label\n",
    "    plt.ylabel(col) # Add y-axis label\n",
    "    plt.show()"
   ]
  },
  {
   "cell_type": "markdown",
   "id": "2a092eac",
   "metadata": {
    "id": "f7ffd08f"
   },
   "source": [
    "# Observations from Time Series Plots\n",
    "\n",
    "The line plots showing various features against the `Timestamp` reveal the temporal patterns and fluctuations in the eye-tracking data. Key observations include:\n",
    "\n",
    "- **Gaze Coordinates (`ET_GazeLeftx`, `ET_GazeLefty`, `ET_GazeRightx`, `ET_GazeRighty`):** These plots show the changes in gaze position over time. We can observe periods of relatively stable gaze interspersed with rapid movements (saccades) and blinks or other events where the gaze data might be invalid (-1 values appear as gaps or spikes if not handled).\n",
    "- **Pupil Size (`ET_PupilLeft`, `ET_PupilRight`):** The pupil size plots show variations over time. The presence of many -1 values is evident as flat lines at the bottom of the plot, indicating periods where pupil data was not recorded or was invalid.\n",
    "- **Time Signal (`ET_TimeSignal`):** This plot shows a steady, increasing trend, as expected for a time-based signal.\n",
    "- **Distance and Camera Position (`ET_DistanceLeft`, `ET_DistanceRight`, `ET_CameraLeftX`, `ET_CameraLeftY`, `ET_CameraRightX`, `ET_CameraRightY`):** These plots show how the distance from the eye tracker and the camera positions change over time. Variations in these features can be related to head movements or changes in the user's position relative to the eye tracker.\n",
    "- **Validity (`ET_ValidityLeft`, `ET_ValidityRight`, `ET_PupilLeft_validity`, `ET_PupilRight_validity`):** These plots clearly show periods of invalid data (represented by 1) as spikes or plateaus, corresponding to instances where the eye tracker lost track of the eyes or the pupil data was marked as invalid.\n",
    "\n",
    "Analyzing these time series plots is crucial for understanding the dynamics of the eye-tracking data and identifying patterns or anomalies that may require further investigation or specific handling during subsequent analysis."
   ]
  },
  {
   "cell_type": "code",
   "execution_count": null,
   "id": "648139cd",
   "metadata": {
    "id": "cdd85f8c"
   },
   "outputs": [],
   "source": [
    "# Select only the numeric columns for plotting histograms, excluding time-related columns\n",
    "numeric_cols = df_18_EYE.select_dtypes(include=np.number).columns\n",
    "\n",
    "# Calculate the number of rows and columns for the grid\n",
    "n_cols = 4  # You can adjust the number of columns as needed\n",
    "n_rows = (len(numeric_cols) + n_cols - 1) // n_cols\n",
    "\n",
    "plt.figure(figsize=(n_cols * 5, n_rows * 4)) # Adjust figure size as needed\n",
    "\n",
    "for i, col in enumerate(numeric_cols):\n",
    "    plt.subplot(n_rows, n_cols, i + 1)\n",
    "    sns.boxplot(df_18_EYE[col])\n",
    "    plt.title(f'Boxplot of {col}')\n",
    "    plt.xlabel(col)\n",
    "\n",
    "plt.tight_layout()\n",
    "plt.show()"
   ]
  },
  {
   "cell_type": "markdown",
   "id": "8046a8a0",
   "metadata": {
    "id": "2cca19c5"
   },
   "source": [
    "# Observations from Boxplots and Handling -1 Values\n",
    "\n",
    "The boxplots provide a visual summary of the distribution and potential outliers for each numeric column. Key observations from the boxplots include:\n",
    "\n",
    "- The boxplots for columns like `ET_GazeLeftx`, `ET_GazeLefty`, `ET_GazeRightx`, `ET_GazeRighty`, `ET_PupilLeft`, `ET_PupilRight`, `ET_DistanceLeft`, `ET_DistanceRight`, `ET_CameraLeftX`, `ET_CameraLeftY`, `ET_CameraRightX`, and `ET_CameraRightY` clearly show the presence of -1 values as significant outliers, confirming our earlier observations from the heatmaps and histograms.\n",
    "- The boxplots for the validity columns (`ET_ValidityLeft`, `ET_ValidityRight`, `ET_PupilLeft_validity`, `ET_PupilRight_validity`) show the discrete nature of these features, with the majority of data points at 0 (valid) and a smaller number at 1 (invalid).\n",
    "\n",
    "Given the significant presence of -1 values, which represent invalid or missing data, especially in the pupil-related columns, we have decided to replace these -1 values with NaN to properly represent them as missing data. Subsequently, we will impute these missing values using the mean of each respective column. This approach helps to retain the data structure and allows for further analysis or modeling without the distortion caused by the -1 placeholders."
   ]
  },
  {
   "cell_type": "code",
   "execution_count": null,
   "id": "8d846637",
   "metadata": {
    "id": "9217371b"
   },
   "outputs": [],
   "source": [
    "df_18_EYE.replace({-1: np.nan}, inplace=True)"
   ]
  },
  {
   "cell_type": "code",
   "execution_count": null,
   "id": "51b60894",
   "metadata": {
    "id": "8108fa01"
   },
   "outputs": [],
   "source": [
    "df_18_EYE[['ET_GazeLeftx', 'ET_GazeLefty',\n",
    "       'ET_GazeRightx', 'ET_GazeRighty', 'ET_PupilLeft', 'ET_PupilRight',\n",
    "       'ET_TimeSignal', 'ET_DistanceLeft', 'ET_DistanceRight',\n",
    "       'ET_CameraLeftX', 'ET_CameraLeftY', 'ET_CameraRightX',\n",
    "       'ET_CameraRightY', 'ET_ValidityLeft', 'ET_ValidityRight',\n",
    "       'ET_PupilLeft_validity', 'ET_PupilRight_validity']].mean()"
   ]
  },
  {
   "cell_type": "code",
   "execution_count": null,
   "id": "08f528d5",
   "metadata": {
    "id": "9b94fbce"
   },
   "outputs": [],
   "source": [
    "df_18_EYE[['ET_GazeLeftx', 'ET_GazeLefty',\n",
    "       'ET_GazeRightx', 'ET_GazeRighty', 'ET_PupilLeft', 'ET_PupilRight',\n",
    "       'ET_TimeSignal', 'ET_DistanceLeft', 'ET_DistanceRight',\n",
    "       'ET_CameraLeftX', 'ET_CameraLeftY', 'ET_CameraRightX',\n",
    "       'ET_CameraRightY', 'ET_ValidityLeft', 'ET_ValidityRight',\n",
    "       'ET_PupilLeft_validity', 'ET_PupilRight_validity']].median()"
   ]
  },
  {
   "cell_type": "code",
   "execution_count": null,
   "id": "2ae93366",
   "metadata": {
    "id": "ee1238c8"
   },
   "outputs": [],
   "source": [
    "numeric_cols = df_18_EYE.select_dtypes(include=np.number).columns\n",
    "\n",
    "for col in numeric_cols:\n",
    "    df_18_EYE[col] = df_18_EYE[col].fillna(df_18_EYE[col].mean())"
   ]
  },
  {
   "cell_type": "code",
   "execution_count": null,
   "id": "dfaffe27",
   "metadata": {
    "id": "b0bc522d"
   },
   "outputs": [],
   "source": [
    "plt.figure(figsize=(18, 8))\n",
    "\n",
    "plt.subplot(1, 2, 1)\n",
    "sns.heatmap(df_18_EYE.isnull(), cmap='viridis')\n",
    "plt.title('Heatmap of Missing Values After Imputation')\n",
    "\n",
    "plt.subplot(1, 2, 2)\n",
    "sns.heatmap(df_18_EYE == 1, cmap='viridis')\n",
    "plt.title('Heatmap of 1 Values')\n",
    "\n",
    "plt.tight_layout()\n",
    "plt.show()"
   ]
  },
  {
   "cell_type": "markdown",
   "id": "5b7b93ad",
   "metadata": {
    "id": "c0f1e10d"
   },
   "source": [
    "# Handling Missing Values (Imputation)\n",
    "\n",
    "As decided, we have replaced all the `-1` values with `NaN` to treat them as missing data. Subsequently, we have imputed these `NaN` values with the mean of their respective columns. The heatmap above, which was generated after the imputation, now shows no visible signs of `NaN` values, indicating that the imputation was successful."
   ]
  },
  {
   "cell_type": "code",
   "execution_count": null,
   "id": "17f234d9",
   "metadata": {
    "id": "2491c1da"
   },
   "outputs": [],
   "source": [
    "df_18_EYE.head()"
   ]
  },
  {
   "cell_type": "code",
   "execution_count": null,
   "id": "0ebbbcf2",
   "metadata": {
    "id": "64f04350"
   },
   "outputs": [],
   "source": [
    "# Select only the numeric columns for plotting histograms, excluding time-related columns\n",
    "numeric_cols = df_18_EYE.select_dtypes(include=np.number).columns\n",
    "cols_to_plot = [col for col in numeric_cols if col not in ['UnixTime']]\n",
    "\n",
    "# Calculate the number of rows and columns for the grid\n",
    "n_cols = 4  # You can adjust the number of columns as needed\n",
    "n_rows = (len(cols_to_plot) + n_cols - 1) // n_cols\n",
    "\n",
    "plt.figure(figsize=(n_cols * 5, n_rows * 4)) # Adjust figure size as needed\n",
    "\n",
    "for i, col in enumerate(cols_to_plot):\n",
    "    plt.subplot(n_rows, n_cols, i + 1)\n",
    "    sns.histplot(df_18_EYE[col], kde=True)\n",
    "    plt.title(f'Distribution of {col}')\n",
    "    plt.xlabel(col)\n",
    "    plt.ylabel('Frequency')\n",
    "\n",
    "plt.tight_layout()\n",
    "plt.show()"
   ]
  },
  {
   "cell_type": "markdown",
   "id": "36c087c0",
   "metadata": {
    "id": "e0c83f1c"
   },
   "source": [
    "# Observations from Histograms After Imputation\n",
    "\n",
    "The histograms generated after replacing the -1 values with the mean of each column show the distributions of the numeric features with the missing data handled. Key observations from these updated histograms include:\n",
    "\n",
    "- The distinct peaks at -1, which were prominent in the histograms for several columns (e.g., pupil size, gaze coordinates, distance, and camera position) before imputation, are now replaced by a peak at the mean of each respective column.\n",
    "- The distributions in many columns now appear more unimodal or show shifted modes compared to the original histograms.\n",
    "- The histograms for the validity columns still show their bimodal distributions with peaks at 0 and 1, as these were handled separately.\n",
    "\n",
    "These histograms provide an updated view of the data's distribution after handling the missing values, highlighting the impact of the imputation method on the data's characteristics."
   ]
  },
  {
   "cell_type": "code",
   "execution_count": null,
   "id": "a8a2aa0d",
   "metadata": {
    "id": "de0b2f65"
   },
   "outputs": [],
   "source": [
    "cols = ['ET_GazeLeftx', 'ET_GazeLefty',\n",
    "       'ET_GazeRightx', 'ET_GazeRighty', 'ET_PupilLeft', 'ET_PupilRight',\n",
    "       'ET_TimeSignal', 'ET_DistanceLeft', 'ET_DistanceRight',\n",
    "       'ET_CameraLeftX', 'ET_CameraLeftY', 'ET_CameraRightX',\n",
    "       'ET_CameraRightY', 'ET_ValidityLeft', 'ET_ValidityRight',\n",
    "       'ET_PupilLeft_validity', 'ET_PupilRight_validity']"
   ]
  },
  {
   "cell_type": "code",
   "execution_count": null,
   "id": "8620ae36",
   "metadata": {
    "id": "4ddd4915"
   },
   "outputs": [],
   "source": [
    "for col in cols:\n",
    "    # Add a markdown cell before each plot for better separation and labeling\n",
    "    display(Markdown(f'### {col} over Time'))\n",
    "    plt.figure(figsize=(16, 10))\n",
    "    plt.plot(df_18_EYE['Timestamp'], df_18_EYE[col])\n",
    "    plt.xlabel(\"Timestamp\") # Add x-axis label\n",
    "    plt.ylabel(col) # Add y-axis label\n",
    "    plt.show()"
   ]
  },
  {
   "cell_type": "markdown",
   "id": "90349e24",
   "metadata": {
    "id": "0fb07abb"
   },
   "source": [
    "# Observations from Time Series Plots After Imputation\n",
    "\n",
    "The line plots generated after imputing the missing values with the mean show the temporal patterns of the features with the missing data handled. Key observations from these updated plots include:\n",
    "\n",
    "- The gaps or flat lines at -1, which were prominent in the plots for columns like gaze coordinates, pupil size, distance, and camera position, are now filled by lines at the mean value of the respective columns.\n",
    "- The plots for the validity columns remain the same as they were handled separately.\n",
    "- The `ET_TimeSignal` plot still shows a steady increasing trend, as expected."
   ]
  },
  {
   "cell_type": "code",
   "execution_count": null,
   "id": "52320e29",
   "metadata": {
    "id": "c608fd95"
   },
   "outputs": [],
   "source": [
    "plt.figure(figsize=(16, 10))\n",
    "sns.heatmap(df_18_EYE.corr(numeric_only=True), cmap='YlGnBu', annot=True)\n",
    "plt.show()"
   ]
  },
  {
   "cell_type": "markdown",
   "id": "b5de89e8",
   "metadata": {
    "id": "82405ba6"
   },
   "source": [
    "# Observations from Correlation Heatmap\n",
    "\n",
    "The correlation heatmap provides a visual representation of the pairwise correlations between the numeric columns in the dataset. Key observations from the heatmap include:\n",
    "\n",
    "- **High Positive Correlations:** We observe strong positive correlations (values close to 1) between:\n",
    "  - `ET_GazeLeftx` and `ET_GazeRightx`: This is expected as the gaze positions of both eyes should be highly correlated when fixating on a point.\n",
    "  - `ET_GazeLefty` and `ET_GazeRighty`: Similar to the x-coordinates, the y-coordinates of gaze should also be highly correlated.\n",
    "  - `ET_PupilLeft` and `ET_PupilRight`: Pupil sizes of both eyes tend to change together in response to light and cognitive load.\n",
    "  - `ET_DistanceLeft` and `ET_DistanceRight`: The distance from the eye tracker to each eye should be highly correlated.\n",
    "  - `ET_CameraLeftX` and `ET_CameraRightX`, `ET_CameraLeftY` and `ET_CameraRightY`: The camera positions for both eyes are also expected to be highly correlated.\n",
    "  - `UnixTime` and `ET_TimeSignal`: As previously noted, these two columns are almost perfectly linearly correlated, indicating redundancy.\n",
    "  - `ET_ValidityLeft` and `ET_PupilLeft_validity`: There is a positive correlation, suggesting that when the overall left eye data is invalid, the left pupil data is also likely to be invalid.\n",
    "  - `ET_ValidityRight` and `ET_PupilRight_validity`: Similar to the left eye, there is a positive correlation between the overall right eye validity and the right pupil validity.\n",
    "- **Other Correlations:** We can also observe other varying degrees of correlations between different features, which can provide insights into the relationships between gaze behavior, pupil size, distance, and camera position. For example, there might be correlations between gaze coordinates and camera positions, reflecting head movements.\n",
    "- **Low or Near-Zero Correlations:** Columns with low or near-zero correlations are relatively independent of each other.\n",
    "\n",
    "Understanding these correlations is important for feature selection and for building models, as highly correlated features might indicate multicollinearity, while correlations between features can reveal underlying patterns in the data."
   ]
  },
  {
   "cell_type": "markdown",
   "id": "811a1f70",
   "metadata": {
    "id": "1c413c3b"
   },
   "source": [
    "# Analysis of ET_TimeSignal and Decision to Drop\n",
    "\n",
    "As observed in the time series plot and confirmed by the correlation heatmap, the `ET_TimeSignal` column exhibits a near-perfect linear relationship with both the `Timestamp` and `UnixTime` columns. This strong correlation (close to 1) suggests that `ET_TimeSignal` is essentially redundant and likely represents another form of time recording or a signal directly derived from the timestamp.\n",
    "\n",
    "Including highly correlated features like this in a dataset can lead to issues such as multicollinearity in some statistical models, which can make it difficult to interpret the individual impact of each feature. Since the `Timestamp` column already provides the necessary temporal information, retaining `ET_TimeSignal` does not appear to add significant value for further analysis or modeling in most cases.\n",
    "\n",
    "Therefore, based on its high correlation and lack of unique insight, we will proceed to drop the `ET_TimeSignal` column to simplify the dataset and potentially improve the performance and interpretability of future analyses."
   ]
  },
  {
   "cell_type": "code",
   "execution_count": null,
   "id": "d7036557",
   "metadata": {
    "id": "7c96e349"
   },
   "outputs": [],
   "source": [
    "df_18_EYE.drop('ET_TimeSignal', axis=1, inplace=True)"
   ]
  },
  {
   "cell_type": "code",
   "execution_count": null,
   "id": "42d49277",
   "metadata": {
    "id": "5845a61d"
   },
   "outputs": [],
   "source": [
    "plt.figure(figsize=(16, 10))\n",
    "sns.pairplot(df_18_EYE)\n",
    "plt.show()"
   ]
  },
  {
   "cell_type": "markdown",
   "id": "b5d48d30",
   "metadata": {
    "id": "sMcHS8LIOGeT"
   },
   "source": [
    "# **19_EYE**"
   ]
  },
  {
   "cell_type": "code",
   "execution_count": null,
   "id": "0e98d3f6",
   "metadata": {
    "id": "L2tJooyROWnM"
   },
   "outputs": [],
   "source": []
  },
  {
   "cell_type": "code",
   "execution_count": null,
   "id": "9c9b2bde",
   "metadata": {
    "id": "6c647c4f"
   },
   "outputs": [],
   "source": [
    "df_19_EYE = pd.read_csv('data/STData/19/19_EYE.csv')"
   ]
  },
  {
   "cell_type": "code",
   "execution_count": null,
   "id": "bdfb971e",
   "metadata": {
    "id": "c229bba7"
   },
   "outputs": [],
   "source": [
    "df_19_EYE.head()"
   ]
  },
  {
   "cell_type": "code",
   "execution_count": null,
   "id": "22aeba27",
   "metadata": {
    "id": "0ec8e716"
   },
   "outputs": [],
   "source": [
    "df_19_EYE.shape"
   ]
  },
  {
   "cell_type": "code",
   "execution_count": null,
   "id": "8c53a745",
   "metadata": {
    "id": "43ba37eb"
   },
   "outputs": [],
   "source": [
    "df_19_EYE.columns"
   ]
  },
  {
   "cell_type": "code",
   "execution_count": null,
   "id": "9a5384f5",
   "metadata": {
    "id": "19f68fb4"
   },
   "outputs": [],
   "source": [
    "df_19_EYE.info()"
   ]
  },
  {
   "cell_type": "code",
   "execution_count": null,
   "id": "b63883ba",
   "metadata": {
    "id": "603369d7"
   },
   "outputs": [],
   "source": [
    "df_19_EYE.isnull().sum()"
   ]
  },
  {
   "cell_type": "code",
   "execution_count": null,
   "id": "518c75b2",
   "metadata": {
    "id": "874353e3"
   },
   "outputs": [],
   "source": [
    "plt.figure(figsize=(12,8))\n",
    "sns.heatmap(df_19_EYE.isnull(), cmap='viridis')\n",
    "plt.show()"
   ]
  },
  {
   "cell_type": "markdown",
   "id": "612fad1d",
   "metadata": {
    "id": "b17906e7"
   },
   "source": [
    "# Notes & Observations\n",
    "\n",
    "- We observe many **null** (or missing) values in the `QuestionKey` columns.\n",
    "- The nulls in the `QuestionKey` column may not represent “true” nulls. Rather, they follow interval patterns, suggesting that during those periods no question was displayed.\n",
    "- These missing values in `QuestionKey` require additional investigation and context-aware handling."
   ]
  },
  {
   "cell_type": "code",
   "execution_count": null,
   "id": "a7a28a45",
   "metadata": {
    "id": "1113779e"
   },
   "outputs": [],
   "source": [
    "df_19_EYE['QuestionKey'].unique()"
   ]
  },
  {
   "cell_type": "code",
   "execution_count": null,
   "id": "91b9e3a7",
   "metadata": {
    "id": "db0a93a2"
   },
   "outputs": [],
   "source": [
    "df_19_EYE['Timestamp'] = pd.to_datetime(df_19_EYE['Timestamp'])"
   ]
  },
  {
   "cell_type": "code",
   "execution_count": null,
   "id": "c918b619",
   "metadata": {
    "id": "03d57b0a"
   },
   "outputs": [],
   "source": [
    "df_19_EYE.head(3)"
   ]
  },
  {
   "cell_type": "code",
   "execution_count": null,
   "id": "f57a4b3f",
   "metadata": {
    "id": "c0004029"
   },
   "outputs": [],
   "source": [
    "df_19_EYE['QuestionKey'] = df_19_EYE['QuestionKey'].fillna('None')"
   ]
  },
  {
   "cell_type": "code",
   "execution_count": null,
   "id": "b529fe34",
   "metadata": {
    "id": "dfb4729e"
   },
   "outputs": [],
   "source": [
    "df_19_EYE['QuestionKey'].value_counts()"
   ]
  },
  {
   "cell_type": "code",
   "execution_count": null,
   "id": "e62c7764",
   "metadata": {
    "id": "9353c9d8"
   },
   "outputs": [],
   "source": [
    "plt.figure(figsize=(12,8))\n",
    "sns.heatmap(df_19_EYE.isnull(), cmap='viridis')\n",
    "plt.show()"
   ]
  },
  {
   "cell_type": "code",
   "execution_count": null,
   "id": "123d8915",
   "metadata": {
    "id": "5c73d150"
   },
   "outputs": [],
   "source": [
    "df_19_EYE.isnull().sum()"
   ]
  },
  {
   "cell_type": "code",
   "execution_count": null,
   "id": "41155513",
   "metadata": {
    "id": "6c700142"
   },
   "outputs": [],
   "source": [
    "df_19_EYE.dropna(inplace=True)"
   ]
  },
  {
   "cell_type": "code",
   "execution_count": null,
   "id": "f3619d8b",
   "metadata": {
    "id": "90a604ce"
   },
   "outputs": [],
   "source": [
    "df_19_EYE.head()"
   ]
  },
  {
   "cell_type": "code",
   "execution_count": null,
   "id": "5f72dc7f",
   "metadata": {
    "id": "a43a4283"
   },
   "outputs": [],
   "source": [
    "df_19_EYE['Row'].unique()"
   ]
  },
  {
   "cell_type": "code",
   "execution_count": null,
   "id": "7ad0e9c5",
   "metadata": {
    "id": "f66566f9"
   },
   "outputs": [],
   "source": [
    "plt.figure(figsize=(8,6))\n",
    "sns.histplot(df_19_EYE['Row'])\n",
    "plt.show()"
   ]
  },
  {
   "cell_type": "markdown",
   "id": "0cedb6b5",
   "metadata": {
    "id": "5ddf40fd"
   },
   "source": [
    "# Notes & Observations\n",
    "\n",
    "- The `Row` column appears to be a simple row index and does not provide meaningful information relevant to the eye-tracking data itself. Therefore, it can be dropped."
   ]
  },
  {
   "cell_type": "code",
   "execution_count": null,
   "id": "f01f8df4",
   "metadata": {
    "id": "5aee4404"
   },
   "outputs": [],
   "source": [
    "df_19_EYE.drop('Row', axis=1, inplace=True)"
   ]
  },
  {
   "cell_type": "code",
   "execution_count": null,
   "id": "9cd7accc",
   "metadata": {
    "id": "827f3274"
   },
   "outputs": [],
   "source": [
    "df_19_EYE['ET_ValidityLeft'].unique()"
   ]
  },
  {
   "cell_type": "code",
   "execution_count": null,
   "id": "c2c6fe4f",
   "metadata": {
    "id": "1437751a"
   },
   "outputs": [],
   "source": [
    "df_19_EYE['ET_ValidityLeft'].value_counts()"
   ]
  },
  {
   "cell_type": "code",
   "execution_count": null,
   "id": "26daa017",
   "metadata": {
    "id": "d0a9ee4a"
   },
   "outputs": [],
   "source": [
    "df_19_EYE['ET_ValidityRight'].unique()"
   ]
  },
  {
   "cell_type": "code",
   "execution_count": null,
   "id": "e020b478",
   "metadata": {
    "id": "55ddcc2b"
   },
   "outputs": [],
   "source": [
    "df_19_EYE['ET_ValidityRight'].value_counts()"
   ]
  },
  {
   "cell_type": "code",
   "execution_count": null,
   "id": "537e55fe",
   "metadata": {
    "id": "faef00be"
   },
   "outputs": [],
   "source": [
    "plt.figure(figsize=(12, 6))\n",
    "\n",
    "plt.subplot(1, 2, 1)\n",
    "sns.barplot(x=df_19_EYE['ET_ValidityLeft'].value_counts().index, y=df_19_EYE['ET_ValidityLeft'].value_counts().values)\n",
    "plt.title('Count of ET_ValidityLeft')\n",
    "plt.xlabel('Validity')\n",
    "plt.ylabel('Count')\n",
    "\n",
    "\n",
    "plt.subplot(1, 2, 2)\n",
    "sns.barplot(x=df_19_EYE['ET_ValidityRight'].value_counts().index, y=df_19_EYE['ET_ValidityRight'].value_counts().values)\n",
    "plt.title('Count of ET_ValidityRight')\n",
    "plt.xlabel('Validity')\n",
    "plt.ylabel('Count')\n",
    "\n",
    "plt.tight_layout()\n",
    "plt.show()"
   ]
  },
  {
   "cell_type": "markdown",
   "id": "17c0e99c",
   "metadata": {
    "id": "b43706ea"
   },
   "source": [
    "# Notes & Observations\n",
    "\n",
    "- The `ET_ValidityLeft` and `ET_ValidityRight` columns indicate the validity of the eye-tracking data for the left and right eye, respectively.\n",
    "- Based on the value counts and the bar plots, it appears that a value of `0.0` represents valid eye-tracking data, while a value of `4.0` represents invalid data.\n",
    "- Although the amount of invalid data is relatively small, removing these rows could introduce unwanted patterns or gaps in the time series data.\n",
    "- Therefore, we will keep the data and replace the value `4.0` with `1.0` in both `ET_ValidityLeft` and `ET_ValidityRight` columns. This will indicate to a machine learning model that the eye tracker had invalid data at those specific points in time while maintaining the integrity of the time series."
   ]
  },
  {
   "cell_type": "markdown",
   "id": "b8be093f",
   "metadata": {
    "id": "e9e671b2"
   },
   "source": [
    "Define a mapping to convert validity values from `0.0` and `4.0` to `0` and `1`."
   ]
  },
  {
   "cell_type": "code",
   "execution_count": null,
   "id": "da30c8e9",
   "metadata": {
    "id": "08e7ed71"
   },
   "outputs": [],
   "source": [
    "validity_map = {4.0: 1.0, 0.0: 0.0}"
   ]
  },
  {
   "cell_type": "code",
   "execution_count": null,
   "id": "c2fe5bf5",
   "metadata": {
    "id": "0bba3ac0"
   },
   "outputs": [],
   "source": [
    "df_19_EYE['ET_ValidityLeft'] = df_19_EYE['ET_ValidityLeft'].map(validity_map).astype(np.int8)\n",
    "df_19_EYE['ET_ValidityRight'] = df_19_EYE['ET_ValidityRight'].map(validity_map).astype(np.int8)"
   ]
  },
  {
   "cell_type": "code",
   "execution_count": null,
   "id": "ddac2803",
   "metadata": {
    "id": "0ff3f16c"
   },
   "outputs": [],
   "source": [
    "df_19_EYE.head(3)"
   ]
  },
  {
   "cell_type": "code",
   "execution_count": null,
   "id": "580a9658",
   "metadata": {
    "id": "32eb3225"
   },
   "outputs": [],
   "source": [
    "df_19_EYE.describe()"
   ]
  },
  {
   "cell_type": "code",
   "execution_count": null,
   "id": "943bf6a8",
   "metadata": {
    "id": "c1e092e1"
   },
   "outputs": [],
   "source": [
    "df_19_EYE[df_19_EYE['ET_ValidityLeft'] == 1].shape"
   ]
  },
  {
   "cell_type": "code",
   "execution_count": null,
   "id": "9c9bbc1b",
   "metadata": {
    "id": "8ebfb0cc"
   },
   "outputs": [],
   "source": [
    "df_19_EYE[df_19_EYE['ET_ValidityRight'] == 1].shape"
   ]
  },
  {
   "cell_type": "code",
   "execution_count": null,
   "id": "7db382a7",
   "metadata": {
    "id": "0d175df2"
   },
   "outputs": [],
   "source": [
    "df_19_EYE[df_19_EYE['ET_ValidityLeft'] == 1].shape[0] / df_19_EYE.shape[0]"
   ]
  },
  {
   "cell_type": "code",
   "execution_count": null,
   "id": "60e4e325",
   "metadata": {
    "id": "54cc0f9e"
   },
   "outputs": [],
   "source": [
    "df_19_EYE[df_19_EYE['ET_ValidityRight'] == 1].shape[0] / df_19_EYE.shape[0]"
   ]
  },
  {
   "cell_type": "code",
   "execution_count": null,
   "id": "8500ef8f",
   "metadata": {
    "id": "45c977c1"
   },
   "outputs": [],
   "source": [
    "plt.figure(figsize=(18, 8))\n",
    "\n",
    "plt.subplot(1, 2, 1)\n",
    "sns.heatmap(df_19_EYE == -1, cmap='viridis')\n",
    "plt.title('Heatmap of -1 Values')\n",
    "\n",
    "plt.subplot(1, 2, 2)\n",
    "sns.heatmap(df_19_EYE == 1, cmap='viridis')\n",
    "plt.title('Heatmap of 1 Values')\n",
    "\n",
    "plt.tight_layout()\n",
    "plt.show()"
   ]
  },
  {
   "cell_type": "code",
   "execution_count": null,
   "id": "859dd242",
   "metadata": {
    "id": "3b98a13b"
   },
   "outputs": [],
   "source": [
    "df_19_EYE[df_19_EYE['ET_PupilLeft'] == -1].shape"
   ]
  },
  {
   "cell_type": "code",
   "execution_count": null,
   "id": "06c9e188",
   "metadata": {
    "id": "a2f296f6"
   },
   "outputs": [],
   "source": [
    "df_19_EYE[df_19_EYE['ET_PupilRight'] == -1].shape"
   ]
  },
  {
   "cell_type": "code",
   "execution_count": null,
   "id": "559a848d",
   "metadata": {
    "id": "42cff7eb"
   },
   "outputs": [],
   "source": [
    "df_19_EYE[df_19_EYE['ET_PupilLeft'] == -1].shape[0] / df_19_EYE.shape[0]"
   ]
  },
  {
   "cell_type": "code",
   "execution_count": null,
   "id": "553aa68f",
   "metadata": {
    "id": "83c97903"
   },
   "outputs": [],
   "source": [
    "df_19_EYE[df_19_EYE['ET_PupilRight'] == -1].shape[0] / df_19_EYE.shape[0]"
   ]
  },
  {
   "cell_type": "code",
   "execution_count": null,
   "id": "9b873fdc",
   "metadata": {
    "id": "6e176d63"
   },
   "outputs": [],
   "source": [
    "plt.figure(figsize=(18, 8))\n",
    "\n",
    "plt.subplot(1, 2, 1)\n",
    "sns.heatmap(df_19_EYE[df_19_EYE['ET_ValidityLeft'] == 1] == -1, cmap='viridis')\n",
    "plt.title('Heatmap of -1 Values')\n",
    "\n",
    "plt.subplot(1, 2, 2)\n",
    "sns.heatmap(df_19_EYE[df_19_EYE['ET_ValidityRight'] == 1] == -1, cmap='viridis')\n",
    "plt.title('Heatmap of -1 Values')\n",
    "\n",
    "plt.tight_layout()\n",
    "plt.show()"
   ]
  },
  {
   "cell_type": "markdown",
   "id": "6df68d26",
   "metadata": {
    "id": "fff8db39"
   },
   "source": [
    "# Notes & Observations\n",
    "\n",
    "- The heatmaps reveal the distribution of -1 values across different columns.\n",
    "- It is evident that the `-1` values are not randomly scattered but appear in specific columns, notably `ET_GazeLeftx`, `ET_GazeLefty`, `ET_GazeRightx`, `ET_GazeRighty`, `ET_PupilLeft`, `ET_PupilRight`, `ET_DistanceLeft`, `ET_DistanceRight`, `ET_CameraLeftX`, `ET_CameraLeftY`, `ET_CameraRightX`, and `ET_CameraRightY`.\n",
    "- These `-1` values often coincide with instances where `ET_ValidityLeft` or `ET_ValidityRight` is 1, indicating invalid eye-tracking data. This suggests that `-1` is used as a placeholder for missing or invalid measurements in these columns when the eye tracker is not providing valid data for a particular eye.\n",
    "- Given that over 70% of the data in the `ET_PupilLeft` and `ET_PupilRight` columns is marked as invalid (-1), so instead of dropping them we can create new feature for both the `ET_PupilLeft` and `ET_PupilRight` to represent which row consist invalid `ET_PupilLeft` and `ET_PupilRight` data"
   ]
  },
  {
   "cell_type": "code",
   "execution_count": null,
   "id": "bf992d9f",
   "metadata": {
    "id": "cf7437aa"
   },
   "outputs": [],
   "source": [
    "pupil_validity = {-1: 1 }"
   ]
  },
  {
   "cell_type": "code",
   "execution_count": null,
   "id": "0831c6ca",
   "metadata": {
    "id": "989b113d"
   },
   "outputs": [],
   "source": [
    "df_19_EYE['ET_PupilLeft_validity'] = df_19_EYE['ET_PupilLeft'].map(pupil_validity)"
   ]
  },
  {
   "cell_type": "code",
   "execution_count": null,
   "id": "72f5dffc",
   "metadata": {
    "id": "9ecdfbc0"
   },
   "outputs": [],
   "source": [
    "df_19_EYE['ET_PupilRight_validity'] = df_19_EYE['ET_PupilRight'].map(pupil_validity)"
   ]
  },
  {
   "cell_type": "code",
   "execution_count": null,
   "id": "96519209",
   "metadata": {
    "id": "7f5d2b28"
   },
   "outputs": [],
   "source": [
    "df_19_EYE[['ET_PupilLeft_validity', 'ET_PupilRight_validity']].head()"
   ]
  },
  {
   "cell_type": "code",
   "execution_count": null,
   "id": "03b2e45f",
   "metadata": {
    "id": "6a86c472"
   },
   "outputs": [],
   "source": [
    "df_19_EYE[['ET_PupilLeft_validity', 'ET_PupilRight_validity']].isnull().sum()"
   ]
  },
  {
   "cell_type": "code",
   "execution_count": null,
   "id": "508cd6f9",
   "metadata": {
    "id": "9121e4a8"
   },
   "outputs": [],
   "source": [
    "plt.figure(figsize=(18, 8))\n",
    "sns.heatmap(df_19_EYE[['ET_PupilLeft_validity', 'ET_PupilRight_validity']].isnull(), cmap='viridis')\n",
    "plt.show()"
   ]
  },
  {
   "cell_type": "code",
   "execution_count": null,
   "id": "e1755440",
   "metadata": {
    "id": "613a230a"
   },
   "outputs": [],
   "source": [
    "df_19_EYE['ET_PupilLeft_validity'] = df_19_EYE['ET_PupilLeft_validity'].fillna(0)"
   ]
  },
  {
   "cell_type": "code",
   "execution_count": null,
   "id": "3b35ee19",
   "metadata": {
    "id": "89ae7d3f"
   },
   "outputs": [],
   "source": [
    "df_19_EYE['ET_PupilRight_validity'] = df_19_EYE['ET_PupilRight_validity'].fillna(0)"
   ]
  },
  {
   "cell_type": "code",
   "execution_count": null,
   "id": "e74d1f99",
   "metadata": {
    "id": "a2c39f03"
   },
   "outputs": [],
   "source": [
    "df_19_EYE[['ET_PupilLeft_validity', 'ET_PupilRight_validity']].head()"
   ]
  },
  {
   "cell_type": "code",
   "execution_count": null,
   "id": "9eb41a84",
   "metadata": {
    "id": "6e9c2645"
   },
   "outputs": [],
   "source": [
    "plt.figure(figsize=(18, 8))\n",
    "sns.heatmap(df_19_EYE[['ET_PupilLeft_validity', 'ET_PupilRight_validity']].isnull(), cmap='viridis')\n",
    "plt.show()"
   ]
  },
  {
   "cell_type": "code",
   "execution_count": null,
   "id": "a2258374",
   "metadata": {
    "id": "7e52da92"
   },
   "outputs": [],
   "source": [
    "df_19_EYE.head()"
   ]
  },
  {
   "cell_type": "code",
   "execution_count": null,
   "id": "e36466eb",
   "metadata": {
    "id": "1cefd42d"
   },
   "outputs": [],
   "source": [
    "plt.figure(figsize=(18, 8))\n",
    "\n",
    "plt.subplot(1, 2, 1)\n",
    "sns.heatmap(df_19_EYE == -1, cmap='viridis')\n",
    "plt.title('Heatmap of -1 Values')\n",
    "\n",
    "plt.subplot(1, 2, 2)\n",
    "sns.heatmap(df_19_EYE == 1, cmap='viridis')\n",
    "plt.title('Heatmap of -1 Values')\n",
    "\n",
    "plt.tight_layout()\n",
    "plt.show()"
   ]
  },
  {
   "cell_type": "code",
   "execution_count": null,
   "id": "7656811a",
   "metadata": {
    "id": "dcf38f27"
   },
   "outputs": [],
   "source": [
    "valid_left_ratio  = 1 - df_19_EYE['ET_ValidityLeft'].mean()"
   ]
  },
  {
   "cell_type": "code",
   "execution_count": null,
   "id": "9b52a0c1",
   "metadata": {
    "id": "2aea00ec"
   },
   "outputs": [],
   "source": [
    "valid_left_ratio"
   ]
  },
  {
   "cell_type": "code",
   "execution_count": null,
   "id": "2e83b790",
   "metadata": {
    "id": "19ac306c"
   },
   "outputs": [],
   "source": [
    "valid_right_ratio = 1 - df_19_EYE['ET_ValidityRight'].mean()"
   ]
  },
  {
   "cell_type": "code",
   "execution_count": null,
   "id": "68da6876",
   "metadata": {
    "id": "4f0aa48e"
   },
   "outputs": [],
   "source": [
    "valid_right_ratio"
   ]
  },
  {
   "cell_type": "code",
   "execution_count": null,
   "id": "0729de85",
   "metadata": {
    "id": "a000b670"
   },
   "outputs": [],
   "source": [
    "df_19_EYE['ET_PupilLeft_validity'] = df_19_EYE['ET_PupilLeft_validity'].astype(np.int8)\n",
    "df_19_EYE['ET_PupilRight_validity'] = df_19_EYE['ET_PupilRight_validity'].astype(np.int8)"
   ]
  },
  {
   "cell_type": "markdown",
   "id": "a4367dae",
   "metadata": {
    "id": "6acf6847"
   },
   "source": [
    "# Feature Engineering and Observations\n",
    "\n",
    "Based on the analysis of the data, we've created two new features, `ET_PupilLeft_validity` and `ET_PupilRight_validity`. These features indicate the validity of the pupil data for the left and right eyes, respectively, with a value of 1 representing invalid data (originally -1) and 0 representing valid data.\n",
    "\n",
    "The heatmaps above visually demonstrate the distribution of -1 and 1 values across the dataset. We observed that:\n",
    "- The `-1` values are concentrated in specific columns related to gaze, pupil size, distance, and camera position, suggesting they represent missing or invalid sensor readings.\n",
    "- The `1` values, after mapping from `4.0` in the original validity columns, indicate instances of invalid eye-tracking data.\n",
    "- The heatmaps also show a strong correlation between the `-1` values in the pupil columns and a validity of 1 in the newly created pupil validity features, confirming that -1 was used to mark invalid pupil data."
   ]
  },
  {
   "cell_type": "code",
   "execution_count": null,
   "id": "db64a47d",
   "metadata": {
    "id": "de9f2594"
   },
   "outputs": [],
   "source": [
    "df_19_EYE.head()"
   ]
  },
  {
   "cell_type": "code",
   "execution_count": null,
   "id": "76e7e229",
   "metadata": {
    "id": "bfa2e174"
   },
   "outputs": [],
   "source": [
    "# Select only the numeric columns for plotting histograms, excluding time-related columns\n",
    "numeric_cols = df_19_EYE.select_dtypes(include=np.number).columns\n",
    "cols_to_plot = [col for col in numeric_cols if col not in ['UnixTime']]\n",
    "\n",
    "# Calculate the number of rows and columns for the grid\n",
    "n_cols = 4  # You can adjust the number of columns as needed\n",
    "n_rows = (len(cols_to_plot) + n_cols - 1) // n_cols\n",
    "\n",
    "plt.figure(figsize=(n_cols * 5, n_rows * 4)) # Adjust figure size as needed\n",
    "\n",
    "for i, col in enumerate(cols_to_plot):\n",
    "    plt.subplot(n_rows, n_cols, i + 1)\n",
    "    sns.histplot(df_19_EYE[col], kde=True)\n",
    "    plt.title(f'Distribution of {col}')\n",
    "    plt.xlabel(col)\n",
    "    plt.ylabel('Frequency')\n",
    "\n",
    "plt.tight_layout()\n",
    "plt.show()"
   ]
  },
  {
   "cell_type": "markdown",
   "id": "a890581e",
   "metadata": {
    "id": "8059766d"
   },
   "source": [
    "# Observations from Histograms\n",
    "\n",
    "The grid of histograms provides insights into the distribution of values for each numeric column in the dataset (excluding 'UnixTime'). Key observations include:\n",
    "\n",
    "- Several columns, such as `ET_GazeLeftx`, `ET_GazeLefty`, `ET_GazeRightx`, and `ET_GazeRighty`, show distributions that appear somewhat multimodal or skewed, suggesting variations in gaze patterns.\n",
    "- The `ET_PupilLeft` and `ET_PupilRight` histograms clearly show a peak at -1, confirming the presence of a significant number of invalid pupil readings.\n",
    "- `ET_TimeSignal` shows a relatively uniform distribution, as expected for a time-based signal.\n",
    "- `ET_DistanceLeft` and `ET_DistanceRight` appear to have distributions centered around certain values, with some outliers or variations.\n",
    "- The camera position columns (`ET_CameraLeftX`, `ET_CameraLeftY`, `ET_CameraRightX`, `ET_CameraRightY`) seem to have distributions concentrated within specific ranges, reflecting the camera's field of view.\n",
    "- The validity columns (`ET_ValidityLeft`, `ET_ValidityRight`, `ET_PupilLeft_validity`, `ET_PupilRight_validity`) show distributions dominated by 0, indicating that most of the data is considered valid after the mapping. The smaller peaks at 1 represent the instances of invalid data.\n",
    "\n",
    "These distributions highlight the need for appropriate handling of the -1 values and potential outliers in subsequent analysis or modeling steps."
   ]
  },
  {
   "cell_type": "code",
   "execution_count": null,
   "id": "3fb414dc",
   "metadata": {
    "id": "cb65ae1e"
   },
   "outputs": [],
   "source": [
    "df_19_EYE.columns"
   ]
  },
  {
   "cell_type": "code",
   "execution_count": null,
   "id": "05c3210e",
   "metadata": {
    "id": "8cf2280c"
   },
   "outputs": [],
   "source": [
    "cols = ['ET_GazeLeftx', 'ET_GazeLefty',\n",
    "       'ET_GazeRightx', 'ET_GazeRighty', 'ET_PupilLeft', 'ET_PupilRight',\n",
    "       'ET_TimeSignal', 'ET_DistanceLeft', 'ET_DistanceRight',\n",
    "       'ET_CameraLeftX', 'ET_CameraLeftY', 'ET_CameraRightX',\n",
    "       'ET_CameraRightY', 'ET_ValidityLeft', 'ET_ValidityRight',\n",
    "       'ET_PupilLeft_validity', 'ET_PupilRight_validity']"
   ]
  },
  {
   "cell_type": "code",
   "execution_count": null,
   "id": "c14eff15",
   "metadata": {
    "id": "85e45ea9"
   },
   "outputs": [],
   "source": [
    "from IPython.display import display, Markdown\n",
    "\n",
    "for col in cols:\n",
    "    # Add a markdown cell before each plot for better separation and labeling\n",
    "    display(Markdown(f'### {col} over Time'))\n",
    "    plt.figure(figsize=(16, 10))\n",
    "    plt.plot(df_19_EYE['Timestamp'], df_19_EYE[col])\n",
    "    plt.xlabel(\"Timestamp\") # Add x-axis label\n",
    "    plt.ylabel(col) # Add y-axis label\n",
    "    plt.show()"
   ]
  },
  {
   "cell_type": "markdown",
   "id": "4139e0f5",
   "metadata": {
    "id": "f7ffd08f"
   },
   "source": [
    "# Observations from Time Series Plots\n",
    "\n",
    "The line plots showing various features against the `Timestamp` reveal the temporal patterns and fluctuations in the eye-tracking data. Key observations include:\n",
    "\n",
    "- **Gaze Coordinates (`ET_GazeLeftx`, `ET_GazeLefty`, `ET_GazeRightx`, `ET_GazeRighty`):** These plots show the changes in gaze position over time. We can observe periods of relatively stable gaze interspersed with rapid movements (saccades) and blinks or other events where the gaze data might be invalid (-1 values appear as gaps or spikes if not handled).\n",
    "- **Pupil Size (`ET_PupilLeft`, `ET_PupilRight`):** The pupil size plots show variations over time. The presence of many -1 values is evident as flat lines at the bottom of the plot, indicating periods where pupil data was not recorded or was invalid.\n",
    "- **Time Signal (`ET_TimeSignal`):** This plot shows a steady, increasing trend, as expected for a time-based signal.\n",
    "- **Distance and Camera Position (`ET_DistanceLeft`, `ET_DistanceRight`, `ET_CameraLeftX`, `ET_CameraLeftY`, `ET_CameraRightX`, `ET_CameraRightY`):** These plots show how the distance from the eye tracker and the camera positions change over time. Variations in these features can be related to head movements or changes in the user's position relative to the eye tracker.\n",
    "- **Validity (`ET_ValidityLeft`, `ET_ValidityRight`, `ET_PupilLeft_validity`, `ET_PupilRight_validity`):** These plots clearly show periods of invalid data (represented by 1) as spikes or plateaus, corresponding to instances where the eye tracker lost track of the eyes or the pupil data was marked as invalid.\n",
    "\n",
    "Analyzing these time series plots is crucial for understanding the dynamics of the eye-tracking data and identifying patterns or anomalies that may require further investigation or specific handling during subsequent analysis."
   ]
  },
  {
   "cell_type": "code",
   "execution_count": null,
   "id": "a39e54e8",
   "metadata": {
    "id": "cdd85f8c"
   },
   "outputs": [],
   "source": [
    "# Select only the numeric columns for plotting histograms, excluding time-related columns\n",
    "numeric_cols = df_19_EYE.select_dtypes(include=np.number).columns\n",
    "\n",
    "# Calculate the number of rows and columns for the grid\n",
    "n_cols = 4  # You can adjust the number of columns as needed\n",
    "n_rows = (len(numeric_cols) + n_cols - 1) // n_cols\n",
    "\n",
    "plt.figure(figsize=(n_cols * 5, n_rows * 4)) # Adjust figure size as needed\n",
    "\n",
    "for i, col in enumerate(numeric_cols):\n",
    "    plt.subplot(n_rows, n_cols, i + 1)\n",
    "    sns.boxplot(df_19_EYE[col])\n",
    "    plt.title(f'Boxplot of {col}')\n",
    "    plt.xlabel(col)\n",
    "\n",
    "plt.tight_layout()\n",
    "plt.show()"
   ]
  },
  {
   "cell_type": "markdown",
   "id": "e3f870d4",
   "metadata": {
    "id": "2cca19c5"
   },
   "source": [
    "# Observations from Boxplots and Handling -1 Values\n",
    "\n",
    "The boxplots provide a visual summary of the distribution and potential outliers for each numeric column. Key observations from the boxplots include:\n",
    "\n",
    "- The boxplots for columns like `ET_GazeLeftx`, `ET_GazeLefty`, `ET_GazeRightx`, `ET_GazeRighty`, `ET_PupilLeft`, `ET_PupilRight`, `ET_DistanceLeft`, `ET_DistanceRight`, `ET_CameraLeftX`, `ET_CameraLeftY`, `ET_CameraRightX`, and `ET_CameraRightY` clearly show the presence of -1 values as significant outliers, confirming our earlier observations from the heatmaps and histograms.\n",
    "- The boxplots for the validity columns (`ET_ValidityLeft`, `ET_ValidityRight`, `ET_PupilLeft_validity`, `ET_PupilRight_validity`) show the discrete nature of these features, with the majority of data points at 0 (valid) and a smaller number at 1 (invalid).\n",
    "\n",
    "Given the significant presence of -1 values, which represent invalid or missing data, especially in the pupil-related columns, we have decided to replace these -1 values with NaN to properly represent them as missing data. Subsequently, we will impute these missing values using the mean of each respective column. This approach helps to retain the data structure and allows for further analysis or modeling without the distortion caused by the -1 placeholders."
   ]
  },
  {
   "cell_type": "code",
   "execution_count": null,
   "id": "bd9b7dd7",
   "metadata": {
    "id": "9217371b"
   },
   "outputs": [],
   "source": [
    "df_19_EYE.replace({-1: np.nan}, inplace=True)"
   ]
  },
  {
   "cell_type": "code",
   "execution_count": null,
   "id": "36a91d61",
   "metadata": {
    "id": "8108fa01"
   },
   "outputs": [],
   "source": [
    "df_19_EYE[['ET_GazeLeftx', 'ET_GazeLefty',\n",
    "       'ET_GazeRightx', 'ET_GazeRighty', 'ET_PupilLeft', 'ET_PupilRight',\n",
    "       'ET_TimeSignal', 'ET_DistanceLeft', 'ET_DistanceRight',\n",
    "       'ET_CameraLeftX', 'ET_CameraLeftY', 'ET_CameraRightX',\n",
    "       'ET_CameraRightY', 'ET_ValidityLeft', 'ET_ValidityRight',\n",
    "       'ET_PupilLeft_validity', 'ET_PupilRight_validity']].mean()"
   ]
  },
  {
   "cell_type": "code",
   "execution_count": null,
   "id": "67116152",
   "metadata": {
    "id": "9b94fbce"
   },
   "outputs": [],
   "source": [
    "df_19_EYE[['ET_GazeLeftx', 'ET_GazeLefty',\n",
    "       'ET_GazeRightx', 'ET_GazeRighty', 'ET_PupilLeft', 'ET_PupilRight',\n",
    "       'ET_TimeSignal', 'ET_DistanceLeft', 'ET_DistanceRight',\n",
    "       'ET_CameraLeftX', 'ET_CameraLeftY', 'ET_CameraRightX',\n",
    "       'ET_CameraRightY', 'ET_ValidityLeft', 'ET_ValidityRight',\n",
    "       'ET_PupilLeft_validity', 'ET_PupilRight_validity']].median()"
   ]
  },
  {
   "cell_type": "code",
   "execution_count": null,
   "id": "9e085f65",
   "metadata": {
    "id": "ee1238c8"
   },
   "outputs": [],
   "source": [
    "numeric_cols = df_19_EYE.select_dtypes(include=np.number).columns\n",
    "\n",
    "for col in numeric_cols:\n",
    "    df_19_EYE[col] = df_19_EYE[col].fillna(df_19_EYE[col].mean())"
   ]
  },
  {
   "cell_type": "code",
   "execution_count": null,
   "id": "f29793b9",
   "metadata": {
    "id": "b0bc522d"
   },
   "outputs": [],
   "source": [
    "plt.figure(figsize=(18, 8))\n",
    "\n",
    "plt.subplot(1, 2, 1)\n",
    "sns.heatmap(df_19_EYE.isnull(), cmap='viridis')\n",
    "plt.title('Heatmap of Missing Values After Imputation')\n",
    "\n",
    "plt.subplot(1, 2, 2)\n",
    "sns.heatmap(df_19_EYE == 1, cmap='viridis')\n",
    "plt.title('Heatmap of 1 Values')\n",
    "\n",
    "plt.tight_layout()\n",
    "plt.show()"
   ]
  },
  {
   "cell_type": "markdown",
   "id": "8b6efbf4",
   "metadata": {
    "id": "c0f1e10d"
   },
   "source": [
    "# Handling Missing Values (Imputation)\n",
    "\n",
    "As decided, we have replaced all the `-1` values with `NaN` to treat them as missing data. Subsequently, we have imputed these `NaN` values with the mean of their respective columns. The heatmap above, which was generated after the imputation, now shows no visible signs of `NaN` values, indicating that the imputation was successful."
   ]
  },
  {
   "cell_type": "code",
   "execution_count": null,
   "id": "bd30aa02",
   "metadata": {
    "id": "2491c1da"
   },
   "outputs": [],
   "source": [
    "df_19_EYE.head()"
   ]
  },
  {
   "cell_type": "code",
   "execution_count": null,
   "id": "48fe13eb",
   "metadata": {
    "id": "64f04350"
   },
   "outputs": [],
   "source": [
    "# Select only the numeric columns for plotting histograms, excluding time-related columns\n",
    "numeric_cols = df_19_EYE.select_dtypes(include=np.number).columns\n",
    "cols_to_plot = [col for col in numeric_cols if col not in ['UnixTime']]\n",
    "\n",
    "# Calculate the number of rows and columns for the grid\n",
    "n_cols = 4  # You can adjust the number of columns as needed\n",
    "n_rows = (len(cols_to_plot) + n_cols - 1) // n_cols\n",
    "\n",
    "plt.figure(figsize=(n_cols * 5, n_rows * 4)) # Adjust figure size as needed\n",
    "\n",
    "for i, col in enumerate(cols_to_plot):\n",
    "    plt.subplot(n_rows, n_cols, i + 1)\n",
    "    sns.histplot(df_19_EYE[col], kde=True)\n",
    "    plt.title(f'Distribution of {col}')\n",
    "    plt.xlabel(col)\n",
    "    plt.ylabel('Frequency')\n",
    "\n",
    "plt.tight_layout()\n",
    "plt.show()"
   ]
  },
  {
   "cell_type": "markdown",
   "id": "8145cd1a",
   "metadata": {
    "id": "e0c83f1c"
   },
   "source": [
    "# Observations from Histograms After Imputation\n",
    "\n",
    "The histograms generated after replacing the -1 values with the mean of each column show the distributions of the numeric features with the missing data handled. Key observations from these updated histograms include:\n",
    "\n",
    "- The distinct peaks at -1, which were prominent in the histograms for several columns (e.g., pupil size, gaze coordinates, distance, and camera position) before imputation, are now replaced by a peak at the mean of each respective column.\n",
    "- The distributions in many columns now appear more unimodal or show shifted modes compared to the original histograms.\n",
    "- The histograms for the validity columns still show their bimodal distributions with peaks at 0 and 1, as these were handled separately.\n",
    "\n",
    "These histograms provide an updated view of the data's distribution after handling the missing values, highlighting the impact of the imputation method on the data's characteristics."
   ]
  },
  {
   "cell_type": "code",
   "execution_count": null,
   "id": "afaeb382",
   "metadata": {
    "id": "de0b2f65"
   },
   "outputs": [],
   "source": [
    "cols = ['ET_GazeLeftx', 'ET_GazeLefty',\n",
    "       'ET_GazeRightx', 'ET_GazeRighty', 'ET_PupilLeft', 'ET_PupilRight',\n",
    "       'ET_TimeSignal', 'ET_DistanceLeft', 'ET_DistanceRight',\n",
    "       'ET_CameraLeftX', 'ET_CameraLeftY', 'ET_CameraRightX',\n",
    "       'ET_CameraRightY', 'ET_ValidityLeft', 'ET_ValidityRight',\n",
    "       'ET_PupilLeft_validity', 'ET_PupilRight_validity']"
   ]
  },
  {
   "cell_type": "code",
   "execution_count": null,
   "id": "c3d75307",
   "metadata": {
    "id": "4ddd4915"
   },
   "outputs": [],
   "source": [
    "for col in cols:\n",
    "    # Add a markdown cell before each plot for better separation and labeling\n",
    "    display(Markdown(f'### {col} over Time'))\n",
    "    plt.figure(figsize=(16, 10))\n",
    "    plt.plot(df_19_EYE['Timestamp'], df_19_EYE[col])\n",
    "    plt.xlabel(\"Timestamp\") # Add x-axis label\n",
    "    plt.ylabel(col) # Add y-axis label\n",
    "    plt.show()"
   ]
  },
  {
   "cell_type": "markdown",
   "id": "53769098",
   "metadata": {
    "id": "0fb07abb"
   },
   "source": [
    "# Observations from Time Series Plots After Imputation\n",
    "\n",
    "The line plots generated after imputing the missing values with the mean show the temporal patterns of the features with the missing data handled. Key observations from these updated plots include:\n",
    "\n",
    "- The gaps or flat lines at -1, which were prominent in the plots for columns like gaze coordinates, pupil size, distance, and camera position, are now filled by lines at the mean value of the respective columns.\n",
    "- The plots for the validity columns remain the same as they were handled separately.\n",
    "- The `ET_TimeSignal` plot still shows a steady increasing trend, as expected."
   ]
  },
  {
   "cell_type": "code",
   "execution_count": null,
   "id": "3aa0cd5b",
   "metadata": {
    "id": "c608fd95"
   },
   "outputs": [],
   "source": [
    "plt.figure(figsize=(16, 10))\n",
    "sns.heatmap(df_19_EYE.corr(numeric_only=True), cmap='YlGnBu', annot=True)\n",
    "plt.show()"
   ]
  },
  {
   "cell_type": "markdown",
   "id": "4f56c7ed",
   "metadata": {
    "id": "82405ba6"
   },
   "source": [
    "# Observations from Correlation Heatmap\n",
    "\n",
    "The correlation heatmap provides a visual representation of the pairwise correlations between the numeric columns in the dataset. Key observations from the heatmap include:\n",
    "\n",
    "- **High Positive Correlations:** We observe strong positive correlations (values close to 1) between:\n",
    "  - `ET_GazeLeftx` and `ET_GazeRightx`: This is expected as the gaze positions of both eyes should be highly correlated when fixating on a point.\n",
    "  - `ET_GazeLefty` and `ET_GazeRighty`: Similar to the x-coordinates, the y-coordinates of gaze should also be highly correlated.\n",
    "  - `ET_PupilLeft` and `ET_PupilRight`: Pupil sizes of both eyes tend to change together in response to light and cognitive load.\n",
    "  - `ET_DistanceLeft` and `ET_DistanceRight`: The distance from the eye tracker to each eye should be highly correlated.\n",
    "  - `ET_CameraLeftX` and `ET_CameraRightX`, `ET_CameraLeftY` and `ET_CameraRightY`: The camera positions for both eyes are also expected to be highly correlated.\n",
    "  - `UnixTime` and `ET_TimeSignal`: As previously noted, these two columns are almost perfectly linearly correlated, indicating redundancy.\n",
    "  - `ET_ValidityLeft` and `ET_PupilLeft_validity`: There is a positive correlation, suggesting that when the overall left eye data is invalid, the left pupil data is also likely to be invalid.\n",
    "  - `ET_ValidityRight` and `ET_PupilRight_validity`: Similar to the left eye, there is a positive correlation between the overall right eye validity and the right pupil validity.\n",
    "- **Other Correlations:** We can also observe other varying degrees of correlations between different features, which can provide insights into the relationships between gaze behavior, pupil size, distance, and camera position. For example, there might be correlations between gaze coordinates and camera positions, reflecting head movements.\n",
    "- **Low or Near-Zero Correlations:** Columns with low or near-zero correlations are relatively independent of each other.\n",
    "\n",
    "Understanding these correlations is important for feature selection and for building models, as highly correlated features might indicate multicollinearity, while correlations between features can reveal underlying patterns in the data."
   ]
  },
  {
   "cell_type": "markdown",
   "id": "694f9d9e",
   "metadata": {
    "id": "1c413c3b"
   },
   "source": [
    "# Analysis of ET_TimeSignal and Decision to Drop\n",
    "\n",
    "As observed in the time series plot and confirmed by the correlation heatmap, the `ET_TimeSignal` column exhibits a near-perfect linear relationship with both the `Timestamp` and `UnixTime` columns. This strong correlation (close to 1) suggests that `ET_TimeSignal` is essentially redundant and likely represents another form of time recording or a signal directly derived from the timestamp.\n",
    "\n",
    "Including highly correlated features like this in a dataset can lead to issues such as multicollinearity in some statistical models, which can make it difficult to interpret the individual impact of each feature. Since the `Timestamp` column already provides the necessary temporal information, retaining `ET_TimeSignal` does not appear to add significant value for further analysis or modeling in most cases.\n",
    "\n",
    "Therefore, based on its high correlation and lack of unique insight, we will proceed to drop the `ET_TimeSignal` column to simplify the dataset and potentially improve the performance and interpretability of future analyses."
   ]
  },
  {
   "cell_type": "code",
   "execution_count": null,
   "id": "b0b454d1",
   "metadata": {
    "id": "7c96e349"
   },
   "outputs": [],
   "source": [
    "df_19_EYE.drop('ET_TimeSignal', axis=1, inplace=True)"
   ]
  },
  {
   "cell_type": "code",
   "execution_count": null,
   "id": "55c330c6",
   "metadata": {
    "id": "5845a61d"
   },
   "outputs": [],
   "source": [
    "plt.figure(figsize=(16, 10))\n",
    "sns.pairplot(df_19_EYE)\n",
    "plt.show()"
   ]
  },
  {
   "cell_type": "markdown",
   "id": "cd5cfa68",
   "metadata": {
    "id": "sMcHS8LIOGeT"
   },
   "source": [
    "# **20_EYE**"
   ]
  },
  {
   "cell_type": "code",
   "execution_count": null,
   "id": "3e909fa9",
   "metadata": {
    "id": "L2tJooyROWnM"
   },
   "outputs": [],
   "source": []
  },
  {
   "cell_type": "code",
   "execution_count": null,
   "id": "5cf6432e",
   "metadata": {
    "id": "6c647c4f"
   },
   "outputs": [],
   "source": [
    "df_20_EYE = pd.read_csv('data/STData/20/20_EYE.csv')"
   ]
  },
  {
   "cell_type": "code",
   "execution_count": null,
   "id": "4de9e05b",
   "metadata": {
    "id": "c229bba7"
   },
   "outputs": [],
   "source": [
    "df_20_EYE.head()"
   ]
  },
  {
   "cell_type": "code",
   "execution_count": null,
   "id": "c67f929d",
   "metadata": {
    "id": "0ec8e716"
   },
   "outputs": [],
   "source": [
    "df_20_EYE.shape"
   ]
  },
  {
   "cell_type": "code",
   "execution_count": null,
   "id": "48d89c8d",
   "metadata": {
    "id": "43ba37eb"
   },
   "outputs": [],
   "source": [
    "df_20_EYE.columns"
   ]
  },
  {
   "cell_type": "code",
   "execution_count": null,
   "id": "e6e4fde9",
   "metadata": {
    "id": "19f68fb4"
   },
   "outputs": [],
   "source": [
    "df_20_EYE.info()"
   ]
  },
  {
   "cell_type": "code",
   "execution_count": null,
   "id": "91da9c30",
   "metadata": {
    "id": "603369d7"
   },
   "outputs": [],
   "source": [
    "df_20_EYE.isnull().sum()"
   ]
  },
  {
   "cell_type": "code",
   "execution_count": null,
   "id": "ff0b79a1",
   "metadata": {
    "id": "874353e3"
   },
   "outputs": [],
   "source": [
    "plt.figure(figsize=(12,8))\n",
    "sns.heatmap(df_20_EYE.isnull(), cmap='viridis')\n",
    "plt.show()"
   ]
  },
  {
   "cell_type": "markdown",
   "id": "be1fb681",
   "metadata": {
    "id": "b17906e7"
   },
   "source": [
    "# Notes & Observations\n",
    "\n",
    "- We observe many **null** (or missing) values in the `QuestionKey` columns.\n",
    "- The nulls in the `QuestionKey` column may not represent “true” nulls. Rather, they follow interval patterns, suggesting that during those periods no question was displayed.\n",
    "- These missing values in `QuestionKey` require additional investigation and context-aware handling."
   ]
  },
  {
   "cell_type": "code",
   "execution_count": null,
   "id": "a4c0d9b6",
   "metadata": {
    "id": "1113779e"
   },
   "outputs": [],
   "source": [
    "df_20_EYE['QuestionKey'].unique()"
   ]
  },
  {
   "cell_type": "code",
   "execution_count": null,
   "id": "74eb5ab2",
   "metadata": {
    "id": "db0a93a2"
   },
   "outputs": [],
   "source": [
    "df_20_EYE['Timestamp'] = pd.to_datetime(df_20_EYE['Timestamp'])"
   ]
  },
  {
   "cell_type": "code",
   "execution_count": null,
   "id": "996ab38b",
   "metadata": {
    "id": "03d57b0a"
   },
   "outputs": [],
   "source": [
    "df_20_EYE.head(3)"
   ]
  },
  {
   "cell_type": "code",
   "execution_count": null,
   "id": "f27f7e52",
   "metadata": {
    "id": "c0004029"
   },
   "outputs": [],
   "source": [
    "df_20_EYE['QuestionKey'] = df_20_EYE['QuestionKey'].fillna('None')"
   ]
  },
  {
   "cell_type": "code",
   "execution_count": null,
   "id": "3adef6d2",
   "metadata": {
    "id": "dfb4729e"
   },
   "outputs": [],
   "source": [
    "df_20_EYE['QuestionKey'].value_counts()"
   ]
  },
  {
   "cell_type": "code",
   "execution_count": null,
   "id": "4be548ac",
   "metadata": {
    "id": "9353c9d8"
   },
   "outputs": [],
   "source": [
    "plt.figure(figsize=(12,8))\n",
    "sns.heatmap(df_20_EYE.isnull(), cmap='viridis')\n",
    "plt.show()"
   ]
  },
  {
   "cell_type": "code",
   "execution_count": null,
   "id": "3cea6189",
   "metadata": {
    "id": "5c73d150"
   },
   "outputs": [],
   "source": [
    "df_20_EYE.isnull().sum()"
   ]
  },
  {
   "cell_type": "code",
   "execution_count": null,
   "id": "288425a3",
   "metadata": {
    "id": "6c700142"
   },
   "outputs": [],
   "source": [
    "df_20_EYE.dropna(inplace=True)"
   ]
  },
  {
   "cell_type": "code",
   "execution_count": null,
   "id": "a5691ded",
   "metadata": {
    "id": "90a604ce"
   },
   "outputs": [],
   "source": [
    "df_20_EYE.head()"
   ]
  },
  {
   "cell_type": "code",
   "execution_count": null,
   "id": "7fbcac67",
   "metadata": {
    "id": "a43a4283"
   },
   "outputs": [],
   "source": [
    "df_20_EYE['Row'].unique()"
   ]
  },
  {
   "cell_type": "code",
   "execution_count": null,
   "id": "c4eb151f",
   "metadata": {
    "id": "f66566f9"
   },
   "outputs": [],
   "source": [
    "plt.figure(figsize=(8,6))\n",
    "sns.histplot(df_20_EYE['Row'])\n",
    "plt.show()"
   ]
  },
  {
   "cell_type": "markdown",
   "id": "b0f19708",
   "metadata": {
    "id": "5ddf40fd"
   },
   "source": [
    "# Notes & Observations\n",
    "\n",
    "- The `Row` column appears to be a simple row index and does not provide meaningful information relevant to the eye-tracking data itself. Therefore, it can be dropped."
   ]
  },
  {
   "cell_type": "code",
   "execution_count": null,
   "id": "086d1f04",
   "metadata": {
    "id": "5aee4404"
   },
   "outputs": [],
   "source": [
    "df_20_EYE.drop('Row', axis=1, inplace=True)"
   ]
  },
  {
   "cell_type": "code",
   "execution_count": null,
   "id": "08c01a29",
   "metadata": {
    "id": "827f3274"
   },
   "outputs": [],
   "source": [
    "df_20_EYE['ET_ValidityLeft'].unique()"
   ]
  },
  {
   "cell_type": "code",
   "execution_count": null,
   "id": "1c9d352f",
   "metadata": {
    "id": "1437751a"
   },
   "outputs": [],
   "source": [
    "df_20_EYE['ET_ValidityLeft'].value_counts()"
   ]
  },
  {
   "cell_type": "code",
   "execution_count": null,
   "id": "e0c02f5f",
   "metadata": {
    "id": "d0a9ee4a"
   },
   "outputs": [],
   "source": [
    "df_20_EYE['ET_ValidityRight'].unique()"
   ]
  },
  {
   "cell_type": "code",
   "execution_count": null,
   "id": "657bf975",
   "metadata": {
    "id": "55ddcc2b"
   },
   "outputs": [],
   "source": [
    "df_20_EYE['ET_ValidityRight'].value_counts()"
   ]
  },
  {
   "cell_type": "code",
   "execution_count": null,
   "id": "ea040b0c",
   "metadata": {
    "id": "faef00be"
   },
   "outputs": [],
   "source": [
    "plt.figure(figsize=(12, 6))\n",
    "\n",
    "plt.subplot(1, 2, 1)\n",
    "sns.barplot(x=df_20_EYE['ET_ValidityLeft'].value_counts().index, y=df_20_EYE['ET_ValidityLeft'].value_counts().values)\n",
    "plt.title('Count of ET_ValidityLeft')\n",
    "plt.xlabel('Validity')\n",
    "plt.ylabel('Count')\n",
    "\n",
    "\n",
    "plt.subplot(1, 2, 2)\n",
    "sns.barplot(x=df_20_EYE['ET_ValidityRight'].value_counts().index, y=df_20_EYE['ET_ValidityRight'].value_counts().values)\n",
    "plt.title('Count of ET_ValidityRight')\n",
    "plt.xlabel('Validity')\n",
    "plt.ylabel('Count')\n",
    "\n",
    "plt.tight_layout()\n",
    "plt.show()"
   ]
  },
  {
   "cell_type": "markdown",
   "id": "b6529fcc",
   "metadata": {
    "id": "b43706ea"
   },
   "source": [
    "# Notes & Observations\n",
    "\n",
    "- The `ET_ValidityLeft` and `ET_ValidityRight` columns indicate the validity of the eye-tracking data for the left and right eye, respectively.\n",
    "- Based on the value counts and the bar plots, it appears that a value of `0.0` represents valid eye-tracking data, while a value of `4.0` represents invalid data.\n",
    "- Although the amount of invalid data is relatively small, removing these rows could introduce unwanted patterns or gaps in the time series data.\n",
    "- Therefore, we will keep the data and replace the value `4.0` with `1.0` in both `ET_ValidityLeft` and `ET_ValidityRight` columns. This will indicate to a machine learning model that the eye tracker had invalid data at those specific points in time while maintaining the integrity of the time series."
   ]
  },
  {
   "cell_type": "markdown",
   "id": "82dc4ed2",
   "metadata": {
    "id": "e9e671b2"
   },
   "source": [
    "Define a mapping to convert validity values from `0.0` and `4.0` to `0` and `1`."
   ]
  },
  {
   "cell_type": "code",
   "execution_count": null,
   "id": "c04434a0",
   "metadata": {
    "id": "08e7ed71"
   },
   "outputs": [],
   "source": [
    "validity_map = {4.0: 1.0, 0.0: 0.0}"
   ]
  },
  {
   "cell_type": "code",
   "execution_count": null,
   "id": "75ebefff",
   "metadata": {
    "id": "0bba3ac0"
   },
   "outputs": [],
   "source": [
    "df_20_EYE['ET_ValidityLeft'] = df_20_EYE['ET_ValidityLeft'].map(validity_map).astype(np.int8)\n",
    "df_20_EYE['ET_ValidityRight'] = df_20_EYE['ET_ValidityRight'].map(validity_map).astype(np.int8)"
   ]
  },
  {
   "cell_type": "code",
   "execution_count": null,
   "id": "9696a6c8",
   "metadata": {
    "id": "0ff3f16c"
   },
   "outputs": [],
   "source": [
    "df_20_EYE.head(3)"
   ]
  },
  {
   "cell_type": "code",
   "execution_count": null,
   "id": "f9335442",
   "metadata": {
    "id": "32eb3225"
   },
   "outputs": [],
   "source": [
    "df_20_EYE.describe()"
   ]
  },
  {
   "cell_type": "code",
   "execution_count": null,
   "id": "4b23bb27",
   "metadata": {
    "id": "c1e092e1"
   },
   "outputs": [],
   "source": [
    "df_20_EYE[df_20_EYE['ET_ValidityLeft'] == 1].shape"
   ]
  },
  {
   "cell_type": "code",
   "execution_count": null,
   "id": "32e1e1ed",
   "metadata": {
    "id": "8ebfb0cc"
   },
   "outputs": [],
   "source": [
    "df_20_EYE[df_20_EYE['ET_ValidityRight'] == 1].shape"
   ]
  },
  {
   "cell_type": "code",
   "execution_count": null,
   "id": "69585890",
   "metadata": {
    "id": "0d175df2"
   },
   "outputs": [],
   "source": [
    "df_20_EYE[df_20_EYE['ET_ValidityLeft'] == 1].shape[0] / df_20_EYE.shape[0]"
   ]
  },
  {
   "cell_type": "code",
   "execution_count": null,
   "id": "e8f8874d",
   "metadata": {
    "id": "54cc0f9e"
   },
   "outputs": [],
   "source": [
    "df_20_EYE[df_20_EYE['ET_ValidityRight'] == 1].shape[0] / df_20_EYE.shape[0]"
   ]
  },
  {
   "cell_type": "code",
   "execution_count": null,
   "id": "d7996c37",
   "metadata": {
    "id": "45c977c1"
   },
   "outputs": [],
   "source": [
    "plt.figure(figsize=(18, 8))\n",
    "\n",
    "plt.subplot(1, 2, 1)\n",
    "sns.heatmap(df_20_EYE == -1, cmap='viridis')\n",
    "plt.title('Heatmap of -1 Values')\n",
    "\n",
    "plt.subplot(1, 2, 2)\n",
    "sns.heatmap(df_20_EYE == 1, cmap='viridis')\n",
    "plt.title('Heatmap of 1 Values')\n",
    "\n",
    "plt.tight_layout()\n",
    "plt.show()"
   ]
  },
  {
   "cell_type": "code",
   "execution_count": null,
   "id": "b19cbff4",
   "metadata": {
    "id": "3b98a13b"
   },
   "outputs": [],
   "source": [
    "df_20_EYE[df_20_EYE['ET_PupilLeft'] == -1].shape"
   ]
  },
  {
   "cell_type": "code",
   "execution_count": null,
   "id": "965706ef",
   "metadata": {
    "id": "a2f296f6"
   },
   "outputs": [],
   "source": [
    "df_20_EYE[df_20_EYE['ET_PupilRight'] == -1].shape"
   ]
  },
  {
   "cell_type": "code",
   "execution_count": null,
   "id": "f674ef0c",
   "metadata": {
    "id": "42cff7eb"
   },
   "outputs": [],
   "source": [
    "df_20_EYE[df_20_EYE['ET_PupilLeft'] == -1].shape[0] / df_20_EYE.shape[0]"
   ]
  },
  {
   "cell_type": "code",
   "execution_count": null,
   "id": "60e4a100",
   "metadata": {
    "id": "83c97903"
   },
   "outputs": [],
   "source": [
    "df_20_EYE[df_20_EYE['ET_PupilRight'] == -1].shape[0] / df_20_EYE.shape[0]"
   ]
  },
  {
   "cell_type": "code",
   "execution_count": null,
   "id": "cb94a00d",
   "metadata": {
    "id": "6e176d63"
   },
   "outputs": [],
   "source": [
    "plt.figure(figsize=(18, 8))\n",
    "\n",
    "plt.subplot(1, 2, 1)\n",
    "sns.heatmap(df_20_EYE[df_20_EYE['ET_ValidityLeft'] == 1] == -1, cmap='viridis')\n",
    "plt.title('Heatmap of -1 Values')\n",
    "\n",
    "plt.subplot(1, 2, 2)\n",
    "sns.heatmap(df_20_EYE[df_20_EYE['ET_ValidityRight'] == 1] == -1, cmap='viridis')\n",
    "plt.title('Heatmap of -1 Values')\n",
    "\n",
    "plt.tight_layout()\n",
    "plt.show()"
   ]
  },
  {
   "cell_type": "markdown",
   "id": "9041e2fa",
   "metadata": {
    "id": "fff8db39"
   },
   "source": [
    "# Notes & Observations\n",
    "\n",
    "- The heatmaps reveal the distribution of -1 values across different columns.\n",
    "- It is evident that the `-1` values are not randomly scattered but appear in specific columns, notably `ET_GazeLeftx`, `ET_GazeLefty`, `ET_GazeRightx`, `ET_GazeRighty`, `ET_PupilLeft`, `ET_PupilRight`, `ET_DistanceLeft`, `ET_DistanceRight`, `ET_CameraLeftX`, `ET_CameraLeftY`, `ET_CameraRightX`, and `ET_CameraRightY`.\n",
    "- These `-1` values often coincide with instances where `ET_ValidityLeft` or `ET_ValidityRight` is 1, indicating invalid eye-tracking data. This suggests that `-1` is used as a placeholder for missing or invalid measurements in these columns when the eye tracker is not providing valid data for a particular eye.\n",
    "- Given that over 70% of the data in the `ET_PupilLeft` and `ET_PupilRight` columns is marked as invalid (-1), so instead of dropping them we can create new feature for both the `ET_PupilLeft` and `ET_PupilRight` to represent which row consist invalid `ET_PupilLeft` and `ET_PupilRight` data"
   ]
  },
  {
   "cell_type": "code",
   "execution_count": null,
   "id": "cfcd2e27",
   "metadata": {
    "id": "cf7437aa"
   },
   "outputs": [],
   "source": [
    "pupil_validity = {-1: 1 }"
   ]
  },
  {
   "cell_type": "code",
   "execution_count": null,
   "id": "fd728668",
   "metadata": {
    "id": "989b113d"
   },
   "outputs": [],
   "source": [
    "df_20_EYE['ET_PupilLeft_validity'] = df_20_EYE['ET_PupilLeft'].map(pupil_validity)"
   ]
  },
  {
   "cell_type": "code",
   "execution_count": null,
   "id": "f42a3852",
   "metadata": {
    "id": "9ecdfbc0"
   },
   "outputs": [],
   "source": [
    "df_20_EYE['ET_PupilRight_validity'] = df_20_EYE['ET_PupilRight'].map(pupil_validity)"
   ]
  },
  {
   "cell_type": "code",
   "execution_count": null,
   "id": "6a819f06",
   "metadata": {
    "id": "7f5d2b28"
   },
   "outputs": [],
   "source": [
    "df_20_EYE[['ET_PupilLeft_validity', 'ET_PupilRight_validity']].head()"
   ]
  },
  {
   "cell_type": "code",
   "execution_count": null,
   "id": "c01c36db",
   "metadata": {
    "id": "6a86c472"
   },
   "outputs": [],
   "source": [
    "df_20_EYE[['ET_PupilLeft_validity', 'ET_PupilRight_validity']].isnull().sum()"
   ]
  },
  {
   "cell_type": "code",
   "execution_count": null,
   "id": "6c6cdf5a",
   "metadata": {
    "id": "9121e4a8"
   },
   "outputs": [],
   "source": [
    "plt.figure(figsize=(18, 8))\n",
    "sns.heatmap(df_20_EYE[['ET_PupilLeft_validity', 'ET_PupilRight_validity']].isnull(), cmap='viridis')\n",
    "plt.show()"
   ]
  },
  {
   "cell_type": "code",
   "execution_count": null,
   "id": "afb01bab",
   "metadata": {
    "id": "613a230a"
   },
   "outputs": [],
   "source": [
    "df_20_EYE['ET_PupilLeft_validity'] = df_20_EYE['ET_PupilLeft_validity'].fillna(0)"
   ]
  },
  {
   "cell_type": "code",
   "execution_count": null,
   "id": "26358b30",
   "metadata": {
    "id": "89ae7d3f"
   },
   "outputs": [],
   "source": [
    "df_20_EYE['ET_PupilRight_validity'] = df_20_EYE['ET_PupilRight_validity'].fillna(0)"
   ]
  },
  {
   "cell_type": "code",
   "execution_count": null,
   "id": "6197f284",
   "metadata": {
    "id": "a2c39f03"
   },
   "outputs": [],
   "source": [
    "df_20_EYE[['ET_PupilLeft_validity', 'ET_PupilRight_validity']].head()"
   ]
  },
  {
   "cell_type": "code",
   "execution_count": null,
   "id": "e00db2e2",
   "metadata": {
    "id": "6e9c2645"
   },
   "outputs": [],
   "source": [
    "plt.figure(figsize=(18, 8))\n",
    "sns.heatmap(df_20_EYE[['ET_PupilLeft_validity', 'ET_PupilRight_validity']].isnull(), cmap='viridis')\n",
    "plt.show()"
   ]
  },
  {
   "cell_type": "code",
   "execution_count": null,
   "id": "20e5a406",
   "metadata": {
    "id": "7e52da92"
   },
   "outputs": [],
   "source": [
    "df_20_EYE.head()"
   ]
  },
  {
   "cell_type": "code",
   "execution_count": null,
   "id": "b4be5070",
   "metadata": {
    "id": "1cefd42d"
   },
   "outputs": [],
   "source": [
    "plt.figure(figsize=(18, 8))\n",
    "\n",
    "plt.subplot(1, 2, 1)\n",
    "sns.heatmap(df_20_EYE == -1, cmap='viridis')\n",
    "plt.title('Heatmap of -1 Values')\n",
    "\n",
    "plt.subplot(1, 2, 2)\n",
    "sns.heatmap(df_20_EYE == 1, cmap='viridis')\n",
    "plt.title('Heatmap of -1 Values')\n",
    "\n",
    "plt.tight_layout()\n",
    "plt.show()"
   ]
  },
  {
   "cell_type": "code",
   "execution_count": null,
   "id": "f891a40c",
   "metadata": {
    "id": "dcf38f27"
   },
   "outputs": [],
   "source": [
    "valid_left_ratio  = 1 - df_20_EYE['ET_ValidityLeft'].mean()"
   ]
  },
  {
   "cell_type": "code",
   "execution_count": null,
   "id": "25d8c8b9",
   "metadata": {
    "id": "2aea00ec"
   },
   "outputs": [],
   "source": [
    "valid_left_ratio"
   ]
  },
  {
   "cell_type": "code",
   "execution_count": null,
   "id": "0ee77fd0",
   "metadata": {
    "id": "19ac306c"
   },
   "outputs": [],
   "source": [
    "valid_right_ratio = 1 - df_20_EYE['ET_ValidityRight'].mean()"
   ]
  },
  {
   "cell_type": "code",
   "execution_count": null,
   "id": "261561e8",
   "metadata": {
    "id": "4f0aa48e"
   },
   "outputs": [],
   "source": [
    "valid_right_ratio"
   ]
  },
  {
   "cell_type": "code",
   "execution_count": null,
   "id": "3f5eb0e5",
   "metadata": {
    "id": "a000b670"
   },
   "outputs": [],
   "source": [
    "df_20_EYE['ET_PupilLeft_validity'] = df_20_EYE['ET_PupilLeft_validity'].astype(np.int8)\n",
    "df_20_EYE['ET_PupilRight_validity'] = df_20_EYE['ET_PupilRight_validity'].astype(np.int8)"
   ]
  },
  {
   "cell_type": "markdown",
   "id": "ebad5c38",
   "metadata": {
    "id": "6acf6847"
   },
   "source": [
    "# Feature Engineering and Observations\n",
    "\n",
    "Based on the analysis of the data, we've created two new features, `ET_PupilLeft_validity` and `ET_PupilRight_validity`. These features indicate the validity of the pupil data for the left and right eyes, respectively, with a value of 1 representing invalid data (originally -1) and 0 representing valid data.\n",
    "\n",
    "The heatmaps above visually demonstrate the distribution of -1 and 1 values across the dataset. We observed that:\n",
    "- The `-1` values are concentrated in specific columns related to gaze, pupil size, distance, and camera position, suggesting they represent missing or invalid sensor readings.\n",
    "- The `1` values, after mapping from `4.0` in the original validity columns, indicate instances of invalid eye-tracking data.\n",
    "- The heatmaps also show a strong correlation between the `-1` values in the pupil columns and a validity of 1 in the newly created pupil validity features, confirming that -1 was used to mark invalid pupil data."
   ]
  },
  {
   "cell_type": "code",
   "execution_count": null,
   "id": "bc1ac8b5",
   "metadata": {
    "id": "de9f2594"
   },
   "outputs": [],
   "source": [
    "df_20_EYE.head()"
   ]
  },
  {
   "cell_type": "code",
   "execution_count": null,
   "id": "fb3f3892",
   "metadata": {
    "id": "bfa2e174"
   },
   "outputs": [],
   "source": [
    "# Select only the numeric columns for plotting histograms, excluding time-related columns\n",
    "numeric_cols = df_20_EYE.select_dtypes(include=np.number).columns\n",
    "cols_to_plot = [col for col in numeric_cols if col not in ['UnixTime']]\n",
    "\n",
    "# Calculate the number of rows and columns for the grid\n",
    "n_cols = 4  # You can adjust the number of columns as needed\n",
    "n_rows = (len(cols_to_plot) + n_cols - 1) // n_cols\n",
    "\n",
    "plt.figure(figsize=(n_cols * 5, n_rows * 4)) # Adjust figure size as needed\n",
    "\n",
    "for i, col in enumerate(cols_to_plot):\n",
    "    plt.subplot(n_rows, n_cols, i + 1)\n",
    "    sns.histplot(df_20_EYE[col], kde=True)\n",
    "    plt.title(f'Distribution of {col}')\n",
    "    plt.xlabel(col)\n",
    "    plt.ylabel('Frequency')\n",
    "\n",
    "plt.tight_layout()\n",
    "plt.show()"
   ]
  },
  {
   "cell_type": "markdown",
   "id": "f5789c22",
   "metadata": {
    "id": "8059766d"
   },
   "source": [
    "# Observations from Histograms\n",
    "\n",
    "The grid of histograms provides insights into the distribution of values for each numeric column in the dataset (excluding 'UnixTime'). Key observations include:\n",
    "\n",
    "- Several columns, such as `ET_GazeLeftx`, `ET_GazeLefty`, `ET_GazeRightx`, and `ET_GazeRighty`, show distributions that appear somewhat multimodal or skewed, suggesting variations in gaze patterns.\n",
    "- The `ET_PupilLeft` and `ET_PupilRight` histograms clearly show a peak at -1, confirming the presence of a significant number of invalid pupil readings.\n",
    "- `ET_TimeSignal` shows a relatively uniform distribution, as expected for a time-based signal.\n",
    "- `ET_DistanceLeft` and `ET_DistanceRight` appear to have distributions centered around certain values, with some outliers or variations.\n",
    "- The camera position columns (`ET_CameraLeftX`, `ET_CameraLeftY`, `ET_CameraRightX`, `ET_CameraRightY`) seem to have distributions concentrated within specific ranges, reflecting the camera's field of view.\n",
    "- The validity columns (`ET_ValidityLeft`, `ET_ValidityRight`, `ET_PupilLeft_validity`, `ET_PupilRight_validity`) show distributions dominated by 0, indicating that most of the data is considered valid after the mapping. The smaller peaks at 1 represent the instances of invalid data.\n",
    "\n",
    "These distributions highlight the need for appropriate handling of the -1 values and potential outliers in subsequent analysis or modeling steps."
   ]
  },
  {
   "cell_type": "code",
   "execution_count": null,
   "id": "29736e82",
   "metadata": {
    "id": "cb65ae1e"
   },
   "outputs": [],
   "source": [
    "df_20_EYE.columns"
   ]
  },
  {
   "cell_type": "code",
   "execution_count": null,
   "id": "d2944d89",
   "metadata": {
    "id": "8cf2280c"
   },
   "outputs": [],
   "source": [
    "cols = ['ET_GazeLeftx', 'ET_GazeLefty',\n",
    "       'ET_GazeRightx', 'ET_GazeRighty', 'ET_PupilLeft', 'ET_PupilRight',\n",
    "       'ET_TimeSignal', 'ET_DistanceLeft', 'ET_DistanceRight',\n",
    "       'ET_CameraLeftX', 'ET_CameraLeftY', 'ET_CameraRightX',\n",
    "       'ET_CameraRightY', 'ET_ValidityLeft', 'ET_ValidityRight',\n",
    "       'ET_PupilLeft_validity', 'ET_PupilRight_validity']"
   ]
  },
  {
   "cell_type": "code",
   "execution_count": null,
   "id": "ccbd1362",
   "metadata": {
    "id": "85e45ea9"
   },
   "outputs": [],
   "source": [
    "from IPython.display import display, Markdown\n",
    "\n",
    "for col in cols:\n",
    "    # Add a markdown cell before each plot for better separation and labeling\n",
    "    display(Markdown(f'### {col} over Time'))\n",
    "    plt.figure(figsize=(16, 10))\n",
    "    plt.plot(df_20_EYE['Timestamp'], df_20_EYE[col])\n",
    "    plt.xlabel(\"Timestamp\") # Add x-axis label\n",
    "    plt.ylabel(col) # Add y-axis label\n",
    "    plt.show()"
   ]
  },
  {
   "cell_type": "markdown",
   "id": "b0ea7047",
   "metadata": {
    "id": "f7ffd08f"
   },
   "source": [
    "# Observations from Time Series Plots\n",
    "\n",
    "The line plots showing various features against the `Timestamp` reveal the temporal patterns and fluctuations in the eye-tracking data. Key observations include:\n",
    "\n",
    "- **Gaze Coordinates (`ET_GazeLeftx`, `ET_GazeLefty`, `ET_GazeRightx`, `ET_GazeRighty`):** These plots show the changes in gaze position over time. We can observe periods of relatively stable gaze interspersed with rapid movements (saccades) and blinks or other events where the gaze data might be invalid (-1 values appear as gaps or spikes if not handled).\n",
    "- **Pupil Size (`ET_PupilLeft`, `ET_PupilRight`):** The pupil size plots show variations over time. The presence of many -1 values is evident as flat lines at the bottom of the plot, indicating periods where pupil data was not recorded or was invalid.\n",
    "- **Time Signal (`ET_TimeSignal`):** This plot shows a steady, increasing trend, as expected for a time-based signal.\n",
    "- **Distance and Camera Position (`ET_DistanceLeft`, `ET_DistanceRight`, `ET_CameraLeftX`, `ET_CameraLeftY`, `ET_CameraRightX`, `ET_CameraRightY`):** These plots show how the distance from the eye tracker and the camera positions change over time. Variations in these features can be related to head movements or changes in the user's position relative to the eye tracker.\n",
    "- **Validity (`ET_ValidityLeft`, `ET_ValidityRight`, `ET_PupilLeft_validity`, `ET_PupilRight_validity`):** These plots clearly show periods of invalid data (represented by 1) as spikes or plateaus, corresponding to instances where the eye tracker lost track of the eyes or the pupil data was marked as invalid.\n",
    "\n",
    "Analyzing these time series plots is crucial for understanding the dynamics of the eye-tracking data and identifying patterns or anomalies that may require further investigation or specific handling during subsequent analysis."
   ]
  },
  {
   "cell_type": "code",
   "execution_count": null,
   "id": "578cfa8d",
   "metadata": {
    "id": "cdd85f8c"
   },
   "outputs": [],
   "source": [
    "# Select only the numeric columns for plotting histograms, excluding time-related columns\n",
    "numeric_cols = df_20_EYE.select_dtypes(include=np.number).columns\n",
    "\n",
    "# Calculate the number of rows and columns for the grid\n",
    "n_cols = 4  # You can adjust the number of columns as needed\n",
    "n_rows = (len(numeric_cols) + n_cols - 1) // n_cols\n",
    "\n",
    "plt.figure(figsize=(n_cols * 5, n_rows * 4)) # Adjust figure size as needed\n",
    "\n",
    "for i, col in enumerate(numeric_cols):\n",
    "    plt.subplot(n_rows, n_cols, i + 1)\n",
    "    sns.boxplot(df_20_EYE[col])\n",
    "    plt.title(f'Boxplot of {col}')\n",
    "    plt.xlabel(col)\n",
    "\n",
    "plt.tight_layout()\n",
    "plt.show()"
   ]
  },
  {
   "cell_type": "markdown",
   "id": "21f27d9a",
   "metadata": {
    "id": "2cca19c5"
   },
   "source": [
    "# Observations from Boxplots and Handling -1 Values\n",
    "\n",
    "The boxplots provide a visual summary of the distribution and potential outliers for each numeric column. Key observations from the boxplots include:\n",
    "\n",
    "- The boxplots for columns like `ET_GazeLeftx`, `ET_GazeLefty`, `ET_GazeRightx`, `ET_GazeRighty`, `ET_PupilLeft`, `ET_PupilRight`, `ET_DistanceLeft`, `ET_DistanceRight`, `ET_CameraLeftX`, `ET_CameraLeftY`, `ET_CameraRightX`, and `ET_CameraRightY` clearly show the presence of -1 values as significant outliers, confirming our earlier observations from the heatmaps and histograms.\n",
    "- The boxplots for the validity columns (`ET_ValidityLeft`, `ET_ValidityRight`, `ET_PupilLeft_validity`, `ET_PupilRight_validity`) show the discrete nature of these features, with the majority of data points at 0 (valid) and a smaller number at 1 (invalid).\n",
    "\n",
    "Given the significant presence of -1 values, which represent invalid or missing data, especially in the pupil-related columns, we have decided to replace these -1 values with NaN to properly represent them as missing data. Subsequently, we will impute these missing values using the mean of each respective column. This approach helps to retain the data structure and allows for further analysis or modeling without the distortion caused by the -1 placeholders."
   ]
  },
  {
   "cell_type": "code",
   "execution_count": null,
   "id": "a1edc5e8",
   "metadata": {
    "id": "9217371b"
   },
   "outputs": [],
   "source": [
    "df_20_EYE.replace({-1: np.nan}, inplace=True)"
   ]
  },
  {
   "cell_type": "code",
   "execution_count": null,
   "id": "86a68e26",
   "metadata": {
    "id": "8108fa01"
   },
   "outputs": [],
   "source": [
    "df_20_EYE[['ET_GazeLeftx', 'ET_GazeLefty',\n",
    "       'ET_GazeRightx', 'ET_GazeRighty', 'ET_PupilLeft', 'ET_PupilRight',\n",
    "       'ET_TimeSignal', 'ET_DistanceLeft', 'ET_DistanceRight',\n",
    "       'ET_CameraLeftX', 'ET_CameraLeftY', 'ET_CameraRightX',\n",
    "       'ET_CameraRightY', 'ET_ValidityLeft', 'ET_ValidityRight',\n",
    "       'ET_PupilLeft_validity', 'ET_PupilRight_validity']].mean()"
   ]
  },
  {
   "cell_type": "code",
   "execution_count": null,
   "id": "e6b61bde",
   "metadata": {
    "id": "9b94fbce"
   },
   "outputs": [],
   "source": [
    "df_20_EYE[['ET_GazeLeftx', 'ET_GazeLefty',\n",
    "       'ET_GazeRightx', 'ET_GazeRighty', 'ET_PupilLeft', 'ET_PupilRight',\n",
    "       'ET_TimeSignal', 'ET_DistanceLeft', 'ET_DistanceRight',\n",
    "       'ET_CameraLeftX', 'ET_CameraLeftY', 'ET_CameraRightX',\n",
    "       'ET_CameraRightY', 'ET_ValidityLeft', 'ET_ValidityRight',\n",
    "       'ET_PupilLeft_validity', 'ET_PupilRight_validity']].median()"
   ]
  },
  {
   "cell_type": "code",
   "execution_count": null,
   "id": "0cb13bec",
   "metadata": {
    "id": "ee1238c8"
   },
   "outputs": [],
   "source": [
    "numeric_cols = df_20_EYE.select_dtypes(include=np.number).columns\n",
    "\n",
    "for col in numeric_cols:\n",
    "    df_20_EYE[col] = df_20_EYE[col].fillna(df_20_EYE[col].mean())"
   ]
  },
  {
   "cell_type": "code",
   "execution_count": null,
   "id": "8fde306a",
   "metadata": {
    "id": "b0bc522d"
   },
   "outputs": [],
   "source": [
    "plt.figure(figsize=(18, 8))\n",
    "\n",
    "plt.subplot(1, 2, 1)\n",
    "sns.heatmap(df_20_EYE.isnull(), cmap='viridis')\n",
    "plt.title('Heatmap of Missing Values After Imputation')\n",
    "\n",
    "plt.subplot(1, 2, 2)\n",
    "sns.heatmap(df_20_EYE == 1, cmap='viridis')\n",
    "plt.title('Heatmap of 1 Values')\n",
    "\n",
    "plt.tight_layout()\n",
    "plt.show()"
   ]
  },
  {
   "cell_type": "markdown",
   "id": "57916fb4",
   "metadata": {
    "id": "c0f1e10d"
   },
   "source": [
    "# Handling Missing Values (Imputation)\n",
    "\n",
    "As decided, we have replaced all the `-1` values with `NaN` to treat them as missing data. Subsequently, we have imputed these `NaN` values with the mean of their respective columns. The heatmap above, which was generated after the imputation, now shows no visible signs of `NaN` values, indicating that the imputation was successful."
   ]
  },
  {
   "cell_type": "code",
   "execution_count": null,
   "id": "d4bfe93c",
   "metadata": {
    "id": "2491c1da"
   },
   "outputs": [],
   "source": [
    "df_20_EYE.head()"
   ]
  },
  {
   "cell_type": "code",
   "execution_count": null,
   "id": "2aa13400",
   "metadata": {
    "id": "64f04350"
   },
   "outputs": [],
   "source": [
    "# Select only the numeric columns for plotting histograms, excluding time-related columns\n",
    "numeric_cols = df_20_EYE.select_dtypes(include=np.number).columns\n",
    "cols_to_plot = [col for col in numeric_cols if col not in ['UnixTime']]\n",
    "\n",
    "# Calculate the number of rows and columns for the grid\n",
    "n_cols = 4  # You can adjust the number of columns as needed\n",
    "n_rows = (len(cols_to_plot) + n_cols - 1) // n_cols\n",
    "\n",
    "plt.figure(figsize=(n_cols * 5, n_rows * 4)) # Adjust figure size as needed\n",
    "\n",
    "for i, col in enumerate(cols_to_plot):\n",
    "    plt.subplot(n_rows, n_cols, i + 1)\n",
    "    sns.histplot(df_20_EYE[col], kde=True)\n",
    "    plt.title(f'Distribution of {col}')\n",
    "    plt.xlabel(col)\n",
    "    plt.ylabel('Frequency')\n",
    "\n",
    "plt.tight_layout()\n",
    "plt.show()"
   ]
  },
  {
   "cell_type": "markdown",
   "id": "60955439",
   "metadata": {
    "id": "e0c83f1c"
   },
   "source": [
    "# Observations from Histograms After Imputation\n",
    "\n",
    "The histograms generated after replacing the -1 values with the mean of each column show the distributions of the numeric features with the missing data handled. Key observations from these updated histograms include:\n",
    "\n",
    "- The distinct peaks at -1, which were prominent in the histograms for several columns (e.g., pupil size, gaze coordinates, distance, and camera position) before imputation, are now replaced by a peak at the mean of each respective column.\n",
    "- The distributions in many columns now appear more unimodal or show shifted modes compared to the original histograms.\n",
    "- The histograms for the validity columns still show their bimodal distributions with peaks at 0 and 1, as these were handled separately.\n",
    "\n",
    "These histograms provide an updated view of the data's distribution after handling the missing values, highlighting the impact of the imputation method on the data's characteristics."
   ]
  },
  {
   "cell_type": "code",
   "execution_count": null,
   "id": "06ec38f3",
   "metadata": {
    "id": "de0b2f65"
   },
   "outputs": [],
   "source": [
    "cols = ['ET_GazeLeftx', 'ET_GazeLefty',\n",
    "       'ET_GazeRightx', 'ET_GazeRighty', 'ET_PupilLeft', 'ET_PupilRight',\n",
    "       'ET_TimeSignal', 'ET_DistanceLeft', 'ET_DistanceRight',\n",
    "       'ET_CameraLeftX', 'ET_CameraLeftY', 'ET_CameraRightX',\n",
    "       'ET_CameraRightY', 'ET_ValidityLeft', 'ET_ValidityRight',\n",
    "       'ET_PupilLeft_validity', 'ET_PupilRight_validity']"
   ]
  },
  {
   "cell_type": "code",
   "execution_count": null,
   "id": "d0f009ab",
   "metadata": {
    "id": "4ddd4915"
   },
   "outputs": [],
   "source": [
    "for col in cols:\n",
    "    # Add a markdown cell before each plot for better separation and labeling\n",
    "    display(Markdown(f'### {col} over Time'))\n",
    "    plt.figure(figsize=(16, 10))\n",
    "    plt.plot(df_20_EYE['Timestamp'], df_20_EYE[col])\n",
    "    plt.xlabel(\"Timestamp\") # Add x-axis label\n",
    "    plt.ylabel(col) # Add y-axis label\n",
    "    plt.show()"
   ]
  },
  {
   "cell_type": "markdown",
   "id": "357e9fae",
   "metadata": {
    "id": "0fb07abb"
   },
   "source": [
    "# Observations from Time Series Plots After Imputation\n",
    "\n",
    "The line plots generated after imputing the missing values with the mean show the temporal patterns of the features with the missing data handled. Key observations from these updated plots include:\n",
    "\n",
    "- The gaps or flat lines at -1, which were prominent in the plots for columns like gaze coordinates, pupil size, distance, and camera position, are now filled by lines at the mean value of the respective columns.\n",
    "- The plots for the validity columns remain the same as they were handled separately.\n",
    "- The `ET_TimeSignal` plot still shows a steady increasing trend, as expected."
   ]
  },
  {
   "cell_type": "code",
   "execution_count": null,
   "id": "a3c39adc",
   "metadata": {
    "id": "c608fd95"
   },
   "outputs": [],
   "source": [
    "plt.figure(figsize=(16, 10))\n",
    "sns.heatmap(df_20_EYE.corr(numeric_only=True), cmap='YlGnBu', annot=True)\n",
    "plt.show()"
   ]
  },
  {
   "cell_type": "markdown",
   "id": "1ef72e1b",
   "metadata": {
    "id": "82405ba6"
   },
   "source": [
    "# Observations from Correlation Heatmap\n",
    "\n",
    "The correlation heatmap provides a visual representation of the pairwise correlations between the numeric columns in the dataset. Key observations from the heatmap include:\n",
    "\n",
    "- **High Positive Correlations:** We observe strong positive correlations (values close to 1) between:\n",
    "  - `ET_GazeLeftx` and `ET_GazeRightx`: This is expected as the gaze positions of both eyes should be highly correlated when fixating on a point.\n",
    "  - `ET_GazeLefty` and `ET_GazeRighty`: Similar to the x-coordinates, the y-coordinates of gaze should also be highly correlated.\n",
    "  - `ET_PupilLeft` and `ET_PupilRight`: Pupil sizes of both eyes tend to change together in response to light and cognitive load.\n",
    "  - `ET_DistanceLeft` and `ET_DistanceRight`: The distance from the eye tracker to each eye should be highly correlated.\n",
    "  - `ET_CameraLeftX` and `ET_CameraRightX`, `ET_CameraLeftY` and `ET_CameraRightY`: The camera positions for both eyes are also expected to be highly correlated.\n",
    "  - `UnixTime` and `ET_TimeSignal`: As previously noted, these two columns are almost perfectly linearly correlated, indicating redundancy.\n",
    "  - `ET_ValidityLeft` and `ET_PupilLeft_validity`: There is a positive correlation, suggesting that when the overall left eye data is invalid, the left pupil data is also likely to be invalid.\n",
    "  - `ET_ValidityRight` and `ET_PupilRight_validity`: Similar to the left eye, there is a positive correlation between the overall right eye validity and the right pupil validity.\n",
    "- **Other Correlations:** We can also observe other varying degrees of correlations between different features, which can provide insights into the relationships between gaze behavior, pupil size, distance, and camera position. For example, there might be correlations between gaze coordinates and camera positions, reflecting head movements.\n",
    "- **Low or Near-Zero Correlations:** Columns with low or near-zero correlations are relatively independent of each other.\n",
    "\n",
    "Understanding these correlations is important for feature selection and for building models, as highly correlated features might indicate multicollinearity, while correlations between features can reveal underlying patterns in the data."
   ]
  },
  {
   "cell_type": "markdown",
   "id": "b1db397c",
   "metadata": {
    "id": "1c413c3b"
   },
   "source": [
    "# Analysis of ET_TimeSignal and Decision to Drop\n",
    "\n",
    "As observed in the time series plot and confirmed by the correlation heatmap, the `ET_TimeSignal` column exhibits a near-perfect linear relationship with both the `Timestamp` and `UnixTime` columns. This strong correlation (close to 1) suggests that `ET_TimeSignal` is essentially redundant and likely represents another form of time recording or a signal directly derived from the timestamp.\n",
    "\n",
    "Including highly correlated features like this in a dataset can lead to issues such as multicollinearity in some statistical models, which can make it difficult to interpret the individual impact of each feature. Since the `Timestamp` column already provides the necessary temporal information, retaining `ET_TimeSignal` does not appear to add significant value for further analysis or modeling in most cases.\n",
    "\n",
    "Therefore, based on its high correlation and lack of unique insight, we will proceed to drop the `ET_TimeSignal` column to simplify the dataset and potentially improve the performance and interpretability of future analyses."
   ]
  },
  {
   "cell_type": "code",
   "execution_count": null,
   "id": "9e4b1302",
   "metadata": {
    "id": "7c96e349"
   },
   "outputs": [],
   "source": [
    "df_20_EYE.drop('ET_TimeSignal', axis=1, inplace=True)"
   ]
  },
  {
   "cell_type": "code",
   "execution_count": null,
   "id": "413f6db2",
   "metadata": {
    "id": "5845a61d"
   },
   "outputs": [],
   "source": [
    "plt.figure(figsize=(16, 10))\n",
    "sns.pairplot(df_20_EYE)\n",
    "plt.show()"
   ]
  }
 ],
 "metadata": {
  "colab": {
   "provenance": []
  },
  "kernelspec": {
   "display_name": "Python 3 (ipykernel)",
   "language": "python",
   "name": "python3"
  },
  "language_info": {
   "codemirror_mode": {
    "name": "ipython",
    "version": 3
   },
   "file_extension": ".py",
   "mimetype": "text/x-python",
   "name": "python",
   "nbconvert_exporter": "python",
   "pygments_lexer": "ipython3",
   "version": "3.12.3"
  }
 },
 "nbformat": 4,
 "nbformat_minor": 5
}
