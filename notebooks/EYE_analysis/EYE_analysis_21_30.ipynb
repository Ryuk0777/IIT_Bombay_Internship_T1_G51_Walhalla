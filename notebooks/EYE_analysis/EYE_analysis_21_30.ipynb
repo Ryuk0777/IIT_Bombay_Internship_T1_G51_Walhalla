{
 "cells": [
  {
   "cell_type": "markdown",
   "id": "b1e90204",
   "metadata": {},
   "source": [
    "## Student 21"
   ]
  },
  {
   "cell_type": "code",
   "execution_count": null,
   "id": "e1c209e7",
   "metadata": {},
   "outputs": [],
   "source": [
    "%load_ext cudf"
   ]
  },
  {
   "cell_type": "code",
   "execution_count": null,
   "id": "79c428d3",
   "metadata": {},
   "outputs": [],
   "source": [
    "import numpy as np\n",
    "import pandas as pd\n",
    "import matplotlib.pyplot as plt\n",
    "import seaborn as sns"
   ]
  },
  {
   "cell_type": "code",
   "execution_count": null,
   "id": "a85faa64",
   "metadata": {},
   "outputs": [],
   "source": [
    "import datashader as ds\n",
    "import datashader.transfer_functions as tf"
   ]
  },
  {
   "cell_type": "code",
   "execution_count": null,
   "id": "7ebb37cc",
   "metadata": {},
   "outputs": [],
   "source": [
    "pd.set_option('display.max_columns', None)"
   ]
  },
  {
   "cell_type": "code",
   "execution_count": null,
   "id": "568e630b",
   "metadata": {},
   "outputs": [],
   "source": [
    "df_21_EYE = pd.read_csv('data/STData/21/21_EYE.csv')"
   ]
  },
  {
   "cell_type": "code",
   "execution_count": null,
   "id": "4bcb971c",
   "metadata": {},
   "outputs": [],
   "source": [
    "df_21_EYE.head()"
   ]
  },
  {
   "cell_type": "code",
   "execution_count": null,
   "id": "edbb0d98",
   "metadata": {},
   "outputs": [],
   "source": [
    "df_21_EYE.shape"
   ]
  },
  {
   "cell_type": "code",
   "execution_count": null,
   "id": "108f1330",
   "metadata": {},
   "outputs": [],
   "source": [
    "df_21_EYE.columns"
   ]
  },
  {
   "cell_type": "code",
   "execution_count": null,
   "id": "2973d9ae",
   "metadata": {},
   "outputs": [],
   "source": [
    "df_21_EYE.info()"
   ]
  },
  {
   "cell_type": "code",
   "execution_count": null,
   "id": "5a292460",
   "metadata": {},
   "outputs": [],
   "source": [
    "df_21_EYE.isnull().sum()"
   ]
  },
  {
   "cell_type": "code",
   "execution_count": null,
   "id": "9e45dcb1",
   "metadata": {},
   "outputs": [],
   "source": [
    "plt.figure(figsize=(12,8))\n",
    "sns.heatmap(df_21_EYE.isnull(), cmap='viridis')\n",
    "plt.show()"
   ]
  },
  {
   "cell_type": "markdown",
   "id": "4faf48b9",
   "metadata": {},
   "source": [
    "# Notes & Observations\n",
    "\n",
    "- We observe many **null** (or missing) values in the `QuestionKey` columns.  \n",
    "- The nulls in the `QuestionKey` column may not represent “true” nulls. Rather, they follow interval patterns, suggesting that during those periods no question was displayed.  \n",
    "- These missing values in `QuestionKey` require additional investigation and context-aware handling.  "
   ]
  },
  {
   "cell_type": "code",
   "execution_count": null,
   "id": "bd2152db",
   "metadata": {},
   "outputs": [],
   "source": [
    "df_21_EYE['QuestionKey'].unique()"
   ]
  },
  {
   "cell_type": "code",
   "execution_count": null,
   "id": "1726e648",
   "metadata": {},
   "outputs": [],
   "source": [
    "df_21_EYE['Timestamp'] = pd.to_datetime(df_21_EYE['Timestamp'])"
   ]
  },
  {
   "cell_type": "code",
   "execution_count": null,
   "id": "15e8af48",
   "metadata": {},
   "outputs": [],
   "source": [
    "df_21_EYE.head(3)"
   ]
  },
  {
   "cell_type": "code",
   "execution_count": null,
   "id": "3abfba1e",
   "metadata": {},
   "outputs": [],
   "source": [
    "df_21_EYE['QuestionKey'].fillna('None', inplace=True)"
   ]
  },
  {
   "cell_type": "code",
   "execution_count": null,
   "id": "e869e2a0",
   "metadata": {},
   "outputs": [],
   "source": [
    "df_21_EYE['QuestionKey'].value_counts()"
   ]
  },
  {
   "cell_type": "code",
   "execution_count": null,
   "id": "61302a4b",
   "metadata": {},
   "outputs": [],
   "source": [
    "plt.figure(figsize=(12,8))\n",
    "sns.heatmap(df_21_EYE.isnull(), cmap='viridis')\n",
    "plt.show()"
   ]
  },
  {
   "cell_type": "code",
   "execution_count": null,
   "id": "96677a88",
   "metadata": {},
   "outputs": [],
   "source": [
    "df_21_EYE.isnull().sum()"
   ]
  },
  {
   "cell_type": "code",
   "execution_count": null,
   "id": "5412cfd9",
   "metadata": {},
   "outputs": [],
   "source": [
    "df_21_EYE.dropna(inplace=True)"
   ]
  },
  {
   "cell_type": "code",
   "execution_count": null,
   "id": "f88c7a98",
   "metadata": {},
   "outputs": [],
   "source": [
    "df_21_EYE.head()"
   ]
  },
  {
   "cell_type": "code",
   "execution_count": null,
   "id": "8d530d6c",
   "metadata": {},
   "outputs": [],
   "source": [
    "df_21_EYE['Row'].unique()"
   ]
  },
  {
   "cell_type": "code",
   "execution_count": null,
   "id": "44ca4f11",
   "metadata": {},
   "outputs": [],
   "source": [
    "plt.figure(figsize=(8,6))\n",
    "sns.histplot(df_21_EYE['Row'])\n",
    "plt.show()"
   ]
  },
  {
   "cell_type": "markdown",
   "id": "3a77f0cd",
   "metadata": {},
   "source": [
    "# Notes & Observations\n",
    "\n",
    "- The `Row` column appears to be a simple row index and does not provide meaningful information relevant to the eye-tracking data itself. Therefore, it can be dropped."
   ]
  },
  {
   "cell_type": "code",
   "execution_count": null,
   "id": "9589e716",
   "metadata": {},
   "outputs": [],
   "source": [
    "df_21_EYE.drop('Row', axis=1, inplace=True)"
   ]
  },
  {
   "cell_type": "code",
   "execution_count": null,
   "id": "ea246dcf",
   "metadata": {},
   "outputs": [],
   "source": [
    "df_21_EYE['ET_ValidityLeft'].unique()"
   ]
  },
  {
   "cell_type": "code",
   "execution_count": null,
   "id": "1d4d9de0",
   "metadata": {},
   "outputs": [],
   "source": [
    "df_21_EYE['ET_ValidityLeft'].value_counts()"
   ]
  },
  {
   "cell_type": "code",
   "execution_count": null,
   "id": "9413463b",
   "metadata": {},
   "outputs": [],
   "source": [
    "df_21_EYE['ET_ValidityRight'].unique()"
   ]
  },
  {
   "cell_type": "code",
   "execution_count": null,
   "id": "5ae7edcb",
   "metadata": {},
   "outputs": [],
   "source": [
    "df_21_EYE['ET_ValidityRight'].value_counts()"
   ]
  },
  {
   "cell_type": "code",
   "execution_count": null,
   "id": "10d99ec4",
   "metadata": {},
   "outputs": [],
   "source": [
    "plt.figure(figsize=(12, 6))\n",
    "\n",
    "plt.subplot(1, 2, 1)\n",
    "sns.barplot(x=df_21_EYE['ET_ValidityLeft'].value_counts().index, y=df_21_EYE['ET_ValidityLeft'].value_counts().values)\n",
    "plt.title('Count of ET_ValidityLeft')\n",
    "plt.xlabel('Validity')\n",
    "plt.ylabel('Count')\n",
    "\n",
    "\n",
    "plt.subplot(1, 2, 2)\n",
    "sns.barplot(x=df_21_EYE['ET_ValidityRight'].value_counts().index, y=df_21_EYE['ET_ValidityRight'].value_counts().values)\n",
    "plt.title('Count of ET_ValidityRight')\n",
    "plt.xlabel('Validity')\n",
    "plt.ylabel('Count')\n",
    "\n",
    "plt.tight_layout()\n",
    "plt.show()"
   ]
  },
  {
   "cell_type": "markdown",
   "id": "f0ecab5a",
   "metadata": {},
   "source": [
    "# Notes & Observations\n",
    "\n",
    "- The `ET_ValidityLeft` and `ET_ValidityRight` columns indicate the validity of the eye-tracking data for the left and right eye, respectively.\n",
    "- Based on the value counts and the bar plots, it appears that a value of `0.0` represents valid eye-tracking data, while a value of `4.0` represents invalid data.\n",
    "- Although the amount of invalid data is relatively small, removing these rows could introduce unwanted patterns or gaps in the time series data.\n",
    "- Therefore, we will keep the data and replace the value `4.0` with `1.0` in both `ET_ValidityLeft` and `ET_ValidityRight` columns. This will indicate to a machine learning model that the eye tracker had invalid data at those specific points in time while maintaining the integrity of the time series."
   ]
  },
  {
   "cell_type": "code",
   "execution_count": null,
   "id": "b88f2dbf",
   "metadata": {},
   "outputs": [],
   "source": [
    "validity_map = {4.0: 1.0, 0.0: 0.0}"
   ]
  },
  {
   "cell_type": "code",
   "execution_count": null,
   "id": "d2e4c848",
   "metadata": {},
   "outputs": [],
   "source": [
    "df_21_EYE['ET_ValidityLeft'] = df_21_EYE['ET_ValidityLeft'].map(validity_map).astype(np.int8)\n",
    "df_21_EYE['ET_ValidityRight'] = df_21_EYE['ET_ValidityRight'].map(validity_map).astype(np.int8)"
   ]
  },
  {
   "cell_type": "code",
   "execution_count": null,
   "id": "36d1370f",
   "metadata": {},
   "outputs": [],
   "source": [
    "df_21_EYE.head(3)"
   ]
  },
  {
   "cell_type": "code",
   "execution_count": null,
   "id": "0704201e",
   "metadata": {},
   "outputs": [],
   "source": [
    "df_21_EYE.describe()"
   ]
  },
  {
   "cell_type": "code",
   "execution_count": null,
   "id": "0a787f17",
   "metadata": {},
   "outputs": [],
   "source": [
    "df_21_EYE[df_21_EYE['ET_ValidityLeft'] == 1].shape"
   ]
  },
  {
   "cell_type": "code",
   "execution_count": null,
   "id": "e89a42f5",
   "metadata": {},
   "outputs": [],
   "source": [
    "df_21_EYE[df_21_EYE['ET_ValidityRight'] == 1].shape"
   ]
  },
  {
   "cell_type": "code",
   "execution_count": null,
   "id": "ca41b0ac",
   "metadata": {},
   "outputs": [],
   "source": [
    "plt.figure(figsize=(18, 8))\n",
    "\n",
    "plt.subplot(1, 2, 1)\n",
    "sns.heatmap(df_21_EYE == -1, cmap='viridis')\n",
    "plt.title('Heatmap of -1 Values')\n",
    "\n",
    "plt.subplot(1, 2, 2)\n",
    "sns.heatmap(df_21_EYE == 1, cmap='viridis')\n",
    "plt.title('Heatmap of 1 Values')\n",
    "\n",
    "plt.tight_layout()\n",
    "plt.show()"
   ]
  },
  {
   "cell_type": "code",
   "execution_count": null,
   "id": "8705829e",
   "metadata": {},
   "outputs": [],
   "source": [
    "df_21_EYE[df_21_EYE['ET_PupilLeft'] == -1].shape"
   ]
  },
  {
   "cell_type": "code",
   "execution_count": null,
   "id": "ea5bc6f4",
   "metadata": {},
   "outputs": [],
   "source": [
    "df_21_EYE[df_21_EYE['ET_PupilRight'] == -1].shape"
   ]
  },
  {
   "cell_type": "code",
   "execution_count": null,
   "id": "595600ff",
   "metadata": {},
   "outputs": [],
   "source": [
    "df_21_EYE[df_21_EYE['ET_PupilLeft'] == -1].shape[0] / df_21_EYE.shape[0]"
   ]
  },
  {
   "cell_type": "code",
   "execution_count": null,
   "id": "4d073196",
   "metadata": {},
   "outputs": [],
   "source": [
    "df_21_EYE[df_21_EYE['ET_PupilRight'] == -1].shape[0] / df_21_EYE.shape[0]"
   ]
  },
  {
   "cell_type": "code",
   "execution_count": null,
   "id": "acfbc3d5",
   "metadata": {},
   "outputs": [],
   "source": [
    "plt.figure(figsize=(18, 8))\n",
    "\n",
    "plt.subplot(1, 2, 1)\n",
    "sns.heatmap(df_21_EYE[df_21_EYE['ET_ValidityLeft'] == 1] == -1, cmap='viridis')\n",
    "plt.title('Heatmap of -1 Values')\n",
    "\n",
    "plt.subplot(1, 2, 2)\n",
    "sns.heatmap(df_21_EYE[df_21_EYE['ET_ValidityRight'] == 1] == -1, cmap='viridis')\n",
    "plt.title('Heatmap of -1 Values')\n",
    "\n",
    "plt.tight_layout()\n",
    "plt.show()"
   ]
  },
  {
   "cell_type": "markdown",
   "id": "dff4dc20",
   "metadata": {},
   "source": [
    "# Notes & Observations\n",
    "\n",
    "- The heatmaps reveal the distribution of -1 values across different columns.\n",
    "- It is evident that the `-1` values are not randomly scattered but appear in specific columns, notably `ET_GazeLeftx`, `ET_GazeLefty`, `ET_GazeRightx`, `ET_GazeRighty`, `ET_PupilLeft`, `ET_PupilRight`, `ET_DistanceLeft`, `ET_DistanceRight`, `ET_CameraLeftX`, `ET_CameraLeftY`, `ET_CameraRightX`, and `ET_CameraRightY`.\n",
    "- These `-1` values often coincide with instances where `ET_ValidityLeft` or `ET_ValidityRight` is 1, indicating invalid eye-tracking data. This suggests that `-1` is used as a placeholder for missing or invalid measurements in these columns when the eye tracker is not providing valid data for a particular eye.\n",
    "- Given that over 70% of the data in the `ET_PupilLeft` and `ET_PupilRight` columns is marked as invalid (-1), these columns may not be suitable for analysis and could be considered for dropping."
   ]
  },
  {
   "cell_type": "code",
   "execution_count": null,
   "id": "876c2e26",
   "metadata": {},
   "outputs": [],
   "source": [
    "df_21_EYE.drop(['ET_PupilLeft', 'ET_PupilRight'], axis=1, inplace=True)"
   ]
  },
  {
   "cell_type": "code",
   "execution_count": null,
   "id": "63787796",
   "metadata": {},
   "outputs": [],
   "source": [
    "df_21_EYE.head()"
   ]
  },
  {
   "cell_type": "code",
   "execution_count": null,
   "id": "e4f248ed",
   "metadata": {},
   "outputs": [],
   "source": [
    "plt.figure(figsize=(18, 8))\n",
    "\n",
    "plt.subplot(1, 2, 1)\n",
    "sns.heatmap(df_21_EYE == -1, cmap='viridis')\n",
    "plt.title('Heatmap of -1 Values')\n",
    "\n",
    "plt.subplot(1, 2, 2)\n",
    "sns.heatmap(df_21_EYE == 1, cmap='viridis')\n",
    "plt.title('Heatmap of -1 Values')\n",
    "\n",
    "plt.tight_layout()\n",
    "plt.show()"
   ]
  },
  {
   "cell_type": "code",
   "execution_count": null,
   "id": "95111a98",
   "metadata": {},
   "outputs": [],
   "source": [
    "valid_left_ratio  = 1 - df_21_EYE['ET_ValidityLeft'].mean()\n",
    "valid_right_ratio = 1 - df_21_EYE['ET_ValidityRight'].mean()"
   ]
  },
  {
   "cell_type": "code",
   "execution_count": null,
   "id": "1935abe9",
   "metadata": {},
   "outputs": [],
   "source": [
    "valid_left_ratio"
   ]
  },
  {
   "cell_type": "code",
   "execution_count": null,
   "id": "580db002",
   "metadata": {},
   "outputs": [],
   "source": [
    "valid_right_ratio"
   ]
  },
  {
   "cell_type": "code",
   "execution_count": null,
   "id": "1b71a47d",
   "metadata": {},
   "outputs": [],
   "source": [
    "df_21_EYE.head()"
   ]
  },
  {
   "cell_type": "code",
   "execution_count": null,
   "id": "26dd6a2c",
   "metadata": {},
   "outputs": [],
   "source": [
    "# Select only the numeric columns for plotting histograms, excluding time-related columns\n",
    "numeric_cols = df_21_EYE.select_dtypes(include=np.number).columns\n",
    "cols_to_plot = [col for col in numeric_cols if col not in ['UnixTime']]\n",
    "\n",
    "# Calculate the number of rows and columns for the grid\n",
    "n_cols = 4  # You can adjust the number of columns as needed\n",
    "n_rows = (len(cols_to_plot) + n_cols - 1) // n_cols\n",
    "\n",
    "plt.figure(figsize=(n_cols * 5, n_rows * 4)) # Adjust figure size as needed\n",
    "\n",
    "for i, col in enumerate(cols_to_plot):\n",
    "    plt.subplot(n_rows, n_cols, i + 1)\n",
    "    sns.histplot(df_21_EYE[col], kde=True)\n",
    "    plt.title(f'Distribution of {col}')\n",
    "    plt.xlabel(col)\n",
    "    plt.ylabel('Frequency')\n",
    "\n",
    "plt.tight_layout()\n",
    "plt.show()"
   ]
  },
  {
   "cell_type": "code",
   "execution_count": null,
   "id": "702e897f",
   "metadata": {},
   "outputs": [],
   "source": [
    "df_21_EYE.columns"
   ]
  },
  {
   "cell_type": "code",
   "execution_count": null,
   "id": "63215b78",
   "metadata": {},
   "outputs": [],
   "source": [
    "cols = ['ET_GazeLeftx', 'ET_GazeLefty',\n",
    "       'ET_GazeRightx', 'ET_GazeRighty', 'ET_TimeSignal', 'ET_DistanceLeft',\n",
    "       'ET_DistanceRight', 'ET_CameraLeftX', 'ET_CameraLeftY',\n",
    "       'ET_CameraRightX', 'ET_CameraRightY', 'ET_ValidityLeft',\n",
    "       'ET_ValidityRight']"
   ]
  },
  {
   "cell_type": "code",
   "execution_count": null,
   "id": "08196522",
   "metadata": {},
   "outputs": [],
   "source": [
    "from IPython.display import display, Markdown\n",
    "\n",
    "for col in cols:\n",
    "    # Add a markdown cell before each plot for better separation and labeling\n",
    "    display(Markdown(f'### {col} over Time'))\n",
    "    plt.figure(figsize=(16, 10))\n",
    "    plt.plot(df_21_EYE['Timestamp'], df_21_EYE[col])\n",
    "    plt.xlabel(\"Timestamp\") # Add x-axis label\n",
    "    plt.ylabel(col) # Add y-axis label\n",
    "    plt.show()"
   ]
  },
  {
   "cell_type": "code",
   "execution_count": null,
   "id": "e91e3a77",
   "metadata": {},
   "outputs": [],
   "source": [
    "# Select only the numeric columns for plotting histograms, excluding time-related columns\n",
    "numeric_cols = df_21_EYE.select_dtypes(include=np.number).columns\n",
    "\n",
    "# Calculate the number of rows and columns for the grid\n",
    "n_cols = 4  # You can adjust the number of columns as needed\n",
    "n_rows = (len(numeric_cols) + n_cols - 1) // n_cols\n",
    "\n",
    "plt.figure(figsize=(n_cols * 5, n_rows * 4)) # Adjust figure size as needed\n",
    "\n",
    "for i, col in enumerate(numeric_cols):\n",
    "    plt.subplot(n_rows, n_cols, i + 1)\n",
    "    sns.boxplot(df_21_EYE[col])\n",
    "    plt.title(f'Boxplot of {col}')\n",
    "    plt.xlabel(col)\n",
    "\n",
    "plt.tight_layout()\n",
    "plt.show()"
   ]
  },
  {
   "cell_type": "code",
   "execution_count": null,
   "id": "23ca08e6",
   "metadata": {},
   "outputs": [],
   "source": [
    "df_21_EYE.replace({-1: np.nan}, inplace=True)"
   ]
  },
  {
   "cell_type": "code",
   "execution_count": null,
   "id": "181fde59",
   "metadata": {},
   "outputs": [],
   "source": [
    "numeric_cols = df_21_EYE.select_dtypes(include=np.number).columns\n",
    "\n",
    "for col in numeric_cols:\n",
    "    df_21_EYE[col].fillna(df_21_EYE[col].mean(), inplace=True)"
   ]
  },
  {
   "cell_type": "code",
   "execution_count": null,
   "id": "69c94d12",
   "metadata": {},
   "outputs": [],
   "source": [
    "df_21_EYE.head()"
   ]
  },
  {
   "cell_type": "code",
   "execution_count": null,
   "id": "f63058f3",
   "metadata": {},
   "outputs": [],
   "source": [
    "# Select only the numeric columns for plotting histograms, excluding time-related columns\n",
    "numeric_cols = df_21_EYE.select_dtypes(include=np.number).columns\n",
    "cols_to_plot = [col for col in numeric_cols if col not in ['UnixTime']]\n",
    "\n",
    "# Calculate the number of rows and columns for the grid\n",
    "n_cols = 4  # You can adjust the number of columns as needed\n",
    "n_rows = (len(cols_to_plot) + n_cols - 1) // n_cols\n",
    "\n",
    "plt.figure(figsize=(n_cols * 5, n_rows * 4)) # Adjust figure size as needed\n",
    "\n",
    "for i, col in enumerate(cols_to_plot):\n",
    "    plt.subplot(n_rows, n_cols, i + 1)\n",
    "    sns.histplot(df_21_EYE[col], kde=True)\n",
    "    plt.title(f'Distribution of {col}')\n",
    "    plt.xlabel(col)\n",
    "    plt.ylabel('Frequency')\n",
    "\n",
    "plt.tight_layout()\n",
    "plt.show()"
   ]
  },
  {
   "cell_type": "code",
   "execution_count": null,
   "id": "fd43ba98",
   "metadata": {},
   "outputs": [],
   "source": []
  },
  {
   "cell_type": "code",
   "execution_count": null,
   "id": "8a860af1",
   "metadata": {},
   "outputs": [],
   "source": []
  },
  {
   "cell_type": "code",
   "execution_count": null,
   "id": "2b7dc84d",
   "metadata": {},
   "outputs": [],
   "source": []
  },
  {
   "cell_type": "code",
   "execution_count": null,
   "id": "a383316c",
   "metadata": {},
   "outputs": [],
   "source": []
  },
  {
   "cell_type": "code",
   "execution_count": null,
   "id": "791281b9",
   "metadata": {},
   "outputs": [],
   "source": []
  },
  {
   "cell_type": "code",
   "execution_count": null,
   "id": "4856d8e1",
   "metadata": {},
   "outputs": [],
   "source": []
  },
  {
   "cell_type": "code",
   "execution_count": null,
   "id": "08d309a9",
   "metadata": {},
   "outputs": [],
   "source": []
  },
  {
   "cell_type": "code",
   "execution_count": null,
   "id": "bc437ec5",
   "metadata": {},
   "outputs": [],
   "source": []
  },
  {
   "cell_type": "code",
   "execution_count": null,
   "id": "d46b9249",
   "metadata": {},
   "outputs": [],
   "source": []
  },
  {
   "cell_type": "code",
   "execution_count": null,
   "id": "d95094eb",
   "metadata": {},
   "outputs": [],
   "source": []
  },
  {
   "cell_type": "code",
   "execution_count": null,
   "id": "29f5401b",
   "metadata": {},
   "outputs": [],
   "source": []
  },
  {
   "cell_type": "code",
   "execution_count": null,
   "id": "d3f3ff56",
   "metadata": {},
   "outputs": [],
   "source": []
  },
  {
   "cell_type": "markdown",
   "id": "4cd911e0",
   "metadata": {},
   "source": [
    "# Eye Tracking Data Analysis\n",
    "\n",
    "This notebook performs exploratory data analysis and cleaning on eye-tracking data.\n",
    "\n",
    "## Data Loading and Initial Inspection"
   ]
  },
  {
   "cell_type": "code",
   "execution_count": null,
   "id": "c441da15",
   "metadata": {},
   "outputs": [],
   "source": [
    "%load_ext cudf"
   ]
  },
  {
   "cell_type": "markdown",
   "id": "f87dda9a",
   "metadata": {},
   "source": [
    "Import necessary libraries for data manipulation, analysis, and visualization."
   ]
  },
  {
   "cell_type": "code",
   "execution_count": null,
   "id": "675f903d",
   "metadata": {},
   "outputs": [],
   "source": [
    "import numpy as np\n",
    "import pandas as pd\n",
    "import matplotlib.pyplot as plt\n",
    "import seaborn as sns"
   ]
  },
  {
   "cell_type": "markdown",
   "id": "a37280f2",
   "metadata": {},
   "source": [
    "Import libraries for datashader, which can be used for visualizing large datasets."
   ]
  },
  {
   "cell_type": "code",
   "execution_count": null,
   "id": "ac68a806",
   "metadata": {},
   "outputs": [],
   "source": [
    "import datashader as ds\n",
    "import datashader.transfer_functions as tf"
   ]
  },
  {
   "cell_type": "markdown",
   "id": "cd392c2e",
   "metadata": {},
   "source": [
    "Set pandas display options to show all columns."
   ]
  },
  {
   "cell_type": "code",
   "execution_count": null,
   "id": "945caf28",
   "metadata": {},
   "outputs": [],
   "source": [
    "pd.set_option('display.max_columns', None)"
   ]
  },
  {
   "cell_type": "markdown",
   "id": "632ee279",
   "metadata": {},
   "source": [
    "Load the eye-tracking data from the specified CSV file into a pandas DataFrame."
   ]
  },
  {
   "cell_type": "code",
   "execution_count": null,
   "id": "df308e60",
   "metadata": {},
   "outputs": [],
   "source": [
    "df_21_EYE = pd.read_csv('data/STData/21/21_EYE.csv')"
   ]
  },
  {
   "cell_type": "markdown",
   "id": "f8280765",
   "metadata": {},
   "source": [
    "Display the first few rows of the DataFrame to get an initial look at the data structure and content."
   ]
  },
  {
   "cell_type": "code",
   "execution_count": null,
   "id": "e653f88a",
   "metadata": {},
   "outputs": [],
   "source": [
    "df_21_EYE.head()"
   ]
  },
  {
   "cell_type": "markdown",
   "id": "9a034fad",
   "metadata": {},
   "source": [
    "Check the dimensions (number of rows and columns) of the DataFrame."
   ]
  },
  {
   "cell_type": "code",
   "execution_count": null,
   "id": "39218f39",
   "metadata": {},
   "outputs": [],
   "source": [
    "df_21_EYE.shape"
   ]
  },
  {
   "cell_type": "markdown",
   "id": "2bb64290",
   "metadata": {},
   "source": [
    "List the names of all columns in the DataFrame."
   ]
  },
  {
   "cell_type": "code",
   "execution_count": null,
   "id": "e1294e42",
   "metadata": {},
   "outputs": [],
   "source": [
    "df_21_EYE.columns"
   ]
  },
  {
   "cell_type": "markdown",
   "id": "6f780d70",
   "metadata": {},
   "source": [
    "Display concise information about the DataFrame, including the data types of each column and the number of non-null values. This helps identify columns with missing data."
   ]
  },
  {
   "cell_type": "code",
   "execution_count": null,
   "id": "30de87fd",
   "metadata": {},
   "outputs": [],
   "source": [
    "df_21_EYE.info()"
   ]
  },
  {
   "cell_type": "markdown",
   "id": "0e24e2bb",
   "metadata": {},
   "source": [
    "Calculate and display the number of missing values in each column."
   ]
  },
  {
   "cell_type": "code",
   "execution_count": null,
   "id": "0472ef82",
   "metadata": {},
   "outputs": [],
   "source": [
    "df_21_EYE.isnull().sum()"
   ]
  },
  {
   "cell_type": "markdown",
   "id": "9f8471b5",
   "metadata": {},
   "source": [
    "Visualize the distribution of missing values using a heatmap. This provides a visual representation of which columns have missing data and the extent of missingness."
   ]
  },
  {
   "cell_type": "code",
   "execution_count": null,
   "id": "79f9cecf",
   "metadata": {},
   "outputs": [],
   "source": [
    "plt.figure(figsize=(12,8))\n",
    "sns.heatmap(df_21_EYE.isnull(), cmap='viridis')\n",
    "plt.show()"
   ]
  },
  {
   "cell_type": "markdown",
   "id": "e2692ad4",
   "metadata": {},
   "source": [
    "# Notes & Observations\n",
    "\n",
    "- We observe many **null** (or missing) values in the `QuestionKey` columns.\n",
    "- The nulls in the `QuestionKey` column may not represent “true” nulls. Rather, they follow interval patterns, suggesting that during those periods no question was displayed.\n",
    "- These missing values in `QuestionKey` require additional investigation and context-aware handling."
   ]
  },
  {
   "cell_type": "markdown",
   "id": "d91d8c9b",
   "metadata": {},
   "source": [
    "Display the unique values in the `QuestionKey` column to understand the different types of questions or states recorded."
   ]
  },
  {
   "cell_type": "code",
   "execution_count": null,
   "id": "2129da03",
   "metadata": {},
   "outputs": [],
   "source": [
    "df_21_EYE['QuestionKey'].unique()"
   ]
  },
  {
   "cell_type": "markdown",
   "id": "7311bd33",
   "metadata": {},
   "source": [
    "Convert the `Timestamp` column to datetime objects. This is crucial for any time series analysis or manipulation."
   ]
  },
  {
   "cell_type": "code",
   "execution_count": null,
   "id": "76e25023",
   "metadata": {},
   "outputs": [],
   "source": [
    "df_21_EYE['Timestamp'] = pd.to_datetime(df_21_EYE['Timestamp'])"
   ]
  },
  {
   "cell_type": "markdown",
   "id": "78231680",
   "metadata": {},
   "source": [
    "Display the first few rows again to see the effect of the timestamp conversion."
   ]
  },
  {
   "cell_type": "code",
   "execution_count": null,
   "id": "9ad50ad4",
   "metadata": {},
   "outputs": [],
   "source": [
    "df_21_EYE.head(3)"
   ]
  },
  {
   "cell_type": "markdown",
   "id": "03b01597",
   "metadata": {},
   "source": [
    "Fill the missing values in the `QuestionKey` column with the string 'None'. This helps to explicitly mark periods where no question was active."
   ]
  },
  {
   "cell_type": "code",
   "execution_count": null,
   "id": "12174e73",
   "metadata": {},
   "outputs": [],
   "source": [
    "df_21_EYE['QuestionKey'].fillna('None', inplace=True)"
   ]
  },
  {
   "cell_type": "markdown",
   "id": "f290185b",
   "metadata": {},
   "source": [
    "Count the occurrences of each unique value in the `QuestionKey` column after filling missing values."
   ]
  },
  {
   "cell_type": "code",
   "execution_count": null,
   "id": "21f98634",
   "metadata": {},
   "outputs": [],
   "source": [
    "df_21_EYE['QuestionKey'].value_counts()"
   ]
  },
  {
   "cell_type": "markdown",
   "id": "4adb5f7c",
   "metadata": {},
   "source": [
    "Display the heatmap of missing values again to confirm that the missing values in `QuestionKey` have been handled."
   ]
  },
  {
   "cell_type": "code",
   "execution_count": null,
   "id": "52eb7378",
   "metadata": {},
   "outputs": [],
   "source": [
    "plt.figure(figsize=(12,8))\n",
    "sns.heatmap(df_21_EYE.isnull(), cmap='viridis')\n",
    "plt.show()"
   ]
  },
  {
   "cell_type": "markdown",
   "id": "e59818ce",
   "metadata": {},
   "source": [
    "Recalculate and display the number of missing values per column to confirm the changes after handling `QuestionKey`."
   ]
  },
  {
   "cell_type": "code",
   "execution_count": null,
   "id": "0a76c89a",
   "metadata": {},
   "outputs": [],
   "source": [
    "df_21_EYE.isnull().sum()"
   ]
  },
  {
   "cell_type": "markdown",
   "id": "69d06ed8",
   "metadata": {},
   "source": [
    "Drop rows that still contain any missing values. This is done after handling `QuestionKey` separately."
   ]
  },
  {
   "cell_type": "code",
   "execution_count": null,
   "id": "edc64919",
   "metadata": {},
   "outputs": [],
   "source": [
    "df_21_EYE.dropna(inplace=True)"
   ]
  },
  {
   "cell_type": "markdown",
   "id": "81944807",
   "metadata": {},
   "source": [
    "Display the first few rows after dropping rows with missing values."
   ]
  },
  {
   "cell_type": "code",
   "execution_count": null,
   "id": "ed4af1c6",
   "metadata": {},
   "outputs": [],
   "source": [
    "df_21_EYE.head()"
   ]
  },
  {
   "cell_type": "markdown",
   "id": "881e3a74",
   "metadata": {},
   "source": [
    "Display the unique values in the `Row` column."
   ]
  },
  {
   "cell_type": "code",
   "execution_count": null,
   "id": "2b431621",
   "metadata": {},
   "outputs": [],
   "source": [
    "df_21_EYE['Row'].unique()"
   ]
  },
  {
   "cell_type": "markdown",
   "id": "ba73f99f",
   "metadata": {},
   "source": [
    "Plot a histogram of the `Row` column to visualize its distribution."
   ]
  },
  {
   "cell_type": "code",
   "execution_count": null,
   "id": "1148697d",
   "metadata": {},
   "outputs": [],
   "source": [
    "plt.figure(figsize=(8,6))\n",
    "sns.histplot(df_21_EYE['Row'])\n",
    "plt.show()"
   ]
  },
  {
   "cell_type": "markdown",
   "id": "38a7fcde",
   "metadata": {},
   "source": [
    "# Notes & Observations\n",
    "\n",
    "- The `Row` column appears to be a simple row index and does not provide meaningful information relevant to the eye-tracking data itself. Therefore, it can be dropped."
   ]
  },
  {
   "cell_type": "markdown",
   "id": "f2ec72ad",
   "metadata": {},
   "source": [
    "Drop the `Row` column as it is not relevant for the analysis."
   ]
  },
  {
   "cell_type": "code",
   "execution_count": null,
   "id": "4388b567",
   "metadata": {},
   "outputs": [],
   "source": [
    "df_21_EYE.drop('Row', axis=1, inplace=True)"
   ]
  },
  {
   "cell_type": "markdown",
   "id": "a677dcb8",
   "metadata": {},
   "source": [
    "Display the unique values in the `ET_ValidityLeft` column."
   ]
  },
  {
   "cell_type": "code",
   "execution_count": null,
   "id": "293e9e20",
   "metadata": {},
   "outputs": [],
   "source": [
    "df_21_EYE['ET_ValidityLeft'].unique()"
   ]
  },
  {
   "cell_type": "markdown",
   "id": "abf83b20",
   "metadata": {},
   "source": [
    "Count the occurrences of each unique value in the `ET_ValidityLeft` column."
   ]
  },
  {
   "cell_type": "code",
   "execution_count": null,
   "id": "c8ddfcec",
   "metadata": {},
   "outputs": [],
   "source": [
    "df_21_EYE['ET_ValidityLeft'].value_counts()"
   ]
  },
  {
   "cell_type": "markdown",
   "id": "dd843d35",
   "metadata": {},
   "source": [
    "Display the unique values in the `ET_ValidityRight` column."
   ]
  },
  {
   "cell_type": "code",
   "execution_count": null,
   "id": "1247dbae",
   "metadata": {},
   "outputs": [],
   "source": [
    "df_21_EYE['ET_ValidityRight'].unique()"
   ]
  },
  {
   "cell_type": "markdown",
   "id": "4c4a55d7",
   "metadata": {},
   "source": [
    "Count the occurrences of each unique value in the `ET_ValidityRight` column."
   ]
  },
  {
   "cell_type": "code",
   "execution_count": null,
   "id": "2ce84cf4",
   "metadata": {},
   "outputs": [],
   "source": [
    "df_21_EYE['ET_ValidityRight'].value_counts()"
   ]
  },
  {
   "cell_type": "markdown",
   "id": "d50a13aa",
   "metadata": {},
   "source": [
    "Visualize the counts of valid and invalid data for both left and right eyes using bar plots."
   ]
  },
  {
   "cell_type": "code",
   "execution_count": null,
   "id": "1466af39",
   "metadata": {},
   "outputs": [],
   "source": [
    "plt.figure(figsize=(12, 6))\n",
    "\n",
    "plt.subplot(1, 2, 1)\n",
    "sns.barplot(x=df_21_EYE['ET_ValidityLeft'].value_counts().index, y=df_21_EYE['ET_ValidityLeft'].value_counts().values)\n",
    "plt.title('Count of ET_ValidityLeft')\n",
    "plt.xlabel('Validity')\n",
    "plt.ylabel('Count')\n",
    "\n",
    "\n",
    "plt.subplot(1, 2, 2)\n",
    "sns.barplot(x=df_21_EYE['ET_ValidityRight'].value_counts().index, y=df_21_EYE['ET_ValidityRight'].value_counts().values)\n",
    "plt.title('Count of ET_ValidityRight')\n",
    "plt.xlabel('Validity')\n",
    "plt.ylabel('Count')\n",
    "\n",
    "plt.tight_layout()\n",
    "plt.show()"
   ]
  },
  {
   "cell_type": "markdown",
   "id": "45142aaa",
   "metadata": {},
   "source": [
    "# Notes & Observations\n",
    "\n",
    "- The `ET_ValidityLeft` and `ET_ValidityRight` columns indicate the validity of the eye-tracking data for the left and right eye, respectively.\n",
    "- Based on the value counts and the bar plots, it appears that a value of `0.0` represents valid eye-tracking data, while a value of `4.0` represents invalid data.\n",
    "- Although the amount of invalid data is relatively small, removing these rows could introduce unwanted patterns or gaps in the time series data.\n",
    "- Therefore, we will keep the data and replace the value `4.0` with `1.0` in both `ET_ValidityLeft` and `ET_ValidityRight` columns. This will indicate to a machine learning model that the eye tracker had invalid data at those specific points in time while maintaining the integrity of the time series."
   ]
  },
  {
   "cell_type": "markdown",
   "id": "cdc96ab6",
   "metadata": {},
   "source": [
    "Define a mapping to convert validity values from `0.0` and `4.0` to `0` and `1`."
   ]
  },
  {
   "cell_type": "code",
   "execution_count": null,
   "id": "2f21c4b2",
   "metadata": {},
   "outputs": [],
   "source": [
    "validity_map = {4.0: 1.0, 0.0: 0.0}"
   ]
  },
  {
   "cell_type": "markdown",
   "id": "be49b5a5",
   "metadata": {},
   "source": [
    "Apply the mapping to the `ET_ValidityLeft` and `ET_ValidityRight` columns and convert the data type to integer."
   ]
  },
  {
   "cell_type": "code",
   "execution_count": null,
   "id": "f74eb91e",
   "metadata": {},
   "outputs": [],
   "source": [
    "df_21_EYE['ET_ValidityLeft'] = df_21_EYE['ET_ValidityLeft'].map(validity_map).astype(np.int8)\n",
    "df_21_EYE['ET_ValidityRight'] = df_21_EYE['ET_ValidityRight'].map(validity_map).astype(np.int8)"
   ]
  },
  {
   "cell_type": "markdown",
   "id": "6b4f079b",
   "metadata": {},
   "source": [
    "Display the first few rows to see the updated validity columns."
   ]
  },
  {
   "cell_type": "code",
   "execution_count": null,
   "id": "f7bd47fa",
   "metadata": {},
   "outputs": [],
   "source": [
    "df_21_EYE.head(3)"
   ]
  },
  {
   "cell_type": "markdown",
   "id": "09dd71ec",
   "metadata": {},
   "source": [
    "Display descriptive statistics for the DataFrame, including count, mean, standard deviation, min, max, and quartiles for numeric columns."
   ]
  },
  {
   "cell_type": "code",
   "execution_count": null,
   "id": "a36fbbed",
   "metadata": {},
   "outputs": [],
   "source": [
    "df_21_EYE.describe()"
   ]
  },
  {
   "cell_type": "markdown",
   "id": "ccdee7f4",
   "metadata": {},
   "source": [
    "Check the number of rows where `ET_ValidityLeft` is 1 (invalid data for the left eye)."
   ]
  },
  {
   "cell_type": "code",
   "execution_count": null,
   "id": "e240a73f",
   "metadata": {},
   "outputs": [],
   "source": [
    "df_21_EYE[df_21_EYE['ET_ValidityLeft'] == 1].shape"
   ]
  },
  {
   "cell_type": "markdown",
   "id": "735f1201",
   "metadata": {},
   "source": [
    "Check the number of rows where `ET_ValidityRight` is 1 (invalid data for the right eye)."
   ]
  },
  {
   "cell_type": "code",
   "execution_count": null,
   "id": "b0e3be9d",
   "metadata": {},
   "outputs": [],
   "source": [
    "df_21_EYE[df_21_EYE['ET_ValidityRight'] == 1].shape"
   ]
  },
  {
   "cell_type": "markdown",
   "id": "58ca0477",
   "metadata": {},
   "source": [
    "Visualize the distribution of -1 and 1 values across columns using heatmaps. This helps identify columns with placeholder or indicator values."
   ]
  },
  {
   "cell_type": "code",
   "execution_count": null,
   "id": "29adc087",
   "metadata": {},
   "outputs": [],
   "source": [
    "plt.figure(figsize=(18, 8))\n",
    "\n",
    "plt.subplot(1, 2, 1)\n",
    "sns.heatmap(df_21_EYE == -1, cmap='viridis')\n",
    "plt.title('Heatmap of -1 Values')\n",
    "\n",
    "plt.subplot(1, 2, 2)\n",
    "sns.heatmap(df_21_EYE == 1, cmap='viridis')\n",
    "plt.title('Heatmap of 1 Values')\n",
    "\n",
    "plt.tight_layout()\n",
    "plt.show()"
   ]
  },
  {
   "cell_type": "markdown",
   "id": "4a90bb56",
   "metadata": {},
   "source": [
    "Check the number of rows where `ET_PupilLeft` is -1."
   ]
  },
  {
   "cell_type": "code",
   "execution_count": null,
   "id": "6d5a0357",
   "metadata": {},
   "outputs": [],
   "source": [
    "df_21_EYE[df_21_EYE['ET_PupilLeft'] == -1].shape"
   ]
  },
  {
   "cell_type": "markdown",
   "id": "d79e797d",
   "metadata": {},
   "source": [
    "Check the number of rows where `ET_PupilRight` is -1."
   ]
  },
  {
   "cell_type": "code",
   "execution_count": null,
   "id": "40646e02",
   "metadata": {},
   "outputs": [],
   "source": [
    "df_21_EYE[df_21_EYE['ET_PupilRight'] == -1].shape"
   ]
  },
  {
   "cell_type": "markdown",
   "id": "08b8ce98",
   "metadata": {},
   "source": [
    "Calculate the ratio of rows with -1 values in the `ET_PupilLeft` column to the total number of rows."
   ]
  },
  {
   "cell_type": "code",
   "execution_count": null,
   "id": "5f831438",
   "metadata": {},
   "outputs": [],
   "source": [
    "df_21_EYE[df_21_EYE['ET_PupilLeft'] == -1].shape[0] / df_21_EYE.shape[0]"
   ]
  },
  {
   "cell_type": "markdown",
   "id": "279c7517",
   "metadata": {},
   "source": [
    "Calculate the ratio of rows with -1 values in the `ET_PupilRight` column to the total number of rows."
   ]
  },
  {
   "cell_type": "code",
   "execution_count": null,
   "id": "24f1f515",
   "metadata": {},
   "outputs": [],
   "source": [
    "df_21_EYE[df_21_EYE['ET_PupilRight'] == -1].shape[0] / df_21_EYE.shape[0]"
   ]
  },
  {
   "cell_type": "markdown",
   "id": "4050569c",
   "metadata": {},
   "source": [
    "Visualize the distribution of -1 values specifically for rows where validity is 1 (invalid data)."
   ]
  },
  {
   "cell_type": "code",
   "execution_count": null,
   "id": "277c3ff4",
   "metadata": {},
   "outputs": [],
   "source": [
    "plt.figure(figsize=(18, 8))\n",
    "\n",
    "plt.subplot(1, 2, 1)\n",
    "sns.heatmap(df_21_EYE[df_21_EYE['ET_ValidityLeft'] == 1] == -1, cmap='viridis')\n",
    "plt.title('Heatmap of -1 Values')\n",
    "\n",
    "plt.subplot(1, 2, 2)\n",
    "sns.heatmap(df_21_EYE[df_21_EYE['ET_ValidityRight'] == 1] == -1, cmap='viridis')\n",
    "plt.title('Heatmap of -1 Values')\n",
    "\n",
    "plt.tight_layout()\n",
    "plt.show()"
   ]
  },
  {
   "cell_type": "markdown",
   "id": "3801170f",
   "metadata": {},
   "source": [
    "# Notes & Observations\n",
    "\n",
    "- The heatmaps reveal the distribution of -1 values across different columns.\n",
    "- It is evident that the `-1` values are not randomly scattered but appear in specific columns, notably `ET_GazeLeftx`, `ET_GazeLefty`, `ET_GazeRightx`, `ET_GazeRighty`, `ET_PupilLeft`, `ET_PupilRight`, `ET_DistanceLeft`, `ET_DistanceRight`, `ET_CameraLeftX`, `ET_CameraLeftY`, `ET_CameraRightX`, and `ET_CameraRightY`.\n",
    "- These `-1` values often coincide with instances where `ET_ValidityLeft` or `ET_ValidityRight` is 1, indicating invalid eye-tracking data. This suggests that `-1` is used as a placeholder for missing or invalid measurements in these columns when the eye tracker is not providing valid data for a particular eye.\n",
    "- Given that over 70% of the data in the `ET_PupilLeft` and `ET_PupilRight` columns is marked as invalid (-1), these columns may not be suitable for analysis and could be considered for dropping."
   ]
  },
  {
   "cell_type": "markdown",
   "id": "1402d20c",
   "metadata": {},
   "source": [
    "Drop the `ET_PupilLeft` and `ET_PupilRight` columns due to the high percentage of invalid data."
   ]
  },
  {
   "cell_type": "code",
   "execution_count": null,
   "id": "705fd577",
   "metadata": {},
   "outputs": [],
   "source": [
    "df_21_EYE.drop(['ET_PupilLeft', 'ET_PupilRight'], axis=1, inplace=True)"
   ]
  },
  {
   "cell_type": "markdown",
   "id": "81645104",
   "metadata": {},
   "source": [
    "Display the first few rows after dropping the pupil columns."
   ]
  },
  {
   "cell_type": "code",
   "execution_count": null,
   "id": "0dacd3a5",
   "metadata": {},
   "outputs": [],
   "source": [
    "df_21_EYE.head()"
   ]
  },
  {
   "cell_type": "markdown",
   "id": "53eeda85",
   "metadata": {},
   "source": [
    "Visualize the distribution of -1 and 1 values again after dropping the pupil columns."
   ]
  },
  {
   "cell_type": "code",
   "execution_count": null,
   "id": "b59c0ad7",
   "metadata": {},
   "outputs": [],
   "source": [
    "plt.figure(figsize=(18, 8))\n",
    "\n",
    "plt.subplot(1, 2, 1)\n",
    "sns.heatmap(df_21_EYE == -1, cmap='viridis')\n",
    "plt.title('Heatmap of -1 Values')\n",
    "\n",
    "plt.subplot(1, 2, 2)\n",
    "sns.heatmap(df_21_EYE == 1, cmap='viridis')\n",
    "plt.title('Heatmap of -1 Values')\n",
    "\n",
    "plt.tight_layout()\n",
    "plt.show()"
   ]
  },
  {
   "cell_type": "markdown",
   "id": "ad8c5022",
   "metadata": {},
   "source": [
    "Calculate the ratio of valid data points for the left eye."
   ]
  },
  {
   "cell_type": "code",
   "execution_count": null,
   "id": "940e78ba",
   "metadata": {},
   "outputs": [],
   "source": [
    "valid_left_ratio  = 1 - df_21_EYE['ET_ValidityLeft'].mean()"
   ]
  },
  {
   "cell_type": "markdown",
   "id": "3d6a6607",
   "metadata": {},
   "source": [
    "Display the ratio of valid data points for the left eye."
   ]
  },
  {
   "cell_type": "code",
   "execution_count": null,
   "id": "02c6c8a5",
   "metadata": {},
   "outputs": [],
   "source": [
    "valid_left_ratio"
   ]
  },
  {
   "cell_type": "markdown",
   "id": "ef6d1eec",
   "metadata": {},
   "source": [
    "Calculate the ratio of valid data points for the right eye."
   ]
  },
  {
   "cell_type": "code",
   "execution_count": null,
   "id": "1c739e8e",
   "metadata": {},
   "outputs": [],
   "source": [
    "valid_right_ratio = 1 - df_21_EYE['ET_ValidityRight'].mean()"
   ]
  },
  {
   "cell_type": "markdown",
   "id": "abed5179",
   "metadata": {},
   "source": [
    "Display the ratio of valid data points for the right eye."
   ]
  },
  {
   "cell_type": "code",
   "execution_count": null,
   "id": "f3f4fec6",
   "metadata": {},
   "outputs": [],
   "source": [
    "valid_right_ratio"
   ]
  },
  {
   "cell_type": "markdown",
   "id": "f4d2d962",
   "metadata": {},
   "source": [
    "Display the first few rows of the DataFrame."
   ]
  },
  {
   "cell_type": "code",
   "execution_count": null,
   "id": "5655e14d",
   "metadata": {},
   "outputs": [],
   "source": [
    "df_21_EYE.head()"
   ]
  },
  {
   "cell_type": "markdown",
   "id": "50c70aa1",
   "metadata": {},
   "source": [
    "Visualize the distributions of numeric columns using histograms with Kernel Density Estimate (KDE) plots. This helps understand the shape and spread of the data in each numeric column."
   ]
  },
  {
   "cell_type": "code",
   "execution_count": null,
   "id": "429e9df3",
   "metadata": {},
   "outputs": [],
   "source": [
    "# Select only the numeric columns for plotting histograms, excluding time-related columns\n",
    "numeric_cols = df_21_EYE.select_dtypes(include=np.number).columns\n",
    "cols_to_plot = [col for col in numeric_cols if col not in ['UnixTime']]\n",
    "\n",
    "# Calculate the number of rows and columns for the grid\n",
    "n_cols = 4  # You can adjust the number of columns as needed\n",
    "n_rows = (len(cols_to_plot) + n_cols - 1) // n_cols\n",
    "\n",
    "plt.figure(figsize=(n_cols * 5, n_rows * 4)) # Adjust figure size as needed\n",
    "\n",
    "for i, col in enumerate(cols_to_plot):\n",
    "    plt.subplot(n_rows, n_cols, i + 1)\n",
    "    sns.histplot(df_21_EYE[col], kde=True)\n",
    "    plt.title(f'Distribution of {col}')\n",
    "    plt.xlabel(col)\n",
    "    plt.ylabel('Frequency')\n",
    "\n",
    "plt.tight_layout()\n",
    "plt.show()"
   ]
  },
  {
   "cell_type": "markdown",
   "id": "b3d09dfc",
   "metadata": {},
   "source": [
    "List the names of the columns in the DataFrame."
   ]
  },
  {
   "cell_type": "code",
   "execution_count": null,
   "id": "7f3adaa0",
   "metadata": {},
   "outputs": [],
   "source": [
    "df_21_EYE.columns"
   ]
  },
  {
   "cell_type": "markdown",
   "id": "73bbf75d",
   "metadata": {},
   "source": [
    "Define a list of columns to be plotted over time."
   ]
  },
  {
   "cell_type": "code",
   "execution_count": null,
   "id": "b6ad12a1",
   "metadata": {},
   "outputs": [],
   "source": [
    "cols = ['ET_GazeLeftx', 'ET_GazeLefty',\n",
    "       'ET_GazeRightx', 'ET_GazeRighty', 'ET_TimeSignal', 'ET_DistanceLeft',\n",
    "       'ET_DistanceRight', 'ET_CameraLeftX', 'ET_CameraLeftY',\n",
    "       'ET_CameraRightX', 'ET_CameraRightY', 'ET_ValidityLeft',\n",
    "       'ET_ValidityRight']"
   ]
  },
  {
   "cell_type": "markdown",
   "id": "5c5d9413",
   "metadata": {},
   "source": [
    "Plot each of the selected columns against the timestamp to visualize their trends and patterns over time. Markdown cells are added before each plot for better readability."
   ]
  },
  {
   "cell_type": "code",
   "execution_count": null,
   "id": "11fd49c5",
   "metadata": {},
   "outputs": [],
   "source": [
    "from IPython.display import display, Markdown\n",
    "\n",
    "for col in cols:\n",
    "    # Add a markdown cell before each plot for better separation and labeling\n",
    "    display(Markdown(f'### {col} over Time'))\n",
    "    plt.figure(figsize=(16, 10))\n",
    "    plt.plot(df_21_EYE['Timestamp'], df_21_EYE[col])\n",
    "    plt.xlabel(\"Timestamp\") # Add x-axis label\n",
    "    plt.ylabel(col) # Add y-axis label\n",
    "    plt.show()"
   ]
  },
  {
   "cell_type": "markdown",
   "id": "1aea7a7e",
   "metadata": {},
   "source": [
    "Visualize the distributions of numeric columns using boxplots. This helps identify potential outliers and the spread of the data."
   ]
  },
  {
   "cell_type": "code",
   "execution_count": null,
   "id": "a4ce51b1",
   "metadata": {},
   "outputs": [],
   "source": [
    "# Select only the numeric columns for plotting histograms, excluding time-related columns\n",
    "numeric_cols = df_21_EYE.select_dtypes(include=np.number).columns\n",
    "\n",
    "# Calculate the number of rows and columns for the grid\n",
    "n_cols = 4  # You can adjust the number of columns as needed\n",
    "n_rows = (len(numeric_cols) + n_cols - 1) // n_cols\n",
    "\n",
    "plt.figure(figsize=(n_cols * 5, n_rows * 4)) # Adjust figure size as needed\n",
    "\n",
    "for i, col in enumerate(numeric_cols):\n",
    "    plt.subplot(n_rows, n_cols, i + 1)\n",
    "    sns.boxplot(df_21_EYE[col])\n",
    "    plt.title(f'Boxplot of {col}')\n",
    "    plt.xlabel(col)\n",
    "\n",
    "plt.tight_layout()\n",
    "plt.show()"
   ]
  },
  {
   "cell_type": "markdown",
   "id": "273f64b3",
   "metadata": {},
   "source": [
    "Replace the placeholder value -1 with NaN (Not a Number) in the DataFrame. This is done before imputation."
   ]
  },
  {
   "cell_type": "code",
   "execution_count": null,
   "id": "5bd75d59",
   "metadata": {},
   "outputs": [],
   "source": [
    "df_21_EYE.replace({-1: np.nan}, inplace=True)"
   ]
  },
  {
   "cell_type": "markdown",
   "id": "b0dc3afb",
   "metadata": {},
   "source": [
    "Impute the missing values (NaN) in the numeric columns with the mean of each column."
   ]
  },
  {
   "cell_type": "code",
   "execution_count": null,
   "id": "3667845b",
   "metadata": {},
   "outputs": [],
   "source": [
    "numeric_cols = df_21_EYE.select_dtypes(include=np.number).columns\n",
    "\n",
    "for col in numeric_cols:\n",
    "    df_21_EYE[col].fillna(df_21_EYE[col].mean(), inplace=True)"
   ]
  },
  {
   "cell_type": "markdown",
   "id": "9eadd467",
   "metadata": {},
   "source": [
    "Display the first few rows after imputing missing values."
   ]
  },
  {
   "cell_type": "code",
   "execution_count": null,
   "id": "447b7ac1",
   "metadata": {},
   "outputs": [],
   "source": [
    "df_21_EYE.head()"
   ]
  },
  {
   "cell_type": "markdown",
   "id": "962d5a5f",
   "metadata": {},
   "source": [
    "Visualize the distributions of numeric columns again using histograms with KDE plots after imputation. This helps assess the impact of imputation on the data distributions."
   ]
  },
  {
   "cell_type": "code",
   "execution_count": null,
   "id": "5ddd8ffd",
   "metadata": {},
   "outputs": [],
   "source": [
    "# Select only the numeric columns for plotting histograms, excluding time-related columns\n",
    "numeric_cols = df_21_EYE.select_dtypes(include=np.number).columns\n",
    "cols_to_plot = [col for col in numeric_cols if col not in ['UnixTime']]\n",
    "\n",
    "# Calculate the number of rows and columns for the grid\n",
    "n_cols = 4  # You can adjust the number of columns as needed\n",
    "n_rows = (len(cols_to_plot) + n_cols - 1) // n_cols\n",
    "\n",
    "plt.figure(figsize=(n_cols * 5, n_rows * 4)) # Adjust figure size as needed\n",
    "\n",
    "for i, col in enumerate(cols_to_plot):\n",
    "    plt.subplot(n_rows, n_cols, i + 1)\n",
    "    sns.histplot(df_21_EYE[col], kde=True)\n",
    "    plt.title(f'Distribution of {col}')\n",
    "    plt.xlabel(col)\n",
    "    plt.ylabel('Frequency')\n",
    "\n",
    "plt.tight_layout()\n",
    "plt.show()"
   ]
  },
  {
   "cell_type": "code",
   "execution_count": null,
   "id": "8ffa58a6",
   "metadata": {},
   "outputs": [],
   "source": []
  },
  {
   "cell_type": "markdown",
   "id": "dcdfd41b",
   "metadata": {},
   "source": [
    "## Student 22"
   ]
  },
  {
   "cell_type": "code",
   "execution_count": null,
   "id": "31695b69",
   "metadata": {},
   "outputs": [],
   "source": [
    "%load_ext cudf"
   ]
  },
  {
   "cell_type": "code",
   "execution_count": null,
   "id": "06b0461d",
   "metadata": {},
   "outputs": [],
   "source": [
    "import numpy as np\n",
    "import pandas as pd\n",
    "import matplotlib.pyplot as plt\n",
    "import seaborn as sns"
   ]
  },
  {
   "cell_type": "code",
   "execution_count": null,
   "id": "b94f2790",
   "metadata": {},
   "outputs": [],
   "source": [
    "import datashader as ds\n",
    "import datashader.transfer_functions as tf"
   ]
  },
  {
   "cell_type": "code",
   "execution_count": null,
   "id": "6409f006",
   "metadata": {},
   "outputs": [],
   "source": [
    "pd.set_option('display.max_columns', None)"
   ]
  },
  {
   "cell_type": "code",
   "execution_count": null,
   "id": "365f3411",
   "metadata": {},
   "outputs": [],
   "source": [
    "df_22_EYE = pd.read_csv('data/STData/22/22_EYE.csv')"
   ]
  },
  {
   "cell_type": "code",
   "execution_count": null,
   "id": "c63ab9f9",
   "metadata": {},
   "outputs": [],
   "source": [
    "df_22_EYE.head()"
   ]
  },
  {
   "cell_type": "code",
   "execution_count": null,
   "id": "ade380f4",
   "metadata": {},
   "outputs": [],
   "source": [
    "df_22_EYE.shape"
   ]
  },
  {
   "cell_type": "code",
   "execution_count": null,
   "id": "45c4e9d4",
   "metadata": {},
   "outputs": [],
   "source": [
    "df_22_EYE.columns"
   ]
  },
  {
   "cell_type": "code",
   "execution_count": null,
   "id": "e4df911d",
   "metadata": {},
   "outputs": [],
   "source": [
    "df_22_EYE.info()"
   ]
  },
  {
   "cell_type": "code",
   "execution_count": null,
   "id": "530ddc50",
   "metadata": {},
   "outputs": [],
   "source": [
    "df_22_EYE.isnull().sum()"
   ]
  },
  {
   "cell_type": "code",
   "execution_count": null,
   "id": "49040386",
   "metadata": {},
   "outputs": [],
   "source": [
    "plt.figure(figsize=(12,8))\n",
    "sns.heatmap(df_22_EYE.isnull(), cmap='viridis')\n",
    "plt.show()"
   ]
  },
  {
   "cell_type": "markdown",
   "id": "882cfd69",
   "metadata": {},
   "source": [
    "# Notes & Observations\n",
    "\n",
    "- We observe many **null** (or missing) values in the `QuestionKey` columns.  \n",
    "- The nulls in the `QuestionKey` column may not represent “true” nulls. Rather, they follow interval patterns, suggesting that during those periods no question was displayed.  \n",
    "- These missing values in `QuestionKey` require additional investigation and context-aware handling.  "
   ]
  },
  {
   "cell_type": "code",
   "execution_count": null,
   "id": "8e69e991",
   "metadata": {},
   "outputs": [],
   "source": [
    "df_22_EYE['QuestionKey'].unique()"
   ]
  },
  {
   "cell_type": "code",
   "execution_count": null,
   "id": "864fae5e",
   "metadata": {},
   "outputs": [],
   "source": [
    "df_22_EYE['Timestamp'] = pd.to_datetime(df_22_EYE['Timestamp'])"
   ]
  },
  {
   "cell_type": "code",
   "execution_count": null,
   "id": "8c1a515a",
   "metadata": {},
   "outputs": [],
   "source": [
    "df_22_EYE.head(3)"
   ]
  },
  {
   "cell_type": "code",
   "execution_count": null,
   "id": "72dc18c1",
   "metadata": {},
   "outputs": [],
   "source": [
    "df_22_EYE['QuestionKey'].fillna('None', inplace=True)"
   ]
  },
  {
   "cell_type": "code",
   "execution_count": null,
   "id": "ba3a8cf9",
   "metadata": {},
   "outputs": [],
   "source": [
    "df_22_EYE['QuestionKey'].value_counts()"
   ]
  },
  {
   "cell_type": "code",
   "execution_count": null,
   "id": "9b679806",
   "metadata": {},
   "outputs": [],
   "source": [
    "plt.figure(figsize=(12,8))\n",
    "sns.heatmap(df_22_EYE.isnull(), cmap='viridis')\n",
    "plt.show()"
   ]
  },
  {
   "cell_type": "code",
   "execution_count": null,
   "id": "210835e4",
   "metadata": {},
   "outputs": [],
   "source": [
    "df_22_EYE.isnull().sum()"
   ]
  },
  {
   "cell_type": "code",
   "execution_count": null,
   "id": "e37ef55f",
   "metadata": {},
   "outputs": [],
   "source": [
    "df_22_EYE.dropna(inplace=True)"
   ]
  },
  {
   "cell_type": "code",
   "execution_count": null,
   "id": "561351d6",
   "metadata": {},
   "outputs": [],
   "source": [
    "df_22_EYE.head()"
   ]
  },
  {
   "cell_type": "code",
   "execution_count": null,
   "id": "7a8b053b",
   "metadata": {},
   "outputs": [],
   "source": [
    "df_22_EYE['Row'].unique()"
   ]
  },
  {
   "cell_type": "code",
   "execution_count": null,
   "id": "f7be1321",
   "metadata": {},
   "outputs": [],
   "source": [
    "plt.figure(figsize=(8,6))\n",
    "sns.histplot(df_22_EYE['Row'])\n",
    "plt.show()"
   ]
  },
  {
   "cell_type": "markdown",
   "id": "0c42a11a",
   "metadata": {},
   "source": [
    "# Notes & Observations\n",
    "\n",
    "- The `Row` column appears to be a simple row index and does not provide meaningful information relevant to the eye-tracking data itself. Therefore, it can be dropped."
   ]
  },
  {
   "cell_type": "code",
   "execution_count": null,
   "id": "4db19ad9",
   "metadata": {},
   "outputs": [],
   "source": [
    "df_22_EYE.drop('Row', axis=1, inplace=True)"
   ]
  },
  {
   "cell_type": "code",
   "execution_count": null,
   "id": "ed781547",
   "metadata": {},
   "outputs": [],
   "source": [
    "df_22_EYE['ET_ValidityLeft'].unique()"
   ]
  },
  {
   "cell_type": "code",
   "execution_count": null,
   "id": "3625e5c8",
   "metadata": {},
   "outputs": [],
   "source": [
    "df_22_EYE['ET_ValidityLeft'].value_counts()"
   ]
  },
  {
   "cell_type": "code",
   "execution_count": null,
   "id": "2b3c0862",
   "metadata": {},
   "outputs": [],
   "source": [
    "df_22_EYE['ET_ValidityRight'].unique()"
   ]
  },
  {
   "cell_type": "code",
   "execution_count": null,
   "id": "e974835f",
   "metadata": {},
   "outputs": [],
   "source": [
    "df_22_EYE['ET_ValidityRight'].value_counts()"
   ]
  },
  {
   "cell_type": "code",
   "execution_count": null,
   "id": "938ef9e7",
   "metadata": {},
   "outputs": [],
   "source": [
    "plt.figure(figsize=(12, 6))\n",
    "\n",
    "plt.subplot(1, 2, 1)\n",
    "sns.barplot(x=df_22_EYE['ET_ValidityLeft'].value_counts().index, y=df_22_EYE['ET_ValidityLeft'].value_counts().values)\n",
    "plt.title('Count of ET_ValidityLeft')\n",
    "plt.xlabel('Validity')\n",
    "plt.ylabel('Count')\n",
    "\n",
    "\n",
    "plt.subplot(1, 2, 2)\n",
    "sns.barplot(x=df_22_EYE['ET_ValidityRight'].value_counts().index, y=df_22_EYE['ET_ValidityRight'].value_counts().values)\n",
    "plt.title('Count of ET_ValidityRight')\n",
    "plt.xlabel('Validity')\n",
    "plt.ylabel('Count')\n",
    "\n",
    "plt.tight_layout()\n",
    "plt.show()"
   ]
  },
  {
   "cell_type": "markdown",
   "id": "25a4875a",
   "metadata": {},
   "source": [
    "# Notes & Observations\n",
    "\n",
    "- The `ET_ValidityLeft` and `ET_ValidityRight` columns indicate the validity of the eye-tracking data for the left and right eye, respectively.\n",
    "- Based on the value counts and the bar plots, it appears that a value of `0.0` represents valid eye-tracking data, while a value of `4.0` represents invalid data.\n",
    "- Although the amount of invalid data is relatively small, removing these rows could introduce unwanted patterns or gaps in the time series data.\n",
    "- Therefore, we will keep the data and replace the value `4.0` with `1.0` in both `ET_ValidityLeft` and `ET_ValidityRight` columns. This will indicate to a machine learning model that the eye tracker had invalid data at those specific points in time while maintaining the integrity of the time series."
   ]
  },
  {
   "cell_type": "code",
   "execution_count": null,
   "id": "f2e9e0f5",
   "metadata": {},
   "outputs": [],
   "source": [
    "validity_map = {4.0: 1.0, 0.0: 0.0}"
   ]
  },
  {
   "cell_type": "code",
   "execution_count": null,
   "id": "566aeb8a",
   "metadata": {},
   "outputs": [],
   "source": [
    "df_22_EYE['ET_ValidityLeft'] = df_22_EYE['ET_ValidityLeft'].map(validity_map).astype(np.int8)\n",
    "df_22_EYE['ET_ValidityRight'] = df_22_EYE['ET_ValidityRight'].map(validity_map).astype(np.int8)"
   ]
  },
  {
   "cell_type": "code",
   "execution_count": null,
   "id": "eb66bd4d",
   "metadata": {},
   "outputs": [],
   "source": [
    "df_22_EYE.head(3)"
   ]
  },
  {
   "cell_type": "code",
   "execution_count": null,
   "id": "97df137c",
   "metadata": {},
   "outputs": [],
   "source": [
    "df_22_EYE.describe()"
   ]
  },
  {
   "cell_type": "code",
   "execution_count": null,
   "id": "2cbf0b66",
   "metadata": {},
   "outputs": [],
   "source": [
    "df_22_EYE[df_22_EYE['ET_ValidityLeft'] == 1].shape"
   ]
  },
  {
   "cell_type": "code",
   "execution_count": null,
   "id": "6b6acd16",
   "metadata": {},
   "outputs": [],
   "source": [
    "df_22_EYE[df_22_EYE['ET_ValidityRight'] == 1].shape"
   ]
  },
  {
   "cell_type": "code",
   "execution_count": null,
   "id": "84838187",
   "metadata": {},
   "outputs": [],
   "source": [
    "plt.figure(figsize=(18, 8))\n",
    "\n",
    "plt.subplot(1, 2, 1)\n",
    "sns.heatmap(df_22_EYE == -1, cmap='viridis')\n",
    "plt.title('Heatmap of -1 Values')\n",
    "\n",
    "plt.subplot(1, 2, 2)\n",
    "sns.heatmap(df_22_EYE == 1, cmap='viridis')\n",
    "plt.title('Heatmap of 1 Values')\n",
    "\n",
    "plt.tight_layout()\n",
    "plt.show()"
   ]
  },
  {
   "cell_type": "code",
   "execution_count": null,
   "id": "a2223faa",
   "metadata": {},
   "outputs": [],
   "source": [
    "df_22_EYE[df_22_EYE['ET_PupilLeft'] == -1].shape"
   ]
  },
  {
   "cell_type": "code",
   "execution_count": null,
   "id": "d38ba344",
   "metadata": {},
   "outputs": [],
   "source": [
    "df_22_EYE[df_22_EYE['ET_PupilRight'] == -1].shape"
   ]
  },
  {
   "cell_type": "code",
   "execution_count": null,
   "id": "55f1645a",
   "metadata": {},
   "outputs": [],
   "source": [
    "df_22_EYE[df_22_EYE['ET_PupilLeft'] == -1].shape[0] / df_22_EYE.shape[0]"
   ]
  },
  {
   "cell_type": "code",
   "execution_count": null,
   "id": "eb453f80",
   "metadata": {},
   "outputs": [],
   "source": [
    "df_22_EYE[df_22_EYE['ET_PupilRight'] == -1].shape[0] / df_22_EYE.shape[0]"
   ]
  },
  {
   "cell_type": "code",
   "execution_count": null,
   "id": "bed78027",
   "metadata": {},
   "outputs": [],
   "source": [
    "plt.figure(figsize=(18, 8))\n",
    "\n",
    "plt.subplot(1, 2, 1)\n",
    "sns.heatmap(df_22_EYE[df_22_EYE['ET_ValidityLeft'] == 1] == -1, cmap='viridis')\n",
    "plt.title('Heatmap of -1 Values')\n",
    "\n",
    "plt.subplot(1, 2, 2)\n",
    "sns.heatmap(df_22_EYE[df_22_EYE['ET_ValidityRight'] == 1] == -1, cmap='viridis')\n",
    "plt.title('Heatmap of -1 Values')\n",
    "\n",
    "plt.tight_layout()\n",
    "plt.show()"
   ]
  },
  {
   "cell_type": "markdown",
   "id": "0827feb4",
   "metadata": {},
   "source": [
    "# Notes & Observations\n",
    "\n",
    "- The heatmaps reveal the distribution of -1 values across different columns.\n",
    "- It is evident that the `-1` values are not randomly scattered but appear in specific columns, notably `ET_GazeLeftx`, `ET_GazeLefty`, `ET_GazeRightx`, `ET_GazeRighty`, `ET_PupilLeft`, `ET_PupilRight`, `ET_DistanceLeft`, `ET_DistanceRight`, `ET_CameraLeftX`, `ET_CameraLeftY`, `ET_CameraRightX`, and `ET_CameraRightY`.\n",
    "- These `-1` values often coincide with instances where `ET_ValidityLeft` or `ET_ValidityRight` is 1, indicating invalid eye-tracking data. This suggests that `-1` is used as a placeholder for missing or invalid measurements in these columns when the eye tracker is not providing valid data for a particular eye.\n",
    "- Given that over 70% of the data in the `ET_PupilLeft` and `ET_PupilRight` columns is marked as invalid (-1), these columns may not be suitable for analysis and could be considered for dropping."
   ]
  },
  {
   "cell_type": "code",
   "execution_count": null,
   "id": "ef3efb34",
   "metadata": {},
   "outputs": [],
   "source": [
    "df_22_EYE.drop(['ET_PupilLeft', 'ET_PupilRight'], axis=1, inplace=True)"
   ]
  },
  {
   "cell_type": "code",
   "execution_count": null,
   "id": "b24737d6",
   "metadata": {},
   "outputs": [],
   "source": [
    "df_22_EYE.head()"
   ]
  },
  {
   "cell_type": "code",
   "execution_count": null,
   "id": "5c58d15e",
   "metadata": {},
   "outputs": [],
   "source": [
    "plt.figure(figsize=(18, 8))\n",
    "\n",
    "plt.subplot(1, 2, 1)\n",
    "sns.heatmap(df_22_EYE == -1, cmap='viridis')\n",
    "plt.title('Heatmap of -1 Values')\n",
    "\n",
    "plt.subplot(1, 2, 2)\n",
    "sns.heatmap(df_22_EYE == 1, cmap='viridis')\n",
    "plt.title('Heatmap of -1 Values')\n",
    "\n",
    "plt.tight_layout()\n",
    "plt.show()"
   ]
  },
  {
   "cell_type": "code",
   "execution_count": null,
   "id": "25fc6093",
   "metadata": {},
   "outputs": [],
   "source": [
    "valid_left_ratio  = 1 - df_22_EYE['ET_ValidityLeft'].mean()\n",
    "valid_right_ratio = 1 - df_22_EYE['ET_ValidityRight'].mean()"
   ]
  },
  {
   "cell_type": "code",
   "execution_count": null,
   "id": "2f0c5f3c",
   "metadata": {},
   "outputs": [],
   "source": [
    "valid_left_ratio"
   ]
  },
  {
   "cell_type": "code",
   "execution_count": null,
   "id": "fe956030",
   "metadata": {},
   "outputs": [],
   "source": [
    "valid_right_ratio"
   ]
  },
  {
   "cell_type": "code",
   "execution_count": null,
   "id": "39114228",
   "metadata": {},
   "outputs": [],
   "source": [
    "df_22_EYE.head()"
   ]
  },
  {
   "cell_type": "code",
   "execution_count": null,
   "id": "7cd3ee34",
   "metadata": {},
   "outputs": [],
   "source": [
    "# Select only the numeric columns for plotting histograms, excluding time-related columns\n",
    "numeric_cols = df_22_EYE.select_dtypes(include=np.number).columns\n",
    "cols_to_plot = [col for col in numeric_cols if col not in ['UnixTime']]\n",
    "\n",
    "# Calculate the number of rows and columns for the grid\n",
    "n_cols = 4  # You can adjust the number of columns as needed\n",
    "n_rows = (len(cols_to_plot) + n_cols - 1) // n_cols\n",
    "\n",
    "plt.figure(figsize=(n_cols * 5, n_rows * 4)) # Adjust figure size as needed\n",
    "\n",
    "for i, col in enumerate(cols_to_plot):\n",
    "    plt.subplot(n_rows, n_cols, i + 1)\n",
    "    sns.histplot(df_22_EYE[col], kde=True)\n",
    "    plt.title(f'Distribution of {col}')\n",
    "    plt.xlabel(col)\n",
    "    plt.ylabel('Frequency')\n",
    "\n",
    "plt.tight_layout()\n",
    "plt.show()"
   ]
  },
  {
   "cell_type": "code",
   "execution_count": null,
   "id": "6422d33e",
   "metadata": {},
   "outputs": [],
   "source": [
    "df_22_EYE.columns"
   ]
  },
  {
   "cell_type": "code",
   "execution_count": null,
   "id": "e70b5387",
   "metadata": {},
   "outputs": [],
   "source": [
    "cols = ['ET_GazeLeftx', 'ET_GazeLefty',\n",
    "       'ET_GazeRightx', 'ET_GazeRighty', 'ET_TimeSignal', 'ET_DistanceLeft',\n",
    "       'ET_DistanceRight', 'ET_CameraLeftX', 'ET_CameraLeftY',\n",
    "       'ET_CameraRightX', 'ET_CameraRightY', 'ET_ValidityLeft',\n",
    "       'ET_ValidityRight']"
   ]
  },
  {
   "cell_type": "code",
   "execution_count": null,
   "id": "030bf92e",
   "metadata": {},
   "outputs": [],
   "source": [
    "from IPython.display import display, Markdown\n",
    "\n",
    "for col in cols:\n",
    "    # Add a markdown cell before each plot for better separation and labeling\n",
    "    display(Markdown(f'### {col} over Time'))\n",
    "    plt.figure(figsize=(16, 10))\n",
    "    plt.plot(df_22_EYE['Timestamp'], df_22_EYE[col])\n",
    "    plt.xlabel(\"Timestamp\") # Add x-axis label\n",
    "    plt.ylabel(col) # Add y-axis label\n",
    "    plt.show()"
   ]
  },
  {
   "cell_type": "code",
   "execution_count": null,
   "id": "c66b64b0",
   "metadata": {},
   "outputs": [],
   "source": [
    "# Select only the numeric columns for plotting histograms, excluding time-related columns\n",
    "numeric_cols = df_22_EYE.select_dtypes(include=np.number).columns\n",
    "\n",
    "# Calculate the number of rows and columns for the grid\n",
    "n_cols = 4  # You can adjust the number of columns as needed\n",
    "n_rows = (len(numeric_cols) + n_cols - 1) // n_cols\n",
    "\n",
    "plt.figure(figsize=(n_cols * 5, n_rows * 4)) # Adjust figure size as needed\n",
    "\n",
    "for i, col in enumerate(numeric_cols):\n",
    "    plt.subplot(n_rows, n_cols, i + 1)\n",
    "    sns.boxplot(df_22_EYE[col])\n",
    "    plt.title(f'Boxplot of {col}')\n",
    "    plt.xlabel(col)\n",
    "\n",
    "plt.tight_layout()\n",
    "plt.show()"
   ]
  },
  {
   "cell_type": "code",
   "execution_count": null,
   "id": "1f9d58f2",
   "metadata": {},
   "outputs": [],
   "source": [
    "df_22_EYE.replace({-1: np.nan}, inplace=True)"
   ]
  },
  {
   "cell_type": "code",
   "execution_count": null,
   "id": "f1580411",
   "metadata": {},
   "outputs": [],
   "source": [
    "numeric_cols = df_22_EYE.select_dtypes(include=np.number).columns\n",
    "\n",
    "for col in numeric_cols:\n",
    "    df_22_EYE[col].fillna(df_22_EYE[col].mean(), inplace=True)"
   ]
  },
  {
   "cell_type": "code",
   "execution_count": null,
   "id": "87c183c9",
   "metadata": {},
   "outputs": [],
   "source": [
    "df_22_EYE.head()"
   ]
  },
  {
   "cell_type": "code",
   "execution_count": null,
   "id": "8778dd00",
   "metadata": {},
   "outputs": [],
   "source": [
    "# Select only the numeric columns for plotting histograms, excluding time-related columns\n",
    "numeric_cols = df_22_EYE.select_dtypes(include=np.number).columns\n",
    "cols_to_plot = [col for col in numeric_cols if col not in ['UnixTime']]\n",
    "\n",
    "# Calculate the number of rows and columns for the grid\n",
    "n_cols = 4  # You can adjust the number of columns as needed\n",
    "n_rows = (len(cols_to_plot) + n_cols - 1) // n_cols\n",
    "\n",
    "plt.figure(figsize=(n_cols * 5, n_rows * 4)) # Adjust figure size as needed\n",
    "\n",
    "for i, col in enumerate(cols_to_plot):\n",
    "    plt.subplot(n_rows, n_cols, i + 1)\n",
    "    sns.histplot(df_22_EYE[col], kde=True)\n",
    "    plt.title(f'Distribution of {col}')\n",
    "    plt.xlabel(col)\n",
    "    plt.ylabel('Frequency')\n",
    "\n",
    "plt.tight_layout()\n",
    "plt.show()"
   ]
  },
  {
   "cell_type": "code",
   "execution_count": null,
   "id": "0163a679",
   "metadata": {},
   "outputs": [],
   "source": []
  },
  {
   "cell_type": "code",
   "execution_count": null,
   "id": "2887b2b5",
   "metadata": {},
   "outputs": [],
   "source": []
  },
  {
   "cell_type": "code",
   "execution_count": null,
   "id": "815d0424",
   "metadata": {},
   "outputs": [],
   "source": []
  },
  {
   "cell_type": "code",
   "execution_count": null,
   "id": "8e502b42",
   "metadata": {},
   "outputs": [],
   "source": []
  },
  {
   "cell_type": "code",
   "execution_count": null,
   "id": "05964556",
   "metadata": {},
   "outputs": [],
   "source": []
  },
  {
   "cell_type": "code",
   "execution_count": null,
   "id": "115f8949",
   "metadata": {},
   "outputs": [],
   "source": []
  },
  {
   "cell_type": "code",
   "execution_count": null,
   "id": "4eb643c7",
   "metadata": {},
   "outputs": [],
   "source": []
  },
  {
   "cell_type": "code",
   "execution_count": null,
   "id": "f9147da5",
   "metadata": {},
   "outputs": [],
   "source": []
  },
  {
   "cell_type": "code",
   "execution_count": null,
   "id": "ae5b541e",
   "metadata": {},
   "outputs": [],
   "source": []
  },
  {
   "cell_type": "code",
   "execution_count": null,
   "id": "389838ef",
   "metadata": {},
   "outputs": [],
   "source": []
  },
  {
   "cell_type": "code",
   "execution_count": null,
   "id": "03e480b1",
   "metadata": {},
   "outputs": [],
   "source": []
  },
  {
   "cell_type": "code",
   "execution_count": null,
   "id": "02b86df8",
   "metadata": {},
   "outputs": [],
   "source": []
  },
  {
   "cell_type": "markdown",
   "id": "10e6cb13",
   "metadata": {},
   "source": [
    "# Eye Tracking Data Analysis\n",
    "\n",
    "This notebook performs exploratory data analysis and cleaning on eye-tracking data.\n",
    "\n",
    "## Data Loading and Initial Inspection"
   ]
  },
  {
   "cell_type": "code",
   "execution_count": null,
   "id": "3dcd9f9c",
   "metadata": {},
   "outputs": [],
   "source": [
    "%load_ext cudf"
   ]
  },
  {
   "cell_type": "markdown",
   "id": "1683ecda",
   "metadata": {},
   "source": [
    "Import necessary libraries for data manipulation, analysis, and visualization."
   ]
  },
  {
   "cell_type": "code",
   "execution_count": null,
   "id": "d2ae57ac",
   "metadata": {},
   "outputs": [],
   "source": [
    "import numpy as np\n",
    "import pandas as pd\n",
    "import matplotlib.pyplot as plt\n",
    "import seaborn as sns"
   ]
  },
  {
   "cell_type": "markdown",
   "id": "f149917f",
   "metadata": {},
   "source": [
    "Import libraries for datashader, which can be used for visualizing large datasets."
   ]
  },
  {
   "cell_type": "code",
   "execution_count": null,
   "id": "d02c6331",
   "metadata": {},
   "outputs": [],
   "source": [
    "import datashader as ds\n",
    "import datashader.transfer_functions as tf"
   ]
  },
  {
   "cell_type": "markdown",
   "id": "7b1293b6",
   "metadata": {},
   "source": [
    "Set pandas display options to show all columns."
   ]
  },
  {
   "cell_type": "code",
   "execution_count": null,
   "id": "8ebe752f",
   "metadata": {},
   "outputs": [],
   "source": [
    "pd.set_option('display.max_columns', None)"
   ]
  },
  {
   "cell_type": "markdown",
   "id": "c75f9c59",
   "metadata": {},
   "source": [
    "Load the eye-tracking data from the specified CSV file into a pandas DataFrame."
   ]
  },
  {
   "cell_type": "code",
   "execution_count": null,
   "id": "cab27e95",
   "metadata": {},
   "outputs": [],
   "source": [
    "df_22_EYE = pd.read_csv('data/STData/22/22_EYE.csv')"
   ]
  },
  {
   "cell_type": "markdown",
   "id": "5670dfcc",
   "metadata": {},
   "source": [
    "Display the first few rows of the DataFrame to get an initial look at the data structure and content."
   ]
  },
  {
   "cell_type": "code",
   "execution_count": null,
   "id": "55a4dfe2",
   "metadata": {},
   "outputs": [],
   "source": [
    "df_22_EYE.head()"
   ]
  },
  {
   "cell_type": "markdown",
   "id": "c53ddeb9",
   "metadata": {},
   "source": [
    "Check the dimensions (number of rows and columns) of the DataFrame."
   ]
  },
  {
   "cell_type": "code",
   "execution_count": null,
   "id": "8a669915",
   "metadata": {},
   "outputs": [],
   "source": [
    "df_22_EYE.shape"
   ]
  },
  {
   "cell_type": "markdown",
   "id": "3ced7f0a",
   "metadata": {},
   "source": [
    "List the names of all columns in the DataFrame."
   ]
  },
  {
   "cell_type": "code",
   "execution_count": null,
   "id": "70691d5f",
   "metadata": {},
   "outputs": [],
   "source": [
    "df_22_EYE.columns"
   ]
  },
  {
   "cell_type": "markdown",
   "id": "87619bfb",
   "metadata": {},
   "source": [
    "Display concise information about the DataFrame, including the data types of each column and the number of non-null values. This helps identify columns with missing data."
   ]
  },
  {
   "cell_type": "code",
   "execution_count": null,
   "id": "6b11f49b",
   "metadata": {},
   "outputs": [],
   "source": [
    "df_22_EYE.info()"
   ]
  },
  {
   "cell_type": "markdown",
   "id": "6cb39d4c",
   "metadata": {},
   "source": [
    "Calculate and display the number of missing values in each column."
   ]
  },
  {
   "cell_type": "code",
   "execution_count": null,
   "id": "a556b898",
   "metadata": {},
   "outputs": [],
   "source": [
    "df_22_EYE.isnull().sum()"
   ]
  },
  {
   "cell_type": "markdown",
   "id": "9cd8a179",
   "metadata": {},
   "source": [
    "Visualize the distribution of missing values using a heatmap. This provides a visual representation of which columns have missing data and the extent of missingness."
   ]
  },
  {
   "cell_type": "code",
   "execution_count": null,
   "id": "d8be2a10",
   "metadata": {},
   "outputs": [],
   "source": [
    "plt.figure(figsize=(12,8))\n",
    "sns.heatmap(df_22_EYE.isnull(), cmap='viridis')\n",
    "plt.show()"
   ]
  },
  {
   "cell_type": "markdown",
   "id": "dbeb73f3",
   "metadata": {},
   "source": [
    "# Notes & Observations\n",
    "\n",
    "- We observe many **null** (or missing) values in the `QuestionKey` columns.\n",
    "- The nulls in the `QuestionKey` column may not represent “true” nulls. Rather, they follow interval patterns, suggesting that during those periods no question was displayed.\n",
    "- These missing values in `QuestionKey` require additional investigation and context-aware handling."
   ]
  },
  {
   "cell_type": "markdown",
   "id": "1f4fbaad",
   "metadata": {},
   "source": [
    "Display the unique values in the `QuestionKey` column to understand the different types of questions or states recorded."
   ]
  },
  {
   "cell_type": "code",
   "execution_count": null,
   "id": "f6b63182",
   "metadata": {},
   "outputs": [],
   "source": [
    "df_22_EYE['QuestionKey'].unique()"
   ]
  },
  {
   "cell_type": "markdown",
   "id": "f0713c91",
   "metadata": {},
   "source": [
    "Convert the `Timestamp` column to datetime objects. This is crucial for any time series analysis or manipulation."
   ]
  },
  {
   "cell_type": "code",
   "execution_count": null,
   "id": "836a0e19",
   "metadata": {},
   "outputs": [],
   "source": [
    "df_22_EYE['Timestamp'] = pd.to_datetime(df_22_EYE['Timestamp'])"
   ]
  },
  {
   "cell_type": "markdown",
   "id": "4cfbad82",
   "metadata": {},
   "source": [
    "Display the first few rows again to see the effect of the timestamp conversion."
   ]
  },
  {
   "cell_type": "code",
   "execution_count": null,
   "id": "0241f07b",
   "metadata": {},
   "outputs": [],
   "source": [
    "df_22_EYE.head(3)"
   ]
  },
  {
   "cell_type": "markdown",
   "id": "a39ae088",
   "metadata": {},
   "source": [
    "Fill the missing values in the `QuestionKey` column with the string 'None'. This helps to explicitly mark periods where no question was active."
   ]
  },
  {
   "cell_type": "code",
   "execution_count": null,
   "id": "af6ee4f4",
   "metadata": {},
   "outputs": [],
   "source": [
    "df_22_EYE['QuestionKey'].fillna('None', inplace=True)"
   ]
  },
  {
   "cell_type": "markdown",
   "id": "af842d5f",
   "metadata": {},
   "source": [
    "Count the occurrences of each unique value in the `QuestionKey` column after filling missing values."
   ]
  },
  {
   "cell_type": "code",
   "execution_count": null,
   "id": "a5cac696",
   "metadata": {},
   "outputs": [],
   "source": [
    "df_22_EYE['QuestionKey'].value_counts()"
   ]
  },
  {
   "cell_type": "markdown",
   "id": "c35c8232",
   "metadata": {},
   "source": [
    "Display the heatmap of missing values again to confirm that the missing values in `QuestionKey` have been handled."
   ]
  },
  {
   "cell_type": "code",
   "execution_count": null,
   "id": "5ad93a47",
   "metadata": {},
   "outputs": [],
   "source": [
    "plt.figure(figsize=(12,8))\n",
    "sns.heatmap(df_22_EYE.isnull(), cmap='viridis')\n",
    "plt.show()"
   ]
  },
  {
   "cell_type": "markdown",
   "id": "e42c74a6",
   "metadata": {},
   "source": [
    "Recalculate and display the number of missing values per column to confirm the changes after handling `QuestionKey`."
   ]
  },
  {
   "cell_type": "code",
   "execution_count": null,
   "id": "168287e3",
   "metadata": {},
   "outputs": [],
   "source": [
    "df_22_EYE.isnull().sum()"
   ]
  },
  {
   "cell_type": "markdown",
   "id": "6285fddb",
   "metadata": {},
   "source": [
    "Drop rows that still contain any missing values. This is done after handling `QuestionKey` separately."
   ]
  },
  {
   "cell_type": "code",
   "execution_count": null,
   "id": "a4eb94a1",
   "metadata": {},
   "outputs": [],
   "source": [
    "df_22_EYE.dropna(inplace=True)"
   ]
  },
  {
   "cell_type": "markdown",
   "id": "0a0a5809",
   "metadata": {},
   "source": [
    "Display the first few rows after dropping rows with missing values."
   ]
  },
  {
   "cell_type": "code",
   "execution_count": null,
   "id": "b0d9e6bf",
   "metadata": {},
   "outputs": [],
   "source": [
    "df_22_EYE.head()"
   ]
  },
  {
   "cell_type": "markdown",
   "id": "874ecc63",
   "metadata": {},
   "source": [
    "Display the unique values in the `Row` column."
   ]
  },
  {
   "cell_type": "code",
   "execution_count": null,
   "id": "2db85bcd",
   "metadata": {},
   "outputs": [],
   "source": [
    "df_22_EYE['Row'].unique()"
   ]
  },
  {
   "cell_type": "markdown",
   "id": "54f1fd11",
   "metadata": {},
   "source": [
    "Plot a histogram of the `Row` column to visualize its distribution."
   ]
  },
  {
   "cell_type": "code",
   "execution_count": null,
   "id": "e62f687d",
   "metadata": {},
   "outputs": [],
   "source": [
    "plt.figure(figsize=(8,6))\n",
    "sns.histplot(df_22_EYE['Row'])\n",
    "plt.show()"
   ]
  },
  {
   "cell_type": "markdown",
   "id": "e58a5643",
   "metadata": {},
   "source": [
    "# Notes & Observations\n",
    "\n",
    "- The `Row` column appears to be a simple row index and does not provide meaningful information relevant to the eye-tracking data itself. Therefore, it can be dropped."
   ]
  },
  {
   "cell_type": "markdown",
   "id": "4e1a9ad4",
   "metadata": {},
   "source": [
    "Drop the `Row` column as it is not relevant for the analysis."
   ]
  },
  {
   "cell_type": "code",
   "execution_count": null,
   "id": "e15a98f9",
   "metadata": {},
   "outputs": [],
   "source": [
    "df_22_EYE.drop('Row', axis=1, inplace=True)"
   ]
  },
  {
   "cell_type": "markdown",
   "id": "94122ef3",
   "metadata": {},
   "source": [
    "Display the unique values in the `ET_ValidityLeft` column."
   ]
  },
  {
   "cell_type": "code",
   "execution_count": null,
   "id": "94d8f95a",
   "metadata": {},
   "outputs": [],
   "source": [
    "df_22_EYE['ET_ValidityLeft'].unique()"
   ]
  },
  {
   "cell_type": "markdown",
   "id": "3e4264af",
   "metadata": {},
   "source": [
    "Count the occurrences of each unique value in the `ET_ValidityLeft` column."
   ]
  },
  {
   "cell_type": "code",
   "execution_count": null,
   "id": "2c2da0f6",
   "metadata": {},
   "outputs": [],
   "source": [
    "df_22_EYE['ET_ValidityLeft'].value_counts()"
   ]
  },
  {
   "cell_type": "markdown",
   "id": "f22ec202",
   "metadata": {},
   "source": [
    "Display the unique values in the `ET_ValidityRight` column."
   ]
  },
  {
   "cell_type": "code",
   "execution_count": null,
   "id": "7de4ec6f",
   "metadata": {},
   "outputs": [],
   "source": [
    "df_22_EYE['ET_ValidityRight'].unique()"
   ]
  },
  {
   "cell_type": "markdown",
   "id": "917ed75f",
   "metadata": {},
   "source": [
    "Count the occurrences of each unique value in the `ET_ValidityRight` column."
   ]
  },
  {
   "cell_type": "code",
   "execution_count": null,
   "id": "cc0a2ad6",
   "metadata": {},
   "outputs": [],
   "source": [
    "df_22_EYE['ET_ValidityRight'].value_counts()"
   ]
  },
  {
   "cell_type": "markdown",
   "id": "e1960899",
   "metadata": {},
   "source": [
    "Visualize the counts of valid and invalid data for both left and right eyes using bar plots."
   ]
  },
  {
   "cell_type": "code",
   "execution_count": null,
   "id": "96f6194a",
   "metadata": {},
   "outputs": [],
   "source": [
    "plt.figure(figsize=(12, 6))\n",
    "\n",
    "plt.subplot(1, 2, 1)\n",
    "sns.barplot(x=df_22_EYE['ET_ValidityLeft'].value_counts().index, y=df_22_EYE['ET_ValidityLeft'].value_counts().values)\n",
    "plt.title('Count of ET_ValidityLeft')\n",
    "plt.xlabel('Validity')\n",
    "plt.ylabel('Count')\n",
    "\n",
    "\n",
    "plt.subplot(1, 2, 2)\n",
    "sns.barplot(x=df_22_EYE['ET_ValidityRight'].value_counts().index, y=df_22_EYE['ET_ValidityRight'].value_counts().values)\n",
    "plt.title('Count of ET_ValidityRight')\n",
    "plt.xlabel('Validity')\n",
    "plt.ylabel('Count')\n",
    "\n",
    "plt.tight_layout()\n",
    "plt.show()"
   ]
  },
  {
   "cell_type": "markdown",
   "id": "07c544dc",
   "metadata": {},
   "source": [
    "# Notes & Observations\n",
    "\n",
    "- The `ET_ValidityLeft` and `ET_ValidityRight` columns indicate the validity of the eye-tracking data for the left and right eye, respectively.\n",
    "- Based on the value counts and the bar plots, it appears that a value of `0.0` represents valid eye-tracking data, while a value of `4.0` represents invalid data.\n",
    "- Although the amount of invalid data is relatively small, removing these rows could introduce unwanted patterns or gaps in the time series data.\n",
    "- Therefore, we will keep the data and replace the value `4.0` with `1.0` in both `ET_ValidityLeft` and `ET_ValidityRight` columns. This will indicate to a machine learning model that the eye tracker had invalid data at those specific points in time while maintaining the integrity of the time series."
   ]
  },
  {
   "cell_type": "markdown",
   "id": "1750ee17",
   "metadata": {},
   "source": [
    "Define a mapping to convert validity values from `0.0` and `4.0` to `0` and `1`."
   ]
  },
  {
   "cell_type": "code",
   "execution_count": null,
   "id": "54f56c63",
   "metadata": {},
   "outputs": [],
   "source": [
    "validity_map = {4.0: 1.0, 0.0: 0.0}"
   ]
  },
  {
   "cell_type": "markdown",
   "id": "f9af881e",
   "metadata": {},
   "source": [
    "Apply the mapping to the `ET_ValidityLeft` and `ET_ValidityRight` columns and convert the data type to integer."
   ]
  },
  {
   "cell_type": "code",
   "execution_count": null,
   "id": "c24f9e96",
   "metadata": {},
   "outputs": [],
   "source": [
    "df_22_EYE['ET_ValidityLeft'] = df_22_EYE['ET_ValidityLeft'].map(validity_map).astype(np.int8)\n",
    "df_22_EYE['ET_ValidityRight'] = df_22_EYE['ET_ValidityRight'].map(validity_map).astype(np.int8)"
   ]
  },
  {
   "cell_type": "markdown",
   "id": "f6b0f6c4",
   "metadata": {},
   "source": [
    "Display the first few rows to see the updated validity columns."
   ]
  },
  {
   "cell_type": "code",
   "execution_count": null,
   "id": "5e3277a0",
   "metadata": {},
   "outputs": [],
   "source": [
    "df_22_EYE.head(3)"
   ]
  },
  {
   "cell_type": "markdown",
   "id": "fdf56eca",
   "metadata": {},
   "source": [
    "Display descriptive statistics for the DataFrame, including count, mean, standard deviation, min, max, and quartiles for numeric columns."
   ]
  },
  {
   "cell_type": "code",
   "execution_count": null,
   "id": "1ed0d5b0",
   "metadata": {},
   "outputs": [],
   "source": [
    "df_22_EYE.describe()"
   ]
  },
  {
   "cell_type": "markdown",
   "id": "8bb83943",
   "metadata": {},
   "source": [
    "Check the number of rows where `ET_ValidityLeft` is 1 (invalid data for the left eye)."
   ]
  },
  {
   "cell_type": "code",
   "execution_count": null,
   "id": "463752eb",
   "metadata": {},
   "outputs": [],
   "source": [
    "df_22_EYE[df_22_EYE['ET_ValidityLeft'] == 1].shape"
   ]
  },
  {
   "cell_type": "markdown",
   "id": "4c8e8df5",
   "metadata": {},
   "source": [
    "Check the number of rows where `ET_ValidityRight` is 1 (invalid data for the right eye)."
   ]
  },
  {
   "cell_type": "code",
   "execution_count": null,
   "id": "24624a3c",
   "metadata": {},
   "outputs": [],
   "source": [
    "df_22_EYE[df_22_EYE['ET_ValidityRight'] == 1].shape"
   ]
  },
  {
   "cell_type": "markdown",
   "id": "da16767e",
   "metadata": {},
   "source": [
    "Visualize the distribution of -1 and 1 values across columns using heatmaps. This helps identify columns with placeholder or indicator values."
   ]
  },
  {
   "cell_type": "code",
   "execution_count": null,
   "id": "bdc0caf8",
   "metadata": {},
   "outputs": [],
   "source": [
    "plt.figure(figsize=(18, 8))\n",
    "\n",
    "plt.subplot(1, 2, 1)\n",
    "sns.heatmap(df_22_EYE == -1, cmap='viridis')\n",
    "plt.title('Heatmap of -1 Values')\n",
    "\n",
    "plt.subplot(1, 2, 2)\n",
    "sns.heatmap(df_22_EYE == 1, cmap='viridis')\n",
    "plt.title('Heatmap of 1 Values')\n",
    "\n",
    "plt.tight_layout()\n",
    "plt.show()"
   ]
  },
  {
   "cell_type": "markdown",
   "id": "3504fe46",
   "metadata": {},
   "source": [
    "Check the number of rows where `ET_PupilLeft` is -1."
   ]
  },
  {
   "cell_type": "code",
   "execution_count": null,
   "id": "0d09ffdf",
   "metadata": {},
   "outputs": [],
   "source": [
    "df_22_EYE[df_22_EYE['ET_PupilLeft'] == -1].shape"
   ]
  },
  {
   "cell_type": "markdown",
   "id": "fb8a088b",
   "metadata": {},
   "source": [
    "Check the number of rows where `ET_PupilRight` is -1."
   ]
  },
  {
   "cell_type": "code",
   "execution_count": null,
   "id": "13cf7080",
   "metadata": {},
   "outputs": [],
   "source": [
    "df_22_EYE[df_22_EYE['ET_PupilRight'] == -1].shape"
   ]
  },
  {
   "cell_type": "markdown",
   "id": "11e0f725",
   "metadata": {},
   "source": [
    "Calculate the ratio of rows with -1 values in the `ET_PupilLeft` column to the total number of rows."
   ]
  },
  {
   "cell_type": "code",
   "execution_count": null,
   "id": "c92e7f83",
   "metadata": {},
   "outputs": [],
   "source": [
    "df_22_EYE[df_22_EYE['ET_PupilLeft'] == -1].shape[0] / df_22_EYE.shape[0]"
   ]
  },
  {
   "cell_type": "markdown",
   "id": "f824ffe2",
   "metadata": {},
   "source": [
    "Calculate the ratio of rows with -1 values in the `ET_PupilRight` column to the total number of rows."
   ]
  },
  {
   "cell_type": "code",
   "execution_count": null,
   "id": "a4fc418c",
   "metadata": {},
   "outputs": [],
   "source": [
    "df_22_EYE[df_22_EYE['ET_PupilRight'] == -1].shape[0] / df_22_EYE.shape[0]"
   ]
  },
  {
   "cell_type": "markdown",
   "id": "28a30ea9",
   "metadata": {},
   "source": [
    "Visualize the distribution of -1 values specifically for rows where validity is 1 (invalid data)."
   ]
  },
  {
   "cell_type": "code",
   "execution_count": null,
   "id": "b9ee37f4",
   "metadata": {},
   "outputs": [],
   "source": [
    "plt.figure(figsize=(18, 8))\n",
    "\n",
    "plt.subplot(1, 2, 1)\n",
    "sns.heatmap(df_22_EYE[df_22_EYE['ET_ValidityLeft'] == 1] == -1, cmap='viridis')\n",
    "plt.title('Heatmap of -1 Values')\n",
    "\n",
    "plt.subplot(1, 2, 2)\n",
    "sns.heatmap(df_22_EYE[df_22_EYE['ET_ValidityRight'] == 1] == -1, cmap='viridis')\n",
    "plt.title('Heatmap of -1 Values')\n",
    "\n",
    "plt.tight_layout()\n",
    "plt.show()"
   ]
  },
  {
   "cell_type": "markdown",
   "id": "d57a94d3",
   "metadata": {},
   "source": [
    "# Notes & Observations\n",
    "\n",
    "- The heatmaps reveal the distribution of -1 values across different columns.\n",
    "- It is evident that the `-1` values are not randomly scattered but appear in specific columns, notably `ET_GazeLeftx`, `ET_GazeLefty`, `ET_GazeRightx`, `ET_GazeRighty`, `ET_PupilLeft`, `ET_PupilRight`, `ET_DistanceLeft`, `ET_DistanceRight`, `ET_CameraLeftX`, `ET_CameraLeftY`, `ET_CameraRightX`, and `ET_CameraRightY`.\n",
    "- These `-1` values often coincide with instances where `ET_ValidityLeft` or `ET_ValidityRight` is 1, indicating invalid eye-tracking data. This suggests that `-1` is used as a placeholder for missing or invalid measurements in these columns when the eye tracker is not providing valid data for a particular eye.\n",
    "- Given that over 70% of the data in the `ET_PupilLeft` and `ET_PupilRight` columns is marked as invalid (-1), these columns may not be suitable for analysis and could be considered for dropping."
   ]
  },
  {
   "cell_type": "markdown",
   "id": "f12841c3",
   "metadata": {},
   "source": [
    "Drop the `ET_PupilLeft` and `ET_PupilRight` columns due to the high percentage of invalid data."
   ]
  },
  {
   "cell_type": "code",
   "execution_count": null,
   "id": "edd5a5fa",
   "metadata": {},
   "outputs": [],
   "source": [
    "df_22_EYE.drop(['ET_PupilLeft', 'ET_PupilRight'], axis=1, inplace=True)"
   ]
  },
  {
   "cell_type": "markdown",
   "id": "1e9bdab4",
   "metadata": {},
   "source": [
    "Display the first few rows after dropping the pupil columns."
   ]
  },
  {
   "cell_type": "code",
   "execution_count": null,
   "id": "4e1cd10a",
   "metadata": {},
   "outputs": [],
   "source": [
    "df_22_EYE.head()"
   ]
  },
  {
   "cell_type": "markdown",
   "id": "f283adf5",
   "metadata": {},
   "source": [
    "Visualize the distribution of -1 and 1 values again after dropping the pupil columns."
   ]
  },
  {
   "cell_type": "code",
   "execution_count": null,
   "id": "c4a34ba8",
   "metadata": {},
   "outputs": [],
   "source": [
    "plt.figure(figsize=(18, 8))\n",
    "\n",
    "plt.subplot(1, 2, 1)\n",
    "sns.heatmap(df_22_EYE == -1, cmap='viridis')\n",
    "plt.title('Heatmap of -1 Values')\n",
    "\n",
    "plt.subplot(1, 2, 2)\n",
    "sns.heatmap(df_22_EYE == 1, cmap='viridis')\n",
    "plt.title('Heatmap of -1 Values')\n",
    "\n",
    "plt.tight_layout()\n",
    "plt.show()"
   ]
  },
  {
   "cell_type": "markdown",
   "id": "b266a67b",
   "metadata": {},
   "source": [
    "Calculate the ratio of valid data points for the left eye."
   ]
  },
  {
   "cell_type": "code",
   "execution_count": null,
   "id": "3c39ce06",
   "metadata": {},
   "outputs": [],
   "source": [
    "valid_left_ratio  = 1 - df_22_EYE['ET_ValidityLeft'].mean()"
   ]
  },
  {
   "cell_type": "markdown",
   "id": "351a3b08",
   "metadata": {},
   "source": [
    "Display the ratio of valid data points for the left eye."
   ]
  },
  {
   "cell_type": "code",
   "execution_count": null,
   "id": "1111f1e9",
   "metadata": {},
   "outputs": [],
   "source": [
    "valid_left_ratio"
   ]
  },
  {
   "cell_type": "markdown",
   "id": "01b092d4",
   "metadata": {},
   "source": [
    "Calculate the ratio of valid data points for the right eye."
   ]
  },
  {
   "cell_type": "code",
   "execution_count": null,
   "id": "8cf94ac6",
   "metadata": {},
   "outputs": [],
   "source": [
    "valid_right_ratio = 1 - df_22_EYE['ET_ValidityRight'].mean()"
   ]
  },
  {
   "cell_type": "markdown",
   "id": "faccdb10",
   "metadata": {},
   "source": [
    "Display the ratio of valid data points for the right eye."
   ]
  },
  {
   "cell_type": "code",
   "execution_count": null,
   "id": "ebc1857d",
   "metadata": {},
   "outputs": [],
   "source": [
    "valid_right_ratio"
   ]
  },
  {
   "cell_type": "markdown",
   "id": "5d4aa858",
   "metadata": {},
   "source": [
    "Display the first few rows of the DataFrame."
   ]
  },
  {
   "cell_type": "code",
   "execution_count": null,
   "id": "71eaedb9",
   "metadata": {},
   "outputs": [],
   "source": [
    "df_22_EYE.head()"
   ]
  },
  {
   "cell_type": "markdown",
   "id": "70b1957a",
   "metadata": {},
   "source": [
    "Visualize the distributions of numeric columns using histograms with Kernel Density Estimate (KDE) plots. This helps understand the shape and spread of the data in each numeric column."
   ]
  },
  {
   "cell_type": "code",
   "execution_count": null,
   "id": "41f5ef96",
   "metadata": {},
   "outputs": [],
   "source": [
    "# Select only the numeric columns for plotting histograms, excluding time-related columns\n",
    "numeric_cols = df_22_EYE.select_dtypes(include=np.number).columns\n",
    "cols_to_plot = [col for col in numeric_cols if col not in ['UnixTime']]\n",
    "\n",
    "# Calculate the number of rows and columns for the grid\n",
    "n_cols = 4  # You can adjust the number of columns as needed\n",
    "n_rows = (len(cols_to_plot) + n_cols - 1) // n_cols\n",
    "\n",
    "plt.figure(figsize=(n_cols * 5, n_rows * 4)) # Adjust figure size as needed\n",
    "\n",
    "for i, col in enumerate(cols_to_plot):\n",
    "    plt.subplot(n_rows, n_cols, i + 1)\n",
    "    sns.histplot(df_22_EYE[col], kde=True)\n",
    "    plt.title(f'Distribution of {col}')\n",
    "    plt.xlabel(col)\n",
    "    plt.ylabel('Frequency')\n",
    "\n",
    "plt.tight_layout()\n",
    "plt.show()"
   ]
  },
  {
   "cell_type": "markdown",
   "id": "9c6e45e1",
   "metadata": {},
   "source": [
    "List the names of the columns in the DataFrame."
   ]
  },
  {
   "cell_type": "code",
   "execution_count": null,
   "id": "bb236878",
   "metadata": {},
   "outputs": [],
   "source": [
    "df_22_EYE.columns"
   ]
  },
  {
   "cell_type": "markdown",
   "id": "9914038a",
   "metadata": {},
   "source": [
    "Define a list of columns to be plotted over time."
   ]
  },
  {
   "cell_type": "code",
   "execution_count": null,
   "id": "30ef08f2",
   "metadata": {},
   "outputs": [],
   "source": [
    "cols = ['ET_GazeLeftx', 'ET_GazeLefty',\n",
    "       'ET_GazeRightx', 'ET_GazeRighty', 'ET_TimeSignal', 'ET_DistanceLeft',\n",
    "       'ET_DistanceRight', 'ET_CameraLeftX', 'ET_CameraLeftY',\n",
    "       'ET_CameraRightX', 'ET_CameraRightY', 'ET_ValidityLeft',\n",
    "       'ET_ValidityRight']"
   ]
  },
  {
   "cell_type": "markdown",
   "id": "6fb169b7",
   "metadata": {},
   "source": [
    "Plot each of the selected columns against the timestamp to visualize their trends and patterns over time. Markdown cells are added before each plot for better readability."
   ]
  },
  {
   "cell_type": "code",
   "execution_count": null,
   "id": "da031a2e",
   "metadata": {},
   "outputs": [],
   "source": [
    "from IPython.display import display, Markdown\n",
    "\n",
    "for col in cols:\n",
    "    # Add a markdown cell before each plot for better separation and labeling\n",
    "    display(Markdown(f'### {col} over Time'))\n",
    "    plt.figure(figsize=(16, 10))\n",
    "    plt.plot(df_22_EYE['Timestamp'], df_22_EYE[col])\n",
    "    plt.xlabel(\"Timestamp\") # Add x-axis label\n",
    "    plt.ylabel(col) # Add y-axis label\n",
    "    plt.show()"
   ]
  },
  {
   "cell_type": "markdown",
   "id": "a07a1be7",
   "metadata": {},
   "source": [
    "Visualize the distributions of numeric columns using boxplots. This helps identify potential outliers and the spread of the data."
   ]
  },
  {
   "cell_type": "code",
   "execution_count": null,
   "id": "3a150d3a",
   "metadata": {},
   "outputs": [],
   "source": [
    "# Select only the numeric columns for plotting histograms, excluding time-related columns\n",
    "numeric_cols = df_22_EYE.select_dtypes(include=np.number).columns\n",
    "\n",
    "# Calculate the number of rows and columns for the grid\n",
    "n_cols = 4  # You can adjust the number of columns as needed\n",
    "n_rows = (len(numeric_cols) + n_cols - 1) // n_cols\n",
    "\n",
    "plt.figure(figsize=(n_cols * 5, n_rows * 4)) # Adjust figure size as needed\n",
    "\n",
    "for i, col in enumerate(numeric_cols):\n",
    "    plt.subplot(n_rows, n_cols, i + 1)\n",
    "    sns.boxplot(df_22_EYE[col])\n",
    "    plt.title(f'Boxplot of {col}')\n",
    "    plt.xlabel(col)\n",
    "\n",
    "plt.tight_layout()\n",
    "plt.show()"
   ]
  },
  {
   "cell_type": "markdown",
   "id": "26d1d670",
   "metadata": {},
   "source": [
    "Replace the placeholder value -1 with NaN (Not a Number) in the DataFrame. This is done before imputation."
   ]
  },
  {
   "cell_type": "code",
   "execution_count": null,
   "id": "fe14d55d",
   "metadata": {},
   "outputs": [],
   "source": [
    "df_22_EYE.replace({-1: np.nan}, inplace=True)"
   ]
  },
  {
   "cell_type": "markdown",
   "id": "d43a07f1",
   "metadata": {},
   "source": [
    "Impute the missing values (NaN) in the numeric columns with the mean of each column."
   ]
  },
  {
   "cell_type": "code",
   "execution_count": null,
   "id": "766a074d",
   "metadata": {},
   "outputs": [],
   "source": [
    "numeric_cols = df_22_EYE.select_dtypes(include=np.number).columns\n",
    "\n",
    "for col in numeric_cols:\n",
    "    df_22_EYE[col].fillna(df_22_EYE[col].mean(), inplace=True)"
   ]
  },
  {
   "cell_type": "markdown",
   "id": "72c6b1d4",
   "metadata": {},
   "source": [
    "Display the first few rows after imputing missing values."
   ]
  },
  {
   "cell_type": "code",
   "execution_count": null,
   "id": "6638c856",
   "metadata": {},
   "outputs": [],
   "source": [
    "df_22_EYE.head()"
   ]
  },
  {
   "cell_type": "markdown",
   "id": "34f11a8e",
   "metadata": {},
   "source": [
    "Visualize the distributions of numeric columns again using histograms with KDE plots after imputation. This helps assess the impact of imputation on the data distributions."
   ]
  },
  {
   "cell_type": "code",
   "execution_count": null,
   "id": "33edd418",
   "metadata": {},
   "outputs": [],
   "source": [
    "# Select only the numeric columns for plotting histograms, excluding time-related columns\n",
    "numeric_cols = df_22_EYE.select_dtypes(include=np.number).columns\n",
    "cols_to_plot = [col for col in numeric_cols if col not in ['UnixTime']]\n",
    "\n",
    "# Calculate the number of rows and columns for the grid\n",
    "n_cols = 4  # You can adjust the number of columns as needed\n",
    "n_rows = (len(cols_to_plot) + n_cols - 1) // n_cols\n",
    "\n",
    "plt.figure(figsize=(n_cols * 5, n_rows * 4)) # Adjust figure size as needed\n",
    "\n",
    "for i, col in enumerate(cols_to_plot):\n",
    "    plt.subplot(n_rows, n_cols, i + 1)\n",
    "    sns.histplot(df_22_EYE[col], kde=True)\n",
    "    plt.title(f'Distribution of {col}')\n",
    "    plt.xlabel(col)\n",
    "    plt.ylabel('Frequency')\n",
    "\n",
    "plt.tight_layout()\n",
    "plt.show()"
   ]
  },
  {
   "cell_type": "code",
   "execution_count": null,
   "id": "c1bdb792",
   "metadata": {},
   "outputs": [],
   "source": []
  },
  {
   "cell_type": "markdown",
   "id": "70f16e79",
   "metadata": {},
   "source": [
    "## Student 23"
   ]
  },
  {
   "cell_type": "code",
   "execution_count": null,
   "id": "8ffb39f4",
   "metadata": {},
   "outputs": [],
   "source": [
    "%load_ext cudf"
   ]
  },
  {
   "cell_type": "code",
   "execution_count": null,
   "id": "8c60b03f",
   "metadata": {},
   "outputs": [],
   "source": [
    "import numpy as np\n",
    "import pandas as pd\n",
    "import matplotlib.pyplot as plt\n",
    "import seaborn as sns"
   ]
  },
  {
   "cell_type": "code",
   "execution_count": null,
   "id": "027fa3ff",
   "metadata": {},
   "outputs": [],
   "source": [
    "import datashader as ds\n",
    "import datashader.transfer_functions as tf"
   ]
  },
  {
   "cell_type": "code",
   "execution_count": null,
   "id": "d2bca92e",
   "metadata": {},
   "outputs": [],
   "source": [
    "pd.set_option('display.max_columns', None)"
   ]
  },
  {
   "cell_type": "code",
   "execution_count": null,
   "id": "42cc5833",
   "metadata": {},
   "outputs": [],
   "source": [
    "df_23_EYE = pd.read_csv('data/STData/23/23_EYE.csv')"
   ]
  },
  {
   "cell_type": "code",
   "execution_count": null,
   "id": "d453ece3",
   "metadata": {},
   "outputs": [],
   "source": [
    "df_23_EYE.head()"
   ]
  },
  {
   "cell_type": "code",
   "execution_count": null,
   "id": "347ccffe",
   "metadata": {},
   "outputs": [],
   "source": [
    "df_23_EYE.shape"
   ]
  },
  {
   "cell_type": "code",
   "execution_count": null,
   "id": "b145ece1",
   "metadata": {},
   "outputs": [],
   "source": [
    "df_23_EYE.columns"
   ]
  },
  {
   "cell_type": "code",
   "execution_count": null,
   "id": "bea5ac90",
   "metadata": {},
   "outputs": [],
   "source": [
    "df_23_EYE.info()"
   ]
  },
  {
   "cell_type": "code",
   "execution_count": null,
   "id": "1f87cb50",
   "metadata": {},
   "outputs": [],
   "source": [
    "df_23_EYE.isnull().sum()"
   ]
  },
  {
   "cell_type": "code",
   "execution_count": null,
   "id": "e3046ee8",
   "metadata": {},
   "outputs": [],
   "source": [
    "plt.figure(figsize=(12,8))\n",
    "sns.heatmap(df_23_EYE.isnull(), cmap='viridis')\n",
    "plt.show()"
   ]
  },
  {
   "cell_type": "markdown",
   "id": "30c806f8",
   "metadata": {},
   "source": [
    "# Notes & Observations\n",
    "\n",
    "- We observe many **null** (or missing) values in the `QuestionKey` columns.  \n",
    "- The nulls in the `QuestionKey` column may not represent “true” nulls. Rather, they follow interval patterns, suggesting that during those periods no question was displayed.  \n",
    "- These missing values in `QuestionKey` require additional investigation and context-aware handling.  "
   ]
  },
  {
   "cell_type": "code",
   "execution_count": null,
   "id": "9d197294",
   "metadata": {},
   "outputs": [],
   "source": [
    "df_23_EYE['QuestionKey'].unique()"
   ]
  },
  {
   "cell_type": "code",
   "execution_count": null,
   "id": "b92dc99b",
   "metadata": {},
   "outputs": [],
   "source": [
    "df_23_EYE['Timestamp'] = pd.to_datetime(df_23_EYE['Timestamp'])"
   ]
  },
  {
   "cell_type": "code",
   "execution_count": null,
   "id": "967e88f7",
   "metadata": {},
   "outputs": [],
   "source": [
    "df_23_EYE.head(3)"
   ]
  },
  {
   "cell_type": "code",
   "execution_count": null,
   "id": "8d9ce6b1",
   "metadata": {},
   "outputs": [],
   "source": [
    "df_23_EYE['QuestionKey'].fillna('None', inplace=True)"
   ]
  },
  {
   "cell_type": "code",
   "execution_count": null,
   "id": "9cb8be43",
   "metadata": {},
   "outputs": [],
   "source": [
    "df_23_EYE['QuestionKey'].value_counts()"
   ]
  },
  {
   "cell_type": "code",
   "execution_count": null,
   "id": "b04a52a1",
   "metadata": {},
   "outputs": [],
   "source": [
    "plt.figure(figsize=(12,8))\n",
    "sns.heatmap(df_23_EYE.isnull(), cmap='viridis')\n",
    "plt.show()"
   ]
  },
  {
   "cell_type": "code",
   "execution_count": null,
   "id": "b090c0ad",
   "metadata": {},
   "outputs": [],
   "source": [
    "df_23_EYE.isnull().sum()"
   ]
  },
  {
   "cell_type": "code",
   "execution_count": null,
   "id": "953276d7",
   "metadata": {},
   "outputs": [],
   "source": [
    "df_23_EYE.dropna(inplace=True)"
   ]
  },
  {
   "cell_type": "code",
   "execution_count": null,
   "id": "56cea11d",
   "metadata": {},
   "outputs": [],
   "source": [
    "df_23_EYE.head()"
   ]
  },
  {
   "cell_type": "code",
   "execution_count": null,
   "id": "7ad23847",
   "metadata": {},
   "outputs": [],
   "source": [
    "df_23_EYE['Row'].unique()"
   ]
  },
  {
   "cell_type": "code",
   "execution_count": null,
   "id": "ff01c877",
   "metadata": {},
   "outputs": [],
   "source": [
    "plt.figure(figsize=(8,6))\n",
    "sns.histplot(df_23_EYE['Row'])\n",
    "plt.show()"
   ]
  },
  {
   "cell_type": "markdown",
   "id": "2035b6dc",
   "metadata": {},
   "source": [
    "# Notes & Observations\n",
    "\n",
    "- The `Row` column appears to be a simple row index and does not provide meaningful information relevant to the eye-tracking data itself. Therefore, it can be dropped."
   ]
  },
  {
   "cell_type": "code",
   "execution_count": null,
   "id": "147c2705",
   "metadata": {},
   "outputs": [],
   "source": [
    "df_23_EYE.drop('Row', axis=1, inplace=True)"
   ]
  },
  {
   "cell_type": "code",
   "execution_count": null,
   "id": "8edb8ecc",
   "metadata": {},
   "outputs": [],
   "source": [
    "df_23_EYE['ET_ValidityLeft'].unique()"
   ]
  },
  {
   "cell_type": "code",
   "execution_count": null,
   "id": "f5e1b31d",
   "metadata": {},
   "outputs": [],
   "source": [
    "df_23_EYE['ET_ValidityLeft'].value_counts()"
   ]
  },
  {
   "cell_type": "code",
   "execution_count": null,
   "id": "28490317",
   "metadata": {},
   "outputs": [],
   "source": [
    "df_23_EYE['ET_ValidityRight'].unique()"
   ]
  },
  {
   "cell_type": "code",
   "execution_count": null,
   "id": "41d966ec",
   "metadata": {},
   "outputs": [],
   "source": [
    "df_23_EYE['ET_ValidityRight'].value_counts()"
   ]
  },
  {
   "cell_type": "code",
   "execution_count": null,
   "id": "18fb3fc7",
   "metadata": {},
   "outputs": [],
   "source": [
    "plt.figure(figsize=(12, 6))\n",
    "\n",
    "plt.subplot(1, 2, 1)\n",
    "sns.barplot(x=df_23_EYE['ET_ValidityLeft'].value_counts().index, y=df_23_EYE['ET_ValidityLeft'].value_counts().values)\n",
    "plt.title('Count of ET_ValidityLeft')\n",
    "plt.xlabel('Validity')\n",
    "plt.ylabel('Count')\n",
    "\n",
    "\n",
    "plt.subplot(1, 2, 2)\n",
    "sns.barplot(x=df_23_EYE['ET_ValidityRight'].value_counts().index, y=df_23_EYE['ET_ValidityRight'].value_counts().values)\n",
    "plt.title('Count of ET_ValidityRight')\n",
    "plt.xlabel('Validity')\n",
    "plt.ylabel('Count')\n",
    "\n",
    "plt.tight_layout()\n",
    "plt.show()"
   ]
  },
  {
   "cell_type": "markdown",
   "id": "6b116ef0",
   "metadata": {},
   "source": [
    "# Notes & Observations\n",
    "\n",
    "- The `ET_ValidityLeft` and `ET_ValidityRight` columns indicate the validity of the eye-tracking data for the left and right eye, respectively.\n",
    "- Based on the value counts and the bar plots, it appears that a value of `0.0` represents valid eye-tracking data, while a value of `4.0` represents invalid data.\n",
    "- Although the amount of invalid data is relatively small, removing these rows could introduce unwanted patterns or gaps in the time series data.\n",
    "- Therefore, we will keep the data and replace the value `4.0` with `1.0` in both `ET_ValidityLeft` and `ET_ValidityRight` columns. This will indicate to a machine learning model that the eye tracker had invalid data at those specific points in time while maintaining the integrity of the time series."
   ]
  },
  {
   "cell_type": "code",
   "execution_count": null,
   "id": "e96af8fe",
   "metadata": {},
   "outputs": [],
   "source": [
    "validity_map = {4.0: 1.0, 0.0: 0.0}"
   ]
  },
  {
   "cell_type": "code",
   "execution_count": null,
   "id": "ee236b8e",
   "metadata": {},
   "outputs": [],
   "source": [
    "df_23_EYE['ET_ValidityLeft'] = df_23_EYE['ET_ValidityLeft'].map(validity_map).astype(np.int8)\n",
    "df_23_EYE['ET_ValidityRight'] = df_23_EYE['ET_ValidityRight'].map(validity_map).astype(np.int8)"
   ]
  },
  {
   "cell_type": "code",
   "execution_count": null,
   "id": "b775556c",
   "metadata": {},
   "outputs": [],
   "source": [
    "df_23_EYE.head(3)"
   ]
  },
  {
   "cell_type": "code",
   "execution_count": null,
   "id": "ccdee816",
   "metadata": {},
   "outputs": [],
   "source": [
    "df_23_EYE.describe()"
   ]
  },
  {
   "cell_type": "code",
   "execution_count": null,
   "id": "fd49e67e",
   "metadata": {},
   "outputs": [],
   "source": [
    "df_23_EYE[df_23_EYE['ET_ValidityLeft'] == 1].shape"
   ]
  },
  {
   "cell_type": "code",
   "execution_count": null,
   "id": "ebef9232",
   "metadata": {},
   "outputs": [],
   "source": [
    "df_23_EYE[df_23_EYE['ET_ValidityRight'] == 1].shape"
   ]
  },
  {
   "cell_type": "code",
   "execution_count": null,
   "id": "c45001fe",
   "metadata": {},
   "outputs": [],
   "source": [
    "plt.figure(figsize=(18, 8))\n",
    "\n",
    "plt.subplot(1, 2, 1)\n",
    "sns.heatmap(df_23_EYE == -1, cmap='viridis')\n",
    "plt.title('Heatmap of -1 Values')\n",
    "\n",
    "plt.subplot(1, 2, 2)\n",
    "sns.heatmap(df_23_EYE == 1, cmap='viridis')\n",
    "plt.title('Heatmap of 1 Values')\n",
    "\n",
    "plt.tight_layout()\n",
    "plt.show()"
   ]
  },
  {
   "cell_type": "code",
   "execution_count": null,
   "id": "58f4459d",
   "metadata": {},
   "outputs": [],
   "source": [
    "df_23_EYE[df_23_EYE['ET_PupilLeft'] == -1].shape"
   ]
  },
  {
   "cell_type": "code",
   "execution_count": null,
   "id": "1d03ae89",
   "metadata": {},
   "outputs": [],
   "source": [
    "df_23_EYE[df_23_EYE['ET_PupilRight'] == -1].shape"
   ]
  },
  {
   "cell_type": "code",
   "execution_count": null,
   "id": "3ce38d54",
   "metadata": {},
   "outputs": [],
   "source": [
    "df_23_EYE[df_23_EYE['ET_PupilLeft'] == -1].shape[0] / df_23_EYE.shape[0]"
   ]
  },
  {
   "cell_type": "code",
   "execution_count": null,
   "id": "55dbe7d0",
   "metadata": {},
   "outputs": [],
   "source": [
    "df_23_EYE[df_23_EYE['ET_PupilRight'] == -1].shape[0] / df_23_EYE.shape[0]"
   ]
  },
  {
   "cell_type": "code",
   "execution_count": null,
   "id": "13fc8158",
   "metadata": {},
   "outputs": [],
   "source": [
    "plt.figure(figsize=(18, 8))\n",
    "\n",
    "plt.subplot(1, 2, 1)\n",
    "sns.heatmap(df_23_EYE[df_23_EYE['ET_ValidityLeft'] == 1] == -1, cmap='viridis')\n",
    "plt.title('Heatmap of -1 Values')\n",
    "\n",
    "plt.subplot(1, 2, 2)\n",
    "sns.heatmap(df_23_EYE[df_23_EYE['ET_ValidityRight'] == 1] == -1, cmap='viridis')\n",
    "plt.title('Heatmap of -1 Values')\n",
    "\n",
    "plt.tight_layout()\n",
    "plt.show()"
   ]
  },
  {
   "cell_type": "markdown",
   "id": "7fca2008",
   "metadata": {},
   "source": [
    "# Notes & Observations\n",
    "\n",
    "- The heatmaps reveal the distribution of -1 values across different columns.\n",
    "- It is evident that the `-1` values are not randomly scattered but appear in specific columns, notably `ET_GazeLeftx`, `ET_GazeLefty`, `ET_GazeRightx`, `ET_GazeRighty`, `ET_PupilLeft`, `ET_PupilRight`, `ET_DistanceLeft`, `ET_DistanceRight`, `ET_CameraLeftX`, `ET_CameraLeftY`, `ET_CameraRightX`, and `ET_CameraRightY`.\n",
    "- These `-1` values often coincide with instances where `ET_ValidityLeft` or `ET_ValidityRight` is 1, indicating invalid eye-tracking data. This suggests that `-1` is used as a placeholder for missing or invalid measurements in these columns when the eye tracker is not providing valid data for a particular eye.\n",
    "- Given that over 70% of the data in the `ET_PupilLeft` and `ET_PupilRight` columns is marked as invalid (-1), these columns may not be suitable for analysis and could be considered for dropping."
   ]
  },
  {
   "cell_type": "code",
   "execution_count": null,
   "id": "23022f54",
   "metadata": {},
   "outputs": [],
   "source": [
    "df_23_EYE.drop(['ET_PupilLeft', 'ET_PupilRight'], axis=1, inplace=True)"
   ]
  },
  {
   "cell_type": "code",
   "execution_count": null,
   "id": "f7d57544",
   "metadata": {},
   "outputs": [],
   "source": [
    "df_23_EYE.head()"
   ]
  },
  {
   "cell_type": "code",
   "execution_count": null,
   "id": "5cbf8edf",
   "metadata": {},
   "outputs": [],
   "source": [
    "plt.figure(figsize=(18, 8))\n",
    "\n",
    "plt.subplot(1, 2, 1)\n",
    "sns.heatmap(df_23_EYE == -1, cmap='viridis')\n",
    "plt.title('Heatmap of -1 Values')\n",
    "\n",
    "plt.subplot(1, 2, 2)\n",
    "sns.heatmap(df_23_EYE == 1, cmap='viridis')\n",
    "plt.title('Heatmap of -1 Values')\n",
    "\n",
    "plt.tight_layout()\n",
    "plt.show()"
   ]
  },
  {
   "cell_type": "code",
   "execution_count": null,
   "id": "2b7d0e40",
   "metadata": {},
   "outputs": [],
   "source": [
    "valid_left_ratio  = 1 - df_23_EYE['ET_ValidityLeft'].mean()\n",
    "valid_right_ratio = 1 - df_23_EYE['ET_ValidityRight'].mean()"
   ]
  },
  {
   "cell_type": "code",
   "execution_count": null,
   "id": "102547af",
   "metadata": {},
   "outputs": [],
   "source": [
    "valid_left_ratio"
   ]
  },
  {
   "cell_type": "code",
   "execution_count": null,
   "id": "b1cc4755",
   "metadata": {},
   "outputs": [],
   "source": [
    "valid_right_ratio"
   ]
  },
  {
   "cell_type": "code",
   "execution_count": null,
   "id": "84983878",
   "metadata": {},
   "outputs": [],
   "source": [
    "df_23_EYE.head()"
   ]
  },
  {
   "cell_type": "code",
   "execution_count": null,
   "id": "58848228",
   "metadata": {},
   "outputs": [],
   "source": [
    "# Select only the numeric columns for plotting histograms, excluding time-related columns\n",
    "numeric_cols = df_23_EYE.select_dtypes(include=np.number).columns\n",
    "cols_to_plot = [col for col in numeric_cols if col not in ['UnixTime']]\n",
    "\n",
    "# Calculate the number of rows and columns for the grid\n",
    "n_cols = 4  # You can adjust the number of columns as needed\n",
    "n_rows = (len(cols_to_plot) + n_cols - 1) // n_cols\n",
    "\n",
    "plt.figure(figsize=(n_cols * 5, n_rows * 4)) # Adjust figure size as needed\n",
    "\n",
    "for i, col in enumerate(cols_to_plot):\n",
    "    plt.subplot(n_rows, n_cols, i + 1)\n",
    "    sns.histplot(df_23_EYE[col], kde=True)\n",
    "    plt.title(f'Distribution of {col}')\n",
    "    plt.xlabel(col)\n",
    "    plt.ylabel('Frequency')\n",
    "\n",
    "plt.tight_layout()\n",
    "plt.show()"
   ]
  },
  {
   "cell_type": "code",
   "execution_count": null,
   "id": "55973f49",
   "metadata": {},
   "outputs": [],
   "source": [
    "df_23_EYE.columns"
   ]
  },
  {
   "cell_type": "code",
   "execution_count": null,
   "id": "a066aeeb",
   "metadata": {},
   "outputs": [],
   "source": [
    "cols = ['ET_GazeLeftx', 'ET_GazeLefty',\n",
    "       'ET_GazeRightx', 'ET_GazeRighty', 'ET_TimeSignal', 'ET_DistanceLeft',\n",
    "       'ET_DistanceRight', 'ET_CameraLeftX', 'ET_CameraLeftY',\n",
    "       'ET_CameraRightX', 'ET_CameraRightY', 'ET_ValidityLeft',\n",
    "       'ET_ValidityRight']"
   ]
  },
  {
   "cell_type": "code",
   "execution_count": null,
   "id": "3c015ddd",
   "metadata": {},
   "outputs": [],
   "source": [
    "from IPython.display import display, Markdown\n",
    "\n",
    "for col in cols:\n",
    "    # Add a markdown cell before each plot for better separation and labeling\n",
    "    display(Markdown(f'### {col} over Time'))\n",
    "    plt.figure(figsize=(16, 10))\n",
    "    plt.plot(df_23_EYE['Timestamp'], df_23_EYE[col])\n",
    "    plt.xlabel(\"Timestamp\") # Add x-axis label\n",
    "    plt.ylabel(col) # Add y-axis label\n",
    "    plt.show()"
   ]
  },
  {
   "cell_type": "code",
   "execution_count": null,
   "id": "81766da8",
   "metadata": {},
   "outputs": [],
   "source": [
    "# Select only the numeric columns for plotting histograms, excluding time-related columns\n",
    "numeric_cols = df_23_EYE.select_dtypes(include=np.number).columns\n",
    "\n",
    "# Calculate the number of rows and columns for the grid\n",
    "n_cols = 4  # You can adjust the number of columns as needed\n",
    "n_rows = (len(numeric_cols) + n_cols - 1) // n_cols\n",
    "\n",
    "plt.figure(figsize=(n_cols * 5, n_rows * 4)) # Adjust figure size as needed\n",
    "\n",
    "for i, col in enumerate(numeric_cols):\n",
    "    plt.subplot(n_rows, n_cols, i + 1)\n",
    "    sns.boxplot(df_23_EYE[col])\n",
    "    plt.title(f'Boxplot of {col}')\n",
    "    plt.xlabel(col)\n",
    "\n",
    "plt.tight_layout()\n",
    "plt.show()"
   ]
  },
  {
   "cell_type": "code",
   "execution_count": null,
   "id": "c8447351",
   "metadata": {},
   "outputs": [],
   "source": [
    "df_23_EYE.replace({-1: np.nan}, inplace=True)"
   ]
  },
  {
   "cell_type": "code",
   "execution_count": null,
   "id": "456df3e5",
   "metadata": {},
   "outputs": [],
   "source": [
    "numeric_cols = df_23_EYE.select_dtypes(include=np.number).columns\n",
    "\n",
    "for col in numeric_cols:\n",
    "    df_23_EYE[col].fillna(df_23_EYE[col].mean(), inplace=True)"
   ]
  },
  {
   "cell_type": "code",
   "execution_count": null,
   "id": "4bf884b8",
   "metadata": {},
   "outputs": [],
   "source": [
    "df_23_EYE.head()"
   ]
  },
  {
   "cell_type": "code",
   "execution_count": null,
   "id": "5f468a98",
   "metadata": {},
   "outputs": [],
   "source": [
    "# Select only the numeric columns for plotting histograms, excluding time-related columns\n",
    "numeric_cols = df_23_EYE.select_dtypes(include=np.number).columns\n",
    "cols_to_plot = [col for col in numeric_cols if col not in ['UnixTime']]\n",
    "\n",
    "# Calculate the number of rows and columns for the grid\n",
    "n_cols = 4  # You can adjust the number of columns as needed\n",
    "n_rows = (len(cols_to_plot) + n_cols - 1) // n_cols\n",
    "\n",
    "plt.figure(figsize=(n_cols * 5, n_rows * 4)) # Adjust figure size as needed\n",
    "\n",
    "for i, col in enumerate(cols_to_plot):\n",
    "    plt.subplot(n_rows, n_cols, i + 1)\n",
    "    sns.histplot(df_23_EYE[col], kde=True)\n",
    "    plt.title(f'Distribution of {col}')\n",
    "    plt.xlabel(col)\n",
    "    plt.ylabel('Frequency')\n",
    "\n",
    "plt.tight_layout()\n",
    "plt.show()"
   ]
  },
  {
   "cell_type": "code",
   "execution_count": null,
   "id": "38141dc4",
   "metadata": {},
   "outputs": [],
   "source": []
  },
  {
   "cell_type": "code",
   "execution_count": null,
   "id": "5775d785",
   "metadata": {},
   "outputs": [],
   "source": []
  },
  {
   "cell_type": "code",
   "execution_count": null,
   "id": "6c85af3f",
   "metadata": {},
   "outputs": [],
   "source": []
  },
  {
   "cell_type": "code",
   "execution_count": null,
   "id": "8e8bec61",
   "metadata": {},
   "outputs": [],
   "source": []
  },
  {
   "cell_type": "code",
   "execution_count": null,
   "id": "797d1057",
   "metadata": {},
   "outputs": [],
   "source": []
  },
  {
   "cell_type": "code",
   "execution_count": null,
   "id": "4e28d64b",
   "metadata": {},
   "outputs": [],
   "source": []
  },
  {
   "cell_type": "code",
   "execution_count": null,
   "id": "bca40def",
   "metadata": {},
   "outputs": [],
   "source": []
  },
  {
   "cell_type": "code",
   "execution_count": null,
   "id": "0357dc4a",
   "metadata": {},
   "outputs": [],
   "source": []
  },
  {
   "cell_type": "code",
   "execution_count": null,
   "id": "42f93449",
   "metadata": {},
   "outputs": [],
   "source": []
  },
  {
   "cell_type": "code",
   "execution_count": null,
   "id": "bf473a22",
   "metadata": {},
   "outputs": [],
   "source": []
  },
  {
   "cell_type": "code",
   "execution_count": null,
   "id": "0a626a3d",
   "metadata": {},
   "outputs": [],
   "source": []
  },
  {
   "cell_type": "code",
   "execution_count": null,
   "id": "0a72c2d1",
   "metadata": {},
   "outputs": [],
   "source": []
  },
  {
   "cell_type": "markdown",
   "id": "121ebfb7",
   "metadata": {},
   "source": [
    "# Eye Tracking Data Analysis\n",
    "\n",
    "This notebook performs exploratory data analysis and cleaning on eye-tracking data.\n",
    "\n",
    "## Data Loading and Initial Inspection"
   ]
  },
  {
   "cell_type": "code",
   "execution_count": null,
   "id": "8c40a82d",
   "metadata": {},
   "outputs": [],
   "source": [
    "%load_ext cudf"
   ]
  },
  {
   "cell_type": "markdown",
   "id": "2d8de40e",
   "metadata": {},
   "source": [
    "Import necessary libraries for data manipulation, analysis, and visualization."
   ]
  },
  {
   "cell_type": "code",
   "execution_count": null,
   "id": "647f8015",
   "metadata": {},
   "outputs": [],
   "source": [
    "import numpy as np\n",
    "import pandas as pd\n",
    "import matplotlib.pyplot as plt\n",
    "import seaborn as sns"
   ]
  },
  {
   "cell_type": "markdown",
   "id": "80fdcf13",
   "metadata": {},
   "source": [
    "Import libraries for datashader, which can be used for visualizing large datasets."
   ]
  },
  {
   "cell_type": "code",
   "execution_count": null,
   "id": "4a659cfd",
   "metadata": {},
   "outputs": [],
   "source": [
    "import datashader as ds\n",
    "import datashader.transfer_functions as tf"
   ]
  },
  {
   "cell_type": "markdown",
   "id": "cce764dc",
   "metadata": {},
   "source": [
    "Set pandas display options to show all columns."
   ]
  },
  {
   "cell_type": "code",
   "execution_count": null,
   "id": "e5c7d5f5",
   "metadata": {},
   "outputs": [],
   "source": [
    "pd.set_option('display.max_columns', None)"
   ]
  },
  {
   "cell_type": "markdown",
   "id": "7f532bb3",
   "metadata": {},
   "source": [
    "Load the eye-tracking data from the specified CSV file into a pandas DataFrame."
   ]
  },
  {
   "cell_type": "code",
   "execution_count": null,
   "id": "b5cb4065",
   "metadata": {},
   "outputs": [],
   "source": [
    "df_23_EYE = pd.read_csv('data/STData/23/23_EYE.csv')"
   ]
  },
  {
   "cell_type": "markdown",
   "id": "5f8319ad",
   "metadata": {},
   "source": [
    "Display the first few rows of the DataFrame to get an initial look at the data structure and content."
   ]
  },
  {
   "cell_type": "code",
   "execution_count": null,
   "id": "45f6c82d",
   "metadata": {},
   "outputs": [],
   "source": [
    "df_23_EYE.head()"
   ]
  },
  {
   "cell_type": "markdown",
   "id": "e29ba492",
   "metadata": {},
   "source": [
    "Check the dimensions (number of rows and columns) of the DataFrame."
   ]
  },
  {
   "cell_type": "code",
   "execution_count": null,
   "id": "96acecac",
   "metadata": {},
   "outputs": [],
   "source": [
    "df_23_EYE.shape"
   ]
  },
  {
   "cell_type": "markdown",
   "id": "d2a2b78d",
   "metadata": {},
   "source": [
    "List the names of all columns in the DataFrame."
   ]
  },
  {
   "cell_type": "code",
   "execution_count": null,
   "id": "8edddabb",
   "metadata": {},
   "outputs": [],
   "source": [
    "df_23_EYE.columns"
   ]
  },
  {
   "cell_type": "markdown",
   "id": "16e577e0",
   "metadata": {},
   "source": [
    "Display concise information about the DataFrame, including the data types of each column and the number of non-null values. This helps identify columns with missing data."
   ]
  },
  {
   "cell_type": "code",
   "execution_count": null,
   "id": "6664188d",
   "metadata": {},
   "outputs": [],
   "source": [
    "df_23_EYE.info()"
   ]
  },
  {
   "cell_type": "markdown",
   "id": "61bdcb43",
   "metadata": {},
   "source": [
    "Calculate and display the number of missing values in each column."
   ]
  },
  {
   "cell_type": "code",
   "execution_count": null,
   "id": "bc250191",
   "metadata": {},
   "outputs": [],
   "source": [
    "df_23_EYE.isnull().sum()"
   ]
  },
  {
   "cell_type": "markdown",
   "id": "bc24803a",
   "metadata": {},
   "source": [
    "Visualize the distribution of missing values using a heatmap. This provides a visual representation of which columns have missing data and the extent of missingness."
   ]
  },
  {
   "cell_type": "code",
   "execution_count": null,
   "id": "6a71753e",
   "metadata": {},
   "outputs": [],
   "source": [
    "plt.figure(figsize=(12,8))\n",
    "sns.heatmap(df_23_EYE.isnull(), cmap='viridis')\n",
    "plt.show()"
   ]
  },
  {
   "cell_type": "markdown",
   "id": "e62fd220",
   "metadata": {},
   "source": [
    "# Notes & Observations\n",
    "\n",
    "- We observe many **null** (or missing) values in the `QuestionKey` columns.\n",
    "- The nulls in the `QuestionKey` column may not represent “true” nulls. Rather, they follow interval patterns, suggesting that during those periods no question was displayed.\n",
    "- These missing values in `QuestionKey` require additional investigation and context-aware handling."
   ]
  },
  {
   "cell_type": "markdown",
   "id": "2b9ebb4f",
   "metadata": {},
   "source": [
    "Display the unique values in the `QuestionKey` column to understand the different types of questions or states recorded."
   ]
  },
  {
   "cell_type": "code",
   "execution_count": null,
   "id": "53f6861d",
   "metadata": {},
   "outputs": [],
   "source": [
    "df_23_EYE['QuestionKey'].unique()"
   ]
  },
  {
   "cell_type": "markdown",
   "id": "806b93d6",
   "metadata": {},
   "source": [
    "Convert the `Timestamp` column to datetime objects. This is crucial for any time series analysis or manipulation."
   ]
  },
  {
   "cell_type": "code",
   "execution_count": null,
   "id": "646822f0",
   "metadata": {},
   "outputs": [],
   "source": [
    "df_23_EYE['Timestamp'] = pd.to_datetime(df_23_EYE['Timestamp'])"
   ]
  },
  {
   "cell_type": "markdown",
   "id": "f50b1930",
   "metadata": {},
   "source": [
    "Display the first few rows again to see the effect of the timestamp conversion."
   ]
  },
  {
   "cell_type": "code",
   "execution_count": null,
   "id": "c7c5f9cb",
   "metadata": {},
   "outputs": [],
   "source": [
    "df_23_EYE.head(3)"
   ]
  },
  {
   "cell_type": "markdown",
   "id": "04be5a49",
   "metadata": {},
   "source": [
    "Fill the missing values in the `QuestionKey` column with the string 'None'. This helps to explicitly mark periods where no question was active."
   ]
  },
  {
   "cell_type": "code",
   "execution_count": null,
   "id": "a4640246",
   "metadata": {},
   "outputs": [],
   "source": [
    "df_23_EYE['QuestionKey'].fillna('None', inplace=True)"
   ]
  },
  {
   "cell_type": "markdown",
   "id": "3d4d0be3",
   "metadata": {},
   "source": [
    "Count the occurrences of each unique value in the `QuestionKey` column after filling missing values."
   ]
  },
  {
   "cell_type": "code",
   "execution_count": null,
   "id": "b3f6606b",
   "metadata": {},
   "outputs": [],
   "source": [
    "df_23_EYE['QuestionKey'].value_counts()"
   ]
  },
  {
   "cell_type": "markdown",
   "id": "72d618e9",
   "metadata": {},
   "source": [
    "Display the heatmap of missing values again to confirm that the missing values in `QuestionKey` have been handled."
   ]
  },
  {
   "cell_type": "code",
   "execution_count": null,
   "id": "bb330cf0",
   "metadata": {},
   "outputs": [],
   "source": [
    "plt.figure(figsize=(12,8))\n",
    "sns.heatmap(df_23_EYE.isnull(), cmap='viridis')\n",
    "plt.show()"
   ]
  },
  {
   "cell_type": "markdown",
   "id": "7df1ff9f",
   "metadata": {},
   "source": [
    "Recalculate and display the number of missing values per column to confirm the changes after handling `QuestionKey`."
   ]
  },
  {
   "cell_type": "code",
   "execution_count": null,
   "id": "7e75280c",
   "metadata": {},
   "outputs": [],
   "source": [
    "df_23_EYE.isnull().sum()"
   ]
  },
  {
   "cell_type": "markdown",
   "id": "65481e07",
   "metadata": {},
   "source": [
    "Drop rows that still contain any missing values. This is done after handling `QuestionKey` separately."
   ]
  },
  {
   "cell_type": "code",
   "execution_count": null,
   "id": "0de8a178",
   "metadata": {},
   "outputs": [],
   "source": [
    "df_23_EYE.dropna(inplace=True)"
   ]
  },
  {
   "cell_type": "markdown",
   "id": "31b1a481",
   "metadata": {},
   "source": [
    "Display the first few rows after dropping rows with missing values."
   ]
  },
  {
   "cell_type": "code",
   "execution_count": null,
   "id": "afec5287",
   "metadata": {},
   "outputs": [],
   "source": [
    "df_23_EYE.head()"
   ]
  },
  {
   "cell_type": "markdown",
   "id": "cf4339a0",
   "metadata": {},
   "source": [
    "Display the unique values in the `Row` column."
   ]
  },
  {
   "cell_type": "code",
   "execution_count": null,
   "id": "6d7557fc",
   "metadata": {},
   "outputs": [],
   "source": [
    "df_23_EYE['Row'].unique()"
   ]
  },
  {
   "cell_type": "markdown",
   "id": "a92f4abf",
   "metadata": {},
   "source": [
    "Plot a histogram of the `Row` column to visualize its distribution."
   ]
  },
  {
   "cell_type": "code",
   "execution_count": null,
   "id": "5618454f",
   "metadata": {},
   "outputs": [],
   "source": [
    "plt.figure(figsize=(8,6))\n",
    "sns.histplot(df_23_EYE['Row'])\n",
    "plt.show()"
   ]
  },
  {
   "cell_type": "markdown",
   "id": "31cd58ee",
   "metadata": {},
   "source": [
    "# Notes & Observations\n",
    "\n",
    "- The `Row` column appears to be a simple row index and does not provide meaningful information relevant to the eye-tracking data itself. Therefore, it can be dropped."
   ]
  },
  {
   "cell_type": "markdown",
   "id": "814f39c6",
   "metadata": {},
   "source": [
    "Drop the `Row` column as it is not relevant for the analysis."
   ]
  },
  {
   "cell_type": "code",
   "execution_count": null,
   "id": "38f96b05",
   "metadata": {},
   "outputs": [],
   "source": [
    "df_23_EYE.drop('Row', axis=1, inplace=True)"
   ]
  },
  {
   "cell_type": "markdown",
   "id": "a1584583",
   "metadata": {},
   "source": [
    "Display the unique values in the `ET_ValidityLeft` column."
   ]
  },
  {
   "cell_type": "code",
   "execution_count": null,
   "id": "1b88bfe1",
   "metadata": {},
   "outputs": [],
   "source": [
    "df_23_EYE['ET_ValidityLeft'].unique()"
   ]
  },
  {
   "cell_type": "markdown",
   "id": "ecf05e95",
   "metadata": {},
   "source": [
    "Count the occurrences of each unique value in the `ET_ValidityLeft` column."
   ]
  },
  {
   "cell_type": "code",
   "execution_count": null,
   "id": "9c25e3c7",
   "metadata": {},
   "outputs": [],
   "source": [
    "df_23_EYE['ET_ValidityLeft'].value_counts()"
   ]
  },
  {
   "cell_type": "markdown",
   "id": "d945830c",
   "metadata": {},
   "source": [
    "Display the unique values in the `ET_ValidityRight` column."
   ]
  },
  {
   "cell_type": "code",
   "execution_count": null,
   "id": "e967ad7c",
   "metadata": {},
   "outputs": [],
   "source": [
    "df_23_EYE['ET_ValidityRight'].unique()"
   ]
  },
  {
   "cell_type": "markdown",
   "id": "974dd280",
   "metadata": {},
   "source": [
    "Count the occurrences of each unique value in the `ET_ValidityRight` column."
   ]
  },
  {
   "cell_type": "code",
   "execution_count": null,
   "id": "0ca62bb3",
   "metadata": {},
   "outputs": [],
   "source": [
    "df_23_EYE['ET_ValidityRight'].value_counts()"
   ]
  },
  {
   "cell_type": "markdown",
   "id": "0004e719",
   "metadata": {},
   "source": [
    "Visualize the counts of valid and invalid data for both left and right eyes using bar plots."
   ]
  },
  {
   "cell_type": "code",
   "execution_count": null,
   "id": "409e8d6c",
   "metadata": {},
   "outputs": [],
   "source": [
    "plt.figure(figsize=(12, 6))\n",
    "\n",
    "plt.subplot(1, 2, 1)\n",
    "sns.barplot(x=df_23_EYE['ET_ValidityLeft'].value_counts().index, y=df_23_EYE['ET_ValidityLeft'].value_counts().values)\n",
    "plt.title('Count of ET_ValidityLeft')\n",
    "plt.xlabel('Validity')\n",
    "plt.ylabel('Count')\n",
    "\n",
    "\n",
    "plt.subplot(1, 2, 2)\n",
    "sns.barplot(x=df_23_EYE['ET_ValidityRight'].value_counts().index, y=df_23_EYE['ET_ValidityRight'].value_counts().values)\n",
    "plt.title('Count of ET_ValidityRight')\n",
    "plt.xlabel('Validity')\n",
    "plt.ylabel('Count')\n",
    "\n",
    "plt.tight_layout()\n",
    "plt.show()"
   ]
  },
  {
   "cell_type": "markdown",
   "id": "2c52603d",
   "metadata": {},
   "source": [
    "# Notes & Observations\n",
    "\n",
    "- The `ET_ValidityLeft` and `ET_ValidityRight` columns indicate the validity of the eye-tracking data for the left and right eye, respectively.\n",
    "- Based on the value counts and the bar plots, it appears that a value of `0.0` represents valid eye-tracking data, while a value of `4.0` represents invalid data.\n",
    "- Although the amount of invalid data is relatively small, removing these rows could introduce unwanted patterns or gaps in the time series data.\n",
    "- Therefore, we will keep the data and replace the value `4.0` with `1.0` in both `ET_ValidityLeft` and `ET_ValidityRight` columns. This will indicate to a machine learning model that the eye tracker had invalid data at those specific points in time while maintaining the integrity of the time series."
   ]
  },
  {
   "cell_type": "markdown",
   "id": "2b9ac4ab",
   "metadata": {},
   "source": [
    "Define a mapping to convert validity values from `0.0` and `4.0` to `0` and `1`."
   ]
  },
  {
   "cell_type": "code",
   "execution_count": null,
   "id": "03115da1",
   "metadata": {},
   "outputs": [],
   "source": [
    "validity_map = {4.0: 1.0, 0.0: 0.0}"
   ]
  },
  {
   "cell_type": "markdown",
   "id": "84b5eadd",
   "metadata": {},
   "source": [
    "Apply the mapping to the `ET_ValidityLeft` and `ET_ValidityRight` columns and convert the data type to integer."
   ]
  },
  {
   "cell_type": "code",
   "execution_count": null,
   "id": "e722a7f9",
   "metadata": {},
   "outputs": [],
   "source": [
    "df_23_EYE['ET_ValidityLeft'] = df_23_EYE['ET_ValidityLeft'].map(validity_map).astype(np.int8)\n",
    "df_23_EYE['ET_ValidityRight'] = df_23_EYE['ET_ValidityRight'].map(validity_map).astype(np.int8)"
   ]
  },
  {
   "cell_type": "markdown",
   "id": "0f108287",
   "metadata": {},
   "source": [
    "Display the first few rows to see the updated validity columns."
   ]
  },
  {
   "cell_type": "code",
   "execution_count": null,
   "id": "18c2ec11",
   "metadata": {},
   "outputs": [],
   "source": [
    "df_23_EYE.head(3)"
   ]
  },
  {
   "cell_type": "markdown",
   "id": "93838cf6",
   "metadata": {},
   "source": [
    "Display descriptive statistics for the DataFrame, including count, mean, standard deviation, min, max, and quartiles for numeric columns."
   ]
  },
  {
   "cell_type": "code",
   "execution_count": null,
   "id": "b709bb92",
   "metadata": {},
   "outputs": [],
   "source": [
    "df_23_EYE.describe()"
   ]
  },
  {
   "cell_type": "markdown",
   "id": "bbd0aded",
   "metadata": {},
   "source": [
    "Check the number of rows where `ET_ValidityLeft` is 1 (invalid data for the left eye)."
   ]
  },
  {
   "cell_type": "code",
   "execution_count": null,
   "id": "fcfad44f",
   "metadata": {},
   "outputs": [],
   "source": [
    "df_23_EYE[df_23_EYE['ET_ValidityLeft'] == 1].shape"
   ]
  },
  {
   "cell_type": "markdown",
   "id": "6b2c7ef5",
   "metadata": {},
   "source": [
    "Check the number of rows where `ET_ValidityRight` is 1 (invalid data for the right eye)."
   ]
  },
  {
   "cell_type": "code",
   "execution_count": null,
   "id": "707a52fd",
   "metadata": {},
   "outputs": [],
   "source": [
    "df_23_EYE[df_23_EYE['ET_ValidityRight'] == 1].shape"
   ]
  },
  {
   "cell_type": "markdown",
   "id": "4c46af2a",
   "metadata": {},
   "source": [
    "Visualize the distribution of -1 and 1 values across columns using heatmaps. This helps identify columns with placeholder or indicator values."
   ]
  },
  {
   "cell_type": "code",
   "execution_count": null,
   "id": "0756f5a4",
   "metadata": {},
   "outputs": [],
   "source": [
    "plt.figure(figsize=(18, 8))\n",
    "\n",
    "plt.subplot(1, 2, 1)\n",
    "sns.heatmap(df_23_EYE == -1, cmap='viridis')\n",
    "plt.title('Heatmap of -1 Values')\n",
    "\n",
    "plt.subplot(1, 2, 2)\n",
    "sns.heatmap(df_23_EYE == 1, cmap='viridis')\n",
    "plt.title('Heatmap of 1 Values')\n",
    "\n",
    "plt.tight_layout()\n",
    "plt.show()"
   ]
  },
  {
   "cell_type": "markdown",
   "id": "be205b2c",
   "metadata": {},
   "source": [
    "Check the number of rows where `ET_PupilLeft` is -1."
   ]
  },
  {
   "cell_type": "code",
   "execution_count": null,
   "id": "90c6c06c",
   "metadata": {},
   "outputs": [],
   "source": [
    "df_23_EYE[df_23_EYE['ET_PupilLeft'] == -1].shape"
   ]
  },
  {
   "cell_type": "markdown",
   "id": "2b0e830b",
   "metadata": {},
   "source": [
    "Check the number of rows where `ET_PupilRight` is -1."
   ]
  },
  {
   "cell_type": "code",
   "execution_count": null,
   "id": "982efe35",
   "metadata": {},
   "outputs": [],
   "source": [
    "df_23_EYE[df_23_EYE['ET_PupilRight'] == -1].shape"
   ]
  },
  {
   "cell_type": "markdown",
   "id": "0c9f2ccf",
   "metadata": {},
   "source": [
    "Calculate the ratio of rows with -1 values in the `ET_PupilLeft` column to the total number of rows."
   ]
  },
  {
   "cell_type": "code",
   "execution_count": null,
   "id": "176a91ee",
   "metadata": {},
   "outputs": [],
   "source": [
    "df_23_EYE[df_23_EYE['ET_PupilLeft'] == -1].shape[0] / df_23_EYE.shape[0]"
   ]
  },
  {
   "cell_type": "markdown",
   "id": "8fa6a42d",
   "metadata": {},
   "source": [
    "Calculate the ratio of rows with -1 values in the `ET_PupilRight` column to the total number of rows."
   ]
  },
  {
   "cell_type": "code",
   "execution_count": null,
   "id": "ce242acb",
   "metadata": {},
   "outputs": [],
   "source": [
    "df_23_EYE[df_23_EYE['ET_PupilRight'] == -1].shape[0] / df_23_EYE.shape[0]"
   ]
  },
  {
   "cell_type": "markdown",
   "id": "ea6b4470",
   "metadata": {},
   "source": [
    "Visualize the distribution of -1 values specifically for rows where validity is 1 (invalid data)."
   ]
  },
  {
   "cell_type": "code",
   "execution_count": null,
   "id": "1fec96bb",
   "metadata": {},
   "outputs": [],
   "source": [
    "plt.figure(figsize=(18, 8))\n",
    "\n",
    "plt.subplot(1, 2, 1)\n",
    "sns.heatmap(df_23_EYE[df_23_EYE['ET_ValidityLeft'] == 1] == -1, cmap='viridis')\n",
    "plt.title('Heatmap of -1 Values')\n",
    "\n",
    "plt.subplot(1, 2, 2)\n",
    "sns.heatmap(df_23_EYE[df_23_EYE['ET_ValidityRight'] == 1] == -1, cmap='viridis')\n",
    "plt.title('Heatmap of -1 Values')\n",
    "\n",
    "plt.tight_layout()\n",
    "plt.show()"
   ]
  },
  {
   "cell_type": "markdown",
   "id": "74102722",
   "metadata": {},
   "source": [
    "# Notes & Observations\n",
    "\n",
    "- The heatmaps reveal the distribution of -1 values across different columns.\n",
    "- It is evident that the `-1` values are not randomly scattered but appear in specific columns, notably `ET_GazeLeftx`, `ET_GazeLefty`, `ET_GazeRightx`, `ET_GazeRighty`, `ET_PupilLeft`, `ET_PupilRight`, `ET_DistanceLeft`, `ET_DistanceRight`, `ET_CameraLeftX`, `ET_CameraLeftY`, `ET_CameraRightX`, and `ET_CameraRightY`.\n",
    "- These `-1` values often coincide with instances where `ET_ValidityLeft` or `ET_ValidityRight` is 1, indicating invalid eye-tracking data. This suggests that `-1` is used as a placeholder for missing or invalid measurements in these columns when the eye tracker is not providing valid data for a particular eye.\n",
    "- Given that over 70% of the data in the `ET_PupilLeft` and `ET_PupilRight` columns is marked as invalid (-1), these columns may not be suitable for analysis and could be considered for dropping."
   ]
  },
  {
   "cell_type": "markdown",
   "id": "adbeb535",
   "metadata": {},
   "source": [
    "Drop the `ET_PupilLeft` and `ET_PupilRight` columns due to the high percentage of invalid data."
   ]
  },
  {
   "cell_type": "code",
   "execution_count": null,
   "id": "387e767a",
   "metadata": {},
   "outputs": [],
   "source": [
    "df_23_EYE.drop(['ET_PupilLeft', 'ET_PupilRight'], axis=1, inplace=True)"
   ]
  },
  {
   "cell_type": "markdown",
   "id": "80a42823",
   "metadata": {},
   "source": [
    "Display the first few rows after dropping the pupil columns."
   ]
  },
  {
   "cell_type": "code",
   "execution_count": null,
   "id": "9f5cb276",
   "metadata": {},
   "outputs": [],
   "source": [
    "df_23_EYE.head()"
   ]
  },
  {
   "cell_type": "markdown",
   "id": "c2040130",
   "metadata": {},
   "source": [
    "Visualize the distribution of -1 and 1 values again after dropping the pupil columns."
   ]
  },
  {
   "cell_type": "code",
   "execution_count": null,
   "id": "40597f7b",
   "metadata": {},
   "outputs": [],
   "source": [
    "plt.figure(figsize=(18, 8))\n",
    "\n",
    "plt.subplot(1, 2, 1)\n",
    "sns.heatmap(df_23_EYE == -1, cmap='viridis')\n",
    "plt.title('Heatmap of -1 Values')\n",
    "\n",
    "plt.subplot(1, 2, 2)\n",
    "sns.heatmap(df_23_EYE == 1, cmap='viridis')\n",
    "plt.title('Heatmap of -1 Values')\n",
    "\n",
    "plt.tight_layout()\n",
    "plt.show()"
   ]
  },
  {
   "cell_type": "markdown",
   "id": "5afa373f",
   "metadata": {},
   "source": [
    "Calculate the ratio of valid data points for the left eye."
   ]
  },
  {
   "cell_type": "code",
   "execution_count": null,
   "id": "8be2f449",
   "metadata": {},
   "outputs": [],
   "source": [
    "valid_left_ratio  = 1 - df_23_EYE['ET_ValidityLeft'].mean()"
   ]
  },
  {
   "cell_type": "markdown",
   "id": "77ddff88",
   "metadata": {},
   "source": [
    "Display the ratio of valid data points for the left eye."
   ]
  },
  {
   "cell_type": "code",
   "execution_count": null,
   "id": "be449fb0",
   "metadata": {},
   "outputs": [],
   "source": [
    "valid_left_ratio"
   ]
  },
  {
   "cell_type": "markdown",
   "id": "3c439cca",
   "metadata": {},
   "source": [
    "Calculate the ratio of valid data points for the right eye."
   ]
  },
  {
   "cell_type": "code",
   "execution_count": null,
   "id": "a5e431bd",
   "metadata": {},
   "outputs": [],
   "source": [
    "valid_right_ratio = 1 - df_23_EYE['ET_ValidityRight'].mean()"
   ]
  },
  {
   "cell_type": "markdown",
   "id": "a636642a",
   "metadata": {},
   "source": [
    "Display the ratio of valid data points for the right eye."
   ]
  },
  {
   "cell_type": "code",
   "execution_count": null,
   "id": "14817bba",
   "metadata": {},
   "outputs": [],
   "source": [
    "valid_right_ratio"
   ]
  },
  {
   "cell_type": "markdown",
   "id": "c73c8e67",
   "metadata": {},
   "source": [
    "Display the first few rows of the DataFrame."
   ]
  },
  {
   "cell_type": "code",
   "execution_count": null,
   "id": "47c29cf2",
   "metadata": {},
   "outputs": [],
   "source": [
    "df_23_EYE.head()"
   ]
  },
  {
   "cell_type": "markdown",
   "id": "521edbd4",
   "metadata": {},
   "source": [
    "Visualize the distributions of numeric columns using histograms with Kernel Density Estimate (KDE) plots. This helps understand the shape and spread of the data in each numeric column."
   ]
  },
  {
   "cell_type": "code",
   "execution_count": null,
   "id": "592f0d05",
   "metadata": {},
   "outputs": [],
   "source": [
    "# Select only the numeric columns for plotting histograms, excluding time-related columns\n",
    "numeric_cols = df_23_EYE.select_dtypes(include=np.number).columns\n",
    "cols_to_plot = [col for col in numeric_cols if col not in ['UnixTime']]\n",
    "\n",
    "# Calculate the number of rows and columns for the grid\n",
    "n_cols = 4  # You can adjust the number of columns as needed\n",
    "n_rows = (len(cols_to_plot) + n_cols - 1) // n_cols\n",
    "\n",
    "plt.figure(figsize=(n_cols * 5, n_rows * 4)) # Adjust figure size as needed\n",
    "\n",
    "for i, col in enumerate(cols_to_plot):\n",
    "    plt.subplot(n_rows, n_cols, i + 1)\n",
    "    sns.histplot(df_23_EYE[col], kde=True)\n",
    "    plt.title(f'Distribution of {col}')\n",
    "    plt.xlabel(col)\n",
    "    plt.ylabel('Frequency')\n",
    "\n",
    "plt.tight_layout()\n",
    "plt.show()"
   ]
  },
  {
   "cell_type": "markdown",
   "id": "cf2528e3",
   "metadata": {},
   "source": [
    "List the names of the columns in the DataFrame."
   ]
  },
  {
   "cell_type": "code",
   "execution_count": null,
   "id": "827947be",
   "metadata": {},
   "outputs": [],
   "source": [
    "df_23_EYE.columns"
   ]
  },
  {
   "cell_type": "markdown",
   "id": "f2985d2c",
   "metadata": {},
   "source": [
    "Define a list of columns to be plotted over time."
   ]
  },
  {
   "cell_type": "code",
   "execution_count": null,
   "id": "e25ddf27",
   "metadata": {},
   "outputs": [],
   "source": [
    "cols = ['ET_GazeLeftx', 'ET_GazeLefty',\n",
    "       'ET_GazeRightx', 'ET_GazeRighty', 'ET_TimeSignal', 'ET_DistanceLeft',\n",
    "       'ET_DistanceRight', 'ET_CameraLeftX', 'ET_CameraLeftY',\n",
    "       'ET_CameraRightX', 'ET_CameraRightY', 'ET_ValidityLeft',\n",
    "       'ET_ValidityRight']"
   ]
  },
  {
   "cell_type": "markdown",
   "id": "a6ad359c",
   "metadata": {},
   "source": [
    "Plot each of the selected columns against the timestamp to visualize their trends and patterns over time. Markdown cells are added before each plot for better readability."
   ]
  },
  {
   "cell_type": "code",
   "execution_count": null,
   "id": "5d24ef71",
   "metadata": {},
   "outputs": [],
   "source": [
    "from IPython.display import display, Markdown\n",
    "\n",
    "for col in cols:\n",
    "    # Add a markdown cell before each plot for better separation and labeling\n",
    "    display(Markdown(f'### {col} over Time'))\n",
    "    plt.figure(figsize=(16, 10))\n",
    "    plt.plot(df_23_EYE['Timestamp'], df_23_EYE[col])\n",
    "    plt.xlabel(\"Timestamp\") # Add x-axis label\n",
    "    plt.ylabel(col) # Add y-axis label\n",
    "    plt.show()"
   ]
  },
  {
   "cell_type": "markdown",
   "id": "0ff01b9f",
   "metadata": {},
   "source": [
    "Visualize the distributions of numeric columns using boxplots. This helps identify potential outliers and the spread of the data."
   ]
  },
  {
   "cell_type": "code",
   "execution_count": null,
   "id": "7851c9e3",
   "metadata": {},
   "outputs": [],
   "source": [
    "# Select only the numeric columns for plotting histograms, excluding time-related columns\n",
    "numeric_cols = df_23_EYE.select_dtypes(include=np.number).columns\n",
    "\n",
    "# Calculate the number of rows and columns for the grid\n",
    "n_cols = 4  # You can adjust the number of columns as needed\n",
    "n_rows = (len(numeric_cols) + n_cols - 1) // n_cols\n",
    "\n",
    "plt.figure(figsize=(n_cols * 5, n_rows * 4)) # Adjust figure size as needed\n",
    "\n",
    "for i, col in enumerate(numeric_cols):\n",
    "    plt.subplot(n_rows, n_cols, i + 1)\n",
    "    sns.boxplot(df_23_EYE[col])\n",
    "    plt.title(f'Boxplot of {col}')\n",
    "    plt.xlabel(col)\n",
    "\n",
    "plt.tight_layout()\n",
    "plt.show()"
   ]
  },
  {
   "cell_type": "markdown",
   "id": "8413ef2d",
   "metadata": {},
   "source": [
    "Replace the placeholder value -1 with NaN (Not a Number) in the DataFrame. This is done before imputation."
   ]
  },
  {
   "cell_type": "code",
   "execution_count": null,
   "id": "dfa7f1b0",
   "metadata": {},
   "outputs": [],
   "source": [
    "df_23_EYE.replace({-1: np.nan}, inplace=True)"
   ]
  },
  {
   "cell_type": "markdown",
   "id": "93b1c758",
   "metadata": {},
   "source": [
    "Impute the missing values (NaN) in the numeric columns with the mean of each column."
   ]
  },
  {
   "cell_type": "code",
   "execution_count": null,
   "id": "4f9fc888",
   "metadata": {},
   "outputs": [],
   "source": [
    "numeric_cols = df_23_EYE.select_dtypes(include=np.number).columns\n",
    "\n",
    "for col in numeric_cols:\n",
    "    df_23_EYE[col].fillna(df_23_EYE[col].mean(), inplace=True)"
   ]
  },
  {
   "cell_type": "markdown",
   "id": "bf7ea81d",
   "metadata": {},
   "source": [
    "Display the first few rows after imputing missing values."
   ]
  },
  {
   "cell_type": "code",
   "execution_count": null,
   "id": "de4e735d",
   "metadata": {},
   "outputs": [],
   "source": [
    "df_23_EYE.head()"
   ]
  },
  {
   "cell_type": "markdown",
   "id": "ce4b505d",
   "metadata": {},
   "source": [
    "Visualize the distributions of numeric columns again using histograms with KDE plots after imputation. This helps assess the impact of imputation on the data distributions."
   ]
  },
  {
   "cell_type": "code",
   "execution_count": null,
   "id": "b248019c",
   "metadata": {},
   "outputs": [],
   "source": [
    "# Select only the numeric columns for plotting histograms, excluding time-related columns\n",
    "numeric_cols = df_23_EYE.select_dtypes(include=np.number).columns\n",
    "cols_to_plot = [col for col in numeric_cols if col not in ['UnixTime']]\n",
    "\n",
    "# Calculate the number of rows and columns for the grid\n",
    "n_cols = 4  # You can adjust the number of columns as needed\n",
    "n_rows = (len(cols_to_plot) + n_cols - 1) // n_cols\n",
    "\n",
    "plt.figure(figsize=(n_cols * 5, n_rows * 4)) # Adjust figure size as needed\n",
    "\n",
    "for i, col in enumerate(cols_to_plot):\n",
    "    plt.subplot(n_rows, n_cols, i + 1)\n",
    "    sns.histplot(df_23_EYE[col], kde=True)\n",
    "    plt.title(f'Distribution of {col}')\n",
    "    plt.xlabel(col)\n",
    "    plt.ylabel('Frequency')\n",
    "\n",
    "plt.tight_layout()\n",
    "plt.show()"
   ]
  },
  {
   "cell_type": "code",
   "execution_count": null,
   "id": "9a00d041",
   "metadata": {},
   "outputs": [],
   "source": []
  },
  {
   "cell_type": "markdown",
   "id": "6f428ca6",
   "metadata": {},
   "source": [
    "## Student 24"
   ]
  },
  {
   "cell_type": "code",
   "execution_count": null,
   "id": "1d119aa6",
   "metadata": {},
   "outputs": [],
   "source": [
    "%load_ext cudf"
   ]
  },
  {
   "cell_type": "code",
   "execution_count": null,
   "id": "f068c766",
   "metadata": {},
   "outputs": [],
   "source": [
    "import numpy as np\n",
    "import pandas as pd\n",
    "import matplotlib.pyplot as plt\n",
    "import seaborn as sns"
   ]
  },
  {
   "cell_type": "code",
   "execution_count": null,
   "id": "33f5d776",
   "metadata": {},
   "outputs": [],
   "source": [
    "import datashader as ds\n",
    "import datashader.transfer_functions as tf"
   ]
  },
  {
   "cell_type": "code",
   "execution_count": null,
   "id": "8d8ef331",
   "metadata": {},
   "outputs": [],
   "source": [
    "pd.set_option('display.max_columns', None)"
   ]
  },
  {
   "cell_type": "code",
   "execution_count": null,
   "id": "7ee2021b",
   "metadata": {},
   "outputs": [],
   "source": [
    "df_24_EYE = pd.read_csv('data/STData/24/24_EYE.csv')"
   ]
  },
  {
   "cell_type": "code",
   "execution_count": null,
   "id": "e9398d7a",
   "metadata": {},
   "outputs": [],
   "source": [
    "df_24_EYE.head()"
   ]
  },
  {
   "cell_type": "code",
   "execution_count": null,
   "id": "8c33240c",
   "metadata": {},
   "outputs": [],
   "source": [
    "df_24_EYE.shape"
   ]
  },
  {
   "cell_type": "code",
   "execution_count": null,
   "id": "bc290f8e",
   "metadata": {},
   "outputs": [],
   "source": [
    "df_24_EYE.columns"
   ]
  },
  {
   "cell_type": "code",
   "execution_count": null,
   "id": "1b810e94",
   "metadata": {},
   "outputs": [],
   "source": [
    "df_24_EYE.info()"
   ]
  },
  {
   "cell_type": "code",
   "execution_count": null,
   "id": "f58630e9",
   "metadata": {},
   "outputs": [],
   "source": [
    "df_24_EYE.isnull().sum()"
   ]
  },
  {
   "cell_type": "code",
   "execution_count": null,
   "id": "8885d530",
   "metadata": {},
   "outputs": [],
   "source": [
    "plt.figure(figsize=(12,8))\n",
    "sns.heatmap(df_24_EYE.isnull(), cmap='viridis')\n",
    "plt.show()"
   ]
  },
  {
   "cell_type": "markdown",
   "id": "9890807f",
   "metadata": {},
   "source": [
    "# Notes & Observations\n",
    "\n",
    "- We observe many **null** (or missing) values in the `QuestionKey` columns.  \n",
    "- The nulls in the `QuestionKey` column may not represent “true” nulls. Rather, they follow interval patterns, suggesting that during those periods no question was displayed.  \n",
    "- These missing values in `QuestionKey` require additional investigation and context-aware handling.  "
   ]
  },
  {
   "cell_type": "code",
   "execution_count": null,
   "id": "3d505120",
   "metadata": {},
   "outputs": [],
   "source": [
    "df_24_EYE['QuestionKey'].unique()"
   ]
  },
  {
   "cell_type": "code",
   "execution_count": null,
   "id": "31f5fb8b",
   "metadata": {},
   "outputs": [],
   "source": [
    "df_24_EYE['Timestamp'] = pd.to_datetime(df_24_EYE['Timestamp'])"
   ]
  },
  {
   "cell_type": "code",
   "execution_count": null,
   "id": "7876c1a3",
   "metadata": {},
   "outputs": [],
   "source": [
    "df_24_EYE.head(3)"
   ]
  },
  {
   "cell_type": "code",
   "execution_count": null,
   "id": "f4d49f42",
   "metadata": {},
   "outputs": [],
   "source": [
    "df_24_EYE['QuestionKey'].fillna('None', inplace=True)"
   ]
  },
  {
   "cell_type": "code",
   "execution_count": null,
   "id": "d4431210",
   "metadata": {},
   "outputs": [],
   "source": [
    "df_24_EYE['QuestionKey'].value_counts()"
   ]
  },
  {
   "cell_type": "code",
   "execution_count": null,
   "id": "bfa758de",
   "metadata": {},
   "outputs": [],
   "source": [
    "plt.figure(figsize=(12,8))\n",
    "sns.heatmap(df_24_EYE.isnull(), cmap='viridis')\n",
    "plt.show()"
   ]
  },
  {
   "cell_type": "code",
   "execution_count": null,
   "id": "49859351",
   "metadata": {},
   "outputs": [],
   "source": [
    "df_24_EYE.isnull().sum()"
   ]
  },
  {
   "cell_type": "code",
   "execution_count": null,
   "id": "17f20758",
   "metadata": {},
   "outputs": [],
   "source": [
    "df_24_EYE.dropna(inplace=True)"
   ]
  },
  {
   "cell_type": "code",
   "execution_count": null,
   "id": "c287d184",
   "metadata": {},
   "outputs": [],
   "source": [
    "df_24_EYE.head()"
   ]
  },
  {
   "cell_type": "code",
   "execution_count": null,
   "id": "1fe81043",
   "metadata": {},
   "outputs": [],
   "source": [
    "df_24_EYE['Row'].unique()"
   ]
  },
  {
   "cell_type": "code",
   "execution_count": null,
   "id": "ea0f3daf",
   "metadata": {},
   "outputs": [],
   "source": [
    "plt.figure(figsize=(8,6))\n",
    "sns.histplot(df_24_EYE['Row'])\n",
    "plt.show()"
   ]
  },
  {
   "cell_type": "markdown",
   "id": "f1b4e73b",
   "metadata": {},
   "source": [
    "# Notes & Observations\n",
    "\n",
    "- The `Row` column appears to be a simple row index and does not provide meaningful information relevant to the eye-tracking data itself. Therefore, it can be dropped."
   ]
  },
  {
   "cell_type": "code",
   "execution_count": null,
   "id": "bb5b51de",
   "metadata": {},
   "outputs": [],
   "source": [
    "df_24_EYE.drop('Row', axis=1, inplace=True)"
   ]
  },
  {
   "cell_type": "code",
   "execution_count": null,
   "id": "bbf4ecf4",
   "metadata": {},
   "outputs": [],
   "source": [
    "df_24_EYE['ET_ValidityLeft'].unique()"
   ]
  },
  {
   "cell_type": "code",
   "execution_count": null,
   "id": "41373b00",
   "metadata": {},
   "outputs": [],
   "source": [
    "df_24_EYE['ET_ValidityLeft'].value_counts()"
   ]
  },
  {
   "cell_type": "code",
   "execution_count": null,
   "id": "1ff5e4a3",
   "metadata": {},
   "outputs": [],
   "source": [
    "df_24_EYE['ET_ValidityRight'].unique()"
   ]
  },
  {
   "cell_type": "code",
   "execution_count": null,
   "id": "3339d5b4",
   "metadata": {},
   "outputs": [],
   "source": [
    "df_24_EYE['ET_ValidityRight'].value_counts()"
   ]
  },
  {
   "cell_type": "code",
   "execution_count": null,
   "id": "aef51121",
   "metadata": {},
   "outputs": [],
   "source": [
    "plt.figure(figsize=(12, 6))\n",
    "\n",
    "plt.subplot(1, 2, 1)\n",
    "sns.barplot(x=df_24_EYE['ET_ValidityLeft'].value_counts().index, y=df_24_EYE['ET_ValidityLeft'].value_counts().values)\n",
    "plt.title('Count of ET_ValidityLeft')\n",
    "plt.xlabel('Validity')\n",
    "plt.ylabel('Count')\n",
    "\n",
    "\n",
    "plt.subplot(1, 2, 2)\n",
    "sns.barplot(x=df_24_EYE['ET_ValidityRight'].value_counts().index, y=df_24_EYE['ET_ValidityRight'].value_counts().values)\n",
    "plt.title('Count of ET_ValidityRight')\n",
    "plt.xlabel('Validity')\n",
    "plt.ylabel('Count')\n",
    "\n",
    "plt.tight_layout()\n",
    "plt.show()"
   ]
  },
  {
   "cell_type": "markdown",
   "id": "56e8fab3",
   "metadata": {},
   "source": [
    "# Notes & Observations\n",
    "\n",
    "- The `ET_ValidityLeft` and `ET_ValidityRight` columns indicate the validity of the eye-tracking data for the left and right eye, respectively.\n",
    "- Based on the value counts and the bar plots, it appears that a value of `0.0` represents valid eye-tracking data, while a value of `4.0` represents invalid data.\n",
    "- Although the amount of invalid data is relatively small, removing these rows could introduce unwanted patterns or gaps in the time series data.\n",
    "- Therefore, we will keep the data and replace the value `4.0` with `1.0` in both `ET_ValidityLeft` and `ET_ValidityRight` columns. This will indicate to a machine learning model that the eye tracker had invalid data at those specific points in time while maintaining the integrity of the time series."
   ]
  },
  {
   "cell_type": "code",
   "execution_count": null,
   "id": "56bf3e34",
   "metadata": {},
   "outputs": [],
   "source": [
    "validity_map = {4.0: 1.0, 0.0: 0.0}"
   ]
  },
  {
   "cell_type": "code",
   "execution_count": null,
   "id": "944f5c30",
   "metadata": {},
   "outputs": [],
   "source": [
    "df_24_EYE['ET_ValidityLeft'] = df_24_EYE['ET_ValidityLeft'].map(validity_map).astype(np.int8)\n",
    "df_24_EYE['ET_ValidityRight'] = df_24_EYE['ET_ValidityRight'].map(validity_map).astype(np.int8)"
   ]
  },
  {
   "cell_type": "code",
   "execution_count": null,
   "id": "7ec5eab8",
   "metadata": {},
   "outputs": [],
   "source": [
    "df_24_EYE.head(3)"
   ]
  },
  {
   "cell_type": "code",
   "execution_count": null,
   "id": "48c2cf76",
   "metadata": {},
   "outputs": [],
   "source": [
    "df_24_EYE.describe()"
   ]
  },
  {
   "cell_type": "code",
   "execution_count": null,
   "id": "92e467a4",
   "metadata": {},
   "outputs": [],
   "source": [
    "df_24_EYE[df_24_EYE['ET_ValidityLeft'] == 1].shape"
   ]
  },
  {
   "cell_type": "code",
   "execution_count": null,
   "id": "fc42723c",
   "metadata": {},
   "outputs": [],
   "source": [
    "df_24_EYE[df_24_EYE['ET_ValidityRight'] == 1].shape"
   ]
  },
  {
   "cell_type": "code",
   "execution_count": null,
   "id": "019638fe",
   "metadata": {},
   "outputs": [],
   "source": [
    "plt.figure(figsize=(18, 8))\n",
    "\n",
    "plt.subplot(1, 2, 1)\n",
    "sns.heatmap(df_24_EYE == -1, cmap='viridis')\n",
    "plt.title('Heatmap of -1 Values')\n",
    "\n",
    "plt.subplot(1, 2, 2)\n",
    "sns.heatmap(df_24_EYE == 1, cmap='viridis')\n",
    "plt.title('Heatmap of 1 Values')\n",
    "\n",
    "plt.tight_layout()\n",
    "plt.show()"
   ]
  },
  {
   "cell_type": "code",
   "execution_count": null,
   "id": "73ad558c",
   "metadata": {},
   "outputs": [],
   "source": [
    "df_24_EYE[df_24_EYE['ET_PupilLeft'] == -1].shape"
   ]
  },
  {
   "cell_type": "code",
   "execution_count": null,
   "id": "e3e7bc2b",
   "metadata": {},
   "outputs": [],
   "source": [
    "df_24_EYE[df_24_EYE['ET_PupilRight'] == -1].shape"
   ]
  },
  {
   "cell_type": "code",
   "execution_count": null,
   "id": "1b06ce17",
   "metadata": {},
   "outputs": [],
   "source": [
    "df_24_EYE[df_24_EYE['ET_PupilLeft'] == -1].shape[0] / df_24_EYE.shape[0]"
   ]
  },
  {
   "cell_type": "code",
   "execution_count": null,
   "id": "88d903b1",
   "metadata": {},
   "outputs": [],
   "source": [
    "df_24_EYE[df_24_EYE['ET_PupilRight'] == -1].shape[0] / df_24_EYE.shape[0]"
   ]
  },
  {
   "cell_type": "code",
   "execution_count": null,
   "id": "e7946f8a",
   "metadata": {},
   "outputs": [],
   "source": [
    "plt.figure(figsize=(18, 8))\n",
    "\n",
    "plt.subplot(1, 2, 1)\n",
    "sns.heatmap(df_24_EYE[df_24_EYE['ET_ValidityLeft'] == 1] == -1, cmap='viridis')\n",
    "plt.title('Heatmap of -1 Values')\n",
    "\n",
    "plt.subplot(1, 2, 2)\n",
    "sns.heatmap(df_24_EYE[df_24_EYE['ET_ValidityRight'] == 1] == -1, cmap='viridis')\n",
    "plt.title('Heatmap of -1 Values')\n",
    "\n",
    "plt.tight_layout()\n",
    "plt.show()"
   ]
  },
  {
   "cell_type": "markdown",
   "id": "c3520241",
   "metadata": {},
   "source": [
    "# Notes & Observations\n",
    "\n",
    "- The heatmaps reveal the distribution of -1 values across different columns.\n",
    "- It is evident that the `-1` values are not randomly scattered but appear in specific columns, notably `ET_GazeLeftx`, `ET_GazeLefty`, `ET_GazeRightx`, `ET_GazeRighty`, `ET_PupilLeft`, `ET_PupilRight`, `ET_DistanceLeft`, `ET_DistanceRight`, `ET_CameraLeftX`, `ET_CameraLeftY`, `ET_CameraRightX`, and `ET_CameraRightY`.\n",
    "- These `-1` values often coincide with instances where `ET_ValidityLeft` or `ET_ValidityRight` is 1, indicating invalid eye-tracking data. This suggests that `-1` is used as a placeholder for missing or invalid measurements in these columns when the eye tracker is not providing valid data for a particular eye.\n",
    "- Given that over 70% of the data in the `ET_PupilLeft` and `ET_PupilRight` columns is marked as invalid (-1), these columns may not be suitable for analysis and could be considered for dropping."
   ]
  },
  {
   "cell_type": "code",
   "execution_count": null,
   "id": "0628b453",
   "metadata": {},
   "outputs": [],
   "source": [
    "df_24_EYE.drop(['ET_PupilLeft', 'ET_PupilRight'], axis=1, inplace=True)"
   ]
  },
  {
   "cell_type": "code",
   "execution_count": null,
   "id": "d59822ab",
   "metadata": {},
   "outputs": [],
   "source": [
    "df_24_EYE.head()"
   ]
  },
  {
   "cell_type": "code",
   "execution_count": null,
   "id": "29bd7ab8",
   "metadata": {},
   "outputs": [],
   "source": [
    "plt.figure(figsize=(18, 8))\n",
    "\n",
    "plt.subplot(1, 2, 1)\n",
    "sns.heatmap(df_24_EYE == -1, cmap='viridis')\n",
    "plt.title('Heatmap of -1 Values')\n",
    "\n",
    "plt.subplot(1, 2, 2)\n",
    "sns.heatmap(df_24_EYE == 1, cmap='viridis')\n",
    "plt.title('Heatmap of -1 Values')\n",
    "\n",
    "plt.tight_layout()\n",
    "plt.show()"
   ]
  },
  {
   "cell_type": "code",
   "execution_count": null,
   "id": "081b7e85",
   "metadata": {},
   "outputs": [],
   "source": [
    "valid_left_ratio  = 1 - df_24_EYE['ET_ValidityLeft'].mean()\n",
    "valid_right_ratio = 1 - df_24_EYE['ET_ValidityRight'].mean()"
   ]
  },
  {
   "cell_type": "code",
   "execution_count": null,
   "id": "2c9ad097",
   "metadata": {},
   "outputs": [],
   "source": [
    "valid_left_ratio"
   ]
  },
  {
   "cell_type": "code",
   "execution_count": null,
   "id": "bdd0e818",
   "metadata": {},
   "outputs": [],
   "source": [
    "valid_right_ratio"
   ]
  },
  {
   "cell_type": "code",
   "execution_count": null,
   "id": "2a396ff6",
   "metadata": {},
   "outputs": [],
   "source": [
    "df_24_EYE.head()"
   ]
  },
  {
   "cell_type": "code",
   "execution_count": null,
   "id": "e4f8440f",
   "metadata": {},
   "outputs": [],
   "source": [
    "# Select only the numeric columns for plotting histograms, excluding time-related columns\n",
    "numeric_cols = df_24_EYE.select_dtypes(include=np.number).columns\n",
    "cols_to_plot = [col for col in numeric_cols if col not in ['UnixTime']]\n",
    "\n",
    "# Calculate the number of rows and columns for the grid\n",
    "n_cols = 4  # You can adjust the number of columns as needed\n",
    "n_rows = (len(cols_to_plot) + n_cols - 1) // n_cols\n",
    "\n",
    "plt.figure(figsize=(n_cols * 5, n_rows * 4)) # Adjust figure size as needed\n",
    "\n",
    "for i, col in enumerate(cols_to_plot):\n",
    "    plt.subplot(n_rows, n_cols, i + 1)\n",
    "    sns.histplot(df_24_EYE[col], kde=True)\n",
    "    plt.title(f'Distribution of {col}')\n",
    "    plt.xlabel(col)\n",
    "    plt.ylabel('Frequency')\n",
    "\n",
    "plt.tight_layout()\n",
    "plt.show()"
   ]
  },
  {
   "cell_type": "code",
   "execution_count": null,
   "id": "42f85059",
   "metadata": {},
   "outputs": [],
   "source": [
    "df_24_EYE.columns"
   ]
  },
  {
   "cell_type": "code",
   "execution_count": null,
   "id": "6d1b61f5",
   "metadata": {},
   "outputs": [],
   "source": [
    "cols = ['ET_GazeLeftx', 'ET_GazeLefty',\n",
    "       'ET_GazeRightx', 'ET_GazeRighty', 'ET_TimeSignal', 'ET_DistanceLeft',\n",
    "       'ET_DistanceRight', 'ET_CameraLeftX', 'ET_CameraLeftY',\n",
    "       'ET_CameraRightX', 'ET_CameraRightY', 'ET_ValidityLeft',\n",
    "       'ET_ValidityRight']"
   ]
  },
  {
   "cell_type": "code",
   "execution_count": null,
   "id": "2312afb4",
   "metadata": {},
   "outputs": [],
   "source": [
    "from IPython.display import display, Markdown\n",
    "\n",
    "for col in cols:\n",
    "    # Add a markdown cell before each plot for better separation and labeling\n",
    "    display(Markdown(f'### {col} over Time'))\n",
    "    plt.figure(figsize=(16, 10))\n",
    "    plt.plot(df_24_EYE['Timestamp'], df_24_EYE[col])\n",
    "    plt.xlabel(\"Timestamp\") # Add x-axis label\n",
    "    plt.ylabel(col) # Add y-axis label\n",
    "    plt.show()"
   ]
  },
  {
   "cell_type": "code",
   "execution_count": null,
   "id": "5eca8ba4",
   "metadata": {},
   "outputs": [],
   "source": [
    "# Select only the numeric columns for plotting histograms, excluding time-related columns\n",
    "numeric_cols = df_24_EYE.select_dtypes(include=np.number).columns\n",
    "\n",
    "# Calculate the number of rows and columns for the grid\n",
    "n_cols = 4  # You can adjust the number of columns as needed\n",
    "n_rows = (len(numeric_cols) + n_cols - 1) // n_cols\n",
    "\n",
    "plt.figure(figsize=(n_cols * 5, n_rows * 4)) # Adjust figure size as needed\n",
    "\n",
    "for i, col in enumerate(numeric_cols):\n",
    "    plt.subplot(n_rows, n_cols, i + 1)\n",
    "    sns.boxplot(df_24_EYE[col])\n",
    "    plt.title(f'Boxplot of {col}')\n",
    "    plt.xlabel(col)\n",
    "\n",
    "plt.tight_layout()\n",
    "plt.show()"
   ]
  },
  {
   "cell_type": "code",
   "execution_count": null,
   "id": "6e12a012",
   "metadata": {},
   "outputs": [],
   "source": [
    "df_24_EYE.replace({-1: np.nan}, inplace=True)"
   ]
  },
  {
   "cell_type": "code",
   "execution_count": null,
   "id": "08c21d7b",
   "metadata": {},
   "outputs": [],
   "source": [
    "numeric_cols = df_24_EYE.select_dtypes(include=np.number).columns\n",
    "\n",
    "for col in numeric_cols:\n",
    "    df_24_EYE[col].fillna(df_24_EYE[col].mean(), inplace=True)"
   ]
  },
  {
   "cell_type": "code",
   "execution_count": null,
   "id": "f45749fe",
   "metadata": {},
   "outputs": [],
   "source": [
    "df_24_EYE.head()"
   ]
  },
  {
   "cell_type": "code",
   "execution_count": null,
   "id": "81dd6278",
   "metadata": {},
   "outputs": [],
   "source": [
    "# Select only the numeric columns for plotting histograms, excluding time-related columns\n",
    "numeric_cols = df_24_EYE.select_dtypes(include=np.number).columns\n",
    "cols_to_plot = [col for col in numeric_cols if col not in ['UnixTime']]\n",
    "\n",
    "# Calculate the number of rows and columns for the grid\n",
    "n_cols = 4  # You can adjust the number of columns as needed\n",
    "n_rows = (len(cols_to_plot) + n_cols - 1) // n_cols\n",
    "\n",
    "plt.figure(figsize=(n_cols * 5, n_rows * 4)) # Adjust figure size as needed\n",
    "\n",
    "for i, col in enumerate(cols_to_plot):\n",
    "    plt.subplot(n_rows, n_cols, i + 1)\n",
    "    sns.histplot(df_24_EYE[col], kde=True)\n",
    "    plt.title(f'Distribution of {col}')\n",
    "    plt.xlabel(col)\n",
    "    plt.ylabel('Frequency')\n",
    "\n",
    "plt.tight_layout()\n",
    "plt.show()"
   ]
  },
  {
   "cell_type": "code",
   "execution_count": null,
   "id": "e336f7bc",
   "metadata": {},
   "outputs": [],
   "source": []
  },
  {
   "cell_type": "code",
   "execution_count": null,
   "id": "96bafdde",
   "metadata": {},
   "outputs": [],
   "source": []
  },
  {
   "cell_type": "code",
   "execution_count": null,
   "id": "197286fb",
   "metadata": {},
   "outputs": [],
   "source": []
  },
  {
   "cell_type": "code",
   "execution_count": null,
   "id": "444db7dd",
   "metadata": {},
   "outputs": [],
   "source": []
  },
  {
   "cell_type": "code",
   "execution_count": null,
   "id": "bfafc7bf",
   "metadata": {},
   "outputs": [],
   "source": []
  },
  {
   "cell_type": "code",
   "execution_count": null,
   "id": "d6b11a10",
   "metadata": {},
   "outputs": [],
   "source": []
  },
  {
   "cell_type": "code",
   "execution_count": null,
   "id": "0429ceaf",
   "metadata": {},
   "outputs": [],
   "source": []
  },
  {
   "cell_type": "code",
   "execution_count": null,
   "id": "075ef4ef",
   "metadata": {},
   "outputs": [],
   "source": []
  },
  {
   "cell_type": "code",
   "execution_count": null,
   "id": "ac79f7f5",
   "metadata": {},
   "outputs": [],
   "source": []
  },
  {
   "cell_type": "code",
   "execution_count": null,
   "id": "7d79960d",
   "metadata": {},
   "outputs": [],
   "source": []
  },
  {
   "cell_type": "code",
   "execution_count": null,
   "id": "6f59df1c",
   "metadata": {},
   "outputs": [],
   "source": []
  },
  {
   "cell_type": "code",
   "execution_count": null,
   "id": "9ae0c5ba",
   "metadata": {},
   "outputs": [],
   "source": []
  },
  {
   "cell_type": "markdown",
   "id": "372af765",
   "metadata": {},
   "source": [
    "# Eye Tracking Data Analysis\n",
    "\n",
    "This notebook performs exploratory data analysis and cleaning on eye-tracking data.\n",
    "\n",
    "## Data Loading and Initial Inspection"
   ]
  },
  {
   "cell_type": "code",
   "execution_count": null,
   "id": "9de8993e",
   "metadata": {},
   "outputs": [],
   "source": [
    "%load_ext cudf"
   ]
  },
  {
   "cell_type": "markdown",
   "id": "c8251534",
   "metadata": {},
   "source": [
    "Import necessary libraries for data manipulation, analysis, and visualization."
   ]
  },
  {
   "cell_type": "code",
   "execution_count": null,
   "id": "d600c0ed",
   "metadata": {},
   "outputs": [],
   "source": [
    "import numpy as np\n",
    "import pandas as pd\n",
    "import matplotlib.pyplot as plt\n",
    "import seaborn as sns"
   ]
  },
  {
   "cell_type": "markdown",
   "id": "08f345c3",
   "metadata": {},
   "source": [
    "Import libraries for datashader, which can be used for visualizing large datasets."
   ]
  },
  {
   "cell_type": "code",
   "execution_count": null,
   "id": "68ec0d5f",
   "metadata": {},
   "outputs": [],
   "source": [
    "import datashader as ds\n",
    "import datashader.transfer_functions as tf"
   ]
  },
  {
   "cell_type": "markdown",
   "id": "68a4b8c6",
   "metadata": {},
   "source": [
    "Set pandas display options to show all columns."
   ]
  },
  {
   "cell_type": "code",
   "execution_count": null,
   "id": "55e22bb7",
   "metadata": {},
   "outputs": [],
   "source": [
    "pd.set_option('display.max_columns', None)"
   ]
  },
  {
   "cell_type": "markdown",
   "id": "af243df2",
   "metadata": {},
   "source": [
    "Load the eye-tracking data from the specified CSV file into a pandas DataFrame."
   ]
  },
  {
   "cell_type": "code",
   "execution_count": null,
   "id": "4a636fc3",
   "metadata": {},
   "outputs": [],
   "source": [
    "df_24_EYE = pd.read_csv('data/STData/24/24_EYE.csv')"
   ]
  },
  {
   "cell_type": "markdown",
   "id": "5f3e7450",
   "metadata": {},
   "source": [
    "Display the first few rows of the DataFrame to get an initial look at the data structure and content."
   ]
  },
  {
   "cell_type": "code",
   "execution_count": null,
   "id": "cf8e1748",
   "metadata": {},
   "outputs": [],
   "source": [
    "df_24_EYE.head()"
   ]
  },
  {
   "cell_type": "markdown",
   "id": "6670fff3",
   "metadata": {},
   "source": [
    "Check the dimensions (number of rows and columns) of the DataFrame."
   ]
  },
  {
   "cell_type": "code",
   "execution_count": null,
   "id": "9637597a",
   "metadata": {},
   "outputs": [],
   "source": [
    "df_24_EYE.shape"
   ]
  },
  {
   "cell_type": "markdown",
   "id": "4d05a57f",
   "metadata": {},
   "source": [
    "List the names of all columns in the DataFrame."
   ]
  },
  {
   "cell_type": "code",
   "execution_count": null,
   "id": "e0e540ca",
   "metadata": {},
   "outputs": [],
   "source": [
    "df_24_EYE.columns"
   ]
  },
  {
   "cell_type": "markdown",
   "id": "fe531afb",
   "metadata": {},
   "source": [
    "Display concise information about the DataFrame, including the data types of each column and the number of non-null values. This helps identify columns with missing data."
   ]
  },
  {
   "cell_type": "code",
   "execution_count": null,
   "id": "593b2527",
   "metadata": {},
   "outputs": [],
   "source": [
    "df_24_EYE.info()"
   ]
  },
  {
   "cell_type": "markdown",
   "id": "4ed852cf",
   "metadata": {},
   "source": [
    "Calculate and display the number of missing values in each column."
   ]
  },
  {
   "cell_type": "code",
   "execution_count": null,
   "id": "b4b592c9",
   "metadata": {},
   "outputs": [],
   "source": [
    "df_24_EYE.isnull().sum()"
   ]
  },
  {
   "cell_type": "markdown",
   "id": "3e5d05d8",
   "metadata": {},
   "source": [
    "Visualize the distribution of missing values using a heatmap. This provides a visual representation of which columns have missing data and the extent of missingness."
   ]
  },
  {
   "cell_type": "code",
   "execution_count": null,
   "id": "c1988b09",
   "metadata": {},
   "outputs": [],
   "source": [
    "plt.figure(figsize=(12,8))\n",
    "sns.heatmap(df_24_EYE.isnull(), cmap='viridis')\n",
    "plt.show()"
   ]
  },
  {
   "cell_type": "markdown",
   "id": "dc574753",
   "metadata": {},
   "source": [
    "# Notes & Observations\n",
    "\n",
    "- We observe many **null** (or missing) values in the `QuestionKey` columns.\n",
    "- The nulls in the `QuestionKey` column may not represent “true” nulls. Rather, they follow interval patterns, suggesting that during those periods no question was displayed.\n",
    "- These missing values in `QuestionKey` require additional investigation and context-aware handling."
   ]
  },
  {
   "cell_type": "markdown",
   "id": "6f70a3ba",
   "metadata": {},
   "source": [
    "Display the unique values in the `QuestionKey` column to understand the different types of questions or states recorded."
   ]
  },
  {
   "cell_type": "code",
   "execution_count": null,
   "id": "1eb8949a",
   "metadata": {},
   "outputs": [],
   "source": [
    "df_24_EYE['QuestionKey'].unique()"
   ]
  },
  {
   "cell_type": "markdown",
   "id": "0b9ec23e",
   "metadata": {},
   "source": [
    "Convert the `Timestamp` column to datetime objects. This is crucial for any time series analysis or manipulation."
   ]
  },
  {
   "cell_type": "code",
   "execution_count": null,
   "id": "00685acf",
   "metadata": {},
   "outputs": [],
   "source": [
    "df_24_EYE['Timestamp'] = pd.to_datetime(df_24_EYE['Timestamp'])"
   ]
  },
  {
   "cell_type": "markdown",
   "id": "3576dd86",
   "metadata": {},
   "source": [
    "Display the first few rows again to see the effect of the timestamp conversion."
   ]
  },
  {
   "cell_type": "code",
   "execution_count": null,
   "id": "d628adeb",
   "metadata": {},
   "outputs": [],
   "source": [
    "df_24_EYE.head(3)"
   ]
  },
  {
   "cell_type": "markdown",
   "id": "ef7d13d9",
   "metadata": {},
   "source": [
    "Fill the missing values in the `QuestionKey` column with the string 'None'. This helps to explicitly mark periods where no question was active."
   ]
  },
  {
   "cell_type": "code",
   "execution_count": null,
   "id": "7d95bb5a",
   "metadata": {},
   "outputs": [],
   "source": [
    "df_24_EYE['QuestionKey'].fillna('None', inplace=True)"
   ]
  },
  {
   "cell_type": "markdown",
   "id": "21d3118c",
   "metadata": {},
   "source": [
    "Count the occurrences of each unique value in the `QuestionKey` column after filling missing values."
   ]
  },
  {
   "cell_type": "code",
   "execution_count": null,
   "id": "05ce0ad4",
   "metadata": {},
   "outputs": [],
   "source": [
    "df_24_EYE['QuestionKey'].value_counts()"
   ]
  },
  {
   "cell_type": "markdown",
   "id": "b080e88a",
   "metadata": {},
   "source": [
    "Display the heatmap of missing values again to confirm that the missing values in `QuestionKey` have been handled."
   ]
  },
  {
   "cell_type": "code",
   "execution_count": null,
   "id": "8df7491c",
   "metadata": {},
   "outputs": [],
   "source": [
    "plt.figure(figsize=(12,8))\n",
    "sns.heatmap(df_24_EYE.isnull(), cmap='viridis')\n",
    "plt.show()"
   ]
  },
  {
   "cell_type": "markdown",
   "id": "ea1c4b7b",
   "metadata": {},
   "source": [
    "Recalculate and display the number of missing values per column to confirm the changes after handling `QuestionKey`."
   ]
  },
  {
   "cell_type": "code",
   "execution_count": null,
   "id": "91b68e40",
   "metadata": {},
   "outputs": [],
   "source": [
    "df_24_EYE.isnull().sum()"
   ]
  },
  {
   "cell_type": "markdown",
   "id": "0be46db3",
   "metadata": {},
   "source": [
    "Drop rows that still contain any missing values. This is done after handling `QuestionKey` separately."
   ]
  },
  {
   "cell_type": "code",
   "execution_count": null,
   "id": "ba640651",
   "metadata": {},
   "outputs": [],
   "source": [
    "df_24_EYE.dropna(inplace=True)"
   ]
  },
  {
   "cell_type": "markdown",
   "id": "57954019",
   "metadata": {},
   "source": [
    "Display the first few rows after dropping rows with missing values."
   ]
  },
  {
   "cell_type": "code",
   "execution_count": null,
   "id": "26918f53",
   "metadata": {},
   "outputs": [],
   "source": [
    "df_24_EYE.head()"
   ]
  },
  {
   "cell_type": "markdown",
   "id": "8604f1aa",
   "metadata": {},
   "source": [
    "Display the unique values in the `Row` column."
   ]
  },
  {
   "cell_type": "code",
   "execution_count": null,
   "id": "2e621893",
   "metadata": {},
   "outputs": [],
   "source": [
    "df_24_EYE['Row'].unique()"
   ]
  },
  {
   "cell_type": "markdown",
   "id": "e9479590",
   "metadata": {},
   "source": [
    "Plot a histogram of the `Row` column to visualize its distribution."
   ]
  },
  {
   "cell_type": "code",
   "execution_count": null,
   "id": "4d30ea37",
   "metadata": {},
   "outputs": [],
   "source": [
    "plt.figure(figsize=(8,6))\n",
    "sns.histplot(df_24_EYE['Row'])\n",
    "plt.show()"
   ]
  },
  {
   "cell_type": "markdown",
   "id": "0f229186",
   "metadata": {},
   "source": [
    "# Notes & Observations\n",
    "\n",
    "- The `Row` column appears to be a simple row index and does not provide meaningful information relevant to the eye-tracking data itself. Therefore, it can be dropped."
   ]
  },
  {
   "cell_type": "markdown",
   "id": "4e41b2e7",
   "metadata": {},
   "source": [
    "Drop the `Row` column as it is not relevant for the analysis."
   ]
  },
  {
   "cell_type": "code",
   "execution_count": null,
   "id": "9384c304",
   "metadata": {},
   "outputs": [],
   "source": [
    "df_24_EYE.drop('Row', axis=1, inplace=True)"
   ]
  },
  {
   "cell_type": "markdown",
   "id": "ad2cca77",
   "metadata": {},
   "source": [
    "Display the unique values in the `ET_ValidityLeft` column."
   ]
  },
  {
   "cell_type": "code",
   "execution_count": null,
   "id": "81dc1e3e",
   "metadata": {},
   "outputs": [],
   "source": [
    "df_24_EYE['ET_ValidityLeft'].unique()"
   ]
  },
  {
   "cell_type": "markdown",
   "id": "707861b3",
   "metadata": {},
   "source": [
    "Count the occurrences of each unique value in the `ET_ValidityLeft` column."
   ]
  },
  {
   "cell_type": "code",
   "execution_count": null,
   "id": "e546b92e",
   "metadata": {},
   "outputs": [],
   "source": [
    "df_24_EYE['ET_ValidityLeft'].value_counts()"
   ]
  },
  {
   "cell_type": "markdown",
   "id": "8d643ab2",
   "metadata": {},
   "source": [
    "Display the unique values in the `ET_ValidityRight` column."
   ]
  },
  {
   "cell_type": "code",
   "execution_count": null,
   "id": "3ad4fe91",
   "metadata": {},
   "outputs": [],
   "source": [
    "df_24_EYE['ET_ValidityRight'].unique()"
   ]
  },
  {
   "cell_type": "markdown",
   "id": "13db6631",
   "metadata": {},
   "source": [
    "Count the occurrences of each unique value in the `ET_ValidityRight` column."
   ]
  },
  {
   "cell_type": "code",
   "execution_count": null,
   "id": "25d65d9b",
   "metadata": {},
   "outputs": [],
   "source": [
    "df_24_EYE['ET_ValidityRight'].value_counts()"
   ]
  },
  {
   "cell_type": "markdown",
   "id": "72643131",
   "metadata": {},
   "source": [
    "Visualize the counts of valid and invalid data for both left and right eyes using bar plots."
   ]
  },
  {
   "cell_type": "code",
   "execution_count": null,
   "id": "e83fd753",
   "metadata": {},
   "outputs": [],
   "source": [
    "plt.figure(figsize=(12, 6))\n",
    "\n",
    "plt.subplot(1, 2, 1)\n",
    "sns.barplot(x=df_24_EYE['ET_ValidityLeft'].value_counts().index, y=df_24_EYE['ET_ValidityLeft'].value_counts().values)\n",
    "plt.title('Count of ET_ValidityLeft')\n",
    "plt.xlabel('Validity')\n",
    "plt.ylabel('Count')\n",
    "\n",
    "\n",
    "plt.subplot(1, 2, 2)\n",
    "sns.barplot(x=df_24_EYE['ET_ValidityRight'].value_counts().index, y=df_24_EYE['ET_ValidityRight'].value_counts().values)\n",
    "plt.title('Count of ET_ValidityRight')\n",
    "plt.xlabel('Validity')\n",
    "plt.ylabel('Count')\n",
    "\n",
    "plt.tight_layout()\n",
    "plt.show()"
   ]
  },
  {
   "cell_type": "markdown",
   "id": "a35a3986",
   "metadata": {},
   "source": [
    "# Notes & Observations\n",
    "\n",
    "- The `ET_ValidityLeft` and `ET_ValidityRight` columns indicate the validity of the eye-tracking data for the left and right eye, respectively.\n",
    "- Based on the value counts and the bar plots, it appears that a value of `0.0` represents valid eye-tracking data, while a value of `4.0` represents invalid data.\n",
    "- Although the amount of invalid data is relatively small, removing these rows could introduce unwanted patterns or gaps in the time series data.\n",
    "- Therefore, we will keep the data and replace the value `4.0` with `1.0` in both `ET_ValidityLeft` and `ET_ValidityRight` columns. This will indicate to a machine learning model that the eye tracker had invalid data at those specific points in time while maintaining the integrity of the time series."
   ]
  },
  {
   "cell_type": "markdown",
   "id": "1560b721",
   "metadata": {},
   "source": [
    "Define a mapping to convert validity values from `0.0` and `4.0` to `0` and `1`."
   ]
  },
  {
   "cell_type": "code",
   "execution_count": null,
   "id": "7d627ffa",
   "metadata": {},
   "outputs": [],
   "source": [
    "validity_map = {4.0: 1.0, 0.0: 0.0}"
   ]
  },
  {
   "cell_type": "markdown",
   "id": "4c79aa5b",
   "metadata": {},
   "source": [
    "Apply the mapping to the `ET_ValidityLeft` and `ET_ValidityRight` columns and convert the data type to integer."
   ]
  },
  {
   "cell_type": "code",
   "execution_count": null,
   "id": "930840aa",
   "metadata": {},
   "outputs": [],
   "source": [
    "df_24_EYE['ET_ValidityLeft'] = df_24_EYE['ET_ValidityLeft'].map(validity_map).astype(np.int8)\n",
    "df_24_EYE['ET_ValidityRight'] = df_24_EYE['ET_ValidityRight'].map(validity_map).astype(np.int8)"
   ]
  },
  {
   "cell_type": "markdown",
   "id": "204143d9",
   "metadata": {},
   "source": [
    "Display the first few rows to see the updated validity columns."
   ]
  },
  {
   "cell_type": "code",
   "execution_count": null,
   "id": "e2fe97f5",
   "metadata": {},
   "outputs": [],
   "source": [
    "df_24_EYE.head(3)"
   ]
  },
  {
   "cell_type": "markdown",
   "id": "2596e3ba",
   "metadata": {},
   "source": [
    "Display descriptive statistics for the DataFrame, including count, mean, standard deviation, min, max, and quartiles for numeric columns."
   ]
  },
  {
   "cell_type": "code",
   "execution_count": null,
   "id": "9a43dabf",
   "metadata": {},
   "outputs": [],
   "source": [
    "df_24_EYE.describe()"
   ]
  },
  {
   "cell_type": "markdown",
   "id": "19b86f1b",
   "metadata": {},
   "source": [
    "Check the number of rows where `ET_ValidityLeft` is 1 (invalid data for the left eye)."
   ]
  },
  {
   "cell_type": "code",
   "execution_count": null,
   "id": "174be372",
   "metadata": {},
   "outputs": [],
   "source": [
    "df_24_EYE[df_24_EYE['ET_ValidityLeft'] == 1].shape"
   ]
  },
  {
   "cell_type": "markdown",
   "id": "21bc13ff",
   "metadata": {},
   "source": [
    "Check the number of rows where `ET_ValidityRight` is 1 (invalid data for the right eye)."
   ]
  },
  {
   "cell_type": "code",
   "execution_count": null,
   "id": "0903cb6d",
   "metadata": {},
   "outputs": [],
   "source": [
    "df_24_EYE[df_24_EYE['ET_ValidityRight'] == 1].shape"
   ]
  },
  {
   "cell_type": "markdown",
   "id": "d28ed967",
   "metadata": {},
   "source": [
    "Visualize the distribution of -1 and 1 values across columns using heatmaps. This helps identify columns with placeholder or indicator values."
   ]
  },
  {
   "cell_type": "code",
   "execution_count": null,
   "id": "db95ac8f",
   "metadata": {},
   "outputs": [],
   "source": [
    "plt.figure(figsize=(18, 8))\n",
    "\n",
    "plt.subplot(1, 2, 1)\n",
    "sns.heatmap(df_24_EYE == -1, cmap='viridis')\n",
    "plt.title('Heatmap of -1 Values')\n",
    "\n",
    "plt.subplot(1, 2, 2)\n",
    "sns.heatmap(df_24_EYE == 1, cmap='viridis')\n",
    "plt.title('Heatmap of 1 Values')\n",
    "\n",
    "plt.tight_layout()\n",
    "plt.show()"
   ]
  },
  {
   "cell_type": "markdown",
   "id": "01e32d00",
   "metadata": {},
   "source": [
    "Check the number of rows where `ET_PupilLeft` is -1."
   ]
  },
  {
   "cell_type": "code",
   "execution_count": null,
   "id": "6af4b656",
   "metadata": {},
   "outputs": [],
   "source": [
    "df_24_EYE[df_24_EYE['ET_PupilLeft'] == -1].shape"
   ]
  },
  {
   "cell_type": "markdown",
   "id": "10888409",
   "metadata": {},
   "source": [
    "Check the number of rows where `ET_PupilRight` is -1."
   ]
  },
  {
   "cell_type": "code",
   "execution_count": null,
   "id": "76e80655",
   "metadata": {},
   "outputs": [],
   "source": [
    "df_24_EYE[df_24_EYE['ET_PupilRight'] == -1].shape"
   ]
  },
  {
   "cell_type": "markdown",
   "id": "f96e1f95",
   "metadata": {},
   "source": [
    "Calculate the ratio of rows with -1 values in the `ET_PupilLeft` column to the total number of rows."
   ]
  },
  {
   "cell_type": "code",
   "execution_count": null,
   "id": "914eac18",
   "metadata": {},
   "outputs": [],
   "source": [
    "df_24_EYE[df_24_EYE['ET_PupilLeft'] == -1].shape[0] / df_24_EYE.shape[0]"
   ]
  },
  {
   "cell_type": "markdown",
   "id": "1dd15aaf",
   "metadata": {},
   "source": [
    "Calculate the ratio of rows with -1 values in the `ET_PupilRight` column to the total number of rows."
   ]
  },
  {
   "cell_type": "code",
   "execution_count": null,
   "id": "8b6b62d6",
   "metadata": {},
   "outputs": [],
   "source": [
    "df_24_EYE[df_24_EYE['ET_PupilRight'] == -1].shape[0] / df_24_EYE.shape[0]"
   ]
  },
  {
   "cell_type": "markdown",
   "id": "2d9184f6",
   "metadata": {},
   "source": [
    "Visualize the distribution of -1 values specifically for rows where validity is 1 (invalid data)."
   ]
  },
  {
   "cell_type": "code",
   "execution_count": null,
   "id": "c2d289eb",
   "metadata": {},
   "outputs": [],
   "source": [
    "plt.figure(figsize=(18, 8))\n",
    "\n",
    "plt.subplot(1, 2, 1)\n",
    "sns.heatmap(df_24_EYE[df_24_EYE['ET_ValidityLeft'] == 1] == -1, cmap='viridis')\n",
    "plt.title('Heatmap of -1 Values')\n",
    "\n",
    "plt.subplot(1, 2, 2)\n",
    "sns.heatmap(df_24_EYE[df_24_EYE['ET_ValidityRight'] == 1] == -1, cmap='viridis')\n",
    "plt.title('Heatmap of -1 Values')\n",
    "\n",
    "plt.tight_layout()\n",
    "plt.show()"
   ]
  },
  {
   "cell_type": "markdown",
   "id": "dac31a91",
   "metadata": {},
   "source": [
    "# Notes & Observations\n",
    "\n",
    "- The heatmaps reveal the distribution of -1 values across different columns.\n",
    "- It is evident that the `-1` values are not randomly scattered but appear in specific columns, notably `ET_GazeLeftx`, `ET_GazeLefty`, `ET_GazeRightx`, `ET_GazeRighty`, `ET_PupilLeft`, `ET_PupilRight`, `ET_DistanceLeft`, `ET_DistanceRight`, `ET_CameraLeftX`, `ET_CameraLeftY`, `ET_CameraRightX`, and `ET_CameraRightY`.\n",
    "- These `-1` values often coincide with instances where `ET_ValidityLeft` or `ET_ValidityRight` is 1, indicating invalid eye-tracking data. This suggests that `-1` is used as a placeholder for missing or invalid measurements in these columns when the eye tracker is not providing valid data for a particular eye.\n",
    "- Given that over 70% of the data in the `ET_PupilLeft` and `ET_PupilRight` columns is marked as invalid (-1), these columns may not be suitable for analysis and could be considered for dropping."
   ]
  },
  {
   "cell_type": "markdown",
   "id": "1382c668",
   "metadata": {},
   "source": [
    "Drop the `ET_PupilLeft` and `ET_PupilRight` columns due to the high percentage of invalid data."
   ]
  },
  {
   "cell_type": "code",
   "execution_count": null,
   "id": "10e6cf89",
   "metadata": {},
   "outputs": [],
   "source": [
    "df_24_EYE.drop(['ET_PupilLeft', 'ET_PupilRight'], axis=1, inplace=True)"
   ]
  },
  {
   "cell_type": "markdown",
   "id": "c3523039",
   "metadata": {},
   "source": [
    "Display the first few rows after dropping the pupil columns."
   ]
  },
  {
   "cell_type": "code",
   "execution_count": null,
   "id": "711dfe4e",
   "metadata": {},
   "outputs": [],
   "source": [
    "df_24_EYE.head()"
   ]
  },
  {
   "cell_type": "markdown",
   "id": "ecd07c80",
   "metadata": {},
   "source": [
    "Visualize the distribution of -1 and 1 values again after dropping the pupil columns."
   ]
  },
  {
   "cell_type": "code",
   "execution_count": null,
   "id": "a98dc875",
   "metadata": {},
   "outputs": [],
   "source": [
    "plt.figure(figsize=(18, 8))\n",
    "\n",
    "plt.subplot(1, 2, 1)\n",
    "sns.heatmap(df_24_EYE == -1, cmap='viridis')\n",
    "plt.title('Heatmap of -1 Values')\n",
    "\n",
    "plt.subplot(1, 2, 2)\n",
    "sns.heatmap(df_24_EYE == 1, cmap='viridis')\n",
    "plt.title('Heatmap of -1 Values')\n",
    "\n",
    "plt.tight_layout()\n",
    "plt.show()"
   ]
  },
  {
   "cell_type": "markdown",
   "id": "87901657",
   "metadata": {},
   "source": [
    "Calculate the ratio of valid data points for the left eye."
   ]
  },
  {
   "cell_type": "code",
   "execution_count": null,
   "id": "983f5495",
   "metadata": {},
   "outputs": [],
   "source": [
    "valid_left_ratio  = 1 - df_24_EYE['ET_ValidityLeft'].mean()"
   ]
  },
  {
   "cell_type": "markdown",
   "id": "c3798bd5",
   "metadata": {},
   "source": [
    "Display the ratio of valid data points for the left eye."
   ]
  },
  {
   "cell_type": "code",
   "execution_count": null,
   "id": "cbac39fc",
   "metadata": {},
   "outputs": [],
   "source": [
    "valid_left_ratio"
   ]
  },
  {
   "cell_type": "markdown",
   "id": "3377a9d3",
   "metadata": {},
   "source": [
    "Calculate the ratio of valid data points for the right eye."
   ]
  },
  {
   "cell_type": "code",
   "execution_count": null,
   "id": "a9316b0e",
   "metadata": {},
   "outputs": [],
   "source": [
    "valid_right_ratio = 1 - df_24_EYE['ET_ValidityRight'].mean()"
   ]
  },
  {
   "cell_type": "markdown",
   "id": "7d8f997f",
   "metadata": {},
   "source": [
    "Display the ratio of valid data points for the right eye."
   ]
  },
  {
   "cell_type": "code",
   "execution_count": null,
   "id": "5250e730",
   "metadata": {},
   "outputs": [],
   "source": [
    "valid_right_ratio"
   ]
  },
  {
   "cell_type": "markdown",
   "id": "b76c5f27",
   "metadata": {},
   "source": [
    "Display the first few rows of the DataFrame."
   ]
  },
  {
   "cell_type": "code",
   "execution_count": null,
   "id": "54bbf943",
   "metadata": {},
   "outputs": [],
   "source": [
    "df_24_EYE.head()"
   ]
  },
  {
   "cell_type": "markdown",
   "id": "da289097",
   "metadata": {},
   "source": [
    "Visualize the distributions of numeric columns using histograms with Kernel Density Estimate (KDE) plots. This helps understand the shape and spread of the data in each numeric column."
   ]
  },
  {
   "cell_type": "code",
   "execution_count": null,
   "id": "469b5b15",
   "metadata": {},
   "outputs": [],
   "source": [
    "# Select only the numeric columns for plotting histograms, excluding time-related columns\n",
    "numeric_cols = df_24_EYE.select_dtypes(include=np.number).columns\n",
    "cols_to_plot = [col for col in numeric_cols if col not in ['UnixTime']]\n",
    "\n",
    "# Calculate the number of rows and columns for the grid\n",
    "n_cols = 4  # You can adjust the number of columns as needed\n",
    "n_rows = (len(cols_to_plot) + n_cols - 1) // n_cols\n",
    "\n",
    "plt.figure(figsize=(n_cols * 5, n_rows * 4)) # Adjust figure size as needed\n",
    "\n",
    "for i, col in enumerate(cols_to_plot):\n",
    "    plt.subplot(n_rows, n_cols, i + 1)\n",
    "    sns.histplot(df_24_EYE[col], kde=True)\n",
    "    plt.title(f'Distribution of {col}')\n",
    "    plt.xlabel(col)\n",
    "    plt.ylabel('Frequency')\n",
    "\n",
    "plt.tight_layout()\n",
    "plt.show()"
   ]
  },
  {
   "cell_type": "markdown",
   "id": "3a790c5d",
   "metadata": {},
   "source": [
    "List the names of the columns in the DataFrame."
   ]
  },
  {
   "cell_type": "code",
   "execution_count": null,
   "id": "8913ce12",
   "metadata": {},
   "outputs": [],
   "source": [
    "df_24_EYE.columns"
   ]
  },
  {
   "cell_type": "markdown",
   "id": "73ed5274",
   "metadata": {},
   "source": [
    "Define a list of columns to be plotted over time."
   ]
  },
  {
   "cell_type": "code",
   "execution_count": null,
   "id": "ff963894",
   "metadata": {},
   "outputs": [],
   "source": [
    "cols = ['ET_GazeLeftx', 'ET_GazeLefty',\n",
    "       'ET_GazeRightx', 'ET_GazeRighty', 'ET_TimeSignal', 'ET_DistanceLeft',\n",
    "       'ET_DistanceRight', 'ET_CameraLeftX', 'ET_CameraLeftY',\n",
    "       'ET_CameraRightX', 'ET_CameraRightY', 'ET_ValidityLeft',\n",
    "       'ET_ValidityRight']"
   ]
  },
  {
   "cell_type": "markdown",
   "id": "1d1e5b4a",
   "metadata": {},
   "source": [
    "Plot each of the selected columns against the timestamp to visualize their trends and patterns over time. Markdown cells are added before each plot for better readability."
   ]
  },
  {
   "cell_type": "code",
   "execution_count": null,
   "id": "73ff218b",
   "metadata": {},
   "outputs": [],
   "source": [
    "from IPython.display import display, Markdown\n",
    "\n",
    "for col in cols:\n",
    "    # Add a markdown cell before each plot for better separation and labeling\n",
    "    display(Markdown(f'### {col} over Time'))\n",
    "    plt.figure(figsize=(16, 10))\n",
    "    plt.plot(df_24_EYE['Timestamp'], df_24_EYE[col])\n",
    "    plt.xlabel(\"Timestamp\") # Add x-axis label\n",
    "    plt.ylabel(col) # Add y-axis label\n",
    "    plt.show()"
   ]
  },
  {
   "cell_type": "markdown",
   "id": "c8277105",
   "metadata": {},
   "source": [
    "Visualize the distributions of numeric columns using boxplots. This helps identify potential outliers and the spread of the data."
   ]
  },
  {
   "cell_type": "code",
   "execution_count": null,
   "id": "93c1ddeb",
   "metadata": {},
   "outputs": [],
   "source": [
    "# Select only the numeric columns for plotting histograms, excluding time-related columns\n",
    "numeric_cols = df_24_EYE.select_dtypes(include=np.number).columns\n",
    "\n",
    "# Calculate the number of rows and columns for the grid\n",
    "n_cols = 4  # You can adjust the number of columns as needed\n",
    "n_rows = (len(numeric_cols) + n_cols - 1) // n_cols\n",
    "\n",
    "plt.figure(figsize=(n_cols * 5, n_rows * 4)) # Adjust figure size as needed\n",
    "\n",
    "for i, col in enumerate(numeric_cols):\n",
    "    plt.subplot(n_rows, n_cols, i + 1)\n",
    "    sns.boxplot(df_24_EYE[col])\n",
    "    plt.title(f'Boxplot of {col}')\n",
    "    plt.xlabel(col)\n",
    "\n",
    "plt.tight_layout()\n",
    "plt.show()"
   ]
  },
  {
   "cell_type": "markdown",
   "id": "879e317f",
   "metadata": {},
   "source": [
    "Replace the placeholder value -1 with NaN (Not a Number) in the DataFrame. This is done before imputation."
   ]
  },
  {
   "cell_type": "code",
   "execution_count": null,
   "id": "5662c5d9",
   "metadata": {},
   "outputs": [],
   "source": [
    "df_24_EYE.replace({-1: np.nan}, inplace=True)"
   ]
  },
  {
   "cell_type": "markdown",
   "id": "1a5219e5",
   "metadata": {},
   "source": [
    "Impute the missing values (NaN) in the numeric columns with the mean of each column."
   ]
  },
  {
   "cell_type": "code",
   "execution_count": null,
   "id": "a6713e55",
   "metadata": {},
   "outputs": [],
   "source": [
    "numeric_cols = df_24_EYE.select_dtypes(include=np.number).columns\n",
    "\n",
    "for col in numeric_cols:\n",
    "    df_24_EYE[col].fillna(df_24_EYE[col].mean(), inplace=True)"
   ]
  },
  {
   "cell_type": "markdown",
   "id": "7355503d",
   "metadata": {},
   "source": [
    "Display the first few rows after imputing missing values."
   ]
  },
  {
   "cell_type": "code",
   "execution_count": null,
   "id": "e91447d6",
   "metadata": {},
   "outputs": [],
   "source": [
    "df_24_EYE.head()"
   ]
  },
  {
   "cell_type": "markdown",
   "id": "d73e233c",
   "metadata": {},
   "source": [
    "Visualize the distributions of numeric columns again using histograms with KDE plots after imputation. This helps assess the impact of imputation on the data distributions."
   ]
  },
  {
   "cell_type": "code",
   "execution_count": null,
   "id": "037b3fae",
   "metadata": {},
   "outputs": [],
   "source": [
    "# Select only the numeric columns for plotting histograms, excluding time-related columns\n",
    "numeric_cols = df_24_EYE.select_dtypes(include=np.number).columns\n",
    "cols_to_plot = [col for col in numeric_cols if col not in ['UnixTime']]\n",
    "\n",
    "# Calculate the number of rows and columns for the grid\n",
    "n_cols = 4  # You can adjust the number of columns as needed\n",
    "n_rows = (len(cols_to_plot) + n_cols - 1) // n_cols\n",
    "\n",
    "plt.figure(figsize=(n_cols * 5, n_rows * 4)) # Adjust figure size as needed\n",
    "\n",
    "for i, col in enumerate(cols_to_plot):\n",
    "    plt.subplot(n_rows, n_cols, i + 1)\n",
    "    sns.histplot(df_24_EYE[col], kde=True)\n",
    "    plt.title(f'Distribution of {col}')\n",
    "    plt.xlabel(col)\n",
    "    plt.ylabel('Frequency')\n",
    "\n",
    "plt.tight_layout()\n",
    "plt.show()"
   ]
  },
  {
   "cell_type": "code",
   "execution_count": null,
   "id": "be946d75",
   "metadata": {},
   "outputs": [],
   "source": []
  },
  {
   "cell_type": "markdown",
   "id": "2292b323",
   "metadata": {},
   "source": [
    "## Student 25"
   ]
  },
  {
   "cell_type": "code",
   "execution_count": null,
   "id": "daf10046",
   "metadata": {},
   "outputs": [],
   "source": [
    "%load_ext cudf"
   ]
  },
  {
   "cell_type": "code",
   "execution_count": null,
   "id": "7eb23607",
   "metadata": {},
   "outputs": [],
   "source": [
    "import numpy as np\n",
    "import pandas as pd\n",
    "import matplotlib.pyplot as plt\n",
    "import seaborn as sns"
   ]
  },
  {
   "cell_type": "code",
   "execution_count": null,
   "id": "6c053f13",
   "metadata": {},
   "outputs": [],
   "source": [
    "import datashader as ds\n",
    "import datashader.transfer_functions as tf"
   ]
  },
  {
   "cell_type": "code",
   "execution_count": null,
   "id": "6c930fbb",
   "metadata": {},
   "outputs": [],
   "source": [
    "pd.set_option('display.max_columns', None)"
   ]
  },
  {
   "cell_type": "code",
   "execution_count": null,
   "id": "592ef4ce",
   "metadata": {},
   "outputs": [],
   "source": [
    "df_25_EYE = pd.read_csv('data/STData/25/25_EYE.csv')"
   ]
  },
  {
   "cell_type": "code",
   "execution_count": null,
   "id": "75960245",
   "metadata": {},
   "outputs": [],
   "source": [
    "df_25_EYE.head()"
   ]
  },
  {
   "cell_type": "code",
   "execution_count": null,
   "id": "693d2fcf",
   "metadata": {},
   "outputs": [],
   "source": [
    "df_25_EYE.shape"
   ]
  },
  {
   "cell_type": "code",
   "execution_count": null,
   "id": "541dbc17",
   "metadata": {},
   "outputs": [],
   "source": [
    "df_25_EYE.columns"
   ]
  },
  {
   "cell_type": "code",
   "execution_count": null,
   "id": "1f0d3f6f",
   "metadata": {},
   "outputs": [],
   "source": [
    "df_25_EYE.info()"
   ]
  },
  {
   "cell_type": "code",
   "execution_count": null,
   "id": "9da2ca31",
   "metadata": {},
   "outputs": [],
   "source": [
    "df_25_EYE.isnull().sum()"
   ]
  },
  {
   "cell_type": "code",
   "execution_count": null,
   "id": "8f87a1be",
   "metadata": {},
   "outputs": [],
   "source": [
    "plt.figure(figsize=(12,8))\n",
    "sns.heatmap(df_25_EYE.isnull(), cmap='viridis')\n",
    "plt.show()"
   ]
  },
  {
   "cell_type": "markdown",
   "id": "f157882c",
   "metadata": {},
   "source": [
    "# Notes & Observations\n",
    "\n",
    "- We observe many **null** (or missing) values in the `QuestionKey` columns.  \n",
    "- The nulls in the `QuestionKey` column may not represent “true” nulls. Rather, they follow interval patterns, suggesting that during those periods no question was displayed.  \n",
    "- These missing values in `QuestionKey` require additional investigation and context-aware handling.  "
   ]
  },
  {
   "cell_type": "code",
   "execution_count": null,
   "id": "95d498cf",
   "metadata": {},
   "outputs": [],
   "source": [
    "df_25_EYE['QuestionKey'].unique()"
   ]
  },
  {
   "cell_type": "code",
   "execution_count": null,
   "id": "6a0a6a00",
   "metadata": {},
   "outputs": [],
   "source": [
    "df_25_EYE['Timestamp'] = pd.to_datetime(df_25_EYE['Timestamp'])"
   ]
  },
  {
   "cell_type": "code",
   "execution_count": null,
   "id": "e304d182",
   "metadata": {},
   "outputs": [],
   "source": [
    "df_25_EYE.head(3)"
   ]
  },
  {
   "cell_type": "code",
   "execution_count": null,
   "id": "29899884",
   "metadata": {},
   "outputs": [],
   "source": [
    "df_25_EYE['QuestionKey'].fillna('None', inplace=True)"
   ]
  },
  {
   "cell_type": "code",
   "execution_count": null,
   "id": "ae1811b6",
   "metadata": {},
   "outputs": [],
   "source": [
    "df_25_EYE['QuestionKey'].value_counts()"
   ]
  },
  {
   "cell_type": "code",
   "execution_count": null,
   "id": "02dc0b0f",
   "metadata": {},
   "outputs": [],
   "source": [
    "plt.figure(figsize=(12,8))\n",
    "sns.heatmap(df_25_EYE.isnull(), cmap='viridis')\n",
    "plt.show()"
   ]
  },
  {
   "cell_type": "code",
   "execution_count": null,
   "id": "64f4d740",
   "metadata": {},
   "outputs": [],
   "source": [
    "df_25_EYE.isnull().sum()"
   ]
  },
  {
   "cell_type": "code",
   "execution_count": null,
   "id": "967b5baa",
   "metadata": {},
   "outputs": [],
   "source": [
    "df_25_EYE.dropna(inplace=True)"
   ]
  },
  {
   "cell_type": "code",
   "execution_count": null,
   "id": "58dd0219",
   "metadata": {},
   "outputs": [],
   "source": [
    "df_25_EYE.head()"
   ]
  },
  {
   "cell_type": "code",
   "execution_count": null,
   "id": "a6038ebe",
   "metadata": {},
   "outputs": [],
   "source": [
    "df_25_EYE['Row'].unique()"
   ]
  },
  {
   "cell_type": "code",
   "execution_count": null,
   "id": "7268c1fe",
   "metadata": {},
   "outputs": [],
   "source": [
    "plt.figure(figsize=(8,6))\n",
    "sns.histplot(df_25_EYE['Row'])\n",
    "plt.show()"
   ]
  },
  {
   "cell_type": "markdown",
   "id": "3401c5eb",
   "metadata": {},
   "source": [
    "# Notes & Observations\n",
    "\n",
    "- The `Row` column appears to be a simple row index and does not provide meaningful information relevant to the eye-tracking data itself. Therefore, it can be dropped."
   ]
  },
  {
   "cell_type": "code",
   "execution_count": null,
   "id": "85ebeedb",
   "metadata": {},
   "outputs": [],
   "source": [
    "df_25_EYE.drop('Row', axis=1, inplace=True)"
   ]
  },
  {
   "cell_type": "code",
   "execution_count": null,
   "id": "cde562d3",
   "metadata": {},
   "outputs": [],
   "source": [
    "df_25_EYE['ET_ValidityLeft'].unique()"
   ]
  },
  {
   "cell_type": "code",
   "execution_count": null,
   "id": "92db3348",
   "metadata": {},
   "outputs": [],
   "source": [
    "df_25_EYE['ET_ValidityLeft'].value_counts()"
   ]
  },
  {
   "cell_type": "code",
   "execution_count": null,
   "id": "dcae76fb",
   "metadata": {},
   "outputs": [],
   "source": [
    "df_25_EYE['ET_ValidityRight'].unique()"
   ]
  },
  {
   "cell_type": "code",
   "execution_count": null,
   "id": "a2b0813c",
   "metadata": {},
   "outputs": [],
   "source": [
    "df_25_EYE['ET_ValidityRight'].value_counts()"
   ]
  },
  {
   "cell_type": "code",
   "execution_count": null,
   "id": "969a1b96",
   "metadata": {},
   "outputs": [],
   "source": [
    "plt.figure(figsize=(12, 6))\n",
    "\n",
    "plt.subplot(1, 2, 1)\n",
    "sns.barplot(x=df_25_EYE['ET_ValidityLeft'].value_counts().index, y=df_25_EYE['ET_ValidityLeft'].value_counts().values)\n",
    "plt.title('Count of ET_ValidityLeft')\n",
    "plt.xlabel('Validity')\n",
    "plt.ylabel('Count')\n",
    "\n",
    "\n",
    "plt.subplot(1, 2, 2)\n",
    "sns.barplot(x=df_25_EYE['ET_ValidityRight'].value_counts().index, y=df_25_EYE['ET_ValidityRight'].value_counts().values)\n",
    "plt.title('Count of ET_ValidityRight')\n",
    "plt.xlabel('Validity')\n",
    "plt.ylabel('Count')\n",
    "\n",
    "plt.tight_layout()\n",
    "plt.show()"
   ]
  },
  {
   "cell_type": "markdown",
   "id": "bc8ddacc",
   "metadata": {},
   "source": [
    "# Notes & Observations\n",
    "\n",
    "- The `ET_ValidityLeft` and `ET_ValidityRight` columns indicate the validity of the eye-tracking data for the left and right eye, respectively.\n",
    "- Based on the value counts and the bar plots, it appears that a value of `0.0` represents valid eye-tracking data, while a value of `4.0` represents invalid data.\n",
    "- Although the amount of invalid data is relatively small, removing these rows could introduce unwanted patterns or gaps in the time series data.\n",
    "- Therefore, we will keep the data and replace the value `4.0` with `1.0` in both `ET_ValidityLeft` and `ET_ValidityRight` columns. This will indicate to a machine learning model that the eye tracker had invalid data at those specific points in time while maintaining the integrity of the time series."
   ]
  },
  {
   "cell_type": "code",
   "execution_count": null,
   "id": "9191d7e1",
   "metadata": {},
   "outputs": [],
   "source": [
    "validity_map = {4.0: 1.0, 0.0: 0.0}"
   ]
  },
  {
   "cell_type": "code",
   "execution_count": null,
   "id": "b353f296",
   "metadata": {},
   "outputs": [],
   "source": [
    "df_25_EYE['ET_ValidityLeft'] = df_25_EYE['ET_ValidityLeft'].map(validity_map).astype(np.int8)\n",
    "df_25_EYE['ET_ValidityRight'] = df_25_EYE['ET_ValidityRight'].map(validity_map).astype(np.int8)"
   ]
  },
  {
   "cell_type": "code",
   "execution_count": null,
   "id": "226ae977",
   "metadata": {},
   "outputs": [],
   "source": [
    "df_25_EYE.head(3)"
   ]
  },
  {
   "cell_type": "code",
   "execution_count": null,
   "id": "ecc4ca81",
   "metadata": {},
   "outputs": [],
   "source": [
    "df_25_EYE.describe()"
   ]
  },
  {
   "cell_type": "code",
   "execution_count": null,
   "id": "b5ce0526",
   "metadata": {},
   "outputs": [],
   "source": [
    "df_25_EYE[df_25_EYE['ET_ValidityLeft'] == 1].shape"
   ]
  },
  {
   "cell_type": "code",
   "execution_count": null,
   "id": "7af652ec",
   "metadata": {},
   "outputs": [],
   "source": [
    "df_25_EYE[df_25_EYE['ET_ValidityRight'] == 1].shape"
   ]
  },
  {
   "cell_type": "code",
   "execution_count": null,
   "id": "559f6c5e",
   "metadata": {},
   "outputs": [],
   "source": [
    "plt.figure(figsize=(18, 8))\n",
    "\n",
    "plt.subplot(1, 2, 1)\n",
    "sns.heatmap(df_25_EYE == -1, cmap='viridis')\n",
    "plt.title('Heatmap of -1 Values')\n",
    "\n",
    "plt.subplot(1, 2, 2)\n",
    "sns.heatmap(df_25_EYE == 1, cmap='viridis')\n",
    "plt.title('Heatmap of 1 Values')\n",
    "\n",
    "plt.tight_layout()\n",
    "plt.show()"
   ]
  },
  {
   "cell_type": "code",
   "execution_count": null,
   "id": "a87d2a2f",
   "metadata": {},
   "outputs": [],
   "source": [
    "df_25_EYE[df_25_EYE['ET_PupilLeft'] == -1].shape"
   ]
  },
  {
   "cell_type": "code",
   "execution_count": null,
   "id": "61e137aa",
   "metadata": {},
   "outputs": [],
   "source": [
    "df_25_EYE[df_25_EYE['ET_PupilRight'] == -1].shape"
   ]
  },
  {
   "cell_type": "code",
   "execution_count": null,
   "id": "5484311a",
   "metadata": {},
   "outputs": [],
   "source": [
    "df_25_EYE[df_25_EYE['ET_PupilLeft'] == -1].shape[0] / df_25_EYE.shape[0]"
   ]
  },
  {
   "cell_type": "code",
   "execution_count": null,
   "id": "b4649366",
   "metadata": {},
   "outputs": [],
   "source": [
    "df_25_EYE[df_25_EYE['ET_PupilRight'] == -1].shape[0] / df_25_EYE.shape[0]"
   ]
  },
  {
   "cell_type": "code",
   "execution_count": null,
   "id": "f7d561c8",
   "metadata": {},
   "outputs": [],
   "source": [
    "plt.figure(figsize=(18, 8))\n",
    "\n",
    "plt.subplot(1, 2, 1)\n",
    "sns.heatmap(df_25_EYE[df_25_EYE['ET_ValidityLeft'] == 1] == -1, cmap='viridis')\n",
    "plt.title('Heatmap of -1 Values')\n",
    "\n",
    "plt.subplot(1, 2, 2)\n",
    "sns.heatmap(df_25_EYE[df_25_EYE['ET_ValidityRight'] == 1] == -1, cmap='viridis')\n",
    "plt.title('Heatmap of -1 Values')\n",
    "\n",
    "plt.tight_layout()\n",
    "plt.show()"
   ]
  },
  {
   "cell_type": "markdown",
   "id": "1172fe66",
   "metadata": {},
   "source": [
    "# Notes & Observations\n",
    "\n",
    "- The heatmaps reveal the distribution of -1 values across different columns.\n",
    "- It is evident that the `-1` values are not randomly scattered but appear in specific columns, notably `ET_GazeLeftx`, `ET_GazeLefty`, `ET_GazeRightx`, `ET_GazeRighty`, `ET_PupilLeft`, `ET_PupilRight`, `ET_DistanceLeft`, `ET_DistanceRight`, `ET_CameraLeftX`, `ET_CameraLeftY`, `ET_CameraRightX`, and `ET_CameraRightY`.\n",
    "- These `-1` values often coincide with instances where `ET_ValidityLeft` or `ET_ValidityRight` is 1, indicating invalid eye-tracking data. This suggests that `-1` is used as a placeholder for missing or invalid measurements in these columns when the eye tracker is not providing valid data for a particular eye.\n",
    "- Given that over 70% of the data in the `ET_PupilLeft` and `ET_PupilRight` columns is marked as invalid (-1), these columns may not be suitable for analysis and could be considered for dropping."
   ]
  },
  {
   "cell_type": "code",
   "execution_count": null,
   "id": "c684e170",
   "metadata": {},
   "outputs": [],
   "source": [
    "df_25_EYE.drop(['ET_PupilLeft', 'ET_PupilRight'], axis=1, inplace=True)"
   ]
  },
  {
   "cell_type": "code",
   "execution_count": null,
   "id": "17a762fc",
   "metadata": {},
   "outputs": [],
   "source": [
    "df_25_EYE.head()"
   ]
  },
  {
   "cell_type": "code",
   "execution_count": null,
   "id": "17038255",
   "metadata": {},
   "outputs": [],
   "source": [
    "plt.figure(figsize=(18, 8))\n",
    "\n",
    "plt.subplot(1, 2, 1)\n",
    "sns.heatmap(df_25_EYE == -1, cmap='viridis')\n",
    "plt.title('Heatmap of -1 Values')\n",
    "\n",
    "plt.subplot(1, 2, 2)\n",
    "sns.heatmap(df_25_EYE == 1, cmap='viridis')\n",
    "plt.title('Heatmap of -1 Values')\n",
    "\n",
    "plt.tight_layout()\n",
    "plt.show()"
   ]
  },
  {
   "cell_type": "code",
   "execution_count": null,
   "id": "89c3abe4",
   "metadata": {},
   "outputs": [],
   "source": [
    "valid_left_ratio  = 1 - df_25_EYE['ET_ValidityLeft'].mean()\n",
    "valid_right_ratio = 1 - df_25_EYE['ET_ValidityRight'].mean()"
   ]
  },
  {
   "cell_type": "code",
   "execution_count": null,
   "id": "ccc9c45e",
   "metadata": {},
   "outputs": [],
   "source": [
    "valid_left_ratio"
   ]
  },
  {
   "cell_type": "code",
   "execution_count": null,
   "id": "874a5108",
   "metadata": {},
   "outputs": [],
   "source": [
    "valid_right_ratio"
   ]
  },
  {
   "cell_type": "code",
   "execution_count": null,
   "id": "0ae8260c",
   "metadata": {},
   "outputs": [],
   "source": [
    "df_25_EYE.head()"
   ]
  },
  {
   "cell_type": "code",
   "execution_count": null,
   "id": "4421bc70",
   "metadata": {},
   "outputs": [],
   "source": [
    "# Select only the numeric columns for plotting histograms, excluding time-related columns\n",
    "numeric_cols = df_25_EYE.select_dtypes(include=np.number).columns\n",
    "cols_to_plot = [col for col in numeric_cols if col not in ['UnixTime']]\n",
    "\n",
    "# Calculate the number of rows and columns for the grid\n",
    "n_cols = 4  # You can adjust the number of columns as needed\n",
    "n_rows = (len(cols_to_plot) + n_cols - 1) // n_cols\n",
    "\n",
    "plt.figure(figsize=(n_cols * 5, n_rows * 4)) # Adjust figure size as needed\n",
    "\n",
    "for i, col in enumerate(cols_to_plot):\n",
    "    plt.subplot(n_rows, n_cols, i + 1)\n",
    "    sns.histplot(df_25_EYE[col], kde=True)\n",
    "    plt.title(f'Distribution of {col}')\n",
    "    plt.xlabel(col)\n",
    "    plt.ylabel('Frequency')\n",
    "\n",
    "plt.tight_layout()\n",
    "plt.show()"
   ]
  },
  {
   "cell_type": "code",
   "execution_count": null,
   "id": "e39e3b3d",
   "metadata": {},
   "outputs": [],
   "source": [
    "df_25_EYE.columns"
   ]
  },
  {
   "cell_type": "code",
   "execution_count": null,
   "id": "7cd39282",
   "metadata": {},
   "outputs": [],
   "source": [
    "cols = ['ET_GazeLeftx', 'ET_GazeLefty',\n",
    "       'ET_GazeRightx', 'ET_GazeRighty', 'ET_TimeSignal', 'ET_DistanceLeft',\n",
    "       'ET_DistanceRight', 'ET_CameraLeftX', 'ET_CameraLeftY',\n",
    "       'ET_CameraRightX', 'ET_CameraRightY', 'ET_ValidityLeft',\n",
    "       'ET_ValidityRight']"
   ]
  },
  {
   "cell_type": "code",
   "execution_count": null,
   "id": "d7ad49f4",
   "metadata": {},
   "outputs": [],
   "source": [
    "from IPython.display import display, Markdown\n",
    "\n",
    "for col in cols:\n",
    "    # Add a markdown cell before each plot for better separation and labeling\n",
    "    display(Markdown(f'### {col} over Time'))\n",
    "    plt.figure(figsize=(16, 10))\n",
    "    plt.plot(df_25_EYE['Timestamp'], df_25_EYE[col])\n",
    "    plt.xlabel(\"Timestamp\") # Add x-axis label\n",
    "    plt.ylabel(col) # Add y-axis label\n",
    "    plt.show()"
   ]
  },
  {
   "cell_type": "code",
   "execution_count": null,
   "id": "1452373f",
   "metadata": {},
   "outputs": [],
   "source": [
    "# Select only the numeric columns for plotting histograms, excluding time-related columns\n",
    "numeric_cols = df_25_EYE.select_dtypes(include=np.number).columns\n",
    "\n",
    "# Calculate the number of rows and columns for the grid\n",
    "n_cols = 4  # You can adjust the number of columns as needed\n",
    "n_rows = (len(numeric_cols) + n_cols - 1) // n_cols\n",
    "\n",
    "plt.figure(figsize=(n_cols * 5, n_rows * 4)) # Adjust figure size as needed\n",
    "\n",
    "for i, col in enumerate(numeric_cols):\n",
    "    plt.subplot(n_rows, n_cols, i + 1)\n",
    "    sns.boxplot(df_25_EYE[col])\n",
    "    plt.title(f'Boxplot of {col}')\n",
    "    plt.xlabel(col)\n",
    "\n",
    "plt.tight_layout()\n",
    "plt.show()"
   ]
  },
  {
   "cell_type": "code",
   "execution_count": null,
   "id": "2d59c14b",
   "metadata": {},
   "outputs": [],
   "source": [
    "df_25_EYE.replace({-1: np.nan}, inplace=True)"
   ]
  },
  {
   "cell_type": "code",
   "execution_count": null,
   "id": "f4f98537",
   "metadata": {},
   "outputs": [],
   "source": [
    "numeric_cols = df_25_EYE.select_dtypes(include=np.number).columns\n",
    "\n",
    "for col in numeric_cols:\n",
    "    df_25_EYE[col].fillna(df_25_EYE[col].mean(), inplace=True)"
   ]
  },
  {
   "cell_type": "code",
   "execution_count": null,
   "id": "e1dbe82c",
   "metadata": {},
   "outputs": [],
   "source": [
    "df_25_EYE.head()"
   ]
  },
  {
   "cell_type": "code",
   "execution_count": null,
   "id": "210e94fe",
   "metadata": {},
   "outputs": [],
   "source": [
    "# Select only the numeric columns for plotting histograms, excluding time-related columns\n",
    "numeric_cols = df_25_EYE.select_dtypes(include=np.number).columns\n",
    "cols_to_plot = [col for col in numeric_cols if col not in ['UnixTime']]\n",
    "\n",
    "# Calculate the number of rows and columns for the grid\n",
    "n_cols = 4  # You can adjust the number of columns as needed\n",
    "n_rows = (len(cols_to_plot) + n_cols - 1) // n_cols\n",
    "\n",
    "plt.figure(figsize=(n_cols * 5, n_rows * 4)) # Adjust figure size as needed\n",
    "\n",
    "for i, col in enumerate(cols_to_plot):\n",
    "    plt.subplot(n_rows, n_cols, i + 1)\n",
    "    sns.histplot(df_25_EYE[col], kde=True)\n",
    "    plt.title(f'Distribution of {col}')\n",
    "    plt.xlabel(col)\n",
    "    plt.ylabel('Frequency')\n",
    "\n",
    "plt.tight_layout()\n",
    "plt.show()"
   ]
  },
  {
   "cell_type": "code",
   "execution_count": null,
   "id": "8116486d",
   "metadata": {},
   "outputs": [],
   "source": []
  },
  {
   "cell_type": "code",
   "execution_count": null,
   "id": "12a7815e",
   "metadata": {},
   "outputs": [],
   "source": []
  },
  {
   "cell_type": "code",
   "execution_count": null,
   "id": "ae905d65",
   "metadata": {},
   "outputs": [],
   "source": []
  },
  {
   "cell_type": "code",
   "execution_count": null,
   "id": "20c976a7",
   "metadata": {},
   "outputs": [],
   "source": []
  },
  {
   "cell_type": "code",
   "execution_count": null,
   "id": "dd49fa5e",
   "metadata": {},
   "outputs": [],
   "source": []
  },
  {
   "cell_type": "code",
   "execution_count": null,
   "id": "676706cb",
   "metadata": {},
   "outputs": [],
   "source": []
  },
  {
   "cell_type": "code",
   "execution_count": null,
   "id": "fb121392",
   "metadata": {},
   "outputs": [],
   "source": []
  },
  {
   "cell_type": "code",
   "execution_count": null,
   "id": "a47fdaf8",
   "metadata": {},
   "outputs": [],
   "source": []
  },
  {
   "cell_type": "code",
   "execution_count": null,
   "id": "21529163",
   "metadata": {},
   "outputs": [],
   "source": []
  },
  {
   "cell_type": "code",
   "execution_count": null,
   "id": "99f94b21",
   "metadata": {},
   "outputs": [],
   "source": []
  },
  {
   "cell_type": "code",
   "execution_count": null,
   "id": "69f879d2",
   "metadata": {},
   "outputs": [],
   "source": []
  },
  {
   "cell_type": "code",
   "execution_count": null,
   "id": "cdc41caa",
   "metadata": {},
   "outputs": [],
   "source": []
  },
  {
   "cell_type": "markdown",
   "id": "5dd7a930",
   "metadata": {},
   "source": [
    "# Eye Tracking Data Analysis\n",
    "\n",
    "This notebook performs exploratory data analysis and cleaning on eye-tracking data.\n",
    "\n",
    "## Data Loading and Initial Inspection"
   ]
  },
  {
   "cell_type": "code",
   "execution_count": null,
   "id": "9a7f5083",
   "metadata": {},
   "outputs": [],
   "source": [
    "%load_ext cudf"
   ]
  },
  {
   "cell_type": "markdown",
   "id": "42df9739",
   "metadata": {},
   "source": [
    "Import necessary libraries for data manipulation, analysis, and visualization."
   ]
  },
  {
   "cell_type": "code",
   "execution_count": null,
   "id": "e0fe96f7",
   "metadata": {},
   "outputs": [],
   "source": [
    "import numpy as np\n",
    "import pandas as pd\n",
    "import matplotlib.pyplot as plt\n",
    "import seaborn as sns"
   ]
  },
  {
   "cell_type": "markdown",
   "id": "42ec4156",
   "metadata": {},
   "source": [
    "Import libraries for datashader, which can be used for visualizing large datasets."
   ]
  },
  {
   "cell_type": "code",
   "execution_count": null,
   "id": "8aab4d63",
   "metadata": {},
   "outputs": [],
   "source": [
    "import datashader as ds\n",
    "import datashader.transfer_functions as tf"
   ]
  },
  {
   "cell_type": "markdown",
   "id": "7f7032a1",
   "metadata": {},
   "source": [
    "Set pandas display options to show all columns."
   ]
  },
  {
   "cell_type": "code",
   "execution_count": null,
   "id": "8ac7cab2",
   "metadata": {},
   "outputs": [],
   "source": [
    "pd.set_option('display.max_columns', None)"
   ]
  },
  {
   "cell_type": "markdown",
   "id": "aa2236de",
   "metadata": {},
   "source": [
    "Load the eye-tracking data from the specified CSV file into a pandas DataFrame."
   ]
  },
  {
   "cell_type": "code",
   "execution_count": null,
   "id": "26b22606",
   "metadata": {},
   "outputs": [],
   "source": [
    "df_25_EYE = pd.read_csv('data/STData/25/25_EYE.csv')"
   ]
  },
  {
   "cell_type": "markdown",
   "id": "7cce3a5f",
   "metadata": {},
   "source": [
    "Display the first few rows of the DataFrame to get an initial look at the data structure and content."
   ]
  },
  {
   "cell_type": "code",
   "execution_count": null,
   "id": "590a3aa9",
   "metadata": {},
   "outputs": [],
   "source": [
    "df_25_EYE.head()"
   ]
  },
  {
   "cell_type": "markdown",
   "id": "53c40e4b",
   "metadata": {},
   "source": [
    "Check the dimensions (number of rows and columns) of the DataFrame."
   ]
  },
  {
   "cell_type": "code",
   "execution_count": null,
   "id": "4877e85c",
   "metadata": {},
   "outputs": [],
   "source": [
    "df_25_EYE.shape"
   ]
  },
  {
   "cell_type": "markdown",
   "id": "1e4b2dd2",
   "metadata": {},
   "source": [
    "List the names of all columns in the DataFrame."
   ]
  },
  {
   "cell_type": "code",
   "execution_count": null,
   "id": "40bc0ba9",
   "metadata": {},
   "outputs": [],
   "source": [
    "df_25_EYE.columns"
   ]
  },
  {
   "cell_type": "markdown",
   "id": "5a2480a7",
   "metadata": {},
   "source": [
    "Display concise information about the DataFrame, including the data types of each column and the number of non-null values. This helps identify columns with missing data."
   ]
  },
  {
   "cell_type": "code",
   "execution_count": null,
   "id": "80cd9e7f",
   "metadata": {},
   "outputs": [],
   "source": [
    "df_25_EYE.info()"
   ]
  },
  {
   "cell_type": "markdown",
   "id": "f315a452",
   "metadata": {},
   "source": [
    "Calculate and display the number of missing values in each column."
   ]
  },
  {
   "cell_type": "code",
   "execution_count": null,
   "id": "794e8a9b",
   "metadata": {},
   "outputs": [],
   "source": [
    "df_25_EYE.isnull().sum()"
   ]
  },
  {
   "cell_type": "markdown",
   "id": "af8fc2fc",
   "metadata": {},
   "source": [
    "Visualize the distribution of missing values using a heatmap. This provides a visual representation of which columns have missing data and the extent of missingness."
   ]
  },
  {
   "cell_type": "code",
   "execution_count": null,
   "id": "b1f7e769",
   "metadata": {},
   "outputs": [],
   "source": [
    "plt.figure(figsize=(12,8))\n",
    "sns.heatmap(df_25_EYE.isnull(), cmap='viridis')\n",
    "plt.show()"
   ]
  },
  {
   "cell_type": "markdown",
   "id": "db36d620",
   "metadata": {},
   "source": [
    "# Notes & Observations\n",
    "\n",
    "- We observe many **null** (or missing) values in the `QuestionKey` columns.\n",
    "- The nulls in the `QuestionKey` column may not represent “true” nulls. Rather, they follow interval patterns, suggesting that during those periods no question was displayed.\n",
    "- These missing values in `QuestionKey` require additional investigation and context-aware handling."
   ]
  },
  {
   "cell_type": "markdown",
   "id": "5a60e9c9",
   "metadata": {},
   "source": [
    "Display the unique values in the `QuestionKey` column to understand the different types of questions or states recorded."
   ]
  },
  {
   "cell_type": "code",
   "execution_count": null,
   "id": "52488bdd",
   "metadata": {},
   "outputs": [],
   "source": [
    "df_25_EYE['QuestionKey'].unique()"
   ]
  },
  {
   "cell_type": "markdown",
   "id": "f7ffae36",
   "metadata": {},
   "source": [
    "Convert the `Timestamp` column to datetime objects. This is crucial for any time series analysis or manipulation."
   ]
  },
  {
   "cell_type": "code",
   "execution_count": null,
   "id": "df5e7e0d",
   "metadata": {},
   "outputs": [],
   "source": [
    "df_25_EYE['Timestamp'] = pd.to_datetime(df_25_EYE['Timestamp'])"
   ]
  },
  {
   "cell_type": "markdown",
   "id": "531e50b0",
   "metadata": {},
   "source": [
    "Display the first few rows again to see the effect of the timestamp conversion."
   ]
  },
  {
   "cell_type": "code",
   "execution_count": null,
   "id": "92584b40",
   "metadata": {},
   "outputs": [],
   "source": [
    "df_25_EYE.head(3)"
   ]
  },
  {
   "cell_type": "markdown",
   "id": "665d9b46",
   "metadata": {},
   "source": [
    "Fill the missing values in the `QuestionKey` column with the string 'None'. This helps to explicitly mark periods where no question was active."
   ]
  },
  {
   "cell_type": "code",
   "execution_count": null,
   "id": "1c05f9f2",
   "metadata": {},
   "outputs": [],
   "source": [
    "df_25_EYE['QuestionKey'].fillna('None', inplace=True)"
   ]
  },
  {
   "cell_type": "markdown",
   "id": "f31e590b",
   "metadata": {},
   "source": [
    "Count the occurrences of each unique value in the `QuestionKey` column after filling missing values."
   ]
  },
  {
   "cell_type": "code",
   "execution_count": null,
   "id": "22fcfdff",
   "metadata": {},
   "outputs": [],
   "source": [
    "df_25_EYE['QuestionKey'].value_counts()"
   ]
  },
  {
   "cell_type": "markdown",
   "id": "ebce9d1e",
   "metadata": {},
   "source": [
    "Display the heatmap of missing values again to confirm that the missing values in `QuestionKey` have been handled."
   ]
  },
  {
   "cell_type": "code",
   "execution_count": null,
   "id": "007a6e8a",
   "metadata": {},
   "outputs": [],
   "source": [
    "plt.figure(figsize=(12,8))\n",
    "sns.heatmap(df_25_EYE.isnull(), cmap='viridis')\n",
    "plt.show()"
   ]
  },
  {
   "cell_type": "markdown",
   "id": "8eb16bfc",
   "metadata": {},
   "source": [
    "Recalculate and display the number of missing values per column to confirm the changes after handling `QuestionKey`."
   ]
  },
  {
   "cell_type": "code",
   "execution_count": null,
   "id": "1245d2fa",
   "metadata": {},
   "outputs": [],
   "source": [
    "df_25_EYE.isnull().sum()"
   ]
  },
  {
   "cell_type": "markdown",
   "id": "5b94272a",
   "metadata": {},
   "source": [
    "Drop rows that still contain any missing values. This is done after handling `QuestionKey` separately."
   ]
  },
  {
   "cell_type": "code",
   "execution_count": null,
   "id": "ad28caec",
   "metadata": {},
   "outputs": [],
   "source": [
    "df_25_EYE.dropna(inplace=True)"
   ]
  },
  {
   "cell_type": "markdown",
   "id": "e328b39d",
   "metadata": {},
   "source": [
    "Display the first few rows after dropping rows with missing values."
   ]
  },
  {
   "cell_type": "code",
   "execution_count": null,
   "id": "fdf4cd5b",
   "metadata": {},
   "outputs": [],
   "source": [
    "df_25_EYE.head()"
   ]
  },
  {
   "cell_type": "markdown",
   "id": "d9bbfb40",
   "metadata": {},
   "source": [
    "Display the unique values in the `Row` column."
   ]
  },
  {
   "cell_type": "code",
   "execution_count": null,
   "id": "fe237537",
   "metadata": {},
   "outputs": [],
   "source": [
    "df_25_EYE['Row'].unique()"
   ]
  },
  {
   "cell_type": "markdown",
   "id": "2b70e373",
   "metadata": {},
   "source": [
    "Plot a histogram of the `Row` column to visualize its distribution."
   ]
  },
  {
   "cell_type": "code",
   "execution_count": null,
   "id": "1c3b09af",
   "metadata": {},
   "outputs": [],
   "source": [
    "plt.figure(figsize=(8,6))\n",
    "sns.histplot(df_25_EYE['Row'])\n",
    "plt.show()"
   ]
  },
  {
   "cell_type": "markdown",
   "id": "1dfa7a79",
   "metadata": {},
   "source": [
    "# Notes & Observations\n",
    "\n",
    "- The `Row` column appears to be a simple row index and does not provide meaningful information relevant to the eye-tracking data itself. Therefore, it can be dropped."
   ]
  },
  {
   "cell_type": "markdown",
   "id": "b7ea6338",
   "metadata": {},
   "source": [
    "Drop the `Row` column as it is not relevant for the analysis."
   ]
  },
  {
   "cell_type": "code",
   "execution_count": null,
   "id": "25d95a45",
   "metadata": {},
   "outputs": [],
   "source": [
    "df_25_EYE.drop('Row', axis=1, inplace=True)"
   ]
  },
  {
   "cell_type": "markdown",
   "id": "70d4e20b",
   "metadata": {},
   "source": [
    "Display the unique values in the `ET_ValidityLeft` column."
   ]
  },
  {
   "cell_type": "code",
   "execution_count": null,
   "id": "00017d8d",
   "metadata": {},
   "outputs": [],
   "source": [
    "df_25_EYE['ET_ValidityLeft'].unique()"
   ]
  },
  {
   "cell_type": "markdown",
   "id": "2d91d1e8",
   "metadata": {},
   "source": [
    "Count the occurrences of each unique value in the `ET_ValidityLeft` column."
   ]
  },
  {
   "cell_type": "code",
   "execution_count": null,
   "id": "180ec3f3",
   "metadata": {},
   "outputs": [],
   "source": [
    "df_25_EYE['ET_ValidityLeft'].value_counts()"
   ]
  },
  {
   "cell_type": "markdown",
   "id": "228b4cfb",
   "metadata": {},
   "source": [
    "Display the unique values in the `ET_ValidityRight` column."
   ]
  },
  {
   "cell_type": "code",
   "execution_count": null,
   "id": "a1ce5ab5",
   "metadata": {},
   "outputs": [],
   "source": [
    "df_25_EYE['ET_ValidityRight'].unique()"
   ]
  },
  {
   "cell_type": "markdown",
   "id": "37554031",
   "metadata": {},
   "source": [
    "Count the occurrences of each unique value in the `ET_ValidityRight` column."
   ]
  },
  {
   "cell_type": "code",
   "execution_count": null,
   "id": "8089851c",
   "metadata": {},
   "outputs": [],
   "source": [
    "df_25_EYE['ET_ValidityRight'].value_counts()"
   ]
  },
  {
   "cell_type": "markdown",
   "id": "3f9cdd3e",
   "metadata": {},
   "source": [
    "Visualize the counts of valid and invalid data for both left and right eyes using bar plots."
   ]
  },
  {
   "cell_type": "code",
   "execution_count": null,
   "id": "fb535d8c",
   "metadata": {},
   "outputs": [],
   "source": [
    "plt.figure(figsize=(12, 6))\n",
    "\n",
    "plt.subplot(1, 2, 1)\n",
    "sns.barplot(x=df_25_EYE['ET_ValidityLeft'].value_counts().index, y=df_25_EYE['ET_ValidityLeft'].value_counts().values)\n",
    "plt.title('Count of ET_ValidityLeft')\n",
    "plt.xlabel('Validity')\n",
    "plt.ylabel('Count')\n",
    "\n",
    "\n",
    "plt.subplot(1, 2, 2)\n",
    "sns.barplot(x=df_25_EYE['ET_ValidityRight'].value_counts().index, y=df_25_EYE['ET_ValidityRight'].value_counts().values)\n",
    "plt.title('Count of ET_ValidityRight')\n",
    "plt.xlabel('Validity')\n",
    "plt.ylabel('Count')\n",
    "\n",
    "plt.tight_layout()\n",
    "plt.show()"
   ]
  },
  {
   "cell_type": "markdown",
   "id": "96589657",
   "metadata": {},
   "source": [
    "# Notes & Observations\n",
    "\n",
    "- The `ET_ValidityLeft` and `ET_ValidityRight` columns indicate the validity of the eye-tracking data for the left and right eye, respectively.\n",
    "- Based on the value counts and the bar plots, it appears that a value of `0.0` represents valid eye-tracking data, while a value of `4.0` represents invalid data.\n",
    "- Although the amount of invalid data is relatively small, removing these rows could introduce unwanted patterns or gaps in the time series data.\n",
    "- Therefore, we will keep the data and replace the value `4.0` with `1.0` in both `ET_ValidityLeft` and `ET_ValidityRight` columns. This will indicate to a machine learning model that the eye tracker had invalid data at those specific points in time while maintaining the integrity of the time series."
   ]
  },
  {
   "cell_type": "markdown",
   "id": "70256318",
   "metadata": {},
   "source": [
    "Define a mapping to convert validity values from `0.0` and `4.0` to `0` and `1`."
   ]
  },
  {
   "cell_type": "code",
   "execution_count": null,
   "id": "81620664",
   "metadata": {},
   "outputs": [],
   "source": [
    "validity_map = {4.0: 1.0, 0.0: 0.0}"
   ]
  },
  {
   "cell_type": "markdown",
   "id": "6a5f5fc9",
   "metadata": {},
   "source": [
    "Apply the mapping to the `ET_ValidityLeft` and `ET_ValidityRight` columns and convert the data type to integer."
   ]
  },
  {
   "cell_type": "code",
   "execution_count": null,
   "id": "4f3aa626",
   "metadata": {},
   "outputs": [],
   "source": [
    "df_25_EYE['ET_ValidityLeft'] = df_25_EYE['ET_ValidityLeft'].map(validity_map).astype(np.int8)\n",
    "df_25_EYE['ET_ValidityRight'] = df_25_EYE['ET_ValidityRight'].map(validity_map).astype(np.int8)"
   ]
  },
  {
   "cell_type": "markdown",
   "id": "630a656b",
   "metadata": {},
   "source": [
    "Display the first few rows to see the updated validity columns."
   ]
  },
  {
   "cell_type": "code",
   "execution_count": null,
   "id": "cb853512",
   "metadata": {},
   "outputs": [],
   "source": [
    "df_25_EYE.head(3)"
   ]
  },
  {
   "cell_type": "markdown",
   "id": "ce295773",
   "metadata": {},
   "source": [
    "Display descriptive statistics for the DataFrame, including count, mean, standard deviation, min, max, and quartiles for numeric columns."
   ]
  },
  {
   "cell_type": "code",
   "execution_count": null,
   "id": "926e7fa6",
   "metadata": {},
   "outputs": [],
   "source": [
    "df_25_EYE.describe()"
   ]
  },
  {
   "cell_type": "markdown",
   "id": "b4c79ddc",
   "metadata": {},
   "source": [
    "Check the number of rows where `ET_ValidityLeft` is 1 (invalid data for the left eye)."
   ]
  },
  {
   "cell_type": "code",
   "execution_count": null,
   "id": "d82930d4",
   "metadata": {},
   "outputs": [],
   "source": [
    "df_25_EYE[df_25_EYE['ET_ValidityLeft'] == 1].shape"
   ]
  },
  {
   "cell_type": "markdown",
   "id": "3b5d07a9",
   "metadata": {},
   "source": [
    "Check the number of rows where `ET_ValidityRight` is 1 (invalid data for the right eye)."
   ]
  },
  {
   "cell_type": "code",
   "execution_count": null,
   "id": "fd92bcca",
   "metadata": {},
   "outputs": [],
   "source": [
    "df_25_EYE[df_25_EYE['ET_ValidityRight'] == 1].shape"
   ]
  },
  {
   "cell_type": "markdown",
   "id": "b520b383",
   "metadata": {},
   "source": [
    "Visualize the distribution of -1 and 1 values across columns using heatmaps. This helps identify columns with placeholder or indicator values."
   ]
  },
  {
   "cell_type": "code",
   "execution_count": null,
   "id": "31c9d600",
   "metadata": {},
   "outputs": [],
   "source": [
    "plt.figure(figsize=(18, 8))\n",
    "\n",
    "plt.subplot(1, 2, 1)\n",
    "sns.heatmap(df_25_EYE == -1, cmap='viridis')\n",
    "plt.title('Heatmap of -1 Values')\n",
    "\n",
    "plt.subplot(1, 2, 2)\n",
    "sns.heatmap(df_25_EYE == 1, cmap='viridis')\n",
    "plt.title('Heatmap of 1 Values')\n",
    "\n",
    "plt.tight_layout()\n",
    "plt.show()"
   ]
  },
  {
   "cell_type": "markdown",
   "id": "37097629",
   "metadata": {},
   "source": [
    "Check the number of rows where `ET_PupilLeft` is -1."
   ]
  },
  {
   "cell_type": "code",
   "execution_count": null,
   "id": "33a640b7",
   "metadata": {},
   "outputs": [],
   "source": [
    "df_25_EYE[df_25_EYE['ET_PupilLeft'] == -1].shape"
   ]
  },
  {
   "cell_type": "markdown",
   "id": "5670a533",
   "metadata": {},
   "source": [
    "Check the number of rows where `ET_PupilRight` is -1."
   ]
  },
  {
   "cell_type": "code",
   "execution_count": null,
   "id": "b9fe8817",
   "metadata": {},
   "outputs": [],
   "source": [
    "df_25_EYE[df_25_EYE['ET_PupilRight'] == -1].shape"
   ]
  },
  {
   "cell_type": "markdown",
   "id": "c5d2fbc7",
   "metadata": {},
   "source": [
    "Calculate the ratio of rows with -1 values in the `ET_PupilLeft` column to the total number of rows."
   ]
  },
  {
   "cell_type": "code",
   "execution_count": null,
   "id": "9088f46c",
   "metadata": {},
   "outputs": [],
   "source": [
    "df_25_EYE[df_25_EYE['ET_PupilLeft'] == -1].shape[0] / df_25_EYE.shape[0]"
   ]
  },
  {
   "cell_type": "markdown",
   "id": "60657859",
   "metadata": {},
   "source": [
    "Calculate the ratio of rows with -1 values in the `ET_PupilRight` column to the total number of rows."
   ]
  },
  {
   "cell_type": "code",
   "execution_count": null,
   "id": "d7fd37bf",
   "metadata": {},
   "outputs": [],
   "source": [
    "df_25_EYE[df_25_EYE['ET_PupilRight'] == -1].shape[0] / df_25_EYE.shape[0]"
   ]
  },
  {
   "cell_type": "markdown",
   "id": "dc90ab96",
   "metadata": {},
   "source": [
    "Visualize the distribution of -1 values specifically for rows where validity is 1 (invalid data)."
   ]
  },
  {
   "cell_type": "code",
   "execution_count": null,
   "id": "d1e94cf4",
   "metadata": {},
   "outputs": [],
   "source": [
    "plt.figure(figsize=(18, 8))\n",
    "\n",
    "plt.subplot(1, 2, 1)\n",
    "sns.heatmap(df_25_EYE[df_25_EYE['ET_ValidityLeft'] == 1] == -1, cmap='viridis')\n",
    "plt.title('Heatmap of -1 Values')\n",
    "\n",
    "plt.subplot(1, 2, 2)\n",
    "sns.heatmap(df_25_EYE[df_25_EYE['ET_ValidityRight'] == 1] == -1, cmap='viridis')\n",
    "plt.title('Heatmap of -1 Values')\n",
    "\n",
    "plt.tight_layout()\n",
    "plt.show()"
   ]
  },
  {
   "cell_type": "markdown",
   "id": "a5564c25",
   "metadata": {},
   "source": [
    "# Notes & Observations\n",
    "\n",
    "- The heatmaps reveal the distribution of -1 values across different columns.\n",
    "- It is evident that the `-1` values are not randomly scattered but appear in specific columns, notably `ET_GazeLeftx`, `ET_GazeLefty`, `ET_GazeRightx`, `ET_GazeRighty`, `ET_PupilLeft`, `ET_PupilRight`, `ET_DistanceLeft`, `ET_DistanceRight`, `ET_CameraLeftX`, `ET_CameraLeftY`, `ET_CameraRightX`, and `ET_CameraRightY`.\n",
    "- These `-1` values often coincide with instances where `ET_ValidityLeft` or `ET_ValidityRight` is 1, indicating invalid eye-tracking data. This suggests that `-1` is used as a placeholder for missing or invalid measurements in these columns when the eye tracker is not providing valid data for a particular eye.\n",
    "- Given that over 70% of the data in the `ET_PupilLeft` and `ET_PupilRight` columns is marked as invalid (-1), these columns may not be suitable for analysis and could be considered for dropping."
   ]
  },
  {
   "cell_type": "markdown",
   "id": "06322a92",
   "metadata": {},
   "source": [
    "Drop the `ET_PupilLeft` and `ET_PupilRight` columns due to the high percentage of invalid data."
   ]
  },
  {
   "cell_type": "code",
   "execution_count": null,
   "id": "f7b516ce",
   "metadata": {},
   "outputs": [],
   "source": [
    "df_25_EYE.drop(['ET_PupilLeft', 'ET_PupilRight'], axis=1, inplace=True)"
   ]
  },
  {
   "cell_type": "markdown",
   "id": "436f11f3",
   "metadata": {},
   "source": [
    "Display the first few rows after dropping the pupil columns."
   ]
  },
  {
   "cell_type": "code",
   "execution_count": null,
   "id": "ea26c1cb",
   "metadata": {},
   "outputs": [],
   "source": [
    "df_25_EYE.head()"
   ]
  },
  {
   "cell_type": "markdown",
   "id": "3158b99b",
   "metadata": {},
   "source": [
    "Visualize the distribution of -1 and 1 values again after dropping the pupil columns."
   ]
  },
  {
   "cell_type": "code",
   "execution_count": null,
   "id": "d326781b",
   "metadata": {},
   "outputs": [],
   "source": [
    "plt.figure(figsize=(18, 8))\n",
    "\n",
    "plt.subplot(1, 2, 1)\n",
    "sns.heatmap(df_25_EYE == -1, cmap='viridis')\n",
    "plt.title('Heatmap of -1 Values')\n",
    "\n",
    "plt.subplot(1, 2, 2)\n",
    "sns.heatmap(df_25_EYE == 1, cmap='viridis')\n",
    "plt.title('Heatmap of -1 Values')\n",
    "\n",
    "plt.tight_layout()\n",
    "plt.show()"
   ]
  },
  {
   "cell_type": "markdown",
   "id": "8850b43f",
   "metadata": {},
   "source": [
    "Calculate the ratio of valid data points for the left eye."
   ]
  },
  {
   "cell_type": "code",
   "execution_count": null,
   "id": "2ec6da0e",
   "metadata": {},
   "outputs": [],
   "source": [
    "valid_left_ratio  = 1 - df_25_EYE['ET_ValidityLeft'].mean()"
   ]
  },
  {
   "cell_type": "markdown",
   "id": "6991b046",
   "metadata": {},
   "source": [
    "Display the ratio of valid data points for the left eye."
   ]
  },
  {
   "cell_type": "code",
   "execution_count": null,
   "id": "41c51bc2",
   "metadata": {},
   "outputs": [],
   "source": [
    "valid_left_ratio"
   ]
  },
  {
   "cell_type": "markdown",
   "id": "90356e59",
   "metadata": {},
   "source": [
    "Calculate the ratio of valid data points for the right eye."
   ]
  },
  {
   "cell_type": "code",
   "execution_count": null,
   "id": "830cec93",
   "metadata": {},
   "outputs": [],
   "source": [
    "valid_right_ratio = 1 - df_25_EYE['ET_ValidityRight'].mean()"
   ]
  },
  {
   "cell_type": "markdown",
   "id": "4483a4b7",
   "metadata": {},
   "source": [
    "Display the ratio of valid data points for the right eye."
   ]
  },
  {
   "cell_type": "code",
   "execution_count": null,
   "id": "d7188746",
   "metadata": {},
   "outputs": [],
   "source": [
    "valid_right_ratio"
   ]
  },
  {
   "cell_type": "markdown",
   "id": "f21ef8ad",
   "metadata": {},
   "source": [
    "Display the first few rows of the DataFrame."
   ]
  },
  {
   "cell_type": "code",
   "execution_count": null,
   "id": "1b2a91de",
   "metadata": {},
   "outputs": [],
   "source": [
    "df_25_EYE.head()"
   ]
  },
  {
   "cell_type": "markdown",
   "id": "edbdfbca",
   "metadata": {},
   "source": [
    "Visualize the distributions of numeric columns using histograms with Kernel Density Estimate (KDE) plots. This helps understand the shape and spread of the data in each numeric column."
   ]
  },
  {
   "cell_type": "code",
   "execution_count": null,
   "id": "4e992976",
   "metadata": {},
   "outputs": [],
   "source": [
    "# Select only the numeric columns for plotting histograms, excluding time-related columns\n",
    "numeric_cols = df_25_EYE.select_dtypes(include=np.number).columns\n",
    "cols_to_plot = [col for col in numeric_cols if col not in ['UnixTime']]\n",
    "\n",
    "# Calculate the number of rows and columns for the grid\n",
    "n_cols = 4  # You can adjust the number of columns as needed\n",
    "n_rows = (len(cols_to_plot) + n_cols - 1) // n_cols\n",
    "\n",
    "plt.figure(figsize=(n_cols * 5, n_rows * 4)) # Adjust figure size as needed\n",
    "\n",
    "for i, col in enumerate(cols_to_plot):\n",
    "    plt.subplot(n_rows, n_cols, i + 1)\n",
    "    sns.histplot(df_25_EYE[col], kde=True)\n",
    "    plt.title(f'Distribution of {col}')\n",
    "    plt.xlabel(col)\n",
    "    plt.ylabel('Frequency')\n",
    "\n",
    "plt.tight_layout()\n",
    "plt.show()"
   ]
  },
  {
   "cell_type": "markdown",
   "id": "175126b9",
   "metadata": {},
   "source": [
    "List the names of the columns in the DataFrame."
   ]
  },
  {
   "cell_type": "code",
   "execution_count": null,
   "id": "89b0c52e",
   "metadata": {},
   "outputs": [],
   "source": [
    "df_25_EYE.columns"
   ]
  },
  {
   "cell_type": "markdown",
   "id": "1f80b0cf",
   "metadata": {},
   "source": [
    "Define a list of columns to be plotted over time."
   ]
  },
  {
   "cell_type": "code",
   "execution_count": null,
   "id": "031bfc36",
   "metadata": {},
   "outputs": [],
   "source": [
    "cols = ['ET_GazeLeftx', 'ET_GazeLefty',\n",
    "       'ET_GazeRightx', 'ET_GazeRighty', 'ET_TimeSignal', 'ET_DistanceLeft',\n",
    "       'ET_DistanceRight', 'ET_CameraLeftX', 'ET_CameraLeftY',\n",
    "       'ET_CameraRightX', 'ET_CameraRightY', 'ET_ValidityLeft',\n",
    "       'ET_ValidityRight']"
   ]
  },
  {
   "cell_type": "markdown",
   "id": "fb5678d9",
   "metadata": {},
   "source": [
    "Plot each of the selected columns against the timestamp to visualize their trends and patterns over time. Markdown cells are added before each plot for better readability."
   ]
  },
  {
   "cell_type": "code",
   "execution_count": null,
   "id": "0d9ef3dc",
   "metadata": {},
   "outputs": [],
   "source": [
    "from IPython.display import display, Markdown\n",
    "\n",
    "for col in cols:\n",
    "    # Add a markdown cell before each plot for better separation and labeling\n",
    "    display(Markdown(f'### {col} over Time'))\n",
    "    plt.figure(figsize=(16, 10))\n",
    "    plt.plot(df_25_EYE['Timestamp'], df_25_EYE[col])\n",
    "    plt.xlabel(\"Timestamp\") # Add x-axis label\n",
    "    plt.ylabel(col) # Add y-axis label\n",
    "    plt.show()"
   ]
  },
  {
   "cell_type": "markdown",
   "id": "f13c96b1",
   "metadata": {},
   "source": [
    "Visualize the distributions of numeric columns using boxplots. This helps identify potential outliers and the spread of the data."
   ]
  },
  {
   "cell_type": "code",
   "execution_count": null,
   "id": "3df24c99",
   "metadata": {},
   "outputs": [],
   "source": [
    "# Select only the numeric columns for plotting histograms, excluding time-related columns\n",
    "numeric_cols = df_25_EYE.select_dtypes(include=np.number).columns\n",
    "\n",
    "# Calculate the number of rows and columns for the grid\n",
    "n_cols = 4  # You can adjust the number of columns as needed\n",
    "n_rows = (len(numeric_cols) + n_cols - 1) // n_cols\n",
    "\n",
    "plt.figure(figsize=(n_cols * 5, n_rows * 4)) # Adjust figure size as needed\n",
    "\n",
    "for i, col in enumerate(numeric_cols):\n",
    "    plt.subplot(n_rows, n_cols, i + 1)\n",
    "    sns.boxplot(df_25_EYE[col])\n",
    "    plt.title(f'Boxplot of {col}')\n",
    "    plt.xlabel(col)\n",
    "\n",
    "plt.tight_layout()\n",
    "plt.show()"
   ]
  },
  {
   "cell_type": "markdown",
   "id": "ba5b4272",
   "metadata": {},
   "source": [
    "Replace the placeholder value -1 with NaN (Not a Number) in the DataFrame. This is done before imputation."
   ]
  },
  {
   "cell_type": "code",
   "execution_count": null,
   "id": "5624368c",
   "metadata": {},
   "outputs": [],
   "source": [
    "df_25_EYE.replace({-1: np.nan}, inplace=True)"
   ]
  },
  {
   "cell_type": "markdown",
   "id": "36856f9d",
   "metadata": {},
   "source": [
    "Impute the missing values (NaN) in the numeric columns with the mean of each column."
   ]
  },
  {
   "cell_type": "code",
   "execution_count": null,
   "id": "3b090fbc",
   "metadata": {},
   "outputs": [],
   "source": [
    "numeric_cols = df_25_EYE.select_dtypes(include=np.number).columns\n",
    "\n",
    "for col in numeric_cols:\n",
    "    df_25_EYE[col].fillna(df_25_EYE[col].mean(), inplace=True)"
   ]
  },
  {
   "cell_type": "markdown",
   "id": "68df1138",
   "metadata": {},
   "source": [
    "Display the first few rows after imputing missing values."
   ]
  },
  {
   "cell_type": "code",
   "execution_count": null,
   "id": "d2c74038",
   "metadata": {},
   "outputs": [],
   "source": [
    "df_25_EYE.head()"
   ]
  },
  {
   "cell_type": "markdown",
   "id": "ffa8fad4",
   "metadata": {},
   "source": [
    "Visualize the distributions of numeric columns again using histograms with KDE plots after imputation. This helps assess the impact of imputation on the data distributions."
   ]
  },
  {
   "cell_type": "code",
   "execution_count": null,
   "id": "ad56b6db",
   "metadata": {},
   "outputs": [],
   "source": [
    "# Select only the numeric columns for plotting histograms, excluding time-related columns\n",
    "numeric_cols = df_25_EYE.select_dtypes(include=np.number).columns\n",
    "cols_to_plot = [col for col in numeric_cols if col not in ['UnixTime']]\n",
    "\n",
    "# Calculate the number of rows and columns for the grid\n",
    "n_cols = 4  # You can adjust the number of columns as needed\n",
    "n_rows = (len(cols_to_plot) + n_cols - 1) // n_cols\n",
    "\n",
    "plt.figure(figsize=(n_cols * 5, n_rows * 4)) # Adjust figure size as needed\n",
    "\n",
    "for i, col in enumerate(cols_to_plot):\n",
    "    plt.subplot(n_rows, n_cols, i + 1)\n",
    "    sns.histplot(df_25_EYE[col], kde=True)\n",
    "    plt.title(f'Distribution of {col}')\n",
    "    plt.xlabel(col)\n",
    "    plt.ylabel('Frequency')\n",
    "\n",
    "plt.tight_layout()\n",
    "plt.show()"
   ]
  },
  {
   "cell_type": "code",
   "execution_count": null,
   "id": "ba6c5f17",
   "metadata": {},
   "outputs": [],
   "source": []
  },
  {
   "cell_type": "markdown",
   "id": "f286afc6",
   "metadata": {},
   "source": [
    "## Student 26"
   ]
  },
  {
   "cell_type": "code",
   "execution_count": null,
   "id": "dc410e1c",
   "metadata": {},
   "outputs": [],
   "source": [
    "%load_ext cudf"
   ]
  },
  {
   "cell_type": "code",
   "execution_count": null,
   "id": "12148c79",
   "metadata": {},
   "outputs": [],
   "source": [
    "import numpy as np\n",
    "import pandas as pd\n",
    "import matplotlib.pyplot as plt\n",
    "import seaborn as sns"
   ]
  },
  {
   "cell_type": "code",
   "execution_count": null,
   "id": "15c48ec4",
   "metadata": {},
   "outputs": [],
   "source": [
    "import datashader as ds\n",
    "import datashader.transfer_functions as tf"
   ]
  },
  {
   "cell_type": "code",
   "execution_count": null,
   "id": "f514cfe9",
   "metadata": {},
   "outputs": [],
   "source": [
    "pd.set_option('display.max_columns', None)"
   ]
  },
  {
   "cell_type": "code",
   "execution_count": null,
   "id": "5ea33fa1",
   "metadata": {},
   "outputs": [],
   "source": [
    "df_26_EYE = pd.read_csv('data/STData/26/26_EYE.csv')"
   ]
  },
  {
   "cell_type": "code",
   "execution_count": null,
   "id": "5f798f95",
   "metadata": {},
   "outputs": [],
   "source": [
    "df_26_EYE.head()"
   ]
  },
  {
   "cell_type": "code",
   "execution_count": null,
   "id": "4562c932",
   "metadata": {},
   "outputs": [],
   "source": [
    "df_26_EYE.shape"
   ]
  },
  {
   "cell_type": "code",
   "execution_count": null,
   "id": "4878b60a",
   "metadata": {},
   "outputs": [],
   "source": [
    "df_26_EYE.columns"
   ]
  },
  {
   "cell_type": "code",
   "execution_count": null,
   "id": "85f5b709",
   "metadata": {},
   "outputs": [],
   "source": [
    "df_26_EYE.info()"
   ]
  },
  {
   "cell_type": "code",
   "execution_count": null,
   "id": "61aea5ee",
   "metadata": {},
   "outputs": [],
   "source": [
    "df_26_EYE.isnull().sum()"
   ]
  },
  {
   "cell_type": "code",
   "execution_count": null,
   "id": "66018bcd",
   "metadata": {},
   "outputs": [],
   "source": [
    "plt.figure(figsize=(12,8))\n",
    "sns.heatmap(df_26_EYE.isnull(), cmap='viridis')\n",
    "plt.show()"
   ]
  },
  {
   "cell_type": "markdown",
   "id": "21b4df40",
   "metadata": {},
   "source": [
    "# Notes & Observations\n",
    "\n",
    "- We observe many **null** (or missing) values in the `QuestionKey` columns.  \n",
    "- The nulls in the `QuestionKey` column may not represent “true” nulls. Rather, they follow interval patterns, suggesting that during those periods no question was displayed.  \n",
    "- These missing values in `QuestionKey` require additional investigation and context-aware handling.  "
   ]
  },
  {
   "cell_type": "code",
   "execution_count": null,
   "id": "8bba5a7a",
   "metadata": {},
   "outputs": [],
   "source": [
    "df_26_EYE['QuestionKey'].unique()"
   ]
  },
  {
   "cell_type": "code",
   "execution_count": null,
   "id": "e14a0e1c",
   "metadata": {},
   "outputs": [],
   "source": [
    "df_26_EYE['Timestamp'] = pd.to_datetime(df_26_EYE['Timestamp'])"
   ]
  },
  {
   "cell_type": "code",
   "execution_count": null,
   "id": "7ec3fc5d",
   "metadata": {},
   "outputs": [],
   "source": [
    "df_26_EYE.head(3)"
   ]
  },
  {
   "cell_type": "code",
   "execution_count": null,
   "id": "38fea74e",
   "metadata": {},
   "outputs": [],
   "source": [
    "df_26_EYE['QuestionKey'].fillna('None', inplace=True)"
   ]
  },
  {
   "cell_type": "code",
   "execution_count": null,
   "id": "0590acda",
   "metadata": {},
   "outputs": [],
   "source": [
    "df_26_EYE['QuestionKey'].value_counts()"
   ]
  },
  {
   "cell_type": "code",
   "execution_count": null,
   "id": "af164d45",
   "metadata": {},
   "outputs": [],
   "source": [
    "plt.figure(figsize=(12,8))\n",
    "sns.heatmap(df_26_EYE.isnull(), cmap='viridis')\n",
    "plt.show()"
   ]
  },
  {
   "cell_type": "code",
   "execution_count": null,
   "id": "ac606065",
   "metadata": {},
   "outputs": [],
   "source": [
    "df_26_EYE.isnull().sum()"
   ]
  },
  {
   "cell_type": "code",
   "execution_count": null,
   "id": "8f693990",
   "metadata": {},
   "outputs": [],
   "source": [
    "df_26_EYE.dropna(inplace=True)"
   ]
  },
  {
   "cell_type": "code",
   "execution_count": null,
   "id": "b6e7a5d0",
   "metadata": {},
   "outputs": [],
   "source": [
    "df_26_EYE.head()"
   ]
  },
  {
   "cell_type": "code",
   "execution_count": null,
   "id": "ed3933f4",
   "metadata": {},
   "outputs": [],
   "source": [
    "df_26_EYE['Row'].unique()"
   ]
  },
  {
   "cell_type": "code",
   "execution_count": null,
   "id": "5f71dab7",
   "metadata": {},
   "outputs": [],
   "source": [
    "plt.figure(figsize=(8,6))\n",
    "sns.histplot(df_26_EYE['Row'])\n",
    "plt.show()"
   ]
  },
  {
   "cell_type": "markdown",
   "id": "01c4a2e8",
   "metadata": {},
   "source": [
    "# Notes & Observations\n",
    "\n",
    "- The `Row` column appears to be a simple row index and does not provide meaningful information relevant to the eye-tracking data itself. Therefore, it can be dropped."
   ]
  },
  {
   "cell_type": "code",
   "execution_count": null,
   "id": "cbe89053",
   "metadata": {},
   "outputs": [],
   "source": [
    "df_26_EYE.drop('Row', axis=1, inplace=True)"
   ]
  },
  {
   "cell_type": "code",
   "execution_count": null,
   "id": "7ebee651",
   "metadata": {},
   "outputs": [],
   "source": [
    "df_26_EYE['ET_ValidityLeft'].unique()"
   ]
  },
  {
   "cell_type": "code",
   "execution_count": null,
   "id": "a933192f",
   "metadata": {},
   "outputs": [],
   "source": [
    "df_26_EYE['ET_ValidityLeft'].value_counts()"
   ]
  },
  {
   "cell_type": "code",
   "execution_count": null,
   "id": "fdbb7833",
   "metadata": {},
   "outputs": [],
   "source": [
    "df_26_EYE['ET_ValidityRight'].unique()"
   ]
  },
  {
   "cell_type": "code",
   "execution_count": null,
   "id": "93f456d8",
   "metadata": {},
   "outputs": [],
   "source": [
    "df_26_EYE['ET_ValidityRight'].value_counts()"
   ]
  },
  {
   "cell_type": "code",
   "execution_count": null,
   "id": "1fae550c",
   "metadata": {},
   "outputs": [],
   "source": [
    "plt.figure(figsize=(12, 6))\n",
    "\n",
    "plt.subplot(1, 2, 1)\n",
    "sns.barplot(x=df_26_EYE['ET_ValidityLeft'].value_counts().index, y=df_26_EYE['ET_ValidityLeft'].value_counts().values)\n",
    "plt.title('Count of ET_ValidityLeft')\n",
    "plt.xlabel('Validity')\n",
    "plt.ylabel('Count')\n",
    "\n",
    "\n",
    "plt.subplot(1, 2, 2)\n",
    "sns.barplot(x=df_26_EYE['ET_ValidityRight'].value_counts().index, y=df_26_EYE['ET_ValidityRight'].value_counts().values)\n",
    "plt.title('Count of ET_ValidityRight')\n",
    "plt.xlabel('Validity')\n",
    "plt.ylabel('Count')\n",
    "\n",
    "plt.tight_layout()\n",
    "plt.show()"
   ]
  },
  {
   "cell_type": "markdown",
   "id": "d912b130",
   "metadata": {},
   "source": [
    "# Notes & Observations\n",
    "\n",
    "- The `ET_ValidityLeft` and `ET_ValidityRight` columns indicate the validity of the eye-tracking data for the left and right eye, respectively.\n",
    "- Based on the value counts and the bar plots, it appears that a value of `0.0` represents valid eye-tracking data, while a value of `4.0` represents invalid data.\n",
    "- Although the amount of invalid data is relatively small, removing these rows could introduce unwanted patterns or gaps in the time series data.\n",
    "- Therefore, we will keep the data and replace the value `4.0` with `1.0` in both `ET_ValidityLeft` and `ET_ValidityRight` columns. This will indicate to a machine learning model that the eye tracker had invalid data at those specific points in time while maintaining the integrity of the time series."
   ]
  },
  {
   "cell_type": "code",
   "execution_count": null,
   "id": "85d02f4a",
   "metadata": {},
   "outputs": [],
   "source": [
    "validity_map = {4.0: 1.0, 0.0: 0.0}"
   ]
  },
  {
   "cell_type": "code",
   "execution_count": null,
   "id": "e43ea23c",
   "metadata": {},
   "outputs": [],
   "source": [
    "df_26_EYE['ET_ValidityLeft'] = df_26_EYE['ET_ValidityLeft'].map(validity_map).astype(np.int8)\n",
    "df_26_EYE['ET_ValidityRight'] = df_26_EYE['ET_ValidityRight'].map(validity_map).astype(np.int8)"
   ]
  },
  {
   "cell_type": "code",
   "execution_count": null,
   "id": "ce430f21",
   "metadata": {},
   "outputs": [],
   "source": [
    "df_26_EYE.head(3)"
   ]
  },
  {
   "cell_type": "code",
   "execution_count": null,
   "id": "978aca67",
   "metadata": {},
   "outputs": [],
   "source": [
    "df_26_EYE.describe()"
   ]
  },
  {
   "cell_type": "code",
   "execution_count": null,
   "id": "ab97b236",
   "metadata": {},
   "outputs": [],
   "source": [
    "df_26_EYE[df_26_EYE['ET_ValidityLeft'] == 1].shape"
   ]
  },
  {
   "cell_type": "code",
   "execution_count": null,
   "id": "f1398d14",
   "metadata": {},
   "outputs": [],
   "source": [
    "df_26_EYE[df_26_EYE['ET_ValidityRight'] == 1].shape"
   ]
  },
  {
   "cell_type": "code",
   "execution_count": null,
   "id": "0c04139c",
   "metadata": {},
   "outputs": [],
   "source": [
    "plt.figure(figsize=(18, 8))\n",
    "\n",
    "plt.subplot(1, 2, 1)\n",
    "sns.heatmap(df_26_EYE == -1, cmap='viridis')\n",
    "plt.title('Heatmap of -1 Values')\n",
    "\n",
    "plt.subplot(1, 2, 2)\n",
    "sns.heatmap(df_26_EYE == 1, cmap='viridis')\n",
    "plt.title('Heatmap of 1 Values')\n",
    "\n",
    "plt.tight_layout()\n",
    "plt.show()"
   ]
  },
  {
   "cell_type": "code",
   "execution_count": null,
   "id": "085e9a92",
   "metadata": {},
   "outputs": [],
   "source": [
    "df_26_EYE[df_26_EYE['ET_PupilLeft'] == -1].shape"
   ]
  },
  {
   "cell_type": "code",
   "execution_count": null,
   "id": "b54ad399",
   "metadata": {},
   "outputs": [],
   "source": [
    "df_26_EYE[df_26_EYE['ET_PupilRight'] == -1].shape"
   ]
  },
  {
   "cell_type": "code",
   "execution_count": null,
   "id": "a87bf19f",
   "metadata": {},
   "outputs": [],
   "source": [
    "df_26_EYE[df_26_EYE['ET_PupilLeft'] == -1].shape[0] / df_26_EYE.shape[0]"
   ]
  },
  {
   "cell_type": "code",
   "execution_count": null,
   "id": "1c7c368b",
   "metadata": {},
   "outputs": [],
   "source": [
    "df_26_EYE[df_26_EYE['ET_PupilRight'] == -1].shape[0] / df_26_EYE.shape[0]"
   ]
  },
  {
   "cell_type": "code",
   "execution_count": null,
   "id": "f2380fcc",
   "metadata": {},
   "outputs": [],
   "source": [
    "plt.figure(figsize=(18, 8))\n",
    "\n",
    "plt.subplot(1, 2, 1)\n",
    "sns.heatmap(df_26_EYE[df_26_EYE['ET_ValidityLeft'] == 1] == -1, cmap='viridis')\n",
    "plt.title('Heatmap of -1 Values')\n",
    "\n",
    "plt.subplot(1, 2, 2)\n",
    "sns.heatmap(df_26_EYE[df_26_EYE['ET_ValidityRight'] == 1] == -1, cmap='viridis')\n",
    "plt.title('Heatmap of -1 Values')\n",
    "\n",
    "plt.tight_layout()\n",
    "plt.show()"
   ]
  },
  {
   "cell_type": "markdown",
   "id": "2aead6f5",
   "metadata": {},
   "source": [
    "# Notes & Observations\n",
    "\n",
    "- The heatmaps reveal the distribution of -1 values across different columns.\n",
    "- It is evident that the `-1` values are not randomly scattered but appear in specific columns, notably `ET_GazeLeftx`, `ET_GazeLefty`, `ET_GazeRightx`, `ET_GazeRighty`, `ET_PupilLeft`, `ET_PupilRight`, `ET_DistanceLeft`, `ET_DistanceRight`, `ET_CameraLeftX`, `ET_CameraLeftY`, `ET_CameraRightX`, and `ET_CameraRightY`.\n",
    "- These `-1` values often coincide with instances where `ET_ValidityLeft` or `ET_ValidityRight` is 1, indicating invalid eye-tracking data. This suggests that `-1` is used as a placeholder for missing or invalid measurements in these columns when the eye tracker is not providing valid data for a particular eye.\n",
    "- Given that over 70% of the data in the `ET_PupilLeft` and `ET_PupilRight` columns is marked as invalid (-1), these columns may not be suitable for analysis and could be considered for dropping."
   ]
  },
  {
   "cell_type": "code",
   "execution_count": null,
   "id": "2e3cfd08",
   "metadata": {},
   "outputs": [],
   "source": [
    "df_26_EYE.drop(['ET_PupilLeft', 'ET_PupilRight'], axis=1, inplace=True)"
   ]
  },
  {
   "cell_type": "code",
   "execution_count": null,
   "id": "f78de2a2",
   "metadata": {},
   "outputs": [],
   "source": [
    "df_26_EYE.head()"
   ]
  },
  {
   "cell_type": "code",
   "execution_count": null,
   "id": "35a5d510",
   "metadata": {},
   "outputs": [],
   "source": [
    "plt.figure(figsize=(18, 8))\n",
    "\n",
    "plt.subplot(1, 2, 1)\n",
    "sns.heatmap(df_26_EYE == -1, cmap='viridis')\n",
    "plt.title('Heatmap of -1 Values')\n",
    "\n",
    "plt.subplot(1, 2, 2)\n",
    "sns.heatmap(df_26_EYE == 1, cmap='viridis')\n",
    "plt.title('Heatmap of -1 Values')\n",
    "\n",
    "plt.tight_layout()\n",
    "plt.show()"
   ]
  },
  {
   "cell_type": "code",
   "execution_count": null,
   "id": "04416eda",
   "metadata": {},
   "outputs": [],
   "source": [
    "valid_left_ratio  = 1 - df_26_EYE['ET_ValidityLeft'].mean()\n",
    "valid_right_ratio = 1 - df_26_EYE['ET_ValidityRight'].mean()"
   ]
  },
  {
   "cell_type": "code",
   "execution_count": null,
   "id": "3ae30b64",
   "metadata": {},
   "outputs": [],
   "source": [
    "valid_left_ratio"
   ]
  },
  {
   "cell_type": "code",
   "execution_count": null,
   "id": "502c3a99",
   "metadata": {},
   "outputs": [],
   "source": [
    "valid_right_ratio"
   ]
  },
  {
   "cell_type": "code",
   "execution_count": null,
   "id": "fbc12c44",
   "metadata": {},
   "outputs": [],
   "source": [
    "df_26_EYE.head()"
   ]
  },
  {
   "cell_type": "code",
   "execution_count": null,
   "id": "18a04e27",
   "metadata": {},
   "outputs": [],
   "source": [
    "# Select only the numeric columns for plotting histograms, excluding time-related columns\n",
    "numeric_cols = df_26_EYE.select_dtypes(include=np.number).columns\n",
    "cols_to_plot = [col for col in numeric_cols if col not in ['UnixTime']]\n",
    "\n",
    "# Calculate the number of rows and columns for the grid\n",
    "n_cols = 4  # You can adjust the number of columns as needed\n",
    "n_rows = (len(cols_to_plot) + n_cols - 1) // n_cols\n",
    "\n",
    "plt.figure(figsize=(n_cols * 5, n_rows * 4)) # Adjust figure size as needed\n",
    "\n",
    "for i, col in enumerate(cols_to_plot):\n",
    "    plt.subplot(n_rows, n_cols, i + 1)\n",
    "    sns.histplot(df_26_EYE[col], kde=True)\n",
    "    plt.title(f'Distribution of {col}')\n",
    "    plt.xlabel(col)\n",
    "    plt.ylabel('Frequency')\n",
    "\n",
    "plt.tight_layout()\n",
    "plt.show()"
   ]
  },
  {
   "cell_type": "code",
   "execution_count": null,
   "id": "92bc1c3f",
   "metadata": {},
   "outputs": [],
   "source": [
    "df_26_EYE.columns"
   ]
  },
  {
   "cell_type": "code",
   "execution_count": null,
   "id": "d4294fc3",
   "metadata": {},
   "outputs": [],
   "source": [
    "cols = ['ET_GazeLeftx', 'ET_GazeLefty',\n",
    "       'ET_GazeRightx', 'ET_GazeRighty', 'ET_TimeSignal', 'ET_DistanceLeft',\n",
    "       'ET_DistanceRight', 'ET_CameraLeftX', 'ET_CameraLeftY',\n",
    "       'ET_CameraRightX', 'ET_CameraRightY', 'ET_ValidityLeft',\n",
    "       'ET_ValidityRight']"
   ]
  },
  {
   "cell_type": "code",
   "execution_count": null,
   "id": "4e0b15ad",
   "metadata": {},
   "outputs": [],
   "source": [
    "from IPython.display import display, Markdown\n",
    "\n",
    "for col in cols:\n",
    "    # Add a markdown cell before each plot for better separation and labeling\n",
    "    display(Markdown(f'### {col} over Time'))\n",
    "    plt.figure(figsize=(16, 10))\n",
    "    plt.plot(df_26_EYE['Timestamp'], df_26_EYE[col])\n",
    "    plt.xlabel(\"Timestamp\") # Add x-axis label\n",
    "    plt.ylabel(col) # Add y-axis label\n",
    "    plt.show()"
   ]
  },
  {
   "cell_type": "code",
   "execution_count": null,
   "id": "1898bb2b",
   "metadata": {},
   "outputs": [],
   "source": [
    "# Select only the numeric columns for plotting histograms, excluding time-related columns\n",
    "numeric_cols = df_26_EYE.select_dtypes(include=np.number).columns\n",
    "\n",
    "# Calculate the number of rows and columns for the grid\n",
    "n_cols = 4  # You can adjust the number of columns as needed\n",
    "n_rows = (len(numeric_cols) + n_cols - 1) // n_cols\n",
    "\n",
    "plt.figure(figsize=(n_cols * 5, n_rows * 4)) # Adjust figure size as needed\n",
    "\n",
    "for i, col in enumerate(numeric_cols):\n",
    "    plt.subplot(n_rows, n_cols, i + 1)\n",
    "    sns.boxplot(df_26_EYE[col])\n",
    "    plt.title(f'Boxplot of {col}')\n",
    "    plt.xlabel(col)\n",
    "\n",
    "plt.tight_layout()\n",
    "plt.show()"
   ]
  },
  {
   "cell_type": "code",
   "execution_count": null,
   "id": "41895e1e",
   "metadata": {},
   "outputs": [],
   "source": [
    "df_26_EYE.replace({-1: np.nan}, inplace=True)"
   ]
  },
  {
   "cell_type": "code",
   "execution_count": null,
   "id": "367930b9",
   "metadata": {},
   "outputs": [],
   "source": [
    "numeric_cols = df_26_EYE.select_dtypes(include=np.number).columns\n",
    "\n",
    "for col in numeric_cols:\n",
    "    df_26_EYE[col].fillna(df_26_EYE[col].mean(), inplace=True)"
   ]
  },
  {
   "cell_type": "code",
   "execution_count": null,
   "id": "d540d9aa",
   "metadata": {},
   "outputs": [],
   "source": [
    "df_26_EYE.head()"
   ]
  },
  {
   "cell_type": "code",
   "execution_count": null,
   "id": "dd61478e",
   "metadata": {},
   "outputs": [],
   "source": [
    "# Select only the numeric columns for plotting histograms, excluding time-related columns\n",
    "numeric_cols = df_26_EYE.select_dtypes(include=np.number).columns\n",
    "cols_to_plot = [col for col in numeric_cols if col not in ['UnixTime']]\n",
    "\n",
    "# Calculate the number of rows and columns for the grid\n",
    "n_cols = 4  # You can adjust the number of columns as needed\n",
    "n_rows = (len(cols_to_plot) + n_cols - 1) // n_cols\n",
    "\n",
    "plt.figure(figsize=(n_cols * 5, n_rows * 4)) # Adjust figure size as needed\n",
    "\n",
    "for i, col in enumerate(cols_to_plot):\n",
    "    plt.subplot(n_rows, n_cols, i + 1)\n",
    "    sns.histplot(df_26_EYE[col], kde=True)\n",
    "    plt.title(f'Distribution of {col}')\n",
    "    plt.xlabel(col)\n",
    "    plt.ylabel('Frequency')\n",
    "\n",
    "plt.tight_layout()\n",
    "plt.show()"
   ]
  },
  {
   "cell_type": "code",
   "execution_count": null,
   "id": "3d75f86f",
   "metadata": {},
   "outputs": [],
   "source": []
  },
  {
   "cell_type": "code",
   "execution_count": null,
   "id": "d4f4cfef",
   "metadata": {},
   "outputs": [],
   "source": []
  },
  {
   "cell_type": "code",
   "execution_count": null,
   "id": "6f194b8d",
   "metadata": {},
   "outputs": [],
   "source": []
  },
  {
   "cell_type": "code",
   "execution_count": null,
   "id": "e4a3d07f",
   "metadata": {},
   "outputs": [],
   "source": []
  },
  {
   "cell_type": "code",
   "execution_count": null,
   "id": "bc185383",
   "metadata": {},
   "outputs": [],
   "source": []
  },
  {
   "cell_type": "code",
   "execution_count": null,
   "id": "6a74eadc",
   "metadata": {},
   "outputs": [],
   "source": []
  },
  {
   "cell_type": "code",
   "execution_count": null,
   "id": "1aa04f16",
   "metadata": {},
   "outputs": [],
   "source": []
  },
  {
   "cell_type": "code",
   "execution_count": null,
   "id": "88efba7a",
   "metadata": {},
   "outputs": [],
   "source": []
  },
  {
   "cell_type": "code",
   "execution_count": null,
   "id": "9fc58526",
   "metadata": {},
   "outputs": [],
   "source": []
  },
  {
   "cell_type": "code",
   "execution_count": null,
   "id": "d5ca373b",
   "metadata": {},
   "outputs": [],
   "source": []
  },
  {
   "cell_type": "code",
   "execution_count": null,
   "id": "140abdcc",
   "metadata": {},
   "outputs": [],
   "source": []
  },
  {
   "cell_type": "code",
   "execution_count": null,
   "id": "32bd2c23",
   "metadata": {},
   "outputs": [],
   "source": []
  },
  {
   "cell_type": "markdown",
   "id": "eee0f518",
   "metadata": {},
   "source": [
    "# Eye Tracking Data Analysis\n",
    "\n",
    "This notebook performs exploratory data analysis and cleaning on eye-tracking data.\n",
    "\n",
    "## Data Loading and Initial Inspection"
   ]
  },
  {
   "cell_type": "code",
   "execution_count": null,
   "id": "bcde983b",
   "metadata": {},
   "outputs": [],
   "source": [
    "%load_ext cudf"
   ]
  },
  {
   "cell_type": "markdown",
   "id": "c4c98530",
   "metadata": {},
   "source": [
    "Import necessary libraries for data manipulation, analysis, and visualization."
   ]
  },
  {
   "cell_type": "code",
   "execution_count": null,
   "id": "ddde35cb",
   "metadata": {},
   "outputs": [],
   "source": [
    "import numpy as np\n",
    "import pandas as pd\n",
    "import matplotlib.pyplot as plt\n",
    "import seaborn as sns"
   ]
  },
  {
   "cell_type": "markdown",
   "id": "0ae9d886",
   "metadata": {},
   "source": [
    "Import libraries for datashader, which can be used for visualizing large datasets."
   ]
  },
  {
   "cell_type": "code",
   "execution_count": null,
   "id": "75dad86b",
   "metadata": {},
   "outputs": [],
   "source": [
    "import datashader as ds\n",
    "import datashader.transfer_functions as tf"
   ]
  },
  {
   "cell_type": "markdown",
   "id": "a38cea43",
   "metadata": {},
   "source": [
    "Set pandas display options to show all columns."
   ]
  },
  {
   "cell_type": "code",
   "execution_count": null,
   "id": "3219dfae",
   "metadata": {},
   "outputs": [],
   "source": [
    "pd.set_option('display.max_columns', None)"
   ]
  },
  {
   "cell_type": "markdown",
   "id": "3f76e7a4",
   "metadata": {},
   "source": [
    "Load the eye-tracking data from the specified CSV file into a pandas DataFrame."
   ]
  },
  {
   "cell_type": "code",
   "execution_count": null,
   "id": "5558d2b3",
   "metadata": {},
   "outputs": [],
   "source": [
    "df_26_EYE = pd.read_csv('data/STData/26/26_EYE.csv')"
   ]
  },
  {
   "cell_type": "markdown",
   "id": "79bddc31",
   "metadata": {},
   "source": [
    "Display the first few rows of the DataFrame to get an initial look at the data structure and content."
   ]
  },
  {
   "cell_type": "code",
   "execution_count": null,
   "id": "e761e9cb",
   "metadata": {},
   "outputs": [],
   "source": [
    "df_26_EYE.head()"
   ]
  },
  {
   "cell_type": "markdown",
   "id": "83602101",
   "metadata": {},
   "source": [
    "Check the dimensions (number of rows and columns) of the DataFrame."
   ]
  },
  {
   "cell_type": "code",
   "execution_count": null,
   "id": "0240e320",
   "metadata": {},
   "outputs": [],
   "source": [
    "df_26_EYE.shape"
   ]
  },
  {
   "cell_type": "markdown",
   "id": "57c89a53",
   "metadata": {},
   "source": [
    "List the names of all columns in the DataFrame."
   ]
  },
  {
   "cell_type": "code",
   "execution_count": null,
   "id": "248f33fa",
   "metadata": {},
   "outputs": [],
   "source": [
    "df_26_EYE.columns"
   ]
  },
  {
   "cell_type": "markdown",
   "id": "d33c97bb",
   "metadata": {},
   "source": [
    "Display concise information about the DataFrame, including the data types of each column and the number of non-null values. This helps identify columns with missing data."
   ]
  },
  {
   "cell_type": "code",
   "execution_count": null,
   "id": "ab6501b4",
   "metadata": {},
   "outputs": [],
   "source": [
    "df_26_EYE.info()"
   ]
  },
  {
   "cell_type": "markdown",
   "id": "9d73766c",
   "metadata": {},
   "source": [
    "Calculate and display the number of missing values in each column."
   ]
  },
  {
   "cell_type": "code",
   "execution_count": null,
   "id": "659f0d1b",
   "metadata": {},
   "outputs": [],
   "source": [
    "df_26_EYE.isnull().sum()"
   ]
  },
  {
   "cell_type": "markdown",
   "id": "71a80d00",
   "metadata": {},
   "source": [
    "Visualize the distribution of missing values using a heatmap. This provides a visual representation of which columns have missing data and the extent of missingness."
   ]
  },
  {
   "cell_type": "code",
   "execution_count": null,
   "id": "d8462be9",
   "metadata": {},
   "outputs": [],
   "source": [
    "plt.figure(figsize=(12,8))\n",
    "sns.heatmap(df_26_EYE.isnull(), cmap='viridis')\n",
    "plt.show()"
   ]
  },
  {
   "cell_type": "markdown",
   "id": "79c40dc0",
   "metadata": {},
   "source": [
    "# Notes & Observations\n",
    "\n",
    "- We observe many **null** (or missing) values in the `QuestionKey` columns.\n",
    "- The nulls in the `QuestionKey` column may not represent “true” nulls. Rather, they follow interval patterns, suggesting that during those periods no question was displayed.\n",
    "- These missing values in `QuestionKey` require additional investigation and context-aware handling."
   ]
  },
  {
   "cell_type": "markdown",
   "id": "7e8f53c9",
   "metadata": {},
   "source": [
    "Display the unique values in the `QuestionKey` column to understand the different types of questions or states recorded."
   ]
  },
  {
   "cell_type": "code",
   "execution_count": null,
   "id": "3646fd20",
   "metadata": {},
   "outputs": [],
   "source": [
    "df_26_EYE['QuestionKey'].unique()"
   ]
  },
  {
   "cell_type": "markdown",
   "id": "b6c73da9",
   "metadata": {},
   "source": [
    "Convert the `Timestamp` column to datetime objects. This is crucial for any time series analysis or manipulation."
   ]
  },
  {
   "cell_type": "code",
   "execution_count": null,
   "id": "e89f5a45",
   "metadata": {},
   "outputs": [],
   "source": [
    "df_26_EYE['Timestamp'] = pd.to_datetime(df_26_EYE['Timestamp'])"
   ]
  },
  {
   "cell_type": "markdown",
   "id": "8880f1f1",
   "metadata": {},
   "source": [
    "Display the first few rows again to see the effect of the timestamp conversion."
   ]
  },
  {
   "cell_type": "code",
   "execution_count": null,
   "id": "0fce5f3d",
   "metadata": {},
   "outputs": [],
   "source": [
    "df_26_EYE.head(3)"
   ]
  },
  {
   "cell_type": "markdown",
   "id": "b6fb9ec6",
   "metadata": {},
   "source": [
    "Fill the missing values in the `QuestionKey` column with the string 'None'. This helps to explicitly mark periods where no question was active."
   ]
  },
  {
   "cell_type": "code",
   "execution_count": null,
   "id": "537b8b7e",
   "metadata": {},
   "outputs": [],
   "source": [
    "df_26_EYE['QuestionKey'].fillna('None', inplace=True)"
   ]
  },
  {
   "cell_type": "markdown",
   "id": "8eb89696",
   "metadata": {},
   "source": [
    "Count the occurrences of each unique value in the `QuestionKey` column after filling missing values."
   ]
  },
  {
   "cell_type": "code",
   "execution_count": null,
   "id": "1e91e8f7",
   "metadata": {},
   "outputs": [],
   "source": [
    "df_26_EYE['QuestionKey'].value_counts()"
   ]
  },
  {
   "cell_type": "markdown",
   "id": "7a40f1cc",
   "metadata": {},
   "source": [
    "Display the heatmap of missing values again to confirm that the missing values in `QuestionKey` have been handled."
   ]
  },
  {
   "cell_type": "code",
   "execution_count": null,
   "id": "c8eab081",
   "metadata": {},
   "outputs": [],
   "source": [
    "plt.figure(figsize=(12,8))\n",
    "sns.heatmap(df_26_EYE.isnull(), cmap='viridis')\n",
    "plt.show()"
   ]
  },
  {
   "cell_type": "markdown",
   "id": "30308ed8",
   "metadata": {},
   "source": [
    "Recalculate and display the number of missing values per column to confirm the changes after handling `QuestionKey`."
   ]
  },
  {
   "cell_type": "code",
   "execution_count": null,
   "id": "01fa750d",
   "metadata": {},
   "outputs": [],
   "source": [
    "df_26_EYE.isnull().sum()"
   ]
  },
  {
   "cell_type": "markdown",
   "id": "308aadaa",
   "metadata": {},
   "source": [
    "Drop rows that still contain any missing values. This is done after handling `QuestionKey` separately."
   ]
  },
  {
   "cell_type": "code",
   "execution_count": null,
   "id": "5cb45dcf",
   "metadata": {},
   "outputs": [],
   "source": [
    "df_26_EYE.dropna(inplace=True)"
   ]
  },
  {
   "cell_type": "markdown",
   "id": "70e4bbd7",
   "metadata": {},
   "source": [
    "Display the first few rows after dropping rows with missing values."
   ]
  },
  {
   "cell_type": "code",
   "execution_count": null,
   "id": "9d24081a",
   "metadata": {},
   "outputs": [],
   "source": [
    "df_26_EYE.head()"
   ]
  },
  {
   "cell_type": "markdown",
   "id": "c475be85",
   "metadata": {},
   "source": [
    "Display the unique values in the `Row` column."
   ]
  },
  {
   "cell_type": "code",
   "execution_count": null,
   "id": "ce128768",
   "metadata": {},
   "outputs": [],
   "source": [
    "df_26_EYE['Row'].unique()"
   ]
  },
  {
   "cell_type": "markdown",
   "id": "383efd37",
   "metadata": {},
   "source": [
    "Plot a histogram of the `Row` column to visualize its distribution."
   ]
  },
  {
   "cell_type": "code",
   "execution_count": null,
   "id": "49bc3193",
   "metadata": {},
   "outputs": [],
   "source": [
    "plt.figure(figsize=(8,6))\n",
    "sns.histplot(df_26_EYE['Row'])\n",
    "plt.show()"
   ]
  },
  {
   "cell_type": "markdown",
   "id": "d0f9a1a5",
   "metadata": {},
   "source": [
    "# Notes & Observations\n",
    "\n",
    "- The `Row` column appears to be a simple row index and does not provide meaningful information relevant to the eye-tracking data itself. Therefore, it can be dropped."
   ]
  },
  {
   "cell_type": "markdown",
   "id": "d5217d60",
   "metadata": {},
   "source": [
    "Drop the `Row` column as it is not relevant for the analysis."
   ]
  },
  {
   "cell_type": "code",
   "execution_count": null,
   "id": "f1c658d0",
   "metadata": {},
   "outputs": [],
   "source": [
    "df_26_EYE.drop('Row', axis=1, inplace=True)"
   ]
  },
  {
   "cell_type": "markdown",
   "id": "60924b13",
   "metadata": {},
   "source": [
    "Display the unique values in the `ET_ValidityLeft` column."
   ]
  },
  {
   "cell_type": "code",
   "execution_count": null,
   "id": "97a0e33f",
   "metadata": {},
   "outputs": [],
   "source": [
    "df_26_EYE['ET_ValidityLeft'].unique()"
   ]
  },
  {
   "cell_type": "markdown",
   "id": "dc9b341d",
   "metadata": {},
   "source": [
    "Count the occurrences of each unique value in the `ET_ValidityLeft` column."
   ]
  },
  {
   "cell_type": "code",
   "execution_count": null,
   "id": "a5de9396",
   "metadata": {},
   "outputs": [],
   "source": [
    "df_26_EYE['ET_ValidityLeft'].value_counts()"
   ]
  },
  {
   "cell_type": "markdown",
   "id": "226d1140",
   "metadata": {},
   "source": [
    "Display the unique values in the `ET_ValidityRight` column."
   ]
  },
  {
   "cell_type": "code",
   "execution_count": null,
   "id": "68b246c6",
   "metadata": {},
   "outputs": [],
   "source": [
    "df_26_EYE['ET_ValidityRight'].unique()"
   ]
  },
  {
   "cell_type": "markdown",
   "id": "bc4aa409",
   "metadata": {},
   "source": [
    "Count the occurrences of each unique value in the `ET_ValidityRight` column."
   ]
  },
  {
   "cell_type": "code",
   "execution_count": null,
   "id": "25a17913",
   "metadata": {},
   "outputs": [],
   "source": [
    "df_26_EYE['ET_ValidityRight'].value_counts()"
   ]
  },
  {
   "cell_type": "markdown",
   "id": "576f4bab",
   "metadata": {},
   "source": [
    "Visualize the counts of valid and invalid data for both left and right eyes using bar plots."
   ]
  },
  {
   "cell_type": "code",
   "execution_count": null,
   "id": "f7be27f0",
   "metadata": {},
   "outputs": [],
   "source": [
    "plt.figure(figsize=(12, 6))\n",
    "\n",
    "plt.subplot(1, 2, 1)\n",
    "sns.barplot(x=df_26_EYE['ET_ValidityLeft'].value_counts().index, y=df_26_EYE['ET_ValidityLeft'].value_counts().values)\n",
    "plt.title('Count of ET_ValidityLeft')\n",
    "plt.xlabel('Validity')\n",
    "plt.ylabel('Count')\n",
    "\n",
    "\n",
    "plt.subplot(1, 2, 2)\n",
    "sns.barplot(x=df_26_EYE['ET_ValidityRight'].value_counts().index, y=df_26_EYE['ET_ValidityRight'].value_counts().values)\n",
    "plt.title('Count of ET_ValidityRight')\n",
    "plt.xlabel('Validity')\n",
    "plt.ylabel('Count')\n",
    "\n",
    "plt.tight_layout()\n",
    "plt.show()"
   ]
  },
  {
   "cell_type": "markdown",
   "id": "c04c7193",
   "metadata": {},
   "source": [
    "# Notes & Observations\n",
    "\n",
    "- The `ET_ValidityLeft` and `ET_ValidityRight` columns indicate the validity of the eye-tracking data for the left and right eye, respectively.\n",
    "- Based on the value counts and the bar plots, it appears that a value of `0.0` represents valid eye-tracking data, while a value of `4.0` represents invalid data.\n",
    "- Although the amount of invalid data is relatively small, removing these rows could introduce unwanted patterns or gaps in the time series data.\n",
    "- Therefore, we will keep the data and replace the value `4.0` with `1.0` in both `ET_ValidityLeft` and `ET_ValidityRight` columns. This will indicate to a machine learning model that the eye tracker had invalid data at those specific points in time while maintaining the integrity of the time series."
   ]
  },
  {
   "cell_type": "markdown",
   "id": "5b6c6d36",
   "metadata": {},
   "source": [
    "Define a mapping to convert validity values from `0.0` and `4.0` to `0` and `1`."
   ]
  },
  {
   "cell_type": "code",
   "execution_count": null,
   "id": "3d77a0a1",
   "metadata": {},
   "outputs": [],
   "source": [
    "validity_map = {4.0: 1.0, 0.0: 0.0}"
   ]
  },
  {
   "cell_type": "markdown",
   "id": "5119027e",
   "metadata": {},
   "source": [
    "Apply the mapping to the `ET_ValidityLeft` and `ET_ValidityRight` columns and convert the data type to integer."
   ]
  },
  {
   "cell_type": "code",
   "execution_count": null,
   "id": "d0e95db2",
   "metadata": {},
   "outputs": [],
   "source": [
    "df_26_EYE['ET_ValidityLeft'] = df_26_EYE['ET_ValidityLeft'].map(validity_map).astype(np.int8)\n",
    "df_26_EYE['ET_ValidityRight'] = df_26_EYE['ET_ValidityRight'].map(validity_map).astype(np.int8)"
   ]
  },
  {
   "cell_type": "markdown",
   "id": "01b920c6",
   "metadata": {},
   "source": [
    "Display the first few rows to see the updated validity columns."
   ]
  },
  {
   "cell_type": "code",
   "execution_count": null,
   "id": "b4c45a91",
   "metadata": {},
   "outputs": [],
   "source": [
    "df_26_EYE.head(3)"
   ]
  },
  {
   "cell_type": "markdown",
   "id": "bf82f669",
   "metadata": {},
   "source": [
    "Display descriptive statistics for the DataFrame, including count, mean, standard deviation, min, max, and quartiles for numeric columns."
   ]
  },
  {
   "cell_type": "code",
   "execution_count": null,
   "id": "0a396784",
   "metadata": {},
   "outputs": [],
   "source": [
    "df_26_EYE.describe()"
   ]
  },
  {
   "cell_type": "markdown",
   "id": "56b5c8d8",
   "metadata": {},
   "source": [
    "Check the number of rows where `ET_ValidityLeft` is 1 (invalid data for the left eye)."
   ]
  },
  {
   "cell_type": "code",
   "execution_count": null,
   "id": "0cf1c79e",
   "metadata": {},
   "outputs": [],
   "source": [
    "df_26_EYE[df_26_EYE['ET_ValidityLeft'] == 1].shape"
   ]
  },
  {
   "cell_type": "markdown",
   "id": "7ec28196",
   "metadata": {},
   "source": [
    "Check the number of rows where `ET_ValidityRight` is 1 (invalid data for the right eye)."
   ]
  },
  {
   "cell_type": "code",
   "execution_count": null,
   "id": "b71a10c6",
   "metadata": {},
   "outputs": [],
   "source": [
    "df_26_EYE[df_26_EYE['ET_ValidityRight'] == 1].shape"
   ]
  },
  {
   "cell_type": "markdown",
   "id": "73e0648e",
   "metadata": {},
   "source": [
    "Visualize the distribution of -1 and 1 values across columns using heatmaps. This helps identify columns with placeholder or indicator values."
   ]
  },
  {
   "cell_type": "code",
   "execution_count": null,
   "id": "536aee53",
   "metadata": {},
   "outputs": [],
   "source": [
    "plt.figure(figsize=(18, 8))\n",
    "\n",
    "plt.subplot(1, 2, 1)\n",
    "sns.heatmap(df_26_EYE == -1, cmap='viridis')\n",
    "plt.title('Heatmap of -1 Values')\n",
    "\n",
    "plt.subplot(1, 2, 2)\n",
    "sns.heatmap(df_26_EYE == 1, cmap='viridis')\n",
    "plt.title('Heatmap of 1 Values')\n",
    "\n",
    "plt.tight_layout()\n",
    "plt.show()"
   ]
  },
  {
   "cell_type": "markdown",
   "id": "4daf7173",
   "metadata": {},
   "source": [
    "Check the number of rows where `ET_PupilLeft` is -1."
   ]
  },
  {
   "cell_type": "code",
   "execution_count": null,
   "id": "4a8aa3f2",
   "metadata": {},
   "outputs": [],
   "source": [
    "df_26_EYE[df_26_EYE['ET_PupilLeft'] == -1].shape"
   ]
  },
  {
   "cell_type": "markdown",
   "id": "591f758b",
   "metadata": {},
   "source": [
    "Check the number of rows where `ET_PupilRight` is -1."
   ]
  },
  {
   "cell_type": "code",
   "execution_count": null,
   "id": "8ce4ec65",
   "metadata": {},
   "outputs": [],
   "source": [
    "df_26_EYE[df_26_EYE['ET_PupilRight'] == -1].shape"
   ]
  },
  {
   "cell_type": "markdown",
   "id": "eb3e2284",
   "metadata": {},
   "source": [
    "Calculate the ratio of rows with -1 values in the `ET_PupilLeft` column to the total number of rows."
   ]
  },
  {
   "cell_type": "code",
   "execution_count": null,
   "id": "0db829ce",
   "metadata": {},
   "outputs": [],
   "source": [
    "df_26_EYE[df_26_EYE['ET_PupilLeft'] == -1].shape[0] / df_26_EYE.shape[0]"
   ]
  },
  {
   "cell_type": "markdown",
   "id": "d6dcf383",
   "metadata": {},
   "source": [
    "Calculate the ratio of rows with -1 values in the `ET_PupilRight` column to the total number of rows."
   ]
  },
  {
   "cell_type": "code",
   "execution_count": null,
   "id": "2e9c8ffd",
   "metadata": {},
   "outputs": [],
   "source": [
    "df_26_EYE[df_26_EYE['ET_PupilRight'] == -1].shape[0] / df_26_EYE.shape[0]"
   ]
  },
  {
   "cell_type": "markdown",
   "id": "fe2a9a5d",
   "metadata": {},
   "source": [
    "Visualize the distribution of -1 values specifically for rows where validity is 1 (invalid data)."
   ]
  },
  {
   "cell_type": "code",
   "execution_count": null,
   "id": "c10be501",
   "metadata": {},
   "outputs": [],
   "source": [
    "plt.figure(figsize=(18, 8))\n",
    "\n",
    "plt.subplot(1, 2, 1)\n",
    "sns.heatmap(df_26_EYE[df_26_EYE['ET_ValidityLeft'] == 1] == -1, cmap='viridis')\n",
    "plt.title('Heatmap of -1 Values')\n",
    "\n",
    "plt.subplot(1, 2, 2)\n",
    "sns.heatmap(df_26_EYE[df_26_EYE['ET_ValidityRight'] == 1] == -1, cmap='viridis')\n",
    "plt.title('Heatmap of -1 Values')\n",
    "\n",
    "plt.tight_layout()\n",
    "plt.show()"
   ]
  },
  {
   "cell_type": "markdown",
   "id": "075ec99a",
   "metadata": {},
   "source": [
    "# Notes & Observations\n",
    "\n",
    "- The heatmaps reveal the distribution of -1 values across different columns.\n",
    "- It is evident that the `-1` values are not randomly scattered but appear in specific columns, notably `ET_GazeLeftx`, `ET_GazeLefty`, `ET_GazeRightx`, `ET_GazeRighty`, `ET_PupilLeft`, `ET_PupilRight`, `ET_DistanceLeft`, `ET_DistanceRight`, `ET_CameraLeftX`, `ET_CameraLeftY`, `ET_CameraRightX`, and `ET_CameraRightY`.\n",
    "- These `-1` values often coincide with instances where `ET_ValidityLeft` or `ET_ValidityRight` is 1, indicating invalid eye-tracking data. This suggests that `-1` is used as a placeholder for missing or invalid measurements in these columns when the eye tracker is not providing valid data for a particular eye.\n",
    "- Given that over 70% of the data in the `ET_PupilLeft` and `ET_PupilRight` columns is marked as invalid (-1), these columns may not be suitable for analysis and could be considered for dropping."
   ]
  },
  {
   "cell_type": "markdown",
   "id": "cab039f2",
   "metadata": {},
   "source": [
    "Drop the `ET_PupilLeft` and `ET_PupilRight` columns due to the high percentage of invalid data."
   ]
  },
  {
   "cell_type": "code",
   "execution_count": null,
   "id": "97308272",
   "metadata": {},
   "outputs": [],
   "source": [
    "df_26_EYE.drop(['ET_PupilLeft', 'ET_PupilRight'], axis=1, inplace=True)"
   ]
  },
  {
   "cell_type": "markdown",
   "id": "bd10e3b8",
   "metadata": {},
   "source": [
    "Display the first few rows after dropping the pupil columns."
   ]
  },
  {
   "cell_type": "code",
   "execution_count": null,
   "id": "7a724450",
   "metadata": {},
   "outputs": [],
   "source": [
    "df_26_EYE.head()"
   ]
  },
  {
   "cell_type": "markdown",
   "id": "dcbdd7b0",
   "metadata": {},
   "source": [
    "Visualize the distribution of -1 and 1 values again after dropping the pupil columns."
   ]
  },
  {
   "cell_type": "code",
   "execution_count": null,
   "id": "41672ba6",
   "metadata": {},
   "outputs": [],
   "source": [
    "plt.figure(figsize=(18, 8))\n",
    "\n",
    "plt.subplot(1, 2, 1)\n",
    "sns.heatmap(df_26_EYE == -1, cmap='viridis')\n",
    "plt.title('Heatmap of -1 Values')\n",
    "\n",
    "plt.subplot(1, 2, 2)\n",
    "sns.heatmap(df_26_EYE == 1, cmap='viridis')\n",
    "plt.title('Heatmap of -1 Values')\n",
    "\n",
    "plt.tight_layout()\n",
    "plt.show()"
   ]
  },
  {
   "cell_type": "markdown",
   "id": "8372de56",
   "metadata": {},
   "source": [
    "Calculate the ratio of valid data points for the left eye."
   ]
  },
  {
   "cell_type": "code",
   "execution_count": null,
   "id": "3abbb819",
   "metadata": {},
   "outputs": [],
   "source": [
    "valid_left_ratio  = 1 - df_26_EYE['ET_ValidityLeft'].mean()"
   ]
  },
  {
   "cell_type": "markdown",
   "id": "13ecc5a4",
   "metadata": {},
   "source": [
    "Display the ratio of valid data points for the left eye."
   ]
  },
  {
   "cell_type": "code",
   "execution_count": null,
   "id": "9e9653e6",
   "metadata": {},
   "outputs": [],
   "source": [
    "valid_left_ratio"
   ]
  },
  {
   "cell_type": "markdown",
   "id": "248beec8",
   "metadata": {},
   "source": [
    "Calculate the ratio of valid data points for the right eye."
   ]
  },
  {
   "cell_type": "code",
   "execution_count": null,
   "id": "1cbd7fbc",
   "metadata": {},
   "outputs": [],
   "source": [
    "valid_right_ratio = 1 - df_26_EYE['ET_ValidityRight'].mean()"
   ]
  },
  {
   "cell_type": "markdown",
   "id": "a9af272d",
   "metadata": {},
   "source": [
    "Display the ratio of valid data points for the right eye."
   ]
  },
  {
   "cell_type": "code",
   "execution_count": null,
   "id": "dbdb0e97",
   "metadata": {},
   "outputs": [],
   "source": [
    "valid_right_ratio"
   ]
  },
  {
   "cell_type": "markdown",
   "id": "3f16ffc5",
   "metadata": {},
   "source": [
    "Display the first few rows of the DataFrame."
   ]
  },
  {
   "cell_type": "code",
   "execution_count": null,
   "id": "3a3babf9",
   "metadata": {},
   "outputs": [],
   "source": [
    "df_26_EYE.head()"
   ]
  },
  {
   "cell_type": "markdown",
   "id": "4e67571a",
   "metadata": {},
   "source": [
    "Visualize the distributions of numeric columns using histograms with Kernel Density Estimate (KDE) plots. This helps understand the shape and spread of the data in each numeric column."
   ]
  },
  {
   "cell_type": "code",
   "execution_count": null,
   "id": "cbff434b",
   "metadata": {},
   "outputs": [],
   "source": [
    "# Select only the numeric columns for plotting histograms, excluding time-related columns\n",
    "numeric_cols = df_26_EYE.select_dtypes(include=np.number).columns\n",
    "cols_to_plot = [col for col in numeric_cols if col not in ['UnixTime']]\n",
    "\n",
    "# Calculate the number of rows and columns for the grid\n",
    "n_cols = 4  # You can adjust the number of columns as needed\n",
    "n_rows = (len(cols_to_plot) + n_cols - 1) // n_cols\n",
    "\n",
    "plt.figure(figsize=(n_cols * 5, n_rows * 4)) # Adjust figure size as needed\n",
    "\n",
    "for i, col in enumerate(cols_to_plot):\n",
    "    plt.subplot(n_rows, n_cols, i + 1)\n",
    "    sns.histplot(df_26_EYE[col], kde=True)\n",
    "    plt.title(f'Distribution of {col}')\n",
    "    plt.xlabel(col)\n",
    "    plt.ylabel('Frequency')\n",
    "\n",
    "plt.tight_layout()\n",
    "plt.show()"
   ]
  },
  {
   "cell_type": "markdown",
   "id": "19f04371",
   "metadata": {},
   "source": [
    "List the names of the columns in the DataFrame."
   ]
  },
  {
   "cell_type": "code",
   "execution_count": null,
   "id": "b3e0369a",
   "metadata": {},
   "outputs": [],
   "source": [
    "df_26_EYE.columns"
   ]
  },
  {
   "cell_type": "markdown",
   "id": "8502018f",
   "metadata": {},
   "source": [
    "Define a list of columns to be plotted over time."
   ]
  },
  {
   "cell_type": "code",
   "execution_count": null,
   "id": "1a849c77",
   "metadata": {},
   "outputs": [],
   "source": [
    "cols = ['ET_GazeLeftx', 'ET_GazeLefty',\n",
    "       'ET_GazeRightx', 'ET_GazeRighty', 'ET_TimeSignal', 'ET_DistanceLeft',\n",
    "       'ET_DistanceRight', 'ET_CameraLeftX', 'ET_CameraLeftY',\n",
    "       'ET_CameraRightX', 'ET_CameraRightY', 'ET_ValidityLeft',\n",
    "       'ET_ValidityRight']"
   ]
  },
  {
   "cell_type": "markdown",
   "id": "e6cfde10",
   "metadata": {},
   "source": [
    "Plot each of the selected columns against the timestamp to visualize their trends and patterns over time. Markdown cells are added before each plot for better readability."
   ]
  },
  {
   "cell_type": "code",
   "execution_count": null,
   "id": "220b73e8",
   "metadata": {},
   "outputs": [],
   "source": [
    "from IPython.display import display, Markdown\n",
    "\n",
    "for col in cols:\n",
    "    # Add a markdown cell before each plot for better separation and labeling\n",
    "    display(Markdown(f'### {col} over Time'))\n",
    "    plt.figure(figsize=(16, 10))\n",
    "    plt.plot(df_26_EYE['Timestamp'], df_26_EYE[col])\n",
    "    plt.xlabel(\"Timestamp\") # Add x-axis label\n",
    "    plt.ylabel(col) # Add y-axis label\n",
    "    plt.show()"
   ]
  },
  {
   "cell_type": "markdown",
   "id": "fec52e39",
   "metadata": {},
   "source": [
    "Visualize the distributions of numeric columns using boxplots. This helps identify potential outliers and the spread of the data."
   ]
  },
  {
   "cell_type": "code",
   "execution_count": null,
   "id": "efe9e548",
   "metadata": {},
   "outputs": [],
   "source": [
    "# Select only the numeric columns for plotting histograms, excluding time-related columns\n",
    "numeric_cols = df_26_EYE.select_dtypes(include=np.number).columns\n",
    "\n",
    "# Calculate the number of rows and columns for the grid\n",
    "n_cols = 4  # You can adjust the number of columns as needed\n",
    "n_rows = (len(numeric_cols) + n_cols - 1) // n_cols\n",
    "\n",
    "plt.figure(figsize=(n_cols * 5, n_rows * 4)) # Adjust figure size as needed\n",
    "\n",
    "for i, col in enumerate(numeric_cols):\n",
    "    plt.subplot(n_rows, n_cols, i + 1)\n",
    "    sns.boxplot(df_26_EYE[col])\n",
    "    plt.title(f'Boxplot of {col}')\n",
    "    plt.xlabel(col)\n",
    "\n",
    "plt.tight_layout()\n",
    "plt.show()"
   ]
  },
  {
   "cell_type": "markdown",
   "id": "aff439e4",
   "metadata": {},
   "source": [
    "Replace the placeholder value -1 with NaN (Not a Number) in the DataFrame. This is done before imputation."
   ]
  },
  {
   "cell_type": "code",
   "execution_count": null,
   "id": "937d5cb1",
   "metadata": {},
   "outputs": [],
   "source": [
    "df_26_EYE.replace({-1: np.nan}, inplace=True)"
   ]
  },
  {
   "cell_type": "markdown",
   "id": "b35f8fee",
   "metadata": {},
   "source": [
    "Impute the missing values (NaN) in the numeric columns with the mean of each column."
   ]
  },
  {
   "cell_type": "code",
   "execution_count": null,
   "id": "55c28d40",
   "metadata": {},
   "outputs": [],
   "source": [
    "numeric_cols = df_26_EYE.select_dtypes(include=np.number).columns\n",
    "\n",
    "for col in numeric_cols:\n",
    "    df_26_EYE[col].fillna(df_26_EYE[col].mean(), inplace=True)"
   ]
  },
  {
   "cell_type": "markdown",
   "id": "c772b8b9",
   "metadata": {},
   "source": [
    "Display the first few rows after imputing missing values."
   ]
  },
  {
   "cell_type": "code",
   "execution_count": null,
   "id": "df45d2e3",
   "metadata": {},
   "outputs": [],
   "source": [
    "df_26_EYE.head()"
   ]
  },
  {
   "cell_type": "markdown",
   "id": "75de48f4",
   "metadata": {},
   "source": [
    "Visualize the distributions of numeric columns again using histograms with KDE plots after imputation. This helps assess the impact of imputation on the data distributions."
   ]
  },
  {
   "cell_type": "code",
   "execution_count": null,
   "id": "7cac91f1",
   "metadata": {},
   "outputs": [],
   "source": [
    "# Select only the numeric columns for plotting histograms, excluding time-related columns\n",
    "numeric_cols = df_26_EYE.select_dtypes(include=np.number).columns\n",
    "cols_to_plot = [col for col in numeric_cols if col not in ['UnixTime']]\n",
    "\n",
    "# Calculate the number of rows and columns for the grid\n",
    "n_cols = 4  # You can adjust the number of columns as needed\n",
    "n_rows = (len(cols_to_plot) + n_cols - 1) // n_cols\n",
    "\n",
    "plt.figure(figsize=(n_cols * 5, n_rows * 4)) # Adjust figure size as needed\n",
    "\n",
    "for i, col in enumerate(cols_to_plot):\n",
    "    plt.subplot(n_rows, n_cols, i + 1)\n",
    "    sns.histplot(df_26_EYE[col], kde=True)\n",
    "    plt.title(f'Distribution of {col}')\n",
    "    plt.xlabel(col)\n",
    "    plt.ylabel('Frequency')\n",
    "\n",
    "plt.tight_layout()\n",
    "plt.show()"
   ]
  },
  {
   "cell_type": "code",
   "execution_count": null,
   "id": "59ef3cbd",
   "metadata": {},
   "outputs": [],
   "source": []
  },
  {
   "cell_type": "markdown",
   "id": "05f52cfb",
   "metadata": {},
   "source": [
    "## Student 27"
   ]
  },
  {
   "cell_type": "code",
   "execution_count": null,
   "id": "d49745ea",
   "metadata": {},
   "outputs": [],
   "source": [
    "%load_ext cudf"
   ]
  },
  {
   "cell_type": "code",
   "execution_count": null,
   "id": "79f63d06",
   "metadata": {},
   "outputs": [],
   "source": [
    "import numpy as np\n",
    "import pandas as pd\n",
    "import matplotlib.pyplot as plt\n",
    "import seaborn as sns"
   ]
  },
  {
   "cell_type": "code",
   "execution_count": null,
   "id": "0b57d1f0",
   "metadata": {},
   "outputs": [],
   "source": [
    "import datashader as ds\n",
    "import datashader.transfer_functions as tf"
   ]
  },
  {
   "cell_type": "code",
   "execution_count": null,
   "id": "ddf94b3f",
   "metadata": {},
   "outputs": [],
   "source": [
    "pd.set_option('display.max_columns', None)"
   ]
  },
  {
   "cell_type": "code",
   "execution_count": null,
   "id": "b8811b8a",
   "metadata": {},
   "outputs": [],
   "source": [
    "df_27_EYE = pd.read_csv('data/STData/27/27_EYE.csv')"
   ]
  },
  {
   "cell_type": "code",
   "execution_count": null,
   "id": "9847a945",
   "metadata": {},
   "outputs": [],
   "source": [
    "df_27_EYE.head()"
   ]
  },
  {
   "cell_type": "code",
   "execution_count": null,
   "id": "f8866bfd",
   "metadata": {},
   "outputs": [],
   "source": [
    "df_27_EYE.shape"
   ]
  },
  {
   "cell_type": "code",
   "execution_count": null,
   "id": "ccf0c968",
   "metadata": {},
   "outputs": [],
   "source": [
    "df_27_EYE.columns"
   ]
  },
  {
   "cell_type": "code",
   "execution_count": null,
   "id": "92ea1416",
   "metadata": {},
   "outputs": [],
   "source": [
    "df_27_EYE.info()"
   ]
  },
  {
   "cell_type": "code",
   "execution_count": null,
   "id": "be60030b",
   "metadata": {},
   "outputs": [],
   "source": [
    "df_27_EYE.isnull().sum()"
   ]
  },
  {
   "cell_type": "code",
   "execution_count": null,
   "id": "3166f90e",
   "metadata": {},
   "outputs": [],
   "source": [
    "plt.figure(figsize=(12,8))\n",
    "sns.heatmap(df_27_EYE.isnull(), cmap='viridis')\n",
    "plt.show()"
   ]
  },
  {
   "cell_type": "markdown",
   "id": "0726975b",
   "metadata": {},
   "source": [
    "# Notes & Observations\n",
    "\n",
    "- We observe many **null** (or missing) values in the `QuestionKey` columns.  \n",
    "- The nulls in the `QuestionKey` column may not represent “true” nulls. Rather, they follow interval patterns, suggesting that during those periods no question was displayed.  \n",
    "- These missing values in `QuestionKey` require additional investigation and context-aware handling.  "
   ]
  },
  {
   "cell_type": "code",
   "execution_count": null,
   "id": "3f2ae8e6",
   "metadata": {},
   "outputs": [],
   "source": [
    "df_27_EYE['QuestionKey'].unique()"
   ]
  },
  {
   "cell_type": "code",
   "execution_count": null,
   "id": "ab3b4522",
   "metadata": {},
   "outputs": [],
   "source": [
    "df_27_EYE['Timestamp'] = pd.to_datetime(df_27_EYE['Timestamp'])"
   ]
  },
  {
   "cell_type": "code",
   "execution_count": null,
   "id": "015b5824",
   "metadata": {},
   "outputs": [],
   "source": [
    "df_27_EYE.head(3)"
   ]
  },
  {
   "cell_type": "code",
   "execution_count": null,
   "id": "7a66c975",
   "metadata": {},
   "outputs": [],
   "source": [
    "df_27_EYE['QuestionKey'].fillna('None', inplace=True)"
   ]
  },
  {
   "cell_type": "code",
   "execution_count": null,
   "id": "36137d27",
   "metadata": {},
   "outputs": [],
   "source": [
    "df_27_EYE['QuestionKey'].value_counts()"
   ]
  },
  {
   "cell_type": "code",
   "execution_count": null,
   "id": "dfea7327",
   "metadata": {},
   "outputs": [],
   "source": [
    "plt.figure(figsize=(12,8))\n",
    "sns.heatmap(df_27_EYE.isnull(), cmap='viridis')\n",
    "plt.show()"
   ]
  },
  {
   "cell_type": "code",
   "execution_count": null,
   "id": "64415c8f",
   "metadata": {},
   "outputs": [],
   "source": [
    "df_27_EYE.isnull().sum()"
   ]
  },
  {
   "cell_type": "code",
   "execution_count": null,
   "id": "496cd69b",
   "metadata": {},
   "outputs": [],
   "source": [
    "df_27_EYE.dropna(inplace=True)"
   ]
  },
  {
   "cell_type": "code",
   "execution_count": null,
   "id": "92327930",
   "metadata": {},
   "outputs": [],
   "source": [
    "df_27_EYE.head()"
   ]
  },
  {
   "cell_type": "code",
   "execution_count": null,
   "id": "179cc8e1",
   "metadata": {},
   "outputs": [],
   "source": [
    "df_27_EYE['Row'].unique()"
   ]
  },
  {
   "cell_type": "code",
   "execution_count": null,
   "id": "92de5e1c",
   "metadata": {},
   "outputs": [],
   "source": [
    "plt.figure(figsize=(8,6))\n",
    "sns.histplot(df_27_EYE['Row'])\n",
    "plt.show()"
   ]
  },
  {
   "cell_type": "markdown",
   "id": "21ae0d81",
   "metadata": {},
   "source": [
    "# Notes & Observations\n",
    "\n",
    "- The `Row` column appears to be a simple row index and does not provide meaningful information relevant to the eye-tracking data itself. Therefore, it can be dropped."
   ]
  },
  {
   "cell_type": "code",
   "execution_count": null,
   "id": "a80abe81",
   "metadata": {},
   "outputs": [],
   "source": [
    "df_27_EYE.drop('Row', axis=1, inplace=True)"
   ]
  },
  {
   "cell_type": "code",
   "execution_count": null,
   "id": "c5fa874b",
   "metadata": {},
   "outputs": [],
   "source": [
    "df_27_EYE['ET_ValidityLeft'].unique()"
   ]
  },
  {
   "cell_type": "code",
   "execution_count": null,
   "id": "e8dec289",
   "metadata": {},
   "outputs": [],
   "source": [
    "df_27_EYE['ET_ValidityLeft'].value_counts()"
   ]
  },
  {
   "cell_type": "code",
   "execution_count": null,
   "id": "41a0f6d8",
   "metadata": {},
   "outputs": [],
   "source": [
    "df_27_EYE['ET_ValidityRight'].unique()"
   ]
  },
  {
   "cell_type": "code",
   "execution_count": null,
   "id": "5d1dfb1f",
   "metadata": {},
   "outputs": [],
   "source": [
    "df_27_EYE['ET_ValidityRight'].value_counts()"
   ]
  },
  {
   "cell_type": "code",
   "execution_count": null,
   "id": "b99e6dc6",
   "metadata": {},
   "outputs": [],
   "source": [
    "plt.figure(figsize=(12, 6))\n",
    "\n",
    "plt.subplot(1, 2, 1)\n",
    "sns.barplot(x=df_27_EYE['ET_ValidityLeft'].value_counts().index, y=df_27_EYE['ET_ValidityLeft'].value_counts().values)\n",
    "plt.title('Count of ET_ValidityLeft')\n",
    "plt.xlabel('Validity')\n",
    "plt.ylabel('Count')\n",
    "\n",
    "\n",
    "plt.subplot(1, 2, 2)\n",
    "sns.barplot(x=df_27_EYE['ET_ValidityRight'].value_counts().index, y=df_27_EYE['ET_ValidityRight'].value_counts().values)\n",
    "plt.title('Count of ET_ValidityRight')\n",
    "plt.xlabel('Validity')\n",
    "plt.ylabel('Count')\n",
    "\n",
    "plt.tight_layout()\n",
    "plt.show()"
   ]
  },
  {
   "cell_type": "markdown",
   "id": "b67ff6ff",
   "metadata": {},
   "source": [
    "# Notes & Observations\n",
    "\n",
    "- The `ET_ValidityLeft` and `ET_ValidityRight` columns indicate the validity of the eye-tracking data for the left and right eye, respectively.\n",
    "- Based on the value counts and the bar plots, it appears that a value of `0.0` represents valid eye-tracking data, while a value of `4.0` represents invalid data.\n",
    "- Although the amount of invalid data is relatively small, removing these rows could introduce unwanted patterns or gaps in the time series data.\n",
    "- Therefore, we will keep the data and replace the value `4.0` with `1.0` in both `ET_ValidityLeft` and `ET_ValidityRight` columns. This will indicate to a machine learning model that the eye tracker had invalid data at those specific points in time while maintaining the integrity of the time series."
   ]
  },
  {
   "cell_type": "code",
   "execution_count": null,
   "id": "6f13c3a7",
   "metadata": {},
   "outputs": [],
   "source": [
    "validity_map = {4.0: 1.0, 0.0: 0.0}"
   ]
  },
  {
   "cell_type": "code",
   "execution_count": null,
   "id": "4aed1a55",
   "metadata": {},
   "outputs": [],
   "source": [
    "df_27_EYE['ET_ValidityLeft'] = df_27_EYE['ET_ValidityLeft'].map(validity_map).astype(np.int8)\n",
    "df_27_EYE['ET_ValidityRight'] = df_27_EYE['ET_ValidityRight'].map(validity_map).astype(np.int8)"
   ]
  },
  {
   "cell_type": "code",
   "execution_count": null,
   "id": "5d9c8550",
   "metadata": {},
   "outputs": [],
   "source": [
    "df_27_EYE.head(3)"
   ]
  },
  {
   "cell_type": "code",
   "execution_count": null,
   "id": "fcfa3ab6",
   "metadata": {},
   "outputs": [],
   "source": [
    "df_27_EYE.describe()"
   ]
  },
  {
   "cell_type": "code",
   "execution_count": null,
   "id": "88228754",
   "metadata": {},
   "outputs": [],
   "source": [
    "df_27_EYE[df_27_EYE['ET_ValidityLeft'] == 1].shape"
   ]
  },
  {
   "cell_type": "code",
   "execution_count": null,
   "id": "24e776d7",
   "metadata": {},
   "outputs": [],
   "source": [
    "df_27_EYE[df_27_EYE['ET_ValidityRight'] == 1].shape"
   ]
  },
  {
   "cell_type": "code",
   "execution_count": null,
   "id": "be5ce316",
   "metadata": {},
   "outputs": [],
   "source": [
    "plt.figure(figsize=(18, 8))\n",
    "\n",
    "plt.subplot(1, 2, 1)\n",
    "sns.heatmap(df_27_EYE == -1, cmap='viridis')\n",
    "plt.title('Heatmap of -1 Values')\n",
    "\n",
    "plt.subplot(1, 2, 2)\n",
    "sns.heatmap(df_27_EYE == 1, cmap='viridis')\n",
    "plt.title('Heatmap of 1 Values')\n",
    "\n",
    "plt.tight_layout()\n",
    "plt.show()"
   ]
  },
  {
   "cell_type": "code",
   "execution_count": null,
   "id": "abd71eb5",
   "metadata": {},
   "outputs": [],
   "source": [
    "df_27_EYE[df_27_EYE['ET_PupilLeft'] == -1].shape"
   ]
  },
  {
   "cell_type": "code",
   "execution_count": null,
   "id": "e5e9e570",
   "metadata": {},
   "outputs": [],
   "source": [
    "df_27_EYE[df_27_EYE['ET_PupilRight'] == -1].shape"
   ]
  },
  {
   "cell_type": "code",
   "execution_count": null,
   "id": "00379b74",
   "metadata": {},
   "outputs": [],
   "source": [
    "df_27_EYE[df_27_EYE['ET_PupilLeft'] == -1].shape[0] / df_27_EYE.shape[0]"
   ]
  },
  {
   "cell_type": "code",
   "execution_count": null,
   "id": "acb225eb",
   "metadata": {},
   "outputs": [],
   "source": [
    "df_27_EYE[df_27_EYE['ET_PupilRight'] == -1].shape[0] / df_27_EYE.shape[0]"
   ]
  },
  {
   "cell_type": "code",
   "execution_count": null,
   "id": "3640e951",
   "metadata": {},
   "outputs": [],
   "source": [
    "plt.figure(figsize=(18, 8))\n",
    "\n",
    "plt.subplot(1, 2, 1)\n",
    "sns.heatmap(df_27_EYE[df_27_EYE['ET_ValidityLeft'] == 1] == -1, cmap='viridis')\n",
    "plt.title('Heatmap of -1 Values')\n",
    "\n",
    "plt.subplot(1, 2, 2)\n",
    "sns.heatmap(df_27_EYE[df_27_EYE['ET_ValidityRight'] == 1] == -1, cmap='viridis')\n",
    "plt.title('Heatmap of -1 Values')\n",
    "\n",
    "plt.tight_layout()\n",
    "plt.show()"
   ]
  },
  {
   "cell_type": "markdown",
   "id": "d3dea2b6",
   "metadata": {},
   "source": [
    "# Notes & Observations\n",
    "\n",
    "- The heatmaps reveal the distribution of -1 values across different columns.\n",
    "- It is evident that the `-1` values are not randomly scattered but appear in specific columns, notably `ET_GazeLeftx`, `ET_GazeLefty`, `ET_GazeRightx`, `ET_GazeRighty`, `ET_PupilLeft`, `ET_PupilRight`, `ET_DistanceLeft`, `ET_DistanceRight`, `ET_CameraLeftX`, `ET_CameraLeftY`, `ET_CameraRightX`, and `ET_CameraRightY`.\n",
    "- These `-1` values often coincide with instances where `ET_ValidityLeft` or `ET_ValidityRight` is 1, indicating invalid eye-tracking data. This suggests that `-1` is used as a placeholder for missing or invalid measurements in these columns when the eye tracker is not providing valid data for a particular eye.\n",
    "- Given that over 70% of the data in the `ET_PupilLeft` and `ET_PupilRight` columns is marked as invalid (-1), these columns may not be suitable for analysis and could be considered for dropping."
   ]
  },
  {
   "cell_type": "code",
   "execution_count": null,
   "id": "48b66805",
   "metadata": {},
   "outputs": [],
   "source": [
    "df_27_EYE.drop(['ET_PupilLeft', 'ET_PupilRight'], axis=1, inplace=True)"
   ]
  },
  {
   "cell_type": "code",
   "execution_count": null,
   "id": "3177bb3b",
   "metadata": {},
   "outputs": [],
   "source": [
    "df_27_EYE.head()"
   ]
  },
  {
   "cell_type": "code",
   "execution_count": null,
   "id": "6e22b8fd",
   "metadata": {},
   "outputs": [],
   "source": [
    "plt.figure(figsize=(18, 8))\n",
    "\n",
    "plt.subplot(1, 2, 1)\n",
    "sns.heatmap(df_27_EYE == -1, cmap='viridis')\n",
    "plt.title('Heatmap of -1 Values')\n",
    "\n",
    "plt.subplot(1, 2, 2)\n",
    "sns.heatmap(df_27_EYE == 1, cmap='viridis')\n",
    "plt.title('Heatmap of -1 Values')\n",
    "\n",
    "plt.tight_layout()\n",
    "plt.show()"
   ]
  },
  {
   "cell_type": "code",
   "execution_count": null,
   "id": "df947d47",
   "metadata": {},
   "outputs": [],
   "source": [
    "valid_left_ratio  = 1 - df_27_EYE['ET_ValidityLeft'].mean()\n",
    "valid_right_ratio = 1 - df_27_EYE['ET_ValidityRight'].mean()"
   ]
  },
  {
   "cell_type": "code",
   "execution_count": null,
   "id": "efd03400",
   "metadata": {},
   "outputs": [],
   "source": [
    "valid_left_ratio"
   ]
  },
  {
   "cell_type": "code",
   "execution_count": null,
   "id": "31d1533c",
   "metadata": {},
   "outputs": [],
   "source": [
    "valid_right_ratio"
   ]
  },
  {
   "cell_type": "code",
   "execution_count": null,
   "id": "63b7cb8f",
   "metadata": {},
   "outputs": [],
   "source": [
    "df_27_EYE.head()"
   ]
  },
  {
   "cell_type": "code",
   "execution_count": null,
   "id": "2abdc8a8",
   "metadata": {},
   "outputs": [],
   "source": [
    "# Select only the numeric columns for plotting histograms, excluding time-related columns\n",
    "numeric_cols = df_27_EYE.select_dtypes(include=np.number).columns\n",
    "cols_to_plot = [col for col in numeric_cols if col not in ['UnixTime']]\n",
    "\n",
    "# Calculate the number of rows and columns for the grid\n",
    "n_cols = 4  # You can adjust the number of columns as needed\n",
    "n_rows = (len(cols_to_plot) + n_cols - 1) // n_cols\n",
    "\n",
    "plt.figure(figsize=(n_cols * 5, n_rows * 4)) # Adjust figure size as needed\n",
    "\n",
    "for i, col in enumerate(cols_to_plot):\n",
    "    plt.subplot(n_rows, n_cols, i + 1)\n",
    "    sns.histplot(df_27_EYE[col], kde=True)\n",
    "    plt.title(f'Distribution of {col}')\n",
    "    plt.xlabel(col)\n",
    "    plt.ylabel('Frequency')\n",
    "\n",
    "plt.tight_layout()\n",
    "plt.show()"
   ]
  },
  {
   "cell_type": "code",
   "execution_count": null,
   "id": "d0351a7d",
   "metadata": {},
   "outputs": [],
   "source": [
    "df_27_EYE.columns"
   ]
  },
  {
   "cell_type": "code",
   "execution_count": null,
   "id": "3ef202ea",
   "metadata": {},
   "outputs": [],
   "source": [
    "cols = ['ET_GazeLeftx', 'ET_GazeLefty',\n",
    "       'ET_GazeRightx', 'ET_GazeRighty', 'ET_TimeSignal', 'ET_DistanceLeft',\n",
    "       'ET_DistanceRight', 'ET_CameraLeftX', 'ET_CameraLeftY',\n",
    "       'ET_CameraRightX', 'ET_CameraRightY', 'ET_ValidityLeft',\n",
    "       'ET_ValidityRight']"
   ]
  },
  {
   "cell_type": "code",
   "execution_count": null,
   "id": "d28a8389",
   "metadata": {},
   "outputs": [],
   "source": [
    "from IPython.display import display, Markdown\n",
    "\n",
    "for col in cols:\n",
    "    # Add a markdown cell before each plot for better separation and labeling\n",
    "    display(Markdown(f'### {col} over Time'))\n",
    "    plt.figure(figsize=(16, 10))\n",
    "    plt.plot(df_27_EYE['Timestamp'], df_27_EYE[col])\n",
    "    plt.xlabel(\"Timestamp\") # Add x-axis label\n",
    "    plt.ylabel(col) # Add y-axis label\n",
    "    plt.show()"
   ]
  },
  {
   "cell_type": "code",
   "execution_count": null,
   "id": "1ebcf753",
   "metadata": {},
   "outputs": [],
   "source": [
    "# Select only the numeric columns for plotting histograms, excluding time-related columns\n",
    "numeric_cols = df_27_EYE.select_dtypes(include=np.number).columns\n",
    "\n",
    "# Calculate the number of rows and columns for the grid\n",
    "n_cols = 4  # You can adjust the number of columns as needed\n",
    "n_rows = (len(numeric_cols) + n_cols - 1) // n_cols\n",
    "\n",
    "plt.figure(figsize=(n_cols * 5, n_rows * 4)) # Adjust figure size as needed\n",
    "\n",
    "for i, col in enumerate(numeric_cols):\n",
    "    plt.subplot(n_rows, n_cols, i + 1)\n",
    "    sns.boxplot(df_27_EYE[col])\n",
    "    plt.title(f'Boxplot of {col}')\n",
    "    plt.xlabel(col)\n",
    "\n",
    "plt.tight_layout()\n",
    "plt.show()"
   ]
  },
  {
   "cell_type": "code",
   "execution_count": null,
   "id": "be0e44bf",
   "metadata": {},
   "outputs": [],
   "source": [
    "df_27_EYE.replace({-1: np.nan}, inplace=True)"
   ]
  },
  {
   "cell_type": "code",
   "execution_count": null,
   "id": "6496f1fd",
   "metadata": {},
   "outputs": [],
   "source": [
    "numeric_cols = df_27_EYE.select_dtypes(include=np.number).columns\n",
    "\n",
    "for col in numeric_cols:\n",
    "    df_27_EYE[col].fillna(df_27_EYE[col].mean(), inplace=True)"
   ]
  },
  {
   "cell_type": "code",
   "execution_count": null,
   "id": "49373479",
   "metadata": {},
   "outputs": [],
   "source": [
    "df_27_EYE.head()"
   ]
  },
  {
   "cell_type": "code",
   "execution_count": null,
   "id": "0470786f",
   "metadata": {},
   "outputs": [],
   "source": [
    "# Select only the numeric columns for plotting histograms, excluding time-related columns\n",
    "numeric_cols = df_27_EYE.select_dtypes(include=np.number).columns\n",
    "cols_to_plot = [col for col in numeric_cols if col not in ['UnixTime']]\n",
    "\n",
    "# Calculate the number of rows and columns for the grid\n",
    "n_cols = 4  # You can adjust the number of columns as needed\n",
    "n_rows = (len(cols_to_plot) + n_cols - 1) // n_cols\n",
    "\n",
    "plt.figure(figsize=(n_cols * 5, n_rows * 4)) # Adjust figure size as needed\n",
    "\n",
    "for i, col in enumerate(cols_to_plot):\n",
    "    plt.subplot(n_rows, n_cols, i + 1)\n",
    "    sns.histplot(df_27_EYE[col], kde=True)\n",
    "    plt.title(f'Distribution of {col}')\n",
    "    plt.xlabel(col)\n",
    "    plt.ylabel('Frequency')\n",
    "\n",
    "plt.tight_layout()\n",
    "plt.show()"
   ]
  },
  {
   "cell_type": "code",
   "execution_count": null,
   "id": "6a13db55",
   "metadata": {},
   "outputs": [],
   "source": []
  },
  {
   "cell_type": "code",
   "execution_count": null,
   "id": "da314f7f",
   "metadata": {},
   "outputs": [],
   "source": []
  },
  {
   "cell_type": "code",
   "execution_count": null,
   "id": "0b352308",
   "metadata": {},
   "outputs": [],
   "source": []
  },
  {
   "cell_type": "code",
   "execution_count": null,
   "id": "01cbdfd0",
   "metadata": {},
   "outputs": [],
   "source": []
  },
  {
   "cell_type": "code",
   "execution_count": null,
   "id": "eb7e43f7",
   "metadata": {},
   "outputs": [],
   "source": []
  },
  {
   "cell_type": "code",
   "execution_count": null,
   "id": "acb3cd17",
   "metadata": {},
   "outputs": [],
   "source": []
  },
  {
   "cell_type": "code",
   "execution_count": null,
   "id": "a8c8ce41",
   "metadata": {},
   "outputs": [],
   "source": []
  },
  {
   "cell_type": "code",
   "execution_count": null,
   "id": "109c54b4",
   "metadata": {},
   "outputs": [],
   "source": []
  },
  {
   "cell_type": "code",
   "execution_count": null,
   "id": "dfea6c49",
   "metadata": {},
   "outputs": [],
   "source": []
  },
  {
   "cell_type": "code",
   "execution_count": null,
   "id": "df16af5a",
   "metadata": {},
   "outputs": [],
   "source": []
  },
  {
   "cell_type": "code",
   "execution_count": null,
   "id": "c010989d",
   "metadata": {},
   "outputs": [],
   "source": []
  },
  {
   "cell_type": "code",
   "execution_count": null,
   "id": "1cd947f5",
   "metadata": {},
   "outputs": [],
   "source": []
  },
  {
   "cell_type": "markdown",
   "id": "993f380b",
   "metadata": {},
   "source": [
    "# Eye Tracking Data Analysis\n",
    "\n",
    "This notebook performs exploratory data analysis and cleaning on eye-tracking data.\n",
    "\n",
    "## Data Loading and Initial Inspection"
   ]
  },
  {
   "cell_type": "code",
   "execution_count": null,
   "id": "3fff73ec",
   "metadata": {},
   "outputs": [],
   "source": [
    "%load_ext cudf"
   ]
  },
  {
   "cell_type": "markdown",
   "id": "57f91150",
   "metadata": {},
   "source": [
    "Import necessary libraries for data manipulation, analysis, and visualization."
   ]
  },
  {
   "cell_type": "code",
   "execution_count": null,
   "id": "b56ba94c",
   "metadata": {},
   "outputs": [],
   "source": [
    "import numpy as np\n",
    "import pandas as pd\n",
    "import matplotlib.pyplot as plt\n",
    "import seaborn as sns"
   ]
  },
  {
   "cell_type": "markdown",
   "id": "ce6610b6",
   "metadata": {},
   "source": [
    "Import libraries for datashader, which can be used for visualizing large datasets."
   ]
  },
  {
   "cell_type": "code",
   "execution_count": null,
   "id": "3d60f6a9",
   "metadata": {},
   "outputs": [],
   "source": [
    "import datashader as ds\n",
    "import datashader.transfer_functions as tf"
   ]
  },
  {
   "cell_type": "markdown",
   "id": "3835c83e",
   "metadata": {},
   "source": [
    "Set pandas display options to show all columns."
   ]
  },
  {
   "cell_type": "code",
   "execution_count": null,
   "id": "ef9dce31",
   "metadata": {},
   "outputs": [],
   "source": [
    "pd.set_option('display.max_columns', None)"
   ]
  },
  {
   "cell_type": "markdown",
   "id": "50134eb4",
   "metadata": {},
   "source": [
    "Load the eye-tracking data from the specified CSV file into a pandas DataFrame."
   ]
  },
  {
   "cell_type": "code",
   "execution_count": null,
   "id": "2843e0df",
   "metadata": {},
   "outputs": [],
   "source": [
    "df_27_EYE = pd.read_csv('data/STData/27/27_EYE.csv')"
   ]
  },
  {
   "cell_type": "markdown",
   "id": "e400ff1c",
   "metadata": {},
   "source": [
    "Display the first few rows of the DataFrame to get an initial look at the data structure and content."
   ]
  },
  {
   "cell_type": "code",
   "execution_count": null,
   "id": "b34ad4d4",
   "metadata": {},
   "outputs": [],
   "source": [
    "df_27_EYE.head()"
   ]
  },
  {
   "cell_type": "markdown",
   "id": "5b359d3d",
   "metadata": {},
   "source": [
    "Check the dimensions (number of rows and columns) of the DataFrame."
   ]
  },
  {
   "cell_type": "code",
   "execution_count": null,
   "id": "2c57b78e",
   "metadata": {},
   "outputs": [],
   "source": [
    "df_27_EYE.shape"
   ]
  },
  {
   "cell_type": "markdown",
   "id": "cd4c3afb",
   "metadata": {},
   "source": [
    "List the names of all columns in the DataFrame."
   ]
  },
  {
   "cell_type": "code",
   "execution_count": null,
   "id": "4ec6628a",
   "metadata": {},
   "outputs": [],
   "source": [
    "df_27_EYE.columns"
   ]
  },
  {
   "cell_type": "markdown",
   "id": "b506ecb9",
   "metadata": {},
   "source": [
    "Display concise information about the DataFrame, including the data types of each column and the number of non-null values. This helps identify columns with missing data."
   ]
  },
  {
   "cell_type": "code",
   "execution_count": null,
   "id": "fe042c50",
   "metadata": {},
   "outputs": [],
   "source": [
    "df_27_EYE.info()"
   ]
  },
  {
   "cell_type": "markdown",
   "id": "6dc2b693",
   "metadata": {},
   "source": [
    "Calculate and display the number of missing values in each column."
   ]
  },
  {
   "cell_type": "code",
   "execution_count": null,
   "id": "ecba912e",
   "metadata": {},
   "outputs": [],
   "source": [
    "df_27_EYE.isnull().sum()"
   ]
  },
  {
   "cell_type": "markdown",
   "id": "0c129c06",
   "metadata": {},
   "source": [
    "Visualize the distribution of missing values using a heatmap. This provides a visual representation of which columns have missing data and the extent of missingness."
   ]
  },
  {
   "cell_type": "code",
   "execution_count": null,
   "id": "c6edbc81",
   "metadata": {},
   "outputs": [],
   "source": [
    "plt.figure(figsize=(12,8))\n",
    "sns.heatmap(df_27_EYE.isnull(), cmap='viridis')\n",
    "plt.show()"
   ]
  },
  {
   "cell_type": "markdown",
   "id": "5f4616f9",
   "metadata": {},
   "source": [
    "# Notes & Observations\n",
    "\n",
    "- We observe many **null** (or missing) values in the `QuestionKey` columns.\n",
    "- The nulls in the `QuestionKey` column may not represent “true” nulls. Rather, they follow interval patterns, suggesting that during those periods no question was displayed.\n",
    "- These missing values in `QuestionKey` require additional investigation and context-aware handling."
   ]
  },
  {
   "cell_type": "markdown",
   "id": "fdaf1a6a",
   "metadata": {},
   "source": [
    "Display the unique values in the `QuestionKey` column to understand the different types of questions or states recorded."
   ]
  },
  {
   "cell_type": "code",
   "execution_count": null,
   "id": "e7c73c12",
   "metadata": {},
   "outputs": [],
   "source": [
    "df_27_EYE['QuestionKey'].unique()"
   ]
  },
  {
   "cell_type": "markdown",
   "id": "e744d39d",
   "metadata": {},
   "source": [
    "Convert the `Timestamp` column to datetime objects. This is crucial for any time series analysis or manipulation."
   ]
  },
  {
   "cell_type": "code",
   "execution_count": null,
   "id": "982d3010",
   "metadata": {},
   "outputs": [],
   "source": [
    "df_27_EYE['Timestamp'] = pd.to_datetime(df_27_EYE['Timestamp'])"
   ]
  },
  {
   "cell_type": "markdown",
   "id": "c1f93de3",
   "metadata": {},
   "source": [
    "Display the first few rows again to see the effect of the timestamp conversion."
   ]
  },
  {
   "cell_type": "code",
   "execution_count": null,
   "id": "08597ea0",
   "metadata": {},
   "outputs": [],
   "source": [
    "df_27_EYE.head(3)"
   ]
  },
  {
   "cell_type": "markdown",
   "id": "a7ceb251",
   "metadata": {},
   "source": [
    "Fill the missing values in the `QuestionKey` column with the string 'None'. This helps to explicitly mark periods where no question was active."
   ]
  },
  {
   "cell_type": "code",
   "execution_count": null,
   "id": "da442cc9",
   "metadata": {},
   "outputs": [],
   "source": [
    "df_27_EYE['QuestionKey'].fillna('None', inplace=True)"
   ]
  },
  {
   "cell_type": "markdown",
   "id": "d7d45b5f",
   "metadata": {},
   "source": [
    "Count the occurrences of each unique value in the `QuestionKey` column after filling missing values."
   ]
  },
  {
   "cell_type": "code",
   "execution_count": null,
   "id": "571697a2",
   "metadata": {},
   "outputs": [],
   "source": [
    "df_27_EYE['QuestionKey'].value_counts()"
   ]
  },
  {
   "cell_type": "markdown",
   "id": "5f653b34",
   "metadata": {},
   "source": [
    "Display the heatmap of missing values again to confirm that the missing values in `QuestionKey` have been handled."
   ]
  },
  {
   "cell_type": "code",
   "execution_count": null,
   "id": "f7a9d2fa",
   "metadata": {},
   "outputs": [],
   "source": [
    "plt.figure(figsize=(12,8))\n",
    "sns.heatmap(df_27_EYE.isnull(), cmap='viridis')\n",
    "plt.show()"
   ]
  },
  {
   "cell_type": "markdown",
   "id": "4d2ee1e0",
   "metadata": {},
   "source": [
    "Recalculate and display the number of missing values per column to confirm the changes after handling `QuestionKey`."
   ]
  },
  {
   "cell_type": "code",
   "execution_count": null,
   "id": "7b6a6873",
   "metadata": {},
   "outputs": [],
   "source": [
    "df_27_EYE.isnull().sum()"
   ]
  },
  {
   "cell_type": "markdown",
   "id": "651587e9",
   "metadata": {},
   "source": [
    "Drop rows that still contain any missing values. This is done after handling `QuestionKey` separately."
   ]
  },
  {
   "cell_type": "code",
   "execution_count": null,
   "id": "8d19b81c",
   "metadata": {},
   "outputs": [],
   "source": [
    "df_27_EYE.dropna(inplace=True)"
   ]
  },
  {
   "cell_type": "markdown",
   "id": "348a4352",
   "metadata": {},
   "source": [
    "Display the first few rows after dropping rows with missing values."
   ]
  },
  {
   "cell_type": "code",
   "execution_count": null,
   "id": "1fffaa48",
   "metadata": {},
   "outputs": [],
   "source": [
    "df_27_EYE.head()"
   ]
  },
  {
   "cell_type": "markdown",
   "id": "850f4cb1",
   "metadata": {},
   "source": [
    "Display the unique values in the `Row` column."
   ]
  },
  {
   "cell_type": "code",
   "execution_count": null,
   "id": "3737c357",
   "metadata": {},
   "outputs": [],
   "source": [
    "df_27_EYE['Row'].unique()"
   ]
  },
  {
   "cell_type": "markdown",
   "id": "3e554a0d",
   "metadata": {},
   "source": [
    "Plot a histogram of the `Row` column to visualize its distribution."
   ]
  },
  {
   "cell_type": "code",
   "execution_count": null,
   "id": "f842af09",
   "metadata": {},
   "outputs": [],
   "source": [
    "plt.figure(figsize=(8,6))\n",
    "sns.histplot(df_27_EYE['Row'])\n",
    "plt.show()"
   ]
  },
  {
   "cell_type": "markdown",
   "id": "5b6539d8",
   "metadata": {},
   "source": [
    "# Notes & Observations\n",
    "\n",
    "- The `Row` column appears to be a simple row index and does not provide meaningful information relevant to the eye-tracking data itself. Therefore, it can be dropped."
   ]
  },
  {
   "cell_type": "markdown",
   "id": "2868309e",
   "metadata": {},
   "source": [
    "Drop the `Row` column as it is not relevant for the analysis."
   ]
  },
  {
   "cell_type": "code",
   "execution_count": null,
   "id": "871e3668",
   "metadata": {},
   "outputs": [],
   "source": [
    "df_27_EYE.drop('Row', axis=1, inplace=True)"
   ]
  },
  {
   "cell_type": "markdown",
   "id": "64ac0cd5",
   "metadata": {},
   "source": [
    "Display the unique values in the `ET_ValidityLeft` column."
   ]
  },
  {
   "cell_type": "code",
   "execution_count": null,
   "id": "05fd6480",
   "metadata": {},
   "outputs": [],
   "source": [
    "df_27_EYE['ET_ValidityLeft'].unique()"
   ]
  },
  {
   "cell_type": "markdown",
   "id": "abb4690d",
   "metadata": {},
   "source": [
    "Count the occurrences of each unique value in the `ET_ValidityLeft` column."
   ]
  },
  {
   "cell_type": "code",
   "execution_count": null,
   "id": "eb283107",
   "metadata": {},
   "outputs": [],
   "source": [
    "df_27_EYE['ET_ValidityLeft'].value_counts()"
   ]
  },
  {
   "cell_type": "markdown",
   "id": "68ba28af",
   "metadata": {},
   "source": [
    "Display the unique values in the `ET_ValidityRight` column."
   ]
  },
  {
   "cell_type": "code",
   "execution_count": null,
   "id": "fbb763a5",
   "metadata": {},
   "outputs": [],
   "source": [
    "df_27_EYE['ET_ValidityRight'].unique()"
   ]
  },
  {
   "cell_type": "markdown",
   "id": "59bd9533",
   "metadata": {},
   "source": [
    "Count the occurrences of each unique value in the `ET_ValidityRight` column."
   ]
  },
  {
   "cell_type": "code",
   "execution_count": null,
   "id": "9e85d89f",
   "metadata": {},
   "outputs": [],
   "source": [
    "df_27_EYE['ET_ValidityRight'].value_counts()"
   ]
  },
  {
   "cell_type": "markdown",
   "id": "d9fc0942",
   "metadata": {},
   "source": [
    "Visualize the counts of valid and invalid data for both left and right eyes using bar plots."
   ]
  },
  {
   "cell_type": "code",
   "execution_count": null,
   "id": "6b47be5b",
   "metadata": {},
   "outputs": [],
   "source": [
    "plt.figure(figsize=(12, 6))\n",
    "\n",
    "plt.subplot(1, 2, 1)\n",
    "sns.barplot(x=df_27_EYE['ET_ValidityLeft'].value_counts().index, y=df_27_EYE['ET_ValidityLeft'].value_counts().values)\n",
    "plt.title('Count of ET_ValidityLeft')\n",
    "plt.xlabel('Validity')\n",
    "plt.ylabel('Count')\n",
    "\n",
    "\n",
    "plt.subplot(1, 2, 2)\n",
    "sns.barplot(x=df_27_EYE['ET_ValidityRight'].value_counts().index, y=df_27_EYE['ET_ValidityRight'].value_counts().values)\n",
    "plt.title('Count of ET_ValidityRight')\n",
    "plt.xlabel('Validity')\n",
    "plt.ylabel('Count')\n",
    "\n",
    "plt.tight_layout()\n",
    "plt.show()"
   ]
  },
  {
   "cell_type": "markdown",
   "id": "38441ada",
   "metadata": {},
   "source": [
    "# Notes & Observations\n",
    "\n",
    "- The `ET_ValidityLeft` and `ET_ValidityRight` columns indicate the validity of the eye-tracking data for the left and right eye, respectively.\n",
    "- Based on the value counts and the bar plots, it appears that a value of `0.0` represents valid eye-tracking data, while a value of `4.0` represents invalid data.\n",
    "- Although the amount of invalid data is relatively small, removing these rows could introduce unwanted patterns or gaps in the time series data.\n",
    "- Therefore, we will keep the data and replace the value `4.0` with `1.0` in both `ET_ValidityLeft` and `ET_ValidityRight` columns. This will indicate to a machine learning model that the eye tracker had invalid data at those specific points in time while maintaining the integrity of the time series."
   ]
  },
  {
   "cell_type": "markdown",
   "id": "31e3f6ae",
   "metadata": {},
   "source": [
    "Define a mapping to convert validity values from `0.0` and `4.0` to `0` and `1`."
   ]
  },
  {
   "cell_type": "code",
   "execution_count": null,
   "id": "ca96f3b1",
   "metadata": {},
   "outputs": [],
   "source": [
    "validity_map = {4.0: 1.0, 0.0: 0.0}"
   ]
  },
  {
   "cell_type": "markdown",
   "id": "01ab7cbd",
   "metadata": {},
   "source": [
    "Apply the mapping to the `ET_ValidityLeft` and `ET_ValidityRight` columns and convert the data type to integer."
   ]
  },
  {
   "cell_type": "code",
   "execution_count": null,
   "id": "c7c30df0",
   "metadata": {},
   "outputs": [],
   "source": [
    "df_27_EYE['ET_ValidityLeft'] = df_27_EYE['ET_ValidityLeft'].map(validity_map).astype(np.int8)\n",
    "df_27_EYE['ET_ValidityRight'] = df_27_EYE['ET_ValidityRight'].map(validity_map).astype(np.int8)"
   ]
  },
  {
   "cell_type": "markdown",
   "id": "18d98e8e",
   "metadata": {},
   "source": [
    "Display the first few rows to see the updated validity columns."
   ]
  },
  {
   "cell_type": "code",
   "execution_count": null,
   "id": "5abfa10c",
   "metadata": {},
   "outputs": [],
   "source": [
    "df_27_EYE.head(3)"
   ]
  },
  {
   "cell_type": "markdown",
   "id": "524ec85f",
   "metadata": {},
   "source": [
    "Display descriptive statistics for the DataFrame, including count, mean, standard deviation, min, max, and quartiles for numeric columns."
   ]
  },
  {
   "cell_type": "code",
   "execution_count": null,
   "id": "8bf72de9",
   "metadata": {},
   "outputs": [],
   "source": [
    "df_27_EYE.describe()"
   ]
  },
  {
   "cell_type": "markdown",
   "id": "0b42a0aa",
   "metadata": {},
   "source": [
    "Check the number of rows where `ET_ValidityLeft` is 1 (invalid data for the left eye)."
   ]
  },
  {
   "cell_type": "code",
   "execution_count": null,
   "id": "aef4f8b0",
   "metadata": {},
   "outputs": [],
   "source": [
    "df_27_EYE[df_27_EYE['ET_ValidityLeft'] == 1].shape"
   ]
  },
  {
   "cell_type": "markdown",
   "id": "a0dfe281",
   "metadata": {},
   "source": [
    "Check the number of rows where `ET_ValidityRight` is 1 (invalid data for the right eye)."
   ]
  },
  {
   "cell_type": "code",
   "execution_count": null,
   "id": "e7e0dda5",
   "metadata": {},
   "outputs": [],
   "source": [
    "df_27_EYE[df_27_EYE['ET_ValidityRight'] == 1].shape"
   ]
  },
  {
   "cell_type": "markdown",
   "id": "fe94dbdf",
   "metadata": {},
   "source": [
    "Visualize the distribution of -1 and 1 values across columns using heatmaps. This helps identify columns with placeholder or indicator values."
   ]
  },
  {
   "cell_type": "code",
   "execution_count": null,
   "id": "f11def40",
   "metadata": {},
   "outputs": [],
   "source": [
    "plt.figure(figsize=(18, 8))\n",
    "\n",
    "plt.subplot(1, 2, 1)\n",
    "sns.heatmap(df_27_EYE == -1, cmap='viridis')\n",
    "plt.title('Heatmap of -1 Values')\n",
    "\n",
    "plt.subplot(1, 2, 2)\n",
    "sns.heatmap(df_27_EYE == 1, cmap='viridis')\n",
    "plt.title('Heatmap of 1 Values')\n",
    "\n",
    "plt.tight_layout()\n",
    "plt.show()"
   ]
  },
  {
   "cell_type": "markdown",
   "id": "d607f53c",
   "metadata": {},
   "source": [
    "Check the number of rows where `ET_PupilLeft` is -1."
   ]
  },
  {
   "cell_type": "code",
   "execution_count": null,
   "id": "926dd37d",
   "metadata": {},
   "outputs": [],
   "source": [
    "df_27_EYE[df_27_EYE['ET_PupilLeft'] == -1].shape"
   ]
  },
  {
   "cell_type": "markdown",
   "id": "73da9450",
   "metadata": {},
   "source": [
    "Check the number of rows where `ET_PupilRight` is -1."
   ]
  },
  {
   "cell_type": "code",
   "execution_count": null,
   "id": "6657736d",
   "metadata": {},
   "outputs": [],
   "source": [
    "df_27_EYE[df_27_EYE['ET_PupilRight'] == -1].shape"
   ]
  },
  {
   "cell_type": "markdown",
   "id": "fb6bf6b4",
   "metadata": {},
   "source": [
    "Calculate the ratio of rows with -1 values in the `ET_PupilLeft` column to the total number of rows."
   ]
  },
  {
   "cell_type": "code",
   "execution_count": null,
   "id": "2ae98d6d",
   "metadata": {},
   "outputs": [],
   "source": [
    "df_27_EYE[df_27_EYE['ET_PupilLeft'] == -1].shape[0] / df_27_EYE.shape[0]"
   ]
  },
  {
   "cell_type": "markdown",
   "id": "ef9cecf2",
   "metadata": {},
   "source": [
    "Calculate the ratio of rows with -1 values in the `ET_PupilRight` column to the total number of rows."
   ]
  },
  {
   "cell_type": "code",
   "execution_count": null,
   "id": "6d792c83",
   "metadata": {},
   "outputs": [],
   "source": [
    "df_27_EYE[df_27_EYE['ET_PupilRight'] == -1].shape[0] / df_27_EYE.shape[0]"
   ]
  },
  {
   "cell_type": "markdown",
   "id": "ff00d65b",
   "metadata": {},
   "source": [
    "Visualize the distribution of -1 values specifically for rows where validity is 1 (invalid data)."
   ]
  },
  {
   "cell_type": "code",
   "execution_count": null,
   "id": "feace052",
   "metadata": {},
   "outputs": [],
   "source": [
    "plt.figure(figsize=(18, 8))\n",
    "\n",
    "plt.subplot(1, 2, 1)\n",
    "sns.heatmap(df_27_EYE[df_27_EYE['ET_ValidityLeft'] == 1] == -1, cmap='viridis')\n",
    "plt.title('Heatmap of -1 Values')\n",
    "\n",
    "plt.subplot(1, 2, 2)\n",
    "sns.heatmap(df_27_EYE[df_27_EYE['ET_ValidityRight'] == 1] == -1, cmap='viridis')\n",
    "plt.title('Heatmap of -1 Values')\n",
    "\n",
    "plt.tight_layout()\n",
    "plt.show()"
   ]
  },
  {
   "cell_type": "markdown",
   "id": "b61040a6",
   "metadata": {},
   "source": [
    "# Notes & Observations\n",
    "\n",
    "- The heatmaps reveal the distribution of -1 values across different columns.\n",
    "- It is evident that the `-1` values are not randomly scattered but appear in specific columns, notably `ET_GazeLeftx`, `ET_GazeLefty`, `ET_GazeRightx`, `ET_GazeRighty`, `ET_PupilLeft`, `ET_PupilRight`, `ET_DistanceLeft`, `ET_DistanceRight`, `ET_CameraLeftX`, `ET_CameraLeftY`, `ET_CameraRightX`, and `ET_CameraRightY`.\n",
    "- These `-1` values often coincide with instances where `ET_ValidityLeft` or `ET_ValidityRight` is 1, indicating invalid eye-tracking data. This suggests that `-1` is used as a placeholder for missing or invalid measurements in these columns when the eye tracker is not providing valid data for a particular eye.\n",
    "- Given that over 70% of the data in the `ET_PupilLeft` and `ET_PupilRight` columns is marked as invalid (-1), these columns may not be suitable for analysis and could be considered for dropping."
   ]
  },
  {
   "cell_type": "markdown",
   "id": "313e5105",
   "metadata": {},
   "source": [
    "Drop the `ET_PupilLeft` and `ET_PupilRight` columns due to the high percentage of invalid data."
   ]
  },
  {
   "cell_type": "code",
   "execution_count": null,
   "id": "99b27968",
   "metadata": {},
   "outputs": [],
   "source": [
    "df_27_EYE.drop(['ET_PupilLeft', 'ET_PupilRight'], axis=1, inplace=True)"
   ]
  },
  {
   "cell_type": "markdown",
   "id": "3813b7a9",
   "metadata": {},
   "source": [
    "Display the first few rows after dropping the pupil columns."
   ]
  },
  {
   "cell_type": "code",
   "execution_count": null,
   "id": "16dc95c2",
   "metadata": {},
   "outputs": [],
   "source": [
    "df_27_EYE.head()"
   ]
  },
  {
   "cell_type": "markdown",
   "id": "8f13fa93",
   "metadata": {},
   "source": [
    "Visualize the distribution of -1 and 1 values again after dropping the pupil columns."
   ]
  },
  {
   "cell_type": "code",
   "execution_count": null,
   "id": "2d989682",
   "metadata": {},
   "outputs": [],
   "source": [
    "plt.figure(figsize=(18, 8))\n",
    "\n",
    "plt.subplot(1, 2, 1)\n",
    "sns.heatmap(df_27_EYE == -1, cmap='viridis')\n",
    "plt.title('Heatmap of -1 Values')\n",
    "\n",
    "plt.subplot(1, 2, 2)\n",
    "sns.heatmap(df_27_EYE == 1, cmap='viridis')\n",
    "plt.title('Heatmap of -1 Values')\n",
    "\n",
    "plt.tight_layout()\n",
    "plt.show()"
   ]
  },
  {
   "cell_type": "markdown",
   "id": "d1df5849",
   "metadata": {},
   "source": [
    "Calculate the ratio of valid data points for the left eye."
   ]
  },
  {
   "cell_type": "code",
   "execution_count": null,
   "id": "2ff5ace5",
   "metadata": {},
   "outputs": [],
   "source": [
    "valid_left_ratio  = 1 - df_27_EYE['ET_ValidityLeft'].mean()"
   ]
  },
  {
   "cell_type": "markdown",
   "id": "2a41a9a4",
   "metadata": {},
   "source": [
    "Display the ratio of valid data points for the left eye."
   ]
  },
  {
   "cell_type": "code",
   "execution_count": null,
   "id": "5d06d2c1",
   "metadata": {},
   "outputs": [],
   "source": [
    "valid_left_ratio"
   ]
  },
  {
   "cell_type": "markdown",
   "id": "1f3c869f",
   "metadata": {},
   "source": [
    "Calculate the ratio of valid data points for the right eye."
   ]
  },
  {
   "cell_type": "code",
   "execution_count": null,
   "id": "881aef1c",
   "metadata": {},
   "outputs": [],
   "source": [
    "valid_right_ratio = 1 - df_27_EYE['ET_ValidityRight'].mean()"
   ]
  },
  {
   "cell_type": "markdown",
   "id": "300e4902",
   "metadata": {},
   "source": [
    "Display the ratio of valid data points for the right eye."
   ]
  },
  {
   "cell_type": "code",
   "execution_count": null,
   "id": "491a5feb",
   "metadata": {},
   "outputs": [],
   "source": [
    "valid_right_ratio"
   ]
  },
  {
   "cell_type": "markdown",
   "id": "70baa756",
   "metadata": {},
   "source": [
    "Display the first few rows of the DataFrame."
   ]
  },
  {
   "cell_type": "code",
   "execution_count": null,
   "id": "b7ae15d5",
   "metadata": {},
   "outputs": [],
   "source": [
    "df_27_EYE.head()"
   ]
  },
  {
   "cell_type": "markdown",
   "id": "654a0bd7",
   "metadata": {},
   "source": [
    "Visualize the distributions of numeric columns using histograms with Kernel Density Estimate (KDE) plots. This helps understand the shape and spread of the data in each numeric column."
   ]
  },
  {
   "cell_type": "code",
   "execution_count": null,
   "id": "286e233e",
   "metadata": {},
   "outputs": [],
   "source": [
    "# Select only the numeric columns for plotting histograms, excluding time-related columns\n",
    "numeric_cols = df_27_EYE.select_dtypes(include=np.number).columns\n",
    "cols_to_plot = [col for col in numeric_cols if col not in ['UnixTime']]\n",
    "\n",
    "# Calculate the number of rows and columns for the grid\n",
    "n_cols = 4  # You can adjust the number of columns as needed\n",
    "n_rows = (len(cols_to_plot) + n_cols - 1) // n_cols\n",
    "\n",
    "plt.figure(figsize=(n_cols * 5, n_rows * 4)) # Adjust figure size as needed\n",
    "\n",
    "for i, col in enumerate(cols_to_plot):\n",
    "    plt.subplot(n_rows, n_cols, i + 1)\n",
    "    sns.histplot(df_27_EYE[col], kde=True)\n",
    "    plt.title(f'Distribution of {col}')\n",
    "    plt.xlabel(col)\n",
    "    plt.ylabel('Frequency')\n",
    "\n",
    "plt.tight_layout()\n",
    "plt.show()"
   ]
  },
  {
   "cell_type": "markdown",
   "id": "69cf691d",
   "metadata": {},
   "source": [
    "List the names of the columns in the DataFrame."
   ]
  },
  {
   "cell_type": "code",
   "execution_count": null,
   "id": "016d1934",
   "metadata": {},
   "outputs": [],
   "source": [
    "df_27_EYE.columns"
   ]
  },
  {
   "cell_type": "markdown",
   "id": "cf7f409e",
   "metadata": {},
   "source": [
    "Define a list of columns to be plotted over time."
   ]
  },
  {
   "cell_type": "code",
   "execution_count": null,
   "id": "0b1adc84",
   "metadata": {},
   "outputs": [],
   "source": [
    "cols = ['ET_GazeLeftx', 'ET_GazeLefty',\n",
    "       'ET_GazeRightx', 'ET_GazeRighty', 'ET_TimeSignal', 'ET_DistanceLeft',\n",
    "       'ET_DistanceRight', 'ET_CameraLeftX', 'ET_CameraLeftY',\n",
    "       'ET_CameraRightX', 'ET_CameraRightY', 'ET_ValidityLeft',\n",
    "       'ET_ValidityRight']"
   ]
  },
  {
   "cell_type": "markdown",
   "id": "9fbfda5d",
   "metadata": {},
   "source": [
    "Plot each of the selected columns against the timestamp to visualize their trends and patterns over time. Markdown cells are added before each plot for better readability."
   ]
  },
  {
   "cell_type": "code",
   "execution_count": null,
   "id": "7f09e443",
   "metadata": {},
   "outputs": [],
   "source": [
    "from IPython.display import display, Markdown\n",
    "\n",
    "for col in cols:\n",
    "    # Add a markdown cell before each plot for better separation and labeling\n",
    "    display(Markdown(f'### {col} over Time'))\n",
    "    plt.figure(figsize=(16, 10))\n",
    "    plt.plot(df_27_EYE['Timestamp'], df_27_EYE[col])\n",
    "    plt.xlabel(\"Timestamp\") # Add x-axis label\n",
    "    plt.ylabel(col) # Add y-axis label\n",
    "    plt.show()"
   ]
  },
  {
   "cell_type": "markdown",
   "id": "100f8cb4",
   "metadata": {},
   "source": [
    "Visualize the distributions of numeric columns using boxplots. This helps identify potential outliers and the spread of the data."
   ]
  },
  {
   "cell_type": "code",
   "execution_count": null,
   "id": "38ed1119",
   "metadata": {},
   "outputs": [],
   "source": [
    "# Select only the numeric columns for plotting histograms, excluding time-related columns\n",
    "numeric_cols = df_27_EYE.select_dtypes(include=np.number).columns\n",
    "\n",
    "# Calculate the number of rows and columns for the grid\n",
    "n_cols = 4  # You can adjust the number of columns as needed\n",
    "n_rows = (len(numeric_cols) + n_cols - 1) // n_cols\n",
    "\n",
    "plt.figure(figsize=(n_cols * 5, n_rows * 4)) # Adjust figure size as needed\n",
    "\n",
    "for i, col in enumerate(numeric_cols):\n",
    "    plt.subplot(n_rows, n_cols, i + 1)\n",
    "    sns.boxplot(df_27_EYE[col])\n",
    "    plt.title(f'Boxplot of {col}')\n",
    "    plt.xlabel(col)\n",
    "\n",
    "plt.tight_layout()\n",
    "plt.show()"
   ]
  },
  {
   "cell_type": "markdown",
   "id": "172de268",
   "metadata": {},
   "source": [
    "Replace the placeholder value -1 with NaN (Not a Number) in the DataFrame. This is done before imputation."
   ]
  },
  {
   "cell_type": "code",
   "execution_count": null,
   "id": "ae62b576",
   "metadata": {},
   "outputs": [],
   "source": [
    "df_27_EYE.replace({-1: np.nan}, inplace=True)"
   ]
  },
  {
   "cell_type": "markdown",
   "id": "dbd02e46",
   "metadata": {},
   "source": [
    "Impute the missing values (NaN) in the numeric columns with the mean of each column."
   ]
  },
  {
   "cell_type": "code",
   "execution_count": null,
   "id": "d528e9d9",
   "metadata": {},
   "outputs": [],
   "source": [
    "numeric_cols = df_27_EYE.select_dtypes(include=np.number).columns\n",
    "\n",
    "for col in numeric_cols:\n",
    "    df_27_EYE[col].fillna(df_27_EYE[col].mean(), inplace=True)"
   ]
  },
  {
   "cell_type": "markdown",
   "id": "561b7af7",
   "metadata": {},
   "source": [
    "Display the first few rows after imputing missing values."
   ]
  },
  {
   "cell_type": "code",
   "execution_count": null,
   "id": "483b986b",
   "metadata": {},
   "outputs": [],
   "source": [
    "df_27_EYE.head()"
   ]
  },
  {
   "cell_type": "markdown",
   "id": "b633e087",
   "metadata": {},
   "source": [
    "Visualize the distributions of numeric columns again using histograms with KDE plots after imputation. This helps assess the impact of imputation on the data distributions."
   ]
  },
  {
   "cell_type": "code",
   "execution_count": null,
   "id": "f9b246f8",
   "metadata": {},
   "outputs": [],
   "source": [
    "# Select only the numeric columns for plotting histograms, excluding time-related columns\n",
    "numeric_cols = df_27_EYE.select_dtypes(include=np.number).columns\n",
    "cols_to_plot = [col for col in numeric_cols if col not in ['UnixTime']]\n",
    "\n",
    "# Calculate the number of rows and columns for the grid\n",
    "n_cols = 4  # You can adjust the number of columns as needed\n",
    "n_rows = (len(cols_to_plot) + n_cols - 1) // n_cols\n",
    "\n",
    "plt.figure(figsize=(n_cols * 5, n_rows * 4)) # Adjust figure size as needed\n",
    "\n",
    "for i, col in enumerate(cols_to_plot):\n",
    "    plt.subplot(n_rows, n_cols, i + 1)\n",
    "    sns.histplot(df_27_EYE[col], kde=True)\n",
    "    plt.title(f'Distribution of {col}')\n",
    "    plt.xlabel(col)\n",
    "    plt.ylabel('Frequency')\n",
    "\n",
    "plt.tight_layout()\n",
    "plt.show()"
   ]
  },
  {
   "cell_type": "code",
   "execution_count": null,
   "id": "8ccf402c",
   "metadata": {},
   "outputs": [],
   "source": []
  },
  {
   "cell_type": "markdown",
   "id": "383c6139",
   "metadata": {},
   "source": [
    "## Student 28"
   ]
  },
  {
   "cell_type": "code",
   "execution_count": null,
   "id": "2b9f9823",
   "metadata": {},
   "outputs": [],
   "source": [
    "%load_ext cudf"
   ]
  },
  {
   "cell_type": "code",
   "execution_count": null,
   "id": "4fc03b8b",
   "metadata": {},
   "outputs": [],
   "source": [
    "import numpy as np\n",
    "import pandas as pd\n",
    "import matplotlib.pyplot as plt\n",
    "import seaborn as sns"
   ]
  },
  {
   "cell_type": "code",
   "execution_count": null,
   "id": "b241bbd5",
   "metadata": {},
   "outputs": [],
   "source": [
    "import datashader as ds\n",
    "import datashader.transfer_functions as tf"
   ]
  },
  {
   "cell_type": "code",
   "execution_count": null,
   "id": "6a835397",
   "metadata": {},
   "outputs": [],
   "source": [
    "pd.set_option('display.max_columns', None)"
   ]
  },
  {
   "cell_type": "code",
   "execution_count": null,
   "id": "2293e6d5",
   "metadata": {},
   "outputs": [],
   "source": [
    "df_28_EYE = pd.read_csv('data/STData/28/28_EYE.csv')"
   ]
  },
  {
   "cell_type": "code",
   "execution_count": null,
   "id": "6f8d5c65",
   "metadata": {},
   "outputs": [],
   "source": [
    "df_28_EYE.head()"
   ]
  },
  {
   "cell_type": "code",
   "execution_count": null,
   "id": "79a6627f",
   "metadata": {},
   "outputs": [],
   "source": [
    "df_28_EYE.shape"
   ]
  },
  {
   "cell_type": "code",
   "execution_count": null,
   "id": "b7475618",
   "metadata": {},
   "outputs": [],
   "source": [
    "df_28_EYE.columns"
   ]
  },
  {
   "cell_type": "code",
   "execution_count": null,
   "id": "e0ee9d02",
   "metadata": {},
   "outputs": [],
   "source": [
    "df_28_EYE.info()"
   ]
  },
  {
   "cell_type": "code",
   "execution_count": null,
   "id": "21eeaae4",
   "metadata": {},
   "outputs": [],
   "source": [
    "df_28_EYE.isnull().sum()"
   ]
  },
  {
   "cell_type": "code",
   "execution_count": null,
   "id": "49526644",
   "metadata": {},
   "outputs": [],
   "source": [
    "plt.figure(figsize=(12,8))\n",
    "sns.heatmap(df_28_EYE.isnull(), cmap='viridis')\n",
    "plt.show()"
   ]
  },
  {
   "cell_type": "markdown",
   "id": "12f22953",
   "metadata": {},
   "source": [
    "# Notes & Observations\n",
    "\n",
    "- We observe many **null** (or missing) values in the `QuestionKey` columns.  \n",
    "- The nulls in the `QuestionKey` column may not represent “true” nulls. Rather, they follow interval patterns, suggesting that during those periods no question was displayed.  \n",
    "- These missing values in `QuestionKey` require additional investigation and context-aware handling.  "
   ]
  },
  {
   "cell_type": "code",
   "execution_count": null,
   "id": "bc40df72",
   "metadata": {},
   "outputs": [],
   "source": [
    "df_28_EYE['QuestionKey'].unique()"
   ]
  },
  {
   "cell_type": "code",
   "execution_count": null,
   "id": "782af7e3",
   "metadata": {},
   "outputs": [],
   "source": [
    "df_28_EYE['Timestamp'] = pd.to_datetime(df_28_EYE['Timestamp'])"
   ]
  },
  {
   "cell_type": "code",
   "execution_count": null,
   "id": "95ab4749",
   "metadata": {},
   "outputs": [],
   "source": [
    "df_28_EYE.head(3)"
   ]
  },
  {
   "cell_type": "code",
   "execution_count": null,
   "id": "cf3390d3",
   "metadata": {},
   "outputs": [],
   "source": [
    "df_28_EYE['QuestionKey'].fillna('None', inplace=True)"
   ]
  },
  {
   "cell_type": "code",
   "execution_count": null,
   "id": "cb1a1df7",
   "metadata": {},
   "outputs": [],
   "source": [
    "df_28_EYE['QuestionKey'].value_counts()"
   ]
  },
  {
   "cell_type": "code",
   "execution_count": null,
   "id": "2890ad4a",
   "metadata": {},
   "outputs": [],
   "source": [
    "plt.figure(figsize=(12,8))\n",
    "sns.heatmap(df_28_EYE.isnull(), cmap='viridis')\n",
    "plt.show()"
   ]
  },
  {
   "cell_type": "code",
   "execution_count": null,
   "id": "1d5657ea",
   "metadata": {},
   "outputs": [],
   "source": [
    "df_28_EYE.isnull().sum()"
   ]
  },
  {
   "cell_type": "code",
   "execution_count": null,
   "id": "8d76ac78",
   "metadata": {},
   "outputs": [],
   "source": [
    "df_28_EYE.dropna(inplace=True)"
   ]
  },
  {
   "cell_type": "code",
   "execution_count": null,
   "id": "6b510f52",
   "metadata": {},
   "outputs": [],
   "source": [
    "df_28_EYE.head()"
   ]
  },
  {
   "cell_type": "code",
   "execution_count": null,
   "id": "d370c612",
   "metadata": {},
   "outputs": [],
   "source": [
    "df_28_EYE['Row'].unique()"
   ]
  },
  {
   "cell_type": "code",
   "execution_count": null,
   "id": "2cf3831e",
   "metadata": {},
   "outputs": [],
   "source": [
    "plt.figure(figsize=(8,6))\n",
    "sns.histplot(df_28_EYE['Row'])\n",
    "plt.show()"
   ]
  },
  {
   "cell_type": "markdown",
   "id": "5c619850",
   "metadata": {},
   "source": [
    "# Notes & Observations\n",
    "\n",
    "- The `Row` column appears to be a simple row index and does not provide meaningful information relevant to the eye-tracking data itself. Therefore, it can be dropped."
   ]
  },
  {
   "cell_type": "code",
   "execution_count": null,
   "id": "3f9a642f",
   "metadata": {},
   "outputs": [],
   "source": [
    "df_28_EYE.drop('Row', axis=1, inplace=True)"
   ]
  },
  {
   "cell_type": "code",
   "execution_count": null,
   "id": "bf4945cc",
   "metadata": {},
   "outputs": [],
   "source": [
    "df_28_EYE['ET_ValidityLeft'].unique()"
   ]
  },
  {
   "cell_type": "code",
   "execution_count": null,
   "id": "b79d7f1d",
   "metadata": {},
   "outputs": [],
   "source": [
    "df_28_EYE['ET_ValidityLeft'].value_counts()"
   ]
  },
  {
   "cell_type": "code",
   "execution_count": null,
   "id": "15a3c1b4",
   "metadata": {},
   "outputs": [],
   "source": [
    "df_28_EYE['ET_ValidityRight'].unique()"
   ]
  },
  {
   "cell_type": "code",
   "execution_count": null,
   "id": "dcc7a866",
   "metadata": {},
   "outputs": [],
   "source": [
    "df_28_EYE['ET_ValidityRight'].value_counts()"
   ]
  },
  {
   "cell_type": "code",
   "execution_count": null,
   "id": "d6698163",
   "metadata": {},
   "outputs": [],
   "source": [
    "plt.figure(figsize=(12, 6))\n",
    "\n",
    "plt.subplot(1, 2, 1)\n",
    "sns.barplot(x=df_28_EYE['ET_ValidityLeft'].value_counts().index, y=df_28_EYE['ET_ValidityLeft'].value_counts().values)\n",
    "plt.title('Count of ET_ValidityLeft')\n",
    "plt.xlabel('Validity')\n",
    "plt.ylabel('Count')\n",
    "\n",
    "\n",
    "plt.subplot(1, 2, 2)\n",
    "sns.barplot(x=df_28_EYE['ET_ValidityRight'].value_counts().index, y=df_28_EYE['ET_ValidityRight'].value_counts().values)\n",
    "plt.title('Count of ET_ValidityRight')\n",
    "plt.xlabel('Validity')\n",
    "plt.ylabel('Count')\n",
    "\n",
    "plt.tight_layout()\n",
    "plt.show()"
   ]
  },
  {
   "cell_type": "markdown",
   "id": "d157aa6e",
   "metadata": {},
   "source": [
    "# Notes & Observations\n",
    "\n",
    "- The `ET_ValidityLeft` and `ET_ValidityRight` columns indicate the validity of the eye-tracking data for the left and right eye, respectively.\n",
    "- Based on the value counts and the bar plots, it appears that a value of `0.0` represents valid eye-tracking data, while a value of `4.0` represents invalid data.\n",
    "- Although the amount of invalid data is relatively small, removing these rows could introduce unwanted patterns or gaps in the time series data.\n",
    "- Therefore, we will keep the data and replace the value `4.0` with `1.0` in both `ET_ValidityLeft` and `ET_ValidityRight` columns. This will indicate to a machine learning model that the eye tracker had invalid data at those specific points in time while maintaining the integrity of the time series."
   ]
  },
  {
   "cell_type": "code",
   "execution_count": null,
   "id": "27ed9353",
   "metadata": {},
   "outputs": [],
   "source": [
    "validity_map = {4.0: 1.0, 0.0: 0.0}"
   ]
  },
  {
   "cell_type": "code",
   "execution_count": null,
   "id": "da1760b8",
   "metadata": {},
   "outputs": [],
   "source": [
    "df_28_EYE['ET_ValidityLeft'] = df_28_EYE['ET_ValidityLeft'].map(validity_map).astype(np.int8)\n",
    "df_28_EYE['ET_ValidityRight'] = df_28_EYE['ET_ValidityRight'].map(validity_map).astype(np.int8)"
   ]
  },
  {
   "cell_type": "code",
   "execution_count": null,
   "id": "1054f385",
   "metadata": {},
   "outputs": [],
   "source": [
    "df_28_EYE.head(3)"
   ]
  },
  {
   "cell_type": "code",
   "execution_count": null,
   "id": "e4746167",
   "metadata": {},
   "outputs": [],
   "source": [
    "df_28_EYE.describe()"
   ]
  },
  {
   "cell_type": "code",
   "execution_count": null,
   "id": "ab20ef75",
   "metadata": {},
   "outputs": [],
   "source": [
    "df_28_EYE[df_28_EYE['ET_ValidityLeft'] == 1].shape"
   ]
  },
  {
   "cell_type": "code",
   "execution_count": null,
   "id": "3dc714ec",
   "metadata": {},
   "outputs": [],
   "source": [
    "df_28_EYE[df_28_EYE['ET_ValidityRight'] == 1].shape"
   ]
  },
  {
   "cell_type": "code",
   "execution_count": null,
   "id": "82e3f9fc",
   "metadata": {},
   "outputs": [],
   "source": [
    "plt.figure(figsize=(18, 8))\n",
    "\n",
    "plt.subplot(1, 2, 1)\n",
    "sns.heatmap(df_28_EYE == -1, cmap='viridis')\n",
    "plt.title('Heatmap of -1 Values')\n",
    "\n",
    "plt.subplot(1, 2, 2)\n",
    "sns.heatmap(df_28_EYE == 1, cmap='viridis')\n",
    "plt.title('Heatmap of 1 Values')\n",
    "\n",
    "plt.tight_layout()\n",
    "plt.show()"
   ]
  },
  {
   "cell_type": "code",
   "execution_count": null,
   "id": "aa3fd3ae",
   "metadata": {},
   "outputs": [],
   "source": [
    "df_28_EYE[df_28_EYE['ET_PupilLeft'] == -1].shape"
   ]
  },
  {
   "cell_type": "code",
   "execution_count": null,
   "id": "10c0e181",
   "metadata": {},
   "outputs": [],
   "source": [
    "df_28_EYE[df_28_EYE['ET_PupilRight'] == -1].shape"
   ]
  },
  {
   "cell_type": "code",
   "execution_count": null,
   "id": "26c15209",
   "metadata": {},
   "outputs": [],
   "source": [
    "df_28_EYE[df_28_EYE['ET_PupilLeft'] == -1].shape[0] / df_28_EYE.shape[0]"
   ]
  },
  {
   "cell_type": "code",
   "execution_count": null,
   "id": "20c6752e",
   "metadata": {},
   "outputs": [],
   "source": [
    "df_28_EYE[df_28_EYE['ET_PupilRight'] == -1].shape[0] / df_28_EYE.shape[0]"
   ]
  },
  {
   "cell_type": "code",
   "execution_count": null,
   "id": "55e93428",
   "metadata": {},
   "outputs": [],
   "source": [
    "plt.figure(figsize=(18, 8))\n",
    "\n",
    "plt.subplot(1, 2, 1)\n",
    "sns.heatmap(df_28_EYE[df_28_EYE['ET_ValidityLeft'] == 1] == -1, cmap='viridis')\n",
    "plt.title('Heatmap of -1 Values')\n",
    "\n",
    "plt.subplot(1, 2, 2)\n",
    "sns.heatmap(df_28_EYE[df_28_EYE['ET_ValidityRight'] == 1] == -1, cmap='viridis')\n",
    "plt.title('Heatmap of -1 Values')\n",
    "\n",
    "plt.tight_layout()\n",
    "plt.show()"
   ]
  },
  {
   "cell_type": "markdown",
   "id": "e81a8679",
   "metadata": {},
   "source": [
    "# Notes & Observations\n",
    "\n",
    "- The heatmaps reveal the distribution of -1 values across different columns.\n",
    "- It is evident that the `-1` values are not randomly scattered but appear in specific columns, notably `ET_GazeLeftx`, `ET_GazeLefty`, `ET_GazeRightx`, `ET_GazeRighty`, `ET_PupilLeft`, `ET_PupilRight`, `ET_DistanceLeft`, `ET_DistanceRight`, `ET_CameraLeftX`, `ET_CameraLeftY`, `ET_CameraRightX`, and `ET_CameraRightY`.\n",
    "- These `-1` values often coincide with instances where `ET_ValidityLeft` or `ET_ValidityRight` is 1, indicating invalid eye-tracking data. This suggests that `-1` is used as a placeholder for missing or invalid measurements in these columns when the eye tracker is not providing valid data for a particular eye.\n",
    "- Given that over 70% of the data in the `ET_PupilLeft` and `ET_PupilRight` columns is marked as invalid (-1), these columns may not be suitable for analysis and could be considered for dropping."
   ]
  },
  {
   "cell_type": "code",
   "execution_count": null,
   "id": "911dd759",
   "metadata": {},
   "outputs": [],
   "source": [
    "df_28_EYE.drop(['ET_PupilLeft', 'ET_PupilRight'], axis=1, inplace=True)"
   ]
  },
  {
   "cell_type": "code",
   "execution_count": null,
   "id": "663c994d",
   "metadata": {},
   "outputs": [],
   "source": [
    "df_28_EYE.head()"
   ]
  },
  {
   "cell_type": "code",
   "execution_count": null,
   "id": "b9b80e64",
   "metadata": {},
   "outputs": [],
   "source": [
    "plt.figure(figsize=(18, 8))\n",
    "\n",
    "plt.subplot(1, 2, 1)\n",
    "sns.heatmap(df_28_EYE == -1, cmap='viridis')\n",
    "plt.title('Heatmap of -1 Values')\n",
    "\n",
    "plt.subplot(1, 2, 2)\n",
    "sns.heatmap(df_28_EYE == 1, cmap='viridis')\n",
    "plt.title('Heatmap of -1 Values')\n",
    "\n",
    "plt.tight_layout()\n",
    "plt.show()"
   ]
  },
  {
   "cell_type": "code",
   "execution_count": null,
   "id": "efd0af4a",
   "metadata": {},
   "outputs": [],
   "source": [
    "valid_left_ratio  = 1 - df_28_EYE['ET_ValidityLeft'].mean()\n",
    "valid_right_ratio = 1 - df_28_EYE['ET_ValidityRight'].mean()"
   ]
  },
  {
   "cell_type": "code",
   "execution_count": null,
   "id": "cc0aaf95",
   "metadata": {},
   "outputs": [],
   "source": [
    "valid_left_ratio"
   ]
  },
  {
   "cell_type": "code",
   "execution_count": null,
   "id": "c4595456",
   "metadata": {},
   "outputs": [],
   "source": [
    "valid_right_ratio"
   ]
  },
  {
   "cell_type": "code",
   "execution_count": null,
   "id": "11e3e5c3",
   "metadata": {},
   "outputs": [],
   "source": [
    "df_28_EYE.head()"
   ]
  },
  {
   "cell_type": "code",
   "execution_count": null,
   "id": "f187c247",
   "metadata": {},
   "outputs": [],
   "source": [
    "# Select only the numeric columns for plotting histograms, excluding time-related columns\n",
    "numeric_cols = df_28_EYE.select_dtypes(include=np.number).columns\n",
    "cols_to_plot = [col for col in numeric_cols if col not in ['UnixTime']]\n",
    "\n",
    "# Calculate the number of rows and columns for the grid\n",
    "n_cols = 4  # You can adjust the number of columns as needed\n",
    "n_rows = (len(cols_to_plot) + n_cols - 1) // n_cols\n",
    "\n",
    "plt.figure(figsize=(n_cols * 5, n_rows * 4)) # Adjust figure size as needed\n",
    "\n",
    "for i, col in enumerate(cols_to_plot):\n",
    "    plt.subplot(n_rows, n_cols, i + 1)\n",
    "    sns.histplot(df_28_EYE[col], kde=True)\n",
    "    plt.title(f'Distribution of {col}')\n",
    "    plt.xlabel(col)\n",
    "    plt.ylabel('Frequency')\n",
    "\n",
    "plt.tight_layout()\n",
    "plt.show()"
   ]
  },
  {
   "cell_type": "code",
   "execution_count": null,
   "id": "1b21dca1",
   "metadata": {},
   "outputs": [],
   "source": [
    "df_28_EYE.columns"
   ]
  },
  {
   "cell_type": "code",
   "execution_count": null,
   "id": "b04b1122",
   "metadata": {},
   "outputs": [],
   "source": [
    "cols = ['ET_GazeLeftx', 'ET_GazeLefty',\n",
    "       'ET_GazeRightx', 'ET_GazeRighty', 'ET_TimeSignal', 'ET_DistanceLeft',\n",
    "       'ET_DistanceRight', 'ET_CameraLeftX', 'ET_CameraLeftY',\n",
    "       'ET_CameraRightX', 'ET_CameraRightY', 'ET_ValidityLeft',\n",
    "       'ET_ValidityRight']"
   ]
  },
  {
   "cell_type": "code",
   "execution_count": null,
   "id": "34359caf",
   "metadata": {},
   "outputs": [],
   "source": [
    "from IPython.display import display, Markdown\n",
    "\n",
    "for col in cols:\n",
    "    # Add a markdown cell before each plot for better separation and labeling\n",
    "    display(Markdown(f'### {col} over Time'))\n",
    "    plt.figure(figsize=(16, 10))\n",
    "    plt.plot(df_28_EYE['Timestamp'], df_28_EYE[col])\n",
    "    plt.xlabel(\"Timestamp\") # Add x-axis label\n",
    "    plt.ylabel(col) # Add y-axis label\n",
    "    plt.show()"
   ]
  },
  {
   "cell_type": "code",
   "execution_count": null,
   "id": "f1470b4a",
   "metadata": {},
   "outputs": [],
   "source": [
    "# Select only the numeric columns for plotting histograms, excluding time-related columns\n",
    "numeric_cols = df_28_EYE.select_dtypes(include=np.number).columns\n",
    "\n",
    "# Calculate the number of rows and columns for the grid\n",
    "n_cols = 4  # You can adjust the number of columns as needed\n",
    "n_rows = (len(numeric_cols) + n_cols - 1) // n_cols\n",
    "\n",
    "plt.figure(figsize=(n_cols * 5, n_rows * 4)) # Adjust figure size as needed\n",
    "\n",
    "for i, col in enumerate(numeric_cols):\n",
    "    plt.subplot(n_rows, n_cols, i + 1)\n",
    "    sns.boxplot(df_28_EYE[col])\n",
    "    plt.title(f'Boxplot of {col}')\n",
    "    plt.xlabel(col)\n",
    "\n",
    "plt.tight_layout()\n",
    "plt.show()"
   ]
  },
  {
   "cell_type": "code",
   "execution_count": null,
   "id": "a3eeac51",
   "metadata": {},
   "outputs": [],
   "source": [
    "df_28_EYE.replace({-1: np.nan}, inplace=True)"
   ]
  },
  {
   "cell_type": "code",
   "execution_count": null,
   "id": "33f18f6c",
   "metadata": {},
   "outputs": [],
   "source": [
    "numeric_cols = df_28_EYE.select_dtypes(include=np.number).columns\n",
    "\n",
    "for col in numeric_cols:\n",
    "    df_28_EYE[col].fillna(df_28_EYE[col].mean(), inplace=True)"
   ]
  },
  {
   "cell_type": "code",
   "execution_count": null,
   "id": "fdb74040",
   "metadata": {},
   "outputs": [],
   "source": [
    "df_28_EYE.head()"
   ]
  },
  {
   "cell_type": "code",
   "execution_count": null,
   "id": "515e816a",
   "metadata": {},
   "outputs": [],
   "source": [
    "# Select only the numeric columns for plotting histograms, excluding time-related columns\n",
    "numeric_cols = df_28_EYE.select_dtypes(include=np.number).columns\n",
    "cols_to_plot = [col for col in numeric_cols if col not in ['UnixTime']]\n",
    "\n",
    "# Calculate the number of rows and columns for the grid\n",
    "n_cols = 4  # You can adjust the number of columns as needed\n",
    "n_rows = (len(cols_to_plot) + n_cols - 1) // n_cols\n",
    "\n",
    "plt.figure(figsize=(n_cols * 5, n_rows * 4)) # Adjust figure size as needed\n",
    "\n",
    "for i, col in enumerate(cols_to_plot):\n",
    "    plt.subplot(n_rows, n_cols, i + 1)\n",
    "    sns.histplot(df_28_EYE[col], kde=True)\n",
    "    plt.title(f'Distribution of {col}')\n",
    "    plt.xlabel(col)\n",
    "    plt.ylabel('Frequency')\n",
    "\n",
    "plt.tight_layout()\n",
    "plt.show()"
   ]
  },
  {
   "cell_type": "code",
   "execution_count": null,
   "id": "37e25a90",
   "metadata": {},
   "outputs": [],
   "source": []
  },
  {
   "cell_type": "code",
   "execution_count": null,
   "id": "db0cf50c",
   "metadata": {},
   "outputs": [],
   "source": []
  },
  {
   "cell_type": "code",
   "execution_count": null,
   "id": "5aa1d5a0",
   "metadata": {},
   "outputs": [],
   "source": []
  },
  {
   "cell_type": "code",
   "execution_count": null,
   "id": "5ce99c2a",
   "metadata": {},
   "outputs": [],
   "source": []
  },
  {
   "cell_type": "code",
   "execution_count": null,
   "id": "df9c2a68",
   "metadata": {},
   "outputs": [],
   "source": []
  },
  {
   "cell_type": "code",
   "execution_count": null,
   "id": "94570fc1",
   "metadata": {},
   "outputs": [],
   "source": []
  },
  {
   "cell_type": "code",
   "execution_count": null,
   "id": "d449dcc0",
   "metadata": {},
   "outputs": [],
   "source": []
  },
  {
   "cell_type": "code",
   "execution_count": null,
   "id": "8e999b0b",
   "metadata": {},
   "outputs": [],
   "source": []
  },
  {
   "cell_type": "code",
   "execution_count": null,
   "id": "749f2751",
   "metadata": {},
   "outputs": [],
   "source": []
  },
  {
   "cell_type": "code",
   "execution_count": null,
   "id": "20b8acab",
   "metadata": {},
   "outputs": [],
   "source": []
  },
  {
   "cell_type": "code",
   "execution_count": null,
   "id": "7bb54e45",
   "metadata": {},
   "outputs": [],
   "source": []
  },
  {
   "cell_type": "code",
   "execution_count": null,
   "id": "f8335780",
   "metadata": {},
   "outputs": [],
   "source": []
  },
  {
   "cell_type": "markdown",
   "id": "33b49f05",
   "metadata": {},
   "source": [
    "# Eye Tracking Data Analysis\n",
    "\n",
    "This notebook performs exploratory data analysis and cleaning on eye-tracking data.\n",
    "\n",
    "## Data Loading and Initial Inspection"
   ]
  },
  {
   "cell_type": "code",
   "execution_count": null,
   "id": "2c23df6d",
   "metadata": {},
   "outputs": [],
   "source": [
    "%load_ext cudf"
   ]
  },
  {
   "cell_type": "markdown",
   "id": "7a7bb7c7",
   "metadata": {},
   "source": [
    "Import necessary libraries for data manipulation, analysis, and visualization."
   ]
  },
  {
   "cell_type": "code",
   "execution_count": null,
   "id": "a7f8f78c",
   "metadata": {},
   "outputs": [],
   "source": [
    "import numpy as np\n",
    "import pandas as pd\n",
    "import matplotlib.pyplot as plt\n",
    "import seaborn as sns"
   ]
  },
  {
   "cell_type": "markdown",
   "id": "23872181",
   "metadata": {},
   "source": [
    "Import libraries for datashader, which can be used for visualizing large datasets."
   ]
  },
  {
   "cell_type": "code",
   "execution_count": null,
   "id": "a43c7120",
   "metadata": {},
   "outputs": [],
   "source": [
    "import datashader as ds\n",
    "import datashader.transfer_functions as tf"
   ]
  },
  {
   "cell_type": "markdown",
   "id": "e2ef1d1a",
   "metadata": {},
   "source": [
    "Set pandas display options to show all columns."
   ]
  },
  {
   "cell_type": "code",
   "execution_count": null,
   "id": "ffd48812",
   "metadata": {},
   "outputs": [],
   "source": [
    "pd.set_option('display.max_columns', None)"
   ]
  },
  {
   "cell_type": "markdown",
   "id": "f55fcbc4",
   "metadata": {},
   "source": [
    "Load the eye-tracking data from the specified CSV file into a pandas DataFrame."
   ]
  },
  {
   "cell_type": "code",
   "execution_count": null,
   "id": "252b5f28",
   "metadata": {},
   "outputs": [],
   "source": [
    "df_28_EYE = pd.read_csv('data/STData/28/28_EYE.csv')"
   ]
  },
  {
   "cell_type": "markdown",
   "id": "23e98d4f",
   "metadata": {},
   "source": [
    "Display the first few rows of the DataFrame to get an initial look at the data structure and content."
   ]
  },
  {
   "cell_type": "code",
   "execution_count": null,
   "id": "21da89a2",
   "metadata": {},
   "outputs": [],
   "source": [
    "df_28_EYE.head()"
   ]
  },
  {
   "cell_type": "markdown",
   "id": "fb3953d5",
   "metadata": {},
   "source": [
    "Check the dimensions (number of rows and columns) of the DataFrame."
   ]
  },
  {
   "cell_type": "code",
   "execution_count": null,
   "id": "bd93ad94",
   "metadata": {},
   "outputs": [],
   "source": [
    "df_28_EYE.shape"
   ]
  },
  {
   "cell_type": "markdown",
   "id": "0abc4121",
   "metadata": {},
   "source": [
    "List the names of all columns in the DataFrame."
   ]
  },
  {
   "cell_type": "code",
   "execution_count": null,
   "id": "2f063a86",
   "metadata": {},
   "outputs": [],
   "source": [
    "df_28_EYE.columns"
   ]
  },
  {
   "cell_type": "markdown",
   "id": "fea7dec8",
   "metadata": {},
   "source": [
    "Display concise information about the DataFrame, including the data types of each column and the number of non-null values. This helps identify columns with missing data."
   ]
  },
  {
   "cell_type": "code",
   "execution_count": null,
   "id": "d9c97c5e",
   "metadata": {},
   "outputs": [],
   "source": [
    "df_28_EYE.info()"
   ]
  },
  {
   "cell_type": "markdown",
   "id": "00ae493a",
   "metadata": {},
   "source": [
    "Calculate and display the number of missing values in each column."
   ]
  },
  {
   "cell_type": "code",
   "execution_count": null,
   "id": "35adf74e",
   "metadata": {},
   "outputs": [],
   "source": [
    "df_28_EYE.isnull().sum()"
   ]
  },
  {
   "cell_type": "markdown",
   "id": "1a82a59d",
   "metadata": {},
   "source": [
    "Visualize the distribution of missing values using a heatmap. This provides a visual representation of which columns have missing data and the extent of missingness."
   ]
  },
  {
   "cell_type": "code",
   "execution_count": null,
   "id": "20a76d50",
   "metadata": {},
   "outputs": [],
   "source": [
    "plt.figure(figsize=(12,8))\n",
    "sns.heatmap(df_28_EYE.isnull(), cmap='viridis')\n",
    "plt.show()"
   ]
  },
  {
   "cell_type": "markdown",
   "id": "6d42608a",
   "metadata": {},
   "source": [
    "# Notes & Observations\n",
    "\n",
    "- We observe many **null** (or missing) values in the `QuestionKey` columns.\n",
    "- The nulls in the `QuestionKey` column may not represent “true” nulls. Rather, they follow interval patterns, suggesting that during those periods no question was displayed.\n",
    "- These missing values in `QuestionKey` require additional investigation and context-aware handling."
   ]
  },
  {
   "cell_type": "markdown",
   "id": "357b03bb",
   "metadata": {},
   "source": [
    "Display the unique values in the `QuestionKey` column to understand the different types of questions or states recorded."
   ]
  },
  {
   "cell_type": "code",
   "execution_count": null,
   "id": "1a61fd4f",
   "metadata": {},
   "outputs": [],
   "source": [
    "df_28_EYE['QuestionKey'].unique()"
   ]
  },
  {
   "cell_type": "markdown",
   "id": "fa51a12e",
   "metadata": {},
   "source": [
    "Convert the `Timestamp` column to datetime objects. This is crucial for any time series analysis or manipulation."
   ]
  },
  {
   "cell_type": "code",
   "execution_count": null,
   "id": "713c1d28",
   "metadata": {},
   "outputs": [],
   "source": [
    "df_28_EYE['Timestamp'] = pd.to_datetime(df_28_EYE['Timestamp'])"
   ]
  },
  {
   "cell_type": "markdown",
   "id": "76ea6eb4",
   "metadata": {},
   "source": [
    "Display the first few rows again to see the effect of the timestamp conversion."
   ]
  },
  {
   "cell_type": "code",
   "execution_count": null,
   "id": "4fef5799",
   "metadata": {},
   "outputs": [],
   "source": [
    "df_28_EYE.head(3)"
   ]
  },
  {
   "cell_type": "markdown",
   "id": "2304b4b5",
   "metadata": {},
   "source": [
    "Fill the missing values in the `QuestionKey` column with the string 'None'. This helps to explicitly mark periods where no question was active."
   ]
  },
  {
   "cell_type": "code",
   "execution_count": null,
   "id": "a90b62e9",
   "metadata": {},
   "outputs": [],
   "source": [
    "df_28_EYE['QuestionKey'].fillna('None', inplace=True)"
   ]
  },
  {
   "cell_type": "markdown",
   "id": "8beb12ba",
   "metadata": {},
   "source": [
    "Count the occurrences of each unique value in the `QuestionKey` column after filling missing values."
   ]
  },
  {
   "cell_type": "code",
   "execution_count": null,
   "id": "50fa87a0",
   "metadata": {},
   "outputs": [],
   "source": [
    "df_28_EYE['QuestionKey'].value_counts()"
   ]
  },
  {
   "cell_type": "markdown",
   "id": "68885256",
   "metadata": {},
   "source": [
    "Display the heatmap of missing values again to confirm that the missing values in `QuestionKey` have been handled."
   ]
  },
  {
   "cell_type": "code",
   "execution_count": null,
   "id": "f9c6259d",
   "metadata": {},
   "outputs": [],
   "source": [
    "plt.figure(figsize=(12,8))\n",
    "sns.heatmap(df_28_EYE.isnull(), cmap='viridis')\n",
    "plt.show()"
   ]
  },
  {
   "cell_type": "markdown",
   "id": "0d5fa27b",
   "metadata": {},
   "source": [
    "Recalculate and display the number of missing values per column to confirm the changes after handling `QuestionKey`."
   ]
  },
  {
   "cell_type": "code",
   "execution_count": null,
   "id": "c91716fc",
   "metadata": {},
   "outputs": [],
   "source": [
    "df_28_EYE.isnull().sum()"
   ]
  },
  {
   "cell_type": "markdown",
   "id": "67b026bd",
   "metadata": {},
   "source": [
    "Drop rows that still contain any missing values. This is done after handling `QuestionKey` separately."
   ]
  },
  {
   "cell_type": "code",
   "execution_count": null,
   "id": "4c33858e",
   "metadata": {},
   "outputs": [],
   "source": [
    "df_28_EYE.dropna(inplace=True)"
   ]
  },
  {
   "cell_type": "markdown",
   "id": "b5a71561",
   "metadata": {},
   "source": [
    "Display the first few rows after dropping rows with missing values."
   ]
  },
  {
   "cell_type": "code",
   "execution_count": null,
   "id": "46cb036b",
   "metadata": {},
   "outputs": [],
   "source": [
    "df_28_EYE.head()"
   ]
  },
  {
   "cell_type": "markdown",
   "id": "8cea6127",
   "metadata": {},
   "source": [
    "Display the unique values in the `Row` column."
   ]
  },
  {
   "cell_type": "code",
   "execution_count": null,
   "id": "4b80db23",
   "metadata": {},
   "outputs": [],
   "source": [
    "df_28_EYE['Row'].unique()"
   ]
  },
  {
   "cell_type": "markdown",
   "id": "aea0118f",
   "metadata": {},
   "source": [
    "Plot a histogram of the `Row` column to visualize its distribution."
   ]
  },
  {
   "cell_type": "code",
   "execution_count": null,
   "id": "e9d36c07",
   "metadata": {},
   "outputs": [],
   "source": [
    "plt.figure(figsize=(8,6))\n",
    "sns.histplot(df_28_EYE['Row'])\n",
    "plt.show()"
   ]
  },
  {
   "cell_type": "markdown",
   "id": "40421ee3",
   "metadata": {},
   "source": [
    "# Notes & Observations\n",
    "\n",
    "- The `Row` column appears to be a simple row index and does not provide meaningful information relevant to the eye-tracking data itself. Therefore, it can be dropped."
   ]
  },
  {
   "cell_type": "markdown",
   "id": "ace06342",
   "metadata": {},
   "source": [
    "Drop the `Row` column as it is not relevant for the analysis."
   ]
  },
  {
   "cell_type": "code",
   "execution_count": null,
   "id": "87012b36",
   "metadata": {},
   "outputs": [],
   "source": [
    "df_28_EYE.drop('Row', axis=1, inplace=True)"
   ]
  },
  {
   "cell_type": "markdown",
   "id": "6c57aa00",
   "metadata": {},
   "source": [
    "Display the unique values in the `ET_ValidityLeft` column."
   ]
  },
  {
   "cell_type": "code",
   "execution_count": null,
   "id": "1d13ccf0",
   "metadata": {},
   "outputs": [],
   "source": [
    "df_28_EYE['ET_ValidityLeft'].unique()"
   ]
  },
  {
   "cell_type": "markdown",
   "id": "4298dc40",
   "metadata": {},
   "source": [
    "Count the occurrences of each unique value in the `ET_ValidityLeft` column."
   ]
  },
  {
   "cell_type": "code",
   "execution_count": null,
   "id": "b0c9deb2",
   "metadata": {},
   "outputs": [],
   "source": [
    "df_28_EYE['ET_ValidityLeft'].value_counts()"
   ]
  },
  {
   "cell_type": "markdown",
   "id": "595500fa",
   "metadata": {},
   "source": [
    "Display the unique values in the `ET_ValidityRight` column."
   ]
  },
  {
   "cell_type": "code",
   "execution_count": null,
   "id": "6876ab37",
   "metadata": {},
   "outputs": [],
   "source": [
    "df_28_EYE['ET_ValidityRight'].unique()"
   ]
  },
  {
   "cell_type": "markdown",
   "id": "991d6bb6",
   "metadata": {},
   "source": [
    "Count the occurrences of each unique value in the `ET_ValidityRight` column."
   ]
  },
  {
   "cell_type": "code",
   "execution_count": null,
   "id": "f90c3362",
   "metadata": {},
   "outputs": [],
   "source": [
    "df_28_EYE['ET_ValidityRight'].value_counts()"
   ]
  },
  {
   "cell_type": "markdown",
   "id": "246e4eea",
   "metadata": {},
   "source": [
    "Visualize the counts of valid and invalid data for both left and right eyes using bar plots."
   ]
  },
  {
   "cell_type": "code",
   "execution_count": null,
   "id": "f18a14e1",
   "metadata": {},
   "outputs": [],
   "source": [
    "plt.figure(figsize=(12, 6))\n",
    "\n",
    "plt.subplot(1, 2, 1)\n",
    "sns.barplot(x=df_28_EYE['ET_ValidityLeft'].value_counts().index, y=df_28_EYE['ET_ValidityLeft'].value_counts().values)\n",
    "plt.title('Count of ET_ValidityLeft')\n",
    "plt.xlabel('Validity')\n",
    "plt.ylabel('Count')\n",
    "\n",
    "\n",
    "plt.subplot(1, 2, 2)\n",
    "sns.barplot(x=df_28_EYE['ET_ValidityRight'].value_counts().index, y=df_28_EYE['ET_ValidityRight'].value_counts().values)\n",
    "plt.title('Count of ET_ValidityRight')\n",
    "plt.xlabel('Validity')\n",
    "plt.ylabel('Count')\n",
    "\n",
    "plt.tight_layout()\n",
    "plt.show()"
   ]
  },
  {
   "cell_type": "markdown",
   "id": "7f2d778b",
   "metadata": {},
   "source": [
    "# Notes & Observations\n",
    "\n",
    "- The `ET_ValidityLeft` and `ET_ValidityRight` columns indicate the validity of the eye-tracking data for the left and right eye, respectively.\n",
    "- Based on the value counts and the bar plots, it appears that a value of `0.0` represents valid eye-tracking data, while a value of `4.0` represents invalid data.\n",
    "- Although the amount of invalid data is relatively small, removing these rows could introduce unwanted patterns or gaps in the time series data.\n",
    "- Therefore, we will keep the data and replace the value `4.0` with `1.0` in both `ET_ValidityLeft` and `ET_ValidityRight` columns. This will indicate to a machine learning model that the eye tracker had invalid data at those specific points in time while maintaining the integrity of the time series."
   ]
  },
  {
   "cell_type": "markdown",
   "id": "6f8af28b",
   "metadata": {},
   "source": [
    "Define a mapping to convert validity values from `0.0` and `4.0` to `0` and `1`."
   ]
  },
  {
   "cell_type": "code",
   "execution_count": null,
   "id": "d006f7d8",
   "metadata": {},
   "outputs": [],
   "source": [
    "validity_map = {4.0: 1.0, 0.0: 0.0}"
   ]
  },
  {
   "cell_type": "markdown",
   "id": "d0928477",
   "metadata": {},
   "source": [
    "Apply the mapping to the `ET_ValidityLeft` and `ET_ValidityRight` columns and convert the data type to integer."
   ]
  },
  {
   "cell_type": "code",
   "execution_count": null,
   "id": "184d7f76",
   "metadata": {},
   "outputs": [],
   "source": [
    "df_28_EYE['ET_ValidityLeft'] = df_28_EYE['ET_ValidityLeft'].map(validity_map).astype(np.int8)\n",
    "df_28_EYE['ET_ValidityRight'] = df_28_EYE['ET_ValidityRight'].map(validity_map).astype(np.int8)"
   ]
  },
  {
   "cell_type": "markdown",
   "id": "9631756f",
   "metadata": {},
   "source": [
    "Display the first few rows to see the updated validity columns."
   ]
  },
  {
   "cell_type": "code",
   "execution_count": null,
   "id": "1ac7978d",
   "metadata": {},
   "outputs": [],
   "source": [
    "df_28_EYE.head(3)"
   ]
  },
  {
   "cell_type": "markdown",
   "id": "b3838d69",
   "metadata": {},
   "source": [
    "Display descriptive statistics for the DataFrame, including count, mean, standard deviation, min, max, and quartiles for numeric columns."
   ]
  },
  {
   "cell_type": "code",
   "execution_count": null,
   "id": "03d414b9",
   "metadata": {},
   "outputs": [],
   "source": [
    "df_28_EYE.describe()"
   ]
  },
  {
   "cell_type": "markdown",
   "id": "cf511dfa",
   "metadata": {},
   "source": [
    "Check the number of rows where `ET_ValidityLeft` is 1 (invalid data for the left eye)."
   ]
  },
  {
   "cell_type": "code",
   "execution_count": null,
   "id": "6f03d587",
   "metadata": {},
   "outputs": [],
   "source": [
    "df_28_EYE[df_28_EYE['ET_ValidityLeft'] == 1].shape"
   ]
  },
  {
   "cell_type": "markdown",
   "id": "59dba07a",
   "metadata": {},
   "source": [
    "Check the number of rows where `ET_ValidityRight` is 1 (invalid data for the right eye)."
   ]
  },
  {
   "cell_type": "code",
   "execution_count": null,
   "id": "752d434f",
   "metadata": {},
   "outputs": [],
   "source": [
    "df_28_EYE[df_28_EYE['ET_ValidityRight'] == 1].shape"
   ]
  },
  {
   "cell_type": "markdown",
   "id": "e74e8e49",
   "metadata": {},
   "source": [
    "Visualize the distribution of -1 and 1 values across columns using heatmaps. This helps identify columns with placeholder or indicator values."
   ]
  },
  {
   "cell_type": "code",
   "execution_count": null,
   "id": "a1934951",
   "metadata": {},
   "outputs": [],
   "source": [
    "plt.figure(figsize=(18, 8))\n",
    "\n",
    "plt.subplot(1, 2, 1)\n",
    "sns.heatmap(df_28_EYE == -1, cmap='viridis')\n",
    "plt.title('Heatmap of -1 Values')\n",
    "\n",
    "plt.subplot(1, 2, 2)\n",
    "sns.heatmap(df_28_EYE == 1, cmap='viridis')\n",
    "plt.title('Heatmap of 1 Values')\n",
    "\n",
    "plt.tight_layout()\n",
    "plt.show()"
   ]
  },
  {
   "cell_type": "markdown",
   "id": "32a0c485",
   "metadata": {},
   "source": [
    "Check the number of rows where `ET_PupilLeft` is -1."
   ]
  },
  {
   "cell_type": "code",
   "execution_count": null,
   "id": "5e6c9d74",
   "metadata": {},
   "outputs": [],
   "source": [
    "df_28_EYE[df_28_EYE['ET_PupilLeft'] == -1].shape"
   ]
  },
  {
   "cell_type": "markdown",
   "id": "b7400079",
   "metadata": {},
   "source": [
    "Check the number of rows where `ET_PupilRight` is -1."
   ]
  },
  {
   "cell_type": "code",
   "execution_count": null,
   "id": "1f824065",
   "metadata": {},
   "outputs": [],
   "source": [
    "df_28_EYE[df_28_EYE['ET_PupilRight'] == -1].shape"
   ]
  },
  {
   "cell_type": "markdown",
   "id": "1bcde784",
   "metadata": {},
   "source": [
    "Calculate the ratio of rows with -1 values in the `ET_PupilLeft` column to the total number of rows."
   ]
  },
  {
   "cell_type": "code",
   "execution_count": null,
   "id": "7536edbc",
   "metadata": {},
   "outputs": [],
   "source": [
    "df_28_EYE[df_28_EYE['ET_PupilLeft'] == -1].shape[0] / df_28_EYE.shape[0]"
   ]
  },
  {
   "cell_type": "markdown",
   "id": "ed84d038",
   "metadata": {},
   "source": [
    "Calculate the ratio of rows with -1 values in the `ET_PupilRight` column to the total number of rows."
   ]
  },
  {
   "cell_type": "code",
   "execution_count": null,
   "id": "306bbec5",
   "metadata": {},
   "outputs": [],
   "source": [
    "df_28_EYE[df_28_EYE['ET_PupilRight'] == -1].shape[0] / df_28_EYE.shape[0]"
   ]
  },
  {
   "cell_type": "markdown",
   "id": "f3530697",
   "metadata": {},
   "source": [
    "Visualize the distribution of -1 values specifically for rows where validity is 1 (invalid data)."
   ]
  },
  {
   "cell_type": "code",
   "execution_count": null,
   "id": "f751ea6d",
   "metadata": {},
   "outputs": [],
   "source": [
    "plt.figure(figsize=(18, 8))\n",
    "\n",
    "plt.subplot(1, 2, 1)\n",
    "sns.heatmap(df_28_EYE[df_28_EYE['ET_ValidityLeft'] == 1] == -1, cmap='viridis')\n",
    "plt.title('Heatmap of -1 Values')\n",
    "\n",
    "plt.subplot(1, 2, 2)\n",
    "sns.heatmap(df_28_EYE[df_28_EYE['ET_ValidityRight'] == 1] == -1, cmap='viridis')\n",
    "plt.title('Heatmap of -1 Values')\n",
    "\n",
    "plt.tight_layout()\n",
    "plt.show()"
   ]
  },
  {
   "cell_type": "markdown",
   "id": "e3862c63",
   "metadata": {},
   "source": [
    "# Notes & Observations\n",
    "\n",
    "- The heatmaps reveal the distribution of -1 values across different columns.\n",
    "- It is evident that the `-1` values are not randomly scattered but appear in specific columns, notably `ET_GazeLeftx`, `ET_GazeLefty`, `ET_GazeRightx`, `ET_GazeRighty`, `ET_PupilLeft`, `ET_PupilRight`, `ET_DistanceLeft`, `ET_DistanceRight`, `ET_CameraLeftX`, `ET_CameraLeftY`, `ET_CameraRightX`, and `ET_CameraRightY`.\n",
    "- These `-1` values often coincide with instances where `ET_ValidityLeft` or `ET_ValidityRight` is 1, indicating invalid eye-tracking data. This suggests that `-1` is used as a placeholder for missing or invalid measurements in these columns when the eye tracker is not providing valid data for a particular eye.\n",
    "- Given that over 70% of the data in the `ET_PupilLeft` and `ET_PupilRight` columns is marked as invalid (-1), these columns may not be suitable for analysis and could be considered for dropping."
   ]
  },
  {
   "cell_type": "markdown",
   "id": "530fb8de",
   "metadata": {},
   "source": [
    "Drop the `ET_PupilLeft` and `ET_PupilRight` columns due to the high percentage of invalid data."
   ]
  },
  {
   "cell_type": "code",
   "execution_count": null,
   "id": "0a083917",
   "metadata": {},
   "outputs": [],
   "source": [
    "df_28_EYE.drop(['ET_PupilLeft', 'ET_PupilRight'], axis=1, inplace=True)"
   ]
  },
  {
   "cell_type": "markdown",
   "id": "a8fd9780",
   "metadata": {},
   "source": [
    "Display the first few rows after dropping the pupil columns."
   ]
  },
  {
   "cell_type": "code",
   "execution_count": null,
   "id": "6ba9ba7a",
   "metadata": {},
   "outputs": [],
   "source": [
    "df_28_EYE.head()"
   ]
  },
  {
   "cell_type": "markdown",
   "id": "f4a4edfc",
   "metadata": {},
   "source": [
    "Visualize the distribution of -1 and 1 values again after dropping the pupil columns."
   ]
  },
  {
   "cell_type": "code",
   "execution_count": null,
   "id": "13d3bacc",
   "metadata": {},
   "outputs": [],
   "source": [
    "plt.figure(figsize=(18, 8))\n",
    "\n",
    "plt.subplot(1, 2, 1)\n",
    "sns.heatmap(df_28_EYE == -1, cmap='viridis')\n",
    "plt.title('Heatmap of -1 Values')\n",
    "\n",
    "plt.subplot(1, 2, 2)\n",
    "sns.heatmap(df_28_EYE == 1, cmap='viridis')\n",
    "plt.title('Heatmap of -1 Values')\n",
    "\n",
    "plt.tight_layout()\n",
    "plt.show()"
   ]
  },
  {
   "cell_type": "markdown",
   "id": "e3577265",
   "metadata": {},
   "source": [
    "Calculate the ratio of valid data points for the left eye."
   ]
  },
  {
   "cell_type": "code",
   "execution_count": null,
   "id": "89c7c186",
   "metadata": {},
   "outputs": [],
   "source": [
    "valid_left_ratio  = 1 - df_28_EYE['ET_ValidityLeft'].mean()"
   ]
  },
  {
   "cell_type": "markdown",
   "id": "da8892dd",
   "metadata": {},
   "source": [
    "Display the ratio of valid data points for the left eye."
   ]
  },
  {
   "cell_type": "code",
   "execution_count": null,
   "id": "5743dca3",
   "metadata": {},
   "outputs": [],
   "source": [
    "valid_left_ratio"
   ]
  },
  {
   "cell_type": "markdown",
   "id": "7f996b1f",
   "metadata": {},
   "source": [
    "Calculate the ratio of valid data points for the right eye."
   ]
  },
  {
   "cell_type": "code",
   "execution_count": null,
   "id": "b7910b1d",
   "metadata": {},
   "outputs": [],
   "source": [
    "valid_right_ratio = 1 - df_28_EYE['ET_ValidityRight'].mean()"
   ]
  },
  {
   "cell_type": "markdown",
   "id": "6c5d4ebc",
   "metadata": {},
   "source": [
    "Display the ratio of valid data points for the right eye."
   ]
  },
  {
   "cell_type": "code",
   "execution_count": null,
   "id": "36f6bb99",
   "metadata": {},
   "outputs": [],
   "source": [
    "valid_right_ratio"
   ]
  },
  {
   "cell_type": "markdown",
   "id": "c799186f",
   "metadata": {},
   "source": [
    "Display the first few rows of the DataFrame."
   ]
  },
  {
   "cell_type": "code",
   "execution_count": null,
   "id": "27d1f4f4",
   "metadata": {},
   "outputs": [],
   "source": [
    "df_28_EYE.head()"
   ]
  },
  {
   "cell_type": "markdown",
   "id": "fe3b93f0",
   "metadata": {},
   "source": [
    "Visualize the distributions of numeric columns using histograms with Kernel Density Estimate (KDE) plots. This helps understand the shape and spread of the data in each numeric column."
   ]
  },
  {
   "cell_type": "code",
   "execution_count": null,
   "id": "d5a89cb1",
   "metadata": {},
   "outputs": [],
   "source": [
    "# Select only the numeric columns for plotting histograms, excluding time-related columns\n",
    "numeric_cols = df_28_EYE.select_dtypes(include=np.number).columns\n",
    "cols_to_plot = [col for col in numeric_cols if col not in ['UnixTime']]\n",
    "\n",
    "# Calculate the number of rows and columns for the grid\n",
    "n_cols = 4  # You can adjust the number of columns as needed\n",
    "n_rows = (len(cols_to_plot) + n_cols - 1) // n_cols\n",
    "\n",
    "plt.figure(figsize=(n_cols * 5, n_rows * 4)) # Adjust figure size as needed\n",
    "\n",
    "for i, col in enumerate(cols_to_plot):\n",
    "    plt.subplot(n_rows, n_cols, i + 1)\n",
    "    sns.histplot(df_28_EYE[col], kde=True)\n",
    "    plt.title(f'Distribution of {col}')\n",
    "    plt.xlabel(col)\n",
    "    plt.ylabel('Frequency')\n",
    "\n",
    "plt.tight_layout()\n",
    "plt.show()"
   ]
  },
  {
   "cell_type": "markdown",
   "id": "8cf2fa2a",
   "metadata": {},
   "source": [
    "List the names of the columns in the DataFrame."
   ]
  },
  {
   "cell_type": "code",
   "execution_count": null,
   "id": "95d95413",
   "metadata": {},
   "outputs": [],
   "source": [
    "df_28_EYE.columns"
   ]
  },
  {
   "cell_type": "markdown",
   "id": "14ba6fc3",
   "metadata": {},
   "source": [
    "Define a list of columns to be plotted over time."
   ]
  },
  {
   "cell_type": "code",
   "execution_count": null,
   "id": "81196804",
   "metadata": {},
   "outputs": [],
   "source": [
    "cols = ['ET_GazeLeftx', 'ET_GazeLefty',\n",
    "       'ET_GazeRightx', 'ET_GazeRighty', 'ET_TimeSignal', 'ET_DistanceLeft',\n",
    "       'ET_DistanceRight', 'ET_CameraLeftX', 'ET_CameraLeftY',\n",
    "       'ET_CameraRightX', 'ET_CameraRightY', 'ET_ValidityLeft',\n",
    "       'ET_ValidityRight']"
   ]
  },
  {
   "cell_type": "markdown",
   "id": "9fadd64b",
   "metadata": {},
   "source": [
    "Plot each of the selected columns against the timestamp to visualize their trends and patterns over time. Markdown cells are added before each plot for better readability."
   ]
  },
  {
   "cell_type": "code",
   "execution_count": null,
   "id": "e7c59299",
   "metadata": {},
   "outputs": [],
   "source": [
    "from IPython.display import display, Markdown\n",
    "\n",
    "for col in cols:\n",
    "    # Add a markdown cell before each plot for better separation and labeling\n",
    "    display(Markdown(f'### {col} over Time'))\n",
    "    plt.figure(figsize=(16, 10))\n",
    "    plt.plot(df_28_EYE['Timestamp'], df_28_EYE[col])\n",
    "    plt.xlabel(\"Timestamp\") # Add x-axis label\n",
    "    plt.ylabel(col) # Add y-axis label\n",
    "    plt.show()"
   ]
  },
  {
   "cell_type": "markdown",
   "id": "13677bb7",
   "metadata": {},
   "source": [
    "Visualize the distributions of numeric columns using boxplots. This helps identify potential outliers and the spread of the data."
   ]
  },
  {
   "cell_type": "code",
   "execution_count": null,
   "id": "52ea6f08",
   "metadata": {},
   "outputs": [],
   "source": [
    "# Select only the numeric columns for plotting histograms, excluding time-related columns\n",
    "numeric_cols = df_28_EYE.select_dtypes(include=np.number).columns\n",
    "\n",
    "# Calculate the number of rows and columns for the grid\n",
    "n_cols = 4  # You can adjust the number of columns as needed\n",
    "n_rows = (len(numeric_cols) + n_cols - 1) // n_cols\n",
    "\n",
    "plt.figure(figsize=(n_cols * 5, n_rows * 4)) # Adjust figure size as needed\n",
    "\n",
    "for i, col in enumerate(numeric_cols):\n",
    "    plt.subplot(n_rows, n_cols, i + 1)\n",
    "    sns.boxplot(df_28_EYE[col])\n",
    "    plt.title(f'Boxplot of {col}')\n",
    "    plt.xlabel(col)\n",
    "\n",
    "plt.tight_layout()\n",
    "plt.show()"
   ]
  },
  {
   "cell_type": "markdown",
   "id": "243cf2d0",
   "metadata": {},
   "source": [
    "Replace the placeholder value -1 with NaN (Not a Number) in the DataFrame. This is done before imputation."
   ]
  },
  {
   "cell_type": "code",
   "execution_count": null,
   "id": "118aca81",
   "metadata": {},
   "outputs": [],
   "source": [
    "df_28_EYE.replace({-1: np.nan}, inplace=True)"
   ]
  },
  {
   "cell_type": "markdown",
   "id": "7ec93900",
   "metadata": {},
   "source": [
    "Impute the missing values (NaN) in the numeric columns with the mean of each column."
   ]
  },
  {
   "cell_type": "code",
   "execution_count": null,
   "id": "6897aa8e",
   "metadata": {},
   "outputs": [],
   "source": [
    "numeric_cols = df_28_EYE.select_dtypes(include=np.number).columns\n",
    "\n",
    "for col in numeric_cols:\n",
    "    df_28_EYE[col].fillna(df_28_EYE[col].mean(), inplace=True)"
   ]
  },
  {
   "cell_type": "markdown",
   "id": "bf9a0cfa",
   "metadata": {},
   "source": [
    "Display the first few rows after imputing missing values."
   ]
  },
  {
   "cell_type": "code",
   "execution_count": null,
   "id": "2357ea27",
   "metadata": {},
   "outputs": [],
   "source": [
    "df_28_EYE.head()"
   ]
  },
  {
   "cell_type": "markdown",
   "id": "1cd14cee",
   "metadata": {},
   "source": [
    "Visualize the distributions of numeric columns again using histograms with KDE plots after imputation. This helps assess the impact of imputation on the data distributions."
   ]
  },
  {
   "cell_type": "code",
   "execution_count": null,
   "id": "7f667554",
   "metadata": {},
   "outputs": [],
   "source": [
    "# Select only the numeric columns for plotting histograms, excluding time-related columns\n",
    "numeric_cols = df_28_EYE.select_dtypes(include=np.number).columns\n",
    "cols_to_plot = [col for col in numeric_cols if col not in ['UnixTime']]\n",
    "\n",
    "# Calculate the number of rows and columns for the grid\n",
    "n_cols = 4  # You can adjust the number of columns as needed\n",
    "n_rows = (len(cols_to_plot) + n_cols - 1) // n_cols\n",
    "\n",
    "plt.figure(figsize=(n_cols * 5, n_rows * 4)) # Adjust figure size as needed\n",
    "\n",
    "for i, col in enumerate(cols_to_plot):\n",
    "    plt.subplot(n_rows, n_cols, i + 1)\n",
    "    sns.histplot(df_28_EYE[col], kde=True)\n",
    "    plt.title(f'Distribution of {col}')\n",
    "    plt.xlabel(col)\n",
    "    plt.ylabel('Frequency')\n",
    "\n",
    "plt.tight_layout()\n",
    "plt.show()"
   ]
  },
  {
   "cell_type": "code",
   "execution_count": null,
   "id": "0d82389c",
   "metadata": {},
   "outputs": [],
   "source": []
  },
  {
   "cell_type": "markdown",
   "id": "26f0765d",
   "metadata": {},
   "source": [
    "## Student 29"
   ]
  },
  {
   "cell_type": "code",
   "execution_count": null,
   "id": "2b793cf3",
   "metadata": {},
   "outputs": [],
   "source": [
    "%load_ext cudf"
   ]
  },
  {
   "cell_type": "code",
   "execution_count": null,
   "id": "0124f72d",
   "metadata": {},
   "outputs": [],
   "source": [
    "import numpy as np\n",
    "import pandas as pd\n",
    "import matplotlib.pyplot as plt\n",
    "import seaborn as sns"
   ]
  },
  {
   "cell_type": "code",
   "execution_count": null,
   "id": "3279088a",
   "metadata": {},
   "outputs": [],
   "source": [
    "import datashader as ds\n",
    "import datashader.transfer_functions as tf"
   ]
  },
  {
   "cell_type": "code",
   "execution_count": null,
   "id": "9c94042b",
   "metadata": {},
   "outputs": [],
   "source": [
    "pd.set_option('display.max_columns', None)"
   ]
  },
  {
   "cell_type": "code",
   "execution_count": null,
   "id": "e3022de1",
   "metadata": {},
   "outputs": [],
   "source": [
    "df_29_EYE = pd.read_csv('data/STData/29/29_EYE.csv')"
   ]
  },
  {
   "cell_type": "code",
   "execution_count": null,
   "id": "e988358c",
   "metadata": {},
   "outputs": [],
   "source": [
    "df_29_EYE.head()"
   ]
  },
  {
   "cell_type": "code",
   "execution_count": null,
   "id": "e6099dad",
   "metadata": {},
   "outputs": [],
   "source": [
    "df_29_EYE.shape"
   ]
  },
  {
   "cell_type": "code",
   "execution_count": null,
   "id": "067daac5",
   "metadata": {},
   "outputs": [],
   "source": [
    "df_29_EYE.columns"
   ]
  },
  {
   "cell_type": "code",
   "execution_count": null,
   "id": "2d387c70",
   "metadata": {},
   "outputs": [],
   "source": [
    "df_29_EYE.info()"
   ]
  },
  {
   "cell_type": "code",
   "execution_count": null,
   "id": "d18efa45",
   "metadata": {},
   "outputs": [],
   "source": [
    "df_29_EYE.isnull().sum()"
   ]
  },
  {
   "cell_type": "code",
   "execution_count": null,
   "id": "ba0c46ff",
   "metadata": {},
   "outputs": [],
   "source": [
    "plt.figure(figsize=(12,8))\n",
    "sns.heatmap(df_29_EYE.isnull(), cmap='viridis')\n",
    "plt.show()"
   ]
  },
  {
   "cell_type": "markdown",
   "id": "180d5574",
   "metadata": {},
   "source": [
    "# Notes & Observations\n",
    "\n",
    "- We observe many **null** (or missing) values in the `QuestionKey` columns.  \n",
    "- The nulls in the `QuestionKey` column may not represent “true” nulls. Rather, they follow interval patterns, suggesting that during those periods no question was displayed.  \n",
    "- These missing values in `QuestionKey` require additional investigation and context-aware handling.  "
   ]
  },
  {
   "cell_type": "code",
   "execution_count": null,
   "id": "1807a2e7",
   "metadata": {},
   "outputs": [],
   "source": [
    "df_29_EYE['QuestionKey'].unique()"
   ]
  },
  {
   "cell_type": "code",
   "execution_count": null,
   "id": "e32067f6",
   "metadata": {},
   "outputs": [],
   "source": [
    "df_29_EYE['Timestamp'] = pd.to_datetime(df_29_EYE['Timestamp'])"
   ]
  },
  {
   "cell_type": "code",
   "execution_count": null,
   "id": "c2c6b2f0",
   "metadata": {},
   "outputs": [],
   "source": [
    "df_29_EYE.head(3)"
   ]
  },
  {
   "cell_type": "code",
   "execution_count": null,
   "id": "87a11cb9",
   "metadata": {},
   "outputs": [],
   "source": [
    "df_29_EYE['QuestionKey'].fillna('None', inplace=True)"
   ]
  },
  {
   "cell_type": "code",
   "execution_count": null,
   "id": "a90004cf",
   "metadata": {},
   "outputs": [],
   "source": [
    "df_29_EYE['QuestionKey'].value_counts()"
   ]
  },
  {
   "cell_type": "code",
   "execution_count": null,
   "id": "d8529246",
   "metadata": {},
   "outputs": [],
   "source": [
    "plt.figure(figsize=(12,8))\n",
    "sns.heatmap(df_29_EYE.isnull(), cmap='viridis')\n",
    "plt.show()"
   ]
  },
  {
   "cell_type": "code",
   "execution_count": null,
   "id": "3335bf32",
   "metadata": {},
   "outputs": [],
   "source": [
    "df_29_EYE.isnull().sum()"
   ]
  },
  {
   "cell_type": "code",
   "execution_count": null,
   "id": "80c1cfb7",
   "metadata": {},
   "outputs": [],
   "source": [
    "df_29_EYE.dropna(inplace=True)"
   ]
  },
  {
   "cell_type": "code",
   "execution_count": null,
   "id": "c7f6c46e",
   "metadata": {},
   "outputs": [],
   "source": [
    "df_29_EYE.head()"
   ]
  },
  {
   "cell_type": "code",
   "execution_count": null,
   "id": "9dbb96bf",
   "metadata": {},
   "outputs": [],
   "source": [
    "df_29_EYE['Row'].unique()"
   ]
  },
  {
   "cell_type": "code",
   "execution_count": null,
   "id": "ecc80d4b",
   "metadata": {},
   "outputs": [],
   "source": [
    "plt.figure(figsize=(8,6))\n",
    "sns.histplot(df_29_EYE['Row'])\n",
    "plt.show()"
   ]
  },
  {
   "cell_type": "markdown",
   "id": "3b99524b",
   "metadata": {},
   "source": [
    "# Notes & Observations\n",
    "\n",
    "- The `Row` column appears to be a simple row index and does not provide meaningful information relevant to the eye-tracking data itself. Therefore, it can be dropped."
   ]
  },
  {
   "cell_type": "code",
   "execution_count": null,
   "id": "6fcf6f45",
   "metadata": {},
   "outputs": [],
   "source": [
    "df_29_EYE.drop('Row', axis=1, inplace=True)"
   ]
  },
  {
   "cell_type": "code",
   "execution_count": null,
   "id": "5640199f",
   "metadata": {},
   "outputs": [],
   "source": [
    "df_29_EYE['ET_ValidityLeft'].unique()"
   ]
  },
  {
   "cell_type": "code",
   "execution_count": null,
   "id": "c22cecd9",
   "metadata": {},
   "outputs": [],
   "source": [
    "df_29_EYE['ET_ValidityLeft'].value_counts()"
   ]
  },
  {
   "cell_type": "code",
   "execution_count": null,
   "id": "62455f6c",
   "metadata": {},
   "outputs": [],
   "source": [
    "df_29_EYE['ET_ValidityRight'].unique()"
   ]
  },
  {
   "cell_type": "code",
   "execution_count": null,
   "id": "2a099696",
   "metadata": {},
   "outputs": [],
   "source": [
    "df_29_EYE['ET_ValidityRight'].value_counts()"
   ]
  },
  {
   "cell_type": "code",
   "execution_count": null,
   "id": "48d05df2",
   "metadata": {},
   "outputs": [],
   "source": [
    "plt.figure(figsize=(12, 6))\n",
    "\n",
    "plt.subplot(1, 2, 1)\n",
    "sns.barplot(x=df_29_EYE['ET_ValidityLeft'].value_counts().index, y=df_29_EYE['ET_ValidityLeft'].value_counts().values)\n",
    "plt.title('Count of ET_ValidityLeft')\n",
    "plt.xlabel('Validity')\n",
    "plt.ylabel('Count')\n",
    "\n",
    "\n",
    "plt.subplot(1, 2, 2)\n",
    "sns.barplot(x=df_29_EYE['ET_ValidityRight'].value_counts().index, y=df_29_EYE['ET_ValidityRight'].value_counts().values)\n",
    "plt.title('Count of ET_ValidityRight')\n",
    "plt.xlabel('Validity')\n",
    "plt.ylabel('Count')\n",
    "\n",
    "plt.tight_layout()\n",
    "plt.show()"
   ]
  },
  {
   "cell_type": "markdown",
   "id": "5f195f4f",
   "metadata": {},
   "source": [
    "# Notes & Observations\n",
    "\n",
    "- The `ET_ValidityLeft` and `ET_ValidityRight` columns indicate the validity of the eye-tracking data for the left and right eye, respectively.\n",
    "- Based on the value counts and the bar plots, it appears that a value of `0.0` represents valid eye-tracking data, while a value of `4.0` represents invalid data.\n",
    "- Although the amount of invalid data is relatively small, removing these rows could introduce unwanted patterns or gaps in the time series data.\n",
    "- Therefore, we will keep the data and replace the value `4.0` with `1.0` in both `ET_ValidityLeft` and `ET_ValidityRight` columns. This will indicate to a machine learning model that the eye tracker had invalid data at those specific points in time while maintaining the integrity of the time series."
   ]
  },
  {
   "cell_type": "code",
   "execution_count": null,
   "id": "c5a512dd",
   "metadata": {},
   "outputs": [],
   "source": [
    "validity_map = {4.0: 1.0, 0.0: 0.0}"
   ]
  },
  {
   "cell_type": "code",
   "execution_count": null,
   "id": "45fdf6fd",
   "metadata": {},
   "outputs": [],
   "source": [
    "df_29_EYE['ET_ValidityLeft'] = df_29_EYE['ET_ValidityLeft'].map(validity_map).astype(np.int8)\n",
    "df_29_EYE['ET_ValidityRight'] = df_29_EYE['ET_ValidityRight'].map(validity_map).astype(np.int8)"
   ]
  },
  {
   "cell_type": "code",
   "execution_count": null,
   "id": "bbc1ab35",
   "metadata": {},
   "outputs": [],
   "source": [
    "df_29_EYE.head(3)"
   ]
  },
  {
   "cell_type": "code",
   "execution_count": null,
   "id": "6ed76e7b",
   "metadata": {},
   "outputs": [],
   "source": [
    "df_29_EYE.describe()"
   ]
  },
  {
   "cell_type": "code",
   "execution_count": null,
   "id": "c3fa78bd",
   "metadata": {},
   "outputs": [],
   "source": [
    "df_29_EYE[df_29_EYE['ET_ValidityLeft'] == 1].shape"
   ]
  },
  {
   "cell_type": "code",
   "execution_count": null,
   "id": "2260897e",
   "metadata": {},
   "outputs": [],
   "source": [
    "df_29_EYE[df_29_EYE['ET_ValidityRight'] == 1].shape"
   ]
  },
  {
   "cell_type": "code",
   "execution_count": null,
   "id": "97e46898",
   "metadata": {},
   "outputs": [],
   "source": [
    "plt.figure(figsize=(18, 8))\n",
    "\n",
    "plt.subplot(1, 2, 1)\n",
    "sns.heatmap(df_29_EYE == -1, cmap='viridis')\n",
    "plt.title('Heatmap of -1 Values')\n",
    "\n",
    "plt.subplot(1, 2, 2)\n",
    "sns.heatmap(df_29_EYE == 1, cmap='viridis')\n",
    "plt.title('Heatmap of 1 Values')\n",
    "\n",
    "plt.tight_layout()\n",
    "plt.show()"
   ]
  },
  {
   "cell_type": "code",
   "execution_count": null,
   "id": "55b82023",
   "metadata": {},
   "outputs": [],
   "source": [
    "df_29_EYE[df_29_EYE['ET_PupilLeft'] == -1].shape"
   ]
  },
  {
   "cell_type": "code",
   "execution_count": null,
   "id": "883dc807",
   "metadata": {},
   "outputs": [],
   "source": [
    "df_29_EYE[df_29_EYE['ET_PupilRight'] == -1].shape"
   ]
  },
  {
   "cell_type": "code",
   "execution_count": null,
   "id": "bf43b83d",
   "metadata": {},
   "outputs": [],
   "source": [
    "df_29_EYE[df_29_EYE['ET_PupilLeft'] == -1].shape[0] / df_29_EYE.shape[0]"
   ]
  },
  {
   "cell_type": "code",
   "execution_count": null,
   "id": "3070e581",
   "metadata": {},
   "outputs": [],
   "source": [
    "df_29_EYE[df_29_EYE['ET_PupilRight'] == -1].shape[0] / df_29_EYE.shape[0]"
   ]
  },
  {
   "cell_type": "code",
   "execution_count": null,
   "id": "f6bb27f1",
   "metadata": {},
   "outputs": [],
   "source": [
    "plt.figure(figsize=(18, 8))\n",
    "\n",
    "plt.subplot(1, 2, 1)\n",
    "sns.heatmap(df_29_EYE[df_29_EYE['ET_ValidityLeft'] == 1] == -1, cmap='viridis')\n",
    "plt.title('Heatmap of -1 Values')\n",
    "\n",
    "plt.subplot(1, 2, 2)\n",
    "sns.heatmap(df_29_EYE[df_29_EYE['ET_ValidityRight'] == 1] == -1, cmap='viridis')\n",
    "plt.title('Heatmap of -1 Values')\n",
    "\n",
    "plt.tight_layout()\n",
    "plt.show()"
   ]
  },
  {
   "cell_type": "markdown",
   "id": "b18e9de9",
   "metadata": {},
   "source": [
    "# Notes & Observations\n",
    "\n",
    "- The heatmaps reveal the distribution of -1 values across different columns.\n",
    "- It is evident that the `-1` values are not randomly scattered but appear in specific columns, notably `ET_GazeLeftx`, `ET_GazeLefty`, `ET_GazeRightx`, `ET_GazeRighty`, `ET_PupilLeft`, `ET_PupilRight`, `ET_DistanceLeft`, `ET_DistanceRight`, `ET_CameraLeftX`, `ET_CameraLeftY`, `ET_CameraRightX`, and `ET_CameraRightY`.\n",
    "- These `-1` values often coincide with instances where `ET_ValidityLeft` or `ET_ValidityRight` is 1, indicating invalid eye-tracking data. This suggests that `-1` is used as a placeholder for missing or invalid measurements in these columns when the eye tracker is not providing valid data for a particular eye.\n",
    "- Given that over 70% of the data in the `ET_PupilLeft` and `ET_PupilRight` columns is marked as invalid (-1), these columns may not be suitable for analysis and could be considered for dropping."
   ]
  },
  {
   "cell_type": "code",
   "execution_count": null,
   "id": "960e66ee",
   "metadata": {},
   "outputs": [],
   "source": [
    "df_29_EYE.drop(['ET_PupilLeft', 'ET_PupilRight'], axis=1, inplace=True)"
   ]
  },
  {
   "cell_type": "code",
   "execution_count": null,
   "id": "5118e094",
   "metadata": {},
   "outputs": [],
   "source": [
    "df_29_EYE.head()"
   ]
  },
  {
   "cell_type": "code",
   "execution_count": null,
   "id": "386a223c",
   "metadata": {},
   "outputs": [],
   "source": [
    "plt.figure(figsize=(18, 8))\n",
    "\n",
    "plt.subplot(1, 2, 1)\n",
    "sns.heatmap(df_29_EYE == -1, cmap='viridis')\n",
    "plt.title('Heatmap of -1 Values')\n",
    "\n",
    "plt.subplot(1, 2, 2)\n",
    "sns.heatmap(df_29_EYE == 1, cmap='viridis')\n",
    "plt.title('Heatmap of -1 Values')\n",
    "\n",
    "plt.tight_layout()\n",
    "plt.show()"
   ]
  },
  {
   "cell_type": "code",
   "execution_count": null,
   "id": "bb7a6ef1",
   "metadata": {},
   "outputs": [],
   "source": [
    "valid_left_ratio  = 1 - df_29_EYE['ET_ValidityLeft'].mean()\n",
    "valid_right_ratio = 1 - df_29_EYE['ET_ValidityRight'].mean()"
   ]
  },
  {
   "cell_type": "code",
   "execution_count": null,
   "id": "64e5b0b5",
   "metadata": {},
   "outputs": [],
   "source": [
    "valid_left_ratio"
   ]
  },
  {
   "cell_type": "code",
   "execution_count": null,
   "id": "502b1bed",
   "metadata": {},
   "outputs": [],
   "source": [
    "valid_right_ratio"
   ]
  },
  {
   "cell_type": "code",
   "execution_count": null,
   "id": "28fa4d5d",
   "metadata": {},
   "outputs": [],
   "source": [
    "df_29_EYE.head()"
   ]
  },
  {
   "cell_type": "code",
   "execution_count": null,
   "id": "26c770b0",
   "metadata": {},
   "outputs": [],
   "source": [
    "# Select only the numeric columns for plotting histograms, excluding time-related columns\n",
    "numeric_cols = df_29_EYE.select_dtypes(include=np.number).columns\n",
    "cols_to_plot = [col for col in numeric_cols if col not in ['UnixTime']]\n",
    "\n",
    "# Calculate the number of rows and columns for the grid\n",
    "n_cols = 4  # You can adjust the number of columns as needed\n",
    "n_rows = (len(cols_to_plot) + n_cols - 1) // n_cols\n",
    "\n",
    "plt.figure(figsize=(n_cols * 5, n_rows * 4)) # Adjust figure size as needed\n",
    "\n",
    "for i, col in enumerate(cols_to_plot):\n",
    "    plt.subplot(n_rows, n_cols, i + 1)\n",
    "    sns.histplot(df_29_EYE[col], kde=True)\n",
    "    plt.title(f'Distribution of {col}')\n",
    "    plt.xlabel(col)\n",
    "    plt.ylabel('Frequency')\n",
    "\n",
    "plt.tight_layout()\n",
    "plt.show()"
   ]
  },
  {
   "cell_type": "code",
   "execution_count": null,
   "id": "2124b88f",
   "metadata": {},
   "outputs": [],
   "source": [
    "df_29_EYE.columns"
   ]
  },
  {
   "cell_type": "code",
   "execution_count": null,
   "id": "1c5825dd",
   "metadata": {},
   "outputs": [],
   "source": [
    "cols = ['ET_GazeLeftx', 'ET_GazeLefty',\n",
    "       'ET_GazeRightx', 'ET_GazeRighty', 'ET_TimeSignal', 'ET_DistanceLeft',\n",
    "       'ET_DistanceRight', 'ET_CameraLeftX', 'ET_CameraLeftY',\n",
    "       'ET_CameraRightX', 'ET_CameraRightY', 'ET_ValidityLeft',\n",
    "       'ET_ValidityRight']"
   ]
  },
  {
   "cell_type": "code",
   "execution_count": null,
   "id": "2edec991",
   "metadata": {},
   "outputs": [],
   "source": [
    "from IPython.display import display, Markdown\n",
    "\n",
    "for col in cols:\n",
    "    # Add a markdown cell before each plot for better separation and labeling\n",
    "    display(Markdown(f'### {col} over Time'))\n",
    "    plt.figure(figsize=(16, 10))\n",
    "    plt.plot(df_29_EYE['Timestamp'], df_29_EYE[col])\n",
    "    plt.xlabel(\"Timestamp\") # Add x-axis label\n",
    "    plt.ylabel(col) # Add y-axis label\n",
    "    plt.show()"
   ]
  },
  {
   "cell_type": "code",
   "execution_count": null,
   "id": "adf9a332",
   "metadata": {},
   "outputs": [],
   "source": [
    "# Select only the numeric columns for plotting histograms, excluding time-related columns\n",
    "numeric_cols = df_29_EYE.select_dtypes(include=np.number).columns\n",
    "\n",
    "# Calculate the number of rows and columns for the grid\n",
    "n_cols = 4  # You can adjust the number of columns as needed\n",
    "n_rows = (len(numeric_cols) + n_cols - 1) // n_cols\n",
    "\n",
    "plt.figure(figsize=(n_cols * 5, n_rows * 4)) # Adjust figure size as needed\n",
    "\n",
    "for i, col in enumerate(numeric_cols):\n",
    "    plt.subplot(n_rows, n_cols, i + 1)\n",
    "    sns.boxplot(df_29_EYE[col])\n",
    "    plt.title(f'Boxplot of {col}')\n",
    "    plt.xlabel(col)\n",
    "\n",
    "plt.tight_layout()\n",
    "plt.show()"
   ]
  },
  {
   "cell_type": "code",
   "execution_count": null,
   "id": "efdd9e30",
   "metadata": {},
   "outputs": [],
   "source": [
    "df_29_EYE.replace({-1: np.nan}, inplace=True)"
   ]
  },
  {
   "cell_type": "code",
   "execution_count": null,
   "id": "88958d14",
   "metadata": {},
   "outputs": [],
   "source": [
    "numeric_cols = df_29_EYE.select_dtypes(include=np.number).columns\n",
    "\n",
    "for col in numeric_cols:\n",
    "    df_29_EYE[col].fillna(df_29_EYE[col].mean(), inplace=True)"
   ]
  },
  {
   "cell_type": "code",
   "execution_count": null,
   "id": "361f86f7",
   "metadata": {},
   "outputs": [],
   "source": [
    "df_29_EYE.head()"
   ]
  },
  {
   "cell_type": "code",
   "execution_count": null,
   "id": "ce662521",
   "metadata": {},
   "outputs": [],
   "source": [
    "# Select only the numeric columns for plotting histograms, excluding time-related columns\n",
    "numeric_cols = df_29_EYE.select_dtypes(include=np.number).columns\n",
    "cols_to_plot = [col for col in numeric_cols if col not in ['UnixTime']]\n",
    "\n",
    "# Calculate the number of rows and columns for the grid\n",
    "n_cols = 4  # You can adjust the number of columns as needed\n",
    "n_rows = (len(cols_to_plot) + n_cols - 1) // n_cols\n",
    "\n",
    "plt.figure(figsize=(n_cols * 5, n_rows * 4)) # Adjust figure size as needed\n",
    "\n",
    "for i, col in enumerate(cols_to_plot):\n",
    "    plt.subplot(n_rows, n_cols, i + 1)\n",
    "    sns.histplot(df_29_EYE[col], kde=True)\n",
    "    plt.title(f'Distribution of {col}')\n",
    "    plt.xlabel(col)\n",
    "    plt.ylabel('Frequency')\n",
    "\n",
    "plt.tight_layout()\n",
    "plt.show()"
   ]
  },
  {
   "cell_type": "code",
   "execution_count": null,
   "id": "fb7d2b17",
   "metadata": {},
   "outputs": [],
   "source": []
  },
  {
   "cell_type": "code",
   "execution_count": null,
   "id": "db03c885",
   "metadata": {},
   "outputs": [],
   "source": []
  },
  {
   "cell_type": "code",
   "execution_count": null,
   "id": "5c31d33c",
   "metadata": {},
   "outputs": [],
   "source": []
  },
  {
   "cell_type": "code",
   "execution_count": null,
   "id": "4f73e64b",
   "metadata": {},
   "outputs": [],
   "source": []
  },
  {
   "cell_type": "code",
   "execution_count": null,
   "id": "9d9403db",
   "metadata": {},
   "outputs": [],
   "source": []
  },
  {
   "cell_type": "code",
   "execution_count": null,
   "id": "5d53fc17",
   "metadata": {},
   "outputs": [],
   "source": []
  },
  {
   "cell_type": "code",
   "execution_count": null,
   "id": "2555d1e3",
   "metadata": {},
   "outputs": [],
   "source": []
  },
  {
   "cell_type": "code",
   "execution_count": null,
   "id": "ac8d509c",
   "metadata": {},
   "outputs": [],
   "source": []
  },
  {
   "cell_type": "code",
   "execution_count": null,
   "id": "cd96ed8d",
   "metadata": {},
   "outputs": [],
   "source": []
  },
  {
   "cell_type": "code",
   "execution_count": null,
   "id": "d2c2da3e",
   "metadata": {},
   "outputs": [],
   "source": []
  },
  {
   "cell_type": "code",
   "execution_count": null,
   "id": "34754428",
   "metadata": {},
   "outputs": [],
   "source": []
  },
  {
   "cell_type": "code",
   "execution_count": null,
   "id": "8b030457",
   "metadata": {},
   "outputs": [],
   "source": []
  },
  {
   "cell_type": "markdown",
   "id": "39086d66",
   "metadata": {},
   "source": [
    "# Eye Tracking Data Analysis\n",
    "\n",
    "This notebook performs exploratory data analysis and cleaning on eye-tracking data.\n",
    "\n",
    "## Data Loading and Initial Inspection"
   ]
  },
  {
   "cell_type": "code",
   "execution_count": null,
   "id": "5b64f9e9",
   "metadata": {},
   "outputs": [],
   "source": [
    "%load_ext cudf"
   ]
  },
  {
   "cell_type": "markdown",
   "id": "7d18d1b9",
   "metadata": {},
   "source": [
    "Import necessary libraries for data manipulation, analysis, and visualization."
   ]
  },
  {
   "cell_type": "code",
   "execution_count": null,
   "id": "17e372bb",
   "metadata": {},
   "outputs": [],
   "source": [
    "import numpy as np\n",
    "import pandas as pd\n",
    "import matplotlib.pyplot as plt\n",
    "import seaborn as sns"
   ]
  },
  {
   "cell_type": "markdown",
   "id": "e371f529",
   "metadata": {},
   "source": [
    "Import libraries for datashader, which can be used for visualizing large datasets."
   ]
  },
  {
   "cell_type": "code",
   "execution_count": null,
   "id": "5980f1aa",
   "metadata": {},
   "outputs": [],
   "source": [
    "import datashader as ds\n",
    "import datashader.transfer_functions as tf"
   ]
  },
  {
   "cell_type": "markdown",
   "id": "4372ee00",
   "metadata": {},
   "source": [
    "Set pandas display options to show all columns."
   ]
  },
  {
   "cell_type": "code",
   "execution_count": null,
   "id": "abcab5b5",
   "metadata": {},
   "outputs": [],
   "source": [
    "pd.set_option('display.max_columns', None)"
   ]
  },
  {
   "cell_type": "markdown",
   "id": "3f3964a1",
   "metadata": {},
   "source": [
    "Load the eye-tracking data from the specified CSV file into a pandas DataFrame."
   ]
  },
  {
   "cell_type": "code",
   "execution_count": null,
   "id": "52c5fdd5",
   "metadata": {},
   "outputs": [],
   "source": [
    "df_29_EYE = pd.read_csv('data/STData/29/29_EYE.csv')"
   ]
  },
  {
   "cell_type": "markdown",
   "id": "4e47987f",
   "metadata": {},
   "source": [
    "Display the first few rows of the DataFrame to get an initial look at the data structure and content."
   ]
  },
  {
   "cell_type": "code",
   "execution_count": null,
   "id": "39fb3f06",
   "metadata": {},
   "outputs": [],
   "source": [
    "df_29_EYE.head()"
   ]
  },
  {
   "cell_type": "markdown",
   "id": "02b7ac31",
   "metadata": {},
   "source": [
    "Check the dimensions (number of rows and columns) of the DataFrame."
   ]
  },
  {
   "cell_type": "code",
   "execution_count": null,
   "id": "16c4a6d1",
   "metadata": {},
   "outputs": [],
   "source": [
    "df_29_EYE.shape"
   ]
  },
  {
   "cell_type": "markdown",
   "id": "9f94f79c",
   "metadata": {},
   "source": [
    "List the names of all columns in the DataFrame."
   ]
  },
  {
   "cell_type": "code",
   "execution_count": null,
   "id": "db70e915",
   "metadata": {},
   "outputs": [],
   "source": [
    "df_29_EYE.columns"
   ]
  },
  {
   "cell_type": "markdown",
   "id": "8989bc1e",
   "metadata": {},
   "source": [
    "Display concise information about the DataFrame, including the data types of each column and the number of non-null values. This helps identify columns with missing data."
   ]
  },
  {
   "cell_type": "code",
   "execution_count": null,
   "id": "c63b3b00",
   "metadata": {},
   "outputs": [],
   "source": [
    "df_29_EYE.info()"
   ]
  },
  {
   "cell_type": "markdown",
   "id": "3eb818ba",
   "metadata": {},
   "source": [
    "Calculate and display the number of missing values in each column."
   ]
  },
  {
   "cell_type": "code",
   "execution_count": null,
   "id": "050c86c2",
   "metadata": {},
   "outputs": [],
   "source": [
    "df_29_EYE.isnull().sum()"
   ]
  },
  {
   "cell_type": "markdown",
   "id": "f32f5882",
   "metadata": {},
   "source": [
    "Visualize the distribution of missing values using a heatmap. This provides a visual representation of which columns have missing data and the extent of missingness."
   ]
  },
  {
   "cell_type": "code",
   "execution_count": null,
   "id": "2a4fb419",
   "metadata": {},
   "outputs": [],
   "source": [
    "plt.figure(figsize=(12,8))\n",
    "sns.heatmap(df_29_EYE.isnull(), cmap='viridis')\n",
    "plt.show()"
   ]
  },
  {
   "cell_type": "markdown",
   "id": "9d446a98",
   "metadata": {},
   "source": [
    "# Notes & Observations\n",
    "\n",
    "- We observe many **null** (or missing) values in the `QuestionKey` columns.\n",
    "- The nulls in the `QuestionKey` column may not represent “true” nulls. Rather, they follow interval patterns, suggesting that during those periods no question was displayed.\n",
    "- These missing values in `QuestionKey` require additional investigation and context-aware handling."
   ]
  },
  {
   "cell_type": "markdown",
   "id": "0faefa01",
   "metadata": {},
   "source": [
    "Display the unique values in the `QuestionKey` column to understand the different types of questions or states recorded."
   ]
  },
  {
   "cell_type": "code",
   "execution_count": null,
   "id": "981254cf",
   "metadata": {},
   "outputs": [],
   "source": [
    "df_29_EYE['QuestionKey'].unique()"
   ]
  },
  {
   "cell_type": "markdown",
   "id": "73714cfc",
   "metadata": {},
   "source": [
    "Convert the `Timestamp` column to datetime objects. This is crucial for any time series analysis or manipulation."
   ]
  },
  {
   "cell_type": "code",
   "execution_count": null,
   "id": "1791e3cc",
   "metadata": {},
   "outputs": [],
   "source": [
    "df_29_EYE['Timestamp'] = pd.to_datetime(df_29_EYE['Timestamp'])"
   ]
  },
  {
   "cell_type": "markdown",
   "id": "5079a540",
   "metadata": {},
   "source": [
    "Display the first few rows again to see the effect of the timestamp conversion."
   ]
  },
  {
   "cell_type": "code",
   "execution_count": null,
   "id": "69bc070c",
   "metadata": {},
   "outputs": [],
   "source": [
    "df_29_EYE.head(3)"
   ]
  },
  {
   "cell_type": "markdown",
   "id": "af895a49",
   "metadata": {},
   "source": [
    "Fill the missing values in the `QuestionKey` column with the string 'None'. This helps to explicitly mark periods where no question was active."
   ]
  },
  {
   "cell_type": "code",
   "execution_count": null,
   "id": "b10c90df",
   "metadata": {},
   "outputs": [],
   "source": [
    "df_29_EYE['QuestionKey'].fillna('None', inplace=True)"
   ]
  },
  {
   "cell_type": "markdown",
   "id": "5cf4f091",
   "metadata": {},
   "source": [
    "Count the occurrences of each unique value in the `QuestionKey` column after filling missing values."
   ]
  },
  {
   "cell_type": "code",
   "execution_count": null,
   "id": "44d8f146",
   "metadata": {},
   "outputs": [],
   "source": [
    "df_29_EYE['QuestionKey'].value_counts()"
   ]
  },
  {
   "cell_type": "markdown",
   "id": "1c9c0d31",
   "metadata": {},
   "source": [
    "Display the heatmap of missing values again to confirm that the missing values in `QuestionKey` have been handled."
   ]
  },
  {
   "cell_type": "code",
   "execution_count": null,
   "id": "334521cd",
   "metadata": {},
   "outputs": [],
   "source": [
    "plt.figure(figsize=(12,8))\n",
    "sns.heatmap(df_29_EYE.isnull(), cmap='viridis')\n",
    "plt.show()"
   ]
  },
  {
   "cell_type": "markdown",
   "id": "9898c5c5",
   "metadata": {},
   "source": [
    "Recalculate and display the number of missing values per column to confirm the changes after handling `QuestionKey`."
   ]
  },
  {
   "cell_type": "code",
   "execution_count": null,
   "id": "96a33c97",
   "metadata": {},
   "outputs": [],
   "source": [
    "df_29_EYE.isnull().sum()"
   ]
  },
  {
   "cell_type": "markdown",
   "id": "844ecd26",
   "metadata": {},
   "source": [
    "Drop rows that still contain any missing values. This is done after handling `QuestionKey` separately."
   ]
  },
  {
   "cell_type": "code",
   "execution_count": null,
   "id": "d07dd61f",
   "metadata": {},
   "outputs": [],
   "source": [
    "df_29_EYE.dropna(inplace=True)"
   ]
  },
  {
   "cell_type": "markdown",
   "id": "cc924d7b",
   "metadata": {},
   "source": [
    "Display the first few rows after dropping rows with missing values."
   ]
  },
  {
   "cell_type": "code",
   "execution_count": null,
   "id": "a7153075",
   "metadata": {},
   "outputs": [],
   "source": [
    "df_29_EYE.head()"
   ]
  },
  {
   "cell_type": "markdown",
   "id": "feae36e0",
   "metadata": {},
   "source": [
    "Display the unique values in the `Row` column."
   ]
  },
  {
   "cell_type": "code",
   "execution_count": null,
   "id": "3b1841ab",
   "metadata": {},
   "outputs": [],
   "source": [
    "df_29_EYE['Row'].unique()"
   ]
  },
  {
   "cell_type": "markdown",
   "id": "d10f164f",
   "metadata": {},
   "source": [
    "Plot a histogram of the `Row` column to visualize its distribution."
   ]
  },
  {
   "cell_type": "code",
   "execution_count": null,
   "id": "a854e85f",
   "metadata": {},
   "outputs": [],
   "source": [
    "plt.figure(figsize=(8,6))\n",
    "sns.histplot(df_29_EYE['Row'])\n",
    "plt.show()"
   ]
  },
  {
   "cell_type": "markdown",
   "id": "dcc74679",
   "metadata": {},
   "source": [
    "# Notes & Observations\n",
    "\n",
    "- The `Row` column appears to be a simple row index and does not provide meaningful information relevant to the eye-tracking data itself. Therefore, it can be dropped."
   ]
  },
  {
   "cell_type": "markdown",
   "id": "74d9c319",
   "metadata": {},
   "source": [
    "Drop the `Row` column as it is not relevant for the analysis."
   ]
  },
  {
   "cell_type": "code",
   "execution_count": null,
   "id": "b0477f5c",
   "metadata": {},
   "outputs": [],
   "source": [
    "df_29_EYE.drop('Row', axis=1, inplace=True)"
   ]
  },
  {
   "cell_type": "markdown",
   "id": "298c4186",
   "metadata": {},
   "source": [
    "Display the unique values in the `ET_ValidityLeft` column."
   ]
  },
  {
   "cell_type": "code",
   "execution_count": null,
   "id": "a8ed6269",
   "metadata": {},
   "outputs": [],
   "source": [
    "df_29_EYE['ET_ValidityLeft'].unique()"
   ]
  },
  {
   "cell_type": "markdown",
   "id": "cf403ec5",
   "metadata": {},
   "source": [
    "Count the occurrences of each unique value in the `ET_ValidityLeft` column."
   ]
  },
  {
   "cell_type": "code",
   "execution_count": null,
   "id": "828194fe",
   "metadata": {},
   "outputs": [],
   "source": [
    "df_29_EYE['ET_ValidityLeft'].value_counts()"
   ]
  },
  {
   "cell_type": "markdown",
   "id": "18c29cef",
   "metadata": {},
   "source": [
    "Display the unique values in the `ET_ValidityRight` column."
   ]
  },
  {
   "cell_type": "code",
   "execution_count": null,
   "id": "80079e00",
   "metadata": {},
   "outputs": [],
   "source": [
    "df_29_EYE['ET_ValidityRight'].unique()"
   ]
  },
  {
   "cell_type": "markdown",
   "id": "151b0691",
   "metadata": {},
   "source": [
    "Count the occurrences of each unique value in the `ET_ValidityRight` column."
   ]
  },
  {
   "cell_type": "code",
   "execution_count": null,
   "id": "70c7e663",
   "metadata": {},
   "outputs": [],
   "source": [
    "df_29_EYE['ET_ValidityRight'].value_counts()"
   ]
  },
  {
   "cell_type": "markdown",
   "id": "af0b3273",
   "metadata": {},
   "source": [
    "Visualize the counts of valid and invalid data for both left and right eyes using bar plots."
   ]
  },
  {
   "cell_type": "code",
   "execution_count": null,
   "id": "0491bed9",
   "metadata": {},
   "outputs": [],
   "source": [
    "plt.figure(figsize=(12, 6))\n",
    "\n",
    "plt.subplot(1, 2, 1)\n",
    "sns.barplot(x=df_29_EYE['ET_ValidityLeft'].value_counts().index, y=df_29_EYE['ET_ValidityLeft'].value_counts().values)\n",
    "plt.title('Count of ET_ValidityLeft')\n",
    "plt.xlabel('Validity')\n",
    "plt.ylabel('Count')\n",
    "\n",
    "\n",
    "plt.subplot(1, 2, 2)\n",
    "sns.barplot(x=df_29_EYE['ET_ValidityRight'].value_counts().index, y=df_29_EYE['ET_ValidityRight'].value_counts().values)\n",
    "plt.title('Count of ET_ValidityRight')\n",
    "plt.xlabel('Validity')\n",
    "plt.ylabel('Count')\n",
    "\n",
    "plt.tight_layout()\n",
    "plt.show()"
   ]
  },
  {
   "cell_type": "markdown",
   "id": "0554a6ba",
   "metadata": {},
   "source": [
    "# Notes & Observations\n",
    "\n",
    "- The `ET_ValidityLeft` and `ET_ValidityRight` columns indicate the validity of the eye-tracking data for the left and right eye, respectively.\n",
    "- Based on the value counts and the bar plots, it appears that a value of `0.0` represents valid eye-tracking data, while a value of `4.0` represents invalid data.\n",
    "- Although the amount of invalid data is relatively small, removing these rows could introduce unwanted patterns or gaps in the time series data.\n",
    "- Therefore, we will keep the data and replace the value `4.0` with `1.0` in both `ET_ValidityLeft` and `ET_ValidityRight` columns. This will indicate to a machine learning model that the eye tracker had invalid data at those specific points in time while maintaining the integrity of the time series."
   ]
  },
  {
   "cell_type": "markdown",
   "id": "54ee45d0",
   "metadata": {},
   "source": [
    "Define a mapping to convert validity values from `0.0` and `4.0` to `0` and `1`."
   ]
  },
  {
   "cell_type": "code",
   "execution_count": null,
   "id": "8fbf8bcd",
   "metadata": {},
   "outputs": [],
   "source": [
    "validity_map = {4.0: 1.0, 0.0: 0.0}"
   ]
  },
  {
   "cell_type": "markdown",
   "id": "23e0615f",
   "metadata": {},
   "source": [
    "Apply the mapping to the `ET_ValidityLeft` and `ET_ValidityRight` columns and convert the data type to integer."
   ]
  },
  {
   "cell_type": "code",
   "execution_count": null,
   "id": "84389b4b",
   "metadata": {},
   "outputs": [],
   "source": [
    "df_29_EYE['ET_ValidityLeft'] = df_29_EYE['ET_ValidityLeft'].map(validity_map).astype(np.int8)\n",
    "df_29_EYE['ET_ValidityRight'] = df_29_EYE['ET_ValidityRight'].map(validity_map).astype(np.int8)"
   ]
  },
  {
   "cell_type": "markdown",
   "id": "ba53d907",
   "metadata": {},
   "source": [
    "Display the first few rows to see the updated validity columns."
   ]
  },
  {
   "cell_type": "code",
   "execution_count": null,
   "id": "397f85b5",
   "metadata": {},
   "outputs": [],
   "source": [
    "df_29_EYE.head(3)"
   ]
  },
  {
   "cell_type": "markdown",
   "id": "00a12f0c",
   "metadata": {},
   "source": [
    "Display descriptive statistics for the DataFrame, including count, mean, standard deviation, min, max, and quartiles for numeric columns."
   ]
  },
  {
   "cell_type": "code",
   "execution_count": null,
   "id": "d00507d3",
   "metadata": {},
   "outputs": [],
   "source": [
    "df_29_EYE.describe()"
   ]
  },
  {
   "cell_type": "markdown",
   "id": "4eff88ef",
   "metadata": {},
   "source": [
    "Check the number of rows where `ET_ValidityLeft` is 1 (invalid data for the left eye)."
   ]
  },
  {
   "cell_type": "code",
   "execution_count": null,
   "id": "08f265b2",
   "metadata": {},
   "outputs": [],
   "source": [
    "df_29_EYE[df_29_EYE['ET_ValidityLeft'] == 1].shape"
   ]
  },
  {
   "cell_type": "markdown",
   "id": "22301d7c",
   "metadata": {},
   "source": [
    "Check the number of rows where `ET_ValidityRight` is 1 (invalid data for the right eye)."
   ]
  },
  {
   "cell_type": "code",
   "execution_count": null,
   "id": "65c60c25",
   "metadata": {},
   "outputs": [],
   "source": [
    "df_29_EYE[df_29_EYE['ET_ValidityRight'] == 1].shape"
   ]
  },
  {
   "cell_type": "markdown",
   "id": "866b52b4",
   "metadata": {},
   "source": [
    "Visualize the distribution of -1 and 1 values across columns using heatmaps. This helps identify columns with placeholder or indicator values."
   ]
  },
  {
   "cell_type": "code",
   "execution_count": null,
   "id": "a7c8ab68",
   "metadata": {},
   "outputs": [],
   "source": [
    "plt.figure(figsize=(18, 8))\n",
    "\n",
    "plt.subplot(1, 2, 1)\n",
    "sns.heatmap(df_29_EYE == -1, cmap='viridis')\n",
    "plt.title('Heatmap of -1 Values')\n",
    "\n",
    "plt.subplot(1, 2, 2)\n",
    "sns.heatmap(df_29_EYE == 1, cmap='viridis')\n",
    "plt.title('Heatmap of 1 Values')\n",
    "\n",
    "plt.tight_layout()\n",
    "plt.show()"
   ]
  },
  {
   "cell_type": "markdown",
   "id": "d10838c4",
   "metadata": {},
   "source": [
    "Check the number of rows where `ET_PupilLeft` is -1."
   ]
  },
  {
   "cell_type": "code",
   "execution_count": null,
   "id": "f6dabf28",
   "metadata": {},
   "outputs": [],
   "source": [
    "df_29_EYE[df_29_EYE['ET_PupilLeft'] == -1].shape"
   ]
  },
  {
   "cell_type": "markdown",
   "id": "2bf48426",
   "metadata": {},
   "source": [
    "Check the number of rows where `ET_PupilRight` is -1."
   ]
  },
  {
   "cell_type": "code",
   "execution_count": null,
   "id": "ebc75657",
   "metadata": {},
   "outputs": [],
   "source": [
    "df_29_EYE[df_29_EYE['ET_PupilRight'] == -1].shape"
   ]
  },
  {
   "cell_type": "markdown",
   "id": "fba6b7ef",
   "metadata": {},
   "source": [
    "Calculate the ratio of rows with -1 values in the `ET_PupilLeft` column to the total number of rows."
   ]
  },
  {
   "cell_type": "code",
   "execution_count": null,
   "id": "08c6933e",
   "metadata": {},
   "outputs": [],
   "source": [
    "df_29_EYE[df_29_EYE['ET_PupilLeft'] == -1].shape[0] / df_29_EYE.shape[0]"
   ]
  },
  {
   "cell_type": "markdown",
   "id": "0c0f9dd5",
   "metadata": {},
   "source": [
    "Calculate the ratio of rows with -1 values in the `ET_PupilRight` column to the total number of rows."
   ]
  },
  {
   "cell_type": "code",
   "execution_count": null,
   "id": "1a5ae069",
   "metadata": {},
   "outputs": [],
   "source": [
    "df_29_EYE[df_29_EYE['ET_PupilRight'] == -1].shape[0] / df_29_EYE.shape[0]"
   ]
  },
  {
   "cell_type": "markdown",
   "id": "1cc84cf4",
   "metadata": {},
   "source": [
    "Visualize the distribution of -1 values specifically for rows where validity is 1 (invalid data)."
   ]
  },
  {
   "cell_type": "code",
   "execution_count": null,
   "id": "caaf9ec7",
   "metadata": {},
   "outputs": [],
   "source": [
    "plt.figure(figsize=(18, 8))\n",
    "\n",
    "plt.subplot(1, 2, 1)\n",
    "sns.heatmap(df_29_EYE[df_29_EYE['ET_ValidityLeft'] == 1] == -1, cmap='viridis')\n",
    "plt.title('Heatmap of -1 Values')\n",
    "\n",
    "plt.subplot(1, 2, 2)\n",
    "sns.heatmap(df_29_EYE[df_29_EYE['ET_ValidityRight'] == 1] == -1, cmap='viridis')\n",
    "plt.title('Heatmap of -1 Values')\n",
    "\n",
    "plt.tight_layout()\n",
    "plt.show()"
   ]
  },
  {
   "cell_type": "markdown",
   "id": "45ab8205",
   "metadata": {},
   "source": [
    "# Notes & Observations\n",
    "\n",
    "- The heatmaps reveal the distribution of -1 values across different columns.\n",
    "- It is evident that the `-1` values are not randomly scattered but appear in specific columns, notably `ET_GazeLeftx`, `ET_GazeLefty`, `ET_GazeRightx`, `ET_GazeRighty`, `ET_PupilLeft`, `ET_PupilRight`, `ET_DistanceLeft`, `ET_DistanceRight`, `ET_CameraLeftX`, `ET_CameraLeftY`, `ET_CameraRightX`, and `ET_CameraRightY`.\n",
    "- These `-1` values often coincide with instances where `ET_ValidityLeft` or `ET_ValidityRight` is 1, indicating invalid eye-tracking data. This suggests that `-1` is used as a placeholder for missing or invalid measurements in these columns when the eye tracker is not providing valid data for a particular eye.\n",
    "- Given that over 70% of the data in the `ET_PupilLeft` and `ET_PupilRight` columns is marked as invalid (-1), these columns may not be suitable for analysis and could be considered for dropping."
   ]
  },
  {
   "cell_type": "markdown",
   "id": "deb7ea9d",
   "metadata": {},
   "source": [
    "Drop the `ET_PupilLeft` and `ET_PupilRight` columns due to the high percentage of invalid data."
   ]
  },
  {
   "cell_type": "code",
   "execution_count": null,
   "id": "e6f1ef50",
   "metadata": {},
   "outputs": [],
   "source": [
    "df_29_EYE.drop(['ET_PupilLeft', 'ET_PupilRight'], axis=1, inplace=True)"
   ]
  },
  {
   "cell_type": "markdown",
   "id": "123d6e69",
   "metadata": {},
   "source": [
    "Display the first few rows after dropping the pupil columns."
   ]
  },
  {
   "cell_type": "code",
   "execution_count": null,
   "id": "08fd4acc",
   "metadata": {},
   "outputs": [],
   "source": [
    "df_29_EYE.head()"
   ]
  },
  {
   "cell_type": "markdown",
   "id": "dc9bface",
   "metadata": {},
   "source": [
    "Visualize the distribution of -1 and 1 values again after dropping the pupil columns."
   ]
  },
  {
   "cell_type": "code",
   "execution_count": null,
   "id": "bff78376",
   "metadata": {},
   "outputs": [],
   "source": [
    "plt.figure(figsize=(18, 8))\n",
    "\n",
    "plt.subplot(1, 2, 1)\n",
    "sns.heatmap(df_29_EYE == -1, cmap='viridis')\n",
    "plt.title('Heatmap of -1 Values')\n",
    "\n",
    "plt.subplot(1, 2, 2)\n",
    "sns.heatmap(df_29_EYE == 1, cmap='viridis')\n",
    "plt.title('Heatmap of -1 Values')\n",
    "\n",
    "plt.tight_layout()\n",
    "plt.show()"
   ]
  },
  {
   "cell_type": "markdown",
   "id": "a43f00ba",
   "metadata": {},
   "source": [
    "Calculate the ratio of valid data points for the left eye."
   ]
  },
  {
   "cell_type": "code",
   "execution_count": null,
   "id": "d30d8a5c",
   "metadata": {},
   "outputs": [],
   "source": [
    "valid_left_ratio  = 1 - df_29_EYE['ET_ValidityLeft'].mean()"
   ]
  },
  {
   "cell_type": "markdown",
   "id": "1dfa1f77",
   "metadata": {},
   "source": [
    "Display the ratio of valid data points for the left eye."
   ]
  },
  {
   "cell_type": "code",
   "execution_count": null,
   "id": "81523686",
   "metadata": {},
   "outputs": [],
   "source": [
    "valid_left_ratio"
   ]
  },
  {
   "cell_type": "markdown",
   "id": "466b3127",
   "metadata": {},
   "source": [
    "Calculate the ratio of valid data points for the right eye."
   ]
  },
  {
   "cell_type": "code",
   "execution_count": null,
   "id": "596e5109",
   "metadata": {},
   "outputs": [],
   "source": [
    "valid_right_ratio = 1 - df_29_EYE['ET_ValidityRight'].mean()"
   ]
  },
  {
   "cell_type": "markdown",
   "id": "3b5c85b2",
   "metadata": {},
   "source": [
    "Display the ratio of valid data points for the right eye."
   ]
  },
  {
   "cell_type": "code",
   "execution_count": null,
   "id": "8a8eb209",
   "metadata": {},
   "outputs": [],
   "source": [
    "valid_right_ratio"
   ]
  },
  {
   "cell_type": "markdown",
   "id": "7c5dc540",
   "metadata": {},
   "source": [
    "Display the first few rows of the DataFrame."
   ]
  },
  {
   "cell_type": "code",
   "execution_count": null,
   "id": "68f011a0",
   "metadata": {},
   "outputs": [],
   "source": [
    "df_29_EYE.head()"
   ]
  },
  {
   "cell_type": "markdown",
   "id": "b9dc0b4c",
   "metadata": {},
   "source": [
    "Visualize the distributions of numeric columns using histograms with Kernel Density Estimate (KDE) plots. This helps understand the shape and spread of the data in each numeric column."
   ]
  },
  {
   "cell_type": "code",
   "execution_count": null,
   "id": "2fc23e9e",
   "metadata": {},
   "outputs": [],
   "source": [
    "# Select only the numeric columns for plotting histograms, excluding time-related columns\n",
    "numeric_cols = df_29_EYE.select_dtypes(include=np.number).columns\n",
    "cols_to_plot = [col for col in numeric_cols if col not in ['UnixTime']]\n",
    "\n",
    "# Calculate the number of rows and columns for the grid\n",
    "n_cols = 4  # You can adjust the number of columns as needed\n",
    "n_rows = (len(cols_to_plot) + n_cols - 1) // n_cols\n",
    "\n",
    "plt.figure(figsize=(n_cols * 5, n_rows * 4)) # Adjust figure size as needed\n",
    "\n",
    "for i, col in enumerate(cols_to_plot):\n",
    "    plt.subplot(n_rows, n_cols, i + 1)\n",
    "    sns.histplot(df_29_EYE[col], kde=True)\n",
    "    plt.title(f'Distribution of {col}')\n",
    "    plt.xlabel(col)\n",
    "    plt.ylabel('Frequency')\n",
    "\n",
    "plt.tight_layout()\n",
    "plt.show()"
   ]
  },
  {
   "cell_type": "markdown",
   "id": "0489ccb2",
   "metadata": {},
   "source": [
    "List the names of the columns in the DataFrame."
   ]
  },
  {
   "cell_type": "code",
   "execution_count": null,
   "id": "7a4e34ee",
   "metadata": {},
   "outputs": [],
   "source": [
    "df_29_EYE.columns"
   ]
  },
  {
   "cell_type": "markdown",
   "id": "4c84fef4",
   "metadata": {},
   "source": [
    "Define a list of columns to be plotted over time."
   ]
  },
  {
   "cell_type": "code",
   "execution_count": null,
   "id": "a2656347",
   "metadata": {},
   "outputs": [],
   "source": [
    "cols = ['ET_GazeLeftx', 'ET_GazeLefty',\n",
    "       'ET_GazeRightx', 'ET_GazeRighty', 'ET_TimeSignal', 'ET_DistanceLeft',\n",
    "       'ET_DistanceRight', 'ET_CameraLeftX', 'ET_CameraLeftY',\n",
    "       'ET_CameraRightX', 'ET_CameraRightY', 'ET_ValidityLeft',\n",
    "       'ET_ValidityRight']"
   ]
  },
  {
   "cell_type": "markdown",
   "id": "7629eeb5",
   "metadata": {},
   "source": [
    "Plot each of the selected columns against the timestamp to visualize their trends and patterns over time. Markdown cells are added before each plot for better readability."
   ]
  },
  {
   "cell_type": "code",
   "execution_count": null,
   "id": "252f739a",
   "metadata": {},
   "outputs": [],
   "source": [
    "from IPython.display import display, Markdown\n",
    "\n",
    "for col in cols:\n",
    "    # Add a markdown cell before each plot for better separation and labeling\n",
    "    display(Markdown(f'### {col} over Time'))\n",
    "    plt.figure(figsize=(16, 10))\n",
    "    plt.plot(df_29_EYE['Timestamp'], df_29_EYE[col])\n",
    "    plt.xlabel(\"Timestamp\") # Add x-axis label\n",
    "    plt.ylabel(col) # Add y-axis label\n",
    "    plt.show()"
   ]
  },
  {
   "cell_type": "markdown",
   "id": "c6a6ca16",
   "metadata": {},
   "source": [
    "Visualize the distributions of numeric columns using boxplots. This helps identify potential outliers and the spread of the data."
   ]
  },
  {
   "cell_type": "code",
   "execution_count": null,
   "id": "38432fb6",
   "metadata": {},
   "outputs": [],
   "source": [
    "# Select only the numeric columns for plotting histograms, excluding time-related columns\n",
    "numeric_cols = df_29_EYE.select_dtypes(include=np.number).columns\n",
    "\n",
    "# Calculate the number of rows and columns for the grid\n",
    "n_cols = 4  # You can adjust the number of columns as needed\n",
    "n_rows = (len(numeric_cols) + n_cols - 1) // n_cols\n",
    "\n",
    "plt.figure(figsize=(n_cols * 5, n_rows * 4)) # Adjust figure size as needed\n",
    "\n",
    "for i, col in enumerate(numeric_cols):\n",
    "    plt.subplot(n_rows, n_cols, i + 1)\n",
    "    sns.boxplot(df_29_EYE[col])\n",
    "    plt.title(f'Boxplot of {col}')\n",
    "    plt.xlabel(col)\n",
    "\n",
    "plt.tight_layout()\n",
    "plt.show()"
   ]
  },
  {
   "cell_type": "markdown",
   "id": "7f8616c3",
   "metadata": {},
   "source": [
    "Replace the placeholder value -1 with NaN (Not a Number) in the DataFrame. This is done before imputation."
   ]
  },
  {
   "cell_type": "code",
   "execution_count": null,
   "id": "c00ccee3",
   "metadata": {},
   "outputs": [],
   "source": [
    "df_29_EYE.replace({-1: np.nan}, inplace=True)"
   ]
  },
  {
   "cell_type": "markdown",
   "id": "0c8b035d",
   "metadata": {},
   "source": [
    "Impute the missing values (NaN) in the numeric columns with the mean of each column."
   ]
  },
  {
   "cell_type": "code",
   "execution_count": null,
   "id": "f979c110",
   "metadata": {},
   "outputs": [],
   "source": [
    "numeric_cols = df_29_EYE.select_dtypes(include=np.number).columns\n",
    "\n",
    "for col in numeric_cols:\n",
    "    df_29_EYE[col].fillna(df_29_EYE[col].mean(), inplace=True)"
   ]
  },
  {
   "cell_type": "markdown",
   "id": "3e595701",
   "metadata": {},
   "source": [
    "Display the first few rows after imputing missing values."
   ]
  },
  {
   "cell_type": "code",
   "execution_count": null,
   "id": "df3794bf",
   "metadata": {},
   "outputs": [],
   "source": [
    "df_29_EYE.head()"
   ]
  },
  {
   "cell_type": "markdown",
   "id": "2f3b76a6",
   "metadata": {},
   "source": [
    "Visualize the distributions of numeric columns again using histograms with KDE plots after imputation. This helps assess the impact of imputation on the data distributions."
   ]
  },
  {
   "cell_type": "code",
   "execution_count": null,
   "id": "d2f416a2",
   "metadata": {},
   "outputs": [],
   "source": [
    "# Select only the numeric columns for plotting histograms, excluding time-related columns\n",
    "numeric_cols = df_29_EYE.select_dtypes(include=np.number).columns\n",
    "cols_to_plot = [col for col in numeric_cols if col not in ['UnixTime']]\n",
    "\n",
    "# Calculate the number of rows and columns for the grid\n",
    "n_cols = 4  # You can adjust the number of columns as needed\n",
    "n_rows = (len(cols_to_plot) + n_cols - 1) // n_cols\n",
    "\n",
    "plt.figure(figsize=(n_cols * 5, n_rows * 4)) # Adjust figure size as needed\n",
    "\n",
    "for i, col in enumerate(cols_to_plot):\n",
    "    plt.subplot(n_rows, n_cols, i + 1)\n",
    "    sns.histplot(df_29_EYE[col], kde=True)\n",
    "    plt.title(f'Distribution of {col}')\n",
    "    plt.xlabel(col)\n",
    "    plt.ylabel('Frequency')\n",
    "\n",
    "plt.tight_layout()\n",
    "plt.show()"
   ]
  },
  {
   "cell_type": "code",
   "execution_count": null,
   "id": "aa402a52",
   "metadata": {},
   "outputs": [],
   "source": []
  },
  {
   "cell_type": "markdown",
   "id": "0eb5340d",
   "metadata": {},
   "source": [
    "## Student 30"
   ]
  },
  {
   "cell_type": "code",
   "execution_count": null,
   "id": "61c62e90",
   "metadata": {},
   "outputs": [],
   "source": [
    "%load_ext cudf"
   ]
  },
  {
   "cell_type": "code",
   "execution_count": null,
   "id": "867683d9",
   "metadata": {},
   "outputs": [],
   "source": [
    "import numpy as np\n",
    "import pandas as pd\n",
    "import matplotlib.pyplot as plt\n",
    "import seaborn as sns"
   ]
  },
  {
   "cell_type": "code",
   "execution_count": null,
   "id": "6d142910",
   "metadata": {},
   "outputs": [],
   "source": [
    "import datashader as ds\n",
    "import datashader.transfer_functions as tf"
   ]
  },
  {
   "cell_type": "code",
   "execution_count": null,
   "id": "22065f0d",
   "metadata": {},
   "outputs": [],
   "source": [
    "pd.set_option('display.max_columns', None)"
   ]
  },
  {
   "cell_type": "code",
   "execution_count": null,
   "id": "f43f0ea6",
   "metadata": {},
   "outputs": [],
   "source": [
    "df_30_EYE = pd.read_csv('data/STData/30/30_EYE.csv')"
   ]
  },
  {
   "cell_type": "code",
   "execution_count": null,
   "id": "3946cb9e",
   "metadata": {},
   "outputs": [],
   "source": [
    "df_30_EYE.head()"
   ]
  },
  {
   "cell_type": "code",
   "execution_count": null,
   "id": "7b04960b",
   "metadata": {},
   "outputs": [],
   "source": [
    "df_30_EYE.shape"
   ]
  },
  {
   "cell_type": "code",
   "execution_count": null,
   "id": "e0f3ebd0",
   "metadata": {},
   "outputs": [],
   "source": [
    "df_30_EYE.columns"
   ]
  },
  {
   "cell_type": "code",
   "execution_count": null,
   "id": "c7e5351a",
   "metadata": {},
   "outputs": [],
   "source": [
    "df_30_EYE.info()"
   ]
  },
  {
   "cell_type": "code",
   "execution_count": null,
   "id": "d6676dfd",
   "metadata": {},
   "outputs": [],
   "source": [
    "df_30_EYE.isnull().sum()"
   ]
  },
  {
   "cell_type": "code",
   "execution_count": null,
   "id": "96b4d663",
   "metadata": {},
   "outputs": [],
   "source": [
    "plt.figure(figsize=(12,8))\n",
    "sns.heatmap(df_30_EYE.isnull(), cmap='viridis')\n",
    "plt.show()"
   ]
  },
  {
   "cell_type": "markdown",
   "id": "b6cce62e",
   "metadata": {},
   "source": [
    "# Notes & Observations\n",
    "\n",
    "- We observe many **null** (or missing) values in the `QuestionKey` columns.  \n",
    "- The nulls in the `QuestionKey` column may not represent “true” nulls. Rather, they follow interval patterns, suggesting that during those periods no question was displayed.  \n",
    "- These missing values in `QuestionKey` require additional investigation and context-aware handling.  "
   ]
  },
  {
   "cell_type": "code",
   "execution_count": null,
   "id": "b4bbb281",
   "metadata": {},
   "outputs": [],
   "source": [
    "df_30_EYE['QuestionKey'].unique()"
   ]
  },
  {
   "cell_type": "code",
   "execution_count": null,
   "id": "8202d151",
   "metadata": {},
   "outputs": [],
   "source": [
    "df_30_EYE['Timestamp'] = pd.to_datetime(df_30_EYE['Timestamp'])"
   ]
  },
  {
   "cell_type": "code",
   "execution_count": null,
   "id": "2d9c02f5",
   "metadata": {},
   "outputs": [],
   "source": [
    "df_30_EYE.head(3)"
   ]
  },
  {
   "cell_type": "code",
   "execution_count": null,
   "id": "f21e07ad",
   "metadata": {},
   "outputs": [],
   "source": [
    "df_30_EYE['QuestionKey'].fillna('None', inplace=True)"
   ]
  },
  {
   "cell_type": "code",
   "execution_count": null,
   "id": "a17e0f6d",
   "metadata": {},
   "outputs": [],
   "source": [
    "df_30_EYE['QuestionKey'].value_counts()"
   ]
  },
  {
   "cell_type": "code",
   "execution_count": null,
   "id": "35580e95",
   "metadata": {},
   "outputs": [],
   "source": [
    "plt.figure(figsize=(12,8))\n",
    "sns.heatmap(df_30_EYE.isnull(), cmap='viridis')\n",
    "plt.show()"
   ]
  },
  {
   "cell_type": "code",
   "execution_count": null,
   "id": "367972e1",
   "metadata": {},
   "outputs": [],
   "source": [
    "df_30_EYE.isnull().sum()"
   ]
  },
  {
   "cell_type": "code",
   "execution_count": null,
   "id": "04d4e827",
   "metadata": {},
   "outputs": [],
   "source": [
    "df_30_EYE.dropna(inplace=True)"
   ]
  },
  {
   "cell_type": "code",
   "execution_count": null,
   "id": "3111c628",
   "metadata": {},
   "outputs": [],
   "source": [
    "df_30_EYE.head()"
   ]
  },
  {
   "cell_type": "code",
   "execution_count": null,
   "id": "7abb15a5",
   "metadata": {},
   "outputs": [],
   "source": [
    "df_30_EYE['Row'].unique()"
   ]
  },
  {
   "cell_type": "code",
   "execution_count": null,
   "id": "b81b13b0",
   "metadata": {},
   "outputs": [],
   "source": [
    "plt.figure(figsize=(8,6))\n",
    "sns.histplot(df_30_EYE['Row'])\n",
    "plt.show()"
   ]
  },
  {
   "cell_type": "markdown",
   "id": "9787c30d",
   "metadata": {},
   "source": [
    "# Notes & Observations\n",
    "\n",
    "- The `Row` column appears to be a simple row index and does not provide meaningful information relevant to the eye-tracking data itself. Therefore, it can be dropped."
   ]
  },
  {
   "cell_type": "code",
   "execution_count": null,
   "id": "53845525",
   "metadata": {},
   "outputs": [],
   "source": [
    "df_30_EYE.drop('Row', axis=1, inplace=True)"
   ]
  },
  {
   "cell_type": "code",
   "execution_count": null,
   "id": "5aa6e6cb",
   "metadata": {},
   "outputs": [],
   "source": [
    "df_30_EYE['ET_ValidityLeft'].unique()"
   ]
  },
  {
   "cell_type": "code",
   "execution_count": null,
   "id": "0b1c65e4",
   "metadata": {},
   "outputs": [],
   "source": [
    "df_30_EYE['ET_ValidityLeft'].value_counts()"
   ]
  },
  {
   "cell_type": "code",
   "execution_count": null,
   "id": "11fb7b24",
   "metadata": {},
   "outputs": [],
   "source": [
    "df_30_EYE['ET_ValidityRight'].unique()"
   ]
  },
  {
   "cell_type": "code",
   "execution_count": null,
   "id": "20f6c11e",
   "metadata": {},
   "outputs": [],
   "source": [
    "df_30_EYE['ET_ValidityRight'].value_counts()"
   ]
  },
  {
   "cell_type": "code",
   "execution_count": null,
   "id": "fd10aab2",
   "metadata": {},
   "outputs": [],
   "source": [
    "plt.figure(figsize=(12, 6))\n",
    "\n",
    "plt.subplot(1, 2, 1)\n",
    "sns.barplot(x=df_30_EYE['ET_ValidityLeft'].value_counts().index, y=df_30_EYE['ET_ValidityLeft'].value_counts().values)\n",
    "plt.title('Count of ET_ValidityLeft')\n",
    "plt.xlabel('Validity')\n",
    "plt.ylabel('Count')\n",
    "\n",
    "\n",
    "plt.subplot(1, 2, 2)\n",
    "sns.barplot(x=df_30_EYE['ET_ValidityRight'].value_counts().index, y=df_30_EYE['ET_ValidityRight'].value_counts().values)\n",
    "plt.title('Count of ET_ValidityRight')\n",
    "plt.xlabel('Validity')\n",
    "plt.ylabel('Count')\n",
    "\n",
    "plt.tight_layout()\n",
    "plt.show()"
   ]
  },
  {
   "cell_type": "markdown",
   "id": "8af5e8b5",
   "metadata": {},
   "source": [
    "# Notes & Observations\n",
    "\n",
    "- The `ET_ValidityLeft` and `ET_ValidityRight` columns indicate the validity of the eye-tracking data for the left and right eye, respectively.\n",
    "- Based on the value counts and the bar plots, it appears that a value of `0.0` represents valid eye-tracking data, while a value of `4.0` represents invalid data.\n",
    "- Although the amount of invalid data is relatively small, removing these rows could introduce unwanted patterns or gaps in the time series data.\n",
    "- Therefore, we will keep the data and replace the value `4.0` with `1.0` in both `ET_ValidityLeft` and `ET_ValidityRight` columns. This will indicate to a machine learning model that the eye tracker had invalid data at those specific points in time while maintaining the integrity of the time series."
   ]
  },
  {
   "cell_type": "code",
   "execution_count": null,
   "id": "3b2ef2f9",
   "metadata": {},
   "outputs": [],
   "source": [
    "validity_map = {4.0: 1.0, 0.0: 0.0}"
   ]
  },
  {
   "cell_type": "code",
   "execution_count": null,
   "id": "1bb8663b",
   "metadata": {},
   "outputs": [],
   "source": [
    "df_30_EYE['ET_ValidityLeft'] = df_30_EYE['ET_ValidityLeft'].map(validity_map).astype(np.int8)\n",
    "df_30_EYE['ET_ValidityRight'] = df_30_EYE['ET_ValidityRight'].map(validity_map).astype(np.int8)"
   ]
  },
  {
   "cell_type": "code",
   "execution_count": null,
   "id": "caf29487",
   "metadata": {},
   "outputs": [],
   "source": [
    "df_30_EYE.head(3)"
   ]
  },
  {
   "cell_type": "code",
   "execution_count": null,
   "id": "64dc17cd",
   "metadata": {},
   "outputs": [],
   "source": [
    "df_30_EYE.describe()"
   ]
  },
  {
   "cell_type": "code",
   "execution_count": null,
   "id": "ee326dd7",
   "metadata": {},
   "outputs": [],
   "source": [
    "df_30_EYE[df_30_EYE['ET_ValidityLeft'] == 1].shape"
   ]
  },
  {
   "cell_type": "code",
   "execution_count": null,
   "id": "4c340353",
   "metadata": {},
   "outputs": [],
   "source": [
    "df_30_EYE[df_30_EYE['ET_ValidityRight'] == 1].shape"
   ]
  },
  {
   "cell_type": "code",
   "execution_count": null,
   "id": "16be3914",
   "metadata": {},
   "outputs": [],
   "source": [
    "plt.figure(figsize=(18, 8))\n",
    "\n",
    "plt.subplot(1, 2, 1)\n",
    "sns.heatmap(df_30_EYE == -1, cmap='viridis')\n",
    "plt.title('Heatmap of -1 Values')\n",
    "\n",
    "plt.subplot(1, 2, 2)\n",
    "sns.heatmap(df_30_EYE == 1, cmap='viridis')\n",
    "plt.title('Heatmap of 1 Values')\n",
    "\n",
    "plt.tight_layout()\n",
    "plt.show()"
   ]
  },
  {
   "cell_type": "code",
   "execution_count": null,
   "id": "0112bafb",
   "metadata": {},
   "outputs": [],
   "source": [
    "df_30_EYE[df_30_EYE['ET_PupilLeft'] == -1].shape"
   ]
  },
  {
   "cell_type": "code",
   "execution_count": null,
   "id": "0ad5c9a6",
   "metadata": {},
   "outputs": [],
   "source": [
    "df_30_EYE[df_30_EYE['ET_PupilRight'] == -1].shape"
   ]
  },
  {
   "cell_type": "code",
   "execution_count": null,
   "id": "801594d7",
   "metadata": {},
   "outputs": [],
   "source": [
    "df_30_EYE[df_30_EYE['ET_PupilLeft'] == -1].shape[0] / df_30_EYE.shape[0]"
   ]
  },
  {
   "cell_type": "code",
   "execution_count": null,
   "id": "b594be36",
   "metadata": {},
   "outputs": [],
   "source": [
    "df_30_EYE[df_30_EYE['ET_PupilRight'] == -1].shape[0] / df_30_EYE.shape[0]"
   ]
  },
  {
   "cell_type": "code",
   "execution_count": null,
   "id": "5c39527b",
   "metadata": {},
   "outputs": [],
   "source": [
    "plt.figure(figsize=(18, 8))\n",
    "\n",
    "plt.subplot(1, 2, 1)\n",
    "sns.heatmap(df_30_EYE[df_30_EYE['ET_ValidityLeft'] == 1] == -1, cmap='viridis')\n",
    "plt.title('Heatmap of -1 Values')\n",
    "\n",
    "plt.subplot(1, 2, 2)\n",
    "sns.heatmap(df_30_EYE[df_30_EYE['ET_ValidityRight'] == 1] == -1, cmap='viridis')\n",
    "plt.title('Heatmap of -1 Values')\n",
    "\n",
    "plt.tight_layout()\n",
    "plt.show()"
   ]
  },
  {
   "cell_type": "markdown",
   "id": "b4c0c946",
   "metadata": {},
   "source": [
    "# Notes & Observations\n",
    "\n",
    "- The heatmaps reveal the distribution of -1 values across different columns.\n",
    "- It is evident that the `-1` values are not randomly scattered but appear in specific columns, notably `ET_GazeLeftx`, `ET_GazeLefty`, `ET_GazeRightx`, `ET_GazeRighty`, `ET_PupilLeft`, `ET_PupilRight`, `ET_DistanceLeft`, `ET_DistanceRight`, `ET_CameraLeftX`, `ET_CameraLeftY`, `ET_CameraRightX`, and `ET_CameraRightY`.\n",
    "- These `-1` values often coincide with instances where `ET_ValidityLeft` or `ET_ValidityRight` is 1, indicating invalid eye-tracking data. This suggests that `-1` is used as a placeholder for missing or invalid measurements in these columns when the eye tracker is not providing valid data for a particular eye.\n",
    "- Given that over 70% of the data in the `ET_PupilLeft` and `ET_PupilRight` columns is marked as invalid (-1), these columns may not be suitable for analysis and could be considered for dropping."
   ]
  },
  {
   "cell_type": "code",
   "execution_count": null,
   "id": "7c667178",
   "metadata": {},
   "outputs": [],
   "source": [
    "df_30_EYE.drop(['ET_PupilLeft', 'ET_PupilRight'], axis=1, inplace=True)"
   ]
  },
  {
   "cell_type": "code",
   "execution_count": null,
   "id": "e54e0172",
   "metadata": {},
   "outputs": [],
   "source": [
    "df_30_EYE.head()"
   ]
  },
  {
   "cell_type": "code",
   "execution_count": null,
   "id": "f8ec0a68",
   "metadata": {},
   "outputs": [],
   "source": [
    "plt.figure(figsize=(18, 8))\n",
    "\n",
    "plt.subplot(1, 2, 1)\n",
    "sns.heatmap(df_30_EYE == -1, cmap='viridis')\n",
    "plt.title('Heatmap of -1 Values')\n",
    "\n",
    "plt.subplot(1, 2, 2)\n",
    "sns.heatmap(df_30_EYE == 1, cmap='viridis')\n",
    "plt.title('Heatmap of -1 Values')\n",
    "\n",
    "plt.tight_layout()\n",
    "plt.show()"
   ]
  },
  {
   "cell_type": "code",
   "execution_count": null,
   "id": "117e69b1",
   "metadata": {},
   "outputs": [],
   "source": [
    "valid_left_ratio  = 1 - df_30_EYE['ET_ValidityLeft'].mean()\n",
    "valid_right_ratio = 1 - df_30_EYE['ET_ValidityRight'].mean()"
   ]
  },
  {
   "cell_type": "code",
   "execution_count": null,
   "id": "2d90a714",
   "metadata": {},
   "outputs": [],
   "source": [
    "valid_left_ratio"
   ]
  },
  {
   "cell_type": "code",
   "execution_count": null,
   "id": "d7be1f29",
   "metadata": {},
   "outputs": [],
   "source": [
    "valid_right_ratio"
   ]
  },
  {
   "cell_type": "code",
   "execution_count": null,
   "id": "722554ff",
   "metadata": {},
   "outputs": [],
   "source": [
    "df_30_EYE.head()"
   ]
  },
  {
   "cell_type": "code",
   "execution_count": null,
   "id": "d21f0caa",
   "metadata": {},
   "outputs": [],
   "source": [
    "# Select only the numeric columns for plotting histograms, excluding time-related columns\n",
    "numeric_cols = df_30_EYE.select_dtypes(include=np.number).columns\n",
    "cols_to_plot = [col for col in numeric_cols if col not in ['UnixTime']]\n",
    "\n",
    "# Calculate the number of rows and columns for the grid\n",
    "n_cols = 4  # You can adjust the number of columns as needed\n",
    "n_rows = (len(cols_to_plot) + n_cols - 1) // n_cols\n",
    "\n",
    "plt.figure(figsize=(n_cols * 5, n_rows * 4)) # Adjust figure size as needed\n",
    "\n",
    "for i, col in enumerate(cols_to_plot):\n",
    "    plt.subplot(n_rows, n_cols, i + 1)\n",
    "    sns.histplot(df_30_EYE[col], kde=True)\n",
    "    plt.title(f'Distribution of {col}')\n",
    "    plt.xlabel(col)\n",
    "    plt.ylabel('Frequency')\n",
    "\n",
    "plt.tight_layout()\n",
    "plt.show()"
   ]
  },
  {
   "cell_type": "code",
   "execution_count": null,
   "id": "2c350c9c",
   "metadata": {},
   "outputs": [],
   "source": [
    "df_30_EYE.columns"
   ]
  },
  {
   "cell_type": "code",
   "execution_count": null,
   "id": "bcacbe0d",
   "metadata": {},
   "outputs": [],
   "source": [
    "cols = ['ET_GazeLeftx', 'ET_GazeLefty',\n",
    "       'ET_GazeRightx', 'ET_GazeRighty', 'ET_TimeSignal', 'ET_DistanceLeft',\n",
    "       'ET_DistanceRight', 'ET_CameraLeftX', 'ET_CameraLeftY',\n",
    "       'ET_CameraRightX', 'ET_CameraRightY', 'ET_ValidityLeft',\n",
    "       'ET_ValidityRight']"
   ]
  },
  {
   "cell_type": "code",
   "execution_count": null,
   "id": "65ca5143",
   "metadata": {},
   "outputs": [],
   "source": [
    "from IPython.display import display, Markdown\n",
    "\n",
    "for col in cols:\n",
    "    # Add a markdown cell before each plot for better separation and labeling\n",
    "    display(Markdown(f'### {col} over Time'))\n",
    "    plt.figure(figsize=(16, 10))\n",
    "    plt.plot(df_30_EYE['Timestamp'], df_30_EYE[col])\n",
    "    plt.xlabel(\"Timestamp\") # Add x-axis label\n",
    "    plt.ylabel(col) # Add y-axis label\n",
    "    plt.show()"
   ]
  },
  {
   "cell_type": "code",
   "execution_count": null,
   "id": "7c579509",
   "metadata": {},
   "outputs": [],
   "source": [
    "# Select only the numeric columns for plotting histograms, excluding time-related columns\n",
    "numeric_cols = df_30_EYE.select_dtypes(include=np.number).columns\n",
    "\n",
    "# Calculate the number of rows and columns for the grid\n",
    "n_cols = 4  # You can adjust the number of columns as needed\n",
    "n_rows = (len(numeric_cols) + n_cols - 1) // n_cols\n",
    "\n",
    "plt.figure(figsize=(n_cols * 5, n_rows * 4)) # Adjust figure size as needed\n",
    "\n",
    "for i, col in enumerate(numeric_cols):\n",
    "    plt.subplot(n_rows, n_cols, i + 1)\n",
    "    sns.boxplot(df_30_EYE[col])\n",
    "    plt.title(f'Boxplot of {col}')\n",
    "    plt.xlabel(col)\n",
    "\n",
    "plt.tight_layout()\n",
    "plt.show()"
   ]
  },
  {
   "cell_type": "code",
   "execution_count": null,
   "id": "b5f2ada2",
   "metadata": {},
   "outputs": [],
   "source": [
    "df_30_EYE.replace({-1: np.nan}, inplace=True)"
   ]
  },
  {
   "cell_type": "code",
   "execution_count": null,
   "id": "4a3adee4",
   "metadata": {},
   "outputs": [],
   "source": [
    "numeric_cols = df_30_EYE.select_dtypes(include=np.number).columns\n",
    "\n",
    "for col in numeric_cols:\n",
    "    df_30_EYE[col].fillna(df_30_EYE[col].mean(), inplace=True)"
   ]
  },
  {
   "cell_type": "code",
   "execution_count": null,
   "id": "2fe5c526",
   "metadata": {},
   "outputs": [],
   "source": [
    "df_30_EYE.head()"
   ]
  },
  {
   "cell_type": "code",
   "execution_count": null,
   "id": "7025b871",
   "metadata": {},
   "outputs": [],
   "source": [
    "# Select only the numeric columns for plotting histograms, excluding time-related columns\n",
    "numeric_cols = df_30_EYE.select_dtypes(include=np.number).columns\n",
    "cols_to_plot = [col for col in numeric_cols if col not in ['UnixTime']]\n",
    "\n",
    "# Calculate the number of rows and columns for the grid\n",
    "n_cols = 4  # You can adjust the number of columns as needed\n",
    "n_rows = (len(cols_to_plot) + n_cols - 1) // n_cols\n",
    "\n",
    "plt.figure(figsize=(n_cols * 5, n_rows * 4)) # Adjust figure size as needed\n",
    "\n",
    "for i, col in enumerate(cols_to_plot):\n",
    "    plt.subplot(n_rows, n_cols, i + 1)\n",
    "    sns.histplot(df_30_EYE[col], kde=True)\n",
    "    plt.title(f'Distribution of {col}')\n",
    "    plt.xlabel(col)\n",
    "    plt.ylabel('Frequency')\n",
    "\n",
    "plt.tight_layout()\n",
    "plt.show()"
   ]
  },
  {
   "cell_type": "code",
   "execution_count": null,
   "id": "46c37c06",
   "metadata": {},
   "outputs": [],
   "source": []
  },
  {
   "cell_type": "code",
   "execution_count": null,
   "id": "0807bbfa",
   "metadata": {},
   "outputs": [],
   "source": []
  },
  {
   "cell_type": "code",
   "execution_count": null,
   "id": "bcd0690a",
   "metadata": {},
   "outputs": [],
   "source": []
  },
  {
   "cell_type": "code",
   "execution_count": null,
   "id": "7c7d42cc",
   "metadata": {},
   "outputs": [],
   "source": []
  },
  {
   "cell_type": "code",
   "execution_count": null,
   "id": "c29b6556",
   "metadata": {},
   "outputs": [],
   "source": []
  },
  {
   "cell_type": "code",
   "execution_count": null,
   "id": "adaefc00",
   "metadata": {},
   "outputs": [],
   "source": []
  },
  {
   "cell_type": "code",
   "execution_count": null,
   "id": "75c5f83f",
   "metadata": {},
   "outputs": [],
   "source": []
  },
  {
   "cell_type": "code",
   "execution_count": null,
   "id": "d7e4e1ed",
   "metadata": {},
   "outputs": [],
   "source": []
  },
  {
   "cell_type": "code",
   "execution_count": null,
   "id": "59df5826",
   "metadata": {},
   "outputs": [],
   "source": []
  },
  {
   "cell_type": "code",
   "execution_count": null,
   "id": "0c4d5fea",
   "metadata": {},
   "outputs": [],
   "source": []
  },
  {
   "cell_type": "code",
   "execution_count": null,
   "id": "f9cc9c40",
   "metadata": {},
   "outputs": [],
   "source": []
  },
  {
   "cell_type": "code",
   "execution_count": null,
   "id": "b0e1fefe",
   "metadata": {},
   "outputs": [],
   "source": []
  },
  {
   "cell_type": "markdown",
   "id": "6da68da7",
   "metadata": {},
   "source": [
    "# Eye Tracking Data Analysis\n",
    "\n",
    "This notebook performs exploratory data analysis and cleaning on eye-tracking data.\n",
    "\n",
    "## Data Loading and Initial Inspection"
   ]
  },
  {
   "cell_type": "code",
   "execution_count": null,
   "id": "96332449",
   "metadata": {},
   "outputs": [],
   "source": [
    "%load_ext cudf"
   ]
  },
  {
   "cell_type": "markdown",
   "id": "26287a3b",
   "metadata": {},
   "source": [
    "Import necessary libraries for data manipulation, analysis, and visualization."
   ]
  },
  {
   "cell_type": "code",
   "execution_count": null,
   "id": "f4b6a132",
   "metadata": {},
   "outputs": [],
   "source": [
    "import numpy as np\n",
    "import pandas as pd\n",
    "import matplotlib.pyplot as plt\n",
    "import seaborn as sns"
   ]
  },
  {
   "cell_type": "markdown",
   "id": "0a85c8d8",
   "metadata": {},
   "source": [
    "Import libraries for datashader, which can be used for visualizing large datasets."
   ]
  },
  {
   "cell_type": "code",
   "execution_count": null,
   "id": "8836f10c",
   "metadata": {},
   "outputs": [],
   "source": [
    "import datashader as ds\n",
    "import datashader.transfer_functions as tf"
   ]
  },
  {
   "cell_type": "markdown",
   "id": "f539a322",
   "metadata": {},
   "source": [
    "Set pandas display options to show all columns."
   ]
  },
  {
   "cell_type": "code",
   "execution_count": null,
   "id": "a8b33b6a",
   "metadata": {},
   "outputs": [],
   "source": [
    "pd.set_option('display.max_columns', None)"
   ]
  },
  {
   "cell_type": "markdown",
   "id": "9fcfd21c",
   "metadata": {},
   "source": [
    "Load the eye-tracking data from the specified CSV file into a pandas DataFrame."
   ]
  },
  {
   "cell_type": "code",
   "execution_count": null,
   "id": "5be69973",
   "metadata": {},
   "outputs": [],
   "source": [
    "df_30_EYE = pd.read_csv('data/STData/30/30_EYE.csv')"
   ]
  },
  {
   "cell_type": "markdown",
   "id": "24d2d07b",
   "metadata": {},
   "source": [
    "Display the first few rows of the DataFrame to get an initial look at the data structure and content."
   ]
  },
  {
   "cell_type": "code",
   "execution_count": null,
   "id": "d62ec208",
   "metadata": {},
   "outputs": [],
   "source": [
    "df_30_EYE.head()"
   ]
  },
  {
   "cell_type": "markdown",
   "id": "6a89eff0",
   "metadata": {},
   "source": [
    "Check the dimensions (number of rows and columns) of the DataFrame."
   ]
  },
  {
   "cell_type": "code",
   "execution_count": null,
   "id": "03bf2c3c",
   "metadata": {},
   "outputs": [],
   "source": [
    "df_30_EYE.shape"
   ]
  },
  {
   "cell_type": "markdown",
   "id": "b37c3c36",
   "metadata": {},
   "source": [
    "List the names of all columns in the DataFrame."
   ]
  },
  {
   "cell_type": "code",
   "execution_count": null,
   "id": "62f2ef9f",
   "metadata": {},
   "outputs": [],
   "source": [
    "df_30_EYE.columns"
   ]
  },
  {
   "cell_type": "markdown",
   "id": "57a447f5",
   "metadata": {},
   "source": [
    "Display concise information about the DataFrame, including the data types of each column and the number of non-null values. This helps identify columns with missing data."
   ]
  },
  {
   "cell_type": "code",
   "execution_count": null,
   "id": "c14bff8c",
   "metadata": {},
   "outputs": [],
   "source": [
    "df_30_EYE.info()"
   ]
  },
  {
   "cell_type": "markdown",
   "id": "5e4b7a5b",
   "metadata": {},
   "source": [
    "Calculate and display the number of missing values in each column."
   ]
  },
  {
   "cell_type": "code",
   "execution_count": null,
   "id": "40eec8e1",
   "metadata": {},
   "outputs": [],
   "source": [
    "df_30_EYE.isnull().sum()"
   ]
  },
  {
   "cell_type": "markdown",
   "id": "5599eea5",
   "metadata": {},
   "source": [
    "Visualize the distribution of missing values using a heatmap. This provides a visual representation of which columns have missing data and the extent of missingness."
   ]
  },
  {
   "cell_type": "code",
   "execution_count": null,
   "id": "22762195",
   "metadata": {},
   "outputs": [],
   "source": [
    "plt.figure(figsize=(12,8))\n",
    "sns.heatmap(df_30_EYE.isnull(), cmap='viridis')\n",
    "plt.show()"
   ]
  },
  {
   "cell_type": "markdown",
   "id": "b53b8911",
   "metadata": {},
   "source": [
    "# Notes & Observations\n",
    "\n",
    "- We observe many **null** (or missing) values in the `QuestionKey` columns.\n",
    "- The nulls in the `QuestionKey` column may not represent “true” nulls. Rather, they follow interval patterns, suggesting that during those periods no question was displayed.\n",
    "- These missing values in `QuestionKey` require additional investigation and context-aware handling."
   ]
  },
  {
   "cell_type": "markdown",
   "id": "8252f058",
   "metadata": {},
   "source": [
    "Display the unique values in the `QuestionKey` column to understand the different types of questions or states recorded."
   ]
  },
  {
   "cell_type": "code",
   "execution_count": null,
   "id": "3740f376",
   "metadata": {},
   "outputs": [],
   "source": [
    "df_30_EYE['QuestionKey'].unique()"
   ]
  },
  {
   "cell_type": "markdown",
   "id": "0f041360",
   "metadata": {},
   "source": [
    "Convert the `Timestamp` column to datetime objects. This is crucial for any time series analysis or manipulation."
   ]
  },
  {
   "cell_type": "code",
   "execution_count": null,
   "id": "b4db5751",
   "metadata": {},
   "outputs": [],
   "source": [
    "df_30_EYE['Timestamp'] = pd.to_datetime(df_30_EYE['Timestamp'])"
   ]
  },
  {
   "cell_type": "markdown",
   "id": "9c022636",
   "metadata": {},
   "source": [
    "Display the first few rows again to see the effect of the timestamp conversion."
   ]
  },
  {
   "cell_type": "code",
   "execution_count": null,
   "id": "23ff8677",
   "metadata": {},
   "outputs": [],
   "source": [
    "df_30_EYE.head(3)"
   ]
  },
  {
   "cell_type": "markdown",
   "id": "9c608ce9",
   "metadata": {},
   "source": [
    "Fill the missing values in the `QuestionKey` column with the string 'None'. This helps to explicitly mark periods where no question was active."
   ]
  },
  {
   "cell_type": "code",
   "execution_count": null,
   "id": "6e1f69b8",
   "metadata": {},
   "outputs": [],
   "source": [
    "df_30_EYE['QuestionKey'].fillna('None', inplace=True)"
   ]
  },
  {
   "cell_type": "markdown",
   "id": "c918178d",
   "metadata": {},
   "source": [
    "Count the occurrences of each unique value in the `QuestionKey` column after filling missing values."
   ]
  },
  {
   "cell_type": "code",
   "execution_count": null,
   "id": "645a624d",
   "metadata": {},
   "outputs": [],
   "source": [
    "df_30_EYE['QuestionKey'].value_counts()"
   ]
  },
  {
   "cell_type": "markdown",
   "id": "38d71d0d",
   "metadata": {},
   "source": [
    "Display the heatmap of missing values again to confirm that the missing values in `QuestionKey` have been handled."
   ]
  },
  {
   "cell_type": "code",
   "execution_count": null,
   "id": "073cbb23",
   "metadata": {},
   "outputs": [],
   "source": [
    "plt.figure(figsize=(12,8))\n",
    "sns.heatmap(df_30_EYE.isnull(), cmap='viridis')\n",
    "plt.show()"
   ]
  },
  {
   "cell_type": "markdown",
   "id": "be0c041b",
   "metadata": {},
   "source": [
    "Recalculate and display the number of missing values per column to confirm the changes after handling `QuestionKey`."
   ]
  },
  {
   "cell_type": "code",
   "execution_count": null,
   "id": "de455646",
   "metadata": {},
   "outputs": [],
   "source": [
    "df_30_EYE.isnull().sum()"
   ]
  },
  {
   "cell_type": "markdown",
   "id": "65ddc6e6",
   "metadata": {},
   "source": [
    "Drop rows that still contain any missing values. This is done after handling `QuestionKey` separately."
   ]
  },
  {
   "cell_type": "code",
   "execution_count": null,
   "id": "8e6b85be",
   "metadata": {},
   "outputs": [],
   "source": [
    "df_30_EYE.dropna(inplace=True)"
   ]
  },
  {
   "cell_type": "markdown",
   "id": "fc93fbff",
   "metadata": {},
   "source": [
    "Display the first few rows after dropping rows with missing values."
   ]
  },
  {
   "cell_type": "code",
   "execution_count": null,
   "id": "ee2faaa9",
   "metadata": {},
   "outputs": [],
   "source": [
    "df_30_EYE.head()"
   ]
  },
  {
   "cell_type": "markdown",
   "id": "099b9259",
   "metadata": {},
   "source": [
    "Display the unique values in the `Row` column."
   ]
  },
  {
   "cell_type": "code",
   "execution_count": null,
   "id": "018ae8cd",
   "metadata": {},
   "outputs": [],
   "source": [
    "df_30_EYE['Row'].unique()"
   ]
  },
  {
   "cell_type": "markdown",
   "id": "78363c92",
   "metadata": {},
   "source": [
    "Plot a histogram of the `Row` column to visualize its distribution."
   ]
  },
  {
   "cell_type": "code",
   "execution_count": null,
   "id": "ff514231",
   "metadata": {},
   "outputs": [],
   "source": [
    "plt.figure(figsize=(8,6))\n",
    "sns.histplot(df_30_EYE['Row'])\n",
    "plt.show()"
   ]
  },
  {
   "cell_type": "markdown",
   "id": "f00f90f8",
   "metadata": {},
   "source": [
    "# Notes & Observations\n",
    "\n",
    "- The `Row` column appears to be a simple row index and does not provide meaningful information relevant to the eye-tracking data itself. Therefore, it can be dropped."
   ]
  },
  {
   "cell_type": "markdown",
   "id": "c13b2ef9",
   "metadata": {},
   "source": [
    "Drop the `Row` column as it is not relevant for the analysis."
   ]
  },
  {
   "cell_type": "code",
   "execution_count": null,
   "id": "0eed1e8a",
   "metadata": {},
   "outputs": [],
   "source": [
    "df_30_EYE.drop('Row', axis=1, inplace=True)"
   ]
  },
  {
   "cell_type": "markdown",
   "id": "7249d0d7",
   "metadata": {},
   "source": [
    "Display the unique values in the `ET_ValidityLeft` column."
   ]
  },
  {
   "cell_type": "code",
   "execution_count": null,
   "id": "772be754",
   "metadata": {},
   "outputs": [],
   "source": [
    "df_30_EYE['ET_ValidityLeft'].unique()"
   ]
  },
  {
   "cell_type": "markdown",
   "id": "609cb830",
   "metadata": {},
   "source": [
    "Count the occurrences of each unique value in the `ET_ValidityLeft` column."
   ]
  },
  {
   "cell_type": "code",
   "execution_count": null,
   "id": "7589eb64",
   "metadata": {},
   "outputs": [],
   "source": [
    "df_30_EYE['ET_ValidityLeft'].value_counts()"
   ]
  },
  {
   "cell_type": "markdown",
   "id": "87235636",
   "metadata": {},
   "source": [
    "Display the unique values in the `ET_ValidityRight` column."
   ]
  },
  {
   "cell_type": "code",
   "execution_count": null,
   "id": "296efd46",
   "metadata": {},
   "outputs": [],
   "source": [
    "df_30_EYE['ET_ValidityRight'].unique()"
   ]
  },
  {
   "cell_type": "markdown",
   "id": "b011932d",
   "metadata": {},
   "source": [
    "Count the occurrences of each unique value in the `ET_ValidityRight` column."
   ]
  },
  {
   "cell_type": "code",
   "execution_count": null,
   "id": "55745402",
   "metadata": {},
   "outputs": [],
   "source": [
    "df_30_EYE['ET_ValidityRight'].value_counts()"
   ]
  },
  {
   "cell_type": "markdown",
   "id": "a9f104cb",
   "metadata": {},
   "source": [
    "Visualize the counts of valid and invalid data for both left and right eyes using bar plots."
   ]
  },
  {
   "cell_type": "code",
   "execution_count": null,
   "id": "340d874e",
   "metadata": {},
   "outputs": [],
   "source": [
    "plt.figure(figsize=(12, 6))\n",
    "\n",
    "plt.subplot(1, 2, 1)\n",
    "sns.barplot(x=df_30_EYE['ET_ValidityLeft'].value_counts().index, y=df_30_EYE['ET_ValidityLeft'].value_counts().values)\n",
    "plt.title('Count of ET_ValidityLeft')\n",
    "plt.xlabel('Validity')\n",
    "plt.ylabel('Count')\n",
    "\n",
    "\n",
    "plt.subplot(1, 2, 2)\n",
    "sns.barplot(x=df_30_EYE['ET_ValidityRight'].value_counts().index, y=df_30_EYE['ET_ValidityRight'].value_counts().values)\n",
    "plt.title('Count of ET_ValidityRight')\n",
    "plt.xlabel('Validity')\n",
    "plt.ylabel('Count')\n",
    "\n",
    "plt.tight_layout()\n",
    "plt.show()"
   ]
  },
  {
   "cell_type": "markdown",
   "id": "eabe6bc9",
   "metadata": {},
   "source": [
    "# Notes & Observations\n",
    "\n",
    "- The `ET_ValidityLeft` and `ET_ValidityRight` columns indicate the validity of the eye-tracking data for the left and right eye, respectively.\n",
    "- Based on the value counts and the bar plots, it appears that a value of `0.0` represents valid eye-tracking data, while a value of `4.0` represents invalid data.\n",
    "- Although the amount of invalid data is relatively small, removing these rows could introduce unwanted patterns or gaps in the time series data.\n",
    "- Therefore, we will keep the data and replace the value `4.0` with `1.0` in both `ET_ValidityLeft` and `ET_ValidityRight` columns. This will indicate to a machine learning model that the eye tracker had invalid data at those specific points in time while maintaining the integrity of the time series."
   ]
  },
  {
   "cell_type": "markdown",
   "id": "9e8e7f55",
   "metadata": {},
   "source": [
    "Define a mapping to convert validity values from `0.0` and `4.0` to `0` and `1`."
   ]
  },
  {
   "cell_type": "code",
   "execution_count": null,
   "id": "27148cce",
   "metadata": {},
   "outputs": [],
   "source": [
    "validity_map = {4.0: 1.0, 0.0: 0.0}"
   ]
  },
  {
   "cell_type": "markdown",
   "id": "29c122e2",
   "metadata": {},
   "source": [
    "Apply the mapping to the `ET_ValidityLeft` and `ET_ValidityRight` columns and convert the data type to integer."
   ]
  },
  {
   "cell_type": "code",
   "execution_count": null,
   "id": "e7ed0cf3",
   "metadata": {},
   "outputs": [],
   "source": [
    "df_30_EYE['ET_ValidityLeft'] = df_30_EYE['ET_ValidityLeft'].map(validity_map).astype(np.int8)\n",
    "df_30_EYE['ET_ValidityRight'] = df_30_EYE['ET_ValidityRight'].map(validity_map).astype(np.int8)"
   ]
  },
  {
   "cell_type": "markdown",
   "id": "1ac32746",
   "metadata": {},
   "source": [
    "Display the first few rows to see the updated validity columns."
   ]
  },
  {
   "cell_type": "code",
   "execution_count": null,
   "id": "c085841a",
   "metadata": {},
   "outputs": [],
   "source": [
    "df_30_EYE.head(3)"
   ]
  },
  {
   "cell_type": "markdown",
   "id": "676fe47e",
   "metadata": {},
   "source": [
    "Display descriptive statistics for the DataFrame, including count, mean, standard deviation, min, max, and quartiles for numeric columns."
   ]
  },
  {
   "cell_type": "code",
   "execution_count": null,
   "id": "a1448189",
   "metadata": {},
   "outputs": [],
   "source": [
    "df_30_EYE.describe()"
   ]
  },
  {
   "cell_type": "markdown",
   "id": "3ee80555",
   "metadata": {},
   "source": [
    "Check the number of rows where `ET_ValidityLeft` is 1 (invalid data for the left eye)."
   ]
  },
  {
   "cell_type": "code",
   "execution_count": null,
   "id": "8b619b8d",
   "metadata": {},
   "outputs": [],
   "source": [
    "df_30_EYE[df_30_EYE['ET_ValidityLeft'] == 1].shape"
   ]
  },
  {
   "cell_type": "markdown",
   "id": "4001c588",
   "metadata": {},
   "source": [
    "Check the number of rows where `ET_ValidityRight` is 1 (invalid data for the right eye)."
   ]
  },
  {
   "cell_type": "code",
   "execution_count": null,
   "id": "0ba427e8",
   "metadata": {},
   "outputs": [],
   "source": [
    "df_30_EYE[df_30_EYE['ET_ValidityRight'] == 1].shape"
   ]
  },
  {
   "cell_type": "markdown",
   "id": "2f392115",
   "metadata": {},
   "source": [
    "Visualize the distribution of -1 and 1 values across columns using heatmaps. This helps identify columns with placeholder or indicator values."
   ]
  },
  {
   "cell_type": "code",
   "execution_count": null,
   "id": "d3a3e2d9",
   "metadata": {},
   "outputs": [],
   "source": [
    "plt.figure(figsize=(18, 8))\n",
    "\n",
    "plt.subplot(1, 2, 1)\n",
    "sns.heatmap(df_30_EYE == -1, cmap='viridis')\n",
    "plt.title('Heatmap of -1 Values')\n",
    "\n",
    "plt.subplot(1, 2, 2)\n",
    "sns.heatmap(df_30_EYE == 1, cmap='viridis')\n",
    "plt.title('Heatmap of 1 Values')\n",
    "\n",
    "plt.tight_layout()\n",
    "plt.show()"
   ]
  },
  {
   "cell_type": "markdown",
   "id": "9320a73d",
   "metadata": {},
   "source": [
    "Check the number of rows where `ET_PupilLeft` is -1."
   ]
  },
  {
   "cell_type": "code",
   "execution_count": null,
   "id": "f8125d25",
   "metadata": {},
   "outputs": [],
   "source": [
    "df_30_EYE[df_30_EYE['ET_PupilLeft'] == -1].shape"
   ]
  },
  {
   "cell_type": "markdown",
   "id": "dc124a25",
   "metadata": {},
   "source": [
    "Check the number of rows where `ET_PupilRight` is -1."
   ]
  },
  {
   "cell_type": "code",
   "execution_count": null,
   "id": "fb8553b0",
   "metadata": {},
   "outputs": [],
   "source": [
    "df_30_EYE[df_30_EYE['ET_PupilRight'] == -1].shape"
   ]
  },
  {
   "cell_type": "markdown",
   "id": "211ecdd2",
   "metadata": {},
   "source": [
    "Calculate the ratio of rows with -1 values in the `ET_PupilLeft` column to the total number of rows."
   ]
  },
  {
   "cell_type": "code",
   "execution_count": null,
   "id": "573cc213",
   "metadata": {},
   "outputs": [],
   "source": [
    "df_30_EYE[df_30_EYE['ET_PupilLeft'] == -1].shape[0] / df_30_EYE.shape[0]"
   ]
  },
  {
   "cell_type": "markdown",
   "id": "c76d8c24",
   "metadata": {},
   "source": [
    "Calculate the ratio of rows with -1 values in the `ET_PupilRight` column to the total number of rows."
   ]
  },
  {
   "cell_type": "code",
   "execution_count": null,
   "id": "791942b7",
   "metadata": {},
   "outputs": [],
   "source": [
    "df_30_EYE[df_30_EYE['ET_PupilRight'] == -1].shape[0] / df_30_EYE.shape[0]"
   ]
  },
  {
   "cell_type": "markdown",
   "id": "68afc383",
   "metadata": {},
   "source": [
    "Visualize the distribution of -1 values specifically for rows where validity is 1 (invalid data)."
   ]
  },
  {
   "cell_type": "code",
   "execution_count": null,
   "id": "fcfd5140",
   "metadata": {},
   "outputs": [],
   "source": [
    "plt.figure(figsize=(18, 8))\n",
    "\n",
    "plt.subplot(1, 2, 1)\n",
    "sns.heatmap(df_30_EYE[df_30_EYE['ET_ValidityLeft'] == 1] == -1, cmap='viridis')\n",
    "plt.title('Heatmap of -1 Values')\n",
    "\n",
    "plt.subplot(1, 2, 2)\n",
    "sns.heatmap(df_30_EYE[df_30_EYE['ET_ValidityRight'] == 1] == -1, cmap='viridis')\n",
    "plt.title('Heatmap of -1 Values')\n",
    "\n",
    "plt.tight_layout()\n",
    "plt.show()"
   ]
  },
  {
   "cell_type": "markdown",
   "id": "333346b1",
   "metadata": {},
   "source": [
    "# Notes & Observations\n",
    "\n",
    "- The heatmaps reveal the distribution of -1 values across different columns.\n",
    "- It is evident that the `-1` values are not randomly scattered but appear in specific columns, notably `ET_GazeLeftx`, `ET_GazeLefty`, `ET_GazeRightx`, `ET_GazeRighty`, `ET_PupilLeft`, `ET_PupilRight`, `ET_DistanceLeft`, `ET_DistanceRight`, `ET_CameraLeftX`, `ET_CameraLeftY`, `ET_CameraRightX`, and `ET_CameraRightY`.\n",
    "- These `-1` values often coincide with instances where `ET_ValidityLeft` or `ET_ValidityRight` is 1, indicating invalid eye-tracking data. This suggests that `-1` is used as a placeholder for missing or invalid measurements in these columns when the eye tracker is not providing valid data for a particular eye.\n",
    "- Given that over 70% of the data in the `ET_PupilLeft` and `ET_PupilRight` columns is marked as invalid (-1), these columns may not be suitable for analysis and could be considered for dropping."
   ]
  },
  {
   "cell_type": "markdown",
   "id": "adee34ed",
   "metadata": {},
   "source": [
    "Drop the `ET_PupilLeft` and `ET_PupilRight` columns due to the high percentage of invalid data."
   ]
  },
  {
   "cell_type": "code",
   "execution_count": null,
   "id": "f36a8404",
   "metadata": {},
   "outputs": [],
   "source": [
    "df_30_EYE.drop(['ET_PupilLeft', 'ET_PupilRight'], axis=1, inplace=True)"
   ]
  },
  {
   "cell_type": "markdown",
   "id": "ac8f3cae",
   "metadata": {},
   "source": [
    "Display the first few rows after dropping the pupil columns."
   ]
  },
  {
   "cell_type": "code",
   "execution_count": null,
   "id": "5b3675a9",
   "metadata": {},
   "outputs": [],
   "source": [
    "df_30_EYE.head()"
   ]
  },
  {
   "cell_type": "markdown",
   "id": "22207a7f",
   "metadata": {},
   "source": [
    "Visualize the distribution of -1 and 1 values again after dropping the pupil columns."
   ]
  },
  {
   "cell_type": "code",
   "execution_count": null,
   "id": "306642c0",
   "metadata": {},
   "outputs": [],
   "source": [
    "plt.figure(figsize=(18, 8))\n",
    "\n",
    "plt.subplot(1, 2, 1)\n",
    "sns.heatmap(df_30_EYE == -1, cmap='viridis')\n",
    "plt.title('Heatmap of -1 Values')\n",
    "\n",
    "plt.subplot(1, 2, 2)\n",
    "sns.heatmap(df_30_EYE == 1, cmap='viridis')\n",
    "plt.title('Heatmap of -1 Values')\n",
    "\n",
    "plt.tight_layout()\n",
    "plt.show()"
   ]
  },
  {
   "cell_type": "markdown",
   "id": "6fc42a86",
   "metadata": {},
   "source": [
    "Calculate the ratio of valid data points for the left eye."
   ]
  },
  {
   "cell_type": "code",
   "execution_count": null,
   "id": "c517949f",
   "metadata": {},
   "outputs": [],
   "source": [
    "valid_left_ratio  = 1 - df_30_EYE['ET_ValidityLeft'].mean()"
   ]
  },
  {
   "cell_type": "markdown",
   "id": "0c55e049",
   "metadata": {},
   "source": [
    "Display the ratio of valid data points for the left eye."
   ]
  },
  {
   "cell_type": "code",
   "execution_count": null,
   "id": "28e1b8b0",
   "metadata": {},
   "outputs": [],
   "source": [
    "valid_left_ratio"
   ]
  },
  {
   "cell_type": "markdown",
   "id": "7a621a49",
   "metadata": {},
   "source": [
    "Calculate the ratio of valid data points for the right eye."
   ]
  },
  {
   "cell_type": "code",
   "execution_count": null,
   "id": "5a5cc884",
   "metadata": {},
   "outputs": [],
   "source": [
    "valid_right_ratio = 1 - df_30_EYE['ET_ValidityRight'].mean()"
   ]
  },
  {
   "cell_type": "markdown",
   "id": "f6a077ac",
   "metadata": {},
   "source": [
    "Display the ratio of valid data points for the right eye."
   ]
  },
  {
   "cell_type": "code",
   "execution_count": null,
   "id": "f68fa98a",
   "metadata": {},
   "outputs": [],
   "source": [
    "valid_right_ratio"
   ]
  },
  {
   "cell_type": "markdown",
   "id": "cf127f5f",
   "metadata": {},
   "source": [
    "Display the first few rows of the DataFrame."
   ]
  },
  {
   "cell_type": "code",
   "execution_count": null,
   "id": "c9a32acc",
   "metadata": {},
   "outputs": [],
   "source": [
    "df_30_EYE.head()"
   ]
  },
  {
   "cell_type": "markdown",
   "id": "24858f00",
   "metadata": {},
   "source": [
    "Visualize the distributions of numeric columns using histograms with Kernel Density Estimate (KDE) plots. This helps understand the shape and spread of the data in each numeric column."
   ]
  },
  {
   "cell_type": "code",
   "execution_count": null,
   "id": "b9a0dcc2",
   "metadata": {},
   "outputs": [],
   "source": [
    "# Select only the numeric columns for plotting histograms, excluding time-related columns\n",
    "numeric_cols = df_30_EYE.select_dtypes(include=np.number).columns\n",
    "cols_to_plot = [col for col in numeric_cols if col not in ['UnixTime']]\n",
    "\n",
    "# Calculate the number of rows and columns for the grid\n",
    "n_cols = 4  # You can adjust the number of columns as needed\n",
    "n_rows = (len(cols_to_plot) + n_cols - 1) // n_cols\n",
    "\n",
    "plt.figure(figsize=(n_cols * 5, n_rows * 4)) # Adjust figure size as needed\n",
    "\n",
    "for i, col in enumerate(cols_to_plot):\n",
    "    plt.subplot(n_rows, n_cols, i + 1)\n",
    "    sns.histplot(df_30_EYE[col], kde=True)\n",
    "    plt.title(f'Distribution of {col}')\n",
    "    plt.xlabel(col)\n",
    "    plt.ylabel('Frequency')\n",
    "\n",
    "plt.tight_layout()\n",
    "plt.show()"
   ]
  },
  {
   "cell_type": "markdown",
   "id": "2be46f73",
   "metadata": {},
   "source": [
    "List the names of the columns in the DataFrame."
   ]
  },
  {
   "cell_type": "code",
   "execution_count": null,
   "id": "8283369f",
   "metadata": {},
   "outputs": [],
   "source": [
    "df_30_EYE.columns"
   ]
  },
  {
   "cell_type": "markdown",
   "id": "dff0f410",
   "metadata": {},
   "source": [
    "Define a list of columns to be plotted over time."
   ]
  },
  {
   "cell_type": "code",
   "execution_count": null,
   "id": "dd132172",
   "metadata": {},
   "outputs": [],
   "source": [
    "cols = ['ET_GazeLeftx', 'ET_GazeLefty',\n",
    "       'ET_GazeRightx', 'ET_GazeRighty', 'ET_TimeSignal', 'ET_DistanceLeft',\n",
    "       'ET_DistanceRight', 'ET_CameraLeftX', 'ET_CameraLeftY',\n",
    "       'ET_CameraRightX', 'ET_CameraRightY', 'ET_ValidityLeft',\n",
    "       'ET_ValidityRight']"
   ]
  },
  {
   "cell_type": "markdown",
   "id": "85f9cead",
   "metadata": {},
   "source": [
    "Plot each of the selected columns against the timestamp to visualize their trends and patterns over time. Markdown cells are added before each plot for better readability."
   ]
  },
  {
   "cell_type": "code",
   "execution_count": null,
   "id": "888a1a71",
   "metadata": {},
   "outputs": [],
   "source": [
    "from IPython.display import display, Markdown\n",
    "\n",
    "for col in cols:\n",
    "    # Add a markdown cell before each plot for better separation and labeling\n",
    "    display(Markdown(f'### {col} over Time'))\n",
    "    plt.figure(figsize=(16, 10))\n",
    "    plt.plot(df_30_EYE['Timestamp'], df_30_EYE[col])\n",
    "    plt.xlabel(\"Timestamp\") # Add x-axis label\n",
    "    plt.ylabel(col) # Add y-axis label\n",
    "    plt.show()"
   ]
  },
  {
   "cell_type": "markdown",
   "id": "6c8a1203",
   "metadata": {},
   "source": [
    "Visualize the distributions of numeric columns using boxplots. This helps identify potential outliers and the spread of the data."
   ]
  },
  {
   "cell_type": "code",
   "execution_count": null,
   "id": "349b9bf6",
   "metadata": {},
   "outputs": [],
   "source": [
    "# Select only the numeric columns for plotting histograms, excluding time-related columns\n",
    "numeric_cols = df_30_EYE.select_dtypes(include=np.number).columns\n",
    "\n",
    "# Calculate the number of rows and columns for the grid\n",
    "n_cols = 4  # You can adjust the number of columns as needed\n",
    "n_rows = (len(numeric_cols) + n_cols - 1) // n_cols\n",
    "\n",
    "plt.figure(figsize=(n_cols * 5, n_rows * 4)) # Adjust figure size as needed\n",
    "\n",
    "for i, col in enumerate(numeric_cols):\n",
    "    plt.subplot(n_rows, n_cols, i + 1)\n",
    "    sns.boxplot(df_30_EYE[col])\n",
    "    plt.title(f'Boxplot of {col}')\n",
    "    plt.xlabel(col)\n",
    "\n",
    "plt.tight_layout()\n",
    "plt.show()"
   ]
  },
  {
   "cell_type": "markdown",
   "id": "f848f4e6",
   "metadata": {},
   "source": [
    "Replace the placeholder value -1 with NaN (Not a Number) in the DataFrame. This is done before imputation."
   ]
  },
  {
   "cell_type": "code",
   "execution_count": null,
   "id": "21d0814c",
   "metadata": {},
   "outputs": [],
   "source": [
    "df_30_EYE.replace({-1: np.nan}, inplace=True)"
   ]
  },
  {
   "cell_type": "markdown",
   "id": "c674ded3",
   "metadata": {},
   "source": [
    "Impute the missing values (NaN) in the numeric columns with the mean of each column."
   ]
  },
  {
   "cell_type": "code",
   "execution_count": null,
   "id": "9c8c4b3a",
   "metadata": {},
   "outputs": [],
   "source": [
    "numeric_cols = df_30_EYE.select_dtypes(include=np.number).columns\n",
    "\n",
    "for col in numeric_cols:\n",
    "    df_30_EYE[col].fillna(df_30_EYE[col].mean(), inplace=True)"
   ]
  },
  {
   "cell_type": "markdown",
   "id": "b5366829",
   "metadata": {},
   "source": [
    "Display the first few rows after imputing missing values."
   ]
  },
  {
   "cell_type": "code",
   "execution_count": null,
   "id": "e6344cd3",
   "metadata": {},
   "outputs": [],
   "source": [
    "df_30_EYE.head()"
   ]
  },
  {
   "cell_type": "markdown",
   "id": "3ab38ffc",
   "metadata": {},
   "source": [
    "Visualize the distributions of numeric columns again using histograms with KDE plots after imputation. This helps assess the impact of imputation on the data distributions."
   ]
  },
  {
   "cell_type": "code",
   "execution_count": null,
   "id": "61c16f98",
   "metadata": {},
   "outputs": [],
   "source": [
    "# Select only the numeric columns for plotting histograms, excluding time-related columns\n",
    "numeric_cols = df_30_EYE.select_dtypes(include=np.number).columns\n",
    "cols_to_plot = [col for col in numeric_cols if col not in ['UnixTime']]\n",
    "\n",
    "# Calculate the number of rows and columns for the grid\n",
    "n_cols = 4  # You can adjust the number of columns as needed\n",
    "n_rows = (len(cols_to_plot) + n_cols - 1) // n_cols\n",
    "\n",
    "plt.figure(figsize=(n_cols * 5, n_rows * 4)) # Adjust figure size as needed\n",
    "\n",
    "for i, col in enumerate(cols_to_plot):\n",
    "    plt.subplot(n_rows, n_cols, i + 1)\n",
    "    sns.histplot(df_30_EYE[col], kde=True)\n",
    "    plt.title(f'Distribution of {col}')\n",
    "    plt.xlabel(col)\n",
    "    plt.ylabel('Frequency')\n",
    "\n",
    "plt.tight_layout()\n",
    "plt.show()"
   ]
  },
  {
   "cell_type": "code",
   "execution_count": null,
   "id": "37df3099",
   "metadata": {},
   "outputs": [],
   "source": []
  }
 ],
 "metadata": {},
 "nbformat": 4,
 "nbformat_minor": 5
}
