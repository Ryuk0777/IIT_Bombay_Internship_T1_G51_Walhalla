{
 "cells": [
  {
   "cell_type": "markdown",
   "id": "18add60a",
   "metadata": {
    "id": "bee36084"
   },
   "source": [
    "# Eye Tracking Data Analysis\n",
    "\n",
    "This notebook performs exploratory data analysis and cleaning on eye-tracking data.\n"
   ]
  },
  {
   "cell_type": "code",
   "execution_count": null,
   "id": "9feec543",
   "metadata": {
    "id": "2859523e"
   },
   "outputs": [],
   "source": [
    "%load_ext cudf"
   ]
  },
  {
   "cell_type": "code",
   "execution_count": null,
   "id": "a1cdfcaa",
   "metadata": {
    "id": "1d3880d5"
   },
   "outputs": [],
   "source": [
    "import numpy as np\n",
    "import pandas as pd\n",
    "import matplotlib.pyplot as plt\n",
    "import seaborn as sns"
   ]
  },
  {
   "cell_type": "code",
   "execution_count": null,
   "id": "75d97df1",
   "metadata": {
    "id": "da8bfd20"
   },
   "outputs": [],
   "source": [
    "import datashader as ds\n",
    "import datashader.transfer_functions as tf"
   ]
  },
  {
   "cell_type": "code",
   "execution_count": null,
   "id": "ae2b836e",
   "metadata": {
    "id": "2471d2fd"
   },
   "outputs": [],
   "source": [
    "pd.set_option('display.max_columns', None)"
   ]
  },
  {
   "cell_type": "markdown",
   "id": "7114501f",
   "metadata": {
    "id": "sMcHS8LIOGeT"
   },
   "source": [
    "# **21_EYE**"
   ]
  },
  {
   "cell_type": "code",
   "execution_count": null,
   "id": "bf6e4fa5",
   "metadata": {
    "id": "L2tJooyROWnM"
   },
   "outputs": [],
   "source": []
  },
  {
   "cell_type": "code",
   "execution_count": null,
   "id": "0d1994f5",
   "metadata": {
    "id": "6c647c4f"
   },
   "outputs": [],
   "source": [
    "df_21_EYE = pd.read_csv('data/STData/21/21_EYE.csv')"
   ]
  },
  {
   "cell_type": "code",
   "execution_count": null,
   "id": "48609dd1",
   "metadata": {
    "id": "c229bba7"
   },
   "outputs": [],
   "source": [
    "df_21_EYE.head()"
   ]
  },
  {
   "cell_type": "code",
   "execution_count": null,
   "id": "142d3767",
   "metadata": {
    "id": "0ec8e716"
   },
   "outputs": [],
   "source": [
    "df_21_EYE.shape"
   ]
  },
  {
   "cell_type": "code",
   "execution_count": null,
   "id": "93215990",
   "metadata": {
    "id": "43ba37eb"
   },
   "outputs": [],
   "source": [
    "df_21_EYE.columns"
   ]
  },
  {
   "cell_type": "code",
   "execution_count": null,
   "id": "8d7f7827",
   "metadata": {
    "id": "19f68fb4"
   },
   "outputs": [],
   "source": [
    "df_21_EYE.info()"
   ]
  },
  {
   "cell_type": "code",
   "execution_count": null,
   "id": "e18d7186",
   "metadata": {
    "id": "603369d7"
   },
   "outputs": [],
   "source": [
    "df_21_EYE.isnull().sum()"
   ]
  },
  {
   "cell_type": "code",
   "execution_count": null,
   "id": "97145d51",
   "metadata": {
    "id": "874353e3"
   },
   "outputs": [],
   "source": [
    "plt.figure(figsize=(12,8))\n",
    "sns.heatmap(df_21_EYE.isnull(), cmap='viridis')\n",
    "plt.show()"
   ]
  },
  {
   "cell_type": "markdown",
   "id": "7caced59",
   "metadata": {
    "id": "b17906e7"
   },
   "source": [
    "# Notes & Observations\n",
    "\n",
    "- We observe many **null** (or missing) values in the `QuestionKey` columns.\n",
    "- The nulls in the `QuestionKey` column may not represent “true” nulls. Rather, they follow interval patterns, suggesting that during those periods no question was displayed.\n",
    "- These missing values in `QuestionKey` require additional investigation and context-aware handling."
   ]
  },
  {
   "cell_type": "code",
   "execution_count": null,
   "id": "93d81df4",
   "metadata": {
    "id": "1113779e"
   },
   "outputs": [],
   "source": [
    "df_21_EYE['QuestionKey'].unique()"
   ]
  },
  {
   "cell_type": "code",
   "execution_count": null,
   "id": "183f012c",
   "metadata": {
    "id": "db0a93a2"
   },
   "outputs": [],
   "source": [
    "df_21_EYE['Timestamp'] = pd.to_datetime(df_21_EYE['Timestamp'])"
   ]
  },
  {
   "cell_type": "code",
   "execution_count": null,
   "id": "8812a74e",
   "metadata": {
    "id": "03d57b0a"
   },
   "outputs": [],
   "source": [
    "df_21_EYE.head(3)"
   ]
  },
  {
   "cell_type": "code",
   "execution_count": null,
   "id": "87939788",
   "metadata": {
    "id": "c0004029"
   },
   "outputs": [],
   "source": [
    "df_21_EYE['QuestionKey'] = df_21_EYE['QuestionKey'].fillna('None')"
   ]
  },
  {
   "cell_type": "code",
   "execution_count": null,
   "id": "8e704e37",
   "metadata": {
    "id": "dfb4729e"
   },
   "outputs": [],
   "source": [
    "df_21_EYE['QuestionKey'].value_counts()"
   ]
  },
  {
   "cell_type": "code",
   "execution_count": null,
   "id": "77567f21",
   "metadata": {
    "id": "9353c9d8"
   },
   "outputs": [],
   "source": [
    "plt.figure(figsize=(12,8))\n",
    "sns.heatmap(df_21_EYE.isnull(), cmap='viridis')\n",
    "plt.show()"
   ]
  },
  {
   "cell_type": "code",
   "execution_count": null,
   "id": "48a98252",
   "metadata": {
    "id": "5c73d150"
   },
   "outputs": [],
   "source": [
    "df_21_EYE.isnull().sum()"
   ]
  },
  {
   "cell_type": "code",
   "execution_count": null,
   "id": "b0f0f3d1",
   "metadata": {
    "id": "6c700142"
   },
   "outputs": [],
   "source": [
    "df_21_EYE.dropna(inplace=True)"
   ]
  },
  {
   "cell_type": "code",
   "execution_count": null,
   "id": "6d841fab",
   "metadata": {
    "id": "90a604ce"
   },
   "outputs": [],
   "source": [
    "df_21_EYE.head()"
   ]
  },
  {
   "cell_type": "code",
   "execution_count": null,
   "id": "b4af4216",
   "metadata": {
    "id": "a43a4283"
   },
   "outputs": [],
   "source": [
    "df_21_EYE['Row'].unique()"
   ]
  },
  {
   "cell_type": "code",
   "execution_count": null,
   "id": "38b93c96",
   "metadata": {
    "id": "f66566f9"
   },
   "outputs": [],
   "source": [
    "plt.figure(figsize=(8,6))\n",
    "sns.histplot(df_21_EYE['Row'])\n",
    "plt.show()"
   ]
  },
  {
   "cell_type": "markdown",
   "id": "f015bed7",
   "metadata": {
    "id": "5ddf40fd"
   },
   "source": [
    "# Notes & Observations\n",
    "\n",
    "- The `Row` column appears to be a simple row index and does not provide meaningful information relevant to the eye-tracking data itself. Therefore, it can be dropped."
   ]
  },
  {
   "cell_type": "code",
   "execution_count": null,
   "id": "08b1bd48",
   "metadata": {
    "id": "5aee4404"
   },
   "outputs": [],
   "source": [
    "df_21_EYE.drop('Row', axis=1, inplace=True)"
   ]
  },
  {
   "cell_type": "code",
   "execution_count": null,
   "id": "79c196fd",
   "metadata": {
    "id": "827f3274"
   },
   "outputs": [],
   "source": [
    "df_21_EYE['ET_ValidityLeft'].unique()"
   ]
  },
  {
   "cell_type": "code",
   "execution_count": null,
   "id": "a7c264af",
   "metadata": {
    "id": "1437751a"
   },
   "outputs": [],
   "source": [
    "df_21_EYE['ET_ValidityLeft'].value_counts()"
   ]
  },
  {
   "cell_type": "code",
   "execution_count": null,
   "id": "78ecac21",
   "metadata": {
    "id": "d0a9ee4a"
   },
   "outputs": [],
   "source": [
    "df_21_EYE['ET_ValidityRight'].unique()"
   ]
  },
  {
   "cell_type": "code",
   "execution_count": null,
   "id": "a8cf8db8",
   "metadata": {
    "id": "55ddcc2b"
   },
   "outputs": [],
   "source": [
    "df_21_EYE['ET_ValidityRight'].value_counts()"
   ]
  },
  {
   "cell_type": "code",
   "execution_count": null,
   "id": "ef908542",
   "metadata": {
    "id": "faef00be"
   },
   "outputs": [],
   "source": [
    "plt.figure(figsize=(12, 6))\n",
    "\n",
    "plt.subplot(1, 2, 1)\n",
    "sns.barplot(x=df_21_EYE['ET_ValidityLeft'].value_counts().index, y=df_21_EYE['ET_ValidityLeft'].value_counts().values)\n",
    "plt.title('Count of ET_ValidityLeft')\n",
    "plt.xlabel('Validity')\n",
    "plt.ylabel('Count')\n",
    "\n",
    "\n",
    "plt.subplot(1, 2, 2)\n",
    "sns.barplot(x=df_21_EYE['ET_ValidityRight'].value_counts().index, y=df_21_EYE['ET_ValidityRight'].value_counts().values)\n",
    "plt.title('Count of ET_ValidityRight')\n",
    "plt.xlabel('Validity')\n",
    "plt.ylabel('Count')\n",
    "\n",
    "plt.tight_layout()\n",
    "plt.show()"
   ]
  },
  {
   "cell_type": "markdown",
   "id": "1c7da582",
   "metadata": {
    "id": "b43706ea"
   },
   "source": [
    "# Notes & Observations\n",
    "\n",
    "- The `ET_ValidityLeft` and `ET_ValidityRight` columns indicate the validity of the eye-tracking data for the left and right eye, respectively.\n",
    "- Based on the value counts and the bar plots, it appears that a value of `0.0` represents valid eye-tracking data, while a value of `4.0` represents invalid data.\n",
    "- Although the amount of invalid data is relatively small, removing these rows could introduce unwanted patterns or gaps in the time series data.\n",
    "- Therefore, we will keep the data and replace the value `4.0` with `1.0` in both `ET_ValidityLeft` and `ET_ValidityRight` columns. This will indicate to a machine learning model that the eye tracker had invalid data at those specific points in time while maintaining the integrity of the time series."
   ]
  },
  {
   "cell_type": "markdown",
   "id": "ac91101a",
   "metadata": {
    "id": "e9e671b2"
   },
   "source": [
    "Define a mapping to convert validity values from `0.0` and `4.0` to `0` and `1`."
   ]
  },
  {
   "cell_type": "code",
   "execution_count": null,
   "id": "0a51d14f",
   "metadata": {
    "id": "08e7ed71"
   },
   "outputs": [],
   "source": [
    "validity_map = {4.0: 1.0, 0.0: 0.0}"
   ]
  },
  {
   "cell_type": "code",
   "execution_count": null,
   "id": "cad4ea8d",
   "metadata": {
    "id": "0bba3ac0"
   },
   "outputs": [],
   "source": [
    "df_21_EYE['ET_ValidityLeft'] = df_21_EYE['ET_ValidityLeft'].map(validity_map).astype(np.int8)\n",
    "df_21_EYE['ET_ValidityRight'] = df_21_EYE['ET_ValidityRight'].map(validity_map).astype(np.int8)"
   ]
  },
  {
   "cell_type": "code",
   "execution_count": null,
   "id": "65f8d6a6",
   "metadata": {
    "id": "0ff3f16c"
   },
   "outputs": [],
   "source": [
    "df_21_EYE.head(3)"
   ]
  },
  {
   "cell_type": "code",
   "execution_count": null,
   "id": "7c0bc1eb",
   "metadata": {
    "id": "32eb3225"
   },
   "outputs": [],
   "source": [
    "df_21_EYE.describe()"
   ]
  },
  {
   "cell_type": "code",
   "execution_count": null,
   "id": "3223fca2",
   "metadata": {
    "id": "c1e092e1"
   },
   "outputs": [],
   "source": [
    "df_21_EYE[df_21_EYE['ET_ValidityLeft'] == 1].shape"
   ]
  },
  {
   "cell_type": "code",
   "execution_count": null,
   "id": "c95b9300",
   "metadata": {
    "id": "8ebfb0cc"
   },
   "outputs": [],
   "source": [
    "df_21_EYE[df_21_EYE['ET_ValidityRight'] == 1].shape"
   ]
  },
  {
   "cell_type": "code",
   "execution_count": null,
   "id": "304b3898",
   "metadata": {
    "id": "0d175df2"
   },
   "outputs": [],
   "source": [
    "df_21_EYE[df_21_EYE['ET_ValidityLeft'] == 1].shape[0] / df_21_EYE.shape[0]"
   ]
  },
  {
   "cell_type": "code",
   "execution_count": null,
   "id": "650358d3",
   "metadata": {
    "id": "54cc0f9e"
   },
   "outputs": [],
   "source": [
    "df_21_EYE[df_21_EYE['ET_ValidityRight'] == 1].shape[0] / df_21_EYE.shape[0]"
   ]
  },
  {
   "cell_type": "code",
   "execution_count": null,
   "id": "1089576c",
   "metadata": {
    "id": "45c977c1"
   },
   "outputs": [],
   "source": [
    "plt.figure(figsize=(18, 8))\n",
    "\n",
    "plt.subplot(1, 2, 1)\n",
    "sns.heatmap(df_21_EYE == -1, cmap='viridis')\n",
    "plt.title('Heatmap of -1 Values')\n",
    "\n",
    "plt.subplot(1, 2, 2)\n",
    "sns.heatmap(df_21_EYE == 1, cmap='viridis')\n",
    "plt.title('Heatmap of 1 Values')\n",
    "\n",
    "plt.tight_layout()\n",
    "plt.show()"
   ]
  },
  {
   "cell_type": "code",
   "execution_count": null,
   "id": "5a7dc9a6",
   "metadata": {
    "id": "3b98a13b"
   },
   "outputs": [],
   "source": [
    "df_21_EYE[df_21_EYE['ET_PupilLeft'] == -1].shape"
   ]
  },
  {
   "cell_type": "code",
   "execution_count": null,
   "id": "a82d09a5",
   "metadata": {
    "id": "a2f296f6"
   },
   "outputs": [],
   "source": [
    "df_21_EYE[df_21_EYE['ET_PupilRight'] == -1].shape"
   ]
  },
  {
   "cell_type": "code",
   "execution_count": null,
   "id": "0f533490",
   "metadata": {
    "id": "42cff7eb"
   },
   "outputs": [],
   "source": [
    "df_21_EYE[df_21_EYE['ET_PupilLeft'] == -1].shape[0] / df_21_EYE.shape[0]"
   ]
  },
  {
   "cell_type": "code",
   "execution_count": null,
   "id": "d0cd02ff",
   "metadata": {
    "id": "83c97903"
   },
   "outputs": [],
   "source": [
    "df_21_EYE[df_21_EYE['ET_PupilRight'] == -1].shape[0] / df_21_EYE.shape[0]"
   ]
  },
  {
   "cell_type": "code",
   "execution_count": null,
   "id": "b608f91a",
   "metadata": {
    "id": "6e176d63"
   },
   "outputs": [],
   "source": [
    "plt.figure(figsize=(18, 8))\n",
    "\n",
    "plt.subplot(1, 2, 1)\n",
    "sns.heatmap(df_21_EYE[df_21_EYE['ET_ValidityLeft'] == 1] == -1, cmap='viridis')\n",
    "plt.title('Heatmap of -1 Values')\n",
    "\n",
    "plt.subplot(1, 2, 2)\n",
    "sns.heatmap(df_21_EYE[df_21_EYE['ET_ValidityRight'] == 1] == -1, cmap='viridis')\n",
    "plt.title('Heatmap of -1 Values')\n",
    "\n",
    "plt.tight_layout()\n",
    "plt.show()"
   ]
  },
  {
   "cell_type": "markdown",
   "id": "4c1c2798",
   "metadata": {
    "id": "fff8db39"
   },
   "source": [
    "# Notes & Observations\n",
    "\n",
    "- The heatmaps reveal the distribution of -1 values across different columns.\n",
    "- It is evident that the `-1` values are not randomly scattered but appear in specific columns, notably `ET_GazeLeftx`, `ET_GazeLefty`, `ET_GazeRightx`, `ET_GazeRighty`, `ET_PupilLeft`, `ET_PupilRight`, `ET_DistanceLeft`, `ET_DistanceRight`, `ET_CameraLeftX`, `ET_CameraLeftY`, `ET_CameraRightX`, and `ET_CameraRightY`.\n",
    "- These `-1` values often coincide with instances where `ET_ValidityLeft` or `ET_ValidityRight` is 1, indicating invalid eye-tracking data. This suggests that `-1` is used as a placeholder for missing or invalid measurements in these columns when the eye tracker is not providing valid data for a particular eye.\n",
    "- Given that over 70% of the data in the `ET_PupilLeft` and `ET_PupilRight` columns is marked as invalid (-1), so instead of dropping them we can create new feature for both the `ET_PupilLeft` and `ET_PupilRight` to represent which row consist invalid `ET_PupilLeft` and `ET_PupilRight` data"
   ]
  },
  {
   "cell_type": "code",
   "execution_count": null,
   "id": "e7218869",
   "metadata": {
    "id": "cf7437aa"
   },
   "outputs": [],
   "source": [
    "pupil_validity = {-1: 1 }"
   ]
  },
  {
   "cell_type": "code",
   "execution_count": null,
   "id": "5c0bb085",
   "metadata": {
    "id": "989b113d"
   },
   "outputs": [],
   "source": [
    "df_21_EYE['ET_PupilLeft_validity'] = df_21_EYE['ET_PupilLeft'].map(pupil_validity)"
   ]
  },
  {
   "cell_type": "code",
   "execution_count": null,
   "id": "49ed23f2",
   "metadata": {
    "id": "9ecdfbc0"
   },
   "outputs": [],
   "source": [
    "df_21_EYE['ET_PupilRight_validity'] = df_21_EYE['ET_PupilRight'].map(pupil_validity)"
   ]
  },
  {
   "cell_type": "code",
   "execution_count": null,
   "id": "de830b07",
   "metadata": {
    "id": "7f5d2b28"
   },
   "outputs": [],
   "source": [
    "df_21_EYE[['ET_PupilLeft_validity', 'ET_PupilRight_validity']].head()"
   ]
  },
  {
   "cell_type": "code",
   "execution_count": null,
   "id": "2894feb0",
   "metadata": {
    "id": "6a86c472"
   },
   "outputs": [],
   "source": [
    "df_21_EYE[['ET_PupilLeft_validity', 'ET_PupilRight_validity']].isnull().sum()"
   ]
  },
  {
   "cell_type": "code",
   "execution_count": null,
   "id": "d926734e",
   "metadata": {
    "id": "9121e4a8"
   },
   "outputs": [],
   "source": [
    "plt.figure(figsize=(18, 8))\n",
    "sns.heatmap(df_21_EYE[['ET_PupilLeft_validity', 'ET_PupilRight_validity']].isnull(), cmap='viridis')\n",
    "plt.show()"
   ]
  },
  {
   "cell_type": "code",
   "execution_count": null,
   "id": "d46810f7",
   "metadata": {
    "id": "613a230a"
   },
   "outputs": [],
   "source": [
    "df_21_EYE['ET_PupilLeft_validity'] = df_21_EYE['ET_PupilLeft_validity'].fillna(0)"
   ]
  },
  {
   "cell_type": "code",
   "execution_count": null,
   "id": "ca043869",
   "metadata": {
    "id": "89ae7d3f"
   },
   "outputs": [],
   "source": [
    "df_21_EYE['ET_PupilRight_validity'] = df_21_EYE['ET_PupilRight_validity'].fillna(0)"
   ]
  },
  {
   "cell_type": "code",
   "execution_count": null,
   "id": "8069e2e3",
   "metadata": {
    "id": "a2c39f03"
   },
   "outputs": [],
   "source": [
    "df_21_EYE[['ET_PupilLeft_validity', 'ET_PupilRight_validity']].head()"
   ]
  },
  {
   "cell_type": "code",
   "execution_count": null,
   "id": "d7275ab0",
   "metadata": {
    "id": "6e9c2645"
   },
   "outputs": [],
   "source": [
    "plt.figure(figsize=(18, 8))\n",
    "sns.heatmap(df_21_EYE[['ET_PupilLeft_validity', 'ET_PupilRight_validity']].isnull(), cmap='viridis')\n",
    "plt.show()"
   ]
  },
  {
   "cell_type": "code",
   "execution_count": null,
   "id": "b0de59d7",
   "metadata": {
    "id": "7e52da92"
   },
   "outputs": [],
   "source": [
    "df_21_EYE.head()"
   ]
  },
  {
   "cell_type": "code",
   "execution_count": null,
   "id": "903afc37",
   "metadata": {
    "id": "1cefd42d"
   },
   "outputs": [],
   "source": [
    "plt.figure(figsize=(18, 8))\n",
    "\n",
    "plt.subplot(1, 2, 1)\n",
    "sns.heatmap(df_21_EYE == -1, cmap='viridis')\n",
    "plt.title('Heatmap of -1 Values')\n",
    "\n",
    "plt.subplot(1, 2, 2)\n",
    "sns.heatmap(df_21_EYE == 1, cmap='viridis')\n",
    "plt.title('Heatmap of -1 Values')\n",
    "\n",
    "plt.tight_layout()\n",
    "plt.show()"
   ]
  },
  {
   "cell_type": "code",
   "execution_count": null,
   "id": "7d0efe3a",
   "metadata": {
    "id": "dcf38f27"
   },
   "outputs": [],
   "source": [
    "valid_left_ratio  = 1 - df_21_EYE['ET_ValidityLeft'].mean()"
   ]
  },
  {
   "cell_type": "code",
   "execution_count": null,
   "id": "a1160508",
   "metadata": {
    "id": "2aea00ec"
   },
   "outputs": [],
   "source": [
    "valid_left_ratio"
   ]
  },
  {
   "cell_type": "code",
   "execution_count": null,
   "id": "f413fdcb",
   "metadata": {
    "id": "19ac306c"
   },
   "outputs": [],
   "source": [
    "valid_right_ratio = 1 - df_21_EYE['ET_ValidityRight'].mean()"
   ]
  },
  {
   "cell_type": "code",
   "execution_count": null,
   "id": "bcff0d49",
   "metadata": {
    "id": "4f0aa48e"
   },
   "outputs": [],
   "source": [
    "valid_right_ratio"
   ]
  },
  {
   "cell_type": "code",
   "execution_count": null,
   "id": "7d3f392a",
   "metadata": {
    "id": "a000b670"
   },
   "outputs": [],
   "source": [
    "df_21_EYE['ET_PupilLeft_validity'] = df_21_EYE['ET_PupilLeft_validity'].astype(np.int8)\n",
    "df_21_EYE['ET_PupilRight_validity'] = df_21_EYE['ET_PupilRight_validity'].astype(np.int8)"
   ]
  },
  {
   "cell_type": "markdown",
   "id": "73292e3c",
   "metadata": {
    "id": "6acf6847"
   },
   "source": [
    "# Feature Engineering and Observations\n",
    "\n",
    "Based on the analysis of the data, we've created two new features, `ET_PupilLeft_validity` and `ET_PupilRight_validity`. These features indicate the validity of the pupil data for the left and right eyes, respectively, with a value of 1 representing invalid data (originally -1) and 0 representing valid data.\n",
    "\n",
    "The heatmaps above visually demonstrate the distribution of -1 and 1 values across the dataset. We observed that:\n",
    "- The `-1` values are concentrated in specific columns related to gaze, pupil size, distance, and camera position, suggesting they represent missing or invalid sensor readings.\n",
    "- The `1` values, after mapping from `4.0` in the original validity columns, indicate instances of invalid eye-tracking data.\n",
    "- The heatmaps also show a strong correlation between the `-1` values in the pupil columns and a validity of 1 in the newly created pupil validity features, confirming that -1 was used to mark invalid pupil data."
   ]
  },
  {
   "cell_type": "code",
   "execution_count": null,
   "id": "0041eea9",
   "metadata": {
    "id": "de9f2594"
   },
   "outputs": [],
   "source": [
    "df_21_EYE.head()"
   ]
  },
  {
   "cell_type": "code",
   "execution_count": null,
   "id": "3fc26566",
   "metadata": {
    "id": "bfa2e174"
   },
   "outputs": [],
   "source": [
    "# Select only the numeric columns for plotting histograms, excluding time-related columns\n",
    "numeric_cols = df_21_EYE.select_dtypes(include=np.number).columns\n",
    "cols_to_plot = [col for col in numeric_cols if col not in ['UnixTime']]\n",
    "\n",
    "# Calculate the number of rows and columns for the grid\n",
    "n_cols = 4  # You can adjust the number of columns as needed\n",
    "n_rows = (len(cols_to_plot) + n_cols - 1) // n_cols\n",
    "\n",
    "plt.figure(figsize=(n_cols * 5, n_rows * 4)) # Adjust figure size as needed\n",
    "\n",
    "for i, col in enumerate(cols_to_plot):\n",
    "    plt.subplot(n_rows, n_cols, i + 1)\n",
    "    sns.histplot(df_21_EYE[col], kde=True)\n",
    "    plt.title(f'Distribution of {col}')\n",
    "    plt.xlabel(col)\n",
    "    plt.ylabel('Frequency')\n",
    "\n",
    "plt.tight_layout()\n",
    "plt.show()"
   ]
  },
  {
   "cell_type": "markdown",
   "id": "0cec59af",
   "metadata": {
    "id": "8059766d"
   },
   "source": [
    "# Observations from Histograms\n",
    "\n",
    "The grid of histograms provides insights into the distribution of values for each numeric column in the dataset (excluding 'UnixTime'). Key observations include:\n",
    "\n",
    "- Several columns, such as `ET_GazeLeftx`, `ET_GazeLefty`, `ET_GazeRightx`, and `ET_GazeRighty`, show distributions that appear somewhat multimodal or skewed, suggesting variations in gaze patterns.\n",
    "- The `ET_PupilLeft` and `ET_PupilRight` histograms clearly show a peak at -1, confirming the presence of a significant number of invalid pupil readings.\n",
    "- `ET_TimeSignal` shows a relatively uniform distribution, as expected for a time-based signal.\n",
    "- `ET_DistanceLeft` and `ET_DistanceRight` appear to have distributions centered around certain values, with some outliers or variations.\n",
    "- The camera position columns (`ET_CameraLeftX`, `ET_CameraLeftY`, `ET_CameraRightX`, `ET_CameraRightY`) seem to have distributions concentrated within specific ranges, reflecting the camera's field of view.\n",
    "- The validity columns (`ET_ValidityLeft`, `ET_ValidityRight`, `ET_PupilLeft_validity`, `ET_PupilRight_validity`) show distributions dominated by 0, indicating that most of the data is considered valid after the mapping. The smaller peaks at 1 represent the instances of invalid data.\n",
    "\n",
    "These distributions highlight the need for appropriate handling of the -1 values and potential outliers in subsequent analysis or modeling steps."
   ]
  },
  {
   "cell_type": "code",
   "execution_count": null,
   "id": "13943c39",
   "metadata": {
    "id": "cb65ae1e"
   },
   "outputs": [],
   "source": [
    "df_21_EYE.columns"
   ]
  },
  {
   "cell_type": "code",
   "execution_count": null,
   "id": "1eb250c7",
   "metadata": {
    "id": "8cf2280c"
   },
   "outputs": [],
   "source": [
    "cols = ['ET_GazeLeftx', 'ET_GazeLefty',\n",
    "       'ET_GazeRightx', 'ET_GazeRighty', 'ET_PupilLeft', 'ET_PupilRight',\n",
    "       'ET_TimeSignal', 'ET_DistanceLeft', 'ET_DistanceRight',\n",
    "       'ET_CameraLeftX', 'ET_CameraLeftY', 'ET_CameraRightX',\n",
    "       'ET_CameraRightY', 'ET_ValidityLeft', 'ET_ValidityRight',\n",
    "       'ET_PupilLeft_validity', 'ET_PupilRight_validity']"
   ]
  },
  {
   "cell_type": "code",
   "execution_count": null,
   "id": "eea5ad7e",
   "metadata": {
    "id": "85e45ea9"
   },
   "outputs": [],
   "source": [
    "from IPython.display import display, Markdown\n",
    "\n",
    "for col in cols:\n",
    "    # Add a markdown cell before each plot for better separation and labeling\n",
    "    display(Markdown(f'### {col} over Time'))\n",
    "    plt.figure(figsize=(16, 10))\n",
    "    plt.plot(df_21_EYE['Timestamp'], df_21_EYE[col])\n",
    "    plt.xlabel(\"Timestamp\") # Add x-axis label\n",
    "    plt.ylabel(col) # Add y-axis label\n",
    "    plt.show()"
   ]
  },
  {
   "cell_type": "markdown",
   "id": "8329e624",
   "metadata": {
    "id": "f7ffd08f"
   },
   "source": [
    "# Observations from Time Series Plots\n",
    "\n",
    "The line plots showing various features against the `Timestamp` reveal the temporal patterns and fluctuations in the eye-tracking data. Key observations include:\n",
    "\n",
    "- **Gaze Coordinates (`ET_GazeLeftx`, `ET_GazeLefty`, `ET_GazeRightx`, `ET_GazeRighty`):** These plots show the changes in gaze position over time. We can observe periods of relatively stable gaze interspersed with rapid movements (saccades) and blinks or other events where the gaze data might be invalid (-1 values appear as gaps or spikes if not handled).\n",
    "- **Pupil Size (`ET_PupilLeft`, `ET_PupilRight`):** The pupil size plots show variations over time. The presence of many -1 values is evident as flat lines at the bottom of the plot, indicating periods where pupil data was not recorded or was invalid.\n",
    "- **Time Signal (`ET_TimeSignal`):** This plot shows a steady, increasing trend, as expected for a time-based signal.\n",
    "- **Distance and Camera Position (`ET_DistanceLeft`, `ET_DistanceRight`, `ET_CameraLeftX`, `ET_CameraLeftY`, `ET_CameraRightX`, `ET_CameraRightY`):** These plots show how the distance from the eye tracker and the camera positions change over time. Variations in these features can be related to head movements or changes in the user's position relative to the eye tracker.\n",
    "- **Validity (`ET_ValidityLeft`, `ET_ValidityRight`, `ET_PupilLeft_validity`, `ET_PupilRight_validity`):** These plots clearly show periods of invalid data (represented by 1) as spikes or plateaus, corresponding to instances where the eye tracker lost track of the eyes or the pupil data was marked as invalid.\n",
    "\n",
    "Analyzing these time series plots is crucial for understanding the dynamics of the eye-tracking data and identifying patterns or anomalies that may require further investigation or specific handling during subsequent analysis."
   ]
  },
  {
   "cell_type": "code",
   "execution_count": null,
   "id": "9c3a8078",
   "metadata": {
    "id": "cdd85f8c"
   },
   "outputs": [],
   "source": [
    "# Select only the numeric columns for plotting histograms, excluding time-related columns\n",
    "numeric_cols = df_21_EYE.select_dtypes(include=np.number).columns\n",
    "\n",
    "# Calculate the number of rows and columns for the grid\n",
    "n_cols = 4  # You can adjust the number of columns as needed\n",
    "n_rows = (len(numeric_cols) + n_cols - 1) // n_cols\n",
    "\n",
    "plt.figure(figsize=(n_cols * 5, n_rows * 4)) # Adjust figure size as needed\n",
    "\n",
    "for i, col in enumerate(numeric_cols):\n",
    "    plt.subplot(n_rows, n_cols, i + 1)\n",
    "    sns.boxplot(df_21_EYE[col])\n",
    "    plt.title(f'Boxplot of {col}')\n",
    "    plt.xlabel(col)\n",
    "\n",
    "plt.tight_layout()\n",
    "plt.show()"
   ]
  },
  {
   "cell_type": "markdown",
   "id": "5231fe03",
   "metadata": {
    "id": "2cca19c5"
   },
   "source": [
    "# Observations from Boxplots and Handling -1 Values\n",
    "\n",
    "The boxplots provide a visual summary of the distribution and potential outliers for each numeric column. Key observations from the boxplots include:\n",
    "\n",
    "- The boxplots for columns like `ET_GazeLeftx`, `ET_GazeLefty`, `ET_GazeRightx`, `ET_GazeRighty`, `ET_PupilLeft`, `ET_PupilRight`, `ET_DistanceLeft`, `ET_DistanceRight`, `ET_CameraLeftX`, `ET_CameraLeftY`, `ET_CameraRightX`, and `ET_CameraRightY` clearly show the presence of -1 values as significant outliers, confirming our earlier observations from the heatmaps and histograms.\n",
    "- The boxplots for the validity columns (`ET_ValidityLeft`, `ET_ValidityRight`, `ET_PupilLeft_validity`, `ET_PupilRight_validity`) show the discrete nature of these features, with the majority of data points at 0 (valid) and a smaller number at 1 (invalid).\n",
    "\n",
    "Given the significant presence of -1 values, which represent invalid or missing data, especially in the pupil-related columns, we have decided to replace these -1 values with NaN to properly represent them as missing data. Subsequently, we will impute these missing values using the mean of each respective column. This approach helps to retain the data structure and allows for further analysis or modeling without the distortion caused by the -1 placeholders."
   ]
  },
  {
   "cell_type": "code",
   "execution_count": null,
   "id": "70033c08",
   "metadata": {
    "id": "9217371b"
   },
   "outputs": [],
   "source": [
    "df_21_EYE.replace({-1: np.nan}, inplace=True)"
   ]
  },
  {
   "cell_type": "code",
   "execution_count": null,
   "id": "72893773",
   "metadata": {
    "id": "8108fa01"
   },
   "outputs": [],
   "source": [
    "df_21_EYE[['ET_GazeLeftx', 'ET_GazeLefty',\n",
    "       'ET_GazeRightx', 'ET_GazeRighty', 'ET_PupilLeft', 'ET_PupilRight',\n",
    "       'ET_TimeSignal', 'ET_DistanceLeft', 'ET_DistanceRight',\n",
    "       'ET_CameraLeftX', 'ET_CameraLeftY', 'ET_CameraRightX',\n",
    "       'ET_CameraRightY', 'ET_ValidityLeft', 'ET_ValidityRight',\n",
    "       'ET_PupilLeft_validity', 'ET_PupilRight_validity']].mean()"
   ]
  },
  {
   "cell_type": "code",
   "execution_count": null,
   "id": "6239a8e2",
   "metadata": {
    "id": "9b94fbce"
   },
   "outputs": [],
   "source": [
    "df_21_EYE[['ET_GazeLeftx', 'ET_GazeLefty',\n",
    "       'ET_GazeRightx', 'ET_GazeRighty', 'ET_PupilLeft', 'ET_PupilRight',\n",
    "       'ET_TimeSignal', 'ET_DistanceLeft', 'ET_DistanceRight',\n",
    "       'ET_CameraLeftX', 'ET_CameraLeftY', 'ET_CameraRightX',\n",
    "       'ET_CameraRightY', 'ET_ValidityLeft', 'ET_ValidityRight',\n",
    "       'ET_PupilLeft_validity', 'ET_PupilRight_validity']].median()"
   ]
  },
  {
   "cell_type": "code",
   "execution_count": null,
   "id": "20eca487",
   "metadata": {
    "id": "ee1238c8"
   },
   "outputs": [],
   "source": [
    "numeric_cols = df_21_EYE.select_dtypes(include=np.number).columns\n",
    "\n",
    "for col in numeric_cols:\n",
    "    df_21_EYE[col] = df_21_EYE[col].fillna(df_21_EYE[col].mean())"
   ]
  },
  {
   "cell_type": "code",
   "execution_count": null,
   "id": "5ad9382d",
   "metadata": {
    "id": "b0bc522d"
   },
   "outputs": [],
   "source": [
    "plt.figure(figsize=(18, 8))\n",
    "\n",
    "plt.subplot(1, 2, 1)\n",
    "sns.heatmap(df_21_EYE.isnull(), cmap='viridis')\n",
    "plt.title('Heatmap of Missing Values After Imputation')\n",
    "\n",
    "plt.subplot(1, 2, 2)\n",
    "sns.heatmap(df_21_EYE == 1, cmap='viridis')\n",
    "plt.title('Heatmap of 1 Values')\n",
    "\n",
    "plt.tight_layout()\n",
    "plt.show()"
   ]
  },
  {
   "cell_type": "markdown",
   "id": "380a96c3",
   "metadata": {
    "id": "c0f1e10d"
   },
   "source": [
    "# Handling Missing Values (Imputation)\n",
    "\n",
    "As decided, we have replaced all the `-1` values with `NaN` to treat them as missing data. Subsequently, we have imputed these `NaN` values with the mean of their respective columns. The heatmap above, which was generated after the imputation, now shows no visible signs of `NaN` values, indicating that the imputation was successful."
   ]
  },
  {
   "cell_type": "code",
   "execution_count": null,
   "id": "cb5205f2",
   "metadata": {
    "id": "2491c1da"
   },
   "outputs": [],
   "source": [
    "df_21_EYE.head()"
   ]
  },
  {
   "cell_type": "code",
   "execution_count": null,
   "id": "4fb93a0b",
   "metadata": {
    "id": "64f04350"
   },
   "outputs": [],
   "source": [
    "# Select only the numeric columns for plotting histograms, excluding time-related columns\n",
    "numeric_cols = df_21_EYE.select_dtypes(include=np.number).columns\n",
    "cols_to_plot = [col for col in numeric_cols if col not in ['UnixTime']]\n",
    "\n",
    "# Calculate the number of rows and columns for the grid\n",
    "n_cols = 4  # You can adjust the number of columns as needed\n",
    "n_rows = (len(cols_to_plot) + n_cols - 1) // n_cols\n",
    "\n",
    "plt.figure(figsize=(n_cols * 5, n_rows * 4)) # Adjust figure size as needed\n",
    "\n",
    "for i, col in enumerate(cols_to_plot):\n",
    "    plt.subplot(n_rows, n_cols, i + 1)\n",
    "    sns.histplot(df_21_EYE[col], kde=True)\n",
    "    plt.title(f'Distribution of {col}')\n",
    "    plt.xlabel(col)\n",
    "    plt.ylabel('Frequency')\n",
    "\n",
    "plt.tight_layout()\n",
    "plt.show()"
   ]
  },
  {
   "cell_type": "markdown",
   "id": "0b48dedb",
   "metadata": {
    "id": "e0c83f1c"
   },
   "source": [
    "# Observations from Histograms After Imputation\n",
    "\n",
    "The histograms generated after replacing the -1 values with the mean of each column show the distributions of the numeric features with the missing data handled. Key observations from these updated histograms include:\n",
    "\n",
    "- The distinct peaks at -1, which were prominent in the histograms for several columns (e.g., pupil size, gaze coordinates, distance, and camera position) before imputation, are now replaced by a peak at the mean of each respective column.\n",
    "- The distributions in many columns now appear more unimodal or show shifted modes compared to the original histograms.\n",
    "- The histograms for the validity columns still show their bimodal distributions with peaks at 0 and 1, as these were handled separately.\n",
    "\n",
    "These histograms provide an updated view of the data's distribution after handling the missing values, highlighting the impact of the imputation method on the data's characteristics."
   ]
  },
  {
   "cell_type": "code",
   "execution_count": null,
   "id": "fde96520",
   "metadata": {
    "id": "de0b2f65"
   },
   "outputs": [],
   "source": [
    "cols = ['ET_GazeLeftx', 'ET_GazeLefty',\n",
    "       'ET_GazeRightx', 'ET_GazeRighty', 'ET_PupilLeft', 'ET_PupilRight',\n",
    "       'ET_TimeSignal', 'ET_DistanceLeft', 'ET_DistanceRight',\n",
    "       'ET_CameraLeftX', 'ET_CameraLeftY', 'ET_CameraRightX',\n",
    "       'ET_CameraRightY', 'ET_ValidityLeft', 'ET_ValidityRight',\n",
    "       'ET_PupilLeft_validity', 'ET_PupilRight_validity']"
   ]
  },
  {
   "cell_type": "code",
   "execution_count": null,
   "id": "56aa5838",
   "metadata": {
    "id": "4ddd4915"
   },
   "outputs": [],
   "source": [
    "for col in cols:\n",
    "    # Add a markdown cell before each plot for better separation and labeling\n",
    "    display(Markdown(f'### {col} over Time'))\n",
    "    plt.figure(figsize=(16, 10))\n",
    "    plt.plot(df_21_EYE['Timestamp'], df_21_EYE[col])\n",
    "    plt.xlabel(\"Timestamp\") # Add x-axis label\n",
    "    plt.ylabel(col) # Add y-axis label\n",
    "    plt.show()"
   ]
  },
  {
   "cell_type": "markdown",
   "id": "e67c01c7",
   "metadata": {
    "id": "0fb07abb"
   },
   "source": [
    "# Observations from Time Series Plots After Imputation\n",
    "\n",
    "The line plots generated after imputing the missing values with the mean show the temporal patterns of the features with the missing data handled. Key observations from these updated plots include:\n",
    "\n",
    "- The gaps or flat lines at -1, which were prominent in the plots for columns like gaze coordinates, pupil size, distance, and camera position, are now filled by lines at the mean value of the respective columns.\n",
    "- The plots for the validity columns remain the same as they were handled separately.\n",
    "- The `ET_TimeSignal` plot still shows a steady increasing trend, as expected."
   ]
  },
  {
   "cell_type": "code",
   "execution_count": null,
   "id": "dc6f669d",
   "metadata": {
    "id": "c608fd95"
   },
   "outputs": [],
   "source": [
    "plt.figure(figsize=(16, 10))\n",
    "sns.heatmap(df_21_EYE.corr(numeric_only=True), cmap='YlGnBu', annot=True)\n",
    "plt.show()"
   ]
  },
  {
   "cell_type": "markdown",
   "id": "87d584b0",
   "metadata": {
    "id": "82405ba6"
   },
   "source": [
    "# Observations from Correlation Heatmap\n",
    "\n",
    "The correlation heatmap provides a visual representation of the pairwise correlations between the numeric columns in the dataset. Key observations from the heatmap include:\n",
    "\n",
    "- **High Positive Correlations:** We observe strong positive correlations (values close to 1) between:\n",
    "  - `ET_GazeLeftx` and `ET_GazeRightx`: This is expected as the gaze positions of both eyes should be highly correlated when fixating on a point.\n",
    "  - `ET_GazeLefty` and `ET_GazeRighty`: Similar to the x-coordinates, the y-coordinates of gaze should also be highly correlated.\n",
    "  - `ET_PupilLeft` and `ET_PupilRight`: Pupil sizes of both eyes tend to change together in response to light and cognitive load.\n",
    "  - `ET_DistanceLeft` and `ET_DistanceRight`: The distance from the eye tracker to each eye should be highly correlated.\n",
    "  - `ET_CameraLeftX` and `ET_CameraRightX`, `ET_CameraLeftY` and `ET_CameraRightY`: The camera positions for both eyes are also expected to be highly correlated.\n",
    "  - `UnixTime` and `ET_TimeSignal`: As previously noted, these two columns are almost perfectly linearly correlated, indicating redundancy.\n",
    "  - `ET_ValidityLeft` and `ET_PupilLeft_validity`: There is a positive correlation, suggesting that when the overall left eye data is invalid, the left pupil data is also likely to be invalid.\n",
    "  - `ET_ValidityRight` and `ET_PupilRight_validity`: Similar to the left eye, there is a positive correlation between the overall right eye validity and the right pupil validity.\n",
    "- **Other Correlations:** We can also observe other varying degrees of correlations between different features, which can provide insights into the relationships between gaze behavior, pupil size, distance, and camera position. For example, there might be correlations between gaze coordinates and camera positions, reflecting head movements.\n",
    "- **Low or Near-Zero Correlations:** Columns with low or near-zero correlations are relatively independent of each other.\n",
    "\n",
    "Understanding these correlations is important for feature selection and for building models, as highly correlated features might indicate multicollinearity, while correlations between features can reveal underlying patterns in the data."
   ]
  },
  {
   "cell_type": "markdown",
   "id": "80039269",
   "metadata": {
    "id": "1c413c3b"
   },
   "source": [
    "# Analysis of ET_TimeSignal and Decision to Drop\n",
    "\n",
    "As observed in the time series plot and confirmed by the correlation heatmap, the `ET_TimeSignal` column exhibits a near-perfect linear relationship with both the `Timestamp` and `UnixTime` columns. This strong correlation (close to 1) suggests that `ET_TimeSignal` is essentially redundant and likely represents another form of time recording or a signal directly derived from the timestamp.\n",
    "\n",
    "Including highly correlated features like this in a dataset can lead to issues such as multicollinearity in some statistical models, which can make it difficult to interpret the individual impact of each feature. Since the `Timestamp` column already provides the necessary temporal information, retaining `ET_TimeSignal` does not appear to add significant value for further analysis or modeling in most cases.\n",
    "\n",
    "Therefore, based on its high correlation and lack of unique insight, we will proceed to drop the `ET_TimeSignal` column to simplify the dataset and potentially improve the performance and interpretability of future analyses."
   ]
  },
  {
   "cell_type": "code",
   "execution_count": null,
   "id": "e126a258",
   "metadata": {
    "id": "7c96e349"
   },
   "outputs": [],
   "source": [
    "df_21_EYE.drop('ET_TimeSignal', axis=1, inplace=True)"
   ]
  },
  {
   "cell_type": "code",
   "execution_count": null,
   "id": "21e763b0",
   "metadata": {
    "id": "5845a61d"
   },
   "outputs": [],
   "source": [
    "plt.figure(figsize=(16, 10))\n",
    "sns.pairplot(df_21_EYE)\n",
    "plt.show()"
   ]
  },
  {
   "cell_type": "markdown",
   "id": "00bc52ff",
   "metadata": {
    "id": "sMcHS8LIOGeT"
   },
   "source": [
    "# **22_EYE**"
   ]
  },
  {
   "cell_type": "code",
   "execution_count": null,
   "id": "9d70b9e5",
   "metadata": {
    "id": "L2tJooyROWnM"
   },
   "outputs": [],
   "source": []
  },
  {
   "cell_type": "code",
   "execution_count": null,
   "id": "5175de10",
   "metadata": {
    "id": "6c647c4f"
   },
   "outputs": [],
   "source": [
    "df_22_EYE = pd.read_csv('data/STData/22/22_EYE.csv')"
   ]
  },
  {
   "cell_type": "code",
   "execution_count": null,
   "id": "8323846e",
   "metadata": {
    "id": "c229bba7"
   },
   "outputs": [],
   "source": [
    "df_22_EYE.head()"
   ]
  },
  {
   "cell_type": "code",
   "execution_count": null,
   "id": "4e761d08",
   "metadata": {
    "id": "0ec8e716"
   },
   "outputs": [],
   "source": [
    "df_22_EYE.shape"
   ]
  },
  {
   "cell_type": "code",
   "execution_count": null,
   "id": "42067bfd",
   "metadata": {
    "id": "43ba37eb"
   },
   "outputs": [],
   "source": [
    "df_22_EYE.columns"
   ]
  },
  {
   "cell_type": "code",
   "execution_count": null,
   "id": "5686da90",
   "metadata": {
    "id": "19f68fb4"
   },
   "outputs": [],
   "source": [
    "df_22_EYE.info()"
   ]
  },
  {
   "cell_type": "code",
   "execution_count": null,
   "id": "4d2d333c",
   "metadata": {
    "id": "603369d7"
   },
   "outputs": [],
   "source": [
    "df_22_EYE.isnull().sum()"
   ]
  },
  {
   "cell_type": "code",
   "execution_count": null,
   "id": "a95d3ea3",
   "metadata": {
    "id": "874353e3"
   },
   "outputs": [],
   "source": [
    "plt.figure(figsize=(12,8))\n",
    "sns.heatmap(df_22_EYE.isnull(), cmap='viridis')\n",
    "plt.show()"
   ]
  },
  {
   "cell_type": "markdown",
   "id": "10924e22",
   "metadata": {
    "id": "b17906e7"
   },
   "source": [
    "# Notes & Observations\n",
    "\n",
    "- We observe many **null** (or missing) values in the `QuestionKey` columns.\n",
    "- The nulls in the `QuestionKey` column may not represent “true” nulls. Rather, they follow interval patterns, suggesting that during those periods no question was displayed.\n",
    "- These missing values in `QuestionKey` require additional investigation and context-aware handling."
   ]
  },
  {
   "cell_type": "code",
   "execution_count": null,
   "id": "320777e5",
   "metadata": {
    "id": "1113779e"
   },
   "outputs": [],
   "source": [
    "df_22_EYE['QuestionKey'].unique()"
   ]
  },
  {
   "cell_type": "code",
   "execution_count": null,
   "id": "43c79350",
   "metadata": {
    "id": "db0a93a2"
   },
   "outputs": [],
   "source": [
    "df_22_EYE['Timestamp'] = pd.to_datetime(df_22_EYE['Timestamp'])"
   ]
  },
  {
   "cell_type": "code",
   "execution_count": null,
   "id": "d02c8ed1",
   "metadata": {
    "id": "03d57b0a"
   },
   "outputs": [],
   "source": [
    "df_22_EYE.head(3)"
   ]
  },
  {
   "cell_type": "code",
   "execution_count": null,
   "id": "3da837b0",
   "metadata": {
    "id": "c0004029"
   },
   "outputs": [],
   "source": [
    "df_22_EYE['QuestionKey'] = df_22_EYE['QuestionKey'].fillna('None')"
   ]
  },
  {
   "cell_type": "code",
   "execution_count": null,
   "id": "3d3b278e",
   "metadata": {
    "id": "dfb4729e"
   },
   "outputs": [],
   "source": [
    "df_22_EYE['QuestionKey'].value_counts()"
   ]
  },
  {
   "cell_type": "code",
   "execution_count": null,
   "id": "b409b037",
   "metadata": {
    "id": "9353c9d8"
   },
   "outputs": [],
   "source": [
    "plt.figure(figsize=(12,8))\n",
    "sns.heatmap(df_22_EYE.isnull(), cmap='viridis')\n",
    "plt.show()"
   ]
  },
  {
   "cell_type": "code",
   "execution_count": null,
   "id": "7e2e0517",
   "metadata": {
    "id": "5c73d150"
   },
   "outputs": [],
   "source": [
    "df_22_EYE.isnull().sum()"
   ]
  },
  {
   "cell_type": "code",
   "execution_count": null,
   "id": "55202ef4",
   "metadata": {
    "id": "6c700142"
   },
   "outputs": [],
   "source": [
    "df_22_EYE.dropna(inplace=True)"
   ]
  },
  {
   "cell_type": "code",
   "execution_count": null,
   "id": "e3f765ce",
   "metadata": {
    "id": "90a604ce"
   },
   "outputs": [],
   "source": [
    "df_22_EYE.head()"
   ]
  },
  {
   "cell_type": "code",
   "execution_count": null,
   "id": "592cfdb2",
   "metadata": {
    "id": "a43a4283"
   },
   "outputs": [],
   "source": [
    "df_22_EYE['Row'].unique()"
   ]
  },
  {
   "cell_type": "code",
   "execution_count": null,
   "id": "b9af4a06",
   "metadata": {
    "id": "f66566f9"
   },
   "outputs": [],
   "source": [
    "plt.figure(figsize=(8,6))\n",
    "sns.histplot(df_22_EYE['Row'])\n",
    "plt.show()"
   ]
  },
  {
   "cell_type": "markdown",
   "id": "f45d6243",
   "metadata": {
    "id": "5ddf40fd"
   },
   "source": [
    "# Notes & Observations\n",
    "\n",
    "- The `Row` column appears to be a simple row index and does not provide meaningful information relevant to the eye-tracking data itself. Therefore, it can be dropped."
   ]
  },
  {
   "cell_type": "code",
   "execution_count": null,
   "id": "f558a172",
   "metadata": {
    "id": "5aee4404"
   },
   "outputs": [],
   "source": [
    "df_22_EYE.drop('Row', axis=1, inplace=True)"
   ]
  },
  {
   "cell_type": "code",
   "execution_count": null,
   "id": "fed507fe",
   "metadata": {
    "id": "827f3274"
   },
   "outputs": [],
   "source": [
    "df_22_EYE['ET_ValidityLeft'].unique()"
   ]
  },
  {
   "cell_type": "code",
   "execution_count": null,
   "id": "dd7b09c4",
   "metadata": {
    "id": "1437751a"
   },
   "outputs": [],
   "source": [
    "df_22_EYE['ET_ValidityLeft'].value_counts()"
   ]
  },
  {
   "cell_type": "code",
   "execution_count": null,
   "id": "ad6bbc8a",
   "metadata": {
    "id": "d0a9ee4a"
   },
   "outputs": [],
   "source": [
    "df_22_EYE['ET_ValidityRight'].unique()"
   ]
  },
  {
   "cell_type": "code",
   "execution_count": null,
   "id": "3133dc6f",
   "metadata": {
    "id": "55ddcc2b"
   },
   "outputs": [],
   "source": [
    "df_22_EYE['ET_ValidityRight'].value_counts()"
   ]
  },
  {
   "cell_type": "code",
   "execution_count": null,
   "id": "189bcdab",
   "metadata": {
    "id": "faef00be"
   },
   "outputs": [],
   "source": [
    "plt.figure(figsize=(12, 6))\n",
    "\n",
    "plt.subplot(1, 2, 1)\n",
    "sns.barplot(x=df_22_EYE['ET_ValidityLeft'].value_counts().index, y=df_22_EYE['ET_ValidityLeft'].value_counts().values)\n",
    "plt.title('Count of ET_ValidityLeft')\n",
    "plt.xlabel('Validity')\n",
    "plt.ylabel('Count')\n",
    "\n",
    "\n",
    "plt.subplot(1, 2, 2)\n",
    "sns.barplot(x=df_22_EYE['ET_ValidityRight'].value_counts().index, y=df_22_EYE['ET_ValidityRight'].value_counts().values)\n",
    "plt.title('Count of ET_ValidityRight')\n",
    "plt.xlabel('Validity')\n",
    "plt.ylabel('Count')\n",
    "\n",
    "plt.tight_layout()\n",
    "plt.show()"
   ]
  },
  {
   "cell_type": "markdown",
   "id": "b9f60a44",
   "metadata": {
    "id": "b43706ea"
   },
   "source": [
    "# Notes & Observations\n",
    "\n",
    "- The `ET_ValidityLeft` and `ET_ValidityRight` columns indicate the validity of the eye-tracking data for the left and right eye, respectively.\n",
    "- Based on the value counts and the bar plots, it appears that a value of `0.0` represents valid eye-tracking data, while a value of `4.0` represents invalid data.\n",
    "- Although the amount of invalid data is relatively small, removing these rows could introduce unwanted patterns or gaps in the time series data.\n",
    "- Therefore, we will keep the data and replace the value `4.0` with `1.0` in both `ET_ValidityLeft` and `ET_ValidityRight` columns. This will indicate to a machine learning model that the eye tracker had invalid data at those specific points in time while maintaining the integrity of the time series."
   ]
  },
  {
   "cell_type": "markdown",
   "id": "f375ff59",
   "metadata": {
    "id": "e9e671b2"
   },
   "source": [
    "Define a mapping to convert validity values from `0.0` and `4.0` to `0` and `1`."
   ]
  },
  {
   "cell_type": "code",
   "execution_count": null,
   "id": "5dec5eb0",
   "metadata": {
    "id": "08e7ed71"
   },
   "outputs": [],
   "source": [
    "validity_map = {4.0: 1.0, 0.0: 0.0}"
   ]
  },
  {
   "cell_type": "code",
   "execution_count": null,
   "id": "c0c88ef5",
   "metadata": {
    "id": "0bba3ac0"
   },
   "outputs": [],
   "source": [
    "df_22_EYE['ET_ValidityLeft'] = df_22_EYE['ET_ValidityLeft'].map(validity_map).astype(np.int8)\n",
    "df_22_EYE['ET_ValidityRight'] = df_22_EYE['ET_ValidityRight'].map(validity_map).astype(np.int8)"
   ]
  },
  {
   "cell_type": "code",
   "execution_count": null,
   "id": "b81ab7fd",
   "metadata": {
    "id": "0ff3f16c"
   },
   "outputs": [],
   "source": [
    "df_22_EYE.head(3)"
   ]
  },
  {
   "cell_type": "code",
   "execution_count": null,
   "id": "2cb114aa",
   "metadata": {
    "id": "32eb3225"
   },
   "outputs": [],
   "source": [
    "df_22_EYE.describe()"
   ]
  },
  {
   "cell_type": "code",
   "execution_count": null,
   "id": "e9287847",
   "metadata": {
    "id": "c1e092e1"
   },
   "outputs": [],
   "source": [
    "df_22_EYE[df_22_EYE['ET_ValidityLeft'] == 1].shape"
   ]
  },
  {
   "cell_type": "code",
   "execution_count": null,
   "id": "9a6e68ac",
   "metadata": {
    "id": "8ebfb0cc"
   },
   "outputs": [],
   "source": [
    "df_22_EYE[df_22_EYE['ET_ValidityRight'] == 1].shape"
   ]
  },
  {
   "cell_type": "code",
   "execution_count": null,
   "id": "f2058d3f",
   "metadata": {
    "id": "0d175df2"
   },
   "outputs": [],
   "source": [
    "df_22_EYE[df_22_EYE['ET_ValidityLeft'] == 1].shape[0] / df_22_EYE.shape[0]"
   ]
  },
  {
   "cell_type": "code",
   "execution_count": null,
   "id": "8018c4a9",
   "metadata": {
    "id": "54cc0f9e"
   },
   "outputs": [],
   "source": [
    "df_22_EYE[df_22_EYE['ET_ValidityRight'] == 1].shape[0] / df_22_EYE.shape[0]"
   ]
  },
  {
   "cell_type": "code",
   "execution_count": null,
   "id": "55baf27c",
   "metadata": {
    "id": "45c977c1"
   },
   "outputs": [],
   "source": [
    "plt.figure(figsize=(18, 8))\n",
    "\n",
    "plt.subplot(1, 2, 1)\n",
    "sns.heatmap(df_22_EYE == -1, cmap='viridis')\n",
    "plt.title('Heatmap of -1 Values')\n",
    "\n",
    "plt.subplot(1, 2, 2)\n",
    "sns.heatmap(df_22_EYE == 1, cmap='viridis')\n",
    "plt.title('Heatmap of 1 Values')\n",
    "\n",
    "plt.tight_layout()\n",
    "plt.show()"
   ]
  },
  {
   "cell_type": "code",
   "execution_count": null,
   "id": "b9cd14b6",
   "metadata": {
    "id": "3b98a13b"
   },
   "outputs": [],
   "source": [
    "df_22_EYE[df_22_EYE['ET_PupilLeft'] == -1].shape"
   ]
  },
  {
   "cell_type": "code",
   "execution_count": null,
   "id": "f352a5b8",
   "metadata": {
    "id": "a2f296f6"
   },
   "outputs": [],
   "source": [
    "df_22_EYE[df_22_EYE['ET_PupilRight'] == -1].shape"
   ]
  },
  {
   "cell_type": "code",
   "execution_count": null,
   "id": "ad60123f",
   "metadata": {
    "id": "42cff7eb"
   },
   "outputs": [],
   "source": [
    "df_22_EYE[df_22_EYE['ET_PupilLeft'] == -1].shape[0] / df_22_EYE.shape[0]"
   ]
  },
  {
   "cell_type": "code",
   "execution_count": null,
   "id": "81eb7603",
   "metadata": {
    "id": "83c97903"
   },
   "outputs": [],
   "source": [
    "df_22_EYE[df_22_EYE['ET_PupilRight'] == -1].shape[0] / df_22_EYE.shape[0]"
   ]
  },
  {
   "cell_type": "code",
   "execution_count": null,
   "id": "4a9b5467",
   "metadata": {
    "id": "6e176d63"
   },
   "outputs": [],
   "source": [
    "plt.figure(figsize=(18, 8))\n",
    "\n",
    "plt.subplot(1, 2, 1)\n",
    "sns.heatmap(df_22_EYE[df_22_EYE['ET_ValidityLeft'] == 1] == -1, cmap='viridis')\n",
    "plt.title('Heatmap of -1 Values')\n",
    "\n",
    "plt.subplot(1, 2, 2)\n",
    "sns.heatmap(df_22_EYE[df_22_EYE['ET_ValidityRight'] == 1] == -1, cmap='viridis')\n",
    "plt.title('Heatmap of -1 Values')\n",
    "\n",
    "plt.tight_layout()\n",
    "plt.show()"
   ]
  },
  {
   "cell_type": "markdown",
   "id": "89d02466",
   "metadata": {
    "id": "fff8db39"
   },
   "source": [
    "# Notes & Observations\n",
    "\n",
    "- The heatmaps reveal the distribution of -1 values across different columns.\n",
    "- It is evident that the `-1` values are not randomly scattered but appear in specific columns, notably `ET_GazeLeftx`, `ET_GazeLefty`, `ET_GazeRightx`, `ET_GazeRighty`, `ET_PupilLeft`, `ET_PupilRight`, `ET_DistanceLeft`, `ET_DistanceRight`, `ET_CameraLeftX`, `ET_CameraLeftY`, `ET_CameraRightX`, and `ET_CameraRightY`.\n",
    "- These `-1` values often coincide with instances where `ET_ValidityLeft` or `ET_ValidityRight` is 1, indicating invalid eye-tracking data. This suggests that `-1` is used as a placeholder for missing or invalid measurements in these columns when the eye tracker is not providing valid data for a particular eye.\n",
    "- Given that over 70% of the data in the `ET_PupilLeft` and `ET_PupilRight` columns is marked as invalid (-1), so instead of dropping them we can create new feature for both the `ET_PupilLeft` and `ET_PupilRight` to represent which row consist invalid `ET_PupilLeft` and `ET_PupilRight` data"
   ]
  },
  {
   "cell_type": "code",
   "execution_count": null,
   "id": "900236e5",
   "metadata": {
    "id": "cf7437aa"
   },
   "outputs": [],
   "source": [
    "pupil_validity = {-1: 1 }"
   ]
  },
  {
   "cell_type": "code",
   "execution_count": null,
   "id": "44cdd79a",
   "metadata": {
    "id": "989b113d"
   },
   "outputs": [],
   "source": [
    "df_22_EYE['ET_PupilLeft_validity'] = df_22_EYE['ET_PupilLeft'].map(pupil_validity)"
   ]
  },
  {
   "cell_type": "code",
   "execution_count": null,
   "id": "f4651c2a",
   "metadata": {
    "id": "9ecdfbc0"
   },
   "outputs": [],
   "source": [
    "df_22_EYE['ET_PupilRight_validity'] = df_22_EYE['ET_PupilRight'].map(pupil_validity)"
   ]
  },
  {
   "cell_type": "code",
   "execution_count": null,
   "id": "9a190d18",
   "metadata": {
    "id": "7f5d2b28"
   },
   "outputs": [],
   "source": [
    "df_22_EYE[['ET_PupilLeft_validity', 'ET_PupilRight_validity']].head()"
   ]
  },
  {
   "cell_type": "code",
   "execution_count": null,
   "id": "c388553d",
   "metadata": {
    "id": "6a86c472"
   },
   "outputs": [],
   "source": [
    "df_22_EYE[['ET_PupilLeft_validity', 'ET_PupilRight_validity']].isnull().sum()"
   ]
  },
  {
   "cell_type": "code",
   "execution_count": null,
   "id": "ac8c047c",
   "metadata": {
    "id": "9121e4a8"
   },
   "outputs": [],
   "source": [
    "plt.figure(figsize=(18, 8))\n",
    "sns.heatmap(df_22_EYE[['ET_PupilLeft_validity', 'ET_PupilRight_validity']].isnull(), cmap='viridis')\n",
    "plt.show()"
   ]
  },
  {
   "cell_type": "code",
   "execution_count": null,
   "id": "30cd2ee2",
   "metadata": {
    "id": "613a230a"
   },
   "outputs": [],
   "source": [
    "df_22_EYE['ET_PupilLeft_validity'] = df_22_EYE['ET_PupilLeft_validity'].fillna(0)"
   ]
  },
  {
   "cell_type": "code",
   "execution_count": null,
   "id": "f5bae850",
   "metadata": {
    "id": "89ae7d3f"
   },
   "outputs": [],
   "source": [
    "df_22_EYE['ET_PupilRight_validity'] = df_22_EYE['ET_PupilRight_validity'].fillna(0)"
   ]
  },
  {
   "cell_type": "code",
   "execution_count": null,
   "id": "293b69c4",
   "metadata": {
    "id": "a2c39f03"
   },
   "outputs": [],
   "source": [
    "df_22_EYE[['ET_PupilLeft_validity', 'ET_PupilRight_validity']].head()"
   ]
  },
  {
   "cell_type": "code",
   "execution_count": null,
   "id": "dcc0c33d",
   "metadata": {
    "id": "6e9c2645"
   },
   "outputs": [],
   "source": [
    "plt.figure(figsize=(18, 8))\n",
    "sns.heatmap(df_22_EYE[['ET_PupilLeft_validity', 'ET_PupilRight_validity']].isnull(), cmap='viridis')\n",
    "plt.show()"
   ]
  },
  {
   "cell_type": "code",
   "execution_count": null,
   "id": "16d5fed3",
   "metadata": {
    "id": "7e52da92"
   },
   "outputs": [],
   "source": [
    "df_22_EYE.head()"
   ]
  },
  {
   "cell_type": "code",
   "execution_count": null,
   "id": "0b7999e7",
   "metadata": {
    "id": "1cefd42d"
   },
   "outputs": [],
   "source": [
    "plt.figure(figsize=(18, 8))\n",
    "\n",
    "plt.subplot(1, 2, 1)\n",
    "sns.heatmap(df_22_EYE == -1, cmap='viridis')\n",
    "plt.title('Heatmap of -1 Values')\n",
    "\n",
    "plt.subplot(1, 2, 2)\n",
    "sns.heatmap(df_22_EYE == 1, cmap='viridis')\n",
    "plt.title('Heatmap of -1 Values')\n",
    "\n",
    "plt.tight_layout()\n",
    "plt.show()"
   ]
  },
  {
   "cell_type": "code",
   "execution_count": null,
   "id": "fb171d9d",
   "metadata": {
    "id": "dcf38f27"
   },
   "outputs": [],
   "source": [
    "valid_left_ratio  = 1 - df_22_EYE['ET_ValidityLeft'].mean()"
   ]
  },
  {
   "cell_type": "code",
   "execution_count": null,
   "id": "be8e7928",
   "metadata": {
    "id": "2aea00ec"
   },
   "outputs": [],
   "source": [
    "valid_left_ratio"
   ]
  },
  {
   "cell_type": "code",
   "execution_count": null,
   "id": "7abd0f76",
   "metadata": {
    "id": "19ac306c"
   },
   "outputs": [],
   "source": [
    "valid_right_ratio = 1 - df_22_EYE['ET_ValidityRight'].mean()"
   ]
  },
  {
   "cell_type": "code",
   "execution_count": null,
   "id": "f54c1ce4",
   "metadata": {
    "id": "4f0aa48e"
   },
   "outputs": [],
   "source": [
    "valid_right_ratio"
   ]
  },
  {
   "cell_type": "code",
   "execution_count": null,
   "id": "32a72d41",
   "metadata": {
    "id": "a000b670"
   },
   "outputs": [],
   "source": [
    "df_22_EYE['ET_PupilLeft_validity'] = df_22_EYE['ET_PupilLeft_validity'].astype(np.int8)\n",
    "df_22_EYE['ET_PupilRight_validity'] = df_22_EYE['ET_PupilRight_validity'].astype(np.int8)"
   ]
  },
  {
   "cell_type": "markdown",
   "id": "38620a9a",
   "metadata": {
    "id": "6acf6847"
   },
   "source": [
    "# Feature Engineering and Observations\n",
    "\n",
    "Based on the analysis of the data, we've created two new features, `ET_PupilLeft_validity` and `ET_PupilRight_validity`. These features indicate the validity of the pupil data for the left and right eyes, respectively, with a value of 1 representing invalid data (originally -1) and 0 representing valid data.\n",
    "\n",
    "The heatmaps above visually demonstrate the distribution of -1 and 1 values across the dataset. We observed that:\n",
    "- The `-1` values are concentrated in specific columns related to gaze, pupil size, distance, and camera position, suggesting they represent missing or invalid sensor readings.\n",
    "- The `1` values, after mapping from `4.0` in the original validity columns, indicate instances of invalid eye-tracking data.\n",
    "- The heatmaps also show a strong correlation between the `-1` values in the pupil columns and a validity of 1 in the newly created pupil validity features, confirming that -1 was used to mark invalid pupil data."
   ]
  },
  {
   "cell_type": "code",
   "execution_count": null,
   "id": "2eee9842",
   "metadata": {
    "id": "de9f2594"
   },
   "outputs": [],
   "source": [
    "df_22_EYE.head()"
   ]
  },
  {
   "cell_type": "code",
   "execution_count": null,
   "id": "2a56e955",
   "metadata": {
    "id": "bfa2e174"
   },
   "outputs": [],
   "source": [
    "# Select only the numeric columns for plotting histograms, excluding time-related columns\n",
    "numeric_cols = df_22_EYE.select_dtypes(include=np.number).columns\n",
    "cols_to_plot = [col for col in numeric_cols if col not in ['UnixTime']]\n",
    "\n",
    "# Calculate the number of rows and columns for the grid\n",
    "n_cols = 4  # You can adjust the number of columns as needed\n",
    "n_rows = (len(cols_to_plot) + n_cols - 1) // n_cols\n",
    "\n",
    "plt.figure(figsize=(n_cols * 5, n_rows * 4)) # Adjust figure size as needed\n",
    "\n",
    "for i, col in enumerate(cols_to_plot):\n",
    "    plt.subplot(n_rows, n_cols, i + 1)\n",
    "    sns.histplot(df_22_EYE[col], kde=True)\n",
    "    plt.title(f'Distribution of {col}')\n",
    "    plt.xlabel(col)\n",
    "    plt.ylabel('Frequency')\n",
    "\n",
    "plt.tight_layout()\n",
    "plt.show()"
   ]
  },
  {
   "cell_type": "markdown",
   "id": "9e3a49c9",
   "metadata": {
    "id": "8059766d"
   },
   "source": [
    "# Observations from Histograms\n",
    "\n",
    "The grid of histograms provides insights into the distribution of values for each numeric column in the dataset (excluding 'UnixTime'). Key observations include:\n",
    "\n",
    "- Several columns, such as `ET_GazeLeftx`, `ET_GazeLefty`, `ET_GazeRightx`, and `ET_GazeRighty`, show distributions that appear somewhat multimodal or skewed, suggesting variations in gaze patterns.\n",
    "- The `ET_PupilLeft` and `ET_PupilRight` histograms clearly show a peak at -1, confirming the presence of a significant number of invalid pupil readings.\n",
    "- `ET_TimeSignal` shows a relatively uniform distribution, as expected for a time-based signal.\n",
    "- `ET_DistanceLeft` and `ET_DistanceRight` appear to have distributions centered around certain values, with some outliers or variations.\n",
    "- The camera position columns (`ET_CameraLeftX`, `ET_CameraLeftY`, `ET_CameraRightX`, `ET_CameraRightY`) seem to have distributions concentrated within specific ranges, reflecting the camera's field of view.\n",
    "- The validity columns (`ET_ValidityLeft`, `ET_ValidityRight`, `ET_PupilLeft_validity`, `ET_PupilRight_validity`) show distributions dominated by 0, indicating that most of the data is considered valid after the mapping. The smaller peaks at 1 represent the instances of invalid data.\n",
    "\n",
    "These distributions highlight the need for appropriate handling of the -1 values and potential outliers in subsequent analysis or modeling steps."
   ]
  },
  {
   "cell_type": "code",
   "execution_count": null,
   "id": "bf4391bc",
   "metadata": {
    "id": "cb65ae1e"
   },
   "outputs": [],
   "source": [
    "df_22_EYE.columns"
   ]
  },
  {
   "cell_type": "code",
   "execution_count": null,
   "id": "dd8f8c39",
   "metadata": {
    "id": "8cf2280c"
   },
   "outputs": [],
   "source": [
    "cols = ['ET_GazeLeftx', 'ET_GazeLefty',\n",
    "       'ET_GazeRightx', 'ET_GazeRighty', 'ET_PupilLeft', 'ET_PupilRight',\n",
    "       'ET_TimeSignal', 'ET_DistanceLeft', 'ET_DistanceRight',\n",
    "       'ET_CameraLeftX', 'ET_CameraLeftY', 'ET_CameraRightX',\n",
    "       'ET_CameraRightY', 'ET_ValidityLeft', 'ET_ValidityRight',\n",
    "       'ET_PupilLeft_validity', 'ET_PupilRight_validity']"
   ]
  },
  {
   "cell_type": "code",
   "execution_count": null,
   "id": "577b4e6d",
   "metadata": {
    "id": "85e45ea9"
   },
   "outputs": [],
   "source": [
    "from IPython.display import display, Markdown\n",
    "\n",
    "for col in cols:\n",
    "    # Add a markdown cell before each plot for better separation and labeling\n",
    "    display(Markdown(f'### {col} over Time'))\n",
    "    plt.figure(figsize=(16, 10))\n",
    "    plt.plot(df_22_EYE['Timestamp'], df_22_EYE[col])\n",
    "    plt.xlabel(\"Timestamp\") # Add x-axis label\n",
    "    plt.ylabel(col) # Add y-axis label\n",
    "    plt.show()"
   ]
  },
  {
   "cell_type": "markdown",
   "id": "de0dfa14",
   "metadata": {
    "id": "f7ffd08f"
   },
   "source": [
    "# Observations from Time Series Plots\n",
    "\n",
    "The line plots showing various features against the `Timestamp` reveal the temporal patterns and fluctuations in the eye-tracking data. Key observations include:\n",
    "\n",
    "- **Gaze Coordinates (`ET_GazeLeftx`, `ET_GazeLefty`, `ET_GazeRightx`, `ET_GazeRighty`):** These plots show the changes in gaze position over time. We can observe periods of relatively stable gaze interspersed with rapid movements (saccades) and blinks or other events where the gaze data might be invalid (-1 values appear as gaps or spikes if not handled).\n",
    "- **Pupil Size (`ET_PupilLeft`, `ET_PupilRight`):** The pupil size plots show variations over time. The presence of many -1 values is evident as flat lines at the bottom of the plot, indicating periods where pupil data was not recorded or was invalid.\n",
    "- **Time Signal (`ET_TimeSignal`):** This plot shows a steady, increasing trend, as expected for a time-based signal.\n",
    "- **Distance and Camera Position (`ET_DistanceLeft`, `ET_DistanceRight`, `ET_CameraLeftX`, `ET_CameraLeftY`, `ET_CameraRightX`, `ET_CameraRightY`):** These plots show how the distance from the eye tracker and the camera positions change over time. Variations in these features can be related to head movements or changes in the user's position relative to the eye tracker.\n",
    "- **Validity (`ET_ValidityLeft`, `ET_ValidityRight`, `ET_PupilLeft_validity`, `ET_PupilRight_validity`):** These plots clearly show periods of invalid data (represented by 1) as spikes or plateaus, corresponding to instances where the eye tracker lost track of the eyes or the pupil data was marked as invalid.\n",
    "\n",
    "Analyzing these time series plots is crucial for understanding the dynamics of the eye-tracking data and identifying patterns or anomalies that may require further investigation or specific handling during subsequent analysis."
   ]
  },
  {
   "cell_type": "code",
   "execution_count": null,
   "id": "721f9998",
   "metadata": {
    "id": "cdd85f8c"
   },
   "outputs": [],
   "source": [
    "# Select only the numeric columns for plotting histograms, excluding time-related columns\n",
    "numeric_cols = df_22_EYE.select_dtypes(include=np.number).columns\n",
    "\n",
    "# Calculate the number of rows and columns for the grid\n",
    "n_cols = 4  # You can adjust the number of columns as needed\n",
    "n_rows = (len(numeric_cols) + n_cols - 1) // n_cols\n",
    "\n",
    "plt.figure(figsize=(n_cols * 5, n_rows * 4)) # Adjust figure size as needed\n",
    "\n",
    "for i, col in enumerate(numeric_cols):\n",
    "    plt.subplot(n_rows, n_cols, i + 1)\n",
    "    sns.boxplot(df_22_EYE[col])\n",
    "    plt.title(f'Boxplot of {col}')\n",
    "    plt.xlabel(col)\n",
    "\n",
    "plt.tight_layout()\n",
    "plt.show()"
   ]
  },
  {
   "cell_type": "markdown",
   "id": "e2a8a4f5",
   "metadata": {
    "id": "2cca19c5"
   },
   "source": [
    "# Observations from Boxplots and Handling -1 Values\n",
    "\n",
    "The boxplots provide a visual summary of the distribution and potential outliers for each numeric column. Key observations from the boxplots include:\n",
    "\n",
    "- The boxplots for columns like `ET_GazeLeftx`, `ET_GazeLefty`, `ET_GazeRightx`, `ET_GazeRighty`, `ET_PupilLeft`, `ET_PupilRight`, `ET_DistanceLeft`, `ET_DistanceRight`, `ET_CameraLeftX`, `ET_CameraLeftY`, `ET_CameraRightX`, and `ET_CameraRightY` clearly show the presence of -1 values as significant outliers, confirming our earlier observations from the heatmaps and histograms.\n",
    "- The boxplots for the validity columns (`ET_ValidityLeft`, `ET_ValidityRight`, `ET_PupilLeft_validity`, `ET_PupilRight_validity`) show the discrete nature of these features, with the majority of data points at 0 (valid) and a smaller number at 1 (invalid).\n",
    "\n",
    "Given the significant presence of -1 values, which represent invalid or missing data, especially in the pupil-related columns, we have decided to replace these -1 values with NaN to properly represent them as missing data. Subsequently, we will impute these missing values using the mean of each respective column. This approach helps to retain the data structure and allows for further analysis or modeling without the distortion caused by the -1 placeholders."
   ]
  },
  {
   "cell_type": "code",
   "execution_count": null,
   "id": "2bf3e93c",
   "metadata": {
    "id": "9217371b"
   },
   "outputs": [],
   "source": [
    "df_22_EYE.replace({-1: np.nan}, inplace=True)"
   ]
  },
  {
   "cell_type": "code",
   "execution_count": null,
   "id": "6e338a41",
   "metadata": {
    "id": "8108fa01"
   },
   "outputs": [],
   "source": [
    "df_22_EYE[['ET_GazeLeftx', 'ET_GazeLefty',\n",
    "       'ET_GazeRightx', 'ET_GazeRighty', 'ET_PupilLeft', 'ET_PupilRight',\n",
    "       'ET_TimeSignal', 'ET_DistanceLeft', 'ET_DistanceRight',\n",
    "       'ET_CameraLeftX', 'ET_CameraLeftY', 'ET_CameraRightX',\n",
    "       'ET_CameraRightY', 'ET_ValidityLeft', 'ET_ValidityRight',\n",
    "       'ET_PupilLeft_validity', 'ET_PupilRight_validity']].mean()"
   ]
  },
  {
   "cell_type": "code",
   "execution_count": null,
   "id": "b84656a3",
   "metadata": {
    "id": "9b94fbce"
   },
   "outputs": [],
   "source": [
    "df_22_EYE[['ET_GazeLeftx', 'ET_GazeLefty',\n",
    "       'ET_GazeRightx', 'ET_GazeRighty', 'ET_PupilLeft', 'ET_PupilRight',\n",
    "       'ET_TimeSignal', 'ET_DistanceLeft', 'ET_DistanceRight',\n",
    "       'ET_CameraLeftX', 'ET_CameraLeftY', 'ET_CameraRightX',\n",
    "       'ET_CameraRightY', 'ET_ValidityLeft', 'ET_ValidityRight',\n",
    "       'ET_PupilLeft_validity', 'ET_PupilRight_validity']].median()"
   ]
  },
  {
   "cell_type": "code",
   "execution_count": null,
   "id": "b9ab2a9e",
   "metadata": {
    "id": "ee1238c8"
   },
   "outputs": [],
   "source": [
    "numeric_cols = df_22_EYE.select_dtypes(include=np.number).columns\n",
    "\n",
    "for col in numeric_cols:\n",
    "    df_22_EYE[col] = df_22_EYE[col].fillna(df_22_EYE[col].mean())"
   ]
  },
  {
   "cell_type": "code",
   "execution_count": null,
   "id": "46a7c978",
   "metadata": {
    "id": "b0bc522d"
   },
   "outputs": [],
   "source": [
    "plt.figure(figsize=(18, 8))\n",
    "\n",
    "plt.subplot(1, 2, 1)\n",
    "sns.heatmap(df_22_EYE.isnull(), cmap='viridis')\n",
    "plt.title('Heatmap of Missing Values After Imputation')\n",
    "\n",
    "plt.subplot(1, 2, 2)\n",
    "sns.heatmap(df_22_EYE == 1, cmap='viridis')\n",
    "plt.title('Heatmap of 1 Values')\n",
    "\n",
    "plt.tight_layout()\n",
    "plt.show()"
   ]
  },
  {
   "cell_type": "markdown",
   "id": "ffc35c26",
   "metadata": {
    "id": "c0f1e10d"
   },
   "source": [
    "# Handling Missing Values (Imputation)\n",
    "\n",
    "As decided, we have replaced all the `-1` values with `NaN` to treat them as missing data. Subsequently, we have imputed these `NaN` values with the mean of their respective columns. The heatmap above, which was generated after the imputation, now shows no visible signs of `NaN` values, indicating that the imputation was successful."
   ]
  },
  {
   "cell_type": "code",
   "execution_count": null,
   "id": "864ea382",
   "metadata": {
    "id": "2491c1da"
   },
   "outputs": [],
   "source": [
    "df_22_EYE.head()"
   ]
  },
  {
   "cell_type": "code",
   "execution_count": null,
   "id": "0e6554cd",
   "metadata": {
    "id": "64f04350"
   },
   "outputs": [],
   "source": [
    "# Select only the numeric columns for plotting histograms, excluding time-related columns\n",
    "numeric_cols = df_22_EYE.select_dtypes(include=np.number).columns\n",
    "cols_to_plot = [col for col in numeric_cols if col not in ['UnixTime']]\n",
    "\n",
    "# Calculate the number of rows and columns for the grid\n",
    "n_cols = 4  # You can adjust the number of columns as needed\n",
    "n_rows = (len(cols_to_plot) + n_cols - 1) // n_cols\n",
    "\n",
    "plt.figure(figsize=(n_cols * 5, n_rows * 4)) # Adjust figure size as needed\n",
    "\n",
    "for i, col in enumerate(cols_to_plot):\n",
    "    plt.subplot(n_rows, n_cols, i + 1)\n",
    "    sns.histplot(df_22_EYE[col], kde=True)\n",
    "    plt.title(f'Distribution of {col}')\n",
    "    plt.xlabel(col)\n",
    "    plt.ylabel('Frequency')\n",
    "\n",
    "plt.tight_layout()\n",
    "plt.show()"
   ]
  },
  {
   "cell_type": "markdown",
   "id": "9f4b634e",
   "metadata": {
    "id": "e0c83f1c"
   },
   "source": [
    "# Observations from Histograms After Imputation\n",
    "\n",
    "The histograms generated after replacing the -1 values with the mean of each column show the distributions of the numeric features with the missing data handled. Key observations from these updated histograms include:\n",
    "\n",
    "- The distinct peaks at -1, which were prominent in the histograms for several columns (e.g., pupil size, gaze coordinates, distance, and camera position) before imputation, are now replaced by a peak at the mean of each respective column.\n",
    "- The distributions in many columns now appear more unimodal or show shifted modes compared to the original histograms.\n",
    "- The histograms for the validity columns still show their bimodal distributions with peaks at 0 and 1, as these were handled separately.\n",
    "\n",
    "These histograms provide an updated view of the data's distribution after handling the missing values, highlighting the impact of the imputation method on the data's characteristics."
   ]
  },
  {
   "cell_type": "code",
   "execution_count": null,
   "id": "d18e883b",
   "metadata": {
    "id": "de0b2f65"
   },
   "outputs": [],
   "source": [
    "cols = ['ET_GazeLeftx', 'ET_GazeLefty',\n",
    "       'ET_GazeRightx', 'ET_GazeRighty', 'ET_PupilLeft', 'ET_PupilRight',\n",
    "       'ET_TimeSignal', 'ET_DistanceLeft', 'ET_DistanceRight',\n",
    "       'ET_CameraLeftX', 'ET_CameraLeftY', 'ET_CameraRightX',\n",
    "       'ET_CameraRightY', 'ET_ValidityLeft', 'ET_ValidityRight',\n",
    "       'ET_PupilLeft_validity', 'ET_PupilRight_validity']"
   ]
  },
  {
   "cell_type": "code",
   "execution_count": null,
   "id": "a5c175f7",
   "metadata": {
    "id": "4ddd4915"
   },
   "outputs": [],
   "source": [
    "for col in cols:\n",
    "    # Add a markdown cell before each plot for better separation and labeling\n",
    "    display(Markdown(f'### {col} over Time'))\n",
    "    plt.figure(figsize=(16, 10))\n",
    "    plt.plot(df_22_EYE['Timestamp'], df_22_EYE[col])\n",
    "    plt.xlabel(\"Timestamp\") # Add x-axis label\n",
    "    plt.ylabel(col) # Add y-axis label\n",
    "    plt.show()"
   ]
  },
  {
   "cell_type": "markdown",
   "id": "11995d38",
   "metadata": {
    "id": "0fb07abb"
   },
   "source": [
    "# Observations from Time Series Plots After Imputation\n",
    "\n",
    "The line plots generated after imputing the missing values with the mean show the temporal patterns of the features with the missing data handled. Key observations from these updated plots include:\n",
    "\n",
    "- The gaps or flat lines at -1, which were prominent in the plots for columns like gaze coordinates, pupil size, distance, and camera position, are now filled by lines at the mean value of the respective columns.\n",
    "- The plots for the validity columns remain the same as they were handled separately.\n",
    "- The `ET_TimeSignal` plot still shows a steady increasing trend, as expected."
   ]
  },
  {
   "cell_type": "code",
   "execution_count": null,
   "id": "5088def6",
   "metadata": {
    "id": "c608fd95"
   },
   "outputs": [],
   "source": [
    "plt.figure(figsize=(16, 10))\n",
    "sns.heatmap(df_22_EYE.corr(numeric_only=True), cmap='YlGnBu', annot=True)\n",
    "plt.show()"
   ]
  },
  {
   "cell_type": "markdown",
   "id": "cf47fe56",
   "metadata": {
    "id": "82405ba6"
   },
   "source": [
    "# Observations from Correlation Heatmap\n",
    "\n",
    "The correlation heatmap provides a visual representation of the pairwise correlations between the numeric columns in the dataset. Key observations from the heatmap include:\n",
    "\n",
    "- **High Positive Correlations:** We observe strong positive correlations (values close to 1) between:\n",
    "  - `ET_GazeLeftx` and `ET_GazeRightx`: This is expected as the gaze positions of both eyes should be highly correlated when fixating on a point.\n",
    "  - `ET_GazeLefty` and `ET_GazeRighty`: Similar to the x-coordinates, the y-coordinates of gaze should also be highly correlated.\n",
    "  - `ET_PupilLeft` and `ET_PupilRight`: Pupil sizes of both eyes tend to change together in response to light and cognitive load.\n",
    "  - `ET_DistanceLeft` and `ET_DistanceRight`: The distance from the eye tracker to each eye should be highly correlated.\n",
    "  - `ET_CameraLeftX` and `ET_CameraRightX`, `ET_CameraLeftY` and `ET_CameraRightY`: The camera positions for both eyes are also expected to be highly correlated.\n",
    "  - `UnixTime` and `ET_TimeSignal`: As previously noted, these two columns are almost perfectly linearly correlated, indicating redundancy.\n",
    "  - `ET_ValidityLeft` and `ET_PupilLeft_validity`: There is a positive correlation, suggesting that when the overall left eye data is invalid, the left pupil data is also likely to be invalid.\n",
    "  - `ET_ValidityRight` and `ET_PupilRight_validity`: Similar to the left eye, there is a positive correlation between the overall right eye validity and the right pupil validity.\n",
    "- **Other Correlations:** We can also observe other varying degrees of correlations between different features, which can provide insights into the relationships between gaze behavior, pupil size, distance, and camera position. For example, there might be correlations between gaze coordinates and camera positions, reflecting head movements.\n",
    "- **Low or Near-Zero Correlations:** Columns with low or near-zero correlations are relatively independent of each other.\n",
    "\n",
    "Understanding these correlations is important for feature selection and for building models, as highly correlated features might indicate multicollinearity, while correlations between features can reveal underlying patterns in the data."
   ]
  },
  {
   "cell_type": "markdown",
   "id": "1a9928c5",
   "metadata": {
    "id": "1c413c3b"
   },
   "source": [
    "# Analysis of ET_TimeSignal and Decision to Drop\n",
    "\n",
    "As observed in the time series plot and confirmed by the correlation heatmap, the `ET_TimeSignal` column exhibits a near-perfect linear relationship with both the `Timestamp` and `UnixTime` columns. This strong correlation (close to 1) suggests that `ET_TimeSignal` is essentially redundant and likely represents another form of time recording or a signal directly derived from the timestamp.\n",
    "\n",
    "Including highly correlated features like this in a dataset can lead to issues such as multicollinearity in some statistical models, which can make it difficult to interpret the individual impact of each feature. Since the `Timestamp` column already provides the necessary temporal information, retaining `ET_TimeSignal` does not appear to add significant value for further analysis or modeling in most cases.\n",
    "\n",
    "Therefore, based on its high correlation and lack of unique insight, we will proceed to drop the `ET_TimeSignal` column to simplify the dataset and potentially improve the performance and interpretability of future analyses."
   ]
  },
  {
   "cell_type": "code",
   "execution_count": null,
   "id": "d1723373",
   "metadata": {
    "id": "7c96e349"
   },
   "outputs": [],
   "source": [
    "df_22_EYE.drop('ET_TimeSignal', axis=1, inplace=True)"
   ]
  },
  {
   "cell_type": "code",
   "execution_count": null,
   "id": "5e42c02c",
   "metadata": {
    "id": "5845a61d"
   },
   "outputs": [],
   "source": [
    "plt.figure(figsize=(16, 10))\n",
    "sns.pairplot(df_22_EYE)\n",
    "plt.show()"
   ]
  },
  {
   "cell_type": "markdown",
   "id": "3c78672f",
   "metadata": {
    "id": "sMcHS8LIOGeT"
   },
   "source": [
    "# **23_EYE**"
   ]
  },
  {
   "cell_type": "code",
   "execution_count": null,
   "id": "e94d09c6",
   "metadata": {
    "id": "L2tJooyROWnM"
   },
   "outputs": [],
   "source": []
  },
  {
   "cell_type": "code",
   "execution_count": null,
   "id": "e0a5658a",
   "metadata": {
    "id": "6c647c4f"
   },
   "outputs": [],
   "source": [
    "df_23_EYE = pd.read_csv('data/STData/23/23_EYE.csv')"
   ]
  },
  {
   "cell_type": "code",
   "execution_count": null,
   "id": "3ad2f317",
   "metadata": {
    "id": "c229bba7"
   },
   "outputs": [],
   "source": [
    "df_23_EYE.head()"
   ]
  },
  {
   "cell_type": "code",
   "execution_count": null,
   "id": "fea284ae",
   "metadata": {
    "id": "0ec8e716"
   },
   "outputs": [],
   "source": [
    "df_23_EYE.shape"
   ]
  },
  {
   "cell_type": "code",
   "execution_count": null,
   "id": "59d5e65b",
   "metadata": {
    "id": "43ba37eb"
   },
   "outputs": [],
   "source": [
    "df_23_EYE.columns"
   ]
  },
  {
   "cell_type": "code",
   "execution_count": null,
   "id": "6b0161d5",
   "metadata": {
    "id": "19f68fb4"
   },
   "outputs": [],
   "source": [
    "df_23_EYE.info()"
   ]
  },
  {
   "cell_type": "code",
   "execution_count": null,
   "id": "8571eebd",
   "metadata": {
    "id": "603369d7"
   },
   "outputs": [],
   "source": [
    "df_23_EYE.isnull().sum()"
   ]
  },
  {
   "cell_type": "code",
   "execution_count": null,
   "id": "038aede5",
   "metadata": {
    "id": "874353e3"
   },
   "outputs": [],
   "source": [
    "plt.figure(figsize=(12,8))\n",
    "sns.heatmap(df_23_EYE.isnull(), cmap='viridis')\n",
    "plt.show()"
   ]
  },
  {
   "cell_type": "markdown",
   "id": "4ab2650d",
   "metadata": {
    "id": "b17906e7"
   },
   "source": [
    "# Notes & Observations\n",
    "\n",
    "- We observe many **null** (or missing) values in the `QuestionKey` columns.\n",
    "- The nulls in the `QuestionKey` column may not represent “true” nulls. Rather, they follow interval patterns, suggesting that during those periods no question was displayed.\n",
    "- These missing values in `QuestionKey` require additional investigation and context-aware handling."
   ]
  },
  {
   "cell_type": "code",
   "execution_count": null,
   "id": "37917779",
   "metadata": {
    "id": "1113779e"
   },
   "outputs": [],
   "source": [
    "df_23_EYE['QuestionKey'].unique()"
   ]
  },
  {
   "cell_type": "code",
   "execution_count": null,
   "id": "339ad79e",
   "metadata": {
    "id": "db0a93a2"
   },
   "outputs": [],
   "source": [
    "df_23_EYE['Timestamp'] = pd.to_datetime(df_23_EYE['Timestamp'])"
   ]
  },
  {
   "cell_type": "code",
   "execution_count": null,
   "id": "abf6ffd8",
   "metadata": {
    "id": "03d57b0a"
   },
   "outputs": [],
   "source": [
    "df_23_EYE.head(3)"
   ]
  },
  {
   "cell_type": "code",
   "execution_count": null,
   "id": "bc99898f",
   "metadata": {
    "id": "c0004029"
   },
   "outputs": [],
   "source": [
    "df_23_EYE['QuestionKey'] = df_23_EYE['QuestionKey'].fillna('None')"
   ]
  },
  {
   "cell_type": "code",
   "execution_count": null,
   "id": "173c37e1",
   "metadata": {
    "id": "dfb4729e"
   },
   "outputs": [],
   "source": [
    "df_23_EYE['QuestionKey'].value_counts()"
   ]
  },
  {
   "cell_type": "code",
   "execution_count": null,
   "id": "f5468552",
   "metadata": {
    "id": "9353c9d8"
   },
   "outputs": [],
   "source": [
    "plt.figure(figsize=(12,8))\n",
    "sns.heatmap(df_23_EYE.isnull(), cmap='viridis')\n",
    "plt.show()"
   ]
  },
  {
   "cell_type": "code",
   "execution_count": null,
   "id": "ef2b183c",
   "metadata": {
    "id": "5c73d150"
   },
   "outputs": [],
   "source": [
    "df_23_EYE.isnull().sum()"
   ]
  },
  {
   "cell_type": "code",
   "execution_count": null,
   "id": "489791b0",
   "metadata": {
    "id": "6c700142"
   },
   "outputs": [],
   "source": [
    "df_23_EYE.dropna(inplace=True)"
   ]
  },
  {
   "cell_type": "code",
   "execution_count": null,
   "id": "a768cdf6",
   "metadata": {
    "id": "90a604ce"
   },
   "outputs": [],
   "source": [
    "df_23_EYE.head()"
   ]
  },
  {
   "cell_type": "code",
   "execution_count": null,
   "id": "4c316f9e",
   "metadata": {
    "id": "a43a4283"
   },
   "outputs": [],
   "source": [
    "df_23_EYE['Row'].unique()"
   ]
  },
  {
   "cell_type": "code",
   "execution_count": null,
   "id": "cd911d68",
   "metadata": {
    "id": "f66566f9"
   },
   "outputs": [],
   "source": [
    "plt.figure(figsize=(8,6))\n",
    "sns.histplot(df_23_EYE['Row'])\n",
    "plt.show()"
   ]
  },
  {
   "cell_type": "markdown",
   "id": "d1a522de",
   "metadata": {
    "id": "5ddf40fd"
   },
   "source": [
    "# Notes & Observations\n",
    "\n",
    "- The `Row` column appears to be a simple row index and does not provide meaningful information relevant to the eye-tracking data itself. Therefore, it can be dropped."
   ]
  },
  {
   "cell_type": "code",
   "execution_count": null,
   "id": "419d7cce",
   "metadata": {
    "id": "5aee4404"
   },
   "outputs": [],
   "source": [
    "df_23_EYE.drop('Row', axis=1, inplace=True)"
   ]
  },
  {
   "cell_type": "code",
   "execution_count": null,
   "id": "36617d26",
   "metadata": {
    "id": "827f3274"
   },
   "outputs": [],
   "source": [
    "df_23_EYE['ET_ValidityLeft'].unique()"
   ]
  },
  {
   "cell_type": "code",
   "execution_count": null,
   "id": "8267989d",
   "metadata": {
    "id": "1437751a"
   },
   "outputs": [],
   "source": [
    "df_23_EYE['ET_ValidityLeft'].value_counts()"
   ]
  },
  {
   "cell_type": "code",
   "execution_count": null,
   "id": "72760789",
   "metadata": {
    "id": "d0a9ee4a"
   },
   "outputs": [],
   "source": [
    "df_23_EYE['ET_ValidityRight'].unique()"
   ]
  },
  {
   "cell_type": "code",
   "execution_count": null,
   "id": "bd26cc1a",
   "metadata": {
    "id": "55ddcc2b"
   },
   "outputs": [],
   "source": [
    "df_23_EYE['ET_ValidityRight'].value_counts()"
   ]
  },
  {
   "cell_type": "code",
   "execution_count": null,
   "id": "cd1e62cd",
   "metadata": {
    "id": "faef00be"
   },
   "outputs": [],
   "source": [
    "plt.figure(figsize=(12, 6))\n",
    "\n",
    "plt.subplot(1, 2, 1)\n",
    "sns.barplot(x=df_23_EYE['ET_ValidityLeft'].value_counts().index, y=df_23_EYE['ET_ValidityLeft'].value_counts().values)\n",
    "plt.title('Count of ET_ValidityLeft')\n",
    "plt.xlabel('Validity')\n",
    "plt.ylabel('Count')\n",
    "\n",
    "\n",
    "plt.subplot(1, 2, 2)\n",
    "sns.barplot(x=df_23_EYE['ET_ValidityRight'].value_counts().index, y=df_23_EYE['ET_ValidityRight'].value_counts().values)\n",
    "plt.title('Count of ET_ValidityRight')\n",
    "plt.xlabel('Validity')\n",
    "plt.ylabel('Count')\n",
    "\n",
    "plt.tight_layout()\n",
    "plt.show()"
   ]
  },
  {
   "cell_type": "markdown",
   "id": "0c7db8f6",
   "metadata": {
    "id": "b43706ea"
   },
   "source": [
    "# Notes & Observations\n",
    "\n",
    "- The `ET_ValidityLeft` and `ET_ValidityRight` columns indicate the validity of the eye-tracking data for the left and right eye, respectively.\n",
    "- Based on the value counts and the bar plots, it appears that a value of `0.0` represents valid eye-tracking data, while a value of `4.0` represents invalid data.\n",
    "- Although the amount of invalid data is relatively small, removing these rows could introduce unwanted patterns or gaps in the time series data.\n",
    "- Therefore, we will keep the data and replace the value `4.0` with `1.0` in both `ET_ValidityLeft` and `ET_ValidityRight` columns. This will indicate to a machine learning model that the eye tracker had invalid data at those specific points in time while maintaining the integrity of the time series."
   ]
  },
  {
   "cell_type": "markdown",
   "id": "2ae83c06",
   "metadata": {
    "id": "e9e671b2"
   },
   "source": [
    "Define a mapping to convert validity values from `0.0` and `4.0` to `0` and `1`."
   ]
  },
  {
   "cell_type": "code",
   "execution_count": null,
   "id": "328cc1f5",
   "metadata": {
    "id": "08e7ed71"
   },
   "outputs": [],
   "source": [
    "validity_map = {4.0: 1.0, 0.0: 0.0}"
   ]
  },
  {
   "cell_type": "code",
   "execution_count": null,
   "id": "39ea2f07",
   "metadata": {
    "id": "0bba3ac0"
   },
   "outputs": [],
   "source": [
    "df_23_EYE['ET_ValidityLeft'] = df_23_EYE['ET_ValidityLeft'].map(validity_map).astype(np.int8)\n",
    "df_23_EYE['ET_ValidityRight'] = df_23_EYE['ET_ValidityRight'].map(validity_map).astype(np.int8)"
   ]
  },
  {
   "cell_type": "code",
   "execution_count": null,
   "id": "eb15362b",
   "metadata": {
    "id": "0ff3f16c"
   },
   "outputs": [],
   "source": [
    "df_23_EYE.head(3)"
   ]
  },
  {
   "cell_type": "code",
   "execution_count": null,
   "id": "2a83c32a",
   "metadata": {
    "id": "32eb3225"
   },
   "outputs": [],
   "source": [
    "df_23_EYE.describe()"
   ]
  },
  {
   "cell_type": "code",
   "execution_count": null,
   "id": "4bdd5b46",
   "metadata": {
    "id": "c1e092e1"
   },
   "outputs": [],
   "source": [
    "df_23_EYE[df_23_EYE['ET_ValidityLeft'] == 1].shape"
   ]
  },
  {
   "cell_type": "code",
   "execution_count": null,
   "id": "12596f97",
   "metadata": {
    "id": "8ebfb0cc"
   },
   "outputs": [],
   "source": [
    "df_23_EYE[df_23_EYE['ET_ValidityRight'] == 1].shape"
   ]
  },
  {
   "cell_type": "code",
   "execution_count": null,
   "id": "4c700c12",
   "metadata": {
    "id": "0d175df2"
   },
   "outputs": [],
   "source": [
    "df_23_EYE[df_23_EYE['ET_ValidityLeft'] == 1].shape[0] / df_23_EYE.shape[0]"
   ]
  },
  {
   "cell_type": "code",
   "execution_count": null,
   "id": "abab6694",
   "metadata": {
    "id": "54cc0f9e"
   },
   "outputs": [],
   "source": [
    "df_23_EYE[df_23_EYE['ET_ValidityRight'] == 1].shape[0] / df_23_EYE.shape[0]"
   ]
  },
  {
   "cell_type": "code",
   "execution_count": null,
   "id": "62fc810c",
   "metadata": {
    "id": "45c977c1"
   },
   "outputs": [],
   "source": [
    "plt.figure(figsize=(18, 8))\n",
    "\n",
    "plt.subplot(1, 2, 1)\n",
    "sns.heatmap(df_23_EYE == -1, cmap='viridis')\n",
    "plt.title('Heatmap of -1 Values')\n",
    "\n",
    "plt.subplot(1, 2, 2)\n",
    "sns.heatmap(df_23_EYE == 1, cmap='viridis')\n",
    "plt.title('Heatmap of 1 Values')\n",
    "\n",
    "plt.tight_layout()\n",
    "plt.show()"
   ]
  },
  {
   "cell_type": "code",
   "execution_count": null,
   "id": "2fe95479",
   "metadata": {
    "id": "3b98a13b"
   },
   "outputs": [],
   "source": [
    "df_23_EYE[df_23_EYE['ET_PupilLeft'] == -1].shape"
   ]
  },
  {
   "cell_type": "code",
   "execution_count": null,
   "id": "3d7af062",
   "metadata": {
    "id": "a2f296f6"
   },
   "outputs": [],
   "source": [
    "df_23_EYE[df_23_EYE['ET_PupilRight'] == -1].shape"
   ]
  },
  {
   "cell_type": "code",
   "execution_count": null,
   "id": "fd4e0abe",
   "metadata": {
    "id": "42cff7eb"
   },
   "outputs": [],
   "source": [
    "df_23_EYE[df_23_EYE['ET_PupilLeft'] == -1].shape[0] / df_23_EYE.shape[0]"
   ]
  },
  {
   "cell_type": "code",
   "execution_count": null,
   "id": "d70cab99",
   "metadata": {
    "id": "83c97903"
   },
   "outputs": [],
   "source": [
    "df_23_EYE[df_23_EYE['ET_PupilRight'] == -1].shape[0] / df_23_EYE.shape[0]"
   ]
  },
  {
   "cell_type": "code",
   "execution_count": null,
   "id": "edce764c",
   "metadata": {
    "id": "6e176d63"
   },
   "outputs": [],
   "source": [
    "plt.figure(figsize=(18, 8))\n",
    "\n",
    "plt.subplot(1, 2, 1)\n",
    "sns.heatmap(df_23_EYE[df_23_EYE['ET_ValidityLeft'] == 1] == -1, cmap='viridis')\n",
    "plt.title('Heatmap of -1 Values')\n",
    "\n",
    "plt.subplot(1, 2, 2)\n",
    "sns.heatmap(df_23_EYE[df_23_EYE['ET_ValidityRight'] == 1] == -1, cmap='viridis')\n",
    "plt.title('Heatmap of -1 Values')\n",
    "\n",
    "plt.tight_layout()\n",
    "plt.show()"
   ]
  },
  {
   "cell_type": "markdown",
   "id": "509c6e08",
   "metadata": {
    "id": "fff8db39"
   },
   "source": [
    "# Notes & Observations\n",
    "\n",
    "- The heatmaps reveal the distribution of -1 values across different columns.\n",
    "- It is evident that the `-1` values are not randomly scattered but appear in specific columns, notably `ET_GazeLeftx`, `ET_GazeLefty`, `ET_GazeRightx`, `ET_GazeRighty`, `ET_PupilLeft`, `ET_PupilRight`, `ET_DistanceLeft`, `ET_DistanceRight`, `ET_CameraLeftX`, `ET_CameraLeftY`, `ET_CameraRightX`, and `ET_CameraRightY`.\n",
    "- These `-1` values often coincide with instances where `ET_ValidityLeft` or `ET_ValidityRight` is 1, indicating invalid eye-tracking data. This suggests that `-1` is used as a placeholder for missing or invalid measurements in these columns when the eye tracker is not providing valid data for a particular eye.\n",
    "- Given that over 70% of the data in the `ET_PupilLeft` and `ET_PupilRight` columns is marked as invalid (-1), so instead of dropping them we can create new feature for both the `ET_PupilLeft` and `ET_PupilRight` to represent which row consist invalid `ET_PupilLeft` and `ET_PupilRight` data"
   ]
  },
  {
   "cell_type": "code",
   "execution_count": null,
   "id": "67617c6e",
   "metadata": {
    "id": "cf7437aa"
   },
   "outputs": [],
   "source": [
    "pupil_validity = {-1: 1 }"
   ]
  },
  {
   "cell_type": "code",
   "execution_count": null,
   "id": "a8a55c31",
   "metadata": {
    "id": "989b113d"
   },
   "outputs": [],
   "source": [
    "df_23_EYE['ET_PupilLeft_validity'] = df_23_EYE['ET_PupilLeft'].map(pupil_validity)"
   ]
  },
  {
   "cell_type": "code",
   "execution_count": null,
   "id": "26753f5e",
   "metadata": {
    "id": "9ecdfbc0"
   },
   "outputs": [],
   "source": [
    "df_23_EYE['ET_PupilRight_validity'] = df_23_EYE['ET_PupilRight'].map(pupil_validity)"
   ]
  },
  {
   "cell_type": "code",
   "execution_count": null,
   "id": "028bff0a",
   "metadata": {
    "id": "7f5d2b28"
   },
   "outputs": [],
   "source": [
    "df_23_EYE[['ET_PupilLeft_validity', 'ET_PupilRight_validity']].head()"
   ]
  },
  {
   "cell_type": "code",
   "execution_count": null,
   "id": "4b172ff7",
   "metadata": {
    "id": "6a86c472"
   },
   "outputs": [],
   "source": [
    "df_23_EYE[['ET_PupilLeft_validity', 'ET_PupilRight_validity']].isnull().sum()"
   ]
  },
  {
   "cell_type": "code",
   "execution_count": null,
   "id": "dfc07f8f",
   "metadata": {
    "id": "9121e4a8"
   },
   "outputs": [],
   "source": [
    "plt.figure(figsize=(18, 8))\n",
    "sns.heatmap(df_23_EYE[['ET_PupilLeft_validity', 'ET_PupilRight_validity']].isnull(), cmap='viridis')\n",
    "plt.show()"
   ]
  },
  {
   "cell_type": "code",
   "execution_count": null,
   "id": "6a003a82",
   "metadata": {
    "id": "613a230a"
   },
   "outputs": [],
   "source": [
    "df_23_EYE['ET_PupilLeft_validity'] = df_23_EYE['ET_PupilLeft_validity'].fillna(0)"
   ]
  },
  {
   "cell_type": "code",
   "execution_count": null,
   "id": "fa274480",
   "metadata": {
    "id": "89ae7d3f"
   },
   "outputs": [],
   "source": [
    "df_23_EYE['ET_PupilRight_validity'] = df_23_EYE['ET_PupilRight_validity'].fillna(0)"
   ]
  },
  {
   "cell_type": "code",
   "execution_count": null,
   "id": "bf5109e4",
   "metadata": {
    "id": "a2c39f03"
   },
   "outputs": [],
   "source": [
    "df_23_EYE[['ET_PupilLeft_validity', 'ET_PupilRight_validity']].head()"
   ]
  },
  {
   "cell_type": "code",
   "execution_count": null,
   "id": "d1a07081",
   "metadata": {
    "id": "6e9c2645"
   },
   "outputs": [],
   "source": [
    "plt.figure(figsize=(18, 8))\n",
    "sns.heatmap(df_23_EYE[['ET_PupilLeft_validity', 'ET_PupilRight_validity']].isnull(), cmap='viridis')\n",
    "plt.show()"
   ]
  },
  {
   "cell_type": "code",
   "execution_count": null,
   "id": "3b24c825",
   "metadata": {
    "id": "7e52da92"
   },
   "outputs": [],
   "source": [
    "df_23_EYE.head()"
   ]
  },
  {
   "cell_type": "code",
   "execution_count": null,
   "id": "d096962e",
   "metadata": {
    "id": "1cefd42d"
   },
   "outputs": [],
   "source": [
    "plt.figure(figsize=(18, 8))\n",
    "\n",
    "plt.subplot(1, 2, 1)\n",
    "sns.heatmap(df_23_EYE == -1, cmap='viridis')\n",
    "plt.title('Heatmap of -1 Values')\n",
    "\n",
    "plt.subplot(1, 2, 2)\n",
    "sns.heatmap(df_23_EYE == 1, cmap='viridis')\n",
    "plt.title('Heatmap of -1 Values')\n",
    "\n",
    "plt.tight_layout()\n",
    "plt.show()"
   ]
  },
  {
   "cell_type": "code",
   "execution_count": null,
   "id": "1b135173",
   "metadata": {
    "id": "dcf38f27"
   },
   "outputs": [],
   "source": [
    "valid_left_ratio  = 1 - df_23_EYE['ET_ValidityLeft'].mean()"
   ]
  },
  {
   "cell_type": "code",
   "execution_count": null,
   "id": "7637a07a",
   "metadata": {
    "id": "2aea00ec"
   },
   "outputs": [],
   "source": [
    "valid_left_ratio"
   ]
  },
  {
   "cell_type": "code",
   "execution_count": null,
   "id": "8eb455d0",
   "metadata": {
    "id": "19ac306c"
   },
   "outputs": [],
   "source": [
    "valid_right_ratio = 1 - df_23_EYE['ET_ValidityRight'].mean()"
   ]
  },
  {
   "cell_type": "code",
   "execution_count": null,
   "id": "61fe7d65",
   "metadata": {
    "id": "4f0aa48e"
   },
   "outputs": [],
   "source": [
    "valid_right_ratio"
   ]
  },
  {
   "cell_type": "code",
   "execution_count": null,
   "id": "2c9b088a",
   "metadata": {
    "id": "a000b670"
   },
   "outputs": [],
   "source": [
    "df_23_EYE['ET_PupilLeft_validity'] = df_23_EYE['ET_PupilLeft_validity'].astype(np.int8)\n",
    "df_23_EYE['ET_PupilRight_validity'] = df_23_EYE['ET_PupilRight_validity'].astype(np.int8)"
   ]
  },
  {
   "cell_type": "markdown",
   "id": "b993a78c",
   "metadata": {
    "id": "6acf6847"
   },
   "source": [
    "# Feature Engineering and Observations\n",
    "\n",
    "Based on the analysis of the data, we've created two new features, `ET_PupilLeft_validity` and `ET_PupilRight_validity`. These features indicate the validity of the pupil data for the left and right eyes, respectively, with a value of 1 representing invalid data (originally -1) and 0 representing valid data.\n",
    "\n",
    "The heatmaps above visually demonstrate the distribution of -1 and 1 values across the dataset. We observed that:\n",
    "- The `-1` values are concentrated in specific columns related to gaze, pupil size, distance, and camera position, suggesting they represent missing or invalid sensor readings.\n",
    "- The `1` values, after mapping from `4.0` in the original validity columns, indicate instances of invalid eye-tracking data.\n",
    "- The heatmaps also show a strong correlation between the `-1` values in the pupil columns and a validity of 1 in the newly created pupil validity features, confirming that -1 was used to mark invalid pupil data."
   ]
  },
  {
   "cell_type": "code",
   "execution_count": null,
   "id": "978f4466",
   "metadata": {
    "id": "de9f2594"
   },
   "outputs": [],
   "source": [
    "df_23_EYE.head()"
   ]
  },
  {
   "cell_type": "code",
   "execution_count": null,
   "id": "d739dde0",
   "metadata": {
    "id": "bfa2e174"
   },
   "outputs": [],
   "source": [
    "# Select only the numeric columns for plotting histograms, excluding time-related columns\n",
    "numeric_cols = df_23_EYE.select_dtypes(include=np.number).columns\n",
    "cols_to_plot = [col for col in numeric_cols if col not in ['UnixTime']]\n",
    "\n",
    "# Calculate the number of rows and columns for the grid\n",
    "n_cols = 4  # You can adjust the number of columns as needed\n",
    "n_rows = (len(cols_to_plot) + n_cols - 1) // n_cols\n",
    "\n",
    "plt.figure(figsize=(n_cols * 5, n_rows * 4)) # Adjust figure size as needed\n",
    "\n",
    "for i, col in enumerate(cols_to_plot):\n",
    "    plt.subplot(n_rows, n_cols, i + 1)\n",
    "    sns.histplot(df_23_EYE[col], kde=True)\n",
    "    plt.title(f'Distribution of {col}')\n",
    "    plt.xlabel(col)\n",
    "    plt.ylabel('Frequency')\n",
    "\n",
    "plt.tight_layout()\n",
    "plt.show()"
   ]
  },
  {
   "cell_type": "markdown",
   "id": "e0c9e8d8",
   "metadata": {
    "id": "8059766d"
   },
   "source": [
    "# Observations from Histograms\n",
    "\n",
    "The grid of histograms provides insights into the distribution of values for each numeric column in the dataset (excluding 'UnixTime'). Key observations include:\n",
    "\n",
    "- Several columns, such as `ET_GazeLeftx`, `ET_GazeLefty`, `ET_GazeRightx`, and `ET_GazeRighty`, show distributions that appear somewhat multimodal or skewed, suggesting variations in gaze patterns.\n",
    "- The `ET_PupilLeft` and `ET_PupilRight` histograms clearly show a peak at -1, confirming the presence of a significant number of invalid pupil readings.\n",
    "- `ET_TimeSignal` shows a relatively uniform distribution, as expected for a time-based signal.\n",
    "- `ET_DistanceLeft` and `ET_DistanceRight` appear to have distributions centered around certain values, with some outliers or variations.\n",
    "- The camera position columns (`ET_CameraLeftX`, `ET_CameraLeftY`, `ET_CameraRightX`, `ET_CameraRightY`) seem to have distributions concentrated within specific ranges, reflecting the camera's field of view.\n",
    "- The validity columns (`ET_ValidityLeft`, `ET_ValidityRight`, `ET_PupilLeft_validity`, `ET_PupilRight_validity`) show distributions dominated by 0, indicating that most of the data is considered valid after the mapping. The smaller peaks at 1 represent the instances of invalid data.\n",
    "\n",
    "These distributions highlight the need for appropriate handling of the -1 values and potential outliers in subsequent analysis or modeling steps."
   ]
  },
  {
   "cell_type": "code",
   "execution_count": null,
   "id": "f5a9aafe",
   "metadata": {
    "id": "cb65ae1e"
   },
   "outputs": [],
   "source": [
    "df_23_EYE.columns"
   ]
  },
  {
   "cell_type": "code",
   "execution_count": null,
   "id": "e9daa1b5",
   "metadata": {
    "id": "8cf2280c"
   },
   "outputs": [],
   "source": [
    "cols = ['ET_GazeLeftx', 'ET_GazeLefty',\n",
    "       'ET_GazeRightx', 'ET_GazeRighty', 'ET_PupilLeft', 'ET_PupilRight',\n",
    "       'ET_TimeSignal', 'ET_DistanceLeft', 'ET_DistanceRight',\n",
    "       'ET_CameraLeftX', 'ET_CameraLeftY', 'ET_CameraRightX',\n",
    "       'ET_CameraRightY', 'ET_ValidityLeft', 'ET_ValidityRight',\n",
    "       'ET_PupilLeft_validity', 'ET_PupilRight_validity']"
   ]
  },
  {
   "cell_type": "code",
   "execution_count": null,
   "id": "4a73e853",
   "metadata": {
    "id": "85e45ea9"
   },
   "outputs": [],
   "source": [
    "from IPython.display import display, Markdown\n",
    "\n",
    "for col in cols:\n",
    "    # Add a markdown cell before each plot for better separation and labeling\n",
    "    display(Markdown(f'### {col} over Time'))\n",
    "    plt.figure(figsize=(16, 10))\n",
    "    plt.plot(df_23_EYE['Timestamp'], df_23_EYE[col])\n",
    "    plt.xlabel(\"Timestamp\") # Add x-axis label\n",
    "    plt.ylabel(col) # Add y-axis label\n",
    "    plt.show()"
   ]
  },
  {
   "cell_type": "markdown",
   "id": "b97666ec",
   "metadata": {
    "id": "f7ffd08f"
   },
   "source": [
    "# Observations from Time Series Plots\n",
    "\n",
    "The line plots showing various features against the `Timestamp` reveal the temporal patterns and fluctuations in the eye-tracking data. Key observations include:\n",
    "\n",
    "- **Gaze Coordinates (`ET_GazeLeftx`, `ET_GazeLefty`, `ET_GazeRightx`, `ET_GazeRighty`):** These plots show the changes in gaze position over time. We can observe periods of relatively stable gaze interspersed with rapid movements (saccades) and blinks or other events where the gaze data might be invalid (-1 values appear as gaps or spikes if not handled).\n",
    "- **Pupil Size (`ET_PupilLeft`, `ET_PupilRight`):** The pupil size plots show variations over time. The presence of many -1 values is evident as flat lines at the bottom of the plot, indicating periods where pupil data was not recorded or was invalid.\n",
    "- **Time Signal (`ET_TimeSignal`):** This plot shows a steady, increasing trend, as expected for a time-based signal.\n",
    "- **Distance and Camera Position (`ET_DistanceLeft`, `ET_DistanceRight`, `ET_CameraLeftX`, `ET_CameraLeftY`, `ET_CameraRightX`, `ET_CameraRightY`):** These plots show how the distance from the eye tracker and the camera positions change over time. Variations in these features can be related to head movements or changes in the user's position relative to the eye tracker.\n",
    "- **Validity (`ET_ValidityLeft`, `ET_ValidityRight`, `ET_PupilLeft_validity`, `ET_PupilRight_validity`):** These plots clearly show periods of invalid data (represented by 1) as spikes or plateaus, corresponding to instances where the eye tracker lost track of the eyes or the pupil data was marked as invalid.\n",
    "\n",
    "Analyzing these time series plots is crucial for understanding the dynamics of the eye-tracking data and identifying patterns or anomalies that may require further investigation or specific handling during subsequent analysis."
   ]
  },
  {
   "cell_type": "code",
   "execution_count": null,
   "id": "15d3aff3",
   "metadata": {
    "id": "cdd85f8c"
   },
   "outputs": [],
   "source": [
    "# Select only the numeric columns for plotting histograms, excluding time-related columns\n",
    "numeric_cols = df_23_EYE.select_dtypes(include=np.number).columns\n",
    "\n",
    "# Calculate the number of rows and columns for the grid\n",
    "n_cols = 4  # You can adjust the number of columns as needed\n",
    "n_rows = (len(numeric_cols) + n_cols - 1) // n_cols\n",
    "\n",
    "plt.figure(figsize=(n_cols * 5, n_rows * 4)) # Adjust figure size as needed\n",
    "\n",
    "for i, col in enumerate(numeric_cols):\n",
    "    plt.subplot(n_rows, n_cols, i + 1)\n",
    "    sns.boxplot(df_23_EYE[col])\n",
    "    plt.title(f'Boxplot of {col}')\n",
    "    plt.xlabel(col)\n",
    "\n",
    "plt.tight_layout()\n",
    "plt.show()"
   ]
  },
  {
   "cell_type": "markdown",
   "id": "7f28fe9e",
   "metadata": {
    "id": "2cca19c5"
   },
   "source": [
    "# Observations from Boxplots and Handling -1 Values\n",
    "\n",
    "The boxplots provide a visual summary of the distribution and potential outliers for each numeric column. Key observations from the boxplots include:\n",
    "\n",
    "- The boxplots for columns like `ET_GazeLeftx`, `ET_GazeLefty`, `ET_GazeRightx`, `ET_GazeRighty`, `ET_PupilLeft`, `ET_PupilRight`, `ET_DistanceLeft`, `ET_DistanceRight`, `ET_CameraLeftX`, `ET_CameraLeftY`, `ET_CameraRightX`, and `ET_CameraRightY` clearly show the presence of -1 values as significant outliers, confirming our earlier observations from the heatmaps and histograms.\n",
    "- The boxplots for the validity columns (`ET_ValidityLeft`, `ET_ValidityRight`, `ET_PupilLeft_validity`, `ET_PupilRight_validity`) show the discrete nature of these features, with the majority of data points at 0 (valid) and a smaller number at 1 (invalid).\n",
    "\n",
    "Given the significant presence of -1 values, which represent invalid or missing data, especially in the pupil-related columns, we have decided to replace these -1 values with NaN to properly represent them as missing data. Subsequently, we will impute these missing values using the mean of each respective column. This approach helps to retain the data structure and allows for further analysis or modeling without the distortion caused by the -1 placeholders."
   ]
  },
  {
   "cell_type": "code",
   "execution_count": null,
   "id": "6fcf2b41",
   "metadata": {
    "id": "9217371b"
   },
   "outputs": [],
   "source": [
    "df_23_EYE.replace({-1: np.nan}, inplace=True)"
   ]
  },
  {
   "cell_type": "code",
   "execution_count": null,
   "id": "4d45fd53",
   "metadata": {
    "id": "8108fa01"
   },
   "outputs": [],
   "source": [
    "df_23_EYE[['ET_GazeLeftx', 'ET_GazeLefty',\n",
    "       'ET_GazeRightx', 'ET_GazeRighty', 'ET_PupilLeft', 'ET_PupilRight',\n",
    "       'ET_TimeSignal', 'ET_DistanceLeft', 'ET_DistanceRight',\n",
    "       'ET_CameraLeftX', 'ET_CameraLeftY', 'ET_CameraRightX',\n",
    "       'ET_CameraRightY', 'ET_ValidityLeft', 'ET_ValidityRight',\n",
    "       'ET_PupilLeft_validity', 'ET_PupilRight_validity']].mean()"
   ]
  },
  {
   "cell_type": "code",
   "execution_count": null,
   "id": "f6b52661",
   "metadata": {
    "id": "9b94fbce"
   },
   "outputs": [],
   "source": [
    "df_23_EYE[['ET_GazeLeftx', 'ET_GazeLefty',\n",
    "       'ET_GazeRightx', 'ET_GazeRighty', 'ET_PupilLeft', 'ET_PupilRight',\n",
    "       'ET_TimeSignal', 'ET_DistanceLeft', 'ET_DistanceRight',\n",
    "       'ET_CameraLeftX', 'ET_CameraLeftY', 'ET_CameraRightX',\n",
    "       'ET_CameraRightY', 'ET_ValidityLeft', 'ET_ValidityRight',\n",
    "       'ET_PupilLeft_validity', 'ET_PupilRight_validity']].median()"
   ]
  },
  {
   "cell_type": "code",
   "execution_count": null,
   "id": "442dfc8f",
   "metadata": {
    "id": "ee1238c8"
   },
   "outputs": [],
   "source": [
    "numeric_cols = df_23_EYE.select_dtypes(include=np.number).columns\n",
    "\n",
    "for col in numeric_cols:\n",
    "    df_23_EYE[col] = df_23_EYE[col].fillna(df_23_EYE[col].mean())"
   ]
  },
  {
   "cell_type": "code",
   "execution_count": null,
   "id": "a62de62b",
   "metadata": {
    "id": "b0bc522d"
   },
   "outputs": [],
   "source": [
    "plt.figure(figsize=(18, 8))\n",
    "\n",
    "plt.subplot(1, 2, 1)\n",
    "sns.heatmap(df_23_EYE.isnull(), cmap='viridis')\n",
    "plt.title('Heatmap of Missing Values After Imputation')\n",
    "\n",
    "plt.subplot(1, 2, 2)\n",
    "sns.heatmap(df_23_EYE == 1, cmap='viridis')\n",
    "plt.title('Heatmap of 1 Values')\n",
    "\n",
    "plt.tight_layout()\n",
    "plt.show()"
   ]
  },
  {
   "cell_type": "markdown",
   "id": "9f36c07a",
   "metadata": {
    "id": "c0f1e10d"
   },
   "source": [
    "# Handling Missing Values (Imputation)\n",
    "\n",
    "As decided, we have replaced all the `-1` values with `NaN` to treat them as missing data. Subsequently, we have imputed these `NaN` values with the mean of their respective columns. The heatmap above, which was generated after the imputation, now shows no visible signs of `NaN` values, indicating that the imputation was successful."
   ]
  },
  {
   "cell_type": "code",
   "execution_count": null,
   "id": "2bdfe6a3",
   "metadata": {
    "id": "2491c1da"
   },
   "outputs": [],
   "source": [
    "df_23_EYE.head()"
   ]
  },
  {
   "cell_type": "code",
   "execution_count": null,
   "id": "c75f40b4",
   "metadata": {
    "id": "64f04350"
   },
   "outputs": [],
   "source": [
    "# Select only the numeric columns for plotting histograms, excluding time-related columns\n",
    "numeric_cols = df_23_EYE.select_dtypes(include=np.number).columns\n",
    "cols_to_plot = [col for col in numeric_cols if col not in ['UnixTime']]\n",
    "\n",
    "# Calculate the number of rows and columns for the grid\n",
    "n_cols = 4  # You can adjust the number of columns as needed\n",
    "n_rows = (len(cols_to_plot) + n_cols - 1) // n_cols\n",
    "\n",
    "plt.figure(figsize=(n_cols * 5, n_rows * 4)) # Adjust figure size as needed\n",
    "\n",
    "for i, col in enumerate(cols_to_plot):\n",
    "    plt.subplot(n_rows, n_cols, i + 1)\n",
    "    sns.histplot(df_23_EYE[col], kde=True)\n",
    "    plt.title(f'Distribution of {col}')\n",
    "    plt.xlabel(col)\n",
    "    plt.ylabel('Frequency')\n",
    "\n",
    "plt.tight_layout()\n",
    "plt.show()"
   ]
  },
  {
   "cell_type": "markdown",
   "id": "a4968035",
   "metadata": {
    "id": "e0c83f1c"
   },
   "source": [
    "# Observations from Histograms After Imputation\n",
    "\n",
    "The histograms generated after replacing the -1 values with the mean of each column show the distributions of the numeric features with the missing data handled. Key observations from these updated histograms include:\n",
    "\n",
    "- The distinct peaks at -1, which were prominent in the histograms for several columns (e.g., pupil size, gaze coordinates, distance, and camera position) before imputation, are now replaced by a peak at the mean of each respective column.\n",
    "- The distributions in many columns now appear more unimodal or show shifted modes compared to the original histograms.\n",
    "- The histograms for the validity columns still show their bimodal distributions with peaks at 0 and 1, as these were handled separately.\n",
    "\n",
    "These histograms provide an updated view of the data's distribution after handling the missing values, highlighting the impact of the imputation method on the data's characteristics."
   ]
  },
  {
   "cell_type": "code",
   "execution_count": null,
   "id": "9167205b",
   "metadata": {
    "id": "de0b2f65"
   },
   "outputs": [],
   "source": [
    "cols = ['ET_GazeLeftx', 'ET_GazeLefty',\n",
    "       'ET_GazeRightx', 'ET_GazeRighty', 'ET_PupilLeft', 'ET_PupilRight',\n",
    "       'ET_TimeSignal', 'ET_DistanceLeft', 'ET_DistanceRight',\n",
    "       'ET_CameraLeftX', 'ET_CameraLeftY', 'ET_CameraRightX',\n",
    "       'ET_CameraRightY', 'ET_ValidityLeft', 'ET_ValidityRight',\n",
    "       'ET_PupilLeft_validity', 'ET_PupilRight_validity']"
   ]
  },
  {
   "cell_type": "code",
   "execution_count": null,
   "id": "d1296654",
   "metadata": {
    "id": "4ddd4915"
   },
   "outputs": [],
   "source": [
    "for col in cols:\n",
    "    # Add a markdown cell before each plot for better separation and labeling\n",
    "    display(Markdown(f'### {col} over Time'))\n",
    "    plt.figure(figsize=(16, 10))\n",
    "    plt.plot(df_23_EYE['Timestamp'], df_23_EYE[col])\n",
    "    plt.xlabel(\"Timestamp\") # Add x-axis label\n",
    "    plt.ylabel(col) # Add y-axis label\n",
    "    plt.show()"
   ]
  },
  {
   "cell_type": "markdown",
   "id": "a878f85f",
   "metadata": {
    "id": "0fb07abb"
   },
   "source": [
    "# Observations from Time Series Plots After Imputation\n",
    "\n",
    "The line plots generated after imputing the missing values with the mean show the temporal patterns of the features with the missing data handled. Key observations from these updated plots include:\n",
    "\n",
    "- The gaps or flat lines at -1, which were prominent in the plots for columns like gaze coordinates, pupil size, distance, and camera position, are now filled by lines at the mean value of the respective columns.\n",
    "- The plots for the validity columns remain the same as they were handled separately.\n",
    "- The `ET_TimeSignal` plot still shows a steady increasing trend, as expected."
   ]
  },
  {
   "cell_type": "code",
   "execution_count": null,
   "id": "a7b56479",
   "metadata": {
    "id": "c608fd95"
   },
   "outputs": [],
   "source": [
    "plt.figure(figsize=(16, 10))\n",
    "sns.heatmap(df_23_EYE.corr(numeric_only=True), cmap='YlGnBu', annot=True)\n",
    "plt.show()"
   ]
  },
  {
   "cell_type": "markdown",
   "id": "0c2e4f25",
   "metadata": {
    "id": "82405ba6"
   },
   "source": [
    "# Observations from Correlation Heatmap\n",
    "\n",
    "The correlation heatmap provides a visual representation of the pairwise correlations between the numeric columns in the dataset. Key observations from the heatmap include:\n",
    "\n",
    "- **High Positive Correlations:** We observe strong positive correlations (values close to 1) between:\n",
    "  - `ET_GazeLeftx` and `ET_GazeRightx`: This is expected as the gaze positions of both eyes should be highly correlated when fixating on a point.\n",
    "  - `ET_GazeLefty` and `ET_GazeRighty`: Similar to the x-coordinates, the y-coordinates of gaze should also be highly correlated.\n",
    "  - `ET_PupilLeft` and `ET_PupilRight`: Pupil sizes of both eyes tend to change together in response to light and cognitive load.\n",
    "  - `ET_DistanceLeft` and `ET_DistanceRight`: The distance from the eye tracker to each eye should be highly correlated.\n",
    "  - `ET_CameraLeftX` and `ET_CameraRightX`, `ET_CameraLeftY` and `ET_CameraRightY`: The camera positions for both eyes are also expected to be highly correlated.\n",
    "  - `UnixTime` and `ET_TimeSignal`: As previously noted, these two columns are almost perfectly linearly correlated, indicating redundancy.\n",
    "  - `ET_ValidityLeft` and `ET_PupilLeft_validity`: There is a positive correlation, suggesting that when the overall left eye data is invalid, the left pupil data is also likely to be invalid.\n",
    "  - `ET_ValidityRight` and `ET_PupilRight_validity`: Similar to the left eye, there is a positive correlation between the overall right eye validity and the right pupil validity.\n",
    "- **Other Correlations:** We can also observe other varying degrees of correlations between different features, which can provide insights into the relationships between gaze behavior, pupil size, distance, and camera position. For example, there might be correlations between gaze coordinates and camera positions, reflecting head movements.\n",
    "- **Low or Near-Zero Correlations:** Columns with low or near-zero correlations are relatively independent of each other.\n",
    "\n",
    "Understanding these correlations is important for feature selection and for building models, as highly correlated features might indicate multicollinearity, while correlations between features can reveal underlying patterns in the data."
   ]
  },
  {
   "cell_type": "markdown",
   "id": "1af7fdd9",
   "metadata": {
    "id": "1c413c3b"
   },
   "source": [
    "# Analysis of ET_TimeSignal and Decision to Drop\n",
    "\n",
    "As observed in the time series plot and confirmed by the correlation heatmap, the `ET_TimeSignal` column exhibits a near-perfect linear relationship with both the `Timestamp` and `UnixTime` columns. This strong correlation (close to 1) suggests that `ET_TimeSignal` is essentially redundant and likely represents another form of time recording or a signal directly derived from the timestamp.\n",
    "\n",
    "Including highly correlated features like this in a dataset can lead to issues such as multicollinearity in some statistical models, which can make it difficult to interpret the individual impact of each feature. Since the `Timestamp` column already provides the necessary temporal information, retaining `ET_TimeSignal` does not appear to add significant value for further analysis or modeling in most cases.\n",
    "\n",
    "Therefore, based on its high correlation and lack of unique insight, we will proceed to drop the `ET_TimeSignal` column to simplify the dataset and potentially improve the performance and interpretability of future analyses."
   ]
  },
  {
   "cell_type": "code",
   "execution_count": null,
   "id": "9b887d08",
   "metadata": {
    "id": "7c96e349"
   },
   "outputs": [],
   "source": [
    "df_23_EYE.drop('ET_TimeSignal', axis=1, inplace=True)"
   ]
  },
  {
   "cell_type": "code",
   "execution_count": null,
   "id": "997a6a71",
   "metadata": {
    "id": "5845a61d"
   },
   "outputs": [],
   "source": [
    "plt.figure(figsize=(16, 10))\n",
    "sns.pairplot(df_23_EYE)\n",
    "plt.show()"
   ]
  },
  {
   "cell_type": "markdown",
   "id": "0e799248",
   "metadata": {
    "id": "sMcHS8LIOGeT"
   },
   "source": [
    "# **24_EYE**"
   ]
  },
  {
   "cell_type": "code",
   "execution_count": null,
   "id": "d4150d70",
   "metadata": {
    "id": "L2tJooyROWnM"
   },
   "outputs": [],
   "source": []
  },
  {
   "cell_type": "code",
   "execution_count": null,
   "id": "2f37fb25",
   "metadata": {
    "id": "6c647c4f"
   },
   "outputs": [],
   "source": [
    "df_24_EYE = pd.read_csv('data/STData/24/24_EYE.csv')"
   ]
  },
  {
   "cell_type": "code",
   "execution_count": null,
   "id": "0f825e8d",
   "metadata": {
    "id": "c229bba7"
   },
   "outputs": [],
   "source": [
    "df_24_EYE.head()"
   ]
  },
  {
   "cell_type": "code",
   "execution_count": null,
   "id": "091308cf",
   "metadata": {
    "id": "0ec8e716"
   },
   "outputs": [],
   "source": [
    "df_24_EYE.shape"
   ]
  },
  {
   "cell_type": "code",
   "execution_count": null,
   "id": "5678b530",
   "metadata": {
    "id": "43ba37eb"
   },
   "outputs": [],
   "source": [
    "df_24_EYE.columns"
   ]
  },
  {
   "cell_type": "code",
   "execution_count": null,
   "id": "d417d227",
   "metadata": {
    "id": "19f68fb4"
   },
   "outputs": [],
   "source": [
    "df_24_EYE.info()"
   ]
  },
  {
   "cell_type": "code",
   "execution_count": null,
   "id": "98e1fdf7",
   "metadata": {
    "id": "603369d7"
   },
   "outputs": [],
   "source": [
    "df_24_EYE.isnull().sum()"
   ]
  },
  {
   "cell_type": "code",
   "execution_count": null,
   "id": "d5d65f47",
   "metadata": {
    "id": "874353e3"
   },
   "outputs": [],
   "source": [
    "plt.figure(figsize=(12,8))\n",
    "sns.heatmap(df_24_EYE.isnull(), cmap='viridis')\n",
    "plt.show()"
   ]
  },
  {
   "cell_type": "markdown",
   "id": "71fb370d",
   "metadata": {
    "id": "b17906e7"
   },
   "source": [
    "# Notes & Observations\n",
    "\n",
    "- We observe many **null** (or missing) values in the `QuestionKey` columns.\n",
    "- The nulls in the `QuestionKey` column may not represent “true” nulls. Rather, they follow interval patterns, suggesting that during those periods no question was displayed.\n",
    "- These missing values in `QuestionKey` require additional investigation and context-aware handling."
   ]
  },
  {
   "cell_type": "code",
   "execution_count": null,
   "id": "faf67b4a",
   "metadata": {
    "id": "1113779e"
   },
   "outputs": [],
   "source": [
    "df_24_EYE['QuestionKey'].unique()"
   ]
  },
  {
   "cell_type": "code",
   "execution_count": null,
   "id": "df2904fc",
   "metadata": {
    "id": "db0a93a2"
   },
   "outputs": [],
   "source": [
    "df_24_EYE['Timestamp'] = pd.to_datetime(df_24_EYE['Timestamp'])"
   ]
  },
  {
   "cell_type": "code",
   "execution_count": null,
   "id": "26e62710",
   "metadata": {
    "id": "03d57b0a"
   },
   "outputs": [],
   "source": [
    "df_24_EYE.head(3)"
   ]
  },
  {
   "cell_type": "code",
   "execution_count": null,
   "id": "532719ba",
   "metadata": {
    "id": "c0004029"
   },
   "outputs": [],
   "source": [
    "df_24_EYE['QuestionKey'] = df_24_EYE['QuestionKey'].fillna('None')"
   ]
  },
  {
   "cell_type": "code",
   "execution_count": null,
   "id": "871bbae2",
   "metadata": {
    "id": "dfb4729e"
   },
   "outputs": [],
   "source": [
    "df_24_EYE['QuestionKey'].value_counts()"
   ]
  },
  {
   "cell_type": "code",
   "execution_count": null,
   "id": "56e1de5c",
   "metadata": {
    "id": "9353c9d8"
   },
   "outputs": [],
   "source": [
    "plt.figure(figsize=(12,8))\n",
    "sns.heatmap(df_24_EYE.isnull(), cmap='viridis')\n",
    "plt.show()"
   ]
  },
  {
   "cell_type": "code",
   "execution_count": null,
   "id": "c8768c94",
   "metadata": {
    "id": "5c73d150"
   },
   "outputs": [],
   "source": [
    "df_24_EYE.isnull().sum()"
   ]
  },
  {
   "cell_type": "code",
   "execution_count": null,
   "id": "f8ab9825",
   "metadata": {
    "id": "6c700142"
   },
   "outputs": [],
   "source": [
    "df_24_EYE.dropna(inplace=True)"
   ]
  },
  {
   "cell_type": "code",
   "execution_count": null,
   "id": "59c02398",
   "metadata": {
    "id": "90a604ce"
   },
   "outputs": [],
   "source": [
    "df_24_EYE.head()"
   ]
  },
  {
   "cell_type": "code",
   "execution_count": null,
   "id": "b02471e9",
   "metadata": {
    "id": "a43a4283"
   },
   "outputs": [],
   "source": [
    "df_24_EYE['Row'].unique()"
   ]
  },
  {
   "cell_type": "code",
   "execution_count": null,
   "id": "5c686a61",
   "metadata": {
    "id": "f66566f9"
   },
   "outputs": [],
   "source": [
    "plt.figure(figsize=(8,6))\n",
    "sns.histplot(df_24_EYE['Row'])\n",
    "plt.show()"
   ]
  },
  {
   "cell_type": "markdown",
   "id": "417b8f17",
   "metadata": {
    "id": "5ddf40fd"
   },
   "source": [
    "# Notes & Observations\n",
    "\n",
    "- The `Row` column appears to be a simple row index and does not provide meaningful information relevant to the eye-tracking data itself. Therefore, it can be dropped."
   ]
  },
  {
   "cell_type": "code",
   "execution_count": null,
   "id": "aef2d479",
   "metadata": {
    "id": "5aee4404"
   },
   "outputs": [],
   "source": [
    "df_24_EYE.drop('Row', axis=1, inplace=True)"
   ]
  },
  {
   "cell_type": "code",
   "execution_count": null,
   "id": "daeb884e",
   "metadata": {
    "id": "827f3274"
   },
   "outputs": [],
   "source": [
    "df_24_EYE['ET_ValidityLeft'].unique()"
   ]
  },
  {
   "cell_type": "code",
   "execution_count": null,
   "id": "b5985cce",
   "metadata": {
    "id": "1437751a"
   },
   "outputs": [],
   "source": [
    "df_24_EYE['ET_ValidityLeft'].value_counts()"
   ]
  },
  {
   "cell_type": "code",
   "execution_count": null,
   "id": "b6a2030c",
   "metadata": {
    "id": "d0a9ee4a"
   },
   "outputs": [],
   "source": [
    "df_24_EYE['ET_ValidityRight'].unique()"
   ]
  },
  {
   "cell_type": "code",
   "execution_count": null,
   "id": "45fd957c",
   "metadata": {
    "id": "55ddcc2b"
   },
   "outputs": [],
   "source": [
    "df_24_EYE['ET_ValidityRight'].value_counts()"
   ]
  },
  {
   "cell_type": "code",
   "execution_count": null,
   "id": "da0d806e",
   "metadata": {
    "id": "faef00be"
   },
   "outputs": [],
   "source": [
    "plt.figure(figsize=(12, 6))\n",
    "\n",
    "plt.subplot(1, 2, 1)\n",
    "sns.barplot(x=df_24_EYE['ET_ValidityLeft'].value_counts().index, y=df_24_EYE['ET_ValidityLeft'].value_counts().values)\n",
    "plt.title('Count of ET_ValidityLeft')\n",
    "plt.xlabel('Validity')\n",
    "plt.ylabel('Count')\n",
    "\n",
    "\n",
    "plt.subplot(1, 2, 2)\n",
    "sns.barplot(x=df_24_EYE['ET_ValidityRight'].value_counts().index, y=df_24_EYE['ET_ValidityRight'].value_counts().values)\n",
    "plt.title('Count of ET_ValidityRight')\n",
    "plt.xlabel('Validity')\n",
    "plt.ylabel('Count')\n",
    "\n",
    "plt.tight_layout()\n",
    "plt.show()"
   ]
  },
  {
   "cell_type": "markdown",
   "id": "a049f010",
   "metadata": {
    "id": "b43706ea"
   },
   "source": [
    "# Notes & Observations\n",
    "\n",
    "- The `ET_ValidityLeft` and `ET_ValidityRight` columns indicate the validity of the eye-tracking data for the left and right eye, respectively.\n",
    "- Based on the value counts and the bar plots, it appears that a value of `0.0` represents valid eye-tracking data, while a value of `4.0` represents invalid data.\n",
    "- Although the amount of invalid data is relatively small, removing these rows could introduce unwanted patterns or gaps in the time series data.\n",
    "- Therefore, we will keep the data and replace the value `4.0` with `1.0` in both `ET_ValidityLeft` and `ET_ValidityRight` columns. This will indicate to a machine learning model that the eye tracker had invalid data at those specific points in time while maintaining the integrity of the time series."
   ]
  },
  {
   "cell_type": "markdown",
   "id": "3d3a2412",
   "metadata": {
    "id": "e9e671b2"
   },
   "source": [
    "Define a mapping to convert validity values from `0.0` and `4.0` to `0` and `1`."
   ]
  },
  {
   "cell_type": "code",
   "execution_count": null,
   "id": "58a446e1",
   "metadata": {
    "id": "08e7ed71"
   },
   "outputs": [],
   "source": [
    "validity_map = {4.0: 1.0, 0.0: 0.0}"
   ]
  },
  {
   "cell_type": "code",
   "execution_count": null,
   "id": "2c73c98c",
   "metadata": {
    "id": "0bba3ac0"
   },
   "outputs": [],
   "source": [
    "df_24_EYE['ET_ValidityLeft'] = df_24_EYE['ET_ValidityLeft'].map(validity_map).astype(np.int8)\n",
    "df_24_EYE['ET_ValidityRight'] = df_24_EYE['ET_ValidityRight'].map(validity_map).astype(np.int8)"
   ]
  },
  {
   "cell_type": "code",
   "execution_count": null,
   "id": "1d97ccfb",
   "metadata": {
    "id": "0ff3f16c"
   },
   "outputs": [],
   "source": [
    "df_24_EYE.head(3)"
   ]
  },
  {
   "cell_type": "code",
   "execution_count": null,
   "id": "f16f10f2",
   "metadata": {
    "id": "32eb3225"
   },
   "outputs": [],
   "source": [
    "df_24_EYE.describe()"
   ]
  },
  {
   "cell_type": "code",
   "execution_count": null,
   "id": "d4e95574",
   "metadata": {
    "id": "c1e092e1"
   },
   "outputs": [],
   "source": [
    "df_24_EYE[df_24_EYE['ET_ValidityLeft'] == 1].shape"
   ]
  },
  {
   "cell_type": "code",
   "execution_count": null,
   "id": "df28175b",
   "metadata": {
    "id": "8ebfb0cc"
   },
   "outputs": [],
   "source": [
    "df_24_EYE[df_24_EYE['ET_ValidityRight'] == 1].shape"
   ]
  },
  {
   "cell_type": "code",
   "execution_count": null,
   "id": "8816f4bf",
   "metadata": {
    "id": "0d175df2"
   },
   "outputs": [],
   "source": [
    "df_24_EYE[df_24_EYE['ET_ValidityLeft'] == 1].shape[0] / df_24_EYE.shape[0]"
   ]
  },
  {
   "cell_type": "code",
   "execution_count": null,
   "id": "54d33e3a",
   "metadata": {
    "id": "54cc0f9e"
   },
   "outputs": [],
   "source": [
    "df_24_EYE[df_24_EYE['ET_ValidityRight'] == 1].shape[0] / df_24_EYE.shape[0]"
   ]
  },
  {
   "cell_type": "code",
   "execution_count": null,
   "id": "a673be67",
   "metadata": {
    "id": "45c977c1"
   },
   "outputs": [],
   "source": [
    "plt.figure(figsize=(18, 8))\n",
    "\n",
    "plt.subplot(1, 2, 1)\n",
    "sns.heatmap(df_24_EYE == -1, cmap='viridis')\n",
    "plt.title('Heatmap of -1 Values')\n",
    "\n",
    "plt.subplot(1, 2, 2)\n",
    "sns.heatmap(df_24_EYE == 1, cmap='viridis')\n",
    "plt.title('Heatmap of 1 Values')\n",
    "\n",
    "plt.tight_layout()\n",
    "plt.show()"
   ]
  },
  {
   "cell_type": "code",
   "execution_count": null,
   "id": "1420bac5",
   "metadata": {
    "id": "3b98a13b"
   },
   "outputs": [],
   "source": [
    "df_24_EYE[df_24_EYE['ET_PupilLeft'] == -1].shape"
   ]
  },
  {
   "cell_type": "code",
   "execution_count": null,
   "id": "db091d48",
   "metadata": {
    "id": "a2f296f6"
   },
   "outputs": [],
   "source": [
    "df_24_EYE[df_24_EYE['ET_PupilRight'] == -1].shape"
   ]
  },
  {
   "cell_type": "code",
   "execution_count": null,
   "id": "cc2c5e53",
   "metadata": {
    "id": "42cff7eb"
   },
   "outputs": [],
   "source": [
    "df_24_EYE[df_24_EYE['ET_PupilLeft'] == -1].shape[0] / df_24_EYE.shape[0]"
   ]
  },
  {
   "cell_type": "code",
   "execution_count": null,
   "id": "e8e5ca35",
   "metadata": {
    "id": "83c97903"
   },
   "outputs": [],
   "source": [
    "df_24_EYE[df_24_EYE['ET_PupilRight'] == -1].shape[0] / df_24_EYE.shape[0]"
   ]
  },
  {
   "cell_type": "code",
   "execution_count": null,
   "id": "91bf7119",
   "metadata": {
    "id": "6e176d63"
   },
   "outputs": [],
   "source": [
    "plt.figure(figsize=(18, 8))\n",
    "\n",
    "plt.subplot(1, 2, 1)\n",
    "sns.heatmap(df_24_EYE[df_24_EYE['ET_ValidityLeft'] == 1] == -1, cmap='viridis')\n",
    "plt.title('Heatmap of -1 Values')\n",
    "\n",
    "plt.subplot(1, 2, 2)\n",
    "sns.heatmap(df_24_EYE[df_24_EYE['ET_ValidityRight'] == 1] == -1, cmap='viridis')\n",
    "plt.title('Heatmap of -1 Values')\n",
    "\n",
    "plt.tight_layout()\n",
    "plt.show()"
   ]
  },
  {
   "cell_type": "markdown",
   "id": "5961ee1e",
   "metadata": {
    "id": "fff8db39"
   },
   "source": [
    "# Notes & Observations\n",
    "\n",
    "- The heatmaps reveal the distribution of -1 values across different columns.\n",
    "- It is evident that the `-1` values are not randomly scattered but appear in specific columns, notably `ET_GazeLeftx`, `ET_GazeLefty`, `ET_GazeRightx`, `ET_GazeRighty`, `ET_PupilLeft`, `ET_PupilRight`, `ET_DistanceLeft`, `ET_DistanceRight`, `ET_CameraLeftX`, `ET_CameraLeftY`, `ET_CameraRightX`, and `ET_CameraRightY`.\n",
    "- These `-1` values often coincide with instances where `ET_ValidityLeft` or `ET_ValidityRight` is 1, indicating invalid eye-tracking data. This suggests that `-1` is used as a placeholder for missing or invalid measurements in these columns when the eye tracker is not providing valid data for a particular eye.\n",
    "- Given that over 70% of the data in the `ET_PupilLeft` and `ET_PupilRight` columns is marked as invalid (-1), so instead of dropping them we can create new feature for both the `ET_PupilLeft` and `ET_PupilRight` to represent which row consist invalid `ET_PupilLeft` and `ET_PupilRight` data"
   ]
  },
  {
   "cell_type": "code",
   "execution_count": null,
   "id": "d5655eae",
   "metadata": {
    "id": "cf7437aa"
   },
   "outputs": [],
   "source": [
    "pupil_validity = {-1: 1 }"
   ]
  },
  {
   "cell_type": "code",
   "execution_count": null,
   "id": "7552e862",
   "metadata": {
    "id": "989b113d"
   },
   "outputs": [],
   "source": [
    "df_24_EYE['ET_PupilLeft_validity'] = df_24_EYE['ET_PupilLeft'].map(pupil_validity)"
   ]
  },
  {
   "cell_type": "code",
   "execution_count": null,
   "id": "7aa95261",
   "metadata": {
    "id": "9ecdfbc0"
   },
   "outputs": [],
   "source": [
    "df_24_EYE['ET_PupilRight_validity'] = df_24_EYE['ET_PupilRight'].map(pupil_validity)"
   ]
  },
  {
   "cell_type": "code",
   "execution_count": null,
   "id": "b95e8c8a",
   "metadata": {
    "id": "7f5d2b28"
   },
   "outputs": [],
   "source": [
    "df_24_EYE[['ET_PupilLeft_validity', 'ET_PupilRight_validity']].head()"
   ]
  },
  {
   "cell_type": "code",
   "execution_count": null,
   "id": "f5b52e13",
   "metadata": {
    "id": "6a86c472"
   },
   "outputs": [],
   "source": [
    "df_24_EYE[['ET_PupilLeft_validity', 'ET_PupilRight_validity']].isnull().sum()"
   ]
  },
  {
   "cell_type": "code",
   "execution_count": null,
   "id": "99e2ee99",
   "metadata": {
    "id": "9121e4a8"
   },
   "outputs": [],
   "source": [
    "plt.figure(figsize=(18, 8))\n",
    "sns.heatmap(df_24_EYE[['ET_PupilLeft_validity', 'ET_PupilRight_validity']].isnull(), cmap='viridis')\n",
    "plt.show()"
   ]
  },
  {
   "cell_type": "code",
   "execution_count": null,
   "id": "bd374525",
   "metadata": {
    "id": "613a230a"
   },
   "outputs": [],
   "source": [
    "df_24_EYE['ET_PupilLeft_validity'] = df_24_EYE['ET_PupilLeft_validity'].fillna(0)"
   ]
  },
  {
   "cell_type": "code",
   "execution_count": null,
   "id": "3037e848",
   "metadata": {
    "id": "89ae7d3f"
   },
   "outputs": [],
   "source": [
    "df_24_EYE['ET_PupilRight_validity'] = df_24_EYE['ET_PupilRight_validity'].fillna(0)"
   ]
  },
  {
   "cell_type": "code",
   "execution_count": null,
   "id": "f472bb7a",
   "metadata": {
    "id": "a2c39f03"
   },
   "outputs": [],
   "source": [
    "df_24_EYE[['ET_PupilLeft_validity', 'ET_PupilRight_validity']].head()"
   ]
  },
  {
   "cell_type": "code",
   "execution_count": null,
   "id": "f5d296d9",
   "metadata": {
    "id": "6e9c2645"
   },
   "outputs": [],
   "source": [
    "plt.figure(figsize=(18, 8))\n",
    "sns.heatmap(df_24_EYE[['ET_PupilLeft_validity', 'ET_PupilRight_validity']].isnull(), cmap='viridis')\n",
    "plt.show()"
   ]
  },
  {
   "cell_type": "code",
   "execution_count": null,
   "id": "4bebd394",
   "metadata": {
    "id": "7e52da92"
   },
   "outputs": [],
   "source": [
    "df_24_EYE.head()"
   ]
  },
  {
   "cell_type": "code",
   "execution_count": null,
   "id": "b260f946",
   "metadata": {
    "id": "1cefd42d"
   },
   "outputs": [],
   "source": [
    "plt.figure(figsize=(18, 8))\n",
    "\n",
    "plt.subplot(1, 2, 1)\n",
    "sns.heatmap(df_24_EYE == -1, cmap='viridis')\n",
    "plt.title('Heatmap of -1 Values')\n",
    "\n",
    "plt.subplot(1, 2, 2)\n",
    "sns.heatmap(df_24_EYE == 1, cmap='viridis')\n",
    "plt.title('Heatmap of -1 Values')\n",
    "\n",
    "plt.tight_layout()\n",
    "plt.show()"
   ]
  },
  {
   "cell_type": "code",
   "execution_count": null,
   "id": "e1306232",
   "metadata": {
    "id": "dcf38f27"
   },
   "outputs": [],
   "source": [
    "valid_left_ratio  = 1 - df_24_EYE['ET_ValidityLeft'].mean()"
   ]
  },
  {
   "cell_type": "code",
   "execution_count": null,
   "id": "2bfb2bed",
   "metadata": {
    "id": "2aea00ec"
   },
   "outputs": [],
   "source": [
    "valid_left_ratio"
   ]
  },
  {
   "cell_type": "code",
   "execution_count": null,
   "id": "74dea858",
   "metadata": {
    "id": "19ac306c"
   },
   "outputs": [],
   "source": [
    "valid_right_ratio = 1 - df_24_EYE['ET_ValidityRight'].mean()"
   ]
  },
  {
   "cell_type": "code",
   "execution_count": null,
   "id": "4d60679a",
   "metadata": {
    "id": "4f0aa48e"
   },
   "outputs": [],
   "source": [
    "valid_right_ratio"
   ]
  },
  {
   "cell_type": "code",
   "execution_count": null,
   "id": "c0947995",
   "metadata": {
    "id": "a000b670"
   },
   "outputs": [],
   "source": [
    "df_24_EYE['ET_PupilLeft_validity'] = df_24_EYE['ET_PupilLeft_validity'].astype(np.int8)\n",
    "df_24_EYE['ET_PupilRight_validity'] = df_24_EYE['ET_PupilRight_validity'].astype(np.int8)"
   ]
  },
  {
   "cell_type": "markdown",
   "id": "12803b34",
   "metadata": {
    "id": "6acf6847"
   },
   "source": [
    "# Feature Engineering and Observations\n",
    "\n",
    "Based on the analysis of the data, we've created two new features, `ET_PupilLeft_validity` and `ET_PupilRight_validity`. These features indicate the validity of the pupil data for the left and right eyes, respectively, with a value of 1 representing invalid data (originally -1) and 0 representing valid data.\n",
    "\n",
    "The heatmaps above visually demonstrate the distribution of -1 and 1 values across the dataset. We observed that:\n",
    "- The `-1` values are concentrated in specific columns related to gaze, pupil size, distance, and camera position, suggesting they represent missing or invalid sensor readings.\n",
    "- The `1` values, after mapping from `4.0` in the original validity columns, indicate instances of invalid eye-tracking data.\n",
    "- The heatmaps also show a strong correlation between the `-1` values in the pupil columns and a validity of 1 in the newly created pupil validity features, confirming that -1 was used to mark invalid pupil data."
   ]
  },
  {
   "cell_type": "code",
   "execution_count": null,
   "id": "8aaca34a",
   "metadata": {
    "id": "de9f2594"
   },
   "outputs": [],
   "source": [
    "df_24_EYE.head()"
   ]
  },
  {
   "cell_type": "code",
   "execution_count": null,
   "id": "f7cf3e7d",
   "metadata": {
    "id": "bfa2e174"
   },
   "outputs": [],
   "source": [
    "# Select only the numeric columns for plotting histograms, excluding time-related columns\n",
    "numeric_cols = df_24_EYE.select_dtypes(include=np.number).columns\n",
    "cols_to_plot = [col for col in numeric_cols if col not in ['UnixTime']]\n",
    "\n",
    "# Calculate the number of rows and columns for the grid\n",
    "n_cols = 4  # You can adjust the number of columns as needed\n",
    "n_rows = (len(cols_to_plot) + n_cols - 1) // n_cols\n",
    "\n",
    "plt.figure(figsize=(n_cols * 5, n_rows * 4)) # Adjust figure size as needed\n",
    "\n",
    "for i, col in enumerate(cols_to_plot):\n",
    "    plt.subplot(n_rows, n_cols, i + 1)\n",
    "    sns.histplot(df_24_EYE[col], kde=True)\n",
    "    plt.title(f'Distribution of {col}')\n",
    "    plt.xlabel(col)\n",
    "    plt.ylabel('Frequency')\n",
    "\n",
    "plt.tight_layout()\n",
    "plt.show()"
   ]
  },
  {
   "cell_type": "markdown",
   "id": "cb0a3f23",
   "metadata": {
    "id": "8059766d"
   },
   "source": [
    "# Observations from Histograms\n",
    "\n",
    "The grid of histograms provides insights into the distribution of values for each numeric column in the dataset (excluding 'UnixTime'). Key observations include:\n",
    "\n",
    "- Several columns, such as `ET_GazeLeftx`, `ET_GazeLefty`, `ET_GazeRightx`, and `ET_GazeRighty`, show distributions that appear somewhat multimodal or skewed, suggesting variations in gaze patterns.\n",
    "- The `ET_PupilLeft` and `ET_PupilRight` histograms clearly show a peak at -1, confirming the presence of a significant number of invalid pupil readings.\n",
    "- `ET_TimeSignal` shows a relatively uniform distribution, as expected for a time-based signal.\n",
    "- `ET_DistanceLeft` and `ET_DistanceRight` appear to have distributions centered around certain values, with some outliers or variations.\n",
    "- The camera position columns (`ET_CameraLeftX`, `ET_CameraLeftY`, `ET_CameraRightX`, `ET_CameraRightY`) seem to have distributions concentrated within specific ranges, reflecting the camera's field of view.\n",
    "- The validity columns (`ET_ValidityLeft`, `ET_ValidityRight`, `ET_PupilLeft_validity`, `ET_PupilRight_validity`) show distributions dominated by 0, indicating that most of the data is considered valid after the mapping. The smaller peaks at 1 represent the instances of invalid data.\n",
    "\n",
    "These distributions highlight the need for appropriate handling of the -1 values and potential outliers in subsequent analysis or modeling steps."
   ]
  },
  {
   "cell_type": "code",
   "execution_count": null,
   "id": "a15d4ae3",
   "metadata": {
    "id": "cb65ae1e"
   },
   "outputs": [],
   "source": [
    "df_24_EYE.columns"
   ]
  },
  {
   "cell_type": "code",
   "execution_count": null,
   "id": "5b39d2cc",
   "metadata": {
    "id": "8cf2280c"
   },
   "outputs": [],
   "source": [
    "cols = ['ET_GazeLeftx', 'ET_GazeLefty',\n",
    "       'ET_GazeRightx', 'ET_GazeRighty', 'ET_PupilLeft', 'ET_PupilRight',\n",
    "       'ET_TimeSignal', 'ET_DistanceLeft', 'ET_DistanceRight',\n",
    "       'ET_CameraLeftX', 'ET_CameraLeftY', 'ET_CameraRightX',\n",
    "       'ET_CameraRightY', 'ET_ValidityLeft', 'ET_ValidityRight',\n",
    "       'ET_PupilLeft_validity', 'ET_PupilRight_validity']"
   ]
  },
  {
   "cell_type": "code",
   "execution_count": null,
   "id": "83a37d18",
   "metadata": {
    "id": "85e45ea9"
   },
   "outputs": [],
   "source": [
    "from IPython.display import display, Markdown\n",
    "\n",
    "for col in cols:\n",
    "    # Add a markdown cell before each plot for better separation and labeling\n",
    "    display(Markdown(f'### {col} over Time'))\n",
    "    plt.figure(figsize=(16, 10))\n",
    "    plt.plot(df_24_EYE['Timestamp'], df_24_EYE[col])\n",
    "    plt.xlabel(\"Timestamp\") # Add x-axis label\n",
    "    plt.ylabel(col) # Add y-axis label\n",
    "    plt.show()"
   ]
  },
  {
   "cell_type": "markdown",
   "id": "36927bee",
   "metadata": {
    "id": "f7ffd08f"
   },
   "source": [
    "# Observations from Time Series Plots\n",
    "\n",
    "The line plots showing various features against the `Timestamp` reveal the temporal patterns and fluctuations in the eye-tracking data. Key observations include:\n",
    "\n",
    "- **Gaze Coordinates (`ET_GazeLeftx`, `ET_GazeLefty`, `ET_GazeRightx`, `ET_GazeRighty`):** These plots show the changes in gaze position over time. We can observe periods of relatively stable gaze interspersed with rapid movements (saccades) and blinks or other events where the gaze data might be invalid (-1 values appear as gaps or spikes if not handled).\n",
    "- **Pupil Size (`ET_PupilLeft`, `ET_PupilRight`):** The pupil size plots show variations over time. The presence of many -1 values is evident as flat lines at the bottom of the plot, indicating periods where pupil data was not recorded or was invalid.\n",
    "- **Time Signal (`ET_TimeSignal`):** This plot shows a steady, increasing trend, as expected for a time-based signal.\n",
    "- **Distance and Camera Position (`ET_DistanceLeft`, `ET_DistanceRight`, `ET_CameraLeftX`, `ET_CameraLeftY`, `ET_CameraRightX`, `ET_CameraRightY`):** These plots show how the distance from the eye tracker and the camera positions change over time. Variations in these features can be related to head movements or changes in the user's position relative to the eye tracker.\n",
    "- **Validity (`ET_ValidityLeft`, `ET_ValidityRight`, `ET_PupilLeft_validity`, `ET_PupilRight_validity`):** These plots clearly show periods of invalid data (represented by 1) as spikes or plateaus, corresponding to instances where the eye tracker lost track of the eyes or the pupil data was marked as invalid.\n",
    "\n",
    "Analyzing these time series plots is crucial for understanding the dynamics of the eye-tracking data and identifying patterns or anomalies that may require further investigation or specific handling during subsequent analysis."
   ]
  },
  {
   "cell_type": "code",
   "execution_count": null,
   "id": "d26d5a77",
   "metadata": {
    "id": "cdd85f8c"
   },
   "outputs": [],
   "source": [
    "# Select only the numeric columns for plotting histograms, excluding time-related columns\n",
    "numeric_cols = df_24_EYE.select_dtypes(include=np.number).columns\n",
    "\n",
    "# Calculate the number of rows and columns for the grid\n",
    "n_cols = 4  # You can adjust the number of columns as needed\n",
    "n_rows = (len(numeric_cols) + n_cols - 1) // n_cols\n",
    "\n",
    "plt.figure(figsize=(n_cols * 5, n_rows * 4)) # Adjust figure size as needed\n",
    "\n",
    "for i, col in enumerate(numeric_cols):\n",
    "    plt.subplot(n_rows, n_cols, i + 1)\n",
    "    sns.boxplot(df_24_EYE[col])\n",
    "    plt.title(f'Boxplot of {col}')\n",
    "    plt.xlabel(col)\n",
    "\n",
    "plt.tight_layout()\n",
    "plt.show()"
   ]
  },
  {
   "cell_type": "markdown",
   "id": "c047e596",
   "metadata": {
    "id": "2cca19c5"
   },
   "source": [
    "# Observations from Boxplots and Handling -1 Values\n",
    "\n",
    "The boxplots provide a visual summary of the distribution and potential outliers for each numeric column. Key observations from the boxplots include:\n",
    "\n",
    "- The boxplots for columns like `ET_GazeLeftx`, `ET_GazeLefty`, `ET_GazeRightx`, `ET_GazeRighty`, `ET_PupilLeft`, `ET_PupilRight`, `ET_DistanceLeft`, `ET_DistanceRight`, `ET_CameraLeftX`, `ET_CameraLeftY`, `ET_CameraRightX`, and `ET_CameraRightY` clearly show the presence of -1 values as significant outliers, confirming our earlier observations from the heatmaps and histograms.\n",
    "- The boxplots for the validity columns (`ET_ValidityLeft`, `ET_ValidityRight`, `ET_PupilLeft_validity`, `ET_PupilRight_validity`) show the discrete nature of these features, with the majority of data points at 0 (valid) and a smaller number at 1 (invalid).\n",
    "\n",
    "Given the significant presence of -1 values, which represent invalid or missing data, especially in the pupil-related columns, we have decided to replace these -1 values with NaN to properly represent them as missing data. Subsequently, we will impute these missing values using the mean of each respective column. This approach helps to retain the data structure and allows for further analysis or modeling without the distortion caused by the -1 placeholders."
   ]
  },
  {
   "cell_type": "code",
   "execution_count": null,
   "id": "de105fdd",
   "metadata": {
    "id": "9217371b"
   },
   "outputs": [],
   "source": [
    "df_24_EYE.replace({-1: np.nan}, inplace=True)"
   ]
  },
  {
   "cell_type": "code",
   "execution_count": null,
   "id": "d84b356e",
   "metadata": {
    "id": "8108fa01"
   },
   "outputs": [],
   "source": [
    "df_24_EYE[['ET_GazeLeftx', 'ET_GazeLefty',\n",
    "       'ET_GazeRightx', 'ET_GazeRighty', 'ET_PupilLeft', 'ET_PupilRight',\n",
    "       'ET_TimeSignal', 'ET_DistanceLeft', 'ET_DistanceRight',\n",
    "       'ET_CameraLeftX', 'ET_CameraLeftY', 'ET_CameraRightX',\n",
    "       'ET_CameraRightY', 'ET_ValidityLeft', 'ET_ValidityRight',\n",
    "       'ET_PupilLeft_validity', 'ET_PupilRight_validity']].mean()"
   ]
  },
  {
   "cell_type": "code",
   "execution_count": null,
   "id": "25fe81b8",
   "metadata": {
    "id": "9b94fbce"
   },
   "outputs": [],
   "source": [
    "df_24_EYE[['ET_GazeLeftx', 'ET_GazeLefty',\n",
    "       'ET_GazeRightx', 'ET_GazeRighty', 'ET_PupilLeft', 'ET_PupilRight',\n",
    "       'ET_TimeSignal', 'ET_DistanceLeft', 'ET_DistanceRight',\n",
    "       'ET_CameraLeftX', 'ET_CameraLeftY', 'ET_CameraRightX',\n",
    "       'ET_CameraRightY', 'ET_ValidityLeft', 'ET_ValidityRight',\n",
    "       'ET_PupilLeft_validity', 'ET_PupilRight_validity']].median()"
   ]
  },
  {
   "cell_type": "code",
   "execution_count": null,
   "id": "3d8336c2",
   "metadata": {
    "id": "ee1238c8"
   },
   "outputs": [],
   "source": [
    "numeric_cols = df_24_EYE.select_dtypes(include=np.number).columns\n",
    "\n",
    "for col in numeric_cols:\n",
    "    df_24_EYE[col] = df_24_EYE[col].fillna(df_24_EYE[col].mean())"
   ]
  },
  {
   "cell_type": "code",
   "execution_count": null,
   "id": "ceb3ed47",
   "metadata": {
    "id": "b0bc522d"
   },
   "outputs": [],
   "source": [
    "plt.figure(figsize=(18, 8))\n",
    "\n",
    "plt.subplot(1, 2, 1)\n",
    "sns.heatmap(df_24_EYE.isnull(), cmap='viridis')\n",
    "plt.title('Heatmap of Missing Values After Imputation')\n",
    "\n",
    "plt.subplot(1, 2, 2)\n",
    "sns.heatmap(df_24_EYE == 1, cmap='viridis')\n",
    "plt.title('Heatmap of 1 Values')\n",
    "\n",
    "plt.tight_layout()\n",
    "plt.show()"
   ]
  },
  {
   "cell_type": "markdown",
   "id": "3903a7c3",
   "metadata": {
    "id": "c0f1e10d"
   },
   "source": [
    "# Handling Missing Values (Imputation)\n",
    "\n",
    "As decided, we have replaced all the `-1` values with `NaN` to treat them as missing data. Subsequently, we have imputed these `NaN` values with the mean of their respective columns. The heatmap above, which was generated after the imputation, now shows no visible signs of `NaN` values, indicating that the imputation was successful."
   ]
  },
  {
   "cell_type": "code",
   "execution_count": null,
   "id": "7b783a79",
   "metadata": {
    "id": "2491c1da"
   },
   "outputs": [],
   "source": [
    "df_24_EYE.head()"
   ]
  },
  {
   "cell_type": "code",
   "execution_count": null,
   "id": "2c7acde1",
   "metadata": {
    "id": "64f04350"
   },
   "outputs": [],
   "source": [
    "# Select only the numeric columns for plotting histograms, excluding time-related columns\n",
    "numeric_cols = df_24_EYE.select_dtypes(include=np.number).columns\n",
    "cols_to_plot = [col for col in numeric_cols if col not in ['UnixTime']]\n",
    "\n",
    "# Calculate the number of rows and columns for the grid\n",
    "n_cols = 4  # You can adjust the number of columns as needed\n",
    "n_rows = (len(cols_to_plot) + n_cols - 1) // n_cols\n",
    "\n",
    "plt.figure(figsize=(n_cols * 5, n_rows * 4)) # Adjust figure size as needed\n",
    "\n",
    "for i, col in enumerate(cols_to_plot):\n",
    "    plt.subplot(n_rows, n_cols, i + 1)\n",
    "    sns.histplot(df_24_EYE[col], kde=True)\n",
    "    plt.title(f'Distribution of {col}')\n",
    "    plt.xlabel(col)\n",
    "    plt.ylabel('Frequency')\n",
    "\n",
    "plt.tight_layout()\n",
    "plt.show()"
   ]
  },
  {
   "cell_type": "markdown",
   "id": "aaf7dd10",
   "metadata": {
    "id": "e0c83f1c"
   },
   "source": [
    "# Observations from Histograms After Imputation\n",
    "\n",
    "The histograms generated after replacing the -1 values with the mean of each column show the distributions of the numeric features with the missing data handled. Key observations from these updated histograms include:\n",
    "\n",
    "- The distinct peaks at -1, which were prominent in the histograms for several columns (e.g., pupil size, gaze coordinates, distance, and camera position) before imputation, are now replaced by a peak at the mean of each respective column.\n",
    "- The distributions in many columns now appear more unimodal or show shifted modes compared to the original histograms.\n",
    "- The histograms for the validity columns still show their bimodal distributions with peaks at 0 and 1, as these were handled separately.\n",
    "\n",
    "These histograms provide an updated view of the data's distribution after handling the missing values, highlighting the impact of the imputation method on the data's characteristics."
   ]
  },
  {
   "cell_type": "code",
   "execution_count": null,
   "id": "7c761284",
   "metadata": {
    "id": "de0b2f65"
   },
   "outputs": [],
   "source": [
    "cols = ['ET_GazeLeftx', 'ET_GazeLefty',\n",
    "       'ET_GazeRightx', 'ET_GazeRighty', 'ET_PupilLeft', 'ET_PupilRight',\n",
    "       'ET_TimeSignal', 'ET_DistanceLeft', 'ET_DistanceRight',\n",
    "       'ET_CameraLeftX', 'ET_CameraLeftY', 'ET_CameraRightX',\n",
    "       'ET_CameraRightY', 'ET_ValidityLeft', 'ET_ValidityRight',\n",
    "       'ET_PupilLeft_validity', 'ET_PupilRight_validity']"
   ]
  },
  {
   "cell_type": "code",
   "execution_count": null,
   "id": "41848ef2",
   "metadata": {
    "id": "4ddd4915"
   },
   "outputs": [],
   "source": [
    "for col in cols:\n",
    "    # Add a markdown cell before each plot for better separation and labeling\n",
    "    display(Markdown(f'### {col} over Time'))\n",
    "    plt.figure(figsize=(16, 10))\n",
    "    plt.plot(df_24_EYE['Timestamp'], df_24_EYE[col])\n",
    "    plt.xlabel(\"Timestamp\") # Add x-axis label\n",
    "    plt.ylabel(col) # Add y-axis label\n",
    "    plt.show()"
   ]
  },
  {
   "cell_type": "markdown",
   "id": "9cac2f7a",
   "metadata": {
    "id": "0fb07abb"
   },
   "source": [
    "# Observations from Time Series Plots After Imputation\n",
    "\n",
    "The line plots generated after imputing the missing values with the mean show the temporal patterns of the features with the missing data handled. Key observations from these updated plots include:\n",
    "\n",
    "- The gaps or flat lines at -1, which were prominent in the plots for columns like gaze coordinates, pupil size, distance, and camera position, are now filled by lines at the mean value of the respective columns.\n",
    "- The plots for the validity columns remain the same as they were handled separately.\n",
    "- The `ET_TimeSignal` plot still shows a steady increasing trend, as expected."
   ]
  },
  {
   "cell_type": "code",
   "execution_count": null,
   "id": "b9cb98d3",
   "metadata": {
    "id": "c608fd95"
   },
   "outputs": [],
   "source": [
    "plt.figure(figsize=(16, 10))\n",
    "sns.heatmap(df_24_EYE.corr(numeric_only=True), cmap='YlGnBu', annot=True)\n",
    "plt.show()"
   ]
  },
  {
   "cell_type": "markdown",
   "id": "3d9c6ea1",
   "metadata": {
    "id": "82405ba6"
   },
   "source": [
    "# Observations from Correlation Heatmap\n",
    "\n",
    "The correlation heatmap provides a visual representation of the pairwise correlations between the numeric columns in the dataset. Key observations from the heatmap include:\n",
    "\n",
    "- **High Positive Correlations:** We observe strong positive correlations (values close to 1) between:\n",
    "  - `ET_GazeLeftx` and `ET_GazeRightx`: This is expected as the gaze positions of both eyes should be highly correlated when fixating on a point.\n",
    "  - `ET_GazeLefty` and `ET_GazeRighty`: Similar to the x-coordinates, the y-coordinates of gaze should also be highly correlated.\n",
    "  - `ET_PupilLeft` and `ET_PupilRight`: Pupil sizes of both eyes tend to change together in response to light and cognitive load.\n",
    "  - `ET_DistanceLeft` and `ET_DistanceRight`: The distance from the eye tracker to each eye should be highly correlated.\n",
    "  - `ET_CameraLeftX` and `ET_CameraRightX`, `ET_CameraLeftY` and `ET_CameraRightY`: The camera positions for both eyes are also expected to be highly correlated.\n",
    "  - `UnixTime` and `ET_TimeSignal`: As previously noted, these two columns are almost perfectly linearly correlated, indicating redundancy.\n",
    "  - `ET_ValidityLeft` and `ET_PupilLeft_validity`: There is a positive correlation, suggesting that when the overall left eye data is invalid, the left pupil data is also likely to be invalid.\n",
    "  - `ET_ValidityRight` and `ET_PupilRight_validity`: Similar to the left eye, there is a positive correlation between the overall right eye validity and the right pupil validity.\n",
    "- **Other Correlations:** We can also observe other varying degrees of correlations between different features, which can provide insights into the relationships between gaze behavior, pupil size, distance, and camera position. For example, there might be correlations between gaze coordinates and camera positions, reflecting head movements.\n",
    "- **Low or Near-Zero Correlations:** Columns with low or near-zero correlations are relatively independent of each other.\n",
    "\n",
    "Understanding these correlations is important for feature selection and for building models, as highly correlated features might indicate multicollinearity, while correlations between features can reveal underlying patterns in the data."
   ]
  },
  {
   "cell_type": "markdown",
   "id": "084d740c",
   "metadata": {
    "id": "1c413c3b"
   },
   "source": [
    "# Analysis of ET_TimeSignal and Decision to Drop\n",
    "\n",
    "As observed in the time series plot and confirmed by the correlation heatmap, the `ET_TimeSignal` column exhibits a near-perfect linear relationship with both the `Timestamp` and `UnixTime` columns. This strong correlation (close to 1) suggests that `ET_TimeSignal` is essentially redundant and likely represents another form of time recording or a signal directly derived from the timestamp.\n",
    "\n",
    "Including highly correlated features like this in a dataset can lead to issues such as multicollinearity in some statistical models, which can make it difficult to interpret the individual impact of each feature. Since the `Timestamp` column already provides the necessary temporal information, retaining `ET_TimeSignal` does not appear to add significant value for further analysis or modeling in most cases.\n",
    "\n",
    "Therefore, based on its high correlation and lack of unique insight, we will proceed to drop the `ET_TimeSignal` column to simplify the dataset and potentially improve the performance and interpretability of future analyses."
   ]
  },
  {
   "cell_type": "code",
   "execution_count": null,
   "id": "af89f2e7",
   "metadata": {
    "id": "7c96e349"
   },
   "outputs": [],
   "source": [
    "df_24_EYE.drop('ET_TimeSignal', axis=1, inplace=True)"
   ]
  },
  {
   "cell_type": "code",
   "execution_count": null,
   "id": "16a497cd",
   "metadata": {
    "id": "5845a61d"
   },
   "outputs": [],
   "source": [
    "plt.figure(figsize=(16, 10))\n",
    "sns.pairplot(df_24_EYE)\n",
    "plt.show()"
   ]
  },
  {
   "cell_type": "markdown",
   "id": "8694328d",
   "metadata": {
    "id": "sMcHS8LIOGeT"
   },
   "source": [
    "# **25_EYE**"
   ]
  },
  {
   "cell_type": "code",
   "execution_count": null,
   "id": "317ce093",
   "metadata": {
    "id": "L2tJooyROWnM"
   },
   "outputs": [],
   "source": []
  },
  {
   "cell_type": "code",
   "execution_count": null,
   "id": "dc183674",
   "metadata": {
    "id": "6c647c4f"
   },
   "outputs": [],
   "source": [
    "df_25_EYE = pd.read_csv('data/STData/25/25_EYE.csv')"
   ]
  },
  {
   "cell_type": "code",
   "execution_count": null,
   "id": "dc080e61",
   "metadata": {
    "id": "c229bba7"
   },
   "outputs": [],
   "source": [
    "df_25_EYE.head()"
   ]
  },
  {
   "cell_type": "code",
   "execution_count": null,
   "id": "ef4ab492",
   "metadata": {
    "id": "0ec8e716"
   },
   "outputs": [],
   "source": [
    "df_25_EYE.shape"
   ]
  },
  {
   "cell_type": "code",
   "execution_count": null,
   "id": "2adb14be",
   "metadata": {
    "id": "43ba37eb"
   },
   "outputs": [],
   "source": [
    "df_25_EYE.columns"
   ]
  },
  {
   "cell_type": "code",
   "execution_count": null,
   "id": "b2f1f991",
   "metadata": {
    "id": "19f68fb4"
   },
   "outputs": [],
   "source": [
    "df_25_EYE.info()"
   ]
  },
  {
   "cell_type": "code",
   "execution_count": null,
   "id": "796dfc21",
   "metadata": {
    "id": "603369d7"
   },
   "outputs": [],
   "source": [
    "df_25_EYE.isnull().sum()"
   ]
  },
  {
   "cell_type": "code",
   "execution_count": null,
   "id": "defba5d4",
   "metadata": {
    "id": "874353e3"
   },
   "outputs": [],
   "source": [
    "plt.figure(figsize=(12,8))\n",
    "sns.heatmap(df_25_EYE.isnull(), cmap='viridis')\n",
    "plt.show()"
   ]
  },
  {
   "cell_type": "markdown",
   "id": "d402b85e",
   "metadata": {
    "id": "b17906e7"
   },
   "source": [
    "# Notes & Observations\n",
    "\n",
    "- We observe many **null** (or missing) values in the `QuestionKey` columns.\n",
    "- The nulls in the `QuestionKey` column may not represent “true” nulls. Rather, they follow interval patterns, suggesting that during those periods no question was displayed.\n",
    "- These missing values in `QuestionKey` require additional investigation and context-aware handling."
   ]
  },
  {
   "cell_type": "code",
   "execution_count": null,
   "id": "4238d3d8",
   "metadata": {
    "id": "1113779e"
   },
   "outputs": [],
   "source": [
    "df_25_EYE['QuestionKey'].unique()"
   ]
  },
  {
   "cell_type": "code",
   "execution_count": null,
   "id": "c4f2c800",
   "metadata": {
    "id": "db0a93a2"
   },
   "outputs": [],
   "source": [
    "df_25_EYE['Timestamp'] = pd.to_datetime(df_25_EYE['Timestamp'])"
   ]
  },
  {
   "cell_type": "code",
   "execution_count": null,
   "id": "c49ee3d1",
   "metadata": {
    "id": "03d57b0a"
   },
   "outputs": [],
   "source": [
    "df_25_EYE.head(3)"
   ]
  },
  {
   "cell_type": "code",
   "execution_count": null,
   "id": "b14b64e6",
   "metadata": {
    "id": "c0004029"
   },
   "outputs": [],
   "source": [
    "df_25_EYE['QuestionKey'] = df_25_EYE['QuestionKey'].fillna('None')"
   ]
  },
  {
   "cell_type": "code",
   "execution_count": null,
   "id": "a8633df9",
   "metadata": {
    "id": "dfb4729e"
   },
   "outputs": [],
   "source": [
    "df_25_EYE['QuestionKey'].value_counts()"
   ]
  },
  {
   "cell_type": "code",
   "execution_count": null,
   "id": "eeab738f",
   "metadata": {
    "id": "9353c9d8"
   },
   "outputs": [],
   "source": [
    "plt.figure(figsize=(12,8))\n",
    "sns.heatmap(df_25_EYE.isnull(), cmap='viridis')\n",
    "plt.show()"
   ]
  },
  {
   "cell_type": "code",
   "execution_count": null,
   "id": "48706ec0",
   "metadata": {
    "id": "5c73d150"
   },
   "outputs": [],
   "source": [
    "df_25_EYE.isnull().sum()"
   ]
  },
  {
   "cell_type": "code",
   "execution_count": null,
   "id": "5bb60d58",
   "metadata": {
    "id": "6c700142"
   },
   "outputs": [],
   "source": [
    "df_25_EYE.dropna(inplace=True)"
   ]
  },
  {
   "cell_type": "code",
   "execution_count": null,
   "id": "d0dfcc4e",
   "metadata": {
    "id": "90a604ce"
   },
   "outputs": [],
   "source": [
    "df_25_EYE.head()"
   ]
  },
  {
   "cell_type": "code",
   "execution_count": null,
   "id": "4e11fe61",
   "metadata": {
    "id": "a43a4283"
   },
   "outputs": [],
   "source": [
    "df_25_EYE['Row'].unique()"
   ]
  },
  {
   "cell_type": "code",
   "execution_count": null,
   "id": "25a7e7bf",
   "metadata": {
    "id": "f66566f9"
   },
   "outputs": [],
   "source": [
    "plt.figure(figsize=(8,6))\n",
    "sns.histplot(df_25_EYE['Row'])\n",
    "plt.show()"
   ]
  },
  {
   "cell_type": "markdown",
   "id": "3dd27c69",
   "metadata": {
    "id": "5ddf40fd"
   },
   "source": [
    "# Notes & Observations\n",
    "\n",
    "- The `Row` column appears to be a simple row index and does not provide meaningful information relevant to the eye-tracking data itself. Therefore, it can be dropped."
   ]
  },
  {
   "cell_type": "code",
   "execution_count": null,
   "id": "b5f74687",
   "metadata": {
    "id": "5aee4404"
   },
   "outputs": [],
   "source": [
    "df_25_EYE.drop('Row', axis=1, inplace=True)"
   ]
  },
  {
   "cell_type": "code",
   "execution_count": null,
   "id": "5cb14eca",
   "metadata": {
    "id": "827f3274"
   },
   "outputs": [],
   "source": [
    "df_25_EYE['ET_ValidityLeft'].unique()"
   ]
  },
  {
   "cell_type": "code",
   "execution_count": null,
   "id": "aeec3d0a",
   "metadata": {
    "id": "1437751a"
   },
   "outputs": [],
   "source": [
    "df_25_EYE['ET_ValidityLeft'].value_counts()"
   ]
  },
  {
   "cell_type": "code",
   "execution_count": null,
   "id": "089f81ea",
   "metadata": {
    "id": "d0a9ee4a"
   },
   "outputs": [],
   "source": [
    "df_25_EYE['ET_ValidityRight'].unique()"
   ]
  },
  {
   "cell_type": "code",
   "execution_count": null,
   "id": "700da839",
   "metadata": {
    "id": "55ddcc2b"
   },
   "outputs": [],
   "source": [
    "df_25_EYE['ET_ValidityRight'].value_counts()"
   ]
  },
  {
   "cell_type": "code",
   "execution_count": null,
   "id": "7fe639a1",
   "metadata": {
    "id": "faef00be"
   },
   "outputs": [],
   "source": [
    "plt.figure(figsize=(12, 6))\n",
    "\n",
    "plt.subplot(1, 2, 1)\n",
    "sns.barplot(x=df_25_EYE['ET_ValidityLeft'].value_counts().index, y=df_25_EYE['ET_ValidityLeft'].value_counts().values)\n",
    "plt.title('Count of ET_ValidityLeft')\n",
    "plt.xlabel('Validity')\n",
    "plt.ylabel('Count')\n",
    "\n",
    "\n",
    "plt.subplot(1, 2, 2)\n",
    "sns.barplot(x=df_25_EYE['ET_ValidityRight'].value_counts().index, y=df_25_EYE['ET_ValidityRight'].value_counts().values)\n",
    "plt.title('Count of ET_ValidityRight')\n",
    "plt.xlabel('Validity')\n",
    "plt.ylabel('Count')\n",
    "\n",
    "plt.tight_layout()\n",
    "plt.show()"
   ]
  },
  {
   "cell_type": "markdown",
   "id": "86f72f13",
   "metadata": {
    "id": "b43706ea"
   },
   "source": [
    "# Notes & Observations\n",
    "\n",
    "- The `ET_ValidityLeft` and `ET_ValidityRight` columns indicate the validity of the eye-tracking data for the left and right eye, respectively.\n",
    "- Based on the value counts and the bar plots, it appears that a value of `0.0` represents valid eye-tracking data, while a value of `4.0` represents invalid data.\n",
    "- Although the amount of invalid data is relatively small, removing these rows could introduce unwanted patterns or gaps in the time series data.\n",
    "- Therefore, we will keep the data and replace the value `4.0` with `1.0` in both `ET_ValidityLeft` and `ET_ValidityRight` columns. This will indicate to a machine learning model that the eye tracker had invalid data at those specific points in time while maintaining the integrity of the time series."
   ]
  },
  {
   "cell_type": "markdown",
   "id": "6fda9f1c",
   "metadata": {
    "id": "e9e671b2"
   },
   "source": [
    "Define a mapping to convert validity values from `0.0` and `4.0` to `0` and `1`."
   ]
  },
  {
   "cell_type": "code",
   "execution_count": null,
   "id": "a12a47fa",
   "metadata": {
    "id": "08e7ed71"
   },
   "outputs": [],
   "source": [
    "validity_map = {4.0: 1.0, 0.0: 0.0}"
   ]
  },
  {
   "cell_type": "code",
   "execution_count": null,
   "id": "14e7e125",
   "metadata": {
    "id": "0bba3ac0"
   },
   "outputs": [],
   "source": [
    "df_25_EYE['ET_ValidityLeft'] = df_25_EYE['ET_ValidityLeft'].map(validity_map).astype(np.int8)\n",
    "df_25_EYE['ET_ValidityRight'] = df_25_EYE['ET_ValidityRight'].map(validity_map).astype(np.int8)"
   ]
  },
  {
   "cell_type": "code",
   "execution_count": null,
   "id": "e492dda3",
   "metadata": {
    "id": "0ff3f16c"
   },
   "outputs": [],
   "source": [
    "df_25_EYE.head(3)"
   ]
  },
  {
   "cell_type": "code",
   "execution_count": null,
   "id": "44b1714c",
   "metadata": {
    "id": "32eb3225"
   },
   "outputs": [],
   "source": [
    "df_25_EYE.describe()"
   ]
  },
  {
   "cell_type": "code",
   "execution_count": null,
   "id": "6f7eb779",
   "metadata": {
    "id": "c1e092e1"
   },
   "outputs": [],
   "source": [
    "df_25_EYE[df_25_EYE['ET_ValidityLeft'] == 1].shape"
   ]
  },
  {
   "cell_type": "code",
   "execution_count": null,
   "id": "c7cd99ca",
   "metadata": {
    "id": "8ebfb0cc"
   },
   "outputs": [],
   "source": [
    "df_25_EYE[df_25_EYE['ET_ValidityRight'] == 1].shape"
   ]
  },
  {
   "cell_type": "code",
   "execution_count": null,
   "id": "087f9712",
   "metadata": {
    "id": "0d175df2"
   },
   "outputs": [],
   "source": [
    "df_25_EYE[df_25_EYE['ET_ValidityLeft'] == 1].shape[0] / df_25_EYE.shape[0]"
   ]
  },
  {
   "cell_type": "code",
   "execution_count": null,
   "id": "52301cbb",
   "metadata": {
    "id": "54cc0f9e"
   },
   "outputs": [],
   "source": [
    "df_25_EYE[df_25_EYE['ET_ValidityRight'] == 1].shape[0] / df_25_EYE.shape[0]"
   ]
  },
  {
   "cell_type": "code",
   "execution_count": null,
   "id": "3bb0e001",
   "metadata": {
    "id": "45c977c1"
   },
   "outputs": [],
   "source": [
    "plt.figure(figsize=(18, 8))\n",
    "\n",
    "plt.subplot(1, 2, 1)\n",
    "sns.heatmap(df_25_EYE == -1, cmap='viridis')\n",
    "plt.title('Heatmap of -1 Values')\n",
    "\n",
    "plt.subplot(1, 2, 2)\n",
    "sns.heatmap(df_25_EYE == 1, cmap='viridis')\n",
    "plt.title('Heatmap of 1 Values')\n",
    "\n",
    "plt.tight_layout()\n",
    "plt.show()"
   ]
  },
  {
   "cell_type": "code",
   "execution_count": null,
   "id": "a01bf79f",
   "metadata": {
    "id": "3b98a13b"
   },
   "outputs": [],
   "source": [
    "df_25_EYE[df_25_EYE['ET_PupilLeft'] == -1].shape"
   ]
  },
  {
   "cell_type": "code",
   "execution_count": null,
   "id": "97818b13",
   "metadata": {
    "id": "a2f296f6"
   },
   "outputs": [],
   "source": [
    "df_25_EYE[df_25_EYE['ET_PupilRight'] == -1].shape"
   ]
  },
  {
   "cell_type": "code",
   "execution_count": null,
   "id": "8af08375",
   "metadata": {
    "id": "42cff7eb"
   },
   "outputs": [],
   "source": [
    "df_25_EYE[df_25_EYE['ET_PupilLeft'] == -1].shape[0] / df_25_EYE.shape[0]"
   ]
  },
  {
   "cell_type": "code",
   "execution_count": null,
   "id": "ed5941f4",
   "metadata": {
    "id": "83c97903"
   },
   "outputs": [],
   "source": [
    "df_25_EYE[df_25_EYE['ET_PupilRight'] == -1].shape[0] / df_25_EYE.shape[0]"
   ]
  },
  {
   "cell_type": "code",
   "execution_count": null,
   "id": "164c2f93",
   "metadata": {
    "id": "6e176d63"
   },
   "outputs": [],
   "source": [
    "plt.figure(figsize=(18, 8))\n",
    "\n",
    "plt.subplot(1, 2, 1)\n",
    "sns.heatmap(df_25_EYE[df_25_EYE['ET_ValidityLeft'] == 1] == -1, cmap='viridis')\n",
    "plt.title('Heatmap of -1 Values')\n",
    "\n",
    "plt.subplot(1, 2, 2)\n",
    "sns.heatmap(df_25_EYE[df_25_EYE['ET_ValidityRight'] == 1] == -1, cmap='viridis')\n",
    "plt.title('Heatmap of -1 Values')\n",
    "\n",
    "plt.tight_layout()\n",
    "plt.show()"
   ]
  },
  {
   "cell_type": "markdown",
   "id": "c3dd2b0a",
   "metadata": {
    "id": "fff8db39"
   },
   "source": [
    "# Notes & Observations\n",
    "\n",
    "- The heatmaps reveal the distribution of -1 values across different columns.\n",
    "- It is evident that the `-1` values are not randomly scattered but appear in specific columns, notably `ET_GazeLeftx`, `ET_GazeLefty`, `ET_GazeRightx`, `ET_GazeRighty`, `ET_PupilLeft`, `ET_PupilRight`, `ET_DistanceLeft`, `ET_DistanceRight`, `ET_CameraLeftX`, `ET_CameraLeftY`, `ET_CameraRightX`, and `ET_CameraRightY`.\n",
    "- These `-1` values often coincide with instances where `ET_ValidityLeft` or `ET_ValidityRight` is 1, indicating invalid eye-tracking data. This suggests that `-1` is used as a placeholder for missing or invalid measurements in these columns when the eye tracker is not providing valid data for a particular eye.\n",
    "- Given that over 70% of the data in the `ET_PupilLeft` and `ET_PupilRight` columns is marked as invalid (-1), so instead of dropping them we can create new feature for both the `ET_PupilLeft` and `ET_PupilRight` to represent which row consist invalid `ET_PupilLeft` and `ET_PupilRight` data"
   ]
  },
  {
   "cell_type": "code",
   "execution_count": null,
   "id": "8a3d9b17",
   "metadata": {
    "id": "cf7437aa"
   },
   "outputs": [],
   "source": [
    "pupil_validity = {-1: 1 }"
   ]
  },
  {
   "cell_type": "code",
   "execution_count": null,
   "id": "7fd22b1d",
   "metadata": {
    "id": "989b113d"
   },
   "outputs": [],
   "source": [
    "df_25_EYE['ET_PupilLeft_validity'] = df_25_EYE['ET_PupilLeft'].map(pupil_validity)"
   ]
  },
  {
   "cell_type": "code",
   "execution_count": null,
   "id": "1b60dd56",
   "metadata": {
    "id": "9ecdfbc0"
   },
   "outputs": [],
   "source": [
    "df_25_EYE['ET_PupilRight_validity'] = df_25_EYE['ET_PupilRight'].map(pupil_validity)"
   ]
  },
  {
   "cell_type": "code",
   "execution_count": null,
   "id": "7d49f3f0",
   "metadata": {
    "id": "7f5d2b28"
   },
   "outputs": [],
   "source": [
    "df_25_EYE[['ET_PupilLeft_validity', 'ET_PupilRight_validity']].head()"
   ]
  },
  {
   "cell_type": "code",
   "execution_count": null,
   "id": "c6da9e23",
   "metadata": {
    "id": "6a86c472"
   },
   "outputs": [],
   "source": [
    "df_25_EYE[['ET_PupilLeft_validity', 'ET_PupilRight_validity']].isnull().sum()"
   ]
  },
  {
   "cell_type": "code",
   "execution_count": null,
   "id": "5a0e99a2",
   "metadata": {
    "id": "9121e4a8"
   },
   "outputs": [],
   "source": [
    "plt.figure(figsize=(18, 8))\n",
    "sns.heatmap(df_25_EYE[['ET_PupilLeft_validity', 'ET_PupilRight_validity']].isnull(), cmap='viridis')\n",
    "plt.show()"
   ]
  },
  {
   "cell_type": "code",
   "execution_count": null,
   "id": "06d1747c",
   "metadata": {
    "id": "613a230a"
   },
   "outputs": [],
   "source": [
    "df_25_EYE['ET_PupilLeft_validity'] = df_25_EYE['ET_PupilLeft_validity'].fillna(0)"
   ]
  },
  {
   "cell_type": "code",
   "execution_count": null,
   "id": "a7c0b8e2",
   "metadata": {
    "id": "89ae7d3f"
   },
   "outputs": [],
   "source": [
    "df_25_EYE['ET_PupilRight_validity'] = df_25_EYE['ET_PupilRight_validity'].fillna(0)"
   ]
  },
  {
   "cell_type": "code",
   "execution_count": null,
   "id": "f09e342a",
   "metadata": {
    "id": "a2c39f03"
   },
   "outputs": [],
   "source": [
    "df_25_EYE[['ET_PupilLeft_validity', 'ET_PupilRight_validity']].head()"
   ]
  },
  {
   "cell_type": "code",
   "execution_count": null,
   "id": "7530823f",
   "metadata": {
    "id": "6e9c2645"
   },
   "outputs": [],
   "source": [
    "plt.figure(figsize=(18, 8))\n",
    "sns.heatmap(df_25_EYE[['ET_PupilLeft_validity', 'ET_PupilRight_validity']].isnull(), cmap='viridis')\n",
    "plt.show()"
   ]
  },
  {
   "cell_type": "code",
   "execution_count": null,
   "id": "2ee129d2",
   "metadata": {
    "id": "7e52da92"
   },
   "outputs": [],
   "source": [
    "df_25_EYE.head()"
   ]
  },
  {
   "cell_type": "code",
   "execution_count": null,
   "id": "2b021d66",
   "metadata": {
    "id": "1cefd42d"
   },
   "outputs": [],
   "source": [
    "plt.figure(figsize=(18, 8))\n",
    "\n",
    "plt.subplot(1, 2, 1)\n",
    "sns.heatmap(df_25_EYE == -1, cmap='viridis')\n",
    "plt.title('Heatmap of -1 Values')\n",
    "\n",
    "plt.subplot(1, 2, 2)\n",
    "sns.heatmap(df_25_EYE == 1, cmap='viridis')\n",
    "plt.title('Heatmap of -1 Values')\n",
    "\n",
    "plt.tight_layout()\n",
    "plt.show()"
   ]
  },
  {
   "cell_type": "code",
   "execution_count": null,
   "id": "a7895efb",
   "metadata": {
    "id": "dcf38f27"
   },
   "outputs": [],
   "source": [
    "valid_left_ratio  = 1 - df_25_EYE['ET_ValidityLeft'].mean()"
   ]
  },
  {
   "cell_type": "code",
   "execution_count": null,
   "id": "543b2f2b",
   "metadata": {
    "id": "2aea00ec"
   },
   "outputs": [],
   "source": [
    "valid_left_ratio"
   ]
  },
  {
   "cell_type": "code",
   "execution_count": null,
   "id": "0ece4893",
   "metadata": {
    "id": "19ac306c"
   },
   "outputs": [],
   "source": [
    "valid_right_ratio = 1 - df_25_EYE['ET_ValidityRight'].mean()"
   ]
  },
  {
   "cell_type": "code",
   "execution_count": null,
   "id": "3312ac66",
   "metadata": {
    "id": "4f0aa48e"
   },
   "outputs": [],
   "source": [
    "valid_right_ratio"
   ]
  },
  {
   "cell_type": "code",
   "execution_count": null,
   "id": "27243902",
   "metadata": {
    "id": "a000b670"
   },
   "outputs": [],
   "source": [
    "df_25_EYE['ET_PupilLeft_validity'] = df_25_EYE['ET_PupilLeft_validity'].astype(np.int8)\n",
    "df_25_EYE['ET_PupilRight_validity'] = df_25_EYE['ET_PupilRight_validity'].astype(np.int8)"
   ]
  },
  {
   "cell_type": "markdown",
   "id": "64e70f4a",
   "metadata": {
    "id": "6acf6847"
   },
   "source": [
    "# Feature Engineering and Observations\n",
    "\n",
    "Based on the analysis of the data, we've created two new features, `ET_PupilLeft_validity` and `ET_PupilRight_validity`. These features indicate the validity of the pupil data for the left and right eyes, respectively, with a value of 1 representing invalid data (originally -1) and 0 representing valid data.\n",
    "\n",
    "The heatmaps above visually demonstrate the distribution of -1 and 1 values across the dataset. We observed that:\n",
    "- The `-1` values are concentrated in specific columns related to gaze, pupil size, distance, and camera position, suggesting they represent missing or invalid sensor readings.\n",
    "- The `1` values, after mapping from `4.0` in the original validity columns, indicate instances of invalid eye-tracking data.\n",
    "- The heatmaps also show a strong correlation between the `-1` values in the pupil columns and a validity of 1 in the newly created pupil validity features, confirming that -1 was used to mark invalid pupil data."
   ]
  },
  {
   "cell_type": "code",
   "execution_count": null,
   "id": "19cb7c38",
   "metadata": {
    "id": "de9f2594"
   },
   "outputs": [],
   "source": [
    "df_25_EYE.head()"
   ]
  },
  {
   "cell_type": "code",
   "execution_count": null,
   "id": "01015848",
   "metadata": {
    "id": "bfa2e174"
   },
   "outputs": [],
   "source": [
    "# Select only the numeric columns for plotting histograms, excluding time-related columns\n",
    "numeric_cols = df_25_EYE.select_dtypes(include=np.number).columns\n",
    "cols_to_plot = [col for col in numeric_cols if col not in ['UnixTime']]\n",
    "\n",
    "# Calculate the number of rows and columns for the grid\n",
    "n_cols = 4  # You can adjust the number of columns as needed\n",
    "n_rows = (len(cols_to_plot) + n_cols - 1) // n_cols\n",
    "\n",
    "plt.figure(figsize=(n_cols * 5, n_rows * 4)) # Adjust figure size as needed\n",
    "\n",
    "for i, col in enumerate(cols_to_plot):\n",
    "    plt.subplot(n_rows, n_cols, i + 1)\n",
    "    sns.histplot(df_25_EYE[col], kde=True)\n",
    "    plt.title(f'Distribution of {col}')\n",
    "    plt.xlabel(col)\n",
    "    plt.ylabel('Frequency')\n",
    "\n",
    "plt.tight_layout()\n",
    "plt.show()"
   ]
  },
  {
   "cell_type": "markdown",
   "id": "4d84c15e",
   "metadata": {
    "id": "8059766d"
   },
   "source": [
    "# Observations from Histograms\n",
    "\n",
    "The grid of histograms provides insights into the distribution of values for each numeric column in the dataset (excluding 'UnixTime'). Key observations include:\n",
    "\n",
    "- Several columns, such as `ET_GazeLeftx`, `ET_GazeLefty`, `ET_GazeRightx`, and `ET_GazeRighty`, show distributions that appear somewhat multimodal or skewed, suggesting variations in gaze patterns.\n",
    "- The `ET_PupilLeft` and `ET_PupilRight` histograms clearly show a peak at -1, confirming the presence of a significant number of invalid pupil readings.\n",
    "- `ET_TimeSignal` shows a relatively uniform distribution, as expected for a time-based signal.\n",
    "- `ET_DistanceLeft` and `ET_DistanceRight` appear to have distributions centered around certain values, with some outliers or variations.\n",
    "- The camera position columns (`ET_CameraLeftX`, `ET_CameraLeftY`, `ET_CameraRightX`, `ET_CameraRightY`) seem to have distributions concentrated within specific ranges, reflecting the camera's field of view.\n",
    "- The validity columns (`ET_ValidityLeft`, `ET_ValidityRight`, `ET_PupilLeft_validity`, `ET_PupilRight_validity`) show distributions dominated by 0, indicating that most of the data is considered valid after the mapping. The smaller peaks at 1 represent the instances of invalid data.\n",
    "\n",
    "These distributions highlight the need for appropriate handling of the -1 values and potential outliers in subsequent analysis or modeling steps."
   ]
  },
  {
   "cell_type": "code",
   "execution_count": null,
   "id": "131306c9",
   "metadata": {
    "id": "cb65ae1e"
   },
   "outputs": [],
   "source": [
    "df_25_EYE.columns"
   ]
  },
  {
   "cell_type": "code",
   "execution_count": null,
   "id": "e083e7ed",
   "metadata": {
    "id": "8cf2280c"
   },
   "outputs": [],
   "source": [
    "cols = ['ET_GazeLeftx', 'ET_GazeLefty',\n",
    "       'ET_GazeRightx', 'ET_GazeRighty', 'ET_PupilLeft', 'ET_PupilRight',\n",
    "       'ET_TimeSignal', 'ET_DistanceLeft', 'ET_DistanceRight',\n",
    "       'ET_CameraLeftX', 'ET_CameraLeftY', 'ET_CameraRightX',\n",
    "       'ET_CameraRightY', 'ET_ValidityLeft', 'ET_ValidityRight',\n",
    "       'ET_PupilLeft_validity', 'ET_PupilRight_validity']"
   ]
  },
  {
   "cell_type": "code",
   "execution_count": null,
   "id": "d6ee487c",
   "metadata": {
    "id": "85e45ea9"
   },
   "outputs": [],
   "source": [
    "from IPython.display import display, Markdown\n",
    "\n",
    "for col in cols:\n",
    "    # Add a markdown cell before each plot for better separation and labeling\n",
    "    display(Markdown(f'### {col} over Time'))\n",
    "    plt.figure(figsize=(16, 10))\n",
    "    plt.plot(df_25_EYE['Timestamp'], df_25_EYE[col])\n",
    "    plt.xlabel(\"Timestamp\") # Add x-axis label\n",
    "    plt.ylabel(col) # Add y-axis label\n",
    "    plt.show()"
   ]
  },
  {
   "cell_type": "markdown",
   "id": "1bacd833",
   "metadata": {
    "id": "f7ffd08f"
   },
   "source": [
    "# Observations from Time Series Plots\n",
    "\n",
    "The line plots showing various features against the `Timestamp` reveal the temporal patterns and fluctuations in the eye-tracking data. Key observations include:\n",
    "\n",
    "- **Gaze Coordinates (`ET_GazeLeftx`, `ET_GazeLefty`, `ET_GazeRightx`, `ET_GazeRighty`):** These plots show the changes in gaze position over time. We can observe periods of relatively stable gaze interspersed with rapid movements (saccades) and blinks or other events where the gaze data might be invalid (-1 values appear as gaps or spikes if not handled).\n",
    "- **Pupil Size (`ET_PupilLeft`, `ET_PupilRight`):** The pupil size plots show variations over time. The presence of many -1 values is evident as flat lines at the bottom of the plot, indicating periods where pupil data was not recorded or was invalid.\n",
    "- **Time Signal (`ET_TimeSignal`):** This plot shows a steady, increasing trend, as expected for a time-based signal.\n",
    "- **Distance and Camera Position (`ET_DistanceLeft`, `ET_DistanceRight`, `ET_CameraLeftX`, `ET_CameraLeftY`, `ET_CameraRightX`, `ET_CameraRightY`):** These plots show how the distance from the eye tracker and the camera positions change over time. Variations in these features can be related to head movements or changes in the user's position relative to the eye tracker.\n",
    "- **Validity (`ET_ValidityLeft`, `ET_ValidityRight`, `ET_PupilLeft_validity`, `ET_PupilRight_validity`):** These plots clearly show periods of invalid data (represented by 1) as spikes or plateaus, corresponding to instances where the eye tracker lost track of the eyes or the pupil data was marked as invalid.\n",
    "\n",
    "Analyzing these time series plots is crucial for understanding the dynamics of the eye-tracking data and identifying patterns or anomalies that may require further investigation or specific handling during subsequent analysis."
   ]
  },
  {
   "cell_type": "code",
   "execution_count": null,
   "id": "20bdaeef",
   "metadata": {
    "id": "cdd85f8c"
   },
   "outputs": [],
   "source": [
    "# Select only the numeric columns for plotting histograms, excluding time-related columns\n",
    "numeric_cols = df_25_EYE.select_dtypes(include=np.number).columns\n",
    "\n",
    "# Calculate the number of rows and columns for the grid\n",
    "n_cols = 4  # You can adjust the number of columns as needed\n",
    "n_rows = (len(numeric_cols) + n_cols - 1) // n_cols\n",
    "\n",
    "plt.figure(figsize=(n_cols * 5, n_rows * 4)) # Adjust figure size as needed\n",
    "\n",
    "for i, col in enumerate(numeric_cols):\n",
    "    plt.subplot(n_rows, n_cols, i + 1)\n",
    "    sns.boxplot(df_25_EYE[col])\n",
    "    plt.title(f'Boxplot of {col}')\n",
    "    plt.xlabel(col)\n",
    "\n",
    "plt.tight_layout()\n",
    "plt.show()"
   ]
  },
  {
   "cell_type": "markdown",
   "id": "212fedcb",
   "metadata": {
    "id": "2cca19c5"
   },
   "source": [
    "# Observations from Boxplots and Handling -1 Values\n",
    "\n",
    "The boxplots provide a visual summary of the distribution and potential outliers for each numeric column. Key observations from the boxplots include:\n",
    "\n",
    "- The boxplots for columns like `ET_GazeLeftx`, `ET_GazeLefty`, `ET_GazeRightx`, `ET_GazeRighty`, `ET_PupilLeft`, `ET_PupilRight`, `ET_DistanceLeft`, `ET_DistanceRight`, `ET_CameraLeftX`, `ET_CameraLeftY`, `ET_CameraRightX`, and `ET_CameraRightY` clearly show the presence of -1 values as significant outliers, confirming our earlier observations from the heatmaps and histograms.\n",
    "- The boxplots for the validity columns (`ET_ValidityLeft`, `ET_ValidityRight`, `ET_PupilLeft_validity`, `ET_PupilRight_validity`) show the discrete nature of these features, with the majority of data points at 0 (valid) and a smaller number at 1 (invalid).\n",
    "\n",
    "Given the significant presence of -1 values, which represent invalid or missing data, especially in the pupil-related columns, we have decided to replace these -1 values with NaN to properly represent them as missing data. Subsequently, we will impute these missing values using the mean of each respective column. This approach helps to retain the data structure and allows for further analysis or modeling without the distortion caused by the -1 placeholders."
   ]
  },
  {
   "cell_type": "code",
   "execution_count": null,
   "id": "cfa8d6bc",
   "metadata": {
    "id": "9217371b"
   },
   "outputs": [],
   "source": [
    "df_25_EYE.replace({-1: np.nan}, inplace=True)"
   ]
  },
  {
   "cell_type": "code",
   "execution_count": null,
   "id": "a4d9e4a2",
   "metadata": {
    "id": "8108fa01"
   },
   "outputs": [],
   "source": [
    "df_25_EYE[['ET_GazeLeftx', 'ET_GazeLefty',\n",
    "       'ET_GazeRightx', 'ET_GazeRighty', 'ET_PupilLeft', 'ET_PupilRight',\n",
    "       'ET_TimeSignal', 'ET_DistanceLeft', 'ET_DistanceRight',\n",
    "       'ET_CameraLeftX', 'ET_CameraLeftY', 'ET_CameraRightX',\n",
    "       'ET_CameraRightY', 'ET_ValidityLeft', 'ET_ValidityRight',\n",
    "       'ET_PupilLeft_validity', 'ET_PupilRight_validity']].mean()"
   ]
  },
  {
   "cell_type": "code",
   "execution_count": null,
   "id": "9097340b",
   "metadata": {
    "id": "9b94fbce"
   },
   "outputs": [],
   "source": [
    "df_25_EYE[['ET_GazeLeftx', 'ET_GazeLefty',\n",
    "       'ET_GazeRightx', 'ET_GazeRighty', 'ET_PupilLeft', 'ET_PupilRight',\n",
    "       'ET_TimeSignal', 'ET_DistanceLeft', 'ET_DistanceRight',\n",
    "       'ET_CameraLeftX', 'ET_CameraLeftY', 'ET_CameraRightX',\n",
    "       'ET_CameraRightY', 'ET_ValidityLeft', 'ET_ValidityRight',\n",
    "       'ET_PupilLeft_validity', 'ET_PupilRight_validity']].median()"
   ]
  },
  {
   "cell_type": "code",
   "execution_count": null,
   "id": "af0e9084",
   "metadata": {
    "id": "ee1238c8"
   },
   "outputs": [],
   "source": [
    "numeric_cols = df_25_EYE.select_dtypes(include=np.number).columns\n",
    "\n",
    "for col in numeric_cols:\n",
    "    df_25_EYE[col] = df_25_EYE[col].fillna(df_25_EYE[col].mean())"
   ]
  },
  {
   "cell_type": "code",
   "execution_count": null,
   "id": "2aae86c1",
   "metadata": {
    "id": "b0bc522d"
   },
   "outputs": [],
   "source": [
    "plt.figure(figsize=(18, 8))\n",
    "\n",
    "plt.subplot(1, 2, 1)\n",
    "sns.heatmap(df_25_EYE.isnull(), cmap='viridis')\n",
    "plt.title('Heatmap of Missing Values After Imputation')\n",
    "\n",
    "plt.subplot(1, 2, 2)\n",
    "sns.heatmap(df_25_EYE == 1, cmap='viridis')\n",
    "plt.title('Heatmap of 1 Values')\n",
    "\n",
    "plt.tight_layout()\n",
    "plt.show()"
   ]
  },
  {
   "cell_type": "markdown",
   "id": "fb0e875d",
   "metadata": {
    "id": "c0f1e10d"
   },
   "source": [
    "# Handling Missing Values (Imputation)\n",
    "\n",
    "As decided, we have replaced all the `-1` values with `NaN` to treat them as missing data. Subsequently, we have imputed these `NaN` values with the mean of their respective columns. The heatmap above, which was generated after the imputation, now shows no visible signs of `NaN` values, indicating that the imputation was successful."
   ]
  },
  {
   "cell_type": "code",
   "execution_count": null,
   "id": "4355b45f",
   "metadata": {
    "id": "2491c1da"
   },
   "outputs": [],
   "source": [
    "df_25_EYE.head()"
   ]
  },
  {
   "cell_type": "code",
   "execution_count": null,
   "id": "0934c5b8",
   "metadata": {
    "id": "64f04350"
   },
   "outputs": [],
   "source": [
    "# Select only the numeric columns for plotting histograms, excluding time-related columns\n",
    "numeric_cols = df_25_EYE.select_dtypes(include=np.number).columns\n",
    "cols_to_plot = [col for col in numeric_cols if col not in ['UnixTime']]\n",
    "\n",
    "# Calculate the number of rows and columns for the grid\n",
    "n_cols = 4  # You can adjust the number of columns as needed\n",
    "n_rows = (len(cols_to_plot) + n_cols - 1) // n_cols\n",
    "\n",
    "plt.figure(figsize=(n_cols * 5, n_rows * 4)) # Adjust figure size as needed\n",
    "\n",
    "for i, col in enumerate(cols_to_plot):\n",
    "    plt.subplot(n_rows, n_cols, i + 1)\n",
    "    sns.histplot(df_25_EYE[col], kde=True)\n",
    "    plt.title(f'Distribution of {col}')\n",
    "    plt.xlabel(col)\n",
    "    plt.ylabel('Frequency')\n",
    "\n",
    "plt.tight_layout()\n",
    "plt.show()"
   ]
  },
  {
   "cell_type": "markdown",
   "id": "733ab730",
   "metadata": {
    "id": "e0c83f1c"
   },
   "source": [
    "# Observations from Histograms After Imputation\n",
    "\n",
    "The histograms generated after replacing the -1 values with the mean of each column show the distributions of the numeric features with the missing data handled. Key observations from these updated histograms include:\n",
    "\n",
    "- The distinct peaks at -1, which were prominent in the histograms for several columns (e.g., pupil size, gaze coordinates, distance, and camera position) before imputation, are now replaced by a peak at the mean of each respective column.\n",
    "- The distributions in many columns now appear more unimodal or show shifted modes compared to the original histograms.\n",
    "- The histograms for the validity columns still show their bimodal distributions with peaks at 0 and 1, as these were handled separately.\n",
    "\n",
    "These histograms provide an updated view of the data's distribution after handling the missing values, highlighting the impact of the imputation method on the data's characteristics."
   ]
  },
  {
   "cell_type": "code",
   "execution_count": null,
   "id": "a47d7f8f",
   "metadata": {
    "id": "de0b2f65"
   },
   "outputs": [],
   "source": [
    "cols = ['ET_GazeLeftx', 'ET_GazeLefty',\n",
    "       'ET_GazeRightx', 'ET_GazeRighty', 'ET_PupilLeft', 'ET_PupilRight',\n",
    "       'ET_TimeSignal', 'ET_DistanceLeft', 'ET_DistanceRight',\n",
    "       'ET_CameraLeftX', 'ET_CameraLeftY', 'ET_CameraRightX',\n",
    "       'ET_CameraRightY', 'ET_ValidityLeft', 'ET_ValidityRight',\n",
    "       'ET_PupilLeft_validity', 'ET_PupilRight_validity']"
   ]
  },
  {
   "cell_type": "code",
   "execution_count": null,
   "id": "57a5ab29",
   "metadata": {
    "id": "4ddd4915"
   },
   "outputs": [],
   "source": [
    "for col in cols:\n",
    "    # Add a markdown cell before each plot for better separation and labeling\n",
    "    display(Markdown(f'### {col} over Time'))\n",
    "    plt.figure(figsize=(16, 10))\n",
    "    plt.plot(df_25_EYE['Timestamp'], df_25_EYE[col])\n",
    "    plt.xlabel(\"Timestamp\") # Add x-axis label\n",
    "    plt.ylabel(col) # Add y-axis label\n",
    "    plt.show()"
   ]
  },
  {
   "cell_type": "markdown",
   "id": "9903dee1",
   "metadata": {
    "id": "0fb07abb"
   },
   "source": [
    "# Observations from Time Series Plots After Imputation\n",
    "\n",
    "The line plots generated after imputing the missing values with the mean show the temporal patterns of the features with the missing data handled. Key observations from these updated plots include:\n",
    "\n",
    "- The gaps or flat lines at -1, which were prominent in the plots for columns like gaze coordinates, pupil size, distance, and camera position, are now filled by lines at the mean value of the respective columns.\n",
    "- The plots for the validity columns remain the same as they were handled separately.\n",
    "- The `ET_TimeSignal` plot still shows a steady increasing trend, as expected."
   ]
  },
  {
   "cell_type": "code",
   "execution_count": null,
   "id": "3b1fa33e",
   "metadata": {
    "id": "c608fd95"
   },
   "outputs": [],
   "source": [
    "plt.figure(figsize=(16, 10))\n",
    "sns.heatmap(df_25_EYE.corr(numeric_only=True), cmap='YlGnBu', annot=True)\n",
    "plt.show()"
   ]
  },
  {
   "cell_type": "markdown",
   "id": "939a87d8",
   "metadata": {
    "id": "82405ba6"
   },
   "source": [
    "# Observations from Correlation Heatmap\n",
    "\n",
    "The correlation heatmap provides a visual representation of the pairwise correlations between the numeric columns in the dataset. Key observations from the heatmap include:\n",
    "\n",
    "- **High Positive Correlations:** We observe strong positive correlations (values close to 1) between:\n",
    "  - `ET_GazeLeftx` and `ET_GazeRightx`: This is expected as the gaze positions of both eyes should be highly correlated when fixating on a point.\n",
    "  - `ET_GazeLefty` and `ET_GazeRighty`: Similar to the x-coordinates, the y-coordinates of gaze should also be highly correlated.\n",
    "  - `ET_PupilLeft` and `ET_PupilRight`: Pupil sizes of both eyes tend to change together in response to light and cognitive load.\n",
    "  - `ET_DistanceLeft` and `ET_DistanceRight`: The distance from the eye tracker to each eye should be highly correlated.\n",
    "  - `ET_CameraLeftX` and `ET_CameraRightX`, `ET_CameraLeftY` and `ET_CameraRightY`: The camera positions for both eyes are also expected to be highly correlated.\n",
    "  - `UnixTime` and `ET_TimeSignal`: As previously noted, these two columns are almost perfectly linearly correlated, indicating redundancy.\n",
    "  - `ET_ValidityLeft` and `ET_PupilLeft_validity`: There is a positive correlation, suggesting that when the overall left eye data is invalid, the left pupil data is also likely to be invalid.\n",
    "  - `ET_ValidityRight` and `ET_PupilRight_validity`: Similar to the left eye, there is a positive correlation between the overall right eye validity and the right pupil validity.\n",
    "- **Other Correlations:** We can also observe other varying degrees of correlations between different features, which can provide insights into the relationships between gaze behavior, pupil size, distance, and camera position. For example, there might be correlations between gaze coordinates and camera positions, reflecting head movements.\n",
    "- **Low or Near-Zero Correlations:** Columns with low or near-zero correlations are relatively independent of each other.\n",
    "\n",
    "Understanding these correlations is important for feature selection and for building models, as highly correlated features might indicate multicollinearity, while correlations between features can reveal underlying patterns in the data."
   ]
  },
  {
   "cell_type": "markdown",
   "id": "e0636cd7",
   "metadata": {
    "id": "1c413c3b"
   },
   "source": [
    "# Analysis of ET_TimeSignal and Decision to Drop\n",
    "\n",
    "As observed in the time series plot and confirmed by the correlation heatmap, the `ET_TimeSignal` column exhibits a near-perfect linear relationship with both the `Timestamp` and `UnixTime` columns. This strong correlation (close to 1) suggests that `ET_TimeSignal` is essentially redundant and likely represents another form of time recording or a signal directly derived from the timestamp.\n",
    "\n",
    "Including highly correlated features like this in a dataset can lead to issues such as multicollinearity in some statistical models, which can make it difficult to interpret the individual impact of each feature. Since the `Timestamp` column already provides the necessary temporal information, retaining `ET_TimeSignal` does not appear to add significant value for further analysis or modeling in most cases.\n",
    "\n",
    "Therefore, based on its high correlation and lack of unique insight, we will proceed to drop the `ET_TimeSignal` column to simplify the dataset and potentially improve the performance and interpretability of future analyses."
   ]
  },
  {
   "cell_type": "code",
   "execution_count": null,
   "id": "87e6d120",
   "metadata": {
    "id": "7c96e349"
   },
   "outputs": [],
   "source": [
    "df_25_EYE.drop('ET_TimeSignal', axis=1, inplace=True)"
   ]
  },
  {
   "cell_type": "code",
   "execution_count": null,
   "id": "d5730c4b",
   "metadata": {
    "id": "5845a61d"
   },
   "outputs": [],
   "source": [
    "plt.figure(figsize=(16, 10))\n",
    "sns.pairplot(df_25_EYE)\n",
    "plt.show()"
   ]
  },
  {
   "cell_type": "markdown",
   "id": "7dcc42fd",
   "metadata": {
    "id": "sMcHS8LIOGeT"
   },
   "source": [
    "# **26_EYE**"
   ]
  },
  {
   "cell_type": "code",
   "execution_count": null,
   "id": "ca87ef87",
   "metadata": {
    "id": "L2tJooyROWnM"
   },
   "outputs": [],
   "source": []
  },
  {
   "cell_type": "code",
   "execution_count": null,
   "id": "41152a1f",
   "metadata": {
    "id": "6c647c4f"
   },
   "outputs": [],
   "source": [
    "df_26_EYE = pd.read_csv('data/STData/26/26_EYE.csv')"
   ]
  },
  {
   "cell_type": "code",
   "execution_count": null,
   "id": "0322c167",
   "metadata": {
    "id": "c229bba7"
   },
   "outputs": [],
   "source": [
    "df_26_EYE.head()"
   ]
  },
  {
   "cell_type": "code",
   "execution_count": null,
   "id": "18a15a78",
   "metadata": {
    "id": "0ec8e716"
   },
   "outputs": [],
   "source": [
    "df_26_EYE.shape"
   ]
  },
  {
   "cell_type": "code",
   "execution_count": null,
   "id": "4f3bb957",
   "metadata": {
    "id": "43ba37eb"
   },
   "outputs": [],
   "source": [
    "df_26_EYE.columns"
   ]
  },
  {
   "cell_type": "code",
   "execution_count": null,
   "id": "940e0c4c",
   "metadata": {
    "id": "19f68fb4"
   },
   "outputs": [],
   "source": [
    "df_26_EYE.info()"
   ]
  },
  {
   "cell_type": "code",
   "execution_count": null,
   "id": "b04ef104",
   "metadata": {
    "id": "603369d7"
   },
   "outputs": [],
   "source": [
    "df_26_EYE.isnull().sum()"
   ]
  },
  {
   "cell_type": "code",
   "execution_count": null,
   "id": "7aa45792",
   "metadata": {
    "id": "874353e3"
   },
   "outputs": [],
   "source": [
    "plt.figure(figsize=(12,8))\n",
    "sns.heatmap(df_26_EYE.isnull(), cmap='viridis')\n",
    "plt.show()"
   ]
  },
  {
   "cell_type": "markdown",
   "id": "1cc0e088",
   "metadata": {
    "id": "b17906e7"
   },
   "source": [
    "# Notes & Observations\n",
    "\n",
    "- We observe many **null** (or missing) values in the `QuestionKey` columns.\n",
    "- The nulls in the `QuestionKey` column may not represent “true” nulls. Rather, they follow interval patterns, suggesting that during those periods no question was displayed.\n",
    "- These missing values in `QuestionKey` require additional investigation and context-aware handling."
   ]
  },
  {
   "cell_type": "code",
   "execution_count": null,
   "id": "95e1ddb6",
   "metadata": {
    "id": "1113779e"
   },
   "outputs": [],
   "source": [
    "df_26_EYE['QuestionKey'].unique()"
   ]
  },
  {
   "cell_type": "code",
   "execution_count": null,
   "id": "46abd59a",
   "metadata": {
    "id": "db0a93a2"
   },
   "outputs": [],
   "source": [
    "df_26_EYE['Timestamp'] = pd.to_datetime(df_26_EYE['Timestamp'])"
   ]
  },
  {
   "cell_type": "code",
   "execution_count": null,
   "id": "e2e82a79",
   "metadata": {
    "id": "03d57b0a"
   },
   "outputs": [],
   "source": [
    "df_26_EYE.head(3)"
   ]
  },
  {
   "cell_type": "code",
   "execution_count": null,
   "id": "feb12cec",
   "metadata": {
    "id": "c0004029"
   },
   "outputs": [],
   "source": [
    "df_26_EYE['QuestionKey'] = df_26_EYE['QuestionKey'].fillna('None')"
   ]
  },
  {
   "cell_type": "code",
   "execution_count": null,
   "id": "625f375a",
   "metadata": {
    "id": "dfb4729e"
   },
   "outputs": [],
   "source": [
    "df_26_EYE['QuestionKey'].value_counts()"
   ]
  },
  {
   "cell_type": "code",
   "execution_count": null,
   "id": "bef2a861",
   "metadata": {
    "id": "9353c9d8"
   },
   "outputs": [],
   "source": [
    "plt.figure(figsize=(12,8))\n",
    "sns.heatmap(df_26_EYE.isnull(), cmap='viridis')\n",
    "plt.show()"
   ]
  },
  {
   "cell_type": "code",
   "execution_count": null,
   "id": "ab51ccfd",
   "metadata": {
    "id": "5c73d150"
   },
   "outputs": [],
   "source": [
    "df_26_EYE.isnull().sum()"
   ]
  },
  {
   "cell_type": "code",
   "execution_count": null,
   "id": "55add707",
   "metadata": {
    "id": "6c700142"
   },
   "outputs": [],
   "source": [
    "df_26_EYE.dropna(inplace=True)"
   ]
  },
  {
   "cell_type": "code",
   "execution_count": null,
   "id": "f9582634",
   "metadata": {
    "id": "90a604ce"
   },
   "outputs": [],
   "source": [
    "df_26_EYE.head()"
   ]
  },
  {
   "cell_type": "code",
   "execution_count": null,
   "id": "b281c5ae",
   "metadata": {
    "id": "a43a4283"
   },
   "outputs": [],
   "source": [
    "df_26_EYE['Row'].unique()"
   ]
  },
  {
   "cell_type": "code",
   "execution_count": null,
   "id": "569fb91d",
   "metadata": {
    "id": "f66566f9"
   },
   "outputs": [],
   "source": [
    "plt.figure(figsize=(8,6))\n",
    "sns.histplot(df_26_EYE['Row'])\n",
    "plt.show()"
   ]
  },
  {
   "cell_type": "markdown",
   "id": "7fae6e2a",
   "metadata": {
    "id": "5ddf40fd"
   },
   "source": [
    "# Notes & Observations\n",
    "\n",
    "- The `Row` column appears to be a simple row index and does not provide meaningful information relevant to the eye-tracking data itself. Therefore, it can be dropped."
   ]
  },
  {
   "cell_type": "code",
   "execution_count": null,
   "id": "5376c44b",
   "metadata": {
    "id": "5aee4404"
   },
   "outputs": [],
   "source": [
    "df_26_EYE.drop('Row', axis=1, inplace=True)"
   ]
  },
  {
   "cell_type": "code",
   "execution_count": null,
   "id": "b6fd564b",
   "metadata": {
    "id": "827f3274"
   },
   "outputs": [],
   "source": [
    "df_26_EYE['ET_ValidityLeft'].unique()"
   ]
  },
  {
   "cell_type": "code",
   "execution_count": null,
   "id": "32de2922",
   "metadata": {
    "id": "1437751a"
   },
   "outputs": [],
   "source": [
    "df_26_EYE['ET_ValidityLeft'].value_counts()"
   ]
  },
  {
   "cell_type": "code",
   "execution_count": null,
   "id": "7357949d",
   "metadata": {
    "id": "d0a9ee4a"
   },
   "outputs": [],
   "source": [
    "df_26_EYE['ET_ValidityRight'].unique()"
   ]
  },
  {
   "cell_type": "code",
   "execution_count": null,
   "id": "70367d58",
   "metadata": {
    "id": "55ddcc2b"
   },
   "outputs": [],
   "source": [
    "df_26_EYE['ET_ValidityRight'].value_counts()"
   ]
  },
  {
   "cell_type": "code",
   "execution_count": null,
   "id": "3280e4f6",
   "metadata": {
    "id": "faef00be"
   },
   "outputs": [],
   "source": [
    "plt.figure(figsize=(12, 6))\n",
    "\n",
    "plt.subplot(1, 2, 1)\n",
    "sns.barplot(x=df_26_EYE['ET_ValidityLeft'].value_counts().index, y=df_26_EYE['ET_ValidityLeft'].value_counts().values)\n",
    "plt.title('Count of ET_ValidityLeft')\n",
    "plt.xlabel('Validity')\n",
    "plt.ylabel('Count')\n",
    "\n",
    "\n",
    "plt.subplot(1, 2, 2)\n",
    "sns.barplot(x=df_26_EYE['ET_ValidityRight'].value_counts().index, y=df_26_EYE['ET_ValidityRight'].value_counts().values)\n",
    "plt.title('Count of ET_ValidityRight')\n",
    "plt.xlabel('Validity')\n",
    "plt.ylabel('Count')\n",
    "\n",
    "plt.tight_layout()\n",
    "plt.show()"
   ]
  },
  {
   "cell_type": "markdown",
   "id": "35134594",
   "metadata": {
    "id": "b43706ea"
   },
   "source": [
    "# Notes & Observations\n",
    "\n",
    "- The `ET_ValidityLeft` and `ET_ValidityRight` columns indicate the validity of the eye-tracking data for the left and right eye, respectively.\n",
    "- Based on the value counts and the bar plots, it appears that a value of `0.0` represents valid eye-tracking data, while a value of `4.0` represents invalid data.\n",
    "- Although the amount of invalid data is relatively small, removing these rows could introduce unwanted patterns or gaps in the time series data.\n",
    "- Therefore, we will keep the data and replace the value `4.0` with `1.0` in both `ET_ValidityLeft` and `ET_ValidityRight` columns. This will indicate to a machine learning model that the eye tracker had invalid data at those specific points in time while maintaining the integrity of the time series."
   ]
  },
  {
   "cell_type": "markdown",
   "id": "8bee6a91",
   "metadata": {
    "id": "e9e671b2"
   },
   "source": [
    "Define a mapping to convert validity values from `0.0` and `4.0` to `0` and `1`."
   ]
  },
  {
   "cell_type": "code",
   "execution_count": null,
   "id": "07881684",
   "metadata": {
    "id": "08e7ed71"
   },
   "outputs": [],
   "source": [
    "validity_map = {4.0: 1.0, 0.0: 0.0}"
   ]
  },
  {
   "cell_type": "code",
   "execution_count": null,
   "id": "c24b879a",
   "metadata": {
    "id": "0bba3ac0"
   },
   "outputs": [],
   "source": [
    "df_26_EYE['ET_ValidityLeft'] = df_26_EYE['ET_ValidityLeft'].map(validity_map).astype(np.int8)\n",
    "df_26_EYE['ET_ValidityRight'] = df_26_EYE['ET_ValidityRight'].map(validity_map).astype(np.int8)"
   ]
  },
  {
   "cell_type": "code",
   "execution_count": null,
   "id": "a167a4ae",
   "metadata": {
    "id": "0ff3f16c"
   },
   "outputs": [],
   "source": [
    "df_26_EYE.head(3)"
   ]
  },
  {
   "cell_type": "code",
   "execution_count": null,
   "id": "6f2ceb77",
   "metadata": {
    "id": "32eb3225"
   },
   "outputs": [],
   "source": [
    "df_26_EYE.describe()"
   ]
  },
  {
   "cell_type": "code",
   "execution_count": null,
   "id": "d1f63d27",
   "metadata": {
    "id": "c1e092e1"
   },
   "outputs": [],
   "source": [
    "df_26_EYE[df_26_EYE['ET_ValidityLeft'] == 1].shape"
   ]
  },
  {
   "cell_type": "code",
   "execution_count": null,
   "id": "eafb4e20",
   "metadata": {
    "id": "8ebfb0cc"
   },
   "outputs": [],
   "source": [
    "df_26_EYE[df_26_EYE['ET_ValidityRight'] == 1].shape"
   ]
  },
  {
   "cell_type": "code",
   "execution_count": null,
   "id": "3d7450f0",
   "metadata": {
    "id": "0d175df2"
   },
   "outputs": [],
   "source": [
    "df_26_EYE[df_26_EYE['ET_ValidityLeft'] == 1].shape[0] / df_26_EYE.shape[0]"
   ]
  },
  {
   "cell_type": "code",
   "execution_count": null,
   "id": "c4e07dd1",
   "metadata": {
    "id": "54cc0f9e"
   },
   "outputs": [],
   "source": [
    "df_26_EYE[df_26_EYE['ET_ValidityRight'] == 1].shape[0] / df_26_EYE.shape[0]"
   ]
  },
  {
   "cell_type": "code",
   "execution_count": null,
   "id": "3d4bbbda",
   "metadata": {
    "id": "45c977c1"
   },
   "outputs": [],
   "source": [
    "plt.figure(figsize=(18, 8))\n",
    "\n",
    "plt.subplot(1, 2, 1)\n",
    "sns.heatmap(df_26_EYE == -1, cmap='viridis')\n",
    "plt.title('Heatmap of -1 Values')\n",
    "\n",
    "plt.subplot(1, 2, 2)\n",
    "sns.heatmap(df_26_EYE == 1, cmap='viridis')\n",
    "plt.title('Heatmap of 1 Values')\n",
    "\n",
    "plt.tight_layout()\n",
    "plt.show()"
   ]
  },
  {
   "cell_type": "code",
   "execution_count": null,
   "id": "105efade",
   "metadata": {
    "id": "3b98a13b"
   },
   "outputs": [],
   "source": [
    "df_26_EYE[df_26_EYE['ET_PupilLeft'] == -1].shape"
   ]
  },
  {
   "cell_type": "code",
   "execution_count": null,
   "id": "a642cb9c",
   "metadata": {
    "id": "a2f296f6"
   },
   "outputs": [],
   "source": [
    "df_26_EYE[df_26_EYE['ET_PupilRight'] == -1].shape"
   ]
  },
  {
   "cell_type": "code",
   "execution_count": null,
   "id": "51916fd9",
   "metadata": {
    "id": "42cff7eb"
   },
   "outputs": [],
   "source": [
    "df_26_EYE[df_26_EYE['ET_PupilLeft'] == -1].shape[0] / df_26_EYE.shape[0]"
   ]
  },
  {
   "cell_type": "code",
   "execution_count": null,
   "id": "98784ff5",
   "metadata": {
    "id": "83c97903"
   },
   "outputs": [],
   "source": [
    "df_26_EYE[df_26_EYE['ET_PupilRight'] == -1].shape[0] / df_26_EYE.shape[0]"
   ]
  },
  {
   "cell_type": "code",
   "execution_count": null,
   "id": "22ec9e93",
   "metadata": {
    "id": "6e176d63"
   },
   "outputs": [],
   "source": [
    "plt.figure(figsize=(18, 8))\n",
    "\n",
    "plt.subplot(1, 2, 1)\n",
    "sns.heatmap(df_26_EYE[df_26_EYE['ET_ValidityLeft'] == 1] == -1, cmap='viridis')\n",
    "plt.title('Heatmap of -1 Values')\n",
    "\n",
    "plt.subplot(1, 2, 2)\n",
    "sns.heatmap(df_26_EYE[df_26_EYE['ET_ValidityRight'] == 1] == -1, cmap='viridis')\n",
    "plt.title('Heatmap of -1 Values')\n",
    "\n",
    "plt.tight_layout()\n",
    "plt.show()"
   ]
  },
  {
   "cell_type": "markdown",
   "id": "0dd4ccd1",
   "metadata": {
    "id": "fff8db39"
   },
   "source": [
    "# Notes & Observations\n",
    "\n",
    "- The heatmaps reveal the distribution of -1 values across different columns.\n",
    "- It is evident that the `-1` values are not randomly scattered but appear in specific columns, notably `ET_GazeLeftx`, `ET_GazeLefty`, `ET_GazeRightx`, `ET_GazeRighty`, `ET_PupilLeft`, `ET_PupilRight`, `ET_DistanceLeft`, `ET_DistanceRight`, `ET_CameraLeftX`, `ET_CameraLeftY`, `ET_CameraRightX`, and `ET_CameraRightY`.\n",
    "- These `-1` values often coincide with instances where `ET_ValidityLeft` or `ET_ValidityRight` is 1, indicating invalid eye-tracking data. This suggests that `-1` is used as a placeholder for missing or invalid measurements in these columns when the eye tracker is not providing valid data for a particular eye.\n",
    "- Given that over 70% of the data in the `ET_PupilLeft` and `ET_PupilRight` columns is marked as invalid (-1), so instead of dropping them we can create new feature for both the `ET_PupilLeft` and `ET_PupilRight` to represent which row consist invalid `ET_PupilLeft` and `ET_PupilRight` data"
   ]
  },
  {
   "cell_type": "code",
   "execution_count": null,
   "id": "bee2990a",
   "metadata": {
    "id": "cf7437aa"
   },
   "outputs": [],
   "source": [
    "pupil_validity = {-1: 1 }"
   ]
  },
  {
   "cell_type": "code",
   "execution_count": null,
   "id": "a67f2e28",
   "metadata": {
    "id": "989b113d"
   },
   "outputs": [],
   "source": [
    "df_26_EYE['ET_PupilLeft_validity'] = df_26_EYE['ET_PupilLeft'].map(pupil_validity)"
   ]
  },
  {
   "cell_type": "code",
   "execution_count": null,
   "id": "ffc2f110",
   "metadata": {
    "id": "9ecdfbc0"
   },
   "outputs": [],
   "source": [
    "df_26_EYE['ET_PupilRight_validity'] = df_26_EYE['ET_PupilRight'].map(pupil_validity)"
   ]
  },
  {
   "cell_type": "code",
   "execution_count": null,
   "id": "5de55d46",
   "metadata": {
    "id": "7f5d2b28"
   },
   "outputs": [],
   "source": [
    "df_26_EYE[['ET_PupilLeft_validity', 'ET_PupilRight_validity']].head()"
   ]
  },
  {
   "cell_type": "code",
   "execution_count": null,
   "id": "9adf569c",
   "metadata": {
    "id": "6a86c472"
   },
   "outputs": [],
   "source": [
    "df_26_EYE[['ET_PupilLeft_validity', 'ET_PupilRight_validity']].isnull().sum()"
   ]
  },
  {
   "cell_type": "code",
   "execution_count": null,
   "id": "048b9cc9",
   "metadata": {
    "id": "9121e4a8"
   },
   "outputs": [],
   "source": [
    "plt.figure(figsize=(18, 8))\n",
    "sns.heatmap(df_26_EYE[['ET_PupilLeft_validity', 'ET_PupilRight_validity']].isnull(), cmap='viridis')\n",
    "plt.show()"
   ]
  },
  {
   "cell_type": "code",
   "execution_count": null,
   "id": "624b4b35",
   "metadata": {
    "id": "613a230a"
   },
   "outputs": [],
   "source": [
    "df_26_EYE['ET_PupilLeft_validity'] = df_26_EYE['ET_PupilLeft_validity'].fillna(0)"
   ]
  },
  {
   "cell_type": "code",
   "execution_count": null,
   "id": "51cc5a33",
   "metadata": {
    "id": "89ae7d3f"
   },
   "outputs": [],
   "source": [
    "df_26_EYE['ET_PupilRight_validity'] = df_26_EYE['ET_PupilRight_validity'].fillna(0)"
   ]
  },
  {
   "cell_type": "code",
   "execution_count": null,
   "id": "16bb342e",
   "metadata": {
    "id": "a2c39f03"
   },
   "outputs": [],
   "source": [
    "df_26_EYE[['ET_PupilLeft_validity', 'ET_PupilRight_validity']].head()"
   ]
  },
  {
   "cell_type": "code",
   "execution_count": null,
   "id": "a05e5957",
   "metadata": {
    "id": "6e9c2645"
   },
   "outputs": [],
   "source": [
    "plt.figure(figsize=(18, 8))\n",
    "sns.heatmap(df_26_EYE[['ET_PupilLeft_validity', 'ET_PupilRight_validity']].isnull(), cmap='viridis')\n",
    "plt.show()"
   ]
  },
  {
   "cell_type": "code",
   "execution_count": null,
   "id": "34405005",
   "metadata": {
    "id": "7e52da92"
   },
   "outputs": [],
   "source": [
    "df_26_EYE.head()"
   ]
  },
  {
   "cell_type": "code",
   "execution_count": null,
   "id": "48a5b247",
   "metadata": {
    "id": "1cefd42d"
   },
   "outputs": [],
   "source": [
    "plt.figure(figsize=(18, 8))\n",
    "\n",
    "plt.subplot(1, 2, 1)\n",
    "sns.heatmap(df_26_EYE == -1, cmap='viridis')\n",
    "plt.title('Heatmap of -1 Values')\n",
    "\n",
    "plt.subplot(1, 2, 2)\n",
    "sns.heatmap(df_26_EYE == 1, cmap='viridis')\n",
    "plt.title('Heatmap of -1 Values')\n",
    "\n",
    "plt.tight_layout()\n",
    "plt.show()"
   ]
  },
  {
   "cell_type": "code",
   "execution_count": null,
   "id": "63fb02dc",
   "metadata": {
    "id": "dcf38f27"
   },
   "outputs": [],
   "source": [
    "valid_left_ratio  = 1 - df_26_EYE['ET_ValidityLeft'].mean()"
   ]
  },
  {
   "cell_type": "code",
   "execution_count": null,
   "id": "71944e78",
   "metadata": {
    "id": "2aea00ec"
   },
   "outputs": [],
   "source": [
    "valid_left_ratio"
   ]
  },
  {
   "cell_type": "code",
   "execution_count": null,
   "id": "01b09b4c",
   "metadata": {
    "id": "19ac306c"
   },
   "outputs": [],
   "source": [
    "valid_right_ratio = 1 - df_26_EYE['ET_ValidityRight'].mean()"
   ]
  },
  {
   "cell_type": "code",
   "execution_count": null,
   "id": "46476df8",
   "metadata": {
    "id": "4f0aa48e"
   },
   "outputs": [],
   "source": [
    "valid_right_ratio"
   ]
  },
  {
   "cell_type": "code",
   "execution_count": null,
   "id": "d6acedd4",
   "metadata": {
    "id": "a000b670"
   },
   "outputs": [],
   "source": [
    "df_26_EYE['ET_PupilLeft_validity'] = df_26_EYE['ET_PupilLeft_validity'].astype(np.int8)\n",
    "df_26_EYE['ET_PupilRight_validity'] = df_26_EYE['ET_PupilRight_validity'].astype(np.int8)"
   ]
  },
  {
   "cell_type": "markdown",
   "id": "6aa28818",
   "metadata": {
    "id": "6acf6847"
   },
   "source": [
    "# Feature Engineering and Observations\n",
    "\n",
    "Based on the analysis of the data, we've created two new features, `ET_PupilLeft_validity` and `ET_PupilRight_validity`. These features indicate the validity of the pupil data for the left and right eyes, respectively, with a value of 1 representing invalid data (originally -1) and 0 representing valid data.\n",
    "\n",
    "The heatmaps above visually demonstrate the distribution of -1 and 1 values across the dataset. We observed that:\n",
    "- The `-1` values are concentrated in specific columns related to gaze, pupil size, distance, and camera position, suggesting they represent missing or invalid sensor readings.\n",
    "- The `1` values, after mapping from `4.0` in the original validity columns, indicate instances of invalid eye-tracking data.\n",
    "- The heatmaps also show a strong correlation between the `-1` values in the pupil columns and a validity of 1 in the newly created pupil validity features, confirming that -1 was used to mark invalid pupil data."
   ]
  },
  {
   "cell_type": "code",
   "execution_count": null,
   "id": "c3dfdcbe",
   "metadata": {
    "id": "de9f2594"
   },
   "outputs": [],
   "source": [
    "df_26_EYE.head()"
   ]
  },
  {
   "cell_type": "code",
   "execution_count": null,
   "id": "73c952ef",
   "metadata": {
    "id": "bfa2e174"
   },
   "outputs": [],
   "source": [
    "# Select only the numeric columns for plotting histograms, excluding time-related columns\n",
    "numeric_cols = df_26_EYE.select_dtypes(include=np.number).columns\n",
    "cols_to_plot = [col for col in numeric_cols if col not in ['UnixTime']]\n",
    "\n",
    "# Calculate the number of rows and columns for the grid\n",
    "n_cols = 4  # You can adjust the number of columns as needed\n",
    "n_rows = (len(cols_to_plot) + n_cols - 1) // n_cols\n",
    "\n",
    "plt.figure(figsize=(n_cols * 5, n_rows * 4)) # Adjust figure size as needed\n",
    "\n",
    "for i, col in enumerate(cols_to_plot):\n",
    "    plt.subplot(n_rows, n_cols, i + 1)\n",
    "    sns.histplot(df_26_EYE[col], kde=True)\n",
    "    plt.title(f'Distribution of {col}')\n",
    "    plt.xlabel(col)\n",
    "    plt.ylabel('Frequency')\n",
    "\n",
    "plt.tight_layout()\n",
    "plt.show()"
   ]
  },
  {
   "cell_type": "markdown",
   "id": "4ef82b5f",
   "metadata": {
    "id": "8059766d"
   },
   "source": [
    "# Observations from Histograms\n",
    "\n",
    "The grid of histograms provides insights into the distribution of values for each numeric column in the dataset (excluding 'UnixTime'). Key observations include:\n",
    "\n",
    "- Several columns, such as `ET_GazeLeftx`, `ET_GazeLefty`, `ET_GazeRightx`, and `ET_GazeRighty`, show distributions that appear somewhat multimodal or skewed, suggesting variations in gaze patterns.\n",
    "- The `ET_PupilLeft` and `ET_PupilRight` histograms clearly show a peak at -1, confirming the presence of a significant number of invalid pupil readings.\n",
    "- `ET_TimeSignal` shows a relatively uniform distribution, as expected for a time-based signal.\n",
    "- `ET_DistanceLeft` and `ET_DistanceRight` appear to have distributions centered around certain values, with some outliers or variations.\n",
    "- The camera position columns (`ET_CameraLeftX`, `ET_CameraLeftY`, `ET_CameraRightX`, `ET_CameraRightY`) seem to have distributions concentrated within specific ranges, reflecting the camera's field of view.\n",
    "- The validity columns (`ET_ValidityLeft`, `ET_ValidityRight`, `ET_PupilLeft_validity`, `ET_PupilRight_validity`) show distributions dominated by 0, indicating that most of the data is considered valid after the mapping. The smaller peaks at 1 represent the instances of invalid data.\n",
    "\n",
    "These distributions highlight the need for appropriate handling of the -1 values and potential outliers in subsequent analysis or modeling steps."
   ]
  },
  {
   "cell_type": "code",
   "execution_count": null,
   "id": "9ecec56d",
   "metadata": {
    "id": "cb65ae1e"
   },
   "outputs": [],
   "source": [
    "df_26_EYE.columns"
   ]
  },
  {
   "cell_type": "code",
   "execution_count": null,
   "id": "ee602990",
   "metadata": {
    "id": "8cf2280c"
   },
   "outputs": [],
   "source": [
    "cols = ['ET_GazeLeftx', 'ET_GazeLefty',\n",
    "       'ET_GazeRightx', 'ET_GazeRighty', 'ET_PupilLeft', 'ET_PupilRight',\n",
    "       'ET_TimeSignal', 'ET_DistanceLeft', 'ET_DistanceRight',\n",
    "       'ET_CameraLeftX', 'ET_CameraLeftY', 'ET_CameraRightX',\n",
    "       'ET_CameraRightY', 'ET_ValidityLeft', 'ET_ValidityRight',\n",
    "       'ET_PupilLeft_validity', 'ET_PupilRight_validity']"
   ]
  },
  {
   "cell_type": "code",
   "execution_count": null,
   "id": "81003ad4",
   "metadata": {
    "id": "85e45ea9"
   },
   "outputs": [],
   "source": [
    "from IPython.display import display, Markdown\n",
    "\n",
    "for col in cols:\n",
    "    # Add a markdown cell before each plot for better separation and labeling\n",
    "    display(Markdown(f'### {col} over Time'))\n",
    "    plt.figure(figsize=(16, 10))\n",
    "    plt.plot(df_26_EYE['Timestamp'], df_26_EYE[col])\n",
    "    plt.xlabel(\"Timestamp\") # Add x-axis label\n",
    "    plt.ylabel(col) # Add y-axis label\n",
    "    plt.show()"
   ]
  },
  {
   "cell_type": "markdown",
   "id": "850f3ac0",
   "metadata": {
    "id": "f7ffd08f"
   },
   "source": [
    "# Observations from Time Series Plots\n",
    "\n",
    "The line plots showing various features against the `Timestamp` reveal the temporal patterns and fluctuations in the eye-tracking data. Key observations include:\n",
    "\n",
    "- **Gaze Coordinates (`ET_GazeLeftx`, `ET_GazeLefty`, `ET_GazeRightx`, `ET_GazeRighty`):** These plots show the changes in gaze position over time. We can observe periods of relatively stable gaze interspersed with rapid movements (saccades) and blinks or other events where the gaze data might be invalid (-1 values appear as gaps or spikes if not handled).\n",
    "- **Pupil Size (`ET_PupilLeft`, `ET_PupilRight`):** The pupil size plots show variations over time. The presence of many -1 values is evident as flat lines at the bottom of the plot, indicating periods where pupil data was not recorded or was invalid.\n",
    "- **Time Signal (`ET_TimeSignal`):** This plot shows a steady, increasing trend, as expected for a time-based signal.\n",
    "- **Distance and Camera Position (`ET_DistanceLeft`, `ET_DistanceRight`, `ET_CameraLeftX`, `ET_CameraLeftY`, `ET_CameraRightX`, `ET_CameraRightY`):** These plots show how the distance from the eye tracker and the camera positions change over time. Variations in these features can be related to head movements or changes in the user's position relative to the eye tracker.\n",
    "- **Validity (`ET_ValidityLeft`, `ET_ValidityRight`, `ET_PupilLeft_validity`, `ET_PupilRight_validity`):** These plots clearly show periods of invalid data (represented by 1) as spikes or plateaus, corresponding to instances where the eye tracker lost track of the eyes or the pupil data was marked as invalid.\n",
    "\n",
    "Analyzing these time series plots is crucial for understanding the dynamics of the eye-tracking data and identifying patterns or anomalies that may require further investigation or specific handling during subsequent analysis."
   ]
  },
  {
   "cell_type": "code",
   "execution_count": null,
   "id": "a5538b4d",
   "metadata": {
    "id": "cdd85f8c"
   },
   "outputs": [],
   "source": [
    "# Select only the numeric columns for plotting histograms, excluding time-related columns\n",
    "numeric_cols = df_26_EYE.select_dtypes(include=np.number).columns\n",
    "\n",
    "# Calculate the number of rows and columns for the grid\n",
    "n_cols = 4  # You can adjust the number of columns as needed\n",
    "n_rows = (len(numeric_cols) + n_cols - 1) // n_cols\n",
    "\n",
    "plt.figure(figsize=(n_cols * 5, n_rows * 4)) # Adjust figure size as needed\n",
    "\n",
    "for i, col in enumerate(numeric_cols):\n",
    "    plt.subplot(n_rows, n_cols, i + 1)\n",
    "    sns.boxplot(df_26_EYE[col])\n",
    "    plt.title(f'Boxplot of {col}')\n",
    "    plt.xlabel(col)\n",
    "\n",
    "plt.tight_layout()\n",
    "plt.show()"
   ]
  },
  {
   "cell_type": "markdown",
   "id": "d0cc4f9c",
   "metadata": {
    "id": "2cca19c5"
   },
   "source": [
    "# Observations from Boxplots and Handling -1 Values\n",
    "\n",
    "The boxplots provide a visual summary of the distribution and potential outliers for each numeric column. Key observations from the boxplots include:\n",
    "\n",
    "- The boxplots for columns like `ET_GazeLeftx`, `ET_GazeLefty`, `ET_GazeRightx`, `ET_GazeRighty`, `ET_PupilLeft`, `ET_PupilRight`, `ET_DistanceLeft`, `ET_DistanceRight`, `ET_CameraLeftX`, `ET_CameraLeftY`, `ET_CameraRightX`, and `ET_CameraRightY` clearly show the presence of -1 values as significant outliers, confirming our earlier observations from the heatmaps and histograms.\n",
    "- The boxplots for the validity columns (`ET_ValidityLeft`, `ET_ValidityRight`, `ET_PupilLeft_validity`, `ET_PupilRight_validity`) show the discrete nature of these features, with the majority of data points at 0 (valid) and a smaller number at 1 (invalid).\n",
    "\n",
    "Given the significant presence of -1 values, which represent invalid or missing data, especially in the pupil-related columns, we have decided to replace these -1 values with NaN to properly represent them as missing data. Subsequently, we will impute these missing values using the mean of each respective column. This approach helps to retain the data structure and allows for further analysis or modeling without the distortion caused by the -1 placeholders."
   ]
  },
  {
   "cell_type": "code",
   "execution_count": null,
   "id": "f72a8765",
   "metadata": {
    "id": "9217371b"
   },
   "outputs": [],
   "source": [
    "df_26_EYE.replace({-1: np.nan}, inplace=True)"
   ]
  },
  {
   "cell_type": "code",
   "execution_count": null,
   "id": "8cc5b6d4",
   "metadata": {
    "id": "8108fa01"
   },
   "outputs": [],
   "source": [
    "df_26_EYE[['ET_GazeLeftx', 'ET_GazeLefty',\n",
    "       'ET_GazeRightx', 'ET_GazeRighty', 'ET_PupilLeft', 'ET_PupilRight',\n",
    "       'ET_TimeSignal', 'ET_DistanceLeft', 'ET_DistanceRight',\n",
    "       'ET_CameraLeftX', 'ET_CameraLeftY', 'ET_CameraRightX',\n",
    "       'ET_CameraRightY', 'ET_ValidityLeft', 'ET_ValidityRight',\n",
    "       'ET_PupilLeft_validity', 'ET_PupilRight_validity']].mean()"
   ]
  },
  {
   "cell_type": "code",
   "execution_count": null,
   "id": "51ee48e6",
   "metadata": {
    "id": "9b94fbce"
   },
   "outputs": [],
   "source": [
    "df_26_EYE[['ET_GazeLeftx', 'ET_GazeLefty',\n",
    "       'ET_GazeRightx', 'ET_GazeRighty', 'ET_PupilLeft', 'ET_PupilRight',\n",
    "       'ET_TimeSignal', 'ET_DistanceLeft', 'ET_DistanceRight',\n",
    "       'ET_CameraLeftX', 'ET_CameraLeftY', 'ET_CameraRightX',\n",
    "       'ET_CameraRightY', 'ET_ValidityLeft', 'ET_ValidityRight',\n",
    "       'ET_PupilLeft_validity', 'ET_PupilRight_validity']].median()"
   ]
  },
  {
   "cell_type": "code",
   "execution_count": null,
   "id": "e5484a81",
   "metadata": {
    "id": "ee1238c8"
   },
   "outputs": [],
   "source": [
    "numeric_cols = df_26_EYE.select_dtypes(include=np.number).columns\n",
    "\n",
    "for col in numeric_cols:\n",
    "    df_26_EYE[col] = df_26_EYE[col].fillna(df_26_EYE[col].mean())"
   ]
  },
  {
   "cell_type": "code",
   "execution_count": null,
   "id": "345f7e17",
   "metadata": {
    "id": "b0bc522d"
   },
   "outputs": [],
   "source": [
    "plt.figure(figsize=(18, 8))\n",
    "\n",
    "plt.subplot(1, 2, 1)\n",
    "sns.heatmap(df_26_EYE.isnull(), cmap='viridis')\n",
    "plt.title('Heatmap of Missing Values After Imputation')\n",
    "\n",
    "plt.subplot(1, 2, 2)\n",
    "sns.heatmap(df_26_EYE == 1, cmap='viridis')\n",
    "plt.title('Heatmap of 1 Values')\n",
    "\n",
    "plt.tight_layout()\n",
    "plt.show()"
   ]
  },
  {
   "cell_type": "markdown",
   "id": "2cf44aa2",
   "metadata": {
    "id": "c0f1e10d"
   },
   "source": [
    "# Handling Missing Values (Imputation)\n",
    "\n",
    "As decided, we have replaced all the `-1` values with `NaN` to treat them as missing data. Subsequently, we have imputed these `NaN` values with the mean of their respective columns. The heatmap above, which was generated after the imputation, now shows no visible signs of `NaN` values, indicating that the imputation was successful."
   ]
  },
  {
   "cell_type": "code",
   "execution_count": null,
   "id": "26bb0b2b",
   "metadata": {
    "id": "2491c1da"
   },
   "outputs": [],
   "source": [
    "df_26_EYE.head()"
   ]
  },
  {
   "cell_type": "code",
   "execution_count": null,
   "id": "5bcf71cc",
   "metadata": {
    "id": "64f04350"
   },
   "outputs": [],
   "source": [
    "# Select only the numeric columns for plotting histograms, excluding time-related columns\n",
    "numeric_cols = df_26_EYE.select_dtypes(include=np.number).columns\n",
    "cols_to_plot = [col for col in numeric_cols if col not in ['UnixTime']]\n",
    "\n",
    "# Calculate the number of rows and columns for the grid\n",
    "n_cols = 4  # You can adjust the number of columns as needed\n",
    "n_rows = (len(cols_to_plot) + n_cols - 1) // n_cols\n",
    "\n",
    "plt.figure(figsize=(n_cols * 5, n_rows * 4)) # Adjust figure size as needed\n",
    "\n",
    "for i, col in enumerate(cols_to_plot):\n",
    "    plt.subplot(n_rows, n_cols, i + 1)\n",
    "    sns.histplot(df_26_EYE[col], kde=True)\n",
    "    plt.title(f'Distribution of {col}')\n",
    "    plt.xlabel(col)\n",
    "    plt.ylabel('Frequency')\n",
    "\n",
    "plt.tight_layout()\n",
    "plt.show()"
   ]
  },
  {
   "cell_type": "markdown",
   "id": "4f25616a",
   "metadata": {
    "id": "e0c83f1c"
   },
   "source": [
    "# Observations from Histograms After Imputation\n",
    "\n",
    "The histograms generated after replacing the -1 values with the mean of each column show the distributions of the numeric features with the missing data handled. Key observations from these updated histograms include:\n",
    "\n",
    "- The distinct peaks at -1, which were prominent in the histograms for several columns (e.g., pupil size, gaze coordinates, distance, and camera position) before imputation, are now replaced by a peak at the mean of each respective column.\n",
    "- The distributions in many columns now appear more unimodal or show shifted modes compared to the original histograms.\n",
    "- The histograms for the validity columns still show their bimodal distributions with peaks at 0 and 1, as these were handled separately.\n",
    "\n",
    "These histograms provide an updated view of the data's distribution after handling the missing values, highlighting the impact of the imputation method on the data's characteristics."
   ]
  },
  {
   "cell_type": "code",
   "execution_count": null,
   "id": "44dfa12b",
   "metadata": {
    "id": "de0b2f65"
   },
   "outputs": [],
   "source": [
    "cols = ['ET_GazeLeftx', 'ET_GazeLefty',\n",
    "       'ET_GazeRightx', 'ET_GazeRighty', 'ET_PupilLeft', 'ET_PupilRight',\n",
    "       'ET_TimeSignal', 'ET_DistanceLeft', 'ET_DistanceRight',\n",
    "       'ET_CameraLeftX', 'ET_CameraLeftY', 'ET_CameraRightX',\n",
    "       'ET_CameraRightY', 'ET_ValidityLeft', 'ET_ValidityRight',\n",
    "       'ET_PupilLeft_validity', 'ET_PupilRight_validity']"
   ]
  },
  {
   "cell_type": "code",
   "execution_count": null,
   "id": "f0de4797",
   "metadata": {
    "id": "4ddd4915"
   },
   "outputs": [],
   "source": [
    "for col in cols:\n",
    "    # Add a markdown cell before each plot for better separation and labeling\n",
    "    display(Markdown(f'### {col} over Time'))\n",
    "    plt.figure(figsize=(16, 10))\n",
    "    plt.plot(df_26_EYE['Timestamp'], df_26_EYE[col])\n",
    "    plt.xlabel(\"Timestamp\") # Add x-axis label\n",
    "    plt.ylabel(col) # Add y-axis label\n",
    "    plt.show()"
   ]
  },
  {
   "cell_type": "markdown",
   "id": "a6f8a74b",
   "metadata": {
    "id": "0fb07abb"
   },
   "source": [
    "# Observations from Time Series Plots After Imputation\n",
    "\n",
    "The line plots generated after imputing the missing values with the mean show the temporal patterns of the features with the missing data handled. Key observations from these updated plots include:\n",
    "\n",
    "- The gaps or flat lines at -1, which were prominent in the plots for columns like gaze coordinates, pupil size, distance, and camera position, are now filled by lines at the mean value of the respective columns.\n",
    "- The plots for the validity columns remain the same as they were handled separately.\n",
    "- The `ET_TimeSignal` plot still shows a steady increasing trend, as expected."
   ]
  },
  {
   "cell_type": "code",
   "execution_count": null,
   "id": "d9c6cc8e",
   "metadata": {
    "id": "c608fd95"
   },
   "outputs": [],
   "source": [
    "plt.figure(figsize=(16, 10))\n",
    "sns.heatmap(df_26_EYE.corr(numeric_only=True), cmap='YlGnBu', annot=True)\n",
    "plt.show()"
   ]
  },
  {
   "cell_type": "markdown",
   "id": "38bfdddf",
   "metadata": {
    "id": "82405ba6"
   },
   "source": [
    "# Observations from Correlation Heatmap\n",
    "\n",
    "The correlation heatmap provides a visual representation of the pairwise correlations between the numeric columns in the dataset. Key observations from the heatmap include:\n",
    "\n",
    "- **High Positive Correlations:** We observe strong positive correlations (values close to 1) between:\n",
    "  - `ET_GazeLeftx` and `ET_GazeRightx`: This is expected as the gaze positions of both eyes should be highly correlated when fixating on a point.\n",
    "  - `ET_GazeLefty` and `ET_GazeRighty`: Similar to the x-coordinates, the y-coordinates of gaze should also be highly correlated.\n",
    "  - `ET_PupilLeft` and `ET_PupilRight`: Pupil sizes of both eyes tend to change together in response to light and cognitive load.\n",
    "  - `ET_DistanceLeft` and `ET_DistanceRight`: The distance from the eye tracker to each eye should be highly correlated.\n",
    "  - `ET_CameraLeftX` and `ET_CameraRightX`, `ET_CameraLeftY` and `ET_CameraRightY`: The camera positions for both eyes are also expected to be highly correlated.\n",
    "  - `UnixTime` and `ET_TimeSignal`: As previously noted, these two columns are almost perfectly linearly correlated, indicating redundancy.\n",
    "  - `ET_ValidityLeft` and `ET_PupilLeft_validity`: There is a positive correlation, suggesting that when the overall left eye data is invalid, the left pupil data is also likely to be invalid.\n",
    "  - `ET_ValidityRight` and `ET_PupilRight_validity`: Similar to the left eye, there is a positive correlation between the overall right eye validity and the right pupil validity.\n",
    "- **Other Correlations:** We can also observe other varying degrees of correlations between different features, which can provide insights into the relationships between gaze behavior, pupil size, distance, and camera position. For example, there might be correlations between gaze coordinates and camera positions, reflecting head movements.\n",
    "- **Low or Near-Zero Correlations:** Columns with low or near-zero correlations are relatively independent of each other.\n",
    "\n",
    "Understanding these correlations is important for feature selection and for building models, as highly correlated features might indicate multicollinearity, while correlations between features can reveal underlying patterns in the data."
   ]
  },
  {
   "cell_type": "markdown",
   "id": "216af3ed",
   "metadata": {
    "id": "1c413c3b"
   },
   "source": [
    "# Analysis of ET_TimeSignal and Decision to Drop\n",
    "\n",
    "As observed in the time series plot and confirmed by the correlation heatmap, the `ET_TimeSignal` column exhibits a near-perfect linear relationship with both the `Timestamp` and `UnixTime` columns. This strong correlation (close to 1) suggests that `ET_TimeSignal` is essentially redundant and likely represents another form of time recording or a signal directly derived from the timestamp.\n",
    "\n",
    "Including highly correlated features like this in a dataset can lead to issues such as multicollinearity in some statistical models, which can make it difficult to interpret the individual impact of each feature. Since the `Timestamp` column already provides the necessary temporal information, retaining `ET_TimeSignal` does not appear to add significant value for further analysis or modeling in most cases.\n",
    "\n",
    "Therefore, based on its high correlation and lack of unique insight, we will proceed to drop the `ET_TimeSignal` column to simplify the dataset and potentially improve the performance and interpretability of future analyses."
   ]
  },
  {
   "cell_type": "code",
   "execution_count": null,
   "id": "94aa5d50",
   "metadata": {
    "id": "7c96e349"
   },
   "outputs": [],
   "source": [
    "df_26_EYE.drop('ET_TimeSignal', axis=1, inplace=True)"
   ]
  },
  {
   "cell_type": "code",
   "execution_count": null,
   "id": "203d0d65",
   "metadata": {
    "id": "5845a61d"
   },
   "outputs": [],
   "source": [
    "plt.figure(figsize=(16, 10))\n",
    "sns.pairplot(df_26_EYE)\n",
    "plt.show()"
   ]
  },
  {
   "cell_type": "markdown",
   "id": "28b442f9",
   "metadata": {
    "id": "sMcHS8LIOGeT"
   },
   "source": [
    "# **27_EYE**"
   ]
  },
  {
   "cell_type": "code",
   "execution_count": null,
   "id": "f1ef202e",
   "metadata": {
    "id": "L2tJooyROWnM"
   },
   "outputs": [],
   "source": []
  },
  {
   "cell_type": "code",
   "execution_count": null,
   "id": "3f5cd218",
   "metadata": {
    "id": "6c647c4f"
   },
   "outputs": [],
   "source": [
    "df_27_EYE = pd.read_csv('data/STData/27/27_EYE.csv')"
   ]
  },
  {
   "cell_type": "code",
   "execution_count": null,
   "id": "6ff06045",
   "metadata": {
    "id": "c229bba7"
   },
   "outputs": [],
   "source": [
    "df_27_EYE.head()"
   ]
  },
  {
   "cell_type": "code",
   "execution_count": null,
   "id": "97f5b1b5",
   "metadata": {
    "id": "0ec8e716"
   },
   "outputs": [],
   "source": [
    "df_27_EYE.shape"
   ]
  },
  {
   "cell_type": "code",
   "execution_count": null,
   "id": "afc3c33e",
   "metadata": {
    "id": "43ba37eb"
   },
   "outputs": [],
   "source": [
    "df_27_EYE.columns"
   ]
  },
  {
   "cell_type": "code",
   "execution_count": null,
   "id": "c1fb9c63",
   "metadata": {
    "id": "19f68fb4"
   },
   "outputs": [],
   "source": [
    "df_27_EYE.info()"
   ]
  },
  {
   "cell_type": "code",
   "execution_count": null,
   "id": "837af709",
   "metadata": {
    "id": "603369d7"
   },
   "outputs": [],
   "source": [
    "df_27_EYE.isnull().sum()"
   ]
  },
  {
   "cell_type": "code",
   "execution_count": null,
   "id": "f1290926",
   "metadata": {
    "id": "874353e3"
   },
   "outputs": [],
   "source": [
    "plt.figure(figsize=(12,8))\n",
    "sns.heatmap(df_27_EYE.isnull(), cmap='viridis')\n",
    "plt.show()"
   ]
  },
  {
   "cell_type": "markdown",
   "id": "d0221971",
   "metadata": {
    "id": "b17906e7"
   },
   "source": [
    "# Notes & Observations\n",
    "\n",
    "- We observe many **null** (or missing) values in the `QuestionKey` columns.\n",
    "- The nulls in the `QuestionKey` column may not represent “true” nulls. Rather, they follow interval patterns, suggesting that during those periods no question was displayed.\n",
    "- These missing values in `QuestionKey` require additional investigation and context-aware handling."
   ]
  },
  {
   "cell_type": "code",
   "execution_count": null,
   "id": "e911662d",
   "metadata": {
    "id": "1113779e"
   },
   "outputs": [],
   "source": [
    "df_27_EYE['QuestionKey'].unique()"
   ]
  },
  {
   "cell_type": "code",
   "execution_count": null,
   "id": "99d01cfd",
   "metadata": {
    "id": "db0a93a2"
   },
   "outputs": [],
   "source": [
    "df_27_EYE['Timestamp'] = pd.to_datetime(df_27_EYE['Timestamp'])"
   ]
  },
  {
   "cell_type": "code",
   "execution_count": null,
   "id": "1752140d",
   "metadata": {
    "id": "03d57b0a"
   },
   "outputs": [],
   "source": [
    "df_27_EYE.head(3)"
   ]
  },
  {
   "cell_type": "code",
   "execution_count": null,
   "id": "a62e1045",
   "metadata": {
    "id": "c0004029"
   },
   "outputs": [],
   "source": [
    "df_27_EYE['QuestionKey'] = df_27_EYE['QuestionKey'].fillna('None')"
   ]
  },
  {
   "cell_type": "code",
   "execution_count": null,
   "id": "54a8bca7",
   "metadata": {
    "id": "dfb4729e"
   },
   "outputs": [],
   "source": [
    "df_27_EYE['QuestionKey'].value_counts()"
   ]
  },
  {
   "cell_type": "code",
   "execution_count": null,
   "id": "39779f41",
   "metadata": {
    "id": "9353c9d8"
   },
   "outputs": [],
   "source": [
    "plt.figure(figsize=(12,8))\n",
    "sns.heatmap(df_27_EYE.isnull(), cmap='viridis')\n",
    "plt.show()"
   ]
  },
  {
   "cell_type": "code",
   "execution_count": null,
   "id": "222df36f",
   "metadata": {
    "id": "5c73d150"
   },
   "outputs": [],
   "source": [
    "df_27_EYE.isnull().sum()"
   ]
  },
  {
   "cell_type": "code",
   "execution_count": null,
   "id": "fa0dfbcc",
   "metadata": {
    "id": "6c700142"
   },
   "outputs": [],
   "source": [
    "df_27_EYE.dropna(inplace=True)"
   ]
  },
  {
   "cell_type": "code",
   "execution_count": null,
   "id": "9daa81bb",
   "metadata": {
    "id": "90a604ce"
   },
   "outputs": [],
   "source": [
    "df_27_EYE.head()"
   ]
  },
  {
   "cell_type": "code",
   "execution_count": null,
   "id": "f08e8038",
   "metadata": {
    "id": "a43a4283"
   },
   "outputs": [],
   "source": [
    "df_27_EYE['Row'].unique()"
   ]
  },
  {
   "cell_type": "code",
   "execution_count": null,
   "id": "5c97f6ad",
   "metadata": {
    "id": "f66566f9"
   },
   "outputs": [],
   "source": [
    "plt.figure(figsize=(8,6))\n",
    "sns.histplot(df_27_EYE['Row'])\n",
    "plt.show()"
   ]
  },
  {
   "cell_type": "markdown",
   "id": "6569faaf",
   "metadata": {
    "id": "5ddf40fd"
   },
   "source": [
    "# Notes & Observations\n",
    "\n",
    "- The `Row` column appears to be a simple row index and does not provide meaningful information relevant to the eye-tracking data itself. Therefore, it can be dropped."
   ]
  },
  {
   "cell_type": "code",
   "execution_count": null,
   "id": "83ce5648",
   "metadata": {
    "id": "5aee4404"
   },
   "outputs": [],
   "source": [
    "df_27_EYE.drop('Row', axis=1, inplace=True)"
   ]
  },
  {
   "cell_type": "code",
   "execution_count": null,
   "id": "3de7124c",
   "metadata": {
    "id": "827f3274"
   },
   "outputs": [],
   "source": [
    "df_27_EYE['ET_ValidityLeft'].unique()"
   ]
  },
  {
   "cell_type": "code",
   "execution_count": null,
   "id": "02f19592",
   "metadata": {
    "id": "1437751a"
   },
   "outputs": [],
   "source": [
    "df_27_EYE['ET_ValidityLeft'].value_counts()"
   ]
  },
  {
   "cell_type": "code",
   "execution_count": null,
   "id": "28beb9c3",
   "metadata": {
    "id": "d0a9ee4a"
   },
   "outputs": [],
   "source": [
    "df_27_EYE['ET_ValidityRight'].unique()"
   ]
  },
  {
   "cell_type": "code",
   "execution_count": null,
   "id": "e0a58a0f",
   "metadata": {
    "id": "55ddcc2b"
   },
   "outputs": [],
   "source": [
    "df_27_EYE['ET_ValidityRight'].value_counts()"
   ]
  },
  {
   "cell_type": "code",
   "execution_count": null,
   "id": "2b65ca97",
   "metadata": {
    "id": "faef00be"
   },
   "outputs": [],
   "source": [
    "plt.figure(figsize=(12, 6))\n",
    "\n",
    "plt.subplot(1, 2, 1)\n",
    "sns.barplot(x=df_27_EYE['ET_ValidityLeft'].value_counts().index, y=df_27_EYE['ET_ValidityLeft'].value_counts().values)\n",
    "plt.title('Count of ET_ValidityLeft')\n",
    "plt.xlabel('Validity')\n",
    "plt.ylabel('Count')\n",
    "\n",
    "\n",
    "plt.subplot(1, 2, 2)\n",
    "sns.barplot(x=df_27_EYE['ET_ValidityRight'].value_counts().index, y=df_27_EYE['ET_ValidityRight'].value_counts().values)\n",
    "plt.title('Count of ET_ValidityRight')\n",
    "plt.xlabel('Validity')\n",
    "plt.ylabel('Count')\n",
    "\n",
    "plt.tight_layout()\n",
    "plt.show()"
   ]
  },
  {
   "cell_type": "markdown",
   "id": "d3b25c40",
   "metadata": {
    "id": "b43706ea"
   },
   "source": [
    "# Notes & Observations\n",
    "\n",
    "- The `ET_ValidityLeft` and `ET_ValidityRight` columns indicate the validity of the eye-tracking data for the left and right eye, respectively.\n",
    "- Based on the value counts and the bar plots, it appears that a value of `0.0` represents valid eye-tracking data, while a value of `4.0` represents invalid data.\n",
    "- Although the amount of invalid data is relatively small, removing these rows could introduce unwanted patterns or gaps in the time series data.\n",
    "- Therefore, we will keep the data and replace the value `4.0` with `1.0` in both `ET_ValidityLeft` and `ET_ValidityRight` columns. This will indicate to a machine learning model that the eye tracker had invalid data at those specific points in time while maintaining the integrity of the time series."
   ]
  },
  {
   "cell_type": "markdown",
   "id": "e38cdd55",
   "metadata": {
    "id": "e9e671b2"
   },
   "source": [
    "Define a mapping to convert validity values from `0.0` and `4.0` to `0` and `1`."
   ]
  },
  {
   "cell_type": "code",
   "execution_count": null,
   "id": "277414a1",
   "metadata": {
    "id": "08e7ed71"
   },
   "outputs": [],
   "source": [
    "validity_map = {4.0: 1.0, 0.0: 0.0}"
   ]
  },
  {
   "cell_type": "code",
   "execution_count": null,
   "id": "a8f58937",
   "metadata": {
    "id": "0bba3ac0"
   },
   "outputs": [],
   "source": [
    "df_27_EYE['ET_ValidityLeft'] = df_27_EYE['ET_ValidityLeft'].map(validity_map).astype(np.int8)\n",
    "df_27_EYE['ET_ValidityRight'] = df_27_EYE['ET_ValidityRight'].map(validity_map).astype(np.int8)"
   ]
  },
  {
   "cell_type": "code",
   "execution_count": null,
   "id": "b514bbf5",
   "metadata": {
    "id": "0ff3f16c"
   },
   "outputs": [],
   "source": [
    "df_27_EYE.head(3)"
   ]
  },
  {
   "cell_type": "code",
   "execution_count": null,
   "id": "8a907f57",
   "metadata": {
    "id": "32eb3225"
   },
   "outputs": [],
   "source": [
    "df_27_EYE.describe()"
   ]
  },
  {
   "cell_type": "code",
   "execution_count": null,
   "id": "b9e93219",
   "metadata": {
    "id": "c1e092e1"
   },
   "outputs": [],
   "source": [
    "df_27_EYE[df_27_EYE['ET_ValidityLeft'] == 1].shape"
   ]
  },
  {
   "cell_type": "code",
   "execution_count": null,
   "id": "5c62a807",
   "metadata": {
    "id": "8ebfb0cc"
   },
   "outputs": [],
   "source": [
    "df_27_EYE[df_27_EYE['ET_ValidityRight'] == 1].shape"
   ]
  },
  {
   "cell_type": "code",
   "execution_count": null,
   "id": "2281f03d",
   "metadata": {
    "id": "0d175df2"
   },
   "outputs": [],
   "source": [
    "df_27_EYE[df_27_EYE['ET_ValidityLeft'] == 1].shape[0] / df_27_EYE.shape[0]"
   ]
  },
  {
   "cell_type": "code",
   "execution_count": null,
   "id": "35afc976",
   "metadata": {
    "id": "54cc0f9e"
   },
   "outputs": [],
   "source": [
    "df_27_EYE[df_27_EYE['ET_ValidityRight'] == 1].shape[0] / df_27_EYE.shape[0]"
   ]
  },
  {
   "cell_type": "code",
   "execution_count": null,
   "id": "a3f9f3f3",
   "metadata": {
    "id": "45c977c1"
   },
   "outputs": [],
   "source": [
    "plt.figure(figsize=(18, 8))\n",
    "\n",
    "plt.subplot(1, 2, 1)\n",
    "sns.heatmap(df_27_EYE == -1, cmap='viridis')\n",
    "plt.title('Heatmap of -1 Values')\n",
    "\n",
    "plt.subplot(1, 2, 2)\n",
    "sns.heatmap(df_27_EYE == 1, cmap='viridis')\n",
    "plt.title('Heatmap of 1 Values')\n",
    "\n",
    "plt.tight_layout()\n",
    "plt.show()"
   ]
  },
  {
   "cell_type": "code",
   "execution_count": null,
   "id": "2c310e46",
   "metadata": {
    "id": "3b98a13b"
   },
   "outputs": [],
   "source": [
    "df_27_EYE[df_27_EYE['ET_PupilLeft'] == -1].shape"
   ]
  },
  {
   "cell_type": "code",
   "execution_count": null,
   "id": "6651f635",
   "metadata": {
    "id": "a2f296f6"
   },
   "outputs": [],
   "source": [
    "df_27_EYE[df_27_EYE['ET_PupilRight'] == -1].shape"
   ]
  },
  {
   "cell_type": "code",
   "execution_count": null,
   "id": "a7dd67ae",
   "metadata": {
    "id": "42cff7eb"
   },
   "outputs": [],
   "source": [
    "df_27_EYE[df_27_EYE['ET_PupilLeft'] == -1].shape[0] / df_27_EYE.shape[0]"
   ]
  },
  {
   "cell_type": "code",
   "execution_count": null,
   "id": "646bb12f",
   "metadata": {
    "id": "83c97903"
   },
   "outputs": [],
   "source": [
    "df_27_EYE[df_27_EYE['ET_PupilRight'] == -1].shape[0] / df_27_EYE.shape[0]"
   ]
  },
  {
   "cell_type": "code",
   "execution_count": null,
   "id": "d33bfce7",
   "metadata": {
    "id": "6e176d63"
   },
   "outputs": [],
   "source": [
    "plt.figure(figsize=(18, 8))\n",
    "\n",
    "plt.subplot(1, 2, 1)\n",
    "sns.heatmap(df_27_EYE[df_27_EYE['ET_ValidityLeft'] == 1] == -1, cmap='viridis')\n",
    "plt.title('Heatmap of -1 Values')\n",
    "\n",
    "plt.subplot(1, 2, 2)\n",
    "sns.heatmap(df_27_EYE[df_27_EYE['ET_ValidityRight'] == 1] == -1, cmap='viridis')\n",
    "plt.title('Heatmap of -1 Values')\n",
    "\n",
    "plt.tight_layout()\n",
    "plt.show()"
   ]
  },
  {
   "cell_type": "markdown",
   "id": "ee16c4de",
   "metadata": {
    "id": "fff8db39"
   },
   "source": [
    "# Notes & Observations\n",
    "\n",
    "- The heatmaps reveal the distribution of -1 values across different columns.\n",
    "- It is evident that the `-1` values are not randomly scattered but appear in specific columns, notably `ET_GazeLeftx`, `ET_GazeLefty`, `ET_GazeRightx`, `ET_GazeRighty`, `ET_PupilLeft`, `ET_PupilRight`, `ET_DistanceLeft`, `ET_DistanceRight`, `ET_CameraLeftX`, `ET_CameraLeftY`, `ET_CameraRightX`, and `ET_CameraRightY`.\n",
    "- These `-1` values often coincide with instances where `ET_ValidityLeft` or `ET_ValidityRight` is 1, indicating invalid eye-tracking data. This suggests that `-1` is used as a placeholder for missing or invalid measurements in these columns when the eye tracker is not providing valid data for a particular eye.\n",
    "- Given that over 70% of the data in the `ET_PupilLeft` and `ET_PupilRight` columns is marked as invalid (-1), so instead of dropping them we can create new feature for both the `ET_PupilLeft` and `ET_PupilRight` to represent which row consist invalid `ET_PupilLeft` and `ET_PupilRight` data"
   ]
  },
  {
   "cell_type": "code",
   "execution_count": null,
   "id": "4df2c553",
   "metadata": {
    "id": "cf7437aa"
   },
   "outputs": [],
   "source": [
    "pupil_validity = {-1: 1 }"
   ]
  },
  {
   "cell_type": "code",
   "execution_count": null,
   "id": "3b8f75ff",
   "metadata": {
    "id": "989b113d"
   },
   "outputs": [],
   "source": [
    "df_27_EYE['ET_PupilLeft_validity'] = df_27_EYE['ET_PupilLeft'].map(pupil_validity)"
   ]
  },
  {
   "cell_type": "code",
   "execution_count": null,
   "id": "825879e5",
   "metadata": {
    "id": "9ecdfbc0"
   },
   "outputs": [],
   "source": [
    "df_27_EYE['ET_PupilRight_validity'] = df_27_EYE['ET_PupilRight'].map(pupil_validity)"
   ]
  },
  {
   "cell_type": "code",
   "execution_count": null,
   "id": "fa7f8ca6",
   "metadata": {
    "id": "7f5d2b28"
   },
   "outputs": [],
   "source": [
    "df_27_EYE[['ET_PupilLeft_validity', 'ET_PupilRight_validity']].head()"
   ]
  },
  {
   "cell_type": "code",
   "execution_count": null,
   "id": "4797aa58",
   "metadata": {
    "id": "6a86c472"
   },
   "outputs": [],
   "source": [
    "df_27_EYE[['ET_PupilLeft_validity', 'ET_PupilRight_validity']].isnull().sum()"
   ]
  },
  {
   "cell_type": "code",
   "execution_count": null,
   "id": "b06e2c9b",
   "metadata": {
    "id": "9121e4a8"
   },
   "outputs": [],
   "source": [
    "plt.figure(figsize=(18, 8))\n",
    "sns.heatmap(df_27_EYE[['ET_PupilLeft_validity', 'ET_PupilRight_validity']].isnull(), cmap='viridis')\n",
    "plt.show()"
   ]
  },
  {
   "cell_type": "code",
   "execution_count": null,
   "id": "d2e17fb5",
   "metadata": {
    "id": "613a230a"
   },
   "outputs": [],
   "source": [
    "df_27_EYE['ET_PupilLeft_validity'] = df_27_EYE['ET_PupilLeft_validity'].fillna(0)"
   ]
  },
  {
   "cell_type": "code",
   "execution_count": null,
   "id": "4db36dd0",
   "metadata": {
    "id": "89ae7d3f"
   },
   "outputs": [],
   "source": [
    "df_27_EYE['ET_PupilRight_validity'] = df_27_EYE['ET_PupilRight_validity'].fillna(0)"
   ]
  },
  {
   "cell_type": "code",
   "execution_count": null,
   "id": "6e841258",
   "metadata": {
    "id": "a2c39f03"
   },
   "outputs": [],
   "source": [
    "df_27_EYE[['ET_PupilLeft_validity', 'ET_PupilRight_validity']].head()"
   ]
  },
  {
   "cell_type": "code",
   "execution_count": null,
   "id": "9007820b",
   "metadata": {
    "id": "6e9c2645"
   },
   "outputs": [],
   "source": [
    "plt.figure(figsize=(18, 8))\n",
    "sns.heatmap(df_27_EYE[['ET_PupilLeft_validity', 'ET_PupilRight_validity']].isnull(), cmap='viridis')\n",
    "plt.show()"
   ]
  },
  {
   "cell_type": "code",
   "execution_count": null,
   "id": "03aa63a9",
   "metadata": {
    "id": "7e52da92"
   },
   "outputs": [],
   "source": [
    "df_27_EYE.head()"
   ]
  },
  {
   "cell_type": "code",
   "execution_count": null,
   "id": "347dcdd1",
   "metadata": {
    "id": "1cefd42d"
   },
   "outputs": [],
   "source": [
    "plt.figure(figsize=(18, 8))\n",
    "\n",
    "plt.subplot(1, 2, 1)\n",
    "sns.heatmap(df_27_EYE == -1, cmap='viridis')\n",
    "plt.title('Heatmap of -1 Values')\n",
    "\n",
    "plt.subplot(1, 2, 2)\n",
    "sns.heatmap(df_27_EYE == 1, cmap='viridis')\n",
    "plt.title('Heatmap of -1 Values')\n",
    "\n",
    "plt.tight_layout()\n",
    "plt.show()"
   ]
  },
  {
   "cell_type": "code",
   "execution_count": null,
   "id": "6aa71cef",
   "metadata": {
    "id": "dcf38f27"
   },
   "outputs": [],
   "source": [
    "valid_left_ratio  = 1 - df_27_EYE['ET_ValidityLeft'].mean()"
   ]
  },
  {
   "cell_type": "code",
   "execution_count": null,
   "id": "5893b9a7",
   "metadata": {
    "id": "2aea00ec"
   },
   "outputs": [],
   "source": [
    "valid_left_ratio"
   ]
  },
  {
   "cell_type": "code",
   "execution_count": null,
   "id": "b930df03",
   "metadata": {
    "id": "19ac306c"
   },
   "outputs": [],
   "source": [
    "valid_right_ratio = 1 - df_27_EYE['ET_ValidityRight'].mean()"
   ]
  },
  {
   "cell_type": "code",
   "execution_count": null,
   "id": "29f66a54",
   "metadata": {
    "id": "4f0aa48e"
   },
   "outputs": [],
   "source": [
    "valid_right_ratio"
   ]
  },
  {
   "cell_type": "code",
   "execution_count": null,
   "id": "f5865ddb",
   "metadata": {
    "id": "a000b670"
   },
   "outputs": [],
   "source": [
    "df_27_EYE['ET_PupilLeft_validity'] = df_27_EYE['ET_PupilLeft_validity'].astype(np.int8)\n",
    "df_27_EYE['ET_PupilRight_validity'] = df_27_EYE['ET_PupilRight_validity'].astype(np.int8)"
   ]
  },
  {
   "cell_type": "markdown",
   "id": "7975ae52",
   "metadata": {
    "id": "6acf6847"
   },
   "source": [
    "# Feature Engineering and Observations\n",
    "\n",
    "Based on the analysis of the data, we've created two new features, `ET_PupilLeft_validity` and `ET_PupilRight_validity`. These features indicate the validity of the pupil data for the left and right eyes, respectively, with a value of 1 representing invalid data (originally -1) and 0 representing valid data.\n",
    "\n",
    "The heatmaps above visually demonstrate the distribution of -1 and 1 values across the dataset. We observed that:\n",
    "- The `-1` values are concentrated in specific columns related to gaze, pupil size, distance, and camera position, suggesting they represent missing or invalid sensor readings.\n",
    "- The `1` values, after mapping from `4.0` in the original validity columns, indicate instances of invalid eye-tracking data.\n",
    "- The heatmaps also show a strong correlation between the `-1` values in the pupil columns and a validity of 1 in the newly created pupil validity features, confirming that -1 was used to mark invalid pupil data."
   ]
  },
  {
   "cell_type": "code",
   "execution_count": null,
   "id": "e4c75ba6",
   "metadata": {
    "id": "de9f2594"
   },
   "outputs": [],
   "source": [
    "df_27_EYE.head()"
   ]
  },
  {
   "cell_type": "code",
   "execution_count": null,
   "id": "eccacb8d",
   "metadata": {
    "id": "bfa2e174"
   },
   "outputs": [],
   "source": [
    "# Select only the numeric columns for plotting histograms, excluding time-related columns\n",
    "numeric_cols = df_27_EYE.select_dtypes(include=np.number).columns\n",
    "cols_to_plot = [col for col in numeric_cols if col not in ['UnixTime']]\n",
    "\n",
    "# Calculate the number of rows and columns for the grid\n",
    "n_cols = 4  # You can adjust the number of columns as needed\n",
    "n_rows = (len(cols_to_plot) + n_cols - 1) // n_cols\n",
    "\n",
    "plt.figure(figsize=(n_cols * 5, n_rows * 4)) # Adjust figure size as needed\n",
    "\n",
    "for i, col in enumerate(cols_to_plot):\n",
    "    plt.subplot(n_rows, n_cols, i + 1)\n",
    "    sns.histplot(df_27_EYE[col], kde=True)\n",
    "    plt.title(f'Distribution of {col}')\n",
    "    plt.xlabel(col)\n",
    "    plt.ylabel('Frequency')\n",
    "\n",
    "plt.tight_layout()\n",
    "plt.show()"
   ]
  },
  {
   "cell_type": "markdown",
   "id": "78bfe981",
   "metadata": {
    "id": "8059766d"
   },
   "source": [
    "# Observations from Histograms\n",
    "\n",
    "The grid of histograms provides insights into the distribution of values for each numeric column in the dataset (excluding 'UnixTime'). Key observations include:\n",
    "\n",
    "- Several columns, such as `ET_GazeLeftx`, `ET_GazeLefty`, `ET_GazeRightx`, and `ET_GazeRighty`, show distributions that appear somewhat multimodal or skewed, suggesting variations in gaze patterns.\n",
    "- The `ET_PupilLeft` and `ET_PupilRight` histograms clearly show a peak at -1, confirming the presence of a significant number of invalid pupil readings.\n",
    "- `ET_TimeSignal` shows a relatively uniform distribution, as expected for a time-based signal.\n",
    "- `ET_DistanceLeft` and `ET_DistanceRight` appear to have distributions centered around certain values, with some outliers or variations.\n",
    "- The camera position columns (`ET_CameraLeftX`, `ET_CameraLeftY`, `ET_CameraRightX`, `ET_CameraRightY`) seem to have distributions concentrated within specific ranges, reflecting the camera's field of view.\n",
    "- The validity columns (`ET_ValidityLeft`, `ET_ValidityRight`, `ET_PupilLeft_validity`, `ET_PupilRight_validity`) show distributions dominated by 0, indicating that most of the data is considered valid after the mapping. The smaller peaks at 1 represent the instances of invalid data.\n",
    "\n",
    "These distributions highlight the need for appropriate handling of the -1 values and potential outliers in subsequent analysis or modeling steps."
   ]
  },
  {
   "cell_type": "code",
   "execution_count": null,
   "id": "bfcdfeb0",
   "metadata": {
    "id": "cb65ae1e"
   },
   "outputs": [],
   "source": [
    "df_27_EYE.columns"
   ]
  },
  {
   "cell_type": "code",
   "execution_count": null,
   "id": "aacd7f73",
   "metadata": {
    "id": "8cf2280c"
   },
   "outputs": [],
   "source": [
    "cols = ['ET_GazeLeftx', 'ET_GazeLefty',\n",
    "       'ET_GazeRightx', 'ET_GazeRighty', 'ET_PupilLeft', 'ET_PupilRight',\n",
    "       'ET_TimeSignal', 'ET_DistanceLeft', 'ET_DistanceRight',\n",
    "       'ET_CameraLeftX', 'ET_CameraLeftY', 'ET_CameraRightX',\n",
    "       'ET_CameraRightY', 'ET_ValidityLeft', 'ET_ValidityRight',\n",
    "       'ET_PupilLeft_validity', 'ET_PupilRight_validity']"
   ]
  },
  {
   "cell_type": "code",
   "execution_count": null,
   "id": "d2c36f8c",
   "metadata": {
    "id": "85e45ea9"
   },
   "outputs": [],
   "source": [
    "from IPython.display import display, Markdown\n",
    "\n",
    "for col in cols:\n",
    "    # Add a markdown cell before each plot for better separation and labeling\n",
    "    display(Markdown(f'### {col} over Time'))\n",
    "    plt.figure(figsize=(16, 10))\n",
    "    plt.plot(df_27_EYE['Timestamp'], df_27_EYE[col])\n",
    "    plt.xlabel(\"Timestamp\") # Add x-axis label\n",
    "    plt.ylabel(col) # Add y-axis label\n",
    "    plt.show()"
   ]
  },
  {
   "cell_type": "markdown",
   "id": "527fe0cc",
   "metadata": {
    "id": "f7ffd08f"
   },
   "source": [
    "# Observations from Time Series Plots\n",
    "\n",
    "The line plots showing various features against the `Timestamp` reveal the temporal patterns and fluctuations in the eye-tracking data. Key observations include:\n",
    "\n",
    "- **Gaze Coordinates (`ET_GazeLeftx`, `ET_GazeLefty`, `ET_GazeRightx`, `ET_GazeRighty`):** These plots show the changes in gaze position over time. We can observe periods of relatively stable gaze interspersed with rapid movements (saccades) and blinks or other events where the gaze data might be invalid (-1 values appear as gaps or spikes if not handled).\n",
    "- **Pupil Size (`ET_PupilLeft`, `ET_PupilRight`):** The pupil size plots show variations over time. The presence of many -1 values is evident as flat lines at the bottom of the plot, indicating periods where pupil data was not recorded or was invalid.\n",
    "- **Time Signal (`ET_TimeSignal`):** This plot shows a steady, increasing trend, as expected for a time-based signal.\n",
    "- **Distance and Camera Position (`ET_DistanceLeft`, `ET_DistanceRight`, `ET_CameraLeftX`, `ET_CameraLeftY`, `ET_CameraRightX`, `ET_CameraRightY`):** These plots show how the distance from the eye tracker and the camera positions change over time. Variations in these features can be related to head movements or changes in the user's position relative to the eye tracker.\n",
    "- **Validity (`ET_ValidityLeft`, `ET_ValidityRight`, `ET_PupilLeft_validity`, `ET_PupilRight_validity`):** These plots clearly show periods of invalid data (represented by 1) as spikes or plateaus, corresponding to instances where the eye tracker lost track of the eyes or the pupil data was marked as invalid.\n",
    "\n",
    "Analyzing these time series plots is crucial for understanding the dynamics of the eye-tracking data and identifying patterns or anomalies that may require further investigation or specific handling during subsequent analysis."
   ]
  },
  {
   "cell_type": "code",
   "execution_count": null,
   "id": "0f03bc5b",
   "metadata": {
    "id": "cdd85f8c"
   },
   "outputs": [],
   "source": [
    "# Select only the numeric columns for plotting histograms, excluding time-related columns\n",
    "numeric_cols = df_27_EYE.select_dtypes(include=np.number).columns\n",
    "\n",
    "# Calculate the number of rows and columns for the grid\n",
    "n_cols = 4  # You can adjust the number of columns as needed\n",
    "n_rows = (len(numeric_cols) + n_cols - 1) // n_cols\n",
    "\n",
    "plt.figure(figsize=(n_cols * 5, n_rows * 4)) # Adjust figure size as needed\n",
    "\n",
    "for i, col in enumerate(numeric_cols):\n",
    "    plt.subplot(n_rows, n_cols, i + 1)\n",
    "    sns.boxplot(df_27_EYE[col])\n",
    "    plt.title(f'Boxplot of {col}')\n",
    "    plt.xlabel(col)\n",
    "\n",
    "plt.tight_layout()\n",
    "plt.show()"
   ]
  },
  {
   "cell_type": "markdown",
   "id": "d290c4dd",
   "metadata": {
    "id": "2cca19c5"
   },
   "source": [
    "# Observations from Boxplots and Handling -1 Values\n",
    "\n",
    "The boxplots provide a visual summary of the distribution and potential outliers for each numeric column. Key observations from the boxplots include:\n",
    "\n",
    "- The boxplots for columns like `ET_GazeLeftx`, `ET_GazeLefty`, `ET_GazeRightx`, `ET_GazeRighty`, `ET_PupilLeft`, `ET_PupilRight`, `ET_DistanceLeft`, `ET_DistanceRight`, `ET_CameraLeftX`, `ET_CameraLeftY`, `ET_CameraRightX`, and `ET_CameraRightY` clearly show the presence of -1 values as significant outliers, confirming our earlier observations from the heatmaps and histograms.\n",
    "- The boxplots for the validity columns (`ET_ValidityLeft`, `ET_ValidityRight`, `ET_PupilLeft_validity`, `ET_PupilRight_validity`) show the discrete nature of these features, with the majority of data points at 0 (valid) and a smaller number at 1 (invalid).\n",
    "\n",
    "Given the significant presence of -1 values, which represent invalid or missing data, especially in the pupil-related columns, we have decided to replace these -1 values with NaN to properly represent them as missing data. Subsequently, we will impute these missing values using the mean of each respective column. This approach helps to retain the data structure and allows for further analysis or modeling without the distortion caused by the -1 placeholders."
   ]
  },
  {
   "cell_type": "code",
   "execution_count": null,
   "id": "34e5d8ca",
   "metadata": {
    "id": "9217371b"
   },
   "outputs": [],
   "source": [
    "df_27_EYE.replace({-1: np.nan}, inplace=True)"
   ]
  },
  {
   "cell_type": "code",
   "execution_count": null,
   "id": "c443d4c9",
   "metadata": {
    "id": "8108fa01"
   },
   "outputs": [],
   "source": [
    "df_27_EYE[['ET_GazeLeftx', 'ET_GazeLefty',\n",
    "       'ET_GazeRightx', 'ET_GazeRighty', 'ET_PupilLeft', 'ET_PupilRight',\n",
    "       'ET_TimeSignal', 'ET_DistanceLeft', 'ET_DistanceRight',\n",
    "       'ET_CameraLeftX', 'ET_CameraLeftY', 'ET_CameraRightX',\n",
    "       'ET_CameraRightY', 'ET_ValidityLeft', 'ET_ValidityRight',\n",
    "       'ET_PupilLeft_validity', 'ET_PupilRight_validity']].mean()"
   ]
  },
  {
   "cell_type": "code",
   "execution_count": null,
   "id": "199ba934",
   "metadata": {
    "id": "9b94fbce"
   },
   "outputs": [],
   "source": [
    "df_27_EYE[['ET_GazeLeftx', 'ET_GazeLefty',\n",
    "       'ET_GazeRightx', 'ET_GazeRighty', 'ET_PupilLeft', 'ET_PupilRight',\n",
    "       'ET_TimeSignal', 'ET_DistanceLeft', 'ET_DistanceRight',\n",
    "       'ET_CameraLeftX', 'ET_CameraLeftY', 'ET_CameraRightX',\n",
    "       'ET_CameraRightY', 'ET_ValidityLeft', 'ET_ValidityRight',\n",
    "       'ET_PupilLeft_validity', 'ET_PupilRight_validity']].median()"
   ]
  },
  {
   "cell_type": "code",
   "execution_count": null,
   "id": "c8e17a90",
   "metadata": {
    "id": "ee1238c8"
   },
   "outputs": [],
   "source": [
    "numeric_cols = df_27_EYE.select_dtypes(include=np.number).columns\n",
    "\n",
    "for col in numeric_cols:\n",
    "    df_27_EYE[col] = df_27_EYE[col].fillna(df_27_EYE[col].mean())"
   ]
  },
  {
   "cell_type": "code",
   "execution_count": null,
   "id": "ec073c3f",
   "metadata": {
    "id": "b0bc522d"
   },
   "outputs": [],
   "source": [
    "plt.figure(figsize=(18, 8))\n",
    "\n",
    "plt.subplot(1, 2, 1)\n",
    "sns.heatmap(df_27_EYE.isnull(), cmap='viridis')\n",
    "plt.title('Heatmap of Missing Values After Imputation')\n",
    "\n",
    "plt.subplot(1, 2, 2)\n",
    "sns.heatmap(df_27_EYE == 1, cmap='viridis')\n",
    "plt.title('Heatmap of 1 Values')\n",
    "\n",
    "plt.tight_layout()\n",
    "plt.show()"
   ]
  },
  {
   "cell_type": "markdown",
   "id": "edeaecfe",
   "metadata": {
    "id": "c0f1e10d"
   },
   "source": [
    "# Handling Missing Values (Imputation)\n",
    "\n",
    "As decided, we have replaced all the `-1` values with `NaN` to treat them as missing data. Subsequently, we have imputed these `NaN` values with the mean of their respective columns. The heatmap above, which was generated after the imputation, now shows no visible signs of `NaN` values, indicating that the imputation was successful."
   ]
  },
  {
   "cell_type": "code",
   "execution_count": null,
   "id": "0997a7f6",
   "metadata": {
    "id": "2491c1da"
   },
   "outputs": [],
   "source": [
    "df_27_EYE.head()"
   ]
  },
  {
   "cell_type": "code",
   "execution_count": null,
   "id": "cb8278e2",
   "metadata": {
    "id": "64f04350"
   },
   "outputs": [],
   "source": [
    "# Select only the numeric columns for plotting histograms, excluding time-related columns\n",
    "numeric_cols = df_27_EYE.select_dtypes(include=np.number).columns\n",
    "cols_to_plot = [col for col in numeric_cols if col not in ['UnixTime']]\n",
    "\n",
    "# Calculate the number of rows and columns for the grid\n",
    "n_cols = 4  # You can adjust the number of columns as needed\n",
    "n_rows = (len(cols_to_plot) + n_cols - 1) // n_cols\n",
    "\n",
    "plt.figure(figsize=(n_cols * 5, n_rows * 4)) # Adjust figure size as needed\n",
    "\n",
    "for i, col in enumerate(cols_to_plot):\n",
    "    plt.subplot(n_rows, n_cols, i + 1)\n",
    "    sns.histplot(df_27_EYE[col], kde=True)\n",
    "    plt.title(f'Distribution of {col}')\n",
    "    plt.xlabel(col)\n",
    "    plt.ylabel('Frequency')\n",
    "\n",
    "plt.tight_layout()\n",
    "plt.show()"
   ]
  },
  {
   "cell_type": "markdown",
   "id": "7118c6da",
   "metadata": {
    "id": "e0c83f1c"
   },
   "source": [
    "# Observations from Histograms After Imputation\n",
    "\n",
    "The histograms generated after replacing the -1 values with the mean of each column show the distributions of the numeric features with the missing data handled. Key observations from these updated histograms include:\n",
    "\n",
    "- The distinct peaks at -1, which were prominent in the histograms for several columns (e.g., pupil size, gaze coordinates, distance, and camera position) before imputation, are now replaced by a peak at the mean of each respective column.\n",
    "- The distributions in many columns now appear more unimodal or show shifted modes compared to the original histograms.\n",
    "- The histograms for the validity columns still show their bimodal distributions with peaks at 0 and 1, as these were handled separately.\n",
    "\n",
    "These histograms provide an updated view of the data's distribution after handling the missing values, highlighting the impact of the imputation method on the data's characteristics."
   ]
  },
  {
   "cell_type": "code",
   "execution_count": null,
   "id": "5607fe9b",
   "metadata": {
    "id": "de0b2f65"
   },
   "outputs": [],
   "source": [
    "cols = ['ET_GazeLeftx', 'ET_GazeLefty',\n",
    "       'ET_GazeRightx', 'ET_GazeRighty', 'ET_PupilLeft', 'ET_PupilRight',\n",
    "       'ET_TimeSignal', 'ET_DistanceLeft', 'ET_DistanceRight',\n",
    "       'ET_CameraLeftX', 'ET_CameraLeftY', 'ET_CameraRightX',\n",
    "       'ET_CameraRightY', 'ET_ValidityLeft', 'ET_ValidityRight',\n",
    "       'ET_PupilLeft_validity', 'ET_PupilRight_validity']"
   ]
  },
  {
   "cell_type": "code",
   "execution_count": null,
   "id": "4fc406f0",
   "metadata": {
    "id": "4ddd4915"
   },
   "outputs": [],
   "source": [
    "for col in cols:\n",
    "    # Add a markdown cell before each plot for better separation and labeling\n",
    "    display(Markdown(f'### {col} over Time'))\n",
    "    plt.figure(figsize=(16, 10))\n",
    "    plt.plot(df_27_EYE['Timestamp'], df_27_EYE[col])\n",
    "    plt.xlabel(\"Timestamp\") # Add x-axis label\n",
    "    plt.ylabel(col) # Add y-axis label\n",
    "    plt.show()"
   ]
  },
  {
   "cell_type": "markdown",
   "id": "c3383aaf",
   "metadata": {
    "id": "0fb07abb"
   },
   "source": [
    "# Observations from Time Series Plots After Imputation\n",
    "\n",
    "The line plots generated after imputing the missing values with the mean show the temporal patterns of the features with the missing data handled. Key observations from these updated plots include:\n",
    "\n",
    "- The gaps or flat lines at -1, which were prominent in the plots for columns like gaze coordinates, pupil size, distance, and camera position, are now filled by lines at the mean value of the respective columns.\n",
    "- The plots for the validity columns remain the same as they were handled separately.\n",
    "- The `ET_TimeSignal` plot still shows a steady increasing trend, as expected."
   ]
  },
  {
   "cell_type": "code",
   "execution_count": null,
   "id": "27a842c7",
   "metadata": {
    "id": "c608fd95"
   },
   "outputs": [],
   "source": [
    "plt.figure(figsize=(16, 10))\n",
    "sns.heatmap(df_27_EYE.corr(numeric_only=True), cmap='YlGnBu', annot=True)\n",
    "plt.show()"
   ]
  },
  {
   "cell_type": "markdown",
   "id": "73365d32",
   "metadata": {
    "id": "82405ba6"
   },
   "source": [
    "# Observations from Correlation Heatmap\n",
    "\n",
    "The correlation heatmap provides a visual representation of the pairwise correlations between the numeric columns in the dataset. Key observations from the heatmap include:\n",
    "\n",
    "- **High Positive Correlations:** We observe strong positive correlations (values close to 1) between:\n",
    "  - `ET_GazeLeftx` and `ET_GazeRightx`: This is expected as the gaze positions of both eyes should be highly correlated when fixating on a point.\n",
    "  - `ET_GazeLefty` and `ET_GazeRighty`: Similar to the x-coordinates, the y-coordinates of gaze should also be highly correlated.\n",
    "  - `ET_PupilLeft` and `ET_PupilRight`: Pupil sizes of both eyes tend to change together in response to light and cognitive load.\n",
    "  - `ET_DistanceLeft` and `ET_DistanceRight`: The distance from the eye tracker to each eye should be highly correlated.\n",
    "  - `ET_CameraLeftX` and `ET_CameraRightX`, `ET_CameraLeftY` and `ET_CameraRightY`: The camera positions for both eyes are also expected to be highly correlated.\n",
    "  - `UnixTime` and `ET_TimeSignal`: As previously noted, these two columns are almost perfectly linearly correlated, indicating redundancy.\n",
    "  - `ET_ValidityLeft` and `ET_PupilLeft_validity`: There is a positive correlation, suggesting that when the overall left eye data is invalid, the left pupil data is also likely to be invalid.\n",
    "  - `ET_ValidityRight` and `ET_PupilRight_validity`: Similar to the left eye, there is a positive correlation between the overall right eye validity and the right pupil validity.\n",
    "- **Other Correlations:** We can also observe other varying degrees of correlations between different features, which can provide insights into the relationships between gaze behavior, pupil size, distance, and camera position. For example, there might be correlations between gaze coordinates and camera positions, reflecting head movements.\n",
    "- **Low or Near-Zero Correlations:** Columns with low or near-zero correlations are relatively independent of each other.\n",
    "\n",
    "Understanding these correlations is important for feature selection and for building models, as highly correlated features might indicate multicollinearity, while correlations between features can reveal underlying patterns in the data."
   ]
  },
  {
   "cell_type": "markdown",
   "id": "9cb25e19",
   "metadata": {
    "id": "1c413c3b"
   },
   "source": [
    "# Analysis of ET_TimeSignal and Decision to Drop\n",
    "\n",
    "As observed in the time series plot and confirmed by the correlation heatmap, the `ET_TimeSignal` column exhibits a near-perfect linear relationship with both the `Timestamp` and `UnixTime` columns. This strong correlation (close to 1) suggests that `ET_TimeSignal` is essentially redundant and likely represents another form of time recording or a signal directly derived from the timestamp.\n",
    "\n",
    "Including highly correlated features like this in a dataset can lead to issues such as multicollinearity in some statistical models, which can make it difficult to interpret the individual impact of each feature. Since the `Timestamp` column already provides the necessary temporal information, retaining `ET_TimeSignal` does not appear to add significant value for further analysis or modeling in most cases.\n",
    "\n",
    "Therefore, based on its high correlation and lack of unique insight, we will proceed to drop the `ET_TimeSignal` column to simplify the dataset and potentially improve the performance and interpretability of future analyses."
   ]
  },
  {
   "cell_type": "code",
   "execution_count": null,
   "id": "a2ca1d80",
   "metadata": {
    "id": "7c96e349"
   },
   "outputs": [],
   "source": [
    "df_27_EYE.drop('ET_TimeSignal', axis=1, inplace=True)"
   ]
  },
  {
   "cell_type": "code",
   "execution_count": null,
   "id": "f774f254",
   "metadata": {
    "id": "5845a61d"
   },
   "outputs": [],
   "source": [
    "plt.figure(figsize=(16, 10))\n",
    "sns.pairplot(df_27_EYE)\n",
    "plt.show()"
   ]
  },
  {
   "cell_type": "markdown",
   "id": "3ce3ff03",
   "metadata": {
    "id": "sMcHS8LIOGeT"
   },
   "source": [
    "# **28_EYE**"
   ]
  },
  {
   "cell_type": "code",
   "execution_count": null,
   "id": "18ad5929",
   "metadata": {
    "id": "L2tJooyROWnM"
   },
   "outputs": [],
   "source": []
  },
  {
   "cell_type": "code",
   "execution_count": null,
   "id": "9b80622f",
   "metadata": {
    "id": "6c647c4f"
   },
   "outputs": [],
   "source": [
    "df_28_EYE = pd.read_csv('data/STData/28/28_EYE.csv')"
   ]
  },
  {
   "cell_type": "code",
   "execution_count": null,
   "id": "12c6572e",
   "metadata": {
    "id": "c229bba7"
   },
   "outputs": [],
   "source": [
    "df_28_EYE.head()"
   ]
  },
  {
   "cell_type": "code",
   "execution_count": null,
   "id": "319c8bba",
   "metadata": {
    "id": "0ec8e716"
   },
   "outputs": [],
   "source": [
    "df_28_EYE.shape"
   ]
  },
  {
   "cell_type": "code",
   "execution_count": null,
   "id": "8b2635c7",
   "metadata": {
    "id": "43ba37eb"
   },
   "outputs": [],
   "source": [
    "df_28_EYE.columns"
   ]
  },
  {
   "cell_type": "code",
   "execution_count": null,
   "id": "48a1c190",
   "metadata": {
    "id": "19f68fb4"
   },
   "outputs": [],
   "source": [
    "df_28_EYE.info()"
   ]
  },
  {
   "cell_type": "code",
   "execution_count": null,
   "id": "f7ca943b",
   "metadata": {
    "id": "603369d7"
   },
   "outputs": [],
   "source": [
    "df_28_EYE.isnull().sum()"
   ]
  },
  {
   "cell_type": "code",
   "execution_count": null,
   "id": "f22f4f34",
   "metadata": {
    "id": "874353e3"
   },
   "outputs": [],
   "source": [
    "plt.figure(figsize=(12,8))\n",
    "sns.heatmap(df_28_EYE.isnull(), cmap='viridis')\n",
    "plt.show()"
   ]
  },
  {
   "cell_type": "markdown",
   "id": "57cbec64",
   "metadata": {
    "id": "b17906e7"
   },
   "source": [
    "# Notes & Observations\n",
    "\n",
    "- We observe many **null** (or missing) values in the `QuestionKey` columns.\n",
    "- The nulls in the `QuestionKey` column may not represent “true” nulls. Rather, they follow interval patterns, suggesting that during those periods no question was displayed.\n",
    "- These missing values in `QuestionKey` require additional investigation and context-aware handling."
   ]
  },
  {
   "cell_type": "code",
   "execution_count": null,
   "id": "1d105d98",
   "metadata": {
    "id": "1113779e"
   },
   "outputs": [],
   "source": [
    "df_28_EYE['QuestionKey'].unique()"
   ]
  },
  {
   "cell_type": "code",
   "execution_count": null,
   "id": "f5926add",
   "metadata": {
    "id": "db0a93a2"
   },
   "outputs": [],
   "source": [
    "df_28_EYE['Timestamp'] = pd.to_datetime(df_28_EYE['Timestamp'])"
   ]
  },
  {
   "cell_type": "code",
   "execution_count": null,
   "id": "9c383284",
   "metadata": {
    "id": "03d57b0a"
   },
   "outputs": [],
   "source": [
    "df_28_EYE.head(3)"
   ]
  },
  {
   "cell_type": "code",
   "execution_count": null,
   "id": "9ea09707",
   "metadata": {
    "id": "c0004029"
   },
   "outputs": [],
   "source": [
    "df_28_EYE['QuestionKey'] = df_28_EYE['QuestionKey'].fillna('None')"
   ]
  },
  {
   "cell_type": "code",
   "execution_count": null,
   "id": "4234d723",
   "metadata": {
    "id": "dfb4729e"
   },
   "outputs": [],
   "source": [
    "df_28_EYE['QuestionKey'].value_counts()"
   ]
  },
  {
   "cell_type": "code",
   "execution_count": null,
   "id": "c5970531",
   "metadata": {
    "id": "9353c9d8"
   },
   "outputs": [],
   "source": [
    "plt.figure(figsize=(12,8))\n",
    "sns.heatmap(df_28_EYE.isnull(), cmap='viridis')\n",
    "plt.show()"
   ]
  },
  {
   "cell_type": "code",
   "execution_count": null,
   "id": "35d755e6",
   "metadata": {
    "id": "5c73d150"
   },
   "outputs": [],
   "source": [
    "df_28_EYE.isnull().sum()"
   ]
  },
  {
   "cell_type": "code",
   "execution_count": null,
   "id": "4c80ccce",
   "metadata": {
    "id": "6c700142"
   },
   "outputs": [],
   "source": [
    "df_28_EYE.dropna(inplace=True)"
   ]
  },
  {
   "cell_type": "code",
   "execution_count": null,
   "id": "1eeff4c6",
   "metadata": {
    "id": "90a604ce"
   },
   "outputs": [],
   "source": [
    "df_28_EYE.head()"
   ]
  },
  {
   "cell_type": "code",
   "execution_count": null,
   "id": "fec4bace",
   "metadata": {
    "id": "a43a4283"
   },
   "outputs": [],
   "source": [
    "df_28_EYE['Row'].unique()"
   ]
  },
  {
   "cell_type": "code",
   "execution_count": null,
   "id": "e61f4baa",
   "metadata": {
    "id": "f66566f9"
   },
   "outputs": [],
   "source": [
    "plt.figure(figsize=(8,6))\n",
    "sns.histplot(df_28_EYE['Row'])\n",
    "plt.show()"
   ]
  },
  {
   "cell_type": "markdown",
   "id": "65f0d31b",
   "metadata": {
    "id": "5ddf40fd"
   },
   "source": [
    "# Notes & Observations\n",
    "\n",
    "- The `Row` column appears to be a simple row index and does not provide meaningful information relevant to the eye-tracking data itself. Therefore, it can be dropped."
   ]
  },
  {
   "cell_type": "code",
   "execution_count": null,
   "id": "ea8e4427",
   "metadata": {
    "id": "5aee4404"
   },
   "outputs": [],
   "source": [
    "df_28_EYE.drop('Row', axis=1, inplace=True)"
   ]
  },
  {
   "cell_type": "code",
   "execution_count": null,
   "id": "80db18d8",
   "metadata": {
    "id": "827f3274"
   },
   "outputs": [],
   "source": [
    "df_28_EYE['ET_ValidityLeft'].unique()"
   ]
  },
  {
   "cell_type": "code",
   "execution_count": null,
   "id": "e4c6be9b",
   "metadata": {
    "id": "1437751a"
   },
   "outputs": [],
   "source": [
    "df_28_EYE['ET_ValidityLeft'].value_counts()"
   ]
  },
  {
   "cell_type": "code",
   "execution_count": null,
   "id": "edbeb4c0",
   "metadata": {
    "id": "d0a9ee4a"
   },
   "outputs": [],
   "source": [
    "df_28_EYE['ET_ValidityRight'].unique()"
   ]
  },
  {
   "cell_type": "code",
   "execution_count": null,
   "id": "af51db11",
   "metadata": {
    "id": "55ddcc2b"
   },
   "outputs": [],
   "source": [
    "df_28_EYE['ET_ValidityRight'].value_counts()"
   ]
  },
  {
   "cell_type": "code",
   "execution_count": null,
   "id": "a1dd2b55",
   "metadata": {
    "id": "faef00be"
   },
   "outputs": [],
   "source": [
    "plt.figure(figsize=(12, 6))\n",
    "\n",
    "plt.subplot(1, 2, 1)\n",
    "sns.barplot(x=df_28_EYE['ET_ValidityLeft'].value_counts().index, y=df_28_EYE['ET_ValidityLeft'].value_counts().values)\n",
    "plt.title('Count of ET_ValidityLeft')\n",
    "plt.xlabel('Validity')\n",
    "plt.ylabel('Count')\n",
    "\n",
    "\n",
    "plt.subplot(1, 2, 2)\n",
    "sns.barplot(x=df_28_EYE['ET_ValidityRight'].value_counts().index, y=df_28_EYE['ET_ValidityRight'].value_counts().values)\n",
    "plt.title('Count of ET_ValidityRight')\n",
    "plt.xlabel('Validity')\n",
    "plt.ylabel('Count')\n",
    "\n",
    "plt.tight_layout()\n",
    "plt.show()"
   ]
  },
  {
   "cell_type": "markdown",
   "id": "f035d4de",
   "metadata": {
    "id": "b43706ea"
   },
   "source": [
    "# Notes & Observations\n",
    "\n",
    "- The `ET_ValidityLeft` and `ET_ValidityRight` columns indicate the validity of the eye-tracking data for the left and right eye, respectively.\n",
    "- Based on the value counts and the bar plots, it appears that a value of `0.0` represents valid eye-tracking data, while a value of `4.0` represents invalid data.\n",
    "- Although the amount of invalid data is relatively small, removing these rows could introduce unwanted patterns or gaps in the time series data.\n",
    "- Therefore, we will keep the data and replace the value `4.0` with `1.0` in both `ET_ValidityLeft` and `ET_ValidityRight` columns. This will indicate to a machine learning model that the eye tracker had invalid data at those specific points in time while maintaining the integrity of the time series."
   ]
  },
  {
   "cell_type": "markdown",
   "id": "c6ef97f2",
   "metadata": {
    "id": "e9e671b2"
   },
   "source": [
    "Define a mapping to convert validity values from `0.0` and `4.0` to `0` and `1`."
   ]
  },
  {
   "cell_type": "code",
   "execution_count": null,
   "id": "ae6e1c5f",
   "metadata": {
    "id": "08e7ed71"
   },
   "outputs": [],
   "source": [
    "validity_map = {4.0: 1.0, 0.0: 0.0}"
   ]
  },
  {
   "cell_type": "code",
   "execution_count": null,
   "id": "8296d5a6",
   "metadata": {
    "id": "0bba3ac0"
   },
   "outputs": [],
   "source": [
    "df_28_EYE['ET_ValidityLeft'] = df_28_EYE['ET_ValidityLeft'].map(validity_map).astype(np.int8)\n",
    "df_28_EYE['ET_ValidityRight'] = df_28_EYE['ET_ValidityRight'].map(validity_map).astype(np.int8)"
   ]
  },
  {
   "cell_type": "code",
   "execution_count": null,
   "id": "1069304f",
   "metadata": {
    "id": "0ff3f16c"
   },
   "outputs": [],
   "source": [
    "df_28_EYE.head(3)"
   ]
  },
  {
   "cell_type": "code",
   "execution_count": null,
   "id": "556798a5",
   "metadata": {
    "id": "32eb3225"
   },
   "outputs": [],
   "source": [
    "df_28_EYE.describe()"
   ]
  },
  {
   "cell_type": "code",
   "execution_count": null,
   "id": "570b3804",
   "metadata": {
    "id": "c1e092e1"
   },
   "outputs": [],
   "source": [
    "df_28_EYE[df_28_EYE['ET_ValidityLeft'] == 1].shape"
   ]
  },
  {
   "cell_type": "code",
   "execution_count": null,
   "id": "9876a85e",
   "metadata": {
    "id": "8ebfb0cc"
   },
   "outputs": [],
   "source": [
    "df_28_EYE[df_28_EYE['ET_ValidityRight'] == 1].shape"
   ]
  },
  {
   "cell_type": "code",
   "execution_count": null,
   "id": "e17c4989",
   "metadata": {
    "id": "0d175df2"
   },
   "outputs": [],
   "source": [
    "df_28_EYE[df_28_EYE['ET_ValidityLeft'] == 1].shape[0] / df_28_EYE.shape[0]"
   ]
  },
  {
   "cell_type": "code",
   "execution_count": null,
   "id": "74d56d23",
   "metadata": {
    "id": "54cc0f9e"
   },
   "outputs": [],
   "source": [
    "df_28_EYE[df_28_EYE['ET_ValidityRight'] == 1].shape[0] / df_28_EYE.shape[0]"
   ]
  },
  {
   "cell_type": "code",
   "execution_count": null,
   "id": "ea46ef74",
   "metadata": {
    "id": "45c977c1"
   },
   "outputs": [],
   "source": [
    "plt.figure(figsize=(18, 8))\n",
    "\n",
    "plt.subplot(1, 2, 1)\n",
    "sns.heatmap(df_28_EYE == -1, cmap='viridis')\n",
    "plt.title('Heatmap of -1 Values')\n",
    "\n",
    "plt.subplot(1, 2, 2)\n",
    "sns.heatmap(df_28_EYE == 1, cmap='viridis')\n",
    "plt.title('Heatmap of 1 Values')\n",
    "\n",
    "plt.tight_layout()\n",
    "plt.show()"
   ]
  },
  {
   "cell_type": "code",
   "execution_count": null,
   "id": "84d62d14",
   "metadata": {
    "id": "3b98a13b"
   },
   "outputs": [],
   "source": [
    "df_28_EYE[df_28_EYE['ET_PupilLeft'] == -1].shape"
   ]
  },
  {
   "cell_type": "code",
   "execution_count": null,
   "id": "b58a1922",
   "metadata": {
    "id": "a2f296f6"
   },
   "outputs": [],
   "source": [
    "df_28_EYE[df_28_EYE['ET_PupilRight'] == -1].shape"
   ]
  },
  {
   "cell_type": "code",
   "execution_count": null,
   "id": "bb00790d",
   "metadata": {
    "id": "42cff7eb"
   },
   "outputs": [],
   "source": [
    "df_28_EYE[df_28_EYE['ET_PupilLeft'] == -1].shape[0] / df_28_EYE.shape[0]"
   ]
  },
  {
   "cell_type": "code",
   "execution_count": null,
   "id": "4d84f6a1",
   "metadata": {
    "id": "83c97903"
   },
   "outputs": [],
   "source": [
    "df_28_EYE[df_28_EYE['ET_PupilRight'] == -1].shape[0] / df_28_EYE.shape[0]"
   ]
  },
  {
   "cell_type": "code",
   "execution_count": null,
   "id": "5df4ff50",
   "metadata": {
    "id": "6e176d63"
   },
   "outputs": [],
   "source": [
    "plt.figure(figsize=(18, 8))\n",
    "\n",
    "plt.subplot(1, 2, 1)\n",
    "sns.heatmap(df_28_EYE[df_28_EYE['ET_ValidityLeft'] == 1] == -1, cmap='viridis')\n",
    "plt.title('Heatmap of -1 Values')\n",
    "\n",
    "plt.subplot(1, 2, 2)\n",
    "sns.heatmap(df_28_EYE[df_28_EYE['ET_ValidityRight'] == 1] == -1, cmap='viridis')\n",
    "plt.title('Heatmap of -1 Values')\n",
    "\n",
    "plt.tight_layout()\n",
    "plt.show()"
   ]
  },
  {
   "cell_type": "markdown",
   "id": "43266dd0",
   "metadata": {
    "id": "fff8db39"
   },
   "source": [
    "# Notes & Observations\n",
    "\n",
    "- The heatmaps reveal the distribution of -1 values across different columns.\n",
    "- It is evident that the `-1` values are not randomly scattered but appear in specific columns, notably `ET_GazeLeftx`, `ET_GazeLefty`, `ET_GazeRightx`, `ET_GazeRighty`, `ET_PupilLeft`, `ET_PupilRight`, `ET_DistanceLeft`, `ET_DistanceRight`, `ET_CameraLeftX`, `ET_CameraLeftY`, `ET_CameraRightX`, and `ET_CameraRightY`.\n",
    "- These `-1` values often coincide with instances where `ET_ValidityLeft` or `ET_ValidityRight` is 1, indicating invalid eye-tracking data. This suggests that `-1` is used as a placeholder for missing or invalid measurements in these columns when the eye tracker is not providing valid data for a particular eye.\n",
    "- Given that over 70% of the data in the `ET_PupilLeft` and `ET_PupilRight` columns is marked as invalid (-1), so instead of dropping them we can create new feature for both the `ET_PupilLeft` and `ET_PupilRight` to represent which row consist invalid `ET_PupilLeft` and `ET_PupilRight` data"
   ]
  },
  {
   "cell_type": "code",
   "execution_count": null,
   "id": "04848929",
   "metadata": {
    "id": "cf7437aa"
   },
   "outputs": [],
   "source": [
    "pupil_validity = {-1: 1 }"
   ]
  },
  {
   "cell_type": "code",
   "execution_count": null,
   "id": "3619c938",
   "metadata": {
    "id": "989b113d"
   },
   "outputs": [],
   "source": [
    "df_28_EYE['ET_PupilLeft_validity'] = df_28_EYE['ET_PupilLeft'].map(pupil_validity)"
   ]
  },
  {
   "cell_type": "code",
   "execution_count": null,
   "id": "b57eea83",
   "metadata": {
    "id": "9ecdfbc0"
   },
   "outputs": [],
   "source": [
    "df_28_EYE['ET_PupilRight_validity'] = df_28_EYE['ET_PupilRight'].map(pupil_validity)"
   ]
  },
  {
   "cell_type": "code",
   "execution_count": null,
   "id": "bc789c7c",
   "metadata": {
    "id": "7f5d2b28"
   },
   "outputs": [],
   "source": [
    "df_28_EYE[['ET_PupilLeft_validity', 'ET_PupilRight_validity']].head()"
   ]
  },
  {
   "cell_type": "code",
   "execution_count": null,
   "id": "25e9601d",
   "metadata": {
    "id": "6a86c472"
   },
   "outputs": [],
   "source": [
    "df_28_EYE[['ET_PupilLeft_validity', 'ET_PupilRight_validity']].isnull().sum()"
   ]
  },
  {
   "cell_type": "code",
   "execution_count": null,
   "id": "8f9e18b5",
   "metadata": {
    "id": "9121e4a8"
   },
   "outputs": [],
   "source": [
    "plt.figure(figsize=(18, 8))\n",
    "sns.heatmap(df_28_EYE[['ET_PupilLeft_validity', 'ET_PupilRight_validity']].isnull(), cmap='viridis')\n",
    "plt.show()"
   ]
  },
  {
   "cell_type": "code",
   "execution_count": null,
   "id": "69290a95",
   "metadata": {
    "id": "613a230a"
   },
   "outputs": [],
   "source": [
    "df_28_EYE['ET_PupilLeft_validity'] = df_28_EYE['ET_PupilLeft_validity'].fillna(0)"
   ]
  },
  {
   "cell_type": "code",
   "execution_count": null,
   "id": "9107fe4e",
   "metadata": {
    "id": "89ae7d3f"
   },
   "outputs": [],
   "source": [
    "df_28_EYE['ET_PupilRight_validity'] = df_28_EYE['ET_PupilRight_validity'].fillna(0)"
   ]
  },
  {
   "cell_type": "code",
   "execution_count": null,
   "id": "92d18a13",
   "metadata": {
    "id": "a2c39f03"
   },
   "outputs": [],
   "source": [
    "df_28_EYE[['ET_PupilLeft_validity', 'ET_PupilRight_validity']].head()"
   ]
  },
  {
   "cell_type": "code",
   "execution_count": null,
   "id": "6ee2cbcf",
   "metadata": {
    "id": "6e9c2645"
   },
   "outputs": [],
   "source": [
    "plt.figure(figsize=(18, 8))\n",
    "sns.heatmap(df_28_EYE[['ET_PupilLeft_validity', 'ET_PupilRight_validity']].isnull(), cmap='viridis')\n",
    "plt.show()"
   ]
  },
  {
   "cell_type": "code",
   "execution_count": null,
   "id": "2e234c94",
   "metadata": {
    "id": "7e52da92"
   },
   "outputs": [],
   "source": [
    "df_28_EYE.head()"
   ]
  },
  {
   "cell_type": "code",
   "execution_count": null,
   "id": "11ed1618",
   "metadata": {
    "id": "1cefd42d"
   },
   "outputs": [],
   "source": [
    "plt.figure(figsize=(18, 8))\n",
    "\n",
    "plt.subplot(1, 2, 1)\n",
    "sns.heatmap(df_28_EYE == -1, cmap='viridis')\n",
    "plt.title('Heatmap of -1 Values')\n",
    "\n",
    "plt.subplot(1, 2, 2)\n",
    "sns.heatmap(df_28_EYE == 1, cmap='viridis')\n",
    "plt.title('Heatmap of -1 Values')\n",
    "\n",
    "plt.tight_layout()\n",
    "plt.show()"
   ]
  },
  {
   "cell_type": "code",
   "execution_count": null,
   "id": "3e2fbed4",
   "metadata": {
    "id": "dcf38f27"
   },
   "outputs": [],
   "source": [
    "valid_left_ratio  = 1 - df_28_EYE['ET_ValidityLeft'].mean()"
   ]
  },
  {
   "cell_type": "code",
   "execution_count": null,
   "id": "55694a23",
   "metadata": {
    "id": "2aea00ec"
   },
   "outputs": [],
   "source": [
    "valid_left_ratio"
   ]
  },
  {
   "cell_type": "code",
   "execution_count": null,
   "id": "66e4eb2b",
   "metadata": {
    "id": "19ac306c"
   },
   "outputs": [],
   "source": [
    "valid_right_ratio = 1 - df_28_EYE['ET_ValidityRight'].mean()"
   ]
  },
  {
   "cell_type": "code",
   "execution_count": null,
   "id": "26674deb",
   "metadata": {
    "id": "4f0aa48e"
   },
   "outputs": [],
   "source": [
    "valid_right_ratio"
   ]
  },
  {
   "cell_type": "code",
   "execution_count": null,
   "id": "525bb92e",
   "metadata": {
    "id": "a000b670"
   },
   "outputs": [],
   "source": [
    "df_28_EYE['ET_PupilLeft_validity'] = df_28_EYE['ET_PupilLeft_validity'].astype(np.int8)\n",
    "df_28_EYE['ET_PupilRight_validity'] = df_28_EYE['ET_PupilRight_validity'].astype(np.int8)"
   ]
  },
  {
   "cell_type": "markdown",
   "id": "6e88cd24",
   "metadata": {
    "id": "6acf6847"
   },
   "source": [
    "# Feature Engineering and Observations\n",
    "\n",
    "Based on the analysis of the data, we've created two new features, `ET_PupilLeft_validity` and `ET_PupilRight_validity`. These features indicate the validity of the pupil data for the left and right eyes, respectively, with a value of 1 representing invalid data (originally -1) and 0 representing valid data.\n",
    "\n",
    "The heatmaps above visually demonstrate the distribution of -1 and 1 values across the dataset. We observed that:\n",
    "- The `-1` values are concentrated in specific columns related to gaze, pupil size, distance, and camera position, suggesting they represent missing or invalid sensor readings.\n",
    "- The `1` values, after mapping from `4.0` in the original validity columns, indicate instances of invalid eye-tracking data.\n",
    "- The heatmaps also show a strong correlation between the `-1` values in the pupil columns and a validity of 1 in the newly created pupil validity features, confirming that -1 was used to mark invalid pupil data."
   ]
  },
  {
   "cell_type": "code",
   "execution_count": null,
   "id": "47d45937",
   "metadata": {
    "id": "de9f2594"
   },
   "outputs": [],
   "source": [
    "df_28_EYE.head()"
   ]
  },
  {
   "cell_type": "code",
   "execution_count": null,
   "id": "ceff9f9f",
   "metadata": {
    "id": "bfa2e174"
   },
   "outputs": [],
   "source": [
    "# Select only the numeric columns for plotting histograms, excluding time-related columns\n",
    "numeric_cols = df_28_EYE.select_dtypes(include=np.number).columns\n",
    "cols_to_plot = [col for col in numeric_cols if col not in ['UnixTime']]\n",
    "\n",
    "# Calculate the number of rows and columns for the grid\n",
    "n_cols = 4  # You can adjust the number of columns as needed\n",
    "n_rows = (len(cols_to_plot) + n_cols - 1) // n_cols\n",
    "\n",
    "plt.figure(figsize=(n_cols * 5, n_rows * 4)) # Adjust figure size as needed\n",
    "\n",
    "for i, col in enumerate(cols_to_plot):\n",
    "    plt.subplot(n_rows, n_cols, i + 1)\n",
    "    sns.histplot(df_28_EYE[col], kde=True)\n",
    "    plt.title(f'Distribution of {col}')\n",
    "    plt.xlabel(col)\n",
    "    plt.ylabel('Frequency')\n",
    "\n",
    "plt.tight_layout()\n",
    "plt.show()"
   ]
  },
  {
   "cell_type": "markdown",
   "id": "84c23311",
   "metadata": {
    "id": "8059766d"
   },
   "source": [
    "# Observations from Histograms\n",
    "\n",
    "The grid of histograms provides insights into the distribution of values for each numeric column in the dataset (excluding 'UnixTime'). Key observations include:\n",
    "\n",
    "- Several columns, such as `ET_GazeLeftx`, `ET_GazeLefty`, `ET_GazeRightx`, and `ET_GazeRighty`, show distributions that appear somewhat multimodal or skewed, suggesting variations in gaze patterns.\n",
    "- The `ET_PupilLeft` and `ET_PupilRight` histograms clearly show a peak at -1, confirming the presence of a significant number of invalid pupil readings.\n",
    "- `ET_TimeSignal` shows a relatively uniform distribution, as expected for a time-based signal.\n",
    "- `ET_DistanceLeft` and `ET_DistanceRight` appear to have distributions centered around certain values, with some outliers or variations.\n",
    "- The camera position columns (`ET_CameraLeftX`, `ET_CameraLeftY`, `ET_CameraRightX`, `ET_CameraRightY`) seem to have distributions concentrated within specific ranges, reflecting the camera's field of view.\n",
    "- The validity columns (`ET_ValidityLeft`, `ET_ValidityRight`, `ET_PupilLeft_validity`, `ET_PupilRight_validity`) show distributions dominated by 0, indicating that most of the data is considered valid after the mapping. The smaller peaks at 1 represent the instances of invalid data.\n",
    "\n",
    "These distributions highlight the need for appropriate handling of the -1 values and potential outliers in subsequent analysis or modeling steps."
   ]
  },
  {
   "cell_type": "code",
   "execution_count": null,
   "id": "3415b1c0",
   "metadata": {
    "id": "cb65ae1e"
   },
   "outputs": [],
   "source": [
    "df_28_EYE.columns"
   ]
  },
  {
   "cell_type": "code",
   "execution_count": null,
   "id": "36acd299",
   "metadata": {
    "id": "8cf2280c"
   },
   "outputs": [],
   "source": [
    "cols = ['ET_GazeLeftx', 'ET_GazeLefty',\n",
    "       'ET_GazeRightx', 'ET_GazeRighty', 'ET_PupilLeft', 'ET_PupilRight',\n",
    "       'ET_TimeSignal', 'ET_DistanceLeft', 'ET_DistanceRight',\n",
    "       'ET_CameraLeftX', 'ET_CameraLeftY', 'ET_CameraRightX',\n",
    "       'ET_CameraRightY', 'ET_ValidityLeft', 'ET_ValidityRight',\n",
    "       'ET_PupilLeft_validity', 'ET_PupilRight_validity']"
   ]
  },
  {
   "cell_type": "code",
   "execution_count": null,
   "id": "582ae857",
   "metadata": {
    "id": "85e45ea9"
   },
   "outputs": [],
   "source": [
    "from IPython.display import display, Markdown\n",
    "\n",
    "for col in cols:\n",
    "    # Add a markdown cell before each plot for better separation and labeling\n",
    "    display(Markdown(f'### {col} over Time'))\n",
    "    plt.figure(figsize=(16, 10))\n",
    "    plt.plot(df_28_EYE['Timestamp'], df_28_EYE[col])\n",
    "    plt.xlabel(\"Timestamp\") # Add x-axis label\n",
    "    plt.ylabel(col) # Add y-axis label\n",
    "    plt.show()"
   ]
  },
  {
   "cell_type": "markdown",
   "id": "19277d47",
   "metadata": {
    "id": "f7ffd08f"
   },
   "source": [
    "# Observations from Time Series Plots\n",
    "\n",
    "The line plots showing various features against the `Timestamp` reveal the temporal patterns and fluctuations in the eye-tracking data. Key observations include:\n",
    "\n",
    "- **Gaze Coordinates (`ET_GazeLeftx`, `ET_GazeLefty`, `ET_GazeRightx`, `ET_GazeRighty`):** These plots show the changes in gaze position over time. We can observe periods of relatively stable gaze interspersed with rapid movements (saccades) and blinks or other events where the gaze data might be invalid (-1 values appear as gaps or spikes if not handled).\n",
    "- **Pupil Size (`ET_PupilLeft`, `ET_PupilRight`):** The pupil size plots show variations over time. The presence of many -1 values is evident as flat lines at the bottom of the plot, indicating periods where pupil data was not recorded or was invalid.\n",
    "- **Time Signal (`ET_TimeSignal`):** This plot shows a steady, increasing trend, as expected for a time-based signal.\n",
    "- **Distance and Camera Position (`ET_DistanceLeft`, `ET_DistanceRight`, `ET_CameraLeftX`, `ET_CameraLeftY`, `ET_CameraRightX`, `ET_CameraRightY`):** These plots show how the distance from the eye tracker and the camera positions change over time. Variations in these features can be related to head movements or changes in the user's position relative to the eye tracker.\n",
    "- **Validity (`ET_ValidityLeft`, `ET_ValidityRight`, `ET_PupilLeft_validity`, `ET_PupilRight_validity`):** These plots clearly show periods of invalid data (represented by 1) as spikes or plateaus, corresponding to instances where the eye tracker lost track of the eyes or the pupil data was marked as invalid.\n",
    "\n",
    "Analyzing these time series plots is crucial for understanding the dynamics of the eye-tracking data and identifying patterns or anomalies that may require further investigation or specific handling during subsequent analysis."
   ]
  },
  {
   "cell_type": "code",
   "execution_count": null,
   "id": "d95630ef",
   "metadata": {
    "id": "cdd85f8c"
   },
   "outputs": [],
   "source": [
    "# Select only the numeric columns for plotting histograms, excluding time-related columns\n",
    "numeric_cols = df_28_EYE.select_dtypes(include=np.number).columns\n",
    "\n",
    "# Calculate the number of rows and columns for the grid\n",
    "n_cols = 4  # You can adjust the number of columns as needed\n",
    "n_rows = (len(numeric_cols) + n_cols - 1) // n_cols\n",
    "\n",
    "plt.figure(figsize=(n_cols * 5, n_rows * 4)) # Adjust figure size as needed\n",
    "\n",
    "for i, col in enumerate(numeric_cols):\n",
    "    plt.subplot(n_rows, n_cols, i + 1)\n",
    "    sns.boxplot(df_28_EYE[col])\n",
    "    plt.title(f'Boxplot of {col}')\n",
    "    plt.xlabel(col)\n",
    "\n",
    "plt.tight_layout()\n",
    "plt.show()"
   ]
  },
  {
   "cell_type": "markdown",
   "id": "3ef6a613",
   "metadata": {
    "id": "2cca19c5"
   },
   "source": [
    "# Observations from Boxplots and Handling -1 Values\n",
    "\n",
    "The boxplots provide a visual summary of the distribution and potential outliers for each numeric column. Key observations from the boxplots include:\n",
    "\n",
    "- The boxplots for columns like `ET_GazeLeftx`, `ET_GazeLefty`, `ET_GazeRightx`, `ET_GazeRighty`, `ET_PupilLeft`, `ET_PupilRight`, `ET_DistanceLeft`, `ET_DistanceRight`, `ET_CameraLeftX`, `ET_CameraLeftY`, `ET_CameraRightX`, and `ET_CameraRightY` clearly show the presence of -1 values as significant outliers, confirming our earlier observations from the heatmaps and histograms.\n",
    "- The boxplots for the validity columns (`ET_ValidityLeft`, `ET_ValidityRight`, `ET_PupilLeft_validity`, `ET_PupilRight_validity`) show the discrete nature of these features, with the majority of data points at 0 (valid) and a smaller number at 1 (invalid).\n",
    "\n",
    "Given the significant presence of -1 values, which represent invalid or missing data, especially in the pupil-related columns, we have decided to replace these -1 values with NaN to properly represent them as missing data. Subsequently, we will impute these missing values using the mean of each respective column. This approach helps to retain the data structure and allows for further analysis or modeling without the distortion caused by the -1 placeholders."
   ]
  },
  {
   "cell_type": "code",
   "execution_count": null,
   "id": "578095f5",
   "metadata": {
    "id": "9217371b"
   },
   "outputs": [],
   "source": [
    "df_28_EYE.replace({-1: np.nan}, inplace=True)"
   ]
  },
  {
   "cell_type": "code",
   "execution_count": null,
   "id": "d5b31e66",
   "metadata": {
    "id": "8108fa01"
   },
   "outputs": [],
   "source": [
    "df_28_EYE[['ET_GazeLeftx', 'ET_GazeLefty',\n",
    "       'ET_GazeRightx', 'ET_GazeRighty', 'ET_PupilLeft', 'ET_PupilRight',\n",
    "       'ET_TimeSignal', 'ET_DistanceLeft', 'ET_DistanceRight',\n",
    "       'ET_CameraLeftX', 'ET_CameraLeftY', 'ET_CameraRightX',\n",
    "       'ET_CameraRightY', 'ET_ValidityLeft', 'ET_ValidityRight',\n",
    "       'ET_PupilLeft_validity', 'ET_PupilRight_validity']].mean()"
   ]
  },
  {
   "cell_type": "code",
   "execution_count": null,
   "id": "a8534e1d",
   "metadata": {
    "id": "9b94fbce"
   },
   "outputs": [],
   "source": [
    "df_28_EYE[['ET_GazeLeftx', 'ET_GazeLefty',\n",
    "       'ET_GazeRightx', 'ET_GazeRighty', 'ET_PupilLeft', 'ET_PupilRight',\n",
    "       'ET_TimeSignal', 'ET_DistanceLeft', 'ET_DistanceRight',\n",
    "       'ET_CameraLeftX', 'ET_CameraLeftY', 'ET_CameraRightX',\n",
    "       'ET_CameraRightY', 'ET_ValidityLeft', 'ET_ValidityRight',\n",
    "       'ET_PupilLeft_validity', 'ET_PupilRight_validity']].median()"
   ]
  },
  {
   "cell_type": "code",
   "execution_count": null,
   "id": "37f5734e",
   "metadata": {
    "id": "ee1238c8"
   },
   "outputs": [],
   "source": [
    "numeric_cols = df_28_EYE.select_dtypes(include=np.number).columns\n",
    "\n",
    "for col in numeric_cols:\n",
    "    df_28_EYE[col] = df_28_EYE[col].fillna(df_28_EYE[col].mean())"
   ]
  },
  {
   "cell_type": "code",
   "execution_count": null,
   "id": "0903aa97",
   "metadata": {
    "id": "b0bc522d"
   },
   "outputs": [],
   "source": [
    "plt.figure(figsize=(18, 8))\n",
    "\n",
    "plt.subplot(1, 2, 1)\n",
    "sns.heatmap(df_28_EYE.isnull(), cmap='viridis')\n",
    "plt.title('Heatmap of Missing Values After Imputation')\n",
    "\n",
    "plt.subplot(1, 2, 2)\n",
    "sns.heatmap(df_28_EYE == 1, cmap='viridis')\n",
    "plt.title('Heatmap of 1 Values')\n",
    "\n",
    "plt.tight_layout()\n",
    "plt.show()"
   ]
  },
  {
   "cell_type": "markdown",
   "id": "83e9a59a",
   "metadata": {
    "id": "c0f1e10d"
   },
   "source": [
    "# Handling Missing Values (Imputation)\n",
    "\n",
    "As decided, we have replaced all the `-1` values with `NaN` to treat them as missing data. Subsequently, we have imputed these `NaN` values with the mean of their respective columns. The heatmap above, which was generated after the imputation, now shows no visible signs of `NaN` values, indicating that the imputation was successful."
   ]
  },
  {
   "cell_type": "code",
   "execution_count": null,
   "id": "fd149da0",
   "metadata": {
    "id": "2491c1da"
   },
   "outputs": [],
   "source": [
    "df_28_EYE.head()"
   ]
  },
  {
   "cell_type": "code",
   "execution_count": null,
   "id": "0008839e",
   "metadata": {
    "id": "64f04350"
   },
   "outputs": [],
   "source": [
    "# Select only the numeric columns for plotting histograms, excluding time-related columns\n",
    "numeric_cols = df_28_EYE.select_dtypes(include=np.number).columns\n",
    "cols_to_plot = [col for col in numeric_cols if col not in ['UnixTime']]\n",
    "\n",
    "# Calculate the number of rows and columns for the grid\n",
    "n_cols = 4  # You can adjust the number of columns as needed\n",
    "n_rows = (len(cols_to_plot) + n_cols - 1) // n_cols\n",
    "\n",
    "plt.figure(figsize=(n_cols * 5, n_rows * 4)) # Adjust figure size as needed\n",
    "\n",
    "for i, col in enumerate(cols_to_plot):\n",
    "    plt.subplot(n_rows, n_cols, i + 1)\n",
    "    sns.histplot(df_28_EYE[col], kde=True)\n",
    "    plt.title(f'Distribution of {col}')\n",
    "    plt.xlabel(col)\n",
    "    plt.ylabel('Frequency')\n",
    "\n",
    "plt.tight_layout()\n",
    "plt.show()"
   ]
  },
  {
   "cell_type": "markdown",
   "id": "3507a3ac",
   "metadata": {
    "id": "e0c83f1c"
   },
   "source": [
    "# Observations from Histograms After Imputation\n",
    "\n",
    "The histograms generated after replacing the -1 values with the mean of each column show the distributions of the numeric features with the missing data handled. Key observations from these updated histograms include:\n",
    "\n",
    "- The distinct peaks at -1, which were prominent in the histograms for several columns (e.g., pupil size, gaze coordinates, distance, and camera position) before imputation, are now replaced by a peak at the mean of each respective column.\n",
    "- The distributions in many columns now appear more unimodal or show shifted modes compared to the original histograms.\n",
    "- The histograms for the validity columns still show their bimodal distributions with peaks at 0 and 1, as these were handled separately.\n",
    "\n",
    "These histograms provide an updated view of the data's distribution after handling the missing values, highlighting the impact of the imputation method on the data's characteristics."
   ]
  },
  {
   "cell_type": "code",
   "execution_count": null,
   "id": "562b883e",
   "metadata": {
    "id": "de0b2f65"
   },
   "outputs": [],
   "source": [
    "cols = ['ET_GazeLeftx', 'ET_GazeLefty',\n",
    "       'ET_GazeRightx', 'ET_GazeRighty', 'ET_PupilLeft', 'ET_PupilRight',\n",
    "       'ET_TimeSignal', 'ET_DistanceLeft', 'ET_DistanceRight',\n",
    "       'ET_CameraLeftX', 'ET_CameraLeftY', 'ET_CameraRightX',\n",
    "       'ET_CameraRightY', 'ET_ValidityLeft', 'ET_ValidityRight',\n",
    "       'ET_PupilLeft_validity', 'ET_PupilRight_validity']"
   ]
  },
  {
   "cell_type": "code",
   "execution_count": null,
   "id": "24e10ecd",
   "metadata": {
    "id": "4ddd4915"
   },
   "outputs": [],
   "source": [
    "for col in cols:\n",
    "    # Add a markdown cell before each plot for better separation and labeling\n",
    "    display(Markdown(f'### {col} over Time'))\n",
    "    plt.figure(figsize=(16, 10))\n",
    "    plt.plot(df_28_EYE['Timestamp'], df_28_EYE[col])\n",
    "    plt.xlabel(\"Timestamp\") # Add x-axis label\n",
    "    plt.ylabel(col) # Add y-axis label\n",
    "    plt.show()"
   ]
  },
  {
   "cell_type": "markdown",
   "id": "ddd2a6d5",
   "metadata": {
    "id": "0fb07abb"
   },
   "source": [
    "# Observations from Time Series Plots After Imputation\n",
    "\n",
    "The line plots generated after imputing the missing values with the mean show the temporal patterns of the features with the missing data handled. Key observations from these updated plots include:\n",
    "\n",
    "- The gaps or flat lines at -1, which were prominent in the plots for columns like gaze coordinates, pupil size, distance, and camera position, are now filled by lines at the mean value of the respective columns.\n",
    "- The plots for the validity columns remain the same as they were handled separately.\n",
    "- The `ET_TimeSignal` plot still shows a steady increasing trend, as expected."
   ]
  },
  {
   "cell_type": "code",
   "execution_count": null,
   "id": "c053a1ba",
   "metadata": {
    "id": "c608fd95"
   },
   "outputs": [],
   "source": [
    "plt.figure(figsize=(16, 10))\n",
    "sns.heatmap(df_28_EYE.corr(numeric_only=True), cmap='YlGnBu', annot=True)\n",
    "plt.show()"
   ]
  },
  {
   "cell_type": "markdown",
   "id": "17ace573",
   "metadata": {
    "id": "82405ba6"
   },
   "source": [
    "# Observations from Correlation Heatmap\n",
    "\n",
    "The correlation heatmap provides a visual representation of the pairwise correlations between the numeric columns in the dataset. Key observations from the heatmap include:\n",
    "\n",
    "- **High Positive Correlations:** We observe strong positive correlations (values close to 1) between:\n",
    "  - `ET_GazeLeftx` and `ET_GazeRightx`: This is expected as the gaze positions of both eyes should be highly correlated when fixating on a point.\n",
    "  - `ET_GazeLefty` and `ET_GazeRighty`: Similar to the x-coordinates, the y-coordinates of gaze should also be highly correlated.\n",
    "  - `ET_PupilLeft` and `ET_PupilRight`: Pupil sizes of both eyes tend to change together in response to light and cognitive load.\n",
    "  - `ET_DistanceLeft` and `ET_DistanceRight`: The distance from the eye tracker to each eye should be highly correlated.\n",
    "  - `ET_CameraLeftX` and `ET_CameraRightX`, `ET_CameraLeftY` and `ET_CameraRightY`: The camera positions for both eyes are also expected to be highly correlated.\n",
    "  - `UnixTime` and `ET_TimeSignal`: As previously noted, these two columns are almost perfectly linearly correlated, indicating redundancy.\n",
    "  - `ET_ValidityLeft` and `ET_PupilLeft_validity`: There is a positive correlation, suggesting that when the overall left eye data is invalid, the left pupil data is also likely to be invalid.\n",
    "  - `ET_ValidityRight` and `ET_PupilRight_validity`: Similar to the left eye, there is a positive correlation between the overall right eye validity and the right pupil validity.\n",
    "- **Other Correlations:** We can also observe other varying degrees of correlations between different features, which can provide insights into the relationships between gaze behavior, pupil size, distance, and camera position. For example, there might be correlations between gaze coordinates and camera positions, reflecting head movements.\n",
    "- **Low or Near-Zero Correlations:** Columns with low or near-zero correlations are relatively independent of each other.\n",
    "\n",
    "Understanding these correlations is important for feature selection and for building models, as highly correlated features might indicate multicollinearity, while correlations between features can reveal underlying patterns in the data."
   ]
  },
  {
   "cell_type": "markdown",
   "id": "d9892cf6",
   "metadata": {
    "id": "1c413c3b"
   },
   "source": [
    "# Analysis of ET_TimeSignal and Decision to Drop\n",
    "\n",
    "As observed in the time series plot and confirmed by the correlation heatmap, the `ET_TimeSignal` column exhibits a near-perfect linear relationship with both the `Timestamp` and `UnixTime` columns. This strong correlation (close to 1) suggests that `ET_TimeSignal` is essentially redundant and likely represents another form of time recording or a signal directly derived from the timestamp.\n",
    "\n",
    "Including highly correlated features like this in a dataset can lead to issues such as multicollinearity in some statistical models, which can make it difficult to interpret the individual impact of each feature. Since the `Timestamp` column already provides the necessary temporal information, retaining `ET_TimeSignal` does not appear to add significant value for further analysis or modeling in most cases.\n",
    "\n",
    "Therefore, based on its high correlation and lack of unique insight, we will proceed to drop the `ET_TimeSignal` column to simplify the dataset and potentially improve the performance and interpretability of future analyses."
   ]
  },
  {
   "cell_type": "code",
   "execution_count": null,
   "id": "d41c374b",
   "metadata": {
    "id": "7c96e349"
   },
   "outputs": [],
   "source": [
    "df_28_EYE.drop('ET_TimeSignal', axis=1, inplace=True)"
   ]
  },
  {
   "cell_type": "code",
   "execution_count": null,
   "id": "a8a13fe2",
   "metadata": {
    "id": "5845a61d"
   },
   "outputs": [],
   "source": [
    "plt.figure(figsize=(16, 10))\n",
    "sns.pairplot(df_28_EYE)\n",
    "plt.show()"
   ]
  },
  {
   "cell_type": "markdown",
   "id": "74b7b125",
   "metadata": {
    "id": "sMcHS8LIOGeT"
   },
   "source": [
    "# **29_EYE**"
   ]
  },
  {
   "cell_type": "code",
   "execution_count": null,
   "id": "362275d8",
   "metadata": {
    "id": "L2tJooyROWnM"
   },
   "outputs": [],
   "source": []
  },
  {
   "cell_type": "code",
   "execution_count": null,
   "id": "6e8b68ea",
   "metadata": {
    "id": "6c647c4f"
   },
   "outputs": [],
   "source": [
    "df_29_EYE = pd.read_csv('data/STData/29/29_EYE.csv')"
   ]
  },
  {
   "cell_type": "code",
   "execution_count": null,
   "id": "cb943e4a",
   "metadata": {
    "id": "c229bba7"
   },
   "outputs": [],
   "source": [
    "df_29_EYE.head()"
   ]
  },
  {
   "cell_type": "code",
   "execution_count": null,
   "id": "bd42ba53",
   "metadata": {
    "id": "0ec8e716"
   },
   "outputs": [],
   "source": [
    "df_29_EYE.shape"
   ]
  },
  {
   "cell_type": "code",
   "execution_count": null,
   "id": "53a633e7",
   "metadata": {
    "id": "43ba37eb"
   },
   "outputs": [],
   "source": [
    "df_29_EYE.columns"
   ]
  },
  {
   "cell_type": "code",
   "execution_count": null,
   "id": "e867a68b",
   "metadata": {
    "id": "19f68fb4"
   },
   "outputs": [],
   "source": [
    "df_29_EYE.info()"
   ]
  },
  {
   "cell_type": "code",
   "execution_count": null,
   "id": "81212a54",
   "metadata": {
    "id": "603369d7"
   },
   "outputs": [],
   "source": [
    "df_29_EYE.isnull().sum()"
   ]
  },
  {
   "cell_type": "code",
   "execution_count": null,
   "id": "7dd9bfcc",
   "metadata": {
    "id": "874353e3"
   },
   "outputs": [],
   "source": [
    "plt.figure(figsize=(12,8))\n",
    "sns.heatmap(df_29_EYE.isnull(), cmap='viridis')\n",
    "plt.show()"
   ]
  },
  {
   "cell_type": "markdown",
   "id": "2a384902",
   "metadata": {
    "id": "b17906e7"
   },
   "source": [
    "# Notes & Observations\n",
    "\n",
    "- We observe many **null** (or missing) values in the `QuestionKey` columns.\n",
    "- The nulls in the `QuestionKey` column may not represent “true” nulls. Rather, they follow interval patterns, suggesting that during those periods no question was displayed.\n",
    "- These missing values in `QuestionKey` require additional investigation and context-aware handling."
   ]
  },
  {
   "cell_type": "code",
   "execution_count": null,
   "id": "61c59eea",
   "metadata": {
    "id": "1113779e"
   },
   "outputs": [],
   "source": [
    "df_29_EYE['QuestionKey'].unique()"
   ]
  },
  {
   "cell_type": "code",
   "execution_count": null,
   "id": "d3577464",
   "metadata": {
    "id": "db0a93a2"
   },
   "outputs": [],
   "source": [
    "df_29_EYE['Timestamp'] = pd.to_datetime(df_29_EYE['Timestamp'])"
   ]
  },
  {
   "cell_type": "code",
   "execution_count": null,
   "id": "83fe8319",
   "metadata": {
    "id": "03d57b0a"
   },
   "outputs": [],
   "source": [
    "df_29_EYE.head(3)"
   ]
  },
  {
   "cell_type": "code",
   "execution_count": null,
   "id": "ccb06398",
   "metadata": {
    "id": "c0004029"
   },
   "outputs": [],
   "source": [
    "df_29_EYE['QuestionKey'] = df_29_EYE['QuestionKey'].fillna('None')"
   ]
  },
  {
   "cell_type": "code",
   "execution_count": null,
   "id": "d20d3642",
   "metadata": {
    "id": "dfb4729e"
   },
   "outputs": [],
   "source": [
    "df_29_EYE['QuestionKey'].value_counts()"
   ]
  },
  {
   "cell_type": "code",
   "execution_count": null,
   "id": "f3435e9f",
   "metadata": {
    "id": "9353c9d8"
   },
   "outputs": [],
   "source": [
    "plt.figure(figsize=(12,8))\n",
    "sns.heatmap(df_29_EYE.isnull(), cmap='viridis')\n",
    "plt.show()"
   ]
  },
  {
   "cell_type": "code",
   "execution_count": null,
   "id": "b9397fda",
   "metadata": {
    "id": "5c73d150"
   },
   "outputs": [],
   "source": [
    "df_29_EYE.isnull().sum()"
   ]
  },
  {
   "cell_type": "code",
   "execution_count": null,
   "id": "01190cd1",
   "metadata": {
    "id": "6c700142"
   },
   "outputs": [],
   "source": [
    "df_29_EYE.dropna(inplace=True)"
   ]
  },
  {
   "cell_type": "code",
   "execution_count": null,
   "id": "bc879bd6",
   "metadata": {
    "id": "90a604ce"
   },
   "outputs": [],
   "source": [
    "df_29_EYE.head()"
   ]
  },
  {
   "cell_type": "code",
   "execution_count": null,
   "id": "f9fc0762",
   "metadata": {
    "id": "a43a4283"
   },
   "outputs": [],
   "source": [
    "df_29_EYE['Row'].unique()"
   ]
  },
  {
   "cell_type": "code",
   "execution_count": null,
   "id": "4529c298",
   "metadata": {
    "id": "f66566f9"
   },
   "outputs": [],
   "source": [
    "plt.figure(figsize=(8,6))\n",
    "sns.histplot(df_29_EYE['Row'])\n",
    "plt.show()"
   ]
  },
  {
   "cell_type": "markdown",
   "id": "2a325391",
   "metadata": {
    "id": "5ddf40fd"
   },
   "source": [
    "# Notes & Observations\n",
    "\n",
    "- The `Row` column appears to be a simple row index and does not provide meaningful information relevant to the eye-tracking data itself. Therefore, it can be dropped."
   ]
  },
  {
   "cell_type": "code",
   "execution_count": null,
   "id": "b782a673",
   "metadata": {
    "id": "5aee4404"
   },
   "outputs": [],
   "source": [
    "df_29_EYE.drop('Row', axis=1, inplace=True)"
   ]
  },
  {
   "cell_type": "code",
   "execution_count": null,
   "id": "279fe544",
   "metadata": {
    "id": "827f3274"
   },
   "outputs": [],
   "source": [
    "df_29_EYE['ET_ValidityLeft'].unique()"
   ]
  },
  {
   "cell_type": "code",
   "execution_count": null,
   "id": "256c2145",
   "metadata": {
    "id": "1437751a"
   },
   "outputs": [],
   "source": [
    "df_29_EYE['ET_ValidityLeft'].value_counts()"
   ]
  },
  {
   "cell_type": "code",
   "execution_count": null,
   "id": "86bd63d3",
   "metadata": {
    "id": "d0a9ee4a"
   },
   "outputs": [],
   "source": [
    "df_29_EYE['ET_ValidityRight'].unique()"
   ]
  },
  {
   "cell_type": "code",
   "execution_count": null,
   "id": "99cf974b",
   "metadata": {
    "id": "55ddcc2b"
   },
   "outputs": [],
   "source": [
    "df_29_EYE['ET_ValidityRight'].value_counts()"
   ]
  },
  {
   "cell_type": "code",
   "execution_count": null,
   "id": "26a1aae4",
   "metadata": {
    "id": "faef00be"
   },
   "outputs": [],
   "source": [
    "plt.figure(figsize=(12, 6))\n",
    "\n",
    "plt.subplot(1, 2, 1)\n",
    "sns.barplot(x=df_29_EYE['ET_ValidityLeft'].value_counts().index, y=df_29_EYE['ET_ValidityLeft'].value_counts().values)\n",
    "plt.title('Count of ET_ValidityLeft')\n",
    "plt.xlabel('Validity')\n",
    "plt.ylabel('Count')\n",
    "\n",
    "\n",
    "plt.subplot(1, 2, 2)\n",
    "sns.barplot(x=df_29_EYE['ET_ValidityRight'].value_counts().index, y=df_29_EYE['ET_ValidityRight'].value_counts().values)\n",
    "plt.title('Count of ET_ValidityRight')\n",
    "plt.xlabel('Validity')\n",
    "plt.ylabel('Count')\n",
    "\n",
    "plt.tight_layout()\n",
    "plt.show()"
   ]
  },
  {
   "cell_type": "markdown",
   "id": "baea14ff",
   "metadata": {
    "id": "b43706ea"
   },
   "source": [
    "# Notes & Observations\n",
    "\n",
    "- The `ET_ValidityLeft` and `ET_ValidityRight` columns indicate the validity of the eye-tracking data for the left and right eye, respectively.\n",
    "- Based on the value counts and the bar plots, it appears that a value of `0.0` represents valid eye-tracking data, while a value of `4.0` represents invalid data.\n",
    "- Although the amount of invalid data is relatively small, removing these rows could introduce unwanted patterns or gaps in the time series data.\n",
    "- Therefore, we will keep the data and replace the value `4.0` with `1.0` in both `ET_ValidityLeft` and `ET_ValidityRight` columns. This will indicate to a machine learning model that the eye tracker had invalid data at those specific points in time while maintaining the integrity of the time series."
   ]
  },
  {
   "cell_type": "markdown",
   "id": "02bd5c97",
   "metadata": {
    "id": "e9e671b2"
   },
   "source": [
    "Define a mapping to convert validity values from `0.0` and `4.0` to `0` and `1`."
   ]
  },
  {
   "cell_type": "code",
   "execution_count": null,
   "id": "6dbb6d1b",
   "metadata": {
    "id": "08e7ed71"
   },
   "outputs": [],
   "source": [
    "validity_map = {4.0: 1.0, 0.0: 0.0}"
   ]
  },
  {
   "cell_type": "code",
   "execution_count": null,
   "id": "286a1190",
   "metadata": {
    "id": "0bba3ac0"
   },
   "outputs": [],
   "source": [
    "df_29_EYE['ET_ValidityLeft'] = df_29_EYE['ET_ValidityLeft'].map(validity_map).astype(np.int8)\n",
    "df_29_EYE['ET_ValidityRight'] = df_29_EYE['ET_ValidityRight'].map(validity_map).astype(np.int8)"
   ]
  },
  {
   "cell_type": "code",
   "execution_count": null,
   "id": "e0df1476",
   "metadata": {
    "id": "0ff3f16c"
   },
   "outputs": [],
   "source": [
    "df_29_EYE.head(3)"
   ]
  },
  {
   "cell_type": "code",
   "execution_count": null,
   "id": "5001e36a",
   "metadata": {
    "id": "32eb3225"
   },
   "outputs": [],
   "source": [
    "df_29_EYE.describe()"
   ]
  },
  {
   "cell_type": "code",
   "execution_count": null,
   "id": "d64981cd",
   "metadata": {
    "id": "c1e092e1"
   },
   "outputs": [],
   "source": [
    "df_29_EYE[df_29_EYE['ET_ValidityLeft'] == 1].shape"
   ]
  },
  {
   "cell_type": "code",
   "execution_count": null,
   "id": "925e1250",
   "metadata": {
    "id": "8ebfb0cc"
   },
   "outputs": [],
   "source": [
    "df_29_EYE[df_29_EYE['ET_ValidityRight'] == 1].shape"
   ]
  },
  {
   "cell_type": "code",
   "execution_count": null,
   "id": "8e3fd7ef",
   "metadata": {
    "id": "0d175df2"
   },
   "outputs": [],
   "source": [
    "df_29_EYE[df_29_EYE['ET_ValidityLeft'] == 1].shape[0] / df_29_EYE.shape[0]"
   ]
  },
  {
   "cell_type": "code",
   "execution_count": null,
   "id": "f22858fb",
   "metadata": {
    "id": "54cc0f9e"
   },
   "outputs": [],
   "source": [
    "df_29_EYE[df_29_EYE['ET_ValidityRight'] == 1].shape[0] / df_29_EYE.shape[0]"
   ]
  },
  {
   "cell_type": "code",
   "execution_count": null,
   "id": "edf80c4a",
   "metadata": {
    "id": "45c977c1"
   },
   "outputs": [],
   "source": [
    "plt.figure(figsize=(18, 8))\n",
    "\n",
    "plt.subplot(1, 2, 1)\n",
    "sns.heatmap(df_29_EYE == -1, cmap='viridis')\n",
    "plt.title('Heatmap of -1 Values')\n",
    "\n",
    "plt.subplot(1, 2, 2)\n",
    "sns.heatmap(df_29_EYE == 1, cmap='viridis')\n",
    "plt.title('Heatmap of 1 Values')\n",
    "\n",
    "plt.tight_layout()\n",
    "plt.show()"
   ]
  },
  {
   "cell_type": "code",
   "execution_count": null,
   "id": "808b65a9",
   "metadata": {
    "id": "3b98a13b"
   },
   "outputs": [],
   "source": [
    "df_29_EYE[df_29_EYE['ET_PupilLeft'] == -1].shape"
   ]
  },
  {
   "cell_type": "code",
   "execution_count": null,
   "id": "b78b4b26",
   "metadata": {
    "id": "a2f296f6"
   },
   "outputs": [],
   "source": [
    "df_29_EYE[df_29_EYE['ET_PupilRight'] == -1].shape"
   ]
  },
  {
   "cell_type": "code",
   "execution_count": null,
   "id": "928a87fb",
   "metadata": {
    "id": "42cff7eb"
   },
   "outputs": [],
   "source": [
    "df_29_EYE[df_29_EYE['ET_PupilLeft'] == -1].shape[0] / df_29_EYE.shape[0]"
   ]
  },
  {
   "cell_type": "code",
   "execution_count": null,
   "id": "25a499ad",
   "metadata": {
    "id": "83c97903"
   },
   "outputs": [],
   "source": [
    "df_29_EYE[df_29_EYE['ET_PupilRight'] == -1].shape[0] / df_29_EYE.shape[0]"
   ]
  },
  {
   "cell_type": "code",
   "execution_count": null,
   "id": "09c562de",
   "metadata": {
    "id": "6e176d63"
   },
   "outputs": [],
   "source": [
    "plt.figure(figsize=(18, 8))\n",
    "\n",
    "plt.subplot(1, 2, 1)\n",
    "sns.heatmap(df_29_EYE[df_29_EYE['ET_ValidityLeft'] == 1] == -1, cmap='viridis')\n",
    "plt.title('Heatmap of -1 Values')\n",
    "\n",
    "plt.subplot(1, 2, 2)\n",
    "sns.heatmap(df_29_EYE[df_29_EYE['ET_ValidityRight'] == 1] == -1, cmap='viridis')\n",
    "plt.title('Heatmap of -1 Values')\n",
    "\n",
    "plt.tight_layout()\n",
    "plt.show()"
   ]
  },
  {
   "cell_type": "markdown",
   "id": "5231e6cf",
   "metadata": {
    "id": "fff8db39"
   },
   "source": [
    "# Notes & Observations\n",
    "\n",
    "- The heatmaps reveal the distribution of -1 values across different columns.\n",
    "- It is evident that the `-1` values are not randomly scattered but appear in specific columns, notably `ET_GazeLeftx`, `ET_GazeLefty`, `ET_GazeRightx`, `ET_GazeRighty`, `ET_PupilLeft`, `ET_PupilRight`, `ET_DistanceLeft`, `ET_DistanceRight`, `ET_CameraLeftX`, `ET_CameraLeftY`, `ET_CameraRightX`, and `ET_CameraRightY`.\n",
    "- These `-1` values often coincide with instances where `ET_ValidityLeft` or `ET_ValidityRight` is 1, indicating invalid eye-tracking data. This suggests that `-1` is used as a placeholder for missing or invalid measurements in these columns when the eye tracker is not providing valid data for a particular eye.\n",
    "- Given that over 70% of the data in the `ET_PupilLeft` and `ET_PupilRight` columns is marked as invalid (-1), so instead of dropping them we can create new feature for both the `ET_PupilLeft` and `ET_PupilRight` to represent which row consist invalid `ET_PupilLeft` and `ET_PupilRight` data"
   ]
  },
  {
   "cell_type": "code",
   "execution_count": null,
   "id": "39fee4d9",
   "metadata": {
    "id": "cf7437aa"
   },
   "outputs": [],
   "source": [
    "pupil_validity = {-1: 1 }"
   ]
  },
  {
   "cell_type": "code",
   "execution_count": null,
   "id": "c9807777",
   "metadata": {
    "id": "989b113d"
   },
   "outputs": [],
   "source": [
    "df_29_EYE['ET_PupilLeft_validity'] = df_29_EYE['ET_PupilLeft'].map(pupil_validity)"
   ]
  },
  {
   "cell_type": "code",
   "execution_count": null,
   "id": "e0a54d98",
   "metadata": {
    "id": "9ecdfbc0"
   },
   "outputs": [],
   "source": [
    "df_29_EYE['ET_PupilRight_validity'] = df_29_EYE['ET_PupilRight'].map(pupil_validity)"
   ]
  },
  {
   "cell_type": "code",
   "execution_count": null,
   "id": "3c4b69b8",
   "metadata": {
    "id": "7f5d2b28"
   },
   "outputs": [],
   "source": [
    "df_29_EYE[['ET_PupilLeft_validity', 'ET_PupilRight_validity']].head()"
   ]
  },
  {
   "cell_type": "code",
   "execution_count": null,
   "id": "10895c76",
   "metadata": {
    "id": "6a86c472"
   },
   "outputs": [],
   "source": [
    "df_29_EYE[['ET_PupilLeft_validity', 'ET_PupilRight_validity']].isnull().sum()"
   ]
  },
  {
   "cell_type": "code",
   "execution_count": null,
   "id": "ef325bbf",
   "metadata": {
    "id": "9121e4a8"
   },
   "outputs": [],
   "source": [
    "plt.figure(figsize=(18, 8))\n",
    "sns.heatmap(df_29_EYE[['ET_PupilLeft_validity', 'ET_PupilRight_validity']].isnull(), cmap='viridis')\n",
    "plt.show()"
   ]
  },
  {
   "cell_type": "code",
   "execution_count": null,
   "id": "9f2cd447",
   "metadata": {
    "id": "613a230a"
   },
   "outputs": [],
   "source": [
    "df_29_EYE['ET_PupilLeft_validity'] = df_29_EYE['ET_PupilLeft_validity'].fillna(0)"
   ]
  },
  {
   "cell_type": "code",
   "execution_count": null,
   "id": "f87a03c2",
   "metadata": {
    "id": "89ae7d3f"
   },
   "outputs": [],
   "source": [
    "df_29_EYE['ET_PupilRight_validity'] = df_29_EYE['ET_PupilRight_validity'].fillna(0)"
   ]
  },
  {
   "cell_type": "code",
   "execution_count": null,
   "id": "b071ceba",
   "metadata": {
    "id": "a2c39f03"
   },
   "outputs": [],
   "source": [
    "df_29_EYE[['ET_PupilLeft_validity', 'ET_PupilRight_validity']].head()"
   ]
  },
  {
   "cell_type": "code",
   "execution_count": null,
   "id": "7f26e0ab",
   "metadata": {
    "id": "6e9c2645"
   },
   "outputs": [],
   "source": [
    "plt.figure(figsize=(18, 8))\n",
    "sns.heatmap(df_29_EYE[['ET_PupilLeft_validity', 'ET_PupilRight_validity']].isnull(), cmap='viridis')\n",
    "plt.show()"
   ]
  },
  {
   "cell_type": "code",
   "execution_count": null,
   "id": "f73e744b",
   "metadata": {
    "id": "7e52da92"
   },
   "outputs": [],
   "source": [
    "df_29_EYE.head()"
   ]
  },
  {
   "cell_type": "code",
   "execution_count": null,
   "id": "e51a1008",
   "metadata": {
    "id": "1cefd42d"
   },
   "outputs": [],
   "source": [
    "plt.figure(figsize=(18, 8))\n",
    "\n",
    "plt.subplot(1, 2, 1)\n",
    "sns.heatmap(df_29_EYE == -1, cmap='viridis')\n",
    "plt.title('Heatmap of -1 Values')\n",
    "\n",
    "plt.subplot(1, 2, 2)\n",
    "sns.heatmap(df_29_EYE == 1, cmap='viridis')\n",
    "plt.title('Heatmap of -1 Values')\n",
    "\n",
    "plt.tight_layout()\n",
    "plt.show()"
   ]
  },
  {
   "cell_type": "code",
   "execution_count": null,
   "id": "9a0f0ca7",
   "metadata": {
    "id": "dcf38f27"
   },
   "outputs": [],
   "source": [
    "valid_left_ratio  = 1 - df_29_EYE['ET_ValidityLeft'].mean()"
   ]
  },
  {
   "cell_type": "code",
   "execution_count": null,
   "id": "e79765dc",
   "metadata": {
    "id": "2aea00ec"
   },
   "outputs": [],
   "source": [
    "valid_left_ratio"
   ]
  },
  {
   "cell_type": "code",
   "execution_count": null,
   "id": "6fa9062e",
   "metadata": {
    "id": "19ac306c"
   },
   "outputs": [],
   "source": [
    "valid_right_ratio = 1 - df_29_EYE['ET_ValidityRight'].mean()"
   ]
  },
  {
   "cell_type": "code",
   "execution_count": null,
   "id": "eaa3f223",
   "metadata": {
    "id": "4f0aa48e"
   },
   "outputs": [],
   "source": [
    "valid_right_ratio"
   ]
  },
  {
   "cell_type": "code",
   "execution_count": null,
   "id": "6fe99a75",
   "metadata": {
    "id": "a000b670"
   },
   "outputs": [],
   "source": [
    "df_29_EYE['ET_PupilLeft_validity'] = df_29_EYE['ET_PupilLeft_validity'].astype(np.int8)\n",
    "df_29_EYE['ET_PupilRight_validity'] = df_29_EYE['ET_PupilRight_validity'].astype(np.int8)"
   ]
  },
  {
   "cell_type": "markdown",
   "id": "f0d101c1",
   "metadata": {
    "id": "6acf6847"
   },
   "source": [
    "# Feature Engineering and Observations\n",
    "\n",
    "Based on the analysis of the data, we've created two new features, `ET_PupilLeft_validity` and `ET_PupilRight_validity`. These features indicate the validity of the pupil data for the left and right eyes, respectively, with a value of 1 representing invalid data (originally -1) and 0 representing valid data.\n",
    "\n",
    "The heatmaps above visually demonstrate the distribution of -1 and 1 values across the dataset. We observed that:\n",
    "- The `-1` values are concentrated in specific columns related to gaze, pupil size, distance, and camera position, suggesting they represent missing or invalid sensor readings.\n",
    "- The `1` values, after mapping from `4.0` in the original validity columns, indicate instances of invalid eye-tracking data.\n",
    "- The heatmaps also show a strong correlation between the `-1` values in the pupil columns and a validity of 1 in the newly created pupil validity features, confirming that -1 was used to mark invalid pupil data."
   ]
  },
  {
   "cell_type": "code",
   "execution_count": null,
   "id": "9c697695",
   "metadata": {
    "id": "de9f2594"
   },
   "outputs": [],
   "source": [
    "df_29_EYE.head()"
   ]
  },
  {
   "cell_type": "code",
   "execution_count": null,
   "id": "fab1a527",
   "metadata": {
    "id": "bfa2e174"
   },
   "outputs": [],
   "source": [
    "# Select only the numeric columns for plotting histograms, excluding time-related columns\n",
    "numeric_cols = df_29_EYE.select_dtypes(include=np.number).columns\n",
    "cols_to_plot = [col for col in numeric_cols if col not in ['UnixTime']]\n",
    "\n",
    "# Calculate the number of rows and columns for the grid\n",
    "n_cols = 4  # You can adjust the number of columns as needed\n",
    "n_rows = (len(cols_to_plot) + n_cols - 1) // n_cols\n",
    "\n",
    "plt.figure(figsize=(n_cols * 5, n_rows * 4)) # Adjust figure size as needed\n",
    "\n",
    "for i, col in enumerate(cols_to_plot):\n",
    "    plt.subplot(n_rows, n_cols, i + 1)\n",
    "    sns.histplot(df_29_EYE[col], kde=True)\n",
    "    plt.title(f'Distribution of {col}')\n",
    "    plt.xlabel(col)\n",
    "    plt.ylabel('Frequency')\n",
    "\n",
    "plt.tight_layout()\n",
    "plt.show()"
   ]
  },
  {
   "cell_type": "markdown",
   "id": "8553fde1",
   "metadata": {
    "id": "8059766d"
   },
   "source": [
    "# Observations from Histograms\n",
    "\n",
    "The grid of histograms provides insights into the distribution of values for each numeric column in the dataset (excluding 'UnixTime'). Key observations include:\n",
    "\n",
    "- Several columns, such as `ET_GazeLeftx`, `ET_GazeLefty`, `ET_GazeRightx`, and `ET_GazeRighty`, show distributions that appear somewhat multimodal or skewed, suggesting variations in gaze patterns.\n",
    "- The `ET_PupilLeft` and `ET_PupilRight` histograms clearly show a peak at -1, confirming the presence of a significant number of invalid pupil readings.\n",
    "- `ET_TimeSignal` shows a relatively uniform distribution, as expected for a time-based signal.\n",
    "- `ET_DistanceLeft` and `ET_DistanceRight` appear to have distributions centered around certain values, with some outliers or variations.\n",
    "- The camera position columns (`ET_CameraLeftX`, `ET_CameraLeftY`, `ET_CameraRightX`, `ET_CameraRightY`) seem to have distributions concentrated within specific ranges, reflecting the camera's field of view.\n",
    "- The validity columns (`ET_ValidityLeft`, `ET_ValidityRight`, `ET_PupilLeft_validity`, `ET_PupilRight_validity`) show distributions dominated by 0, indicating that most of the data is considered valid after the mapping. The smaller peaks at 1 represent the instances of invalid data.\n",
    "\n",
    "These distributions highlight the need for appropriate handling of the -1 values and potential outliers in subsequent analysis or modeling steps."
   ]
  },
  {
   "cell_type": "code",
   "execution_count": null,
   "id": "ed10db43",
   "metadata": {
    "id": "cb65ae1e"
   },
   "outputs": [],
   "source": [
    "df_29_EYE.columns"
   ]
  },
  {
   "cell_type": "code",
   "execution_count": null,
   "id": "fa26e799",
   "metadata": {
    "id": "8cf2280c"
   },
   "outputs": [],
   "source": [
    "cols = ['ET_GazeLeftx', 'ET_GazeLefty',\n",
    "       'ET_GazeRightx', 'ET_GazeRighty', 'ET_PupilLeft', 'ET_PupilRight',\n",
    "       'ET_TimeSignal', 'ET_DistanceLeft', 'ET_DistanceRight',\n",
    "       'ET_CameraLeftX', 'ET_CameraLeftY', 'ET_CameraRightX',\n",
    "       'ET_CameraRightY', 'ET_ValidityLeft', 'ET_ValidityRight',\n",
    "       'ET_PupilLeft_validity', 'ET_PupilRight_validity']"
   ]
  },
  {
   "cell_type": "code",
   "execution_count": null,
   "id": "a23208f4",
   "metadata": {
    "id": "85e45ea9"
   },
   "outputs": [],
   "source": [
    "from IPython.display import display, Markdown\n",
    "\n",
    "for col in cols:\n",
    "    # Add a markdown cell before each plot for better separation and labeling\n",
    "    display(Markdown(f'### {col} over Time'))\n",
    "    plt.figure(figsize=(16, 10))\n",
    "    plt.plot(df_29_EYE['Timestamp'], df_29_EYE[col])\n",
    "    plt.xlabel(\"Timestamp\") # Add x-axis label\n",
    "    plt.ylabel(col) # Add y-axis label\n",
    "    plt.show()"
   ]
  },
  {
   "cell_type": "markdown",
   "id": "87413769",
   "metadata": {
    "id": "f7ffd08f"
   },
   "source": [
    "# Observations from Time Series Plots\n",
    "\n",
    "The line plots showing various features against the `Timestamp` reveal the temporal patterns and fluctuations in the eye-tracking data. Key observations include:\n",
    "\n",
    "- **Gaze Coordinates (`ET_GazeLeftx`, `ET_GazeLefty`, `ET_GazeRightx`, `ET_GazeRighty`):** These plots show the changes in gaze position over time. We can observe periods of relatively stable gaze interspersed with rapid movements (saccades) and blinks or other events where the gaze data might be invalid (-1 values appear as gaps or spikes if not handled).\n",
    "- **Pupil Size (`ET_PupilLeft`, `ET_PupilRight`):** The pupil size plots show variations over time. The presence of many -1 values is evident as flat lines at the bottom of the plot, indicating periods where pupil data was not recorded or was invalid.\n",
    "- **Time Signal (`ET_TimeSignal`):** This plot shows a steady, increasing trend, as expected for a time-based signal.\n",
    "- **Distance and Camera Position (`ET_DistanceLeft`, `ET_DistanceRight`, `ET_CameraLeftX`, `ET_CameraLeftY`, `ET_CameraRightX`, `ET_CameraRightY`):** These plots show how the distance from the eye tracker and the camera positions change over time. Variations in these features can be related to head movements or changes in the user's position relative to the eye tracker.\n",
    "- **Validity (`ET_ValidityLeft`, `ET_ValidityRight`, `ET_PupilLeft_validity`, `ET_PupilRight_validity`):** These plots clearly show periods of invalid data (represented by 1) as spikes or plateaus, corresponding to instances where the eye tracker lost track of the eyes or the pupil data was marked as invalid.\n",
    "\n",
    "Analyzing these time series plots is crucial for understanding the dynamics of the eye-tracking data and identifying patterns or anomalies that may require further investigation or specific handling during subsequent analysis."
   ]
  },
  {
   "cell_type": "code",
   "execution_count": null,
   "id": "33ac4afc",
   "metadata": {
    "id": "cdd85f8c"
   },
   "outputs": [],
   "source": [
    "# Select only the numeric columns for plotting histograms, excluding time-related columns\n",
    "numeric_cols = df_29_EYE.select_dtypes(include=np.number).columns\n",
    "\n",
    "# Calculate the number of rows and columns for the grid\n",
    "n_cols = 4  # You can adjust the number of columns as needed\n",
    "n_rows = (len(numeric_cols) + n_cols - 1) // n_cols\n",
    "\n",
    "plt.figure(figsize=(n_cols * 5, n_rows * 4)) # Adjust figure size as needed\n",
    "\n",
    "for i, col in enumerate(numeric_cols):\n",
    "    plt.subplot(n_rows, n_cols, i + 1)\n",
    "    sns.boxplot(df_29_EYE[col])\n",
    "    plt.title(f'Boxplot of {col}')\n",
    "    plt.xlabel(col)\n",
    "\n",
    "plt.tight_layout()\n",
    "plt.show()"
   ]
  },
  {
   "cell_type": "markdown",
   "id": "0d1bdfaf",
   "metadata": {
    "id": "2cca19c5"
   },
   "source": [
    "# Observations from Boxplots and Handling -1 Values\n",
    "\n",
    "The boxplots provide a visual summary of the distribution and potential outliers for each numeric column. Key observations from the boxplots include:\n",
    "\n",
    "- The boxplots for columns like `ET_GazeLeftx`, `ET_GazeLefty`, `ET_GazeRightx`, `ET_GazeRighty`, `ET_PupilLeft`, `ET_PupilRight`, `ET_DistanceLeft`, `ET_DistanceRight`, `ET_CameraLeftX`, `ET_CameraLeftY`, `ET_CameraRightX`, and `ET_CameraRightY` clearly show the presence of -1 values as significant outliers, confirming our earlier observations from the heatmaps and histograms.\n",
    "- The boxplots for the validity columns (`ET_ValidityLeft`, `ET_ValidityRight`, `ET_PupilLeft_validity`, `ET_PupilRight_validity`) show the discrete nature of these features, with the majority of data points at 0 (valid) and a smaller number at 1 (invalid).\n",
    "\n",
    "Given the significant presence of -1 values, which represent invalid or missing data, especially in the pupil-related columns, we have decided to replace these -1 values with NaN to properly represent them as missing data. Subsequently, we will impute these missing values using the mean of each respective column. This approach helps to retain the data structure and allows for further analysis or modeling without the distortion caused by the -1 placeholders."
   ]
  },
  {
   "cell_type": "code",
   "execution_count": null,
   "id": "b43a148d",
   "metadata": {
    "id": "9217371b"
   },
   "outputs": [],
   "source": [
    "df_29_EYE.replace({-1: np.nan}, inplace=True)"
   ]
  },
  {
   "cell_type": "code",
   "execution_count": null,
   "id": "4adea258",
   "metadata": {
    "id": "8108fa01"
   },
   "outputs": [],
   "source": [
    "df_29_EYE[['ET_GazeLeftx', 'ET_GazeLefty',\n",
    "       'ET_GazeRightx', 'ET_GazeRighty', 'ET_PupilLeft', 'ET_PupilRight',\n",
    "       'ET_TimeSignal', 'ET_DistanceLeft', 'ET_DistanceRight',\n",
    "       'ET_CameraLeftX', 'ET_CameraLeftY', 'ET_CameraRightX',\n",
    "       'ET_CameraRightY', 'ET_ValidityLeft', 'ET_ValidityRight',\n",
    "       'ET_PupilLeft_validity', 'ET_PupilRight_validity']].mean()"
   ]
  },
  {
   "cell_type": "code",
   "execution_count": null,
   "id": "d15e7545",
   "metadata": {
    "id": "9b94fbce"
   },
   "outputs": [],
   "source": [
    "df_29_EYE[['ET_GazeLeftx', 'ET_GazeLefty',\n",
    "       'ET_GazeRightx', 'ET_GazeRighty', 'ET_PupilLeft', 'ET_PupilRight',\n",
    "       'ET_TimeSignal', 'ET_DistanceLeft', 'ET_DistanceRight',\n",
    "       'ET_CameraLeftX', 'ET_CameraLeftY', 'ET_CameraRightX',\n",
    "       'ET_CameraRightY', 'ET_ValidityLeft', 'ET_ValidityRight',\n",
    "       'ET_PupilLeft_validity', 'ET_PupilRight_validity']].median()"
   ]
  },
  {
   "cell_type": "code",
   "execution_count": null,
   "id": "f96d0e1c",
   "metadata": {
    "id": "ee1238c8"
   },
   "outputs": [],
   "source": [
    "numeric_cols = df_29_EYE.select_dtypes(include=np.number).columns\n",
    "\n",
    "for col in numeric_cols:\n",
    "    df_29_EYE[col] = df_29_EYE[col].fillna(df_29_EYE[col].mean())"
   ]
  },
  {
   "cell_type": "code",
   "execution_count": null,
   "id": "316829c2",
   "metadata": {
    "id": "b0bc522d"
   },
   "outputs": [],
   "source": [
    "plt.figure(figsize=(18, 8))\n",
    "\n",
    "plt.subplot(1, 2, 1)\n",
    "sns.heatmap(df_29_EYE.isnull(), cmap='viridis')\n",
    "plt.title('Heatmap of Missing Values After Imputation')\n",
    "\n",
    "plt.subplot(1, 2, 2)\n",
    "sns.heatmap(df_29_EYE == 1, cmap='viridis')\n",
    "plt.title('Heatmap of 1 Values')\n",
    "\n",
    "plt.tight_layout()\n",
    "plt.show()"
   ]
  },
  {
   "cell_type": "markdown",
   "id": "ccd33317",
   "metadata": {
    "id": "c0f1e10d"
   },
   "source": [
    "# Handling Missing Values (Imputation)\n",
    "\n",
    "As decided, we have replaced all the `-1` values with `NaN` to treat them as missing data. Subsequently, we have imputed these `NaN` values with the mean of their respective columns. The heatmap above, which was generated after the imputation, now shows no visible signs of `NaN` values, indicating that the imputation was successful."
   ]
  },
  {
   "cell_type": "code",
   "execution_count": null,
   "id": "c54fece2",
   "metadata": {
    "id": "2491c1da"
   },
   "outputs": [],
   "source": [
    "df_29_EYE.head()"
   ]
  },
  {
   "cell_type": "code",
   "execution_count": null,
   "id": "d8986ce3",
   "metadata": {
    "id": "64f04350"
   },
   "outputs": [],
   "source": [
    "# Select only the numeric columns for plotting histograms, excluding time-related columns\n",
    "numeric_cols = df_29_EYE.select_dtypes(include=np.number).columns\n",
    "cols_to_plot = [col for col in numeric_cols if col not in ['UnixTime']]\n",
    "\n",
    "# Calculate the number of rows and columns for the grid\n",
    "n_cols = 4  # You can adjust the number of columns as needed\n",
    "n_rows = (len(cols_to_plot) + n_cols - 1) // n_cols\n",
    "\n",
    "plt.figure(figsize=(n_cols * 5, n_rows * 4)) # Adjust figure size as needed\n",
    "\n",
    "for i, col in enumerate(cols_to_plot):\n",
    "    plt.subplot(n_rows, n_cols, i + 1)\n",
    "    sns.histplot(df_29_EYE[col], kde=True)\n",
    "    plt.title(f'Distribution of {col}')\n",
    "    plt.xlabel(col)\n",
    "    plt.ylabel('Frequency')\n",
    "\n",
    "plt.tight_layout()\n",
    "plt.show()"
   ]
  },
  {
   "cell_type": "markdown",
   "id": "203fbcff",
   "metadata": {
    "id": "e0c83f1c"
   },
   "source": [
    "# Observations from Histograms After Imputation\n",
    "\n",
    "The histograms generated after replacing the -1 values with the mean of each column show the distributions of the numeric features with the missing data handled. Key observations from these updated histograms include:\n",
    "\n",
    "- The distinct peaks at -1, which were prominent in the histograms for several columns (e.g., pupil size, gaze coordinates, distance, and camera position) before imputation, are now replaced by a peak at the mean of each respective column.\n",
    "- The distributions in many columns now appear more unimodal or show shifted modes compared to the original histograms.\n",
    "- The histograms for the validity columns still show their bimodal distributions with peaks at 0 and 1, as these were handled separately.\n",
    "\n",
    "These histograms provide an updated view of the data's distribution after handling the missing values, highlighting the impact of the imputation method on the data's characteristics."
   ]
  },
  {
   "cell_type": "code",
   "execution_count": null,
   "id": "2edcd14d",
   "metadata": {
    "id": "de0b2f65"
   },
   "outputs": [],
   "source": [
    "cols = ['ET_GazeLeftx', 'ET_GazeLefty',\n",
    "       'ET_GazeRightx', 'ET_GazeRighty', 'ET_PupilLeft', 'ET_PupilRight',\n",
    "       'ET_TimeSignal', 'ET_DistanceLeft', 'ET_DistanceRight',\n",
    "       'ET_CameraLeftX', 'ET_CameraLeftY', 'ET_CameraRightX',\n",
    "       'ET_CameraRightY', 'ET_ValidityLeft', 'ET_ValidityRight',\n",
    "       'ET_PupilLeft_validity', 'ET_PupilRight_validity']"
   ]
  },
  {
   "cell_type": "code",
   "execution_count": null,
   "id": "d9dd8121",
   "metadata": {
    "id": "4ddd4915"
   },
   "outputs": [],
   "source": [
    "for col in cols:\n",
    "    # Add a markdown cell before each plot for better separation and labeling\n",
    "    display(Markdown(f'### {col} over Time'))\n",
    "    plt.figure(figsize=(16, 10))\n",
    "    plt.plot(df_29_EYE['Timestamp'], df_29_EYE[col])\n",
    "    plt.xlabel(\"Timestamp\") # Add x-axis label\n",
    "    plt.ylabel(col) # Add y-axis label\n",
    "    plt.show()"
   ]
  },
  {
   "cell_type": "markdown",
   "id": "6b1aed36",
   "metadata": {
    "id": "0fb07abb"
   },
   "source": [
    "# Observations from Time Series Plots After Imputation\n",
    "\n",
    "The line plots generated after imputing the missing values with the mean show the temporal patterns of the features with the missing data handled. Key observations from these updated plots include:\n",
    "\n",
    "- The gaps or flat lines at -1, which were prominent in the plots for columns like gaze coordinates, pupil size, distance, and camera position, are now filled by lines at the mean value of the respective columns.\n",
    "- The plots for the validity columns remain the same as they were handled separately.\n",
    "- The `ET_TimeSignal` plot still shows a steady increasing trend, as expected."
   ]
  },
  {
   "cell_type": "code",
   "execution_count": null,
   "id": "d17439bb",
   "metadata": {
    "id": "c608fd95"
   },
   "outputs": [],
   "source": [
    "plt.figure(figsize=(16, 10))\n",
    "sns.heatmap(df_29_EYE.corr(numeric_only=True), cmap='YlGnBu', annot=True)\n",
    "plt.show()"
   ]
  },
  {
   "cell_type": "markdown",
   "id": "cdfdf482",
   "metadata": {
    "id": "82405ba6"
   },
   "source": [
    "# Observations from Correlation Heatmap\n",
    "\n",
    "The correlation heatmap provides a visual representation of the pairwise correlations between the numeric columns in the dataset. Key observations from the heatmap include:\n",
    "\n",
    "- **High Positive Correlations:** We observe strong positive correlations (values close to 1) between:\n",
    "  - `ET_GazeLeftx` and `ET_GazeRightx`: This is expected as the gaze positions of both eyes should be highly correlated when fixating on a point.\n",
    "  - `ET_GazeLefty` and `ET_GazeRighty`: Similar to the x-coordinates, the y-coordinates of gaze should also be highly correlated.\n",
    "  - `ET_PupilLeft` and `ET_PupilRight`: Pupil sizes of both eyes tend to change together in response to light and cognitive load.\n",
    "  - `ET_DistanceLeft` and `ET_DistanceRight`: The distance from the eye tracker to each eye should be highly correlated.\n",
    "  - `ET_CameraLeftX` and `ET_CameraRightX`, `ET_CameraLeftY` and `ET_CameraRightY`: The camera positions for both eyes are also expected to be highly correlated.\n",
    "  - `UnixTime` and `ET_TimeSignal`: As previously noted, these two columns are almost perfectly linearly correlated, indicating redundancy.\n",
    "  - `ET_ValidityLeft` and `ET_PupilLeft_validity`: There is a positive correlation, suggesting that when the overall left eye data is invalid, the left pupil data is also likely to be invalid.\n",
    "  - `ET_ValidityRight` and `ET_PupilRight_validity`: Similar to the left eye, there is a positive correlation between the overall right eye validity and the right pupil validity.\n",
    "- **Other Correlations:** We can also observe other varying degrees of correlations between different features, which can provide insights into the relationships between gaze behavior, pupil size, distance, and camera position. For example, there might be correlations between gaze coordinates and camera positions, reflecting head movements.\n",
    "- **Low or Near-Zero Correlations:** Columns with low or near-zero correlations are relatively independent of each other.\n",
    "\n",
    "Understanding these correlations is important for feature selection and for building models, as highly correlated features might indicate multicollinearity, while correlations between features can reveal underlying patterns in the data."
   ]
  },
  {
   "cell_type": "markdown",
   "id": "44ab04cc",
   "metadata": {
    "id": "1c413c3b"
   },
   "source": [
    "# Analysis of ET_TimeSignal and Decision to Drop\n",
    "\n",
    "As observed in the time series plot and confirmed by the correlation heatmap, the `ET_TimeSignal` column exhibits a near-perfect linear relationship with both the `Timestamp` and `UnixTime` columns. This strong correlation (close to 1) suggests that `ET_TimeSignal` is essentially redundant and likely represents another form of time recording or a signal directly derived from the timestamp.\n",
    "\n",
    "Including highly correlated features like this in a dataset can lead to issues such as multicollinearity in some statistical models, which can make it difficult to interpret the individual impact of each feature. Since the `Timestamp` column already provides the necessary temporal information, retaining `ET_TimeSignal` does not appear to add significant value for further analysis or modeling in most cases.\n",
    "\n",
    "Therefore, based on its high correlation and lack of unique insight, we will proceed to drop the `ET_TimeSignal` column to simplify the dataset and potentially improve the performance and interpretability of future analyses."
   ]
  },
  {
   "cell_type": "code",
   "execution_count": null,
   "id": "75a4633a",
   "metadata": {
    "id": "7c96e349"
   },
   "outputs": [],
   "source": [
    "df_29_EYE.drop('ET_TimeSignal', axis=1, inplace=True)"
   ]
  },
  {
   "cell_type": "code",
   "execution_count": null,
   "id": "2134af06",
   "metadata": {
    "id": "5845a61d"
   },
   "outputs": [],
   "source": [
    "plt.figure(figsize=(16, 10))\n",
    "sns.pairplot(df_29_EYE)\n",
    "plt.show()"
   ]
  },
  {
   "cell_type": "markdown",
   "id": "39ca9275",
   "metadata": {
    "id": "sMcHS8LIOGeT"
   },
   "source": [
    "# **30_EYE**"
   ]
  },
  {
   "cell_type": "code",
   "execution_count": null,
   "id": "945ad645",
   "metadata": {
    "id": "L2tJooyROWnM"
   },
   "outputs": [],
   "source": []
  },
  {
   "cell_type": "code",
   "execution_count": null,
   "id": "3dda03e7",
   "metadata": {
    "id": "6c647c4f"
   },
   "outputs": [],
   "source": [
    "df_30_EYE = pd.read_csv('data/STData/30/30_EYE.csv')"
   ]
  },
  {
   "cell_type": "code",
   "execution_count": null,
   "id": "043064e1",
   "metadata": {
    "id": "c229bba7"
   },
   "outputs": [],
   "source": [
    "df_30_EYE.head()"
   ]
  },
  {
   "cell_type": "code",
   "execution_count": null,
   "id": "87b1f785",
   "metadata": {
    "id": "0ec8e716"
   },
   "outputs": [],
   "source": [
    "df_30_EYE.shape"
   ]
  },
  {
   "cell_type": "code",
   "execution_count": null,
   "id": "23fe5276",
   "metadata": {
    "id": "43ba37eb"
   },
   "outputs": [],
   "source": [
    "df_30_EYE.columns"
   ]
  },
  {
   "cell_type": "code",
   "execution_count": null,
   "id": "11586ab8",
   "metadata": {
    "id": "19f68fb4"
   },
   "outputs": [],
   "source": [
    "df_30_EYE.info()"
   ]
  },
  {
   "cell_type": "code",
   "execution_count": null,
   "id": "6431c319",
   "metadata": {
    "id": "603369d7"
   },
   "outputs": [],
   "source": [
    "df_30_EYE.isnull().sum()"
   ]
  },
  {
   "cell_type": "code",
   "execution_count": null,
   "id": "1fad4164",
   "metadata": {
    "id": "874353e3"
   },
   "outputs": [],
   "source": [
    "plt.figure(figsize=(12,8))\n",
    "sns.heatmap(df_30_EYE.isnull(), cmap='viridis')\n",
    "plt.show()"
   ]
  },
  {
   "cell_type": "markdown",
   "id": "fa95ef7e",
   "metadata": {
    "id": "b17906e7"
   },
   "source": [
    "# Notes & Observations\n",
    "\n",
    "- We observe many **null** (or missing) values in the `QuestionKey` columns.\n",
    "- The nulls in the `QuestionKey` column may not represent “true” nulls. Rather, they follow interval patterns, suggesting that during those periods no question was displayed.\n",
    "- These missing values in `QuestionKey` require additional investigation and context-aware handling."
   ]
  },
  {
   "cell_type": "code",
   "execution_count": null,
   "id": "187971f6",
   "metadata": {
    "id": "1113779e"
   },
   "outputs": [],
   "source": [
    "df_30_EYE['QuestionKey'].unique()"
   ]
  },
  {
   "cell_type": "code",
   "execution_count": null,
   "id": "d83b2d30",
   "metadata": {
    "id": "db0a93a2"
   },
   "outputs": [],
   "source": [
    "df_30_EYE['Timestamp'] = pd.to_datetime(df_30_EYE['Timestamp'])"
   ]
  },
  {
   "cell_type": "code",
   "execution_count": null,
   "id": "5642c128",
   "metadata": {
    "id": "03d57b0a"
   },
   "outputs": [],
   "source": [
    "df_30_EYE.head(3)"
   ]
  },
  {
   "cell_type": "code",
   "execution_count": null,
   "id": "12958282",
   "metadata": {
    "id": "c0004029"
   },
   "outputs": [],
   "source": [
    "df_30_EYE['QuestionKey'] = df_30_EYE['QuestionKey'].fillna('None')"
   ]
  },
  {
   "cell_type": "code",
   "execution_count": null,
   "id": "7871264c",
   "metadata": {
    "id": "dfb4729e"
   },
   "outputs": [],
   "source": [
    "df_30_EYE['QuestionKey'].value_counts()"
   ]
  },
  {
   "cell_type": "code",
   "execution_count": null,
   "id": "3e5ed6e8",
   "metadata": {
    "id": "9353c9d8"
   },
   "outputs": [],
   "source": [
    "plt.figure(figsize=(12,8))\n",
    "sns.heatmap(df_30_EYE.isnull(), cmap='viridis')\n",
    "plt.show()"
   ]
  },
  {
   "cell_type": "code",
   "execution_count": null,
   "id": "22ac8c39",
   "metadata": {
    "id": "5c73d150"
   },
   "outputs": [],
   "source": [
    "df_30_EYE.isnull().sum()"
   ]
  },
  {
   "cell_type": "code",
   "execution_count": null,
   "id": "108ded83",
   "metadata": {
    "id": "6c700142"
   },
   "outputs": [],
   "source": [
    "df_30_EYE.dropna(inplace=True)"
   ]
  },
  {
   "cell_type": "code",
   "execution_count": null,
   "id": "29d6b928",
   "metadata": {
    "id": "90a604ce"
   },
   "outputs": [],
   "source": [
    "df_30_EYE.head()"
   ]
  },
  {
   "cell_type": "code",
   "execution_count": null,
   "id": "618caaec",
   "metadata": {
    "id": "a43a4283"
   },
   "outputs": [],
   "source": [
    "df_30_EYE['Row'].unique()"
   ]
  },
  {
   "cell_type": "code",
   "execution_count": null,
   "id": "dec44e8e",
   "metadata": {
    "id": "f66566f9"
   },
   "outputs": [],
   "source": [
    "plt.figure(figsize=(8,6))\n",
    "sns.histplot(df_30_EYE['Row'])\n",
    "plt.show()"
   ]
  },
  {
   "cell_type": "markdown",
   "id": "18f6b9f5",
   "metadata": {
    "id": "5ddf40fd"
   },
   "source": [
    "# Notes & Observations\n",
    "\n",
    "- The `Row` column appears to be a simple row index and does not provide meaningful information relevant to the eye-tracking data itself. Therefore, it can be dropped."
   ]
  },
  {
   "cell_type": "code",
   "execution_count": null,
   "id": "2652c55b",
   "metadata": {
    "id": "5aee4404"
   },
   "outputs": [],
   "source": [
    "df_30_EYE.drop('Row', axis=1, inplace=True)"
   ]
  },
  {
   "cell_type": "code",
   "execution_count": null,
   "id": "ea24b2c5",
   "metadata": {
    "id": "827f3274"
   },
   "outputs": [],
   "source": [
    "df_30_EYE['ET_ValidityLeft'].unique()"
   ]
  },
  {
   "cell_type": "code",
   "execution_count": null,
   "id": "d72225de",
   "metadata": {
    "id": "1437751a"
   },
   "outputs": [],
   "source": [
    "df_30_EYE['ET_ValidityLeft'].value_counts()"
   ]
  },
  {
   "cell_type": "code",
   "execution_count": null,
   "id": "49836814",
   "metadata": {
    "id": "d0a9ee4a"
   },
   "outputs": [],
   "source": [
    "df_30_EYE['ET_ValidityRight'].unique()"
   ]
  },
  {
   "cell_type": "code",
   "execution_count": null,
   "id": "d2ed2209",
   "metadata": {
    "id": "55ddcc2b"
   },
   "outputs": [],
   "source": [
    "df_30_EYE['ET_ValidityRight'].value_counts()"
   ]
  },
  {
   "cell_type": "code",
   "execution_count": null,
   "id": "db413b30",
   "metadata": {
    "id": "faef00be"
   },
   "outputs": [],
   "source": [
    "plt.figure(figsize=(12, 6))\n",
    "\n",
    "plt.subplot(1, 2, 1)\n",
    "sns.barplot(x=df_30_EYE['ET_ValidityLeft'].value_counts().index, y=df_30_EYE['ET_ValidityLeft'].value_counts().values)\n",
    "plt.title('Count of ET_ValidityLeft')\n",
    "plt.xlabel('Validity')\n",
    "plt.ylabel('Count')\n",
    "\n",
    "\n",
    "plt.subplot(1, 2, 2)\n",
    "sns.barplot(x=df_30_EYE['ET_ValidityRight'].value_counts().index, y=df_30_EYE['ET_ValidityRight'].value_counts().values)\n",
    "plt.title('Count of ET_ValidityRight')\n",
    "plt.xlabel('Validity')\n",
    "plt.ylabel('Count')\n",
    "\n",
    "plt.tight_layout()\n",
    "plt.show()"
   ]
  },
  {
   "cell_type": "markdown",
   "id": "d1c8a265",
   "metadata": {
    "id": "b43706ea"
   },
   "source": [
    "# Notes & Observations\n",
    "\n",
    "- The `ET_ValidityLeft` and `ET_ValidityRight` columns indicate the validity of the eye-tracking data for the left and right eye, respectively.\n",
    "- Based on the value counts and the bar plots, it appears that a value of `0.0` represents valid eye-tracking data, while a value of `4.0` represents invalid data.\n",
    "- Although the amount of invalid data is relatively small, removing these rows could introduce unwanted patterns or gaps in the time series data.\n",
    "- Therefore, we will keep the data and replace the value `4.0` with `1.0` in both `ET_ValidityLeft` and `ET_ValidityRight` columns. This will indicate to a machine learning model that the eye tracker had invalid data at those specific points in time while maintaining the integrity of the time series."
   ]
  },
  {
   "cell_type": "markdown",
   "id": "8c1bf2eb",
   "metadata": {
    "id": "e9e671b2"
   },
   "source": [
    "Define a mapping to convert validity values from `0.0` and `4.0` to `0` and `1`."
   ]
  },
  {
   "cell_type": "code",
   "execution_count": null,
   "id": "75455b22",
   "metadata": {
    "id": "08e7ed71"
   },
   "outputs": [],
   "source": [
    "validity_map = {4.0: 1.0, 0.0: 0.0}"
   ]
  },
  {
   "cell_type": "code",
   "execution_count": null,
   "id": "03c9072b",
   "metadata": {
    "id": "0bba3ac0"
   },
   "outputs": [],
   "source": [
    "df_30_EYE['ET_ValidityLeft'] = df_30_EYE['ET_ValidityLeft'].map(validity_map).astype(np.int8)\n",
    "df_30_EYE['ET_ValidityRight'] = df_30_EYE['ET_ValidityRight'].map(validity_map).astype(np.int8)"
   ]
  },
  {
   "cell_type": "code",
   "execution_count": null,
   "id": "3e2ea3d3",
   "metadata": {
    "id": "0ff3f16c"
   },
   "outputs": [],
   "source": [
    "df_30_EYE.head(3)"
   ]
  },
  {
   "cell_type": "code",
   "execution_count": null,
   "id": "43cedfde",
   "metadata": {
    "id": "32eb3225"
   },
   "outputs": [],
   "source": [
    "df_30_EYE.describe()"
   ]
  },
  {
   "cell_type": "code",
   "execution_count": null,
   "id": "e784228e",
   "metadata": {
    "id": "c1e092e1"
   },
   "outputs": [],
   "source": [
    "df_30_EYE[df_30_EYE['ET_ValidityLeft'] == 1].shape"
   ]
  },
  {
   "cell_type": "code",
   "execution_count": null,
   "id": "4513a412",
   "metadata": {
    "id": "8ebfb0cc"
   },
   "outputs": [],
   "source": [
    "df_30_EYE[df_30_EYE['ET_ValidityRight'] == 1].shape"
   ]
  },
  {
   "cell_type": "code",
   "execution_count": null,
   "id": "04333f83",
   "metadata": {
    "id": "0d175df2"
   },
   "outputs": [],
   "source": [
    "df_30_EYE[df_30_EYE['ET_ValidityLeft'] == 1].shape[0] / df_30_EYE.shape[0]"
   ]
  },
  {
   "cell_type": "code",
   "execution_count": null,
   "id": "a206e0b0",
   "metadata": {
    "id": "54cc0f9e"
   },
   "outputs": [],
   "source": [
    "df_30_EYE[df_30_EYE['ET_ValidityRight'] == 1].shape[0] / df_30_EYE.shape[0]"
   ]
  },
  {
   "cell_type": "code",
   "execution_count": null,
   "id": "643f5496",
   "metadata": {
    "id": "45c977c1"
   },
   "outputs": [],
   "source": [
    "plt.figure(figsize=(18, 8))\n",
    "\n",
    "plt.subplot(1, 2, 1)\n",
    "sns.heatmap(df_30_EYE == -1, cmap='viridis')\n",
    "plt.title('Heatmap of -1 Values')\n",
    "\n",
    "plt.subplot(1, 2, 2)\n",
    "sns.heatmap(df_30_EYE == 1, cmap='viridis')\n",
    "plt.title('Heatmap of 1 Values')\n",
    "\n",
    "plt.tight_layout()\n",
    "plt.show()"
   ]
  },
  {
   "cell_type": "code",
   "execution_count": null,
   "id": "09483563",
   "metadata": {
    "id": "3b98a13b"
   },
   "outputs": [],
   "source": [
    "df_30_EYE[df_30_EYE['ET_PupilLeft'] == -1].shape"
   ]
  },
  {
   "cell_type": "code",
   "execution_count": null,
   "id": "870a6c29",
   "metadata": {
    "id": "a2f296f6"
   },
   "outputs": [],
   "source": [
    "df_30_EYE[df_30_EYE['ET_PupilRight'] == -1].shape"
   ]
  },
  {
   "cell_type": "code",
   "execution_count": null,
   "id": "92fc38aa",
   "metadata": {
    "id": "42cff7eb"
   },
   "outputs": [],
   "source": [
    "df_30_EYE[df_30_EYE['ET_PupilLeft'] == -1].shape[0] / df_30_EYE.shape[0]"
   ]
  },
  {
   "cell_type": "code",
   "execution_count": null,
   "id": "60d3b058",
   "metadata": {
    "id": "83c97903"
   },
   "outputs": [],
   "source": [
    "df_30_EYE[df_30_EYE['ET_PupilRight'] == -1].shape[0] / df_30_EYE.shape[0]"
   ]
  },
  {
   "cell_type": "code",
   "execution_count": null,
   "id": "fca9cdff",
   "metadata": {
    "id": "6e176d63"
   },
   "outputs": [],
   "source": [
    "plt.figure(figsize=(18, 8))\n",
    "\n",
    "plt.subplot(1, 2, 1)\n",
    "sns.heatmap(df_30_EYE[df_30_EYE['ET_ValidityLeft'] == 1] == -1, cmap='viridis')\n",
    "plt.title('Heatmap of -1 Values')\n",
    "\n",
    "plt.subplot(1, 2, 2)\n",
    "sns.heatmap(df_30_EYE[df_30_EYE['ET_ValidityRight'] == 1] == -1, cmap='viridis')\n",
    "plt.title('Heatmap of -1 Values')\n",
    "\n",
    "plt.tight_layout()\n",
    "plt.show()"
   ]
  },
  {
   "cell_type": "markdown",
   "id": "322fe1c5",
   "metadata": {
    "id": "fff8db39"
   },
   "source": [
    "# Notes & Observations\n",
    "\n",
    "- The heatmaps reveal the distribution of -1 values across different columns.\n",
    "- It is evident that the `-1` values are not randomly scattered but appear in specific columns, notably `ET_GazeLeftx`, `ET_GazeLefty`, `ET_GazeRightx`, `ET_GazeRighty`, `ET_PupilLeft`, `ET_PupilRight`, `ET_DistanceLeft`, `ET_DistanceRight`, `ET_CameraLeftX`, `ET_CameraLeftY`, `ET_CameraRightX`, and `ET_CameraRightY`.\n",
    "- These `-1` values often coincide with instances where `ET_ValidityLeft` or `ET_ValidityRight` is 1, indicating invalid eye-tracking data. This suggests that `-1` is used as a placeholder for missing or invalid measurements in these columns when the eye tracker is not providing valid data for a particular eye.\n",
    "- Given that over 70% of the data in the `ET_PupilLeft` and `ET_PupilRight` columns is marked as invalid (-1), so instead of dropping them we can create new feature for both the `ET_PupilLeft` and `ET_PupilRight` to represent which row consist invalid `ET_PupilLeft` and `ET_PupilRight` data"
   ]
  },
  {
   "cell_type": "code",
   "execution_count": null,
   "id": "e38b8289",
   "metadata": {
    "id": "cf7437aa"
   },
   "outputs": [],
   "source": [
    "pupil_validity = {-1: 1 }"
   ]
  },
  {
   "cell_type": "code",
   "execution_count": null,
   "id": "7ac9c920",
   "metadata": {
    "id": "989b113d"
   },
   "outputs": [],
   "source": [
    "df_30_EYE['ET_PupilLeft_validity'] = df_30_EYE['ET_PupilLeft'].map(pupil_validity)"
   ]
  },
  {
   "cell_type": "code",
   "execution_count": null,
   "id": "3b8ce3ac",
   "metadata": {
    "id": "9ecdfbc0"
   },
   "outputs": [],
   "source": [
    "df_30_EYE['ET_PupilRight_validity'] = df_30_EYE['ET_PupilRight'].map(pupil_validity)"
   ]
  },
  {
   "cell_type": "code",
   "execution_count": null,
   "id": "2dc3da15",
   "metadata": {
    "id": "7f5d2b28"
   },
   "outputs": [],
   "source": [
    "df_30_EYE[['ET_PupilLeft_validity', 'ET_PupilRight_validity']].head()"
   ]
  },
  {
   "cell_type": "code",
   "execution_count": null,
   "id": "47600047",
   "metadata": {
    "id": "6a86c472"
   },
   "outputs": [],
   "source": [
    "df_30_EYE[['ET_PupilLeft_validity', 'ET_PupilRight_validity']].isnull().sum()"
   ]
  },
  {
   "cell_type": "code",
   "execution_count": null,
   "id": "0737f44f",
   "metadata": {
    "id": "9121e4a8"
   },
   "outputs": [],
   "source": [
    "plt.figure(figsize=(18, 8))\n",
    "sns.heatmap(df_30_EYE[['ET_PupilLeft_validity', 'ET_PupilRight_validity']].isnull(), cmap='viridis')\n",
    "plt.show()"
   ]
  },
  {
   "cell_type": "code",
   "execution_count": null,
   "id": "823967cb",
   "metadata": {
    "id": "613a230a"
   },
   "outputs": [],
   "source": [
    "df_30_EYE['ET_PupilLeft_validity'] = df_30_EYE['ET_PupilLeft_validity'].fillna(0)"
   ]
  },
  {
   "cell_type": "code",
   "execution_count": null,
   "id": "69990710",
   "metadata": {
    "id": "89ae7d3f"
   },
   "outputs": [],
   "source": [
    "df_30_EYE['ET_PupilRight_validity'] = df_30_EYE['ET_PupilRight_validity'].fillna(0)"
   ]
  },
  {
   "cell_type": "code",
   "execution_count": null,
   "id": "e55ae1ff",
   "metadata": {
    "id": "a2c39f03"
   },
   "outputs": [],
   "source": [
    "df_30_EYE[['ET_PupilLeft_validity', 'ET_PupilRight_validity']].head()"
   ]
  },
  {
   "cell_type": "code",
   "execution_count": null,
   "id": "3c937612",
   "metadata": {
    "id": "6e9c2645"
   },
   "outputs": [],
   "source": [
    "plt.figure(figsize=(18, 8))\n",
    "sns.heatmap(df_30_EYE[['ET_PupilLeft_validity', 'ET_PupilRight_validity']].isnull(), cmap='viridis')\n",
    "plt.show()"
   ]
  },
  {
   "cell_type": "code",
   "execution_count": null,
   "id": "94b03243",
   "metadata": {
    "id": "7e52da92"
   },
   "outputs": [],
   "source": [
    "df_30_EYE.head()"
   ]
  },
  {
   "cell_type": "code",
   "execution_count": null,
   "id": "f96edd10",
   "metadata": {
    "id": "1cefd42d"
   },
   "outputs": [],
   "source": [
    "plt.figure(figsize=(18, 8))\n",
    "\n",
    "plt.subplot(1, 2, 1)\n",
    "sns.heatmap(df_30_EYE == -1, cmap='viridis')\n",
    "plt.title('Heatmap of -1 Values')\n",
    "\n",
    "plt.subplot(1, 2, 2)\n",
    "sns.heatmap(df_30_EYE == 1, cmap='viridis')\n",
    "plt.title('Heatmap of -1 Values')\n",
    "\n",
    "plt.tight_layout()\n",
    "plt.show()"
   ]
  },
  {
   "cell_type": "code",
   "execution_count": null,
   "id": "3c3970e4",
   "metadata": {
    "id": "dcf38f27"
   },
   "outputs": [],
   "source": [
    "valid_left_ratio  = 1 - df_30_EYE['ET_ValidityLeft'].mean()"
   ]
  },
  {
   "cell_type": "code",
   "execution_count": null,
   "id": "14d52da4",
   "metadata": {
    "id": "2aea00ec"
   },
   "outputs": [],
   "source": [
    "valid_left_ratio"
   ]
  },
  {
   "cell_type": "code",
   "execution_count": null,
   "id": "80fe1ba1",
   "metadata": {
    "id": "19ac306c"
   },
   "outputs": [],
   "source": [
    "valid_right_ratio = 1 - df_30_EYE['ET_ValidityRight'].mean()"
   ]
  },
  {
   "cell_type": "code",
   "execution_count": null,
   "id": "f3aa7aa9",
   "metadata": {
    "id": "4f0aa48e"
   },
   "outputs": [],
   "source": [
    "valid_right_ratio"
   ]
  },
  {
   "cell_type": "code",
   "execution_count": null,
   "id": "733fc552",
   "metadata": {
    "id": "a000b670"
   },
   "outputs": [],
   "source": [
    "df_30_EYE['ET_PupilLeft_validity'] = df_30_EYE['ET_PupilLeft_validity'].astype(np.int8)\n",
    "df_30_EYE['ET_PupilRight_validity'] = df_30_EYE['ET_PupilRight_validity'].astype(np.int8)"
   ]
  },
  {
   "cell_type": "markdown",
   "id": "69d70dec",
   "metadata": {
    "id": "6acf6847"
   },
   "source": [
    "# Feature Engineering and Observations\n",
    "\n",
    "Based on the analysis of the data, we've created two new features, `ET_PupilLeft_validity` and `ET_PupilRight_validity`. These features indicate the validity of the pupil data for the left and right eyes, respectively, with a value of 1 representing invalid data (originally -1) and 0 representing valid data.\n",
    "\n",
    "The heatmaps above visually demonstrate the distribution of -1 and 1 values across the dataset. We observed that:\n",
    "- The `-1` values are concentrated in specific columns related to gaze, pupil size, distance, and camera position, suggesting they represent missing or invalid sensor readings.\n",
    "- The `1` values, after mapping from `4.0` in the original validity columns, indicate instances of invalid eye-tracking data.\n",
    "- The heatmaps also show a strong correlation between the `-1` values in the pupil columns and a validity of 1 in the newly created pupil validity features, confirming that -1 was used to mark invalid pupil data."
   ]
  },
  {
   "cell_type": "code",
   "execution_count": null,
   "id": "3f6da572",
   "metadata": {
    "id": "de9f2594"
   },
   "outputs": [],
   "source": [
    "df_30_EYE.head()"
   ]
  },
  {
   "cell_type": "code",
   "execution_count": null,
   "id": "015d2303",
   "metadata": {
    "id": "bfa2e174"
   },
   "outputs": [],
   "source": [
    "# Select only the numeric columns for plotting histograms, excluding time-related columns\n",
    "numeric_cols = df_30_EYE.select_dtypes(include=np.number).columns\n",
    "cols_to_plot = [col for col in numeric_cols if col not in ['UnixTime']]\n",
    "\n",
    "# Calculate the number of rows and columns for the grid\n",
    "n_cols = 4  # You can adjust the number of columns as needed\n",
    "n_rows = (len(cols_to_plot) + n_cols - 1) // n_cols\n",
    "\n",
    "plt.figure(figsize=(n_cols * 5, n_rows * 4)) # Adjust figure size as needed\n",
    "\n",
    "for i, col in enumerate(cols_to_plot):\n",
    "    plt.subplot(n_rows, n_cols, i + 1)\n",
    "    sns.histplot(df_30_EYE[col], kde=True)\n",
    "    plt.title(f'Distribution of {col}')\n",
    "    plt.xlabel(col)\n",
    "    plt.ylabel('Frequency')\n",
    "\n",
    "plt.tight_layout()\n",
    "plt.show()"
   ]
  },
  {
   "cell_type": "markdown",
   "id": "6b749ff9",
   "metadata": {
    "id": "8059766d"
   },
   "source": [
    "# Observations from Histograms\n",
    "\n",
    "The grid of histograms provides insights into the distribution of values for each numeric column in the dataset (excluding 'UnixTime'). Key observations include:\n",
    "\n",
    "- Several columns, such as `ET_GazeLeftx`, `ET_GazeLefty`, `ET_GazeRightx`, and `ET_GazeRighty`, show distributions that appear somewhat multimodal or skewed, suggesting variations in gaze patterns.\n",
    "- The `ET_PupilLeft` and `ET_PupilRight` histograms clearly show a peak at -1, confirming the presence of a significant number of invalid pupil readings.\n",
    "- `ET_TimeSignal` shows a relatively uniform distribution, as expected for a time-based signal.\n",
    "- `ET_DistanceLeft` and `ET_DistanceRight` appear to have distributions centered around certain values, with some outliers or variations.\n",
    "- The camera position columns (`ET_CameraLeftX`, `ET_CameraLeftY`, `ET_CameraRightX`, `ET_CameraRightY`) seem to have distributions concentrated within specific ranges, reflecting the camera's field of view.\n",
    "- The validity columns (`ET_ValidityLeft`, `ET_ValidityRight`, `ET_PupilLeft_validity`, `ET_PupilRight_validity`) show distributions dominated by 0, indicating that most of the data is considered valid after the mapping. The smaller peaks at 1 represent the instances of invalid data.\n",
    "\n",
    "These distributions highlight the need for appropriate handling of the -1 values and potential outliers in subsequent analysis or modeling steps."
   ]
  },
  {
   "cell_type": "code",
   "execution_count": null,
   "id": "bc752b4b",
   "metadata": {
    "id": "cb65ae1e"
   },
   "outputs": [],
   "source": [
    "df_30_EYE.columns"
   ]
  },
  {
   "cell_type": "code",
   "execution_count": null,
   "id": "3a340ac4",
   "metadata": {
    "id": "8cf2280c"
   },
   "outputs": [],
   "source": [
    "cols = ['ET_GazeLeftx', 'ET_GazeLefty',\n",
    "       'ET_GazeRightx', 'ET_GazeRighty', 'ET_PupilLeft', 'ET_PupilRight',\n",
    "       'ET_TimeSignal', 'ET_DistanceLeft', 'ET_DistanceRight',\n",
    "       'ET_CameraLeftX', 'ET_CameraLeftY', 'ET_CameraRightX',\n",
    "       'ET_CameraRightY', 'ET_ValidityLeft', 'ET_ValidityRight',\n",
    "       'ET_PupilLeft_validity', 'ET_PupilRight_validity']"
   ]
  },
  {
   "cell_type": "code",
   "execution_count": null,
   "id": "cabe5598",
   "metadata": {
    "id": "85e45ea9"
   },
   "outputs": [],
   "source": [
    "from IPython.display import display, Markdown\n",
    "\n",
    "for col in cols:\n",
    "    # Add a markdown cell before each plot for better separation and labeling\n",
    "    display(Markdown(f'### {col} over Time'))\n",
    "    plt.figure(figsize=(16, 10))\n",
    "    plt.plot(df_30_EYE['Timestamp'], df_30_EYE[col])\n",
    "    plt.xlabel(\"Timestamp\") # Add x-axis label\n",
    "    plt.ylabel(col) # Add y-axis label\n",
    "    plt.show()"
   ]
  },
  {
   "cell_type": "markdown",
   "id": "cfefcb9a",
   "metadata": {
    "id": "f7ffd08f"
   },
   "source": [
    "# Observations from Time Series Plots\n",
    "\n",
    "The line plots showing various features against the `Timestamp` reveal the temporal patterns and fluctuations in the eye-tracking data. Key observations include:\n",
    "\n",
    "- **Gaze Coordinates (`ET_GazeLeftx`, `ET_GazeLefty`, `ET_GazeRightx`, `ET_GazeRighty`):** These plots show the changes in gaze position over time. We can observe periods of relatively stable gaze interspersed with rapid movements (saccades) and blinks or other events where the gaze data might be invalid (-1 values appear as gaps or spikes if not handled).\n",
    "- **Pupil Size (`ET_PupilLeft`, `ET_PupilRight`):** The pupil size plots show variations over time. The presence of many -1 values is evident as flat lines at the bottom of the plot, indicating periods where pupil data was not recorded or was invalid.\n",
    "- **Time Signal (`ET_TimeSignal`):** This plot shows a steady, increasing trend, as expected for a time-based signal.\n",
    "- **Distance and Camera Position (`ET_DistanceLeft`, `ET_DistanceRight`, `ET_CameraLeftX`, `ET_CameraLeftY`, `ET_CameraRightX`, `ET_CameraRightY`):** These plots show how the distance from the eye tracker and the camera positions change over time. Variations in these features can be related to head movements or changes in the user's position relative to the eye tracker.\n",
    "- **Validity (`ET_ValidityLeft`, `ET_ValidityRight`, `ET_PupilLeft_validity`, `ET_PupilRight_validity`):** These plots clearly show periods of invalid data (represented by 1) as spikes or plateaus, corresponding to instances where the eye tracker lost track of the eyes or the pupil data was marked as invalid.\n",
    "\n",
    "Analyzing these time series plots is crucial for understanding the dynamics of the eye-tracking data and identifying patterns or anomalies that may require further investigation or specific handling during subsequent analysis."
   ]
  },
  {
   "cell_type": "code",
   "execution_count": null,
   "id": "fdd734b7",
   "metadata": {
    "id": "cdd85f8c"
   },
   "outputs": [],
   "source": [
    "# Select only the numeric columns for plotting histograms, excluding time-related columns\n",
    "numeric_cols = df_30_EYE.select_dtypes(include=np.number).columns\n",
    "\n",
    "# Calculate the number of rows and columns for the grid\n",
    "n_cols = 4  # You can adjust the number of columns as needed\n",
    "n_rows = (len(numeric_cols) + n_cols - 1) // n_cols\n",
    "\n",
    "plt.figure(figsize=(n_cols * 5, n_rows * 4)) # Adjust figure size as needed\n",
    "\n",
    "for i, col in enumerate(numeric_cols):\n",
    "    plt.subplot(n_rows, n_cols, i + 1)\n",
    "    sns.boxplot(df_30_EYE[col])\n",
    "    plt.title(f'Boxplot of {col}')\n",
    "    plt.xlabel(col)\n",
    "\n",
    "plt.tight_layout()\n",
    "plt.show()"
   ]
  },
  {
   "cell_type": "markdown",
   "id": "2665b272",
   "metadata": {
    "id": "2cca19c5"
   },
   "source": [
    "# Observations from Boxplots and Handling -1 Values\n",
    "\n",
    "The boxplots provide a visual summary of the distribution and potential outliers for each numeric column. Key observations from the boxplots include:\n",
    "\n",
    "- The boxplots for columns like `ET_GazeLeftx`, `ET_GazeLefty`, `ET_GazeRightx`, `ET_GazeRighty`, `ET_PupilLeft`, `ET_PupilRight`, `ET_DistanceLeft`, `ET_DistanceRight`, `ET_CameraLeftX`, `ET_CameraLeftY`, `ET_CameraRightX`, and `ET_CameraRightY` clearly show the presence of -1 values as significant outliers, confirming our earlier observations from the heatmaps and histograms.\n",
    "- The boxplots for the validity columns (`ET_ValidityLeft`, `ET_ValidityRight`, `ET_PupilLeft_validity`, `ET_PupilRight_validity`) show the discrete nature of these features, with the majority of data points at 0 (valid) and a smaller number at 1 (invalid).\n",
    "\n",
    "Given the significant presence of -1 values, which represent invalid or missing data, especially in the pupil-related columns, we have decided to replace these -1 values with NaN to properly represent them as missing data. Subsequently, we will impute these missing values using the mean of each respective column. This approach helps to retain the data structure and allows for further analysis or modeling without the distortion caused by the -1 placeholders."
   ]
  },
  {
   "cell_type": "code",
   "execution_count": null,
   "id": "4f029d14",
   "metadata": {
    "id": "9217371b"
   },
   "outputs": [],
   "source": [
    "df_30_EYE.replace({-1: np.nan}, inplace=True)"
   ]
  },
  {
   "cell_type": "code",
   "execution_count": null,
   "id": "67e6811f",
   "metadata": {
    "id": "8108fa01"
   },
   "outputs": [],
   "source": [
    "df_30_EYE[['ET_GazeLeftx', 'ET_GazeLefty',\n",
    "       'ET_GazeRightx', 'ET_GazeRighty', 'ET_PupilLeft', 'ET_PupilRight',\n",
    "       'ET_TimeSignal', 'ET_DistanceLeft', 'ET_DistanceRight',\n",
    "       'ET_CameraLeftX', 'ET_CameraLeftY', 'ET_CameraRightX',\n",
    "       'ET_CameraRightY', 'ET_ValidityLeft', 'ET_ValidityRight',\n",
    "       'ET_PupilLeft_validity', 'ET_PupilRight_validity']].mean()"
   ]
  },
  {
   "cell_type": "code",
   "execution_count": null,
   "id": "572f7a9f",
   "metadata": {
    "id": "9b94fbce"
   },
   "outputs": [],
   "source": [
    "df_30_EYE[['ET_GazeLeftx', 'ET_GazeLefty',\n",
    "       'ET_GazeRightx', 'ET_GazeRighty', 'ET_PupilLeft', 'ET_PupilRight',\n",
    "       'ET_TimeSignal', 'ET_DistanceLeft', 'ET_DistanceRight',\n",
    "       'ET_CameraLeftX', 'ET_CameraLeftY', 'ET_CameraRightX',\n",
    "       'ET_CameraRightY', 'ET_ValidityLeft', 'ET_ValidityRight',\n",
    "       'ET_PupilLeft_validity', 'ET_PupilRight_validity']].median()"
   ]
  },
  {
   "cell_type": "code",
   "execution_count": null,
   "id": "856eaa8d",
   "metadata": {
    "id": "ee1238c8"
   },
   "outputs": [],
   "source": [
    "numeric_cols = df_30_EYE.select_dtypes(include=np.number).columns\n",
    "\n",
    "for col in numeric_cols:\n",
    "    df_30_EYE[col] = df_30_EYE[col].fillna(df_30_EYE[col].mean())"
   ]
  },
  {
   "cell_type": "code",
   "execution_count": null,
   "id": "9ce60434",
   "metadata": {
    "id": "b0bc522d"
   },
   "outputs": [],
   "source": [
    "plt.figure(figsize=(18, 8))\n",
    "\n",
    "plt.subplot(1, 2, 1)\n",
    "sns.heatmap(df_30_EYE.isnull(), cmap='viridis')\n",
    "plt.title('Heatmap of Missing Values After Imputation')\n",
    "\n",
    "plt.subplot(1, 2, 2)\n",
    "sns.heatmap(df_30_EYE == 1, cmap='viridis')\n",
    "plt.title('Heatmap of 1 Values')\n",
    "\n",
    "plt.tight_layout()\n",
    "plt.show()"
   ]
  },
  {
   "cell_type": "markdown",
   "id": "2584bca5",
   "metadata": {
    "id": "c0f1e10d"
   },
   "source": [
    "# Handling Missing Values (Imputation)\n",
    "\n",
    "As decided, we have replaced all the `-1` values with `NaN` to treat them as missing data. Subsequently, we have imputed these `NaN` values with the mean of their respective columns. The heatmap above, which was generated after the imputation, now shows no visible signs of `NaN` values, indicating that the imputation was successful."
   ]
  },
  {
   "cell_type": "code",
   "execution_count": null,
   "id": "ae8513dc",
   "metadata": {
    "id": "2491c1da"
   },
   "outputs": [],
   "source": [
    "df_30_EYE.head()"
   ]
  },
  {
   "cell_type": "code",
   "execution_count": null,
   "id": "a35f379e",
   "metadata": {
    "id": "64f04350"
   },
   "outputs": [],
   "source": [
    "# Select only the numeric columns for plotting histograms, excluding time-related columns\n",
    "numeric_cols = df_30_EYE.select_dtypes(include=np.number).columns\n",
    "cols_to_plot = [col for col in numeric_cols if col not in ['UnixTime']]\n",
    "\n",
    "# Calculate the number of rows and columns for the grid\n",
    "n_cols = 4  # You can adjust the number of columns as needed\n",
    "n_rows = (len(cols_to_plot) + n_cols - 1) // n_cols\n",
    "\n",
    "plt.figure(figsize=(n_cols * 5, n_rows * 4)) # Adjust figure size as needed\n",
    "\n",
    "for i, col in enumerate(cols_to_plot):\n",
    "    plt.subplot(n_rows, n_cols, i + 1)\n",
    "    sns.histplot(df_30_EYE[col], kde=True)\n",
    "    plt.title(f'Distribution of {col}')\n",
    "    plt.xlabel(col)\n",
    "    plt.ylabel('Frequency')\n",
    "\n",
    "plt.tight_layout()\n",
    "plt.show()"
   ]
  },
  {
   "cell_type": "markdown",
   "id": "30fb0a92",
   "metadata": {
    "id": "e0c83f1c"
   },
   "source": [
    "# Observations from Histograms After Imputation\n",
    "\n",
    "The histograms generated after replacing the -1 values with the mean of each column show the distributions of the numeric features with the missing data handled. Key observations from these updated histograms include:\n",
    "\n",
    "- The distinct peaks at -1, which were prominent in the histograms for several columns (e.g., pupil size, gaze coordinates, distance, and camera position) before imputation, are now replaced by a peak at the mean of each respective column.\n",
    "- The distributions in many columns now appear more unimodal or show shifted modes compared to the original histograms.\n",
    "- The histograms for the validity columns still show their bimodal distributions with peaks at 0 and 1, as these were handled separately.\n",
    "\n",
    "These histograms provide an updated view of the data's distribution after handling the missing values, highlighting the impact of the imputation method on the data's characteristics."
   ]
  },
  {
   "cell_type": "code",
   "execution_count": null,
   "id": "7d0e673f",
   "metadata": {
    "id": "de0b2f65"
   },
   "outputs": [],
   "source": [
    "cols = ['ET_GazeLeftx', 'ET_GazeLefty',\n",
    "       'ET_GazeRightx', 'ET_GazeRighty', 'ET_PupilLeft', 'ET_PupilRight',\n",
    "       'ET_TimeSignal', 'ET_DistanceLeft', 'ET_DistanceRight',\n",
    "       'ET_CameraLeftX', 'ET_CameraLeftY', 'ET_CameraRightX',\n",
    "       'ET_CameraRightY', 'ET_ValidityLeft', 'ET_ValidityRight',\n",
    "       'ET_PupilLeft_validity', 'ET_PupilRight_validity']"
   ]
  },
  {
   "cell_type": "code",
   "execution_count": null,
   "id": "86ce6f81",
   "metadata": {
    "id": "4ddd4915"
   },
   "outputs": [],
   "source": [
    "for col in cols:\n",
    "    # Add a markdown cell before each plot for better separation and labeling\n",
    "    display(Markdown(f'### {col} over Time'))\n",
    "    plt.figure(figsize=(16, 10))\n",
    "    plt.plot(df_30_EYE['Timestamp'], df_30_EYE[col])\n",
    "    plt.xlabel(\"Timestamp\") # Add x-axis label\n",
    "    plt.ylabel(col) # Add y-axis label\n",
    "    plt.show()"
   ]
  },
  {
   "cell_type": "markdown",
   "id": "a4d09ae0",
   "metadata": {
    "id": "0fb07abb"
   },
   "source": [
    "# Observations from Time Series Plots After Imputation\n",
    "\n",
    "The line plots generated after imputing the missing values with the mean show the temporal patterns of the features with the missing data handled. Key observations from these updated plots include:\n",
    "\n",
    "- The gaps or flat lines at -1, which were prominent in the plots for columns like gaze coordinates, pupil size, distance, and camera position, are now filled by lines at the mean value of the respective columns.\n",
    "- The plots for the validity columns remain the same as they were handled separately.\n",
    "- The `ET_TimeSignal` plot still shows a steady increasing trend, as expected."
   ]
  },
  {
   "cell_type": "code",
   "execution_count": null,
   "id": "876dc6d8",
   "metadata": {
    "id": "c608fd95"
   },
   "outputs": [],
   "source": [
    "plt.figure(figsize=(16, 10))\n",
    "sns.heatmap(df_30_EYE.corr(numeric_only=True), cmap='YlGnBu', annot=True)\n",
    "plt.show()"
   ]
  },
  {
   "cell_type": "markdown",
   "id": "a70db811",
   "metadata": {
    "id": "82405ba6"
   },
   "source": [
    "# Observations from Correlation Heatmap\n",
    "\n",
    "The correlation heatmap provides a visual representation of the pairwise correlations between the numeric columns in the dataset. Key observations from the heatmap include:\n",
    "\n",
    "- **High Positive Correlations:** We observe strong positive correlations (values close to 1) between:\n",
    "  - `ET_GazeLeftx` and `ET_GazeRightx`: This is expected as the gaze positions of both eyes should be highly correlated when fixating on a point.\n",
    "  - `ET_GazeLefty` and `ET_GazeRighty`: Similar to the x-coordinates, the y-coordinates of gaze should also be highly correlated.\n",
    "  - `ET_PupilLeft` and `ET_PupilRight`: Pupil sizes of both eyes tend to change together in response to light and cognitive load.\n",
    "  - `ET_DistanceLeft` and `ET_DistanceRight`: The distance from the eye tracker to each eye should be highly correlated.\n",
    "  - `ET_CameraLeftX` and `ET_CameraRightX`, `ET_CameraLeftY` and `ET_CameraRightY`: The camera positions for both eyes are also expected to be highly correlated.\n",
    "  - `UnixTime` and `ET_TimeSignal`: As previously noted, these two columns are almost perfectly linearly correlated, indicating redundancy.\n",
    "  - `ET_ValidityLeft` and `ET_PupilLeft_validity`: There is a positive correlation, suggesting that when the overall left eye data is invalid, the left pupil data is also likely to be invalid.\n",
    "  - `ET_ValidityRight` and `ET_PupilRight_validity`: Similar to the left eye, there is a positive correlation between the overall right eye validity and the right pupil validity.\n",
    "- **Other Correlations:** We can also observe other varying degrees of correlations between different features, which can provide insights into the relationships between gaze behavior, pupil size, distance, and camera position. For example, there might be correlations between gaze coordinates and camera positions, reflecting head movements.\n",
    "- **Low or Near-Zero Correlations:** Columns with low or near-zero correlations are relatively independent of each other.\n",
    "\n",
    "Understanding these correlations is important for feature selection and for building models, as highly correlated features might indicate multicollinearity, while correlations between features can reveal underlying patterns in the data."
   ]
  },
  {
   "cell_type": "markdown",
   "id": "5c8427b1",
   "metadata": {
    "id": "1c413c3b"
   },
   "source": [
    "# Analysis of ET_TimeSignal and Decision to Drop\n",
    "\n",
    "As observed in the time series plot and confirmed by the correlation heatmap, the `ET_TimeSignal` column exhibits a near-perfect linear relationship with both the `Timestamp` and `UnixTime` columns. This strong correlation (close to 1) suggests that `ET_TimeSignal` is essentially redundant and likely represents another form of time recording or a signal directly derived from the timestamp.\n",
    "\n",
    "Including highly correlated features like this in a dataset can lead to issues such as multicollinearity in some statistical models, which can make it difficult to interpret the individual impact of each feature. Since the `Timestamp` column already provides the necessary temporal information, retaining `ET_TimeSignal` does not appear to add significant value for further analysis or modeling in most cases.\n",
    "\n",
    "Therefore, based on its high correlation and lack of unique insight, we will proceed to drop the `ET_TimeSignal` column to simplify the dataset and potentially improve the performance and interpretability of future analyses."
   ]
  },
  {
   "cell_type": "code",
   "execution_count": null,
   "id": "49cee60a",
   "metadata": {
    "id": "7c96e349"
   },
   "outputs": [],
   "source": [
    "df_30_EYE.drop('ET_TimeSignal', axis=1, inplace=True)"
   ]
  },
  {
   "cell_type": "code",
   "execution_count": null,
   "id": "1668c95d",
   "metadata": {
    "id": "5845a61d"
   },
   "outputs": [],
   "source": [
    "plt.figure(figsize=(16, 10))\n",
    "sns.pairplot(df_30_EYE)\n",
    "plt.show()"
   ]
  }
 ],
 "metadata": {
  "colab": {
   "provenance": []
  },
  "kernelspec": {
   "display_name": "Python 3",
   "name": "python3"
  },
  "language_info": {
   "name": "python"
  }
 },
 "nbformat": 4,
 "nbformat_minor": 5
}
