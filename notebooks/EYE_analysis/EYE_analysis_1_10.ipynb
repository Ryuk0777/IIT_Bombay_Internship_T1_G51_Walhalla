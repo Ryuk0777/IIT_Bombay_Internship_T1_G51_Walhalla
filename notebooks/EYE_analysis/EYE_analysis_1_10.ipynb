{
 "cells": [
  {
   "cell_type": "markdown",
   "id": "50cb3a59",
   "metadata": {},
   "source": [
    "## Student 1"
   ]
  },
  {
   "cell_type": "code",
   "execution_count": null,
   "id": "4e151ff5",
   "metadata": {},
   "outputs": [],
   "source": [
    "%load_ext cudf"
   ]
  },
  {
   "cell_type": "code",
   "execution_count": null,
   "id": "71f6f1eb",
   "metadata": {},
   "outputs": [],
   "source": [
    "import numpy as np\n",
    "import pandas as pd\n",
    "import matplotlib.pyplot as plt\n",
    "import seaborn as sns"
   ]
  },
  {
   "cell_type": "code",
   "execution_count": null,
   "id": "7c882366",
   "metadata": {},
   "outputs": [],
   "source": [
    "import datashader as ds\n",
    "import datashader.transfer_functions as tf"
   ]
  },
  {
   "cell_type": "code",
   "execution_count": null,
   "id": "241eb586",
   "metadata": {},
   "outputs": [],
   "source": [
    "pd.set_option('display.max_columns', None)"
   ]
  },
  {
   "cell_type": "code",
   "execution_count": null,
   "id": "ae342c4d",
   "metadata": {},
   "outputs": [],
   "source": [
    "df_1_EYE = pd.read_csv('data/STData/1/1_EYE.csv')"
   ]
  },
  {
   "cell_type": "code",
   "execution_count": null,
   "id": "bb26b524",
   "metadata": {},
   "outputs": [],
   "source": [
    "df_1_EYE.head()"
   ]
  },
  {
   "cell_type": "code",
   "execution_count": null,
   "id": "92ef8830",
   "metadata": {},
   "outputs": [],
   "source": [
    "df_1_EYE.shape"
   ]
  },
  {
   "cell_type": "code",
   "execution_count": null,
   "id": "2b2d9b11",
   "metadata": {},
   "outputs": [],
   "source": [
    "df_1_EYE.columns"
   ]
  },
  {
   "cell_type": "code",
   "execution_count": null,
   "id": "8c167a19",
   "metadata": {},
   "outputs": [],
   "source": [
    "df_1_EYE.info()"
   ]
  },
  {
   "cell_type": "code",
   "execution_count": null,
   "id": "a023b5b6",
   "metadata": {},
   "outputs": [],
   "source": [
    "df_1_EYE.isnull().sum()"
   ]
  },
  {
   "cell_type": "code",
   "execution_count": null,
   "id": "f9f616fb",
   "metadata": {},
   "outputs": [],
   "source": [
    "plt.figure(figsize=(12,8))\n",
    "sns.heatmap(df_1_EYE.isnull(), cmap='viridis')\n",
    "plt.show()"
   ]
  },
  {
   "cell_type": "markdown",
   "id": "0aac869b",
   "metadata": {},
   "source": [
    "# Notes & Observations\n",
    "\n",
    "- We observe many **null** (or missing) values in the `QuestionKey` columns.  \n",
    "- The nulls in the `QuestionKey` column may not represent “true” nulls. Rather, they follow interval patterns, suggesting that during those periods no question was displayed.  \n",
    "- These missing values in `QuestionKey` require additional investigation and context-aware handling.  "
   ]
  },
  {
   "cell_type": "code",
   "execution_count": null,
   "id": "f3eb6b35",
   "metadata": {},
   "outputs": [],
   "source": [
    "df_1_EYE['QuestionKey'].unique()"
   ]
  },
  {
   "cell_type": "code",
   "execution_count": null,
   "id": "becbdc46",
   "metadata": {},
   "outputs": [],
   "source": [
    "df_1_EYE['Timestamp'] = pd.to_datetime(df_1_EYE['Timestamp'])"
   ]
  },
  {
   "cell_type": "code",
   "execution_count": null,
   "id": "96f653f8",
   "metadata": {},
   "outputs": [],
   "source": [
    "df_1_EYE.head(3)"
   ]
  },
  {
   "cell_type": "code",
   "execution_count": null,
   "id": "9082202b",
   "metadata": {},
   "outputs": [],
   "source": [
    "df_1_EYE['QuestionKey'].fillna('None', inplace=True)"
   ]
  },
  {
   "cell_type": "code",
   "execution_count": null,
   "id": "58d44fab",
   "metadata": {},
   "outputs": [],
   "source": [
    "df_1_EYE['QuestionKey'].value_counts()"
   ]
  },
  {
   "cell_type": "code",
   "execution_count": null,
   "id": "b513ad07",
   "metadata": {},
   "outputs": [],
   "source": [
    "plt.figure(figsize=(12,8))\n",
    "sns.heatmap(df_1_EYE.isnull(), cmap='viridis')\n",
    "plt.show()"
   ]
  },
  {
   "cell_type": "code",
   "execution_count": null,
   "id": "c3f262cf",
   "metadata": {},
   "outputs": [],
   "source": [
    "df_1_EYE.isnull().sum()"
   ]
  },
  {
   "cell_type": "code",
   "execution_count": null,
   "id": "0b583e59",
   "metadata": {},
   "outputs": [],
   "source": [
    "df_1_EYE.dropna(inplace=True)"
   ]
  },
  {
   "cell_type": "code",
   "execution_count": null,
   "id": "6b427334",
   "metadata": {},
   "outputs": [],
   "source": [
    "df_1_EYE.head()"
   ]
  },
  {
   "cell_type": "code",
   "execution_count": null,
   "id": "57d70e5e",
   "metadata": {},
   "outputs": [],
   "source": [
    "df_1_EYE['Row'].unique()"
   ]
  },
  {
   "cell_type": "code",
   "execution_count": null,
   "id": "95d4572c",
   "metadata": {},
   "outputs": [],
   "source": [
    "plt.figure(figsize=(8,6))\n",
    "sns.histplot(df_1_EYE['Row'])\n",
    "plt.show()"
   ]
  },
  {
   "cell_type": "markdown",
   "id": "ddf5d6d1",
   "metadata": {},
   "source": [
    "# Notes & Observations\n",
    "\n",
    "- The `Row` column appears to be a simple row index and does not provide meaningful information relevant to the eye-tracking data itself. Therefore, it can be dropped."
   ]
  },
  {
   "cell_type": "code",
   "execution_count": null,
   "id": "ec25b34d",
   "metadata": {},
   "outputs": [],
   "source": [
    "df_1_EYE.drop('Row', axis=1, inplace=True)"
   ]
  },
  {
   "cell_type": "code",
   "execution_count": null,
   "id": "745f9dbd",
   "metadata": {},
   "outputs": [],
   "source": [
    "df_1_EYE['ET_ValidityLeft'].unique()"
   ]
  },
  {
   "cell_type": "code",
   "execution_count": null,
   "id": "7984358d",
   "metadata": {},
   "outputs": [],
   "source": [
    "df_1_EYE['ET_ValidityLeft'].value_counts()"
   ]
  },
  {
   "cell_type": "code",
   "execution_count": null,
   "id": "53872887",
   "metadata": {},
   "outputs": [],
   "source": [
    "df_1_EYE['ET_ValidityRight'].unique()"
   ]
  },
  {
   "cell_type": "code",
   "execution_count": null,
   "id": "d4f87cef",
   "metadata": {},
   "outputs": [],
   "source": [
    "df_1_EYE['ET_ValidityRight'].value_counts()"
   ]
  },
  {
   "cell_type": "code",
   "execution_count": null,
   "id": "2fdf9c42",
   "metadata": {},
   "outputs": [],
   "source": [
    "plt.figure(figsize=(12, 6))\n",
    "\n",
    "plt.subplot(1, 2, 1)\n",
    "sns.barplot(x=df_1_EYE['ET_ValidityLeft'].value_counts().index, y=df_1_EYE['ET_ValidityLeft'].value_counts().values)\n",
    "plt.title('Count of ET_ValidityLeft')\n",
    "plt.xlabel('Validity')\n",
    "plt.ylabel('Count')\n",
    "\n",
    "\n",
    "plt.subplot(1, 2, 2)\n",
    "sns.barplot(x=df_1_EYE['ET_ValidityRight'].value_counts().index, y=df_1_EYE['ET_ValidityRight'].value_counts().values)\n",
    "plt.title('Count of ET_ValidityRight')\n",
    "plt.xlabel('Validity')\n",
    "plt.ylabel('Count')\n",
    "\n",
    "plt.tight_layout()\n",
    "plt.show()"
   ]
  },
  {
   "cell_type": "markdown",
   "id": "e9cdc76f",
   "metadata": {},
   "source": [
    "# Notes & Observations\n",
    "\n",
    "- The `ET_ValidityLeft` and `ET_ValidityRight` columns indicate the validity of the eye-tracking data for the left and right eye, respectively.\n",
    "- Based on the value counts and the bar plots, it appears that a value of `0.0` represents valid eye-tracking data, while a value of `4.0` represents invalid data.\n",
    "- Although the amount of invalid data is relatively small, removing these rows could introduce unwanted patterns or gaps in the time series data.\n",
    "- Therefore, we will keep the data and replace the value `4.0` with `1.0` in both `ET_ValidityLeft` and `ET_ValidityRight` columns. This will indicate to a machine learning model that the eye tracker had invalid data at those specific points in time while maintaining the integrity of the time series."
   ]
  },
  {
   "cell_type": "code",
   "execution_count": null,
   "id": "d627c299",
   "metadata": {},
   "outputs": [],
   "source": [
    "validity_map = {4.0: 1.0, 0.0: 0.0}"
   ]
  },
  {
   "cell_type": "code",
   "execution_count": null,
   "id": "b84e8af0",
   "metadata": {},
   "outputs": [],
   "source": [
    "df_1_EYE['ET_ValidityLeft'] = df_1_EYE['ET_ValidityLeft'].map(validity_map).astype(np.int8)\n",
    "df_1_EYE['ET_ValidityRight'] = df_1_EYE['ET_ValidityRight'].map(validity_map).astype(np.int8)"
   ]
  },
  {
   "cell_type": "code",
   "execution_count": null,
   "id": "b50538cd",
   "metadata": {},
   "outputs": [],
   "source": [
    "df_1_EYE.head(3)"
   ]
  },
  {
   "cell_type": "code",
   "execution_count": null,
   "id": "2d08598e",
   "metadata": {},
   "outputs": [],
   "source": [
    "df_1_EYE.describe()"
   ]
  },
  {
   "cell_type": "code",
   "execution_count": null,
   "id": "68258b15",
   "metadata": {},
   "outputs": [],
   "source": [
    "df_1_EYE[df_1_EYE['ET_ValidityLeft'] == 1].shape"
   ]
  },
  {
   "cell_type": "code",
   "execution_count": null,
   "id": "7bc43443",
   "metadata": {},
   "outputs": [],
   "source": [
    "df_1_EYE[df_1_EYE['ET_ValidityRight'] == 1].shape"
   ]
  },
  {
   "cell_type": "code",
   "execution_count": null,
   "id": "b9d86d78",
   "metadata": {},
   "outputs": [],
   "source": [
    "plt.figure(figsize=(18, 8))\n",
    "\n",
    "plt.subplot(1, 2, 1)\n",
    "sns.heatmap(df_1_EYE == -1, cmap='viridis')\n",
    "plt.title('Heatmap of -1 Values')\n",
    "\n",
    "plt.subplot(1, 2, 2)\n",
    "sns.heatmap(df_1_EYE == 1, cmap='viridis')\n",
    "plt.title('Heatmap of 1 Values')\n",
    "\n",
    "plt.tight_layout()\n",
    "plt.show()"
   ]
  },
  {
   "cell_type": "code",
   "execution_count": null,
   "id": "df8d18b9",
   "metadata": {},
   "outputs": [],
   "source": [
    "df_1_EYE[df_1_EYE['ET_PupilLeft'] == -1].shape"
   ]
  },
  {
   "cell_type": "code",
   "execution_count": null,
   "id": "5102f0a4",
   "metadata": {},
   "outputs": [],
   "source": [
    "df_1_EYE[df_1_EYE['ET_PupilRight'] == -1].shape"
   ]
  },
  {
   "cell_type": "code",
   "execution_count": null,
   "id": "21fb7cb5",
   "metadata": {},
   "outputs": [],
   "source": [
    "df_1_EYE[df_1_EYE['ET_PupilLeft'] == -1].shape[0] / df_1_EYE.shape[0]"
   ]
  },
  {
   "cell_type": "code",
   "execution_count": null,
   "id": "4868bb92",
   "metadata": {},
   "outputs": [],
   "source": [
    "df_1_EYE[df_1_EYE['ET_PupilRight'] == -1].shape[0] / df_1_EYE.shape[0]"
   ]
  },
  {
   "cell_type": "code",
   "execution_count": null,
   "id": "7723103a",
   "metadata": {},
   "outputs": [],
   "source": [
    "plt.figure(figsize=(18, 8))\n",
    "\n",
    "plt.subplot(1, 2, 1)\n",
    "sns.heatmap(df_1_EYE[df_1_EYE['ET_ValidityLeft'] == 1] == -1, cmap='viridis')\n",
    "plt.title('Heatmap of -1 Values')\n",
    "\n",
    "plt.subplot(1, 2, 2)\n",
    "sns.heatmap(df_1_EYE[df_1_EYE['ET_ValidityRight'] == 1] == -1, cmap='viridis')\n",
    "plt.title('Heatmap of -1 Values')\n",
    "\n",
    "plt.tight_layout()\n",
    "plt.show()"
   ]
  },
  {
   "cell_type": "markdown",
   "id": "45b58100",
   "metadata": {},
   "source": [
    "# Notes & Observations\n",
    "\n",
    "- The heatmaps reveal the distribution of -1 values across different columns.\n",
    "- It is evident that the `-1` values are not randomly scattered but appear in specific columns, notably `ET_GazeLeftx`, `ET_GazeLefty`, `ET_GazeRightx`, `ET_GazeRighty`, `ET_PupilLeft`, `ET_PupilRight`, `ET_DistanceLeft`, `ET_DistanceRight`, `ET_CameraLeftX`, `ET_CameraLeftY`, `ET_CameraRightX`, and `ET_CameraRightY`.\n",
    "- These `-1` values often coincide with instances where `ET_ValidityLeft` or `ET_ValidityRight` is 1, indicating invalid eye-tracking data. This suggests that `-1` is used as a placeholder for missing or invalid measurements in these columns when the eye tracker is not providing valid data for a particular eye.\n",
    "- Given that over 70% of the data in the `ET_PupilLeft` and `ET_PupilRight` columns is marked as invalid (-1), these columns may not be suitable for analysis and could be considered for dropping."
   ]
  },
  {
   "cell_type": "code",
   "execution_count": null,
   "id": "8aab8a10",
   "metadata": {},
   "outputs": [],
   "source": [
    "df_1_EYE.drop(['ET_PupilLeft', 'ET_PupilRight'], axis=1, inplace=True)"
   ]
  },
  {
   "cell_type": "code",
   "execution_count": null,
   "id": "d5f12c3c",
   "metadata": {},
   "outputs": [],
   "source": [
    "df_1_EYE.head()"
   ]
  },
  {
   "cell_type": "code",
   "execution_count": null,
   "id": "51fa5e27",
   "metadata": {},
   "outputs": [],
   "source": [
    "plt.figure(figsize=(18, 8))\n",
    "\n",
    "plt.subplot(1, 2, 1)\n",
    "sns.heatmap(df_1_EYE == -1, cmap='viridis')\n",
    "plt.title('Heatmap of -1 Values')\n",
    "\n",
    "plt.subplot(1, 2, 2)\n",
    "sns.heatmap(df_1_EYE == 1, cmap='viridis')\n",
    "plt.title('Heatmap of -1 Values')\n",
    "\n",
    "plt.tight_layout()\n",
    "plt.show()"
   ]
  },
  {
   "cell_type": "code",
   "execution_count": null,
   "id": "884b3e06",
   "metadata": {},
   "outputs": [],
   "source": [
    "valid_left_ratio  = 1 - df_1_EYE['ET_ValidityLeft'].mean()\n",
    "valid_right_ratio = 1 - df_1_EYE['ET_ValidityRight'].mean()"
   ]
  },
  {
   "cell_type": "code",
   "execution_count": null,
   "id": "20e68d3e",
   "metadata": {},
   "outputs": [],
   "source": [
    "valid_left_ratio"
   ]
  },
  {
   "cell_type": "code",
   "execution_count": null,
   "id": "124fe434",
   "metadata": {},
   "outputs": [],
   "source": [
    "valid_right_ratio"
   ]
  },
  {
   "cell_type": "code",
   "execution_count": null,
   "id": "1f41b0b0",
   "metadata": {},
   "outputs": [],
   "source": [
    "df_1_EYE.head()"
   ]
  },
  {
   "cell_type": "code",
   "execution_count": null,
   "id": "deb1365a",
   "metadata": {},
   "outputs": [],
   "source": [
    "# Select only the numeric columns for plotting histograms, excluding time-related columns\n",
    "numeric_cols = df_1_EYE.select_dtypes(include=np.number).columns\n",
    "cols_to_plot = [col for col in numeric_cols if col not in ['UnixTime']]\n",
    "\n",
    "# Calculate the number of rows and columns for the grid\n",
    "n_cols = 4  # You can adjust the number of columns as needed\n",
    "n_rows = (len(cols_to_plot) + n_cols - 1) // n_cols\n",
    "\n",
    "plt.figure(figsize=(n_cols * 5, n_rows * 4)) # Adjust figure size as needed\n",
    "\n",
    "for i, col in enumerate(cols_to_plot):\n",
    "    plt.subplot(n_rows, n_cols, i + 1)\n",
    "    sns.histplot(df_1_EYE[col], kde=True)\n",
    "    plt.title(f'Distribution of {col}')\n",
    "    plt.xlabel(col)\n",
    "    plt.ylabel('Frequency')\n",
    "\n",
    "plt.tight_layout()\n",
    "plt.show()"
   ]
  },
  {
   "cell_type": "code",
   "execution_count": null,
   "id": "27720b3b",
   "metadata": {},
   "outputs": [],
   "source": [
    "df_1_EYE.columns"
   ]
  },
  {
   "cell_type": "code",
   "execution_count": null,
   "id": "2b7f88eb",
   "metadata": {},
   "outputs": [],
   "source": [
    "cols = ['ET_GazeLeftx', 'ET_GazeLefty',\n",
    "       'ET_GazeRightx', 'ET_GazeRighty', 'ET_TimeSignal', 'ET_DistanceLeft',\n",
    "       'ET_DistanceRight', 'ET_CameraLeftX', 'ET_CameraLeftY',\n",
    "       'ET_CameraRightX', 'ET_CameraRightY', 'ET_ValidityLeft',\n",
    "       'ET_ValidityRight']"
   ]
  },
  {
   "cell_type": "code",
   "execution_count": null,
   "id": "d31cc2e7",
   "metadata": {},
   "outputs": [],
   "source": [
    "from IPython.display import display, Markdown\n",
    "\n",
    "for col in cols:\n",
    "    # Add a markdown cell before each plot for better separation and labeling\n",
    "    display(Markdown(f'### {col} over Time'))\n",
    "    plt.figure(figsize=(16, 10))\n",
    "    plt.plot(df_1_EYE['Timestamp'], df_1_EYE[col])\n",
    "    plt.xlabel(\"Timestamp\") # Add x-axis label\n",
    "    plt.ylabel(col) # Add y-axis label\n",
    "    plt.show()"
   ]
  },
  {
   "cell_type": "code",
   "execution_count": null,
   "id": "485f4ad8",
   "metadata": {},
   "outputs": [],
   "source": [
    "# Select only the numeric columns for plotting histograms, excluding time-related columns\n",
    "numeric_cols = df_1_EYE.select_dtypes(include=np.number).columns\n",
    "\n",
    "# Calculate the number of rows and columns for the grid\n",
    "n_cols = 4  # You can adjust the number of columns as needed\n",
    "n_rows = (len(numeric_cols) + n_cols - 1) // n_cols\n",
    "\n",
    "plt.figure(figsize=(n_cols * 5, n_rows * 4)) # Adjust figure size as needed\n",
    "\n",
    "for i, col in enumerate(numeric_cols):\n",
    "    plt.subplot(n_rows, n_cols, i + 1)\n",
    "    sns.boxplot(df_1_EYE[col])\n",
    "    plt.title(f'Boxplot of {col}')\n",
    "    plt.xlabel(col)\n",
    "\n",
    "plt.tight_layout()\n",
    "plt.show()"
   ]
  },
  {
   "cell_type": "code",
   "execution_count": null,
   "id": "9fed7218",
   "metadata": {},
   "outputs": [],
   "source": [
    "df_1_EYE.replace({-1: np.nan}, inplace=True)"
   ]
  },
  {
   "cell_type": "code",
   "execution_count": null,
   "id": "04f88730",
   "metadata": {},
   "outputs": [],
   "source": [
    "numeric_cols = df_1_EYE.select_dtypes(include=np.number).columns\n",
    "\n",
    "for col in numeric_cols:\n",
    "    df_1_EYE[col].fillna(df_1_EYE[col].mean(), inplace=True)"
   ]
  },
  {
   "cell_type": "code",
   "execution_count": null,
   "id": "5f2cbabb",
   "metadata": {},
   "outputs": [],
   "source": [
    "df_1_EYE.head()"
   ]
  },
  {
   "cell_type": "code",
   "execution_count": null,
   "id": "b56be27a",
   "metadata": {},
   "outputs": [],
   "source": [
    "# Select only the numeric columns for plotting histograms, excluding time-related columns\n",
    "numeric_cols = df_1_EYE.select_dtypes(include=np.number).columns\n",
    "cols_to_plot = [col for col in numeric_cols if col not in ['UnixTime']]\n",
    "\n",
    "# Calculate the number of rows and columns for the grid\n",
    "n_cols = 4  # You can adjust the number of columns as needed\n",
    "n_rows = (len(cols_to_plot) + n_cols - 1) // n_cols\n",
    "\n",
    "plt.figure(figsize=(n_cols * 5, n_rows * 4)) # Adjust figure size as needed\n",
    "\n",
    "for i, col in enumerate(cols_to_plot):\n",
    "    plt.subplot(n_rows, n_cols, i + 1)\n",
    "    sns.histplot(df_1_EYE[col], kde=True)\n",
    "    plt.title(f'Distribution of {col}')\n",
    "    plt.xlabel(col)\n",
    "    plt.ylabel('Frequency')\n",
    "\n",
    "plt.tight_layout()\n",
    "plt.show()"
   ]
  },
  {
   "cell_type": "code",
   "execution_count": null,
   "id": "5736a6a8",
   "metadata": {},
   "outputs": [],
   "source": []
  },
  {
   "cell_type": "code",
   "execution_count": null,
   "id": "e5bed49f",
   "metadata": {},
   "outputs": [],
   "source": []
  },
  {
   "cell_type": "code",
   "execution_count": null,
   "id": "2a994749",
   "metadata": {},
   "outputs": [],
   "source": []
  },
  {
   "cell_type": "code",
   "execution_count": null,
   "id": "c061416a",
   "metadata": {},
   "outputs": [],
   "source": []
  },
  {
   "cell_type": "code",
   "execution_count": null,
   "id": "487fb9b1",
   "metadata": {},
   "outputs": [],
   "source": []
  },
  {
   "cell_type": "code",
   "execution_count": null,
   "id": "f35b59ed",
   "metadata": {},
   "outputs": [],
   "source": []
  },
  {
   "cell_type": "code",
   "execution_count": null,
   "id": "221bf1b3",
   "metadata": {},
   "outputs": [],
   "source": []
  },
  {
   "cell_type": "code",
   "execution_count": null,
   "id": "800ed232",
   "metadata": {},
   "outputs": [],
   "source": []
  },
  {
   "cell_type": "code",
   "execution_count": null,
   "id": "36589b84",
   "metadata": {},
   "outputs": [],
   "source": []
  },
  {
   "cell_type": "code",
   "execution_count": null,
   "id": "8fa10cce",
   "metadata": {},
   "outputs": [],
   "source": []
  },
  {
   "cell_type": "code",
   "execution_count": null,
   "id": "da91c38f",
   "metadata": {},
   "outputs": [],
   "source": []
  },
  {
   "cell_type": "code",
   "execution_count": null,
   "id": "7bbf4ca2",
   "metadata": {},
   "outputs": [],
   "source": []
  },
  {
   "cell_type": "markdown",
   "id": "138f28d9",
   "metadata": {},
   "source": [
    "# Eye Tracking Data Analysis\n",
    "\n",
    "This notebook performs exploratory data analysis and cleaning on eye-tracking data.\n",
    "\n",
    "## Data Loading and Initial Inspection"
   ]
  },
  {
   "cell_type": "code",
   "execution_count": null,
   "id": "d777dbf9",
   "metadata": {},
   "outputs": [],
   "source": [
    "%load_ext cudf"
   ]
  },
  {
   "cell_type": "markdown",
   "id": "42ca2bf9",
   "metadata": {},
   "source": [
    "Import necessary libraries for data manipulation, analysis, and visualization."
   ]
  },
  {
   "cell_type": "code",
   "execution_count": null,
   "id": "aa1a6285",
   "metadata": {},
   "outputs": [],
   "source": [
    "import numpy as np\n",
    "import pandas as pd\n",
    "import matplotlib.pyplot as plt\n",
    "import seaborn as sns"
   ]
  },
  {
   "cell_type": "markdown",
   "id": "f2491c05",
   "metadata": {},
   "source": [
    "Import libraries for datashader, which can be used for visualizing large datasets."
   ]
  },
  {
   "cell_type": "code",
   "execution_count": null,
   "id": "a2cc6de1",
   "metadata": {},
   "outputs": [],
   "source": [
    "import datashader as ds\n",
    "import datashader.transfer_functions as tf"
   ]
  },
  {
   "cell_type": "markdown",
   "id": "06ab40ac",
   "metadata": {},
   "source": [
    "Set pandas display options to show all columns."
   ]
  },
  {
   "cell_type": "code",
   "execution_count": null,
   "id": "6307297c",
   "metadata": {},
   "outputs": [],
   "source": [
    "pd.set_option('display.max_columns', None)"
   ]
  },
  {
   "cell_type": "markdown",
   "id": "8b821a18",
   "metadata": {},
   "source": [
    "Load the eye-tracking data from the specified CSV file into a pandas DataFrame."
   ]
  },
  {
   "cell_type": "code",
   "execution_count": null,
   "id": "1f54eb3d",
   "metadata": {},
   "outputs": [],
   "source": [
    "df_1_EYE = pd.read_csv('data/STData/1/1_EYE.csv')"
   ]
  },
  {
   "cell_type": "markdown",
   "id": "76a4833c",
   "metadata": {},
   "source": [
    "Display the first few rows of the DataFrame to get an initial look at the data structure and content."
   ]
  },
  {
   "cell_type": "code",
   "execution_count": null,
   "id": "94613977",
   "metadata": {},
   "outputs": [],
   "source": [
    "df_1_EYE.head()"
   ]
  },
  {
   "cell_type": "markdown",
   "id": "1df990f3",
   "metadata": {},
   "source": [
    "Check the dimensions (number of rows and columns) of the DataFrame."
   ]
  },
  {
   "cell_type": "code",
   "execution_count": null,
   "id": "ef4683c4",
   "metadata": {},
   "outputs": [],
   "source": [
    "df_1_EYE.shape"
   ]
  },
  {
   "cell_type": "markdown",
   "id": "be74e4b9",
   "metadata": {},
   "source": [
    "List the names of all columns in the DataFrame."
   ]
  },
  {
   "cell_type": "code",
   "execution_count": null,
   "id": "9bb4c029",
   "metadata": {},
   "outputs": [],
   "source": [
    "df_1_EYE.columns"
   ]
  },
  {
   "cell_type": "markdown",
   "id": "8d0bcebe",
   "metadata": {},
   "source": [
    "Display concise information about the DataFrame, including the data types of each column and the number of non-null values. This helps identify columns with missing data."
   ]
  },
  {
   "cell_type": "code",
   "execution_count": null,
   "id": "8d88b7b1",
   "metadata": {},
   "outputs": [],
   "source": [
    "df_1_EYE.info()"
   ]
  },
  {
   "cell_type": "markdown",
   "id": "fe9274f7",
   "metadata": {},
   "source": [
    "Calculate and display the number of missing values in each column."
   ]
  },
  {
   "cell_type": "code",
   "execution_count": null,
   "id": "333c7650",
   "metadata": {},
   "outputs": [],
   "source": [
    "df_1_EYE.isnull().sum()"
   ]
  },
  {
   "cell_type": "markdown",
   "id": "ba9622a7",
   "metadata": {},
   "source": [
    "Visualize the distribution of missing values using a heatmap. This provides a visual representation of which columns have missing data and the extent of missingness."
   ]
  },
  {
   "cell_type": "code",
   "execution_count": null,
   "id": "74a9cc33",
   "metadata": {},
   "outputs": [],
   "source": [
    "plt.figure(figsize=(12,8))\n",
    "sns.heatmap(df_1_EYE.isnull(), cmap='viridis')\n",
    "plt.show()"
   ]
  },
  {
   "cell_type": "markdown",
   "id": "cc47a977",
   "metadata": {},
   "source": [
    "# Notes & Observations\n",
    "\n",
    "- We observe many **null** (or missing) values in the `QuestionKey` columns.\n",
    "- The nulls in the `QuestionKey` column may not represent “true” nulls. Rather, they follow interval patterns, suggesting that during those periods no question was displayed.\n",
    "- These missing values in `QuestionKey` require additional investigation and context-aware handling."
   ]
  },
  {
   "cell_type": "markdown",
   "id": "a063e321",
   "metadata": {},
   "source": [
    "Display the unique values in the `QuestionKey` column to understand the different types of questions or states recorded."
   ]
  },
  {
   "cell_type": "code",
   "execution_count": null,
   "id": "6d7fcb92",
   "metadata": {},
   "outputs": [],
   "source": [
    "df_1_EYE['QuestionKey'].unique()"
   ]
  },
  {
   "cell_type": "markdown",
   "id": "97e5056c",
   "metadata": {},
   "source": [
    "Convert the `Timestamp` column to datetime objects. This is crucial for any time series analysis or manipulation."
   ]
  },
  {
   "cell_type": "code",
   "execution_count": null,
   "id": "19614a7e",
   "metadata": {},
   "outputs": [],
   "source": [
    "df_1_EYE['Timestamp'] = pd.to_datetime(df_1_EYE['Timestamp'])"
   ]
  },
  {
   "cell_type": "markdown",
   "id": "d4c4c88c",
   "metadata": {},
   "source": [
    "Display the first few rows again to see the effect of the timestamp conversion."
   ]
  },
  {
   "cell_type": "code",
   "execution_count": null,
   "id": "fa112982",
   "metadata": {},
   "outputs": [],
   "source": [
    "df_1_EYE.head(3)"
   ]
  },
  {
   "cell_type": "markdown",
   "id": "f30606ed",
   "metadata": {},
   "source": [
    "Fill the missing values in the `QuestionKey` column with the string 'None'. This helps to explicitly mark periods where no question was active."
   ]
  },
  {
   "cell_type": "code",
   "execution_count": null,
   "id": "118e9c1a",
   "metadata": {},
   "outputs": [],
   "source": [
    "df_1_EYE['QuestionKey'].fillna('None', inplace=True)"
   ]
  },
  {
   "cell_type": "markdown",
   "id": "532680f8",
   "metadata": {},
   "source": [
    "Count the occurrences of each unique value in the `QuestionKey` column after filling missing values."
   ]
  },
  {
   "cell_type": "code",
   "execution_count": null,
   "id": "3054ab70",
   "metadata": {},
   "outputs": [],
   "source": [
    "df_1_EYE['QuestionKey'].value_counts()"
   ]
  },
  {
   "cell_type": "markdown",
   "id": "71f17ac0",
   "metadata": {},
   "source": [
    "Display the heatmap of missing values again to confirm that the missing values in `QuestionKey` have been handled."
   ]
  },
  {
   "cell_type": "code",
   "execution_count": null,
   "id": "a5b172d5",
   "metadata": {},
   "outputs": [],
   "source": [
    "plt.figure(figsize=(12,8))\n",
    "sns.heatmap(df_1_EYE.isnull(), cmap='viridis')\n",
    "plt.show()"
   ]
  },
  {
   "cell_type": "markdown",
   "id": "c5d9320f",
   "metadata": {},
   "source": [
    "Recalculate and display the number of missing values per column to confirm the changes after handling `QuestionKey`."
   ]
  },
  {
   "cell_type": "code",
   "execution_count": null,
   "id": "38ec4ce0",
   "metadata": {},
   "outputs": [],
   "source": [
    "df_1_EYE.isnull().sum()"
   ]
  },
  {
   "cell_type": "markdown",
   "id": "ddfeff0f",
   "metadata": {},
   "source": [
    "Drop rows that still contain any missing values. This is done after handling `QuestionKey` separately."
   ]
  },
  {
   "cell_type": "code",
   "execution_count": null,
   "id": "2596920b",
   "metadata": {},
   "outputs": [],
   "source": [
    "df_1_EYE.dropna(inplace=True)"
   ]
  },
  {
   "cell_type": "markdown",
   "id": "c326411b",
   "metadata": {},
   "source": [
    "Display the first few rows after dropping rows with missing values."
   ]
  },
  {
   "cell_type": "code",
   "execution_count": null,
   "id": "fa7e8d52",
   "metadata": {},
   "outputs": [],
   "source": [
    "df_1_EYE.head()"
   ]
  },
  {
   "cell_type": "markdown",
   "id": "33f4fe7a",
   "metadata": {},
   "source": [
    "Display the unique values in the `Row` column."
   ]
  },
  {
   "cell_type": "code",
   "execution_count": null,
   "id": "34353161",
   "metadata": {},
   "outputs": [],
   "source": [
    "df_1_EYE['Row'].unique()"
   ]
  },
  {
   "cell_type": "markdown",
   "id": "dc88a3e4",
   "metadata": {},
   "source": [
    "Plot a histogram of the `Row` column to visualize its distribution."
   ]
  },
  {
   "cell_type": "code",
   "execution_count": null,
   "id": "2c0d7900",
   "metadata": {},
   "outputs": [],
   "source": [
    "plt.figure(figsize=(8,6))\n",
    "sns.histplot(df_1_EYE['Row'])\n",
    "plt.show()"
   ]
  },
  {
   "cell_type": "markdown",
   "id": "05c73276",
   "metadata": {},
   "source": [
    "# Notes & Observations\n",
    "\n",
    "- The `Row` column appears to be a simple row index and does not provide meaningful information relevant to the eye-tracking data itself. Therefore, it can be dropped."
   ]
  },
  {
   "cell_type": "markdown",
   "id": "83de06f5",
   "metadata": {},
   "source": [
    "Drop the `Row` column as it is not relevant for the analysis."
   ]
  },
  {
   "cell_type": "code",
   "execution_count": null,
   "id": "438bacc2",
   "metadata": {},
   "outputs": [],
   "source": [
    "df_1_EYE.drop('Row', axis=1, inplace=True)"
   ]
  },
  {
   "cell_type": "markdown",
   "id": "86bdac42",
   "metadata": {},
   "source": [
    "Display the unique values in the `ET_ValidityLeft` column."
   ]
  },
  {
   "cell_type": "code",
   "execution_count": null,
   "id": "cf7c5eb1",
   "metadata": {},
   "outputs": [],
   "source": [
    "df_1_EYE['ET_ValidityLeft'].unique()"
   ]
  },
  {
   "cell_type": "markdown",
   "id": "bdfdc8a1",
   "metadata": {},
   "source": [
    "Count the occurrences of each unique value in the `ET_ValidityLeft` column."
   ]
  },
  {
   "cell_type": "code",
   "execution_count": null,
   "id": "722420ee",
   "metadata": {},
   "outputs": [],
   "source": [
    "df_1_EYE['ET_ValidityLeft'].value_counts()"
   ]
  },
  {
   "cell_type": "markdown",
   "id": "91c075f8",
   "metadata": {},
   "source": [
    "Display the unique values in the `ET_ValidityRight` column."
   ]
  },
  {
   "cell_type": "code",
   "execution_count": null,
   "id": "56475697",
   "metadata": {},
   "outputs": [],
   "source": [
    "df_1_EYE['ET_ValidityRight'].unique()"
   ]
  },
  {
   "cell_type": "markdown",
   "id": "ed0d47d9",
   "metadata": {},
   "source": [
    "Count the occurrences of each unique value in the `ET_ValidityRight` column."
   ]
  },
  {
   "cell_type": "code",
   "execution_count": null,
   "id": "f3527ce2",
   "metadata": {},
   "outputs": [],
   "source": [
    "df_1_EYE['ET_ValidityRight'].value_counts()"
   ]
  },
  {
   "cell_type": "markdown",
   "id": "99c7f55f",
   "metadata": {},
   "source": [
    "Visualize the counts of valid and invalid data for both left and right eyes using bar plots."
   ]
  },
  {
   "cell_type": "code",
   "execution_count": null,
   "id": "9aed0569",
   "metadata": {},
   "outputs": [],
   "source": [
    "plt.figure(figsize=(12, 6))\n",
    "\n",
    "plt.subplot(1, 2, 1)\n",
    "sns.barplot(x=df_1_EYE['ET_ValidityLeft'].value_counts().index, y=df_1_EYE['ET_ValidityLeft'].value_counts().values)\n",
    "plt.title('Count of ET_ValidityLeft')\n",
    "plt.xlabel('Validity')\n",
    "plt.ylabel('Count')\n",
    "\n",
    "\n",
    "plt.subplot(1, 2, 2)\n",
    "sns.barplot(x=df_1_EYE['ET_ValidityRight'].value_counts().index, y=df_1_EYE['ET_ValidityRight'].value_counts().values)\n",
    "plt.title('Count of ET_ValidityRight')\n",
    "plt.xlabel('Validity')\n",
    "plt.ylabel('Count')\n",
    "\n",
    "plt.tight_layout()\n",
    "plt.show()"
   ]
  },
  {
   "cell_type": "markdown",
   "id": "a6d23cbf",
   "metadata": {},
   "source": [
    "# Notes & Observations\n",
    "\n",
    "- The `ET_ValidityLeft` and `ET_ValidityRight` columns indicate the validity of the eye-tracking data for the left and right eye, respectively.\n",
    "- Based on the value counts and the bar plots, it appears that a value of `0.0` represents valid eye-tracking data, while a value of `4.0` represents invalid data.\n",
    "- Although the amount of invalid data is relatively small, removing these rows could introduce unwanted patterns or gaps in the time series data.\n",
    "- Therefore, we will keep the data and replace the value `4.0` with `1.0` in both `ET_ValidityLeft` and `ET_ValidityRight` columns. This will indicate to a machine learning model that the eye tracker had invalid data at those specific points in time while maintaining the integrity of the time series."
   ]
  },
  {
   "cell_type": "markdown",
   "id": "3a26c34b",
   "metadata": {},
   "source": [
    "Define a mapping to convert validity values from `0.0` and `4.0` to `0` and `1`."
   ]
  },
  {
   "cell_type": "code",
   "execution_count": null,
   "id": "561d44ae",
   "metadata": {},
   "outputs": [],
   "source": [
    "validity_map = {4.0: 1.0, 0.0: 0.0}"
   ]
  },
  {
   "cell_type": "markdown",
   "id": "e1a52910",
   "metadata": {},
   "source": [
    "Apply the mapping to the `ET_ValidityLeft` and `ET_ValidityRight` columns and convert the data type to integer."
   ]
  },
  {
   "cell_type": "code",
   "execution_count": null,
   "id": "5ad4cc7f",
   "metadata": {},
   "outputs": [],
   "source": [
    "df_1_EYE['ET_ValidityLeft'] = df_1_EYE['ET_ValidityLeft'].map(validity_map).astype(np.int8)\n",
    "df_1_EYE['ET_ValidityRight'] = df_1_EYE['ET_ValidityRight'].map(validity_map).astype(np.int8)"
   ]
  },
  {
   "cell_type": "markdown",
   "id": "4f56b70a",
   "metadata": {},
   "source": [
    "Display the first few rows to see the updated validity columns."
   ]
  },
  {
   "cell_type": "code",
   "execution_count": null,
   "id": "beff832c",
   "metadata": {},
   "outputs": [],
   "source": [
    "df_1_EYE.head(3)"
   ]
  },
  {
   "cell_type": "markdown",
   "id": "39f0ebb0",
   "metadata": {},
   "source": [
    "Display descriptive statistics for the DataFrame, including count, mean, standard deviation, min, max, and quartiles for numeric columns."
   ]
  },
  {
   "cell_type": "code",
   "execution_count": null,
   "id": "b5e77749",
   "metadata": {},
   "outputs": [],
   "source": [
    "df_1_EYE.describe()"
   ]
  },
  {
   "cell_type": "markdown",
   "id": "50dfa17d",
   "metadata": {},
   "source": [
    "Check the number of rows where `ET_ValidityLeft` is 1 (invalid data for the left eye)."
   ]
  },
  {
   "cell_type": "code",
   "execution_count": null,
   "id": "b5af682e",
   "metadata": {},
   "outputs": [],
   "source": [
    "df_1_EYE[df_1_EYE['ET_ValidityLeft'] == 1].shape"
   ]
  },
  {
   "cell_type": "markdown",
   "id": "8201b520",
   "metadata": {},
   "source": [
    "Check the number of rows where `ET_ValidityRight` is 1 (invalid data for the right eye)."
   ]
  },
  {
   "cell_type": "code",
   "execution_count": null,
   "id": "a574d30c",
   "metadata": {},
   "outputs": [],
   "source": [
    "df_1_EYE[df_1_EYE['ET_ValidityRight'] == 1].shape"
   ]
  },
  {
   "cell_type": "markdown",
   "id": "f8c7f0ad",
   "metadata": {},
   "source": [
    "Visualize the distribution of -1 and 1 values across columns using heatmaps. This helps identify columns with placeholder or indicator values."
   ]
  },
  {
   "cell_type": "code",
   "execution_count": null,
   "id": "0a0fe03e",
   "metadata": {},
   "outputs": [],
   "source": [
    "plt.figure(figsize=(18, 8))\n",
    "\n",
    "plt.subplot(1, 2, 1)\n",
    "sns.heatmap(df_1_EYE == -1, cmap='viridis')\n",
    "plt.title('Heatmap of -1 Values')\n",
    "\n",
    "plt.subplot(1, 2, 2)\n",
    "sns.heatmap(df_1_EYE == 1, cmap='viridis')\n",
    "plt.title('Heatmap of 1 Values')\n",
    "\n",
    "plt.tight_layout()\n",
    "plt.show()"
   ]
  },
  {
   "cell_type": "markdown",
   "id": "77496d07",
   "metadata": {},
   "source": [
    "Check the number of rows where `ET_PupilLeft` is -1."
   ]
  },
  {
   "cell_type": "code",
   "execution_count": null,
   "id": "68e94743",
   "metadata": {},
   "outputs": [],
   "source": [
    "df_1_EYE[df_1_EYE['ET_PupilLeft'] == -1].shape"
   ]
  },
  {
   "cell_type": "markdown",
   "id": "f963eba8",
   "metadata": {},
   "source": [
    "Check the number of rows where `ET_PupilRight` is -1."
   ]
  },
  {
   "cell_type": "code",
   "execution_count": null,
   "id": "69460953",
   "metadata": {},
   "outputs": [],
   "source": [
    "df_1_EYE[df_1_EYE['ET_PupilRight'] == -1].shape"
   ]
  },
  {
   "cell_type": "markdown",
   "id": "0e58d3c8",
   "metadata": {},
   "source": [
    "Calculate the ratio of rows with -1 values in the `ET_PupilLeft` column to the total number of rows."
   ]
  },
  {
   "cell_type": "code",
   "execution_count": null,
   "id": "0f140a84",
   "metadata": {},
   "outputs": [],
   "source": [
    "df_1_EYE[df_1_EYE['ET_PupilLeft'] == -1].shape[0] / df_1_EYE.shape[0]"
   ]
  },
  {
   "cell_type": "markdown",
   "id": "2d7d78b1",
   "metadata": {},
   "source": [
    "Calculate the ratio of rows with -1 values in the `ET_PupilRight` column to the total number of rows."
   ]
  },
  {
   "cell_type": "code",
   "execution_count": null,
   "id": "f9a4d66a",
   "metadata": {},
   "outputs": [],
   "source": [
    "df_1_EYE[df_1_EYE['ET_PupilRight'] == -1].shape[0] / df_1_EYE.shape[0]"
   ]
  },
  {
   "cell_type": "markdown",
   "id": "2af0f05a",
   "metadata": {},
   "source": [
    "Visualize the distribution of -1 values specifically for rows where validity is 1 (invalid data)."
   ]
  },
  {
   "cell_type": "code",
   "execution_count": null,
   "id": "0074d580",
   "metadata": {},
   "outputs": [],
   "source": [
    "plt.figure(figsize=(18, 8))\n",
    "\n",
    "plt.subplot(1, 2, 1)\n",
    "sns.heatmap(df_1_EYE[df_1_EYE['ET_ValidityLeft'] == 1] == -1, cmap='viridis')\n",
    "plt.title('Heatmap of -1 Values')\n",
    "\n",
    "plt.subplot(1, 2, 2)\n",
    "sns.heatmap(df_1_EYE[df_1_EYE['ET_ValidityRight'] == 1] == -1, cmap='viridis')\n",
    "plt.title('Heatmap of -1 Values')\n",
    "\n",
    "plt.tight_layout()\n",
    "plt.show()"
   ]
  },
  {
   "cell_type": "markdown",
   "id": "a728b3d2",
   "metadata": {},
   "source": [
    "# Notes & Observations\n",
    "\n",
    "- The heatmaps reveal the distribution of -1 values across different columns.\n",
    "- It is evident that the `-1` values are not randomly scattered but appear in specific columns, notably `ET_GazeLeftx`, `ET_GazeLefty`, `ET_GazeRightx`, `ET_GazeRighty`, `ET_PupilLeft`, `ET_PupilRight`, `ET_DistanceLeft`, `ET_DistanceRight`, `ET_CameraLeftX`, `ET_CameraLeftY`, `ET_CameraRightX`, and `ET_CameraRightY`.\n",
    "- These `-1` values often coincide with instances where `ET_ValidityLeft` or `ET_ValidityRight` is 1, indicating invalid eye-tracking data. This suggests that `-1` is used as a placeholder for missing or invalid measurements in these columns when the eye tracker is not providing valid data for a particular eye.\n",
    "- Given that over 70% of the data in the `ET_PupilLeft` and `ET_PupilRight` columns is marked as invalid (-1), these columns may not be suitable for analysis and could be considered for dropping."
   ]
  },
  {
   "cell_type": "markdown",
   "id": "3042abc1",
   "metadata": {},
   "source": [
    "Drop the `ET_PupilLeft` and `ET_PupilRight` columns due to the high percentage of invalid data."
   ]
  },
  {
   "cell_type": "code",
   "execution_count": null,
   "id": "71b4586f",
   "metadata": {},
   "outputs": [],
   "source": [
    "df_1_EYE.drop(['ET_PupilLeft', 'ET_PupilRight'], axis=1, inplace=True)"
   ]
  },
  {
   "cell_type": "markdown",
   "id": "4b936b4b",
   "metadata": {},
   "source": [
    "Display the first few rows after dropping the pupil columns."
   ]
  },
  {
   "cell_type": "code",
   "execution_count": null,
   "id": "e27ec391",
   "metadata": {},
   "outputs": [],
   "source": [
    "df_1_EYE.head()"
   ]
  },
  {
   "cell_type": "markdown",
   "id": "de56abc2",
   "metadata": {},
   "source": [
    "Visualize the distribution of -1 and 1 values again after dropping the pupil columns."
   ]
  },
  {
   "cell_type": "code",
   "execution_count": null,
   "id": "769045b9",
   "metadata": {},
   "outputs": [],
   "source": [
    "plt.figure(figsize=(18, 8))\n",
    "\n",
    "plt.subplot(1, 2, 1)\n",
    "sns.heatmap(df_1_EYE == -1, cmap='viridis')\n",
    "plt.title('Heatmap of -1 Values')\n",
    "\n",
    "plt.subplot(1, 2, 2)\n",
    "sns.heatmap(df_1_EYE == 1, cmap='viridis')\n",
    "plt.title('Heatmap of -1 Values')\n",
    "\n",
    "plt.tight_layout()\n",
    "plt.show()"
   ]
  },
  {
   "cell_type": "markdown",
   "id": "0f6e2f51",
   "metadata": {},
   "source": [
    "Calculate the ratio of valid data points for the left eye."
   ]
  },
  {
   "cell_type": "code",
   "execution_count": null,
   "id": "3a618d75",
   "metadata": {},
   "outputs": [],
   "source": [
    "valid_left_ratio  = 1 - df_1_EYE['ET_ValidityLeft'].mean()"
   ]
  },
  {
   "cell_type": "markdown",
   "id": "693e8edf",
   "metadata": {},
   "source": [
    "Display the ratio of valid data points for the left eye."
   ]
  },
  {
   "cell_type": "code",
   "execution_count": null,
   "id": "6861c83a",
   "metadata": {},
   "outputs": [],
   "source": [
    "valid_left_ratio"
   ]
  },
  {
   "cell_type": "markdown",
   "id": "24a62e3e",
   "metadata": {},
   "source": [
    "Calculate the ratio of valid data points for the right eye."
   ]
  },
  {
   "cell_type": "code",
   "execution_count": null,
   "id": "0c9fa3fb",
   "metadata": {},
   "outputs": [],
   "source": [
    "valid_right_ratio = 1 - df_1_EYE['ET_ValidityRight'].mean()"
   ]
  },
  {
   "cell_type": "markdown",
   "id": "42ccf54b",
   "metadata": {},
   "source": [
    "Display the ratio of valid data points for the right eye."
   ]
  },
  {
   "cell_type": "code",
   "execution_count": null,
   "id": "11b3da93",
   "metadata": {},
   "outputs": [],
   "source": [
    "valid_right_ratio"
   ]
  },
  {
   "cell_type": "markdown",
   "id": "d0981cbe",
   "metadata": {},
   "source": [
    "Display the first few rows of the DataFrame."
   ]
  },
  {
   "cell_type": "code",
   "execution_count": null,
   "id": "7552ae80",
   "metadata": {},
   "outputs": [],
   "source": [
    "df_1_EYE.head()"
   ]
  },
  {
   "cell_type": "markdown",
   "id": "967095c1",
   "metadata": {},
   "source": [
    "Visualize the distributions of numeric columns using histograms with Kernel Density Estimate (KDE) plots. This helps understand the shape and spread of the data in each numeric column."
   ]
  },
  {
   "cell_type": "code",
   "execution_count": null,
   "id": "5a488b26",
   "metadata": {},
   "outputs": [],
   "source": [
    "# Select only the numeric columns for plotting histograms, excluding time-related columns\n",
    "numeric_cols = df_1_EYE.select_dtypes(include=np.number).columns\n",
    "cols_to_plot = [col for col in numeric_cols if col not in ['UnixTime']]\n",
    "\n",
    "# Calculate the number of rows and columns for the grid\n",
    "n_cols = 4  # You can adjust the number of columns as needed\n",
    "n_rows = (len(cols_to_plot) + n_cols - 1) // n_cols\n",
    "\n",
    "plt.figure(figsize=(n_cols * 5, n_rows * 4)) # Adjust figure size as needed\n",
    "\n",
    "for i, col in enumerate(cols_to_plot):\n",
    "    plt.subplot(n_rows, n_cols, i + 1)\n",
    "    sns.histplot(df_1_EYE[col], kde=True)\n",
    "    plt.title(f'Distribution of {col}')\n",
    "    plt.xlabel(col)\n",
    "    plt.ylabel('Frequency')\n",
    "\n",
    "plt.tight_layout()\n",
    "plt.show()"
   ]
  },
  {
   "cell_type": "markdown",
   "id": "380ac32e",
   "metadata": {},
   "source": [
    "List the names of the columns in the DataFrame."
   ]
  },
  {
   "cell_type": "code",
   "execution_count": null,
   "id": "c1d64f08",
   "metadata": {},
   "outputs": [],
   "source": [
    "df_1_EYE.columns"
   ]
  },
  {
   "cell_type": "markdown",
   "id": "af1ec220",
   "metadata": {},
   "source": [
    "Define a list of columns to be plotted over time."
   ]
  },
  {
   "cell_type": "code",
   "execution_count": null,
   "id": "232dcb3d",
   "metadata": {},
   "outputs": [],
   "source": [
    "cols = ['ET_GazeLeftx', 'ET_GazeLefty',\n",
    "       'ET_GazeRightx', 'ET_GazeRighty', 'ET_TimeSignal', 'ET_DistanceLeft',\n",
    "       'ET_DistanceRight', 'ET_CameraLeftX', 'ET_CameraLeftY',\n",
    "       'ET_CameraRightX', 'ET_CameraRightY', 'ET_ValidityLeft',\n",
    "       'ET_ValidityRight']"
   ]
  },
  {
   "cell_type": "markdown",
   "id": "a9775aed",
   "metadata": {},
   "source": [
    "Plot each of the selected columns against the timestamp to visualize their trends and patterns over time. Markdown cells are added before each plot for better readability."
   ]
  },
  {
   "cell_type": "code",
   "execution_count": null,
   "id": "1322c238",
   "metadata": {},
   "outputs": [],
   "source": [
    "from IPython.display import display, Markdown\n",
    "\n",
    "for col in cols:\n",
    "    # Add a markdown cell before each plot for better separation and labeling\n",
    "    display(Markdown(f'### {col} over Time'))\n",
    "    plt.figure(figsize=(16, 10))\n",
    "    plt.plot(df_1_EYE['Timestamp'], df_1_EYE[col])\n",
    "    plt.xlabel(\"Timestamp\") # Add x-axis label\n",
    "    plt.ylabel(col) # Add y-axis label\n",
    "    plt.show()"
   ]
  },
  {
   "cell_type": "markdown",
   "id": "53370611",
   "metadata": {},
   "source": [
    "Visualize the distributions of numeric columns using boxplots. This helps identify potential outliers and the spread of the data."
   ]
  },
  {
   "cell_type": "code",
   "execution_count": null,
   "id": "214dfd25",
   "metadata": {},
   "outputs": [],
   "source": [
    "# Select only the numeric columns for plotting histograms, excluding time-related columns\n",
    "numeric_cols = df_1_EYE.select_dtypes(include=np.number).columns\n",
    "\n",
    "# Calculate the number of rows and columns for the grid\n",
    "n_cols = 4  # You can adjust the number of columns as needed\n",
    "n_rows = (len(numeric_cols) + n_cols - 1) // n_cols\n",
    "\n",
    "plt.figure(figsize=(n_cols * 5, n_rows * 4)) # Adjust figure size as needed\n",
    "\n",
    "for i, col in enumerate(numeric_cols):\n",
    "    plt.subplot(n_rows, n_cols, i + 1)\n",
    "    sns.boxplot(df_1_EYE[col])\n",
    "    plt.title(f'Boxplot of {col}')\n",
    "    plt.xlabel(col)\n",
    "\n",
    "plt.tight_layout()\n",
    "plt.show()"
   ]
  },
  {
   "cell_type": "markdown",
   "id": "b51a6901",
   "metadata": {},
   "source": [
    "Replace the placeholder value -1 with NaN (Not a Number) in the DataFrame. This is done before imputation."
   ]
  },
  {
   "cell_type": "code",
   "execution_count": null,
   "id": "8c86f3c0",
   "metadata": {},
   "outputs": [],
   "source": [
    "df_1_EYE.replace({-1: np.nan}, inplace=True)"
   ]
  },
  {
   "cell_type": "markdown",
   "id": "ae218ffb",
   "metadata": {},
   "source": [
    "Impute the missing values (NaN) in the numeric columns with the mean of each column."
   ]
  },
  {
   "cell_type": "code",
   "execution_count": null,
   "id": "7937cc1f",
   "metadata": {},
   "outputs": [],
   "source": [
    "numeric_cols = df_1_EYE.select_dtypes(include=np.number).columns\n",
    "\n",
    "for col in numeric_cols:\n",
    "    df_1_EYE[col].fillna(df_1_EYE[col].mean(), inplace=True)"
   ]
  },
  {
   "cell_type": "markdown",
   "id": "3a5ea390",
   "metadata": {},
   "source": [
    "Display the first few rows after imputing missing values."
   ]
  },
  {
   "cell_type": "code",
   "execution_count": null,
   "id": "a5bd3c57",
   "metadata": {},
   "outputs": [],
   "source": [
    "df_1_EYE.head()"
   ]
  },
  {
   "cell_type": "markdown",
   "id": "9907bbec",
   "metadata": {},
   "source": [
    "Visualize the distributions of numeric columns again using histograms with KDE plots after imputation. This helps assess the impact of imputation on the data distributions."
   ]
  },
  {
   "cell_type": "code",
   "execution_count": null,
   "id": "74d600c9",
   "metadata": {},
   "outputs": [],
   "source": [
    "# Select only the numeric columns for plotting histograms, excluding time-related columns\n",
    "numeric_cols = df_1_EYE.select_dtypes(include=np.number).columns\n",
    "cols_to_plot = [col for col in numeric_cols if col not in ['UnixTime']]\n",
    "\n",
    "# Calculate the number of rows and columns for the grid\n",
    "n_cols = 4  # You can adjust the number of columns as needed\n",
    "n_rows = (len(cols_to_plot) + n_cols - 1) // n_cols\n",
    "\n",
    "plt.figure(figsize=(n_cols * 5, n_rows * 4)) # Adjust figure size as needed\n",
    "\n",
    "for i, col in enumerate(cols_to_plot):\n",
    "    plt.subplot(n_rows, n_cols, i + 1)\n",
    "    sns.histplot(df_1_EYE[col], kde=True)\n",
    "    plt.title(f'Distribution of {col}')\n",
    "    plt.xlabel(col)\n",
    "    plt.ylabel('Frequency')\n",
    "\n",
    "plt.tight_layout()\n",
    "plt.show()"
   ]
  },
  {
   "cell_type": "code",
   "execution_count": null,
   "id": "51cb2c37",
   "metadata": {},
   "outputs": [],
   "source": []
  },
  {
   "cell_type": "markdown",
   "id": "6c10d981",
   "metadata": {},
   "source": [
    "## Student 2"
   ]
  },
  {
   "cell_type": "code",
   "execution_count": null,
   "id": "1e4de749",
   "metadata": {},
   "outputs": [],
   "source": [
    "%load_ext cudf"
   ]
  },
  {
   "cell_type": "code",
   "execution_count": null,
   "id": "a46da46e",
   "metadata": {},
   "outputs": [],
   "source": [
    "import numpy as np\n",
    "import pandas as pd\n",
    "import matplotlib.pyplot as plt\n",
    "import seaborn as sns"
   ]
  },
  {
   "cell_type": "code",
   "execution_count": null,
   "id": "ca2860ae",
   "metadata": {},
   "outputs": [],
   "source": [
    "import datashader as ds\n",
    "import datashader.transfer_functions as tf"
   ]
  },
  {
   "cell_type": "code",
   "execution_count": null,
   "id": "c22f34a0",
   "metadata": {},
   "outputs": [],
   "source": [
    "pd.set_option('display.max_columns', None)"
   ]
  },
  {
   "cell_type": "code",
   "execution_count": null,
   "id": "981a90e1",
   "metadata": {},
   "outputs": [],
   "source": [
    "df_2_EYE = pd.read_csv('data/STData/2/2_EYE.csv')"
   ]
  },
  {
   "cell_type": "code",
   "execution_count": null,
   "id": "5b5971e9",
   "metadata": {},
   "outputs": [],
   "source": [
    "df_2_EYE.head()"
   ]
  },
  {
   "cell_type": "code",
   "execution_count": null,
   "id": "ad744273",
   "metadata": {},
   "outputs": [],
   "source": [
    "df_2_EYE.shape"
   ]
  },
  {
   "cell_type": "code",
   "execution_count": null,
   "id": "46ab9fac",
   "metadata": {},
   "outputs": [],
   "source": [
    "df_2_EYE.columns"
   ]
  },
  {
   "cell_type": "code",
   "execution_count": null,
   "id": "4bb1a39d",
   "metadata": {},
   "outputs": [],
   "source": [
    "df_2_EYE.info()"
   ]
  },
  {
   "cell_type": "code",
   "execution_count": null,
   "id": "614bcb56",
   "metadata": {},
   "outputs": [],
   "source": [
    "df_2_EYE.isnull().sum()"
   ]
  },
  {
   "cell_type": "code",
   "execution_count": null,
   "id": "156d8349",
   "metadata": {},
   "outputs": [],
   "source": [
    "plt.figure(figsize=(12,8))\n",
    "sns.heatmap(df_2_EYE.isnull(), cmap='viridis')\n",
    "plt.show()"
   ]
  },
  {
   "cell_type": "markdown",
   "id": "c04cfdc3",
   "metadata": {},
   "source": [
    "# Notes & Observations\n",
    "\n",
    "- We observe many **null** (or missing) values in the `QuestionKey` columns.  \n",
    "- The nulls in the `QuestionKey` column may not represent “true” nulls. Rather, they follow interval patterns, suggesting that during those periods no question was displayed.  \n",
    "- These missing values in `QuestionKey` require additional investigation and context-aware handling.  "
   ]
  },
  {
   "cell_type": "code",
   "execution_count": null,
   "id": "cdad49da",
   "metadata": {},
   "outputs": [],
   "source": [
    "df_2_EYE['QuestionKey'].unique()"
   ]
  },
  {
   "cell_type": "code",
   "execution_count": null,
   "id": "ab9e4aa2",
   "metadata": {},
   "outputs": [],
   "source": [
    "df_2_EYE['Timestamp'] = pd.to_datetime(df_2_EYE['Timestamp'])"
   ]
  },
  {
   "cell_type": "code",
   "execution_count": null,
   "id": "316ce2c4",
   "metadata": {},
   "outputs": [],
   "source": [
    "df_2_EYE.head(3)"
   ]
  },
  {
   "cell_type": "code",
   "execution_count": null,
   "id": "7eb95de2",
   "metadata": {},
   "outputs": [],
   "source": [
    "df_2_EYE['QuestionKey'].fillna('None', inplace=True)"
   ]
  },
  {
   "cell_type": "code",
   "execution_count": null,
   "id": "b6d04c39",
   "metadata": {},
   "outputs": [],
   "source": [
    "df_2_EYE['QuestionKey'].value_counts()"
   ]
  },
  {
   "cell_type": "code",
   "execution_count": null,
   "id": "43decbe3",
   "metadata": {},
   "outputs": [],
   "source": [
    "plt.figure(figsize=(12,8))\n",
    "sns.heatmap(df_2_EYE.isnull(), cmap='viridis')\n",
    "plt.show()"
   ]
  },
  {
   "cell_type": "code",
   "execution_count": null,
   "id": "89dd50d7",
   "metadata": {},
   "outputs": [],
   "source": [
    "df_2_EYE.isnull().sum()"
   ]
  },
  {
   "cell_type": "code",
   "execution_count": null,
   "id": "fa3637fd",
   "metadata": {},
   "outputs": [],
   "source": [
    "df_2_EYE.dropna(inplace=True)"
   ]
  },
  {
   "cell_type": "code",
   "execution_count": null,
   "id": "f903bf50",
   "metadata": {},
   "outputs": [],
   "source": [
    "df_2_EYE.head()"
   ]
  },
  {
   "cell_type": "code",
   "execution_count": null,
   "id": "b9d2b392",
   "metadata": {},
   "outputs": [],
   "source": [
    "df_2_EYE['Row'].unique()"
   ]
  },
  {
   "cell_type": "code",
   "execution_count": null,
   "id": "a35c69b2",
   "metadata": {},
   "outputs": [],
   "source": [
    "plt.figure(figsize=(8,6))\n",
    "sns.histplot(df_2_EYE['Row'])\n",
    "plt.show()"
   ]
  },
  {
   "cell_type": "markdown",
   "id": "d6167cca",
   "metadata": {},
   "source": [
    "# Notes & Observations\n",
    "\n",
    "- The `Row` column appears to be a simple row index and does not provide meaningful information relevant to the eye-tracking data itself. Therefore, it can be dropped."
   ]
  },
  {
   "cell_type": "code",
   "execution_count": null,
   "id": "196ea576",
   "metadata": {},
   "outputs": [],
   "source": [
    "df_2_EYE.drop('Row', axis=1, inplace=True)"
   ]
  },
  {
   "cell_type": "code",
   "execution_count": null,
   "id": "49a4e921",
   "metadata": {},
   "outputs": [],
   "source": [
    "df_2_EYE['ET_ValidityLeft'].unique()"
   ]
  },
  {
   "cell_type": "code",
   "execution_count": null,
   "id": "7853baba",
   "metadata": {},
   "outputs": [],
   "source": [
    "df_2_EYE['ET_ValidityLeft'].value_counts()"
   ]
  },
  {
   "cell_type": "code",
   "execution_count": null,
   "id": "b1a14ff9",
   "metadata": {},
   "outputs": [],
   "source": [
    "df_2_EYE['ET_ValidityRight'].unique()"
   ]
  },
  {
   "cell_type": "code",
   "execution_count": null,
   "id": "2ffb9339",
   "metadata": {},
   "outputs": [],
   "source": [
    "df_2_EYE['ET_ValidityRight'].value_counts()"
   ]
  },
  {
   "cell_type": "code",
   "execution_count": null,
   "id": "02c57b2f",
   "metadata": {},
   "outputs": [],
   "source": [
    "plt.figure(figsize=(12, 6))\n",
    "\n",
    "plt.subplot(1, 2, 1)\n",
    "sns.barplot(x=df_2_EYE['ET_ValidityLeft'].value_counts().index, y=df_2_EYE['ET_ValidityLeft'].value_counts().values)\n",
    "plt.title('Count of ET_ValidityLeft')\n",
    "plt.xlabel('Validity')\n",
    "plt.ylabel('Count')\n",
    "\n",
    "\n",
    "plt.subplot(1, 2, 2)\n",
    "sns.barplot(x=df_2_EYE['ET_ValidityRight'].value_counts().index, y=df_2_EYE['ET_ValidityRight'].value_counts().values)\n",
    "plt.title('Count of ET_ValidityRight')\n",
    "plt.xlabel('Validity')\n",
    "plt.ylabel('Count')\n",
    "\n",
    "plt.tight_layout()\n",
    "plt.show()"
   ]
  },
  {
   "cell_type": "markdown",
   "id": "c3576ad1",
   "metadata": {},
   "source": [
    "# Notes & Observations\n",
    "\n",
    "- The `ET_ValidityLeft` and `ET_ValidityRight` columns indicate the validity of the eye-tracking data for the left and right eye, respectively.\n",
    "- Based on the value counts and the bar plots, it appears that a value of `0.0` represents valid eye-tracking data, while a value of `4.0` represents invalid data.\n",
    "- Although the amount of invalid data is relatively small, removing these rows could introduce unwanted patterns or gaps in the time series data.\n",
    "- Therefore, we will keep the data and replace the value `4.0` with `1.0` in both `ET_ValidityLeft` and `ET_ValidityRight` columns. This will indicate to a machine learning model that the eye tracker had invalid data at those specific points in time while maintaining the integrity of the time series."
   ]
  },
  {
   "cell_type": "code",
   "execution_count": null,
   "id": "6c3ebfda",
   "metadata": {},
   "outputs": [],
   "source": [
    "validity_map = {4.0: 1.0, 0.0: 0.0}"
   ]
  },
  {
   "cell_type": "code",
   "execution_count": null,
   "id": "b765200c",
   "metadata": {},
   "outputs": [],
   "source": [
    "df_2_EYE['ET_ValidityLeft'] = df_2_EYE['ET_ValidityLeft'].map(validity_map).astype(np.int8)\n",
    "df_2_EYE['ET_ValidityRight'] = df_2_EYE['ET_ValidityRight'].map(validity_map).astype(np.int8)"
   ]
  },
  {
   "cell_type": "code",
   "execution_count": null,
   "id": "d73e1716",
   "metadata": {},
   "outputs": [],
   "source": [
    "df_2_EYE.head(3)"
   ]
  },
  {
   "cell_type": "code",
   "execution_count": null,
   "id": "2dcbfb7a",
   "metadata": {},
   "outputs": [],
   "source": [
    "df_2_EYE.describe()"
   ]
  },
  {
   "cell_type": "code",
   "execution_count": null,
   "id": "f4ff3a9a",
   "metadata": {},
   "outputs": [],
   "source": [
    "df_2_EYE[df_2_EYE['ET_ValidityLeft'] == 1].shape"
   ]
  },
  {
   "cell_type": "code",
   "execution_count": null,
   "id": "d01f3895",
   "metadata": {},
   "outputs": [],
   "source": [
    "df_2_EYE[df_2_EYE['ET_ValidityRight'] == 1].shape"
   ]
  },
  {
   "cell_type": "code",
   "execution_count": null,
   "id": "bad0a61e",
   "metadata": {},
   "outputs": [],
   "source": [
    "plt.figure(figsize=(18, 8))\n",
    "\n",
    "plt.subplot(1, 2, 1)\n",
    "sns.heatmap(df_2_EYE == -1, cmap='viridis')\n",
    "plt.title('Heatmap of -1 Values')\n",
    "\n",
    "plt.subplot(1, 2, 2)\n",
    "sns.heatmap(df_2_EYE == 1, cmap='viridis')\n",
    "plt.title('Heatmap of 1 Values')\n",
    "\n",
    "plt.tight_layout()\n",
    "plt.show()"
   ]
  },
  {
   "cell_type": "code",
   "execution_count": null,
   "id": "76e73da5",
   "metadata": {},
   "outputs": [],
   "source": [
    "df_2_EYE[df_2_EYE['ET_PupilLeft'] == -1].shape"
   ]
  },
  {
   "cell_type": "code",
   "execution_count": null,
   "id": "17259e71",
   "metadata": {},
   "outputs": [],
   "source": [
    "df_2_EYE[df_2_EYE['ET_PupilRight'] == -1].shape"
   ]
  },
  {
   "cell_type": "code",
   "execution_count": null,
   "id": "caa90644",
   "metadata": {},
   "outputs": [],
   "source": [
    "df_2_EYE[df_2_EYE['ET_PupilLeft'] == -1].shape[0] / df_2_EYE.shape[0]"
   ]
  },
  {
   "cell_type": "code",
   "execution_count": null,
   "id": "6a9c9c4b",
   "metadata": {},
   "outputs": [],
   "source": [
    "df_2_EYE[df_2_EYE['ET_PupilRight'] == -1].shape[0] / df_2_EYE.shape[0]"
   ]
  },
  {
   "cell_type": "code",
   "execution_count": null,
   "id": "215554ab",
   "metadata": {},
   "outputs": [],
   "source": [
    "plt.figure(figsize=(18, 8))\n",
    "\n",
    "plt.subplot(1, 2, 1)\n",
    "sns.heatmap(df_2_EYE[df_2_EYE['ET_ValidityLeft'] == 1] == -1, cmap='viridis')\n",
    "plt.title('Heatmap of -1 Values')\n",
    "\n",
    "plt.subplot(1, 2, 2)\n",
    "sns.heatmap(df_2_EYE[df_2_EYE['ET_ValidityRight'] == 1] == -1, cmap='viridis')\n",
    "plt.title('Heatmap of -1 Values')\n",
    "\n",
    "plt.tight_layout()\n",
    "plt.show()"
   ]
  },
  {
   "cell_type": "markdown",
   "id": "7d236eb4",
   "metadata": {},
   "source": [
    "# Notes & Observations\n",
    "\n",
    "- The heatmaps reveal the distribution of -1 values across different columns.\n",
    "- It is evident that the `-1` values are not randomly scattered but appear in specific columns, notably `ET_GazeLeftx`, `ET_GazeLefty`, `ET_GazeRightx`, `ET_GazeRighty`, `ET_PupilLeft`, `ET_PupilRight`, `ET_DistanceLeft`, `ET_DistanceRight`, `ET_CameraLeftX`, `ET_CameraLeftY`, `ET_CameraRightX`, and `ET_CameraRightY`.\n",
    "- These `-1` values often coincide with instances where `ET_ValidityLeft` or `ET_ValidityRight` is 1, indicating invalid eye-tracking data. This suggests that `-1` is used as a placeholder for missing or invalid measurements in these columns when the eye tracker is not providing valid data for a particular eye.\n",
    "- Given that over 70% of the data in the `ET_PupilLeft` and `ET_PupilRight` columns is marked as invalid (-1), these columns may not be suitable for analysis and could be considered for dropping."
   ]
  },
  {
   "cell_type": "code",
   "execution_count": null,
   "id": "8a72834b",
   "metadata": {},
   "outputs": [],
   "source": [
    "df_2_EYE.drop(['ET_PupilLeft', 'ET_PupilRight'], axis=1, inplace=True)"
   ]
  },
  {
   "cell_type": "code",
   "execution_count": null,
   "id": "f5c7e186",
   "metadata": {},
   "outputs": [],
   "source": [
    "df_2_EYE.head()"
   ]
  },
  {
   "cell_type": "code",
   "execution_count": null,
   "id": "5374b915",
   "metadata": {},
   "outputs": [],
   "source": [
    "plt.figure(figsize=(18, 8))\n",
    "\n",
    "plt.subplot(1, 2, 1)\n",
    "sns.heatmap(df_2_EYE == -1, cmap='viridis')\n",
    "plt.title('Heatmap of -1 Values')\n",
    "\n",
    "plt.subplot(1, 2, 2)\n",
    "sns.heatmap(df_2_EYE == 1, cmap='viridis')\n",
    "plt.title('Heatmap of -1 Values')\n",
    "\n",
    "plt.tight_layout()\n",
    "plt.show()"
   ]
  },
  {
   "cell_type": "code",
   "execution_count": null,
   "id": "b261184e",
   "metadata": {},
   "outputs": [],
   "source": [
    "valid_left_ratio  = 1 - df_2_EYE['ET_ValidityLeft'].mean()\n",
    "valid_right_ratio = 1 - df_2_EYE['ET_ValidityRight'].mean()"
   ]
  },
  {
   "cell_type": "code",
   "execution_count": null,
   "id": "9e233178",
   "metadata": {},
   "outputs": [],
   "source": [
    "valid_left_ratio"
   ]
  },
  {
   "cell_type": "code",
   "execution_count": null,
   "id": "729441bc",
   "metadata": {},
   "outputs": [],
   "source": [
    "valid_right_ratio"
   ]
  },
  {
   "cell_type": "code",
   "execution_count": null,
   "id": "b5d943ee",
   "metadata": {},
   "outputs": [],
   "source": [
    "df_2_EYE.head()"
   ]
  },
  {
   "cell_type": "code",
   "execution_count": null,
   "id": "7a98da59",
   "metadata": {},
   "outputs": [],
   "source": [
    "# Select only the numeric columns for plotting histograms, excluding time-related columns\n",
    "numeric_cols = df_2_EYE.select_dtypes(include=np.number).columns\n",
    "cols_to_plot = [col for col in numeric_cols if col not in ['UnixTime']]\n",
    "\n",
    "# Calculate the number of rows and columns for the grid\n",
    "n_cols = 4  # You can adjust the number of columns as needed\n",
    "n_rows = (len(cols_to_plot) + n_cols - 1) // n_cols\n",
    "\n",
    "plt.figure(figsize=(n_cols * 5, n_rows * 4)) # Adjust figure size as needed\n",
    "\n",
    "for i, col in enumerate(cols_to_plot):\n",
    "    plt.subplot(n_rows, n_cols, i + 1)\n",
    "    sns.histplot(df_2_EYE[col], kde=True)\n",
    "    plt.title(f'Distribution of {col}')\n",
    "    plt.xlabel(col)\n",
    "    plt.ylabel('Frequency')\n",
    "\n",
    "plt.tight_layout()\n",
    "plt.show()"
   ]
  },
  {
   "cell_type": "code",
   "execution_count": null,
   "id": "d2f1d170",
   "metadata": {},
   "outputs": [],
   "source": [
    "df_2_EYE.columns"
   ]
  },
  {
   "cell_type": "code",
   "execution_count": null,
   "id": "5c5b7288",
   "metadata": {},
   "outputs": [],
   "source": [
    "cols = ['ET_GazeLeftx', 'ET_GazeLefty',\n",
    "       'ET_GazeRightx', 'ET_GazeRighty', 'ET_TimeSignal', 'ET_DistanceLeft',\n",
    "       'ET_DistanceRight', 'ET_CameraLeftX', 'ET_CameraLeftY',\n",
    "       'ET_CameraRightX', 'ET_CameraRightY', 'ET_ValidityLeft',\n",
    "       'ET_ValidityRight']"
   ]
  },
  {
   "cell_type": "code",
   "execution_count": null,
   "id": "faa4a8f9",
   "metadata": {},
   "outputs": [],
   "source": [
    "from IPython.display import display, Markdown\n",
    "\n",
    "for col in cols:\n",
    "    # Add a markdown cell before each plot for better separation and labeling\n",
    "    display(Markdown(f'### {col} over Time'))\n",
    "    plt.figure(figsize=(16, 10))\n",
    "    plt.plot(df_2_EYE['Timestamp'], df_2_EYE[col])\n",
    "    plt.xlabel(\"Timestamp\") # Add x-axis label\n",
    "    plt.ylabel(col) # Add y-axis label\n",
    "    plt.show()"
   ]
  },
  {
   "cell_type": "code",
   "execution_count": null,
   "id": "7aee13c3",
   "metadata": {},
   "outputs": [],
   "source": [
    "# Select only the numeric columns for plotting histograms, excluding time-related columns\n",
    "numeric_cols = df_2_EYE.select_dtypes(include=np.number).columns\n",
    "\n",
    "# Calculate the number of rows and columns for the grid\n",
    "n_cols = 4  # You can adjust the number of columns as needed\n",
    "n_rows = (len(numeric_cols) + n_cols - 1) // n_cols\n",
    "\n",
    "plt.figure(figsize=(n_cols * 5, n_rows * 4)) # Adjust figure size as needed\n",
    "\n",
    "for i, col in enumerate(numeric_cols):\n",
    "    plt.subplot(n_rows, n_cols, i + 1)\n",
    "    sns.boxplot(df_2_EYE[col])\n",
    "    plt.title(f'Boxplot of {col}')\n",
    "    plt.xlabel(col)\n",
    "\n",
    "plt.tight_layout()\n",
    "plt.show()"
   ]
  },
  {
   "cell_type": "code",
   "execution_count": null,
   "id": "b0e3d6b2",
   "metadata": {},
   "outputs": [],
   "source": [
    "df_2_EYE.replace({-1: np.nan}, inplace=True)"
   ]
  },
  {
   "cell_type": "code",
   "execution_count": null,
   "id": "4e160344",
   "metadata": {},
   "outputs": [],
   "source": [
    "numeric_cols = df_2_EYE.select_dtypes(include=np.number).columns\n",
    "\n",
    "for col in numeric_cols:\n",
    "    df_2_EYE[col].fillna(df_2_EYE[col].mean(), inplace=True)"
   ]
  },
  {
   "cell_type": "code",
   "execution_count": null,
   "id": "a566168f",
   "metadata": {},
   "outputs": [],
   "source": [
    "df_2_EYE.head()"
   ]
  },
  {
   "cell_type": "code",
   "execution_count": null,
   "id": "0a87b323",
   "metadata": {},
   "outputs": [],
   "source": [
    "# Select only the numeric columns for plotting histograms, excluding time-related columns\n",
    "numeric_cols = df_2_EYE.select_dtypes(include=np.number).columns\n",
    "cols_to_plot = [col for col in numeric_cols if col not in ['UnixTime']]\n",
    "\n",
    "# Calculate the number of rows and columns for the grid\n",
    "n_cols = 4  # You can adjust the number of columns as needed\n",
    "n_rows = (len(cols_to_plot) + n_cols - 1) // n_cols\n",
    "\n",
    "plt.figure(figsize=(n_cols * 5, n_rows * 4)) # Adjust figure size as needed\n",
    "\n",
    "for i, col in enumerate(cols_to_plot):\n",
    "    plt.subplot(n_rows, n_cols, i + 1)\n",
    "    sns.histplot(df_2_EYE[col], kde=True)\n",
    "    plt.title(f'Distribution of {col}')\n",
    "    plt.xlabel(col)\n",
    "    plt.ylabel('Frequency')\n",
    "\n",
    "plt.tight_layout()\n",
    "plt.show()"
   ]
  },
  {
   "cell_type": "code",
   "execution_count": null,
   "id": "90c293dc",
   "metadata": {},
   "outputs": [],
   "source": []
  },
  {
   "cell_type": "code",
   "execution_count": null,
   "id": "6645de80",
   "metadata": {},
   "outputs": [],
   "source": []
  },
  {
   "cell_type": "code",
   "execution_count": null,
   "id": "42129231",
   "metadata": {},
   "outputs": [],
   "source": []
  },
  {
   "cell_type": "code",
   "execution_count": null,
   "id": "e581589d",
   "metadata": {},
   "outputs": [],
   "source": []
  },
  {
   "cell_type": "code",
   "execution_count": null,
   "id": "f630e541",
   "metadata": {},
   "outputs": [],
   "source": []
  },
  {
   "cell_type": "code",
   "execution_count": null,
   "id": "c6ff11da",
   "metadata": {},
   "outputs": [],
   "source": []
  },
  {
   "cell_type": "code",
   "execution_count": null,
   "id": "f13acc96",
   "metadata": {},
   "outputs": [],
   "source": []
  },
  {
   "cell_type": "code",
   "execution_count": null,
   "id": "fd19bfac",
   "metadata": {},
   "outputs": [],
   "source": []
  },
  {
   "cell_type": "code",
   "execution_count": null,
   "id": "84b1430d",
   "metadata": {},
   "outputs": [],
   "source": []
  },
  {
   "cell_type": "code",
   "execution_count": null,
   "id": "f39c4057",
   "metadata": {},
   "outputs": [],
   "source": []
  },
  {
   "cell_type": "code",
   "execution_count": null,
   "id": "0c7adec3",
   "metadata": {},
   "outputs": [],
   "source": []
  },
  {
   "cell_type": "code",
   "execution_count": null,
   "id": "0c5d973a",
   "metadata": {},
   "outputs": [],
   "source": []
  },
  {
   "cell_type": "markdown",
   "id": "b8bf5fb0",
   "metadata": {},
   "source": [
    "# Eye Tracking Data Analysis\n",
    "\n",
    "This notebook performs exploratory data analysis and cleaning on eye-tracking data.\n",
    "\n",
    "## Data Loading and Initial Inspection"
   ]
  },
  {
   "cell_type": "code",
   "execution_count": null,
   "id": "36ddb650",
   "metadata": {},
   "outputs": [],
   "source": [
    "%load_ext cudf"
   ]
  },
  {
   "cell_type": "markdown",
   "id": "ce8fd634",
   "metadata": {},
   "source": [
    "Import necessary libraries for data manipulation, analysis, and visualization."
   ]
  },
  {
   "cell_type": "code",
   "execution_count": null,
   "id": "60a0d4f9",
   "metadata": {},
   "outputs": [],
   "source": [
    "import numpy as np\n",
    "import pandas as pd\n",
    "import matplotlib.pyplot as plt\n",
    "import seaborn as sns"
   ]
  },
  {
   "cell_type": "markdown",
   "id": "a4a5043b",
   "metadata": {},
   "source": [
    "Import libraries for datashader, which can be used for visualizing large datasets."
   ]
  },
  {
   "cell_type": "code",
   "execution_count": null,
   "id": "7a037d08",
   "metadata": {},
   "outputs": [],
   "source": [
    "import datashader as ds\n",
    "import datashader.transfer_functions as tf"
   ]
  },
  {
   "cell_type": "markdown",
   "id": "0492faf6",
   "metadata": {},
   "source": [
    "Set pandas display options to show all columns."
   ]
  },
  {
   "cell_type": "code",
   "execution_count": null,
   "id": "d7639ad5",
   "metadata": {},
   "outputs": [],
   "source": [
    "pd.set_option('display.max_columns', None)"
   ]
  },
  {
   "cell_type": "markdown",
   "id": "dd0f0f11",
   "metadata": {},
   "source": [
    "Load the eye-tracking data from the specified CSV file into a pandas DataFrame."
   ]
  },
  {
   "cell_type": "code",
   "execution_count": null,
   "id": "3f771456",
   "metadata": {},
   "outputs": [],
   "source": [
    "df_2_EYE = pd.read_csv('data/STData/2/2_EYE.csv')"
   ]
  },
  {
   "cell_type": "markdown",
   "id": "1e8221aa",
   "metadata": {},
   "source": [
    "Display the first few rows of the DataFrame to get an initial look at the data structure and content."
   ]
  },
  {
   "cell_type": "code",
   "execution_count": null,
   "id": "b5d54652",
   "metadata": {},
   "outputs": [],
   "source": [
    "df_2_EYE.head()"
   ]
  },
  {
   "cell_type": "markdown",
   "id": "4d8b2c58",
   "metadata": {},
   "source": [
    "Check the dimensions (number of rows and columns) of the DataFrame."
   ]
  },
  {
   "cell_type": "code",
   "execution_count": null,
   "id": "d1a3701d",
   "metadata": {},
   "outputs": [],
   "source": [
    "df_2_EYE.shape"
   ]
  },
  {
   "cell_type": "markdown",
   "id": "81b7e501",
   "metadata": {},
   "source": [
    "List the names of all columns in the DataFrame."
   ]
  },
  {
   "cell_type": "code",
   "execution_count": null,
   "id": "43e82415",
   "metadata": {},
   "outputs": [],
   "source": [
    "df_2_EYE.columns"
   ]
  },
  {
   "cell_type": "markdown",
   "id": "dcde58c4",
   "metadata": {},
   "source": [
    "Display concise information about the DataFrame, including the data types of each column and the number of non-null values. This helps identify columns with missing data."
   ]
  },
  {
   "cell_type": "code",
   "execution_count": null,
   "id": "b819d5f0",
   "metadata": {},
   "outputs": [],
   "source": [
    "df_2_EYE.info()"
   ]
  },
  {
   "cell_type": "markdown",
   "id": "9530d5a6",
   "metadata": {},
   "source": [
    "Calculate and display the number of missing values in each column."
   ]
  },
  {
   "cell_type": "code",
   "execution_count": null,
   "id": "f254fd1c",
   "metadata": {},
   "outputs": [],
   "source": [
    "df_2_EYE.isnull().sum()"
   ]
  },
  {
   "cell_type": "markdown",
   "id": "6fd78083",
   "metadata": {},
   "source": [
    "Visualize the distribution of missing values using a heatmap. This provides a visual representation of which columns have missing data and the extent of missingness."
   ]
  },
  {
   "cell_type": "code",
   "execution_count": null,
   "id": "7e415733",
   "metadata": {},
   "outputs": [],
   "source": [
    "plt.figure(figsize=(12,8))\n",
    "sns.heatmap(df_2_EYE.isnull(), cmap='viridis')\n",
    "plt.show()"
   ]
  },
  {
   "cell_type": "markdown",
   "id": "c58bc679",
   "metadata": {},
   "source": [
    "# Notes & Observations\n",
    "\n",
    "- We observe many **null** (or missing) values in the `QuestionKey` columns.\n",
    "- The nulls in the `QuestionKey` column may not represent “true” nulls. Rather, they follow interval patterns, suggesting that during those periods no question was displayed.\n",
    "- These missing values in `QuestionKey` require additional investigation and context-aware handling."
   ]
  },
  {
   "cell_type": "markdown",
   "id": "45be58df",
   "metadata": {},
   "source": [
    "Display the unique values in the `QuestionKey` column to understand the different types of questions or states recorded."
   ]
  },
  {
   "cell_type": "code",
   "execution_count": null,
   "id": "8efc61ed",
   "metadata": {},
   "outputs": [],
   "source": [
    "df_2_EYE['QuestionKey'].unique()"
   ]
  },
  {
   "cell_type": "markdown",
   "id": "15778e8d",
   "metadata": {},
   "source": [
    "Convert the `Timestamp` column to datetime objects. This is crucial for any time series analysis or manipulation."
   ]
  },
  {
   "cell_type": "code",
   "execution_count": null,
   "id": "afe38a92",
   "metadata": {},
   "outputs": [],
   "source": [
    "df_2_EYE['Timestamp'] = pd.to_datetime(df_2_EYE['Timestamp'])"
   ]
  },
  {
   "cell_type": "markdown",
   "id": "2f38fae4",
   "metadata": {},
   "source": [
    "Display the first few rows again to see the effect of the timestamp conversion."
   ]
  },
  {
   "cell_type": "code",
   "execution_count": null,
   "id": "d7f3c994",
   "metadata": {},
   "outputs": [],
   "source": [
    "df_2_EYE.head(3)"
   ]
  },
  {
   "cell_type": "markdown",
   "id": "41361624",
   "metadata": {},
   "source": [
    "Fill the missing values in the `QuestionKey` column with the string 'None'. This helps to explicitly mark periods where no question was active."
   ]
  },
  {
   "cell_type": "code",
   "execution_count": null,
   "id": "2cf0e938",
   "metadata": {},
   "outputs": [],
   "source": [
    "df_2_EYE['QuestionKey'].fillna('None', inplace=True)"
   ]
  },
  {
   "cell_type": "markdown",
   "id": "2e610edd",
   "metadata": {},
   "source": [
    "Count the occurrences of each unique value in the `QuestionKey` column after filling missing values."
   ]
  },
  {
   "cell_type": "code",
   "execution_count": null,
   "id": "67455184",
   "metadata": {},
   "outputs": [],
   "source": [
    "df_2_EYE['QuestionKey'].value_counts()"
   ]
  },
  {
   "cell_type": "markdown",
   "id": "5d44c788",
   "metadata": {},
   "source": [
    "Display the heatmap of missing values again to confirm that the missing values in `QuestionKey` have been handled."
   ]
  },
  {
   "cell_type": "code",
   "execution_count": null,
   "id": "b421b9c6",
   "metadata": {},
   "outputs": [],
   "source": [
    "plt.figure(figsize=(12,8))\n",
    "sns.heatmap(df_2_EYE.isnull(), cmap='viridis')\n",
    "plt.show()"
   ]
  },
  {
   "cell_type": "markdown",
   "id": "6d6871bd",
   "metadata": {},
   "source": [
    "Recalculate and display the number of missing values per column to confirm the changes after handling `QuestionKey`."
   ]
  },
  {
   "cell_type": "code",
   "execution_count": null,
   "id": "92bb32d2",
   "metadata": {},
   "outputs": [],
   "source": [
    "df_2_EYE.isnull().sum()"
   ]
  },
  {
   "cell_type": "markdown",
   "id": "cb59a595",
   "metadata": {},
   "source": [
    "Drop rows that still contain any missing values. This is done after handling `QuestionKey` separately."
   ]
  },
  {
   "cell_type": "code",
   "execution_count": null,
   "id": "25087406",
   "metadata": {},
   "outputs": [],
   "source": [
    "df_2_EYE.dropna(inplace=True)"
   ]
  },
  {
   "cell_type": "markdown",
   "id": "5e8af812",
   "metadata": {},
   "source": [
    "Display the first few rows after dropping rows with missing values."
   ]
  },
  {
   "cell_type": "code",
   "execution_count": null,
   "id": "d017fffd",
   "metadata": {},
   "outputs": [],
   "source": [
    "df_2_EYE.head()"
   ]
  },
  {
   "cell_type": "markdown",
   "id": "93f29ed2",
   "metadata": {},
   "source": [
    "Display the unique values in the `Row` column."
   ]
  },
  {
   "cell_type": "code",
   "execution_count": null,
   "id": "c24f078a",
   "metadata": {},
   "outputs": [],
   "source": [
    "df_2_EYE['Row'].unique()"
   ]
  },
  {
   "cell_type": "markdown",
   "id": "507f4e51",
   "metadata": {},
   "source": [
    "Plot a histogram of the `Row` column to visualize its distribution."
   ]
  },
  {
   "cell_type": "code",
   "execution_count": null,
   "id": "5ef99706",
   "metadata": {},
   "outputs": [],
   "source": [
    "plt.figure(figsize=(8,6))\n",
    "sns.histplot(df_2_EYE['Row'])\n",
    "plt.show()"
   ]
  },
  {
   "cell_type": "markdown",
   "id": "d53402f3",
   "metadata": {},
   "source": [
    "# Notes & Observations\n",
    "\n",
    "- The `Row` column appears to be a simple row index and does not provide meaningful information relevant to the eye-tracking data itself. Therefore, it can be dropped."
   ]
  },
  {
   "cell_type": "markdown",
   "id": "4d31ddc2",
   "metadata": {},
   "source": [
    "Drop the `Row` column as it is not relevant for the analysis."
   ]
  },
  {
   "cell_type": "code",
   "execution_count": null,
   "id": "31502cb8",
   "metadata": {},
   "outputs": [],
   "source": [
    "df_2_EYE.drop('Row', axis=1, inplace=True)"
   ]
  },
  {
   "cell_type": "markdown",
   "id": "9e11ebdc",
   "metadata": {},
   "source": [
    "Display the unique values in the `ET_ValidityLeft` column."
   ]
  },
  {
   "cell_type": "code",
   "execution_count": null,
   "id": "e3fc2b89",
   "metadata": {},
   "outputs": [],
   "source": [
    "df_2_EYE['ET_ValidityLeft'].unique()"
   ]
  },
  {
   "cell_type": "markdown",
   "id": "cebe9743",
   "metadata": {},
   "source": [
    "Count the occurrences of each unique value in the `ET_ValidityLeft` column."
   ]
  },
  {
   "cell_type": "code",
   "execution_count": null,
   "id": "26f8fc19",
   "metadata": {},
   "outputs": [],
   "source": [
    "df_2_EYE['ET_ValidityLeft'].value_counts()"
   ]
  },
  {
   "cell_type": "markdown",
   "id": "55a125d2",
   "metadata": {},
   "source": [
    "Display the unique values in the `ET_ValidityRight` column."
   ]
  },
  {
   "cell_type": "code",
   "execution_count": null,
   "id": "65a5b90f",
   "metadata": {},
   "outputs": [],
   "source": [
    "df_2_EYE['ET_ValidityRight'].unique()"
   ]
  },
  {
   "cell_type": "markdown",
   "id": "3f7e9398",
   "metadata": {},
   "source": [
    "Count the occurrences of each unique value in the `ET_ValidityRight` column."
   ]
  },
  {
   "cell_type": "code",
   "execution_count": null,
   "id": "b1ccb954",
   "metadata": {},
   "outputs": [],
   "source": [
    "df_2_EYE['ET_ValidityRight'].value_counts()"
   ]
  },
  {
   "cell_type": "markdown",
   "id": "605f9662",
   "metadata": {},
   "source": [
    "Visualize the counts of valid and invalid data for both left and right eyes using bar plots."
   ]
  },
  {
   "cell_type": "code",
   "execution_count": null,
   "id": "c76ca91c",
   "metadata": {},
   "outputs": [],
   "source": [
    "plt.figure(figsize=(12, 6))\n",
    "\n",
    "plt.subplot(1, 2, 1)\n",
    "sns.barplot(x=df_2_EYE['ET_ValidityLeft'].value_counts().index, y=df_2_EYE['ET_ValidityLeft'].value_counts().values)\n",
    "plt.title('Count of ET_ValidityLeft')\n",
    "plt.xlabel('Validity')\n",
    "plt.ylabel('Count')\n",
    "\n",
    "\n",
    "plt.subplot(1, 2, 2)\n",
    "sns.barplot(x=df_2_EYE['ET_ValidityRight'].value_counts().index, y=df_2_EYE['ET_ValidityRight'].value_counts().values)\n",
    "plt.title('Count of ET_ValidityRight')\n",
    "plt.xlabel('Validity')\n",
    "plt.ylabel('Count')\n",
    "\n",
    "plt.tight_layout()\n",
    "plt.show()"
   ]
  },
  {
   "cell_type": "markdown",
   "id": "2b64cec2",
   "metadata": {},
   "source": [
    "# Notes & Observations\n",
    "\n",
    "- The `ET_ValidityLeft` and `ET_ValidityRight` columns indicate the validity of the eye-tracking data for the left and right eye, respectively.\n",
    "- Based on the value counts and the bar plots, it appears that a value of `0.0` represents valid eye-tracking data, while a value of `4.0` represents invalid data.\n",
    "- Although the amount of invalid data is relatively small, removing these rows could introduce unwanted patterns or gaps in the time series data.\n",
    "- Therefore, we will keep the data and replace the value `4.0` with `1.0` in both `ET_ValidityLeft` and `ET_ValidityRight` columns. This will indicate to a machine learning model that the eye tracker had invalid data at those specific points in time while maintaining the integrity of the time series."
   ]
  },
  {
   "cell_type": "markdown",
   "id": "bdd182e2",
   "metadata": {},
   "source": [
    "Define a mapping to convert validity values from `0.0` and `4.0` to `0` and `1`."
   ]
  },
  {
   "cell_type": "code",
   "execution_count": null,
   "id": "a61c32b7",
   "metadata": {},
   "outputs": [],
   "source": [
    "validity_map = {4.0: 1.0, 0.0: 0.0}"
   ]
  },
  {
   "cell_type": "markdown",
   "id": "0e11e10a",
   "metadata": {},
   "source": [
    "Apply the mapping to the `ET_ValidityLeft` and `ET_ValidityRight` columns and convert the data type to integer."
   ]
  },
  {
   "cell_type": "code",
   "execution_count": null,
   "id": "82ab7a1d",
   "metadata": {},
   "outputs": [],
   "source": [
    "df_2_EYE['ET_ValidityLeft'] = df_2_EYE['ET_ValidityLeft'].map(validity_map).astype(np.int8)\n",
    "df_2_EYE['ET_ValidityRight'] = df_2_EYE['ET_ValidityRight'].map(validity_map).astype(np.int8)"
   ]
  },
  {
   "cell_type": "markdown",
   "id": "0144e4da",
   "metadata": {},
   "source": [
    "Display the first few rows to see the updated validity columns."
   ]
  },
  {
   "cell_type": "code",
   "execution_count": null,
   "id": "cd90d234",
   "metadata": {},
   "outputs": [],
   "source": [
    "df_2_EYE.head(3)"
   ]
  },
  {
   "cell_type": "markdown",
   "id": "90830c8a",
   "metadata": {},
   "source": [
    "Display descriptive statistics for the DataFrame, including count, mean, standard deviation, min, max, and quartiles for numeric columns."
   ]
  },
  {
   "cell_type": "code",
   "execution_count": null,
   "id": "7e3a941c",
   "metadata": {},
   "outputs": [],
   "source": [
    "df_2_EYE.describe()"
   ]
  },
  {
   "cell_type": "markdown",
   "id": "65584287",
   "metadata": {},
   "source": [
    "Check the number of rows where `ET_ValidityLeft` is 1 (invalid data for the left eye)."
   ]
  },
  {
   "cell_type": "code",
   "execution_count": null,
   "id": "695da098",
   "metadata": {},
   "outputs": [],
   "source": [
    "df_2_EYE[df_2_EYE['ET_ValidityLeft'] == 1].shape"
   ]
  },
  {
   "cell_type": "markdown",
   "id": "807f4064",
   "metadata": {},
   "source": [
    "Check the number of rows where `ET_ValidityRight` is 1 (invalid data for the right eye)."
   ]
  },
  {
   "cell_type": "code",
   "execution_count": null,
   "id": "8da2ec6c",
   "metadata": {},
   "outputs": [],
   "source": [
    "df_2_EYE[df_2_EYE['ET_ValidityRight'] == 1].shape"
   ]
  },
  {
   "cell_type": "markdown",
   "id": "9c2ae7c0",
   "metadata": {},
   "source": [
    "Visualize the distribution of -1 and 1 values across columns using heatmaps. This helps identify columns with placeholder or indicator values."
   ]
  },
  {
   "cell_type": "code",
   "execution_count": null,
   "id": "afa6b4ee",
   "metadata": {},
   "outputs": [],
   "source": [
    "plt.figure(figsize=(18, 8))\n",
    "\n",
    "plt.subplot(1, 2, 1)\n",
    "sns.heatmap(df_2_EYE == -1, cmap='viridis')\n",
    "plt.title('Heatmap of -1 Values')\n",
    "\n",
    "plt.subplot(1, 2, 2)\n",
    "sns.heatmap(df_2_EYE == 1, cmap='viridis')\n",
    "plt.title('Heatmap of 1 Values')\n",
    "\n",
    "plt.tight_layout()\n",
    "plt.show()"
   ]
  },
  {
   "cell_type": "markdown",
   "id": "0594a6fa",
   "metadata": {},
   "source": [
    "Check the number of rows where `ET_PupilLeft` is -1."
   ]
  },
  {
   "cell_type": "code",
   "execution_count": null,
   "id": "fb79253f",
   "metadata": {},
   "outputs": [],
   "source": [
    "df_2_EYE[df_2_EYE['ET_PupilLeft'] == -1].shape"
   ]
  },
  {
   "cell_type": "markdown",
   "id": "736f7995",
   "metadata": {},
   "source": [
    "Check the number of rows where `ET_PupilRight` is -1."
   ]
  },
  {
   "cell_type": "code",
   "execution_count": null,
   "id": "ead53f19",
   "metadata": {},
   "outputs": [],
   "source": [
    "df_2_EYE[df_2_EYE['ET_PupilRight'] == -1].shape"
   ]
  },
  {
   "cell_type": "markdown",
   "id": "82174307",
   "metadata": {},
   "source": [
    "Calculate the ratio of rows with -1 values in the `ET_PupilLeft` column to the total number of rows."
   ]
  },
  {
   "cell_type": "code",
   "execution_count": null,
   "id": "6ec47b8e",
   "metadata": {},
   "outputs": [],
   "source": [
    "df_2_EYE[df_2_EYE['ET_PupilLeft'] == -1].shape[0] / df_2_EYE.shape[0]"
   ]
  },
  {
   "cell_type": "markdown",
   "id": "e73280db",
   "metadata": {},
   "source": [
    "Calculate the ratio of rows with -1 values in the `ET_PupilRight` column to the total number of rows."
   ]
  },
  {
   "cell_type": "code",
   "execution_count": null,
   "id": "21b102c5",
   "metadata": {},
   "outputs": [],
   "source": [
    "df_2_EYE[df_2_EYE['ET_PupilRight'] == -1].shape[0] / df_2_EYE.shape[0]"
   ]
  },
  {
   "cell_type": "markdown",
   "id": "ccdc4f1b",
   "metadata": {},
   "source": [
    "Visualize the distribution of -1 values specifically for rows where validity is 1 (invalid data)."
   ]
  },
  {
   "cell_type": "code",
   "execution_count": null,
   "id": "6d85fb77",
   "metadata": {},
   "outputs": [],
   "source": [
    "plt.figure(figsize=(18, 8))\n",
    "\n",
    "plt.subplot(1, 2, 1)\n",
    "sns.heatmap(df_2_EYE[df_2_EYE['ET_ValidityLeft'] == 1] == -1, cmap='viridis')\n",
    "plt.title('Heatmap of -1 Values')\n",
    "\n",
    "plt.subplot(1, 2, 2)\n",
    "sns.heatmap(df_2_EYE[df_2_EYE['ET_ValidityRight'] == 1] == -1, cmap='viridis')\n",
    "plt.title('Heatmap of -1 Values')\n",
    "\n",
    "plt.tight_layout()\n",
    "plt.show()"
   ]
  },
  {
   "cell_type": "markdown",
   "id": "04646f57",
   "metadata": {},
   "source": [
    "# Notes & Observations\n",
    "\n",
    "- The heatmaps reveal the distribution of -1 values across different columns.\n",
    "- It is evident that the `-1` values are not randomly scattered but appear in specific columns, notably `ET_GazeLeftx`, `ET_GazeLefty`, `ET_GazeRightx`, `ET_GazeRighty`, `ET_PupilLeft`, `ET_PupilRight`, `ET_DistanceLeft`, `ET_DistanceRight`, `ET_CameraLeftX`, `ET_CameraLeftY`, `ET_CameraRightX`, and `ET_CameraRightY`.\n",
    "- These `-1` values often coincide with instances where `ET_ValidityLeft` or `ET_ValidityRight` is 1, indicating invalid eye-tracking data. This suggests that `-1` is used as a placeholder for missing or invalid measurements in these columns when the eye tracker is not providing valid data for a particular eye.\n",
    "- Given that over 70% of the data in the `ET_PupilLeft` and `ET_PupilRight` columns is marked as invalid (-1), these columns may not be suitable for analysis and could be considered for dropping."
   ]
  },
  {
   "cell_type": "markdown",
   "id": "367bd895",
   "metadata": {},
   "source": [
    "Drop the `ET_PupilLeft` and `ET_PupilRight` columns due to the high percentage of invalid data."
   ]
  },
  {
   "cell_type": "code",
   "execution_count": null,
   "id": "3a965b8e",
   "metadata": {},
   "outputs": [],
   "source": [
    "df_2_EYE.drop(['ET_PupilLeft', 'ET_PupilRight'], axis=1, inplace=True)"
   ]
  },
  {
   "cell_type": "markdown",
   "id": "8cab2a09",
   "metadata": {},
   "source": [
    "Display the first few rows after dropping the pupil columns."
   ]
  },
  {
   "cell_type": "code",
   "execution_count": null,
   "id": "51fd9d7f",
   "metadata": {},
   "outputs": [],
   "source": [
    "df_2_EYE.head()"
   ]
  },
  {
   "cell_type": "markdown",
   "id": "25084a6c",
   "metadata": {},
   "source": [
    "Visualize the distribution of -1 and 1 values again after dropping the pupil columns."
   ]
  },
  {
   "cell_type": "code",
   "execution_count": null,
   "id": "69f53d65",
   "metadata": {},
   "outputs": [],
   "source": [
    "plt.figure(figsize=(18, 8))\n",
    "\n",
    "plt.subplot(1, 2, 1)\n",
    "sns.heatmap(df_2_EYE == -1, cmap='viridis')\n",
    "plt.title('Heatmap of -1 Values')\n",
    "\n",
    "plt.subplot(1, 2, 2)\n",
    "sns.heatmap(df_2_EYE == 1, cmap='viridis')\n",
    "plt.title('Heatmap of -1 Values')\n",
    "\n",
    "plt.tight_layout()\n",
    "plt.show()"
   ]
  },
  {
   "cell_type": "markdown",
   "id": "f5815780",
   "metadata": {},
   "source": [
    "Calculate the ratio of valid data points for the left eye."
   ]
  },
  {
   "cell_type": "code",
   "execution_count": null,
   "id": "e8f268b5",
   "metadata": {},
   "outputs": [],
   "source": [
    "valid_left_ratio  = 1 - df_2_EYE['ET_ValidityLeft'].mean()"
   ]
  },
  {
   "cell_type": "markdown",
   "id": "512bd848",
   "metadata": {},
   "source": [
    "Display the ratio of valid data points for the left eye."
   ]
  },
  {
   "cell_type": "code",
   "execution_count": null,
   "id": "c5e9435b",
   "metadata": {},
   "outputs": [],
   "source": [
    "valid_left_ratio"
   ]
  },
  {
   "cell_type": "markdown",
   "id": "c68e4c06",
   "metadata": {},
   "source": [
    "Calculate the ratio of valid data points for the right eye."
   ]
  },
  {
   "cell_type": "code",
   "execution_count": null,
   "id": "00cb00ff",
   "metadata": {},
   "outputs": [],
   "source": [
    "valid_right_ratio = 1 - df_2_EYE['ET_ValidityRight'].mean()"
   ]
  },
  {
   "cell_type": "markdown",
   "id": "0335cf83",
   "metadata": {},
   "source": [
    "Display the ratio of valid data points for the right eye."
   ]
  },
  {
   "cell_type": "code",
   "execution_count": null,
   "id": "40094f18",
   "metadata": {},
   "outputs": [],
   "source": [
    "valid_right_ratio"
   ]
  },
  {
   "cell_type": "markdown",
   "id": "4ad9c1d1",
   "metadata": {},
   "source": [
    "Display the first few rows of the DataFrame."
   ]
  },
  {
   "cell_type": "code",
   "execution_count": null,
   "id": "e30a8b70",
   "metadata": {},
   "outputs": [],
   "source": [
    "df_2_EYE.head()"
   ]
  },
  {
   "cell_type": "markdown",
   "id": "8cd13cfa",
   "metadata": {},
   "source": [
    "Visualize the distributions of numeric columns using histograms with Kernel Density Estimate (KDE) plots. This helps understand the shape and spread of the data in each numeric column."
   ]
  },
  {
   "cell_type": "code",
   "execution_count": null,
   "id": "abda4307",
   "metadata": {},
   "outputs": [],
   "source": [
    "# Select only the numeric columns for plotting histograms, excluding time-related columns\n",
    "numeric_cols = df_2_EYE.select_dtypes(include=np.number).columns\n",
    "cols_to_plot = [col for col in numeric_cols if col not in ['UnixTime']]\n",
    "\n",
    "# Calculate the number of rows and columns for the grid\n",
    "n_cols = 4  # You can adjust the number of columns as needed\n",
    "n_rows = (len(cols_to_plot) + n_cols - 1) // n_cols\n",
    "\n",
    "plt.figure(figsize=(n_cols * 5, n_rows * 4)) # Adjust figure size as needed\n",
    "\n",
    "for i, col in enumerate(cols_to_plot):\n",
    "    plt.subplot(n_rows, n_cols, i + 1)\n",
    "    sns.histplot(df_2_EYE[col], kde=True)\n",
    "    plt.title(f'Distribution of {col}')\n",
    "    plt.xlabel(col)\n",
    "    plt.ylabel('Frequency')\n",
    "\n",
    "plt.tight_layout()\n",
    "plt.show()"
   ]
  },
  {
   "cell_type": "markdown",
   "id": "5b02d240",
   "metadata": {},
   "source": [
    "List the names of the columns in the DataFrame."
   ]
  },
  {
   "cell_type": "code",
   "execution_count": null,
   "id": "fd678901",
   "metadata": {},
   "outputs": [],
   "source": [
    "df_2_EYE.columns"
   ]
  },
  {
   "cell_type": "markdown",
   "id": "b30f6fbd",
   "metadata": {},
   "source": [
    "Define a list of columns to be plotted over time."
   ]
  },
  {
   "cell_type": "code",
   "execution_count": null,
   "id": "83e4961e",
   "metadata": {},
   "outputs": [],
   "source": [
    "cols = ['ET_GazeLeftx', 'ET_GazeLefty',\n",
    "       'ET_GazeRightx', 'ET_GazeRighty', 'ET_TimeSignal', 'ET_DistanceLeft',\n",
    "       'ET_DistanceRight', 'ET_CameraLeftX', 'ET_CameraLeftY',\n",
    "       'ET_CameraRightX', 'ET_CameraRightY', 'ET_ValidityLeft',\n",
    "       'ET_ValidityRight']"
   ]
  },
  {
   "cell_type": "markdown",
   "id": "d55053fa",
   "metadata": {},
   "source": [
    "Plot each of the selected columns against the timestamp to visualize their trends and patterns over time. Markdown cells are added before each plot for better readability."
   ]
  },
  {
   "cell_type": "code",
   "execution_count": null,
   "id": "e2a4d322",
   "metadata": {},
   "outputs": [],
   "source": [
    "from IPython.display import display, Markdown\n",
    "\n",
    "for col in cols:\n",
    "    # Add a markdown cell before each plot for better separation and labeling\n",
    "    display(Markdown(f'### {col} over Time'))\n",
    "    plt.figure(figsize=(16, 10))\n",
    "    plt.plot(df_2_EYE['Timestamp'], df_2_EYE[col])\n",
    "    plt.xlabel(\"Timestamp\") # Add x-axis label\n",
    "    plt.ylabel(col) # Add y-axis label\n",
    "    plt.show()"
   ]
  },
  {
   "cell_type": "markdown",
   "id": "563dfd38",
   "metadata": {},
   "source": [
    "Visualize the distributions of numeric columns using boxplots. This helps identify potential outliers and the spread of the data."
   ]
  },
  {
   "cell_type": "code",
   "execution_count": null,
   "id": "0740a66e",
   "metadata": {},
   "outputs": [],
   "source": [
    "# Select only the numeric columns for plotting histograms, excluding time-related columns\n",
    "numeric_cols = df_2_EYE.select_dtypes(include=np.number).columns\n",
    "\n",
    "# Calculate the number of rows and columns for the grid\n",
    "n_cols = 4  # You can adjust the number of columns as needed\n",
    "n_rows = (len(numeric_cols) + n_cols - 1) // n_cols\n",
    "\n",
    "plt.figure(figsize=(n_cols * 5, n_rows * 4)) # Adjust figure size as needed\n",
    "\n",
    "for i, col in enumerate(numeric_cols):\n",
    "    plt.subplot(n_rows, n_cols, i + 1)\n",
    "    sns.boxplot(df_2_EYE[col])\n",
    "    plt.title(f'Boxplot of {col}')\n",
    "    plt.xlabel(col)\n",
    "\n",
    "plt.tight_layout()\n",
    "plt.show()"
   ]
  },
  {
   "cell_type": "markdown",
   "id": "a7fac64f",
   "metadata": {},
   "source": [
    "Replace the placeholder value -1 with NaN (Not a Number) in the DataFrame. This is done before imputation."
   ]
  },
  {
   "cell_type": "code",
   "execution_count": null,
   "id": "2932d39d",
   "metadata": {},
   "outputs": [],
   "source": [
    "df_2_EYE.replace({-1: np.nan}, inplace=True)"
   ]
  },
  {
   "cell_type": "markdown",
   "id": "b46366a8",
   "metadata": {},
   "source": [
    "Impute the missing values (NaN) in the numeric columns with the mean of each column."
   ]
  },
  {
   "cell_type": "code",
   "execution_count": null,
   "id": "887e52ce",
   "metadata": {},
   "outputs": [],
   "source": [
    "numeric_cols = df_2_EYE.select_dtypes(include=np.number).columns\n",
    "\n",
    "for col in numeric_cols:\n",
    "    df_2_EYE[col].fillna(df_2_EYE[col].mean(), inplace=True)"
   ]
  },
  {
   "cell_type": "markdown",
   "id": "5b627c6a",
   "metadata": {},
   "source": [
    "Display the first few rows after imputing missing values."
   ]
  },
  {
   "cell_type": "code",
   "execution_count": null,
   "id": "9c93f863",
   "metadata": {},
   "outputs": [],
   "source": [
    "df_2_EYE.head()"
   ]
  },
  {
   "cell_type": "markdown",
   "id": "ef8b4bf3",
   "metadata": {},
   "source": [
    "Visualize the distributions of numeric columns again using histograms with KDE plots after imputation. This helps assess the impact of imputation on the data distributions."
   ]
  },
  {
   "cell_type": "code",
   "execution_count": null,
   "id": "3aff2963",
   "metadata": {},
   "outputs": [],
   "source": [
    "# Select only the numeric columns for plotting histograms, excluding time-related columns\n",
    "numeric_cols = df_2_EYE.select_dtypes(include=np.number).columns\n",
    "cols_to_plot = [col for col in numeric_cols if col not in ['UnixTime']]\n",
    "\n",
    "# Calculate the number of rows and columns for the grid\n",
    "n_cols = 4  # You can adjust the number of columns as needed\n",
    "n_rows = (len(cols_to_plot) + n_cols - 1) // n_cols\n",
    "\n",
    "plt.figure(figsize=(n_cols * 5, n_rows * 4)) # Adjust figure size as needed\n",
    "\n",
    "for i, col in enumerate(cols_to_plot):\n",
    "    plt.subplot(n_rows, n_cols, i + 1)\n",
    "    sns.histplot(df_2_EYE[col], kde=True)\n",
    "    plt.title(f'Distribution of {col}')\n",
    "    plt.xlabel(col)\n",
    "    plt.ylabel('Frequency')\n",
    "\n",
    "plt.tight_layout()\n",
    "plt.show()"
   ]
  },
  {
   "cell_type": "code",
   "execution_count": null,
   "id": "5c5a1f93",
   "metadata": {},
   "outputs": [],
   "source": []
  },
  {
   "cell_type": "markdown",
   "id": "b20395ae",
   "metadata": {},
   "source": [
    "## Student 3"
   ]
  },
  {
   "cell_type": "code",
   "execution_count": null,
   "id": "a4fba972",
   "metadata": {},
   "outputs": [],
   "source": [
    "%load_ext cudf"
   ]
  },
  {
   "cell_type": "code",
   "execution_count": null,
   "id": "537bd23e",
   "metadata": {},
   "outputs": [],
   "source": [
    "import numpy as np\n",
    "import pandas as pd\n",
    "import matplotlib.pyplot as plt\n",
    "import seaborn as sns"
   ]
  },
  {
   "cell_type": "code",
   "execution_count": null,
   "id": "392958e0",
   "metadata": {},
   "outputs": [],
   "source": [
    "import datashader as ds\n",
    "import datashader.transfer_functions as tf"
   ]
  },
  {
   "cell_type": "code",
   "execution_count": null,
   "id": "a9ff95e9",
   "metadata": {},
   "outputs": [],
   "source": [
    "pd.set_option('display.max_columns', None)"
   ]
  },
  {
   "cell_type": "code",
   "execution_count": null,
   "id": "fc198ef5",
   "metadata": {},
   "outputs": [],
   "source": [
    "df_3_EYE = pd.read_csv('data/STData/3/3_EYE.csv')"
   ]
  },
  {
   "cell_type": "code",
   "execution_count": null,
   "id": "7cb0a35b",
   "metadata": {},
   "outputs": [],
   "source": [
    "df_3_EYE.head()"
   ]
  },
  {
   "cell_type": "code",
   "execution_count": null,
   "id": "d87e1646",
   "metadata": {},
   "outputs": [],
   "source": [
    "df_3_EYE.shape"
   ]
  },
  {
   "cell_type": "code",
   "execution_count": null,
   "id": "fa075271",
   "metadata": {},
   "outputs": [],
   "source": [
    "df_3_EYE.columns"
   ]
  },
  {
   "cell_type": "code",
   "execution_count": null,
   "id": "72075b1b",
   "metadata": {},
   "outputs": [],
   "source": [
    "df_3_EYE.info()"
   ]
  },
  {
   "cell_type": "code",
   "execution_count": null,
   "id": "708a8c7f",
   "metadata": {},
   "outputs": [],
   "source": [
    "df_3_EYE.isnull().sum()"
   ]
  },
  {
   "cell_type": "code",
   "execution_count": null,
   "id": "46879d08",
   "metadata": {},
   "outputs": [],
   "source": [
    "plt.figure(figsize=(12,8))\n",
    "sns.heatmap(df_3_EYE.isnull(), cmap='viridis')\n",
    "plt.show()"
   ]
  },
  {
   "cell_type": "markdown",
   "id": "240e5b04",
   "metadata": {},
   "source": [
    "# Notes & Observations\n",
    "\n",
    "- We observe many **null** (or missing) values in the `QuestionKey` columns.  \n",
    "- The nulls in the `QuestionKey` column may not represent “true” nulls. Rather, they follow interval patterns, suggesting that during those periods no question was displayed.  \n",
    "- These missing values in `QuestionKey` require additional investigation and context-aware handling.  "
   ]
  },
  {
   "cell_type": "code",
   "execution_count": null,
   "id": "0ac28748",
   "metadata": {},
   "outputs": [],
   "source": [
    "df_3_EYE['QuestionKey'].unique()"
   ]
  },
  {
   "cell_type": "code",
   "execution_count": null,
   "id": "5c996ea3",
   "metadata": {},
   "outputs": [],
   "source": [
    "df_3_EYE['Timestamp'] = pd.to_datetime(df_3_EYE['Timestamp'])"
   ]
  },
  {
   "cell_type": "code",
   "execution_count": null,
   "id": "d254bc98",
   "metadata": {},
   "outputs": [],
   "source": [
    "df_3_EYE.head(3)"
   ]
  },
  {
   "cell_type": "code",
   "execution_count": null,
   "id": "83593b41",
   "metadata": {},
   "outputs": [],
   "source": [
    "df_3_EYE['QuestionKey'].fillna('None', inplace=True)"
   ]
  },
  {
   "cell_type": "code",
   "execution_count": null,
   "id": "f95b55da",
   "metadata": {},
   "outputs": [],
   "source": [
    "df_3_EYE['QuestionKey'].value_counts()"
   ]
  },
  {
   "cell_type": "code",
   "execution_count": null,
   "id": "205da258",
   "metadata": {},
   "outputs": [],
   "source": [
    "plt.figure(figsize=(12,8))\n",
    "sns.heatmap(df_3_EYE.isnull(), cmap='viridis')\n",
    "plt.show()"
   ]
  },
  {
   "cell_type": "code",
   "execution_count": null,
   "id": "29d47a46",
   "metadata": {},
   "outputs": [],
   "source": [
    "df_3_EYE.isnull().sum()"
   ]
  },
  {
   "cell_type": "code",
   "execution_count": null,
   "id": "3e4775ac",
   "metadata": {},
   "outputs": [],
   "source": [
    "df_3_EYE.dropna(inplace=True)"
   ]
  },
  {
   "cell_type": "code",
   "execution_count": null,
   "id": "132b5f1d",
   "metadata": {},
   "outputs": [],
   "source": [
    "df_3_EYE.head()"
   ]
  },
  {
   "cell_type": "code",
   "execution_count": null,
   "id": "c4826e63",
   "metadata": {},
   "outputs": [],
   "source": [
    "df_3_EYE['Row'].unique()"
   ]
  },
  {
   "cell_type": "code",
   "execution_count": null,
   "id": "a1ca8bdf",
   "metadata": {},
   "outputs": [],
   "source": [
    "plt.figure(figsize=(8,6))\n",
    "sns.histplot(df_3_EYE['Row'])\n",
    "plt.show()"
   ]
  },
  {
   "cell_type": "markdown",
   "id": "636e329d",
   "metadata": {},
   "source": [
    "# Notes & Observations\n",
    "\n",
    "- The `Row` column appears to be a simple row index and does not provide meaningful information relevant to the eye-tracking data itself. Therefore, it can be dropped."
   ]
  },
  {
   "cell_type": "code",
   "execution_count": null,
   "id": "15a504c2",
   "metadata": {},
   "outputs": [],
   "source": [
    "df_3_EYE.drop('Row', axis=1, inplace=True)"
   ]
  },
  {
   "cell_type": "code",
   "execution_count": null,
   "id": "423ba747",
   "metadata": {},
   "outputs": [],
   "source": [
    "df_3_EYE['ET_ValidityLeft'].unique()"
   ]
  },
  {
   "cell_type": "code",
   "execution_count": null,
   "id": "8358fd8e",
   "metadata": {},
   "outputs": [],
   "source": [
    "df_3_EYE['ET_ValidityLeft'].value_counts()"
   ]
  },
  {
   "cell_type": "code",
   "execution_count": null,
   "id": "9de17e79",
   "metadata": {},
   "outputs": [],
   "source": [
    "df_3_EYE['ET_ValidityRight'].unique()"
   ]
  },
  {
   "cell_type": "code",
   "execution_count": null,
   "id": "578e0ab8",
   "metadata": {},
   "outputs": [],
   "source": [
    "df_3_EYE['ET_ValidityRight'].value_counts()"
   ]
  },
  {
   "cell_type": "code",
   "execution_count": null,
   "id": "1ff00fb5",
   "metadata": {},
   "outputs": [],
   "source": [
    "plt.figure(figsize=(12, 6))\n",
    "\n",
    "plt.subplot(1, 2, 1)\n",
    "sns.barplot(x=df_3_EYE['ET_ValidityLeft'].value_counts().index, y=df_3_EYE['ET_ValidityLeft'].value_counts().values)\n",
    "plt.title('Count of ET_ValidityLeft')\n",
    "plt.xlabel('Validity')\n",
    "plt.ylabel('Count')\n",
    "\n",
    "\n",
    "plt.subplot(1, 2, 2)\n",
    "sns.barplot(x=df_3_EYE['ET_ValidityRight'].value_counts().index, y=df_3_EYE['ET_ValidityRight'].value_counts().values)\n",
    "plt.title('Count of ET_ValidityRight')\n",
    "plt.xlabel('Validity')\n",
    "plt.ylabel('Count')\n",
    "\n",
    "plt.tight_layout()\n",
    "plt.show()"
   ]
  },
  {
   "cell_type": "markdown",
   "id": "d126bb4b",
   "metadata": {},
   "source": [
    "# Notes & Observations\n",
    "\n",
    "- The `ET_ValidityLeft` and `ET_ValidityRight` columns indicate the validity of the eye-tracking data for the left and right eye, respectively.\n",
    "- Based on the value counts and the bar plots, it appears that a value of `0.0` represents valid eye-tracking data, while a value of `4.0` represents invalid data.\n",
    "- Although the amount of invalid data is relatively small, removing these rows could introduce unwanted patterns or gaps in the time series data.\n",
    "- Therefore, we will keep the data and replace the value `4.0` with `1.0` in both `ET_ValidityLeft` and `ET_ValidityRight` columns. This will indicate to a machine learning model that the eye tracker had invalid data at those specific points in time while maintaining the integrity of the time series."
   ]
  },
  {
   "cell_type": "code",
   "execution_count": null,
   "id": "49265d0e",
   "metadata": {},
   "outputs": [],
   "source": [
    "validity_map = {4.0: 1.0, 0.0: 0.0}"
   ]
  },
  {
   "cell_type": "code",
   "execution_count": null,
   "id": "489bd80d",
   "metadata": {},
   "outputs": [],
   "source": [
    "df_3_EYE['ET_ValidityLeft'] = df_3_EYE['ET_ValidityLeft'].map(validity_map).astype(np.int8)\n",
    "df_3_EYE['ET_ValidityRight'] = df_3_EYE['ET_ValidityRight'].map(validity_map).astype(np.int8)"
   ]
  },
  {
   "cell_type": "code",
   "execution_count": null,
   "id": "bc5e0d3c",
   "metadata": {},
   "outputs": [],
   "source": [
    "df_3_EYE.head(3)"
   ]
  },
  {
   "cell_type": "code",
   "execution_count": null,
   "id": "6685e949",
   "metadata": {},
   "outputs": [],
   "source": [
    "df_3_EYE.describe()"
   ]
  },
  {
   "cell_type": "code",
   "execution_count": null,
   "id": "775082e8",
   "metadata": {},
   "outputs": [],
   "source": [
    "df_3_EYE[df_3_EYE['ET_ValidityLeft'] == 1].shape"
   ]
  },
  {
   "cell_type": "code",
   "execution_count": null,
   "id": "d197feb6",
   "metadata": {},
   "outputs": [],
   "source": [
    "df_3_EYE[df_3_EYE['ET_ValidityRight'] == 1].shape"
   ]
  },
  {
   "cell_type": "code",
   "execution_count": null,
   "id": "d23d813f",
   "metadata": {},
   "outputs": [],
   "source": [
    "plt.figure(figsize=(18, 8))\n",
    "\n",
    "plt.subplot(1, 2, 1)\n",
    "sns.heatmap(df_3_EYE == -1, cmap='viridis')\n",
    "plt.title('Heatmap of -1 Values')\n",
    "\n",
    "plt.subplot(1, 2, 2)\n",
    "sns.heatmap(df_3_EYE == 1, cmap='viridis')\n",
    "plt.title('Heatmap of 1 Values')\n",
    "\n",
    "plt.tight_layout()\n",
    "plt.show()"
   ]
  },
  {
   "cell_type": "code",
   "execution_count": null,
   "id": "eb13de92",
   "metadata": {},
   "outputs": [],
   "source": [
    "df_3_EYE[df_3_EYE['ET_PupilLeft'] == -1].shape"
   ]
  },
  {
   "cell_type": "code",
   "execution_count": null,
   "id": "71258372",
   "metadata": {},
   "outputs": [],
   "source": [
    "df_3_EYE[df_3_EYE['ET_PupilRight'] == -1].shape"
   ]
  },
  {
   "cell_type": "code",
   "execution_count": null,
   "id": "d54e64eb",
   "metadata": {},
   "outputs": [],
   "source": [
    "df_3_EYE[df_3_EYE['ET_PupilLeft'] == -1].shape[0] / df_3_EYE.shape[0]"
   ]
  },
  {
   "cell_type": "code",
   "execution_count": null,
   "id": "80fbb89e",
   "metadata": {},
   "outputs": [],
   "source": [
    "df_3_EYE[df_3_EYE['ET_PupilRight'] == -1].shape[0] / df_3_EYE.shape[0]"
   ]
  },
  {
   "cell_type": "code",
   "execution_count": null,
   "id": "11995c73",
   "metadata": {},
   "outputs": [],
   "source": [
    "plt.figure(figsize=(18, 8))\n",
    "\n",
    "plt.subplot(1, 2, 1)\n",
    "sns.heatmap(df_3_EYE[df_3_EYE['ET_ValidityLeft'] == 1] == -1, cmap='viridis')\n",
    "plt.title('Heatmap of -1 Values')\n",
    "\n",
    "plt.subplot(1, 2, 2)\n",
    "sns.heatmap(df_3_EYE[df_3_EYE['ET_ValidityRight'] == 1] == -1, cmap='viridis')\n",
    "plt.title('Heatmap of -1 Values')\n",
    "\n",
    "plt.tight_layout()\n",
    "plt.show()"
   ]
  },
  {
   "cell_type": "markdown",
   "id": "9f62b46e",
   "metadata": {},
   "source": [
    "# Notes & Observations\n",
    "\n",
    "- The heatmaps reveal the distribution of -1 values across different columns.\n",
    "- It is evident that the `-1` values are not randomly scattered but appear in specific columns, notably `ET_GazeLeftx`, `ET_GazeLefty`, `ET_GazeRightx`, `ET_GazeRighty`, `ET_PupilLeft`, `ET_PupilRight`, `ET_DistanceLeft`, `ET_DistanceRight`, `ET_CameraLeftX`, `ET_CameraLeftY`, `ET_CameraRightX`, and `ET_CameraRightY`.\n",
    "- These `-1` values often coincide with instances where `ET_ValidityLeft` or `ET_ValidityRight` is 1, indicating invalid eye-tracking data. This suggests that `-1` is used as a placeholder for missing or invalid measurements in these columns when the eye tracker is not providing valid data for a particular eye.\n",
    "- Given that over 70% of the data in the `ET_PupilLeft` and `ET_PupilRight` columns is marked as invalid (-1), these columns may not be suitable for analysis and could be considered for dropping."
   ]
  },
  {
   "cell_type": "code",
   "execution_count": null,
   "id": "f8367a49",
   "metadata": {},
   "outputs": [],
   "source": [
    "df_3_EYE.drop(['ET_PupilLeft', 'ET_PupilRight'], axis=1, inplace=True)"
   ]
  },
  {
   "cell_type": "code",
   "execution_count": null,
   "id": "60564225",
   "metadata": {},
   "outputs": [],
   "source": [
    "df_3_EYE.head()"
   ]
  },
  {
   "cell_type": "code",
   "execution_count": null,
   "id": "a4ed2b79",
   "metadata": {},
   "outputs": [],
   "source": [
    "plt.figure(figsize=(18, 8))\n",
    "\n",
    "plt.subplot(1, 2, 1)\n",
    "sns.heatmap(df_3_EYE == -1, cmap='viridis')\n",
    "plt.title('Heatmap of -1 Values')\n",
    "\n",
    "plt.subplot(1, 2, 2)\n",
    "sns.heatmap(df_3_EYE == 1, cmap='viridis')\n",
    "plt.title('Heatmap of -1 Values')\n",
    "\n",
    "plt.tight_layout()\n",
    "plt.show()"
   ]
  },
  {
   "cell_type": "code",
   "execution_count": null,
   "id": "2a060ad9",
   "metadata": {},
   "outputs": [],
   "source": [
    "valid_left_ratio  = 1 - df_3_EYE['ET_ValidityLeft'].mean()\n",
    "valid_right_ratio = 1 - df_3_EYE['ET_ValidityRight'].mean()"
   ]
  },
  {
   "cell_type": "code",
   "execution_count": null,
   "id": "ae07b3b3",
   "metadata": {},
   "outputs": [],
   "source": [
    "valid_left_ratio"
   ]
  },
  {
   "cell_type": "code",
   "execution_count": null,
   "id": "68977e2e",
   "metadata": {},
   "outputs": [],
   "source": [
    "valid_right_ratio"
   ]
  },
  {
   "cell_type": "code",
   "execution_count": null,
   "id": "08f69fe8",
   "metadata": {},
   "outputs": [],
   "source": [
    "df_3_EYE.head()"
   ]
  },
  {
   "cell_type": "code",
   "execution_count": null,
   "id": "aebb1371",
   "metadata": {},
   "outputs": [],
   "source": [
    "# Select only the numeric columns for plotting histograms, excluding time-related columns\n",
    "numeric_cols = df_3_EYE.select_dtypes(include=np.number).columns\n",
    "cols_to_plot = [col for col in numeric_cols if col not in ['UnixTime']]\n",
    "\n",
    "# Calculate the number of rows and columns for the grid\n",
    "n_cols = 4  # You can adjust the number of columns as needed\n",
    "n_rows = (len(cols_to_plot) + n_cols - 1) // n_cols\n",
    "\n",
    "plt.figure(figsize=(n_cols * 5, n_rows * 4)) # Adjust figure size as needed\n",
    "\n",
    "for i, col in enumerate(cols_to_plot):\n",
    "    plt.subplot(n_rows, n_cols, i + 1)\n",
    "    sns.histplot(df_3_EYE[col], kde=True)\n",
    "    plt.title(f'Distribution of {col}')\n",
    "    plt.xlabel(col)\n",
    "    plt.ylabel('Frequency')\n",
    "\n",
    "plt.tight_layout()\n",
    "plt.show()"
   ]
  },
  {
   "cell_type": "code",
   "execution_count": null,
   "id": "a25fec9a",
   "metadata": {},
   "outputs": [],
   "source": [
    "df_3_EYE.columns"
   ]
  },
  {
   "cell_type": "code",
   "execution_count": null,
   "id": "a50e9303",
   "metadata": {},
   "outputs": [],
   "source": [
    "cols = ['ET_GazeLeftx', 'ET_GazeLefty',\n",
    "       'ET_GazeRightx', 'ET_GazeRighty', 'ET_TimeSignal', 'ET_DistanceLeft',\n",
    "       'ET_DistanceRight', 'ET_CameraLeftX', 'ET_CameraLeftY',\n",
    "       'ET_CameraRightX', 'ET_CameraRightY', 'ET_ValidityLeft',\n",
    "       'ET_ValidityRight']"
   ]
  },
  {
   "cell_type": "code",
   "execution_count": null,
   "id": "c943b0e5",
   "metadata": {},
   "outputs": [],
   "source": [
    "from IPython.display import display, Markdown\n",
    "\n",
    "for col in cols:\n",
    "    # Add a markdown cell before each plot for better separation and labeling\n",
    "    display(Markdown(f'### {col} over Time'))\n",
    "    plt.figure(figsize=(16, 10))\n",
    "    plt.plot(df_3_EYE['Timestamp'], df_3_EYE[col])\n",
    "    plt.xlabel(\"Timestamp\") # Add x-axis label\n",
    "    plt.ylabel(col) # Add y-axis label\n",
    "    plt.show()"
   ]
  },
  {
   "cell_type": "code",
   "execution_count": null,
   "id": "812fcf37",
   "metadata": {},
   "outputs": [],
   "source": [
    "# Select only the numeric columns for plotting histograms, excluding time-related columns\n",
    "numeric_cols = df_3_EYE.select_dtypes(include=np.number).columns\n",
    "\n",
    "# Calculate the number of rows and columns for the grid\n",
    "n_cols = 4  # You can adjust the number of columns as needed\n",
    "n_rows = (len(numeric_cols) + n_cols - 1) // n_cols\n",
    "\n",
    "plt.figure(figsize=(n_cols * 5, n_rows * 4)) # Adjust figure size as needed\n",
    "\n",
    "for i, col in enumerate(numeric_cols):\n",
    "    plt.subplot(n_rows, n_cols, i + 1)\n",
    "    sns.boxplot(df_3_EYE[col])\n",
    "    plt.title(f'Boxplot of {col}')\n",
    "    plt.xlabel(col)\n",
    "\n",
    "plt.tight_layout()\n",
    "plt.show()"
   ]
  },
  {
   "cell_type": "code",
   "execution_count": null,
   "id": "e840fbc6",
   "metadata": {},
   "outputs": [],
   "source": [
    "df_3_EYE.replace({-1: np.nan}, inplace=True)"
   ]
  },
  {
   "cell_type": "code",
   "execution_count": null,
   "id": "05d12fd2",
   "metadata": {},
   "outputs": [],
   "source": [
    "numeric_cols = df_3_EYE.select_dtypes(include=np.number).columns\n",
    "\n",
    "for col in numeric_cols:\n",
    "    df_3_EYE[col].fillna(df_3_EYE[col].mean(), inplace=True)"
   ]
  },
  {
   "cell_type": "code",
   "execution_count": null,
   "id": "deb0db6f",
   "metadata": {},
   "outputs": [],
   "source": [
    "df_3_EYE.head()"
   ]
  },
  {
   "cell_type": "code",
   "execution_count": null,
   "id": "988f564f",
   "metadata": {},
   "outputs": [],
   "source": [
    "# Select only the numeric columns for plotting histograms, excluding time-related columns\n",
    "numeric_cols = df_3_EYE.select_dtypes(include=np.number).columns\n",
    "cols_to_plot = [col for col in numeric_cols if col not in ['UnixTime']]\n",
    "\n",
    "# Calculate the number of rows and columns for the grid\n",
    "n_cols = 4  # You can adjust the number of columns as needed\n",
    "n_rows = (len(cols_to_plot) + n_cols - 1) // n_cols\n",
    "\n",
    "plt.figure(figsize=(n_cols * 5, n_rows * 4)) # Adjust figure size as needed\n",
    "\n",
    "for i, col in enumerate(cols_to_plot):\n",
    "    plt.subplot(n_rows, n_cols, i + 1)\n",
    "    sns.histplot(df_3_EYE[col], kde=True)\n",
    "    plt.title(f'Distribution of {col}')\n",
    "    plt.xlabel(col)\n",
    "    plt.ylabel('Frequency')\n",
    "\n",
    "plt.tight_layout()\n",
    "plt.show()"
   ]
  },
  {
   "cell_type": "code",
   "execution_count": null,
   "id": "ee80200a",
   "metadata": {},
   "outputs": [],
   "source": []
  },
  {
   "cell_type": "code",
   "execution_count": null,
   "id": "790466b4",
   "metadata": {},
   "outputs": [],
   "source": []
  },
  {
   "cell_type": "code",
   "execution_count": null,
   "id": "04d8c4fc",
   "metadata": {},
   "outputs": [],
   "source": []
  },
  {
   "cell_type": "code",
   "execution_count": null,
   "id": "8863e9d5",
   "metadata": {},
   "outputs": [],
   "source": []
  },
  {
   "cell_type": "code",
   "execution_count": null,
   "id": "8c804bc3",
   "metadata": {},
   "outputs": [],
   "source": []
  },
  {
   "cell_type": "code",
   "execution_count": null,
   "id": "447d864c",
   "metadata": {},
   "outputs": [],
   "source": []
  },
  {
   "cell_type": "code",
   "execution_count": null,
   "id": "7bfef14a",
   "metadata": {},
   "outputs": [],
   "source": []
  },
  {
   "cell_type": "code",
   "execution_count": null,
   "id": "ea301e6a",
   "metadata": {},
   "outputs": [],
   "source": []
  },
  {
   "cell_type": "code",
   "execution_count": null,
   "id": "40f45f57",
   "metadata": {},
   "outputs": [],
   "source": []
  },
  {
   "cell_type": "code",
   "execution_count": null,
   "id": "c152c4cd",
   "metadata": {},
   "outputs": [],
   "source": []
  },
  {
   "cell_type": "code",
   "execution_count": null,
   "id": "7c956bb3",
   "metadata": {},
   "outputs": [],
   "source": []
  },
  {
   "cell_type": "code",
   "execution_count": null,
   "id": "139f8545",
   "metadata": {},
   "outputs": [],
   "source": []
  },
  {
   "cell_type": "markdown",
   "id": "3f1780ee",
   "metadata": {},
   "source": [
    "# Eye Tracking Data Analysis\n",
    "\n",
    "This notebook performs exploratory data analysis and cleaning on eye-tracking data.\n",
    "\n",
    "## Data Loading and Initial Inspection"
   ]
  },
  {
   "cell_type": "code",
   "execution_count": null,
   "id": "81273ba4",
   "metadata": {},
   "outputs": [],
   "source": [
    "%load_ext cudf"
   ]
  },
  {
   "cell_type": "markdown",
   "id": "5d9dce59",
   "metadata": {},
   "source": [
    "Import necessary libraries for data manipulation, analysis, and visualization."
   ]
  },
  {
   "cell_type": "code",
   "execution_count": null,
   "id": "c5ad67f7",
   "metadata": {},
   "outputs": [],
   "source": [
    "import numpy as np\n",
    "import pandas as pd\n",
    "import matplotlib.pyplot as plt\n",
    "import seaborn as sns"
   ]
  },
  {
   "cell_type": "markdown",
   "id": "db6b40ef",
   "metadata": {},
   "source": [
    "Import libraries for datashader, which can be used for visualizing large datasets."
   ]
  },
  {
   "cell_type": "code",
   "execution_count": null,
   "id": "623302b4",
   "metadata": {},
   "outputs": [],
   "source": [
    "import datashader as ds\n",
    "import datashader.transfer_functions as tf"
   ]
  },
  {
   "cell_type": "markdown",
   "id": "e12b4577",
   "metadata": {},
   "source": [
    "Set pandas display options to show all columns."
   ]
  },
  {
   "cell_type": "code",
   "execution_count": null,
   "id": "21b31ae9",
   "metadata": {},
   "outputs": [],
   "source": [
    "pd.set_option('display.max_columns', None)"
   ]
  },
  {
   "cell_type": "markdown",
   "id": "686d0766",
   "metadata": {},
   "source": [
    "Load the eye-tracking data from the specified CSV file into a pandas DataFrame."
   ]
  },
  {
   "cell_type": "code",
   "execution_count": null,
   "id": "c1f1f14e",
   "metadata": {},
   "outputs": [],
   "source": [
    "df_3_EYE = pd.read_csv('data/STData/3/3_EYE.csv')"
   ]
  },
  {
   "cell_type": "markdown",
   "id": "6fcf7d4b",
   "metadata": {},
   "source": [
    "Display the first few rows of the DataFrame to get an initial look at the data structure and content."
   ]
  },
  {
   "cell_type": "code",
   "execution_count": null,
   "id": "9f7fd545",
   "metadata": {},
   "outputs": [],
   "source": [
    "df_3_EYE.head()"
   ]
  },
  {
   "cell_type": "markdown",
   "id": "b54caa8f",
   "metadata": {},
   "source": [
    "Check the dimensions (number of rows and columns) of the DataFrame."
   ]
  },
  {
   "cell_type": "code",
   "execution_count": null,
   "id": "a4152e43",
   "metadata": {},
   "outputs": [],
   "source": [
    "df_3_EYE.shape"
   ]
  },
  {
   "cell_type": "markdown",
   "id": "7815901c",
   "metadata": {},
   "source": [
    "List the names of all columns in the DataFrame."
   ]
  },
  {
   "cell_type": "code",
   "execution_count": null,
   "id": "f3ad82cc",
   "metadata": {},
   "outputs": [],
   "source": [
    "df_3_EYE.columns"
   ]
  },
  {
   "cell_type": "markdown",
   "id": "a061ea58",
   "metadata": {},
   "source": [
    "Display concise information about the DataFrame, including the data types of each column and the number of non-null values. This helps identify columns with missing data."
   ]
  },
  {
   "cell_type": "code",
   "execution_count": null,
   "id": "c945e542",
   "metadata": {},
   "outputs": [],
   "source": [
    "df_3_EYE.info()"
   ]
  },
  {
   "cell_type": "markdown",
   "id": "8906b3d1",
   "metadata": {},
   "source": [
    "Calculate and display the number of missing values in each column."
   ]
  },
  {
   "cell_type": "code",
   "execution_count": null,
   "id": "52050e7e",
   "metadata": {},
   "outputs": [],
   "source": [
    "df_3_EYE.isnull().sum()"
   ]
  },
  {
   "cell_type": "markdown",
   "id": "28c53502",
   "metadata": {},
   "source": [
    "Visualize the distribution of missing values using a heatmap. This provides a visual representation of which columns have missing data and the extent of missingness."
   ]
  },
  {
   "cell_type": "code",
   "execution_count": null,
   "id": "d43d4a1f",
   "metadata": {},
   "outputs": [],
   "source": [
    "plt.figure(figsize=(12,8))\n",
    "sns.heatmap(df_3_EYE.isnull(), cmap='viridis')\n",
    "plt.show()"
   ]
  },
  {
   "cell_type": "markdown",
   "id": "ad5a9144",
   "metadata": {},
   "source": [
    "# Notes & Observations\n",
    "\n",
    "- We observe many **null** (or missing) values in the `QuestionKey` columns.\n",
    "- The nulls in the `QuestionKey` column may not represent “true” nulls. Rather, they follow interval patterns, suggesting that during those periods no question was displayed.\n",
    "- These missing values in `QuestionKey` require additional investigation and context-aware handling."
   ]
  },
  {
   "cell_type": "markdown",
   "id": "63a941a0",
   "metadata": {},
   "source": [
    "Display the unique values in the `QuestionKey` column to understand the different types of questions or states recorded."
   ]
  },
  {
   "cell_type": "code",
   "execution_count": null,
   "id": "44eab658",
   "metadata": {},
   "outputs": [],
   "source": [
    "df_3_EYE['QuestionKey'].unique()"
   ]
  },
  {
   "cell_type": "markdown",
   "id": "c4858d96",
   "metadata": {},
   "source": [
    "Convert the `Timestamp` column to datetime objects. This is crucial for any time series analysis or manipulation."
   ]
  },
  {
   "cell_type": "code",
   "execution_count": null,
   "id": "c301066e",
   "metadata": {},
   "outputs": [],
   "source": [
    "df_3_EYE['Timestamp'] = pd.to_datetime(df_3_EYE['Timestamp'])"
   ]
  },
  {
   "cell_type": "markdown",
   "id": "a1eae365",
   "metadata": {},
   "source": [
    "Display the first few rows again to see the effect of the timestamp conversion."
   ]
  },
  {
   "cell_type": "code",
   "execution_count": null,
   "id": "101245a3",
   "metadata": {},
   "outputs": [],
   "source": [
    "df_3_EYE.head(3)"
   ]
  },
  {
   "cell_type": "markdown",
   "id": "e048246a",
   "metadata": {},
   "source": [
    "Fill the missing values in the `QuestionKey` column with the string 'None'. This helps to explicitly mark periods where no question was active."
   ]
  },
  {
   "cell_type": "code",
   "execution_count": null,
   "id": "9c3a64c6",
   "metadata": {},
   "outputs": [],
   "source": [
    "df_3_EYE['QuestionKey'].fillna('None', inplace=True)"
   ]
  },
  {
   "cell_type": "markdown",
   "id": "674f3650",
   "metadata": {},
   "source": [
    "Count the occurrences of each unique value in the `QuestionKey` column after filling missing values."
   ]
  },
  {
   "cell_type": "code",
   "execution_count": null,
   "id": "0f6c9335",
   "metadata": {},
   "outputs": [],
   "source": [
    "df_3_EYE['QuestionKey'].value_counts()"
   ]
  },
  {
   "cell_type": "markdown",
   "id": "294f51e8",
   "metadata": {},
   "source": [
    "Display the heatmap of missing values again to confirm that the missing values in `QuestionKey` have been handled."
   ]
  },
  {
   "cell_type": "code",
   "execution_count": null,
   "id": "c04e5221",
   "metadata": {},
   "outputs": [],
   "source": [
    "plt.figure(figsize=(12,8))\n",
    "sns.heatmap(df_3_EYE.isnull(), cmap='viridis')\n",
    "plt.show()"
   ]
  },
  {
   "cell_type": "markdown",
   "id": "c110141f",
   "metadata": {},
   "source": [
    "Recalculate and display the number of missing values per column to confirm the changes after handling `QuestionKey`."
   ]
  },
  {
   "cell_type": "code",
   "execution_count": null,
   "id": "77a1a403",
   "metadata": {},
   "outputs": [],
   "source": [
    "df_3_EYE.isnull().sum()"
   ]
  },
  {
   "cell_type": "markdown",
   "id": "ce9859bd",
   "metadata": {},
   "source": [
    "Drop rows that still contain any missing values. This is done after handling `QuestionKey` separately."
   ]
  },
  {
   "cell_type": "code",
   "execution_count": null,
   "id": "ce280898",
   "metadata": {},
   "outputs": [],
   "source": [
    "df_3_EYE.dropna(inplace=True)"
   ]
  },
  {
   "cell_type": "markdown",
   "id": "4eca6443",
   "metadata": {},
   "source": [
    "Display the first few rows after dropping rows with missing values."
   ]
  },
  {
   "cell_type": "code",
   "execution_count": null,
   "id": "a435d2ad",
   "metadata": {},
   "outputs": [],
   "source": [
    "df_3_EYE.head()"
   ]
  },
  {
   "cell_type": "markdown",
   "id": "4e1f8d07",
   "metadata": {},
   "source": [
    "Display the unique values in the `Row` column."
   ]
  },
  {
   "cell_type": "code",
   "execution_count": null,
   "id": "b24a7f91",
   "metadata": {},
   "outputs": [],
   "source": [
    "df_3_EYE['Row'].unique()"
   ]
  },
  {
   "cell_type": "markdown",
   "id": "fc1594ab",
   "metadata": {},
   "source": [
    "Plot a histogram of the `Row` column to visualize its distribution."
   ]
  },
  {
   "cell_type": "code",
   "execution_count": null,
   "id": "93cb76d0",
   "metadata": {},
   "outputs": [],
   "source": [
    "plt.figure(figsize=(8,6))\n",
    "sns.histplot(df_3_EYE['Row'])\n",
    "plt.show()"
   ]
  },
  {
   "cell_type": "markdown",
   "id": "f48b765a",
   "metadata": {},
   "source": [
    "# Notes & Observations\n",
    "\n",
    "- The `Row` column appears to be a simple row index and does not provide meaningful information relevant to the eye-tracking data itself. Therefore, it can be dropped."
   ]
  },
  {
   "cell_type": "markdown",
   "id": "c322958c",
   "metadata": {},
   "source": [
    "Drop the `Row` column as it is not relevant for the analysis."
   ]
  },
  {
   "cell_type": "code",
   "execution_count": null,
   "id": "c43731f1",
   "metadata": {},
   "outputs": [],
   "source": [
    "df_3_EYE.drop('Row', axis=1, inplace=True)"
   ]
  },
  {
   "cell_type": "markdown",
   "id": "36d0df33",
   "metadata": {},
   "source": [
    "Display the unique values in the `ET_ValidityLeft` column."
   ]
  },
  {
   "cell_type": "code",
   "execution_count": null,
   "id": "a1225430",
   "metadata": {},
   "outputs": [],
   "source": [
    "df_3_EYE['ET_ValidityLeft'].unique()"
   ]
  },
  {
   "cell_type": "markdown",
   "id": "de816609",
   "metadata": {},
   "source": [
    "Count the occurrences of each unique value in the `ET_ValidityLeft` column."
   ]
  },
  {
   "cell_type": "code",
   "execution_count": null,
   "id": "6b82c5b7",
   "metadata": {},
   "outputs": [],
   "source": [
    "df_3_EYE['ET_ValidityLeft'].value_counts()"
   ]
  },
  {
   "cell_type": "markdown",
   "id": "8170c33a",
   "metadata": {},
   "source": [
    "Display the unique values in the `ET_ValidityRight` column."
   ]
  },
  {
   "cell_type": "code",
   "execution_count": null,
   "id": "a0518d0b",
   "metadata": {},
   "outputs": [],
   "source": [
    "df_3_EYE['ET_ValidityRight'].unique()"
   ]
  },
  {
   "cell_type": "markdown",
   "id": "0d15fe89",
   "metadata": {},
   "source": [
    "Count the occurrences of each unique value in the `ET_ValidityRight` column."
   ]
  },
  {
   "cell_type": "code",
   "execution_count": null,
   "id": "b0800885",
   "metadata": {},
   "outputs": [],
   "source": [
    "df_3_EYE['ET_ValidityRight'].value_counts()"
   ]
  },
  {
   "cell_type": "markdown",
   "id": "65faf412",
   "metadata": {},
   "source": [
    "Visualize the counts of valid and invalid data for both left and right eyes using bar plots."
   ]
  },
  {
   "cell_type": "code",
   "execution_count": null,
   "id": "34137a47",
   "metadata": {},
   "outputs": [],
   "source": [
    "plt.figure(figsize=(12, 6))\n",
    "\n",
    "plt.subplot(1, 2, 1)\n",
    "sns.barplot(x=df_3_EYE['ET_ValidityLeft'].value_counts().index, y=df_3_EYE['ET_ValidityLeft'].value_counts().values)\n",
    "plt.title('Count of ET_ValidityLeft')\n",
    "plt.xlabel('Validity')\n",
    "plt.ylabel('Count')\n",
    "\n",
    "\n",
    "plt.subplot(1, 2, 2)\n",
    "sns.barplot(x=df_3_EYE['ET_ValidityRight'].value_counts().index, y=df_3_EYE['ET_ValidityRight'].value_counts().values)\n",
    "plt.title('Count of ET_ValidityRight')\n",
    "plt.xlabel('Validity')\n",
    "plt.ylabel('Count')\n",
    "\n",
    "plt.tight_layout()\n",
    "plt.show()"
   ]
  },
  {
   "cell_type": "markdown",
   "id": "29af8832",
   "metadata": {},
   "source": [
    "# Notes & Observations\n",
    "\n",
    "- The `ET_ValidityLeft` and `ET_ValidityRight` columns indicate the validity of the eye-tracking data for the left and right eye, respectively.\n",
    "- Based on the value counts and the bar plots, it appears that a value of `0.0` represents valid eye-tracking data, while a value of `4.0` represents invalid data.\n",
    "- Although the amount of invalid data is relatively small, removing these rows could introduce unwanted patterns or gaps in the time series data.\n",
    "- Therefore, we will keep the data and replace the value `4.0` with `1.0` in both `ET_ValidityLeft` and `ET_ValidityRight` columns. This will indicate to a machine learning model that the eye tracker had invalid data at those specific points in time while maintaining the integrity of the time series."
   ]
  },
  {
   "cell_type": "markdown",
   "id": "3b78120a",
   "metadata": {},
   "source": [
    "Define a mapping to convert validity values from `0.0` and `4.0` to `0` and `1`."
   ]
  },
  {
   "cell_type": "code",
   "execution_count": null,
   "id": "40d0abc4",
   "metadata": {},
   "outputs": [],
   "source": [
    "validity_map = {4.0: 1.0, 0.0: 0.0}"
   ]
  },
  {
   "cell_type": "markdown",
   "id": "5671ea1a",
   "metadata": {},
   "source": [
    "Apply the mapping to the `ET_ValidityLeft` and `ET_ValidityRight` columns and convert the data type to integer."
   ]
  },
  {
   "cell_type": "code",
   "execution_count": null,
   "id": "8d629437",
   "metadata": {},
   "outputs": [],
   "source": [
    "df_3_EYE['ET_ValidityLeft'] = df_3_EYE['ET_ValidityLeft'].map(validity_map).astype(np.int8)\n",
    "df_3_EYE['ET_ValidityRight'] = df_3_EYE['ET_ValidityRight'].map(validity_map).astype(np.int8)"
   ]
  },
  {
   "cell_type": "markdown",
   "id": "84ed8714",
   "metadata": {},
   "source": [
    "Display the first few rows to see the updated validity columns."
   ]
  },
  {
   "cell_type": "code",
   "execution_count": null,
   "id": "3b267dcc",
   "metadata": {},
   "outputs": [],
   "source": [
    "df_3_EYE.head(3)"
   ]
  },
  {
   "cell_type": "markdown",
   "id": "2ac931b7",
   "metadata": {},
   "source": [
    "Display descriptive statistics for the DataFrame, including count, mean, standard deviation, min, max, and quartiles for numeric columns."
   ]
  },
  {
   "cell_type": "code",
   "execution_count": null,
   "id": "a52e09af",
   "metadata": {},
   "outputs": [],
   "source": [
    "df_3_EYE.describe()"
   ]
  },
  {
   "cell_type": "markdown",
   "id": "29346aa6",
   "metadata": {},
   "source": [
    "Check the number of rows where `ET_ValidityLeft` is 1 (invalid data for the left eye)."
   ]
  },
  {
   "cell_type": "code",
   "execution_count": null,
   "id": "88b5fe97",
   "metadata": {},
   "outputs": [],
   "source": [
    "df_3_EYE[df_3_EYE['ET_ValidityLeft'] == 1].shape"
   ]
  },
  {
   "cell_type": "markdown",
   "id": "c938d34b",
   "metadata": {},
   "source": [
    "Check the number of rows where `ET_ValidityRight` is 1 (invalid data for the right eye)."
   ]
  },
  {
   "cell_type": "code",
   "execution_count": null,
   "id": "84b99015",
   "metadata": {},
   "outputs": [],
   "source": [
    "df_3_EYE[df_3_EYE['ET_ValidityRight'] == 1].shape"
   ]
  },
  {
   "cell_type": "markdown",
   "id": "7c1a0f69",
   "metadata": {},
   "source": [
    "Visualize the distribution of -1 and 1 values across columns using heatmaps. This helps identify columns with placeholder or indicator values."
   ]
  },
  {
   "cell_type": "code",
   "execution_count": null,
   "id": "468c51e3",
   "metadata": {},
   "outputs": [],
   "source": [
    "plt.figure(figsize=(18, 8))\n",
    "\n",
    "plt.subplot(1, 2, 1)\n",
    "sns.heatmap(df_3_EYE == -1, cmap='viridis')\n",
    "plt.title('Heatmap of -1 Values')\n",
    "\n",
    "plt.subplot(1, 2, 2)\n",
    "sns.heatmap(df_3_EYE == 1, cmap='viridis')\n",
    "plt.title('Heatmap of 1 Values')\n",
    "\n",
    "plt.tight_layout()\n",
    "plt.show()"
   ]
  },
  {
   "cell_type": "markdown",
   "id": "5be38738",
   "metadata": {},
   "source": [
    "Check the number of rows where `ET_PupilLeft` is -1."
   ]
  },
  {
   "cell_type": "code",
   "execution_count": null,
   "id": "e142860d",
   "metadata": {},
   "outputs": [],
   "source": [
    "df_3_EYE[df_3_EYE['ET_PupilLeft'] == -1].shape"
   ]
  },
  {
   "cell_type": "markdown",
   "id": "9850c618",
   "metadata": {},
   "source": [
    "Check the number of rows where `ET_PupilRight` is -1."
   ]
  },
  {
   "cell_type": "code",
   "execution_count": null,
   "id": "26890434",
   "metadata": {},
   "outputs": [],
   "source": [
    "df_3_EYE[df_3_EYE['ET_PupilRight'] == -1].shape"
   ]
  },
  {
   "cell_type": "markdown",
   "id": "aa662bd4",
   "metadata": {},
   "source": [
    "Calculate the ratio of rows with -1 values in the `ET_PupilLeft` column to the total number of rows."
   ]
  },
  {
   "cell_type": "code",
   "execution_count": null,
   "id": "24694114",
   "metadata": {},
   "outputs": [],
   "source": [
    "df_3_EYE[df_3_EYE['ET_PupilLeft'] == -1].shape[0] / df_3_EYE.shape[0]"
   ]
  },
  {
   "cell_type": "markdown",
   "id": "9e2043ca",
   "metadata": {},
   "source": [
    "Calculate the ratio of rows with -1 values in the `ET_PupilRight` column to the total number of rows."
   ]
  },
  {
   "cell_type": "code",
   "execution_count": null,
   "id": "335449e4",
   "metadata": {},
   "outputs": [],
   "source": [
    "df_3_EYE[df_3_EYE['ET_PupilRight'] == -1].shape[0] / df_3_EYE.shape[0]"
   ]
  },
  {
   "cell_type": "markdown",
   "id": "365130c6",
   "metadata": {},
   "source": [
    "Visualize the distribution of -1 values specifically for rows where validity is 1 (invalid data)."
   ]
  },
  {
   "cell_type": "code",
   "execution_count": null,
   "id": "f06bc2df",
   "metadata": {},
   "outputs": [],
   "source": [
    "plt.figure(figsize=(18, 8))\n",
    "\n",
    "plt.subplot(1, 2, 1)\n",
    "sns.heatmap(df_3_EYE[df_3_EYE['ET_ValidityLeft'] == 1] == -1, cmap='viridis')\n",
    "plt.title('Heatmap of -1 Values')\n",
    "\n",
    "plt.subplot(1, 2, 2)\n",
    "sns.heatmap(df_3_EYE[df_3_EYE['ET_ValidityRight'] == 1] == -1, cmap='viridis')\n",
    "plt.title('Heatmap of -1 Values')\n",
    "\n",
    "plt.tight_layout()\n",
    "plt.show()"
   ]
  },
  {
   "cell_type": "markdown",
   "id": "a7be0ad1",
   "metadata": {},
   "source": [
    "# Notes & Observations\n",
    "\n",
    "- The heatmaps reveal the distribution of -1 values across different columns.\n",
    "- It is evident that the `-1` values are not randomly scattered but appear in specific columns, notably `ET_GazeLeftx`, `ET_GazeLefty`, `ET_GazeRightx`, `ET_GazeRighty`, `ET_PupilLeft`, `ET_PupilRight`, `ET_DistanceLeft`, `ET_DistanceRight`, `ET_CameraLeftX`, `ET_CameraLeftY`, `ET_CameraRightX`, and `ET_CameraRightY`.\n",
    "- These `-1` values often coincide with instances where `ET_ValidityLeft` or `ET_ValidityRight` is 1, indicating invalid eye-tracking data. This suggests that `-1` is used as a placeholder for missing or invalid measurements in these columns when the eye tracker is not providing valid data for a particular eye.\n",
    "- Given that over 70% of the data in the `ET_PupilLeft` and `ET_PupilRight` columns is marked as invalid (-1), these columns may not be suitable for analysis and could be considered for dropping."
   ]
  },
  {
   "cell_type": "markdown",
   "id": "c6832b3c",
   "metadata": {},
   "source": [
    "Drop the `ET_PupilLeft` and `ET_PupilRight` columns due to the high percentage of invalid data."
   ]
  },
  {
   "cell_type": "code",
   "execution_count": null,
   "id": "8659dcda",
   "metadata": {},
   "outputs": [],
   "source": [
    "df_3_EYE.drop(['ET_PupilLeft', 'ET_PupilRight'], axis=1, inplace=True)"
   ]
  },
  {
   "cell_type": "markdown",
   "id": "a4554367",
   "metadata": {},
   "source": [
    "Display the first few rows after dropping the pupil columns."
   ]
  },
  {
   "cell_type": "code",
   "execution_count": null,
   "id": "1b17aa6b",
   "metadata": {},
   "outputs": [],
   "source": [
    "df_3_EYE.head()"
   ]
  },
  {
   "cell_type": "markdown",
   "id": "b50071c5",
   "metadata": {},
   "source": [
    "Visualize the distribution of -1 and 1 values again after dropping the pupil columns."
   ]
  },
  {
   "cell_type": "code",
   "execution_count": null,
   "id": "b7eea533",
   "metadata": {},
   "outputs": [],
   "source": [
    "plt.figure(figsize=(18, 8))\n",
    "\n",
    "plt.subplot(1, 2, 1)\n",
    "sns.heatmap(df_3_EYE == -1, cmap='viridis')\n",
    "plt.title('Heatmap of -1 Values')\n",
    "\n",
    "plt.subplot(1, 2, 2)\n",
    "sns.heatmap(df_3_EYE == 1, cmap='viridis')\n",
    "plt.title('Heatmap of -1 Values')\n",
    "\n",
    "plt.tight_layout()\n",
    "plt.show()"
   ]
  },
  {
   "cell_type": "markdown",
   "id": "f1070571",
   "metadata": {},
   "source": [
    "Calculate the ratio of valid data points for the left eye."
   ]
  },
  {
   "cell_type": "code",
   "execution_count": null,
   "id": "ce87d69a",
   "metadata": {},
   "outputs": [],
   "source": [
    "valid_left_ratio  = 1 - df_3_EYE['ET_ValidityLeft'].mean()"
   ]
  },
  {
   "cell_type": "markdown",
   "id": "2417f7ac",
   "metadata": {},
   "source": [
    "Display the ratio of valid data points for the left eye."
   ]
  },
  {
   "cell_type": "code",
   "execution_count": null,
   "id": "2f9dc81f",
   "metadata": {},
   "outputs": [],
   "source": [
    "valid_left_ratio"
   ]
  },
  {
   "cell_type": "markdown",
   "id": "f05e482a",
   "metadata": {},
   "source": [
    "Calculate the ratio of valid data points for the right eye."
   ]
  },
  {
   "cell_type": "code",
   "execution_count": null,
   "id": "de450818",
   "metadata": {},
   "outputs": [],
   "source": [
    "valid_right_ratio = 1 - df_3_EYE['ET_ValidityRight'].mean()"
   ]
  },
  {
   "cell_type": "markdown",
   "id": "c896cfbb",
   "metadata": {},
   "source": [
    "Display the ratio of valid data points for the right eye."
   ]
  },
  {
   "cell_type": "code",
   "execution_count": null,
   "id": "ba4338c7",
   "metadata": {},
   "outputs": [],
   "source": [
    "valid_right_ratio"
   ]
  },
  {
   "cell_type": "markdown",
   "id": "4925773d",
   "metadata": {},
   "source": [
    "Display the first few rows of the DataFrame."
   ]
  },
  {
   "cell_type": "code",
   "execution_count": null,
   "id": "b8cbd6de",
   "metadata": {},
   "outputs": [],
   "source": [
    "df_3_EYE.head()"
   ]
  },
  {
   "cell_type": "markdown",
   "id": "66b75537",
   "metadata": {},
   "source": [
    "Visualize the distributions of numeric columns using histograms with Kernel Density Estimate (KDE) plots. This helps understand the shape and spread of the data in each numeric column."
   ]
  },
  {
   "cell_type": "code",
   "execution_count": null,
   "id": "71d366b7",
   "metadata": {},
   "outputs": [],
   "source": [
    "# Select only the numeric columns for plotting histograms, excluding time-related columns\n",
    "numeric_cols = df_3_EYE.select_dtypes(include=np.number).columns\n",
    "cols_to_plot = [col for col in numeric_cols if col not in ['UnixTime']]\n",
    "\n",
    "# Calculate the number of rows and columns for the grid\n",
    "n_cols = 4  # You can adjust the number of columns as needed\n",
    "n_rows = (len(cols_to_plot) + n_cols - 1) // n_cols\n",
    "\n",
    "plt.figure(figsize=(n_cols * 5, n_rows * 4)) # Adjust figure size as needed\n",
    "\n",
    "for i, col in enumerate(cols_to_plot):\n",
    "    plt.subplot(n_rows, n_cols, i + 1)\n",
    "    sns.histplot(df_3_EYE[col], kde=True)\n",
    "    plt.title(f'Distribution of {col}')\n",
    "    plt.xlabel(col)\n",
    "    plt.ylabel('Frequency')\n",
    "\n",
    "plt.tight_layout()\n",
    "plt.show()"
   ]
  },
  {
   "cell_type": "markdown",
   "id": "88a1280e",
   "metadata": {},
   "source": [
    "List the names of the columns in the DataFrame."
   ]
  },
  {
   "cell_type": "code",
   "execution_count": null,
   "id": "4183b90c",
   "metadata": {},
   "outputs": [],
   "source": [
    "df_3_EYE.columns"
   ]
  },
  {
   "cell_type": "markdown",
   "id": "ba545727",
   "metadata": {},
   "source": [
    "Define a list of columns to be plotted over time."
   ]
  },
  {
   "cell_type": "code",
   "execution_count": null,
   "id": "f1d7dcb6",
   "metadata": {},
   "outputs": [],
   "source": [
    "cols = ['ET_GazeLeftx', 'ET_GazeLefty',\n",
    "       'ET_GazeRightx', 'ET_GazeRighty', 'ET_TimeSignal', 'ET_DistanceLeft',\n",
    "       'ET_DistanceRight', 'ET_CameraLeftX', 'ET_CameraLeftY',\n",
    "       'ET_CameraRightX', 'ET_CameraRightY', 'ET_ValidityLeft',\n",
    "       'ET_ValidityRight']"
   ]
  },
  {
   "cell_type": "markdown",
   "id": "a58a5eeb",
   "metadata": {},
   "source": [
    "Plot each of the selected columns against the timestamp to visualize their trends and patterns over time. Markdown cells are added before each plot for better readability."
   ]
  },
  {
   "cell_type": "code",
   "execution_count": null,
   "id": "3d2a654d",
   "metadata": {},
   "outputs": [],
   "source": [
    "from IPython.display import display, Markdown\n",
    "\n",
    "for col in cols:\n",
    "    # Add a markdown cell before each plot for better separation and labeling\n",
    "    display(Markdown(f'### {col} over Time'))\n",
    "    plt.figure(figsize=(16, 10))\n",
    "    plt.plot(df_3_EYE['Timestamp'], df_3_EYE[col])\n",
    "    plt.xlabel(\"Timestamp\") # Add x-axis label\n",
    "    plt.ylabel(col) # Add y-axis label\n",
    "    plt.show()"
   ]
  },
  {
   "cell_type": "markdown",
   "id": "1325feac",
   "metadata": {},
   "source": [
    "Visualize the distributions of numeric columns using boxplots. This helps identify potential outliers and the spread of the data."
   ]
  },
  {
   "cell_type": "code",
   "execution_count": null,
   "id": "f45a2efc",
   "metadata": {},
   "outputs": [],
   "source": [
    "# Select only the numeric columns for plotting histograms, excluding time-related columns\n",
    "numeric_cols = df_3_EYE.select_dtypes(include=np.number).columns\n",
    "\n",
    "# Calculate the number of rows and columns for the grid\n",
    "n_cols = 4  # You can adjust the number of columns as needed\n",
    "n_rows = (len(numeric_cols) + n_cols - 1) // n_cols\n",
    "\n",
    "plt.figure(figsize=(n_cols * 5, n_rows * 4)) # Adjust figure size as needed\n",
    "\n",
    "for i, col in enumerate(numeric_cols):\n",
    "    plt.subplot(n_rows, n_cols, i + 1)\n",
    "    sns.boxplot(df_3_EYE[col])\n",
    "    plt.title(f'Boxplot of {col}')\n",
    "    plt.xlabel(col)\n",
    "\n",
    "plt.tight_layout()\n",
    "plt.show()"
   ]
  },
  {
   "cell_type": "markdown",
   "id": "939450b5",
   "metadata": {},
   "source": [
    "Replace the placeholder value -1 with NaN (Not a Number) in the DataFrame. This is done before imputation."
   ]
  },
  {
   "cell_type": "code",
   "execution_count": null,
   "id": "38bb8ea6",
   "metadata": {},
   "outputs": [],
   "source": [
    "df_3_EYE.replace({-1: np.nan}, inplace=True)"
   ]
  },
  {
   "cell_type": "markdown",
   "id": "ae8230d3",
   "metadata": {},
   "source": [
    "Impute the missing values (NaN) in the numeric columns with the mean of each column."
   ]
  },
  {
   "cell_type": "code",
   "execution_count": null,
   "id": "f410616c",
   "metadata": {},
   "outputs": [],
   "source": [
    "numeric_cols = df_3_EYE.select_dtypes(include=np.number).columns\n",
    "\n",
    "for col in numeric_cols:\n",
    "    df_3_EYE[col].fillna(df_3_EYE[col].mean(), inplace=True)"
   ]
  },
  {
   "cell_type": "markdown",
   "id": "388ff7e7",
   "metadata": {},
   "source": [
    "Display the first few rows after imputing missing values."
   ]
  },
  {
   "cell_type": "code",
   "execution_count": null,
   "id": "bf821c96",
   "metadata": {},
   "outputs": [],
   "source": [
    "df_3_EYE.head()"
   ]
  },
  {
   "cell_type": "markdown",
   "id": "4bf42c1b",
   "metadata": {},
   "source": [
    "Visualize the distributions of numeric columns again using histograms with KDE plots after imputation. This helps assess the impact of imputation on the data distributions."
   ]
  },
  {
   "cell_type": "code",
   "execution_count": null,
   "id": "f603cc6d",
   "metadata": {},
   "outputs": [],
   "source": [
    "# Select only the numeric columns for plotting histograms, excluding time-related columns\n",
    "numeric_cols = df_3_EYE.select_dtypes(include=np.number).columns\n",
    "cols_to_plot = [col for col in numeric_cols if col not in ['UnixTime']]\n",
    "\n",
    "# Calculate the number of rows and columns for the grid\n",
    "n_cols = 4  # You can adjust the number of columns as needed\n",
    "n_rows = (len(cols_to_plot) + n_cols - 1) // n_cols\n",
    "\n",
    "plt.figure(figsize=(n_cols * 5, n_rows * 4)) # Adjust figure size as needed\n",
    "\n",
    "for i, col in enumerate(cols_to_plot):\n",
    "    plt.subplot(n_rows, n_cols, i + 1)\n",
    "    sns.histplot(df_3_EYE[col], kde=True)\n",
    "    plt.title(f'Distribution of {col}')\n",
    "    plt.xlabel(col)\n",
    "    plt.ylabel('Frequency')\n",
    "\n",
    "plt.tight_layout()\n",
    "plt.show()"
   ]
  },
  {
   "cell_type": "code",
   "execution_count": null,
   "id": "09b7d083",
   "metadata": {},
   "outputs": [],
   "source": []
  },
  {
   "cell_type": "markdown",
   "id": "60e24e01",
   "metadata": {},
   "source": [
    "## Student 4"
   ]
  },
  {
   "cell_type": "code",
   "execution_count": null,
   "id": "9b250995",
   "metadata": {},
   "outputs": [],
   "source": [
    "%load_ext cudf"
   ]
  },
  {
   "cell_type": "code",
   "execution_count": null,
   "id": "3c86f08a",
   "metadata": {},
   "outputs": [],
   "source": [
    "import numpy as np\n",
    "import pandas as pd\n",
    "import matplotlib.pyplot as plt\n",
    "import seaborn as sns"
   ]
  },
  {
   "cell_type": "code",
   "execution_count": null,
   "id": "7552feff",
   "metadata": {},
   "outputs": [],
   "source": [
    "import datashader as ds\n",
    "import datashader.transfer_functions as tf"
   ]
  },
  {
   "cell_type": "code",
   "execution_count": null,
   "id": "77e010a7",
   "metadata": {},
   "outputs": [],
   "source": [
    "pd.set_option('display.max_columns', None)"
   ]
  },
  {
   "cell_type": "code",
   "execution_count": null,
   "id": "cc2fc963",
   "metadata": {},
   "outputs": [],
   "source": [
    "df_4_EYE = pd.read_csv('data/STData/4/4_EYE.csv')"
   ]
  },
  {
   "cell_type": "code",
   "execution_count": null,
   "id": "08ae5dac",
   "metadata": {},
   "outputs": [],
   "source": [
    "df_4_EYE.head()"
   ]
  },
  {
   "cell_type": "code",
   "execution_count": null,
   "id": "d4f3418f",
   "metadata": {},
   "outputs": [],
   "source": [
    "df_4_EYE.shape"
   ]
  },
  {
   "cell_type": "code",
   "execution_count": null,
   "id": "a3f179df",
   "metadata": {},
   "outputs": [],
   "source": [
    "df_4_EYE.columns"
   ]
  },
  {
   "cell_type": "code",
   "execution_count": null,
   "id": "1bed8930",
   "metadata": {},
   "outputs": [],
   "source": [
    "df_4_EYE.info()"
   ]
  },
  {
   "cell_type": "code",
   "execution_count": null,
   "id": "d48ac30c",
   "metadata": {},
   "outputs": [],
   "source": [
    "df_4_EYE.isnull().sum()"
   ]
  },
  {
   "cell_type": "code",
   "execution_count": null,
   "id": "e15d02db",
   "metadata": {},
   "outputs": [],
   "source": [
    "plt.figure(figsize=(12,8))\n",
    "sns.heatmap(df_4_EYE.isnull(), cmap='viridis')\n",
    "plt.show()"
   ]
  },
  {
   "cell_type": "markdown",
   "id": "50b13ed1",
   "metadata": {},
   "source": [
    "# Notes & Observations\n",
    "\n",
    "- We observe many **null** (or missing) values in the `QuestionKey` columns.  \n",
    "- The nulls in the `QuestionKey` column may not represent “true” nulls. Rather, they follow interval patterns, suggesting that during those periods no question was displayed.  \n",
    "- These missing values in `QuestionKey` require additional investigation and context-aware handling.  "
   ]
  },
  {
   "cell_type": "code",
   "execution_count": null,
   "id": "dccbe5d4",
   "metadata": {},
   "outputs": [],
   "source": [
    "df_4_EYE['QuestionKey'].unique()"
   ]
  },
  {
   "cell_type": "code",
   "execution_count": null,
   "id": "21ab119c",
   "metadata": {},
   "outputs": [],
   "source": [
    "df_4_EYE['Timestamp'] = pd.to_datetime(df_4_EYE['Timestamp'])"
   ]
  },
  {
   "cell_type": "code",
   "execution_count": null,
   "id": "432887c5",
   "metadata": {},
   "outputs": [],
   "source": [
    "df_4_EYE.head(3)"
   ]
  },
  {
   "cell_type": "code",
   "execution_count": null,
   "id": "c4c05b60",
   "metadata": {},
   "outputs": [],
   "source": [
    "df_4_EYE['QuestionKey'].fillna('None', inplace=True)"
   ]
  },
  {
   "cell_type": "code",
   "execution_count": null,
   "id": "8c7d506b",
   "metadata": {},
   "outputs": [],
   "source": [
    "df_4_EYE['QuestionKey'].value_counts()"
   ]
  },
  {
   "cell_type": "code",
   "execution_count": null,
   "id": "7a13b4b8",
   "metadata": {},
   "outputs": [],
   "source": [
    "plt.figure(figsize=(12,8))\n",
    "sns.heatmap(df_4_EYE.isnull(), cmap='viridis')\n",
    "plt.show()"
   ]
  },
  {
   "cell_type": "code",
   "execution_count": null,
   "id": "b3b387c1",
   "metadata": {},
   "outputs": [],
   "source": [
    "df_4_EYE.isnull().sum()"
   ]
  },
  {
   "cell_type": "code",
   "execution_count": null,
   "id": "60808a5f",
   "metadata": {},
   "outputs": [],
   "source": [
    "df_4_EYE.dropna(inplace=True)"
   ]
  },
  {
   "cell_type": "code",
   "execution_count": null,
   "id": "32ca3a03",
   "metadata": {},
   "outputs": [],
   "source": [
    "df_4_EYE.head()"
   ]
  },
  {
   "cell_type": "code",
   "execution_count": null,
   "id": "754c537c",
   "metadata": {},
   "outputs": [],
   "source": [
    "df_4_EYE['Row'].unique()"
   ]
  },
  {
   "cell_type": "code",
   "execution_count": null,
   "id": "573a1b3f",
   "metadata": {},
   "outputs": [],
   "source": [
    "plt.figure(figsize=(8,6))\n",
    "sns.histplot(df_4_EYE['Row'])\n",
    "plt.show()"
   ]
  },
  {
   "cell_type": "markdown",
   "id": "75f02de5",
   "metadata": {},
   "source": [
    "# Notes & Observations\n",
    "\n",
    "- The `Row` column appears to be a simple row index and does not provide meaningful information relevant to the eye-tracking data itself. Therefore, it can be dropped."
   ]
  },
  {
   "cell_type": "code",
   "execution_count": null,
   "id": "888d6594",
   "metadata": {},
   "outputs": [],
   "source": [
    "df_4_EYE.drop('Row', axis=1, inplace=True)"
   ]
  },
  {
   "cell_type": "code",
   "execution_count": null,
   "id": "35108a5f",
   "metadata": {},
   "outputs": [],
   "source": [
    "df_4_EYE['ET_ValidityLeft'].unique()"
   ]
  },
  {
   "cell_type": "code",
   "execution_count": null,
   "id": "3e9076c8",
   "metadata": {},
   "outputs": [],
   "source": [
    "df_4_EYE['ET_ValidityLeft'].value_counts()"
   ]
  },
  {
   "cell_type": "code",
   "execution_count": null,
   "id": "00d8580c",
   "metadata": {},
   "outputs": [],
   "source": [
    "df_4_EYE['ET_ValidityRight'].unique()"
   ]
  },
  {
   "cell_type": "code",
   "execution_count": null,
   "id": "3c08c191",
   "metadata": {},
   "outputs": [],
   "source": [
    "df_4_EYE['ET_ValidityRight'].value_counts()"
   ]
  },
  {
   "cell_type": "code",
   "execution_count": null,
   "id": "ebf4bde0",
   "metadata": {},
   "outputs": [],
   "source": [
    "plt.figure(figsize=(12, 6))\n",
    "\n",
    "plt.subplot(1, 2, 1)\n",
    "sns.barplot(x=df_4_EYE['ET_ValidityLeft'].value_counts().index, y=df_4_EYE['ET_ValidityLeft'].value_counts().values)\n",
    "plt.title('Count of ET_ValidityLeft')\n",
    "plt.xlabel('Validity')\n",
    "plt.ylabel('Count')\n",
    "\n",
    "\n",
    "plt.subplot(1, 2, 2)\n",
    "sns.barplot(x=df_4_EYE['ET_ValidityRight'].value_counts().index, y=df_4_EYE['ET_ValidityRight'].value_counts().values)\n",
    "plt.title('Count of ET_ValidityRight')\n",
    "plt.xlabel('Validity')\n",
    "plt.ylabel('Count')\n",
    "\n",
    "plt.tight_layout()\n",
    "plt.show()"
   ]
  },
  {
   "cell_type": "markdown",
   "id": "75ae9a76",
   "metadata": {},
   "source": [
    "# Notes & Observations\n",
    "\n",
    "- The `ET_ValidityLeft` and `ET_ValidityRight` columns indicate the validity of the eye-tracking data for the left and right eye, respectively.\n",
    "- Based on the value counts and the bar plots, it appears that a value of `0.0` represents valid eye-tracking data, while a value of `4.0` represents invalid data.\n",
    "- Although the amount of invalid data is relatively small, removing these rows could introduce unwanted patterns or gaps in the time series data.\n",
    "- Therefore, we will keep the data and replace the value `4.0` with `1.0` in both `ET_ValidityLeft` and `ET_ValidityRight` columns. This will indicate to a machine learning model that the eye tracker had invalid data at those specific points in time while maintaining the integrity of the time series."
   ]
  },
  {
   "cell_type": "code",
   "execution_count": null,
   "id": "26ed19c3",
   "metadata": {},
   "outputs": [],
   "source": [
    "validity_map = {4.0: 1.0, 0.0: 0.0}"
   ]
  },
  {
   "cell_type": "code",
   "execution_count": null,
   "id": "0fb73808",
   "metadata": {},
   "outputs": [],
   "source": [
    "df_4_EYE['ET_ValidityLeft'] = df_4_EYE['ET_ValidityLeft'].map(validity_map).astype(np.int8)\n",
    "df_4_EYE['ET_ValidityRight'] = df_4_EYE['ET_ValidityRight'].map(validity_map).astype(np.int8)"
   ]
  },
  {
   "cell_type": "code",
   "execution_count": null,
   "id": "1f715f13",
   "metadata": {},
   "outputs": [],
   "source": [
    "df_4_EYE.head(3)"
   ]
  },
  {
   "cell_type": "code",
   "execution_count": null,
   "id": "8d931e52",
   "metadata": {},
   "outputs": [],
   "source": [
    "df_4_EYE.describe()"
   ]
  },
  {
   "cell_type": "code",
   "execution_count": null,
   "id": "58a133b1",
   "metadata": {},
   "outputs": [],
   "source": [
    "df_4_EYE[df_4_EYE['ET_ValidityLeft'] == 1].shape"
   ]
  },
  {
   "cell_type": "code",
   "execution_count": null,
   "id": "a72ac4bd",
   "metadata": {},
   "outputs": [],
   "source": [
    "df_4_EYE[df_4_EYE['ET_ValidityRight'] == 1].shape"
   ]
  },
  {
   "cell_type": "code",
   "execution_count": null,
   "id": "fbf7d821",
   "metadata": {},
   "outputs": [],
   "source": [
    "plt.figure(figsize=(18, 8))\n",
    "\n",
    "plt.subplot(1, 2, 1)\n",
    "sns.heatmap(df_4_EYE == -1, cmap='viridis')\n",
    "plt.title('Heatmap of -1 Values')\n",
    "\n",
    "plt.subplot(1, 2, 2)\n",
    "sns.heatmap(df_4_EYE == 1, cmap='viridis')\n",
    "plt.title('Heatmap of 1 Values')\n",
    "\n",
    "plt.tight_layout()\n",
    "plt.show()"
   ]
  },
  {
   "cell_type": "code",
   "execution_count": null,
   "id": "b4e282cc",
   "metadata": {},
   "outputs": [],
   "source": [
    "df_4_EYE[df_4_EYE['ET_PupilLeft'] == -1].shape"
   ]
  },
  {
   "cell_type": "code",
   "execution_count": null,
   "id": "56d30855",
   "metadata": {},
   "outputs": [],
   "source": [
    "df_4_EYE[df_4_EYE['ET_PupilRight'] == -1].shape"
   ]
  },
  {
   "cell_type": "code",
   "execution_count": null,
   "id": "6990909e",
   "metadata": {},
   "outputs": [],
   "source": [
    "df_4_EYE[df_4_EYE['ET_PupilLeft'] == -1].shape[0] / df_4_EYE.shape[0]"
   ]
  },
  {
   "cell_type": "code",
   "execution_count": null,
   "id": "7b79f388",
   "metadata": {},
   "outputs": [],
   "source": [
    "df_4_EYE[df_4_EYE['ET_PupilRight'] == -1].shape[0] / df_4_EYE.shape[0]"
   ]
  },
  {
   "cell_type": "code",
   "execution_count": null,
   "id": "253f7b15",
   "metadata": {},
   "outputs": [],
   "source": [
    "plt.figure(figsize=(18, 8))\n",
    "\n",
    "plt.subplot(1, 2, 1)\n",
    "sns.heatmap(df_4_EYE[df_4_EYE['ET_ValidityLeft'] == 1] == -1, cmap='viridis')\n",
    "plt.title('Heatmap of -1 Values')\n",
    "\n",
    "plt.subplot(1, 2, 2)\n",
    "sns.heatmap(df_4_EYE[df_4_EYE['ET_ValidityRight'] == 1] == -1, cmap='viridis')\n",
    "plt.title('Heatmap of -1 Values')\n",
    "\n",
    "plt.tight_layout()\n",
    "plt.show()"
   ]
  },
  {
   "cell_type": "markdown",
   "id": "a64e0a5b",
   "metadata": {},
   "source": [
    "# Notes & Observations\n",
    "\n",
    "- The heatmaps reveal the distribution of -1 values across different columns.\n",
    "- It is evident that the `-1` values are not randomly scattered but appear in specific columns, notably `ET_GazeLeftx`, `ET_GazeLefty`, `ET_GazeRightx`, `ET_GazeRighty`, `ET_PupilLeft`, `ET_PupilRight`, `ET_DistanceLeft`, `ET_DistanceRight`, `ET_CameraLeftX`, `ET_CameraLeftY`, `ET_CameraRightX`, and `ET_CameraRightY`.\n",
    "- These `-1` values often coincide with instances where `ET_ValidityLeft` or `ET_ValidityRight` is 1, indicating invalid eye-tracking data. This suggests that `-1` is used as a placeholder for missing or invalid measurements in these columns when the eye tracker is not providing valid data for a particular eye.\n",
    "- Given that over 70% of the data in the `ET_PupilLeft` and `ET_PupilRight` columns is marked as invalid (-1), these columns may not be suitable for analysis and could be considered for dropping."
   ]
  },
  {
   "cell_type": "code",
   "execution_count": null,
   "id": "cf793369",
   "metadata": {},
   "outputs": [],
   "source": [
    "df_4_EYE.drop(['ET_PupilLeft', 'ET_PupilRight'], axis=1, inplace=True)"
   ]
  },
  {
   "cell_type": "code",
   "execution_count": null,
   "id": "b175fa83",
   "metadata": {},
   "outputs": [],
   "source": [
    "df_4_EYE.head()"
   ]
  },
  {
   "cell_type": "code",
   "execution_count": null,
   "id": "d071485c",
   "metadata": {},
   "outputs": [],
   "source": [
    "plt.figure(figsize=(18, 8))\n",
    "\n",
    "plt.subplot(1, 2, 1)\n",
    "sns.heatmap(df_4_EYE == -1, cmap='viridis')\n",
    "plt.title('Heatmap of -1 Values')\n",
    "\n",
    "plt.subplot(1, 2, 2)\n",
    "sns.heatmap(df_4_EYE == 1, cmap='viridis')\n",
    "plt.title('Heatmap of -1 Values')\n",
    "\n",
    "plt.tight_layout()\n",
    "plt.show()"
   ]
  },
  {
   "cell_type": "code",
   "execution_count": null,
   "id": "4024b71f",
   "metadata": {},
   "outputs": [],
   "source": [
    "valid_left_ratio  = 1 - df_4_EYE['ET_ValidityLeft'].mean()\n",
    "valid_right_ratio = 1 - df_4_EYE['ET_ValidityRight'].mean()"
   ]
  },
  {
   "cell_type": "code",
   "execution_count": null,
   "id": "e1f3e828",
   "metadata": {},
   "outputs": [],
   "source": [
    "valid_left_ratio"
   ]
  },
  {
   "cell_type": "code",
   "execution_count": null,
   "id": "22662b7d",
   "metadata": {},
   "outputs": [],
   "source": [
    "valid_right_ratio"
   ]
  },
  {
   "cell_type": "code",
   "execution_count": null,
   "id": "130db52c",
   "metadata": {},
   "outputs": [],
   "source": [
    "df_4_EYE.head()"
   ]
  },
  {
   "cell_type": "code",
   "execution_count": null,
   "id": "4844f8c0",
   "metadata": {},
   "outputs": [],
   "source": [
    "# Select only the numeric columns for plotting histograms, excluding time-related columns\n",
    "numeric_cols = df_4_EYE.select_dtypes(include=np.number).columns\n",
    "cols_to_plot = [col for col in numeric_cols if col not in ['UnixTime']]\n",
    "\n",
    "# Calculate the number of rows and columns for the grid\n",
    "n_cols = 4  # You can adjust the number of columns as needed\n",
    "n_rows = (len(cols_to_plot) + n_cols - 1) // n_cols\n",
    "\n",
    "plt.figure(figsize=(n_cols * 5, n_rows * 4)) # Adjust figure size as needed\n",
    "\n",
    "for i, col in enumerate(cols_to_plot):\n",
    "    plt.subplot(n_rows, n_cols, i + 1)\n",
    "    sns.histplot(df_4_EYE[col], kde=True)\n",
    "    plt.title(f'Distribution of {col}')\n",
    "    plt.xlabel(col)\n",
    "    plt.ylabel('Frequency')\n",
    "\n",
    "plt.tight_layout()\n",
    "plt.show()"
   ]
  },
  {
   "cell_type": "code",
   "execution_count": null,
   "id": "e09c66f6",
   "metadata": {},
   "outputs": [],
   "source": [
    "df_4_EYE.columns"
   ]
  },
  {
   "cell_type": "code",
   "execution_count": null,
   "id": "319f2231",
   "metadata": {},
   "outputs": [],
   "source": [
    "cols = ['ET_GazeLeftx', 'ET_GazeLefty',\n",
    "       'ET_GazeRightx', 'ET_GazeRighty', 'ET_TimeSignal', 'ET_DistanceLeft',\n",
    "       'ET_DistanceRight', 'ET_CameraLeftX', 'ET_CameraLeftY',\n",
    "       'ET_CameraRightX', 'ET_CameraRightY', 'ET_ValidityLeft',\n",
    "       'ET_ValidityRight']"
   ]
  },
  {
   "cell_type": "code",
   "execution_count": null,
   "id": "6bf4f5ee",
   "metadata": {},
   "outputs": [],
   "source": [
    "from IPython.display import display, Markdown\n",
    "\n",
    "for col in cols:\n",
    "    # Add a markdown cell before each plot for better separation and labeling\n",
    "    display(Markdown(f'### {col} over Time'))\n",
    "    plt.figure(figsize=(16, 10))\n",
    "    plt.plot(df_4_EYE['Timestamp'], df_4_EYE[col])\n",
    "    plt.xlabel(\"Timestamp\") # Add x-axis label\n",
    "    plt.ylabel(col) # Add y-axis label\n",
    "    plt.show()"
   ]
  },
  {
   "cell_type": "code",
   "execution_count": null,
   "id": "ad7d1c45",
   "metadata": {},
   "outputs": [],
   "source": [
    "# Select only the numeric columns for plotting histograms, excluding time-related columns\n",
    "numeric_cols = df_4_EYE.select_dtypes(include=np.number).columns\n",
    "\n",
    "# Calculate the number of rows and columns for the grid\n",
    "n_cols = 4  # You can adjust the number of columns as needed\n",
    "n_rows = (len(numeric_cols) + n_cols - 1) // n_cols\n",
    "\n",
    "plt.figure(figsize=(n_cols * 5, n_rows * 4)) # Adjust figure size as needed\n",
    "\n",
    "for i, col in enumerate(numeric_cols):\n",
    "    plt.subplot(n_rows, n_cols, i + 1)\n",
    "    sns.boxplot(df_4_EYE[col])\n",
    "    plt.title(f'Boxplot of {col}')\n",
    "    plt.xlabel(col)\n",
    "\n",
    "plt.tight_layout()\n",
    "plt.show()"
   ]
  },
  {
   "cell_type": "code",
   "execution_count": null,
   "id": "5d8e1006",
   "metadata": {},
   "outputs": [],
   "source": [
    "df_4_EYE.replace({-1: np.nan}, inplace=True)"
   ]
  },
  {
   "cell_type": "code",
   "execution_count": null,
   "id": "78df669a",
   "metadata": {},
   "outputs": [],
   "source": [
    "numeric_cols = df_4_EYE.select_dtypes(include=np.number).columns\n",
    "\n",
    "for col in numeric_cols:\n",
    "    df_4_EYE[col].fillna(df_4_EYE[col].mean(), inplace=True)"
   ]
  },
  {
   "cell_type": "code",
   "execution_count": null,
   "id": "51375783",
   "metadata": {},
   "outputs": [],
   "source": [
    "df_4_EYE.head()"
   ]
  },
  {
   "cell_type": "code",
   "execution_count": null,
   "id": "120c7446",
   "metadata": {},
   "outputs": [],
   "source": [
    "# Select only the numeric columns for plotting histograms, excluding time-related columns\n",
    "numeric_cols = df_4_EYE.select_dtypes(include=np.number).columns\n",
    "cols_to_plot = [col for col in numeric_cols if col not in ['UnixTime']]\n",
    "\n",
    "# Calculate the number of rows and columns for the grid\n",
    "n_cols = 4  # You can adjust the number of columns as needed\n",
    "n_rows = (len(cols_to_plot) + n_cols - 1) // n_cols\n",
    "\n",
    "plt.figure(figsize=(n_cols * 5, n_rows * 4)) # Adjust figure size as needed\n",
    "\n",
    "for i, col in enumerate(cols_to_plot):\n",
    "    plt.subplot(n_rows, n_cols, i + 1)\n",
    "    sns.histplot(df_4_EYE[col], kde=True)\n",
    "    plt.title(f'Distribution of {col}')\n",
    "    plt.xlabel(col)\n",
    "    plt.ylabel('Frequency')\n",
    "\n",
    "plt.tight_layout()\n",
    "plt.show()"
   ]
  },
  {
   "cell_type": "code",
   "execution_count": null,
   "id": "fb307ed6",
   "metadata": {},
   "outputs": [],
   "source": []
  },
  {
   "cell_type": "code",
   "execution_count": null,
   "id": "eb9dc5bd",
   "metadata": {},
   "outputs": [],
   "source": []
  },
  {
   "cell_type": "code",
   "execution_count": null,
   "id": "1f4ba334",
   "metadata": {},
   "outputs": [],
   "source": []
  },
  {
   "cell_type": "code",
   "execution_count": null,
   "id": "28a2a6d4",
   "metadata": {},
   "outputs": [],
   "source": []
  },
  {
   "cell_type": "code",
   "execution_count": null,
   "id": "cdffbd96",
   "metadata": {},
   "outputs": [],
   "source": []
  },
  {
   "cell_type": "code",
   "execution_count": null,
   "id": "716bb81f",
   "metadata": {},
   "outputs": [],
   "source": []
  },
  {
   "cell_type": "code",
   "execution_count": null,
   "id": "eb6ae8bd",
   "metadata": {},
   "outputs": [],
   "source": []
  },
  {
   "cell_type": "code",
   "execution_count": null,
   "id": "e43658ef",
   "metadata": {},
   "outputs": [],
   "source": []
  },
  {
   "cell_type": "code",
   "execution_count": null,
   "id": "3f5c3ee7",
   "metadata": {},
   "outputs": [],
   "source": []
  },
  {
   "cell_type": "code",
   "execution_count": null,
   "id": "4d23c2b2",
   "metadata": {},
   "outputs": [],
   "source": []
  },
  {
   "cell_type": "code",
   "execution_count": null,
   "id": "1fd2c6d0",
   "metadata": {},
   "outputs": [],
   "source": []
  },
  {
   "cell_type": "code",
   "execution_count": null,
   "id": "0036f31b",
   "metadata": {},
   "outputs": [],
   "source": []
  },
  {
   "cell_type": "markdown",
   "id": "87926807",
   "metadata": {},
   "source": [
    "# Eye Tracking Data Analysis\n",
    "\n",
    "This notebook performs exploratory data analysis and cleaning on eye-tracking data.\n",
    "\n",
    "## Data Loading and Initial Inspection"
   ]
  },
  {
   "cell_type": "code",
   "execution_count": null,
   "id": "ad0518b0",
   "metadata": {},
   "outputs": [],
   "source": [
    "%load_ext cudf"
   ]
  },
  {
   "cell_type": "markdown",
   "id": "0a334b39",
   "metadata": {},
   "source": [
    "Import necessary libraries for data manipulation, analysis, and visualization."
   ]
  },
  {
   "cell_type": "code",
   "execution_count": null,
   "id": "4c68960c",
   "metadata": {},
   "outputs": [],
   "source": [
    "import numpy as np\n",
    "import pandas as pd\n",
    "import matplotlib.pyplot as plt\n",
    "import seaborn as sns"
   ]
  },
  {
   "cell_type": "markdown",
   "id": "9ecbc365",
   "metadata": {},
   "source": [
    "Import libraries for datashader, which can be used for visualizing large datasets."
   ]
  },
  {
   "cell_type": "code",
   "execution_count": null,
   "id": "a233695c",
   "metadata": {},
   "outputs": [],
   "source": [
    "import datashader as ds\n",
    "import datashader.transfer_functions as tf"
   ]
  },
  {
   "cell_type": "markdown",
   "id": "e19e272f",
   "metadata": {},
   "source": [
    "Set pandas display options to show all columns."
   ]
  },
  {
   "cell_type": "code",
   "execution_count": null,
   "id": "cc184f9d",
   "metadata": {},
   "outputs": [],
   "source": [
    "pd.set_option('display.max_columns', None)"
   ]
  },
  {
   "cell_type": "markdown",
   "id": "84572530",
   "metadata": {},
   "source": [
    "Load the eye-tracking data from the specified CSV file into a pandas DataFrame."
   ]
  },
  {
   "cell_type": "code",
   "execution_count": null,
   "id": "e7fbb89e",
   "metadata": {},
   "outputs": [],
   "source": [
    "df_4_EYE = pd.read_csv('data/STData/4/4_EYE.csv')"
   ]
  },
  {
   "cell_type": "markdown",
   "id": "0787c601",
   "metadata": {},
   "source": [
    "Display the first few rows of the DataFrame to get an initial look at the data structure and content."
   ]
  },
  {
   "cell_type": "code",
   "execution_count": null,
   "id": "dab488c5",
   "metadata": {},
   "outputs": [],
   "source": [
    "df_4_EYE.head()"
   ]
  },
  {
   "cell_type": "markdown",
   "id": "2af01f18",
   "metadata": {},
   "source": [
    "Check the dimensions (number of rows and columns) of the DataFrame."
   ]
  },
  {
   "cell_type": "code",
   "execution_count": null,
   "id": "e58cc6ab",
   "metadata": {},
   "outputs": [],
   "source": [
    "df_4_EYE.shape"
   ]
  },
  {
   "cell_type": "markdown",
   "id": "04d2e16d",
   "metadata": {},
   "source": [
    "List the names of all columns in the DataFrame."
   ]
  },
  {
   "cell_type": "code",
   "execution_count": null,
   "id": "0572f2ff",
   "metadata": {},
   "outputs": [],
   "source": [
    "df_4_EYE.columns"
   ]
  },
  {
   "cell_type": "markdown",
   "id": "213e1d23",
   "metadata": {},
   "source": [
    "Display concise information about the DataFrame, including the data types of each column and the number of non-null values. This helps identify columns with missing data."
   ]
  },
  {
   "cell_type": "code",
   "execution_count": null,
   "id": "cf9577f5",
   "metadata": {},
   "outputs": [],
   "source": [
    "df_4_EYE.info()"
   ]
  },
  {
   "cell_type": "markdown",
   "id": "a726d886",
   "metadata": {},
   "source": [
    "Calculate and display the number of missing values in each column."
   ]
  },
  {
   "cell_type": "code",
   "execution_count": null,
   "id": "bde07d8b",
   "metadata": {},
   "outputs": [],
   "source": [
    "df_4_EYE.isnull().sum()"
   ]
  },
  {
   "cell_type": "markdown",
   "id": "05cfa14f",
   "metadata": {},
   "source": [
    "Visualize the distribution of missing values using a heatmap. This provides a visual representation of which columns have missing data and the extent of missingness."
   ]
  },
  {
   "cell_type": "code",
   "execution_count": null,
   "id": "9f6e430c",
   "metadata": {},
   "outputs": [],
   "source": [
    "plt.figure(figsize=(12,8))\n",
    "sns.heatmap(df_4_EYE.isnull(), cmap='viridis')\n",
    "plt.show()"
   ]
  },
  {
   "cell_type": "markdown",
   "id": "bf3ad4cf",
   "metadata": {},
   "source": [
    "# Notes & Observations\n",
    "\n",
    "- We observe many **null** (or missing) values in the `QuestionKey` columns.\n",
    "- The nulls in the `QuestionKey` column may not represent “true” nulls. Rather, they follow interval patterns, suggesting that during those periods no question was displayed.\n",
    "- These missing values in `QuestionKey` require additional investigation and context-aware handling."
   ]
  },
  {
   "cell_type": "markdown",
   "id": "f5fcf760",
   "metadata": {},
   "source": [
    "Display the unique values in the `QuestionKey` column to understand the different types of questions or states recorded."
   ]
  },
  {
   "cell_type": "code",
   "execution_count": null,
   "id": "21130567",
   "metadata": {},
   "outputs": [],
   "source": [
    "df_4_EYE['QuestionKey'].unique()"
   ]
  },
  {
   "cell_type": "markdown",
   "id": "8ce2d10f",
   "metadata": {},
   "source": [
    "Convert the `Timestamp` column to datetime objects. This is crucial for any time series analysis or manipulation."
   ]
  },
  {
   "cell_type": "code",
   "execution_count": null,
   "id": "d01e0594",
   "metadata": {},
   "outputs": [],
   "source": [
    "df_4_EYE['Timestamp'] = pd.to_datetime(df_4_EYE['Timestamp'])"
   ]
  },
  {
   "cell_type": "markdown",
   "id": "674c7b34",
   "metadata": {},
   "source": [
    "Display the first few rows again to see the effect of the timestamp conversion."
   ]
  },
  {
   "cell_type": "code",
   "execution_count": null,
   "id": "040d62f7",
   "metadata": {},
   "outputs": [],
   "source": [
    "df_4_EYE.head(3)"
   ]
  },
  {
   "cell_type": "markdown",
   "id": "55ff88db",
   "metadata": {},
   "source": [
    "Fill the missing values in the `QuestionKey` column with the string 'None'. This helps to explicitly mark periods where no question was active."
   ]
  },
  {
   "cell_type": "code",
   "execution_count": null,
   "id": "467f000d",
   "metadata": {},
   "outputs": [],
   "source": [
    "df_4_EYE['QuestionKey'].fillna('None', inplace=True)"
   ]
  },
  {
   "cell_type": "markdown",
   "id": "7852e8e9",
   "metadata": {},
   "source": [
    "Count the occurrences of each unique value in the `QuestionKey` column after filling missing values."
   ]
  },
  {
   "cell_type": "code",
   "execution_count": null,
   "id": "c6b977d5",
   "metadata": {},
   "outputs": [],
   "source": [
    "df_4_EYE['QuestionKey'].value_counts()"
   ]
  },
  {
   "cell_type": "markdown",
   "id": "502a3092",
   "metadata": {},
   "source": [
    "Display the heatmap of missing values again to confirm that the missing values in `QuestionKey` have been handled."
   ]
  },
  {
   "cell_type": "code",
   "execution_count": null,
   "id": "090a0220",
   "metadata": {},
   "outputs": [],
   "source": [
    "plt.figure(figsize=(12,8))\n",
    "sns.heatmap(df_4_EYE.isnull(), cmap='viridis')\n",
    "plt.show()"
   ]
  },
  {
   "cell_type": "markdown",
   "id": "66739fa8",
   "metadata": {},
   "source": [
    "Recalculate and display the number of missing values per column to confirm the changes after handling `QuestionKey`."
   ]
  },
  {
   "cell_type": "code",
   "execution_count": null,
   "id": "ea59f828",
   "metadata": {},
   "outputs": [],
   "source": [
    "df_4_EYE.isnull().sum()"
   ]
  },
  {
   "cell_type": "markdown",
   "id": "baacdf77",
   "metadata": {},
   "source": [
    "Drop rows that still contain any missing values. This is done after handling `QuestionKey` separately."
   ]
  },
  {
   "cell_type": "code",
   "execution_count": null,
   "id": "e9ed2ace",
   "metadata": {},
   "outputs": [],
   "source": [
    "df_4_EYE.dropna(inplace=True)"
   ]
  },
  {
   "cell_type": "markdown",
   "id": "c4343a9c",
   "metadata": {},
   "source": [
    "Display the first few rows after dropping rows with missing values."
   ]
  },
  {
   "cell_type": "code",
   "execution_count": null,
   "id": "1e1ff362",
   "metadata": {},
   "outputs": [],
   "source": [
    "df_4_EYE.head()"
   ]
  },
  {
   "cell_type": "markdown",
   "id": "f8fb5a5b",
   "metadata": {},
   "source": [
    "Display the unique values in the `Row` column."
   ]
  },
  {
   "cell_type": "code",
   "execution_count": null,
   "id": "7cde3a78",
   "metadata": {},
   "outputs": [],
   "source": [
    "df_4_EYE['Row'].unique()"
   ]
  },
  {
   "cell_type": "markdown",
   "id": "30f793b2",
   "metadata": {},
   "source": [
    "Plot a histogram of the `Row` column to visualize its distribution."
   ]
  },
  {
   "cell_type": "code",
   "execution_count": null,
   "id": "957335d5",
   "metadata": {},
   "outputs": [],
   "source": [
    "plt.figure(figsize=(8,6))\n",
    "sns.histplot(df_4_EYE['Row'])\n",
    "plt.show()"
   ]
  },
  {
   "cell_type": "markdown",
   "id": "a5d3bb6a",
   "metadata": {},
   "source": [
    "# Notes & Observations\n",
    "\n",
    "- The `Row` column appears to be a simple row index and does not provide meaningful information relevant to the eye-tracking data itself. Therefore, it can be dropped."
   ]
  },
  {
   "cell_type": "markdown",
   "id": "184fea74",
   "metadata": {},
   "source": [
    "Drop the `Row` column as it is not relevant for the analysis."
   ]
  },
  {
   "cell_type": "code",
   "execution_count": null,
   "id": "93646026",
   "metadata": {},
   "outputs": [],
   "source": [
    "df_4_EYE.drop('Row', axis=1, inplace=True)"
   ]
  },
  {
   "cell_type": "markdown",
   "id": "03b62170",
   "metadata": {},
   "source": [
    "Display the unique values in the `ET_ValidityLeft` column."
   ]
  },
  {
   "cell_type": "code",
   "execution_count": null,
   "id": "4d1d13d7",
   "metadata": {},
   "outputs": [],
   "source": [
    "df_4_EYE['ET_ValidityLeft'].unique()"
   ]
  },
  {
   "cell_type": "markdown",
   "id": "f12af7c2",
   "metadata": {},
   "source": [
    "Count the occurrences of each unique value in the `ET_ValidityLeft` column."
   ]
  },
  {
   "cell_type": "code",
   "execution_count": null,
   "id": "89115d33",
   "metadata": {},
   "outputs": [],
   "source": [
    "df_4_EYE['ET_ValidityLeft'].value_counts()"
   ]
  },
  {
   "cell_type": "markdown",
   "id": "dceb6e28",
   "metadata": {},
   "source": [
    "Display the unique values in the `ET_ValidityRight` column."
   ]
  },
  {
   "cell_type": "code",
   "execution_count": null,
   "id": "15841d8c",
   "metadata": {},
   "outputs": [],
   "source": [
    "df_4_EYE['ET_ValidityRight'].unique()"
   ]
  },
  {
   "cell_type": "markdown",
   "id": "0ba23ac1",
   "metadata": {},
   "source": [
    "Count the occurrences of each unique value in the `ET_ValidityRight` column."
   ]
  },
  {
   "cell_type": "code",
   "execution_count": null,
   "id": "4ea34658",
   "metadata": {},
   "outputs": [],
   "source": [
    "df_4_EYE['ET_ValidityRight'].value_counts()"
   ]
  },
  {
   "cell_type": "markdown",
   "id": "ad6cbfbd",
   "metadata": {},
   "source": [
    "Visualize the counts of valid and invalid data for both left and right eyes using bar plots."
   ]
  },
  {
   "cell_type": "code",
   "execution_count": null,
   "id": "fda8083d",
   "metadata": {},
   "outputs": [],
   "source": [
    "plt.figure(figsize=(12, 6))\n",
    "\n",
    "plt.subplot(1, 2, 1)\n",
    "sns.barplot(x=df_4_EYE['ET_ValidityLeft'].value_counts().index, y=df_4_EYE['ET_ValidityLeft'].value_counts().values)\n",
    "plt.title('Count of ET_ValidityLeft')\n",
    "plt.xlabel('Validity')\n",
    "plt.ylabel('Count')\n",
    "\n",
    "\n",
    "plt.subplot(1, 2, 2)\n",
    "sns.barplot(x=df_4_EYE['ET_ValidityRight'].value_counts().index, y=df_4_EYE['ET_ValidityRight'].value_counts().values)\n",
    "plt.title('Count of ET_ValidityRight')\n",
    "plt.xlabel('Validity')\n",
    "plt.ylabel('Count')\n",
    "\n",
    "plt.tight_layout()\n",
    "plt.show()"
   ]
  },
  {
   "cell_type": "markdown",
   "id": "9e5b6434",
   "metadata": {},
   "source": [
    "# Notes & Observations\n",
    "\n",
    "- The `ET_ValidityLeft` and `ET_ValidityRight` columns indicate the validity of the eye-tracking data for the left and right eye, respectively.\n",
    "- Based on the value counts and the bar plots, it appears that a value of `0.0` represents valid eye-tracking data, while a value of `4.0` represents invalid data.\n",
    "- Although the amount of invalid data is relatively small, removing these rows could introduce unwanted patterns or gaps in the time series data.\n",
    "- Therefore, we will keep the data and replace the value `4.0` with `1.0` in both `ET_ValidityLeft` and `ET_ValidityRight` columns. This will indicate to a machine learning model that the eye tracker had invalid data at those specific points in time while maintaining the integrity of the time series."
   ]
  },
  {
   "cell_type": "markdown",
   "id": "6077c96d",
   "metadata": {},
   "source": [
    "Define a mapping to convert validity values from `0.0` and `4.0` to `0` and `1`."
   ]
  },
  {
   "cell_type": "code",
   "execution_count": null,
   "id": "fcbfee54",
   "metadata": {},
   "outputs": [],
   "source": [
    "validity_map = {4.0: 1.0, 0.0: 0.0}"
   ]
  },
  {
   "cell_type": "markdown",
   "id": "1bd66072",
   "metadata": {},
   "source": [
    "Apply the mapping to the `ET_ValidityLeft` and `ET_ValidityRight` columns and convert the data type to integer."
   ]
  },
  {
   "cell_type": "code",
   "execution_count": null,
   "id": "d9bc8d4b",
   "metadata": {},
   "outputs": [],
   "source": [
    "df_4_EYE['ET_ValidityLeft'] = df_4_EYE['ET_ValidityLeft'].map(validity_map).astype(np.int8)\n",
    "df_4_EYE['ET_ValidityRight'] = df_4_EYE['ET_ValidityRight'].map(validity_map).astype(np.int8)"
   ]
  },
  {
   "cell_type": "markdown",
   "id": "e2b85c9e",
   "metadata": {},
   "source": [
    "Display the first few rows to see the updated validity columns."
   ]
  },
  {
   "cell_type": "code",
   "execution_count": null,
   "id": "dd686822",
   "metadata": {},
   "outputs": [],
   "source": [
    "df_4_EYE.head(3)"
   ]
  },
  {
   "cell_type": "markdown",
   "id": "4260a6c1",
   "metadata": {},
   "source": [
    "Display descriptive statistics for the DataFrame, including count, mean, standard deviation, min, max, and quartiles for numeric columns."
   ]
  },
  {
   "cell_type": "code",
   "execution_count": null,
   "id": "f2ad9c57",
   "metadata": {},
   "outputs": [],
   "source": [
    "df_4_EYE.describe()"
   ]
  },
  {
   "cell_type": "markdown",
   "id": "ba5b2322",
   "metadata": {},
   "source": [
    "Check the number of rows where `ET_ValidityLeft` is 1 (invalid data for the left eye)."
   ]
  },
  {
   "cell_type": "code",
   "execution_count": null,
   "id": "13fccc59",
   "metadata": {},
   "outputs": [],
   "source": [
    "df_4_EYE[df_4_EYE['ET_ValidityLeft'] == 1].shape"
   ]
  },
  {
   "cell_type": "markdown",
   "id": "37b62ca1",
   "metadata": {},
   "source": [
    "Check the number of rows where `ET_ValidityRight` is 1 (invalid data for the right eye)."
   ]
  },
  {
   "cell_type": "code",
   "execution_count": null,
   "id": "f3ab18f1",
   "metadata": {},
   "outputs": [],
   "source": [
    "df_4_EYE[df_4_EYE['ET_ValidityRight'] == 1].shape"
   ]
  },
  {
   "cell_type": "markdown",
   "id": "e2024f1e",
   "metadata": {},
   "source": [
    "Visualize the distribution of -1 and 1 values across columns using heatmaps. This helps identify columns with placeholder or indicator values."
   ]
  },
  {
   "cell_type": "code",
   "execution_count": null,
   "id": "6c9b89d6",
   "metadata": {},
   "outputs": [],
   "source": [
    "plt.figure(figsize=(18, 8))\n",
    "\n",
    "plt.subplot(1, 2, 1)\n",
    "sns.heatmap(df_4_EYE == -1, cmap='viridis')\n",
    "plt.title('Heatmap of -1 Values')\n",
    "\n",
    "plt.subplot(1, 2, 2)\n",
    "sns.heatmap(df_4_EYE == 1, cmap='viridis')\n",
    "plt.title('Heatmap of 1 Values')\n",
    "\n",
    "plt.tight_layout()\n",
    "plt.show()"
   ]
  },
  {
   "cell_type": "markdown",
   "id": "899c0528",
   "metadata": {},
   "source": [
    "Check the number of rows where `ET_PupilLeft` is -1."
   ]
  },
  {
   "cell_type": "code",
   "execution_count": null,
   "id": "267f5dd1",
   "metadata": {},
   "outputs": [],
   "source": [
    "df_4_EYE[df_4_EYE['ET_PupilLeft'] == -1].shape"
   ]
  },
  {
   "cell_type": "markdown",
   "id": "3a4edfd6",
   "metadata": {},
   "source": [
    "Check the number of rows where `ET_PupilRight` is -1."
   ]
  },
  {
   "cell_type": "code",
   "execution_count": null,
   "id": "a2f5f0df",
   "metadata": {},
   "outputs": [],
   "source": [
    "df_4_EYE[df_4_EYE['ET_PupilRight'] == -1].shape"
   ]
  },
  {
   "cell_type": "markdown",
   "id": "5c717877",
   "metadata": {},
   "source": [
    "Calculate the ratio of rows with -1 values in the `ET_PupilLeft` column to the total number of rows."
   ]
  },
  {
   "cell_type": "code",
   "execution_count": null,
   "id": "a25aba52",
   "metadata": {},
   "outputs": [],
   "source": [
    "df_4_EYE[df_4_EYE['ET_PupilLeft'] == -1].shape[0] / df_4_EYE.shape[0]"
   ]
  },
  {
   "cell_type": "markdown",
   "id": "688fb52e",
   "metadata": {},
   "source": [
    "Calculate the ratio of rows with -1 values in the `ET_PupilRight` column to the total number of rows."
   ]
  },
  {
   "cell_type": "code",
   "execution_count": null,
   "id": "7490b0ef",
   "metadata": {},
   "outputs": [],
   "source": [
    "df_4_EYE[df_4_EYE['ET_PupilRight'] == -1].shape[0] / df_4_EYE.shape[0]"
   ]
  },
  {
   "cell_type": "markdown",
   "id": "5e0080ec",
   "metadata": {},
   "source": [
    "Visualize the distribution of -1 values specifically for rows where validity is 1 (invalid data)."
   ]
  },
  {
   "cell_type": "code",
   "execution_count": null,
   "id": "98ad717c",
   "metadata": {},
   "outputs": [],
   "source": [
    "plt.figure(figsize=(18, 8))\n",
    "\n",
    "plt.subplot(1, 2, 1)\n",
    "sns.heatmap(df_4_EYE[df_4_EYE['ET_ValidityLeft'] == 1] == -1, cmap='viridis')\n",
    "plt.title('Heatmap of -1 Values')\n",
    "\n",
    "plt.subplot(1, 2, 2)\n",
    "sns.heatmap(df_4_EYE[df_4_EYE['ET_ValidityRight'] == 1] == -1, cmap='viridis')\n",
    "plt.title('Heatmap of -1 Values')\n",
    "\n",
    "plt.tight_layout()\n",
    "plt.show()"
   ]
  },
  {
   "cell_type": "markdown",
   "id": "a587e718",
   "metadata": {},
   "source": [
    "# Notes & Observations\n",
    "\n",
    "- The heatmaps reveal the distribution of -1 values across different columns.\n",
    "- It is evident that the `-1` values are not randomly scattered but appear in specific columns, notably `ET_GazeLeftx`, `ET_GazeLefty`, `ET_GazeRightx`, `ET_GazeRighty`, `ET_PupilLeft`, `ET_PupilRight`, `ET_DistanceLeft`, `ET_DistanceRight`, `ET_CameraLeftX`, `ET_CameraLeftY`, `ET_CameraRightX`, and `ET_CameraRightY`.\n",
    "- These `-1` values often coincide with instances where `ET_ValidityLeft` or `ET_ValidityRight` is 1, indicating invalid eye-tracking data. This suggests that `-1` is used as a placeholder for missing or invalid measurements in these columns when the eye tracker is not providing valid data for a particular eye.\n",
    "- Given that over 70% of the data in the `ET_PupilLeft` and `ET_PupilRight` columns is marked as invalid (-1), these columns may not be suitable for analysis and could be considered for dropping."
   ]
  },
  {
   "cell_type": "markdown",
   "id": "1bc2ab78",
   "metadata": {},
   "source": [
    "Drop the `ET_PupilLeft` and `ET_PupilRight` columns due to the high percentage of invalid data."
   ]
  },
  {
   "cell_type": "code",
   "execution_count": null,
   "id": "78b11a93",
   "metadata": {},
   "outputs": [],
   "source": [
    "df_4_EYE.drop(['ET_PupilLeft', 'ET_PupilRight'], axis=1, inplace=True)"
   ]
  },
  {
   "cell_type": "markdown",
   "id": "c435d2c8",
   "metadata": {},
   "source": [
    "Display the first few rows after dropping the pupil columns."
   ]
  },
  {
   "cell_type": "code",
   "execution_count": null,
   "id": "995c7591",
   "metadata": {},
   "outputs": [],
   "source": [
    "df_4_EYE.head()"
   ]
  },
  {
   "cell_type": "markdown",
   "id": "0162287d",
   "metadata": {},
   "source": [
    "Visualize the distribution of -1 and 1 values again after dropping the pupil columns."
   ]
  },
  {
   "cell_type": "code",
   "execution_count": null,
   "id": "d72bebee",
   "metadata": {},
   "outputs": [],
   "source": [
    "plt.figure(figsize=(18, 8))\n",
    "\n",
    "plt.subplot(1, 2, 1)\n",
    "sns.heatmap(df_4_EYE == -1, cmap='viridis')\n",
    "plt.title('Heatmap of -1 Values')\n",
    "\n",
    "plt.subplot(1, 2, 2)\n",
    "sns.heatmap(df_4_EYE == 1, cmap='viridis')\n",
    "plt.title('Heatmap of -1 Values')\n",
    "\n",
    "plt.tight_layout()\n",
    "plt.show()"
   ]
  },
  {
   "cell_type": "markdown",
   "id": "c18ad634",
   "metadata": {},
   "source": [
    "Calculate the ratio of valid data points for the left eye."
   ]
  },
  {
   "cell_type": "code",
   "execution_count": null,
   "id": "39f2aef4",
   "metadata": {},
   "outputs": [],
   "source": [
    "valid_left_ratio  = 1 - df_4_EYE['ET_ValidityLeft'].mean()"
   ]
  },
  {
   "cell_type": "markdown",
   "id": "ca3bd2ed",
   "metadata": {},
   "source": [
    "Display the ratio of valid data points for the left eye."
   ]
  },
  {
   "cell_type": "code",
   "execution_count": null,
   "id": "264da526",
   "metadata": {},
   "outputs": [],
   "source": [
    "valid_left_ratio"
   ]
  },
  {
   "cell_type": "markdown",
   "id": "885359e4",
   "metadata": {},
   "source": [
    "Calculate the ratio of valid data points for the right eye."
   ]
  },
  {
   "cell_type": "code",
   "execution_count": null,
   "id": "532babd3",
   "metadata": {},
   "outputs": [],
   "source": [
    "valid_right_ratio = 1 - df_4_EYE['ET_ValidityRight'].mean()"
   ]
  },
  {
   "cell_type": "markdown",
   "id": "1d35d1e1",
   "metadata": {},
   "source": [
    "Display the ratio of valid data points for the right eye."
   ]
  },
  {
   "cell_type": "code",
   "execution_count": null,
   "id": "1b3ecf90",
   "metadata": {},
   "outputs": [],
   "source": [
    "valid_right_ratio"
   ]
  },
  {
   "cell_type": "markdown",
   "id": "215bc80b",
   "metadata": {},
   "source": [
    "Display the first few rows of the DataFrame."
   ]
  },
  {
   "cell_type": "code",
   "execution_count": null,
   "id": "eb6be673",
   "metadata": {},
   "outputs": [],
   "source": [
    "df_4_EYE.head()"
   ]
  },
  {
   "cell_type": "markdown",
   "id": "3bcb6864",
   "metadata": {},
   "source": [
    "Visualize the distributions of numeric columns using histograms with Kernel Density Estimate (KDE) plots. This helps understand the shape and spread of the data in each numeric column."
   ]
  },
  {
   "cell_type": "code",
   "execution_count": null,
   "id": "8a0b5729",
   "metadata": {},
   "outputs": [],
   "source": [
    "# Select only the numeric columns for plotting histograms, excluding time-related columns\n",
    "numeric_cols = df_4_EYE.select_dtypes(include=np.number).columns\n",
    "cols_to_plot = [col for col in numeric_cols if col not in ['UnixTime']]\n",
    "\n",
    "# Calculate the number of rows and columns for the grid\n",
    "n_cols = 4  # You can adjust the number of columns as needed\n",
    "n_rows = (len(cols_to_plot) + n_cols - 1) // n_cols\n",
    "\n",
    "plt.figure(figsize=(n_cols * 5, n_rows * 4)) # Adjust figure size as needed\n",
    "\n",
    "for i, col in enumerate(cols_to_plot):\n",
    "    plt.subplot(n_rows, n_cols, i + 1)\n",
    "    sns.histplot(df_4_EYE[col], kde=True)\n",
    "    plt.title(f'Distribution of {col}')\n",
    "    plt.xlabel(col)\n",
    "    plt.ylabel('Frequency')\n",
    "\n",
    "plt.tight_layout()\n",
    "plt.show()"
   ]
  },
  {
   "cell_type": "markdown",
   "id": "aa701c2e",
   "metadata": {},
   "source": [
    "List the names of the columns in the DataFrame."
   ]
  },
  {
   "cell_type": "code",
   "execution_count": null,
   "id": "c62853ac",
   "metadata": {},
   "outputs": [],
   "source": [
    "df_4_EYE.columns"
   ]
  },
  {
   "cell_type": "markdown",
   "id": "b927c062",
   "metadata": {},
   "source": [
    "Define a list of columns to be plotted over time."
   ]
  },
  {
   "cell_type": "code",
   "execution_count": null,
   "id": "69b554e6",
   "metadata": {},
   "outputs": [],
   "source": [
    "cols = ['ET_GazeLeftx', 'ET_GazeLefty',\n",
    "       'ET_GazeRightx', 'ET_GazeRighty', 'ET_TimeSignal', 'ET_DistanceLeft',\n",
    "       'ET_DistanceRight', 'ET_CameraLeftX', 'ET_CameraLeftY',\n",
    "       'ET_CameraRightX', 'ET_CameraRightY', 'ET_ValidityLeft',\n",
    "       'ET_ValidityRight']"
   ]
  },
  {
   "cell_type": "markdown",
   "id": "8cfd8bf4",
   "metadata": {},
   "source": [
    "Plot each of the selected columns against the timestamp to visualize their trends and patterns over time. Markdown cells are added before each plot for better readability."
   ]
  },
  {
   "cell_type": "code",
   "execution_count": null,
   "id": "e8ce40e2",
   "metadata": {},
   "outputs": [],
   "source": [
    "from IPython.display import display, Markdown\n",
    "\n",
    "for col in cols:\n",
    "    # Add a markdown cell before each plot for better separation and labeling\n",
    "    display(Markdown(f'### {col} over Time'))\n",
    "    plt.figure(figsize=(16, 10))\n",
    "    plt.plot(df_4_EYE['Timestamp'], df_4_EYE[col])\n",
    "    plt.xlabel(\"Timestamp\") # Add x-axis label\n",
    "    plt.ylabel(col) # Add y-axis label\n",
    "    plt.show()"
   ]
  },
  {
   "cell_type": "markdown",
   "id": "44745280",
   "metadata": {},
   "source": [
    "Visualize the distributions of numeric columns using boxplots. This helps identify potential outliers and the spread of the data."
   ]
  },
  {
   "cell_type": "code",
   "execution_count": null,
   "id": "f52a104f",
   "metadata": {},
   "outputs": [],
   "source": [
    "# Select only the numeric columns for plotting histograms, excluding time-related columns\n",
    "numeric_cols = df_4_EYE.select_dtypes(include=np.number).columns\n",
    "\n",
    "# Calculate the number of rows and columns for the grid\n",
    "n_cols = 4  # You can adjust the number of columns as needed\n",
    "n_rows = (len(numeric_cols) + n_cols - 1) // n_cols\n",
    "\n",
    "plt.figure(figsize=(n_cols * 5, n_rows * 4)) # Adjust figure size as needed\n",
    "\n",
    "for i, col in enumerate(numeric_cols):\n",
    "    plt.subplot(n_rows, n_cols, i + 1)\n",
    "    sns.boxplot(df_4_EYE[col])\n",
    "    plt.title(f'Boxplot of {col}')\n",
    "    plt.xlabel(col)\n",
    "\n",
    "plt.tight_layout()\n",
    "plt.show()"
   ]
  },
  {
   "cell_type": "markdown",
   "id": "090bad39",
   "metadata": {},
   "source": [
    "Replace the placeholder value -1 with NaN (Not a Number) in the DataFrame. This is done before imputation."
   ]
  },
  {
   "cell_type": "code",
   "execution_count": null,
   "id": "f7b98a6d",
   "metadata": {},
   "outputs": [],
   "source": [
    "df_4_EYE.replace({-1: np.nan}, inplace=True)"
   ]
  },
  {
   "cell_type": "markdown",
   "id": "7ed40ca0",
   "metadata": {},
   "source": [
    "Impute the missing values (NaN) in the numeric columns with the mean of each column."
   ]
  },
  {
   "cell_type": "code",
   "execution_count": null,
   "id": "4f26fc76",
   "metadata": {},
   "outputs": [],
   "source": [
    "numeric_cols = df_4_EYE.select_dtypes(include=np.number).columns\n",
    "\n",
    "for col in numeric_cols:\n",
    "    df_4_EYE[col].fillna(df_4_EYE[col].mean(), inplace=True)"
   ]
  },
  {
   "cell_type": "markdown",
   "id": "4380ef78",
   "metadata": {},
   "source": [
    "Display the first few rows after imputing missing values."
   ]
  },
  {
   "cell_type": "code",
   "execution_count": null,
   "id": "78065e5f",
   "metadata": {},
   "outputs": [],
   "source": [
    "df_4_EYE.head()"
   ]
  },
  {
   "cell_type": "markdown",
   "id": "3b1bb9c4",
   "metadata": {},
   "source": [
    "Visualize the distributions of numeric columns again using histograms with KDE plots after imputation. This helps assess the impact of imputation on the data distributions."
   ]
  },
  {
   "cell_type": "code",
   "execution_count": null,
   "id": "9a7ae4af",
   "metadata": {},
   "outputs": [],
   "source": [
    "# Select only the numeric columns for plotting histograms, excluding time-related columns\n",
    "numeric_cols = df_4_EYE.select_dtypes(include=np.number).columns\n",
    "cols_to_plot = [col for col in numeric_cols if col not in ['UnixTime']]\n",
    "\n",
    "# Calculate the number of rows and columns for the grid\n",
    "n_cols = 4  # You can adjust the number of columns as needed\n",
    "n_rows = (len(cols_to_plot) + n_cols - 1) // n_cols\n",
    "\n",
    "plt.figure(figsize=(n_cols * 5, n_rows * 4)) # Adjust figure size as needed\n",
    "\n",
    "for i, col in enumerate(cols_to_plot):\n",
    "    plt.subplot(n_rows, n_cols, i + 1)\n",
    "    sns.histplot(df_4_EYE[col], kde=True)\n",
    "    plt.title(f'Distribution of {col}')\n",
    "    plt.xlabel(col)\n",
    "    plt.ylabel('Frequency')\n",
    "\n",
    "plt.tight_layout()\n",
    "plt.show()"
   ]
  },
  {
   "cell_type": "code",
   "execution_count": null,
   "id": "5a22716c",
   "metadata": {},
   "outputs": [],
   "source": []
  },
  {
   "cell_type": "markdown",
   "id": "39976d84",
   "metadata": {},
   "source": [
    "## Student 5"
   ]
  },
  {
   "cell_type": "code",
   "execution_count": null,
   "id": "d8065944",
   "metadata": {},
   "outputs": [],
   "source": [
    "%load_ext cudf"
   ]
  },
  {
   "cell_type": "code",
   "execution_count": null,
   "id": "1deb286c",
   "metadata": {},
   "outputs": [],
   "source": [
    "import numpy as np\n",
    "import pandas as pd\n",
    "import matplotlib.pyplot as plt\n",
    "import seaborn as sns"
   ]
  },
  {
   "cell_type": "code",
   "execution_count": null,
   "id": "54ca5bfc",
   "metadata": {},
   "outputs": [],
   "source": [
    "import datashader as ds\n",
    "import datashader.transfer_functions as tf"
   ]
  },
  {
   "cell_type": "code",
   "execution_count": null,
   "id": "d35c4762",
   "metadata": {},
   "outputs": [],
   "source": [
    "pd.set_option('display.max_columns', None)"
   ]
  },
  {
   "cell_type": "code",
   "execution_count": null,
   "id": "20550268",
   "metadata": {},
   "outputs": [],
   "source": [
    "df_5_EYE = pd.read_csv('data/STData/5/5_EYE.csv')"
   ]
  },
  {
   "cell_type": "code",
   "execution_count": null,
   "id": "11d8fac9",
   "metadata": {},
   "outputs": [],
   "source": [
    "df_5_EYE.head()"
   ]
  },
  {
   "cell_type": "code",
   "execution_count": null,
   "id": "5bf746b6",
   "metadata": {},
   "outputs": [],
   "source": [
    "df_5_EYE.shape"
   ]
  },
  {
   "cell_type": "code",
   "execution_count": null,
   "id": "25df69ef",
   "metadata": {},
   "outputs": [],
   "source": [
    "df_5_EYE.columns"
   ]
  },
  {
   "cell_type": "code",
   "execution_count": null,
   "id": "2c777755",
   "metadata": {},
   "outputs": [],
   "source": [
    "df_5_EYE.info()"
   ]
  },
  {
   "cell_type": "code",
   "execution_count": null,
   "id": "65b655f3",
   "metadata": {},
   "outputs": [],
   "source": [
    "df_5_EYE.isnull().sum()"
   ]
  },
  {
   "cell_type": "code",
   "execution_count": null,
   "id": "977ecd8a",
   "metadata": {},
   "outputs": [],
   "source": [
    "plt.figure(figsize=(12,8))\n",
    "sns.heatmap(df_5_EYE.isnull(), cmap='viridis')\n",
    "plt.show()"
   ]
  },
  {
   "cell_type": "markdown",
   "id": "cda6446b",
   "metadata": {},
   "source": [
    "# Notes & Observations\n",
    "\n",
    "- We observe many **null** (or missing) values in the `QuestionKey` columns.  \n",
    "- The nulls in the `QuestionKey` column may not represent “true” nulls. Rather, they follow interval patterns, suggesting that during those periods no question was displayed.  \n",
    "- These missing values in `QuestionKey` require additional investigation and context-aware handling.  "
   ]
  },
  {
   "cell_type": "code",
   "execution_count": null,
   "id": "35147db7",
   "metadata": {},
   "outputs": [],
   "source": [
    "df_5_EYE['QuestionKey'].unique()"
   ]
  },
  {
   "cell_type": "code",
   "execution_count": null,
   "id": "89c4c563",
   "metadata": {},
   "outputs": [],
   "source": [
    "df_5_EYE['Timestamp'] = pd.to_datetime(df_5_EYE['Timestamp'])"
   ]
  },
  {
   "cell_type": "code",
   "execution_count": null,
   "id": "259aa839",
   "metadata": {},
   "outputs": [],
   "source": [
    "df_5_EYE.head(3)"
   ]
  },
  {
   "cell_type": "code",
   "execution_count": null,
   "id": "7addd934",
   "metadata": {},
   "outputs": [],
   "source": [
    "df_5_EYE['QuestionKey'].fillna('None', inplace=True)"
   ]
  },
  {
   "cell_type": "code",
   "execution_count": null,
   "id": "4060dad0",
   "metadata": {},
   "outputs": [],
   "source": [
    "df_5_EYE['QuestionKey'].value_counts()"
   ]
  },
  {
   "cell_type": "code",
   "execution_count": null,
   "id": "db5dd417",
   "metadata": {},
   "outputs": [],
   "source": [
    "plt.figure(figsize=(12,8))\n",
    "sns.heatmap(df_5_EYE.isnull(), cmap='viridis')\n",
    "plt.show()"
   ]
  },
  {
   "cell_type": "code",
   "execution_count": null,
   "id": "c4a3a206",
   "metadata": {},
   "outputs": [],
   "source": [
    "df_5_EYE.isnull().sum()"
   ]
  },
  {
   "cell_type": "code",
   "execution_count": null,
   "id": "52625c41",
   "metadata": {},
   "outputs": [],
   "source": [
    "df_5_EYE.dropna(inplace=True)"
   ]
  },
  {
   "cell_type": "code",
   "execution_count": null,
   "id": "2118ee54",
   "metadata": {},
   "outputs": [],
   "source": [
    "df_5_EYE.head()"
   ]
  },
  {
   "cell_type": "code",
   "execution_count": null,
   "id": "c269b14d",
   "metadata": {},
   "outputs": [],
   "source": [
    "df_5_EYE['Row'].unique()"
   ]
  },
  {
   "cell_type": "code",
   "execution_count": null,
   "id": "e974b4c2",
   "metadata": {},
   "outputs": [],
   "source": [
    "plt.figure(figsize=(8,6))\n",
    "sns.histplot(df_5_EYE['Row'])\n",
    "plt.show()"
   ]
  },
  {
   "cell_type": "markdown",
   "id": "6afa439c",
   "metadata": {},
   "source": [
    "# Notes & Observations\n",
    "\n",
    "- The `Row` column appears to be a simple row index and does not provide meaningful information relevant to the eye-tracking data itself. Therefore, it can be dropped."
   ]
  },
  {
   "cell_type": "code",
   "execution_count": null,
   "id": "787fa296",
   "metadata": {},
   "outputs": [],
   "source": [
    "df_5_EYE.drop('Row', axis=1, inplace=True)"
   ]
  },
  {
   "cell_type": "code",
   "execution_count": null,
   "id": "0d01c822",
   "metadata": {},
   "outputs": [],
   "source": [
    "df_5_EYE['ET_ValidityLeft'].unique()"
   ]
  },
  {
   "cell_type": "code",
   "execution_count": null,
   "id": "d6d4b98a",
   "metadata": {},
   "outputs": [],
   "source": [
    "df_5_EYE['ET_ValidityLeft'].value_counts()"
   ]
  },
  {
   "cell_type": "code",
   "execution_count": null,
   "id": "6814f536",
   "metadata": {},
   "outputs": [],
   "source": [
    "df_5_EYE['ET_ValidityRight'].unique()"
   ]
  },
  {
   "cell_type": "code",
   "execution_count": null,
   "id": "f059223b",
   "metadata": {},
   "outputs": [],
   "source": [
    "df_5_EYE['ET_ValidityRight'].value_counts()"
   ]
  },
  {
   "cell_type": "code",
   "execution_count": null,
   "id": "ea3d367c",
   "metadata": {},
   "outputs": [],
   "source": [
    "plt.figure(figsize=(12, 6))\n",
    "\n",
    "plt.subplot(1, 2, 1)\n",
    "sns.barplot(x=df_5_EYE['ET_ValidityLeft'].value_counts().index, y=df_5_EYE['ET_ValidityLeft'].value_counts().values)\n",
    "plt.title('Count of ET_ValidityLeft')\n",
    "plt.xlabel('Validity')\n",
    "plt.ylabel('Count')\n",
    "\n",
    "\n",
    "plt.subplot(1, 2, 2)\n",
    "sns.barplot(x=df_5_EYE['ET_ValidityRight'].value_counts().index, y=df_5_EYE['ET_ValidityRight'].value_counts().values)\n",
    "plt.title('Count of ET_ValidityRight')\n",
    "plt.xlabel('Validity')\n",
    "plt.ylabel('Count')\n",
    "\n",
    "plt.tight_layout()\n",
    "plt.show()"
   ]
  },
  {
   "cell_type": "markdown",
   "id": "eed5d233",
   "metadata": {},
   "source": [
    "# Notes & Observations\n",
    "\n",
    "- The `ET_ValidityLeft` and `ET_ValidityRight` columns indicate the validity of the eye-tracking data for the left and right eye, respectively.\n",
    "- Based on the value counts and the bar plots, it appears that a value of `0.0` represents valid eye-tracking data, while a value of `4.0` represents invalid data.\n",
    "- Although the amount of invalid data is relatively small, removing these rows could introduce unwanted patterns or gaps in the time series data.\n",
    "- Therefore, we will keep the data and replace the value `4.0` with `1.0` in both `ET_ValidityLeft` and `ET_ValidityRight` columns. This will indicate to a machine learning model that the eye tracker had invalid data at those specific points in time while maintaining the integrity of the time series."
   ]
  },
  {
   "cell_type": "code",
   "execution_count": null,
   "id": "179133b9",
   "metadata": {},
   "outputs": [],
   "source": [
    "validity_map = {4.0: 1.0, 0.0: 0.0}"
   ]
  },
  {
   "cell_type": "code",
   "execution_count": null,
   "id": "3c947874",
   "metadata": {},
   "outputs": [],
   "source": [
    "df_5_EYE['ET_ValidityLeft'] = df_5_EYE['ET_ValidityLeft'].map(validity_map).astype(np.int8)\n",
    "df_5_EYE['ET_ValidityRight'] = df_5_EYE['ET_ValidityRight'].map(validity_map).astype(np.int8)"
   ]
  },
  {
   "cell_type": "code",
   "execution_count": null,
   "id": "eeae2679",
   "metadata": {},
   "outputs": [],
   "source": [
    "df_5_EYE.head(3)"
   ]
  },
  {
   "cell_type": "code",
   "execution_count": null,
   "id": "e1f512af",
   "metadata": {},
   "outputs": [],
   "source": [
    "df_5_EYE.describe()"
   ]
  },
  {
   "cell_type": "code",
   "execution_count": null,
   "id": "0b5446ea",
   "metadata": {},
   "outputs": [],
   "source": [
    "df_5_EYE[df_5_EYE['ET_ValidityLeft'] == 1].shape"
   ]
  },
  {
   "cell_type": "code",
   "execution_count": null,
   "id": "5958d7d8",
   "metadata": {},
   "outputs": [],
   "source": [
    "df_5_EYE[df_5_EYE['ET_ValidityRight'] == 1].shape"
   ]
  },
  {
   "cell_type": "code",
   "execution_count": null,
   "id": "68223508",
   "metadata": {},
   "outputs": [],
   "source": [
    "plt.figure(figsize=(18, 8))\n",
    "\n",
    "plt.subplot(1, 2, 1)\n",
    "sns.heatmap(df_5_EYE == -1, cmap='viridis')\n",
    "plt.title('Heatmap of -1 Values')\n",
    "\n",
    "plt.subplot(1, 2, 2)\n",
    "sns.heatmap(df_5_EYE == 1, cmap='viridis')\n",
    "plt.title('Heatmap of 1 Values')\n",
    "\n",
    "plt.tight_layout()\n",
    "plt.show()"
   ]
  },
  {
   "cell_type": "code",
   "execution_count": null,
   "id": "b1a13c15",
   "metadata": {},
   "outputs": [],
   "source": [
    "df_5_EYE[df_5_EYE['ET_PupilLeft'] == -1].shape"
   ]
  },
  {
   "cell_type": "code",
   "execution_count": null,
   "id": "47573cfa",
   "metadata": {},
   "outputs": [],
   "source": [
    "df_5_EYE[df_5_EYE['ET_PupilRight'] == -1].shape"
   ]
  },
  {
   "cell_type": "code",
   "execution_count": null,
   "id": "5d75818e",
   "metadata": {},
   "outputs": [],
   "source": [
    "df_5_EYE[df_5_EYE['ET_PupilLeft'] == -1].shape[0] / df_5_EYE.shape[0]"
   ]
  },
  {
   "cell_type": "code",
   "execution_count": null,
   "id": "76ec4cd9",
   "metadata": {},
   "outputs": [],
   "source": [
    "df_5_EYE[df_5_EYE['ET_PupilRight'] == -1].shape[0] / df_5_EYE.shape[0]"
   ]
  },
  {
   "cell_type": "code",
   "execution_count": null,
   "id": "e198cbec",
   "metadata": {},
   "outputs": [],
   "source": [
    "plt.figure(figsize=(18, 8))\n",
    "\n",
    "plt.subplot(1, 2, 1)\n",
    "sns.heatmap(df_5_EYE[df_5_EYE['ET_ValidityLeft'] == 1] == -1, cmap='viridis')\n",
    "plt.title('Heatmap of -1 Values')\n",
    "\n",
    "plt.subplot(1, 2, 2)\n",
    "sns.heatmap(df_5_EYE[df_5_EYE['ET_ValidityRight'] == 1] == -1, cmap='viridis')\n",
    "plt.title('Heatmap of -1 Values')\n",
    "\n",
    "plt.tight_layout()\n",
    "plt.show()"
   ]
  },
  {
   "cell_type": "markdown",
   "id": "a3c42856",
   "metadata": {},
   "source": [
    "# Notes & Observations\n",
    "\n",
    "- The heatmaps reveal the distribution of -1 values across different columns.\n",
    "- It is evident that the `-1` values are not randomly scattered but appear in specific columns, notably `ET_GazeLeftx`, `ET_GazeLefty`, `ET_GazeRightx`, `ET_GazeRighty`, `ET_PupilLeft`, `ET_PupilRight`, `ET_DistanceLeft`, `ET_DistanceRight`, `ET_CameraLeftX`, `ET_CameraLeftY`, `ET_CameraRightX`, and `ET_CameraRightY`.\n",
    "- These `-1` values often coincide with instances where `ET_ValidityLeft` or `ET_ValidityRight` is 1, indicating invalid eye-tracking data. This suggests that `-1` is used as a placeholder for missing or invalid measurements in these columns when the eye tracker is not providing valid data for a particular eye.\n",
    "- Given that over 70% of the data in the `ET_PupilLeft` and `ET_PupilRight` columns is marked as invalid (-1), these columns may not be suitable for analysis and could be considered for dropping."
   ]
  },
  {
   "cell_type": "code",
   "execution_count": null,
   "id": "d6551b18",
   "metadata": {},
   "outputs": [],
   "source": [
    "df_5_EYE.drop(['ET_PupilLeft', 'ET_PupilRight'], axis=1, inplace=True)"
   ]
  },
  {
   "cell_type": "code",
   "execution_count": null,
   "id": "57668d40",
   "metadata": {},
   "outputs": [],
   "source": [
    "df_5_EYE.head()"
   ]
  },
  {
   "cell_type": "code",
   "execution_count": null,
   "id": "b08cf064",
   "metadata": {},
   "outputs": [],
   "source": [
    "plt.figure(figsize=(18, 8))\n",
    "\n",
    "plt.subplot(1, 2, 1)\n",
    "sns.heatmap(df_5_EYE == -1, cmap='viridis')\n",
    "plt.title('Heatmap of -1 Values')\n",
    "\n",
    "plt.subplot(1, 2, 2)\n",
    "sns.heatmap(df_5_EYE == 1, cmap='viridis')\n",
    "plt.title('Heatmap of -1 Values')\n",
    "\n",
    "plt.tight_layout()\n",
    "plt.show()"
   ]
  },
  {
   "cell_type": "code",
   "execution_count": null,
   "id": "d62d4b7f",
   "metadata": {},
   "outputs": [],
   "source": [
    "valid_left_ratio  = 1 - df_5_EYE['ET_ValidityLeft'].mean()\n",
    "valid_right_ratio = 1 - df_5_EYE['ET_ValidityRight'].mean()"
   ]
  },
  {
   "cell_type": "code",
   "execution_count": null,
   "id": "2988c6a9",
   "metadata": {},
   "outputs": [],
   "source": [
    "valid_left_ratio"
   ]
  },
  {
   "cell_type": "code",
   "execution_count": null,
   "id": "d626f109",
   "metadata": {},
   "outputs": [],
   "source": [
    "valid_right_ratio"
   ]
  },
  {
   "cell_type": "code",
   "execution_count": null,
   "id": "e62f4484",
   "metadata": {},
   "outputs": [],
   "source": [
    "df_5_EYE.head()"
   ]
  },
  {
   "cell_type": "code",
   "execution_count": null,
   "id": "188a1e30",
   "metadata": {},
   "outputs": [],
   "source": [
    "# Select only the numeric columns for plotting histograms, excluding time-related columns\n",
    "numeric_cols = df_5_EYE.select_dtypes(include=np.number).columns\n",
    "cols_to_plot = [col for col in numeric_cols if col not in ['UnixTime']]\n",
    "\n",
    "# Calculate the number of rows and columns for the grid\n",
    "n_cols = 4  # You can adjust the number of columns as needed\n",
    "n_rows = (len(cols_to_plot) + n_cols - 1) // n_cols\n",
    "\n",
    "plt.figure(figsize=(n_cols * 5, n_rows * 4)) # Adjust figure size as needed\n",
    "\n",
    "for i, col in enumerate(cols_to_plot):\n",
    "    plt.subplot(n_rows, n_cols, i + 1)\n",
    "    sns.histplot(df_5_EYE[col], kde=True)\n",
    "    plt.title(f'Distribution of {col}')\n",
    "    plt.xlabel(col)\n",
    "    plt.ylabel('Frequency')\n",
    "\n",
    "plt.tight_layout()\n",
    "plt.show()"
   ]
  },
  {
   "cell_type": "code",
   "execution_count": null,
   "id": "21e19204",
   "metadata": {},
   "outputs": [],
   "source": [
    "df_5_EYE.columns"
   ]
  },
  {
   "cell_type": "code",
   "execution_count": null,
   "id": "27677821",
   "metadata": {},
   "outputs": [],
   "source": [
    "cols = ['ET_GazeLeftx', 'ET_GazeLefty',\n",
    "       'ET_GazeRightx', 'ET_GazeRighty', 'ET_TimeSignal', 'ET_DistanceLeft',\n",
    "       'ET_DistanceRight', 'ET_CameraLeftX', 'ET_CameraLeftY',\n",
    "       'ET_CameraRightX', 'ET_CameraRightY', 'ET_ValidityLeft',\n",
    "       'ET_ValidityRight']"
   ]
  },
  {
   "cell_type": "code",
   "execution_count": null,
   "id": "d9f388d9",
   "metadata": {},
   "outputs": [],
   "source": [
    "from IPython.display import display, Markdown\n",
    "\n",
    "for col in cols:\n",
    "    # Add a markdown cell before each plot for better separation and labeling\n",
    "    display(Markdown(f'### {col} over Time'))\n",
    "    plt.figure(figsize=(16, 10))\n",
    "    plt.plot(df_5_EYE['Timestamp'], df_5_EYE[col])\n",
    "    plt.xlabel(\"Timestamp\") # Add x-axis label\n",
    "    plt.ylabel(col) # Add y-axis label\n",
    "    plt.show()"
   ]
  },
  {
   "cell_type": "code",
   "execution_count": null,
   "id": "6103bd43",
   "metadata": {},
   "outputs": [],
   "source": [
    "# Select only the numeric columns for plotting histograms, excluding time-related columns\n",
    "numeric_cols = df_5_EYE.select_dtypes(include=np.number).columns\n",
    "\n",
    "# Calculate the number of rows and columns for the grid\n",
    "n_cols = 4  # You can adjust the number of columns as needed\n",
    "n_rows = (len(numeric_cols) + n_cols - 1) // n_cols\n",
    "\n",
    "plt.figure(figsize=(n_cols * 5, n_rows * 4)) # Adjust figure size as needed\n",
    "\n",
    "for i, col in enumerate(numeric_cols):\n",
    "    plt.subplot(n_rows, n_cols, i + 1)\n",
    "    sns.boxplot(df_5_EYE[col])\n",
    "    plt.title(f'Boxplot of {col}')\n",
    "    plt.xlabel(col)\n",
    "\n",
    "plt.tight_layout()\n",
    "plt.show()"
   ]
  },
  {
   "cell_type": "code",
   "execution_count": null,
   "id": "1cfaded6",
   "metadata": {},
   "outputs": [],
   "source": [
    "df_5_EYE.replace({-1: np.nan}, inplace=True)"
   ]
  },
  {
   "cell_type": "code",
   "execution_count": null,
   "id": "e5075aef",
   "metadata": {},
   "outputs": [],
   "source": [
    "numeric_cols = df_5_EYE.select_dtypes(include=np.number).columns\n",
    "\n",
    "for col in numeric_cols:\n",
    "    df_5_EYE[col].fillna(df_5_EYE[col].mean(), inplace=True)"
   ]
  },
  {
   "cell_type": "code",
   "execution_count": null,
   "id": "0c61f5b0",
   "metadata": {},
   "outputs": [],
   "source": [
    "df_5_EYE.head()"
   ]
  },
  {
   "cell_type": "code",
   "execution_count": null,
   "id": "8c62c90d",
   "metadata": {},
   "outputs": [],
   "source": [
    "# Select only the numeric columns for plotting histograms, excluding time-related columns\n",
    "numeric_cols = df_5_EYE.select_dtypes(include=np.number).columns\n",
    "cols_to_plot = [col for col in numeric_cols if col not in ['UnixTime']]\n",
    "\n",
    "# Calculate the number of rows and columns for the grid\n",
    "n_cols = 4  # You can adjust the number of columns as needed\n",
    "n_rows = (len(cols_to_plot) + n_cols - 1) // n_cols\n",
    "\n",
    "plt.figure(figsize=(n_cols * 5, n_rows * 4)) # Adjust figure size as needed\n",
    "\n",
    "for i, col in enumerate(cols_to_plot):\n",
    "    plt.subplot(n_rows, n_cols, i + 1)\n",
    "    sns.histplot(df_5_EYE[col], kde=True)\n",
    "    plt.title(f'Distribution of {col}')\n",
    "    plt.xlabel(col)\n",
    "    plt.ylabel('Frequency')\n",
    "\n",
    "plt.tight_layout()\n",
    "plt.show()"
   ]
  },
  {
   "cell_type": "code",
   "execution_count": null,
   "id": "6c38aa9d",
   "metadata": {},
   "outputs": [],
   "source": []
  },
  {
   "cell_type": "code",
   "execution_count": null,
   "id": "0377831d",
   "metadata": {},
   "outputs": [],
   "source": []
  },
  {
   "cell_type": "code",
   "execution_count": null,
   "id": "84a5b21a",
   "metadata": {},
   "outputs": [],
   "source": []
  },
  {
   "cell_type": "code",
   "execution_count": null,
   "id": "06adf0f2",
   "metadata": {},
   "outputs": [],
   "source": []
  },
  {
   "cell_type": "code",
   "execution_count": null,
   "id": "27cea9e3",
   "metadata": {},
   "outputs": [],
   "source": []
  },
  {
   "cell_type": "code",
   "execution_count": null,
   "id": "96a92318",
   "metadata": {},
   "outputs": [],
   "source": []
  },
  {
   "cell_type": "code",
   "execution_count": null,
   "id": "6a08b994",
   "metadata": {},
   "outputs": [],
   "source": []
  },
  {
   "cell_type": "code",
   "execution_count": null,
   "id": "1b62280b",
   "metadata": {},
   "outputs": [],
   "source": []
  },
  {
   "cell_type": "code",
   "execution_count": null,
   "id": "434e33f9",
   "metadata": {},
   "outputs": [],
   "source": []
  },
  {
   "cell_type": "code",
   "execution_count": null,
   "id": "e30faa35",
   "metadata": {},
   "outputs": [],
   "source": []
  },
  {
   "cell_type": "code",
   "execution_count": null,
   "id": "6d8aece7",
   "metadata": {},
   "outputs": [],
   "source": []
  },
  {
   "cell_type": "code",
   "execution_count": null,
   "id": "888585f8",
   "metadata": {},
   "outputs": [],
   "source": []
  },
  {
   "cell_type": "markdown",
   "id": "88f3b7ad",
   "metadata": {},
   "source": [
    "# Eye Tracking Data Analysis\n",
    "\n",
    "This notebook performs exploratory data analysis and cleaning on eye-tracking data.\n",
    "\n",
    "## Data Loading and Initial Inspection"
   ]
  },
  {
   "cell_type": "code",
   "execution_count": null,
   "id": "5712f56c",
   "metadata": {},
   "outputs": [],
   "source": [
    "%load_ext cudf"
   ]
  },
  {
   "cell_type": "markdown",
   "id": "97c98a5e",
   "metadata": {},
   "source": [
    "Import necessary libraries for data manipulation, analysis, and visualization."
   ]
  },
  {
   "cell_type": "code",
   "execution_count": null,
   "id": "2be264aa",
   "metadata": {},
   "outputs": [],
   "source": [
    "import numpy as np\n",
    "import pandas as pd\n",
    "import matplotlib.pyplot as plt\n",
    "import seaborn as sns"
   ]
  },
  {
   "cell_type": "markdown",
   "id": "1e784e26",
   "metadata": {},
   "source": [
    "Import libraries for datashader, which can be used for visualizing large datasets."
   ]
  },
  {
   "cell_type": "code",
   "execution_count": null,
   "id": "c623d0da",
   "metadata": {},
   "outputs": [],
   "source": [
    "import datashader as ds\n",
    "import datashader.transfer_functions as tf"
   ]
  },
  {
   "cell_type": "markdown",
   "id": "ce6f60bd",
   "metadata": {},
   "source": [
    "Set pandas display options to show all columns."
   ]
  },
  {
   "cell_type": "code",
   "execution_count": null,
   "id": "75d3eb7b",
   "metadata": {},
   "outputs": [],
   "source": [
    "pd.set_option('display.max_columns', None)"
   ]
  },
  {
   "cell_type": "markdown",
   "id": "2a069f74",
   "metadata": {},
   "source": [
    "Load the eye-tracking data from the specified CSV file into a pandas DataFrame."
   ]
  },
  {
   "cell_type": "code",
   "execution_count": null,
   "id": "153259f5",
   "metadata": {},
   "outputs": [],
   "source": [
    "df_5_EYE = pd.read_csv('data/STData/5/5_EYE.csv')"
   ]
  },
  {
   "cell_type": "markdown",
   "id": "bc2154e4",
   "metadata": {},
   "source": [
    "Display the first few rows of the DataFrame to get an initial look at the data structure and content."
   ]
  },
  {
   "cell_type": "code",
   "execution_count": null,
   "id": "ebbce3e8",
   "metadata": {},
   "outputs": [],
   "source": [
    "df_5_EYE.head()"
   ]
  },
  {
   "cell_type": "markdown",
   "id": "0dde626d",
   "metadata": {},
   "source": [
    "Check the dimensions (number of rows and columns) of the DataFrame."
   ]
  },
  {
   "cell_type": "code",
   "execution_count": null,
   "id": "ba20f200",
   "metadata": {},
   "outputs": [],
   "source": [
    "df_5_EYE.shape"
   ]
  },
  {
   "cell_type": "markdown",
   "id": "9cb94ed5",
   "metadata": {},
   "source": [
    "List the names of all columns in the DataFrame."
   ]
  },
  {
   "cell_type": "code",
   "execution_count": null,
   "id": "c1bf37c1",
   "metadata": {},
   "outputs": [],
   "source": [
    "df_5_EYE.columns"
   ]
  },
  {
   "cell_type": "markdown",
   "id": "10517c9f",
   "metadata": {},
   "source": [
    "Display concise information about the DataFrame, including the data types of each column and the number of non-null values. This helps identify columns with missing data."
   ]
  },
  {
   "cell_type": "code",
   "execution_count": null,
   "id": "f6ca1ec1",
   "metadata": {},
   "outputs": [],
   "source": [
    "df_5_EYE.info()"
   ]
  },
  {
   "cell_type": "markdown",
   "id": "794d05a2",
   "metadata": {},
   "source": [
    "Calculate and display the number of missing values in each column."
   ]
  },
  {
   "cell_type": "code",
   "execution_count": null,
   "id": "03d8f90f",
   "metadata": {},
   "outputs": [],
   "source": [
    "df_5_EYE.isnull().sum()"
   ]
  },
  {
   "cell_type": "markdown",
   "id": "a94a5c83",
   "metadata": {},
   "source": [
    "Visualize the distribution of missing values using a heatmap. This provides a visual representation of which columns have missing data and the extent of missingness."
   ]
  },
  {
   "cell_type": "code",
   "execution_count": null,
   "id": "1c8d4af7",
   "metadata": {},
   "outputs": [],
   "source": [
    "plt.figure(figsize=(12,8))\n",
    "sns.heatmap(df_5_EYE.isnull(), cmap='viridis')\n",
    "plt.show()"
   ]
  },
  {
   "cell_type": "markdown",
   "id": "db9a5ccb",
   "metadata": {},
   "source": [
    "# Notes & Observations\n",
    "\n",
    "- We observe many **null** (or missing) values in the `QuestionKey` columns.\n",
    "- The nulls in the `QuestionKey` column may not represent “true” nulls. Rather, they follow interval patterns, suggesting that during those periods no question was displayed.\n",
    "- These missing values in `QuestionKey` require additional investigation and context-aware handling."
   ]
  },
  {
   "cell_type": "markdown",
   "id": "99ab8c60",
   "metadata": {},
   "source": [
    "Display the unique values in the `QuestionKey` column to understand the different types of questions or states recorded."
   ]
  },
  {
   "cell_type": "code",
   "execution_count": null,
   "id": "2aa5d0ad",
   "metadata": {},
   "outputs": [],
   "source": [
    "df_5_EYE['QuestionKey'].unique()"
   ]
  },
  {
   "cell_type": "markdown",
   "id": "8685ac05",
   "metadata": {},
   "source": [
    "Convert the `Timestamp` column to datetime objects. This is crucial for any time series analysis or manipulation."
   ]
  },
  {
   "cell_type": "code",
   "execution_count": null,
   "id": "c398b01e",
   "metadata": {},
   "outputs": [],
   "source": [
    "df_5_EYE['Timestamp'] = pd.to_datetime(df_5_EYE['Timestamp'])"
   ]
  },
  {
   "cell_type": "markdown",
   "id": "651433a9",
   "metadata": {},
   "source": [
    "Display the first few rows again to see the effect of the timestamp conversion."
   ]
  },
  {
   "cell_type": "code",
   "execution_count": null,
   "id": "93ffce3c",
   "metadata": {},
   "outputs": [],
   "source": [
    "df_5_EYE.head(3)"
   ]
  },
  {
   "cell_type": "markdown",
   "id": "378bce33",
   "metadata": {},
   "source": [
    "Fill the missing values in the `QuestionKey` column with the string 'None'. This helps to explicitly mark periods where no question was active."
   ]
  },
  {
   "cell_type": "code",
   "execution_count": null,
   "id": "5210bfc0",
   "metadata": {},
   "outputs": [],
   "source": [
    "df_5_EYE['QuestionKey'].fillna('None', inplace=True)"
   ]
  },
  {
   "cell_type": "markdown",
   "id": "8f52f87e",
   "metadata": {},
   "source": [
    "Count the occurrences of each unique value in the `QuestionKey` column after filling missing values."
   ]
  },
  {
   "cell_type": "code",
   "execution_count": null,
   "id": "1cf7a2a1",
   "metadata": {},
   "outputs": [],
   "source": [
    "df_5_EYE['QuestionKey'].value_counts()"
   ]
  },
  {
   "cell_type": "markdown",
   "id": "632e6783",
   "metadata": {},
   "source": [
    "Display the heatmap of missing values again to confirm that the missing values in `QuestionKey` have been handled."
   ]
  },
  {
   "cell_type": "code",
   "execution_count": null,
   "id": "dafafe39",
   "metadata": {},
   "outputs": [],
   "source": [
    "plt.figure(figsize=(12,8))\n",
    "sns.heatmap(df_5_EYE.isnull(), cmap='viridis')\n",
    "plt.show()"
   ]
  },
  {
   "cell_type": "markdown",
   "id": "19526c79",
   "metadata": {},
   "source": [
    "Recalculate and display the number of missing values per column to confirm the changes after handling `QuestionKey`."
   ]
  },
  {
   "cell_type": "code",
   "execution_count": null,
   "id": "f0f20f8e",
   "metadata": {},
   "outputs": [],
   "source": [
    "df_5_EYE.isnull().sum()"
   ]
  },
  {
   "cell_type": "markdown",
   "id": "5476ad79",
   "metadata": {},
   "source": [
    "Drop rows that still contain any missing values. This is done after handling `QuestionKey` separately."
   ]
  },
  {
   "cell_type": "code",
   "execution_count": null,
   "id": "4df42e0b",
   "metadata": {},
   "outputs": [],
   "source": [
    "df_5_EYE.dropna(inplace=True)"
   ]
  },
  {
   "cell_type": "markdown",
   "id": "3066df33",
   "metadata": {},
   "source": [
    "Display the first few rows after dropping rows with missing values."
   ]
  },
  {
   "cell_type": "code",
   "execution_count": null,
   "id": "ea7d81f7",
   "metadata": {},
   "outputs": [],
   "source": [
    "df_5_EYE.head()"
   ]
  },
  {
   "cell_type": "markdown",
   "id": "d07f91bf",
   "metadata": {},
   "source": [
    "Display the unique values in the `Row` column."
   ]
  },
  {
   "cell_type": "code",
   "execution_count": null,
   "id": "fd2abb85",
   "metadata": {},
   "outputs": [],
   "source": [
    "df_5_EYE['Row'].unique()"
   ]
  },
  {
   "cell_type": "markdown",
   "id": "c504e2c2",
   "metadata": {},
   "source": [
    "Plot a histogram of the `Row` column to visualize its distribution."
   ]
  },
  {
   "cell_type": "code",
   "execution_count": null,
   "id": "74a7e5ff",
   "metadata": {},
   "outputs": [],
   "source": [
    "plt.figure(figsize=(8,6))\n",
    "sns.histplot(df_5_EYE['Row'])\n",
    "plt.show()"
   ]
  },
  {
   "cell_type": "markdown",
   "id": "b47d6569",
   "metadata": {},
   "source": [
    "# Notes & Observations\n",
    "\n",
    "- The `Row` column appears to be a simple row index and does not provide meaningful information relevant to the eye-tracking data itself. Therefore, it can be dropped."
   ]
  },
  {
   "cell_type": "markdown",
   "id": "a49447c7",
   "metadata": {},
   "source": [
    "Drop the `Row` column as it is not relevant for the analysis."
   ]
  },
  {
   "cell_type": "code",
   "execution_count": null,
   "id": "7b83dffe",
   "metadata": {},
   "outputs": [],
   "source": [
    "df_5_EYE.drop('Row', axis=1, inplace=True)"
   ]
  },
  {
   "cell_type": "markdown",
   "id": "0454bcce",
   "metadata": {},
   "source": [
    "Display the unique values in the `ET_ValidityLeft` column."
   ]
  },
  {
   "cell_type": "code",
   "execution_count": null,
   "id": "6e2ac97d",
   "metadata": {},
   "outputs": [],
   "source": [
    "df_5_EYE['ET_ValidityLeft'].unique()"
   ]
  },
  {
   "cell_type": "markdown",
   "id": "76426690",
   "metadata": {},
   "source": [
    "Count the occurrences of each unique value in the `ET_ValidityLeft` column."
   ]
  },
  {
   "cell_type": "code",
   "execution_count": null,
   "id": "7ca14865",
   "metadata": {},
   "outputs": [],
   "source": [
    "df_5_EYE['ET_ValidityLeft'].value_counts()"
   ]
  },
  {
   "cell_type": "markdown",
   "id": "1ec0ad18",
   "metadata": {},
   "source": [
    "Display the unique values in the `ET_ValidityRight` column."
   ]
  },
  {
   "cell_type": "code",
   "execution_count": null,
   "id": "b93a40aa",
   "metadata": {},
   "outputs": [],
   "source": [
    "df_5_EYE['ET_ValidityRight'].unique()"
   ]
  },
  {
   "cell_type": "markdown",
   "id": "2f7ccbdf",
   "metadata": {},
   "source": [
    "Count the occurrences of each unique value in the `ET_ValidityRight` column."
   ]
  },
  {
   "cell_type": "code",
   "execution_count": null,
   "id": "c3f6802b",
   "metadata": {},
   "outputs": [],
   "source": [
    "df_5_EYE['ET_ValidityRight'].value_counts()"
   ]
  },
  {
   "cell_type": "markdown",
   "id": "7a305571",
   "metadata": {},
   "source": [
    "Visualize the counts of valid and invalid data for both left and right eyes using bar plots."
   ]
  },
  {
   "cell_type": "code",
   "execution_count": null,
   "id": "0ce300ea",
   "metadata": {},
   "outputs": [],
   "source": [
    "plt.figure(figsize=(12, 6))\n",
    "\n",
    "plt.subplot(1, 2, 1)\n",
    "sns.barplot(x=df_5_EYE['ET_ValidityLeft'].value_counts().index, y=df_5_EYE['ET_ValidityLeft'].value_counts().values)\n",
    "plt.title('Count of ET_ValidityLeft')\n",
    "plt.xlabel('Validity')\n",
    "plt.ylabel('Count')\n",
    "\n",
    "\n",
    "plt.subplot(1, 2, 2)\n",
    "sns.barplot(x=df_5_EYE['ET_ValidityRight'].value_counts().index, y=df_5_EYE['ET_ValidityRight'].value_counts().values)\n",
    "plt.title('Count of ET_ValidityRight')\n",
    "plt.xlabel('Validity')\n",
    "plt.ylabel('Count')\n",
    "\n",
    "plt.tight_layout()\n",
    "plt.show()"
   ]
  },
  {
   "cell_type": "markdown",
   "id": "0ace8052",
   "metadata": {},
   "source": [
    "# Notes & Observations\n",
    "\n",
    "- The `ET_ValidityLeft` and `ET_ValidityRight` columns indicate the validity of the eye-tracking data for the left and right eye, respectively.\n",
    "- Based on the value counts and the bar plots, it appears that a value of `0.0` represents valid eye-tracking data, while a value of `4.0` represents invalid data.\n",
    "- Although the amount of invalid data is relatively small, removing these rows could introduce unwanted patterns or gaps in the time series data.\n",
    "- Therefore, we will keep the data and replace the value `4.0` with `1.0` in both `ET_ValidityLeft` and `ET_ValidityRight` columns. This will indicate to a machine learning model that the eye tracker had invalid data at those specific points in time while maintaining the integrity of the time series."
   ]
  },
  {
   "cell_type": "markdown",
   "id": "80443988",
   "metadata": {},
   "source": [
    "Define a mapping to convert validity values from `0.0` and `4.0` to `0` and `1`."
   ]
  },
  {
   "cell_type": "code",
   "execution_count": null,
   "id": "5a6b3311",
   "metadata": {},
   "outputs": [],
   "source": [
    "validity_map = {4.0: 1.0, 0.0: 0.0}"
   ]
  },
  {
   "cell_type": "markdown",
   "id": "9c2f87cd",
   "metadata": {},
   "source": [
    "Apply the mapping to the `ET_ValidityLeft` and `ET_ValidityRight` columns and convert the data type to integer."
   ]
  },
  {
   "cell_type": "code",
   "execution_count": null,
   "id": "275e4904",
   "metadata": {},
   "outputs": [],
   "source": [
    "df_5_EYE['ET_ValidityLeft'] = df_5_EYE['ET_ValidityLeft'].map(validity_map).astype(np.int8)\n",
    "df_5_EYE['ET_ValidityRight'] = df_5_EYE['ET_ValidityRight'].map(validity_map).astype(np.int8)"
   ]
  },
  {
   "cell_type": "markdown",
   "id": "f7275ac5",
   "metadata": {},
   "source": [
    "Display the first few rows to see the updated validity columns."
   ]
  },
  {
   "cell_type": "code",
   "execution_count": null,
   "id": "ada9d255",
   "metadata": {},
   "outputs": [],
   "source": [
    "df_5_EYE.head(3)"
   ]
  },
  {
   "cell_type": "markdown",
   "id": "06296889",
   "metadata": {},
   "source": [
    "Display descriptive statistics for the DataFrame, including count, mean, standard deviation, min, max, and quartiles for numeric columns."
   ]
  },
  {
   "cell_type": "code",
   "execution_count": null,
   "id": "b5759471",
   "metadata": {},
   "outputs": [],
   "source": [
    "df_5_EYE.describe()"
   ]
  },
  {
   "cell_type": "markdown",
   "id": "ba0ce91b",
   "metadata": {},
   "source": [
    "Check the number of rows where `ET_ValidityLeft` is 1 (invalid data for the left eye)."
   ]
  },
  {
   "cell_type": "code",
   "execution_count": null,
   "id": "a5191037",
   "metadata": {},
   "outputs": [],
   "source": [
    "df_5_EYE[df_5_EYE['ET_ValidityLeft'] == 1].shape"
   ]
  },
  {
   "cell_type": "markdown",
   "id": "452a234e",
   "metadata": {},
   "source": [
    "Check the number of rows where `ET_ValidityRight` is 1 (invalid data for the right eye)."
   ]
  },
  {
   "cell_type": "code",
   "execution_count": null,
   "id": "dd15439b",
   "metadata": {},
   "outputs": [],
   "source": [
    "df_5_EYE[df_5_EYE['ET_ValidityRight'] == 1].shape"
   ]
  },
  {
   "cell_type": "markdown",
   "id": "5a67bd86",
   "metadata": {},
   "source": [
    "Visualize the distribution of -1 and 1 values across columns using heatmaps. This helps identify columns with placeholder or indicator values."
   ]
  },
  {
   "cell_type": "code",
   "execution_count": null,
   "id": "5bca59f9",
   "metadata": {},
   "outputs": [],
   "source": [
    "plt.figure(figsize=(18, 8))\n",
    "\n",
    "plt.subplot(1, 2, 1)\n",
    "sns.heatmap(df_5_EYE == -1, cmap='viridis')\n",
    "plt.title('Heatmap of -1 Values')\n",
    "\n",
    "plt.subplot(1, 2, 2)\n",
    "sns.heatmap(df_5_EYE == 1, cmap='viridis')\n",
    "plt.title('Heatmap of 1 Values')\n",
    "\n",
    "plt.tight_layout()\n",
    "plt.show()"
   ]
  },
  {
   "cell_type": "markdown",
   "id": "45a6ad0c",
   "metadata": {},
   "source": [
    "Check the number of rows where `ET_PupilLeft` is -1."
   ]
  },
  {
   "cell_type": "code",
   "execution_count": null,
   "id": "5a47fb0f",
   "metadata": {},
   "outputs": [],
   "source": [
    "df_5_EYE[df_5_EYE['ET_PupilLeft'] == -1].shape"
   ]
  },
  {
   "cell_type": "markdown",
   "id": "854346eb",
   "metadata": {},
   "source": [
    "Check the number of rows where `ET_PupilRight` is -1."
   ]
  },
  {
   "cell_type": "code",
   "execution_count": null,
   "id": "806f9b7a",
   "metadata": {},
   "outputs": [],
   "source": [
    "df_5_EYE[df_5_EYE['ET_PupilRight'] == -1].shape"
   ]
  },
  {
   "cell_type": "markdown",
   "id": "65b7a9cd",
   "metadata": {},
   "source": [
    "Calculate the ratio of rows with -1 values in the `ET_PupilLeft` column to the total number of rows."
   ]
  },
  {
   "cell_type": "code",
   "execution_count": null,
   "id": "acd25cde",
   "metadata": {},
   "outputs": [],
   "source": [
    "df_5_EYE[df_5_EYE['ET_PupilLeft'] == -1].shape[0] / df_5_EYE.shape[0]"
   ]
  },
  {
   "cell_type": "markdown",
   "id": "2ec4e14b",
   "metadata": {},
   "source": [
    "Calculate the ratio of rows with -1 values in the `ET_PupilRight` column to the total number of rows."
   ]
  },
  {
   "cell_type": "code",
   "execution_count": null,
   "id": "7b67b340",
   "metadata": {},
   "outputs": [],
   "source": [
    "df_5_EYE[df_5_EYE['ET_PupilRight'] == -1].shape[0] / df_5_EYE.shape[0]"
   ]
  },
  {
   "cell_type": "markdown",
   "id": "fc4bdc4f",
   "metadata": {},
   "source": [
    "Visualize the distribution of -1 values specifically for rows where validity is 1 (invalid data)."
   ]
  },
  {
   "cell_type": "code",
   "execution_count": null,
   "id": "c7d4fca0",
   "metadata": {},
   "outputs": [],
   "source": [
    "plt.figure(figsize=(18, 8))\n",
    "\n",
    "plt.subplot(1, 2, 1)\n",
    "sns.heatmap(df_5_EYE[df_5_EYE['ET_ValidityLeft'] == 1] == -1, cmap='viridis')\n",
    "plt.title('Heatmap of -1 Values')\n",
    "\n",
    "plt.subplot(1, 2, 2)\n",
    "sns.heatmap(df_5_EYE[df_5_EYE['ET_ValidityRight'] == 1] == -1, cmap='viridis')\n",
    "plt.title('Heatmap of -1 Values')\n",
    "\n",
    "plt.tight_layout()\n",
    "plt.show()"
   ]
  },
  {
   "cell_type": "markdown",
   "id": "323ffba0",
   "metadata": {},
   "source": [
    "# Notes & Observations\n",
    "\n",
    "- The heatmaps reveal the distribution of -1 values across different columns.\n",
    "- It is evident that the `-1` values are not randomly scattered but appear in specific columns, notably `ET_GazeLeftx`, `ET_GazeLefty`, `ET_GazeRightx`, `ET_GazeRighty`, `ET_PupilLeft`, `ET_PupilRight`, `ET_DistanceLeft`, `ET_DistanceRight`, `ET_CameraLeftX`, `ET_CameraLeftY`, `ET_CameraRightX`, and `ET_CameraRightY`.\n",
    "- These `-1` values often coincide with instances where `ET_ValidityLeft` or `ET_ValidityRight` is 1, indicating invalid eye-tracking data. This suggests that `-1` is used as a placeholder for missing or invalid measurements in these columns when the eye tracker is not providing valid data for a particular eye.\n",
    "- Given that over 70% of the data in the `ET_PupilLeft` and `ET_PupilRight` columns is marked as invalid (-1), these columns may not be suitable for analysis and could be considered for dropping."
   ]
  },
  {
   "cell_type": "markdown",
   "id": "7a77c1e1",
   "metadata": {},
   "source": [
    "Drop the `ET_PupilLeft` and `ET_PupilRight` columns due to the high percentage of invalid data."
   ]
  },
  {
   "cell_type": "code",
   "execution_count": null,
   "id": "9336f263",
   "metadata": {},
   "outputs": [],
   "source": [
    "df_5_EYE.drop(['ET_PupilLeft', 'ET_PupilRight'], axis=1, inplace=True)"
   ]
  },
  {
   "cell_type": "markdown",
   "id": "d23107c0",
   "metadata": {},
   "source": [
    "Display the first few rows after dropping the pupil columns."
   ]
  },
  {
   "cell_type": "code",
   "execution_count": null,
   "id": "1e3a6f98",
   "metadata": {},
   "outputs": [],
   "source": [
    "df_5_EYE.head()"
   ]
  },
  {
   "cell_type": "markdown",
   "id": "759c3f2f",
   "metadata": {},
   "source": [
    "Visualize the distribution of -1 and 1 values again after dropping the pupil columns."
   ]
  },
  {
   "cell_type": "code",
   "execution_count": null,
   "id": "a682d365",
   "metadata": {},
   "outputs": [],
   "source": [
    "plt.figure(figsize=(18, 8))\n",
    "\n",
    "plt.subplot(1, 2, 1)\n",
    "sns.heatmap(df_5_EYE == -1, cmap='viridis')\n",
    "plt.title('Heatmap of -1 Values')\n",
    "\n",
    "plt.subplot(1, 2, 2)\n",
    "sns.heatmap(df_5_EYE == 1, cmap='viridis')\n",
    "plt.title('Heatmap of -1 Values')\n",
    "\n",
    "plt.tight_layout()\n",
    "plt.show()"
   ]
  },
  {
   "cell_type": "markdown",
   "id": "3211eb75",
   "metadata": {},
   "source": [
    "Calculate the ratio of valid data points for the left eye."
   ]
  },
  {
   "cell_type": "code",
   "execution_count": null,
   "id": "6244f47a",
   "metadata": {},
   "outputs": [],
   "source": [
    "valid_left_ratio  = 1 - df_5_EYE['ET_ValidityLeft'].mean()"
   ]
  },
  {
   "cell_type": "markdown",
   "id": "90bdb030",
   "metadata": {},
   "source": [
    "Display the ratio of valid data points for the left eye."
   ]
  },
  {
   "cell_type": "code",
   "execution_count": null,
   "id": "f3d8c385",
   "metadata": {},
   "outputs": [],
   "source": [
    "valid_left_ratio"
   ]
  },
  {
   "cell_type": "markdown",
   "id": "4283abcb",
   "metadata": {},
   "source": [
    "Calculate the ratio of valid data points for the right eye."
   ]
  },
  {
   "cell_type": "code",
   "execution_count": null,
   "id": "55c52818",
   "metadata": {},
   "outputs": [],
   "source": [
    "valid_right_ratio = 1 - df_5_EYE['ET_ValidityRight'].mean()"
   ]
  },
  {
   "cell_type": "markdown",
   "id": "030ffc74",
   "metadata": {},
   "source": [
    "Display the ratio of valid data points for the right eye."
   ]
  },
  {
   "cell_type": "code",
   "execution_count": null,
   "id": "ff92b171",
   "metadata": {},
   "outputs": [],
   "source": [
    "valid_right_ratio"
   ]
  },
  {
   "cell_type": "markdown",
   "id": "60f0a7d7",
   "metadata": {},
   "source": [
    "Display the first few rows of the DataFrame."
   ]
  },
  {
   "cell_type": "code",
   "execution_count": null,
   "id": "7a6af480",
   "metadata": {},
   "outputs": [],
   "source": [
    "df_5_EYE.head()"
   ]
  },
  {
   "cell_type": "markdown",
   "id": "7e66fdd5",
   "metadata": {},
   "source": [
    "Visualize the distributions of numeric columns using histograms with Kernel Density Estimate (KDE) plots. This helps understand the shape and spread of the data in each numeric column."
   ]
  },
  {
   "cell_type": "code",
   "execution_count": null,
   "id": "3bc89145",
   "metadata": {},
   "outputs": [],
   "source": [
    "# Select only the numeric columns for plotting histograms, excluding time-related columns\n",
    "numeric_cols = df_5_EYE.select_dtypes(include=np.number).columns\n",
    "cols_to_plot = [col for col in numeric_cols if col not in ['UnixTime']]\n",
    "\n",
    "# Calculate the number of rows and columns for the grid\n",
    "n_cols = 4  # You can adjust the number of columns as needed\n",
    "n_rows = (len(cols_to_plot) + n_cols - 1) // n_cols\n",
    "\n",
    "plt.figure(figsize=(n_cols * 5, n_rows * 4)) # Adjust figure size as needed\n",
    "\n",
    "for i, col in enumerate(cols_to_plot):\n",
    "    plt.subplot(n_rows, n_cols, i + 1)\n",
    "    sns.histplot(df_5_EYE[col], kde=True)\n",
    "    plt.title(f'Distribution of {col}')\n",
    "    plt.xlabel(col)\n",
    "    plt.ylabel('Frequency')\n",
    "\n",
    "plt.tight_layout()\n",
    "plt.show()"
   ]
  },
  {
   "cell_type": "markdown",
   "id": "12757d0c",
   "metadata": {},
   "source": [
    "List the names of the columns in the DataFrame."
   ]
  },
  {
   "cell_type": "code",
   "execution_count": null,
   "id": "a5fde6ee",
   "metadata": {},
   "outputs": [],
   "source": [
    "df_5_EYE.columns"
   ]
  },
  {
   "cell_type": "markdown",
   "id": "747107da",
   "metadata": {},
   "source": [
    "Define a list of columns to be plotted over time."
   ]
  },
  {
   "cell_type": "code",
   "execution_count": null,
   "id": "1f3b3c35",
   "metadata": {},
   "outputs": [],
   "source": [
    "cols = ['ET_GazeLeftx', 'ET_GazeLefty',\n",
    "       'ET_GazeRightx', 'ET_GazeRighty', 'ET_TimeSignal', 'ET_DistanceLeft',\n",
    "       'ET_DistanceRight', 'ET_CameraLeftX', 'ET_CameraLeftY',\n",
    "       'ET_CameraRightX', 'ET_CameraRightY', 'ET_ValidityLeft',\n",
    "       'ET_ValidityRight']"
   ]
  },
  {
   "cell_type": "markdown",
   "id": "733f5c4c",
   "metadata": {},
   "source": [
    "Plot each of the selected columns against the timestamp to visualize their trends and patterns over time. Markdown cells are added before each plot for better readability."
   ]
  },
  {
   "cell_type": "code",
   "execution_count": null,
   "id": "22de926b",
   "metadata": {},
   "outputs": [],
   "source": [
    "from IPython.display import display, Markdown\n",
    "\n",
    "for col in cols:\n",
    "    # Add a markdown cell before each plot for better separation and labeling\n",
    "    display(Markdown(f'### {col} over Time'))\n",
    "    plt.figure(figsize=(16, 10))\n",
    "    plt.plot(df_5_EYE['Timestamp'], df_5_EYE[col])\n",
    "    plt.xlabel(\"Timestamp\") # Add x-axis label\n",
    "    plt.ylabel(col) # Add y-axis label\n",
    "    plt.show()"
   ]
  },
  {
   "cell_type": "markdown",
   "id": "6afe1e8c",
   "metadata": {},
   "source": [
    "Visualize the distributions of numeric columns using boxplots. This helps identify potential outliers and the spread of the data."
   ]
  },
  {
   "cell_type": "code",
   "execution_count": null,
   "id": "ee9fdab6",
   "metadata": {},
   "outputs": [],
   "source": [
    "# Select only the numeric columns for plotting histograms, excluding time-related columns\n",
    "numeric_cols = df_5_EYE.select_dtypes(include=np.number).columns\n",
    "\n",
    "# Calculate the number of rows and columns for the grid\n",
    "n_cols = 4  # You can adjust the number of columns as needed\n",
    "n_rows = (len(numeric_cols) + n_cols - 1) // n_cols\n",
    "\n",
    "plt.figure(figsize=(n_cols * 5, n_rows * 4)) # Adjust figure size as needed\n",
    "\n",
    "for i, col in enumerate(numeric_cols):\n",
    "    plt.subplot(n_rows, n_cols, i + 1)\n",
    "    sns.boxplot(df_5_EYE[col])\n",
    "    plt.title(f'Boxplot of {col}')\n",
    "    plt.xlabel(col)\n",
    "\n",
    "plt.tight_layout()\n",
    "plt.show()"
   ]
  },
  {
   "cell_type": "markdown",
   "id": "8e887fed",
   "metadata": {},
   "source": [
    "Replace the placeholder value -1 with NaN (Not a Number) in the DataFrame. This is done before imputation."
   ]
  },
  {
   "cell_type": "code",
   "execution_count": null,
   "id": "ef088e12",
   "metadata": {},
   "outputs": [],
   "source": [
    "df_5_EYE.replace({-1: np.nan}, inplace=True)"
   ]
  },
  {
   "cell_type": "markdown",
   "id": "98228655",
   "metadata": {},
   "source": [
    "Impute the missing values (NaN) in the numeric columns with the mean of each column."
   ]
  },
  {
   "cell_type": "code",
   "execution_count": null,
   "id": "7707a16c",
   "metadata": {},
   "outputs": [],
   "source": [
    "numeric_cols = df_5_EYE.select_dtypes(include=np.number).columns\n",
    "\n",
    "for col in numeric_cols:\n",
    "    df_5_EYE[col].fillna(df_5_EYE[col].mean(), inplace=True)"
   ]
  },
  {
   "cell_type": "markdown",
   "id": "800efcaf",
   "metadata": {},
   "source": [
    "Display the first few rows after imputing missing values."
   ]
  },
  {
   "cell_type": "code",
   "execution_count": null,
   "id": "c5a8eec5",
   "metadata": {},
   "outputs": [],
   "source": [
    "df_5_EYE.head()"
   ]
  },
  {
   "cell_type": "markdown",
   "id": "99a70d4b",
   "metadata": {},
   "source": [
    "Visualize the distributions of numeric columns again using histograms with KDE plots after imputation. This helps assess the impact of imputation on the data distributions."
   ]
  },
  {
   "cell_type": "code",
   "execution_count": null,
   "id": "866ace0f",
   "metadata": {},
   "outputs": [],
   "source": [
    "# Select only the numeric columns for plotting histograms, excluding time-related columns\n",
    "numeric_cols = df_5_EYE.select_dtypes(include=np.number).columns\n",
    "cols_to_plot = [col for col in numeric_cols if col not in ['UnixTime']]\n",
    "\n",
    "# Calculate the number of rows and columns for the grid\n",
    "n_cols = 4  # You can adjust the number of columns as needed\n",
    "n_rows = (len(cols_to_plot) + n_cols - 1) // n_cols\n",
    "\n",
    "plt.figure(figsize=(n_cols * 5, n_rows * 4)) # Adjust figure size as needed\n",
    "\n",
    "for i, col in enumerate(cols_to_plot):\n",
    "    plt.subplot(n_rows, n_cols, i + 1)\n",
    "    sns.histplot(df_5_EYE[col], kde=True)\n",
    "    plt.title(f'Distribution of {col}')\n",
    "    plt.xlabel(col)\n",
    "    plt.ylabel('Frequency')\n",
    "\n",
    "plt.tight_layout()\n",
    "plt.show()"
   ]
  },
  {
   "cell_type": "code",
   "execution_count": null,
   "id": "eb86c0bc",
   "metadata": {},
   "outputs": [],
   "source": []
  },
  {
   "cell_type": "markdown",
   "id": "b0aad8ed",
   "metadata": {},
   "source": [
    "## Student 6"
   ]
  },
  {
   "cell_type": "code",
   "execution_count": null,
   "id": "6a0d1f51",
   "metadata": {},
   "outputs": [],
   "source": [
    "%load_ext cudf"
   ]
  },
  {
   "cell_type": "code",
   "execution_count": null,
   "id": "22bc3317",
   "metadata": {},
   "outputs": [],
   "source": [
    "import numpy as np\n",
    "import pandas as pd\n",
    "import matplotlib.pyplot as plt\n",
    "import seaborn as sns"
   ]
  },
  {
   "cell_type": "code",
   "execution_count": null,
   "id": "5cf5e8d7",
   "metadata": {},
   "outputs": [],
   "source": [
    "import datashader as ds\n",
    "import datashader.transfer_functions as tf"
   ]
  },
  {
   "cell_type": "code",
   "execution_count": null,
   "id": "df49ffaf",
   "metadata": {},
   "outputs": [],
   "source": [
    "pd.set_option('display.max_columns', None)"
   ]
  },
  {
   "cell_type": "code",
   "execution_count": null,
   "id": "ca4b7661",
   "metadata": {},
   "outputs": [],
   "source": [
    "df_6_EYE = pd.read_csv('data/STData/6/6_EYE.csv')"
   ]
  },
  {
   "cell_type": "code",
   "execution_count": null,
   "id": "bff7380e",
   "metadata": {},
   "outputs": [],
   "source": [
    "df_6_EYE.head()"
   ]
  },
  {
   "cell_type": "code",
   "execution_count": null,
   "id": "d155da4e",
   "metadata": {},
   "outputs": [],
   "source": [
    "df_6_EYE.shape"
   ]
  },
  {
   "cell_type": "code",
   "execution_count": null,
   "id": "1e1a2e8d",
   "metadata": {},
   "outputs": [],
   "source": [
    "df_6_EYE.columns"
   ]
  },
  {
   "cell_type": "code",
   "execution_count": null,
   "id": "76f53e32",
   "metadata": {},
   "outputs": [],
   "source": [
    "df_6_EYE.info()"
   ]
  },
  {
   "cell_type": "code",
   "execution_count": null,
   "id": "69bee60f",
   "metadata": {},
   "outputs": [],
   "source": [
    "df_6_EYE.isnull().sum()"
   ]
  },
  {
   "cell_type": "code",
   "execution_count": null,
   "id": "c6d00241",
   "metadata": {},
   "outputs": [],
   "source": [
    "plt.figure(figsize=(12,8))\n",
    "sns.heatmap(df_6_EYE.isnull(), cmap='viridis')\n",
    "plt.show()"
   ]
  },
  {
   "cell_type": "markdown",
   "id": "3ff70423",
   "metadata": {},
   "source": [
    "# Notes & Observations\n",
    "\n",
    "- We observe many **null** (or missing) values in the `QuestionKey` columns.  \n",
    "- The nulls in the `QuestionKey` column may not represent “true” nulls. Rather, they follow interval patterns, suggesting that during those periods no question was displayed.  \n",
    "- These missing values in `QuestionKey` require additional investigation and context-aware handling.  "
   ]
  },
  {
   "cell_type": "code",
   "execution_count": null,
   "id": "674da3b3",
   "metadata": {},
   "outputs": [],
   "source": [
    "df_6_EYE['QuestionKey'].unique()"
   ]
  },
  {
   "cell_type": "code",
   "execution_count": null,
   "id": "dbc86a03",
   "metadata": {},
   "outputs": [],
   "source": [
    "df_6_EYE['Timestamp'] = pd.to_datetime(df_6_EYE['Timestamp'])"
   ]
  },
  {
   "cell_type": "code",
   "execution_count": null,
   "id": "bbdffe02",
   "metadata": {},
   "outputs": [],
   "source": [
    "df_6_EYE.head(3)"
   ]
  },
  {
   "cell_type": "code",
   "execution_count": null,
   "id": "a3ff8c50",
   "metadata": {},
   "outputs": [],
   "source": [
    "df_6_EYE['QuestionKey'].fillna('None', inplace=True)"
   ]
  },
  {
   "cell_type": "code",
   "execution_count": null,
   "id": "5f0fd5c7",
   "metadata": {},
   "outputs": [],
   "source": [
    "df_6_EYE['QuestionKey'].value_counts()"
   ]
  },
  {
   "cell_type": "code",
   "execution_count": null,
   "id": "b38ba58e",
   "metadata": {},
   "outputs": [],
   "source": [
    "plt.figure(figsize=(12,8))\n",
    "sns.heatmap(df_6_EYE.isnull(), cmap='viridis')\n",
    "plt.show()"
   ]
  },
  {
   "cell_type": "code",
   "execution_count": null,
   "id": "108a29b5",
   "metadata": {},
   "outputs": [],
   "source": [
    "df_6_EYE.isnull().sum()"
   ]
  },
  {
   "cell_type": "code",
   "execution_count": null,
   "id": "d5ac7020",
   "metadata": {},
   "outputs": [],
   "source": [
    "df_6_EYE.dropna(inplace=True)"
   ]
  },
  {
   "cell_type": "code",
   "execution_count": null,
   "id": "8c5aae09",
   "metadata": {},
   "outputs": [],
   "source": [
    "df_6_EYE.head()"
   ]
  },
  {
   "cell_type": "code",
   "execution_count": null,
   "id": "8b409308",
   "metadata": {},
   "outputs": [],
   "source": [
    "df_6_EYE['Row'].unique()"
   ]
  },
  {
   "cell_type": "code",
   "execution_count": null,
   "id": "4c4a209f",
   "metadata": {},
   "outputs": [],
   "source": [
    "plt.figure(figsize=(8,6))\n",
    "sns.histplot(df_6_EYE['Row'])\n",
    "plt.show()"
   ]
  },
  {
   "cell_type": "markdown",
   "id": "70e68407",
   "metadata": {},
   "source": [
    "# Notes & Observations\n",
    "\n",
    "- The `Row` column appears to be a simple row index and does not provide meaningful information relevant to the eye-tracking data itself. Therefore, it can be dropped."
   ]
  },
  {
   "cell_type": "code",
   "execution_count": null,
   "id": "715ec1f5",
   "metadata": {},
   "outputs": [],
   "source": [
    "df_6_EYE.drop('Row', axis=1, inplace=True)"
   ]
  },
  {
   "cell_type": "code",
   "execution_count": null,
   "id": "82ca8b5b",
   "metadata": {},
   "outputs": [],
   "source": [
    "df_6_EYE['ET_ValidityLeft'].unique()"
   ]
  },
  {
   "cell_type": "code",
   "execution_count": null,
   "id": "8f8d69bb",
   "metadata": {},
   "outputs": [],
   "source": [
    "df_6_EYE['ET_ValidityLeft'].value_counts()"
   ]
  },
  {
   "cell_type": "code",
   "execution_count": null,
   "id": "4627db37",
   "metadata": {},
   "outputs": [],
   "source": [
    "df_6_EYE['ET_ValidityRight'].unique()"
   ]
  },
  {
   "cell_type": "code",
   "execution_count": null,
   "id": "9f18e2b4",
   "metadata": {},
   "outputs": [],
   "source": [
    "df_6_EYE['ET_ValidityRight'].value_counts()"
   ]
  },
  {
   "cell_type": "code",
   "execution_count": null,
   "id": "6dd830f0",
   "metadata": {},
   "outputs": [],
   "source": [
    "plt.figure(figsize=(12, 6))\n",
    "\n",
    "plt.subplot(1, 2, 1)\n",
    "sns.barplot(x=df_6_EYE['ET_ValidityLeft'].value_counts().index, y=df_6_EYE['ET_ValidityLeft'].value_counts().values)\n",
    "plt.title('Count of ET_ValidityLeft')\n",
    "plt.xlabel('Validity')\n",
    "plt.ylabel('Count')\n",
    "\n",
    "\n",
    "plt.subplot(1, 2, 2)\n",
    "sns.barplot(x=df_6_EYE['ET_ValidityRight'].value_counts().index, y=df_6_EYE['ET_ValidityRight'].value_counts().values)\n",
    "plt.title('Count of ET_ValidityRight')\n",
    "plt.xlabel('Validity')\n",
    "plt.ylabel('Count')\n",
    "\n",
    "plt.tight_layout()\n",
    "plt.show()"
   ]
  },
  {
   "cell_type": "markdown",
   "id": "2558be5e",
   "metadata": {},
   "source": [
    "# Notes & Observations\n",
    "\n",
    "- The `ET_ValidityLeft` and `ET_ValidityRight` columns indicate the validity of the eye-tracking data for the left and right eye, respectively.\n",
    "- Based on the value counts and the bar plots, it appears that a value of `0.0` represents valid eye-tracking data, while a value of `4.0` represents invalid data.\n",
    "- Although the amount of invalid data is relatively small, removing these rows could introduce unwanted patterns or gaps in the time series data.\n",
    "- Therefore, we will keep the data and replace the value `4.0` with `1.0` in both `ET_ValidityLeft` and `ET_ValidityRight` columns. This will indicate to a machine learning model that the eye tracker had invalid data at those specific points in time while maintaining the integrity of the time series."
   ]
  },
  {
   "cell_type": "code",
   "execution_count": null,
   "id": "5abb3388",
   "metadata": {},
   "outputs": [],
   "source": [
    "validity_map = {4.0: 1.0, 0.0: 0.0}"
   ]
  },
  {
   "cell_type": "code",
   "execution_count": null,
   "id": "94b20fb2",
   "metadata": {},
   "outputs": [],
   "source": [
    "df_6_EYE['ET_ValidityLeft'] = df_6_EYE['ET_ValidityLeft'].map(validity_map).astype(np.int8)\n",
    "df_6_EYE['ET_ValidityRight'] = df_6_EYE['ET_ValidityRight'].map(validity_map).astype(np.int8)"
   ]
  },
  {
   "cell_type": "code",
   "execution_count": null,
   "id": "af609f4e",
   "metadata": {},
   "outputs": [],
   "source": [
    "df_6_EYE.head(3)"
   ]
  },
  {
   "cell_type": "code",
   "execution_count": null,
   "id": "0912ddac",
   "metadata": {},
   "outputs": [],
   "source": [
    "df_6_EYE.describe()"
   ]
  },
  {
   "cell_type": "code",
   "execution_count": null,
   "id": "d34101f5",
   "metadata": {},
   "outputs": [],
   "source": [
    "df_6_EYE[df_6_EYE['ET_ValidityLeft'] == 1].shape"
   ]
  },
  {
   "cell_type": "code",
   "execution_count": null,
   "id": "8cdd0de2",
   "metadata": {},
   "outputs": [],
   "source": [
    "df_6_EYE[df_6_EYE['ET_ValidityRight'] == 1].shape"
   ]
  },
  {
   "cell_type": "code",
   "execution_count": null,
   "id": "68d93e8c",
   "metadata": {},
   "outputs": [],
   "source": [
    "plt.figure(figsize=(18, 8))\n",
    "\n",
    "plt.subplot(1, 2, 1)\n",
    "sns.heatmap(df_6_EYE == -1, cmap='viridis')\n",
    "plt.title('Heatmap of -1 Values')\n",
    "\n",
    "plt.subplot(1, 2, 2)\n",
    "sns.heatmap(df_6_EYE == 1, cmap='viridis')\n",
    "plt.title('Heatmap of 1 Values')\n",
    "\n",
    "plt.tight_layout()\n",
    "plt.show()"
   ]
  },
  {
   "cell_type": "code",
   "execution_count": null,
   "id": "9154a6e0",
   "metadata": {},
   "outputs": [],
   "source": [
    "df_6_EYE[df_6_EYE['ET_PupilLeft'] == -1].shape"
   ]
  },
  {
   "cell_type": "code",
   "execution_count": null,
   "id": "41dd5fb1",
   "metadata": {},
   "outputs": [],
   "source": [
    "df_6_EYE[df_6_EYE['ET_PupilRight'] == -1].shape"
   ]
  },
  {
   "cell_type": "code",
   "execution_count": null,
   "id": "5bc5dd4e",
   "metadata": {},
   "outputs": [],
   "source": [
    "df_6_EYE[df_6_EYE['ET_PupilLeft'] == -1].shape[0] / df_6_EYE.shape[0]"
   ]
  },
  {
   "cell_type": "code",
   "execution_count": null,
   "id": "75ea4b67",
   "metadata": {},
   "outputs": [],
   "source": [
    "df_6_EYE[df_6_EYE['ET_PupilRight'] == -1].shape[0] / df_6_EYE.shape[0]"
   ]
  },
  {
   "cell_type": "code",
   "execution_count": null,
   "id": "2eb3daf2",
   "metadata": {},
   "outputs": [],
   "source": [
    "plt.figure(figsize=(18, 8))\n",
    "\n",
    "plt.subplot(1, 2, 1)\n",
    "sns.heatmap(df_6_EYE[df_6_EYE['ET_ValidityLeft'] == 1] == -1, cmap='viridis')\n",
    "plt.title('Heatmap of -1 Values')\n",
    "\n",
    "plt.subplot(1, 2, 2)\n",
    "sns.heatmap(df_6_EYE[df_6_EYE['ET_ValidityRight'] == 1] == -1, cmap='viridis')\n",
    "plt.title('Heatmap of -1 Values')\n",
    "\n",
    "plt.tight_layout()\n",
    "plt.show()"
   ]
  },
  {
   "cell_type": "markdown",
   "id": "d5f037a9",
   "metadata": {},
   "source": [
    "# Notes & Observations\n",
    "\n",
    "- The heatmaps reveal the distribution of -1 values across different columns.\n",
    "- It is evident that the `-1` values are not randomly scattered but appear in specific columns, notably `ET_GazeLeftx`, `ET_GazeLefty`, `ET_GazeRightx`, `ET_GazeRighty`, `ET_PupilLeft`, `ET_PupilRight`, `ET_DistanceLeft`, `ET_DistanceRight`, `ET_CameraLeftX`, `ET_CameraLeftY`, `ET_CameraRightX`, and `ET_CameraRightY`.\n",
    "- These `-1` values often coincide with instances where `ET_ValidityLeft` or `ET_ValidityRight` is 1, indicating invalid eye-tracking data. This suggests that `-1` is used as a placeholder for missing or invalid measurements in these columns when the eye tracker is not providing valid data for a particular eye.\n",
    "- Given that over 70% of the data in the `ET_PupilLeft` and `ET_PupilRight` columns is marked as invalid (-1), these columns may not be suitable for analysis and could be considered for dropping."
   ]
  },
  {
   "cell_type": "code",
   "execution_count": null,
   "id": "218386fb",
   "metadata": {},
   "outputs": [],
   "source": [
    "df_6_EYE.drop(['ET_PupilLeft', 'ET_PupilRight'], axis=1, inplace=True)"
   ]
  },
  {
   "cell_type": "code",
   "execution_count": null,
   "id": "ec7734ef",
   "metadata": {},
   "outputs": [],
   "source": [
    "df_6_EYE.head()"
   ]
  },
  {
   "cell_type": "code",
   "execution_count": null,
   "id": "eecdfc5d",
   "metadata": {},
   "outputs": [],
   "source": [
    "plt.figure(figsize=(18, 8))\n",
    "\n",
    "plt.subplot(1, 2, 1)\n",
    "sns.heatmap(df_6_EYE == -1, cmap='viridis')\n",
    "plt.title('Heatmap of -1 Values')\n",
    "\n",
    "plt.subplot(1, 2, 2)\n",
    "sns.heatmap(df_6_EYE == 1, cmap='viridis')\n",
    "plt.title('Heatmap of -1 Values')\n",
    "\n",
    "plt.tight_layout()\n",
    "plt.show()"
   ]
  },
  {
   "cell_type": "code",
   "execution_count": null,
   "id": "d9b4a931",
   "metadata": {},
   "outputs": [],
   "source": [
    "valid_left_ratio  = 1 - df_6_EYE['ET_ValidityLeft'].mean()\n",
    "valid_right_ratio = 1 - df_6_EYE['ET_ValidityRight'].mean()"
   ]
  },
  {
   "cell_type": "code",
   "execution_count": null,
   "id": "ad643fa3",
   "metadata": {},
   "outputs": [],
   "source": [
    "valid_left_ratio"
   ]
  },
  {
   "cell_type": "code",
   "execution_count": null,
   "id": "806fffa2",
   "metadata": {},
   "outputs": [],
   "source": [
    "valid_right_ratio"
   ]
  },
  {
   "cell_type": "code",
   "execution_count": null,
   "id": "4877d60b",
   "metadata": {},
   "outputs": [],
   "source": [
    "df_6_EYE.head()"
   ]
  },
  {
   "cell_type": "code",
   "execution_count": null,
   "id": "218c919a",
   "metadata": {},
   "outputs": [],
   "source": [
    "# Select only the numeric columns for plotting histograms, excluding time-related columns\n",
    "numeric_cols = df_6_EYE.select_dtypes(include=np.number).columns\n",
    "cols_to_plot = [col for col in numeric_cols if col not in ['UnixTime']]\n",
    "\n",
    "# Calculate the number of rows and columns for the grid\n",
    "n_cols = 4  # You can adjust the number of columns as needed\n",
    "n_rows = (len(cols_to_plot) + n_cols - 1) // n_cols\n",
    "\n",
    "plt.figure(figsize=(n_cols * 5, n_rows * 4)) # Adjust figure size as needed\n",
    "\n",
    "for i, col in enumerate(cols_to_plot):\n",
    "    plt.subplot(n_rows, n_cols, i + 1)\n",
    "    sns.histplot(df_6_EYE[col], kde=True)\n",
    "    plt.title(f'Distribution of {col}')\n",
    "    plt.xlabel(col)\n",
    "    plt.ylabel('Frequency')\n",
    "\n",
    "plt.tight_layout()\n",
    "plt.show()"
   ]
  },
  {
   "cell_type": "code",
   "execution_count": null,
   "id": "2f84ac11",
   "metadata": {},
   "outputs": [],
   "source": [
    "df_6_EYE.columns"
   ]
  },
  {
   "cell_type": "code",
   "execution_count": null,
   "id": "d930be2b",
   "metadata": {},
   "outputs": [],
   "source": [
    "cols = ['ET_GazeLeftx', 'ET_GazeLefty',\n",
    "       'ET_GazeRightx', 'ET_GazeRighty', 'ET_TimeSignal', 'ET_DistanceLeft',\n",
    "       'ET_DistanceRight', 'ET_CameraLeftX', 'ET_CameraLeftY',\n",
    "       'ET_CameraRightX', 'ET_CameraRightY', 'ET_ValidityLeft',\n",
    "       'ET_ValidityRight']"
   ]
  },
  {
   "cell_type": "code",
   "execution_count": null,
   "id": "1ae64ccc",
   "metadata": {},
   "outputs": [],
   "source": [
    "from IPython.display import display, Markdown\n",
    "\n",
    "for col in cols:\n",
    "    # Add a markdown cell before each plot for better separation and labeling\n",
    "    display(Markdown(f'### {col} over Time'))\n",
    "    plt.figure(figsize=(16, 10))\n",
    "    plt.plot(df_6_EYE['Timestamp'], df_6_EYE[col])\n",
    "    plt.xlabel(\"Timestamp\") # Add x-axis label\n",
    "    plt.ylabel(col) # Add y-axis label\n",
    "    plt.show()"
   ]
  },
  {
   "cell_type": "code",
   "execution_count": null,
   "id": "de5e7cf5",
   "metadata": {},
   "outputs": [],
   "source": [
    "# Select only the numeric columns for plotting histograms, excluding time-related columns\n",
    "numeric_cols = df_6_EYE.select_dtypes(include=np.number).columns\n",
    "\n",
    "# Calculate the number of rows and columns for the grid\n",
    "n_cols = 4  # You can adjust the number of columns as needed\n",
    "n_rows = (len(numeric_cols) + n_cols - 1) // n_cols\n",
    "\n",
    "plt.figure(figsize=(n_cols * 5, n_rows * 4)) # Adjust figure size as needed\n",
    "\n",
    "for i, col in enumerate(numeric_cols):\n",
    "    plt.subplot(n_rows, n_cols, i + 1)\n",
    "    sns.boxplot(df_6_EYE[col])\n",
    "    plt.title(f'Boxplot of {col}')\n",
    "    plt.xlabel(col)\n",
    "\n",
    "plt.tight_layout()\n",
    "plt.show()"
   ]
  },
  {
   "cell_type": "code",
   "execution_count": null,
   "id": "bd1c7e99",
   "metadata": {},
   "outputs": [],
   "source": [
    "df_6_EYE.replace({-1: np.nan}, inplace=True)"
   ]
  },
  {
   "cell_type": "code",
   "execution_count": null,
   "id": "9fb4cdda",
   "metadata": {},
   "outputs": [],
   "source": [
    "numeric_cols = df_6_EYE.select_dtypes(include=np.number).columns\n",
    "\n",
    "for col in numeric_cols:\n",
    "    df_6_EYE[col].fillna(df_6_EYE[col].mean(), inplace=True)"
   ]
  },
  {
   "cell_type": "code",
   "execution_count": null,
   "id": "d703b986",
   "metadata": {},
   "outputs": [],
   "source": [
    "df_6_EYE.head()"
   ]
  },
  {
   "cell_type": "code",
   "execution_count": null,
   "id": "34346f7c",
   "metadata": {},
   "outputs": [],
   "source": [
    "# Select only the numeric columns for plotting histograms, excluding time-related columns\n",
    "numeric_cols = df_6_EYE.select_dtypes(include=np.number).columns\n",
    "cols_to_plot = [col for col in numeric_cols if col not in ['UnixTime']]\n",
    "\n",
    "# Calculate the number of rows and columns for the grid\n",
    "n_cols = 4  # You can adjust the number of columns as needed\n",
    "n_rows = (len(cols_to_plot) + n_cols - 1) // n_cols\n",
    "\n",
    "plt.figure(figsize=(n_cols * 5, n_rows * 4)) # Adjust figure size as needed\n",
    "\n",
    "for i, col in enumerate(cols_to_plot):\n",
    "    plt.subplot(n_rows, n_cols, i + 1)\n",
    "    sns.histplot(df_6_EYE[col], kde=True)\n",
    "    plt.title(f'Distribution of {col}')\n",
    "    plt.xlabel(col)\n",
    "    plt.ylabel('Frequency')\n",
    "\n",
    "plt.tight_layout()\n",
    "plt.show()"
   ]
  },
  {
   "cell_type": "code",
   "execution_count": null,
   "id": "45059e2f",
   "metadata": {},
   "outputs": [],
   "source": []
  },
  {
   "cell_type": "code",
   "execution_count": null,
   "id": "7a7f17f1",
   "metadata": {},
   "outputs": [],
   "source": []
  },
  {
   "cell_type": "code",
   "execution_count": null,
   "id": "8ef51c9d",
   "metadata": {},
   "outputs": [],
   "source": []
  },
  {
   "cell_type": "code",
   "execution_count": null,
   "id": "9f9e53f2",
   "metadata": {},
   "outputs": [],
   "source": []
  },
  {
   "cell_type": "code",
   "execution_count": null,
   "id": "f353f5c1",
   "metadata": {},
   "outputs": [],
   "source": []
  },
  {
   "cell_type": "code",
   "execution_count": null,
   "id": "cd2b2b84",
   "metadata": {},
   "outputs": [],
   "source": []
  },
  {
   "cell_type": "code",
   "execution_count": null,
   "id": "323de396",
   "metadata": {},
   "outputs": [],
   "source": []
  },
  {
   "cell_type": "code",
   "execution_count": null,
   "id": "fa4c3b87",
   "metadata": {},
   "outputs": [],
   "source": []
  },
  {
   "cell_type": "code",
   "execution_count": null,
   "id": "462f34dc",
   "metadata": {},
   "outputs": [],
   "source": []
  },
  {
   "cell_type": "code",
   "execution_count": null,
   "id": "d313c5e7",
   "metadata": {},
   "outputs": [],
   "source": []
  },
  {
   "cell_type": "code",
   "execution_count": null,
   "id": "b7aeb63e",
   "metadata": {},
   "outputs": [],
   "source": []
  },
  {
   "cell_type": "code",
   "execution_count": null,
   "id": "642d0b49",
   "metadata": {},
   "outputs": [],
   "source": []
  },
  {
   "cell_type": "markdown",
   "id": "9bfb0131",
   "metadata": {},
   "source": [
    "# Eye Tracking Data Analysis\n",
    "\n",
    "This notebook performs exploratory data analysis and cleaning on eye-tracking data.\n",
    "\n",
    "## Data Loading and Initial Inspection"
   ]
  },
  {
   "cell_type": "code",
   "execution_count": null,
   "id": "96fb8cd7",
   "metadata": {},
   "outputs": [],
   "source": [
    "%load_ext cudf"
   ]
  },
  {
   "cell_type": "markdown",
   "id": "cb1c1905",
   "metadata": {},
   "source": [
    "Import necessary libraries for data manipulation, analysis, and visualization."
   ]
  },
  {
   "cell_type": "code",
   "execution_count": null,
   "id": "161987a6",
   "metadata": {},
   "outputs": [],
   "source": [
    "import numpy as np\n",
    "import pandas as pd\n",
    "import matplotlib.pyplot as plt\n",
    "import seaborn as sns"
   ]
  },
  {
   "cell_type": "markdown",
   "id": "85d14fa1",
   "metadata": {},
   "source": [
    "Import libraries for datashader, which can be used for visualizing large datasets."
   ]
  },
  {
   "cell_type": "code",
   "execution_count": null,
   "id": "6d1e33cf",
   "metadata": {},
   "outputs": [],
   "source": [
    "import datashader as ds\n",
    "import datashader.transfer_functions as tf"
   ]
  },
  {
   "cell_type": "markdown",
   "id": "72a6491d",
   "metadata": {},
   "source": [
    "Set pandas display options to show all columns."
   ]
  },
  {
   "cell_type": "code",
   "execution_count": null,
   "id": "1c25cb43",
   "metadata": {},
   "outputs": [],
   "source": [
    "pd.set_option('display.max_columns', None)"
   ]
  },
  {
   "cell_type": "markdown",
   "id": "697e99df",
   "metadata": {},
   "source": [
    "Load the eye-tracking data from the specified CSV file into a pandas DataFrame."
   ]
  },
  {
   "cell_type": "code",
   "execution_count": null,
   "id": "eabb9841",
   "metadata": {},
   "outputs": [],
   "source": [
    "df_6_EYE = pd.read_csv('data/STData/6/6_EYE.csv')"
   ]
  },
  {
   "cell_type": "markdown",
   "id": "ad5d3425",
   "metadata": {},
   "source": [
    "Display the first few rows of the DataFrame to get an initial look at the data structure and content."
   ]
  },
  {
   "cell_type": "code",
   "execution_count": null,
   "id": "534a47aa",
   "metadata": {},
   "outputs": [],
   "source": [
    "df_6_EYE.head()"
   ]
  },
  {
   "cell_type": "markdown",
   "id": "f70d229d",
   "metadata": {},
   "source": [
    "Check the dimensions (number of rows and columns) of the DataFrame."
   ]
  },
  {
   "cell_type": "code",
   "execution_count": null,
   "id": "f7e29916",
   "metadata": {},
   "outputs": [],
   "source": [
    "df_6_EYE.shape"
   ]
  },
  {
   "cell_type": "markdown",
   "id": "16e42930",
   "metadata": {},
   "source": [
    "List the names of all columns in the DataFrame."
   ]
  },
  {
   "cell_type": "code",
   "execution_count": null,
   "id": "86899aef",
   "metadata": {},
   "outputs": [],
   "source": [
    "df_6_EYE.columns"
   ]
  },
  {
   "cell_type": "markdown",
   "id": "71c9d2be",
   "metadata": {},
   "source": [
    "Display concise information about the DataFrame, including the data types of each column and the number of non-null values. This helps identify columns with missing data."
   ]
  },
  {
   "cell_type": "code",
   "execution_count": null,
   "id": "e3655bb9",
   "metadata": {},
   "outputs": [],
   "source": [
    "df_6_EYE.info()"
   ]
  },
  {
   "cell_type": "markdown",
   "id": "9b966647",
   "metadata": {},
   "source": [
    "Calculate and display the number of missing values in each column."
   ]
  },
  {
   "cell_type": "code",
   "execution_count": null,
   "id": "72b200e5",
   "metadata": {},
   "outputs": [],
   "source": [
    "df_6_EYE.isnull().sum()"
   ]
  },
  {
   "cell_type": "markdown",
   "id": "f622ab97",
   "metadata": {},
   "source": [
    "Visualize the distribution of missing values using a heatmap. This provides a visual representation of which columns have missing data and the extent of missingness."
   ]
  },
  {
   "cell_type": "code",
   "execution_count": null,
   "id": "79607448",
   "metadata": {},
   "outputs": [],
   "source": [
    "plt.figure(figsize=(12,8))\n",
    "sns.heatmap(df_6_EYE.isnull(), cmap='viridis')\n",
    "plt.show()"
   ]
  },
  {
   "cell_type": "markdown",
   "id": "84f61909",
   "metadata": {},
   "source": [
    "# Notes & Observations\n",
    "\n",
    "- We observe many **null** (or missing) values in the `QuestionKey` columns.\n",
    "- The nulls in the `QuestionKey` column may not represent “true” nulls. Rather, they follow interval patterns, suggesting that during those periods no question was displayed.\n",
    "- These missing values in `QuestionKey` require additional investigation and context-aware handling."
   ]
  },
  {
   "cell_type": "markdown",
   "id": "10e29a5a",
   "metadata": {},
   "source": [
    "Display the unique values in the `QuestionKey` column to understand the different types of questions or states recorded."
   ]
  },
  {
   "cell_type": "code",
   "execution_count": null,
   "id": "a2c1aaf6",
   "metadata": {},
   "outputs": [],
   "source": [
    "df_6_EYE['QuestionKey'].unique()"
   ]
  },
  {
   "cell_type": "markdown",
   "id": "8ac78ad9",
   "metadata": {},
   "source": [
    "Convert the `Timestamp` column to datetime objects. This is crucial for any time series analysis or manipulation."
   ]
  },
  {
   "cell_type": "code",
   "execution_count": null,
   "id": "9138da9b",
   "metadata": {},
   "outputs": [],
   "source": [
    "df_6_EYE['Timestamp'] = pd.to_datetime(df_6_EYE['Timestamp'])"
   ]
  },
  {
   "cell_type": "markdown",
   "id": "941b712a",
   "metadata": {},
   "source": [
    "Display the first few rows again to see the effect of the timestamp conversion."
   ]
  },
  {
   "cell_type": "code",
   "execution_count": null,
   "id": "7faf5b6b",
   "metadata": {},
   "outputs": [],
   "source": [
    "df_6_EYE.head(3)"
   ]
  },
  {
   "cell_type": "markdown",
   "id": "3849b57f",
   "metadata": {},
   "source": [
    "Fill the missing values in the `QuestionKey` column with the string 'None'. This helps to explicitly mark periods where no question was active."
   ]
  },
  {
   "cell_type": "code",
   "execution_count": null,
   "id": "feda41cb",
   "metadata": {},
   "outputs": [],
   "source": [
    "df_6_EYE['QuestionKey'].fillna('None', inplace=True)"
   ]
  },
  {
   "cell_type": "markdown",
   "id": "5e94bbf6",
   "metadata": {},
   "source": [
    "Count the occurrences of each unique value in the `QuestionKey` column after filling missing values."
   ]
  },
  {
   "cell_type": "code",
   "execution_count": null,
   "id": "becd614f",
   "metadata": {},
   "outputs": [],
   "source": [
    "df_6_EYE['QuestionKey'].value_counts()"
   ]
  },
  {
   "cell_type": "markdown",
   "id": "9b44018f",
   "metadata": {},
   "source": [
    "Display the heatmap of missing values again to confirm that the missing values in `QuestionKey` have been handled."
   ]
  },
  {
   "cell_type": "code",
   "execution_count": null,
   "id": "1ed2e46b",
   "metadata": {},
   "outputs": [],
   "source": [
    "plt.figure(figsize=(12,8))\n",
    "sns.heatmap(df_6_EYE.isnull(), cmap='viridis')\n",
    "plt.show()"
   ]
  },
  {
   "cell_type": "markdown",
   "id": "00cfae03",
   "metadata": {},
   "source": [
    "Recalculate and display the number of missing values per column to confirm the changes after handling `QuestionKey`."
   ]
  },
  {
   "cell_type": "code",
   "execution_count": null,
   "id": "ba2b8bdd",
   "metadata": {},
   "outputs": [],
   "source": [
    "df_6_EYE.isnull().sum()"
   ]
  },
  {
   "cell_type": "markdown",
   "id": "c5738de2",
   "metadata": {},
   "source": [
    "Drop rows that still contain any missing values. This is done after handling `QuestionKey` separately."
   ]
  },
  {
   "cell_type": "code",
   "execution_count": null,
   "id": "1757a895",
   "metadata": {},
   "outputs": [],
   "source": [
    "df_6_EYE.dropna(inplace=True)"
   ]
  },
  {
   "cell_type": "markdown",
   "id": "b4de09f8",
   "metadata": {},
   "source": [
    "Display the first few rows after dropping rows with missing values."
   ]
  },
  {
   "cell_type": "code",
   "execution_count": null,
   "id": "49be4189",
   "metadata": {},
   "outputs": [],
   "source": [
    "df_6_EYE.head()"
   ]
  },
  {
   "cell_type": "markdown",
   "id": "76e9addf",
   "metadata": {},
   "source": [
    "Display the unique values in the `Row` column."
   ]
  },
  {
   "cell_type": "code",
   "execution_count": null,
   "id": "5e657b42",
   "metadata": {},
   "outputs": [],
   "source": [
    "df_6_EYE['Row'].unique()"
   ]
  },
  {
   "cell_type": "markdown",
   "id": "c013a8e9",
   "metadata": {},
   "source": [
    "Plot a histogram of the `Row` column to visualize its distribution."
   ]
  },
  {
   "cell_type": "code",
   "execution_count": null,
   "id": "0dfbc567",
   "metadata": {},
   "outputs": [],
   "source": [
    "plt.figure(figsize=(8,6))\n",
    "sns.histplot(df_6_EYE['Row'])\n",
    "plt.show()"
   ]
  },
  {
   "cell_type": "markdown",
   "id": "c1f97a62",
   "metadata": {},
   "source": [
    "# Notes & Observations\n",
    "\n",
    "- The `Row` column appears to be a simple row index and does not provide meaningful information relevant to the eye-tracking data itself. Therefore, it can be dropped."
   ]
  },
  {
   "cell_type": "markdown",
   "id": "760237f8",
   "metadata": {},
   "source": [
    "Drop the `Row` column as it is not relevant for the analysis."
   ]
  },
  {
   "cell_type": "code",
   "execution_count": null,
   "id": "65b3b2d3",
   "metadata": {},
   "outputs": [],
   "source": [
    "df_6_EYE.drop('Row', axis=1, inplace=True)"
   ]
  },
  {
   "cell_type": "markdown",
   "id": "a5b59831",
   "metadata": {},
   "source": [
    "Display the unique values in the `ET_ValidityLeft` column."
   ]
  },
  {
   "cell_type": "code",
   "execution_count": null,
   "id": "0ec80de7",
   "metadata": {},
   "outputs": [],
   "source": [
    "df_6_EYE['ET_ValidityLeft'].unique()"
   ]
  },
  {
   "cell_type": "markdown",
   "id": "cc68574c",
   "metadata": {},
   "source": [
    "Count the occurrences of each unique value in the `ET_ValidityLeft` column."
   ]
  },
  {
   "cell_type": "code",
   "execution_count": null,
   "id": "ce6d42ae",
   "metadata": {},
   "outputs": [],
   "source": [
    "df_6_EYE['ET_ValidityLeft'].value_counts()"
   ]
  },
  {
   "cell_type": "markdown",
   "id": "d94b6d69",
   "metadata": {},
   "source": [
    "Display the unique values in the `ET_ValidityRight` column."
   ]
  },
  {
   "cell_type": "code",
   "execution_count": null,
   "id": "2b0aadb4",
   "metadata": {},
   "outputs": [],
   "source": [
    "df_6_EYE['ET_ValidityRight'].unique()"
   ]
  },
  {
   "cell_type": "markdown",
   "id": "195e942e",
   "metadata": {},
   "source": [
    "Count the occurrences of each unique value in the `ET_ValidityRight` column."
   ]
  },
  {
   "cell_type": "code",
   "execution_count": null,
   "id": "6f88520e",
   "metadata": {},
   "outputs": [],
   "source": [
    "df_6_EYE['ET_ValidityRight'].value_counts()"
   ]
  },
  {
   "cell_type": "markdown",
   "id": "45cf6a58",
   "metadata": {},
   "source": [
    "Visualize the counts of valid and invalid data for both left and right eyes using bar plots."
   ]
  },
  {
   "cell_type": "code",
   "execution_count": null,
   "id": "690fea48",
   "metadata": {},
   "outputs": [],
   "source": [
    "plt.figure(figsize=(12, 6))\n",
    "\n",
    "plt.subplot(1, 2, 1)\n",
    "sns.barplot(x=df_6_EYE['ET_ValidityLeft'].value_counts().index, y=df_6_EYE['ET_ValidityLeft'].value_counts().values)\n",
    "plt.title('Count of ET_ValidityLeft')\n",
    "plt.xlabel('Validity')\n",
    "plt.ylabel('Count')\n",
    "\n",
    "\n",
    "plt.subplot(1, 2, 2)\n",
    "sns.barplot(x=df_6_EYE['ET_ValidityRight'].value_counts().index, y=df_6_EYE['ET_ValidityRight'].value_counts().values)\n",
    "plt.title('Count of ET_ValidityRight')\n",
    "plt.xlabel('Validity')\n",
    "plt.ylabel('Count')\n",
    "\n",
    "plt.tight_layout()\n",
    "plt.show()"
   ]
  },
  {
   "cell_type": "markdown",
   "id": "351ac2bd",
   "metadata": {},
   "source": [
    "# Notes & Observations\n",
    "\n",
    "- The `ET_ValidityLeft` and `ET_ValidityRight` columns indicate the validity of the eye-tracking data for the left and right eye, respectively.\n",
    "- Based on the value counts and the bar plots, it appears that a value of `0.0` represents valid eye-tracking data, while a value of `4.0` represents invalid data.\n",
    "- Although the amount of invalid data is relatively small, removing these rows could introduce unwanted patterns or gaps in the time series data.\n",
    "- Therefore, we will keep the data and replace the value `4.0` with `1.0` in both `ET_ValidityLeft` and `ET_ValidityRight` columns. This will indicate to a machine learning model that the eye tracker had invalid data at those specific points in time while maintaining the integrity of the time series."
   ]
  },
  {
   "cell_type": "markdown",
   "id": "64b59b2c",
   "metadata": {},
   "source": [
    "Define a mapping to convert validity values from `0.0` and `4.0` to `0` and `1`."
   ]
  },
  {
   "cell_type": "code",
   "execution_count": null,
   "id": "ca3a6028",
   "metadata": {},
   "outputs": [],
   "source": [
    "validity_map = {4.0: 1.0, 0.0: 0.0}"
   ]
  },
  {
   "cell_type": "markdown",
   "id": "89e88980",
   "metadata": {},
   "source": [
    "Apply the mapping to the `ET_ValidityLeft` and `ET_ValidityRight` columns and convert the data type to integer."
   ]
  },
  {
   "cell_type": "code",
   "execution_count": null,
   "id": "b1d590d0",
   "metadata": {},
   "outputs": [],
   "source": [
    "df_6_EYE['ET_ValidityLeft'] = df_6_EYE['ET_ValidityLeft'].map(validity_map).astype(np.int8)\n",
    "df_6_EYE['ET_ValidityRight'] = df_6_EYE['ET_ValidityRight'].map(validity_map).astype(np.int8)"
   ]
  },
  {
   "cell_type": "markdown",
   "id": "c0b05d4a",
   "metadata": {},
   "source": [
    "Display the first few rows to see the updated validity columns."
   ]
  },
  {
   "cell_type": "code",
   "execution_count": null,
   "id": "c45097f9",
   "metadata": {},
   "outputs": [],
   "source": [
    "df_6_EYE.head(3)"
   ]
  },
  {
   "cell_type": "markdown",
   "id": "b1a38245",
   "metadata": {},
   "source": [
    "Display descriptive statistics for the DataFrame, including count, mean, standard deviation, min, max, and quartiles for numeric columns."
   ]
  },
  {
   "cell_type": "code",
   "execution_count": null,
   "id": "a1304858",
   "metadata": {},
   "outputs": [],
   "source": [
    "df_6_EYE.describe()"
   ]
  },
  {
   "cell_type": "markdown",
   "id": "8b9ecfc2",
   "metadata": {},
   "source": [
    "Check the number of rows where `ET_ValidityLeft` is 1 (invalid data for the left eye)."
   ]
  },
  {
   "cell_type": "code",
   "execution_count": null,
   "id": "b4f67adf",
   "metadata": {},
   "outputs": [],
   "source": [
    "df_6_EYE[df_6_EYE['ET_ValidityLeft'] == 1].shape"
   ]
  },
  {
   "cell_type": "markdown",
   "id": "014fb3f0",
   "metadata": {},
   "source": [
    "Check the number of rows where `ET_ValidityRight` is 1 (invalid data for the right eye)."
   ]
  },
  {
   "cell_type": "code",
   "execution_count": null,
   "id": "9c766e66",
   "metadata": {},
   "outputs": [],
   "source": [
    "df_6_EYE[df_6_EYE['ET_ValidityRight'] == 1].shape"
   ]
  },
  {
   "cell_type": "markdown",
   "id": "19dee2aa",
   "metadata": {},
   "source": [
    "Visualize the distribution of -1 and 1 values across columns using heatmaps. This helps identify columns with placeholder or indicator values."
   ]
  },
  {
   "cell_type": "code",
   "execution_count": null,
   "id": "fa98513d",
   "metadata": {},
   "outputs": [],
   "source": [
    "plt.figure(figsize=(18, 8))\n",
    "\n",
    "plt.subplot(1, 2, 1)\n",
    "sns.heatmap(df_6_EYE == -1, cmap='viridis')\n",
    "plt.title('Heatmap of -1 Values')\n",
    "\n",
    "plt.subplot(1, 2, 2)\n",
    "sns.heatmap(df_6_EYE == 1, cmap='viridis')\n",
    "plt.title('Heatmap of 1 Values')\n",
    "\n",
    "plt.tight_layout()\n",
    "plt.show()"
   ]
  },
  {
   "cell_type": "markdown",
   "id": "13d8c178",
   "metadata": {},
   "source": [
    "Check the number of rows where `ET_PupilLeft` is -1."
   ]
  },
  {
   "cell_type": "code",
   "execution_count": null,
   "id": "3ba6cb12",
   "metadata": {},
   "outputs": [],
   "source": [
    "df_6_EYE[df_6_EYE['ET_PupilLeft'] == -1].shape"
   ]
  },
  {
   "cell_type": "markdown",
   "id": "73021ef2",
   "metadata": {},
   "source": [
    "Check the number of rows where `ET_PupilRight` is -1."
   ]
  },
  {
   "cell_type": "code",
   "execution_count": null,
   "id": "b34e435c",
   "metadata": {},
   "outputs": [],
   "source": [
    "df_6_EYE[df_6_EYE['ET_PupilRight'] == -1].shape"
   ]
  },
  {
   "cell_type": "markdown",
   "id": "28604511",
   "metadata": {},
   "source": [
    "Calculate the ratio of rows with -1 values in the `ET_PupilLeft` column to the total number of rows."
   ]
  },
  {
   "cell_type": "code",
   "execution_count": null,
   "id": "052b4589",
   "metadata": {},
   "outputs": [],
   "source": [
    "df_6_EYE[df_6_EYE['ET_PupilLeft'] == -1].shape[0] / df_6_EYE.shape[0]"
   ]
  },
  {
   "cell_type": "markdown",
   "id": "0dc4d58f",
   "metadata": {},
   "source": [
    "Calculate the ratio of rows with -1 values in the `ET_PupilRight` column to the total number of rows."
   ]
  },
  {
   "cell_type": "code",
   "execution_count": null,
   "id": "51066ba1",
   "metadata": {},
   "outputs": [],
   "source": [
    "df_6_EYE[df_6_EYE['ET_PupilRight'] == -1].shape[0] / df_6_EYE.shape[0]"
   ]
  },
  {
   "cell_type": "markdown",
   "id": "4970d109",
   "metadata": {},
   "source": [
    "Visualize the distribution of -1 values specifically for rows where validity is 1 (invalid data)."
   ]
  },
  {
   "cell_type": "code",
   "execution_count": null,
   "id": "ac47768e",
   "metadata": {},
   "outputs": [],
   "source": [
    "plt.figure(figsize=(18, 8))\n",
    "\n",
    "plt.subplot(1, 2, 1)\n",
    "sns.heatmap(df_6_EYE[df_6_EYE['ET_ValidityLeft'] == 1] == -1, cmap='viridis')\n",
    "plt.title('Heatmap of -1 Values')\n",
    "\n",
    "plt.subplot(1, 2, 2)\n",
    "sns.heatmap(df_6_EYE[df_6_EYE['ET_ValidityRight'] == 1] == -1, cmap='viridis')\n",
    "plt.title('Heatmap of -1 Values')\n",
    "\n",
    "plt.tight_layout()\n",
    "plt.show()"
   ]
  },
  {
   "cell_type": "markdown",
   "id": "48a96b91",
   "metadata": {},
   "source": [
    "# Notes & Observations\n",
    "\n",
    "- The heatmaps reveal the distribution of -1 values across different columns.\n",
    "- It is evident that the `-1` values are not randomly scattered but appear in specific columns, notably `ET_GazeLeftx`, `ET_GazeLefty`, `ET_GazeRightx`, `ET_GazeRighty`, `ET_PupilLeft`, `ET_PupilRight`, `ET_DistanceLeft`, `ET_DistanceRight`, `ET_CameraLeftX`, `ET_CameraLeftY`, `ET_CameraRightX`, and `ET_CameraRightY`.\n",
    "- These `-1` values often coincide with instances where `ET_ValidityLeft` or `ET_ValidityRight` is 1, indicating invalid eye-tracking data. This suggests that `-1` is used as a placeholder for missing or invalid measurements in these columns when the eye tracker is not providing valid data for a particular eye.\n",
    "- Given that over 70% of the data in the `ET_PupilLeft` and `ET_PupilRight` columns is marked as invalid (-1), these columns may not be suitable for analysis and could be considered for dropping."
   ]
  },
  {
   "cell_type": "markdown",
   "id": "1dae8194",
   "metadata": {},
   "source": [
    "Drop the `ET_PupilLeft` and `ET_PupilRight` columns due to the high percentage of invalid data."
   ]
  },
  {
   "cell_type": "code",
   "execution_count": null,
   "id": "6dc6a205",
   "metadata": {},
   "outputs": [],
   "source": [
    "df_6_EYE.drop(['ET_PupilLeft', 'ET_PupilRight'], axis=1, inplace=True)"
   ]
  },
  {
   "cell_type": "markdown",
   "id": "ade1514a",
   "metadata": {},
   "source": [
    "Display the first few rows after dropping the pupil columns."
   ]
  },
  {
   "cell_type": "code",
   "execution_count": null,
   "id": "ef740792",
   "metadata": {},
   "outputs": [],
   "source": [
    "df_6_EYE.head()"
   ]
  },
  {
   "cell_type": "markdown",
   "id": "a3400e4e",
   "metadata": {},
   "source": [
    "Visualize the distribution of -1 and 1 values again after dropping the pupil columns."
   ]
  },
  {
   "cell_type": "code",
   "execution_count": null,
   "id": "271de448",
   "metadata": {},
   "outputs": [],
   "source": [
    "plt.figure(figsize=(18, 8))\n",
    "\n",
    "plt.subplot(1, 2, 1)\n",
    "sns.heatmap(df_6_EYE == -1, cmap='viridis')\n",
    "plt.title('Heatmap of -1 Values')\n",
    "\n",
    "plt.subplot(1, 2, 2)\n",
    "sns.heatmap(df_6_EYE == 1, cmap='viridis')\n",
    "plt.title('Heatmap of -1 Values')\n",
    "\n",
    "plt.tight_layout()\n",
    "plt.show()"
   ]
  },
  {
   "cell_type": "markdown",
   "id": "34655519",
   "metadata": {},
   "source": [
    "Calculate the ratio of valid data points for the left eye."
   ]
  },
  {
   "cell_type": "code",
   "execution_count": null,
   "id": "617ce1b5",
   "metadata": {},
   "outputs": [],
   "source": [
    "valid_left_ratio  = 1 - df_6_EYE['ET_ValidityLeft'].mean()"
   ]
  },
  {
   "cell_type": "markdown",
   "id": "189ad231",
   "metadata": {},
   "source": [
    "Display the ratio of valid data points for the left eye."
   ]
  },
  {
   "cell_type": "code",
   "execution_count": null,
   "id": "a6b43706",
   "metadata": {},
   "outputs": [],
   "source": [
    "valid_left_ratio"
   ]
  },
  {
   "cell_type": "markdown",
   "id": "5bb48295",
   "metadata": {},
   "source": [
    "Calculate the ratio of valid data points for the right eye."
   ]
  },
  {
   "cell_type": "code",
   "execution_count": null,
   "id": "afb4db01",
   "metadata": {},
   "outputs": [],
   "source": [
    "valid_right_ratio = 1 - df_6_EYE['ET_ValidityRight'].mean()"
   ]
  },
  {
   "cell_type": "markdown",
   "id": "a7f7fb68",
   "metadata": {},
   "source": [
    "Display the ratio of valid data points for the right eye."
   ]
  },
  {
   "cell_type": "code",
   "execution_count": null,
   "id": "1df74dc0",
   "metadata": {},
   "outputs": [],
   "source": [
    "valid_right_ratio"
   ]
  },
  {
   "cell_type": "markdown",
   "id": "4c141aae",
   "metadata": {},
   "source": [
    "Display the first few rows of the DataFrame."
   ]
  },
  {
   "cell_type": "code",
   "execution_count": null,
   "id": "d8aefa9f",
   "metadata": {},
   "outputs": [],
   "source": [
    "df_6_EYE.head()"
   ]
  },
  {
   "cell_type": "markdown",
   "id": "c2b96014",
   "metadata": {},
   "source": [
    "Visualize the distributions of numeric columns using histograms with Kernel Density Estimate (KDE) plots. This helps understand the shape and spread of the data in each numeric column."
   ]
  },
  {
   "cell_type": "code",
   "execution_count": null,
   "id": "c11e9cfb",
   "metadata": {},
   "outputs": [],
   "source": [
    "# Select only the numeric columns for plotting histograms, excluding time-related columns\n",
    "numeric_cols = df_6_EYE.select_dtypes(include=np.number).columns\n",
    "cols_to_plot = [col for col in numeric_cols if col not in ['UnixTime']]\n",
    "\n",
    "# Calculate the number of rows and columns for the grid\n",
    "n_cols = 4  # You can adjust the number of columns as needed\n",
    "n_rows = (len(cols_to_plot) + n_cols - 1) // n_cols\n",
    "\n",
    "plt.figure(figsize=(n_cols * 5, n_rows * 4)) # Adjust figure size as needed\n",
    "\n",
    "for i, col in enumerate(cols_to_plot):\n",
    "    plt.subplot(n_rows, n_cols, i + 1)\n",
    "    sns.histplot(df_6_EYE[col], kde=True)\n",
    "    plt.title(f'Distribution of {col}')\n",
    "    plt.xlabel(col)\n",
    "    plt.ylabel('Frequency')\n",
    "\n",
    "plt.tight_layout()\n",
    "plt.show()"
   ]
  },
  {
   "cell_type": "markdown",
   "id": "6e7e3dbc",
   "metadata": {},
   "source": [
    "List the names of the columns in the DataFrame."
   ]
  },
  {
   "cell_type": "code",
   "execution_count": null,
   "id": "462f9478",
   "metadata": {},
   "outputs": [],
   "source": [
    "df_6_EYE.columns"
   ]
  },
  {
   "cell_type": "markdown",
   "id": "51235786",
   "metadata": {},
   "source": [
    "Define a list of columns to be plotted over time."
   ]
  },
  {
   "cell_type": "code",
   "execution_count": null,
   "id": "60864134",
   "metadata": {},
   "outputs": [],
   "source": [
    "cols = ['ET_GazeLeftx', 'ET_GazeLefty',\n",
    "       'ET_GazeRightx', 'ET_GazeRighty', 'ET_TimeSignal', 'ET_DistanceLeft',\n",
    "       'ET_DistanceRight', 'ET_CameraLeftX', 'ET_CameraLeftY',\n",
    "       'ET_CameraRightX', 'ET_CameraRightY', 'ET_ValidityLeft',\n",
    "       'ET_ValidityRight']"
   ]
  },
  {
   "cell_type": "markdown",
   "id": "205b04fe",
   "metadata": {},
   "source": [
    "Plot each of the selected columns against the timestamp to visualize their trends and patterns over time. Markdown cells are added before each plot for better readability."
   ]
  },
  {
   "cell_type": "code",
   "execution_count": null,
   "id": "96245a97",
   "metadata": {},
   "outputs": [],
   "source": [
    "from IPython.display import display, Markdown\n",
    "\n",
    "for col in cols:\n",
    "    # Add a markdown cell before each plot for better separation and labeling\n",
    "    display(Markdown(f'### {col} over Time'))\n",
    "    plt.figure(figsize=(16, 10))\n",
    "    plt.plot(df_6_EYE['Timestamp'], df_6_EYE[col])\n",
    "    plt.xlabel(\"Timestamp\") # Add x-axis label\n",
    "    plt.ylabel(col) # Add y-axis label\n",
    "    plt.show()"
   ]
  },
  {
   "cell_type": "markdown",
   "id": "80fe5341",
   "metadata": {},
   "source": [
    "Visualize the distributions of numeric columns using boxplots. This helps identify potential outliers and the spread of the data."
   ]
  },
  {
   "cell_type": "code",
   "execution_count": null,
   "id": "2df881ac",
   "metadata": {},
   "outputs": [],
   "source": [
    "# Select only the numeric columns for plotting histograms, excluding time-related columns\n",
    "numeric_cols = df_6_EYE.select_dtypes(include=np.number).columns\n",
    "\n",
    "# Calculate the number of rows and columns for the grid\n",
    "n_cols = 4  # You can adjust the number of columns as needed\n",
    "n_rows = (len(numeric_cols) + n_cols - 1) // n_cols\n",
    "\n",
    "plt.figure(figsize=(n_cols * 5, n_rows * 4)) # Adjust figure size as needed\n",
    "\n",
    "for i, col in enumerate(numeric_cols):\n",
    "    plt.subplot(n_rows, n_cols, i + 1)\n",
    "    sns.boxplot(df_6_EYE[col])\n",
    "    plt.title(f'Boxplot of {col}')\n",
    "    plt.xlabel(col)\n",
    "\n",
    "plt.tight_layout()\n",
    "plt.show()"
   ]
  },
  {
   "cell_type": "markdown",
   "id": "e74b5f91",
   "metadata": {},
   "source": [
    "Replace the placeholder value -1 with NaN (Not a Number) in the DataFrame. This is done before imputation."
   ]
  },
  {
   "cell_type": "code",
   "execution_count": null,
   "id": "b9e1faa5",
   "metadata": {},
   "outputs": [],
   "source": [
    "df_6_EYE.replace({-1: np.nan}, inplace=True)"
   ]
  },
  {
   "cell_type": "markdown",
   "id": "790d15bf",
   "metadata": {},
   "source": [
    "Impute the missing values (NaN) in the numeric columns with the mean of each column."
   ]
  },
  {
   "cell_type": "code",
   "execution_count": null,
   "id": "1c0e6ddc",
   "metadata": {},
   "outputs": [],
   "source": [
    "numeric_cols = df_6_EYE.select_dtypes(include=np.number).columns\n",
    "\n",
    "for col in numeric_cols:\n",
    "    df_6_EYE[col].fillna(df_6_EYE[col].mean(), inplace=True)"
   ]
  },
  {
   "cell_type": "markdown",
   "id": "24115828",
   "metadata": {},
   "source": [
    "Display the first few rows after imputing missing values."
   ]
  },
  {
   "cell_type": "code",
   "execution_count": null,
   "id": "0145a1eb",
   "metadata": {},
   "outputs": [],
   "source": [
    "df_6_EYE.head()"
   ]
  },
  {
   "cell_type": "markdown",
   "id": "08c6911c",
   "metadata": {},
   "source": [
    "Visualize the distributions of numeric columns again using histograms with KDE plots after imputation. This helps assess the impact of imputation on the data distributions."
   ]
  },
  {
   "cell_type": "code",
   "execution_count": null,
   "id": "7fd1b5bf",
   "metadata": {},
   "outputs": [],
   "source": [
    "# Select only the numeric columns for plotting histograms, excluding time-related columns\n",
    "numeric_cols = df_6_EYE.select_dtypes(include=np.number).columns\n",
    "cols_to_plot = [col for col in numeric_cols if col not in ['UnixTime']]\n",
    "\n",
    "# Calculate the number of rows and columns for the grid\n",
    "n_cols = 4  # You can adjust the number of columns as needed\n",
    "n_rows = (len(cols_to_plot) + n_cols - 1) // n_cols\n",
    "\n",
    "plt.figure(figsize=(n_cols * 5, n_rows * 4)) # Adjust figure size as needed\n",
    "\n",
    "for i, col in enumerate(cols_to_plot):\n",
    "    plt.subplot(n_rows, n_cols, i + 1)\n",
    "    sns.histplot(df_6_EYE[col], kde=True)\n",
    "    plt.title(f'Distribution of {col}')\n",
    "    plt.xlabel(col)\n",
    "    plt.ylabel('Frequency')\n",
    "\n",
    "plt.tight_layout()\n",
    "plt.show()"
   ]
  },
  {
   "cell_type": "code",
   "execution_count": null,
   "id": "1d5646e5",
   "metadata": {},
   "outputs": [],
   "source": []
  },
  {
   "cell_type": "markdown",
   "id": "9ab05b1a",
   "metadata": {},
   "source": [
    "## Student 7"
   ]
  },
  {
   "cell_type": "code",
   "execution_count": null,
   "id": "67deac42",
   "metadata": {},
   "outputs": [],
   "source": [
    "%load_ext cudf"
   ]
  },
  {
   "cell_type": "code",
   "execution_count": null,
   "id": "a76f53aa",
   "metadata": {},
   "outputs": [],
   "source": [
    "import numpy as np\n",
    "import pandas as pd\n",
    "import matplotlib.pyplot as plt\n",
    "import seaborn as sns"
   ]
  },
  {
   "cell_type": "code",
   "execution_count": null,
   "id": "ce26f645",
   "metadata": {},
   "outputs": [],
   "source": [
    "import datashader as ds\n",
    "import datashader.transfer_functions as tf"
   ]
  },
  {
   "cell_type": "code",
   "execution_count": null,
   "id": "65831dde",
   "metadata": {},
   "outputs": [],
   "source": [
    "pd.set_option('display.max_columns', None)"
   ]
  },
  {
   "cell_type": "code",
   "execution_count": null,
   "id": "b2de1b57",
   "metadata": {},
   "outputs": [],
   "source": [
    "df_7_EYE = pd.read_csv('data/STData/7/7_EYE.csv')"
   ]
  },
  {
   "cell_type": "code",
   "execution_count": null,
   "id": "789c7218",
   "metadata": {},
   "outputs": [],
   "source": [
    "df_7_EYE.head()"
   ]
  },
  {
   "cell_type": "code",
   "execution_count": null,
   "id": "17e13703",
   "metadata": {},
   "outputs": [],
   "source": [
    "df_7_EYE.shape"
   ]
  },
  {
   "cell_type": "code",
   "execution_count": null,
   "id": "59b5a874",
   "metadata": {},
   "outputs": [],
   "source": [
    "df_7_EYE.columns"
   ]
  },
  {
   "cell_type": "code",
   "execution_count": null,
   "id": "3fb1f5c6",
   "metadata": {},
   "outputs": [],
   "source": [
    "df_7_EYE.info()"
   ]
  },
  {
   "cell_type": "code",
   "execution_count": null,
   "id": "e1773cae",
   "metadata": {},
   "outputs": [],
   "source": [
    "df_7_EYE.isnull().sum()"
   ]
  },
  {
   "cell_type": "code",
   "execution_count": null,
   "id": "34f228aa",
   "metadata": {},
   "outputs": [],
   "source": [
    "plt.figure(figsize=(12,8))\n",
    "sns.heatmap(df_7_EYE.isnull(), cmap='viridis')\n",
    "plt.show()"
   ]
  },
  {
   "cell_type": "markdown",
   "id": "1f3221e8",
   "metadata": {},
   "source": [
    "# Notes & Observations\n",
    "\n",
    "- We observe many **null** (or missing) values in the `QuestionKey` columns.  \n",
    "- The nulls in the `QuestionKey` column may not represent “true” nulls. Rather, they follow interval patterns, suggesting that during those periods no question was displayed.  \n",
    "- These missing values in `QuestionKey` require additional investigation and context-aware handling.  "
   ]
  },
  {
   "cell_type": "code",
   "execution_count": null,
   "id": "04b833c8",
   "metadata": {},
   "outputs": [],
   "source": [
    "df_7_EYE['QuestionKey'].unique()"
   ]
  },
  {
   "cell_type": "code",
   "execution_count": null,
   "id": "f58a0a16",
   "metadata": {},
   "outputs": [],
   "source": [
    "df_7_EYE['Timestamp'] = pd.to_datetime(df_7_EYE['Timestamp'])"
   ]
  },
  {
   "cell_type": "code",
   "execution_count": null,
   "id": "855d8d10",
   "metadata": {},
   "outputs": [],
   "source": [
    "df_7_EYE.head(3)"
   ]
  },
  {
   "cell_type": "code",
   "execution_count": null,
   "id": "4d23b858",
   "metadata": {},
   "outputs": [],
   "source": [
    "df_7_EYE['QuestionKey'].fillna('None', inplace=True)"
   ]
  },
  {
   "cell_type": "code",
   "execution_count": null,
   "id": "624a720a",
   "metadata": {},
   "outputs": [],
   "source": [
    "df_7_EYE['QuestionKey'].value_counts()"
   ]
  },
  {
   "cell_type": "code",
   "execution_count": null,
   "id": "d5f81bf5",
   "metadata": {},
   "outputs": [],
   "source": [
    "plt.figure(figsize=(12,8))\n",
    "sns.heatmap(df_7_EYE.isnull(), cmap='viridis')\n",
    "plt.show()"
   ]
  },
  {
   "cell_type": "code",
   "execution_count": null,
   "id": "e10c9bec",
   "metadata": {},
   "outputs": [],
   "source": [
    "df_7_EYE.isnull().sum()"
   ]
  },
  {
   "cell_type": "code",
   "execution_count": null,
   "id": "0a2f6278",
   "metadata": {},
   "outputs": [],
   "source": [
    "df_7_EYE.dropna(inplace=True)"
   ]
  },
  {
   "cell_type": "code",
   "execution_count": null,
   "id": "46fab0b9",
   "metadata": {},
   "outputs": [],
   "source": [
    "df_7_EYE.head()"
   ]
  },
  {
   "cell_type": "code",
   "execution_count": null,
   "id": "0c3c6ce0",
   "metadata": {},
   "outputs": [],
   "source": [
    "df_7_EYE['Row'].unique()"
   ]
  },
  {
   "cell_type": "code",
   "execution_count": null,
   "id": "fe9b084d",
   "metadata": {},
   "outputs": [],
   "source": [
    "plt.figure(figsize=(8,6))\n",
    "sns.histplot(df_7_EYE['Row'])\n",
    "plt.show()"
   ]
  },
  {
   "cell_type": "markdown",
   "id": "5a513844",
   "metadata": {},
   "source": [
    "# Notes & Observations\n",
    "\n",
    "- The `Row` column appears to be a simple row index and does not provide meaningful information relevant to the eye-tracking data itself. Therefore, it can be dropped."
   ]
  },
  {
   "cell_type": "code",
   "execution_count": null,
   "id": "6216876e",
   "metadata": {},
   "outputs": [],
   "source": [
    "df_7_EYE.drop('Row', axis=1, inplace=True)"
   ]
  },
  {
   "cell_type": "code",
   "execution_count": null,
   "id": "40368ae0",
   "metadata": {},
   "outputs": [],
   "source": [
    "df_7_EYE['ET_ValidityLeft'].unique()"
   ]
  },
  {
   "cell_type": "code",
   "execution_count": null,
   "id": "9956c5b1",
   "metadata": {},
   "outputs": [],
   "source": [
    "df_7_EYE['ET_ValidityLeft'].value_counts()"
   ]
  },
  {
   "cell_type": "code",
   "execution_count": null,
   "id": "693f6a1d",
   "metadata": {},
   "outputs": [],
   "source": [
    "df_7_EYE['ET_ValidityRight'].unique()"
   ]
  },
  {
   "cell_type": "code",
   "execution_count": null,
   "id": "15186bac",
   "metadata": {},
   "outputs": [],
   "source": [
    "df_7_EYE['ET_ValidityRight'].value_counts()"
   ]
  },
  {
   "cell_type": "code",
   "execution_count": null,
   "id": "4dadd901",
   "metadata": {},
   "outputs": [],
   "source": [
    "plt.figure(figsize=(12, 6))\n",
    "\n",
    "plt.subplot(1, 2, 1)\n",
    "sns.barplot(x=df_7_EYE['ET_ValidityLeft'].value_counts().index, y=df_7_EYE['ET_ValidityLeft'].value_counts().values)\n",
    "plt.title('Count of ET_ValidityLeft')\n",
    "plt.xlabel('Validity')\n",
    "plt.ylabel('Count')\n",
    "\n",
    "\n",
    "plt.subplot(1, 2, 2)\n",
    "sns.barplot(x=df_7_EYE['ET_ValidityRight'].value_counts().index, y=df_7_EYE['ET_ValidityRight'].value_counts().values)\n",
    "plt.title('Count of ET_ValidityRight')\n",
    "plt.xlabel('Validity')\n",
    "plt.ylabel('Count')\n",
    "\n",
    "plt.tight_layout()\n",
    "plt.show()"
   ]
  },
  {
   "cell_type": "markdown",
   "id": "836799b7",
   "metadata": {},
   "source": [
    "# Notes & Observations\n",
    "\n",
    "- The `ET_ValidityLeft` and `ET_ValidityRight` columns indicate the validity of the eye-tracking data for the left and right eye, respectively.\n",
    "- Based on the value counts and the bar plots, it appears that a value of `0.0` represents valid eye-tracking data, while a value of `4.0` represents invalid data.\n",
    "- Although the amount of invalid data is relatively small, removing these rows could introduce unwanted patterns or gaps in the time series data.\n",
    "- Therefore, we will keep the data and replace the value `4.0` with `1.0` in both `ET_ValidityLeft` and `ET_ValidityRight` columns. This will indicate to a machine learning model that the eye tracker had invalid data at those specific points in time while maintaining the integrity of the time series."
   ]
  },
  {
   "cell_type": "code",
   "execution_count": null,
   "id": "a17986c8",
   "metadata": {},
   "outputs": [],
   "source": [
    "validity_map = {4.0: 1.0, 0.0: 0.0}"
   ]
  },
  {
   "cell_type": "code",
   "execution_count": null,
   "id": "6bbd74d0",
   "metadata": {},
   "outputs": [],
   "source": [
    "df_7_EYE['ET_ValidityLeft'] = df_7_EYE['ET_ValidityLeft'].map(validity_map).astype(np.int8)\n",
    "df_7_EYE['ET_ValidityRight'] = df_7_EYE['ET_ValidityRight'].map(validity_map).astype(np.int8)"
   ]
  },
  {
   "cell_type": "code",
   "execution_count": null,
   "id": "00937d29",
   "metadata": {},
   "outputs": [],
   "source": [
    "df_7_EYE.head(3)"
   ]
  },
  {
   "cell_type": "code",
   "execution_count": null,
   "id": "090c91fa",
   "metadata": {},
   "outputs": [],
   "source": [
    "df_7_EYE.describe()"
   ]
  },
  {
   "cell_type": "code",
   "execution_count": null,
   "id": "2b347e8c",
   "metadata": {},
   "outputs": [],
   "source": [
    "df_7_EYE[df_7_EYE['ET_ValidityLeft'] == 1].shape"
   ]
  },
  {
   "cell_type": "code",
   "execution_count": null,
   "id": "3d948578",
   "metadata": {},
   "outputs": [],
   "source": [
    "df_7_EYE[df_7_EYE['ET_ValidityRight'] == 1].shape"
   ]
  },
  {
   "cell_type": "code",
   "execution_count": null,
   "id": "0dc7d15e",
   "metadata": {},
   "outputs": [],
   "source": [
    "plt.figure(figsize=(18, 8))\n",
    "\n",
    "plt.subplot(1, 2, 1)\n",
    "sns.heatmap(df_7_EYE == -1, cmap='viridis')\n",
    "plt.title('Heatmap of -1 Values')\n",
    "\n",
    "plt.subplot(1, 2, 2)\n",
    "sns.heatmap(df_7_EYE == 1, cmap='viridis')\n",
    "plt.title('Heatmap of 1 Values')\n",
    "\n",
    "plt.tight_layout()\n",
    "plt.show()"
   ]
  },
  {
   "cell_type": "code",
   "execution_count": null,
   "id": "2bce8175",
   "metadata": {},
   "outputs": [],
   "source": [
    "df_7_EYE[df_7_EYE['ET_PupilLeft'] == -1].shape"
   ]
  },
  {
   "cell_type": "code",
   "execution_count": null,
   "id": "31afb03e",
   "metadata": {},
   "outputs": [],
   "source": [
    "df_7_EYE[df_7_EYE['ET_PupilRight'] == -1].shape"
   ]
  },
  {
   "cell_type": "code",
   "execution_count": null,
   "id": "d8f024d9",
   "metadata": {},
   "outputs": [],
   "source": [
    "df_7_EYE[df_7_EYE['ET_PupilLeft'] == -1].shape[0] / df_7_EYE.shape[0]"
   ]
  },
  {
   "cell_type": "code",
   "execution_count": null,
   "id": "66f29e31",
   "metadata": {},
   "outputs": [],
   "source": [
    "df_7_EYE[df_7_EYE['ET_PupilRight'] == -1].shape[0] / df_7_EYE.shape[0]"
   ]
  },
  {
   "cell_type": "code",
   "execution_count": null,
   "id": "63407f43",
   "metadata": {},
   "outputs": [],
   "source": [
    "plt.figure(figsize=(18, 8))\n",
    "\n",
    "plt.subplot(1, 2, 1)\n",
    "sns.heatmap(df_7_EYE[df_7_EYE['ET_ValidityLeft'] == 1] == -1, cmap='viridis')\n",
    "plt.title('Heatmap of -1 Values')\n",
    "\n",
    "plt.subplot(1, 2, 2)\n",
    "sns.heatmap(df_7_EYE[df_7_EYE['ET_ValidityRight'] == 1] == -1, cmap='viridis')\n",
    "plt.title('Heatmap of -1 Values')\n",
    "\n",
    "plt.tight_layout()\n",
    "plt.show()"
   ]
  },
  {
   "cell_type": "markdown",
   "id": "d8b6a01c",
   "metadata": {},
   "source": [
    "# Notes & Observations\n",
    "\n",
    "- The heatmaps reveal the distribution of -1 values across different columns.\n",
    "- It is evident that the `-1` values are not randomly scattered but appear in specific columns, notably `ET_GazeLeftx`, `ET_GazeLefty`, `ET_GazeRightx`, `ET_GazeRighty`, `ET_PupilLeft`, `ET_PupilRight`, `ET_DistanceLeft`, `ET_DistanceRight`, `ET_CameraLeftX`, `ET_CameraLeftY`, `ET_CameraRightX`, and `ET_CameraRightY`.\n",
    "- These `-1` values often coincide with instances where `ET_ValidityLeft` or `ET_ValidityRight` is 1, indicating invalid eye-tracking data. This suggests that `-1` is used as a placeholder for missing or invalid measurements in these columns when the eye tracker is not providing valid data for a particular eye.\n",
    "- Given that over 70% of the data in the `ET_PupilLeft` and `ET_PupilRight` columns is marked as invalid (-1), these columns may not be suitable for analysis and could be considered for dropping."
   ]
  },
  {
   "cell_type": "code",
   "execution_count": null,
   "id": "3759ae68",
   "metadata": {},
   "outputs": [],
   "source": [
    "df_7_EYE.drop(['ET_PupilLeft', 'ET_PupilRight'], axis=1, inplace=True)"
   ]
  },
  {
   "cell_type": "code",
   "execution_count": null,
   "id": "e1adeef0",
   "metadata": {},
   "outputs": [],
   "source": [
    "df_7_EYE.head()"
   ]
  },
  {
   "cell_type": "code",
   "execution_count": null,
   "id": "787dca3a",
   "metadata": {},
   "outputs": [],
   "source": [
    "plt.figure(figsize=(18, 8))\n",
    "\n",
    "plt.subplot(1, 2, 1)\n",
    "sns.heatmap(df_7_EYE == -1, cmap='viridis')\n",
    "plt.title('Heatmap of -1 Values')\n",
    "\n",
    "plt.subplot(1, 2, 2)\n",
    "sns.heatmap(df_7_EYE == 1, cmap='viridis')\n",
    "plt.title('Heatmap of -1 Values')\n",
    "\n",
    "plt.tight_layout()\n",
    "plt.show()"
   ]
  },
  {
   "cell_type": "code",
   "execution_count": null,
   "id": "5d7d17d8",
   "metadata": {},
   "outputs": [],
   "source": [
    "valid_left_ratio  = 1 - df_7_EYE['ET_ValidityLeft'].mean()\n",
    "valid_right_ratio = 1 - df_7_EYE['ET_ValidityRight'].mean()"
   ]
  },
  {
   "cell_type": "code",
   "execution_count": null,
   "id": "1730edcb",
   "metadata": {},
   "outputs": [],
   "source": [
    "valid_left_ratio"
   ]
  },
  {
   "cell_type": "code",
   "execution_count": null,
   "id": "3f255bfd",
   "metadata": {},
   "outputs": [],
   "source": [
    "valid_right_ratio"
   ]
  },
  {
   "cell_type": "code",
   "execution_count": null,
   "id": "749f41c5",
   "metadata": {},
   "outputs": [],
   "source": [
    "df_7_EYE.head()"
   ]
  },
  {
   "cell_type": "code",
   "execution_count": null,
   "id": "1855fea8",
   "metadata": {},
   "outputs": [],
   "source": [
    "# Select only the numeric columns for plotting histograms, excluding time-related columns\n",
    "numeric_cols = df_7_EYE.select_dtypes(include=np.number).columns\n",
    "cols_to_plot = [col for col in numeric_cols if col not in ['UnixTime']]\n",
    "\n",
    "# Calculate the number of rows and columns for the grid\n",
    "n_cols = 4  # You can adjust the number of columns as needed\n",
    "n_rows = (len(cols_to_plot) + n_cols - 1) // n_cols\n",
    "\n",
    "plt.figure(figsize=(n_cols * 5, n_rows * 4)) # Adjust figure size as needed\n",
    "\n",
    "for i, col in enumerate(cols_to_plot):\n",
    "    plt.subplot(n_rows, n_cols, i + 1)\n",
    "    sns.histplot(df_7_EYE[col], kde=True)\n",
    "    plt.title(f'Distribution of {col}')\n",
    "    plt.xlabel(col)\n",
    "    plt.ylabel('Frequency')\n",
    "\n",
    "plt.tight_layout()\n",
    "plt.show()"
   ]
  },
  {
   "cell_type": "code",
   "execution_count": null,
   "id": "f5266a21",
   "metadata": {},
   "outputs": [],
   "source": [
    "df_7_EYE.columns"
   ]
  },
  {
   "cell_type": "code",
   "execution_count": null,
   "id": "15b18c82",
   "metadata": {},
   "outputs": [],
   "source": [
    "cols = ['ET_GazeLeftx', 'ET_GazeLefty',\n",
    "       'ET_GazeRightx', 'ET_GazeRighty', 'ET_TimeSignal', 'ET_DistanceLeft',\n",
    "       'ET_DistanceRight', 'ET_CameraLeftX', 'ET_CameraLeftY',\n",
    "       'ET_CameraRightX', 'ET_CameraRightY', 'ET_ValidityLeft',\n",
    "       'ET_ValidityRight']"
   ]
  },
  {
   "cell_type": "code",
   "execution_count": null,
   "id": "2782466f",
   "metadata": {},
   "outputs": [],
   "source": [
    "from IPython.display import display, Markdown\n",
    "\n",
    "for col in cols:\n",
    "    # Add a markdown cell before each plot for better separation and labeling\n",
    "    display(Markdown(f'### {col} over Time'))\n",
    "    plt.figure(figsize=(16, 10))\n",
    "    plt.plot(df_7_EYE['Timestamp'], df_7_EYE[col])\n",
    "    plt.xlabel(\"Timestamp\") # Add x-axis label\n",
    "    plt.ylabel(col) # Add y-axis label\n",
    "    plt.show()"
   ]
  },
  {
   "cell_type": "code",
   "execution_count": null,
   "id": "ee9cbb0a",
   "metadata": {},
   "outputs": [],
   "source": [
    "# Select only the numeric columns for plotting histograms, excluding time-related columns\n",
    "numeric_cols = df_7_EYE.select_dtypes(include=np.number).columns\n",
    "\n",
    "# Calculate the number of rows and columns for the grid\n",
    "n_cols = 4  # You can adjust the number of columns as needed\n",
    "n_rows = (len(numeric_cols) + n_cols - 1) // n_cols\n",
    "\n",
    "plt.figure(figsize=(n_cols * 5, n_rows * 4)) # Adjust figure size as needed\n",
    "\n",
    "for i, col in enumerate(numeric_cols):\n",
    "    plt.subplot(n_rows, n_cols, i + 1)\n",
    "    sns.boxplot(df_7_EYE[col])\n",
    "    plt.title(f'Boxplot of {col}')\n",
    "    plt.xlabel(col)\n",
    "\n",
    "plt.tight_layout()\n",
    "plt.show()"
   ]
  },
  {
   "cell_type": "code",
   "execution_count": null,
   "id": "095b9b76",
   "metadata": {},
   "outputs": [],
   "source": [
    "df_7_EYE.replace({-1: np.nan}, inplace=True)"
   ]
  },
  {
   "cell_type": "code",
   "execution_count": null,
   "id": "b92c1a3d",
   "metadata": {},
   "outputs": [],
   "source": [
    "numeric_cols = df_7_EYE.select_dtypes(include=np.number).columns\n",
    "\n",
    "for col in numeric_cols:\n",
    "    df_7_EYE[col].fillna(df_7_EYE[col].mean(), inplace=True)"
   ]
  },
  {
   "cell_type": "code",
   "execution_count": null,
   "id": "89100574",
   "metadata": {},
   "outputs": [],
   "source": [
    "df_7_EYE.head()"
   ]
  },
  {
   "cell_type": "code",
   "execution_count": null,
   "id": "78d6872d",
   "metadata": {},
   "outputs": [],
   "source": [
    "# Select only the numeric columns for plotting histograms, excluding time-related columns\n",
    "numeric_cols = df_7_EYE.select_dtypes(include=np.number).columns\n",
    "cols_to_plot = [col for col in numeric_cols if col not in ['UnixTime']]\n",
    "\n",
    "# Calculate the number of rows and columns for the grid\n",
    "n_cols = 4  # You can adjust the number of columns as needed\n",
    "n_rows = (len(cols_to_plot) + n_cols - 1) // n_cols\n",
    "\n",
    "plt.figure(figsize=(n_cols * 5, n_rows * 4)) # Adjust figure size as needed\n",
    "\n",
    "for i, col in enumerate(cols_to_plot):\n",
    "    plt.subplot(n_rows, n_cols, i + 1)\n",
    "    sns.histplot(df_7_EYE[col], kde=True)\n",
    "    plt.title(f'Distribution of {col}')\n",
    "    plt.xlabel(col)\n",
    "    plt.ylabel('Frequency')\n",
    "\n",
    "plt.tight_layout()\n",
    "plt.show()"
   ]
  },
  {
   "cell_type": "code",
   "execution_count": null,
   "id": "c1c53111",
   "metadata": {},
   "outputs": [],
   "source": []
  },
  {
   "cell_type": "code",
   "execution_count": null,
   "id": "adf2c98e",
   "metadata": {},
   "outputs": [],
   "source": []
  },
  {
   "cell_type": "code",
   "execution_count": null,
   "id": "a25b9772",
   "metadata": {},
   "outputs": [],
   "source": []
  },
  {
   "cell_type": "code",
   "execution_count": null,
   "id": "60d2cc17",
   "metadata": {},
   "outputs": [],
   "source": []
  },
  {
   "cell_type": "code",
   "execution_count": null,
   "id": "2cf9d1cf",
   "metadata": {},
   "outputs": [],
   "source": []
  },
  {
   "cell_type": "code",
   "execution_count": null,
   "id": "79bc4490",
   "metadata": {},
   "outputs": [],
   "source": []
  },
  {
   "cell_type": "code",
   "execution_count": null,
   "id": "25658301",
   "metadata": {},
   "outputs": [],
   "source": []
  },
  {
   "cell_type": "code",
   "execution_count": null,
   "id": "5e835843",
   "metadata": {},
   "outputs": [],
   "source": []
  },
  {
   "cell_type": "code",
   "execution_count": null,
   "id": "34ce7122",
   "metadata": {},
   "outputs": [],
   "source": []
  },
  {
   "cell_type": "code",
   "execution_count": null,
   "id": "467c5953",
   "metadata": {},
   "outputs": [],
   "source": []
  },
  {
   "cell_type": "code",
   "execution_count": null,
   "id": "75e3debe",
   "metadata": {},
   "outputs": [],
   "source": []
  },
  {
   "cell_type": "code",
   "execution_count": null,
   "id": "7cef2e2f",
   "metadata": {},
   "outputs": [],
   "source": []
  },
  {
   "cell_type": "markdown",
   "id": "bf2f1c9e",
   "metadata": {},
   "source": [
    "# Eye Tracking Data Analysis\n",
    "\n",
    "This notebook performs exploratory data analysis and cleaning on eye-tracking data.\n",
    "\n",
    "## Data Loading and Initial Inspection"
   ]
  },
  {
   "cell_type": "code",
   "execution_count": null,
   "id": "dd868f50",
   "metadata": {},
   "outputs": [],
   "source": [
    "%load_ext cudf"
   ]
  },
  {
   "cell_type": "markdown",
   "id": "c9daa992",
   "metadata": {},
   "source": [
    "Import necessary libraries for data manipulation, analysis, and visualization."
   ]
  },
  {
   "cell_type": "code",
   "execution_count": null,
   "id": "c3fd21d9",
   "metadata": {},
   "outputs": [],
   "source": [
    "import numpy as np\n",
    "import pandas as pd\n",
    "import matplotlib.pyplot as plt\n",
    "import seaborn as sns"
   ]
  },
  {
   "cell_type": "markdown",
   "id": "6cb26bfa",
   "metadata": {},
   "source": [
    "Import libraries for datashader, which can be used for visualizing large datasets."
   ]
  },
  {
   "cell_type": "code",
   "execution_count": null,
   "id": "7b2d2177",
   "metadata": {},
   "outputs": [],
   "source": [
    "import datashader as ds\n",
    "import datashader.transfer_functions as tf"
   ]
  },
  {
   "cell_type": "markdown",
   "id": "658e5914",
   "metadata": {},
   "source": [
    "Set pandas display options to show all columns."
   ]
  },
  {
   "cell_type": "code",
   "execution_count": null,
   "id": "2835ab74",
   "metadata": {},
   "outputs": [],
   "source": [
    "pd.set_option('display.max_columns', None)"
   ]
  },
  {
   "cell_type": "markdown",
   "id": "b890cb54",
   "metadata": {},
   "source": [
    "Load the eye-tracking data from the specified CSV file into a pandas DataFrame."
   ]
  },
  {
   "cell_type": "code",
   "execution_count": null,
   "id": "7066320a",
   "metadata": {},
   "outputs": [],
   "source": [
    "df_7_EYE = pd.read_csv('data/STData/7/7_EYE.csv')"
   ]
  },
  {
   "cell_type": "markdown",
   "id": "40b9b11a",
   "metadata": {},
   "source": [
    "Display the first few rows of the DataFrame to get an initial look at the data structure and content."
   ]
  },
  {
   "cell_type": "code",
   "execution_count": null,
   "id": "e323279e",
   "metadata": {},
   "outputs": [],
   "source": [
    "df_7_EYE.head()"
   ]
  },
  {
   "cell_type": "markdown",
   "id": "1f2a5da4",
   "metadata": {},
   "source": [
    "Check the dimensions (number of rows and columns) of the DataFrame."
   ]
  },
  {
   "cell_type": "code",
   "execution_count": null,
   "id": "64ab4fbe",
   "metadata": {},
   "outputs": [],
   "source": [
    "df_7_EYE.shape"
   ]
  },
  {
   "cell_type": "markdown",
   "id": "22e8e712",
   "metadata": {},
   "source": [
    "List the names of all columns in the DataFrame."
   ]
  },
  {
   "cell_type": "code",
   "execution_count": null,
   "id": "6a756f45",
   "metadata": {},
   "outputs": [],
   "source": [
    "df_7_EYE.columns"
   ]
  },
  {
   "cell_type": "markdown",
   "id": "ab65951a",
   "metadata": {},
   "source": [
    "Display concise information about the DataFrame, including the data types of each column and the number of non-null values. This helps identify columns with missing data."
   ]
  },
  {
   "cell_type": "code",
   "execution_count": null,
   "id": "aee7f7e5",
   "metadata": {},
   "outputs": [],
   "source": [
    "df_7_EYE.info()"
   ]
  },
  {
   "cell_type": "markdown",
   "id": "5c374f9b",
   "metadata": {},
   "source": [
    "Calculate and display the number of missing values in each column."
   ]
  },
  {
   "cell_type": "code",
   "execution_count": null,
   "id": "40050763",
   "metadata": {},
   "outputs": [],
   "source": [
    "df_7_EYE.isnull().sum()"
   ]
  },
  {
   "cell_type": "markdown",
   "id": "681d534c",
   "metadata": {},
   "source": [
    "Visualize the distribution of missing values using a heatmap. This provides a visual representation of which columns have missing data and the extent of missingness."
   ]
  },
  {
   "cell_type": "code",
   "execution_count": null,
   "id": "cfcb7d57",
   "metadata": {},
   "outputs": [],
   "source": [
    "plt.figure(figsize=(12,8))\n",
    "sns.heatmap(df_7_EYE.isnull(), cmap='viridis')\n",
    "plt.show()"
   ]
  },
  {
   "cell_type": "markdown",
   "id": "83e5d908",
   "metadata": {},
   "source": [
    "# Notes & Observations\n",
    "\n",
    "- We observe many **null** (or missing) values in the `QuestionKey` columns.\n",
    "- The nulls in the `QuestionKey` column may not represent “true” nulls. Rather, they follow interval patterns, suggesting that during those periods no question was displayed.\n",
    "- These missing values in `QuestionKey` require additional investigation and context-aware handling."
   ]
  },
  {
   "cell_type": "markdown",
   "id": "6341cbd8",
   "metadata": {},
   "source": [
    "Display the unique values in the `QuestionKey` column to understand the different types of questions or states recorded."
   ]
  },
  {
   "cell_type": "code",
   "execution_count": null,
   "id": "99fcbd1b",
   "metadata": {},
   "outputs": [],
   "source": [
    "df_7_EYE['QuestionKey'].unique()"
   ]
  },
  {
   "cell_type": "markdown",
   "id": "c3b6410d",
   "metadata": {},
   "source": [
    "Convert the `Timestamp` column to datetime objects. This is crucial for any time series analysis or manipulation."
   ]
  },
  {
   "cell_type": "code",
   "execution_count": null,
   "id": "cc3476a8",
   "metadata": {},
   "outputs": [],
   "source": [
    "df_7_EYE['Timestamp'] = pd.to_datetime(df_7_EYE['Timestamp'])"
   ]
  },
  {
   "cell_type": "markdown",
   "id": "33cad89f",
   "metadata": {},
   "source": [
    "Display the first few rows again to see the effect of the timestamp conversion."
   ]
  },
  {
   "cell_type": "code",
   "execution_count": null,
   "id": "327b75b5",
   "metadata": {},
   "outputs": [],
   "source": [
    "df_7_EYE.head(3)"
   ]
  },
  {
   "cell_type": "markdown",
   "id": "58dd8543",
   "metadata": {},
   "source": [
    "Fill the missing values in the `QuestionKey` column with the string 'None'. This helps to explicitly mark periods where no question was active."
   ]
  },
  {
   "cell_type": "code",
   "execution_count": null,
   "id": "6d7a622e",
   "metadata": {},
   "outputs": [],
   "source": [
    "df_7_EYE['QuestionKey'].fillna('None', inplace=True)"
   ]
  },
  {
   "cell_type": "markdown",
   "id": "2b3492c1",
   "metadata": {},
   "source": [
    "Count the occurrences of each unique value in the `QuestionKey` column after filling missing values."
   ]
  },
  {
   "cell_type": "code",
   "execution_count": null,
   "id": "f88444de",
   "metadata": {},
   "outputs": [],
   "source": [
    "df_7_EYE['QuestionKey'].value_counts()"
   ]
  },
  {
   "cell_type": "markdown",
   "id": "cf68fc22",
   "metadata": {},
   "source": [
    "Display the heatmap of missing values again to confirm that the missing values in `QuestionKey` have been handled."
   ]
  },
  {
   "cell_type": "code",
   "execution_count": null,
   "id": "6ce82a21",
   "metadata": {},
   "outputs": [],
   "source": [
    "plt.figure(figsize=(12,8))\n",
    "sns.heatmap(df_7_EYE.isnull(), cmap='viridis')\n",
    "plt.show()"
   ]
  },
  {
   "cell_type": "markdown",
   "id": "0f221118",
   "metadata": {},
   "source": [
    "Recalculate and display the number of missing values per column to confirm the changes after handling `QuestionKey`."
   ]
  },
  {
   "cell_type": "code",
   "execution_count": null,
   "id": "aceba43d",
   "metadata": {},
   "outputs": [],
   "source": [
    "df_7_EYE.isnull().sum()"
   ]
  },
  {
   "cell_type": "markdown",
   "id": "5bebb431",
   "metadata": {},
   "source": [
    "Drop rows that still contain any missing values. This is done after handling `QuestionKey` separately."
   ]
  },
  {
   "cell_type": "code",
   "execution_count": null,
   "id": "ddaec8a1",
   "metadata": {},
   "outputs": [],
   "source": [
    "df_7_EYE.dropna(inplace=True)"
   ]
  },
  {
   "cell_type": "markdown",
   "id": "a26a936c",
   "metadata": {},
   "source": [
    "Display the first few rows after dropping rows with missing values."
   ]
  },
  {
   "cell_type": "code",
   "execution_count": null,
   "id": "80704f80",
   "metadata": {},
   "outputs": [],
   "source": [
    "df_7_EYE.head()"
   ]
  },
  {
   "cell_type": "markdown",
   "id": "5517849e",
   "metadata": {},
   "source": [
    "Display the unique values in the `Row` column."
   ]
  },
  {
   "cell_type": "code",
   "execution_count": null,
   "id": "e783e147",
   "metadata": {},
   "outputs": [],
   "source": [
    "df_7_EYE['Row'].unique()"
   ]
  },
  {
   "cell_type": "markdown",
   "id": "9175c97f",
   "metadata": {},
   "source": [
    "Plot a histogram of the `Row` column to visualize its distribution."
   ]
  },
  {
   "cell_type": "code",
   "execution_count": null,
   "id": "080e3434",
   "metadata": {},
   "outputs": [],
   "source": [
    "plt.figure(figsize=(8,6))\n",
    "sns.histplot(df_7_EYE['Row'])\n",
    "plt.show()"
   ]
  },
  {
   "cell_type": "markdown",
   "id": "4f7bdd4a",
   "metadata": {},
   "source": [
    "# Notes & Observations\n",
    "\n",
    "- The `Row` column appears to be a simple row index and does not provide meaningful information relevant to the eye-tracking data itself. Therefore, it can be dropped."
   ]
  },
  {
   "cell_type": "markdown",
   "id": "052ba98d",
   "metadata": {},
   "source": [
    "Drop the `Row` column as it is not relevant for the analysis."
   ]
  },
  {
   "cell_type": "code",
   "execution_count": null,
   "id": "a0328133",
   "metadata": {},
   "outputs": [],
   "source": [
    "df_7_EYE.drop('Row', axis=1, inplace=True)"
   ]
  },
  {
   "cell_type": "markdown",
   "id": "b9607715",
   "metadata": {},
   "source": [
    "Display the unique values in the `ET_ValidityLeft` column."
   ]
  },
  {
   "cell_type": "code",
   "execution_count": null,
   "id": "461b27c7",
   "metadata": {},
   "outputs": [],
   "source": [
    "df_7_EYE['ET_ValidityLeft'].unique()"
   ]
  },
  {
   "cell_type": "markdown",
   "id": "17054128",
   "metadata": {},
   "source": [
    "Count the occurrences of each unique value in the `ET_ValidityLeft` column."
   ]
  },
  {
   "cell_type": "code",
   "execution_count": null,
   "id": "0b6c41cc",
   "metadata": {},
   "outputs": [],
   "source": [
    "df_7_EYE['ET_ValidityLeft'].value_counts()"
   ]
  },
  {
   "cell_type": "markdown",
   "id": "5b0b74ef",
   "metadata": {},
   "source": [
    "Display the unique values in the `ET_ValidityRight` column."
   ]
  },
  {
   "cell_type": "code",
   "execution_count": null,
   "id": "8438ef8e",
   "metadata": {},
   "outputs": [],
   "source": [
    "df_7_EYE['ET_ValidityRight'].unique()"
   ]
  },
  {
   "cell_type": "markdown",
   "id": "547f49a3",
   "metadata": {},
   "source": [
    "Count the occurrences of each unique value in the `ET_ValidityRight` column."
   ]
  },
  {
   "cell_type": "code",
   "execution_count": null,
   "id": "7720b620",
   "metadata": {},
   "outputs": [],
   "source": [
    "df_7_EYE['ET_ValidityRight'].value_counts()"
   ]
  },
  {
   "cell_type": "markdown",
   "id": "ed258173",
   "metadata": {},
   "source": [
    "Visualize the counts of valid and invalid data for both left and right eyes using bar plots."
   ]
  },
  {
   "cell_type": "code",
   "execution_count": null,
   "id": "e6d6d447",
   "metadata": {},
   "outputs": [],
   "source": [
    "plt.figure(figsize=(12, 6))\n",
    "\n",
    "plt.subplot(1, 2, 1)\n",
    "sns.barplot(x=df_7_EYE['ET_ValidityLeft'].value_counts().index, y=df_7_EYE['ET_ValidityLeft'].value_counts().values)\n",
    "plt.title('Count of ET_ValidityLeft')\n",
    "plt.xlabel('Validity')\n",
    "plt.ylabel('Count')\n",
    "\n",
    "\n",
    "plt.subplot(1, 2, 2)\n",
    "sns.barplot(x=df_7_EYE['ET_ValidityRight'].value_counts().index, y=df_7_EYE['ET_ValidityRight'].value_counts().values)\n",
    "plt.title('Count of ET_ValidityRight')\n",
    "plt.xlabel('Validity')\n",
    "plt.ylabel('Count')\n",
    "\n",
    "plt.tight_layout()\n",
    "plt.show()"
   ]
  },
  {
   "cell_type": "markdown",
   "id": "6f92c2cb",
   "metadata": {},
   "source": [
    "# Notes & Observations\n",
    "\n",
    "- The `ET_ValidityLeft` and `ET_ValidityRight` columns indicate the validity of the eye-tracking data for the left and right eye, respectively.\n",
    "- Based on the value counts and the bar plots, it appears that a value of `0.0` represents valid eye-tracking data, while a value of `4.0` represents invalid data.\n",
    "- Although the amount of invalid data is relatively small, removing these rows could introduce unwanted patterns or gaps in the time series data.\n",
    "- Therefore, we will keep the data and replace the value `4.0` with `1.0` in both `ET_ValidityLeft` and `ET_ValidityRight` columns. This will indicate to a machine learning model that the eye tracker had invalid data at those specific points in time while maintaining the integrity of the time series."
   ]
  },
  {
   "cell_type": "markdown",
   "id": "96f85a06",
   "metadata": {},
   "source": [
    "Define a mapping to convert validity values from `0.0` and `4.0` to `0` and `1`."
   ]
  },
  {
   "cell_type": "code",
   "execution_count": null,
   "id": "40c9fc57",
   "metadata": {},
   "outputs": [],
   "source": [
    "validity_map = {4.0: 1.0, 0.0: 0.0}"
   ]
  },
  {
   "cell_type": "markdown",
   "id": "4708fd02",
   "metadata": {},
   "source": [
    "Apply the mapping to the `ET_ValidityLeft` and `ET_ValidityRight` columns and convert the data type to integer."
   ]
  },
  {
   "cell_type": "code",
   "execution_count": null,
   "id": "84dabfb9",
   "metadata": {},
   "outputs": [],
   "source": [
    "df_7_EYE['ET_ValidityLeft'] = df_7_EYE['ET_ValidityLeft'].map(validity_map).astype(np.int8)\n",
    "df_7_EYE['ET_ValidityRight'] = df_7_EYE['ET_ValidityRight'].map(validity_map).astype(np.int8)"
   ]
  },
  {
   "cell_type": "markdown",
   "id": "2936cce3",
   "metadata": {},
   "source": [
    "Display the first few rows to see the updated validity columns."
   ]
  },
  {
   "cell_type": "code",
   "execution_count": null,
   "id": "6ff0de61",
   "metadata": {},
   "outputs": [],
   "source": [
    "df_7_EYE.head(3)"
   ]
  },
  {
   "cell_type": "markdown",
   "id": "14df4efe",
   "metadata": {},
   "source": [
    "Display descriptive statistics for the DataFrame, including count, mean, standard deviation, min, max, and quartiles for numeric columns."
   ]
  },
  {
   "cell_type": "code",
   "execution_count": null,
   "id": "146ef6e1",
   "metadata": {},
   "outputs": [],
   "source": [
    "df_7_EYE.describe()"
   ]
  },
  {
   "cell_type": "markdown",
   "id": "baae90a2",
   "metadata": {},
   "source": [
    "Check the number of rows where `ET_ValidityLeft` is 1 (invalid data for the left eye)."
   ]
  },
  {
   "cell_type": "code",
   "execution_count": null,
   "id": "c94eac41",
   "metadata": {},
   "outputs": [],
   "source": [
    "df_7_EYE[df_7_EYE['ET_ValidityLeft'] == 1].shape"
   ]
  },
  {
   "cell_type": "markdown",
   "id": "57f73b19",
   "metadata": {},
   "source": [
    "Check the number of rows where `ET_ValidityRight` is 1 (invalid data for the right eye)."
   ]
  },
  {
   "cell_type": "code",
   "execution_count": null,
   "id": "1ada01ae",
   "metadata": {},
   "outputs": [],
   "source": [
    "df_7_EYE[df_7_EYE['ET_ValidityRight'] == 1].shape"
   ]
  },
  {
   "cell_type": "markdown",
   "id": "f2682475",
   "metadata": {},
   "source": [
    "Visualize the distribution of -1 and 1 values across columns using heatmaps. This helps identify columns with placeholder or indicator values."
   ]
  },
  {
   "cell_type": "code",
   "execution_count": null,
   "id": "7a2364ab",
   "metadata": {},
   "outputs": [],
   "source": [
    "plt.figure(figsize=(18, 8))\n",
    "\n",
    "plt.subplot(1, 2, 1)\n",
    "sns.heatmap(df_7_EYE == -1, cmap='viridis')\n",
    "plt.title('Heatmap of -1 Values')\n",
    "\n",
    "plt.subplot(1, 2, 2)\n",
    "sns.heatmap(df_7_EYE == 1, cmap='viridis')\n",
    "plt.title('Heatmap of 1 Values')\n",
    "\n",
    "plt.tight_layout()\n",
    "plt.show()"
   ]
  },
  {
   "cell_type": "markdown",
   "id": "5066a7b3",
   "metadata": {},
   "source": [
    "Check the number of rows where `ET_PupilLeft` is -1."
   ]
  },
  {
   "cell_type": "code",
   "execution_count": null,
   "id": "0f45579e",
   "metadata": {},
   "outputs": [],
   "source": [
    "df_7_EYE[df_7_EYE['ET_PupilLeft'] == -1].shape"
   ]
  },
  {
   "cell_type": "markdown",
   "id": "c9596709",
   "metadata": {},
   "source": [
    "Check the number of rows where `ET_PupilRight` is -1."
   ]
  },
  {
   "cell_type": "code",
   "execution_count": null,
   "id": "9c3f33ce",
   "metadata": {},
   "outputs": [],
   "source": [
    "df_7_EYE[df_7_EYE['ET_PupilRight'] == -1].shape"
   ]
  },
  {
   "cell_type": "markdown",
   "id": "f2024da0",
   "metadata": {},
   "source": [
    "Calculate the ratio of rows with -1 values in the `ET_PupilLeft` column to the total number of rows."
   ]
  },
  {
   "cell_type": "code",
   "execution_count": null,
   "id": "c5ac1450",
   "metadata": {},
   "outputs": [],
   "source": [
    "df_7_EYE[df_7_EYE['ET_PupilLeft'] == -1].shape[0] / df_7_EYE.shape[0]"
   ]
  },
  {
   "cell_type": "markdown",
   "id": "78ad870e",
   "metadata": {},
   "source": [
    "Calculate the ratio of rows with -1 values in the `ET_PupilRight` column to the total number of rows."
   ]
  },
  {
   "cell_type": "code",
   "execution_count": null,
   "id": "312a0e8f",
   "metadata": {},
   "outputs": [],
   "source": [
    "df_7_EYE[df_7_EYE['ET_PupilRight'] == -1].shape[0] / df_7_EYE.shape[0]"
   ]
  },
  {
   "cell_type": "markdown",
   "id": "962aa97b",
   "metadata": {},
   "source": [
    "Visualize the distribution of -1 values specifically for rows where validity is 1 (invalid data)."
   ]
  },
  {
   "cell_type": "code",
   "execution_count": null,
   "id": "718077cc",
   "metadata": {},
   "outputs": [],
   "source": [
    "plt.figure(figsize=(18, 8))\n",
    "\n",
    "plt.subplot(1, 2, 1)\n",
    "sns.heatmap(df_7_EYE[df_7_EYE['ET_ValidityLeft'] == 1] == -1, cmap='viridis')\n",
    "plt.title('Heatmap of -1 Values')\n",
    "\n",
    "plt.subplot(1, 2, 2)\n",
    "sns.heatmap(df_7_EYE[df_7_EYE['ET_ValidityRight'] == 1] == -1, cmap='viridis')\n",
    "plt.title('Heatmap of -1 Values')\n",
    "\n",
    "plt.tight_layout()\n",
    "plt.show()"
   ]
  },
  {
   "cell_type": "markdown",
   "id": "55f6c5a5",
   "metadata": {},
   "source": [
    "# Notes & Observations\n",
    "\n",
    "- The heatmaps reveal the distribution of -1 values across different columns.\n",
    "- It is evident that the `-1` values are not randomly scattered but appear in specific columns, notably `ET_GazeLeftx`, `ET_GazeLefty`, `ET_GazeRightx`, `ET_GazeRighty`, `ET_PupilLeft`, `ET_PupilRight`, `ET_DistanceLeft`, `ET_DistanceRight`, `ET_CameraLeftX`, `ET_CameraLeftY`, `ET_CameraRightX`, and `ET_CameraRightY`.\n",
    "- These `-1` values often coincide with instances where `ET_ValidityLeft` or `ET_ValidityRight` is 1, indicating invalid eye-tracking data. This suggests that `-1` is used as a placeholder for missing or invalid measurements in these columns when the eye tracker is not providing valid data for a particular eye.\n",
    "- Given that over 70% of the data in the `ET_PupilLeft` and `ET_PupilRight` columns is marked as invalid (-1), these columns may not be suitable for analysis and could be considered for dropping."
   ]
  },
  {
   "cell_type": "markdown",
   "id": "b379737f",
   "metadata": {},
   "source": [
    "Drop the `ET_PupilLeft` and `ET_PupilRight` columns due to the high percentage of invalid data."
   ]
  },
  {
   "cell_type": "code",
   "execution_count": null,
   "id": "5252a749",
   "metadata": {},
   "outputs": [],
   "source": [
    "df_7_EYE.drop(['ET_PupilLeft', 'ET_PupilRight'], axis=1, inplace=True)"
   ]
  },
  {
   "cell_type": "markdown",
   "id": "31e718af",
   "metadata": {},
   "source": [
    "Display the first few rows after dropping the pupil columns."
   ]
  },
  {
   "cell_type": "code",
   "execution_count": null,
   "id": "2261680b",
   "metadata": {},
   "outputs": [],
   "source": [
    "df_7_EYE.head()"
   ]
  },
  {
   "cell_type": "markdown",
   "id": "ed540c8a",
   "metadata": {},
   "source": [
    "Visualize the distribution of -1 and 1 values again after dropping the pupil columns."
   ]
  },
  {
   "cell_type": "code",
   "execution_count": null,
   "id": "2b1ee504",
   "metadata": {},
   "outputs": [],
   "source": [
    "plt.figure(figsize=(18, 8))\n",
    "\n",
    "plt.subplot(1, 2, 1)\n",
    "sns.heatmap(df_7_EYE == -1, cmap='viridis')\n",
    "plt.title('Heatmap of -1 Values')\n",
    "\n",
    "plt.subplot(1, 2, 2)\n",
    "sns.heatmap(df_7_EYE == 1, cmap='viridis')\n",
    "plt.title('Heatmap of -1 Values')\n",
    "\n",
    "plt.tight_layout()\n",
    "plt.show()"
   ]
  },
  {
   "cell_type": "markdown",
   "id": "98945f7b",
   "metadata": {},
   "source": [
    "Calculate the ratio of valid data points for the left eye."
   ]
  },
  {
   "cell_type": "code",
   "execution_count": null,
   "id": "0ee077ca",
   "metadata": {},
   "outputs": [],
   "source": [
    "valid_left_ratio  = 1 - df_7_EYE['ET_ValidityLeft'].mean()"
   ]
  },
  {
   "cell_type": "markdown",
   "id": "f10e3630",
   "metadata": {},
   "source": [
    "Display the ratio of valid data points for the left eye."
   ]
  },
  {
   "cell_type": "code",
   "execution_count": null,
   "id": "8076415b",
   "metadata": {},
   "outputs": [],
   "source": [
    "valid_left_ratio"
   ]
  },
  {
   "cell_type": "markdown",
   "id": "e24dd943",
   "metadata": {},
   "source": [
    "Calculate the ratio of valid data points for the right eye."
   ]
  },
  {
   "cell_type": "code",
   "execution_count": null,
   "id": "db5e5998",
   "metadata": {},
   "outputs": [],
   "source": [
    "valid_right_ratio = 1 - df_7_EYE['ET_ValidityRight'].mean()"
   ]
  },
  {
   "cell_type": "markdown",
   "id": "d87f5970",
   "metadata": {},
   "source": [
    "Display the ratio of valid data points for the right eye."
   ]
  },
  {
   "cell_type": "code",
   "execution_count": null,
   "id": "6cc27026",
   "metadata": {},
   "outputs": [],
   "source": [
    "valid_right_ratio"
   ]
  },
  {
   "cell_type": "markdown",
   "id": "cd3bdf19",
   "metadata": {},
   "source": [
    "Display the first few rows of the DataFrame."
   ]
  },
  {
   "cell_type": "code",
   "execution_count": null,
   "id": "e891d2f6",
   "metadata": {},
   "outputs": [],
   "source": [
    "df_7_EYE.head()"
   ]
  },
  {
   "cell_type": "markdown",
   "id": "0540bcd5",
   "metadata": {},
   "source": [
    "Visualize the distributions of numeric columns using histograms with Kernel Density Estimate (KDE) plots. This helps understand the shape and spread of the data in each numeric column."
   ]
  },
  {
   "cell_type": "code",
   "execution_count": null,
   "id": "73fb99d2",
   "metadata": {},
   "outputs": [],
   "source": [
    "# Select only the numeric columns for plotting histograms, excluding time-related columns\n",
    "numeric_cols = df_7_EYE.select_dtypes(include=np.number).columns\n",
    "cols_to_plot = [col for col in numeric_cols if col not in ['UnixTime']]\n",
    "\n",
    "# Calculate the number of rows and columns for the grid\n",
    "n_cols = 4  # You can adjust the number of columns as needed\n",
    "n_rows = (len(cols_to_plot) + n_cols - 1) // n_cols\n",
    "\n",
    "plt.figure(figsize=(n_cols * 5, n_rows * 4)) # Adjust figure size as needed\n",
    "\n",
    "for i, col in enumerate(cols_to_plot):\n",
    "    plt.subplot(n_rows, n_cols, i + 1)\n",
    "    sns.histplot(df_7_EYE[col], kde=True)\n",
    "    plt.title(f'Distribution of {col}')\n",
    "    plt.xlabel(col)\n",
    "    plt.ylabel('Frequency')\n",
    "\n",
    "plt.tight_layout()\n",
    "plt.show()"
   ]
  },
  {
   "cell_type": "markdown",
   "id": "8b4e64ba",
   "metadata": {},
   "source": [
    "List the names of the columns in the DataFrame."
   ]
  },
  {
   "cell_type": "code",
   "execution_count": null,
   "id": "c264c4ba",
   "metadata": {},
   "outputs": [],
   "source": [
    "df_7_EYE.columns"
   ]
  },
  {
   "cell_type": "markdown",
   "id": "fe347743",
   "metadata": {},
   "source": [
    "Define a list of columns to be plotted over time."
   ]
  },
  {
   "cell_type": "code",
   "execution_count": null,
   "id": "31693d6d",
   "metadata": {},
   "outputs": [],
   "source": [
    "cols = ['ET_GazeLeftx', 'ET_GazeLefty',\n",
    "       'ET_GazeRightx', 'ET_GazeRighty', 'ET_TimeSignal', 'ET_DistanceLeft',\n",
    "       'ET_DistanceRight', 'ET_CameraLeftX', 'ET_CameraLeftY',\n",
    "       'ET_CameraRightX', 'ET_CameraRightY', 'ET_ValidityLeft',\n",
    "       'ET_ValidityRight']"
   ]
  },
  {
   "cell_type": "markdown",
   "id": "0aade4b3",
   "metadata": {},
   "source": [
    "Plot each of the selected columns against the timestamp to visualize their trends and patterns over time. Markdown cells are added before each plot for better readability."
   ]
  },
  {
   "cell_type": "code",
   "execution_count": null,
   "id": "b38f4059",
   "metadata": {},
   "outputs": [],
   "source": [
    "from IPython.display import display, Markdown\n",
    "\n",
    "for col in cols:\n",
    "    # Add a markdown cell before each plot for better separation and labeling\n",
    "    display(Markdown(f'### {col} over Time'))\n",
    "    plt.figure(figsize=(16, 10))\n",
    "    plt.plot(df_7_EYE['Timestamp'], df_7_EYE[col])\n",
    "    plt.xlabel(\"Timestamp\") # Add x-axis label\n",
    "    plt.ylabel(col) # Add y-axis label\n",
    "    plt.show()"
   ]
  },
  {
   "cell_type": "markdown",
   "id": "c9404aca",
   "metadata": {},
   "source": [
    "Visualize the distributions of numeric columns using boxplots. This helps identify potential outliers and the spread of the data."
   ]
  },
  {
   "cell_type": "code",
   "execution_count": null,
   "id": "953d3a26",
   "metadata": {},
   "outputs": [],
   "source": [
    "# Select only the numeric columns for plotting histograms, excluding time-related columns\n",
    "numeric_cols = df_7_EYE.select_dtypes(include=np.number).columns\n",
    "\n",
    "# Calculate the number of rows and columns for the grid\n",
    "n_cols = 4  # You can adjust the number of columns as needed\n",
    "n_rows = (len(numeric_cols) + n_cols - 1) // n_cols\n",
    "\n",
    "plt.figure(figsize=(n_cols * 5, n_rows * 4)) # Adjust figure size as needed\n",
    "\n",
    "for i, col in enumerate(numeric_cols):\n",
    "    plt.subplot(n_rows, n_cols, i + 1)\n",
    "    sns.boxplot(df_7_EYE[col])\n",
    "    plt.title(f'Boxplot of {col}')\n",
    "    plt.xlabel(col)\n",
    "\n",
    "plt.tight_layout()\n",
    "plt.show()"
   ]
  },
  {
   "cell_type": "markdown",
   "id": "f53c00ab",
   "metadata": {},
   "source": [
    "Replace the placeholder value -1 with NaN (Not a Number) in the DataFrame. This is done before imputation."
   ]
  },
  {
   "cell_type": "code",
   "execution_count": null,
   "id": "94ac17bb",
   "metadata": {},
   "outputs": [],
   "source": [
    "df_7_EYE.replace({-1: np.nan}, inplace=True)"
   ]
  },
  {
   "cell_type": "markdown",
   "id": "f5005dd0",
   "metadata": {},
   "source": [
    "Impute the missing values (NaN) in the numeric columns with the mean of each column."
   ]
  },
  {
   "cell_type": "code",
   "execution_count": null,
   "id": "9d0c9811",
   "metadata": {},
   "outputs": [],
   "source": [
    "numeric_cols = df_7_EYE.select_dtypes(include=np.number).columns\n",
    "\n",
    "for col in numeric_cols:\n",
    "    df_7_EYE[col].fillna(df_7_EYE[col].mean(), inplace=True)"
   ]
  },
  {
   "cell_type": "markdown",
   "id": "fecdfd6c",
   "metadata": {},
   "source": [
    "Display the first few rows after imputing missing values."
   ]
  },
  {
   "cell_type": "code",
   "execution_count": null,
   "id": "375227ef",
   "metadata": {},
   "outputs": [],
   "source": [
    "df_7_EYE.head()"
   ]
  },
  {
   "cell_type": "markdown",
   "id": "d5c8d862",
   "metadata": {},
   "source": [
    "Visualize the distributions of numeric columns again using histograms with KDE plots after imputation. This helps assess the impact of imputation on the data distributions."
   ]
  },
  {
   "cell_type": "code",
   "execution_count": null,
   "id": "87751ff7",
   "metadata": {},
   "outputs": [],
   "source": [
    "# Select only the numeric columns for plotting histograms, excluding time-related columns\n",
    "numeric_cols = df_7_EYE.select_dtypes(include=np.number).columns\n",
    "cols_to_plot = [col for col in numeric_cols if col not in ['UnixTime']]\n",
    "\n",
    "# Calculate the number of rows and columns for the grid\n",
    "n_cols = 4  # You can adjust the number of columns as needed\n",
    "n_rows = (len(cols_to_plot) + n_cols - 1) // n_cols\n",
    "\n",
    "plt.figure(figsize=(n_cols * 5, n_rows * 4)) # Adjust figure size as needed\n",
    "\n",
    "for i, col in enumerate(cols_to_plot):\n",
    "    plt.subplot(n_rows, n_cols, i + 1)\n",
    "    sns.histplot(df_7_EYE[col], kde=True)\n",
    "    plt.title(f'Distribution of {col}')\n",
    "    plt.xlabel(col)\n",
    "    plt.ylabel('Frequency')\n",
    "\n",
    "plt.tight_layout()\n",
    "plt.show()"
   ]
  },
  {
   "cell_type": "code",
   "execution_count": null,
   "id": "f8c57fc7",
   "metadata": {},
   "outputs": [],
   "source": []
  },
  {
   "cell_type": "markdown",
   "id": "6c7779a4",
   "metadata": {},
   "source": [
    "## Student 8"
   ]
  },
  {
   "cell_type": "code",
   "execution_count": null,
   "id": "29683fcb",
   "metadata": {},
   "outputs": [],
   "source": [
    "%load_ext cudf"
   ]
  },
  {
   "cell_type": "code",
   "execution_count": null,
   "id": "37816e48",
   "metadata": {},
   "outputs": [],
   "source": [
    "import numpy as np\n",
    "import pandas as pd\n",
    "import matplotlib.pyplot as plt\n",
    "import seaborn as sns"
   ]
  },
  {
   "cell_type": "code",
   "execution_count": null,
   "id": "eeb19ffc",
   "metadata": {},
   "outputs": [],
   "source": [
    "import datashader as ds\n",
    "import datashader.transfer_functions as tf"
   ]
  },
  {
   "cell_type": "code",
   "execution_count": null,
   "id": "f5821b0d",
   "metadata": {},
   "outputs": [],
   "source": [
    "pd.set_option('display.max_columns', None)"
   ]
  },
  {
   "cell_type": "code",
   "execution_count": null,
   "id": "28263e10",
   "metadata": {},
   "outputs": [],
   "source": [
    "df_8_EYE = pd.read_csv('data/STData/8/8_EYE.csv')"
   ]
  },
  {
   "cell_type": "code",
   "execution_count": null,
   "id": "bf9ce5a6",
   "metadata": {},
   "outputs": [],
   "source": [
    "df_8_EYE.head()"
   ]
  },
  {
   "cell_type": "code",
   "execution_count": null,
   "id": "508d9097",
   "metadata": {},
   "outputs": [],
   "source": [
    "df_8_EYE.shape"
   ]
  },
  {
   "cell_type": "code",
   "execution_count": null,
   "id": "1c8ceee8",
   "metadata": {},
   "outputs": [],
   "source": [
    "df_8_EYE.columns"
   ]
  },
  {
   "cell_type": "code",
   "execution_count": null,
   "id": "e1faf7cb",
   "metadata": {},
   "outputs": [],
   "source": [
    "df_8_EYE.info()"
   ]
  },
  {
   "cell_type": "code",
   "execution_count": null,
   "id": "593f9840",
   "metadata": {},
   "outputs": [],
   "source": [
    "df_8_EYE.isnull().sum()"
   ]
  },
  {
   "cell_type": "code",
   "execution_count": null,
   "id": "197a6faa",
   "metadata": {},
   "outputs": [],
   "source": [
    "plt.figure(figsize=(12,8))\n",
    "sns.heatmap(df_8_EYE.isnull(), cmap='viridis')\n",
    "plt.show()"
   ]
  },
  {
   "cell_type": "markdown",
   "id": "d8daf91b",
   "metadata": {},
   "source": [
    "# Notes & Observations\n",
    "\n",
    "- We observe many **null** (or missing) values in the `QuestionKey` columns.  \n",
    "- The nulls in the `QuestionKey` column may not represent “true” nulls. Rather, they follow interval patterns, suggesting that during those periods no question was displayed.  \n",
    "- These missing values in `QuestionKey` require additional investigation and context-aware handling.  "
   ]
  },
  {
   "cell_type": "code",
   "execution_count": null,
   "id": "bebae2c0",
   "metadata": {},
   "outputs": [],
   "source": [
    "df_8_EYE['QuestionKey'].unique()"
   ]
  },
  {
   "cell_type": "code",
   "execution_count": null,
   "id": "cdd93e22",
   "metadata": {},
   "outputs": [],
   "source": [
    "df_8_EYE['Timestamp'] = pd.to_datetime(df_8_EYE['Timestamp'])"
   ]
  },
  {
   "cell_type": "code",
   "execution_count": null,
   "id": "177f04f9",
   "metadata": {},
   "outputs": [],
   "source": [
    "df_8_EYE.head(3)"
   ]
  },
  {
   "cell_type": "code",
   "execution_count": null,
   "id": "577721f7",
   "metadata": {},
   "outputs": [],
   "source": [
    "df_8_EYE['QuestionKey'].fillna('None', inplace=True)"
   ]
  },
  {
   "cell_type": "code",
   "execution_count": null,
   "id": "470ce608",
   "metadata": {},
   "outputs": [],
   "source": [
    "df_8_EYE['QuestionKey'].value_counts()"
   ]
  },
  {
   "cell_type": "code",
   "execution_count": null,
   "id": "e663c61d",
   "metadata": {},
   "outputs": [],
   "source": [
    "plt.figure(figsize=(12,8))\n",
    "sns.heatmap(df_8_EYE.isnull(), cmap='viridis')\n",
    "plt.show()"
   ]
  },
  {
   "cell_type": "code",
   "execution_count": null,
   "id": "a8ece9c2",
   "metadata": {},
   "outputs": [],
   "source": [
    "df_8_EYE.isnull().sum()"
   ]
  },
  {
   "cell_type": "code",
   "execution_count": null,
   "id": "5138ee9e",
   "metadata": {},
   "outputs": [],
   "source": [
    "df_8_EYE.dropna(inplace=True)"
   ]
  },
  {
   "cell_type": "code",
   "execution_count": null,
   "id": "b569b2ab",
   "metadata": {},
   "outputs": [],
   "source": [
    "df_8_EYE.head()"
   ]
  },
  {
   "cell_type": "code",
   "execution_count": null,
   "id": "1ae1e06c",
   "metadata": {},
   "outputs": [],
   "source": [
    "df_8_EYE['Row'].unique()"
   ]
  },
  {
   "cell_type": "code",
   "execution_count": null,
   "id": "3dc92617",
   "metadata": {},
   "outputs": [],
   "source": [
    "plt.figure(figsize=(8,6))\n",
    "sns.histplot(df_8_EYE['Row'])\n",
    "plt.show()"
   ]
  },
  {
   "cell_type": "markdown",
   "id": "a89276a9",
   "metadata": {},
   "source": [
    "# Notes & Observations\n",
    "\n",
    "- The `Row` column appears to be a simple row index and does not provide meaningful information relevant to the eye-tracking data itself. Therefore, it can be dropped."
   ]
  },
  {
   "cell_type": "code",
   "execution_count": null,
   "id": "0ba5fde4",
   "metadata": {},
   "outputs": [],
   "source": [
    "df_8_EYE.drop('Row', axis=1, inplace=True)"
   ]
  },
  {
   "cell_type": "code",
   "execution_count": null,
   "id": "3145d9ce",
   "metadata": {},
   "outputs": [],
   "source": [
    "df_8_EYE['ET_ValidityLeft'].unique()"
   ]
  },
  {
   "cell_type": "code",
   "execution_count": null,
   "id": "0779d904",
   "metadata": {},
   "outputs": [],
   "source": [
    "df_8_EYE['ET_ValidityLeft'].value_counts()"
   ]
  },
  {
   "cell_type": "code",
   "execution_count": null,
   "id": "e386b501",
   "metadata": {},
   "outputs": [],
   "source": [
    "df_8_EYE['ET_ValidityRight'].unique()"
   ]
  },
  {
   "cell_type": "code",
   "execution_count": null,
   "id": "3d092c52",
   "metadata": {},
   "outputs": [],
   "source": [
    "df_8_EYE['ET_ValidityRight'].value_counts()"
   ]
  },
  {
   "cell_type": "code",
   "execution_count": null,
   "id": "4b640e74",
   "metadata": {},
   "outputs": [],
   "source": [
    "plt.figure(figsize=(12, 6))\n",
    "\n",
    "plt.subplot(1, 2, 1)\n",
    "sns.barplot(x=df_8_EYE['ET_ValidityLeft'].value_counts().index, y=df_8_EYE['ET_ValidityLeft'].value_counts().values)\n",
    "plt.title('Count of ET_ValidityLeft')\n",
    "plt.xlabel('Validity')\n",
    "plt.ylabel('Count')\n",
    "\n",
    "\n",
    "plt.subplot(1, 2, 2)\n",
    "sns.barplot(x=df_8_EYE['ET_ValidityRight'].value_counts().index, y=df_8_EYE['ET_ValidityRight'].value_counts().values)\n",
    "plt.title('Count of ET_ValidityRight')\n",
    "plt.xlabel('Validity')\n",
    "plt.ylabel('Count')\n",
    "\n",
    "plt.tight_layout()\n",
    "plt.show()"
   ]
  },
  {
   "cell_type": "markdown",
   "id": "e1645bb5",
   "metadata": {},
   "source": [
    "# Notes & Observations\n",
    "\n",
    "- The `ET_ValidityLeft` and `ET_ValidityRight` columns indicate the validity of the eye-tracking data for the left and right eye, respectively.\n",
    "- Based on the value counts and the bar plots, it appears that a value of `0.0` represents valid eye-tracking data, while a value of `4.0` represents invalid data.\n",
    "- Although the amount of invalid data is relatively small, removing these rows could introduce unwanted patterns or gaps in the time series data.\n",
    "- Therefore, we will keep the data and replace the value `4.0` with `1.0` in both `ET_ValidityLeft` and `ET_ValidityRight` columns. This will indicate to a machine learning model that the eye tracker had invalid data at those specific points in time while maintaining the integrity of the time series."
   ]
  },
  {
   "cell_type": "code",
   "execution_count": null,
   "id": "8d8cc8b7",
   "metadata": {},
   "outputs": [],
   "source": [
    "validity_map = {4.0: 1.0, 0.0: 0.0}"
   ]
  },
  {
   "cell_type": "code",
   "execution_count": null,
   "id": "c15c978b",
   "metadata": {},
   "outputs": [],
   "source": [
    "df_8_EYE['ET_ValidityLeft'] = df_8_EYE['ET_ValidityLeft'].map(validity_map).astype(np.int8)\n",
    "df_8_EYE['ET_ValidityRight'] = df_8_EYE['ET_ValidityRight'].map(validity_map).astype(np.int8)"
   ]
  },
  {
   "cell_type": "code",
   "execution_count": null,
   "id": "01a8a8a0",
   "metadata": {},
   "outputs": [],
   "source": [
    "df_8_EYE.head(3)"
   ]
  },
  {
   "cell_type": "code",
   "execution_count": null,
   "id": "79fc14e8",
   "metadata": {},
   "outputs": [],
   "source": [
    "df_8_EYE.describe()"
   ]
  },
  {
   "cell_type": "code",
   "execution_count": null,
   "id": "de42e852",
   "metadata": {},
   "outputs": [],
   "source": [
    "df_8_EYE[df_8_EYE['ET_ValidityLeft'] == 1].shape"
   ]
  },
  {
   "cell_type": "code",
   "execution_count": null,
   "id": "1f0e2462",
   "metadata": {},
   "outputs": [],
   "source": [
    "df_8_EYE[df_8_EYE['ET_ValidityRight'] == 1].shape"
   ]
  },
  {
   "cell_type": "code",
   "execution_count": null,
   "id": "acff873e",
   "metadata": {},
   "outputs": [],
   "source": [
    "plt.figure(figsize=(18, 8))\n",
    "\n",
    "plt.subplot(1, 2, 1)\n",
    "sns.heatmap(df_8_EYE == -1, cmap='viridis')\n",
    "plt.title('Heatmap of -1 Values')\n",
    "\n",
    "plt.subplot(1, 2, 2)\n",
    "sns.heatmap(df_8_EYE == 1, cmap='viridis')\n",
    "plt.title('Heatmap of 1 Values')\n",
    "\n",
    "plt.tight_layout()\n",
    "plt.show()"
   ]
  },
  {
   "cell_type": "code",
   "execution_count": null,
   "id": "c661c87d",
   "metadata": {},
   "outputs": [],
   "source": [
    "df_8_EYE[df_8_EYE['ET_PupilLeft'] == -1].shape"
   ]
  },
  {
   "cell_type": "code",
   "execution_count": null,
   "id": "23b529f5",
   "metadata": {},
   "outputs": [],
   "source": [
    "df_8_EYE[df_8_EYE['ET_PupilRight'] == -1].shape"
   ]
  },
  {
   "cell_type": "code",
   "execution_count": null,
   "id": "f9d24bcb",
   "metadata": {},
   "outputs": [],
   "source": [
    "df_8_EYE[df_8_EYE['ET_PupilLeft'] == -1].shape[0] / df_8_EYE.shape[0]"
   ]
  },
  {
   "cell_type": "code",
   "execution_count": null,
   "id": "e849da93",
   "metadata": {},
   "outputs": [],
   "source": [
    "df_8_EYE[df_8_EYE['ET_PupilRight'] == -1].shape[0] / df_8_EYE.shape[0]"
   ]
  },
  {
   "cell_type": "code",
   "execution_count": null,
   "id": "006369d0",
   "metadata": {},
   "outputs": [],
   "source": [
    "plt.figure(figsize=(18, 8))\n",
    "\n",
    "plt.subplot(1, 2, 1)\n",
    "sns.heatmap(df_8_EYE[df_8_EYE['ET_ValidityLeft'] == 1] == -1, cmap='viridis')\n",
    "plt.title('Heatmap of -1 Values')\n",
    "\n",
    "plt.subplot(1, 2, 2)\n",
    "sns.heatmap(df_8_EYE[df_8_EYE['ET_ValidityRight'] == 1] == -1, cmap='viridis')\n",
    "plt.title('Heatmap of -1 Values')\n",
    "\n",
    "plt.tight_layout()\n",
    "plt.show()"
   ]
  },
  {
   "cell_type": "markdown",
   "id": "5595eabf",
   "metadata": {},
   "source": [
    "# Notes & Observations\n",
    "\n",
    "- The heatmaps reveal the distribution of -1 values across different columns.\n",
    "- It is evident that the `-1` values are not randomly scattered but appear in specific columns, notably `ET_GazeLeftx`, `ET_GazeLefty`, `ET_GazeRightx`, `ET_GazeRighty`, `ET_PupilLeft`, `ET_PupilRight`, `ET_DistanceLeft`, `ET_DistanceRight`, `ET_CameraLeftX`, `ET_CameraLeftY`, `ET_CameraRightX`, and `ET_CameraRightY`.\n",
    "- These `-1` values often coincide with instances where `ET_ValidityLeft` or `ET_ValidityRight` is 1, indicating invalid eye-tracking data. This suggests that `-1` is used as a placeholder for missing or invalid measurements in these columns when the eye tracker is not providing valid data for a particular eye.\n",
    "- Given that over 70% of the data in the `ET_PupilLeft` and `ET_PupilRight` columns is marked as invalid (-1), these columns may not be suitable for analysis and could be considered for dropping."
   ]
  },
  {
   "cell_type": "code",
   "execution_count": null,
   "id": "89db9181",
   "metadata": {},
   "outputs": [],
   "source": [
    "df_8_EYE.drop(['ET_PupilLeft', 'ET_PupilRight'], axis=1, inplace=True)"
   ]
  },
  {
   "cell_type": "code",
   "execution_count": null,
   "id": "a0d8dc89",
   "metadata": {},
   "outputs": [],
   "source": [
    "df_8_EYE.head()"
   ]
  },
  {
   "cell_type": "code",
   "execution_count": null,
   "id": "9fddb5fe",
   "metadata": {},
   "outputs": [],
   "source": [
    "plt.figure(figsize=(18, 8))\n",
    "\n",
    "plt.subplot(1, 2, 1)\n",
    "sns.heatmap(df_8_EYE == -1, cmap='viridis')\n",
    "plt.title('Heatmap of -1 Values')\n",
    "\n",
    "plt.subplot(1, 2, 2)\n",
    "sns.heatmap(df_8_EYE == 1, cmap='viridis')\n",
    "plt.title('Heatmap of -1 Values')\n",
    "\n",
    "plt.tight_layout()\n",
    "plt.show()"
   ]
  },
  {
   "cell_type": "code",
   "execution_count": null,
   "id": "8d7ada2d",
   "metadata": {},
   "outputs": [],
   "source": [
    "valid_left_ratio  = 1 - df_8_EYE['ET_ValidityLeft'].mean()\n",
    "valid_right_ratio = 1 - df_8_EYE['ET_ValidityRight'].mean()"
   ]
  },
  {
   "cell_type": "code",
   "execution_count": null,
   "id": "783f4f9c",
   "metadata": {},
   "outputs": [],
   "source": [
    "valid_left_ratio"
   ]
  },
  {
   "cell_type": "code",
   "execution_count": null,
   "id": "c1ac0076",
   "metadata": {},
   "outputs": [],
   "source": [
    "valid_right_ratio"
   ]
  },
  {
   "cell_type": "code",
   "execution_count": null,
   "id": "4d2bfac3",
   "metadata": {},
   "outputs": [],
   "source": [
    "df_8_EYE.head()"
   ]
  },
  {
   "cell_type": "code",
   "execution_count": null,
   "id": "f3929e39",
   "metadata": {},
   "outputs": [],
   "source": [
    "# Select only the numeric columns for plotting histograms, excluding time-related columns\n",
    "numeric_cols = df_8_EYE.select_dtypes(include=np.number).columns\n",
    "cols_to_plot = [col for col in numeric_cols if col not in ['UnixTime']]\n",
    "\n",
    "# Calculate the number of rows and columns for the grid\n",
    "n_cols = 4  # You can adjust the number of columns as needed\n",
    "n_rows = (len(cols_to_plot) + n_cols - 1) // n_cols\n",
    "\n",
    "plt.figure(figsize=(n_cols * 5, n_rows * 4)) # Adjust figure size as needed\n",
    "\n",
    "for i, col in enumerate(cols_to_plot):\n",
    "    plt.subplot(n_rows, n_cols, i + 1)\n",
    "    sns.histplot(df_8_EYE[col], kde=True)\n",
    "    plt.title(f'Distribution of {col}')\n",
    "    plt.xlabel(col)\n",
    "    plt.ylabel('Frequency')\n",
    "\n",
    "plt.tight_layout()\n",
    "plt.show()"
   ]
  },
  {
   "cell_type": "code",
   "execution_count": null,
   "id": "8a55f9c5",
   "metadata": {},
   "outputs": [],
   "source": [
    "df_8_EYE.columns"
   ]
  },
  {
   "cell_type": "code",
   "execution_count": null,
   "id": "18c4a5fe",
   "metadata": {},
   "outputs": [],
   "source": [
    "cols = ['ET_GazeLeftx', 'ET_GazeLefty',\n",
    "       'ET_GazeRightx', 'ET_GazeRighty', 'ET_TimeSignal', 'ET_DistanceLeft',\n",
    "       'ET_DistanceRight', 'ET_CameraLeftX', 'ET_CameraLeftY',\n",
    "       'ET_CameraRightX', 'ET_CameraRightY', 'ET_ValidityLeft',\n",
    "       'ET_ValidityRight']"
   ]
  },
  {
   "cell_type": "code",
   "execution_count": null,
   "id": "b132b624",
   "metadata": {},
   "outputs": [],
   "source": [
    "from IPython.display import display, Markdown\n",
    "\n",
    "for col in cols:\n",
    "    # Add a markdown cell before each plot for better separation and labeling\n",
    "    display(Markdown(f'### {col} over Time'))\n",
    "    plt.figure(figsize=(16, 10))\n",
    "    plt.plot(df_8_EYE['Timestamp'], df_8_EYE[col])\n",
    "    plt.xlabel(\"Timestamp\") # Add x-axis label\n",
    "    plt.ylabel(col) # Add y-axis label\n",
    "    plt.show()"
   ]
  },
  {
   "cell_type": "code",
   "execution_count": null,
   "id": "3455f4cc",
   "metadata": {},
   "outputs": [],
   "source": [
    "# Select only the numeric columns for plotting histograms, excluding time-related columns\n",
    "numeric_cols = df_8_EYE.select_dtypes(include=np.number).columns\n",
    "\n",
    "# Calculate the number of rows and columns for the grid\n",
    "n_cols = 4  # You can adjust the number of columns as needed\n",
    "n_rows = (len(numeric_cols) + n_cols - 1) // n_cols\n",
    "\n",
    "plt.figure(figsize=(n_cols * 5, n_rows * 4)) # Adjust figure size as needed\n",
    "\n",
    "for i, col in enumerate(numeric_cols):\n",
    "    plt.subplot(n_rows, n_cols, i + 1)\n",
    "    sns.boxplot(df_8_EYE[col])\n",
    "    plt.title(f'Boxplot of {col}')\n",
    "    plt.xlabel(col)\n",
    "\n",
    "plt.tight_layout()\n",
    "plt.show()"
   ]
  },
  {
   "cell_type": "code",
   "execution_count": null,
   "id": "261c0d59",
   "metadata": {},
   "outputs": [],
   "source": [
    "df_8_EYE.replace({-1: np.nan}, inplace=True)"
   ]
  },
  {
   "cell_type": "code",
   "execution_count": null,
   "id": "2a4b6c74",
   "metadata": {},
   "outputs": [],
   "source": [
    "numeric_cols = df_8_EYE.select_dtypes(include=np.number).columns\n",
    "\n",
    "for col in numeric_cols:\n",
    "    df_8_EYE[col].fillna(df_8_EYE[col].mean(), inplace=True)"
   ]
  },
  {
   "cell_type": "code",
   "execution_count": null,
   "id": "32db02ce",
   "metadata": {},
   "outputs": [],
   "source": [
    "df_8_EYE.head()"
   ]
  },
  {
   "cell_type": "code",
   "execution_count": null,
   "id": "dbf9d7bf",
   "metadata": {},
   "outputs": [],
   "source": [
    "# Select only the numeric columns for plotting histograms, excluding time-related columns\n",
    "numeric_cols = df_8_EYE.select_dtypes(include=np.number).columns\n",
    "cols_to_plot = [col for col in numeric_cols if col not in ['UnixTime']]\n",
    "\n",
    "# Calculate the number of rows and columns for the grid\n",
    "n_cols = 4  # You can adjust the number of columns as needed\n",
    "n_rows = (len(cols_to_plot) + n_cols - 1) // n_cols\n",
    "\n",
    "plt.figure(figsize=(n_cols * 5, n_rows * 4)) # Adjust figure size as needed\n",
    "\n",
    "for i, col in enumerate(cols_to_plot):\n",
    "    plt.subplot(n_rows, n_cols, i + 1)\n",
    "    sns.histplot(df_8_EYE[col], kde=True)\n",
    "    plt.title(f'Distribution of {col}')\n",
    "    plt.xlabel(col)\n",
    "    plt.ylabel('Frequency')\n",
    "\n",
    "plt.tight_layout()\n",
    "plt.show()"
   ]
  },
  {
   "cell_type": "code",
   "execution_count": null,
   "id": "7841ec4b",
   "metadata": {},
   "outputs": [],
   "source": []
  },
  {
   "cell_type": "code",
   "execution_count": null,
   "id": "9001bca6",
   "metadata": {},
   "outputs": [],
   "source": []
  },
  {
   "cell_type": "code",
   "execution_count": null,
   "id": "a292ac94",
   "metadata": {},
   "outputs": [],
   "source": []
  },
  {
   "cell_type": "code",
   "execution_count": null,
   "id": "71703459",
   "metadata": {},
   "outputs": [],
   "source": []
  },
  {
   "cell_type": "code",
   "execution_count": null,
   "id": "f7487e60",
   "metadata": {},
   "outputs": [],
   "source": []
  },
  {
   "cell_type": "code",
   "execution_count": null,
   "id": "39be901b",
   "metadata": {},
   "outputs": [],
   "source": []
  },
  {
   "cell_type": "code",
   "execution_count": null,
   "id": "147f64c5",
   "metadata": {},
   "outputs": [],
   "source": []
  },
  {
   "cell_type": "code",
   "execution_count": null,
   "id": "8839f384",
   "metadata": {},
   "outputs": [],
   "source": []
  },
  {
   "cell_type": "code",
   "execution_count": null,
   "id": "c8853cae",
   "metadata": {},
   "outputs": [],
   "source": []
  },
  {
   "cell_type": "code",
   "execution_count": null,
   "id": "0eeed21b",
   "metadata": {},
   "outputs": [],
   "source": []
  },
  {
   "cell_type": "code",
   "execution_count": null,
   "id": "f8327e0f",
   "metadata": {},
   "outputs": [],
   "source": []
  },
  {
   "cell_type": "code",
   "execution_count": null,
   "id": "2284125c",
   "metadata": {},
   "outputs": [],
   "source": []
  },
  {
   "cell_type": "markdown",
   "id": "9e31fc30",
   "metadata": {},
   "source": [
    "# Eye Tracking Data Analysis\n",
    "\n",
    "This notebook performs exploratory data analysis and cleaning on eye-tracking data.\n",
    "\n",
    "## Data Loading and Initial Inspection"
   ]
  },
  {
   "cell_type": "code",
   "execution_count": null,
   "id": "3b6c1225",
   "metadata": {},
   "outputs": [],
   "source": [
    "%load_ext cudf"
   ]
  },
  {
   "cell_type": "markdown",
   "id": "d4d7337d",
   "metadata": {},
   "source": [
    "Import necessary libraries for data manipulation, analysis, and visualization."
   ]
  },
  {
   "cell_type": "code",
   "execution_count": null,
   "id": "1265e9c1",
   "metadata": {},
   "outputs": [],
   "source": [
    "import numpy as np\n",
    "import pandas as pd\n",
    "import matplotlib.pyplot as plt\n",
    "import seaborn as sns"
   ]
  },
  {
   "cell_type": "markdown",
   "id": "6231d265",
   "metadata": {},
   "source": [
    "Import libraries for datashader, which can be used for visualizing large datasets."
   ]
  },
  {
   "cell_type": "code",
   "execution_count": null,
   "id": "2d37460c",
   "metadata": {},
   "outputs": [],
   "source": [
    "import datashader as ds\n",
    "import datashader.transfer_functions as tf"
   ]
  },
  {
   "cell_type": "markdown",
   "id": "b41852bf",
   "metadata": {},
   "source": [
    "Set pandas display options to show all columns."
   ]
  },
  {
   "cell_type": "code",
   "execution_count": null,
   "id": "1f5ee2f8",
   "metadata": {},
   "outputs": [],
   "source": [
    "pd.set_option('display.max_columns', None)"
   ]
  },
  {
   "cell_type": "markdown",
   "id": "8ca92250",
   "metadata": {},
   "source": [
    "Load the eye-tracking data from the specified CSV file into a pandas DataFrame."
   ]
  },
  {
   "cell_type": "code",
   "execution_count": null,
   "id": "b5333052",
   "metadata": {},
   "outputs": [],
   "source": [
    "df_8_EYE = pd.read_csv('data/STData/8/8_EYE.csv')"
   ]
  },
  {
   "cell_type": "markdown",
   "id": "2b83e634",
   "metadata": {},
   "source": [
    "Display the first few rows of the DataFrame to get an initial look at the data structure and content."
   ]
  },
  {
   "cell_type": "code",
   "execution_count": null,
   "id": "c4c4164c",
   "metadata": {},
   "outputs": [],
   "source": [
    "df_8_EYE.head()"
   ]
  },
  {
   "cell_type": "markdown",
   "id": "11960f5a",
   "metadata": {},
   "source": [
    "Check the dimensions (number of rows and columns) of the DataFrame."
   ]
  },
  {
   "cell_type": "code",
   "execution_count": null,
   "id": "70f52419",
   "metadata": {},
   "outputs": [],
   "source": [
    "df_8_EYE.shape"
   ]
  },
  {
   "cell_type": "markdown",
   "id": "627e466f",
   "metadata": {},
   "source": [
    "List the names of all columns in the DataFrame."
   ]
  },
  {
   "cell_type": "code",
   "execution_count": null,
   "id": "2d134832",
   "metadata": {},
   "outputs": [],
   "source": [
    "df_8_EYE.columns"
   ]
  },
  {
   "cell_type": "markdown",
   "id": "e0897ba4",
   "metadata": {},
   "source": [
    "Display concise information about the DataFrame, including the data types of each column and the number of non-null values. This helps identify columns with missing data."
   ]
  },
  {
   "cell_type": "code",
   "execution_count": null,
   "id": "75500af8",
   "metadata": {},
   "outputs": [],
   "source": [
    "df_8_EYE.info()"
   ]
  },
  {
   "cell_type": "markdown",
   "id": "e29083a5",
   "metadata": {},
   "source": [
    "Calculate and display the number of missing values in each column."
   ]
  },
  {
   "cell_type": "code",
   "execution_count": null,
   "id": "6381a9cc",
   "metadata": {},
   "outputs": [],
   "source": [
    "df_8_EYE.isnull().sum()"
   ]
  },
  {
   "cell_type": "markdown",
   "id": "69752ace",
   "metadata": {},
   "source": [
    "Visualize the distribution of missing values using a heatmap. This provides a visual representation of which columns have missing data and the extent of missingness."
   ]
  },
  {
   "cell_type": "code",
   "execution_count": null,
   "id": "7fa882f2",
   "metadata": {},
   "outputs": [],
   "source": [
    "plt.figure(figsize=(12,8))\n",
    "sns.heatmap(df_8_EYE.isnull(), cmap='viridis')\n",
    "plt.show()"
   ]
  },
  {
   "cell_type": "markdown",
   "id": "3b8202d8",
   "metadata": {},
   "source": [
    "# Notes & Observations\n",
    "\n",
    "- We observe many **null** (or missing) values in the `QuestionKey` columns.\n",
    "- The nulls in the `QuestionKey` column may not represent “true” nulls. Rather, they follow interval patterns, suggesting that during those periods no question was displayed.\n",
    "- These missing values in `QuestionKey` require additional investigation and context-aware handling."
   ]
  },
  {
   "cell_type": "markdown",
   "id": "028e9307",
   "metadata": {},
   "source": [
    "Display the unique values in the `QuestionKey` column to understand the different types of questions or states recorded."
   ]
  },
  {
   "cell_type": "code",
   "execution_count": null,
   "id": "1ee4ebf1",
   "metadata": {},
   "outputs": [],
   "source": [
    "df_8_EYE['QuestionKey'].unique()"
   ]
  },
  {
   "cell_type": "markdown",
   "id": "855f4742",
   "metadata": {},
   "source": [
    "Convert the `Timestamp` column to datetime objects. This is crucial for any time series analysis or manipulation."
   ]
  },
  {
   "cell_type": "code",
   "execution_count": null,
   "id": "ac84e27b",
   "metadata": {},
   "outputs": [],
   "source": [
    "df_8_EYE['Timestamp'] = pd.to_datetime(df_8_EYE['Timestamp'])"
   ]
  },
  {
   "cell_type": "markdown",
   "id": "6188c680",
   "metadata": {},
   "source": [
    "Display the first few rows again to see the effect of the timestamp conversion."
   ]
  },
  {
   "cell_type": "code",
   "execution_count": null,
   "id": "8739164d",
   "metadata": {},
   "outputs": [],
   "source": [
    "df_8_EYE.head(3)"
   ]
  },
  {
   "cell_type": "markdown",
   "id": "d273865a",
   "metadata": {},
   "source": [
    "Fill the missing values in the `QuestionKey` column with the string 'None'. This helps to explicitly mark periods where no question was active."
   ]
  },
  {
   "cell_type": "code",
   "execution_count": null,
   "id": "76b68dfe",
   "metadata": {},
   "outputs": [],
   "source": [
    "df_8_EYE['QuestionKey'].fillna('None', inplace=True)"
   ]
  },
  {
   "cell_type": "markdown",
   "id": "64d261d1",
   "metadata": {},
   "source": [
    "Count the occurrences of each unique value in the `QuestionKey` column after filling missing values."
   ]
  },
  {
   "cell_type": "code",
   "execution_count": null,
   "id": "1df3846e",
   "metadata": {},
   "outputs": [],
   "source": [
    "df_8_EYE['QuestionKey'].value_counts()"
   ]
  },
  {
   "cell_type": "markdown",
   "id": "3265b815",
   "metadata": {},
   "source": [
    "Display the heatmap of missing values again to confirm that the missing values in `QuestionKey` have been handled."
   ]
  },
  {
   "cell_type": "code",
   "execution_count": null,
   "id": "dc0deeef",
   "metadata": {},
   "outputs": [],
   "source": [
    "plt.figure(figsize=(12,8))\n",
    "sns.heatmap(df_8_EYE.isnull(), cmap='viridis')\n",
    "plt.show()"
   ]
  },
  {
   "cell_type": "markdown",
   "id": "12c69b14",
   "metadata": {},
   "source": [
    "Recalculate and display the number of missing values per column to confirm the changes after handling `QuestionKey`."
   ]
  },
  {
   "cell_type": "code",
   "execution_count": null,
   "id": "fce1799e",
   "metadata": {},
   "outputs": [],
   "source": [
    "df_8_EYE.isnull().sum()"
   ]
  },
  {
   "cell_type": "markdown",
   "id": "468c684b",
   "metadata": {},
   "source": [
    "Drop rows that still contain any missing values. This is done after handling `QuestionKey` separately."
   ]
  },
  {
   "cell_type": "code",
   "execution_count": null,
   "id": "dae62c16",
   "metadata": {},
   "outputs": [],
   "source": [
    "df_8_EYE.dropna(inplace=True)"
   ]
  },
  {
   "cell_type": "markdown",
   "id": "66f49f96",
   "metadata": {},
   "source": [
    "Display the first few rows after dropping rows with missing values."
   ]
  },
  {
   "cell_type": "code",
   "execution_count": null,
   "id": "2ae849b9",
   "metadata": {},
   "outputs": [],
   "source": [
    "df_8_EYE.head()"
   ]
  },
  {
   "cell_type": "markdown",
   "id": "343947c8",
   "metadata": {},
   "source": [
    "Display the unique values in the `Row` column."
   ]
  },
  {
   "cell_type": "code",
   "execution_count": null,
   "id": "239dbe2a",
   "metadata": {},
   "outputs": [],
   "source": [
    "df_8_EYE['Row'].unique()"
   ]
  },
  {
   "cell_type": "markdown",
   "id": "bbd8d210",
   "metadata": {},
   "source": [
    "Plot a histogram of the `Row` column to visualize its distribution."
   ]
  },
  {
   "cell_type": "code",
   "execution_count": null,
   "id": "24ecc67e",
   "metadata": {},
   "outputs": [],
   "source": [
    "plt.figure(figsize=(8,6))\n",
    "sns.histplot(df_8_EYE['Row'])\n",
    "plt.show()"
   ]
  },
  {
   "cell_type": "markdown",
   "id": "8cc55c14",
   "metadata": {},
   "source": [
    "# Notes & Observations\n",
    "\n",
    "- The `Row` column appears to be a simple row index and does not provide meaningful information relevant to the eye-tracking data itself. Therefore, it can be dropped."
   ]
  },
  {
   "cell_type": "markdown",
   "id": "f67a970f",
   "metadata": {},
   "source": [
    "Drop the `Row` column as it is not relevant for the analysis."
   ]
  },
  {
   "cell_type": "code",
   "execution_count": null,
   "id": "429f776d",
   "metadata": {},
   "outputs": [],
   "source": [
    "df_8_EYE.drop('Row', axis=1, inplace=True)"
   ]
  },
  {
   "cell_type": "markdown",
   "id": "29f5dc95",
   "metadata": {},
   "source": [
    "Display the unique values in the `ET_ValidityLeft` column."
   ]
  },
  {
   "cell_type": "code",
   "execution_count": null,
   "id": "61849ca8",
   "metadata": {},
   "outputs": [],
   "source": [
    "df_8_EYE['ET_ValidityLeft'].unique()"
   ]
  },
  {
   "cell_type": "markdown",
   "id": "be86253a",
   "metadata": {},
   "source": [
    "Count the occurrences of each unique value in the `ET_ValidityLeft` column."
   ]
  },
  {
   "cell_type": "code",
   "execution_count": null,
   "id": "7385bd86",
   "metadata": {},
   "outputs": [],
   "source": [
    "df_8_EYE['ET_ValidityLeft'].value_counts()"
   ]
  },
  {
   "cell_type": "markdown",
   "id": "1386eae8",
   "metadata": {},
   "source": [
    "Display the unique values in the `ET_ValidityRight` column."
   ]
  },
  {
   "cell_type": "code",
   "execution_count": null,
   "id": "4e0ecb6b",
   "metadata": {},
   "outputs": [],
   "source": [
    "df_8_EYE['ET_ValidityRight'].unique()"
   ]
  },
  {
   "cell_type": "markdown",
   "id": "f4180ee2",
   "metadata": {},
   "source": [
    "Count the occurrences of each unique value in the `ET_ValidityRight` column."
   ]
  },
  {
   "cell_type": "code",
   "execution_count": null,
   "id": "8003e3a1",
   "metadata": {},
   "outputs": [],
   "source": [
    "df_8_EYE['ET_ValidityRight'].value_counts()"
   ]
  },
  {
   "cell_type": "markdown",
   "id": "746c8217",
   "metadata": {},
   "source": [
    "Visualize the counts of valid and invalid data for both left and right eyes using bar plots."
   ]
  },
  {
   "cell_type": "code",
   "execution_count": null,
   "id": "9726e3ce",
   "metadata": {},
   "outputs": [],
   "source": [
    "plt.figure(figsize=(12, 6))\n",
    "\n",
    "plt.subplot(1, 2, 1)\n",
    "sns.barplot(x=df_8_EYE['ET_ValidityLeft'].value_counts().index, y=df_8_EYE['ET_ValidityLeft'].value_counts().values)\n",
    "plt.title('Count of ET_ValidityLeft')\n",
    "plt.xlabel('Validity')\n",
    "plt.ylabel('Count')\n",
    "\n",
    "\n",
    "plt.subplot(1, 2, 2)\n",
    "sns.barplot(x=df_8_EYE['ET_ValidityRight'].value_counts().index, y=df_8_EYE['ET_ValidityRight'].value_counts().values)\n",
    "plt.title('Count of ET_ValidityRight')\n",
    "plt.xlabel('Validity')\n",
    "plt.ylabel('Count')\n",
    "\n",
    "plt.tight_layout()\n",
    "plt.show()"
   ]
  },
  {
   "cell_type": "markdown",
   "id": "47db03d9",
   "metadata": {},
   "source": [
    "# Notes & Observations\n",
    "\n",
    "- The `ET_ValidityLeft` and `ET_ValidityRight` columns indicate the validity of the eye-tracking data for the left and right eye, respectively.\n",
    "- Based on the value counts and the bar plots, it appears that a value of `0.0` represents valid eye-tracking data, while a value of `4.0` represents invalid data.\n",
    "- Although the amount of invalid data is relatively small, removing these rows could introduce unwanted patterns or gaps in the time series data.\n",
    "- Therefore, we will keep the data and replace the value `4.0` with `1.0` in both `ET_ValidityLeft` and `ET_ValidityRight` columns. This will indicate to a machine learning model that the eye tracker had invalid data at those specific points in time while maintaining the integrity of the time series."
   ]
  },
  {
   "cell_type": "markdown",
   "id": "043a42ac",
   "metadata": {},
   "source": [
    "Define a mapping to convert validity values from `0.0` and `4.0` to `0` and `1`."
   ]
  },
  {
   "cell_type": "code",
   "execution_count": null,
   "id": "dda46935",
   "metadata": {},
   "outputs": [],
   "source": [
    "validity_map = {4.0: 1.0, 0.0: 0.0}"
   ]
  },
  {
   "cell_type": "markdown",
   "id": "445a4e1c",
   "metadata": {},
   "source": [
    "Apply the mapping to the `ET_ValidityLeft` and `ET_ValidityRight` columns and convert the data type to integer."
   ]
  },
  {
   "cell_type": "code",
   "execution_count": null,
   "id": "447b4051",
   "metadata": {},
   "outputs": [],
   "source": [
    "df_8_EYE['ET_ValidityLeft'] = df_8_EYE['ET_ValidityLeft'].map(validity_map).astype(np.int8)\n",
    "df_8_EYE['ET_ValidityRight'] = df_8_EYE['ET_ValidityRight'].map(validity_map).astype(np.int8)"
   ]
  },
  {
   "cell_type": "markdown",
   "id": "a369a80c",
   "metadata": {},
   "source": [
    "Display the first few rows to see the updated validity columns."
   ]
  },
  {
   "cell_type": "code",
   "execution_count": null,
   "id": "b39a3322",
   "metadata": {},
   "outputs": [],
   "source": [
    "df_8_EYE.head(3)"
   ]
  },
  {
   "cell_type": "markdown",
   "id": "ba69f931",
   "metadata": {},
   "source": [
    "Display descriptive statistics for the DataFrame, including count, mean, standard deviation, min, max, and quartiles for numeric columns."
   ]
  },
  {
   "cell_type": "code",
   "execution_count": null,
   "id": "3e9377a6",
   "metadata": {},
   "outputs": [],
   "source": [
    "df_8_EYE.describe()"
   ]
  },
  {
   "cell_type": "markdown",
   "id": "dc42c5df",
   "metadata": {},
   "source": [
    "Check the number of rows where `ET_ValidityLeft` is 1 (invalid data for the left eye)."
   ]
  },
  {
   "cell_type": "code",
   "execution_count": null,
   "id": "86f04a3d",
   "metadata": {},
   "outputs": [],
   "source": [
    "df_8_EYE[df_8_EYE['ET_ValidityLeft'] == 1].shape"
   ]
  },
  {
   "cell_type": "markdown",
   "id": "18f918bf",
   "metadata": {},
   "source": [
    "Check the number of rows where `ET_ValidityRight` is 1 (invalid data for the right eye)."
   ]
  },
  {
   "cell_type": "code",
   "execution_count": null,
   "id": "5a6ee239",
   "metadata": {},
   "outputs": [],
   "source": [
    "df_8_EYE[df_8_EYE['ET_ValidityRight'] == 1].shape"
   ]
  },
  {
   "cell_type": "markdown",
   "id": "ed9ce80b",
   "metadata": {},
   "source": [
    "Visualize the distribution of -1 and 1 values across columns using heatmaps. This helps identify columns with placeholder or indicator values."
   ]
  },
  {
   "cell_type": "code",
   "execution_count": null,
   "id": "e1f3b3a1",
   "metadata": {},
   "outputs": [],
   "source": [
    "plt.figure(figsize=(18, 8))\n",
    "\n",
    "plt.subplot(1, 2, 1)\n",
    "sns.heatmap(df_8_EYE == -1, cmap='viridis')\n",
    "plt.title('Heatmap of -1 Values')\n",
    "\n",
    "plt.subplot(1, 2, 2)\n",
    "sns.heatmap(df_8_EYE == 1, cmap='viridis')\n",
    "plt.title('Heatmap of 1 Values')\n",
    "\n",
    "plt.tight_layout()\n",
    "plt.show()"
   ]
  },
  {
   "cell_type": "markdown",
   "id": "bc6a17ce",
   "metadata": {},
   "source": [
    "Check the number of rows where `ET_PupilLeft` is -1."
   ]
  },
  {
   "cell_type": "code",
   "execution_count": null,
   "id": "3d7ba599",
   "metadata": {},
   "outputs": [],
   "source": [
    "df_8_EYE[df_8_EYE['ET_PupilLeft'] == -1].shape"
   ]
  },
  {
   "cell_type": "markdown",
   "id": "f7a5bd43",
   "metadata": {},
   "source": [
    "Check the number of rows where `ET_PupilRight` is -1."
   ]
  },
  {
   "cell_type": "code",
   "execution_count": null,
   "id": "88eff520",
   "metadata": {},
   "outputs": [],
   "source": [
    "df_8_EYE[df_8_EYE['ET_PupilRight'] == -1].shape"
   ]
  },
  {
   "cell_type": "markdown",
   "id": "8ec83d91",
   "metadata": {},
   "source": [
    "Calculate the ratio of rows with -1 values in the `ET_PupilLeft` column to the total number of rows."
   ]
  },
  {
   "cell_type": "code",
   "execution_count": null,
   "id": "9931cc3b",
   "metadata": {},
   "outputs": [],
   "source": [
    "df_8_EYE[df_8_EYE['ET_PupilLeft'] == -1].shape[0] / df_8_EYE.shape[0]"
   ]
  },
  {
   "cell_type": "markdown",
   "id": "19173c73",
   "metadata": {},
   "source": [
    "Calculate the ratio of rows with -1 values in the `ET_PupilRight` column to the total number of rows."
   ]
  },
  {
   "cell_type": "code",
   "execution_count": null,
   "id": "3058d233",
   "metadata": {},
   "outputs": [],
   "source": [
    "df_8_EYE[df_8_EYE['ET_PupilRight'] == -1].shape[0] / df_8_EYE.shape[0]"
   ]
  },
  {
   "cell_type": "markdown",
   "id": "f48ec8c4",
   "metadata": {},
   "source": [
    "Visualize the distribution of -1 values specifically for rows where validity is 1 (invalid data)."
   ]
  },
  {
   "cell_type": "code",
   "execution_count": null,
   "id": "d02003e7",
   "metadata": {},
   "outputs": [],
   "source": [
    "plt.figure(figsize=(18, 8))\n",
    "\n",
    "plt.subplot(1, 2, 1)\n",
    "sns.heatmap(df_8_EYE[df_8_EYE['ET_ValidityLeft'] == 1] == -1, cmap='viridis')\n",
    "plt.title('Heatmap of -1 Values')\n",
    "\n",
    "plt.subplot(1, 2, 2)\n",
    "sns.heatmap(df_8_EYE[df_8_EYE['ET_ValidityRight'] == 1] == -1, cmap='viridis')\n",
    "plt.title('Heatmap of -1 Values')\n",
    "\n",
    "plt.tight_layout()\n",
    "plt.show()"
   ]
  },
  {
   "cell_type": "markdown",
   "id": "48139cf6",
   "metadata": {},
   "source": [
    "# Notes & Observations\n",
    "\n",
    "- The heatmaps reveal the distribution of -1 values across different columns.\n",
    "- It is evident that the `-1` values are not randomly scattered but appear in specific columns, notably `ET_GazeLeftx`, `ET_GazeLefty`, `ET_GazeRightx`, `ET_GazeRighty`, `ET_PupilLeft`, `ET_PupilRight`, `ET_DistanceLeft`, `ET_DistanceRight`, `ET_CameraLeftX`, `ET_CameraLeftY`, `ET_CameraRightX`, and `ET_CameraRightY`.\n",
    "- These `-1` values often coincide with instances where `ET_ValidityLeft` or `ET_ValidityRight` is 1, indicating invalid eye-tracking data. This suggests that `-1` is used as a placeholder for missing or invalid measurements in these columns when the eye tracker is not providing valid data for a particular eye.\n",
    "- Given that over 70% of the data in the `ET_PupilLeft` and `ET_PupilRight` columns is marked as invalid (-1), these columns may not be suitable for analysis and could be considered for dropping."
   ]
  },
  {
   "cell_type": "markdown",
   "id": "1b04f73c",
   "metadata": {},
   "source": [
    "Drop the `ET_PupilLeft` and `ET_PupilRight` columns due to the high percentage of invalid data."
   ]
  },
  {
   "cell_type": "code",
   "execution_count": null,
   "id": "4ffc9bab",
   "metadata": {},
   "outputs": [],
   "source": [
    "df_8_EYE.drop(['ET_PupilLeft', 'ET_PupilRight'], axis=1, inplace=True)"
   ]
  },
  {
   "cell_type": "markdown",
   "id": "f05a1306",
   "metadata": {},
   "source": [
    "Display the first few rows after dropping the pupil columns."
   ]
  },
  {
   "cell_type": "code",
   "execution_count": null,
   "id": "00da5785",
   "metadata": {},
   "outputs": [],
   "source": [
    "df_8_EYE.head()"
   ]
  },
  {
   "cell_type": "markdown",
   "id": "fa4b0702",
   "metadata": {},
   "source": [
    "Visualize the distribution of -1 and 1 values again after dropping the pupil columns."
   ]
  },
  {
   "cell_type": "code",
   "execution_count": null,
   "id": "b1a1754f",
   "metadata": {},
   "outputs": [],
   "source": [
    "plt.figure(figsize=(18, 8))\n",
    "\n",
    "plt.subplot(1, 2, 1)\n",
    "sns.heatmap(df_8_EYE == -1, cmap='viridis')\n",
    "plt.title('Heatmap of -1 Values')\n",
    "\n",
    "plt.subplot(1, 2, 2)\n",
    "sns.heatmap(df_8_EYE == 1, cmap='viridis')\n",
    "plt.title('Heatmap of -1 Values')\n",
    "\n",
    "plt.tight_layout()\n",
    "plt.show()"
   ]
  },
  {
   "cell_type": "markdown",
   "id": "f4c131e9",
   "metadata": {},
   "source": [
    "Calculate the ratio of valid data points for the left eye."
   ]
  },
  {
   "cell_type": "code",
   "execution_count": null,
   "id": "75f95b2d",
   "metadata": {},
   "outputs": [],
   "source": [
    "valid_left_ratio  = 1 - df_8_EYE['ET_ValidityLeft'].mean()"
   ]
  },
  {
   "cell_type": "markdown",
   "id": "9dea0eac",
   "metadata": {},
   "source": [
    "Display the ratio of valid data points for the left eye."
   ]
  },
  {
   "cell_type": "code",
   "execution_count": null,
   "id": "16744901",
   "metadata": {},
   "outputs": [],
   "source": [
    "valid_left_ratio"
   ]
  },
  {
   "cell_type": "markdown",
   "id": "b1340f89",
   "metadata": {},
   "source": [
    "Calculate the ratio of valid data points for the right eye."
   ]
  },
  {
   "cell_type": "code",
   "execution_count": null,
   "id": "e57f52f1",
   "metadata": {},
   "outputs": [],
   "source": [
    "valid_right_ratio = 1 - df_8_EYE['ET_ValidityRight'].mean()"
   ]
  },
  {
   "cell_type": "markdown",
   "id": "2302d62f",
   "metadata": {},
   "source": [
    "Display the ratio of valid data points for the right eye."
   ]
  },
  {
   "cell_type": "code",
   "execution_count": null,
   "id": "992f5f70",
   "metadata": {},
   "outputs": [],
   "source": [
    "valid_right_ratio"
   ]
  },
  {
   "cell_type": "markdown",
   "id": "d3d20cbd",
   "metadata": {},
   "source": [
    "Display the first few rows of the DataFrame."
   ]
  },
  {
   "cell_type": "code",
   "execution_count": null,
   "id": "4e76f3c0",
   "metadata": {},
   "outputs": [],
   "source": [
    "df_8_EYE.head()"
   ]
  },
  {
   "cell_type": "markdown",
   "id": "cdc3ff76",
   "metadata": {},
   "source": [
    "Visualize the distributions of numeric columns using histograms with Kernel Density Estimate (KDE) plots. This helps understand the shape and spread of the data in each numeric column."
   ]
  },
  {
   "cell_type": "code",
   "execution_count": null,
   "id": "7b12b1e9",
   "metadata": {},
   "outputs": [],
   "source": [
    "# Select only the numeric columns for plotting histograms, excluding time-related columns\n",
    "numeric_cols = df_8_EYE.select_dtypes(include=np.number).columns\n",
    "cols_to_plot = [col for col in numeric_cols if col not in ['UnixTime']]\n",
    "\n",
    "# Calculate the number of rows and columns for the grid\n",
    "n_cols = 4  # You can adjust the number of columns as needed\n",
    "n_rows = (len(cols_to_plot) + n_cols - 1) // n_cols\n",
    "\n",
    "plt.figure(figsize=(n_cols * 5, n_rows * 4)) # Adjust figure size as needed\n",
    "\n",
    "for i, col in enumerate(cols_to_plot):\n",
    "    plt.subplot(n_rows, n_cols, i + 1)\n",
    "    sns.histplot(df_8_EYE[col], kde=True)\n",
    "    plt.title(f'Distribution of {col}')\n",
    "    plt.xlabel(col)\n",
    "    plt.ylabel('Frequency')\n",
    "\n",
    "plt.tight_layout()\n",
    "plt.show()"
   ]
  },
  {
   "cell_type": "markdown",
   "id": "eb50b562",
   "metadata": {},
   "source": [
    "List the names of the columns in the DataFrame."
   ]
  },
  {
   "cell_type": "code",
   "execution_count": null,
   "id": "0b24c920",
   "metadata": {},
   "outputs": [],
   "source": [
    "df_8_EYE.columns"
   ]
  },
  {
   "cell_type": "markdown",
   "id": "d7b44386",
   "metadata": {},
   "source": [
    "Define a list of columns to be plotted over time."
   ]
  },
  {
   "cell_type": "code",
   "execution_count": null,
   "id": "b5f859ad",
   "metadata": {},
   "outputs": [],
   "source": [
    "cols = ['ET_GazeLeftx', 'ET_GazeLefty',\n",
    "       'ET_GazeRightx', 'ET_GazeRighty', 'ET_TimeSignal', 'ET_DistanceLeft',\n",
    "       'ET_DistanceRight', 'ET_CameraLeftX', 'ET_CameraLeftY',\n",
    "       'ET_CameraRightX', 'ET_CameraRightY', 'ET_ValidityLeft',\n",
    "       'ET_ValidityRight']"
   ]
  },
  {
   "cell_type": "markdown",
   "id": "66c68b8d",
   "metadata": {},
   "source": [
    "Plot each of the selected columns against the timestamp to visualize their trends and patterns over time. Markdown cells are added before each plot for better readability."
   ]
  },
  {
   "cell_type": "code",
   "execution_count": null,
   "id": "48dfdccc",
   "metadata": {},
   "outputs": [],
   "source": [
    "from IPython.display import display, Markdown\n",
    "\n",
    "for col in cols:\n",
    "    # Add a markdown cell before each plot for better separation and labeling\n",
    "    display(Markdown(f'### {col} over Time'))\n",
    "    plt.figure(figsize=(16, 10))\n",
    "    plt.plot(df_8_EYE['Timestamp'], df_8_EYE[col])\n",
    "    plt.xlabel(\"Timestamp\") # Add x-axis label\n",
    "    plt.ylabel(col) # Add y-axis label\n",
    "    plt.show()"
   ]
  },
  {
   "cell_type": "markdown",
   "id": "107d6a28",
   "metadata": {},
   "source": [
    "Visualize the distributions of numeric columns using boxplots. This helps identify potential outliers and the spread of the data."
   ]
  },
  {
   "cell_type": "code",
   "execution_count": null,
   "id": "fc365d4b",
   "metadata": {},
   "outputs": [],
   "source": [
    "# Select only the numeric columns for plotting histograms, excluding time-related columns\n",
    "numeric_cols = df_8_EYE.select_dtypes(include=np.number).columns\n",
    "\n",
    "# Calculate the number of rows and columns for the grid\n",
    "n_cols = 4  # You can adjust the number of columns as needed\n",
    "n_rows = (len(numeric_cols) + n_cols - 1) // n_cols\n",
    "\n",
    "plt.figure(figsize=(n_cols * 5, n_rows * 4)) # Adjust figure size as needed\n",
    "\n",
    "for i, col in enumerate(numeric_cols):\n",
    "    plt.subplot(n_rows, n_cols, i + 1)\n",
    "    sns.boxplot(df_8_EYE[col])\n",
    "    plt.title(f'Boxplot of {col}')\n",
    "    plt.xlabel(col)\n",
    "\n",
    "plt.tight_layout()\n",
    "plt.show()"
   ]
  },
  {
   "cell_type": "markdown",
   "id": "af269096",
   "metadata": {},
   "source": [
    "Replace the placeholder value -1 with NaN (Not a Number) in the DataFrame. This is done before imputation."
   ]
  },
  {
   "cell_type": "code",
   "execution_count": null,
   "id": "c9714206",
   "metadata": {},
   "outputs": [],
   "source": [
    "df_8_EYE.replace({-1: np.nan}, inplace=True)"
   ]
  },
  {
   "cell_type": "markdown",
   "id": "cfc89c55",
   "metadata": {},
   "source": [
    "Impute the missing values (NaN) in the numeric columns with the mean of each column."
   ]
  },
  {
   "cell_type": "code",
   "execution_count": null,
   "id": "806d57b8",
   "metadata": {},
   "outputs": [],
   "source": [
    "numeric_cols = df_8_EYE.select_dtypes(include=np.number).columns\n",
    "\n",
    "for col in numeric_cols:\n",
    "    df_8_EYE[col].fillna(df_8_EYE[col].mean(), inplace=True)"
   ]
  },
  {
   "cell_type": "markdown",
   "id": "6768a167",
   "metadata": {},
   "source": [
    "Display the first few rows after imputing missing values."
   ]
  },
  {
   "cell_type": "code",
   "execution_count": null,
   "id": "8cd10ee2",
   "metadata": {},
   "outputs": [],
   "source": [
    "df_8_EYE.head()"
   ]
  },
  {
   "cell_type": "markdown",
   "id": "4271cb2e",
   "metadata": {},
   "source": [
    "Visualize the distributions of numeric columns again using histograms with KDE plots after imputation. This helps assess the impact of imputation on the data distributions."
   ]
  },
  {
   "cell_type": "code",
   "execution_count": null,
   "id": "df4db623",
   "metadata": {},
   "outputs": [],
   "source": [
    "# Select only the numeric columns for plotting histograms, excluding time-related columns\n",
    "numeric_cols = df_8_EYE.select_dtypes(include=np.number).columns\n",
    "cols_to_plot = [col for col in numeric_cols if col not in ['UnixTime']]\n",
    "\n",
    "# Calculate the number of rows and columns for the grid\n",
    "n_cols = 4  # You can adjust the number of columns as needed\n",
    "n_rows = (len(cols_to_plot) + n_cols - 1) // n_cols\n",
    "\n",
    "plt.figure(figsize=(n_cols * 5, n_rows * 4)) # Adjust figure size as needed\n",
    "\n",
    "for i, col in enumerate(cols_to_plot):\n",
    "    plt.subplot(n_rows, n_cols, i + 1)\n",
    "    sns.histplot(df_8_EYE[col], kde=True)\n",
    "    plt.title(f'Distribution of {col}')\n",
    "    plt.xlabel(col)\n",
    "    plt.ylabel('Frequency')\n",
    "\n",
    "plt.tight_layout()\n",
    "plt.show()"
   ]
  },
  {
   "cell_type": "code",
   "execution_count": null,
   "id": "631d2c78",
   "metadata": {},
   "outputs": [],
   "source": []
  },
  {
   "cell_type": "markdown",
   "id": "9e9c21fa",
   "metadata": {},
   "source": [
    "## Student 9"
   ]
  },
  {
   "cell_type": "code",
   "execution_count": null,
   "id": "2f1ca400",
   "metadata": {},
   "outputs": [],
   "source": [
    "%load_ext cudf"
   ]
  },
  {
   "cell_type": "code",
   "execution_count": null,
   "id": "f365bef1",
   "metadata": {},
   "outputs": [],
   "source": [
    "import numpy as np\n",
    "import pandas as pd\n",
    "import matplotlib.pyplot as plt\n",
    "import seaborn as sns"
   ]
  },
  {
   "cell_type": "code",
   "execution_count": null,
   "id": "813ade6b",
   "metadata": {},
   "outputs": [],
   "source": [
    "import datashader as ds\n",
    "import datashader.transfer_functions as tf"
   ]
  },
  {
   "cell_type": "code",
   "execution_count": null,
   "id": "7ff4f868",
   "metadata": {},
   "outputs": [],
   "source": [
    "pd.set_option('display.max_columns', None)"
   ]
  },
  {
   "cell_type": "code",
   "execution_count": null,
   "id": "a653531a",
   "metadata": {},
   "outputs": [],
   "source": [
    "df_9_EYE = pd.read_csv('data/STData/9/9_EYE.csv')"
   ]
  },
  {
   "cell_type": "code",
   "execution_count": null,
   "id": "11bbddc5",
   "metadata": {},
   "outputs": [],
   "source": [
    "df_9_EYE.head()"
   ]
  },
  {
   "cell_type": "code",
   "execution_count": null,
   "id": "1cc056cd",
   "metadata": {},
   "outputs": [],
   "source": [
    "df_9_EYE.shape"
   ]
  },
  {
   "cell_type": "code",
   "execution_count": null,
   "id": "0e4857d7",
   "metadata": {},
   "outputs": [],
   "source": [
    "df_9_EYE.columns"
   ]
  },
  {
   "cell_type": "code",
   "execution_count": null,
   "id": "3a05a287",
   "metadata": {},
   "outputs": [],
   "source": [
    "df_9_EYE.info()"
   ]
  },
  {
   "cell_type": "code",
   "execution_count": null,
   "id": "82f04fe6",
   "metadata": {},
   "outputs": [],
   "source": [
    "df_9_EYE.isnull().sum()"
   ]
  },
  {
   "cell_type": "code",
   "execution_count": null,
   "id": "fb62d6db",
   "metadata": {},
   "outputs": [],
   "source": [
    "plt.figure(figsize=(12,8))\n",
    "sns.heatmap(df_9_EYE.isnull(), cmap='viridis')\n",
    "plt.show()"
   ]
  },
  {
   "cell_type": "markdown",
   "id": "28d81733",
   "metadata": {},
   "source": [
    "# Notes & Observations\n",
    "\n",
    "- We observe many **null** (or missing) values in the `QuestionKey` columns.  \n",
    "- The nulls in the `QuestionKey` column may not represent “true” nulls. Rather, they follow interval patterns, suggesting that during those periods no question was displayed.  \n",
    "- These missing values in `QuestionKey` require additional investigation and context-aware handling.  "
   ]
  },
  {
   "cell_type": "code",
   "execution_count": null,
   "id": "8372e922",
   "metadata": {},
   "outputs": [],
   "source": [
    "df_9_EYE['QuestionKey'].unique()"
   ]
  },
  {
   "cell_type": "code",
   "execution_count": null,
   "id": "58918325",
   "metadata": {},
   "outputs": [],
   "source": [
    "df_9_EYE['Timestamp'] = pd.to_datetime(df_9_EYE['Timestamp'])"
   ]
  },
  {
   "cell_type": "code",
   "execution_count": null,
   "id": "e42a4d7f",
   "metadata": {},
   "outputs": [],
   "source": [
    "df_9_EYE.head(3)"
   ]
  },
  {
   "cell_type": "code",
   "execution_count": null,
   "id": "3290aa78",
   "metadata": {},
   "outputs": [],
   "source": [
    "df_9_EYE['QuestionKey'].fillna('None', inplace=True)"
   ]
  },
  {
   "cell_type": "code",
   "execution_count": null,
   "id": "0b1f1614",
   "metadata": {},
   "outputs": [],
   "source": [
    "df_9_EYE['QuestionKey'].value_counts()"
   ]
  },
  {
   "cell_type": "code",
   "execution_count": null,
   "id": "0f1cf283",
   "metadata": {},
   "outputs": [],
   "source": [
    "plt.figure(figsize=(12,8))\n",
    "sns.heatmap(df_9_EYE.isnull(), cmap='viridis')\n",
    "plt.show()"
   ]
  },
  {
   "cell_type": "code",
   "execution_count": null,
   "id": "e6d37f33",
   "metadata": {},
   "outputs": [],
   "source": [
    "df_9_EYE.isnull().sum()"
   ]
  },
  {
   "cell_type": "code",
   "execution_count": null,
   "id": "d141dc24",
   "metadata": {},
   "outputs": [],
   "source": [
    "df_9_EYE.dropna(inplace=True)"
   ]
  },
  {
   "cell_type": "code",
   "execution_count": null,
   "id": "29902f30",
   "metadata": {},
   "outputs": [],
   "source": [
    "df_9_EYE.head()"
   ]
  },
  {
   "cell_type": "code",
   "execution_count": null,
   "id": "abecab5a",
   "metadata": {},
   "outputs": [],
   "source": [
    "df_9_EYE['Row'].unique()"
   ]
  },
  {
   "cell_type": "code",
   "execution_count": null,
   "id": "3a6b00a7",
   "metadata": {},
   "outputs": [],
   "source": [
    "plt.figure(figsize=(8,6))\n",
    "sns.histplot(df_9_EYE['Row'])\n",
    "plt.show()"
   ]
  },
  {
   "cell_type": "markdown",
   "id": "f55b5ea3",
   "metadata": {},
   "source": [
    "# Notes & Observations\n",
    "\n",
    "- The `Row` column appears to be a simple row index and does not provide meaningful information relevant to the eye-tracking data itself. Therefore, it can be dropped."
   ]
  },
  {
   "cell_type": "code",
   "execution_count": null,
   "id": "ac9ae66e",
   "metadata": {},
   "outputs": [],
   "source": [
    "df_9_EYE.drop('Row', axis=1, inplace=True)"
   ]
  },
  {
   "cell_type": "code",
   "execution_count": null,
   "id": "80d2505c",
   "metadata": {},
   "outputs": [],
   "source": [
    "df_9_EYE['ET_ValidityLeft'].unique()"
   ]
  },
  {
   "cell_type": "code",
   "execution_count": null,
   "id": "9cad67c3",
   "metadata": {},
   "outputs": [],
   "source": [
    "df_9_EYE['ET_ValidityLeft'].value_counts()"
   ]
  },
  {
   "cell_type": "code",
   "execution_count": null,
   "id": "a982e95d",
   "metadata": {},
   "outputs": [],
   "source": [
    "df_9_EYE['ET_ValidityRight'].unique()"
   ]
  },
  {
   "cell_type": "code",
   "execution_count": null,
   "id": "8452e066",
   "metadata": {},
   "outputs": [],
   "source": [
    "df_9_EYE['ET_ValidityRight'].value_counts()"
   ]
  },
  {
   "cell_type": "code",
   "execution_count": null,
   "id": "26353629",
   "metadata": {},
   "outputs": [],
   "source": [
    "plt.figure(figsize=(12, 6))\n",
    "\n",
    "plt.subplot(1, 2, 1)\n",
    "sns.barplot(x=df_9_EYE['ET_ValidityLeft'].value_counts().index, y=df_9_EYE['ET_ValidityLeft'].value_counts().values)\n",
    "plt.title('Count of ET_ValidityLeft')\n",
    "plt.xlabel('Validity')\n",
    "plt.ylabel('Count')\n",
    "\n",
    "\n",
    "plt.subplot(1, 2, 2)\n",
    "sns.barplot(x=df_9_EYE['ET_ValidityRight'].value_counts().index, y=df_9_EYE['ET_ValidityRight'].value_counts().values)\n",
    "plt.title('Count of ET_ValidityRight')\n",
    "plt.xlabel('Validity')\n",
    "plt.ylabel('Count')\n",
    "\n",
    "plt.tight_layout()\n",
    "plt.show()"
   ]
  },
  {
   "cell_type": "markdown",
   "id": "2c22a64a",
   "metadata": {},
   "source": [
    "# Notes & Observations\n",
    "\n",
    "- The `ET_ValidityLeft` and `ET_ValidityRight` columns indicate the validity of the eye-tracking data for the left and right eye, respectively.\n",
    "- Based on the value counts and the bar plots, it appears that a value of `0.0` represents valid eye-tracking data, while a value of `4.0` represents invalid data.\n",
    "- Although the amount of invalid data is relatively small, removing these rows could introduce unwanted patterns or gaps in the time series data.\n",
    "- Therefore, we will keep the data and replace the value `4.0` with `1.0` in both `ET_ValidityLeft` and `ET_ValidityRight` columns. This will indicate to a machine learning model that the eye tracker had invalid data at those specific points in time while maintaining the integrity of the time series."
   ]
  },
  {
   "cell_type": "code",
   "execution_count": null,
   "id": "6a7c8d71",
   "metadata": {},
   "outputs": [],
   "source": [
    "validity_map = {4.0: 1.0, 0.0: 0.0}"
   ]
  },
  {
   "cell_type": "code",
   "execution_count": null,
   "id": "6d7c5553",
   "metadata": {},
   "outputs": [],
   "source": [
    "df_9_EYE['ET_ValidityLeft'] = df_9_EYE['ET_ValidityLeft'].map(validity_map).astype(np.int8)\n",
    "df_9_EYE['ET_ValidityRight'] = df_9_EYE['ET_ValidityRight'].map(validity_map).astype(np.int8)"
   ]
  },
  {
   "cell_type": "code",
   "execution_count": null,
   "id": "00e70c91",
   "metadata": {},
   "outputs": [],
   "source": [
    "df_9_EYE.head(3)"
   ]
  },
  {
   "cell_type": "code",
   "execution_count": null,
   "id": "4ac496d6",
   "metadata": {},
   "outputs": [],
   "source": [
    "df_9_EYE.describe()"
   ]
  },
  {
   "cell_type": "code",
   "execution_count": null,
   "id": "96728922",
   "metadata": {},
   "outputs": [],
   "source": [
    "df_9_EYE[df_9_EYE['ET_ValidityLeft'] == 1].shape"
   ]
  },
  {
   "cell_type": "code",
   "execution_count": null,
   "id": "7e5ace0b",
   "metadata": {},
   "outputs": [],
   "source": [
    "df_9_EYE[df_9_EYE['ET_ValidityRight'] == 1].shape"
   ]
  },
  {
   "cell_type": "code",
   "execution_count": null,
   "id": "dc17bc3b",
   "metadata": {},
   "outputs": [],
   "source": [
    "plt.figure(figsize=(18, 8))\n",
    "\n",
    "plt.subplot(1, 2, 1)\n",
    "sns.heatmap(df_9_EYE == -1, cmap='viridis')\n",
    "plt.title('Heatmap of -1 Values')\n",
    "\n",
    "plt.subplot(1, 2, 2)\n",
    "sns.heatmap(df_9_EYE == 1, cmap='viridis')\n",
    "plt.title('Heatmap of 1 Values')\n",
    "\n",
    "plt.tight_layout()\n",
    "plt.show()"
   ]
  },
  {
   "cell_type": "code",
   "execution_count": null,
   "id": "35c1d892",
   "metadata": {},
   "outputs": [],
   "source": [
    "df_9_EYE[df_9_EYE['ET_PupilLeft'] == -1].shape"
   ]
  },
  {
   "cell_type": "code",
   "execution_count": null,
   "id": "a6af2e0e",
   "metadata": {},
   "outputs": [],
   "source": [
    "df_9_EYE[df_9_EYE['ET_PupilRight'] == -1].shape"
   ]
  },
  {
   "cell_type": "code",
   "execution_count": null,
   "id": "c25ff55f",
   "metadata": {},
   "outputs": [],
   "source": [
    "df_9_EYE[df_9_EYE['ET_PupilLeft'] == -1].shape[0] / df_9_EYE.shape[0]"
   ]
  },
  {
   "cell_type": "code",
   "execution_count": null,
   "id": "697e0569",
   "metadata": {},
   "outputs": [],
   "source": [
    "df_9_EYE[df_9_EYE['ET_PupilRight'] == -1].shape[0] / df_9_EYE.shape[0]"
   ]
  },
  {
   "cell_type": "code",
   "execution_count": null,
   "id": "41c9a8e7",
   "metadata": {},
   "outputs": [],
   "source": [
    "plt.figure(figsize=(18, 8))\n",
    "\n",
    "plt.subplot(1, 2, 1)\n",
    "sns.heatmap(df_9_EYE[df_9_EYE['ET_ValidityLeft'] == 1] == -1, cmap='viridis')\n",
    "plt.title('Heatmap of -1 Values')\n",
    "\n",
    "plt.subplot(1, 2, 2)\n",
    "sns.heatmap(df_9_EYE[df_9_EYE['ET_ValidityRight'] == 1] == -1, cmap='viridis')\n",
    "plt.title('Heatmap of -1 Values')\n",
    "\n",
    "plt.tight_layout()\n",
    "plt.show()"
   ]
  },
  {
   "cell_type": "markdown",
   "id": "ed56adc1",
   "metadata": {},
   "source": [
    "# Notes & Observations\n",
    "\n",
    "- The heatmaps reveal the distribution of -1 values across different columns.\n",
    "- It is evident that the `-1` values are not randomly scattered but appear in specific columns, notably `ET_GazeLeftx`, `ET_GazeLefty`, `ET_GazeRightx`, `ET_GazeRighty`, `ET_PupilLeft`, `ET_PupilRight`, `ET_DistanceLeft`, `ET_DistanceRight`, `ET_CameraLeftX`, `ET_CameraLeftY`, `ET_CameraRightX`, and `ET_CameraRightY`.\n",
    "- These `-1` values often coincide with instances where `ET_ValidityLeft` or `ET_ValidityRight` is 1, indicating invalid eye-tracking data. This suggests that `-1` is used as a placeholder for missing or invalid measurements in these columns when the eye tracker is not providing valid data for a particular eye.\n",
    "- Given that over 70% of the data in the `ET_PupilLeft` and `ET_PupilRight` columns is marked as invalid (-1), these columns may not be suitable for analysis and could be considered for dropping."
   ]
  },
  {
   "cell_type": "code",
   "execution_count": null,
   "id": "3dbef3c2",
   "metadata": {},
   "outputs": [],
   "source": [
    "df_9_EYE.drop(['ET_PupilLeft', 'ET_PupilRight'], axis=1, inplace=True)"
   ]
  },
  {
   "cell_type": "code",
   "execution_count": null,
   "id": "21fe93cb",
   "metadata": {},
   "outputs": [],
   "source": [
    "df_9_EYE.head()"
   ]
  },
  {
   "cell_type": "code",
   "execution_count": null,
   "id": "9366b79a",
   "metadata": {},
   "outputs": [],
   "source": [
    "plt.figure(figsize=(18, 8))\n",
    "\n",
    "plt.subplot(1, 2, 1)\n",
    "sns.heatmap(df_9_EYE == -1, cmap='viridis')\n",
    "plt.title('Heatmap of -1 Values')\n",
    "\n",
    "plt.subplot(1, 2, 2)\n",
    "sns.heatmap(df_9_EYE == 1, cmap='viridis')\n",
    "plt.title('Heatmap of -1 Values')\n",
    "\n",
    "plt.tight_layout()\n",
    "plt.show()"
   ]
  },
  {
   "cell_type": "code",
   "execution_count": null,
   "id": "0999f181",
   "metadata": {},
   "outputs": [],
   "source": [
    "valid_left_ratio  = 1 - df_9_EYE['ET_ValidityLeft'].mean()\n",
    "valid_right_ratio = 1 - df_9_EYE['ET_ValidityRight'].mean()"
   ]
  },
  {
   "cell_type": "code",
   "execution_count": null,
   "id": "2d9bae9b",
   "metadata": {},
   "outputs": [],
   "source": [
    "valid_left_ratio"
   ]
  },
  {
   "cell_type": "code",
   "execution_count": null,
   "id": "58deb280",
   "metadata": {},
   "outputs": [],
   "source": [
    "valid_right_ratio"
   ]
  },
  {
   "cell_type": "code",
   "execution_count": null,
   "id": "3f39a2a0",
   "metadata": {},
   "outputs": [],
   "source": [
    "df_9_EYE.head()"
   ]
  },
  {
   "cell_type": "code",
   "execution_count": null,
   "id": "818409be",
   "metadata": {},
   "outputs": [],
   "source": [
    "# Select only the numeric columns for plotting histograms, excluding time-related columns\n",
    "numeric_cols = df_9_EYE.select_dtypes(include=np.number).columns\n",
    "cols_to_plot = [col for col in numeric_cols if col not in ['UnixTime']]\n",
    "\n",
    "# Calculate the number of rows and columns for the grid\n",
    "n_cols = 4  # You can adjust the number of columns as needed\n",
    "n_rows = (len(cols_to_plot) + n_cols - 1) // n_cols\n",
    "\n",
    "plt.figure(figsize=(n_cols * 5, n_rows * 4)) # Adjust figure size as needed\n",
    "\n",
    "for i, col in enumerate(cols_to_plot):\n",
    "    plt.subplot(n_rows, n_cols, i + 1)\n",
    "    sns.histplot(df_9_EYE[col], kde=True)\n",
    "    plt.title(f'Distribution of {col}')\n",
    "    plt.xlabel(col)\n",
    "    plt.ylabel('Frequency')\n",
    "\n",
    "plt.tight_layout()\n",
    "plt.show()"
   ]
  },
  {
   "cell_type": "code",
   "execution_count": null,
   "id": "7b533180",
   "metadata": {},
   "outputs": [],
   "source": [
    "df_9_EYE.columns"
   ]
  },
  {
   "cell_type": "code",
   "execution_count": null,
   "id": "0506c5a9",
   "metadata": {},
   "outputs": [],
   "source": [
    "cols = ['ET_GazeLeftx', 'ET_GazeLefty',\n",
    "       'ET_GazeRightx', 'ET_GazeRighty', 'ET_TimeSignal', 'ET_DistanceLeft',\n",
    "       'ET_DistanceRight', 'ET_CameraLeftX', 'ET_CameraLeftY',\n",
    "       'ET_CameraRightX', 'ET_CameraRightY', 'ET_ValidityLeft',\n",
    "       'ET_ValidityRight']"
   ]
  },
  {
   "cell_type": "code",
   "execution_count": null,
   "id": "8a503e62",
   "metadata": {},
   "outputs": [],
   "source": [
    "from IPython.display import display, Markdown\n",
    "\n",
    "for col in cols:\n",
    "    # Add a markdown cell before each plot for better separation and labeling\n",
    "    display(Markdown(f'### {col} over Time'))\n",
    "    plt.figure(figsize=(16, 10))\n",
    "    plt.plot(df_9_EYE['Timestamp'], df_9_EYE[col])\n",
    "    plt.xlabel(\"Timestamp\") # Add x-axis label\n",
    "    plt.ylabel(col) # Add y-axis label\n",
    "    plt.show()"
   ]
  },
  {
   "cell_type": "code",
   "execution_count": null,
   "id": "da7e279e",
   "metadata": {},
   "outputs": [],
   "source": [
    "# Select only the numeric columns for plotting histograms, excluding time-related columns\n",
    "numeric_cols = df_9_EYE.select_dtypes(include=np.number).columns\n",
    "\n",
    "# Calculate the number of rows and columns for the grid\n",
    "n_cols = 4  # You can adjust the number of columns as needed\n",
    "n_rows = (len(numeric_cols) + n_cols - 1) // n_cols\n",
    "\n",
    "plt.figure(figsize=(n_cols * 5, n_rows * 4)) # Adjust figure size as needed\n",
    "\n",
    "for i, col in enumerate(numeric_cols):\n",
    "    plt.subplot(n_rows, n_cols, i + 1)\n",
    "    sns.boxplot(df_9_EYE[col])\n",
    "    plt.title(f'Boxplot of {col}')\n",
    "    plt.xlabel(col)\n",
    "\n",
    "plt.tight_layout()\n",
    "plt.show()"
   ]
  },
  {
   "cell_type": "code",
   "execution_count": null,
   "id": "ad12a87e",
   "metadata": {},
   "outputs": [],
   "source": [
    "df_9_EYE.replace({-1: np.nan}, inplace=True)"
   ]
  },
  {
   "cell_type": "code",
   "execution_count": null,
   "id": "5ed3e3da",
   "metadata": {},
   "outputs": [],
   "source": [
    "numeric_cols = df_9_EYE.select_dtypes(include=np.number).columns\n",
    "\n",
    "for col in numeric_cols:\n",
    "    df_9_EYE[col].fillna(df_9_EYE[col].mean(), inplace=True)"
   ]
  },
  {
   "cell_type": "code",
   "execution_count": null,
   "id": "e0ab991b",
   "metadata": {},
   "outputs": [],
   "source": [
    "df_9_EYE.head()"
   ]
  },
  {
   "cell_type": "code",
   "execution_count": null,
   "id": "97039517",
   "metadata": {},
   "outputs": [],
   "source": [
    "# Select only the numeric columns for plotting histograms, excluding time-related columns\n",
    "numeric_cols = df_9_EYE.select_dtypes(include=np.number).columns\n",
    "cols_to_plot = [col for col in numeric_cols if col not in ['UnixTime']]\n",
    "\n",
    "# Calculate the number of rows and columns for the grid\n",
    "n_cols = 4  # You can adjust the number of columns as needed\n",
    "n_rows = (len(cols_to_plot) + n_cols - 1) // n_cols\n",
    "\n",
    "plt.figure(figsize=(n_cols * 5, n_rows * 4)) # Adjust figure size as needed\n",
    "\n",
    "for i, col in enumerate(cols_to_plot):\n",
    "    plt.subplot(n_rows, n_cols, i + 1)\n",
    "    sns.histplot(df_9_EYE[col], kde=True)\n",
    "    plt.title(f'Distribution of {col}')\n",
    "    plt.xlabel(col)\n",
    "    plt.ylabel('Frequency')\n",
    "\n",
    "plt.tight_layout()\n",
    "plt.show()"
   ]
  },
  {
   "cell_type": "code",
   "execution_count": null,
   "id": "8660a182",
   "metadata": {},
   "outputs": [],
   "source": []
  },
  {
   "cell_type": "code",
   "execution_count": null,
   "id": "72b0ad95",
   "metadata": {},
   "outputs": [],
   "source": []
  },
  {
   "cell_type": "code",
   "execution_count": null,
   "id": "14853b61",
   "metadata": {},
   "outputs": [],
   "source": []
  },
  {
   "cell_type": "code",
   "execution_count": null,
   "id": "57264442",
   "metadata": {},
   "outputs": [],
   "source": []
  },
  {
   "cell_type": "code",
   "execution_count": null,
   "id": "4fe32165",
   "metadata": {},
   "outputs": [],
   "source": []
  },
  {
   "cell_type": "code",
   "execution_count": null,
   "id": "a6be85cf",
   "metadata": {},
   "outputs": [],
   "source": []
  },
  {
   "cell_type": "code",
   "execution_count": null,
   "id": "40755e70",
   "metadata": {},
   "outputs": [],
   "source": []
  },
  {
   "cell_type": "code",
   "execution_count": null,
   "id": "1196ebec",
   "metadata": {},
   "outputs": [],
   "source": []
  },
  {
   "cell_type": "code",
   "execution_count": null,
   "id": "ff158954",
   "metadata": {},
   "outputs": [],
   "source": []
  },
  {
   "cell_type": "code",
   "execution_count": null,
   "id": "6e869206",
   "metadata": {},
   "outputs": [],
   "source": []
  },
  {
   "cell_type": "code",
   "execution_count": null,
   "id": "7c09a4fd",
   "metadata": {},
   "outputs": [],
   "source": []
  },
  {
   "cell_type": "code",
   "execution_count": null,
   "id": "d10bb4db",
   "metadata": {},
   "outputs": [],
   "source": []
  },
  {
   "cell_type": "markdown",
   "id": "a9fb5b47",
   "metadata": {},
   "source": [
    "# Eye Tracking Data Analysis\n",
    "\n",
    "This notebook performs exploratory data analysis and cleaning on eye-tracking data.\n",
    "\n",
    "## Data Loading and Initial Inspection"
   ]
  },
  {
   "cell_type": "code",
   "execution_count": null,
   "id": "bb0d2077",
   "metadata": {},
   "outputs": [],
   "source": [
    "%load_ext cudf"
   ]
  },
  {
   "cell_type": "markdown",
   "id": "102a3321",
   "metadata": {},
   "source": [
    "Import necessary libraries for data manipulation, analysis, and visualization."
   ]
  },
  {
   "cell_type": "code",
   "execution_count": null,
   "id": "168ab080",
   "metadata": {},
   "outputs": [],
   "source": [
    "import numpy as np\n",
    "import pandas as pd\n",
    "import matplotlib.pyplot as plt\n",
    "import seaborn as sns"
   ]
  },
  {
   "cell_type": "markdown",
   "id": "b82648b6",
   "metadata": {},
   "source": [
    "Import libraries for datashader, which can be used for visualizing large datasets."
   ]
  },
  {
   "cell_type": "code",
   "execution_count": null,
   "id": "6eb52983",
   "metadata": {},
   "outputs": [],
   "source": [
    "import datashader as ds\n",
    "import datashader.transfer_functions as tf"
   ]
  },
  {
   "cell_type": "markdown",
   "id": "ec91c1d9",
   "metadata": {},
   "source": [
    "Set pandas display options to show all columns."
   ]
  },
  {
   "cell_type": "code",
   "execution_count": null,
   "id": "e432832f",
   "metadata": {},
   "outputs": [],
   "source": [
    "pd.set_option('display.max_columns', None)"
   ]
  },
  {
   "cell_type": "markdown",
   "id": "f0add39f",
   "metadata": {},
   "source": [
    "Load the eye-tracking data from the specified CSV file into a pandas DataFrame."
   ]
  },
  {
   "cell_type": "code",
   "execution_count": null,
   "id": "969bc9cb",
   "metadata": {},
   "outputs": [],
   "source": [
    "df_9_EYE = pd.read_csv('data/STData/9/9_EYE.csv')"
   ]
  },
  {
   "cell_type": "markdown",
   "id": "0ecbab5d",
   "metadata": {},
   "source": [
    "Display the first few rows of the DataFrame to get an initial look at the data structure and content."
   ]
  },
  {
   "cell_type": "code",
   "execution_count": null,
   "id": "5cf868a9",
   "metadata": {},
   "outputs": [],
   "source": [
    "df_9_EYE.head()"
   ]
  },
  {
   "cell_type": "markdown",
   "id": "ab641b73",
   "metadata": {},
   "source": [
    "Check the dimensions (number of rows and columns) of the DataFrame."
   ]
  },
  {
   "cell_type": "code",
   "execution_count": null,
   "id": "27649541",
   "metadata": {},
   "outputs": [],
   "source": [
    "df_9_EYE.shape"
   ]
  },
  {
   "cell_type": "markdown",
   "id": "89870247",
   "metadata": {},
   "source": [
    "List the names of all columns in the DataFrame."
   ]
  },
  {
   "cell_type": "code",
   "execution_count": null,
   "id": "31ba3207",
   "metadata": {},
   "outputs": [],
   "source": [
    "df_9_EYE.columns"
   ]
  },
  {
   "cell_type": "markdown",
   "id": "92705b0d",
   "metadata": {},
   "source": [
    "Display concise information about the DataFrame, including the data types of each column and the number of non-null values. This helps identify columns with missing data."
   ]
  },
  {
   "cell_type": "code",
   "execution_count": null,
   "id": "4cce1a15",
   "metadata": {},
   "outputs": [],
   "source": [
    "df_9_EYE.info()"
   ]
  },
  {
   "cell_type": "markdown",
   "id": "3994479c",
   "metadata": {},
   "source": [
    "Calculate and display the number of missing values in each column."
   ]
  },
  {
   "cell_type": "code",
   "execution_count": null,
   "id": "58b2748c",
   "metadata": {},
   "outputs": [],
   "source": [
    "df_9_EYE.isnull().sum()"
   ]
  },
  {
   "cell_type": "markdown",
   "id": "c3d0dd41",
   "metadata": {},
   "source": [
    "Visualize the distribution of missing values using a heatmap. This provides a visual representation of which columns have missing data and the extent of missingness."
   ]
  },
  {
   "cell_type": "code",
   "execution_count": null,
   "id": "4484935e",
   "metadata": {},
   "outputs": [],
   "source": [
    "plt.figure(figsize=(12,8))\n",
    "sns.heatmap(df_9_EYE.isnull(), cmap='viridis')\n",
    "plt.show()"
   ]
  },
  {
   "cell_type": "markdown",
   "id": "78db63ac",
   "metadata": {},
   "source": [
    "# Notes & Observations\n",
    "\n",
    "- We observe many **null** (or missing) values in the `QuestionKey` columns.\n",
    "- The nulls in the `QuestionKey` column may not represent “true” nulls. Rather, they follow interval patterns, suggesting that during those periods no question was displayed.\n",
    "- These missing values in `QuestionKey` require additional investigation and context-aware handling."
   ]
  },
  {
   "cell_type": "markdown",
   "id": "e585cc92",
   "metadata": {},
   "source": [
    "Display the unique values in the `QuestionKey` column to understand the different types of questions or states recorded."
   ]
  },
  {
   "cell_type": "code",
   "execution_count": null,
   "id": "cae5d46f",
   "metadata": {},
   "outputs": [],
   "source": [
    "df_9_EYE['QuestionKey'].unique()"
   ]
  },
  {
   "cell_type": "markdown",
   "id": "2a1b43b4",
   "metadata": {},
   "source": [
    "Convert the `Timestamp` column to datetime objects. This is crucial for any time series analysis or manipulation."
   ]
  },
  {
   "cell_type": "code",
   "execution_count": null,
   "id": "7a7d6d3f",
   "metadata": {},
   "outputs": [],
   "source": [
    "df_9_EYE['Timestamp'] = pd.to_datetime(df_9_EYE['Timestamp'])"
   ]
  },
  {
   "cell_type": "markdown",
   "id": "2fa75c35",
   "metadata": {},
   "source": [
    "Display the first few rows again to see the effect of the timestamp conversion."
   ]
  },
  {
   "cell_type": "code",
   "execution_count": null,
   "id": "17bf7b03",
   "metadata": {},
   "outputs": [],
   "source": [
    "df_9_EYE.head(3)"
   ]
  },
  {
   "cell_type": "markdown",
   "id": "69a11029",
   "metadata": {},
   "source": [
    "Fill the missing values in the `QuestionKey` column with the string 'None'. This helps to explicitly mark periods where no question was active."
   ]
  },
  {
   "cell_type": "code",
   "execution_count": null,
   "id": "f9097037",
   "metadata": {},
   "outputs": [],
   "source": [
    "df_9_EYE['QuestionKey'].fillna('None', inplace=True)"
   ]
  },
  {
   "cell_type": "markdown",
   "id": "29997e1c",
   "metadata": {},
   "source": [
    "Count the occurrences of each unique value in the `QuestionKey` column after filling missing values."
   ]
  },
  {
   "cell_type": "code",
   "execution_count": null,
   "id": "fd321fd0",
   "metadata": {},
   "outputs": [],
   "source": [
    "df_9_EYE['QuestionKey'].value_counts()"
   ]
  },
  {
   "cell_type": "markdown",
   "id": "439f0bdf",
   "metadata": {},
   "source": [
    "Display the heatmap of missing values again to confirm that the missing values in `QuestionKey` have been handled."
   ]
  },
  {
   "cell_type": "code",
   "execution_count": null,
   "id": "58da8954",
   "metadata": {},
   "outputs": [],
   "source": [
    "plt.figure(figsize=(12,8))\n",
    "sns.heatmap(df_9_EYE.isnull(), cmap='viridis')\n",
    "plt.show()"
   ]
  },
  {
   "cell_type": "markdown",
   "id": "c40430a9",
   "metadata": {},
   "source": [
    "Recalculate and display the number of missing values per column to confirm the changes after handling `QuestionKey`."
   ]
  },
  {
   "cell_type": "code",
   "execution_count": null,
   "id": "93863bfc",
   "metadata": {},
   "outputs": [],
   "source": [
    "df_9_EYE.isnull().sum()"
   ]
  },
  {
   "cell_type": "markdown",
   "id": "ea1b01e1",
   "metadata": {},
   "source": [
    "Drop rows that still contain any missing values. This is done after handling `QuestionKey` separately."
   ]
  },
  {
   "cell_type": "code",
   "execution_count": null,
   "id": "ccd1a986",
   "metadata": {},
   "outputs": [],
   "source": [
    "df_9_EYE.dropna(inplace=True)"
   ]
  },
  {
   "cell_type": "markdown",
   "id": "c255e0ec",
   "metadata": {},
   "source": [
    "Display the first few rows after dropping rows with missing values."
   ]
  },
  {
   "cell_type": "code",
   "execution_count": null,
   "id": "4931eedb",
   "metadata": {},
   "outputs": [],
   "source": [
    "df_9_EYE.head()"
   ]
  },
  {
   "cell_type": "markdown",
   "id": "ddaaa2ae",
   "metadata": {},
   "source": [
    "Display the unique values in the `Row` column."
   ]
  },
  {
   "cell_type": "code",
   "execution_count": null,
   "id": "8a57e997",
   "metadata": {},
   "outputs": [],
   "source": [
    "df_9_EYE['Row'].unique()"
   ]
  },
  {
   "cell_type": "markdown",
   "id": "a49d7b70",
   "metadata": {},
   "source": [
    "Plot a histogram of the `Row` column to visualize its distribution."
   ]
  },
  {
   "cell_type": "code",
   "execution_count": null,
   "id": "823658c3",
   "metadata": {},
   "outputs": [],
   "source": [
    "plt.figure(figsize=(8,6))\n",
    "sns.histplot(df_9_EYE['Row'])\n",
    "plt.show()"
   ]
  },
  {
   "cell_type": "markdown",
   "id": "27435e1c",
   "metadata": {},
   "source": [
    "# Notes & Observations\n",
    "\n",
    "- The `Row` column appears to be a simple row index and does not provide meaningful information relevant to the eye-tracking data itself. Therefore, it can be dropped."
   ]
  },
  {
   "cell_type": "markdown",
   "id": "8dda86c1",
   "metadata": {},
   "source": [
    "Drop the `Row` column as it is not relevant for the analysis."
   ]
  },
  {
   "cell_type": "code",
   "execution_count": null,
   "id": "2f833ced",
   "metadata": {},
   "outputs": [],
   "source": [
    "df_9_EYE.drop('Row', axis=1, inplace=True)"
   ]
  },
  {
   "cell_type": "markdown",
   "id": "46c8bf1c",
   "metadata": {},
   "source": [
    "Display the unique values in the `ET_ValidityLeft` column."
   ]
  },
  {
   "cell_type": "code",
   "execution_count": null,
   "id": "40e167d5",
   "metadata": {},
   "outputs": [],
   "source": [
    "df_9_EYE['ET_ValidityLeft'].unique()"
   ]
  },
  {
   "cell_type": "markdown",
   "id": "48286325",
   "metadata": {},
   "source": [
    "Count the occurrences of each unique value in the `ET_ValidityLeft` column."
   ]
  },
  {
   "cell_type": "code",
   "execution_count": null,
   "id": "e6dd615a",
   "metadata": {},
   "outputs": [],
   "source": [
    "df_9_EYE['ET_ValidityLeft'].value_counts()"
   ]
  },
  {
   "cell_type": "markdown",
   "id": "884e60be",
   "metadata": {},
   "source": [
    "Display the unique values in the `ET_ValidityRight` column."
   ]
  },
  {
   "cell_type": "code",
   "execution_count": null,
   "id": "4ae8ca2d",
   "metadata": {},
   "outputs": [],
   "source": [
    "df_9_EYE['ET_ValidityRight'].unique()"
   ]
  },
  {
   "cell_type": "markdown",
   "id": "520cead3",
   "metadata": {},
   "source": [
    "Count the occurrences of each unique value in the `ET_ValidityRight` column."
   ]
  },
  {
   "cell_type": "code",
   "execution_count": null,
   "id": "ed0ba335",
   "metadata": {},
   "outputs": [],
   "source": [
    "df_9_EYE['ET_ValidityRight'].value_counts()"
   ]
  },
  {
   "cell_type": "markdown",
   "id": "5bdc1826",
   "metadata": {},
   "source": [
    "Visualize the counts of valid and invalid data for both left and right eyes using bar plots."
   ]
  },
  {
   "cell_type": "code",
   "execution_count": null,
   "id": "41e9b974",
   "metadata": {},
   "outputs": [],
   "source": [
    "plt.figure(figsize=(12, 6))\n",
    "\n",
    "plt.subplot(1, 2, 1)\n",
    "sns.barplot(x=df_9_EYE['ET_ValidityLeft'].value_counts().index, y=df_9_EYE['ET_ValidityLeft'].value_counts().values)\n",
    "plt.title('Count of ET_ValidityLeft')\n",
    "plt.xlabel('Validity')\n",
    "plt.ylabel('Count')\n",
    "\n",
    "\n",
    "plt.subplot(1, 2, 2)\n",
    "sns.barplot(x=df_9_EYE['ET_ValidityRight'].value_counts().index, y=df_9_EYE['ET_ValidityRight'].value_counts().values)\n",
    "plt.title('Count of ET_ValidityRight')\n",
    "plt.xlabel('Validity')\n",
    "plt.ylabel('Count')\n",
    "\n",
    "plt.tight_layout()\n",
    "plt.show()"
   ]
  },
  {
   "cell_type": "markdown",
   "id": "cd8b1dce",
   "metadata": {},
   "source": [
    "# Notes & Observations\n",
    "\n",
    "- The `ET_ValidityLeft` and `ET_ValidityRight` columns indicate the validity of the eye-tracking data for the left and right eye, respectively.\n",
    "- Based on the value counts and the bar plots, it appears that a value of `0.0` represents valid eye-tracking data, while a value of `4.0` represents invalid data.\n",
    "- Although the amount of invalid data is relatively small, removing these rows could introduce unwanted patterns or gaps in the time series data.\n",
    "- Therefore, we will keep the data and replace the value `4.0` with `1.0` in both `ET_ValidityLeft` and `ET_ValidityRight` columns. This will indicate to a machine learning model that the eye tracker had invalid data at those specific points in time while maintaining the integrity of the time series."
   ]
  },
  {
   "cell_type": "markdown",
   "id": "546a8476",
   "metadata": {},
   "source": [
    "Define a mapping to convert validity values from `0.0` and `4.0` to `0` and `1`."
   ]
  },
  {
   "cell_type": "code",
   "execution_count": null,
   "id": "c8140ae6",
   "metadata": {},
   "outputs": [],
   "source": [
    "validity_map = {4.0: 1.0, 0.0: 0.0}"
   ]
  },
  {
   "cell_type": "markdown",
   "id": "d93693a6",
   "metadata": {},
   "source": [
    "Apply the mapping to the `ET_ValidityLeft` and `ET_ValidityRight` columns and convert the data type to integer."
   ]
  },
  {
   "cell_type": "code",
   "execution_count": null,
   "id": "dfe55974",
   "metadata": {},
   "outputs": [],
   "source": [
    "df_9_EYE['ET_ValidityLeft'] = df_9_EYE['ET_ValidityLeft'].map(validity_map).astype(np.int8)\n",
    "df_9_EYE['ET_ValidityRight'] = df_9_EYE['ET_ValidityRight'].map(validity_map).astype(np.int8)"
   ]
  },
  {
   "cell_type": "markdown",
   "id": "14014b68",
   "metadata": {},
   "source": [
    "Display the first few rows to see the updated validity columns."
   ]
  },
  {
   "cell_type": "code",
   "execution_count": null,
   "id": "3af36d79",
   "metadata": {},
   "outputs": [],
   "source": [
    "df_9_EYE.head(3)"
   ]
  },
  {
   "cell_type": "markdown",
   "id": "fae89f0b",
   "metadata": {},
   "source": [
    "Display descriptive statistics for the DataFrame, including count, mean, standard deviation, min, max, and quartiles for numeric columns."
   ]
  },
  {
   "cell_type": "code",
   "execution_count": null,
   "id": "9625d29e",
   "metadata": {},
   "outputs": [],
   "source": [
    "df_9_EYE.describe()"
   ]
  },
  {
   "cell_type": "markdown",
   "id": "5c066b87",
   "metadata": {},
   "source": [
    "Check the number of rows where `ET_ValidityLeft` is 1 (invalid data for the left eye)."
   ]
  },
  {
   "cell_type": "code",
   "execution_count": null,
   "id": "e34c82b6",
   "metadata": {},
   "outputs": [],
   "source": [
    "df_9_EYE[df_9_EYE['ET_ValidityLeft'] == 1].shape"
   ]
  },
  {
   "cell_type": "markdown",
   "id": "8b6bd3a3",
   "metadata": {},
   "source": [
    "Check the number of rows where `ET_ValidityRight` is 1 (invalid data for the right eye)."
   ]
  },
  {
   "cell_type": "code",
   "execution_count": null,
   "id": "279fc7d3",
   "metadata": {},
   "outputs": [],
   "source": [
    "df_9_EYE[df_9_EYE['ET_ValidityRight'] == 1].shape"
   ]
  },
  {
   "cell_type": "markdown",
   "id": "daf1eef3",
   "metadata": {},
   "source": [
    "Visualize the distribution of -1 and 1 values across columns using heatmaps. This helps identify columns with placeholder or indicator values."
   ]
  },
  {
   "cell_type": "code",
   "execution_count": null,
   "id": "339e9921",
   "metadata": {},
   "outputs": [],
   "source": [
    "plt.figure(figsize=(18, 8))\n",
    "\n",
    "plt.subplot(1, 2, 1)\n",
    "sns.heatmap(df_9_EYE == -1, cmap='viridis')\n",
    "plt.title('Heatmap of -1 Values')\n",
    "\n",
    "plt.subplot(1, 2, 2)\n",
    "sns.heatmap(df_9_EYE == 1, cmap='viridis')\n",
    "plt.title('Heatmap of 1 Values')\n",
    "\n",
    "plt.tight_layout()\n",
    "plt.show()"
   ]
  },
  {
   "cell_type": "markdown",
   "id": "8023e42a",
   "metadata": {},
   "source": [
    "Check the number of rows where `ET_PupilLeft` is -1."
   ]
  },
  {
   "cell_type": "code",
   "execution_count": null,
   "id": "c82beda6",
   "metadata": {},
   "outputs": [],
   "source": [
    "df_9_EYE[df_9_EYE['ET_PupilLeft'] == -1].shape"
   ]
  },
  {
   "cell_type": "markdown",
   "id": "afbf3042",
   "metadata": {},
   "source": [
    "Check the number of rows where `ET_PupilRight` is -1."
   ]
  },
  {
   "cell_type": "code",
   "execution_count": null,
   "id": "8785b751",
   "metadata": {},
   "outputs": [],
   "source": [
    "df_9_EYE[df_9_EYE['ET_PupilRight'] == -1].shape"
   ]
  },
  {
   "cell_type": "markdown",
   "id": "5688b232",
   "metadata": {},
   "source": [
    "Calculate the ratio of rows with -1 values in the `ET_PupilLeft` column to the total number of rows."
   ]
  },
  {
   "cell_type": "code",
   "execution_count": null,
   "id": "c0163bf1",
   "metadata": {},
   "outputs": [],
   "source": [
    "df_9_EYE[df_9_EYE['ET_PupilLeft'] == -1].shape[0] / df_9_EYE.shape[0]"
   ]
  },
  {
   "cell_type": "markdown",
   "id": "7cf3b33d",
   "metadata": {},
   "source": [
    "Calculate the ratio of rows with -1 values in the `ET_PupilRight` column to the total number of rows."
   ]
  },
  {
   "cell_type": "code",
   "execution_count": null,
   "id": "28c97a10",
   "metadata": {},
   "outputs": [],
   "source": [
    "df_9_EYE[df_9_EYE['ET_PupilRight'] == -1].shape[0] / df_9_EYE.shape[0]"
   ]
  },
  {
   "cell_type": "markdown",
   "id": "69f778b6",
   "metadata": {},
   "source": [
    "Visualize the distribution of -1 values specifically for rows where validity is 1 (invalid data)."
   ]
  },
  {
   "cell_type": "code",
   "execution_count": null,
   "id": "cace7991",
   "metadata": {},
   "outputs": [],
   "source": [
    "plt.figure(figsize=(18, 8))\n",
    "\n",
    "plt.subplot(1, 2, 1)\n",
    "sns.heatmap(df_9_EYE[df_9_EYE['ET_ValidityLeft'] == 1] == -1, cmap='viridis')\n",
    "plt.title('Heatmap of -1 Values')\n",
    "\n",
    "plt.subplot(1, 2, 2)\n",
    "sns.heatmap(df_9_EYE[df_9_EYE['ET_ValidityRight'] == 1] == -1, cmap='viridis')\n",
    "plt.title('Heatmap of -1 Values')\n",
    "\n",
    "plt.tight_layout()\n",
    "plt.show()"
   ]
  },
  {
   "cell_type": "markdown",
   "id": "4a0d4980",
   "metadata": {},
   "source": [
    "# Notes & Observations\n",
    "\n",
    "- The heatmaps reveal the distribution of -1 values across different columns.\n",
    "- It is evident that the `-1` values are not randomly scattered but appear in specific columns, notably `ET_GazeLeftx`, `ET_GazeLefty`, `ET_GazeRightx`, `ET_GazeRighty`, `ET_PupilLeft`, `ET_PupilRight`, `ET_DistanceLeft`, `ET_DistanceRight`, `ET_CameraLeftX`, `ET_CameraLeftY`, `ET_CameraRightX`, and `ET_CameraRightY`.\n",
    "- These `-1` values often coincide with instances where `ET_ValidityLeft` or `ET_ValidityRight` is 1, indicating invalid eye-tracking data. This suggests that `-1` is used as a placeholder for missing or invalid measurements in these columns when the eye tracker is not providing valid data for a particular eye.\n",
    "- Given that over 70% of the data in the `ET_PupilLeft` and `ET_PupilRight` columns is marked as invalid (-1), these columns may not be suitable for analysis and could be considered for dropping."
   ]
  },
  {
   "cell_type": "markdown",
   "id": "b3bad30f",
   "metadata": {},
   "source": [
    "Drop the `ET_PupilLeft` and `ET_PupilRight` columns due to the high percentage of invalid data."
   ]
  },
  {
   "cell_type": "code",
   "execution_count": null,
   "id": "d508f4d8",
   "metadata": {},
   "outputs": [],
   "source": [
    "df_9_EYE.drop(['ET_PupilLeft', 'ET_PupilRight'], axis=1, inplace=True)"
   ]
  },
  {
   "cell_type": "markdown",
   "id": "dc487aca",
   "metadata": {},
   "source": [
    "Display the first few rows after dropping the pupil columns."
   ]
  },
  {
   "cell_type": "code",
   "execution_count": null,
   "id": "c1e5018f",
   "metadata": {},
   "outputs": [],
   "source": [
    "df_9_EYE.head()"
   ]
  },
  {
   "cell_type": "markdown",
   "id": "489869f6",
   "metadata": {},
   "source": [
    "Visualize the distribution of -1 and 1 values again after dropping the pupil columns."
   ]
  },
  {
   "cell_type": "code",
   "execution_count": null,
   "id": "9dbcb208",
   "metadata": {},
   "outputs": [],
   "source": [
    "plt.figure(figsize=(18, 8))\n",
    "\n",
    "plt.subplot(1, 2, 1)\n",
    "sns.heatmap(df_9_EYE == -1, cmap='viridis')\n",
    "plt.title('Heatmap of -1 Values')\n",
    "\n",
    "plt.subplot(1, 2, 2)\n",
    "sns.heatmap(df_9_EYE == 1, cmap='viridis')\n",
    "plt.title('Heatmap of -1 Values')\n",
    "\n",
    "plt.tight_layout()\n",
    "plt.show()"
   ]
  },
  {
   "cell_type": "markdown",
   "id": "7744d554",
   "metadata": {},
   "source": [
    "Calculate the ratio of valid data points for the left eye."
   ]
  },
  {
   "cell_type": "code",
   "execution_count": null,
   "id": "91249449",
   "metadata": {},
   "outputs": [],
   "source": [
    "valid_left_ratio  = 1 - df_9_EYE['ET_ValidityLeft'].mean()"
   ]
  },
  {
   "cell_type": "markdown",
   "id": "a381d58f",
   "metadata": {},
   "source": [
    "Display the ratio of valid data points for the left eye."
   ]
  },
  {
   "cell_type": "code",
   "execution_count": null,
   "id": "653254f4",
   "metadata": {},
   "outputs": [],
   "source": [
    "valid_left_ratio"
   ]
  },
  {
   "cell_type": "markdown",
   "id": "3570a871",
   "metadata": {},
   "source": [
    "Calculate the ratio of valid data points for the right eye."
   ]
  },
  {
   "cell_type": "code",
   "execution_count": null,
   "id": "a7c2cf2c",
   "metadata": {},
   "outputs": [],
   "source": [
    "valid_right_ratio = 1 - df_9_EYE['ET_ValidityRight'].mean()"
   ]
  },
  {
   "cell_type": "markdown",
   "id": "5470a234",
   "metadata": {},
   "source": [
    "Display the ratio of valid data points for the right eye."
   ]
  },
  {
   "cell_type": "code",
   "execution_count": null,
   "id": "3f241d7c",
   "metadata": {},
   "outputs": [],
   "source": [
    "valid_right_ratio"
   ]
  },
  {
   "cell_type": "markdown",
   "id": "4f9ae168",
   "metadata": {},
   "source": [
    "Display the first few rows of the DataFrame."
   ]
  },
  {
   "cell_type": "code",
   "execution_count": null,
   "id": "90c31e61",
   "metadata": {},
   "outputs": [],
   "source": [
    "df_9_EYE.head()"
   ]
  },
  {
   "cell_type": "markdown",
   "id": "2538280c",
   "metadata": {},
   "source": [
    "Visualize the distributions of numeric columns using histograms with Kernel Density Estimate (KDE) plots. This helps understand the shape and spread of the data in each numeric column."
   ]
  },
  {
   "cell_type": "code",
   "execution_count": null,
   "id": "056dd0a2",
   "metadata": {},
   "outputs": [],
   "source": [
    "# Select only the numeric columns for plotting histograms, excluding time-related columns\n",
    "numeric_cols = df_9_EYE.select_dtypes(include=np.number).columns\n",
    "cols_to_plot = [col for col in numeric_cols if col not in ['UnixTime']]\n",
    "\n",
    "# Calculate the number of rows and columns for the grid\n",
    "n_cols = 4  # You can adjust the number of columns as needed\n",
    "n_rows = (len(cols_to_plot) + n_cols - 1) // n_cols\n",
    "\n",
    "plt.figure(figsize=(n_cols * 5, n_rows * 4)) # Adjust figure size as needed\n",
    "\n",
    "for i, col in enumerate(cols_to_plot):\n",
    "    plt.subplot(n_rows, n_cols, i + 1)\n",
    "    sns.histplot(df_9_EYE[col], kde=True)\n",
    "    plt.title(f'Distribution of {col}')\n",
    "    plt.xlabel(col)\n",
    "    plt.ylabel('Frequency')\n",
    "\n",
    "plt.tight_layout()\n",
    "plt.show()"
   ]
  },
  {
   "cell_type": "markdown",
   "id": "8dce7955",
   "metadata": {},
   "source": [
    "List the names of the columns in the DataFrame."
   ]
  },
  {
   "cell_type": "code",
   "execution_count": null,
   "id": "c8a66ec6",
   "metadata": {},
   "outputs": [],
   "source": [
    "df_9_EYE.columns"
   ]
  },
  {
   "cell_type": "markdown",
   "id": "83c5f6ec",
   "metadata": {},
   "source": [
    "Define a list of columns to be plotted over time."
   ]
  },
  {
   "cell_type": "code",
   "execution_count": null,
   "id": "662ecede",
   "metadata": {},
   "outputs": [],
   "source": [
    "cols = ['ET_GazeLeftx', 'ET_GazeLefty',\n",
    "       'ET_GazeRightx', 'ET_GazeRighty', 'ET_TimeSignal', 'ET_DistanceLeft',\n",
    "       'ET_DistanceRight', 'ET_CameraLeftX', 'ET_CameraLeftY',\n",
    "       'ET_CameraRightX', 'ET_CameraRightY', 'ET_ValidityLeft',\n",
    "       'ET_ValidityRight']"
   ]
  },
  {
   "cell_type": "markdown",
   "id": "aff17ae6",
   "metadata": {},
   "source": [
    "Plot each of the selected columns against the timestamp to visualize their trends and patterns over time. Markdown cells are added before each plot for better readability."
   ]
  },
  {
   "cell_type": "code",
   "execution_count": null,
   "id": "69e62856",
   "metadata": {},
   "outputs": [],
   "source": [
    "from IPython.display import display, Markdown\n",
    "\n",
    "for col in cols:\n",
    "    # Add a markdown cell before each plot for better separation and labeling\n",
    "    display(Markdown(f'### {col} over Time'))\n",
    "    plt.figure(figsize=(16, 10))\n",
    "    plt.plot(df_9_EYE['Timestamp'], df_9_EYE[col])\n",
    "    plt.xlabel(\"Timestamp\") # Add x-axis label\n",
    "    plt.ylabel(col) # Add y-axis label\n",
    "    plt.show()"
   ]
  },
  {
   "cell_type": "markdown",
   "id": "a40fafa7",
   "metadata": {},
   "source": [
    "Visualize the distributions of numeric columns using boxplots. This helps identify potential outliers and the spread of the data."
   ]
  },
  {
   "cell_type": "code",
   "execution_count": null,
   "id": "76a427d0",
   "metadata": {},
   "outputs": [],
   "source": [
    "# Select only the numeric columns for plotting histograms, excluding time-related columns\n",
    "numeric_cols = df_9_EYE.select_dtypes(include=np.number).columns\n",
    "\n",
    "# Calculate the number of rows and columns for the grid\n",
    "n_cols = 4  # You can adjust the number of columns as needed\n",
    "n_rows = (len(numeric_cols) + n_cols - 1) // n_cols\n",
    "\n",
    "plt.figure(figsize=(n_cols * 5, n_rows * 4)) # Adjust figure size as needed\n",
    "\n",
    "for i, col in enumerate(numeric_cols):\n",
    "    plt.subplot(n_rows, n_cols, i + 1)\n",
    "    sns.boxplot(df_9_EYE[col])\n",
    "    plt.title(f'Boxplot of {col}')\n",
    "    plt.xlabel(col)\n",
    "\n",
    "plt.tight_layout()\n",
    "plt.show()"
   ]
  },
  {
   "cell_type": "markdown",
   "id": "953bd840",
   "metadata": {},
   "source": [
    "Replace the placeholder value -1 with NaN (Not a Number) in the DataFrame. This is done before imputation."
   ]
  },
  {
   "cell_type": "code",
   "execution_count": null,
   "id": "48804ca7",
   "metadata": {},
   "outputs": [],
   "source": [
    "df_9_EYE.replace({-1: np.nan}, inplace=True)"
   ]
  },
  {
   "cell_type": "markdown",
   "id": "5c5c4a52",
   "metadata": {},
   "source": [
    "Impute the missing values (NaN) in the numeric columns with the mean of each column."
   ]
  },
  {
   "cell_type": "code",
   "execution_count": null,
   "id": "58a7d1d0",
   "metadata": {},
   "outputs": [],
   "source": [
    "numeric_cols = df_9_EYE.select_dtypes(include=np.number).columns\n",
    "\n",
    "for col in numeric_cols:\n",
    "    df_9_EYE[col].fillna(df_9_EYE[col].mean(), inplace=True)"
   ]
  },
  {
   "cell_type": "markdown",
   "id": "9ad3d4c3",
   "metadata": {},
   "source": [
    "Display the first few rows after imputing missing values."
   ]
  },
  {
   "cell_type": "code",
   "execution_count": null,
   "id": "124e44de",
   "metadata": {},
   "outputs": [],
   "source": [
    "df_9_EYE.head()"
   ]
  },
  {
   "cell_type": "markdown",
   "id": "b1223936",
   "metadata": {},
   "source": [
    "Visualize the distributions of numeric columns again using histograms with KDE plots after imputation. This helps assess the impact of imputation on the data distributions."
   ]
  },
  {
   "cell_type": "code",
   "execution_count": null,
   "id": "4723a9d0",
   "metadata": {},
   "outputs": [],
   "source": [
    "# Select only the numeric columns for plotting histograms, excluding time-related columns\n",
    "numeric_cols = df_9_EYE.select_dtypes(include=np.number).columns\n",
    "cols_to_plot = [col for col in numeric_cols if col not in ['UnixTime']]\n",
    "\n",
    "# Calculate the number of rows and columns for the grid\n",
    "n_cols = 4  # You can adjust the number of columns as needed\n",
    "n_rows = (len(cols_to_plot) + n_cols - 1) // n_cols\n",
    "\n",
    "plt.figure(figsize=(n_cols * 5, n_rows * 4)) # Adjust figure size as needed\n",
    "\n",
    "for i, col in enumerate(cols_to_plot):\n",
    "    plt.subplot(n_rows, n_cols, i + 1)\n",
    "    sns.histplot(df_9_EYE[col], kde=True)\n",
    "    plt.title(f'Distribution of {col}')\n",
    "    plt.xlabel(col)\n",
    "    plt.ylabel('Frequency')\n",
    "\n",
    "plt.tight_layout()\n",
    "plt.show()"
   ]
  },
  {
   "cell_type": "code",
   "execution_count": null,
   "id": "3b795e7c",
   "metadata": {},
   "outputs": [],
   "source": []
  },
  {
   "cell_type": "markdown",
   "id": "0d783875",
   "metadata": {},
   "source": [
    "## Student 10"
   ]
  },
  {
   "cell_type": "code",
   "execution_count": null,
   "id": "33ad5e60",
   "metadata": {},
   "outputs": [],
   "source": [
    "%load_ext cudf"
   ]
  },
  {
   "cell_type": "code",
   "execution_count": null,
   "id": "df64439a",
   "metadata": {},
   "outputs": [],
   "source": [
    "import numpy as np\n",
    "import pandas as pd\n",
    "import matplotlib.pyplot as plt\n",
    "import seaborn as sns"
   ]
  },
  {
   "cell_type": "code",
   "execution_count": null,
   "id": "62b3fe08",
   "metadata": {},
   "outputs": [],
   "source": [
    "import datashader as ds\n",
    "import datashader.transfer_functions as tf"
   ]
  },
  {
   "cell_type": "code",
   "execution_count": null,
   "id": "c42c98f7",
   "metadata": {},
   "outputs": [],
   "source": [
    "pd.set_option('display.max_columns', None)"
   ]
  },
  {
   "cell_type": "code",
   "execution_count": null,
   "id": "2a4cb1bf",
   "metadata": {},
   "outputs": [],
   "source": [
    "df_10_EYE = pd.read_csv('data/STData/10/10_EYE.csv')"
   ]
  },
  {
   "cell_type": "code",
   "execution_count": null,
   "id": "29e3f388",
   "metadata": {},
   "outputs": [],
   "source": [
    "df_10_EYE.head()"
   ]
  },
  {
   "cell_type": "code",
   "execution_count": null,
   "id": "a87d68cf",
   "metadata": {},
   "outputs": [],
   "source": [
    "df_10_EYE.shape"
   ]
  },
  {
   "cell_type": "code",
   "execution_count": null,
   "id": "90c6fe73",
   "metadata": {},
   "outputs": [],
   "source": [
    "df_10_EYE.columns"
   ]
  },
  {
   "cell_type": "code",
   "execution_count": null,
   "id": "f3238313",
   "metadata": {},
   "outputs": [],
   "source": [
    "df_10_EYE.info()"
   ]
  },
  {
   "cell_type": "code",
   "execution_count": null,
   "id": "b349d51a",
   "metadata": {},
   "outputs": [],
   "source": [
    "df_10_EYE.isnull().sum()"
   ]
  },
  {
   "cell_type": "code",
   "execution_count": null,
   "id": "8c78a07d",
   "metadata": {},
   "outputs": [],
   "source": [
    "plt.figure(figsize=(12,8))\n",
    "sns.heatmap(df_10_EYE.isnull(), cmap='viridis')\n",
    "plt.show()"
   ]
  },
  {
   "cell_type": "markdown",
   "id": "3158d9e3",
   "metadata": {},
   "source": [
    "# Notes & Observations\n",
    "\n",
    "- We observe many **null** (or missing) values in the `QuestionKey` columns.  \n",
    "- The nulls in the `QuestionKey` column may not represent “true” nulls. Rather, they follow interval patterns, suggesting that during those periods no question was displayed.  \n",
    "- These missing values in `QuestionKey` require additional investigation and context-aware handling.  "
   ]
  },
  {
   "cell_type": "code",
   "execution_count": null,
   "id": "4ee1a848",
   "metadata": {},
   "outputs": [],
   "source": [
    "df_10_EYE['QuestionKey'].unique()"
   ]
  },
  {
   "cell_type": "code",
   "execution_count": null,
   "id": "92c6b0a4",
   "metadata": {},
   "outputs": [],
   "source": [
    "df_10_EYE['Timestamp'] = pd.to_datetime(df_10_EYE['Timestamp'])"
   ]
  },
  {
   "cell_type": "code",
   "execution_count": null,
   "id": "80a87abc",
   "metadata": {},
   "outputs": [],
   "source": [
    "df_10_EYE.head(3)"
   ]
  },
  {
   "cell_type": "code",
   "execution_count": null,
   "id": "3a00b26a",
   "metadata": {},
   "outputs": [],
   "source": [
    "df_10_EYE['QuestionKey'].fillna('None', inplace=True)"
   ]
  },
  {
   "cell_type": "code",
   "execution_count": null,
   "id": "e592c162",
   "metadata": {},
   "outputs": [],
   "source": [
    "df_10_EYE['QuestionKey'].value_counts()"
   ]
  },
  {
   "cell_type": "code",
   "execution_count": null,
   "id": "da1b91c3",
   "metadata": {},
   "outputs": [],
   "source": [
    "plt.figure(figsize=(12,8))\n",
    "sns.heatmap(df_10_EYE.isnull(), cmap='viridis')\n",
    "plt.show()"
   ]
  },
  {
   "cell_type": "code",
   "execution_count": null,
   "id": "30e28258",
   "metadata": {},
   "outputs": [],
   "source": [
    "df_10_EYE.isnull().sum()"
   ]
  },
  {
   "cell_type": "code",
   "execution_count": null,
   "id": "73eabdc5",
   "metadata": {},
   "outputs": [],
   "source": [
    "df_10_EYE.dropna(inplace=True)"
   ]
  },
  {
   "cell_type": "code",
   "execution_count": null,
   "id": "ca3cae86",
   "metadata": {},
   "outputs": [],
   "source": [
    "df_10_EYE.head()"
   ]
  },
  {
   "cell_type": "code",
   "execution_count": null,
   "id": "350638ea",
   "metadata": {},
   "outputs": [],
   "source": [
    "df_10_EYE['Row'].unique()"
   ]
  },
  {
   "cell_type": "code",
   "execution_count": null,
   "id": "736423ea",
   "metadata": {},
   "outputs": [],
   "source": [
    "plt.figure(figsize=(8,6))\n",
    "sns.histplot(df_10_EYE['Row'])\n",
    "plt.show()"
   ]
  },
  {
   "cell_type": "markdown",
   "id": "353f6170",
   "metadata": {},
   "source": [
    "# Notes & Observations\n",
    "\n",
    "- The `Row` column appears to be a simple row index and does not provide meaningful information relevant to the eye-tracking data itself. Therefore, it can be dropped."
   ]
  },
  {
   "cell_type": "code",
   "execution_count": null,
   "id": "03178775",
   "metadata": {},
   "outputs": [],
   "source": [
    "df_10_EYE.drop('Row', axis=1, inplace=True)"
   ]
  },
  {
   "cell_type": "code",
   "execution_count": null,
   "id": "a601b43c",
   "metadata": {},
   "outputs": [],
   "source": [
    "df_10_EYE['ET_ValidityLeft'].unique()"
   ]
  },
  {
   "cell_type": "code",
   "execution_count": null,
   "id": "bca78d52",
   "metadata": {},
   "outputs": [],
   "source": [
    "df_10_EYE['ET_ValidityLeft'].value_counts()"
   ]
  },
  {
   "cell_type": "code",
   "execution_count": null,
   "id": "fdf0bff0",
   "metadata": {},
   "outputs": [],
   "source": [
    "df_10_EYE['ET_ValidityRight'].unique()"
   ]
  },
  {
   "cell_type": "code",
   "execution_count": null,
   "id": "fac84fa8",
   "metadata": {},
   "outputs": [],
   "source": [
    "df_10_EYE['ET_ValidityRight'].value_counts()"
   ]
  },
  {
   "cell_type": "code",
   "execution_count": null,
   "id": "44e25d9b",
   "metadata": {},
   "outputs": [],
   "source": [
    "plt.figure(figsize=(12, 6))\n",
    "\n",
    "plt.subplot(1, 2, 1)\n",
    "sns.barplot(x=df_10_EYE['ET_ValidityLeft'].value_counts().index, y=df_10_EYE['ET_ValidityLeft'].value_counts().values)\n",
    "plt.title('Count of ET_ValidityLeft')\n",
    "plt.xlabel('Validity')\n",
    "plt.ylabel('Count')\n",
    "\n",
    "\n",
    "plt.subplot(1, 2, 2)\n",
    "sns.barplot(x=df_10_EYE['ET_ValidityRight'].value_counts().index, y=df_10_EYE['ET_ValidityRight'].value_counts().values)\n",
    "plt.title('Count of ET_ValidityRight')\n",
    "plt.xlabel('Validity')\n",
    "plt.ylabel('Count')\n",
    "\n",
    "plt.tight_layout()\n",
    "plt.show()"
   ]
  },
  {
   "cell_type": "markdown",
   "id": "57715440",
   "metadata": {},
   "source": [
    "# Notes & Observations\n",
    "\n",
    "- The `ET_ValidityLeft` and `ET_ValidityRight` columns indicate the validity of the eye-tracking data for the left and right eye, respectively.\n",
    "- Based on the value counts and the bar plots, it appears that a value of `0.0` represents valid eye-tracking data, while a value of `4.0` represents invalid data.\n",
    "- Although the amount of invalid data is relatively small, removing these rows could introduce unwanted patterns or gaps in the time series data.\n",
    "- Therefore, we will keep the data and replace the value `4.0` with `1.0` in both `ET_ValidityLeft` and `ET_ValidityRight` columns. This will indicate to a machine learning model that the eye tracker had invalid data at those specific points in time while maintaining the integrity of the time series."
   ]
  },
  {
   "cell_type": "code",
   "execution_count": null,
   "id": "91b02733",
   "metadata": {},
   "outputs": [],
   "source": [
    "validity_map = {4.0: 1.0, 0.0: 0.0}"
   ]
  },
  {
   "cell_type": "code",
   "execution_count": null,
   "id": "cc145be8",
   "metadata": {},
   "outputs": [],
   "source": [
    "df_10_EYE['ET_ValidityLeft'] = df_10_EYE['ET_ValidityLeft'].map(validity_map).astype(np.int8)\n",
    "df_10_EYE['ET_ValidityRight'] = df_10_EYE['ET_ValidityRight'].map(validity_map).astype(np.int8)"
   ]
  },
  {
   "cell_type": "code",
   "execution_count": null,
   "id": "98bbde1e",
   "metadata": {},
   "outputs": [],
   "source": [
    "df_10_EYE.head(3)"
   ]
  },
  {
   "cell_type": "code",
   "execution_count": null,
   "id": "90bcba47",
   "metadata": {},
   "outputs": [],
   "source": [
    "df_10_EYE.describe()"
   ]
  },
  {
   "cell_type": "code",
   "execution_count": null,
   "id": "dcb83140",
   "metadata": {},
   "outputs": [],
   "source": [
    "df_10_EYE[df_10_EYE['ET_ValidityLeft'] == 1].shape"
   ]
  },
  {
   "cell_type": "code",
   "execution_count": null,
   "id": "133a85f0",
   "metadata": {},
   "outputs": [],
   "source": [
    "df_10_EYE[df_10_EYE['ET_ValidityRight'] == 1].shape"
   ]
  },
  {
   "cell_type": "code",
   "execution_count": null,
   "id": "825fcc46",
   "metadata": {},
   "outputs": [],
   "source": [
    "plt.figure(figsize=(18, 8))\n",
    "\n",
    "plt.subplot(1, 2, 1)\n",
    "sns.heatmap(df_10_EYE == -1, cmap='viridis')\n",
    "plt.title('Heatmap of -1 Values')\n",
    "\n",
    "plt.subplot(1, 2, 2)\n",
    "sns.heatmap(df_10_EYE == 1, cmap='viridis')\n",
    "plt.title('Heatmap of 1 Values')\n",
    "\n",
    "plt.tight_layout()\n",
    "plt.show()"
   ]
  },
  {
   "cell_type": "code",
   "execution_count": null,
   "id": "5d0fcc0c",
   "metadata": {},
   "outputs": [],
   "source": [
    "df_10_EYE[df_10_EYE['ET_PupilLeft'] == -1].shape"
   ]
  },
  {
   "cell_type": "code",
   "execution_count": null,
   "id": "64605e0f",
   "metadata": {},
   "outputs": [],
   "source": [
    "df_10_EYE[df_10_EYE['ET_PupilRight'] == -1].shape"
   ]
  },
  {
   "cell_type": "code",
   "execution_count": null,
   "id": "68cb5df2",
   "metadata": {},
   "outputs": [],
   "source": [
    "df_10_EYE[df_10_EYE['ET_PupilLeft'] == -1].shape[0] / df_10_EYE.shape[0]"
   ]
  },
  {
   "cell_type": "code",
   "execution_count": null,
   "id": "e721212d",
   "metadata": {},
   "outputs": [],
   "source": [
    "df_10_EYE[df_10_EYE['ET_PupilRight'] == -1].shape[0] / df_10_EYE.shape[0]"
   ]
  },
  {
   "cell_type": "code",
   "execution_count": null,
   "id": "e6eeaef9",
   "metadata": {},
   "outputs": [],
   "source": [
    "plt.figure(figsize=(18, 8))\n",
    "\n",
    "plt.subplot(1, 2, 1)\n",
    "sns.heatmap(df_10_EYE[df_10_EYE['ET_ValidityLeft'] == 1] == -1, cmap='viridis')\n",
    "plt.title('Heatmap of -1 Values')\n",
    "\n",
    "plt.subplot(1, 2, 2)\n",
    "sns.heatmap(df_10_EYE[df_10_EYE['ET_ValidityRight'] == 1] == -1, cmap='viridis')\n",
    "plt.title('Heatmap of -1 Values')\n",
    "\n",
    "plt.tight_layout()\n",
    "plt.show()"
   ]
  },
  {
   "cell_type": "markdown",
   "id": "7989c637",
   "metadata": {},
   "source": [
    "# Notes & Observations\n",
    "\n",
    "- The heatmaps reveal the distribution of -1 values across different columns.\n",
    "- It is evident that the `-1` values are not randomly scattered but appear in specific columns, notably `ET_GazeLeftx`, `ET_GazeLefty`, `ET_GazeRightx`, `ET_GazeRighty`, `ET_PupilLeft`, `ET_PupilRight`, `ET_DistanceLeft`, `ET_DistanceRight`, `ET_CameraLeftX`, `ET_CameraLeftY`, `ET_CameraRightX`, and `ET_CameraRightY`.\n",
    "- These `-1` values often coincide with instances where `ET_ValidityLeft` or `ET_ValidityRight` is 1, indicating invalid eye-tracking data. This suggests that `-1` is used as a placeholder for missing or invalid measurements in these columns when the eye tracker is not providing valid data for a particular eye.\n",
    "- Given that over 70% of the data in the `ET_PupilLeft` and `ET_PupilRight` columns is marked as invalid (-1), these columns may not be suitable for analysis and could be considered for dropping."
   ]
  },
  {
   "cell_type": "code",
   "execution_count": null,
   "id": "0db67ad4",
   "metadata": {},
   "outputs": [],
   "source": [
    "df_10_EYE.drop(['ET_PupilLeft', 'ET_PupilRight'], axis=1, inplace=True)"
   ]
  },
  {
   "cell_type": "code",
   "execution_count": null,
   "id": "48af2623",
   "metadata": {},
   "outputs": [],
   "source": [
    "df_10_EYE.head()"
   ]
  },
  {
   "cell_type": "code",
   "execution_count": null,
   "id": "e900e3b2",
   "metadata": {},
   "outputs": [],
   "source": [
    "plt.figure(figsize=(18, 8))\n",
    "\n",
    "plt.subplot(1, 2, 1)\n",
    "sns.heatmap(df_10_EYE == -1, cmap='viridis')\n",
    "plt.title('Heatmap of -1 Values')\n",
    "\n",
    "plt.subplot(1, 2, 2)\n",
    "sns.heatmap(df_10_EYE == 1, cmap='viridis')\n",
    "plt.title('Heatmap of -1 Values')\n",
    "\n",
    "plt.tight_layout()\n",
    "plt.show()"
   ]
  },
  {
   "cell_type": "code",
   "execution_count": null,
   "id": "92afd47b",
   "metadata": {},
   "outputs": [],
   "source": [
    "valid_left_ratio  = 1 - df_10_EYE['ET_ValidityLeft'].mean()\n",
    "valid_right_ratio = 1 - df_10_EYE['ET_ValidityRight'].mean()"
   ]
  },
  {
   "cell_type": "code",
   "execution_count": null,
   "id": "794fcad6",
   "metadata": {},
   "outputs": [],
   "source": [
    "valid_left_ratio"
   ]
  },
  {
   "cell_type": "code",
   "execution_count": null,
   "id": "dcd0ad0d",
   "metadata": {},
   "outputs": [],
   "source": [
    "valid_right_ratio"
   ]
  },
  {
   "cell_type": "code",
   "execution_count": null,
   "id": "f3c9df89",
   "metadata": {},
   "outputs": [],
   "source": [
    "df_10_EYE.head()"
   ]
  },
  {
   "cell_type": "code",
   "execution_count": null,
   "id": "2fc8c85e",
   "metadata": {},
   "outputs": [],
   "source": [
    "# Select only the numeric columns for plotting histograms, excluding time-related columns\n",
    "numeric_cols = df_10_EYE.select_dtypes(include=np.number).columns\n",
    "cols_to_plot = [col for col in numeric_cols if col not in ['UnixTime']]\n",
    "\n",
    "# Calculate the number of rows and columns for the grid\n",
    "n_cols = 4  # You can adjust the number of columns as needed\n",
    "n_rows = (len(cols_to_plot) + n_cols - 1) // n_cols\n",
    "\n",
    "plt.figure(figsize=(n_cols * 5, n_rows * 4)) # Adjust figure size as needed\n",
    "\n",
    "for i, col in enumerate(cols_to_plot):\n",
    "    plt.subplot(n_rows, n_cols, i + 1)\n",
    "    sns.histplot(df_10_EYE[col], kde=True)\n",
    "    plt.title(f'Distribution of {col}')\n",
    "    plt.xlabel(col)\n",
    "    plt.ylabel('Frequency')\n",
    "\n",
    "plt.tight_layout()\n",
    "plt.show()"
   ]
  },
  {
   "cell_type": "code",
   "execution_count": null,
   "id": "2099b9dc",
   "metadata": {},
   "outputs": [],
   "source": [
    "df_10_EYE.columns"
   ]
  },
  {
   "cell_type": "code",
   "execution_count": null,
   "id": "c4b4ccda",
   "metadata": {},
   "outputs": [],
   "source": [
    "cols = ['ET_GazeLeftx', 'ET_GazeLefty',\n",
    "       'ET_GazeRightx', 'ET_GazeRighty', 'ET_TimeSignal', 'ET_DistanceLeft',\n",
    "       'ET_DistanceRight', 'ET_CameraLeftX', 'ET_CameraLeftY',\n",
    "       'ET_CameraRightX', 'ET_CameraRightY', 'ET_ValidityLeft',\n",
    "       'ET_ValidityRight']"
   ]
  },
  {
   "cell_type": "code",
   "execution_count": null,
   "id": "fb07ea63",
   "metadata": {},
   "outputs": [],
   "source": [
    "from IPython.display import display, Markdown\n",
    "\n",
    "for col in cols:\n",
    "    # Add a markdown cell before each plot for better separation and labeling\n",
    "    display(Markdown(f'### {col} over Time'))\n",
    "    plt.figure(figsize=(16, 10))\n",
    "    plt.plot(df_10_EYE['Timestamp'], df_10_EYE[col])\n",
    "    plt.xlabel(\"Timestamp\") # Add x-axis label\n",
    "    plt.ylabel(col) # Add y-axis label\n",
    "    plt.show()"
   ]
  },
  {
   "cell_type": "code",
   "execution_count": null,
   "id": "7390c9ac",
   "metadata": {},
   "outputs": [],
   "source": [
    "# Select only the numeric columns for plotting histograms, excluding time-related columns\n",
    "numeric_cols = df_10_EYE.select_dtypes(include=np.number).columns\n",
    "\n",
    "# Calculate the number of rows and columns for the grid\n",
    "n_cols = 4  # You can adjust the number of columns as needed\n",
    "n_rows = (len(numeric_cols) + n_cols - 1) // n_cols\n",
    "\n",
    "plt.figure(figsize=(n_cols * 5, n_rows * 4)) # Adjust figure size as needed\n",
    "\n",
    "for i, col in enumerate(numeric_cols):\n",
    "    plt.subplot(n_rows, n_cols, i + 1)\n",
    "    sns.boxplot(df_10_EYE[col])\n",
    "    plt.title(f'Boxplot of {col}')\n",
    "    plt.xlabel(col)\n",
    "\n",
    "plt.tight_layout()\n",
    "plt.show()"
   ]
  },
  {
   "cell_type": "code",
   "execution_count": null,
   "id": "a9a25255",
   "metadata": {},
   "outputs": [],
   "source": [
    "df_10_EYE.replace({-1: np.nan}, inplace=True)"
   ]
  },
  {
   "cell_type": "code",
   "execution_count": null,
   "id": "b566a8a9",
   "metadata": {},
   "outputs": [],
   "source": [
    "numeric_cols = df_10_EYE.select_dtypes(include=np.number).columns\n",
    "\n",
    "for col in numeric_cols:\n",
    "    df_10_EYE[col].fillna(df_10_EYE[col].mean(), inplace=True)"
   ]
  },
  {
   "cell_type": "code",
   "execution_count": null,
   "id": "766c7358",
   "metadata": {},
   "outputs": [],
   "source": [
    "df_10_EYE.head()"
   ]
  },
  {
   "cell_type": "code",
   "execution_count": null,
   "id": "bb1469c9",
   "metadata": {},
   "outputs": [],
   "source": [
    "# Select only the numeric columns for plotting histograms, excluding time-related columns\n",
    "numeric_cols = df_10_EYE.select_dtypes(include=np.number).columns\n",
    "cols_to_plot = [col for col in numeric_cols if col not in ['UnixTime']]\n",
    "\n",
    "# Calculate the number of rows and columns for the grid\n",
    "n_cols = 4  # You can adjust the number of columns as needed\n",
    "n_rows = (len(cols_to_plot) + n_cols - 1) // n_cols\n",
    "\n",
    "plt.figure(figsize=(n_cols * 5, n_rows * 4)) # Adjust figure size as needed\n",
    "\n",
    "for i, col in enumerate(cols_to_plot):\n",
    "    plt.subplot(n_rows, n_cols, i + 1)\n",
    "    sns.histplot(df_10_EYE[col], kde=True)\n",
    "    plt.title(f'Distribution of {col}')\n",
    "    plt.xlabel(col)\n",
    "    plt.ylabel('Frequency')\n",
    "\n",
    "plt.tight_layout()\n",
    "plt.show()"
   ]
  },
  {
   "cell_type": "code",
   "execution_count": null,
   "id": "dab79e74",
   "metadata": {},
   "outputs": [],
   "source": []
  },
  {
   "cell_type": "code",
   "execution_count": null,
   "id": "41113a85",
   "metadata": {},
   "outputs": [],
   "source": []
  },
  {
   "cell_type": "code",
   "execution_count": null,
   "id": "af6bda11",
   "metadata": {},
   "outputs": [],
   "source": []
  },
  {
   "cell_type": "code",
   "execution_count": null,
   "id": "818e1bc8",
   "metadata": {},
   "outputs": [],
   "source": []
  },
  {
   "cell_type": "code",
   "execution_count": null,
   "id": "35c2794e",
   "metadata": {},
   "outputs": [],
   "source": []
  },
  {
   "cell_type": "code",
   "execution_count": null,
   "id": "ce74948e",
   "metadata": {},
   "outputs": [],
   "source": []
  },
  {
   "cell_type": "code",
   "execution_count": null,
   "id": "54572763",
   "metadata": {},
   "outputs": [],
   "source": []
  },
  {
   "cell_type": "code",
   "execution_count": null,
   "id": "2302c087",
   "metadata": {},
   "outputs": [],
   "source": []
  },
  {
   "cell_type": "code",
   "execution_count": null,
   "id": "8b439fbd",
   "metadata": {},
   "outputs": [],
   "source": []
  },
  {
   "cell_type": "code",
   "execution_count": null,
   "id": "d113ddaa",
   "metadata": {},
   "outputs": [],
   "source": []
  },
  {
   "cell_type": "code",
   "execution_count": null,
   "id": "eab7325d",
   "metadata": {},
   "outputs": [],
   "source": []
  },
  {
   "cell_type": "code",
   "execution_count": null,
   "id": "97dd1a63",
   "metadata": {},
   "outputs": [],
   "source": []
  },
  {
   "cell_type": "markdown",
   "id": "bb46f16f",
   "metadata": {},
   "source": [
    "# Eye Tracking Data Analysis\n",
    "\n",
    "This notebook performs exploratory data analysis and cleaning on eye-tracking data.\n",
    "\n",
    "## Data Loading and Initial Inspection"
   ]
  },
  {
   "cell_type": "code",
   "execution_count": null,
   "id": "e4e211e6",
   "metadata": {},
   "outputs": [],
   "source": [
    "%load_ext cudf"
   ]
  },
  {
   "cell_type": "markdown",
   "id": "a1ab69aa",
   "metadata": {},
   "source": [
    "Import necessary libraries for data manipulation, analysis, and visualization."
   ]
  },
  {
   "cell_type": "code",
   "execution_count": null,
   "id": "cadae63b",
   "metadata": {},
   "outputs": [],
   "source": [
    "import numpy as np\n",
    "import pandas as pd\n",
    "import matplotlib.pyplot as plt\n",
    "import seaborn as sns"
   ]
  },
  {
   "cell_type": "markdown",
   "id": "784fa914",
   "metadata": {},
   "source": [
    "Import libraries for datashader, which can be used for visualizing large datasets."
   ]
  },
  {
   "cell_type": "code",
   "execution_count": null,
   "id": "05b48fd6",
   "metadata": {},
   "outputs": [],
   "source": [
    "import datashader as ds\n",
    "import datashader.transfer_functions as tf"
   ]
  },
  {
   "cell_type": "markdown",
   "id": "09c269f8",
   "metadata": {},
   "source": [
    "Set pandas display options to show all columns."
   ]
  },
  {
   "cell_type": "code",
   "execution_count": null,
   "id": "341abbc5",
   "metadata": {},
   "outputs": [],
   "source": [
    "pd.set_option('display.max_columns', None)"
   ]
  },
  {
   "cell_type": "markdown",
   "id": "7f8c589e",
   "metadata": {},
   "source": [
    "Load the eye-tracking data from the specified CSV file into a pandas DataFrame."
   ]
  },
  {
   "cell_type": "code",
   "execution_count": null,
   "id": "4ae00245",
   "metadata": {},
   "outputs": [],
   "source": [
    "df_10_EYE = pd.read_csv('data/STData/10/10_EYE.csv')"
   ]
  },
  {
   "cell_type": "markdown",
   "id": "5cd23dba",
   "metadata": {},
   "source": [
    "Display the first few rows of the DataFrame to get an initial look at the data structure and content."
   ]
  },
  {
   "cell_type": "code",
   "execution_count": null,
   "id": "51b20335",
   "metadata": {},
   "outputs": [],
   "source": [
    "df_10_EYE.head()"
   ]
  },
  {
   "cell_type": "markdown",
   "id": "22f0cb2d",
   "metadata": {},
   "source": [
    "Check the dimensions (number of rows and columns) of the DataFrame."
   ]
  },
  {
   "cell_type": "code",
   "execution_count": null,
   "id": "b163cfd9",
   "metadata": {},
   "outputs": [],
   "source": [
    "df_10_EYE.shape"
   ]
  },
  {
   "cell_type": "markdown",
   "id": "25ee8514",
   "metadata": {},
   "source": [
    "List the names of all columns in the DataFrame."
   ]
  },
  {
   "cell_type": "code",
   "execution_count": null,
   "id": "1a8780e7",
   "metadata": {},
   "outputs": [],
   "source": [
    "df_10_EYE.columns"
   ]
  },
  {
   "cell_type": "markdown",
   "id": "d5baa1d7",
   "metadata": {},
   "source": [
    "Display concise information about the DataFrame, including the data types of each column and the number of non-null values. This helps identify columns with missing data."
   ]
  },
  {
   "cell_type": "code",
   "execution_count": null,
   "id": "d54e03bf",
   "metadata": {},
   "outputs": [],
   "source": [
    "df_10_EYE.info()"
   ]
  },
  {
   "cell_type": "markdown",
   "id": "170f10d7",
   "metadata": {},
   "source": [
    "Calculate and display the number of missing values in each column."
   ]
  },
  {
   "cell_type": "code",
   "execution_count": null,
   "id": "afaeceb6",
   "metadata": {},
   "outputs": [],
   "source": [
    "df_10_EYE.isnull().sum()"
   ]
  },
  {
   "cell_type": "markdown",
   "id": "629c6283",
   "metadata": {},
   "source": [
    "Visualize the distribution of missing values using a heatmap. This provides a visual representation of which columns have missing data and the extent of missingness."
   ]
  },
  {
   "cell_type": "code",
   "execution_count": null,
   "id": "39c6c3da",
   "metadata": {},
   "outputs": [],
   "source": [
    "plt.figure(figsize=(12,8))\n",
    "sns.heatmap(df_10_EYE.isnull(), cmap='viridis')\n",
    "plt.show()"
   ]
  },
  {
   "cell_type": "markdown",
   "id": "2346897e",
   "metadata": {},
   "source": [
    "# Notes & Observations\n",
    "\n",
    "- We observe many **null** (or missing) values in the `QuestionKey` columns.\n",
    "- The nulls in the `QuestionKey` column may not represent “true” nulls. Rather, they follow interval patterns, suggesting that during those periods no question was displayed.\n",
    "- These missing values in `QuestionKey` require additional investigation and context-aware handling."
   ]
  },
  {
   "cell_type": "markdown",
   "id": "0532e269",
   "metadata": {},
   "source": [
    "Display the unique values in the `QuestionKey` column to understand the different types of questions or states recorded."
   ]
  },
  {
   "cell_type": "code",
   "execution_count": null,
   "id": "f239ddea",
   "metadata": {},
   "outputs": [],
   "source": [
    "df_10_EYE['QuestionKey'].unique()"
   ]
  },
  {
   "cell_type": "markdown",
   "id": "bc121212",
   "metadata": {},
   "source": [
    "Convert the `Timestamp` column to datetime objects. This is crucial for any time series analysis or manipulation."
   ]
  },
  {
   "cell_type": "code",
   "execution_count": null,
   "id": "459aa6d4",
   "metadata": {},
   "outputs": [],
   "source": [
    "df_10_EYE['Timestamp'] = pd.to_datetime(df_10_EYE['Timestamp'])"
   ]
  },
  {
   "cell_type": "markdown",
   "id": "9572d220",
   "metadata": {},
   "source": [
    "Display the first few rows again to see the effect of the timestamp conversion."
   ]
  },
  {
   "cell_type": "code",
   "execution_count": null,
   "id": "3f09eca1",
   "metadata": {},
   "outputs": [],
   "source": [
    "df_10_EYE.head(3)"
   ]
  },
  {
   "cell_type": "markdown",
   "id": "499aa8bb",
   "metadata": {},
   "source": [
    "Fill the missing values in the `QuestionKey` column with the string 'None'. This helps to explicitly mark periods where no question was active."
   ]
  },
  {
   "cell_type": "code",
   "execution_count": null,
   "id": "4260d4d8",
   "metadata": {},
   "outputs": [],
   "source": [
    "df_10_EYE['QuestionKey'].fillna('None', inplace=True)"
   ]
  },
  {
   "cell_type": "markdown",
   "id": "7330823f",
   "metadata": {},
   "source": [
    "Count the occurrences of each unique value in the `QuestionKey` column after filling missing values."
   ]
  },
  {
   "cell_type": "code",
   "execution_count": null,
   "id": "5fb7b560",
   "metadata": {},
   "outputs": [],
   "source": [
    "df_10_EYE['QuestionKey'].value_counts()"
   ]
  },
  {
   "cell_type": "markdown",
   "id": "5a8b01c8",
   "metadata": {},
   "source": [
    "Display the heatmap of missing values again to confirm that the missing values in `QuestionKey` have been handled."
   ]
  },
  {
   "cell_type": "code",
   "execution_count": null,
   "id": "698aad19",
   "metadata": {},
   "outputs": [],
   "source": [
    "plt.figure(figsize=(12,8))\n",
    "sns.heatmap(df_10_EYE.isnull(), cmap='viridis')\n",
    "plt.show()"
   ]
  },
  {
   "cell_type": "markdown",
   "id": "9f7645ce",
   "metadata": {},
   "source": [
    "Recalculate and display the number of missing values per column to confirm the changes after handling `QuestionKey`."
   ]
  },
  {
   "cell_type": "code",
   "execution_count": null,
   "id": "7787ed0b",
   "metadata": {},
   "outputs": [],
   "source": [
    "df_10_EYE.isnull().sum()"
   ]
  },
  {
   "cell_type": "markdown",
   "id": "9cf95f07",
   "metadata": {},
   "source": [
    "Drop rows that still contain any missing values. This is done after handling `QuestionKey` separately."
   ]
  },
  {
   "cell_type": "code",
   "execution_count": null,
   "id": "1a78589e",
   "metadata": {},
   "outputs": [],
   "source": [
    "df_10_EYE.dropna(inplace=True)"
   ]
  },
  {
   "cell_type": "markdown",
   "id": "71986820",
   "metadata": {},
   "source": [
    "Display the first few rows after dropping rows with missing values."
   ]
  },
  {
   "cell_type": "code",
   "execution_count": null,
   "id": "1aca3e41",
   "metadata": {},
   "outputs": [],
   "source": [
    "df_10_EYE.head()"
   ]
  },
  {
   "cell_type": "markdown",
   "id": "aabeeb4b",
   "metadata": {},
   "source": [
    "Display the unique values in the `Row` column."
   ]
  },
  {
   "cell_type": "code",
   "execution_count": null,
   "id": "2607d4c8",
   "metadata": {},
   "outputs": [],
   "source": [
    "df_10_EYE['Row'].unique()"
   ]
  },
  {
   "cell_type": "markdown",
   "id": "36112053",
   "metadata": {},
   "source": [
    "Plot a histogram of the `Row` column to visualize its distribution."
   ]
  },
  {
   "cell_type": "code",
   "execution_count": null,
   "id": "63112166",
   "metadata": {},
   "outputs": [],
   "source": [
    "plt.figure(figsize=(8,6))\n",
    "sns.histplot(df_10_EYE['Row'])\n",
    "plt.show()"
   ]
  },
  {
   "cell_type": "markdown",
   "id": "1586f1a5",
   "metadata": {},
   "source": [
    "# Notes & Observations\n",
    "\n",
    "- The `Row` column appears to be a simple row index and does not provide meaningful information relevant to the eye-tracking data itself. Therefore, it can be dropped."
   ]
  },
  {
   "cell_type": "markdown",
   "id": "e0bbff41",
   "metadata": {},
   "source": [
    "Drop the `Row` column as it is not relevant for the analysis."
   ]
  },
  {
   "cell_type": "code",
   "execution_count": null,
   "id": "5999ba8b",
   "metadata": {},
   "outputs": [],
   "source": [
    "df_10_EYE.drop('Row', axis=1, inplace=True)"
   ]
  },
  {
   "cell_type": "markdown",
   "id": "1d7afa6b",
   "metadata": {},
   "source": [
    "Display the unique values in the `ET_ValidityLeft` column."
   ]
  },
  {
   "cell_type": "code",
   "execution_count": null,
   "id": "e8892c5a",
   "metadata": {},
   "outputs": [],
   "source": [
    "df_10_EYE['ET_ValidityLeft'].unique()"
   ]
  },
  {
   "cell_type": "markdown",
   "id": "423fee95",
   "metadata": {},
   "source": [
    "Count the occurrences of each unique value in the `ET_ValidityLeft` column."
   ]
  },
  {
   "cell_type": "code",
   "execution_count": null,
   "id": "9b6a3856",
   "metadata": {},
   "outputs": [],
   "source": [
    "df_10_EYE['ET_ValidityLeft'].value_counts()"
   ]
  },
  {
   "cell_type": "markdown",
   "id": "613512c8",
   "metadata": {},
   "source": [
    "Display the unique values in the `ET_ValidityRight` column."
   ]
  },
  {
   "cell_type": "code",
   "execution_count": null,
   "id": "acc6753e",
   "metadata": {},
   "outputs": [],
   "source": [
    "df_10_EYE['ET_ValidityRight'].unique()"
   ]
  },
  {
   "cell_type": "markdown",
   "id": "945cf2ae",
   "metadata": {},
   "source": [
    "Count the occurrences of each unique value in the `ET_ValidityRight` column."
   ]
  },
  {
   "cell_type": "code",
   "execution_count": null,
   "id": "0e641ebd",
   "metadata": {},
   "outputs": [],
   "source": [
    "df_10_EYE['ET_ValidityRight'].value_counts()"
   ]
  },
  {
   "cell_type": "markdown",
   "id": "dbaf14d8",
   "metadata": {},
   "source": [
    "Visualize the counts of valid and invalid data for both left and right eyes using bar plots."
   ]
  },
  {
   "cell_type": "code",
   "execution_count": null,
   "id": "126caaa6",
   "metadata": {},
   "outputs": [],
   "source": [
    "plt.figure(figsize=(12, 6))\n",
    "\n",
    "plt.subplot(1, 2, 1)\n",
    "sns.barplot(x=df_10_EYE['ET_ValidityLeft'].value_counts().index, y=df_10_EYE['ET_ValidityLeft'].value_counts().values)\n",
    "plt.title('Count of ET_ValidityLeft')\n",
    "plt.xlabel('Validity')\n",
    "plt.ylabel('Count')\n",
    "\n",
    "\n",
    "plt.subplot(1, 2, 2)\n",
    "sns.barplot(x=df_10_EYE['ET_ValidityRight'].value_counts().index, y=df_10_EYE['ET_ValidityRight'].value_counts().values)\n",
    "plt.title('Count of ET_ValidityRight')\n",
    "plt.xlabel('Validity')\n",
    "plt.ylabel('Count')\n",
    "\n",
    "plt.tight_layout()\n",
    "plt.show()"
   ]
  },
  {
   "cell_type": "markdown",
   "id": "74083fc8",
   "metadata": {},
   "source": [
    "# Notes & Observations\n",
    "\n",
    "- The `ET_ValidityLeft` and `ET_ValidityRight` columns indicate the validity of the eye-tracking data for the left and right eye, respectively.\n",
    "- Based on the value counts and the bar plots, it appears that a value of `0.0` represents valid eye-tracking data, while a value of `4.0` represents invalid data.\n",
    "- Although the amount of invalid data is relatively small, removing these rows could introduce unwanted patterns or gaps in the time series data.\n",
    "- Therefore, we will keep the data and replace the value `4.0` with `1.0` in both `ET_ValidityLeft` and `ET_ValidityRight` columns. This will indicate to a machine learning model that the eye tracker had invalid data at those specific points in time while maintaining the integrity of the time series."
   ]
  },
  {
   "cell_type": "markdown",
   "id": "754a9fb0",
   "metadata": {},
   "source": [
    "Define a mapping to convert validity values from `0.0` and `4.0` to `0` and `1`."
   ]
  },
  {
   "cell_type": "code",
   "execution_count": null,
   "id": "a487d219",
   "metadata": {},
   "outputs": [],
   "source": [
    "validity_map = {4.0: 1.0, 0.0: 0.0}"
   ]
  },
  {
   "cell_type": "markdown",
   "id": "36d7fb81",
   "metadata": {},
   "source": [
    "Apply the mapping to the `ET_ValidityLeft` and `ET_ValidityRight` columns and convert the data type to integer."
   ]
  },
  {
   "cell_type": "code",
   "execution_count": null,
   "id": "45ae4b1a",
   "metadata": {},
   "outputs": [],
   "source": [
    "df_10_EYE['ET_ValidityLeft'] = df_10_EYE['ET_ValidityLeft'].map(validity_map).astype(np.int8)\n",
    "df_10_EYE['ET_ValidityRight'] = df_10_EYE['ET_ValidityRight'].map(validity_map).astype(np.int8)"
   ]
  },
  {
   "cell_type": "markdown",
   "id": "f483287f",
   "metadata": {},
   "source": [
    "Display the first few rows to see the updated validity columns."
   ]
  },
  {
   "cell_type": "code",
   "execution_count": null,
   "id": "032123f1",
   "metadata": {},
   "outputs": [],
   "source": [
    "df_10_EYE.head(3)"
   ]
  },
  {
   "cell_type": "markdown",
   "id": "121331ba",
   "metadata": {},
   "source": [
    "Display descriptive statistics for the DataFrame, including count, mean, standard deviation, min, max, and quartiles for numeric columns."
   ]
  },
  {
   "cell_type": "code",
   "execution_count": null,
   "id": "0e1dfa61",
   "metadata": {},
   "outputs": [],
   "source": [
    "df_10_EYE.describe()"
   ]
  },
  {
   "cell_type": "markdown",
   "id": "df48394c",
   "metadata": {},
   "source": [
    "Check the number of rows where `ET_ValidityLeft` is 1 (invalid data for the left eye)."
   ]
  },
  {
   "cell_type": "code",
   "execution_count": null,
   "id": "4283e798",
   "metadata": {},
   "outputs": [],
   "source": [
    "df_10_EYE[df_10_EYE['ET_ValidityLeft'] == 1].shape"
   ]
  },
  {
   "cell_type": "markdown",
   "id": "586be3b5",
   "metadata": {},
   "source": [
    "Check the number of rows where `ET_ValidityRight` is 1 (invalid data for the right eye)."
   ]
  },
  {
   "cell_type": "code",
   "execution_count": null,
   "id": "a25bd0eb",
   "metadata": {},
   "outputs": [],
   "source": [
    "df_10_EYE[df_10_EYE['ET_ValidityRight'] == 1].shape"
   ]
  },
  {
   "cell_type": "markdown",
   "id": "152aab40",
   "metadata": {},
   "source": [
    "Visualize the distribution of -1 and 1 values across columns using heatmaps. This helps identify columns with placeholder or indicator values."
   ]
  },
  {
   "cell_type": "code",
   "execution_count": null,
   "id": "8fbddab5",
   "metadata": {},
   "outputs": [],
   "source": [
    "plt.figure(figsize=(18, 8))\n",
    "\n",
    "plt.subplot(1, 2, 1)\n",
    "sns.heatmap(df_10_EYE == -1, cmap='viridis')\n",
    "plt.title('Heatmap of -1 Values')\n",
    "\n",
    "plt.subplot(1, 2, 2)\n",
    "sns.heatmap(df_10_EYE == 1, cmap='viridis')\n",
    "plt.title('Heatmap of 1 Values')\n",
    "\n",
    "plt.tight_layout()\n",
    "plt.show()"
   ]
  },
  {
   "cell_type": "markdown",
   "id": "46e94b8b",
   "metadata": {},
   "source": [
    "Check the number of rows where `ET_PupilLeft` is -1."
   ]
  },
  {
   "cell_type": "code",
   "execution_count": null,
   "id": "a2a876cf",
   "metadata": {},
   "outputs": [],
   "source": [
    "df_10_EYE[df_10_EYE['ET_PupilLeft'] == -1].shape"
   ]
  },
  {
   "cell_type": "markdown",
   "id": "fea773f0",
   "metadata": {},
   "source": [
    "Check the number of rows where `ET_PupilRight` is -1."
   ]
  },
  {
   "cell_type": "code",
   "execution_count": null,
   "id": "48c03e42",
   "metadata": {},
   "outputs": [],
   "source": [
    "df_10_EYE[df_10_EYE['ET_PupilRight'] == -1].shape"
   ]
  },
  {
   "cell_type": "markdown",
   "id": "14cb1f4c",
   "metadata": {},
   "source": [
    "Calculate the ratio of rows with -1 values in the `ET_PupilLeft` column to the total number of rows."
   ]
  },
  {
   "cell_type": "code",
   "execution_count": null,
   "id": "87ff3da5",
   "metadata": {},
   "outputs": [],
   "source": [
    "df_10_EYE[df_10_EYE['ET_PupilLeft'] == -1].shape[0] / df_10_EYE.shape[0]"
   ]
  },
  {
   "cell_type": "markdown",
   "id": "fec3a882",
   "metadata": {},
   "source": [
    "Calculate the ratio of rows with -1 values in the `ET_PupilRight` column to the total number of rows."
   ]
  },
  {
   "cell_type": "code",
   "execution_count": null,
   "id": "69489b51",
   "metadata": {},
   "outputs": [],
   "source": [
    "df_10_EYE[df_10_EYE['ET_PupilRight'] == -1].shape[0] / df_10_EYE.shape[0]"
   ]
  },
  {
   "cell_type": "markdown",
   "id": "ad2be7b9",
   "metadata": {},
   "source": [
    "Visualize the distribution of -1 values specifically for rows where validity is 1 (invalid data)."
   ]
  },
  {
   "cell_type": "code",
   "execution_count": null,
   "id": "cd143fe2",
   "metadata": {},
   "outputs": [],
   "source": [
    "plt.figure(figsize=(18, 8))\n",
    "\n",
    "plt.subplot(1, 2, 1)\n",
    "sns.heatmap(df_10_EYE[df_10_EYE['ET_ValidityLeft'] == 1] == -1, cmap='viridis')\n",
    "plt.title('Heatmap of -1 Values')\n",
    "\n",
    "plt.subplot(1, 2, 2)\n",
    "sns.heatmap(df_10_EYE[df_10_EYE['ET_ValidityRight'] == 1] == -1, cmap='viridis')\n",
    "plt.title('Heatmap of -1 Values')\n",
    "\n",
    "plt.tight_layout()\n",
    "plt.show()"
   ]
  },
  {
   "cell_type": "markdown",
   "id": "30126e02",
   "metadata": {},
   "source": [
    "# Notes & Observations\n",
    "\n",
    "- The heatmaps reveal the distribution of -1 values across different columns.\n",
    "- It is evident that the `-1` values are not randomly scattered but appear in specific columns, notably `ET_GazeLeftx`, `ET_GazeLefty`, `ET_GazeRightx`, `ET_GazeRighty`, `ET_PupilLeft`, `ET_PupilRight`, `ET_DistanceLeft`, `ET_DistanceRight`, `ET_CameraLeftX`, `ET_CameraLeftY`, `ET_CameraRightX`, and `ET_CameraRightY`.\n",
    "- These `-1` values often coincide with instances where `ET_ValidityLeft` or `ET_ValidityRight` is 1, indicating invalid eye-tracking data. This suggests that `-1` is used as a placeholder for missing or invalid measurements in these columns when the eye tracker is not providing valid data for a particular eye.\n",
    "- Given that over 70% of the data in the `ET_PupilLeft` and `ET_PupilRight` columns is marked as invalid (-1), these columns may not be suitable for analysis and could be considered for dropping."
   ]
  },
  {
   "cell_type": "markdown",
   "id": "1a96531d",
   "metadata": {},
   "source": [
    "Drop the `ET_PupilLeft` and `ET_PupilRight` columns due to the high percentage of invalid data."
   ]
  },
  {
   "cell_type": "code",
   "execution_count": null,
   "id": "e95ccb0b",
   "metadata": {},
   "outputs": [],
   "source": [
    "df_10_EYE.drop(['ET_PupilLeft', 'ET_PupilRight'], axis=1, inplace=True)"
   ]
  },
  {
   "cell_type": "markdown",
   "id": "b4d9643d",
   "metadata": {},
   "source": [
    "Display the first few rows after dropping the pupil columns."
   ]
  },
  {
   "cell_type": "code",
   "execution_count": null,
   "id": "dd7fdb84",
   "metadata": {},
   "outputs": [],
   "source": [
    "df_10_EYE.head()"
   ]
  },
  {
   "cell_type": "markdown",
   "id": "5c6d8679",
   "metadata": {},
   "source": [
    "Visualize the distribution of -1 and 1 values again after dropping the pupil columns."
   ]
  },
  {
   "cell_type": "code",
   "execution_count": null,
   "id": "da0bbf2e",
   "metadata": {},
   "outputs": [],
   "source": [
    "plt.figure(figsize=(18, 8))\n",
    "\n",
    "plt.subplot(1, 2, 1)\n",
    "sns.heatmap(df_10_EYE == -1, cmap='viridis')\n",
    "plt.title('Heatmap of -1 Values')\n",
    "\n",
    "plt.subplot(1, 2, 2)\n",
    "sns.heatmap(df_10_EYE == 1, cmap='viridis')\n",
    "plt.title('Heatmap of -1 Values')\n",
    "\n",
    "plt.tight_layout()\n",
    "plt.show()"
   ]
  },
  {
   "cell_type": "markdown",
   "id": "cee61446",
   "metadata": {},
   "source": [
    "Calculate the ratio of valid data points for the left eye."
   ]
  },
  {
   "cell_type": "code",
   "execution_count": null,
   "id": "643fbd47",
   "metadata": {},
   "outputs": [],
   "source": [
    "valid_left_ratio  = 1 - df_10_EYE['ET_ValidityLeft'].mean()"
   ]
  },
  {
   "cell_type": "markdown",
   "id": "48a226ad",
   "metadata": {},
   "source": [
    "Display the ratio of valid data points for the left eye."
   ]
  },
  {
   "cell_type": "code",
   "execution_count": null,
   "id": "70582e51",
   "metadata": {},
   "outputs": [],
   "source": [
    "valid_left_ratio"
   ]
  },
  {
   "cell_type": "markdown",
   "id": "017cc677",
   "metadata": {},
   "source": [
    "Calculate the ratio of valid data points for the right eye."
   ]
  },
  {
   "cell_type": "code",
   "execution_count": null,
   "id": "68f75f55",
   "metadata": {},
   "outputs": [],
   "source": [
    "valid_right_ratio = 1 - df_10_EYE['ET_ValidityRight'].mean()"
   ]
  },
  {
   "cell_type": "markdown",
   "id": "151ecf4d",
   "metadata": {},
   "source": [
    "Display the ratio of valid data points for the right eye."
   ]
  },
  {
   "cell_type": "code",
   "execution_count": null,
   "id": "aa3a365a",
   "metadata": {},
   "outputs": [],
   "source": [
    "valid_right_ratio"
   ]
  },
  {
   "cell_type": "markdown",
   "id": "e2cc72db",
   "metadata": {},
   "source": [
    "Display the first few rows of the DataFrame."
   ]
  },
  {
   "cell_type": "code",
   "execution_count": null,
   "id": "69c1bf58",
   "metadata": {},
   "outputs": [],
   "source": [
    "df_10_EYE.head()"
   ]
  },
  {
   "cell_type": "markdown",
   "id": "dd277c2c",
   "metadata": {},
   "source": [
    "Visualize the distributions of numeric columns using histograms with Kernel Density Estimate (KDE) plots. This helps understand the shape and spread of the data in each numeric column."
   ]
  },
  {
   "cell_type": "code",
   "execution_count": null,
   "id": "0006716e",
   "metadata": {},
   "outputs": [],
   "source": [
    "# Select only the numeric columns for plotting histograms, excluding time-related columns\n",
    "numeric_cols = df_10_EYE.select_dtypes(include=np.number).columns\n",
    "cols_to_plot = [col for col in numeric_cols if col not in ['UnixTime']]\n",
    "\n",
    "# Calculate the number of rows and columns for the grid\n",
    "n_cols = 4  # You can adjust the number of columns as needed\n",
    "n_rows = (len(cols_to_plot) + n_cols - 1) // n_cols\n",
    "\n",
    "plt.figure(figsize=(n_cols * 5, n_rows * 4)) # Adjust figure size as needed\n",
    "\n",
    "for i, col in enumerate(cols_to_plot):\n",
    "    plt.subplot(n_rows, n_cols, i + 1)\n",
    "    sns.histplot(df_10_EYE[col], kde=True)\n",
    "    plt.title(f'Distribution of {col}')\n",
    "    plt.xlabel(col)\n",
    "    plt.ylabel('Frequency')\n",
    "\n",
    "plt.tight_layout()\n",
    "plt.show()"
   ]
  },
  {
   "cell_type": "markdown",
   "id": "b417ba57",
   "metadata": {},
   "source": [
    "List the names of the columns in the DataFrame."
   ]
  },
  {
   "cell_type": "code",
   "execution_count": null,
   "id": "169a69e3",
   "metadata": {},
   "outputs": [],
   "source": [
    "df_10_EYE.columns"
   ]
  },
  {
   "cell_type": "markdown",
   "id": "16ee24e5",
   "metadata": {},
   "source": [
    "Define a list of columns to be plotted over time."
   ]
  },
  {
   "cell_type": "code",
   "execution_count": null,
   "id": "c3c86ee1",
   "metadata": {},
   "outputs": [],
   "source": [
    "cols = ['ET_GazeLeftx', 'ET_GazeLefty',\n",
    "       'ET_GazeRightx', 'ET_GazeRighty', 'ET_TimeSignal', 'ET_DistanceLeft',\n",
    "       'ET_DistanceRight', 'ET_CameraLeftX', 'ET_CameraLeftY',\n",
    "       'ET_CameraRightX', 'ET_CameraRightY', 'ET_ValidityLeft',\n",
    "       'ET_ValidityRight']"
   ]
  },
  {
   "cell_type": "markdown",
   "id": "d290d6a2",
   "metadata": {},
   "source": [
    "Plot each of the selected columns against the timestamp to visualize their trends and patterns over time. Markdown cells are added before each plot for better readability."
   ]
  },
  {
   "cell_type": "code",
   "execution_count": null,
   "id": "05483cf0",
   "metadata": {},
   "outputs": [],
   "source": [
    "from IPython.display import display, Markdown\n",
    "\n",
    "for col in cols:\n",
    "    # Add a markdown cell before each plot for better separation and labeling\n",
    "    display(Markdown(f'### {col} over Time'))\n",
    "    plt.figure(figsize=(16, 10))\n",
    "    plt.plot(df_10_EYE['Timestamp'], df_10_EYE[col])\n",
    "    plt.xlabel(\"Timestamp\") # Add x-axis label\n",
    "    plt.ylabel(col) # Add y-axis label\n",
    "    plt.show()"
   ]
  },
  {
   "cell_type": "markdown",
   "id": "ce767c2b",
   "metadata": {},
   "source": [
    "Visualize the distributions of numeric columns using boxplots. This helps identify potential outliers and the spread of the data."
   ]
  },
  {
   "cell_type": "code",
   "execution_count": null,
   "id": "d5c8a9d1",
   "metadata": {},
   "outputs": [],
   "source": [
    "# Select only the numeric columns for plotting histograms, excluding time-related columns\n",
    "numeric_cols = df_10_EYE.select_dtypes(include=np.number).columns\n",
    "\n",
    "# Calculate the number of rows and columns for the grid\n",
    "n_cols = 4  # You can adjust the number of columns as needed\n",
    "n_rows = (len(numeric_cols) + n_cols - 1) // n_cols\n",
    "\n",
    "plt.figure(figsize=(n_cols * 5, n_rows * 4)) # Adjust figure size as needed\n",
    "\n",
    "for i, col in enumerate(numeric_cols):\n",
    "    plt.subplot(n_rows, n_cols, i + 1)\n",
    "    sns.boxplot(df_10_EYE[col])\n",
    "    plt.title(f'Boxplot of {col}')\n",
    "    plt.xlabel(col)\n",
    "\n",
    "plt.tight_layout()\n",
    "plt.show()"
   ]
  },
  {
   "cell_type": "markdown",
   "id": "b0b6cd74",
   "metadata": {},
   "source": [
    "Replace the placeholder value -1 with NaN (Not a Number) in the DataFrame. This is done before imputation."
   ]
  },
  {
   "cell_type": "code",
   "execution_count": null,
   "id": "ab468a5a",
   "metadata": {},
   "outputs": [],
   "source": [
    "df_10_EYE.replace({-1: np.nan}, inplace=True)"
   ]
  },
  {
   "cell_type": "markdown",
   "id": "19352eea",
   "metadata": {},
   "source": [
    "Impute the missing values (NaN) in the numeric columns with the mean of each column."
   ]
  },
  {
   "cell_type": "code",
   "execution_count": null,
   "id": "42325387",
   "metadata": {},
   "outputs": [],
   "source": [
    "numeric_cols = df_10_EYE.select_dtypes(include=np.number).columns\n",
    "\n",
    "for col in numeric_cols:\n",
    "    df_10_EYE[col].fillna(df_10_EYE[col].mean(), inplace=True)"
   ]
  },
  {
   "cell_type": "markdown",
   "id": "83430795",
   "metadata": {},
   "source": [
    "Display the first few rows after imputing missing values."
   ]
  },
  {
   "cell_type": "code",
   "execution_count": null,
   "id": "fe3d99e9",
   "metadata": {},
   "outputs": [],
   "source": [
    "df_10_EYE.head()"
   ]
  },
  {
   "cell_type": "markdown",
   "id": "ace76552",
   "metadata": {},
   "source": [
    "Visualize the distributions of numeric columns again using histograms with KDE plots after imputation. This helps assess the impact of imputation on the data distributions."
   ]
  },
  {
   "cell_type": "code",
   "execution_count": null,
   "id": "afd52ca7",
   "metadata": {},
   "outputs": [],
   "source": [
    "# Select only the numeric columns for plotting histograms, excluding time-related columns\n",
    "numeric_cols = df_10_EYE.select_dtypes(include=np.number).columns\n",
    "cols_to_plot = [col for col in numeric_cols if col not in ['UnixTime']]\n",
    "\n",
    "# Calculate the number of rows and columns for the grid\n",
    "n_cols = 4  # You can adjust the number of columns as needed\n",
    "n_rows = (len(cols_to_plot) + n_cols - 1) // n_cols\n",
    "\n",
    "plt.figure(figsize=(n_cols * 5, n_rows * 4)) # Adjust figure size as needed\n",
    "\n",
    "for i, col in enumerate(cols_to_plot):\n",
    "    plt.subplot(n_rows, n_cols, i + 1)\n",
    "    sns.histplot(df_10_EYE[col], kde=True)\n",
    "    plt.title(f'Distribution of {col}')\n",
    "    plt.xlabel(col)\n",
    "    plt.ylabel('Frequency')\n",
    "\n",
    "plt.tight_layout()\n",
    "plt.show()"
   ]
  },
  {
   "cell_type": "code",
   "execution_count": null,
   "id": "74b77613",
   "metadata": {},
   "outputs": [],
   "source": []
  }
 ],
 "metadata": {},
 "nbformat": 4,
 "nbformat_minor": 5
}
