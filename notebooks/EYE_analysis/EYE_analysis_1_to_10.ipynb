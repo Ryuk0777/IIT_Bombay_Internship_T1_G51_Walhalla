{
  "cells": [
    {
      "cell_type": "markdown",
      "id": "1903c646",
      "metadata": {
        "id": "1903c646"
      },
      "source": [
        "# Eye Tracking Data Analysis\n",
        "\n",
        "This notebook performs exploratory data analysis and cleaning on eye-tracking data.\n"
      ]
    },
    {
      "cell_type": "code",
      "execution_count": null,
      "id": "aa62768f",
      "metadata": {
        "id": "aa62768f"
      },
      "outputs": [],
      "source": [
        "%load_ext cudf"
      ]
    },
    {
      "cell_type": "code",
      "execution_count": null,
      "id": "eca493d8",
      "metadata": {
        "id": "eca493d8"
      },
      "outputs": [],
      "source": [
        "import numpy as np\n",
        "import pandas as pd\n",
        "import matplotlib.pyplot as plt\n",
        "import seaborn as sns"
      ]
    },
    {
      "cell_type": "code",
      "execution_count": null,
      "id": "75a5cc36",
      "metadata": {
        "id": "75a5cc36"
      },
      "outputs": [],
      "source": [
        "import datashader as ds\n",
        "import datashader.transfer_functions as tf"
      ]
    },
    {
      "cell_type": "code",
      "execution_count": null,
      "id": "6b398cbb",
      "metadata": {
        "id": "6b398cbb"
      },
      "outputs": [],
      "source": [
        "pd.set_option('display.max_columns', None)"
      ]
    },
    {
      "cell_type": "markdown",
      "id": "bcb90883",
      "metadata": {
        "id": "bcb90883"
      },
      "source": [
        "# **1_EYE**"
      ]
    },
    {
      "cell_type": "code",
      "execution_count": null,
      "id": "c20103c2",
      "metadata": {
        "id": "c20103c2"
      },
      "outputs": [],
      "source": [
        "df_1_EYE = pd.read_csv('data/STData/1/1_EYE.csv')"
      ]
    },
    {
      "cell_type": "code",
      "execution_count": null,
      "id": "7d06cace",
      "metadata": {
        "id": "7d06cace"
      },
      "outputs": [],
      "source": [
        "df_1_EYE.head()"
      ]
    },
    {
      "cell_type": "code",
      "execution_count": null,
      "id": "30d5876a",
      "metadata": {
        "id": "30d5876a"
      },
      "outputs": [],
      "source": [
        "df_1_EYE.shape"
      ]
    },
    {
      "cell_type": "code",
      "execution_count": null,
      "id": "e0156b69",
      "metadata": {
        "id": "e0156b69"
      },
      "outputs": [],
      "source": [
        "df_1_EYE.columns"
      ]
    },
    {
      "cell_type": "code",
      "execution_count": null,
      "id": "64816b49",
      "metadata": {
        "id": "64816b49"
      },
      "outputs": [],
      "source": [
        "df_1_EYE.info()"
      ]
    },
    {
      "cell_type": "code",
      "execution_count": null,
      "id": "0f6ca209",
      "metadata": {
        "id": "0f6ca209"
      },
      "outputs": [],
      "source": [
        "df_1_EYE.isnull().sum()"
      ]
    },
    {
      "cell_type": "code",
      "execution_count": null,
      "id": "8f23366b",
      "metadata": {
        "id": "8f23366b"
      },
      "outputs": [],
      "source": [
        "plt.figure(figsize=(12,8))\n",
        "sns.heatmap(df_1_EYE.isnull(), cmap='viridis')\n",
        "plt.show()"
      ]
    },
    {
      "cell_type": "markdown",
      "id": "3210a232",
      "metadata": {
        "id": "3210a232"
      },
      "source": [
        "# Notes & Observations\n",
        "\n",
        "- We observe many **null** (or missing) values in the `QuestionKey` columns.\n",
        "- The nulls in the `QuestionKey` column may not represent “true” nulls. Rather, they follow interval patterns, suggesting that during those periods no question was displayed.\n",
        "- These missing values in `QuestionKey` require additional investigation and context-aware handling."
      ]
    },
    {
      "cell_type": "code",
      "execution_count": null,
      "id": "348ea300",
      "metadata": {
        "id": "348ea300"
      },
      "outputs": [],
      "source": [
        "df_1_EYE['QuestionKey'].unique()"
      ]
    },
    {
      "cell_type": "code",
      "execution_count": null,
      "id": "ccee86f9",
      "metadata": {
        "id": "ccee86f9"
      },
      "outputs": [],
      "source": [
        "df_1_EYE['Timestamp'] = pd.to_datetime(df_1_EYE['Timestamp'])"
      ]
    },
    {
      "cell_type": "code",
      "execution_count": null,
      "id": "e0971b6b",
      "metadata": {
        "id": "e0971b6b"
      },
      "outputs": [],
      "source": [
        "df_1_EYE.head(3)"
      ]
    },
    {
      "cell_type": "code",
      "execution_count": null,
      "id": "49007cbf",
      "metadata": {
        "id": "49007cbf"
      },
      "outputs": [],
      "source": [
        "df_1_EYE['QuestionKey'] = df_1_EYE['QuestionKey'].fillna('None')"
      ]
    },
    {
      "cell_type": "code",
      "execution_count": null,
      "id": "4f233453",
      "metadata": {
        "id": "4f233453"
      },
      "outputs": [],
      "source": [
        "df_1_EYE['QuestionKey'].value_counts()"
      ]
    },
    {
      "cell_type": "code",
      "execution_count": null,
      "id": "73c1c6fd",
      "metadata": {
        "id": "73c1c6fd"
      },
      "outputs": [],
      "source": [
        "plt.figure(figsize=(12,8))\n",
        "sns.heatmap(df_1_EYE.isnull(), cmap='viridis')\n",
        "plt.show()"
      ]
    },
    {
      "cell_type": "code",
      "execution_count": null,
      "id": "a232b232",
      "metadata": {
        "id": "a232b232"
      },
      "outputs": [],
      "source": [
        "df_1_EYE.isnull().sum()"
      ]
    },
    {
      "cell_type": "code",
      "execution_count": null,
      "id": "570564b2",
      "metadata": {
        "id": "570564b2"
      },
      "outputs": [],
      "source": [
        "df_1_EYE.dropna(inplace=True)"
      ]
    },
    {
      "cell_type": "code",
      "execution_count": null,
      "id": "dc6daefe",
      "metadata": {
        "id": "dc6daefe"
      },
      "outputs": [],
      "source": [
        "df_1_EYE.head()"
      ]
    },
    {
      "cell_type": "code",
      "execution_count": null,
      "id": "6a63a073",
      "metadata": {
        "id": "6a63a073"
      },
      "outputs": [],
      "source": [
        "df_1_EYE['Row'].unique()"
      ]
    },
    {
      "cell_type": "code",
      "execution_count": null,
      "id": "fa849e33",
      "metadata": {
        "id": "fa849e33"
      },
      "outputs": [],
      "source": [
        "plt.figure(figsize=(8,6))\n",
        "sns.histplot(df_1_EYE['Row'])\n",
        "plt.show()"
      ]
    },
    {
      "cell_type": "markdown",
      "id": "f0966ba6",
      "metadata": {
        "id": "f0966ba6"
      },
      "source": [
        "# Notes & Observations\n",
        "\n",
        "- The `Row` column appears to be a simple row index and does not provide meaningful information relevant to the eye-tracking data itself. Therefore, it can be dropped."
      ]
    },
    {
      "cell_type": "code",
      "execution_count": null,
      "id": "3d855740",
      "metadata": {
        "id": "3d855740"
      },
      "outputs": [],
      "source": [
        "df_1_EYE.drop('Row', axis=1, inplace=True)"
      ]
    },
    {
      "cell_type": "code",
      "execution_count": null,
      "id": "9a152e24",
      "metadata": {
        "id": "9a152e24"
      },
      "outputs": [],
      "source": [
        "df_1_EYE['ET_ValidityLeft'].unique()"
      ]
    },
    {
      "cell_type": "code",
      "execution_count": null,
      "id": "f516d97e",
      "metadata": {
        "id": "f516d97e"
      },
      "outputs": [],
      "source": [
        "df_1_EYE['ET_ValidityLeft'].value_counts()"
      ]
    },
    {
      "cell_type": "code",
      "execution_count": null,
      "id": "cba3547e",
      "metadata": {
        "id": "cba3547e"
      },
      "outputs": [],
      "source": [
        "df_1_EYE['ET_ValidityRight'].unique()"
      ]
    },
    {
      "cell_type": "code",
      "execution_count": null,
      "id": "9719c60e",
      "metadata": {
        "id": "9719c60e"
      },
      "outputs": [],
      "source": [
        "df_1_EYE['ET_ValidityRight'].value_counts()"
      ]
    },
    {
      "cell_type": "code",
      "execution_count": null,
      "id": "30db79ea",
      "metadata": {
        "id": "30db79ea"
      },
      "outputs": [],
      "source": [
        "plt.figure(figsize=(12, 6))\n",
        "\n",
        "plt.subplot(1, 2, 1)\n",
        "sns.barplot(x=df_1_EYE['ET_ValidityLeft'].value_counts().index, y=df_1_EYE['ET_ValidityLeft'].value_counts().values)\n",
        "plt.title('Count of ET_ValidityLeft')\n",
        "plt.xlabel('Validity')\n",
        "plt.ylabel('Count')\n",
        "\n",
        "\n",
        "plt.subplot(1, 2, 2)\n",
        "sns.barplot(x=df_1_EYE['ET_ValidityRight'].value_counts().index, y=df_1_EYE['ET_ValidityRight'].value_counts().values)\n",
        "plt.title('Count of ET_ValidityRight')\n",
        "plt.xlabel('Validity')\n",
        "plt.ylabel('Count')\n",
        "\n",
        "plt.tight_layout()\n",
        "plt.show()"
      ]
    },
    {
      "cell_type": "markdown",
      "id": "44f0a5ec",
      "metadata": {
        "id": "44f0a5ec"
      },
      "source": [
        "# Notes & Observations\n",
        "\n",
        "- The `ET_ValidityLeft` and `ET_ValidityRight` columns indicate the validity of the eye-tracking data for the left and right eye, respectively.\n",
        "- Based on the value counts and the bar plots, it appears that a value of `0.0` represents valid eye-tracking data, while a value of `4.0` represents invalid data.\n",
        "- Although the amount of invalid data is relatively small, removing these rows could introduce unwanted patterns or gaps in the time series data.\n",
        "- Therefore, we will keep the data and replace the value `4.0` with `1.0` in both `ET_ValidityLeft` and `ET_ValidityRight` columns. This will indicate to a machine learning model that the eye tracker had invalid data at those specific points in time while maintaining the integrity of the time series."
      ]
    },
    {
      "cell_type": "markdown",
      "id": "fa2383bc",
      "metadata": {
        "id": "fa2383bc"
      },
      "source": [
        "Define a mapping to convert validity values from `0.0` and `4.0` to `0` and `1`."
      ]
    },
    {
      "cell_type": "code",
      "execution_count": null,
      "id": "5e773dfb",
      "metadata": {
        "id": "5e773dfb"
      },
      "outputs": [],
      "source": [
        "validity_map = {4.0: 1.0, 0.0: 0.0}"
      ]
    },
    {
      "cell_type": "code",
      "execution_count": null,
      "id": "c54313d2",
      "metadata": {
        "id": "c54313d2"
      },
      "outputs": [],
      "source": [
        "df_1_EYE['ET_ValidityLeft'] = df_1_EYE['ET_ValidityLeft'].map(validity_map).astype(np.int8)\n",
        "df_1_EYE['ET_ValidityRight'] = df_1_EYE['ET_ValidityRight'].map(validity_map).astype(np.int8)"
      ]
    },
    {
      "cell_type": "code",
      "execution_count": null,
      "id": "b989ac98",
      "metadata": {
        "id": "b989ac98"
      },
      "outputs": [],
      "source": [
        "df_1_EYE.head(3)"
      ]
    },
    {
      "cell_type": "code",
      "execution_count": null,
      "id": "dff39cad",
      "metadata": {
        "id": "dff39cad"
      },
      "outputs": [],
      "source": [
        "df_1_EYE.describe()"
      ]
    },
    {
      "cell_type": "code",
      "execution_count": null,
      "id": "e347502f",
      "metadata": {
        "id": "e347502f"
      },
      "outputs": [],
      "source": [
        "df_1_EYE[df_1_EYE['ET_ValidityLeft'] == 1].shape"
      ]
    },
    {
      "cell_type": "code",
      "execution_count": null,
      "id": "832af9e2",
      "metadata": {
        "id": "832af9e2"
      },
      "outputs": [],
      "source": [
        "df_1_EYE[df_1_EYE['ET_ValidityRight'] == 1].shape"
      ]
    },
    {
      "cell_type": "code",
      "execution_count": null,
      "id": "52970360",
      "metadata": {
        "id": "52970360"
      },
      "outputs": [],
      "source": [
        "df_1_EYE[df_1_EYE['ET_ValidityLeft'] == 1].shape[0] / df_1_EYE.shape[0]"
      ]
    },
    {
      "cell_type": "code",
      "execution_count": null,
      "id": "c3ce3ab7",
      "metadata": {
        "id": "c3ce3ab7"
      },
      "outputs": [],
      "source": [
        "df_1_EYE[df_1_EYE['ET_ValidityRight'] == 1].shape[0] / df_1_EYE.shape[0]"
      ]
    },
    {
      "cell_type": "code",
      "execution_count": null,
      "id": "6f4cd32a",
      "metadata": {
        "id": "6f4cd32a"
      },
      "outputs": [],
      "source": [
        "plt.figure(figsize=(18, 8))\n",
        "\n",
        "plt.subplot(1, 2, 1)\n",
        "sns.heatmap(df_1_EYE == -1, cmap='viridis')\n",
        "plt.title('Heatmap of -1 Values')\n",
        "\n",
        "plt.subplot(1, 2, 2)\n",
        "sns.heatmap(df_1_EYE == 1, cmap='viridis')\n",
        "plt.title('Heatmap of 1 Values')\n",
        "\n",
        "plt.tight_layout()\n",
        "plt.show()"
      ]
    },
    {
      "cell_type": "code",
      "execution_count": null,
      "id": "00ed0ea7",
      "metadata": {
        "id": "00ed0ea7"
      },
      "outputs": [],
      "source": [
        "df_1_EYE[df_1_EYE['ET_PupilLeft'] == -1].shape"
      ]
    },
    {
      "cell_type": "code",
      "execution_count": null,
      "id": "078d6e97",
      "metadata": {
        "id": "078d6e97"
      },
      "outputs": [],
      "source": [
        "df_1_EYE[df_1_EYE['ET_PupilRight'] == -1].shape"
      ]
    },
    {
      "cell_type": "code",
      "execution_count": null,
      "id": "56e1b242",
      "metadata": {
        "id": "56e1b242"
      },
      "outputs": [],
      "source": [
        "df_1_EYE[df_1_EYE['ET_PupilLeft'] == -1].shape[0] / df_1_EYE.shape[0]"
      ]
    },
    {
      "cell_type": "code",
      "execution_count": null,
      "id": "221a1b5e",
      "metadata": {
        "id": "221a1b5e"
      },
      "outputs": [],
      "source": [
        "df_1_EYE[df_1_EYE['ET_PupilRight'] == -1].shape[0] / df_1_EYE.shape[0]"
      ]
    },
    {
      "cell_type": "code",
      "execution_count": null,
      "id": "6a8dfec3",
      "metadata": {
        "id": "6a8dfec3"
      },
      "outputs": [],
      "source": [
        "plt.figure(figsize=(18, 8))\n",
        "\n",
        "plt.subplot(1, 2, 1)\n",
        "sns.heatmap(df_1_EYE[df_1_EYE['ET_ValidityLeft'] == 1] == -1, cmap='viridis')\n",
        "plt.title('Heatmap of -1 Values')\n",
        "\n",
        "plt.subplot(1, 2, 2)\n",
        "sns.heatmap(df_1_EYE[df_1_EYE['ET_ValidityRight'] == 1] == -1, cmap='viridis')\n",
        "plt.title('Heatmap of -1 Values')\n",
        "\n",
        "plt.tight_layout()\n",
        "plt.show()"
      ]
    },
    {
      "cell_type": "markdown",
      "id": "00d0d684",
      "metadata": {
        "id": "00d0d684"
      },
      "source": [
        "# Notes & Observations\n",
        "\n",
        "- The heatmaps reveal the distribution of -1 values across different columns.\n",
        "- It is evident that the `-1` values are not randomly scattered but appear in specific columns, notably `ET_GazeLeftx`, `ET_GazeLefty`, `ET_GazeRightx`, `ET_GazeRighty`, `ET_PupilLeft`, `ET_PupilRight`, `ET_DistanceLeft`, `ET_DistanceRight`, `ET_CameraLeftX`, `ET_CameraLeftY`, `ET_CameraRightX`, and `ET_CameraRightY`.\n",
        "- These `-1` values often coincide with instances where `ET_ValidityLeft` or `ET_ValidityRight` is 1, indicating invalid eye-tracking data. This suggests that `-1` is used as a placeholder for missing or invalid measurements in these columns when the eye tracker is not providing valid data for a particular eye.\n",
        "- Given that over 70% of the data in the `ET_PupilLeft` and `ET_PupilRight` columns is marked as invalid (-1), so instead of dropping them we can create new feature for both the `ET_PupilLeft` and `ET_PupilRight` to represent which row consist invalid `ET_PupilLeft` and `ET_PupilRight` data"
      ]
    },
    {
      "cell_type": "code",
      "execution_count": null,
      "id": "4f9d9293",
      "metadata": {
        "id": "4f9d9293"
      },
      "outputs": [],
      "source": [
        "pupil_validity = {-1: 1 }"
      ]
    },
    {
      "cell_type": "code",
      "execution_count": null,
      "id": "d5322fde",
      "metadata": {
        "id": "d5322fde"
      },
      "outputs": [],
      "source": [
        "df_1_EYE['ET_PupilLeft_validity'] = df_1_EYE['ET_PupilLeft'].map(pupil_validity)"
      ]
    },
    {
      "cell_type": "code",
      "execution_count": null,
      "id": "f77bad6a",
      "metadata": {
        "id": "f77bad6a"
      },
      "outputs": [],
      "source": [
        "df_1_EYE['ET_PupilRight_validity'] = df_1_EYE['ET_PupilRight'].map(pupil_validity)"
      ]
    },
    {
      "cell_type": "code",
      "execution_count": null,
      "id": "6cb3d188",
      "metadata": {
        "id": "6cb3d188"
      },
      "outputs": [],
      "source": [
        "df_1_EYE[['ET_PupilLeft_validity', 'ET_PupilRight_validity']].head()"
      ]
    },
    {
      "cell_type": "code",
      "execution_count": null,
      "id": "3d05301a",
      "metadata": {
        "id": "3d05301a"
      },
      "outputs": [],
      "source": [
        "df_1_EYE[['ET_PupilLeft_validity', 'ET_PupilRight_validity']].isnull().sum()"
      ]
    },
    {
      "cell_type": "code",
      "execution_count": null,
      "id": "c00e6047",
      "metadata": {
        "id": "c00e6047"
      },
      "outputs": [],
      "source": [
        "plt.figure(figsize=(18, 8))\n",
        "sns.heatmap(df_1_EYE[['ET_PupilLeft_validity', 'ET_PupilRight_validity']].isnull(), cmap='viridis')\n",
        "plt.show()"
      ]
    },
    {
      "cell_type": "code",
      "execution_count": null,
      "id": "d04ee9bc",
      "metadata": {
        "id": "d04ee9bc"
      },
      "outputs": [],
      "source": [
        "df_1_EYE['ET_PupilLeft_validity'] = df_1_EYE['ET_PupilLeft_validity'].fillna(0)"
      ]
    },
    {
      "cell_type": "code",
      "execution_count": null,
      "id": "d33a50d4",
      "metadata": {
        "id": "d33a50d4"
      },
      "outputs": [],
      "source": [
        "df_1_EYE['ET_PupilRight_validity'] = df_1_EYE['ET_PupilRight_validity'].fillna(0)"
      ]
    },
    {
      "cell_type": "code",
      "execution_count": null,
      "id": "31f31f3e",
      "metadata": {
        "id": "31f31f3e"
      },
      "outputs": [],
      "source": [
        "df_1_EYE[['ET_PupilLeft_validity', 'ET_PupilRight_validity']].head()"
      ]
    },
    {
      "cell_type": "code",
      "execution_count": null,
      "id": "f3322421",
      "metadata": {
        "id": "f3322421"
      },
      "outputs": [],
      "source": [
        "plt.figure(figsize=(18, 8))\n",
        "sns.heatmap(df_1_EYE[['ET_PupilLeft_validity', 'ET_PupilRight_validity']].isnull(), cmap='viridis')\n",
        "plt.show()"
      ]
    },
    {
      "cell_type": "code",
      "execution_count": null,
      "id": "bd2cf448",
      "metadata": {
        "id": "bd2cf448"
      },
      "outputs": [],
      "source": [
        "df_1_EYE.head()"
      ]
    },
    {
      "cell_type": "code",
      "execution_count": null,
      "id": "7ba2006c",
      "metadata": {
        "id": "7ba2006c"
      },
      "outputs": [],
      "source": [
        "plt.figure(figsize=(18, 8))\n",
        "\n",
        "plt.subplot(1, 2, 1)\n",
        "sns.heatmap(df_1_EYE == -1, cmap='viridis')\n",
        "plt.title('Heatmap of -1 Values')\n",
        "\n",
        "plt.subplot(1, 2, 2)\n",
        "sns.heatmap(df_1_EYE == 1, cmap='viridis')\n",
        "plt.title('Heatmap of -1 Values')\n",
        "\n",
        "plt.tight_layout()\n",
        "plt.show()"
      ]
    },
    {
      "cell_type": "code",
      "execution_count": null,
      "id": "faa602eb",
      "metadata": {
        "id": "faa602eb"
      },
      "outputs": [],
      "source": [
        "valid_left_ratio  = 1 - df_1_EYE['ET_ValidityLeft'].mean()"
      ]
    },
    {
      "cell_type": "code",
      "execution_count": null,
      "id": "d674e225",
      "metadata": {
        "id": "d674e225"
      },
      "outputs": [],
      "source": [
        "valid_left_ratio"
      ]
    },
    {
      "cell_type": "code",
      "execution_count": null,
      "id": "524483f2",
      "metadata": {
        "id": "524483f2"
      },
      "outputs": [],
      "source": [
        "valid_right_ratio = 1 - df_1_EYE['ET_ValidityRight'].mean()"
      ]
    },
    {
      "cell_type": "code",
      "execution_count": null,
      "id": "f9cfc080",
      "metadata": {
        "id": "f9cfc080"
      },
      "outputs": [],
      "source": [
        "valid_right_ratio"
      ]
    },
    {
      "cell_type": "code",
      "execution_count": null,
      "id": "cd16a040",
      "metadata": {
        "id": "cd16a040"
      },
      "outputs": [],
      "source": [
        "df_1_EYE['ET_PupilLeft_validity'] = df_1_EYE['ET_PupilLeft_validity'].astype(np.int8)\n",
        "df_1_EYE['ET_PupilRight_validity'] = df_1_EYE['ET_PupilRight_validity'].astype(np.int8)"
      ]
    },
    {
      "cell_type": "markdown",
      "id": "5b3da434",
      "metadata": {
        "id": "5b3da434"
      },
      "source": [
        "# Feature Engineering and Observations\n",
        "\n",
        "Based on the analysis of the data, we've created two new features, `ET_PupilLeft_validity` and `ET_PupilRight_validity`. These features indicate the validity of the pupil data for the left and right eyes, respectively, with a value of 1 representing invalid data (originally -1) and 0 representing valid data.\n",
        "\n",
        "The heatmaps above visually demonstrate the distribution of -1 and 1 values across the dataset. We observed that:\n",
        "- The `-1` values are concentrated in specific columns related to gaze, pupil size, distance, and camera position, suggesting they represent missing or invalid sensor readings.\n",
        "- The `1` values, after mapping from `4.0` in the original validity columns, indicate instances of invalid eye-tracking data.\n",
        "- The heatmaps also show a strong correlation between the `-1` values in the pupil columns and a validity of 1 in the newly created pupil validity features, confirming that -1 was used to mark invalid pupil data."
      ]
    },
    {
      "cell_type": "code",
      "execution_count": null,
      "id": "435ac29e",
      "metadata": {
        "id": "435ac29e"
      },
      "outputs": [],
      "source": [
        "df_1_EYE.head()"
      ]
    },
    {
      "cell_type": "code",
      "execution_count": null,
      "id": "4198be71",
      "metadata": {
        "id": "4198be71"
      },
      "outputs": [],
      "source": [
        "# Select only the numeric columns for plotting histograms, excluding time-related columns\n",
        "numeric_cols = df_1_EYE.select_dtypes(include=np.number).columns\n",
        "cols_to_plot = [col for col in numeric_cols if col not in ['UnixTime']]\n",
        "\n",
        "# Calculate the number of rows and columns for the grid\n",
        "n_cols = 4  # You can adjust the number of columns as needed\n",
        "n_rows = (len(cols_to_plot) + n_cols - 1) // n_cols\n",
        "\n",
        "plt.figure(figsize=(n_cols * 5, n_rows * 4)) # Adjust figure size as needed\n",
        "\n",
        "for i, col in enumerate(cols_to_plot):\n",
        "    plt.subplot(n_rows, n_cols, i + 1)\n",
        "    sns.histplot(df_1_EYE[col], kde=True)\n",
        "    plt.title(f'Distribution of {col}')\n",
        "    plt.xlabel(col)\n",
        "    plt.ylabel('Frequency')\n",
        "\n",
        "plt.tight_layout()\n",
        "plt.show()"
      ]
    },
    {
      "cell_type": "markdown",
      "id": "13675d0a",
      "metadata": {
        "id": "13675d0a"
      },
      "source": [
        "# Observations from Histograms\n",
        "\n",
        "The grid of histograms provides insights into the distribution of values for each numeric column in the dataset (excluding 'UnixTime'). Key observations include:\n",
        "\n",
        "- Several columns, such as `ET_GazeLeftx`, `ET_GazeLefty`, `ET_GazeRightx`, and `ET_GazeRighty`, show distributions that appear somewhat multimodal or skewed, suggesting variations in gaze patterns.\n",
        "- The `ET_PupilLeft` and `ET_PupilRight` histograms clearly show a peak at -1, confirming the presence of a significant number of invalid pupil readings.\n",
        "- `ET_TimeSignal` shows a relatively uniform distribution, as expected for a time-based signal.\n",
        "- `ET_DistanceLeft` and `ET_DistanceRight` appear to have distributions centered around certain values, with some outliers or variations.\n",
        "- The camera position columns (`ET_CameraLeftX`, `ET_CameraLeftY`, `ET_CameraRightX`, `ET_CameraRightY`) seem to have distributions concentrated within specific ranges, reflecting the camera's field of view.\n",
        "- The validity columns (`ET_ValidityLeft`, `ET_ValidityRight`, `ET_PupilLeft_validity`, `ET_PupilRight_validity`) show distributions dominated by 0, indicating that most of the data is considered valid after the mapping. The smaller peaks at 1 represent the instances of invalid data.\n",
        "\n",
        "These distributions highlight the need for appropriate handling of the -1 values and potential outliers in subsequent analysis or modeling steps."
      ]
    },
    {
      "cell_type": "code",
      "execution_count": null,
      "id": "9ad181a5",
      "metadata": {
        "id": "9ad181a5"
      },
      "outputs": [],
      "source": [
        "df_1_EYE.columns"
      ]
    },
    {
      "cell_type": "code",
      "execution_count": null,
      "id": "ce18f555",
      "metadata": {
        "id": "ce18f555"
      },
      "outputs": [],
      "source": [
        "cols = ['ET_GazeLeftx', 'ET_GazeLefty',\n",
        "       'ET_GazeRightx', 'ET_GazeRighty', 'ET_PupilLeft', 'ET_PupilRight',\n",
        "       'ET_TimeSignal', 'ET_DistanceLeft', 'ET_DistanceRight',\n",
        "       'ET_CameraLeftX', 'ET_CameraLeftY', 'ET_CameraRightX',\n",
        "       'ET_CameraRightY', 'ET_ValidityLeft', 'ET_ValidityRight',\n",
        "       'ET_PupilLeft_validity', 'ET_PupilRight_validity']"
      ]
    },
    {
      "cell_type": "code",
      "execution_count": null,
      "id": "f8e206da",
      "metadata": {
        "id": "f8e206da"
      },
      "outputs": [],
      "source": [
        "from IPython.display import display, Markdown\n",
        "\n",
        "for col in cols:\n",
        "    # Add a markdown cell before each plot for better separation and labeling\n",
        "    display(Markdown(f'### {col} over Time'))\n",
        "    plt.figure(figsize=(16, 10))\n",
        "    plt.plot(df_1_EYE['Timestamp'], df_1_EYE[col])\n",
        "    plt.xlabel(\"Timestamp\") # Add x-axis label\n",
        "    plt.ylabel(col) # Add y-axis label\n",
        "    plt.show()"
      ]
    },
    {
      "cell_type": "markdown",
      "id": "f8973d76",
      "metadata": {
        "id": "f8973d76"
      },
      "source": [
        "# Observations from Time Series Plots\n",
        "\n",
        "The line plots showing various features against the `Timestamp` reveal the temporal patterns and fluctuations in the eye-tracking data. Key observations include:\n",
        "\n",
        "- **Gaze Coordinates (`ET_GazeLeftx`, `ET_GazeLefty`, `ET_GazeRightx`, `ET_GazeRighty`):** These plots show the changes in gaze position over time. We can observe periods of relatively stable gaze interspersed with rapid movements (saccades) and blinks or other events where the gaze data might be invalid (-1 values appear as gaps or spikes if not handled).\n",
        "- **Pupil Size (`ET_PupilLeft`, `ET_PupilRight`):** The pupil size plots show variations over time. The presence of many -1 values is evident as flat lines at the bottom of the plot, indicating periods where pupil data was not recorded or was invalid.\n",
        "- **Time Signal (`ET_TimeSignal`):** This plot shows a steady, increasing trend, as expected for a time-based signal.\n",
        "- **Distance and Camera Position (`ET_DistanceLeft`, `ET_DistanceRight`, `ET_CameraLeftX`, `ET_CameraLeftY`, `ET_CameraRightX`, `ET_CameraRightY`):** These plots show how the distance from the eye tracker and the camera positions change over time. Variations in these features can be related to head movements or changes in the user's position relative to the eye tracker.\n",
        "- **Validity (`ET_ValidityLeft`, `ET_ValidityRight`, `ET_PupilLeft_validity`, `ET_PupilRight_validity`):** These plots clearly show periods of invalid data (represented by 1) as spikes or plateaus, corresponding to instances where the eye tracker lost track of the eyes or the pupil data was marked as invalid.\n",
        "\n",
        "Analyzing these time series plots is crucial for understanding the dynamics of the eye-tracking data and identifying patterns or anomalies that may require further investigation or specific handling during subsequent analysis."
      ]
    },
    {
      "cell_type": "code",
      "execution_count": null,
      "id": "167940d5",
      "metadata": {
        "id": "167940d5"
      },
      "outputs": [],
      "source": [
        "# Select only the numeric columns for plotting histograms, excluding time-related columns\n",
        "numeric_cols = df_1_EYE.select_dtypes(include=np.number).columns\n",
        "\n",
        "# Calculate the number of rows and columns for the grid\n",
        "n_cols = 4  # You can adjust the number of columns as needed\n",
        "n_rows = (len(numeric_cols) + n_cols - 1) // n_cols\n",
        "\n",
        "plt.figure(figsize=(n_cols * 5, n_rows * 4)) # Adjust figure size as needed\n",
        "\n",
        "for i, col in enumerate(numeric_cols):\n",
        "    plt.subplot(n_rows, n_cols, i + 1)\n",
        "    sns.boxplot(df_1_EYE[col])\n",
        "    plt.title(f'Boxplot of {col}')\n",
        "    plt.xlabel(col)\n",
        "\n",
        "plt.tight_layout()\n",
        "plt.show()"
      ]
    },
    {
      "cell_type": "markdown",
      "id": "ec679c3d",
      "metadata": {
        "id": "ec679c3d"
      },
      "source": [
        "# Observations from Boxplots and Handling -1 Values\n",
        "\n",
        "The boxplots provide a visual summary of the distribution and potential outliers for each numeric column. Key observations from the boxplots include:\n",
        "\n",
        "- The boxplots for columns like `ET_GazeLeftx`, `ET_GazeLefty`, `ET_GazeRightx`, `ET_GazeRighty`, `ET_PupilLeft`, `ET_PupilRight`, `ET_DistanceLeft`, `ET_DistanceRight`, `ET_CameraLeftX`, `ET_CameraLeftY`, `ET_CameraRightX`, and `ET_CameraRightY` clearly show the presence of -1 values as significant outliers, confirming our earlier observations from the heatmaps and histograms.\n",
        "- The boxplots for the validity columns (`ET_ValidityLeft`, `ET_ValidityRight`, `ET_PupilLeft_validity`, `ET_PupilRight_validity`) show the discrete nature of these features, with the majority of data points at 0 (valid) and a smaller number at 1 (invalid).\n",
        "\n",
        "Given the significant presence of -1 values, which represent invalid or missing data, especially in the pupil-related columns, we have decided to replace these -1 values with NaN to properly represent them as missing data. Subsequently, we will impute these missing values using the mean of each respective column. This approach helps to retain the data structure and allows for further analysis or modeling without the distortion caused by the -1 placeholders."
      ]
    },
    {
      "cell_type": "code",
      "execution_count": null,
      "id": "576bebd7",
      "metadata": {
        "id": "576bebd7"
      },
      "outputs": [],
      "source": [
        "df_1_EYE.replace({-1: np.nan}, inplace=True)"
      ]
    },
    {
      "cell_type": "code",
      "execution_count": null,
      "id": "4ff723c3",
      "metadata": {
        "id": "4ff723c3"
      },
      "outputs": [],
      "source": [
        "df_1_EYE[['ET_GazeLeftx', 'ET_GazeLefty',\n",
        "       'ET_GazeRightx', 'ET_GazeRighty', 'ET_PupilLeft', 'ET_PupilRight',\n",
        "       'ET_TimeSignal', 'ET_DistanceLeft', 'ET_DistanceRight',\n",
        "       'ET_CameraLeftX', 'ET_CameraLeftY', 'ET_CameraRightX',\n",
        "       'ET_CameraRightY', 'ET_ValidityLeft', 'ET_ValidityRight',\n",
        "       'ET_PupilLeft_validity', 'ET_PupilRight_validity']].mean()"
      ]
    },
    {
      "cell_type": "code",
      "execution_count": null,
      "id": "28f58004",
      "metadata": {
        "id": "28f58004"
      },
      "outputs": [],
      "source": [
        "df_1_EYE[['ET_GazeLeftx', 'ET_GazeLefty',\n",
        "       'ET_GazeRightx', 'ET_GazeRighty', 'ET_PupilLeft', 'ET_PupilRight',\n",
        "       'ET_TimeSignal', 'ET_DistanceLeft', 'ET_DistanceRight',\n",
        "       'ET_CameraLeftX', 'ET_CameraLeftY', 'ET_CameraRightX',\n",
        "       'ET_CameraRightY', 'ET_ValidityLeft', 'ET_ValidityRight',\n",
        "       'ET_PupilLeft_validity', 'ET_PupilRight_validity']].median()"
      ]
    },
    {
      "cell_type": "code",
      "execution_count": null,
      "id": "efd283e7",
      "metadata": {
        "id": "efd283e7"
      },
      "outputs": [],
      "source": [
        "numeric_cols = df_1_EYE.select_dtypes(include=np.number).columns\n",
        "\n",
        "for col in numeric_cols:\n",
        "    df_1_EYE[col] = df_1_EYE[col].fillna(df_1_EYE[col].mean())"
      ]
    },
    {
      "cell_type": "code",
      "execution_count": null,
      "id": "461e074e",
      "metadata": {
        "id": "461e074e"
      },
      "outputs": [],
      "source": [
        "plt.figure(figsize=(18, 8))\n",
        "\n",
        "plt.subplot(1, 2, 1)\n",
        "sns.heatmap(df_1_EYE.isnull(), cmap='viridis')\n",
        "plt.title('Heatmap of Missing Values After Imputation')\n",
        "\n",
        "plt.subplot(1, 2, 2)\n",
        "sns.heatmap(df_1_EYE == 1, cmap='viridis')\n",
        "plt.title('Heatmap of 1 Values')\n",
        "\n",
        "plt.tight_layout()\n",
        "plt.show()"
      ]
    },
    {
      "cell_type": "markdown",
      "id": "b3ae1983",
      "metadata": {
        "id": "b3ae1983"
      },
      "source": [
        "# Handling Missing Values (Imputation)\n",
        "\n",
        "As decided, we have replaced all the `-1` values with `NaN` to treat them as missing data. Subsequently, we have imputed these `NaN` values with the mean of their respective columns. The heatmap above, which was generated after the imputation, now shows no visible signs of `NaN` values, indicating that the imputation was successful."
      ]
    },
    {
      "cell_type": "code",
      "execution_count": null,
      "id": "7e0f8615",
      "metadata": {
        "id": "7e0f8615"
      },
      "outputs": [],
      "source": [
        "df_1_EYE.head()"
      ]
    },
    {
      "cell_type": "code",
      "execution_count": null,
      "id": "ef4aa6ae",
      "metadata": {
        "id": "ef4aa6ae"
      },
      "outputs": [],
      "source": [
        "# Select only the numeric columns for plotting histograms, excluding time-related columns\n",
        "numeric_cols = df_1_EYE.select_dtypes(include=np.number).columns\n",
        "cols_to_plot = [col for col in numeric_cols if col not in ['UnixTime']]\n",
        "\n",
        "# Calculate the number of rows and columns for the grid\n",
        "n_cols = 4  # You can adjust the number of columns as needed\n",
        "n_rows = (len(cols_to_plot) + n_cols - 1) // n_cols\n",
        "\n",
        "plt.figure(figsize=(n_cols * 5, n_rows * 4)) # Adjust figure size as needed\n",
        "\n",
        "for i, col in enumerate(cols_to_plot):\n",
        "    plt.subplot(n_rows, n_cols, i + 1)\n",
        "    sns.histplot(df_1_EYE[col], kde=True)\n",
        "    plt.title(f'Distribution of {col}')\n",
        "    plt.xlabel(col)\n",
        "    plt.ylabel('Frequency')\n",
        "\n",
        "plt.tight_layout()\n",
        "plt.show()"
      ]
    },
    {
      "cell_type": "markdown",
      "id": "bd7b9d1a",
      "metadata": {
        "id": "bd7b9d1a"
      },
      "source": [
        "# Observations from Histograms After Imputation\n",
        "\n",
        "The histograms generated after replacing the -1 values with the mean of each column show the distributions of the numeric features with the missing data handled. Key observations from these updated histograms include:\n",
        "\n",
        "- The distinct peaks at -1, which were prominent in the histograms for several columns (e.g., pupil size, gaze coordinates, distance, and camera position) before imputation, are now replaced by a peak at the mean of each respective column.\n",
        "- The distributions in many columns now appear more unimodal or show shifted modes compared to the original histograms.\n",
        "- The histograms for the validity columns still show their bimodal distributions with peaks at 0 and 1, as these were handled separately.\n",
        "\n",
        "These histograms provide an updated view of the data's distribution after handling the missing values, highlighting the impact of the imputation method on the data's characteristics."
      ]
    },
    {
      "cell_type": "code",
      "execution_count": null,
      "id": "977fc0c7",
      "metadata": {
        "id": "977fc0c7"
      },
      "outputs": [],
      "source": [
        "cols = ['ET_GazeLeftx', 'ET_GazeLefty',\n",
        "       'ET_GazeRightx', 'ET_GazeRighty', 'ET_PupilLeft', 'ET_PupilRight',\n",
        "       'ET_TimeSignal', 'ET_DistanceLeft', 'ET_DistanceRight',\n",
        "       'ET_CameraLeftX', 'ET_CameraLeftY', 'ET_CameraRightX',\n",
        "       'ET_CameraRightY', 'ET_ValidityLeft', 'ET_ValidityRight',\n",
        "       'ET_PupilLeft_validity', 'ET_PupilRight_validity']"
      ]
    },
    {
      "cell_type": "code",
      "execution_count": null,
      "id": "593deb44",
      "metadata": {
        "id": "593deb44"
      },
      "outputs": [],
      "source": [
        "for col in cols:\n",
        "    # Add a markdown cell before each plot for better separation and labeling\n",
        "    display(Markdown(f'### {col} over Time'))\n",
        "    plt.figure(figsize=(16, 10))\n",
        "    plt.plot(df_1_EYE['Timestamp'], df_1_EYE[col])\n",
        "    plt.xlabel(\"Timestamp\") # Add x-axis label\n",
        "    plt.ylabel(col) # Add y-axis label\n",
        "    plt.show()"
      ]
    },
    {
      "cell_type": "markdown",
      "id": "18d76a20",
      "metadata": {
        "id": "18d76a20"
      },
      "source": [
        "# Observations from Time Series Plots After Imputation\n",
        "\n",
        "The line plots generated after imputing the missing values with the mean show the temporal patterns of the features with the missing data handled. Key observations from these updated plots include:\n",
        "\n",
        "- The gaps or flat lines at -1, which were prominent in the plots for columns like gaze coordinates, pupil size, distance, and camera position, are now filled by lines at the mean value of the respective columns.\n",
        "- The plots for the validity columns remain the same as they were handled separately.\n",
        "- The `ET_TimeSignal` plot still shows a steady increasing trend, as expected."
      ]
    },
    {
      "cell_type": "code",
      "execution_count": null,
      "id": "4f9950f6",
      "metadata": {
        "id": "4f9950f6"
      },
      "outputs": [],
      "source": [
        "plt.figure(figsize=(16, 10))\n",
        "sns.heatmap(df_1_EYE.corr(numeric_only=True), cmap='YlGnBu', annot=True)\n",
        "plt.show()"
      ]
    },
    {
      "cell_type": "markdown",
      "id": "000cc9a2",
      "metadata": {
        "id": "000cc9a2"
      },
      "source": [
        "# Observations from Correlation Heatmap\n",
        "\n",
        "The correlation heatmap provides a visual representation of the pairwise correlations between the numeric columns in the dataset. Key observations from the heatmap include:\n",
        "\n",
        "- **High Positive Correlations:** We observe strong positive correlations (values close to 1) between:\n",
        "  - `ET_GazeLeftx` and `ET_GazeRightx`: This is expected as the gaze positions of both eyes should be highly correlated when fixating on a point.\n",
        "  - `ET_GazeLefty` and `ET_GazeRighty`: Similar to the x-coordinates, the y-coordinates of gaze should also be highly correlated.\n",
        "  - `ET_PupilLeft` and `ET_PupilRight`: Pupil sizes of both eyes tend to change together in response to light and cognitive load.\n",
        "  - `ET_DistanceLeft` and `ET_DistanceRight`: The distance from the eye tracker to each eye should be highly correlated.\n",
        "  - `ET_CameraLeftX` and `ET_CameraRightX`, `ET_CameraLeftY` and `ET_CameraRightY`: The camera positions for both eyes are also expected to be highly correlated.\n",
        "  - `UnixTime` and `ET_TimeSignal`: As previously noted, these two columns are almost perfectly linearly correlated, indicating redundancy.\n",
        "  - `ET_ValidityLeft` and `ET_PupilLeft_validity`: There is a positive correlation, suggesting that when the overall left eye data is invalid, the left pupil data is also likely to be invalid.\n",
        "  - `ET_ValidityRight` and `ET_PupilRight_validity`: Similar to the left eye, there is a positive correlation between the overall right eye validity and the right pupil validity.\n",
        "- **Other Correlations:** We can also observe other varying degrees of correlations between different features, which can provide insights into the relationships between gaze behavior, pupil size, distance, and camera position. For example, there might be correlations between gaze coordinates and camera positions, reflecting head movements.\n",
        "- **Low or Near-Zero Correlations:** Columns with low or near-zero correlations are relatively independent of each other.\n",
        "\n",
        "Understanding these correlations is important for feature selection and for building models, as highly correlated features might indicate multicollinearity, while correlations between features can reveal underlying patterns in the data."
      ]
    },
    {
      "cell_type": "markdown",
      "id": "927d4f0a",
      "metadata": {
        "id": "927d4f0a"
      },
      "source": [
        "# Analysis of ET_TimeSignal and Decision to Drop\n",
        "\n",
        "As observed in the time series plot and confirmed by the correlation heatmap, the `ET_TimeSignal` column exhibits a near-perfect linear relationship with both the `Timestamp` and `UnixTime` columns. This strong correlation (close to 1) suggests that `ET_TimeSignal` is essentially redundant and likely represents another form of time recording or a signal directly derived from the timestamp.\n",
        "\n",
        "Including highly correlated features like this in a dataset can lead to issues such as multicollinearity in some statistical models, which can make it difficult to interpret the individual impact of each feature. Since the `Timestamp` column already provides the necessary temporal information, retaining `ET_TimeSignal` does not appear to add significant value for further analysis or modeling in most cases.\n",
        "\n",
        "Therefore, based on its high correlation and lack of unique insight, we will proceed to drop the `ET_TimeSignal` column to simplify the dataset and potentially improve the performance and interpretability of future analyses."
      ]
    },
    {
      "cell_type": "code",
      "execution_count": null,
      "id": "dea6ea40",
      "metadata": {
        "id": "dea6ea40"
      },
      "outputs": [],
      "source": [
        "df_1_EYE.drop('ET_TimeSignal', axis=1, inplace=True)"
      ]
    },
    {
      "cell_type": "code",
      "execution_count": null,
      "id": "1d908c9e",
      "metadata": {
        "id": "1d908c9e"
      },
      "outputs": [],
      "source": [
        "plt.figure(figsize=(16, 10))\n",
        "sns.pairplot(df_1_EYE)\n",
        "plt.show()"
      ]
    },
    {
      "cell_type": "markdown",
      "id": "c6af9c3e",
      "metadata": {
        "id": "c6af9c3e"
      },
      "source": [
        "# **2_EYE**"
      ]
    },
    {
      "cell_type": "code",
      "execution_count": null,
      "id": "2ba21203",
      "metadata": {
        "id": "2ba21203"
      },
      "outputs": [],
      "source": []
    },
    {
      "cell_type": "code",
      "execution_count": null,
      "id": "69265b3c",
      "metadata": {
        "id": "69265b3c"
      },
      "outputs": [],
      "source": [
        "df_2_EYE = pd.read_csv('data/STData/2/2_EYE.csv')"
      ]
    },
    {
      "cell_type": "code",
      "execution_count": null,
      "id": "2a7f4554",
      "metadata": {
        "id": "2a7f4554"
      },
      "outputs": [],
      "source": [
        "df_2_EYE.head()"
      ]
    },
    {
      "cell_type": "code",
      "execution_count": null,
      "id": "b3072154",
      "metadata": {
        "id": "b3072154"
      },
      "outputs": [],
      "source": [
        "df_2_EYE.shape"
      ]
    },
    {
      "cell_type": "code",
      "execution_count": null,
      "id": "01f1e627",
      "metadata": {
        "id": "01f1e627"
      },
      "outputs": [],
      "source": [
        "df_2_EYE.columns"
      ]
    },
    {
      "cell_type": "code",
      "execution_count": null,
      "id": "a5ee68ed",
      "metadata": {
        "id": "a5ee68ed"
      },
      "outputs": [],
      "source": [
        "df_2_EYE.info()"
      ]
    },
    {
      "cell_type": "code",
      "execution_count": null,
      "id": "85351df7",
      "metadata": {
        "id": "85351df7"
      },
      "outputs": [],
      "source": [
        "df_2_EYE.isnull().sum()"
      ]
    },
    {
      "cell_type": "code",
      "execution_count": null,
      "id": "80378a1d",
      "metadata": {
        "id": "80378a1d"
      },
      "outputs": [],
      "source": [
        "plt.figure(figsize=(12,8))\n",
        "sns.heatmap(df_2_EYE.isnull(), cmap='viridis')\n",
        "plt.show()"
      ]
    },
    {
      "cell_type": "markdown",
      "id": "2d8c7c41",
      "metadata": {
        "id": "2d8c7c41"
      },
      "source": [
        "# Notes & Observations\n",
        "\n",
        "- We observe many **null** (or missing) values in the `QuestionKey` columns.\n",
        "- The nulls in the `QuestionKey` column may not represent “true” nulls. Rather, they follow interval patterns, suggesting that during those periods no question was displayed.\n",
        "- These missing values in `QuestionKey` require additional investigation and context-aware handling."
      ]
    },
    {
      "cell_type": "code",
      "execution_count": null,
      "id": "e83f6633",
      "metadata": {
        "id": "e83f6633"
      },
      "outputs": [],
      "source": [
        "df_2_EYE['QuestionKey'].unique()"
      ]
    },
    {
      "cell_type": "code",
      "execution_count": null,
      "id": "4812bce4",
      "metadata": {
        "id": "4812bce4"
      },
      "outputs": [],
      "source": [
        "df_2_EYE['Timestamp'] = pd.to_datetime(df_2_EYE['Timestamp'])"
      ]
    },
    {
      "cell_type": "code",
      "execution_count": null,
      "id": "c675d12f",
      "metadata": {
        "id": "c675d12f"
      },
      "outputs": [],
      "source": [
        "df_2_EYE.head(3)"
      ]
    },
    {
      "cell_type": "code",
      "execution_count": null,
      "id": "04b01b91",
      "metadata": {
        "id": "04b01b91"
      },
      "outputs": [],
      "source": [
        "df_2_EYE['QuestionKey'] = df_2_EYE['QuestionKey'].fillna('None')"
      ]
    },
    {
      "cell_type": "code",
      "execution_count": null,
      "id": "2b51f3bf",
      "metadata": {
        "id": "2b51f3bf"
      },
      "outputs": [],
      "source": [
        "df_2_EYE['QuestionKey'].value_counts()"
      ]
    },
    {
      "cell_type": "code",
      "execution_count": null,
      "id": "9e828e8e",
      "metadata": {
        "id": "9e828e8e"
      },
      "outputs": [],
      "source": [
        "plt.figure(figsize=(12,8))\n",
        "sns.heatmap(df_2_EYE.isnull(), cmap='viridis')\n",
        "plt.show()"
      ]
    },
    {
      "cell_type": "code",
      "execution_count": null,
      "id": "d6847cd7",
      "metadata": {
        "id": "d6847cd7"
      },
      "outputs": [],
      "source": [
        "df_2_EYE.isnull().sum()"
      ]
    },
    {
      "cell_type": "code",
      "execution_count": null,
      "id": "81f83551",
      "metadata": {
        "id": "81f83551"
      },
      "outputs": [],
      "source": [
        "df_2_EYE.dropna(inplace=True)"
      ]
    },
    {
      "cell_type": "code",
      "execution_count": null,
      "id": "23bea793",
      "metadata": {
        "id": "23bea793"
      },
      "outputs": [],
      "source": [
        "df_2_EYE.head()"
      ]
    },
    {
      "cell_type": "code",
      "execution_count": null,
      "id": "786387ac",
      "metadata": {
        "id": "786387ac"
      },
      "outputs": [],
      "source": [
        "df_2_EYE['Row'].unique()"
      ]
    },
    {
      "cell_type": "code",
      "execution_count": null,
      "id": "90c1ec77",
      "metadata": {
        "id": "90c1ec77"
      },
      "outputs": [],
      "source": [
        "plt.figure(figsize=(8,6))\n",
        "sns.histplot(df_2_EYE['Row'])\n",
        "plt.show()"
      ]
    },
    {
      "cell_type": "markdown",
      "id": "7c13cb80",
      "metadata": {
        "id": "7c13cb80"
      },
      "source": [
        "# Notes & Observations\n",
        "\n",
        "- The `Row` column appears to be a simple row index and does not provide meaningful information relevant to the eye-tracking data itself. Therefore, it can be dropped."
      ]
    },
    {
      "cell_type": "code",
      "execution_count": null,
      "id": "1957b2d2",
      "metadata": {
        "id": "1957b2d2"
      },
      "outputs": [],
      "source": [
        "df_2_EYE.drop('Row', axis=1, inplace=True)"
      ]
    },
    {
      "cell_type": "code",
      "execution_count": null,
      "id": "bedd19d1",
      "metadata": {
        "id": "bedd19d1"
      },
      "outputs": [],
      "source": [
        "df_2_EYE['ET_ValidityLeft'].unique()"
      ]
    },
    {
      "cell_type": "code",
      "execution_count": null,
      "id": "b58936eb",
      "metadata": {
        "id": "b58936eb"
      },
      "outputs": [],
      "source": [
        "df_2_EYE['ET_ValidityLeft'].value_counts()"
      ]
    },
    {
      "cell_type": "code",
      "execution_count": null,
      "id": "894f88c7",
      "metadata": {
        "id": "894f88c7"
      },
      "outputs": [],
      "source": [
        "df_2_EYE['ET_ValidityRight'].unique()"
      ]
    },
    {
      "cell_type": "code",
      "execution_count": null,
      "id": "b2dfcd8b",
      "metadata": {
        "id": "b2dfcd8b"
      },
      "outputs": [],
      "source": [
        "df_2_EYE['ET_ValidityRight'].value_counts()"
      ]
    },
    {
      "cell_type": "code",
      "execution_count": null,
      "id": "9d8ea3b5",
      "metadata": {
        "id": "9d8ea3b5"
      },
      "outputs": [],
      "source": [
        "plt.figure(figsize=(12, 6))\n",
        "\n",
        "plt.subplot(1, 2, 1)\n",
        "sns.barplot(x=df_2_EYE['ET_ValidityLeft'].value_counts().index, y=df_2_EYE['ET_ValidityLeft'].value_counts().values)\n",
        "plt.title('Count of ET_ValidityLeft')\n",
        "plt.xlabel('Validity')\n",
        "plt.ylabel('Count')\n",
        "\n",
        "\n",
        "plt.subplot(1, 2, 2)\n",
        "sns.barplot(x=df_2_EYE['ET_ValidityRight'].value_counts().index, y=df_2_EYE['ET_ValidityRight'].value_counts().values)\n",
        "plt.title('Count of ET_ValidityRight')\n",
        "plt.xlabel('Validity')\n",
        "plt.ylabel('Count')\n",
        "\n",
        "plt.tight_layout()\n",
        "plt.show()"
      ]
    },
    {
      "cell_type": "markdown",
      "id": "d1f278f5",
      "metadata": {
        "id": "d1f278f5"
      },
      "source": [
        "# Notes & Observations\n",
        "\n",
        "- The `ET_ValidityLeft` and `ET_ValidityRight` columns indicate the validity of the eye-tracking data for the left and right eye, respectively.\n",
        "- Based on the value counts and the bar plots, it appears that a value of `0.0` represents valid eye-tracking data, while a value of `4.0` represents invalid data.\n",
        "- Although the amount of invalid data is relatively small, removing these rows could introduce unwanted patterns or gaps in the time series data.\n",
        "- Therefore, we will keep the data and replace the value `4.0` with `1.0` in both `ET_ValidityLeft` and `ET_ValidityRight` columns. This will indicate to a machine learning model that the eye tracker had invalid data at those specific points in time while maintaining the integrity of the time series."
      ]
    },
    {
      "cell_type": "markdown",
      "id": "33895bc7",
      "metadata": {
        "id": "33895bc7"
      },
      "source": [
        "Define a mapping to convert validity values from `0.0` and `4.0` to `0` and `1`."
      ]
    },
    {
      "cell_type": "code",
      "execution_count": null,
      "id": "22fbbda6",
      "metadata": {
        "id": "22fbbda6"
      },
      "outputs": [],
      "source": [
        "validity_map = {4.0: 1.0, 0.0: 0.0}"
      ]
    },
    {
      "cell_type": "code",
      "execution_count": null,
      "id": "40dcb59f",
      "metadata": {
        "id": "40dcb59f"
      },
      "outputs": [],
      "source": [
        "df_2_EYE['ET_ValidityLeft'] = df_2_EYE['ET_ValidityLeft'].map(validity_map).astype(np.int8)\n",
        "df_2_EYE['ET_ValidityRight'] = df_2_EYE['ET_ValidityRight'].map(validity_map).astype(np.int8)"
      ]
    },
    {
      "cell_type": "code",
      "execution_count": null,
      "id": "acd71b4c",
      "metadata": {
        "id": "acd71b4c"
      },
      "outputs": [],
      "source": [
        "df_2_EYE.head(3)"
      ]
    },
    {
      "cell_type": "code",
      "execution_count": null,
      "id": "b6cb2762",
      "metadata": {
        "id": "b6cb2762"
      },
      "outputs": [],
      "source": [
        "df_2_EYE.describe()"
      ]
    },
    {
      "cell_type": "code",
      "execution_count": null,
      "id": "0bda616d",
      "metadata": {
        "id": "0bda616d"
      },
      "outputs": [],
      "source": [
        "df_2_EYE[df_2_EYE['ET_ValidityLeft'] == 1].shape"
      ]
    },
    {
      "cell_type": "code",
      "execution_count": null,
      "id": "8bd856d3",
      "metadata": {
        "id": "8bd856d3"
      },
      "outputs": [],
      "source": [
        "df_2_EYE[df_2_EYE['ET_ValidityRight'] == 1].shape"
      ]
    },
    {
      "cell_type": "code",
      "execution_count": null,
      "id": "702913d9",
      "metadata": {
        "id": "702913d9"
      },
      "outputs": [],
      "source": [
        "df_2_EYE[df_2_EYE['ET_ValidityLeft'] == 1].shape[0] / df_2_EYE.shape[0]"
      ]
    },
    {
      "cell_type": "code",
      "execution_count": null,
      "id": "cd6366c3",
      "metadata": {
        "id": "cd6366c3"
      },
      "outputs": [],
      "source": [
        "df_2_EYE[df_2_EYE['ET_ValidityRight'] == 1].shape[0] / df_2_EYE.shape[0]"
      ]
    },
    {
      "cell_type": "code",
      "execution_count": null,
      "id": "eac929b6",
      "metadata": {
        "id": "eac929b6"
      },
      "outputs": [],
      "source": [
        "plt.figure(figsize=(18, 8))\n",
        "\n",
        "plt.subplot(1, 2, 1)\n",
        "sns.heatmap(df_2_EYE == -1, cmap='viridis')\n",
        "plt.title('Heatmap of -1 Values')\n",
        "\n",
        "plt.subplot(1, 2, 2)\n",
        "sns.heatmap(df_2_EYE == 1, cmap='viridis')\n",
        "plt.title('Heatmap of 1 Values')\n",
        "\n",
        "plt.tight_layout()\n",
        "plt.show()"
      ]
    },
    {
      "cell_type": "code",
      "execution_count": null,
      "id": "71914778",
      "metadata": {
        "id": "71914778"
      },
      "outputs": [],
      "source": [
        "df_2_EYE[df_2_EYE['ET_PupilLeft'] == -1].shape"
      ]
    },
    {
      "cell_type": "code",
      "execution_count": null,
      "id": "25767993",
      "metadata": {
        "id": "25767993"
      },
      "outputs": [],
      "source": [
        "df_2_EYE[df_2_EYE['ET_PupilRight'] == -1].shape"
      ]
    },
    {
      "cell_type": "code",
      "execution_count": null,
      "id": "0b37d042",
      "metadata": {
        "id": "0b37d042"
      },
      "outputs": [],
      "source": [
        "df_2_EYE[df_2_EYE['ET_PupilLeft'] == -1].shape[0] / df_2_EYE.shape[0]"
      ]
    },
    {
      "cell_type": "code",
      "execution_count": null,
      "id": "3331de4c",
      "metadata": {
        "id": "3331de4c"
      },
      "outputs": [],
      "source": [
        "df_2_EYE[df_2_EYE['ET_PupilRight'] == -1].shape[0] / df_2_EYE.shape[0]"
      ]
    },
    {
      "cell_type": "code",
      "execution_count": null,
      "id": "f831aabb",
      "metadata": {
        "id": "f831aabb"
      },
      "outputs": [],
      "source": [
        "plt.figure(figsize=(18, 8))\n",
        "\n",
        "plt.subplot(1, 2, 1)\n",
        "sns.heatmap(df_2_EYE[df_2_EYE['ET_ValidityLeft'] == 1] == -1, cmap='viridis')\n",
        "plt.title('Heatmap of -1 Values')\n",
        "\n",
        "plt.subplot(1, 2, 2)\n",
        "sns.heatmap(df_2_EYE[df_2_EYE['ET_ValidityRight'] == 1] == -1, cmap='viridis')\n",
        "plt.title('Heatmap of -1 Values')\n",
        "\n",
        "plt.tight_layout()\n",
        "plt.show()"
      ]
    },
    {
      "cell_type": "markdown",
      "id": "1f2783f0",
      "metadata": {
        "id": "1f2783f0"
      },
      "source": [
        "# Notes & Observations\n",
        "\n",
        "- The heatmaps reveal the distribution of -1 values across different columns.\n",
        "- It is evident that the `-1` values are not randomly scattered but appear in specific columns, notably `ET_GazeLeftx`, `ET_GazeLefty`, `ET_GazeRightx`, `ET_GazeRighty`, `ET_PupilLeft`, `ET_PupilRight`, `ET_DistanceLeft`, `ET_DistanceRight`, `ET_CameraLeftX`, `ET_CameraLeftY`, `ET_CameraRightX`, and `ET_CameraRightY`.\n",
        "- These `-1` values often coincide with instances where `ET_ValidityLeft` or `ET_ValidityRight` is 1, indicating invalid eye-tracking data. This suggests that `-1` is used as a placeholder for missing or invalid measurements in these columns when the eye tracker is not providing valid data for a particular eye.\n",
        "- Given that over 70% of the data in the `ET_PupilLeft` and `ET_PupilRight` columns is marked as invalid (-1), so instead of dropping them we can create new feature for both the `ET_PupilLeft` and `ET_PupilRight` to represent which row consist invalid `ET_PupilLeft` and `ET_PupilRight` data"
      ]
    },
    {
      "cell_type": "code",
      "execution_count": null,
      "id": "659148f9",
      "metadata": {
        "id": "659148f9"
      },
      "outputs": [],
      "source": [
        "pupil_validity = {-1: 1 }"
      ]
    },
    {
      "cell_type": "code",
      "execution_count": null,
      "id": "fd8d441c",
      "metadata": {
        "id": "fd8d441c"
      },
      "outputs": [],
      "source": [
        "df_2_EYE['ET_PupilLeft_validity'] = df_2_EYE['ET_PupilLeft'].map(pupil_validity)"
      ]
    },
    {
      "cell_type": "code",
      "execution_count": null,
      "id": "38813f07",
      "metadata": {
        "id": "38813f07"
      },
      "outputs": [],
      "source": [
        "df_2_EYE['ET_PupilRight_validity'] = df_2_EYE['ET_PupilRight'].map(pupil_validity)"
      ]
    },
    {
      "cell_type": "code",
      "execution_count": null,
      "id": "e9b3fa3c",
      "metadata": {
        "id": "e9b3fa3c"
      },
      "outputs": [],
      "source": [
        "df_2_EYE[['ET_PupilLeft_validity', 'ET_PupilRight_validity']].head()"
      ]
    },
    {
      "cell_type": "code",
      "execution_count": null,
      "id": "9b5affd4",
      "metadata": {
        "id": "9b5affd4"
      },
      "outputs": [],
      "source": [
        "df_2_EYE[['ET_PupilLeft_validity', 'ET_PupilRight_validity']].isnull().sum()"
      ]
    },
    {
      "cell_type": "code",
      "execution_count": null,
      "id": "64ea27a4",
      "metadata": {
        "id": "64ea27a4"
      },
      "outputs": [],
      "source": [
        "plt.figure(figsize=(18, 8))\n",
        "sns.heatmap(df_2_EYE[['ET_PupilLeft_validity', 'ET_PupilRight_validity']].isnull(), cmap='viridis')\n",
        "plt.show()"
      ]
    },
    {
      "cell_type": "code",
      "execution_count": null,
      "id": "5d913641",
      "metadata": {
        "id": "5d913641"
      },
      "outputs": [],
      "source": [
        "df_2_EYE['ET_PupilLeft_validity'] = df_2_EYE['ET_PupilLeft_validity'].fillna(0)"
      ]
    },
    {
      "cell_type": "code",
      "execution_count": null,
      "id": "2930c874",
      "metadata": {
        "id": "2930c874"
      },
      "outputs": [],
      "source": [
        "df_2_EYE['ET_PupilRight_validity'] = df_2_EYE['ET_PupilRight_validity'].fillna(0)"
      ]
    },
    {
      "cell_type": "code",
      "execution_count": null,
      "id": "fe84e69f",
      "metadata": {
        "id": "fe84e69f"
      },
      "outputs": [],
      "source": [
        "df_2_EYE[['ET_PupilLeft_validity', 'ET_PupilRight_validity']].head()"
      ]
    },
    {
      "cell_type": "code",
      "execution_count": null,
      "id": "eef10833",
      "metadata": {
        "id": "eef10833"
      },
      "outputs": [],
      "source": [
        "plt.figure(figsize=(18, 8))\n",
        "sns.heatmap(df_2_EYE[['ET_PupilLeft_validity', 'ET_PupilRight_validity']].isnull(), cmap='viridis')\n",
        "plt.show()"
      ]
    },
    {
      "cell_type": "code",
      "execution_count": null,
      "id": "caeaf560",
      "metadata": {
        "id": "caeaf560"
      },
      "outputs": [],
      "source": [
        "df_2_EYE.head()"
      ]
    },
    {
      "cell_type": "code",
      "execution_count": null,
      "id": "6aef555a",
      "metadata": {
        "id": "6aef555a"
      },
      "outputs": [],
      "source": [
        "plt.figure(figsize=(18, 8))\n",
        "\n",
        "plt.subplot(1, 2, 1)\n",
        "sns.heatmap(df_2_EYE == -1, cmap='viridis')\n",
        "plt.title('Heatmap of -1 Values')\n",
        "\n",
        "plt.subplot(1, 2, 2)\n",
        "sns.heatmap(df_2_EYE == 1, cmap='viridis')\n",
        "plt.title('Heatmap of -1 Values')\n",
        "\n",
        "plt.tight_layout()\n",
        "plt.show()"
      ]
    },
    {
      "cell_type": "code",
      "execution_count": null,
      "id": "ad6c12f2",
      "metadata": {
        "id": "ad6c12f2"
      },
      "outputs": [],
      "source": [
        "valid_left_ratio  = 1 - df_2_EYE['ET_ValidityLeft'].mean()"
      ]
    },
    {
      "cell_type": "code",
      "execution_count": null,
      "id": "e8e5966e",
      "metadata": {
        "id": "e8e5966e"
      },
      "outputs": [],
      "source": [
        "valid_left_ratio"
      ]
    },
    {
      "cell_type": "code",
      "execution_count": null,
      "id": "9d01cb5c",
      "metadata": {
        "id": "9d01cb5c"
      },
      "outputs": [],
      "source": [
        "valid_right_ratio = 1 - df_2_EYE['ET_ValidityRight'].mean()"
      ]
    },
    {
      "cell_type": "code",
      "execution_count": null,
      "id": "6afaa9ea",
      "metadata": {
        "id": "6afaa9ea"
      },
      "outputs": [],
      "source": [
        "valid_right_ratio"
      ]
    },
    {
      "cell_type": "code",
      "execution_count": null,
      "id": "dba8b6a9",
      "metadata": {
        "id": "dba8b6a9"
      },
      "outputs": [],
      "source": [
        "df_2_EYE['ET_PupilLeft_validity'] = df_2_EYE['ET_PupilLeft_validity'].astype(np.int8)\n",
        "df_2_EYE['ET_PupilRight_validity'] = df_2_EYE['ET_PupilRight_validity'].astype(np.int8)"
      ]
    },
    {
      "cell_type": "markdown",
      "id": "a8d5c642",
      "metadata": {
        "id": "a8d5c642"
      },
      "source": [
        "# Feature Engineering and Observations\n",
        "\n",
        "Based on the analysis of the data, we've created two new features, `ET_PupilLeft_validity` and `ET_PupilRight_validity`. These features indicate the validity of the pupil data for the left and right eyes, respectively, with a value of 1 representing invalid data (originally -1) and 0 representing valid data.\n",
        "\n",
        "The heatmaps above visually demonstrate the distribution of -1 and 1 values across the dataset. We observed that:\n",
        "- The `-1` values are concentrated in specific columns related to gaze, pupil size, distance, and camera position, suggesting they represent missing or invalid sensor readings.\n",
        "- The `1` values, after mapping from `4.0` in the original validity columns, indicate instances of invalid eye-tracking data.\n",
        "- The heatmaps also show a strong correlation between the `-1` values in the pupil columns and a validity of 1 in the newly created pupil validity features, confirming that -1 was used to mark invalid pupil data."
      ]
    },
    {
      "cell_type": "code",
      "execution_count": null,
      "id": "22d4c117",
      "metadata": {
        "id": "22d4c117"
      },
      "outputs": [],
      "source": [
        "df_2_EYE.head()"
      ]
    },
    {
      "cell_type": "code",
      "execution_count": null,
      "id": "7f2fad2b",
      "metadata": {
        "id": "7f2fad2b"
      },
      "outputs": [],
      "source": [
        "# Select only the numeric columns for plotting histograms, excluding time-related columns\n",
        "numeric_cols = df_2_EYE.select_dtypes(include=np.number).columns\n",
        "cols_to_plot = [col for col in numeric_cols if col not in ['UnixTime']]\n",
        "\n",
        "# Calculate the number of rows and columns for the grid\n",
        "n_cols = 4  # You can adjust the number of columns as needed\n",
        "n_rows = (len(cols_to_plot) + n_cols - 1) // n_cols\n",
        "\n",
        "plt.figure(figsize=(n_cols * 5, n_rows * 4)) # Adjust figure size as needed\n",
        "\n",
        "for i, col in enumerate(cols_to_plot):\n",
        "    plt.subplot(n_rows, n_cols, i + 1)\n",
        "    sns.histplot(df_2_EYE[col], kde=True)\n",
        "    plt.title(f'Distribution of {col}')\n",
        "    plt.xlabel(col)\n",
        "    plt.ylabel('Frequency')\n",
        "\n",
        "plt.tight_layout()\n",
        "plt.show()"
      ]
    },
    {
      "cell_type": "markdown",
      "id": "1fda2925",
      "metadata": {
        "id": "1fda2925"
      },
      "source": [
        "# Observations from Histograms\n",
        "\n",
        "The grid of histograms provides insights into the distribution of values for each numeric column in the dataset (excluding 'UnixTime'). Key observations include:\n",
        "\n",
        "- Several columns, such as `ET_GazeLeftx`, `ET_GazeLefty`, `ET_GazeRightx`, and `ET_GazeRighty`, show distributions that appear somewhat multimodal or skewed, suggesting variations in gaze patterns.\n",
        "- The `ET_PupilLeft` and `ET_PupilRight` histograms clearly show a peak at -1, confirming the presence of a significant number of invalid pupil readings.\n",
        "- `ET_TimeSignal` shows a relatively uniform distribution, as expected for a time-based signal.\n",
        "- `ET_DistanceLeft` and `ET_DistanceRight` appear to have distributions centered around certain values, with some outliers or variations.\n",
        "- The camera position columns (`ET_CameraLeftX`, `ET_CameraLeftY`, `ET_CameraRightX`, `ET_CameraRightY`) seem to have distributions concentrated within specific ranges, reflecting the camera's field of view.\n",
        "- The validity columns (`ET_ValidityLeft`, `ET_ValidityRight`, `ET_PupilLeft_validity`, `ET_PupilRight_validity`) show distributions dominated by 0, indicating that most of the data is considered valid after the mapping. The smaller peaks at 1 represent the instances of invalid data.\n",
        "\n",
        "These distributions highlight the need for appropriate handling of the -1 values and potential outliers in subsequent analysis or modeling steps."
      ]
    },
    {
      "cell_type": "code",
      "execution_count": null,
      "id": "5004abd5",
      "metadata": {
        "id": "5004abd5"
      },
      "outputs": [],
      "source": [
        "df_2_EYE.columns"
      ]
    },
    {
      "cell_type": "code",
      "execution_count": null,
      "id": "71a48209",
      "metadata": {
        "id": "71a48209"
      },
      "outputs": [],
      "source": [
        "cols = ['ET_GazeLeftx', 'ET_GazeLefty',\n",
        "       'ET_GazeRightx', 'ET_GazeRighty', 'ET_PupilLeft', 'ET_PupilRight',\n",
        "       'ET_TimeSignal', 'ET_DistanceLeft', 'ET_DistanceRight',\n",
        "       'ET_CameraLeftX', 'ET_CameraLeftY', 'ET_CameraRightX',\n",
        "       'ET_CameraRightY', 'ET_ValidityLeft', 'ET_ValidityRight',\n",
        "       'ET_PupilLeft_validity', 'ET_PupilRight_validity']"
      ]
    },
    {
      "cell_type": "code",
      "execution_count": null,
      "id": "2f4851f2",
      "metadata": {
        "id": "2f4851f2"
      },
      "outputs": [],
      "source": [
        "from IPython.display import display, Markdown\n",
        "\n",
        "for col in cols:\n",
        "    # Add a markdown cell before each plot for better separation and labeling\n",
        "    display(Markdown(f'### {col} over Time'))\n",
        "    plt.figure(figsize=(16, 10))\n",
        "    plt.plot(df_2_EYE['Timestamp'], df_2_EYE[col])\n",
        "    plt.xlabel(\"Timestamp\") # Add x-axis label\n",
        "    plt.ylabel(col) # Add y-axis label\n",
        "    plt.show()"
      ]
    },
    {
      "cell_type": "markdown",
      "id": "c269cc2b",
      "metadata": {
        "id": "c269cc2b"
      },
      "source": [
        "# Observations from Time Series Plots\n",
        "\n",
        "The line plots showing various features against the `Timestamp` reveal the temporal patterns and fluctuations in the eye-tracking data. Key observations include:\n",
        "\n",
        "- **Gaze Coordinates (`ET_GazeLeftx`, `ET_GazeLefty`, `ET_GazeRightx`, `ET_GazeRighty`):** These plots show the changes in gaze position over time. We can observe periods of relatively stable gaze interspersed with rapid movements (saccades) and blinks or other events where the gaze data might be invalid (-1 values appear as gaps or spikes if not handled).\n",
        "- **Pupil Size (`ET_PupilLeft`, `ET_PupilRight`):** The pupil size plots show variations over time. The presence of many -1 values is evident as flat lines at the bottom of the plot, indicating periods where pupil data was not recorded or was invalid.\n",
        "- **Time Signal (`ET_TimeSignal`):** This plot shows a steady, increasing trend, as expected for a time-based signal.\n",
        "- **Distance and Camera Position (`ET_DistanceLeft`, `ET_DistanceRight`, `ET_CameraLeftX`, `ET_CameraLeftY`, `ET_CameraRightX`, `ET_CameraRightY`):** These plots show how the distance from the eye tracker and the camera positions change over time. Variations in these features can be related to head movements or changes in the user's position relative to the eye tracker.\n",
        "- **Validity (`ET_ValidityLeft`, `ET_ValidityRight`, `ET_PupilLeft_validity`, `ET_PupilRight_validity`):** These plots clearly show periods of invalid data (represented by 1) as spikes or plateaus, corresponding to instances where the eye tracker lost track of the eyes or the pupil data was marked as invalid.\n",
        "\n",
        "Analyzing these time series plots is crucial for understanding the dynamics of the eye-tracking data and identifying patterns or anomalies that may require further investigation or specific handling during subsequent analysis."
      ]
    },
    {
      "cell_type": "code",
      "execution_count": null,
      "id": "9272a1a7",
      "metadata": {
        "id": "9272a1a7"
      },
      "outputs": [],
      "source": [
        "# Select only the numeric columns for plotting histograms, excluding time-related columns\n",
        "numeric_cols = df_2_EYE.select_dtypes(include=np.number).columns\n",
        "\n",
        "# Calculate the number of rows and columns for the grid\n",
        "n_cols = 4  # You can adjust the number of columns as needed\n",
        "n_rows = (len(numeric_cols) + n_cols - 1) // n_cols\n",
        "\n",
        "plt.figure(figsize=(n_cols * 5, n_rows * 4)) # Adjust figure size as needed\n",
        "\n",
        "for i, col in enumerate(numeric_cols):\n",
        "    plt.subplot(n_rows, n_cols, i + 1)\n",
        "    sns.boxplot(df_2_EYE[col])\n",
        "    plt.title(f'Boxplot of {col}')\n",
        "    plt.xlabel(col)\n",
        "\n",
        "plt.tight_layout()\n",
        "plt.show()"
      ]
    },
    {
      "cell_type": "markdown",
      "id": "01dc8930",
      "metadata": {
        "id": "01dc8930"
      },
      "source": [
        "# Observations from Boxplots and Handling -1 Values\n",
        "\n",
        "The boxplots provide a visual summary of the distribution and potential outliers for each numeric column. Key observations from the boxplots include:\n",
        "\n",
        "- The boxplots for columns like `ET_GazeLeftx`, `ET_GazeLefty`, `ET_GazeRightx`, `ET_GazeRighty`, `ET_PupilLeft`, `ET_PupilRight`, `ET_DistanceLeft`, `ET_DistanceRight`, `ET_CameraLeftX`, `ET_CameraLeftY`, `ET_CameraRightX`, and `ET_CameraRightY` clearly show the presence of -1 values as significant outliers, confirming our earlier observations from the heatmaps and histograms.\n",
        "- The boxplots for the validity columns (`ET_ValidityLeft`, `ET_ValidityRight`, `ET_PupilLeft_validity`, `ET_PupilRight_validity`) show the discrete nature of these features, with the majority of data points at 0 (valid) and a smaller number at 1 (invalid).\n",
        "\n",
        "Given the significant presence of -1 values, which represent invalid or missing data, especially in the pupil-related columns, we have decided to replace these -1 values with NaN to properly represent them as missing data. Subsequently, we will impute these missing values using the mean of each respective column. This approach helps to retain the data structure and allows for further analysis or modeling without the distortion caused by the -1 placeholders."
      ]
    },
    {
      "cell_type": "code",
      "execution_count": null,
      "id": "37a8905d",
      "metadata": {
        "id": "37a8905d"
      },
      "outputs": [],
      "source": [
        "df_2_EYE.replace({-1: np.nan}, inplace=True)"
      ]
    },
    {
      "cell_type": "code",
      "execution_count": null,
      "id": "595f5bb6",
      "metadata": {
        "id": "595f5bb6"
      },
      "outputs": [],
      "source": [
        "df_2_EYE[['ET_GazeLeftx', 'ET_GazeLefty',\n",
        "       'ET_GazeRightx', 'ET_GazeRighty', 'ET_PupilLeft', 'ET_PupilRight',\n",
        "       'ET_TimeSignal', 'ET_DistanceLeft', 'ET_DistanceRight',\n",
        "       'ET_CameraLeftX', 'ET_CameraLeftY', 'ET_CameraRightX',\n",
        "       'ET_CameraRightY', 'ET_ValidityLeft', 'ET_ValidityRight',\n",
        "       'ET_PupilLeft_validity', 'ET_PupilRight_validity']].mean()"
      ]
    },
    {
      "cell_type": "code",
      "execution_count": null,
      "id": "10676fdb",
      "metadata": {
        "id": "10676fdb"
      },
      "outputs": [],
      "source": [
        "df_2_EYE[['ET_GazeLeftx', 'ET_GazeLefty',\n",
        "       'ET_GazeRightx', 'ET_GazeRighty', 'ET_PupilLeft', 'ET_PupilRight',\n",
        "       'ET_TimeSignal', 'ET_DistanceLeft', 'ET_DistanceRight',\n",
        "       'ET_CameraLeftX', 'ET_CameraLeftY', 'ET_CameraRightX',\n",
        "       'ET_CameraRightY', 'ET_ValidityLeft', 'ET_ValidityRight',\n",
        "       'ET_PupilLeft_validity', 'ET_PupilRight_validity']].median()"
      ]
    },
    {
      "cell_type": "code",
      "execution_count": null,
      "id": "ff048c7b",
      "metadata": {
        "id": "ff048c7b"
      },
      "outputs": [],
      "source": [
        "numeric_cols = df_2_EYE.select_dtypes(include=np.number).columns\n",
        "\n",
        "for col in numeric_cols:\n",
        "    df_2_EYE[col] = df_2_EYE[col].fillna(df_2_EYE[col].mean())"
      ]
    },
    {
      "cell_type": "code",
      "execution_count": null,
      "id": "29576d03",
      "metadata": {
        "id": "29576d03"
      },
      "outputs": [],
      "source": [
        "plt.figure(figsize=(18, 8))\n",
        "\n",
        "plt.subplot(1, 2, 1)\n",
        "sns.heatmap(df_2_EYE.isnull(), cmap='viridis')\n",
        "plt.title('Heatmap of Missing Values After Imputation')\n",
        "\n",
        "plt.subplot(1, 2, 2)\n",
        "sns.heatmap(df_2_EYE == 1, cmap='viridis')\n",
        "plt.title('Heatmap of 1 Values')\n",
        "\n",
        "plt.tight_layout()\n",
        "plt.show()"
      ]
    },
    {
      "cell_type": "markdown",
      "id": "d3e96238",
      "metadata": {
        "id": "d3e96238"
      },
      "source": [
        "# Handling Missing Values (Imputation)\n",
        "\n",
        "As decided, we have replaced all the `-1` values with `NaN` to treat them as missing data. Subsequently, we have imputed these `NaN` values with the mean of their respective columns. The heatmap above, which was generated after the imputation, now shows no visible signs of `NaN` values, indicating that the imputation was successful."
      ]
    },
    {
      "cell_type": "code",
      "execution_count": null,
      "id": "3d4c3573",
      "metadata": {
        "id": "3d4c3573"
      },
      "outputs": [],
      "source": [
        "df_2_EYE.head()"
      ]
    },
    {
      "cell_type": "code",
      "execution_count": null,
      "id": "385de801",
      "metadata": {
        "id": "385de801"
      },
      "outputs": [],
      "source": [
        "# Select only the numeric columns for plotting histograms, excluding time-related columns\n",
        "numeric_cols = df_2_EYE.select_dtypes(include=np.number).columns\n",
        "cols_to_plot = [col for col in numeric_cols if col not in ['UnixTime']]\n",
        "\n",
        "# Calculate the number of rows and columns for the grid\n",
        "n_cols = 4  # You can adjust the number of columns as needed\n",
        "n_rows = (len(cols_to_plot) + n_cols - 1) // n_cols\n",
        "\n",
        "plt.figure(figsize=(n_cols * 5, n_rows * 4)) # Adjust figure size as needed\n",
        "\n",
        "for i, col in enumerate(cols_to_plot):\n",
        "    plt.subplot(n_rows, n_cols, i + 1)\n",
        "    sns.histplot(df_2_EYE[col], kde=True)\n",
        "    plt.title(f'Distribution of {col}')\n",
        "    plt.xlabel(col)\n",
        "    plt.ylabel('Frequency')\n",
        "\n",
        "plt.tight_layout()\n",
        "plt.show()"
      ]
    },
    {
      "cell_type": "markdown",
      "id": "766f1093",
      "metadata": {
        "id": "766f1093"
      },
      "source": [
        "# Observations from Histograms After Imputation\n",
        "\n",
        "The histograms generated after replacing the -1 values with the mean of each column show the distributions of the numeric features with the missing data handled. Key observations from these updated histograms include:\n",
        "\n",
        "- The distinct peaks at -1, which were prominent in the histograms for several columns (e.g., pupil size, gaze coordinates, distance, and camera position) before imputation, are now replaced by a peak at the mean of each respective column.\n",
        "- The distributions in many columns now appear more unimodal or show shifted modes compared to the original histograms.\n",
        "- The histograms for the validity columns still show their bimodal distributions with peaks at 0 and 1, as these were handled separately.\n",
        "\n",
        "These histograms provide an updated view of the data's distribution after handling the missing values, highlighting the impact of the imputation method on the data's characteristics."
      ]
    },
    {
      "cell_type": "code",
      "execution_count": null,
      "id": "43d56721",
      "metadata": {
        "id": "43d56721"
      },
      "outputs": [],
      "source": [
        "cols = ['ET_GazeLeftx', 'ET_GazeLefty',\n",
        "       'ET_GazeRightx', 'ET_GazeRighty', 'ET_PupilLeft', 'ET_PupilRight',\n",
        "       'ET_TimeSignal', 'ET_DistanceLeft', 'ET_DistanceRight',\n",
        "       'ET_CameraLeftX', 'ET_CameraLeftY', 'ET_CameraRightX',\n",
        "       'ET_CameraRightY', 'ET_ValidityLeft', 'ET_ValidityRight',\n",
        "       'ET_PupilLeft_validity', 'ET_PupilRight_validity']"
      ]
    },
    {
      "cell_type": "code",
      "execution_count": null,
      "id": "600c9566",
      "metadata": {
        "id": "600c9566"
      },
      "outputs": [],
      "source": [
        "for col in cols:\n",
        "    # Add a markdown cell before each plot for better separation and labeling\n",
        "    display(Markdown(f'### {col} over Time'))\n",
        "    plt.figure(figsize=(16, 10))\n",
        "    plt.plot(df_2_EYE['Timestamp'], df_2_EYE[col])\n",
        "    plt.xlabel(\"Timestamp\") # Add x-axis label\n",
        "    plt.ylabel(col) # Add y-axis label\n",
        "    plt.show()"
      ]
    },
    {
      "cell_type": "markdown",
      "id": "5f12fca9",
      "metadata": {
        "id": "5f12fca9"
      },
      "source": [
        "# Observations from Time Series Plots After Imputation\n",
        "\n",
        "The line plots generated after imputing the missing values with the mean show the temporal patterns of the features with the missing data handled. Key observations from these updated plots include:\n",
        "\n",
        "- The gaps or flat lines at -1, which were prominent in the plots for columns like gaze coordinates, pupil size, distance, and camera position, are now filled by lines at the mean value of the respective columns.\n",
        "- The plots for the validity columns remain the same as they were handled separately.\n",
        "- The `ET_TimeSignal` plot still shows a steady increasing trend, as expected."
      ]
    },
    {
      "cell_type": "code",
      "execution_count": null,
      "id": "05998361",
      "metadata": {
        "id": "05998361"
      },
      "outputs": [],
      "source": [
        "plt.figure(figsize=(16, 10))\n",
        "sns.heatmap(df_2_EYE.corr(numeric_only=True), cmap='YlGnBu', annot=True)\n",
        "plt.show()"
      ]
    },
    {
      "cell_type": "markdown",
      "id": "4b70003c",
      "metadata": {
        "id": "4b70003c"
      },
      "source": [
        "# Observations from Correlation Heatmap\n",
        "\n",
        "The correlation heatmap provides a visual representation of the pairwise correlations between the numeric columns in the dataset. Key observations from the heatmap include:\n",
        "\n",
        "- **High Positive Correlations:** We observe strong positive correlations (values close to 1) between:\n",
        "  - `ET_GazeLeftx` and `ET_GazeRightx`: This is expected as the gaze positions of both eyes should be highly correlated when fixating on a point.\n",
        "  - `ET_GazeLefty` and `ET_GazeRighty`: Similar to the x-coordinates, the y-coordinates of gaze should also be highly correlated.\n",
        "  - `ET_PupilLeft` and `ET_PupilRight`: Pupil sizes of both eyes tend to change together in response to light and cognitive load.\n",
        "  - `ET_DistanceLeft` and `ET_DistanceRight`: The distance from the eye tracker to each eye should be highly correlated.\n",
        "  - `ET_CameraLeftX` and `ET_CameraRightX`, `ET_CameraLeftY` and `ET_CameraRightY`: The camera positions for both eyes are also expected to be highly correlated.\n",
        "  - `UnixTime` and `ET_TimeSignal`: As previously noted, these two columns are almost perfectly linearly correlated, indicating redundancy.\n",
        "  - `ET_ValidityLeft` and `ET_PupilLeft_validity`: There is a positive correlation, suggesting that when the overall left eye data is invalid, the left pupil data is also likely to be invalid.\n",
        "  - `ET_ValidityRight` and `ET_PupilRight_validity`: Similar to the left eye, there is a positive correlation between the overall right eye validity and the right pupil validity.\n",
        "- **Other Correlations:** We can also observe other varying degrees of correlations between different features, which can provide insights into the relationships between gaze behavior, pupil size, distance, and camera position. For example, there might be correlations between gaze coordinates and camera positions, reflecting head movements.\n",
        "- **Low or Near-Zero Correlations:** Columns with low or near-zero correlations are relatively independent of each other.\n",
        "\n",
        "Understanding these correlations is important for feature selection and for building models, as highly correlated features might indicate multicollinearity, while correlations between features can reveal underlying patterns in the data."
      ]
    },
    {
      "cell_type": "markdown",
      "id": "9bf353af",
      "metadata": {
        "id": "9bf353af"
      },
      "source": [
        "# Analysis of ET_TimeSignal and Decision to Drop\n",
        "\n",
        "As observed in the time series plot and confirmed by the correlation heatmap, the `ET_TimeSignal` column exhibits a near-perfect linear relationship with both the `Timestamp` and `UnixTime` columns. This strong correlation (close to 1) suggests that `ET_TimeSignal` is essentially redundant and likely represents another form of time recording or a signal directly derived from the timestamp.\n",
        "\n",
        "Including highly correlated features like this in a dataset can lead to issues such as multicollinearity in some statistical models, which can make it difficult to interpret the individual impact of each feature. Since the `Timestamp` column already provides the necessary temporal information, retaining `ET_TimeSignal` does not appear to add significant value for further analysis or modeling in most cases.\n",
        "\n",
        "Therefore, based on its high correlation and lack of unique insight, we will proceed to drop the `ET_TimeSignal` column to simplify the dataset and potentially improve the performance and interpretability of future analyses."
      ]
    },
    {
      "cell_type": "code",
      "execution_count": null,
      "id": "bb77ca05",
      "metadata": {
        "id": "bb77ca05"
      },
      "outputs": [],
      "source": [
        "df_2_EYE.drop('ET_TimeSignal', axis=1, inplace=True)"
      ]
    },
    {
      "cell_type": "code",
      "execution_count": null,
      "id": "99ae27f9",
      "metadata": {
        "id": "99ae27f9"
      },
      "outputs": [],
      "source": [
        "plt.figure(figsize=(16, 10))\n",
        "sns.pairplot(df_2_EYE)\n",
        "plt.show()"
      ]
    },
    {
      "cell_type": "markdown",
      "id": "ce91b764",
      "metadata": {
        "id": "ce91b764"
      },
      "source": [
        "# **3_EYE**"
      ]
    },
    {
      "cell_type": "code",
      "execution_count": null,
      "id": "cd31b936",
      "metadata": {
        "id": "cd31b936"
      },
      "outputs": [],
      "source": []
    },
    {
      "cell_type": "code",
      "execution_count": null,
      "id": "c9f8e08e",
      "metadata": {
        "id": "c9f8e08e"
      },
      "outputs": [],
      "source": [
        "df_3_EYE = pd.read_csv('data/STData/3/3_EYE.csv')"
      ]
    },
    {
      "cell_type": "code",
      "execution_count": null,
      "id": "1cd7f5fd",
      "metadata": {
        "id": "1cd7f5fd"
      },
      "outputs": [],
      "source": [
        "df_3_EYE.head()"
      ]
    },
    {
      "cell_type": "code",
      "execution_count": null,
      "id": "240b5824",
      "metadata": {
        "id": "240b5824"
      },
      "outputs": [],
      "source": [
        "df_3_EYE.shape"
      ]
    },
    {
      "cell_type": "code",
      "execution_count": null,
      "id": "241e3d84",
      "metadata": {
        "id": "241e3d84"
      },
      "outputs": [],
      "source": [
        "df_3_EYE.columns"
      ]
    },
    {
      "cell_type": "code",
      "execution_count": null,
      "id": "fb248c1d",
      "metadata": {
        "id": "fb248c1d"
      },
      "outputs": [],
      "source": [
        "df_3_EYE.info()"
      ]
    },
    {
      "cell_type": "code",
      "execution_count": null,
      "id": "86175df5",
      "metadata": {
        "id": "86175df5"
      },
      "outputs": [],
      "source": [
        "df_3_EYE.isnull().sum()"
      ]
    },
    {
      "cell_type": "code",
      "execution_count": null,
      "id": "1984d52c",
      "metadata": {
        "id": "1984d52c"
      },
      "outputs": [],
      "source": [
        "plt.figure(figsize=(12,8))\n",
        "sns.heatmap(df_3_EYE.isnull(), cmap='viridis')\n",
        "plt.show()"
      ]
    },
    {
      "cell_type": "markdown",
      "id": "541a12f6",
      "metadata": {
        "id": "541a12f6"
      },
      "source": [
        "# Notes & Observations\n",
        "\n",
        "- We observe many **null** (or missing) values in the `QuestionKey` columns.\n",
        "- The nulls in the `QuestionKey` column may not represent “true” nulls. Rather, they follow interval patterns, suggesting that during those periods no question was displayed.\n",
        "- These missing values in `QuestionKey` require additional investigation and context-aware handling."
      ]
    },
    {
      "cell_type": "code",
      "execution_count": null,
      "id": "54c46926",
      "metadata": {
        "id": "54c46926"
      },
      "outputs": [],
      "source": [
        "df_3_EYE['QuestionKey'].unique()"
      ]
    },
    {
      "cell_type": "code",
      "execution_count": null,
      "id": "a286d20d",
      "metadata": {
        "id": "a286d20d"
      },
      "outputs": [],
      "source": [
        "df_3_EYE['Timestamp'] = pd.to_datetime(df_3_EYE['Timestamp'])"
      ]
    },
    {
      "cell_type": "code",
      "execution_count": null,
      "id": "b2307454",
      "metadata": {
        "id": "b2307454"
      },
      "outputs": [],
      "source": [
        "df_3_EYE.head(3)"
      ]
    },
    {
      "cell_type": "code",
      "execution_count": null,
      "id": "4ef82b39",
      "metadata": {
        "id": "4ef82b39"
      },
      "outputs": [],
      "source": [
        "df_3_EYE['QuestionKey'] = df_3_EYE['QuestionKey'].fillna('None')"
      ]
    },
    {
      "cell_type": "code",
      "execution_count": null,
      "id": "6dca6ac9",
      "metadata": {
        "id": "6dca6ac9"
      },
      "outputs": [],
      "source": [
        "df_3_EYE['QuestionKey'].value_counts()"
      ]
    },
    {
      "cell_type": "code",
      "execution_count": null,
      "id": "8b56f3a3",
      "metadata": {
        "id": "8b56f3a3"
      },
      "outputs": [],
      "source": [
        "plt.figure(figsize=(12,8))\n",
        "sns.heatmap(df_3_EYE.isnull(), cmap='viridis')\n",
        "plt.show()"
      ]
    },
    {
      "cell_type": "code",
      "execution_count": null,
      "id": "ce52355a",
      "metadata": {
        "id": "ce52355a"
      },
      "outputs": [],
      "source": [
        "df_3_EYE.isnull().sum()"
      ]
    },
    {
      "cell_type": "code",
      "execution_count": null,
      "id": "0435aea0",
      "metadata": {
        "id": "0435aea0"
      },
      "outputs": [],
      "source": [
        "df_3_EYE.dropna(inplace=True)"
      ]
    },
    {
      "cell_type": "code",
      "execution_count": null,
      "id": "48072f64",
      "metadata": {
        "id": "48072f64"
      },
      "outputs": [],
      "source": [
        "df_3_EYE.head()"
      ]
    },
    {
      "cell_type": "code",
      "execution_count": null,
      "id": "95a01ba8",
      "metadata": {
        "id": "95a01ba8"
      },
      "outputs": [],
      "source": [
        "df_3_EYE['Row'].unique()"
      ]
    },
    {
      "cell_type": "code",
      "execution_count": null,
      "id": "b7e917b8",
      "metadata": {
        "id": "b7e917b8"
      },
      "outputs": [],
      "source": [
        "plt.figure(figsize=(8,6))\n",
        "sns.histplot(df_3_EYE['Row'])\n",
        "plt.show()"
      ]
    },
    {
      "cell_type": "markdown",
      "id": "77bdffe4",
      "metadata": {
        "id": "77bdffe4"
      },
      "source": [
        "# Notes & Observations\n",
        "\n",
        "- The `Row` column appears to be a simple row index and does not provide meaningful information relevant to the eye-tracking data itself. Therefore, it can be dropped."
      ]
    },
    {
      "cell_type": "code",
      "execution_count": null,
      "id": "08559989",
      "metadata": {
        "id": "08559989"
      },
      "outputs": [],
      "source": [
        "df_3_EYE.drop('Row', axis=1, inplace=True)"
      ]
    },
    {
      "cell_type": "code",
      "execution_count": null,
      "id": "8f881fa8",
      "metadata": {
        "id": "8f881fa8"
      },
      "outputs": [],
      "source": [
        "df_3_EYE['ET_ValidityLeft'].unique()"
      ]
    },
    {
      "cell_type": "code",
      "execution_count": null,
      "id": "c711ffc3",
      "metadata": {
        "id": "c711ffc3"
      },
      "outputs": [],
      "source": [
        "df_3_EYE['ET_ValidityLeft'].value_counts()"
      ]
    },
    {
      "cell_type": "code",
      "execution_count": null,
      "id": "f0bd3a02",
      "metadata": {
        "id": "f0bd3a02"
      },
      "outputs": [],
      "source": [
        "df_3_EYE['ET_ValidityRight'].unique()"
      ]
    },
    {
      "cell_type": "code",
      "execution_count": null,
      "id": "f088acdf",
      "metadata": {
        "id": "f088acdf"
      },
      "outputs": [],
      "source": [
        "df_3_EYE['ET_ValidityRight'].value_counts()"
      ]
    },
    {
      "cell_type": "code",
      "execution_count": null,
      "id": "0770b0e5",
      "metadata": {
        "id": "0770b0e5"
      },
      "outputs": [],
      "source": [
        "plt.figure(figsize=(12, 6))\n",
        "\n",
        "plt.subplot(1, 2, 1)\n",
        "sns.barplot(x=df_3_EYE['ET_ValidityLeft'].value_counts().index, y=df_3_EYE['ET_ValidityLeft'].value_counts().values)\n",
        "plt.title('Count of ET_ValidityLeft')\n",
        "plt.xlabel('Validity')\n",
        "plt.ylabel('Count')\n",
        "\n",
        "\n",
        "plt.subplot(1, 2, 2)\n",
        "sns.barplot(x=df_3_EYE['ET_ValidityRight'].value_counts().index, y=df_3_EYE['ET_ValidityRight'].value_counts().values)\n",
        "plt.title('Count of ET_ValidityRight')\n",
        "plt.xlabel('Validity')\n",
        "plt.ylabel('Count')\n",
        "\n",
        "plt.tight_layout()\n",
        "plt.show()"
      ]
    },
    {
      "cell_type": "markdown",
      "id": "6ec5bc47",
      "metadata": {
        "id": "6ec5bc47"
      },
      "source": [
        "# Notes & Observations\n",
        "\n",
        "- The `ET_ValidityLeft` and `ET_ValidityRight` columns indicate the validity of the eye-tracking data for the left and right eye, respectively.\n",
        "- Based on the value counts and the bar plots, it appears that a value of `0.0` represents valid eye-tracking data, while a value of `4.0` represents invalid data.\n",
        "- Although the amount of invalid data is relatively small, removing these rows could introduce unwanted patterns or gaps in the time series data.\n",
        "- Therefore, we will keep the data and replace the value `4.0` with `1.0` in both `ET_ValidityLeft` and `ET_ValidityRight` columns. This will indicate to a machine learning model that the eye tracker had invalid data at those specific points in time while maintaining the integrity of the time series."
      ]
    },
    {
      "cell_type": "markdown",
      "id": "0b93e88b",
      "metadata": {
        "id": "0b93e88b"
      },
      "source": [
        "Define a mapping to convert validity values from `0.0` and `4.0` to `0` and `1`."
      ]
    },
    {
      "cell_type": "code",
      "execution_count": null,
      "id": "8201d223",
      "metadata": {
        "id": "8201d223"
      },
      "outputs": [],
      "source": [
        "validity_map = {4.0: 1.0, 0.0: 0.0}"
      ]
    },
    {
      "cell_type": "code",
      "execution_count": null,
      "id": "d44f4146",
      "metadata": {
        "id": "d44f4146"
      },
      "outputs": [],
      "source": [
        "df_3_EYE['ET_ValidityLeft'] = df_3_EYE['ET_ValidityLeft'].map(validity_map).astype(np.int8)\n",
        "df_3_EYE['ET_ValidityRight'] = df_3_EYE['ET_ValidityRight'].map(validity_map).astype(np.int8)"
      ]
    },
    {
      "cell_type": "code",
      "execution_count": null,
      "id": "19d59bf2",
      "metadata": {
        "id": "19d59bf2"
      },
      "outputs": [],
      "source": [
        "df_3_EYE.head(3)"
      ]
    },
    {
      "cell_type": "code",
      "execution_count": null,
      "id": "9ee24bc0",
      "metadata": {
        "id": "9ee24bc0"
      },
      "outputs": [],
      "source": [
        "df_3_EYE.describe()"
      ]
    },
    {
      "cell_type": "code",
      "execution_count": null,
      "id": "5b593dd2",
      "metadata": {
        "id": "5b593dd2"
      },
      "outputs": [],
      "source": [
        "df_3_EYE[df_3_EYE['ET_ValidityLeft'] == 1].shape"
      ]
    },
    {
      "cell_type": "code",
      "execution_count": null,
      "id": "01a10ba5",
      "metadata": {
        "id": "01a10ba5"
      },
      "outputs": [],
      "source": [
        "df_3_EYE[df_3_EYE['ET_ValidityRight'] == 1].shape"
      ]
    },
    {
      "cell_type": "code",
      "execution_count": null,
      "id": "90e83d0f",
      "metadata": {
        "id": "90e83d0f"
      },
      "outputs": [],
      "source": [
        "df_3_EYE[df_3_EYE['ET_ValidityLeft'] == 1].shape[0] / df_3_EYE.shape[0]"
      ]
    },
    {
      "cell_type": "code",
      "execution_count": null,
      "id": "048cd9b8",
      "metadata": {
        "id": "048cd9b8"
      },
      "outputs": [],
      "source": [
        "df_3_EYE[df_3_EYE['ET_ValidityRight'] == 1].shape[0] / df_3_EYE.shape[0]"
      ]
    },
    {
      "cell_type": "code",
      "execution_count": null,
      "id": "4c586eb3",
      "metadata": {
        "id": "4c586eb3"
      },
      "outputs": [],
      "source": [
        "plt.figure(figsize=(18, 8))\n",
        "\n",
        "plt.subplot(1, 2, 1)\n",
        "sns.heatmap(df_3_EYE == -1, cmap='viridis')\n",
        "plt.title('Heatmap of -1 Values')\n",
        "\n",
        "plt.subplot(1, 2, 2)\n",
        "sns.heatmap(df_3_EYE == 1, cmap='viridis')\n",
        "plt.title('Heatmap of 1 Values')\n",
        "\n",
        "plt.tight_layout()\n",
        "plt.show()"
      ]
    },
    {
      "cell_type": "code",
      "execution_count": null,
      "id": "04c70d5e",
      "metadata": {
        "id": "04c70d5e"
      },
      "outputs": [],
      "source": [
        "df_3_EYE[df_3_EYE['ET_PupilLeft'] == -1].shape"
      ]
    },
    {
      "cell_type": "code",
      "execution_count": null,
      "id": "56a25c8a",
      "metadata": {
        "id": "56a25c8a"
      },
      "outputs": [],
      "source": [
        "df_3_EYE[df_3_EYE['ET_PupilRight'] == -1].shape"
      ]
    },
    {
      "cell_type": "code",
      "execution_count": null,
      "id": "a880b978",
      "metadata": {
        "id": "a880b978"
      },
      "outputs": [],
      "source": [
        "df_3_EYE[df_3_EYE['ET_PupilLeft'] == -1].shape[0] / df_3_EYE.shape[0]"
      ]
    },
    {
      "cell_type": "code",
      "execution_count": null,
      "id": "5b7c545d",
      "metadata": {
        "id": "5b7c545d"
      },
      "outputs": [],
      "source": [
        "df_3_EYE[df_3_EYE['ET_PupilRight'] == -1].shape[0] / df_3_EYE.shape[0]"
      ]
    },
    {
      "cell_type": "code",
      "execution_count": null,
      "id": "828916e4",
      "metadata": {
        "id": "828916e4"
      },
      "outputs": [],
      "source": [
        "plt.figure(figsize=(18, 8))\n",
        "\n",
        "plt.subplot(1, 2, 1)\n",
        "sns.heatmap(df_3_EYE[df_3_EYE['ET_ValidityLeft'] == 1] == -1, cmap='viridis')\n",
        "plt.title('Heatmap of -1 Values')\n",
        "\n",
        "plt.subplot(1, 2, 2)\n",
        "sns.heatmap(df_3_EYE[df_3_EYE['ET_ValidityRight'] == 1] == -1, cmap='viridis')\n",
        "plt.title('Heatmap of -1 Values')\n",
        "\n",
        "plt.tight_layout()\n",
        "plt.show()"
      ]
    },
    {
      "cell_type": "markdown",
      "id": "e550e10d",
      "metadata": {
        "id": "e550e10d"
      },
      "source": [
        "# Notes & Observations\n",
        "\n",
        "- The heatmaps reveal the distribution of -1 values across different columns.\n",
        "- It is evident that the `-1` values are not randomly scattered but appear in specific columns, notably `ET_GazeLeftx`, `ET_GazeLefty`, `ET_GazeRightx`, `ET_GazeRighty`, `ET_PupilLeft`, `ET_PupilRight`, `ET_DistanceLeft`, `ET_DistanceRight`, `ET_CameraLeftX`, `ET_CameraLeftY`, `ET_CameraRightX`, and `ET_CameraRightY`.\n",
        "- These `-1` values often coincide with instances where `ET_ValidityLeft` or `ET_ValidityRight` is 1, indicating invalid eye-tracking data. This suggests that `-1` is used as a placeholder for missing or invalid measurements in these columns when the eye tracker is not providing valid data for a particular eye.\n",
        "- Given that over 70% of the data in the `ET_PupilLeft` and `ET_PupilRight` columns is marked as invalid (-1), so instead of dropping them we can create new feature for both the `ET_PupilLeft` and `ET_PupilRight` to represent which row consist invalid `ET_PupilLeft` and `ET_PupilRight` data"
      ]
    },
    {
      "cell_type": "code",
      "execution_count": null,
      "id": "092d3bc0",
      "metadata": {
        "id": "092d3bc0"
      },
      "outputs": [],
      "source": [
        "pupil_validity = {-1: 1 }"
      ]
    },
    {
      "cell_type": "code",
      "execution_count": null,
      "id": "87b2d185",
      "metadata": {
        "id": "87b2d185"
      },
      "outputs": [],
      "source": [
        "df_3_EYE['ET_PupilLeft_validity'] = df_3_EYE['ET_PupilLeft'].map(pupil_validity)"
      ]
    },
    {
      "cell_type": "code",
      "execution_count": null,
      "id": "bafda434",
      "metadata": {
        "id": "bafda434"
      },
      "outputs": [],
      "source": [
        "df_3_EYE['ET_PupilRight_validity'] = df_3_EYE['ET_PupilRight'].map(pupil_validity)"
      ]
    },
    {
      "cell_type": "code",
      "execution_count": null,
      "id": "cb6e0217",
      "metadata": {
        "id": "cb6e0217"
      },
      "outputs": [],
      "source": [
        "df_3_EYE[['ET_PupilLeft_validity', 'ET_PupilRight_validity']].head()"
      ]
    },
    {
      "cell_type": "code",
      "execution_count": null,
      "id": "7becc65f",
      "metadata": {
        "id": "7becc65f"
      },
      "outputs": [],
      "source": [
        "df_3_EYE[['ET_PupilLeft_validity', 'ET_PupilRight_validity']].isnull().sum()"
      ]
    },
    {
      "cell_type": "code",
      "execution_count": null,
      "id": "1cbdf957",
      "metadata": {
        "id": "1cbdf957"
      },
      "outputs": [],
      "source": [
        "plt.figure(figsize=(18, 8))\n",
        "sns.heatmap(df_3_EYE[['ET_PupilLeft_validity', 'ET_PupilRight_validity']].isnull(), cmap='viridis')\n",
        "plt.show()"
      ]
    },
    {
      "cell_type": "code",
      "execution_count": null,
      "id": "a4c306f7",
      "metadata": {
        "id": "a4c306f7"
      },
      "outputs": [],
      "source": [
        "df_3_EYE['ET_PupilLeft_validity'] = df_3_EYE['ET_PupilLeft_validity'].fillna(0)"
      ]
    },
    {
      "cell_type": "code",
      "execution_count": null,
      "id": "e1797b79",
      "metadata": {
        "id": "e1797b79"
      },
      "outputs": [],
      "source": [
        "df_3_EYE['ET_PupilRight_validity'] = df_3_EYE['ET_PupilRight_validity'].fillna(0)"
      ]
    },
    {
      "cell_type": "code",
      "execution_count": null,
      "id": "04536540",
      "metadata": {
        "id": "04536540"
      },
      "outputs": [],
      "source": [
        "df_3_EYE[['ET_PupilLeft_validity', 'ET_PupilRight_validity']].head()"
      ]
    },
    {
      "cell_type": "code",
      "execution_count": null,
      "id": "94b678e1",
      "metadata": {
        "id": "94b678e1"
      },
      "outputs": [],
      "source": [
        "plt.figure(figsize=(18, 8))\n",
        "sns.heatmap(df_3_EYE[['ET_PupilLeft_validity', 'ET_PupilRight_validity']].isnull(), cmap='viridis')\n",
        "plt.show()"
      ]
    },
    {
      "cell_type": "code",
      "execution_count": null,
      "id": "e3d0bb4b",
      "metadata": {
        "id": "e3d0bb4b"
      },
      "outputs": [],
      "source": [
        "df_3_EYE.head()"
      ]
    },
    {
      "cell_type": "code",
      "execution_count": null,
      "id": "72c619c4",
      "metadata": {
        "id": "72c619c4"
      },
      "outputs": [],
      "source": [
        "plt.figure(figsize=(18, 8))\n",
        "\n",
        "plt.subplot(1, 2, 1)\n",
        "sns.heatmap(df_3_EYE == -1, cmap='viridis')\n",
        "plt.title('Heatmap of -1 Values')\n",
        "\n",
        "plt.subplot(1, 2, 2)\n",
        "sns.heatmap(df_3_EYE == 1, cmap='viridis')\n",
        "plt.title('Heatmap of -1 Values')\n",
        "\n",
        "plt.tight_layout()\n",
        "plt.show()"
      ]
    },
    {
      "cell_type": "code",
      "execution_count": null,
      "id": "a0daf30e",
      "metadata": {
        "id": "a0daf30e"
      },
      "outputs": [],
      "source": [
        "valid_left_ratio  = 1 - df_3_EYE['ET_ValidityLeft'].mean()"
      ]
    },
    {
      "cell_type": "code",
      "execution_count": null,
      "id": "853541f7",
      "metadata": {
        "id": "853541f7"
      },
      "outputs": [],
      "source": [
        "valid_left_ratio"
      ]
    },
    {
      "cell_type": "code",
      "execution_count": null,
      "id": "00d5164f",
      "metadata": {
        "id": "00d5164f"
      },
      "outputs": [],
      "source": [
        "valid_right_ratio = 1 - df_3_EYE['ET_ValidityRight'].mean()"
      ]
    },
    {
      "cell_type": "code",
      "execution_count": null,
      "id": "400aa0e1",
      "metadata": {
        "id": "400aa0e1"
      },
      "outputs": [],
      "source": [
        "valid_right_ratio"
      ]
    },
    {
      "cell_type": "code",
      "execution_count": null,
      "id": "63b4a723",
      "metadata": {
        "id": "63b4a723"
      },
      "outputs": [],
      "source": [
        "df_3_EYE['ET_PupilLeft_validity'] = df_3_EYE['ET_PupilLeft_validity'].astype(np.int8)\n",
        "df_3_EYE['ET_PupilRight_validity'] = df_3_EYE['ET_PupilRight_validity'].astype(np.int8)"
      ]
    },
    {
      "cell_type": "markdown",
      "id": "e59d7124",
      "metadata": {
        "id": "e59d7124"
      },
      "source": [
        "# Feature Engineering and Observations\n",
        "\n",
        "Based on the analysis of the data, we've created two new features, `ET_PupilLeft_validity` and `ET_PupilRight_validity`. These features indicate the validity of the pupil data for the left and right eyes, respectively, with a value of 1 representing invalid data (originally -1) and 0 representing valid data.\n",
        "\n",
        "The heatmaps above visually demonstrate the distribution of -1 and 1 values across the dataset. We observed that:\n",
        "- The `-1` values are concentrated in specific columns related to gaze, pupil size, distance, and camera position, suggesting they represent missing or invalid sensor readings.\n",
        "- The `1` values, after mapping from `4.0` in the original validity columns, indicate instances of invalid eye-tracking data.\n",
        "- The heatmaps also show a strong correlation between the `-1` values in the pupil columns and a validity of 1 in the newly created pupil validity features, confirming that -1 was used to mark invalid pupil data."
      ]
    },
    {
      "cell_type": "code",
      "execution_count": null,
      "id": "5bf76162",
      "metadata": {
        "id": "5bf76162"
      },
      "outputs": [],
      "source": [
        "df_3_EYE.head()"
      ]
    },
    {
      "cell_type": "code",
      "execution_count": null,
      "id": "f54db683",
      "metadata": {
        "id": "f54db683"
      },
      "outputs": [],
      "source": [
        "# Select only the numeric columns for plotting histograms, excluding time-related columns\n",
        "numeric_cols = df_3_EYE.select_dtypes(include=np.number).columns\n",
        "cols_to_plot = [col for col in numeric_cols if col not in ['UnixTime']]\n",
        "\n",
        "# Calculate the number of rows and columns for the grid\n",
        "n_cols = 4  # You can adjust the number of columns as needed\n",
        "n_rows = (len(cols_to_plot) + n_cols - 1) // n_cols\n",
        "\n",
        "plt.figure(figsize=(n_cols * 5, n_rows * 4)) # Adjust figure size as needed\n",
        "\n",
        "for i, col in enumerate(cols_to_plot):\n",
        "    plt.subplot(n_rows, n_cols, i + 1)\n",
        "    sns.histplot(df_3_EYE[col], kde=True)\n",
        "    plt.title(f'Distribution of {col}')\n",
        "    plt.xlabel(col)\n",
        "    plt.ylabel('Frequency')\n",
        "\n",
        "plt.tight_layout()\n",
        "plt.show()"
      ]
    },
    {
      "cell_type": "markdown",
      "id": "6f2e9b26",
      "metadata": {
        "id": "6f2e9b26"
      },
      "source": [
        "# Observations from Histograms\n",
        "\n",
        "The grid of histograms provides insights into the distribution of values for each numeric column in the dataset (excluding 'UnixTime'). Key observations include:\n",
        "\n",
        "- Several columns, such as `ET_GazeLeftx`, `ET_GazeLefty`, `ET_GazeRightx`, and `ET_GazeRighty`, show distributions that appear somewhat multimodal or skewed, suggesting variations in gaze patterns.\n",
        "- The `ET_PupilLeft` and `ET_PupilRight` histograms clearly show a peak at -1, confirming the presence of a significant number of invalid pupil readings.\n",
        "- `ET_TimeSignal` shows a relatively uniform distribution, as expected for a time-based signal.\n",
        "- `ET_DistanceLeft` and `ET_DistanceRight` appear to have distributions centered around certain values, with some outliers or variations.\n",
        "- The camera position columns (`ET_CameraLeftX`, `ET_CameraLeftY`, `ET_CameraRightX`, `ET_CameraRightY`) seem to have distributions concentrated within specific ranges, reflecting the camera's field of view.\n",
        "- The validity columns (`ET_ValidityLeft`, `ET_ValidityRight`, `ET_PupilLeft_validity`, `ET_PupilRight_validity`) show distributions dominated by 0, indicating that most of the data is considered valid after the mapping. The smaller peaks at 1 represent the instances of invalid data.\n",
        "\n",
        "These distributions highlight the need for appropriate handling of the -1 values and potential outliers in subsequent analysis or modeling steps."
      ]
    },
    {
      "cell_type": "code",
      "execution_count": null,
      "id": "f87898ef",
      "metadata": {
        "id": "f87898ef"
      },
      "outputs": [],
      "source": [
        "df_3_EYE.columns"
      ]
    },
    {
      "cell_type": "code",
      "execution_count": null,
      "id": "f3f7a360",
      "metadata": {
        "id": "f3f7a360"
      },
      "outputs": [],
      "source": [
        "cols = ['ET_GazeLeftx', 'ET_GazeLefty',\n",
        "       'ET_GazeRightx', 'ET_GazeRighty', 'ET_PupilLeft', 'ET_PupilRight',\n",
        "       'ET_TimeSignal', 'ET_DistanceLeft', 'ET_DistanceRight',\n",
        "       'ET_CameraLeftX', 'ET_CameraLeftY', 'ET_CameraRightX',\n",
        "       'ET_CameraRightY', 'ET_ValidityLeft', 'ET_ValidityRight',\n",
        "       'ET_PupilLeft_validity', 'ET_PupilRight_validity']"
      ]
    },
    {
      "cell_type": "code",
      "execution_count": null,
      "id": "575f45b0",
      "metadata": {
        "id": "575f45b0"
      },
      "outputs": [],
      "source": [
        "from IPython.display import display, Markdown\n",
        "\n",
        "for col in cols:\n",
        "    # Add a markdown cell before each plot for better separation and labeling\n",
        "    display(Markdown(f'### {col} over Time'))\n",
        "    plt.figure(figsize=(16, 10))\n",
        "    plt.plot(df_3_EYE['Timestamp'], df_3_EYE[col])\n",
        "    plt.xlabel(\"Timestamp\") # Add x-axis label\n",
        "    plt.ylabel(col) # Add y-axis label\n",
        "    plt.show()"
      ]
    },
    {
      "cell_type": "markdown",
      "id": "015a8583",
      "metadata": {
        "id": "015a8583"
      },
      "source": [
        "# Observations from Time Series Plots\n",
        "\n",
        "The line plots showing various features against the `Timestamp` reveal the temporal patterns and fluctuations in the eye-tracking data. Key observations include:\n",
        "\n",
        "- **Gaze Coordinates (`ET_GazeLeftx`, `ET_GazeLefty`, `ET_GazeRightx`, `ET_GazeRighty`):** These plots show the changes in gaze position over time. We can observe periods of relatively stable gaze interspersed with rapid movements (saccades) and blinks or other events where the gaze data might be invalid (-1 values appear as gaps or spikes if not handled).\n",
        "- **Pupil Size (`ET_PupilLeft`, `ET_PupilRight`):** The pupil size plots show variations over time. The presence of many -1 values is evident as flat lines at the bottom of the plot, indicating periods where pupil data was not recorded or was invalid.\n",
        "- **Time Signal (`ET_TimeSignal`):** This plot shows a steady, increasing trend, as expected for a time-based signal.\n",
        "- **Distance and Camera Position (`ET_DistanceLeft`, `ET_DistanceRight`, `ET_CameraLeftX`, `ET_CameraLeftY`, `ET_CameraRightX`, `ET_CameraRightY`):** These plots show how the distance from the eye tracker and the camera positions change over time. Variations in these features can be related to head movements or changes in the user's position relative to the eye tracker.\n",
        "- **Validity (`ET_ValidityLeft`, `ET_ValidityRight`, `ET_PupilLeft_validity`, `ET_PupilRight_validity`):** These plots clearly show periods of invalid data (represented by 1) as spikes or plateaus, corresponding to instances where the eye tracker lost track of the eyes or the pupil data was marked as invalid.\n",
        "\n",
        "Analyzing these time series plots is crucial for understanding the dynamics of the eye-tracking data and identifying patterns or anomalies that may require further investigation or specific handling during subsequent analysis."
      ]
    },
    {
      "cell_type": "code",
      "execution_count": null,
      "id": "e0f7571d",
      "metadata": {
        "id": "e0f7571d"
      },
      "outputs": [],
      "source": [
        "# Select only the numeric columns for plotting histograms, excluding time-related columns\n",
        "numeric_cols = df_3_EYE.select_dtypes(include=np.number).columns\n",
        "\n",
        "# Calculate the number of rows and columns for the grid\n",
        "n_cols = 4  # You can adjust the number of columns as needed\n",
        "n_rows = (len(numeric_cols) + n_cols - 1) // n_cols\n",
        "\n",
        "plt.figure(figsize=(n_cols * 5, n_rows * 4)) # Adjust figure size as needed\n",
        "\n",
        "for i, col in enumerate(numeric_cols):\n",
        "    plt.subplot(n_rows, n_cols, i + 1)\n",
        "    sns.boxplot(df_3_EYE[col])\n",
        "    plt.title(f'Boxplot of {col}')\n",
        "    plt.xlabel(col)\n",
        "\n",
        "plt.tight_layout()\n",
        "plt.show()"
      ]
    },
    {
      "cell_type": "markdown",
      "id": "561484a0",
      "metadata": {
        "id": "561484a0"
      },
      "source": [
        "# Observations from Boxplots and Handling -1 Values\n",
        "\n",
        "The boxplots provide a visual summary of the distribution and potential outliers for each numeric column. Key observations from the boxplots include:\n",
        "\n",
        "- The boxplots for columns like `ET_GazeLeftx`, `ET_GazeLefty`, `ET_GazeRightx`, `ET_GazeRighty`, `ET_PupilLeft`, `ET_PupilRight`, `ET_DistanceLeft`, `ET_DistanceRight`, `ET_CameraLeftX`, `ET_CameraLeftY`, `ET_CameraRightX`, and `ET_CameraRightY` clearly show the presence of -1 values as significant outliers, confirming our earlier observations from the heatmaps and histograms.\n",
        "- The boxplots for the validity columns (`ET_ValidityLeft`, `ET_ValidityRight`, `ET_PupilLeft_validity`, `ET_PupilRight_validity`) show the discrete nature of these features, with the majority of data points at 0 (valid) and a smaller number at 1 (invalid).\n",
        "\n",
        "Given the significant presence of -1 values, which represent invalid or missing data, especially in the pupil-related columns, we have decided to replace these -1 values with NaN to properly represent them as missing data. Subsequently, we will impute these missing values using the mean of each respective column. This approach helps to retain the data structure and allows for further analysis or modeling without the distortion caused by the -1 placeholders."
      ]
    },
    {
      "cell_type": "code",
      "execution_count": null,
      "id": "1c7eadab",
      "metadata": {
        "id": "1c7eadab"
      },
      "outputs": [],
      "source": [
        "df_3_EYE.replace({-1: np.nan}, inplace=True)"
      ]
    },
    {
      "cell_type": "code",
      "execution_count": null,
      "id": "890e8d2b",
      "metadata": {
        "id": "890e8d2b"
      },
      "outputs": [],
      "source": [
        "df_3_EYE[['ET_GazeLeftx', 'ET_GazeLefty',\n",
        "       'ET_GazeRightx', 'ET_GazeRighty', 'ET_PupilLeft', 'ET_PupilRight',\n",
        "       'ET_TimeSignal', 'ET_DistanceLeft', 'ET_DistanceRight',\n",
        "       'ET_CameraLeftX', 'ET_CameraLeftY', 'ET_CameraRightX',\n",
        "       'ET_CameraRightY', 'ET_ValidityLeft', 'ET_ValidityRight',\n",
        "       'ET_PupilLeft_validity', 'ET_PupilRight_validity']].mean()"
      ]
    },
    {
      "cell_type": "code",
      "execution_count": null,
      "id": "dd04fe4b",
      "metadata": {
        "id": "dd04fe4b"
      },
      "outputs": [],
      "source": [
        "df_3_EYE[['ET_GazeLeftx', 'ET_GazeLefty',\n",
        "       'ET_GazeRightx', 'ET_GazeRighty', 'ET_PupilLeft', 'ET_PupilRight',\n",
        "       'ET_TimeSignal', 'ET_DistanceLeft', 'ET_DistanceRight',\n",
        "       'ET_CameraLeftX', 'ET_CameraLeftY', 'ET_CameraRightX',\n",
        "       'ET_CameraRightY', 'ET_ValidityLeft', 'ET_ValidityRight',\n",
        "       'ET_PupilLeft_validity', 'ET_PupilRight_validity']].median()"
      ]
    },
    {
      "cell_type": "code",
      "execution_count": null,
      "id": "4e976878",
      "metadata": {
        "id": "4e976878"
      },
      "outputs": [],
      "source": [
        "numeric_cols = df_3_EYE.select_dtypes(include=np.number).columns\n",
        "\n",
        "for col in numeric_cols:\n",
        "    df_3_EYE[col] = df_3_EYE[col].fillna(df_3_EYE[col].mean())"
      ]
    },
    {
      "cell_type": "code",
      "execution_count": null,
      "id": "bb945562",
      "metadata": {
        "id": "bb945562"
      },
      "outputs": [],
      "source": [
        "plt.figure(figsize=(18, 8))\n",
        "\n",
        "plt.subplot(1, 2, 1)\n",
        "sns.heatmap(df_3_EYE.isnull(), cmap='viridis')\n",
        "plt.title('Heatmap of Missing Values After Imputation')\n",
        "\n",
        "plt.subplot(1, 2, 2)\n",
        "sns.heatmap(df_3_EYE == 1, cmap='viridis')\n",
        "plt.title('Heatmap of 1 Values')\n",
        "\n",
        "plt.tight_layout()\n",
        "plt.show()"
      ]
    },
    {
      "cell_type": "markdown",
      "id": "9a24e8cf",
      "metadata": {
        "id": "9a24e8cf"
      },
      "source": [
        "# Handling Missing Values (Imputation)\n",
        "\n",
        "As decided, we have replaced all the `-1` values with `NaN` to treat them as missing data. Subsequently, we have imputed these `NaN` values with the mean of their respective columns. The heatmap above, which was generated after the imputation, now shows no visible signs of `NaN` values, indicating that the imputation was successful."
      ]
    },
    {
      "cell_type": "code",
      "execution_count": null,
      "id": "a16eee8f",
      "metadata": {
        "id": "a16eee8f"
      },
      "outputs": [],
      "source": [
        "df_3_EYE.head()"
      ]
    },
    {
      "cell_type": "code",
      "execution_count": null,
      "id": "a268b013",
      "metadata": {
        "id": "a268b013"
      },
      "outputs": [],
      "source": [
        "# Select only the numeric columns for plotting histograms, excluding time-related columns\n",
        "numeric_cols = df_3_EYE.select_dtypes(include=np.number).columns\n",
        "cols_to_plot = [col for col in numeric_cols if col not in ['UnixTime']]\n",
        "\n",
        "# Calculate the number of rows and columns for the grid\n",
        "n_cols = 4  # You can adjust the number of columns as needed\n",
        "n_rows = (len(cols_to_plot) + n_cols - 1) // n_cols\n",
        "\n",
        "plt.figure(figsize=(n_cols * 5, n_rows * 4)) # Adjust figure size as needed\n",
        "\n",
        "for i, col in enumerate(cols_to_plot):\n",
        "    plt.subplot(n_rows, n_cols, i + 1)\n",
        "    sns.histplot(df_3_EYE[col], kde=True)\n",
        "    plt.title(f'Distribution of {col}')\n",
        "    plt.xlabel(col)\n",
        "    plt.ylabel('Frequency')\n",
        "\n",
        "plt.tight_layout()\n",
        "plt.show()"
      ]
    },
    {
      "cell_type": "markdown",
      "id": "d30cacb6",
      "metadata": {
        "id": "d30cacb6"
      },
      "source": [
        "# Observations from Histograms After Imputation\n",
        "\n",
        "The histograms generated after replacing the -1 values with the mean of each column show the distributions of the numeric features with the missing data handled. Key observations from these updated histograms include:\n",
        "\n",
        "- The distinct peaks at -1, which were prominent in the histograms for several columns (e.g., pupil size, gaze coordinates, distance, and camera position) before imputation, are now replaced by a peak at the mean of each respective column.\n",
        "- The distributions in many columns now appear more unimodal or show shifted modes compared to the original histograms.\n",
        "- The histograms for the validity columns still show their bimodal distributions with peaks at 0 and 1, as these were handled separately.\n",
        "\n",
        "These histograms provide an updated view of the data's distribution after handling the missing values, highlighting the impact of the imputation method on the data's characteristics."
      ]
    },
    {
      "cell_type": "code",
      "execution_count": null,
      "id": "06cc044f",
      "metadata": {
        "id": "06cc044f"
      },
      "outputs": [],
      "source": [
        "cols = ['ET_GazeLeftx', 'ET_GazeLefty',\n",
        "       'ET_GazeRightx', 'ET_GazeRighty', 'ET_PupilLeft', 'ET_PupilRight',\n",
        "       'ET_TimeSignal', 'ET_DistanceLeft', 'ET_DistanceRight',\n",
        "       'ET_CameraLeftX', 'ET_CameraLeftY', 'ET_CameraRightX',\n",
        "       'ET_CameraRightY', 'ET_ValidityLeft', 'ET_ValidityRight',\n",
        "       'ET_PupilLeft_validity', 'ET_PupilRight_validity']"
      ]
    },
    {
      "cell_type": "code",
      "execution_count": null,
      "id": "6a203cef",
      "metadata": {
        "id": "6a203cef"
      },
      "outputs": [],
      "source": [
        "for col in cols:\n",
        "    # Add a markdown cell before each plot for better separation and labeling\n",
        "    display(Markdown(f'### {col} over Time'))\n",
        "    plt.figure(figsize=(16, 10))\n",
        "    plt.plot(df_3_EYE['Timestamp'], df_3_EYE[col])\n",
        "    plt.xlabel(\"Timestamp\") # Add x-axis label\n",
        "    plt.ylabel(col) # Add y-axis label\n",
        "    plt.show()"
      ]
    },
    {
      "cell_type": "markdown",
      "id": "4f7a5769",
      "metadata": {
        "id": "4f7a5769"
      },
      "source": [
        "# Observations from Time Series Plots After Imputation\n",
        "\n",
        "The line plots generated after imputing the missing values with the mean show the temporal patterns of the features with the missing data handled. Key observations from these updated plots include:\n",
        "\n",
        "- The gaps or flat lines at -1, which were prominent in the plots for columns like gaze coordinates, pupil size, distance, and camera position, are now filled by lines at the mean value of the respective columns.\n",
        "- The plots for the validity columns remain the same as they were handled separately.\n",
        "- The `ET_TimeSignal` plot still shows a steady increasing trend, as expected."
      ]
    },
    {
      "cell_type": "code",
      "execution_count": null,
      "id": "bf21595e",
      "metadata": {
        "id": "bf21595e"
      },
      "outputs": [],
      "source": [
        "plt.figure(figsize=(16, 10))\n",
        "sns.heatmap(df_3_EYE.corr(numeric_only=True), cmap='YlGnBu', annot=True)\n",
        "plt.show()"
      ]
    },
    {
      "cell_type": "markdown",
      "id": "6dbb89c4",
      "metadata": {
        "id": "6dbb89c4"
      },
      "source": [
        "# Observations from Correlation Heatmap\n",
        "\n",
        "The correlation heatmap provides a visual representation of the pairwise correlations between the numeric columns in the dataset. Key observations from the heatmap include:\n",
        "\n",
        "- **High Positive Correlations:** We observe strong positive correlations (values close to 1) between:\n",
        "  - `ET_GazeLeftx` and `ET_GazeRightx`: This is expected as the gaze positions of both eyes should be highly correlated when fixating on a point.\n",
        "  - `ET_GazeLefty` and `ET_GazeRighty`: Similar to the x-coordinates, the y-coordinates of gaze should also be highly correlated.\n",
        "  - `ET_PupilLeft` and `ET_PupilRight`: Pupil sizes of both eyes tend to change together in response to light and cognitive load.\n",
        "  - `ET_DistanceLeft` and `ET_DistanceRight`: The distance from the eye tracker to each eye should be highly correlated.\n",
        "  - `ET_CameraLeftX` and `ET_CameraRightX`, `ET_CameraLeftY` and `ET_CameraRightY`: The camera positions for both eyes are also expected to be highly correlated.\n",
        "  - `UnixTime` and `ET_TimeSignal`: As previously noted, these two columns are almost perfectly linearly correlated, indicating redundancy.\n",
        "  - `ET_ValidityLeft` and `ET_PupilLeft_validity`: There is a positive correlation, suggesting that when the overall left eye data is invalid, the left pupil data is also likely to be invalid.\n",
        "  - `ET_ValidityRight` and `ET_PupilRight_validity`: Similar to the left eye, there is a positive correlation between the overall right eye validity and the right pupil validity.\n",
        "- **Other Correlations:** We can also observe other varying degrees of correlations between different features, which can provide insights into the relationships between gaze behavior, pupil size, distance, and camera position. For example, there might be correlations between gaze coordinates and camera positions, reflecting head movements.\n",
        "- **Low or Near-Zero Correlations:** Columns with low or near-zero correlations are relatively independent of each other.\n",
        "\n",
        "Understanding these correlations is important for feature selection and for building models, as highly correlated features might indicate multicollinearity, while correlations between features can reveal underlying patterns in the data."
      ]
    },
    {
      "cell_type": "markdown",
      "id": "2974ed99",
      "metadata": {
        "id": "2974ed99"
      },
      "source": [
        "# Analysis of ET_TimeSignal and Decision to Drop\n",
        "\n",
        "As observed in the time series plot and confirmed by the correlation heatmap, the `ET_TimeSignal` column exhibits a near-perfect linear relationship with both the `Timestamp` and `UnixTime` columns. This strong correlation (close to 1) suggests that `ET_TimeSignal` is essentially redundant and likely represents another form of time recording or a signal directly derived from the timestamp.\n",
        "\n",
        "Including highly correlated features like this in a dataset can lead to issues such as multicollinearity in some statistical models, which can make it difficult to interpret the individual impact of each feature. Since the `Timestamp` column already provides the necessary temporal information, retaining `ET_TimeSignal` does not appear to add significant value for further analysis or modeling in most cases.\n",
        "\n",
        "Therefore, based on its high correlation and lack of unique insight, we will proceed to drop the `ET_TimeSignal` column to simplify the dataset and potentially improve the performance and interpretability of future analyses."
      ]
    },
    {
      "cell_type": "code",
      "execution_count": null,
      "id": "94b735b6",
      "metadata": {
        "id": "94b735b6"
      },
      "outputs": [],
      "source": [
        "df_3_EYE.drop('ET_TimeSignal', axis=1, inplace=True)"
      ]
    },
    {
      "cell_type": "code",
      "execution_count": null,
      "id": "26d7abbe",
      "metadata": {
        "id": "26d7abbe"
      },
      "outputs": [],
      "source": [
        "plt.figure(figsize=(16, 10))\n",
        "sns.pairplot(df_3_EYE)\n",
        "plt.show()"
      ]
    },
    {
      "cell_type": "markdown",
      "id": "f925e348",
      "metadata": {
        "id": "f925e348"
      },
      "source": [
        "# **4_EYE**"
      ]
    },
    {
      "cell_type": "code",
      "execution_count": null,
      "id": "fa2f2e8f",
      "metadata": {
        "id": "fa2f2e8f"
      },
      "outputs": [],
      "source": [
        "df_4_EYE = pd.read_csv('data/STData/4/4_EYE.csv')"
      ]
    },
    {
      "cell_type": "code",
      "execution_count": null,
      "id": "28eec37d",
      "metadata": {
        "id": "28eec37d"
      },
      "outputs": [],
      "source": [
        "df_4_EYE.head()"
      ]
    },
    {
      "cell_type": "code",
      "execution_count": null,
      "id": "99585107",
      "metadata": {
        "id": "99585107"
      },
      "outputs": [],
      "source": [
        "df_4_EYE.shape"
      ]
    },
    {
      "cell_type": "code",
      "execution_count": null,
      "id": "9eb2cad4",
      "metadata": {
        "id": "9eb2cad4"
      },
      "outputs": [],
      "source": [
        "df_4_EYE.columns"
      ]
    },
    {
      "cell_type": "code",
      "execution_count": null,
      "id": "687927e8",
      "metadata": {
        "id": "687927e8"
      },
      "outputs": [],
      "source": [
        "df_4_EYE.info()"
      ]
    },
    {
      "cell_type": "code",
      "execution_count": null,
      "id": "22bdec24",
      "metadata": {
        "id": "22bdec24"
      },
      "outputs": [],
      "source": [
        "df_4_EYE.isnull().sum()"
      ]
    },
    {
      "cell_type": "code",
      "execution_count": null,
      "id": "790871ae",
      "metadata": {
        "id": "790871ae"
      },
      "outputs": [],
      "source": [
        "plt.figure(figsize=(12,8))\n",
        "sns.heatmap(df_4_EYE.isnull(), cmap='viridis')\n",
        "plt.show()"
      ]
    },
    {
      "cell_type": "markdown",
      "id": "6778d6b0",
      "metadata": {
        "id": "6778d6b0"
      },
      "source": [
        "# Notes & Observations\n",
        "\n",
        "- We observe many **null** (or missing) values in the `QuestionKey` columns.\n",
        "- The nulls in the `QuestionKey` column may not represent “true” nulls. Rather, they follow interval patterns, suggesting that during those periods no question was displayed.\n",
        "- These missing values in `QuestionKey` require additional investigation and context-aware handling."
      ]
    },
    {
      "cell_type": "code",
      "execution_count": null,
      "id": "56d1142e",
      "metadata": {
        "id": "56d1142e"
      },
      "outputs": [],
      "source": [
        "df_4_EYE['QuestionKey'].unique()"
      ]
    },
    {
      "cell_type": "code",
      "execution_count": null,
      "id": "d1e95184",
      "metadata": {
        "id": "d1e95184"
      },
      "outputs": [],
      "source": [
        "df_4_EYE['Timestamp'] = pd.to_datetime(df_4_EYE['Timestamp'])"
      ]
    },
    {
      "cell_type": "code",
      "execution_count": null,
      "id": "0d4265fa",
      "metadata": {
        "id": "0d4265fa"
      },
      "outputs": [],
      "source": [
        "df_4_EYE.head(3)"
      ]
    },
    {
      "cell_type": "code",
      "execution_count": null,
      "id": "3595fb86",
      "metadata": {
        "id": "3595fb86"
      },
      "outputs": [],
      "source": [
        "df_4_EYE['QuestionKey'] = df_4_EYE['QuestionKey'].fillna('None')"
      ]
    },
    {
      "cell_type": "code",
      "execution_count": null,
      "id": "4788fc0c",
      "metadata": {
        "id": "4788fc0c"
      },
      "outputs": [],
      "source": [
        "df_4_EYE['QuestionKey'].value_counts()"
      ]
    },
    {
      "cell_type": "code",
      "execution_count": null,
      "id": "9d92c66c",
      "metadata": {
        "id": "9d92c66c"
      },
      "outputs": [],
      "source": [
        "plt.figure(figsize=(12,8))\n",
        "sns.heatmap(df_4_EYE.isnull(), cmap='viridis')\n",
        "plt.show()"
      ]
    },
    {
      "cell_type": "code",
      "execution_count": null,
      "id": "2ee07404",
      "metadata": {
        "id": "2ee07404"
      },
      "outputs": [],
      "source": [
        "df_4_EYE.isnull().sum()"
      ]
    },
    {
      "cell_type": "code",
      "execution_count": null,
      "id": "8aa30aa1",
      "metadata": {
        "id": "8aa30aa1"
      },
      "outputs": [],
      "source": [
        "df_4_EYE.dropna(inplace=True)"
      ]
    },
    {
      "cell_type": "code",
      "execution_count": null,
      "id": "b286b807",
      "metadata": {
        "id": "b286b807"
      },
      "outputs": [],
      "source": [
        "df_4_EYE.head()"
      ]
    },
    {
      "cell_type": "code",
      "execution_count": null,
      "id": "6577e66e",
      "metadata": {
        "id": "6577e66e"
      },
      "outputs": [],
      "source": [
        "df_4_EYE['Row'].unique()"
      ]
    },
    {
      "cell_type": "code",
      "execution_count": null,
      "id": "86774a61",
      "metadata": {
        "id": "86774a61"
      },
      "outputs": [],
      "source": [
        "plt.figure(figsize=(8,6))\n",
        "sns.histplot(df_4_EYE['Row'])\n",
        "plt.show()"
      ]
    },
    {
      "cell_type": "markdown",
      "id": "2e573141",
      "metadata": {
        "id": "2e573141"
      },
      "source": [
        "# Notes & Observations\n",
        "\n",
        "- The `Row` column appears to be a simple row index and does not provide meaningful information relevant to the eye-tracking data itself. Therefore, it can be dropped."
      ]
    },
    {
      "cell_type": "code",
      "execution_count": null,
      "id": "72565d1d",
      "metadata": {
        "id": "72565d1d"
      },
      "outputs": [],
      "source": [
        "df_4_EYE.drop('Row', axis=1, inplace=True)"
      ]
    },
    {
      "cell_type": "code",
      "execution_count": null,
      "id": "ff5af4ab",
      "metadata": {
        "id": "ff5af4ab"
      },
      "outputs": [],
      "source": [
        "df_4_EYE['ET_ValidityLeft'].unique()"
      ]
    },
    {
      "cell_type": "code",
      "execution_count": null,
      "id": "1f268f28",
      "metadata": {
        "id": "1f268f28"
      },
      "outputs": [],
      "source": [
        "df_4_EYE['ET_ValidityLeft'].value_counts()"
      ]
    },
    {
      "cell_type": "code",
      "execution_count": null,
      "id": "f40799a2",
      "metadata": {
        "id": "f40799a2"
      },
      "outputs": [],
      "source": [
        "df_4_EYE['ET_ValidityRight'].unique()"
      ]
    },
    {
      "cell_type": "code",
      "execution_count": null,
      "id": "fd630a1d",
      "metadata": {
        "id": "fd630a1d"
      },
      "outputs": [],
      "source": [
        "df_4_EYE['ET_ValidityRight'].value_counts()"
      ]
    },
    {
      "cell_type": "code",
      "execution_count": null,
      "id": "199c675f",
      "metadata": {
        "id": "199c675f"
      },
      "outputs": [],
      "source": [
        "plt.figure(figsize=(12, 6))\n",
        "\n",
        "plt.subplot(1, 2, 1)\n",
        "sns.barplot(x=df_4_EYE['ET_ValidityLeft'].value_counts().index, y=df_4_EYE['ET_ValidityLeft'].value_counts().values)\n",
        "plt.title('Count of ET_ValidityLeft')\n",
        "plt.xlabel('Validity')\n",
        "plt.ylabel('Count')\n",
        "\n",
        "\n",
        "plt.subplot(1, 2, 2)\n",
        "sns.barplot(x=df_4_EYE['ET_ValidityRight'].value_counts().index, y=df_4_EYE['ET_ValidityRight'].value_counts().values)\n",
        "plt.title('Count of ET_ValidityRight')\n",
        "plt.xlabel('Validity')\n",
        "plt.ylabel('Count')\n",
        "\n",
        "plt.tight_layout()\n",
        "plt.show()"
      ]
    },
    {
      "cell_type": "markdown",
      "id": "ae9f8732",
      "metadata": {
        "id": "ae9f8732"
      },
      "source": [
        "# Notes & Observations\n",
        "\n",
        "- The `ET_ValidityLeft` and `ET_ValidityRight` columns indicate the validity of the eye-tracking data for the left and right eye, respectively.\n",
        "- Based on the value counts and the bar plots, it appears that a value of `0.0` represents valid eye-tracking data, while a value of `4.0` represents invalid data.\n",
        "- Although the amount of invalid data is relatively small, removing these rows could introduce unwanted patterns or gaps in the time series data.\n",
        "- Therefore, we will keep the data and replace the value `4.0` with `1.0` in both `ET_ValidityLeft` and `ET_ValidityRight` columns. This will indicate to a machine learning model that the eye tracker had invalid data at those specific points in time while maintaining the integrity of the time series."
      ]
    },
    {
      "cell_type": "markdown",
      "id": "1b985449",
      "metadata": {
        "id": "1b985449"
      },
      "source": [
        "Define a mapping to convert validity values from `0.0` and `4.0` to `0` and `1`."
      ]
    },
    {
      "cell_type": "code",
      "execution_count": null,
      "id": "71702755",
      "metadata": {
        "id": "71702755"
      },
      "outputs": [],
      "source": [
        "validity_map = {4.0: 1.0, 0.0: 0.0}"
      ]
    },
    {
      "cell_type": "code",
      "execution_count": null,
      "id": "86510c68",
      "metadata": {
        "id": "86510c68"
      },
      "outputs": [],
      "source": [
        "df_4_EYE['ET_ValidityLeft'] = df_4_EYE['ET_ValidityLeft'].map(validity_map).astype(np.int8)\n",
        "df_4_EYE['ET_ValidityRight'] = df_4_EYE['ET_ValidityRight'].map(validity_map).astype(np.int8)"
      ]
    },
    {
      "cell_type": "code",
      "execution_count": null,
      "id": "fb5dcc54",
      "metadata": {
        "id": "fb5dcc54"
      },
      "outputs": [],
      "source": [
        "df_4_EYE.head(3)"
      ]
    },
    {
      "cell_type": "code",
      "execution_count": null,
      "id": "b6ae2ee2",
      "metadata": {
        "id": "b6ae2ee2"
      },
      "outputs": [],
      "source": [
        "df_4_EYE.describe()"
      ]
    },
    {
      "cell_type": "code",
      "execution_count": null,
      "id": "4c558e41",
      "metadata": {
        "id": "4c558e41"
      },
      "outputs": [],
      "source": [
        "df_4_EYE[df_4_EYE['ET_ValidityLeft'] == 1].shape"
      ]
    },
    {
      "cell_type": "code",
      "execution_count": null,
      "id": "5f30e14b",
      "metadata": {
        "id": "5f30e14b"
      },
      "outputs": [],
      "source": [
        "df_4_EYE[df_4_EYE['ET_ValidityRight'] == 1].shape"
      ]
    },
    {
      "cell_type": "code",
      "execution_count": null,
      "id": "a3fb74b9",
      "metadata": {
        "id": "a3fb74b9"
      },
      "outputs": [],
      "source": [
        "df_4_EYE[df_4_EYE['ET_ValidityLeft'] == 1].shape[0] / df_4_EYE.shape[0]"
      ]
    },
    {
      "cell_type": "code",
      "execution_count": null,
      "id": "65a6d5d7",
      "metadata": {
        "id": "65a6d5d7"
      },
      "outputs": [],
      "source": [
        "df_4_EYE[df_4_EYE['ET_ValidityRight'] == 1].shape[0] / df_4_EYE.shape[0]"
      ]
    },
    {
      "cell_type": "code",
      "execution_count": null,
      "id": "645e7bc3",
      "metadata": {
        "id": "645e7bc3"
      },
      "outputs": [],
      "source": [
        "plt.figure(figsize=(18, 8))\n",
        "\n",
        "plt.subplot(1, 2, 1)\n",
        "sns.heatmap(df_4_EYE == -1, cmap='viridis')\n",
        "plt.title('Heatmap of -1 Values')\n",
        "\n",
        "plt.subplot(1, 2, 2)\n",
        "sns.heatmap(df_4_EYE == 1, cmap='viridis')\n",
        "plt.title('Heatmap of 1 Values')\n",
        "\n",
        "plt.tight_layout()\n",
        "plt.show()"
      ]
    },
    {
      "cell_type": "code",
      "execution_count": null,
      "id": "e6a19cea",
      "metadata": {
        "id": "e6a19cea"
      },
      "outputs": [],
      "source": [
        "df_4_EYE[df_4_EYE['ET_PupilLeft'] == -1].shape"
      ]
    },
    {
      "cell_type": "code",
      "execution_count": null,
      "id": "23a489c0",
      "metadata": {
        "id": "23a489c0"
      },
      "outputs": [],
      "source": [
        "df_4_EYE[df_4_EYE['ET_PupilRight'] == -1].shape"
      ]
    },
    {
      "cell_type": "code",
      "execution_count": null,
      "id": "0db65fd8",
      "metadata": {
        "id": "0db65fd8"
      },
      "outputs": [],
      "source": [
        "df_4_EYE[df_4_EYE['ET_PupilLeft'] == -1].shape[0] / df_4_EYE.shape[0]"
      ]
    },
    {
      "cell_type": "code",
      "execution_count": null,
      "id": "84cfb9cd",
      "metadata": {
        "id": "84cfb9cd"
      },
      "outputs": [],
      "source": [
        "df_4_EYE[df_4_EYE['ET_PupilRight'] == -1].shape[0] / df_4_EYE.shape[0]"
      ]
    },
    {
      "cell_type": "code",
      "execution_count": null,
      "id": "b73438e2",
      "metadata": {
        "id": "b73438e2"
      },
      "outputs": [],
      "source": [
        "plt.figure(figsize=(18, 8))\n",
        "\n",
        "plt.subplot(1, 2, 1)\n",
        "sns.heatmap(df_4_EYE[df_4_EYE['ET_ValidityLeft'] == 1] == -1, cmap='viridis')\n",
        "plt.title('Heatmap of -1 Values')\n",
        "\n",
        "plt.subplot(1, 2, 2)\n",
        "sns.heatmap(df_4_EYE[df_4_EYE['ET_ValidityRight'] == 1] == -1, cmap='viridis')\n",
        "plt.title('Heatmap of -1 Values')\n",
        "\n",
        "plt.tight_layout()\n",
        "plt.show()"
      ]
    },
    {
      "cell_type": "markdown",
      "id": "dd58b31e",
      "metadata": {
        "id": "dd58b31e"
      },
      "source": [
        "# Notes & Observations\n",
        "\n",
        "- The heatmaps reveal the distribution of -1 values across different columns.\n",
        "- It is evident that the `-1` values are not randomly scattered but appear in specific columns, notably `ET_GazeLeftx`, `ET_GazeLefty`, `ET_GazeRightx`, `ET_GazeRighty`, `ET_PupilLeft`, `ET_PupilRight`, `ET_DistanceLeft`, `ET_DistanceRight`, `ET_CameraLeftX`, `ET_CameraLeftY`, `ET_CameraRightX`, and `ET_CameraRightY`.\n",
        "- These `-1` values often coincide with instances where `ET_ValidityLeft` or `ET_ValidityRight` is 1, indicating invalid eye-tracking data. This suggests that `-1` is used as a placeholder for missing or invalid measurements in these columns when the eye tracker is not providing valid data for a particular eye.\n",
        "- Given that over 70% of the data in the `ET_PupilLeft` and `ET_PupilRight` columns is marked as invalid (-1), so instead of dropping them we can create new feature for both the `ET_PupilLeft` and `ET_PupilRight` to represent which row consist invalid `ET_PupilLeft` and `ET_PupilRight` data"
      ]
    },
    {
      "cell_type": "code",
      "execution_count": null,
      "id": "22cd0a40",
      "metadata": {
        "id": "22cd0a40"
      },
      "outputs": [],
      "source": [
        "pupil_validity = {-1: 1 }"
      ]
    },
    {
      "cell_type": "code",
      "execution_count": null,
      "id": "36efa905",
      "metadata": {
        "id": "36efa905"
      },
      "outputs": [],
      "source": [
        "df_4_EYE['ET_PupilLeft_validity'] = df_4_EYE['ET_PupilLeft'].map(pupil_validity)"
      ]
    },
    {
      "cell_type": "code",
      "execution_count": null,
      "id": "6d86e690",
      "metadata": {
        "id": "6d86e690"
      },
      "outputs": [],
      "source": [
        "df_4_EYE['ET_PupilRight_validity'] = df_4_EYE['ET_PupilRight'].map(pupil_validity)"
      ]
    },
    {
      "cell_type": "code",
      "execution_count": null,
      "id": "5dc8e8bc",
      "metadata": {
        "id": "5dc8e8bc"
      },
      "outputs": [],
      "source": [
        "df_4_EYE[['ET_PupilLeft_validity', 'ET_PupilRight_validity']].head()"
      ]
    },
    {
      "cell_type": "code",
      "execution_count": null,
      "id": "92ab54fc",
      "metadata": {
        "id": "92ab54fc"
      },
      "outputs": [],
      "source": [
        "df_4_EYE[['ET_PupilLeft_validity', 'ET_PupilRight_validity']].isnull().sum()"
      ]
    },
    {
      "cell_type": "code",
      "execution_count": null,
      "id": "82c98c6f",
      "metadata": {
        "id": "82c98c6f"
      },
      "outputs": [],
      "source": [
        "plt.figure(figsize=(18, 8))\n",
        "sns.heatmap(df_4_EYE[['ET_PupilLeft_validity', 'ET_PupilRight_validity']].isnull(), cmap='viridis')\n",
        "plt.show()"
      ]
    },
    {
      "cell_type": "code",
      "execution_count": null,
      "id": "544774b0",
      "metadata": {
        "id": "544774b0"
      },
      "outputs": [],
      "source": [
        "df_4_EYE['ET_PupilLeft_validity'] = df_4_EYE['ET_PupilLeft_validity'].fillna(0)"
      ]
    },
    {
      "cell_type": "code",
      "execution_count": null,
      "id": "7c66f644",
      "metadata": {
        "id": "7c66f644"
      },
      "outputs": [],
      "source": [
        "df_4_EYE['ET_PupilRight_validity'] = df_4_EYE['ET_PupilRight_validity'].fillna(0)"
      ]
    },
    {
      "cell_type": "code",
      "execution_count": null,
      "id": "8caf89fa",
      "metadata": {
        "id": "8caf89fa"
      },
      "outputs": [],
      "source": [
        "df_4_EYE[['ET_PupilLeft_validity', 'ET_PupilRight_validity']].head()"
      ]
    },
    {
      "cell_type": "code",
      "execution_count": null,
      "id": "eea619e1",
      "metadata": {
        "id": "eea619e1"
      },
      "outputs": [],
      "source": [
        "plt.figure(figsize=(18, 8))\n",
        "sns.heatmap(df_4_EYE[['ET_PupilLeft_validity', 'ET_PupilRight_validity']].isnull(), cmap='viridis')\n",
        "plt.show()"
      ]
    },
    {
      "cell_type": "code",
      "execution_count": null,
      "id": "e98d187f",
      "metadata": {
        "id": "e98d187f"
      },
      "outputs": [],
      "source": [
        "df_4_EYE.head()"
      ]
    },
    {
      "cell_type": "code",
      "execution_count": null,
      "id": "6d74435d",
      "metadata": {
        "id": "6d74435d"
      },
      "outputs": [],
      "source": [
        "plt.figure(figsize=(18, 8))\n",
        "\n",
        "plt.subplot(1, 2, 1)\n",
        "sns.heatmap(df_4_EYE == -1, cmap='viridis')\n",
        "plt.title('Heatmap of -1 Values')\n",
        "\n",
        "plt.subplot(1, 2, 2)\n",
        "sns.heatmap(df_4_EYE == 1, cmap='viridis')\n",
        "plt.title('Heatmap of -1 Values')\n",
        "\n",
        "plt.tight_layout()\n",
        "plt.show()"
      ]
    },
    {
      "cell_type": "code",
      "execution_count": null,
      "id": "3018b25c",
      "metadata": {
        "id": "3018b25c"
      },
      "outputs": [],
      "source": [
        "valid_left_ratio  = 1 - df_4_EYE['ET_ValidityLeft'].mean()"
      ]
    },
    {
      "cell_type": "code",
      "execution_count": null,
      "id": "43cc11a2",
      "metadata": {
        "id": "43cc11a2"
      },
      "outputs": [],
      "source": [
        "valid_left_ratio"
      ]
    },
    {
      "cell_type": "code",
      "execution_count": null,
      "id": "df3ed029",
      "metadata": {
        "id": "df3ed029"
      },
      "outputs": [],
      "source": [
        "valid_right_ratio = 1 - df_4_EYE['ET_ValidityRight'].mean()"
      ]
    },
    {
      "cell_type": "code",
      "execution_count": null,
      "id": "c6a64c51",
      "metadata": {
        "id": "c6a64c51"
      },
      "outputs": [],
      "source": [
        "valid_right_ratio"
      ]
    },
    {
      "cell_type": "code",
      "execution_count": null,
      "id": "ddf8e95f",
      "metadata": {
        "id": "ddf8e95f"
      },
      "outputs": [],
      "source": [
        "df_4_EYE['ET_PupilLeft_validity'] = df_4_EYE['ET_PupilLeft_validity'].astype(np.int8)\n",
        "df_4_EYE['ET_PupilRight_validity'] = df_4_EYE['ET_PupilRight_validity'].astype(np.int8)"
      ]
    },
    {
      "cell_type": "markdown",
      "id": "6a436a0a",
      "metadata": {
        "id": "6a436a0a"
      },
      "source": [
        "# Feature Engineering and Observations\n",
        "\n",
        "Based on the analysis of the data, we've created two new features, `ET_PupilLeft_validity` and `ET_PupilRight_validity`. These features indicate the validity of the pupil data for the left and right eyes, respectively, with a value of 1 representing invalid data (originally -1) and 0 representing valid data.\n",
        "\n",
        "The heatmaps above visually demonstrate the distribution of -1 and 1 values across the dataset. We observed that:\n",
        "- The `-1` values are concentrated in specific columns related to gaze, pupil size, distance, and camera position, suggesting they represent missing or invalid sensor readings.\n",
        "- The `1` values, after mapping from `4.0` in the original validity columns, indicate instances of invalid eye-tracking data.\n",
        "- The heatmaps also show a strong correlation between the `-1` values in the pupil columns and a validity of 1 in the newly created pupil validity features, confirming that -1 was used to mark invalid pupil data."
      ]
    },
    {
      "cell_type": "code",
      "execution_count": null,
      "id": "21d63751",
      "metadata": {
        "id": "21d63751"
      },
      "outputs": [],
      "source": [
        "df_4_EYE.head()"
      ]
    },
    {
      "cell_type": "code",
      "execution_count": null,
      "id": "d3049e60",
      "metadata": {
        "id": "d3049e60"
      },
      "outputs": [],
      "source": [
        "# Select only the numeric columns for plotting histograms, excluding time-related columns\n",
        "numeric_cols = df_4_EYE.select_dtypes(include=np.number).columns\n",
        "cols_to_plot = [col for col in numeric_cols if col not in ['UnixTime']]\n",
        "\n",
        "# Calculate the number of rows and columns for the grid\n",
        "n_cols = 4  # You can adjust the number of columns as needed\n",
        "n_rows = (len(cols_to_plot) + n_cols - 1) // n_cols\n",
        "\n",
        "plt.figure(figsize=(n_cols * 5, n_rows * 4)) # Adjust figure size as needed\n",
        "\n",
        "for i, col in enumerate(cols_to_plot):\n",
        "    plt.subplot(n_rows, n_cols, i + 1)\n",
        "    sns.histplot(df_4_EYE[col], kde=True)\n",
        "    plt.title(f'Distribution of {col}')\n",
        "    plt.xlabel(col)\n",
        "    plt.ylabel('Frequency')\n",
        "\n",
        "plt.tight_layout()\n",
        "plt.show()"
      ]
    },
    {
      "cell_type": "markdown",
      "id": "16613edf",
      "metadata": {
        "id": "16613edf"
      },
      "source": [
        "# Observations from Histograms\n",
        "\n",
        "The grid of histograms provides insights into the distribution of values for each numeric column in the dataset (excluding 'UnixTime'). Key observations include:\n",
        "\n",
        "- Several columns, such as `ET_GazeLeftx`, `ET_GazeLefty`, `ET_GazeRightx`, and `ET_GazeRighty`, show distributions that appear somewhat multimodal or skewed, suggesting variations in gaze patterns.\n",
        "- The `ET_PupilLeft` and `ET_PupilRight` histograms clearly show a peak at -1, confirming the presence of a significant number of invalid pupil readings.\n",
        "- `ET_TimeSignal` shows a relatively uniform distribution, as expected for a time-based signal.\n",
        "- `ET_DistanceLeft` and `ET_DistanceRight` appear to have distributions centered around certain values, with some outliers or variations.\n",
        "- The camera position columns (`ET_CameraLeftX`, `ET_CameraLeftY`, `ET_CameraRightX`, `ET_CameraRightY`) seem to have distributions concentrated within specific ranges, reflecting the camera's field of view.\n",
        "- The validity columns (`ET_ValidityLeft`, `ET_ValidityRight`, `ET_PupilLeft_validity`, `ET_PupilRight_validity`) show distributions dominated by 0, indicating that most of the data is considered valid after the mapping. The smaller peaks at 1 represent the instances of invalid data.\n",
        "\n",
        "These distributions highlight the need for appropriate handling of the -1 values and potential outliers in subsequent analysis or modeling steps."
      ]
    },
    {
      "cell_type": "code",
      "execution_count": null,
      "id": "4e7a294f",
      "metadata": {
        "id": "4e7a294f"
      },
      "outputs": [],
      "source": [
        "df_4_EYE.columns"
      ]
    },
    {
      "cell_type": "code",
      "execution_count": null,
      "id": "62f56c52",
      "metadata": {
        "id": "62f56c52"
      },
      "outputs": [],
      "source": [
        "cols = ['ET_GazeLeftx', 'ET_GazeLefty',\n",
        "       'ET_GazeRightx', 'ET_GazeRighty', 'ET_PupilLeft', 'ET_PupilRight',\n",
        "       'ET_TimeSignal', 'ET_DistanceLeft', 'ET_DistanceRight',\n",
        "       'ET_CameraLeftX', 'ET_CameraLeftY', 'ET_CameraRightX',\n",
        "       'ET_CameraRightY', 'ET_ValidityLeft', 'ET_ValidityRight',\n",
        "       'ET_PupilLeft_validity', 'ET_PupilRight_validity']"
      ]
    },
    {
      "cell_type": "code",
      "execution_count": null,
      "id": "2a5f49b9",
      "metadata": {
        "id": "2a5f49b9"
      },
      "outputs": [],
      "source": [
        "from IPython.display import display, Markdown\n",
        "\n",
        "for col in cols:\n",
        "    # Add a markdown cell before each plot for better separation and labeling\n",
        "    display(Markdown(f'### {col} over Time'))\n",
        "    plt.figure(figsize=(16, 10))\n",
        "    plt.plot(df_4_EYE['Timestamp'], df_4_EYE[col])\n",
        "    plt.xlabel(\"Timestamp\") # Add x-axis label\n",
        "    plt.ylabel(col) # Add y-axis label\n",
        "    plt.show()"
      ]
    },
    {
      "cell_type": "markdown",
      "id": "9a97d5cb",
      "metadata": {
        "id": "9a97d5cb"
      },
      "source": [
        "# Observations from Time Series Plots\n",
        "\n",
        "The line plots showing various features against the `Timestamp` reveal the temporal patterns and fluctuations in the eye-tracking data. Key observations include:\n",
        "\n",
        "- **Gaze Coordinates (`ET_GazeLeftx`, `ET_GazeLefty`, `ET_GazeRightx`, `ET_GazeRighty`):** These plots show the changes in gaze position over time. We can observe periods of relatively stable gaze interspersed with rapid movements (saccades) and blinks or other events where the gaze data might be invalid (-1 values appear as gaps or spikes if not handled).\n",
        "- **Pupil Size (`ET_PupilLeft`, `ET_PupilRight`):** The pupil size plots show variations over time. The presence of many -1 values is evident as flat lines at the bottom of the plot, indicating periods where pupil data was not recorded or was invalid.\n",
        "- **Time Signal (`ET_TimeSignal`):** This plot shows a steady, increasing trend, as expected for a time-based signal.\n",
        "- **Distance and Camera Position (`ET_DistanceLeft`, `ET_DistanceRight`, `ET_CameraLeftX`, `ET_CameraLeftY`, `ET_CameraRightX`, `ET_CameraRightY`):** These plots show how the distance from the eye tracker and the camera positions change over time. Variations in these features can be related to head movements or changes in the user's position relative to the eye tracker.\n",
        "- **Validity (`ET_ValidityLeft`, `ET_ValidityRight`, `ET_PupilLeft_validity`, `ET_PupilRight_validity`):** These plots clearly show periods of invalid data (represented by 1) as spikes or plateaus, corresponding to instances where the eye tracker lost track of the eyes or the pupil data was marked as invalid.\n",
        "\n",
        "Analyzing these time series plots is crucial for understanding the dynamics of the eye-tracking data and identifying patterns or anomalies that may require further investigation or specific handling during subsequent analysis."
      ]
    },
    {
      "cell_type": "code",
      "execution_count": null,
      "id": "814aa419",
      "metadata": {
        "id": "814aa419"
      },
      "outputs": [],
      "source": [
        "# Select only the numeric columns for plotting histograms, excluding time-related columns\n",
        "numeric_cols = df_4_EYE.select_dtypes(include=np.number).columns\n",
        "\n",
        "# Calculate the number of rows and columns for the grid\n",
        "n_cols = 4  # You can adjust the number of columns as needed\n",
        "n_rows = (len(numeric_cols) + n_cols - 1) // n_cols\n",
        "\n",
        "plt.figure(figsize=(n_cols * 5, n_rows * 4)) # Adjust figure size as needed\n",
        "\n",
        "for i, col in enumerate(numeric_cols):\n",
        "    plt.subplot(n_rows, n_cols, i + 1)\n",
        "    sns.boxplot(df_4_EYE[col])\n",
        "    plt.title(f'Boxplot of {col}')\n",
        "    plt.xlabel(col)\n",
        "\n",
        "plt.tight_layout()\n",
        "plt.show()"
      ]
    },
    {
      "cell_type": "markdown",
      "id": "ba54471a",
      "metadata": {
        "id": "ba54471a"
      },
      "source": [
        "# Observations from Boxplots and Handling -1 Values\n",
        "\n",
        "The boxplots provide a visual summary of the distribution and potential outliers for each numeric column. Key observations from the boxplots include:\n",
        "\n",
        "- The boxplots for columns like `ET_GazeLeftx`, `ET_GazeLefty`, `ET_GazeRightx`, `ET_GazeRighty`, `ET_PupilLeft`, `ET_PupilRight`, `ET_DistanceLeft`, `ET_DistanceRight`, `ET_CameraLeftX`, `ET_CameraLeftY`, `ET_CameraRightX`, and `ET_CameraRightY` clearly show the presence of -1 values as significant outliers, confirming our earlier observations from the heatmaps and histograms.\n",
        "- The boxplots for the validity columns (`ET_ValidityLeft`, `ET_ValidityRight`, `ET_PupilLeft_validity`, `ET_PupilRight_validity`) show the discrete nature of these features, with the majority of data points at 0 (valid) and a smaller number at 1 (invalid).\n",
        "\n",
        "Given the significant presence of -1 values, which represent invalid or missing data, especially in the pupil-related columns, we have decided to replace these -1 values with NaN to properly represent them as missing data. Subsequently, we will impute these missing values using the mean of each respective column. This approach helps to retain the data structure and allows for further analysis or modeling without the distortion caused by the -1 placeholders."
      ]
    },
    {
      "cell_type": "code",
      "execution_count": null,
      "id": "a539745f",
      "metadata": {
        "id": "a539745f"
      },
      "outputs": [],
      "source": [
        "df_4_EYE.replace({-1: np.nan}, inplace=True)"
      ]
    },
    {
      "cell_type": "code",
      "execution_count": null,
      "id": "1c5ff5fe",
      "metadata": {
        "id": "1c5ff5fe"
      },
      "outputs": [],
      "source": [
        "df_4_EYE[['ET_GazeLeftx', 'ET_GazeLefty',\n",
        "       'ET_GazeRightx', 'ET_GazeRighty', 'ET_PupilLeft', 'ET_PupilRight',\n",
        "       'ET_TimeSignal', 'ET_DistanceLeft', 'ET_DistanceRight',\n",
        "       'ET_CameraLeftX', 'ET_CameraLeftY', 'ET_CameraRightX',\n",
        "       'ET_CameraRightY', 'ET_ValidityLeft', 'ET_ValidityRight',\n",
        "       'ET_PupilLeft_validity', 'ET_PupilRight_validity']].mean()"
      ]
    },
    {
      "cell_type": "code",
      "execution_count": null,
      "id": "a9e04c90",
      "metadata": {
        "id": "a9e04c90"
      },
      "outputs": [],
      "source": [
        "df_4_EYE[['ET_GazeLeftx', 'ET_GazeLefty',\n",
        "       'ET_GazeRightx', 'ET_GazeRighty', 'ET_PupilLeft', 'ET_PupilRight',\n",
        "       'ET_TimeSignal', 'ET_DistanceLeft', 'ET_DistanceRight',\n",
        "       'ET_CameraLeftX', 'ET_CameraLeftY', 'ET_CameraRightX',\n",
        "       'ET_CameraRightY', 'ET_ValidityLeft', 'ET_ValidityRight',\n",
        "       'ET_PupilLeft_validity', 'ET_PupilRight_validity']].median()"
      ]
    },
    {
      "cell_type": "code",
      "execution_count": null,
      "id": "cb4cf9a5",
      "metadata": {
        "id": "cb4cf9a5"
      },
      "outputs": [],
      "source": [
        "numeric_cols = df_4_EYE.select_dtypes(include=np.number).columns\n",
        "\n",
        "for col in numeric_cols:\n",
        "    df_4_EYE[col] = df_4_EYE[col].fillna(df_4_EYE[col].mean())"
      ]
    },
    {
      "cell_type": "code",
      "execution_count": null,
      "id": "a899e42d",
      "metadata": {
        "id": "a899e42d"
      },
      "outputs": [],
      "source": [
        "plt.figure(figsize=(18, 8))\n",
        "\n",
        "plt.subplot(1, 2, 1)\n",
        "sns.heatmap(df_4_EYE.isnull(), cmap='viridis')\n",
        "plt.title('Heatmap of Missing Values After Imputation')\n",
        "\n",
        "plt.subplot(1, 2, 2)\n",
        "sns.heatmap(df_4_EYE == 1, cmap='viridis')\n",
        "plt.title('Heatmap of 1 Values')\n",
        "\n",
        "plt.tight_layout()\n",
        "plt.show()"
      ]
    },
    {
      "cell_type": "markdown",
      "id": "5c51e9bc",
      "metadata": {
        "id": "5c51e9bc"
      },
      "source": [
        "# Handling Missing Values (Imputation)\n",
        "\n",
        "As decided, we have replaced all the `-1` values with `NaN` to treat them as missing data. Subsequently, we have imputed these `NaN` values with the mean of their respective columns. The heatmap above, which was generated after the imputation, now shows no visible signs of `NaN` values, indicating that the imputation was successful."
      ]
    },
    {
      "cell_type": "code",
      "execution_count": null,
      "id": "4cb535f8",
      "metadata": {
        "id": "4cb535f8"
      },
      "outputs": [],
      "source": [
        "df_4_EYE.head()"
      ]
    },
    {
      "cell_type": "code",
      "execution_count": null,
      "id": "7febad06",
      "metadata": {
        "id": "7febad06"
      },
      "outputs": [],
      "source": [
        "# Select only the numeric columns for plotting histograms, excluding time-related columns\n",
        "numeric_cols = df_4_EYE.select_dtypes(include=np.number).columns\n",
        "cols_to_plot = [col for col in numeric_cols if col not in ['UnixTime']]\n",
        "\n",
        "# Calculate the number of rows and columns for the grid\n",
        "n_cols = 4  # You can adjust the number of columns as needed\n",
        "n_rows = (len(cols_to_plot) + n_cols - 1) // n_cols\n",
        "\n",
        "plt.figure(figsize=(n_cols * 5, n_rows * 4)) # Adjust figure size as needed\n",
        "\n",
        "for i, col in enumerate(cols_to_plot):\n",
        "    plt.subplot(n_rows, n_cols, i + 1)\n",
        "    sns.histplot(df_4_EYE[col], kde=True)\n",
        "    plt.title(f'Distribution of {col}')\n",
        "    plt.xlabel(col)\n",
        "    plt.ylabel('Frequency')\n",
        "\n",
        "plt.tight_layout()\n",
        "plt.show()"
      ]
    },
    {
      "cell_type": "markdown",
      "id": "b7448aeb",
      "metadata": {
        "id": "b7448aeb"
      },
      "source": [
        "# Observations from Histograms After Imputation\n",
        "\n",
        "The histograms generated after replacing the -1 values with the mean of each column show the distributions of the numeric features with the missing data handled. Key observations from these updated histograms include:\n",
        "\n",
        "- The distinct peaks at -1, which were prominent in the histograms for several columns (e.g., pupil size, gaze coordinates, distance, and camera position) before imputation, are now replaced by a peak at the mean of each respective column.\n",
        "- The distributions in many columns now appear more unimodal or show shifted modes compared to the original histograms.\n",
        "- The histograms for the validity columns still show their bimodal distributions with peaks at 0 and 1, as these were handled separately.\n",
        "\n",
        "These histograms provide an updated view of the data's distribution after handling the missing values, highlighting the impact of the imputation method on the data's characteristics."
      ]
    },
    {
      "cell_type": "code",
      "execution_count": null,
      "id": "0f35bf9c",
      "metadata": {
        "id": "0f35bf9c"
      },
      "outputs": [],
      "source": [
        "cols = ['ET_GazeLeftx', 'ET_GazeLefty',\n",
        "       'ET_GazeRightx', 'ET_GazeRighty', 'ET_PupilLeft', 'ET_PupilRight',\n",
        "       'ET_TimeSignal', 'ET_DistanceLeft', 'ET_DistanceRight',\n",
        "       'ET_CameraLeftX', 'ET_CameraLeftY', 'ET_CameraRightX',\n",
        "       'ET_CameraRightY', 'ET_ValidityLeft', 'ET_ValidityRight',\n",
        "       'ET_PupilLeft_validity', 'ET_PupilRight_validity']"
      ]
    },
    {
      "cell_type": "code",
      "execution_count": null,
      "id": "59558afb",
      "metadata": {
        "id": "59558afb"
      },
      "outputs": [],
      "source": [
        "for col in cols:\n",
        "    # Add a markdown cell before each plot for better separation and labeling\n",
        "    display(Markdown(f'### {col} over Time'))\n",
        "    plt.figure(figsize=(16, 10))\n",
        "    plt.plot(df_4_EYE['Timestamp'], df_4_EYE[col])\n",
        "    plt.xlabel(\"Timestamp\") # Add x-axis label\n",
        "    plt.ylabel(col) # Add y-axis label\n",
        "    plt.show()"
      ]
    },
    {
      "cell_type": "markdown",
      "id": "0452819d",
      "metadata": {
        "id": "0452819d"
      },
      "source": [
        "# Observations from Time Series Plots After Imputation\n",
        "\n",
        "The line plots generated after imputing the missing values with the mean show the temporal patterns of the features with the missing data handled. Key observations from these updated plots include:\n",
        "\n",
        "- The gaps or flat lines at -1, which were prominent in the plots for columns like gaze coordinates, pupil size, distance, and camera position, are now filled by lines at the mean value of the respective columns.\n",
        "- The plots for the validity columns remain the same as they were handled separately.\n",
        "- The `ET_TimeSignal` plot still shows a steady increasing trend, as expected."
      ]
    },
    {
      "cell_type": "code",
      "execution_count": null,
      "id": "0dfa69af",
      "metadata": {
        "id": "0dfa69af"
      },
      "outputs": [],
      "source": [
        "plt.figure(figsize=(16, 10))\n",
        "sns.heatmap(df_4_EYE.corr(numeric_only=True), cmap='YlGnBu', annot=True)\n",
        "plt.show()"
      ]
    },
    {
      "cell_type": "markdown",
      "id": "9679b048",
      "metadata": {
        "id": "9679b048"
      },
      "source": [
        "# Observations from Correlation Heatmap\n",
        "\n",
        "The correlation heatmap provides a visual representation of the pairwise correlations between the numeric columns in the dataset. Key observations from the heatmap include:\n",
        "\n",
        "- **High Positive Correlations:** We observe strong positive correlations (values close to 1) between:\n",
        "  - `ET_GazeLeftx` and `ET_GazeRightx`: This is expected as the gaze positions of both eyes should be highly correlated when fixating on a point.\n",
        "  - `ET_GazeLefty` and `ET_GazeRighty`: Similar to the x-coordinates, the y-coordinates of gaze should also be highly correlated.\n",
        "  - `ET_PupilLeft` and `ET_PupilRight`: Pupil sizes of both eyes tend to change together in response to light and cognitive load.\n",
        "  - `ET_DistanceLeft` and `ET_DistanceRight`: The distance from the eye tracker to each eye should be highly correlated.\n",
        "  - `ET_CameraLeftX` and `ET_CameraRightX`, `ET_CameraLeftY` and `ET_CameraRightY`: The camera positions for both eyes are also expected to be highly correlated.\n",
        "  - `UnixTime` and `ET_TimeSignal`: As previously noted, these two columns are almost perfectly linearly correlated, indicating redundancy.\n",
        "  - `ET_ValidityLeft` and `ET_PupilLeft_validity`: There is a positive correlation, suggesting that when the overall left eye data is invalid, the left pupil data is also likely to be invalid.\n",
        "  - `ET_ValidityRight` and `ET_PupilRight_validity`: Similar to the left eye, there is a positive correlation between the overall right eye validity and the right pupil validity.\n",
        "- **Other Correlations:** We can also observe other varying degrees of correlations between different features, which can provide insights into the relationships between gaze behavior, pupil size, distance, and camera position. For example, there might be correlations between gaze coordinates and camera positions, reflecting head movements.\n",
        "- **Low or Near-Zero Correlations:** Columns with low or near-zero correlations are relatively independent of each other.\n",
        "\n",
        "Understanding these correlations is important for feature selection and for building models, as highly correlated features might indicate multicollinearity, while correlations between features can reveal underlying patterns in the data."
      ]
    },
    {
      "cell_type": "markdown",
      "id": "515d54ff",
      "metadata": {
        "id": "515d54ff"
      },
      "source": [
        "# Analysis of ET_TimeSignal and Decision to Drop\n",
        "\n",
        "As observed in the time series plot and confirmed by the correlation heatmap, the `ET_TimeSignal` column exhibits a near-perfect linear relationship with both the `Timestamp` and `UnixTime` columns. This strong correlation (close to 1) suggests that `ET_TimeSignal` is essentially redundant and likely represents another form of time recording or a signal directly derived from the timestamp.\n",
        "\n",
        "Including highly correlated features like this in a dataset can lead to issues such as multicollinearity in some statistical models, which can make it difficult to interpret the individual impact of each feature. Since the `Timestamp` column already provides the necessary temporal information, retaining `ET_TimeSignal` does not appear to add significant value for further analysis or modeling in most cases.\n",
        "\n",
        "Therefore, based on its high correlation and lack of unique insight, we will proceed to drop the `ET_TimeSignal` column to simplify the dataset and potentially improve the performance and interpretability of future analyses."
      ]
    },
    {
      "cell_type": "code",
      "execution_count": null,
      "id": "326a59d1",
      "metadata": {
        "id": "326a59d1"
      },
      "outputs": [],
      "source": [
        "df_4_EYE.drop('ET_TimeSignal', axis=1, inplace=True)"
      ]
    },
    {
      "cell_type": "code",
      "execution_count": null,
      "id": "18aafd72",
      "metadata": {
        "id": "18aafd72"
      },
      "outputs": [],
      "source": [
        "plt.figure(figsize=(16, 10))\n",
        "sns.pairplot(df_4_EYE)\n",
        "plt.show()"
      ]
    },
    {
      "cell_type": "markdown",
      "id": "eab8d5b1",
      "metadata": {
        "id": "eab8d5b1"
      },
      "source": [
        "# **5_EYE**"
      ]
    },
    {
      "cell_type": "code",
      "execution_count": null,
      "id": "9281a8c5",
      "metadata": {
        "id": "9281a8c5"
      },
      "outputs": [],
      "source": [
        "df_5_EYE = pd.read_csv('data/STData/5/5_EYE.csv')"
      ]
    },
    {
      "cell_type": "code",
      "execution_count": null,
      "id": "701bea11",
      "metadata": {
        "id": "701bea11"
      },
      "outputs": [],
      "source": [
        "df_5_EYE.head()"
      ]
    },
    {
      "cell_type": "code",
      "execution_count": null,
      "id": "d0d3bd5e",
      "metadata": {
        "id": "d0d3bd5e"
      },
      "outputs": [],
      "source": [
        "df_5_EYE.shape"
      ]
    },
    {
      "cell_type": "code",
      "execution_count": null,
      "id": "76f5d2fb",
      "metadata": {
        "id": "76f5d2fb"
      },
      "outputs": [],
      "source": [
        "df_5_EYE.columns"
      ]
    },
    {
      "cell_type": "code",
      "execution_count": null,
      "id": "a8f399f5",
      "metadata": {
        "id": "a8f399f5"
      },
      "outputs": [],
      "source": [
        "df_5_EYE.info()"
      ]
    },
    {
      "cell_type": "code",
      "execution_count": null,
      "id": "3ff08b07",
      "metadata": {
        "id": "3ff08b07"
      },
      "outputs": [],
      "source": [
        "df_5_EYE.isnull().sum()"
      ]
    },
    {
      "cell_type": "code",
      "execution_count": null,
      "id": "53704573",
      "metadata": {
        "id": "53704573"
      },
      "outputs": [],
      "source": [
        "plt.figure(figsize=(12,8))\n",
        "sns.heatmap(df_5_EYE.isnull(), cmap='viridis')\n",
        "plt.show()"
      ]
    },
    {
      "cell_type": "markdown",
      "id": "045bf280",
      "metadata": {
        "id": "045bf280"
      },
      "source": [
        "# Notes & Observations\n",
        "\n",
        "- We observe many **null** (or missing) values in the `QuestionKey` columns.\n",
        "- The nulls in the `QuestionKey` column may not represent “true” nulls. Rather, they follow interval patterns, suggesting that during those periods no question was displayed.\n",
        "- These missing values in `QuestionKey` require additional investigation and context-aware handling."
      ]
    },
    {
      "cell_type": "code",
      "execution_count": null,
      "id": "ba966431",
      "metadata": {
        "id": "ba966431"
      },
      "outputs": [],
      "source": [
        "df_5_EYE['QuestionKey'].unique()"
      ]
    },
    {
      "cell_type": "code",
      "execution_count": null,
      "id": "6e2c4f8a",
      "metadata": {
        "id": "6e2c4f8a"
      },
      "outputs": [],
      "source": [
        "df_5_EYE['Timestamp'] = pd.to_datetime(df_5_EYE['Timestamp'])"
      ]
    },
    {
      "cell_type": "code",
      "execution_count": null,
      "id": "a8c4c383",
      "metadata": {
        "id": "a8c4c383"
      },
      "outputs": [],
      "source": [
        "df_5_EYE.head(3)"
      ]
    },
    {
      "cell_type": "code",
      "execution_count": null,
      "id": "503840d1",
      "metadata": {
        "id": "503840d1"
      },
      "outputs": [],
      "source": [
        "df_5_EYE['QuestionKey'] = df_5_EYE['QuestionKey'].fillna('None')"
      ]
    },
    {
      "cell_type": "code",
      "execution_count": null,
      "id": "9e3f6540",
      "metadata": {
        "id": "9e3f6540"
      },
      "outputs": [],
      "source": [
        "df_5_EYE['QuestionKey'].value_counts()"
      ]
    },
    {
      "cell_type": "code",
      "execution_count": null,
      "id": "e00ab624",
      "metadata": {
        "id": "e00ab624"
      },
      "outputs": [],
      "source": [
        "plt.figure(figsize=(12,8))\n",
        "sns.heatmap(df_5_EYE.isnull(), cmap='viridis')\n",
        "plt.show()"
      ]
    },
    {
      "cell_type": "code",
      "execution_count": null,
      "id": "a1585e61",
      "metadata": {
        "id": "a1585e61"
      },
      "outputs": [],
      "source": [
        "df_5_EYE.isnull().sum()"
      ]
    },
    {
      "cell_type": "code",
      "execution_count": null,
      "id": "26a4ebe8",
      "metadata": {
        "id": "26a4ebe8"
      },
      "outputs": [],
      "source": [
        "df_5_EYE.dropna(inplace=True)"
      ]
    },
    {
      "cell_type": "code",
      "execution_count": null,
      "id": "28f5d970",
      "metadata": {
        "id": "28f5d970"
      },
      "outputs": [],
      "source": [
        "df_5_EYE.head()"
      ]
    },
    {
      "cell_type": "code",
      "execution_count": null,
      "id": "1dd63bb9",
      "metadata": {
        "id": "1dd63bb9"
      },
      "outputs": [],
      "source": [
        "df_5_EYE['Row'].unique()"
      ]
    },
    {
      "cell_type": "code",
      "execution_count": null,
      "id": "58aa19e4",
      "metadata": {
        "id": "58aa19e4"
      },
      "outputs": [],
      "source": [
        "plt.figure(figsize=(8,6))\n",
        "sns.histplot(df_5_EYE['Row'])\n",
        "plt.show()"
      ]
    },
    {
      "cell_type": "markdown",
      "id": "4dec3fec",
      "metadata": {
        "id": "4dec3fec"
      },
      "source": [
        "# Notes & Observations\n",
        "\n",
        "- The `Row` column appears to be a simple row index and does not provide meaningful information relevant to the eye-tracking data itself. Therefore, it can be dropped."
      ]
    },
    {
      "cell_type": "code",
      "execution_count": null,
      "id": "50f40fde",
      "metadata": {
        "id": "50f40fde"
      },
      "outputs": [],
      "source": [
        "df_5_EYE.drop('Row', axis=1, inplace=True)"
      ]
    },
    {
      "cell_type": "code",
      "execution_count": null,
      "id": "83b98cf7",
      "metadata": {
        "id": "83b98cf7"
      },
      "outputs": [],
      "source": [
        "df_5_EYE['ET_ValidityLeft'].unique()"
      ]
    },
    {
      "cell_type": "code",
      "execution_count": null,
      "id": "654a47ac",
      "metadata": {
        "id": "654a47ac"
      },
      "outputs": [],
      "source": [
        "df_5_EYE['ET_ValidityLeft'].value_counts()"
      ]
    },
    {
      "cell_type": "code",
      "execution_count": null,
      "id": "ac0f37be",
      "metadata": {
        "id": "ac0f37be"
      },
      "outputs": [],
      "source": [
        "df_5_EYE['ET_ValidityRight'].unique()"
      ]
    },
    {
      "cell_type": "code",
      "execution_count": null,
      "id": "1b724b29",
      "metadata": {
        "id": "1b724b29"
      },
      "outputs": [],
      "source": [
        "df_5_EYE['ET_ValidityRight'].value_counts()"
      ]
    },
    {
      "cell_type": "code",
      "execution_count": null,
      "id": "27b344ab",
      "metadata": {
        "id": "27b344ab"
      },
      "outputs": [],
      "source": [
        "plt.figure(figsize=(12, 6))\n",
        "\n",
        "plt.subplot(1, 2, 1)\n",
        "sns.barplot(x=df_5_EYE['ET_ValidityLeft'].value_counts().index, y=df_5_EYE['ET_ValidityLeft'].value_counts().values)\n",
        "plt.title('Count of ET_ValidityLeft')\n",
        "plt.xlabel('Validity')\n",
        "plt.ylabel('Count')\n",
        "\n",
        "\n",
        "plt.subplot(1, 2, 2)\n",
        "sns.barplot(x=df_5_EYE['ET_ValidityRight'].value_counts().index, y=df_5_EYE['ET_ValidityRight'].value_counts().values)\n",
        "plt.title('Count of ET_ValidityRight')\n",
        "plt.xlabel('Validity')\n",
        "plt.ylabel('Count')\n",
        "\n",
        "plt.tight_layout()\n",
        "plt.show()"
      ]
    },
    {
      "cell_type": "markdown",
      "id": "2162a4ef",
      "metadata": {
        "id": "2162a4ef"
      },
      "source": [
        "# Notes & Observations\n",
        "\n",
        "- The `ET_ValidityLeft` and `ET_ValidityRight` columns indicate the validity of the eye-tracking data for the left and right eye, respectively.\n",
        "- Based on the value counts and the bar plots, it appears that a value of `0.0` represents valid eye-tracking data, while a value of `4.0` represents invalid data.\n",
        "- Although the amount of invalid data is relatively small, removing these rows could introduce unwanted patterns or gaps in the time series data.\n",
        "- Therefore, we will keep the data and replace the value `4.0` with `1.0` in both `ET_ValidityLeft` and `ET_ValidityRight` columns. This will indicate to a machine learning model that the eye tracker had invalid data at those specific points in time while maintaining the integrity of the time series."
      ]
    },
    {
      "cell_type": "markdown",
      "id": "feabed2b",
      "metadata": {
        "id": "feabed2b"
      },
      "source": [
        "Define a mapping to convert validity values from `0.0` and `4.0` to `0` and `1`."
      ]
    },
    {
      "cell_type": "code",
      "execution_count": null,
      "id": "756ec30b",
      "metadata": {
        "id": "756ec30b"
      },
      "outputs": [],
      "source": [
        "validity_map = {4.0: 1.0, 0.0: 0.0}"
      ]
    },
    {
      "cell_type": "code",
      "execution_count": null,
      "id": "2341c8e3",
      "metadata": {
        "id": "2341c8e3"
      },
      "outputs": [],
      "source": [
        "df_5_EYE['ET_ValidityLeft'] = df_5_EYE['ET_ValidityLeft'].map(validity_map).astype(np.int8)\n",
        "df_5_EYE['ET_ValidityRight'] = df_5_EYE['ET_ValidityRight'].map(validity_map).astype(np.int8)"
      ]
    },
    {
      "cell_type": "code",
      "execution_count": null,
      "id": "dd4f7973",
      "metadata": {
        "id": "dd4f7973"
      },
      "outputs": [],
      "source": [
        "df_5_EYE.head(3)"
      ]
    },
    {
      "cell_type": "code",
      "execution_count": null,
      "id": "455406d2",
      "metadata": {
        "id": "455406d2"
      },
      "outputs": [],
      "source": [
        "df_5_EYE.describe()"
      ]
    },
    {
      "cell_type": "code",
      "execution_count": null,
      "id": "1d789086",
      "metadata": {
        "id": "1d789086"
      },
      "outputs": [],
      "source": [
        "df_5_EYE[df_5_EYE['ET_ValidityLeft'] == 1].shape"
      ]
    },
    {
      "cell_type": "code",
      "execution_count": null,
      "id": "6625f21f",
      "metadata": {
        "id": "6625f21f"
      },
      "outputs": [],
      "source": [
        "df_5_EYE[df_5_EYE['ET_ValidityRight'] == 1].shape"
      ]
    },
    {
      "cell_type": "code",
      "execution_count": null,
      "id": "9ba72125",
      "metadata": {
        "id": "9ba72125"
      },
      "outputs": [],
      "source": [
        "df_5_EYE[df_5_EYE['ET_ValidityLeft'] == 1].shape[0] / df_5_EYE.shape[0]"
      ]
    },
    {
      "cell_type": "code",
      "execution_count": null,
      "id": "1b1e0f31",
      "metadata": {
        "id": "1b1e0f31"
      },
      "outputs": [],
      "source": [
        "df_5_EYE[df_5_EYE['ET_ValidityRight'] == 1].shape[0] / df_5_EYE.shape[0]"
      ]
    },
    {
      "cell_type": "code",
      "execution_count": null,
      "id": "9212aee7",
      "metadata": {
        "id": "9212aee7"
      },
      "outputs": [],
      "source": [
        "plt.figure(figsize=(18, 8))\n",
        "\n",
        "plt.subplot(1, 2, 1)\n",
        "sns.heatmap(df_5_EYE == -1, cmap='viridis')\n",
        "plt.title('Heatmap of -1 Values')\n",
        "\n",
        "plt.subplot(1, 2, 2)\n",
        "sns.heatmap(df_5_EYE == 1, cmap='viridis')\n",
        "plt.title('Heatmap of 1 Values')\n",
        "\n",
        "plt.tight_layout()\n",
        "plt.show()"
      ]
    },
    {
      "cell_type": "code",
      "execution_count": null,
      "id": "44382857",
      "metadata": {
        "id": "44382857"
      },
      "outputs": [],
      "source": [
        "df_5_EYE[df_5_EYE['ET_PupilLeft'] == -1].shape"
      ]
    },
    {
      "cell_type": "code",
      "execution_count": null,
      "id": "f27393e4",
      "metadata": {
        "id": "f27393e4"
      },
      "outputs": [],
      "source": [
        "df_5_EYE[df_5_EYE['ET_PupilRight'] == -1].shape"
      ]
    },
    {
      "cell_type": "code",
      "execution_count": null,
      "id": "aba0f4ec",
      "metadata": {
        "id": "aba0f4ec"
      },
      "outputs": [],
      "source": [
        "df_5_EYE[df_5_EYE['ET_PupilLeft'] == -1].shape[0] / df_5_EYE.shape[0]"
      ]
    },
    {
      "cell_type": "code",
      "execution_count": null,
      "id": "6de674d0",
      "metadata": {
        "id": "6de674d0"
      },
      "outputs": [],
      "source": [
        "df_5_EYE[df_5_EYE['ET_PupilRight'] == -1].shape[0] / df_5_EYE.shape[0]"
      ]
    },
    {
      "cell_type": "code",
      "execution_count": null,
      "id": "1cebdb51",
      "metadata": {
        "id": "1cebdb51"
      },
      "outputs": [],
      "source": [
        "plt.figure(figsize=(18, 8))\n",
        "\n",
        "plt.subplot(1, 2, 1)\n",
        "sns.heatmap(df_5_EYE[df_5_EYE['ET_ValidityLeft'] == 1] == -1, cmap='viridis')\n",
        "plt.title('Heatmap of -1 Values')\n",
        "\n",
        "plt.subplot(1, 2, 2)\n",
        "sns.heatmap(df_5_EYE[df_5_EYE['ET_ValidityRight'] == 1] == -1, cmap='viridis')\n",
        "plt.title('Heatmap of -1 Values')\n",
        "\n",
        "plt.tight_layout()\n",
        "plt.show()"
      ]
    },
    {
      "cell_type": "markdown",
      "id": "ca587643",
      "metadata": {
        "id": "ca587643"
      },
      "source": [
        "# Notes & Observations\n",
        "\n",
        "- The heatmaps reveal the distribution of -1 values across different columns.\n",
        "- It is evident that the `-1` values are not randomly scattered but appear in specific columns, notably `ET_GazeLeftx`, `ET_GazeLefty`, `ET_GazeRightx`, `ET_GazeRighty`, `ET_PupilLeft`, `ET_PupilRight`, `ET_DistanceLeft`, `ET_DistanceRight`, `ET_CameraLeftX`, `ET_CameraLeftY`, `ET_CameraRightX`, and `ET_CameraRightY`.\n",
        "- These `-1` values often coincide with instances where `ET_ValidityLeft` or `ET_ValidityRight` is 1, indicating invalid eye-tracking data. This suggests that `-1` is used as a placeholder for missing or invalid measurements in these columns when the eye tracker is not providing valid data for a particular eye.\n",
        "- Given that over 70% of the data in the `ET_PupilLeft` and `ET_PupilRight` columns is marked as invalid (-1), so instead of dropping them we can create new feature for both the `ET_PupilLeft` and `ET_PupilRight` to represent which row consist invalid `ET_PupilLeft` and `ET_PupilRight` data"
      ]
    },
    {
      "cell_type": "code",
      "execution_count": null,
      "id": "20a069b1",
      "metadata": {
        "id": "20a069b1"
      },
      "outputs": [],
      "source": [
        "pupil_validity = {-1: 1 }"
      ]
    },
    {
      "cell_type": "code",
      "execution_count": null,
      "id": "03acaff0",
      "metadata": {
        "id": "03acaff0"
      },
      "outputs": [],
      "source": [
        "df_5_EYE['ET_PupilLeft_validity'] = df_5_EYE['ET_PupilLeft'].map(pupil_validity)"
      ]
    },
    {
      "cell_type": "code",
      "execution_count": null,
      "id": "4096be1b",
      "metadata": {
        "id": "4096be1b"
      },
      "outputs": [],
      "source": [
        "df_5_EYE['ET_PupilRight_validity'] = df_5_EYE['ET_PupilRight'].map(pupil_validity)"
      ]
    },
    {
      "cell_type": "code",
      "execution_count": null,
      "id": "cbd1cf83",
      "metadata": {
        "id": "cbd1cf83"
      },
      "outputs": [],
      "source": [
        "df_5_EYE[['ET_PupilLeft_validity', 'ET_PupilRight_validity']].head()"
      ]
    },
    {
      "cell_type": "code",
      "execution_count": null,
      "id": "6a67ccdf",
      "metadata": {
        "id": "6a67ccdf"
      },
      "outputs": [],
      "source": [
        "df_5_EYE[['ET_PupilLeft_validity', 'ET_PupilRight_validity']].isnull().sum()"
      ]
    },
    {
      "cell_type": "code",
      "execution_count": null,
      "id": "58897267",
      "metadata": {
        "id": "58897267"
      },
      "outputs": [],
      "source": [
        "plt.figure(figsize=(18, 8))\n",
        "sns.heatmap(df_5_EYE[['ET_PupilLeft_validity', 'ET_PupilRight_validity']].isnull(), cmap='viridis')\n",
        "plt.show()"
      ]
    },
    {
      "cell_type": "code",
      "execution_count": null,
      "id": "6e7b2f85",
      "metadata": {
        "id": "6e7b2f85"
      },
      "outputs": [],
      "source": [
        "df_5_EYE['ET_PupilLeft_validity'] = df_5_EYE['ET_PupilLeft_validity'].fillna(0)"
      ]
    },
    {
      "cell_type": "code",
      "execution_count": null,
      "id": "6ca0a3cf",
      "metadata": {
        "id": "6ca0a3cf"
      },
      "outputs": [],
      "source": [
        "df_5_EYE['ET_PupilRight_validity'] = df_5_EYE['ET_PupilRight_validity'].fillna(0)"
      ]
    },
    {
      "cell_type": "code",
      "execution_count": null,
      "id": "a6a3a232",
      "metadata": {
        "id": "a6a3a232"
      },
      "outputs": [],
      "source": [
        "df_5_EYE[['ET_PupilLeft_validity', 'ET_PupilRight_validity']].head()"
      ]
    },
    {
      "cell_type": "code",
      "execution_count": null,
      "id": "e45d2201",
      "metadata": {
        "id": "e45d2201"
      },
      "outputs": [],
      "source": [
        "plt.figure(figsize=(18, 8))\n",
        "sns.heatmap(df_5_EYE[['ET_PupilLeft_validity', 'ET_PupilRight_validity']].isnull(), cmap='viridis')\n",
        "plt.show()"
      ]
    },
    {
      "cell_type": "code",
      "execution_count": null,
      "id": "076dfd13",
      "metadata": {
        "id": "076dfd13"
      },
      "outputs": [],
      "source": [
        "df_5_EYE.head()"
      ]
    },
    {
      "cell_type": "code",
      "execution_count": null,
      "id": "1d4f545b",
      "metadata": {
        "id": "1d4f545b"
      },
      "outputs": [],
      "source": [
        "plt.figure(figsize=(18, 8))\n",
        "\n",
        "plt.subplot(1, 2, 1)\n",
        "sns.heatmap(df_5_EYE == -1, cmap='viridis')\n",
        "plt.title('Heatmap of -1 Values')\n",
        "\n",
        "plt.subplot(1, 2, 2)\n",
        "sns.heatmap(df_5_EYE == 1, cmap='viridis')\n",
        "plt.title('Heatmap of -1 Values')\n",
        "\n",
        "plt.tight_layout()\n",
        "plt.show()"
      ]
    },
    {
      "cell_type": "code",
      "execution_count": null,
      "id": "194bf09c",
      "metadata": {
        "id": "194bf09c"
      },
      "outputs": [],
      "source": [
        "valid_left_ratio  = 1 - df_5_EYE['ET_ValidityLeft'].mean()"
      ]
    },
    {
      "cell_type": "code",
      "execution_count": null,
      "id": "ecd829de",
      "metadata": {
        "id": "ecd829de"
      },
      "outputs": [],
      "source": [
        "valid_left_ratio"
      ]
    },
    {
      "cell_type": "code",
      "execution_count": null,
      "id": "4ad807e7",
      "metadata": {
        "id": "4ad807e7"
      },
      "outputs": [],
      "source": [
        "valid_right_ratio = 1 - df_5_EYE['ET_ValidityRight'].mean()"
      ]
    },
    {
      "cell_type": "code",
      "execution_count": null,
      "id": "ef1657a1",
      "metadata": {
        "id": "ef1657a1"
      },
      "outputs": [],
      "source": [
        "valid_right_ratio"
      ]
    },
    {
      "cell_type": "code",
      "execution_count": null,
      "id": "19e3fa90",
      "metadata": {
        "id": "19e3fa90"
      },
      "outputs": [],
      "source": [
        "df_5_EYE['ET_PupilLeft_validity'] = df_5_EYE['ET_PupilLeft_validity'].astype(np.int8)\n",
        "df_5_EYE['ET_PupilRight_validity'] = df_5_EYE['ET_PupilRight_validity'].astype(np.int8)"
      ]
    },
    {
      "cell_type": "markdown",
      "id": "b4d2b6b8",
      "metadata": {
        "id": "b4d2b6b8"
      },
      "source": [
        "# Feature Engineering and Observations\n",
        "\n",
        "Based on the analysis of the data, we've created two new features, `ET_PupilLeft_validity` and `ET_PupilRight_validity`. These features indicate the validity of the pupil data for the left and right eyes, respectively, with a value of 1 representing invalid data (originally -1) and 0 representing valid data.\n",
        "\n",
        "The heatmaps above visually demonstrate the distribution of -1 and 1 values across the dataset. We observed that:\n",
        "- The `-1` values are concentrated in specific columns related to gaze, pupil size, distance, and camera position, suggesting they represent missing or invalid sensor readings.\n",
        "- The `1` values, after mapping from `4.0` in the original validity columns, indicate instances of invalid eye-tracking data.\n",
        "- The heatmaps also show a strong correlation between the `-1` values in the pupil columns and a validity of 1 in the newly created pupil validity features, confirming that -1 was used to mark invalid pupil data."
      ]
    },
    {
      "cell_type": "code",
      "execution_count": null,
      "id": "ca5c9dfd",
      "metadata": {
        "id": "ca5c9dfd"
      },
      "outputs": [],
      "source": [
        "df_5_EYE.head()"
      ]
    },
    {
      "cell_type": "code",
      "execution_count": null,
      "id": "a932c0ef",
      "metadata": {
        "id": "a932c0ef"
      },
      "outputs": [],
      "source": [
        "# Select only the numeric columns for plotting histograms, excluding time-related columns\n",
        "numeric_cols = df_5_EYE.select_dtypes(include=np.number).columns\n",
        "cols_to_plot = [col for col in numeric_cols if col not in ['UnixTime']]\n",
        "\n",
        "# Calculate the number of rows and columns for the grid\n",
        "n_cols = 4  # You can adjust the number of columns as needed\n",
        "n_rows = (len(cols_to_plot) + n_cols - 1) // n_cols\n",
        "\n",
        "plt.figure(figsize=(n_cols * 5, n_rows * 4)) # Adjust figure size as needed\n",
        "\n",
        "for i, col in enumerate(cols_to_plot):\n",
        "    plt.subplot(n_rows, n_cols, i + 1)\n",
        "    sns.histplot(df_5_EYE[col], kde=True)\n",
        "    plt.title(f'Distribution of {col}')\n",
        "    plt.xlabel(col)\n",
        "    plt.ylabel('Frequency')\n",
        "\n",
        "plt.tight_layout()\n",
        "plt.show()"
      ]
    },
    {
      "cell_type": "markdown",
      "id": "0b4f5ddb",
      "metadata": {
        "id": "0b4f5ddb"
      },
      "source": [
        "# Observations from Histograms\n",
        "\n",
        "The grid of histograms provides insights into the distribution of values for each numeric column in the dataset (excluding 'UnixTime'). Key observations include:\n",
        "\n",
        "- Several columns, such as `ET_GazeLeftx`, `ET_GazeLefty`, `ET_GazeRightx`, and `ET_GazeRighty`, show distributions that appear somewhat multimodal or skewed, suggesting variations in gaze patterns.\n",
        "- The `ET_PupilLeft` and `ET_PupilRight` histograms clearly show a peak at -1, confirming the presence of a significant number of invalid pupil readings.\n",
        "- `ET_TimeSignal` shows a relatively uniform distribution, as expected for a time-based signal.\n",
        "- `ET_DistanceLeft` and `ET_DistanceRight` appear to have distributions centered around certain values, with some outliers or variations.\n",
        "- The camera position columns (`ET_CameraLeftX`, `ET_CameraLeftY`, `ET_CameraRightX`, `ET_CameraRightY`) seem to have distributions concentrated within specific ranges, reflecting the camera's field of view.\n",
        "- The validity columns (`ET_ValidityLeft`, `ET_ValidityRight`, `ET_PupilLeft_validity`, `ET_PupilRight_validity`) show distributions dominated by 0, indicating that most of the data is considered valid after the mapping. The smaller peaks at 1 represent the instances of invalid data.\n",
        "\n",
        "These distributions highlight the need for appropriate handling of the -1 values and potential outliers in subsequent analysis or modeling steps."
      ]
    },
    {
      "cell_type": "code",
      "execution_count": null,
      "id": "da115a80",
      "metadata": {
        "id": "da115a80"
      },
      "outputs": [],
      "source": [
        "df_5_EYE.columns"
      ]
    },
    {
      "cell_type": "code",
      "execution_count": null,
      "id": "fd1fa3b8",
      "metadata": {
        "id": "fd1fa3b8"
      },
      "outputs": [],
      "source": [
        "cols = ['ET_GazeLeftx', 'ET_GazeLefty',\n",
        "       'ET_GazeRightx', 'ET_GazeRighty', 'ET_PupilLeft', 'ET_PupilRight',\n",
        "       'ET_TimeSignal', 'ET_DistanceLeft', 'ET_DistanceRight',\n",
        "       'ET_CameraLeftX', 'ET_CameraLeftY', 'ET_CameraRightX',\n",
        "       'ET_CameraRightY', 'ET_ValidityLeft', 'ET_ValidityRight',\n",
        "       'ET_PupilLeft_validity', 'ET_PupilRight_validity']"
      ]
    },
    {
      "cell_type": "code",
      "execution_count": null,
      "id": "d2c57171",
      "metadata": {
        "id": "d2c57171"
      },
      "outputs": [],
      "source": [
        "from IPython.display import display, Markdown\n",
        "\n",
        "for col in cols:\n",
        "    # Add a markdown cell before each plot for better separation and labeling\n",
        "    display(Markdown(f'### {col} over Time'))\n",
        "    plt.figure(figsize=(16, 10))\n",
        "    plt.plot(df_5_EYE['Timestamp'], df_5_EYE[col])\n",
        "    plt.xlabel(\"Timestamp\") # Add x-axis label\n",
        "    plt.ylabel(col) # Add y-axis label\n",
        "    plt.show()"
      ]
    },
    {
      "cell_type": "markdown",
      "id": "39a1685f",
      "metadata": {
        "id": "39a1685f"
      },
      "source": [
        "# Observations from Time Series Plots\n",
        "\n",
        "The line plots showing various features against the `Timestamp` reveal the temporal patterns and fluctuations in the eye-tracking data. Key observations include:\n",
        "\n",
        "- **Gaze Coordinates (`ET_GazeLeftx`, `ET_GazeLefty`, `ET_GazeRightx`, `ET_GazeRighty`):** These plots show the changes in gaze position over time. We can observe periods of relatively stable gaze interspersed with rapid movements (saccades) and blinks or other events where the gaze data might be invalid (-1 values appear as gaps or spikes if not handled).\n",
        "- **Pupil Size (`ET_PupilLeft`, `ET_PupilRight`):** The pupil size plots show variations over time. The presence of many -1 values is evident as flat lines at the bottom of the plot, indicating periods where pupil data was not recorded or was invalid.\n",
        "- **Time Signal (`ET_TimeSignal`):** This plot shows a steady, increasing trend, as expected for a time-based signal.\n",
        "- **Distance and Camera Position (`ET_DistanceLeft`, `ET_DistanceRight`, `ET_CameraLeftX`, `ET_CameraLeftY`, `ET_CameraRightX`, `ET_CameraRightY`):** These plots show how the distance from the eye tracker and the camera positions change over time. Variations in these features can be related to head movements or changes in the user's position relative to the eye tracker.\n",
        "- **Validity (`ET_ValidityLeft`, `ET_ValidityRight`, `ET_PupilLeft_validity`, `ET_PupilRight_validity`):** These plots clearly show periods of invalid data (represented by 1) as spikes or plateaus, corresponding to instances where the eye tracker lost track of the eyes or the pupil data was marked as invalid.\n",
        "\n",
        "Analyzing these time series plots is crucial for understanding the dynamics of the eye-tracking data and identifying patterns or anomalies that may require further investigation or specific handling during subsequent analysis."
      ]
    },
    {
      "cell_type": "code",
      "execution_count": null,
      "id": "2ca5494c",
      "metadata": {
        "id": "2ca5494c"
      },
      "outputs": [],
      "source": [
        "# Select only the numeric columns for plotting histograms, excluding time-related columns\n",
        "numeric_cols = df_5_EYE.select_dtypes(include=np.number).columns\n",
        "\n",
        "# Calculate the number of rows and columns for the grid\n",
        "n_cols = 4  # You can adjust the number of columns as needed\n",
        "n_rows = (len(numeric_cols) + n_cols - 1) // n_cols\n",
        "\n",
        "plt.figure(figsize=(n_cols * 5, n_rows * 4)) # Adjust figure size as needed\n",
        "\n",
        "for i, col in enumerate(numeric_cols):\n",
        "    plt.subplot(n_rows, n_cols, i + 1)\n",
        "    sns.boxplot(df_5_EYE[col])\n",
        "    plt.title(f'Boxplot of {col}')\n",
        "    plt.xlabel(col)\n",
        "\n",
        "plt.tight_layout()\n",
        "plt.show()"
      ]
    },
    {
      "cell_type": "markdown",
      "id": "4bd68f35",
      "metadata": {
        "id": "4bd68f35"
      },
      "source": [
        "# Observations from Boxplots and Handling -1 Values\n",
        "\n",
        "The boxplots provide a visual summary of the distribution and potential outliers for each numeric column. Key observations from the boxplots include:\n",
        "\n",
        "- The boxplots for columns like `ET_GazeLeftx`, `ET_GazeLefty`, `ET_GazeRightx`, `ET_GazeRighty`, `ET_PupilLeft`, `ET_PupilRight`, `ET_DistanceLeft`, `ET_DistanceRight`, `ET_CameraLeftX`, `ET_CameraLeftY`, `ET_CameraRightX`, and `ET_CameraRightY` clearly show the presence of -1 values as significant outliers, confirming our earlier observations from the heatmaps and histograms.\n",
        "- The boxplots for the validity columns (`ET_ValidityLeft`, `ET_ValidityRight`, `ET_PupilLeft_validity`, `ET_PupilRight_validity`) show the discrete nature of these features, with the majority of data points at 0 (valid) and a smaller number at 1 (invalid).\n",
        "\n",
        "Given the significant presence of -1 values, which represent invalid or missing data, especially in the pupil-related columns, we have decided to replace these -1 values with NaN to properly represent them as missing data. Subsequently, we will impute these missing values using the mean of each respective column. This approach helps to retain the data structure and allows for further analysis or modeling without the distortion caused by the -1 placeholders."
      ]
    },
    {
      "cell_type": "code",
      "execution_count": null,
      "id": "32fbe2ac",
      "metadata": {
        "id": "32fbe2ac"
      },
      "outputs": [],
      "source": [
        "df_5_EYE.replace({-1: np.nan}, inplace=True)"
      ]
    },
    {
      "cell_type": "code",
      "execution_count": null,
      "id": "96af520e",
      "metadata": {
        "id": "96af520e"
      },
      "outputs": [],
      "source": [
        "df_5_EYE[['ET_GazeLeftx', 'ET_GazeLefty',\n",
        "       'ET_GazeRightx', 'ET_GazeRighty', 'ET_PupilLeft', 'ET_PupilRight',\n",
        "       'ET_TimeSignal', 'ET_DistanceLeft', 'ET_DistanceRight',\n",
        "       'ET_CameraLeftX', 'ET_CameraLeftY', 'ET_CameraRightX',\n",
        "       'ET_CameraRightY', 'ET_ValidityLeft', 'ET_ValidityRight',\n",
        "       'ET_PupilLeft_validity', 'ET_PupilRight_validity']].mean()"
      ]
    },
    {
      "cell_type": "code",
      "execution_count": null,
      "id": "0cb7a94c",
      "metadata": {
        "id": "0cb7a94c"
      },
      "outputs": [],
      "source": [
        "df_5_EYE[['ET_GazeLeftx', 'ET_GazeLefty',\n",
        "       'ET_GazeRightx', 'ET_GazeRighty', 'ET_PupilLeft', 'ET_PupilRight',\n",
        "       'ET_TimeSignal', 'ET_DistanceLeft', 'ET_DistanceRight',\n",
        "       'ET_CameraLeftX', 'ET_CameraLeftY', 'ET_CameraRightX',\n",
        "       'ET_CameraRightY', 'ET_ValidityLeft', 'ET_ValidityRight',\n",
        "       'ET_PupilLeft_validity', 'ET_PupilRight_validity']].median()"
      ]
    },
    {
      "cell_type": "code",
      "execution_count": null,
      "id": "a3ff9f43",
      "metadata": {
        "id": "a3ff9f43"
      },
      "outputs": [],
      "source": [
        "numeric_cols = df_5_EYE.select_dtypes(include=np.number).columns\n",
        "\n",
        "for col in numeric_cols:\n",
        "    df_5_EYE[col] = df_5_EYE[col].fillna(df_5_EYE[col].mean())"
      ]
    },
    {
      "cell_type": "code",
      "execution_count": null,
      "id": "1029df84",
      "metadata": {
        "id": "1029df84"
      },
      "outputs": [],
      "source": [
        "plt.figure(figsize=(18, 8))\n",
        "\n",
        "plt.subplot(1, 2, 1)\n",
        "sns.heatmap(df_5_EYE.isnull(), cmap='viridis')\n",
        "plt.title('Heatmap of Missing Values After Imputation')\n",
        "\n",
        "plt.subplot(1, 2, 2)\n",
        "sns.heatmap(df_5_EYE == 1, cmap='viridis')\n",
        "plt.title('Heatmap of 1 Values')\n",
        "\n",
        "plt.tight_layout()\n",
        "plt.show()"
      ]
    },
    {
      "cell_type": "markdown",
      "id": "02f3bbc0",
      "metadata": {
        "id": "02f3bbc0"
      },
      "source": [
        "# Handling Missing Values (Imputation)\n",
        "\n",
        "As decided, we have replaced all the `-1` values with `NaN` to treat them as missing data. Subsequently, we have imputed these `NaN` values with the mean of their respective columns. The heatmap above, which was generated after the imputation, now shows no visible signs of `NaN` values, indicating that the imputation was successful."
      ]
    },
    {
      "cell_type": "code",
      "execution_count": null,
      "id": "dab3a3a5",
      "metadata": {
        "id": "dab3a3a5"
      },
      "outputs": [],
      "source": [
        "df_5_EYE.head()"
      ]
    },
    {
      "cell_type": "code",
      "execution_count": null,
      "id": "91b4c73c",
      "metadata": {
        "id": "91b4c73c"
      },
      "outputs": [],
      "source": [
        "# Select only the numeric columns for plotting histograms, excluding time-related columns\n",
        "numeric_cols = df_5_EYE.select_dtypes(include=np.number).columns\n",
        "cols_to_plot = [col for col in numeric_cols if col not in ['UnixTime']]\n",
        "\n",
        "# Calculate the number of rows and columns for the grid\n",
        "n_cols = 4  # You can adjust the number of columns as needed\n",
        "n_rows = (len(cols_to_plot) + n_cols - 1) // n_cols\n",
        "\n",
        "plt.figure(figsize=(n_cols * 5, n_rows * 4)) # Adjust figure size as needed\n",
        "\n",
        "for i, col in enumerate(cols_to_plot):\n",
        "    plt.subplot(n_rows, n_cols, i + 1)\n",
        "    sns.histplot(df_5_EYE[col], kde=True)\n",
        "    plt.title(f'Distribution of {col}')\n",
        "    plt.xlabel(col)\n",
        "    plt.ylabel('Frequency')\n",
        "\n",
        "plt.tight_layout()\n",
        "plt.show()"
      ]
    },
    {
      "cell_type": "markdown",
      "id": "228c2f10",
      "metadata": {
        "id": "228c2f10"
      },
      "source": [
        "# Observations from Histograms After Imputation\n",
        "\n",
        "The histograms generated after replacing the -1 values with the mean of each column show the distributions of the numeric features with the missing data handled. Key observations from these updated histograms include:\n",
        "\n",
        "- The distinct peaks at -1, which were prominent in the histograms for several columns (e.g., pupil size, gaze coordinates, distance, and camera position) before imputation, are now replaced by a peak at the mean of each respective column.\n",
        "- The distributions in many columns now appear more unimodal or show shifted modes compared to the original histograms.\n",
        "- The histograms for the validity columns still show their bimodal distributions with peaks at 0 and 1, as these were handled separately.\n",
        "\n",
        "These histograms provide an updated view of the data's distribution after handling the missing values, highlighting the impact of the imputation method on the data's characteristics."
      ]
    },
    {
      "cell_type": "code",
      "execution_count": null,
      "id": "9070ae04",
      "metadata": {
        "id": "9070ae04"
      },
      "outputs": [],
      "source": [
        "cols = ['ET_GazeLeftx', 'ET_GazeLefty',\n",
        "       'ET_GazeRightx', 'ET_GazeRighty', 'ET_PupilLeft', 'ET_PupilRight',\n",
        "       'ET_TimeSignal', 'ET_DistanceLeft', 'ET_DistanceRight',\n",
        "       'ET_CameraLeftX', 'ET_CameraLeftY', 'ET_CameraRightX',\n",
        "       'ET_CameraRightY', 'ET_ValidityLeft', 'ET_ValidityRight',\n",
        "       'ET_PupilLeft_validity', 'ET_PupilRight_validity']"
      ]
    },
    {
      "cell_type": "code",
      "execution_count": null,
      "id": "e69b5ff3",
      "metadata": {
        "id": "e69b5ff3"
      },
      "outputs": [],
      "source": [
        "for col in cols:\n",
        "    # Add a markdown cell before each plot for better separation and labeling\n",
        "    display(Markdown(f'### {col} over Time'))\n",
        "    plt.figure(figsize=(16, 10))\n",
        "    plt.plot(df_5_EYE['Timestamp'], df_5_EYE[col])\n",
        "    plt.xlabel(\"Timestamp\") # Add x-axis label\n",
        "    plt.ylabel(col) # Add y-axis label\n",
        "    plt.show()"
      ]
    },
    {
      "cell_type": "markdown",
      "id": "8b86d254",
      "metadata": {
        "id": "8b86d254"
      },
      "source": [
        "# Observations from Time Series Plots After Imputation\n",
        "\n",
        "The line plots generated after imputing the missing values with the mean show the temporal patterns of the features with the missing data handled. Key observations from these updated plots include:\n",
        "\n",
        "- The gaps or flat lines at -1, which were prominent in the plots for columns like gaze coordinates, pupil size, distance, and camera position, are now filled by lines at the mean value of the respective columns.\n",
        "- The plots for the validity columns remain the same as they were handled separately.\n",
        "- The `ET_TimeSignal` plot still shows a steady increasing trend, as expected."
      ]
    },
    {
      "cell_type": "code",
      "execution_count": null,
      "id": "3e4adbd2",
      "metadata": {
        "id": "3e4adbd2"
      },
      "outputs": [],
      "source": [
        "plt.figure(figsize=(16, 10))\n",
        "sns.heatmap(df_5_EYE.corr(numeric_only=True), cmap='YlGnBu', annot=True)\n",
        "plt.show()"
      ]
    },
    {
      "cell_type": "markdown",
      "id": "49c7af52",
      "metadata": {
        "id": "49c7af52"
      },
      "source": [
        "# Observations from Correlation Heatmap\n",
        "\n",
        "The correlation heatmap provides a visual representation of the pairwise correlations between the numeric columns in the dataset. Key observations from the heatmap include:\n",
        "\n",
        "- **High Positive Correlations:** We observe strong positive correlations (values close to 1) between:\n",
        "  - `ET_GazeLeftx` and `ET_GazeRightx`: This is expected as the gaze positions of both eyes should be highly correlated when fixating on a point.\n",
        "  - `ET_GazeLefty` and `ET_GazeRighty`: Similar to the x-coordinates, the y-coordinates of gaze should also be highly correlated.\n",
        "  - `ET_PupilLeft` and `ET_PupilRight`: Pupil sizes of both eyes tend to change together in response to light and cognitive load.\n",
        "  - `ET_DistanceLeft` and `ET_DistanceRight`: The distance from the eye tracker to each eye should be highly correlated.\n",
        "  - `ET_CameraLeftX` and `ET_CameraRightX`, `ET_CameraLeftY` and `ET_CameraRightY`: The camera positions for both eyes are also expected to be highly correlated.\n",
        "  - `UnixTime` and `ET_TimeSignal`: As previously noted, these two columns are almost perfectly linearly correlated, indicating redundancy.\n",
        "  - `ET_ValidityLeft` and `ET_PupilLeft_validity`: There is a positive correlation, suggesting that when the overall left eye data is invalid, the left pupil data is also likely to be invalid.\n",
        "  - `ET_ValidityRight` and `ET_PupilRight_validity`: Similar to the left eye, there is a positive correlation between the overall right eye validity and the right pupil validity.\n",
        "- **Other Correlations:** We can also observe other varying degrees of correlations between different features, which can provide insights into the relationships between gaze behavior, pupil size, distance, and camera position. For example, there might be correlations between gaze coordinates and camera positions, reflecting head movements.\n",
        "- **Low or Near-Zero Correlations:** Columns with low or near-zero correlations are relatively independent of each other.\n",
        "\n",
        "Understanding these correlations is important for feature selection and for building models, as highly correlated features might indicate multicollinearity, while correlations between features can reveal underlying patterns in the data."
      ]
    },
    {
      "cell_type": "markdown",
      "id": "a7554eea",
      "metadata": {
        "id": "a7554eea"
      },
      "source": [
        "# Analysis of ET_TimeSignal and Decision to Drop\n",
        "\n",
        "As observed in the time series plot and confirmed by the correlation heatmap, the `ET_TimeSignal` column exhibits a near-perfect linear relationship with both the `Timestamp` and `UnixTime` columns. This strong correlation (close to 1) suggests that `ET_TimeSignal` is essentially redundant and likely represents another form of time recording or a signal directly derived from the timestamp.\n",
        "\n",
        "Including highly correlated features like this in a dataset can lead to issues such as multicollinearity in some statistical models, which can make it difficult to interpret the individual impact of each feature. Since the `Timestamp` column already provides the necessary temporal information, retaining `ET_TimeSignal` does not appear to add significant value for further analysis or modeling in most cases.\n",
        "\n",
        "Therefore, based on its high correlation and lack of unique insight, we will proceed to drop the `ET_TimeSignal` column to simplify the dataset and potentially improve the performance and interpretability of future analyses."
      ]
    },
    {
      "cell_type": "code",
      "execution_count": null,
      "id": "5bbb1985",
      "metadata": {
        "id": "5bbb1985"
      },
      "outputs": [],
      "source": [
        "df_5_EYE.drop('ET_TimeSignal', axis=1, inplace=True)"
      ]
    },
    {
      "cell_type": "code",
      "execution_count": null,
      "id": "4fb0ede7",
      "metadata": {
        "id": "4fb0ede7"
      },
      "outputs": [],
      "source": [
        "plt.figure(figsize=(16, 10))\n",
        "sns.pairplot(df_5_EYE)\n",
        "plt.show()"
      ]
    },
    {
      "cell_type": "markdown",
      "id": "6dd23bf7",
      "metadata": {
        "id": "6dd23bf7"
      },
      "source": [
        "# **6_EYE**"
      ]
    },
    {
      "cell_type": "code",
      "execution_count": null,
      "id": "8a933e2f",
      "metadata": {
        "id": "8a933e2f"
      },
      "outputs": [],
      "source": []
    },
    {
      "cell_type": "code",
      "execution_count": null,
      "id": "149272f6",
      "metadata": {
        "id": "149272f6"
      },
      "outputs": [],
      "source": [
        "df_6_EYE = pd.read_csv('data/STData/6/6_EYE.csv')"
      ]
    },
    {
      "cell_type": "code",
      "execution_count": null,
      "id": "01faeeb1",
      "metadata": {
        "id": "01faeeb1"
      },
      "outputs": [],
      "source": [
        "df_6_EYE.head()"
      ]
    },
    {
      "cell_type": "code",
      "execution_count": null,
      "id": "b0bdb651",
      "metadata": {
        "id": "b0bdb651"
      },
      "outputs": [],
      "source": [
        "df_6_EYE.shape"
      ]
    },
    {
      "cell_type": "code",
      "execution_count": null,
      "id": "60258e71",
      "metadata": {
        "id": "60258e71"
      },
      "outputs": [],
      "source": [
        "df_6_EYE.columns"
      ]
    },
    {
      "cell_type": "code",
      "execution_count": null,
      "id": "4e60a429",
      "metadata": {
        "id": "4e60a429"
      },
      "outputs": [],
      "source": [
        "df_6_EYE.info()"
      ]
    },
    {
      "cell_type": "code",
      "execution_count": null,
      "id": "0bdb0c2c",
      "metadata": {
        "id": "0bdb0c2c"
      },
      "outputs": [],
      "source": [
        "df_6_EYE.isnull().sum()"
      ]
    },
    {
      "cell_type": "code",
      "execution_count": null,
      "id": "6c4861fd",
      "metadata": {
        "id": "6c4861fd"
      },
      "outputs": [],
      "source": [
        "plt.figure(figsize=(12,8))\n",
        "sns.heatmap(df_6_EYE.isnull(), cmap='viridis')\n",
        "plt.show()"
      ]
    },
    {
      "cell_type": "markdown",
      "id": "ae97acb5",
      "metadata": {
        "id": "ae97acb5"
      },
      "source": [
        "# Notes & Observations\n",
        "\n",
        "- We observe many **null** (or missing) values in the `QuestionKey` columns.\n",
        "- The nulls in the `QuestionKey` column may not represent “true” nulls. Rather, they follow interval patterns, suggesting that during those periods no question was displayed.\n",
        "- These missing values in `QuestionKey` require additional investigation and context-aware handling."
      ]
    },
    {
      "cell_type": "code",
      "execution_count": null,
      "id": "bc8f3de3",
      "metadata": {
        "id": "bc8f3de3"
      },
      "outputs": [],
      "source": [
        "df_6_EYE['QuestionKey'].unique()"
      ]
    },
    {
      "cell_type": "code",
      "execution_count": null,
      "id": "9ba69264",
      "metadata": {
        "id": "9ba69264"
      },
      "outputs": [],
      "source": [
        "df_6_EYE['Timestamp'] = pd.to_datetime(df_6_EYE['Timestamp'])"
      ]
    },
    {
      "cell_type": "code",
      "execution_count": null,
      "id": "9e904e0b",
      "metadata": {
        "id": "9e904e0b"
      },
      "outputs": [],
      "source": [
        "df_6_EYE.head(3)"
      ]
    },
    {
      "cell_type": "code",
      "execution_count": null,
      "id": "4803daa8",
      "metadata": {
        "id": "4803daa8"
      },
      "outputs": [],
      "source": [
        "df_6_EYE['QuestionKey'] = df_6_EYE['QuestionKey'].fillna('None')"
      ]
    },
    {
      "cell_type": "code",
      "execution_count": null,
      "id": "46e17f67",
      "metadata": {
        "id": "46e17f67"
      },
      "outputs": [],
      "source": [
        "df_6_EYE['QuestionKey'].value_counts()"
      ]
    },
    {
      "cell_type": "code",
      "execution_count": null,
      "id": "6e41e8f3",
      "metadata": {
        "id": "6e41e8f3"
      },
      "outputs": [],
      "source": [
        "plt.figure(figsize=(12,8))\n",
        "sns.heatmap(df_6_EYE.isnull(), cmap='viridis')\n",
        "plt.show()"
      ]
    },
    {
      "cell_type": "code",
      "execution_count": null,
      "id": "d969bf56",
      "metadata": {
        "id": "d969bf56"
      },
      "outputs": [],
      "source": [
        "df_6_EYE.isnull().sum()"
      ]
    },
    {
      "cell_type": "code",
      "execution_count": null,
      "id": "2c53e36d",
      "metadata": {
        "id": "2c53e36d"
      },
      "outputs": [],
      "source": [
        "df_6_EYE.dropna(inplace=True)"
      ]
    },
    {
      "cell_type": "code",
      "execution_count": null,
      "id": "fc4e0e24",
      "metadata": {
        "id": "fc4e0e24"
      },
      "outputs": [],
      "source": [
        "df_6_EYE.head()"
      ]
    },
    {
      "cell_type": "code",
      "execution_count": null,
      "id": "315954b4",
      "metadata": {
        "id": "315954b4"
      },
      "outputs": [],
      "source": [
        "df_6_EYE['Row'].unique()"
      ]
    },
    {
      "cell_type": "code",
      "execution_count": null,
      "id": "b8d560c4",
      "metadata": {
        "id": "b8d560c4"
      },
      "outputs": [],
      "source": [
        "plt.figure(figsize=(8,6))\n",
        "sns.histplot(df_6_EYE['Row'])\n",
        "plt.show()"
      ]
    },
    {
      "cell_type": "markdown",
      "id": "5e510423",
      "metadata": {
        "id": "5e510423"
      },
      "source": [
        "# Notes & Observations\n",
        "\n",
        "- The `Row` column appears to be a simple row index and does not provide meaningful information relevant to the eye-tracking data itself. Therefore, it can be dropped."
      ]
    },
    {
      "cell_type": "code",
      "execution_count": null,
      "id": "3c958736",
      "metadata": {
        "id": "3c958736"
      },
      "outputs": [],
      "source": [
        "df_6_EYE.drop('Row', axis=1, inplace=True)"
      ]
    },
    {
      "cell_type": "code",
      "execution_count": null,
      "id": "913168e0",
      "metadata": {
        "id": "913168e0"
      },
      "outputs": [],
      "source": [
        "df_6_EYE['ET_ValidityLeft'].unique()"
      ]
    },
    {
      "cell_type": "code",
      "execution_count": null,
      "id": "ec5d937a",
      "metadata": {
        "id": "ec5d937a"
      },
      "outputs": [],
      "source": [
        "df_6_EYE['ET_ValidityLeft'].value_counts()"
      ]
    },
    {
      "cell_type": "code",
      "execution_count": null,
      "id": "0a828dbf",
      "metadata": {
        "id": "0a828dbf"
      },
      "outputs": [],
      "source": [
        "df_6_EYE['ET_ValidityRight'].unique()"
      ]
    },
    {
      "cell_type": "code",
      "execution_count": null,
      "id": "9d0676c3",
      "metadata": {
        "id": "9d0676c3"
      },
      "outputs": [],
      "source": [
        "df_6_EYE['ET_ValidityRight'].value_counts()"
      ]
    },
    {
      "cell_type": "code",
      "execution_count": null,
      "id": "5b8746a8",
      "metadata": {
        "id": "5b8746a8"
      },
      "outputs": [],
      "source": [
        "plt.figure(figsize=(12, 6))\n",
        "\n",
        "plt.subplot(1, 2, 1)\n",
        "sns.barplot(x=df_6_EYE['ET_ValidityLeft'].value_counts().index, y=df_6_EYE['ET_ValidityLeft'].value_counts().values)\n",
        "plt.title('Count of ET_ValidityLeft')\n",
        "plt.xlabel('Validity')\n",
        "plt.ylabel('Count')\n",
        "\n",
        "\n",
        "plt.subplot(1, 2, 2)\n",
        "sns.barplot(x=df_6_EYE['ET_ValidityRight'].value_counts().index, y=df_6_EYE['ET_ValidityRight'].value_counts().values)\n",
        "plt.title('Count of ET_ValidityRight')\n",
        "plt.xlabel('Validity')\n",
        "plt.ylabel('Count')\n",
        "\n",
        "plt.tight_layout()\n",
        "plt.show()"
      ]
    },
    {
      "cell_type": "markdown",
      "id": "400e000c",
      "metadata": {
        "id": "400e000c"
      },
      "source": [
        "# Notes & Observations\n",
        "\n",
        "- The `ET_ValidityLeft` and `ET_ValidityRight` columns indicate the validity of the eye-tracking data for the left and right eye, respectively.\n",
        "- Based on the value counts and the bar plots, it appears that a value of `0.0` represents valid eye-tracking data, while a value of `4.0` represents invalid data.\n",
        "- Although the amount of invalid data is relatively small, removing these rows could introduce unwanted patterns or gaps in the time series data.\n"
      ]
    },
    {
      "cell_type": "markdown",
      "id": "959bd1b1",
      "metadata": {
        "id": "959bd1b1"
      },
      "source": [
        "Define a mapping to convert validity values from `0.0` and `4.0` to `0` and `1`."
      ]
    },
    {
      "cell_type": "code",
      "execution_count": null,
      "id": "e9d1d156",
      "metadata": {
        "id": "e9d1d156"
      },
      "outputs": [],
      "source": [
        "validity_map = {4.0: 1.0, 0.0: 0.0}"
      ]
    },
    {
      "cell_type": "code",
      "execution_count": null,
      "id": "c8a6fe4c",
      "metadata": {
        "id": "c8a6fe4c"
      },
      "outputs": [],
      "source": [
        "df_6_EYE['ET_ValidityLeft'] = df_6_EYE['ET_ValidityLeft'].map(validity_map).astype(np.int8)\n",
        "df_6_EYE['ET_ValidityRight'] = df_6_EYE['ET_ValidityRight'].map(validity_map).astype(np.int8)"
      ]
    },
    {
      "cell_type": "code",
      "execution_count": null,
      "id": "23a17b39",
      "metadata": {
        "id": "23a17b39"
      },
      "outputs": [],
      "source": [
        "df_6_EYE.head(3)"
      ]
    },
    {
      "cell_type": "code",
      "execution_count": null,
      "id": "1714d48c",
      "metadata": {
        "id": "1714d48c"
      },
      "outputs": [],
      "source": [
        "df_6_EYE.describe()"
      ]
    },
    {
      "cell_type": "code",
      "execution_count": null,
      "id": "008d58b9",
      "metadata": {
        "id": "008d58b9"
      },
      "outputs": [],
      "source": [
        "df_6_EYE[df_6_EYE['ET_ValidityLeft'] == 1].shape"
      ]
    },
    {
      "cell_type": "code",
      "execution_count": null,
      "id": "0c22b5e4",
      "metadata": {
        "id": "0c22b5e4"
      },
      "outputs": [],
      "source": [
        "df_6_EYE[df_6_EYE['ET_ValidityRight'] == 1].shape"
      ]
    },
    {
      "cell_type": "code",
      "execution_count": null,
      "id": "adc56152",
      "metadata": {
        "id": "adc56152"
      },
      "outputs": [],
      "source": [
        "df_6_EYE[df_6_EYE['ET_ValidityLeft'] == 1].shape[0] / df_6_EYE.shape[0]"
      ]
    },
    {
      "cell_type": "code",
      "execution_count": null,
      "id": "d6bb8022",
      "metadata": {
        "id": "d6bb8022"
      },
      "outputs": [],
      "source": [
        "df_6_EYE[df_6_EYE['ET_ValidityRight'] == 1].shape[0] / df_6_EYE.shape[0]"
      ]
    },
    {
      "cell_type": "code",
      "execution_count": null,
      "id": "eda2ddee",
      "metadata": {
        "id": "eda2ddee"
      },
      "outputs": [],
      "source": [
        "plt.figure(figsize=(18, 8))\n",
        "\n",
        "plt.subplot(1, 2, 1)\n",
        "sns.heatmap(df_6_EYE == -1, cmap='viridis')\n",
        "plt.title('Heatmap of -1 Values')\n",
        "\n",
        "plt.subplot(1, 2, 2)\n",
        "sns.heatmap(df_6_EYE == 1, cmap='viridis')\n",
        "plt.title('Heatmap of 1 Values')\n",
        "\n",
        "plt.tight_layout()\n",
        "plt.show()"
      ]
    },
    {
      "cell_type": "code",
      "execution_count": null,
      "id": "9c5c679f",
      "metadata": {
        "id": "9c5c679f"
      },
      "outputs": [],
      "source": [
        "df_6_EYE[df_6_EYE['ET_PupilLeft'] == -1].shape"
      ]
    },
    {
      "cell_type": "code",
      "execution_count": null,
      "id": "1b2c04de",
      "metadata": {
        "id": "1b2c04de"
      },
      "outputs": [],
      "source": [
        "df_6_EYE[df_6_EYE['ET_PupilRight'] == -1].shape"
      ]
    },
    {
      "cell_type": "code",
      "execution_count": null,
      "id": "62511a15",
      "metadata": {
        "id": "62511a15"
      },
      "outputs": [],
      "source": [
        "df_6_EYE[df_6_EYE['ET_PupilLeft'] == -1].shape[0] / df_6_EYE.shape[0]"
      ]
    },
    {
      "cell_type": "code",
      "execution_count": null,
      "id": "a183921f",
      "metadata": {
        "id": "a183921f"
      },
      "outputs": [],
      "source": [
        "df_6_EYE[df_6_EYE['ET_PupilRight'] == -1].shape[0] / df_6_EYE.shape[0]"
      ]
    },
    {
      "cell_type": "code",
      "execution_count": null,
      "id": "04230213",
      "metadata": {
        "id": "04230213"
      },
      "outputs": [],
      "source": [
        "plt.figure(figsize=(18, 8))\n",
        "\n",
        "plt.subplot(1, 2, 1)\n",
        "sns.heatmap(df_6_EYE[df_6_EYE['ET_ValidityLeft'] == 1] == -1, cmap='viridis')\n",
        "plt.title('Heatmap of -1 Values')\n",
        "\n",
        "plt.subplot(1, 2, 2)\n",
        "sns.heatmap(df_6_EYE[df_6_EYE['ET_ValidityRight'] == 1] == -1, cmap='viridis')\n",
        "plt.title('Heatmap of -1 Values')\n",
        "\n",
        "plt.tight_layout()\n",
        "plt.show()"
      ]
    },
    {
      "cell_type": "markdown",
      "id": "07241ae1",
      "metadata": {
        "id": "07241ae1"
      },
      "source": [
        "# Notes & Observations\n",
        "\n",
        "- The heatmaps reveal the distribution of -1 values across different columns.\n",
        "- It is evident that the `-1` values are not randomly scattered but appear in specific columns, notably `ET_GazeLeftx`, `ET_GazeLefty`, `ET_GazeRightx`, `ET_GazeRighty`, `ET_PupilLeft`, `ET_PupilRight`, `ET_DistanceLeft`, `ET_DistanceRight`, `ET_CameraLeftX`, `ET_CameraLeftY`, `ET_CameraRightX`, and `ET_CameraRightY`.\n",
        "- These `-1` values often coincide with instances where `ET_ValidityLeft` or `ET_ValidityRight` is 1, indicating invalid eye-tracking data. This suggests that `-1` is used as a placeholder for missing or invalid measurements in these columns when the eye tracker is not providing valid data for a particular eye.\n",
        "- Given that over 70% of the data in the `ET_PupilLeft` and `ET_PupilRight` columns is marked as invalid (-1), so instead of dropping them we can create new feature for both the `ET_PupilLeft` and `ET_PupilRight` to represent which row consist invalid `ET_PupilLeft` and `ET_PupilRight` data"
      ]
    },
    {
      "cell_type": "code",
      "execution_count": null,
      "id": "97ed88f3",
      "metadata": {
        "id": "97ed88f3"
      },
      "outputs": [],
      "source": [
        "pupil_validity = {-1: 1 }"
      ]
    },
    {
      "cell_type": "code",
      "execution_count": null,
      "id": "22fffe90",
      "metadata": {
        "id": "22fffe90"
      },
      "outputs": [],
      "source": [
        "df_6_EYE['ET_PupilLeft_validity'] = df_6_EYE['ET_PupilLeft'].map(pupil_validity)"
      ]
    },
    {
      "cell_type": "code",
      "execution_count": null,
      "id": "c35df0c8",
      "metadata": {
        "id": "c35df0c8"
      },
      "outputs": [],
      "source": [
        "df_6_EYE['ET_PupilRight_validity'] = df_6_EYE['ET_PupilRight'].map(pupil_validity)"
      ]
    },
    {
      "cell_type": "code",
      "execution_count": null,
      "id": "807f1339",
      "metadata": {
        "id": "807f1339"
      },
      "outputs": [],
      "source": [
        "df_6_EYE[['ET_PupilLeft_validity', 'ET_PupilRight_validity']].head()"
      ]
    },
    {
      "cell_type": "code",
      "execution_count": null,
      "id": "b35a78dd",
      "metadata": {
        "id": "b35a78dd"
      },
      "outputs": [],
      "source": [
        "df_6_EYE[['ET_PupilLeft_validity', 'ET_PupilRight_validity']].isnull().sum()"
      ]
    },
    {
      "cell_type": "code",
      "execution_count": null,
      "id": "a862567e",
      "metadata": {
        "id": "a862567e"
      },
      "outputs": [],
      "source": [
        "plt.figure(figsize=(18, 8))\n",
        "sns.heatmap(df_6_EYE[['ET_PupilLeft_validity', 'ET_PupilRight_validity']].isnull(), cmap='viridis')\n",
        "plt.show()"
      ]
    },
    {
      "cell_type": "code",
      "execution_count": null,
      "id": "e4d79f73",
      "metadata": {
        "id": "e4d79f73"
      },
      "outputs": [],
      "source": [
        "df_6_EYE['ET_PupilLeft_validity'] = df_6_EYE['ET_PupilLeft_validity'].fillna(0)"
      ]
    },
    {
      "cell_type": "code",
      "execution_count": null,
      "id": "35cb9ed5",
      "metadata": {
        "id": "35cb9ed5"
      },
      "outputs": [],
      "source": [
        "df_6_EYE['ET_PupilRight_validity'] = df_6_EYE['ET_PupilRight_validity'].fillna(0)"
      ]
    },
    {
      "cell_type": "code",
      "execution_count": null,
      "id": "d8c703a3",
      "metadata": {
        "id": "d8c703a3"
      },
      "outputs": [],
      "source": [
        "df_6_EYE[['ET_PupilLeft_validity', 'ET_PupilRight_validity']].head()"
      ]
    },
    {
      "cell_type": "code",
      "execution_count": null,
      "id": "d6b8045f",
      "metadata": {
        "id": "d6b8045f"
      },
      "outputs": [],
      "source": [
        "plt.figure(figsize=(18, 8))\n",
        "sns.heatmap(df_6_EYE[['ET_PupilLeft_validity', 'ET_PupilRight_validity']].isnull(), cmap='viridis')\n",
        "plt.show()"
      ]
    },
    {
      "cell_type": "code",
      "execution_count": null,
      "id": "cad43fbb",
      "metadata": {
        "id": "cad43fbb"
      },
      "outputs": [],
      "source": [
        "df_6_EYE.head()"
      ]
    },
    {
      "cell_type": "code",
      "execution_count": null,
      "id": "abfd8663",
      "metadata": {
        "id": "abfd8663"
      },
      "outputs": [],
      "source": [
        "plt.figure(figsize=(18, 8))\n",
        "\n",
        "plt.subplot(1, 2, 1)\n",
        "sns.heatmap(df_6_EYE == -1, cmap='viridis')\n",
        "plt.title('Heatmap of -1 Values')\n",
        "\n",
        "plt.subplot(1, 2, 2)\n",
        "sns.heatmap(df_6_EYE == 1, cmap='viridis')\n",
        "plt.title('Heatmap of -1 Values')\n",
        "\n",
        "plt.tight_layout()\n",
        "plt.show()"
      ]
    },
    {
      "cell_type": "code",
      "execution_count": null,
      "id": "1d7c795d",
      "metadata": {
        "id": "1d7c795d"
      },
      "outputs": [],
      "source": [
        "valid_left_ratio  = 1 - df_6_EYE['ET_ValidityLeft'].mean()"
      ]
    },
    {
      "cell_type": "code",
      "execution_count": null,
      "id": "074bd1cd",
      "metadata": {
        "id": "074bd1cd"
      },
      "outputs": [],
      "source": [
        "valid_left_ratio"
      ]
    },
    {
      "cell_type": "code",
      "execution_count": null,
      "id": "9e8ae0d1",
      "metadata": {
        "id": "9e8ae0d1"
      },
      "outputs": [],
      "source": [
        "valid_right_ratio = 1 - df_6_EYE['ET_ValidityRight'].mean()"
      ]
    },
    {
      "cell_type": "code",
      "execution_count": null,
      "id": "03f90d42",
      "metadata": {
        "id": "03f90d42"
      },
      "outputs": [],
      "source": [
        "valid_right_ratio"
      ]
    },
    {
      "cell_type": "code",
      "execution_count": null,
      "id": "de1a83cb",
      "metadata": {
        "id": "de1a83cb"
      },
      "outputs": [],
      "source": [
        "df_6_EYE['ET_PupilLeft_validity'] = df_6_EYE['ET_PupilLeft_validity'].astype(np.int8)\n",
        "df_6_EYE['ET_PupilRight_validity'] = df_6_EYE['ET_PupilRight_validity'].astype(np.int8)"
      ]
    },
    {
      "cell_type": "markdown",
      "id": "3f8b7022",
      "metadata": {
        "id": "3f8b7022"
      },
      "source": [
        "# Feature Engineering and Observations\n",
        "\n",
        "Based on the analysis of the data, we've created two new features, `ET_PupilLeft_validity` and `ET_PupilRight_validity`. These features indicate the validity of the pupil data for the left and right eyes, respectively, with a value of 1 representing invalid data (originally -1) and 0 representing valid data.\n",
        "\n",
        "The heatmaps above visually demonstrate the distribution of -1 and 1 values across the dataset. We observed that:\n",
        "- The `-1` values are concentrated in specific columns related to gaze, pupil size, distance, and camera position, suggesting they represent missing or invalid sensor readings.\n",
        "- The `1` values, after mapping from `4.0` in the original validity columns, indicate instances of invalid eye-tracking data.\n",
        "- The heatmaps also show a strong correlation between the `-1` values in the pupil columns and a validity of 1 in the newly created pupil validity features, confirming that -1 was used to mark invalid pupil data."
      ]
    },
    {
      "cell_type": "code",
      "execution_count": null,
      "id": "fef7ad44",
      "metadata": {
        "id": "fef7ad44"
      },
      "outputs": [],
      "source": [
        "df_6_EYE.head()"
      ]
    },
    {
      "cell_type": "code",
      "execution_count": null,
      "id": "51ec82cc",
      "metadata": {
        "id": "51ec82cc"
      },
      "outputs": [],
      "source": [
        "# Select only the numeric columns for plotting histograms, excluding time-related columns\n",
        "numeric_cols = df_6_EYE.select_dtypes(include=np.number).columns\n",
        "cols_to_plot = [col for col in numeric_cols if col not in ['UnixTime']]\n",
        "\n",
        "# Calculate the number of rows and columns for the grid\n",
        "n_cols = 4  # You can adjust the number of columns as needed\n",
        "n_rows = (len(cols_to_plot) + n_cols - 1) // n_cols\n",
        "\n",
        "plt.figure(figsize=(n_cols * 5, n_rows * 4)) # Adjust figure size as needed\n",
        "\n",
        "for i, col in enumerate(cols_to_plot):\n",
        "    plt.subplot(n_rows, n_cols, i + 1)\n",
        "    sns.histplot(df_6_EYE[col], kde=True)\n",
        "    plt.title(f'Distribution of {col}')\n",
        "    plt.xlabel(col)\n",
        "    plt.ylabel('Frequency')\n",
        "\n",
        "plt.tight_layout()\n",
        "plt.show()"
      ]
    },
    {
      "cell_type": "markdown",
      "id": "088e23d2",
      "metadata": {
        "id": "088e23d2"
      },
      "source": [
        "# Observations from Histograms\n",
        "\n",
        "The grid of histograms provides insights into the distribution of values for each numeric column in the dataset (excluding 'UnixTime'). Key observations include:\n",
        "\n",
        "- Several columns, such as `ET_GazeLeftx`, `ET_GazeLefty`, `ET_GazeRightx`, and `ET_GazeRighty`, show distributions that appear somewhat multimodal or skewed, suggesting variations in gaze patterns.\n",
        "- The `ET_PupilLeft` and `ET_PupilRight` histograms clearly show a peak at -1, confirming the presence of a significant number of invalid pupil readings.\n",
        "- `ET_TimeSignal` shows a relatively uniform distribution, as expected for a time-based signal.\n",
        "- `ET_DistanceLeft` and `ET_DistanceRight` appear to have distributions centered around certain values, with some outliers or variations.\n",
        "- The camera position columns (`ET_CameraLeftX`, `ET_CameraLeftY`, `ET_CameraRightX`, `ET_CameraRightY`) seem to have distributions concentrated within specific ranges, reflecting the camera's field of view.\n",
        "- The validity columns (`ET_ValidityLeft`, `ET_ValidityRight`, `ET_PupilLeft_validity`, `ET_PupilRight_validity`) show distributions dominated by 0, indicating that most of the data is considered valid after the mapping. The smaller peaks at 1 represent the instances of invalid data.\n",
        "\n",
        "These distributions highlight the need for appropriate handling of the -1 values and potential outliers in subsequent analysis or modeling steps."
      ]
    },
    {
      "cell_type": "code",
      "execution_count": null,
      "id": "e2c77d9a",
      "metadata": {
        "id": "e2c77d9a"
      },
      "outputs": [],
      "source": [
        "df_6_EYE.columns"
      ]
    },
    {
      "cell_type": "code",
      "execution_count": null,
      "id": "7dd05a52",
      "metadata": {
        "id": "7dd05a52"
      },
      "outputs": [],
      "source": [
        "cols = ['ET_GazeLeftx', 'ET_GazeLefty',\n",
        "       'ET_GazeRightx', 'ET_GazeRighty', 'ET_PupilLeft', 'ET_PupilRight',\n",
        "       'ET_TimeSignal', 'ET_DistanceLeft', 'ET_DistanceRight',\n",
        "       'ET_CameraLeftX', 'ET_CameraLeftY', 'ET_CameraRightX',\n",
        "       'ET_CameraRightY', 'ET_ValidityLeft', 'ET_ValidityRight',\n",
        "       'ET_PupilLeft_validity', 'ET_PupilRight_validity']"
      ]
    },
    {
      "cell_type": "code",
      "execution_count": null,
      "id": "e73dd464",
      "metadata": {
        "id": "e73dd464"
      },
      "outputs": [],
      "source": [
        "from IPython.display import display, Markdown\n",
        "\n",
        "for col in cols:\n",
        "    # Add a markdown cell before each plot for better separation and labeling\n",
        "    display(Markdown(f'### {col} over Time'))\n",
        "    plt.figure(figsize=(16, 10))\n",
        "    plt.plot(df_6_EYE['Timestamp'], df_6_EYE[col])\n",
        "    plt.xlabel(\"Timestamp\") # Add x-axis label\n",
        "    plt.ylabel(col) # Add y-axis label\n",
        "    plt.show()"
      ]
    },
    {
      "cell_type": "markdown",
      "id": "10612edf",
      "metadata": {
        "id": "10612edf"
      },
      "source": [
        "# Observations from Time Series Plots\n",
        "\n",
        "The line plots showing various features against the `Timestamp` reveal the temporal patterns and fluctuations in the eye-tracking data. Key observations include:\n",
        "\n",
        "- **Gaze Coordinates (`ET_GazeLeftx`, `ET_GazeLefty`, `ET_GazeRightx`, `ET_GazeRighty`):** These plots show the changes in gaze position over time. We can observe periods of relatively stable gaze interspersed with rapid movements (saccades) and blinks or other events where the gaze data might be invalid (-1 values appear as gaps or spikes if not handled).\n",
        "- **Pupil Size (`ET_PupilLeft`, `ET_PupilRight`):** The pupil size plots show variations over time. The presence of many -1 values is evident as flat lines at the bottom of the plot, indicating periods where pupil data was not recorded or was invalid.\n",
        "- **Time Signal (`ET_TimeSignal`):** This plot shows a steady, increasing trend, as expected for a time-based signal.\n",
        "- **Distance and Camera Position (`ET_DistanceLeft`, `ET_DistanceRight`, `ET_CameraLeftX`, `ET_CameraLeftY`, `ET_CameraRightX`, `ET_CameraRightY`):** These plots show how the distance from the eye tracker and the camera positions change over time. Variations in these features can be related to head movements or changes in the user's position relative to the eye tracker.\n",
        "- **Validity (`ET_ValidityLeft`, `ET_ValidityRight`, `ET_PupilLeft_validity`, `ET_PupilRight_validity`):** These plots clearly show periods of invalid data (represented by 1) as spikes or plateaus, corresponding to instances where the eye tracker lost track of the eyes or the pupil data was marked as invalid.\n",
        "\n",
        "Analyzing these time series plots is crucial for understanding the dynamics of the eye-tracking data and identifying patterns or anomalies that may require further investigation or specific handling during subsequent analysis."
      ]
    },
    {
      "cell_type": "code",
      "execution_count": null,
      "id": "52e91f9b",
      "metadata": {
        "id": "52e91f9b"
      },
      "outputs": [],
      "source": [
        "# Select only the numeric columns for plotting histograms, excluding time-related columns\n",
        "numeric_cols = df_6_EYE.select_dtypes(include=np.number).columns\n",
        "\n",
        "# Calculate the number of rows and columns for the grid\n",
        "n_cols = 4  # You can adjust the number of columns as needed\n",
        "n_rows = (len(numeric_cols) + n_cols - 1) // n_cols\n",
        "\n",
        "plt.figure(figsize=(n_cols * 5, n_rows * 4)) # Adjust figure size as needed\n",
        "\n",
        "for i, col in enumerate(numeric_cols):\n",
        "    plt.subplot(n_rows, n_cols, i + 1)\n",
        "    sns.boxplot(df_6_EYE[col])\n",
        "    plt.title(f'Boxplot of {col}')\n",
        "    plt.xlabel(col)\n",
        "\n",
        "plt.tight_layout()\n",
        "plt.show()"
      ]
    },
    {
      "cell_type": "markdown",
      "id": "acb6fdd9",
      "metadata": {
        "id": "acb6fdd9"
      },
      "source": [
        "# Observations from Boxplots and Handling -1 Values\n",
        "\n",
        "The boxplots provide a visual summary of the distribution and potential outliers for each numeric column. Key observations from the boxplots include:\n",
        "\n",
        "- The boxplots for columns like `ET_GazeLeftx`, `ET_GazeLefty`, `ET_GazeRightx`, `ET_GazeRighty`, `ET_PupilLeft`, `ET_PupilRight`, `ET_DistanceLeft`, `ET_DistanceRight`, `ET_CameraLeftX`, `ET_CameraLeftY`, `ET_CameraRightX`, and `ET_CameraRightY` clearly show the presence of -1 values as significant outliers, confirming our earlier observations from the heatmaps and histograms.\n",
        "- The boxplots for the validity columns (`ET_ValidityLeft`, `ET_ValidityRight`, `ET_PupilLeft_validity`, `ET_PupilRight_validity`) show the discrete nature of these features, with the majority of data points at 0 (valid) and a smaller number at 1 (invalid).\n",
        "\n",
        "Given the significant presence of -1 values, which represent invalid or missing data, especially in the pupil-related columns, we have decided to replace these -1 values with NaN to properly represent them as missing data. Subsequently, we will impute these missing values using the mean of each respective column. This approach helps to retain the data structure and allows for further analysis or modeling without the distortion caused by the -1 placeholders."
      ]
    },
    {
      "cell_type": "code",
      "execution_count": null,
      "id": "762fced8",
      "metadata": {
        "id": "762fced8"
      },
      "outputs": [],
      "source": [
        "df_6_EYE.replace({-1: np.nan}, inplace=True)"
      ]
    },
    {
      "cell_type": "code",
      "execution_count": null,
      "id": "eb83ae39",
      "metadata": {
        "id": "eb83ae39"
      },
      "outputs": [],
      "source": [
        "df_6_EYE[['ET_GazeLeftx', 'ET_GazeLefty',\n",
        "       'ET_GazeRightx', 'ET_GazeRighty', 'ET_PupilLeft', 'ET_PupilRight',\n",
        "       'ET_TimeSignal', 'ET_DistanceLeft', 'ET_DistanceRight',\n",
        "       'ET_CameraLeftX', 'ET_CameraLeftY', 'ET_CameraRightX',\n",
        "       'ET_CameraRightY', 'ET_ValidityLeft', 'ET_ValidityRight',\n",
        "       'ET_PupilLeft_validity', 'ET_PupilRight_validity']].mean()"
      ]
    },
    {
      "cell_type": "code",
      "execution_count": null,
      "id": "e61118e8",
      "metadata": {
        "id": "e61118e8"
      },
      "outputs": [],
      "source": [
        "df_6_EYE[['ET_GazeLeftx', 'ET_GazeLefty',\n",
        "       'ET_GazeRightx', 'ET_GazeRighty', 'ET_PupilLeft', 'ET_PupilRight',\n",
        "       'ET_TimeSignal', 'ET_DistanceLeft', 'ET_DistanceRight',\n",
        "       'ET_CameraLeftX', 'ET_CameraLeftY', 'ET_CameraRightX',\n",
        "       'ET_CameraRightY', 'ET_ValidityLeft', 'ET_ValidityRight',\n",
        "       'ET_PupilLeft_validity', 'ET_PupilRight_validity']].median()"
      ]
    },
    {
      "cell_type": "code",
      "execution_count": null,
      "id": "6c29b5d1",
      "metadata": {
        "id": "6c29b5d1"
      },
      "outputs": [],
      "source": [
        "numeric_cols = df_6_EYE.select_dtypes(include=np.number).columns\n",
        "\n",
        "for col in numeric_cols:\n",
        "    df_6_EYE[col] = df_6_EYE[col].fillna(df_6_EYE[col].mean())"
      ]
    },
    {
      "cell_type": "code",
      "execution_count": null,
      "id": "2de4628d",
      "metadata": {
        "id": "2de4628d"
      },
      "outputs": [],
      "source": [
        "plt.figure(figsize=(18, 8))\n",
        "\n",
        "plt.subplot(1, 2, 1)\n",
        "sns.heatmap(df_6_EYE.isnull(), cmap='viridis')\n",
        "plt.title('Heatmap of Missing Values After Imputation')\n",
        "\n",
        "plt.subplot(1, 2, 2)\n",
        "sns.heatmap(df_6_EYE == 1, cmap='viridis')\n",
        "plt.title('Heatmap of 1 Values')\n",
        "\n",
        "plt.tight_layout()\n",
        "plt.show()"
      ]
    },
    {
      "cell_type": "markdown",
      "id": "e1cf27be",
      "metadata": {
        "id": "e1cf27be"
      },
      "source": [
        "# Handling Missing Values (Imputation)\n",
        "\n",
        "As decided, we have replaced all the `-1` values with `NaN` to treat them as missing data. Subsequently, we have imputed these `NaN` values with the mean of their respective columns. The heatmap above, which was generated after the imputation, now shows no visible signs of `NaN` values, indicating that the imputation was successful."
      ]
    },
    {
      "cell_type": "code",
      "execution_count": null,
      "id": "5008580d",
      "metadata": {
        "id": "5008580d"
      },
      "outputs": [],
      "source": [
        "df_6_EYE.head()"
      ]
    },
    {
      "cell_type": "code",
      "execution_count": null,
      "id": "906af03e",
      "metadata": {
        "id": "906af03e"
      },
      "outputs": [],
      "source": [
        "# Select only the numeric columns for plotting histograms, excluding time-related columns\n",
        "numeric_cols = df_6_EYE.select_dtypes(include=np.number).columns\n",
        "cols_to_plot = [col for col in numeric_cols if col not in ['UnixTime']]\n",
        "\n",
        "# Calculate the number of rows and columns for the grid\n",
        "n_cols = 4  # You can adjust the number of columns as needed\n",
        "n_rows = (len(cols_to_plot) + n_cols - 1) // n_cols\n",
        "\n",
        "plt.figure(figsize=(n_cols * 5, n_rows * 4)) # Adjust figure size as needed\n",
        "\n",
        "for i, col in enumerate(cols_to_plot):\n",
        "    plt.subplot(n_rows, n_cols, i + 1)\n",
        "    sns.histplot(df_6_EYE[col], kde=True)\n",
        "    plt.title(f'Distribution of {col}')\n",
        "    plt.xlabel(col)\n",
        "    plt.ylabel('Frequency')\n",
        "\n",
        "plt.tight_layout()\n",
        "plt.show()"
      ]
    },
    {
      "cell_type": "markdown",
      "id": "6607f7c6",
      "metadata": {
        "id": "6607f7c6"
      },
      "source": [
        "# Observations from Histograms After Imputation\n",
        "\n",
        "The histograms generated after replacing the -1 values with the mean of each column show the distributions of the numeric features with the missing data handled. Key observations from these updated histograms include:\n",
        "\n",
        "- The distinct peaks at -1, which were prominent in the histograms for several columns (e.g., pupil size, gaze coordinates, distance, and camera position) before imputation, are now replaced by a peak at the mean of each respective column.\n",
        "- The distributions in many columns now appear more unimodal or show shifted modes compared to the original histograms.\n",
        "- The histograms for the validity columns still show their bimodal distributions with peaks at 0 and 1, as these were handled separately.\n",
        "\n",
        "These histograms provide an updated view of the data's distribution after handling the missing values, highlighting the impact of the imputation method on the data's characteristics."
      ]
    },
    {
      "cell_type": "code",
      "execution_count": null,
      "id": "1f6b7fed",
      "metadata": {
        "id": "1f6b7fed"
      },
      "outputs": [],
      "source": [
        "cols = ['ET_GazeLeftx', 'ET_GazeLefty',\n",
        "       'ET_GazeRightx', 'ET_GazeRighty', 'ET_PupilLeft', 'ET_PupilRight',\n",
        "       'ET_TimeSignal', 'ET_DistanceLeft', 'ET_DistanceRight',\n",
        "       'ET_CameraLeftX', 'ET_CameraLeftY', 'ET_CameraRightX',\n",
        "       'ET_CameraRightY', 'ET_ValidityLeft', 'ET_ValidityRight',\n",
        "       'ET_PupilLeft_validity', 'ET_PupilRight_validity']"
      ]
    },
    {
      "cell_type": "code",
      "execution_count": null,
      "id": "00181e11",
      "metadata": {
        "id": "00181e11"
      },
      "outputs": [],
      "source": [
        "for col in cols:\n",
        "    # Add a markdown cell before each plot for better separation and labeling\n",
        "    display(Markdown(f'### {col} over Time'))\n",
        "    plt.figure(figsize=(16, 10))\n",
        "    plt.plot(df_6_EYE['Timestamp'], df_6_EYE[col])\n",
        "    plt.xlabel(\"Timestamp\") # Add x-axis label\n",
        "    plt.ylabel(col) # Add y-axis label\n",
        "    plt.show()"
      ]
    },
    {
      "cell_type": "markdown",
      "id": "420084d5",
      "metadata": {
        "id": "420084d5"
      },
      "source": [
        "# Observations from Time Series Plots After Imputation\n",
        "\n",
        "The line plots generated after imputing the missing values with the mean show the temporal patterns of the features with the missing data handled. Key observations from these updated plots include:\n",
        "\n",
        "- The gaps or flat lines at -1, which were prominent in the plots for columns like gaze coordinates, pupil size, distance, and camera position, are now filled by lines at the mean value of the respective columns.\n",
        "- The plots for the validity columns remain the same as they were handled separately.\n",
        "- The `ET_TimeSignal` plot still shows a steady increasing trend, as expected."
      ]
    },
    {
      "cell_type": "code",
      "execution_count": null,
      "id": "34001dd9",
      "metadata": {
        "id": "34001dd9"
      },
      "outputs": [],
      "source": [
        "plt.figure(figsize=(16, 10))\n",
        "sns.heatmap(df_6_EYE.corr(numeric_only=True), cmap='YlGnBu', annot=True)\n",
        "plt.show()"
      ]
    },
    {
      "cell_type": "markdown",
      "id": "a00239cb",
      "metadata": {
        "id": "a00239cb"
      },
      "source": [
        "# Observations from Correlation Heatmap\n",
        "\n",
        "The correlation heatmap provides a visual representation of the pairwise correlations between the numeric columns in the dataset. Key observations from the heatmap include:\n",
        "\n",
        "- **High Positive Correlations:** We observe strong positive correlations (values close to 1) between:\n",
        "  - `ET_GazeLeftx` and `ET_GazeRightx`: This is expected as the gaze positions of both eyes should be highly correlated when fixating on a point.\n",
        "  - `ET_GazeLefty` and `ET_GazeRighty`: Similar to the x-coordinates, the y-coordinates of gaze should also be highly correlated.\n",
        "  - `ET_PupilLeft` and `ET_PupilRight`: Pupil sizes of both eyes tend to change together in response to light and cognitive load.\n",
        "  - `ET_DistanceLeft` and `ET_DistanceRight`: The distance from the eye tracker to each eye should be highly correlated.\n",
        "  - `ET_CameraLeftX` and `ET_CameraRightX`, `ET_CameraLeftY` and `ET_CameraRightY`: The camera positions for both eyes are also expected to be highly correlated.\n",
        "  - `UnixTime` and `ET_TimeSignal`: As previously noted, these two columns are almost perfectly linearly correlated, indicating redundancy.\n",
        "  - `ET_ValidityLeft` and `ET_PupilLeft_validity`: There is a positive correlation, suggesting that when the overall left eye data is invalid, the left pupil data is also likely to be invalid.\n",
        "  - `ET_ValidityRight` and `ET_PupilRight_validity`: Similar to the left eye, there is a positive correlation between the overall right eye validity and the right pupil validity.\n",
        "- **Other Correlations:** We can also observe other varying degrees of correlations between different features, which can provide insights into the relationships between gaze behavior, pupil size, distance, and camera position. For example, there might be correlations between gaze coordinates and camera positions, reflecting head movements.\n",
        "- **Low or Near-Zero Correlations:** Columns with low or near-zero correlations are relatively independent of each other.\n",
        "\n",
        "Understanding these correlations is important for feature selection and for building models, as highly correlated features might indicate multicollinearity, while correlations between features can reveal underlying patterns in the data."
      ]
    },
    {
      "cell_type": "markdown",
      "id": "8eab47b8",
      "metadata": {
        "id": "8eab47b8"
      },
      "source": [
        "# Analysis of ET_TimeSignal and Decision to Drop\n",
        "\n",
        "As observed in the time series plot and confirmed by the correlation heatmap, the `ET_TimeSignal` column exhibits a near-perfect linear relationship with both the `Timestamp` and `UnixTime` columns. This strong correlation (close to 1) suggests that `ET_TimeSignal` is essentially redundant and likely represents another form of time recording or a signal directly derived from the timestamp.\n",
        "\n",
        "Including highly correlated features like this in a dataset can lead to issues such as multicollinearity in some statistical models, which can make it difficult to interpret the individual impact of each feature. Since the `Timestamp` column already provides the necessary temporal information, retaining `ET_TimeSignal` does not appear to add significant value for further analysis or modeling in most cases.\n",
        "\n",
        "Therefore, based on its high correlation and lack of unique insight, we will proceed to drop the `ET_TimeSignal` column to simplify the dataset and potentially improve the performance and interpretability of future analyses."
      ]
    },
    {
      "cell_type": "code",
      "execution_count": null,
      "id": "3b474b2a",
      "metadata": {
        "id": "3b474b2a"
      },
      "outputs": [],
      "source": [
        "df_6_EYE.drop('ET_TimeSignal', axis=1, inplace=True)"
      ]
    },
    {
      "cell_type": "code",
      "execution_count": null,
      "id": "e769d0c5",
      "metadata": {
        "id": "e769d0c5"
      },
      "outputs": [],
      "source": [
        "plt.figure(figsize=(16, 10))\n",
        "sns.pairplot(df_6_EYE)\n",
        "plt.show()"
      ]
    },
    {
      "cell_type": "code",
      "source": [],
      "metadata": {
        "id": "WhmEtcczfu8N"
      },
      "id": "WhmEtcczfu8N",
      "execution_count": null,
      "outputs": []
    },
    {
      "cell_type": "markdown",
      "metadata": {
        "id": "1bf444f3"
      },
      "source": [
        "# Summary and Decision for 6_EYE Data\n",
        "\n",
        "Based on the analysis of the 6_EYE dataset, we observed a significant amount of invalid data, particularly in the eye-tracking validity and pupil size columns. The heatmaps and value counts clearly showed that in many instances, the eye tracker did not provide valid data for either the left or right eye, and a large proportion of the pupil data was marked with -1, indicating invalid measurements.\n",
        "\n",
        "While we performed imputation to handle the -1 values and replace them with the mean, the high percentage of invalid data still raises concerns about the overall reliability and representativeness of this dataset for model building. Including data with such a high proportion of imputed values, even if based on the mean, could introduce bias and negatively impact the performance and generalizability of any models trained on this data.\n",
        "\n",
        "Therefore, considering the extent of the invalid data and its potential impact on model quality, we have decided **not to use the 6_EYE dataset for model building**. We will proceed with analyzing and preparing the other datasets that exhibit a higher proportion of valid eye-tracking data."
      ],
      "id": "1bf444f3"
    },
    {
      "cell_type": "markdown",
      "id": "94faa7e1",
      "metadata": {
        "id": "94faa7e1"
      },
      "source": [
        "# **7_EYE**"
      ]
    },
    {
      "cell_type": "code",
      "execution_count": null,
      "id": "4b14858a",
      "metadata": {
        "id": "4b14858a"
      },
      "outputs": [],
      "source": [
        "df_7_EYE = pd.read_csv('data/STData/7/7_EYE.csv')"
      ]
    },
    {
      "cell_type": "code",
      "execution_count": null,
      "id": "3cc3706c",
      "metadata": {
        "id": "3cc3706c"
      },
      "outputs": [],
      "source": [
        "df_7_EYE.head()"
      ]
    },
    {
      "cell_type": "code",
      "execution_count": null,
      "id": "92ea0348",
      "metadata": {
        "id": "92ea0348"
      },
      "outputs": [],
      "source": [
        "df_7_EYE.shape"
      ]
    },
    {
      "cell_type": "code",
      "execution_count": null,
      "id": "7268d9bc",
      "metadata": {
        "id": "7268d9bc"
      },
      "outputs": [],
      "source": [
        "df_7_EYE.columns"
      ]
    },
    {
      "cell_type": "code",
      "execution_count": null,
      "id": "28d24a1d",
      "metadata": {
        "id": "28d24a1d"
      },
      "outputs": [],
      "source": [
        "df_7_EYE.info()"
      ]
    },
    {
      "cell_type": "code",
      "execution_count": null,
      "id": "b85f90da",
      "metadata": {
        "id": "b85f90da"
      },
      "outputs": [],
      "source": [
        "df_7_EYE.isnull().sum()"
      ]
    },
    {
      "cell_type": "code",
      "execution_count": null,
      "id": "0863d3c2",
      "metadata": {
        "id": "0863d3c2"
      },
      "outputs": [],
      "source": [
        "plt.figure(figsize=(12,8))\n",
        "sns.heatmap(df_7_EYE.isnull(), cmap='viridis')\n",
        "plt.show()"
      ]
    },
    {
      "cell_type": "markdown",
      "id": "de3250c2",
      "metadata": {
        "id": "de3250c2"
      },
      "source": [
        "# Notes & Observations\n",
        "\n",
        "- We observe many **null** (or missing) values in the `QuestionKey` columns.\n",
        "- The nulls in the `QuestionKey` column may not represent “true” nulls. Rather, they follow interval patterns, suggesting that during those periods no question was displayed.\n",
        "- These missing values in `QuestionKey` require additional investigation and context-aware handling."
      ]
    },
    {
      "cell_type": "code",
      "execution_count": null,
      "id": "cf950b24",
      "metadata": {
        "id": "cf950b24"
      },
      "outputs": [],
      "source": [
        "df_7_EYE['QuestionKey'].unique()"
      ]
    },
    {
      "cell_type": "code",
      "execution_count": null,
      "id": "9e4e2df7",
      "metadata": {
        "id": "9e4e2df7"
      },
      "outputs": [],
      "source": [
        "df_7_EYE['Timestamp'] = pd.to_datetime(df_7_EYE['Timestamp'])"
      ]
    },
    {
      "cell_type": "code",
      "execution_count": null,
      "id": "aa23448c",
      "metadata": {
        "id": "aa23448c"
      },
      "outputs": [],
      "source": [
        "df_7_EYE.head(3)"
      ]
    },
    {
      "cell_type": "code",
      "execution_count": null,
      "id": "2fdc5529",
      "metadata": {
        "id": "2fdc5529"
      },
      "outputs": [],
      "source": [
        "df_7_EYE['QuestionKey'] = df_7_EYE['QuestionKey'].fillna('None')"
      ]
    },
    {
      "cell_type": "code",
      "execution_count": null,
      "id": "19dfd668",
      "metadata": {
        "id": "19dfd668"
      },
      "outputs": [],
      "source": [
        "df_7_EYE['QuestionKey'].value_counts()"
      ]
    },
    {
      "cell_type": "code",
      "execution_count": null,
      "id": "aae2969f",
      "metadata": {
        "id": "aae2969f"
      },
      "outputs": [],
      "source": [
        "plt.figure(figsize=(12,8))\n",
        "sns.heatmap(df_7_EYE.isnull(), cmap='viridis')\n",
        "plt.show()"
      ]
    },
    {
      "cell_type": "code",
      "execution_count": null,
      "id": "ba496257",
      "metadata": {
        "id": "ba496257"
      },
      "outputs": [],
      "source": [
        "df_7_EYE.isnull().sum()"
      ]
    },
    {
      "cell_type": "code",
      "execution_count": null,
      "id": "561684f1",
      "metadata": {
        "id": "561684f1"
      },
      "outputs": [],
      "source": [
        "df_7_EYE.dropna(inplace=True)"
      ]
    },
    {
      "cell_type": "code",
      "execution_count": null,
      "id": "ddb2645d",
      "metadata": {
        "id": "ddb2645d"
      },
      "outputs": [],
      "source": [
        "df_7_EYE.head()"
      ]
    },
    {
      "cell_type": "code",
      "execution_count": null,
      "id": "af33147a",
      "metadata": {
        "id": "af33147a"
      },
      "outputs": [],
      "source": [
        "df_7_EYE['Row'].unique()"
      ]
    },
    {
      "cell_type": "code",
      "execution_count": null,
      "id": "307932c4",
      "metadata": {
        "id": "307932c4"
      },
      "outputs": [],
      "source": [
        "plt.figure(figsize=(8,6))\n",
        "sns.histplot(df_7_EYE['Row'])\n",
        "plt.show()"
      ]
    },
    {
      "cell_type": "markdown",
      "id": "8ebcbbe2",
      "metadata": {
        "id": "8ebcbbe2"
      },
      "source": [
        "# Notes & Observations\n",
        "\n",
        "- The `Row` column appears to be a simple row index and does not provide meaningful information relevant to the eye-tracking data itself. Therefore, it can be dropped."
      ]
    },
    {
      "cell_type": "code",
      "execution_count": null,
      "id": "953b8a8d",
      "metadata": {
        "id": "953b8a8d"
      },
      "outputs": [],
      "source": [
        "df_7_EYE.drop('Row', axis=1, inplace=True)"
      ]
    },
    {
      "cell_type": "code",
      "execution_count": null,
      "id": "e6d4f0ad",
      "metadata": {
        "id": "e6d4f0ad"
      },
      "outputs": [],
      "source": [
        "df_7_EYE['ET_ValidityLeft'].unique()"
      ]
    },
    {
      "cell_type": "code",
      "execution_count": null,
      "id": "30b84295",
      "metadata": {
        "id": "30b84295"
      },
      "outputs": [],
      "source": [
        "df_7_EYE['ET_ValidityLeft'].value_counts()"
      ]
    },
    {
      "cell_type": "code",
      "execution_count": null,
      "id": "48c5b2e5",
      "metadata": {
        "id": "48c5b2e5"
      },
      "outputs": [],
      "source": [
        "df_7_EYE['ET_ValidityRight'].unique()"
      ]
    },
    {
      "cell_type": "code",
      "execution_count": null,
      "id": "22a4a88a",
      "metadata": {
        "id": "22a4a88a"
      },
      "outputs": [],
      "source": [
        "df_7_EYE['ET_ValidityRight'].value_counts()"
      ]
    },
    {
      "cell_type": "code",
      "execution_count": null,
      "id": "719e92ca",
      "metadata": {
        "id": "719e92ca"
      },
      "outputs": [],
      "source": [
        "plt.figure(figsize=(12, 6))\n",
        "\n",
        "plt.subplot(1, 2, 1)\n",
        "sns.barplot(x=df_7_EYE['ET_ValidityLeft'].value_counts().index, y=df_7_EYE['ET_ValidityLeft'].value_counts().values)\n",
        "plt.title('Count of ET_ValidityLeft')\n",
        "plt.xlabel('Validity')\n",
        "plt.ylabel('Count')\n",
        "\n",
        "\n",
        "plt.subplot(1, 2, 2)\n",
        "sns.barplot(x=df_7_EYE['ET_ValidityRight'].value_counts().index, y=df_7_EYE['ET_ValidityRight'].value_counts().values)\n",
        "plt.title('Count of ET_ValidityRight')\n",
        "plt.xlabel('Validity')\n",
        "plt.ylabel('Count')\n",
        "\n",
        "plt.tight_layout()\n",
        "plt.show()"
      ]
    },
    {
      "cell_type": "markdown",
      "id": "859c87c5",
      "metadata": {
        "id": "859c87c5"
      },
      "source": [
        "# Notes & Observations\n",
        "\n",
        "- The `ET_ValidityLeft` and `ET_ValidityRight` columns indicate the validity of the eye-tracking data for the left and right eye, respectively.\n",
        "- Based on the value counts and the bar plots, it appears that a value of `0.0` represents valid eye-tracking data, while a value of `4.0` represents invalid data.\n",
        "- Although the amount of invalid data is relatively small, removing these rows could introduce unwanted patterns or gaps in the time series data.\n",
        "- Therefore, we will keep the data and replace the value `4.0` with `1.0` in both `ET_ValidityLeft` and `ET_ValidityRight` columns. This will indicate to a machine learning model that the eye tracker had invalid data at those specific points in time while maintaining the integrity of the time series."
      ]
    },
    {
      "cell_type": "markdown",
      "id": "8ce8f5ee",
      "metadata": {
        "id": "8ce8f5ee"
      },
      "source": [
        "Define a mapping to convert validity values from `0.0` and `4.0` to `0` and `1`."
      ]
    },
    {
      "cell_type": "code",
      "execution_count": null,
      "id": "8243149e",
      "metadata": {
        "id": "8243149e"
      },
      "outputs": [],
      "source": [
        "validity_map = {4.0: 1.0, 0.0: 0.0}"
      ]
    },
    {
      "cell_type": "code",
      "execution_count": null,
      "id": "310484ba",
      "metadata": {
        "id": "310484ba"
      },
      "outputs": [],
      "source": [
        "df_7_EYE['ET_ValidityLeft'] = df_7_EYE['ET_ValidityLeft'].map(validity_map).astype(np.int8)\n",
        "df_7_EYE['ET_ValidityRight'] = df_7_EYE['ET_ValidityRight'].map(validity_map).astype(np.int8)"
      ]
    },
    {
      "cell_type": "code",
      "execution_count": null,
      "id": "d1a538b6",
      "metadata": {
        "id": "d1a538b6"
      },
      "outputs": [],
      "source": [
        "df_7_EYE.head(3)"
      ]
    },
    {
      "cell_type": "code",
      "execution_count": null,
      "id": "92c16d07",
      "metadata": {
        "id": "92c16d07"
      },
      "outputs": [],
      "source": [
        "df_7_EYE.describe()"
      ]
    },
    {
      "cell_type": "code",
      "execution_count": null,
      "id": "3a230ae1",
      "metadata": {
        "id": "3a230ae1"
      },
      "outputs": [],
      "source": [
        "df_7_EYE[df_7_EYE['ET_ValidityLeft'] == 1].shape"
      ]
    },
    {
      "cell_type": "code",
      "execution_count": null,
      "id": "7715f4b2",
      "metadata": {
        "id": "7715f4b2"
      },
      "outputs": [],
      "source": [
        "df_7_EYE[df_7_EYE['ET_ValidityRight'] == 1].shape"
      ]
    },
    {
      "cell_type": "code",
      "execution_count": null,
      "id": "2fd6c0af",
      "metadata": {
        "id": "2fd6c0af"
      },
      "outputs": [],
      "source": [
        "df_7_EYE[df_7_EYE['ET_ValidityLeft'] == 1].shape[0] / df_7_EYE.shape[0]"
      ]
    },
    {
      "cell_type": "code",
      "execution_count": null,
      "id": "a140d32d",
      "metadata": {
        "id": "a140d32d"
      },
      "outputs": [],
      "source": [
        "df_7_EYE[df_7_EYE['ET_ValidityRight'] == 1].shape[0] / df_7_EYE.shape[0]"
      ]
    },
    {
      "cell_type": "code",
      "execution_count": null,
      "id": "654be669",
      "metadata": {
        "id": "654be669"
      },
      "outputs": [],
      "source": [
        "plt.figure(figsize=(18, 8))\n",
        "\n",
        "plt.subplot(1, 2, 1)\n",
        "sns.heatmap(df_7_EYE == -1, cmap='viridis')\n",
        "plt.title('Heatmap of -1 Values')\n",
        "\n",
        "plt.subplot(1, 2, 2)\n",
        "sns.heatmap(df_7_EYE == 1, cmap='viridis')\n",
        "plt.title('Heatmap of 1 Values')\n",
        "\n",
        "plt.tight_layout()\n",
        "plt.show()"
      ]
    },
    {
      "cell_type": "code",
      "execution_count": null,
      "id": "16a3d6a1",
      "metadata": {
        "id": "16a3d6a1"
      },
      "outputs": [],
      "source": [
        "df_7_EYE[df_7_EYE['ET_PupilLeft'] == -1].shape"
      ]
    },
    {
      "cell_type": "code",
      "execution_count": null,
      "id": "e4d2801b",
      "metadata": {
        "id": "e4d2801b"
      },
      "outputs": [],
      "source": [
        "df_7_EYE[df_7_EYE['ET_PupilRight'] == -1].shape"
      ]
    },
    {
      "cell_type": "code",
      "execution_count": null,
      "id": "9d5e4d7b",
      "metadata": {
        "id": "9d5e4d7b"
      },
      "outputs": [],
      "source": [
        "df_7_EYE[df_7_EYE['ET_PupilLeft'] == -1].shape[0] / df_7_EYE.shape[0]"
      ]
    },
    {
      "cell_type": "code",
      "execution_count": null,
      "id": "3f570934",
      "metadata": {
        "id": "3f570934"
      },
      "outputs": [],
      "source": [
        "df_7_EYE[df_7_EYE['ET_PupilRight'] == -1].shape[0] / df_7_EYE.shape[0]"
      ]
    },
    {
      "cell_type": "code",
      "execution_count": null,
      "id": "cd30205a",
      "metadata": {
        "id": "cd30205a"
      },
      "outputs": [],
      "source": [
        "plt.figure(figsize=(18, 8))\n",
        "\n",
        "plt.subplot(1, 2, 1)\n",
        "sns.heatmap(df_7_EYE[df_7_EYE['ET_ValidityLeft'] == 1] == -1, cmap='viridis')\n",
        "plt.title('Heatmap of -1 Values')\n",
        "\n",
        "plt.subplot(1, 2, 2)\n",
        "sns.heatmap(df_7_EYE[df_7_EYE['ET_ValidityRight'] == 1] == -1, cmap='viridis')\n",
        "plt.title('Heatmap of -1 Values')\n",
        "\n",
        "plt.tight_layout()\n",
        "plt.show()"
      ]
    },
    {
      "cell_type": "markdown",
      "id": "18286ae7",
      "metadata": {
        "id": "18286ae7"
      },
      "source": [
        "# Notes & Observations\n",
        "\n",
        "- The heatmaps reveal the distribution of -1 values across different columns.\n",
        "- It is evident that the `-1` values are not randomly scattered but appear in specific columns, notably `ET_GazeLeftx`, `ET_GazeLefty`, `ET_GazeRightx`, `ET_GazeRighty`, `ET_PupilLeft`, `ET_PupilRight`, `ET_DistanceLeft`, `ET_DistanceRight`, `ET_CameraLeftX`, `ET_CameraLeftY`, `ET_CameraRightX`, and `ET_CameraRightY`.\n",
        "- These `-1` values often coincide with instances where `ET_ValidityLeft` or `ET_ValidityRight` is 1, indicating invalid eye-tracking data. This suggests that `-1` is used as a placeholder for missing or invalid measurements in these columns when the eye tracker is not providing valid data for a particular eye.\n",
        "- Given that over 70% of the data in the `ET_PupilLeft` and `ET_PupilRight` columns is marked as invalid (-1), so instead of dropping them we can create new feature for both the `ET_PupilLeft` and `ET_PupilRight` to represent which row consist invalid `ET_PupilLeft` and `ET_PupilRight` data"
      ]
    },
    {
      "cell_type": "code",
      "execution_count": null,
      "id": "b711cdc2",
      "metadata": {
        "id": "b711cdc2"
      },
      "outputs": [],
      "source": [
        "pupil_validity = {-1: 1 }"
      ]
    },
    {
      "cell_type": "code",
      "execution_count": null,
      "id": "3ecfa495",
      "metadata": {
        "id": "3ecfa495"
      },
      "outputs": [],
      "source": [
        "df_7_EYE['ET_PupilLeft_validity'] = df_7_EYE['ET_PupilLeft'].map(pupil_validity)"
      ]
    },
    {
      "cell_type": "code",
      "execution_count": null,
      "id": "0097e084",
      "metadata": {
        "id": "0097e084"
      },
      "outputs": [],
      "source": [
        "df_7_EYE['ET_PupilRight_validity'] = df_7_EYE['ET_PupilRight'].map(pupil_validity)"
      ]
    },
    {
      "cell_type": "code",
      "execution_count": null,
      "id": "8f584919",
      "metadata": {
        "id": "8f584919"
      },
      "outputs": [],
      "source": [
        "df_7_EYE[['ET_PupilLeft_validity', 'ET_PupilRight_validity']].head()"
      ]
    },
    {
      "cell_type": "code",
      "execution_count": null,
      "id": "fb23ff3e",
      "metadata": {
        "id": "fb23ff3e"
      },
      "outputs": [],
      "source": [
        "df_7_EYE[['ET_PupilLeft_validity', 'ET_PupilRight_validity']].isnull().sum()"
      ]
    },
    {
      "cell_type": "code",
      "execution_count": null,
      "id": "7b543255",
      "metadata": {
        "id": "7b543255"
      },
      "outputs": [],
      "source": [
        "plt.figure(figsize=(18, 8))\n",
        "sns.heatmap(df_7_EYE[['ET_PupilLeft_validity', 'ET_PupilRight_validity']].isnull(), cmap='viridis')\n",
        "plt.show()"
      ]
    },
    {
      "cell_type": "code",
      "execution_count": null,
      "id": "26558e5a",
      "metadata": {
        "id": "26558e5a"
      },
      "outputs": [],
      "source": [
        "df_7_EYE['ET_PupilLeft_validity'] = df_7_EYE['ET_PupilLeft_validity'].fillna(0)"
      ]
    },
    {
      "cell_type": "code",
      "execution_count": null,
      "id": "e54aa429",
      "metadata": {
        "id": "e54aa429"
      },
      "outputs": [],
      "source": [
        "df_7_EYE['ET_PupilRight_validity'] = df_7_EYE['ET_PupilRight_validity'].fillna(0)"
      ]
    },
    {
      "cell_type": "code",
      "execution_count": null,
      "id": "ca19b242",
      "metadata": {
        "id": "ca19b242"
      },
      "outputs": [],
      "source": [
        "df_7_EYE[['ET_PupilLeft_validity', 'ET_PupilRight_validity']].head()"
      ]
    },
    {
      "cell_type": "code",
      "execution_count": null,
      "id": "bfade87d",
      "metadata": {
        "id": "bfade87d"
      },
      "outputs": [],
      "source": [
        "plt.figure(figsize=(18, 8))\n",
        "sns.heatmap(df_7_EYE[['ET_PupilLeft_validity', 'ET_PupilRight_validity']].isnull(), cmap='viridis')\n",
        "plt.show()"
      ]
    },
    {
      "cell_type": "code",
      "execution_count": null,
      "id": "274df992",
      "metadata": {
        "id": "274df992"
      },
      "outputs": [],
      "source": [
        "df_7_EYE.head()"
      ]
    },
    {
      "cell_type": "code",
      "execution_count": null,
      "id": "33837af1",
      "metadata": {
        "id": "33837af1"
      },
      "outputs": [],
      "source": [
        "plt.figure(figsize=(18, 8))\n",
        "\n",
        "plt.subplot(1, 2, 1)\n",
        "sns.heatmap(df_7_EYE == -1, cmap='viridis')\n",
        "plt.title('Heatmap of -1 Values')\n",
        "\n",
        "plt.subplot(1, 2, 2)\n",
        "sns.heatmap(df_7_EYE == 1, cmap='viridis')\n",
        "plt.title('Heatmap of -1 Values')\n",
        "\n",
        "plt.tight_layout()\n",
        "plt.show()"
      ]
    },
    {
      "cell_type": "code",
      "execution_count": null,
      "id": "6770b161",
      "metadata": {
        "id": "6770b161"
      },
      "outputs": [],
      "source": [
        "valid_left_ratio  = 1 - df_7_EYE['ET_ValidityLeft'].mean()"
      ]
    },
    {
      "cell_type": "code",
      "execution_count": null,
      "id": "9e847b4d",
      "metadata": {
        "id": "9e847b4d"
      },
      "outputs": [],
      "source": [
        "valid_left_ratio"
      ]
    },
    {
      "cell_type": "code",
      "execution_count": null,
      "id": "d178bc8b",
      "metadata": {
        "id": "d178bc8b"
      },
      "outputs": [],
      "source": [
        "valid_right_ratio = 1 - df_7_EYE['ET_ValidityRight'].mean()"
      ]
    },
    {
      "cell_type": "code",
      "execution_count": null,
      "id": "346e20aa",
      "metadata": {
        "id": "346e20aa"
      },
      "outputs": [],
      "source": [
        "valid_right_ratio"
      ]
    },
    {
      "cell_type": "code",
      "execution_count": null,
      "id": "31bd0aa4",
      "metadata": {
        "id": "31bd0aa4"
      },
      "outputs": [],
      "source": [
        "df_7_EYE['ET_PupilLeft_validity'] = df_7_EYE['ET_PupilLeft_validity'].astype(np.int8)\n",
        "df_7_EYE['ET_PupilRight_validity'] = df_7_EYE['ET_PupilRight_validity'].astype(np.int8)"
      ]
    },
    {
      "cell_type": "markdown",
      "id": "80836880",
      "metadata": {
        "id": "80836880"
      },
      "source": [
        "# Feature Engineering and Observations\n",
        "\n",
        "Based on the analysis of the data, we've created two new features, `ET_PupilLeft_validity` and `ET_PupilRight_validity`. These features indicate the validity of the pupil data for the left and right eyes, respectively, with a value of 1 representing invalid data (originally -1) and 0 representing valid data.\n",
        "\n",
        "The heatmaps above visually demonstrate the distribution of -1 and 1 values across the dataset. We observed that:\n",
        "- The `-1` values are concentrated in specific columns related to gaze, pupil size, distance, and camera position, suggesting they represent missing or invalid sensor readings.\n",
        "- The `1` values, after mapping from `4.0` in the original validity columns, indicate instances of invalid eye-tracking data.\n",
        "- The heatmaps also show a strong correlation between the `-1` values in the pupil columns and a validity of 1 in the newly created pupil validity features, confirming that -1 was used to mark invalid pupil data."
      ]
    },
    {
      "cell_type": "code",
      "execution_count": null,
      "id": "176fa6ec",
      "metadata": {
        "id": "176fa6ec"
      },
      "outputs": [],
      "source": [
        "df_7_EYE.head()"
      ]
    },
    {
      "cell_type": "code",
      "execution_count": null,
      "id": "be91bfb7",
      "metadata": {
        "id": "be91bfb7"
      },
      "outputs": [],
      "source": [
        "# Select only the numeric columns for plotting histograms, excluding time-related columns\n",
        "numeric_cols = df_7_EYE.select_dtypes(include=np.number).columns\n",
        "cols_to_plot = [col for col in numeric_cols if col not in ['UnixTime']]\n",
        "\n",
        "# Calculate the number of rows and columns for the grid\n",
        "n_cols = 4  # You can adjust the number of columns as needed\n",
        "n_rows = (len(cols_to_plot) + n_cols - 1) // n_cols\n",
        "\n",
        "plt.figure(figsize=(n_cols * 5, n_rows * 4)) # Adjust figure size as needed\n",
        "\n",
        "for i, col in enumerate(cols_to_plot):\n",
        "    plt.subplot(n_rows, n_cols, i + 1)\n",
        "    sns.histplot(df_7_EYE[col], kde=True)\n",
        "    plt.title(f'Distribution of {col}')\n",
        "    plt.xlabel(col)\n",
        "    plt.ylabel('Frequency')\n",
        "\n",
        "plt.tight_layout()\n",
        "plt.show()"
      ]
    },
    {
      "cell_type": "markdown",
      "id": "e60a907e",
      "metadata": {
        "id": "e60a907e"
      },
      "source": [
        "# Observations from Histograms\n",
        "\n",
        "The grid of histograms provides insights into the distribution of values for each numeric column in the dataset (excluding 'UnixTime'). Key observations include:\n",
        "\n",
        "- Several columns, such as `ET_GazeLeftx`, `ET_GazeLefty`, `ET_GazeRightx`, and `ET_GazeRighty`, show distributions that appear somewhat multimodal or skewed, suggesting variations in gaze patterns.\n",
        "- The `ET_PupilLeft` and `ET_PupilRight` histograms clearly show a peak at -1, confirming the presence of a significant number of invalid pupil readings.\n",
        "- `ET_TimeSignal` shows a relatively uniform distribution, as expected for a time-based signal.\n",
        "- `ET_DistanceLeft` and `ET_DistanceRight` appear to have distributions centered around certain values, with some outliers or variations.\n",
        "- The camera position columns (`ET_CameraLeftX`, `ET_CameraLeftY`, `ET_CameraRightX`, `ET_CameraRightY`) seem to have distributions concentrated within specific ranges, reflecting the camera's field of view.\n",
        "- The validity columns (`ET_ValidityLeft`, `ET_ValidityRight`, `ET_PupilLeft_validity`, `ET_PupilRight_validity`) show distributions dominated by 0, indicating that most of the data is considered valid after the mapping. The smaller peaks at 1 represent the instances of invalid data.\n",
        "\n",
        "These distributions highlight the need for appropriate handling of the -1 values and potential outliers in subsequent analysis or modeling steps."
      ]
    },
    {
      "cell_type": "code",
      "execution_count": null,
      "id": "ab7073e4",
      "metadata": {
        "id": "ab7073e4"
      },
      "outputs": [],
      "source": [
        "df_7_EYE.columns"
      ]
    },
    {
      "cell_type": "code",
      "execution_count": null,
      "id": "f92ee71a",
      "metadata": {
        "id": "f92ee71a"
      },
      "outputs": [],
      "source": [
        "cols = ['ET_GazeLeftx', 'ET_GazeLefty',\n",
        "       'ET_GazeRightx', 'ET_GazeRighty', 'ET_PupilLeft', 'ET_PupilRight',\n",
        "       'ET_TimeSignal', 'ET_DistanceLeft', 'ET_DistanceRight',\n",
        "       'ET_CameraLeftX', 'ET_CameraLeftY', 'ET_CameraRightX',\n",
        "       'ET_CameraRightY', 'ET_ValidityLeft', 'ET_ValidityRight',\n",
        "       'ET_PupilLeft_validity', 'ET_PupilRight_validity']"
      ]
    },
    {
      "cell_type": "code",
      "execution_count": null,
      "id": "70d8bf33",
      "metadata": {
        "id": "70d8bf33"
      },
      "outputs": [],
      "source": [
        "from IPython.display import display, Markdown\n",
        "\n",
        "for col in cols:\n",
        "    # Add a markdown cell before each plot for better separation and labeling\n",
        "    display(Markdown(f'### {col} over Time'))\n",
        "    plt.figure(figsize=(16, 10))\n",
        "    plt.plot(df_7_EYE['Timestamp'], df_7_EYE[col])\n",
        "    plt.xlabel(\"Timestamp\") # Add x-axis label\n",
        "    plt.ylabel(col) # Add y-axis label\n",
        "    plt.show()"
      ]
    },
    {
      "cell_type": "markdown",
      "id": "8b8d2748",
      "metadata": {
        "id": "8b8d2748"
      },
      "source": [
        "# Observations from Time Series Plots\n",
        "\n",
        "The line plots showing various features against the `Timestamp` reveal the temporal patterns and fluctuations in the eye-tracking data. Key observations include:\n",
        "\n",
        "- **Gaze Coordinates (`ET_GazeLeftx`, `ET_GazeLefty`, `ET_GazeRightx`, `ET_GazeRighty`):** These plots show the changes in gaze position over time. We can observe periods of relatively stable gaze interspersed with rapid movements (saccades) and blinks or other events where the gaze data might be invalid (-1 values appear as gaps or spikes if not handled).\n",
        "- **Pupil Size (`ET_PupilLeft`, `ET_PupilRight`):** The pupil size plots show variations over time. The presence of many -1 values is evident as flat lines at the bottom of the plot, indicating periods where pupil data was not recorded or was invalid.\n",
        "- **Time Signal (`ET_TimeSignal`):** This plot shows a steady, increasing trend, as expected for a time-based signal.\n",
        "- **Distance and Camera Position (`ET_DistanceLeft`, `ET_DistanceRight`, `ET_CameraLeftX`, `ET_CameraLeftY`, `ET_CameraRightX`, `ET_CameraRightY`):** These plots show how the distance from the eye tracker and the camera positions change over time. Variations in these features can be related to head movements or changes in the user's position relative to the eye tracker.\n",
        "- **Validity (`ET_ValidityLeft`, `ET_ValidityRight`, `ET_PupilLeft_validity`, `ET_PupilRight_validity`):** These plots clearly show periods of invalid data (represented by 1) as spikes or plateaus, corresponding to instances where the eye tracker lost track of the eyes or the pupil data was marked as invalid.\n",
        "\n",
        "Analyzing these time series plots is crucial for understanding the dynamics of the eye-tracking data and identifying patterns or anomalies that may require further investigation or specific handling during subsequent analysis."
      ]
    },
    {
      "cell_type": "code",
      "execution_count": null,
      "id": "f7497a66",
      "metadata": {
        "id": "f7497a66"
      },
      "outputs": [],
      "source": [
        "# Select only the numeric columns for plotting histograms, excluding time-related columns\n",
        "numeric_cols = df_7_EYE.select_dtypes(include=np.number).columns\n",
        "\n",
        "# Calculate the number of rows and columns for the grid\n",
        "n_cols = 4  # You can adjust the number of columns as needed\n",
        "n_rows = (len(numeric_cols) + n_cols - 1) // n_cols\n",
        "\n",
        "plt.figure(figsize=(n_cols * 5, n_rows * 4)) # Adjust figure size as needed\n",
        "\n",
        "for i, col in enumerate(numeric_cols):\n",
        "    plt.subplot(n_rows, n_cols, i + 1)\n",
        "    sns.boxplot(df_7_EYE[col])\n",
        "    plt.title(f'Boxplot of {col}')\n",
        "    plt.xlabel(col)\n",
        "\n",
        "plt.tight_layout()\n",
        "plt.show()"
      ]
    },
    {
      "cell_type": "markdown",
      "id": "7851c8c3",
      "metadata": {
        "id": "7851c8c3"
      },
      "source": [
        "# Observations from Boxplots and Handling -1 Values\n",
        "\n",
        "The boxplots provide a visual summary of the distribution and potential outliers for each numeric column. Key observations from the boxplots include:\n",
        "\n",
        "- The boxplots for columns like `ET_GazeLeftx`, `ET_GazeLefty`, `ET_GazeRightx`, `ET_GazeRighty`, `ET_PupilLeft`, `ET_PupilRight`, `ET_DistanceLeft`, `ET_DistanceRight`, `ET_CameraLeftX`, `ET_CameraLeftY`, `ET_CameraRightX`, and `ET_CameraRightY` clearly show the presence of -1 values as significant outliers, confirming our earlier observations from the heatmaps and histograms.\n",
        "- The boxplots for the validity columns (`ET_ValidityLeft`, `ET_ValidityRight`, `ET_PupilLeft_validity`, `ET_PupilRight_validity`) show the discrete nature of these features, with the majority of data points at 0 (valid) and a smaller number at 1 (invalid).\n",
        "\n",
        "Given the significant presence of -1 values, which represent invalid or missing data, especially in the pupil-related columns, we have decided to replace these -1 values with NaN to properly represent them as missing data. Subsequently, we will impute these missing values using the mean of each respective column. This approach helps to retain the data structure and allows for further analysis or modeling without the distortion caused by the -1 placeholders."
      ]
    },
    {
      "cell_type": "code",
      "execution_count": null,
      "id": "c4e300f2",
      "metadata": {
        "id": "c4e300f2"
      },
      "outputs": [],
      "source": [
        "df_7_EYE.replace({-1: np.nan}, inplace=True)"
      ]
    },
    {
      "cell_type": "code",
      "execution_count": null,
      "id": "d5e5794c",
      "metadata": {
        "id": "d5e5794c"
      },
      "outputs": [],
      "source": [
        "df_7_EYE[['ET_GazeLeftx', 'ET_GazeLefty',\n",
        "       'ET_GazeRightx', 'ET_GazeRighty', 'ET_PupilLeft', 'ET_PupilRight',\n",
        "       'ET_TimeSignal', 'ET_DistanceLeft', 'ET_DistanceRight',\n",
        "       'ET_CameraLeftX', 'ET_CameraLeftY', 'ET_CameraRightX',\n",
        "       'ET_CameraRightY', 'ET_ValidityLeft', 'ET_ValidityRight',\n",
        "       'ET_PupilLeft_validity', 'ET_PupilRight_validity']].mean()"
      ]
    },
    {
      "cell_type": "code",
      "execution_count": null,
      "id": "dab640b4",
      "metadata": {
        "id": "dab640b4"
      },
      "outputs": [],
      "source": [
        "df_7_EYE[['ET_GazeLeftx', 'ET_GazeLefty',\n",
        "       'ET_GazeRightx', 'ET_GazeRighty', 'ET_PupilLeft', 'ET_PupilRight',\n",
        "       'ET_TimeSignal', 'ET_DistanceLeft', 'ET_DistanceRight',\n",
        "       'ET_CameraLeftX', 'ET_CameraLeftY', 'ET_CameraRightX',\n",
        "       'ET_CameraRightY', 'ET_ValidityLeft', 'ET_ValidityRight',\n",
        "       'ET_PupilLeft_validity', 'ET_PupilRight_validity']].median()"
      ]
    },
    {
      "cell_type": "code",
      "execution_count": null,
      "id": "98e6b42a",
      "metadata": {
        "id": "98e6b42a"
      },
      "outputs": [],
      "source": [
        "numeric_cols = df_7_EYE.select_dtypes(include=np.number).columns\n",
        "\n",
        "for col in numeric_cols:\n",
        "    df_7_EYE[col] = df_7_EYE[col].fillna(df_7_EYE[col].mean())"
      ]
    },
    {
      "cell_type": "code",
      "execution_count": null,
      "id": "9bed386a",
      "metadata": {
        "id": "9bed386a"
      },
      "outputs": [],
      "source": [
        "plt.figure(figsize=(18, 8))\n",
        "\n",
        "plt.subplot(1, 2, 1)\n",
        "sns.heatmap(df_7_EYE.isnull(), cmap='viridis')\n",
        "plt.title('Heatmap of Missing Values After Imputation')\n",
        "\n",
        "plt.subplot(1, 2, 2)\n",
        "sns.heatmap(df_7_EYE == 1, cmap='viridis')\n",
        "plt.title('Heatmap of 1 Values')\n",
        "\n",
        "plt.tight_layout()\n",
        "plt.show()"
      ]
    },
    {
      "cell_type": "markdown",
      "id": "05fb6cf6",
      "metadata": {
        "id": "05fb6cf6"
      },
      "source": [
        "# Handling Missing Values (Imputation)\n",
        "\n",
        "As decided, we have replaced all the `-1` values with `NaN` to treat them as missing data. Subsequently, we have imputed these `NaN` values with the mean of their respective columns. The heatmap above, which was generated after the imputation, now shows no visible signs of `NaN` values, indicating that the imputation was successful."
      ]
    },
    {
      "cell_type": "code",
      "execution_count": null,
      "id": "9ae35c85",
      "metadata": {
        "id": "9ae35c85"
      },
      "outputs": [],
      "source": [
        "df_7_EYE.head()"
      ]
    },
    {
      "cell_type": "code",
      "execution_count": null,
      "id": "516bc6a9",
      "metadata": {
        "id": "516bc6a9"
      },
      "outputs": [],
      "source": [
        "# Select only the numeric columns for plotting histograms, excluding time-related columns\n",
        "numeric_cols = df_7_EYE.select_dtypes(include=np.number).columns\n",
        "cols_to_plot = [col for col in numeric_cols if col not in ['UnixTime']]\n",
        "\n",
        "# Calculate the number of rows and columns for the grid\n",
        "n_cols = 4  # You can adjust the number of columns as needed\n",
        "n_rows = (len(cols_to_plot) + n_cols - 1) // n_cols\n",
        "\n",
        "plt.figure(figsize=(n_cols * 5, n_rows * 4)) # Adjust figure size as needed\n",
        "\n",
        "for i, col in enumerate(cols_to_plot):\n",
        "    plt.subplot(n_rows, n_cols, i + 1)\n",
        "    sns.histplot(df_7_EYE[col], kde=True)\n",
        "    plt.title(f'Distribution of {col}')\n",
        "    plt.xlabel(col)\n",
        "    plt.ylabel('Frequency')\n",
        "\n",
        "plt.tight_layout()\n",
        "plt.show()"
      ]
    },
    {
      "cell_type": "markdown",
      "id": "6c924bd0",
      "metadata": {
        "id": "6c924bd0"
      },
      "source": [
        "# Observations from Histograms After Imputation\n",
        "\n",
        "The histograms generated after replacing the -1 values with the mean of each column show the distributions of the numeric features with the missing data handled. Key observations from these updated histograms include:\n",
        "\n",
        "- The distinct peaks at -1, which were prominent in the histograms for several columns (e.g., pupil size, gaze coordinates, distance, and camera position) before imputation, are now replaced by a peak at the mean of each respective column.\n",
        "- The distributions in many columns now appear more unimodal or show shifted modes compared to the original histograms.\n",
        "- The histograms for the validity columns still show their bimodal distributions with peaks at 0 and 1, as these were handled separately.\n",
        "\n",
        "These histograms provide an updated view of the data's distribution after handling the missing values, highlighting the impact of the imputation method on the data's characteristics."
      ]
    },
    {
      "cell_type": "code",
      "execution_count": null,
      "id": "21818a1b",
      "metadata": {
        "id": "21818a1b"
      },
      "outputs": [],
      "source": [
        "cols = ['ET_GazeLeftx', 'ET_GazeLefty',\n",
        "       'ET_GazeRightx', 'ET_GazeRighty', 'ET_PupilLeft', 'ET_PupilRight',\n",
        "       'ET_TimeSignal', 'ET_DistanceLeft', 'ET_DistanceRight',\n",
        "       'ET_CameraLeftX', 'ET_CameraLeftY', 'ET_CameraRightX',\n",
        "       'ET_CameraRightY', 'ET_ValidityLeft', 'ET_ValidityRight',\n",
        "       'ET_PupilLeft_validity', 'ET_PupilRight_validity']"
      ]
    },
    {
      "cell_type": "code",
      "execution_count": null,
      "id": "b3b067a2",
      "metadata": {
        "id": "b3b067a2"
      },
      "outputs": [],
      "source": [
        "for col in cols:\n",
        "    # Add a markdown cell before each plot for better separation and labeling\n",
        "    display(Markdown(f'### {col} over Time'))\n",
        "    plt.figure(figsize=(16, 10))\n",
        "    plt.plot(df_7_EYE['Timestamp'], df_7_EYE[col])\n",
        "    plt.xlabel(\"Timestamp\") # Add x-axis label\n",
        "    plt.ylabel(col) # Add y-axis label\n",
        "    plt.show()"
      ]
    },
    {
      "cell_type": "markdown",
      "id": "35b19abf",
      "metadata": {
        "id": "35b19abf"
      },
      "source": [
        "# Observations from Time Series Plots After Imputation\n",
        "\n",
        "The line plots generated after imputing the missing values with the mean show the temporal patterns of the features with the missing data handled. Key observations from these updated plots include:\n",
        "\n",
        "- The gaps or flat lines at -1, which were prominent in the plots for columns like gaze coordinates, pupil size, distance, and camera position, are now filled by lines at the mean value of the respective columns.\n",
        "- The plots for the validity columns remain the same as they were handled separately.\n",
        "- The `ET_TimeSignal` plot still shows a steady increasing trend, as expected."
      ]
    },
    {
      "cell_type": "code",
      "execution_count": null,
      "id": "4983fc81",
      "metadata": {
        "id": "4983fc81"
      },
      "outputs": [],
      "source": [
        "plt.figure(figsize=(16, 10))\n",
        "sns.heatmap(df_7_EYE.corr(numeric_only=True), cmap='YlGnBu', annot=True)\n",
        "plt.show()"
      ]
    },
    {
      "cell_type": "markdown",
      "id": "fb6c4c76",
      "metadata": {
        "id": "fb6c4c76"
      },
      "source": [
        "# Observations from Correlation Heatmap\n",
        "\n",
        "The correlation heatmap provides a visual representation of the pairwise correlations between the numeric columns in the dataset. Key observations from the heatmap include:\n",
        "\n",
        "- **High Positive Correlations:** We observe strong positive correlations (values close to 1) between:\n",
        "  - `ET_GazeLeftx` and `ET_GazeRightx`: This is expected as the gaze positions of both eyes should be highly correlated when fixating on a point.\n",
        "  - `ET_GazeLefty` and `ET_GazeRighty`: Similar to the x-coordinates, the y-coordinates of gaze should also be highly correlated.\n",
        "  - `ET_PupilLeft` and `ET_PupilRight`: Pupil sizes of both eyes tend to change together in response to light and cognitive load.\n",
        "  - `ET_DistanceLeft` and `ET_DistanceRight`: The distance from the eye tracker to each eye should be highly correlated.\n",
        "  - `ET_CameraLeftX` and `ET_CameraRightX`, `ET_CameraLeftY` and `ET_CameraRightY`: The camera positions for both eyes are also expected to be highly correlated.\n",
        "  - `UnixTime` and `ET_TimeSignal`: As previously noted, these two columns are almost perfectly linearly correlated, indicating redundancy.\n",
        "  - `ET_ValidityLeft` and `ET_PupilLeft_validity`: There is a positive correlation, suggesting that when the overall left eye data is invalid, the left pupil data is also likely to be invalid.\n",
        "  - `ET_ValidityRight` and `ET_PupilRight_validity`: Similar to the left eye, there is a positive correlation between the overall right eye validity and the right pupil validity.\n",
        "- **Other Correlations:** We can also observe other varying degrees of correlations between different features, which can provide insights into the relationships between gaze behavior, pupil size, distance, and camera position. For example, there might be correlations between gaze coordinates and camera positions, reflecting head movements.\n",
        "- **Low or Near-Zero Correlations:** Columns with low or near-zero correlations are relatively independent of each other.\n",
        "\n",
        "Understanding these correlations is important for feature selection and for building models, as highly correlated features might indicate multicollinearity, while correlations between features can reveal underlying patterns in the data."
      ]
    },
    {
      "cell_type": "markdown",
      "id": "70337018",
      "metadata": {
        "id": "70337018"
      },
      "source": [
        "# Analysis of ET_TimeSignal and Decision to Drop\n",
        "\n",
        "As observed in the time series plot and confirmed by the correlation heatmap, the `ET_TimeSignal` column exhibits a near-perfect linear relationship with both the `Timestamp` and `UnixTime` columns. This strong correlation (close to 1) suggests that `ET_TimeSignal` is essentially redundant and likely represents another form of time recording or a signal directly derived from the timestamp.\n",
        "\n",
        "Including highly correlated features like this in a dataset can lead to issues such as multicollinearity in some statistical models, which can make it difficult to interpret the individual impact of each feature. Since the `Timestamp` column already provides the necessary temporal information, retaining `ET_TimeSignal` does not appear to add significant value for further analysis or modeling in most cases.\n",
        "\n",
        "Therefore, based on its high correlation and lack of unique insight, we will proceed to drop the `ET_TimeSignal` column to simplify the dataset and potentially improve the performance and interpretability of future analyses."
      ]
    },
    {
      "cell_type": "code",
      "execution_count": null,
      "id": "34370df0",
      "metadata": {
        "id": "34370df0"
      },
      "outputs": [],
      "source": [
        "df_7_EYE.drop('ET_TimeSignal', axis=1, inplace=True)"
      ]
    },
    {
      "cell_type": "code",
      "execution_count": null,
      "id": "c1873f28",
      "metadata": {
        "id": "c1873f28"
      },
      "outputs": [],
      "source": [
        "plt.figure(figsize=(16, 10))\n",
        "sns.pairplot(df_7_EYE)\n",
        "plt.show()"
      ]
    },
    {
      "cell_type": "markdown",
      "id": "b06f3725",
      "metadata": {
        "id": "b06f3725"
      },
      "source": [
        "# **8_EYE**"
      ]
    },
    {
      "cell_type": "code",
      "execution_count": null,
      "id": "0077a361",
      "metadata": {
        "id": "0077a361"
      },
      "outputs": [],
      "source": [
        "df_8_EYE = pd.read_csv('data/STData/8/8_EYE.csv')"
      ]
    },
    {
      "cell_type": "code",
      "execution_count": null,
      "id": "0a35961c",
      "metadata": {
        "id": "0a35961c"
      },
      "outputs": [],
      "source": [
        "df_8_EYE.head()"
      ]
    },
    {
      "cell_type": "code",
      "execution_count": null,
      "id": "fa3e0e98",
      "metadata": {
        "id": "fa3e0e98"
      },
      "outputs": [],
      "source": [
        "df_8_EYE.shape"
      ]
    },
    {
      "cell_type": "code",
      "execution_count": null,
      "id": "341a7b88",
      "metadata": {
        "id": "341a7b88"
      },
      "outputs": [],
      "source": [
        "df_8_EYE.columns"
      ]
    },
    {
      "cell_type": "code",
      "execution_count": null,
      "id": "367bdfd4",
      "metadata": {
        "id": "367bdfd4"
      },
      "outputs": [],
      "source": [
        "df_8_EYE.info()"
      ]
    },
    {
      "cell_type": "code",
      "execution_count": null,
      "id": "8c85d12a",
      "metadata": {
        "id": "8c85d12a"
      },
      "outputs": [],
      "source": [
        "df_8_EYE.isnull().sum()"
      ]
    },
    {
      "cell_type": "code",
      "execution_count": null,
      "id": "8301ed25",
      "metadata": {
        "id": "8301ed25"
      },
      "outputs": [],
      "source": [
        "plt.figure(figsize=(12,8))\n",
        "sns.heatmap(df_8_EYE.isnull(), cmap='viridis')\n",
        "plt.show()"
      ]
    },
    {
      "cell_type": "markdown",
      "id": "36dd8275",
      "metadata": {
        "id": "36dd8275"
      },
      "source": [
        "# Notes & Observations\n",
        "\n",
        "- We observe many **null** (or missing) values in the `QuestionKey` columns.\n",
        "- The nulls in the `QuestionKey` column may not represent “true” nulls. Rather, they follow interval patterns, suggesting that during those periods no question was displayed.\n",
        "- These missing values in `QuestionKey` require additional investigation and context-aware handling."
      ]
    },
    {
      "cell_type": "code",
      "execution_count": null,
      "id": "971fbda9",
      "metadata": {
        "id": "971fbda9"
      },
      "outputs": [],
      "source": [
        "df_8_EYE['QuestionKey'].unique()"
      ]
    },
    {
      "cell_type": "code",
      "execution_count": null,
      "id": "b79be357",
      "metadata": {
        "id": "b79be357"
      },
      "outputs": [],
      "source": [
        "df_8_EYE['Timestamp'] = pd.to_datetime(df_8_EYE['Timestamp'])"
      ]
    },
    {
      "cell_type": "code",
      "execution_count": null,
      "id": "c8433f6e",
      "metadata": {
        "id": "c8433f6e"
      },
      "outputs": [],
      "source": [
        "df_8_EYE.head(3)"
      ]
    },
    {
      "cell_type": "code",
      "execution_count": null,
      "id": "7ed472c8",
      "metadata": {
        "id": "7ed472c8"
      },
      "outputs": [],
      "source": [
        "df_8_EYE['QuestionKey'] = df_8_EYE['QuestionKey'].fillna('None')"
      ]
    },
    {
      "cell_type": "code",
      "execution_count": null,
      "id": "886bf80c",
      "metadata": {
        "id": "886bf80c"
      },
      "outputs": [],
      "source": [
        "df_8_EYE['QuestionKey'].value_counts()"
      ]
    },
    {
      "cell_type": "code",
      "execution_count": null,
      "id": "60a751a3",
      "metadata": {
        "id": "60a751a3"
      },
      "outputs": [],
      "source": [
        "plt.figure(figsize=(12,8))\n",
        "sns.heatmap(df_8_EYE.isnull(), cmap='viridis')\n",
        "plt.show()"
      ]
    },
    {
      "cell_type": "code",
      "execution_count": null,
      "id": "d1c84756",
      "metadata": {
        "id": "d1c84756"
      },
      "outputs": [],
      "source": [
        "df_8_EYE.isnull().sum()"
      ]
    },
    {
      "cell_type": "code",
      "execution_count": null,
      "id": "4415fb23",
      "metadata": {
        "id": "4415fb23"
      },
      "outputs": [],
      "source": [
        "df_8_EYE.dropna(inplace=True)"
      ]
    },
    {
      "cell_type": "code",
      "execution_count": null,
      "id": "0e5f190f",
      "metadata": {
        "id": "0e5f190f"
      },
      "outputs": [],
      "source": [
        "df_8_EYE.head()"
      ]
    },
    {
      "cell_type": "code",
      "execution_count": null,
      "id": "900abafd",
      "metadata": {
        "id": "900abafd"
      },
      "outputs": [],
      "source": [
        "df_8_EYE['Row'].unique()"
      ]
    },
    {
      "cell_type": "code",
      "execution_count": null,
      "id": "e9dafe07",
      "metadata": {
        "id": "e9dafe07"
      },
      "outputs": [],
      "source": [
        "plt.figure(figsize=(8,6))\n",
        "sns.histplot(df_8_EYE['Row'])\n",
        "plt.show()"
      ]
    },
    {
      "cell_type": "markdown",
      "id": "9fddb5ba",
      "metadata": {
        "id": "9fddb5ba"
      },
      "source": [
        "# Notes & Observations\n",
        "\n",
        "- The `Row` column appears to be a simple row index and does not provide meaningful information relevant to the eye-tracking data itself. Therefore, it can be dropped."
      ]
    },
    {
      "cell_type": "code",
      "execution_count": null,
      "id": "7b4d006e",
      "metadata": {
        "id": "7b4d006e"
      },
      "outputs": [],
      "source": [
        "df_8_EYE.drop('Row', axis=1, inplace=True)"
      ]
    },
    {
      "cell_type": "code",
      "execution_count": null,
      "id": "b9e373a1",
      "metadata": {
        "id": "b9e373a1"
      },
      "outputs": [],
      "source": [
        "df_8_EYE['ET_ValidityLeft'].unique()"
      ]
    },
    {
      "cell_type": "code",
      "execution_count": null,
      "id": "65ac734d",
      "metadata": {
        "id": "65ac734d"
      },
      "outputs": [],
      "source": [
        "df_8_EYE['ET_ValidityLeft'].value_counts()"
      ]
    },
    {
      "cell_type": "code",
      "execution_count": null,
      "id": "e100c803",
      "metadata": {
        "id": "e100c803"
      },
      "outputs": [],
      "source": [
        "df_8_EYE['ET_ValidityRight'].unique()"
      ]
    },
    {
      "cell_type": "code",
      "execution_count": null,
      "id": "a2904b1c",
      "metadata": {
        "id": "a2904b1c"
      },
      "outputs": [],
      "source": [
        "df_8_EYE['ET_ValidityRight'].value_counts()"
      ]
    },
    {
      "cell_type": "code",
      "execution_count": null,
      "id": "6b266811",
      "metadata": {
        "id": "6b266811"
      },
      "outputs": [],
      "source": [
        "plt.figure(figsize=(12, 6))\n",
        "\n",
        "plt.subplot(1, 2, 1)\n",
        "sns.barplot(x=df_8_EYE['ET_ValidityLeft'].value_counts().index, y=df_8_EYE['ET_ValidityLeft'].value_counts().values)\n",
        "plt.title('Count of ET_ValidityLeft')\n",
        "plt.xlabel('Validity')\n",
        "plt.ylabel('Count')\n",
        "\n",
        "\n",
        "plt.subplot(1, 2, 2)\n",
        "sns.barplot(x=df_8_EYE['ET_ValidityRight'].value_counts().index, y=df_8_EYE['ET_ValidityRight'].value_counts().values)\n",
        "plt.title('Count of ET_ValidityRight')\n",
        "plt.xlabel('Validity')\n",
        "plt.ylabel('Count')\n",
        "\n",
        "plt.tight_layout()\n",
        "plt.show()"
      ]
    },
    {
      "cell_type": "markdown",
      "id": "9386e327",
      "metadata": {
        "id": "9386e327"
      },
      "source": [
        "# Notes & Observations\n",
        "\n",
        "- The `ET_ValidityLeft` and `ET_ValidityRight` columns indicate the validity of the eye-tracking data for the left and right eye, respectively.\n",
        "- Based on the value counts and the bar plots, it appears that a value of `0.0` represents valid eye-tracking data, while a value of `4.0` represents invalid data.\n",
        "- Although the amount of invalid data is relatively small, removing these rows could introduce unwanted patterns or gaps in the time series data.\n",
        "- Therefore, we will keep the data and replace the value `4.0` with `1.0` in both `ET_ValidityLeft` and `ET_ValidityRight` columns. This will indicate to a machine learning model that the eye tracker had invalid data at those specific points in time while maintaining the integrity of the time series."
      ]
    },
    {
      "cell_type": "markdown",
      "id": "670995d6",
      "metadata": {
        "id": "670995d6"
      },
      "source": [
        "Define a mapping to convert validity values from `0.0` and `4.0` to `0` and `1`."
      ]
    },
    {
      "cell_type": "code",
      "execution_count": null,
      "id": "60b9dc8c",
      "metadata": {
        "id": "60b9dc8c"
      },
      "outputs": [],
      "source": [
        "validity_map = {4.0: 1.0, 0.0: 0.0}"
      ]
    },
    {
      "cell_type": "code",
      "execution_count": null,
      "id": "4af32f2c",
      "metadata": {
        "id": "4af32f2c"
      },
      "outputs": [],
      "source": [
        "df_8_EYE['ET_ValidityLeft'] = df_8_EYE['ET_ValidityLeft'].map(validity_map).astype(np.int8)\n",
        "df_8_EYE['ET_ValidityRight'] = df_8_EYE['ET_ValidityRight'].map(validity_map).astype(np.int8)"
      ]
    },
    {
      "cell_type": "code",
      "execution_count": null,
      "id": "0e9ec4a7",
      "metadata": {
        "id": "0e9ec4a7"
      },
      "outputs": [],
      "source": [
        "df_8_EYE.head(3)"
      ]
    },
    {
      "cell_type": "code",
      "execution_count": null,
      "id": "af6e1e23",
      "metadata": {
        "id": "af6e1e23"
      },
      "outputs": [],
      "source": [
        "df_8_EYE.describe()"
      ]
    },
    {
      "cell_type": "code",
      "execution_count": null,
      "id": "196a72aa",
      "metadata": {
        "id": "196a72aa"
      },
      "outputs": [],
      "source": [
        "df_8_EYE[df_8_EYE['ET_ValidityLeft'] == 1].shape"
      ]
    },
    {
      "cell_type": "code",
      "execution_count": null,
      "id": "bb55a648",
      "metadata": {
        "id": "bb55a648"
      },
      "outputs": [],
      "source": [
        "df_8_EYE[df_8_EYE['ET_ValidityRight'] == 1].shape"
      ]
    },
    {
      "cell_type": "code",
      "execution_count": null,
      "id": "9d29217c",
      "metadata": {
        "id": "9d29217c"
      },
      "outputs": [],
      "source": [
        "df_8_EYE[df_8_EYE['ET_ValidityLeft'] == 1].shape[0] / df_8_EYE.shape[0]"
      ]
    },
    {
      "cell_type": "code",
      "execution_count": null,
      "id": "734472e5",
      "metadata": {
        "id": "734472e5"
      },
      "outputs": [],
      "source": [
        "df_8_EYE[df_8_EYE['ET_ValidityRight'] == 1].shape[0] / df_8_EYE.shape[0]"
      ]
    },
    {
      "cell_type": "code",
      "execution_count": null,
      "id": "4c072848",
      "metadata": {
        "id": "4c072848"
      },
      "outputs": [],
      "source": [
        "plt.figure(figsize=(18, 8))\n",
        "\n",
        "plt.subplot(1, 2, 1)\n",
        "sns.heatmap(df_8_EYE == -1, cmap='viridis')\n",
        "plt.title('Heatmap of -1 Values')\n",
        "\n",
        "plt.subplot(1, 2, 2)\n",
        "sns.heatmap(df_8_EYE == 1, cmap='viridis')\n",
        "plt.title('Heatmap of 1 Values')\n",
        "\n",
        "plt.tight_layout()\n",
        "plt.show()"
      ]
    },
    {
      "cell_type": "code",
      "execution_count": null,
      "id": "9b45181d",
      "metadata": {
        "id": "9b45181d"
      },
      "outputs": [],
      "source": [
        "df_8_EYE[df_8_EYE['ET_PupilLeft'] == -1].shape"
      ]
    },
    {
      "cell_type": "code",
      "execution_count": null,
      "id": "6c8d9028",
      "metadata": {
        "id": "6c8d9028"
      },
      "outputs": [],
      "source": [
        "df_8_EYE[df_8_EYE['ET_PupilRight'] == -1].shape"
      ]
    },
    {
      "cell_type": "code",
      "execution_count": null,
      "id": "8c0c6d79",
      "metadata": {
        "id": "8c0c6d79"
      },
      "outputs": [],
      "source": [
        "df_8_EYE[df_8_EYE['ET_PupilLeft'] == -1].shape[0] / df_8_EYE.shape[0]"
      ]
    },
    {
      "cell_type": "code",
      "execution_count": null,
      "id": "761c780d",
      "metadata": {
        "id": "761c780d"
      },
      "outputs": [],
      "source": [
        "df_8_EYE[df_8_EYE['ET_PupilRight'] == -1].shape[0] / df_8_EYE.shape[0]"
      ]
    },
    {
      "cell_type": "code",
      "execution_count": null,
      "id": "948ebac8",
      "metadata": {
        "id": "948ebac8"
      },
      "outputs": [],
      "source": [
        "plt.figure(figsize=(18, 8))\n",
        "\n",
        "plt.subplot(1, 2, 1)\n",
        "sns.heatmap(df_8_EYE[df_8_EYE['ET_ValidityLeft'] == 1] == -1, cmap='viridis')\n",
        "plt.title('Heatmap of -1 Values')\n",
        "\n",
        "plt.subplot(1, 2, 2)\n",
        "sns.heatmap(df_8_EYE[df_8_EYE['ET_ValidityRight'] == 1] == -1, cmap='viridis')\n",
        "plt.title('Heatmap of -1 Values')\n",
        "\n",
        "plt.tight_layout()\n",
        "plt.show()"
      ]
    },
    {
      "cell_type": "markdown",
      "id": "e1a92f35",
      "metadata": {
        "id": "e1a92f35"
      },
      "source": [
        "# Notes & Observations\n",
        "\n",
        "- The heatmaps reveal the distribution of -1 values across different columns.\n",
        "- It is evident that the `-1` values are not randomly scattered but appear in specific columns, notably `ET_GazeLeftx`, `ET_GazeLefty`, `ET_GazeRightx`, `ET_GazeRighty`, `ET_PupilLeft`, `ET_PupilRight`, `ET_DistanceLeft`, `ET_DistanceRight`, `ET_CameraLeftX`, `ET_CameraLeftY`, `ET_CameraRightX`, and `ET_CameraRightY`.\n",
        "- These `-1` values often coincide with instances where `ET_ValidityLeft` or `ET_ValidityRight` is 1, indicating invalid eye-tracking data. This suggests that `-1` is used as a placeholder for missing or invalid measurements in these columns when the eye tracker is not providing valid data for a particular eye.\n",
        "- Given that over 70% of the data in the `ET_PupilLeft` and `ET_PupilRight` columns is marked as invalid (-1), so instead of dropping them we can create new feature for both the `ET_PupilLeft` and `ET_PupilRight` to represent which row consist invalid `ET_PupilLeft` and `ET_PupilRight` data"
      ]
    },
    {
      "cell_type": "code",
      "execution_count": null,
      "id": "623aaaac",
      "metadata": {
        "id": "623aaaac"
      },
      "outputs": [],
      "source": [
        "pupil_validity = {-1: 1 }"
      ]
    },
    {
      "cell_type": "code",
      "execution_count": null,
      "id": "59acb265",
      "metadata": {
        "id": "59acb265"
      },
      "outputs": [],
      "source": [
        "df_8_EYE['ET_PupilLeft_validity'] = df_8_EYE['ET_PupilLeft'].map(pupil_validity)"
      ]
    },
    {
      "cell_type": "code",
      "execution_count": null,
      "id": "ab5be9c5",
      "metadata": {
        "id": "ab5be9c5"
      },
      "outputs": [],
      "source": [
        "df_8_EYE['ET_PupilRight_validity'] = df_8_EYE['ET_PupilRight'].map(pupil_validity)"
      ]
    },
    {
      "cell_type": "code",
      "execution_count": null,
      "id": "027735b4",
      "metadata": {
        "id": "027735b4"
      },
      "outputs": [],
      "source": [
        "df_8_EYE[['ET_PupilLeft_validity', 'ET_PupilRight_validity']].head()"
      ]
    },
    {
      "cell_type": "code",
      "execution_count": null,
      "id": "7a457b36",
      "metadata": {
        "id": "7a457b36"
      },
      "outputs": [],
      "source": [
        "df_8_EYE[['ET_PupilLeft_validity', 'ET_PupilRight_validity']].isnull().sum()"
      ]
    },
    {
      "cell_type": "code",
      "execution_count": null,
      "id": "85425bf7",
      "metadata": {
        "id": "85425bf7"
      },
      "outputs": [],
      "source": [
        "plt.figure(figsize=(18, 8))\n",
        "sns.heatmap(df_8_EYE[['ET_PupilLeft_validity', 'ET_PupilRight_validity']].isnull(), cmap='viridis')\n",
        "plt.show()"
      ]
    },
    {
      "cell_type": "code",
      "execution_count": null,
      "id": "939a2098",
      "metadata": {
        "id": "939a2098"
      },
      "outputs": [],
      "source": [
        "df_8_EYE['ET_PupilLeft_validity'] = df_8_EYE['ET_PupilLeft_validity'].fillna(0)"
      ]
    },
    {
      "cell_type": "code",
      "execution_count": null,
      "id": "0bbc30f5",
      "metadata": {
        "id": "0bbc30f5"
      },
      "outputs": [],
      "source": [
        "df_8_EYE['ET_PupilRight_validity'] = df_8_EYE['ET_PupilRight_validity'].fillna(0)"
      ]
    },
    {
      "cell_type": "code",
      "execution_count": null,
      "id": "35c41376",
      "metadata": {
        "id": "35c41376"
      },
      "outputs": [],
      "source": [
        "df_8_EYE[['ET_PupilLeft_validity', 'ET_PupilRight_validity']].head()"
      ]
    },
    {
      "cell_type": "code",
      "execution_count": null,
      "id": "5f7f6c4e",
      "metadata": {
        "id": "5f7f6c4e"
      },
      "outputs": [],
      "source": [
        "plt.figure(figsize=(18, 8))\n",
        "sns.heatmap(df_8_EYE[['ET_PupilLeft_validity', 'ET_PupilRight_validity']].isnull(), cmap='viridis')\n",
        "plt.show()"
      ]
    },
    {
      "cell_type": "code",
      "execution_count": null,
      "id": "2b19b7ab",
      "metadata": {
        "id": "2b19b7ab"
      },
      "outputs": [],
      "source": [
        "df_8_EYE.head()"
      ]
    },
    {
      "cell_type": "code",
      "execution_count": null,
      "id": "1e240fce",
      "metadata": {
        "id": "1e240fce"
      },
      "outputs": [],
      "source": [
        "plt.figure(figsize=(18, 8))\n",
        "\n",
        "plt.subplot(1, 2, 1)\n",
        "sns.heatmap(df_8_EYE == -1, cmap='viridis')\n",
        "plt.title('Heatmap of -1 Values')\n",
        "\n",
        "plt.subplot(1, 2, 2)\n",
        "sns.heatmap(df_8_EYE == 1, cmap='viridis')\n",
        "plt.title('Heatmap of -1 Values')\n",
        "\n",
        "plt.tight_layout()\n",
        "plt.show()"
      ]
    },
    {
      "cell_type": "code",
      "execution_count": null,
      "id": "ed299438",
      "metadata": {
        "id": "ed299438"
      },
      "outputs": [],
      "source": [
        "valid_left_ratio  = 1 - df_8_EYE['ET_ValidityLeft'].mean()"
      ]
    },
    {
      "cell_type": "code",
      "execution_count": null,
      "id": "d2f7418b",
      "metadata": {
        "id": "d2f7418b"
      },
      "outputs": [],
      "source": [
        "valid_left_ratio"
      ]
    },
    {
      "cell_type": "code",
      "execution_count": null,
      "id": "df560066",
      "metadata": {
        "id": "df560066"
      },
      "outputs": [],
      "source": [
        "valid_right_ratio = 1 - df_8_EYE['ET_ValidityRight'].mean()"
      ]
    },
    {
      "cell_type": "code",
      "execution_count": null,
      "id": "99a5fdcc",
      "metadata": {
        "id": "99a5fdcc"
      },
      "outputs": [],
      "source": [
        "valid_right_ratio"
      ]
    },
    {
      "cell_type": "code",
      "execution_count": null,
      "id": "6600eedb",
      "metadata": {
        "id": "6600eedb"
      },
      "outputs": [],
      "source": [
        "df_8_EYE['ET_PupilLeft_validity'] = df_8_EYE['ET_PupilLeft_validity'].astype(np.int8)\n",
        "df_8_EYE['ET_PupilRight_validity'] = df_8_EYE['ET_PupilRight_validity'].astype(np.int8)"
      ]
    },
    {
      "cell_type": "markdown",
      "id": "1af48c84",
      "metadata": {
        "id": "1af48c84"
      },
      "source": [
        "# Feature Engineering and Observations\n",
        "\n",
        "Based on the analysis of the data, we've created two new features, `ET_PupilLeft_validity` and `ET_PupilRight_validity`. These features indicate the validity of the pupil data for the left and right eyes, respectively, with a value of 1 representing invalid data (originally -1) and 0 representing valid data.\n",
        "\n",
        "The heatmaps above visually demonstrate the distribution of -1 and 1 values across the dataset. We observed that:\n",
        "- The `-1` values are concentrated in specific columns related to gaze, pupil size, distance, and camera position, suggesting they represent missing or invalid sensor readings.\n",
        "- The `1` values, after mapping from `4.0` in the original validity columns, indicate instances of invalid eye-tracking data.\n",
        "- The heatmaps also show a strong correlation between the `-1` values in the pupil columns and a validity of 1 in the newly created pupil validity features, confirming that -1 was used to mark invalid pupil data."
      ]
    },
    {
      "cell_type": "code",
      "execution_count": null,
      "id": "3a213384",
      "metadata": {
        "id": "3a213384"
      },
      "outputs": [],
      "source": [
        "df_8_EYE.head()"
      ]
    },
    {
      "cell_type": "code",
      "execution_count": null,
      "id": "fb90e4d1",
      "metadata": {
        "id": "fb90e4d1"
      },
      "outputs": [],
      "source": [
        "# Select only the numeric columns for plotting histograms, excluding time-related columns\n",
        "numeric_cols = df_8_EYE.select_dtypes(include=np.number).columns\n",
        "cols_to_plot = [col for col in numeric_cols if col not in ['UnixTime']]\n",
        "\n",
        "# Calculate the number of rows and columns for the grid\n",
        "n_cols = 4  # You can adjust the number of columns as needed\n",
        "n_rows = (len(cols_to_plot) + n_cols - 1) // n_cols\n",
        "\n",
        "plt.figure(figsize=(n_cols * 5, n_rows * 4)) # Adjust figure size as needed\n",
        "\n",
        "for i, col in enumerate(cols_to_plot):\n",
        "    plt.subplot(n_rows, n_cols, i + 1)\n",
        "    sns.histplot(df_8_EYE[col], kde=True)\n",
        "    plt.title(f'Distribution of {col}')\n",
        "    plt.xlabel(col)\n",
        "    plt.ylabel('Frequency')\n",
        "\n",
        "plt.tight_layout()\n",
        "plt.show()"
      ]
    },
    {
      "cell_type": "markdown",
      "id": "2c98b20f",
      "metadata": {
        "id": "2c98b20f"
      },
      "source": [
        "# Observations from Histograms\n",
        "\n",
        "The grid of histograms provides insights into the distribution of values for each numeric column in the dataset (excluding 'UnixTime'). Key observations include:\n",
        "\n",
        "- Several columns, such as `ET_GazeLeftx`, `ET_GazeLefty`, `ET_GazeRightx`, and `ET_GazeRighty`, show distributions that appear somewhat multimodal or skewed, suggesting variations in gaze patterns.\n",
        "- The `ET_PupilLeft` and `ET_PupilRight` histograms clearly show a peak at -1, confirming the presence of a significant number of invalid pupil readings.\n",
        "- `ET_TimeSignal` shows a relatively uniform distribution, as expected for a time-based signal.\n",
        "- `ET_DistanceLeft` and `ET_DistanceRight` appear to have distributions centered around certain values, with some outliers or variations.\n",
        "- The camera position columns (`ET_CameraLeftX`, `ET_CameraLeftY`, `ET_CameraRightX`, `ET_CameraRightY`) seem to have distributions concentrated within specific ranges, reflecting the camera's field of view.\n",
        "- The validity columns (`ET_ValidityLeft`, `ET_ValidityRight`, `ET_PupilLeft_validity`, `ET_PupilRight_validity`) show distributions dominated by 0, indicating that most of the data is considered valid after the mapping. The smaller peaks at 1 represent the instances of invalid data.\n",
        "\n",
        "These distributions highlight the need for appropriate handling of the -1 values and potential outliers in subsequent analysis or modeling steps."
      ]
    },
    {
      "cell_type": "code",
      "execution_count": null,
      "id": "701eb00b",
      "metadata": {
        "id": "701eb00b"
      },
      "outputs": [],
      "source": [
        "df_8_EYE.columns"
      ]
    },
    {
      "cell_type": "code",
      "execution_count": null,
      "id": "2321566e",
      "metadata": {
        "id": "2321566e"
      },
      "outputs": [],
      "source": [
        "cols = ['ET_GazeLeftx', 'ET_GazeLefty',\n",
        "       'ET_GazeRightx', 'ET_GazeRighty', 'ET_PupilLeft', 'ET_PupilRight',\n",
        "       'ET_TimeSignal', 'ET_DistanceLeft', 'ET_DistanceRight',\n",
        "       'ET_CameraLeftX', 'ET_CameraLeftY', 'ET_CameraRightX',\n",
        "       'ET_CameraRightY', 'ET_ValidityLeft', 'ET_ValidityRight',\n",
        "       'ET_PupilLeft_validity', 'ET_PupilRight_validity']"
      ]
    },
    {
      "cell_type": "code",
      "execution_count": null,
      "id": "f3d46909",
      "metadata": {
        "id": "f3d46909"
      },
      "outputs": [],
      "source": [
        "from IPython.display import display, Markdown\n",
        "\n",
        "for col in cols:\n",
        "    # Add a markdown cell before each plot for better separation and labeling\n",
        "    display(Markdown(f'### {col} over Time'))\n",
        "    plt.figure(figsize=(16, 10))\n",
        "    plt.plot(df_8_EYE['Timestamp'], df_8_EYE[col])\n",
        "    plt.xlabel(\"Timestamp\") # Add x-axis label\n",
        "    plt.ylabel(col) # Add y-axis label\n",
        "    plt.show()"
      ]
    },
    {
      "cell_type": "markdown",
      "id": "f86d62a3",
      "metadata": {
        "id": "f86d62a3"
      },
      "source": [
        "# Observations from Time Series Plots\n",
        "\n",
        "The line plots showing various features against the `Timestamp` reveal the temporal patterns and fluctuations in the eye-tracking data. Key observations include:\n",
        "\n",
        "- **Gaze Coordinates (`ET_GazeLeftx`, `ET_GazeLefty`, `ET_GazeRightx`, `ET_GazeRighty`):** These plots show the changes in gaze position over time. We can observe periods of relatively stable gaze interspersed with rapid movements (saccades) and blinks or other events where the gaze data might be invalid (-1 values appear as gaps or spikes if not handled).\n",
        "- **Pupil Size (`ET_PupilLeft`, `ET_PupilRight`):** The pupil size plots show variations over time. The presence of many -1 values is evident as flat lines at the bottom of the plot, indicating periods where pupil data was not recorded or was invalid.\n",
        "- **Time Signal (`ET_TimeSignal`):** This plot shows a steady, increasing trend, as expected for a time-based signal.\n",
        "- **Distance and Camera Position (`ET_DistanceLeft`, `ET_DistanceRight`, `ET_CameraLeftX`, `ET_CameraLeftY`, `ET_CameraRightX`, `ET_CameraRightY`):** These plots show how the distance from the eye tracker and the camera positions change over time. Variations in these features can be related to head movements or changes in the user's position relative to the eye tracker.\n",
        "- **Validity (`ET_ValidityLeft`, `ET_ValidityRight`, `ET_PupilLeft_validity`, `ET_PupilRight_validity`):** These plots clearly show periods of invalid data (represented by 1) as spikes or plateaus, corresponding to instances where the eye tracker lost track of the eyes or the pupil data was marked as invalid.\n",
        "\n",
        "Analyzing these time series plots is crucial for understanding the dynamics of the eye-tracking data and identifying patterns or anomalies that may require further investigation or specific handling during subsequent analysis."
      ]
    },
    {
      "cell_type": "code",
      "execution_count": null,
      "id": "97ac909e",
      "metadata": {
        "id": "97ac909e"
      },
      "outputs": [],
      "source": [
        "# Select only the numeric columns for plotting histograms, excluding time-related columns\n",
        "numeric_cols = df_8_EYE.select_dtypes(include=np.number).columns\n",
        "\n",
        "# Calculate the number of rows and columns for the grid\n",
        "n_cols = 4  # You can adjust the number of columns as needed\n",
        "n_rows = (len(numeric_cols) + n_cols - 1) // n_cols\n",
        "\n",
        "plt.figure(figsize=(n_cols * 5, n_rows * 4)) # Adjust figure size as needed\n",
        "\n",
        "for i, col in enumerate(numeric_cols):\n",
        "    plt.subplot(n_rows, n_cols, i + 1)\n",
        "    sns.boxplot(df_8_EYE[col])\n",
        "    plt.title(f'Boxplot of {col}')\n",
        "    plt.xlabel(col)\n",
        "\n",
        "plt.tight_layout()\n",
        "plt.show()"
      ]
    },
    {
      "cell_type": "markdown",
      "id": "30d90a1e",
      "metadata": {
        "id": "30d90a1e"
      },
      "source": [
        "# Observations from Boxplots and Handling -1 Values\n",
        "\n",
        "The boxplots provide a visual summary of the distribution and potential outliers for each numeric column. Key observations from the boxplots include:\n",
        "\n",
        "- The boxplots for columns like `ET_GazeLeftx`, `ET_GazeLefty`, `ET_GazeRightx`, `ET_GazeRighty`, `ET_PupilLeft`, `ET_PupilRight`, `ET_DistanceLeft`, `ET_DistanceRight`, `ET_CameraLeftX`, `ET_CameraLeftY`, `ET_CameraRightX`, and `ET_CameraRightY` clearly show the presence of -1 values as significant outliers, confirming our earlier observations from the heatmaps and histograms.\n",
        "- The boxplots for the validity columns (`ET_ValidityLeft`, `ET_ValidityRight`, `ET_PupilLeft_validity`, `ET_PupilRight_validity`) show the discrete nature of these features, with the majority of data points at 0 (valid) and a smaller number at 1 (invalid).\n",
        "\n",
        "Given the significant presence of -1 values, which represent invalid or missing data, especially in the pupil-related columns, we have decided to replace these -1 values with NaN to properly represent them as missing data. Subsequently, we will impute these missing values using the mean of each respective column. This approach helps to retain the data structure and allows for further analysis or modeling without the distortion caused by the -1 placeholders."
      ]
    },
    {
      "cell_type": "code",
      "execution_count": null,
      "id": "3eec0f05",
      "metadata": {
        "id": "3eec0f05"
      },
      "outputs": [],
      "source": [
        "df_8_EYE.replace({-1: np.nan}, inplace=True)"
      ]
    },
    {
      "cell_type": "code",
      "execution_count": null,
      "id": "79f9ee00",
      "metadata": {
        "id": "79f9ee00"
      },
      "outputs": [],
      "source": [
        "df_8_EYE[['ET_GazeLeftx', 'ET_GazeLefty',\n",
        "       'ET_GazeRightx', 'ET_GazeRighty', 'ET_PupilLeft', 'ET_PupilRight',\n",
        "       'ET_TimeSignal', 'ET_DistanceLeft', 'ET_DistanceRight',\n",
        "       'ET_CameraLeftX', 'ET_CameraLeftY', 'ET_CameraRightX',\n",
        "       'ET_CameraRightY', 'ET_ValidityLeft', 'ET_ValidityRight',\n",
        "       'ET_PupilLeft_validity', 'ET_PupilRight_validity']].mean()"
      ]
    },
    {
      "cell_type": "code",
      "execution_count": null,
      "id": "844c8b8e",
      "metadata": {
        "id": "844c8b8e"
      },
      "outputs": [],
      "source": [
        "df_8_EYE[['ET_GazeLeftx', 'ET_GazeLefty',\n",
        "       'ET_GazeRightx', 'ET_GazeRighty', 'ET_PupilLeft', 'ET_PupilRight',\n",
        "       'ET_TimeSignal', 'ET_DistanceLeft', 'ET_DistanceRight',\n",
        "       'ET_CameraLeftX', 'ET_CameraLeftY', 'ET_CameraRightX',\n",
        "       'ET_CameraRightY', 'ET_ValidityLeft', 'ET_ValidityRight',\n",
        "       'ET_PupilLeft_validity', 'ET_PupilRight_validity']].median()"
      ]
    },
    {
      "cell_type": "code",
      "execution_count": null,
      "id": "7ab87ecb",
      "metadata": {
        "id": "7ab87ecb"
      },
      "outputs": [],
      "source": [
        "numeric_cols = df_8_EYE.select_dtypes(include=np.number).columns\n",
        "\n",
        "for col in numeric_cols:\n",
        "    df_8_EYE[col] = df_8_EYE[col].fillna(df_8_EYE[col].mean())"
      ]
    },
    {
      "cell_type": "code",
      "execution_count": null,
      "id": "b3e63840",
      "metadata": {
        "id": "b3e63840"
      },
      "outputs": [],
      "source": [
        "plt.figure(figsize=(18, 8))\n",
        "\n",
        "plt.subplot(1, 2, 1)\n",
        "sns.heatmap(df_8_EYE.isnull(), cmap='viridis')\n",
        "plt.title('Heatmap of Missing Values After Imputation')\n",
        "\n",
        "plt.subplot(1, 2, 2)\n",
        "sns.heatmap(df_8_EYE == 1, cmap='viridis')\n",
        "plt.title('Heatmap of 1 Values')\n",
        "\n",
        "plt.tight_layout()\n",
        "plt.show()"
      ]
    },
    {
      "cell_type": "markdown",
      "id": "119f685e",
      "metadata": {
        "id": "119f685e"
      },
      "source": [
        "# Handling Missing Values (Imputation)\n",
        "\n",
        "As decided, we have replaced all the `-1` values with `NaN` to treat them as missing data. Subsequently, we have imputed these `NaN` values with the mean of their respective columns. The heatmap above, which was generated after the imputation, now shows no visible signs of `NaN` values, indicating that the imputation was successful."
      ]
    },
    {
      "cell_type": "code",
      "execution_count": null,
      "id": "904941f4",
      "metadata": {
        "id": "904941f4"
      },
      "outputs": [],
      "source": [
        "df_8_EYE.head()"
      ]
    },
    {
      "cell_type": "code",
      "execution_count": null,
      "id": "3c42ff9d",
      "metadata": {
        "id": "3c42ff9d"
      },
      "outputs": [],
      "source": [
        "# Select only the numeric columns for plotting histograms, excluding time-related columns\n",
        "numeric_cols = df_8_EYE.select_dtypes(include=np.number).columns\n",
        "cols_to_plot = [col for col in numeric_cols if col not in ['UnixTime']]\n",
        "\n",
        "# Calculate the number of rows and columns for the grid\n",
        "n_cols = 4  # You can adjust the number of columns as needed\n",
        "n_rows = (len(cols_to_plot) + n_cols - 1) // n_cols\n",
        "\n",
        "plt.figure(figsize=(n_cols * 5, n_rows * 4)) # Adjust figure size as needed\n",
        "\n",
        "for i, col in enumerate(cols_to_plot):\n",
        "    plt.subplot(n_rows, n_cols, i + 1)\n",
        "    sns.histplot(df_8_EYE[col], kde=True)\n",
        "    plt.title(f'Distribution of {col}')\n",
        "    plt.xlabel(col)\n",
        "    plt.ylabel('Frequency')\n",
        "\n",
        "plt.tight_layout()\n",
        "plt.show()"
      ]
    },
    {
      "cell_type": "markdown",
      "id": "c6087876",
      "metadata": {
        "id": "c6087876"
      },
      "source": [
        "# Observations from Histograms After Imputation\n",
        "\n",
        "The histograms generated after replacing the -1 values with the mean of each column show the distributions of the numeric features with the missing data handled. Key observations from these updated histograms include:\n",
        "\n",
        "- The distinct peaks at -1, which were prominent in the histograms for several columns (e.g., pupil size, gaze coordinates, distance, and camera position) before imputation, are now replaced by a peak at the mean of each respective column.\n",
        "- The distributions in many columns now appear more unimodal or show shifted modes compared to the original histograms.\n",
        "- The histograms for the validity columns still show their bimodal distributions with peaks at 0 and 1, as these were handled separately.\n",
        "\n",
        "These histograms provide an updated view of the data's distribution after handling the missing values, highlighting the impact of the imputation method on the data's characteristics."
      ]
    },
    {
      "cell_type": "code",
      "execution_count": null,
      "id": "eab0ba57",
      "metadata": {
        "id": "eab0ba57"
      },
      "outputs": [],
      "source": [
        "cols = ['ET_GazeLeftx', 'ET_GazeLefty',\n",
        "       'ET_GazeRightx', 'ET_GazeRighty', 'ET_PupilLeft', 'ET_PupilRight',\n",
        "       'ET_TimeSignal', 'ET_DistanceLeft', 'ET_DistanceRight',\n",
        "       'ET_CameraLeftX', 'ET_CameraLeftY', 'ET_CameraRightX',\n",
        "       'ET_CameraRightY', 'ET_ValidityLeft', 'ET_ValidityRight',\n",
        "       'ET_PupilLeft_validity', 'ET_PupilRight_validity']"
      ]
    },
    {
      "cell_type": "code",
      "execution_count": null,
      "id": "cfef5194",
      "metadata": {
        "id": "cfef5194"
      },
      "outputs": [],
      "source": [
        "for col in cols:\n",
        "    # Add a markdown cell before each plot for better separation and labeling\n",
        "    display(Markdown(f'### {col} over Time'))\n",
        "    plt.figure(figsize=(16, 10))\n",
        "    plt.plot(df_8_EYE['Timestamp'], df_8_EYE[col])\n",
        "    plt.xlabel(\"Timestamp\") # Add x-axis label\n",
        "    plt.ylabel(col) # Add y-axis label\n",
        "    plt.show()"
      ]
    },
    {
      "cell_type": "markdown",
      "id": "4bba9a8c",
      "metadata": {
        "id": "4bba9a8c"
      },
      "source": [
        "# Observations from Time Series Plots After Imputation\n",
        "\n",
        "The line plots generated after imputing the missing values with the mean show the temporal patterns of the features with the missing data handled. Key observations from these updated plots include:\n",
        "\n",
        "- The gaps or flat lines at -1, which were prominent in the plots for columns like gaze coordinates, pupil size, distance, and camera position, are now filled by lines at the mean value of the respective columns.\n",
        "- The plots for the validity columns remain the same as they were handled separately.\n",
        "- The `ET_TimeSignal` plot still shows a steady increasing trend, as expected."
      ]
    },
    {
      "cell_type": "code",
      "execution_count": null,
      "id": "bce3e50a",
      "metadata": {
        "id": "bce3e50a"
      },
      "outputs": [],
      "source": [
        "plt.figure(figsize=(16, 10))\n",
        "sns.heatmap(df_8_EYE.corr(numeric_only=True), cmap='YlGnBu', annot=True)\n",
        "plt.show()"
      ]
    },
    {
      "cell_type": "markdown",
      "id": "c1167852",
      "metadata": {
        "id": "c1167852"
      },
      "source": [
        "# Observations from Correlation Heatmap\n",
        "\n",
        "The correlation heatmap provides a visual representation of the pairwise correlations between the numeric columns in the dataset. Key observations from the heatmap include:\n",
        "\n",
        "- **High Positive Correlations:** We observe strong positive correlations (values close to 1) between:\n",
        "  - `ET_GazeLeftx` and `ET_GazeRightx`: This is expected as the gaze positions of both eyes should be highly correlated when fixating on a point.\n",
        "  - `ET_GazeLefty` and `ET_GazeRighty`: Similar to the x-coordinates, the y-coordinates of gaze should also be highly correlated.\n",
        "  - `ET_PupilLeft` and `ET_PupilRight`: Pupil sizes of both eyes tend to change together in response to light and cognitive load.\n",
        "  - `ET_DistanceLeft` and `ET_DistanceRight`: The distance from the eye tracker to each eye should be highly correlated.\n",
        "  - `ET_CameraLeftX` and `ET_CameraRightX`, `ET_CameraLeftY` and `ET_CameraRightY`: The camera positions for both eyes are also expected to be highly correlated.\n",
        "  - `UnixTime` and `ET_TimeSignal`: As previously noted, these two columns are almost perfectly linearly correlated, indicating redundancy.\n",
        "  - `ET_ValidityLeft` and `ET_PupilLeft_validity`: There is a positive correlation, suggesting that when the overall left eye data is invalid, the left pupil data is also likely to be invalid.\n",
        "  - `ET_ValidityRight` and `ET_PupilRight_validity`: Similar to the left eye, there is a positive correlation between the overall right eye validity and the right pupil validity.\n",
        "- **Other Correlations:** We can also observe other varying degrees of correlations between different features, which can provide insights into the relationships between gaze behavior, pupil size, distance, and camera position. For example, there might be correlations between gaze coordinates and camera positions, reflecting head movements.\n",
        "- **Low or Near-Zero Correlations:** Columns with low or near-zero correlations are relatively independent of each other.\n",
        "\n",
        "Understanding these correlations is important for feature selection and for building models, as highly correlated features might indicate multicollinearity, while correlations between features can reveal underlying patterns in the data."
      ]
    },
    {
      "cell_type": "markdown",
      "id": "57aa46f7",
      "metadata": {
        "id": "57aa46f7"
      },
      "source": [
        "# Analysis of ET_TimeSignal and Decision to Drop\n",
        "\n",
        "As observed in the time series plot and confirmed by the correlation heatmap, the `ET_TimeSignal` column exhibits a near-perfect linear relationship with both the `Timestamp` and `UnixTime` columns. This strong correlation (close to 1) suggests that `ET_TimeSignal` is essentially redundant and likely represents another form of time recording or a signal directly derived from the timestamp.\n",
        "\n",
        "Including highly correlated features like this in a dataset can lead to issues such as multicollinearity in some statistical models, which can make it difficult to interpret the individual impact of each feature. Since the `Timestamp` column already provides the necessary temporal information, retaining `ET_TimeSignal` does not appear to add significant value for further analysis or modeling in most cases.\n",
        "\n",
        "Therefore, based on its high correlation and lack of unique insight, we will proceed to drop the `ET_TimeSignal` column to simplify the dataset and potentially improve the performance and interpretability of future analyses."
      ]
    },
    {
      "cell_type": "code",
      "execution_count": null,
      "id": "84f67e94",
      "metadata": {
        "id": "84f67e94"
      },
      "outputs": [],
      "source": [
        "df_8_EYE.drop('ET_TimeSignal', axis=1, inplace=True)"
      ]
    },
    {
      "cell_type": "code",
      "execution_count": null,
      "id": "89181cea",
      "metadata": {
        "id": "89181cea"
      },
      "outputs": [],
      "source": [
        "plt.figure(figsize=(16, 10))\n",
        "sns.pairplot(df_8_EYE)\n",
        "plt.show()"
      ]
    },
    {
      "cell_type": "markdown",
      "id": "c4446c77",
      "metadata": {
        "id": "c4446c77"
      },
      "source": [
        "# **9_EYE**"
      ]
    },
    {
      "cell_type": "code",
      "execution_count": null,
      "id": "02923f8a",
      "metadata": {
        "id": "02923f8a"
      },
      "outputs": [],
      "source": [
        "df_9_EYE = pd.read_csv('data/STData/9/9_EYE.csv')"
      ]
    },
    {
      "cell_type": "code",
      "execution_count": null,
      "id": "ce9aade5",
      "metadata": {
        "id": "ce9aade5"
      },
      "outputs": [],
      "source": [
        "df_9_EYE.head()"
      ]
    },
    {
      "cell_type": "code",
      "execution_count": null,
      "id": "410d6749",
      "metadata": {
        "id": "410d6749"
      },
      "outputs": [],
      "source": [
        "df_9_EYE.shape"
      ]
    },
    {
      "cell_type": "code",
      "execution_count": null,
      "id": "45a349f4",
      "metadata": {
        "id": "45a349f4"
      },
      "outputs": [],
      "source": [
        "df_9_EYE.columns"
      ]
    },
    {
      "cell_type": "code",
      "execution_count": null,
      "id": "95dcdb51",
      "metadata": {
        "id": "95dcdb51"
      },
      "outputs": [],
      "source": [
        "df_9_EYE.info()"
      ]
    },
    {
      "cell_type": "code",
      "execution_count": null,
      "id": "2b152d8f",
      "metadata": {
        "id": "2b152d8f"
      },
      "outputs": [],
      "source": [
        "df_9_EYE.isnull().sum()"
      ]
    },
    {
      "cell_type": "code",
      "execution_count": null,
      "id": "c340466e",
      "metadata": {
        "id": "c340466e"
      },
      "outputs": [],
      "source": [
        "plt.figure(figsize=(12,8))\n",
        "sns.heatmap(df_9_EYE.isnull(), cmap='viridis')\n",
        "plt.show()"
      ]
    },
    {
      "cell_type": "markdown",
      "id": "8aa33bb7",
      "metadata": {
        "id": "8aa33bb7"
      },
      "source": [
        "# Notes & Observations\n",
        "\n",
        "- We observe many **null** (or missing) values in the `QuestionKey` columns.\n",
        "- The nulls in the `QuestionKey` column may not represent “true” nulls. Rather, they follow interval patterns, suggesting that during those periods no question was displayed.\n",
        "- These missing values in `QuestionKey` require additional investigation and context-aware handling."
      ]
    },
    {
      "cell_type": "code",
      "execution_count": null,
      "id": "b1fd754f",
      "metadata": {
        "id": "b1fd754f"
      },
      "outputs": [],
      "source": [
        "df_9_EYE['QuestionKey'].unique()"
      ]
    },
    {
      "cell_type": "code",
      "execution_count": null,
      "id": "71c33f2b",
      "metadata": {
        "id": "71c33f2b"
      },
      "outputs": [],
      "source": [
        "df_9_EYE['Timestamp'] = pd.to_datetime(df_9_EYE['Timestamp'])"
      ]
    },
    {
      "cell_type": "code",
      "execution_count": null,
      "id": "ccdbb053",
      "metadata": {
        "id": "ccdbb053"
      },
      "outputs": [],
      "source": [
        "df_9_EYE.head(3)"
      ]
    },
    {
      "cell_type": "code",
      "execution_count": null,
      "id": "c04f1c87",
      "metadata": {
        "id": "c04f1c87"
      },
      "outputs": [],
      "source": [
        "df_9_EYE['QuestionKey'] = df_9_EYE['QuestionKey'].fillna('None')"
      ]
    },
    {
      "cell_type": "code",
      "execution_count": null,
      "id": "88f87752",
      "metadata": {
        "id": "88f87752"
      },
      "outputs": [],
      "source": [
        "df_9_EYE['QuestionKey'].value_counts()"
      ]
    },
    {
      "cell_type": "code",
      "execution_count": null,
      "id": "5a35943c",
      "metadata": {
        "id": "5a35943c"
      },
      "outputs": [],
      "source": [
        "plt.figure(figsize=(12,8))\n",
        "sns.heatmap(df_9_EYE.isnull(), cmap='viridis')\n",
        "plt.show()"
      ]
    },
    {
      "cell_type": "code",
      "execution_count": null,
      "id": "506cc1d7",
      "metadata": {
        "id": "506cc1d7"
      },
      "outputs": [],
      "source": [
        "df_9_EYE.isnull().sum()"
      ]
    },
    {
      "cell_type": "code",
      "execution_count": null,
      "id": "5453fd00",
      "metadata": {
        "id": "5453fd00"
      },
      "outputs": [],
      "source": [
        "df_9_EYE.dropna(inplace=True)"
      ]
    },
    {
      "cell_type": "code",
      "execution_count": null,
      "id": "0574d8eb",
      "metadata": {
        "id": "0574d8eb"
      },
      "outputs": [],
      "source": [
        "df_9_EYE.head()"
      ]
    },
    {
      "cell_type": "code",
      "execution_count": null,
      "id": "890d0612",
      "metadata": {
        "id": "890d0612"
      },
      "outputs": [],
      "source": [
        "df_9_EYE['Row'].unique()"
      ]
    },
    {
      "cell_type": "code",
      "execution_count": null,
      "id": "d27f1e81",
      "metadata": {
        "id": "d27f1e81"
      },
      "outputs": [],
      "source": [
        "plt.figure(figsize=(8,6))\n",
        "sns.histplot(df_9_EYE['Row'])\n",
        "plt.show()"
      ]
    },
    {
      "cell_type": "markdown",
      "id": "9b10e104",
      "metadata": {
        "id": "9b10e104"
      },
      "source": [
        "# Notes & Observations\n",
        "\n",
        "- The `Row` column appears to be a simple row index and does not provide meaningful information relevant to the eye-tracking data itself. Therefore, it can be dropped."
      ]
    },
    {
      "cell_type": "code",
      "execution_count": null,
      "id": "7b0a7f17",
      "metadata": {
        "id": "7b0a7f17"
      },
      "outputs": [],
      "source": [
        "df_9_EYE.drop('Row', axis=1, inplace=True)"
      ]
    },
    {
      "cell_type": "code",
      "execution_count": null,
      "id": "d6ce2336",
      "metadata": {
        "id": "d6ce2336"
      },
      "outputs": [],
      "source": [
        "df_9_EYE['ET_ValidityLeft'].unique()"
      ]
    },
    {
      "cell_type": "code",
      "execution_count": null,
      "id": "4e9ab403",
      "metadata": {
        "id": "4e9ab403"
      },
      "outputs": [],
      "source": [
        "df_9_EYE['ET_ValidityLeft'].value_counts()"
      ]
    },
    {
      "cell_type": "code",
      "execution_count": null,
      "id": "8d10de26",
      "metadata": {
        "id": "8d10de26"
      },
      "outputs": [],
      "source": [
        "df_9_EYE['ET_ValidityRight'].unique()"
      ]
    },
    {
      "cell_type": "code",
      "execution_count": null,
      "id": "0a5efebb",
      "metadata": {
        "id": "0a5efebb"
      },
      "outputs": [],
      "source": [
        "df_9_EYE['ET_ValidityRight'].value_counts()"
      ]
    },
    {
      "cell_type": "code",
      "execution_count": null,
      "id": "47c0032c",
      "metadata": {
        "id": "47c0032c"
      },
      "outputs": [],
      "source": [
        "plt.figure(figsize=(12, 6))\n",
        "\n",
        "plt.subplot(1, 2, 1)\n",
        "sns.barplot(x=df_9_EYE['ET_ValidityLeft'].value_counts().index, y=df_9_EYE['ET_ValidityLeft'].value_counts().values)\n",
        "plt.title('Count of ET_ValidityLeft')\n",
        "plt.xlabel('Validity')\n",
        "plt.ylabel('Count')\n",
        "\n",
        "\n",
        "plt.subplot(1, 2, 2)\n",
        "sns.barplot(x=df_9_EYE['ET_ValidityRight'].value_counts().index, y=df_9_EYE['ET_ValidityRight'].value_counts().values)\n",
        "plt.title('Count of ET_ValidityRight')\n",
        "plt.xlabel('Validity')\n",
        "plt.ylabel('Count')\n",
        "\n",
        "plt.tight_layout()\n",
        "plt.show()"
      ]
    },
    {
      "cell_type": "markdown",
      "id": "3c41284c",
      "metadata": {
        "id": "3c41284c"
      },
      "source": [
        "# Notes & Observations\n",
        "\n",
        "- The `ET_ValidityLeft` and `ET_ValidityRight` columns indicate the validity of the eye-tracking data for the left and right eye, respectively.\n",
        "- Based on the value counts and the bar plots, it appears that a value of `0.0` represents valid eye-tracking data, while a value of `4.0` represents invalid data.\n",
        "- Although the amount of invalid data is relatively small, removing these rows could introduce unwanted patterns or gaps in the time series data.\n",
        "- Therefore, we will keep the data and replace the value `4.0` with `1.0` in both `ET_ValidityLeft` and `ET_ValidityRight` columns. This will indicate to a machine learning model that the eye tracker had invalid data at those specific points in time while maintaining the integrity of the time series."
      ]
    },
    {
      "cell_type": "markdown",
      "id": "4c8e3c06",
      "metadata": {
        "id": "4c8e3c06"
      },
      "source": [
        "Define a mapping to convert validity values from `0.0` and `4.0` to `0` and `1`."
      ]
    },
    {
      "cell_type": "code",
      "execution_count": null,
      "id": "48390ce2",
      "metadata": {
        "id": "48390ce2"
      },
      "outputs": [],
      "source": [
        "validity_map = {4.0: 1.0, 0.0: 0.0}"
      ]
    },
    {
      "cell_type": "code",
      "execution_count": null,
      "id": "bf14064a",
      "metadata": {
        "id": "bf14064a"
      },
      "outputs": [],
      "source": [
        "df_9_EYE['ET_ValidityLeft'] = df_9_EYE['ET_ValidityLeft'].map(validity_map).astype(np.int8)\n",
        "df_9_EYE['ET_ValidityRight'] = df_9_EYE['ET_ValidityRight'].map(validity_map).astype(np.int8)"
      ]
    },
    {
      "cell_type": "code",
      "execution_count": null,
      "id": "db0e282b",
      "metadata": {
        "id": "db0e282b"
      },
      "outputs": [],
      "source": [
        "df_9_EYE.head(3)"
      ]
    },
    {
      "cell_type": "code",
      "execution_count": null,
      "id": "371f04fb",
      "metadata": {
        "id": "371f04fb"
      },
      "outputs": [],
      "source": [
        "df_9_EYE.describe()"
      ]
    },
    {
      "cell_type": "code",
      "execution_count": null,
      "id": "52f11d5b",
      "metadata": {
        "id": "52f11d5b"
      },
      "outputs": [],
      "source": [
        "df_9_EYE[df_9_EYE['ET_ValidityLeft'] == 1].shape"
      ]
    },
    {
      "cell_type": "code",
      "execution_count": null,
      "id": "6447cc1f",
      "metadata": {
        "id": "6447cc1f"
      },
      "outputs": [],
      "source": [
        "df_9_EYE[df_9_EYE['ET_ValidityRight'] == 1].shape"
      ]
    },
    {
      "cell_type": "code",
      "execution_count": null,
      "id": "a91c4349",
      "metadata": {
        "id": "a91c4349"
      },
      "outputs": [],
      "source": [
        "df_9_EYE[df_9_EYE['ET_ValidityLeft'] == 1].shape[0] / df_9_EYE.shape[0]"
      ]
    },
    {
      "cell_type": "code",
      "execution_count": null,
      "id": "d3dde98d",
      "metadata": {
        "id": "d3dde98d"
      },
      "outputs": [],
      "source": [
        "df_9_EYE[df_9_EYE['ET_ValidityRight'] == 1].shape[0] / df_9_EYE.shape[0]"
      ]
    },
    {
      "cell_type": "code",
      "execution_count": null,
      "id": "471ccbe2",
      "metadata": {
        "id": "471ccbe2"
      },
      "outputs": [],
      "source": [
        "plt.figure(figsize=(18, 8))\n",
        "\n",
        "plt.subplot(1, 2, 1)\n",
        "sns.heatmap(df_9_EYE == -1, cmap='viridis')\n",
        "plt.title('Heatmap of -1 Values')\n",
        "\n",
        "plt.subplot(1, 2, 2)\n",
        "sns.heatmap(df_9_EYE == 1, cmap='viridis')\n",
        "plt.title('Heatmap of 1 Values')\n",
        "\n",
        "plt.tight_layout()\n",
        "plt.show()"
      ]
    },
    {
      "cell_type": "code",
      "execution_count": null,
      "id": "d90dd593",
      "metadata": {
        "id": "d90dd593"
      },
      "outputs": [],
      "source": [
        "df_9_EYE[df_9_EYE['ET_PupilLeft'] == -1].shape"
      ]
    },
    {
      "cell_type": "code",
      "execution_count": null,
      "id": "04c84214",
      "metadata": {
        "id": "04c84214"
      },
      "outputs": [],
      "source": [
        "df_9_EYE[df_9_EYE['ET_PupilRight'] == -1].shape"
      ]
    },
    {
      "cell_type": "code",
      "execution_count": null,
      "id": "a389b9da",
      "metadata": {
        "id": "a389b9da"
      },
      "outputs": [],
      "source": [
        "df_9_EYE[df_9_EYE['ET_PupilLeft'] == -1].shape[0] / df_9_EYE.shape[0]"
      ]
    },
    {
      "cell_type": "code",
      "execution_count": null,
      "id": "80901efe",
      "metadata": {
        "id": "80901efe"
      },
      "outputs": [],
      "source": [
        "df_9_EYE[df_9_EYE['ET_PupilRight'] == -1].shape[0] / df_9_EYE.shape[0]"
      ]
    },
    {
      "cell_type": "code",
      "execution_count": null,
      "id": "f822c1ac",
      "metadata": {
        "id": "f822c1ac"
      },
      "outputs": [],
      "source": [
        "plt.figure(figsize=(18, 8))\n",
        "\n",
        "plt.subplot(1, 2, 1)\n",
        "sns.heatmap(df_9_EYE[df_9_EYE['ET_ValidityLeft'] == 1] == -1, cmap='viridis')\n",
        "plt.title('Heatmap of -1 Values')\n",
        "\n",
        "plt.subplot(1, 2, 2)\n",
        "sns.heatmap(df_9_EYE[df_9_EYE['ET_ValidityRight'] == 1] == -1, cmap='viridis')\n",
        "plt.title('Heatmap of -1 Values')\n",
        "\n",
        "plt.tight_layout()\n",
        "plt.show()"
      ]
    },
    {
      "cell_type": "markdown",
      "id": "f8cd7c21",
      "metadata": {
        "id": "f8cd7c21"
      },
      "source": [
        "# Notes & Observations\n",
        "\n",
        "- The heatmaps reveal the distribution of -1 values across different columns.\n",
        "- It is evident that the `-1` values are not randomly scattered but appear in specific columns, notably `ET_GazeLeftx`, `ET_GazeLefty`, `ET_GazeRightx`, `ET_GazeRighty`, `ET_PupilLeft`, `ET_PupilRight`, `ET_DistanceLeft`, `ET_DistanceRight`, `ET_CameraLeftX`, `ET_CameraLeftY`, `ET_CameraRightX`, and `ET_CameraRightY`.\n",
        "- These `-1` values often coincide with instances where `ET_ValidityLeft` or `ET_ValidityRight` is 1, indicating invalid eye-tracking data. This suggests that `-1` is used as a placeholder for missing or invalid measurements in these columns when the eye tracker is not providing valid data for a particular eye.\n",
        "- Given that over 70% of the data in the `ET_PupilLeft` and `ET_PupilRight` columns is marked as invalid (-1), so instead of dropping them we can create new feature for both the `ET_PupilLeft` and `ET_PupilRight` to represent which row consist invalid `ET_PupilLeft` and `ET_PupilRight` data"
      ]
    },
    {
      "cell_type": "code",
      "execution_count": null,
      "id": "ddf910be",
      "metadata": {
        "id": "ddf910be"
      },
      "outputs": [],
      "source": [
        "pupil_validity = {-1: 1 }"
      ]
    },
    {
      "cell_type": "code",
      "execution_count": null,
      "id": "ef2e30f4",
      "metadata": {
        "id": "ef2e30f4"
      },
      "outputs": [],
      "source": [
        "df_9_EYE['ET_PupilLeft_validity'] = df_9_EYE['ET_PupilLeft'].map(pupil_validity)"
      ]
    },
    {
      "cell_type": "code",
      "execution_count": null,
      "id": "2d0c347c",
      "metadata": {
        "id": "2d0c347c"
      },
      "outputs": [],
      "source": [
        "df_9_EYE['ET_PupilRight_validity'] = df_9_EYE['ET_PupilRight'].map(pupil_validity)"
      ]
    },
    {
      "cell_type": "code",
      "execution_count": null,
      "id": "c95211cb",
      "metadata": {
        "id": "c95211cb"
      },
      "outputs": [],
      "source": [
        "df_9_EYE[['ET_PupilLeft_validity', 'ET_PupilRight_validity']].head()"
      ]
    },
    {
      "cell_type": "code",
      "execution_count": null,
      "id": "f4d7e1b4",
      "metadata": {
        "id": "f4d7e1b4"
      },
      "outputs": [],
      "source": [
        "df_9_EYE[['ET_PupilLeft_validity', 'ET_PupilRight_validity']].isnull().sum()"
      ]
    },
    {
      "cell_type": "code",
      "execution_count": null,
      "id": "29ad4686",
      "metadata": {
        "id": "29ad4686"
      },
      "outputs": [],
      "source": [
        "plt.figure(figsize=(18, 8))\n",
        "sns.heatmap(df_9_EYE[['ET_PupilLeft_validity', 'ET_PupilRight_validity']].isnull(), cmap='viridis')\n",
        "plt.show()"
      ]
    },
    {
      "cell_type": "code",
      "execution_count": null,
      "id": "07445448",
      "metadata": {
        "id": "07445448"
      },
      "outputs": [],
      "source": [
        "df_9_EYE['ET_PupilLeft_validity'] = df_9_EYE['ET_PupilLeft_validity'].fillna(0)"
      ]
    },
    {
      "cell_type": "code",
      "execution_count": null,
      "id": "87e42759",
      "metadata": {
        "id": "87e42759"
      },
      "outputs": [],
      "source": [
        "df_9_EYE['ET_PupilRight_validity'] = df_9_EYE['ET_PupilRight_validity'].fillna(0)"
      ]
    },
    {
      "cell_type": "code",
      "execution_count": null,
      "id": "6cadf2bf",
      "metadata": {
        "id": "6cadf2bf"
      },
      "outputs": [],
      "source": [
        "df_9_EYE[['ET_PupilLeft_validity', 'ET_PupilRight_validity']].head()"
      ]
    },
    {
      "cell_type": "code",
      "execution_count": null,
      "id": "a4bb9301",
      "metadata": {
        "id": "a4bb9301"
      },
      "outputs": [],
      "source": [
        "plt.figure(figsize=(18, 8))\n",
        "sns.heatmap(df_9_EYE[['ET_PupilLeft_validity', 'ET_PupilRight_validity']].isnull(), cmap='viridis')\n",
        "plt.show()"
      ]
    },
    {
      "cell_type": "code",
      "execution_count": null,
      "id": "d5a10fff",
      "metadata": {
        "id": "d5a10fff"
      },
      "outputs": [],
      "source": [
        "df_9_EYE.head()"
      ]
    },
    {
      "cell_type": "code",
      "execution_count": null,
      "id": "34d304d5",
      "metadata": {
        "id": "34d304d5"
      },
      "outputs": [],
      "source": [
        "plt.figure(figsize=(18, 8))\n",
        "\n",
        "plt.subplot(1, 2, 1)\n",
        "sns.heatmap(df_9_EYE == -1, cmap='viridis')\n",
        "plt.title('Heatmap of -1 Values')\n",
        "\n",
        "plt.subplot(1, 2, 2)\n",
        "sns.heatmap(df_9_EYE == 1, cmap='viridis')\n",
        "plt.title('Heatmap of -1 Values')\n",
        "\n",
        "plt.tight_layout()\n",
        "plt.show()"
      ]
    },
    {
      "cell_type": "code",
      "execution_count": null,
      "id": "6a878a1f",
      "metadata": {
        "id": "6a878a1f"
      },
      "outputs": [],
      "source": [
        "valid_left_ratio  = 1 - df_9_EYE['ET_ValidityLeft'].mean()"
      ]
    },
    {
      "cell_type": "code",
      "execution_count": null,
      "id": "4175e8fe",
      "metadata": {
        "id": "4175e8fe"
      },
      "outputs": [],
      "source": [
        "valid_left_ratio"
      ]
    },
    {
      "cell_type": "code",
      "execution_count": null,
      "id": "de46b687",
      "metadata": {
        "id": "de46b687"
      },
      "outputs": [],
      "source": [
        "valid_right_ratio = 1 - df_9_EYE['ET_ValidityRight'].mean()"
      ]
    },
    {
      "cell_type": "code",
      "execution_count": null,
      "id": "de4cba74",
      "metadata": {
        "id": "de4cba74"
      },
      "outputs": [],
      "source": [
        "valid_right_ratio"
      ]
    },
    {
      "cell_type": "code",
      "execution_count": null,
      "id": "77756a81",
      "metadata": {
        "id": "77756a81"
      },
      "outputs": [],
      "source": [
        "df_9_EYE['ET_PupilLeft_validity'] = df_9_EYE['ET_PupilLeft_validity'].astype(np.int8)\n",
        "df_9_EYE['ET_PupilRight_validity'] = df_9_EYE['ET_PupilRight_validity'].astype(np.int8)"
      ]
    },
    {
      "cell_type": "markdown",
      "id": "52734e85",
      "metadata": {
        "id": "52734e85"
      },
      "source": [
        "# Feature Engineering and Observations\n",
        "\n",
        "Based on the analysis of the data, we've created two new features, `ET_PupilLeft_validity` and `ET_PupilRight_validity`. These features indicate the validity of the pupil data for the left and right eyes, respectively, with a value of 1 representing invalid data (originally -1) and 0 representing valid data.\n",
        "\n",
        "The heatmaps above visually demonstrate the distribution of -1 and 1 values across the dataset. We observed that:\n",
        "- The `-1` values are concentrated in specific columns related to gaze, pupil size, distance, and camera position, suggesting they represent missing or invalid sensor readings.\n",
        "- The `1` values, after mapping from `4.0` in the original validity columns, indicate instances of invalid eye-tracking data.\n",
        "- The heatmaps also show a strong correlation between the `-1` values in the pupil columns and a validity of 1 in the newly created pupil validity features, confirming that -1 was used to mark invalid pupil data."
      ]
    },
    {
      "cell_type": "code",
      "execution_count": null,
      "id": "3439a1c5",
      "metadata": {
        "id": "3439a1c5"
      },
      "outputs": [],
      "source": [
        "df_9_EYE.head()"
      ]
    },
    {
      "cell_type": "code",
      "execution_count": null,
      "id": "f844dc2c",
      "metadata": {
        "id": "f844dc2c"
      },
      "outputs": [],
      "source": [
        "# Select only the numeric columns for plotting histograms, excluding time-related columns\n",
        "numeric_cols = df_9_EYE.select_dtypes(include=np.number).columns\n",
        "cols_to_plot = [col for col in numeric_cols if col not in ['UnixTime']]\n",
        "\n",
        "# Calculate the number of rows and columns for the grid\n",
        "n_cols = 4  # You can adjust the number of columns as needed\n",
        "n_rows = (len(cols_to_plot) + n_cols - 1) // n_cols\n",
        "\n",
        "plt.figure(figsize=(n_cols * 5, n_rows * 4)) # Adjust figure size as needed\n",
        "\n",
        "for i, col in enumerate(cols_to_plot):\n",
        "    plt.subplot(n_rows, n_cols, i + 1)\n",
        "    sns.histplot(df_9_EYE[col], kde=True)\n",
        "    plt.title(f'Distribution of {col}')\n",
        "    plt.xlabel(col)\n",
        "    plt.ylabel('Frequency')\n",
        "\n",
        "plt.tight_layout()\n",
        "plt.show()"
      ]
    },
    {
      "cell_type": "markdown",
      "id": "0f3d3081",
      "metadata": {
        "id": "0f3d3081"
      },
      "source": [
        "# Observations from Histograms\n",
        "\n",
        "The grid of histograms provides insights into the distribution of values for each numeric column in the dataset (excluding 'UnixTime'). Key observations include:\n",
        "\n",
        "- Several columns, such as `ET_GazeLeftx`, `ET_GazeLefty`, `ET_GazeRightx`, and `ET_GazeRighty`, show distributions that appear somewhat multimodal or skewed, suggesting variations in gaze patterns.\n",
        "- The `ET_PupilLeft` and `ET_PupilRight` histograms clearly show a peak at -1, confirming the presence of a significant number of invalid pupil readings.\n",
        "- `ET_TimeSignal` shows a relatively uniform distribution, as expected for a time-based signal.\n",
        "- `ET_DistanceLeft` and `ET_DistanceRight` appear to have distributions centered around certain values, with some outliers or variations.\n",
        "- The camera position columns (`ET_CameraLeftX`, `ET_CameraLeftY`, `ET_CameraRightX`, `ET_CameraRightY`) seem to have distributions concentrated within specific ranges, reflecting the camera's field of view.\n",
        "- The validity columns (`ET_ValidityLeft`, `ET_ValidityRight`, `ET_PupilLeft_validity`, `ET_PupilRight_validity`) show distributions dominated by 0, indicating that most of the data is considered valid after the mapping. The smaller peaks at 1 represent the instances of invalid data.\n",
        "\n",
        "These distributions highlight the need for appropriate handling of the -1 values and potential outliers in subsequent analysis or modeling steps."
      ]
    },
    {
      "cell_type": "code",
      "execution_count": null,
      "id": "e7e3f9eb",
      "metadata": {
        "id": "e7e3f9eb"
      },
      "outputs": [],
      "source": [
        "df_9_EYE.columns"
      ]
    },
    {
      "cell_type": "code",
      "execution_count": null,
      "id": "6f44636d",
      "metadata": {
        "id": "6f44636d"
      },
      "outputs": [],
      "source": [
        "cols = ['ET_GazeLeftx', 'ET_GazeLefty',\n",
        "       'ET_GazeRightx', 'ET_GazeRighty', 'ET_PupilLeft', 'ET_PupilRight',\n",
        "       'ET_TimeSignal', 'ET_DistanceLeft', 'ET_DistanceRight',\n",
        "       'ET_CameraLeftX', 'ET_CameraLeftY', 'ET_CameraRightX',\n",
        "       'ET_CameraRightY', 'ET_ValidityLeft', 'ET_ValidityRight',\n",
        "       'ET_PupilLeft_validity', 'ET_PupilRight_validity']"
      ]
    },
    {
      "cell_type": "code",
      "execution_count": null,
      "id": "cf97b3ae",
      "metadata": {
        "id": "cf97b3ae"
      },
      "outputs": [],
      "source": [
        "from IPython.display import display, Markdown\n",
        "\n",
        "for col in cols:\n",
        "    # Add a markdown cell before each plot for better separation and labeling\n",
        "    display(Markdown(f'### {col} over Time'))\n",
        "    plt.figure(figsize=(16, 10))\n",
        "    plt.plot(df_9_EYE['Timestamp'], df_9_EYE[col])\n",
        "    plt.xlabel(\"Timestamp\") # Add x-axis label\n",
        "    plt.ylabel(col) # Add y-axis label\n",
        "    plt.show()"
      ]
    },
    {
      "cell_type": "markdown",
      "id": "1004b5d2",
      "metadata": {
        "id": "1004b5d2"
      },
      "source": [
        "# Observations from Time Series Plots\n",
        "\n",
        "The line plots showing various features against the `Timestamp` reveal the temporal patterns and fluctuations in the eye-tracking data. Key observations include:\n",
        "\n",
        "- **Gaze Coordinates (`ET_GazeLeftx`, `ET_GazeLefty`, `ET_GazeRightx`, `ET_GazeRighty`):** These plots show the changes in gaze position over time. We can observe periods of relatively stable gaze interspersed with rapid movements (saccades) and blinks or other events where the gaze data might be invalid (-1 values appear as gaps or spikes if not handled).\n",
        "- **Pupil Size (`ET_PupilLeft`, `ET_PupilRight`):** The pupil size plots show variations over time. The presence of many -1 values is evident as flat lines at the bottom of the plot, indicating periods where pupil data was not recorded or was invalid.\n",
        "- **Time Signal (`ET_TimeSignal`):** This plot shows a steady, increasing trend, as expected for a time-based signal.\n",
        "- **Distance and Camera Position (`ET_DistanceLeft`, `ET_DistanceRight`, `ET_CameraLeftX`, `ET_CameraLeftY`, `ET_CameraRightX`, `ET_CameraRightY`):** These plots show how the distance from the eye tracker and the camera positions change over time. Variations in these features can be related to head movements or changes in the user's position relative to the eye tracker.\n",
        "- **Validity (`ET_ValidityLeft`, `ET_ValidityRight`, `ET_PupilLeft_validity`, `ET_PupilRight_validity`):** These plots clearly show periods of invalid data (represented by 1) as spikes or plateaus, corresponding to instances where the eye tracker lost track of the eyes or the pupil data was marked as invalid.\n",
        "\n",
        "Analyzing these time series plots is crucial for understanding the dynamics of the eye-tracking data and identifying patterns or anomalies that may require further investigation or specific handling during subsequent analysis."
      ]
    },
    {
      "cell_type": "code",
      "execution_count": null,
      "id": "f8dd4456",
      "metadata": {
        "id": "f8dd4456"
      },
      "outputs": [],
      "source": [
        "# Select only the numeric columns for plotting histograms, excluding time-related columns\n",
        "numeric_cols = df_9_EYE.select_dtypes(include=np.number).columns\n",
        "\n",
        "# Calculate the number of rows and columns for the grid\n",
        "n_cols = 4  # You can adjust the number of columns as needed\n",
        "n_rows = (len(numeric_cols) + n_cols - 1) // n_cols\n",
        "\n",
        "plt.figure(figsize=(n_cols * 5, n_rows * 4)) # Adjust figure size as needed\n",
        "\n",
        "for i, col in enumerate(numeric_cols):\n",
        "    plt.subplot(n_rows, n_cols, i + 1)\n",
        "    sns.boxplot(df_9_EYE[col])\n",
        "    plt.title(f'Boxplot of {col}')\n",
        "    plt.xlabel(col)\n",
        "\n",
        "plt.tight_layout()\n",
        "plt.show()"
      ]
    },
    {
      "cell_type": "markdown",
      "id": "3d5e3842",
      "metadata": {
        "id": "3d5e3842"
      },
      "source": [
        "# Observations from Boxplots and Handling -1 Values\n",
        "\n",
        "The boxplots provide a visual summary of the distribution and potential outliers for each numeric column. Key observations from the boxplots include:\n",
        "\n",
        "- The boxplots for columns like `ET_GazeLeftx`, `ET_GazeLefty`, `ET_GazeRightx`, `ET_GazeRighty`, `ET_PupilLeft`, `ET_PupilRight`, `ET_DistanceLeft`, `ET_DistanceRight`, `ET_CameraLeftX`, `ET_CameraLeftY`, `ET_CameraRightX`, and `ET_CameraRightY` clearly show the presence of -1 values as significant outliers, confirming our earlier observations from the heatmaps and histograms.\n",
        "- The boxplots for the validity columns (`ET_ValidityLeft`, `ET_ValidityRight`, `ET_PupilLeft_validity`, `ET_PupilRight_validity`) show the discrete nature of these features, with the majority of data points at 0 (valid) and a smaller number at 1 (invalid).\n",
        "\n",
        "Given the significant presence of -1 values, which represent invalid or missing data, especially in the pupil-related columns, we have decided to replace these -1 values with NaN to properly represent them as missing data. Subsequently, we will impute these missing values using the mean of each respective column. This approach helps to retain the data structure and allows for further analysis or modeling without the distortion caused by the -1 placeholders."
      ]
    },
    {
      "cell_type": "code",
      "execution_count": null,
      "id": "ccd7b33d",
      "metadata": {
        "id": "ccd7b33d"
      },
      "outputs": [],
      "source": [
        "df_9_EYE.replace({-1: np.nan}, inplace=True)"
      ]
    },
    {
      "cell_type": "code",
      "execution_count": null,
      "id": "ad2bb098",
      "metadata": {
        "id": "ad2bb098"
      },
      "outputs": [],
      "source": [
        "df_9_EYE[['ET_GazeLeftx', 'ET_GazeLefty',\n",
        "       'ET_GazeRightx', 'ET_GazeRighty', 'ET_PupilLeft', 'ET_PupilRight',\n",
        "       'ET_TimeSignal', 'ET_DistanceLeft', 'ET_DistanceRight',\n",
        "       'ET_CameraLeftX', 'ET_CameraLeftY', 'ET_CameraRightX',\n",
        "       'ET_CameraRightY', 'ET_ValidityLeft', 'ET_ValidityRight',\n",
        "       'ET_PupilLeft_validity', 'ET_PupilRight_validity']].mean()"
      ]
    },
    {
      "cell_type": "code",
      "execution_count": null,
      "id": "505460ee",
      "metadata": {
        "id": "505460ee"
      },
      "outputs": [],
      "source": [
        "df_9_EYE[['ET_GazeLeftx', 'ET_GazeLefty',\n",
        "       'ET_GazeRightx', 'ET_GazeRighty', 'ET_PupilLeft', 'ET_PupilRight',\n",
        "       'ET_TimeSignal', 'ET_DistanceLeft', 'ET_DistanceRight',\n",
        "       'ET_CameraLeftX', 'ET_CameraLeftY', 'ET_CameraRightX',\n",
        "       'ET_CameraRightY', 'ET_ValidityLeft', 'ET_ValidityRight',\n",
        "       'ET_PupilLeft_validity', 'ET_PupilRight_validity']].median()"
      ]
    },
    {
      "cell_type": "code",
      "execution_count": null,
      "id": "6aad4653",
      "metadata": {
        "id": "6aad4653"
      },
      "outputs": [],
      "source": [
        "numeric_cols = df_9_EYE.select_dtypes(include=np.number).columns\n",
        "\n",
        "for col in numeric_cols:\n",
        "    df_9_EYE[col] = df_9_EYE[col].fillna(df_9_EYE[col].mean())"
      ]
    },
    {
      "cell_type": "code",
      "execution_count": null,
      "id": "1a8de8ed",
      "metadata": {
        "id": "1a8de8ed"
      },
      "outputs": [],
      "source": [
        "plt.figure(figsize=(18, 8))\n",
        "\n",
        "plt.subplot(1, 2, 1)\n",
        "sns.heatmap(df_9_EYE.isnull(), cmap='viridis')\n",
        "plt.title('Heatmap of Missing Values After Imputation')\n",
        "\n",
        "plt.subplot(1, 2, 2)\n",
        "sns.heatmap(df_9_EYE == 1, cmap='viridis')\n",
        "plt.title('Heatmap of 1 Values')\n",
        "\n",
        "plt.tight_layout()\n",
        "plt.show()"
      ]
    },
    {
      "cell_type": "markdown",
      "id": "39d771de",
      "metadata": {
        "id": "39d771de"
      },
      "source": [
        "# Handling Missing Values (Imputation)\n",
        "\n",
        "As decided, we have replaced all the `-1` values with `NaN` to treat them as missing data. Subsequently, we have imputed these `NaN` values with the mean of their respective columns. The heatmap above, which was generated after the imputation, now shows no visible signs of `NaN` values, indicating that the imputation was successful."
      ]
    },
    {
      "cell_type": "code",
      "execution_count": null,
      "id": "1ca53b3e",
      "metadata": {
        "id": "1ca53b3e"
      },
      "outputs": [],
      "source": [
        "df_9_EYE.head()"
      ]
    },
    {
      "cell_type": "code",
      "execution_count": null,
      "id": "da0e911e",
      "metadata": {
        "id": "da0e911e"
      },
      "outputs": [],
      "source": [
        "# Select only the numeric columns for plotting histograms, excluding time-related columns\n",
        "numeric_cols = df_9_EYE.select_dtypes(include=np.number).columns\n",
        "cols_to_plot = [col for col in numeric_cols if col not in ['UnixTime']]\n",
        "\n",
        "# Calculate the number of rows and columns for the grid\n",
        "n_cols = 4  # You can adjust the number of columns as needed\n",
        "n_rows = (len(cols_to_plot) + n_cols - 1) // n_cols\n",
        "\n",
        "plt.figure(figsize=(n_cols * 5, n_rows * 4)) # Adjust figure size as needed\n",
        "\n",
        "for i, col in enumerate(cols_to_plot):\n",
        "    plt.subplot(n_rows, n_cols, i + 1)\n",
        "    sns.histplot(df_9_EYE[col], kde=True)\n",
        "    plt.title(f'Distribution of {col}')\n",
        "    plt.xlabel(col)\n",
        "    plt.ylabel('Frequency')\n",
        "\n",
        "plt.tight_layout()\n",
        "plt.show()"
      ]
    },
    {
      "cell_type": "markdown",
      "id": "7145bb4a",
      "metadata": {
        "id": "7145bb4a"
      },
      "source": [
        "# Observations from Histograms After Imputation\n",
        "\n",
        "The histograms generated after replacing the -1 values with the mean of each column show the distributions of the numeric features with the missing data handled. Key observations from these updated histograms include:\n",
        "\n",
        "- The distinct peaks at -1, which were prominent in the histograms for several columns (e.g., pupil size, gaze coordinates, distance, and camera position) before imputation, are now replaced by a peak at the mean of each respective column.\n",
        "- The distributions in many columns now appear more unimodal or show shifted modes compared to the original histograms.\n",
        "- The histograms for the validity columns still show their bimodal distributions with peaks at 0 and 1, as these were handled separately.\n",
        "\n",
        "These histograms provide an updated view of the data's distribution after handling the missing values, highlighting the impact of the imputation method on the data's characteristics."
      ]
    },
    {
      "cell_type": "code",
      "execution_count": null,
      "id": "5042f0d2",
      "metadata": {
        "id": "5042f0d2"
      },
      "outputs": [],
      "source": [
        "cols = ['ET_GazeLeftx', 'ET_GazeLefty',\n",
        "       'ET_GazeRightx', 'ET_GazeRighty', 'ET_PupilLeft', 'ET_PupilRight',\n",
        "       'ET_TimeSignal', 'ET_DistanceLeft', 'ET_DistanceRight',\n",
        "       'ET_CameraLeftX', 'ET_CameraLeftY', 'ET_CameraRightX',\n",
        "       'ET_CameraRightY', 'ET_ValidityLeft', 'ET_ValidityRight',\n",
        "       'ET_PupilLeft_validity', 'ET_PupilRight_validity']"
      ]
    },
    {
      "cell_type": "code",
      "execution_count": null,
      "id": "41b3ddae",
      "metadata": {
        "id": "41b3ddae"
      },
      "outputs": [],
      "source": [
        "for col in cols:\n",
        "    # Add a markdown cell before each plot for better separation and labeling\n",
        "    display(Markdown(f'### {col} over Time'))\n",
        "    plt.figure(figsize=(16, 10))\n",
        "    plt.plot(df_9_EYE['Timestamp'], df_9_EYE[col])\n",
        "    plt.xlabel(\"Timestamp\") # Add x-axis label\n",
        "    plt.ylabel(col) # Add y-axis label\n",
        "    plt.show()"
      ]
    },
    {
      "cell_type": "markdown",
      "id": "f40b13c7",
      "metadata": {
        "id": "f40b13c7"
      },
      "source": [
        "# Observations from Time Series Plots After Imputation\n",
        "\n",
        "The line plots generated after imputing the missing values with the mean show the temporal patterns of the features with the missing data handled. Key observations from these updated plots include:\n",
        "\n",
        "- The gaps or flat lines at -1, which were prominent in the plots for columns like gaze coordinates, pupil size, distance, and camera position, are now filled by lines at the mean value of the respective columns.\n",
        "- The plots for the validity columns remain the same as they were handled separately.\n",
        "- The `ET_TimeSignal` plot still shows a steady increasing trend, as expected."
      ]
    },
    {
      "cell_type": "code",
      "execution_count": null,
      "id": "59c8013b",
      "metadata": {
        "id": "59c8013b"
      },
      "outputs": [],
      "source": [
        "plt.figure(figsize=(16, 10))\n",
        "sns.heatmap(df_9_EYE.corr(numeric_only=True), cmap='YlGnBu', annot=True)\n",
        "plt.show()"
      ]
    },
    {
      "cell_type": "markdown",
      "id": "f22f5617",
      "metadata": {
        "id": "f22f5617"
      },
      "source": [
        "# Observations from Correlation Heatmap\n",
        "\n",
        "The correlation heatmap provides a visual representation of the pairwise correlations between the numeric columns in the dataset. Key observations from the heatmap include:\n",
        "\n",
        "- **High Positive Correlations:** We observe strong positive correlations (values close to 1) between:\n",
        "  - `ET_GazeLeftx` and `ET_GazeRightx`: This is expected as the gaze positions of both eyes should be highly correlated when fixating on a point.\n",
        "  - `ET_GazeLefty` and `ET_GazeRighty`: Similar to the x-coordinates, the y-coordinates of gaze should also be highly correlated.\n",
        "  - `ET_PupilLeft` and `ET_PupilRight`: Pupil sizes of both eyes tend to change together in response to light and cognitive load.\n",
        "  - `ET_DistanceLeft` and `ET_DistanceRight`: The distance from the eye tracker to each eye should be highly correlated.\n",
        "  - `ET_CameraLeftX` and `ET_CameraRightX`, `ET_CameraLeftY` and `ET_CameraRightY`: The camera positions for both eyes are also expected to be highly correlated.\n",
        "  - `UnixTime` and `ET_TimeSignal`: As previously noted, these two columns are almost perfectly linearly correlated, indicating redundancy.\n",
        "  - `ET_ValidityLeft` and `ET_PupilLeft_validity`: There is a positive correlation, suggesting that when the overall left eye data is invalid, the left pupil data is also likely to be invalid.\n",
        "  - `ET_ValidityRight` and `ET_PupilRight_validity`: Similar to the left eye, there is a positive correlation between the overall right eye validity and the right pupil validity.\n",
        "- **Other Correlations:** We can also observe other varying degrees of correlations between different features, which can provide insights into the relationships between gaze behavior, pupil size, distance, and camera position. For example, there might be correlations between gaze coordinates and camera positions, reflecting head movements.\n",
        "- **Low or Near-Zero Correlations:** Columns with low or near-zero correlations are relatively independent of each other.\n",
        "\n",
        "Understanding these correlations is important for feature selection and for building models, as highly correlated features might indicate multicollinearity, while correlations between features can reveal underlying patterns in the data."
      ]
    },
    {
      "cell_type": "markdown",
      "id": "268798c7",
      "metadata": {
        "id": "268798c7"
      },
      "source": [
        "# Analysis of ET_TimeSignal and Decision to Drop\n",
        "\n",
        "As observed in the time series plot and confirmed by the correlation heatmap, the `ET_TimeSignal` column exhibits a near-perfect linear relationship with both the `Timestamp` and `UnixTime` columns. This strong correlation (close to 1) suggests that `ET_TimeSignal` is essentially redundant and likely represents another form of time recording or a signal directly derived from the timestamp.\n",
        "\n",
        "Including highly correlated features like this in a dataset can lead to issues such as multicollinearity in some statistical models, which can make it difficult to interpret the individual impact of each feature. Since the `Timestamp` column already provides the necessary temporal information, retaining `ET_TimeSignal` does not appear to add significant value for further analysis or modeling in most cases.\n",
        "\n",
        "Therefore, based on its high correlation and lack of unique insight, we will proceed to drop the `ET_TimeSignal` column to simplify the dataset and potentially improve the performance and interpretability of future analyses."
      ]
    },
    {
      "cell_type": "code",
      "execution_count": null,
      "id": "5035826e",
      "metadata": {
        "id": "5035826e"
      },
      "outputs": [],
      "source": [
        "df_9_EYE.drop('ET_TimeSignal', axis=1, inplace=True)"
      ]
    },
    {
      "cell_type": "code",
      "execution_count": null,
      "id": "7b9c9a80",
      "metadata": {
        "id": "7b9c9a80"
      },
      "outputs": [],
      "source": [
        "plt.figure(figsize=(16, 10))\n",
        "sns.pairplot(df_9_EYE)\n",
        "plt.show()"
      ]
    },
    {
      "cell_type": "markdown",
      "id": "6fc5aed3",
      "metadata": {
        "id": "6fc5aed3"
      },
      "source": [
        "# **10_EYE**"
      ]
    },
    {
      "cell_type": "code",
      "execution_count": null,
      "id": "73a77947",
      "metadata": {
        "id": "73a77947"
      },
      "outputs": [],
      "source": []
    },
    {
      "cell_type": "code",
      "execution_count": null,
      "id": "1bd4bcdd",
      "metadata": {
        "id": "1bd4bcdd"
      },
      "outputs": [],
      "source": [
        "df_10_EYE = pd.read_csv('data/STData/10/10_EYE.csv')"
      ]
    },
    {
      "cell_type": "code",
      "execution_count": null,
      "id": "3e659393",
      "metadata": {
        "id": "3e659393"
      },
      "outputs": [],
      "source": [
        "df_10_EYE.head()"
      ]
    },
    {
      "cell_type": "code",
      "execution_count": null,
      "id": "14fc8489",
      "metadata": {
        "id": "14fc8489"
      },
      "outputs": [],
      "source": [
        "df_10_EYE.shape"
      ]
    },
    {
      "cell_type": "code",
      "execution_count": null,
      "id": "b8503b88",
      "metadata": {
        "id": "b8503b88"
      },
      "outputs": [],
      "source": [
        "df_10_EYE.columns"
      ]
    },
    {
      "cell_type": "code",
      "execution_count": null,
      "id": "8789a345",
      "metadata": {
        "id": "8789a345"
      },
      "outputs": [],
      "source": [
        "df_10_EYE.info()"
      ]
    },
    {
      "cell_type": "code",
      "execution_count": null,
      "id": "a081e813",
      "metadata": {
        "id": "a081e813"
      },
      "outputs": [],
      "source": [
        "df_10_EYE.isnull().sum()"
      ]
    },
    {
      "cell_type": "code",
      "execution_count": null,
      "id": "04a9a6b0",
      "metadata": {
        "id": "04a9a6b0"
      },
      "outputs": [],
      "source": [
        "plt.figure(figsize=(12,8))\n",
        "sns.heatmap(df_10_EYE.isnull(), cmap='viridis')\n",
        "plt.show()"
      ]
    },
    {
      "cell_type": "markdown",
      "id": "4e4c26ce",
      "metadata": {
        "id": "4e4c26ce"
      },
      "source": [
        "# Notes & Observations\n",
        "\n",
        "- We observe many **null** (or missing) values in the `QuestionKey` columns.\n",
        "- The nulls in the `QuestionKey` column may not represent “true” nulls. Rather, they follow interval patterns, suggesting that during those periods no question was displayed.\n",
        "- These missing values in `QuestionKey` require additional investigation and context-aware handling."
      ]
    },
    {
      "cell_type": "code",
      "execution_count": null,
      "id": "a9899a76",
      "metadata": {
        "id": "a9899a76"
      },
      "outputs": [],
      "source": [
        "df_10_EYE['QuestionKey'].unique()"
      ]
    },
    {
      "cell_type": "code",
      "execution_count": null,
      "id": "7365dcaa",
      "metadata": {
        "id": "7365dcaa"
      },
      "outputs": [],
      "source": [
        "df_10_EYE['Timestamp'] = pd.to_datetime(df_10_EYE['Timestamp'])"
      ]
    },
    {
      "cell_type": "code",
      "execution_count": null,
      "id": "23c03a31",
      "metadata": {
        "id": "23c03a31"
      },
      "outputs": [],
      "source": [
        "df_10_EYE.head(3)"
      ]
    },
    {
      "cell_type": "code",
      "execution_count": null,
      "id": "70378c45",
      "metadata": {
        "id": "70378c45"
      },
      "outputs": [],
      "source": [
        "df_10_EYE['QuestionKey'] = df_10_EYE['QuestionKey'].fillna('None')"
      ]
    },
    {
      "cell_type": "code",
      "execution_count": null,
      "id": "0da3fabf",
      "metadata": {
        "id": "0da3fabf"
      },
      "outputs": [],
      "source": [
        "df_10_EYE['QuestionKey'].value_counts()"
      ]
    },
    {
      "cell_type": "code",
      "execution_count": null,
      "id": "ae3d017f",
      "metadata": {
        "id": "ae3d017f"
      },
      "outputs": [],
      "source": [
        "plt.figure(figsize=(12,8))\n",
        "sns.heatmap(df_10_EYE.isnull(), cmap='viridis')\n",
        "plt.show()"
      ]
    },
    {
      "cell_type": "code",
      "execution_count": null,
      "id": "99238b53",
      "metadata": {
        "id": "99238b53"
      },
      "outputs": [],
      "source": [
        "df_10_EYE.isnull().sum()"
      ]
    },
    {
      "cell_type": "code",
      "execution_count": null,
      "id": "96693869",
      "metadata": {
        "id": "96693869"
      },
      "outputs": [],
      "source": [
        "df_10_EYE.dropna(inplace=True)"
      ]
    },
    {
      "cell_type": "code",
      "execution_count": null,
      "id": "5c739dfa",
      "metadata": {
        "id": "5c739dfa"
      },
      "outputs": [],
      "source": [
        "df_10_EYE.head()"
      ]
    },
    {
      "cell_type": "code",
      "execution_count": null,
      "id": "13aaf105",
      "metadata": {
        "id": "13aaf105"
      },
      "outputs": [],
      "source": [
        "df_10_EYE['Row'].unique()"
      ]
    },
    {
      "cell_type": "code",
      "execution_count": null,
      "id": "371db399",
      "metadata": {
        "id": "371db399"
      },
      "outputs": [],
      "source": [
        "plt.figure(figsize=(8,6))\n",
        "sns.histplot(df_10_EYE['Row'])\n",
        "plt.show()"
      ]
    },
    {
      "cell_type": "markdown",
      "id": "3584dd3f",
      "metadata": {
        "id": "3584dd3f"
      },
      "source": [
        "# Notes & Observations\n",
        "\n",
        "- The `Row` column appears to be a simple row index and does not provide meaningful information relevant to the eye-tracking data itself. Therefore, it can be dropped."
      ]
    },
    {
      "cell_type": "code",
      "execution_count": null,
      "id": "88c53b21",
      "metadata": {
        "id": "88c53b21"
      },
      "outputs": [],
      "source": [
        "df_10_EYE.drop('Row', axis=1, inplace=True)"
      ]
    },
    {
      "cell_type": "code",
      "execution_count": null,
      "id": "7018e353",
      "metadata": {
        "id": "7018e353"
      },
      "outputs": [],
      "source": [
        "df_10_EYE['ET_ValidityLeft'].unique()"
      ]
    },
    {
      "cell_type": "code",
      "execution_count": null,
      "id": "3f42ada3",
      "metadata": {
        "id": "3f42ada3"
      },
      "outputs": [],
      "source": [
        "df_10_EYE['ET_ValidityLeft'].value_counts()"
      ]
    },
    {
      "cell_type": "code",
      "execution_count": null,
      "id": "a19dab6e",
      "metadata": {
        "id": "a19dab6e"
      },
      "outputs": [],
      "source": [
        "df_10_EYE['ET_ValidityRight'].unique()"
      ]
    },
    {
      "cell_type": "code",
      "execution_count": null,
      "id": "33063453",
      "metadata": {
        "id": "33063453"
      },
      "outputs": [],
      "source": [
        "df_10_EYE['ET_ValidityRight'].value_counts()"
      ]
    },
    {
      "cell_type": "code",
      "execution_count": null,
      "id": "3aa0ea7a",
      "metadata": {
        "id": "3aa0ea7a"
      },
      "outputs": [],
      "source": [
        "plt.figure(figsize=(12, 6))\n",
        "\n",
        "plt.subplot(1, 2, 1)\n",
        "sns.barplot(x=df_10_EYE['ET_ValidityLeft'].value_counts().index, y=df_10_EYE['ET_ValidityLeft'].value_counts().values)\n",
        "plt.title('Count of ET_ValidityLeft')\n",
        "plt.xlabel('Validity')\n",
        "plt.ylabel('Count')\n",
        "\n",
        "\n",
        "plt.subplot(1, 2, 2)\n",
        "sns.barplot(x=df_10_EYE['ET_ValidityRight'].value_counts().index, y=df_10_EYE['ET_ValidityRight'].value_counts().values)\n",
        "plt.title('Count of ET_ValidityRight')\n",
        "plt.xlabel('Validity')\n",
        "plt.ylabel('Count')\n",
        "\n",
        "plt.tight_layout()\n",
        "plt.show()"
      ]
    },
    {
      "cell_type": "markdown",
      "id": "c3534a93",
      "metadata": {
        "id": "c3534a93"
      },
      "source": [
        "# Notes & Observations\n",
        "\n",
        "- The `ET_ValidityLeft` and `ET_ValidityRight` columns indicate the validity of the eye-tracking data for the left and right eye, respectively.\n",
        "- Based on the value counts and the bar plots, it appears that a value of `0.0` represents valid eye-tracking data, while a value of `4.0` represents invalid data.\n",
        "- Although the amount of invalid data is relatively small, removing these rows could introduce unwanted patterns or gaps in the time series data.\n",
        "- Therefore, we will keep the data and replace the value `4.0` with `1.0` in both `ET_ValidityLeft` and `ET_ValidityRight` columns. This will indicate to a machine learning model that the eye tracker had invalid data at those specific points in time while maintaining the integrity of the time series."
      ]
    },
    {
      "cell_type": "markdown",
      "id": "9511eb06",
      "metadata": {
        "id": "9511eb06"
      },
      "source": [
        "Define a mapping to convert validity values from `0.0` and `4.0` to `0` and `1`."
      ]
    },
    {
      "cell_type": "code",
      "execution_count": null,
      "id": "1376d80c",
      "metadata": {
        "id": "1376d80c"
      },
      "outputs": [],
      "source": [
        "validity_map = {4.0: 1.0, 0.0: 0.0}"
      ]
    },
    {
      "cell_type": "code",
      "execution_count": null,
      "id": "486d5336",
      "metadata": {
        "id": "486d5336"
      },
      "outputs": [],
      "source": [
        "df_10_EYE['ET_ValidityLeft'] = df_10_EYE['ET_ValidityLeft'].map(validity_map).astype(np.int8)\n",
        "df_10_EYE['ET_ValidityRight'] = df_10_EYE['ET_ValidityRight'].map(validity_map).astype(np.int8)"
      ]
    },
    {
      "cell_type": "code",
      "execution_count": null,
      "id": "224c1dc7",
      "metadata": {
        "id": "224c1dc7"
      },
      "outputs": [],
      "source": [
        "df_10_EYE.head(3)"
      ]
    },
    {
      "cell_type": "code",
      "execution_count": null,
      "id": "08b4c270",
      "metadata": {
        "id": "08b4c270"
      },
      "outputs": [],
      "source": [
        "df_10_EYE.describe()"
      ]
    },
    {
      "cell_type": "code",
      "execution_count": null,
      "id": "e0bf6d73",
      "metadata": {
        "id": "e0bf6d73"
      },
      "outputs": [],
      "source": [
        "df_10_EYE[df_10_EYE['ET_ValidityLeft'] == 1].shape"
      ]
    },
    {
      "cell_type": "code",
      "execution_count": null,
      "id": "74308547",
      "metadata": {
        "id": "74308547"
      },
      "outputs": [],
      "source": [
        "df_10_EYE[df_10_EYE['ET_ValidityRight'] == 1].shape"
      ]
    },
    {
      "cell_type": "code",
      "execution_count": null,
      "id": "75056964",
      "metadata": {
        "id": "75056964"
      },
      "outputs": [],
      "source": [
        "df_10_EYE[df_10_EYE['ET_ValidityLeft'] == 1].shape[0] / df_10_EYE.shape[0]"
      ]
    },
    {
      "cell_type": "code",
      "execution_count": null,
      "id": "82166e04",
      "metadata": {
        "id": "82166e04"
      },
      "outputs": [],
      "source": [
        "df_10_EYE[df_10_EYE['ET_ValidityRight'] == 1].shape[0] / df_10_EYE.shape[0]"
      ]
    },
    {
      "cell_type": "code",
      "execution_count": null,
      "id": "661aaa19",
      "metadata": {
        "id": "661aaa19"
      },
      "outputs": [],
      "source": [
        "plt.figure(figsize=(18, 8))\n",
        "\n",
        "plt.subplot(1, 2, 1)\n",
        "sns.heatmap(df_10_EYE == -1, cmap='viridis')\n",
        "plt.title('Heatmap of -1 Values')\n",
        "\n",
        "plt.subplot(1, 2, 2)\n",
        "sns.heatmap(df_10_EYE == 1, cmap='viridis')\n",
        "plt.title('Heatmap of 1 Values')\n",
        "\n",
        "plt.tight_layout()\n",
        "plt.show()"
      ]
    },
    {
      "cell_type": "code",
      "execution_count": null,
      "id": "4e853298",
      "metadata": {
        "id": "4e853298"
      },
      "outputs": [],
      "source": [
        "df_10_EYE[df_10_EYE['ET_PupilLeft'] == -1].shape"
      ]
    },
    {
      "cell_type": "code",
      "execution_count": null,
      "id": "e393c8d9",
      "metadata": {
        "id": "e393c8d9"
      },
      "outputs": [],
      "source": [
        "df_10_EYE[df_10_EYE['ET_PupilRight'] == -1].shape"
      ]
    },
    {
      "cell_type": "code",
      "execution_count": null,
      "id": "c579225b",
      "metadata": {
        "id": "c579225b"
      },
      "outputs": [],
      "source": [
        "df_10_EYE[df_10_EYE['ET_PupilLeft'] == -1].shape[0] / df_10_EYE.shape[0]"
      ]
    },
    {
      "cell_type": "code",
      "execution_count": null,
      "id": "f861b08a",
      "metadata": {
        "id": "f861b08a"
      },
      "outputs": [],
      "source": [
        "df_10_EYE[df_10_EYE['ET_PupilRight'] == -1].shape[0] / df_10_EYE.shape[0]"
      ]
    },
    {
      "cell_type": "code",
      "execution_count": null,
      "id": "8f39fa36",
      "metadata": {
        "id": "8f39fa36"
      },
      "outputs": [],
      "source": [
        "plt.figure(figsize=(18, 8))\n",
        "\n",
        "plt.subplot(1, 2, 1)\n",
        "sns.heatmap(df_10_EYE[df_10_EYE['ET_ValidityLeft'] == 1] == -1, cmap='viridis')\n",
        "plt.title('Heatmap of -1 Values')\n",
        "\n",
        "plt.subplot(1, 2, 2)\n",
        "sns.heatmap(df_10_EYE[df_10_EYE['ET_ValidityRight'] == 1] == -1, cmap='viridis')\n",
        "plt.title('Heatmap of -1 Values')\n",
        "\n",
        "plt.tight_layout()\n",
        "plt.show()"
      ]
    },
    {
      "cell_type": "markdown",
      "id": "beca7097",
      "metadata": {
        "id": "beca7097"
      },
      "source": [
        "# Notes & Observations\n",
        "\n",
        "- The heatmaps reveal the distribution of -1 values across different columns.\n",
        "- It is evident that the `-1` values are not randomly scattered but appear in specific columns, notably `ET_GazeLeftx`, `ET_GazeLefty`, `ET_GazeRightx`, `ET_GazeRighty`, `ET_PupilLeft`, `ET_PupilRight`, `ET_DistanceLeft`, `ET_DistanceRight`, `ET_CameraLeftX`, `ET_CameraLeftY`, `ET_CameraRightX`, and `ET_CameraRightY`.\n",
        "- These `-1` values often coincide with instances where `ET_ValidityLeft` or `ET_ValidityRight` is 1, indicating invalid eye-tracking data. This suggests that `-1` is used as a placeholder for missing or invalid measurements in these columns when the eye tracker is not providing valid data for a particular eye.\n",
        "- Given that over 70% of the data in the `ET_PupilLeft` and `ET_PupilRight` columns is marked as invalid (-1), so instead of dropping them we can create new feature for both the `ET_PupilLeft` and `ET_PupilRight` to represent which row consist invalid `ET_PupilLeft` and `ET_PupilRight` data"
      ]
    },
    {
      "cell_type": "code",
      "execution_count": null,
      "id": "d9d7619c",
      "metadata": {
        "id": "d9d7619c"
      },
      "outputs": [],
      "source": [
        "pupil_validity = {-1: 1 }"
      ]
    },
    {
      "cell_type": "code",
      "execution_count": null,
      "id": "2659f428",
      "metadata": {
        "id": "2659f428"
      },
      "outputs": [],
      "source": [
        "df_10_EYE['ET_PupilLeft_validity'] = df_10_EYE['ET_PupilLeft'].map(pupil_validity)"
      ]
    },
    {
      "cell_type": "code",
      "execution_count": null,
      "id": "bd4755e5",
      "metadata": {
        "id": "bd4755e5"
      },
      "outputs": [],
      "source": [
        "df_10_EYE['ET_PupilRight_validity'] = df_10_EYE['ET_PupilRight'].map(pupil_validity)"
      ]
    },
    {
      "cell_type": "code",
      "execution_count": null,
      "id": "f22fb8f3",
      "metadata": {
        "id": "f22fb8f3"
      },
      "outputs": [],
      "source": [
        "df_10_EYE[['ET_PupilLeft_validity', 'ET_PupilRight_validity']].head()"
      ]
    },
    {
      "cell_type": "code",
      "execution_count": null,
      "id": "e02edb50",
      "metadata": {
        "id": "e02edb50"
      },
      "outputs": [],
      "source": [
        "df_10_EYE[['ET_PupilLeft_validity', 'ET_PupilRight_validity']].isnull().sum()"
      ]
    },
    {
      "cell_type": "code",
      "execution_count": null,
      "id": "95bb4f1d",
      "metadata": {
        "id": "95bb4f1d"
      },
      "outputs": [],
      "source": [
        "plt.figure(figsize=(18, 8))\n",
        "sns.heatmap(df_10_EYE[['ET_PupilLeft_validity', 'ET_PupilRight_validity']].isnull(), cmap='viridis')\n",
        "plt.show()"
      ]
    },
    {
      "cell_type": "code",
      "execution_count": null,
      "id": "d80f1cd3",
      "metadata": {
        "id": "d80f1cd3"
      },
      "outputs": [],
      "source": [
        "df_10_EYE['ET_PupilLeft_validity'] = df_10_EYE['ET_PupilLeft_validity'].fillna(0)"
      ]
    },
    {
      "cell_type": "code",
      "execution_count": null,
      "id": "f0b71f99",
      "metadata": {
        "id": "f0b71f99"
      },
      "outputs": [],
      "source": [
        "df_10_EYE['ET_PupilRight_validity'] = df_10_EYE['ET_PupilRight_validity'].fillna(0)"
      ]
    },
    {
      "cell_type": "code",
      "execution_count": null,
      "id": "b148a7ac",
      "metadata": {
        "id": "b148a7ac"
      },
      "outputs": [],
      "source": [
        "df_10_EYE[['ET_PupilLeft_validity', 'ET_PupilRight_validity']].head()"
      ]
    },
    {
      "cell_type": "code",
      "execution_count": null,
      "id": "02f0aefc",
      "metadata": {
        "id": "02f0aefc"
      },
      "outputs": [],
      "source": [
        "plt.figure(figsize=(18, 8))\n",
        "sns.heatmap(df_10_EYE[['ET_PupilLeft_validity', 'ET_PupilRight_validity']].isnull(), cmap='viridis')\n",
        "plt.show()"
      ]
    },
    {
      "cell_type": "code",
      "execution_count": null,
      "id": "eb6af046",
      "metadata": {
        "id": "eb6af046"
      },
      "outputs": [],
      "source": [
        "df_10_EYE.head()"
      ]
    },
    {
      "cell_type": "code",
      "execution_count": null,
      "id": "60c204be",
      "metadata": {
        "id": "60c204be"
      },
      "outputs": [],
      "source": [
        "plt.figure(figsize=(18, 8))\n",
        "\n",
        "plt.subplot(1, 2, 1)\n",
        "sns.heatmap(df_10_EYE == -1, cmap='viridis')\n",
        "plt.title('Heatmap of -1 Values')\n",
        "\n",
        "plt.subplot(1, 2, 2)\n",
        "sns.heatmap(df_10_EYE == 1, cmap='viridis')\n",
        "plt.title('Heatmap of -1 Values')\n",
        "\n",
        "plt.tight_layout()\n",
        "plt.show()"
      ]
    },
    {
      "cell_type": "code",
      "execution_count": null,
      "id": "34fe2a92",
      "metadata": {
        "id": "34fe2a92"
      },
      "outputs": [],
      "source": [
        "valid_left_ratio  = 1 - df_10_EYE['ET_ValidityLeft'].mean()"
      ]
    },
    {
      "cell_type": "code",
      "execution_count": null,
      "id": "8831c3d7",
      "metadata": {
        "id": "8831c3d7"
      },
      "outputs": [],
      "source": [
        "valid_left_ratio"
      ]
    },
    {
      "cell_type": "code",
      "execution_count": null,
      "id": "4d4f6e1a",
      "metadata": {
        "id": "4d4f6e1a"
      },
      "outputs": [],
      "source": [
        "valid_right_ratio = 1 - df_10_EYE['ET_ValidityRight'].mean()"
      ]
    },
    {
      "cell_type": "code",
      "execution_count": null,
      "id": "626b9cdc",
      "metadata": {
        "id": "626b9cdc"
      },
      "outputs": [],
      "source": [
        "valid_right_ratio"
      ]
    },
    {
      "cell_type": "code",
      "execution_count": null,
      "id": "01e68dd5",
      "metadata": {
        "id": "01e68dd5"
      },
      "outputs": [],
      "source": [
        "df_10_EYE['ET_PupilLeft_validity'] = df_10_EYE['ET_PupilLeft_validity'].astype(np.int8)\n",
        "df_10_EYE['ET_PupilRight_validity'] = df_10_EYE['ET_PupilRight_validity'].astype(np.int8)"
      ]
    },
    {
      "cell_type": "markdown",
      "id": "ff301e3a",
      "metadata": {
        "id": "ff301e3a"
      },
      "source": [
        "# Feature Engineering and Observations\n",
        "\n",
        "Based on the analysis of the data, we've created two new features, `ET_PupilLeft_validity` and `ET_PupilRight_validity`. These features indicate the validity of the pupil data for the left and right eyes, respectively, with a value of 1 representing invalid data (originally -1) and 0 representing valid data.\n",
        "\n",
        "The heatmaps above visually demonstrate the distribution of -1 and 1 values across the dataset. We observed that:\n",
        "- The `-1` values are concentrated in specific columns related to gaze, pupil size, distance, and camera position, suggesting they represent missing or invalid sensor readings.\n",
        "- The `1` values, after mapping from `4.0` in the original validity columns, indicate instances of invalid eye-tracking data.\n",
        "- The heatmaps also show a strong correlation between the `-1` values in the pupil columns and a validity of 1 in the newly created pupil validity features, confirming that -1 was used to mark invalid pupil data."
      ]
    },
    {
      "cell_type": "code",
      "execution_count": null,
      "id": "fbe26dc2",
      "metadata": {
        "id": "fbe26dc2"
      },
      "outputs": [],
      "source": [
        "df_10_EYE.head()"
      ]
    },
    {
      "cell_type": "code",
      "execution_count": null,
      "id": "ddbac3c4",
      "metadata": {
        "id": "ddbac3c4"
      },
      "outputs": [],
      "source": [
        "# Select only the numeric columns for plotting histograms, excluding time-related columns\n",
        "numeric_cols = df_10_EYE.select_dtypes(include=np.number).columns\n",
        "cols_to_plot = [col for col in numeric_cols if col not in ['UnixTime']]\n",
        "\n",
        "# Calculate the number of rows and columns for the grid\n",
        "n_cols = 4  # You can adjust the number of columns as needed\n",
        "n_rows = (len(cols_to_plot) + n_cols - 1) // n_cols\n",
        "\n",
        "plt.figure(figsize=(n_cols * 5, n_rows * 4)) # Adjust figure size as needed\n",
        "\n",
        "for i, col in enumerate(cols_to_plot):\n",
        "    plt.subplot(n_rows, n_cols, i + 1)\n",
        "    sns.histplot(df_10_EYE[col], kde=True)\n",
        "    plt.title(f'Distribution of {col}')\n",
        "    plt.xlabel(col)\n",
        "    plt.ylabel('Frequency')\n",
        "\n",
        "plt.tight_layout()\n",
        "plt.show()"
      ]
    },
    {
      "cell_type": "markdown",
      "id": "71bc3a82",
      "metadata": {
        "id": "71bc3a82"
      },
      "source": [
        "# Observations from Histograms\n",
        "\n",
        "The grid of histograms provides insights into the distribution of values for each numeric column in the dataset (excluding 'UnixTime'). Key observations include:\n",
        "\n",
        "- Several columns, such as `ET_GazeLeftx`, `ET_GazeLefty`, `ET_GazeRightx`, and `ET_GazeRighty`, show distributions that appear somewhat multimodal or skewed, suggesting variations in gaze patterns.\n",
        "- The `ET_PupilLeft` and `ET_PupilRight` histograms clearly show a peak at -1, confirming the presence of a significant number of invalid pupil readings.\n",
        "- `ET_TimeSignal` shows a relatively uniform distribution, as expected for a time-based signal.\n",
        "- `ET_DistanceLeft` and `ET_DistanceRight` appear to have distributions centered around certain values, with some outliers or variations.\n",
        "- The camera position columns (`ET_CameraLeftX`, `ET_CameraLeftY`, `ET_CameraRightX`, `ET_CameraRightY`) seem to have distributions concentrated within specific ranges, reflecting the camera's field of view.\n",
        "- The validity columns (`ET_ValidityLeft`, `ET_ValidityRight`, `ET_PupilLeft_validity`, `ET_PupilRight_validity`) show distributions dominated by 0, indicating that most of the data is considered valid after the mapping. The smaller peaks at 1 represent the instances of invalid data.\n",
        "\n",
        "These distributions highlight the need for appropriate handling of the -1 values and potential outliers in subsequent analysis or modeling steps."
      ]
    },
    {
      "cell_type": "code",
      "execution_count": null,
      "id": "164f4db2",
      "metadata": {
        "id": "164f4db2"
      },
      "outputs": [],
      "source": [
        "df_10_EYE.columns"
      ]
    },
    {
      "cell_type": "code",
      "execution_count": null,
      "id": "42e71d76",
      "metadata": {
        "id": "42e71d76"
      },
      "outputs": [],
      "source": [
        "cols = ['ET_GazeLeftx', 'ET_GazeLefty',\n",
        "       'ET_GazeRightx', 'ET_GazeRighty', 'ET_PupilLeft', 'ET_PupilRight',\n",
        "       'ET_TimeSignal', 'ET_DistanceLeft', 'ET_DistanceRight',\n",
        "       'ET_CameraLeftX', 'ET_CameraLeftY', 'ET_CameraRightX',\n",
        "       'ET_CameraRightY', 'ET_ValidityLeft', 'ET_ValidityRight',\n",
        "       'ET_PupilLeft_validity', 'ET_PupilRight_validity']"
      ]
    },
    {
      "cell_type": "code",
      "execution_count": null,
      "id": "71e9198c",
      "metadata": {
        "id": "71e9198c"
      },
      "outputs": [],
      "source": [
        "from IPython.display import display, Markdown\n",
        "\n",
        "for col in cols:\n",
        "    # Add a markdown cell before each plot for better separation and labeling\n",
        "    display(Markdown(f'### {col} over Time'))\n",
        "    plt.figure(figsize=(16, 10))\n",
        "    plt.plot(df_10_EYE['Timestamp'], df_10_EYE[col])\n",
        "    plt.xlabel(\"Timestamp\") # Add x-axis label\n",
        "    plt.ylabel(col) # Add y-axis label\n",
        "    plt.show()"
      ]
    },
    {
      "cell_type": "markdown",
      "id": "a91080af",
      "metadata": {
        "id": "a91080af"
      },
      "source": [
        "# Observations from Time Series Plots\n",
        "\n",
        "The line plots showing various features against the `Timestamp` reveal the temporal patterns and fluctuations in the eye-tracking data. Key observations include:\n",
        "\n",
        "- **Gaze Coordinates (`ET_GazeLeftx`, `ET_GazeLefty`, `ET_GazeRightx`, `ET_GazeRighty`):** These plots show the changes in gaze position over time. We can observe periods of relatively stable gaze interspersed with rapid movements (saccades) and blinks or other events where the gaze data might be invalid (-1 values appear as gaps or spikes if not handled).\n",
        "- **Pupil Size (`ET_PupilLeft`, `ET_PupilRight`):** The pupil size plots show variations over time. The presence of many -1 values is evident as flat lines at the bottom of the plot, indicating periods where pupil data was not recorded or was invalid.\n",
        "- **Time Signal (`ET_TimeSignal`):** This plot shows a steady, increasing trend, as expected for a time-based signal.\n",
        "- **Distance and Camera Position (`ET_DistanceLeft`, `ET_DistanceRight`, `ET_CameraLeftX`, `ET_CameraLeftY`, `ET_CameraRightX`, `ET_CameraRightY`):** These plots show how the distance from the eye tracker and the camera positions change over time. Variations in these features can be related to head movements or changes in the user's position relative to the eye tracker.\n",
        "- **Validity (`ET_ValidityLeft`, `ET_ValidityRight`, `ET_PupilLeft_validity`, `ET_PupilRight_validity`):** These plots clearly show periods of invalid data (represented by 1) as spikes or plateaus, corresponding to instances where the eye tracker lost track of the eyes or the pupil data was marked as invalid.\n",
        "\n",
        "Analyzing these time series plots is crucial for understanding the dynamics of the eye-tracking data and identifying patterns or anomalies that may require further investigation or specific handling during subsequent analysis."
      ]
    },
    {
      "cell_type": "code",
      "execution_count": null,
      "id": "d24dbc3a",
      "metadata": {
        "id": "d24dbc3a"
      },
      "outputs": [],
      "source": [
        "# Select only the numeric columns for plotting histograms, excluding time-related columns\n",
        "numeric_cols = df_10_EYE.select_dtypes(include=np.number).columns\n",
        "\n",
        "# Calculate the number of rows and columns for the grid\n",
        "n_cols = 4  # You can adjust the number of columns as needed\n",
        "n_rows = (len(numeric_cols) + n_cols - 1) // n_cols\n",
        "\n",
        "plt.figure(figsize=(n_cols * 5, n_rows * 4)) # Adjust figure size as needed\n",
        "\n",
        "for i, col in enumerate(numeric_cols):\n",
        "    plt.subplot(n_rows, n_cols, i + 1)\n",
        "    sns.boxplot(df_10_EYE[col])\n",
        "    plt.title(f'Boxplot of {col}')\n",
        "    plt.xlabel(col)\n",
        "\n",
        "plt.tight_layout()\n",
        "plt.show()"
      ]
    },
    {
      "cell_type": "markdown",
      "id": "8ab42aac",
      "metadata": {
        "id": "8ab42aac"
      },
      "source": [
        "# Observations from Boxplots and Handling -1 Values\n",
        "\n",
        "The boxplots provide a visual summary of the distribution and potential outliers for each numeric column. Key observations from the boxplots include:\n",
        "\n",
        "- The boxplots for columns like `ET_GazeLeftx`, `ET_GazeLefty`, `ET_GazeRightx`, `ET_GazeRighty`, `ET_PupilLeft`, `ET_PupilRight`, `ET_DistanceLeft`, `ET_DistanceRight`, `ET_CameraLeftX`, `ET_CameraLeftY`, `ET_CameraRightX`, and `ET_CameraRightY` clearly show the presence of -1 values as significant outliers, confirming our earlier observations from the heatmaps and histograms.\n",
        "- The boxplots for the validity columns (`ET_ValidityLeft`, `ET_ValidityRight`, `ET_PupilLeft_validity`, `ET_PupilRight_validity`) show the discrete nature of these features, with the majority of data points at 0 (valid) and a smaller number at 1 (invalid).\n",
        "\n",
        "Given the significant presence of -1 values, which represent invalid or missing data, especially in the pupil-related columns, we have decided to replace these -1 values with NaN to properly represent them as missing data. Subsequently, we will impute these missing values using the mean of each respective column. This approach helps to retain the data structure and allows for further analysis or modeling without the distortion caused by the -1 placeholders."
      ]
    },
    {
      "cell_type": "code",
      "execution_count": null,
      "id": "8ca2c99d",
      "metadata": {
        "id": "8ca2c99d"
      },
      "outputs": [],
      "source": [
        "df_10_EYE.replace({-1: np.nan}, inplace=True)"
      ]
    },
    {
      "cell_type": "code",
      "execution_count": null,
      "id": "3a4c1f3c",
      "metadata": {
        "id": "3a4c1f3c"
      },
      "outputs": [],
      "source": [
        "df_10_EYE[['ET_GazeLeftx', 'ET_GazeLefty',\n",
        "       'ET_GazeRightx', 'ET_GazeRighty', 'ET_PupilLeft', 'ET_PupilRight',\n",
        "       'ET_TimeSignal', 'ET_DistanceLeft', 'ET_DistanceRight',\n",
        "       'ET_CameraLeftX', 'ET_CameraLeftY', 'ET_CameraRightX',\n",
        "       'ET_CameraRightY', 'ET_ValidityLeft', 'ET_ValidityRight',\n",
        "       'ET_PupilLeft_validity', 'ET_PupilRight_validity']].mean()"
      ]
    },
    {
      "cell_type": "code",
      "execution_count": null,
      "id": "b16cde7c",
      "metadata": {
        "id": "b16cde7c"
      },
      "outputs": [],
      "source": [
        "df_10_EYE[['ET_GazeLeftx', 'ET_GazeLefty',\n",
        "       'ET_GazeRightx', 'ET_GazeRighty', 'ET_PupilLeft', 'ET_PupilRight',\n",
        "       'ET_TimeSignal', 'ET_DistanceLeft', 'ET_DistanceRight',\n",
        "       'ET_CameraLeftX', 'ET_CameraLeftY', 'ET_CameraRightX',\n",
        "       'ET_CameraRightY', 'ET_ValidityLeft', 'ET_ValidityRight',\n",
        "       'ET_PupilLeft_validity', 'ET_PupilRight_validity']].median()"
      ]
    },
    {
      "cell_type": "code",
      "execution_count": null,
      "id": "1181cd21",
      "metadata": {
        "id": "1181cd21"
      },
      "outputs": [],
      "source": [
        "numeric_cols = df_10_EYE.select_dtypes(include=np.number).columns\n",
        "\n",
        "for col in numeric_cols:\n",
        "    df_10_EYE[col] = df_10_EYE[col].fillna(df_10_EYE[col].mean())"
      ]
    },
    {
      "cell_type": "code",
      "execution_count": null,
      "id": "9bb68ced",
      "metadata": {
        "id": "9bb68ced"
      },
      "outputs": [],
      "source": [
        "plt.figure(figsize=(18, 8))\n",
        "\n",
        "plt.subplot(1, 2, 1)\n",
        "sns.heatmap(df_10_EYE.isnull(), cmap='viridis')\n",
        "plt.title('Heatmap of Missing Values After Imputation')\n",
        "\n",
        "plt.subplot(1, 2, 2)\n",
        "sns.heatmap(df_10_EYE == 1, cmap='viridis')\n",
        "plt.title('Heatmap of 1 Values')\n",
        "\n",
        "plt.tight_layout()\n",
        "plt.show()"
      ]
    },
    {
      "cell_type": "markdown",
      "id": "9434663f",
      "metadata": {
        "id": "9434663f"
      },
      "source": [
        "# Handling Missing Values (Imputation)\n",
        "\n",
        "As decided, we have replaced all the `-1` values with `NaN` to treat them as missing data. Subsequently, we have imputed these `NaN` values with the mean of their respective columns. The heatmap above, which was generated after the imputation, now shows no visible signs of `NaN` values, indicating that the imputation was successful."
      ]
    },
    {
      "cell_type": "code",
      "execution_count": null,
      "id": "bd6dd807",
      "metadata": {
        "id": "bd6dd807"
      },
      "outputs": [],
      "source": [
        "df_10_EYE.head()"
      ]
    },
    {
      "cell_type": "code",
      "execution_count": null,
      "id": "bb9a0c44",
      "metadata": {
        "id": "bb9a0c44"
      },
      "outputs": [],
      "source": [
        "# Select only the numeric columns for plotting histograms, excluding time-related columns\n",
        "numeric_cols = df_10_EYE.select_dtypes(include=np.number).columns\n",
        "cols_to_plot = [col for col in numeric_cols if col not in ['UnixTime']]\n",
        "\n",
        "# Calculate the number of rows and columns for the grid\n",
        "n_cols = 4  # You can adjust the number of columns as needed\n",
        "n_rows = (len(cols_to_plot) + n_cols - 1) // n_cols\n",
        "\n",
        "plt.figure(figsize=(n_cols * 5, n_rows * 4)) # Adjust figure size as needed\n",
        "\n",
        "for i, col in enumerate(cols_to_plot):\n",
        "    plt.subplot(n_rows, n_cols, i + 1)\n",
        "    sns.histplot(df_10_EYE[col], kde=True)\n",
        "    plt.title(f'Distribution of {col}')\n",
        "    plt.xlabel(col)\n",
        "    plt.ylabel('Frequency')\n",
        "\n",
        "plt.tight_layout()\n",
        "plt.show()"
      ]
    },
    {
      "cell_type": "markdown",
      "id": "a975f1e0",
      "metadata": {
        "id": "a975f1e0"
      },
      "source": [
        "# Observations from Histograms After Imputation\n",
        "\n",
        "The histograms generated after replacing the -1 values with the mean of each column show the distributions of the numeric features with the missing data handled. Key observations from these updated histograms include:\n",
        "\n",
        "- The distinct peaks at -1, which were prominent in the histograms for several columns (e.g., pupil size, gaze coordinates, distance, and camera position) before imputation, are now replaced by a peak at the mean of each respective column.\n",
        "- The distributions in many columns now appear more unimodal or show shifted modes compared to the original histograms.\n",
        "- The histograms for the validity columns still show their bimodal distributions with peaks at 0 and 1, as these were handled separately.\n",
        "\n",
        "These histograms provide an updated view of the data's distribution after handling the missing values, highlighting the impact of the imputation method on the data's characteristics."
      ]
    },
    {
      "cell_type": "code",
      "execution_count": null,
      "id": "ecb9df8a",
      "metadata": {
        "id": "ecb9df8a"
      },
      "outputs": [],
      "source": [
        "cols = ['ET_GazeLeftx', 'ET_GazeLefty',\n",
        "       'ET_GazeRightx', 'ET_GazeRighty', 'ET_PupilLeft', 'ET_PupilRight',\n",
        "       'ET_TimeSignal', 'ET_DistanceLeft', 'ET_DistanceRight',\n",
        "       'ET_CameraLeftX', 'ET_CameraLeftY', 'ET_CameraRightX',\n",
        "       'ET_CameraRightY', 'ET_ValidityLeft', 'ET_ValidityRight',\n",
        "       'ET_PupilLeft_validity', 'ET_PupilRight_validity']"
      ]
    },
    {
      "cell_type": "code",
      "execution_count": null,
      "id": "0c71882d",
      "metadata": {
        "id": "0c71882d"
      },
      "outputs": [],
      "source": [
        "for col in cols:\n",
        "    # Add a markdown cell before each plot for better separation and labeling\n",
        "    display(Markdown(f'### {col} over Time'))\n",
        "    plt.figure(figsize=(16, 10))\n",
        "    plt.plot(df_10_EYE['Timestamp'], df_10_EYE[col])\n",
        "    plt.xlabel(\"Timestamp\") # Add x-axis label\n",
        "    plt.ylabel(col) # Add y-axis label\n",
        "    plt.show()"
      ]
    },
    {
      "cell_type": "markdown",
      "id": "86a3e981",
      "metadata": {
        "id": "86a3e981"
      },
      "source": [
        "# Observations from Time Series Plots After Imputation\n",
        "\n",
        "The line plots generated after imputing the missing values with the mean show the temporal patterns of the features with the missing data handled. Key observations from these updated plots include:\n",
        "\n",
        "- The gaps or flat lines at -1, which were prominent in the plots for columns like gaze coordinates, pupil size, distance, and camera position, are now filled by lines at the mean value of the respective columns.\n",
        "- The plots for the validity columns remain the same as they were handled separately.\n",
        "- The `ET_TimeSignal` plot still shows a steady increasing trend, as expected."
      ]
    },
    {
      "cell_type": "code",
      "execution_count": null,
      "id": "7fb09eca",
      "metadata": {
        "id": "7fb09eca"
      },
      "outputs": [],
      "source": [
        "plt.figure(figsize=(16, 10))\n",
        "sns.heatmap(df_10_EYE.corr(numeric_only=True), cmap='YlGnBu', annot=True)\n",
        "plt.show()"
      ]
    },
    {
      "cell_type": "markdown",
      "id": "538f871e",
      "metadata": {
        "id": "538f871e"
      },
      "source": [
        "# Observations from Correlation Heatmap\n",
        "\n",
        "The correlation heatmap provides a visual representation of the pairwise correlations between the numeric columns in the dataset. Key observations from the heatmap include:\n",
        "\n",
        "- **High Positive Correlations:** We observe strong positive correlations (values close to 1) between:\n",
        "  - `ET_GazeLeftx` and `ET_GazeRightx`: This is expected as the gaze positions of both eyes should be highly correlated when fixating on a point.\n",
        "  - `ET_GazeLefty` and `ET_GazeRighty`: Similar to the x-coordinates, the y-coordinates of gaze should also be highly correlated.\n",
        "  - `ET_PupilLeft` and `ET_PupilRight`: Pupil sizes of both eyes tend to change together in response to light and cognitive load.\n",
        "  - `ET_DistanceLeft` and `ET_DistanceRight`: The distance from the eye tracker to each eye should be highly correlated.\n",
        "  - `ET_CameraLeftX` and `ET_CameraRightX`, `ET_CameraLeftY` and `ET_CameraRightY`: The camera positions for both eyes are also expected to be highly correlated.\n",
        "  - `UnixTime` and `ET_TimeSignal`: As previously noted, these two columns are almost perfectly linearly correlated, indicating redundancy.\n",
        "  - `ET_ValidityLeft` and `ET_PupilLeft_validity`: There is a positive correlation, suggesting that when the overall left eye data is invalid, the left pupil data is also likely to be invalid.\n",
        "  - `ET_ValidityRight` and `ET_PupilRight_validity`: Similar to the left eye, there is a positive correlation between the overall right eye validity and the right pupil validity.\n",
        "- **Other Correlations:** We can also observe other varying degrees of correlations between different features, which can provide insights into the relationships between gaze behavior, pupil size, distance, and camera position. For example, there might be correlations between gaze coordinates and camera positions, reflecting head movements.\n",
        "- **Low or Near-Zero Correlations:** Columns with low or near-zero correlations are relatively independent of each other.\n",
        "\n",
        "Understanding these correlations is important for feature selection and for building models, as highly correlated features might indicate multicollinearity, while correlations between features can reveal underlying patterns in the data."
      ]
    },
    {
      "cell_type": "markdown",
      "id": "8df959db",
      "metadata": {
        "id": "8df959db"
      },
      "source": [
        "# Analysis of ET_TimeSignal and Decision to Drop\n",
        "\n",
        "As observed in the time series plot and confirmed by the correlation heatmap, the `ET_TimeSignal` column exhibits a near-perfect linear relationship with both the `Timestamp` and `UnixTime` columns. This strong correlation (close to 1) suggests that `ET_TimeSignal` is essentially redundant and likely represents another form of time recording or a signal directly derived from the timestamp.\n",
        "\n",
        "Including highly correlated features like this in a dataset can lead to issues such as multicollinearity in some statistical models, which can make it difficult to interpret the individual impact of each feature. Since the `Timestamp` column already provides the necessary temporal information, retaining `ET_TimeSignal` does not appear to add significant value for further analysis or modeling in most cases.\n",
        "\n",
        "Therefore, based on its high correlation and lack of unique insight, we will proceed to drop the `ET_TimeSignal` column to simplify the dataset and potentially improve the performance and interpretability of future analyses."
      ]
    },
    {
      "cell_type": "code",
      "execution_count": null,
      "id": "ae668ac4",
      "metadata": {
        "id": "ae668ac4"
      },
      "outputs": [],
      "source": [
        "df_10_EYE.drop('ET_TimeSignal', axis=1, inplace=True)"
      ]
    },
    {
      "cell_type": "code",
      "execution_count": null,
      "id": "08827470",
      "metadata": {
        "id": "08827470"
      },
      "outputs": [],
      "source": [
        "plt.figure(figsize=(16, 10))\n",
        "sns.pairplot(df_10_EYE)\n",
        "plt.show()"
      ]
    }
  ],
  "metadata": {
    "colab": {
      "provenance": []
    },
    "kernelspec": {
      "display_name": "Python 3",
      "name": "python3"
    },
    "language_info": {
      "name": "python"
    }
  },
  "nbformat": 4,
  "nbformat_minor": 5
}