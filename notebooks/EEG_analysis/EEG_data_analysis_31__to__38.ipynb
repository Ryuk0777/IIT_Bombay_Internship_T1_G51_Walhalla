{
 "cells": [
  {
   "cell_type": "code",
   "execution_count": null,
   "metadata": {
    "id": "ScjN7OI3ufvE"
   },
   "outputs": [],
   "source": [
    "#%load_ext cudf\n"
   ]
  },
  {
   "cell_type": "code",
   "execution_count": null,
   "metadata": {
    "id": "AFU1n_fsz4of"
   },
   "outputs": [],
   "source": [
    "import numpy as np\n",
    "import pandas as pd\n",
    "import matplotlib.pyplot as plt\n",
    "import seaborn as sns"
   ]
  },
  {
   "cell_type": "code",
   "execution_count": null,
   "metadata": {
    "id": "jEYekjj2z7aP"
   },
   "outputs": [],
   "source": [
    "import datashader as ds\n",
    "import datashader.transfer_functions as tf"
   ]
  },
  {
   "cell_type": "code",
   "execution_count": null,
   "metadata": {
    "id": "_TZ5wKCBz9DS"
   },
   "outputs": [],
   "source": [
    "pd.set_option('display.max_columns', None)"
   ]
  },
  {
   "cell_type": "markdown",
   "metadata": {
    "id": "EtVOkFRj0Ca7"
   },
   "source": []
  },
  {
   "cell_type": "markdown",
   "metadata": {
    "id": "qRsbJdE2Rjj9"
   },
   "source": [
    "## **21_EEG**\n",
    "\n",
    "\n",
    "\n",
    "\n"
   ]
  },
  {
   "cell_type": "code",
   "execution_count": null,
   "metadata": {
    "id": "vepp2Dvtz9mc"
   },
   "outputs": [],
   "source": [
    "df_31_EEG = pd.read_csv('data/STData/31/31_EEG.csv')"
   ]
  },
  {
   "cell_type": "code",
   "execution_count": null,
   "metadata": {
    "id": "n66FpGhBz9pg"
   },
   "outputs": [],
   "source": [
    "df_31_EEG.head()"
   ]
  },
  {
   "cell_type": "code",
   "execution_count": null,
   "metadata": {
    "id": "ovrdUDMez9sC"
   },
   "outputs": [],
   "source": [
    "df_31_EEG.shape"
   ]
  },
  {
   "cell_type": "code",
   "execution_count": null,
   "metadata": {
    "id": "nz7dO6Xyz9un"
   },
   "outputs": [],
   "source": [
    "df_31_EEG.columns"
   ]
  },
  {
   "cell_type": "code",
   "execution_count": null,
   "metadata": {
    "id": "sbwRcSqGz9w2"
   },
   "outputs": [],
   "source": [
    "df_31_EEG.info()"
   ]
  },
  {
   "cell_type": "code",
   "execution_count": null,
   "metadata": {
    "id": "41_QdmJ1z9zR"
   },
   "outputs": [],
   "source": [
    "df_31_EEG.isnull().sum()"
   ]
  },
  {
   "cell_type": "code",
   "execution_count": null,
   "metadata": {
    "id": "sMqBMrkN0SNN"
   },
   "outputs": [],
   "source": [
    "plt.figure(figsize=(16,10))\n",
    "sns.heatmap(df_31_EEG.isnull(), cmap='YlGnBu')\n",
    "plt.show()"
   ]
  },
  {
   "cell_type": "markdown",
   "metadata": {
    "id": "Czoo55Wc0Vc7"
   },
   "source": [
    "# Notes & Observations\n",
    "\n",
    "- We observe many **null** (or missing) values in the `QuestionKey` and `Elements` columns.  \n",
    "- The nulls in the `QuestionKey` column may not represent “true” nulls. Rather, they follow interval patterns, suggesting that during those periods no question was displayed.  \n",
    "- These missing values in `QuestionKey` require additional investigation and context-aware handling.  \n",
    "- The `Elements` column is almost entirely null; dropping it likely won’t meaningfully impact our data quality.\n"
   ]
  },
  {
   "cell_type": "code",
   "execution_count": null,
   "metadata": {
    "id": "MDRxpNUc0WOh"
   },
   "outputs": [],
   "source": [
    "df_31_EEG['QuestionKey'].unique()"
   ]
  },
  {
   "cell_type": "code",
   "execution_count": null,
   "metadata": {
    "id": "h_VCttwN0ZDT"
   },
   "outputs": [],
   "source": [
    "df_31_EEG['TimeStamp'] = pd.to_datetime(df_31_EEG['TimeStamp'])"
   ]
  },
  {
   "cell_type": "code",
   "execution_count": null,
   "metadata": {
    "id": "vBrjZpcy0aS3"
   },
   "outputs": [],
   "source": [
    "df_31_EEG.describe()"
   ]
  },
  {
   "cell_type": "code",
   "execution_count": null,
   "metadata": {
    "id": "AsiWFpzq0b4X"
   },
   "outputs": [],
   "source": [
    "df_31_EEG.head(3)"
   ]
  },
  {
   "cell_type": "code",
   "execution_count": null,
   "metadata": {
    "id": "aeEucjss0dGb"
   },
   "outputs": [],
   "source": [
    "df_31_EEG.drop('Elements', axis=1, inplace=True)"
   ]
  },
  {
   "cell_type": "code",
   "execution_count": null,
   "metadata": {
    "id": "WYHl2QCf0eWN"
   },
   "outputs": [],
   "source": [
    "df_31_EEG['QuestionKey'].unique()"
   ]
  },
  {
   "cell_type": "code",
   "execution_count": null,
   "metadata": {
    "id": "RNLoemKt0fcx"
   },
   "outputs": [],
   "source": [
    "df_31_EEG['QuestionKey'].fillna('None', inplace=True)"
   ]
  },
  {
   "cell_type": "code",
   "execution_count": null,
   "metadata": {
    "id": "bliTgxXL0gnk"
   },
   "outputs": [],
   "source": [
    "df_31_EEG['QuestionKey'].value_counts()"
   ]
  },
  {
   "cell_type": "code",
   "execution_count": null,
   "metadata": {
    "id": "5Q33kYqF0iPJ"
   },
   "outputs": [],
   "source": [
    "df_31_EEG['HeadBandOn'].unique()"
   ]
  },
  {
   "cell_type": "code",
   "execution_count": null,
   "metadata": {
    "id": "8RTEkYnA0kNj"
   },
   "outputs": [],
   "source": [
    "df_31_EEG['HeadBandOn'].isnull().sum()"
   ]
  },
  {
   "cell_type": "code",
   "execution_count": null,
   "metadata": {
    "id": "EZh40veq0ll2"
   },
   "outputs": [],
   "source": [
    "df_31_EEG.shape"
   ]
  },
  {
   "cell_type": "code",
   "execution_count": null,
   "metadata": {
    "id": "HjtFHTmj0m1P"
   },
   "outputs": [],
   "source": [
    "df_31_EEG.dropna(inplace=True)"
   ]
  },
  {
   "cell_type": "code",
   "execution_count": null,
   "metadata": {
    "id": "cJW3EQ960oHQ"
   },
   "outputs": [],
   "source": [
    "df_31_EEG.shape"
   ]
  },
  {
   "cell_type": "code",
   "execution_count": null,
   "metadata": {
    "id": "hQH3RqoI0qEq"
   },
   "outputs": [],
   "source": [
    "df_31_EEG.drop('HeadBandOn', axis=1, inplace=True)"
   ]
  },
  {
   "cell_type": "code",
   "execution_count": null,
   "metadata": {
    "id": "bHKjK06l0ri8"
   },
   "outputs": [],
   "source": [
    "plt.figure(figsize=(16,10))\n",
    "sns.heatmap(df_31_EEG.isnull(), cmap='YlGnBu')\n",
    "plt.show()"
   ]
  },
  {
   "cell_type": "markdown",
   "metadata": {
    "id": "zYF1JLuj0uTW"
   },
   "source": [
    "## Status Update\n",
    "\n",
    "- All **null** (or missing) values in the dataset have been handled / eliminated.\n",
    "- There are no remaining null values in any column.\n",
    "- The dataset is now “complete” in the sense that every cell has a valid (non-null) entry.\n"
   ]
  },
  {
   "cell_type": "code",
   "execution_count": null,
   "metadata": {
    "id": "bQQkGmiy0vXK"
   },
   "outputs": [],
   "source": [
    "df_31_EEG.columns"
   ]
  },
  {
   "cell_type": "code",
   "execution_count": null,
   "metadata": {
    "id": "IuHLMWgr0y5z"
   },
   "outputs": [],
   "source": [
    "cols = ['Delta_TP9', 'Delta_AF7',\n",
    "       'Delta_AF8', 'Delta_TP10', 'Theta_TP9', 'Theta_AF7', 'Theta_AF8',\n",
    "       'Theta_TP10', 'Alpha_TP9', 'Alpha_AF7', 'Alpha_AF8', 'Alpha_TP10',\n",
    "       'Beta_TP9', 'Beta_AF7', 'Beta_AF8', 'Beta_TP10', 'Gamma_TP9',\n",
    "       'Gamma_AF7', 'Gamma_AF8', 'Gamma_TP10', 'RAW_TP9', 'RAW_AF7', 'RAW_AF8',\n",
    "       'RAW_TP10', 'AUX_RIGHT', 'Accelerometer_X', 'Accelerometer_Y',\n",
    "       'Accelerometer_Z', 'Gyro_X', 'Gyro_Y', 'Gyro_Z',\n",
    "       'HSI_TP9', 'HSI_AF7', 'HSI_AF8', 'HSI_TP10', 'Battery']"
   ]
  },
  {
   "cell_type": "code",
   "execution_count": null,
   "metadata": {
    "id": "RDi8rwbn00lP"
   },
   "outputs": [],
   "source": [
    "# from IPython.display import display, Markdown\n",
    "\n",
    "# canvas = ds.Canvas(plot_width=1000, plot_height=600)\n",
    "\n",
    "# for col in cols:\n",
    "#     # Add a markdown cell before each plot for better separation and labeling\n",
    "#     display(Markdown(f'### {col} over Time'))\n",
    "#     agg = canvas.line(df_1_EEG, x='UnixTime', y=col)\n",
    "#     img = tf.shade(agg)\n",
    "#     plt.figure(figsize=(16, 10))\n",
    "#     plt.imshow(img.to_pil())\n",
    "#     # plt.axis('off')  # Removed this line to show axes\n",
    "#     plt.xlabel(\"UnixTime\") # Add x-axis label\n",
    "#     plt.ylabel(col) # Add y-axis label\n",
    "#     plt.show()"
   ]
  },
  {
   "cell_type": "code",
   "execution_count": null,
   "metadata": {
    "id": "8mjjUyWe02Mn"
   },
   "outputs": [],
   "source": [
    "from IPython.display import display, Markdown\n",
    "\n",
    "\n",
    "for col in cols:\n",
    "    # Add a markdown cell before each plot for better separation and labeling\n",
    "    display(Markdown(f'### {col} over Time'))\n",
    "    plt.figure(figsize=(16, 10))\n",
    "    plt.plot(df_31_EEG['TimeStamp'], df_31_EEG[col])\n",
    "    plt.xlabel(\"TimeStamp\") # Add x-axis label\n",
    "    plt.ylabel(col) # Add y-axis label\n",
    "    plt.show()"
   ]
  },
  {
   "cell_type": "code",
   "execution_count": null,
   "metadata": {
    "id": "nisJebTq04fF"
   },
   "outputs": [],
   "source": [
    "plt.figure(figsize=(38,12))\n",
    "sns.heatmap(df_31_EEG.corr(numeric_only=True), cmap='YlGnBu', annot=True)\n",
    "plt.show()"
   ]
  },
  {
   "cell_type": "markdown",
   "metadata": {
    "id": "C2fP7qM307s9"
   },
   "source": [
    "## Notes & Observations\n",
    "\n",
    "### Dropping `AUX_RIGHT`\n",
    "- The `AUX_RIGHT` channel comes from the auxiliary electrode input of the EEG headset.  \n",
    "- Upon inspection, its values appeared as **flat high-amplitude noise** (750–950 range) without any meaningful oscillatory EEG patterns.  \n",
    "- Correlation analysis also showed **no significant relationship** between `AUX_RIGHT` and other EEG features.  \n",
    "- Since it does not carry useful information and only adds noise/dimensionality, we **dropped `AUX_RIGHT`** from the dataset.\n",
    "\n",
    "\n"
   ]
  },
  {
   "cell_type": "code",
   "execution_count": null,
   "metadata": {
    "id": "ZDUI8Qx808hw"
   },
   "outputs": [],
   "source": [
    "df_31_EEG.drop('AUX_RIGHT', axis=1, inplace=True)"
   ]
  },
  {
   "cell_type": "code",
   "execution_count": null,
   "metadata": {
    "id": "bAkp5UkL0_BE"
   },
   "outputs": [],
   "source": [
    "df_31_EEG.head()"
   ]
  },
  {
   "cell_type": "code",
   "execution_count": null,
   "metadata": {
    "id": "HSC9OZK11AT9"
   },
   "outputs": [],
   "source": [
    "HSI_cols = [\"HSI_TP9\", \"HSI_AF7\", \"HSI_AF8\", \"HSI_TP10\"]"
   ]
  },
  {
   "cell_type": "code",
   "execution_count": null,
   "metadata": {
    "id": "UCkFF2rs1BXM"
   },
   "outputs": [],
   "source": [
    "for col in HSI_cols:\n",
    "    print(f\"Unique values for {col}: {df_31_EEG[col].unique()}\")"
   ]
  },
  {
   "cell_type": "code",
   "execution_count": null,
   "metadata": {
    "id": "Jvdu_YGN1CqC"
   },
   "outputs": [],
   "source": [
    "df_31_EEG['HSI_TP9'].value_counts()"
   ]
  },
  {
   "cell_type": "code",
   "execution_count": null,
   "metadata": {
    "id": "-7ASRrff1EXs"
   },
   "outputs": [],
   "source": [
    "df_31_EEG['HSI_TP10'].value_counts()"
   ]
  },
  {
   "cell_type": "code",
   "execution_count": null,
   "metadata": {
    "id": "8X77Zvqt1FiI"
   },
   "outputs": [],
   "source": [
    "df_31_EEG['HSI_AF7'].value_counts()"
   ]
  },
  {
   "cell_type": "code",
   "execution_count": null,
   "metadata": {
    "id": "xZP1yMNW1G2A"
   },
   "outputs": [],
   "source": [
    "df_31_EEG['HSI_AF8'].value_counts()"
   ]
  },
  {
   "cell_type": "code",
   "execution_count": null,
   "metadata": {
    "id": "9PNxjZLu1Ibv"
   },
   "outputs": [],
   "source": [
    "df_31_EEG.describe()"
   ]
  },
  {
   "cell_type": "markdown",
   "metadata": {
    "id": "LeY3WjaK1KZX"
   },
   "source": [
    "## Notes & Observations\n",
    "\n",
    "### Handling `HSI_*` Columns\n",
    "- The `HSI_TP9`, `HSI_AF7`, `HSI_AF8`, `HSI_TP10` columns represent **Headset Signal Integrity** for each electrode:  \n",
    "  - `1 = Good connection`  \n",
    "  - `2 = Medium connection`  \n",
    "  - `4 = Bad connection`  \n",
    "- We need to pay attention to these values because:\n",
    "  - Bad connections (`4`) indicate unreliable EEG readings.  \n",
    "  - Medium connections (`2`) may still be usable but should be treated with caution.  \n",
    "- Instead of dropping rows, we will **convert HSI values into binary flags**:  \n",
    "  - **1 = Bad connection present**  \n",
    "  - **0 = Otherwise (Good or Medium)**  \n",
    "- This preserves all data while giving the model information about electrode reliability.  \n",
    "- After creating these flags, the raw `HSI_*` columns can be removed to reduce dimensionality.\n"
   ]
  },
  {
   "cell_type": "code",
   "execution_count": null,
   "metadata": {
    "id": "WuY5dwwO1LaH"
   },
   "outputs": [],
   "source": [
    "df_31_EEG.head()"
   ]
  },
  {
   "cell_type": "code",
   "execution_count": null,
   "metadata": {
    "id": "OSWn2mq81WhC"
   },
   "outputs": [],
   "source": [
    "signal_flags_values = { 1: 0, 2: 0, 4: 1}"
   ]
  },
  {
   "cell_type": "code",
   "execution_count": null,
   "metadata": {
    "id": "aai2DCVr1Xz2"
   },
   "outputs": [],
   "source": [
    "df_31_EEG['HSI_TP9_flag'] = df_31_EEG['HSI_TP9'].map(signal_flags_values).astype(np.int8)\n",
    "df_31_EEG['HSI_TP10_flag'] = df_31_EEG['HSI_TP10'].map(signal_flags_values).astype(np.int8)\n",
    "df_31_EEG['HSI_AF7_flag'] = df_31_EEG['HSI_AF7'].map(signal_flags_values).astype(np.int8)\n",
    "df_31_EEG['HSI_AF8_flag'] = df_31_EEG['HSI_AF8'].map(signal_flags_values).astype(np.int8)"
   ]
  },
  {
   "cell_type": "code",
   "execution_count": null,
   "metadata": {
    "id": "KzUUZsFK1ZA2"
   },
   "outputs": [],
   "source": [
    "df_31_EEG.drop(['HSI_TP9', 'HSI_TP10', 'HSI_AF7', 'HSI_AF8'], axis=1, inplace=True)"
   ]
  },
  {
   "cell_type": "code",
   "execution_count": null,
   "metadata": {
    "id": "PwOxe9t21amo"
   },
   "outputs": [],
   "source": [
    "plt.figure(figsize=(38,12))\n",
    "sns.heatmap(df_31_EEG.corr(numeric_only=True), cmap='YlGnBu', annot=True)a\n",
    "plt.show()"
   ]
  },
  {
   "cell_type": "markdown",
   "metadata": {
    "id": "WcEYhP7c1ckQ"
   },
   "source": [
    "## Notes & Observations\n",
    "\n",
    "### Dropping RAW EEG Channels\n",
    "\n",
    "- The EEG dataset includes `RAW_TP9`, `RAW_AF7`, `RAW_AF8`, `RAW_TP10` columns, which represent the unprocessed voltage readings from each electrode.  \n",
    "- Upon inspection:\n",
    "  - These RAW signals are **highly noisy** and show no clear oscillatory patterns typical of brainwave activity.  \n",
    "  - Correlation analysis with other features shows **very low correlations** (near 0.0), indicating they do not contribute predictive value.  \n",
    "  - Plots of RAW vs. time reveal large fluctuations without meaningful structure.\n",
    "\n",
    "- Reason for dropping:\n",
    "  - The dataset already provides **frequency band powers** (`Delta`, `Theta`, `Alpha`, `Beta`, `Gamma`) for each electrode, which are **derived from RAW signals** and are far more informative.  \n",
    "  - Keeping RAW adds unnecessary dimensionality and noise, which can negatively affect machine learning models.\n",
    "\n",
    "- Action taken:\n",
    "  - `RAW_TP9`, `RAW_AF7`, `RAW_AF8`, `RAW_TP10` are **dropped from preprocessing**.  \n",
    "  - The focus will be on the **precomputed band power features** for all EEG electrodes, which are sufficient for cognitive load prediction and regression tasks.\n"
   ]
  },
  {
   "cell_type": "code",
   "execution_count": null,
   "metadata": {
    "id": "5_vIKb8z1e1S"
   },
   "outputs": [],
   "source": [
    "df_31_EEG.drop(['RAW_TP9',\t'RAW_AF7',\t'RAW_AF8',\t'RAW_TP10'], axis=1, inplace=True)"
   ]
  },
  {
   "cell_type": "code",
   "execution_count": null,
   "metadata": {
    "id": "yDYz9dRs1gQU"
   },
   "outputs": [],
   "source": [
    "df_31_EEG.head()"
   ]
  },
  {
   "cell_type": "code",
   "execution_count": null,
   "metadata": {
    "id": "IvEl8WnE1k15"
   },
   "outputs": [],
   "source": [
    "# Select only the numeric columns for plotting histograms, excluding time-related columns\n",
    "numeric_cols = df_31_EEG.select_dtypes(include=np.number).columns\n",
    "cols_to_plot = [col for col in numeric_cols if col not in ['UnixTime']]\n",
    "\n",
    "# Calculate the number of rows and columns for the grid\n",
    "n_cols = 4  # You can adjust the number of columns as needed\n",
    "n_rows = (len(cols_to_plot) + n_cols - 1) // n_cols\n",
    "\n",
    "plt.figure(figsize=(n_cols * 5, n_rows * 4)) # Adjust figure size as needed\n",
    "\n",
    "for i, col in enumerate(cols_to_plot):\n",
    "    plt.subplot(n_rows, n_cols, i + 1)\n",
    "    sns.histplot(df_31_EEG[col], kde=True)\n",
    "    plt.title(f'Distribution of {col}')\n",
    "    plt.xlabel(col)\n",
    "    plt.ylabel('Frequency')\n",
    "\n",
    "plt.tight_layout()\n",
    "plt.show()"
   ]
  },
  {
   "cell_type": "code",
   "execution_count": null,
   "metadata": {
    "id": "TTCz41Mx1vSn"
   },
   "outputs": [],
   "source": [
    "plt.figure(figsize=(38,12))\n",
    "sns.pairplot(df_31_EEG)\n",
    "plt.show()"
   ]
  },
  {
   "cell_type": "markdown",
   "metadata": {
    "id": "3_T9dwWH14xz"
   },
   "source": []
  },
  {
   "cell_type": "markdown",
   "metadata": {
    "id": "CcGkScCD15d9"
   },
   "source": [
    "# **22 EGG**\n",
    "\n",
    "\n"
   ]
  },
  {
   "cell_type": "code",
   "execution_count": null,
   "metadata": {
    "id": "Yh1YijqZ2BKW"
   },
   "outputs": [],
   "source": [
    "df_32_EEG = pd.read_csv('data/STData/32/32_EEG.csv')"
   ]
  },
  {
   "cell_type": "code",
   "execution_count": null,
   "metadata": {
    "id": "RAR0GIUB4QOO"
   },
   "outputs": [],
   "source": [
    "df_32_EEG.head()"
   ]
  },
  {
   "cell_type": "code",
   "execution_count": null,
   "metadata": {
    "id": "Z3Mc6ifv5IAc"
   },
   "outputs": [],
   "source": [
    "df_32_EEG.shape"
   ]
  },
  {
   "cell_type": "code",
   "execution_count": null,
   "metadata": {
    "id": "VrTbFJBw5UhB"
   },
   "outputs": [],
   "source": [
    "df_32_EEG.columns"
   ]
  },
  {
   "cell_type": "code",
   "execution_count": null,
   "metadata": {
    "id": "-tV0aU1m5qZD"
   },
   "outputs": [],
   "source": [
    "df_32_EEG.info()"
   ]
  },
  {
   "cell_type": "code",
   "execution_count": null,
   "metadata": {
    "id": "KfS30lol50E1"
   },
   "outputs": [],
   "source": [
    "df_32_EEG.isnull().sum()"
   ]
  },
  {
   "cell_type": "code",
   "execution_count": null,
   "metadata": {
    "id": "_cNUtMyF5-ng"
   },
   "outputs": [],
   "source": [
    "plt.figure(figsize=(16,10))\n",
    "sns.heatmap(df_32_EEG.isnull(), cmap='YlGnBu')\n",
    "plt.show()"
   ]
  },
  {
   "cell_type": "markdown",
   "metadata": {
    "id": "NqMrKe8K6LRf"
   },
   "source": [
    "# Notes & Observations\n",
    "\n",
    "- We observe many **null** (or missing) values in the `QuestionKey` and `Elements` columns.  \n",
    "- The nulls in the `QuestionKey` column may not represent “true” nulls. Rather, they follow interval patterns, suggesting that during those periods no question was displayed.  \n",
    "- These missing values in `QuestionKey` require additional investigation and context-aware handling.  \n",
    "- The `Elements` column is almost entirely null; dropping it likely won’t meaningfully impact our data quality.\n"
   ]
  },
  {
   "cell_type": "code",
   "execution_count": null,
   "metadata": {
    "id": "LJ80dicX6rs2"
   },
   "outputs": [],
   "source": [
    "df_32_EEG['QuestionKey'].unique()"
   ]
  },
  {
   "cell_type": "code",
   "execution_count": null,
   "metadata": {
    "id": "yyxzecLR6rdz"
   },
   "outputs": [],
   "source": [
    "df_32_EEG['TimeStamp'] = pd.to_datetime(df_32_EEG['TimeStamp'])"
   ]
  },
  {
   "cell_type": "code",
   "execution_count": null,
   "metadata": {
    "id": "1gVLPpaO7c-n"
   },
   "outputs": [],
   "source": [
    "df_32_EEG.describe()"
   ]
  },
  {
   "cell_type": "code",
   "execution_count": null,
   "metadata": {
    "id": "H1F6xuJf7rEb"
   },
   "outputs": [],
   "source": [
    "df_32_EEG.head(3)"
   ]
  },
  {
   "cell_type": "code",
   "execution_count": null,
   "metadata": {
    "id": "mWpI66Ug7_H1"
   },
   "outputs": [],
   "source": [
    "df_32_EEG.drop('Elements', axis=1, inplace=True)"
   ]
  },
  {
   "cell_type": "code",
   "execution_count": null,
   "metadata": {
    "id": "1-rqjsvJ8TAb"
   },
   "outputs": [],
   "source": [
    "df_32_EEG['QuestionKey'].unique()"
   ]
  },
  {
   "cell_type": "code",
   "execution_count": null,
   "metadata": {
    "id": "jkP-CPfm8prH"
   },
   "outputs": [],
   "source": [
    "df_32_EEG['QuestionKey'].fillna('None', inplace=True)"
   ]
  },
  {
   "cell_type": "code",
   "execution_count": null,
   "metadata": {
    "id": "Yqrl7PuY81Dg"
   },
   "outputs": [],
   "source": [
    "df_32_EEG['QuestionKey'].value_counts()"
   ]
  },
  {
   "cell_type": "code",
   "execution_count": null,
   "metadata": {
    "id": "_0qDNS3v9ArS"
   },
   "outputs": [],
   "source": [
    "df_32_EEG['HeadBandOn'].unique()"
   ]
  },
  {
   "cell_type": "code",
   "execution_count": null,
   "metadata": {
    "id": "ppgz9DU99MQb"
   },
   "outputs": [],
   "source": [
    "df_32_EEG['HeadBandOn'].isnull().sum()"
   ]
  },
  {
   "cell_type": "code",
   "execution_count": null,
   "metadata": {
    "id": "oGVNxhGQ9gSY"
   },
   "outputs": [],
   "source": [
    "df_32_EEG.shape"
   ]
  },
  {
   "cell_type": "code",
   "execution_count": null,
   "metadata": {
    "id": "NFU3j7Mj9wk_"
   },
   "outputs": [],
   "source": [
    "df_32_EEG.dropna(inplace=True)"
   ]
  },
  {
   "cell_type": "code",
   "execution_count": null,
   "metadata": {
    "id": "-BDPTm6M-AgF"
   },
   "outputs": [],
   "source": [
    "df_32_EEG.shape"
   ]
  },
  {
   "cell_type": "code",
   "execution_count": null,
   "metadata": {
    "id": "m9CfZ3cd-U6l"
   },
   "outputs": [],
   "source": [
    "df_32_EEG.drop('HeadBandOn', axis=1, inplace=True)"
   ]
  },
  {
   "cell_type": "code",
   "execution_count": null,
   "metadata": {
    "id": "X5NTkTN--rN8"
   },
   "outputs": [],
   "source": [
    "plt.figure(figsize=(16,10))\n",
    "sns.heatmap(df_32_EEG.isnull(), cmap='YlGnBu')\n",
    "plt.show()"
   ]
  },
  {
   "cell_type": "markdown",
   "metadata": {
    "id": "C8NSEVq__O_W"
   },
   "source": [
    "## Status Update\n",
    "\n",
    "- All **null** (or missing) values in the dataset have been handled / eliminated.\n",
    "- There are no remaining null values in any column.\n",
    "- The dataset is now “complete” in the sense that every cell has a valid (non-null) entry.\n"
   ]
  },
  {
   "cell_type": "code",
   "execution_count": null,
   "metadata": {
    "id": "06MzaeE2AYE4"
   },
   "outputs": [],
   "source": [
    "df_2_EEG.columns\n"
   ]
  },
  {
   "cell_type": "code",
   "execution_count": null,
   "metadata": {
    "id": "Xk3PI1kyA5Mv"
   },
   "outputs": [],
   "source": [
    "cols = ['Delta_TP9', 'Delta_AF7',\n",
    "       'Delta_AF8', 'Delta_TP10', 'Theta_TP9', 'Theta_AF7', 'Theta_AF8',\n",
    "       'Theta_TP10', 'Alpha_TP9', 'Alpha_AF7', 'Alpha_AF8', 'Alpha_TP10',\n",
    "       'Beta_TP9', 'Beta_AF7', 'Beta_AF8', 'Beta_TP10', 'Gamma_TP9',\n",
    "       'Gamma_AF7', 'Gamma_AF8', 'Gamma_TP10', 'RAW_TP9', 'RAW_AF7', 'RAW_AF8',\n",
    "       'RAW_TP10', 'AUX_RIGHT', 'Accelerometer_X', 'Accelerometer_Y',\n",
    "       'Accelerometer_Z', 'Gyro_X', 'Gyro_Y', 'Gyro_Z',\n",
    "       'HSI_TP9', 'HSI_AF7', 'HSI_AF8', 'HSI_TP10', 'Battery']"
   ]
  },
  {
   "cell_type": "code",
   "execution_count": null,
   "metadata": {
    "id": "knvrwN2RBRkk"
   },
   "outputs": [],
   "source": [
    "from IPython.display import display, Markdown\n",
    "\n",
    "\n",
    "for col in cols:\n",
    "    # Add a markdown cell before each plot for better separation and labeling\n",
    "    display(Markdown(f'### {col} over Time'))\n",
    "    plt.figure(figsize=(16, 10))\n",
    "    plt.plot(df_32_EEG['TimeStamp'], df_32_EEG[col])\n",
    "    plt.xlabel(\"TimeStamp\") # Add x-axis label\n",
    "    plt.ylabel(col) # Add y-axis label\n",
    "    plt.show()"
   ]
  },
  {
   "cell_type": "code",
   "execution_count": null,
   "metadata": {
    "id": "pDWB-GTCBpJi"
   },
   "outputs": [],
   "source": [
    "plt.figure(figsize=(38,12))\n",
    "sns.heatmap(df_32_EEG.corr(numeric_only=True), cmap='YlGnBu', annot=True)\n",
    "plt.show()"
   ]
  },
  {
   "cell_type": "markdown",
   "metadata": {
    "id": "-6PTYkHkCJua"
   },
   "source": [
    "## Notes & Observations\n",
    "\n",
    "### Dropping `AUX_RIGHT`\n",
    "- The `AUX_RIGHT` channel comes from the auxiliary electrode input of the EEG headset.  \n",
    "- Upon inspection, its values appeared as **flat high-amplitude noise** (750–950 range) without any meaningful oscillatory EEG patterns.  \n",
    "- Correlation analysis also showed **no significant relationship** between `AUX_RIGHT` and other EEG features.  \n",
    "- Since it does not carry useful information and only adds noise/dimensionality, we **dropped `AUX_RIGHT`** from the dataset.\n",
    "\n",
    "\n"
   ]
  },
  {
   "cell_type": "code",
   "execution_count": null,
   "metadata": {
    "id": "CRYFTZ5pClH9"
   },
   "outputs": [],
   "source": [
    "df_32_EEG.drop('AUX_RIGHT', axis=1, inplace=True)"
   ]
  },
  {
   "cell_type": "code",
   "execution_count": null,
   "metadata": {
    "id": "fS9WC9jdDbwH"
   },
   "outputs": [],
   "source": [
    "df_32_EEG.head()"
   ]
  },
  {
   "cell_type": "code",
   "execution_count": null,
   "metadata": {
    "id": "2qVWYTsZD2-L"
   },
   "outputs": [],
   "source": [
    "HSI_cols = [\"HSI_TP9\", \"HSI_AF7\", \"HSI_AF8\", \"HSI_TP10\"]"
   ]
  },
  {
   "cell_type": "code",
   "execution_count": null,
   "metadata": {
    "id": "IZThoDbLEfFM"
   },
   "outputs": [],
   "source": [
    "for col in HSI_cols:\n",
    "    print(f\"Unique values for {col}: {df_2_EEG[col].unique()}\")"
   ]
  },
  {
   "cell_type": "code",
   "execution_count": null,
   "metadata": {
    "id": "lmmssOU-E0aB"
   },
   "outputs": [],
   "source": [
    "df_32_EEG['HSI_TP9'].value_counts()"
   ]
  },
  {
   "cell_type": "code",
   "execution_count": null,
   "metadata": {
    "id": "nfF3-Oo7FMOq"
   },
   "outputs": [],
   "source": [
    "df_32_EEG['HSI_TP10'].value_counts()"
   ]
  },
  {
   "cell_type": "code",
   "execution_count": null,
   "metadata": {
    "id": "P57ZmlBUFjLJ"
   },
   "outputs": [],
   "source": [
    "df_32_EEG['HSI_AF7'].value_counts()"
   ]
  },
  {
   "cell_type": "code",
   "execution_count": null,
   "metadata": {
    "id": "JECXddq_F9dL"
   },
   "outputs": [],
   "source": [
    "df_32_EEG['HSI_AF8'].value_counts()"
   ]
  },
  {
   "cell_type": "code",
   "execution_count": null,
   "metadata": {
    "id": "2pvFJX9fGZTN"
   },
   "outputs": [],
   "source": [
    "df_32_EEG.describe()"
   ]
  },
  {
   "cell_type": "markdown",
   "metadata": {
    "id": "l8RNoX73GzN0"
   },
   "source": [
    "## Notes & Observations\n",
    "\n",
    "### Handling `HSI_*` Columns\n",
    "- The `HSI_TP9`, `HSI_AF7`, `HSI_AF8`, `HSI_TP10` columns represent **Headset Signal Integrity** for each electrode:  \n",
    "  - `1 = Good connection`  \n",
    "  - `2 = Medium connection`  \n",
    "  - `4 = Bad connection`  \n",
    "- We need to pay attention to these values because:\n",
    "  - Bad connections (`4`) indicate unreliable EEG readings.  \n",
    "  - Medium connections (`2`) may still be usable but should be treated with caution.  \n",
    "- Instead of dropping rows, we will **convert HSI values into binary flags**:  \n",
    "  - **1 = Bad connection present**  \n",
    "  - **0 = Otherwise (Good or Medium)**  \n",
    "- This preserves all data while giving the model information about electrode reliability.  \n",
    "- After creating these flags, the raw `HSI_*` columns can be removed to reduce dimensionality.\n"
   ]
  },
  {
   "cell_type": "code",
   "execution_count": null,
   "metadata": {
    "id": "_Yqc17waHSNd"
   },
   "outputs": [],
   "source": [
    "df_32_EEG.head()"
   ]
  },
  {
   "cell_type": "code",
   "execution_count": null,
   "metadata": {
    "id": "g-GqFw8dIGxS"
   },
   "outputs": [],
   "source": [
    "signal_flags_values = { 1: 0, 2: 0, 4: 1}"
   ]
  },
  {
   "cell_type": "code",
   "execution_count": null,
   "metadata": {
    "id": "0N6M4L-hIlO3"
   },
   "outputs": [],
   "source": [
    "df_32_EEG['HSI_TP9_flag'] = df_32_EEG['HSI_TP9'].map(signal_flags_values).astype(np.int8)\n",
    "df_32_EEG['HSI_TP10_flag'] = df_32_EEG['HSI_TP10'].map(signal_flags_values).astype(np.int8)\n",
    "df_32_EEG['HSI_AF7_flag'] = df_32_EEG['HSI_AF7'].map(signal_flags_values).astype(np.int8)\n",
    "df_32_EEG['HSI_AF8_flag'] = df_32_EEG['HSI_AF8'].map(signal_flags_values).astype(np.int8)2"
   ]
  },
  {
   "cell_type": "code",
   "execution_count": null,
   "metadata": {
    "id": "NdW0aOOgJeXW"
   },
   "outputs": [],
   "source": [
    "df_32_EEG.drop(['HSI_TP9', 'HSI_TP10', 'HSI_AF7', 'HSI_AF8'], axis=1, inplace=True)"
   ]
  },
  {
   "cell_type": "code",
   "execution_count": null,
   "metadata": {
    "id": "c1grPmUIJgWz"
   },
   "outputs": [],
   "source": [
    "plt.figure(figsize=(38,12))\n",
    "sns.heatmap(df_32_EEG.corr(numeric_only=True), cmap='YlGnBu', annot=True)a\n",
    "plt.show()"
   ]
  },
  {
   "cell_type": "markdown",
   "metadata": {
    "id": "6s0bK6SmKNlM"
   },
   "source": [
    "## Notes & Observations\n",
    "\n",
    "### Dropping RAW EEG Channels\n",
    "\n",
    "- The EEG dataset includes `RAW_TP9`, `RAW_AF7`, `RAW_AF8`, `RAW_TP10` columns, which represent the unprocessed voltage readings from each electrode.  \n",
    "- Upon inspection:\n",
    "  - These RAW signals are **highly noisy** and show no clear oscillatory patterns typical of brainwave activity.  \n",
    "  - Correlation analysis with other features shows **very low correlations** (near 0.0), indicating they do not contribute predictive value.  \n",
    "  - Plots of RAW vs. time reveal large fluctuations without meaningful structure.\n",
    "\n",
    "- Reason for dropping:\n",
    "  - The dataset already provides **frequency band powers** (`Delta`, `Theta`, `Alpha`, `Beta`, `Gamma`) for each electrode, which are **derived from RAW signals** and are far more informative.  \n",
    "  - Keeping RAW adds unnecessary dimensionality and noise, which can negatively affect machine learning models.\n",
    "\n",
    "- Action taken:\n",
    "  - `RAW_TP9`, `RAW_AF7`, `RAW_AF8`, `RAW_TP10` are **dropped from preprocessing**.  \n",
    "  - The focus will be on the **precomputed band power features** for all EEG electrodes, which are sufficient for cognitive load prediction and regression tasks.\n"
   ]
  },
  {
   "cell_type": "code",
   "execution_count": null,
   "metadata": {
    "id": "w15pfjtEKRJ2"
   },
   "outputs": [],
   "source": [
    "df_32_EEG.drop(['RAW_TP9',\t'RAW_AF7',\t'RAW_AF8',\t'RAW_TP10'], axis=1, inplace=True)"
   ]
  },
  {
   "cell_type": "code",
   "execution_count": null,
   "metadata": {
    "id": "QS8UN-UFK_Q9"
   },
   "outputs": [],
   "source": [
    "df_32_EEG.head()"
   ]
  },
  {
   "cell_type": "code",
   "execution_count": null,
   "metadata": {
    "id": "dLQXZQpLLBUd"
   },
   "outputs": [],
   "source": [
    "# Select only the numeric columns for plotting histograms, excluding time-related columns\n",
    "numeric_cols = df_32_EEG.select_dtypes(include=np.number).columns\n",
    "cols_to_plot = [col for col in numeric_cols if col not in ['UnixTime']]\n",
    "\n",
    "# Calculate the number of rows and columns for the grid\n",
    "n_cols = 4  # You can adjust the number of columns as needed\n",
    "n_rows = (len(cols_to_plot) + n_cols - 1) // n_cols\n",
    "\n",
    "plt.figure(figsize=(n_cols * 5, n_rows * 4)) # Adjust figure size as needed\n",
    "\n",
    "for i, col in enumerate(cols_to_plot):\n",
    "    plt.subplot(n_rows, n_cols, i + 1)\n",
    "    sns.histplot(df_32_EEG[col], kde=True)\n",
    "    plt.title(f'Distribution of {col}')\n",
    "    plt.xlabel(col)\n",
    "    plt.ylabel('Frequency')\n",
    "\n",
    "plt.tight_layout()\n",
    "plt.show()"
   ]
  },
  {
   "cell_type": "code",
   "execution_count": null,
   "metadata": {
    "id": "2qWChGxtL0FK"
   },
   "outputs": [],
   "source": [
    "plt.figure(figsize=(38,12))\n",
    "sns.pairplot(df_32_EEG)\n",
    "plt.show()"
   ]
  },
  {
   "cell_type": "markdown",
   "metadata": {
    "id": "QQv9aslV4Wpt"
   },
   "source": [
    "**23 EGG**"
   ]
  },
  {
   "cell_type": "code",
   "execution_count": null,
   "metadata": {
    "id": "tjYuYQOc4I17"
   },
   "outputs": [],
   "source": [
    "df_33_EEG = pd.read_csv('data/STData/33/33_EEG.csv')"
   ]
  },
  {
   "cell_type": "code",
   "execution_count": null,
   "metadata": {
    "id": "U8u118iG4RUk"
   },
   "outputs": [],
   "source": [
    "df_33_EEG.head()"
   ]
  },
  {
   "cell_type": "code",
   "execution_count": null,
   "metadata": {
    "id": "MdzYxS1y5IeK"
   },
   "outputs": [],
   "source": [
    "df_33_EEG.shape"
   ]
  },
  {
   "cell_type": "code",
   "execution_count": null,
   "metadata": {
    "id": "C35KmdBT5VJp"
   },
   "outputs": [],
   "source": [
    "df_33_EEG.columns"
   ]
  },
  {
   "cell_type": "code",
   "execution_count": null,
   "metadata": {
    "id": "P5qp5c4Y5rJw"
   },
   "outputs": [],
   "source": [
    "df_33_EEG.info()"
   ]
  },
  {
   "cell_type": "code",
   "execution_count": null,
   "metadata": {
    "id": "kAPekr_3505G"
   },
   "outputs": [],
   "source": [
    "df_33_EEG.isnull().sum()"
   ]
  },
  {
   "cell_type": "code",
   "execution_count": null,
   "metadata": {
    "id": "ixZxeR0p5_VD"
   },
   "outputs": [],
   "source": [
    "plt.figure(figsize=(16,10))\n",
    "sns.heatmap(df_33_EEG.isnull(), cmap='YlGnBu')\n",
    "plt.show()"
   ]
  },
  {
   "cell_type": "code",
   "execution_count": null,
   "metadata": {
    "id": "bridRY0O6mhf"
   },
   "outputs": [],
   "source": [
    "df_33_EEG['QuestionKey'].unique()"
   ]
  },
  {
   "cell_type": "markdown",
   "metadata": {
    "id": "zGd5-K086MZn"
   },
   "source": [
    "# Notes & Observations\n",
    "\n",
    "- We observe many **null** (or missing) values in the `QuestionKey` and `Elements` columns.  \n",
    "- The nulls in the `QuestionKey` column may not represent “true” nulls. Rather, they follow interval patterns, suggesting that during those periods no question was displayed.  \n",
    "- These missing values in `QuestionKey` require additional investigation and context-aware handling.  \n",
    "- The `Elements` column is almost entirely null; dropping it likely won’t meaningfully impact our data quality.\n"
   ]
  },
  {
   "cell_type": "code",
   "execution_count": null,
   "metadata": {
    "id": "hB5lgRum6wcM"
   },
   "outputs": [],
   "source": [
    "df_33_EEG['QuestionKey'].unique()"
   ]
  },
  {
   "cell_type": "code",
   "execution_count": null,
   "metadata": {
    "id": "tQMle_tX7PCE"
   },
   "outputs": [],
   "source": [
    "df_33_EEG['TimeStamp'] = pd.to_datetime(df_33_EEG['TimeStamp'])"
   ]
  },
  {
   "cell_type": "code",
   "execution_count": null,
   "metadata": {
    "id": "uqPJCfdB7eAj"
   },
   "outputs": [],
   "source": [
    "df_33_EEG.describe()"
   ]
  },
  {
   "cell_type": "code",
   "execution_count": null,
   "metadata": {
    "id": "c8MP0uvz7t6s"
   },
   "outputs": [],
   "source": [
    "df_33_EEG.head(3)"
   ]
  },
  {
   "cell_type": "code",
   "execution_count": null,
   "metadata": {
    "id": "_OrHOi5i8AYB"
   },
   "outputs": [],
   "source": [
    "df_33_EEG.drop('Elements', axis=1, inplace=True)"
   ]
  },
  {
   "cell_type": "code",
   "execution_count": null,
   "metadata": {
    "id": "Uxlh3GNX8T8D"
   },
   "outputs": [],
   "source": [
    "df_33_EEG['QuestionKey'].unique()"
   ]
  },
  {
   "cell_type": "code",
   "execution_count": null,
   "metadata": {
    "id": "fHMeWOkK8qvS"
   },
   "outputs": [],
   "source": [
    "df_33_EEG['QuestionKey'].fillna('None', inplace=True)"
   ]
  },
  {
   "cell_type": "code",
   "execution_count": null,
   "metadata": {
    "id": "B48_xPxP82Mw"
   },
   "outputs": [],
   "source": [
    "df_33_EEG['QuestionKey'].value_counts()"
   ]
  },
  {
   "cell_type": "code",
   "execution_count": null,
   "metadata": {
    "id": "nrpRq0er9Bm0"
   },
   "outputs": [],
   "source": [
    "df_33_EEG['HeadBandOn'].unique()"
   ]
  },
  {
   "cell_type": "code",
   "execution_count": null,
   "metadata": {
    "id": "nAGte96m9NWJ"
   },
   "outputs": [],
   "source": [
    "df_33_EEG['HeadBandOn'].isnull().sum()"
   ]
  },
  {
   "cell_type": "code",
   "execution_count": null,
   "metadata": {
    "id": "kFXjWRWE9j04"
   },
   "outputs": [],
   "source": [
    "df_33_EEG.shape"
   ]
  },
  {
   "cell_type": "code",
   "execution_count": null,
   "metadata": {
    "id": "jGkzsbB59xtP"
   },
   "outputs": [],
   "source": [
    "df_33_EEG.dropna(inplace=True)"
   ]
  },
  {
   "cell_type": "code",
   "execution_count": null,
   "metadata": {
    "id": "Wyivr82V-B7m"
   },
   "outputs": [],
   "source": [
    "df_33_EEG.shape"
   ]
  },
  {
   "cell_type": "code",
   "execution_count": null,
   "metadata": {
    "id": "7bjlA8Ne-WEw"
   },
   "outputs": [],
   "source": [
    "df_33_EEG.drop('HeadBandOn', axis=1, inplace=True)"
   ]
  },
  {
   "cell_type": "code",
   "execution_count": null,
   "metadata": {
    "id": "oiUCqsY7-vxK"
   },
   "outputs": [],
   "source": [
    "plt.figure(figsize=(16,10))\n",
    "sns.heatmap(df_33_EEG.isnull(), cmap='YlGnBu')\n",
    "plt.show()"
   ]
  },
  {
   "cell_type": "markdown",
   "metadata": {
    "id": "PVCieUYd_Qcd"
   },
   "source": [
    "## Status Update\n",
    "\n",
    "- All **null** (or missing) values in the dataset have been handled / eliminated.\n",
    "- There are no remaining null values in any column.\n",
    "- The dataset is now “complete” in the sense that every cell has a valid (non-null) entry.\n"
   ]
  },
  {
   "cell_type": "code",
   "execution_count": null,
   "metadata": {
    "id": "8pslXHAhAaTf"
   },
   "outputs": [],
   "source": [
    "df_33_EEG.columns\n"
   ]
  },
  {
   "cell_type": "code",
   "execution_count": null,
   "metadata": {
    "id": "b1JV7z3yA693"
   },
   "outputs": [],
   "source": [
    "cols = ['Delta_TP9', 'Delta_AF7',\n",
    "       'Delta_AF8', 'Delta_TP10', 'Theta_TP9', 'Theta_AF7', 'Theta_AF8',\n",
    "       'Theta_TP10', 'Alpha_TP9', 'Alpha_AF7', 'Alpha_AF8', 'Alpha_TP10',\n",
    "       'Beta_TP9', 'Beta_AF7', 'Beta_AF8', 'Beta_TP10', 'Gamma_TP9',\n",
    "       'Gamma_AF7', 'Gamma_AF8', 'Gamma_TP10', 'RAW_TP9', 'RAW_AF7', 'RAW_AF8',\n",
    "       'RAW_TP10', 'AUX_RIGHT', 'Accelerometer_X', 'Accelerometer_Y',\n",
    "       'Accelerometer_Z', 'Gyro_X', 'Gyro_Y', 'Gyro_Z',\n",
    "       'HSI_TP9', 'HSI_AF7', 'HSI_AF8', 'HSI_TP10', 'Battery']"
   ]
  },
  {
   "cell_type": "code",
   "execution_count": null,
   "metadata": {
    "id": "78ee12IABThH"
   },
   "outputs": [],
   "source": [
    "from IPython.display import display, Markdown\n",
    "\n",
    "\n",
    "for col in cols:\n",
    "    # Add a markdown cell before each plot for better separation and labeling\n",
    "    display(Markdown(f'### {col} over Time'))\n",
    "    plt.figure(figsize=(16, 10))\n",
    "    plt.plot(df_33_EEG['TimeStamp'], df_33_EEG[col])\n",
    "    plt.xlabel(\"TimeStamp\") # Add x-axis label\n",
    "    plt.ylabel(col) # Add y-axis label\n",
    "    plt.show()"
   ]
  },
  {
   "cell_type": "code",
   "execution_count": null,
   "metadata": {
    "id": "lCUOlkMYBrHP"
   },
   "outputs": [],
   "source": [
    "plt.figure(figsize=(38,12))\n",
    "sns.heatmap(df_33_EEG.corr(numeric_only=True), cmap='YlGnBu', annot=True)\n",
    "plt.show()"
   ]
  },
  {
   "cell_type": "markdown",
   "metadata": {
    "id": "rLg55S4ICLtB"
   },
   "source": [
    "## Notes & Observations\n",
    "\n",
    "### Dropping `AUX_RIGHT`\n",
    "- The `AUX_RIGHT` channel comes from the auxiliary electrode input of the EEG headset.  \n",
    "- Upon inspection, its values appeared as **flat high-amplitude noise** (750–950 range) without any meaningful oscillatory EEG patterns.  \n",
    "- Correlation analysis also showed **no significant relationship** between `AUX_RIGHT` and other EEG features.  \n",
    "- Since it does not carry useful information and only adds noise/dimensionality, we **dropped `AUX_RIGHT`** from the dataset.\n",
    "\n",
    "\n"
   ]
  },
  {
   "cell_type": "code",
   "execution_count": null,
   "metadata": {
    "id": "QLqaB_86Cngg"
   },
   "outputs": [],
   "source": [
    "df_33_EEG.drop('AUX_RIGHT', axis=1, inplace=True)"
   ]
  },
  {
   "cell_type": "code",
   "execution_count": null,
   "metadata": {
    "id": "JWjJCsjUDfcq"
   },
   "outputs": [],
   "source": [
    "df_33_EEG.head()"
   ]
  },
  {
   "cell_type": "code",
   "execution_count": null,
   "metadata": {
    "id": "rzcIECWtD6eZ"
   },
   "outputs": [],
   "source": [
    "HSI_cols = [\"HSI_TP9\", \"HSI_AF7\", \"HSI_AF8\", \"HSI_TP10\"]"
   ]
  },
  {
   "cell_type": "code",
   "execution_count": null,
   "metadata": {
    "id": "R5fQT0cGEhxZ"
   },
   "outputs": [],
   "source": [
    "for col in HSI_cols:\n",
    "    print(f\"Unique values for {col}: {df_33_EEG[col].unique()}\")"
   ]
  },
  {
   "cell_type": "code",
   "execution_count": null,
   "metadata": {
    "id": "6B5vwKwDE2Sg"
   },
   "outputs": [],
   "source": [
    "df_33_EEG['HSI_TP9'].value_counts()"
   ]
  },
  {
   "cell_type": "code",
   "execution_count": null,
   "metadata": {
    "id": "Mdgijq-_FPC5"
   },
   "outputs": [],
   "source": [
    "df_33_EEG['HSI_TP10'].value_counts()"
   ]
  },
  {
   "cell_type": "code",
   "execution_count": null,
   "metadata": {
    "id": "BjfTvIrdFlHf"
   },
   "outputs": [],
   "source": [
    "df_33_EEG['HSI_AF7'].value_counts()"
   ]
  },
  {
   "cell_type": "code",
   "execution_count": null,
   "metadata": {
    "id": "3uRuRVTJGAW7"
   },
   "outputs": [],
   "source": [
    "df_33_EEG['HSI_AF8'].value_counts()"
   ]
  },
  {
   "cell_type": "code",
   "execution_count": null,
   "metadata": {
    "id": "Zi44GkI1GbI6"
   },
   "outputs": [],
   "source": [
    "df_33_EEG.describe()"
   ]
  },
  {
   "cell_type": "markdown",
   "metadata": {
    "id": "ih4JV0W_G1jf"
   },
   "source": [
    "## Notes & Observations\n",
    "\n",
    "### Handling `HSI_*` Columns\n",
    "- The `HSI_TP9`, `HSI_AF7`, `HSI_AF8`, `HSI_TP10` columns represent **Headset Signal Integrity** for each electrode:  \n",
    "  - `1 = Good connection`  \n",
    "  - `2 = Medium connection`  \n",
    "  - `4 = Bad connection`  \n",
    "- We need to pay attention to these values because:\n",
    "  - Bad connections (`4`) indicate unreliable EEG readings.  \n",
    "  - Medium connections (`2`) may still be usable but should be treated with caution.  \n",
    "- Instead of dropping rows, we will **convert HSI values into binary flags**:  \n",
    "  - **1 = Bad connection present**  \n",
    "  - **0 = Otherwise (Good or Medium)**  \n",
    "- This preserves all data while giving the model information about electrode reliability.  \n",
    "- After creating these flags, the raw `HSI_*` columns can be removed to reduce dimensionality.\n"
   ]
  },
  {
   "cell_type": "code",
   "execution_count": null,
   "metadata": {
    "id": "Uv5ecfS3HUzx"
   },
   "outputs": [],
   "source": [
    "df_33_EEG.head()"
   ]
  },
  {
   "cell_type": "code",
   "execution_count": null,
   "metadata": {
    "id": "-aePKB4pIJxp"
   },
   "outputs": [],
   "source": [
    "signal_flags_values = { 1: 0, 2: 0, 4: 1}"
   ]
  },
  {
   "cell_type": "code",
   "execution_count": null,
   "metadata": {
    "id": "0qDgbuzaIzV_"
   },
   "outputs": [],
   "source": [
    "df_33_EEG['HSI_TP9_flag'] = df_33_EEG['HSI_TP9'].map(signal_flags_values).astype(np.int8)\n",
    "df_33_EEG['HSI_TP10_flag'] = df_33_EEG['HSI_TP10'].map(signal_flags_values).astype(np.int8)\n",
    "df_33_EEG['HSI_AF7_flag'] = df_33_EEG['HSI_AF7'].map(signal_flags_values).astype(np.int8)\n",
    "df_33_EEG['HSI_AF8_flag'] = df_33_EEG['HSI_AF8'].map(signal_flags_values).astype(np.int8)"
   ]
  },
  {
   "cell_type": "code",
   "execution_count": null,
   "metadata": {
    "id": "Eh1gsB2SJcNq"
   },
   "outputs": [],
   "source": [
    "df_33_EEG.drop(['HSI_TP9', 'HSI_TP10', 'HSI_AF7', 'HSI_AF8'], axis=1, inplace=True)"
   ]
  },
  {
   "cell_type": "code",
   "execution_count": null,
   "metadata": {
    "id": "AZlNZPMcJiq4"
   },
   "outputs": [],
   "source": [
    "plt.figure(figsize=(38,12))\n",
    "sns.heatmap(df_33_EEG.corr(numeric_only=True), cmap='YlGnBu', annot=True)a\n",
    "plt.show()"
   ]
  },
  {
   "cell_type": "markdown",
   "metadata": {
    "id": "tL5lzWKgKLNQ"
   },
   "source": [
    "## Notes & Observations\n",
    "\n",
    "### Dropping RAW EEG Channels\n",
    "\n",
    "- The EEG dataset includes `RAW_TP9`, `RAW_AF7`, `RAW_AF8`, `RAW_TP10` columns, which represent the unprocessed voltage readings from each electrode.  \n",
    "- Upon inspection:\n",
    "  - These RAW signals are **highly noisy** and show no clear oscillatory patterns typical of brainwave activity.  \n",
    "  - Correlation analysis with other features shows **very low correlations** (near 0.0), indicating they do not contribute predictive value.  \n",
    "  - Plots of RAW vs. time reveal large fluctuations without meaningful structure.\n",
    "\n",
    "- Reason for dropping:\n",
    "  - The dataset already provides **frequency band powers** (`Delta`, `Theta`, `Alpha`, `Beta`, `Gamma`) for each electrode, which are **derived from RAW signals** and are far more informative.  \n",
    "  - Keeping RAW adds unnecessary dimensionality and noise, which can negatively affect machine learning models.\n",
    "\n",
    "- Action taken:\n",
    "  - `RAW_TP9`, `RAW_AF7`, `RAW_AF8`, `RAW_TP10` are **dropped from preprocessing**.  \n",
    "  - The focus will be on the **precomputed band power features** for all EEG electrodes, which are sufficient for cognitive load prediction and regression tasks.\n"
   ]
  },
  {
   "cell_type": "code",
   "execution_count": null,
   "metadata": {
    "id": "Z4XbO97fKU1d"
   },
   "outputs": [],
   "source": [
    "df_33_EEG.drop(['RAW_TP9',\t'RAW_AF7',\t'RAW_AF8',\t'RAW_TP10'], axis=1, inplace=True)"
   ]
  },
  {
   "cell_type": "code",
   "execution_count": null,
   "metadata": {
    "id": "6IHf1fSOK8b9"
   },
   "outputs": [],
   "source": [
    "df_33_EEG.head()"
   ]
  },
  {
   "cell_type": "code",
   "execution_count": null,
   "metadata": {
    "id": "E04yNBHgLFZw"
   },
   "outputs": [],
   "source": [
    "# Select only the numeric columns for plotting histograms, excluding time-related columns\n",
    "numeric_cols = df_33_EEG.select_dtypes(include=np.number).columns\n",
    "cols_to_plot = [col for col in numeric_cols if col not in ['UnixTime']]\n",
    "\n",
    "# Calculate the number of rows and columns for the grid\n",
    "n_cols = 4  # You can adjust the number of columns as needed\n",
    "n_rows = (len(cols_to_plot) + n_cols - 1) // n_cols\n",
    "\n",
    "plt.figure(figsize=(n_cols * 5, n_rows * 4)) # Adjust figure size as needed\n",
    "\n",
    "for i, col in enumerate(cols_to_plot):\n",
    "    plt.subplot(n_rows, n_cols, i + 1)\n",
    "    sns.histplot(df_33_EEG[col], kde=True)\n",
    "    plt.title(f'Distribution of {col}')\n",
    "    plt.xlabel(col)\n",
    "    plt.ylabel('Frequency')\n",
    "\n",
    "plt.tight_layout()\n",
    "plt.show()"
   ]
  },
  {
   "cell_type": "code",
   "execution_count": null,
   "metadata": {
    "id": "PzpfWXclLxtr"
   },
   "outputs": [],
   "source": [
    "plt.figure(figsize=(38,12))\n",
    "sns.pairplot(df_33_EEG)\n",
    "plt.show()"
   ]
  },
  {
   "cell_type": "markdown",
   "metadata": {
    "id": "RTafx6UL4d1g"
   },
   "source": [
    "# ***24 EGG***"
   ]
  },
  {
   "cell_type": "code",
   "execution_count": null,
   "metadata": {
    "id": "SToOJiOf4K1-"
   },
   "outputs": [],
   "source": [
    "df_34_EEG = pd.read_csv('data/STData/34/34_EEG.csv')"
   ]
  },
  {
   "cell_type": "code",
   "execution_count": null,
   "metadata": {
    "id": "9cgXdOlJ4SGj"
   },
   "outputs": [],
   "source": [
    "df_34_EEG.head()"
   ]
  },
  {
   "cell_type": "code",
   "execution_count": null,
   "metadata": {
    "id": "gYKGZonJ5JwQ"
   },
   "outputs": [],
   "source": [
    "df_34_EEG.shape"
   ]
  },
  {
   "cell_type": "code",
   "execution_count": null,
   "metadata": {
    "id": "Mt6UnZLn5a0B"
   },
   "outputs": [],
   "source": [
    "df_34_EEG.columns"
   ]
  },
  {
   "cell_type": "code",
   "execution_count": null,
   "metadata": {
    "id": "vyfJzKol5skE"
   },
   "outputs": [],
   "source": [
    "df_34_EEG.info()"
   ]
  },
  {
   "cell_type": "code",
   "execution_count": null,
   "metadata": {
    "id": "SmNbWM7g514n"
   },
   "outputs": [],
   "source": [
    "df_34_EEG.isnull().sum()"
   ]
  },
  {
   "cell_type": "code",
   "execution_count": null,
   "metadata": {
    "id": "WT_AyvXN6ADg"
   },
   "outputs": [],
   "source": [
    "plt.figure(figsize=(16,10))\n",
    "sns.heatmap(df_34_EEG.isnull(), cmap='YlGnBu')\n",
    "plt.show()"
   ]
  },
  {
   "cell_type": "markdown",
   "metadata": {
    "id": "n9qVtcaq6NuU"
   },
   "source": [
    "# Notes & Observations\n",
    "\n",
    "- We observe many **null** (or missing) values in the `QuestionKey` and `Elements` columns.  \n",
    "- The nulls in the `QuestionKey` column may not represent “true” nulls. Rather, they follow interval patterns, suggesting that during those periods no question was displayed.  \n",
    "- These missing values in `QuestionKey` require additional investigation and context-aware handling.  \n",
    "- The `Elements` column is almost entirely null; dropping it likely won’t meaningfully impact our data quality.\n"
   ]
  },
  {
   "cell_type": "code",
   "execution_count": null,
   "metadata": {
    "id": "AXu8REOV6xRP"
   },
   "outputs": [],
   "source": [
    "df_34_EEG['QuestionKey'].unique()"
   ]
  },
  {
   "cell_type": "code",
   "execution_count": null,
   "metadata": {
    "id": "feDLJXBT7SHx"
   },
   "outputs": [],
   "source": [
    "df_34_EEG['TimeStamp'] = pd.to_datetime(df_4_EEG['TimeStamp'])"
   ]
  },
  {
   "cell_type": "code",
   "execution_count": null,
   "metadata": {
    "id": "MDHZKITZ7gic"
   },
   "outputs": [],
   "source": [
    "df_34_EEG.describe()"
   ]
  },
  {
   "cell_type": "code",
   "execution_count": null,
   "metadata": {
    "id": "Z1aWr5Ux7vGX"
   },
   "outputs": [],
   "source": [
    "df_34_EEG.head(3)"
   ]
  },
  {
   "cell_type": "code",
   "execution_count": null,
   "metadata": {
    "id": "KPskYyjF8BjR"
   },
   "outputs": [],
   "source": [
    "df_34_EEG.drop('Elements', axis=1, inplace=True)"
   ]
  },
  {
   "cell_type": "code",
   "execution_count": null,
   "metadata": {
    "id": "2DuHvl7J8U_u"
   },
   "outputs": [],
   "source": [
    "df_34_EEG['QuestionKey'].unique()"
   ]
  },
  {
   "cell_type": "code",
   "execution_count": null,
   "metadata": {
    "id": "jeBMl60N8r2r"
   },
   "outputs": [],
   "source": [
    "df_34_EEG['QuestionKey'].fillna('None', inplace=True)"
   ]
  },
  {
   "cell_type": "code",
   "execution_count": null,
   "metadata": {
    "id": "JThYPkiM83Zk"
   },
   "outputs": [],
   "source": [
    "df_34_EEG['QuestionKey'].value_counts()"
   ]
  },
  {
   "cell_type": "code",
   "execution_count": null,
   "metadata": {
    "id": "CpCndFR99Cbf"
   },
   "outputs": [],
   "source": [
    "df_34_EEG['HeadBandOn'].unique()"
   ]
  },
  {
   "cell_type": "code",
   "execution_count": null,
   "metadata": {
    "id": "zB5zOUVi9O8V"
   },
   "outputs": [],
   "source": [
    "df_34_EEG['HeadBandOn'].isnull().sum()"
   ]
  },
  {
   "cell_type": "code",
   "execution_count": null,
   "metadata": {
    "id": "8bq6hIqq9k9a"
   },
   "outputs": [],
   "source": [
    "df_34_EEG.shape"
   ]
  },
  {
   "cell_type": "code",
   "execution_count": null,
   "metadata": {
    "id": "KzXkrhac9zBb"
   },
   "outputs": [],
   "source": [
    "df_34_EEG.dropna(inplace=True)"
   ]
  },
  {
   "cell_type": "code",
   "execution_count": null,
   "metadata": {
    "id": "j4zyhT5y-DoT"
   },
   "outputs": [],
   "source": [
    "df_34_EEG.shape"
   ]
  },
  {
   "cell_type": "code",
   "execution_count": null,
   "metadata": {
    "id": "8hGJxlW3-XXA"
   },
   "outputs": [],
   "source": [
    "df_34_EEG.drop('HeadBandOn', axis=1, inplace=True)"
   ]
  },
  {
   "cell_type": "code",
   "execution_count": null,
   "metadata": {
    "id": "GLyrnFQ--w_V"
   },
   "outputs": [],
   "source": [
    "plt.figure(figsize=(16,10))\n",
    "sns.heatmap(df_34_EEG.isnull(), cmap='YlGnBu')\n",
    "plt.show()"
   ]
  },
  {
   "cell_type": "markdown",
   "metadata": {
    "id": "tNAt85yGAIPM"
   },
   "source": [
    "## Status Update\n",
    "\n",
    "- All **null** (or missing) values in the dataset have been handled / eliminated.\n",
    "- There are no remaining null values in any column.\n",
    "- The dataset is now “complete” in the sense that every cell has a valid (non-null) entry.\n"
   ]
  },
  {
   "cell_type": "code",
   "execution_count": null,
   "metadata": {
    "id": "1SzBODSvAcVH"
   },
   "outputs": [],
   "source": [
    "df_34_EEG.columns\n"
   ]
  },
  {
   "cell_type": "code",
   "execution_count": null,
   "metadata": {
    "id": "sNalUYCkA_48"
   },
   "outputs": [],
   "source": [
    "cols = ['Delta_TP9', 'Delta_AF7',\n",
    "       'Delta_AF8', 'Delta_TP10', 'Theta_TP9', 'Theta_AF7', 'Theta_AF8',\n",
    "       'Theta_TP10', 'Alpha_TP9', 'Alpha_AF7', 'Alpha_AF8', 'Alpha_TP10',\n",
    "       'Beta_TP9', 'Beta_AF7', 'Beta_AF8', 'Beta_TP10', 'Gamma_TP9',\n",
    "       'Gamma_AF7', 'Gamma_AF8', 'Gamma_TP10', 'RAW_TP9', 'RAW_AF7', 'RAW_AF8',\n",
    "       'RAW_TP10', 'AUX_RIGHT', 'Accelerometer_X', 'Accelerometer_Y',\n",
    "       'Accelerometer_Z', 'Gyro_X', 'Gyro_Y', 'Gyro_Z',\n",
    "       'HSI_TP9', 'HSI_AF7', 'HSI_AF8', 'HSI_TP10', 'Battery']"
   ]
  },
  {
   "cell_type": "code",
   "execution_count": null,
   "metadata": {
    "id": "0UX4qBIYBVi7"
   },
   "outputs": [],
   "source": [
    "from IPython.display import display, Markdown\n",
    "\n",
    "\n",
    "for col in cols:\n",
    "    # Add a markdown cell before each plot for better separation and labeling\n",
    "    display(Markdown(f'### {col} over Time'))\n",
    "    plt.figure(figsize=(16, 10))\n",
    "    plt.plot(df_34_EEG['TimeStamp'], df_34_EEG[col])\n",
    "    plt.xlabel(\"TimeStamp\") # Add x-axis label\n",
    "    plt.ylabel(col) # Add y-axis label\n",
    "    plt.show()"
   ]
  },
  {
   "cell_type": "code",
   "execution_count": null,
   "metadata": {
    "id": "1RHCf9-xBwc7"
   },
   "outputs": [],
   "source": [
    "plt.figure(figsize=(38,12))\n",
    "sns.heatmap(df_34_EEG.corr(numeric_only=True), cmap='YlGnBu', annot=True)\n",
    "plt.show()"
   ]
  },
  {
   "cell_type": "markdown",
   "metadata": {
    "id": "SxtV5anLCN51"
   },
   "source": [
    "## Notes & Observations\n",
    "\n",
    "### Dropping `AUX_RIGHT`\n",
    "- The `AUX_RIGHT` channel comes from the auxiliary electrode input of the EEG headset.  \n",
    "- Upon inspection, its values appeared as **flat high-amplitude noise** (750–950 range) without any meaningful oscillatory EEG patterns.  \n",
    "- Correlation analysis also showed **no significant relationship** between `AUX_RIGHT` and other EEG features.  \n",
    "- Since it does not carry useful information and only adds noise/dimensionality, we **dropped `AUX_RIGHT`** from the dataset.\n",
    "\n",
    "\n"
   ]
  },
  {
   "cell_type": "code",
   "execution_count": null,
   "metadata": {
    "id": "gqn1J6_1CpXz"
   },
   "outputs": [],
   "source": [
    "df_34_EEG.drop('AUX_RIGHT', axis=1, inplace=True)"
   ]
  },
  {
   "cell_type": "code",
   "execution_count": null,
   "metadata": {
    "id": "Io3fDppzDhKR"
   },
   "outputs": [],
   "source": [
    "df_34_EEG.head()"
   ]
  },
  {
   "cell_type": "code",
   "execution_count": null,
   "metadata": {
    "id": "cpwrqSSXD8bP"
   },
   "outputs": [],
   "source": [
    "HSI_cols = [\"HSI_TP9\", \"HSI_AF7\", \"HSI_AF8\", \"HSI_TP10\"]"
   ]
  },
  {
   "cell_type": "code",
   "execution_count": null,
   "metadata": {
    "id": "yLBHgpn9Ejk4"
   },
   "outputs": [],
   "source": [
    "for col in HSI_cols:\n",
    "    print(f\"Unique values for {col}: {df_34_EEG[col].unique()}\")"
   ]
  },
  {
   "cell_type": "code",
   "execution_count": null,
   "metadata": {
    "id": "EaMyhI6yE3_o"
   },
   "outputs": [],
   "source": [
    "df_34_EEG['HSI_TP9'].value_counts()"
   ]
  },
  {
   "cell_type": "code",
   "execution_count": null,
   "metadata": {
    "id": "poiyX_BeFQwi"
   },
   "outputs": [],
   "source": [
    "df_34_EEG['HSI_TP10'].value_counts()"
   ]
  },
  {
   "cell_type": "code",
   "execution_count": null,
   "metadata": {
    "id": "_FMC3DFJFnFP"
   },
   "outputs": [],
   "source": [
    "df_34_EEG['HSI_AF7'].value_counts()"
   ]
  },
  {
   "cell_type": "code",
   "execution_count": null,
   "metadata": {
    "id": "hAsr2uXPGD0I"
   },
   "outputs": [],
   "source": [
    "df_34_EEG['HSI_AF8'].value_counts()"
   ]
  },
  {
   "cell_type": "code",
   "execution_count": null,
   "metadata": {
    "id": "FGco5eDaGdsc"
   },
   "outputs": [],
   "source": [
    "df_34_EEG.describe()"
   ]
  },
  {
   "cell_type": "markdown",
   "metadata": {
    "id": "4nA8dkipG3xL"
   },
   "source": [
    "## Notes & Observations\n",
    "\n",
    "### Handling `HSI_*` Columns\n",
    "- The `HSI_TP9`, `HSI_AF7`, `HSI_AF8`, `HSI_TP10` columns represent **Headset Signal Integrity** for each electrode:  \n",
    "  - `1 = Good connection`  \n",
    "  - `2 = Medium connection`  \n",
    "  - `4 = Bad connection`  \n",
    "- We need to pay attention to these values because:\n",
    "  - Bad connections (`4`) indicate unreliable EEG readings.  \n",
    "  - Medium connections (`2`) may still be usable but should be treated with caution.  \n",
    "- Instead of dropping rows, we will **convert HSI values into binary flags**:  \n",
    "  - **1 = Bad connection present**  \n",
    "  - **0 = Otherwise (Good or Medium)**  \n",
    "- This preserves all data while giving the model information about electrode reliability.  \n",
    "- After creating these flags, the raw `HSI_*` columns can be removed to reduce dimensionality.\n"
   ]
  },
  {
   "cell_type": "code",
   "execution_count": null,
   "metadata": {
    "id": "5peJ5Z1VHXXY"
   },
   "outputs": [],
   "source": [
    "df_34_EEG.head()"
   ]
  },
  {
   "cell_type": "code",
   "execution_count": null,
   "metadata": {
    "id": "IIAjcmPLIMsJ"
   },
   "outputs": [],
   "source": [
    "signal_flags_values = { 1: 0, 2: 0, 4: 1}"
   ]
  },
  {
   "cell_type": "code",
   "execution_count": null,
   "metadata": {
    "id": "m0BO3hvdI5Le"
   },
   "outputs": [],
   "source": [
    "df_34_EEG['HSI_TP9_flag'] = df_34_EEG['HSI_TP9'].map(signal_flags_values).astype(np.int8)\n",
    "df_34_EEG['HSI_TP10_flag'] = df_34_EEG['HSI_TP10'].map(signal_flags_values).astype(np.int8)\n",
    "df_34_EEG['HSI_AF7_flag'] = df_34_EEG['HSI_AF7'].map(signal_flags_values).astype(np.int8)\n",
    "df_34_EEG['HSI_AF8_flag'] = df_34_EEG['HSI_AF8'].map(signal_flags_values).astype(np.int8)"
   ]
  },
  {
   "cell_type": "code",
   "execution_count": null,
   "metadata": {
    "id": "M9k_y3hHJZh8"
   },
   "outputs": [],
   "source": [
    "df_34_EEG.drop(['HSI_TP9', 'HSI_TP10', 'HSI_AF7', 'HSI_AF8'], axis=1, inplace=True)"
   ]
  },
  {
   "cell_type": "code",
   "execution_count": null,
   "metadata": {
    "id": "Wt5fmz5ZJlAK"
   },
   "outputs": [],
   "source": [
    "plt.figure(figsize=(38,12))\n",
    "sns.heatmap(df_34_EEG.corr(numeric_only=True), cmap='YlGnBu', annot=True)a\n",
    "plt.show()"
   ]
  },
  {
   "cell_type": "markdown",
   "metadata": {
    "id": "f7XqrK-eKIfo"
   },
   "source": [
    "## Notes & Observations\n",
    "\n",
    "### Dropping RAW EEG Channels\n",
    "\n",
    "- The EEG dataset includes `RAW_TP9`, `RAW_AF7`, `RAW_AF8`, `RAW_TP10` columns, which represent the unprocessed voltage readings from each electrode.  \n",
    "- Upon inspection:\n",
    "  - These RAW signals are **highly noisy** and show no clear oscillatory patterns typical of brainwave activity.  \n",
    "  - Correlation analysis with other features shows **very low correlations** (near 0.0), indicating they do not contribute predictive value.  \n",
    "  - Plots of RAW vs. time reveal large fluctuations without meaningful structure.\n",
    "\n",
    "- Reason for dropping:\n",
    "  - The dataset already provides **frequency band powers** (`Delta`, `Theta`, `Alpha`, `Beta`, `Gamma`) for each electrode, which are **derived from RAW signals** and are far more informative.  \n",
    "  - Keeping RAW adds unnecessary dimensionality and noise, which can negatively affect machine learning models.\n",
    "\n",
    "- Action taken:\n",
    "  - `RAW_TP9`, `RAW_AF7`, `RAW_AF8`, `RAW_TP10` are **dropped from preprocessing**.  \n",
    "  - The focus will be on the **precomputed band power features** for all EEG electrodes, which are sufficient for cognitive load prediction and regression tasks.\n"
   ]
  },
  {
   "cell_type": "code",
   "execution_count": null,
   "metadata": {
    "id": "7qHtDsOcKY5S"
   },
   "outputs": [],
   "source": [
    "df_34_EEG.drop(['RAW_TP9',\t'RAW_AF7',\t'RAW_AF8',\t'RAW_TP10'], axis=1, inplace=True)"
   ]
  },
  {
   "cell_type": "code",
   "execution_count": null,
   "metadata": {
    "id": "SFrLFCsPK6Ez"
   },
   "outputs": [],
   "source": [
    "df_34_EEG.head()"
   ]
  },
  {
   "cell_type": "code",
   "execution_count": null,
   "metadata": {
    "id": "B0KATl2_LIfB"
   },
   "outputs": [],
   "source": [
    "# Select only the numeric columns for plotting histograms, excluding time-related columns\n",
    "numeric_cols = df_34_EEG.select_dtypes(include=np.number).columns\n",
    "cols_to_plot = [col for col in numeric_cols if col not in ['UnixTime']]\n",
    "\n",
    "# Calculate the number of rows and columns for the grid\n",
    "n_cols = 4  # You can adjust the number of columns as needed\n",
    "n_rows = (len(cols_to_plot) + n_cols - 1) // n_cols\n",
    "\n",
    "plt.figure(figsize=(n_cols * 5, n_rows * 4)) # Adjust figure size as needed\n",
    "\n",
    "for i, col in enumerate(cols_to_plot):\n",
    "    plt.subplot(n_rows, n_cols, i + 1)\n",
    "    sns.histplot(df_34_EEG[col], kde=True)\n",
    "    plt.title(f'Distribution of {col}')\n",
    "    plt.xlabel(col)\n",
    "    plt.ylabel('Frequency')\n",
    "\n",
    "plt.tight_layout()\n",
    "plt.show()"
   ]
  },
  {
   "cell_type": "code",
   "execution_count": null,
   "metadata": {
    "id": "NsuNSAEvLul3"
   },
   "outputs": [],
   "source": [
    "plt.figure(figsize=(38,12))\n",
    "sns.pairplot(df_34_EEG)\n",
    "plt.show()"
   ]
  },
  {
   "cell_type": "markdown",
   "metadata": {
    "id": "Nv0aOIrB4iiZ"
   },
   "source": [
    "***25 EGG***"
   ]
  },
  {
   "cell_type": "code",
   "execution_count": null,
   "metadata": {
    "id": "OnmM1tRZ4M8i"
   },
   "outputs": [],
   "source": [
    "df_35_EEG = pd.read_csv('data/STData/35/35_EEG.csv')"
   ]
  },
  {
   "cell_type": "code",
   "execution_count": null,
   "metadata": {
    "id": "RaCwfQ3T4SiM"
   },
   "outputs": [],
   "source": [
    "df_35_EEG.head()"
   ]
  },
  {
   "cell_type": "code",
   "execution_count": null,
   "metadata": {
    "id": "dqscKsUS5KUZ"
   },
   "outputs": [],
   "source": [
    "df_35_EEG.shape"
   ]
  },
  {
   "cell_type": "code",
   "execution_count": null,
   "metadata": {
    "id": "Ldft95iA5hBl"
   },
   "outputs": [],
   "source": [
    "df_35_EEG.columns"
   ]
  },
  {
   "cell_type": "code",
   "execution_count": null,
   "metadata": {
    "id": "ZUEVpPuc5tCy"
   },
   "outputs": [],
   "source": [
    "df_35_EEG.info()"
   ]
  },
  {
   "cell_type": "code",
   "execution_count": null,
   "metadata": {
    "id": "ru2ZNTSe53G8"
   },
   "outputs": [],
   "source": [
    "df_35_EEG.isnull().sum()"
   ]
  },
  {
   "cell_type": "code",
   "execution_count": null,
   "metadata": {
    "id": "TyFiHQYC6C4E"
   },
   "outputs": [],
   "source": [
    "plt.figure(figsize=(16,10))\n",
    "sns.heatmap(df_35_EEG.isnull(), cmap='YlGnBu')\n",
    "plt.show()"
   ]
  },
  {
   "cell_type": "markdown",
   "metadata": {
    "id": "DXlGPBsC6OnA"
   },
   "source": [
    "# Notes & Observations\n",
    "\n",
    "- We observe many **null** (or missing) values in the `QuestionKey` and `Elements` columns.  \n",
    "- The nulls in the `QuestionKey` column may not represent “true” nulls. Rather, they follow interval patterns, suggesting that during those periods no question was displayed.  \n",
    "- These missing values in `QuestionKey` require additional investigation and context-aware handling.  \n",
    "- The `Elements` column is almost entirely null; dropping it likely won’t meaningfully impact our data quality.\n"
   ]
  },
  {
   "cell_type": "code",
   "execution_count": null,
   "metadata": {
    "id": "-QQ75-US6yJt"
   },
   "outputs": [],
   "source": [
    "df_35_EEG['QuestionKey'].unique()"
   ]
  },
  {
   "cell_type": "code",
   "execution_count": null,
   "metadata": {
    "id": "wuxO7_ex7Tan"
   },
   "outputs": [],
   "source": [
    "df_35_EEG['TimeStamp'] = pd.to_datetime(df_35_EEG['TimeStamp'])"
   ]
  },
  {
   "cell_type": "code",
   "execution_count": null,
   "metadata": {
    "id": "NGTPTPWv7hg2"
   },
   "outputs": [],
   "source": [
    "df_35_EEG.describe()"
   ]
  },
  {
   "cell_type": "code",
   "execution_count": null,
   "metadata": {
    "id": "CNZFBMO67wEy"
   },
   "outputs": [],
   "source": [
    "df_35_EEG.head(3)"
   ]
  },
  {
   "cell_type": "code",
   "execution_count": null,
   "metadata": {
    "id": "WbCd2Csl8Crv"
   },
   "outputs": [],
   "source": [
    "df_35_EEG.drop('Elements', axis=1, inplace=True)"
   ]
  },
  {
   "cell_type": "code",
   "execution_count": null,
   "metadata": {
    "id": "G6VM52VC8WHG"
   },
   "outputs": [],
   "source": [
    "df_35_EEG['QuestionKey'].unique()"
   ]
  },
  {
   "cell_type": "code",
   "execution_count": null,
   "metadata": {
    "id": "XpqHvZfT8srC"
   },
   "outputs": [],
   "source": [
    "df_35_EEG['QuestionKey'].fillna('None', inplace=True)"
   ]
  },
  {
   "cell_type": "code",
   "execution_count": null,
   "metadata": {
    "id": "zt04UfvR84ZT"
   },
   "outputs": [],
   "source": [
    "df_35_EEG['QuestionKey'].value_counts()"
   ]
  },
  {
   "cell_type": "code",
   "execution_count": null,
   "metadata": {
    "id": "L4_P3L169Dhq"
   },
   "outputs": [],
   "source": [
    "df_35_EEG['HeadBandOn'].unique()"
   ]
  },
  {
   "cell_type": "code",
   "execution_count": null,
   "metadata": {
    "id": "9jKJA7jH9P8h"
   },
   "outputs": [],
   "source": [
    "df_35_EEG['HeadBandOn'].isnull().sum()"
   ]
  },
  {
   "cell_type": "code",
   "execution_count": null,
   "metadata": {
    "id": "QOi8Is6z9mBH"
   },
   "outputs": [],
   "source": [
    "df_35_EEG.shape"
   ]
  },
  {
   "cell_type": "code",
   "execution_count": null,
   "metadata": {
    "id": "Z_jAbsH-90Mx"
   },
   "outputs": [],
   "source": [
    "df_35_EEG.dropna(inplace=True)"
   ]
  },
  {
   "cell_type": "code",
   "execution_count": null,
   "metadata": {
    "id": "FUpLYnPP-Gyf"
   },
   "outputs": [],
   "source": [
    "df_35_EEG.shape"
   ]
  },
  {
   "cell_type": "code",
   "execution_count": null,
   "metadata": {
    "id": "H2gaZecL-bc0"
   },
   "outputs": [],
   "source": [
    "df_35_EEG.drop('HeadBandOn', axis=1, inplace=True)"
   ]
  },
  {
   "cell_type": "code",
   "execution_count": null,
   "metadata": {
    "id": "GG_Opcyh-yRB"
   },
   "outputs": [],
   "source": [
    "plt.figure(figsize=(16,10))\n",
    "sns.heatmap(df_35_EEG.isnull(), cmap='YlGnBu')\n",
    "plt.show()"
   ]
  },
  {
   "cell_type": "markdown",
   "metadata": {
    "id": "j2tlqsJxAJva"
   },
   "source": [
    "## Status Update\n",
    "\n",
    "- All **null** (or missing) values in the dataset have been handled / eliminated.\n",
    "- There are no remaining null values in any column.\n",
    "- The dataset is now “complete” in the sense that every cell has a valid (non-null) entry.\n"
   ]
  },
  {
   "cell_type": "code",
   "execution_count": null,
   "metadata": {
    "id": "ZeOv9t-2AeHZ"
   },
   "outputs": [],
   "source": [
    "df_35_EEG.columns\n"
   ]
  },
  {
   "cell_type": "code",
   "execution_count": null,
   "metadata": {
    "id": "MTeeT-IPBB6R"
   },
   "outputs": [],
   "source": [
    "cols = ['Delta_TP9', 'Delta_AF7',\n",
    "       'Delta_AF8', 'Delta_TP10', 'Theta_TP9', 'Theta_AF7', 'Theta_AF8',\n",
    "       'Theta_TP10', 'Alpha_TP9', 'Alpha_AF7', 'Alpha_AF8', 'Alpha_TP10',\n",
    "       'Beta_TP9', 'Beta_AF7', 'Beta_AF8', 'Beta_TP10', 'Gamma_TP9',\n",
    "       'Gamma_AF7', 'Gamma_AF8', 'Gamma_TP10', 'RAW_TP9', 'RAW_AF7', 'RAW_AF8',\n",
    "       'RAW_TP10', 'AUX_RIGHT', 'Accelerometer_X', 'Accelerometer_Y',\n",
    "       'Accelerometer_Z', 'Gyro_X', 'Gyro_Y', 'Gyro_Z',\n",
    "       'HSI_TP9', 'HSI_AF7', 'HSI_AF8', 'HSI_TP10', 'Battery']"
   ]
  },
  {
   "cell_type": "code",
   "execution_count": null,
   "metadata": {
    "id": "aI4a0RWtBbkd"
   },
   "outputs": [],
   "source": [
    "from IPython.display import display, Markdown\n",
    "\n",
    "\n",
    "for col in cols:\n",
    "    # Add a markdown cell before each plot for better separation and labeling\n",
    "    display(Markdown(f'### {col} over Time'))\n",
    "    plt.figure(figsize=(16, 10))\n",
    "    plt.plot(df_35_EEG['TimeStamp'], df_35_EEG[col])\n",
    "    plt.xlabel(\"TimeStamp\") # Add x-axis label\n",
    "    plt.ylabel(col) # Add y-axis label\n",
    "    plt.show()"
   ]
  },
  {
   "cell_type": "code",
   "execution_count": null,
   "metadata": {
    "id": "IJEnjrJIByAX"
   },
   "outputs": [],
   "source": [
    "plt.figure(figsize=(38,12))\n",
    "sns.heatmap(df_35_EEG.corr(numeric_only=True), cmap='YlGnBu', annot=True)\n",
    "plt.show()"
   ]
  },
  {
   "cell_type": "markdown",
   "metadata": {
    "id": "KFHwr8zzCPqQ"
   },
   "source": [
    "## Notes & Observations\n",
    "\n",
    "### Dropping `AUX_RIGHT`\n",
    "- The `AUX_RIGHT` channel comes from the auxiliary electrode input of the EEG headset.  \n",
    "- Upon inspection, its values appeared as **flat high-amplitude noise** (750–950 range) without any meaningful oscillatory EEG patterns.  \n",
    "- Correlation analysis also showed **no significant relationship** between `AUX_RIGHT` and other EEG features.  \n",
    "- Since it does not carry useful information and only adds noise/dimensionality, we **dropped `AUX_RIGHT`** from the dataset.\n",
    "\n",
    "\n"
   ]
  },
  {
   "cell_type": "code",
   "execution_count": null,
   "metadata": {
    "id": "4JOANCzYCrFl"
   },
   "outputs": [],
   "source": [
    "df_35_EEG.drop('AUX_RIGHT', axis=1, inplace=True)"
   ]
  },
  {
   "cell_type": "code",
   "execution_count": null,
   "metadata": {
    "id": "xJ12Lo1nDjUx"
   },
   "outputs": [],
   "source": [
    "df_35_EEG.head()"
   ]
  },
  {
   "cell_type": "code",
   "execution_count": null,
   "metadata": {
    "id": "v4Xzb88ND-U_"
   },
   "outputs": [],
   "source": [
    "HSI_cols = [\"HSI_TP9\", \"HSI_AF7\", \"HSI_AF8\", \"HSI_TP10\"]"
   ]
  },
  {
   "cell_type": "code",
   "execution_count": null,
   "metadata": {
    "id": "TGrVMQihElH5"
   },
   "outputs": [],
   "source": [
    "for col in HSI_cols:\n",
    "    print(f\"Unique values for {col}: {df_35_EEG[col].unique()}\")"
   ]
  },
  {
   "cell_type": "code",
   "execution_count": null,
   "metadata": {
    "id": "rdCpVD0KE5se"
   },
   "outputs": [],
   "source": [
    "df_35_EEG['HSI_TP9'].value_counts()"
   ]
  },
  {
   "cell_type": "code",
   "execution_count": null,
   "metadata": {
    "id": "dgYbDVnKFSc1"
   },
   "outputs": [],
   "source": [
    "df_35_EEG['HSI_TP10'].value_counts()"
   ]
  },
  {
   "cell_type": "code",
   "execution_count": null,
   "metadata": {
    "id": "RDFHBUfEFt5D"
   },
   "outputs": [],
   "source": [
    "df_35_EEG['HSI_AF7'].value_counts()"
   ]
  },
  {
   "cell_type": "code",
   "execution_count": null,
   "metadata": {
    "id": "eQNOFtB6GFoQ"
   },
   "outputs": [],
   "source": [
    "df_35_EEG['HSI_AF8'].value_counts()"
   ]
  },
  {
   "cell_type": "code",
   "execution_count": null,
   "metadata": {
    "id": "DhLnGyqZGg6P"
   },
   "outputs": [],
   "source": [
    "df_35_EEG.describe()"
   ]
  },
  {
   "cell_type": "markdown",
   "metadata": {
    "id": "8lVl0Q2CG5uf"
   },
   "source": [
    "## Notes & Observations\n",
    "\n",
    "### Handling `HSI_*` Columns\n",
    "- The `HSI_TP9`, `HSI_AF7`, `HSI_AF8`, `HSI_TP10` columns represent **Headset Signal Integrity** for each electrode:  \n",
    "  - `1 = Good connection`  \n",
    "  - `2 = Medium connection`  \n",
    "  - `4 = Bad connection`  \n",
    "- We need to pay attention to these values because:\n",
    "  - Bad connections (`4`) indicate unreliable EEG readings.  \n",
    "  - Medium connections (`2`) may still be usable but should be treated with caution.  \n",
    "- Instead of dropping rows, we will **convert HSI values into binary flags**:  \n",
    "  - **1 = Bad connection present**  \n",
    "  - **0 = Otherwise (Good or Medium)**  \n",
    "- This preserves all data while giving the model information about electrode reliability.  \n",
    "- After creating these flags, the raw `HSI_*` columns can be removed to reduce dimensionality.\n"
   ]
  },
  {
   "cell_type": "code",
   "execution_count": null,
   "metadata": {
    "id": "vv6RUphXHZ3Z"
   },
   "outputs": [],
   "source": [
    "df_35_EEG.head()"
   ]
  },
  {
   "cell_type": "code",
   "execution_count": null,
   "metadata": {
    "id": "LyenDgleIPKQ"
   },
   "outputs": [],
   "source": [
    "signal_flags_values = { 1: 0, 2: 0, 4: 1}"
   ]
  },
  {
   "cell_type": "code",
   "execution_count": null,
   "metadata": {
    "id": "fzLQShwXI7ew"
   },
   "outputs": [],
   "source": [
    "df_35_EEG['HSI_TP9_flag'] = df_35_EEG['HSI_TP9'].map(signal_flags_values).astype(np.int8)\n",
    "df_35_EEG['HSI_TP10_flag'] = df_35_EEG['HSI_TP10'].map(signal_flags_values).astype(np.int8)\n",
    "df_35_EEG['HSI_AF7_flag'] = df_35_EEG['HSI_AF7'].map(signal_flags_values).astype(np.int8)\n",
    "df_35_EEG['HSI_AF8_flag'] = df_35_EEG['HSI_AF8'].map(signal_flags_values).astype(np.int8)"
   ]
  },
  {
   "cell_type": "code",
   "execution_count": null,
   "metadata": {
    "id": "EuxMHNBCJXeg"
   },
   "outputs": [],
   "source": [
    "df_35_EEG.drop(['HSI_TP9', 'HSI_TP10', 'HSI_AF7', 'HSI_AF8'], axis=1, inplace=True)"
   ]
  },
  {
   "cell_type": "code",
   "execution_count": null,
   "metadata": {
    "id": "nJfEKz1VJnS5"
   },
   "outputs": [],
   "source": [
    "plt.figure(figsize=(38,12))\n",
    "sns.heatmap(df_35_EEG.corr(numeric_only=True), cmap='YlGnBu', annot=True)a\n",
    "plt.show()"
   ]
  },
  {
   "cell_type": "markdown",
   "metadata": {
    "id": "cULkOPm4KFso"
   },
   "source": [
    "## Notes & Observations\n",
    "\n",
    "### Dropping RAW EEG Channels\n",
    "\n",
    "- The EEG dataset includes `RAW_TP9`, `RAW_AF7`, `RAW_AF8`, `RAW_TP10` columns, which represent the unprocessed voltage readings from each electrode.  \n",
    "- Upon inspection:\n",
    "  - These RAW signals are **highly noisy** and show no clear oscillatory patterns typical of brainwave activity.  \n",
    "  - Correlation analysis with other features shows **very low correlations** (near 0.0), indicating they do not contribute predictive value.  \n",
    "  - Plots of RAW vs. time reveal large fluctuations without meaningful structure.\n",
    "\n",
    "- Reason for dropping:\n",
    "  - The dataset already provides **frequency band powers** (`Delta`, `Theta`, `Alpha`, `Beta`, `Gamma`) for each electrode, which are **derived from RAW signals** and are far more informative.  \n",
    "  - Keeping RAW adds unnecessary dimensionality and noise, which can negatively affect machine learning models.\n",
    "\n",
    "- Action taken:\n",
    "  - `RAW_TP9`, `RAW_AF7`, `RAW_AF8`, `RAW_TP10` are **dropped from preprocessing**.  \n",
    "  - The focus will be on the **precomputed band power features** for all EEG electrodes, which are sufficient for cognitive load prediction and regression tasks.\n"
   ]
  },
  {
   "cell_type": "code",
   "execution_count": null,
   "metadata": {
    "id": "_UPIm56dKb0P"
   },
   "outputs": [],
   "source": [
    "df_35_EEG.drop(['RAW_TP9',\t'RAW_AF7',\t'RAW_AF8',\t'RAW_TP10'], axis=1, inplace=True)"
   ]
  },
  {
   "cell_type": "code",
   "execution_count": null,
   "metadata": {
    "id": "AE8WqFHFK36A"
   },
   "outputs": [],
   "source": [
    "df_35_EEG.head()"
   ]
  },
  {
   "cell_type": "code",
   "execution_count": null,
   "metadata": {
    "id": "iNj2_ag8LLZZ"
   },
   "outputs": [],
   "source": [
    "# Select only the numeric columns for plotting histograms, excluding time-related columns\n",
    "numeric_cols = df_35_EEG.select_dtypes(include=np.number).columns\n",
    "cols_to_plot = [col for col in numeric_cols if col not in ['UnixTime']]\n",
    "\n",
    "# Calculate the number of rows and columns for the grid\n",
    "n_cols = 4  # You can adjust the number of columns as needed\n",
    "n_rows = (len(cols_to_plot) + n_cols - 1) // n_cols\n",
    "\n",
    "plt.figure(figsize=(n_cols * 5, n_rows * 4)) # Adjust figure size as needed\n",
    "\n",
    "for i, col in enumerate(cols_to_plot):\n",
    "    plt.subplot(n_rows, n_cols, i + 1)\n",
    "    sns.histplot(df_35_EEG[col], kde=True)\n",
    "    plt.title(f'Distribution of {col}')\n",
    "    plt.xlabel(col)\n",
    "    plt.ylabel('Frequency')\n",
    "\n",
    "plt.tight_layout()\n",
    "plt.show()"
   ]
  },
  {
   "cell_type": "code",
   "execution_count": null,
   "metadata": {
    "id": "VuMkXWZeLrpq"
   },
   "outputs": [],
   "source": [
    "plt.figure(figsize=(38,12))\n",
    "sns.pairplot(df_35_EEG)\n",
    "plt.show()"
   ]
  },
  {
   "cell_type": "markdown",
   "metadata": {
    "id": "du1hbvwR4l8h"
   },
   "source": [
    "# ***26 EGG***"
   ]
  },
  {
   "cell_type": "code",
   "execution_count": null,
   "metadata": {
    "id": "WQUlrYTU4KoK"
   },
   "outputs": [],
   "source": [
    "df_36_EEG = pd.read_csv('data/STData/36/36_EEG.csv')"
   ]
  },
  {
   "cell_type": "code",
   "execution_count": null,
   "metadata": {
    "id": "Ri7_xUIn4THU"
   },
   "outputs": [],
   "source": [
    "df_36_EEG.head()"
   ]
  },
  {
   "cell_type": "code",
   "execution_count": null,
   "metadata": {
    "id": "2h61A9lw5Lwq"
   },
   "outputs": [],
   "source": [
    "df_36_EEG.shape"
   ]
  },
  {
   "cell_type": "code",
   "execution_count": null,
   "metadata": {
    "id": "0HZlZKHx5hpc"
   },
   "outputs": [],
   "source": [
    "df_36_EEG.columns"
   ]
  },
  {
   "cell_type": "code",
   "execution_count": null,
   "metadata": {
    "id": "hGqWKptm5toQ"
   },
   "outputs": [],
   "source": [
    "df_36_EEG.info()"
   ]
  },
  {
   "cell_type": "code",
   "execution_count": null,
   "metadata": {
    "id": "zBUrF0hZ53u6"
   },
   "outputs": [],
   "source": [
    "df_36_EEG.isnull().sum()"
   ]
  },
  {
   "cell_type": "code",
   "execution_count": null,
   "metadata": {
    "id": "0SUGroZg6Dpp"
   },
   "outputs": [],
   "source": [
    "plt.figure(figsize=(16,10))\n",
    "sns.heatmap(df_36_EEG.isnull(), cmap='YlGnBu')\n",
    "plt.show()"
   ]
  },
  {
   "cell_type": "markdown",
   "metadata": {
    "id": "WsY8sNSf6Piw"
   },
   "source": [
    "# Notes & Observations\n",
    "\n",
    "- We observe many **null** (or missing) values in the `QuestionKey` and `Elements` columns.  \n",
    "- The nulls in the `QuestionKey` column may not represent “true” nulls. Rather, they follow interval patterns, suggesting that during those periods no question was displayed.  \n",
    "- These missing values in `QuestionKey` require additional investigation and context-aware handling.  \n",
    "- The `Elements` column is almost entirely null; dropping it likely won’t meaningfully impact our data quality.\n"
   ]
  },
  {
   "cell_type": "code",
   "execution_count": null,
   "metadata": {
    "id": "S4Uj_CJC6y4s"
   },
   "outputs": [],
   "source": [
    "df_36_EEG['QuestionKey'].unique()"
   ]
  },
  {
   "cell_type": "code",
   "execution_count": null,
   "metadata": {
    "id": "0_Te8KP07UO8"
   },
   "outputs": [],
   "source": [
    "df_36_EEG['TimeStamp'] = pd.to_datetime(df_6_EEG['TimeStamp'])"
   ]
  },
  {
   "cell_type": "code",
   "execution_count": null,
   "metadata": {
    "id": "Z3B_X3dV7iUi"
   },
   "outputs": [],
   "source": [
    "df_36_EEG.describe()"
   ]
  },
  {
   "cell_type": "code",
   "execution_count": null,
   "metadata": {
    "id": "hBQRhdi77xDR"
   },
   "outputs": [],
   "source": [
    "df_36_EEG.head(3)"
   ]
  },
  {
   "cell_type": "code",
   "execution_count": null,
   "metadata": {
    "id": "Xv6SrGfd8Dzv"
   },
   "outputs": [],
   "source": [
    "df_36_EEG.drop('Elements', axis=1, inplace=True)"
   ]
  },
  {
   "cell_type": "code",
   "execution_count": null,
   "metadata": {
    "id": "aG1wXPbk8XDp"
   },
   "outputs": [],
   "source": [
    "df_36_EEG['QuestionKey'].unique()"
   ]
  },
  {
   "cell_type": "code",
   "execution_count": null,
   "metadata": {
    "id": "6dd7b4Fz8tyx"
   },
   "outputs": [],
   "source": [
    "df_36_EEG['QuestionKey'].fillna('None', inplace=True)"
   ]
  },
  {
   "cell_type": "code",
   "execution_count": null,
   "metadata": {
    "id": "7pf6IIwR85fT"
   },
   "outputs": [],
   "source": [
    "df_36_EEG['QuestionKey'].value_counts()"
   ]
  },
  {
   "cell_type": "code",
   "execution_count": null,
   "metadata": {
    "id": "AQQo6cNs9Eg1"
   },
   "outputs": [],
   "source": [
    "df_36_EEG['HeadBandOn'].unique()"
   ]
  },
  {
   "cell_type": "code",
   "execution_count": null,
   "metadata": {
    "id": "2q6fPyg29Roi"
   },
   "outputs": [],
   "source": [
    "df_36_EEG['HeadBandOn'].isnull().sum()"
   ]
  },
  {
   "cell_type": "code",
   "execution_count": null,
   "metadata": {
    "id": "5AP_Fy6l9nD4"
   },
   "outputs": [],
   "source": [
    "df_36_EEG.shape"
   ]
  },
  {
   "cell_type": "code",
   "execution_count": null,
   "metadata": {
    "id": "a1v6Md9D92Oy"
   },
   "outputs": [],
   "source": [
    "df_36_EEG.dropna(inplace=True)"
   ]
  },
  {
   "cell_type": "code",
   "execution_count": null,
   "metadata": {
    "id": "uKlQ2-L4-INO"
   },
   "outputs": [],
   "source": [
    "df_36_EEG.shape"
   ]
  },
  {
   "cell_type": "code",
   "execution_count": null,
   "metadata": {
    "id": "RgI_-mOb-ctu"
   },
   "outputs": [],
   "source": [
    "df_36_EEG.drop('HeadBandOn', axis=1, inplace=True)"
   ]
  },
  {
   "cell_type": "code",
   "execution_count": null,
   "metadata": {
    "id": "TWbkPtyC-0Rp"
   },
   "outputs": [],
   "source": [
    "plt.figure(figsize=(16,10))\n",
    "sns.heatmap(df_36_EEG.isnull(), cmap='YlGnBu')\n",
    "plt.show()"
   ]
  },
  {
   "cell_type": "markdown",
   "metadata": {
    "id": "EECPRHcvALGk"
   },
   "source": [
    "## Status Update\n",
    "\n",
    "- All **null** (or missing) values in the dataset have been handled / eliminated.\n",
    "- There are no remaining null values in any column.\n",
    "- The dataset is now “complete” in the sense that every cell has a valid (non-null) entry.\n"
   ]
  },
  {
   "cell_type": "code",
   "execution_count": null,
   "metadata": {
    "id": "NuW4a3SYAreb"
   },
   "outputs": [],
   "source": [
    "df_36_EEG.columns\n"
   ]
  },
  {
   "cell_type": "code",
   "execution_count": null,
   "metadata": {
    "id": "Q68gAcXPBDlS"
   },
   "outputs": [],
   "source": [
    "cols = ['Delta_TP9', 'Delta_AF7',\n",
    "       'Delta_AF8', 'Delta_TP10', 'Theta_TP9', 'Theta_AF7', 'Theta_AF8',\n",
    "       'Theta_TP10', 'Alpha_TP9', 'Alpha_AF7', 'Alpha_AF8', 'Alpha_TP10',\n",
    "       'Beta_TP9', 'Beta_AF7', 'Beta_AF8', 'Beta_TP10', 'Gamma_TP9',\n",
    "       'Gamma_AF7', 'Gamma_AF8', 'Gamma_TP10', 'RAW_TP9', 'RAW_AF7', 'RAW_AF8',\n",
    "       'RAW_TP10', 'AUX_RIGHT', 'Accelerometer_X', 'Accelerometer_Y',\n",
    "       'Accelerometer_Z', 'Gyro_X', 'Gyro_Y', 'Gyro_Z',\n",
    "       'HSI_TP9', 'HSI_AF7', 'HSI_AF8', 'HSI_TP10', 'Battery']"
   ]
  },
  {
   "cell_type": "code",
   "execution_count": null,
   "metadata": {
    "id": "jvmVL_yyBdJn"
   },
   "outputs": [],
   "source": [
    "from IPython.display import display, Markdown\n",
    "\n",
    "\n",
    "for col in cols:\n",
    "    # Add a markdown cell before each plot for better separation and labeling\n",
    "    display(Markdown(f'### {col} over Time'))\n",
    "    plt.figure(figsize=(16, 10))\n",
    "    plt.plot(df_36_EEG['TimeStamp'], df_36_EEG[col])\n",
    "    plt.xlabel(\"TimeStamp\") # Add x-axis label\n",
    "    plt.ylabel(col) # Add y-axis label\n",
    "    plt.show()"
   ]
  },
  {
   "cell_type": "code",
   "execution_count": null,
   "metadata": {
    "id": "qWGf1eUwBzrt"
   },
   "outputs": [],
   "source": [
    "plt.figure(figsize=(38,12))\n",
    "sns.heatmap(df_36_EEG.corr(numeric_only=True), cmap='YlGnBu', annot=True)\n",
    "plt.show()"
   ]
  },
  {
   "cell_type": "markdown",
   "metadata": {
    "id": "XBORM7rmCRpG"
   },
   "source": [
    "## Notes & Observations\n",
    "\n",
    "### Dropping `AUX_RIGHT`\n",
    "- The `AUX_RIGHT` channel comes from the auxiliary electrode input of the EEG headset.  \n",
    "- Upon inspection, its values appeared as **flat high-amplitude noise** (750–950 range) without any meaningful oscillatory EEG patterns.  \n",
    "- Correlation analysis also showed **no significant relationship** between `AUX_RIGHT` and other EEG features.  \n",
    "- Since it does not carry useful information and only adds noise/dimensionality, we **dropped `AUX_RIGHT`** from the dataset.\n",
    "\n",
    "\n"
   ]
  },
  {
   "cell_type": "code",
   "execution_count": null,
   "metadata": {
    "id": "VW1U4y1-Ctbc"
   },
   "outputs": [],
   "source": [
    "df_36_EEG.drop('AUX_RIGHT', axis=1, inplace=True)"
   ]
  },
  {
   "cell_type": "code",
   "execution_count": null,
   "metadata": {
    "id": "MiONvG0PDlEC"
   },
   "outputs": [],
   "source": [
    "df_36_EEG.head()"
   ]
  },
  {
   "cell_type": "code",
   "execution_count": null,
   "metadata": {
    "id": "DG0flg3CEAH6"
   },
   "outputs": [],
   "source": [
    "HSI_cols = [\"HSI_TP9\", \"HSI_AF7\", \"HSI_AF8\", \"HSI_TP10\"]"
   ]
  },
  {
   "cell_type": "code",
   "execution_count": null,
   "metadata": {
    "id": "_WfRaMtREm8h"
   },
   "outputs": [],
   "source": [
    "for col in HSI_cols:\n",
    "    print(f\"Unique values for {col}: {df_36_EEG[col].unique()}\")"
   ]
  },
  {
   "cell_type": "code",
   "execution_count": null,
   "metadata": {
    "id": "UtrBXKXKE8-K"
   },
   "outputs": [],
   "source": [
    "df_36_EEG['HSI_TP9'].value_counts()"
   ]
  },
  {
   "cell_type": "code",
   "execution_count": null,
   "metadata": {
    "id": "B26FGwg2FUH3"
   },
   "outputs": [],
   "source": [
    "df_36_EEG['HSI_TP10'].value_counts()"
   ]
  },
  {
   "cell_type": "code",
   "execution_count": null,
   "metadata": {
    "id": "xBUl892wFv7c"
   },
   "outputs": [],
   "source": [
    "df_36_EEG['HSI_AF7'].value_counts()"
   ]
  },
  {
   "cell_type": "code",
   "execution_count": null,
   "metadata": {
    "id": "_PfYdeXrGHv5"
   },
   "outputs": [],
   "source": [
    "df_36_EEG['HSI_AF8'].value_counts()"
   ]
  },
  {
   "cell_type": "code",
   "execution_count": null,
   "metadata": {
    "id": "mPljfyItGirr"
   },
   "outputs": [],
   "source": [
    "df_36_EEG.describe()"
   ]
  },
  {
   "cell_type": "markdown",
   "metadata": {
    "id": "XQOVxxxHG78E"
   },
   "source": [
    "## Notes & Observations\n",
    "\n",
    "### Handling `HSI_*` Columns\n",
    "- The `HSI_TP9`, `HSI_AF7`, `HSI_AF8`, `HSI_TP10` columns represent **Headset Signal Integrity** for each electrode:  \n",
    "  - `1 = Good connection`  \n",
    "  - `2 = Medium connection`  \n",
    "  - `4 = Bad connection`  \n",
    "- We need to pay attention to these values because:\n",
    "  - Bad connections (`4`) indicate unreliable EEG readings.  \n",
    "  - Medium connections (`2`) may still be usable but should be treated with caution.  \n",
    "- Instead of dropping rows, we will **convert HSI values into binary flags**:  \n",
    "  - **1 = Bad connection present**  \n",
    "  - **0 = Otherwise (Good or Medium)**  \n",
    "- This preserves all data while giving the model information about electrode reliability.  \n",
    "- After creating these flags, the raw `HSI_*` columns can be removed to reduce dimensionality.\n"
   ]
  },
  {
   "cell_type": "code",
   "execution_count": null,
   "metadata": {
    "id": "Wxxpv7kiHcsP"
   },
   "outputs": [],
   "source": [
    "df_36_EEG.head()"
   ]
  },
  {
   "cell_type": "code",
   "execution_count": null,
   "metadata": {
    "id": "LSqN6dGRIRhm"
   },
   "outputs": [],
   "source": [
    "signal_flags_values = { 1: 0, 2: 0, 4: 1}"
   ]
  },
  {
   "cell_type": "code",
   "execution_count": null,
   "metadata": {
    "id": "OHJUILiQJBbL"
   },
   "outputs": [],
   "source": [
    "df_36_EEG['HSI_TP9_flag'] = df_36_EEG['HSI_TP9'].map(signal_flags_values).astype(np.int8)\n",
    "df_36_EEG['HSI_TP10_flag'] = df_36_EEG['HSI_TP10'].map(signal_flags_values).astype(np.int8)\n",
    "df_36_EEG['HSI_AF7_flag'] = df_36_EEG['HSI_AF7'].map(signal_flags_values).astype(np.int8)\n",
    "df_36_EEG['HSI_AF8_flag'] = df_36_EEG['HSI_AF8'].map(signal_flags_values).astype(np.int8)"
   ]
  },
  {
   "cell_type": "code",
   "execution_count": null,
   "metadata": {
    "id": "8jU_JWebJVjk"
   },
   "outputs": [],
   "source": [
    "df_36_EEG.drop(['HSI_TP9', 'HSI_TP10', 'HSI_AF7', 'HSI_AF8'], axis=1, inplace=True)"
   ]
  },
  {
   "cell_type": "code",
   "execution_count": null,
   "metadata": {
    "id": "3TzVgPUBJpUT"
   },
   "outputs": [],
   "source": [
    "plt.figure(figsize=(38,12))\n",
    "sns.heatmap(df_36_EEG.corr(numeric_only=True), cmap='YlGnBu', annot=True)a\n",
    "plt.show()"
   ]
  },
  {
   "cell_type": "markdown",
   "metadata": {
    "id": "kmeiM6IuKCnb"
   },
   "source": [
    "## Notes & Observations\n",
    "\n",
    "### Dropping RAW EEG Channels\n",
    "\n",
    "- The EEG dataset includes `RAW_TP9`, `RAW_AF7`, `RAW_AF8`, `RAW_TP10` columns, which represent the unprocessed voltage readings from each electrode.  \n",
    "- Upon inspection:\n",
    "  - These RAW signals are **highly noisy** and show no clear oscillatory patterns typical of brainwave activity.  \n",
    "  - Correlation analysis with other features shows **very low correlations** (near 0.0), indicating they do not contribute predictive value.  \n",
    "  - Plots of RAW vs. time reveal large fluctuations without meaningful structure.\n",
    "\n",
    "- Reason for dropping:\n",
    "  - The dataset already provides **frequency band powers** (`Delta`, `Theta`, `Alpha`, `Beta`, `Gamma`) for each electrode, which are **derived from RAW signals** and are far more informative.  \n",
    "  - Keeping RAW adds unnecessary dimensionality and noise, which can negatively affect machine learning models.\n",
    "\n",
    "- Action taken:\n",
    "  - `RAW_TP9`, `RAW_AF7`, `RAW_AF8`, `RAW_TP10` are **dropped from preprocessing**.  \n",
    "  - The focus will be on the **precomputed band power features** for all EEG electrodes, which are sufficient for cognitive load prediction and regression tasks.\n"
   ]
  },
  {
   "cell_type": "code",
   "execution_count": null,
   "metadata": {
    "id": "iqAznktSKeuI"
   },
   "outputs": [],
   "source": [
    "df_36_EEG.drop(['RAW_TP9',\t'RAW_AF7',\t'RAW_AF8',\t'RAW_TP10'], axis=1, inplace=True)"
   ]
  },
  {
   "cell_type": "code",
   "execution_count": null,
   "metadata": {
    "id": "2WC9t2awK1TK"
   },
   "outputs": [],
   "source": [
    "df_36_EEG.head()"
   ]
  },
  {
   "cell_type": "code",
   "execution_count": null,
   "metadata": {
    "id": "RigIIf5lLPEa"
   },
   "outputs": [],
   "source": [
    "# Select only the numeric columns for plotting histograms, excluding time-related columns\n",
    "numeric_cols = df_36_EEG.select_dtypes(include=np.number).columns\n",
    "cols_to_plot = [col for col in numeric_cols if col not in ['UnixTime']]\n",
    "\n",
    "# Calculate the number of rows and columns for the grid\n",
    "n_cols = 4  # You can adjust the number of columns as needed\n",
    "n_rows = (len(cols_to_plot) + n_cols - 1) // n_cols\n",
    "\n",
    "plt.figure(figsize=(n_cols * 5, n_rows * 4)) # Adjust figure size as needed\n",
    "\n",
    "for i, col in enumerate(cols_to_plot):\n",
    "    plt.subplot(n_rows, n_cols, i + 1)\n",
    "    sns.histplot(df_36_EEG[col], kde=True)\n",
    "    plt.title(f'Distribution of {col}')\n",
    "    plt.xlabel(col)\n",
    "    plt.ylabel('Frequency')\n",
    "\n",
    "plt.tight_layout()\n",
    "plt.show()"
   ]
  },
  {
   "cell_type": "code",
   "execution_count": null,
   "metadata": {
    "id": "ZGeIn9mBLoBa"
   },
   "outputs": [],
   "source": [
    "plt.figure(figsize=(38,12))\n",
    "sns.pairplot(df_36_EEG)\n",
    "plt.show()"
   ]
  },
  {
   "cell_type": "markdown",
   "metadata": {
    "id": "X4E0J7Rt4qAP"
   },
   "source": [
    "***27 EGG***"
   ]
  },
  {
   "cell_type": "code",
   "execution_count": null,
   "metadata": {
    "id": "LsKlqzv54KW4"
   },
   "outputs": [],
   "source": [
    "df_37_EEG = pd.read_csv('data/STData/37/37_EEG.csv')"
   ]
  },
  {
   "cell_type": "code",
   "execution_count": null,
   "metadata": {
    "id": "qaiqaK6b4TkS"
   },
   "outputs": [],
   "source": [
    "df_37_EEG.head()"
   ]
  },
  {
   "cell_type": "code",
   "execution_count": null,
   "metadata": {
    "id": "RVMvnmTC5MVC"
   },
   "outputs": [],
   "source": [
    "df_37_EEG.shape"
   ]
  },
  {
   "cell_type": "code",
   "execution_count": null,
   "metadata": {
    "id": "FxNLmyXc5i77"
   },
   "outputs": [],
   "source": [
    "df_37_EEG.columns"
   ]
  },
  {
   "cell_type": "code",
   "execution_count": null,
   "metadata": {
    "id": "dlMzTcHH5uey"
   },
   "outputs": [],
   "source": [
    "df_37_EEG.info()"
   ]
  },
  {
   "cell_type": "code",
   "execution_count": null,
   "metadata": {
    "id": "VuzLrEzu54M0"
   },
   "outputs": [],
   "source": [
    "df_37_EEG.isnull().sum()"
   ]
  },
  {
   "cell_type": "code",
   "execution_count": null,
   "metadata": {
    "id": "-2Me5gQE6Ed8"
   },
   "outputs": [],
   "source": [
    "plt.figure(figsize=(16,10))\n",
    "sns.heatmap(df_37_EEG.isnull(), cmap='YlGnBu')\n",
    "plt.show()"
   ]
  },
  {
   "cell_type": "markdown",
   "metadata": {
    "id": "j-II5wW_6QXs"
   },
   "source": [
    "# Notes & Observations\n",
    "\n",
    "- We observe many **null** (or missing) values in the `QuestionKey` and `Elements` columns.  \n",
    "- The nulls in the `QuestionKey` column may not represent “true” nulls. Rather, they follow interval patterns, suggesting that during those periods no question was displayed.  \n",
    "- These missing values in `QuestionKey` require additional investigation and context-aware handling.  \n",
    "- The `Elements` column is almost entirely null; dropping it likely won’t meaningfully impact our data quality.\n"
   ]
  },
  {
   "cell_type": "code",
   "execution_count": null,
   "metadata": {
    "id": "DC0T0Ipd60pN"
   },
   "outputs": [],
   "source": [
    "df_37_EEG['QuestionKey'].unique()"
   ]
  },
  {
   "cell_type": "code",
   "execution_count": null,
   "metadata": {
    "id": "pXGluKK37VDr"
   },
   "outputs": [],
   "source": [
    "df_37_EEG['TimeStamp'] = pd.to_datetime(df_37_EEG['TimeStamp'])"
   ]
  },
  {
   "cell_type": "code",
   "execution_count": null,
   "metadata": {
    "id": "76mzI_dP7jQG"
   },
   "outputs": [],
   "source": [
    "df_37_EEG.describe()"
   ]
  },
  {
   "cell_type": "code",
   "execution_count": null,
   "metadata": {
    "id": "dH8GGLWN7x2_"
   },
   "outputs": [],
   "source": [
    "df_37_EEG.head(3)"
   ]
  },
  {
   "cell_type": "code",
   "execution_count": null,
   "metadata": {
    "id": "8wcTCYgf8Fdz"
   },
   "outputs": [],
   "source": [
    "df_37_EEG.drop('Elements', axis=1, inplace=True)"
   ]
  },
  {
   "cell_type": "code",
   "execution_count": null,
   "metadata": {
    "id": "0qWxNcgr8YNr"
   },
   "outputs": [],
   "source": [
    "df_37_EEG['QuestionKey'].unique()"
   ]
  },
  {
   "cell_type": "code",
   "execution_count": null,
   "metadata": {
    "id": "BZQhUfZa8vCf"
   },
   "outputs": [],
   "source": [
    "df_37_EEG['QuestionKey'].fillna('None', inplace=True)"
   ]
  },
  {
   "cell_type": "code",
   "execution_count": null,
   "metadata": {
    "id": "Gr7JVf_O86WT"
   },
   "outputs": [],
   "source": [
    "df_37_EEG['QuestionKey'].value_counts()"
   ]
  },
  {
   "cell_type": "code",
   "execution_count": null,
   "metadata": {
    "id": "Lqm1WH3s9FSb"
   },
   "outputs": [],
   "source": [
    "df_37_EEG['HeadBandOn'].unique()"
   ]
  },
  {
   "cell_type": "code",
   "execution_count": null,
   "metadata": {
    "id": "IMjcJtNN9TWC"
   },
   "outputs": [],
   "source": [
    "df_37_EEG['HeadBandOn'].isnull().sum()"
   ]
  },
  {
   "cell_type": "code",
   "execution_count": null,
   "metadata": {
    "id": "VsnJTwGf9oGY"
   },
   "outputs": [],
   "source": [
    "df_37_EEG.shape"
   ]
  },
  {
   "cell_type": "code",
   "execution_count": null,
   "metadata": {
    "id": "M2q5f-3j93as"
   },
   "outputs": [],
   "source": [
    "df_37_EEG.dropna(inplace=True)"
   ]
  },
  {
   "cell_type": "code",
   "execution_count": null,
   "metadata": {
    "id": "3Hfjx-1i-JU0"
   },
   "outputs": [],
   "source": [
    "df_37_EEG.shape"
   ]
  },
  {
   "cell_type": "code",
   "execution_count": null,
   "metadata": {
    "id": "QrIyPddE-eCb"
   },
   "outputs": [],
   "source": [
    "df_37_EEG.drop('HeadBandOn', axis=1, inplace=True)"
   ]
  },
  {
   "cell_type": "code",
   "execution_count": null,
   "metadata": {
    "id": "B80H8bJ6-1d_"
   },
   "outputs": [],
   "source": [
    "plt.figure(figsize=(16,10))\n",
    "sns.heatmap(df_37_EEG.isnull(), cmap='YlGnBu')\n",
    "plt.show()"
   ]
  },
  {
   "cell_type": "markdown",
   "metadata": {
    "id": "W5DlZduNAMhF"
   },
   "source": [
    "## Status Update\n",
    "\n",
    "- All **null** (or missing) values in the dataset have been handled / eliminated.\n",
    "- There are no remaining null values in any column.\n",
    "- The dataset is now “complete” in the sense that every cell has a valid (non-null) entry.\n"
   ]
  },
  {
   "cell_type": "code",
   "execution_count": null,
   "metadata": {
    "id": "ZeuuRvFwAtel"
   },
   "outputs": [],
   "source": [
    "df_37_EEG.columns\n"
   ]
  },
  {
   "cell_type": "code",
   "execution_count": null,
   "metadata": {
    "id": "ZUKH-vYGBFMm"
   },
   "outputs": [],
   "source": [
    "cols = ['Delta_TP9', 'Delta_AF7',\n",
    "       'Delta_AF8', 'Delta_TP10', 'Theta_TP9', 'Theta_AF7', 'Theta_AF8',\n",
    "       'Theta_TP10', 'Alpha_TP9', 'Alpha_AF7', 'Alpha_AF8', 'Alpha_TP10',\n",
    "       'Beta_TP9', 'Beta_AF7', 'Beta_AF8', 'Beta_TP10', 'Gamma_TP9',\n",
    "       'Gamma_AF7', 'Gamma_AF8', 'Gamma_TP10', 'RAW_TP9', 'RAW_AF7', 'RAW_AF8',\n",
    "       'RAW_TP10', 'AUX_RIGHT', 'Accelerometer_X', 'Accelerometer_Y',\n",
    "       'Accelerometer_Z', 'Gyro_X', 'Gyro_Y', 'Gyro_Z',\n",
    "       'HSI_TP9', 'HSI_AF7', 'HSI_AF8', 'HSI_TP10', 'Battery']"
   ]
  },
  {
   "cell_type": "code",
   "execution_count": null,
   "metadata": {
    "id": "Q9_J6tKGBev2"
   },
   "outputs": [],
   "source": [
    "from IPython.display import display, Markdown\n",
    "\n",
    "\n",
    "for col in cols:\n",
    "    # Add a markdown cell before each plot for better separation and labeling\n",
    "    display(Markdown(f'### {col} over Time'))\n",
    "    plt.figure(figsize=(16, 10))\n",
    "    plt.plot(df_37_EEG['TimeStamp'], df_37_EEG[col])\n",
    "    plt.xlabel(\"TimeStamp\") # Add x-axis label\n",
    "    plt.ylabel(col) # Add y-axis label\n",
    "    plt.show()"
   ]
  },
  {
   "cell_type": "code",
   "execution_count": null,
   "metadata": {
    "id": "w3iX3HkaB1Wn"
   },
   "outputs": [],
   "source": [
    "plt.figure(figsize=(38,12))\n",
    "sns.heatmap(df_37_EEG.corr(numeric_only=True), cmap='YlGnBu', annot=True)\n",
    "plt.show()"
   ]
  },
  {
   "cell_type": "markdown",
   "metadata": {
    "id": "nbrRym5uCThJ"
   },
   "source": [
    "## Notes & Observations\n",
    "\n",
    "### Dropping `AUX_RIGHT`\n",
    "- The `AUX_RIGHT` channel comes from the auxiliary electrode input of the EEG headset.  \n",
    "- Upon inspection, its values appeared as **flat high-amplitude noise** (750–950 range) without any meaningful oscillatory EEG patterns.  \n",
    "- Correlation analysis also showed **no significant relationship** between `AUX_RIGHT` and other EEG features.  \n",
    "- Since it does not carry useful information and only adds noise/dimensionality, we **dropped `AUX_RIGHT`** from the dataset.\n",
    "\n",
    "\n"
   ]
  },
  {
   "cell_type": "code",
   "execution_count": null,
   "metadata": {
    "id": "sJoopHZhCvUl"
   },
   "outputs": [],
   "source": [
    "df_37_EEG.drop('AUX_RIGHT', axis=1, inplace=True)"
   ]
  },
  {
   "cell_type": "code",
   "execution_count": null,
   "metadata": {
    "id": "XzvZuuMuDm9o"
   },
   "outputs": [],
   "source": [
    "df_37_EEG.head()"
   ]
  },
  {
   "cell_type": "code",
   "execution_count": null,
   "metadata": {
    "id": "5hEVKQAAECZx"
   },
   "outputs": [],
   "source": [
    "HSI_cols = [\"HSI_TP9\", \"HSI_AF7\", \"HSI_AF8\", \"HSI_TP10\"]"
   ]
  },
  {
   "cell_type": "code",
   "execution_count": null,
   "metadata": {
    "id": "NrFWZ3ccEofr"
   },
   "outputs": [],
   "source": [
    "for col in HSI_cols:\n",
    "    print(f\"Unique values for {col}: {df_37_EEG[col].unique()}\")"
   ]
  },
  {
   "cell_type": "code",
   "execution_count": null,
   "metadata": {
    "id": "7DQOqLuqE-z5"
   },
   "outputs": [],
   "source": [
    "df_37_EEG['HSI_TP9'].value_counts()"
   ]
  },
  {
   "cell_type": "code",
   "execution_count": null,
   "metadata": {
    "id": "zcPm3LjyFVxh"
   },
   "outputs": [],
   "source": [
    "df_37_EEG['HSI_TP10'].value_counts()"
   ]
  },
  {
   "cell_type": "code",
   "execution_count": null,
   "metadata": {
    "id": "4Yx4EE6eFx4w"
   },
   "outputs": [],
   "source": [
    "df_37_EEG['HSI_AF7'].value_counts()"
   ]
  },
  {
   "cell_type": "code",
   "execution_count": null,
   "metadata": {
    "id": "zCgvP2aZGMxM"
   },
   "outputs": [],
   "source": [
    "df_37_EEG['HSI_AF8'].value_counts()"
   ]
  },
  {
   "cell_type": "code",
   "execution_count": null,
   "metadata": {
    "id": "8turK_ciGkun"
   },
   "outputs": [],
   "source": [
    "df_37_EEG.describe()"
   ]
  },
  {
   "cell_type": "markdown",
   "metadata": {
    "id": "Nl7t6zMRG-J7"
   },
   "source": [
    "## Notes & Observations\n",
    "\n",
    "### Handling `HSI_*` Columns\n",
    "- The `HSI_TP9`, `HSI_AF7`, `HSI_AF8`, `HSI_TP10` columns represent **Headset Signal Integrity** for each electrode:  \n",
    "  - `1 = Good connection`  \n",
    "  - `2 = Medium connection`  \n",
    "  - `4 = Bad connection`  \n",
    "- We need to pay attention to these values because:\n",
    "  - Bad connections (`4`) indicate unreliable EEG readings.  \n",
    "  - Medium connections (`2`) may still be usable but should be treated with caution.  \n",
    "- Instead of dropping rows, we will **convert HSI values into binary flags**:  \n",
    "  - **1 = Bad connection present**  \n",
    "  - **0 = Otherwise (Good or Medium)**  \n",
    "- This preserves all data while giving the model information about electrode reliability.  \n",
    "- After creating these flags, the raw `HSI_*` columns can be removed to reduce dimensionality.\n"
   ]
  },
  {
   "cell_type": "code",
   "execution_count": null,
   "metadata": {
    "id": "_scRtDXuHhMy"
   },
   "outputs": [],
   "source": [
    "df_37_EEG.head()"
   ]
  },
  {
   "cell_type": "code",
   "execution_count": null,
   "metadata": {
    "id": "C7AdHvr7IT6h"
   },
   "outputs": [],
   "source": [
    "signal_flags_values = { 1: 0, 2: 0, 4: 1}"
   ]
  },
  {
   "cell_type": "code",
   "execution_count": null,
   "metadata": {
    "id": "kcc2G9BJJDrJ"
   },
   "outputs": [],
   "source": [
    "df_37_EEG['HSI_TP9_flag'] = df_37_EEG['HSI_TP9'].map(signal_flags_values).astype(np.int8)\n",
    "df_37_EEG['HSI_TP10_flag'] = df_37_EEG['HSI_TP10'].map(signal_flags_values).astype(np.int8)\n",
    "df_37_EEG['HSI_AF7_flag'] = df_37_EEG['HSI_AF7'].map(signal_flags_values).astype(np.int8)\n",
    "df_37_EEG['HSI_AF8_flag'] = df_37_EEG['HSI_AF8'].map(signal_flags_values).astype(np.int8)"
   ]
  },
  {
   "cell_type": "code",
   "execution_count": null,
   "metadata": {
    "id": "EJrqLOaDJTsM"
   },
   "outputs": [],
   "source": [
    "df_37_EEG.drop(['HSI_TP9', 'HSI_TP10', 'HSI_AF7', 'HSI_AF8'], axis=1, inplace=True)"
   ]
  },
  {
   "cell_type": "code",
   "execution_count": null,
   "metadata": {
    "id": "LoaRvFkSJr8F"
   },
   "outputs": [],
   "source": [
    "plt.figure(figsize=(38,12))\n",
    "sns.heatmap(df_37_EEG.corr(numeric_only=True), cmap='YlGnBu', annot=True)a\n",
    "plt.show()"
   ]
  },
  {
   "cell_type": "markdown",
   "metadata": {
    "id": "e8oBPkaaKAQD"
   },
   "source": [
    "## Notes & Observations\n",
    "\n",
    "### Dropping RAW EEG Channels\n",
    "\n",
    "- The EEG dataset includes `RAW_TP9`, `RAW_AF7`, `RAW_AF8`, `RAW_TP10` columns, which represent the unprocessed voltage readings from each electrode.  \n",
    "- Upon inspection:\n",
    "  - These RAW signals are **highly noisy** and show no clear oscillatory patterns typical of brainwave activity.  \n",
    "  - Correlation analysis with other features shows **very low correlations** (near 0.0), indicating they do not contribute predictive value.  \n",
    "  - Plots of RAW vs. time reveal large fluctuations without meaningful structure.\n",
    "\n",
    "- Reason for dropping:\n",
    "  - The dataset already provides **frequency band powers** (`Delta`, `Theta`, `Alpha`, `Beta`, `Gamma`) for each electrode, which are **derived from RAW signals** and are far more informative.  \n",
    "  - Keeping RAW adds unnecessary dimensionality and noise, which can negatively affect machine learning models.\n",
    "\n",
    "- Action taken:\n",
    "  - `RAW_TP9`, `RAW_AF7`, `RAW_AF8`, `RAW_TP10` are **dropped from preprocessing**.  \n",
    "  - The focus will be on the **precomputed band power features** for all EEG electrodes, which are sufficient for cognitive load prediction and regression tasks.\n"
   ]
  },
  {
   "cell_type": "code",
   "execution_count": null,
   "metadata": {
    "id": "ctaMvapZKhoB"
   },
   "outputs": [],
   "source": [
    "df_37_EEG.drop(['RAW_TP9',\t'RAW_AF7',\t'RAW_AF8',\t'RAW_TP10'], axis=1, inplace=True)"
   ]
  },
  {
   "cell_type": "code",
   "execution_count": null,
   "metadata": {
    "id": "KQpUbsWBKyx0"
   },
   "outputs": [],
   "source": [
    "df_37_EEG.head()"
   ]
  },
  {
   "cell_type": "code",
   "execution_count": null,
   "metadata": {
    "id": "w7MOm-kgLR8R"
   },
   "outputs": [],
   "source": [
    "# Select only the numeric columns for plotting histograms, excluding time-related columns\n",
    "numeric_cols = df_37_EEG.select_dtypes(include=np.number).columns\n",
    "cols_to_plot = [col for col in numeric_cols if col not in ['UnixTime']]\n",
    "\n",
    "# Calculate the number of rows and columns for the grid\n",
    "n_cols = 4  # You can adjust the number of columns as needed\n",
    "n_rows = (len(cols_to_plot) + n_cols - 1) // n_cols\n",
    "\n",
    "plt.figure(figsize=(n_cols * 5, n_rows * 4)) # Adjust figure size as needed\n",
    "\n",
    "for i, col in enumerate(cols_to_plot):\n",
    "    plt.subplot(n_rows, n_cols, i + 1)\n",
    "    sns.histplot(df_37_EEG[col], kde=True)\n",
    "    plt.title(f'Distribution of {col}')\n",
    "    plt.xlabel(col)\n",
    "    plt.ylabel('Frequency')\n",
    "\n",
    "plt.tight_layout()\n",
    "plt.show()"
   ]
  },
  {
   "cell_type": "code",
   "execution_count": null,
   "metadata": {
    "id": "hDHaddcJLlez"
   },
   "outputs": [],
   "source": [
    "plt.figure(figsize=(38,12))\n",
    "sns.pairplot(df_37_EEG)\n",
    "plt.show()"
   ]
  },
  {
   "cell_type": "markdown",
   "metadata": {
    "id": "S3e6ZZM04ucV"
   },
   "source": [
    "***28 EGG***"
   ]
  },
  {
   "cell_type": "code",
   "execution_count": null,
   "metadata": {
    "id": "O0fbAJpR4T_T"
   },
   "outputs": [],
   "source": [
    "df_38_EEG.head()"
   ]
  },
  {
   "cell_type": "code",
   "execution_count": null,
   "metadata": {
    "id": "kWZC6QtC47Al"
   },
   "outputs": [],
   "source": [
    "df_38_EEG = pd.read_csv('data/STData/8/8_EEG.csv')"
   ]
  },
  {
   "cell_type": "code",
   "execution_count": null,
   "metadata": {
    "id": "jAsUqpwS5M8r"
   },
   "outputs": [],
   "source": [
    "df_38_EEG.shape\n"
   ]
  },
  {
   "cell_type": "code",
   "execution_count": null,
   "metadata": {
    "id": "Q4fgwHqz5jgx"
   },
   "outputs": [],
   "source": [
    "df_38_EEG.columns"
   ]
  },
  {
   "cell_type": "code",
   "execution_count": null,
   "metadata": {
    "id": "T_e25CeJ5vEs"
   },
   "outputs": [],
   "source": [
    "df_38_EEG.info()"
   ]
  },
  {
   "cell_type": "code",
   "execution_count": null,
   "metadata": {
    "id": "9kFKrvGz55hW"
   },
   "outputs": [],
   "source": [
    "df_38_EEG.isnull().sum()"
   ]
  },
  {
   "cell_type": "code",
   "execution_count": null,
   "metadata": {
    "id": "60tZ6FHr6FKr"
   },
   "outputs": [],
   "source": [
    "plt.figure(figsize=(16,10))\n",
    "sns.heatmap(df_38_EEG.isnull(), cmap='YlGnBu')\n",
    "plt.show()"
   ]
  },
  {
   "cell_type": "markdown",
   "metadata": {
    "id": "2tda-pMv6REG"
   },
   "source": [
    "# Notes & Observations\n",
    "\n",
    "- We observe many **null** (or missing) values in the `QuestionKey` and `Elements` columns.  \n",
    "- The nulls in the `QuestionKey` column may not represent “true” nulls. Rather, they follow interval patterns, suggesting that during those periods no question was displayed.  \n",
    "- These missing values in `QuestionKey` require additional investigation and context-aware handling.  \n",
    "- The `Elements` column is almost entirely null; dropping it likely won’t meaningfully impact our data quality.\n"
   ]
  },
  {
   "cell_type": "code",
   "execution_count": null,
   "metadata": {
    "id": "dmeXvFpw6zzQ"
   },
   "outputs": [],
   "source": [
    "df_38_EEG['QuestionKey'].unique()"
   ]
  },
  {
   "cell_type": "code",
   "execution_count": null,
   "metadata": {
    "id": "u0ME5jca7V6f"
   },
   "outputs": [],
   "source": [
    "df_38_EEG['TimeStamp'] = pd.to_datetime(df_38_EEG['TimeStamp'])"
   ]
  },
  {
   "cell_type": "code",
   "execution_count": null,
   "metadata": {
    "id": "_z7pi2Kx7kTh"
   },
   "outputs": [],
   "source": [
    "df_38_EEG.describe()"
   ]
  },
  {
   "cell_type": "code",
   "execution_count": null,
   "metadata": {
    "id": "bXwPhVnf7y96"
   },
   "outputs": [],
   "source": [
    "df_38_EEG.head(3)"
   ]
  },
  {
   "cell_type": "code",
   "execution_count": null,
   "metadata": {
    "id": "UDYXJkwB8Gz-"
   },
   "outputs": [],
   "source": [
    "df_38_EEG.drop('Elements', axis=1, inplace=True)"
   ]
  },
  {
   "cell_type": "code",
   "execution_count": null,
   "metadata": {
    "id": "x2CuSl7C8hx3"
   },
   "outputs": [],
   "source": [
    "df_38_EEG['QuestionKey'].unique()"
   ]
  },
  {
   "cell_type": "code",
   "execution_count": null,
   "metadata": {
    "id": "XnSkXbA38v-f"
   },
   "outputs": [],
   "source": [
    "df_38_EEG['QuestionKey'].fillna('None', inplace=True)"
   ]
  },
  {
   "cell_type": "code",
   "execution_count": null,
   "metadata": {
    "id": "_Czwqwld87Pt"
   },
   "outputs": [],
   "source": [
    "df_38_EEG['QuestionKey'].value_counts()"
   ]
  },
  {
   "cell_type": "code",
   "execution_count": null,
   "metadata": {
    "id": "jaZ-S7309Gsq"
   },
   "outputs": [],
   "source": [
    "df_38_EEG['HeadBandOn'].unique()"
   ]
  },
  {
   "cell_type": "code",
   "execution_count": null,
   "metadata": {
    "id": "5IWpPPBt9UQm"
   },
   "outputs": [],
   "source": [
    "df_38_EEG['HeadBandOn'].isnull().sum()"
   ]
  },
  {
   "cell_type": "code",
   "execution_count": null,
   "metadata": {
    "id": "hMP-hFoJ9pDB"
   },
   "outputs": [],
   "source": [
    "df_38_EEG.shape"
   ]
  },
  {
   "cell_type": "code",
   "execution_count": null,
   "metadata": {
    "id": "8z8zusSB94lO"
   },
   "outputs": [],
   "source": [
    "df_38_EEG.dropna(inplace=True)"
   ]
  },
  {
   "cell_type": "code",
   "execution_count": null,
   "metadata": {
    "id": "aPdIXiS_-K4S"
   },
   "outputs": [],
   "source": [
    "df_38_EEG.shape"
   ]
  },
  {
   "cell_type": "code",
   "execution_count": null,
   "metadata": {
    "id": "wsfWwOh--jmX"
   },
   "outputs": [],
   "source": [
    "df_38_EEG.drop('HeadBandOn', axis=1, inplace=True)"
   ]
  },
  {
   "cell_type": "code",
   "execution_count": null,
   "metadata": {
    "id": "84gm5yD6-20b"
   },
   "outputs": [],
   "source": [
    "plt.figure(figsize=(16,10))\n",
    "sns.heatmap(df_38_EEG.isnull(), cmap='YlGnBu')\n",
    "plt.show()"
   ]
  },
  {
   "cell_type": "markdown",
   "metadata": {
    "id": "IhRuI0eYAN8f"
   },
   "source": [
    "## Status Update\n",
    "\n",
    "- All **null** (or missing) values in the dataset have been handled / eliminated.\n",
    "- There are no remaining null values in any column.\n",
    "- The dataset is now “complete” in the sense that every cell has a valid (non-null) entry.\n"
   ]
  },
  {
   "cell_type": "code",
   "execution_count": null,
   "metadata": {
    "id": "z5-foUESAwBq"
   },
   "outputs": [],
   "source": [
    "df_38_EEG.columns\n"
   ]
  },
  {
   "cell_type": "code",
   "execution_count": null,
   "metadata": {
    "id": "nezoVM9XBGrn"
   },
   "outputs": [],
   "source": [
    "cols = ['Delta_TP9', 'Delta_AF7',\n",
    "       'Delta_AF8', 'Delta_TP10', 'Theta_TP9', 'Theta_AF7', 'Theta_AF8',\n",
    "       'Theta_TP10', 'Alpha_TP9', 'Alpha_AF7', 'Alpha_AF8', 'Alpha_TP10',\n",
    "       'Beta_TP9', 'Beta_AF7', 'Beta_AF8', 'Beta_TP10', 'Gamma_TP9',\n",
    "       'Gamma_AF7', 'Gamma_AF8', 'Gamma_TP10', 'RAW_TP9', 'RAW_AF7', 'RAW_AF8',\n",
    "       'RAW_TP10', 'AUX_RIGHT', 'Accelerometer_X', 'Accelerometer_Y',\n",
    "       'Accelerometer_Z', 'Gyro_X', 'Gyro_Y', 'Gyro_Z',\n",
    "       'HSI_TP9', 'HSI_AF7', 'HSI_AF8', 'HSI_TP10', 'Battery']"
   ]
  },
  {
   "cell_type": "code",
   "execution_count": null,
   "metadata": {
    "id": "QKQ0ziyZBgKs"
   },
   "outputs": [],
   "source": [
    "from IPython.display import display, Markdown\n",
    "\n",
    "\n",
    "for col in cols:\n",
    "    # Add a markdown cell before each plot for better separation and labeling\n",
    "    display(Markdown(f'### {col} over Time'))\n",
    "    plt.figure(figsize=(16, 10))\n",
    "    plt.plot(df_38_EEG['TimeStamp'], df_38_EEG[col])\n",
    "    plt.xlabel(\"TimeStamp\") # Add x-axis label\n",
    "    plt.ylabel(col) # Add y-axis label\n",
    "    plt.show()"
   ]
  },
  {
   "cell_type": "code",
   "execution_count": null,
   "metadata": {
    "id": "ufbQn7R5B28S"
   },
   "outputs": [],
   "source": [
    "plt.figure(figsize=(38,12))\n",
    "sns.heatmap(df_38_EEG.corr(numeric_only=True), cmap='YlGnBu', annot=True)\n",
    "plt.show()"
   ]
  },
  {
   "cell_type": "markdown",
   "metadata": {
    "id": "menIO_k7CVSb"
   },
   "source": [
    "## Notes & Observations\n",
    "\n",
    "### Dropping `AUX_RIGHT`\n",
    "- The `AUX_RIGHT` channel comes from the auxiliary electrode input of the EEG headset.  \n",
    "- Upon inspection, its values appeared as **flat high-amplitude noise** (750–950 range) without any meaningful oscillatory EEG patterns.  \n",
    "- Correlation analysis also showed **no significant relationship** between `AUX_RIGHT` and other EEG features.  \n",
    "- Since it does not carry useful information and only adds noise/dimensionality, we **dropped `AUX_RIGHT`** from the dataset.\n",
    "\n",
    "\n"
   ]
  },
  {
   "cell_type": "code",
   "execution_count": null,
   "metadata": {
    "id": "J5IDrATNCyHB"
   },
   "outputs": [],
   "source": [
    "df_38_EEG.drop('AUX_RIGHT', axis=1, inplace=True)"
   ]
  },
  {
   "cell_type": "code",
   "execution_count": null,
   "metadata": {
    "id": "xcovNgxPDpGA"
   },
   "outputs": [],
   "source": [
    "df_38_EEG.head()"
   ]
  },
  {
   "cell_type": "code",
   "execution_count": null,
   "metadata": {
    "id": "g0hxyZ4eEGkv"
   },
   "outputs": [],
   "source": [
    "HSI_cols = [\"HSI_TP9\", \"HSI_AF7\", \"HSI_AF8\", \"HSI_TP10\"]"
   ]
  },
  {
   "cell_type": "code",
   "execution_count": null,
   "metadata": {
    "id": "oHICoPzjEqW3"
   },
   "outputs": [],
   "source": [
    "for col in HSI_cols:\n",
    "    print(f\"Unique values for {col}: {df_38_EEG[col].unique()}\")"
   ]
  },
  {
   "cell_type": "code",
   "execution_count": null,
   "metadata": {
    "id": "Zz_mQ0_SFA5q"
   },
   "outputs": [],
   "source": [
    "df_38_EEG['HSI_TP9'].value_counts()"
   ]
  },
  {
   "cell_type": "code",
   "execution_count": null,
   "metadata": {
    "id": "kE3oQzqTFYPa"
   },
   "outputs": [],
   "source": [
    "df_38_EEG['HSI_TP10'].value_counts()"
   ]
  },
  {
   "cell_type": "code",
   "execution_count": null,
   "metadata": {
    "id": "-mcIEedwF0IB"
   },
   "outputs": [],
   "source": [
    "df_38_EEG['HSI_AF7'].value_counts()"
   ]
  },
  {
   "cell_type": "code",
   "execution_count": null,
   "metadata": {
    "id": "jNXvH4X7GPVi"
   },
   "outputs": [],
   "source": [
    "df_38_EEG['HSI_AF8'].value_counts()"
   ]
  },
  {
   "cell_type": "code",
   "execution_count": null,
   "metadata": {
    "id": "xHiGRACXGmjS"
   },
   "outputs": [],
   "source": [
    "df_38_EEG.describe()"
   ]
  },
  {
   "cell_type": "markdown",
   "metadata": {
    "id": "6BN2-3dUHAhY"
   },
   "source": [
    "## Notes & Observations\n",
    "\n",
    "### Handling `HSI_*` Columns\n",
    "- The `HSI_TP9`, `HSI_AF7`, `HSI_AF8`, `HSI_TP10` columns represent **Headset Signal Integrity** for each electrode:  \n",
    "  - `1 = Good connection`  \n",
    "  - `2 = Medium connection`  \n",
    "  - `4 = Bad connection`  \n",
    "- We need to pay attention to these values because:\n",
    "  - Bad connections (`4`) indicate unreliable EEG readings.  \n",
    "  - Medium connections (`2`) may still be usable but should be treated with caution.  \n",
    "- Instead of dropping rows, we will **convert HSI values into binary flags**:  \n",
    "  - **1 = Bad connection present**  \n",
    "  - **0 = Otherwise (Good or Medium)**  \n",
    "- This preserves all data while giving the model information about electrode reliability.  \n",
    "- After creating these flags, the raw `HSI_*` columns can be removed to reduce dimensionality.\n"
   ]
  },
  {
   "cell_type": "code",
   "execution_count": null,
   "metadata": {
    "id": "T9rf1Q3KHl1J"
   },
   "outputs": [],
   "source": [
    "df_38_EEG.head()"
   ]
  },
  {
   "cell_type": "code",
   "execution_count": null,
   "metadata": {
    "id": "y_lZf7IiIXDT"
   },
   "outputs": [],
   "source": [
    "signal_flags_values = { 1: 0, 2: 0, 4: 1}"
   ]
  },
  {
   "cell_type": "code",
   "execution_count": null,
   "metadata": {
    "id": "HNzMyvkzJF6N"
   },
   "outputs": [],
   "source": [
    "df_38_EEG['HSI_TP9_flag'] = df_38_EEG['HSI_TP9'].map(signal_flags_values).astype(np.int8)\n",
    "df_38_EEG['HSI_TP10_flag'] = df_38_EEG['HSI_TP10'].map(signal_flags_values).astype(np.int8)\n",
    "df_38_EEG['HSI_AF7_flag'] = df_38_EEG['HSI_AF7'].map(signal_flags_values).astype(np.int8)\n",
    "df_38_EEG['HSI_AF8_flag'] = df_38_EEG['HSI_AF8'].map(signal_flags_values).astype(np.int8)"
   ]
  },
  {
   "cell_type": "code",
   "execution_count": null,
   "metadata": {
    "id": "5pqbzYolJRGl"
   },
   "outputs": [],
   "source": [
    "df_38_EEG.drop(['HSI_TP9', 'HSI_TP10', 'HSI_AF7', 'HSI_AF8'], axis=1, inplace=True)"
   ]
  },
  {
   "cell_type": "code",
   "execution_count": null,
   "metadata": {
    "id": "MjGKK6muJuZc"
   },
   "outputs": [],
   "source": [
    "plt.figure(figsize=(38,12))\n",
    "sns.heatmap(df_38_EEG.corr(numeric_only=True), cmap='YlGnBu', annot=True)a\n",
    "plt.show()"
   ]
  },
  {
   "cell_type": "markdown",
   "metadata": {
    "id": "iSgA6V0DJ9Z1"
   },
   "source": [
    "## Notes & Observations\n",
    "\n",
    "### Dropping RAW EEG Channels\n",
    "\n",
    "- The EEG dataset includes `RAW_TP9`, `RAW_AF7`, `RAW_AF8`, `RAW_TP10` columns, which represent the unprocessed voltage readings from each electrode.  \n",
    "- Upon inspection:\n",
    "  - These RAW signals are **highly noisy** and show no clear oscillatory patterns typical of brainwave activity.  \n",
    "  - Correlation analysis with other features shows **very low correlations** (near 0.0), indicating they do not contribute predictive value.  \n",
    "  - Plots of RAW vs. time reveal large fluctuations without meaningful structure.\n",
    "\n",
    "- Reason for dropping:\n",
    "  - The dataset already provides **frequency band powers** (`Delta`, `Theta`, `Alpha`, `Beta`, `Gamma`) for each electrode, which are **derived from RAW signals** and are far more informative.  \n",
    "  - Keeping RAW adds unnecessary dimensionality and noise, which can negatively affect machine learning models.\n",
    "\n",
    "- Action taken:\n",
    "  - `RAW_TP9`, `RAW_AF7`, `RAW_AF8`, `RAW_TP10` are **dropped from preprocessing**.  \n",
    "  - The focus will be on the **precomputed band power features** for all EEG electrodes, which are sufficient for cognitive load prediction and regression tasks.\n"
   ]
  },
  {
   "cell_type": "code",
   "execution_count": null,
   "metadata": {
    "id": "Rc5onPRFKlAg"
   },
   "outputs": [],
   "source": [
    "df_38_EEG.drop(['RAW_TP9',\t'RAW_AF7',\t'RAW_AF8',\t'RAW_TP10'], axis=1, inplace=True)"
   ]
  },
  {
   "cell_type": "code",
   "execution_count": null,
   "metadata": {
    "id": "FsnAMPPgKwSZ"
   },
   "outputs": [],
   "source": [
    "df_38_EEG.head()"
   ]
  },
  {
   "cell_type": "code",
   "execution_count": null,
   "metadata": {
    "id": "gkxGgteMLUzn"
   },
   "outputs": [],
   "source": [
    "# Select only the numeric columns for plotting histograms, excluding time-related columns\n",
    "numeric_cols = df_38_EEG.select_dtypes(include=np.number).columns\n",
    "cols_to_plot = [col for col in numeric_cols if col not in ['UnixTime']]\n",
    "\n",
    "# Calculate the number of rows and columns for the grid\n",
    "n_cols = 4  # You can adjust the number of columns as needed\n",
    "n_rows = (len(cols_to_plot) + n_cols - 1) // n_cols\n",
    "\n",
    "plt.figure(figsize=(n_cols * 5, n_rows * 4)) # Adjust figure size as needed\n",
    "\n",
    "for i, col in enumerate(cols_to_plot):\n",
    "    plt.subplot(n_rows, n_cols, i + 1)\n",
    "    sns.histplot(df_38_EEG[col], kde=True)\n",
    "    plt.title(f'Distribution of {col}')\n",
    "    plt.xlabel(col)\n",
    "    plt.ylabel('Frequency')\n",
    "\n",
    "plt.tight_layout()\n",
    "plt.show()"
   ]
  },
  {
   "cell_type": "code",
   "execution_count": null,
   "metadata": {
    "id": "_Y0V2gSsLiKR"
   },
   "outputs": [],
   "source": [
    "plt.figure(figsize=(38,12))\n",
    "sns.pairplot(df_38_EEG)\n",
    "plt.show()"
   ]
  },
  {
   "cell_type": "markdown",
   "metadata": {
    "id": "Bl9IooCm48je"
   },
   "source": [
    "***29 EGG***"
   ]
  },
  {
   "cell_type": "code",
   "execution_count": null,
   "metadata": {
    "id": "5ODL-gqa4KFb"
   },
   "outputs": [],
   "source": [
    "df_29_EEG = pd.read_csv('data/STData/29/29_EEG.csv')"
   ]
  },
  {
   "cell_type": "code",
   "execution_count": null,
   "metadata": {
    "id": "Hzh81Z7l4Uje"
   },
   "outputs": [],
   "source": [
    "df_29_EEG.head()"
   ]
  },
  {
   "cell_type": "code",
   "execution_count": null,
   "metadata": {
    "id": "3jGGkrFb5P7h"
   },
   "outputs": [],
   "source": [
    "df_29_EEG.shape"
   ]
  },
  {
   "cell_type": "code",
   "execution_count": null,
   "metadata": {
    "id": "wDaepXv55kKN"
   },
   "outputs": [],
   "source": [
    "df_29_EEG.columns"
   ]
  },
  {
   "cell_type": "code",
   "execution_count": null,
   "metadata": {
    "id": "VNilVNTE5wNK"
   },
   "outputs": [],
   "source": [
    "df_29_EEG.info()"
   ]
  },
  {
   "cell_type": "code",
   "execution_count": null,
   "metadata": {
    "id": "HHQRprtZ56NP"
   },
   "outputs": [],
   "source": [
    "df_29_EEG.isnull().sum()"
   ]
  },
  {
   "cell_type": "code",
   "execution_count": null,
   "metadata": {
    "id": "Kx5srkfJ6Fu6"
   },
   "outputs": [],
   "source": [
    "plt.figure(figsize=(16,10))\n",
    "sns.heatmap(df_29_EEG.isnull(), cmap='YlGnBu')\n",
    "plt.show()"
   ]
  },
  {
   "cell_type": "markdown",
   "metadata": {
    "id": "ku4J_AR26-WN"
   },
   "source": [
    "# Notes & Observations\n",
    "\n",
    "- We observe many **null** (or missing) values in the `QuestionKey` and `Elements` columns.  \n",
    "- The nulls in the `QuestionKey` column may not represent “true” nulls. Rather, they follow interval patterns, suggesting that during those periods no question was displayed.  \n",
    "- These missing values in `QuestionKey` require additional investigation and context-aware handling.  \n",
    "- The `Elements` column is almost entirely null; dropping it likely won’t meaningfully impact our data quality.\n"
   ]
  },
  {
   "cell_type": "code",
   "execution_count": null,
   "metadata": {
    "id": "UdYtsgdI64pL"
   },
   "outputs": [],
   "source": [
    "df_29_EEG['QuestionKey'].unique()"
   ]
  },
  {
   "cell_type": "code",
   "execution_count": null,
   "metadata": {
    "id": "8EzdxaCT7WyH"
   },
   "outputs": [],
   "source": [
    "df_29_EEG['TimeStamp'] = pd.to_datetime(df_29_EEG['TimeStamp'])"
   ]
  },
  {
   "cell_type": "code",
   "execution_count": null,
   "metadata": {
    "id": "vnPEwZzM7lPC"
   },
   "outputs": [],
   "source": [
    "df_29_EEG.describe()"
   ]
  },
  {
   "cell_type": "code",
   "execution_count": null,
   "metadata": {
    "id": "-FysRdvn8H3d"
   },
   "outputs": [],
   "source": [
    "df_29_EEG.drop('Elements', axis=1, inplace=True)"
   ]
  },
  {
   "cell_type": "code",
   "execution_count": null,
   "metadata": {
    "id": "I9PxCTJI8i47"
   },
   "outputs": [],
   "source": [
    "df_29_EEG['QuestionKey'].unique()"
   ]
  },
  {
   "cell_type": "code",
   "execution_count": null,
   "metadata": {
    "id": "R0pGrnM-8xGm"
   },
   "outputs": [],
   "source": [
    "df_29_EEG['QuestionKey'].fillna('None', inplace=True)"
   ]
  },
  {
   "cell_type": "code",
   "execution_count": null,
   "metadata": {
    "id": "5xhJxjR288sD"
   },
   "outputs": [],
   "source": [
    "df_29_EEG['QuestionKey'].value_counts()"
   ]
  },
  {
   "cell_type": "code",
   "execution_count": null,
   "metadata": {
    "id": "U7hztEf19H38"
   },
   "outputs": [],
   "source": [
    "df_29_EEG['HeadBandOn'].unique()"
   ]
  },
  {
   "cell_type": "code",
   "execution_count": null,
   "metadata": {
    "id": "iWRKjqdy9Vxg"
   },
   "outputs": [],
   "source": [
    "df_29_EEG['HeadBandOn'].isnull().sum()"
   ]
  },
  {
   "cell_type": "code",
   "execution_count": null,
   "metadata": {
    "id": "UygQFFn19roB"
   },
   "outputs": [],
   "source": [
    "df_29_EEG.shape"
   ]
  },
  {
   "cell_type": "code",
   "execution_count": null,
   "metadata": {
    "id": "1rOPDnwA952_"
   },
   "outputs": [],
   "source": [
    "df_29_EEG.dropna(inplace=True)"
   ]
  },
  {
   "cell_type": "code",
   "execution_count": null,
   "metadata": {
    "id": "Rg3KfRLl-MT_"
   },
   "outputs": [],
   "source": [
    "df_29_EEG.shape"
   ]
  },
  {
   "cell_type": "code",
   "execution_count": null,
   "metadata": {
    "id": "dLzHmhte-lv4"
   },
   "outputs": [],
   "source": [
    "df_29_EEG.drop('HeadBandOn', axis=1, inplace=True)"
   ]
  },
  {
   "cell_type": "code",
   "execution_count": null,
   "metadata": {
    "id": "FC_zlaou-8Z5"
   },
   "outputs": [],
   "source": [
    "plt.figure(figsize=(16,10))\n",
    "sns.heatmap(df_29_EEG.isnull(), cmap='YlGnBu')\n",
    "plt.show()"
   ]
  },
  {
   "cell_type": "markdown",
   "metadata": {
    "id": "SbW58XjdAPUW"
   },
   "source": [
    "## Status Update\n",
    "\n",
    "- All **null** (or missing) values in the dataset have been handled / eliminated.\n",
    "- There are no remaining null values in any column.\n",
    "- The dataset is now “complete” in the sense that every cell has a valid (non-null) entry.\n"
   ]
  },
  {
   "cell_type": "code",
   "execution_count": null,
   "metadata": {
    "id": "Ri3MHXpEAxvI"
   },
   "outputs": [],
   "source": [
    "df_29_EEG.columns\n"
   ]
  },
  {
   "cell_type": "code",
   "execution_count": null,
   "metadata": {
    "id": "S-hP-2PPBIOW"
   },
   "outputs": [],
   "source": [
    "cols = ['Delta_TP9', 'Delta_AF7',\n",
    "       'Delta_AF8', 'Delta_TP10', 'Theta_TP9', 'Theta_AF7', 'Theta_AF8',\n",
    "       'Theta_TP10', 'Alpha_TP9', 'Alpha_AF7', 'Alpha_AF8', 'Alpha_TP10',\n",
    "       'Beta_TP9', 'Beta_AF7', 'Beta_AF8', 'Beta_TP10', 'Gamma_TP9',\n",
    "       'Gamma_AF7', 'Gamma_AF8', 'Gamma_TP10', 'RAW_TP9', 'RAW_AF7', 'RAW_AF8',\n",
    "       'RAW_TP10', 'AUX_RIGHT', 'Accelerometer_X', 'Accelerometer_Y',\n",
    "       'Accelerometer_Z', 'Gyro_X', 'Gyro_Y', 'Gyro_Z',\n",
    "       'HSI_TP9', 'HSI_AF7', 'HSI_AF8', 'HSI_TP10', 'Battery']"
   ]
  },
  {
   "cell_type": "code",
   "execution_count": null,
   "metadata": {
    "id": "eNePEo1KBhof"
   },
   "outputs": [],
   "source": [
    "from IPython.display import display, Markdown\n",
    "\n",
    "\n",
    "for col in cols:\n",
    "    # Add a markdown cell before each plot for better separation and labeling\n",
    "    display(Markdown(f'### {col} over Time'))\n",
    "    plt.figure(figsize=(16, 10))\n",
    "    plt.plot(df_29_EEG['TimeStamp'], df_29_EEG[col])\n",
    "    plt.xlabel(\"TimeStamp\") # Add x-axis label\n",
    "    plt.ylabel(col) # Add y-axis label\n",
    "    plt.show()"
   ]
  },
  {
   "cell_type": "code",
   "execution_count": null,
   "metadata": {
    "id": "iImG5QfLB4dt"
   },
   "outputs": [],
   "source": [
    "plt.figure(figsize=(38,12))\n",
    "sns.heatmap(df_29_EEG.corr(numeric_only=True), cmap='YlGnBu', annot=True)\n",
    "plt.show()"
   ]
  },
  {
   "cell_type": "markdown",
   "metadata": {
    "id": "VsvYnHahCXOc"
   },
   "source": [
    "## Notes & Observations\n",
    "\n",
    "### Dropping `AUX_RIGHT`\n",
    "- The `AUX_RIGHT` channel comes from the auxiliary electrode input of the EEG headset.  \n",
    "- Upon inspection, its values appeared as **flat high-amplitude noise** (750–950 range) without any meaningful oscillatory EEG patterns.  \n",
    "- Correlation analysis also showed **no significant relationship** between `AUX_RIGHT` and other EEG features.  \n",
    "- Since it does not carry useful information and only adds noise/dimensionality, we **dropped `AUX_RIGHT`** from the dataset.\n",
    "\n",
    "\n"
   ]
  },
  {
   "cell_type": "code",
   "execution_count": null,
   "metadata": {
    "id": "N2QgAJ6fC0Fu"
   },
   "outputs": [],
   "source": [
    "df_29_EEG.drop('AUX_RIGHT', axis=1, inplace=True)"
   ]
  },
  {
   "cell_type": "code",
   "execution_count": null,
   "metadata": {
    "id": "Q-44FjIHDrTB"
   },
   "outputs": [],
   "source": [
    "df_29_EEG.head()"
   ]
  },
  {
   "cell_type": "code",
   "execution_count": null,
   "metadata": {
    "id": "kIQNXa4qEIoE"
   },
   "outputs": [],
   "source": [
    "HSI_cols = [\"HSI_TP9\", \"HSI_AF7\", \"HSI_AF8\", \"HSI_TP10\"]"
   ]
  },
  {
   "cell_type": "code",
   "execution_count": null,
   "metadata": {
    "id": "0zVkb7NdEs56"
   },
   "outputs": [],
   "source": [
    "for col in HSI_cols:\n",
    "    print(f\"Unique values for {col}: {df_29_EEG[col].unique()}\")"
   ]
  },
  {
   "cell_type": "code",
   "execution_count": null,
   "metadata": {
    "id": "ibxyhKHkFC11"
   },
   "outputs": [],
   "source": [
    "df_29_EEG['HSI_TP9'].value_counts()"
   ]
  },
  {
   "cell_type": "code",
   "execution_count": null,
   "metadata": {
    "id": "q1Bjgb7hFaXJ"
   },
   "outputs": [],
   "source": [
    "df_29_EEG['HSI_TP10'].value_counts()"
   ]
  },
  {
   "cell_type": "code",
   "execution_count": null,
   "metadata": {
    "id": "CrJb-S0_F186"
   },
   "outputs": [],
   "source": [
    "df_29_EEG['HSI_AF7'].value_counts()"
   ]
  },
  {
   "cell_type": "code",
   "execution_count": null,
   "metadata": {
    "id": "AshkOBqjGTB_"
   },
   "outputs": [],
   "source": [
    "df_29_EEG['HSI_AF8'].value_counts()"
   ]
  },
  {
   "cell_type": "code",
   "execution_count": null,
   "metadata": {
    "id": "WahaHufgGoYl"
   },
   "outputs": [],
   "source": [
    "df_29_EEG.describe()"
   ]
  },
  {
   "cell_type": "markdown",
   "metadata": {
    "id": "Xs-0UTvTHCwQ"
   },
   "source": [
    "## Notes & Observations\n",
    "\n",
    "### Handling `HSI_*` Columns\n",
    "- The `HSI_TP9`, `HSI_AF7`, `HSI_AF8`, `HSI_TP10` columns represent **Headset Signal Integrity** for each electrode:  \n",
    "  - `1 = Good connection`  \n",
    "  - `2 = Medium connection`  \n",
    "  - `4 = Bad connection`  \n",
    "- We need to pay attention to these values because:\n",
    "  - Bad connections (`4`) indicate unreliable EEG readings.  \n",
    "  - Medium connections (`2`) may still be usable but should be treated with caution.  \n",
    "- Instead of dropping rows, we will **convert HSI values into binary flags**:  \n",
    "  - **1 = Bad connection present**  \n",
    "  - **0 = Otherwise (Good or Medium)**  \n",
    "- This preserves all data while giving the model information about electrode reliability.  \n",
    "- After creating these flags, the raw `HSI_*` columns can be removed to reduce dimensionality.\n"
   ]
  },
  {
   "cell_type": "code",
   "execution_count": null,
   "metadata": {
    "id": "RMWf6EgwHoIV"
   },
   "outputs": [],
   "source": [
    "df_29_EEG.head()"
   ]
  },
  {
   "cell_type": "code",
   "execution_count": null,
   "metadata": {
    "id": "i-cg2lXGIcGP"
   },
   "outputs": [],
   "source": [
    "signal_flags_values = { 1: 0, 2: 0, 4: 1}"
   ]
  },
  {
   "cell_type": "code",
   "execution_count": null,
   "metadata": {
    "id": "BtUz760_JIDe"
   },
   "outputs": [],
   "source": [
    "df_29_EEG['HSI_TP9_flag'] = df_29_EEG['HSI_TP9'].map(signal_flags_values).astype(np.int8)\n",
    "df_29_EEG['HSI_TP10_flag'] = df_29_EEG['HSI_TP10'].map(signal_flags_values).astype(np.int8)\n",
    "df_29_EEG['HSI_AF7_flag'] = df_29_EEG['HSI_AF7'].map(signal_flags_values).astype(np.int8)\n",
    "df_29_EEG['HSI_AF8_flag'] = df_29_EEG['HSI_AF8'].map(signal_flags_values).astype(np.int8)"
   ]
  },
  {
   "cell_type": "code",
   "execution_count": null,
   "metadata": {
    "id": "8VLALIe6JOSE"
   },
   "outputs": [],
   "source": [
    "df_29_EEG.drop(['HSI_TP9', 'HSI_TP10', 'HSI_AF7', 'HSI_AF8'], axis=1, inplace=True)"
   ]
  },
  {
   "cell_type": "code",
   "execution_count": null,
   "metadata": {
    "id": "GvvtmtQJJwxi"
   },
   "outputs": [],
   "source": [
    "plt.figure(figsize=(38,12))\n",
    "sns.heatmap(df_29_EEG.corr(numeric_only=True), cmap='YlGnBu', annot=True)a\n",
    "plt.show()"
   ]
  },
  {
   "cell_type": "markdown",
   "metadata": {
    "id": "D3IRn04dJ6dT"
   },
   "source": [
    "## Notes & Observations\n",
    "\n",
    "### Dropping RAW EEG Channels\n",
    "\n",
    "- The EEG dataset includes `RAW_TP9`, `RAW_AF7`, `RAW_AF8`, `RAW_TP10` columns, which represent the unprocessed voltage readings from each electrode.  \n",
    "- Upon inspection:\n",
    "  - These RAW signals are **highly noisy** and show no clear oscillatory patterns typical of brainwave activity.  \n",
    "  - Correlation analysis with other features shows **very low correlations** (near 0.0), indicating they do not contribute predictive value.  \n",
    "  - Plots of RAW vs. time reveal large fluctuations without meaningful structure.\n",
    "\n",
    "- Reason for dropping:\n",
    "  - The dataset already provides **frequency band powers** (`Delta`, `Theta`, `Alpha`, `Beta`, `Gamma`) for each electrode, which are **derived from RAW signals** and are far more informative.  \n",
    "  - Keeping RAW adds unnecessary dimensionality and noise, which can negatively affect machine learning models.\n",
    "\n",
    "- Action taken:\n",
    "  - `RAW_TP9`, `RAW_AF7`, `RAW_AF8`, `RAW_TP10` are **dropped from preprocessing**.  \n",
    "  - The focus will be on the **precomputed band power features** for all EEG electrodes, which are sufficient for cognitive load prediction and regression tasks.\n"
   ]
  },
  {
   "cell_type": "code",
   "execution_count": null,
   "metadata": {
    "id": "0-T-wxBwKnY1"
   },
   "outputs": [],
   "source": [
    "df_29_EEG.drop(['RAW_TP9',\t'RAW_AF7',\t'RAW_AF8',\t'RAW_TP10'], axis=1, inplace=True)"
   ]
  },
  {
   "cell_type": "code",
   "execution_count": null,
   "metadata": {
    "id": "Q7evc-XNKt6m"
   },
   "outputs": [],
   "source": [
    "df_29_EEG.head()"
   ]
  },
  {
   "cell_type": "code",
   "execution_count": null,
   "metadata": {
    "id": "-Ue7YF7wLXqm"
   },
   "outputs": [],
   "source": [
    "# Select only the numeric columns for plotting histograms, excluding time-related columns\n",
    "numeric_cols = df_29_EEG.select_dtypes(include=np.number).columns\n",
    "cols_to_plot = [col for col in numeric_cols if col not in ['UnixTime']]\n",
    "\n",
    "# Calculate the number of rows and columns for the grid\n",
    "n_cols = 4  # You can adjust the number of columns as needed\n",
    "n_rows = (len(cols_to_plot) + n_cols - 1) // n_cols\n",
    "\n",
    "plt.figure(figsize=(n_cols * 5, n_rows * 4)) # Adjust figure size as needed\n",
    "\n",
    "for i, col in enumerate(cols_to_plot):\n",
    "    plt.subplot(n_rows, n_cols, i + 1)\n",
    "    sns.histplot(df_29_EEG[col], kde=True)\n",
    "    plt.title(f'Distribution of {col}')\n",
    "    plt.xlabel(col)\n",
    "    plt.ylabel('Frequency')\n",
    "\n",
    "plt.tight_layout()\n",
    "plt.show()"
   ]
  },
  {
   "cell_type": "code",
   "execution_count": null,
   "metadata": {
    "id": "Jx4BLVVzLfbY"
   },
   "outputs": [],
   "source": [
    "plt.figure(figsize=(38,12))\n",
    "sns.pairplot(df_29_EEG)\n",
    "plt.show()"
   ]
  },
  {
   "cell_type": "markdown",
   "metadata": {
    "id": "KANGNAx04_X1"
   },
   "source": [
    "***30 EGG***"
   ]
  },
  {
   "cell_type": "code",
   "execution_count": null,
   "metadata": {
    "id": "1NApqiGU4JxW"
   },
   "outputs": [],
   "source": [
    "df_30_EEG = pd.read_csv('data/STData/30/30_EEG.csv')"
   ]
  },
  {
   "cell_type": "code",
   "execution_count": null,
   "metadata": {
    "id": "6ZXEHIE64U7P"
   },
   "outputs": [],
   "source": [
    "df_30_EEG.head()"
   ]
  },
  {
   "cell_type": "code",
   "execution_count": null,
   "metadata": {
    "id": "kEvK5SR15QeD"
   },
   "outputs": [],
   "source": [
    "df_30_EEG.shape"
   ]
  },
  {
   "cell_type": "code",
   "execution_count": null,
   "metadata": {
    "id": "WHKY7BlP5k3B"
   },
   "outputs": [],
   "source": [
    "df_30_EEG.columns"
   ]
  },
  {
   "cell_type": "code",
   "execution_count": null,
   "metadata": {
    "id": "CrUTusGe5xOV"
   },
   "outputs": [],
   "source": [
    "df_30_EEG.info()"
   ]
  },
  {
   "cell_type": "code",
   "execution_count": null,
   "metadata": {
    "id": "5qZXy-9f56wg"
   },
   "outputs": [],
   "source": [
    "df_30_EEG.isnull().sum()"
   ]
  },
  {
   "cell_type": "code",
   "execution_count": null,
   "metadata": {
    "id": "QWHUeCzV6GRS"
   },
   "outputs": [],
   "source": [
    "plt.figure(figsize=(16,10))\n",
    "sns.heatmap(df_30_EEG.isnull(), cmap='YlGnBu')\n",
    "plt.show()"
   ]
  },
  {
   "cell_type": "markdown",
   "metadata": {
    "id": "9f2mKtP-7AlK"
   },
   "source": [
    "# Notes & Observations\n",
    "\n",
    "- We observe many **null** (or missing) values in the `QuestionKey` and `Elements` columns.  \n",
    "- The nulls in the `QuestionKey` column may not represent “true” nulls. Rather, they follow interval patterns, suggesting that during those periods no question was displayed.  \n",
    "- These missing values in `QuestionKey` require additional investigation and context-aware handling.  \n",
    "- The `Elements` column is almost entirely null; dropping it likely won’t meaningfully impact our data quality.\n"
   ]
  },
  {
   "cell_type": "code",
   "execution_count": null,
   "metadata": {
    "id": "AcDtVDT766r-"
   },
   "outputs": [],
   "source": [
    "df_30_EEG['QuestionKey'].unique()"
   ]
  },
  {
   "cell_type": "code",
   "execution_count": null,
   "metadata": {
    "id": "J3jNDtlo7YXm"
   },
   "outputs": [],
   "source": [
    "df_30_EEG['TimeStamp'] = pd.to_datetime(df_30_EEG['TimeStamp'])"
   ]
  },
  {
   "cell_type": "code",
   "execution_count": null,
   "metadata": {
    "id": "JZpO8tyc7m-0"
   },
   "outputs": [],
   "source": [
    "df_30_EEG.describe()"
   ]
  },
  {
   "cell_type": "code",
   "execution_count": null,
   "metadata": {
    "id": "NegSu0ok70kL"
   },
   "outputs": [],
   "source": [
    "df_30_EEG.head(3)"
   ]
  },
  {
   "cell_type": "code",
   "execution_count": null,
   "metadata": {
    "id": "syS3-bJ68IwI"
   },
   "outputs": [],
   "source": [
    "df_30_EEG.drop('Elements', axis=1, inplace=True)"
   ]
  },
  {
   "cell_type": "code",
   "execution_count": null,
   "metadata": {
    "id": "SWn8TK7P8j4t"
   },
   "outputs": [],
   "source": [
    "df_30_EEG['QuestionKey'].unique()"
   ]
  },
  {
   "cell_type": "code",
   "execution_count": null,
   "metadata": {
    "id": "TIo7nMgU8x27"
   },
   "outputs": [],
   "source": [
    "df_30_EEG['QuestionKey'].fillna('None', inplace=True)"
   ]
  },
  {
   "cell_type": "code",
   "execution_count": null,
   "metadata": {
    "id": "7Hx_u6cw89iX"
   },
   "outputs": [],
   "source": [
    "df_30_EEG['QuestionKey'].value_counts()"
   ]
  },
  {
   "cell_type": "code",
   "execution_count": null,
   "metadata": {
    "id": "UvwVLrDu9I08"
   },
   "outputs": [],
   "source": [
    "df_30_EEG['HeadBandOn'].unique()"
   ]
  },
  {
   "cell_type": "code",
   "execution_count": null,
   "metadata": {
    "id": "rS4qN4qN9Xg3"
   },
   "outputs": [],
   "source": [
    "df_30_EEG['HeadBandOn'].isnull().sum()"
   ]
  },
  {
   "cell_type": "code",
   "execution_count": null,
   "metadata": {
    "id": "vH9VDg6I9shw"
   },
   "outputs": [],
   "source": [
    "df_30_EEG.shape"
   ]
  },
  {
   "cell_type": "code",
   "execution_count": null,
   "metadata": {
    "id": "Ga0I1y1P97GQ"
   },
   "outputs": [],
   "source": [
    "df_30_EEG.dropna(inplace=True)"
   ]
  },
  {
   "cell_type": "code",
   "execution_count": null,
   "metadata": {
    "id": "bMoO57R7-NhC"
   },
   "outputs": [],
   "source": [
    "df_30_EEG.shape"
   ]
  },
  {
   "cell_type": "code",
   "execution_count": null,
   "metadata": {
    "id": "LwYvG2Jf-mvI"
   },
   "outputs": [],
   "source": [
    "df_30_EEG.drop('HeadBandOn', axis=1, inplace=True)"
   ]
  },
  {
   "cell_type": "code",
   "execution_count": null,
   "metadata": {
    "id": "k-FOtVDK--Af"
   },
   "outputs": [],
   "source": [
    "plt.figure(figsize=(16,10))\n",
    "sns.heatmap(df_30_EEG.isnull(), cmap='YlGnBu')\n",
    "plt.show()"
   ]
  },
  {
   "cell_type": "markdown",
   "metadata": {
    "id": "d6quV2skAQde"
   },
   "source": [
    "## Status Update\n",
    "\n",
    "- All **null** (or missing) values in the dataset have been handled / eliminated.\n",
    "- There are no remaining null values in any column.\n",
    "- The dataset is now “complete” in the sense that every cell has a valid (non-null) entry.\n"
   ]
  },
  {
   "cell_type": "code",
   "execution_count": null,
   "metadata": {
    "id": "ILaelxAWAzCo"
   },
   "outputs": [],
   "source": [
    "df_30_EEG.columns\n"
   ]
  },
  {
   "cell_type": "code",
   "execution_count": null,
   "metadata": {
    "id": "ZiBzaHQ6BJlG"
   },
   "outputs": [],
   "source": [
    "cols = ['Delta_TP9', 'Delta_AF7',\n",
    "       'Delta_AF8', 'Delta_TP10', 'Theta_TP9', 'Theta_AF7', 'Theta_AF8',\n",
    "       'Theta_TP10', 'Alpha_TP9', 'Alpha_AF7', 'Alpha_AF8', 'Alpha_TP10',\n",
    "       'Beta_TP9', 'Beta_AF7', 'Beta_AF8', 'Beta_TP10', 'Gamma_TP9',\n",
    "       'Gamma_AF7', 'Gamma_AF8', 'Gamma_TP10', 'RAW_TP9', 'RAW_AF7', 'RAW_AF8',\n",
    "       'RAW_TP10', 'AUX_RIGHT', 'Accelerometer_X', 'Accelerometer_Y',\n",
    "       'Accelerometer_Z', 'Gyro_X', 'Gyro_Y', 'Gyro_Z',\n",
    "       'HSI_TP9', 'HSI_AF7', 'HSI_AF8', 'HSI_TP10', 'Battery']"
   ]
  },
  {
   "cell_type": "code",
   "execution_count": null,
   "metadata": {
    "id": "Fd_5zrLbBi_Z"
   },
   "outputs": [],
   "source": [
    "from IPython.display import display, Markdown\n",
    "\n",
    "\n",
    "for col in cols:\n",
    "    # Add a markdown cell before each plot for better separation and labeling\n",
    "    display(Markdown(f'### {col} over Time'))\n",
    "    plt.figure(figsize=(16, 10))\n",
    "    plt.plot(df_30_EEG['TimeStamp'], df_30_EEG[col])\n",
    "    plt.xlabel(\"TimeStamp\") # Add x-axis label\n",
    "    plt.ylabel(col) # Add y-axis label\n",
    "    plt.show()"
   ]
  },
  {
   "cell_type": "code",
   "execution_count": null,
   "metadata": {
    "id": "sxPiHVa2B6Jg"
   },
   "outputs": [],
   "source": [
    "plt.figure(figsize=(38,12))\n",
    "sns.heatmap(df_30_EEG.corr(numeric_only=True), cmap='YlGnBu', annot=True)\n",
    "plt.show()"
   ]
  },
  {
   "cell_type": "markdown",
   "metadata": {
    "id": "rBjEkuV6CYxq"
   },
   "source": [
    "## Notes & Observations\n",
    "\n",
    "### Dropping `AUX_RIGHT`\n",
    "- The `AUX_RIGHT` channel comes from the auxiliary electrode input of the EEG headset.  \n",
    "- Upon inspection, its values appeared as **flat high-amplitude noise** (750–950 range) without any meaningful oscillatory EEG patterns.  \n",
    "- Correlation analysis also showed **no significant relationship** between `AUX_RIGHT` and other EEG features.  \n",
    "- Since it does not carry useful information and only adds noise/dimensionality, we **dropped `AUX_RIGHT`** from the dataset.\n",
    "\n",
    "\n"
   ]
  },
  {
   "cell_type": "code",
   "execution_count": null,
   "metadata": {
    "id": "x-RHAogBC1Tu"
   },
   "outputs": [],
   "source": [
    "df_30_EEG.drop('AUX_RIGHT', axis=1, inplace=True)"
   ]
  },
  {
   "cell_type": "code",
   "execution_count": null,
   "metadata": {
    "id": "wL954WXLDtQs"
   },
   "outputs": [],
   "source": [
    "df_30_EEG.head()"
   ]
  },
  {
   "cell_type": "code",
   "execution_count": null,
   "metadata": {
    "id": "a-eKYOY0EQrK"
   },
   "outputs": [],
   "source": [
    "HSI_cols = [\"HSI_TP9\", \"HSI_AF7\", \"HSI_AF8\", \"HSI_TP10\"]"
   ]
  },
  {
   "cell_type": "code",
   "execution_count": null,
   "metadata": {
    "id": "OpK9OsZZEuaE"
   },
   "outputs": [],
   "source": [
    "for col in HSI_cols:\n",
    "    print(f\"Unique values for {col}: {df_30_EEG[col].unique()}\")"
   ]
  },
  {
   "cell_type": "code",
   "execution_count": null,
   "metadata": {
    "id": "fxRN-OzDFEIO"
   },
   "outputs": [],
   "source": [
    "df_30_EEG['HSI_TP9'].value_counts()"
   ]
  },
  {
   "cell_type": "code",
   "execution_count": null,
   "metadata": {
    "id": "pXFmG_LwFcDj"
   },
   "outputs": [],
   "source": [
    "df_30_EEG['HSI_TP10'].value_counts()"
   ]
  },
  {
   "cell_type": "code",
   "execution_count": null,
   "metadata": {
    "id": "IovN1zRnF3n2"
   },
   "outputs": [],
   "source": [
    "df_30_EEG['HSI_AF7'].value_counts()"
   ]
  },
  {
   "cell_type": "code",
   "execution_count": null,
   "metadata": {
    "id": "lH0-0ahzGUdW"
   },
   "outputs": [],
   "source": [
    "df_30_EEG['HSI_AF8'].value_counts()"
   ]
  },
  {
   "cell_type": "code",
   "execution_count": null,
   "metadata": {
    "id": "SoKEDZGYGqvN"
   },
   "outputs": [],
   "source": [
    "df_30_EEG.describe()"
   ]
  },
  {
   "cell_type": "markdown",
   "metadata": {
    "id": "OluLEWU7HE9J"
   },
   "source": [
    "## Notes & Observations\n",
    "\n",
    "### Handling `HSI_*` Columns\n",
    "- The `HSI_TP9`, `HSI_AF7`, `HSI_AF8`, `HSI_TP10` columns represent **Headset Signal Integrity** for each electrode:  \n",
    "  - `1 = Good connection`  \n",
    "  - `2 = Medium connection`  \n",
    "  - `4 = Bad connection`  \n",
    "- We need to pay attention to these values because:\n",
    "  - Bad connections (`4`) indicate unreliable EEG readings.  \n",
    "  - Medium connections (`2`) may still be usable but should be treated with caution.  \n",
    "- Instead of dropping rows, we will **convert HSI values into binary flags**:  \n",
    "  - **1 = Bad connection present**  \n",
    "  - **0 = Otherwise (Good or Medium)**  \n",
    "- This preserves all data while giving the model information about electrode reliability.  \n",
    "- After creating these flags, the raw `HSI_*` columns can be removed to reduce dimensionality.\n"
   ]
  },
  {
   "cell_type": "code",
   "execution_count": null,
   "metadata": {
    "id": "wa-6bQieHqnU"
   },
   "outputs": [],
   "source": [
    "df_30_EEG.head()"
   ]
  },
  {
   "cell_type": "code",
   "execution_count": null,
   "metadata": {
    "id": "6cU52NI6IeGe"
   },
   "outputs": [],
   "source": [
    "signal_flags_values = { 1: 0, 2: 0, 4: 1}"
   ]
  },
  {
   "cell_type": "code",
   "execution_count": null,
   "metadata": {
    "id": "uBM9mZifJKJY"
   },
   "outputs": [],
   "source": [
    "df_30_EEG['HSI_TP9_flag'] = df_30_EEG['HSI_TP9'].map(signal_flags_values).astype(np.int8)\n",
    "df_30_EEG['HSI_TP10_flag'] = df_30_EEG['HSI_TP10'].map(signal_flags_values).astype(np.int8)\n",
    "df_30_EEG['HSI_AF7_flag'] = df_30_EEG['HSI_AF7'].map(signal_flags_values).astype(np.int8)\n",
    "df_30_EEG['HSI_AF8_flag'] = df_30_EEG['HSI_AF8'].map(signal_flags_values).astype(np.int8)"
   ]
  },
  {
   "cell_type": "code",
   "execution_count": null,
   "metadata": {
    "id": "uFDIeF40JL6o"
   },
   "outputs": [],
   "source": [
    "df_30_EEG.drop(['HSI_TP9', 'HSI_TP10', 'HSI_AF7', 'HSI_AF8'], axis=1, inplace=True)"
   ]
  },
  {
   "cell_type": "code",
   "execution_count": null,
   "metadata": {
    "id": "6Nu8iL9TJyvb"
   },
   "outputs": [],
   "source": [
    "plt.figure(figsize=(38,12))\n",
    "sns.heatmap(df_30_EEG.corr(numeric_only=True), cmap='YlGnBu', annot=True)a\n",
    "plt.show()"
   ]
  },
  {
   "cell_type": "markdown",
   "metadata": {
    "id": "QMF50SeHJ0xS"
   },
   "source": [
    "## Notes & Observations\n",
    "\n",
    "### Dropping RAW EEG Channels\n",
    "\n",
    "- The EEG dataset includes `RAW_TP9`, `RAW_AF7`, `RAW_AF8`, `RAW_TP10` columns, which represent the unprocessed voltage readings from each electrode.  \n",
    "- Upon inspection:\n",
    "  - These RAW signals are **highly noisy** and show no clear oscillatory patterns typical of brainwave activity.  \n",
    "  - Correlation analysis with other features shows **very low correlations** (near 0.0), indicating they do not contribute predictive value.  \n",
    "  - Plots of RAW vs. time reveal large fluctuations without meaningful structure.\n",
    "\n",
    "- Reason for dropping:\n",
    "  - The dataset already provides **frequency band powers** (`Delta`, `Theta`, `Alpha`, `Beta`, `Gamma`) for each electrode, which are **derived from RAW signals** and are far more informative.  \n",
    "  - Keeping RAW adds unnecessary dimensionality and noise, which can negatively affect machine learning models.\n",
    "\n",
    "- Action taken:\n",
    "  - `RAW_TP9`, `RAW_AF7`, `RAW_AF8`, `RAW_TP10` are **dropped from preprocessing**.  \n",
    "  - The focus will be on the **precomputed band power features** for all EEG electrodes, which are sufficient for cognitive load prediction and regression tasks.\n"
   ]
  },
  {
   "cell_type": "code",
   "execution_count": null,
   "metadata": {
    "id": "i9PpIyemKpiN"
   },
   "outputs": [],
   "source": [
    "df_30_EEG.drop(['RAW_TP9',\t'RAW_AF7',\t'RAW_AF8',\t'RAW_TP10'], axis=1, inplace=True)"
   ]
  },
  {
   "cell_type": "code",
   "execution_count": null,
   "metadata": {
    "id": "xXWNZc8hKrQT"
   },
   "outputs": [],
   "source": [
    "df_30_EEG.head()"
   ]
  },
  {
   "cell_type": "code",
   "execution_count": null,
   "metadata": {
    "id": "KxhrjIalLaIE"
   },
   "outputs": [],
   "source": [
    "# Select only the numeric columns for plotting histograms, excluding time-related columns\n",
    "numeric_cols = df_30_EEG.select_dtypes(include=np.number).columns\n",
    "cols_to_plot = [col for col in numeric_cols if col not in ['UnixTime']]\n",
    "\n",
    "# Calculate the number of rows and columns for the grid\n",
    "n_cols = 4  # You can adjust the number of columns as needed\n",
    "n_rows = (len(cols_to_plot) + n_cols - 1) // n_cols\n",
    "\n",
    "plt.figure(figsize=(n_cols * 5, n_rows * 4)) # Adjust figure size as needed\n",
    "\n",
    "for i, col in enumerate(cols_to_plot):\n",
    "    plt.subplot(n_rows, n_cols, i + 1)\n",
    "    sns.histplot(df_30_EEG[col], kde=True)\n",
    "    plt.title(f'Distribution of {col}')\n",
    "    plt.xlabel(col)\n",
    "    plt.ylabel('Frequency')\n",
    "\n",
    "plt.tight_layout()\n",
    "plt.show()"
   ]
  },
  {
   "cell_type": "code",
   "execution_count": null,
   "metadata": {
    "id": "U7Rs3UdwLdDU"
   },
   "outputs": [],
   "source": [
    "plt.figure(figsize=(38,12))\n",
    "sns.pairplot(df_30_EEG)\n",
    "plt.show()"
   ]
  }
 ],
 "metadata": {
  "colab": {
   "provenance": []
  },
  "kernelspec": {
   "display_name": "Python 3",
   "name": "python3"
  },
  "language_info": {
   "name": "python"
  }
 },
 "nbformat": 4,
 "nbformat_minor": 0
}
