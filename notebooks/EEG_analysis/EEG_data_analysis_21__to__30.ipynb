{
  "nbformat": 4,
  "nbformat_minor": 0,
  "metadata": {
    "colab": {
      "provenance": []
    },
    "kernelspec": {
      "name": "python3",
      "display_name": "Python 3"
    },
    "language_info": {
      "name": "python"
    }
  },
  "cells": [
    {
      "cell_type": "code",
      "execution_count": null,
      "metadata": {
        "id": "ScjN7OI3ufvE"
      },
      "outputs": [],
      "source": [
        "#%load_ext cudf\n"
      ]
    },
    {
      "cell_type": "code",
      "source": [
        "import numpy as np\n",
        "import pandas as pd\n",
        "import matplotlib.pyplot as plt\n",
        "import seaborn as sns"
      ],
      "metadata": {
        "id": "AFU1n_fsz4of"
      },
      "execution_count": null,
      "outputs": []
    },
    {
      "cell_type": "code",
      "source": [
        "import datashader as ds\n",
        "import datashader.transfer_functions as tf"
      ],
      "metadata": {
        "id": "jEYekjj2z7aP"
      },
      "execution_count": null,
      "outputs": []
    },
    {
      "cell_type": "code",
      "source": [
        "pd.set_option('display.max_columns', None)"
      ],
      "metadata": {
        "id": "_TZ5wKCBz9DS"
      },
      "execution_count": null,
      "outputs": []
    },
    {
      "cell_type": "markdown",
      "source": [],
      "metadata": {
        "id": "EtVOkFRj0Ca7"
      }
    },
    {
      "cell_type": "markdown",
      "source": [
        "## **21_EEG**\n",
        "\n",
        "\n",
        "\n",
        "\n"
      ],
      "metadata": {
        "id": "qRsbJdE2Rjj9"
      }
    },
    {
      "cell_type": "code",
      "source": [
        "df_21_EEG = pd.read_csv('data/STData/21/21_EEG.csv')"
      ],
      "metadata": {
        "id": "vepp2Dvtz9mc"
      },
      "execution_count": null,
      "outputs": []
    },
    {
      "cell_type": "code",
      "source": [
        "df_21_EEG.head()"
      ],
      "metadata": {
        "id": "n66FpGhBz9pg"
      },
      "execution_count": null,
      "outputs": []
    },
    {
      "cell_type": "code",
      "source": [
        "df_21_EEG.shape"
      ],
      "metadata": {
        "id": "ovrdUDMez9sC"
      },
      "execution_count": null,
      "outputs": []
    },
    {
      "cell_type": "code",
      "source": [
        "df_21_EEG.columns"
      ],
      "metadata": {
        "id": "nz7dO6Xyz9un"
      },
      "execution_count": null,
      "outputs": []
    },
    {
      "cell_type": "code",
      "source": [
        "df_21_EEG.info()"
      ],
      "metadata": {
        "id": "sbwRcSqGz9w2"
      },
      "execution_count": null,
      "outputs": []
    },
    {
      "cell_type": "code",
      "source": [
        "df_21_EEG.isnull().sum()"
      ],
      "metadata": {
        "id": "41_QdmJ1z9zR"
      },
      "execution_count": null,
      "outputs": []
    },
    {
      "cell_type": "code",
      "source": [
        "plt.figure(figsize=(16,10))\n",
        "sns.heatmap(df_21_EEG.isnull(), cmap='YlGnBu')\n",
        "plt.show()"
      ],
      "metadata": {
        "id": "sMqBMrkN0SNN"
      },
      "execution_count": null,
      "outputs": []
    },
    {
      "cell_type": "markdown",
      "source": [
        "# Notes & Observations\n",
        "\n",
        "- We observe many **null** (or missing) values in the `QuestionKey` and `Elements` columns.  \n",
        "- The nulls in the `QuestionKey` column may not represent “true” nulls. Rather, they follow interval patterns, suggesting that during those periods no question was displayed.  \n",
        "- These missing values in `QuestionKey` require additional investigation and context-aware handling.  \n",
        "- The `Elements` column is almost entirely null; dropping it likely won’t meaningfully impact our data quality.\n"
      ],
      "metadata": {
        "id": "Czoo55Wc0Vc7"
      }
    },
    {
      "cell_type": "code",
      "source": [
        "df_21_EEG['QuestionKey'].unique()"
      ],
      "metadata": {
        "id": "MDRxpNUc0WOh"
      },
      "execution_count": null,
      "outputs": []
    },
    {
      "cell_type": "code",
      "source": [
        "df_21_EEG['TimeStamp'] = pd.to_datetime(df_21_EEG['TimeStamp'])"
      ],
      "metadata": {
        "id": "h_VCttwN0ZDT"
      },
      "execution_count": null,
      "outputs": []
    },
    {
      "cell_type": "code",
      "source": [
        "df_21_EEG.describe()"
      ],
      "metadata": {
        "id": "vBrjZpcy0aS3"
      },
      "execution_count": null,
      "outputs": []
    },
    {
      "cell_type": "code",
      "source": [
        "df_21_EEG.head(3)"
      ],
      "metadata": {
        "id": "AsiWFpzq0b4X"
      },
      "execution_count": null,
      "outputs": []
    },
    {
      "cell_type": "code",
      "source": [
        "df_21_EEG.drop('Elements', axis=1, inplace=True)"
      ],
      "metadata": {
        "id": "aeEucjss0dGb"
      },
      "execution_count": null,
      "outputs": []
    },
    {
      "cell_type": "code",
      "source": [
        "df_21_EEG['QuestionKey'].unique()"
      ],
      "metadata": {
        "id": "WYHl2QCf0eWN"
      },
      "execution_count": null,
      "outputs": []
    },
    {
      "cell_type": "code",
      "source": [
        "df_21_EEG['QuestionKey'].fillna('None', inplace=True)"
      ],
      "metadata": {
        "id": "RNLoemKt0fcx"
      },
      "execution_count": null,
      "outputs": []
    },
    {
      "cell_type": "code",
      "source": [
        "df_21_EEG['QuestionKey'].value_counts()"
      ],
      "metadata": {
        "id": "bliTgxXL0gnk"
      },
      "execution_count": null,
      "outputs": []
    },
    {
      "cell_type": "code",
      "source": [
        "df_21_EEG['HeadBandOn'].unique()"
      ],
      "metadata": {
        "id": "5Q33kYqF0iPJ"
      },
      "execution_count": null,
      "outputs": []
    },
    {
      "cell_type": "code",
      "source": [
        "df_21_EEG['HeadBandOn'].isnull().sum()"
      ],
      "metadata": {
        "id": "8RTEkYnA0kNj"
      },
      "execution_count": null,
      "outputs": []
    },
    {
      "cell_type": "code",
      "source": [
        "df_21_EEG.shape"
      ],
      "metadata": {
        "id": "EZh40veq0ll2"
      },
      "execution_count": null,
      "outputs": []
    },
    {
      "cell_type": "code",
      "source": [
        "df_21_EEG.dropna(inplace=True)"
      ],
      "metadata": {
        "id": "HjtFHTmj0m1P"
      },
      "execution_count": null,
      "outputs": []
    },
    {
      "cell_type": "code",
      "source": [
        "df_21_EEG.shape"
      ],
      "metadata": {
        "id": "cJW3EQ960oHQ"
      },
      "execution_count": null,
      "outputs": []
    },
    {
      "cell_type": "code",
      "source": [
        "df_21_EEG.drop('HeadBandOn', axis=1, inplace=True)"
      ],
      "metadata": {
        "id": "hQH3RqoI0qEq"
      },
      "execution_count": null,
      "outputs": []
    },
    {
      "cell_type": "code",
      "source": [
        "plt.figure(figsize=(16,10))\n",
        "sns.heatmap(df_21_EEG.isnull(), cmap='YlGnBu')\n",
        "plt.show()"
      ],
      "metadata": {
        "id": "bHKjK06l0ri8"
      },
      "execution_count": null,
      "outputs": []
    },
    {
      "cell_type": "markdown",
      "source": [
        "## Status Update\n",
        "\n",
        "- All **null** (or missing) values in the dataset have been handled / eliminated.\n",
        "- There are no remaining null values in any column.\n",
        "- The dataset is now “complete” in the sense that every cell has a valid (non-null) entry.\n"
      ],
      "metadata": {
        "id": "zYF1JLuj0uTW"
      }
    },
    {
      "cell_type": "code",
      "source": [
        "df_21_EEG.columns"
      ],
      "metadata": {
        "id": "bQQkGmiy0vXK"
      },
      "execution_count": null,
      "outputs": []
    },
    {
      "cell_type": "code",
      "source": [
        "cols = ['Delta_TP9', 'Delta_AF7',\n",
        "       'Delta_AF8', 'Delta_TP10', 'Theta_TP9', 'Theta_AF7', 'Theta_AF8',\n",
        "       'Theta_TP10', 'Alpha_TP9', 'Alpha_AF7', 'Alpha_AF8', 'Alpha_TP10',\n",
        "       'Beta_TP9', 'Beta_AF7', 'Beta_AF8', 'Beta_TP10', 'Gamma_TP9',\n",
        "       'Gamma_AF7', 'Gamma_AF8', 'Gamma_TP10', 'RAW_TP9', 'RAW_AF7', 'RAW_AF8',\n",
        "       'RAW_TP10', 'AUX_RIGHT', 'Accelerometer_X', 'Accelerometer_Y',\n",
        "       'Accelerometer_Z', 'Gyro_X', 'Gyro_Y', 'Gyro_Z',\n",
        "       'HSI_TP9', 'HSI_AF7', 'HSI_AF8', 'HSI_TP10', 'Battery']"
      ],
      "metadata": {
        "id": "IuHLMWgr0y5z"
      },
      "execution_count": null,
      "outputs": []
    },
    {
      "cell_type": "code",
      "source": [
        "# from IPython.display import display, Markdown\n",
        "\n",
        "# canvas = ds.Canvas(plot_width=1000, plot_height=600)\n",
        "\n",
        "# for col in cols:\n",
        "#     # Add a markdown cell before each plot for better separation and labeling\n",
        "#     display(Markdown(f'### {col} over Time'))\n",
        "#     agg = canvas.line(df_1_EEG, x='UnixTime', y=col)\n",
        "#     img = tf.shade(agg)\n",
        "#     plt.figure(figsize=(16, 10))\n",
        "#     plt.imshow(img.to_pil())\n",
        "#     # plt.axis('off')  # Removed this line to show axes\n",
        "#     plt.xlabel(\"UnixTime\") # Add x-axis label\n",
        "#     plt.ylabel(col) # Add y-axis label\n",
        "#     plt.show()"
      ],
      "metadata": {
        "id": "RDi8rwbn00lP"
      },
      "execution_count": null,
      "outputs": []
    },
    {
      "cell_type": "code",
      "source": [
        "from IPython.display import display, Markdown\n",
        "\n",
        "\n",
        "for col in cols:\n",
        "    # Add a markdown cell before each plot for better separation and labeling\n",
        "    display(Markdown(f'### {col} over Time'))\n",
        "    plt.figure(figsize=(16, 10))\n",
        "    plt.plot(df_21_EEG['TimeStamp'], df_21_EEG[col])\n",
        "    plt.xlabel(\"TimeStamp\") # Add x-axis label\n",
        "    plt.ylabel(col) # Add y-axis label\n",
        "    plt.show()"
      ],
      "metadata": {
        "id": "8mjjUyWe02Mn"
      },
      "execution_count": null,
      "outputs": []
    },
    {
      "cell_type": "code",
      "source": [
        "plt.figure(figsize=(28,12))\n",
        "sns.heatmap(df_21_EEG.corr(numeric_only=True), cmap='YlGnBu', annot=True)\n",
        "plt.show()"
      ],
      "metadata": {
        "id": "nisJebTq04fF"
      },
      "execution_count": null,
      "outputs": []
    },
    {
      "cell_type": "markdown",
      "source": [
        "## Notes & Observations\n",
        "\n",
        "### Dropping `AUX_RIGHT`\n",
        "- The `AUX_RIGHT` channel comes from the auxiliary electrode input of the EEG headset.  \n",
        "- Upon inspection, its values appeared as **flat high-amplitude noise** (750–950 range) without any meaningful oscillatory EEG patterns.  \n",
        "- Correlation analysis also showed **no significant relationship** between `AUX_RIGHT` and other EEG features.  \n",
        "- Since it does not carry useful information and only adds noise/dimensionality, we **dropped `AUX_RIGHT`** from the dataset.\n",
        "\n",
        "\n"
      ],
      "metadata": {
        "id": "C2fP7qM307s9"
      }
    },
    {
      "cell_type": "code",
      "source": [
        "df_21_EEG.drop('AUX_RIGHT', axis=1, inplace=True)"
      ],
      "metadata": {
        "id": "ZDUI8Qx808hw"
      },
      "execution_count": null,
      "outputs": []
    },
    {
      "cell_type": "code",
      "source": [
        "df_21_EEG.head()"
      ],
      "metadata": {
        "id": "bAkp5UkL0_BE"
      },
      "execution_count": null,
      "outputs": []
    },
    {
      "cell_type": "code",
      "source": [
        "HSI_cols = [\"HSI_TP9\", \"HSI_AF7\", \"HSI_AF8\", \"HSI_TP10\"]"
      ],
      "metadata": {
        "id": "HSC9OZK11AT9"
      },
      "execution_count": null,
      "outputs": []
    },
    {
      "cell_type": "code",
      "source": [
        "for col in HSI_cols:\n",
        "    print(f\"Unique values for {col}: {df_21_EEG[col].unique()}\")"
      ],
      "metadata": {
        "id": "UCkFF2rs1BXM"
      },
      "execution_count": null,
      "outputs": []
    },
    {
      "cell_type": "code",
      "source": [
        "df_21_EEG['HSI_TP9'].value_counts()"
      ],
      "metadata": {
        "id": "Jvdu_YGN1CqC"
      },
      "execution_count": null,
      "outputs": []
    },
    {
      "cell_type": "code",
      "source": [
        "df_21_EEG['HSI_TP10'].value_counts()"
      ],
      "metadata": {
        "id": "-7ASRrff1EXs"
      },
      "execution_count": null,
      "outputs": []
    },
    {
      "cell_type": "code",
      "source": [
        "df_21_EEG['HSI_AF7'].value_counts()"
      ],
      "metadata": {
        "id": "8X77Zvqt1FiI"
      },
      "execution_count": null,
      "outputs": []
    },
    {
      "cell_type": "code",
      "source": [
        "df_21_EEG['HSI_AF8'].value_counts()"
      ],
      "metadata": {
        "id": "xZP1yMNW1G2A"
      },
      "execution_count": null,
      "outputs": []
    },
    {
      "cell_type": "code",
      "source": [
        "df_21_EEG.describe()"
      ],
      "metadata": {
        "id": "9PNxjZLu1Ibv"
      },
      "execution_count": null,
      "outputs": []
    },
    {
      "cell_type": "markdown",
      "source": [
        "## Notes & Observations\n",
        "\n",
        "### Handling `HSI_*` Columns\n",
        "- The `HSI_TP9`, `HSI_AF7`, `HSI_AF8`, `HSI_TP10` columns represent **Headset Signal Integrity** for each electrode:  \n",
        "  - `1 = Good connection`  \n",
        "  - `2 = Medium connection`  \n",
        "  - `4 = Bad connection`  \n",
        "- We need to pay attention to these values because:\n",
        "  - Bad connections (`4`) indicate unreliable EEG readings.  \n",
        "  - Medium connections (`2`) may still be usable but should be treated with caution.  \n",
        "- Instead of dropping rows, we will **convert HSI values into binary flags**:  \n",
        "  - **1 = Bad connection present**  \n",
        "  - **0 = Otherwise (Good or Medium)**  \n",
        "- This preserves all data while giving the model information about electrode reliability.  \n",
        "- After creating these flags, the raw `HSI_*` columns can be removed to reduce dimensionality.\n"
      ],
      "metadata": {
        "id": "LeY3WjaK1KZX"
      }
    },
    {
      "cell_type": "code",
      "source": [
        "df_21_EEG.head()"
      ],
      "metadata": {
        "id": "WuY5dwwO1LaH"
      },
      "execution_count": null,
      "outputs": []
    },
    {
      "cell_type": "code",
      "source": [
        "signal_flags_values = { 1: 0, 2: 0, 4: 1}"
      ],
      "metadata": {
        "id": "OSWn2mq81WhC"
      },
      "execution_count": null,
      "outputs": []
    },
    {
      "cell_type": "code",
      "source": [
        "df_21_EEG['HSI_TP9_flag'] = df_21_EEG['HSI_TP9'].map(signal_flags_values).astype(np.int8)\n",
        "df_21_EEG['HSI_TP10_flag'] = df_21_EEG['HSI_TP10'].map(signal_flags_values).astype(np.int8)\n",
        "df_21_EEG['HSI_AF7_flag'] = df_21_EEG['HSI_AF7'].map(signal_flags_values).astype(np.int8)\n",
        "df_21_EEG['HSI_AF8_flag'] = df_21_EEG['HSI_AF8'].map(signal_flags_values).astype(np.int8)"
      ],
      "metadata": {
        "id": "aai2DCVr1Xz2"
      },
      "execution_count": null,
      "outputs": []
    },
    {
      "cell_type": "code",
      "source": [
        "df_21_EEG.drop(['HSI_TP9', 'HSI_TP10', 'HSI_AF7', 'HSI_AF8'], axis=1, inplace=True)"
      ],
      "metadata": {
        "id": "KzUUZsFK1ZA2"
      },
      "execution_count": null,
      "outputs": []
    },
    {
      "cell_type": "code",
      "source": [
        "plt.figure(figsize=(28,12))\n",
        "sns.heatmap(df_21_EEG.corr(numeric_only=True), cmap='YlGnBu', annot=True)a\n",
        "plt.show()"
      ],
      "metadata": {
        "id": "PwOxe9t21amo"
      },
      "execution_count": null,
      "outputs": []
    },
    {
      "cell_type": "markdown",
      "source": [
        "## Notes & Observations\n",
        "\n",
        "### Dropping RAW EEG Channels\n",
        "\n",
        "- The EEG dataset includes `RAW_TP9`, `RAW_AF7`, `RAW_AF8`, `RAW_TP10` columns, which represent the unprocessed voltage readings from each electrode.  \n",
        "- Upon inspection:\n",
        "  - These RAW signals are **highly noisy** and show no clear oscillatory patterns typical of brainwave activity.  \n",
        "  - Correlation analysis with other features shows **very low correlations** (near 0.0), indicating they do not contribute predictive value.  \n",
        "  - Plots of RAW vs. time reveal large fluctuations without meaningful structure.\n",
        "\n",
        "- Reason for dropping:\n",
        "  - The dataset already provides **frequency band powers** (`Delta`, `Theta`, `Alpha`, `Beta`, `Gamma`) for each electrode, which are **derived from RAW signals** and are far more informative.  \n",
        "  - Keeping RAW adds unnecessary dimensionality and noise, which can negatively affect machine learning models.\n",
        "\n",
        "- Action taken:\n",
        "  - `RAW_TP9`, `RAW_AF7`, `RAW_AF8`, `RAW_TP10` are **dropped from preprocessing**.  \n",
        "  - The focus will be on the **precomputed band power features** for all EEG electrodes, which are sufficient for cognitive load prediction and regression tasks.\n"
      ],
      "metadata": {
        "id": "WcEYhP7c1ckQ"
      }
    },
    {
      "cell_type": "code",
      "source": [
        "df_21_EEG.drop(['RAW_TP9',\t'RAW_AF7',\t'RAW_AF8',\t'RAW_TP10'], axis=1, inplace=True)"
      ],
      "metadata": {
        "id": "5_vIKb8z1e1S"
      },
      "execution_count": null,
      "outputs": []
    },
    {
      "cell_type": "code",
      "source": [
        "df_21_EEG.head()"
      ],
      "metadata": {
        "id": "yDYz9dRs1gQU"
      },
      "execution_count": null,
      "outputs": []
    },
    {
      "cell_type": "code",
      "source": [
        "# Select only the numeric columns for plotting histograms, excluding time-related columns\n",
        "numeric_cols = df_21_EEG.select_dtypes(include=np.number).columns\n",
        "cols_to_plot = [col for col in numeric_cols if col not in ['UnixTime']]\n",
        "\n",
        "# Calculate the number of rows and columns for the grid\n",
        "n_cols = 4  # You can adjust the number of columns as needed\n",
        "n_rows = (len(cols_to_plot) + n_cols - 1) // n_cols\n",
        "\n",
        "plt.figure(figsize=(n_cols * 5, n_rows * 4)) # Adjust figure size as needed\n",
        "\n",
        "for i, col in enumerate(cols_to_plot):\n",
        "    plt.subplot(n_rows, n_cols, i + 1)\n",
        "    sns.histplot(df_21_EEG[col], kde=True)\n",
        "    plt.title(f'Distribution of {col}')\n",
        "    plt.xlabel(col)\n",
        "    plt.ylabel('Frequency')\n",
        "\n",
        "plt.tight_layout()\n",
        "plt.show()"
      ],
      "metadata": {
        "id": "IvEl8WnE1k15"
      },
      "execution_count": null,
      "outputs": []
    },
    {
      "cell_type": "code",
      "source": [
        "plt.figure(figsize=(28,12))\n",
        "sns.pairplot(df_21_EEG)\n",
        "plt.show()"
      ],
      "metadata": {
        "id": "TTCz41Mx1vSn"
      },
      "execution_count": null,
      "outputs": []
    },
    {
      "cell_type": "markdown",
      "source": [],
      "metadata": {
        "id": "3_T9dwWH14xz"
      }
    },
    {
      "cell_type": "markdown",
      "source": [
        "# **22 EGG**\n",
        "\n",
        "\n"
      ],
      "metadata": {
        "id": "CcGkScCD15d9"
      }
    },
    {
      "cell_type": "code",
      "source": [
        "df_22_EEG = pd.read_csv('data/STData/22/22_EEG.csv')"
      ],
      "metadata": {
        "id": "Yh1YijqZ2BKW"
      },
      "execution_count": null,
      "outputs": []
    },
    {
      "cell_type": "code",
      "source": [
        "df_22_EEG.head()"
      ],
      "metadata": {
        "id": "RAR0GIUB4QOO"
      },
      "execution_count": null,
      "outputs": []
    },
    {
      "cell_type": "code",
      "source": [
        "df_22_EEG.shape"
      ],
      "metadata": {
        "id": "Z3Mc6ifv5IAc"
      },
      "execution_count": null,
      "outputs": []
    },
    {
      "cell_type": "code",
      "source": [
        "df_22_EEG.columns"
      ],
      "metadata": {
        "id": "VrTbFJBw5UhB"
      },
      "execution_count": null,
      "outputs": []
    },
    {
      "cell_type": "code",
      "source": [
        "df_22_EEG.info()"
      ],
      "metadata": {
        "id": "-tV0aU1m5qZD"
      },
      "execution_count": null,
      "outputs": []
    },
    {
      "cell_type": "code",
      "source": [
        "df_22_EEG.isnull().sum()"
      ],
      "metadata": {
        "id": "KfS30lol50E1"
      },
      "execution_count": null,
      "outputs": []
    },
    {
      "cell_type": "code",
      "source": [
        "plt.figure(figsize=(16,10))\n",
        "sns.heatmap(df_22_EEG.isnull(), cmap='YlGnBu')\n",
        "plt.show()"
      ],
      "metadata": {
        "id": "_cNUtMyF5-ng"
      },
      "execution_count": null,
      "outputs": []
    },
    {
      "cell_type": "markdown",
      "source": [
        "# Notes & Observations\n",
        "\n",
        "- We observe many **null** (or missing) values in the `QuestionKey` and `Elements` columns.  \n",
        "- The nulls in the `QuestionKey` column may not represent “true” nulls. Rather, they follow interval patterns, suggesting that during those periods no question was displayed.  \n",
        "- These missing values in `QuestionKey` require additional investigation and context-aware handling.  \n",
        "- The `Elements` column is almost entirely null; dropping it likely won’t meaningfully impact our data quality.\n"
      ],
      "metadata": {
        "id": "NqMrKe8K6LRf"
      }
    },
    {
      "cell_type": "code",
      "source": [
        "df_22_EEG['QuestionKey'].unique()"
      ],
      "metadata": {
        "id": "LJ80dicX6rs2"
      },
      "execution_count": null,
      "outputs": []
    },
    {
      "cell_type": "code",
      "source": [
        "df_22_EEG['TimeStamp'] = pd.to_datetime(df_22_EEG['TimeStamp'])"
      ],
      "metadata": {
        "id": "yyxzecLR6rdz"
      },
      "execution_count": null,
      "outputs": []
    },
    {
      "cell_type": "code",
      "source": [
        "df_22_EEG.describe()"
      ],
      "metadata": {
        "id": "1gVLPpaO7c-n"
      },
      "execution_count": null,
      "outputs": []
    },
    {
      "cell_type": "code",
      "source": [
        "df_22_EEG.head(3)"
      ],
      "metadata": {
        "id": "H1F6xuJf7rEb"
      },
      "execution_count": null,
      "outputs": []
    },
    {
      "cell_type": "code",
      "source": [
        "df_22_EEG.drop('Elements', axis=1, inplace=True)"
      ],
      "metadata": {
        "id": "mWpI66Ug7_H1"
      },
      "execution_count": null,
      "outputs": []
    },
    {
      "cell_type": "code",
      "source": [
        "df_22_EEG['QuestionKey'].unique()"
      ],
      "metadata": {
        "id": "1-rqjsvJ8TAb"
      },
      "execution_count": null,
      "outputs": []
    },
    {
      "cell_type": "code",
      "source": [
        "df_22_EEG['QuestionKey'].fillna('None', inplace=True)"
      ],
      "metadata": {
        "id": "jkP-CPfm8prH"
      },
      "execution_count": null,
      "outputs": []
    },
    {
      "cell_type": "code",
      "source": [
        "df_22_EEG['QuestionKey'].value_counts()"
      ],
      "metadata": {
        "id": "Yqrl7PuY81Dg"
      },
      "execution_count": null,
      "outputs": []
    },
    {
      "cell_type": "code",
      "source": [
        "df_22_EEG['HeadBandOn'].unique()"
      ],
      "metadata": {
        "id": "_0qDNS3v9ArS"
      },
      "execution_count": null,
      "outputs": []
    },
    {
      "cell_type": "code",
      "source": [
        "df_22_EEG['HeadBandOn'].isnull().sum()"
      ],
      "metadata": {
        "id": "ppgz9DU99MQb"
      },
      "execution_count": null,
      "outputs": []
    },
    {
      "cell_type": "code",
      "source": [
        "df_22_EEG.shape"
      ],
      "metadata": {
        "id": "oGVNxhGQ9gSY"
      },
      "execution_count": null,
      "outputs": []
    },
    {
      "cell_type": "code",
      "source": [
        "df_22_EEG.dropna(inplace=True)"
      ],
      "metadata": {
        "id": "NFU3j7Mj9wk_"
      },
      "execution_count": null,
      "outputs": []
    },
    {
      "cell_type": "code",
      "source": [
        "df_22_EEG.shape"
      ],
      "metadata": {
        "id": "-BDPTm6M-AgF"
      },
      "execution_count": null,
      "outputs": []
    },
    {
      "cell_type": "code",
      "source": [
        "df_22_EEG.drop('HeadBandOn', axis=1, inplace=True)"
      ],
      "metadata": {
        "id": "m9CfZ3cd-U6l"
      },
      "execution_count": null,
      "outputs": []
    },
    {
      "cell_type": "code",
      "source": [
        "plt.figure(figsize=(16,10))\n",
        "sns.heatmap(df_22_EEG.isnull(), cmap='YlGnBu')\n",
        "plt.show()"
      ],
      "metadata": {
        "id": "X5NTkTN--rN8"
      },
      "execution_count": null,
      "outputs": []
    },
    {
      "cell_type": "markdown",
      "source": [
        "## Status Update\n",
        "\n",
        "- All **null** (or missing) values in the dataset have been handled / eliminated.\n",
        "- There are no remaining null values in any column.\n",
        "- The dataset is now “complete” in the sense that every cell has a valid (non-null) entry.\n"
      ],
      "metadata": {
        "id": "C8NSEVq__O_W"
      }
    },
    {
      "cell_type": "code",
      "source": [
        "df_2_EEG.columns\n"
      ],
      "metadata": {
        "id": "06MzaeE2AYE4"
      },
      "execution_count": null,
      "outputs": []
    },
    {
      "cell_type": "code",
      "source": [
        "cols = ['Delta_TP9', 'Delta_AF7',\n",
        "       'Delta_AF8', 'Delta_TP10', 'Theta_TP9', 'Theta_AF7', 'Theta_AF8',\n",
        "       'Theta_TP10', 'Alpha_TP9', 'Alpha_AF7', 'Alpha_AF8', 'Alpha_TP10',\n",
        "       'Beta_TP9', 'Beta_AF7', 'Beta_AF8', 'Beta_TP10', 'Gamma_TP9',\n",
        "       'Gamma_AF7', 'Gamma_AF8', 'Gamma_TP10', 'RAW_TP9', 'RAW_AF7', 'RAW_AF8',\n",
        "       'RAW_TP10', 'AUX_RIGHT', 'Accelerometer_X', 'Accelerometer_Y',\n",
        "       'Accelerometer_Z', 'Gyro_X', 'Gyro_Y', 'Gyro_Z',\n",
        "       'HSI_TP9', 'HSI_AF7', 'HSI_AF8', 'HSI_TP10', 'Battery']"
      ],
      "metadata": {
        "id": "Xk3PI1kyA5Mv"
      },
      "execution_count": null,
      "outputs": []
    },
    {
      "cell_type": "code",
      "source": [
        "from IPython.display import display, Markdown\n",
        "\n",
        "\n",
        "for col in cols:\n",
        "    # Add a markdown cell before each plot for better separation and labeling\n",
        "    display(Markdown(f'### {col} over Time'))\n",
        "    plt.figure(figsize=(16, 10))\n",
        "    plt.plot(df_22_EEG['TimeStamp'], df_22_EEG[col])\n",
        "    plt.xlabel(\"TimeStamp\") # Add x-axis label\n",
        "    plt.ylabel(col) # Add y-axis label\n",
        "    plt.show()"
      ],
      "metadata": {
        "id": "knvrwN2RBRkk"
      },
      "execution_count": null,
      "outputs": []
    },
    {
      "cell_type": "code",
      "source": [
        "plt.figure(figsize=(28,12))\n",
        "sns.heatmap(df_22_EEG.corr(numeric_only=True), cmap='YlGnBu', annot=True)\n",
        "plt.show()"
      ],
      "metadata": {
        "id": "pDWB-GTCBpJi"
      },
      "execution_count": null,
      "outputs": []
    },
    {
      "cell_type": "markdown",
      "source": [
        "## Notes & Observations\n",
        "\n",
        "### Dropping `AUX_RIGHT`\n",
        "- The `AUX_RIGHT` channel comes from the auxiliary electrode input of the EEG headset.  \n",
        "- Upon inspection, its values appeared as **flat high-amplitude noise** (750–950 range) without any meaningful oscillatory EEG patterns.  \n",
        "- Correlation analysis also showed **no significant relationship** between `AUX_RIGHT` and other EEG features.  \n",
        "- Since it does not carry useful information and only adds noise/dimensionality, we **dropped `AUX_RIGHT`** from the dataset.\n",
        "\n",
        "\n"
      ],
      "metadata": {
        "id": "-6PTYkHkCJua"
      }
    },
    {
      "cell_type": "code",
      "source": [
        "df_22_EEG.drop('AUX_RIGHT', axis=1, inplace=True)"
      ],
      "metadata": {
        "id": "CRYFTZ5pClH9"
      },
      "execution_count": null,
      "outputs": []
    },
    {
      "cell_type": "code",
      "source": [
        "df_22_EEG.head()"
      ],
      "metadata": {
        "id": "fS9WC9jdDbwH"
      },
      "execution_count": null,
      "outputs": []
    },
    {
      "cell_type": "code",
      "source": [
        "HSI_cols = [\"HSI_TP9\", \"HSI_AF7\", \"HSI_AF8\", \"HSI_TP10\"]"
      ],
      "metadata": {
        "id": "2qVWYTsZD2-L"
      },
      "execution_count": null,
      "outputs": []
    },
    {
      "cell_type": "code",
      "source": [
        "for col in HSI_cols:\n",
        "    print(f\"Unique values for {col}: {df_2_EEG[col].unique()}\")"
      ],
      "metadata": {
        "id": "IZThoDbLEfFM"
      },
      "execution_count": null,
      "outputs": []
    },
    {
      "cell_type": "code",
      "source": [
        "df_22_EEG['HSI_TP9'].value_counts()"
      ],
      "metadata": {
        "id": "lmmssOU-E0aB"
      },
      "execution_count": null,
      "outputs": []
    },
    {
      "cell_type": "code",
      "source": [
        "df_22_EEG['HSI_TP10'].value_counts()"
      ],
      "metadata": {
        "id": "nfF3-Oo7FMOq"
      },
      "execution_count": null,
      "outputs": []
    },
    {
      "cell_type": "code",
      "source": [
        "df_22_EEG['HSI_AF7'].value_counts()"
      ],
      "metadata": {
        "id": "P57ZmlBUFjLJ"
      },
      "execution_count": null,
      "outputs": []
    },
    {
      "cell_type": "code",
      "source": [
        "df_22_EEG['HSI_AF8'].value_counts()"
      ],
      "metadata": {
        "id": "JECXddq_F9dL"
      },
      "execution_count": null,
      "outputs": []
    },
    {
      "cell_type": "code",
      "source": [
        "df_22_EEG.describe()"
      ],
      "metadata": {
        "id": "2pvFJX9fGZTN"
      },
      "execution_count": null,
      "outputs": []
    },
    {
      "cell_type": "markdown",
      "source": [
        "## Notes & Observations\n",
        "\n",
        "### Handling `HSI_*` Columns\n",
        "- The `HSI_TP9`, `HSI_AF7`, `HSI_AF8`, `HSI_TP10` columns represent **Headset Signal Integrity** for each electrode:  \n",
        "  - `1 = Good connection`  \n",
        "  - `2 = Medium connection`  \n",
        "  - `4 = Bad connection`  \n",
        "- We need to pay attention to these values because:\n",
        "  - Bad connections (`4`) indicate unreliable EEG readings.  \n",
        "  - Medium connections (`2`) may still be usable but should be treated with caution.  \n",
        "- Instead of dropping rows, we will **convert HSI values into binary flags**:  \n",
        "  - **1 = Bad connection present**  \n",
        "  - **0 = Otherwise (Good or Medium)**  \n",
        "- This preserves all data while giving the model information about electrode reliability.  \n",
        "- After creating these flags, the raw `HSI_*` columns can be removed to reduce dimensionality.\n"
      ],
      "metadata": {
        "id": "l8RNoX73GzN0"
      }
    },
    {
      "cell_type": "code",
      "source": [
        "df_22_EEG.head()"
      ],
      "metadata": {
        "id": "_Yqc17waHSNd"
      },
      "execution_count": null,
      "outputs": []
    },
    {
      "cell_type": "code",
      "source": [
        "signal_flags_values = { 1: 0, 2: 0, 4: 1}"
      ],
      "metadata": {
        "id": "g-GqFw8dIGxS"
      },
      "execution_count": null,
      "outputs": []
    },
    {
      "cell_type": "code",
      "source": [
        "df_22_EEG['HSI_TP9_flag'] = df_22_EEG['HSI_TP9'].map(signal_flags_values).astype(np.int8)\n",
        "df_22_EEG['HSI_TP10_flag'] = df_22_EEG['HSI_TP10'].map(signal_flags_values).astype(np.int8)\n",
        "df_22_EEG['HSI_AF7_flag'] = df_22_EEG['HSI_AF7'].map(signal_flags_values).astype(np.int8)\n",
        "df_22_EEG['HSI_AF8_flag'] = df_22_EEG['HSI_AF8'].map(signal_flags_values).astype(np.int8)2"
      ],
      "metadata": {
        "id": "0N6M4L-hIlO3"
      },
      "execution_count": null,
      "outputs": []
    },
    {
      "cell_type": "code",
      "source": [
        "df_22_EEG.drop(['HSI_TP9', 'HSI_TP10', 'HSI_AF7', 'HSI_AF8'], axis=1, inplace=True)"
      ],
      "metadata": {
        "id": "NdW0aOOgJeXW"
      },
      "execution_count": null,
      "outputs": []
    },
    {
      "cell_type": "code",
      "source": [
        "plt.figure(figsize=(28,12))\n",
        "sns.heatmap(df_22_EEG.corr(numeric_only=True), cmap='YlGnBu', annot=True)a\n",
        "plt.show()"
      ],
      "metadata": {
        "id": "c1grPmUIJgWz"
      },
      "execution_count": null,
      "outputs": []
    },
    {
      "cell_type": "markdown",
      "source": [
        "## Notes & Observations\n",
        "\n",
        "### Dropping RAW EEG Channels\n",
        "\n",
        "- The EEG dataset includes `RAW_TP9`, `RAW_AF7`, `RAW_AF8`, `RAW_TP10` columns, which represent the unprocessed voltage readings from each electrode.  \n",
        "- Upon inspection:\n",
        "  - These RAW signals are **highly noisy** and show no clear oscillatory patterns typical of brainwave activity.  \n",
        "  - Correlation analysis with other features shows **very low correlations** (near 0.0), indicating they do not contribute predictive value.  \n",
        "  - Plots of RAW vs. time reveal large fluctuations without meaningful structure.\n",
        "\n",
        "- Reason for dropping:\n",
        "  - The dataset already provides **frequency band powers** (`Delta`, `Theta`, `Alpha`, `Beta`, `Gamma`) for each electrode, which are **derived from RAW signals** and are far more informative.  \n",
        "  - Keeping RAW adds unnecessary dimensionality and noise, which can negatively affect machine learning models.\n",
        "\n",
        "- Action taken:\n",
        "  - `RAW_TP9`, `RAW_AF7`, `RAW_AF8`, `RAW_TP10` are **dropped from preprocessing**.  \n",
        "  - The focus will be on the **precomputed band power features** for all EEG electrodes, which are sufficient for cognitive load prediction and regression tasks.\n"
      ],
      "metadata": {
        "id": "6s0bK6SmKNlM"
      }
    },
    {
      "cell_type": "code",
      "source": [
        "df_22_EEG.drop(['RAW_TP9',\t'RAW_AF7',\t'RAW_AF8',\t'RAW_TP10'], axis=1, inplace=True)"
      ],
      "metadata": {
        "id": "w15pfjtEKRJ2"
      },
      "execution_count": null,
      "outputs": []
    },
    {
      "cell_type": "code",
      "source": [
        "df_22_EEG.head()"
      ],
      "metadata": {
        "id": "QS8UN-UFK_Q9"
      },
      "execution_count": null,
      "outputs": []
    },
    {
      "cell_type": "code",
      "source": [
        "# Select only the numeric columns for plotting histograms, excluding time-related columns\n",
        "numeric_cols = df_22_EEG.select_dtypes(include=np.number).columns\n",
        "cols_to_plot = [col for col in numeric_cols if col not in ['UnixTime']]\n",
        "\n",
        "# Calculate the number of rows and columns for the grid\n",
        "n_cols = 4  # You can adjust the number of columns as needed\n",
        "n_rows = (len(cols_to_plot) + n_cols - 1) // n_cols\n",
        "\n",
        "plt.figure(figsize=(n_cols * 5, n_rows * 4)) # Adjust figure size as needed\n",
        "\n",
        "for i, col in enumerate(cols_to_plot):\n",
        "    plt.subplot(n_rows, n_cols, i + 1)\n",
        "    sns.histplot(df_22_EEG[col], kde=True)\n",
        "    plt.title(f'Distribution of {col}')\n",
        "    plt.xlabel(col)\n",
        "    plt.ylabel('Frequency')\n",
        "\n",
        "plt.tight_layout()\n",
        "plt.show()"
      ],
      "metadata": {
        "id": "dLQXZQpLLBUd"
      },
      "execution_count": null,
      "outputs": []
    },
    {
      "cell_type": "code",
      "source": [
        "plt.figure(figsize=(28,12))\n",
        "sns.pairplot(df_22_EEG)\n",
        "plt.show()"
      ],
      "metadata": {
        "id": "2qWChGxtL0FK"
      },
      "execution_count": null,
      "outputs": []
    },
    {
      "cell_type": "markdown",
      "source": [
        "**23 EGG**"
      ],
      "metadata": {
        "id": "QQv9aslV4Wpt"
      }
    },
    {
      "cell_type": "code",
      "source": [
        "df_23_EEG = pd.read_csv('data/STData/23/23_EEG.csv')"
      ],
      "metadata": {
        "id": "tjYuYQOc4I17"
      },
      "execution_count": null,
      "outputs": []
    },
    {
      "cell_type": "code",
      "source": [
        "df_23_EEG.head()"
      ],
      "metadata": {
        "id": "U8u118iG4RUk"
      },
      "execution_count": null,
      "outputs": []
    },
    {
      "cell_type": "code",
      "source": [
        "df_23_EEG.shape"
      ],
      "metadata": {
        "id": "MdzYxS1y5IeK"
      },
      "execution_count": null,
      "outputs": []
    },
    {
      "cell_type": "code",
      "source": [
        "df_23_EEG.columns"
      ],
      "metadata": {
        "id": "C35KmdBT5VJp"
      },
      "execution_count": null,
      "outputs": []
    },
    {
      "cell_type": "code",
      "source": [
        "df_23_EEG.info()"
      ],
      "metadata": {
        "id": "P5qp5c4Y5rJw"
      },
      "execution_count": null,
      "outputs": []
    },
    {
      "cell_type": "code",
      "source": [
        "df_23_EEG.isnull().sum()"
      ],
      "metadata": {
        "id": "kAPekr_3505G"
      },
      "execution_count": null,
      "outputs": []
    },
    {
      "cell_type": "code",
      "source": [
        "plt.figure(figsize=(16,10))\n",
        "sns.heatmap(df_23_EEG.isnull(), cmap='YlGnBu')\n",
        "plt.show()"
      ],
      "metadata": {
        "id": "ixZxeR0p5_VD"
      },
      "execution_count": null,
      "outputs": []
    },
    {
      "cell_type": "code",
      "source": [
        "df_23_EEG['QuestionKey'].unique()"
      ],
      "metadata": {
        "id": "bridRY0O6mhf"
      },
      "execution_count": null,
      "outputs": []
    },
    {
      "cell_type": "markdown",
      "source": [
        "# Notes & Observations\n",
        "\n",
        "- We observe many **null** (or missing) values in the `QuestionKey` and `Elements` columns.  \n",
        "- The nulls in the `QuestionKey` column may not represent “true” nulls. Rather, they follow interval patterns, suggesting that during those periods no question was displayed.  \n",
        "- These missing values in `QuestionKey` require additional investigation and context-aware handling.  \n",
        "- The `Elements` column is almost entirely null; dropping it likely won’t meaningfully impact our data quality.\n"
      ],
      "metadata": {
        "id": "zGd5-K086MZn"
      }
    },
    {
      "cell_type": "code",
      "source": [
        "df_23_EEG['QuestionKey'].unique()"
      ],
      "metadata": {
        "id": "hB5lgRum6wcM"
      },
      "execution_count": null,
      "outputs": []
    },
    {
      "cell_type": "code",
      "source": [
        "df_23_EEG['TimeStamp'] = pd.to_datetime(df_23_EEG['TimeStamp'])"
      ],
      "metadata": {
        "id": "tQMle_tX7PCE"
      },
      "execution_count": null,
      "outputs": []
    },
    {
      "cell_type": "code",
      "source": [
        "df_23_EEG.describe()"
      ],
      "metadata": {
        "id": "uqPJCfdB7eAj"
      },
      "execution_count": null,
      "outputs": []
    },
    {
      "cell_type": "code",
      "source": [
        "df_23_EEG.head(3)"
      ],
      "metadata": {
        "id": "c8MP0uvz7t6s"
      },
      "execution_count": null,
      "outputs": []
    },
    {
      "cell_type": "code",
      "source": [
        "df_23_EEG.drop('Elements', axis=1, inplace=True)"
      ],
      "metadata": {
        "id": "_OrHOi5i8AYB"
      },
      "execution_count": null,
      "outputs": []
    },
    {
      "cell_type": "code",
      "source": [
        "df_23_EEG['QuestionKey'].unique()"
      ],
      "metadata": {
        "id": "Uxlh3GNX8T8D"
      },
      "execution_count": null,
      "outputs": []
    },
    {
      "cell_type": "code",
      "source": [
        "df_23_EEG['QuestionKey'].fillna('None', inplace=True)"
      ],
      "metadata": {
        "id": "fHMeWOkK8qvS"
      },
      "execution_count": null,
      "outputs": []
    },
    {
      "cell_type": "code",
      "source": [
        "df_23_EEG['QuestionKey'].value_counts()"
      ],
      "metadata": {
        "id": "B48_xPxP82Mw"
      },
      "execution_count": null,
      "outputs": []
    },
    {
      "cell_type": "code",
      "source": [
        "df_23_EEG['HeadBandOn'].unique()"
      ],
      "metadata": {
        "id": "nrpRq0er9Bm0"
      },
      "execution_count": null,
      "outputs": []
    },
    {
      "cell_type": "code",
      "source": [
        "df_23_EEG['HeadBandOn'].isnull().sum()"
      ],
      "metadata": {
        "id": "nAGte96m9NWJ"
      },
      "execution_count": null,
      "outputs": []
    },
    {
      "cell_type": "code",
      "source": [
        "df_23_EEG.shape"
      ],
      "metadata": {
        "id": "kFXjWRWE9j04"
      },
      "execution_count": null,
      "outputs": []
    },
    {
      "cell_type": "code",
      "source": [
        "df_23_EEG.dropna(inplace=True)"
      ],
      "metadata": {
        "id": "jGkzsbB59xtP"
      },
      "execution_count": null,
      "outputs": []
    },
    {
      "cell_type": "code",
      "source": [
        "df_23_EEG.shape"
      ],
      "metadata": {
        "id": "Wyivr82V-B7m"
      },
      "execution_count": null,
      "outputs": []
    },
    {
      "cell_type": "code",
      "source": [
        "df_23_EEG.drop('HeadBandOn', axis=1, inplace=True)"
      ],
      "metadata": {
        "id": "7bjlA8Ne-WEw"
      },
      "execution_count": null,
      "outputs": []
    },
    {
      "cell_type": "code",
      "source": [
        "plt.figure(figsize=(16,10))\n",
        "sns.heatmap(df_23_EEG.isnull(), cmap='YlGnBu')\n",
        "plt.show()"
      ],
      "metadata": {
        "id": "oiUCqsY7-vxK"
      },
      "execution_count": null,
      "outputs": []
    },
    {
      "cell_type": "markdown",
      "source": [
        "## Status Update\n",
        "\n",
        "- All **null** (or missing) values in the dataset have been handled / eliminated.\n",
        "- There are no remaining null values in any column.\n",
        "- The dataset is now “complete” in the sense that every cell has a valid (non-null) entry.\n"
      ],
      "metadata": {
        "id": "PVCieUYd_Qcd"
      }
    },
    {
      "cell_type": "code",
      "source": [
        "df_23_EEG.columns\n"
      ],
      "metadata": {
        "id": "8pslXHAhAaTf"
      },
      "execution_count": null,
      "outputs": []
    },
    {
      "cell_type": "code",
      "source": [
        "cols = ['Delta_TP9', 'Delta_AF7',\n",
        "       'Delta_AF8', 'Delta_TP10', 'Theta_TP9', 'Theta_AF7', 'Theta_AF8',\n",
        "       'Theta_TP10', 'Alpha_TP9', 'Alpha_AF7', 'Alpha_AF8', 'Alpha_TP10',\n",
        "       'Beta_TP9', 'Beta_AF7', 'Beta_AF8', 'Beta_TP10', 'Gamma_TP9',\n",
        "       'Gamma_AF7', 'Gamma_AF8', 'Gamma_TP10', 'RAW_TP9', 'RAW_AF7', 'RAW_AF8',\n",
        "       'RAW_TP10', 'AUX_RIGHT', 'Accelerometer_X', 'Accelerometer_Y',\n",
        "       'Accelerometer_Z', 'Gyro_X', 'Gyro_Y', 'Gyro_Z',\n",
        "       'HSI_TP9', 'HSI_AF7', 'HSI_AF8', 'HSI_TP10', 'Battery']"
      ],
      "metadata": {
        "id": "b1JV7z3yA693"
      },
      "execution_count": null,
      "outputs": []
    },
    {
      "cell_type": "code",
      "source": [
        "from IPython.display import display, Markdown\n",
        "\n",
        "\n",
        "for col in cols:\n",
        "    # Add a markdown cell before each plot for better separation and labeling\n",
        "    display(Markdown(f'### {col} over Time'))\n",
        "    plt.figure(figsize=(16, 10))\n",
        "    plt.plot(df_23_EEG['TimeStamp'], df_23_EEG[col])\n",
        "    plt.xlabel(\"TimeStamp\") # Add x-axis label\n",
        "    plt.ylabel(col) # Add y-axis label\n",
        "    plt.show()"
      ],
      "metadata": {
        "id": "78ee12IABThH"
      },
      "execution_count": null,
      "outputs": []
    },
    {
      "cell_type": "code",
      "source": [
        "plt.figure(figsize=(28,12))\n",
        "sns.heatmap(df_23_EEG.corr(numeric_only=True), cmap='YlGnBu', annot=True)\n",
        "plt.show()"
      ],
      "metadata": {
        "id": "lCUOlkMYBrHP"
      },
      "execution_count": null,
      "outputs": []
    },
    {
      "cell_type": "markdown",
      "source": [
        "## Notes & Observations\n",
        "\n",
        "### Dropping `AUX_RIGHT`\n",
        "- The `AUX_RIGHT` channel comes from the auxiliary electrode input of the EEG headset.  \n",
        "- Upon inspection, its values appeared as **flat high-amplitude noise** (750–950 range) without any meaningful oscillatory EEG patterns.  \n",
        "- Correlation analysis also showed **no significant relationship** between `AUX_RIGHT` and other EEG features.  \n",
        "- Since it does not carry useful information and only adds noise/dimensionality, we **dropped `AUX_RIGHT`** from the dataset.\n",
        "\n",
        "\n"
      ],
      "metadata": {
        "id": "rLg55S4ICLtB"
      }
    },
    {
      "cell_type": "code",
      "source": [
        "df_23_EEG.drop('AUX_RIGHT', axis=1, inplace=True)"
      ],
      "metadata": {
        "id": "QLqaB_86Cngg"
      },
      "execution_count": null,
      "outputs": []
    },
    {
      "cell_type": "code",
      "source": [
        "df_23_EEG.head()"
      ],
      "metadata": {
        "id": "JWjJCsjUDfcq"
      },
      "execution_count": null,
      "outputs": []
    },
    {
      "cell_type": "code",
      "source": [
        "HSI_cols = [\"HSI_TP9\", \"HSI_AF7\", \"HSI_AF8\", \"HSI_TP10\"]"
      ],
      "metadata": {
        "id": "rzcIECWtD6eZ"
      },
      "execution_count": null,
      "outputs": []
    },
    {
      "cell_type": "code",
      "source": [
        "for col in HSI_cols:\n",
        "    print(f\"Unique values for {col}: {df_23_EEG[col].unique()}\")"
      ],
      "metadata": {
        "id": "R5fQT0cGEhxZ"
      },
      "execution_count": null,
      "outputs": []
    },
    {
      "cell_type": "code",
      "source": [
        "df_23_EEG['HSI_TP9'].value_counts()"
      ],
      "metadata": {
        "id": "6B5vwKwDE2Sg"
      },
      "execution_count": null,
      "outputs": []
    },
    {
      "cell_type": "code",
      "source": [
        "df_23_EEG['HSI_TP10'].value_counts()"
      ],
      "metadata": {
        "id": "Mdgijq-_FPC5"
      },
      "execution_count": null,
      "outputs": []
    },
    {
      "cell_type": "code",
      "source": [
        "df_23_EEG['HSI_AF7'].value_counts()"
      ],
      "metadata": {
        "id": "BjfTvIrdFlHf"
      },
      "execution_count": null,
      "outputs": []
    },
    {
      "cell_type": "code",
      "source": [
        "df_23_EEG['HSI_AF8'].value_counts()"
      ],
      "metadata": {
        "id": "3uRuRVTJGAW7"
      },
      "execution_count": null,
      "outputs": []
    },
    {
      "cell_type": "code",
      "source": [
        "df_23_EEG.describe()"
      ],
      "metadata": {
        "id": "Zi44GkI1GbI6"
      },
      "execution_count": null,
      "outputs": []
    },
    {
      "cell_type": "markdown",
      "source": [
        "## Notes & Observations\n",
        "\n",
        "### Handling `HSI_*` Columns\n",
        "- The `HSI_TP9`, `HSI_AF7`, `HSI_AF8`, `HSI_TP10` columns represent **Headset Signal Integrity** for each electrode:  \n",
        "  - `1 = Good connection`  \n",
        "  - `2 = Medium connection`  \n",
        "  - `4 = Bad connection`  \n",
        "- We need to pay attention to these values because:\n",
        "  - Bad connections (`4`) indicate unreliable EEG readings.  \n",
        "  - Medium connections (`2`) may still be usable but should be treated with caution.  \n",
        "- Instead of dropping rows, we will **convert HSI values into binary flags**:  \n",
        "  - **1 = Bad connection present**  \n",
        "  - **0 = Otherwise (Good or Medium)**  \n",
        "- This preserves all data while giving the model information about electrode reliability.  \n",
        "- After creating these flags, the raw `HSI_*` columns can be removed to reduce dimensionality.\n"
      ],
      "metadata": {
        "id": "ih4JV0W_G1jf"
      }
    },
    {
      "cell_type": "code",
      "source": [
        "df_23_EEG.head()"
      ],
      "metadata": {
        "id": "Uv5ecfS3HUzx"
      },
      "execution_count": null,
      "outputs": []
    },
    {
      "cell_type": "code",
      "source": [
        "signal_flags_values = { 1: 0, 2: 0, 4: 1}"
      ],
      "metadata": {
        "id": "-aePKB4pIJxp"
      },
      "execution_count": null,
      "outputs": []
    },
    {
      "cell_type": "code",
      "source": [
        "df_23_EEG['HSI_TP9_flag'] = df_23_EEG['HSI_TP9'].map(signal_flags_values).astype(np.int8)\n",
        "df_23_EEG['HSI_TP10_flag'] = df_23_EEG['HSI_TP10'].map(signal_flags_values).astype(np.int8)\n",
        "df_23_EEG['HSI_AF7_flag'] = df_23_EEG['HSI_AF7'].map(signal_flags_values).astype(np.int8)\n",
        "df_23_EEG['HSI_AF8_flag'] = df_23_EEG['HSI_AF8'].map(signal_flags_values).astype(np.int8)"
      ],
      "metadata": {
        "id": "0qDgbuzaIzV_"
      },
      "execution_count": null,
      "outputs": []
    },
    {
      "cell_type": "code",
      "source": [
        "df_23_EEG.drop(['HSI_TP9', 'HSI_TP10', 'HSI_AF7', 'HSI_AF8'], axis=1, inplace=True)"
      ],
      "metadata": {
        "id": "Eh1gsB2SJcNq"
      },
      "execution_count": null,
      "outputs": []
    },
    {
      "cell_type": "code",
      "source": [
        "plt.figure(figsize=(28,12))\n",
        "sns.heatmap(df_23_EEG.corr(numeric_only=True), cmap='YlGnBu', annot=True)a\n",
        "plt.show()"
      ],
      "metadata": {
        "id": "AZlNZPMcJiq4"
      },
      "execution_count": null,
      "outputs": []
    },
    {
      "cell_type": "markdown",
      "source": [
        "## Notes & Observations\n",
        "\n",
        "### Dropping RAW EEG Channels\n",
        "\n",
        "- The EEG dataset includes `RAW_TP9`, `RAW_AF7`, `RAW_AF8`, `RAW_TP10` columns, which represent the unprocessed voltage readings from each electrode.  \n",
        "- Upon inspection:\n",
        "  - These RAW signals are **highly noisy** and show no clear oscillatory patterns typical of brainwave activity.  \n",
        "  - Correlation analysis with other features shows **very low correlations** (near 0.0), indicating they do not contribute predictive value.  \n",
        "  - Plots of RAW vs. time reveal large fluctuations without meaningful structure.\n",
        "\n",
        "- Reason for dropping:\n",
        "  - The dataset already provides **frequency band powers** (`Delta`, `Theta`, `Alpha`, `Beta`, `Gamma`) for each electrode, which are **derived from RAW signals** and are far more informative.  \n",
        "  - Keeping RAW adds unnecessary dimensionality and noise, which can negatively affect machine learning models.\n",
        "\n",
        "- Action taken:\n",
        "  - `RAW_TP9`, `RAW_AF7`, `RAW_AF8`, `RAW_TP10` are **dropped from preprocessing**.  \n",
        "  - The focus will be on the **precomputed band power features** for all EEG electrodes, which are sufficient for cognitive load prediction and regression tasks.\n"
      ],
      "metadata": {
        "id": "tL5lzWKgKLNQ"
      }
    },
    {
      "cell_type": "code",
      "source": [
        "df_23_EEG.drop(['RAW_TP9',\t'RAW_AF7',\t'RAW_AF8',\t'RAW_TP10'], axis=1, inplace=True)"
      ],
      "metadata": {
        "id": "Z4XbO97fKU1d"
      },
      "execution_count": null,
      "outputs": []
    },
    {
      "cell_type": "code",
      "source": [
        "df_23_EEG.head()"
      ],
      "metadata": {
        "id": "6IHf1fSOK8b9"
      },
      "execution_count": null,
      "outputs": []
    },
    {
      "cell_type": "code",
      "source": [
        "# Select only the numeric columns for plotting histograms, excluding time-related columns\n",
        "numeric_cols = df_23_EEG.select_dtypes(include=np.number).columns\n",
        "cols_to_plot = [col for col in numeric_cols if col not in ['UnixTime']]\n",
        "\n",
        "# Calculate the number of rows and columns for the grid\n",
        "n_cols = 4  # You can adjust the number of columns as needed\n",
        "n_rows = (len(cols_to_plot) + n_cols - 1) // n_cols\n",
        "\n",
        "plt.figure(figsize=(n_cols * 5, n_rows * 4)) # Adjust figure size as needed\n",
        "\n",
        "for i, col in enumerate(cols_to_plot):\n",
        "    plt.subplot(n_rows, n_cols, i + 1)\n",
        "    sns.histplot(df_23_EEG[col], kde=True)\n",
        "    plt.title(f'Distribution of {col}')\n",
        "    plt.xlabel(col)\n",
        "    plt.ylabel('Frequency')\n",
        "\n",
        "plt.tight_layout()\n",
        "plt.show()"
      ],
      "metadata": {
        "id": "E04yNBHgLFZw"
      },
      "execution_count": null,
      "outputs": []
    },
    {
      "cell_type": "code",
      "source": [
        "plt.figure(figsize=(28,12))\n",
        "sns.pairplot(df_23_EEG)\n",
        "plt.show()"
      ],
      "metadata": {
        "id": "PzpfWXclLxtr"
      },
      "execution_count": null,
      "outputs": []
    },
    {
      "cell_type": "markdown",
      "source": [
        "# ***24 EGG***"
      ],
      "metadata": {
        "id": "RTafx6UL4d1g"
      }
    },
    {
      "cell_type": "code",
      "source": [
        "df_24_EEG = pd.read_csv('data/STData/24/24_EEG.csv')"
      ],
      "metadata": {
        "id": "SToOJiOf4K1-"
      },
      "execution_count": null,
      "outputs": []
    },
    {
      "cell_type": "code",
      "source": [
        "df_24_EEG.head()"
      ],
      "metadata": {
        "id": "9cgXdOlJ4SGj"
      },
      "execution_count": null,
      "outputs": []
    },
    {
      "cell_type": "code",
      "source": [
        "df_24_EEG.shape"
      ],
      "metadata": {
        "id": "gYKGZonJ5JwQ"
      },
      "execution_count": null,
      "outputs": []
    },
    {
      "cell_type": "code",
      "source": [
        "df_24_EEG.columns"
      ],
      "metadata": {
        "id": "Mt6UnZLn5a0B"
      },
      "execution_count": null,
      "outputs": []
    },
    {
      "cell_type": "code",
      "source": [
        "df_24_EEG.info()"
      ],
      "metadata": {
        "id": "vyfJzKol5skE"
      },
      "execution_count": null,
      "outputs": []
    },
    {
      "cell_type": "code",
      "source": [
        "df_24_EEG.isnull().sum()"
      ],
      "metadata": {
        "id": "SmNbWM7g514n"
      },
      "execution_count": null,
      "outputs": []
    },
    {
      "cell_type": "code",
      "source": [
        "plt.figure(figsize=(16,10))\n",
        "sns.heatmap(df_24_EEG.isnull(), cmap='YlGnBu')\n",
        "plt.show()"
      ],
      "metadata": {
        "id": "WT_AyvXN6ADg"
      },
      "execution_count": null,
      "outputs": []
    },
    {
      "cell_type": "markdown",
      "source": [
        "# Notes & Observations\n",
        "\n",
        "- We observe many **null** (or missing) values in the `QuestionKey` and `Elements` columns.  \n",
        "- The nulls in the `QuestionKey` column may not represent “true” nulls. Rather, they follow interval patterns, suggesting that during those periods no question was displayed.  \n",
        "- These missing values in `QuestionKey` require additional investigation and context-aware handling.  \n",
        "- The `Elements` column is almost entirely null; dropping it likely won’t meaningfully impact our data quality.\n"
      ],
      "metadata": {
        "id": "n9qVtcaq6NuU"
      }
    },
    {
      "cell_type": "code",
      "source": [
        "df_24_EEG['QuestionKey'].unique()"
      ],
      "metadata": {
        "id": "AXu8REOV6xRP"
      },
      "execution_count": null,
      "outputs": []
    },
    {
      "cell_type": "code",
      "source": [
        "df_24_EEG['TimeStamp'] = pd.to_datetime(df_4_EEG['TimeStamp'])"
      ],
      "metadata": {
        "id": "feDLJXBT7SHx"
      },
      "execution_count": null,
      "outputs": []
    },
    {
      "cell_type": "code",
      "source": [
        "df_24_EEG.describe()"
      ],
      "metadata": {
        "id": "MDHZKITZ7gic"
      },
      "execution_count": null,
      "outputs": []
    },
    {
      "cell_type": "code",
      "source": [
        "df_24_EEG.head(3)"
      ],
      "metadata": {
        "id": "Z1aWr5Ux7vGX"
      },
      "execution_count": null,
      "outputs": []
    },
    {
      "cell_type": "code",
      "source": [
        "df_24_EEG.drop('Elements', axis=1, inplace=True)"
      ],
      "metadata": {
        "id": "KPskYyjF8BjR"
      },
      "execution_count": null,
      "outputs": []
    },
    {
      "cell_type": "code",
      "source": [
        "df_24_EEG['QuestionKey'].unique()"
      ],
      "metadata": {
        "id": "2DuHvl7J8U_u"
      },
      "execution_count": null,
      "outputs": []
    },
    {
      "cell_type": "code",
      "source": [
        "df_24_EEG['QuestionKey'].fillna('None', inplace=True)"
      ],
      "metadata": {
        "id": "jeBMl60N8r2r"
      },
      "execution_count": null,
      "outputs": []
    },
    {
      "cell_type": "code",
      "source": [
        "df_24_EEG['QuestionKey'].value_counts()"
      ],
      "metadata": {
        "id": "JThYPkiM83Zk"
      },
      "execution_count": null,
      "outputs": []
    },
    {
      "cell_type": "code",
      "source": [
        "df_24_EEG['HeadBandOn'].unique()"
      ],
      "metadata": {
        "id": "CpCndFR99Cbf"
      },
      "execution_count": null,
      "outputs": []
    },
    {
      "cell_type": "code",
      "source": [
        "df_24_EEG['HeadBandOn'].isnull().sum()"
      ],
      "metadata": {
        "id": "zB5zOUVi9O8V"
      },
      "execution_count": null,
      "outputs": []
    },
    {
      "cell_type": "code",
      "source": [
        "df_24_EEG.shape"
      ],
      "metadata": {
        "id": "8bq6hIqq9k9a"
      },
      "execution_count": null,
      "outputs": []
    },
    {
      "cell_type": "code",
      "source": [
        "df_24_EEG.dropna(inplace=True)"
      ],
      "metadata": {
        "id": "KzXkrhac9zBb"
      },
      "execution_count": null,
      "outputs": []
    },
    {
      "cell_type": "code",
      "source": [
        "df_24_EEG.shape"
      ],
      "metadata": {
        "id": "j4zyhT5y-DoT"
      },
      "execution_count": null,
      "outputs": []
    },
    {
      "cell_type": "code",
      "source": [
        "df_24_EEG.drop('HeadBandOn', axis=1, inplace=True)"
      ],
      "metadata": {
        "id": "8hGJxlW3-XXA"
      },
      "execution_count": null,
      "outputs": []
    },
    {
      "cell_type": "code",
      "source": [
        "plt.figure(figsize=(16,10))\n",
        "sns.heatmap(df_24_EEG.isnull(), cmap='YlGnBu')\n",
        "plt.show()"
      ],
      "metadata": {
        "id": "GLyrnFQ--w_V"
      },
      "execution_count": null,
      "outputs": []
    },
    {
      "cell_type": "markdown",
      "source": [
        "## Status Update\n",
        "\n",
        "- All **null** (or missing) values in the dataset have been handled / eliminated.\n",
        "- There are no remaining null values in any column.\n",
        "- The dataset is now “complete” in the sense that every cell has a valid (non-null) entry.\n"
      ],
      "metadata": {
        "id": "tNAt85yGAIPM"
      }
    },
    {
      "cell_type": "code",
      "source": [
        "df_24_EEG.columns\n"
      ],
      "metadata": {
        "id": "1SzBODSvAcVH"
      },
      "execution_count": null,
      "outputs": []
    },
    {
      "cell_type": "code",
      "source": [
        "cols = ['Delta_TP9', 'Delta_AF7',\n",
        "       'Delta_AF8', 'Delta_TP10', 'Theta_TP9', 'Theta_AF7', 'Theta_AF8',\n",
        "       'Theta_TP10', 'Alpha_TP9', 'Alpha_AF7', 'Alpha_AF8', 'Alpha_TP10',\n",
        "       'Beta_TP9', 'Beta_AF7', 'Beta_AF8', 'Beta_TP10', 'Gamma_TP9',\n",
        "       'Gamma_AF7', 'Gamma_AF8', 'Gamma_TP10', 'RAW_TP9', 'RAW_AF7', 'RAW_AF8',\n",
        "       'RAW_TP10', 'AUX_RIGHT', 'Accelerometer_X', 'Accelerometer_Y',\n",
        "       'Accelerometer_Z', 'Gyro_X', 'Gyro_Y', 'Gyro_Z',\n",
        "       'HSI_TP9', 'HSI_AF7', 'HSI_AF8', 'HSI_TP10', 'Battery']"
      ],
      "metadata": {
        "id": "sNalUYCkA_48"
      },
      "execution_count": null,
      "outputs": []
    },
    {
      "cell_type": "code",
      "source": [
        "from IPython.display import display, Markdown\n",
        "\n",
        "\n",
        "for col in cols:\n",
        "    # Add a markdown cell before each plot for better separation and labeling\n",
        "    display(Markdown(f'### {col} over Time'))\n",
        "    plt.figure(figsize=(16, 10))\n",
        "    plt.plot(df_24_EEG['TimeStamp'], df_24_EEG[col])\n",
        "    plt.xlabel(\"TimeStamp\") # Add x-axis label\n",
        "    plt.ylabel(col) # Add y-axis label\n",
        "    plt.show()"
      ],
      "metadata": {
        "id": "0UX4qBIYBVi7"
      },
      "execution_count": null,
      "outputs": []
    },
    {
      "cell_type": "code",
      "source": [
        "plt.figure(figsize=(28,12))\n",
        "sns.heatmap(df_24_EEG.corr(numeric_only=True), cmap='YlGnBu', annot=True)\n",
        "plt.show()"
      ],
      "metadata": {
        "id": "1RHCf9-xBwc7"
      },
      "execution_count": null,
      "outputs": []
    },
    {
      "cell_type": "markdown",
      "source": [
        "## Notes & Observations\n",
        "\n",
        "### Dropping `AUX_RIGHT`\n",
        "- The `AUX_RIGHT` channel comes from the auxiliary electrode input of the EEG headset.  \n",
        "- Upon inspection, its values appeared as **flat high-amplitude noise** (750–950 range) without any meaningful oscillatory EEG patterns.  \n",
        "- Correlation analysis also showed **no significant relationship** between `AUX_RIGHT` and other EEG features.  \n",
        "- Since it does not carry useful information and only adds noise/dimensionality, we **dropped `AUX_RIGHT`** from the dataset.\n",
        "\n",
        "\n"
      ],
      "metadata": {
        "id": "SxtV5anLCN51"
      }
    },
    {
      "cell_type": "code",
      "source": [
        "df_24_EEG.drop('AUX_RIGHT', axis=1, inplace=True)"
      ],
      "metadata": {
        "id": "gqn1J6_1CpXz"
      },
      "execution_count": null,
      "outputs": []
    },
    {
      "cell_type": "code",
      "source": [
        "df_24_EEG.head()"
      ],
      "metadata": {
        "id": "Io3fDppzDhKR"
      },
      "execution_count": null,
      "outputs": []
    },
    {
      "cell_type": "code",
      "source": [
        "HSI_cols = [\"HSI_TP9\", \"HSI_AF7\", \"HSI_AF8\", \"HSI_TP10\"]"
      ],
      "metadata": {
        "id": "cpwrqSSXD8bP"
      },
      "execution_count": null,
      "outputs": []
    },
    {
      "cell_type": "code",
      "source": [
        "for col in HSI_cols:\n",
        "    print(f\"Unique values for {col}: {df_24_EEG[col].unique()}\")"
      ],
      "metadata": {
        "id": "yLBHgpn9Ejk4"
      },
      "execution_count": null,
      "outputs": []
    },
    {
      "cell_type": "code",
      "source": [
        "df_24_EEG['HSI_TP9'].value_counts()"
      ],
      "metadata": {
        "id": "EaMyhI6yE3_o"
      },
      "execution_count": null,
      "outputs": []
    },
    {
      "cell_type": "code",
      "source": [
        "df_24_EEG['HSI_TP10'].value_counts()"
      ],
      "metadata": {
        "id": "poiyX_BeFQwi"
      },
      "execution_count": null,
      "outputs": []
    },
    {
      "cell_type": "code",
      "source": [
        "df_24_EEG['HSI_AF7'].value_counts()"
      ],
      "metadata": {
        "id": "_FMC3DFJFnFP"
      },
      "execution_count": null,
      "outputs": []
    },
    {
      "cell_type": "code",
      "source": [
        "df_24_EEG['HSI_AF8'].value_counts()"
      ],
      "metadata": {
        "id": "hAsr2uXPGD0I"
      },
      "execution_count": null,
      "outputs": []
    },
    {
      "cell_type": "code",
      "source": [
        "df_24_EEG.describe()"
      ],
      "metadata": {
        "id": "FGco5eDaGdsc"
      },
      "execution_count": null,
      "outputs": []
    },
    {
      "cell_type": "markdown",
      "source": [
        "## Notes & Observations\n",
        "\n",
        "### Handling `HSI_*` Columns\n",
        "- The `HSI_TP9`, `HSI_AF7`, `HSI_AF8`, `HSI_TP10` columns represent **Headset Signal Integrity** for each electrode:  \n",
        "  - `1 = Good connection`  \n",
        "  - `2 = Medium connection`  \n",
        "  - `4 = Bad connection`  \n",
        "- We need to pay attention to these values because:\n",
        "  - Bad connections (`4`) indicate unreliable EEG readings.  \n",
        "  - Medium connections (`2`) may still be usable but should be treated with caution.  \n",
        "- Instead of dropping rows, we will **convert HSI values into binary flags**:  \n",
        "  - **1 = Bad connection present**  \n",
        "  - **0 = Otherwise (Good or Medium)**  \n",
        "- This preserves all data while giving the model information about electrode reliability.  \n",
        "- After creating these flags, the raw `HSI_*` columns can be removed to reduce dimensionality.\n"
      ],
      "metadata": {
        "id": "4nA8dkipG3xL"
      }
    },
    {
      "cell_type": "code",
      "source": [
        "df_24_EEG.head()"
      ],
      "metadata": {
        "id": "5peJ5Z1VHXXY"
      },
      "execution_count": null,
      "outputs": []
    },
    {
      "cell_type": "code",
      "source": [
        "signal_flags_values = { 1: 0, 2: 0, 4: 1}"
      ],
      "metadata": {
        "id": "IIAjcmPLIMsJ"
      },
      "execution_count": null,
      "outputs": []
    },
    {
      "cell_type": "code",
      "source": [
        "df_24_EEG['HSI_TP9_flag'] = df_24_EEG['HSI_TP9'].map(signal_flags_values).astype(np.int8)\n",
        "df_24_EEG['HSI_TP10_flag'] = df_24_EEG['HSI_TP10'].map(signal_flags_values).astype(np.int8)\n",
        "df_24_EEG['HSI_AF7_flag'] = df_24_EEG['HSI_AF7'].map(signal_flags_values).astype(np.int8)\n",
        "df_24_EEG['HSI_AF8_flag'] = df_24_EEG['HSI_AF8'].map(signal_flags_values).astype(np.int8)"
      ],
      "metadata": {
        "id": "m0BO3hvdI5Le"
      },
      "execution_count": null,
      "outputs": []
    },
    {
      "cell_type": "code",
      "source": [
        "df_24_EEG.drop(['HSI_TP9', 'HSI_TP10', 'HSI_AF7', 'HSI_AF8'], axis=1, inplace=True)"
      ],
      "metadata": {
        "id": "M9k_y3hHJZh8"
      },
      "execution_count": null,
      "outputs": []
    },
    {
      "cell_type": "code",
      "source": [
        "plt.figure(figsize=(28,12))\n",
        "sns.heatmap(df_24_EEG.corr(numeric_only=True), cmap='YlGnBu', annot=True)a\n",
        "plt.show()"
      ],
      "metadata": {
        "id": "Wt5fmz5ZJlAK"
      },
      "execution_count": null,
      "outputs": []
    },
    {
      "cell_type": "markdown",
      "source": [
        "## Notes & Observations\n",
        "\n",
        "### Dropping RAW EEG Channels\n",
        "\n",
        "- The EEG dataset includes `RAW_TP9`, `RAW_AF7`, `RAW_AF8`, `RAW_TP10` columns, which represent the unprocessed voltage readings from each electrode.  \n",
        "- Upon inspection:\n",
        "  - These RAW signals are **highly noisy** and show no clear oscillatory patterns typical of brainwave activity.  \n",
        "  - Correlation analysis with other features shows **very low correlations** (near 0.0), indicating they do not contribute predictive value.  \n",
        "  - Plots of RAW vs. time reveal large fluctuations without meaningful structure.\n",
        "\n",
        "- Reason for dropping:\n",
        "  - The dataset already provides **frequency band powers** (`Delta`, `Theta`, `Alpha`, `Beta`, `Gamma`) for each electrode, which are **derived from RAW signals** and are far more informative.  \n",
        "  - Keeping RAW adds unnecessary dimensionality and noise, which can negatively affect machine learning models.\n",
        "\n",
        "- Action taken:\n",
        "  - `RAW_TP9`, `RAW_AF7`, `RAW_AF8`, `RAW_TP10` are **dropped from preprocessing**.  \n",
        "  - The focus will be on the **precomputed band power features** for all EEG electrodes, which are sufficient for cognitive load prediction and regression tasks.\n"
      ],
      "metadata": {
        "id": "f7XqrK-eKIfo"
      }
    },
    {
      "cell_type": "code",
      "source": [
        "df_24_EEG.drop(['RAW_TP9',\t'RAW_AF7',\t'RAW_AF8',\t'RAW_TP10'], axis=1, inplace=True)"
      ],
      "metadata": {
        "id": "7qHtDsOcKY5S"
      },
      "execution_count": null,
      "outputs": []
    },
    {
      "cell_type": "code",
      "source": [
        "df_24_EEG.head()"
      ],
      "metadata": {
        "id": "SFrLFCsPK6Ez"
      },
      "execution_count": null,
      "outputs": []
    },
    {
      "cell_type": "code",
      "source": [
        "# Select only the numeric columns for plotting histograms, excluding time-related columns\n",
        "numeric_cols = df_24_EEG.select_dtypes(include=np.number).columns\n",
        "cols_to_plot = [col for col in numeric_cols if col not in ['UnixTime']]\n",
        "\n",
        "# Calculate the number of rows and columns for the grid\n",
        "n_cols = 4  # You can adjust the number of columns as needed\n",
        "n_rows = (len(cols_to_plot) + n_cols - 1) // n_cols\n",
        "\n",
        "plt.figure(figsize=(n_cols * 5, n_rows * 4)) # Adjust figure size as needed\n",
        "\n",
        "for i, col in enumerate(cols_to_plot):\n",
        "    plt.subplot(n_rows, n_cols, i + 1)\n",
        "    sns.histplot(df_24_EEG[col], kde=True)\n",
        "    plt.title(f'Distribution of {col}')\n",
        "    plt.xlabel(col)\n",
        "    plt.ylabel('Frequency')\n",
        "\n",
        "plt.tight_layout()\n",
        "plt.show()"
      ],
      "metadata": {
        "id": "B0KATl2_LIfB"
      },
      "execution_count": null,
      "outputs": []
    },
    {
      "cell_type": "code",
      "source": [
        "plt.figure(figsize=(28,12))\n",
        "sns.pairplot(df_24_EEG)\n",
        "plt.show()"
      ],
      "metadata": {
        "id": "NsuNSAEvLul3"
      },
      "execution_count": null,
      "outputs": []
    },
    {
      "cell_type": "markdown",
      "source": [
        "***25 EGG***"
      ],
      "metadata": {
        "id": "Nv0aOIrB4iiZ"
      }
    },
    {
      "cell_type": "code",
      "source": [
        "df_25_EEG = pd.read_csv('data/STData/25/25_EEG.csv')"
      ],
      "metadata": {
        "id": "OnmM1tRZ4M8i"
      },
      "execution_count": null,
      "outputs": []
    },
    {
      "cell_type": "code",
      "source": [
        "df_25_EEG.head()"
      ],
      "metadata": {
        "id": "RaCwfQ3T4SiM"
      },
      "execution_count": null,
      "outputs": []
    },
    {
      "cell_type": "code",
      "source": [
        "df_25_EEG.shape"
      ],
      "metadata": {
        "id": "dqscKsUS5KUZ"
      },
      "execution_count": null,
      "outputs": []
    },
    {
      "cell_type": "code",
      "source": [
        "df_25_EEG.columns"
      ],
      "metadata": {
        "id": "Ldft95iA5hBl"
      },
      "execution_count": null,
      "outputs": []
    },
    {
      "cell_type": "code",
      "source": [
        "df_25_EEG.info()"
      ],
      "metadata": {
        "id": "ZUEVpPuc5tCy"
      },
      "execution_count": null,
      "outputs": []
    },
    {
      "cell_type": "code",
      "source": [
        "df_25_EEG.isnull().sum()"
      ],
      "metadata": {
        "id": "ru2ZNTSe53G8"
      },
      "execution_count": null,
      "outputs": []
    },
    {
      "cell_type": "code",
      "source": [
        "plt.figure(figsize=(16,10))\n",
        "sns.heatmap(df_25_EEG.isnull(), cmap='YlGnBu')\n",
        "plt.show()"
      ],
      "metadata": {
        "id": "TyFiHQYC6C4E"
      },
      "execution_count": null,
      "outputs": []
    },
    {
      "cell_type": "markdown",
      "source": [
        "# Notes & Observations\n",
        "\n",
        "- We observe many **null** (or missing) values in the `QuestionKey` and `Elements` columns.  \n",
        "- The nulls in the `QuestionKey` column may not represent “true” nulls. Rather, they follow interval patterns, suggesting that during those periods no question was displayed.  \n",
        "- These missing values in `QuestionKey` require additional investigation and context-aware handling.  \n",
        "- The `Elements` column is almost entirely null; dropping it likely won’t meaningfully impact our data quality.\n"
      ],
      "metadata": {
        "id": "DXlGPBsC6OnA"
      }
    },
    {
      "cell_type": "code",
      "source": [
        "df_25_EEG['QuestionKey'].unique()"
      ],
      "metadata": {
        "id": "-QQ75-US6yJt"
      },
      "execution_count": null,
      "outputs": []
    },
    {
      "cell_type": "code",
      "source": [
        "df_25_EEG['TimeStamp'] = pd.to_datetime(df_25_EEG['TimeStamp'])"
      ],
      "metadata": {
        "id": "wuxO7_ex7Tan"
      },
      "execution_count": null,
      "outputs": []
    },
    {
      "cell_type": "code",
      "source": [
        "df_25_EEG.describe()"
      ],
      "metadata": {
        "id": "NGTPTPWv7hg2"
      },
      "execution_count": null,
      "outputs": []
    },
    {
      "cell_type": "code",
      "source": [
        "df_25_EEG.head(3)"
      ],
      "metadata": {
        "id": "CNZFBMO67wEy"
      },
      "execution_count": null,
      "outputs": []
    },
    {
      "cell_type": "code",
      "source": [
        "df_25_EEG.drop('Elements', axis=1, inplace=True)"
      ],
      "metadata": {
        "id": "WbCd2Csl8Crv"
      },
      "execution_count": null,
      "outputs": []
    },
    {
      "cell_type": "code",
      "source": [
        "df_25_EEG['QuestionKey'].unique()"
      ],
      "metadata": {
        "id": "G6VM52VC8WHG"
      },
      "execution_count": null,
      "outputs": []
    },
    {
      "cell_type": "code",
      "source": [
        "df_25_EEG['QuestionKey'].fillna('None', inplace=True)"
      ],
      "metadata": {
        "id": "XpqHvZfT8srC"
      },
      "execution_count": null,
      "outputs": []
    },
    {
      "cell_type": "code",
      "source": [
        "df_25_EEG['QuestionKey'].value_counts()"
      ],
      "metadata": {
        "id": "zt04UfvR84ZT"
      },
      "execution_count": null,
      "outputs": []
    },
    {
      "cell_type": "code",
      "source": [
        "df_25_EEG['HeadBandOn'].unique()"
      ],
      "metadata": {
        "id": "L4_P3L169Dhq"
      },
      "execution_count": null,
      "outputs": []
    },
    {
      "cell_type": "code",
      "source": [
        "df_25_EEG['HeadBandOn'].isnull().sum()"
      ],
      "metadata": {
        "id": "9jKJA7jH9P8h"
      },
      "execution_count": null,
      "outputs": []
    },
    {
      "cell_type": "code",
      "source": [
        "df_25_EEG.shape"
      ],
      "metadata": {
        "id": "QOi8Is6z9mBH"
      },
      "execution_count": null,
      "outputs": []
    },
    {
      "cell_type": "code",
      "source": [
        "df_25_EEG.dropna(inplace=True)"
      ],
      "metadata": {
        "id": "Z_jAbsH-90Mx"
      },
      "execution_count": null,
      "outputs": []
    },
    {
      "cell_type": "code",
      "source": [
        "df_25_EEG.shape"
      ],
      "metadata": {
        "id": "FUpLYnPP-Gyf"
      },
      "execution_count": null,
      "outputs": []
    },
    {
      "cell_type": "code",
      "source": [
        "df_25_EEG.drop('HeadBandOn', axis=1, inplace=True)"
      ],
      "metadata": {
        "id": "H2gaZecL-bc0"
      },
      "execution_count": null,
      "outputs": []
    },
    {
      "cell_type": "code",
      "source": [
        "plt.figure(figsize=(16,10))\n",
        "sns.heatmap(df_25_EEG.isnull(), cmap='YlGnBu')\n",
        "plt.show()"
      ],
      "metadata": {
        "id": "GG_Opcyh-yRB"
      },
      "execution_count": null,
      "outputs": []
    },
    {
      "cell_type": "markdown",
      "source": [
        "## Status Update\n",
        "\n",
        "- All **null** (or missing) values in the dataset have been handled / eliminated.\n",
        "- There are no remaining null values in any column.\n",
        "- The dataset is now “complete” in the sense that every cell has a valid (non-null) entry.\n"
      ],
      "metadata": {
        "id": "j2tlqsJxAJva"
      }
    },
    {
      "cell_type": "code",
      "source": [
        "df_25_EEG.columns\n"
      ],
      "metadata": {
        "id": "ZeOv9t-2AeHZ"
      },
      "execution_count": null,
      "outputs": []
    },
    {
      "cell_type": "code",
      "source": [
        "cols = ['Delta_TP9', 'Delta_AF7',\n",
        "       'Delta_AF8', 'Delta_TP10', 'Theta_TP9', 'Theta_AF7', 'Theta_AF8',\n",
        "       'Theta_TP10', 'Alpha_TP9', 'Alpha_AF7', 'Alpha_AF8', 'Alpha_TP10',\n",
        "       'Beta_TP9', 'Beta_AF7', 'Beta_AF8', 'Beta_TP10', 'Gamma_TP9',\n",
        "       'Gamma_AF7', 'Gamma_AF8', 'Gamma_TP10', 'RAW_TP9', 'RAW_AF7', 'RAW_AF8',\n",
        "       'RAW_TP10', 'AUX_RIGHT', 'Accelerometer_X', 'Accelerometer_Y',\n",
        "       'Accelerometer_Z', 'Gyro_X', 'Gyro_Y', 'Gyro_Z',\n",
        "       'HSI_TP9', 'HSI_AF7', 'HSI_AF8', 'HSI_TP10', 'Battery']"
      ],
      "metadata": {
        "id": "MTeeT-IPBB6R"
      },
      "execution_count": null,
      "outputs": []
    },
    {
      "cell_type": "code",
      "source": [
        "from IPython.display import display, Markdown\n",
        "\n",
        "\n",
        "for col in cols:\n",
        "    # Add a markdown cell before each plot for better separation and labeling\n",
        "    display(Markdown(f'### {col} over Time'))\n",
        "    plt.figure(figsize=(16, 10))\n",
        "    plt.plot(df_25_EEG['TimeStamp'], df_25_EEG[col])\n",
        "    plt.xlabel(\"TimeStamp\") # Add x-axis label\n",
        "    plt.ylabel(col) # Add y-axis label\n",
        "    plt.show()"
      ],
      "metadata": {
        "id": "aI4a0RWtBbkd"
      },
      "execution_count": null,
      "outputs": []
    },
    {
      "cell_type": "code",
      "source": [
        "plt.figure(figsize=(28,12))\n",
        "sns.heatmap(df_25_EEG.corr(numeric_only=True), cmap='YlGnBu', annot=True)\n",
        "plt.show()"
      ],
      "metadata": {
        "id": "IJEnjrJIByAX"
      },
      "execution_count": null,
      "outputs": []
    },
    {
      "cell_type": "markdown",
      "source": [
        "## Notes & Observations\n",
        "\n",
        "### Dropping `AUX_RIGHT`\n",
        "- The `AUX_RIGHT` channel comes from the auxiliary electrode input of the EEG headset.  \n",
        "- Upon inspection, its values appeared as **flat high-amplitude noise** (750–950 range) without any meaningful oscillatory EEG patterns.  \n",
        "- Correlation analysis also showed **no significant relationship** between `AUX_RIGHT` and other EEG features.  \n",
        "- Since it does not carry useful information and only adds noise/dimensionality, we **dropped `AUX_RIGHT`** from the dataset.\n",
        "\n",
        "\n"
      ],
      "metadata": {
        "id": "KFHwr8zzCPqQ"
      }
    },
    {
      "cell_type": "code",
      "source": [
        "df_25_EEG.drop('AUX_RIGHT', axis=1, inplace=True)"
      ],
      "metadata": {
        "id": "4JOANCzYCrFl"
      },
      "execution_count": null,
      "outputs": []
    },
    {
      "cell_type": "code",
      "source": [
        "df_25_EEG.head()"
      ],
      "metadata": {
        "id": "xJ12Lo1nDjUx"
      },
      "execution_count": null,
      "outputs": []
    },
    {
      "cell_type": "code",
      "source": [
        "HSI_cols = [\"HSI_TP9\", \"HSI_AF7\", \"HSI_AF8\", \"HSI_TP10\"]"
      ],
      "metadata": {
        "id": "v4Xzb88ND-U_"
      },
      "execution_count": null,
      "outputs": []
    },
    {
      "cell_type": "code",
      "source": [
        "for col in HSI_cols:\n",
        "    print(f\"Unique values for {col}: {df_25_EEG[col].unique()}\")"
      ],
      "metadata": {
        "id": "TGrVMQihElH5"
      },
      "execution_count": null,
      "outputs": []
    },
    {
      "cell_type": "code",
      "source": [
        "df_25_EEG['HSI_TP9'].value_counts()"
      ],
      "metadata": {
        "id": "rdCpVD0KE5se"
      },
      "execution_count": null,
      "outputs": []
    },
    {
      "cell_type": "code",
      "source": [
        "df_25_EEG['HSI_TP10'].value_counts()"
      ],
      "metadata": {
        "id": "dgYbDVnKFSc1"
      },
      "execution_count": null,
      "outputs": []
    },
    {
      "cell_type": "code",
      "source": [
        "df_25_EEG['HSI_AF7'].value_counts()"
      ],
      "metadata": {
        "id": "RDFHBUfEFt5D"
      },
      "execution_count": null,
      "outputs": []
    },
    {
      "cell_type": "code",
      "source": [
        "df_25_EEG['HSI_AF8'].value_counts()"
      ],
      "metadata": {
        "id": "eQNOFtB6GFoQ"
      },
      "execution_count": null,
      "outputs": []
    },
    {
      "cell_type": "code",
      "source": [
        "df_25_EEG.describe()"
      ],
      "metadata": {
        "id": "DhLnGyqZGg6P"
      },
      "execution_count": null,
      "outputs": []
    },
    {
      "cell_type": "markdown",
      "source": [
        "## Notes & Observations\n",
        "\n",
        "### Handling `HSI_*` Columns\n",
        "- The `HSI_TP9`, `HSI_AF7`, `HSI_AF8`, `HSI_TP10` columns represent **Headset Signal Integrity** for each electrode:  \n",
        "  - `1 = Good connection`  \n",
        "  - `2 = Medium connection`  \n",
        "  - `4 = Bad connection`  \n",
        "- We need to pay attention to these values because:\n",
        "  - Bad connections (`4`) indicate unreliable EEG readings.  \n",
        "  - Medium connections (`2`) may still be usable but should be treated with caution.  \n",
        "- Instead of dropping rows, we will **convert HSI values into binary flags**:  \n",
        "  - **1 = Bad connection present**  \n",
        "  - **0 = Otherwise (Good or Medium)**  \n",
        "- This preserves all data while giving the model information about electrode reliability.  \n",
        "- After creating these flags, the raw `HSI_*` columns can be removed to reduce dimensionality.\n"
      ],
      "metadata": {
        "id": "8lVl0Q2CG5uf"
      }
    },
    {
      "cell_type": "code",
      "source": [
        "df_25_EEG.head()"
      ],
      "metadata": {
        "id": "vv6RUphXHZ3Z"
      },
      "execution_count": null,
      "outputs": []
    },
    {
      "cell_type": "code",
      "source": [
        "signal_flags_values = { 1: 0, 2: 0, 4: 1}"
      ],
      "metadata": {
        "id": "LyenDgleIPKQ"
      },
      "execution_count": null,
      "outputs": []
    },
    {
      "cell_type": "code",
      "source": [
        "df_25_EEG['HSI_TP9_flag'] = df_25_EEG['HSI_TP9'].map(signal_flags_values).astype(np.int8)\n",
        "df_25_EEG['HSI_TP10_flag'] = df_25_EEG['HSI_TP10'].map(signal_flags_values).astype(np.int8)\n",
        "df_25_EEG['HSI_AF7_flag'] = df_25_EEG['HSI_AF7'].map(signal_flags_values).astype(np.int8)\n",
        "df_25_EEG['HSI_AF8_flag'] = df_25_EEG['HSI_AF8'].map(signal_flags_values).astype(np.int8)"
      ],
      "metadata": {
        "id": "fzLQShwXI7ew"
      },
      "execution_count": null,
      "outputs": []
    },
    {
      "cell_type": "code",
      "source": [
        "df_25_EEG.drop(['HSI_TP9', 'HSI_TP10', 'HSI_AF7', 'HSI_AF8'], axis=1, inplace=True)"
      ],
      "metadata": {
        "id": "EuxMHNBCJXeg"
      },
      "execution_count": null,
      "outputs": []
    },
    {
      "cell_type": "code",
      "source": [
        "plt.figure(figsize=(28,12))\n",
        "sns.heatmap(df_25_EEG.corr(numeric_only=True), cmap='YlGnBu', annot=True)a\n",
        "plt.show()"
      ],
      "metadata": {
        "id": "nJfEKz1VJnS5"
      },
      "execution_count": null,
      "outputs": []
    },
    {
      "cell_type": "markdown",
      "source": [
        "## Notes & Observations\n",
        "\n",
        "### Dropping RAW EEG Channels\n",
        "\n",
        "- The EEG dataset includes `RAW_TP9`, `RAW_AF7`, `RAW_AF8`, `RAW_TP10` columns, which represent the unprocessed voltage readings from each electrode.  \n",
        "- Upon inspection:\n",
        "  - These RAW signals are **highly noisy** and show no clear oscillatory patterns typical of brainwave activity.  \n",
        "  - Correlation analysis with other features shows **very low correlations** (near 0.0), indicating they do not contribute predictive value.  \n",
        "  - Plots of RAW vs. time reveal large fluctuations without meaningful structure.\n",
        "\n",
        "- Reason for dropping:\n",
        "  - The dataset already provides **frequency band powers** (`Delta`, `Theta`, `Alpha`, `Beta`, `Gamma`) for each electrode, which are **derived from RAW signals** and are far more informative.  \n",
        "  - Keeping RAW adds unnecessary dimensionality and noise, which can negatively affect machine learning models.\n",
        "\n",
        "- Action taken:\n",
        "  - `RAW_TP9`, `RAW_AF7`, `RAW_AF8`, `RAW_TP10` are **dropped from preprocessing**.  \n",
        "  - The focus will be on the **precomputed band power features** for all EEG electrodes, which are sufficient for cognitive load prediction and regression tasks.\n"
      ],
      "metadata": {
        "id": "cULkOPm4KFso"
      }
    },
    {
      "cell_type": "code",
      "source": [
        "df_25_EEG.drop(['RAW_TP9',\t'RAW_AF7',\t'RAW_AF8',\t'RAW_TP10'], axis=1, inplace=True)"
      ],
      "metadata": {
        "id": "_UPIm56dKb0P"
      },
      "execution_count": null,
      "outputs": []
    },
    {
      "cell_type": "code",
      "source": [
        "df_25_EEG.head()"
      ],
      "metadata": {
        "id": "AE8WqFHFK36A"
      },
      "execution_count": null,
      "outputs": []
    },
    {
      "cell_type": "code",
      "source": [
        "# Select only the numeric columns for plotting histograms, excluding time-related columns\n",
        "numeric_cols = df_25_EEG.select_dtypes(include=np.number).columns\n",
        "cols_to_plot = [col for col in numeric_cols if col not in ['UnixTime']]\n",
        "\n",
        "# Calculate the number of rows and columns for the grid\n",
        "n_cols = 4  # You can adjust the number of columns as needed\n",
        "n_rows = (len(cols_to_plot) + n_cols - 1) // n_cols\n",
        "\n",
        "plt.figure(figsize=(n_cols * 5, n_rows * 4)) # Adjust figure size as needed\n",
        "\n",
        "for i, col in enumerate(cols_to_plot):\n",
        "    plt.subplot(n_rows, n_cols, i + 1)\n",
        "    sns.histplot(df_25_EEG[col], kde=True)\n",
        "    plt.title(f'Distribution of {col}')\n",
        "    plt.xlabel(col)\n",
        "    plt.ylabel('Frequency')\n",
        "\n",
        "plt.tight_layout()\n",
        "plt.show()"
      ],
      "metadata": {
        "id": "iNj2_ag8LLZZ"
      },
      "execution_count": null,
      "outputs": []
    },
    {
      "cell_type": "code",
      "source": [
        "plt.figure(figsize=(28,12))\n",
        "sns.pairplot(df_25_EEG)\n",
        "plt.show()"
      ],
      "metadata": {
        "id": "VuMkXWZeLrpq"
      },
      "execution_count": null,
      "outputs": []
    },
    {
      "cell_type": "markdown",
      "source": [
        "# ***26 EGG***"
      ],
      "metadata": {
        "id": "du1hbvwR4l8h"
      }
    },
    {
      "cell_type": "code",
      "source": [
        "df_26_EEG = pd.read_csv('data/STData/26/26_EEG.csv')"
      ],
      "metadata": {
        "id": "WQUlrYTU4KoK"
      },
      "execution_count": null,
      "outputs": []
    },
    {
      "cell_type": "code",
      "source": [
        "df_26_EEG.head()"
      ],
      "metadata": {
        "id": "Ri7_xUIn4THU"
      },
      "execution_count": null,
      "outputs": []
    },
    {
      "cell_type": "code",
      "source": [
        "df_26_EEG.shape"
      ],
      "metadata": {
        "id": "2h61A9lw5Lwq"
      },
      "execution_count": null,
      "outputs": []
    },
    {
      "cell_type": "code",
      "source": [
        "df_26_EEG.columns"
      ],
      "metadata": {
        "id": "0HZlZKHx5hpc"
      },
      "execution_count": null,
      "outputs": []
    },
    {
      "cell_type": "code",
      "source": [
        "df_26_EEG.info()"
      ],
      "metadata": {
        "id": "hGqWKptm5toQ"
      },
      "execution_count": null,
      "outputs": []
    },
    {
      "cell_type": "code",
      "source": [
        "df_26_EEG.isnull().sum()"
      ],
      "metadata": {
        "id": "zBUrF0hZ53u6"
      },
      "execution_count": null,
      "outputs": []
    },
    {
      "cell_type": "code",
      "source": [
        "plt.figure(figsize=(16,10))\n",
        "sns.heatmap(df_26_EEG.isnull(), cmap='YlGnBu')\n",
        "plt.show()"
      ],
      "metadata": {
        "id": "0SUGroZg6Dpp"
      },
      "execution_count": null,
      "outputs": []
    },
    {
      "cell_type": "markdown",
      "source": [
        "# Notes & Observations\n",
        "\n",
        "- We observe many **null** (or missing) values in the `QuestionKey` and `Elements` columns.  \n",
        "- The nulls in the `QuestionKey` column may not represent “true” nulls. Rather, they follow interval patterns, suggesting that during those periods no question was displayed.  \n",
        "- These missing values in `QuestionKey` require additional investigation and context-aware handling.  \n",
        "- The `Elements` column is almost entirely null; dropping it likely won’t meaningfully impact our data quality.\n"
      ],
      "metadata": {
        "id": "WsY8sNSf6Piw"
      }
    },
    {
      "cell_type": "code",
      "source": [
        "df_26_EEG['QuestionKey'].unique()"
      ],
      "metadata": {
        "id": "S4Uj_CJC6y4s"
      },
      "execution_count": null,
      "outputs": []
    },
    {
      "cell_type": "code",
      "source": [
        "df_26_EEG['TimeStamp'] = pd.to_datetime(df_6_EEG['TimeStamp'])"
      ],
      "metadata": {
        "id": "0_Te8KP07UO8"
      },
      "execution_count": null,
      "outputs": []
    },
    {
      "cell_type": "code",
      "source": [
        "df_26_EEG.describe()"
      ],
      "metadata": {
        "id": "Z3B_X3dV7iUi"
      },
      "execution_count": null,
      "outputs": []
    },
    {
      "cell_type": "code",
      "source": [
        "df_26_EEG.head(3)"
      ],
      "metadata": {
        "id": "hBQRhdi77xDR"
      },
      "execution_count": null,
      "outputs": []
    },
    {
      "cell_type": "code",
      "source": [
        "df_26_EEG.drop('Elements', axis=1, inplace=True)"
      ],
      "metadata": {
        "id": "Xv6SrGfd8Dzv"
      },
      "execution_count": null,
      "outputs": []
    },
    {
      "cell_type": "code",
      "source": [
        "df_26_EEG['QuestionKey'].unique()"
      ],
      "metadata": {
        "id": "aG1wXPbk8XDp"
      },
      "execution_count": null,
      "outputs": []
    },
    {
      "cell_type": "code",
      "source": [
        "df_26_EEG['QuestionKey'].fillna('None', inplace=True)"
      ],
      "metadata": {
        "id": "6dd7b4Fz8tyx"
      },
      "execution_count": null,
      "outputs": []
    },
    {
      "cell_type": "code",
      "source": [
        "df_26_EEG['QuestionKey'].value_counts()"
      ],
      "metadata": {
        "id": "7pf6IIwR85fT"
      },
      "execution_count": null,
      "outputs": []
    },
    {
      "cell_type": "code",
      "source": [
        "df_26_EEG['HeadBandOn'].unique()"
      ],
      "metadata": {
        "id": "AQQo6cNs9Eg1"
      },
      "execution_count": null,
      "outputs": []
    },
    {
      "cell_type": "code",
      "source": [
        "df_26_EEG['HeadBandOn'].isnull().sum()"
      ],
      "metadata": {
        "id": "2q6fPyg29Roi"
      },
      "execution_count": null,
      "outputs": []
    },
    {
      "cell_type": "code",
      "source": [
        "df_26_EEG.shape"
      ],
      "metadata": {
        "id": "5AP_Fy6l9nD4"
      },
      "execution_count": null,
      "outputs": []
    },
    {
      "cell_type": "code",
      "source": [
        "df_26_EEG.dropna(inplace=True)"
      ],
      "metadata": {
        "id": "a1v6Md9D92Oy"
      },
      "execution_count": null,
      "outputs": []
    },
    {
      "cell_type": "code",
      "source": [
        "df_26_EEG.shape"
      ],
      "metadata": {
        "id": "uKlQ2-L4-INO"
      },
      "execution_count": null,
      "outputs": []
    },
    {
      "cell_type": "code",
      "source": [
        "df_26_EEG.drop('HeadBandOn', axis=1, inplace=True)"
      ],
      "metadata": {
        "id": "RgI_-mOb-ctu"
      },
      "execution_count": null,
      "outputs": []
    },
    {
      "cell_type": "code",
      "source": [
        "plt.figure(figsize=(16,10))\n",
        "sns.heatmap(df_26_EEG.isnull(), cmap='YlGnBu')\n",
        "plt.show()"
      ],
      "metadata": {
        "id": "TWbkPtyC-0Rp"
      },
      "execution_count": null,
      "outputs": []
    },
    {
      "cell_type": "markdown",
      "source": [
        "## Status Update\n",
        "\n",
        "- All **null** (or missing) values in the dataset have been handled / eliminated.\n",
        "- There are no remaining null values in any column.\n",
        "- The dataset is now “complete” in the sense that every cell has a valid (non-null) entry.\n"
      ],
      "metadata": {
        "id": "EECPRHcvALGk"
      }
    },
    {
      "cell_type": "code",
      "source": [
        "df_26_EEG.columns\n"
      ],
      "metadata": {
        "id": "NuW4a3SYAreb"
      },
      "execution_count": null,
      "outputs": []
    },
    {
      "cell_type": "code",
      "source": [
        "cols = ['Delta_TP9', 'Delta_AF7',\n",
        "       'Delta_AF8', 'Delta_TP10', 'Theta_TP9', 'Theta_AF7', 'Theta_AF8',\n",
        "       'Theta_TP10', 'Alpha_TP9', 'Alpha_AF7', 'Alpha_AF8', 'Alpha_TP10',\n",
        "       'Beta_TP9', 'Beta_AF7', 'Beta_AF8', 'Beta_TP10', 'Gamma_TP9',\n",
        "       'Gamma_AF7', 'Gamma_AF8', 'Gamma_TP10', 'RAW_TP9', 'RAW_AF7', 'RAW_AF8',\n",
        "       'RAW_TP10', 'AUX_RIGHT', 'Accelerometer_X', 'Accelerometer_Y',\n",
        "       'Accelerometer_Z', 'Gyro_X', 'Gyro_Y', 'Gyro_Z',\n",
        "       'HSI_TP9', 'HSI_AF7', 'HSI_AF8', 'HSI_TP10', 'Battery']"
      ],
      "metadata": {
        "id": "Q68gAcXPBDlS"
      },
      "execution_count": null,
      "outputs": []
    },
    {
      "cell_type": "code",
      "source": [
        "from IPython.display import display, Markdown\n",
        "\n",
        "\n",
        "for col in cols:\n",
        "    # Add a markdown cell before each plot for better separation and labeling\n",
        "    display(Markdown(f'### {col} over Time'))\n",
        "    plt.figure(figsize=(16, 10))\n",
        "    plt.plot(df_26_EEG['TimeStamp'], df_26_EEG[col])\n",
        "    plt.xlabel(\"TimeStamp\") # Add x-axis label\n",
        "    plt.ylabel(col) # Add y-axis label\n",
        "    plt.show()"
      ],
      "metadata": {
        "id": "jvmVL_yyBdJn"
      },
      "execution_count": null,
      "outputs": []
    },
    {
      "cell_type": "code",
      "source": [
        "plt.figure(figsize=(28,12))\n",
        "sns.heatmap(df_26_EEG.corr(numeric_only=True), cmap='YlGnBu', annot=True)\n",
        "plt.show()"
      ],
      "metadata": {
        "id": "qWGf1eUwBzrt"
      },
      "execution_count": null,
      "outputs": []
    },
    {
      "cell_type": "markdown",
      "source": [
        "## Notes & Observations\n",
        "\n",
        "### Dropping `AUX_RIGHT`\n",
        "- The `AUX_RIGHT` channel comes from the auxiliary electrode input of the EEG headset.  \n",
        "- Upon inspection, its values appeared as **flat high-amplitude noise** (750–950 range) without any meaningful oscillatory EEG patterns.  \n",
        "- Correlation analysis also showed **no significant relationship** between `AUX_RIGHT` and other EEG features.  \n",
        "- Since it does not carry useful information and only adds noise/dimensionality, we **dropped `AUX_RIGHT`** from the dataset.\n",
        "\n",
        "\n"
      ],
      "metadata": {
        "id": "XBORM7rmCRpG"
      }
    },
    {
      "cell_type": "code",
      "source": [
        "df_26_EEG.drop('AUX_RIGHT', axis=1, inplace=True)"
      ],
      "metadata": {
        "id": "VW1U4y1-Ctbc"
      },
      "execution_count": null,
      "outputs": []
    },
    {
      "cell_type": "code",
      "source": [
        "df_26_EEG.head()"
      ],
      "metadata": {
        "id": "MiONvG0PDlEC"
      },
      "execution_count": null,
      "outputs": []
    },
    {
      "cell_type": "code",
      "source": [
        "HSI_cols = [\"HSI_TP9\", \"HSI_AF7\", \"HSI_AF8\", \"HSI_TP10\"]"
      ],
      "metadata": {
        "id": "DG0flg3CEAH6"
      },
      "execution_count": null,
      "outputs": []
    },
    {
      "cell_type": "code",
      "source": [
        "for col in HSI_cols:\n",
        "    print(f\"Unique values for {col}: {df_26_EEG[col].unique()}\")"
      ],
      "metadata": {
        "id": "_WfRaMtREm8h"
      },
      "execution_count": null,
      "outputs": []
    },
    {
      "cell_type": "code",
      "source": [
        "df_26_EEG['HSI_TP9'].value_counts()"
      ],
      "metadata": {
        "id": "UtrBXKXKE8-K"
      },
      "execution_count": null,
      "outputs": []
    },
    {
      "cell_type": "code",
      "source": [
        "df_26_EEG['HSI_TP10'].value_counts()"
      ],
      "metadata": {
        "id": "B26FGwg2FUH3"
      },
      "execution_count": null,
      "outputs": []
    },
    {
      "cell_type": "code",
      "source": [
        "df_26_EEG['HSI_AF7'].value_counts()"
      ],
      "metadata": {
        "id": "xBUl892wFv7c"
      },
      "execution_count": null,
      "outputs": []
    },
    {
      "cell_type": "code",
      "source": [
        "df_26_EEG['HSI_AF8'].value_counts()"
      ],
      "metadata": {
        "id": "_PfYdeXrGHv5"
      },
      "execution_count": null,
      "outputs": []
    },
    {
      "cell_type": "code",
      "source": [
        "df_26_EEG.describe()"
      ],
      "metadata": {
        "id": "mPljfyItGirr"
      },
      "execution_count": null,
      "outputs": []
    },
    {
      "cell_type": "markdown",
      "source": [
        "## Notes & Observations\n",
        "\n",
        "### Handling `HSI_*` Columns\n",
        "- The `HSI_TP9`, `HSI_AF7`, `HSI_AF8`, `HSI_TP10` columns represent **Headset Signal Integrity** for each electrode:  \n",
        "  - `1 = Good connection`  \n",
        "  - `2 = Medium connection`  \n",
        "  - `4 = Bad connection`  \n",
        "- We need to pay attention to these values because:\n",
        "  - Bad connections (`4`) indicate unreliable EEG readings.  \n",
        "  - Medium connections (`2`) may still be usable but should be treated with caution.  \n",
        "- Instead of dropping rows, we will **convert HSI values into binary flags**:  \n",
        "  - **1 = Bad connection present**  \n",
        "  - **0 = Otherwise (Good or Medium)**  \n",
        "- This preserves all data while giving the model information about electrode reliability.  \n",
        "- After creating these flags, the raw `HSI_*` columns can be removed to reduce dimensionality.\n"
      ],
      "metadata": {
        "id": "XQOVxxxHG78E"
      }
    },
    {
      "cell_type": "code",
      "source": [
        "df_26_EEG.head()"
      ],
      "metadata": {
        "id": "Wxxpv7kiHcsP"
      },
      "execution_count": null,
      "outputs": []
    },
    {
      "cell_type": "code",
      "source": [
        "signal_flags_values = { 1: 0, 2: 0, 4: 1}"
      ],
      "metadata": {
        "id": "LSqN6dGRIRhm"
      },
      "execution_count": null,
      "outputs": []
    },
    {
      "cell_type": "code",
      "source": [
        "df_26_EEG['HSI_TP9_flag'] = df_26_EEG['HSI_TP9'].map(signal_flags_values).astype(np.int8)\n",
        "df_26_EEG['HSI_TP10_flag'] = df_26_EEG['HSI_TP10'].map(signal_flags_values).astype(np.int8)\n",
        "df_26_EEG['HSI_AF7_flag'] = df_26_EEG['HSI_AF7'].map(signal_flags_values).astype(np.int8)\n",
        "df_26_EEG['HSI_AF8_flag'] = df_26_EEG['HSI_AF8'].map(signal_flags_values).astype(np.int8)"
      ],
      "metadata": {
        "id": "OHJUILiQJBbL"
      },
      "execution_count": null,
      "outputs": []
    },
    {
      "cell_type": "code",
      "source": [
        "df_26_EEG.drop(['HSI_TP9', 'HSI_TP10', 'HSI_AF7', 'HSI_AF8'], axis=1, inplace=True)"
      ],
      "metadata": {
        "id": "8jU_JWebJVjk"
      },
      "execution_count": null,
      "outputs": []
    },
    {
      "cell_type": "code",
      "source": [
        "plt.figure(figsize=(28,12))\n",
        "sns.heatmap(df_26_EEG.corr(numeric_only=True), cmap='YlGnBu', annot=True)a\n",
        "plt.show()"
      ],
      "metadata": {
        "id": "3TzVgPUBJpUT"
      },
      "execution_count": null,
      "outputs": []
    },
    {
      "cell_type": "markdown",
      "source": [
        "## Notes & Observations\n",
        "\n",
        "### Dropping RAW EEG Channels\n",
        "\n",
        "- The EEG dataset includes `RAW_TP9`, `RAW_AF7`, `RAW_AF8`, `RAW_TP10` columns, which represent the unprocessed voltage readings from each electrode.  \n",
        "- Upon inspection:\n",
        "  - These RAW signals are **highly noisy** and show no clear oscillatory patterns typical of brainwave activity.  \n",
        "  - Correlation analysis with other features shows **very low correlations** (near 0.0), indicating they do not contribute predictive value.  \n",
        "  - Plots of RAW vs. time reveal large fluctuations without meaningful structure.\n",
        "\n",
        "- Reason for dropping:\n",
        "  - The dataset already provides **frequency band powers** (`Delta`, `Theta`, `Alpha`, `Beta`, `Gamma`) for each electrode, which are **derived from RAW signals** and are far more informative.  \n",
        "  - Keeping RAW adds unnecessary dimensionality and noise, which can negatively affect machine learning models.\n",
        "\n",
        "- Action taken:\n",
        "  - `RAW_TP9`, `RAW_AF7`, `RAW_AF8`, `RAW_TP10` are **dropped from preprocessing**.  \n",
        "  - The focus will be on the **precomputed band power features** for all EEG electrodes, which are sufficient for cognitive load prediction and regression tasks.\n"
      ],
      "metadata": {
        "id": "kmeiM6IuKCnb"
      }
    },
    {
      "cell_type": "code",
      "source": [
        "df_26_EEG.drop(['RAW_TP9',\t'RAW_AF7',\t'RAW_AF8',\t'RAW_TP10'], axis=1, inplace=True)"
      ],
      "metadata": {
        "id": "iqAznktSKeuI"
      },
      "execution_count": null,
      "outputs": []
    },
    {
      "cell_type": "code",
      "source": [
        "df_26_EEG.head()"
      ],
      "metadata": {
        "id": "2WC9t2awK1TK"
      },
      "execution_count": null,
      "outputs": []
    },
    {
      "cell_type": "code",
      "source": [
        "# Select only the numeric columns for plotting histograms, excluding time-related columns\n",
        "numeric_cols = df_26_EEG.select_dtypes(include=np.number).columns\n",
        "cols_to_plot = [col for col in numeric_cols if col not in ['UnixTime']]\n",
        "\n",
        "# Calculate the number of rows and columns for the grid\n",
        "n_cols = 4  # You can adjust the number of columns as needed\n",
        "n_rows = (len(cols_to_plot) + n_cols - 1) // n_cols\n",
        "\n",
        "plt.figure(figsize=(n_cols * 5, n_rows * 4)) # Adjust figure size as needed\n",
        "\n",
        "for i, col in enumerate(cols_to_plot):\n",
        "    plt.subplot(n_rows, n_cols, i + 1)\n",
        "    sns.histplot(df_26_EEG[col], kde=True)\n",
        "    plt.title(f'Distribution of {col}')\n",
        "    plt.xlabel(col)\n",
        "    plt.ylabel('Frequency')\n",
        "\n",
        "plt.tight_layout()\n",
        "plt.show()"
      ],
      "metadata": {
        "id": "RigIIf5lLPEa"
      },
      "execution_count": null,
      "outputs": []
    },
    {
      "cell_type": "code",
      "source": [
        "plt.figure(figsize=(28,12))\n",
        "sns.pairplot(df_26_EEG)\n",
        "plt.show()"
      ],
      "metadata": {
        "id": "ZGeIn9mBLoBa"
      },
      "execution_count": null,
      "outputs": []
    },
    {
      "cell_type": "markdown",
      "source": [
        "***27 EGG***"
      ],
      "metadata": {
        "id": "X4E0J7Rt4qAP"
      }
    },
    {
      "cell_type": "code",
      "source": [
        "df_27_EEG = pd.read_csv('data/STData/27/27_EEG.csv')"
      ],
      "metadata": {
        "id": "LsKlqzv54KW4"
      },
      "execution_count": null,
      "outputs": []
    },
    {
      "cell_type": "code",
      "source": [
        "df_27_EEG.head()"
      ],
      "metadata": {
        "id": "qaiqaK6b4TkS"
      },
      "execution_count": null,
      "outputs": []
    },
    {
      "cell_type": "code",
      "source": [
        "df_27_EEG.shape"
      ],
      "metadata": {
        "id": "RVMvnmTC5MVC"
      },
      "execution_count": null,
      "outputs": []
    },
    {
      "cell_type": "code",
      "source": [
        "df_27_EEG.columns"
      ],
      "metadata": {
        "id": "FxNLmyXc5i77"
      },
      "execution_count": null,
      "outputs": []
    },
    {
      "cell_type": "code",
      "source": [
        "df_27_EEG.info()"
      ],
      "metadata": {
        "id": "dlMzTcHH5uey"
      },
      "execution_count": null,
      "outputs": []
    },
    {
      "cell_type": "code",
      "source": [
        "df_27_EEG.isnull().sum()"
      ],
      "metadata": {
        "id": "VuzLrEzu54M0"
      },
      "execution_count": null,
      "outputs": []
    },
    {
      "cell_type": "code",
      "source": [
        "plt.figure(figsize=(16,10))\n",
        "sns.heatmap(df_27_EEG.isnull(), cmap='YlGnBu')\n",
        "plt.show()"
      ],
      "metadata": {
        "id": "-2Me5gQE6Ed8"
      },
      "execution_count": null,
      "outputs": []
    },
    {
      "cell_type": "markdown",
      "source": [
        "# Notes & Observations\n",
        "\n",
        "- We observe many **null** (or missing) values in the `QuestionKey` and `Elements` columns.  \n",
        "- The nulls in the `QuestionKey` column may not represent “true” nulls. Rather, they follow interval patterns, suggesting that during those periods no question was displayed.  \n",
        "- These missing values in `QuestionKey` require additional investigation and context-aware handling.  \n",
        "- The `Elements` column is almost entirely null; dropping it likely won’t meaningfully impact our data quality.\n"
      ],
      "metadata": {
        "id": "j-II5wW_6QXs"
      }
    },
    {
      "cell_type": "code",
      "source": [
        "df_27_EEG['QuestionKey'].unique()"
      ],
      "metadata": {
        "id": "DC0T0Ipd60pN"
      },
      "execution_count": null,
      "outputs": []
    },
    {
      "cell_type": "code",
      "source": [
        "df_27_EEG['TimeStamp'] = pd.to_datetime(df_27_EEG['TimeStamp'])"
      ],
      "metadata": {
        "id": "pXGluKK37VDr"
      },
      "execution_count": null,
      "outputs": []
    },
    {
      "cell_type": "code",
      "source": [
        "df_27_EEG.describe()"
      ],
      "metadata": {
        "id": "76mzI_dP7jQG"
      },
      "execution_count": null,
      "outputs": []
    },
    {
      "cell_type": "code",
      "source": [
        "df_27_EEG.head(3)"
      ],
      "metadata": {
        "id": "dH8GGLWN7x2_"
      },
      "execution_count": null,
      "outputs": []
    },
    {
      "cell_type": "code",
      "source": [
        "df_27_EEG.drop('Elements', axis=1, inplace=True)"
      ],
      "metadata": {
        "id": "8wcTCYgf8Fdz"
      },
      "execution_count": null,
      "outputs": []
    },
    {
      "cell_type": "code",
      "source": [
        "df_27_EEG['QuestionKey'].unique()"
      ],
      "metadata": {
        "id": "0qWxNcgr8YNr"
      },
      "execution_count": null,
      "outputs": []
    },
    {
      "cell_type": "code",
      "source": [
        "df_27_EEG['QuestionKey'].fillna('None', inplace=True)"
      ],
      "metadata": {
        "id": "BZQhUfZa8vCf"
      },
      "execution_count": null,
      "outputs": []
    },
    {
      "cell_type": "code",
      "source": [
        "df_27_EEG['QuestionKey'].value_counts()"
      ],
      "metadata": {
        "id": "Gr7JVf_O86WT"
      },
      "execution_count": null,
      "outputs": []
    },
    {
      "cell_type": "code",
      "source": [
        "df_27_EEG['HeadBandOn'].unique()"
      ],
      "metadata": {
        "id": "Lqm1WH3s9FSb"
      },
      "execution_count": null,
      "outputs": []
    },
    {
      "cell_type": "code",
      "source": [
        "df_27_EEG['HeadBandOn'].isnull().sum()"
      ],
      "metadata": {
        "id": "IMjcJtNN9TWC"
      },
      "execution_count": null,
      "outputs": []
    },
    {
      "cell_type": "code",
      "source": [
        "df_27_EEG.shape"
      ],
      "metadata": {
        "id": "VsnJTwGf9oGY"
      },
      "execution_count": null,
      "outputs": []
    },
    {
      "cell_type": "code",
      "source": [
        "df_27_EEG.dropna(inplace=True)"
      ],
      "metadata": {
        "id": "M2q5f-3j93as"
      },
      "execution_count": null,
      "outputs": []
    },
    {
      "cell_type": "code",
      "source": [
        "df_27_EEG.shape"
      ],
      "metadata": {
        "id": "3Hfjx-1i-JU0"
      },
      "execution_count": null,
      "outputs": []
    },
    {
      "cell_type": "code",
      "source": [
        "df_27_EEG.drop('HeadBandOn', axis=1, inplace=True)"
      ],
      "metadata": {
        "id": "QrIyPddE-eCb"
      },
      "execution_count": null,
      "outputs": []
    },
    {
      "cell_type": "code",
      "source": [
        "plt.figure(figsize=(16,10))\n",
        "sns.heatmap(df_27_EEG.isnull(), cmap='YlGnBu')\n",
        "plt.show()"
      ],
      "metadata": {
        "id": "B80H8bJ6-1d_"
      },
      "execution_count": null,
      "outputs": []
    },
    {
      "cell_type": "markdown",
      "source": [
        "## Status Update\n",
        "\n",
        "- All **null** (or missing) values in the dataset have been handled / eliminated.\n",
        "- There are no remaining null values in any column.\n",
        "- The dataset is now “complete” in the sense that every cell has a valid (non-null) entry.\n"
      ],
      "metadata": {
        "id": "W5DlZduNAMhF"
      }
    },
    {
      "cell_type": "code",
      "source": [
        "df_27_EEG.columns\n"
      ],
      "metadata": {
        "id": "ZeuuRvFwAtel"
      },
      "execution_count": null,
      "outputs": []
    },
    {
      "cell_type": "code",
      "source": [
        "cols = ['Delta_TP9', 'Delta_AF7',\n",
        "       'Delta_AF8', 'Delta_TP10', 'Theta_TP9', 'Theta_AF7', 'Theta_AF8',\n",
        "       'Theta_TP10', 'Alpha_TP9', 'Alpha_AF7', 'Alpha_AF8', 'Alpha_TP10',\n",
        "       'Beta_TP9', 'Beta_AF7', 'Beta_AF8', 'Beta_TP10', 'Gamma_TP9',\n",
        "       'Gamma_AF7', 'Gamma_AF8', 'Gamma_TP10', 'RAW_TP9', 'RAW_AF7', 'RAW_AF8',\n",
        "       'RAW_TP10', 'AUX_RIGHT', 'Accelerometer_X', 'Accelerometer_Y',\n",
        "       'Accelerometer_Z', 'Gyro_X', 'Gyro_Y', 'Gyro_Z',\n",
        "       'HSI_TP9', 'HSI_AF7', 'HSI_AF8', 'HSI_TP10', 'Battery']"
      ],
      "metadata": {
        "id": "ZUKH-vYGBFMm"
      },
      "execution_count": null,
      "outputs": []
    },
    {
      "cell_type": "code",
      "source": [
        "from IPython.display import display, Markdown\n",
        "\n",
        "\n",
        "for col in cols:\n",
        "    # Add a markdown cell before each plot for better separation and labeling\n",
        "    display(Markdown(f'### {col} over Time'))\n",
        "    plt.figure(figsize=(16, 10))\n",
        "    plt.plot(df_27_EEG['TimeStamp'], df_27_EEG[col])\n",
        "    plt.xlabel(\"TimeStamp\") # Add x-axis label\n",
        "    plt.ylabel(col) # Add y-axis label\n",
        "    plt.show()"
      ],
      "metadata": {
        "id": "Q9_J6tKGBev2"
      },
      "execution_count": null,
      "outputs": []
    },
    {
      "cell_type": "code",
      "source": [
        "plt.figure(figsize=(28,12))\n",
        "sns.heatmap(df_27_EEG.corr(numeric_only=True), cmap='YlGnBu', annot=True)\n",
        "plt.show()"
      ],
      "metadata": {
        "id": "w3iX3HkaB1Wn"
      },
      "execution_count": null,
      "outputs": []
    },
    {
      "cell_type": "markdown",
      "source": [
        "## Notes & Observations\n",
        "\n",
        "### Dropping `AUX_RIGHT`\n",
        "- The `AUX_RIGHT` channel comes from the auxiliary electrode input of the EEG headset.  \n",
        "- Upon inspection, its values appeared as **flat high-amplitude noise** (750–950 range) without any meaningful oscillatory EEG patterns.  \n",
        "- Correlation analysis also showed **no significant relationship** between `AUX_RIGHT` and other EEG features.  \n",
        "- Since it does not carry useful information and only adds noise/dimensionality, we **dropped `AUX_RIGHT`** from the dataset.\n",
        "\n",
        "\n"
      ],
      "metadata": {
        "id": "nbrRym5uCThJ"
      }
    },
    {
      "cell_type": "code",
      "source": [
        "df_27_EEG.drop('AUX_RIGHT', axis=1, inplace=True)"
      ],
      "metadata": {
        "id": "sJoopHZhCvUl"
      },
      "execution_count": null,
      "outputs": []
    },
    {
      "cell_type": "code",
      "source": [
        "df_27_EEG.head()"
      ],
      "metadata": {
        "id": "XzvZuuMuDm9o"
      },
      "execution_count": null,
      "outputs": []
    },
    {
      "cell_type": "code",
      "source": [
        "HSI_cols = [\"HSI_TP9\", \"HSI_AF7\", \"HSI_AF8\", \"HSI_TP10\"]"
      ],
      "metadata": {
        "id": "5hEVKQAAECZx"
      },
      "execution_count": null,
      "outputs": []
    },
    {
      "cell_type": "code",
      "source": [
        "for col in HSI_cols:\n",
        "    print(f\"Unique values for {col}: {df_27_EEG[col].unique()}\")"
      ],
      "metadata": {
        "id": "NrFWZ3ccEofr"
      },
      "execution_count": null,
      "outputs": []
    },
    {
      "cell_type": "code",
      "source": [
        "df_27_EEG['HSI_TP9'].value_counts()"
      ],
      "metadata": {
        "id": "7DQOqLuqE-z5"
      },
      "execution_count": null,
      "outputs": []
    },
    {
      "cell_type": "code",
      "source": [
        "df_27_EEG['HSI_TP10'].value_counts()"
      ],
      "metadata": {
        "id": "zcPm3LjyFVxh"
      },
      "execution_count": null,
      "outputs": []
    },
    {
      "cell_type": "code",
      "source": [
        "df_27_EEG['HSI_AF7'].value_counts()"
      ],
      "metadata": {
        "id": "4Yx4EE6eFx4w"
      },
      "execution_count": null,
      "outputs": []
    },
    {
      "cell_type": "code",
      "source": [
        "df_27_EEG['HSI_AF8'].value_counts()"
      ],
      "metadata": {
        "id": "zCgvP2aZGMxM"
      },
      "execution_count": null,
      "outputs": []
    },
    {
      "cell_type": "code",
      "source": [
        "df_27_EEG.describe()"
      ],
      "metadata": {
        "id": "8turK_ciGkun"
      },
      "execution_count": null,
      "outputs": []
    },
    {
      "cell_type": "markdown",
      "source": [
        "## Notes & Observations\n",
        "\n",
        "### Handling `HSI_*` Columns\n",
        "- The `HSI_TP9`, `HSI_AF7`, `HSI_AF8`, `HSI_TP10` columns represent **Headset Signal Integrity** for each electrode:  \n",
        "  - `1 = Good connection`  \n",
        "  - `2 = Medium connection`  \n",
        "  - `4 = Bad connection`  \n",
        "- We need to pay attention to these values because:\n",
        "  - Bad connections (`4`) indicate unreliable EEG readings.  \n",
        "  - Medium connections (`2`) may still be usable but should be treated with caution.  \n",
        "- Instead of dropping rows, we will **convert HSI values into binary flags**:  \n",
        "  - **1 = Bad connection present**  \n",
        "  - **0 = Otherwise (Good or Medium)**  \n",
        "- This preserves all data while giving the model information about electrode reliability.  \n",
        "- After creating these flags, the raw `HSI_*` columns can be removed to reduce dimensionality.\n"
      ],
      "metadata": {
        "id": "Nl7t6zMRG-J7"
      }
    },
    {
      "cell_type": "code",
      "source": [
        "df_27_EEG.head()"
      ],
      "metadata": {
        "id": "_scRtDXuHhMy"
      },
      "execution_count": null,
      "outputs": []
    },
    {
      "cell_type": "code",
      "source": [
        "signal_flags_values = { 1: 0, 2: 0, 4: 1}"
      ],
      "metadata": {
        "id": "C7AdHvr7IT6h"
      },
      "execution_count": null,
      "outputs": []
    },
    {
      "cell_type": "code",
      "source": [
        "df_27_EEG['HSI_TP9_flag'] = df_27_EEG['HSI_TP9'].map(signal_flags_values).astype(np.int8)\n",
        "df_27_EEG['HSI_TP10_flag'] = df_27_EEG['HSI_TP10'].map(signal_flags_values).astype(np.int8)\n",
        "df_27_EEG['HSI_AF7_flag'] = df_27_EEG['HSI_AF7'].map(signal_flags_values).astype(np.int8)\n",
        "df_27_EEG['HSI_AF8_flag'] = df_27_EEG['HSI_AF8'].map(signal_flags_values).astype(np.int8)"
      ],
      "metadata": {
        "id": "kcc2G9BJJDrJ"
      },
      "execution_count": null,
      "outputs": []
    },
    {
      "cell_type": "code",
      "source": [
        "df_27_EEG.drop(['HSI_TP9', 'HSI_TP10', 'HSI_AF7', 'HSI_AF8'], axis=1, inplace=True)"
      ],
      "metadata": {
        "id": "EJrqLOaDJTsM"
      },
      "execution_count": null,
      "outputs": []
    },
    {
      "cell_type": "code",
      "source": [
        "plt.figure(figsize=(28,12))\n",
        "sns.heatmap(df_27_EEG.corr(numeric_only=True), cmap='YlGnBu', annot=True)a\n",
        "plt.show()"
      ],
      "metadata": {
        "id": "LoaRvFkSJr8F"
      },
      "execution_count": null,
      "outputs": []
    },
    {
      "cell_type": "markdown",
      "source": [
        "## Notes & Observations\n",
        "\n",
        "### Dropping RAW EEG Channels\n",
        "\n",
        "- The EEG dataset includes `RAW_TP9`, `RAW_AF7`, `RAW_AF8`, `RAW_TP10` columns, which represent the unprocessed voltage readings from each electrode.  \n",
        "- Upon inspection:\n",
        "  - These RAW signals are **highly noisy** and show no clear oscillatory patterns typical of brainwave activity.  \n",
        "  - Correlation analysis with other features shows **very low correlations** (near 0.0), indicating they do not contribute predictive value.  \n",
        "  - Plots of RAW vs. time reveal large fluctuations without meaningful structure.\n",
        "\n",
        "- Reason for dropping:\n",
        "  - The dataset already provides **frequency band powers** (`Delta`, `Theta`, `Alpha`, `Beta`, `Gamma`) for each electrode, which are **derived from RAW signals** and are far more informative.  \n",
        "  - Keeping RAW adds unnecessary dimensionality and noise, which can negatively affect machine learning models.\n",
        "\n",
        "- Action taken:\n",
        "  - `RAW_TP9`, `RAW_AF7`, `RAW_AF8`, `RAW_TP10` are **dropped from preprocessing**.  \n",
        "  - The focus will be on the **precomputed band power features** for all EEG electrodes, which are sufficient for cognitive load prediction and regression tasks.\n"
      ],
      "metadata": {
        "id": "e8oBPkaaKAQD"
      }
    },
    {
      "cell_type": "code",
      "source": [
        "df_27_EEG.drop(['RAW_TP9',\t'RAW_AF7',\t'RAW_AF8',\t'RAW_TP10'], axis=1, inplace=True)"
      ],
      "metadata": {
        "id": "ctaMvapZKhoB"
      },
      "execution_count": null,
      "outputs": []
    },
    {
      "cell_type": "code",
      "source": [
        "df_27_EEG.head()"
      ],
      "metadata": {
        "id": "KQpUbsWBKyx0"
      },
      "execution_count": null,
      "outputs": []
    },
    {
      "cell_type": "code",
      "source": [
        "# Select only the numeric columns for plotting histograms, excluding time-related columns\n",
        "numeric_cols = df_27_EEG.select_dtypes(include=np.number).columns\n",
        "cols_to_plot = [col for col in numeric_cols if col not in ['UnixTime']]\n",
        "\n",
        "# Calculate the number of rows and columns for the grid\n",
        "n_cols = 4  # You can adjust the number of columns as needed\n",
        "n_rows = (len(cols_to_plot) + n_cols - 1) // n_cols\n",
        "\n",
        "plt.figure(figsize=(n_cols * 5, n_rows * 4)) # Adjust figure size as needed\n",
        "\n",
        "for i, col in enumerate(cols_to_plot):\n",
        "    plt.subplot(n_rows, n_cols, i + 1)\n",
        "    sns.histplot(df_27_EEG[col], kde=True)\n",
        "    plt.title(f'Distribution of {col}')\n",
        "    plt.xlabel(col)\n",
        "    plt.ylabel('Frequency')\n",
        "\n",
        "plt.tight_layout()\n",
        "plt.show()"
      ],
      "metadata": {
        "id": "w7MOm-kgLR8R"
      },
      "execution_count": null,
      "outputs": []
    },
    {
      "cell_type": "code",
      "source": [
        "plt.figure(figsize=(28,12))\n",
        "sns.pairplot(df_27_EEG)\n",
        "plt.show()"
      ],
      "metadata": {
        "id": "hDHaddcJLlez"
      },
      "execution_count": null,
      "outputs": []
    },
    {
      "cell_type": "markdown",
      "source": [
        "***28 EGG***"
      ],
      "metadata": {
        "id": "S3e6ZZM04ucV"
      }
    },
    {
      "cell_type": "code",
      "source": [
        "df_28_EEG.head()"
      ],
      "metadata": {
        "id": "O0fbAJpR4T_T"
      },
      "execution_count": null,
      "outputs": []
    },
    {
      "cell_type": "code",
      "source": [
        "df_28_EEG = pd.read_csv('data/STData/8/8_EEG.csv')"
      ],
      "metadata": {
        "id": "kWZC6QtC47Al"
      },
      "execution_count": null,
      "outputs": []
    },
    {
      "cell_type": "code",
      "source": [
        "df_28_EEG.shape\n"
      ],
      "metadata": {
        "id": "jAsUqpwS5M8r"
      },
      "execution_count": null,
      "outputs": []
    },
    {
      "cell_type": "code",
      "source": [
        "df_28_EEG.columns"
      ],
      "metadata": {
        "id": "Q4fgwHqz5jgx"
      },
      "execution_count": null,
      "outputs": []
    },
    {
      "cell_type": "code",
      "source": [
        "df_28_EEG.info()"
      ],
      "metadata": {
        "id": "T_e25CeJ5vEs"
      },
      "execution_count": null,
      "outputs": []
    },
    {
      "cell_type": "code",
      "source": [
        "df_28_EEG.isnull().sum()"
      ],
      "metadata": {
        "id": "9kFKrvGz55hW"
      },
      "execution_count": null,
      "outputs": []
    },
    {
      "cell_type": "code",
      "source": [
        "plt.figure(figsize=(16,10))\n",
        "sns.heatmap(df_28_EEG.isnull(), cmap='YlGnBu')\n",
        "plt.show()"
      ],
      "metadata": {
        "id": "60tZ6FHr6FKr"
      },
      "execution_count": null,
      "outputs": []
    },
    {
      "cell_type": "markdown",
      "source": [
        "# Notes & Observations\n",
        "\n",
        "- We observe many **null** (or missing) values in the `QuestionKey` and `Elements` columns.  \n",
        "- The nulls in the `QuestionKey` column may not represent “true” nulls. Rather, they follow interval patterns, suggesting that during those periods no question was displayed.  \n",
        "- These missing values in `QuestionKey` require additional investigation and context-aware handling.  \n",
        "- The `Elements` column is almost entirely null; dropping it likely won’t meaningfully impact our data quality.\n"
      ],
      "metadata": {
        "id": "2tda-pMv6REG"
      }
    },
    {
      "cell_type": "code",
      "source": [
        "df_28_EEG['QuestionKey'].unique()"
      ],
      "metadata": {
        "id": "dmeXvFpw6zzQ"
      },
      "execution_count": null,
      "outputs": []
    },
    {
      "cell_type": "code",
      "source": [
        "df_28_EEG['TimeStamp'] = pd.to_datetime(df_28_EEG['TimeStamp'])"
      ],
      "metadata": {
        "id": "u0ME5jca7V6f"
      },
      "execution_count": null,
      "outputs": []
    },
    {
      "cell_type": "code",
      "source": [
        "df_28_EEG.describe()"
      ],
      "metadata": {
        "id": "_z7pi2Kx7kTh"
      },
      "execution_count": null,
      "outputs": []
    },
    {
      "cell_type": "code",
      "source": [
        "df_28_EEG.head(3)"
      ],
      "metadata": {
        "id": "bXwPhVnf7y96"
      },
      "execution_count": null,
      "outputs": []
    },
    {
      "cell_type": "code",
      "source": [
        "df_28_EEG.drop('Elements', axis=1, inplace=True)"
      ],
      "metadata": {
        "id": "UDYXJkwB8Gz-"
      },
      "execution_count": null,
      "outputs": []
    },
    {
      "cell_type": "code",
      "source": [
        "df_28_EEG['QuestionKey'].unique()"
      ],
      "metadata": {
        "id": "x2CuSl7C8hx3"
      },
      "execution_count": null,
      "outputs": []
    },
    {
      "cell_type": "code",
      "source": [
        "df_28_EEG['QuestionKey'].fillna('None', inplace=True)"
      ],
      "metadata": {
        "id": "XnSkXbA38v-f"
      },
      "execution_count": null,
      "outputs": []
    },
    {
      "cell_type": "code",
      "source": [
        "df_28_EEG['QuestionKey'].value_counts()"
      ],
      "metadata": {
        "id": "_Czwqwld87Pt"
      },
      "execution_count": null,
      "outputs": []
    },
    {
      "cell_type": "code",
      "source": [
        "df_28_EEG['HeadBandOn'].unique()"
      ],
      "metadata": {
        "id": "jaZ-S7309Gsq"
      },
      "execution_count": null,
      "outputs": []
    },
    {
      "cell_type": "code",
      "source": [
        "df_28_EEG['HeadBandOn'].isnull().sum()"
      ],
      "metadata": {
        "id": "5IWpPPBt9UQm"
      },
      "execution_count": null,
      "outputs": []
    },
    {
      "cell_type": "code",
      "source": [
        "df_28_EEG.shape"
      ],
      "metadata": {
        "id": "hMP-hFoJ9pDB"
      },
      "execution_count": null,
      "outputs": []
    },
    {
      "cell_type": "code",
      "source": [
        "df_28_EEG.dropna(inplace=True)"
      ],
      "metadata": {
        "id": "8z8zusSB94lO"
      },
      "execution_count": null,
      "outputs": []
    },
    {
      "cell_type": "code",
      "source": [
        "df_28_EEG.shape"
      ],
      "metadata": {
        "id": "aPdIXiS_-K4S"
      },
      "execution_count": null,
      "outputs": []
    },
    {
      "cell_type": "code",
      "source": [
        "df_28_EEG.drop('HeadBandOn', axis=1, inplace=True)"
      ],
      "metadata": {
        "id": "wsfWwOh--jmX"
      },
      "execution_count": null,
      "outputs": []
    },
    {
      "cell_type": "code",
      "source": [
        "plt.figure(figsize=(16,10))\n",
        "sns.heatmap(df_28_EEG.isnull(), cmap='YlGnBu')\n",
        "plt.show()"
      ],
      "metadata": {
        "id": "84gm5yD6-20b"
      },
      "execution_count": null,
      "outputs": []
    },
    {
      "cell_type": "markdown",
      "source": [
        "## Status Update\n",
        "\n",
        "- All **null** (or missing) values in the dataset have been handled / eliminated.\n",
        "- There are no remaining null values in any column.\n",
        "- The dataset is now “complete” in the sense that every cell has a valid (non-null) entry.\n"
      ],
      "metadata": {
        "id": "IhRuI0eYAN8f"
      }
    },
    {
      "cell_type": "code",
      "source": [
        "df_28_EEG.columns\n"
      ],
      "metadata": {
        "id": "z5-foUESAwBq"
      },
      "execution_count": null,
      "outputs": []
    },
    {
      "cell_type": "code",
      "source": [
        "cols = ['Delta_TP9', 'Delta_AF7',\n",
        "       'Delta_AF8', 'Delta_TP10', 'Theta_TP9', 'Theta_AF7', 'Theta_AF8',\n",
        "       'Theta_TP10', 'Alpha_TP9', 'Alpha_AF7', 'Alpha_AF8', 'Alpha_TP10',\n",
        "       'Beta_TP9', 'Beta_AF7', 'Beta_AF8', 'Beta_TP10', 'Gamma_TP9',\n",
        "       'Gamma_AF7', 'Gamma_AF8', 'Gamma_TP10', 'RAW_TP9', 'RAW_AF7', 'RAW_AF8',\n",
        "       'RAW_TP10', 'AUX_RIGHT', 'Accelerometer_X', 'Accelerometer_Y',\n",
        "       'Accelerometer_Z', 'Gyro_X', 'Gyro_Y', 'Gyro_Z',\n",
        "       'HSI_TP9', 'HSI_AF7', 'HSI_AF8', 'HSI_TP10', 'Battery']"
      ],
      "metadata": {
        "id": "nezoVM9XBGrn"
      },
      "execution_count": null,
      "outputs": []
    },
    {
      "cell_type": "code",
      "source": [
        "from IPython.display import display, Markdown\n",
        "\n",
        "\n",
        "for col in cols:\n",
        "    # Add a markdown cell before each plot for better separation and labeling\n",
        "    display(Markdown(f'### {col} over Time'))\n",
        "    plt.figure(figsize=(16, 10))\n",
        "    plt.plot(df_28_EEG['TimeStamp'], df_28_EEG[col])\n",
        "    plt.xlabel(\"TimeStamp\") # Add x-axis label\n",
        "    plt.ylabel(col) # Add y-axis label\n",
        "    plt.show()"
      ],
      "metadata": {
        "id": "QKQ0ziyZBgKs"
      },
      "execution_count": null,
      "outputs": []
    },
    {
      "cell_type": "code",
      "source": [
        "plt.figure(figsize=(28,12))\n",
        "sns.heatmap(df_28_EEG.corr(numeric_only=True), cmap='YlGnBu', annot=True)\n",
        "plt.show()"
      ],
      "metadata": {
        "id": "ufbQn7R5B28S"
      },
      "execution_count": null,
      "outputs": []
    },
    {
      "cell_type": "markdown",
      "source": [
        "## Notes & Observations\n",
        "\n",
        "### Dropping `AUX_RIGHT`\n",
        "- The `AUX_RIGHT` channel comes from the auxiliary electrode input of the EEG headset.  \n",
        "- Upon inspection, its values appeared as **flat high-amplitude noise** (750–950 range) without any meaningful oscillatory EEG patterns.  \n",
        "- Correlation analysis also showed **no significant relationship** between `AUX_RIGHT` and other EEG features.  \n",
        "- Since it does not carry useful information and only adds noise/dimensionality, we **dropped `AUX_RIGHT`** from the dataset.\n",
        "\n",
        "\n"
      ],
      "metadata": {
        "id": "menIO_k7CVSb"
      }
    },
    {
      "cell_type": "code",
      "source": [
        "df_28_EEG.drop('AUX_RIGHT', axis=1, inplace=True)"
      ],
      "metadata": {
        "id": "J5IDrATNCyHB"
      },
      "execution_count": null,
      "outputs": []
    },
    {
      "cell_type": "code",
      "source": [
        "df_28_EEG.head()"
      ],
      "metadata": {
        "id": "xcovNgxPDpGA"
      },
      "execution_count": null,
      "outputs": []
    },
    {
      "cell_type": "code",
      "source": [
        "HSI_cols = [\"HSI_TP9\", \"HSI_AF7\", \"HSI_AF8\", \"HSI_TP10\"]"
      ],
      "metadata": {
        "id": "g0hxyZ4eEGkv"
      },
      "execution_count": null,
      "outputs": []
    },
    {
      "cell_type": "code",
      "source": [
        "for col in HSI_cols:\n",
        "    print(f\"Unique values for {col}: {df_28_EEG[col].unique()}\")"
      ],
      "metadata": {
        "id": "oHICoPzjEqW3"
      },
      "execution_count": null,
      "outputs": []
    },
    {
      "cell_type": "code",
      "source": [
        "df_28_EEG['HSI_TP9'].value_counts()"
      ],
      "metadata": {
        "id": "Zz_mQ0_SFA5q"
      },
      "execution_count": null,
      "outputs": []
    },
    {
      "cell_type": "code",
      "source": [
        "df_28_EEG['HSI_TP10'].value_counts()"
      ],
      "metadata": {
        "id": "kE3oQzqTFYPa"
      },
      "execution_count": null,
      "outputs": []
    },
    {
      "cell_type": "code",
      "source": [
        "df_28_EEG['HSI_AF7'].value_counts()"
      ],
      "metadata": {
        "id": "-mcIEedwF0IB"
      },
      "execution_count": null,
      "outputs": []
    },
    {
      "cell_type": "code",
      "source": [
        "df_28_EEG['HSI_AF8'].value_counts()"
      ],
      "metadata": {
        "id": "jNXvH4X7GPVi"
      },
      "execution_count": null,
      "outputs": []
    },
    {
      "cell_type": "code",
      "source": [
        "df_28_EEG.describe()"
      ],
      "metadata": {
        "id": "xHiGRACXGmjS"
      },
      "execution_count": null,
      "outputs": []
    },
    {
      "cell_type": "markdown",
      "source": [
        "## Notes & Observations\n",
        "\n",
        "### Handling `HSI_*` Columns\n",
        "- The `HSI_TP9`, `HSI_AF7`, `HSI_AF8`, `HSI_TP10` columns represent **Headset Signal Integrity** for each electrode:  \n",
        "  - `1 = Good connection`  \n",
        "  - `2 = Medium connection`  \n",
        "  - `4 = Bad connection`  \n",
        "- We need to pay attention to these values because:\n",
        "  - Bad connections (`4`) indicate unreliable EEG readings.  \n",
        "  - Medium connections (`2`) may still be usable but should be treated with caution.  \n",
        "- Instead of dropping rows, we will **convert HSI values into binary flags**:  \n",
        "  - **1 = Bad connection present**  \n",
        "  - **0 = Otherwise (Good or Medium)**  \n",
        "- This preserves all data while giving the model information about electrode reliability.  \n",
        "- After creating these flags, the raw `HSI_*` columns can be removed to reduce dimensionality.\n"
      ],
      "metadata": {
        "id": "6BN2-3dUHAhY"
      }
    },
    {
      "cell_type": "code",
      "source": [
        "df_28_EEG.head()"
      ],
      "metadata": {
        "id": "T9rf1Q3KHl1J"
      },
      "execution_count": null,
      "outputs": []
    },
    {
      "cell_type": "code",
      "source": [
        "signal_flags_values = { 1: 0, 2: 0, 4: 1}"
      ],
      "metadata": {
        "id": "y_lZf7IiIXDT"
      },
      "execution_count": null,
      "outputs": []
    },
    {
      "cell_type": "code",
      "source": [
        "df_28_EEG['HSI_TP9_flag'] = df_28_EEG['HSI_TP9'].map(signal_flags_values).astype(np.int8)\n",
        "df_28_EEG['HSI_TP10_flag'] = df_28_EEG['HSI_TP10'].map(signal_flags_values).astype(np.int8)\n",
        "df_28_EEG['HSI_AF7_flag'] = df_28_EEG['HSI_AF7'].map(signal_flags_values).astype(np.int8)\n",
        "df_28_EEG['HSI_AF8_flag'] = df_28_EEG['HSI_AF8'].map(signal_flags_values).astype(np.int8)"
      ],
      "metadata": {
        "id": "HNzMyvkzJF6N"
      },
      "execution_count": null,
      "outputs": []
    },
    {
      "cell_type": "code",
      "source": [
        "df_28_EEG.drop(['HSI_TP9', 'HSI_TP10', 'HSI_AF7', 'HSI_AF8'], axis=1, inplace=True)"
      ],
      "metadata": {
        "id": "5pqbzYolJRGl"
      },
      "execution_count": null,
      "outputs": []
    },
    {
      "cell_type": "code",
      "source": [
        "plt.figure(figsize=(28,12))\n",
        "sns.heatmap(df_28_EEG.corr(numeric_only=True), cmap='YlGnBu', annot=True)a\n",
        "plt.show()"
      ],
      "metadata": {
        "id": "MjGKK6muJuZc"
      },
      "execution_count": null,
      "outputs": []
    },
    {
      "cell_type": "markdown",
      "source": [
        "## Notes & Observations\n",
        "\n",
        "### Dropping RAW EEG Channels\n",
        "\n",
        "- The EEG dataset includes `RAW_TP9`, `RAW_AF7`, `RAW_AF8`, `RAW_TP10` columns, which represent the unprocessed voltage readings from each electrode.  \n",
        "- Upon inspection:\n",
        "  - These RAW signals are **highly noisy** and show no clear oscillatory patterns typical of brainwave activity.  \n",
        "  - Correlation analysis with other features shows **very low correlations** (near 0.0), indicating they do not contribute predictive value.  \n",
        "  - Plots of RAW vs. time reveal large fluctuations without meaningful structure.\n",
        "\n",
        "- Reason for dropping:\n",
        "  - The dataset already provides **frequency band powers** (`Delta`, `Theta`, `Alpha`, `Beta`, `Gamma`) for each electrode, which are **derived from RAW signals** and are far more informative.  \n",
        "  - Keeping RAW adds unnecessary dimensionality and noise, which can negatively affect machine learning models.\n",
        "\n",
        "- Action taken:\n",
        "  - `RAW_TP9`, `RAW_AF7`, `RAW_AF8`, `RAW_TP10` are **dropped from preprocessing**.  \n",
        "  - The focus will be on the **precomputed band power features** for all EEG electrodes, which are sufficient for cognitive load prediction and regression tasks.\n"
      ],
      "metadata": {
        "id": "iSgA6V0DJ9Z1"
      }
    },
    {
      "cell_type": "code",
      "source": [
        "df_28_EEG.drop(['RAW_TP9',\t'RAW_AF7',\t'RAW_AF8',\t'RAW_TP10'], axis=1, inplace=True)"
      ],
      "metadata": {
        "id": "Rc5onPRFKlAg"
      },
      "execution_count": null,
      "outputs": []
    },
    {
      "cell_type": "code",
      "source": [
        "df_28_EEG.head()"
      ],
      "metadata": {
        "id": "FsnAMPPgKwSZ"
      },
      "execution_count": null,
      "outputs": []
    },
    {
      "cell_type": "code",
      "source": [
        "# Select only the numeric columns for plotting histograms, excluding time-related columns\n",
        "numeric_cols = df_28_EEG.select_dtypes(include=np.number).columns\n",
        "cols_to_plot = [col for col in numeric_cols if col not in ['UnixTime']]\n",
        "\n",
        "# Calculate the number of rows and columns for the grid\n",
        "n_cols = 4  # You can adjust the number of columns as needed\n",
        "n_rows = (len(cols_to_plot) + n_cols - 1) // n_cols\n",
        "\n",
        "plt.figure(figsize=(n_cols * 5, n_rows * 4)) # Adjust figure size as needed\n",
        "\n",
        "for i, col in enumerate(cols_to_plot):\n",
        "    plt.subplot(n_rows, n_cols, i + 1)\n",
        "    sns.histplot(df_28_EEG[col], kde=True)\n",
        "    plt.title(f'Distribution of {col}')\n",
        "    plt.xlabel(col)\n",
        "    plt.ylabel('Frequency')\n",
        "\n",
        "plt.tight_layout()\n",
        "plt.show()"
      ],
      "metadata": {
        "id": "gkxGgteMLUzn"
      },
      "execution_count": null,
      "outputs": []
    },
    {
      "cell_type": "code",
      "source": [
        "plt.figure(figsize=(28,12))\n",
        "sns.pairplot(df_28_EEG)\n",
        "plt.show()"
      ],
      "metadata": {
        "id": "_Y0V2gSsLiKR"
      },
      "execution_count": null,
      "outputs": []
    },
    {
      "cell_type": "markdown",
      "source": [
        "***29 EGG***"
      ],
      "metadata": {
        "id": "Bl9IooCm48je"
      }
    },
    {
      "cell_type": "code",
      "source": [
        "df_29_EEG = pd.read_csv('data/STData/29/29_EEG.csv')"
      ],
      "metadata": {
        "id": "5ODL-gqa4KFb"
      },
      "execution_count": null,
      "outputs": []
    },
    {
      "cell_type": "code",
      "source": [
        "df_29_EEG.head()"
      ],
      "metadata": {
        "id": "Hzh81Z7l4Uje"
      },
      "execution_count": null,
      "outputs": []
    },
    {
      "cell_type": "code",
      "source": [
        "df_29_EEG.shape"
      ],
      "metadata": {
        "id": "3jGGkrFb5P7h"
      },
      "execution_count": null,
      "outputs": []
    },
    {
      "cell_type": "code",
      "source": [
        "df_29_EEG.columns"
      ],
      "metadata": {
        "id": "wDaepXv55kKN"
      },
      "execution_count": null,
      "outputs": []
    },
    {
      "cell_type": "code",
      "source": [
        "df_29_EEG.info()"
      ],
      "metadata": {
        "id": "VNilVNTE5wNK"
      },
      "execution_count": null,
      "outputs": []
    },
    {
      "cell_type": "code",
      "source": [
        "df_29_EEG.isnull().sum()"
      ],
      "metadata": {
        "id": "HHQRprtZ56NP"
      },
      "execution_count": null,
      "outputs": []
    },
    {
      "cell_type": "code",
      "source": [
        "plt.figure(figsize=(16,10))\n",
        "sns.heatmap(df_29_EEG.isnull(), cmap='YlGnBu')\n",
        "plt.show()"
      ],
      "metadata": {
        "id": "Kx5srkfJ6Fu6"
      },
      "execution_count": null,
      "outputs": []
    },
    {
      "cell_type": "markdown",
      "source": [
        "# Notes & Observations\n",
        "\n",
        "- We observe many **null** (or missing) values in the `QuestionKey` and `Elements` columns.  \n",
        "- The nulls in the `QuestionKey` column may not represent “true” nulls. Rather, they follow interval patterns, suggesting that during those periods no question was displayed.  \n",
        "- These missing values in `QuestionKey` require additional investigation and context-aware handling.  \n",
        "- The `Elements` column is almost entirely null; dropping it likely won’t meaningfully impact our data quality.\n"
      ],
      "metadata": {
        "id": "ku4J_AR26-WN"
      }
    },
    {
      "cell_type": "code",
      "source": [
        "df_29_EEG['QuestionKey'].unique()"
      ],
      "metadata": {
        "id": "UdYtsgdI64pL"
      },
      "execution_count": null,
      "outputs": []
    },
    {
      "cell_type": "code",
      "source": [
        "df_29_EEG['TimeStamp'] = pd.to_datetime(df_29_EEG['TimeStamp'])"
      ],
      "metadata": {
        "id": "8EzdxaCT7WyH"
      },
      "execution_count": null,
      "outputs": []
    },
    {
      "cell_type": "code",
      "source": [
        "df_29_EEG.describe()"
      ],
      "metadata": {
        "id": "vnPEwZzM7lPC"
      },
      "execution_count": null,
      "outputs": []
    },
    {
      "cell_type": "code",
      "source": [
        "df_29_EEG.drop('Elements', axis=1, inplace=True)"
      ],
      "metadata": {
        "id": "-FysRdvn8H3d"
      },
      "execution_count": null,
      "outputs": []
    },
    {
      "cell_type": "code",
      "source": [
        "df_29_EEG['QuestionKey'].unique()"
      ],
      "metadata": {
        "id": "I9PxCTJI8i47"
      },
      "execution_count": null,
      "outputs": []
    },
    {
      "cell_type": "code",
      "source": [
        "df_29_EEG['QuestionKey'].fillna('None', inplace=True)"
      ],
      "metadata": {
        "id": "R0pGrnM-8xGm"
      },
      "execution_count": null,
      "outputs": []
    },
    {
      "cell_type": "code",
      "source": [
        "df_29_EEG['QuestionKey'].value_counts()"
      ],
      "metadata": {
        "id": "5xhJxjR288sD"
      },
      "execution_count": null,
      "outputs": []
    },
    {
      "cell_type": "code",
      "source": [
        "df_29_EEG['HeadBandOn'].unique()"
      ],
      "metadata": {
        "id": "U7hztEf19H38"
      },
      "execution_count": null,
      "outputs": []
    },
    {
      "cell_type": "code",
      "source": [
        "df_29_EEG['HeadBandOn'].isnull().sum()"
      ],
      "metadata": {
        "id": "iWRKjqdy9Vxg"
      },
      "execution_count": null,
      "outputs": []
    },
    {
      "cell_type": "code",
      "source": [
        "df_29_EEG.shape"
      ],
      "metadata": {
        "id": "UygQFFn19roB"
      },
      "execution_count": null,
      "outputs": []
    },
    {
      "cell_type": "code",
      "source": [
        "df_29_EEG.dropna(inplace=True)"
      ],
      "metadata": {
        "id": "1rOPDnwA952_"
      },
      "execution_count": null,
      "outputs": []
    },
    {
      "cell_type": "code",
      "source": [
        "df_29_EEG.shape"
      ],
      "metadata": {
        "id": "Rg3KfRLl-MT_"
      },
      "execution_count": null,
      "outputs": []
    },
    {
      "cell_type": "code",
      "source": [
        "df_29_EEG.drop('HeadBandOn', axis=1, inplace=True)"
      ],
      "metadata": {
        "id": "dLzHmhte-lv4"
      },
      "execution_count": null,
      "outputs": []
    },
    {
      "cell_type": "code",
      "source": [
        "plt.figure(figsize=(16,10))\n",
        "sns.heatmap(df_29_EEG.isnull(), cmap='YlGnBu')\n",
        "plt.show()"
      ],
      "metadata": {
        "id": "FC_zlaou-8Z5"
      },
      "execution_count": null,
      "outputs": []
    },
    {
      "cell_type": "markdown",
      "source": [
        "## Status Update\n",
        "\n",
        "- All **null** (or missing) values in the dataset have been handled / eliminated.\n",
        "- There are no remaining null values in any column.\n",
        "- The dataset is now “complete” in the sense that every cell has a valid (non-null) entry.\n"
      ],
      "metadata": {
        "id": "SbW58XjdAPUW"
      }
    },
    {
      "cell_type": "code",
      "source": [
        "df_29_EEG.columns\n"
      ],
      "metadata": {
        "id": "Ri3MHXpEAxvI"
      },
      "execution_count": null,
      "outputs": []
    },
    {
      "cell_type": "code",
      "source": [
        "cols = ['Delta_TP9', 'Delta_AF7',\n",
        "       'Delta_AF8', 'Delta_TP10', 'Theta_TP9', 'Theta_AF7', 'Theta_AF8',\n",
        "       'Theta_TP10', 'Alpha_TP9', 'Alpha_AF7', 'Alpha_AF8', 'Alpha_TP10',\n",
        "       'Beta_TP9', 'Beta_AF7', 'Beta_AF8', 'Beta_TP10', 'Gamma_TP9',\n",
        "       'Gamma_AF7', 'Gamma_AF8', 'Gamma_TP10', 'RAW_TP9', 'RAW_AF7', 'RAW_AF8',\n",
        "       'RAW_TP10', 'AUX_RIGHT', 'Accelerometer_X', 'Accelerometer_Y',\n",
        "       'Accelerometer_Z', 'Gyro_X', 'Gyro_Y', 'Gyro_Z',\n",
        "       'HSI_TP9', 'HSI_AF7', 'HSI_AF8', 'HSI_TP10', 'Battery']"
      ],
      "metadata": {
        "id": "S-hP-2PPBIOW"
      },
      "execution_count": null,
      "outputs": []
    },
    {
      "cell_type": "code",
      "source": [
        "from IPython.display import display, Markdown\n",
        "\n",
        "\n",
        "for col in cols:\n",
        "    # Add a markdown cell before each plot for better separation and labeling\n",
        "    display(Markdown(f'### {col} over Time'))\n",
        "    plt.figure(figsize=(16, 10))\n",
        "    plt.plot(df_29_EEG['TimeStamp'], df_29_EEG[col])\n",
        "    plt.xlabel(\"TimeStamp\") # Add x-axis label\n",
        "    plt.ylabel(col) # Add y-axis label\n",
        "    plt.show()"
      ],
      "metadata": {
        "id": "eNePEo1KBhof"
      },
      "execution_count": null,
      "outputs": []
    },
    {
      "cell_type": "code",
      "source": [
        "plt.figure(figsize=(28,12))\n",
        "sns.heatmap(df_29_EEG.corr(numeric_only=True), cmap='YlGnBu', annot=True)\n",
        "plt.show()"
      ],
      "metadata": {
        "id": "iImG5QfLB4dt"
      },
      "execution_count": null,
      "outputs": []
    },
    {
      "cell_type": "markdown",
      "source": [
        "## Notes & Observations\n",
        "\n",
        "### Dropping `AUX_RIGHT`\n",
        "- The `AUX_RIGHT` channel comes from the auxiliary electrode input of the EEG headset.  \n",
        "- Upon inspection, its values appeared as **flat high-amplitude noise** (750–950 range) without any meaningful oscillatory EEG patterns.  \n",
        "- Correlation analysis also showed **no significant relationship** between `AUX_RIGHT` and other EEG features.  \n",
        "- Since it does not carry useful information and only adds noise/dimensionality, we **dropped `AUX_RIGHT`** from the dataset.\n",
        "\n",
        "\n"
      ],
      "metadata": {
        "id": "VsvYnHahCXOc"
      }
    },
    {
      "cell_type": "code",
      "source": [
        "df_29_EEG.drop('AUX_RIGHT', axis=1, inplace=True)"
      ],
      "metadata": {
        "id": "N2QgAJ6fC0Fu"
      },
      "execution_count": null,
      "outputs": []
    },
    {
      "cell_type": "code",
      "source": [
        "df_29_EEG.head()"
      ],
      "metadata": {
        "id": "Q-44FjIHDrTB"
      },
      "execution_count": null,
      "outputs": []
    },
    {
      "cell_type": "code",
      "source": [
        "HSI_cols = [\"HSI_TP9\", \"HSI_AF7\", \"HSI_AF8\", \"HSI_TP10\"]"
      ],
      "metadata": {
        "id": "kIQNXa4qEIoE"
      },
      "execution_count": null,
      "outputs": []
    },
    {
      "cell_type": "code",
      "source": [
        "for col in HSI_cols:\n",
        "    print(f\"Unique values for {col}: {df_29_EEG[col].unique()}\")"
      ],
      "metadata": {
        "id": "0zVkb7NdEs56"
      },
      "execution_count": null,
      "outputs": []
    },
    {
      "cell_type": "code",
      "source": [
        "df_29_EEG['HSI_TP9'].value_counts()"
      ],
      "metadata": {
        "id": "ibxyhKHkFC11"
      },
      "execution_count": null,
      "outputs": []
    },
    {
      "cell_type": "code",
      "source": [
        "df_29_EEG['HSI_TP10'].value_counts()"
      ],
      "metadata": {
        "id": "q1Bjgb7hFaXJ"
      },
      "execution_count": null,
      "outputs": []
    },
    {
      "cell_type": "code",
      "source": [
        "df_29_EEG['HSI_AF7'].value_counts()"
      ],
      "metadata": {
        "id": "CrJb-S0_F186"
      },
      "execution_count": null,
      "outputs": []
    },
    {
      "cell_type": "code",
      "source": [
        "df_29_EEG['HSI_AF8'].value_counts()"
      ],
      "metadata": {
        "id": "AshkOBqjGTB_"
      },
      "execution_count": null,
      "outputs": []
    },
    {
      "cell_type": "code",
      "source": [
        "df_29_EEG.describe()"
      ],
      "metadata": {
        "id": "WahaHufgGoYl"
      },
      "execution_count": null,
      "outputs": []
    },
    {
      "cell_type": "markdown",
      "source": [
        "## Notes & Observations\n",
        "\n",
        "### Handling `HSI_*` Columns\n",
        "- The `HSI_TP9`, `HSI_AF7`, `HSI_AF8`, `HSI_TP10` columns represent **Headset Signal Integrity** for each electrode:  \n",
        "  - `1 = Good connection`  \n",
        "  - `2 = Medium connection`  \n",
        "  - `4 = Bad connection`  \n",
        "- We need to pay attention to these values because:\n",
        "  - Bad connections (`4`) indicate unreliable EEG readings.  \n",
        "  - Medium connections (`2`) may still be usable but should be treated with caution.  \n",
        "- Instead of dropping rows, we will **convert HSI values into binary flags**:  \n",
        "  - **1 = Bad connection present**  \n",
        "  - **0 = Otherwise (Good or Medium)**  \n",
        "- This preserves all data while giving the model information about electrode reliability.  \n",
        "- After creating these flags, the raw `HSI_*` columns can be removed to reduce dimensionality.\n"
      ],
      "metadata": {
        "id": "Xs-0UTvTHCwQ"
      }
    },
    {
      "cell_type": "code",
      "source": [
        "df_29_EEG.head()"
      ],
      "metadata": {
        "id": "RMWf6EgwHoIV"
      },
      "execution_count": null,
      "outputs": []
    },
    {
      "cell_type": "code",
      "source": [
        "signal_flags_values = { 1: 0, 2: 0, 4: 1}"
      ],
      "metadata": {
        "id": "i-cg2lXGIcGP"
      },
      "execution_count": null,
      "outputs": []
    },
    {
      "cell_type": "code",
      "source": [
        "df_29_EEG['HSI_TP9_flag'] = df_29_EEG['HSI_TP9'].map(signal_flags_values).astype(np.int8)\n",
        "df_29_EEG['HSI_TP10_flag'] = df_29_EEG['HSI_TP10'].map(signal_flags_values).astype(np.int8)\n",
        "df_29_EEG['HSI_AF7_flag'] = df_29_EEG['HSI_AF7'].map(signal_flags_values).astype(np.int8)\n",
        "df_29_EEG['HSI_AF8_flag'] = df_29_EEG['HSI_AF8'].map(signal_flags_values).astype(np.int8)"
      ],
      "metadata": {
        "id": "BtUz760_JIDe"
      },
      "execution_count": null,
      "outputs": []
    },
    {
      "cell_type": "code",
      "source": [
        "df_29_EEG.drop(['HSI_TP9', 'HSI_TP10', 'HSI_AF7', 'HSI_AF8'], axis=1, inplace=True)"
      ],
      "metadata": {
        "id": "8VLALIe6JOSE"
      },
      "execution_count": null,
      "outputs": []
    },
    {
      "cell_type": "code",
      "source": [
        "plt.figure(figsize=(28,12))\n",
        "sns.heatmap(df_29_EEG.corr(numeric_only=True), cmap='YlGnBu', annot=True)a\n",
        "plt.show()"
      ],
      "metadata": {
        "id": "GvvtmtQJJwxi"
      },
      "execution_count": null,
      "outputs": []
    },
    {
      "cell_type": "markdown",
      "source": [
        "## Notes & Observations\n",
        "\n",
        "### Dropping RAW EEG Channels\n",
        "\n",
        "- The EEG dataset includes `RAW_TP9`, `RAW_AF7`, `RAW_AF8`, `RAW_TP10` columns, which represent the unprocessed voltage readings from each electrode.  \n",
        "- Upon inspection:\n",
        "  - These RAW signals are **highly noisy** and show no clear oscillatory patterns typical of brainwave activity.  \n",
        "  - Correlation analysis with other features shows **very low correlations** (near 0.0), indicating they do not contribute predictive value.  \n",
        "  - Plots of RAW vs. time reveal large fluctuations without meaningful structure.\n",
        "\n",
        "- Reason for dropping:\n",
        "  - The dataset already provides **frequency band powers** (`Delta`, `Theta`, `Alpha`, `Beta`, `Gamma`) for each electrode, which are **derived from RAW signals** and are far more informative.  \n",
        "  - Keeping RAW adds unnecessary dimensionality and noise, which can negatively affect machine learning models.\n",
        "\n",
        "- Action taken:\n",
        "  - `RAW_TP9`, `RAW_AF7`, `RAW_AF8`, `RAW_TP10` are **dropped from preprocessing**.  \n",
        "  - The focus will be on the **precomputed band power features** for all EEG electrodes, which are sufficient for cognitive load prediction and regression tasks.\n"
      ],
      "metadata": {
        "id": "D3IRn04dJ6dT"
      }
    },
    {
      "cell_type": "code",
      "source": [
        "df_29_EEG.drop(['RAW_TP9',\t'RAW_AF7',\t'RAW_AF8',\t'RAW_TP10'], axis=1, inplace=True)"
      ],
      "metadata": {
        "id": "0-T-wxBwKnY1"
      },
      "execution_count": null,
      "outputs": []
    },
    {
      "cell_type": "code",
      "source": [
        "df_29_EEG.head()"
      ],
      "metadata": {
        "id": "Q7evc-XNKt6m"
      },
      "execution_count": null,
      "outputs": []
    },
    {
      "cell_type": "code",
      "source": [
        "# Select only the numeric columns for plotting histograms, excluding time-related columns\n",
        "numeric_cols = df_29_EEG.select_dtypes(include=np.number).columns\n",
        "cols_to_plot = [col for col in numeric_cols if col not in ['UnixTime']]\n",
        "\n",
        "# Calculate the number of rows and columns for the grid\n",
        "n_cols = 4  # You can adjust the number of columns as needed\n",
        "n_rows = (len(cols_to_plot) + n_cols - 1) // n_cols\n",
        "\n",
        "plt.figure(figsize=(n_cols * 5, n_rows * 4)) # Adjust figure size as needed\n",
        "\n",
        "for i, col in enumerate(cols_to_plot):\n",
        "    plt.subplot(n_rows, n_cols, i + 1)\n",
        "    sns.histplot(df_29_EEG[col], kde=True)\n",
        "    plt.title(f'Distribution of {col}')\n",
        "    plt.xlabel(col)\n",
        "    plt.ylabel('Frequency')\n",
        "\n",
        "plt.tight_layout()\n",
        "plt.show()"
      ],
      "metadata": {
        "id": "-Ue7YF7wLXqm"
      },
      "execution_count": null,
      "outputs": []
    },
    {
      "cell_type": "code",
      "source": [
        "plt.figure(figsize=(28,12))\n",
        "sns.pairplot(df_29_EEG)\n",
        "plt.show()"
      ],
      "metadata": {
        "id": "Jx4BLVVzLfbY"
      },
      "execution_count": null,
      "outputs": []
    },
    {
      "cell_type": "markdown",
      "source": [
        "***30 EGG***"
      ],
      "metadata": {
        "id": "KANGNAx04_X1"
      }
    },
    {
      "cell_type": "code",
      "source": [
        "df_30_EEG = pd.read_csv('data/STData/30/30_EEG.csv')"
      ],
      "metadata": {
        "id": "1NApqiGU4JxW"
      },
      "execution_count": null,
      "outputs": []
    },
    {
      "cell_type": "code",
      "source": [
        "df_30_EEG.head()"
      ],
      "metadata": {
        "id": "6ZXEHIE64U7P"
      },
      "execution_count": null,
      "outputs": []
    },
    {
      "cell_type": "code",
      "source": [
        "df_30_EEG.shape"
      ],
      "metadata": {
        "id": "kEvK5SR15QeD"
      },
      "execution_count": null,
      "outputs": []
    },
    {
      "cell_type": "code",
      "source": [
        "df_30_EEG.columns"
      ],
      "metadata": {
        "id": "WHKY7BlP5k3B"
      },
      "execution_count": null,
      "outputs": []
    },
    {
      "cell_type": "code",
      "source": [
        "df_30_EEG.info()"
      ],
      "metadata": {
        "id": "CrUTusGe5xOV"
      },
      "execution_count": null,
      "outputs": []
    },
    {
      "cell_type": "code",
      "source": [
        "df_30_EEG.isnull().sum()"
      ],
      "metadata": {
        "id": "5qZXy-9f56wg"
      },
      "execution_count": null,
      "outputs": []
    },
    {
      "cell_type": "code",
      "source": [
        "plt.figure(figsize=(16,10))\n",
        "sns.heatmap(df_30_EEG.isnull(), cmap='YlGnBu')\n",
        "plt.show()"
      ],
      "metadata": {
        "id": "QWHUeCzV6GRS"
      },
      "execution_count": null,
      "outputs": []
    },
    {
      "cell_type": "markdown",
      "source": [
        "# Notes & Observations\n",
        "\n",
        "- We observe many **null** (or missing) values in the `QuestionKey` and `Elements` columns.  \n",
        "- The nulls in the `QuestionKey` column may not represent “true” nulls. Rather, they follow interval patterns, suggesting that during those periods no question was displayed.  \n",
        "- These missing values in `QuestionKey` require additional investigation and context-aware handling.  \n",
        "- The `Elements` column is almost entirely null; dropping it likely won’t meaningfully impact our data quality.\n"
      ],
      "metadata": {
        "id": "9f2mKtP-7AlK"
      }
    },
    {
      "cell_type": "code",
      "source": [
        "df_30_EEG['QuestionKey'].unique()"
      ],
      "metadata": {
        "id": "AcDtVDT766r-"
      },
      "execution_count": null,
      "outputs": []
    },
    {
      "cell_type": "code",
      "source": [
        "df_30_EEG['TimeStamp'] = pd.to_datetime(df_30_EEG['TimeStamp'])"
      ],
      "metadata": {
        "id": "J3jNDtlo7YXm"
      },
      "execution_count": null,
      "outputs": []
    },
    {
      "cell_type": "code",
      "source": [
        "df_30_EEG.describe()"
      ],
      "metadata": {
        "id": "JZpO8tyc7m-0"
      },
      "execution_count": null,
      "outputs": []
    },
    {
      "cell_type": "code",
      "source": [
        "df_30_EEG.head(3)"
      ],
      "metadata": {
        "id": "NegSu0ok70kL"
      },
      "execution_count": null,
      "outputs": []
    },
    {
      "cell_type": "code",
      "source": [
        "df_30_EEG.drop('Elements', axis=1, inplace=True)"
      ],
      "metadata": {
        "id": "syS3-bJ68IwI"
      },
      "execution_count": null,
      "outputs": []
    },
    {
      "cell_type": "code",
      "source": [
        "df_30_EEG['QuestionKey'].unique()"
      ],
      "metadata": {
        "id": "SWn8TK7P8j4t"
      },
      "execution_count": null,
      "outputs": []
    },
    {
      "cell_type": "code",
      "source": [
        "df_30_EEG['QuestionKey'].fillna('None', inplace=True)"
      ],
      "metadata": {
        "id": "TIo7nMgU8x27"
      },
      "execution_count": null,
      "outputs": []
    },
    {
      "cell_type": "code",
      "source": [
        "df_30_EEG['QuestionKey'].value_counts()"
      ],
      "metadata": {
        "id": "7Hx_u6cw89iX"
      },
      "execution_count": null,
      "outputs": []
    },
    {
      "cell_type": "code",
      "source": [
        "df_30_EEG['HeadBandOn'].unique()"
      ],
      "metadata": {
        "id": "UvwVLrDu9I08"
      },
      "execution_count": null,
      "outputs": []
    },
    {
      "cell_type": "code",
      "source": [
        "df_30_EEG['HeadBandOn'].isnull().sum()"
      ],
      "metadata": {
        "id": "rS4qN4qN9Xg3"
      },
      "execution_count": null,
      "outputs": []
    },
    {
      "cell_type": "code",
      "source": [
        "df_30_EEG.shape"
      ],
      "metadata": {
        "id": "vH9VDg6I9shw"
      },
      "execution_count": null,
      "outputs": []
    },
    {
      "cell_type": "code",
      "source": [
        "df_30_EEG.dropna(inplace=True)"
      ],
      "metadata": {
        "id": "Ga0I1y1P97GQ"
      },
      "execution_count": null,
      "outputs": []
    },
    {
      "cell_type": "code",
      "source": [
        "df_30_EEG.shape"
      ],
      "metadata": {
        "id": "bMoO57R7-NhC"
      },
      "execution_count": null,
      "outputs": []
    },
    {
      "cell_type": "code",
      "source": [
        "df_30_EEG.drop('HeadBandOn', axis=1, inplace=True)"
      ],
      "metadata": {
        "id": "LwYvG2Jf-mvI"
      },
      "execution_count": null,
      "outputs": []
    },
    {
      "cell_type": "code",
      "source": [
        "plt.figure(figsize=(16,10))\n",
        "sns.heatmap(df_30_EEG.isnull(), cmap='YlGnBu')\n",
        "plt.show()"
      ],
      "metadata": {
        "id": "k-FOtVDK--Af"
      },
      "execution_count": null,
      "outputs": []
    },
    {
      "cell_type": "markdown",
      "source": [
        "## Status Update\n",
        "\n",
        "- All **null** (or missing) values in the dataset have been handled / eliminated.\n",
        "- There are no remaining null values in any column.\n",
        "- The dataset is now “complete” in the sense that every cell has a valid (non-null) entry.\n"
      ],
      "metadata": {
        "id": "d6quV2skAQde"
      }
    },
    {
      "cell_type": "code",
      "source": [
        "df_30_EEG.columns\n"
      ],
      "metadata": {
        "id": "ILaelxAWAzCo"
      },
      "execution_count": null,
      "outputs": []
    },
    {
      "cell_type": "code",
      "source": [
        "cols = ['Delta_TP9', 'Delta_AF7',\n",
        "       'Delta_AF8', 'Delta_TP10', 'Theta_TP9', 'Theta_AF7', 'Theta_AF8',\n",
        "       'Theta_TP10', 'Alpha_TP9', 'Alpha_AF7', 'Alpha_AF8', 'Alpha_TP10',\n",
        "       'Beta_TP9', 'Beta_AF7', 'Beta_AF8', 'Beta_TP10', 'Gamma_TP9',\n",
        "       'Gamma_AF7', 'Gamma_AF8', 'Gamma_TP10', 'RAW_TP9', 'RAW_AF7', 'RAW_AF8',\n",
        "       'RAW_TP10', 'AUX_RIGHT', 'Accelerometer_X', 'Accelerometer_Y',\n",
        "       'Accelerometer_Z', 'Gyro_X', 'Gyro_Y', 'Gyro_Z',\n",
        "       'HSI_TP9', 'HSI_AF7', 'HSI_AF8', 'HSI_TP10', 'Battery']"
      ],
      "metadata": {
        "id": "ZiBzaHQ6BJlG"
      },
      "execution_count": null,
      "outputs": []
    },
    {
      "cell_type": "code",
      "source": [
        "from IPython.display import display, Markdown\n",
        "\n",
        "\n",
        "for col in cols:\n",
        "    # Add a markdown cell before each plot for better separation and labeling\n",
        "    display(Markdown(f'### {col} over Time'))\n",
        "    plt.figure(figsize=(16, 10))\n",
        "    plt.plot(df_30_EEG['TimeStamp'], df_30_EEG[col])\n",
        "    plt.xlabel(\"TimeStamp\") # Add x-axis label\n",
        "    plt.ylabel(col) # Add y-axis label\n",
        "    plt.show()"
      ],
      "metadata": {
        "id": "Fd_5zrLbBi_Z"
      },
      "execution_count": null,
      "outputs": []
    },
    {
      "cell_type": "code",
      "source": [
        "plt.figure(figsize=(28,12))\n",
        "sns.heatmap(df_30_EEG.corr(numeric_only=True), cmap='YlGnBu', annot=True)\n",
        "plt.show()"
      ],
      "metadata": {
        "id": "sxPiHVa2B6Jg"
      },
      "execution_count": null,
      "outputs": []
    },
    {
      "cell_type": "markdown",
      "source": [
        "## Notes & Observations\n",
        "\n",
        "### Dropping `AUX_RIGHT`\n",
        "- The `AUX_RIGHT` channel comes from the auxiliary electrode input of the EEG headset.  \n",
        "- Upon inspection, its values appeared as **flat high-amplitude noise** (750–950 range) without any meaningful oscillatory EEG patterns.  \n",
        "- Correlation analysis also showed **no significant relationship** between `AUX_RIGHT` and other EEG features.  \n",
        "- Since it does not carry useful information and only adds noise/dimensionality, we **dropped `AUX_RIGHT`** from the dataset.\n",
        "\n",
        "\n"
      ],
      "metadata": {
        "id": "rBjEkuV6CYxq"
      }
    },
    {
      "cell_type": "code",
      "source": [
        "df_30_EEG.drop('AUX_RIGHT', axis=1, inplace=True)"
      ],
      "metadata": {
        "id": "x-RHAogBC1Tu"
      },
      "execution_count": null,
      "outputs": []
    },
    {
      "cell_type": "code",
      "source": [
        "df_30_EEG.head()"
      ],
      "metadata": {
        "id": "wL954WXLDtQs"
      },
      "execution_count": null,
      "outputs": []
    },
    {
      "cell_type": "code",
      "source": [
        "HSI_cols = [\"HSI_TP9\", \"HSI_AF7\", \"HSI_AF8\", \"HSI_TP10\"]"
      ],
      "metadata": {
        "id": "a-eKYOY0EQrK"
      },
      "execution_count": null,
      "outputs": []
    },
    {
      "cell_type": "code",
      "source": [
        "for col in HSI_cols:\n",
        "    print(f\"Unique values for {col}: {df_30_EEG[col].unique()}\")"
      ],
      "metadata": {
        "id": "OpK9OsZZEuaE"
      },
      "execution_count": null,
      "outputs": []
    },
    {
      "cell_type": "code",
      "source": [
        "df_30_EEG['HSI_TP9'].value_counts()"
      ],
      "metadata": {
        "id": "fxRN-OzDFEIO"
      },
      "execution_count": null,
      "outputs": []
    },
    {
      "cell_type": "code",
      "source": [
        "df_30_EEG['HSI_TP10'].value_counts()"
      ],
      "metadata": {
        "id": "pXFmG_LwFcDj"
      },
      "execution_count": null,
      "outputs": []
    },
    {
      "cell_type": "code",
      "source": [
        "df_30_EEG['HSI_AF7'].value_counts()"
      ],
      "metadata": {
        "id": "IovN1zRnF3n2"
      },
      "execution_count": null,
      "outputs": []
    },
    {
      "cell_type": "code",
      "source": [
        "df_30_EEG['HSI_AF8'].value_counts()"
      ],
      "metadata": {
        "id": "lH0-0ahzGUdW"
      },
      "execution_count": null,
      "outputs": []
    },
    {
      "cell_type": "code",
      "source": [
        "df_30_EEG.describe()"
      ],
      "metadata": {
        "id": "SoKEDZGYGqvN"
      },
      "execution_count": null,
      "outputs": []
    },
    {
      "cell_type": "markdown",
      "source": [
        "## Notes & Observations\n",
        "\n",
        "### Handling `HSI_*` Columns\n",
        "- The `HSI_TP9`, `HSI_AF7`, `HSI_AF8`, `HSI_TP10` columns represent **Headset Signal Integrity** for each electrode:  \n",
        "  - `1 = Good connection`  \n",
        "  - `2 = Medium connection`  \n",
        "  - `4 = Bad connection`  \n",
        "- We need to pay attention to these values because:\n",
        "  - Bad connections (`4`) indicate unreliable EEG readings.  \n",
        "  - Medium connections (`2`) may still be usable but should be treated with caution.  \n",
        "- Instead of dropping rows, we will **convert HSI values into binary flags**:  \n",
        "  - **1 = Bad connection present**  \n",
        "  - **0 = Otherwise (Good or Medium)**  \n",
        "- This preserves all data while giving the model information about electrode reliability.  \n",
        "- After creating these flags, the raw `HSI_*` columns can be removed to reduce dimensionality.\n"
      ],
      "metadata": {
        "id": "OluLEWU7HE9J"
      }
    },
    {
      "cell_type": "code",
      "source": [
        "df_30_EEG.head()"
      ],
      "metadata": {
        "id": "wa-6bQieHqnU"
      },
      "execution_count": null,
      "outputs": []
    },
    {
      "cell_type": "code",
      "source": [
        "signal_flags_values = { 1: 0, 2: 0, 4: 1}"
      ],
      "metadata": {
        "id": "6cU52NI6IeGe"
      },
      "execution_count": null,
      "outputs": []
    },
    {
      "cell_type": "code",
      "source": [
        "df_30_EEG['HSI_TP9_flag'] = df_30_EEG['HSI_TP9'].map(signal_flags_values).astype(np.int8)\n",
        "df_30_EEG['HSI_TP10_flag'] = df_30_EEG['HSI_TP10'].map(signal_flags_values).astype(np.int8)\n",
        "df_30_EEG['HSI_AF7_flag'] = df_30_EEG['HSI_AF7'].map(signal_flags_values).astype(np.int8)\n",
        "df_30_EEG['HSI_AF8_flag'] = df_30_EEG['HSI_AF8'].map(signal_flags_values).astype(np.int8)"
      ],
      "metadata": {
        "id": "uBM9mZifJKJY"
      },
      "execution_count": null,
      "outputs": []
    },
    {
      "cell_type": "code",
      "source": [
        "df_30_EEG.drop(['HSI_TP9', 'HSI_TP10', 'HSI_AF7', 'HSI_AF8'], axis=1, inplace=True)"
      ],
      "metadata": {
        "id": "uFDIeF40JL6o"
      },
      "execution_count": null,
      "outputs": []
    },
    {
      "cell_type": "code",
      "source": [
        "plt.figure(figsize=(28,12))\n",
        "sns.heatmap(df_30_EEG.corr(numeric_only=True), cmap='YlGnBu', annot=True)a\n",
        "plt.show()"
      ],
      "metadata": {
        "id": "6Nu8iL9TJyvb"
      },
      "execution_count": null,
      "outputs": []
    },
    {
      "cell_type": "markdown",
      "source": [
        "## Notes & Observations\n",
        "\n",
        "### Dropping RAW EEG Channels\n",
        "\n",
        "- The EEG dataset includes `RAW_TP9`, `RAW_AF7`, `RAW_AF8`, `RAW_TP10` columns, which represent the unprocessed voltage readings from each electrode.  \n",
        "- Upon inspection:\n",
        "  - These RAW signals are **highly noisy** and show no clear oscillatory patterns typical of brainwave activity.  \n",
        "  - Correlation analysis with other features shows **very low correlations** (near 0.0), indicating they do not contribute predictive value.  \n",
        "  - Plots of RAW vs. time reveal large fluctuations without meaningful structure.\n",
        "\n",
        "- Reason for dropping:\n",
        "  - The dataset already provides **frequency band powers** (`Delta`, `Theta`, `Alpha`, `Beta`, `Gamma`) for each electrode, which are **derived from RAW signals** and are far more informative.  \n",
        "  - Keeping RAW adds unnecessary dimensionality and noise, which can negatively affect machine learning models.\n",
        "\n",
        "- Action taken:\n",
        "  - `RAW_TP9`, `RAW_AF7`, `RAW_AF8`, `RAW_TP10` are **dropped from preprocessing**.  \n",
        "  - The focus will be on the **precomputed band power features** for all EEG electrodes, which are sufficient for cognitive load prediction and regression tasks.\n"
      ],
      "metadata": {
        "id": "QMF50SeHJ0xS"
      }
    },
    {
      "cell_type": "code",
      "source": [
        "df_30_EEG.drop(['RAW_TP9',\t'RAW_AF7',\t'RAW_AF8',\t'RAW_TP10'], axis=1, inplace=True)"
      ],
      "metadata": {
        "id": "i9PpIyemKpiN"
      },
      "execution_count": null,
      "outputs": []
    },
    {
      "cell_type": "code",
      "source": [
        "df_30_EEG.head()"
      ],
      "metadata": {
        "id": "xXWNZc8hKrQT"
      },
      "execution_count": null,
      "outputs": []
    },
    {
      "cell_type": "code",
      "source": [
        "# Select only the numeric columns for plotting histograms, excluding time-related columns\n",
        "numeric_cols = df_30_EEG.select_dtypes(include=np.number).columns\n",
        "cols_to_plot = [col for col in numeric_cols if col not in ['UnixTime']]\n",
        "\n",
        "# Calculate the number of rows and columns for the grid\n",
        "n_cols = 4  # You can adjust the number of columns as needed\n",
        "n_rows = (len(cols_to_plot) + n_cols - 1) // n_cols\n",
        "\n",
        "plt.figure(figsize=(n_cols * 5, n_rows * 4)) # Adjust figure size as needed\n",
        "\n",
        "for i, col in enumerate(cols_to_plot):\n",
        "    plt.subplot(n_rows, n_cols, i + 1)\n",
        "    sns.histplot(df_30_EEG[col], kde=True)\n",
        "    plt.title(f'Distribution of {col}')\n",
        "    plt.xlabel(col)\n",
        "    plt.ylabel('Frequency')\n",
        "\n",
        "plt.tight_layout()\n",
        "plt.show()"
      ],
      "metadata": {
        "id": "KxhrjIalLaIE"
      },
      "execution_count": null,
      "outputs": []
    },
    {
      "cell_type": "code",
      "source": [
        "plt.figure(figsize=(28,12))\n",
        "sns.pairplot(df_30_EEG)\n",
        "plt.show()"
      ],
      "metadata": {
        "id": "U7Rs3UdwLdDU"
      },
      "execution_count": null,
      "outputs": []
    }
  ]
}