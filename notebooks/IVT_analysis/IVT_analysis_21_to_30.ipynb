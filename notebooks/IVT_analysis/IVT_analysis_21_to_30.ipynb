{
 "cells": [
  {
   "cell_type": "code",
   "execution_count": null,
   "id": "1d73bdc6",
   "metadata": {
    "colab": {
     "base_uri": "https://localhost:8080/"
    },
    "id": "DWmJEurbfdoV",
    "outputId": "3d151f86-ed9a-4b77-ec18-0eb45de60d7e"
   },
   "outputs": [
    {
     "name": "stdout",
     "output_type": "stream",
     "text": [
      "The cudf module is not an IPython extension.\n"
     ]
    }
   ],
   "source": [
    "%load_ext cudf"
   ]
  },
  {
   "cell_type": "code",
   "execution_count": null,
   "id": "18dd3f26",
   "metadata": {
    "id": "eBuVubKFfuYh"
   },
   "outputs": [],
   "source": [
    "import numpy as np\n",
    "import pandas as pd\n",
    "import matplotlib.pyplot as plt\n",
    "import seaborn as sns"
   ]
  },
  {
   "cell_type": "code",
   "execution_count": null,
   "id": "d52b1d10",
   "metadata": {
    "id": "soLuBzXpfwNa"
   },
   "outputs": [],
   "source": [
    "import datashader as ds\n",
    "import datashader.transfer_functions as tf"
   ]
  },
  {
   "cell_type": "code",
   "execution_count": null,
   "id": "6e1705b3",
   "metadata": {
    "id": "W7ku1CqXfyFa"
   },
   "outputs": [],
   "source": [
    "pd.set_option('display.max_columns', None)"
   ]
  },
  {
   "cell_type": "markdown",
   "id": "48280f74",
   "metadata": {},
   "source": [
    "# **21_IVT**"
   ]
  },
  {
   "cell_type": "code",
   "execution_count": null,
   "id": "4e7a33a8",
   "metadata": {},
   "outputs": [],
   "source": [
    "df_21_IVT = pd.read_csv('data/STData/21/21_IVT.csv')"
   ]
  },
  {
   "cell_type": "code",
   "execution_count": null,
   "id": "c49cb90f",
   "metadata": {},
   "outputs": [],
   "source": [
    "df_21_IVT.head()"
   ]
  },
  {
   "cell_type": "code",
   "execution_count": null,
   "id": "ea2c118d",
   "metadata": {},
   "outputs": [],
   "source": [
    "df_21_IVT.columns"
   ]
  },
  {
   "cell_type": "code",
   "execution_count": null,
   "id": "39c77bbd",
   "metadata": {},
   "outputs": [],
   "source": [
    "df_21_IVT.shape"
   ]
  },
  {
   "cell_type": "code",
   "execution_count": null,
   "id": "0807aa74",
   "metadata": {},
   "outputs": [],
   "source": [
    "df_21_IVT.info()"
   ]
  },
  {
   "cell_type": "code",
   "execution_count": null,
   "id": "25299245",
   "metadata": {},
   "outputs": [],
   "source": [
    "df_21_IVT.isnull().sum()"
   ]
  },
  {
   "cell_type": "code",
   "execution_count": null,
   "id": "01d74700",
   "metadata": {},
   "outputs": [],
   "source": [
    "plt.figure(figsize=(14,10))\n",
    "sns.heatmap(df_21_IVT.isnull(), cmap='viridis')\n",
    "plt.show()"
   ]
  },
  {
   "cell_type": "markdown",
   "id": "c0470589",
   "metadata": {},
   "source": [
    "# Notes & Observations\n",
    "\n",
    "- We observe many **null** (or missing) values in the `QuestionKey` columns.\n",
    "- The nulls in the `QuestionKey` column may not represent “true” nulls. Rather, they follow interval patterns, suggesting that during those periods no question was displayed.\n",
    "- These missing values in `QuestionKey` require additional investigation and context-aware handling."
   ]
  },
  {
   "cell_type": "code",
   "execution_count": null,
   "id": "ef55c52e",
   "metadata": {},
   "outputs": [],
   "source": [
    "df_21_IVT['QuestionKey'].unique()"
   ]
  },
  {
   "cell_type": "code",
   "execution_count": null,
   "id": "bd0f5d86",
   "metadata": {},
   "outputs": [],
   "source": [
    "df_21_IVT['Timestamp'] = pd.to_datetime(df_21_IVT['Timestamp'])"
   ]
  },
  {
   "cell_type": "code",
   "execution_count": null,
   "id": "5ae7e412",
   "metadata": {},
   "outputs": [],
   "source": [
    "df_21_IVT.head(3)"
   ]
  },
  {
   "cell_type": "code",
   "execution_count": null,
   "id": "c94b34d7",
   "metadata": {},
   "outputs": [],
   "source": [
    "df_21_IVT['QuestionKey'].fillna('None', inplace=True)"
   ]
  },
  {
   "cell_type": "code",
   "execution_count": null,
   "id": "bf603a71",
   "metadata": {},
   "outputs": [],
   "source": [
    "df_21_IVT['QuestionKey'].value_counts()"
   ]
  },
  {
   "cell_type": "code",
   "execution_count": null,
   "id": "7595f81c",
   "metadata": {},
   "outputs": [],
   "source": [
    "plt.figure(figsize=(14,10))\n",
    "sns.heatmap(df_21_IVT.isnull(), cmap='viridis')\n",
    "plt.show()"
   ]
  },
  {
   "cell_type": "code",
   "execution_count": null,
   "id": "9e1a4a03",
   "metadata": {},
   "outputs": [],
   "source": [
    "df_21_IVT.isnull().sum()"
   ]
  },
  {
   "cell_type": "code",
   "execution_count": null,
   "id": "d7be9218",
   "metadata": {},
   "outputs": [],
   "source": [
    "df_21_IVT.head()"
   ]
  },
  {
   "cell_type": "code",
   "execution_count": null,
   "id": "a3ca7f0b",
   "metadata": {},
   "outputs": [],
   "source": [
    "df_21_IVT['Row'].unique()"
   ]
  },
  {
   "cell_type": "code",
   "execution_count": null,
   "id": "39411af1",
   "metadata": {},
   "outputs": [],
   "source": [
    "plt.figure(figsize=(8,6))\n",
    "sns.histplot(df_21_IVT['Row'])\n",
    "plt.show()"
   ]
  },
  {
   "cell_type": "markdown",
   "id": "df637961",
   "metadata": {},
   "source": [
    "# Notes & Observations\n",
    "\n",
    "- The `Row` column appears to be a simple row index and does not provide meaningful information relevant to the eye-tracking data itself. Therefore, it can be dropped."
   ]
  },
  {
   "cell_type": "code",
   "execution_count": null,
   "id": "501e5526",
   "metadata": {},
   "outputs": [],
   "source": [
    "df_21_IVT.drop('Row', axis=1, inplace=True)"
   ]
  },
  {
   "cell_type": "code",
   "execution_count": null,
   "id": "1a9b6d2f",
   "metadata": {},
   "outputs": [],
   "source": [
    "fig, axes = plt.subplots(1, 2, figsize=(20, 10))\n",
    "\n",
    "sns.scatterplot(data=df_21_IVT, x='Gaze X', y='Gaze Y', ax=axes[0])\n",
    "axes[0].set_title('Gaze X vs Gaze Y')\n",
    "\n",
    "sns.scatterplot(data=df_21_IVT, x='Interpolated Gaze X', y='Interpolated Gaze Y', ax=axes[1])\n",
    "axes[1].set_title('Interpolated Gaze X vs Interpolated Gaze Y')\n",
    "\n",
    "plt.tight_layout()\n",
    "plt.show()"
   ]
  },
  {
   "cell_type": "markdown",
   "id": "e7e2496a",
   "metadata": {},
   "source": [
    "# Gaze and Interpolated Gaze Scatter Plots\n",
    "\n",
    "The scatter plots above visualize the relationship between the x and y coordinates of both the raw gaze data and the interpolated gaze data.\n",
    "\n",
    "- **Gaze X vs Gaze Y:** This plot shows the raw gaze coordinates. The scattered points indicate the locations on the screen where the participant was looking. The density of points in certain areas might suggest regions of interest.\n",
    "- **Interpolated Gaze X vs Interpolated Gaze Y:** This plot shows the interpolated gaze coordinates. Interpolation is often used to fill in gaps in the raw gaze data, providing a smoother representation of the gaze path. Comparing this plot to the raw gaze plot can show the effect of the interpolation process.\n",
    "\n",
    "Both plots can help in understanding the distribution of gaze points across the screen and identifying potential patterns or biases in eye movements."
   ]
  },
  {
   "cell_type": "code",
   "execution_count": null,
   "id": "e8e15fda",
   "metadata": {},
   "outputs": [],
   "source": [
    "df_21_IVT.describe()"
   ]
  },
  {
   "cell_type": "code",
   "execution_count": null,
   "id": "ffe21531",
   "metadata": {},
   "outputs": [],
   "source": [
    "df_21_IVT.head(3)"
   ]
  },
  {
   "cell_type": "code",
   "execution_count": null,
   "id": "5c206e20",
   "metadata": {},
   "outputs": [],
   "source": [
    "df_21_IVT['Timestamp'] = pd.to_datetime(df_21_IVT['Timestamp'])"
   ]
  },
  {
   "cell_type": "code",
   "execution_count": null,
   "id": "b9a5d5da",
   "metadata": {},
   "outputs": [],
   "source": [
    "df_21_IVT.columns"
   ]
  },
  {
   "cell_type": "code",
   "execution_count": null,
   "id": "46cbac30",
   "metadata": {},
   "outputs": [],
   "source": [
    "cols = ['Gaze X', 'Gaze Y',\n",
    "       'Interpolated Gaze X', 'Interpolated Gaze Y', 'Interpolated Distance',\n",
    "       'Gaze Velocity', 'Gaze Acceleration', 'Fixation Index',\n",
    "       'Fixation Index by Stimulus', 'Fixation X', 'Fixation Y',\n",
    "       'Fixation Start', 'Fixation End', 'Fixation Duration',\n",
    "       'Fixation Dispersion', 'Saccade Index', 'Saccade Index by Stimulus',\n",
    "       'Saccade Start', 'Saccade End', 'Saccade Duration', 'Saccade Amplitude',\n",
    "       'Saccade Peak Velocity', 'Saccade Peak Acceleration',\n",
    "       'Saccade Peak Deceleration', 'Saccade Direction']"
   ]
  },
  {
   "cell_type": "code",
   "execution_count": null,
   "id": "3d824fb9",
   "metadata": {},
   "outputs": [],
   "source": [
    "from IPython.display import display, Markdown\n",
    "\n",
    "for col in cols:\n",
    "    # Add a markdown cell before each plot for better separation and labeling\n",
    "    display(Markdown(f'### {col} over Time'))\n",
    "    plt.figure(figsize=(16, 10))\n",
    "    sns.lineplot(x=df_21_IVT['Timestamp'], y=df_21_IVT[col])\n",
    "    plt.xlabel(\"Timestamp\") # Add x-axis label\n",
    "    plt.ylabel(col) # Add y-axis label\n",
    "    plt.show()"
   ]
  },
  {
   "cell_type": "code",
   "execution_count": null,
   "id": "48df63c6",
   "metadata": {},
   "outputs": [],
   "source": [
    "df_21_IVT.head()"
   ]
  },
  {
   "cell_type": "code",
   "execution_count": null,
   "id": "e00ca7c4",
   "metadata": {},
   "outputs": [],
   "source": [
    "plt.figure(figsize=(14,10))\n",
    "sns.heatmap(df_21_IVT[['Fixation Index', 'Fixation Index by Stimulus', 'Saccade Index', 'Saccade Index by Stimulus']].isnull(), cmap='viridis')\n",
    "plt.show()"
   ]
  },
  {
   "cell_type": "markdown",
   "id": "7daeca3c",
   "metadata": {},
   "source": [
    "# Observation\n",
    "\n",
    "The `Fixation Index`, `Fixation Index by Stimulus`, `Saccade Index` and `Saccade Index by Stimulus` columns are essentially just sequence numbers for identified events. While they indicate the order of fixations and saccades, they don't provide meaningful features for a machine learning model attempting to predict or classify eye movement patterns. Therefore, we will drop these columns as they are not useful for model building."
   ]
  },
  {
   "cell_type": "code",
   "execution_count": null,
   "id": "3de2498a",
   "metadata": {},
   "outputs": [],
   "source": [
    "df_21_IVT.drop(['Fixation Index', 'Fixation Index by Stimulus', 'Saccade Index', 'Saccade Index by Stimulus'], axis=1, inplace=True)"
   ]
  },
  {
   "cell_type": "code",
   "execution_count": null,
   "id": "ceeddc65",
   "metadata": {},
   "outputs": [],
   "source": [
    "plt.figure(figsize=(14,10))\n",
    "sns.scatterplot(data=df_21_IVT, x='Fixation X', y='Fixation Y')\n",
    "plt.title('Fixation X vs Fixation Y')\n",
    "plt.show()"
   ]
  },
  {
   "cell_type": "code",
   "execution_count": null,
   "id": "de84d3c1",
   "metadata": {},
   "outputs": [],
   "source": [
    "df_21_IVT['Fixation Start'].describe()"
   ]
  },
  {
   "cell_type": "code",
   "execution_count": null,
   "id": "7c50cc34",
   "metadata": {},
   "outputs": [],
   "source": [
    "fig, axes = plt.subplots(1, 2, figsize=(20, 8))\n",
    "\n",
    "sns.histplot(df_21_IVT['Fixation Start'], bins=100, kde=True, ax=axes[0])\n",
    "axes[0].set_xlabel('Fixation Start')\n",
    "axes[0].set_ylabel('Frequency')\n",
    "axes[0].set_title('Distribution of Fixation Start')\n",
    "\n",
    "sns.histplot(df_21_IVT['Fixation End'], bins=100, kde=True, ax=axes[1])\n",
    "axes[1].set_xlabel('Fixation End')\n",
    "axes[1].set_ylabel('Frequency')\n",
    "axes[1].set_title('Distribution of Fixation End')\n",
    "\n",
    "plt.tight_layout()\n",
    "plt.show()"
   ]
  },
  {
   "cell_type": "code",
   "execution_count": null,
   "id": "1e8d4a44",
   "metadata": {},
   "outputs": [],
   "source": [
    "fig, axes = plt.subplots(1, 2, figsize=(20, 8))\n",
    "\n",
    "sns.histplot(df_21_IVT['Saccade Start'], bins=100, kde=True, ax=axes[0])\n",
    "axes[0].set_xlabel('Saccade Start')\n",
    "axes[0].set_ylabel('Frequency')\n",
    "axes[0].set_title('Distribution of Saccade Start')\n",
    "\n",
    "sns.histplot(df_21_IVT['Saccade End'], bins=100, kde=True, ax=axes[1])\n",
    "axes[1].set_xlabel('Saccade End')\n",
    "axes[1].set_ylabel('Frequency')\n",
    "axes[1].set_title('Distribution of Saccade End')\n",
    "\n",
    "plt.tight_layout()\n",
    "plt.show()"
   ]
  },
  {
   "cell_type": "markdown",
   "id": "89ead6f1",
   "metadata": {},
   "source": [
    "# Observation on Fixation and Saccade Timestamps\n",
    "\n",
    "Upon examining the time series plots of 'Fixation Start', 'Fixation End', `Saccade Start`, and `Saccade End` against the `Timestamp`, we observe a clear linear, diagonal pattern. This indicates that these values are largely sequential and directly related to the progress of time in the data recording.\n",
    "\n",
    "Furthermore, the histograms of these features show distributions that, while informative about the timing of events, don't necessarily reveal complex patterns that would be highly predictive for a machine learning model.\n",
    "\n",
    "Crucially, the dataset already contains `Fixation Duration` and `Saccade Duration` columns. These duration features capture the length of each event, which is often a more directly relevant metric for understanding eye movement behavior than the absolute start and end times. Since the duration can be derived from the start and end times (Duration = End - Start), the start and end time columns introduce redundancy and do not provide substantial additional, independent information for modeling purposes.\n",
    "\n",
    "Therefore, to simplify the dataset and focus on the most informative features for potential machine movement analysis or modeling, we will drop the `Fixation Start`, `Fixation End`, `Saccade Start`, and `Saccade End` columns."
   ]
  },
  {
   "cell_type": "code",
   "execution_count": null,
   "id": "4be02c3b",
   "metadata": {},
   "outputs": [],
   "source": [
    "df_21_IVT.drop(['Fixation Start', 'Fixation End', 'Saccade Start', 'Saccade End'], axis=1, inplace=True)"
   ]
  },
  {
   "cell_type": "code",
   "execution_count": null,
   "id": "3795b50e",
   "metadata": {},
   "outputs": [],
   "source": [
    "df_21_IVT.head()"
   ]
  },
  {
   "cell_type": "code",
   "execution_count": null,
   "id": "406a505b",
   "metadata": {},
   "outputs": [],
   "source": [
    "plt.figure(figsize=(12, 8))\n",
    "sns.heatmap(df_21_IVT[['Gaze X', 'Gaze Y', 'Interpolated Gaze X', 'Interpolated Gaze Y']].isnull(), cmap='viridis')\n",
    "plt.show()\n"
   ]
  },
  {
   "cell_type": "code",
   "execution_count": null,
   "id": "a64a9a3a",
   "metadata": {},
   "outputs": [],
   "source": []
  },
  {
   "cell_type": "markdown",
   "id": "1bd9e10f",
   "metadata": {},
   "source": [
    "# Observations on Gaze and Interpolated Gaze Data\n",
    "\n",
    "Based on the scatter plots of 'Gaze X' vs 'Gaze Y' and 'Interpolated Gaze X' vs 'Interpolated Gaze Y', we observe that the distributions of the raw and interpolated gaze points appear very similar. The spatial patterns of where the participant was looking are consistent between the two sets of coordinates.\n",
    "\n",
    "Furthermore, the heatmap of null values for these columns ('Gaze X', 'Gaze Y', 'Interpolated Gaze X', 'Interpolated Gaze Y') reveals that the missing values are present in the same rows for both the raw and interpolated gaze coordinates. This suggests that the interpolation process did not fill in the gaps in the raw gaze data for these specific instances.\n",
    "\n",
    "Given that the interpolated gaze data shows the same spatial distribution and the same pattern of null values as the raw gaze data, it appears that the interpolation did not significantly alter or complete the data in this case. Therefore, keeping both the raw and interpolated gaze columns might be redundant, and one set could potentially be dropped to simplify the dataset without losing significant information."
   ]
  },
  {
   "cell_type": "code",
   "execution_count": null,
   "id": "3715abaa",
   "metadata": {},
   "outputs": [],
   "source": [
    "df_21_IVT.drop(['Interpolated Gaze X', 'Interpolated Gaze Y'], axis=1, inplace=True)"
   ]
  },
  {
   "cell_type": "code",
   "execution_count": null,
   "id": "c3ff7699",
   "metadata": {},
   "outputs": [],
   "source": [
    "df_21_IVT.head()"
   ]
  },
  {
   "cell_type": "code",
   "execution_count": null,
   "id": "fb9da5d1",
   "metadata": {},
   "outputs": [],
   "source": [
    "plt.figure(figsize=(12, 8))\n",
    "sns.heatmap(df_21_IVT.isnull(), cmap='viridis')\n",
    "plt.show()"
   ]
  },
  {
   "cell_type": "code",
   "execution_count": null,
   "id": "381f051b",
   "metadata": {},
   "outputs": [],
   "source": [
    "df_21_IVT.columns"
   ]
  },
  {
   "cell_type": "code",
   "execution_count": null,
   "id": "7b26a2f2",
   "metadata": {},
   "outputs": [],
   "source": [
    "fix_1_df = df_21_IVT.dropna(subset=['Fixation Duration'])\n",
    "sac_1_df = df_21_IVT.dropna(subset=['Saccade Duration'])"
   ]
  },
  {
   "cell_type": "code",
   "execution_count": null,
   "id": "930a542d",
   "metadata": {},
   "outputs": [],
   "source": [
    "fix_1_df.shape"
   ]
  },
  {
   "cell_type": "code",
   "execution_count": null,
   "id": "83531fbe",
   "metadata": {},
   "outputs": [],
   "source": [
    "sac_1_df.shape"
   ]
  },
  {
   "cell_type": "code",
   "execution_count": null,
   "id": "3bbedaca",
   "metadata": {},
   "outputs": [],
   "source": [
    "fix_1_feature = fix_1_df.groupby('QuestionKey').agg({\n",
    "    'Fixation Duration': ['count','mean','max','sum','var'],\n",
    "    'Fixation Dispersion': ['mean','max'],\n",
    "    'Fixation X': ['var'],   # screen spread X\n",
    "    'Fixation Y': ['var']    # screen spread Y\n",
    "})"
   ]
  },
  {
   "cell_type": "code",
   "execution_count": null,
   "id": "c5af2524",
   "metadata": {},
   "outputs": [],
   "source": [
    "fix_1_feature.columns = ['fix_count','fix_mean_dur','fix_max_dur','fix_total_time',\n",
    "                        'fix_dur_var','fix_disp_mean','fix_disp_max',\n",
    "                        'fix_x_var','fix_y_var']"
   ]
  },
  {
   "cell_type": "code",
   "execution_count": null,
   "id": "0180563f",
   "metadata": {},
   "outputs": [],
   "source": [
    "fix_1_feature"
   ]
  },
  {
   "cell_type": "code",
   "execution_count": null,
   "id": "8306ae81",
   "metadata": {},
   "outputs": [],
   "source": [
    "sac_1_features = sac_1_df.groupby('QuestionKey').agg({\n",
    "    'Saccade Duration': ['count','mean','sum'],\n",
    "    'Saccade Amplitude': ['mean','max'],\n",
    "    'Saccade Peak Velocity': ['mean','max'],\n",
    "    'Saccade Peak Acceleration': ['mean'],\n",
    "    'Saccade Peak Deceleration': ['mean'],\n",
    "    'Saccade Direction': ['var']   # direction variance\n",
    "})"
   ]
  },
  {
   "cell_type": "code",
   "execution_count": null,
   "id": "77a743a5",
   "metadata": {},
   "outputs": [],
   "source": [
    "sac_1_features.columns = ['sac_count','sac_mean_dur','sac_total_time',\n",
    "                        'sac_amp_mean','sac_amp_max',\n",
    "                        'sac_vel_mean','sac_vel_max',\n",
    "                        'sac_acc_mean','sac_dec_mean','sac_dir_var']"
   ]
  },
  {
   "cell_type": "code",
   "execution_count": null,
   "id": "75368f9c",
   "metadata": {},
   "outputs": [],
   "source": [
    "sac_1_features"
   ]
  },
  {
   "cell_type": "code",
   "execution_count": null,
   "id": "6b4923eb",
   "metadata": {},
   "outputs": [],
   "source": [
    "ivt_1_features = fix_1_feature.join(sac_1_features, how='outer').fillna(0)"
   ]
  },
  {
   "cell_type": "code",
   "execution_count": null,
   "id": "d2145162",
   "metadata": {},
   "outputs": [],
   "source": [
    "ivt_1_features"
   ]
  },
  {
   "cell_type": "code",
   "execution_count": null,
   "id": "a0f15b0c",
   "metadata": {},
   "outputs": [],
   "source": [
    "ivt_1_features['fix_sac_count_ratio'] = ivt_1_features['fix_count'] / (ivt_1_features['sac_count']+1e-5)\n",
    "ivt_1_features['fix_sac_time_ratio']  = ivt_1_features['fix_total_time'] / (ivt_1_features['sac_total_time']+1e-5)"
   ]
  },
  {
   "cell_type": "code",
   "execution_count": null,
   "id": "882b4f46",
   "metadata": {},
   "outputs": [],
   "source": [
    "ivt_1_features"
   ]
  },
  {
   "cell_type": "code",
   "execution_count": null,
   "id": "30a30e44",
   "metadata": {},
   "outputs": [],
   "source": []
  },
  {
   "cell_type": "markdown",
   "id": "d09fb8d5",
   "metadata": {},
   "source": [
    "# Aggregation of Fixation and Saccade Features\n",
    "\n",
    "In the preceding code cells, we performed aggregation on the `fix_1_df` and `sac_1_df` DataFrames, which contain the cleaned fixation and saccade data, respectively. The goal of this aggregation was to create a summary of eye-tracking metrics for each `QuestionKey`.\n",
    "\n",
    "For fixations, we calculated:\n",
    "- Count of fixations (`fix_count`)\n",
    "- Mean, max, sum, and variance of fixation duration (`fix_mean_dur`, `fix_max_dur`, `fix_total_time`, `fix_dur_var`)\n",
    "- Mean and max of fixation dispersion (`fix_disp_mean`, `fix_disp_max`)\n",
    "- Variance of fixation X and Y coordinates (`fix_x_var`, `fix_y_var`) to represent screen spread.\n",
    "\n",
    "For saccades, we calculated:\n",
    "- Count of saccades (`sac_count`)\n",
    "- Mean and sum of saccade duration (`sac_mean_dur`, `sac_total_time`)\n",
    "- Mean and max of saccade amplitude (`sac_amp_mean`, `sac_amp_max`)\n",
    "- Mean and max of saccade peak velocity (`sac_vel_mean`, `sac_vel_max`)\n",
    "- Mean of saccade peak acceleration and deceleration (`sac_acc_mean`, `sac_dec_mean`)\n",
    "- Variance of saccade direction (`sac_dir_var`).\n",
    "\n",
    "Finally, we joined these aggregated fixation and saccade features into a single DataFrame called `ivt_1_features`, using `QuestionKey` as the index. We also filled any resulting missing values (from `QuestionKey` values that may only have fixations or saccades, but not both) with 0. This `ivt_1_features` DataFrame now provides a consolidated summary of key eye-tracking characteristics for each question, which can be used for further analysis or modeling."
   ]
  },
  {
   "cell_type": "markdown",
   "id": "a72df5a9",
   "metadata": {},
   "source": [
    "# **22_IVT**"
   ]
  },
  {
   "cell_type": "code",
   "execution_count": null,
   "id": "89f147c8",
   "metadata": {},
   "outputs": [],
   "source": [
    "df_22_IVT = pd.read_csv('data/STData/22/22_IVT.csv')"
   ]
  },
  {
   "cell_type": "code",
   "execution_count": null,
   "id": "abb43880",
   "metadata": {},
   "outputs": [],
   "source": [
    "df_22_IVT.head()"
   ]
  },
  {
   "cell_type": "code",
   "execution_count": null,
   "id": "22f73513",
   "metadata": {},
   "outputs": [],
   "source": [
    "df_22_IVT.columns"
   ]
  },
  {
   "cell_type": "code",
   "execution_count": null,
   "id": "a91b9f92",
   "metadata": {},
   "outputs": [],
   "source": [
    "df_22_IVT.shape"
   ]
  },
  {
   "cell_type": "code",
   "execution_count": null,
   "id": "62ea1ab7",
   "metadata": {},
   "outputs": [],
   "source": [
    "df_22_IVT.info()"
   ]
  },
  {
   "cell_type": "code",
   "execution_count": null,
   "id": "5053a504",
   "metadata": {},
   "outputs": [],
   "source": [
    "df_22_IVT.isnull().sum()"
   ]
  },
  {
   "cell_type": "code",
   "execution_count": null,
   "id": "4319c7c7",
   "metadata": {},
   "outputs": [],
   "source": [
    "plt.figure(figsize=(14,10))\n",
    "sns.heatmap(df_22_IVT.isnull(), cmap='viridis')\n",
    "plt.show()"
   ]
  },
  {
   "cell_type": "markdown",
   "id": "3760c9cc",
   "metadata": {},
   "source": [
    "# Notes & Observations\n",
    "\n",
    "- We observe many **null** (or missing) values in the `QuestionKey` columns.\n",
    "- The nulls in the `QuestionKey` column may not represent “true” nulls. Rather, they follow interval patterns, suggesting that during those periods no question was displayed.\n",
    "- These missing values in `QuestionKey` require additional investigation and context-aware handling."
   ]
  },
  {
   "cell_type": "code",
   "execution_count": null,
   "id": "e3a4480c",
   "metadata": {},
   "outputs": [],
   "source": [
    "df_22_IVT['QuestionKey'].unique()"
   ]
  },
  {
   "cell_type": "code",
   "execution_count": null,
   "id": "b4573537",
   "metadata": {},
   "outputs": [],
   "source": [
    "df_22_IVT['Timestamp'] = pd.to_datetime(df_22_IVT['Timestamp'])"
   ]
  },
  {
   "cell_type": "code",
   "execution_count": null,
   "id": "64334349",
   "metadata": {},
   "outputs": [],
   "source": [
    "df_22_IVT.head(3)"
   ]
  },
  {
   "cell_type": "code",
   "execution_count": null,
   "id": "f54a1881",
   "metadata": {},
   "outputs": [],
   "source": [
    "df_22_IVT['QuestionKey'].fillna('None', inplace=True)"
   ]
  },
  {
   "cell_type": "code",
   "execution_count": null,
   "id": "77e69f6f",
   "metadata": {},
   "outputs": [],
   "source": [
    "df_22_IVT['QuestionKey'].value_counts()"
   ]
  },
  {
   "cell_type": "code",
   "execution_count": null,
   "id": "ee81352c",
   "metadata": {},
   "outputs": [],
   "source": [
    "plt.figure(figsize=(14,10))\n",
    "sns.heatmap(df_22_IVT.isnull(), cmap='viridis')\n",
    "plt.show()"
   ]
  },
  {
   "cell_type": "code",
   "execution_count": null,
   "id": "2880081a",
   "metadata": {},
   "outputs": [],
   "source": [
    "df_22_IVT.isnull().sum()"
   ]
  },
  {
   "cell_type": "code",
   "execution_count": null,
   "id": "1063237f",
   "metadata": {},
   "outputs": [],
   "source": [
    "df_22_IVT.head()"
   ]
  },
  {
   "cell_type": "code",
   "execution_count": null,
   "id": "8535073a",
   "metadata": {},
   "outputs": [],
   "source": [
    "df_22_IVT['Row'].unique()"
   ]
  },
  {
   "cell_type": "code",
   "execution_count": null,
   "id": "1206a1a1",
   "metadata": {},
   "outputs": [],
   "source": [
    "plt.figure(figsize=(8,6))\n",
    "sns.histplot(df_22_IVT['Row'])\n",
    "plt.show()"
   ]
  },
  {
   "cell_type": "markdown",
   "id": "d30f051f",
   "metadata": {},
   "source": [
    "# Notes & Observations\n",
    "\n",
    "- The `Row` column appears to be a simple row index and does not provide meaningful information relevant to the eye-tracking data itself. Therefore, it can be dropped."
   ]
  },
  {
   "cell_type": "code",
   "execution_count": null,
   "id": "e4f918a3",
   "metadata": {},
   "outputs": [],
   "source": [
    "df_22_IVT.drop('Row', axis=1, inplace=True)"
   ]
  },
  {
   "cell_type": "code",
   "execution_count": null,
   "id": "c5be537f",
   "metadata": {},
   "outputs": [],
   "source": [
    "fig, axes = plt.subplots(1, 2, figsize=(20, 10))\n",
    "\n",
    "sns.scatterplot(data=df_22_IVT, x='Gaze X', y='Gaze Y', ax=axes[0])\n",
    "axes[0].set_title('Gaze X vs Gaze Y')\n",
    "\n",
    "sns.scatterplot(data=df_22_IVT, x='Interpolated Gaze X', y='Interpolated Gaze Y', ax=axes[1])\n",
    "axes[1].set_title('Interpolated Gaze X vs Interpolated Gaze Y')\n",
    "\n",
    "plt.tight_layout()\n",
    "plt.show()"
   ]
  },
  {
   "cell_type": "markdown",
   "id": "ecb6e58a",
   "metadata": {},
   "source": [
    "# Gaze and Interpolated Gaze Scatter Plots\n",
    "\n",
    "The scatter plots above visualize the relationship between the x and y coordinates of both the raw gaze data and the interpolated gaze data.\n",
    "\n",
    "- **Gaze X vs Gaze Y:** This plot shows the raw gaze coordinates. The scattered points indicate the locations on the screen where the participant was looking. The density of points in certain areas might suggest regions of interest.\n",
    "- **Interpolated Gaze X vs Interpolated Gaze Y:** This plot shows the interpolated gaze coordinates. Interpolation is often used to fill in gaps in the raw gaze data, providing a smoother representation of the gaze path. Comparing this plot to the raw gaze plot can show the effect of the interpolation process.\n",
    "\n",
    "Both plots can help in understanding the distribution of gaze points across the screen and identifying potential patterns or biases in eye movements."
   ]
  },
  {
   "cell_type": "code",
   "execution_count": null,
   "id": "5dbea909",
   "metadata": {},
   "outputs": [],
   "source": [
    "df_22_IVT.describe()"
   ]
  },
  {
   "cell_type": "code",
   "execution_count": null,
   "id": "de15818d",
   "metadata": {},
   "outputs": [],
   "source": [
    "df_22_IVT.head(3)"
   ]
  },
  {
   "cell_type": "code",
   "execution_count": null,
   "id": "88036cbc",
   "metadata": {},
   "outputs": [],
   "source": [
    "df_22_IVT['Timestamp'] = pd.to_datetime(df_22_IVT['Timestamp'])"
   ]
  },
  {
   "cell_type": "code",
   "execution_count": null,
   "id": "607eaeca",
   "metadata": {},
   "outputs": [],
   "source": [
    "df_22_IVT.columns"
   ]
  },
  {
   "cell_type": "code",
   "execution_count": null,
   "id": "cf13feae",
   "metadata": {},
   "outputs": [],
   "source": [
    "cols = ['Gaze X', 'Gaze Y',\n",
    "       'Interpolated Gaze X', 'Interpolated Gaze Y', 'Interpolated Distance',\n",
    "       'Gaze Velocity', 'Gaze Acceleration', 'Fixation Index',\n",
    "       'Fixation Index by Stimulus', 'Fixation X', 'Fixation Y',\n",
    "       'Fixation Start', 'Fixation End', 'Fixation Duration',\n",
    "       'Fixation Dispersion', 'Saccade Index', 'Saccade Index by Stimulus',\n",
    "       'Saccade Start', 'Saccade End', 'Saccade Duration', 'Saccade Amplitude',\n",
    "       'Saccade Peak Velocity', 'Saccade Peak Acceleration',\n",
    "       'Saccade Peak Deceleration', 'Saccade Direction']"
   ]
  },
  {
   "cell_type": "code",
   "execution_count": null,
   "id": "54566b4e",
   "metadata": {},
   "outputs": [],
   "source": [
    "from IPython.display import display, Markdown\n",
    "\n",
    "for col in cols:\n",
    "    # Add a markdown cell before each plot for better separation and labeling\n",
    "    display(Markdown(f'### {col} over Time'))\n",
    "    plt.figure(figsize=(16, 10))\n",
    "    sns.lineplot(x=df_22_IVT['Timestamp'], y=df_22_IVT[col])\n",
    "    plt.xlabel(\"Timestamp\") # Add x-axis label\n",
    "    plt.ylabel(col) # Add y-axis label\n",
    "    plt.show()"
   ]
  },
  {
   "cell_type": "code",
   "execution_count": null,
   "id": "1487217f",
   "metadata": {},
   "outputs": [],
   "source": [
    "df_22_IVT.head()"
   ]
  },
  {
   "cell_type": "code",
   "execution_count": null,
   "id": "20cd955f",
   "metadata": {},
   "outputs": [],
   "source": [
    "plt.figure(figsize=(14,10))\n",
    "sns.heatmap(df_22_IVT[['Fixation Index', 'Fixation Index by Stimulus', 'Saccade Index', 'Saccade Index by Stimulus']].isnull(), cmap='viridis')\n",
    "plt.show()"
   ]
  },
  {
   "cell_type": "markdown",
   "id": "c166457a",
   "metadata": {},
   "source": [
    "# Observation\n",
    "\n",
    "The `Fixation Index`, `Fixation Index by Stimulus`, `Saccade Index` and `Saccade Index by Stimulus` columns are essentially just sequence numbers for identified events. While they indicate the order of fixations and saccades, they don't provide meaningful features for a machine learning model attempting to predict or classify eye movement patterns. Therefore, we will drop these columns as they are not useful for model building."
   ]
  },
  {
   "cell_type": "code",
   "execution_count": null,
   "id": "8376c4e2",
   "metadata": {},
   "outputs": [],
   "source": [
    "df_22_IVT.drop(['Fixation Index', 'Fixation Index by Stimulus', 'Saccade Index', 'Saccade Index by Stimulus'], axis=1, inplace=True)"
   ]
  },
  {
   "cell_type": "code",
   "execution_count": null,
   "id": "63bf7c69",
   "metadata": {},
   "outputs": [],
   "source": [
    "plt.figure(figsize=(14,10))\n",
    "sns.scatterplot(data=df_22_IVT, x='Fixation X', y='Fixation Y')\n",
    "plt.title('Fixation X vs Fixation Y')\n",
    "plt.show()"
   ]
  },
  {
   "cell_type": "code",
   "execution_count": null,
   "id": "81b038c9",
   "metadata": {},
   "outputs": [],
   "source": [
    "df_22_IVT['Fixation Start'].describe()"
   ]
  },
  {
   "cell_type": "code",
   "execution_count": null,
   "id": "644cfbb6",
   "metadata": {},
   "outputs": [],
   "source": [
    "fig, axes = plt.subplots(1, 2, figsize=(20, 8))\n",
    "\n",
    "sns.histplot(df_22_IVT['Fixation Start'], bins=100, kde=True, ax=axes[0])\n",
    "axes[0].set_xlabel('Fixation Start')\n",
    "axes[0].set_ylabel('Frequency')\n",
    "axes[0].set_title('Distribution of Fixation Start')\n",
    "\n",
    "sns.histplot(df_22_IVT['Fixation End'], bins=100, kde=True, ax=axes[1])\n",
    "axes[1].set_xlabel('Fixation End')\n",
    "axes[1].set_ylabel('Frequency')\n",
    "axes[1].set_title('Distribution of Fixation End')\n",
    "\n",
    "plt.tight_layout()\n",
    "plt.show()"
   ]
  },
  {
   "cell_type": "code",
   "execution_count": null,
   "id": "ae8df04a",
   "metadata": {},
   "outputs": [],
   "source": [
    "fig, axes = plt.subplots(1, 2, figsize=(20, 8))\n",
    "\n",
    "sns.histplot(df_22_IVT['Saccade Start'], bins=100, kde=True, ax=axes[0])\n",
    "axes[0].set_xlabel('Saccade Start')\n",
    "axes[0].set_ylabel('Frequency')\n",
    "axes[0].set_title('Distribution of Saccade Start')\n",
    "\n",
    "sns.histplot(df_22_IVT['Saccade End'], bins=100, kde=True, ax=axes[1])\n",
    "axes[1].set_xlabel('Saccade End')\n",
    "axes[1].set_ylabel('Frequency')\n",
    "axes[1].set_title('Distribution of Saccade End')\n",
    "\n",
    "plt.tight_layout()\n",
    "plt.show()"
   ]
  },
  {
   "cell_type": "markdown",
   "id": "0b975d72",
   "metadata": {},
   "source": [
    "# Observation on Fixation and Saccade Timestamps\n",
    "\n",
    "Upon examining the time series plots of 'Fixation Start', 'Fixation End', `Saccade Start`, and `Saccade End` against the `Timestamp`, we observe a clear linear, diagonal pattern. This indicates that these values are largely sequential and directly related to the progress of time in the data recording.\n",
    "\n",
    "Furthermore, the histograms of these features show distributions that, while informative about the timing of events, don't necessarily reveal complex patterns that would be highly predictive for a machine learning model.\n",
    "\n",
    "Crucially, the dataset already contains `Fixation Duration` and `Saccade Duration` columns. These duration features capture the length of each event, which is often a more directly relevant metric for understanding eye movement behavior than the absolute start and end times. Since the duration can be derived from the start and end times (Duration = End - Start), the start and end time columns introduce redundancy and do not provide substantial additional, independent information for modeling purposes.\n",
    "\n",
    "Therefore, to simplify the dataset and focus on the most informative features for potential machine movement analysis or modeling, we will drop the `Fixation Start`, `Fixation End`, `Saccade Start`, and `Saccade End` columns."
   ]
  },
  {
   "cell_type": "code",
   "execution_count": null,
   "id": "a5bda88e",
   "metadata": {},
   "outputs": [],
   "source": [
    "df_22_IVT.drop(['Fixation Start', 'Fixation End', 'Saccade Start', 'Saccade End'], axis=1, inplace=True)"
   ]
  },
  {
   "cell_type": "code",
   "execution_count": null,
   "id": "49450dbd",
   "metadata": {},
   "outputs": [],
   "source": [
    "df_22_IVT.head()"
   ]
  },
  {
   "cell_type": "code",
   "execution_count": null,
   "id": "06e2c8e7",
   "metadata": {},
   "outputs": [],
   "source": [
    "plt.figure(figsize=(12, 8))\n",
    "sns.heatmap(df_22_IVT[['Gaze X', 'Gaze Y', 'Interpolated Gaze X', 'Interpolated Gaze Y']].isnull(), cmap='viridis')\n",
    "plt.show()\n"
   ]
  },
  {
   "cell_type": "code",
   "execution_count": null,
   "id": "ada41378",
   "metadata": {},
   "outputs": [],
   "source": []
  },
  {
   "cell_type": "markdown",
   "id": "359334e5",
   "metadata": {},
   "source": [
    "# Observations on Gaze and Interpolated Gaze Data\n",
    "\n",
    "Based on the scatter plots of 'Gaze X' vs 'Gaze Y' and 'Interpolated Gaze X' vs 'Interpolated Gaze Y', we observe that the distributions of the raw and interpolated gaze points appear very similar. The spatial patterns of where the participant was looking are consistent between the two sets of coordinates.\n",
    "\n",
    "Furthermore, the heatmap of null values for these columns ('Gaze X', 'Gaze Y', 'Interpolated Gaze X', 'Interpolated Gaze Y') reveals that the missing values are present in the same rows for both the raw and interpolated gaze coordinates. This suggests that the interpolation process did not fill in the gaps in the raw gaze data for these specific instances.\n",
    "\n",
    "Given that the interpolated gaze data shows the same spatial distribution and the same pattern of null values as the raw gaze data, it appears that the interpolation did not significantly alter or complete the data in this case. Therefore, keeping both the raw and interpolated gaze columns might be redundant, and one set could potentially be dropped to simplify the dataset without losing significant information."
   ]
  },
  {
   "cell_type": "code",
   "execution_count": null,
   "id": "f8d1aa08",
   "metadata": {},
   "outputs": [],
   "source": [
    "df_22_IVT.drop(['Interpolated Gaze X', 'Interpolated Gaze Y'], axis=1, inplace=True)"
   ]
  },
  {
   "cell_type": "code",
   "execution_count": null,
   "id": "8324c044",
   "metadata": {},
   "outputs": [],
   "source": [
    "df_22_IVT.head()"
   ]
  },
  {
   "cell_type": "code",
   "execution_count": null,
   "id": "0102af58",
   "metadata": {},
   "outputs": [],
   "source": [
    "plt.figure(figsize=(12, 8))\n",
    "sns.heatmap(df_22_IVT.isnull(), cmap='viridis')\n",
    "plt.show()"
   ]
  },
  {
   "cell_type": "code",
   "execution_count": null,
   "id": "08fdd888",
   "metadata": {},
   "outputs": [],
   "source": [
    "df_22_IVT.columns"
   ]
  },
  {
   "cell_type": "code",
   "execution_count": null,
   "id": "0e9c7905",
   "metadata": {},
   "outputs": [],
   "source": [
    "fix_1_df = df_22_IVT.dropna(subset=['Fixation Duration'])\n",
    "sac_1_df = df_22_IVT.dropna(subset=['Saccade Duration'])"
   ]
  },
  {
   "cell_type": "code",
   "execution_count": null,
   "id": "b38f8d77",
   "metadata": {},
   "outputs": [],
   "source": [
    "fix_1_df.shape"
   ]
  },
  {
   "cell_type": "code",
   "execution_count": null,
   "id": "f7f4d591",
   "metadata": {},
   "outputs": [],
   "source": [
    "sac_1_df.shape"
   ]
  },
  {
   "cell_type": "code",
   "execution_count": null,
   "id": "e4a6a4eb",
   "metadata": {},
   "outputs": [],
   "source": [
    "fix_1_feature = fix_1_df.groupby('QuestionKey').agg({\n",
    "    'Fixation Duration': ['count','mean','max','sum','var'],\n",
    "    'Fixation Dispersion': ['mean','max'],\n",
    "    'Fixation X': ['var'],   # screen spread X\n",
    "    'Fixation Y': ['var']    # screen spread Y\n",
    "})"
   ]
  },
  {
   "cell_type": "code",
   "execution_count": null,
   "id": "882ed493",
   "metadata": {},
   "outputs": [],
   "source": [
    "fix_1_feature.columns = ['fix_count','fix_mean_dur','fix_max_dur','fix_total_time',\n",
    "                        'fix_dur_var','fix_disp_mean','fix_disp_max',\n",
    "                        'fix_x_var','fix_y_var']"
   ]
  },
  {
   "cell_type": "code",
   "execution_count": null,
   "id": "f950d176",
   "metadata": {},
   "outputs": [],
   "source": [
    "fix_1_feature"
   ]
  },
  {
   "cell_type": "code",
   "execution_count": null,
   "id": "506fa9f1",
   "metadata": {},
   "outputs": [],
   "source": [
    "sac_1_features = sac_1_df.groupby('QuestionKey').agg({\n",
    "    'Saccade Duration': ['count','mean','sum'],\n",
    "    'Saccade Amplitude': ['mean','max'],\n",
    "    'Saccade Peak Velocity': ['mean','max'],\n",
    "    'Saccade Peak Acceleration': ['mean'],\n",
    "    'Saccade Peak Deceleration': ['mean'],\n",
    "    'Saccade Direction': ['var']   # direction variance\n",
    "})"
   ]
  },
  {
   "cell_type": "code",
   "execution_count": null,
   "id": "21ec35df",
   "metadata": {},
   "outputs": [],
   "source": [
    "sac_1_features.columns = ['sac_count','sac_mean_dur','sac_total_time',\n",
    "                        'sac_amp_mean','sac_amp_max',\n",
    "                        'sac_vel_mean','sac_vel_max',\n",
    "                        'sac_acc_mean','sac_dec_mean','sac_dir_var']"
   ]
  },
  {
   "cell_type": "code",
   "execution_count": null,
   "id": "b0231154",
   "metadata": {},
   "outputs": [],
   "source": [
    "sac_1_features"
   ]
  },
  {
   "cell_type": "code",
   "execution_count": null,
   "id": "30dfd820",
   "metadata": {},
   "outputs": [],
   "source": [
    "ivt_1_features = fix_1_feature.join(sac_1_features, how='outer').fillna(0)"
   ]
  },
  {
   "cell_type": "code",
   "execution_count": null,
   "id": "c31a30f9",
   "metadata": {},
   "outputs": [],
   "source": [
    "ivt_1_features"
   ]
  },
  {
   "cell_type": "code",
   "execution_count": null,
   "id": "b1babae8",
   "metadata": {},
   "outputs": [],
   "source": [
    "ivt_1_features['fix_sac_count_ratio'] = ivt_1_features['fix_count'] / (ivt_1_features['sac_count']+1e-5)\n",
    "ivt_1_features['fix_sac_time_ratio']  = ivt_1_features['fix_total_time'] / (ivt_1_features['sac_total_time']+1e-5)"
   ]
  },
  {
   "cell_type": "code",
   "execution_count": null,
   "id": "eba371a8",
   "metadata": {},
   "outputs": [],
   "source": [
    "ivt_1_features"
   ]
  },
  {
   "cell_type": "code",
   "execution_count": null,
   "id": "602bef57",
   "metadata": {},
   "outputs": [],
   "source": []
  },
  {
   "cell_type": "markdown",
   "id": "35d3b817",
   "metadata": {},
   "source": [
    "# Aggregation of Fixation and Saccade Features\n",
    "\n",
    "In the preceding code cells, we performed aggregation on the `fix_1_df` and `sac_1_df` DataFrames, which contain the cleaned fixation and saccade data, respectively. The goal of this aggregation was to create a summary of eye-tracking metrics for each `QuestionKey`.\n",
    "\n",
    "For fixations, we calculated:\n",
    "- Count of fixations (`fix_count`)\n",
    "- Mean, max, sum, and variance of fixation duration (`fix_mean_dur`, `fix_max_dur`, `fix_total_time`, `fix_dur_var`)\n",
    "- Mean and max of fixation dispersion (`fix_disp_mean`, `fix_disp_max`)\n",
    "- Variance of fixation X and Y coordinates (`fix_x_var`, `fix_y_var`) to represent screen spread.\n",
    "\n",
    "For saccades, we calculated:\n",
    "- Count of saccades (`sac_count`)\n",
    "- Mean and sum of saccade duration (`sac_mean_dur`, `sac_total_time`)\n",
    "- Mean and max of saccade amplitude (`sac_amp_mean`, `sac_amp_max`)\n",
    "- Mean and max of saccade peak velocity (`sac_vel_mean`, `sac_vel_max`)\n",
    "- Mean of saccade peak acceleration and deceleration (`sac_acc_mean`, `sac_dec_mean`)\n",
    "- Variance of saccade direction (`sac_dir_var`).\n",
    "\n",
    "Finally, we joined these aggregated fixation and saccade features into a single DataFrame called `ivt_1_features`, using `QuestionKey` as the index. We also filled any resulting missing values (from `QuestionKey` values that may only have fixations or saccades, but not both) with 0. This `ivt_1_features` DataFrame now provides a consolidated summary of key eye-tracking characteristics for each question, which can be used for further analysis or modeling."
   ]
  },
  {
   "cell_type": "markdown",
   "id": "92c4ebea",
   "metadata": {},
   "source": [
    "# **23_IVT**"
   ]
  },
  {
   "cell_type": "code",
   "execution_count": null,
   "id": "52c25b4e",
   "metadata": {},
   "outputs": [],
   "source": [
    "df_23_IVT = pd.read_csv('data/STData/23/23_IVT.csv')"
   ]
  },
  {
   "cell_type": "code",
   "execution_count": null,
   "id": "1bd0be2c",
   "metadata": {},
   "outputs": [],
   "source": [
    "df_23_IVT.head()"
   ]
  },
  {
   "cell_type": "code",
   "execution_count": null,
   "id": "61f82013",
   "metadata": {},
   "outputs": [],
   "source": [
    "df_23_IVT.columns"
   ]
  },
  {
   "cell_type": "code",
   "execution_count": null,
   "id": "eed65666",
   "metadata": {},
   "outputs": [],
   "source": [
    "df_23_IVT.shape"
   ]
  },
  {
   "cell_type": "code",
   "execution_count": null,
   "id": "e173b905",
   "metadata": {},
   "outputs": [],
   "source": [
    "df_23_IVT.info()"
   ]
  },
  {
   "cell_type": "code",
   "execution_count": null,
   "id": "f1c13142",
   "metadata": {},
   "outputs": [],
   "source": [
    "df_23_IVT.isnull().sum()"
   ]
  },
  {
   "cell_type": "code",
   "execution_count": null,
   "id": "86bdc6cb",
   "metadata": {},
   "outputs": [],
   "source": [
    "plt.figure(figsize=(14,10))\n",
    "sns.heatmap(df_23_IVT.isnull(), cmap='viridis')\n",
    "plt.show()"
   ]
  },
  {
   "cell_type": "markdown",
   "id": "a7e0df1b",
   "metadata": {},
   "source": [
    "# Notes & Observations\n",
    "\n",
    "- We observe many **null** (or missing) values in the `QuestionKey` columns.\n",
    "- The nulls in the `QuestionKey` column may not represent “true” nulls. Rather, they follow interval patterns, suggesting that during those periods no question was displayed.\n",
    "- These missing values in `QuestionKey` require additional investigation and context-aware handling."
   ]
  },
  {
   "cell_type": "code",
   "execution_count": null,
   "id": "96f8ec2f",
   "metadata": {},
   "outputs": [],
   "source": [
    "df_23_IVT['QuestionKey'].unique()"
   ]
  },
  {
   "cell_type": "code",
   "execution_count": null,
   "id": "01f1f79d",
   "metadata": {},
   "outputs": [],
   "source": [
    "df_23_IVT['Timestamp'] = pd.to_datetime(df_23_IVT['Timestamp'])"
   ]
  },
  {
   "cell_type": "code",
   "execution_count": null,
   "id": "460a38f4",
   "metadata": {},
   "outputs": [],
   "source": [
    "df_23_IVT.head(3)"
   ]
  },
  {
   "cell_type": "code",
   "execution_count": null,
   "id": "6f14611d",
   "metadata": {},
   "outputs": [],
   "source": [
    "df_23_IVT['QuestionKey'].fillna('None', inplace=True)"
   ]
  },
  {
   "cell_type": "code",
   "execution_count": null,
   "id": "96df39cc",
   "metadata": {},
   "outputs": [],
   "source": [
    "df_23_IVT['QuestionKey'].value_counts()"
   ]
  },
  {
   "cell_type": "code",
   "execution_count": null,
   "id": "8be91187",
   "metadata": {},
   "outputs": [],
   "source": [
    "plt.figure(figsize=(14,10))\n",
    "sns.heatmap(df_23_IVT.isnull(), cmap='viridis')\n",
    "plt.show()"
   ]
  },
  {
   "cell_type": "code",
   "execution_count": null,
   "id": "f75d6f37",
   "metadata": {},
   "outputs": [],
   "source": [
    "df_23_IVT.isnull().sum()"
   ]
  },
  {
   "cell_type": "code",
   "execution_count": null,
   "id": "fa5e3ceb",
   "metadata": {},
   "outputs": [],
   "source": [
    "df_23_IVT.head()"
   ]
  },
  {
   "cell_type": "code",
   "execution_count": null,
   "id": "bc5b1950",
   "metadata": {},
   "outputs": [],
   "source": [
    "df_23_IVT['Row'].unique()"
   ]
  },
  {
   "cell_type": "code",
   "execution_count": null,
   "id": "3a1f672e",
   "metadata": {},
   "outputs": [],
   "source": [
    "plt.figure(figsize=(8,6))\n",
    "sns.histplot(df_23_IVT['Row'])\n",
    "plt.show()"
   ]
  },
  {
   "cell_type": "markdown",
   "id": "446e24b9",
   "metadata": {},
   "source": [
    "# Notes & Observations\n",
    "\n",
    "- The `Row` column appears to be a simple row index and does not provide meaningful information relevant to the eye-tracking data itself. Therefore, it can be dropped."
   ]
  },
  {
   "cell_type": "code",
   "execution_count": null,
   "id": "acdd2481",
   "metadata": {},
   "outputs": [],
   "source": [
    "df_23_IVT.drop('Row', axis=1, inplace=True)"
   ]
  },
  {
   "cell_type": "code",
   "execution_count": null,
   "id": "265ceac8",
   "metadata": {},
   "outputs": [],
   "source": [
    "fig, axes = plt.subplots(1, 2, figsize=(20, 10))\n",
    "\n",
    "sns.scatterplot(data=df_23_IVT, x='Gaze X', y='Gaze Y', ax=axes[0])\n",
    "axes[0].set_title('Gaze X vs Gaze Y')\n",
    "\n",
    "sns.scatterplot(data=df_23_IVT, x='Interpolated Gaze X', y='Interpolated Gaze Y', ax=axes[1])\n",
    "axes[1].set_title('Interpolated Gaze X vs Interpolated Gaze Y')\n",
    "\n",
    "plt.tight_layout()\n",
    "plt.show()"
   ]
  },
  {
   "cell_type": "markdown",
   "id": "aed8bb50",
   "metadata": {},
   "source": [
    "# Gaze and Interpolated Gaze Scatter Plots\n",
    "\n",
    "The scatter plots above visualize the relationship between the x and y coordinates of both the raw gaze data and the interpolated gaze data.\n",
    "\n",
    "- **Gaze X vs Gaze Y:** This plot shows the raw gaze coordinates. The scattered points indicate the locations on the screen where the participant was looking. The density of points in certain areas might suggest regions of interest.\n",
    "- **Interpolated Gaze X vs Interpolated Gaze Y:** This plot shows the interpolated gaze coordinates. Interpolation is often used to fill in gaps in the raw gaze data, providing a smoother representation of the gaze path. Comparing this plot to the raw gaze plot can show the effect of the interpolation process.\n",
    "\n",
    "Both plots can help in understanding the distribution of gaze points across the screen and identifying potential patterns or biases in eye movements."
   ]
  },
  {
   "cell_type": "code",
   "execution_count": null,
   "id": "42a9d78f",
   "metadata": {},
   "outputs": [],
   "source": [
    "df_23_IVT.describe()"
   ]
  },
  {
   "cell_type": "code",
   "execution_count": null,
   "id": "7044f90b",
   "metadata": {},
   "outputs": [],
   "source": [
    "df_23_IVT.head(3)"
   ]
  },
  {
   "cell_type": "code",
   "execution_count": null,
   "id": "489c8f1c",
   "metadata": {},
   "outputs": [],
   "source": [
    "df_23_IVT['Timestamp'] = pd.to_datetime(df_23_IVT['Timestamp'])"
   ]
  },
  {
   "cell_type": "code",
   "execution_count": null,
   "id": "9aafd316",
   "metadata": {},
   "outputs": [],
   "source": [
    "df_23_IVT.columns"
   ]
  },
  {
   "cell_type": "code",
   "execution_count": null,
   "id": "65c29984",
   "metadata": {},
   "outputs": [],
   "source": [
    "cols = ['Gaze X', 'Gaze Y',\n",
    "       'Interpolated Gaze X', 'Interpolated Gaze Y', 'Interpolated Distance',\n",
    "       'Gaze Velocity', 'Gaze Acceleration', 'Fixation Index',\n",
    "       'Fixation Index by Stimulus', 'Fixation X', 'Fixation Y',\n",
    "       'Fixation Start', 'Fixation End', 'Fixation Duration',\n",
    "       'Fixation Dispersion', 'Saccade Index', 'Saccade Index by Stimulus',\n",
    "       'Saccade Start', 'Saccade End', 'Saccade Duration', 'Saccade Amplitude',\n",
    "       'Saccade Peak Velocity', 'Saccade Peak Acceleration',\n",
    "       'Saccade Peak Deceleration', 'Saccade Direction']"
   ]
  },
  {
   "cell_type": "code",
   "execution_count": null,
   "id": "82177f91",
   "metadata": {},
   "outputs": [],
   "source": [
    "from IPython.display import display, Markdown\n",
    "\n",
    "for col in cols:\n",
    "    # Add a markdown cell before each plot for better separation and labeling\n",
    "    display(Markdown(f'### {col} over Time'))\n",
    "    plt.figure(figsize=(16, 10))\n",
    "    sns.lineplot(x=df_23_IVT['Timestamp'], y=df_23_IVT[col])\n",
    "    plt.xlabel(\"Timestamp\") # Add x-axis label\n",
    "    plt.ylabel(col) # Add y-axis label\n",
    "    plt.show()"
   ]
  },
  {
   "cell_type": "code",
   "execution_count": null,
   "id": "58d41803",
   "metadata": {},
   "outputs": [],
   "source": [
    "df_23_IVT.head()"
   ]
  },
  {
   "cell_type": "code",
   "execution_count": null,
   "id": "52cebc0a",
   "metadata": {},
   "outputs": [],
   "source": [
    "plt.figure(figsize=(14,10))\n",
    "sns.heatmap(df_23_IVT[['Fixation Index', 'Fixation Index by Stimulus', 'Saccade Index', 'Saccade Index by Stimulus']].isnull(), cmap='viridis')\n",
    "plt.show()"
   ]
  },
  {
   "cell_type": "markdown",
   "id": "c006fbf7",
   "metadata": {},
   "source": [
    "# Observation\n",
    "\n",
    "The `Fixation Index`, `Fixation Index by Stimulus`, `Saccade Index` and `Saccade Index by Stimulus` columns are essentially just sequence numbers for identified events. While they indicate the order of fixations and saccades, they don't provide meaningful features for a machine learning model attempting to predict or classify eye movement patterns. Therefore, we will drop these columns as they are not useful for model building."
   ]
  },
  {
   "cell_type": "code",
   "execution_count": null,
   "id": "fe1ce059",
   "metadata": {},
   "outputs": [],
   "source": [
    "df_23_IVT.drop(['Fixation Index', 'Fixation Index by Stimulus', 'Saccade Index', 'Saccade Index by Stimulus'], axis=1, inplace=True)"
   ]
  },
  {
   "cell_type": "code",
   "execution_count": null,
   "id": "98ea024e",
   "metadata": {},
   "outputs": [],
   "source": [
    "plt.figure(figsize=(14,10))\n",
    "sns.scatterplot(data=df_23_IVT, x='Fixation X', y='Fixation Y')\n",
    "plt.title('Fixation X vs Fixation Y')\n",
    "plt.show()"
   ]
  },
  {
   "cell_type": "code",
   "execution_count": null,
   "id": "7cf7418a",
   "metadata": {},
   "outputs": [],
   "source": [
    "df_23_IVT['Fixation Start'].describe()"
   ]
  },
  {
   "cell_type": "code",
   "execution_count": null,
   "id": "e02157ac",
   "metadata": {},
   "outputs": [],
   "source": [
    "fig, axes = plt.subplots(1, 2, figsize=(20, 8))\n",
    "\n",
    "sns.histplot(df_23_IVT['Fixation Start'], bins=100, kde=True, ax=axes[0])\n",
    "axes[0].set_xlabel('Fixation Start')\n",
    "axes[0].set_ylabel('Frequency')\n",
    "axes[0].set_title('Distribution of Fixation Start')\n",
    "\n",
    "sns.histplot(df_23_IVT['Fixation End'], bins=100, kde=True, ax=axes[1])\n",
    "axes[1].set_xlabel('Fixation End')\n",
    "axes[1].set_ylabel('Frequency')\n",
    "axes[1].set_title('Distribution of Fixation End')\n",
    "\n",
    "plt.tight_layout()\n",
    "plt.show()"
   ]
  },
  {
   "cell_type": "code",
   "execution_count": null,
   "id": "15e58d46",
   "metadata": {},
   "outputs": [],
   "source": [
    "fig, axes = plt.subplots(1, 2, figsize=(20, 8))\n",
    "\n",
    "sns.histplot(df_23_IVT['Saccade Start'], bins=100, kde=True, ax=axes[0])\n",
    "axes[0].set_xlabel('Saccade Start')\n",
    "axes[0].set_ylabel('Frequency')\n",
    "axes[0].set_title('Distribution of Saccade Start')\n",
    "\n",
    "sns.histplot(df_23_IVT['Saccade End'], bins=100, kde=True, ax=axes[1])\n",
    "axes[1].set_xlabel('Saccade End')\n",
    "axes[1].set_ylabel('Frequency')\n",
    "axes[1].set_title('Distribution of Saccade End')\n",
    "\n",
    "plt.tight_layout()\n",
    "plt.show()"
   ]
  },
  {
   "cell_type": "markdown",
   "id": "94e7495b",
   "metadata": {},
   "source": [
    "# Observation on Fixation and Saccade Timestamps\n",
    "\n",
    "Upon examining the time series plots of 'Fixation Start', 'Fixation End', `Saccade Start`, and `Saccade End` against the `Timestamp`, we observe a clear linear, diagonal pattern. This indicates that these values are largely sequential and directly related to the progress of time in the data recording.\n",
    "\n",
    "Furthermore, the histograms of these features show distributions that, while informative about the timing of events, don't necessarily reveal complex patterns that would be highly predictive for a machine learning model.\n",
    "\n",
    "Crucially, the dataset already contains `Fixation Duration` and `Saccade Duration` columns. These duration features capture the length of each event, which is often a more directly relevant metric for understanding eye movement behavior than the absolute start and end times. Since the duration can be derived from the start and end times (Duration = End - Start), the start and end time columns introduce redundancy and do not provide substantial additional, independent information for modeling purposes.\n",
    "\n",
    "Therefore, to simplify the dataset and focus on the most informative features for potential machine movement analysis or modeling, we will drop the `Fixation Start`, `Fixation End`, `Saccade Start`, and `Saccade End` columns."
   ]
  },
  {
   "cell_type": "code",
   "execution_count": null,
   "id": "1acc5548",
   "metadata": {},
   "outputs": [],
   "source": [
    "df_23_IVT.drop(['Fixation Start', 'Fixation End', 'Saccade Start', 'Saccade End'], axis=1, inplace=True)"
   ]
  },
  {
   "cell_type": "code",
   "execution_count": null,
   "id": "f61b1038",
   "metadata": {},
   "outputs": [],
   "source": [
    "df_23_IVT.head()"
   ]
  },
  {
   "cell_type": "code",
   "execution_count": null,
   "id": "9d1b0755",
   "metadata": {},
   "outputs": [],
   "source": [
    "plt.figure(figsize=(12, 8))\n",
    "sns.heatmap(df_23_IVT[['Gaze X', 'Gaze Y', 'Interpolated Gaze X', 'Interpolated Gaze Y']].isnull(), cmap='viridis')\n",
    "plt.show()\n"
   ]
  },
  {
   "cell_type": "code",
   "execution_count": null,
   "id": "3c2def64",
   "metadata": {},
   "outputs": [],
   "source": []
  },
  {
   "cell_type": "markdown",
   "id": "f520de06",
   "metadata": {},
   "source": [
    "# Observations on Gaze and Interpolated Gaze Data\n",
    "\n",
    "Based on the scatter plots of 'Gaze X' vs 'Gaze Y' and 'Interpolated Gaze X' vs 'Interpolated Gaze Y', we observe that the distributions of the raw and interpolated gaze points appear very similar. The spatial patterns of where the participant was looking are consistent between the two sets of coordinates.\n",
    "\n",
    "Furthermore, the heatmap of null values for these columns ('Gaze X', 'Gaze Y', 'Interpolated Gaze X', 'Interpolated Gaze Y') reveals that the missing values are present in the same rows for both the raw and interpolated gaze coordinates. This suggests that the interpolation process did not fill in the gaps in the raw gaze data for these specific instances.\n",
    "\n",
    "Given that the interpolated gaze data shows the same spatial distribution and the same pattern of null values as the raw gaze data, it appears that the interpolation did not significantly alter or complete the data in this case. Therefore, keeping both the raw and interpolated gaze columns might be redundant, and one set could potentially be dropped to simplify the dataset without losing significant information."
   ]
  },
  {
   "cell_type": "code",
   "execution_count": null,
   "id": "e0095102",
   "metadata": {},
   "outputs": [],
   "source": [
    "df_23_IVT.drop(['Interpolated Gaze X', 'Interpolated Gaze Y'], axis=1, inplace=True)"
   ]
  },
  {
   "cell_type": "code",
   "execution_count": null,
   "id": "76c9315e",
   "metadata": {},
   "outputs": [],
   "source": [
    "df_23_IVT.head()"
   ]
  },
  {
   "cell_type": "code",
   "execution_count": null,
   "id": "bba11373",
   "metadata": {},
   "outputs": [],
   "source": [
    "plt.figure(figsize=(12, 8))\n",
    "sns.heatmap(df_23_IVT.isnull(), cmap='viridis')\n",
    "plt.show()"
   ]
  },
  {
   "cell_type": "code",
   "execution_count": null,
   "id": "aeced883",
   "metadata": {},
   "outputs": [],
   "source": [
    "df_23_IVT.columns"
   ]
  },
  {
   "cell_type": "code",
   "execution_count": null,
   "id": "a6a07a95",
   "metadata": {},
   "outputs": [],
   "source": [
    "fix_1_df = df_23_IVT.dropna(subset=['Fixation Duration'])\n",
    "sac_1_df = df_23_IVT.dropna(subset=['Saccade Duration'])"
   ]
  },
  {
   "cell_type": "code",
   "execution_count": null,
   "id": "2100c354",
   "metadata": {},
   "outputs": [],
   "source": [
    "fix_1_df.shape"
   ]
  },
  {
   "cell_type": "code",
   "execution_count": null,
   "id": "d94ad5f4",
   "metadata": {},
   "outputs": [],
   "source": [
    "sac_1_df.shape"
   ]
  },
  {
   "cell_type": "code",
   "execution_count": null,
   "id": "bc2a5387",
   "metadata": {},
   "outputs": [],
   "source": [
    "fix_1_feature = fix_1_df.groupby('QuestionKey').agg({\n",
    "    'Fixation Duration': ['count','mean','max','sum','var'],\n",
    "    'Fixation Dispersion': ['mean','max'],\n",
    "    'Fixation X': ['var'],   # screen spread X\n",
    "    'Fixation Y': ['var']    # screen spread Y\n",
    "})"
   ]
  },
  {
   "cell_type": "code",
   "execution_count": null,
   "id": "905b118b",
   "metadata": {},
   "outputs": [],
   "source": [
    "fix_1_feature.columns = ['fix_count','fix_mean_dur','fix_max_dur','fix_total_time',\n",
    "                        'fix_dur_var','fix_disp_mean','fix_disp_max',\n",
    "                        'fix_x_var','fix_y_var']"
   ]
  },
  {
   "cell_type": "code",
   "execution_count": null,
   "id": "4af30887",
   "metadata": {},
   "outputs": [],
   "source": [
    "fix_1_feature"
   ]
  },
  {
   "cell_type": "code",
   "execution_count": null,
   "id": "aa9760a4",
   "metadata": {},
   "outputs": [],
   "source": [
    "sac_1_features = sac_1_df.groupby('QuestionKey').agg({\n",
    "    'Saccade Duration': ['count','mean','sum'],\n",
    "    'Saccade Amplitude': ['mean','max'],\n",
    "    'Saccade Peak Velocity': ['mean','max'],\n",
    "    'Saccade Peak Acceleration': ['mean'],\n",
    "    'Saccade Peak Deceleration': ['mean'],\n",
    "    'Saccade Direction': ['var']   # direction variance\n",
    "})"
   ]
  },
  {
   "cell_type": "code",
   "execution_count": null,
   "id": "1c33e4de",
   "metadata": {},
   "outputs": [],
   "source": [
    "sac_1_features.columns = ['sac_count','sac_mean_dur','sac_total_time',\n",
    "                        'sac_amp_mean','sac_amp_max',\n",
    "                        'sac_vel_mean','sac_vel_max',\n",
    "                        'sac_acc_mean','sac_dec_mean','sac_dir_var']"
   ]
  },
  {
   "cell_type": "code",
   "execution_count": null,
   "id": "54b03a17",
   "metadata": {},
   "outputs": [],
   "source": [
    "sac_1_features"
   ]
  },
  {
   "cell_type": "code",
   "execution_count": null,
   "id": "5a20d99a",
   "metadata": {},
   "outputs": [],
   "source": [
    "ivt_1_features = fix_1_feature.join(sac_1_features, how='outer').fillna(0)"
   ]
  },
  {
   "cell_type": "code",
   "execution_count": null,
   "id": "f197e6de",
   "metadata": {},
   "outputs": [],
   "source": [
    "ivt_1_features"
   ]
  },
  {
   "cell_type": "code",
   "execution_count": null,
   "id": "a4e65493",
   "metadata": {},
   "outputs": [],
   "source": [
    "ivt_1_features['fix_sac_count_ratio'] = ivt_1_features['fix_count'] / (ivt_1_features['sac_count']+1e-5)\n",
    "ivt_1_features['fix_sac_time_ratio']  = ivt_1_features['fix_total_time'] / (ivt_1_features['sac_total_time']+1e-5)"
   ]
  },
  {
   "cell_type": "code",
   "execution_count": null,
   "id": "3ab7a3fb",
   "metadata": {},
   "outputs": [],
   "source": [
    "ivt_1_features"
   ]
  },
  {
   "cell_type": "code",
   "execution_count": null,
   "id": "51e44b9f",
   "metadata": {},
   "outputs": [],
   "source": []
  },
  {
   "cell_type": "markdown",
   "id": "e3dc8d7b",
   "metadata": {},
   "source": [
    "# Aggregation of Fixation and Saccade Features\n",
    "\n",
    "In the preceding code cells, we performed aggregation on the `fix_1_df` and `sac_1_df` DataFrames, which contain the cleaned fixation and saccade data, respectively. The goal of this aggregation was to create a summary of eye-tracking metrics for each `QuestionKey`.\n",
    "\n",
    "For fixations, we calculated:\n",
    "- Count of fixations (`fix_count`)\n",
    "- Mean, max, sum, and variance of fixation duration (`fix_mean_dur`, `fix_max_dur`, `fix_total_time`, `fix_dur_var`)\n",
    "- Mean and max of fixation dispersion (`fix_disp_mean`, `fix_disp_max`)\n",
    "- Variance of fixation X and Y coordinates (`fix_x_var`, `fix_y_var`) to represent screen spread.\n",
    "\n",
    "For saccades, we calculated:\n",
    "- Count of saccades (`sac_count`)\n",
    "- Mean and sum of saccade duration (`sac_mean_dur`, `sac_total_time`)\n",
    "- Mean and max of saccade amplitude (`sac_amp_mean`, `sac_amp_max`)\n",
    "- Mean and max of saccade peak velocity (`sac_vel_mean`, `sac_vel_max`)\n",
    "- Mean of saccade peak acceleration and deceleration (`sac_acc_mean`, `sac_dec_mean`)\n",
    "- Variance of saccade direction (`sac_dir_var`).\n",
    "\n",
    "Finally, we joined these aggregated fixation and saccade features into a single DataFrame called `ivt_1_features`, using `QuestionKey` as the index. We also filled any resulting missing values (from `QuestionKey` values that may only have fixations or saccades, but not both) with 0. This `ivt_1_features` DataFrame now provides a consolidated summary of key eye-tracking characteristics for each question, which can be used for further analysis or modeling."
   ]
  },
  {
   "cell_type": "markdown",
   "id": "4822cfae",
   "metadata": {},
   "source": [
    "# **24_IVT**"
   ]
  },
  {
   "cell_type": "code",
   "execution_count": null,
   "id": "48134cfb",
   "metadata": {},
   "outputs": [],
   "source": [
    "df_24_IVT = pd.read_csv('data/STData/24/24_IVT.csv')"
   ]
  },
  {
   "cell_type": "code",
   "execution_count": null,
   "id": "989d63a7",
   "metadata": {},
   "outputs": [],
   "source": [
    "df_24_IVT.head()"
   ]
  },
  {
   "cell_type": "code",
   "execution_count": null,
   "id": "05b9f15f",
   "metadata": {},
   "outputs": [],
   "source": [
    "df_24_IVT.columns"
   ]
  },
  {
   "cell_type": "code",
   "execution_count": null,
   "id": "3f01a97c",
   "metadata": {},
   "outputs": [],
   "source": [
    "df_24_IVT.shape"
   ]
  },
  {
   "cell_type": "code",
   "execution_count": null,
   "id": "086f4600",
   "metadata": {},
   "outputs": [],
   "source": [
    "df_24_IVT.info()"
   ]
  },
  {
   "cell_type": "code",
   "execution_count": null,
   "id": "2a8a6b0e",
   "metadata": {},
   "outputs": [],
   "source": [
    "df_24_IVT.isnull().sum()"
   ]
  },
  {
   "cell_type": "code",
   "execution_count": null,
   "id": "c1d428dc",
   "metadata": {},
   "outputs": [],
   "source": [
    "plt.figure(figsize=(14,10))\n",
    "sns.heatmap(df_24_IVT.isnull(), cmap='viridis')\n",
    "plt.show()"
   ]
  },
  {
   "cell_type": "markdown",
   "id": "93edb822",
   "metadata": {},
   "source": [
    "# Notes & Observations\n",
    "\n",
    "- We observe many **null** (or missing) values in the `QuestionKey` columns.\n",
    "- The nulls in the `QuestionKey` column may not represent “true” nulls. Rather, they follow interval patterns, suggesting that during those periods no question was displayed.\n",
    "- These missing values in `QuestionKey` require additional investigation and context-aware handling."
   ]
  },
  {
   "cell_type": "code",
   "execution_count": null,
   "id": "d6329e91",
   "metadata": {},
   "outputs": [],
   "source": [
    "df_24_IVT['QuestionKey'].unique()"
   ]
  },
  {
   "cell_type": "code",
   "execution_count": null,
   "id": "69ae00a5",
   "metadata": {},
   "outputs": [],
   "source": [
    "df_24_IVT['Timestamp'] = pd.to_datetime(df_24_IVT['Timestamp'])"
   ]
  },
  {
   "cell_type": "code",
   "execution_count": null,
   "id": "410aca54",
   "metadata": {},
   "outputs": [],
   "source": [
    "df_24_IVT.head(3)"
   ]
  },
  {
   "cell_type": "code",
   "execution_count": null,
   "id": "ec1f457e",
   "metadata": {},
   "outputs": [],
   "source": [
    "df_24_IVT['QuestionKey'].fillna('None', inplace=True)"
   ]
  },
  {
   "cell_type": "code",
   "execution_count": null,
   "id": "62e2743a",
   "metadata": {},
   "outputs": [],
   "source": [
    "df_24_IVT['QuestionKey'].value_counts()"
   ]
  },
  {
   "cell_type": "code",
   "execution_count": null,
   "id": "12f614a1",
   "metadata": {},
   "outputs": [],
   "source": [
    "plt.figure(figsize=(14,10))\n",
    "sns.heatmap(df_24_IVT.isnull(), cmap='viridis')\n",
    "plt.show()"
   ]
  },
  {
   "cell_type": "code",
   "execution_count": null,
   "id": "3b424730",
   "metadata": {},
   "outputs": [],
   "source": [
    "df_24_IVT.isnull().sum()"
   ]
  },
  {
   "cell_type": "code",
   "execution_count": null,
   "id": "66b7bc12",
   "metadata": {},
   "outputs": [],
   "source": [
    "df_24_IVT.head()"
   ]
  },
  {
   "cell_type": "code",
   "execution_count": null,
   "id": "86d73ee2",
   "metadata": {},
   "outputs": [],
   "source": [
    "df_24_IVT['Row'].unique()"
   ]
  },
  {
   "cell_type": "code",
   "execution_count": null,
   "id": "2386f25b",
   "metadata": {},
   "outputs": [],
   "source": [
    "plt.figure(figsize=(8,6))\n",
    "sns.histplot(df_24_IVT['Row'])\n",
    "plt.show()"
   ]
  },
  {
   "cell_type": "markdown",
   "id": "6938a788",
   "metadata": {},
   "source": [
    "# Notes & Observations\n",
    "\n",
    "- The `Row` column appears to be a simple row index and does not provide meaningful information relevant to the eye-tracking data itself. Therefore, it can be dropped."
   ]
  },
  {
   "cell_type": "code",
   "execution_count": null,
   "id": "54140678",
   "metadata": {},
   "outputs": [],
   "source": [
    "df_24_IVT.drop('Row', axis=1, inplace=True)"
   ]
  },
  {
   "cell_type": "code",
   "execution_count": null,
   "id": "e0ff3131",
   "metadata": {},
   "outputs": [],
   "source": [
    "fig, axes = plt.subplots(1, 2, figsize=(20, 10))\n",
    "\n",
    "sns.scatterplot(data=df_24_IVT, x='Gaze X', y='Gaze Y', ax=axes[0])\n",
    "axes[0].set_title('Gaze X vs Gaze Y')\n",
    "\n",
    "sns.scatterplot(data=df_24_IVT, x='Interpolated Gaze X', y='Interpolated Gaze Y', ax=axes[1])\n",
    "axes[1].set_title('Interpolated Gaze X vs Interpolated Gaze Y')\n",
    "\n",
    "plt.tight_layout()\n",
    "plt.show()"
   ]
  },
  {
   "cell_type": "markdown",
   "id": "4b80aa79",
   "metadata": {},
   "source": [
    "# Gaze and Interpolated Gaze Scatter Plots\n",
    "\n",
    "The scatter plots above visualize the relationship between the x and y coordinates of both the raw gaze data and the interpolated gaze data.\n",
    "\n",
    "- **Gaze X vs Gaze Y:** This plot shows the raw gaze coordinates. The scattered points indicate the locations on the screen where the participant was looking. The density of points in certain areas might suggest regions of interest.\n",
    "- **Interpolated Gaze X vs Interpolated Gaze Y:** This plot shows the interpolated gaze coordinates. Interpolation is often used to fill in gaps in the raw gaze data, providing a smoother representation of the gaze path. Comparing this plot to the raw gaze plot can show the effect of the interpolation process.\n",
    "\n",
    "Both plots can help in understanding the distribution of gaze points across the screen and identifying potential patterns or biases in eye movements."
   ]
  },
  {
   "cell_type": "code",
   "execution_count": null,
   "id": "090dcb7b",
   "metadata": {},
   "outputs": [],
   "source": [
    "df_24_IVT.describe()"
   ]
  },
  {
   "cell_type": "code",
   "execution_count": null,
   "id": "86b39dff",
   "metadata": {},
   "outputs": [],
   "source": [
    "df_24_IVT.head(3)"
   ]
  },
  {
   "cell_type": "code",
   "execution_count": null,
   "id": "d8bfc5b2",
   "metadata": {},
   "outputs": [],
   "source": [
    "df_24_IVT['Timestamp'] = pd.to_datetime(df_24_IVT['Timestamp'])"
   ]
  },
  {
   "cell_type": "code",
   "execution_count": null,
   "id": "830c532d",
   "metadata": {},
   "outputs": [],
   "source": [
    "df_24_IVT.columns"
   ]
  },
  {
   "cell_type": "code",
   "execution_count": null,
   "id": "61b0f566",
   "metadata": {},
   "outputs": [],
   "source": [
    "cols = ['Gaze X', 'Gaze Y',\n",
    "       'Interpolated Gaze X', 'Interpolated Gaze Y', 'Interpolated Distance',\n",
    "       'Gaze Velocity', 'Gaze Acceleration', 'Fixation Index',\n",
    "       'Fixation Index by Stimulus', 'Fixation X', 'Fixation Y',\n",
    "       'Fixation Start', 'Fixation End', 'Fixation Duration',\n",
    "       'Fixation Dispersion', 'Saccade Index', 'Saccade Index by Stimulus',\n",
    "       'Saccade Start', 'Saccade End', 'Saccade Duration', 'Saccade Amplitude',\n",
    "       'Saccade Peak Velocity', 'Saccade Peak Acceleration',\n",
    "       'Saccade Peak Deceleration', 'Saccade Direction']"
   ]
  },
  {
   "cell_type": "code",
   "execution_count": null,
   "id": "c2aef3eb",
   "metadata": {},
   "outputs": [],
   "source": [
    "from IPython.display import display, Markdown\n",
    "\n",
    "for col in cols:\n",
    "    # Add a markdown cell before each plot for better separation and labeling\n",
    "    display(Markdown(f'### {col} over Time'))\n",
    "    plt.figure(figsize=(16, 10))\n",
    "    sns.lineplot(x=df_24_IVT['Timestamp'], y=df_24_IVT[col])\n",
    "    plt.xlabel(\"Timestamp\") # Add x-axis label\n",
    "    plt.ylabel(col) # Add y-axis label\n",
    "    plt.show()"
   ]
  },
  {
   "cell_type": "code",
   "execution_count": null,
   "id": "79c0a045",
   "metadata": {},
   "outputs": [],
   "source": [
    "df_24_IVT.head()"
   ]
  },
  {
   "cell_type": "code",
   "execution_count": null,
   "id": "8e052735",
   "metadata": {},
   "outputs": [],
   "source": [
    "plt.figure(figsize=(14,10))\n",
    "sns.heatmap(df_24_IVT[['Fixation Index', 'Fixation Index by Stimulus', 'Saccade Index', 'Saccade Index by Stimulus']].isnull(), cmap='viridis')\n",
    "plt.show()"
   ]
  },
  {
   "cell_type": "markdown",
   "id": "aff3623d",
   "metadata": {},
   "source": [
    "# Observation\n",
    "\n",
    "The `Fixation Index`, `Fixation Index by Stimulus`, `Saccade Index` and `Saccade Index by Stimulus` columns are essentially just sequence numbers for identified events. While they indicate the order of fixations and saccades, they don't provide meaningful features for a machine learning model attempting to predict or classify eye movement patterns. Therefore, we will drop these columns as they are not useful for model building."
   ]
  },
  {
   "cell_type": "code",
   "execution_count": null,
   "id": "89e3d882",
   "metadata": {},
   "outputs": [],
   "source": [
    "df_24_IVT.drop(['Fixation Index', 'Fixation Index by Stimulus', 'Saccade Index', 'Saccade Index by Stimulus'], axis=1, inplace=True)"
   ]
  },
  {
   "cell_type": "code",
   "execution_count": null,
   "id": "3a81427b",
   "metadata": {},
   "outputs": [],
   "source": [
    "plt.figure(figsize=(14,10))\n",
    "sns.scatterplot(data=df_24_IVT, x='Fixation X', y='Fixation Y')\n",
    "plt.title('Fixation X vs Fixation Y')\n",
    "plt.show()"
   ]
  },
  {
   "cell_type": "code",
   "execution_count": null,
   "id": "eacfa2a2",
   "metadata": {},
   "outputs": [],
   "source": [
    "df_24_IVT['Fixation Start'].describe()"
   ]
  },
  {
   "cell_type": "code",
   "execution_count": null,
   "id": "d8fb5378",
   "metadata": {},
   "outputs": [],
   "source": [
    "fig, axes = plt.subplots(1, 2, figsize=(20, 8))\n",
    "\n",
    "sns.histplot(df_24_IVT['Fixation Start'], bins=100, kde=True, ax=axes[0])\n",
    "axes[0].set_xlabel('Fixation Start')\n",
    "axes[0].set_ylabel('Frequency')\n",
    "axes[0].set_title('Distribution of Fixation Start')\n",
    "\n",
    "sns.histplot(df_24_IVT['Fixation End'], bins=100, kde=True, ax=axes[1])\n",
    "axes[1].set_xlabel('Fixation End')\n",
    "axes[1].set_ylabel('Frequency')\n",
    "axes[1].set_title('Distribution of Fixation End')\n",
    "\n",
    "plt.tight_layout()\n",
    "plt.show()"
   ]
  },
  {
   "cell_type": "code",
   "execution_count": null,
   "id": "c5ca3188",
   "metadata": {},
   "outputs": [],
   "source": [
    "fig, axes = plt.subplots(1, 2, figsize=(20, 8))\n",
    "\n",
    "sns.histplot(df_24_IVT['Saccade Start'], bins=100, kde=True, ax=axes[0])\n",
    "axes[0].set_xlabel('Saccade Start')\n",
    "axes[0].set_ylabel('Frequency')\n",
    "axes[0].set_title('Distribution of Saccade Start')\n",
    "\n",
    "sns.histplot(df_24_IVT['Saccade End'], bins=100, kde=True, ax=axes[1])\n",
    "axes[1].set_xlabel('Saccade End')\n",
    "axes[1].set_ylabel('Frequency')\n",
    "axes[1].set_title('Distribution of Saccade End')\n",
    "\n",
    "plt.tight_layout()\n",
    "plt.show()"
   ]
  },
  {
   "cell_type": "markdown",
   "id": "b3be2178",
   "metadata": {},
   "source": [
    "# Observation on Fixation and Saccade Timestamps\n",
    "\n",
    "Upon examining the time series plots of 'Fixation Start', 'Fixation End', `Saccade Start`, and `Saccade End` against the `Timestamp`, we observe a clear linear, diagonal pattern. This indicates that these values are largely sequential and directly related to the progress of time in the data recording.\n",
    "\n",
    "Furthermore, the histograms of these features show distributions that, while informative about the timing of events, don't necessarily reveal complex patterns that would be highly predictive for a machine learning model.\n",
    "\n",
    "Crucially, the dataset already contains `Fixation Duration` and `Saccade Duration` columns. These duration features capture the length of each event, which is often a more directly relevant metric for understanding eye movement behavior than the absolute start and end times. Since the duration can be derived from the start and end times (Duration = End - Start), the start and end time columns introduce redundancy and do not provide substantial additional, independent information for modeling purposes.\n",
    "\n",
    "Therefore, to simplify the dataset and focus on the most informative features for potential machine movement analysis or modeling, we will drop the `Fixation Start`, `Fixation End`, `Saccade Start`, and `Saccade End` columns."
   ]
  },
  {
   "cell_type": "code",
   "execution_count": null,
   "id": "0e26b823",
   "metadata": {},
   "outputs": [],
   "source": [
    "df_24_IVT.drop(['Fixation Start', 'Fixation End', 'Saccade Start', 'Saccade End'], axis=1, inplace=True)"
   ]
  },
  {
   "cell_type": "code",
   "execution_count": null,
   "id": "fd3bcc29",
   "metadata": {},
   "outputs": [],
   "source": [
    "df_24_IVT.head()"
   ]
  },
  {
   "cell_type": "code",
   "execution_count": null,
   "id": "b4915de3",
   "metadata": {},
   "outputs": [],
   "source": [
    "plt.figure(figsize=(12, 8))\n",
    "sns.heatmap(df_24_IVT[['Gaze X', 'Gaze Y', 'Interpolated Gaze X', 'Interpolated Gaze Y']].isnull(), cmap='viridis')\n",
    "plt.show()\n"
   ]
  },
  {
   "cell_type": "code",
   "execution_count": null,
   "id": "d383419b",
   "metadata": {},
   "outputs": [],
   "source": []
  },
  {
   "cell_type": "markdown",
   "id": "0e2207dc",
   "metadata": {},
   "source": [
    "# Observations on Gaze and Interpolated Gaze Data\n",
    "\n",
    "Based on the scatter plots of 'Gaze X' vs 'Gaze Y' and 'Interpolated Gaze X' vs 'Interpolated Gaze Y', we observe that the distributions of the raw and interpolated gaze points appear very similar. The spatial patterns of where the participant was looking are consistent between the two sets of coordinates.\n",
    "\n",
    "Furthermore, the heatmap of null values for these columns ('Gaze X', 'Gaze Y', 'Interpolated Gaze X', 'Interpolated Gaze Y') reveals that the missing values are present in the same rows for both the raw and interpolated gaze coordinates. This suggests that the interpolation process did not fill in the gaps in the raw gaze data for these specific instances.\n",
    "\n",
    "Given that the interpolated gaze data shows the same spatial distribution and the same pattern of null values as the raw gaze data, it appears that the interpolation did not significantly alter or complete the data in this case. Therefore, keeping both the raw and interpolated gaze columns might be redundant, and one set could potentially be dropped to simplify the dataset without losing significant information."
   ]
  },
  {
   "cell_type": "code",
   "execution_count": null,
   "id": "5e388515",
   "metadata": {},
   "outputs": [],
   "source": [
    "df_24_IVT.drop(['Interpolated Gaze X', 'Interpolated Gaze Y'], axis=1, inplace=True)"
   ]
  },
  {
   "cell_type": "code",
   "execution_count": null,
   "id": "69dd3b2c",
   "metadata": {},
   "outputs": [],
   "source": [
    "df_24_IVT.head()"
   ]
  },
  {
   "cell_type": "code",
   "execution_count": null,
   "id": "66a3ee74",
   "metadata": {},
   "outputs": [],
   "source": [
    "plt.figure(figsize=(12, 8))\n",
    "sns.heatmap(df_24_IVT.isnull(), cmap='viridis')\n",
    "plt.show()"
   ]
  },
  {
   "cell_type": "code",
   "execution_count": null,
   "id": "c5ca1a44",
   "metadata": {},
   "outputs": [],
   "source": [
    "df_24_IVT.columns"
   ]
  },
  {
   "cell_type": "code",
   "execution_count": null,
   "id": "f896edfe",
   "metadata": {},
   "outputs": [],
   "source": [
    "fix_1_df = df_24_IVT.dropna(subset=['Fixation Duration'])\n",
    "sac_1_df = df_24_IVT.dropna(subset=['Saccade Duration'])"
   ]
  },
  {
   "cell_type": "code",
   "execution_count": null,
   "id": "8c0b05b7",
   "metadata": {},
   "outputs": [],
   "source": [
    "fix_1_df.shape"
   ]
  },
  {
   "cell_type": "code",
   "execution_count": null,
   "id": "21b7c900",
   "metadata": {},
   "outputs": [],
   "source": [
    "sac_1_df.shape"
   ]
  },
  {
   "cell_type": "code",
   "execution_count": null,
   "id": "0ea70985",
   "metadata": {},
   "outputs": [],
   "source": [
    "fix_1_feature = fix_1_df.groupby('QuestionKey').agg({\n",
    "    'Fixation Duration': ['count','mean','max','sum','var'],\n",
    "    'Fixation Dispersion': ['mean','max'],\n",
    "    'Fixation X': ['var'],   # screen spread X\n",
    "    'Fixation Y': ['var']    # screen spread Y\n",
    "})"
   ]
  },
  {
   "cell_type": "code",
   "execution_count": null,
   "id": "1eba4e29",
   "metadata": {},
   "outputs": [],
   "source": [
    "fix_1_feature.columns = ['fix_count','fix_mean_dur','fix_max_dur','fix_total_time',\n",
    "                        'fix_dur_var','fix_disp_mean','fix_disp_max',\n",
    "                        'fix_x_var','fix_y_var']"
   ]
  },
  {
   "cell_type": "code",
   "execution_count": null,
   "id": "ece5d929",
   "metadata": {},
   "outputs": [],
   "source": [
    "fix_1_feature"
   ]
  },
  {
   "cell_type": "code",
   "execution_count": null,
   "id": "d448de44",
   "metadata": {},
   "outputs": [],
   "source": [
    "sac_1_features = sac_1_df.groupby('QuestionKey').agg({\n",
    "    'Saccade Duration': ['count','mean','sum'],\n",
    "    'Saccade Amplitude': ['mean','max'],\n",
    "    'Saccade Peak Velocity': ['mean','max'],\n",
    "    'Saccade Peak Acceleration': ['mean'],\n",
    "    'Saccade Peak Deceleration': ['mean'],\n",
    "    'Saccade Direction': ['var']   # direction variance\n",
    "})"
   ]
  },
  {
   "cell_type": "code",
   "execution_count": null,
   "id": "7e74beae",
   "metadata": {},
   "outputs": [],
   "source": [
    "sac_1_features.columns = ['sac_count','sac_mean_dur','sac_total_time',\n",
    "                        'sac_amp_mean','sac_amp_max',\n",
    "                        'sac_vel_mean','sac_vel_max',\n",
    "                        'sac_acc_mean','sac_dec_mean','sac_dir_var']"
   ]
  },
  {
   "cell_type": "code",
   "execution_count": null,
   "id": "abc95c34",
   "metadata": {},
   "outputs": [],
   "source": [
    "sac_1_features"
   ]
  },
  {
   "cell_type": "code",
   "execution_count": null,
   "id": "9e71afee",
   "metadata": {},
   "outputs": [],
   "source": [
    "ivt_1_features = fix_1_feature.join(sac_1_features, how='outer').fillna(0)"
   ]
  },
  {
   "cell_type": "code",
   "execution_count": null,
   "id": "94a41d6d",
   "metadata": {},
   "outputs": [],
   "source": [
    "ivt_1_features"
   ]
  },
  {
   "cell_type": "code",
   "execution_count": null,
   "id": "dbce0277",
   "metadata": {},
   "outputs": [],
   "source": [
    "ivt_1_features['fix_sac_count_ratio'] = ivt_1_features['fix_count'] / (ivt_1_features['sac_count']+1e-5)\n",
    "ivt_1_features['fix_sac_time_ratio']  = ivt_1_features['fix_total_time'] / (ivt_1_features['sac_total_time']+1e-5)"
   ]
  },
  {
   "cell_type": "code",
   "execution_count": null,
   "id": "72e4bcbb",
   "metadata": {},
   "outputs": [],
   "source": [
    "ivt_1_features"
   ]
  },
  {
   "cell_type": "code",
   "execution_count": null,
   "id": "01266e7b",
   "metadata": {},
   "outputs": [],
   "source": []
  },
  {
   "cell_type": "markdown",
   "id": "86d7589e",
   "metadata": {},
   "source": [
    "# Aggregation of Fixation and Saccade Features\n",
    "\n",
    "In the preceding code cells, we performed aggregation on the `fix_1_df` and `sac_1_df` DataFrames, which contain the cleaned fixation and saccade data, respectively. The goal of this aggregation was to create a summary of eye-tracking metrics for each `QuestionKey`.\n",
    "\n",
    "For fixations, we calculated:\n",
    "- Count of fixations (`fix_count`)\n",
    "- Mean, max, sum, and variance of fixation duration (`fix_mean_dur`, `fix_max_dur`, `fix_total_time`, `fix_dur_var`)\n",
    "- Mean and max of fixation dispersion (`fix_disp_mean`, `fix_disp_max`)\n",
    "- Variance of fixation X and Y coordinates (`fix_x_var`, `fix_y_var`) to represent screen spread.\n",
    "\n",
    "For saccades, we calculated:\n",
    "- Count of saccades (`sac_count`)\n",
    "- Mean and sum of saccade duration (`sac_mean_dur`, `sac_total_time`)\n",
    "- Mean and max of saccade amplitude (`sac_amp_mean`, `sac_amp_max`)\n",
    "- Mean and max of saccade peak velocity (`sac_vel_mean`, `sac_vel_max`)\n",
    "- Mean of saccade peak acceleration and deceleration (`sac_acc_mean`, `sac_dec_mean`)\n",
    "- Variance of saccade direction (`sac_dir_var`).\n",
    "\n",
    "Finally, we joined these aggregated fixation and saccade features into a single DataFrame called `ivt_1_features`, using `QuestionKey` as the index. We also filled any resulting missing values (from `QuestionKey` values that may only have fixations or saccades, but not both) with 0. This `ivt_1_features` DataFrame now provides a consolidated summary of key eye-tracking characteristics for each question, which can be used for further analysis or modeling."
   ]
  },
  {
   "cell_type": "markdown",
   "id": "4e57867a",
   "metadata": {},
   "source": [
    "# **25_IVT**"
   ]
  },
  {
   "cell_type": "code",
   "execution_count": null,
   "id": "01e7ef50",
   "metadata": {},
   "outputs": [],
   "source": [
    "df_25_IVT = pd.read_csv('data/STData/25/25_IVT.csv')"
   ]
  },
  {
   "cell_type": "code",
   "execution_count": null,
   "id": "0152f3df",
   "metadata": {},
   "outputs": [],
   "source": [
    "df_25_IVT.head()"
   ]
  },
  {
   "cell_type": "code",
   "execution_count": null,
   "id": "ca8f5e26",
   "metadata": {},
   "outputs": [],
   "source": [
    "df_25_IVT.columns"
   ]
  },
  {
   "cell_type": "code",
   "execution_count": null,
   "id": "7dd133b0",
   "metadata": {},
   "outputs": [],
   "source": [
    "df_25_IVT.shape"
   ]
  },
  {
   "cell_type": "code",
   "execution_count": null,
   "id": "a53f8a0d",
   "metadata": {},
   "outputs": [],
   "source": [
    "df_25_IVT.info()"
   ]
  },
  {
   "cell_type": "code",
   "execution_count": null,
   "id": "24231246",
   "metadata": {},
   "outputs": [],
   "source": [
    "df_25_IVT.isnull().sum()"
   ]
  },
  {
   "cell_type": "code",
   "execution_count": null,
   "id": "8052bca0",
   "metadata": {},
   "outputs": [],
   "source": [
    "plt.figure(figsize=(14,10))\n",
    "sns.heatmap(df_25_IVT.isnull(), cmap='viridis')\n",
    "plt.show()"
   ]
  },
  {
   "cell_type": "markdown",
   "id": "6c23fc0e",
   "metadata": {},
   "source": [
    "# Notes & Observations\n",
    "\n",
    "- We observe many **null** (or missing) values in the `QuestionKey` columns.\n",
    "- The nulls in the `QuestionKey` column may not represent “true” nulls. Rather, they follow interval patterns, suggesting that during those periods no question was displayed.\n",
    "- These missing values in `QuestionKey` require additional investigation and context-aware handling."
   ]
  },
  {
   "cell_type": "code",
   "execution_count": null,
   "id": "eedfbe6d",
   "metadata": {},
   "outputs": [],
   "source": [
    "df_25_IVT['QuestionKey'].unique()"
   ]
  },
  {
   "cell_type": "code",
   "execution_count": null,
   "id": "0c2bb962",
   "metadata": {},
   "outputs": [],
   "source": [
    "df_25_IVT['Timestamp'] = pd.to_datetime(df_25_IVT['Timestamp'])"
   ]
  },
  {
   "cell_type": "code",
   "execution_count": null,
   "id": "9f8b71ec",
   "metadata": {},
   "outputs": [],
   "source": [
    "df_25_IVT.head(3)"
   ]
  },
  {
   "cell_type": "code",
   "execution_count": null,
   "id": "faf1dbfe",
   "metadata": {},
   "outputs": [],
   "source": [
    "df_25_IVT['QuestionKey'].fillna('None', inplace=True)"
   ]
  },
  {
   "cell_type": "code",
   "execution_count": null,
   "id": "469c1ade",
   "metadata": {},
   "outputs": [],
   "source": [
    "df_25_IVT['QuestionKey'].value_counts()"
   ]
  },
  {
   "cell_type": "code",
   "execution_count": null,
   "id": "31574c51",
   "metadata": {},
   "outputs": [],
   "source": [
    "plt.figure(figsize=(14,10))\n",
    "sns.heatmap(df_25_IVT.isnull(), cmap='viridis')\n",
    "plt.show()"
   ]
  },
  {
   "cell_type": "code",
   "execution_count": null,
   "id": "0362f086",
   "metadata": {},
   "outputs": [],
   "source": [
    "df_25_IVT.isnull().sum()"
   ]
  },
  {
   "cell_type": "code",
   "execution_count": null,
   "id": "4ac51725",
   "metadata": {},
   "outputs": [],
   "source": [
    "df_25_IVT.head()"
   ]
  },
  {
   "cell_type": "code",
   "execution_count": null,
   "id": "7fe6dba0",
   "metadata": {},
   "outputs": [],
   "source": [
    "df_25_IVT['Row'].unique()"
   ]
  },
  {
   "cell_type": "code",
   "execution_count": null,
   "id": "695cf3e7",
   "metadata": {},
   "outputs": [],
   "source": [
    "plt.figure(figsize=(8,6))\n",
    "sns.histplot(df_25_IVT['Row'])\n",
    "plt.show()"
   ]
  },
  {
   "cell_type": "markdown",
   "id": "c4bd1b52",
   "metadata": {},
   "source": [
    "# Notes & Observations\n",
    "\n",
    "- The `Row` column appears to be a simple row index and does not provide meaningful information relevant to the eye-tracking data itself. Therefore, it can be dropped."
   ]
  },
  {
   "cell_type": "code",
   "execution_count": null,
   "id": "9c9786d0",
   "metadata": {},
   "outputs": [],
   "source": [
    "df_25_IVT.drop('Row', axis=1, inplace=True)"
   ]
  },
  {
   "cell_type": "code",
   "execution_count": null,
   "id": "86707274",
   "metadata": {},
   "outputs": [],
   "source": [
    "fig, axes = plt.subplots(1, 2, figsize=(20, 10))\n",
    "\n",
    "sns.scatterplot(data=df_25_IVT, x='Gaze X', y='Gaze Y', ax=axes[0])\n",
    "axes[0].set_title('Gaze X vs Gaze Y')\n",
    "\n",
    "sns.scatterplot(data=df_25_IVT, x='Interpolated Gaze X', y='Interpolated Gaze Y', ax=axes[1])\n",
    "axes[1].set_title('Interpolated Gaze X vs Interpolated Gaze Y')\n",
    "\n",
    "plt.tight_layout()\n",
    "plt.show()"
   ]
  },
  {
   "cell_type": "markdown",
   "id": "e890ecb4",
   "metadata": {},
   "source": [
    "# Gaze and Interpolated Gaze Scatter Plots\n",
    "\n",
    "The scatter plots above visualize the relationship between the x and y coordinates of both the raw gaze data and the interpolated gaze data.\n",
    "\n",
    "- **Gaze X vs Gaze Y:** This plot shows the raw gaze coordinates. The scattered points indicate the locations on the screen where the participant was looking. The density of points in certain areas might suggest regions of interest.\n",
    "- **Interpolated Gaze X vs Interpolated Gaze Y:** This plot shows the interpolated gaze coordinates. Interpolation is often used to fill in gaps in the raw gaze data, providing a smoother representation of the gaze path. Comparing this plot to the raw gaze plot can show the effect of the interpolation process.\n",
    "\n",
    "Both plots can help in understanding the distribution of gaze points across the screen and identifying potential patterns or biases in eye movements."
   ]
  },
  {
   "cell_type": "code",
   "execution_count": null,
   "id": "455a989f",
   "metadata": {},
   "outputs": [],
   "source": [
    "df_25_IVT.describe()"
   ]
  },
  {
   "cell_type": "code",
   "execution_count": null,
   "id": "8019a521",
   "metadata": {},
   "outputs": [],
   "source": [
    "df_25_IVT.head(3)"
   ]
  },
  {
   "cell_type": "code",
   "execution_count": null,
   "id": "c7af2e6c",
   "metadata": {},
   "outputs": [],
   "source": [
    "df_25_IVT['Timestamp'] = pd.to_datetime(df_25_IVT['Timestamp'])"
   ]
  },
  {
   "cell_type": "code",
   "execution_count": null,
   "id": "e615d6e7",
   "metadata": {},
   "outputs": [],
   "source": [
    "df_25_IVT.columns"
   ]
  },
  {
   "cell_type": "code",
   "execution_count": null,
   "id": "4dc76b56",
   "metadata": {},
   "outputs": [],
   "source": [
    "cols = ['Gaze X', 'Gaze Y',\n",
    "       'Interpolated Gaze X', 'Interpolated Gaze Y', 'Interpolated Distance',\n",
    "       'Gaze Velocity', 'Gaze Acceleration', 'Fixation Index',\n",
    "       'Fixation Index by Stimulus', 'Fixation X', 'Fixation Y',\n",
    "       'Fixation Start', 'Fixation End', 'Fixation Duration',\n",
    "       'Fixation Dispersion', 'Saccade Index', 'Saccade Index by Stimulus',\n",
    "       'Saccade Start', 'Saccade End', 'Saccade Duration', 'Saccade Amplitude',\n",
    "       'Saccade Peak Velocity', 'Saccade Peak Acceleration',\n",
    "       'Saccade Peak Deceleration', 'Saccade Direction']"
   ]
  },
  {
   "cell_type": "code",
   "execution_count": null,
   "id": "f3d013ee",
   "metadata": {},
   "outputs": [],
   "source": [
    "from IPython.display import display, Markdown\n",
    "\n",
    "for col in cols:\n",
    "    # Add a markdown cell before each plot for better separation and labeling\n",
    "    display(Markdown(f'### {col} over Time'))\n",
    "    plt.figure(figsize=(16, 10))\n",
    "    sns.lineplot(x=df_25_IVT['Timestamp'], y=df_25_IVT[col])\n",
    "    plt.xlabel(\"Timestamp\") # Add x-axis label\n",
    "    plt.ylabel(col) # Add y-axis label\n",
    "    plt.show()"
   ]
  },
  {
   "cell_type": "code",
   "execution_count": null,
   "id": "b1d5608b",
   "metadata": {},
   "outputs": [],
   "source": [
    "df_25_IVT.head()"
   ]
  },
  {
   "cell_type": "code",
   "execution_count": null,
   "id": "e1523ae9",
   "metadata": {},
   "outputs": [],
   "source": [
    "plt.figure(figsize=(14,10))\n",
    "sns.heatmap(df_25_IVT[['Fixation Index', 'Fixation Index by Stimulus', 'Saccade Index', 'Saccade Index by Stimulus']].isnull(), cmap='viridis')\n",
    "plt.show()"
   ]
  },
  {
   "cell_type": "markdown",
   "id": "9811ce70",
   "metadata": {},
   "source": [
    "# Observation\n",
    "\n",
    "The `Fixation Index`, `Fixation Index by Stimulus`, `Saccade Index` and `Saccade Index by Stimulus` columns are essentially just sequence numbers for identified events. While they indicate the order of fixations and saccades, they don't provide meaningful features for a machine learning model attempting to predict or classify eye movement patterns. Therefore, we will drop these columns as they are not useful for model building."
   ]
  },
  {
   "cell_type": "code",
   "execution_count": null,
   "id": "f202367c",
   "metadata": {},
   "outputs": [],
   "source": [
    "df_25_IVT.drop(['Fixation Index', 'Fixation Index by Stimulus', 'Saccade Index', 'Saccade Index by Stimulus'], axis=1, inplace=True)"
   ]
  },
  {
   "cell_type": "code",
   "execution_count": null,
   "id": "452e7358",
   "metadata": {},
   "outputs": [],
   "source": [
    "plt.figure(figsize=(14,10))\n",
    "sns.scatterplot(data=df_25_IVT, x='Fixation X', y='Fixation Y')\n",
    "plt.title('Fixation X vs Fixation Y')\n",
    "plt.show()"
   ]
  },
  {
   "cell_type": "code",
   "execution_count": null,
   "id": "066367d8",
   "metadata": {},
   "outputs": [],
   "source": [
    "df_25_IVT['Fixation Start'].describe()"
   ]
  },
  {
   "cell_type": "code",
   "execution_count": null,
   "id": "27804116",
   "metadata": {},
   "outputs": [],
   "source": [
    "fig, axes = plt.subplots(1, 2, figsize=(20, 8))\n",
    "\n",
    "sns.histplot(df_25_IVT['Fixation Start'], bins=100, kde=True, ax=axes[0])\n",
    "axes[0].set_xlabel('Fixation Start')\n",
    "axes[0].set_ylabel('Frequency')\n",
    "axes[0].set_title('Distribution of Fixation Start')\n",
    "\n",
    "sns.histplot(df_25_IVT['Fixation End'], bins=100, kde=True, ax=axes[1])\n",
    "axes[1].set_xlabel('Fixation End')\n",
    "axes[1].set_ylabel('Frequency')\n",
    "axes[1].set_title('Distribution of Fixation End')\n",
    "\n",
    "plt.tight_layout()\n",
    "plt.show()"
   ]
  },
  {
   "cell_type": "code",
   "execution_count": null,
   "id": "e0d5c35b",
   "metadata": {},
   "outputs": [],
   "source": [
    "fig, axes = plt.subplots(1, 2, figsize=(20, 8))\n",
    "\n",
    "sns.histplot(df_25_IVT['Saccade Start'], bins=100, kde=True, ax=axes[0])\n",
    "axes[0].set_xlabel('Saccade Start')\n",
    "axes[0].set_ylabel('Frequency')\n",
    "axes[0].set_title('Distribution of Saccade Start')\n",
    "\n",
    "sns.histplot(df_25_IVT['Saccade End'], bins=100, kde=True, ax=axes[1])\n",
    "axes[1].set_xlabel('Saccade End')\n",
    "axes[1].set_ylabel('Frequency')\n",
    "axes[1].set_title('Distribution of Saccade End')\n",
    "\n",
    "plt.tight_layout()\n",
    "plt.show()"
   ]
  },
  {
   "cell_type": "markdown",
   "id": "7d11326f",
   "metadata": {},
   "source": [
    "# Observation on Fixation and Saccade Timestamps\n",
    "\n",
    "Upon examining the time series plots of 'Fixation Start', 'Fixation End', `Saccade Start`, and `Saccade End` against the `Timestamp`, we observe a clear linear, diagonal pattern. This indicates that these values are largely sequential and directly related to the progress of time in the data recording.\n",
    "\n",
    "Furthermore, the histograms of these features show distributions that, while informative about the timing of events, don't necessarily reveal complex patterns that would be highly predictive for a machine learning model.\n",
    "\n",
    "Crucially, the dataset already contains `Fixation Duration` and `Saccade Duration` columns. These duration features capture the length of each event, which is often a more directly relevant metric for understanding eye movement behavior than the absolute start and end times. Since the duration can be derived from the start and end times (Duration = End - Start), the start and end time columns introduce redundancy and do not provide substantial additional, independent information for modeling purposes.\n",
    "\n",
    "Therefore, to simplify the dataset and focus on the most informative features for potential machine movement analysis or modeling, we will drop the `Fixation Start`, `Fixation End`, `Saccade Start`, and `Saccade End` columns."
   ]
  },
  {
   "cell_type": "code",
   "execution_count": null,
   "id": "58b93c02",
   "metadata": {},
   "outputs": [],
   "source": [
    "df_25_IVT.drop(['Fixation Start', 'Fixation End', 'Saccade Start', 'Saccade End'], axis=1, inplace=True)"
   ]
  },
  {
   "cell_type": "code",
   "execution_count": null,
   "id": "cd415cfe",
   "metadata": {},
   "outputs": [],
   "source": [
    "df_25_IVT.head()"
   ]
  },
  {
   "cell_type": "code",
   "execution_count": null,
   "id": "163982ca",
   "metadata": {},
   "outputs": [],
   "source": [
    "plt.figure(figsize=(12, 8))\n",
    "sns.heatmap(df_25_IVT[['Gaze X', 'Gaze Y', 'Interpolated Gaze X', 'Interpolated Gaze Y']].isnull(), cmap='viridis')\n",
    "plt.show()\n"
   ]
  },
  {
   "cell_type": "code",
   "execution_count": null,
   "id": "620fb806",
   "metadata": {},
   "outputs": [],
   "source": []
  },
  {
   "cell_type": "markdown",
   "id": "06977083",
   "metadata": {},
   "source": [
    "# Observations on Gaze and Interpolated Gaze Data\n",
    "\n",
    "Based on the scatter plots of 'Gaze X' vs 'Gaze Y' and 'Interpolated Gaze X' vs 'Interpolated Gaze Y', we observe that the distributions of the raw and interpolated gaze points appear very similar. The spatial patterns of where the participant was looking are consistent between the two sets of coordinates.\n",
    "\n",
    "Furthermore, the heatmap of null values for these columns ('Gaze X', 'Gaze Y', 'Interpolated Gaze X', 'Interpolated Gaze Y') reveals that the missing values are present in the same rows for both the raw and interpolated gaze coordinates. This suggests that the interpolation process did not fill in the gaps in the raw gaze data for these specific instances.\n",
    "\n",
    "Given that the interpolated gaze data shows the same spatial distribution and the same pattern of null values as the raw gaze data, it appears that the interpolation did not significantly alter or complete the data in this case. Therefore, keeping both the raw and interpolated gaze columns might be redundant, and one set could potentially be dropped to simplify the dataset without losing significant information."
   ]
  },
  {
   "cell_type": "code",
   "execution_count": null,
   "id": "df49a169",
   "metadata": {},
   "outputs": [],
   "source": [
    "df_25_IVT.drop(['Interpolated Gaze X', 'Interpolated Gaze Y'], axis=1, inplace=True)"
   ]
  },
  {
   "cell_type": "code",
   "execution_count": null,
   "id": "22782791",
   "metadata": {},
   "outputs": [],
   "source": [
    "df_25_IVT.head()"
   ]
  },
  {
   "cell_type": "code",
   "execution_count": null,
   "id": "8a55a3a8",
   "metadata": {},
   "outputs": [],
   "source": [
    "plt.figure(figsize=(12, 8))\n",
    "sns.heatmap(df_25_IVT.isnull(), cmap='viridis')\n",
    "plt.show()"
   ]
  },
  {
   "cell_type": "code",
   "execution_count": null,
   "id": "d38f5aa1",
   "metadata": {},
   "outputs": [],
   "source": [
    "df_25_IVT.columns"
   ]
  },
  {
   "cell_type": "code",
   "execution_count": null,
   "id": "a6028337",
   "metadata": {},
   "outputs": [],
   "source": [
    "fix_1_df = df_25_IVT.dropna(subset=['Fixation Duration'])\n",
    "sac_1_df = df_25_IVT.dropna(subset=['Saccade Duration'])"
   ]
  },
  {
   "cell_type": "code",
   "execution_count": null,
   "id": "aeb05e40",
   "metadata": {},
   "outputs": [],
   "source": [
    "fix_1_df.shape"
   ]
  },
  {
   "cell_type": "code",
   "execution_count": null,
   "id": "6f5bfdf8",
   "metadata": {},
   "outputs": [],
   "source": [
    "sac_1_df.shape"
   ]
  },
  {
   "cell_type": "code",
   "execution_count": null,
   "id": "223d4e2e",
   "metadata": {},
   "outputs": [],
   "source": [
    "fix_1_feature = fix_1_df.groupby('QuestionKey').agg({\n",
    "    'Fixation Duration': ['count','mean','max','sum','var'],\n",
    "    'Fixation Dispersion': ['mean','max'],\n",
    "    'Fixation X': ['var'],   # screen spread X\n",
    "    'Fixation Y': ['var']    # screen spread Y\n",
    "})"
   ]
  },
  {
   "cell_type": "code",
   "execution_count": null,
   "id": "c5f3b499",
   "metadata": {},
   "outputs": [],
   "source": [
    "fix_1_feature.columns = ['fix_count','fix_mean_dur','fix_max_dur','fix_total_time',\n",
    "                        'fix_dur_var','fix_disp_mean','fix_disp_max',\n",
    "                        'fix_x_var','fix_y_var']"
   ]
  },
  {
   "cell_type": "code",
   "execution_count": null,
   "id": "8c14fafe",
   "metadata": {},
   "outputs": [],
   "source": [
    "fix_1_feature"
   ]
  },
  {
   "cell_type": "code",
   "execution_count": null,
   "id": "03169a06",
   "metadata": {},
   "outputs": [],
   "source": [
    "sac_1_features = sac_1_df.groupby('QuestionKey').agg({\n",
    "    'Saccade Duration': ['count','mean','sum'],\n",
    "    'Saccade Amplitude': ['mean','max'],\n",
    "    'Saccade Peak Velocity': ['mean','max'],\n",
    "    'Saccade Peak Acceleration': ['mean'],\n",
    "    'Saccade Peak Deceleration': ['mean'],\n",
    "    'Saccade Direction': ['var']   # direction variance\n",
    "})"
   ]
  },
  {
   "cell_type": "code",
   "execution_count": null,
   "id": "b3a584c6",
   "metadata": {},
   "outputs": [],
   "source": [
    "sac_1_features.columns = ['sac_count','sac_mean_dur','sac_total_time',\n",
    "                        'sac_amp_mean','sac_amp_max',\n",
    "                        'sac_vel_mean','sac_vel_max',\n",
    "                        'sac_acc_mean','sac_dec_mean','sac_dir_var']"
   ]
  },
  {
   "cell_type": "code",
   "execution_count": null,
   "id": "5d50db07",
   "metadata": {},
   "outputs": [],
   "source": [
    "sac_1_features"
   ]
  },
  {
   "cell_type": "code",
   "execution_count": null,
   "id": "7401dd8a",
   "metadata": {},
   "outputs": [],
   "source": [
    "ivt_1_features = fix_1_feature.join(sac_1_features, how='outer').fillna(0)"
   ]
  },
  {
   "cell_type": "code",
   "execution_count": null,
   "id": "c6236986",
   "metadata": {},
   "outputs": [],
   "source": [
    "ivt_1_features"
   ]
  },
  {
   "cell_type": "code",
   "execution_count": null,
   "id": "b9551f0a",
   "metadata": {},
   "outputs": [],
   "source": [
    "ivt_1_features['fix_sac_count_ratio'] = ivt_1_features['fix_count'] / (ivt_1_features['sac_count']+1e-5)\n",
    "ivt_1_features['fix_sac_time_ratio']  = ivt_1_features['fix_total_time'] / (ivt_1_features['sac_total_time']+1e-5)"
   ]
  },
  {
   "cell_type": "code",
   "execution_count": null,
   "id": "0ed65004",
   "metadata": {},
   "outputs": [],
   "source": [
    "ivt_1_features"
   ]
  },
  {
   "cell_type": "code",
   "execution_count": null,
   "id": "70d76e7f",
   "metadata": {},
   "outputs": [],
   "source": []
  },
  {
   "cell_type": "markdown",
   "id": "eb367c85",
   "metadata": {},
   "source": [
    "# Aggregation of Fixation and Saccade Features\n",
    "\n",
    "In the preceding code cells, we performed aggregation on the `fix_1_df` and `sac_1_df` DataFrames, which contain the cleaned fixation and saccade data, respectively. The goal of this aggregation was to create a summary of eye-tracking metrics for each `QuestionKey`.\n",
    "\n",
    "For fixations, we calculated:\n",
    "- Count of fixations (`fix_count`)\n",
    "- Mean, max, sum, and variance of fixation duration (`fix_mean_dur`, `fix_max_dur`, `fix_total_time`, `fix_dur_var`)\n",
    "- Mean and max of fixation dispersion (`fix_disp_mean`, `fix_disp_max`)\n",
    "- Variance of fixation X and Y coordinates (`fix_x_var`, `fix_y_var`) to represent screen spread.\n",
    "\n",
    "For saccades, we calculated:\n",
    "- Count of saccades (`sac_count`)\n",
    "- Mean and sum of saccade duration (`sac_mean_dur`, `sac_total_time`)\n",
    "- Mean and max of saccade amplitude (`sac_amp_mean`, `sac_amp_max`)\n",
    "- Mean and max of saccade peak velocity (`sac_vel_mean`, `sac_vel_max`)\n",
    "- Mean of saccade peak acceleration and deceleration (`sac_acc_mean`, `sac_dec_mean`)\n",
    "- Variance of saccade direction (`sac_dir_var`).\n",
    "\n",
    "Finally, we joined these aggregated fixation and saccade features into a single DataFrame called `ivt_1_features`, using `QuestionKey` as the index. We also filled any resulting missing values (from `QuestionKey` values that may only have fixations or saccades, but not both) with 0. This `ivt_1_features` DataFrame now provides a consolidated summary of key eye-tracking characteristics for each question, which can be used for further analysis or modeling."
   ]
  },
  {
   "cell_type": "markdown",
   "id": "72e9de41",
   "metadata": {},
   "source": [
    "# **26_IVT**"
   ]
  },
  {
   "cell_type": "code",
   "execution_count": null,
   "id": "31226e32",
   "metadata": {},
   "outputs": [],
   "source": [
    "df_26_IVT = pd.read_csv('data/STData/26/26_IVT.csv')"
   ]
  },
  {
   "cell_type": "code",
   "execution_count": null,
   "id": "d660e43e",
   "metadata": {},
   "outputs": [],
   "source": [
    "df_26_IVT.head()"
   ]
  },
  {
   "cell_type": "code",
   "execution_count": null,
   "id": "0580a9ad",
   "metadata": {},
   "outputs": [],
   "source": [
    "df_26_IVT.columns"
   ]
  },
  {
   "cell_type": "code",
   "execution_count": null,
   "id": "2a4504e1",
   "metadata": {},
   "outputs": [],
   "source": [
    "df_26_IVT.shape"
   ]
  },
  {
   "cell_type": "code",
   "execution_count": null,
   "id": "08bbcf57",
   "metadata": {},
   "outputs": [],
   "source": [
    "df_26_IVT.info()"
   ]
  },
  {
   "cell_type": "code",
   "execution_count": null,
   "id": "cd0b9873",
   "metadata": {},
   "outputs": [],
   "source": [
    "df_26_IVT.isnull().sum()"
   ]
  },
  {
   "cell_type": "code",
   "execution_count": null,
   "id": "b72f26a0",
   "metadata": {},
   "outputs": [],
   "source": [
    "plt.figure(figsize=(14,10))\n",
    "sns.heatmap(df_26_IVT.isnull(), cmap='viridis')\n",
    "plt.show()"
   ]
  },
  {
   "cell_type": "markdown",
   "id": "1dac8b20",
   "metadata": {},
   "source": [
    "# Notes & Observations\n",
    "\n",
    "- We observe many **null** (or missing) values in the `QuestionKey` columns.\n",
    "- The nulls in the `QuestionKey` column may not represent “true” nulls. Rather, they follow interval patterns, suggesting that during those periods no question was displayed.\n",
    "- These missing values in `QuestionKey` require additional investigation and context-aware handling."
   ]
  },
  {
   "cell_type": "code",
   "execution_count": null,
   "id": "9fdf4329",
   "metadata": {},
   "outputs": [],
   "source": [
    "df_26_IVT['QuestionKey'].unique()"
   ]
  },
  {
   "cell_type": "code",
   "execution_count": null,
   "id": "aa59b2ac",
   "metadata": {},
   "outputs": [],
   "source": [
    "df_26_IVT['Timestamp'] = pd.to_datetime(df_26_IVT['Timestamp'])"
   ]
  },
  {
   "cell_type": "code",
   "execution_count": null,
   "id": "9371bb93",
   "metadata": {},
   "outputs": [],
   "source": [
    "df_26_IVT.head(3)"
   ]
  },
  {
   "cell_type": "code",
   "execution_count": null,
   "id": "c2fef8c4",
   "metadata": {},
   "outputs": [],
   "source": [
    "df_26_IVT['QuestionKey'].fillna('None', inplace=True)"
   ]
  },
  {
   "cell_type": "code",
   "execution_count": null,
   "id": "e676a2ae",
   "metadata": {},
   "outputs": [],
   "source": [
    "df_26_IVT['QuestionKey'].value_counts()"
   ]
  },
  {
   "cell_type": "code",
   "execution_count": null,
   "id": "cd37fd48",
   "metadata": {},
   "outputs": [],
   "source": [
    "plt.figure(figsize=(14,10))\n",
    "sns.heatmap(df_26_IVT.isnull(), cmap='viridis')\n",
    "plt.show()"
   ]
  },
  {
   "cell_type": "code",
   "execution_count": null,
   "id": "a42227e2",
   "metadata": {},
   "outputs": [],
   "source": [
    "df_26_IVT.isnull().sum()"
   ]
  },
  {
   "cell_type": "code",
   "execution_count": null,
   "id": "46f5ff45",
   "metadata": {},
   "outputs": [],
   "source": [
    "df_26_IVT.head()"
   ]
  },
  {
   "cell_type": "code",
   "execution_count": null,
   "id": "04f57fce",
   "metadata": {},
   "outputs": [],
   "source": [
    "df_26_IVT['Row'].unique()"
   ]
  },
  {
   "cell_type": "code",
   "execution_count": null,
   "id": "4e31f511",
   "metadata": {},
   "outputs": [],
   "source": [
    "plt.figure(figsize=(8,6))\n",
    "sns.histplot(df_26_IVT['Row'])\n",
    "plt.show()"
   ]
  },
  {
   "cell_type": "markdown",
   "id": "64b3be4a",
   "metadata": {},
   "source": [
    "# Notes & Observations\n",
    "\n",
    "- The `Row` column appears to be a simple row index and does not provide meaningful information relevant to the eye-tracking data itself. Therefore, it can be dropped."
   ]
  },
  {
   "cell_type": "code",
   "execution_count": null,
   "id": "5c29a989",
   "metadata": {},
   "outputs": [],
   "source": [
    "df_26_IVT.drop('Row', axis=1, inplace=True)"
   ]
  },
  {
   "cell_type": "code",
   "execution_count": null,
   "id": "09570985",
   "metadata": {},
   "outputs": [],
   "source": [
    "fig, axes = plt.subplots(1, 2, figsize=(20, 10))\n",
    "\n",
    "sns.scatterplot(data=df_26_IVT, x='Gaze X', y='Gaze Y', ax=axes[0])\n",
    "axes[0].set_title('Gaze X vs Gaze Y')\n",
    "\n",
    "sns.scatterplot(data=df_26_IVT, x='Interpolated Gaze X', y='Interpolated Gaze Y', ax=axes[1])\n",
    "axes[1].set_title('Interpolated Gaze X vs Interpolated Gaze Y')\n",
    "\n",
    "plt.tight_layout()\n",
    "plt.show()"
   ]
  },
  {
   "cell_type": "markdown",
   "id": "9f466ffa",
   "metadata": {},
   "source": [
    "# Gaze and Interpolated Gaze Scatter Plots\n",
    "\n",
    "The scatter plots above visualize the relationship between the x and y coordinates of both the raw gaze data and the interpolated gaze data.\n",
    "\n",
    "- **Gaze X vs Gaze Y:** This plot shows the raw gaze coordinates. The scattered points indicate the locations on the screen where the participant was looking. The density of points in certain areas might suggest regions of interest.\n",
    "- **Interpolated Gaze X vs Interpolated Gaze Y:** This plot shows the interpolated gaze coordinates. Interpolation is often used to fill in gaps in the raw gaze data, providing a smoother representation of the gaze path. Comparing this plot to the raw gaze plot can show the effect of the interpolation process.\n",
    "\n",
    "Both plots can help in understanding the distribution of gaze points across the screen and identifying potential patterns or biases in eye movements."
   ]
  },
  {
   "cell_type": "code",
   "execution_count": null,
   "id": "34423743",
   "metadata": {},
   "outputs": [],
   "source": [
    "df_26_IVT.describe()"
   ]
  },
  {
   "cell_type": "code",
   "execution_count": null,
   "id": "af5fcea2",
   "metadata": {},
   "outputs": [],
   "source": [
    "df_26_IVT.head(3)"
   ]
  },
  {
   "cell_type": "code",
   "execution_count": null,
   "id": "fb3f3d65",
   "metadata": {},
   "outputs": [],
   "source": [
    "df_26_IVT['Timestamp'] = pd.to_datetime(df_26_IVT['Timestamp'])"
   ]
  },
  {
   "cell_type": "code",
   "execution_count": null,
   "id": "f41b2dc8",
   "metadata": {},
   "outputs": [],
   "source": [
    "df_26_IVT.columns"
   ]
  },
  {
   "cell_type": "code",
   "execution_count": null,
   "id": "25fb4339",
   "metadata": {},
   "outputs": [],
   "source": [
    "cols = ['Gaze X', 'Gaze Y',\n",
    "       'Interpolated Gaze X', 'Interpolated Gaze Y', 'Interpolated Distance',\n",
    "       'Gaze Velocity', 'Gaze Acceleration', 'Fixation Index',\n",
    "       'Fixation Index by Stimulus', 'Fixation X', 'Fixation Y',\n",
    "       'Fixation Start', 'Fixation End', 'Fixation Duration',\n",
    "       'Fixation Dispersion', 'Saccade Index', 'Saccade Index by Stimulus',\n",
    "       'Saccade Start', 'Saccade End', 'Saccade Duration', 'Saccade Amplitude',\n",
    "       'Saccade Peak Velocity', 'Saccade Peak Acceleration',\n",
    "       'Saccade Peak Deceleration', 'Saccade Direction']"
   ]
  },
  {
   "cell_type": "code",
   "execution_count": null,
   "id": "b7126120",
   "metadata": {},
   "outputs": [],
   "source": [
    "from IPython.display import display, Markdown\n",
    "\n",
    "for col in cols:\n",
    "    # Add a markdown cell before each plot for better separation and labeling\n",
    "    display(Markdown(f'### {col} over Time'))\n",
    "    plt.figure(figsize=(16, 10))\n",
    "    sns.lineplot(x=df_26_IVT['Timestamp'], y=df_26_IVT[col])\n",
    "    plt.xlabel(\"Timestamp\") # Add x-axis label\n",
    "    plt.ylabel(col) # Add y-axis label\n",
    "    plt.show()"
   ]
  },
  {
   "cell_type": "code",
   "execution_count": null,
   "id": "35a9e1f2",
   "metadata": {},
   "outputs": [],
   "source": [
    "df_26_IVT.head()"
   ]
  },
  {
   "cell_type": "code",
   "execution_count": null,
   "id": "e5f9acb3",
   "metadata": {},
   "outputs": [],
   "source": [
    "plt.figure(figsize=(14,10))\n",
    "sns.heatmap(df_26_IVT[['Fixation Index', 'Fixation Index by Stimulus', 'Saccade Index', 'Saccade Index by Stimulus']].isnull(), cmap='viridis')\n",
    "plt.show()"
   ]
  },
  {
   "cell_type": "markdown",
   "id": "b833f8e0",
   "metadata": {},
   "source": [
    "# Observation\n",
    "\n",
    "The `Fixation Index`, `Fixation Index by Stimulus`, `Saccade Index` and `Saccade Index by Stimulus` columns are essentially just sequence numbers for identified events. While they indicate the order of fixations and saccades, they don't provide meaningful features for a machine learning model attempting to predict or classify eye movement patterns. Therefore, we will drop these columns as they are not useful for model building."
   ]
  },
  {
   "cell_type": "code",
   "execution_count": null,
   "id": "6917c2cf",
   "metadata": {},
   "outputs": [],
   "source": [
    "df_26_IVT.drop(['Fixation Index', 'Fixation Index by Stimulus', 'Saccade Index', 'Saccade Index by Stimulus'], axis=1, inplace=True)"
   ]
  },
  {
   "cell_type": "code",
   "execution_count": null,
   "id": "60598a42",
   "metadata": {},
   "outputs": [],
   "source": [
    "plt.figure(figsize=(14,10))\n",
    "sns.scatterplot(data=df_26_IVT, x='Fixation X', y='Fixation Y')\n",
    "plt.title('Fixation X vs Fixation Y')\n",
    "plt.show()"
   ]
  },
  {
   "cell_type": "code",
   "execution_count": null,
   "id": "efe32fa6",
   "metadata": {},
   "outputs": [],
   "source": [
    "df_26_IVT['Fixation Start'].describe()"
   ]
  },
  {
   "cell_type": "code",
   "execution_count": null,
   "id": "da293998",
   "metadata": {},
   "outputs": [],
   "source": [
    "fig, axes = plt.subplots(1, 2, figsize=(20, 8))\n",
    "\n",
    "sns.histplot(df_26_IVT['Fixation Start'], bins=100, kde=True, ax=axes[0])\n",
    "axes[0].set_xlabel('Fixation Start')\n",
    "axes[0].set_ylabel('Frequency')\n",
    "axes[0].set_title('Distribution of Fixation Start')\n",
    "\n",
    "sns.histplot(df_26_IVT['Fixation End'], bins=100, kde=True, ax=axes[1])\n",
    "axes[1].set_xlabel('Fixation End')\n",
    "axes[1].set_ylabel('Frequency')\n",
    "axes[1].set_title('Distribution of Fixation End')\n",
    "\n",
    "plt.tight_layout()\n",
    "plt.show()"
   ]
  },
  {
   "cell_type": "code",
   "execution_count": null,
   "id": "d6810dec",
   "metadata": {},
   "outputs": [],
   "source": [
    "fig, axes = plt.subplots(1, 2, figsize=(20, 8))\n",
    "\n",
    "sns.histplot(df_26_IVT['Saccade Start'], bins=100, kde=True, ax=axes[0])\n",
    "axes[0].set_xlabel('Saccade Start')\n",
    "axes[0].set_ylabel('Frequency')\n",
    "axes[0].set_title('Distribution of Saccade Start')\n",
    "\n",
    "sns.histplot(df_26_IVT['Saccade End'], bins=100, kde=True, ax=axes[1])\n",
    "axes[1].set_xlabel('Saccade End')\n",
    "axes[1].set_ylabel('Frequency')\n",
    "axes[1].set_title('Distribution of Saccade End')\n",
    "\n",
    "plt.tight_layout()\n",
    "plt.show()"
   ]
  },
  {
   "cell_type": "markdown",
   "id": "790cc798",
   "metadata": {},
   "source": [
    "# Observation on Fixation and Saccade Timestamps\n",
    "\n",
    "Upon examining the time series plots of 'Fixation Start', 'Fixation End', `Saccade Start`, and `Saccade End` against the `Timestamp`, we observe a clear linear, diagonal pattern. This indicates that these values are largely sequential and directly related to the progress of time in the data recording.\n",
    "\n",
    "Furthermore, the histograms of these features show distributions that, while informative about the timing of events, don't necessarily reveal complex patterns that would be highly predictive for a machine learning model.\n",
    "\n",
    "Crucially, the dataset already contains `Fixation Duration` and `Saccade Duration` columns. These duration features capture the length of each event, which is often a more directly relevant metric for understanding eye movement behavior than the absolute start and end times. Since the duration can be derived from the start and end times (Duration = End - Start), the start and end time columns introduce redundancy and do not provide substantial additional, independent information for modeling purposes.\n",
    "\n",
    "Therefore, to simplify the dataset and focus on the most informative features for potential machine movement analysis or modeling, we will drop the `Fixation Start`, `Fixation End`, `Saccade Start`, and `Saccade End` columns."
   ]
  },
  {
   "cell_type": "code",
   "execution_count": null,
   "id": "99d17de3",
   "metadata": {},
   "outputs": [],
   "source": [
    "df_26_IVT.drop(['Fixation Start', 'Fixation End', 'Saccade Start', 'Saccade End'], axis=1, inplace=True)"
   ]
  },
  {
   "cell_type": "code",
   "execution_count": null,
   "id": "c9e36d10",
   "metadata": {},
   "outputs": [],
   "source": [
    "df_26_IVT.head()"
   ]
  },
  {
   "cell_type": "code",
   "execution_count": null,
   "id": "486aaa07",
   "metadata": {},
   "outputs": [],
   "source": [
    "plt.figure(figsize=(12, 8))\n",
    "sns.heatmap(df_26_IVT[['Gaze X', 'Gaze Y', 'Interpolated Gaze X', 'Interpolated Gaze Y']].isnull(), cmap='viridis')\n",
    "plt.show()\n"
   ]
  },
  {
   "cell_type": "code",
   "execution_count": null,
   "id": "cee79179",
   "metadata": {},
   "outputs": [],
   "source": []
  },
  {
   "cell_type": "markdown",
   "id": "c3a74afa",
   "metadata": {},
   "source": [
    "# Observations on Gaze and Interpolated Gaze Data\n",
    "\n",
    "Based on the scatter plots of 'Gaze X' vs 'Gaze Y' and 'Interpolated Gaze X' vs 'Interpolated Gaze Y', we observe that the distributions of the raw and interpolated gaze points appear very similar. The spatial patterns of where the participant was looking are consistent between the two sets of coordinates.\n",
    "\n",
    "Furthermore, the heatmap of null values for these columns ('Gaze X', 'Gaze Y', 'Interpolated Gaze X', 'Interpolated Gaze Y') reveals that the missing values are present in the same rows for both the raw and interpolated gaze coordinates. This suggests that the interpolation process did not fill in the gaps in the raw gaze data for these specific instances.\n",
    "\n",
    "Given that the interpolated gaze data shows the same spatial distribution and the same pattern of null values as the raw gaze data, it appears that the interpolation did not significantly alter or complete the data in this case. Therefore, keeping both the raw and interpolated gaze columns might be redundant, and one set could potentially be dropped to simplify the dataset without losing significant information."
   ]
  },
  {
   "cell_type": "code",
   "execution_count": null,
   "id": "b65b06ff",
   "metadata": {},
   "outputs": [],
   "source": [
    "df_26_IVT.drop(['Interpolated Gaze X', 'Interpolated Gaze Y'], axis=1, inplace=True)"
   ]
  },
  {
   "cell_type": "code",
   "execution_count": null,
   "id": "c38cead0",
   "metadata": {},
   "outputs": [],
   "source": [
    "df_26_IVT.head()"
   ]
  },
  {
   "cell_type": "code",
   "execution_count": null,
   "id": "bc058335",
   "metadata": {},
   "outputs": [],
   "source": [
    "plt.figure(figsize=(12, 8))\n",
    "sns.heatmap(df_26_IVT.isnull(), cmap='viridis')\n",
    "plt.show()"
   ]
  },
  {
   "cell_type": "code",
   "execution_count": null,
   "id": "90fa1cd3",
   "metadata": {},
   "outputs": [],
   "source": [
    "df_26_IVT.columns"
   ]
  },
  {
   "cell_type": "code",
   "execution_count": null,
   "id": "a388d9ae",
   "metadata": {},
   "outputs": [],
   "source": [
    "fix_1_df = df_26_IVT.dropna(subset=['Fixation Duration'])\n",
    "sac_1_df = df_26_IVT.dropna(subset=['Saccade Duration'])"
   ]
  },
  {
   "cell_type": "code",
   "execution_count": null,
   "id": "35c04c13",
   "metadata": {},
   "outputs": [],
   "source": [
    "fix_1_df.shape"
   ]
  },
  {
   "cell_type": "code",
   "execution_count": null,
   "id": "996d36c5",
   "metadata": {},
   "outputs": [],
   "source": [
    "sac_1_df.shape"
   ]
  },
  {
   "cell_type": "code",
   "execution_count": null,
   "id": "db053ee9",
   "metadata": {},
   "outputs": [],
   "source": [
    "fix_1_feature = fix_1_df.groupby('QuestionKey').agg({\n",
    "    'Fixation Duration': ['count','mean','max','sum','var'],\n",
    "    'Fixation Dispersion': ['mean','max'],\n",
    "    'Fixation X': ['var'],   # screen spread X\n",
    "    'Fixation Y': ['var']    # screen spread Y\n",
    "})"
   ]
  },
  {
   "cell_type": "code",
   "execution_count": null,
   "id": "c1675f00",
   "metadata": {},
   "outputs": [],
   "source": [
    "fix_1_feature.columns = ['fix_count','fix_mean_dur','fix_max_dur','fix_total_time',\n",
    "                        'fix_dur_var','fix_disp_mean','fix_disp_max',\n",
    "                        'fix_x_var','fix_y_var']"
   ]
  },
  {
   "cell_type": "code",
   "execution_count": null,
   "id": "bb7475f4",
   "metadata": {},
   "outputs": [],
   "source": [
    "fix_1_feature"
   ]
  },
  {
   "cell_type": "code",
   "execution_count": null,
   "id": "695d89bf",
   "metadata": {},
   "outputs": [],
   "source": [
    "sac_1_features = sac_1_df.groupby('QuestionKey').agg({\n",
    "    'Saccade Duration': ['count','mean','sum'],\n",
    "    'Saccade Amplitude': ['mean','max'],\n",
    "    'Saccade Peak Velocity': ['mean','max'],\n",
    "    'Saccade Peak Acceleration': ['mean'],\n",
    "    'Saccade Peak Deceleration': ['mean'],\n",
    "    'Saccade Direction': ['var']   # direction variance\n",
    "})"
   ]
  },
  {
   "cell_type": "code",
   "execution_count": null,
   "id": "80d08476",
   "metadata": {},
   "outputs": [],
   "source": [
    "sac_1_features.columns = ['sac_count','sac_mean_dur','sac_total_time',\n",
    "                        'sac_amp_mean','sac_amp_max',\n",
    "                        'sac_vel_mean','sac_vel_max',\n",
    "                        'sac_acc_mean','sac_dec_mean','sac_dir_var']"
   ]
  },
  {
   "cell_type": "code",
   "execution_count": null,
   "id": "a25a1ba3",
   "metadata": {},
   "outputs": [],
   "source": [
    "sac_1_features"
   ]
  },
  {
   "cell_type": "code",
   "execution_count": null,
   "id": "196f6104",
   "metadata": {},
   "outputs": [],
   "source": [
    "ivt_1_features = fix_1_feature.join(sac_1_features, how='outer').fillna(0)"
   ]
  },
  {
   "cell_type": "code",
   "execution_count": null,
   "id": "050c05e5",
   "metadata": {},
   "outputs": [],
   "source": [
    "ivt_1_features"
   ]
  },
  {
   "cell_type": "code",
   "execution_count": null,
   "id": "69ff0412",
   "metadata": {},
   "outputs": [],
   "source": [
    "ivt_1_features['fix_sac_count_ratio'] = ivt_1_features['fix_count'] / (ivt_1_features['sac_count']+1e-5)\n",
    "ivt_1_features['fix_sac_time_ratio']  = ivt_1_features['fix_total_time'] / (ivt_1_features['sac_total_time']+1e-5)"
   ]
  },
  {
   "cell_type": "code",
   "execution_count": null,
   "id": "ff4f6162",
   "metadata": {},
   "outputs": [],
   "source": [
    "ivt_1_features"
   ]
  },
  {
   "cell_type": "code",
   "execution_count": null,
   "id": "b48aa383",
   "metadata": {},
   "outputs": [],
   "source": []
  },
  {
   "cell_type": "markdown",
   "id": "55189d1a",
   "metadata": {},
   "source": [
    "# Aggregation of Fixation and Saccade Features\n",
    "\n",
    "In the preceding code cells, we performed aggregation on the `fix_1_df` and `sac_1_df` DataFrames, which contain the cleaned fixation and saccade data, respectively. The goal of this aggregation was to create a summary of eye-tracking metrics for each `QuestionKey`.\n",
    "\n",
    "For fixations, we calculated:\n",
    "- Count of fixations (`fix_count`)\n",
    "- Mean, max, sum, and variance of fixation duration (`fix_mean_dur`, `fix_max_dur`, `fix_total_time`, `fix_dur_var`)\n",
    "- Mean and max of fixation dispersion (`fix_disp_mean`, `fix_disp_max`)\n",
    "- Variance of fixation X and Y coordinates (`fix_x_var`, `fix_y_var`) to represent screen spread.\n",
    "\n",
    "For saccades, we calculated:\n",
    "- Count of saccades (`sac_count`)\n",
    "- Mean and sum of saccade duration (`sac_mean_dur`, `sac_total_time`)\n",
    "- Mean and max of saccade amplitude (`sac_amp_mean`, `sac_amp_max`)\n",
    "- Mean and max of saccade peak velocity (`sac_vel_mean`, `sac_vel_max`)\n",
    "- Mean of saccade peak acceleration and deceleration (`sac_acc_mean`, `sac_dec_mean`)\n",
    "- Variance of saccade direction (`sac_dir_var`).\n",
    "\n",
    "Finally, we joined these aggregated fixation and saccade features into a single DataFrame called `ivt_1_features`, using `QuestionKey` as the index. We also filled any resulting missing values (from `QuestionKey` values that may only have fixations or saccades, but not both) with 0. This `ivt_1_features` DataFrame now provides a consolidated summary of key eye-tracking characteristics for each question, which can be used for further analysis or modeling."
   ]
  },
  {
   "cell_type": "markdown",
   "id": "5e87e31a",
   "metadata": {},
   "source": [
    "# **27_IVT**"
   ]
  },
  {
   "cell_type": "code",
   "execution_count": null,
   "id": "ddd1b560",
   "metadata": {},
   "outputs": [],
   "source": [
    "df_27_IVT = pd.read_csv('data/STData/27/27_IVT.csv')"
   ]
  },
  {
   "cell_type": "code",
   "execution_count": null,
   "id": "9ca35fe4",
   "metadata": {},
   "outputs": [],
   "source": [
    "df_27_IVT.head()"
   ]
  },
  {
   "cell_type": "code",
   "execution_count": null,
   "id": "58350cf4",
   "metadata": {},
   "outputs": [],
   "source": [
    "df_27_IVT.columns"
   ]
  },
  {
   "cell_type": "code",
   "execution_count": null,
   "id": "7ea4c509",
   "metadata": {},
   "outputs": [],
   "source": [
    "df_27_IVT.shape"
   ]
  },
  {
   "cell_type": "code",
   "execution_count": null,
   "id": "577c13f2",
   "metadata": {},
   "outputs": [],
   "source": [
    "df_27_IVT.info()"
   ]
  },
  {
   "cell_type": "code",
   "execution_count": null,
   "id": "2c0fdd6b",
   "metadata": {},
   "outputs": [],
   "source": [
    "df_27_IVT.isnull().sum()"
   ]
  },
  {
   "cell_type": "code",
   "execution_count": null,
   "id": "fbd22f7e",
   "metadata": {},
   "outputs": [],
   "source": [
    "plt.figure(figsize=(14,10))\n",
    "sns.heatmap(df_27_IVT.isnull(), cmap='viridis')\n",
    "plt.show()"
   ]
  },
  {
   "cell_type": "markdown",
   "id": "4ef047d1",
   "metadata": {},
   "source": [
    "# Notes & Observations\n",
    "\n",
    "- We observe many **null** (or missing) values in the `QuestionKey` columns.\n",
    "- The nulls in the `QuestionKey` column may not represent “true” nulls. Rather, they follow interval patterns, suggesting that during those periods no question was displayed.\n",
    "- These missing values in `QuestionKey` require additional investigation and context-aware handling."
   ]
  },
  {
   "cell_type": "code",
   "execution_count": null,
   "id": "c59c5719",
   "metadata": {},
   "outputs": [],
   "source": [
    "df_27_IVT['QuestionKey'].unique()"
   ]
  },
  {
   "cell_type": "code",
   "execution_count": null,
   "id": "06131e7d",
   "metadata": {},
   "outputs": [],
   "source": [
    "df_27_IVT['Timestamp'] = pd.to_datetime(df_27_IVT['Timestamp'])"
   ]
  },
  {
   "cell_type": "code",
   "execution_count": null,
   "id": "f750e689",
   "metadata": {},
   "outputs": [],
   "source": [
    "df_27_IVT.head(3)"
   ]
  },
  {
   "cell_type": "code",
   "execution_count": null,
   "id": "d7bd0520",
   "metadata": {},
   "outputs": [],
   "source": [
    "df_27_IVT['QuestionKey'].fillna('None', inplace=True)"
   ]
  },
  {
   "cell_type": "code",
   "execution_count": null,
   "id": "63bd19af",
   "metadata": {},
   "outputs": [],
   "source": [
    "df_27_IVT['QuestionKey'].value_counts()"
   ]
  },
  {
   "cell_type": "code",
   "execution_count": null,
   "id": "1a019228",
   "metadata": {},
   "outputs": [],
   "source": [
    "plt.figure(figsize=(14,10))\n",
    "sns.heatmap(df_27_IVT.isnull(), cmap='viridis')\n",
    "plt.show()"
   ]
  },
  {
   "cell_type": "code",
   "execution_count": null,
   "id": "a5780d9c",
   "metadata": {},
   "outputs": [],
   "source": [
    "df_27_IVT.isnull().sum()"
   ]
  },
  {
   "cell_type": "code",
   "execution_count": null,
   "id": "18168edf",
   "metadata": {},
   "outputs": [],
   "source": [
    "df_27_IVT.head()"
   ]
  },
  {
   "cell_type": "code",
   "execution_count": null,
   "id": "b0b53f91",
   "metadata": {},
   "outputs": [],
   "source": [
    "df_27_IVT['Row'].unique()"
   ]
  },
  {
   "cell_type": "code",
   "execution_count": null,
   "id": "45307f1a",
   "metadata": {},
   "outputs": [],
   "source": [
    "plt.figure(figsize=(8,6))\n",
    "sns.histplot(df_27_IVT['Row'])\n",
    "plt.show()"
   ]
  },
  {
   "cell_type": "markdown",
   "id": "e1fb157b",
   "metadata": {},
   "source": [
    "# Notes & Observations\n",
    "\n",
    "- The `Row` column appears to be a simple row index and does not provide meaningful information relevant to the eye-tracking data itself. Therefore, it can be dropped."
   ]
  },
  {
   "cell_type": "code",
   "execution_count": null,
   "id": "f889ea3f",
   "metadata": {},
   "outputs": [],
   "source": [
    "df_27_IVT.drop('Row', axis=1, inplace=True)"
   ]
  },
  {
   "cell_type": "code",
   "execution_count": null,
   "id": "cc1c4d0f",
   "metadata": {},
   "outputs": [],
   "source": [
    "fig, axes = plt.subplots(1, 2, figsize=(20, 10))\n",
    "\n",
    "sns.scatterplot(data=df_27_IVT, x='Gaze X', y='Gaze Y', ax=axes[0])\n",
    "axes[0].set_title('Gaze X vs Gaze Y')\n",
    "\n",
    "sns.scatterplot(data=df_27_IVT, x='Interpolated Gaze X', y='Interpolated Gaze Y', ax=axes[1])\n",
    "axes[1].set_title('Interpolated Gaze X vs Interpolated Gaze Y')\n",
    "\n",
    "plt.tight_layout()\n",
    "plt.show()"
   ]
  },
  {
   "cell_type": "markdown",
   "id": "a7b2c2fe",
   "metadata": {},
   "source": [
    "# Gaze and Interpolated Gaze Scatter Plots\n",
    "\n",
    "The scatter plots above visualize the relationship between the x and y coordinates of both the raw gaze data and the interpolated gaze data.\n",
    "\n",
    "- **Gaze X vs Gaze Y:** This plot shows the raw gaze coordinates. The scattered points indicate the locations on the screen where the participant was looking. The density of points in certain areas might suggest regions of interest.\n",
    "- **Interpolated Gaze X vs Interpolated Gaze Y:** This plot shows the interpolated gaze coordinates. Interpolation is often used to fill in gaps in the raw gaze data, providing a smoother representation of the gaze path. Comparing this plot to the raw gaze plot can show the effect of the interpolation process.\n",
    "\n",
    "Both plots can help in understanding the distribution of gaze points across the screen and identifying potential patterns or biases in eye movements."
   ]
  },
  {
   "cell_type": "code",
   "execution_count": null,
   "id": "6ea89f58",
   "metadata": {},
   "outputs": [],
   "source": [
    "df_27_IVT.describe()"
   ]
  },
  {
   "cell_type": "code",
   "execution_count": null,
   "id": "91d780a3",
   "metadata": {},
   "outputs": [],
   "source": [
    "df_27_IVT.head(3)"
   ]
  },
  {
   "cell_type": "code",
   "execution_count": null,
   "id": "1a31830a",
   "metadata": {},
   "outputs": [],
   "source": [
    "df_27_IVT['Timestamp'] = pd.to_datetime(df_27_IVT['Timestamp'])"
   ]
  },
  {
   "cell_type": "code",
   "execution_count": null,
   "id": "3057dd9a",
   "metadata": {},
   "outputs": [],
   "source": [
    "df_27_IVT.columns"
   ]
  },
  {
   "cell_type": "code",
   "execution_count": null,
   "id": "92b885d3",
   "metadata": {},
   "outputs": [],
   "source": [
    "cols = ['Gaze X', 'Gaze Y',\n",
    "       'Interpolated Gaze X', 'Interpolated Gaze Y', 'Interpolated Distance',\n",
    "       'Gaze Velocity', 'Gaze Acceleration', 'Fixation Index',\n",
    "       'Fixation Index by Stimulus', 'Fixation X', 'Fixation Y',\n",
    "       'Fixation Start', 'Fixation End', 'Fixation Duration',\n",
    "       'Fixation Dispersion', 'Saccade Index', 'Saccade Index by Stimulus',\n",
    "       'Saccade Start', 'Saccade End', 'Saccade Duration', 'Saccade Amplitude',\n",
    "       'Saccade Peak Velocity', 'Saccade Peak Acceleration',\n",
    "       'Saccade Peak Deceleration', 'Saccade Direction']"
   ]
  },
  {
   "cell_type": "code",
   "execution_count": null,
   "id": "77ab0991",
   "metadata": {},
   "outputs": [],
   "source": [
    "from IPython.display import display, Markdown\n",
    "\n",
    "for col in cols:\n",
    "    # Add a markdown cell before each plot for better separation and labeling\n",
    "    display(Markdown(f'### {col} over Time'))\n",
    "    plt.figure(figsize=(16, 10))\n",
    "    sns.lineplot(x=df_27_IVT['Timestamp'], y=df_27_IVT[col])\n",
    "    plt.xlabel(\"Timestamp\") # Add x-axis label\n",
    "    plt.ylabel(col) # Add y-axis label\n",
    "    plt.show()"
   ]
  },
  {
   "cell_type": "code",
   "execution_count": null,
   "id": "08366169",
   "metadata": {},
   "outputs": [],
   "source": [
    "df_27_IVT.head()"
   ]
  },
  {
   "cell_type": "code",
   "execution_count": null,
   "id": "6aafdce2",
   "metadata": {},
   "outputs": [],
   "source": [
    "plt.figure(figsize=(14,10))\n",
    "sns.heatmap(df_27_IVT[['Fixation Index', 'Fixation Index by Stimulus', 'Saccade Index', 'Saccade Index by Stimulus']].isnull(), cmap='viridis')\n",
    "plt.show()"
   ]
  },
  {
   "cell_type": "markdown",
   "id": "3738d7b6",
   "metadata": {},
   "source": [
    "# Observation\n",
    "\n",
    "The `Fixation Index`, `Fixation Index by Stimulus`, `Saccade Index` and `Saccade Index by Stimulus` columns are essentially just sequence numbers for identified events. While they indicate the order of fixations and saccades, they don't provide meaningful features for a machine learning model attempting to predict or classify eye movement patterns. Therefore, we will drop these columns as they are not useful for model building."
   ]
  },
  {
   "cell_type": "code",
   "execution_count": null,
   "id": "8eca5614",
   "metadata": {},
   "outputs": [],
   "source": [
    "df_27_IVT.drop(['Fixation Index', 'Fixation Index by Stimulus', 'Saccade Index', 'Saccade Index by Stimulus'], axis=1, inplace=True)"
   ]
  },
  {
   "cell_type": "code",
   "execution_count": null,
   "id": "d13fa73a",
   "metadata": {},
   "outputs": [],
   "source": [
    "plt.figure(figsize=(14,10))\n",
    "sns.scatterplot(data=df_27_IVT, x='Fixation X', y='Fixation Y')\n",
    "plt.title('Fixation X vs Fixation Y')\n",
    "plt.show()"
   ]
  },
  {
   "cell_type": "code",
   "execution_count": null,
   "id": "fe6bab80",
   "metadata": {},
   "outputs": [],
   "source": [
    "df_27_IVT['Fixation Start'].describe()"
   ]
  },
  {
   "cell_type": "code",
   "execution_count": null,
   "id": "15090880",
   "metadata": {},
   "outputs": [],
   "source": [
    "fig, axes = plt.subplots(1, 2, figsize=(20, 8))\n",
    "\n",
    "sns.histplot(df_27_IVT['Fixation Start'], bins=100, kde=True, ax=axes[0])\n",
    "axes[0].set_xlabel('Fixation Start')\n",
    "axes[0].set_ylabel('Frequency')\n",
    "axes[0].set_title('Distribution of Fixation Start')\n",
    "\n",
    "sns.histplot(df_27_IVT['Fixation End'], bins=100, kde=True, ax=axes[1])\n",
    "axes[1].set_xlabel('Fixation End')\n",
    "axes[1].set_ylabel('Frequency')\n",
    "axes[1].set_title('Distribution of Fixation End')\n",
    "\n",
    "plt.tight_layout()\n",
    "plt.show()"
   ]
  },
  {
   "cell_type": "code",
   "execution_count": null,
   "id": "f9d0eb80",
   "metadata": {},
   "outputs": [],
   "source": [
    "fig, axes = plt.subplots(1, 2, figsize=(20, 8))\n",
    "\n",
    "sns.histplot(df_27_IVT['Saccade Start'], bins=100, kde=True, ax=axes[0])\n",
    "axes[0].set_xlabel('Saccade Start')\n",
    "axes[0].set_ylabel('Frequency')\n",
    "axes[0].set_title('Distribution of Saccade Start')\n",
    "\n",
    "sns.histplot(df_27_IVT['Saccade End'], bins=100, kde=True, ax=axes[1])\n",
    "axes[1].set_xlabel('Saccade End')\n",
    "axes[1].set_ylabel('Frequency')\n",
    "axes[1].set_title('Distribution of Saccade End')\n",
    "\n",
    "plt.tight_layout()\n",
    "plt.show()"
   ]
  },
  {
   "cell_type": "markdown",
   "id": "09ad65be",
   "metadata": {},
   "source": [
    "# Observation on Fixation and Saccade Timestamps\n",
    "\n",
    "Upon examining the time series plots of 'Fixation Start', 'Fixation End', `Saccade Start`, and `Saccade End` against the `Timestamp`, we observe a clear linear, diagonal pattern. This indicates that these values are largely sequential and directly related to the progress of time in the data recording.\n",
    "\n",
    "Furthermore, the histograms of these features show distributions that, while informative about the timing of events, don't necessarily reveal complex patterns that would be highly predictive for a machine learning model.\n",
    "\n",
    "Crucially, the dataset already contains `Fixation Duration` and `Saccade Duration` columns. These duration features capture the length of each event, which is often a more directly relevant metric for understanding eye movement behavior than the absolute start and end times. Since the duration can be derived from the start and end times (Duration = End - Start), the start and end time columns introduce redundancy and do not provide substantial additional, independent information for modeling purposes.\n",
    "\n",
    "Therefore, to simplify the dataset and focus on the most informative features for potential machine movement analysis or modeling, we will drop the `Fixation Start`, `Fixation End`, `Saccade Start`, and `Saccade End` columns."
   ]
  },
  {
   "cell_type": "code",
   "execution_count": null,
   "id": "1a188d4c",
   "metadata": {},
   "outputs": [],
   "source": [
    "df_27_IVT.drop(['Fixation Start', 'Fixation End', 'Saccade Start', 'Saccade End'], axis=1, inplace=True)"
   ]
  },
  {
   "cell_type": "code",
   "execution_count": null,
   "id": "219f0810",
   "metadata": {},
   "outputs": [],
   "source": [
    "df_27_IVT.head()"
   ]
  },
  {
   "cell_type": "code",
   "execution_count": null,
   "id": "e954ec9f",
   "metadata": {},
   "outputs": [],
   "source": [
    "plt.figure(figsize=(12, 8))\n",
    "sns.heatmap(df_27_IVT[['Gaze X', 'Gaze Y', 'Interpolated Gaze X', 'Interpolated Gaze Y']].isnull(), cmap='viridis')\n",
    "plt.show()\n"
   ]
  },
  {
   "cell_type": "code",
   "execution_count": null,
   "id": "244c7638",
   "metadata": {},
   "outputs": [],
   "source": []
  },
  {
   "cell_type": "markdown",
   "id": "411ab3dd",
   "metadata": {},
   "source": [
    "# Observations on Gaze and Interpolated Gaze Data\n",
    "\n",
    "Based on the scatter plots of 'Gaze X' vs 'Gaze Y' and 'Interpolated Gaze X' vs 'Interpolated Gaze Y', we observe that the distributions of the raw and interpolated gaze points appear very similar. The spatial patterns of where the participant was looking are consistent between the two sets of coordinates.\n",
    "\n",
    "Furthermore, the heatmap of null values for these columns ('Gaze X', 'Gaze Y', 'Interpolated Gaze X', 'Interpolated Gaze Y') reveals that the missing values are present in the same rows for both the raw and interpolated gaze coordinates. This suggests that the interpolation process did not fill in the gaps in the raw gaze data for these specific instances.\n",
    "\n",
    "Given that the interpolated gaze data shows the same spatial distribution and the same pattern of null values as the raw gaze data, it appears that the interpolation did not significantly alter or complete the data in this case. Therefore, keeping both the raw and interpolated gaze columns might be redundant, and one set could potentially be dropped to simplify the dataset without losing significant information."
   ]
  },
  {
   "cell_type": "code",
   "execution_count": null,
   "id": "da02c8ae",
   "metadata": {},
   "outputs": [],
   "source": [
    "df_27_IVT.drop(['Interpolated Gaze X', 'Interpolated Gaze Y'], axis=1, inplace=True)"
   ]
  },
  {
   "cell_type": "code",
   "execution_count": null,
   "id": "998410da",
   "metadata": {},
   "outputs": [],
   "source": [
    "df_27_IVT.head()"
   ]
  },
  {
   "cell_type": "code",
   "execution_count": null,
   "id": "52fbee4a",
   "metadata": {},
   "outputs": [],
   "source": [
    "plt.figure(figsize=(12, 8))\n",
    "sns.heatmap(df_27_IVT.isnull(), cmap='viridis')\n",
    "plt.show()"
   ]
  },
  {
   "cell_type": "code",
   "execution_count": null,
   "id": "54bb9f05",
   "metadata": {},
   "outputs": [],
   "source": [
    "df_27_IVT.columns"
   ]
  },
  {
   "cell_type": "code",
   "execution_count": null,
   "id": "d869c1f8",
   "metadata": {},
   "outputs": [],
   "source": [
    "fix_1_df = df_27_IVT.dropna(subset=['Fixation Duration'])\n",
    "sac_1_df = df_27_IVT.dropna(subset=['Saccade Duration'])"
   ]
  },
  {
   "cell_type": "code",
   "execution_count": null,
   "id": "d486a912",
   "metadata": {},
   "outputs": [],
   "source": [
    "fix_1_df.shape"
   ]
  },
  {
   "cell_type": "code",
   "execution_count": null,
   "id": "f2717cea",
   "metadata": {},
   "outputs": [],
   "source": [
    "sac_1_df.shape"
   ]
  },
  {
   "cell_type": "code",
   "execution_count": null,
   "id": "3e1d3967",
   "metadata": {},
   "outputs": [],
   "source": [
    "fix_1_feature = fix_1_df.groupby('QuestionKey').agg({\n",
    "    'Fixation Duration': ['count','mean','max','sum','var'],\n",
    "    'Fixation Dispersion': ['mean','max'],\n",
    "    'Fixation X': ['var'],   # screen spread X\n",
    "    'Fixation Y': ['var']    # screen spread Y\n",
    "})"
   ]
  },
  {
   "cell_type": "code",
   "execution_count": null,
   "id": "45d5d7e7",
   "metadata": {},
   "outputs": [],
   "source": [
    "fix_1_feature.columns = ['fix_count','fix_mean_dur','fix_max_dur','fix_total_time',\n",
    "                        'fix_dur_var','fix_disp_mean','fix_disp_max',\n",
    "                        'fix_x_var','fix_y_var']"
   ]
  },
  {
   "cell_type": "code",
   "execution_count": null,
   "id": "841fc927",
   "metadata": {},
   "outputs": [],
   "source": [
    "fix_1_feature"
   ]
  },
  {
   "cell_type": "code",
   "execution_count": null,
   "id": "cce3cd34",
   "metadata": {},
   "outputs": [],
   "source": [
    "sac_1_features = sac_1_df.groupby('QuestionKey').agg({\n",
    "    'Saccade Duration': ['count','mean','sum'],\n",
    "    'Saccade Amplitude': ['mean','max'],\n",
    "    'Saccade Peak Velocity': ['mean','max'],\n",
    "    'Saccade Peak Acceleration': ['mean'],\n",
    "    'Saccade Peak Deceleration': ['mean'],\n",
    "    'Saccade Direction': ['var']   # direction variance\n",
    "})"
   ]
  },
  {
   "cell_type": "code",
   "execution_count": null,
   "id": "3a98de2e",
   "metadata": {},
   "outputs": [],
   "source": [
    "sac_1_features.columns = ['sac_count','sac_mean_dur','sac_total_time',\n",
    "                        'sac_amp_mean','sac_amp_max',\n",
    "                        'sac_vel_mean','sac_vel_max',\n",
    "                        'sac_acc_mean','sac_dec_mean','sac_dir_var']"
   ]
  },
  {
   "cell_type": "code",
   "execution_count": null,
   "id": "cf08e868",
   "metadata": {},
   "outputs": [],
   "source": [
    "sac_1_features"
   ]
  },
  {
   "cell_type": "code",
   "execution_count": null,
   "id": "0369d991",
   "metadata": {},
   "outputs": [],
   "source": [
    "ivt_1_features = fix_1_feature.join(sac_1_features, how='outer').fillna(0)"
   ]
  },
  {
   "cell_type": "code",
   "execution_count": null,
   "id": "fb3e5588",
   "metadata": {},
   "outputs": [],
   "source": [
    "ivt_1_features"
   ]
  },
  {
   "cell_type": "code",
   "execution_count": null,
   "id": "55ece5f1",
   "metadata": {},
   "outputs": [],
   "source": [
    "ivt_1_features['fix_sac_count_ratio'] = ivt_1_features['fix_count'] / (ivt_1_features['sac_count']+1e-5)\n",
    "ivt_1_features['fix_sac_time_ratio']  = ivt_1_features['fix_total_time'] / (ivt_1_features['sac_total_time']+1e-5)"
   ]
  },
  {
   "cell_type": "code",
   "execution_count": null,
   "id": "beaedf5f",
   "metadata": {},
   "outputs": [],
   "source": [
    "ivt_1_features"
   ]
  },
  {
   "cell_type": "code",
   "execution_count": null,
   "id": "5a8018b3",
   "metadata": {},
   "outputs": [],
   "source": []
  },
  {
   "cell_type": "markdown",
   "id": "558c8bf1",
   "metadata": {},
   "source": [
    "# Aggregation of Fixation and Saccade Features\n",
    "\n",
    "In the preceding code cells, we performed aggregation on the `fix_1_df` and `sac_1_df` DataFrames, which contain the cleaned fixation and saccade data, respectively. The goal of this aggregation was to create a summary of eye-tracking metrics for each `QuestionKey`.\n",
    "\n",
    "For fixations, we calculated:\n",
    "- Count of fixations (`fix_count`)\n",
    "- Mean, max, sum, and variance of fixation duration (`fix_mean_dur`, `fix_max_dur`, `fix_total_time`, `fix_dur_var`)\n",
    "- Mean and max of fixation dispersion (`fix_disp_mean`, `fix_disp_max`)\n",
    "- Variance of fixation X and Y coordinates (`fix_x_var`, `fix_y_var`) to represent screen spread.\n",
    "\n",
    "For saccades, we calculated:\n",
    "- Count of saccades (`sac_count`)\n",
    "- Mean and sum of saccade duration (`sac_mean_dur`, `sac_total_time`)\n",
    "- Mean and max of saccade amplitude (`sac_amp_mean`, `sac_amp_max`)\n",
    "- Mean and max of saccade peak velocity (`sac_vel_mean`, `sac_vel_max`)\n",
    "- Mean of saccade peak acceleration and deceleration (`sac_acc_mean`, `sac_dec_mean`)\n",
    "- Variance of saccade direction (`sac_dir_var`).\n",
    "\n",
    "Finally, we joined these aggregated fixation and saccade features into a single DataFrame called `ivt_1_features`, using `QuestionKey` as the index. We also filled any resulting missing values (from `QuestionKey` values that may only have fixations or saccades, but not both) with 0. This `ivt_1_features` DataFrame now provides a consolidated summary of key eye-tracking characteristics for each question, which can be used for further analysis or modeling."
   ]
  },
  {
   "cell_type": "markdown",
   "id": "54d95f38",
   "metadata": {},
   "source": [
    "# **28_IVT**"
   ]
  },
  {
   "cell_type": "code",
   "execution_count": null,
   "id": "5b7aba8e",
   "metadata": {},
   "outputs": [],
   "source": [
    "df_28_IVT = pd.read_csv('data/STData/28/28_IVT.csv')"
   ]
  },
  {
   "cell_type": "code",
   "execution_count": null,
   "id": "648a4f66",
   "metadata": {},
   "outputs": [],
   "source": [
    "df_28_IVT.head()"
   ]
  },
  {
   "cell_type": "code",
   "execution_count": null,
   "id": "a6f1c755",
   "metadata": {},
   "outputs": [],
   "source": [
    "df_28_IVT.columns"
   ]
  },
  {
   "cell_type": "code",
   "execution_count": null,
   "id": "8ba05305",
   "metadata": {},
   "outputs": [],
   "source": [
    "df_28_IVT.shape"
   ]
  },
  {
   "cell_type": "code",
   "execution_count": null,
   "id": "e21728fd",
   "metadata": {},
   "outputs": [],
   "source": [
    "df_28_IVT.info()"
   ]
  },
  {
   "cell_type": "code",
   "execution_count": null,
   "id": "0a53a7f5",
   "metadata": {},
   "outputs": [],
   "source": [
    "df_28_IVT.isnull().sum()"
   ]
  },
  {
   "cell_type": "code",
   "execution_count": null,
   "id": "b9b67598",
   "metadata": {},
   "outputs": [],
   "source": [
    "plt.figure(figsize=(14,10))\n",
    "sns.heatmap(df_28_IVT.isnull(), cmap='viridis')\n",
    "plt.show()"
   ]
  },
  {
   "cell_type": "markdown",
   "id": "9bf45570",
   "metadata": {},
   "source": [
    "# Notes & Observations\n",
    "\n",
    "- We observe many **null** (or missing) values in the `QuestionKey` columns.\n",
    "- The nulls in the `QuestionKey` column may not represent “true” nulls. Rather, they follow interval patterns, suggesting that during those periods no question was displayed.\n",
    "- These missing values in `QuestionKey` require additional investigation and context-aware handling."
   ]
  },
  {
   "cell_type": "code",
   "execution_count": null,
   "id": "5da6465f",
   "metadata": {},
   "outputs": [],
   "source": [
    "df_28_IVT['QuestionKey'].unique()"
   ]
  },
  {
   "cell_type": "code",
   "execution_count": null,
   "id": "e509186f",
   "metadata": {},
   "outputs": [],
   "source": [
    "df_28_IVT['Timestamp'] = pd.to_datetime(df_28_IVT['Timestamp'])"
   ]
  },
  {
   "cell_type": "code",
   "execution_count": null,
   "id": "fce9f36b",
   "metadata": {},
   "outputs": [],
   "source": [
    "df_28_IVT.head(3)"
   ]
  },
  {
   "cell_type": "code",
   "execution_count": null,
   "id": "f45e2a6b",
   "metadata": {},
   "outputs": [],
   "source": [
    "df_28_IVT['QuestionKey'].fillna('None', inplace=True)"
   ]
  },
  {
   "cell_type": "code",
   "execution_count": null,
   "id": "8b6733c1",
   "metadata": {},
   "outputs": [],
   "source": [
    "df_28_IVT['QuestionKey'].value_counts()"
   ]
  },
  {
   "cell_type": "code",
   "execution_count": null,
   "id": "c12321fc",
   "metadata": {},
   "outputs": [],
   "source": [
    "plt.figure(figsize=(14,10))\n",
    "sns.heatmap(df_28_IVT.isnull(), cmap='viridis')\n",
    "plt.show()"
   ]
  },
  {
   "cell_type": "code",
   "execution_count": null,
   "id": "ff1e93af",
   "metadata": {},
   "outputs": [],
   "source": [
    "df_28_IVT.isnull().sum()"
   ]
  },
  {
   "cell_type": "code",
   "execution_count": null,
   "id": "0f1c63f8",
   "metadata": {},
   "outputs": [],
   "source": [
    "df_28_IVT.head()"
   ]
  },
  {
   "cell_type": "code",
   "execution_count": null,
   "id": "a2792cbc",
   "metadata": {},
   "outputs": [],
   "source": [
    "df_28_IVT['Row'].unique()"
   ]
  },
  {
   "cell_type": "code",
   "execution_count": null,
   "id": "f4923c32",
   "metadata": {},
   "outputs": [],
   "source": [
    "plt.figure(figsize=(8,6))\n",
    "sns.histplot(df_28_IVT['Row'])\n",
    "plt.show()"
   ]
  },
  {
   "cell_type": "markdown",
   "id": "a569b890",
   "metadata": {},
   "source": [
    "# Notes & Observations\n",
    "\n",
    "- The `Row` column appears to be a simple row index and does not provide meaningful information relevant to the eye-tracking data itself. Therefore, it can be dropped."
   ]
  },
  {
   "cell_type": "code",
   "execution_count": null,
   "id": "41af209c",
   "metadata": {},
   "outputs": [],
   "source": [
    "df_28_IVT.drop('Row', axis=1, inplace=True)"
   ]
  },
  {
   "cell_type": "code",
   "execution_count": null,
   "id": "e5511e9a",
   "metadata": {},
   "outputs": [],
   "source": [
    "fig, axes = plt.subplots(1, 2, figsize=(20, 10))\n",
    "\n",
    "sns.scatterplot(data=df_28_IVT, x='Gaze X', y='Gaze Y', ax=axes[0])\n",
    "axes[0].set_title('Gaze X vs Gaze Y')\n",
    "\n",
    "sns.scatterplot(data=df_28_IVT, x='Interpolated Gaze X', y='Interpolated Gaze Y', ax=axes[1])\n",
    "axes[1].set_title('Interpolated Gaze X vs Interpolated Gaze Y')\n",
    "\n",
    "plt.tight_layout()\n",
    "plt.show()"
   ]
  },
  {
   "cell_type": "markdown",
   "id": "00ddf96c",
   "metadata": {},
   "source": [
    "# Gaze and Interpolated Gaze Scatter Plots\n",
    "\n",
    "The scatter plots above visualize the relationship between the x and y coordinates of both the raw gaze data and the interpolated gaze data.\n",
    "\n",
    "- **Gaze X vs Gaze Y:** This plot shows the raw gaze coordinates. The scattered points indicate the locations on the screen where the participant was looking. The density of points in certain areas might suggest regions of interest.\n",
    "- **Interpolated Gaze X vs Interpolated Gaze Y:** This plot shows the interpolated gaze coordinates. Interpolation is often used to fill in gaps in the raw gaze data, providing a smoother representation of the gaze path. Comparing this plot to the raw gaze plot can show the effect of the interpolation process.\n",
    "\n",
    "Both plots can help in understanding the distribution of gaze points across the screen and identifying potential patterns or biases in eye movements."
   ]
  },
  {
   "cell_type": "code",
   "execution_count": null,
   "id": "65966748",
   "metadata": {},
   "outputs": [],
   "source": [
    "df_28_IVT.describe()"
   ]
  },
  {
   "cell_type": "code",
   "execution_count": null,
   "id": "e3529dd3",
   "metadata": {},
   "outputs": [],
   "source": [
    "df_28_IVT.head(3)"
   ]
  },
  {
   "cell_type": "code",
   "execution_count": null,
   "id": "776b1795",
   "metadata": {},
   "outputs": [],
   "source": [
    "df_28_IVT['Timestamp'] = pd.to_datetime(df_28_IVT['Timestamp'])"
   ]
  },
  {
   "cell_type": "code",
   "execution_count": null,
   "id": "f7fd980e",
   "metadata": {},
   "outputs": [],
   "source": [
    "df_28_IVT.columns"
   ]
  },
  {
   "cell_type": "code",
   "execution_count": null,
   "id": "64f70699",
   "metadata": {},
   "outputs": [],
   "source": [
    "cols = ['Gaze X', 'Gaze Y',\n",
    "       'Interpolated Gaze X', 'Interpolated Gaze Y', 'Interpolated Distance',\n",
    "       'Gaze Velocity', 'Gaze Acceleration', 'Fixation Index',\n",
    "       'Fixation Index by Stimulus', 'Fixation X', 'Fixation Y',\n",
    "       'Fixation Start', 'Fixation End', 'Fixation Duration',\n",
    "       'Fixation Dispersion', 'Saccade Index', 'Saccade Index by Stimulus',\n",
    "       'Saccade Start', 'Saccade End', 'Saccade Duration', 'Saccade Amplitude',\n",
    "       'Saccade Peak Velocity', 'Saccade Peak Acceleration',\n",
    "       'Saccade Peak Deceleration', 'Saccade Direction']"
   ]
  },
  {
   "cell_type": "code",
   "execution_count": null,
   "id": "419f74c5",
   "metadata": {},
   "outputs": [],
   "source": [
    "from IPython.display import display, Markdown\n",
    "\n",
    "for col in cols:\n",
    "    # Add a markdown cell before each plot for better separation and labeling\n",
    "    display(Markdown(f'### {col} over Time'))\n",
    "    plt.figure(figsize=(16, 10))\n",
    "    sns.lineplot(x=df_28_IVT['Timestamp'], y=df_28_IVT[col])\n",
    "    plt.xlabel(\"Timestamp\") # Add x-axis label\n",
    "    plt.ylabel(col) # Add y-axis label\n",
    "    plt.show()"
   ]
  },
  {
   "cell_type": "code",
   "execution_count": null,
   "id": "04e562b5",
   "metadata": {},
   "outputs": [],
   "source": [
    "df_28_IVT.head()"
   ]
  },
  {
   "cell_type": "code",
   "execution_count": null,
   "id": "22479f9c",
   "metadata": {},
   "outputs": [],
   "source": [
    "plt.figure(figsize=(14,10))\n",
    "sns.heatmap(df_28_IVT[['Fixation Index', 'Fixation Index by Stimulus', 'Saccade Index', 'Saccade Index by Stimulus']].isnull(), cmap='viridis')\n",
    "plt.show()"
   ]
  },
  {
   "cell_type": "markdown",
   "id": "4a4d459e",
   "metadata": {},
   "source": [
    "# Observation\n",
    "\n",
    "The `Fixation Index`, `Fixation Index by Stimulus`, `Saccade Index` and `Saccade Index by Stimulus` columns are essentially just sequence numbers for identified events. While they indicate the order of fixations and saccades, they don't provide meaningful features for a machine learning model attempting to predict or classify eye movement patterns. Therefore, we will drop these columns as they are not useful for model building."
   ]
  },
  {
   "cell_type": "code",
   "execution_count": null,
   "id": "5dcab189",
   "metadata": {},
   "outputs": [],
   "source": [
    "df_28_IVT.drop(['Fixation Index', 'Fixation Index by Stimulus', 'Saccade Index', 'Saccade Index by Stimulus'], axis=1, inplace=True)"
   ]
  },
  {
   "cell_type": "code",
   "execution_count": null,
   "id": "ef2a0c4a",
   "metadata": {},
   "outputs": [],
   "source": [
    "plt.figure(figsize=(14,10))\n",
    "sns.scatterplot(data=df_28_IVT, x='Fixation X', y='Fixation Y')\n",
    "plt.title('Fixation X vs Fixation Y')\n",
    "plt.show()"
   ]
  },
  {
   "cell_type": "code",
   "execution_count": null,
   "id": "0966773c",
   "metadata": {},
   "outputs": [],
   "source": [
    "df_28_IVT['Fixation Start'].describe()"
   ]
  },
  {
   "cell_type": "code",
   "execution_count": null,
   "id": "f3740a33",
   "metadata": {},
   "outputs": [],
   "source": [
    "fig, axes = plt.subplots(1, 2, figsize=(20, 8))\n",
    "\n",
    "sns.histplot(df_28_IVT['Fixation Start'], bins=100, kde=True, ax=axes[0])\n",
    "axes[0].set_xlabel('Fixation Start')\n",
    "axes[0].set_ylabel('Frequency')\n",
    "axes[0].set_title('Distribution of Fixation Start')\n",
    "\n",
    "sns.histplot(df_28_IVT['Fixation End'], bins=100, kde=True, ax=axes[1])\n",
    "axes[1].set_xlabel('Fixation End')\n",
    "axes[1].set_ylabel('Frequency')\n",
    "axes[1].set_title('Distribution of Fixation End')\n",
    "\n",
    "plt.tight_layout()\n",
    "plt.show()"
   ]
  },
  {
   "cell_type": "code",
   "execution_count": null,
   "id": "5b3fccc7",
   "metadata": {},
   "outputs": [],
   "source": [
    "fig, axes = plt.subplots(1, 2, figsize=(20, 8))\n",
    "\n",
    "sns.histplot(df_28_IVT['Saccade Start'], bins=100, kde=True, ax=axes[0])\n",
    "axes[0].set_xlabel('Saccade Start')\n",
    "axes[0].set_ylabel('Frequency')\n",
    "axes[0].set_title('Distribution of Saccade Start')\n",
    "\n",
    "sns.histplot(df_28_IVT['Saccade End'], bins=100, kde=True, ax=axes[1])\n",
    "axes[1].set_xlabel('Saccade End')\n",
    "axes[1].set_ylabel('Frequency')\n",
    "axes[1].set_title('Distribution of Saccade End')\n",
    "\n",
    "plt.tight_layout()\n",
    "plt.show()"
   ]
  },
  {
   "cell_type": "markdown",
   "id": "a1dfcc83",
   "metadata": {},
   "source": [
    "# Observation on Fixation and Saccade Timestamps\n",
    "\n",
    "Upon examining the time series plots of 'Fixation Start', 'Fixation End', `Saccade Start`, and `Saccade End` against the `Timestamp`, we observe a clear linear, diagonal pattern. This indicates that these values are largely sequential and directly related to the progress of time in the data recording.\n",
    "\n",
    "Furthermore, the histograms of these features show distributions that, while informative about the timing of events, don't necessarily reveal complex patterns that would be highly predictive for a machine learning model.\n",
    "\n",
    "Crucially, the dataset already contains `Fixation Duration` and `Saccade Duration` columns. These duration features capture the length of each event, which is often a more directly relevant metric for understanding eye movement behavior than the absolute start and end times. Since the duration can be derived from the start and end times (Duration = End - Start), the start and end time columns introduce redundancy and do not provide substantial additional, independent information for modeling purposes.\n",
    "\n",
    "Therefore, to simplify the dataset and focus on the most informative features for potential machine movement analysis or modeling, we will drop the `Fixation Start`, `Fixation End`, `Saccade Start`, and `Saccade End` columns."
   ]
  },
  {
   "cell_type": "code",
   "execution_count": null,
   "id": "5d7820f1",
   "metadata": {},
   "outputs": [],
   "source": [
    "df_28_IVT.drop(['Fixation Start', 'Fixation End', 'Saccade Start', 'Saccade End'], axis=1, inplace=True)"
   ]
  },
  {
   "cell_type": "code",
   "execution_count": null,
   "id": "c9031a73",
   "metadata": {},
   "outputs": [],
   "source": [
    "df_28_IVT.head()"
   ]
  },
  {
   "cell_type": "code",
   "execution_count": null,
   "id": "e5767c19",
   "metadata": {},
   "outputs": [],
   "source": [
    "plt.figure(figsize=(12, 8))\n",
    "sns.heatmap(df_28_IVT[['Gaze X', 'Gaze Y', 'Interpolated Gaze X', 'Interpolated Gaze Y']].isnull(), cmap='viridis')\n",
    "plt.show()\n"
   ]
  },
  {
   "cell_type": "code",
   "execution_count": null,
   "id": "126e3d4f",
   "metadata": {},
   "outputs": [],
   "source": []
  },
  {
   "cell_type": "markdown",
   "id": "02397f08",
   "metadata": {},
   "source": [
    "# Observations on Gaze and Interpolated Gaze Data\n",
    "\n",
    "Based on the scatter plots of 'Gaze X' vs 'Gaze Y' and 'Interpolated Gaze X' vs 'Interpolated Gaze Y', we observe that the distributions of the raw and interpolated gaze points appear very similar. The spatial patterns of where the participant was looking are consistent between the two sets of coordinates.\n",
    "\n",
    "Furthermore, the heatmap of null values for these columns ('Gaze X', 'Gaze Y', 'Interpolated Gaze X', 'Interpolated Gaze Y') reveals that the missing values are present in the same rows for both the raw and interpolated gaze coordinates. This suggests that the interpolation process did not fill in the gaps in the raw gaze data for these specific instances.\n",
    "\n",
    "Given that the interpolated gaze data shows the same spatial distribution and the same pattern of null values as the raw gaze data, it appears that the interpolation did not significantly alter or complete the data in this case. Therefore, keeping both the raw and interpolated gaze columns might be redundant, and one set could potentially be dropped to simplify the dataset without losing significant information."
   ]
  },
  {
   "cell_type": "code",
   "execution_count": null,
   "id": "23d925f4",
   "metadata": {},
   "outputs": [],
   "source": [
    "df_28_IVT.drop(['Interpolated Gaze X', 'Interpolated Gaze Y'], axis=1, inplace=True)"
   ]
  },
  {
   "cell_type": "code",
   "execution_count": null,
   "id": "8a1056ac",
   "metadata": {},
   "outputs": [],
   "source": [
    "df_28_IVT.head()"
   ]
  },
  {
   "cell_type": "code",
   "execution_count": null,
   "id": "89eb0e69",
   "metadata": {},
   "outputs": [],
   "source": [
    "plt.figure(figsize=(12, 8))\n",
    "sns.heatmap(df_28_IVT.isnull(), cmap='viridis')\n",
    "plt.show()"
   ]
  },
  {
   "cell_type": "code",
   "execution_count": null,
   "id": "d6251eab",
   "metadata": {},
   "outputs": [],
   "source": [
    "df_28_IVT.columns"
   ]
  },
  {
   "cell_type": "code",
   "execution_count": null,
   "id": "be878608",
   "metadata": {},
   "outputs": [],
   "source": [
    "fix_1_df = df_28_IVT.dropna(subset=['Fixation Duration'])\n",
    "sac_1_df = df_28_IVT.dropna(subset=['Saccade Duration'])"
   ]
  },
  {
   "cell_type": "code",
   "execution_count": null,
   "id": "c45aaefb",
   "metadata": {},
   "outputs": [],
   "source": [
    "fix_1_df.shape"
   ]
  },
  {
   "cell_type": "code",
   "execution_count": null,
   "id": "293480ca",
   "metadata": {},
   "outputs": [],
   "source": [
    "sac_1_df.shape"
   ]
  },
  {
   "cell_type": "code",
   "execution_count": null,
   "id": "101f62ce",
   "metadata": {},
   "outputs": [],
   "source": [
    "fix_1_feature = fix_1_df.groupby('QuestionKey').agg({\n",
    "    'Fixation Duration': ['count','mean','max','sum','var'],\n",
    "    'Fixation Dispersion': ['mean','max'],\n",
    "    'Fixation X': ['var'],   # screen spread X\n",
    "    'Fixation Y': ['var']    # screen spread Y\n",
    "})"
   ]
  },
  {
   "cell_type": "code",
   "execution_count": null,
   "id": "94a68a18",
   "metadata": {},
   "outputs": [],
   "source": [
    "fix_1_feature.columns = ['fix_count','fix_mean_dur','fix_max_dur','fix_total_time',\n",
    "                        'fix_dur_var','fix_disp_mean','fix_disp_max',\n",
    "                        'fix_x_var','fix_y_var']"
   ]
  },
  {
   "cell_type": "code",
   "execution_count": null,
   "id": "ede1efcb",
   "metadata": {},
   "outputs": [],
   "source": [
    "fix_1_feature"
   ]
  },
  {
   "cell_type": "code",
   "execution_count": null,
   "id": "edfe7723",
   "metadata": {},
   "outputs": [],
   "source": [
    "sac_1_features = sac_1_df.groupby('QuestionKey').agg({\n",
    "    'Saccade Duration': ['count','mean','sum'],\n",
    "    'Saccade Amplitude': ['mean','max'],\n",
    "    'Saccade Peak Velocity': ['mean','max'],\n",
    "    'Saccade Peak Acceleration': ['mean'],\n",
    "    'Saccade Peak Deceleration': ['mean'],\n",
    "    'Saccade Direction': ['var']   # direction variance\n",
    "})"
   ]
  },
  {
   "cell_type": "code",
   "execution_count": null,
   "id": "f370a77a",
   "metadata": {},
   "outputs": [],
   "source": [
    "sac_1_features.columns = ['sac_count','sac_mean_dur','sac_total_time',\n",
    "                        'sac_amp_mean','sac_amp_max',\n",
    "                        'sac_vel_mean','sac_vel_max',\n",
    "                        'sac_acc_mean','sac_dec_mean','sac_dir_var']"
   ]
  },
  {
   "cell_type": "code",
   "execution_count": null,
   "id": "319ab2d2",
   "metadata": {},
   "outputs": [],
   "source": [
    "sac_1_features"
   ]
  },
  {
   "cell_type": "code",
   "execution_count": null,
   "id": "110d50e4",
   "metadata": {},
   "outputs": [],
   "source": [
    "ivt_1_features = fix_1_feature.join(sac_1_features, how='outer').fillna(0)"
   ]
  },
  {
   "cell_type": "code",
   "execution_count": null,
   "id": "b704741d",
   "metadata": {},
   "outputs": [],
   "source": [
    "ivt_1_features"
   ]
  },
  {
   "cell_type": "code",
   "execution_count": null,
   "id": "f0abcd29",
   "metadata": {},
   "outputs": [],
   "source": [
    "ivt_1_features['fix_sac_count_ratio'] = ivt_1_features['fix_count'] / (ivt_1_features['sac_count']+1e-5)\n",
    "ivt_1_features['fix_sac_time_ratio']  = ivt_1_features['fix_total_time'] / (ivt_1_features['sac_total_time']+1e-5)"
   ]
  },
  {
   "cell_type": "code",
   "execution_count": null,
   "id": "39e49ec5",
   "metadata": {},
   "outputs": [],
   "source": [
    "ivt_1_features"
   ]
  },
  {
   "cell_type": "code",
   "execution_count": null,
   "id": "cbece1de",
   "metadata": {},
   "outputs": [],
   "source": []
  },
  {
   "cell_type": "markdown",
   "id": "2064732c",
   "metadata": {},
   "source": [
    "# Aggregation of Fixation and Saccade Features\n",
    "\n",
    "In the preceding code cells, we performed aggregation on the `fix_1_df` and `sac_1_df` DataFrames, which contain the cleaned fixation and saccade data, respectively. The goal of this aggregation was to create a summary of eye-tracking metrics for each `QuestionKey`.\n",
    "\n",
    "For fixations, we calculated:\n",
    "- Count of fixations (`fix_count`)\n",
    "- Mean, max, sum, and variance of fixation duration (`fix_mean_dur`, `fix_max_dur`, `fix_total_time`, `fix_dur_var`)\n",
    "- Mean and max of fixation dispersion (`fix_disp_mean`, `fix_disp_max`)\n",
    "- Variance of fixation X and Y coordinates (`fix_x_var`, `fix_y_var`) to represent screen spread.\n",
    "\n",
    "For saccades, we calculated:\n",
    "- Count of saccades (`sac_count`)\n",
    "- Mean and sum of saccade duration (`sac_mean_dur`, `sac_total_time`)\n",
    "- Mean and max of saccade amplitude (`sac_amp_mean`, `sac_amp_max`)\n",
    "- Mean and max of saccade peak velocity (`sac_vel_mean`, `sac_vel_max`)\n",
    "- Mean of saccade peak acceleration and deceleration (`sac_acc_mean`, `sac_dec_mean`)\n",
    "- Variance of saccade direction (`sac_dir_var`).\n",
    "\n",
    "Finally, we joined these aggregated fixation and saccade features into a single DataFrame called `ivt_1_features`, using `QuestionKey` as the index. We also filled any resulting missing values (from `QuestionKey` values that may only have fixations or saccades, but not both) with 0. This `ivt_1_features` DataFrame now provides a consolidated summary of key eye-tracking characteristics for each question, which can be used for further analysis or modeling."
   ]
  },
  {
   "cell_type": "markdown",
   "id": "70a259ee",
   "metadata": {},
   "source": [
    "# **29_IVT**"
   ]
  },
  {
   "cell_type": "code",
   "execution_count": null,
   "id": "a8d50956",
   "metadata": {},
   "outputs": [],
   "source": [
    "df_29_IVT = pd.read_csv('data/STData/29/29_IVT.csv')"
   ]
  },
  {
   "cell_type": "code",
   "execution_count": null,
   "id": "c848defe",
   "metadata": {},
   "outputs": [],
   "source": [
    "df_29_IVT.head()"
   ]
  },
  {
   "cell_type": "code",
   "execution_count": null,
   "id": "ba3b21e0",
   "metadata": {},
   "outputs": [],
   "source": [
    "df_29_IVT.columns"
   ]
  },
  {
   "cell_type": "code",
   "execution_count": null,
   "id": "15e88ab3",
   "metadata": {},
   "outputs": [],
   "source": [
    "df_29_IVT.shape"
   ]
  },
  {
   "cell_type": "code",
   "execution_count": null,
   "id": "4b5c5f66",
   "metadata": {},
   "outputs": [],
   "source": [
    "df_29_IVT.info()"
   ]
  },
  {
   "cell_type": "code",
   "execution_count": null,
   "id": "6c9c1185",
   "metadata": {},
   "outputs": [],
   "source": [
    "df_29_IVT.isnull().sum()"
   ]
  },
  {
   "cell_type": "code",
   "execution_count": null,
   "id": "62283c05",
   "metadata": {},
   "outputs": [],
   "source": [
    "plt.figure(figsize=(14,10))\n",
    "sns.heatmap(df_29_IVT.isnull(), cmap='viridis')\n",
    "plt.show()"
   ]
  },
  {
   "cell_type": "markdown",
   "id": "1f67d2b8",
   "metadata": {},
   "source": [
    "# Notes & Observations\n",
    "\n",
    "- We observe many **null** (or missing) values in the `QuestionKey` columns.\n",
    "- The nulls in the `QuestionKey` column may not represent “true” nulls. Rather, they follow interval patterns, suggesting that during those periods no question was displayed.\n",
    "- These missing values in `QuestionKey` require additional investigation and context-aware handling."
   ]
  },
  {
   "cell_type": "code",
   "execution_count": null,
   "id": "01d7b5bd",
   "metadata": {},
   "outputs": [],
   "source": [
    "df_29_IVT['QuestionKey'].unique()"
   ]
  },
  {
   "cell_type": "code",
   "execution_count": null,
   "id": "92b18401",
   "metadata": {},
   "outputs": [],
   "source": [
    "df_29_IVT['Timestamp'] = pd.to_datetime(df_29_IVT['Timestamp'])"
   ]
  },
  {
   "cell_type": "code",
   "execution_count": null,
   "id": "04e0b3b8",
   "metadata": {},
   "outputs": [],
   "source": [
    "df_29_IVT.head(3)"
   ]
  },
  {
   "cell_type": "code",
   "execution_count": null,
   "id": "0810a47e",
   "metadata": {},
   "outputs": [],
   "source": [
    "df_29_IVT['QuestionKey'].fillna('None', inplace=True)"
   ]
  },
  {
   "cell_type": "code",
   "execution_count": null,
   "id": "2f06ef05",
   "metadata": {},
   "outputs": [],
   "source": [
    "df_29_IVT['QuestionKey'].value_counts()"
   ]
  },
  {
   "cell_type": "code",
   "execution_count": null,
   "id": "f76432f1",
   "metadata": {},
   "outputs": [],
   "source": [
    "plt.figure(figsize=(14,10))\n",
    "sns.heatmap(df_29_IVT.isnull(), cmap='viridis')\n",
    "plt.show()"
   ]
  },
  {
   "cell_type": "code",
   "execution_count": null,
   "id": "9c4ac10d",
   "metadata": {},
   "outputs": [],
   "source": [
    "df_29_IVT.isnull().sum()"
   ]
  },
  {
   "cell_type": "code",
   "execution_count": null,
   "id": "daab8fa4",
   "metadata": {},
   "outputs": [],
   "source": [
    "df_29_IVT.head()"
   ]
  },
  {
   "cell_type": "code",
   "execution_count": null,
   "id": "b9cb0d5b",
   "metadata": {},
   "outputs": [],
   "source": [
    "df_29_IVT['Row'].unique()"
   ]
  },
  {
   "cell_type": "code",
   "execution_count": null,
   "id": "1b4a74e4",
   "metadata": {},
   "outputs": [],
   "source": [
    "plt.figure(figsize=(8,6))\n",
    "sns.histplot(df_29_IVT['Row'])\n",
    "plt.show()"
   ]
  },
  {
   "cell_type": "markdown",
   "id": "44132cfe",
   "metadata": {},
   "source": [
    "# Notes & Observations\n",
    "\n",
    "- The `Row` column appears to be a simple row index and does not provide meaningful information relevant to the eye-tracking data itself. Therefore, it can be dropped."
   ]
  },
  {
   "cell_type": "code",
   "execution_count": null,
   "id": "1e2b1080",
   "metadata": {},
   "outputs": [],
   "source": [
    "df_29_IVT.drop('Row', axis=1, inplace=True)"
   ]
  },
  {
   "cell_type": "code",
   "execution_count": null,
   "id": "55d9cb32",
   "metadata": {},
   "outputs": [],
   "source": [
    "fig, axes = plt.subplots(1, 2, figsize=(20, 10))\n",
    "\n",
    "sns.scatterplot(data=df_29_IVT, x='Gaze X', y='Gaze Y', ax=axes[0])\n",
    "axes[0].set_title('Gaze X vs Gaze Y')\n",
    "\n",
    "sns.scatterplot(data=df_29_IVT, x='Interpolated Gaze X', y='Interpolated Gaze Y', ax=axes[1])\n",
    "axes[1].set_title('Interpolated Gaze X vs Interpolated Gaze Y')\n",
    "\n",
    "plt.tight_layout()\n",
    "plt.show()"
   ]
  },
  {
   "cell_type": "markdown",
   "id": "859e8e39",
   "metadata": {},
   "source": [
    "# Gaze and Interpolated Gaze Scatter Plots\n",
    "\n",
    "The scatter plots above visualize the relationship between the x and y coordinates of both the raw gaze data and the interpolated gaze data.\n",
    "\n",
    "- **Gaze X vs Gaze Y:** This plot shows the raw gaze coordinates. The scattered points indicate the locations on the screen where the participant was looking. The density of points in certain areas might suggest regions of interest.\n",
    "- **Interpolated Gaze X vs Interpolated Gaze Y:** This plot shows the interpolated gaze coordinates. Interpolation is often used to fill in gaps in the raw gaze data, providing a smoother representation of the gaze path. Comparing this plot to the raw gaze plot can show the effect of the interpolation process.\n",
    "\n",
    "Both plots can help in understanding the distribution of gaze points across the screen and identifying potential patterns or biases in eye movements."
   ]
  },
  {
   "cell_type": "code",
   "execution_count": null,
   "id": "6a4ee583",
   "metadata": {},
   "outputs": [],
   "source": [
    "df_29_IVT.describe()"
   ]
  },
  {
   "cell_type": "code",
   "execution_count": null,
   "id": "45833f9a",
   "metadata": {},
   "outputs": [],
   "source": [
    "df_29_IVT.head(3)"
   ]
  },
  {
   "cell_type": "code",
   "execution_count": null,
   "id": "7fb20240",
   "metadata": {},
   "outputs": [],
   "source": [
    "df_29_IVT['Timestamp'] = pd.to_datetime(df_29_IVT['Timestamp'])"
   ]
  },
  {
   "cell_type": "code",
   "execution_count": null,
   "id": "038b8243",
   "metadata": {},
   "outputs": [],
   "source": [
    "df_29_IVT.columns"
   ]
  },
  {
   "cell_type": "code",
   "execution_count": null,
   "id": "de03d808",
   "metadata": {},
   "outputs": [],
   "source": [
    "cols = ['Gaze X', 'Gaze Y',\n",
    "       'Interpolated Gaze X', 'Interpolated Gaze Y', 'Interpolated Distance',\n",
    "       'Gaze Velocity', 'Gaze Acceleration', 'Fixation Index',\n",
    "       'Fixation Index by Stimulus', 'Fixation X', 'Fixation Y',\n",
    "       'Fixation Start', 'Fixation End', 'Fixation Duration',\n",
    "       'Fixation Dispersion', 'Saccade Index', 'Saccade Index by Stimulus',\n",
    "       'Saccade Start', 'Saccade End', 'Saccade Duration', 'Saccade Amplitude',\n",
    "       'Saccade Peak Velocity', 'Saccade Peak Acceleration',\n",
    "       'Saccade Peak Deceleration', 'Saccade Direction']"
   ]
  },
  {
   "cell_type": "code",
   "execution_count": null,
   "id": "e1380a23",
   "metadata": {},
   "outputs": [],
   "source": [
    "from IPython.display import display, Markdown\n",
    "\n",
    "for col in cols:\n",
    "    # Add a markdown cell before each plot for better separation and labeling\n",
    "    display(Markdown(f'### {col} over Time'))\n",
    "    plt.figure(figsize=(16, 10))\n",
    "    sns.lineplot(x=df_29_IVT['Timestamp'], y=df_29_IVT[col])\n",
    "    plt.xlabel(\"Timestamp\") # Add x-axis label\n",
    "    plt.ylabel(col) # Add y-axis label\n",
    "    plt.show()"
   ]
  },
  {
   "cell_type": "code",
   "execution_count": null,
   "id": "1ec76d6e",
   "metadata": {},
   "outputs": [],
   "source": [
    "df_29_IVT.head()"
   ]
  },
  {
   "cell_type": "code",
   "execution_count": null,
   "id": "5b3ee559",
   "metadata": {},
   "outputs": [],
   "source": [
    "plt.figure(figsize=(14,10))\n",
    "sns.heatmap(df_29_IVT[['Fixation Index', 'Fixation Index by Stimulus', 'Saccade Index', 'Saccade Index by Stimulus']].isnull(), cmap='viridis')\n",
    "plt.show()"
   ]
  },
  {
   "cell_type": "markdown",
   "id": "b6fa173a",
   "metadata": {},
   "source": [
    "# Observation\n",
    "\n",
    "The `Fixation Index`, `Fixation Index by Stimulus`, `Saccade Index` and `Saccade Index by Stimulus` columns are essentially just sequence numbers for identified events. While they indicate the order of fixations and saccades, they don't provide meaningful features for a machine learning model attempting to predict or classify eye movement patterns. Therefore, we will drop these columns as they are not useful for model building."
   ]
  },
  {
   "cell_type": "code",
   "execution_count": null,
   "id": "c1e5582a",
   "metadata": {},
   "outputs": [],
   "source": [
    "df_29_IVT.drop(['Fixation Index', 'Fixation Index by Stimulus', 'Saccade Index', 'Saccade Index by Stimulus'], axis=1, inplace=True)"
   ]
  },
  {
   "cell_type": "code",
   "execution_count": null,
   "id": "82f16f95",
   "metadata": {},
   "outputs": [],
   "source": [
    "plt.figure(figsize=(14,10))\n",
    "sns.scatterplot(data=df_29_IVT, x='Fixation X', y='Fixation Y')\n",
    "plt.title('Fixation X vs Fixation Y')\n",
    "plt.show()"
   ]
  },
  {
   "cell_type": "code",
   "execution_count": null,
   "id": "5c7b6bb8",
   "metadata": {},
   "outputs": [],
   "source": [
    "df_29_IVT['Fixation Start'].describe()"
   ]
  },
  {
   "cell_type": "code",
   "execution_count": null,
   "id": "e7e8916b",
   "metadata": {},
   "outputs": [],
   "source": [
    "fig, axes = plt.subplots(1, 2, figsize=(20, 8))\n",
    "\n",
    "sns.histplot(df_29_IVT['Fixation Start'], bins=100, kde=True, ax=axes[0])\n",
    "axes[0].set_xlabel('Fixation Start')\n",
    "axes[0].set_ylabel('Frequency')\n",
    "axes[0].set_title('Distribution of Fixation Start')\n",
    "\n",
    "sns.histplot(df_29_IVT['Fixation End'], bins=100, kde=True, ax=axes[1])\n",
    "axes[1].set_xlabel('Fixation End')\n",
    "axes[1].set_ylabel('Frequency')\n",
    "axes[1].set_title('Distribution of Fixation End')\n",
    "\n",
    "plt.tight_layout()\n",
    "plt.show()"
   ]
  },
  {
   "cell_type": "code",
   "execution_count": null,
   "id": "8f361519",
   "metadata": {},
   "outputs": [],
   "source": [
    "fig, axes = plt.subplots(1, 2, figsize=(20, 8))\n",
    "\n",
    "sns.histplot(df_29_IVT['Saccade Start'], bins=100, kde=True, ax=axes[0])\n",
    "axes[0].set_xlabel('Saccade Start')\n",
    "axes[0].set_ylabel('Frequency')\n",
    "axes[0].set_title('Distribution of Saccade Start')\n",
    "\n",
    "sns.histplot(df_29_IVT['Saccade End'], bins=100, kde=True, ax=axes[1])\n",
    "axes[1].set_xlabel('Saccade End')\n",
    "axes[1].set_ylabel('Frequency')\n",
    "axes[1].set_title('Distribution of Saccade End')\n",
    "\n",
    "plt.tight_layout()\n",
    "plt.show()"
   ]
  },
  {
   "cell_type": "markdown",
   "id": "decf0f6e",
   "metadata": {},
   "source": [
    "# Observation on Fixation and Saccade Timestamps\n",
    "\n",
    "Upon examining the time series plots of 'Fixation Start', 'Fixation End', `Saccade Start`, and `Saccade End` against the `Timestamp`, we observe a clear linear, diagonal pattern. This indicates that these values are largely sequential and directly related to the progress of time in the data recording.\n",
    "\n",
    "Furthermore, the histograms of these features show distributions that, while informative about the timing of events, don't necessarily reveal complex patterns that would be highly predictive for a machine learning model.\n",
    "\n",
    "Crucially, the dataset already contains `Fixation Duration` and `Saccade Duration` columns. These duration features capture the length of each event, which is often a more directly relevant metric for understanding eye movement behavior than the absolute start and end times. Since the duration can be derived from the start and end times (Duration = End - Start), the start and end time columns introduce redundancy and do not provide substantial additional, independent information for modeling purposes.\n",
    "\n",
    "Therefore, to simplify the dataset and focus on the most informative features for potential machine movement analysis or modeling, we will drop the `Fixation Start`, `Fixation End`, `Saccade Start`, and `Saccade End` columns."
   ]
  },
  {
   "cell_type": "code",
   "execution_count": null,
   "id": "9039e106",
   "metadata": {},
   "outputs": [],
   "source": [
    "df_29_IVT.drop(['Fixation Start', 'Fixation End', 'Saccade Start', 'Saccade End'], axis=1, inplace=True)"
   ]
  },
  {
   "cell_type": "code",
   "execution_count": null,
   "id": "940f5fdc",
   "metadata": {},
   "outputs": [],
   "source": [
    "df_29_IVT.head()"
   ]
  },
  {
   "cell_type": "code",
   "execution_count": null,
   "id": "f50d5e0f",
   "metadata": {},
   "outputs": [],
   "source": [
    "plt.figure(figsize=(12, 8))\n",
    "sns.heatmap(df_29_IVT[['Gaze X', 'Gaze Y', 'Interpolated Gaze X', 'Interpolated Gaze Y']].isnull(), cmap='viridis')\n",
    "plt.show()\n"
   ]
  },
  {
   "cell_type": "code",
   "execution_count": null,
   "id": "50670b5d",
   "metadata": {},
   "outputs": [],
   "source": []
  },
  {
   "cell_type": "markdown",
   "id": "9b768b53",
   "metadata": {},
   "source": [
    "# Observations on Gaze and Interpolated Gaze Data\n",
    "\n",
    "Based on the scatter plots of 'Gaze X' vs 'Gaze Y' and 'Interpolated Gaze X' vs 'Interpolated Gaze Y', we observe that the distributions of the raw and interpolated gaze points appear very similar. The spatial patterns of where the participant was looking are consistent between the two sets of coordinates.\n",
    "\n",
    "Furthermore, the heatmap of null values for these columns ('Gaze X', 'Gaze Y', 'Interpolated Gaze X', 'Interpolated Gaze Y') reveals that the missing values are present in the same rows for both the raw and interpolated gaze coordinates. This suggests that the interpolation process did not fill in the gaps in the raw gaze data for these specific instances.\n",
    "\n",
    "Given that the interpolated gaze data shows the same spatial distribution and the same pattern of null values as the raw gaze data, it appears that the interpolation did not significantly alter or complete the data in this case. Therefore, keeping both the raw and interpolated gaze columns might be redundant, and one set could potentially be dropped to simplify the dataset without losing significant information."
   ]
  },
  {
   "cell_type": "code",
   "execution_count": null,
   "id": "ff82d1d7",
   "metadata": {},
   "outputs": [],
   "source": [
    "df_29_IVT.drop(['Interpolated Gaze X', 'Interpolated Gaze Y'], axis=1, inplace=True)"
   ]
  },
  {
   "cell_type": "code",
   "execution_count": null,
   "id": "f10d4a68",
   "metadata": {},
   "outputs": [],
   "source": [
    "df_29_IVT.head()"
   ]
  },
  {
   "cell_type": "code",
   "execution_count": null,
   "id": "df5bf606",
   "metadata": {},
   "outputs": [],
   "source": [
    "plt.figure(figsize=(12, 8))\n",
    "sns.heatmap(df_29_IVT.isnull(), cmap='viridis')\n",
    "plt.show()"
   ]
  },
  {
   "cell_type": "code",
   "execution_count": null,
   "id": "bb4d003a",
   "metadata": {},
   "outputs": [],
   "source": [
    "df_29_IVT.columns"
   ]
  },
  {
   "cell_type": "code",
   "execution_count": null,
   "id": "e27047f6",
   "metadata": {},
   "outputs": [],
   "source": [
    "fix_1_df = df_29_IVT.dropna(subset=['Fixation Duration'])\n",
    "sac_1_df = df_29_IVT.dropna(subset=['Saccade Duration'])"
   ]
  },
  {
   "cell_type": "code",
   "execution_count": null,
   "id": "e4bed3dd",
   "metadata": {},
   "outputs": [],
   "source": [
    "fix_1_df.shape"
   ]
  },
  {
   "cell_type": "code",
   "execution_count": null,
   "id": "95c5f7ca",
   "metadata": {},
   "outputs": [],
   "source": [
    "sac_1_df.shape"
   ]
  },
  {
   "cell_type": "code",
   "execution_count": null,
   "id": "5b832137",
   "metadata": {},
   "outputs": [],
   "source": [
    "fix_1_feature = fix_1_df.groupby('QuestionKey').agg({\n",
    "    'Fixation Duration': ['count','mean','max','sum','var'],\n",
    "    'Fixation Dispersion': ['mean','max'],\n",
    "    'Fixation X': ['var'],   # screen spread X\n",
    "    'Fixation Y': ['var']    # screen spread Y\n",
    "})"
   ]
  },
  {
   "cell_type": "code",
   "execution_count": null,
   "id": "65700872",
   "metadata": {},
   "outputs": [],
   "source": [
    "fix_1_feature.columns = ['fix_count','fix_mean_dur','fix_max_dur','fix_total_time',\n",
    "                        'fix_dur_var','fix_disp_mean','fix_disp_max',\n",
    "                        'fix_x_var','fix_y_var']"
   ]
  },
  {
   "cell_type": "code",
   "execution_count": null,
   "id": "74a46c55",
   "metadata": {},
   "outputs": [],
   "source": [
    "fix_1_feature"
   ]
  },
  {
   "cell_type": "code",
   "execution_count": null,
   "id": "38858d25",
   "metadata": {},
   "outputs": [],
   "source": [
    "sac_1_features = sac_1_df.groupby('QuestionKey').agg({\n",
    "    'Saccade Duration': ['count','mean','sum'],\n",
    "    'Saccade Amplitude': ['mean','max'],\n",
    "    'Saccade Peak Velocity': ['mean','max'],\n",
    "    'Saccade Peak Acceleration': ['mean'],\n",
    "    'Saccade Peak Deceleration': ['mean'],\n",
    "    'Saccade Direction': ['var']   # direction variance\n",
    "})"
   ]
  },
  {
   "cell_type": "code",
   "execution_count": null,
   "id": "fccba6f1",
   "metadata": {},
   "outputs": [],
   "source": [
    "sac_1_features.columns = ['sac_count','sac_mean_dur','sac_total_time',\n",
    "                        'sac_amp_mean','sac_amp_max',\n",
    "                        'sac_vel_mean','sac_vel_max',\n",
    "                        'sac_acc_mean','sac_dec_mean','sac_dir_var']"
   ]
  },
  {
   "cell_type": "code",
   "execution_count": null,
   "id": "314524e6",
   "metadata": {},
   "outputs": [],
   "source": [
    "sac_1_features"
   ]
  },
  {
   "cell_type": "code",
   "execution_count": null,
   "id": "d18ebbb9",
   "metadata": {},
   "outputs": [],
   "source": [
    "ivt_1_features = fix_1_feature.join(sac_1_features, how='outer').fillna(0)"
   ]
  },
  {
   "cell_type": "code",
   "execution_count": null,
   "id": "636e203c",
   "metadata": {},
   "outputs": [],
   "source": [
    "ivt_1_features"
   ]
  },
  {
   "cell_type": "code",
   "execution_count": null,
   "id": "76a40d2c",
   "metadata": {},
   "outputs": [],
   "source": [
    "ivt_1_features['fix_sac_count_ratio'] = ivt_1_features['fix_count'] / (ivt_1_features['sac_count']+1e-5)\n",
    "ivt_1_features['fix_sac_time_ratio']  = ivt_1_features['fix_total_time'] / (ivt_1_features['sac_total_time']+1e-5)"
   ]
  },
  {
   "cell_type": "code",
   "execution_count": null,
   "id": "edcad220",
   "metadata": {},
   "outputs": [],
   "source": [
    "ivt_1_features"
   ]
  },
  {
   "cell_type": "code",
   "execution_count": null,
   "id": "cb611043",
   "metadata": {},
   "outputs": [],
   "source": []
  },
  {
   "cell_type": "markdown",
   "id": "a72f2933",
   "metadata": {},
   "source": [
    "# Aggregation of Fixation and Saccade Features\n",
    "\n",
    "In the preceding code cells, we performed aggregation on the `fix_1_df` and `sac_1_df` DataFrames, which contain the cleaned fixation and saccade data, respectively. The goal of this aggregation was to create a summary of eye-tracking metrics for each `QuestionKey`.\n",
    "\n",
    "For fixations, we calculated:\n",
    "- Count of fixations (`fix_count`)\n",
    "- Mean, max, sum, and variance of fixation duration (`fix_mean_dur`, `fix_max_dur`, `fix_total_time`, `fix_dur_var`)\n",
    "- Mean and max of fixation dispersion (`fix_disp_mean`, `fix_disp_max`)\n",
    "- Variance of fixation X and Y coordinates (`fix_x_var`, `fix_y_var`) to represent screen spread.\n",
    "\n",
    "For saccades, we calculated:\n",
    "- Count of saccades (`sac_count`)\n",
    "- Mean and sum of saccade duration (`sac_mean_dur`, `sac_total_time`)\n",
    "- Mean and max of saccade amplitude (`sac_amp_mean`, `sac_amp_max`)\n",
    "- Mean and max of saccade peak velocity (`sac_vel_mean`, `sac_vel_max`)\n",
    "- Mean of saccade peak acceleration and deceleration (`sac_acc_mean`, `sac_dec_mean`)\n",
    "- Variance of saccade direction (`sac_dir_var`).\n",
    "\n",
    "Finally, we joined these aggregated fixation and saccade features into a single DataFrame called `ivt_1_features`, using `QuestionKey` as the index. We also filled any resulting missing values (from `QuestionKey` values that may only have fixations or saccades, but not both) with 0. This `ivt_1_features` DataFrame now provides a consolidated summary of key eye-tracking characteristics for each question, which can be used for further analysis or modeling."
   ]
  },
  {
   "cell_type": "markdown",
   "id": "5f43c72a",
   "metadata": {},
   "source": [
    "# **30_IVT**"
   ]
  },
  {
   "cell_type": "code",
   "execution_count": null,
   "id": "7c1446b1",
   "metadata": {},
   "outputs": [],
   "source": [
    "df_30_IVT = pd.read_csv('data/STData/30/30_IVT.csv')"
   ]
  },
  {
   "cell_type": "code",
   "execution_count": null,
   "id": "fc21ceb3",
   "metadata": {},
   "outputs": [],
   "source": [
    "df_30_IVT.head()"
   ]
  },
  {
   "cell_type": "code",
   "execution_count": null,
   "id": "fa37314e",
   "metadata": {},
   "outputs": [],
   "source": [
    "df_30_IVT.columns"
   ]
  },
  {
   "cell_type": "code",
   "execution_count": null,
   "id": "6000c8de",
   "metadata": {},
   "outputs": [],
   "source": [
    "df_30_IVT.shape"
   ]
  },
  {
   "cell_type": "code",
   "execution_count": null,
   "id": "9bb5914e",
   "metadata": {},
   "outputs": [],
   "source": [
    "df_30_IVT.info()"
   ]
  },
  {
   "cell_type": "code",
   "execution_count": null,
   "id": "f86e1b53",
   "metadata": {},
   "outputs": [],
   "source": [
    "df_30_IVT.isnull().sum()"
   ]
  },
  {
   "cell_type": "code",
   "execution_count": null,
   "id": "e6f24d8a",
   "metadata": {},
   "outputs": [],
   "source": [
    "plt.figure(figsize=(14,10))\n",
    "sns.heatmap(df_30_IVT.isnull(), cmap='viridis')\n",
    "plt.show()"
   ]
  },
  {
   "cell_type": "markdown",
   "id": "54c1d36b",
   "metadata": {},
   "source": [
    "# Notes & Observations\n",
    "\n",
    "- We observe many **null** (or missing) values in the `QuestionKey` columns.\n",
    "- The nulls in the `QuestionKey` column may not represent “true” nulls. Rather, they follow interval patterns, suggesting that during those periods no question was displayed.\n",
    "- These missing values in `QuestionKey` require additional investigation and context-aware handling."
   ]
  },
  {
   "cell_type": "code",
   "execution_count": null,
   "id": "c7841660",
   "metadata": {},
   "outputs": [],
   "source": [
    "df_30_IVT['QuestionKey'].unique()"
   ]
  },
  {
   "cell_type": "code",
   "execution_count": null,
   "id": "effa1fe1",
   "metadata": {},
   "outputs": [],
   "source": [
    "df_30_IVT['Timestamp'] = pd.to_datetime(df_30_IVT['Timestamp'])"
   ]
  },
  {
   "cell_type": "code",
   "execution_count": null,
   "id": "236b802c",
   "metadata": {},
   "outputs": [],
   "source": [
    "df_30_IVT.head(3)"
   ]
  },
  {
   "cell_type": "code",
   "execution_count": null,
   "id": "417c4de4",
   "metadata": {},
   "outputs": [],
   "source": [
    "df_30_IVT['QuestionKey'].fillna('None', inplace=True)"
   ]
  },
  {
   "cell_type": "code",
   "execution_count": null,
   "id": "b1fa217b",
   "metadata": {},
   "outputs": [],
   "source": [
    "df_30_IVT['QuestionKey'].value_counts()"
   ]
  },
  {
   "cell_type": "code",
   "execution_count": null,
   "id": "352713c4",
   "metadata": {},
   "outputs": [],
   "source": [
    "plt.figure(figsize=(14,10))\n",
    "sns.heatmap(df_30_IVT.isnull(), cmap='viridis')\n",
    "plt.show()"
   ]
  },
  {
   "cell_type": "code",
   "execution_count": null,
   "id": "d90e697c",
   "metadata": {},
   "outputs": [],
   "source": [
    "df_30_IVT.isnull().sum()"
   ]
  },
  {
   "cell_type": "code",
   "execution_count": null,
   "id": "86849ca5",
   "metadata": {},
   "outputs": [],
   "source": [
    "df_30_IVT.head()"
   ]
  },
  {
   "cell_type": "code",
   "execution_count": null,
   "id": "91ec0abb",
   "metadata": {},
   "outputs": [],
   "source": [
    "df_30_IVT['Row'].unique()"
   ]
  },
  {
   "cell_type": "code",
   "execution_count": null,
   "id": "75ae9ebd",
   "metadata": {},
   "outputs": [],
   "source": [
    "plt.figure(figsize=(8,6))\n",
    "sns.histplot(df_30_IVT['Row'])\n",
    "plt.show()"
   ]
  },
  {
   "cell_type": "markdown",
   "id": "cd819b34",
   "metadata": {},
   "source": [
    "# Notes & Observations\n",
    "\n",
    "- The `Row` column appears to be a simple row index and does not provide meaningful information relevant to the eye-tracking data itself. Therefore, it can be dropped."
   ]
  },
  {
   "cell_type": "code",
   "execution_count": null,
   "id": "a6f2b9d2",
   "metadata": {},
   "outputs": [],
   "source": [
    "df_30_IVT.drop('Row', axis=1, inplace=True)"
   ]
  },
  {
   "cell_type": "code",
   "execution_count": null,
   "id": "20b4fcdf",
   "metadata": {},
   "outputs": [],
   "source": [
    "fig, axes = plt.subplots(1, 2, figsize=(20, 10))\n",
    "\n",
    "sns.scatterplot(data=df_30_IVT, x='Gaze X', y='Gaze Y', ax=axes[0])\n",
    "axes[0].set_title('Gaze X vs Gaze Y')\n",
    "\n",
    "sns.scatterplot(data=df_30_IVT, x='Interpolated Gaze X', y='Interpolated Gaze Y', ax=axes[1])\n",
    "axes[1].set_title('Interpolated Gaze X vs Interpolated Gaze Y')\n",
    "\n",
    "plt.tight_layout()\n",
    "plt.show()"
   ]
  },
  {
   "cell_type": "markdown",
   "id": "b735507c",
   "metadata": {},
   "source": [
    "# Gaze and Interpolated Gaze Scatter Plots\n",
    "\n",
    "The scatter plots above visualize the relationship between the x and y coordinates of both the raw gaze data and the interpolated gaze data.\n",
    "\n",
    "- **Gaze X vs Gaze Y:** This plot shows the raw gaze coordinates. The scattered points indicate the locations on the screen where the participant was looking. The density of points in certain areas might suggest regions of interest.\n",
    "- **Interpolated Gaze X vs Interpolated Gaze Y:** This plot shows the interpolated gaze coordinates. Interpolation is often used to fill in gaps in the raw gaze data, providing a smoother representation of the gaze path. Comparing this plot to the raw gaze plot can show the effect of the interpolation process.\n",
    "\n",
    "Both plots can help in understanding the distribution of gaze points across the screen and identifying potential patterns or biases in eye movements."
   ]
  },
  {
   "cell_type": "code",
   "execution_count": null,
   "id": "2a692e93",
   "metadata": {},
   "outputs": [],
   "source": [
    "df_30_IVT.describe()"
   ]
  },
  {
   "cell_type": "code",
   "execution_count": null,
   "id": "492f7894",
   "metadata": {},
   "outputs": [],
   "source": [
    "df_30_IVT.head(3)"
   ]
  },
  {
   "cell_type": "code",
   "execution_count": null,
   "id": "2d125603",
   "metadata": {},
   "outputs": [],
   "source": [
    "df_30_IVT['Timestamp'] = pd.to_datetime(df_30_IVT['Timestamp'])"
   ]
  },
  {
   "cell_type": "code",
   "execution_count": null,
   "id": "fffc3584",
   "metadata": {},
   "outputs": [],
   "source": [
    "df_30_IVT.columns"
   ]
  },
  {
   "cell_type": "code",
   "execution_count": null,
   "id": "b5e88547",
   "metadata": {},
   "outputs": [],
   "source": [
    "cols = ['Gaze X', 'Gaze Y',\n",
    "       'Interpolated Gaze X', 'Interpolated Gaze Y', 'Interpolated Distance',\n",
    "       'Gaze Velocity', 'Gaze Acceleration', 'Fixation Index',\n",
    "       'Fixation Index by Stimulus', 'Fixation X', 'Fixation Y',\n",
    "       'Fixation Start', 'Fixation End', 'Fixation Duration',\n",
    "       'Fixation Dispersion', 'Saccade Index', 'Saccade Index by Stimulus',\n",
    "       'Saccade Start', 'Saccade End', 'Saccade Duration', 'Saccade Amplitude',\n",
    "       'Saccade Peak Velocity', 'Saccade Peak Acceleration',\n",
    "       'Saccade Peak Deceleration', 'Saccade Direction']"
   ]
  },
  {
   "cell_type": "code",
   "execution_count": null,
   "id": "90da4379",
   "metadata": {},
   "outputs": [],
   "source": [
    "from IPython.display import display, Markdown\n",
    "\n",
    "for col in cols:\n",
    "    # Add a markdown cell before each plot for better separation and labeling\n",
    "    display(Markdown(f'### {col} over Time'))\n",
    "    plt.figure(figsize=(16, 10))\n",
    "    sns.lineplot(x=df_30_IVT['Timestamp'], y=df_30_IVT[col])\n",
    "    plt.xlabel(\"Timestamp\") # Add x-axis label\n",
    "    plt.ylabel(col) # Add y-axis label\n",
    "    plt.show()"
   ]
  },
  {
   "cell_type": "code",
   "execution_count": null,
   "id": "782dbfbb",
   "metadata": {},
   "outputs": [],
   "source": [
    "df_30_IVT.head()"
   ]
  },
  {
   "cell_type": "code",
   "execution_count": null,
   "id": "5918a7d7",
   "metadata": {},
   "outputs": [],
   "source": [
    "plt.figure(figsize=(14,10))\n",
    "sns.heatmap(df_30_IVT[['Fixation Index', 'Fixation Index by Stimulus', 'Saccade Index', 'Saccade Index by Stimulus']].isnull(), cmap='viridis')\n",
    "plt.show()"
   ]
  },
  {
   "cell_type": "markdown",
   "id": "082ddba8",
   "metadata": {},
   "source": [
    "# Observation\n",
    "\n",
    "The `Fixation Index`, `Fixation Index by Stimulus`, `Saccade Index` and `Saccade Index by Stimulus` columns are essentially just sequence numbers for identified events. While they indicate the order of fixations and saccades, they don't provide meaningful features for a machine learning model attempting to predict or classify eye movement patterns. Therefore, we will drop these columns as they are not useful for model building."
   ]
  },
  {
   "cell_type": "code",
   "execution_count": null,
   "id": "6456bd1f",
   "metadata": {},
   "outputs": [],
   "source": [
    "df_30_IVT.drop(['Fixation Index', 'Fixation Index by Stimulus', 'Saccade Index', 'Saccade Index by Stimulus'], axis=1, inplace=True)"
   ]
  },
  {
   "cell_type": "code",
   "execution_count": null,
   "id": "045226e1",
   "metadata": {},
   "outputs": [],
   "source": [
    "plt.figure(figsize=(14,10))\n",
    "sns.scatterplot(data=df_30_IVT, x='Fixation X', y='Fixation Y')\n",
    "plt.title('Fixation X vs Fixation Y')\n",
    "plt.show()"
   ]
  },
  {
   "cell_type": "code",
   "execution_count": null,
   "id": "9fea2e0d",
   "metadata": {},
   "outputs": [],
   "source": [
    "df_30_IVT['Fixation Start'].describe()"
   ]
  },
  {
   "cell_type": "code",
   "execution_count": null,
   "id": "999fec6d",
   "metadata": {},
   "outputs": [],
   "source": [
    "fig, axes = plt.subplots(1, 2, figsize=(20, 8))\n",
    "\n",
    "sns.histplot(df_30_IVT['Fixation Start'], bins=100, kde=True, ax=axes[0])\n",
    "axes[0].set_xlabel('Fixation Start')\n",
    "axes[0].set_ylabel('Frequency')\n",
    "axes[0].set_title('Distribution of Fixation Start')\n",
    "\n",
    "sns.histplot(df_30_IVT['Fixation End'], bins=100, kde=True, ax=axes[1])\n",
    "axes[1].set_xlabel('Fixation End')\n",
    "axes[1].set_ylabel('Frequency')\n",
    "axes[1].set_title('Distribution of Fixation End')\n",
    "\n",
    "plt.tight_layout()\n",
    "plt.show()"
   ]
  },
  {
   "cell_type": "code",
   "execution_count": null,
   "id": "661fef23",
   "metadata": {},
   "outputs": [],
   "source": [
    "fig, axes = plt.subplots(1, 2, figsize=(20, 8))\n",
    "\n",
    "sns.histplot(df_30_IVT['Saccade Start'], bins=100, kde=True, ax=axes[0])\n",
    "axes[0].set_xlabel('Saccade Start')\n",
    "axes[0].set_ylabel('Frequency')\n",
    "axes[0].set_title('Distribution of Saccade Start')\n",
    "\n",
    "sns.histplot(df_30_IVT['Saccade End'], bins=100, kde=True, ax=axes[1])\n",
    "axes[1].set_xlabel('Saccade End')\n",
    "axes[1].set_ylabel('Frequency')\n",
    "axes[1].set_title('Distribution of Saccade End')\n",
    "\n",
    "plt.tight_layout()\n",
    "plt.show()"
   ]
  },
  {
   "cell_type": "markdown",
   "id": "a7387784",
   "metadata": {},
   "source": [
    "# Observation on Fixation and Saccade Timestamps\n",
    "\n",
    "Upon examining the time series plots of 'Fixation Start', 'Fixation End', `Saccade Start`, and `Saccade End` against the `Timestamp`, we observe a clear linear, diagonal pattern. This indicates that these values are largely sequential and directly related to the progress of time in the data recording.\n",
    "\n",
    "Furthermore, the histograms of these features show distributions that, while informative about the timing of events, don't necessarily reveal complex patterns that would be highly predictive for a machine learning model.\n",
    "\n",
    "Crucially, the dataset already contains `Fixation Duration` and `Saccade Duration` columns. These duration features capture the length of each event, which is often a more directly relevant metric for understanding eye movement behavior than the absolute start and end times. Since the duration can be derived from the start and end times (Duration = End - Start), the start and end time columns introduce redundancy and do not provide substantial additional, independent information for modeling purposes.\n",
    "\n",
    "Therefore, to simplify the dataset and focus on the most informative features for potential machine movement analysis or modeling, we will drop the `Fixation Start`, `Fixation End`, `Saccade Start`, and `Saccade End` columns."
   ]
  },
  {
   "cell_type": "code",
   "execution_count": null,
   "id": "173858d1",
   "metadata": {},
   "outputs": [],
   "source": [
    "df_30_IVT.drop(['Fixation Start', 'Fixation End', 'Saccade Start', 'Saccade End'], axis=1, inplace=True)"
   ]
  },
  {
   "cell_type": "code",
   "execution_count": null,
   "id": "7b3fa4a0",
   "metadata": {},
   "outputs": [],
   "source": [
    "df_30_IVT.head()"
   ]
  },
  {
   "cell_type": "code",
   "execution_count": null,
   "id": "087cb10d",
   "metadata": {},
   "outputs": [],
   "source": [
    "plt.figure(figsize=(12, 8))\n",
    "sns.heatmap(df_30_IVT[['Gaze X', 'Gaze Y', 'Interpolated Gaze X', 'Interpolated Gaze Y']].isnull(), cmap='viridis')\n",
    "plt.show()\n"
   ]
  },
  {
   "cell_type": "code",
   "execution_count": null,
   "id": "161ed45c",
   "metadata": {},
   "outputs": [],
   "source": []
  },
  {
   "cell_type": "markdown",
   "id": "f20dae8b",
   "metadata": {},
   "source": [
    "# Observations on Gaze and Interpolated Gaze Data\n",
    "\n",
    "Based on the scatter plots of 'Gaze X' vs 'Gaze Y' and 'Interpolated Gaze X' vs 'Interpolated Gaze Y', we observe that the distributions of the raw and interpolated gaze points appear very similar. The spatial patterns of where the participant was looking are consistent between the two sets of coordinates.\n",
    "\n",
    "Furthermore, the heatmap of null values for these columns ('Gaze X', 'Gaze Y', 'Interpolated Gaze X', 'Interpolated Gaze Y') reveals that the missing values are present in the same rows for both the raw and interpolated gaze coordinates. This suggests that the interpolation process did not fill in the gaps in the raw gaze data for these specific instances.\n",
    "\n",
    "Given that the interpolated gaze data shows the same spatial distribution and the same pattern of null values as the raw gaze data, it appears that the interpolation did not significantly alter or complete the data in this case. Therefore, keeping both the raw and interpolated gaze columns might be redundant, and one set could potentially be dropped to simplify the dataset without losing significant information."
   ]
  },
  {
   "cell_type": "code",
   "execution_count": null,
   "id": "2641d3cf",
   "metadata": {},
   "outputs": [],
   "source": [
    "df_30_IVT.drop(['Interpolated Gaze X', 'Interpolated Gaze Y'], axis=1, inplace=True)"
   ]
  },
  {
   "cell_type": "code",
   "execution_count": null,
   "id": "cc2cdf89",
   "metadata": {},
   "outputs": [],
   "source": [
    "df_30_IVT.head()"
   ]
  },
  {
   "cell_type": "code",
   "execution_count": null,
   "id": "0a3c391f",
   "metadata": {},
   "outputs": [],
   "source": [
    "plt.figure(figsize=(12, 8))\n",
    "sns.heatmap(df_30_IVT.isnull(), cmap='viridis')\n",
    "plt.show()"
   ]
  },
  {
   "cell_type": "code",
   "execution_count": null,
   "id": "5d11ad9f",
   "metadata": {},
   "outputs": [],
   "source": [
    "df_30_IVT.columns"
   ]
  },
  {
   "cell_type": "code",
   "execution_count": null,
   "id": "c0fd7f65",
   "metadata": {},
   "outputs": [],
   "source": [
    "fix_1_df = df_30_IVT.dropna(subset=['Fixation Duration'])\n",
    "sac_1_df = df_30_IVT.dropna(subset=['Saccade Duration'])"
   ]
  },
  {
   "cell_type": "code",
   "execution_count": null,
   "id": "905df39d",
   "metadata": {},
   "outputs": [],
   "source": [
    "fix_1_df.shape"
   ]
  },
  {
   "cell_type": "code",
   "execution_count": null,
   "id": "1376f9f9",
   "metadata": {},
   "outputs": [],
   "source": [
    "sac_1_df.shape"
   ]
  },
  {
   "cell_type": "code",
   "execution_count": null,
   "id": "06d955e3",
   "metadata": {},
   "outputs": [],
   "source": [
    "fix_1_feature = fix_1_df.groupby('QuestionKey').agg({\n",
    "    'Fixation Duration': ['count','mean','max','sum','var'],\n",
    "    'Fixation Dispersion': ['mean','max'],\n",
    "    'Fixation X': ['var'],   # screen spread X\n",
    "    'Fixation Y': ['var']    # screen spread Y\n",
    "})"
   ]
  },
  {
   "cell_type": "code",
   "execution_count": null,
   "id": "85dd679d",
   "metadata": {},
   "outputs": [],
   "source": [
    "fix_1_feature.columns = ['fix_count','fix_mean_dur','fix_max_dur','fix_total_time',\n",
    "                        'fix_dur_var','fix_disp_mean','fix_disp_max',\n",
    "                        'fix_x_var','fix_y_var']"
   ]
  },
  {
   "cell_type": "code",
   "execution_count": null,
   "id": "d94ba44c",
   "metadata": {},
   "outputs": [],
   "source": [
    "fix_1_feature"
   ]
  },
  {
   "cell_type": "code",
   "execution_count": null,
   "id": "2f711eeb",
   "metadata": {},
   "outputs": [],
   "source": [
    "sac_1_features = sac_1_df.groupby('QuestionKey').agg({\n",
    "    'Saccade Duration': ['count','mean','sum'],\n",
    "    'Saccade Amplitude': ['mean','max'],\n",
    "    'Saccade Peak Velocity': ['mean','max'],\n",
    "    'Saccade Peak Acceleration': ['mean'],\n",
    "    'Saccade Peak Deceleration': ['mean'],\n",
    "    'Saccade Direction': ['var']   # direction variance\n",
    "})"
   ]
  },
  {
   "cell_type": "code",
   "execution_count": null,
   "id": "bcf57cd0",
   "metadata": {},
   "outputs": [],
   "source": [
    "sac_1_features.columns = ['sac_count','sac_mean_dur','sac_total_time',\n",
    "                        'sac_amp_mean','sac_amp_max',\n",
    "                        'sac_vel_mean','sac_vel_max',\n",
    "                        'sac_acc_mean','sac_dec_mean','sac_dir_var']"
   ]
  },
  {
   "cell_type": "code",
   "execution_count": null,
   "id": "22439296",
   "metadata": {},
   "outputs": [],
   "source": [
    "sac_1_features"
   ]
  },
  {
   "cell_type": "code",
   "execution_count": null,
   "id": "eb3bf4d8",
   "metadata": {},
   "outputs": [],
   "source": [
    "ivt_1_features = fix_1_feature.join(sac_1_features, how='outer').fillna(0)"
   ]
  },
  {
   "cell_type": "code",
   "execution_count": null,
   "id": "bd313451",
   "metadata": {},
   "outputs": [],
   "source": [
    "ivt_1_features"
   ]
  },
  {
   "cell_type": "code",
   "execution_count": null,
   "id": "b56de3ae",
   "metadata": {},
   "outputs": [],
   "source": [
    "ivt_1_features['fix_sac_count_ratio'] = ivt_1_features['fix_count'] / (ivt_1_features['sac_count']+1e-5)\n",
    "ivt_1_features['fix_sac_time_ratio']  = ivt_1_features['fix_total_time'] / (ivt_1_features['sac_total_time']+1e-5)"
   ]
  },
  {
   "cell_type": "code",
   "execution_count": null,
   "id": "39ecf13d",
   "metadata": {},
   "outputs": [],
   "source": [
    "ivt_1_features"
   ]
  },
  {
   "cell_type": "code",
   "execution_count": null,
   "id": "85bfd50e",
   "metadata": {},
   "outputs": [],
   "source": []
  },
  {
   "cell_type": "markdown",
   "id": "fcc6f22c",
   "metadata": {},
   "source": [
    "# Aggregation of Fixation and Saccade Features\n",
    "\n",
    "In the preceding code cells, we performed aggregation on the `fix_1_df` and `sac_1_df` DataFrames, which contain the cleaned fixation and saccade data, respectively. The goal of this aggregation was to create a summary of eye-tracking metrics for each `QuestionKey`.\n",
    "\n",
    "For fixations, we calculated:\n",
    "- Count of fixations (`fix_count`)\n",
    "- Mean, max, sum, and variance of fixation duration (`fix_mean_dur`, `fix_max_dur`, `fix_total_time`, `fix_dur_var`)\n",
    "- Mean and max of fixation dispersion (`fix_disp_mean`, `fix_disp_max`)\n",
    "- Variance of fixation X and Y coordinates (`fix_x_var`, `fix_y_var`) to represent screen spread.\n",
    "\n",
    "For saccades, we calculated:\n",
    "- Count of saccades (`sac_count`)\n",
    "- Mean and sum of saccade duration (`sac_mean_dur`, `sac_total_time`)\n",
    "- Mean and max of saccade amplitude (`sac_amp_mean`, `sac_amp_max`)\n",
    "- Mean and max of saccade peak velocity (`sac_vel_mean`, `sac_vel_max`)\n",
    "- Mean of saccade peak acceleration and deceleration (`sac_acc_mean`, `sac_dec_mean`)\n",
    "- Variance of saccade direction (`sac_dir_var`).\n",
    "\n",
    "Finally, we joined these aggregated fixation and saccade features into a single DataFrame called `ivt_1_features`, using `QuestionKey` as the index. We also filled any resulting missing values (from `QuestionKey` values that may only have fixations or saccades, but not both) with 0. This `ivt_1_features` DataFrame now provides a consolidated summary of key eye-tracking characteristics for each question, which can be used for further analysis or modeling."
   ]
  }
 ],
 "metadata": {},
 "nbformat": 4,
 "nbformat_minor": 5
}
