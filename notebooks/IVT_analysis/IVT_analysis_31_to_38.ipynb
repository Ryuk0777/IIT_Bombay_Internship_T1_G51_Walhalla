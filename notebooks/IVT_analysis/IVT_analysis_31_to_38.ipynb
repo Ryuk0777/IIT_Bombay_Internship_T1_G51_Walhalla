{
 "cells": [
  {
   "cell_type": "code",
   "execution_count": null,
   "id": "1d73bdc6",
   "metadata": {
    "colab": {
     "base_uri": "https://localhost:8080/"
    },
    "id": "DWmJEurbfdoV",
    "outputId": "3d151f86-ed9a-4b77-ec18-0eb45de60d7e"
   },
   "outputs": [
    {
     "name": "stdout",
     "output_type": "stream",
     "text": [
      "The cudf module is not an IPython extension.\n"
     ]
    }
   ],
   "source": [
    "%load_ext cudf"
   ]
  },
  {
   "cell_type": "code",
   "execution_count": null,
   "id": "18dd3f26",
   "metadata": {
    "id": "eBuVubKFfuYh"
   },
   "outputs": [],
   "source": [
    "import numpy as np\n",
    "import pandas as pd\n",
    "import matplotlib.pyplot as plt\n",
    "import seaborn as sns"
   ]
  },
  {
   "cell_type": "code",
   "execution_count": null,
   "id": "d52b1d10",
   "metadata": {
    "id": "soLuBzXpfwNa"
   },
   "outputs": [],
   "source": [
    "import datashader as ds\n",
    "import datashader.transfer_functions as tf"
   ]
  },
  {
   "cell_type": "code",
   "execution_count": null,
   "id": "6e1705b3",
   "metadata": {
    "id": "W7ku1CqXfyFa"
   },
   "outputs": [],
   "source": [
    "pd.set_option('display.max_columns', None)"
   ]
  },
  {
   "cell_type": "markdown",
   "id": "0bbc1b89",
   "metadata": {},
   "source": [
    "## IVT 31"
   ]
  },
  {
   "cell_type": "code",
   "execution_count": null,
   "id": "b66c7fe2",
   "metadata": {},
   "outputs": [],
   "source": [
    "df_31_IVT = pd.read_csv('data/STData/31/31_IVT.csv')"
   ]
  },
  {
   "cell_type": "code",
   "execution_count": null,
   "id": "f31db0b2",
   "metadata": {},
   "outputs": [],
   "source": [
    "df_31_IVT.head()"
   ]
  },
  {
   "cell_type": "code",
   "execution_count": null,
   "id": "f5af0433",
   "metadata": {},
   "outputs": [],
   "source": [
    "df_31_IVT.columns"
   ]
  },
  {
   "cell_type": "code",
   "execution_count": null,
   "id": "af0a9849",
   "metadata": {},
   "outputs": [],
   "source": [
    "df_31_IVT.shape"
   ]
  },
  {
   "cell_type": "code",
   "execution_count": null,
   "id": "c2104d61",
   "metadata": {},
   "outputs": [],
   "source": [
    "df_31_IVT.info()"
   ]
  },
  {
   "cell_type": "code",
   "execution_count": null,
   "id": "f10f0ffa",
   "metadata": {},
   "outputs": [],
   "source": [
    "df_31_IVT.isnull().sum()"
   ]
  },
  {
   "cell_type": "code",
   "execution_count": null,
   "id": "226fdb85",
   "metadata": {},
   "outputs": [],
   "source": [
    "plt.figure(figsize=(14,10))\n",
    "sns.heatmap(df_31_IVT.isnull(), cmap='viridis')\n",
    "plt.show()"
   ]
  },
  {
   "cell_type": "markdown",
   "id": "54fda5b7",
   "metadata": {},
   "source": [
    "# Notes & Observations\n",
    "\n",
    "- We observe many **null** (or missing) values in the `QuestionKey` columns.\n",
    "- The nulls in the `QuestionKey` column may not represent “true” nulls. Rather, they follow interval patterns, suggesting that during those periods no question was displayed.\n",
    "- These missing values in `QuestionKey` require additional investigation and context-aware handling."
   ]
  },
  {
   "cell_type": "code",
   "execution_count": null,
   "id": "d28f7c2b",
   "metadata": {},
   "outputs": [],
   "source": [
    "df_31_IVT['QuestionKey'].unique()"
   ]
  },
  {
   "cell_type": "code",
   "execution_count": null,
   "id": "b6727c91",
   "metadata": {},
   "outputs": [],
   "source": [
    "df_31_IVT['Timestamp'] = pd.to_datetime(df_31_IVT['Timestamp'])"
   ]
  },
  {
   "cell_type": "code",
   "execution_count": null,
   "id": "dedaa4a7",
   "metadata": {},
   "outputs": [],
   "source": [
    "df_31_IVT.head(3)"
   ]
  },
  {
   "cell_type": "code",
   "execution_count": null,
   "id": "6b731d80",
   "metadata": {},
   "outputs": [],
   "source": [
    "df_31_IVT['QuestionKey'].fillna('None', inplace=True)"
   ]
  },
  {
   "cell_type": "code",
   "execution_count": null,
   "id": "4167ffe8",
   "metadata": {},
   "outputs": [],
   "source": [
    "df_31_IVT['QuestionKey'].value_counts()"
   ]
  },
  {
   "cell_type": "code",
   "execution_count": null,
   "id": "eb666b9b",
   "metadata": {},
   "outputs": [],
   "source": [
    "plt.figure(figsize=(14,10))\n",
    "sns.heatmap(df_31_IVT.isnull(), cmap='viridis')\n",
    "plt.show()"
   ]
  },
  {
   "cell_type": "code",
   "execution_count": null,
   "id": "ff397755",
   "metadata": {},
   "outputs": [],
   "source": [
    "df_31_IVT.isnull().sum()"
   ]
  },
  {
   "cell_type": "code",
   "execution_count": null,
   "id": "304bc884",
   "metadata": {},
   "outputs": [],
   "source": [
    "df_31_IVT.head()"
   ]
  },
  {
   "cell_type": "code",
   "execution_count": null,
   "id": "cd3d620e",
   "metadata": {},
   "outputs": [],
   "source": [
    "df_31_IVT['Row'].unique()"
   ]
  },
  {
   "cell_type": "code",
   "execution_count": null,
   "id": "f382dbad",
   "metadata": {},
   "outputs": [],
   "source": [
    "plt.figure(figsize=(8,6))\n",
    "sns.histplot(df_31_IVT['Row'])\n",
    "plt.show()"
   ]
  },
  {
   "cell_type": "markdown",
   "id": "2e4766de",
   "metadata": {},
   "source": [
    "# Notes & Observations\n",
    "\n",
    "- The `Row` column appears to be a simple row index and does not provide meaningful information relevant to the eye-tracking data itself. Therefore, it can be dropped."
   ]
  },
  {
   "cell_type": "code",
   "execution_count": null,
   "id": "5f90a782",
   "metadata": {},
   "outputs": [],
   "source": [
    "df_31_IVT.drop('Row', axis=1, inplace=True)"
   ]
  },
  {
   "cell_type": "code",
   "execution_count": null,
   "id": "f46db1e5",
   "metadata": {},
   "outputs": [],
   "source": [
    "fig, axes = plt.subplots(1, 2, figsize=(20, 10))\n",
    "\n",
    "sns.scatterplot(data=df_31_IVT, x='Gaze X', y='Gaze Y', ax=axes[0])\n",
    "axes[0].set_title('Gaze X vs Gaze Y')\n",
    "\n",
    "sns.scatterplot(data=df_31_IVT, x='Interpolated Gaze X', y='Interpolated Gaze Y', ax=axes[1])\n",
    "axes[1].set_title('Interpolated Gaze X vs Interpolated Gaze Y')\n",
    "\n",
    "plt.tight_layout()\n",
    "plt.show()"
   ]
  },
  {
   "cell_type": "markdown",
   "id": "98fe983e",
   "metadata": {},
   "source": [
    "# Gaze and Interpolated Gaze Scatter Plots\n",
    "\n",
    "The scatter plots above visualize the relationship between the x and y coordinates of both the raw gaze data and the interpolated gaze data.\n",
    "\n",
    "- **Gaze X vs Gaze Y:** This plot shows the raw gaze coordinates. The scattered points indicate the locations on the screen where the participant was looking. The density of points in certain areas might suggest regions of interest.\n",
    "- **Interpolated Gaze X vs Interpolated Gaze Y:** This plot shows the interpolated gaze coordinates. Interpolation is often used to fill in gaps in the raw gaze data, providing a smoother representation of the gaze path. Comparing this plot to the raw gaze plot can show the effect of the interpolation process.\n",
    "\n",
    "Both plots can help in understanding the distribution of gaze points across the screen and identifying potential patterns or biases in eye movements."
   ]
  },
  {
   "cell_type": "code",
   "execution_count": null,
   "id": "aad75f3b",
   "metadata": {},
   "outputs": [],
   "source": [
    "df_31_IVT.describe()"
   ]
  },
  {
   "cell_type": "code",
   "execution_count": null,
   "id": "f1d581d9",
   "metadata": {},
   "outputs": [],
   "source": [
    "df_31_IVT.head(3)"
   ]
  },
  {
   "cell_type": "code",
   "execution_count": null,
   "id": "62af308f",
   "metadata": {},
   "outputs": [],
   "source": [
    "df_31_IVT['Timestamp'] = pd.to_datetime(df_31_IVT['Timestamp'])"
   ]
  },
  {
   "cell_type": "code",
   "execution_count": null,
   "id": "02f79c45",
   "metadata": {},
   "outputs": [],
   "source": [
    "df_31_IVT.columns"
   ]
  },
  {
   "cell_type": "code",
   "execution_count": null,
   "id": "069e3243",
   "metadata": {},
   "outputs": [],
   "source": [
    "cols = ['Gaze X', 'Gaze Y',\n",
    "       'Interpolated Gaze X', 'Interpolated Gaze Y', 'Interpolated Distance',\n",
    "       'Gaze Velocity', 'Gaze Acceleration', 'Fixation Index',\n",
    "       'Fixation Index by Stimulus', 'Fixation X', 'Fixation Y',\n",
    "       'Fixation Start', 'Fixation End', 'Fixation Duration',\n",
    "       'Fixation Dispersion', 'Saccade Index', 'Saccade Index by Stimulus',\n",
    "       'Saccade Start', 'Saccade End', 'Saccade Duration', 'Saccade Amplitude',\n",
    "       'Saccade Peak Velocity', 'Saccade Peak Acceleration',\n",
    "       'Saccade Peak Deceleration', 'Saccade Direction']"
   ]
  },
  {
   "cell_type": "code",
   "execution_count": null,
   "id": "5edabd70",
   "metadata": {},
   "outputs": [],
   "source": [
    "from IPython.display import display, Markdown\n",
    "\n",
    "for col in cols:\n",
    "    # Add a markdown cell before each plot for better separation and labeling\n",
    "    display(Markdown(f'### {col} over Time'))\n",
    "    plt.figure(figsize=(16, 10))\n",
    "    sns.lineplot(x=df_31_IVT['Timestamp'], y=df_31_IVT[col])\n",
    "    plt.xlabel(\"Timestamp\") # Add x-axis label\n",
    "    plt.ylabel(col) # Add y-axis label\n",
    "    plt.show()"
   ]
  },
  {
   "cell_type": "code",
   "execution_count": null,
   "id": "bdc17d73",
   "metadata": {},
   "outputs": [],
   "source": [
    "df_31_IVT.head()"
   ]
  },
  {
   "cell_type": "code",
   "execution_count": null,
   "id": "c2495fbd",
   "metadata": {},
   "outputs": [],
   "source": [
    "plt.figure(figsize=(14,10))\n",
    "sns.heatmap(df_31_IVT[['Fixation Index', 'Fixation Index by Stimulus', 'Saccade Index', 'Saccade Index by Stimulus']].isnull(), cmap='viridis')\n",
    "plt.show()"
   ]
  },
  {
   "cell_type": "markdown",
   "id": "b18f65e5",
   "metadata": {},
   "source": [
    "# Observation\n",
    "\n",
    "The `Fixation Index`, `Fixation Index by Stimulus`, `Saccade Index` and `Saccade Index by Stimulus` columns are essentially just sequence numbers for identified events. While they indicate the order of fixations and saccades, they don't provide meaningful features for a machine learning model attempting to predict or classify eye movement patterns. Therefore, we will drop these columns as they are not useful for model building."
   ]
  },
  {
   "cell_type": "code",
   "execution_count": null,
   "id": "9f15f031",
   "metadata": {},
   "outputs": [],
   "source": [
    "df_31_IVT.drop(['Fixation Index', 'Fixation Index by Stimulus', 'Saccade Index', 'Saccade Index by Stimulus'], axis=1, inplace=True)"
   ]
  },
  {
   "cell_type": "code",
   "execution_count": null,
   "id": "ed5c7989",
   "metadata": {},
   "outputs": [],
   "source": [
    "plt.figure(figsize=(14,10))\n",
    "sns.scatterplot(data=df_31_IVT, x='Fixation X', y='Fixation Y')\n",
    "plt.title('Fixation X vs Fixation Y')\n",
    "plt.show()"
   ]
  },
  {
   "cell_type": "code",
   "execution_count": null,
   "id": "ac05cef3",
   "metadata": {},
   "outputs": [],
   "source": [
    "df_31_IVT['Fixation Start'].describe()"
   ]
  },
  {
   "cell_type": "code",
   "execution_count": null,
   "id": "f4aaff25",
   "metadata": {},
   "outputs": [],
   "source": [
    "fig, axes = plt.subplots(1, 2, figsize=(20, 8))\n",
    "\n",
    "sns.histplot(df_31_IVT['Fixation Start'], bins=100, kde=True, ax=axes[0])\n",
    "axes[0].set_xlabel('Fixation Start')\n",
    "axes[0].set_ylabel('Frequency')\n",
    "axes[0].set_title('Distribution of Fixation Start')\n",
    "\n",
    "sns.histplot(df_31_IVT['Fixation End'], bins=100, kde=True, ax=axes[1])\n",
    "axes[1].set_xlabel('Fixation End')\n",
    "axes[1].set_ylabel('Frequency')\n",
    "axes[1].set_title('Distribution of Fixation End')\n",
    "\n",
    "plt.tight_layout()\n",
    "plt.show()"
   ]
  },
  {
   "cell_type": "code",
   "execution_count": null,
   "id": "23beced5",
   "metadata": {},
   "outputs": [],
   "source": [
    "fig, axes = plt.subplots(1, 2, figsize=(20, 8))\n",
    "\n",
    "sns.histplot(df_31_IVT['Saccade Start'], bins=100, kde=True, ax=axes[0])\n",
    "axes[0].set_xlabel('Saccade Start')\n",
    "axes[0].set_ylabel('Frequency')\n",
    "axes[0].set_title('Distribution of Saccade Start')\n",
    "\n",
    "sns.histplot(df_31_IVT['Saccade End'], bins=100, kde=True, ax=axes[1])\n",
    "axes[1].set_xlabel('Saccade End')\n",
    "axes[1].set_ylabel('Frequency')\n",
    "axes[1].set_title('Distribution of Saccade End')\n",
    "\n",
    "plt.tight_layout()\n",
    "plt.show()"
   ]
  },
  {
   "cell_type": "markdown",
   "id": "444b7e4b",
   "metadata": {},
   "source": [
    "# Observation on Fixation and Saccade Timestamps\n",
    "\n",
    "Upon examining the time series plots of 'Fixation Start', 'Fixation End', `Saccade Start`, and `Saccade End` against the `Timestamp`, we observe a clear linear, diagonal pattern. This indicates that these values are largely sequential and directly related to the progress of time in the data recording.\n",
    "\n",
    "Furthermore, the histograms of these features show distributions that, while informative about the timing of events, don't necessarily reveal complex patterns that would be highly predictive for a machine learning model.\n",
    "\n",
    "Crucially, the dataset already contains `Fixation Duration` and `Saccade Duration` columns. These duration features capture the length of each event, which is often a more directly relevant metric for understanding eye movement behavior than the absolute start and end times. Since the duration can be derived from the start and end times (Duration = End - Start), the start and end time columns introduce redundancy and do not provide substantial additional, independent information for modeling purposes.\n",
    "\n",
    "Therefore, to simplify the dataset and focus on the most informative features for potential machine movement analysis or modeling, we will drop the `Fixation Start`, `Fixation End`, `Saccade Start`, and `Saccade End` columns."
   ]
  },
  {
   "cell_type": "code",
   "execution_count": null,
   "id": "ee0f35c6",
   "metadata": {},
   "outputs": [],
   "source": [
    "df_31_IVT.drop(['Fixation Start', 'Fixation End', 'Saccade Start', 'Saccade End'], axis=1, inplace=True)"
   ]
  },
  {
   "cell_type": "code",
   "execution_count": null,
   "id": "dfa74881",
   "metadata": {},
   "outputs": [],
   "source": [
    "df_31_IVT.head()"
   ]
  },
  {
   "cell_type": "code",
   "execution_count": null,
   "id": "560bb291",
   "metadata": {},
   "outputs": [],
   "source": [
    "plt.figure(figsize=(12, 8))\n",
    "sns.heatmap(df_31_IVT[['Gaze X', 'Gaze Y', 'Interpolated Gaze X', 'Interpolated Gaze Y']].isnull(), cmap='viridis')\n",
    "plt.show()\n"
   ]
  },
  {
   "cell_type": "code",
   "execution_count": null,
   "id": "0922eabe",
   "metadata": {},
   "outputs": [],
   "source": []
  },
  {
   "cell_type": "markdown",
   "id": "9ebf525b",
   "metadata": {},
   "source": [
    "# Observations on Gaze and Interpolated Gaze Data\n",
    "\n",
    "Based on the scatter plots of 'Gaze X' vs 'Gaze Y' and 'Interpolated Gaze X' vs 'Interpolated Gaze Y', we observe that the distributions of the raw and interpolated gaze points appear very similar. The spatial patterns of where the participant was looking are consistent between the two sets of coordinates.\n",
    "\n",
    "Furthermore, the heatmap of null values for these columns ('Gaze X', 'Gaze Y', 'Interpolated Gaze X', 'Interpolated Gaze Y') reveals that the missing values are present in the same rows for both the raw and interpolated gaze coordinates. This suggests that the interpolation process did not fill in the gaps in the raw gaze data for these specific instances.\n",
    "\n",
    "Given that the interpolated gaze data shows the same spatial distribution and the same pattern of null values as the raw gaze data, it appears that the interpolation did not significantly alter or complete the data in this case. Therefore, keeping both the raw and interpolated gaze columns might be redundant, and one set could potentially be dropped to simplify the dataset without losing significant information."
   ]
  },
  {
   "cell_type": "code",
   "execution_count": null,
   "id": "4f75c72d",
   "metadata": {},
   "outputs": [],
   "source": [
    "df_31_IVT.drop(['Interpolated Gaze X', 'Interpolated Gaze Y'], axis=1, inplace=True)"
   ]
  },
  {
   "cell_type": "code",
   "execution_count": null,
   "id": "7327ad85",
   "metadata": {},
   "outputs": [],
   "source": [
    "df_31_IVT.head()"
   ]
  },
  {
   "cell_type": "code",
   "execution_count": null,
   "id": "5ab996d3",
   "metadata": {},
   "outputs": [],
   "source": [
    "plt.figure(figsize=(12, 8))\n",
    "sns.heatmap(df_31_IVT.isnull(), cmap='viridis')\n",
    "plt.show()"
   ]
  },
  {
   "cell_type": "code",
   "execution_count": null,
   "id": "a4b71e76",
   "metadata": {},
   "outputs": [],
   "source": [
    "df_31_IVT.columns"
   ]
  },
  {
   "cell_type": "code",
   "execution_count": null,
   "id": "5ad1d37d",
   "metadata": {},
   "outputs": [],
   "source": [
    "fix_1_df = df_31_IVT.dropna(subset=['Fixation Duration'])\n",
    "sac_1_df = df_31_IVT.dropna(subset=['Saccade Duration'])"
   ]
  },
  {
   "cell_type": "code",
   "execution_count": null,
   "id": "b223122e",
   "metadata": {},
   "outputs": [],
   "source": [
    "fix_1_df.shape"
   ]
  },
  {
   "cell_type": "code",
   "execution_count": null,
   "id": "88ab91bf",
   "metadata": {},
   "outputs": [],
   "source": [
    "sac_1_df.shape"
   ]
  },
  {
   "cell_type": "code",
   "execution_count": null,
   "id": "bbb0fc40",
   "metadata": {},
   "outputs": [],
   "source": [
    "fix_1_feature = fix_1_df.groupby('QuestionKey').agg({\n",
    "    'Fixation Duration': ['count','mean','max','sum','var'],\n",
    "    'Fixation Dispersion': ['mean','max'],\n",
    "    'Fixation X': ['var'],   # screen spread X\n",
    "    'Fixation Y': ['var']    # screen spread Y\n",
    "})"
   ]
  },
  {
   "cell_type": "code",
   "execution_count": null,
   "id": "e2d6b6af",
   "metadata": {},
   "outputs": [],
   "source": [
    "fix_1_feature.columns = ['fix_count','fix_mean_dur','fix_max_dur','fix_total_time',\n",
    "                        'fix_dur_var','fix_disp_mean','fix_disp_max',\n",
    "                        'fix_x_var','fix_y_var']"
   ]
  },
  {
   "cell_type": "code",
   "execution_count": null,
   "id": "376d7b0e",
   "metadata": {},
   "outputs": [],
   "source": [
    "fix_1_feature"
   ]
  },
  {
   "cell_type": "code",
   "execution_count": null,
   "id": "8580ddf8",
   "metadata": {},
   "outputs": [],
   "source": [
    "sac_1_features = sac_1_df.groupby('QuestionKey').agg({\n",
    "    'Saccade Duration': ['count','mean','sum'],\n",
    "    'Saccade Amplitude': ['mean','max'],\n",
    "    'Saccade Peak Velocity': ['mean','max'],\n",
    "    'Saccade Peak Acceleration': ['mean'],\n",
    "    'Saccade Peak Deceleration': ['mean'],\n",
    "    'Saccade Direction': ['var']   # direction variance\n",
    "})"
   ]
  },
  {
   "cell_type": "code",
   "execution_count": null,
   "id": "7cf2bd0a",
   "metadata": {},
   "outputs": [],
   "source": [
    "sac_1_features.columns = ['sac_count','sac_mean_dur','sac_total_time',\n",
    "                        'sac_amp_mean','sac_amp_max',\n",
    "                        'sac_vel_mean','sac_vel_max',\n",
    "                        'sac_acc_mean','sac_dec_mean','sac_dir_var']"
   ]
  },
  {
   "cell_type": "code",
   "execution_count": null,
   "id": "c91c5f94",
   "metadata": {},
   "outputs": [],
   "source": [
    "sac_1_features"
   ]
  },
  {
   "cell_type": "code",
   "execution_count": null,
   "id": "91d4f3c8",
   "metadata": {},
   "outputs": [],
   "source": [
    "ivt_1_features = fix_1_feature.join(sac_1_features, how='outer').fillna(0)"
   ]
  },
  {
   "cell_type": "code",
   "execution_count": null,
   "id": "2384bd50",
   "metadata": {},
   "outputs": [],
   "source": [
    "ivt_1_features"
   ]
  },
  {
   "cell_type": "code",
   "execution_count": null,
   "id": "6f2e0431",
   "metadata": {},
   "outputs": [],
   "source": [
    "ivt_1_features['fix_sac_count_ratio'] = ivt_1_features['fix_count'] / (ivt_1_features['sac_count']+1e-5)\n",
    "ivt_1_features['fix_sac_time_ratio']  = ivt_1_features['fix_total_time'] / (ivt_1_features['sac_total_time']+1e-5)"
   ]
  },
  {
   "cell_type": "code",
   "execution_count": null,
   "id": "ebc06fcd",
   "metadata": {},
   "outputs": [],
   "source": [
    "ivt_1_features"
   ]
  },
  {
   "cell_type": "code",
   "execution_count": null,
   "id": "21ca82c8",
   "metadata": {},
   "outputs": [],
   "source": []
  },
  {
   "cell_type": "markdown",
   "id": "6d71ef71",
   "metadata": {},
   "source": [
    "# Aggregation of Fixation and Saccade Features\n",
    "\n",
    "In the preceding code cells, we performed aggregation on the `fix_1_df` and `sac_1_df` DataFrames, which contain the cleaned fixation and saccade data, respectively. The goal of this aggregation was to create a summary of eye-tracking metrics for each `QuestionKey`.\n",
    "\n",
    "For fixations, we calculated:\n",
    "- Count of fixations (`fix_count`)\n",
    "- Mean, max, sum, and variance of fixation duration (`fix_mean_dur`, `fix_max_dur`, `fix_total_time`, `fix_dur_var`)\n",
    "- Mean and max of fixation dispersion (`fix_disp_mean`, `fix_disp_max`)\n",
    "- Variance of fixation X and Y coordinates (`fix_x_var`, `fix_y_var`) to represent screen spread.\n",
    "\n",
    "For saccades, we calculated:\n",
    "- Count of saccades (`sac_count`)\n",
    "- Mean and sum of saccade duration (`sac_mean_dur`, `sac_total_time`)\n",
    "- Mean and max of saccade amplitude (`sac_amp_mean`, `sac_amp_max`)\n",
    "- Mean and max of saccade peak velocity (`sac_vel_mean`, `sac_vel_max`)\n",
    "- Mean of saccade peak acceleration and deceleration (`sac_acc_mean`, `sac_dec_mean`)\n",
    "- Variance of saccade direction (`sac_dir_var`).\n",
    "\n",
    "Finally, we joined these aggregated fixation and saccade features into a single DataFrame called `ivt_1_features`, using `QuestionKey` as the index. We also filled any resulting missing values (from `QuestionKey` values that may only have fixations or saccades, but not both) with 0. This `ivt_1_features` DataFrame now provides a consolidated summary of key eye-tracking characteristics for each question, which can be used for further analysis or modeling."
   ]
  },
  {
   "cell_type": "markdown",
   "id": "2e644543",
   "metadata": {},
   "source": [
    "## IVT 32"
   ]
  },
  {
   "cell_type": "code",
   "execution_count": null,
   "id": "ec1a50e6",
   "metadata": {},
   "outputs": [],
   "source": [
    "df_32_IVT = pd.read_csv('data/STData/32/32_IVT.csv')"
   ]
  },
  {
   "cell_type": "code",
   "execution_count": null,
   "id": "119c0d94",
   "metadata": {},
   "outputs": [],
   "source": [
    "df_32_IVT.head()"
   ]
  },
  {
   "cell_type": "code",
   "execution_count": null,
   "id": "05a2adfe",
   "metadata": {},
   "outputs": [],
   "source": [
    "df_32_IVT.columns"
   ]
  },
  {
   "cell_type": "code",
   "execution_count": null,
   "id": "9156bb45",
   "metadata": {},
   "outputs": [],
   "source": [
    "df_32_IVT.shape"
   ]
  },
  {
   "cell_type": "code",
   "execution_count": null,
   "id": "54de59fb",
   "metadata": {},
   "outputs": [],
   "source": [
    "df_32_IVT.info()"
   ]
  },
  {
   "cell_type": "code",
   "execution_count": null,
   "id": "aa841eb9",
   "metadata": {},
   "outputs": [],
   "source": [
    "df_32_IVT.isnull().sum()"
   ]
  },
  {
   "cell_type": "code",
   "execution_count": null,
   "id": "2984d120",
   "metadata": {},
   "outputs": [],
   "source": [
    "plt.figure(figsize=(14,10))\n",
    "sns.heatmap(df_32_IVT.isnull(), cmap='viridis')\n",
    "plt.show()"
   ]
  },
  {
   "cell_type": "markdown",
   "id": "60275f89",
   "metadata": {},
   "source": [
    "# Notes & Observations\n",
    "\n",
    "- We observe many **null** (or missing) values in the `QuestionKey` columns.\n",
    "- The nulls in the `QuestionKey` column may not represent “true” nulls. Rather, they follow interval patterns, suggesting that during those periods no question was displayed.\n",
    "- These missing values in `QuestionKey` require additional investigation and context-aware handling."
   ]
  },
  {
   "cell_type": "code",
   "execution_count": null,
   "id": "cfdf1847",
   "metadata": {},
   "outputs": [],
   "source": [
    "df_32_IVT['QuestionKey'].unique()"
   ]
  },
  {
   "cell_type": "code",
   "execution_count": null,
   "id": "25f35a82",
   "metadata": {},
   "outputs": [],
   "source": [
    "df_32_IVT['Timestamp'] = pd.to_datetime(df_32_IVT['Timestamp'])"
   ]
  },
  {
   "cell_type": "code",
   "execution_count": null,
   "id": "df9b3512",
   "metadata": {},
   "outputs": [],
   "source": [
    "df_32_IVT.head(3)"
   ]
  },
  {
   "cell_type": "code",
   "execution_count": null,
   "id": "d1548ace",
   "metadata": {},
   "outputs": [],
   "source": [
    "df_32_IVT['QuestionKey'].fillna('None', inplace=True)"
   ]
  },
  {
   "cell_type": "code",
   "execution_count": null,
   "id": "3be1f7f3",
   "metadata": {},
   "outputs": [],
   "source": [
    "df_32_IVT['QuestionKey'].value_counts()"
   ]
  },
  {
   "cell_type": "code",
   "execution_count": null,
   "id": "c1932d1c",
   "metadata": {},
   "outputs": [],
   "source": [
    "plt.figure(figsize=(14,10))\n",
    "sns.heatmap(df_32_IVT.isnull(), cmap='viridis')\n",
    "plt.show()"
   ]
  },
  {
   "cell_type": "code",
   "execution_count": null,
   "id": "a0afd3dd",
   "metadata": {},
   "outputs": [],
   "source": [
    "df_32_IVT.isnull().sum()"
   ]
  },
  {
   "cell_type": "code",
   "execution_count": null,
   "id": "c2008d97",
   "metadata": {},
   "outputs": [],
   "source": [
    "df_32_IVT.head()"
   ]
  },
  {
   "cell_type": "code",
   "execution_count": null,
   "id": "9d7b9b5d",
   "metadata": {},
   "outputs": [],
   "source": [
    "df_32_IVT['Row'].unique()"
   ]
  },
  {
   "cell_type": "code",
   "execution_count": null,
   "id": "5861cf4e",
   "metadata": {},
   "outputs": [],
   "source": [
    "plt.figure(figsize=(8,6))\n",
    "sns.histplot(df_32_IVT['Row'])\n",
    "plt.show()"
   ]
  },
  {
   "cell_type": "markdown",
   "id": "c854a262",
   "metadata": {},
   "source": [
    "# Notes & Observations\n",
    "\n",
    "- The `Row` column appears to be a simple row index and does not provide meaningful information relevant to the eye-tracking data itself. Therefore, it can be dropped."
   ]
  },
  {
   "cell_type": "code",
   "execution_count": null,
   "id": "083f2fe8",
   "metadata": {},
   "outputs": [],
   "source": [
    "df_32_IVT.drop('Row', axis=1, inplace=True)"
   ]
  },
  {
   "cell_type": "code",
   "execution_count": null,
   "id": "df58912a",
   "metadata": {},
   "outputs": [],
   "source": [
    "fig, axes = plt.subplots(1, 2, figsize=(20, 10))\n",
    "\n",
    "sns.scatterplot(data=df_32_IVT, x='Gaze X', y='Gaze Y', ax=axes[0])\n",
    "axes[0].set_title('Gaze X vs Gaze Y')\n",
    "\n",
    "sns.scatterplot(data=df_32_IVT, x='Interpolated Gaze X', y='Interpolated Gaze Y', ax=axes[1])\n",
    "axes[1].set_title('Interpolated Gaze X vs Interpolated Gaze Y')\n",
    "\n",
    "plt.tight_layout()\n",
    "plt.show()"
   ]
  },
  {
   "cell_type": "markdown",
   "id": "4101e5fd",
   "metadata": {},
   "source": [
    "# Gaze and Interpolated Gaze Scatter Plots\n",
    "\n",
    "The scatter plots above visualize the relationship between the x and y coordinates of both the raw gaze data and the interpolated gaze data.\n",
    "\n",
    "- **Gaze X vs Gaze Y:** This plot shows the raw gaze coordinates. The scattered points indicate the locations on the screen where the participant was looking. The density of points in certain areas might suggest regions of interest.\n",
    "- **Interpolated Gaze X vs Interpolated Gaze Y:** This plot shows the interpolated gaze coordinates. Interpolation is often used to fill in gaps in the raw gaze data, providing a smoother representation of the gaze path. Comparing this plot to the raw gaze plot can show the effect of the interpolation process.\n",
    "\n",
    "Both plots can help in understanding the distribution of gaze points across the screen and identifying potential patterns or biases in eye movements."
   ]
  },
  {
   "cell_type": "code",
   "execution_count": null,
   "id": "ac87f5be",
   "metadata": {},
   "outputs": [],
   "source": [
    "df_32_IVT.describe()"
   ]
  },
  {
   "cell_type": "code",
   "execution_count": null,
   "id": "9ade90dd",
   "metadata": {},
   "outputs": [],
   "source": [
    "df_32_IVT.head(3)"
   ]
  },
  {
   "cell_type": "code",
   "execution_count": null,
   "id": "12edbe03",
   "metadata": {},
   "outputs": [],
   "source": [
    "df_32_IVT['Timestamp'] = pd.to_datetime(df_32_IVT['Timestamp'])"
   ]
  },
  {
   "cell_type": "code",
   "execution_count": null,
   "id": "5961ac86",
   "metadata": {},
   "outputs": [],
   "source": [
    "df_32_IVT.columns"
   ]
  },
  {
   "cell_type": "code",
   "execution_count": null,
   "id": "47831c94",
   "metadata": {},
   "outputs": [],
   "source": [
    "cols = ['Gaze X', 'Gaze Y',\n",
    "       'Interpolated Gaze X', 'Interpolated Gaze Y', 'Interpolated Distance',\n",
    "       'Gaze Velocity', 'Gaze Acceleration', 'Fixation Index',\n",
    "       'Fixation Index by Stimulus', 'Fixation X', 'Fixation Y',\n",
    "       'Fixation Start', 'Fixation End', 'Fixation Duration',\n",
    "       'Fixation Dispersion', 'Saccade Index', 'Saccade Index by Stimulus',\n",
    "       'Saccade Start', 'Saccade End', 'Saccade Duration', 'Saccade Amplitude',\n",
    "       'Saccade Peak Velocity', 'Saccade Peak Acceleration',\n",
    "       'Saccade Peak Deceleration', 'Saccade Direction']"
   ]
  },
  {
   "cell_type": "code",
   "execution_count": null,
   "id": "2e25d639",
   "metadata": {},
   "outputs": [],
   "source": [
    "from IPython.display import display, Markdown\n",
    "\n",
    "for col in cols:\n",
    "    # Add a markdown cell before each plot for better separation and labeling\n",
    "    display(Markdown(f'### {col} over Time'))\n",
    "    plt.figure(figsize=(16, 10))\n",
    "    sns.lineplot(x=df_32_IVT['Timestamp'], y=df_32_IVT[col])\n",
    "    plt.xlabel(\"Timestamp\") # Add x-axis label\n",
    "    plt.ylabel(col) # Add y-axis label\n",
    "    plt.show()"
   ]
  },
  {
   "cell_type": "code",
   "execution_count": null,
   "id": "b310cb68",
   "metadata": {},
   "outputs": [],
   "source": [
    "df_32_IVT.head()"
   ]
  },
  {
   "cell_type": "code",
   "execution_count": null,
   "id": "31c2d781",
   "metadata": {},
   "outputs": [],
   "source": [
    "plt.figure(figsize=(14,10))\n",
    "sns.heatmap(df_32_IVT[['Fixation Index', 'Fixation Index by Stimulus', 'Saccade Index', 'Saccade Index by Stimulus']].isnull(), cmap='viridis')\n",
    "plt.show()"
   ]
  },
  {
   "cell_type": "markdown",
   "id": "de508c8f",
   "metadata": {},
   "source": [
    "# Observation\n",
    "\n",
    "The `Fixation Index`, `Fixation Index by Stimulus`, `Saccade Index` and `Saccade Index by Stimulus` columns are essentially just sequence numbers for identified events. While they indicate the order of fixations and saccades, they don't provide meaningful features for a machine learning model attempting to predict or classify eye movement patterns. Therefore, we will drop these columns as they are not useful for model building."
   ]
  },
  {
   "cell_type": "code",
   "execution_count": null,
   "id": "731137b4",
   "metadata": {},
   "outputs": [],
   "source": [
    "df_32_IVT.drop(['Fixation Index', 'Fixation Index by Stimulus', 'Saccade Index', 'Saccade Index by Stimulus'], axis=1, inplace=True)"
   ]
  },
  {
   "cell_type": "code",
   "execution_count": null,
   "id": "a61b371e",
   "metadata": {},
   "outputs": [],
   "source": [
    "plt.figure(figsize=(14,10))\n",
    "sns.scatterplot(data=df_32_IVT, x='Fixation X', y='Fixation Y')\n",
    "plt.title('Fixation X vs Fixation Y')\n",
    "plt.show()"
   ]
  },
  {
   "cell_type": "code",
   "execution_count": null,
   "id": "3562b012",
   "metadata": {},
   "outputs": [],
   "source": [
    "df_32_IVT['Fixation Start'].describe()"
   ]
  },
  {
   "cell_type": "code",
   "execution_count": null,
   "id": "644383a3",
   "metadata": {},
   "outputs": [],
   "source": [
    "fig, axes = plt.subplots(1, 2, figsize=(20, 8))\n",
    "\n",
    "sns.histplot(df_32_IVT['Fixation Start'], bins=100, kde=True, ax=axes[0])\n",
    "axes[0].set_xlabel('Fixation Start')\n",
    "axes[0].set_ylabel('Frequency')\n",
    "axes[0].set_title('Distribution of Fixation Start')\n",
    "\n",
    "sns.histplot(df_32_IVT['Fixation End'], bins=100, kde=True, ax=axes[1])\n",
    "axes[1].set_xlabel('Fixation End')\n",
    "axes[1].set_ylabel('Frequency')\n",
    "axes[1].set_title('Distribution of Fixation End')\n",
    "\n",
    "plt.tight_layout()\n",
    "plt.show()"
   ]
  },
  {
   "cell_type": "code",
   "execution_count": null,
   "id": "ab76f8cf",
   "metadata": {},
   "outputs": [],
   "source": [
    "fig, axes = plt.subplots(1, 2, figsize=(20, 8))\n",
    "\n",
    "sns.histplot(df_32_IVT['Saccade Start'], bins=100, kde=True, ax=axes[0])\n",
    "axes[0].set_xlabel('Saccade Start')\n",
    "axes[0].set_ylabel('Frequency')\n",
    "axes[0].set_title('Distribution of Saccade Start')\n",
    "\n",
    "sns.histplot(df_32_IVT['Saccade End'], bins=100, kde=True, ax=axes[1])\n",
    "axes[1].set_xlabel('Saccade End')\n",
    "axes[1].set_ylabel('Frequency')\n",
    "axes[1].set_title('Distribution of Saccade End')\n",
    "\n",
    "plt.tight_layout()\n",
    "plt.show()"
   ]
  },
  {
   "cell_type": "markdown",
   "id": "d9305fcd",
   "metadata": {},
   "source": [
    "# Observation on Fixation and Saccade Timestamps\n",
    "\n",
    "Upon examining the time series plots of 'Fixation Start', 'Fixation End', `Saccade Start`, and `Saccade End` against the `Timestamp`, we observe a clear linear, diagonal pattern. This indicates that these values are largely sequential and directly related to the progress of time in the data recording.\n",
    "\n",
    "Furthermore, the histograms of these features show distributions that, while informative about the timing of events, don't necessarily reveal complex patterns that would be highly predictive for a machine learning model.\n",
    "\n",
    "Crucially, the dataset already contains `Fixation Duration` and `Saccade Duration` columns. These duration features capture the length of each event, which is often a more directly relevant metric for understanding eye movement behavior than the absolute start and end times. Since the duration can be derived from the start and end times (Duration = End - Start), the start and end time columns introduce redundancy and do not provide substantial additional, independent information for modeling purposes.\n",
    "\n",
    "Therefore, to simplify the dataset and focus on the most informative features for potential machine movement analysis or modeling, we will drop the `Fixation Start`, `Fixation End`, `Saccade Start`, and `Saccade End` columns."
   ]
  },
  {
   "cell_type": "code",
   "execution_count": null,
   "id": "12f5aacd",
   "metadata": {},
   "outputs": [],
   "source": [
    "df_32_IVT.drop(['Fixation Start', 'Fixation End', 'Saccade Start', 'Saccade End'], axis=1, inplace=True)"
   ]
  },
  {
   "cell_type": "code",
   "execution_count": null,
   "id": "8fcc3ac4",
   "metadata": {},
   "outputs": [],
   "source": [
    "df_32_IVT.head()"
   ]
  },
  {
   "cell_type": "code",
   "execution_count": null,
   "id": "0000b5f8",
   "metadata": {},
   "outputs": [],
   "source": [
    "plt.figure(figsize=(12, 8))\n",
    "sns.heatmap(df_32_IVT[['Gaze X', 'Gaze Y', 'Interpolated Gaze X', 'Interpolated Gaze Y']].isnull(), cmap='viridis')\n",
    "plt.show()\n"
   ]
  },
  {
   "cell_type": "code",
   "execution_count": null,
   "id": "c16cdb0c",
   "metadata": {},
   "outputs": [],
   "source": []
  },
  {
   "cell_type": "markdown",
   "id": "fc46d4c9",
   "metadata": {},
   "source": [
    "# Observations on Gaze and Interpolated Gaze Data\n",
    "\n",
    "Based on the scatter plots of 'Gaze X' vs 'Gaze Y' and 'Interpolated Gaze X' vs 'Interpolated Gaze Y', we observe that the distributions of the raw and interpolated gaze points appear very similar. The spatial patterns of where the participant was looking are consistent between the two sets of coordinates.\n",
    "\n",
    "Furthermore, the heatmap of null values for these columns ('Gaze X', 'Gaze Y', 'Interpolated Gaze X', 'Interpolated Gaze Y') reveals that the missing values are present in the same rows for both the raw and interpolated gaze coordinates. This suggests that the interpolation process did not fill in the gaps in the raw gaze data for these specific instances.\n",
    "\n",
    "Given that the interpolated gaze data shows the same spatial distribution and the same pattern of null values as the raw gaze data, it appears that the interpolation did not significantly alter or complete the data in this case. Therefore, keeping both the raw and interpolated gaze columns might be redundant, and one set could potentially be dropped to simplify the dataset without losing significant information."
   ]
  },
  {
   "cell_type": "code",
   "execution_count": null,
   "id": "0ddc5f48",
   "metadata": {},
   "outputs": [],
   "source": [
    "df_32_IVT.drop(['Interpolated Gaze X', 'Interpolated Gaze Y'], axis=1, inplace=True)"
   ]
  },
  {
   "cell_type": "code",
   "execution_count": null,
   "id": "d403fda4",
   "metadata": {},
   "outputs": [],
   "source": [
    "df_32_IVT.head()"
   ]
  },
  {
   "cell_type": "code",
   "execution_count": null,
   "id": "062f3004",
   "metadata": {},
   "outputs": [],
   "source": [
    "plt.figure(figsize=(12, 8))\n",
    "sns.heatmap(df_32_IVT.isnull(), cmap='viridis')\n",
    "plt.show()"
   ]
  },
  {
   "cell_type": "code",
   "execution_count": null,
   "id": "41f70f92",
   "metadata": {},
   "outputs": [],
   "source": [
    "df_32_IVT.columns"
   ]
  },
  {
   "cell_type": "code",
   "execution_count": null,
   "id": "f6dfee73",
   "metadata": {},
   "outputs": [],
   "source": [
    "fix_1_df = df_32_IVT.dropna(subset=['Fixation Duration'])\n",
    "sac_1_df = df_32_IVT.dropna(subset=['Saccade Duration'])"
   ]
  },
  {
   "cell_type": "code",
   "execution_count": null,
   "id": "3454e4f7",
   "metadata": {},
   "outputs": [],
   "source": [
    "fix_1_df.shape"
   ]
  },
  {
   "cell_type": "code",
   "execution_count": null,
   "id": "c952f128",
   "metadata": {},
   "outputs": [],
   "source": [
    "sac_1_df.shape"
   ]
  },
  {
   "cell_type": "code",
   "execution_count": null,
   "id": "2b96f413",
   "metadata": {},
   "outputs": [],
   "source": [
    "fix_1_feature = fix_1_df.groupby('QuestionKey').agg({\n",
    "    'Fixation Duration': ['count','mean','max','sum','var'],\n",
    "    'Fixation Dispersion': ['mean','max'],\n",
    "    'Fixation X': ['var'],   # screen spread X\n",
    "    'Fixation Y': ['var']    # screen spread Y\n",
    "})"
   ]
  },
  {
   "cell_type": "code",
   "execution_count": null,
   "id": "d46cfde3",
   "metadata": {},
   "outputs": [],
   "source": [
    "fix_1_feature.columns = ['fix_count','fix_mean_dur','fix_max_dur','fix_total_time',\n",
    "                        'fix_dur_var','fix_disp_mean','fix_disp_max',\n",
    "                        'fix_x_var','fix_y_var']"
   ]
  },
  {
   "cell_type": "code",
   "execution_count": null,
   "id": "f41eca3d",
   "metadata": {},
   "outputs": [],
   "source": [
    "fix_1_feature"
   ]
  },
  {
   "cell_type": "code",
   "execution_count": null,
   "id": "69022673",
   "metadata": {},
   "outputs": [],
   "source": [
    "sac_1_features = sac_1_df.groupby('QuestionKey').agg({\n",
    "    'Saccade Duration': ['count','mean','sum'],\n",
    "    'Saccade Amplitude': ['mean','max'],\n",
    "    'Saccade Peak Velocity': ['mean','max'],\n",
    "    'Saccade Peak Acceleration': ['mean'],\n",
    "    'Saccade Peak Deceleration': ['mean'],\n",
    "    'Saccade Direction': ['var']   # direction variance\n",
    "})"
   ]
  },
  {
   "cell_type": "code",
   "execution_count": null,
   "id": "7b0d07f1",
   "metadata": {},
   "outputs": [],
   "source": [
    "sac_1_features.columns = ['sac_count','sac_mean_dur','sac_total_time',\n",
    "                        'sac_amp_mean','sac_amp_max',\n",
    "                        'sac_vel_mean','sac_vel_max',\n",
    "                        'sac_acc_mean','sac_dec_mean','sac_dir_var']"
   ]
  },
  {
   "cell_type": "code",
   "execution_count": null,
   "id": "76598f23",
   "metadata": {},
   "outputs": [],
   "source": [
    "sac_1_features"
   ]
  },
  {
   "cell_type": "code",
   "execution_count": null,
   "id": "450dd514",
   "metadata": {},
   "outputs": [],
   "source": [
    "ivt_1_features = fix_1_feature.join(sac_1_features, how='outer').fillna(0)"
   ]
  },
  {
   "cell_type": "code",
   "execution_count": null,
   "id": "b766fc11",
   "metadata": {},
   "outputs": [],
   "source": [
    "ivt_1_features"
   ]
  },
  {
   "cell_type": "code",
   "execution_count": null,
   "id": "4eb31c35",
   "metadata": {},
   "outputs": [],
   "source": [
    "ivt_1_features['fix_sac_count_ratio'] = ivt_1_features['fix_count'] / (ivt_1_features['sac_count']+1e-5)\n",
    "ivt_1_features['fix_sac_time_ratio']  = ivt_1_features['fix_total_time'] / (ivt_1_features['sac_total_time']+1e-5)"
   ]
  },
  {
   "cell_type": "code",
   "execution_count": null,
   "id": "d65c5ef7",
   "metadata": {},
   "outputs": [],
   "source": [
    "ivt_1_features"
   ]
  },
  {
   "cell_type": "code",
   "execution_count": null,
   "id": "95b74353",
   "metadata": {},
   "outputs": [],
   "source": []
  },
  {
   "cell_type": "markdown",
   "id": "da5e225c",
   "metadata": {},
   "source": [
    "# Aggregation of Fixation and Saccade Features\n",
    "\n",
    "In the preceding code cells, we performed aggregation on the `fix_1_df` and `sac_1_df` DataFrames, which contain the cleaned fixation and saccade data, respectively. The goal of this aggregation was to create a summary of eye-tracking metrics for each `QuestionKey`.\n",
    "\n",
    "For fixations, we calculated:\n",
    "- Count of fixations (`fix_count`)\n",
    "- Mean, max, sum, and variance of fixation duration (`fix_mean_dur`, `fix_max_dur`, `fix_total_time`, `fix_dur_var`)\n",
    "- Mean and max of fixation dispersion (`fix_disp_mean`, `fix_disp_max`)\n",
    "- Variance of fixation X and Y coordinates (`fix_x_var`, `fix_y_var`) to represent screen spread.\n",
    "\n",
    "For saccades, we calculated:\n",
    "- Count of saccades (`sac_count`)\n",
    "- Mean and sum of saccade duration (`sac_mean_dur`, `sac_total_time`)\n",
    "- Mean and max of saccade amplitude (`sac_amp_mean`, `sac_amp_max`)\n",
    "- Mean and max of saccade peak velocity (`sac_vel_mean`, `sac_vel_max`)\n",
    "- Mean of saccade peak acceleration and deceleration (`sac_acc_mean`, `sac_dec_mean`)\n",
    "- Variance of saccade direction (`sac_dir_var`).\n",
    "\n",
    "Finally, we joined these aggregated fixation and saccade features into a single DataFrame called `ivt_1_features`, using `QuestionKey` as the index. We also filled any resulting missing values (from `QuestionKey` values that may only have fixations or saccades, but not both) with 0. This `ivt_1_features` DataFrame now provides a consolidated summary of key eye-tracking characteristics for each question, which can be used for further analysis or modeling."
   ]
  },
  {
   "cell_type": "markdown",
   "id": "114a1390",
   "metadata": {},
   "source": [
    "## IVT 33"
   ]
  },
  {
   "cell_type": "code",
   "execution_count": null,
   "id": "23600f4c",
   "metadata": {},
   "outputs": [],
   "source": [
    "df_33_IVT = pd.read_csv('data/STData/33/33_IVT.csv')"
   ]
  },
  {
   "cell_type": "code",
   "execution_count": null,
   "id": "d06c2989",
   "metadata": {},
   "outputs": [],
   "source": [
    "df_33_IVT.head()"
   ]
  },
  {
   "cell_type": "code",
   "execution_count": null,
   "id": "508f0aa7",
   "metadata": {},
   "outputs": [],
   "source": [
    "df_33_IVT.columns"
   ]
  },
  {
   "cell_type": "code",
   "execution_count": null,
   "id": "515b7731",
   "metadata": {},
   "outputs": [],
   "source": [
    "df_33_IVT.shape"
   ]
  },
  {
   "cell_type": "code",
   "execution_count": null,
   "id": "9fa927fa",
   "metadata": {},
   "outputs": [],
   "source": [
    "df_33_IVT.info()"
   ]
  },
  {
   "cell_type": "code",
   "execution_count": null,
   "id": "feaac52a",
   "metadata": {},
   "outputs": [],
   "source": [
    "df_33_IVT.isnull().sum()"
   ]
  },
  {
   "cell_type": "code",
   "execution_count": null,
   "id": "58810200",
   "metadata": {},
   "outputs": [],
   "source": [
    "plt.figure(figsize=(14,10))\n",
    "sns.heatmap(df_33_IVT.isnull(), cmap='viridis')\n",
    "plt.show()"
   ]
  },
  {
   "cell_type": "markdown",
   "id": "7e0d1b9d",
   "metadata": {},
   "source": [
    "# Notes & Observations\n",
    "\n",
    "- We observe many **null** (or missing) values in the `QuestionKey` columns.\n",
    "- The nulls in the `QuestionKey` column may not represent “true” nulls. Rather, they follow interval patterns, suggesting that during those periods no question was displayed.\n",
    "- These missing values in `QuestionKey` require additional investigation and context-aware handling."
   ]
  },
  {
   "cell_type": "code",
   "execution_count": null,
   "id": "4f6d864c",
   "metadata": {},
   "outputs": [],
   "source": [
    "df_33_IVT['QuestionKey'].unique()"
   ]
  },
  {
   "cell_type": "code",
   "execution_count": null,
   "id": "14cd2664",
   "metadata": {},
   "outputs": [],
   "source": [
    "df_33_IVT['Timestamp'] = pd.to_datetime(df_33_IVT['Timestamp'])"
   ]
  },
  {
   "cell_type": "code",
   "execution_count": null,
   "id": "597aa40a",
   "metadata": {},
   "outputs": [],
   "source": [
    "df_33_IVT.head(3)"
   ]
  },
  {
   "cell_type": "code",
   "execution_count": null,
   "id": "91485946",
   "metadata": {},
   "outputs": [],
   "source": [
    "df_33_IVT['QuestionKey'].fillna('None', inplace=True)"
   ]
  },
  {
   "cell_type": "code",
   "execution_count": null,
   "id": "27a2dae6",
   "metadata": {},
   "outputs": [],
   "source": [
    "df_33_IVT['QuestionKey'].value_counts()"
   ]
  },
  {
   "cell_type": "code",
   "execution_count": null,
   "id": "a37d2e47",
   "metadata": {},
   "outputs": [],
   "source": [
    "plt.figure(figsize=(14,10))\n",
    "sns.heatmap(df_33_IVT.isnull(), cmap='viridis')\n",
    "plt.show()"
   ]
  },
  {
   "cell_type": "code",
   "execution_count": null,
   "id": "f310b42e",
   "metadata": {},
   "outputs": [],
   "source": [
    "df_33_IVT.isnull().sum()"
   ]
  },
  {
   "cell_type": "code",
   "execution_count": null,
   "id": "8fd3e5a0",
   "metadata": {},
   "outputs": [],
   "source": [
    "df_33_IVT.head()"
   ]
  },
  {
   "cell_type": "code",
   "execution_count": null,
   "id": "ab98836f",
   "metadata": {},
   "outputs": [],
   "source": [
    "df_33_IVT['Row'].unique()"
   ]
  },
  {
   "cell_type": "code",
   "execution_count": null,
   "id": "34b571d4",
   "metadata": {},
   "outputs": [],
   "source": [
    "plt.figure(figsize=(8,6))\n",
    "sns.histplot(df_33_IVT['Row'])\n",
    "plt.show()"
   ]
  },
  {
   "cell_type": "markdown",
   "id": "d994f144",
   "metadata": {},
   "source": [
    "# Notes & Observations\n",
    "\n",
    "- The `Row` column appears to be a simple row index and does not provide meaningful information relevant to the eye-tracking data itself. Therefore, it can be dropped."
   ]
  },
  {
   "cell_type": "code",
   "execution_count": null,
   "id": "ea9c1d31",
   "metadata": {},
   "outputs": [],
   "source": [
    "df_33_IVT.drop('Row', axis=1, inplace=True)"
   ]
  },
  {
   "cell_type": "code",
   "execution_count": null,
   "id": "6bf8d3f7",
   "metadata": {},
   "outputs": [],
   "source": [
    "fig, axes = plt.subplots(1, 2, figsize=(20, 10))\n",
    "\n",
    "sns.scatterplot(data=df_33_IVT, x='Gaze X', y='Gaze Y', ax=axes[0])\n",
    "axes[0].set_title('Gaze X vs Gaze Y')\n",
    "\n",
    "sns.scatterplot(data=df_33_IVT, x='Interpolated Gaze X', y='Interpolated Gaze Y', ax=axes[1])\n",
    "axes[1].set_title('Interpolated Gaze X vs Interpolated Gaze Y')\n",
    "\n",
    "plt.tight_layout()\n",
    "plt.show()"
   ]
  },
  {
   "cell_type": "markdown",
   "id": "0883779e",
   "metadata": {},
   "source": [
    "# Gaze and Interpolated Gaze Scatter Plots\n",
    "\n",
    "The scatter plots above visualize the relationship between the x and y coordinates of both the raw gaze data and the interpolated gaze data.\n",
    "\n",
    "- **Gaze X vs Gaze Y:** This plot shows the raw gaze coordinates. The scattered points indicate the locations on the screen where the participant was looking. The density of points in certain areas might suggest regions of interest.\n",
    "- **Interpolated Gaze X vs Interpolated Gaze Y:** This plot shows the interpolated gaze coordinates. Interpolation is often used to fill in gaps in the raw gaze data, providing a smoother representation of the gaze path. Comparing this plot to the raw gaze plot can show the effect of the interpolation process.\n",
    "\n",
    "Both plots can help in understanding the distribution of gaze points across the screen and identifying potential patterns or biases in eye movements."
   ]
  },
  {
   "cell_type": "code",
   "execution_count": null,
   "id": "8ccddf36",
   "metadata": {},
   "outputs": [],
   "source": [
    "df_33_IVT.describe()"
   ]
  },
  {
   "cell_type": "code",
   "execution_count": null,
   "id": "f1219ed5",
   "metadata": {},
   "outputs": [],
   "source": [
    "df_33_IVT.head(3)"
   ]
  },
  {
   "cell_type": "code",
   "execution_count": null,
   "id": "f16f7825",
   "metadata": {},
   "outputs": [],
   "source": [
    "df_33_IVT['Timestamp'] = pd.to_datetime(df_33_IVT['Timestamp'])"
   ]
  },
  {
   "cell_type": "code",
   "execution_count": null,
   "id": "c4a2e9fe",
   "metadata": {},
   "outputs": [],
   "source": [
    "df_33_IVT.columns"
   ]
  },
  {
   "cell_type": "code",
   "execution_count": null,
   "id": "cef807f0",
   "metadata": {},
   "outputs": [],
   "source": [
    "cols = ['Gaze X', 'Gaze Y',\n",
    "       'Interpolated Gaze X', 'Interpolated Gaze Y', 'Interpolated Distance',\n",
    "       'Gaze Velocity', 'Gaze Acceleration', 'Fixation Index',\n",
    "       'Fixation Index by Stimulus', 'Fixation X', 'Fixation Y',\n",
    "       'Fixation Start', 'Fixation End', 'Fixation Duration',\n",
    "       'Fixation Dispersion', 'Saccade Index', 'Saccade Index by Stimulus',\n",
    "       'Saccade Start', 'Saccade End', 'Saccade Duration', 'Saccade Amplitude',\n",
    "       'Saccade Peak Velocity', 'Saccade Peak Acceleration',\n",
    "       'Saccade Peak Deceleration', 'Saccade Direction']"
   ]
  },
  {
   "cell_type": "code",
   "execution_count": null,
   "id": "08ec0527",
   "metadata": {},
   "outputs": [],
   "source": [
    "from IPython.display import display, Markdown\n",
    "\n",
    "for col in cols:\n",
    "    # Add a markdown cell before each plot for better separation and labeling\n",
    "    display(Markdown(f'### {col} over Time'))\n",
    "    plt.figure(figsize=(16, 10))\n",
    "    sns.lineplot(x=df_33_IVT['Timestamp'], y=df_33_IVT[col])\n",
    "    plt.xlabel(\"Timestamp\") # Add x-axis label\n",
    "    plt.ylabel(col) # Add y-axis label\n",
    "    plt.show()"
   ]
  },
  {
   "cell_type": "code",
   "execution_count": null,
   "id": "180c83ec",
   "metadata": {},
   "outputs": [],
   "source": [
    "df_33_IVT.head()"
   ]
  },
  {
   "cell_type": "code",
   "execution_count": null,
   "id": "7ec8a051",
   "metadata": {},
   "outputs": [],
   "source": [
    "plt.figure(figsize=(14,10))\n",
    "sns.heatmap(df_33_IVT[['Fixation Index', 'Fixation Index by Stimulus', 'Saccade Index', 'Saccade Index by Stimulus']].isnull(), cmap='viridis')\n",
    "plt.show()"
   ]
  },
  {
   "cell_type": "markdown",
   "id": "4802088f",
   "metadata": {},
   "source": [
    "# Observation\n",
    "\n",
    "The `Fixation Index`, `Fixation Index by Stimulus`, `Saccade Index` and `Saccade Index by Stimulus` columns are essentially just sequence numbers for identified events. While they indicate the order of fixations and saccades, they don't provide meaningful features for a machine learning model attempting to predict or classify eye movement patterns. Therefore, we will drop these columns as they are not useful for model building."
   ]
  },
  {
   "cell_type": "code",
   "execution_count": null,
   "id": "74f0ede7",
   "metadata": {},
   "outputs": [],
   "source": [
    "df_33_IVT.drop(['Fixation Index', 'Fixation Index by Stimulus', 'Saccade Index', 'Saccade Index by Stimulus'], axis=1, inplace=True)"
   ]
  },
  {
   "cell_type": "code",
   "execution_count": null,
   "id": "448296f0",
   "metadata": {},
   "outputs": [],
   "source": [
    "plt.figure(figsize=(14,10))\n",
    "sns.scatterplot(data=df_33_IVT, x='Fixation X', y='Fixation Y')\n",
    "plt.title('Fixation X vs Fixation Y')\n",
    "plt.show()"
   ]
  },
  {
   "cell_type": "code",
   "execution_count": null,
   "id": "1c3e8089",
   "metadata": {},
   "outputs": [],
   "source": [
    "df_33_IVT['Fixation Start'].describe()"
   ]
  },
  {
   "cell_type": "code",
   "execution_count": null,
   "id": "cde86093",
   "metadata": {},
   "outputs": [],
   "source": [
    "fig, axes = plt.subplots(1, 2, figsize=(20, 8))\n",
    "\n",
    "sns.histplot(df_33_IVT['Fixation Start'], bins=100, kde=True, ax=axes[0])\n",
    "axes[0].set_xlabel('Fixation Start')\n",
    "axes[0].set_ylabel('Frequency')\n",
    "axes[0].set_title('Distribution of Fixation Start')\n",
    "\n",
    "sns.histplot(df_33_IVT['Fixation End'], bins=100, kde=True, ax=axes[1])\n",
    "axes[1].set_xlabel('Fixation End')\n",
    "axes[1].set_ylabel('Frequency')\n",
    "axes[1].set_title('Distribution of Fixation End')\n",
    "\n",
    "plt.tight_layout()\n",
    "plt.show()"
   ]
  },
  {
   "cell_type": "code",
   "execution_count": null,
   "id": "15598778",
   "metadata": {},
   "outputs": [],
   "source": [
    "fig, axes = plt.subplots(1, 2, figsize=(20, 8))\n",
    "\n",
    "sns.histplot(df_33_IVT['Saccade Start'], bins=100, kde=True, ax=axes[0])\n",
    "axes[0].set_xlabel('Saccade Start')\n",
    "axes[0].set_ylabel('Frequency')\n",
    "axes[0].set_title('Distribution of Saccade Start')\n",
    "\n",
    "sns.histplot(df_33_IVT['Saccade End'], bins=100, kde=True, ax=axes[1])\n",
    "axes[1].set_xlabel('Saccade End')\n",
    "axes[1].set_ylabel('Frequency')\n",
    "axes[1].set_title('Distribution of Saccade End')\n",
    "\n",
    "plt.tight_layout()\n",
    "plt.show()"
   ]
  },
  {
   "cell_type": "markdown",
   "id": "b77a146c",
   "metadata": {},
   "source": [
    "# Observation on Fixation and Saccade Timestamps\n",
    "\n",
    "Upon examining the time series plots of 'Fixation Start', 'Fixation End', `Saccade Start`, and `Saccade End` against the `Timestamp`, we observe a clear linear, diagonal pattern. This indicates that these values are largely sequential and directly related to the progress of time in the data recording.\n",
    "\n",
    "Furthermore, the histograms of these features show distributions that, while informative about the timing of events, don't necessarily reveal complex patterns that would be highly predictive for a machine learning model.\n",
    "\n",
    "Crucially, the dataset already contains `Fixation Duration` and `Saccade Duration` columns. These duration features capture the length of each event, which is often a more directly relevant metric for understanding eye movement behavior than the absolute start and end times. Since the duration can be derived from the start and end times (Duration = End - Start), the start and end time columns introduce redundancy and do not provide substantial additional, independent information for modeling purposes.\n",
    "\n",
    "Therefore, to simplify the dataset and focus on the most informative features for potential machine movement analysis or modeling, we will drop the `Fixation Start`, `Fixation End`, `Saccade Start`, and `Saccade End` columns."
   ]
  },
  {
   "cell_type": "code",
   "execution_count": null,
   "id": "33192573",
   "metadata": {},
   "outputs": [],
   "source": [
    "df_33_IVT.drop(['Fixation Start', 'Fixation End', 'Saccade Start', 'Saccade End'], axis=1, inplace=True)"
   ]
  },
  {
   "cell_type": "code",
   "execution_count": null,
   "id": "bcaef23a",
   "metadata": {},
   "outputs": [],
   "source": [
    "df_33_IVT.head()"
   ]
  },
  {
   "cell_type": "code",
   "execution_count": null,
   "id": "85705583",
   "metadata": {},
   "outputs": [],
   "source": [
    "plt.figure(figsize=(12, 8))\n",
    "sns.heatmap(df_33_IVT[['Gaze X', 'Gaze Y', 'Interpolated Gaze X', 'Interpolated Gaze Y']].isnull(), cmap='viridis')\n",
    "plt.show()\n"
   ]
  },
  {
   "cell_type": "code",
   "execution_count": null,
   "id": "40122bfb",
   "metadata": {},
   "outputs": [],
   "source": []
  },
  {
   "cell_type": "markdown",
   "id": "837f26fc",
   "metadata": {},
   "source": [
    "# Observations on Gaze and Interpolated Gaze Data\n",
    "\n",
    "Based on the scatter plots of 'Gaze X' vs 'Gaze Y' and 'Interpolated Gaze X' vs 'Interpolated Gaze Y', we observe that the distributions of the raw and interpolated gaze points appear very similar. The spatial patterns of where the participant was looking are consistent between the two sets of coordinates.\n",
    "\n",
    "Furthermore, the heatmap of null values for these columns ('Gaze X', 'Gaze Y', 'Interpolated Gaze X', 'Interpolated Gaze Y') reveals that the missing values are present in the same rows for both the raw and interpolated gaze coordinates. This suggests that the interpolation process did not fill in the gaps in the raw gaze data for these specific instances.\n",
    "\n",
    "Given that the interpolated gaze data shows the same spatial distribution and the same pattern of null values as the raw gaze data, it appears that the interpolation did not significantly alter or complete the data in this case. Therefore, keeping both the raw and interpolated gaze columns might be redundant, and one set could potentially be dropped to simplify the dataset without losing significant information."
   ]
  },
  {
   "cell_type": "code",
   "execution_count": null,
   "id": "89d95906",
   "metadata": {},
   "outputs": [],
   "source": [
    "df_33_IVT.drop(['Interpolated Gaze X', 'Interpolated Gaze Y'], axis=1, inplace=True)"
   ]
  },
  {
   "cell_type": "code",
   "execution_count": null,
   "id": "2e0c102f",
   "metadata": {},
   "outputs": [],
   "source": [
    "df_33_IVT.head()"
   ]
  },
  {
   "cell_type": "code",
   "execution_count": null,
   "id": "ed633727",
   "metadata": {},
   "outputs": [],
   "source": [
    "plt.figure(figsize=(12, 8))\n",
    "sns.heatmap(df_33_IVT.isnull(), cmap='viridis')\n",
    "plt.show()"
   ]
  },
  {
   "cell_type": "code",
   "execution_count": null,
   "id": "bde8bf0f",
   "metadata": {},
   "outputs": [],
   "source": [
    "df_33_IVT.columns"
   ]
  },
  {
   "cell_type": "code",
   "execution_count": null,
   "id": "17d35cd1",
   "metadata": {},
   "outputs": [],
   "source": [
    "fix_1_df = df_33_IVT.dropna(subset=['Fixation Duration'])\n",
    "sac_1_df = df_33_IVT.dropna(subset=['Saccade Duration'])"
   ]
  },
  {
   "cell_type": "code",
   "execution_count": null,
   "id": "f85378c4",
   "metadata": {},
   "outputs": [],
   "source": [
    "fix_1_df.shape"
   ]
  },
  {
   "cell_type": "code",
   "execution_count": null,
   "id": "de728201",
   "metadata": {},
   "outputs": [],
   "source": [
    "sac_1_df.shape"
   ]
  },
  {
   "cell_type": "code",
   "execution_count": null,
   "id": "31d9f129",
   "metadata": {},
   "outputs": [],
   "source": [
    "fix_1_feature = fix_1_df.groupby('QuestionKey').agg({\n",
    "    'Fixation Duration': ['count','mean','max','sum','var'],\n",
    "    'Fixation Dispersion': ['mean','max'],\n",
    "    'Fixation X': ['var'],   # screen spread X\n",
    "    'Fixation Y': ['var']    # screen spread Y\n",
    "})"
   ]
  },
  {
   "cell_type": "code",
   "execution_count": null,
   "id": "31140573",
   "metadata": {},
   "outputs": [],
   "source": [
    "fix_1_feature.columns = ['fix_count','fix_mean_dur','fix_max_dur','fix_total_time',\n",
    "                        'fix_dur_var','fix_disp_mean','fix_disp_max',\n",
    "                        'fix_x_var','fix_y_var']"
   ]
  },
  {
   "cell_type": "code",
   "execution_count": null,
   "id": "cf542932",
   "metadata": {},
   "outputs": [],
   "source": [
    "fix_1_feature"
   ]
  },
  {
   "cell_type": "code",
   "execution_count": null,
   "id": "2328c014",
   "metadata": {},
   "outputs": [],
   "source": [
    "sac_1_features = sac_1_df.groupby('QuestionKey').agg({\n",
    "    'Saccade Duration': ['count','mean','sum'],\n",
    "    'Saccade Amplitude': ['mean','max'],\n",
    "    'Saccade Peak Velocity': ['mean','max'],\n",
    "    'Saccade Peak Acceleration': ['mean'],\n",
    "    'Saccade Peak Deceleration': ['mean'],\n",
    "    'Saccade Direction': ['var']   # direction variance\n",
    "})"
   ]
  },
  {
   "cell_type": "code",
   "execution_count": null,
   "id": "5b6724d9",
   "metadata": {},
   "outputs": [],
   "source": [
    "sac_1_features.columns = ['sac_count','sac_mean_dur','sac_total_time',\n",
    "                        'sac_amp_mean','sac_amp_max',\n",
    "                        'sac_vel_mean','sac_vel_max',\n",
    "                        'sac_acc_mean','sac_dec_mean','sac_dir_var']"
   ]
  },
  {
   "cell_type": "code",
   "execution_count": null,
   "id": "c03144af",
   "metadata": {},
   "outputs": [],
   "source": [
    "sac_1_features"
   ]
  },
  {
   "cell_type": "code",
   "execution_count": null,
   "id": "c95d5dc8",
   "metadata": {},
   "outputs": [],
   "source": [
    "ivt_1_features = fix_1_feature.join(sac_1_features, how='outer').fillna(0)"
   ]
  },
  {
   "cell_type": "code",
   "execution_count": null,
   "id": "11a08665",
   "metadata": {},
   "outputs": [],
   "source": [
    "ivt_1_features"
   ]
  },
  {
   "cell_type": "code",
   "execution_count": null,
   "id": "b922b6ac",
   "metadata": {},
   "outputs": [],
   "source": [
    "ivt_1_features['fix_sac_count_ratio'] = ivt_1_features['fix_count'] / (ivt_1_features['sac_count']+1e-5)\n",
    "ivt_1_features['fix_sac_time_ratio']  = ivt_1_features['fix_total_time'] / (ivt_1_features['sac_total_time']+1e-5)"
   ]
  },
  {
   "cell_type": "code",
   "execution_count": null,
   "id": "223abf2a",
   "metadata": {},
   "outputs": [],
   "source": [
    "ivt_1_features"
   ]
  },
  {
   "cell_type": "code",
   "execution_count": null,
   "id": "419910dd",
   "metadata": {},
   "outputs": [],
   "source": []
  },
  {
   "cell_type": "markdown",
   "id": "bbb3c506",
   "metadata": {},
   "source": [
    "# Aggregation of Fixation and Saccade Features\n",
    "\n",
    "In the preceding code cells, we performed aggregation on the `fix_1_df` and `sac_1_df` DataFrames, which contain the cleaned fixation and saccade data, respectively. The goal of this aggregation was to create a summary of eye-tracking metrics for each `QuestionKey`.\n",
    "\n",
    "For fixations, we calculated:\n",
    "- Count of fixations (`fix_count`)\n",
    "- Mean, max, sum, and variance of fixation duration (`fix_mean_dur`, `fix_max_dur`, `fix_total_time`, `fix_dur_var`)\n",
    "- Mean and max of fixation dispersion (`fix_disp_mean`, `fix_disp_max`)\n",
    "- Variance of fixation X and Y coordinates (`fix_x_var`, `fix_y_var`) to represent screen spread.\n",
    "\n",
    "For saccades, we calculated:\n",
    "- Count of saccades (`sac_count`)\n",
    "- Mean and sum of saccade duration (`sac_mean_dur`, `sac_total_time`)\n",
    "- Mean and max of saccade amplitude (`sac_amp_mean`, `sac_amp_max`)\n",
    "- Mean and max of saccade peak velocity (`sac_vel_mean`, `sac_vel_max`)\n",
    "- Mean of saccade peak acceleration and deceleration (`sac_acc_mean`, `sac_dec_mean`)\n",
    "- Variance of saccade direction (`sac_dir_var`).\n",
    "\n",
    "Finally, we joined these aggregated fixation and saccade features into a single DataFrame called `ivt_1_features`, using `QuestionKey` as the index. We also filled any resulting missing values (from `QuestionKey` values that may only have fixations or saccades, but not both) with 0. This `ivt_1_features` DataFrame now provides a consolidated summary of key eye-tracking characteristics for each question, which can be used for further analysis or modeling."
   ]
  },
  {
   "cell_type": "markdown",
   "id": "2989c907",
   "metadata": {},
   "source": [
    "## IVT 34"
   ]
  },
  {
   "cell_type": "code",
   "execution_count": null,
   "id": "74d1076a",
   "metadata": {},
   "outputs": [],
   "source": [
    "df_34_IVT = pd.read_csv('data/STData/34/34_IVT.csv')"
   ]
  },
  {
   "cell_type": "code",
   "execution_count": null,
   "id": "8d8cc560",
   "metadata": {},
   "outputs": [],
   "source": [
    "df_34_IVT.head()"
   ]
  },
  {
   "cell_type": "code",
   "execution_count": null,
   "id": "b9553489",
   "metadata": {},
   "outputs": [],
   "source": [
    "df_34_IVT.columns"
   ]
  },
  {
   "cell_type": "code",
   "execution_count": null,
   "id": "f35f6ec1",
   "metadata": {},
   "outputs": [],
   "source": [
    "df_34_IVT.shape"
   ]
  },
  {
   "cell_type": "code",
   "execution_count": null,
   "id": "611c4226",
   "metadata": {},
   "outputs": [],
   "source": [
    "df_34_IVT.info()"
   ]
  },
  {
   "cell_type": "code",
   "execution_count": null,
   "id": "371ee746",
   "metadata": {},
   "outputs": [],
   "source": [
    "df_34_IVT.isnull().sum()"
   ]
  },
  {
   "cell_type": "code",
   "execution_count": null,
   "id": "ed1e69c6",
   "metadata": {},
   "outputs": [],
   "source": [
    "plt.figure(figsize=(14,10))\n",
    "sns.heatmap(df_34_IVT.isnull(), cmap='viridis')\n",
    "plt.show()"
   ]
  },
  {
   "cell_type": "markdown",
   "id": "b08c2a29",
   "metadata": {},
   "source": [
    "# Notes & Observations\n",
    "\n",
    "- We observe many **null** (or missing) values in the `QuestionKey` columns.\n",
    "- The nulls in the `QuestionKey` column may not represent “true” nulls. Rather, they follow interval patterns, suggesting that during those periods no question was displayed.\n",
    "- These missing values in `QuestionKey` require additional investigation and context-aware handling."
   ]
  },
  {
   "cell_type": "code",
   "execution_count": null,
   "id": "aaecb85f",
   "metadata": {},
   "outputs": [],
   "source": [
    "df_34_IVT['QuestionKey'].unique()"
   ]
  },
  {
   "cell_type": "code",
   "execution_count": null,
   "id": "f0289d87",
   "metadata": {},
   "outputs": [],
   "source": [
    "df_34_IVT['Timestamp'] = pd.to_datetime(df_34_IVT['Timestamp'])"
   ]
  },
  {
   "cell_type": "code",
   "execution_count": null,
   "id": "818e721a",
   "metadata": {},
   "outputs": [],
   "source": [
    "df_34_IVT.head(3)"
   ]
  },
  {
   "cell_type": "code",
   "execution_count": null,
   "id": "dca687b7",
   "metadata": {},
   "outputs": [],
   "source": [
    "df_34_IVT['QuestionKey'].fillna('None', inplace=True)"
   ]
  },
  {
   "cell_type": "code",
   "execution_count": null,
   "id": "a3223f49",
   "metadata": {},
   "outputs": [],
   "source": [
    "df_34_IVT['QuestionKey'].value_counts()"
   ]
  },
  {
   "cell_type": "code",
   "execution_count": null,
   "id": "9af4496d",
   "metadata": {},
   "outputs": [],
   "source": [
    "plt.figure(figsize=(14,10))\n",
    "sns.heatmap(df_34_IVT.isnull(), cmap='viridis')\n",
    "plt.show()"
   ]
  },
  {
   "cell_type": "code",
   "execution_count": null,
   "id": "5b9c2337",
   "metadata": {},
   "outputs": [],
   "source": [
    "df_34_IVT.isnull().sum()"
   ]
  },
  {
   "cell_type": "code",
   "execution_count": null,
   "id": "5fb06a95",
   "metadata": {},
   "outputs": [],
   "source": [
    "df_34_IVT.head()"
   ]
  },
  {
   "cell_type": "code",
   "execution_count": null,
   "id": "86bf97a7",
   "metadata": {},
   "outputs": [],
   "source": [
    "df_34_IVT['Row'].unique()"
   ]
  },
  {
   "cell_type": "code",
   "execution_count": null,
   "id": "aa9ccab0",
   "metadata": {},
   "outputs": [],
   "source": [
    "plt.figure(figsize=(8,6))\n",
    "sns.histplot(df_34_IVT['Row'])\n",
    "plt.show()"
   ]
  },
  {
   "cell_type": "markdown",
   "id": "f1cf7b38",
   "metadata": {},
   "source": [
    "# Notes & Observations\n",
    "\n",
    "- The `Row` column appears to be a simple row index and does not provide meaningful information relevant to the eye-tracking data itself. Therefore, it can be dropped."
   ]
  },
  {
   "cell_type": "code",
   "execution_count": null,
   "id": "1a74abc3",
   "metadata": {},
   "outputs": [],
   "source": [
    "df_34_IVT.drop('Row', axis=1, inplace=True)"
   ]
  },
  {
   "cell_type": "code",
   "execution_count": null,
   "id": "4c1c5d5e",
   "metadata": {},
   "outputs": [],
   "source": [
    "fig, axes = plt.subplots(1, 2, figsize=(20, 10))\n",
    "\n",
    "sns.scatterplot(data=df_34_IVT, x='Gaze X', y='Gaze Y', ax=axes[0])\n",
    "axes[0].set_title('Gaze X vs Gaze Y')\n",
    "\n",
    "sns.scatterplot(data=df_34_IVT, x='Interpolated Gaze X', y='Interpolated Gaze Y', ax=axes[1])\n",
    "axes[1].set_title('Interpolated Gaze X vs Interpolated Gaze Y')\n",
    "\n",
    "plt.tight_layout()\n",
    "plt.show()"
   ]
  },
  {
   "cell_type": "markdown",
   "id": "a057ebb7",
   "metadata": {},
   "source": [
    "# Gaze and Interpolated Gaze Scatter Plots\n",
    "\n",
    "The scatter plots above visualize the relationship between the x and y coordinates of both the raw gaze data and the interpolated gaze data.\n",
    "\n",
    "- **Gaze X vs Gaze Y:** This plot shows the raw gaze coordinates. The scattered points indicate the locations on the screen where the participant was looking. The density of points in certain areas might suggest regions of interest.\n",
    "- **Interpolated Gaze X vs Interpolated Gaze Y:** This plot shows the interpolated gaze coordinates. Interpolation is often used to fill in gaps in the raw gaze data, providing a smoother representation of the gaze path. Comparing this plot to the raw gaze plot can show the effect of the interpolation process.\n",
    "\n",
    "Both plots can help in understanding the distribution of gaze points across the screen and identifying potential patterns or biases in eye movements."
   ]
  },
  {
   "cell_type": "code",
   "execution_count": null,
   "id": "e1e6e154",
   "metadata": {},
   "outputs": [],
   "source": [
    "df_34_IVT.describe()"
   ]
  },
  {
   "cell_type": "code",
   "execution_count": null,
   "id": "f37a03cc",
   "metadata": {},
   "outputs": [],
   "source": [
    "df_34_IVT.head(3)"
   ]
  },
  {
   "cell_type": "code",
   "execution_count": null,
   "id": "6a569f3f",
   "metadata": {},
   "outputs": [],
   "source": [
    "df_34_IVT['Timestamp'] = pd.to_datetime(df_34_IVT['Timestamp'])"
   ]
  },
  {
   "cell_type": "code",
   "execution_count": null,
   "id": "3cb8b433",
   "metadata": {},
   "outputs": [],
   "source": [
    "df_34_IVT.columns"
   ]
  },
  {
   "cell_type": "code",
   "execution_count": null,
   "id": "297a5ddf",
   "metadata": {},
   "outputs": [],
   "source": [
    "cols = ['Gaze X', 'Gaze Y',\n",
    "       'Interpolated Gaze X', 'Interpolated Gaze Y', 'Interpolated Distance',\n",
    "       'Gaze Velocity', 'Gaze Acceleration', 'Fixation Index',\n",
    "       'Fixation Index by Stimulus', 'Fixation X', 'Fixation Y',\n",
    "       'Fixation Start', 'Fixation End', 'Fixation Duration',\n",
    "       'Fixation Dispersion', 'Saccade Index', 'Saccade Index by Stimulus',\n",
    "       'Saccade Start', 'Saccade End', 'Saccade Duration', 'Saccade Amplitude',\n",
    "       'Saccade Peak Velocity', 'Saccade Peak Acceleration',\n",
    "       'Saccade Peak Deceleration', 'Saccade Direction']"
   ]
  },
  {
   "cell_type": "code",
   "execution_count": null,
   "id": "49005ec7",
   "metadata": {},
   "outputs": [],
   "source": [
    "from IPython.display import display, Markdown\n",
    "\n",
    "for col in cols:\n",
    "    # Add a markdown cell before each plot for better separation and labeling\n",
    "    display(Markdown(f'### {col} over Time'))\n",
    "    plt.figure(figsize=(16, 10))\n",
    "    sns.lineplot(x=df_34_IVT['Timestamp'], y=df_34_IVT[col])\n",
    "    plt.xlabel(\"Timestamp\") # Add x-axis label\n",
    "    plt.ylabel(col) # Add y-axis label\n",
    "    plt.show()"
   ]
  },
  {
   "cell_type": "code",
   "execution_count": null,
   "id": "9b43032f",
   "metadata": {},
   "outputs": [],
   "source": [
    "df_34_IVT.head()"
   ]
  },
  {
   "cell_type": "code",
   "execution_count": null,
   "id": "16bbe230",
   "metadata": {},
   "outputs": [],
   "source": [
    "plt.figure(figsize=(14,10))\n",
    "sns.heatmap(df_34_IVT[['Fixation Index', 'Fixation Index by Stimulus', 'Saccade Index', 'Saccade Index by Stimulus']].isnull(), cmap='viridis')\n",
    "plt.show()"
   ]
  },
  {
   "cell_type": "markdown",
   "id": "60885984",
   "metadata": {},
   "source": [
    "# Observation\n",
    "\n",
    "The `Fixation Index`, `Fixation Index by Stimulus`, `Saccade Index` and `Saccade Index by Stimulus` columns are essentially just sequence numbers for identified events. While they indicate the order of fixations and saccades, they don't provide meaningful features for a machine learning model attempting to predict or classify eye movement patterns. Therefore, we will drop these columns as they are not useful for model building."
   ]
  },
  {
   "cell_type": "code",
   "execution_count": null,
   "id": "26fa2ab1",
   "metadata": {},
   "outputs": [],
   "source": [
    "df_34_IVT.drop(['Fixation Index', 'Fixation Index by Stimulus', 'Saccade Index', 'Saccade Index by Stimulus'], axis=1, inplace=True)"
   ]
  },
  {
   "cell_type": "code",
   "execution_count": null,
   "id": "43da52d6",
   "metadata": {},
   "outputs": [],
   "source": [
    "plt.figure(figsize=(14,10))\n",
    "sns.scatterplot(data=df_34_IVT, x='Fixation X', y='Fixation Y')\n",
    "plt.title('Fixation X vs Fixation Y')\n",
    "plt.show()"
   ]
  },
  {
   "cell_type": "code",
   "execution_count": null,
   "id": "b978fb99",
   "metadata": {},
   "outputs": [],
   "source": [
    "df_34_IVT['Fixation Start'].describe()"
   ]
  },
  {
   "cell_type": "code",
   "execution_count": null,
   "id": "f6a15e56",
   "metadata": {},
   "outputs": [],
   "source": [
    "fig, axes = plt.subplots(1, 2, figsize=(20, 8))\n",
    "\n",
    "sns.histplot(df_34_IVT['Fixation Start'], bins=100, kde=True, ax=axes[0])\n",
    "axes[0].set_xlabel('Fixation Start')\n",
    "axes[0].set_ylabel('Frequency')\n",
    "axes[0].set_title('Distribution of Fixation Start')\n",
    "\n",
    "sns.histplot(df_34_IVT['Fixation End'], bins=100, kde=True, ax=axes[1])\n",
    "axes[1].set_xlabel('Fixation End')\n",
    "axes[1].set_ylabel('Frequency')\n",
    "axes[1].set_title('Distribution of Fixation End')\n",
    "\n",
    "plt.tight_layout()\n",
    "plt.show()"
   ]
  },
  {
   "cell_type": "code",
   "execution_count": null,
   "id": "0ae328e7",
   "metadata": {},
   "outputs": [],
   "source": [
    "fig, axes = plt.subplots(1, 2, figsize=(20, 8))\n",
    "\n",
    "sns.histplot(df_34_IVT['Saccade Start'], bins=100, kde=True, ax=axes[0])\n",
    "axes[0].set_xlabel('Saccade Start')\n",
    "axes[0].set_ylabel('Frequency')\n",
    "axes[0].set_title('Distribution of Saccade Start')\n",
    "\n",
    "sns.histplot(df_34_IVT['Saccade End'], bins=100, kde=True, ax=axes[1])\n",
    "axes[1].set_xlabel('Saccade End')\n",
    "axes[1].set_ylabel('Frequency')\n",
    "axes[1].set_title('Distribution of Saccade End')\n",
    "\n",
    "plt.tight_layout()\n",
    "plt.show()"
   ]
  },
  {
   "cell_type": "markdown",
   "id": "cec8b74e",
   "metadata": {},
   "source": [
    "# Observation on Fixation and Saccade Timestamps\n",
    "\n",
    "Upon examining the time series plots of 'Fixation Start', 'Fixation End', `Saccade Start`, and `Saccade End` against the `Timestamp`, we observe a clear linear, diagonal pattern. This indicates that these values are largely sequential and directly related to the progress of time in the data recording.\n",
    "\n",
    "Furthermore, the histograms of these features show distributions that, while informative about the timing of events, don't necessarily reveal complex patterns that would be highly predictive for a machine learning model.\n",
    "\n",
    "Crucially, the dataset already contains `Fixation Duration` and `Saccade Duration` columns. These duration features capture the length of each event, which is often a more directly relevant metric for understanding eye movement behavior than the absolute start and end times. Since the duration can be derived from the start and end times (Duration = End - Start), the start and end time columns introduce redundancy and do not provide substantial additional, independent information for modeling purposes.\n",
    "\n",
    "Therefore, to simplify the dataset and focus on the most informative features for potential machine movement analysis or modeling, we will drop the `Fixation Start`, `Fixation End`, `Saccade Start`, and `Saccade End` columns."
   ]
  },
  {
   "cell_type": "code",
   "execution_count": null,
   "id": "2de52f8a",
   "metadata": {},
   "outputs": [],
   "source": [
    "df_34_IVT.drop(['Fixation Start', 'Fixation End', 'Saccade Start', 'Saccade End'], axis=1, inplace=True)"
   ]
  },
  {
   "cell_type": "code",
   "execution_count": null,
   "id": "7a38919b",
   "metadata": {},
   "outputs": [],
   "source": [
    "df_34_IVT.head()"
   ]
  },
  {
   "cell_type": "code",
   "execution_count": null,
   "id": "385f9634",
   "metadata": {},
   "outputs": [],
   "source": [
    "plt.figure(figsize=(12, 8))\n",
    "sns.heatmap(df_34_IVT[['Gaze X', 'Gaze Y', 'Interpolated Gaze X', 'Interpolated Gaze Y']].isnull(), cmap='viridis')\n",
    "plt.show()\n"
   ]
  },
  {
   "cell_type": "code",
   "execution_count": null,
   "id": "f427982a",
   "metadata": {},
   "outputs": [],
   "source": []
  },
  {
   "cell_type": "markdown",
   "id": "9af03f58",
   "metadata": {},
   "source": [
    "# Observations on Gaze and Interpolated Gaze Data\n",
    "\n",
    "Based on the scatter plots of 'Gaze X' vs 'Gaze Y' and 'Interpolated Gaze X' vs 'Interpolated Gaze Y', we observe that the distributions of the raw and interpolated gaze points appear very similar. The spatial patterns of where the participant was looking are consistent between the two sets of coordinates.\n",
    "\n",
    "Furthermore, the heatmap of null values for these columns ('Gaze X', 'Gaze Y', 'Interpolated Gaze X', 'Interpolated Gaze Y') reveals that the missing values are present in the same rows for both the raw and interpolated gaze coordinates. This suggests that the interpolation process did not fill in the gaps in the raw gaze data for these specific instances.\n",
    "\n",
    "Given that the interpolated gaze data shows the same spatial distribution and the same pattern of null values as the raw gaze data, it appears that the interpolation did not significantly alter or complete the data in this case. Therefore, keeping both the raw and interpolated gaze columns might be redundant, and one set could potentially be dropped to simplify the dataset without losing significant information."
   ]
  },
  {
   "cell_type": "code",
   "execution_count": null,
   "id": "565507e4",
   "metadata": {},
   "outputs": [],
   "source": [
    "df_34_IVT.drop(['Interpolated Gaze X', 'Interpolated Gaze Y'], axis=1, inplace=True)"
   ]
  },
  {
   "cell_type": "code",
   "execution_count": null,
   "id": "740d2dac",
   "metadata": {},
   "outputs": [],
   "source": [
    "df_34_IVT.head()"
   ]
  },
  {
   "cell_type": "code",
   "execution_count": null,
   "id": "6e5ad588",
   "metadata": {},
   "outputs": [],
   "source": [
    "plt.figure(figsize=(12, 8))\n",
    "sns.heatmap(df_34_IVT.isnull(), cmap='viridis')\n",
    "plt.show()"
   ]
  },
  {
   "cell_type": "code",
   "execution_count": null,
   "id": "db0956a8",
   "metadata": {},
   "outputs": [],
   "source": [
    "df_34_IVT.columns"
   ]
  },
  {
   "cell_type": "code",
   "execution_count": null,
   "id": "8ae233af",
   "metadata": {},
   "outputs": [],
   "source": [
    "fix_1_df = df_34_IVT.dropna(subset=['Fixation Duration'])\n",
    "sac_1_df = df_34_IVT.dropna(subset=['Saccade Duration'])"
   ]
  },
  {
   "cell_type": "code",
   "execution_count": null,
   "id": "21466873",
   "metadata": {},
   "outputs": [],
   "source": [
    "fix_1_df.shape"
   ]
  },
  {
   "cell_type": "code",
   "execution_count": null,
   "id": "01eb24de",
   "metadata": {},
   "outputs": [],
   "source": [
    "sac_1_df.shape"
   ]
  },
  {
   "cell_type": "code",
   "execution_count": null,
   "id": "dddb97fa",
   "metadata": {},
   "outputs": [],
   "source": [
    "fix_1_feature = fix_1_df.groupby('QuestionKey').agg({\n",
    "    'Fixation Duration': ['count','mean','max','sum','var'],\n",
    "    'Fixation Dispersion': ['mean','max'],\n",
    "    'Fixation X': ['var'],   # screen spread X\n",
    "    'Fixation Y': ['var']    # screen spread Y\n",
    "})"
   ]
  },
  {
   "cell_type": "code",
   "execution_count": null,
   "id": "8f943e62",
   "metadata": {},
   "outputs": [],
   "source": [
    "fix_1_feature.columns = ['fix_count','fix_mean_dur','fix_max_dur','fix_total_time',\n",
    "                        'fix_dur_var','fix_disp_mean','fix_disp_max',\n",
    "                        'fix_x_var','fix_y_var']"
   ]
  },
  {
   "cell_type": "code",
   "execution_count": null,
   "id": "c69d0913",
   "metadata": {},
   "outputs": [],
   "source": [
    "fix_1_feature"
   ]
  },
  {
   "cell_type": "code",
   "execution_count": null,
   "id": "b852a95d",
   "metadata": {},
   "outputs": [],
   "source": [
    "sac_1_features = sac_1_df.groupby('QuestionKey').agg({\n",
    "    'Saccade Duration': ['count','mean','sum'],\n",
    "    'Saccade Amplitude': ['mean','max'],\n",
    "    'Saccade Peak Velocity': ['mean','max'],\n",
    "    'Saccade Peak Acceleration': ['mean'],\n",
    "    'Saccade Peak Deceleration': ['mean'],\n",
    "    'Saccade Direction': ['var']   # direction variance\n",
    "})"
   ]
  },
  {
   "cell_type": "code",
   "execution_count": null,
   "id": "8ab7e6bb",
   "metadata": {},
   "outputs": [],
   "source": [
    "sac_1_features.columns = ['sac_count','sac_mean_dur','sac_total_time',\n",
    "                        'sac_amp_mean','sac_amp_max',\n",
    "                        'sac_vel_mean','sac_vel_max',\n",
    "                        'sac_acc_mean','sac_dec_mean','sac_dir_var']"
   ]
  },
  {
   "cell_type": "code",
   "execution_count": null,
   "id": "ef659269",
   "metadata": {},
   "outputs": [],
   "source": [
    "sac_1_features"
   ]
  },
  {
   "cell_type": "code",
   "execution_count": null,
   "id": "98927e00",
   "metadata": {},
   "outputs": [],
   "source": [
    "ivt_1_features = fix_1_feature.join(sac_1_features, how='outer').fillna(0)"
   ]
  },
  {
   "cell_type": "code",
   "execution_count": null,
   "id": "c5d2ede0",
   "metadata": {},
   "outputs": [],
   "source": [
    "ivt_1_features"
   ]
  },
  {
   "cell_type": "code",
   "execution_count": null,
   "id": "ca147dcf",
   "metadata": {},
   "outputs": [],
   "source": [
    "ivt_1_features['fix_sac_count_ratio'] = ivt_1_features['fix_count'] / (ivt_1_features['sac_count']+1e-5)\n",
    "ivt_1_features['fix_sac_time_ratio']  = ivt_1_features['fix_total_time'] / (ivt_1_features['sac_total_time']+1e-5)"
   ]
  },
  {
   "cell_type": "code",
   "execution_count": null,
   "id": "149245aa",
   "metadata": {},
   "outputs": [],
   "source": [
    "ivt_1_features"
   ]
  },
  {
   "cell_type": "code",
   "execution_count": null,
   "id": "a00fb4af",
   "metadata": {},
   "outputs": [],
   "source": []
  },
  {
   "cell_type": "markdown",
   "id": "bf242b6c",
   "metadata": {},
   "source": [
    "# Aggregation of Fixation and Saccade Features\n",
    "\n",
    "In the preceding code cells, we performed aggregation on the `fix_1_df` and `sac_1_df` DataFrames, which contain the cleaned fixation and saccade data, respectively. The goal of this aggregation was to create a summary of eye-tracking metrics for each `QuestionKey`.\n",
    "\n",
    "For fixations, we calculated:\n",
    "- Count of fixations (`fix_count`)\n",
    "- Mean, max, sum, and variance of fixation duration (`fix_mean_dur`, `fix_max_dur`, `fix_total_time`, `fix_dur_var`)\n",
    "- Mean and max of fixation dispersion (`fix_disp_mean`, `fix_disp_max`)\n",
    "- Variance of fixation X and Y coordinates (`fix_x_var`, `fix_y_var`) to represent screen spread.\n",
    "\n",
    "For saccades, we calculated:\n",
    "- Count of saccades (`sac_count`)\n",
    "- Mean and sum of saccade duration (`sac_mean_dur`, `sac_total_time`)\n",
    "- Mean and max of saccade amplitude (`sac_amp_mean`, `sac_amp_max`)\n",
    "- Mean and max of saccade peak velocity (`sac_vel_mean`, `sac_vel_max`)\n",
    "- Mean of saccade peak acceleration and deceleration (`sac_acc_mean`, `sac_dec_mean`)\n",
    "- Variance of saccade direction (`sac_dir_var`).\n",
    "\n",
    "Finally, we joined these aggregated fixation and saccade features into a single DataFrame called `ivt_1_features`, using `QuestionKey` as the index. We also filled any resulting missing values (from `QuestionKey` values that may only have fixations or saccades, but not both) with 0. This `ivt_1_features` DataFrame now provides a consolidated summary of key eye-tracking characteristics for each question, which can be used for further analysis or modeling."
   ]
  },
  {
   "cell_type": "markdown",
   "id": "af3d555f",
   "metadata": {},
   "source": [
    "## IVT 35"
   ]
  },
  {
   "cell_type": "code",
   "execution_count": null,
   "id": "197bc852",
   "metadata": {},
   "outputs": [],
   "source": [
    "df_35_IVT = pd.read_csv('data/STData/35/35_IVT.csv')"
   ]
  },
  {
   "cell_type": "code",
   "execution_count": null,
   "id": "48cd6db8",
   "metadata": {},
   "outputs": [],
   "source": [
    "df_35_IVT.head()"
   ]
  },
  {
   "cell_type": "code",
   "execution_count": null,
   "id": "10cdc622",
   "metadata": {},
   "outputs": [],
   "source": [
    "df_35_IVT.columns"
   ]
  },
  {
   "cell_type": "code",
   "execution_count": null,
   "id": "c27ca702",
   "metadata": {},
   "outputs": [],
   "source": [
    "df_35_IVT.shape"
   ]
  },
  {
   "cell_type": "code",
   "execution_count": null,
   "id": "a7ea612e",
   "metadata": {},
   "outputs": [],
   "source": [
    "df_35_IVT.info()"
   ]
  },
  {
   "cell_type": "code",
   "execution_count": null,
   "id": "2f8758fe",
   "metadata": {},
   "outputs": [],
   "source": [
    "df_35_IVT.isnull().sum()"
   ]
  },
  {
   "cell_type": "code",
   "execution_count": null,
   "id": "679ae5b9",
   "metadata": {},
   "outputs": [],
   "source": [
    "plt.figure(figsize=(14,10))\n",
    "sns.heatmap(df_35_IVT.isnull(), cmap='viridis')\n",
    "plt.show()"
   ]
  },
  {
   "cell_type": "markdown",
   "id": "72178eb7",
   "metadata": {},
   "source": [
    "# Notes & Observations\n",
    "\n",
    "- We observe many **null** (or missing) values in the `QuestionKey` columns.\n",
    "- The nulls in the `QuestionKey` column may not represent “true” nulls. Rather, they follow interval patterns, suggesting that during those periods no question was displayed.\n",
    "- These missing values in `QuestionKey` require additional investigation and context-aware handling."
   ]
  },
  {
   "cell_type": "code",
   "execution_count": null,
   "id": "2839ab78",
   "metadata": {},
   "outputs": [],
   "source": [
    "df_35_IVT['QuestionKey'].unique()"
   ]
  },
  {
   "cell_type": "code",
   "execution_count": null,
   "id": "df48fb75",
   "metadata": {},
   "outputs": [],
   "source": [
    "df_35_IVT['Timestamp'] = pd.to_datetime(df_35_IVT['Timestamp'])"
   ]
  },
  {
   "cell_type": "code",
   "execution_count": null,
   "id": "514fea63",
   "metadata": {},
   "outputs": [],
   "source": [
    "df_35_IVT.head(3)"
   ]
  },
  {
   "cell_type": "code",
   "execution_count": null,
   "id": "466c9111",
   "metadata": {},
   "outputs": [],
   "source": [
    "df_35_IVT['QuestionKey'].fillna('None', inplace=True)"
   ]
  },
  {
   "cell_type": "code",
   "execution_count": null,
   "id": "eed425a7",
   "metadata": {},
   "outputs": [],
   "source": [
    "df_35_IVT['QuestionKey'].value_counts()"
   ]
  },
  {
   "cell_type": "code",
   "execution_count": null,
   "id": "4b969d75",
   "metadata": {},
   "outputs": [],
   "source": [
    "plt.figure(figsize=(14,10))\n",
    "sns.heatmap(df_35_IVT.isnull(), cmap='viridis')\n",
    "plt.show()"
   ]
  },
  {
   "cell_type": "code",
   "execution_count": null,
   "id": "41fc0c57",
   "metadata": {},
   "outputs": [],
   "source": [
    "df_35_IVT.isnull().sum()"
   ]
  },
  {
   "cell_type": "code",
   "execution_count": null,
   "id": "e2406db0",
   "metadata": {},
   "outputs": [],
   "source": [
    "df_35_IVT.head()"
   ]
  },
  {
   "cell_type": "code",
   "execution_count": null,
   "id": "997d3ac0",
   "metadata": {},
   "outputs": [],
   "source": [
    "df_35_IVT['Row'].unique()"
   ]
  },
  {
   "cell_type": "code",
   "execution_count": null,
   "id": "807bf1e4",
   "metadata": {},
   "outputs": [],
   "source": [
    "plt.figure(figsize=(8,6))\n",
    "sns.histplot(df_35_IVT['Row'])\n",
    "plt.show()"
   ]
  },
  {
   "cell_type": "markdown",
   "id": "21494555",
   "metadata": {},
   "source": [
    "# Notes & Observations\n",
    "\n",
    "- The `Row` column appears to be a simple row index and does not provide meaningful information relevant to the eye-tracking data itself. Therefore, it can be dropped."
   ]
  },
  {
   "cell_type": "code",
   "execution_count": null,
   "id": "9df38bbd",
   "metadata": {},
   "outputs": [],
   "source": [
    "df_35_IVT.drop('Row', axis=1, inplace=True)"
   ]
  },
  {
   "cell_type": "code",
   "execution_count": null,
   "id": "dc5b67e5",
   "metadata": {},
   "outputs": [],
   "source": [
    "fig, axes = plt.subplots(1, 2, figsize=(20, 10))\n",
    "\n",
    "sns.scatterplot(data=df_35_IVT, x='Gaze X', y='Gaze Y', ax=axes[0])\n",
    "axes[0].set_title('Gaze X vs Gaze Y')\n",
    "\n",
    "sns.scatterplot(data=df_35_IVT, x='Interpolated Gaze X', y='Interpolated Gaze Y', ax=axes[1])\n",
    "axes[1].set_title('Interpolated Gaze X vs Interpolated Gaze Y')\n",
    "\n",
    "plt.tight_layout()\n",
    "plt.show()"
   ]
  },
  {
   "cell_type": "markdown",
   "id": "1faeb7a2",
   "metadata": {},
   "source": [
    "# Gaze and Interpolated Gaze Scatter Plots\n",
    "\n",
    "The scatter plots above visualize the relationship between the x and y coordinates of both the raw gaze data and the interpolated gaze data.\n",
    "\n",
    "- **Gaze X vs Gaze Y:** This plot shows the raw gaze coordinates. The scattered points indicate the locations on the screen where the participant was looking. The density of points in certain areas might suggest regions of interest.\n",
    "- **Interpolated Gaze X vs Interpolated Gaze Y:** This plot shows the interpolated gaze coordinates. Interpolation is often used to fill in gaps in the raw gaze data, providing a smoother representation of the gaze path. Comparing this plot to the raw gaze plot can show the effect of the interpolation process.\n",
    "\n",
    "Both plots can help in understanding the distribution of gaze points across the screen and identifying potential patterns or biases in eye movements."
   ]
  },
  {
   "cell_type": "code",
   "execution_count": null,
   "id": "7bd867a6",
   "metadata": {},
   "outputs": [],
   "source": [
    "df_35_IVT.describe()"
   ]
  },
  {
   "cell_type": "code",
   "execution_count": null,
   "id": "2bdb2653",
   "metadata": {},
   "outputs": [],
   "source": [
    "df_35_IVT.head(3)"
   ]
  },
  {
   "cell_type": "code",
   "execution_count": null,
   "id": "f5b9fdac",
   "metadata": {},
   "outputs": [],
   "source": [
    "df_35_IVT['Timestamp'] = pd.to_datetime(df_35_IVT['Timestamp'])"
   ]
  },
  {
   "cell_type": "code",
   "execution_count": null,
   "id": "74e528f7",
   "metadata": {},
   "outputs": [],
   "source": [
    "df_35_IVT.columns"
   ]
  },
  {
   "cell_type": "code",
   "execution_count": null,
   "id": "49182c20",
   "metadata": {},
   "outputs": [],
   "source": [
    "cols = ['Gaze X', 'Gaze Y',\n",
    "       'Interpolated Gaze X', 'Interpolated Gaze Y', 'Interpolated Distance',\n",
    "       'Gaze Velocity', 'Gaze Acceleration', 'Fixation Index',\n",
    "       'Fixation Index by Stimulus', 'Fixation X', 'Fixation Y',\n",
    "       'Fixation Start', 'Fixation End', 'Fixation Duration',\n",
    "       'Fixation Dispersion', 'Saccade Index', 'Saccade Index by Stimulus',\n",
    "       'Saccade Start', 'Saccade End', 'Saccade Duration', 'Saccade Amplitude',\n",
    "       'Saccade Peak Velocity', 'Saccade Peak Acceleration',\n",
    "       'Saccade Peak Deceleration', 'Saccade Direction']"
   ]
  },
  {
   "cell_type": "code",
   "execution_count": null,
   "id": "f136d554",
   "metadata": {},
   "outputs": [],
   "source": [
    "from IPython.display import display, Markdown\n",
    "\n",
    "for col in cols:\n",
    "    # Add a markdown cell before each plot for better separation and labeling\n",
    "    display(Markdown(f'### {col} over Time'))\n",
    "    plt.figure(figsize=(16, 10))\n",
    "    sns.lineplot(x=df_35_IVT['Timestamp'], y=df_35_IVT[col])\n",
    "    plt.xlabel(\"Timestamp\") # Add x-axis label\n",
    "    plt.ylabel(col) # Add y-axis label\n",
    "    plt.show()"
   ]
  },
  {
   "cell_type": "code",
   "execution_count": null,
   "id": "f6c86bee",
   "metadata": {},
   "outputs": [],
   "source": [
    "df_35_IVT.head()"
   ]
  },
  {
   "cell_type": "code",
   "execution_count": null,
   "id": "b5039d50",
   "metadata": {},
   "outputs": [],
   "source": [
    "plt.figure(figsize=(14,10))\n",
    "sns.heatmap(df_35_IVT[['Fixation Index', 'Fixation Index by Stimulus', 'Saccade Index', 'Saccade Index by Stimulus']].isnull(), cmap='viridis')\n",
    "plt.show()"
   ]
  },
  {
   "cell_type": "markdown",
   "id": "ed7fa9db",
   "metadata": {},
   "source": [
    "# Observation\n",
    "\n",
    "The `Fixation Index`, `Fixation Index by Stimulus`, `Saccade Index` and `Saccade Index by Stimulus` columns are essentially just sequence numbers for identified events. While they indicate the order of fixations and saccades, they don't provide meaningful features for a machine learning model attempting to predict or classify eye movement patterns. Therefore, we will drop these columns as they are not useful for model building."
   ]
  },
  {
   "cell_type": "code",
   "execution_count": null,
   "id": "9f8bd957",
   "metadata": {},
   "outputs": [],
   "source": [
    "df_35_IVT.drop(['Fixation Index', 'Fixation Index by Stimulus', 'Saccade Index', 'Saccade Index by Stimulus'], axis=1, inplace=True)"
   ]
  },
  {
   "cell_type": "code",
   "execution_count": null,
   "id": "b11da9ab",
   "metadata": {},
   "outputs": [],
   "source": [
    "plt.figure(figsize=(14,10))\n",
    "sns.scatterplot(data=df_35_IVT, x='Fixation X', y='Fixation Y')\n",
    "plt.title('Fixation X vs Fixation Y')\n",
    "plt.show()"
   ]
  },
  {
   "cell_type": "code",
   "execution_count": null,
   "id": "915c2620",
   "metadata": {},
   "outputs": [],
   "source": [
    "df_35_IVT['Fixation Start'].describe()"
   ]
  },
  {
   "cell_type": "code",
   "execution_count": null,
   "id": "f7452802",
   "metadata": {},
   "outputs": [],
   "source": [
    "fig, axes = plt.subplots(1, 2, figsize=(20, 8))\n",
    "\n",
    "sns.histplot(df_35_IVT['Fixation Start'], bins=100, kde=True, ax=axes[0])\n",
    "axes[0].set_xlabel('Fixation Start')\n",
    "axes[0].set_ylabel('Frequency')\n",
    "axes[0].set_title('Distribution of Fixation Start')\n",
    "\n",
    "sns.histplot(df_35_IVT['Fixation End'], bins=100, kde=True, ax=axes[1])\n",
    "axes[1].set_xlabel('Fixation End')\n",
    "axes[1].set_ylabel('Frequency')\n",
    "axes[1].set_title('Distribution of Fixation End')\n",
    "\n",
    "plt.tight_layout()\n",
    "plt.show()"
   ]
  },
  {
   "cell_type": "code",
   "execution_count": null,
   "id": "47e15dff",
   "metadata": {},
   "outputs": [],
   "source": [
    "fig, axes = plt.subplots(1, 2, figsize=(20, 8))\n",
    "\n",
    "sns.histplot(df_35_IVT['Saccade Start'], bins=100, kde=True, ax=axes[0])\n",
    "axes[0].set_xlabel('Saccade Start')\n",
    "axes[0].set_ylabel('Frequency')\n",
    "axes[0].set_title('Distribution of Saccade Start')\n",
    "\n",
    "sns.histplot(df_35_IVT['Saccade End'], bins=100, kde=True, ax=axes[1])\n",
    "axes[1].set_xlabel('Saccade End')\n",
    "axes[1].set_ylabel('Frequency')\n",
    "axes[1].set_title('Distribution of Saccade End')\n",
    "\n",
    "plt.tight_layout()\n",
    "plt.show()"
   ]
  },
  {
   "cell_type": "markdown",
   "id": "6386b806",
   "metadata": {},
   "source": [
    "# Observation on Fixation and Saccade Timestamps\n",
    "\n",
    "Upon examining the time series plots of 'Fixation Start', 'Fixation End', `Saccade Start`, and `Saccade End` against the `Timestamp`, we observe a clear linear, diagonal pattern. This indicates that these values are largely sequential and directly related to the progress of time in the data recording.\n",
    "\n",
    "Furthermore, the histograms of these features show distributions that, while informative about the timing of events, don't necessarily reveal complex patterns that would be highly predictive for a machine learning model.\n",
    "\n",
    "Crucially, the dataset already contains `Fixation Duration` and `Saccade Duration` columns. These duration features capture the length of each event, which is often a more directly relevant metric for understanding eye movement behavior than the absolute start and end times. Since the duration can be derived from the start and end times (Duration = End - Start), the start and end time columns introduce redundancy and do not provide substantial additional, independent information for modeling purposes.\n",
    "\n",
    "Therefore, to simplify the dataset and focus on the most informative features for potential machine movement analysis or modeling, we will drop the `Fixation Start`, `Fixation End`, `Saccade Start`, and `Saccade End` columns."
   ]
  },
  {
   "cell_type": "code",
   "execution_count": null,
   "id": "163d93a5",
   "metadata": {},
   "outputs": [],
   "source": [
    "df_35_IVT.drop(['Fixation Start', 'Fixation End', 'Saccade Start', 'Saccade End'], axis=1, inplace=True)"
   ]
  },
  {
   "cell_type": "code",
   "execution_count": null,
   "id": "1a831e0c",
   "metadata": {},
   "outputs": [],
   "source": [
    "df_35_IVT.head()"
   ]
  },
  {
   "cell_type": "code",
   "execution_count": null,
   "id": "ece96d9b",
   "metadata": {},
   "outputs": [],
   "source": [
    "plt.figure(figsize=(12, 8))\n",
    "sns.heatmap(df_35_IVT[['Gaze X', 'Gaze Y', 'Interpolated Gaze X', 'Interpolated Gaze Y']].isnull(), cmap='viridis')\n",
    "plt.show()\n"
   ]
  },
  {
   "cell_type": "code",
   "execution_count": null,
   "id": "0f0291f8",
   "metadata": {},
   "outputs": [],
   "source": []
  },
  {
   "cell_type": "markdown",
   "id": "c8c94037",
   "metadata": {},
   "source": [
    "# Observations on Gaze and Interpolated Gaze Data\n",
    "\n",
    "Based on the scatter plots of 'Gaze X' vs 'Gaze Y' and 'Interpolated Gaze X' vs 'Interpolated Gaze Y', we observe that the distributions of the raw and interpolated gaze points appear very similar. The spatial patterns of where the participant was looking are consistent between the two sets of coordinates.\n",
    "\n",
    "Furthermore, the heatmap of null values for these columns ('Gaze X', 'Gaze Y', 'Interpolated Gaze X', 'Interpolated Gaze Y') reveals that the missing values are present in the same rows for both the raw and interpolated gaze coordinates. This suggests that the interpolation process did not fill in the gaps in the raw gaze data for these specific instances.\n",
    "\n",
    "Given that the interpolated gaze data shows the same spatial distribution and the same pattern of null values as the raw gaze data, it appears that the interpolation did not significantly alter or complete the data in this case. Therefore, keeping both the raw and interpolated gaze columns might be redundant, and one set could potentially be dropped to simplify the dataset without losing significant information."
   ]
  },
  {
   "cell_type": "code",
   "execution_count": null,
   "id": "70a93d2c",
   "metadata": {},
   "outputs": [],
   "source": [
    "df_35_IVT.drop(['Interpolated Gaze X', 'Interpolated Gaze Y'], axis=1, inplace=True)"
   ]
  },
  {
   "cell_type": "code",
   "execution_count": null,
   "id": "c9f084fc",
   "metadata": {},
   "outputs": [],
   "source": [
    "df_35_IVT.head()"
   ]
  },
  {
   "cell_type": "code",
   "execution_count": null,
   "id": "a16fb18b",
   "metadata": {},
   "outputs": [],
   "source": [
    "plt.figure(figsize=(12, 8))\n",
    "sns.heatmap(df_35_IVT.isnull(), cmap='viridis')\n",
    "plt.show()"
   ]
  },
  {
   "cell_type": "code",
   "execution_count": null,
   "id": "c5e04ce8",
   "metadata": {},
   "outputs": [],
   "source": [
    "df_35_IVT.columns"
   ]
  },
  {
   "cell_type": "code",
   "execution_count": null,
   "id": "ba0d9883",
   "metadata": {},
   "outputs": [],
   "source": [
    "fix_1_df = df_35_IVT.dropna(subset=['Fixation Duration'])\n",
    "sac_1_df = df_35_IVT.dropna(subset=['Saccade Duration'])"
   ]
  },
  {
   "cell_type": "code",
   "execution_count": null,
   "id": "54f9382d",
   "metadata": {},
   "outputs": [],
   "source": [
    "fix_1_df.shape"
   ]
  },
  {
   "cell_type": "code",
   "execution_count": null,
   "id": "5050cc3a",
   "metadata": {},
   "outputs": [],
   "source": [
    "sac_1_df.shape"
   ]
  },
  {
   "cell_type": "code",
   "execution_count": null,
   "id": "073b886a",
   "metadata": {},
   "outputs": [],
   "source": [
    "fix_1_feature = fix_1_df.groupby('QuestionKey').agg({\n",
    "    'Fixation Duration': ['count','mean','max','sum','var'],\n",
    "    'Fixation Dispersion': ['mean','max'],\n",
    "    'Fixation X': ['var'],   # screen spread X\n",
    "    'Fixation Y': ['var']    # screen spread Y\n",
    "})"
   ]
  },
  {
   "cell_type": "code",
   "execution_count": null,
   "id": "c2e627ce",
   "metadata": {},
   "outputs": [],
   "source": [
    "fix_1_feature.columns = ['fix_count','fix_mean_dur','fix_max_dur','fix_total_time',\n",
    "                        'fix_dur_var','fix_disp_mean','fix_disp_max',\n",
    "                        'fix_x_var','fix_y_var']"
   ]
  },
  {
   "cell_type": "code",
   "execution_count": null,
   "id": "e79e4575",
   "metadata": {},
   "outputs": [],
   "source": [
    "fix_1_feature"
   ]
  },
  {
   "cell_type": "code",
   "execution_count": null,
   "id": "2cc659c7",
   "metadata": {},
   "outputs": [],
   "source": [
    "sac_1_features = sac_1_df.groupby('QuestionKey').agg({\n",
    "    'Saccade Duration': ['count','mean','sum'],\n",
    "    'Saccade Amplitude': ['mean','max'],\n",
    "    'Saccade Peak Velocity': ['mean','max'],\n",
    "    'Saccade Peak Acceleration': ['mean'],\n",
    "    'Saccade Peak Deceleration': ['mean'],\n",
    "    'Saccade Direction': ['var']   # direction variance\n",
    "})"
   ]
  },
  {
   "cell_type": "code",
   "execution_count": null,
   "id": "5b230caf",
   "metadata": {},
   "outputs": [],
   "source": [
    "sac_1_features.columns = ['sac_count','sac_mean_dur','sac_total_time',\n",
    "                        'sac_amp_mean','sac_amp_max',\n",
    "                        'sac_vel_mean','sac_vel_max',\n",
    "                        'sac_acc_mean','sac_dec_mean','sac_dir_var']"
   ]
  },
  {
   "cell_type": "code",
   "execution_count": null,
   "id": "f20ad052",
   "metadata": {},
   "outputs": [],
   "source": [
    "sac_1_features"
   ]
  },
  {
   "cell_type": "code",
   "execution_count": null,
   "id": "0999a79e",
   "metadata": {},
   "outputs": [],
   "source": [
    "ivt_1_features = fix_1_feature.join(sac_1_features, how='outer').fillna(0)"
   ]
  },
  {
   "cell_type": "code",
   "execution_count": null,
   "id": "e3e34095",
   "metadata": {},
   "outputs": [],
   "source": [
    "ivt_1_features"
   ]
  },
  {
   "cell_type": "code",
   "execution_count": null,
   "id": "14a76f15",
   "metadata": {},
   "outputs": [],
   "source": [
    "ivt_1_features['fix_sac_count_ratio'] = ivt_1_features['fix_count'] / (ivt_1_features['sac_count']+1e-5)\n",
    "ivt_1_features['fix_sac_time_ratio']  = ivt_1_features['fix_total_time'] / (ivt_1_features['sac_total_time']+1e-5)"
   ]
  },
  {
   "cell_type": "code",
   "execution_count": null,
   "id": "a372b4a0",
   "metadata": {},
   "outputs": [],
   "source": [
    "ivt_1_features"
   ]
  },
  {
   "cell_type": "code",
   "execution_count": null,
   "id": "c8d9a8b8",
   "metadata": {},
   "outputs": [],
   "source": []
  },
  {
   "cell_type": "markdown",
   "id": "2a55478b",
   "metadata": {},
   "source": [
    "# Aggregation of Fixation and Saccade Features\n",
    "\n",
    "In the preceding code cells, we performed aggregation on the `fix_1_df` and `sac_1_df` DataFrames, which contain the cleaned fixation and saccade data, respectively. The goal of this aggregation was to create a summary of eye-tracking metrics for each `QuestionKey`.\n",
    "\n",
    "For fixations, we calculated:\n",
    "- Count of fixations (`fix_count`)\n",
    "- Mean, max, sum, and variance of fixation duration (`fix_mean_dur`, `fix_max_dur`, `fix_total_time`, `fix_dur_var`)\n",
    "- Mean and max of fixation dispersion (`fix_disp_mean`, `fix_disp_max`)\n",
    "- Variance of fixation X and Y coordinates (`fix_x_var`, `fix_y_var`) to represent screen spread.\n",
    "\n",
    "For saccades, we calculated:\n",
    "- Count of saccades (`sac_count`)\n",
    "- Mean and sum of saccade duration (`sac_mean_dur`, `sac_total_time`)\n",
    "- Mean and max of saccade amplitude (`sac_amp_mean`, `sac_amp_max`)\n",
    "- Mean and max of saccade peak velocity (`sac_vel_mean`, `sac_vel_max`)\n",
    "- Mean of saccade peak acceleration and deceleration (`sac_acc_mean`, `sac_dec_mean`)\n",
    "- Variance of saccade direction (`sac_dir_var`).\n",
    "\n",
    "Finally, we joined these aggregated fixation and saccade features into a single DataFrame called `ivt_1_features`, using `QuestionKey` as the index. We also filled any resulting missing values (from `QuestionKey` values that may only have fixations or saccades, but not both) with 0. This `ivt_1_features` DataFrame now provides a consolidated summary of key eye-tracking characteristics for each question, which can be used for further analysis or modeling."
   ]
  },
  {
   "cell_type": "markdown",
   "id": "f2b57c30",
   "metadata": {},
   "source": [
    "## IVT 36"
   ]
  },
  {
   "cell_type": "code",
   "execution_count": null,
   "id": "a774f64b",
   "metadata": {},
   "outputs": [],
   "source": [
    "df_36_IVT = pd.read_csv('data/STData/36/36_IVT.csv')"
   ]
  },
  {
   "cell_type": "code",
   "execution_count": null,
   "id": "83082056",
   "metadata": {},
   "outputs": [],
   "source": [
    "df_36_IVT.head()"
   ]
  },
  {
   "cell_type": "code",
   "execution_count": null,
   "id": "ee90cbfa",
   "metadata": {},
   "outputs": [],
   "source": [
    "df_36_IVT.columns"
   ]
  },
  {
   "cell_type": "code",
   "execution_count": null,
   "id": "2dc6abbc",
   "metadata": {},
   "outputs": [],
   "source": [
    "df_36_IVT.shape"
   ]
  },
  {
   "cell_type": "code",
   "execution_count": null,
   "id": "65ea0272",
   "metadata": {},
   "outputs": [],
   "source": [
    "df_36_IVT.info()"
   ]
  },
  {
   "cell_type": "code",
   "execution_count": null,
   "id": "0b4f5f60",
   "metadata": {},
   "outputs": [],
   "source": [
    "df_36_IVT.isnull().sum()"
   ]
  },
  {
   "cell_type": "code",
   "execution_count": null,
   "id": "96f870a3",
   "metadata": {},
   "outputs": [],
   "source": [
    "plt.figure(figsize=(14,10))\n",
    "sns.heatmap(df_36_IVT.isnull(), cmap='viridis')\n",
    "plt.show()"
   ]
  },
  {
   "cell_type": "markdown",
   "id": "07ebae43",
   "metadata": {},
   "source": [
    "# Notes & Observations\n",
    "\n",
    "- We observe many **null** (or missing) values in the `QuestionKey` columns.\n",
    "- The nulls in the `QuestionKey` column may not represent “true” nulls. Rather, they follow interval patterns, suggesting that during those periods no question was displayed.\n",
    "- These missing values in `QuestionKey` require additional investigation and context-aware handling."
   ]
  },
  {
   "cell_type": "code",
   "execution_count": null,
   "id": "4287ba30",
   "metadata": {},
   "outputs": [],
   "source": [
    "df_36_IVT['QuestionKey'].unique()"
   ]
  },
  {
   "cell_type": "code",
   "execution_count": null,
   "id": "7c90248b",
   "metadata": {},
   "outputs": [],
   "source": [
    "df_36_IVT['Timestamp'] = pd.to_datetime(df_36_IVT['Timestamp'])"
   ]
  },
  {
   "cell_type": "code",
   "execution_count": null,
   "id": "739e0fce",
   "metadata": {},
   "outputs": [],
   "source": [
    "df_36_IVT.head(3)"
   ]
  },
  {
   "cell_type": "code",
   "execution_count": null,
   "id": "6d10bbfa",
   "metadata": {},
   "outputs": [],
   "source": [
    "df_36_IVT['QuestionKey'].fillna('None', inplace=True)"
   ]
  },
  {
   "cell_type": "code",
   "execution_count": null,
   "id": "13db4592",
   "metadata": {},
   "outputs": [],
   "source": [
    "df_36_IVT['QuestionKey'].value_counts()"
   ]
  },
  {
   "cell_type": "code",
   "execution_count": null,
   "id": "9477d5ab",
   "metadata": {},
   "outputs": [],
   "source": [
    "plt.figure(figsize=(14,10))\n",
    "sns.heatmap(df_36_IVT.isnull(), cmap='viridis')\n",
    "plt.show()"
   ]
  },
  {
   "cell_type": "code",
   "execution_count": null,
   "id": "0d9e5574",
   "metadata": {},
   "outputs": [],
   "source": [
    "df_36_IVT.isnull().sum()"
   ]
  },
  {
   "cell_type": "code",
   "execution_count": null,
   "id": "2d6e3b51",
   "metadata": {},
   "outputs": [],
   "source": [
    "df_36_IVT.head()"
   ]
  },
  {
   "cell_type": "code",
   "execution_count": null,
   "id": "2d2269d1",
   "metadata": {},
   "outputs": [],
   "source": [
    "df_36_IVT['Row'].unique()"
   ]
  },
  {
   "cell_type": "code",
   "execution_count": null,
   "id": "e305cf50",
   "metadata": {},
   "outputs": [],
   "source": [
    "plt.figure(figsize=(8,6))\n",
    "sns.histplot(df_36_IVT['Row'])\n",
    "plt.show()"
   ]
  },
  {
   "cell_type": "markdown",
   "id": "a39cfa01",
   "metadata": {},
   "source": [
    "# Notes & Observations\n",
    "\n",
    "- The `Row` column appears to be a simple row index and does not provide meaningful information relevant to the eye-tracking data itself. Therefore, it can be dropped."
   ]
  },
  {
   "cell_type": "code",
   "execution_count": null,
   "id": "4ef8cce4",
   "metadata": {},
   "outputs": [],
   "source": [
    "df_36_IVT.drop('Row', axis=1, inplace=True)"
   ]
  },
  {
   "cell_type": "code",
   "execution_count": null,
   "id": "149baa2f",
   "metadata": {},
   "outputs": [],
   "source": [
    "fig, axes = plt.subplots(1, 2, figsize=(20, 10))\n",
    "\n",
    "sns.scatterplot(data=df_36_IVT, x='Gaze X', y='Gaze Y', ax=axes[0])\n",
    "axes[0].set_title('Gaze X vs Gaze Y')\n",
    "\n",
    "sns.scatterplot(data=df_36_IVT, x='Interpolated Gaze X', y='Interpolated Gaze Y', ax=axes[1])\n",
    "axes[1].set_title('Interpolated Gaze X vs Interpolated Gaze Y')\n",
    "\n",
    "plt.tight_layout()\n",
    "plt.show()"
   ]
  },
  {
   "cell_type": "markdown",
   "id": "963ec196",
   "metadata": {},
   "source": [
    "# Gaze and Interpolated Gaze Scatter Plots\n",
    "\n",
    "The scatter plots above visualize the relationship between the x and y coordinates of both the raw gaze data and the interpolated gaze data.\n",
    "\n",
    "- **Gaze X vs Gaze Y:** This plot shows the raw gaze coordinates. The scattered points indicate the locations on the screen where the participant was looking. The density of points in certain areas might suggest regions of interest.\n",
    "- **Interpolated Gaze X vs Interpolated Gaze Y:** This plot shows the interpolated gaze coordinates. Interpolation is often used to fill in gaps in the raw gaze data, providing a smoother representation of the gaze path. Comparing this plot to the raw gaze plot can show the effect of the interpolation process.\n",
    "\n",
    "Both plots can help in understanding the distribution of gaze points across the screen and identifying potential patterns or biases in eye movements."
   ]
  },
  {
   "cell_type": "code",
   "execution_count": null,
   "id": "5dfafb12",
   "metadata": {},
   "outputs": [],
   "source": [
    "df_36_IVT.describe()"
   ]
  },
  {
   "cell_type": "code",
   "execution_count": null,
   "id": "5517eb86",
   "metadata": {},
   "outputs": [],
   "source": [
    "df_36_IVT.head(3)"
   ]
  },
  {
   "cell_type": "code",
   "execution_count": null,
   "id": "723d4ba1",
   "metadata": {},
   "outputs": [],
   "source": [
    "df_36_IVT['Timestamp'] = pd.to_datetime(df_36_IVT['Timestamp'])"
   ]
  },
  {
   "cell_type": "code",
   "execution_count": null,
   "id": "ff20ab15",
   "metadata": {},
   "outputs": [],
   "source": [
    "df_36_IVT.columns"
   ]
  },
  {
   "cell_type": "code",
   "execution_count": null,
   "id": "add685a8",
   "metadata": {},
   "outputs": [],
   "source": [
    "cols = ['Gaze X', 'Gaze Y',\n",
    "       'Interpolated Gaze X', 'Interpolated Gaze Y', 'Interpolated Distance',\n",
    "       'Gaze Velocity', 'Gaze Acceleration', 'Fixation Index',\n",
    "       'Fixation Index by Stimulus', 'Fixation X', 'Fixation Y',\n",
    "       'Fixation Start', 'Fixation End', 'Fixation Duration',\n",
    "       'Fixation Dispersion', 'Saccade Index', 'Saccade Index by Stimulus',\n",
    "       'Saccade Start', 'Saccade End', 'Saccade Duration', 'Saccade Amplitude',\n",
    "       'Saccade Peak Velocity', 'Saccade Peak Acceleration',\n",
    "       'Saccade Peak Deceleration', 'Saccade Direction']"
   ]
  },
  {
   "cell_type": "code",
   "execution_count": null,
   "id": "b94c1874",
   "metadata": {},
   "outputs": [],
   "source": [
    "from IPython.display import display, Markdown\n",
    "\n",
    "for col in cols:\n",
    "    # Add a markdown cell before each plot for better separation and labeling\n",
    "    display(Markdown(f'### {col} over Time'))\n",
    "    plt.figure(figsize=(16, 10))\n",
    "    sns.lineplot(x=df_36_IVT['Timestamp'], y=df_36_IVT[col])\n",
    "    plt.xlabel(\"Timestamp\") # Add x-axis label\n",
    "    plt.ylabel(col) # Add y-axis label\n",
    "    plt.show()"
   ]
  },
  {
   "cell_type": "code",
   "execution_count": null,
   "id": "83e92d9c",
   "metadata": {},
   "outputs": [],
   "source": [
    "df_36_IVT.head()"
   ]
  },
  {
   "cell_type": "code",
   "execution_count": null,
   "id": "f6ed17d9",
   "metadata": {},
   "outputs": [],
   "source": [
    "plt.figure(figsize=(14,10))\n",
    "sns.heatmap(df_36_IVT[['Fixation Index', 'Fixation Index by Stimulus', 'Saccade Index', 'Saccade Index by Stimulus']].isnull(), cmap='viridis')\n",
    "plt.show()"
   ]
  },
  {
   "cell_type": "markdown",
   "id": "cf3ffde6",
   "metadata": {},
   "source": [
    "# Observation\n",
    "\n",
    "The `Fixation Index`, `Fixation Index by Stimulus`, `Saccade Index` and `Saccade Index by Stimulus` columns are essentially just sequence numbers for identified events. While they indicate the order of fixations and saccades, they don't provide meaningful features for a machine learning model attempting to predict or classify eye movement patterns. Therefore, we will drop these columns as they are not useful for model building."
   ]
  },
  {
   "cell_type": "code",
   "execution_count": null,
   "id": "c2e9cab7",
   "metadata": {},
   "outputs": [],
   "source": [
    "df_36_IVT.drop(['Fixation Index', 'Fixation Index by Stimulus', 'Saccade Index', 'Saccade Index by Stimulus'], axis=1, inplace=True)"
   ]
  },
  {
   "cell_type": "code",
   "execution_count": null,
   "id": "d3c046c6",
   "metadata": {},
   "outputs": [],
   "source": [
    "plt.figure(figsize=(14,10))\n",
    "sns.scatterplot(data=df_36_IVT, x='Fixation X', y='Fixation Y')\n",
    "plt.title('Fixation X vs Fixation Y')\n",
    "plt.show()"
   ]
  },
  {
   "cell_type": "code",
   "execution_count": null,
   "id": "e6179672",
   "metadata": {},
   "outputs": [],
   "source": [
    "df_36_IVT['Fixation Start'].describe()"
   ]
  },
  {
   "cell_type": "code",
   "execution_count": null,
   "id": "c7aee3c7",
   "metadata": {},
   "outputs": [],
   "source": [
    "fig, axes = plt.subplots(1, 2, figsize=(20, 8))\n",
    "\n",
    "sns.histplot(df_36_IVT['Fixation Start'], bins=100, kde=True, ax=axes[0])\n",
    "axes[0].set_xlabel('Fixation Start')\n",
    "axes[0].set_ylabel('Frequency')\n",
    "axes[0].set_title('Distribution of Fixation Start')\n",
    "\n",
    "sns.histplot(df_36_IVT['Fixation End'], bins=100, kde=True, ax=axes[1])\n",
    "axes[1].set_xlabel('Fixation End')\n",
    "axes[1].set_ylabel('Frequency')\n",
    "axes[1].set_title('Distribution of Fixation End')\n",
    "\n",
    "plt.tight_layout()\n",
    "plt.show()"
   ]
  },
  {
   "cell_type": "code",
   "execution_count": null,
   "id": "8bcd4322",
   "metadata": {},
   "outputs": [],
   "source": [
    "fig, axes = plt.subplots(1, 2, figsize=(20, 8))\n",
    "\n",
    "sns.histplot(df_36_IVT['Saccade Start'], bins=100, kde=True, ax=axes[0])\n",
    "axes[0].set_xlabel('Saccade Start')\n",
    "axes[0].set_ylabel('Frequency')\n",
    "axes[0].set_title('Distribution of Saccade Start')\n",
    "\n",
    "sns.histplot(df_36_IVT['Saccade End'], bins=100, kde=True, ax=axes[1])\n",
    "axes[1].set_xlabel('Saccade End')\n",
    "axes[1].set_ylabel('Frequency')\n",
    "axes[1].set_title('Distribution of Saccade End')\n",
    "\n",
    "plt.tight_layout()\n",
    "plt.show()"
   ]
  },
  {
   "cell_type": "markdown",
   "id": "f75e7066",
   "metadata": {},
   "source": [
    "# Observation on Fixation and Saccade Timestamps\n",
    "\n",
    "Upon examining the time series plots of 'Fixation Start', 'Fixation End', `Saccade Start`, and `Saccade End` against the `Timestamp`, we observe a clear linear, diagonal pattern. This indicates that these values are largely sequential and directly related to the progress of time in the data recording.\n",
    "\n",
    "Furthermore, the histograms of these features show distributions that, while informative about the timing of events, don't necessarily reveal complex patterns that would be highly predictive for a machine learning model.\n",
    "\n",
    "Crucially, the dataset already contains `Fixation Duration` and `Saccade Duration` columns. These duration features capture the length of each event, which is often a more directly relevant metric for understanding eye movement behavior than the absolute start and end times. Since the duration can be derived from the start and end times (Duration = End - Start), the start and end time columns introduce redundancy and do not provide substantial additional, independent information for modeling purposes.\n",
    "\n",
    "Therefore, to simplify the dataset and focus on the most informative features for potential machine movement analysis or modeling, we will drop the `Fixation Start`, `Fixation End`, `Saccade Start`, and `Saccade End` columns."
   ]
  },
  {
   "cell_type": "code",
   "execution_count": null,
   "id": "a12613f1",
   "metadata": {},
   "outputs": [],
   "source": [
    "df_36_IVT.drop(['Fixation Start', 'Fixation End', 'Saccade Start', 'Saccade End'], axis=1, inplace=True)"
   ]
  },
  {
   "cell_type": "code",
   "execution_count": null,
   "id": "0720b773",
   "metadata": {},
   "outputs": [],
   "source": [
    "df_36_IVT.head()"
   ]
  },
  {
   "cell_type": "code",
   "execution_count": null,
   "id": "411f2999",
   "metadata": {},
   "outputs": [],
   "source": [
    "plt.figure(figsize=(12, 8))\n",
    "sns.heatmap(df_36_IVT[['Gaze X', 'Gaze Y', 'Interpolated Gaze X', 'Interpolated Gaze Y']].isnull(), cmap='viridis')\n",
    "plt.show()\n"
   ]
  },
  {
   "cell_type": "code",
   "execution_count": null,
   "id": "bcf9673a",
   "metadata": {},
   "outputs": [],
   "source": []
  },
  {
   "cell_type": "markdown",
   "id": "29125c32",
   "metadata": {},
   "source": [
    "# Observations on Gaze and Interpolated Gaze Data\n",
    "\n",
    "Based on the scatter plots of 'Gaze X' vs 'Gaze Y' and 'Interpolated Gaze X' vs 'Interpolated Gaze Y', we observe that the distributions of the raw and interpolated gaze points appear very similar. The spatial patterns of where the participant was looking are consistent between the two sets of coordinates.\n",
    "\n",
    "Furthermore, the heatmap of null values for these columns ('Gaze X', 'Gaze Y', 'Interpolated Gaze X', 'Interpolated Gaze Y') reveals that the missing values are present in the same rows for both the raw and interpolated gaze coordinates. This suggests that the interpolation process did not fill in the gaps in the raw gaze data for these specific instances.\n",
    "\n",
    "Given that the interpolated gaze data shows the same spatial distribution and the same pattern of null values as the raw gaze data, it appears that the interpolation did not significantly alter or complete the data in this case. Therefore, keeping both the raw and interpolated gaze columns might be redundant, and one set could potentially be dropped to simplify the dataset without losing significant information."
   ]
  },
  {
   "cell_type": "code",
   "execution_count": null,
   "id": "d44200ca",
   "metadata": {},
   "outputs": [],
   "source": [
    "df_36_IVT.drop(['Interpolated Gaze X', 'Interpolated Gaze Y'], axis=1, inplace=True)"
   ]
  },
  {
   "cell_type": "code",
   "execution_count": null,
   "id": "e3700f4d",
   "metadata": {},
   "outputs": [],
   "source": [
    "df_36_IVT.head()"
   ]
  },
  {
   "cell_type": "code",
   "execution_count": null,
   "id": "359a9661",
   "metadata": {},
   "outputs": [],
   "source": [
    "plt.figure(figsize=(12, 8))\n",
    "sns.heatmap(df_36_IVT.isnull(), cmap='viridis')\n",
    "plt.show()"
   ]
  },
  {
   "cell_type": "code",
   "execution_count": null,
   "id": "e78a24b8",
   "metadata": {},
   "outputs": [],
   "source": [
    "df_36_IVT.columns"
   ]
  },
  {
   "cell_type": "code",
   "execution_count": null,
   "id": "feaa1c40",
   "metadata": {},
   "outputs": [],
   "source": [
    "fix_1_df = df_36_IVT.dropna(subset=['Fixation Duration'])\n",
    "sac_1_df = df_36_IVT.dropna(subset=['Saccade Duration'])"
   ]
  },
  {
   "cell_type": "code",
   "execution_count": null,
   "id": "85639840",
   "metadata": {},
   "outputs": [],
   "source": [
    "fix_1_df.shape"
   ]
  },
  {
   "cell_type": "code",
   "execution_count": null,
   "id": "418ae0a6",
   "metadata": {},
   "outputs": [],
   "source": [
    "sac_1_df.shape"
   ]
  },
  {
   "cell_type": "code",
   "execution_count": null,
   "id": "a92964d9",
   "metadata": {},
   "outputs": [],
   "source": [
    "fix_1_feature = fix_1_df.groupby('QuestionKey').agg({\n",
    "    'Fixation Duration': ['count','mean','max','sum','var'],\n",
    "    'Fixation Dispersion': ['mean','max'],\n",
    "    'Fixation X': ['var'],   # screen spread X\n",
    "    'Fixation Y': ['var']    # screen spread Y\n",
    "})"
   ]
  },
  {
   "cell_type": "code",
   "execution_count": null,
   "id": "360f0712",
   "metadata": {},
   "outputs": [],
   "source": [
    "fix_1_feature.columns = ['fix_count','fix_mean_dur','fix_max_dur','fix_total_time',\n",
    "                        'fix_dur_var','fix_disp_mean','fix_disp_max',\n",
    "                        'fix_x_var','fix_y_var']"
   ]
  },
  {
   "cell_type": "code",
   "execution_count": null,
   "id": "5f4205d7",
   "metadata": {},
   "outputs": [],
   "source": [
    "fix_1_feature"
   ]
  },
  {
   "cell_type": "code",
   "execution_count": null,
   "id": "b23bd508",
   "metadata": {},
   "outputs": [],
   "source": [
    "sac_1_features = sac_1_df.groupby('QuestionKey').agg({\n",
    "    'Saccade Duration': ['count','mean','sum'],\n",
    "    'Saccade Amplitude': ['mean','max'],\n",
    "    'Saccade Peak Velocity': ['mean','max'],\n",
    "    'Saccade Peak Acceleration': ['mean'],\n",
    "    'Saccade Peak Deceleration': ['mean'],\n",
    "    'Saccade Direction': ['var']   # direction variance\n",
    "})"
   ]
  },
  {
   "cell_type": "code",
   "execution_count": null,
   "id": "4f6fcc4b",
   "metadata": {},
   "outputs": [],
   "source": [
    "sac_1_features.columns = ['sac_count','sac_mean_dur','sac_total_time',\n",
    "                        'sac_amp_mean','sac_amp_max',\n",
    "                        'sac_vel_mean','sac_vel_max',\n",
    "                        'sac_acc_mean','sac_dec_mean','sac_dir_var']"
   ]
  },
  {
   "cell_type": "code",
   "execution_count": null,
   "id": "ed76576b",
   "metadata": {},
   "outputs": [],
   "source": [
    "sac_1_features"
   ]
  },
  {
   "cell_type": "code",
   "execution_count": null,
   "id": "bd6aead0",
   "metadata": {},
   "outputs": [],
   "source": [
    "ivt_1_features = fix_1_feature.join(sac_1_features, how='outer').fillna(0)"
   ]
  },
  {
   "cell_type": "code",
   "execution_count": null,
   "id": "8001cfad",
   "metadata": {},
   "outputs": [],
   "source": [
    "ivt_1_features"
   ]
  },
  {
   "cell_type": "code",
   "execution_count": null,
   "id": "05cb34d8",
   "metadata": {},
   "outputs": [],
   "source": [
    "ivt_1_features['fix_sac_count_ratio'] = ivt_1_features['fix_count'] / (ivt_1_features['sac_count']+1e-5)\n",
    "ivt_1_features['fix_sac_time_ratio']  = ivt_1_features['fix_total_time'] / (ivt_1_features['sac_total_time']+1e-5)"
   ]
  },
  {
   "cell_type": "code",
   "execution_count": null,
   "id": "08870485",
   "metadata": {},
   "outputs": [],
   "source": [
    "ivt_1_features"
   ]
  },
  {
   "cell_type": "code",
   "execution_count": null,
   "id": "ae2edb3c",
   "metadata": {},
   "outputs": [],
   "source": []
  },
  {
   "cell_type": "markdown",
   "id": "14c4e32e",
   "metadata": {},
   "source": [
    "# Aggregation of Fixation and Saccade Features\n",
    "\n",
    "In the preceding code cells, we performed aggregation on the `fix_1_df` and `sac_1_df` DataFrames, which contain the cleaned fixation and saccade data, respectively. The goal of this aggregation was to create a summary of eye-tracking metrics for each `QuestionKey`.\n",
    "\n",
    "For fixations, we calculated:\n",
    "- Count of fixations (`fix_count`)\n",
    "- Mean, max, sum, and variance of fixation duration (`fix_mean_dur`, `fix_max_dur`, `fix_total_time`, `fix_dur_var`)\n",
    "- Mean and max of fixation dispersion (`fix_disp_mean`, `fix_disp_max`)\n",
    "- Variance of fixation X and Y coordinates (`fix_x_var`, `fix_y_var`) to represent screen spread.\n",
    "\n",
    "For saccades, we calculated:\n",
    "- Count of saccades (`sac_count`)\n",
    "- Mean and sum of saccade duration (`sac_mean_dur`, `sac_total_time`)\n",
    "- Mean and max of saccade amplitude (`sac_amp_mean`, `sac_amp_max`)\n",
    "- Mean and max of saccade peak velocity (`sac_vel_mean`, `sac_vel_max`)\n",
    "- Mean of saccade peak acceleration and deceleration (`sac_acc_mean`, `sac_dec_mean`)\n",
    "- Variance of saccade direction (`sac_dir_var`).\n",
    "\n",
    "Finally, we joined these aggregated fixation and saccade features into a single DataFrame called `ivt_1_features`, using `QuestionKey` as the index. We also filled any resulting missing values (from `QuestionKey` values that may only have fixations or saccades, but not both) with 0. This `ivt_1_features` DataFrame now provides a consolidated summary of key eye-tracking characteristics for each question, which can be used for further analysis or modeling."
   ]
  },
  {
   "cell_type": "markdown",
   "id": "66dfe6c5",
   "metadata": {},
   "source": [
    "## IVT 37"
   ]
  },
  {
   "cell_type": "code",
   "execution_count": null,
   "id": "62d898be",
   "metadata": {},
   "outputs": [],
   "source": [
    "df_37_IVT = pd.read_csv('data/STData/37/37_IVT.csv')"
   ]
  },
  {
   "cell_type": "code",
   "execution_count": null,
   "id": "a5116dec",
   "metadata": {},
   "outputs": [],
   "source": [
    "df_37_IVT.head()"
   ]
  },
  {
   "cell_type": "code",
   "execution_count": null,
   "id": "a0d9e37e",
   "metadata": {},
   "outputs": [],
   "source": [
    "df_37_IVT.columns"
   ]
  },
  {
   "cell_type": "code",
   "execution_count": null,
   "id": "e3f9f1f3",
   "metadata": {},
   "outputs": [],
   "source": [
    "df_37_IVT.shape"
   ]
  },
  {
   "cell_type": "code",
   "execution_count": null,
   "id": "8aad331f",
   "metadata": {},
   "outputs": [],
   "source": [
    "df_37_IVT.info()"
   ]
  },
  {
   "cell_type": "code",
   "execution_count": null,
   "id": "2816e7cb",
   "metadata": {},
   "outputs": [],
   "source": [
    "df_37_IVT.isnull().sum()"
   ]
  },
  {
   "cell_type": "code",
   "execution_count": null,
   "id": "10fc44b4",
   "metadata": {},
   "outputs": [],
   "source": [
    "plt.figure(figsize=(14,10))\n",
    "sns.heatmap(df_37_IVT.isnull(), cmap='viridis')\n",
    "plt.show()"
   ]
  },
  {
   "cell_type": "markdown",
   "id": "bf260ae6",
   "metadata": {},
   "source": [
    "# Notes & Observations\n",
    "\n",
    "- We observe many **null** (or missing) values in the `QuestionKey` columns.\n",
    "- The nulls in the `QuestionKey` column may not represent “true” nulls. Rather, they follow interval patterns, suggesting that during those periods no question was displayed.\n",
    "- These missing values in `QuestionKey` require additional investigation and context-aware handling."
   ]
  },
  {
   "cell_type": "code",
   "execution_count": null,
   "id": "d71c468d",
   "metadata": {},
   "outputs": [],
   "source": [
    "df_37_IVT['QuestionKey'].unique()"
   ]
  },
  {
   "cell_type": "code",
   "execution_count": null,
   "id": "399dae71",
   "metadata": {},
   "outputs": [],
   "source": [
    "df_37_IVT['Timestamp'] = pd.to_datetime(df_37_IVT['Timestamp'])"
   ]
  },
  {
   "cell_type": "code",
   "execution_count": null,
   "id": "32d6b29c",
   "metadata": {},
   "outputs": [],
   "source": [
    "df_37_IVT.head(3)"
   ]
  },
  {
   "cell_type": "code",
   "execution_count": null,
   "id": "586a7cd0",
   "metadata": {},
   "outputs": [],
   "source": [
    "df_37_IVT['QuestionKey'].fillna('None', inplace=True)"
   ]
  },
  {
   "cell_type": "code",
   "execution_count": null,
   "id": "d5be17b6",
   "metadata": {},
   "outputs": [],
   "source": [
    "df_37_IVT['QuestionKey'].value_counts()"
   ]
  },
  {
   "cell_type": "code",
   "execution_count": null,
   "id": "dafcec4e",
   "metadata": {},
   "outputs": [],
   "source": [
    "plt.figure(figsize=(14,10))\n",
    "sns.heatmap(df_37_IVT.isnull(), cmap='viridis')\n",
    "plt.show()"
   ]
  },
  {
   "cell_type": "code",
   "execution_count": null,
   "id": "91b16ff4",
   "metadata": {},
   "outputs": [],
   "source": [
    "df_37_IVT.isnull().sum()"
   ]
  },
  {
   "cell_type": "code",
   "execution_count": null,
   "id": "07af0e60",
   "metadata": {},
   "outputs": [],
   "source": [
    "df_37_IVT.head()"
   ]
  },
  {
   "cell_type": "code",
   "execution_count": null,
   "id": "5bb560c7",
   "metadata": {},
   "outputs": [],
   "source": [
    "df_37_IVT['Row'].unique()"
   ]
  },
  {
   "cell_type": "code",
   "execution_count": null,
   "id": "b485ad30",
   "metadata": {},
   "outputs": [],
   "source": [
    "plt.figure(figsize=(8,6))\n",
    "sns.histplot(df_37_IVT['Row'])\n",
    "plt.show()"
   ]
  },
  {
   "cell_type": "markdown",
   "id": "7f92144a",
   "metadata": {},
   "source": [
    "# Notes & Observations\n",
    "\n",
    "- The `Row` column appears to be a simple row index and does not provide meaningful information relevant to the eye-tracking data itself. Therefore, it can be dropped."
   ]
  },
  {
   "cell_type": "code",
   "execution_count": null,
   "id": "b9aa8781",
   "metadata": {},
   "outputs": [],
   "source": [
    "df_37_IVT.drop('Row', axis=1, inplace=True)"
   ]
  },
  {
   "cell_type": "code",
   "execution_count": null,
   "id": "f66d8d9b",
   "metadata": {},
   "outputs": [],
   "source": [
    "fig, axes = plt.subplots(1, 2, figsize=(20, 10))\n",
    "\n",
    "sns.scatterplot(data=df_37_IVT, x='Gaze X', y='Gaze Y', ax=axes[0])\n",
    "axes[0].set_title('Gaze X vs Gaze Y')\n",
    "\n",
    "sns.scatterplot(data=df_37_IVT, x='Interpolated Gaze X', y='Interpolated Gaze Y', ax=axes[1])\n",
    "axes[1].set_title('Interpolated Gaze X vs Interpolated Gaze Y')\n",
    "\n",
    "plt.tight_layout()\n",
    "plt.show()"
   ]
  },
  {
   "cell_type": "markdown",
   "id": "c21fac48",
   "metadata": {},
   "source": [
    "# Gaze and Interpolated Gaze Scatter Plots\n",
    "\n",
    "The scatter plots above visualize the relationship between the x and y coordinates of both the raw gaze data and the interpolated gaze data.\n",
    "\n",
    "- **Gaze X vs Gaze Y:** This plot shows the raw gaze coordinates. The scattered points indicate the locations on the screen where the participant was looking. The density of points in certain areas might suggest regions of interest.\n",
    "- **Interpolated Gaze X vs Interpolated Gaze Y:** This plot shows the interpolated gaze coordinates. Interpolation is often used to fill in gaps in the raw gaze data, providing a smoother representation of the gaze path. Comparing this plot to the raw gaze plot can show the effect of the interpolation process.\n",
    "\n",
    "Both plots can help in understanding the distribution of gaze points across the screen and identifying potential patterns or biases in eye movements."
   ]
  },
  {
   "cell_type": "code",
   "execution_count": null,
   "id": "2c445704",
   "metadata": {},
   "outputs": [],
   "source": [
    "df_37_IVT.describe()"
   ]
  },
  {
   "cell_type": "code",
   "execution_count": null,
   "id": "e6033ed6",
   "metadata": {},
   "outputs": [],
   "source": [
    "df_37_IVT.head(3)"
   ]
  },
  {
   "cell_type": "code",
   "execution_count": null,
   "id": "b9edc61a",
   "metadata": {},
   "outputs": [],
   "source": [
    "df_37_IVT['Timestamp'] = pd.to_datetime(df_37_IVT['Timestamp'])"
   ]
  },
  {
   "cell_type": "code",
   "execution_count": null,
   "id": "1a9c8c06",
   "metadata": {},
   "outputs": [],
   "source": [
    "df_37_IVT.columns"
   ]
  },
  {
   "cell_type": "code",
   "execution_count": null,
   "id": "83c367aa",
   "metadata": {},
   "outputs": [],
   "source": [
    "cols = ['Gaze X', 'Gaze Y',\n",
    "       'Interpolated Gaze X', 'Interpolated Gaze Y', 'Interpolated Distance',\n",
    "       'Gaze Velocity', 'Gaze Acceleration', 'Fixation Index',\n",
    "       'Fixation Index by Stimulus', 'Fixation X', 'Fixation Y',\n",
    "       'Fixation Start', 'Fixation End', 'Fixation Duration',\n",
    "       'Fixation Dispersion', 'Saccade Index', 'Saccade Index by Stimulus',\n",
    "       'Saccade Start', 'Saccade End', 'Saccade Duration', 'Saccade Amplitude',\n",
    "       'Saccade Peak Velocity', 'Saccade Peak Acceleration',\n",
    "       'Saccade Peak Deceleration', 'Saccade Direction']"
   ]
  },
  {
   "cell_type": "code",
   "execution_count": null,
   "id": "2de0c267",
   "metadata": {},
   "outputs": [],
   "source": [
    "from IPython.display import display, Markdown\n",
    "\n",
    "for col in cols:\n",
    "    # Add a markdown cell before each plot for better separation and labeling\n",
    "    display(Markdown(f'### {col} over Time'))\n",
    "    plt.figure(figsize=(16, 10))\n",
    "    sns.lineplot(x=df_37_IVT['Timestamp'], y=df_37_IVT[col])\n",
    "    plt.xlabel(\"Timestamp\") # Add x-axis label\n",
    "    plt.ylabel(col) # Add y-axis label\n",
    "    plt.show()"
   ]
  },
  {
   "cell_type": "code",
   "execution_count": null,
   "id": "36243c42",
   "metadata": {},
   "outputs": [],
   "source": [
    "df_37_IVT.head()"
   ]
  },
  {
   "cell_type": "code",
   "execution_count": null,
   "id": "4f15ed40",
   "metadata": {},
   "outputs": [],
   "source": [
    "plt.figure(figsize=(14,10))\n",
    "sns.heatmap(df_37_IVT[['Fixation Index', 'Fixation Index by Stimulus', 'Saccade Index', 'Saccade Index by Stimulus']].isnull(), cmap='viridis')\n",
    "plt.show()"
   ]
  },
  {
   "cell_type": "markdown",
   "id": "84bc6bab",
   "metadata": {},
   "source": [
    "# Observation\n",
    "\n",
    "The `Fixation Index`, `Fixation Index by Stimulus`, `Saccade Index` and `Saccade Index by Stimulus` columns are essentially just sequence numbers for identified events. While they indicate the order of fixations and saccades, they don't provide meaningful features for a machine learning model attempting to predict or classify eye movement patterns. Therefore, we will drop these columns as they are not useful for model building."
   ]
  },
  {
   "cell_type": "code",
   "execution_count": null,
   "id": "ff8e3c36",
   "metadata": {},
   "outputs": [],
   "source": [
    "df_37_IVT.drop(['Fixation Index', 'Fixation Index by Stimulus', 'Saccade Index', 'Saccade Index by Stimulus'], axis=1, inplace=True)"
   ]
  },
  {
   "cell_type": "code",
   "execution_count": null,
   "id": "6ddc1079",
   "metadata": {},
   "outputs": [],
   "source": [
    "plt.figure(figsize=(14,10))\n",
    "sns.scatterplot(data=df_37_IVT, x='Fixation X', y='Fixation Y')\n",
    "plt.title('Fixation X vs Fixation Y')\n",
    "plt.show()"
   ]
  },
  {
   "cell_type": "code",
   "execution_count": null,
   "id": "ec8e0614",
   "metadata": {},
   "outputs": [],
   "source": [
    "df_37_IVT['Fixation Start'].describe()"
   ]
  },
  {
   "cell_type": "code",
   "execution_count": null,
   "id": "15bf35e1",
   "metadata": {},
   "outputs": [],
   "source": [
    "fig, axes = plt.subplots(1, 2, figsize=(20, 8))\n",
    "\n",
    "sns.histplot(df_37_IVT['Fixation Start'], bins=100, kde=True, ax=axes[0])\n",
    "axes[0].set_xlabel('Fixation Start')\n",
    "axes[0].set_ylabel('Frequency')\n",
    "axes[0].set_title('Distribution of Fixation Start')\n",
    "\n",
    "sns.histplot(df_37_IVT['Fixation End'], bins=100, kde=True, ax=axes[1])\n",
    "axes[1].set_xlabel('Fixation End')\n",
    "axes[1].set_ylabel('Frequency')\n",
    "axes[1].set_title('Distribution of Fixation End')\n",
    "\n",
    "plt.tight_layout()\n",
    "plt.show()"
   ]
  },
  {
   "cell_type": "code",
   "execution_count": null,
   "id": "f0c8cef6",
   "metadata": {},
   "outputs": [],
   "source": [
    "fig, axes = plt.subplots(1, 2, figsize=(20, 8))\n",
    "\n",
    "sns.histplot(df_37_IVT['Saccade Start'], bins=100, kde=True, ax=axes[0])\n",
    "axes[0].set_xlabel('Saccade Start')\n",
    "axes[0].set_ylabel('Frequency')\n",
    "axes[0].set_title('Distribution of Saccade Start')\n",
    "\n",
    "sns.histplot(df_37_IVT['Saccade End'], bins=100, kde=True, ax=axes[1])\n",
    "axes[1].set_xlabel('Saccade End')\n",
    "axes[1].set_ylabel('Frequency')\n",
    "axes[1].set_title('Distribution of Saccade End')\n",
    "\n",
    "plt.tight_layout()\n",
    "plt.show()"
   ]
  },
  {
   "cell_type": "markdown",
   "id": "a784e525",
   "metadata": {},
   "source": [
    "# Observation on Fixation and Saccade Timestamps\n",
    "\n",
    "Upon examining the time series plots of 'Fixation Start', 'Fixation End', `Saccade Start`, and `Saccade End` against the `Timestamp`, we observe a clear linear, diagonal pattern. This indicates that these values are largely sequential and directly related to the progress of time in the data recording.\n",
    "\n",
    "Furthermore, the histograms of these features show distributions that, while informative about the timing of events, don't necessarily reveal complex patterns that would be highly predictive for a machine learning model.\n",
    "\n",
    "Crucially, the dataset already contains `Fixation Duration` and `Saccade Duration` columns. These duration features capture the length of each event, which is often a more directly relevant metric for understanding eye movement behavior than the absolute start and end times. Since the duration can be derived from the start and end times (Duration = End - Start), the start and end time columns introduce redundancy and do not provide substantial additional, independent information for modeling purposes.\n",
    "\n",
    "Therefore, to simplify the dataset and focus on the most informative features for potential machine movement analysis or modeling, we will drop the `Fixation Start`, `Fixation End`, `Saccade Start`, and `Saccade End` columns."
   ]
  },
  {
   "cell_type": "code",
   "execution_count": null,
   "id": "61b0b7de",
   "metadata": {},
   "outputs": [],
   "source": [
    "df_37_IVT.drop(['Fixation Start', 'Fixation End', 'Saccade Start', 'Saccade End'], axis=1, inplace=True)"
   ]
  },
  {
   "cell_type": "code",
   "execution_count": null,
   "id": "3e186e73",
   "metadata": {},
   "outputs": [],
   "source": [
    "df_37_IVT.head()"
   ]
  },
  {
   "cell_type": "code",
   "execution_count": null,
   "id": "8051c5f6",
   "metadata": {},
   "outputs": [],
   "source": [
    "plt.figure(figsize=(12, 8))\n",
    "sns.heatmap(df_37_IVT[['Gaze X', 'Gaze Y', 'Interpolated Gaze X', 'Interpolated Gaze Y']].isnull(), cmap='viridis')\n",
    "plt.show()\n"
   ]
  },
  {
   "cell_type": "code",
   "execution_count": null,
   "id": "9dac1f82",
   "metadata": {},
   "outputs": [],
   "source": []
  },
  {
   "cell_type": "markdown",
   "id": "8954cd41",
   "metadata": {},
   "source": [
    "# Observations on Gaze and Interpolated Gaze Data\n",
    "\n",
    "Based on the scatter plots of 'Gaze X' vs 'Gaze Y' and 'Interpolated Gaze X' vs 'Interpolated Gaze Y', we observe that the distributions of the raw and interpolated gaze points appear very similar. The spatial patterns of where the participant was looking are consistent between the two sets of coordinates.\n",
    "\n",
    "Furthermore, the heatmap of null values for these columns ('Gaze X', 'Gaze Y', 'Interpolated Gaze X', 'Interpolated Gaze Y') reveals that the missing values are present in the same rows for both the raw and interpolated gaze coordinates. This suggests that the interpolation process did not fill in the gaps in the raw gaze data for these specific instances.\n",
    "\n",
    "Given that the interpolated gaze data shows the same spatial distribution and the same pattern of null values as the raw gaze data, it appears that the interpolation did not significantly alter or complete the data in this case. Therefore, keeping both the raw and interpolated gaze columns might be redundant, and one set could potentially be dropped to simplify the dataset without losing significant information."
   ]
  },
  {
   "cell_type": "code",
   "execution_count": null,
   "id": "69984cc7",
   "metadata": {},
   "outputs": [],
   "source": [
    "df_37_IVT.drop(['Interpolated Gaze X', 'Interpolated Gaze Y'], axis=1, inplace=True)"
   ]
  },
  {
   "cell_type": "code",
   "execution_count": null,
   "id": "432c5e12",
   "metadata": {},
   "outputs": [],
   "source": [
    "df_37_IVT.head()"
   ]
  },
  {
   "cell_type": "code",
   "execution_count": null,
   "id": "8ed19121",
   "metadata": {},
   "outputs": [],
   "source": [
    "plt.figure(figsize=(12, 8))\n",
    "sns.heatmap(df_37_IVT.isnull(), cmap='viridis')\n",
    "plt.show()"
   ]
  },
  {
   "cell_type": "code",
   "execution_count": null,
   "id": "b338e578",
   "metadata": {},
   "outputs": [],
   "source": [
    "df_37_IVT.columns"
   ]
  },
  {
   "cell_type": "code",
   "execution_count": null,
   "id": "d5e7b1fa",
   "metadata": {},
   "outputs": [],
   "source": [
    "fix_1_df = df_37_IVT.dropna(subset=['Fixation Duration'])\n",
    "sac_1_df = df_37_IVT.dropna(subset=['Saccade Duration'])"
   ]
  },
  {
   "cell_type": "code",
   "execution_count": null,
   "id": "230d82b8",
   "metadata": {},
   "outputs": [],
   "source": [
    "fix_1_df.shape"
   ]
  },
  {
   "cell_type": "code",
   "execution_count": null,
   "id": "19c2a431",
   "metadata": {},
   "outputs": [],
   "source": [
    "sac_1_df.shape"
   ]
  },
  {
   "cell_type": "code",
   "execution_count": null,
   "id": "f5d1b7ae",
   "metadata": {},
   "outputs": [],
   "source": [
    "fix_1_feature = fix_1_df.groupby('QuestionKey').agg({\n",
    "    'Fixation Duration': ['count','mean','max','sum','var'],\n",
    "    'Fixation Dispersion': ['mean','max'],\n",
    "    'Fixation X': ['var'],   # screen spread X\n",
    "    'Fixation Y': ['var']    # screen spread Y\n",
    "})"
   ]
  },
  {
   "cell_type": "code",
   "execution_count": null,
   "id": "43c83d87",
   "metadata": {},
   "outputs": [],
   "source": [
    "fix_1_feature.columns = ['fix_count','fix_mean_dur','fix_max_dur','fix_total_time',\n",
    "                        'fix_dur_var','fix_disp_mean','fix_disp_max',\n",
    "                        'fix_x_var','fix_y_var']"
   ]
  },
  {
   "cell_type": "code",
   "execution_count": null,
   "id": "4068162e",
   "metadata": {},
   "outputs": [],
   "source": [
    "fix_1_feature"
   ]
  },
  {
   "cell_type": "code",
   "execution_count": null,
   "id": "05eef3ad",
   "metadata": {},
   "outputs": [],
   "source": [
    "sac_1_features = sac_1_df.groupby('QuestionKey').agg({\n",
    "    'Saccade Duration': ['count','mean','sum'],\n",
    "    'Saccade Amplitude': ['mean','max'],\n",
    "    'Saccade Peak Velocity': ['mean','max'],\n",
    "    'Saccade Peak Acceleration': ['mean'],\n",
    "    'Saccade Peak Deceleration': ['mean'],\n",
    "    'Saccade Direction': ['var']   # direction variance\n",
    "})"
   ]
  },
  {
   "cell_type": "code",
   "execution_count": null,
   "id": "ff48795e",
   "metadata": {},
   "outputs": [],
   "source": [
    "sac_1_features.columns = ['sac_count','sac_mean_dur','sac_total_time',\n",
    "                        'sac_amp_mean','sac_amp_max',\n",
    "                        'sac_vel_mean','sac_vel_max',\n",
    "                        'sac_acc_mean','sac_dec_mean','sac_dir_var']"
   ]
  },
  {
   "cell_type": "code",
   "execution_count": null,
   "id": "2bc7c2f0",
   "metadata": {},
   "outputs": [],
   "source": [
    "sac_1_features"
   ]
  },
  {
   "cell_type": "code",
   "execution_count": null,
   "id": "40b03506",
   "metadata": {},
   "outputs": [],
   "source": [
    "ivt_1_features = fix_1_feature.join(sac_1_features, how='outer').fillna(0)"
   ]
  },
  {
   "cell_type": "code",
   "execution_count": null,
   "id": "5bfb2f45",
   "metadata": {},
   "outputs": [],
   "source": [
    "ivt_1_features"
   ]
  },
  {
   "cell_type": "code",
   "execution_count": null,
   "id": "f4e2cba4",
   "metadata": {},
   "outputs": [],
   "source": [
    "ivt_1_features['fix_sac_count_ratio'] = ivt_1_features['fix_count'] / (ivt_1_features['sac_count']+1e-5)\n",
    "ivt_1_features['fix_sac_time_ratio']  = ivt_1_features['fix_total_time'] / (ivt_1_features['sac_total_time']+1e-5)"
   ]
  },
  {
   "cell_type": "code",
   "execution_count": null,
   "id": "4fea4ecd",
   "metadata": {},
   "outputs": [],
   "source": [
    "ivt_1_features"
   ]
  },
  {
   "cell_type": "code",
   "execution_count": null,
   "id": "80865019",
   "metadata": {},
   "outputs": [],
   "source": []
  },
  {
   "cell_type": "markdown",
   "id": "27810fa9",
   "metadata": {},
   "source": [
    "# Aggregation of Fixation and Saccade Features\n",
    "\n",
    "In the preceding code cells, we performed aggregation on the `fix_1_df` and `sac_1_df` DataFrames, which contain the cleaned fixation and saccade data, respectively. The goal of this aggregation was to create a summary of eye-tracking metrics for each `QuestionKey`.\n",
    "\n",
    "For fixations, we calculated:\n",
    "- Count of fixations (`fix_count`)\n",
    "- Mean, max, sum, and variance of fixation duration (`fix_mean_dur`, `fix_max_dur`, `fix_total_time`, `fix_dur_var`)\n",
    "- Mean and max of fixation dispersion (`fix_disp_mean`, `fix_disp_max`)\n",
    "- Variance of fixation X and Y coordinates (`fix_x_var`, `fix_y_var`) to represent screen spread.\n",
    "\n",
    "For saccades, we calculated:\n",
    "- Count of saccades (`sac_count`)\n",
    "- Mean and sum of saccade duration (`sac_mean_dur`, `sac_total_time`)\n",
    "- Mean and max of saccade amplitude (`sac_amp_mean`, `sac_amp_max`)\n",
    "- Mean and max of saccade peak velocity (`sac_vel_mean`, `sac_vel_max`)\n",
    "- Mean of saccade peak acceleration and deceleration (`sac_acc_mean`, `sac_dec_mean`)\n",
    "- Variance of saccade direction (`sac_dir_var`).\n",
    "\n",
    "Finally, we joined these aggregated fixation and saccade features into a single DataFrame called `ivt_1_features`, using `QuestionKey` as the index. We also filled any resulting missing values (from `QuestionKey` values that may only have fixations or saccades, but not both) with 0. This `ivt_1_features` DataFrame now provides a consolidated summary of key eye-tracking characteristics for each question, which can be used for further analysis or modeling."
   ]
  },
  {
   "cell_type": "markdown",
   "id": "5ba8dca4",
   "metadata": {},
   "source": [
    "## IVT 38"
   ]
  },
  {
   "cell_type": "code",
   "execution_count": null,
   "id": "b3163f1e",
   "metadata": {},
   "outputs": [],
   "source": [
    "df_38_IVT = pd.read_csv('data/STData/38/38_IVT.csv')"
   ]
  },
  {
   "cell_type": "code",
   "execution_count": null,
   "id": "35bb612c",
   "metadata": {},
   "outputs": [],
   "source": [
    "df_38_IVT.head()"
   ]
  },
  {
   "cell_type": "code",
   "execution_count": null,
   "id": "2f30c644",
   "metadata": {},
   "outputs": [],
   "source": [
    "df_38_IVT.columns"
   ]
  },
  {
   "cell_type": "code",
   "execution_count": null,
   "id": "f22cb826",
   "metadata": {},
   "outputs": [],
   "source": [
    "df_38_IVT.shape"
   ]
  },
  {
   "cell_type": "code",
   "execution_count": null,
   "id": "3c7671c4",
   "metadata": {},
   "outputs": [],
   "source": [
    "df_38_IVT.info()"
   ]
  },
  {
   "cell_type": "code",
   "execution_count": null,
   "id": "049aaed2",
   "metadata": {},
   "outputs": [],
   "source": [
    "df_38_IVT.isnull().sum()"
   ]
  },
  {
   "cell_type": "code",
   "execution_count": null,
   "id": "32577e85",
   "metadata": {},
   "outputs": [],
   "source": [
    "plt.figure(figsize=(14,10))\n",
    "sns.heatmap(df_38_IVT.isnull(), cmap='viridis')\n",
    "plt.show()"
   ]
  },
  {
   "cell_type": "markdown",
   "id": "4cb7b0e9",
   "metadata": {},
   "source": [
    "# Notes & Observations\n",
    "\n",
    "- We observe many **null** (or missing) values in the `QuestionKey` columns.\n",
    "- The nulls in the `QuestionKey` column may not represent “true” nulls. Rather, they follow interval patterns, suggesting that during those periods no question was displayed.\n",
    "- These missing values in `QuestionKey` require additional investigation and context-aware handling."
   ]
  },
  {
   "cell_type": "code",
   "execution_count": null,
   "id": "3a210372",
   "metadata": {},
   "outputs": [],
   "source": [
    "df_38_IVT['QuestionKey'].unique()"
   ]
  },
  {
   "cell_type": "code",
   "execution_count": null,
   "id": "096bb65a",
   "metadata": {},
   "outputs": [],
   "source": [
    "df_38_IVT['Timestamp'] = pd.to_datetime(df_38_IVT['Timestamp'])"
   ]
  },
  {
   "cell_type": "code",
   "execution_count": null,
   "id": "ad42eb5a",
   "metadata": {},
   "outputs": [],
   "source": [
    "df_38_IVT.head(3)"
   ]
  },
  {
   "cell_type": "code",
   "execution_count": null,
   "id": "78e4a9f4",
   "metadata": {},
   "outputs": [],
   "source": [
    "df_38_IVT['QuestionKey'].fillna('None', inplace=True)"
   ]
  },
  {
   "cell_type": "code",
   "execution_count": null,
   "id": "225dd2d9",
   "metadata": {},
   "outputs": [],
   "source": [
    "df_38_IVT['QuestionKey'].value_counts()"
   ]
  },
  {
   "cell_type": "code",
   "execution_count": null,
   "id": "8e6c2d76",
   "metadata": {},
   "outputs": [],
   "source": [
    "plt.figure(figsize=(14,10))\n",
    "sns.heatmap(df_38_IVT.isnull(), cmap='viridis')\n",
    "plt.show()"
   ]
  },
  {
   "cell_type": "code",
   "execution_count": null,
   "id": "aff2ccaa",
   "metadata": {},
   "outputs": [],
   "source": [
    "df_38_IVT.isnull().sum()"
   ]
  },
  {
   "cell_type": "code",
   "execution_count": null,
   "id": "42c522eb",
   "metadata": {},
   "outputs": [],
   "source": [
    "df_38_IVT.head()"
   ]
  },
  {
   "cell_type": "code",
   "execution_count": null,
   "id": "0a0c9313",
   "metadata": {},
   "outputs": [],
   "source": [
    "df_38_IVT['Row'].unique()"
   ]
  },
  {
   "cell_type": "code",
   "execution_count": null,
   "id": "59c86b6f",
   "metadata": {},
   "outputs": [],
   "source": [
    "plt.figure(figsize=(8,6))\n",
    "sns.histplot(df_38_IVT['Row'])\n",
    "plt.show()"
   ]
  },
  {
   "cell_type": "markdown",
   "id": "7dd972b0",
   "metadata": {},
   "source": [
    "# Notes & Observations\n",
    "\n",
    "- The `Row` column appears to be a simple row index and does not provide meaningful information relevant to the eye-tracking data itself. Therefore, it can be dropped."
   ]
  },
  {
   "cell_type": "code",
   "execution_count": null,
   "id": "e97502c8",
   "metadata": {},
   "outputs": [],
   "source": [
    "df_38_IVT.drop('Row', axis=1, inplace=True)"
   ]
  },
  {
   "cell_type": "code",
   "execution_count": null,
   "id": "7cc9726b",
   "metadata": {},
   "outputs": [],
   "source": [
    "fig, axes = plt.subplots(1, 2, figsize=(20, 10))\n",
    "\n",
    "sns.scatterplot(data=df_38_IVT, x='Gaze X', y='Gaze Y', ax=axes[0])\n",
    "axes[0].set_title('Gaze X vs Gaze Y')\n",
    "\n",
    "sns.scatterplot(data=df_38_IVT, x='Interpolated Gaze X', y='Interpolated Gaze Y', ax=axes[1])\n",
    "axes[1].set_title('Interpolated Gaze X vs Interpolated Gaze Y')\n",
    "\n",
    "plt.tight_layout()\n",
    "plt.show()"
   ]
  },
  {
   "cell_type": "markdown",
   "id": "bb6a7ce9",
   "metadata": {},
   "source": [
    "# Gaze and Interpolated Gaze Scatter Plots\n",
    "\n",
    "The scatter plots above visualize the relationship between the x and y coordinates of both the raw gaze data and the interpolated gaze data.\n",
    "\n",
    "- **Gaze X vs Gaze Y:** This plot shows the raw gaze coordinates. The scattered points indicate the locations on the screen where the participant was looking. The density of points in certain areas might suggest regions of interest.\n",
    "- **Interpolated Gaze X vs Interpolated Gaze Y:** This plot shows the interpolated gaze coordinates. Interpolation is often used to fill in gaps in the raw gaze data, providing a smoother representation of the gaze path. Comparing this plot to the raw gaze plot can show the effect of the interpolation process.\n",
    "\n",
    "Both plots can help in understanding the distribution of gaze points across the screen and identifying potential patterns or biases in eye movements."
   ]
  },
  {
   "cell_type": "code",
   "execution_count": null,
   "id": "51f8a929",
   "metadata": {},
   "outputs": [],
   "source": [
    "df_38_IVT.describe()"
   ]
  },
  {
   "cell_type": "code",
   "execution_count": null,
   "id": "f67fdff9",
   "metadata": {},
   "outputs": [],
   "source": [
    "df_38_IVT.head(3)"
   ]
  },
  {
   "cell_type": "code",
   "execution_count": null,
   "id": "9b6be371",
   "metadata": {},
   "outputs": [],
   "source": [
    "df_38_IVT['Timestamp'] = pd.to_datetime(df_38_IVT['Timestamp'])"
   ]
  },
  {
   "cell_type": "code",
   "execution_count": null,
   "id": "0e03b643",
   "metadata": {},
   "outputs": [],
   "source": [
    "df_38_IVT.columns"
   ]
  },
  {
   "cell_type": "code",
   "execution_count": null,
   "id": "f5c55e24",
   "metadata": {},
   "outputs": [],
   "source": [
    "cols = ['Gaze X', 'Gaze Y',\n",
    "       'Interpolated Gaze X', 'Interpolated Gaze Y', 'Interpolated Distance',\n",
    "       'Gaze Velocity', 'Gaze Acceleration', 'Fixation Index',\n",
    "       'Fixation Index by Stimulus', 'Fixation X', 'Fixation Y',\n",
    "       'Fixation Start', 'Fixation End', 'Fixation Duration',\n",
    "       'Fixation Dispersion', 'Saccade Index', 'Saccade Index by Stimulus',\n",
    "       'Saccade Start', 'Saccade End', 'Saccade Duration', 'Saccade Amplitude',\n",
    "       'Saccade Peak Velocity', 'Saccade Peak Acceleration',\n",
    "       'Saccade Peak Deceleration', 'Saccade Direction']"
   ]
  },
  {
   "cell_type": "code",
   "execution_count": null,
   "id": "037608fc",
   "metadata": {},
   "outputs": [],
   "source": [
    "from IPython.display import display, Markdown\n",
    "\n",
    "for col in cols:\n",
    "    # Add a markdown cell before each plot for better separation and labeling\n",
    "    display(Markdown(f'### {col} over Time'))\n",
    "    plt.figure(figsize=(16, 10))\n",
    "    sns.lineplot(x=df_38_IVT['Timestamp'], y=df_38_IVT[col])\n",
    "    plt.xlabel(\"Timestamp\") # Add x-axis label\n",
    "    plt.ylabel(col) # Add y-axis label\n",
    "    plt.show()"
   ]
  },
  {
   "cell_type": "code",
   "execution_count": null,
   "id": "24e01127",
   "metadata": {},
   "outputs": [],
   "source": [
    "df_38_IVT.head()"
   ]
  },
  {
   "cell_type": "code",
   "execution_count": null,
   "id": "af29a423",
   "metadata": {},
   "outputs": [],
   "source": [
    "plt.figure(figsize=(14,10))\n",
    "sns.heatmap(df_38_IVT[['Fixation Index', 'Fixation Index by Stimulus', 'Saccade Index', 'Saccade Index by Stimulus']].isnull(), cmap='viridis')\n",
    "plt.show()"
   ]
  },
  {
   "cell_type": "markdown",
   "id": "7b39bd66",
   "metadata": {},
   "source": [
    "# Observation\n",
    "\n",
    "The `Fixation Index`, `Fixation Index by Stimulus`, `Saccade Index` and `Saccade Index by Stimulus` columns are essentially just sequence numbers for identified events. While they indicate the order of fixations and saccades, they don't provide meaningful features for a machine learning model attempting to predict or classify eye movement patterns. Therefore, we will drop these columns as they are not useful for model building."
   ]
  },
  {
   "cell_type": "code",
   "execution_count": null,
   "id": "39fbd8ab",
   "metadata": {},
   "outputs": [],
   "source": [
    "df_38_IVT.drop(['Fixation Index', 'Fixation Index by Stimulus', 'Saccade Index', 'Saccade Index by Stimulus'], axis=1, inplace=True)"
   ]
  },
  {
   "cell_type": "code",
   "execution_count": null,
   "id": "f3cf0092",
   "metadata": {},
   "outputs": [],
   "source": [
    "plt.figure(figsize=(14,10))\n",
    "sns.scatterplot(data=df_38_IVT, x='Fixation X', y='Fixation Y')\n",
    "plt.title('Fixation X vs Fixation Y')\n",
    "plt.show()"
   ]
  },
  {
   "cell_type": "code",
   "execution_count": null,
   "id": "54d377af",
   "metadata": {},
   "outputs": [],
   "source": [
    "df_38_IVT['Fixation Start'].describe()"
   ]
  },
  {
   "cell_type": "code",
   "execution_count": null,
   "id": "2b45751c",
   "metadata": {},
   "outputs": [],
   "source": [
    "fig, axes = plt.subplots(1, 2, figsize=(20, 8))\n",
    "\n",
    "sns.histplot(df_38_IVT['Fixation Start'], bins=100, kde=True, ax=axes[0])\n",
    "axes[0].set_xlabel('Fixation Start')\n",
    "axes[0].set_ylabel('Frequency')\n",
    "axes[0].set_title('Distribution of Fixation Start')\n",
    "\n",
    "sns.histplot(df_38_IVT['Fixation End'], bins=100, kde=True, ax=axes[1])\n",
    "axes[1].set_xlabel('Fixation End')\n",
    "axes[1].set_ylabel('Frequency')\n",
    "axes[1].set_title('Distribution of Fixation End')\n",
    "\n",
    "plt.tight_layout()\n",
    "plt.show()"
   ]
  },
  {
   "cell_type": "code",
   "execution_count": null,
   "id": "18d9cc1b",
   "metadata": {},
   "outputs": [],
   "source": [
    "fig, axes = plt.subplots(1, 2, figsize=(20, 8))\n",
    "\n",
    "sns.histplot(df_38_IVT['Saccade Start'], bins=100, kde=True, ax=axes[0])\n",
    "axes[0].set_xlabel('Saccade Start')\n",
    "axes[0].set_ylabel('Frequency')\n",
    "axes[0].set_title('Distribution of Saccade Start')\n",
    "\n",
    "sns.histplot(df_38_IVT['Saccade End'], bins=100, kde=True, ax=axes[1])\n",
    "axes[1].set_xlabel('Saccade End')\n",
    "axes[1].set_ylabel('Frequency')\n",
    "axes[1].set_title('Distribution of Saccade End')\n",
    "\n",
    "plt.tight_layout()\n",
    "plt.show()"
   ]
  },
  {
   "cell_type": "markdown",
   "id": "dd7e56bd",
   "metadata": {},
   "source": [
    "# Observation on Fixation and Saccade Timestamps\n",
    "\n",
    "Upon examining the time series plots of 'Fixation Start', 'Fixation End', `Saccade Start`, and `Saccade End` against the `Timestamp`, we observe a clear linear, diagonal pattern. This indicates that these values are largely sequential and directly related to the progress of time in the data recording.\n",
    "\n",
    "Furthermore, the histograms of these features show distributions that, while informative about the timing of events, don't necessarily reveal complex patterns that would be highly predictive for a machine learning model.\n",
    "\n",
    "Crucially, the dataset already contains `Fixation Duration` and `Saccade Duration` columns. These duration features capture the length of each event, which is often a more directly relevant metric for understanding eye movement behavior than the absolute start and end times. Since the duration can be derived from the start and end times (Duration = End - Start), the start and end time columns introduce redundancy and do not provide substantial additional, independent information for modeling purposes.\n",
    "\n",
    "Therefore, to simplify the dataset and focus on the most informative features for potential machine movement analysis or modeling, we will drop the `Fixation Start`, `Fixation End`, `Saccade Start`, and `Saccade End` columns."
   ]
  },
  {
   "cell_type": "code",
   "execution_count": null,
   "id": "4a752fd7",
   "metadata": {},
   "outputs": [],
   "source": [
    "df_38_IVT.drop(['Fixation Start', 'Fixation End', 'Saccade Start', 'Saccade End'], axis=1, inplace=True)"
   ]
  },
  {
   "cell_type": "code",
   "execution_count": null,
   "id": "e056412a",
   "metadata": {},
   "outputs": [],
   "source": [
    "df_38_IVT.head()"
   ]
  },
  {
   "cell_type": "code",
   "execution_count": null,
   "id": "3aacdb5c",
   "metadata": {},
   "outputs": [],
   "source": [
    "plt.figure(figsize=(12, 8))\n",
    "sns.heatmap(df_38_IVT[['Gaze X', 'Gaze Y', 'Interpolated Gaze X', 'Interpolated Gaze Y']].isnull(), cmap='viridis')\n",
    "plt.show()\n"
   ]
  },
  {
   "cell_type": "code",
   "execution_count": null,
   "id": "310a010c",
   "metadata": {},
   "outputs": [],
   "source": []
  },
  {
   "cell_type": "markdown",
   "id": "2cb7820d",
   "metadata": {},
   "source": [
    "# Observations on Gaze and Interpolated Gaze Data\n",
    "\n",
    "Based on the scatter plots of 'Gaze X' vs 'Gaze Y' and 'Interpolated Gaze X' vs 'Interpolated Gaze Y', we observe that the distributions of the raw and interpolated gaze points appear very similar. The spatial patterns of where the participant was looking are consistent between the two sets of coordinates.\n",
    "\n",
    "Furthermore, the heatmap of null values for these columns ('Gaze X', 'Gaze Y', 'Interpolated Gaze X', 'Interpolated Gaze Y') reveals that the missing values are present in the same rows for both the raw and interpolated gaze coordinates. This suggests that the interpolation process did not fill in the gaps in the raw gaze data for these specific instances.\n",
    "\n",
    "Given that the interpolated gaze data shows the same spatial distribution and the same pattern of null values as the raw gaze data, it appears that the interpolation did not significantly alter or complete the data in this case. Therefore, keeping both the raw and interpolated gaze columns might be redundant, and one set could potentially be dropped to simplify the dataset without losing significant information."
   ]
  },
  {
   "cell_type": "code",
   "execution_count": null,
   "id": "fa32dd9f",
   "metadata": {},
   "outputs": [],
   "source": [
    "df_38_IVT.drop(['Interpolated Gaze X', 'Interpolated Gaze Y'], axis=1, inplace=True)"
   ]
  },
  {
   "cell_type": "code",
   "execution_count": null,
   "id": "a293d014",
   "metadata": {},
   "outputs": [],
   "source": [
    "df_38_IVT.head()"
   ]
  },
  {
   "cell_type": "code",
   "execution_count": null,
   "id": "e58d2160",
   "metadata": {},
   "outputs": [],
   "source": [
    "plt.figure(figsize=(12, 8))\n",
    "sns.heatmap(df_38_IVT.isnull(), cmap='viridis')\n",
    "plt.show()"
   ]
  },
  {
   "cell_type": "code",
   "execution_count": null,
   "id": "3d23db39",
   "metadata": {},
   "outputs": [],
   "source": [
    "df_38_IVT.columns"
   ]
  },
  {
   "cell_type": "code",
   "execution_count": null,
   "id": "cc876011",
   "metadata": {},
   "outputs": [],
   "source": [
    "fix_1_df = df_38_IVT.dropna(subset=['Fixation Duration'])\n",
    "sac_1_df = df_38_IVT.dropna(subset=['Saccade Duration'])"
   ]
  },
  {
   "cell_type": "code",
   "execution_count": null,
   "id": "b9dab696",
   "metadata": {},
   "outputs": [],
   "source": [
    "fix_1_df.shape"
   ]
  },
  {
   "cell_type": "code",
   "execution_count": null,
   "id": "dd7df261",
   "metadata": {},
   "outputs": [],
   "source": [
    "sac_1_df.shape"
   ]
  },
  {
   "cell_type": "code",
   "execution_count": null,
   "id": "db5a577a",
   "metadata": {},
   "outputs": [],
   "source": [
    "fix_1_feature = fix_1_df.groupby('QuestionKey').agg({\n",
    "    'Fixation Duration': ['count','mean','max','sum','var'],\n",
    "    'Fixation Dispersion': ['mean','max'],\n",
    "    'Fixation X': ['var'],   # screen spread X\n",
    "    'Fixation Y': ['var']    # screen spread Y\n",
    "})"
   ]
  },
  {
   "cell_type": "code",
   "execution_count": null,
   "id": "68291bf2",
   "metadata": {},
   "outputs": [],
   "source": [
    "fix_1_feature.columns = ['fix_count','fix_mean_dur','fix_max_dur','fix_total_time',\n",
    "                        'fix_dur_var','fix_disp_mean','fix_disp_max',\n",
    "                        'fix_x_var','fix_y_var']"
   ]
  },
  {
   "cell_type": "code",
   "execution_count": null,
   "id": "712c47d7",
   "metadata": {},
   "outputs": [],
   "source": [
    "fix_1_feature"
   ]
  },
  {
   "cell_type": "code",
   "execution_count": null,
   "id": "ca56f7b7",
   "metadata": {},
   "outputs": [],
   "source": [
    "sac_1_features = sac_1_df.groupby('QuestionKey').agg({\n",
    "    'Saccade Duration': ['count','mean','sum'],\n",
    "    'Saccade Amplitude': ['mean','max'],\n",
    "    'Saccade Peak Velocity': ['mean','max'],\n",
    "    'Saccade Peak Acceleration': ['mean'],\n",
    "    'Saccade Peak Deceleration': ['mean'],\n",
    "    'Saccade Direction': ['var']   # direction variance\n",
    "})"
   ]
  },
  {
   "cell_type": "code",
   "execution_count": null,
   "id": "6443d390",
   "metadata": {},
   "outputs": [],
   "source": [
    "sac_1_features.columns = ['sac_count','sac_mean_dur','sac_total_time',\n",
    "                        'sac_amp_mean','sac_amp_max',\n",
    "                        'sac_vel_mean','sac_vel_max',\n",
    "                        'sac_acc_mean','sac_dec_mean','sac_dir_var']"
   ]
  },
  {
   "cell_type": "code",
   "execution_count": null,
   "id": "d620fbc6",
   "metadata": {},
   "outputs": [],
   "source": [
    "sac_1_features"
   ]
  },
  {
   "cell_type": "code",
   "execution_count": null,
   "id": "97029d03",
   "metadata": {},
   "outputs": [],
   "source": [
    "ivt_1_features = fix_1_feature.join(sac_1_features, how='outer').fillna(0)"
   ]
  },
  {
   "cell_type": "code",
   "execution_count": null,
   "id": "190430a8",
   "metadata": {},
   "outputs": [],
   "source": [
    "ivt_1_features"
   ]
  },
  {
   "cell_type": "code",
   "execution_count": null,
   "id": "8737c6c4",
   "metadata": {},
   "outputs": [],
   "source": [
    "ivt_1_features['fix_sac_count_ratio'] = ivt_1_features['fix_count'] / (ivt_1_features['sac_count']+1e-5)\n",
    "ivt_1_features['fix_sac_time_ratio']  = ivt_1_features['fix_total_time'] / (ivt_1_features['sac_total_time']+1e-5)"
   ]
  },
  {
   "cell_type": "code",
   "execution_count": null,
   "id": "58fc7ede",
   "metadata": {},
   "outputs": [],
   "source": [
    "ivt_1_features"
   ]
  },
  {
   "cell_type": "code",
   "execution_count": null,
   "id": "a7407f30",
   "metadata": {},
   "outputs": [],
   "source": []
  },
  {
   "cell_type": "markdown",
   "id": "502559c4",
   "metadata": {},
   "source": [
    "# Aggregation of Fixation and Saccade Features\n",
    "\n",
    "In the preceding code cells, we performed aggregation on the `fix_1_df` and `sac_1_df` DataFrames, which contain the cleaned fixation and saccade data, respectively. The goal of this aggregation was to create a summary of eye-tracking metrics for each `QuestionKey`.\n",
    "\n",
    "For fixations, we calculated:\n",
    "- Count of fixations (`fix_count`)\n",
    "- Mean, max, sum, and variance of fixation duration (`fix_mean_dur`, `fix_max_dur`, `fix_total_time`, `fix_dur_var`)\n",
    "- Mean and max of fixation dispersion (`fix_disp_mean`, `fix_disp_max`)\n",
    "- Variance of fixation X and Y coordinates (`fix_x_var`, `fix_y_var`) to represent screen spread.\n",
    "\n",
    "For saccades, we calculated:\n",
    "- Count of saccades (`sac_count`)\n",
    "- Mean and sum of saccade duration (`sac_mean_dur`, `sac_total_time`)\n",
    "- Mean and max of saccade amplitude (`sac_amp_mean`, `sac_amp_max`)\n",
    "- Mean and max of saccade peak velocity (`sac_vel_mean`, `sac_vel_max`)\n",
    "- Mean of saccade peak acceleration and deceleration (`sac_acc_mean`, `sac_dec_mean`)\n",
    "- Variance of saccade direction (`sac_dir_var`).\n",
    "\n",
    "Finally, we joined these aggregated fixation and saccade features into a single DataFrame called `ivt_1_features`, using `QuestionKey` as the index. We also filled any resulting missing values (from `QuestionKey` values that may only have fixations or saccades, but not both) with 0. This `ivt_1_features` DataFrame now provides a consolidated summary of key eye-tracking characteristics for each question, which can be used for further analysis or modeling."
   ]
  }
 ],
 "metadata": {},
 "nbformat": 4,
 "nbformat_minor": 5
}
