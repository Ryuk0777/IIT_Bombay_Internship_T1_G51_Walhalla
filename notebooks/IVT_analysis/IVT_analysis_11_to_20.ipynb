{
 "cells": [
  {
   "cell_type": "code",
   "execution_count": null,
   "id": "1d73bdc6",
   "metadata": {
    "colab": {
     "base_uri": "https://localhost:8080/"
    },
    "id": "DWmJEurbfdoV",
    "outputId": "3d151f86-ed9a-4b77-ec18-0eb45de60d7e"
   },
   "outputs": [
    {
     "name": "stdout",
     "output_type": "stream",
     "text": [
      "The cudf module is not an IPython extension.\n"
     ]
    }
   ],
   "source": [
    "%load_ext cudf"
   ]
  },
  {
   "cell_type": "code",
   "execution_count": null,
   "id": "18dd3f26",
   "metadata": {
    "id": "eBuVubKFfuYh"
   },
   "outputs": [],
   "source": [
    "import numpy as np\n",
    "import pandas as pd\n",
    "import matplotlib.pyplot as plt\n",
    "import seaborn as sns"
   ]
  },
  {
   "cell_type": "code",
   "execution_count": null,
   "id": "d52b1d10",
   "metadata": {
    "id": "soLuBzXpfwNa"
   },
   "outputs": [],
   "source": [
    "import datashader as ds\n",
    "import datashader.transfer_functions as tf"
   ]
  },
  {
   "cell_type": "code",
   "execution_count": null,
   "id": "6e1705b3",
   "metadata": {
    "id": "W7ku1CqXfyFa"
   },
   "outputs": [],
   "source": [
    "pd.set_option('display.max_columns', None)"
   ]
  },
  {
   "cell_type": "markdown",
   "id": "bc5557bb",
   "metadata": {},
   "source": [
    "# **11_IVT**"
   ]
  },
  {
   "cell_type": "code",
   "execution_count": null,
   "id": "9709df72",
   "metadata": {},
   "outputs": [],
   "source": [
    "df_11_IVT = pd.read_csv('data/STData/11/11_IVT.csv')"
   ]
  },
  {
   "cell_type": "code",
   "execution_count": null,
   "id": "2dc27f60",
   "metadata": {},
   "outputs": [],
   "source": [
    "df_11_IVT.head()"
   ]
  },
  {
   "cell_type": "code",
   "execution_count": null,
   "id": "06a0b3eb",
   "metadata": {},
   "outputs": [],
   "source": [
    "df_11_IVT.columns"
   ]
  },
  {
   "cell_type": "code",
   "execution_count": null,
   "id": "7d65a8e0",
   "metadata": {},
   "outputs": [],
   "source": [
    "df_11_IVT.shape"
   ]
  },
  {
   "cell_type": "code",
   "execution_count": null,
   "id": "b0123673",
   "metadata": {},
   "outputs": [],
   "source": [
    "df_11_IVT.info()"
   ]
  },
  {
   "cell_type": "code",
   "execution_count": null,
   "id": "b7883d87",
   "metadata": {},
   "outputs": [],
   "source": [
    "df_11_IVT.isnull().sum()"
   ]
  },
  {
   "cell_type": "code",
   "execution_count": null,
   "id": "900ea180",
   "metadata": {},
   "outputs": [],
   "source": [
    "plt.figure(figsize=(14,10))\n",
    "sns.heatmap(df_11_IVT.isnull(), cmap='viridis')\n",
    "plt.show()"
   ]
  },
  {
   "cell_type": "markdown",
   "id": "33425bb3",
   "metadata": {},
   "source": [
    "# Notes & Observations\n",
    "\n",
    "- We observe many **null** (or missing) values in the `QuestionKey` columns.\n",
    "- The nulls in the `QuestionKey` column may not represent “true” nulls. Rather, they follow interval patterns, suggesting that during those periods no question was displayed.\n",
    "- These missing values in `QuestionKey` require additional investigation and context-aware handling."
   ]
  },
  {
   "cell_type": "code",
   "execution_count": null,
   "id": "b8502813",
   "metadata": {},
   "outputs": [],
   "source": [
    "df_11_IVT['QuestionKey'].unique()"
   ]
  },
  {
   "cell_type": "code",
   "execution_count": null,
   "id": "5ac8795f",
   "metadata": {},
   "outputs": [],
   "source": [
    "df_11_IVT['Timestamp'] = pd.to_datetime(df_11_IVT['Timestamp'])"
   ]
  },
  {
   "cell_type": "code",
   "execution_count": null,
   "id": "ff167878",
   "metadata": {},
   "outputs": [],
   "source": [
    "df_11_IVT.head(3)"
   ]
  },
  {
   "cell_type": "code",
   "execution_count": null,
   "id": "885c315b",
   "metadata": {},
   "outputs": [],
   "source": [
    "df_11_IVT['QuestionKey'].fillna('None', inplace=True)"
   ]
  },
  {
   "cell_type": "code",
   "execution_count": null,
   "id": "6eb735dc",
   "metadata": {},
   "outputs": [],
   "source": [
    "df_11_IVT['QuestionKey'].value_counts()"
   ]
  },
  {
   "cell_type": "code",
   "execution_count": null,
   "id": "11b43098",
   "metadata": {},
   "outputs": [],
   "source": [
    "plt.figure(figsize=(14,10))\n",
    "sns.heatmap(df_11_IVT.isnull(), cmap='viridis')\n",
    "plt.show()"
   ]
  },
  {
   "cell_type": "code",
   "execution_count": null,
   "id": "d807cdb8",
   "metadata": {},
   "outputs": [],
   "source": [
    "df_11_IVT.isnull().sum()"
   ]
  },
  {
   "cell_type": "code",
   "execution_count": null,
   "id": "d0bd3557",
   "metadata": {},
   "outputs": [],
   "source": [
    "df_11_IVT.head()"
   ]
  },
  {
   "cell_type": "code",
   "execution_count": null,
   "id": "7c4cd66c",
   "metadata": {},
   "outputs": [],
   "source": [
    "df_11_IVT['Row'].unique()"
   ]
  },
  {
   "cell_type": "code",
   "execution_count": null,
   "id": "fcad349c",
   "metadata": {},
   "outputs": [],
   "source": [
    "plt.figure(figsize=(8,6))\n",
    "sns.histplot(df_11_IVT['Row'])\n",
    "plt.show()"
   ]
  },
  {
   "cell_type": "markdown",
   "id": "80b03d2c",
   "metadata": {},
   "source": [
    "# Notes & Observations\n",
    "\n",
    "- The `Row` column appears to be a simple row index and does not provide meaningful information relevant to the eye-tracking data itself. Therefore, it can be dropped."
   ]
  },
  {
   "cell_type": "code",
   "execution_count": null,
   "id": "0da08dc9",
   "metadata": {},
   "outputs": [],
   "source": [
    "df_11_IVT.drop('Row', axis=1, inplace=True)"
   ]
  },
  {
   "cell_type": "code",
   "execution_count": null,
   "id": "1848b4ea",
   "metadata": {},
   "outputs": [],
   "source": [
    "fig, axes = plt.subplots(1, 2, figsize=(20, 10))\n",
    "\n",
    "sns.scatterplot(data=df_11_IVT, x='Gaze X', y='Gaze Y', ax=axes[0])\n",
    "axes[0].set_title('Gaze X vs Gaze Y')\n",
    "\n",
    "sns.scatterplot(data=df_11_IVT, x='Interpolated Gaze X', y='Interpolated Gaze Y', ax=axes[1])\n",
    "axes[1].set_title('Interpolated Gaze X vs Interpolated Gaze Y')\n",
    "\n",
    "plt.tight_layout()\n",
    "plt.show()"
   ]
  },
  {
   "cell_type": "markdown",
   "id": "e02ef330",
   "metadata": {},
   "source": [
    "# Gaze and Interpolated Gaze Scatter Plots\n",
    "\n",
    "The scatter plots above visualize the relationship between the x and y coordinates of both the raw gaze data and the interpolated gaze data.\n",
    "\n",
    "- **Gaze X vs Gaze Y:** This plot shows the raw gaze coordinates. The scattered points indicate the locations on the screen where the participant was looking. The density of points in certain areas might suggest regions of interest.\n",
    "- **Interpolated Gaze X vs Interpolated Gaze Y:** This plot shows the interpolated gaze coordinates. Interpolation is often used to fill in gaps in the raw gaze data, providing a smoother representation of the gaze path. Comparing this plot to the raw gaze plot can show the effect of the interpolation process.\n",
    "\n",
    "Both plots can help in understanding the distribution of gaze points across the screen and identifying potential patterns or biases in eye movements."
   ]
  },
  {
   "cell_type": "code",
   "execution_count": null,
   "id": "4e3ba556",
   "metadata": {},
   "outputs": [],
   "source": [
    "df_11_IVT.describe()"
   ]
  },
  {
   "cell_type": "code",
   "execution_count": null,
   "id": "6ef5c795",
   "metadata": {},
   "outputs": [],
   "source": [
    "df_11_IVT.head(3)"
   ]
  },
  {
   "cell_type": "code",
   "execution_count": null,
   "id": "b9925b13",
   "metadata": {},
   "outputs": [],
   "source": [
    "df_11_IVT['Timestamp'] = pd.to_datetime(df_11_IVT['Timestamp'])"
   ]
  },
  {
   "cell_type": "code",
   "execution_count": null,
   "id": "0dd25908",
   "metadata": {},
   "outputs": [],
   "source": [
    "df_11_IVT.columns"
   ]
  },
  {
   "cell_type": "code",
   "execution_count": null,
   "id": "35bf7319",
   "metadata": {},
   "outputs": [],
   "source": [
    "cols = ['Gaze X', 'Gaze Y',\n",
    "       'Interpolated Gaze X', 'Interpolated Gaze Y', 'Interpolated Distance',\n",
    "       'Gaze Velocity', 'Gaze Acceleration', 'Fixation Index',\n",
    "       'Fixation Index by Stimulus', 'Fixation X', 'Fixation Y',\n",
    "       'Fixation Start', 'Fixation End', 'Fixation Duration',\n",
    "       'Fixation Dispersion', 'Saccade Index', 'Saccade Index by Stimulus',\n",
    "       'Saccade Start', 'Saccade End', 'Saccade Duration', 'Saccade Amplitude',\n",
    "       'Saccade Peak Velocity', 'Saccade Peak Acceleration',\n",
    "       'Saccade Peak Deceleration', 'Saccade Direction']"
   ]
  },
  {
   "cell_type": "code",
   "execution_count": null,
   "id": "f1439e89",
   "metadata": {},
   "outputs": [],
   "source": [
    "from IPython.display import display, Markdown\n",
    "\n",
    "for col in cols:\n",
    "    # Add a markdown cell before each plot for better separation and labeling\n",
    "    display(Markdown(f'### {col} over Time'))\n",
    "    plt.figure(figsize=(16, 10))\n",
    "    sns.lineplot(x=df_11_IVT['Timestamp'], y=df_11_IVT[col])\n",
    "    plt.xlabel(\"Timestamp\") # Add x-axis label\n",
    "    plt.ylabel(col) # Add y-axis label\n",
    "    plt.show()"
   ]
  },
  {
   "cell_type": "code",
   "execution_count": null,
   "id": "a690f527",
   "metadata": {},
   "outputs": [],
   "source": [
    "df_11_IVT.head()"
   ]
  },
  {
   "cell_type": "code",
   "execution_count": null,
   "id": "a3f24176",
   "metadata": {},
   "outputs": [],
   "source": [
    "plt.figure(figsize=(14,10))\n",
    "sns.heatmap(df_11_IVT[['Fixation Index', 'Fixation Index by Stimulus', 'Saccade Index', 'Saccade Index by Stimulus']].isnull(), cmap='viridis')\n",
    "plt.show()"
   ]
  },
  {
   "cell_type": "markdown",
   "id": "e7a6e6e2",
   "metadata": {},
   "source": [
    "# Observation\n",
    "\n",
    "The `Fixation Index`, `Fixation Index by Stimulus`, `Saccade Index` and `Saccade Index by Stimulus` columns are essentially just sequence numbers for identified events. While they indicate the order of fixations and saccades, they don't provide meaningful features for a machine learning model attempting to predict or classify eye movement patterns. Therefore, we will drop these columns as they are not useful for model building."
   ]
  },
  {
   "cell_type": "code",
   "execution_count": null,
   "id": "e8d9878b",
   "metadata": {},
   "outputs": [],
   "source": [
    "df_11_IVT.drop(['Fixation Index', 'Fixation Index by Stimulus', 'Saccade Index', 'Saccade Index by Stimulus'], axis=1, inplace=True)"
   ]
  },
  {
   "cell_type": "code",
   "execution_count": null,
   "id": "41925d12",
   "metadata": {},
   "outputs": [],
   "source": [
    "plt.figure(figsize=(14,10))\n",
    "sns.scatterplot(data=df_11_IVT, x='Fixation X', y='Fixation Y')\n",
    "plt.title('Fixation X vs Fixation Y')\n",
    "plt.show()"
   ]
  },
  {
   "cell_type": "code",
   "execution_count": null,
   "id": "9489a8e0",
   "metadata": {},
   "outputs": [],
   "source": [
    "df_11_IVT['Fixation Start'].describe()"
   ]
  },
  {
   "cell_type": "code",
   "execution_count": null,
   "id": "ca56eaca",
   "metadata": {},
   "outputs": [],
   "source": [
    "fig, axes = plt.subplots(1, 2, figsize=(20, 8))\n",
    "\n",
    "sns.histplot(df_11_IVT['Fixation Start'], bins=100, kde=True, ax=axes[0])\n",
    "axes[0].set_xlabel('Fixation Start')\n",
    "axes[0].set_ylabel('Frequency')\n",
    "axes[0].set_title('Distribution of Fixation Start')\n",
    "\n",
    "sns.histplot(df_11_IVT['Fixation End'], bins=100, kde=True, ax=axes[1])\n",
    "axes[1].set_xlabel('Fixation End')\n",
    "axes[1].set_ylabel('Frequency')\n",
    "axes[1].set_title('Distribution of Fixation End')\n",
    "\n",
    "plt.tight_layout()\n",
    "plt.show()"
   ]
  },
  {
   "cell_type": "code",
   "execution_count": null,
   "id": "def77d31",
   "metadata": {},
   "outputs": [],
   "source": [
    "fig, axes = plt.subplots(1, 2, figsize=(20, 8))\n",
    "\n",
    "sns.histplot(df_11_IVT['Saccade Start'], bins=100, kde=True, ax=axes[0])\n",
    "axes[0].set_xlabel('Saccade Start')\n",
    "axes[0].set_ylabel('Frequency')\n",
    "axes[0].set_title('Distribution of Saccade Start')\n",
    "\n",
    "sns.histplot(df_11_IVT['Saccade End'], bins=100, kde=True, ax=axes[1])\n",
    "axes[1].set_xlabel('Saccade End')\n",
    "axes[1].set_ylabel('Frequency')\n",
    "axes[1].set_title('Distribution of Saccade End')\n",
    "\n",
    "plt.tight_layout()\n",
    "plt.show()"
   ]
  },
  {
   "cell_type": "markdown",
   "id": "edc92dc7",
   "metadata": {},
   "source": [
    "# Observation on Fixation and Saccade Timestamps\n",
    "\n",
    "Upon examining the time series plots of 'Fixation Start', 'Fixation End', `Saccade Start`, and `Saccade End` against the `Timestamp`, we observe a clear linear, diagonal pattern. This indicates that these values are largely sequential and directly related to the progress of time in the data recording.\n",
    "\n",
    "Furthermore, the histograms of these features show distributions that, while informative about the timing of events, don't necessarily reveal complex patterns that would be highly predictive for a machine learning model.\n",
    "\n",
    "Crucially, the dataset already contains `Fixation Duration` and `Saccade Duration` columns. These duration features capture the length of each event, which is often a more directly relevant metric for understanding eye movement behavior than the absolute start and end times. Since the duration can be derived from the start and end times (Duration = End - Start), the start and end time columns introduce redundancy and do not provide substantial additional, independent information for modeling purposes.\n",
    "\n",
    "Therefore, to simplify the dataset and focus on the most informative features for potential machine movement analysis or modeling, we will drop the `Fixation Start`, `Fixation End`, `Saccade Start`, and `Saccade End` columns."
   ]
  },
  {
   "cell_type": "code",
   "execution_count": null,
   "id": "4514061e",
   "metadata": {},
   "outputs": [],
   "source": [
    "df_11_IVT.drop(['Fixation Start', 'Fixation End', 'Saccade Start', 'Saccade End'], axis=1, inplace=True)"
   ]
  },
  {
   "cell_type": "code",
   "execution_count": null,
   "id": "db0b78fd",
   "metadata": {},
   "outputs": [],
   "source": [
    "df_11_IVT.head()"
   ]
  },
  {
   "cell_type": "code",
   "execution_count": null,
   "id": "0a31d8b2",
   "metadata": {},
   "outputs": [],
   "source": [
    "plt.figure(figsize=(12, 8))\n",
    "sns.heatmap(df_11_IVT[['Gaze X', 'Gaze Y', 'Interpolated Gaze X', 'Interpolated Gaze Y']].isnull(), cmap='viridis')\n",
    "plt.show()\n"
   ]
  },
  {
   "cell_type": "code",
   "execution_count": null,
   "id": "e10b8bd1",
   "metadata": {},
   "outputs": [],
   "source": []
  },
  {
   "cell_type": "markdown",
   "id": "d9f7c5fb",
   "metadata": {},
   "source": [
    "# Observations on Gaze and Interpolated Gaze Data\n",
    "\n",
    "Based on the scatter plots of 'Gaze X' vs 'Gaze Y' and 'Interpolated Gaze X' vs 'Interpolated Gaze Y', we observe that the distributions of the raw and interpolated gaze points appear very similar. The spatial patterns of where the participant was looking are consistent between the two sets of coordinates.\n",
    "\n",
    "Furthermore, the heatmap of null values for these columns ('Gaze X', 'Gaze Y', 'Interpolated Gaze X', 'Interpolated Gaze Y') reveals that the missing values are present in the same rows for both the raw and interpolated gaze coordinates. This suggests that the interpolation process did not fill in the gaps in the raw gaze data for these specific instances.\n",
    "\n",
    "Given that the interpolated gaze data shows the same spatial distribution and the same pattern of null values as the raw gaze data, it appears that the interpolation did not significantly alter or complete the data in this case. Therefore, keeping both the raw and interpolated gaze columns might be redundant, and one set could potentially be dropped to simplify the dataset without losing significant information."
   ]
  },
  {
   "cell_type": "code",
   "execution_count": null,
   "id": "ea20edab",
   "metadata": {},
   "outputs": [],
   "source": [
    "df_11_IVT.drop(['Interpolated Gaze X', 'Interpolated Gaze Y'], axis=1, inplace=True)"
   ]
  },
  {
   "cell_type": "code",
   "execution_count": null,
   "id": "6f28b362",
   "metadata": {},
   "outputs": [],
   "source": [
    "df_11_IVT.head()"
   ]
  },
  {
   "cell_type": "code",
   "execution_count": null,
   "id": "1fafcdf6",
   "metadata": {},
   "outputs": [],
   "source": [
    "plt.figure(figsize=(12, 8))\n",
    "sns.heatmap(df_11_IVT.isnull(), cmap='viridis')\n",
    "plt.show()"
   ]
  },
  {
   "cell_type": "code",
   "execution_count": null,
   "id": "ff134971",
   "metadata": {},
   "outputs": [],
   "source": [
    "df_11_IVT.columns"
   ]
  },
  {
   "cell_type": "code",
   "execution_count": null,
   "id": "3a6a7eb0",
   "metadata": {},
   "outputs": [],
   "source": [
    "fix_1_df = df_11_IVT.dropna(subset=['Fixation Duration'])\n",
    "sac_1_df = df_11_IVT.dropna(subset=['Saccade Duration'])"
   ]
  },
  {
   "cell_type": "code",
   "execution_count": null,
   "id": "30f800eb",
   "metadata": {},
   "outputs": [],
   "source": [
    "fix_1_df.shape"
   ]
  },
  {
   "cell_type": "code",
   "execution_count": null,
   "id": "31c007de",
   "metadata": {},
   "outputs": [],
   "source": [
    "sac_1_df.shape"
   ]
  },
  {
   "cell_type": "code",
   "execution_count": null,
   "id": "0bcba9ee",
   "metadata": {},
   "outputs": [],
   "source": [
    "fix_1_feature = fix_1_df.groupby('QuestionKey').agg({\n",
    "    'Fixation Duration': ['count','mean','max','sum','var'],\n",
    "    'Fixation Dispersion': ['mean','max'],\n",
    "    'Fixation X': ['var'],   # screen spread X\n",
    "    'Fixation Y': ['var']    # screen spread Y\n",
    "})"
   ]
  },
  {
   "cell_type": "code",
   "execution_count": null,
   "id": "0cc3b3d4",
   "metadata": {},
   "outputs": [],
   "source": [
    "fix_1_feature.columns = ['fix_count','fix_mean_dur','fix_max_dur','fix_total_time',\n",
    "                        'fix_dur_var','fix_disp_mean','fix_disp_max',\n",
    "                        'fix_x_var','fix_y_var']"
   ]
  },
  {
   "cell_type": "code",
   "execution_count": null,
   "id": "a4bc489a",
   "metadata": {},
   "outputs": [],
   "source": [
    "fix_1_feature"
   ]
  },
  {
   "cell_type": "code",
   "execution_count": null,
   "id": "71d0e56f",
   "metadata": {},
   "outputs": [],
   "source": [
    "sac_1_features = sac_1_df.groupby('QuestionKey').agg({\n",
    "    'Saccade Duration': ['count','mean','sum'],\n",
    "    'Saccade Amplitude': ['mean','max'],\n",
    "    'Saccade Peak Velocity': ['mean','max'],\n",
    "    'Saccade Peak Acceleration': ['mean'],\n",
    "    'Saccade Peak Deceleration': ['mean'],\n",
    "    'Saccade Direction': ['var']   # direction variance\n",
    "})"
   ]
  },
  {
   "cell_type": "code",
   "execution_count": null,
   "id": "f335c711",
   "metadata": {},
   "outputs": [],
   "source": [
    "sac_1_features.columns = ['sac_count','sac_mean_dur','sac_total_time',\n",
    "                        'sac_amp_mean','sac_amp_max',\n",
    "                        'sac_vel_mean','sac_vel_max',\n",
    "                        'sac_acc_mean','sac_dec_mean','sac_dir_var']"
   ]
  },
  {
   "cell_type": "code",
   "execution_count": null,
   "id": "df43ba4f",
   "metadata": {},
   "outputs": [],
   "source": [
    "sac_1_features"
   ]
  },
  {
   "cell_type": "code",
   "execution_count": null,
   "id": "0b93cb31",
   "metadata": {},
   "outputs": [],
   "source": [
    "ivt_1_features = fix_1_feature.join(sac_1_features, how='outer').fillna(0)"
   ]
  },
  {
   "cell_type": "code",
   "execution_count": null,
   "id": "1363d89e",
   "metadata": {},
   "outputs": [],
   "source": [
    "ivt_1_features"
   ]
  },
  {
   "cell_type": "code",
   "execution_count": null,
   "id": "396222ed",
   "metadata": {},
   "outputs": [],
   "source": [
    "ivt_1_features['fix_sac_count_ratio'] = ivt_1_features['fix_count'] / (ivt_1_features['sac_count']+1e-5)\n",
    "ivt_1_features['fix_sac_time_ratio']  = ivt_1_features['fix_total_time'] / (ivt_1_features['sac_total_time']+1e-5)"
   ]
  },
  {
   "cell_type": "code",
   "execution_count": null,
   "id": "afa5e6ab",
   "metadata": {},
   "outputs": [],
   "source": [
    "ivt_1_features"
   ]
  },
  {
   "cell_type": "code",
   "execution_count": null,
   "id": "ad0936c9",
   "metadata": {},
   "outputs": [],
   "source": []
  },
  {
   "cell_type": "markdown",
   "id": "36a1a350",
   "metadata": {},
   "source": [
    "# Aggregation of Fixation and Saccade Features\n",
    "\n",
    "In the preceding code cells, we performed aggregation on the `fix_1_df` and `sac_1_df` DataFrames, which contain the cleaned fixation and saccade data, respectively. The goal of this aggregation was to create a summary of eye-tracking metrics for each `QuestionKey`.\n",
    "\n",
    "For fixations, we calculated:\n",
    "- Count of fixations (`fix_count`)\n",
    "- Mean, max, sum, and variance of fixation duration (`fix_mean_dur`, `fix_max_dur`, `fix_total_time`, `fix_dur_var`)\n",
    "- Mean and max of fixation dispersion (`fix_disp_mean`, `fix_disp_max`)\n",
    "- Variance of fixation X and Y coordinates (`fix_x_var`, `fix_y_var`) to represent screen spread.\n",
    "\n",
    "For saccades, we calculated:\n",
    "- Count of saccades (`sac_count`)\n",
    "- Mean and sum of saccade duration (`sac_mean_dur`, `sac_total_time`)\n",
    "- Mean and max of saccade amplitude (`sac_amp_mean`, `sac_amp_max`)\n",
    "- Mean and max of saccade peak velocity (`sac_vel_mean`, `sac_vel_max`)\n",
    "- Mean of saccade peak acceleration and deceleration (`sac_acc_mean`, `sac_dec_mean`)\n",
    "- Variance of saccade direction (`sac_dir_var`).\n",
    "\n",
    "Finally, we joined these aggregated fixation and saccade features into a single DataFrame called `ivt_1_features`, using `QuestionKey` as the index. We also filled any resulting missing values (from `QuestionKey` values that may only have fixations or saccades, but not both) with 0. This `ivt_1_features` DataFrame now provides a consolidated summary of key eye-tracking characteristics for each question, which can be used for further analysis or modeling."
   ]
  },
  {
   "cell_type": "markdown",
   "id": "9336d804",
   "metadata": {},
   "source": [
    "# **12_IVT**"
   ]
  },
  {
   "cell_type": "code",
   "execution_count": null,
   "id": "6264573d",
   "metadata": {},
   "outputs": [],
   "source": [
    "df_12_IVT = pd.read_csv('data/STData/12/12_IVT.csv')"
   ]
  },
  {
   "cell_type": "code",
   "execution_count": null,
   "id": "d51b1f42",
   "metadata": {},
   "outputs": [],
   "source": [
    "df_12_IVT.head()"
   ]
  },
  {
   "cell_type": "code",
   "execution_count": null,
   "id": "e5eb1abe",
   "metadata": {},
   "outputs": [],
   "source": [
    "df_12_IVT.columns"
   ]
  },
  {
   "cell_type": "code",
   "execution_count": null,
   "id": "46e81b1f",
   "metadata": {},
   "outputs": [],
   "source": [
    "df_12_IVT.shape"
   ]
  },
  {
   "cell_type": "code",
   "execution_count": null,
   "id": "b252086f",
   "metadata": {},
   "outputs": [],
   "source": [
    "df_12_IVT.info()"
   ]
  },
  {
   "cell_type": "code",
   "execution_count": null,
   "id": "e71219b6",
   "metadata": {},
   "outputs": [],
   "source": [
    "df_12_IVT.isnull().sum()"
   ]
  },
  {
   "cell_type": "code",
   "execution_count": null,
   "id": "dc5dd390",
   "metadata": {},
   "outputs": [],
   "source": [
    "plt.figure(figsize=(14,10))\n",
    "sns.heatmap(df_12_IVT.isnull(), cmap='viridis')\n",
    "plt.show()"
   ]
  },
  {
   "cell_type": "markdown",
   "id": "910045ea",
   "metadata": {},
   "source": [
    "# Notes & Observations\n",
    "\n",
    "- We observe many **null** (or missing) values in the `QuestionKey` columns.\n",
    "- The nulls in the `QuestionKey` column may not represent “true” nulls. Rather, they follow interval patterns, suggesting that during those periods no question was displayed.\n",
    "- These missing values in `QuestionKey` require additional investigation and context-aware handling."
   ]
  },
  {
   "cell_type": "code",
   "execution_count": null,
   "id": "cbfe5983",
   "metadata": {},
   "outputs": [],
   "source": [
    "df_12_IVT['QuestionKey'].unique()"
   ]
  },
  {
   "cell_type": "code",
   "execution_count": null,
   "id": "58997ec4",
   "metadata": {},
   "outputs": [],
   "source": [
    "df_12_IVT['Timestamp'] = pd.to_datetime(df_12_IVT['Timestamp'])"
   ]
  },
  {
   "cell_type": "code",
   "execution_count": null,
   "id": "cf3cb933",
   "metadata": {},
   "outputs": [],
   "source": [
    "df_12_IVT.head(3)"
   ]
  },
  {
   "cell_type": "code",
   "execution_count": null,
   "id": "1493ff28",
   "metadata": {},
   "outputs": [],
   "source": [
    "df_12_IVT['QuestionKey'].fillna('None', inplace=True)"
   ]
  },
  {
   "cell_type": "code",
   "execution_count": null,
   "id": "445a5bea",
   "metadata": {},
   "outputs": [],
   "source": [
    "df_12_IVT['QuestionKey'].value_counts()"
   ]
  },
  {
   "cell_type": "code",
   "execution_count": null,
   "id": "2d57cebc",
   "metadata": {},
   "outputs": [],
   "source": [
    "plt.figure(figsize=(14,10))\n",
    "sns.heatmap(df_12_IVT.isnull(), cmap='viridis')\n",
    "plt.show()"
   ]
  },
  {
   "cell_type": "code",
   "execution_count": null,
   "id": "af3cc65f",
   "metadata": {},
   "outputs": [],
   "source": [
    "df_12_IVT.isnull().sum()"
   ]
  },
  {
   "cell_type": "code",
   "execution_count": null,
   "id": "24bca90a",
   "metadata": {},
   "outputs": [],
   "source": [
    "df_12_IVT.head()"
   ]
  },
  {
   "cell_type": "code",
   "execution_count": null,
   "id": "f9e8bc44",
   "metadata": {},
   "outputs": [],
   "source": [
    "df_12_IVT['Row'].unique()"
   ]
  },
  {
   "cell_type": "code",
   "execution_count": null,
   "id": "6f0d7802",
   "metadata": {},
   "outputs": [],
   "source": [
    "plt.figure(figsize=(8,6))\n",
    "sns.histplot(df_12_IVT['Row'])\n",
    "plt.show()"
   ]
  },
  {
   "cell_type": "markdown",
   "id": "3d124ac2",
   "metadata": {},
   "source": [
    "# Notes & Observations\n",
    "\n",
    "- The `Row` column appears to be a simple row index and does not provide meaningful information relevant to the eye-tracking data itself. Therefore, it can be dropped."
   ]
  },
  {
   "cell_type": "code",
   "execution_count": null,
   "id": "9ac27509",
   "metadata": {},
   "outputs": [],
   "source": [
    "df_12_IVT.drop('Row', axis=1, inplace=True)"
   ]
  },
  {
   "cell_type": "code",
   "execution_count": null,
   "id": "9003eff6",
   "metadata": {},
   "outputs": [],
   "source": [
    "fig, axes = plt.subplots(1, 2, figsize=(20, 10))\n",
    "\n",
    "sns.scatterplot(data=df_12_IVT, x='Gaze X', y='Gaze Y', ax=axes[0])\n",
    "axes[0].set_title('Gaze X vs Gaze Y')\n",
    "\n",
    "sns.scatterplot(data=df_12_IVT, x='Interpolated Gaze X', y='Interpolated Gaze Y', ax=axes[1])\n",
    "axes[1].set_title('Interpolated Gaze X vs Interpolated Gaze Y')\n",
    "\n",
    "plt.tight_layout()\n",
    "plt.show()"
   ]
  },
  {
   "cell_type": "markdown",
   "id": "440bf291",
   "metadata": {},
   "source": [
    "# Gaze and Interpolated Gaze Scatter Plots\n",
    "\n",
    "The scatter plots above visualize the relationship between the x and y coordinates of both the raw gaze data and the interpolated gaze data.\n",
    "\n",
    "- **Gaze X vs Gaze Y:** This plot shows the raw gaze coordinates. The scattered points indicate the locations on the screen where the participant was looking. The density of points in certain areas might suggest regions of interest.\n",
    "- **Interpolated Gaze X vs Interpolated Gaze Y:** This plot shows the interpolated gaze coordinates. Interpolation is often used to fill in gaps in the raw gaze data, providing a smoother representation of the gaze path. Comparing this plot to the raw gaze plot can show the effect of the interpolation process.\n",
    "\n",
    "Both plots can help in understanding the distribution of gaze points across the screen and identifying potential patterns or biases in eye movements."
   ]
  },
  {
   "cell_type": "code",
   "execution_count": null,
   "id": "79b658c6",
   "metadata": {},
   "outputs": [],
   "source": [
    "df_12_IVT.describe()"
   ]
  },
  {
   "cell_type": "code",
   "execution_count": null,
   "id": "4b567267",
   "metadata": {},
   "outputs": [],
   "source": [
    "df_12_IVT.head(3)"
   ]
  },
  {
   "cell_type": "code",
   "execution_count": null,
   "id": "4a426c0b",
   "metadata": {},
   "outputs": [],
   "source": [
    "df_12_IVT['Timestamp'] = pd.to_datetime(df_12_IVT['Timestamp'])"
   ]
  },
  {
   "cell_type": "code",
   "execution_count": null,
   "id": "83f90feb",
   "metadata": {},
   "outputs": [],
   "source": [
    "df_12_IVT.columns"
   ]
  },
  {
   "cell_type": "code",
   "execution_count": null,
   "id": "e90761d7",
   "metadata": {},
   "outputs": [],
   "source": [
    "cols = ['Gaze X', 'Gaze Y',\n",
    "       'Interpolated Gaze X', 'Interpolated Gaze Y', 'Interpolated Distance',\n",
    "       'Gaze Velocity', 'Gaze Acceleration', 'Fixation Index',\n",
    "       'Fixation Index by Stimulus', 'Fixation X', 'Fixation Y',\n",
    "       'Fixation Start', 'Fixation End', 'Fixation Duration',\n",
    "       'Fixation Dispersion', 'Saccade Index', 'Saccade Index by Stimulus',\n",
    "       'Saccade Start', 'Saccade End', 'Saccade Duration', 'Saccade Amplitude',\n",
    "       'Saccade Peak Velocity', 'Saccade Peak Acceleration',\n",
    "       'Saccade Peak Deceleration', 'Saccade Direction']"
   ]
  },
  {
   "cell_type": "code",
   "execution_count": null,
   "id": "c6ec994c",
   "metadata": {},
   "outputs": [],
   "source": [
    "from IPython.display import display, Markdown\n",
    "\n",
    "for col in cols:\n",
    "    # Add a markdown cell before each plot for better separation and labeling\n",
    "    display(Markdown(f'### {col} over Time'))\n",
    "    plt.figure(figsize=(16, 10))\n",
    "    sns.lineplot(x=df_12_IVT['Timestamp'], y=df_12_IVT[col])\n",
    "    plt.xlabel(\"Timestamp\") # Add x-axis label\n",
    "    plt.ylabel(col) # Add y-axis label\n",
    "    plt.show()"
   ]
  },
  {
   "cell_type": "code",
   "execution_count": null,
   "id": "1e767ef3",
   "metadata": {},
   "outputs": [],
   "source": [
    "df_12_IVT.head()"
   ]
  },
  {
   "cell_type": "code",
   "execution_count": null,
   "id": "44bf28e4",
   "metadata": {},
   "outputs": [],
   "source": [
    "plt.figure(figsize=(14,10))\n",
    "sns.heatmap(df_12_IVT[['Fixation Index', 'Fixation Index by Stimulus', 'Saccade Index', 'Saccade Index by Stimulus']].isnull(), cmap='viridis')\n",
    "plt.show()"
   ]
  },
  {
   "cell_type": "markdown",
   "id": "475dbe7e",
   "metadata": {},
   "source": [
    "# Observation\n",
    "\n",
    "The `Fixation Index`, `Fixation Index by Stimulus`, `Saccade Index` and `Saccade Index by Stimulus` columns are essentially just sequence numbers for identified events. While they indicate the order of fixations and saccades, they don't provide meaningful features for a machine learning model attempting to predict or classify eye movement patterns. Therefore, we will drop these columns as they are not useful for model building."
   ]
  },
  {
   "cell_type": "code",
   "execution_count": null,
   "id": "e0bffacb",
   "metadata": {},
   "outputs": [],
   "source": [
    "df_12_IVT.drop(['Fixation Index', 'Fixation Index by Stimulus', 'Saccade Index', 'Saccade Index by Stimulus'], axis=1, inplace=True)"
   ]
  },
  {
   "cell_type": "code",
   "execution_count": null,
   "id": "b29d7e9d",
   "metadata": {},
   "outputs": [],
   "source": [
    "plt.figure(figsize=(14,10))\n",
    "sns.scatterplot(data=df_12_IVT, x='Fixation X', y='Fixation Y')\n",
    "plt.title('Fixation X vs Fixation Y')\n",
    "plt.show()"
   ]
  },
  {
   "cell_type": "code",
   "execution_count": null,
   "id": "98d7d0ef",
   "metadata": {},
   "outputs": [],
   "source": [
    "df_12_IVT['Fixation Start'].describe()"
   ]
  },
  {
   "cell_type": "code",
   "execution_count": null,
   "id": "f131226b",
   "metadata": {},
   "outputs": [],
   "source": [
    "fig, axes = plt.subplots(1, 2, figsize=(20, 8))\n",
    "\n",
    "sns.histplot(df_12_IVT['Fixation Start'], bins=100, kde=True, ax=axes[0])\n",
    "axes[0].set_xlabel('Fixation Start')\n",
    "axes[0].set_ylabel('Frequency')\n",
    "axes[0].set_title('Distribution of Fixation Start')\n",
    "\n",
    "sns.histplot(df_12_IVT['Fixation End'], bins=100, kde=True, ax=axes[1])\n",
    "axes[1].set_xlabel('Fixation End')\n",
    "axes[1].set_ylabel('Frequency')\n",
    "axes[1].set_title('Distribution of Fixation End')\n",
    "\n",
    "plt.tight_layout()\n",
    "plt.show()"
   ]
  },
  {
   "cell_type": "code",
   "execution_count": null,
   "id": "d05c6ee0",
   "metadata": {},
   "outputs": [],
   "source": [
    "fig, axes = plt.subplots(1, 2, figsize=(20, 8))\n",
    "\n",
    "sns.histplot(df_12_IVT['Saccade Start'], bins=100, kde=True, ax=axes[0])\n",
    "axes[0].set_xlabel('Saccade Start')\n",
    "axes[0].set_ylabel('Frequency')\n",
    "axes[0].set_title('Distribution of Saccade Start')\n",
    "\n",
    "sns.histplot(df_12_IVT['Saccade End'], bins=100, kde=True, ax=axes[1])\n",
    "axes[1].set_xlabel('Saccade End')\n",
    "axes[1].set_ylabel('Frequency')\n",
    "axes[1].set_title('Distribution of Saccade End')\n",
    "\n",
    "plt.tight_layout()\n",
    "plt.show()"
   ]
  },
  {
   "cell_type": "markdown",
   "id": "7e483378",
   "metadata": {},
   "source": [
    "# Observation on Fixation and Saccade Timestamps\n",
    "\n",
    "Upon examining the time series plots of 'Fixation Start', 'Fixation End', `Saccade Start`, and `Saccade End` against the `Timestamp`, we observe a clear linear, diagonal pattern. This indicates that these values are largely sequential and directly related to the progress of time in the data recording.\n",
    "\n",
    "Furthermore, the histograms of these features show distributions that, while informative about the timing of events, don't necessarily reveal complex patterns that would be highly predictive for a machine learning model.\n",
    "\n",
    "Crucially, the dataset already contains `Fixation Duration` and `Saccade Duration` columns. These duration features capture the length of each event, which is often a more directly relevant metric for understanding eye movement behavior than the absolute start and end times. Since the duration can be derived from the start and end times (Duration = End - Start), the start and end time columns introduce redundancy and do not provide substantial additional, independent information for modeling purposes.\n",
    "\n",
    "Therefore, to simplify the dataset and focus on the most informative features for potential machine movement analysis or modeling, we will drop the `Fixation Start`, `Fixation End`, `Saccade Start`, and `Saccade End` columns."
   ]
  },
  {
   "cell_type": "code",
   "execution_count": null,
   "id": "7516fda3",
   "metadata": {},
   "outputs": [],
   "source": [
    "df_12_IVT.drop(['Fixation Start', 'Fixation End', 'Saccade Start', 'Saccade End'], axis=1, inplace=True)"
   ]
  },
  {
   "cell_type": "code",
   "execution_count": null,
   "id": "1209021f",
   "metadata": {},
   "outputs": [],
   "source": [
    "df_12_IVT.head()"
   ]
  },
  {
   "cell_type": "code",
   "execution_count": null,
   "id": "90c09e81",
   "metadata": {},
   "outputs": [],
   "source": [
    "plt.figure(figsize=(12, 8))\n",
    "sns.heatmap(df_12_IVT[['Gaze X', 'Gaze Y', 'Interpolated Gaze X', 'Interpolated Gaze Y']].isnull(), cmap='viridis')\n",
    "plt.show()\n"
   ]
  },
  {
   "cell_type": "code",
   "execution_count": null,
   "id": "26436492",
   "metadata": {},
   "outputs": [],
   "source": []
  },
  {
   "cell_type": "markdown",
   "id": "5f87f57f",
   "metadata": {},
   "source": [
    "# Observations on Gaze and Interpolated Gaze Data\n",
    "\n",
    "Based on the scatter plots of 'Gaze X' vs 'Gaze Y' and 'Interpolated Gaze X' vs 'Interpolated Gaze Y', we observe that the distributions of the raw and interpolated gaze points appear very similar. The spatial patterns of where the participant was looking are consistent between the two sets of coordinates.\n",
    "\n",
    "Furthermore, the heatmap of null values for these columns ('Gaze X', 'Gaze Y', 'Interpolated Gaze X', 'Interpolated Gaze Y') reveals that the missing values are present in the same rows for both the raw and interpolated gaze coordinates. This suggests that the interpolation process did not fill in the gaps in the raw gaze data for these specific instances.\n",
    "\n",
    "Given that the interpolated gaze data shows the same spatial distribution and the same pattern of null values as the raw gaze data, it appears that the interpolation did not significantly alter or complete the data in this case. Therefore, keeping both the raw and interpolated gaze columns might be redundant, and one set could potentially be dropped to simplify the dataset without losing significant information."
   ]
  },
  {
   "cell_type": "code",
   "execution_count": null,
   "id": "9be0acf2",
   "metadata": {},
   "outputs": [],
   "source": [
    "df_12_IVT.drop(['Interpolated Gaze X', 'Interpolated Gaze Y'], axis=1, inplace=True)"
   ]
  },
  {
   "cell_type": "code",
   "execution_count": null,
   "id": "820ba76a",
   "metadata": {},
   "outputs": [],
   "source": [
    "df_12_IVT.head()"
   ]
  },
  {
   "cell_type": "code",
   "execution_count": null,
   "id": "e821b2d1",
   "metadata": {},
   "outputs": [],
   "source": [
    "plt.figure(figsize=(12, 8))\n",
    "sns.heatmap(df_12_IVT.isnull(), cmap='viridis')\n",
    "plt.show()"
   ]
  },
  {
   "cell_type": "code",
   "execution_count": null,
   "id": "a429d04a",
   "metadata": {},
   "outputs": [],
   "source": [
    "df_12_IVT.columns"
   ]
  },
  {
   "cell_type": "code",
   "execution_count": null,
   "id": "874d59bf",
   "metadata": {},
   "outputs": [],
   "source": [
    "fix_1_df = df_12_IVT.dropna(subset=['Fixation Duration'])\n",
    "sac_1_df = df_12_IVT.dropna(subset=['Saccade Duration'])"
   ]
  },
  {
   "cell_type": "code",
   "execution_count": null,
   "id": "70b28551",
   "metadata": {},
   "outputs": [],
   "source": [
    "fix_1_df.shape"
   ]
  },
  {
   "cell_type": "code",
   "execution_count": null,
   "id": "21362274",
   "metadata": {},
   "outputs": [],
   "source": [
    "sac_1_df.shape"
   ]
  },
  {
   "cell_type": "code",
   "execution_count": null,
   "id": "b3d8d111",
   "metadata": {},
   "outputs": [],
   "source": [
    "fix_1_feature = fix_1_df.groupby('QuestionKey').agg({\n",
    "    'Fixation Duration': ['count','mean','max','sum','var'],\n",
    "    'Fixation Dispersion': ['mean','max'],\n",
    "    'Fixation X': ['var'],   # screen spread X\n",
    "    'Fixation Y': ['var']    # screen spread Y\n",
    "})"
   ]
  },
  {
   "cell_type": "code",
   "execution_count": null,
   "id": "bdcf7b55",
   "metadata": {},
   "outputs": [],
   "source": [
    "fix_1_feature.columns = ['fix_count','fix_mean_dur','fix_max_dur','fix_total_time',\n",
    "                        'fix_dur_var','fix_disp_mean','fix_disp_max',\n",
    "                        'fix_x_var','fix_y_var']"
   ]
  },
  {
   "cell_type": "code",
   "execution_count": null,
   "id": "74c5ea9f",
   "metadata": {},
   "outputs": [],
   "source": [
    "fix_1_feature"
   ]
  },
  {
   "cell_type": "code",
   "execution_count": null,
   "id": "efe2e7dc",
   "metadata": {},
   "outputs": [],
   "source": [
    "sac_1_features = sac_1_df.groupby('QuestionKey').agg({\n",
    "    'Saccade Duration': ['count','mean','sum'],\n",
    "    'Saccade Amplitude': ['mean','max'],\n",
    "    'Saccade Peak Velocity': ['mean','max'],\n",
    "    'Saccade Peak Acceleration': ['mean'],\n",
    "    'Saccade Peak Deceleration': ['mean'],\n",
    "    'Saccade Direction': ['var']   # direction variance\n",
    "})"
   ]
  },
  {
   "cell_type": "code",
   "execution_count": null,
   "id": "b71d4113",
   "metadata": {},
   "outputs": [],
   "source": [
    "sac_1_features.columns = ['sac_count','sac_mean_dur','sac_total_time',\n",
    "                        'sac_amp_mean','sac_amp_max',\n",
    "                        'sac_vel_mean','sac_vel_max',\n",
    "                        'sac_acc_mean','sac_dec_mean','sac_dir_var']"
   ]
  },
  {
   "cell_type": "code",
   "execution_count": null,
   "id": "b9b32405",
   "metadata": {},
   "outputs": [],
   "source": [
    "sac_1_features"
   ]
  },
  {
   "cell_type": "code",
   "execution_count": null,
   "id": "c6babeac",
   "metadata": {},
   "outputs": [],
   "source": [
    "ivt_1_features = fix_1_feature.join(sac_1_features, how='outer').fillna(0)"
   ]
  },
  {
   "cell_type": "code",
   "execution_count": null,
   "id": "93477838",
   "metadata": {},
   "outputs": [],
   "source": [
    "ivt_1_features"
   ]
  },
  {
   "cell_type": "code",
   "execution_count": null,
   "id": "d075b1ad",
   "metadata": {},
   "outputs": [],
   "source": [
    "ivt_1_features['fix_sac_count_ratio'] = ivt_1_features['fix_count'] / (ivt_1_features['sac_count']+1e-5)\n",
    "ivt_1_features['fix_sac_time_ratio']  = ivt_1_features['fix_total_time'] / (ivt_1_features['sac_total_time']+1e-5)"
   ]
  },
  {
   "cell_type": "code",
   "execution_count": null,
   "id": "2fa464a0",
   "metadata": {},
   "outputs": [],
   "source": [
    "ivt_1_features"
   ]
  },
  {
   "cell_type": "code",
   "execution_count": null,
   "id": "7aac8741",
   "metadata": {},
   "outputs": [],
   "source": []
  },
  {
   "cell_type": "markdown",
   "id": "38d08121",
   "metadata": {},
   "source": [
    "# Aggregation of Fixation and Saccade Features\n",
    "\n",
    "In the preceding code cells, we performed aggregation on the `fix_1_df` and `sac_1_df` DataFrames, which contain the cleaned fixation and saccade data, respectively. The goal of this aggregation was to create a summary of eye-tracking metrics for each `QuestionKey`.\n",
    "\n",
    "For fixations, we calculated:\n",
    "- Count of fixations (`fix_count`)\n",
    "- Mean, max, sum, and variance of fixation duration (`fix_mean_dur`, `fix_max_dur`, `fix_total_time`, `fix_dur_var`)\n",
    "- Mean and max of fixation dispersion (`fix_disp_mean`, `fix_disp_max`)\n",
    "- Variance of fixation X and Y coordinates (`fix_x_var`, `fix_y_var`) to represent screen spread.\n",
    "\n",
    "For saccades, we calculated:\n",
    "- Count of saccades (`sac_count`)\n",
    "- Mean and sum of saccade duration (`sac_mean_dur`, `sac_total_time`)\n",
    "- Mean and max of saccade amplitude (`sac_amp_mean`, `sac_amp_max`)\n",
    "- Mean and max of saccade peak velocity (`sac_vel_mean`, `sac_vel_max`)\n",
    "- Mean of saccade peak acceleration and deceleration (`sac_acc_mean`, `sac_dec_mean`)\n",
    "- Variance of saccade direction (`sac_dir_var`).\n",
    "\n",
    "Finally, we joined these aggregated fixation and saccade features into a single DataFrame called `ivt_1_features`, using `QuestionKey` as the index. We also filled any resulting missing values (from `QuestionKey` values that may only have fixations or saccades, but not both) with 0. This `ivt_1_features` DataFrame now provides a consolidated summary of key eye-tracking characteristics for each question, which can be used for further analysis or modeling."
   ]
  },
  {
   "cell_type": "markdown",
   "id": "15e9607f",
   "metadata": {},
   "source": [
    "# **13_IVT**"
   ]
  },
  {
   "cell_type": "code",
   "execution_count": null,
   "id": "071af947",
   "metadata": {},
   "outputs": [],
   "source": [
    "df_13_IVT = pd.read_csv('data/STData/13/13_IVT.csv')"
   ]
  },
  {
   "cell_type": "code",
   "execution_count": null,
   "id": "366f01d2",
   "metadata": {},
   "outputs": [],
   "source": [
    "df_13_IVT.head()"
   ]
  },
  {
   "cell_type": "code",
   "execution_count": null,
   "id": "67a5f503",
   "metadata": {},
   "outputs": [],
   "source": [
    "df_13_IVT.columns"
   ]
  },
  {
   "cell_type": "code",
   "execution_count": null,
   "id": "22ec49a3",
   "metadata": {},
   "outputs": [],
   "source": [
    "df_13_IVT.shape"
   ]
  },
  {
   "cell_type": "code",
   "execution_count": null,
   "id": "3e6c1773",
   "metadata": {},
   "outputs": [],
   "source": [
    "df_13_IVT.info()"
   ]
  },
  {
   "cell_type": "code",
   "execution_count": null,
   "id": "3df1cbd9",
   "metadata": {},
   "outputs": [],
   "source": [
    "df_13_IVT.isnull().sum()"
   ]
  },
  {
   "cell_type": "code",
   "execution_count": null,
   "id": "cac167ea",
   "metadata": {},
   "outputs": [],
   "source": [
    "plt.figure(figsize=(14,10))\n",
    "sns.heatmap(df_13_IVT.isnull(), cmap='viridis')\n",
    "plt.show()"
   ]
  },
  {
   "cell_type": "markdown",
   "id": "061c5b64",
   "metadata": {},
   "source": [
    "# Notes & Observations\n",
    "\n",
    "- We observe many **null** (or missing) values in the `QuestionKey` columns.\n",
    "- The nulls in the `QuestionKey` column may not represent “true” nulls. Rather, they follow interval patterns, suggesting that during those periods no question was displayed.\n",
    "- These missing values in `QuestionKey` require additional investigation and context-aware handling."
   ]
  },
  {
   "cell_type": "code",
   "execution_count": null,
   "id": "b200e894",
   "metadata": {},
   "outputs": [],
   "source": [
    "df_13_IVT['QuestionKey'].unique()"
   ]
  },
  {
   "cell_type": "code",
   "execution_count": null,
   "id": "0b36b463",
   "metadata": {},
   "outputs": [],
   "source": [
    "df_13_IVT['Timestamp'] = pd.to_datetime(df_13_IVT['Timestamp'])"
   ]
  },
  {
   "cell_type": "code",
   "execution_count": null,
   "id": "e034c668",
   "metadata": {},
   "outputs": [],
   "source": [
    "df_13_IVT.head(3)"
   ]
  },
  {
   "cell_type": "code",
   "execution_count": null,
   "id": "f6023889",
   "metadata": {},
   "outputs": [],
   "source": [
    "df_13_IVT['QuestionKey'].fillna('None', inplace=True)"
   ]
  },
  {
   "cell_type": "code",
   "execution_count": null,
   "id": "afb92d14",
   "metadata": {},
   "outputs": [],
   "source": [
    "df_13_IVT['QuestionKey'].value_counts()"
   ]
  },
  {
   "cell_type": "code",
   "execution_count": null,
   "id": "a1e03cf4",
   "metadata": {},
   "outputs": [],
   "source": [
    "plt.figure(figsize=(14,10))\n",
    "sns.heatmap(df_13_IVT.isnull(), cmap='viridis')\n",
    "plt.show()"
   ]
  },
  {
   "cell_type": "code",
   "execution_count": null,
   "id": "f722480c",
   "metadata": {},
   "outputs": [],
   "source": [
    "df_13_IVT.isnull().sum()"
   ]
  },
  {
   "cell_type": "code",
   "execution_count": null,
   "id": "b3516d00",
   "metadata": {},
   "outputs": [],
   "source": [
    "df_13_IVT.head()"
   ]
  },
  {
   "cell_type": "code",
   "execution_count": null,
   "id": "c3c93778",
   "metadata": {},
   "outputs": [],
   "source": [
    "df_13_IVT['Row'].unique()"
   ]
  },
  {
   "cell_type": "code",
   "execution_count": null,
   "id": "450660a1",
   "metadata": {},
   "outputs": [],
   "source": [
    "plt.figure(figsize=(8,6))\n",
    "sns.histplot(df_13_IVT['Row'])\n",
    "plt.show()"
   ]
  },
  {
   "cell_type": "markdown",
   "id": "19fe3f31",
   "metadata": {},
   "source": [
    "# Notes & Observations\n",
    "\n",
    "- The `Row` column appears to be a simple row index and does not provide meaningful information relevant to the eye-tracking data itself. Therefore, it can be dropped."
   ]
  },
  {
   "cell_type": "code",
   "execution_count": null,
   "id": "5e34bf5a",
   "metadata": {},
   "outputs": [],
   "source": [
    "df_13_IVT.drop('Row', axis=1, inplace=True)"
   ]
  },
  {
   "cell_type": "code",
   "execution_count": null,
   "id": "f1388839",
   "metadata": {},
   "outputs": [],
   "source": [
    "fig, axes = plt.subplots(1, 2, figsize=(20, 10))\n",
    "\n",
    "sns.scatterplot(data=df_13_IVT, x='Gaze X', y='Gaze Y', ax=axes[0])\n",
    "axes[0].set_title('Gaze X vs Gaze Y')\n",
    "\n",
    "sns.scatterplot(data=df_13_IVT, x='Interpolated Gaze X', y='Interpolated Gaze Y', ax=axes[1])\n",
    "axes[1].set_title('Interpolated Gaze X vs Interpolated Gaze Y')\n",
    "\n",
    "plt.tight_layout()\n",
    "plt.show()"
   ]
  },
  {
   "cell_type": "markdown",
   "id": "ec480cbc",
   "metadata": {},
   "source": [
    "# Gaze and Interpolated Gaze Scatter Plots\n",
    "\n",
    "The scatter plots above visualize the relationship between the x and y coordinates of both the raw gaze data and the interpolated gaze data.\n",
    "\n",
    "- **Gaze X vs Gaze Y:** This plot shows the raw gaze coordinates. The scattered points indicate the locations on the screen where the participant was looking. The density of points in certain areas might suggest regions of interest.\n",
    "- **Interpolated Gaze X vs Interpolated Gaze Y:** This plot shows the interpolated gaze coordinates. Interpolation is often used to fill in gaps in the raw gaze data, providing a smoother representation of the gaze path. Comparing this plot to the raw gaze plot can show the effect of the interpolation process.\n",
    "\n",
    "Both plots can help in understanding the distribution of gaze points across the screen and identifying potential patterns or biases in eye movements."
   ]
  },
  {
   "cell_type": "code",
   "execution_count": null,
   "id": "42b68818",
   "metadata": {},
   "outputs": [],
   "source": [
    "df_13_IVT.describe()"
   ]
  },
  {
   "cell_type": "code",
   "execution_count": null,
   "id": "2272678a",
   "metadata": {},
   "outputs": [],
   "source": [
    "df_13_IVT.head(3)"
   ]
  },
  {
   "cell_type": "code",
   "execution_count": null,
   "id": "06bdf906",
   "metadata": {},
   "outputs": [],
   "source": [
    "df_13_IVT['Timestamp'] = pd.to_datetime(df_13_IVT['Timestamp'])"
   ]
  },
  {
   "cell_type": "code",
   "execution_count": null,
   "id": "5bca6b32",
   "metadata": {},
   "outputs": [],
   "source": [
    "df_13_IVT.columns"
   ]
  },
  {
   "cell_type": "code",
   "execution_count": null,
   "id": "a31250b1",
   "metadata": {},
   "outputs": [],
   "source": [
    "cols = ['Gaze X', 'Gaze Y',\n",
    "       'Interpolated Gaze X', 'Interpolated Gaze Y', 'Interpolated Distance',\n",
    "       'Gaze Velocity', 'Gaze Acceleration', 'Fixation Index',\n",
    "       'Fixation Index by Stimulus', 'Fixation X', 'Fixation Y',\n",
    "       'Fixation Start', 'Fixation End', 'Fixation Duration',\n",
    "       'Fixation Dispersion', 'Saccade Index', 'Saccade Index by Stimulus',\n",
    "       'Saccade Start', 'Saccade End', 'Saccade Duration', 'Saccade Amplitude',\n",
    "       'Saccade Peak Velocity', 'Saccade Peak Acceleration',\n",
    "       'Saccade Peak Deceleration', 'Saccade Direction']"
   ]
  },
  {
   "cell_type": "code",
   "execution_count": null,
   "id": "0e91332c",
   "metadata": {},
   "outputs": [],
   "source": [
    "from IPython.display import display, Markdown\n",
    "\n",
    "for col in cols:\n",
    "    # Add a markdown cell before each plot for better separation and labeling\n",
    "    display(Markdown(f'### {col} over Time'))\n",
    "    plt.figure(figsize=(16, 10))\n",
    "    sns.lineplot(x=df_13_IVT['Timestamp'], y=df_13_IVT[col])\n",
    "    plt.xlabel(\"Timestamp\") # Add x-axis label\n",
    "    plt.ylabel(col) # Add y-axis label\n",
    "    plt.show()"
   ]
  },
  {
   "cell_type": "code",
   "execution_count": null,
   "id": "e3ae1b01",
   "metadata": {},
   "outputs": [],
   "source": [
    "df_13_IVT.head()"
   ]
  },
  {
   "cell_type": "code",
   "execution_count": null,
   "id": "3e4178db",
   "metadata": {},
   "outputs": [],
   "source": [
    "plt.figure(figsize=(14,10))\n",
    "sns.heatmap(df_13_IVT[['Fixation Index', 'Fixation Index by Stimulus', 'Saccade Index', 'Saccade Index by Stimulus']].isnull(), cmap='viridis')\n",
    "plt.show()"
   ]
  },
  {
   "cell_type": "markdown",
   "id": "22113008",
   "metadata": {},
   "source": [
    "# Observation\n",
    "\n",
    "The `Fixation Index`, `Fixation Index by Stimulus`, `Saccade Index` and `Saccade Index by Stimulus` columns are essentially just sequence numbers for identified events. While they indicate the order of fixations and saccades, they don't provide meaningful features for a machine learning model attempting to predict or classify eye movement patterns. Therefore, we will drop these columns as they are not useful for model building."
   ]
  },
  {
   "cell_type": "code",
   "execution_count": null,
   "id": "261dacd7",
   "metadata": {},
   "outputs": [],
   "source": [
    "df_13_IVT.drop(['Fixation Index', 'Fixation Index by Stimulus', 'Saccade Index', 'Saccade Index by Stimulus'], axis=1, inplace=True)"
   ]
  },
  {
   "cell_type": "code",
   "execution_count": null,
   "id": "52a732ec",
   "metadata": {},
   "outputs": [],
   "source": [
    "plt.figure(figsize=(14,10))\n",
    "sns.scatterplot(data=df_13_IVT, x='Fixation X', y='Fixation Y')\n",
    "plt.title('Fixation X vs Fixation Y')\n",
    "plt.show()"
   ]
  },
  {
   "cell_type": "code",
   "execution_count": null,
   "id": "6afcc2f9",
   "metadata": {},
   "outputs": [],
   "source": [
    "df_13_IVT['Fixation Start'].describe()"
   ]
  },
  {
   "cell_type": "code",
   "execution_count": null,
   "id": "f61a3d19",
   "metadata": {},
   "outputs": [],
   "source": [
    "fig, axes = plt.subplots(1, 2, figsize=(20, 8))\n",
    "\n",
    "sns.histplot(df_13_IVT['Fixation Start'], bins=100, kde=True, ax=axes[0])\n",
    "axes[0].set_xlabel('Fixation Start')\n",
    "axes[0].set_ylabel('Frequency')\n",
    "axes[0].set_title('Distribution of Fixation Start')\n",
    "\n",
    "sns.histplot(df_13_IVT['Fixation End'], bins=100, kde=True, ax=axes[1])\n",
    "axes[1].set_xlabel('Fixation End')\n",
    "axes[1].set_ylabel('Frequency')\n",
    "axes[1].set_title('Distribution of Fixation End')\n",
    "\n",
    "plt.tight_layout()\n",
    "plt.show()"
   ]
  },
  {
   "cell_type": "code",
   "execution_count": null,
   "id": "474f45dd",
   "metadata": {},
   "outputs": [],
   "source": [
    "fig, axes = plt.subplots(1, 2, figsize=(20, 8))\n",
    "\n",
    "sns.histplot(df_13_IVT['Saccade Start'], bins=100, kde=True, ax=axes[0])\n",
    "axes[0].set_xlabel('Saccade Start')\n",
    "axes[0].set_ylabel('Frequency')\n",
    "axes[0].set_title('Distribution of Saccade Start')\n",
    "\n",
    "sns.histplot(df_13_IVT['Saccade End'], bins=100, kde=True, ax=axes[1])\n",
    "axes[1].set_xlabel('Saccade End')\n",
    "axes[1].set_ylabel('Frequency')\n",
    "axes[1].set_title('Distribution of Saccade End')\n",
    "\n",
    "plt.tight_layout()\n",
    "plt.show()"
   ]
  },
  {
   "cell_type": "markdown",
   "id": "843cca80",
   "metadata": {},
   "source": [
    "# Observation on Fixation and Saccade Timestamps\n",
    "\n",
    "Upon examining the time series plots of 'Fixation Start', 'Fixation End', `Saccade Start`, and `Saccade End` against the `Timestamp`, we observe a clear linear, diagonal pattern. This indicates that these values are largely sequential and directly related to the progress of time in the data recording.\n",
    "\n",
    "Furthermore, the histograms of these features show distributions that, while informative about the timing of events, don't necessarily reveal complex patterns that would be highly predictive for a machine learning model.\n",
    "\n",
    "Crucially, the dataset already contains `Fixation Duration` and `Saccade Duration` columns. These duration features capture the length of each event, which is often a more directly relevant metric for understanding eye movement behavior than the absolute start and end times. Since the duration can be derived from the start and end times (Duration = End - Start), the start and end time columns introduce redundancy and do not provide substantial additional, independent information for modeling purposes.\n",
    "\n",
    "Therefore, to simplify the dataset and focus on the most informative features for potential machine movement analysis or modeling, we will drop the `Fixation Start`, `Fixation End`, `Saccade Start`, and `Saccade End` columns."
   ]
  },
  {
   "cell_type": "code",
   "execution_count": null,
   "id": "9ff885bf",
   "metadata": {},
   "outputs": [],
   "source": [
    "df_13_IVT.drop(['Fixation Start', 'Fixation End', 'Saccade Start', 'Saccade End'], axis=1, inplace=True)"
   ]
  },
  {
   "cell_type": "code",
   "execution_count": null,
   "id": "35a583a9",
   "metadata": {},
   "outputs": [],
   "source": [
    "df_13_IVT.head()"
   ]
  },
  {
   "cell_type": "code",
   "execution_count": null,
   "id": "6e02bca4",
   "metadata": {},
   "outputs": [],
   "source": [
    "plt.figure(figsize=(12, 8))\n",
    "sns.heatmap(df_13_IVT[['Gaze X', 'Gaze Y', 'Interpolated Gaze X', 'Interpolated Gaze Y']].isnull(), cmap='viridis')\n",
    "plt.show()\n"
   ]
  },
  {
   "cell_type": "code",
   "execution_count": null,
   "id": "5d0567e7",
   "metadata": {},
   "outputs": [],
   "source": []
  },
  {
   "cell_type": "markdown",
   "id": "5f349243",
   "metadata": {},
   "source": [
    "# Observations on Gaze and Interpolated Gaze Data\n",
    "\n",
    "Based on the scatter plots of 'Gaze X' vs 'Gaze Y' and 'Interpolated Gaze X' vs 'Interpolated Gaze Y', we observe that the distributions of the raw and interpolated gaze points appear very similar. The spatial patterns of where the participant was looking are consistent between the two sets of coordinates.\n",
    "\n",
    "Furthermore, the heatmap of null values for these columns ('Gaze X', 'Gaze Y', 'Interpolated Gaze X', 'Interpolated Gaze Y') reveals that the missing values are present in the same rows for both the raw and interpolated gaze coordinates. This suggests that the interpolation process did not fill in the gaps in the raw gaze data for these specific instances.\n",
    "\n",
    "Given that the interpolated gaze data shows the same spatial distribution and the same pattern of null values as the raw gaze data, it appears that the interpolation did not significantly alter or complete the data in this case. Therefore, keeping both the raw and interpolated gaze columns might be redundant, and one set could potentially be dropped to simplify the dataset without losing significant information."
   ]
  },
  {
   "cell_type": "code",
   "execution_count": null,
   "id": "476733ea",
   "metadata": {},
   "outputs": [],
   "source": [
    "df_13_IVT.drop(['Interpolated Gaze X', 'Interpolated Gaze Y'], axis=1, inplace=True)"
   ]
  },
  {
   "cell_type": "code",
   "execution_count": null,
   "id": "d847b1bd",
   "metadata": {},
   "outputs": [],
   "source": [
    "df_13_IVT.head()"
   ]
  },
  {
   "cell_type": "code",
   "execution_count": null,
   "id": "bbed04db",
   "metadata": {},
   "outputs": [],
   "source": [
    "plt.figure(figsize=(12, 8))\n",
    "sns.heatmap(df_13_IVT.isnull(), cmap='viridis')\n",
    "plt.show()"
   ]
  },
  {
   "cell_type": "code",
   "execution_count": null,
   "id": "c073c7a3",
   "metadata": {},
   "outputs": [],
   "source": [
    "df_13_IVT.columns"
   ]
  },
  {
   "cell_type": "code",
   "execution_count": null,
   "id": "3572bff1",
   "metadata": {},
   "outputs": [],
   "source": [
    "fix_1_df = df_13_IVT.dropna(subset=['Fixation Duration'])\n",
    "sac_1_df = df_13_IVT.dropna(subset=['Saccade Duration'])"
   ]
  },
  {
   "cell_type": "code",
   "execution_count": null,
   "id": "f4bf80fb",
   "metadata": {},
   "outputs": [],
   "source": [
    "fix_1_df.shape"
   ]
  },
  {
   "cell_type": "code",
   "execution_count": null,
   "id": "7813770d",
   "metadata": {},
   "outputs": [],
   "source": [
    "sac_1_df.shape"
   ]
  },
  {
   "cell_type": "code",
   "execution_count": null,
   "id": "fc380c45",
   "metadata": {},
   "outputs": [],
   "source": [
    "fix_1_feature = fix_1_df.groupby('QuestionKey').agg({\n",
    "    'Fixation Duration': ['count','mean','max','sum','var'],\n",
    "    'Fixation Dispersion': ['mean','max'],\n",
    "    'Fixation X': ['var'],   # screen spread X\n",
    "    'Fixation Y': ['var']    # screen spread Y\n",
    "})"
   ]
  },
  {
   "cell_type": "code",
   "execution_count": null,
   "id": "744ac335",
   "metadata": {},
   "outputs": [],
   "source": [
    "fix_1_feature.columns = ['fix_count','fix_mean_dur','fix_max_dur','fix_total_time',\n",
    "                        'fix_dur_var','fix_disp_mean','fix_disp_max',\n",
    "                        'fix_x_var','fix_y_var']"
   ]
  },
  {
   "cell_type": "code",
   "execution_count": null,
   "id": "0276794e",
   "metadata": {},
   "outputs": [],
   "source": [
    "fix_1_feature"
   ]
  },
  {
   "cell_type": "code",
   "execution_count": null,
   "id": "5433d165",
   "metadata": {},
   "outputs": [],
   "source": [
    "sac_1_features = sac_1_df.groupby('QuestionKey').agg({\n",
    "    'Saccade Duration': ['count','mean','sum'],\n",
    "    'Saccade Amplitude': ['mean','max'],\n",
    "    'Saccade Peak Velocity': ['mean','max'],\n",
    "    'Saccade Peak Acceleration': ['mean'],\n",
    "    'Saccade Peak Deceleration': ['mean'],\n",
    "    'Saccade Direction': ['var']   # direction variance\n",
    "})"
   ]
  },
  {
   "cell_type": "code",
   "execution_count": null,
   "id": "e7d676a8",
   "metadata": {},
   "outputs": [],
   "source": [
    "sac_1_features.columns = ['sac_count','sac_mean_dur','sac_total_time',\n",
    "                        'sac_amp_mean','sac_amp_max',\n",
    "                        'sac_vel_mean','sac_vel_max',\n",
    "                        'sac_acc_mean','sac_dec_mean','sac_dir_var']"
   ]
  },
  {
   "cell_type": "code",
   "execution_count": null,
   "id": "8e69ac0f",
   "metadata": {},
   "outputs": [],
   "source": [
    "sac_1_features"
   ]
  },
  {
   "cell_type": "code",
   "execution_count": null,
   "id": "84ef2c66",
   "metadata": {},
   "outputs": [],
   "source": [
    "ivt_1_features = fix_1_feature.join(sac_1_features, how='outer').fillna(0)"
   ]
  },
  {
   "cell_type": "code",
   "execution_count": null,
   "id": "da3dfb94",
   "metadata": {},
   "outputs": [],
   "source": [
    "ivt_1_features"
   ]
  },
  {
   "cell_type": "code",
   "execution_count": null,
   "id": "46b569a4",
   "metadata": {},
   "outputs": [],
   "source": [
    "ivt_1_features['fix_sac_count_ratio'] = ivt_1_features['fix_count'] / (ivt_1_features['sac_count']+1e-5)\n",
    "ivt_1_features['fix_sac_time_ratio']  = ivt_1_features['fix_total_time'] / (ivt_1_features['sac_total_time']+1e-5)"
   ]
  },
  {
   "cell_type": "code",
   "execution_count": null,
   "id": "7733c3ba",
   "metadata": {},
   "outputs": [],
   "source": [
    "ivt_1_features"
   ]
  },
  {
   "cell_type": "code",
   "execution_count": null,
   "id": "4258a946",
   "metadata": {},
   "outputs": [],
   "source": []
  },
  {
   "cell_type": "markdown",
   "id": "c7c9b096",
   "metadata": {},
   "source": [
    "# Aggregation of Fixation and Saccade Features\n",
    "\n",
    "In the preceding code cells, we performed aggregation on the `fix_1_df` and `sac_1_df` DataFrames, which contain the cleaned fixation and saccade data, respectively. The goal of this aggregation was to create a summary of eye-tracking metrics for each `QuestionKey`.\n",
    "\n",
    "For fixations, we calculated:\n",
    "- Count of fixations (`fix_count`)\n",
    "- Mean, max, sum, and variance of fixation duration (`fix_mean_dur`, `fix_max_dur`, `fix_total_time`, `fix_dur_var`)\n",
    "- Mean and max of fixation dispersion (`fix_disp_mean`, `fix_disp_max`)\n",
    "- Variance of fixation X and Y coordinates (`fix_x_var`, `fix_y_var`) to represent screen spread.\n",
    "\n",
    "For saccades, we calculated:\n",
    "- Count of saccades (`sac_count`)\n",
    "- Mean and sum of saccade duration (`sac_mean_dur`, `sac_total_time`)\n",
    "- Mean and max of saccade amplitude (`sac_amp_mean`, `sac_amp_max`)\n",
    "- Mean and max of saccade peak velocity (`sac_vel_mean`, `sac_vel_max`)\n",
    "- Mean of saccade peak acceleration and deceleration (`sac_acc_mean`, `sac_dec_mean`)\n",
    "- Variance of saccade direction (`sac_dir_var`).\n",
    "\n",
    "Finally, we joined these aggregated fixation and saccade features into a single DataFrame called `ivt_1_features`, using `QuestionKey` as the index. We also filled any resulting missing values (from `QuestionKey` values that may only have fixations or saccades, but not both) with 0. This `ivt_1_features` DataFrame now provides a consolidated summary of key eye-tracking characteristics for each question, which can be used for further analysis or modeling."
   ]
  },
  {
   "cell_type": "markdown",
   "id": "49adc108",
   "metadata": {},
   "source": [
    "# **14_IVT**"
   ]
  },
  {
   "cell_type": "code",
   "execution_count": null,
   "id": "ea864f20",
   "metadata": {},
   "outputs": [],
   "source": [
    "df_14_IVT = pd.read_csv('data/STData/14/14_IVT.csv')"
   ]
  },
  {
   "cell_type": "code",
   "execution_count": null,
   "id": "fd69e0df",
   "metadata": {},
   "outputs": [],
   "source": [
    "df_14_IVT.head()"
   ]
  },
  {
   "cell_type": "code",
   "execution_count": null,
   "id": "d26dfda9",
   "metadata": {},
   "outputs": [],
   "source": [
    "df_14_IVT.columns"
   ]
  },
  {
   "cell_type": "code",
   "execution_count": null,
   "id": "9ad913f4",
   "metadata": {},
   "outputs": [],
   "source": [
    "df_14_IVT.shape"
   ]
  },
  {
   "cell_type": "code",
   "execution_count": null,
   "id": "3432d263",
   "metadata": {},
   "outputs": [],
   "source": [
    "df_14_IVT.info()"
   ]
  },
  {
   "cell_type": "code",
   "execution_count": null,
   "id": "5d0387ca",
   "metadata": {},
   "outputs": [],
   "source": [
    "df_14_IVT.isnull().sum()"
   ]
  },
  {
   "cell_type": "code",
   "execution_count": null,
   "id": "98cef8ed",
   "metadata": {},
   "outputs": [],
   "source": [
    "plt.figure(figsize=(14,10))\n",
    "sns.heatmap(df_14_IVT.isnull(), cmap='viridis')\n",
    "plt.show()"
   ]
  },
  {
   "cell_type": "markdown",
   "id": "b3d4a1b4",
   "metadata": {},
   "source": [
    "# Notes & Observations\n",
    "\n",
    "- We observe many **null** (or missing) values in the `QuestionKey` columns.\n",
    "- The nulls in the `QuestionKey` column may not represent “true” nulls. Rather, they follow interval patterns, suggesting that during those periods no question was displayed.\n",
    "- These missing values in `QuestionKey` require additional investigation and context-aware handling."
   ]
  },
  {
   "cell_type": "code",
   "execution_count": null,
   "id": "7d97edbf",
   "metadata": {},
   "outputs": [],
   "source": [
    "df_14_IVT['QuestionKey'].unique()"
   ]
  },
  {
   "cell_type": "code",
   "execution_count": null,
   "id": "48980364",
   "metadata": {},
   "outputs": [],
   "source": [
    "df_14_IVT['Timestamp'] = pd.to_datetime(df_14_IVT['Timestamp'])"
   ]
  },
  {
   "cell_type": "code",
   "execution_count": null,
   "id": "c25acdae",
   "metadata": {},
   "outputs": [],
   "source": [
    "df_14_IVT.head(3)"
   ]
  },
  {
   "cell_type": "code",
   "execution_count": null,
   "id": "231fa621",
   "metadata": {},
   "outputs": [],
   "source": [
    "df_14_IVT['QuestionKey'].fillna('None', inplace=True)"
   ]
  },
  {
   "cell_type": "code",
   "execution_count": null,
   "id": "8b877a45",
   "metadata": {},
   "outputs": [],
   "source": [
    "df_14_IVT['QuestionKey'].value_counts()"
   ]
  },
  {
   "cell_type": "code",
   "execution_count": null,
   "id": "81404a80",
   "metadata": {},
   "outputs": [],
   "source": [
    "plt.figure(figsize=(14,10))\n",
    "sns.heatmap(df_14_IVT.isnull(), cmap='viridis')\n",
    "plt.show()"
   ]
  },
  {
   "cell_type": "code",
   "execution_count": null,
   "id": "88402f85",
   "metadata": {},
   "outputs": [],
   "source": [
    "df_14_IVT.isnull().sum()"
   ]
  },
  {
   "cell_type": "code",
   "execution_count": null,
   "id": "96e8c6b4",
   "metadata": {},
   "outputs": [],
   "source": [
    "df_14_IVT.head()"
   ]
  },
  {
   "cell_type": "code",
   "execution_count": null,
   "id": "9ae339eb",
   "metadata": {},
   "outputs": [],
   "source": [
    "df_14_IVT['Row'].unique()"
   ]
  },
  {
   "cell_type": "code",
   "execution_count": null,
   "id": "50b96609",
   "metadata": {},
   "outputs": [],
   "source": [
    "plt.figure(figsize=(8,6))\n",
    "sns.histplot(df_14_IVT['Row'])\n",
    "plt.show()"
   ]
  },
  {
   "cell_type": "markdown",
   "id": "653da6dc",
   "metadata": {},
   "source": [
    "# Notes & Observations\n",
    "\n",
    "- The `Row` column appears to be a simple row index and does not provide meaningful information relevant to the eye-tracking data itself. Therefore, it can be dropped."
   ]
  },
  {
   "cell_type": "code",
   "execution_count": null,
   "id": "e06dc94b",
   "metadata": {},
   "outputs": [],
   "source": [
    "df_14_IVT.drop('Row', axis=1, inplace=True)"
   ]
  },
  {
   "cell_type": "code",
   "execution_count": null,
   "id": "768fee32",
   "metadata": {},
   "outputs": [],
   "source": [
    "fig, axes = plt.subplots(1, 2, figsize=(20, 10))\n",
    "\n",
    "sns.scatterplot(data=df_14_IVT, x='Gaze X', y='Gaze Y', ax=axes[0])\n",
    "axes[0].set_title('Gaze X vs Gaze Y')\n",
    "\n",
    "sns.scatterplot(data=df_14_IVT, x='Interpolated Gaze X', y='Interpolated Gaze Y', ax=axes[1])\n",
    "axes[1].set_title('Interpolated Gaze X vs Interpolated Gaze Y')\n",
    "\n",
    "plt.tight_layout()\n",
    "plt.show()"
   ]
  },
  {
   "cell_type": "markdown",
   "id": "adc9aed3",
   "metadata": {},
   "source": [
    "# Gaze and Interpolated Gaze Scatter Plots\n",
    "\n",
    "The scatter plots above visualize the relationship between the x and y coordinates of both the raw gaze data and the interpolated gaze data.\n",
    "\n",
    "- **Gaze X vs Gaze Y:** This plot shows the raw gaze coordinates. The scattered points indicate the locations on the screen where the participant was looking. The density of points in certain areas might suggest regions of interest.\n",
    "- **Interpolated Gaze X vs Interpolated Gaze Y:** This plot shows the interpolated gaze coordinates. Interpolation is often used to fill in gaps in the raw gaze data, providing a smoother representation of the gaze path. Comparing this plot to the raw gaze plot can show the effect of the interpolation process.\n",
    "\n",
    "Both plots can help in understanding the distribution of gaze points across the screen and identifying potential patterns or biases in eye movements."
   ]
  },
  {
   "cell_type": "code",
   "execution_count": null,
   "id": "3fa774fa",
   "metadata": {},
   "outputs": [],
   "source": [
    "df_14_IVT.describe()"
   ]
  },
  {
   "cell_type": "code",
   "execution_count": null,
   "id": "2034b66f",
   "metadata": {},
   "outputs": [],
   "source": [
    "df_14_IVT.head(3)"
   ]
  },
  {
   "cell_type": "code",
   "execution_count": null,
   "id": "7e487bc1",
   "metadata": {},
   "outputs": [],
   "source": [
    "df_14_IVT['Timestamp'] = pd.to_datetime(df_14_IVT['Timestamp'])"
   ]
  },
  {
   "cell_type": "code",
   "execution_count": null,
   "id": "4d424ccf",
   "metadata": {},
   "outputs": [],
   "source": [
    "df_14_IVT.columns"
   ]
  },
  {
   "cell_type": "code",
   "execution_count": null,
   "id": "a2d236a3",
   "metadata": {},
   "outputs": [],
   "source": [
    "cols = ['Gaze X', 'Gaze Y',\n",
    "       'Interpolated Gaze X', 'Interpolated Gaze Y', 'Interpolated Distance',\n",
    "       'Gaze Velocity', 'Gaze Acceleration', 'Fixation Index',\n",
    "       'Fixation Index by Stimulus', 'Fixation X', 'Fixation Y',\n",
    "       'Fixation Start', 'Fixation End', 'Fixation Duration',\n",
    "       'Fixation Dispersion', 'Saccade Index', 'Saccade Index by Stimulus',\n",
    "       'Saccade Start', 'Saccade End', 'Saccade Duration', 'Saccade Amplitude',\n",
    "       'Saccade Peak Velocity', 'Saccade Peak Acceleration',\n",
    "       'Saccade Peak Deceleration', 'Saccade Direction']"
   ]
  },
  {
   "cell_type": "code",
   "execution_count": null,
   "id": "4f2175a3",
   "metadata": {},
   "outputs": [],
   "source": [
    "from IPython.display import display, Markdown\n",
    "\n",
    "for col in cols:\n",
    "    # Add a markdown cell before each plot for better separation and labeling\n",
    "    display(Markdown(f'### {col} over Time'))\n",
    "    plt.figure(figsize=(16, 10))\n",
    "    sns.lineplot(x=df_14_IVT['Timestamp'], y=df_14_IVT[col])\n",
    "    plt.xlabel(\"Timestamp\") # Add x-axis label\n",
    "    plt.ylabel(col) # Add y-axis label\n",
    "    plt.show()"
   ]
  },
  {
   "cell_type": "code",
   "execution_count": null,
   "id": "aabb0f86",
   "metadata": {},
   "outputs": [],
   "source": [
    "df_14_IVT.head()"
   ]
  },
  {
   "cell_type": "code",
   "execution_count": null,
   "id": "7a6c4716",
   "metadata": {},
   "outputs": [],
   "source": [
    "plt.figure(figsize=(14,10))\n",
    "sns.heatmap(df_14_IVT[['Fixation Index', 'Fixation Index by Stimulus', 'Saccade Index', 'Saccade Index by Stimulus']].isnull(), cmap='viridis')\n",
    "plt.show()"
   ]
  },
  {
   "cell_type": "markdown",
   "id": "00563f77",
   "metadata": {},
   "source": [
    "# Observation\n",
    "\n",
    "The `Fixation Index`, `Fixation Index by Stimulus`, `Saccade Index` and `Saccade Index by Stimulus` columns are essentially just sequence numbers for identified events. While they indicate the order of fixations and saccades, they don't provide meaningful features for a machine learning model attempting to predict or classify eye movement patterns. Therefore, we will drop these columns as they are not useful for model building."
   ]
  },
  {
   "cell_type": "code",
   "execution_count": null,
   "id": "286c8565",
   "metadata": {},
   "outputs": [],
   "source": [
    "df_14_IVT.drop(['Fixation Index', 'Fixation Index by Stimulus', 'Saccade Index', 'Saccade Index by Stimulus'], axis=1, inplace=True)"
   ]
  },
  {
   "cell_type": "code",
   "execution_count": null,
   "id": "61c03bb1",
   "metadata": {},
   "outputs": [],
   "source": [
    "plt.figure(figsize=(14,10))\n",
    "sns.scatterplot(data=df_14_IVT, x='Fixation X', y='Fixation Y')\n",
    "plt.title('Fixation X vs Fixation Y')\n",
    "plt.show()"
   ]
  },
  {
   "cell_type": "code",
   "execution_count": null,
   "id": "4f9d1918",
   "metadata": {},
   "outputs": [],
   "source": [
    "df_14_IVT['Fixation Start'].describe()"
   ]
  },
  {
   "cell_type": "code",
   "execution_count": null,
   "id": "6066169a",
   "metadata": {},
   "outputs": [],
   "source": [
    "fig, axes = plt.subplots(1, 2, figsize=(20, 8))\n",
    "\n",
    "sns.histplot(df_14_IVT['Fixation Start'], bins=100, kde=True, ax=axes[0])\n",
    "axes[0].set_xlabel('Fixation Start')\n",
    "axes[0].set_ylabel('Frequency')\n",
    "axes[0].set_title('Distribution of Fixation Start')\n",
    "\n",
    "sns.histplot(df_14_IVT['Fixation End'], bins=100, kde=True, ax=axes[1])\n",
    "axes[1].set_xlabel('Fixation End')\n",
    "axes[1].set_ylabel('Frequency')\n",
    "axes[1].set_title('Distribution of Fixation End')\n",
    "\n",
    "plt.tight_layout()\n",
    "plt.show()"
   ]
  },
  {
   "cell_type": "code",
   "execution_count": null,
   "id": "e4a5c5a3",
   "metadata": {},
   "outputs": [],
   "source": [
    "fig, axes = plt.subplots(1, 2, figsize=(20, 8))\n",
    "\n",
    "sns.histplot(df_14_IVT['Saccade Start'], bins=100, kde=True, ax=axes[0])\n",
    "axes[0].set_xlabel('Saccade Start')\n",
    "axes[0].set_ylabel('Frequency')\n",
    "axes[0].set_title('Distribution of Saccade Start')\n",
    "\n",
    "sns.histplot(df_14_IVT['Saccade End'], bins=100, kde=True, ax=axes[1])\n",
    "axes[1].set_xlabel('Saccade End')\n",
    "axes[1].set_ylabel('Frequency')\n",
    "axes[1].set_title('Distribution of Saccade End')\n",
    "\n",
    "plt.tight_layout()\n",
    "plt.show()"
   ]
  },
  {
   "cell_type": "markdown",
   "id": "bb78ad9a",
   "metadata": {},
   "source": [
    "# Observation on Fixation and Saccade Timestamps\n",
    "\n",
    "Upon examining the time series plots of 'Fixation Start', 'Fixation End', `Saccade Start`, and `Saccade End` against the `Timestamp`, we observe a clear linear, diagonal pattern. This indicates that these values are largely sequential and directly related to the progress of time in the data recording.\n",
    "\n",
    "Furthermore, the histograms of these features show distributions that, while informative about the timing of events, don't necessarily reveal complex patterns that would be highly predictive for a machine learning model.\n",
    "\n",
    "Crucially, the dataset already contains `Fixation Duration` and `Saccade Duration` columns. These duration features capture the length of each event, which is often a more directly relevant metric for understanding eye movement behavior than the absolute start and end times. Since the duration can be derived from the start and end times (Duration = End - Start), the start and end time columns introduce redundancy and do not provide substantial additional, independent information for modeling purposes.\n",
    "\n",
    "Therefore, to simplify the dataset and focus on the most informative features for potential machine movement analysis or modeling, we will drop the `Fixation Start`, `Fixation End`, `Saccade Start`, and `Saccade End` columns."
   ]
  },
  {
   "cell_type": "code",
   "execution_count": null,
   "id": "fab446f8",
   "metadata": {},
   "outputs": [],
   "source": [
    "df_14_IVT.drop(['Fixation Start', 'Fixation End', 'Saccade Start', 'Saccade End'], axis=1, inplace=True)"
   ]
  },
  {
   "cell_type": "code",
   "execution_count": null,
   "id": "25667881",
   "metadata": {},
   "outputs": [],
   "source": [
    "df_14_IVT.head()"
   ]
  },
  {
   "cell_type": "code",
   "execution_count": null,
   "id": "82bf18a4",
   "metadata": {},
   "outputs": [],
   "source": [
    "plt.figure(figsize=(12, 8))\n",
    "sns.heatmap(df_14_IVT[['Gaze X', 'Gaze Y', 'Interpolated Gaze X', 'Interpolated Gaze Y']].isnull(), cmap='viridis')\n",
    "plt.show()\n"
   ]
  },
  {
   "cell_type": "code",
   "execution_count": null,
   "id": "c8d3e3f9",
   "metadata": {},
   "outputs": [],
   "source": []
  },
  {
   "cell_type": "markdown",
   "id": "97a045f1",
   "metadata": {},
   "source": [
    "# Observations on Gaze and Interpolated Gaze Data\n",
    "\n",
    "Based on the scatter plots of 'Gaze X' vs 'Gaze Y' and 'Interpolated Gaze X' vs 'Interpolated Gaze Y', we observe that the distributions of the raw and interpolated gaze points appear very similar. The spatial patterns of where the participant was looking are consistent between the two sets of coordinates.\n",
    "\n",
    "Furthermore, the heatmap of null values for these columns ('Gaze X', 'Gaze Y', 'Interpolated Gaze X', 'Interpolated Gaze Y') reveals that the missing values are present in the same rows for both the raw and interpolated gaze coordinates. This suggests that the interpolation process did not fill in the gaps in the raw gaze data for these specific instances.\n",
    "\n",
    "Given that the interpolated gaze data shows the same spatial distribution and the same pattern of null values as the raw gaze data, it appears that the interpolation did not significantly alter or complete the data in this case. Therefore, keeping both the raw and interpolated gaze columns might be redundant, and one set could potentially be dropped to simplify the dataset without losing significant information."
   ]
  },
  {
   "cell_type": "code",
   "execution_count": null,
   "id": "e15d3b5a",
   "metadata": {},
   "outputs": [],
   "source": [
    "df_14_IVT.drop(['Interpolated Gaze X', 'Interpolated Gaze Y'], axis=1, inplace=True)"
   ]
  },
  {
   "cell_type": "code",
   "execution_count": null,
   "id": "364ce561",
   "metadata": {},
   "outputs": [],
   "source": [
    "df_14_IVT.head()"
   ]
  },
  {
   "cell_type": "code",
   "execution_count": null,
   "id": "afc2e109",
   "metadata": {},
   "outputs": [],
   "source": [
    "plt.figure(figsize=(12, 8))\n",
    "sns.heatmap(df_14_IVT.isnull(), cmap='viridis')\n",
    "plt.show()"
   ]
  },
  {
   "cell_type": "code",
   "execution_count": null,
   "id": "3799a9f4",
   "metadata": {},
   "outputs": [],
   "source": [
    "df_14_IVT.columns"
   ]
  },
  {
   "cell_type": "code",
   "execution_count": null,
   "id": "a58a04d8",
   "metadata": {},
   "outputs": [],
   "source": [
    "fix_1_df = df_14_IVT.dropna(subset=['Fixation Duration'])\n",
    "sac_1_df = df_14_IVT.dropna(subset=['Saccade Duration'])"
   ]
  },
  {
   "cell_type": "code",
   "execution_count": null,
   "id": "f4f69109",
   "metadata": {},
   "outputs": [],
   "source": [
    "fix_1_df.shape"
   ]
  },
  {
   "cell_type": "code",
   "execution_count": null,
   "id": "d0e3ee9c",
   "metadata": {},
   "outputs": [],
   "source": [
    "sac_1_df.shape"
   ]
  },
  {
   "cell_type": "code",
   "execution_count": null,
   "id": "9d43708e",
   "metadata": {},
   "outputs": [],
   "source": [
    "fix_1_feature = fix_1_df.groupby('QuestionKey').agg({\n",
    "    'Fixation Duration': ['count','mean','max','sum','var'],\n",
    "    'Fixation Dispersion': ['mean','max'],\n",
    "    'Fixation X': ['var'],   # screen spread X\n",
    "    'Fixation Y': ['var']    # screen spread Y\n",
    "})"
   ]
  },
  {
   "cell_type": "code",
   "execution_count": null,
   "id": "22846f6e",
   "metadata": {},
   "outputs": [],
   "source": [
    "fix_1_feature.columns = ['fix_count','fix_mean_dur','fix_max_dur','fix_total_time',\n",
    "                        'fix_dur_var','fix_disp_mean','fix_disp_max',\n",
    "                        'fix_x_var','fix_y_var']"
   ]
  },
  {
   "cell_type": "code",
   "execution_count": null,
   "id": "02b1643e",
   "metadata": {},
   "outputs": [],
   "source": [
    "fix_1_feature"
   ]
  },
  {
   "cell_type": "code",
   "execution_count": null,
   "id": "c1badb52",
   "metadata": {},
   "outputs": [],
   "source": [
    "sac_1_features = sac_1_df.groupby('QuestionKey').agg({\n",
    "    'Saccade Duration': ['count','mean','sum'],\n",
    "    'Saccade Amplitude': ['mean','max'],\n",
    "    'Saccade Peak Velocity': ['mean','max'],\n",
    "    'Saccade Peak Acceleration': ['mean'],\n",
    "    'Saccade Peak Deceleration': ['mean'],\n",
    "    'Saccade Direction': ['var']   # direction variance\n",
    "})"
   ]
  },
  {
   "cell_type": "code",
   "execution_count": null,
   "id": "a784d60f",
   "metadata": {},
   "outputs": [],
   "source": [
    "sac_1_features.columns = ['sac_count','sac_mean_dur','sac_total_time',\n",
    "                        'sac_amp_mean','sac_amp_max',\n",
    "                        'sac_vel_mean','sac_vel_max',\n",
    "                        'sac_acc_mean','sac_dec_mean','sac_dir_var']"
   ]
  },
  {
   "cell_type": "code",
   "execution_count": null,
   "id": "66d0e55f",
   "metadata": {},
   "outputs": [],
   "source": [
    "sac_1_features"
   ]
  },
  {
   "cell_type": "code",
   "execution_count": null,
   "id": "34ec2016",
   "metadata": {},
   "outputs": [],
   "source": [
    "ivt_1_features = fix_1_feature.join(sac_1_features, how='outer').fillna(0)"
   ]
  },
  {
   "cell_type": "code",
   "execution_count": null,
   "id": "336a0672",
   "metadata": {},
   "outputs": [],
   "source": [
    "ivt_1_features"
   ]
  },
  {
   "cell_type": "code",
   "execution_count": null,
   "id": "06ab0156",
   "metadata": {},
   "outputs": [],
   "source": [
    "ivt_1_features['fix_sac_count_ratio'] = ivt_1_features['fix_count'] / (ivt_1_features['sac_count']+1e-5)\n",
    "ivt_1_features['fix_sac_time_ratio']  = ivt_1_features['fix_total_time'] / (ivt_1_features['sac_total_time']+1e-5)"
   ]
  },
  {
   "cell_type": "code",
   "execution_count": null,
   "id": "9342b70d",
   "metadata": {},
   "outputs": [],
   "source": [
    "ivt_1_features"
   ]
  },
  {
   "cell_type": "code",
   "execution_count": null,
   "id": "c7f66f06",
   "metadata": {},
   "outputs": [],
   "source": []
  },
  {
   "cell_type": "markdown",
   "id": "2e826bcc",
   "metadata": {},
   "source": [
    "# Aggregation of Fixation and Saccade Features\n",
    "\n",
    "In the preceding code cells, we performed aggregation on the `fix_1_df` and `sac_1_df` DataFrames, which contain the cleaned fixation and saccade data, respectively. The goal of this aggregation was to create a summary of eye-tracking metrics for each `QuestionKey`.\n",
    "\n",
    "For fixations, we calculated:\n",
    "- Count of fixations (`fix_count`)\n",
    "- Mean, max, sum, and variance of fixation duration (`fix_mean_dur`, `fix_max_dur`, `fix_total_time`, `fix_dur_var`)\n",
    "- Mean and max of fixation dispersion (`fix_disp_mean`, `fix_disp_max`)\n",
    "- Variance of fixation X and Y coordinates (`fix_x_var`, `fix_y_var`) to represent screen spread.\n",
    "\n",
    "For saccades, we calculated:\n",
    "- Count of saccades (`sac_count`)\n",
    "- Mean and sum of saccade duration (`sac_mean_dur`, `sac_total_time`)\n",
    "- Mean and max of saccade amplitude (`sac_amp_mean`, `sac_amp_max`)\n",
    "- Mean and max of saccade peak velocity (`sac_vel_mean`, `sac_vel_max`)\n",
    "- Mean of saccade peak acceleration and deceleration (`sac_acc_mean`, `sac_dec_mean`)\n",
    "- Variance of saccade direction (`sac_dir_var`).\n",
    "\n",
    "Finally, we joined these aggregated fixation and saccade features into a single DataFrame called `ivt_1_features`, using `QuestionKey` as the index. We also filled any resulting missing values (from `QuestionKey` values that may only have fixations or saccades, but not both) with 0. This `ivt_1_features` DataFrame now provides a consolidated summary of key eye-tracking characteristics for each question, which can be used for further analysis or modeling."
   ]
  },
  {
   "cell_type": "markdown",
   "id": "ca13c460",
   "metadata": {},
   "source": [
    "# **15_IVT**"
   ]
  },
  {
   "cell_type": "code",
   "execution_count": null,
   "id": "3950c8aa",
   "metadata": {},
   "outputs": [],
   "source": [
    "df_15_IVT = pd.read_csv('data/STData/15/15_IVT.csv')"
   ]
  },
  {
   "cell_type": "code",
   "execution_count": null,
   "id": "91ca02bc",
   "metadata": {},
   "outputs": [],
   "source": [
    "df_15_IVT.head()"
   ]
  },
  {
   "cell_type": "code",
   "execution_count": null,
   "id": "ad3d3a75",
   "metadata": {},
   "outputs": [],
   "source": [
    "df_15_IVT.columns"
   ]
  },
  {
   "cell_type": "code",
   "execution_count": null,
   "id": "3af3402c",
   "metadata": {},
   "outputs": [],
   "source": [
    "df_15_IVT.shape"
   ]
  },
  {
   "cell_type": "code",
   "execution_count": null,
   "id": "87f279b6",
   "metadata": {},
   "outputs": [],
   "source": [
    "df_15_IVT.info()"
   ]
  },
  {
   "cell_type": "code",
   "execution_count": null,
   "id": "31d26141",
   "metadata": {},
   "outputs": [],
   "source": [
    "df_15_IVT.isnull().sum()"
   ]
  },
  {
   "cell_type": "code",
   "execution_count": null,
   "id": "97340532",
   "metadata": {},
   "outputs": [],
   "source": [
    "plt.figure(figsize=(14,10))\n",
    "sns.heatmap(df_15_IVT.isnull(), cmap='viridis')\n",
    "plt.show()"
   ]
  },
  {
   "cell_type": "markdown",
   "id": "12c1cd3a",
   "metadata": {},
   "source": [
    "# Notes & Observations\n",
    "\n",
    "- We observe many **null** (or missing) values in the `QuestionKey` columns.\n",
    "- The nulls in the `QuestionKey` column may not represent “true” nulls. Rather, they follow interval patterns, suggesting that during those periods no question was displayed.\n",
    "- These missing values in `QuestionKey` require additional investigation and context-aware handling."
   ]
  },
  {
   "cell_type": "code",
   "execution_count": null,
   "id": "d14eaf48",
   "metadata": {},
   "outputs": [],
   "source": [
    "df_15_IVT['QuestionKey'].unique()"
   ]
  },
  {
   "cell_type": "code",
   "execution_count": null,
   "id": "ba15f642",
   "metadata": {},
   "outputs": [],
   "source": [
    "df_15_IVT['Timestamp'] = pd.to_datetime(df_15_IVT['Timestamp'])"
   ]
  },
  {
   "cell_type": "code",
   "execution_count": null,
   "id": "08041d1c",
   "metadata": {},
   "outputs": [],
   "source": [
    "df_15_IVT.head(3)"
   ]
  },
  {
   "cell_type": "code",
   "execution_count": null,
   "id": "bffc1b93",
   "metadata": {},
   "outputs": [],
   "source": [
    "df_15_IVT['QuestionKey'].fillna('None', inplace=True)"
   ]
  },
  {
   "cell_type": "code",
   "execution_count": null,
   "id": "efce7e9a",
   "metadata": {},
   "outputs": [],
   "source": [
    "df_15_IVT['QuestionKey'].value_counts()"
   ]
  },
  {
   "cell_type": "code",
   "execution_count": null,
   "id": "f02e33b7",
   "metadata": {},
   "outputs": [],
   "source": [
    "plt.figure(figsize=(14,10))\n",
    "sns.heatmap(df_15_IVT.isnull(), cmap='viridis')\n",
    "plt.show()"
   ]
  },
  {
   "cell_type": "code",
   "execution_count": null,
   "id": "25ec52fa",
   "metadata": {},
   "outputs": [],
   "source": [
    "df_15_IVT.isnull().sum()"
   ]
  },
  {
   "cell_type": "code",
   "execution_count": null,
   "id": "7860496a",
   "metadata": {},
   "outputs": [],
   "source": [
    "df_15_IVT.head()"
   ]
  },
  {
   "cell_type": "code",
   "execution_count": null,
   "id": "d65240d2",
   "metadata": {},
   "outputs": [],
   "source": [
    "df_15_IVT['Row'].unique()"
   ]
  },
  {
   "cell_type": "code",
   "execution_count": null,
   "id": "2fbac05f",
   "metadata": {},
   "outputs": [],
   "source": [
    "plt.figure(figsize=(8,6))\n",
    "sns.histplot(df_15_IVT['Row'])\n",
    "plt.show()"
   ]
  },
  {
   "cell_type": "markdown",
   "id": "09056e36",
   "metadata": {},
   "source": [
    "# Notes & Observations\n",
    "\n",
    "- The `Row` column appears to be a simple row index and does not provide meaningful information relevant to the eye-tracking data itself. Therefore, it can be dropped."
   ]
  },
  {
   "cell_type": "code",
   "execution_count": null,
   "id": "fa9d3682",
   "metadata": {},
   "outputs": [],
   "source": [
    "df_15_IVT.drop('Row', axis=1, inplace=True)"
   ]
  },
  {
   "cell_type": "code",
   "execution_count": null,
   "id": "876e9422",
   "metadata": {},
   "outputs": [],
   "source": [
    "fig, axes = plt.subplots(1, 2, figsize=(20, 10))\n",
    "\n",
    "sns.scatterplot(data=df_15_IVT, x='Gaze X', y='Gaze Y', ax=axes[0])\n",
    "axes[0].set_title('Gaze X vs Gaze Y')\n",
    "\n",
    "sns.scatterplot(data=df_15_IVT, x='Interpolated Gaze X', y='Interpolated Gaze Y', ax=axes[1])\n",
    "axes[1].set_title('Interpolated Gaze X vs Interpolated Gaze Y')\n",
    "\n",
    "plt.tight_layout()\n",
    "plt.show()"
   ]
  },
  {
   "cell_type": "markdown",
   "id": "29f4aca9",
   "metadata": {},
   "source": [
    "# Gaze and Interpolated Gaze Scatter Plots\n",
    "\n",
    "The scatter plots above visualize the relationship between the x and y coordinates of both the raw gaze data and the interpolated gaze data.\n",
    "\n",
    "- **Gaze X vs Gaze Y:** This plot shows the raw gaze coordinates. The scattered points indicate the locations on the screen where the participant was looking. The density of points in certain areas might suggest regions of interest.\n",
    "- **Interpolated Gaze X vs Interpolated Gaze Y:** This plot shows the interpolated gaze coordinates. Interpolation is often used to fill in gaps in the raw gaze data, providing a smoother representation of the gaze path. Comparing this plot to the raw gaze plot can show the effect of the interpolation process.\n",
    "\n",
    "Both plots can help in understanding the distribution of gaze points across the screen and identifying potential patterns or biases in eye movements."
   ]
  },
  {
   "cell_type": "code",
   "execution_count": null,
   "id": "178f9a4d",
   "metadata": {},
   "outputs": [],
   "source": [
    "df_15_IVT.describe()"
   ]
  },
  {
   "cell_type": "code",
   "execution_count": null,
   "id": "400fbba5",
   "metadata": {},
   "outputs": [],
   "source": [
    "df_15_IVT.head(3)"
   ]
  },
  {
   "cell_type": "code",
   "execution_count": null,
   "id": "7f28d201",
   "metadata": {},
   "outputs": [],
   "source": [
    "df_15_IVT['Timestamp'] = pd.to_datetime(df_15_IVT['Timestamp'])"
   ]
  },
  {
   "cell_type": "code",
   "execution_count": null,
   "id": "25a8ec4c",
   "metadata": {},
   "outputs": [],
   "source": [
    "df_15_IVT.columns"
   ]
  },
  {
   "cell_type": "code",
   "execution_count": null,
   "id": "415f08fe",
   "metadata": {},
   "outputs": [],
   "source": [
    "cols = ['Gaze X', 'Gaze Y',\n",
    "       'Interpolated Gaze X', 'Interpolated Gaze Y', 'Interpolated Distance',\n",
    "       'Gaze Velocity', 'Gaze Acceleration', 'Fixation Index',\n",
    "       'Fixation Index by Stimulus', 'Fixation X', 'Fixation Y',\n",
    "       'Fixation Start', 'Fixation End', 'Fixation Duration',\n",
    "       'Fixation Dispersion', 'Saccade Index', 'Saccade Index by Stimulus',\n",
    "       'Saccade Start', 'Saccade End', 'Saccade Duration', 'Saccade Amplitude',\n",
    "       'Saccade Peak Velocity', 'Saccade Peak Acceleration',\n",
    "       'Saccade Peak Deceleration', 'Saccade Direction']"
   ]
  },
  {
   "cell_type": "code",
   "execution_count": null,
   "id": "bbf93dec",
   "metadata": {},
   "outputs": [],
   "source": [
    "from IPython.display import display, Markdown\n",
    "\n",
    "for col in cols:\n",
    "    # Add a markdown cell before each plot for better separation and labeling\n",
    "    display(Markdown(f'### {col} over Time'))\n",
    "    plt.figure(figsize=(16, 10))\n",
    "    sns.lineplot(x=df_15_IVT['Timestamp'], y=df_15_IVT[col])\n",
    "    plt.xlabel(\"Timestamp\") # Add x-axis label\n",
    "    plt.ylabel(col) # Add y-axis label\n",
    "    plt.show()"
   ]
  },
  {
   "cell_type": "code",
   "execution_count": null,
   "id": "178a00a9",
   "metadata": {},
   "outputs": [],
   "source": [
    "df_15_IVT.head()"
   ]
  },
  {
   "cell_type": "code",
   "execution_count": null,
   "id": "6223b40d",
   "metadata": {},
   "outputs": [],
   "source": [
    "plt.figure(figsize=(14,10))\n",
    "sns.heatmap(df_15_IVT[['Fixation Index', 'Fixation Index by Stimulus', 'Saccade Index', 'Saccade Index by Stimulus']].isnull(), cmap='viridis')\n",
    "plt.show()"
   ]
  },
  {
   "cell_type": "markdown",
   "id": "68e0339b",
   "metadata": {},
   "source": [
    "# Observation\n",
    "\n",
    "The `Fixation Index`, `Fixation Index by Stimulus`, `Saccade Index` and `Saccade Index by Stimulus` columns are essentially just sequence numbers for identified events. While they indicate the order of fixations and saccades, they don't provide meaningful features for a machine learning model attempting to predict or classify eye movement patterns. Therefore, we will drop these columns as they are not useful for model building."
   ]
  },
  {
   "cell_type": "code",
   "execution_count": null,
   "id": "4d77232e",
   "metadata": {},
   "outputs": [],
   "source": [
    "df_15_IVT.drop(['Fixation Index', 'Fixation Index by Stimulus', 'Saccade Index', 'Saccade Index by Stimulus'], axis=1, inplace=True)"
   ]
  },
  {
   "cell_type": "code",
   "execution_count": null,
   "id": "d940c387",
   "metadata": {},
   "outputs": [],
   "source": [
    "plt.figure(figsize=(14,10))\n",
    "sns.scatterplot(data=df_15_IVT, x='Fixation X', y='Fixation Y')\n",
    "plt.title('Fixation X vs Fixation Y')\n",
    "plt.show()"
   ]
  },
  {
   "cell_type": "code",
   "execution_count": null,
   "id": "8ab47f49",
   "metadata": {},
   "outputs": [],
   "source": [
    "df_15_IVT['Fixation Start'].describe()"
   ]
  },
  {
   "cell_type": "code",
   "execution_count": null,
   "id": "d6a35ad8",
   "metadata": {},
   "outputs": [],
   "source": [
    "fig, axes = plt.subplots(1, 2, figsize=(20, 8))\n",
    "\n",
    "sns.histplot(df_15_IVT['Fixation Start'], bins=100, kde=True, ax=axes[0])\n",
    "axes[0].set_xlabel('Fixation Start')\n",
    "axes[0].set_ylabel('Frequency')\n",
    "axes[0].set_title('Distribution of Fixation Start')\n",
    "\n",
    "sns.histplot(df_15_IVT['Fixation End'], bins=100, kde=True, ax=axes[1])\n",
    "axes[1].set_xlabel('Fixation End')\n",
    "axes[1].set_ylabel('Frequency')\n",
    "axes[1].set_title('Distribution of Fixation End')\n",
    "\n",
    "plt.tight_layout()\n",
    "plt.show()"
   ]
  },
  {
   "cell_type": "code",
   "execution_count": null,
   "id": "38689fac",
   "metadata": {},
   "outputs": [],
   "source": [
    "fig, axes = plt.subplots(1, 2, figsize=(20, 8))\n",
    "\n",
    "sns.histplot(df_15_IVT['Saccade Start'], bins=100, kde=True, ax=axes[0])\n",
    "axes[0].set_xlabel('Saccade Start')\n",
    "axes[0].set_ylabel('Frequency')\n",
    "axes[0].set_title('Distribution of Saccade Start')\n",
    "\n",
    "sns.histplot(df_15_IVT['Saccade End'], bins=100, kde=True, ax=axes[1])\n",
    "axes[1].set_xlabel('Saccade End')\n",
    "axes[1].set_ylabel('Frequency')\n",
    "axes[1].set_title('Distribution of Saccade End')\n",
    "\n",
    "plt.tight_layout()\n",
    "plt.show()"
   ]
  },
  {
   "cell_type": "markdown",
   "id": "24c4e391",
   "metadata": {},
   "source": [
    "# Observation on Fixation and Saccade Timestamps\n",
    "\n",
    "Upon examining the time series plots of 'Fixation Start', 'Fixation End', `Saccade Start`, and `Saccade End` against the `Timestamp`, we observe a clear linear, diagonal pattern. This indicates that these values are largely sequential and directly related to the progress of time in the data recording.\n",
    "\n",
    "Furthermore, the histograms of these features show distributions that, while informative about the timing of events, don't necessarily reveal complex patterns that would be highly predictive for a machine learning model.\n",
    "\n",
    "Crucially, the dataset already contains `Fixation Duration` and `Saccade Duration` columns. These duration features capture the length of each event, which is often a more directly relevant metric for understanding eye movement behavior than the absolute start and end times. Since the duration can be derived from the start and end times (Duration = End - Start), the start and end time columns introduce redundancy and do not provide substantial additional, independent information for modeling purposes.\n",
    "\n",
    "Therefore, to simplify the dataset and focus on the most informative features for potential machine movement analysis or modeling, we will drop the `Fixation Start`, `Fixation End`, `Saccade Start`, and `Saccade End` columns."
   ]
  },
  {
   "cell_type": "code",
   "execution_count": null,
   "id": "98dc1da1",
   "metadata": {},
   "outputs": [],
   "source": [
    "df_15_IVT.drop(['Fixation Start', 'Fixation End', 'Saccade Start', 'Saccade End'], axis=1, inplace=True)"
   ]
  },
  {
   "cell_type": "code",
   "execution_count": null,
   "id": "52b15b58",
   "metadata": {},
   "outputs": [],
   "source": [
    "df_15_IVT.head()"
   ]
  },
  {
   "cell_type": "code",
   "execution_count": null,
   "id": "0880e201",
   "metadata": {},
   "outputs": [],
   "source": [
    "plt.figure(figsize=(12, 8))\n",
    "sns.heatmap(df_15_IVT[['Gaze X', 'Gaze Y', 'Interpolated Gaze X', 'Interpolated Gaze Y']].isnull(), cmap='viridis')\n",
    "plt.show()\n"
   ]
  },
  {
   "cell_type": "code",
   "execution_count": null,
   "id": "b2935459",
   "metadata": {},
   "outputs": [],
   "source": []
  },
  {
   "cell_type": "markdown",
   "id": "4f87afb3",
   "metadata": {},
   "source": [
    "# Observations on Gaze and Interpolated Gaze Data\n",
    "\n",
    "Based on the scatter plots of 'Gaze X' vs 'Gaze Y' and 'Interpolated Gaze X' vs 'Interpolated Gaze Y', we observe that the distributions of the raw and interpolated gaze points appear very similar. The spatial patterns of where the participant was looking are consistent between the two sets of coordinates.\n",
    "\n",
    "Furthermore, the heatmap of null values for these columns ('Gaze X', 'Gaze Y', 'Interpolated Gaze X', 'Interpolated Gaze Y') reveals that the missing values are present in the same rows for both the raw and interpolated gaze coordinates. This suggests that the interpolation process did not fill in the gaps in the raw gaze data for these specific instances.\n",
    "\n",
    "Given that the interpolated gaze data shows the same spatial distribution and the same pattern of null values as the raw gaze data, it appears that the interpolation did not significantly alter or complete the data in this case. Therefore, keeping both the raw and interpolated gaze columns might be redundant, and one set could potentially be dropped to simplify the dataset without losing significant information."
   ]
  },
  {
   "cell_type": "code",
   "execution_count": null,
   "id": "10562473",
   "metadata": {},
   "outputs": [],
   "source": [
    "df_15_IVT.drop(['Interpolated Gaze X', 'Interpolated Gaze Y'], axis=1, inplace=True)"
   ]
  },
  {
   "cell_type": "code",
   "execution_count": null,
   "id": "148107f9",
   "metadata": {},
   "outputs": [],
   "source": [
    "df_15_IVT.head()"
   ]
  },
  {
   "cell_type": "code",
   "execution_count": null,
   "id": "07ef175c",
   "metadata": {},
   "outputs": [],
   "source": [
    "plt.figure(figsize=(12, 8))\n",
    "sns.heatmap(df_15_IVT.isnull(), cmap='viridis')\n",
    "plt.show()"
   ]
  },
  {
   "cell_type": "code",
   "execution_count": null,
   "id": "36dcf391",
   "metadata": {},
   "outputs": [],
   "source": [
    "df_15_IVT.columns"
   ]
  },
  {
   "cell_type": "code",
   "execution_count": null,
   "id": "2ccf5209",
   "metadata": {},
   "outputs": [],
   "source": [
    "fix_1_df = df_15_IVT.dropna(subset=['Fixation Duration'])\n",
    "sac_1_df = df_15_IVT.dropna(subset=['Saccade Duration'])"
   ]
  },
  {
   "cell_type": "code",
   "execution_count": null,
   "id": "1177472a",
   "metadata": {},
   "outputs": [],
   "source": [
    "fix_1_df.shape"
   ]
  },
  {
   "cell_type": "code",
   "execution_count": null,
   "id": "cd2533da",
   "metadata": {},
   "outputs": [],
   "source": [
    "sac_1_df.shape"
   ]
  },
  {
   "cell_type": "code",
   "execution_count": null,
   "id": "4343a7b7",
   "metadata": {},
   "outputs": [],
   "source": [
    "fix_1_feature = fix_1_df.groupby('QuestionKey').agg({\n",
    "    'Fixation Duration': ['count','mean','max','sum','var'],\n",
    "    'Fixation Dispersion': ['mean','max'],\n",
    "    'Fixation X': ['var'],   # screen spread X\n",
    "    'Fixation Y': ['var']    # screen spread Y\n",
    "})"
   ]
  },
  {
   "cell_type": "code",
   "execution_count": null,
   "id": "0a7c3530",
   "metadata": {},
   "outputs": [],
   "source": [
    "fix_1_feature.columns = ['fix_count','fix_mean_dur','fix_max_dur','fix_total_time',\n",
    "                        'fix_dur_var','fix_disp_mean','fix_disp_max',\n",
    "                        'fix_x_var','fix_y_var']"
   ]
  },
  {
   "cell_type": "code",
   "execution_count": null,
   "id": "fc5d5c45",
   "metadata": {},
   "outputs": [],
   "source": [
    "fix_1_feature"
   ]
  },
  {
   "cell_type": "code",
   "execution_count": null,
   "id": "1861857d",
   "metadata": {},
   "outputs": [],
   "source": [
    "sac_1_features = sac_1_df.groupby('QuestionKey').agg({\n",
    "    'Saccade Duration': ['count','mean','sum'],\n",
    "    'Saccade Amplitude': ['mean','max'],\n",
    "    'Saccade Peak Velocity': ['mean','max'],\n",
    "    'Saccade Peak Acceleration': ['mean'],\n",
    "    'Saccade Peak Deceleration': ['mean'],\n",
    "    'Saccade Direction': ['var']   # direction variance\n",
    "})"
   ]
  },
  {
   "cell_type": "code",
   "execution_count": null,
   "id": "ea25721b",
   "metadata": {},
   "outputs": [],
   "source": [
    "sac_1_features.columns = ['sac_count','sac_mean_dur','sac_total_time',\n",
    "                        'sac_amp_mean','sac_amp_max',\n",
    "                        'sac_vel_mean','sac_vel_max',\n",
    "                        'sac_acc_mean','sac_dec_mean','sac_dir_var']"
   ]
  },
  {
   "cell_type": "code",
   "execution_count": null,
   "id": "10c12aa5",
   "metadata": {},
   "outputs": [],
   "source": [
    "sac_1_features"
   ]
  },
  {
   "cell_type": "code",
   "execution_count": null,
   "id": "61b92980",
   "metadata": {},
   "outputs": [],
   "source": [
    "ivt_1_features = fix_1_feature.join(sac_1_features, how='outer').fillna(0)"
   ]
  },
  {
   "cell_type": "code",
   "execution_count": null,
   "id": "ab252a27",
   "metadata": {},
   "outputs": [],
   "source": [
    "ivt_1_features"
   ]
  },
  {
   "cell_type": "code",
   "execution_count": null,
   "id": "4dd446b5",
   "metadata": {},
   "outputs": [],
   "source": [
    "ivt_1_features['fix_sac_count_ratio'] = ivt_1_features['fix_count'] / (ivt_1_features['sac_count']+1e-5)\n",
    "ivt_1_features['fix_sac_time_ratio']  = ivt_1_features['fix_total_time'] / (ivt_1_features['sac_total_time']+1e-5)"
   ]
  },
  {
   "cell_type": "code",
   "execution_count": null,
   "id": "a01c7d91",
   "metadata": {},
   "outputs": [],
   "source": [
    "ivt_1_features"
   ]
  },
  {
   "cell_type": "code",
   "execution_count": null,
   "id": "2127a50b",
   "metadata": {},
   "outputs": [],
   "source": []
  },
  {
   "cell_type": "markdown",
   "id": "c3c4b7b5",
   "metadata": {},
   "source": [
    "# Aggregation of Fixation and Saccade Features\n",
    "\n",
    "In the preceding code cells, we performed aggregation on the `fix_1_df` and `sac_1_df` DataFrames, which contain the cleaned fixation and saccade data, respectively. The goal of this aggregation was to create a summary of eye-tracking metrics for each `QuestionKey`.\n",
    "\n",
    "For fixations, we calculated:\n",
    "- Count of fixations (`fix_count`)\n",
    "- Mean, max, sum, and variance of fixation duration (`fix_mean_dur`, `fix_max_dur`, `fix_total_time`, `fix_dur_var`)\n",
    "- Mean and max of fixation dispersion (`fix_disp_mean`, `fix_disp_max`)\n",
    "- Variance of fixation X and Y coordinates (`fix_x_var`, `fix_y_var`) to represent screen spread.\n",
    "\n",
    "For saccades, we calculated:\n",
    "- Count of saccades (`sac_count`)\n",
    "- Mean and sum of saccade duration (`sac_mean_dur`, `sac_total_time`)\n",
    "- Mean and max of saccade amplitude (`sac_amp_mean`, `sac_amp_max`)\n",
    "- Mean and max of saccade peak velocity (`sac_vel_mean`, `sac_vel_max`)\n",
    "- Mean of saccade peak acceleration and deceleration (`sac_acc_mean`, `sac_dec_mean`)\n",
    "- Variance of saccade direction (`sac_dir_var`).\n",
    "\n",
    "Finally, we joined these aggregated fixation and saccade features into a single DataFrame called `ivt_1_features`, using `QuestionKey` as the index. We also filled any resulting missing values (from `QuestionKey` values that may only have fixations or saccades, but not both) with 0. This `ivt_1_features` DataFrame now provides a consolidated summary of key eye-tracking characteristics for each question, which can be used for further analysis or modeling."
   ]
  },
  {
   "cell_type": "markdown",
   "id": "45d45bfa",
   "metadata": {},
   "source": [
    "# **16_IVT**"
   ]
  },
  {
   "cell_type": "code",
   "execution_count": null,
   "id": "8034ed1f",
   "metadata": {},
   "outputs": [],
   "source": [
    "df_16_IVT = pd.read_csv('data/STData/16/16_IVT.csv')"
   ]
  },
  {
   "cell_type": "code",
   "execution_count": null,
   "id": "aae37995",
   "metadata": {},
   "outputs": [],
   "source": [
    "df_16_IVT.head()"
   ]
  },
  {
   "cell_type": "code",
   "execution_count": null,
   "id": "7f94c2d1",
   "metadata": {},
   "outputs": [],
   "source": [
    "df_16_IVT.columns"
   ]
  },
  {
   "cell_type": "code",
   "execution_count": null,
   "id": "0470ae3a",
   "metadata": {},
   "outputs": [],
   "source": [
    "df_16_IVT.shape"
   ]
  },
  {
   "cell_type": "code",
   "execution_count": null,
   "id": "ad281723",
   "metadata": {},
   "outputs": [],
   "source": [
    "df_16_IVT.info()"
   ]
  },
  {
   "cell_type": "code",
   "execution_count": null,
   "id": "3ce1d5b7",
   "metadata": {},
   "outputs": [],
   "source": [
    "df_16_IVT.isnull().sum()"
   ]
  },
  {
   "cell_type": "code",
   "execution_count": null,
   "id": "092de097",
   "metadata": {},
   "outputs": [],
   "source": [
    "plt.figure(figsize=(14,10))\n",
    "sns.heatmap(df_16_IVT.isnull(), cmap='viridis')\n",
    "plt.show()"
   ]
  },
  {
   "cell_type": "markdown",
   "id": "c970ef17",
   "metadata": {},
   "source": [
    "# Notes & Observations\n",
    "\n",
    "- We observe many **null** (or missing) values in the `QuestionKey` columns.\n",
    "- The nulls in the `QuestionKey` column may not represent “true” nulls. Rather, they follow interval patterns, suggesting that during those periods no question was displayed.\n",
    "- These missing values in `QuestionKey` require additional investigation and context-aware handling."
   ]
  },
  {
   "cell_type": "code",
   "execution_count": null,
   "id": "3e29bd24",
   "metadata": {},
   "outputs": [],
   "source": [
    "df_16_IVT['QuestionKey'].unique()"
   ]
  },
  {
   "cell_type": "code",
   "execution_count": null,
   "id": "211bd612",
   "metadata": {},
   "outputs": [],
   "source": [
    "df_16_IVT['Timestamp'] = pd.to_datetime(df_16_IVT['Timestamp'])"
   ]
  },
  {
   "cell_type": "code",
   "execution_count": null,
   "id": "e0c02c77",
   "metadata": {},
   "outputs": [],
   "source": [
    "df_16_IVT.head(3)"
   ]
  },
  {
   "cell_type": "code",
   "execution_count": null,
   "id": "ca1ae5b3",
   "metadata": {},
   "outputs": [],
   "source": [
    "df_16_IVT['QuestionKey'].fillna('None', inplace=True)"
   ]
  },
  {
   "cell_type": "code",
   "execution_count": null,
   "id": "e28acfae",
   "metadata": {},
   "outputs": [],
   "source": [
    "df_16_IVT['QuestionKey'].value_counts()"
   ]
  },
  {
   "cell_type": "code",
   "execution_count": null,
   "id": "80345818",
   "metadata": {},
   "outputs": [],
   "source": [
    "plt.figure(figsize=(14,10))\n",
    "sns.heatmap(df_16_IVT.isnull(), cmap='viridis')\n",
    "plt.show()"
   ]
  },
  {
   "cell_type": "code",
   "execution_count": null,
   "id": "52a62fb1",
   "metadata": {},
   "outputs": [],
   "source": [
    "df_16_IVT.isnull().sum()"
   ]
  },
  {
   "cell_type": "code",
   "execution_count": null,
   "id": "68a05829",
   "metadata": {},
   "outputs": [],
   "source": [
    "df_16_IVT.head()"
   ]
  },
  {
   "cell_type": "code",
   "execution_count": null,
   "id": "ec337b85",
   "metadata": {},
   "outputs": [],
   "source": [
    "df_16_IVT['Row'].unique()"
   ]
  },
  {
   "cell_type": "code",
   "execution_count": null,
   "id": "4104be13",
   "metadata": {},
   "outputs": [],
   "source": [
    "plt.figure(figsize=(8,6))\n",
    "sns.histplot(df_16_IVT['Row'])\n",
    "plt.show()"
   ]
  },
  {
   "cell_type": "markdown",
   "id": "951a8009",
   "metadata": {},
   "source": [
    "# Notes & Observations\n",
    "\n",
    "- The `Row` column appears to be a simple row index and does not provide meaningful information relevant to the eye-tracking data itself. Therefore, it can be dropped."
   ]
  },
  {
   "cell_type": "code",
   "execution_count": null,
   "id": "bff920a4",
   "metadata": {},
   "outputs": [],
   "source": [
    "df_16_IVT.drop('Row', axis=1, inplace=True)"
   ]
  },
  {
   "cell_type": "code",
   "execution_count": null,
   "id": "3f27c792",
   "metadata": {},
   "outputs": [],
   "source": [
    "fig, axes = plt.subplots(1, 2, figsize=(20, 10))\n",
    "\n",
    "sns.scatterplot(data=df_16_IVT, x='Gaze X', y='Gaze Y', ax=axes[0])\n",
    "axes[0].set_title('Gaze X vs Gaze Y')\n",
    "\n",
    "sns.scatterplot(data=df_16_IVT, x='Interpolated Gaze X', y='Interpolated Gaze Y', ax=axes[1])\n",
    "axes[1].set_title('Interpolated Gaze X vs Interpolated Gaze Y')\n",
    "\n",
    "plt.tight_layout()\n",
    "plt.show()"
   ]
  },
  {
   "cell_type": "markdown",
   "id": "6c8cdf2e",
   "metadata": {},
   "source": [
    "# Gaze and Interpolated Gaze Scatter Plots\n",
    "\n",
    "The scatter plots above visualize the relationship between the x and y coordinates of both the raw gaze data and the interpolated gaze data.\n",
    "\n",
    "- **Gaze X vs Gaze Y:** This plot shows the raw gaze coordinates. The scattered points indicate the locations on the screen where the participant was looking. The density of points in certain areas might suggest regions of interest.\n",
    "- **Interpolated Gaze X vs Interpolated Gaze Y:** This plot shows the interpolated gaze coordinates. Interpolation is often used to fill in gaps in the raw gaze data, providing a smoother representation of the gaze path. Comparing this plot to the raw gaze plot can show the effect of the interpolation process.\n",
    "\n",
    "Both plots can help in understanding the distribution of gaze points across the screen and identifying potential patterns or biases in eye movements."
   ]
  },
  {
   "cell_type": "code",
   "execution_count": null,
   "id": "1729b7e6",
   "metadata": {},
   "outputs": [],
   "source": [
    "df_16_IVT.describe()"
   ]
  },
  {
   "cell_type": "code",
   "execution_count": null,
   "id": "4aa9e11e",
   "metadata": {},
   "outputs": [],
   "source": [
    "df_16_IVT.head(3)"
   ]
  },
  {
   "cell_type": "code",
   "execution_count": null,
   "id": "cc9b6f5c",
   "metadata": {},
   "outputs": [],
   "source": [
    "df_16_IVT['Timestamp'] = pd.to_datetime(df_16_IVT['Timestamp'])"
   ]
  },
  {
   "cell_type": "code",
   "execution_count": null,
   "id": "dab125cb",
   "metadata": {},
   "outputs": [],
   "source": [
    "df_16_IVT.columns"
   ]
  },
  {
   "cell_type": "code",
   "execution_count": null,
   "id": "81b2e68d",
   "metadata": {},
   "outputs": [],
   "source": [
    "cols = ['Gaze X', 'Gaze Y',\n",
    "       'Interpolated Gaze X', 'Interpolated Gaze Y', 'Interpolated Distance',\n",
    "       'Gaze Velocity', 'Gaze Acceleration', 'Fixation Index',\n",
    "       'Fixation Index by Stimulus', 'Fixation X', 'Fixation Y',\n",
    "       'Fixation Start', 'Fixation End', 'Fixation Duration',\n",
    "       'Fixation Dispersion', 'Saccade Index', 'Saccade Index by Stimulus',\n",
    "       'Saccade Start', 'Saccade End', 'Saccade Duration', 'Saccade Amplitude',\n",
    "       'Saccade Peak Velocity', 'Saccade Peak Acceleration',\n",
    "       'Saccade Peak Deceleration', 'Saccade Direction']"
   ]
  },
  {
   "cell_type": "code",
   "execution_count": null,
   "id": "18b0ed59",
   "metadata": {},
   "outputs": [],
   "source": [
    "from IPython.display import display, Markdown\n",
    "\n",
    "for col in cols:\n",
    "    # Add a markdown cell before each plot for better separation and labeling\n",
    "    display(Markdown(f'### {col} over Time'))\n",
    "    plt.figure(figsize=(16, 10))\n",
    "    sns.lineplot(x=df_16_IVT['Timestamp'], y=df_16_IVT[col])\n",
    "    plt.xlabel(\"Timestamp\") # Add x-axis label\n",
    "    plt.ylabel(col) # Add y-axis label\n",
    "    plt.show()"
   ]
  },
  {
   "cell_type": "code",
   "execution_count": null,
   "id": "692cb3fc",
   "metadata": {},
   "outputs": [],
   "source": [
    "df_16_IVT.head()"
   ]
  },
  {
   "cell_type": "code",
   "execution_count": null,
   "id": "70459b21",
   "metadata": {},
   "outputs": [],
   "source": [
    "plt.figure(figsize=(14,10))\n",
    "sns.heatmap(df_16_IVT[['Fixation Index', 'Fixation Index by Stimulus', 'Saccade Index', 'Saccade Index by Stimulus']].isnull(), cmap='viridis')\n",
    "plt.show()"
   ]
  },
  {
   "cell_type": "markdown",
   "id": "9ae89321",
   "metadata": {},
   "source": [
    "# Observation\n",
    "\n",
    "The `Fixation Index`, `Fixation Index by Stimulus`, `Saccade Index` and `Saccade Index by Stimulus` columns are essentially just sequence numbers for identified events. While they indicate the order of fixations and saccades, they don't provide meaningful features for a machine learning model attempting to predict or classify eye movement patterns. Therefore, we will drop these columns as they are not useful for model building."
   ]
  },
  {
   "cell_type": "code",
   "execution_count": null,
   "id": "4e2f9ba3",
   "metadata": {},
   "outputs": [],
   "source": [
    "df_16_IVT.drop(['Fixation Index', 'Fixation Index by Stimulus', 'Saccade Index', 'Saccade Index by Stimulus'], axis=1, inplace=True)"
   ]
  },
  {
   "cell_type": "code",
   "execution_count": null,
   "id": "22b12dbf",
   "metadata": {},
   "outputs": [],
   "source": [
    "plt.figure(figsize=(14,10))\n",
    "sns.scatterplot(data=df_16_IVT, x='Fixation X', y='Fixation Y')\n",
    "plt.title('Fixation X vs Fixation Y')\n",
    "plt.show()"
   ]
  },
  {
   "cell_type": "code",
   "execution_count": null,
   "id": "db87c663",
   "metadata": {},
   "outputs": [],
   "source": [
    "df_16_IVT['Fixation Start'].describe()"
   ]
  },
  {
   "cell_type": "code",
   "execution_count": null,
   "id": "52edcc08",
   "metadata": {},
   "outputs": [],
   "source": [
    "fig, axes = plt.subplots(1, 2, figsize=(20, 8))\n",
    "\n",
    "sns.histplot(df_16_IVT['Fixation Start'], bins=100, kde=True, ax=axes[0])\n",
    "axes[0].set_xlabel('Fixation Start')\n",
    "axes[0].set_ylabel('Frequency')\n",
    "axes[0].set_title('Distribution of Fixation Start')\n",
    "\n",
    "sns.histplot(df_16_IVT['Fixation End'], bins=100, kde=True, ax=axes[1])\n",
    "axes[1].set_xlabel('Fixation End')\n",
    "axes[1].set_ylabel('Frequency')\n",
    "axes[1].set_title('Distribution of Fixation End')\n",
    "\n",
    "plt.tight_layout()\n",
    "plt.show()"
   ]
  },
  {
   "cell_type": "code",
   "execution_count": null,
   "id": "670fae2f",
   "metadata": {},
   "outputs": [],
   "source": [
    "fig, axes = plt.subplots(1, 2, figsize=(20, 8))\n",
    "\n",
    "sns.histplot(df_16_IVT['Saccade Start'], bins=100, kde=True, ax=axes[0])\n",
    "axes[0].set_xlabel('Saccade Start')\n",
    "axes[0].set_ylabel('Frequency')\n",
    "axes[0].set_title('Distribution of Saccade Start')\n",
    "\n",
    "sns.histplot(df_16_IVT['Saccade End'], bins=100, kde=True, ax=axes[1])\n",
    "axes[1].set_xlabel('Saccade End')\n",
    "axes[1].set_ylabel('Frequency')\n",
    "axes[1].set_title('Distribution of Saccade End')\n",
    "\n",
    "plt.tight_layout()\n",
    "plt.show()"
   ]
  },
  {
   "cell_type": "markdown",
   "id": "f2ce1629",
   "metadata": {},
   "source": [
    "# Observation on Fixation and Saccade Timestamps\n",
    "\n",
    "Upon examining the time series plots of 'Fixation Start', 'Fixation End', `Saccade Start`, and `Saccade End` against the `Timestamp`, we observe a clear linear, diagonal pattern. This indicates that these values are largely sequential and directly related to the progress of time in the data recording.\n",
    "\n",
    "Furthermore, the histograms of these features show distributions that, while informative about the timing of events, don't necessarily reveal complex patterns that would be highly predictive for a machine learning model.\n",
    "\n",
    "Crucially, the dataset already contains `Fixation Duration` and `Saccade Duration` columns. These duration features capture the length of each event, which is often a more directly relevant metric for understanding eye movement behavior than the absolute start and end times. Since the duration can be derived from the start and end times (Duration = End - Start), the start and end time columns introduce redundancy and do not provide substantial additional, independent information for modeling purposes.\n",
    "\n",
    "Therefore, to simplify the dataset and focus on the most informative features for potential machine movement analysis or modeling, we will drop the `Fixation Start`, `Fixation End`, `Saccade Start`, and `Saccade End` columns."
   ]
  },
  {
   "cell_type": "code",
   "execution_count": null,
   "id": "345c6199",
   "metadata": {},
   "outputs": [],
   "source": [
    "df_16_IVT.drop(['Fixation Start', 'Fixation End', 'Saccade Start', 'Saccade End'], axis=1, inplace=True)"
   ]
  },
  {
   "cell_type": "code",
   "execution_count": null,
   "id": "652f91ac",
   "metadata": {},
   "outputs": [],
   "source": [
    "df_16_IVT.head()"
   ]
  },
  {
   "cell_type": "code",
   "execution_count": null,
   "id": "b66893c3",
   "metadata": {},
   "outputs": [],
   "source": [
    "plt.figure(figsize=(12, 8))\n",
    "sns.heatmap(df_16_IVT[['Gaze X', 'Gaze Y', 'Interpolated Gaze X', 'Interpolated Gaze Y']].isnull(), cmap='viridis')\n",
    "plt.show()\n"
   ]
  },
  {
   "cell_type": "code",
   "execution_count": null,
   "id": "5454e03a",
   "metadata": {},
   "outputs": [],
   "source": []
  },
  {
   "cell_type": "markdown",
   "id": "9007d353",
   "metadata": {},
   "source": [
    "# Observations on Gaze and Interpolated Gaze Data\n",
    "\n",
    "Based on the scatter plots of 'Gaze X' vs 'Gaze Y' and 'Interpolated Gaze X' vs 'Interpolated Gaze Y', we observe that the distributions of the raw and interpolated gaze points appear very similar. The spatial patterns of where the participant was looking are consistent between the two sets of coordinates.\n",
    "\n",
    "Furthermore, the heatmap of null values for these columns ('Gaze X', 'Gaze Y', 'Interpolated Gaze X', 'Interpolated Gaze Y') reveals that the missing values are present in the same rows for both the raw and interpolated gaze coordinates. This suggests that the interpolation process did not fill in the gaps in the raw gaze data for these specific instances.\n",
    "\n",
    "Given that the interpolated gaze data shows the same spatial distribution and the same pattern of null values as the raw gaze data, it appears that the interpolation did not significantly alter or complete the data in this case. Therefore, keeping both the raw and interpolated gaze columns might be redundant, and one set could potentially be dropped to simplify the dataset without losing significant information."
   ]
  },
  {
   "cell_type": "code",
   "execution_count": null,
   "id": "337d56ae",
   "metadata": {},
   "outputs": [],
   "source": [
    "df_16_IVT.drop(['Interpolated Gaze X', 'Interpolated Gaze Y'], axis=1, inplace=True)"
   ]
  },
  {
   "cell_type": "code",
   "execution_count": null,
   "id": "812b81d3",
   "metadata": {},
   "outputs": [],
   "source": [
    "df_16_IVT.head()"
   ]
  },
  {
   "cell_type": "code",
   "execution_count": null,
   "id": "85f19d8b",
   "metadata": {},
   "outputs": [],
   "source": [
    "plt.figure(figsize=(12, 8))\n",
    "sns.heatmap(df_16_IVT.isnull(), cmap='viridis')\n",
    "plt.show()"
   ]
  },
  {
   "cell_type": "code",
   "execution_count": null,
   "id": "39eaa02d",
   "metadata": {},
   "outputs": [],
   "source": [
    "df_16_IVT.columns"
   ]
  },
  {
   "cell_type": "code",
   "execution_count": null,
   "id": "b0be47e4",
   "metadata": {},
   "outputs": [],
   "source": [
    "fix_1_df = df_16_IVT.dropna(subset=['Fixation Duration'])\n",
    "sac_1_df = df_16_IVT.dropna(subset=['Saccade Duration'])"
   ]
  },
  {
   "cell_type": "code",
   "execution_count": null,
   "id": "25aedf1d",
   "metadata": {},
   "outputs": [],
   "source": [
    "fix_1_df.shape"
   ]
  },
  {
   "cell_type": "code",
   "execution_count": null,
   "id": "6b2fb273",
   "metadata": {},
   "outputs": [],
   "source": [
    "sac_1_df.shape"
   ]
  },
  {
   "cell_type": "code",
   "execution_count": null,
   "id": "33e5a8f7",
   "metadata": {},
   "outputs": [],
   "source": [
    "fix_1_feature = fix_1_df.groupby('QuestionKey').agg({\n",
    "    'Fixation Duration': ['count','mean','max','sum','var'],\n",
    "    'Fixation Dispersion': ['mean','max'],\n",
    "    'Fixation X': ['var'],   # screen spread X\n",
    "    'Fixation Y': ['var']    # screen spread Y\n",
    "})"
   ]
  },
  {
   "cell_type": "code",
   "execution_count": null,
   "id": "035f777a",
   "metadata": {},
   "outputs": [],
   "source": [
    "fix_1_feature.columns = ['fix_count','fix_mean_dur','fix_max_dur','fix_total_time',\n",
    "                        'fix_dur_var','fix_disp_mean','fix_disp_max',\n",
    "                        'fix_x_var','fix_y_var']"
   ]
  },
  {
   "cell_type": "code",
   "execution_count": null,
   "id": "269ef461",
   "metadata": {},
   "outputs": [],
   "source": [
    "fix_1_feature"
   ]
  },
  {
   "cell_type": "code",
   "execution_count": null,
   "id": "d53bde5c",
   "metadata": {},
   "outputs": [],
   "source": [
    "sac_1_features = sac_1_df.groupby('QuestionKey').agg({\n",
    "    'Saccade Duration': ['count','mean','sum'],\n",
    "    'Saccade Amplitude': ['mean','max'],\n",
    "    'Saccade Peak Velocity': ['mean','max'],\n",
    "    'Saccade Peak Acceleration': ['mean'],\n",
    "    'Saccade Peak Deceleration': ['mean'],\n",
    "    'Saccade Direction': ['var']   # direction variance\n",
    "})"
   ]
  },
  {
   "cell_type": "code",
   "execution_count": null,
   "id": "dd310aa6",
   "metadata": {},
   "outputs": [],
   "source": [
    "sac_1_features.columns = ['sac_count','sac_mean_dur','sac_total_time',\n",
    "                        'sac_amp_mean','sac_amp_max',\n",
    "                        'sac_vel_mean','sac_vel_max',\n",
    "                        'sac_acc_mean','sac_dec_mean','sac_dir_var']"
   ]
  },
  {
   "cell_type": "code",
   "execution_count": null,
   "id": "7eb9f05e",
   "metadata": {},
   "outputs": [],
   "source": [
    "sac_1_features"
   ]
  },
  {
   "cell_type": "code",
   "execution_count": null,
   "id": "bd4ebb5f",
   "metadata": {},
   "outputs": [],
   "source": [
    "ivt_1_features = fix_1_feature.join(sac_1_features, how='outer').fillna(0)"
   ]
  },
  {
   "cell_type": "code",
   "execution_count": null,
   "id": "159421b5",
   "metadata": {},
   "outputs": [],
   "source": [
    "ivt_1_features"
   ]
  },
  {
   "cell_type": "code",
   "execution_count": null,
   "id": "8ffc17a4",
   "metadata": {},
   "outputs": [],
   "source": [
    "ivt_1_features['fix_sac_count_ratio'] = ivt_1_features['fix_count'] / (ivt_1_features['sac_count']+1e-5)\n",
    "ivt_1_features['fix_sac_time_ratio']  = ivt_1_features['fix_total_time'] / (ivt_1_features['sac_total_time']+1e-5)"
   ]
  },
  {
   "cell_type": "code",
   "execution_count": null,
   "id": "c03c78d1",
   "metadata": {},
   "outputs": [],
   "source": [
    "ivt_1_features"
   ]
  },
  {
   "cell_type": "code",
   "execution_count": null,
   "id": "18c6c941",
   "metadata": {},
   "outputs": [],
   "source": []
  },
  {
   "cell_type": "markdown",
   "id": "f690378e",
   "metadata": {},
   "source": [
    "# Aggregation of Fixation and Saccade Features\n",
    "\n",
    "In the preceding code cells, we performed aggregation on the `fix_1_df` and `sac_1_df` DataFrames, which contain the cleaned fixation and saccade data, respectively. The goal of this aggregation was to create a summary of eye-tracking metrics for each `QuestionKey`.\n",
    "\n",
    "For fixations, we calculated:\n",
    "- Count of fixations (`fix_count`)\n",
    "- Mean, max, sum, and variance of fixation duration (`fix_mean_dur`, `fix_max_dur`, `fix_total_time`, `fix_dur_var`)\n",
    "- Mean and max of fixation dispersion (`fix_disp_mean`, `fix_disp_max`)\n",
    "- Variance of fixation X and Y coordinates (`fix_x_var`, `fix_y_var`) to represent screen spread.\n",
    "\n",
    "For saccades, we calculated:\n",
    "- Count of saccades (`sac_count`)\n",
    "- Mean and sum of saccade duration (`sac_mean_dur`, `sac_total_time`)\n",
    "- Mean and max of saccade amplitude (`sac_amp_mean`, `sac_amp_max`)\n",
    "- Mean and max of saccade peak velocity (`sac_vel_mean`, `sac_vel_max`)\n",
    "- Mean of saccade peak acceleration and deceleration (`sac_acc_mean`, `sac_dec_mean`)\n",
    "- Variance of saccade direction (`sac_dir_var`).\n",
    "\n",
    "Finally, we joined these aggregated fixation and saccade features into a single DataFrame called `ivt_1_features`, using `QuestionKey` as the index. We also filled any resulting missing values (from `QuestionKey` values that may only have fixations or saccades, but not both) with 0. This `ivt_1_features` DataFrame now provides a consolidated summary of key eye-tracking characteristics for each question, which can be used for further analysis or modeling."
   ]
  },
  {
   "cell_type": "markdown",
   "id": "c1e597ea",
   "metadata": {},
   "source": [
    "# **17_IVT**"
   ]
  },
  {
   "cell_type": "code",
   "execution_count": null,
   "id": "f7b4f259",
   "metadata": {},
   "outputs": [],
   "source": [
    "df_17_IVT = pd.read_csv('data/STData/17/17_IVT.csv')"
   ]
  },
  {
   "cell_type": "code",
   "execution_count": null,
   "id": "9a309d6d",
   "metadata": {},
   "outputs": [],
   "source": [
    "df_17_IVT.head()"
   ]
  },
  {
   "cell_type": "code",
   "execution_count": null,
   "id": "0eaa59db",
   "metadata": {},
   "outputs": [],
   "source": [
    "df_17_IVT.columns"
   ]
  },
  {
   "cell_type": "code",
   "execution_count": null,
   "id": "8d228abf",
   "metadata": {},
   "outputs": [],
   "source": [
    "df_17_IVT.shape"
   ]
  },
  {
   "cell_type": "code",
   "execution_count": null,
   "id": "44b67119",
   "metadata": {},
   "outputs": [],
   "source": [
    "df_17_IVT.info()"
   ]
  },
  {
   "cell_type": "code",
   "execution_count": null,
   "id": "7848f61d",
   "metadata": {},
   "outputs": [],
   "source": [
    "df_17_IVT.isnull().sum()"
   ]
  },
  {
   "cell_type": "code",
   "execution_count": null,
   "id": "9f578313",
   "metadata": {},
   "outputs": [],
   "source": [
    "plt.figure(figsize=(14,10))\n",
    "sns.heatmap(df_17_IVT.isnull(), cmap='viridis')\n",
    "plt.show()"
   ]
  },
  {
   "cell_type": "markdown",
   "id": "d79fff9e",
   "metadata": {},
   "source": [
    "# Notes & Observations\n",
    "\n",
    "- We observe many **null** (or missing) values in the `QuestionKey` columns.\n",
    "- The nulls in the `QuestionKey` column may not represent “true” nulls. Rather, they follow interval patterns, suggesting that during those periods no question was displayed.\n",
    "- These missing values in `QuestionKey` require additional investigation and context-aware handling."
   ]
  },
  {
   "cell_type": "code",
   "execution_count": null,
   "id": "a6021f6e",
   "metadata": {},
   "outputs": [],
   "source": [
    "df_17_IVT['QuestionKey'].unique()"
   ]
  },
  {
   "cell_type": "code",
   "execution_count": null,
   "id": "92d3af1d",
   "metadata": {},
   "outputs": [],
   "source": [
    "df_17_IVT['Timestamp'] = pd.to_datetime(df_17_IVT['Timestamp'])"
   ]
  },
  {
   "cell_type": "code",
   "execution_count": null,
   "id": "f9efd4b7",
   "metadata": {},
   "outputs": [],
   "source": [
    "df_17_IVT.head(3)"
   ]
  },
  {
   "cell_type": "code",
   "execution_count": null,
   "id": "c44d4d4d",
   "metadata": {},
   "outputs": [],
   "source": [
    "df_17_IVT['QuestionKey'].fillna('None', inplace=True)"
   ]
  },
  {
   "cell_type": "code",
   "execution_count": null,
   "id": "a5886ebe",
   "metadata": {},
   "outputs": [],
   "source": [
    "df_17_IVT['QuestionKey'].value_counts()"
   ]
  },
  {
   "cell_type": "code",
   "execution_count": null,
   "id": "67e1e358",
   "metadata": {},
   "outputs": [],
   "source": [
    "plt.figure(figsize=(14,10))\n",
    "sns.heatmap(df_17_IVT.isnull(), cmap='viridis')\n",
    "plt.show()"
   ]
  },
  {
   "cell_type": "code",
   "execution_count": null,
   "id": "8613fb48",
   "metadata": {},
   "outputs": [],
   "source": [
    "df_17_IVT.isnull().sum()"
   ]
  },
  {
   "cell_type": "code",
   "execution_count": null,
   "id": "c178bcfe",
   "metadata": {},
   "outputs": [],
   "source": [
    "df_17_IVT.head()"
   ]
  },
  {
   "cell_type": "code",
   "execution_count": null,
   "id": "4d0585b0",
   "metadata": {},
   "outputs": [],
   "source": [
    "df_17_IVT['Row'].unique()"
   ]
  },
  {
   "cell_type": "code",
   "execution_count": null,
   "id": "3f61fde3",
   "metadata": {},
   "outputs": [],
   "source": [
    "plt.figure(figsize=(8,6))\n",
    "sns.histplot(df_17_IVT['Row'])\n",
    "plt.show()"
   ]
  },
  {
   "cell_type": "markdown",
   "id": "2d537570",
   "metadata": {},
   "source": [
    "# Notes & Observations\n",
    "\n",
    "- The `Row` column appears to be a simple row index and does not provide meaningful information relevant to the eye-tracking data itself. Therefore, it can be dropped."
   ]
  },
  {
   "cell_type": "code",
   "execution_count": null,
   "id": "e61a686b",
   "metadata": {},
   "outputs": [],
   "source": [
    "df_17_IVT.drop('Row', axis=1, inplace=True)"
   ]
  },
  {
   "cell_type": "code",
   "execution_count": null,
   "id": "e56aefe3",
   "metadata": {},
   "outputs": [],
   "source": [
    "fig, axes = plt.subplots(1, 2, figsize=(20, 10))\n",
    "\n",
    "sns.scatterplot(data=df_17_IVT, x='Gaze X', y='Gaze Y', ax=axes[0])\n",
    "axes[0].set_title('Gaze X vs Gaze Y')\n",
    "\n",
    "sns.scatterplot(data=df_17_IVT, x='Interpolated Gaze X', y='Interpolated Gaze Y', ax=axes[1])\n",
    "axes[1].set_title('Interpolated Gaze X vs Interpolated Gaze Y')\n",
    "\n",
    "plt.tight_layout()\n",
    "plt.show()"
   ]
  },
  {
   "cell_type": "markdown",
   "id": "47fa9dbd",
   "metadata": {},
   "source": [
    "# Gaze and Interpolated Gaze Scatter Plots\n",
    "\n",
    "The scatter plots above visualize the relationship between the x and y coordinates of both the raw gaze data and the interpolated gaze data.\n",
    "\n",
    "- **Gaze X vs Gaze Y:** This plot shows the raw gaze coordinates. The scattered points indicate the locations on the screen where the participant was looking. The density of points in certain areas might suggest regions of interest.\n",
    "- **Interpolated Gaze X vs Interpolated Gaze Y:** This plot shows the interpolated gaze coordinates. Interpolation is often used to fill in gaps in the raw gaze data, providing a smoother representation of the gaze path. Comparing this plot to the raw gaze plot can show the effect of the interpolation process.\n",
    "\n",
    "Both plots can help in understanding the distribution of gaze points across the screen and identifying potential patterns or biases in eye movements."
   ]
  },
  {
   "cell_type": "code",
   "execution_count": null,
   "id": "bc4ecd56",
   "metadata": {},
   "outputs": [],
   "source": [
    "df_17_IVT.describe()"
   ]
  },
  {
   "cell_type": "code",
   "execution_count": null,
   "id": "58684bd1",
   "metadata": {},
   "outputs": [],
   "source": [
    "df_17_IVT.head(3)"
   ]
  },
  {
   "cell_type": "code",
   "execution_count": null,
   "id": "6dbf0d82",
   "metadata": {},
   "outputs": [],
   "source": [
    "df_17_IVT['Timestamp'] = pd.to_datetime(df_17_IVT['Timestamp'])"
   ]
  },
  {
   "cell_type": "code",
   "execution_count": null,
   "id": "417379b3",
   "metadata": {},
   "outputs": [],
   "source": [
    "df_17_IVT.columns"
   ]
  },
  {
   "cell_type": "code",
   "execution_count": null,
   "id": "813bc6a0",
   "metadata": {},
   "outputs": [],
   "source": [
    "cols = ['Gaze X', 'Gaze Y',\n",
    "       'Interpolated Gaze X', 'Interpolated Gaze Y', 'Interpolated Distance',\n",
    "       'Gaze Velocity', 'Gaze Acceleration', 'Fixation Index',\n",
    "       'Fixation Index by Stimulus', 'Fixation X', 'Fixation Y',\n",
    "       'Fixation Start', 'Fixation End', 'Fixation Duration',\n",
    "       'Fixation Dispersion', 'Saccade Index', 'Saccade Index by Stimulus',\n",
    "       'Saccade Start', 'Saccade End', 'Saccade Duration', 'Saccade Amplitude',\n",
    "       'Saccade Peak Velocity', 'Saccade Peak Acceleration',\n",
    "       'Saccade Peak Deceleration', 'Saccade Direction']"
   ]
  },
  {
   "cell_type": "code",
   "execution_count": null,
   "id": "27e04f05",
   "metadata": {},
   "outputs": [],
   "source": [
    "from IPython.display import display, Markdown\n",
    "\n",
    "for col in cols:\n",
    "    # Add a markdown cell before each plot for better separation and labeling\n",
    "    display(Markdown(f'### {col} over Time'))\n",
    "    plt.figure(figsize=(16, 10))\n",
    "    sns.lineplot(x=df_17_IVT['Timestamp'], y=df_17_IVT[col])\n",
    "    plt.xlabel(\"Timestamp\") # Add x-axis label\n",
    "    plt.ylabel(col) # Add y-axis label\n",
    "    plt.show()"
   ]
  },
  {
   "cell_type": "code",
   "execution_count": null,
   "id": "fe8b6d18",
   "metadata": {},
   "outputs": [],
   "source": [
    "df_17_IVT.head()"
   ]
  },
  {
   "cell_type": "code",
   "execution_count": null,
   "id": "ddf340fe",
   "metadata": {},
   "outputs": [],
   "source": [
    "plt.figure(figsize=(14,10))\n",
    "sns.heatmap(df_17_IVT[['Fixation Index', 'Fixation Index by Stimulus', 'Saccade Index', 'Saccade Index by Stimulus']].isnull(), cmap='viridis')\n",
    "plt.show()"
   ]
  },
  {
   "cell_type": "markdown",
   "id": "961da1fb",
   "metadata": {},
   "source": [
    "# Observation\n",
    "\n",
    "The `Fixation Index`, `Fixation Index by Stimulus`, `Saccade Index` and `Saccade Index by Stimulus` columns are essentially just sequence numbers for identified events. While they indicate the order of fixations and saccades, they don't provide meaningful features for a machine learning model attempting to predict or classify eye movement patterns. Therefore, we will drop these columns as they are not useful for model building."
   ]
  },
  {
   "cell_type": "code",
   "execution_count": null,
   "id": "5dbdee04",
   "metadata": {},
   "outputs": [],
   "source": [
    "df_17_IVT.drop(['Fixation Index', 'Fixation Index by Stimulus', 'Saccade Index', 'Saccade Index by Stimulus'], axis=1, inplace=True)"
   ]
  },
  {
   "cell_type": "code",
   "execution_count": null,
   "id": "7353cd9b",
   "metadata": {},
   "outputs": [],
   "source": [
    "plt.figure(figsize=(14,10))\n",
    "sns.scatterplot(data=df_17_IVT, x='Fixation X', y='Fixation Y')\n",
    "plt.title('Fixation X vs Fixation Y')\n",
    "plt.show()"
   ]
  },
  {
   "cell_type": "code",
   "execution_count": null,
   "id": "afc29661",
   "metadata": {},
   "outputs": [],
   "source": [
    "df_17_IVT['Fixation Start'].describe()"
   ]
  },
  {
   "cell_type": "code",
   "execution_count": null,
   "id": "0a819667",
   "metadata": {},
   "outputs": [],
   "source": [
    "fig, axes = plt.subplots(1, 2, figsize=(20, 8))\n",
    "\n",
    "sns.histplot(df_17_IVT['Fixation Start'], bins=100, kde=True, ax=axes[0])\n",
    "axes[0].set_xlabel('Fixation Start')\n",
    "axes[0].set_ylabel('Frequency')\n",
    "axes[0].set_title('Distribution of Fixation Start')\n",
    "\n",
    "sns.histplot(df_17_IVT['Fixation End'], bins=100, kde=True, ax=axes[1])\n",
    "axes[1].set_xlabel('Fixation End')\n",
    "axes[1].set_ylabel('Frequency')\n",
    "axes[1].set_title('Distribution of Fixation End')\n",
    "\n",
    "plt.tight_layout()\n",
    "plt.show()"
   ]
  },
  {
   "cell_type": "code",
   "execution_count": null,
   "id": "6c47002f",
   "metadata": {},
   "outputs": [],
   "source": [
    "fig, axes = plt.subplots(1, 2, figsize=(20, 8))\n",
    "\n",
    "sns.histplot(df_17_IVT['Saccade Start'], bins=100, kde=True, ax=axes[0])\n",
    "axes[0].set_xlabel('Saccade Start')\n",
    "axes[0].set_ylabel('Frequency')\n",
    "axes[0].set_title('Distribution of Saccade Start')\n",
    "\n",
    "sns.histplot(df_17_IVT['Saccade End'], bins=100, kde=True, ax=axes[1])\n",
    "axes[1].set_xlabel('Saccade End')\n",
    "axes[1].set_ylabel('Frequency')\n",
    "axes[1].set_title('Distribution of Saccade End')\n",
    "\n",
    "plt.tight_layout()\n",
    "plt.show()"
   ]
  },
  {
   "cell_type": "markdown",
   "id": "046e8ffd",
   "metadata": {},
   "source": [
    "# Observation on Fixation and Saccade Timestamps\n",
    "\n",
    "Upon examining the time series plots of 'Fixation Start', 'Fixation End', `Saccade Start`, and `Saccade End` against the `Timestamp`, we observe a clear linear, diagonal pattern. This indicates that these values are largely sequential and directly related to the progress of time in the data recording.\n",
    "\n",
    "Furthermore, the histograms of these features show distributions that, while informative about the timing of events, don't necessarily reveal complex patterns that would be highly predictive for a machine learning model.\n",
    "\n",
    "Crucially, the dataset already contains `Fixation Duration` and `Saccade Duration` columns. These duration features capture the length of each event, which is often a more directly relevant metric for understanding eye movement behavior than the absolute start and end times. Since the duration can be derived from the start and end times (Duration = End - Start), the start and end time columns introduce redundancy and do not provide substantial additional, independent information for modeling purposes.\n",
    "\n",
    "Therefore, to simplify the dataset and focus on the most informative features for potential machine movement analysis or modeling, we will drop the `Fixation Start`, `Fixation End`, `Saccade Start`, and `Saccade End` columns."
   ]
  },
  {
   "cell_type": "code",
   "execution_count": null,
   "id": "6a4ddaa7",
   "metadata": {},
   "outputs": [],
   "source": [
    "df_17_IVT.drop(['Fixation Start', 'Fixation End', 'Saccade Start', 'Saccade End'], axis=1, inplace=True)"
   ]
  },
  {
   "cell_type": "code",
   "execution_count": null,
   "id": "401ea0e3",
   "metadata": {},
   "outputs": [],
   "source": [
    "df_17_IVT.head()"
   ]
  },
  {
   "cell_type": "code",
   "execution_count": null,
   "id": "378405f3",
   "metadata": {},
   "outputs": [],
   "source": [
    "plt.figure(figsize=(12, 8))\n",
    "sns.heatmap(df_17_IVT[['Gaze X', 'Gaze Y', 'Interpolated Gaze X', 'Interpolated Gaze Y']].isnull(), cmap='viridis')\n",
    "plt.show()\n"
   ]
  },
  {
   "cell_type": "code",
   "execution_count": null,
   "id": "db044de7",
   "metadata": {},
   "outputs": [],
   "source": []
  },
  {
   "cell_type": "markdown",
   "id": "66d277b0",
   "metadata": {},
   "source": [
    "# Observations on Gaze and Interpolated Gaze Data\n",
    "\n",
    "Based on the scatter plots of 'Gaze X' vs 'Gaze Y' and 'Interpolated Gaze X' vs 'Interpolated Gaze Y', we observe that the distributions of the raw and interpolated gaze points appear very similar. The spatial patterns of where the participant was looking are consistent between the two sets of coordinates.\n",
    "\n",
    "Furthermore, the heatmap of null values for these columns ('Gaze X', 'Gaze Y', 'Interpolated Gaze X', 'Interpolated Gaze Y') reveals that the missing values are present in the same rows for both the raw and interpolated gaze coordinates. This suggests that the interpolation process did not fill in the gaps in the raw gaze data for these specific instances.\n",
    "\n",
    "Given that the interpolated gaze data shows the same spatial distribution and the same pattern of null values as the raw gaze data, it appears that the interpolation did not significantly alter or complete the data in this case. Therefore, keeping both the raw and interpolated gaze columns might be redundant, and one set could potentially be dropped to simplify the dataset without losing significant information."
   ]
  },
  {
   "cell_type": "code",
   "execution_count": null,
   "id": "0271a5df",
   "metadata": {},
   "outputs": [],
   "source": [
    "df_17_IVT.drop(['Interpolated Gaze X', 'Interpolated Gaze Y'], axis=1, inplace=True)"
   ]
  },
  {
   "cell_type": "code",
   "execution_count": null,
   "id": "ab921736",
   "metadata": {},
   "outputs": [],
   "source": [
    "df_17_IVT.head()"
   ]
  },
  {
   "cell_type": "code",
   "execution_count": null,
   "id": "7cf26b81",
   "metadata": {},
   "outputs": [],
   "source": [
    "plt.figure(figsize=(12, 8))\n",
    "sns.heatmap(df_17_IVT.isnull(), cmap='viridis')\n",
    "plt.show()"
   ]
  },
  {
   "cell_type": "code",
   "execution_count": null,
   "id": "c86fc689",
   "metadata": {},
   "outputs": [],
   "source": [
    "df_17_IVT.columns"
   ]
  },
  {
   "cell_type": "code",
   "execution_count": null,
   "id": "1e55c25a",
   "metadata": {},
   "outputs": [],
   "source": [
    "fix_1_df = df_17_IVT.dropna(subset=['Fixation Duration'])\n",
    "sac_1_df = df_17_IVT.dropna(subset=['Saccade Duration'])"
   ]
  },
  {
   "cell_type": "code",
   "execution_count": null,
   "id": "a63342d0",
   "metadata": {},
   "outputs": [],
   "source": [
    "fix_1_df.shape"
   ]
  },
  {
   "cell_type": "code",
   "execution_count": null,
   "id": "eef86773",
   "metadata": {},
   "outputs": [],
   "source": [
    "sac_1_df.shape"
   ]
  },
  {
   "cell_type": "code",
   "execution_count": null,
   "id": "af0edbc7",
   "metadata": {},
   "outputs": [],
   "source": [
    "fix_1_feature = fix_1_df.groupby('QuestionKey').agg({\n",
    "    'Fixation Duration': ['count','mean','max','sum','var'],\n",
    "    'Fixation Dispersion': ['mean','max'],\n",
    "    'Fixation X': ['var'],   # screen spread X\n",
    "    'Fixation Y': ['var']    # screen spread Y\n",
    "})"
   ]
  },
  {
   "cell_type": "code",
   "execution_count": null,
   "id": "214c6159",
   "metadata": {},
   "outputs": [],
   "source": [
    "fix_1_feature.columns = ['fix_count','fix_mean_dur','fix_max_dur','fix_total_time',\n",
    "                        'fix_dur_var','fix_disp_mean','fix_disp_max',\n",
    "                        'fix_x_var','fix_y_var']"
   ]
  },
  {
   "cell_type": "code",
   "execution_count": null,
   "id": "239d7111",
   "metadata": {},
   "outputs": [],
   "source": [
    "fix_1_feature"
   ]
  },
  {
   "cell_type": "code",
   "execution_count": null,
   "id": "00863d93",
   "metadata": {},
   "outputs": [],
   "source": [
    "sac_1_features = sac_1_df.groupby('QuestionKey').agg({\n",
    "    'Saccade Duration': ['count','mean','sum'],\n",
    "    'Saccade Amplitude': ['mean','max'],\n",
    "    'Saccade Peak Velocity': ['mean','max'],\n",
    "    'Saccade Peak Acceleration': ['mean'],\n",
    "    'Saccade Peak Deceleration': ['mean'],\n",
    "    'Saccade Direction': ['var']   # direction variance\n",
    "})"
   ]
  },
  {
   "cell_type": "code",
   "execution_count": null,
   "id": "2e12f21a",
   "metadata": {},
   "outputs": [],
   "source": [
    "sac_1_features.columns = ['sac_count','sac_mean_dur','sac_total_time',\n",
    "                        'sac_amp_mean','sac_amp_max',\n",
    "                        'sac_vel_mean','sac_vel_max',\n",
    "                        'sac_acc_mean','sac_dec_mean','sac_dir_var']"
   ]
  },
  {
   "cell_type": "code",
   "execution_count": null,
   "id": "02d3482a",
   "metadata": {},
   "outputs": [],
   "source": [
    "sac_1_features"
   ]
  },
  {
   "cell_type": "code",
   "execution_count": null,
   "id": "1916d5cb",
   "metadata": {},
   "outputs": [],
   "source": [
    "ivt_1_features = fix_1_feature.join(sac_1_features, how='outer').fillna(0)"
   ]
  },
  {
   "cell_type": "code",
   "execution_count": null,
   "id": "4025bf7d",
   "metadata": {},
   "outputs": [],
   "source": [
    "ivt_1_features"
   ]
  },
  {
   "cell_type": "code",
   "execution_count": null,
   "id": "42baabd1",
   "metadata": {},
   "outputs": [],
   "source": [
    "ivt_1_features['fix_sac_count_ratio'] = ivt_1_features['fix_count'] / (ivt_1_features['sac_count']+1e-5)\n",
    "ivt_1_features['fix_sac_time_ratio']  = ivt_1_features['fix_total_time'] / (ivt_1_features['sac_total_time']+1e-5)"
   ]
  },
  {
   "cell_type": "code",
   "execution_count": null,
   "id": "3c4645bc",
   "metadata": {},
   "outputs": [],
   "source": [
    "ivt_1_features"
   ]
  },
  {
   "cell_type": "code",
   "execution_count": null,
   "id": "ba12396a",
   "metadata": {},
   "outputs": [],
   "source": []
  },
  {
   "cell_type": "markdown",
   "id": "f700a9f2",
   "metadata": {},
   "source": [
    "# Aggregation of Fixation and Saccade Features\n",
    "\n",
    "In the preceding code cells, we performed aggregation on the `fix_1_df` and `sac_1_df` DataFrames, which contain the cleaned fixation and saccade data, respectively. The goal of this aggregation was to create a summary of eye-tracking metrics for each `QuestionKey`.\n",
    "\n",
    "For fixations, we calculated:\n",
    "- Count of fixations (`fix_count`)\n",
    "- Mean, max, sum, and variance of fixation duration (`fix_mean_dur`, `fix_max_dur`, `fix_total_time`, `fix_dur_var`)\n",
    "- Mean and max of fixation dispersion (`fix_disp_mean`, `fix_disp_max`)\n",
    "- Variance of fixation X and Y coordinates (`fix_x_var`, `fix_y_var`) to represent screen spread.\n",
    "\n",
    "For saccades, we calculated:\n",
    "- Count of saccades (`sac_count`)\n",
    "- Mean and sum of saccade duration (`sac_mean_dur`, `sac_total_time`)\n",
    "- Mean and max of saccade amplitude (`sac_amp_mean`, `sac_amp_max`)\n",
    "- Mean and max of saccade peak velocity (`sac_vel_mean`, `sac_vel_max`)\n",
    "- Mean of saccade peak acceleration and deceleration (`sac_acc_mean`, `sac_dec_mean`)\n",
    "- Variance of saccade direction (`sac_dir_var`).\n",
    "\n",
    "Finally, we joined these aggregated fixation and saccade features into a single DataFrame called `ivt_1_features`, using `QuestionKey` as the index. We also filled any resulting missing values (from `QuestionKey` values that may only have fixations or saccades, but not both) with 0. This `ivt_1_features` DataFrame now provides a consolidated summary of key eye-tracking characteristics for each question, which can be used for further analysis or modeling."
   ]
  },
  {
   "cell_type": "markdown",
   "id": "87d4c36b",
   "metadata": {},
   "source": [
    "# **18_IVT**"
   ]
  },
  {
   "cell_type": "code",
   "execution_count": null,
   "id": "552a6022",
   "metadata": {},
   "outputs": [],
   "source": [
    "df_18_IVT = pd.read_csv('data/STData/18/18_IVT.csv')"
   ]
  },
  {
   "cell_type": "code",
   "execution_count": null,
   "id": "6502c43f",
   "metadata": {},
   "outputs": [],
   "source": [
    "df_18_IVT.head()"
   ]
  },
  {
   "cell_type": "code",
   "execution_count": null,
   "id": "955eecbd",
   "metadata": {},
   "outputs": [],
   "source": [
    "df_18_IVT.columns"
   ]
  },
  {
   "cell_type": "code",
   "execution_count": null,
   "id": "0467d94e",
   "metadata": {},
   "outputs": [],
   "source": [
    "df_18_IVT.shape"
   ]
  },
  {
   "cell_type": "code",
   "execution_count": null,
   "id": "130119da",
   "metadata": {},
   "outputs": [],
   "source": [
    "df_18_IVT.info()"
   ]
  },
  {
   "cell_type": "code",
   "execution_count": null,
   "id": "7d534fc2",
   "metadata": {},
   "outputs": [],
   "source": [
    "df_18_IVT.isnull().sum()"
   ]
  },
  {
   "cell_type": "code",
   "execution_count": null,
   "id": "662f122f",
   "metadata": {},
   "outputs": [],
   "source": [
    "plt.figure(figsize=(14,10))\n",
    "sns.heatmap(df_18_IVT.isnull(), cmap='viridis')\n",
    "plt.show()"
   ]
  },
  {
   "cell_type": "markdown",
   "id": "9c65a8e0",
   "metadata": {},
   "source": [
    "# Notes & Observations\n",
    "\n",
    "- We observe many **null** (or missing) values in the `QuestionKey` columns.\n",
    "- The nulls in the `QuestionKey` column may not represent “true” nulls. Rather, they follow interval patterns, suggesting that during those periods no question was displayed.\n",
    "- These missing values in `QuestionKey` require additional investigation and context-aware handling."
   ]
  },
  {
   "cell_type": "code",
   "execution_count": null,
   "id": "894d7f93",
   "metadata": {},
   "outputs": [],
   "source": [
    "df_18_IVT['QuestionKey'].unique()"
   ]
  },
  {
   "cell_type": "code",
   "execution_count": null,
   "id": "dd2d3f79",
   "metadata": {},
   "outputs": [],
   "source": [
    "df_18_IVT['Timestamp'] = pd.to_datetime(df_18_IVT['Timestamp'])"
   ]
  },
  {
   "cell_type": "code",
   "execution_count": null,
   "id": "ec4499fc",
   "metadata": {},
   "outputs": [],
   "source": [
    "df_18_IVT.head(3)"
   ]
  },
  {
   "cell_type": "code",
   "execution_count": null,
   "id": "238f0cb9",
   "metadata": {},
   "outputs": [],
   "source": [
    "df_18_IVT['QuestionKey'].fillna('None', inplace=True)"
   ]
  },
  {
   "cell_type": "code",
   "execution_count": null,
   "id": "dfa98c82",
   "metadata": {},
   "outputs": [],
   "source": [
    "df_18_IVT['QuestionKey'].value_counts()"
   ]
  },
  {
   "cell_type": "code",
   "execution_count": null,
   "id": "292c9ea1",
   "metadata": {},
   "outputs": [],
   "source": [
    "plt.figure(figsize=(14,10))\n",
    "sns.heatmap(df_18_IVT.isnull(), cmap='viridis')\n",
    "plt.show()"
   ]
  },
  {
   "cell_type": "code",
   "execution_count": null,
   "id": "adec787f",
   "metadata": {},
   "outputs": [],
   "source": [
    "df_18_IVT.isnull().sum()"
   ]
  },
  {
   "cell_type": "code",
   "execution_count": null,
   "id": "370cc4b8",
   "metadata": {},
   "outputs": [],
   "source": [
    "df_18_IVT.head()"
   ]
  },
  {
   "cell_type": "code",
   "execution_count": null,
   "id": "8bf6004b",
   "metadata": {},
   "outputs": [],
   "source": [
    "df_18_IVT['Row'].unique()"
   ]
  },
  {
   "cell_type": "code",
   "execution_count": null,
   "id": "e39fb07d",
   "metadata": {},
   "outputs": [],
   "source": [
    "plt.figure(figsize=(8,6))\n",
    "sns.histplot(df_18_IVT['Row'])\n",
    "plt.show()"
   ]
  },
  {
   "cell_type": "markdown",
   "id": "2abdd2c8",
   "metadata": {},
   "source": [
    "# Notes & Observations\n",
    "\n",
    "- The `Row` column appears to be a simple row index and does not provide meaningful information relevant to the eye-tracking data itself. Therefore, it can be dropped."
   ]
  },
  {
   "cell_type": "code",
   "execution_count": null,
   "id": "f3730831",
   "metadata": {},
   "outputs": [],
   "source": [
    "df_18_IVT.drop('Row', axis=1, inplace=True)"
   ]
  },
  {
   "cell_type": "code",
   "execution_count": null,
   "id": "202a40ab",
   "metadata": {},
   "outputs": [],
   "source": [
    "fig, axes = plt.subplots(1, 2, figsize=(20, 10))\n",
    "\n",
    "sns.scatterplot(data=df_18_IVT, x='Gaze X', y='Gaze Y', ax=axes[0])\n",
    "axes[0].set_title('Gaze X vs Gaze Y')\n",
    "\n",
    "sns.scatterplot(data=df_18_IVT, x='Interpolated Gaze X', y='Interpolated Gaze Y', ax=axes[1])\n",
    "axes[1].set_title('Interpolated Gaze X vs Interpolated Gaze Y')\n",
    "\n",
    "plt.tight_layout()\n",
    "plt.show()"
   ]
  },
  {
   "cell_type": "markdown",
   "id": "8e7777cd",
   "metadata": {},
   "source": [
    "# Gaze and Interpolated Gaze Scatter Plots\n",
    "\n",
    "The scatter plots above visualize the relationship between the x and y coordinates of both the raw gaze data and the interpolated gaze data.\n",
    "\n",
    "- **Gaze X vs Gaze Y:** This plot shows the raw gaze coordinates. The scattered points indicate the locations on the screen where the participant was looking. The density of points in certain areas might suggest regions of interest.\n",
    "- **Interpolated Gaze X vs Interpolated Gaze Y:** This plot shows the interpolated gaze coordinates. Interpolation is often used to fill in gaps in the raw gaze data, providing a smoother representation of the gaze path. Comparing this plot to the raw gaze plot can show the effect of the interpolation process.\n",
    "\n",
    "Both plots can help in understanding the distribution of gaze points across the screen and identifying potential patterns or biases in eye movements."
   ]
  },
  {
   "cell_type": "code",
   "execution_count": null,
   "id": "db252fc2",
   "metadata": {},
   "outputs": [],
   "source": [
    "df_18_IVT.describe()"
   ]
  },
  {
   "cell_type": "code",
   "execution_count": null,
   "id": "c6cc34a6",
   "metadata": {},
   "outputs": [],
   "source": [
    "df_18_IVT.head(3)"
   ]
  },
  {
   "cell_type": "code",
   "execution_count": null,
   "id": "7c09dc52",
   "metadata": {},
   "outputs": [],
   "source": [
    "df_18_IVT['Timestamp'] = pd.to_datetime(df_18_IVT['Timestamp'])"
   ]
  },
  {
   "cell_type": "code",
   "execution_count": null,
   "id": "34b643a9",
   "metadata": {},
   "outputs": [],
   "source": [
    "df_18_IVT.columns"
   ]
  },
  {
   "cell_type": "code",
   "execution_count": null,
   "id": "42f01408",
   "metadata": {},
   "outputs": [],
   "source": [
    "cols = ['Gaze X', 'Gaze Y',\n",
    "       'Interpolated Gaze X', 'Interpolated Gaze Y', 'Interpolated Distance',\n",
    "       'Gaze Velocity', 'Gaze Acceleration', 'Fixation Index',\n",
    "       'Fixation Index by Stimulus', 'Fixation X', 'Fixation Y',\n",
    "       'Fixation Start', 'Fixation End', 'Fixation Duration',\n",
    "       'Fixation Dispersion', 'Saccade Index', 'Saccade Index by Stimulus',\n",
    "       'Saccade Start', 'Saccade End', 'Saccade Duration', 'Saccade Amplitude',\n",
    "       'Saccade Peak Velocity', 'Saccade Peak Acceleration',\n",
    "       'Saccade Peak Deceleration', 'Saccade Direction']"
   ]
  },
  {
   "cell_type": "code",
   "execution_count": null,
   "id": "765795fc",
   "metadata": {},
   "outputs": [],
   "source": [
    "from IPython.display import display, Markdown\n",
    "\n",
    "for col in cols:\n",
    "    # Add a markdown cell before each plot for better separation and labeling\n",
    "    display(Markdown(f'### {col} over Time'))\n",
    "    plt.figure(figsize=(16, 10))\n",
    "    sns.lineplot(x=df_18_IVT['Timestamp'], y=df_18_IVT[col])\n",
    "    plt.xlabel(\"Timestamp\") # Add x-axis label\n",
    "    plt.ylabel(col) # Add y-axis label\n",
    "    plt.show()"
   ]
  },
  {
   "cell_type": "code",
   "execution_count": null,
   "id": "cc32551a",
   "metadata": {},
   "outputs": [],
   "source": [
    "df_18_IVT.head()"
   ]
  },
  {
   "cell_type": "code",
   "execution_count": null,
   "id": "585f5cfa",
   "metadata": {},
   "outputs": [],
   "source": [
    "plt.figure(figsize=(14,10))\n",
    "sns.heatmap(df_18_IVT[['Fixation Index', 'Fixation Index by Stimulus', 'Saccade Index', 'Saccade Index by Stimulus']].isnull(), cmap='viridis')\n",
    "plt.show()"
   ]
  },
  {
   "cell_type": "markdown",
   "id": "8ddf9318",
   "metadata": {},
   "source": [
    "# Observation\n",
    "\n",
    "The `Fixation Index`, `Fixation Index by Stimulus`, `Saccade Index` and `Saccade Index by Stimulus` columns are essentially just sequence numbers for identified events. While they indicate the order of fixations and saccades, they don't provide meaningful features for a machine learning model attempting to predict or classify eye movement patterns. Therefore, we will drop these columns as they are not useful for model building."
   ]
  },
  {
   "cell_type": "code",
   "execution_count": null,
   "id": "44dba5c6",
   "metadata": {},
   "outputs": [],
   "source": [
    "df_18_IVT.drop(['Fixation Index', 'Fixation Index by Stimulus', 'Saccade Index', 'Saccade Index by Stimulus'], axis=1, inplace=True)"
   ]
  },
  {
   "cell_type": "code",
   "execution_count": null,
   "id": "549adea7",
   "metadata": {},
   "outputs": [],
   "source": [
    "plt.figure(figsize=(14,10))\n",
    "sns.scatterplot(data=df_18_IVT, x='Fixation X', y='Fixation Y')\n",
    "plt.title('Fixation X vs Fixation Y')\n",
    "plt.show()"
   ]
  },
  {
   "cell_type": "code",
   "execution_count": null,
   "id": "acbf016a",
   "metadata": {},
   "outputs": [],
   "source": [
    "df_18_IVT['Fixation Start'].describe()"
   ]
  },
  {
   "cell_type": "code",
   "execution_count": null,
   "id": "34ee30d3",
   "metadata": {},
   "outputs": [],
   "source": [
    "fig, axes = plt.subplots(1, 2, figsize=(20, 8))\n",
    "\n",
    "sns.histplot(df_18_IVT['Fixation Start'], bins=100, kde=True, ax=axes[0])\n",
    "axes[0].set_xlabel('Fixation Start')\n",
    "axes[0].set_ylabel('Frequency')\n",
    "axes[0].set_title('Distribution of Fixation Start')\n",
    "\n",
    "sns.histplot(df_18_IVT['Fixation End'], bins=100, kde=True, ax=axes[1])\n",
    "axes[1].set_xlabel('Fixation End')\n",
    "axes[1].set_ylabel('Frequency')\n",
    "axes[1].set_title('Distribution of Fixation End')\n",
    "\n",
    "plt.tight_layout()\n",
    "plt.show()"
   ]
  },
  {
   "cell_type": "code",
   "execution_count": null,
   "id": "971f4f6b",
   "metadata": {},
   "outputs": [],
   "source": [
    "fig, axes = plt.subplots(1, 2, figsize=(20, 8))\n",
    "\n",
    "sns.histplot(df_18_IVT['Saccade Start'], bins=100, kde=True, ax=axes[0])\n",
    "axes[0].set_xlabel('Saccade Start')\n",
    "axes[0].set_ylabel('Frequency')\n",
    "axes[0].set_title('Distribution of Saccade Start')\n",
    "\n",
    "sns.histplot(df_18_IVT['Saccade End'], bins=100, kde=True, ax=axes[1])\n",
    "axes[1].set_xlabel('Saccade End')\n",
    "axes[1].set_ylabel('Frequency')\n",
    "axes[1].set_title('Distribution of Saccade End')\n",
    "\n",
    "plt.tight_layout()\n",
    "plt.show()"
   ]
  },
  {
   "cell_type": "markdown",
   "id": "755a8183",
   "metadata": {},
   "source": [
    "# Observation on Fixation and Saccade Timestamps\n",
    "\n",
    "Upon examining the time series plots of 'Fixation Start', 'Fixation End', `Saccade Start`, and `Saccade End` against the `Timestamp`, we observe a clear linear, diagonal pattern. This indicates that these values are largely sequential and directly related to the progress of time in the data recording.\n",
    "\n",
    "Furthermore, the histograms of these features show distributions that, while informative about the timing of events, don't necessarily reveal complex patterns that would be highly predictive for a machine learning model.\n",
    "\n",
    "Crucially, the dataset already contains `Fixation Duration` and `Saccade Duration` columns. These duration features capture the length of each event, which is often a more directly relevant metric for understanding eye movement behavior than the absolute start and end times. Since the duration can be derived from the start and end times (Duration = End - Start), the start and end time columns introduce redundancy and do not provide substantial additional, independent information for modeling purposes.\n",
    "\n",
    "Therefore, to simplify the dataset and focus on the most informative features for potential machine movement analysis or modeling, we will drop the `Fixation Start`, `Fixation End`, `Saccade Start`, and `Saccade End` columns."
   ]
  },
  {
   "cell_type": "code",
   "execution_count": null,
   "id": "c759a709",
   "metadata": {},
   "outputs": [],
   "source": [
    "df_18_IVT.drop(['Fixation Start', 'Fixation End', 'Saccade Start', 'Saccade End'], axis=1, inplace=True)"
   ]
  },
  {
   "cell_type": "code",
   "execution_count": null,
   "id": "b9e91215",
   "metadata": {},
   "outputs": [],
   "source": [
    "df_18_IVT.head()"
   ]
  },
  {
   "cell_type": "code",
   "execution_count": null,
   "id": "eeb04373",
   "metadata": {},
   "outputs": [],
   "source": [
    "plt.figure(figsize=(12, 8))\n",
    "sns.heatmap(df_18_IVT[['Gaze X', 'Gaze Y', 'Interpolated Gaze X', 'Interpolated Gaze Y']].isnull(), cmap='viridis')\n",
    "plt.show()\n"
   ]
  },
  {
   "cell_type": "code",
   "execution_count": null,
   "id": "9914b9b2",
   "metadata": {},
   "outputs": [],
   "source": []
  },
  {
   "cell_type": "markdown",
   "id": "4a5520c4",
   "metadata": {},
   "source": [
    "# Observations on Gaze and Interpolated Gaze Data\n",
    "\n",
    "Based on the scatter plots of 'Gaze X' vs 'Gaze Y' and 'Interpolated Gaze X' vs 'Interpolated Gaze Y', we observe that the distributions of the raw and interpolated gaze points appear very similar. The spatial patterns of where the participant was looking are consistent between the two sets of coordinates.\n",
    "\n",
    "Furthermore, the heatmap of null values for these columns ('Gaze X', 'Gaze Y', 'Interpolated Gaze X', 'Interpolated Gaze Y') reveals that the missing values are present in the same rows for both the raw and interpolated gaze coordinates. This suggests that the interpolation process did not fill in the gaps in the raw gaze data for these specific instances.\n",
    "\n",
    "Given that the interpolated gaze data shows the same spatial distribution and the same pattern of null values as the raw gaze data, it appears that the interpolation did not significantly alter or complete the data in this case. Therefore, keeping both the raw and interpolated gaze columns might be redundant, and one set could potentially be dropped to simplify the dataset without losing significant information."
   ]
  },
  {
   "cell_type": "code",
   "execution_count": null,
   "id": "0278bf30",
   "metadata": {},
   "outputs": [],
   "source": [
    "df_18_IVT.drop(['Interpolated Gaze X', 'Interpolated Gaze Y'], axis=1, inplace=True)"
   ]
  },
  {
   "cell_type": "code",
   "execution_count": null,
   "id": "0261f9fa",
   "metadata": {},
   "outputs": [],
   "source": [
    "df_18_IVT.head()"
   ]
  },
  {
   "cell_type": "code",
   "execution_count": null,
   "id": "bdafeefb",
   "metadata": {},
   "outputs": [],
   "source": [
    "plt.figure(figsize=(12, 8))\n",
    "sns.heatmap(df_18_IVT.isnull(), cmap='viridis')\n",
    "plt.show()"
   ]
  },
  {
   "cell_type": "code",
   "execution_count": null,
   "id": "63a0a9a6",
   "metadata": {},
   "outputs": [],
   "source": [
    "df_18_IVT.columns"
   ]
  },
  {
   "cell_type": "code",
   "execution_count": null,
   "id": "c47d79ae",
   "metadata": {},
   "outputs": [],
   "source": [
    "fix_1_df = df_18_IVT.dropna(subset=['Fixation Duration'])\n",
    "sac_1_df = df_18_IVT.dropna(subset=['Saccade Duration'])"
   ]
  },
  {
   "cell_type": "code",
   "execution_count": null,
   "id": "e07a03ca",
   "metadata": {},
   "outputs": [],
   "source": [
    "fix_1_df.shape"
   ]
  },
  {
   "cell_type": "code",
   "execution_count": null,
   "id": "8dcf5f48",
   "metadata": {},
   "outputs": [],
   "source": [
    "sac_1_df.shape"
   ]
  },
  {
   "cell_type": "code",
   "execution_count": null,
   "id": "e315f723",
   "metadata": {},
   "outputs": [],
   "source": [
    "fix_1_feature = fix_1_df.groupby('QuestionKey').agg({\n",
    "    'Fixation Duration': ['count','mean','max','sum','var'],\n",
    "    'Fixation Dispersion': ['mean','max'],\n",
    "    'Fixation X': ['var'],   # screen spread X\n",
    "    'Fixation Y': ['var']    # screen spread Y\n",
    "})"
   ]
  },
  {
   "cell_type": "code",
   "execution_count": null,
   "id": "f5eb3589",
   "metadata": {},
   "outputs": [],
   "source": [
    "fix_1_feature.columns = ['fix_count','fix_mean_dur','fix_max_dur','fix_total_time',\n",
    "                        'fix_dur_var','fix_disp_mean','fix_disp_max',\n",
    "                        'fix_x_var','fix_y_var']"
   ]
  },
  {
   "cell_type": "code",
   "execution_count": null,
   "id": "5c46d2ce",
   "metadata": {},
   "outputs": [],
   "source": [
    "fix_1_feature"
   ]
  },
  {
   "cell_type": "code",
   "execution_count": null,
   "id": "238aa818",
   "metadata": {},
   "outputs": [],
   "source": [
    "sac_1_features = sac_1_df.groupby('QuestionKey').agg({\n",
    "    'Saccade Duration': ['count','mean','sum'],\n",
    "    'Saccade Amplitude': ['mean','max'],\n",
    "    'Saccade Peak Velocity': ['mean','max'],\n",
    "    'Saccade Peak Acceleration': ['mean'],\n",
    "    'Saccade Peak Deceleration': ['mean'],\n",
    "    'Saccade Direction': ['var']   # direction variance\n",
    "})"
   ]
  },
  {
   "cell_type": "code",
   "execution_count": null,
   "id": "eead19cc",
   "metadata": {},
   "outputs": [],
   "source": [
    "sac_1_features.columns = ['sac_count','sac_mean_dur','sac_total_time',\n",
    "                        'sac_amp_mean','sac_amp_max',\n",
    "                        'sac_vel_mean','sac_vel_max',\n",
    "                        'sac_acc_mean','sac_dec_mean','sac_dir_var']"
   ]
  },
  {
   "cell_type": "code",
   "execution_count": null,
   "id": "babbd742",
   "metadata": {},
   "outputs": [],
   "source": [
    "sac_1_features"
   ]
  },
  {
   "cell_type": "code",
   "execution_count": null,
   "id": "c3355440",
   "metadata": {},
   "outputs": [],
   "source": [
    "ivt_1_features = fix_1_feature.join(sac_1_features, how='outer').fillna(0)"
   ]
  },
  {
   "cell_type": "code",
   "execution_count": null,
   "id": "c9e1bbf5",
   "metadata": {},
   "outputs": [],
   "source": [
    "ivt_1_features"
   ]
  },
  {
   "cell_type": "code",
   "execution_count": null,
   "id": "94ef83fe",
   "metadata": {},
   "outputs": [],
   "source": [
    "ivt_1_features['fix_sac_count_ratio'] = ivt_1_features['fix_count'] / (ivt_1_features['sac_count']+1e-5)\n",
    "ivt_1_features['fix_sac_time_ratio']  = ivt_1_features['fix_total_time'] / (ivt_1_features['sac_total_time']+1e-5)"
   ]
  },
  {
   "cell_type": "code",
   "execution_count": null,
   "id": "40c076d6",
   "metadata": {},
   "outputs": [],
   "source": [
    "ivt_1_features"
   ]
  },
  {
   "cell_type": "code",
   "execution_count": null,
   "id": "cfe0866b",
   "metadata": {},
   "outputs": [],
   "source": []
  },
  {
   "cell_type": "markdown",
   "id": "dd0dbf03",
   "metadata": {},
   "source": [
    "# Aggregation of Fixation and Saccade Features\n",
    "\n",
    "In the preceding code cells, we performed aggregation on the `fix_1_df` and `sac_1_df` DataFrames, which contain the cleaned fixation and saccade data, respectively. The goal of this aggregation was to create a summary of eye-tracking metrics for each `QuestionKey`.\n",
    "\n",
    "For fixations, we calculated:\n",
    "- Count of fixations (`fix_count`)\n",
    "- Mean, max, sum, and variance of fixation duration (`fix_mean_dur`, `fix_max_dur`, `fix_total_time`, `fix_dur_var`)\n",
    "- Mean and max of fixation dispersion (`fix_disp_mean`, `fix_disp_max`)\n",
    "- Variance of fixation X and Y coordinates (`fix_x_var`, `fix_y_var`) to represent screen spread.\n",
    "\n",
    "For saccades, we calculated:\n",
    "- Count of saccades (`sac_count`)\n",
    "- Mean and sum of saccade duration (`sac_mean_dur`, `sac_total_time`)\n",
    "- Mean and max of saccade amplitude (`sac_amp_mean`, `sac_amp_max`)\n",
    "- Mean and max of saccade peak velocity (`sac_vel_mean`, `sac_vel_max`)\n",
    "- Mean of saccade peak acceleration and deceleration (`sac_acc_mean`, `sac_dec_mean`)\n",
    "- Variance of saccade direction (`sac_dir_var`).\n",
    "\n",
    "Finally, we joined these aggregated fixation and saccade features into a single DataFrame called `ivt_1_features`, using `QuestionKey` as the index. We also filled any resulting missing values (from `QuestionKey` values that may only have fixations or saccades, but not both) with 0. This `ivt_1_features` DataFrame now provides a consolidated summary of key eye-tracking characteristics for each question, which can be used for further analysis or modeling."
   ]
  },
  {
   "cell_type": "markdown",
   "id": "0b9eaa6c",
   "metadata": {},
   "source": [
    "# **19_IVT**"
   ]
  },
  {
   "cell_type": "code",
   "execution_count": null,
   "id": "af584107",
   "metadata": {},
   "outputs": [],
   "source": [
    "df_19_IVT = pd.read_csv('data/STData/19/19_IVT.csv')"
   ]
  },
  {
   "cell_type": "code",
   "execution_count": null,
   "id": "f8392ac9",
   "metadata": {},
   "outputs": [],
   "source": [
    "df_19_IVT.head()"
   ]
  },
  {
   "cell_type": "code",
   "execution_count": null,
   "id": "59791eaf",
   "metadata": {},
   "outputs": [],
   "source": [
    "df_19_IVT.columns"
   ]
  },
  {
   "cell_type": "code",
   "execution_count": null,
   "id": "bdd11709",
   "metadata": {},
   "outputs": [],
   "source": [
    "df_19_IVT.shape"
   ]
  },
  {
   "cell_type": "code",
   "execution_count": null,
   "id": "d0db59b7",
   "metadata": {},
   "outputs": [],
   "source": [
    "df_19_IVT.info()"
   ]
  },
  {
   "cell_type": "code",
   "execution_count": null,
   "id": "718b168d",
   "metadata": {},
   "outputs": [],
   "source": [
    "df_19_IVT.isnull().sum()"
   ]
  },
  {
   "cell_type": "code",
   "execution_count": null,
   "id": "82eec0b8",
   "metadata": {},
   "outputs": [],
   "source": [
    "plt.figure(figsize=(14,10))\n",
    "sns.heatmap(df_19_IVT.isnull(), cmap='viridis')\n",
    "plt.show()"
   ]
  },
  {
   "cell_type": "markdown",
   "id": "52b295a4",
   "metadata": {},
   "source": [
    "# Notes & Observations\n",
    "\n",
    "- We observe many **null** (or missing) values in the `QuestionKey` columns.\n",
    "- The nulls in the `QuestionKey` column may not represent “true” nulls. Rather, they follow interval patterns, suggesting that during those periods no question was displayed.\n",
    "- These missing values in `QuestionKey` require additional investigation and context-aware handling."
   ]
  },
  {
   "cell_type": "code",
   "execution_count": null,
   "id": "85cacc87",
   "metadata": {},
   "outputs": [],
   "source": [
    "df_19_IVT['QuestionKey'].unique()"
   ]
  },
  {
   "cell_type": "code",
   "execution_count": null,
   "id": "ef6408dc",
   "metadata": {},
   "outputs": [],
   "source": [
    "df_19_IVT['Timestamp'] = pd.to_datetime(df_19_IVT['Timestamp'])"
   ]
  },
  {
   "cell_type": "code",
   "execution_count": null,
   "id": "6f989262",
   "metadata": {},
   "outputs": [],
   "source": [
    "df_19_IVT.head(3)"
   ]
  },
  {
   "cell_type": "code",
   "execution_count": null,
   "id": "453af942",
   "metadata": {},
   "outputs": [],
   "source": [
    "df_19_IVT['QuestionKey'].fillna('None', inplace=True)"
   ]
  },
  {
   "cell_type": "code",
   "execution_count": null,
   "id": "932d4523",
   "metadata": {},
   "outputs": [],
   "source": [
    "df_19_IVT['QuestionKey'].value_counts()"
   ]
  },
  {
   "cell_type": "code",
   "execution_count": null,
   "id": "1c6619ca",
   "metadata": {},
   "outputs": [],
   "source": [
    "plt.figure(figsize=(14,10))\n",
    "sns.heatmap(df_19_IVT.isnull(), cmap='viridis')\n",
    "plt.show()"
   ]
  },
  {
   "cell_type": "code",
   "execution_count": null,
   "id": "c89e1a9a",
   "metadata": {},
   "outputs": [],
   "source": [
    "df_19_IVT.isnull().sum()"
   ]
  },
  {
   "cell_type": "code",
   "execution_count": null,
   "id": "63cd67cd",
   "metadata": {},
   "outputs": [],
   "source": [
    "df_19_IVT.head()"
   ]
  },
  {
   "cell_type": "code",
   "execution_count": null,
   "id": "c5dddc13",
   "metadata": {},
   "outputs": [],
   "source": [
    "df_19_IVT['Row'].unique()"
   ]
  },
  {
   "cell_type": "code",
   "execution_count": null,
   "id": "3628e107",
   "metadata": {},
   "outputs": [],
   "source": [
    "plt.figure(figsize=(8,6))\n",
    "sns.histplot(df_19_IVT['Row'])\n",
    "plt.show()"
   ]
  },
  {
   "cell_type": "markdown",
   "id": "146eb680",
   "metadata": {},
   "source": [
    "# Notes & Observations\n",
    "\n",
    "- The `Row` column appears to be a simple row index and does not provide meaningful information relevant to the eye-tracking data itself. Therefore, it can be dropped."
   ]
  },
  {
   "cell_type": "code",
   "execution_count": null,
   "id": "df3571ec",
   "metadata": {},
   "outputs": [],
   "source": [
    "df_19_IVT.drop('Row', axis=1, inplace=True)"
   ]
  },
  {
   "cell_type": "code",
   "execution_count": null,
   "id": "f6236bc0",
   "metadata": {},
   "outputs": [],
   "source": [
    "fig, axes = plt.subplots(1, 2, figsize=(20, 10))\n",
    "\n",
    "sns.scatterplot(data=df_19_IVT, x='Gaze X', y='Gaze Y', ax=axes[0])\n",
    "axes[0].set_title('Gaze X vs Gaze Y')\n",
    "\n",
    "sns.scatterplot(data=df_19_IVT, x='Interpolated Gaze X', y='Interpolated Gaze Y', ax=axes[1])\n",
    "axes[1].set_title('Interpolated Gaze X vs Interpolated Gaze Y')\n",
    "\n",
    "plt.tight_layout()\n",
    "plt.show()"
   ]
  },
  {
   "cell_type": "markdown",
   "id": "0c29618c",
   "metadata": {},
   "source": [
    "# Gaze and Interpolated Gaze Scatter Plots\n",
    "\n",
    "The scatter plots above visualize the relationship between the x and y coordinates of both the raw gaze data and the interpolated gaze data.\n",
    "\n",
    "- **Gaze X vs Gaze Y:** This plot shows the raw gaze coordinates. The scattered points indicate the locations on the screen where the participant was looking. The density of points in certain areas might suggest regions of interest.\n",
    "- **Interpolated Gaze X vs Interpolated Gaze Y:** This plot shows the interpolated gaze coordinates. Interpolation is often used to fill in gaps in the raw gaze data, providing a smoother representation of the gaze path. Comparing this plot to the raw gaze plot can show the effect of the interpolation process.\n",
    "\n",
    "Both plots can help in understanding the distribution of gaze points across the screen and identifying potential patterns or biases in eye movements."
   ]
  },
  {
   "cell_type": "code",
   "execution_count": null,
   "id": "aea02005",
   "metadata": {},
   "outputs": [],
   "source": [
    "df_19_IVT.describe()"
   ]
  },
  {
   "cell_type": "code",
   "execution_count": null,
   "id": "4802af46",
   "metadata": {},
   "outputs": [],
   "source": [
    "df_19_IVT.head(3)"
   ]
  },
  {
   "cell_type": "code",
   "execution_count": null,
   "id": "9b3f368f",
   "metadata": {},
   "outputs": [],
   "source": [
    "df_19_IVT['Timestamp'] = pd.to_datetime(df_19_IVT['Timestamp'])"
   ]
  },
  {
   "cell_type": "code",
   "execution_count": null,
   "id": "9c3176b7",
   "metadata": {},
   "outputs": [],
   "source": [
    "df_19_IVT.columns"
   ]
  },
  {
   "cell_type": "code",
   "execution_count": null,
   "id": "512b1afe",
   "metadata": {},
   "outputs": [],
   "source": [
    "cols = ['Gaze X', 'Gaze Y',\n",
    "       'Interpolated Gaze X', 'Interpolated Gaze Y', 'Interpolated Distance',\n",
    "       'Gaze Velocity', 'Gaze Acceleration', 'Fixation Index',\n",
    "       'Fixation Index by Stimulus', 'Fixation X', 'Fixation Y',\n",
    "       'Fixation Start', 'Fixation End', 'Fixation Duration',\n",
    "       'Fixation Dispersion', 'Saccade Index', 'Saccade Index by Stimulus',\n",
    "       'Saccade Start', 'Saccade End', 'Saccade Duration', 'Saccade Amplitude',\n",
    "       'Saccade Peak Velocity', 'Saccade Peak Acceleration',\n",
    "       'Saccade Peak Deceleration', 'Saccade Direction']"
   ]
  },
  {
   "cell_type": "code",
   "execution_count": null,
   "id": "2e8af9b6",
   "metadata": {},
   "outputs": [],
   "source": [
    "from IPython.display import display, Markdown\n",
    "\n",
    "for col in cols:\n",
    "    # Add a markdown cell before each plot for better separation and labeling\n",
    "    display(Markdown(f'### {col} over Time'))\n",
    "    plt.figure(figsize=(16, 10))\n",
    "    sns.lineplot(x=df_19_IVT['Timestamp'], y=df_19_IVT[col])\n",
    "    plt.xlabel(\"Timestamp\") # Add x-axis label\n",
    "    plt.ylabel(col) # Add y-axis label\n",
    "    plt.show()"
   ]
  },
  {
   "cell_type": "code",
   "execution_count": null,
   "id": "7b6e1502",
   "metadata": {},
   "outputs": [],
   "source": [
    "df_19_IVT.head()"
   ]
  },
  {
   "cell_type": "code",
   "execution_count": null,
   "id": "d3b688c3",
   "metadata": {},
   "outputs": [],
   "source": [
    "plt.figure(figsize=(14,10))\n",
    "sns.heatmap(df_19_IVT[['Fixation Index', 'Fixation Index by Stimulus', 'Saccade Index', 'Saccade Index by Stimulus']].isnull(), cmap='viridis')\n",
    "plt.show()"
   ]
  },
  {
   "cell_type": "markdown",
   "id": "a6452688",
   "metadata": {},
   "source": [
    "# Observation\n",
    "\n",
    "The `Fixation Index`, `Fixation Index by Stimulus`, `Saccade Index` and `Saccade Index by Stimulus` columns are essentially just sequence numbers for identified events. While they indicate the order of fixations and saccades, they don't provide meaningful features for a machine learning model attempting to predict or classify eye movement patterns. Therefore, we will drop these columns as they are not useful for model building."
   ]
  },
  {
   "cell_type": "code",
   "execution_count": null,
   "id": "3a2f70ac",
   "metadata": {},
   "outputs": [],
   "source": [
    "df_19_IVT.drop(['Fixation Index', 'Fixation Index by Stimulus', 'Saccade Index', 'Saccade Index by Stimulus'], axis=1, inplace=True)"
   ]
  },
  {
   "cell_type": "code",
   "execution_count": null,
   "id": "b343c6be",
   "metadata": {},
   "outputs": [],
   "source": [
    "plt.figure(figsize=(14,10))\n",
    "sns.scatterplot(data=df_19_IVT, x='Fixation X', y='Fixation Y')\n",
    "plt.title('Fixation X vs Fixation Y')\n",
    "plt.show()"
   ]
  },
  {
   "cell_type": "code",
   "execution_count": null,
   "id": "86b67ee6",
   "metadata": {},
   "outputs": [],
   "source": [
    "df_19_IVT['Fixation Start'].describe()"
   ]
  },
  {
   "cell_type": "code",
   "execution_count": null,
   "id": "234fff16",
   "metadata": {},
   "outputs": [],
   "source": [
    "fig, axes = plt.subplots(1, 2, figsize=(20, 8))\n",
    "\n",
    "sns.histplot(df_19_IVT['Fixation Start'], bins=100, kde=True, ax=axes[0])\n",
    "axes[0].set_xlabel('Fixation Start')\n",
    "axes[0].set_ylabel('Frequency')\n",
    "axes[0].set_title('Distribution of Fixation Start')\n",
    "\n",
    "sns.histplot(df_19_IVT['Fixation End'], bins=100, kde=True, ax=axes[1])\n",
    "axes[1].set_xlabel('Fixation End')\n",
    "axes[1].set_ylabel('Frequency')\n",
    "axes[1].set_title('Distribution of Fixation End')\n",
    "\n",
    "plt.tight_layout()\n",
    "plt.show()"
   ]
  },
  {
   "cell_type": "code",
   "execution_count": null,
   "id": "fe5fae31",
   "metadata": {},
   "outputs": [],
   "source": [
    "fig, axes = plt.subplots(1, 2, figsize=(20, 8))\n",
    "\n",
    "sns.histplot(df_19_IVT['Saccade Start'], bins=100, kde=True, ax=axes[0])\n",
    "axes[0].set_xlabel('Saccade Start')\n",
    "axes[0].set_ylabel('Frequency')\n",
    "axes[0].set_title('Distribution of Saccade Start')\n",
    "\n",
    "sns.histplot(df_19_IVT['Saccade End'], bins=100, kde=True, ax=axes[1])\n",
    "axes[1].set_xlabel('Saccade End')\n",
    "axes[1].set_ylabel('Frequency')\n",
    "axes[1].set_title('Distribution of Saccade End')\n",
    "\n",
    "plt.tight_layout()\n",
    "plt.show()"
   ]
  },
  {
   "cell_type": "markdown",
   "id": "4a0f4231",
   "metadata": {},
   "source": [
    "# Observation on Fixation and Saccade Timestamps\n",
    "\n",
    "Upon examining the time series plots of 'Fixation Start', 'Fixation End', `Saccade Start`, and `Saccade End` against the `Timestamp`, we observe a clear linear, diagonal pattern. This indicates that these values are largely sequential and directly related to the progress of time in the data recording.\n",
    "\n",
    "Furthermore, the histograms of these features show distributions that, while informative about the timing of events, don't necessarily reveal complex patterns that would be highly predictive for a machine learning model.\n",
    "\n",
    "Crucially, the dataset already contains `Fixation Duration` and `Saccade Duration` columns. These duration features capture the length of each event, which is often a more directly relevant metric for understanding eye movement behavior than the absolute start and end times. Since the duration can be derived from the start and end times (Duration = End - Start), the start and end time columns introduce redundancy and do not provide substantial additional, independent information for modeling purposes.\n",
    "\n",
    "Therefore, to simplify the dataset and focus on the most informative features for potential machine movement analysis or modeling, we will drop the `Fixation Start`, `Fixation End`, `Saccade Start`, and `Saccade End` columns."
   ]
  },
  {
   "cell_type": "code",
   "execution_count": null,
   "id": "a859b9bf",
   "metadata": {},
   "outputs": [],
   "source": [
    "df_19_IVT.drop(['Fixation Start', 'Fixation End', 'Saccade Start', 'Saccade End'], axis=1, inplace=True)"
   ]
  },
  {
   "cell_type": "code",
   "execution_count": null,
   "id": "64d1518e",
   "metadata": {},
   "outputs": [],
   "source": [
    "df_19_IVT.head()"
   ]
  },
  {
   "cell_type": "code",
   "execution_count": null,
   "id": "4563c8a1",
   "metadata": {},
   "outputs": [],
   "source": [
    "plt.figure(figsize=(12, 8))\n",
    "sns.heatmap(df_19_IVT[['Gaze X', 'Gaze Y', 'Interpolated Gaze X', 'Interpolated Gaze Y']].isnull(), cmap='viridis')\n",
    "plt.show()\n"
   ]
  },
  {
   "cell_type": "code",
   "execution_count": null,
   "id": "8d1e49f6",
   "metadata": {},
   "outputs": [],
   "source": []
  },
  {
   "cell_type": "markdown",
   "id": "c7077fb3",
   "metadata": {},
   "source": [
    "# Observations on Gaze and Interpolated Gaze Data\n",
    "\n",
    "Based on the scatter plots of 'Gaze X' vs 'Gaze Y' and 'Interpolated Gaze X' vs 'Interpolated Gaze Y', we observe that the distributions of the raw and interpolated gaze points appear very similar. The spatial patterns of where the participant was looking are consistent between the two sets of coordinates.\n",
    "\n",
    "Furthermore, the heatmap of null values for these columns ('Gaze X', 'Gaze Y', 'Interpolated Gaze X', 'Interpolated Gaze Y') reveals that the missing values are present in the same rows for both the raw and interpolated gaze coordinates. This suggests that the interpolation process did not fill in the gaps in the raw gaze data for these specific instances.\n",
    "\n",
    "Given that the interpolated gaze data shows the same spatial distribution and the same pattern of null values as the raw gaze data, it appears that the interpolation did not significantly alter or complete the data in this case. Therefore, keeping both the raw and interpolated gaze columns might be redundant, and one set could potentially be dropped to simplify the dataset without losing significant information."
   ]
  },
  {
   "cell_type": "code",
   "execution_count": null,
   "id": "9c8290b8",
   "metadata": {},
   "outputs": [],
   "source": [
    "df_19_IVT.drop(['Interpolated Gaze X', 'Interpolated Gaze Y'], axis=1, inplace=True)"
   ]
  },
  {
   "cell_type": "code",
   "execution_count": null,
   "id": "65fca351",
   "metadata": {},
   "outputs": [],
   "source": [
    "df_19_IVT.head()"
   ]
  },
  {
   "cell_type": "code",
   "execution_count": null,
   "id": "622529c3",
   "metadata": {},
   "outputs": [],
   "source": [
    "plt.figure(figsize=(12, 8))\n",
    "sns.heatmap(df_19_IVT.isnull(), cmap='viridis')\n",
    "plt.show()"
   ]
  },
  {
   "cell_type": "code",
   "execution_count": null,
   "id": "039ba2b2",
   "metadata": {},
   "outputs": [],
   "source": [
    "df_19_IVT.columns"
   ]
  },
  {
   "cell_type": "code",
   "execution_count": null,
   "id": "6a8e63dd",
   "metadata": {},
   "outputs": [],
   "source": [
    "fix_1_df = df_19_IVT.dropna(subset=['Fixation Duration'])\n",
    "sac_1_df = df_19_IVT.dropna(subset=['Saccade Duration'])"
   ]
  },
  {
   "cell_type": "code",
   "execution_count": null,
   "id": "147b1ef0",
   "metadata": {},
   "outputs": [],
   "source": [
    "fix_1_df.shape"
   ]
  },
  {
   "cell_type": "code",
   "execution_count": null,
   "id": "f5bed41d",
   "metadata": {},
   "outputs": [],
   "source": [
    "sac_1_df.shape"
   ]
  },
  {
   "cell_type": "code",
   "execution_count": null,
   "id": "bc554876",
   "metadata": {},
   "outputs": [],
   "source": [
    "fix_1_feature = fix_1_df.groupby('QuestionKey').agg({\n",
    "    'Fixation Duration': ['count','mean','max','sum','var'],\n",
    "    'Fixation Dispersion': ['mean','max'],\n",
    "    'Fixation X': ['var'],   # screen spread X\n",
    "    'Fixation Y': ['var']    # screen spread Y\n",
    "})"
   ]
  },
  {
   "cell_type": "code",
   "execution_count": null,
   "id": "419c9202",
   "metadata": {},
   "outputs": [],
   "source": [
    "fix_1_feature.columns = ['fix_count','fix_mean_dur','fix_max_dur','fix_total_time',\n",
    "                        'fix_dur_var','fix_disp_mean','fix_disp_max',\n",
    "                        'fix_x_var','fix_y_var']"
   ]
  },
  {
   "cell_type": "code",
   "execution_count": null,
   "id": "949dc6ea",
   "metadata": {},
   "outputs": [],
   "source": [
    "fix_1_feature"
   ]
  },
  {
   "cell_type": "code",
   "execution_count": null,
   "id": "0cf7c1ef",
   "metadata": {},
   "outputs": [],
   "source": [
    "sac_1_features = sac_1_df.groupby('QuestionKey').agg({\n",
    "    'Saccade Duration': ['count','mean','sum'],\n",
    "    'Saccade Amplitude': ['mean','max'],\n",
    "    'Saccade Peak Velocity': ['mean','max'],\n",
    "    'Saccade Peak Acceleration': ['mean'],\n",
    "    'Saccade Peak Deceleration': ['mean'],\n",
    "    'Saccade Direction': ['var']   # direction variance\n",
    "})"
   ]
  },
  {
   "cell_type": "code",
   "execution_count": null,
   "id": "361d85b9",
   "metadata": {},
   "outputs": [],
   "source": [
    "sac_1_features.columns = ['sac_count','sac_mean_dur','sac_total_time',\n",
    "                        'sac_amp_mean','sac_amp_max',\n",
    "                        'sac_vel_mean','sac_vel_max',\n",
    "                        'sac_acc_mean','sac_dec_mean','sac_dir_var']"
   ]
  },
  {
   "cell_type": "code",
   "execution_count": null,
   "id": "52188f2d",
   "metadata": {},
   "outputs": [],
   "source": [
    "sac_1_features"
   ]
  },
  {
   "cell_type": "code",
   "execution_count": null,
   "id": "dead33ba",
   "metadata": {},
   "outputs": [],
   "source": [
    "ivt_1_features = fix_1_feature.join(sac_1_features, how='outer').fillna(0)"
   ]
  },
  {
   "cell_type": "code",
   "execution_count": null,
   "id": "fe15c53d",
   "metadata": {},
   "outputs": [],
   "source": [
    "ivt_1_features"
   ]
  },
  {
   "cell_type": "code",
   "execution_count": null,
   "id": "7f0c005b",
   "metadata": {},
   "outputs": [],
   "source": [
    "ivt_1_features['fix_sac_count_ratio'] = ivt_1_features['fix_count'] / (ivt_1_features['sac_count']+1e-5)\n",
    "ivt_1_features['fix_sac_time_ratio']  = ivt_1_features['fix_total_time'] / (ivt_1_features['sac_total_time']+1e-5)"
   ]
  },
  {
   "cell_type": "code",
   "execution_count": null,
   "id": "3034d301",
   "metadata": {},
   "outputs": [],
   "source": [
    "ivt_1_features"
   ]
  },
  {
   "cell_type": "code",
   "execution_count": null,
   "id": "add8d1f8",
   "metadata": {},
   "outputs": [],
   "source": []
  },
  {
   "cell_type": "markdown",
   "id": "0fc45c81",
   "metadata": {},
   "source": [
    "# Aggregation of Fixation and Saccade Features\n",
    "\n",
    "In the preceding code cells, we performed aggregation on the `fix_1_df` and `sac_1_df` DataFrames, which contain the cleaned fixation and saccade data, respectively. The goal of this aggregation was to create a summary of eye-tracking metrics for each `QuestionKey`.\n",
    "\n",
    "For fixations, we calculated:\n",
    "- Count of fixations (`fix_count`)\n",
    "- Mean, max, sum, and variance of fixation duration (`fix_mean_dur`, `fix_max_dur`, `fix_total_time`, `fix_dur_var`)\n",
    "- Mean and max of fixation dispersion (`fix_disp_mean`, `fix_disp_max`)\n",
    "- Variance of fixation X and Y coordinates (`fix_x_var`, `fix_y_var`) to represent screen spread.\n",
    "\n",
    "For saccades, we calculated:\n",
    "- Count of saccades (`sac_count`)\n",
    "- Mean and sum of saccade duration (`sac_mean_dur`, `sac_total_time`)\n",
    "- Mean and max of saccade amplitude (`sac_amp_mean`, `sac_amp_max`)\n",
    "- Mean and max of saccade peak velocity (`sac_vel_mean`, `sac_vel_max`)\n",
    "- Mean of saccade peak acceleration and deceleration (`sac_acc_mean`, `sac_dec_mean`)\n",
    "- Variance of saccade direction (`sac_dir_var`).\n",
    "\n",
    "Finally, we joined these aggregated fixation and saccade features into a single DataFrame called `ivt_1_features`, using `QuestionKey` as the index. We also filled any resulting missing values (from `QuestionKey` values that may only have fixations or saccades, but not both) with 0. This `ivt_1_features` DataFrame now provides a consolidated summary of key eye-tracking characteristics for each question, which can be used for further analysis or modeling."
   ]
  },
  {
   "cell_type": "markdown",
   "id": "6b3d3824",
   "metadata": {},
   "source": [
    "# **20_IVT**"
   ]
  },
  {
   "cell_type": "code",
   "execution_count": null,
   "id": "f643373e",
   "metadata": {},
   "outputs": [],
   "source": [
    "df_20_IVT = pd.read_csv('data/STData/20/20_IVT.csv')"
   ]
  },
  {
   "cell_type": "code",
   "execution_count": null,
   "id": "5cf0c438",
   "metadata": {},
   "outputs": [],
   "source": [
    "df_20_IVT.head()"
   ]
  },
  {
   "cell_type": "code",
   "execution_count": null,
   "id": "a1d570af",
   "metadata": {},
   "outputs": [],
   "source": [
    "df_20_IVT.columns"
   ]
  },
  {
   "cell_type": "code",
   "execution_count": null,
   "id": "60f01fe3",
   "metadata": {},
   "outputs": [],
   "source": [
    "df_20_IVT.shape"
   ]
  },
  {
   "cell_type": "code",
   "execution_count": null,
   "id": "b925cb5c",
   "metadata": {},
   "outputs": [],
   "source": [
    "df_20_IVT.info()"
   ]
  },
  {
   "cell_type": "code",
   "execution_count": null,
   "id": "1a2a4532",
   "metadata": {},
   "outputs": [],
   "source": [
    "df_20_IVT.isnull().sum()"
   ]
  },
  {
   "cell_type": "code",
   "execution_count": null,
   "id": "419158b2",
   "metadata": {},
   "outputs": [],
   "source": [
    "plt.figure(figsize=(14,10))\n",
    "sns.heatmap(df_20_IVT.isnull(), cmap='viridis')\n",
    "plt.show()"
   ]
  },
  {
   "cell_type": "markdown",
   "id": "901ef007",
   "metadata": {},
   "source": [
    "# Notes & Observations\n",
    "\n",
    "- We observe many **null** (or missing) values in the `QuestionKey` columns.\n",
    "- The nulls in the `QuestionKey` column may not represent “true” nulls. Rather, they follow interval patterns, suggesting that during those periods no question was displayed.\n",
    "- These missing values in `QuestionKey` require additional investigation and context-aware handling."
   ]
  },
  {
   "cell_type": "code",
   "execution_count": null,
   "id": "f959d3f5",
   "metadata": {},
   "outputs": [],
   "source": [
    "df_20_IVT['QuestionKey'].unique()"
   ]
  },
  {
   "cell_type": "code",
   "execution_count": null,
   "id": "64553bfd",
   "metadata": {},
   "outputs": [],
   "source": [
    "df_20_IVT['Timestamp'] = pd.to_datetime(df_20_IVT['Timestamp'])"
   ]
  },
  {
   "cell_type": "code",
   "execution_count": null,
   "id": "eadd03c1",
   "metadata": {},
   "outputs": [],
   "source": [
    "df_20_IVT.head(3)"
   ]
  },
  {
   "cell_type": "code",
   "execution_count": null,
   "id": "0c6172dc",
   "metadata": {},
   "outputs": [],
   "source": [
    "df_20_IVT['QuestionKey'].fillna('None', inplace=True)"
   ]
  },
  {
   "cell_type": "code",
   "execution_count": null,
   "id": "36b637ba",
   "metadata": {},
   "outputs": [],
   "source": [
    "df_20_IVT['QuestionKey'].value_counts()"
   ]
  },
  {
   "cell_type": "code",
   "execution_count": null,
   "id": "a14a6cf0",
   "metadata": {},
   "outputs": [],
   "source": [
    "plt.figure(figsize=(14,10))\n",
    "sns.heatmap(df_20_IVT.isnull(), cmap='viridis')\n",
    "plt.show()"
   ]
  },
  {
   "cell_type": "code",
   "execution_count": null,
   "id": "d4a4341c",
   "metadata": {},
   "outputs": [],
   "source": [
    "df_20_IVT.isnull().sum()"
   ]
  },
  {
   "cell_type": "code",
   "execution_count": null,
   "id": "80a80c80",
   "metadata": {},
   "outputs": [],
   "source": [
    "df_20_IVT.head()"
   ]
  },
  {
   "cell_type": "code",
   "execution_count": null,
   "id": "845b90cc",
   "metadata": {},
   "outputs": [],
   "source": [
    "df_20_IVT['Row'].unique()"
   ]
  },
  {
   "cell_type": "code",
   "execution_count": null,
   "id": "bad32aa6",
   "metadata": {},
   "outputs": [],
   "source": [
    "plt.figure(figsize=(8,6))\n",
    "sns.histplot(df_20_IVT['Row'])\n",
    "plt.show()"
   ]
  },
  {
   "cell_type": "markdown",
   "id": "5df44877",
   "metadata": {},
   "source": [
    "# Notes & Observations\n",
    "\n",
    "- The `Row` column appears to be a simple row index and does not provide meaningful information relevant to the eye-tracking data itself. Therefore, it can be dropped."
   ]
  },
  {
   "cell_type": "code",
   "execution_count": null,
   "id": "b9d87939",
   "metadata": {},
   "outputs": [],
   "source": [
    "df_20_IVT.drop('Row', axis=1, inplace=True)"
   ]
  },
  {
   "cell_type": "code",
   "execution_count": null,
   "id": "660acf3c",
   "metadata": {},
   "outputs": [],
   "source": [
    "fig, axes = plt.subplots(1, 2, figsize=(20, 10))\n",
    "\n",
    "sns.scatterplot(data=df_20_IVT, x='Gaze X', y='Gaze Y', ax=axes[0])\n",
    "axes[0].set_title('Gaze X vs Gaze Y')\n",
    "\n",
    "sns.scatterplot(data=df_20_IVT, x='Interpolated Gaze X', y='Interpolated Gaze Y', ax=axes[1])\n",
    "axes[1].set_title('Interpolated Gaze X vs Interpolated Gaze Y')\n",
    "\n",
    "plt.tight_layout()\n",
    "plt.show()"
   ]
  },
  {
   "cell_type": "markdown",
   "id": "43080a23",
   "metadata": {},
   "source": [
    "# Gaze and Interpolated Gaze Scatter Plots\n",
    "\n",
    "The scatter plots above visualize the relationship between the x and y coordinates of both the raw gaze data and the interpolated gaze data.\n",
    "\n",
    "- **Gaze X vs Gaze Y:** This plot shows the raw gaze coordinates. The scattered points indicate the locations on the screen where the participant was looking. The density of points in certain areas might suggest regions of interest.\n",
    "- **Interpolated Gaze X vs Interpolated Gaze Y:** This plot shows the interpolated gaze coordinates. Interpolation is often used to fill in gaps in the raw gaze data, providing a smoother representation of the gaze path. Comparing this plot to the raw gaze plot can show the effect of the interpolation process.\n",
    "\n",
    "Both plots can help in understanding the distribution of gaze points across the screen and identifying potential patterns or biases in eye movements."
   ]
  },
  {
   "cell_type": "code",
   "execution_count": null,
   "id": "15a58059",
   "metadata": {},
   "outputs": [],
   "source": [
    "df_20_IVT.describe()"
   ]
  },
  {
   "cell_type": "code",
   "execution_count": null,
   "id": "937e13de",
   "metadata": {},
   "outputs": [],
   "source": [
    "df_20_IVT.head(3)"
   ]
  },
  {
   "cell_type": "code",
   "execution_count": null,
   "id": "ecfa8649",
   "metadata": {},
   "outputs": [],
   "source": [
    "df_20_IVT['Timestamp'] = pd.to_datetime(df_20_IVT['Timestamp'])"
   ]
  },
  {
   "cell_type": "code",
   "execution_count": null,
   "id": "6a69ba2f",
   "metadata": {},
   "outputs": [],
   "source": [
    "df_20_IVT.columns"
   ]
  },
  {
   "cell_type": "code",
   "execution_count": null,
   "id": "5cf4703c",
   "metadata": {},
   "outputs": [],
   "source": [
    "cols = ['Gaze X', 'Gaze Y',\n",
    "       'Interpolated Gaze X', 'Interpolated Gaze Y', 'Interpolated Distance',\n",
    "       'Gaze Velocity', 'Gaze Acceleration', 'Fixation Index',\n",
    "       'Fixation Index by Stimulus', 'Fixation X', 'Fixation Y',\n",
    "       'Fixation Start', 'Fixation End', 'Fixation Duration',\n",
    "       'Fixation Dispersion', 'Saccade Index', 'Saccade Index by Stimulus',\n",
    "       'Saccade Start', 'Saccade End', 'Saccade Duration', 'Saccade Amplitude',\n",
    "       'Saccade Peak Velocity', 'Saccade Peak Acceleration',\n",
    "       'Saccade Peak Deceleration', 'Saccade Direction']"
   ]
  },
  {
   "cell_type": "code",
   "execution_count": null,
   "id": "b725c1b1",
   "metadata": {},
   "outputs": [],
   "source": [
    "from IPython.display import display, Markdown\n",
    "\n",
    "for col in cols:\n",
    "    # Add a markdown cell before each plot for better separation and labeling\n",
    "    display(Markdown(f'### {col} over Time'))\n",
    "    plt.figure(figsize=(16, 10))\n",
    "    sns.lineplot(x=df_20_IVT['Timestamp'], y=df_20_IVT[col])\n",
    "    plt.xlabel(\"Timestamp\") # Add x-axis label\n",
    "    plt.ylabel(col) # Add y-axis label\n",
    "    plt.show()"
   ]
  },
  {
   "cell_type": "code",
   "execution_count": null,
   "id": "25df9b33",
   "metadata": {},
   "outputs": [],
   "source": [
    "df_20_IVT.head()"
   ]
  },
  {
   "cell_type": "code",
   "execution_count": null,
   "id": "6f3d4e9e",
   "metadata": {},
   "outputs": [],
   "source": [
    "plt.figure(figsize=(14,10))\n",
    "sns.heatmap(df_20_IVT[['Fixation Index', 'Fixation Index by Stimulus', 'Saccade Index', 'Saccade Index by Stimulus']].isnull(), cmap='viridis')\n",
    "plt.show()"
   ]
  },
  {
   "cell_type": "markdown",
   "id": "1330e32b",
   "metadata": {},
   "source": [
    "# Observation\n",
    "\n",
    "The `Fixation Index`, `Fixation Index by Stimulus`, `Saccade Index` and `Saccade Index by Stimulus` columns are essentially just sequence numbers for identified events. While they indicate the order of fixations and saccades, they don't provide meaningful features for a machine learning model attempting to predict or classify eye movement patterns. Therefore, we will drop these columns as they are not useful for model building."
   ]
  },
  {
   "cell_type": "code",
   "execution_count": null,
   "id": "0f94fc40",
   "metadata": {},
   "outputs": [],
   "source": [
    "df_20_IVT.drop(['Fixation Index', 'Fixation Index by Stimulus', 'Saccade Index', 'Saccade Index by Stimulus'], axis=1, inplace=True)"
   ]
  },
  {
   "cell_type": "code",
   "execution_count": null,
   "id": "3d13a137",
   "metadata": {},
   "outputs": [],
   "source": [
    "plt.figure(figsize=(14,10))\n",
    "sns.scatterplot(data=df_20_IVT, x='Fixation X', y='Fixation Y')\n",
    "plt.title('Fixation X vs Fixation Y')\n",
    "plt.show()"
   ]
  },
  {
   "cell_type": "code",
   "execution_count": null,
   "id": "09c02206",
   "metadata": {},
   "outputs": [],
   "source": [
    "df_20_IVT['Fixation Start'].describe()"
   ]
  },
  {
   "cell_type": "code",
   "execution_count": null,
   "id": "5389f9f6",
   "metadata": {},
   "outputs": [],
   "source": [
    "fig, axes = plt.subplots(1, 2, figsize=(20, 8))\n",
    "\n",
    "sns.histplot(df_20_IVT['Fixation Start'], bins=100, kde=True, ax=axes[0])\n",
    "axes[0].set_xlabel('Fixation Start')\n",
    "axes[0].set_ylabel('Frequency')\n",
    "axes[0].set_title('Distribution of Fixation Start')\n",
    "\n",
    "sns.histplot(df_20_IVT['Fixation End'], bins=100, kde=True, ax=axes[1])\n",
    "axes[1].set_xlabel('Fixation End')\n",
    "axes[1].set_ylabel('Frequency')\n",
    "axes[1].set_title('Distribution of Fixation End')\n",
    "\n",
    "plt.tight_layout()\n",
    "plt.show()"
   ]
  },
  {
   "cell_type": "code",
   "execution_count": null,
   "id": "90a3d805",
   "metadata": {},
   "outputs": [],
   "source": [
    "fig, axes = plt.subplots(1, 2, figsize=(20, 8))\n",
    "\n",
    "sns.histplot(df_20_IVT['Saccade Start'], bins=100, kde=True, ax=axes[0])\n",
    "axes[0].set_xlabel('Saccade Start')\n",
    "axes[0].set_ylabel('Frequency')\n",
    "axes[0].set_title('Distribution of Saccade Start')\n",
    "\n",
    "sns.histplot(df_20_IVT['Saccade End'], bins=100, kde=True, ax=axes[1])\n",
    "axes[1].set_xlabel('Saccade End')\n",
    "axes[1].set_ylabel('Frequency')\n",
    "axes[1].set_title('Distribution of Saccade End')\n",
    "\n",
    "plt.tight_layout()\n",
    "plt.show()"
   ]
  },
  {
   "cell_type": "markdown",
   "id": "cee6b64e",
   "metadata": {},
   "source": [
    "# Observation on Fixation and Saccade Timestamps\n",
    "\n",
    "Upon examining the time series plots of 'Fixation Start', 'Fixation End', `Saccade Start`, and `Saccade End` against the `Timestamp`, we observe a clear linear, diagonal pattern. This indicates that these values are largely sequential and directly related to the progress of time in the data recording.\n",
    "\n",
    "Furthermore, the histograms of these features show distributions that, while informative about the timing of events, don't necessarily reveal complex patterns that would be highly predictive for a machine learning model.\n",
    "\n",
    "Crucially, the dataset already contains `Fixation Duration` and `Saccade Duration` columns. These duration features capture the length of each event, which is often a more directly relevant metric for understanding eye movement behavior than the absolute start and end times. Since the duration can be derived from the start and end times (Duration = End - Start), the start and end time columns introduce redundancy and do not provide substantial additional, independent information for modeling purposes.\n",
    "\n",
    "Therefore, to simplify the dataset and focus on the most informative features for potential machine movement analysis or modeling, we will drop the `Fixation Start`, `Fixation End`, `Saccade Start`, and `Saccade End` columns."
   ]
  },
  {
   "cell_type": "code",
   "execution_count": null,
   "id": "9831c89f",
   "metadata": {},
   "outputs": [],
   "source": [
    "df_20_IVT.drop(['Fixation Start', 'Fixation End', 'Saccade Start', 'Saccade End'], axis=1, inplace=True)"
   ]
  },
  {
   "cell_type": "code",
   "execution_count": null,
   "id": "05626bb2",
   "metadata": {},
   "outputs": [],
   "source": [
    "df_20_IVT.head()"
   ]
  },
  {
   "cell_type": "code",
   "execution_count": null,
   "id": "9469e9b5",
   "metadata": {},
   "outputs": [],
   "source": [
    "plt.figure(figsize=(12, 8))\n",
    "sns.heatmap(df_20_IVT[['Gaze X', 'Gaze Y', 'Interpolated Gaze X', 'Interpolated Gaze Y']].isnull(), cmap='viridis')\n",
    "plt.show()\n"
   ]
  },
  {
   "cell_type": "code",
   "execution_count": null,
   "id": "434c610c",
   "metadata": {},
   "outputs": [],
   "source": []
  },
  {
   "cell_type": "markdown",
   "id": "de2c633b",
   "metadata": {},
   "source": [
    "# Observations on Gaze and Interpolated Gaze Data\n",
    "\n",
    "Based on the scatter plots of 'Gaze X' vs 'Gaze Y' and 'Interpolated Gaze X' vs 'Interpolated Gaze Y', we observe that the distributions of the raw and interpolated gaze points appear very similar. The spatial patterns of where the participant was looking are consistent between the two sets of coordinates.\n",
    "\n",
    "Furthermore, the heatmap of null values for these columns ('Gaze X', 'Gaze Y', 'Interpolated Gaze X', 'Interpolated Gaze Y') reveals that the missing values are present in the same rows for both the raw and interpolated gaze coordinates. This suggests that the interpolation process did not fill in the gaps in the raw gaze data for these specific instances.\n",
    "\n",
    "Given that the interpolated gaze data shows the same spatial distribution and the same pattern of null values as the raw gaze data, it appears that the interpolation did not significantly alter or complete the data in this case. Therefore, keeping both the raw and interpolated gaze columns might be redundant, and one set could potentially be dropped to simplify the dataset without losing significant information."
   ]
  },
  {
   "cell_type": "code",
   "execution_count": null,
   "id": "0b035197",
   "metadata": {},
   "outputs": [],
   "source": [
    "df_20_IVT.drop(['Interpolated Gaze X', 'Interpolated Gaze Y'], axis=1, inplace=True)"
   ]
  },
  {
   "cell_type": "code",
   "execution_count": null,
   "id": "6df9bf32",
   "metadata": {},
   "outputs": [],
   "source": [
    "df_20_IVT.head()"
   ]
  },
  {
   "cell_type": "code",
   "execution_count": null,
   "id": "15b9786e",
   "metadata": {},
   "outputs": [],
   "source": [
    "plt.figure(figsize=(12, 8))\n",
    "sns.heatmap(df_20_IVT.isnull(), cmap='viridis')\n",
    "plt.show()"
   ]
  },
  {
   "cell_type": "code",
   "execution_count": null,
   "id": "fc79ca1b",
   "metadata": {},
   "outputs": [],
   "source": [
    "df_20_IVT.columns"
   ]
  },
  {
   "cell_type": "code",
   "execution_count": null,
   "id": "246a0515",
   "metadata": {},
   "outputs": [],
   "source": [
    "fix_1_df = df_20_IVT.dropna(subset=['Fixation Duration'])\n",
    "sac_1_df = df_20_IVT.dropna(subset=['Saccade Duration'])"
   ]
  },
  {
   "cell_type": "code",
   "execution_count": null,
   "id": "f4d0b01c",
   "metadata": {},
   "outputs": [],
   "source": [
    "fix_1_df.shape"
   ]
  },
  {
   "cell_type": "code",
   "execution_count": null,
   "id": "e8fa24e0",
   "metadata": {},
   "outputs": [],
   "source": [
    "sac_1_df.shape"
   ]
  },
  {
   "cell_type": "code",
   "execution_count": null,
   "id": "89706b78",
   "metadata": {},
   "outputs": [],
   "source": [
    "fix_1_feature = fix_1_df.groupby('QuestionKey').agg({\n",
    "    'Fixation Duration': ['count','mean','max','sum','var'],\n",
    "    'Fixation Dispersion': ['mean','max'],\n",
    "    'Fixation X': ['var'],   # screen spread X\n",
    "    'Fixation Y': ['var']    # screen spread Y\n",
    "})"
   ]
  },
  {
   "cell_type": "code",
   "execution_count": null,
   "id": "68291df5",
   "metadata": {},
   "outputs": [],
   "source": [
    "fix_1_feature.columns = ['fix_count','fix_mean_dur','fix_max_dur','fix_total_time',\n",
    "                        'fix_dur_var','fix_disp_mean','fix_disp_max',\n",
    "                        'fix_x_var','fix_y_var']"
   ]
  },
  {
   "cell_type": "code",
   "execution_count": null,
   "id": "5af6e209",
   "metadata": {},
   "outputs": [],
   "source": [
    "fix_1_feature"
   ]
  },
  {
   "cell_type": "code",
   "execution_count": null,
   "id": "e0610c55",
   "metadata": {},
   "outputs": [],
   "source": [
    "sac_1_features = sac_1_df.groupby('QuestionKey').agg({\n",
    "    'Saccade Duration': ['count','mean','sum'],\n",
    "    'Saccade Amplitude': ['mean','max'],\n",
    "    'Saccade Peak Velocity': ['mean','max'],\n",
    "    'Saccade Peak Acceleration': ['mean'],\n",
    "    'Saccade Peak Deceleration': ['mean'],\n",
    "    'Saccade Direction': ['var']   # direction variance\n",
    "})"
   ]
  },
  {
   "cell_type": "code",
   "execution_count": null,
   "id": "ddc2bd6e",
   "metadata": {},
   "outputs": [],
   "source": [
    "sac_1_features.columns = ['sac_count','sac_mean_dur','sac_total_time',\n",
    "                        'sac_amp_mean','sac_amp_max',\n",
    "                        'sac_vel_mean','sac_vel_max',\n",
    "                        'sac_acc_mean','sac_dec_mean','sac_dir_var']"
   ]
  },
  {
   "cell_type": "code",
   "execution_count": null,
   "id": "3e844279",
   "metadata": {},
   "outputs": [],
   "source": [
    "sac_1_features"
   ]
  },
  {
   "cell_type": "code",
   "execution_count": null,
   "id": "74a0154e",
   "metadata": {},
   "outputs": [],
   "source": [
    "ivt_1_features = fix_1_feature.join(sac_1_features, how='outer').fillna(0)"
   ]
  },
  {
   "cell_type": "code",
   "execution_count": null,
   "id": "7875f9a6",
   "metadata": {},
   "outputs": [],
   "source": [
    "ivt_1_features"
   ]
  },
  {
   "cell_type": "code",
   "execution_count": null,
   "id": "f32ec9f9",
   "metadata": {},
   "outputs": [],
   "source": [
    "ivt_1_features['fix_sac_count_ratio'] = ivt_1_features['fix_count'] / (ivt_1_features['sac_count']+1e-5)\n",
    "ivt_1_features['fix_sac_time_ratio']  = ivt_1_features['fix_total_time'] / (ivt_1_features['sac_total_time']+1e-5)"
   ]
  },
  {
   "cell_type": "code",
   "execution_count": null,
   "id": "9a1ee68c",
   "metadata": {},
   "outputs": [],
   "source": [
    "ivt_1_features"
   ]
  },
  {
   "cell_type": "code",
   "execution_count": null,
   "id": "e979568d",
   "metadata": {},
   "outputs": [],
   "source": []
  },
  {
   "cell_type": "markdown",
   "id": "07462f0f",
   "metadata": {},
   "source": [
    "# Aggregation of Fixation and Saccade Features\n",
    "\n",
    "In the preceding code cells, we performed aggregation on the `fix_1_df` and `sac_1_df` DataFrames, which contain the cleaned fixation and saccade data, respectively. The goal of this aggregation was to create a summary of eye-tracking metrics for each `QuestionKey`.\n",
    "\n",
    "For fixations, we calculated:\n",
    "- Count of fixations (`fix_count`)\n",
    "- Mean, max, sum, and variance of fixation duration (`fix_mean_dur`, `fix_max_dur`, `fix_total_time`, `fix_dur_var`)\n",
    "- Mean and max of fixation dispersion (`fix_disp_mean`, `fix_disp_max`)\n",
    "- Variance of fixation X and Y coordinates (`fix_x_var`, `fix_y_var`) to represent screen spread.\n",
    "\n",
    "For saccades, we calculated:\n",
    "- Count of saccades (`sac_count`)\n",
    "- Mean and sum of saccade duration (`sac_mean_dur`, `sac_total_time`)\n",
    "- Mean and max of saccade amplitude (`sac_amp_mean`, `sac_amp_max`)\n",
    "- Mean and max of saccade peak velocity (`sac_vel_mean`, `sac_vel_max`)\n",
    "- Mean of saccade peak acceleration and deceleration (`sac_acc_mean`, `sac_dec_mean`)\n",
    "- Variance of saccade direction (`sac_dir_var`).\n",
    "\n",
    "Finally, we joined these aggregated fixation and saccade features into a single DataFrame called `ivt_1_features`, using `QuestionKey` as the index. We also filled any resulting missing values (from `QuestionKey` values that may only have fixations or saccades, but not both) with 0. This `ivt_1_features` DataFrame now provides a consolidated summary of key eye-tracking characteristics for each question, which can be used for further analysis or modeling."
   ]
  }
 ],
 "metadata": {},
 "nbformat": 4,
 "nbformat_minor": 5
}
