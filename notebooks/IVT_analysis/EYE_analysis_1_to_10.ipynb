{
  "cells": [
    {
      "cell_type": "markdown",
      "id": "1903c646",
      "metadata": {
        "id": "1903c646"
      },
      "source": [
        "# Eye Tracking Data Analysis\n",
        "\n",
        "This notebook performs exploratory data analysis and cleaning on eye-tracking data.\n"
      ]
    },
    {
      "cell_type": "code",
      "execution_count": null,
      "id": "aa62768f",
      "metadata": {
        "id": "aa62768f",
        "colab": {
          "base_uri": "https://localhost:8080/"
        },
        "outputId": "715d6457-99e8-45ab-ccd0-2d7a32fb642d"
      },
      "outputs": [
        {
          "output_type": "stream",
          "name": "stdout",
          "text": [
            "The cudf module is not an IPython extension.\n"
          ]
        }
      ],
      "source": [
        "%load_ext cudf"
      ]
    },
    {
      "cell_type": "code",
      "execution_count": null,
      "id": "eca493d8",
      "metadata": {
        "id": "eca493d8"
      },
      "outputs": [],
      "source": [
        "import numpy as np\n",
        "import pandas as pd\n",
        "import matplotlib.pyplot as plt\n",
        "import seaborn as sns"
      ]
    },
    {
      "cell_type": "code",
      "execution_count": null,
      "id": "75a5cc36",
      "metadata": {
        "id": "75a5cc36"
      },
      "outputs": [],
      "source": [
        "import datashader as ds\n",
        "import datashader.transfer_functions as tf"
      ]
    },
    {
      "cell_type": "code",
      "execution_count": null,
      "id": "6b398cbb",
      "metadata": {
        "id": "6b398cbb"
      },
      "outputs": [],
      "source": [
        "pd.set_option('display.max_columns', None)"
      ]
    },
    {
      "cell_type": "markdown",
      "id": "bcb90883",
      "metadata": {
        "id": "bcb90883"
      },
      "source": [
        "# **1_EYE**"
      ]
    },
    {
      "cell_type": "code",
      "execution_count": null,
      "id": "c20103c2",
      "metadata": {
        "id": "c20103c2"
      },
      "outputs": [],
      "source": [
        "df_1_EYE = pd.read_csv('data/STData/1/1_EYE.csv')"
      ]
    },
    {
      "cell_type": "code",
      "execution_count": null,
      "id": "7d06cace",
      "metadata": {
        "id": "7d06cace"
      },
      "outputs": [],
      "source": [
        "df_1_EYE.head()"
      ]
    },
    {
      "cell_type": "code",
      "execution_count": null,
      "id": "30d5876a",
      "metadata": {
        "id": "30d5876a",
        "colab": {
          "base_uri": "https://localhost:8080/"
        },
        "outputId": "cad54115-b520-4776-cbc6-c52f76bd6696"
      },
      "outputs": [
        {
          "output_type": "execute_result",
          "data": {
            "text/plain": [
              "(89327, 19)"
            ]
          },
          "metadata": {},
          "execution_count": 17
        }
      ],
      "source": [
        "df_1_EYE.shape"
      ]
    },
    {
      "cell_type": "code",
      "execution_count": null,
      "id": "e0156b69",
      "metadata": {
        "id": "e0156b69",
        "colab": {
          "base_uri": "https://localhost:8080/"
        },
        "outputId": "52b4a386-6baf-4111-ac11-24191ee86d06"
      },
      "outputs": [
        {
          "output_type": "execute_result",
          "data": {
            "text/plain": [
              "Index(['UnixTime', 'Row', 'QuestionKey', 'Timestamp', 'ET_GazeLeftx',\n",
              "       'ET_GazeLefty', 'ET_GazeRightx', 'ET_GazeRighty', 'ET_PupilLeft',\n",
              "       'ET_PupilRight', 'ET_TimeSignal', 'ET_DistanceLeft', 'ET_DistanceRight',\n",
              "       'ET_CameraLeftX', 'ET_CameraLeftY', 'ET_CameraRightX',\n",
              "       'ET_CameraRightY', 'ET_ValidityLeft', 'ET_ValidityRight'],\n",
              "      dtype='object')"
            ]
          },
          "metadata": {},
          "execution_count": 18
        }
      ],
      "source": [
        "df_1_EYE.columns"
      ]
    },
    {
      "cell_type": "code",
      "execution_count": null,
      "id": "64816b49",
      "metadata": {
        "id": "64816b49",
        "colab": {
          "base_uri": "https://localhost:8080/"
        },
        "outputId": "4bee682f-3cb0-4dac-aef9-09403bb607d5"
      },
      "outputs": [
        {
          "output_type": "stream",
          "name": "stdout",
          "text": [
            "<class 'pandas.core.frame.DataFrame'>\n",
            "RangeIndex: 89327 entries, 0 to 89326\n",
            "Data columns (total 19 columns):\n",
            " #   Column            Non-Null Count  Dtype  \n",
            "---  ------            --------------  -----  \n",
            " 0   UnixTime          89327 non-null  float64\n",
            " 1   Row               89327 non-null  int64  \n",
            " 2   QuestionKey       51218 non-null  object \n",
            " 3   Timestamp         89327 non-null  object \n",
            " 4   ET_GazeLeftx      89323 non-null  float64\n",
            " 5   ET_GazeLefty      89323 non-null  float64\n",
            " 6   ET_GazeRightx     89323 non-null  float64\n",
            " 7   ET_GazeRighty     89323 non-null  float64\n",
            " 8   ET_PupilLeft      89323 non-null  float64\n",
            " 9   ET_PupilRight     89323 non-null  float64\n",
            " 10  ET_TimeSignal     89323 non-null  float64\n",
            " 11  ET_DistanceLeft   89323 non-null  float64\n",
            " 12  ET_DistanceRight  89323 non-null  float64\n",
            " 13  ET_CameraLeftX    89323 non-null  float64\n",
            " 14  ET_CameraLeftY    89323 non-null  float64\n",
            " 15  ET_CameraRightX   89323 non-null  float64\n",
            " 16  ET_CameraRightY   89323 non-null  float64\n",
            " 17  ET_ValidityLeft   89323 non-null  float64\n",
            " 18  ET_ValidityRight  89323 non-null  float64\n",
            "dtypes: float64(16), int64(1), object(2)\n",
            "memory usage: 12.9+ MB\n"
          ]
        }
      ],
      "source": [
        "df_1_EYE.info()"
      ]
    },
    {
      "cell_type": "code",
      "execution_count": null,
      "id": "0f6ca209",
      "metadata": {
        "id": "0f6ca209",
        "colab": {
          "base_uri": "https://localhost:8080/"
        },
        "outputId": "c4f525fb-e4b5-45e8-aa63-6473a9a95f89"
      },
      "outputs": [
        {
          "output_type": "execute_result",
          "data": {
            "text/plain": [
              "UnixTime                0\n",
              "Row                     0\n",
              "QuestionKey         38109\n",
              "Timestamp               0\n",
              "ET_GazeLeftx            4\n",
              "ET_GazeLefty            4\n",
              "ET_GazeRightx           4\n",
              "ET_GazeRighty           4\n",
              "ET_PupilLeft            4\n",
              "ET_PupilRight           4\n",
              "ET_TimeSignal           4\n",
              "ET_DistanceLeft         4\n",
              "ET_DistanceRight        4\n",
              "ET_CameraLeftX          4\n",
              "ET_CameraLeftY          4\n",
              "ET_CameraRightX         4\n",
              "ET_CameraRightY         4\n",
              "ET_ValidityLeft         4\n",
              "ET_ValidityRight        4\n",
              "dtype: int64"
            ]
          },
          "metadata": {},
          "execution_count": 20
        }
      ],
      "source": [
        "df_1_EYE.isnull().sum()"
      ]
    },
    {
      "cell_type": "code",
      "execution_count": null,
      "id": "8f23366b",
      "metadata": {
        "id": "8f23366b"
      },
      "outputs": [],
      "source": [
        "plt.figure(figsize=(12,8))\n",
        "sns.heatmap(df_1_EYE.isnull(), cmap='viridis')\n",
        "plt.show()"
      ]
    },
    {
      "cell_type": "markdown",
      "id": "3210a232",
      "metadata": {
        "id": "3210a232"
      },
      "source": [
        "# Notes & Observations\n",
        "\n",
        "- We observe many **null** (or missing) values in the `QuestionKey` columns.\n",
        "- The nulls in the `QuestionKey` column may not represent “true” nulls. Rather, they follow interval patterns, suggesting that during those periods no question was displayed.\n",
        "- These missing values in `QuestionKey` require additional investigation and context-aware handling."
      ]
    },
    {
      "cell_type": "code",
      "execution_count": null,
      "id": "348ea300",
      "metadata": {
        "id": "348ea300",
        "colab": {
          "base_uri": "https://localhost:8080/"
        },
        "outputId": "3352140a-7fc6-49db-dc5f-7e7dde1b0c74"
      },
      "outputs": [
        {
          "output_type": "execute_result",
          "data": {
            "text/plain": [
              "array([nan, '1spl1', '1spl2', '1Item1', '1Item2', '1Item3', '1Item4',\n",
              "       '1Item5', '1Item6', '1Item7', '1Item8', '1Item9', '1Item10',\n",
              "       '2spl1', '2spl2', '2Item1', '2Item2', '2Item3', '2Item4', '2Item5',\n",
              "       '2Item6', '2Item7', '2Item8', '2Item9', '2Item10', '3spl1',\n",
              "       '3spl2', '3Item15', '3Item2', '3Item5', '3Item12', '3Item6',\n",
              "       '3Item8', '3Item7', '3Item9', '3Item17', '3Item19', '3Item11',\n",
              "       '3Item4', '3Item13', '3Item10'], dtype=object)"
            ]
          },
          "metadata": {},
          "execution_count": 22
        }
      ],
      "source": [
        "df_1_EYE['QuestionKey'].unique()"
      ]
    },
    {
      "cell_type": "code",
      "execution_count": null,
      "id": "ccee86f9",
      "metadata": {
        "id": "ccee86f9"
      },
      "outputs": [],
      "source": [
        "df_1_EYE['Timestamp'] = pd.to_datetime(df_1_EYE['Timestamp'])"
      ]
    },
    {
      "cell_type": "code",
      "execution_count": null,
      "id": "e0971b6b",
      "metadata": {
        "id": "e0971b6b"
      },
      "outputs": [],
      "source": [
        "df_1_EYE.head(3)"
      ]
    },
    {
      "cell_type": "code",
      "execution_count": null,
      "id": "49007cbf",
      "metadata": {
        "id": "49007cbf"
      },
      "outputs": [],
      "source": [
        "df_1_EYE['QuestionKey'] = df_1_EYE['QuestionKey'].fillna('None')"
      ]
    },
    {
      "cell_type": "code",
      "execution_count": null,
      "id": "4f233453",
      "metadata": {
        "id": "4f233453",
        "colab": {
          "base_uri": "https://localhost:8080/"
        },
        "outputId": "ba89ecb9-254e-45c0-d8d2-1d0b5826d11d"
      },
      "outputs": [
        {
          "output_type": "execute_result",
          "data": {
            "text/plain": [
              "QuestionKey\n",
              "None       38109\n",
              "2Item7      4188\n",
              "1Item5      3125\n",
              "3Item9      2641\n",
              "1Item10     2525\n",
              "2Item9      2291\n",
              "1Item4      2106\n",
              "1Item3      1977\n",
              "1Item8      1975\n",
              "2Item10     1776\n",
              "1Item2      1752\n",
              "3Item19     1522\n",
              "2Item6      1469\n",
              "3Item8      1405\n",
              "2Item4      1374\n",
              "3Item17     1335\n",
              "3Item11     1300\n",
              "1spl1       1245\n",
              "3Item4      1211\n",
              "1Item9      1159\n",
              "1Item7      1068\n",
              "1Item6      1052\n",
              "2Item8      1018\n",
              "3Item15      975\n",
              "3Item12      962\n",
              "1spl2        950\n",
              "3Item13      935\n",
              "1Item1       918\n",
              "2spl2        904\n",
              "2Item5       894\n",
              "3Item7       805\n",
              "2spl1        750\n",
              "2Item3       653\n",
              "2Item1       541\n",
              "3Item6       440\n",
              "3spl1        400\n",
              "3Item5       398\n",
              "2Item2       366\n",
              "3Item2       360\n",
              "3spl2        333\n",
              "3Item10      120\n",
              "Name: count, dtype: int64"
            ]
          },
          "metadata": {},
          "execution_count": 26
        }
      ],
      "source": [
        "df_1_EYE['QuestionKey'].value_counts()"
      ]
    },
    {
      "cell_type": "code",
      "execution_count": null,
      "id": "73c1c6fd",
      "metadata": {
        "id": "73c1c6fd"
      },
      "outputs": [],
      "source": [
        "plt.figure(figsize=(12,8))\n",
        "sns.heatmap(df_1_EYE.isnull(), cmap='viridis')\n",
        "plt.show()"
      ]
    },
    {
      "cell_type": "code",
      "execution_count": null,
      "id": "a232b232",
      "metadata": {
        "id": "a232b232",
        "colab": {
          "base_uri": "https://localhost:8080/"
        },
        "outputId": "828ea7ff-d18e-4a74-d060-1832b34de1b3"
      },
      "outputs": [
        {
          "output_type": "execute_result",
          "data": {
            "text/plain": [
              "UnixTime            0\n",
              "Row                 0\n",
              "QuestionKey         0\n",
              "Timestamp           0\n",
              "ET_GazeLeftx        4\n",
              "ET_GazeLefty        4\n",
              "ET_GazeRightx       4\n",
              "ET_GazeRighty       4\n",
              "ET_PupilLeft        4\n",
              "ET_PupilRight       4\n",
              "ET_TimeSignal       4\n",
              "ET_DistanceLeft     4\n",
              "ET_DistanceRight    4\n",
              "ET_CameraLeftX      4\n",
              "ET_CameraLeftY      4\n",
              "ET_CameraRightX     4\n",
              "ET_CameraRightY     4\n",
              "ET_ValidityLeft     4\n",
              "ET_ValidityRight    4\n",
              "dtype: int64"
            ]
          },
          "metadata": {},
          "execution_count": 28
        }
      ],
      "source": [
        "df_1_EYE.isnull().sum()"
      ]
    },
    {
      "cell_type": "code",
      "execution_count": null,
      "id": "570564b2",
      "metadata": {
        "id": "570564b2"
      },
      "outputs": [],
      "source": [
        "df_1_EYE.dropna(inplace=True)"
      ]
    },
    {
      "cell_type": "code",
      "execution_count": null,
      "id": "dc6daefe",
      "metadata": {
        "id": "dc6daefe"
      },
      "outputs": [],
      "source": [
        "df_1_EYE.head()"
      ]
    },
    {
      "cell_type": "code",
      "execution_count": null,
      "id": "6a63a073",
      "metadata": {
        "id": "6a63a073",
        "colab": {
          "base_uri": "https://localhost:8080/"
        },
        "outputId": "af576924-7a2c-4562-8bad-47dc0f75c1e0"
      },
      "outputs": [
        {
          "output_type": "execute_result",
          "data": {
            "text/plain": [
              "array([    2,     3,     4, ..., 89323, 89324, 89325], shape=(89323,))"
            ]
          },
          "metadata": {},
          "execution_count": 31
        }
      ],
      "source": [
        "df_1_EYE['Row'].unique()"
      ]
    },
    {
      "cell_type": "code",
      "execution_count": null,
      "id": "fa849e33",
      "metadata": {
        "id": "fa849e33"
      },
      "outputs": [],
      "source": [
        "plt.figure(figsize=(8,6))\n",
        "sns.histplot(df_1_EYE['Row'])\n",
        "plt.show()"
      ]
    },
    {
      "cell_type": "markdown",
      "id": "f0966ba6",
      "metadata": {
        "id": "f0966ba6"
      },
      "source": [
        "# Notes & Observations\n",
        "\n",
        "- The `Row` column appears to be a simple row index and does not provide meaningful information relevant to the eye-tracking data itself. Therefore, it can be dropped."
      ]
    },
    {
      "cell_type": "code",
      "execution_count": null,
      "id": "3d855740",
      "metadata": {
        "id": "3d855740"
      },
      "outputs": [],
      "source": [
        "df_1_EYE.drop('Row', axis=1, inplace=True)"
      ]
    },
    {
      "cell_type": "code",
      "execution_count": null,
      "id": "9a152e24",
      "metadata": {
        "id": "9a152e24",
        "colab": {
          "base_uri": "https://localhost:8080/"
        },
        "outputId": "a3c2b8e6-a99f-45c6-b0a9-ebf7fc7b6f01"
      },
      "outputs": [
        {
          "output_type": "execute_result",
          "data": {
            "text/plain": [
              "array([0., 4.])"
            ]
          },
          "metadata": {},
          "execution_count": 34
        }
      ],
      "source": [
        "df_1_EYE['ET_ValidityLeft'].unique()"
      ]
    },
    {
      "cell_type": "code",
      "execution_count": null,
      "id": "f516d97e",
      "metadata": {
        "id": "f516d97e",
        "colab": {
          "base_uri": "https://localhost:8080/"
        },
        "outputId": "b6a516a8-dcd9-4d76-800f-b438a59a05cf"
      },
      "outputs": [
        {
          "output_type": "execute_result",
          "data": {
            "text/plain": [
              "ET_ValidityLeft\n",
              "0.0    77693\n",
              "4.0    11630\n",
              "Name: count, dtype: int64"
            ]
          },
          "metadata": {},
          "execution_count": 35
        }
      ],
      "source": [
        "df_1_EYE['ET_ValidityLeft'].value_counts()"
      ]
    },
    {
      "cell_type": "code",
      "execution_count": null,
      "id": "cba3547e",
      "metadata": {
        "id": "cba3547e",
        "colab": {
          "base_uri": "https://localhost:8080/"
        },
        "outputId": "01491f76-3126-4463-cb02-7fb41d6a82db"
      },
      "outputs": [
        {
          "output_type": "execute_result",
          "data": {
            "text/plain": [
              "array([0., 4.])"
            ]
          },
          "metadata": {},
          "execution_count": 36
        }
      ],
      "source": [
        "df_1_EYE['ET_ValidityRight'].unique()"
      ]
    },
    {
      "cell_type": "code",
      "execution_count": null,
      "id": "9719c60e",
      "metadata": {
        "id": "9719c60e",
        "colab": {
          "base_uri": "https://localhost:8080/"
        },
        "outputId": "7e4bcc7a-b35c-45e0-e9e2-912195a49b74"
      },
      "outputs": [
        {
          "output_type": "execute_result",
          "data": {
            "text/plain": [
              "ET_ValidityRight\n",
              "0.0    80225\n",
              "4.0     9098\n",
              "Name: count, dtype: int64"
            ]
          },
          "metadata": {},
          "execution_count": 37
        }
      ],
      "source": [
        "df_1_EYE['ET_ValidityRight'].value_counts()"
      ]
    },
    {
      "cell_type": "code",
      "execution_count": null,
      "id": "30db79ea",
      "metadata": {
        "id": "30db79ea"
      },
      "outputs": [],
      "source": [
        "plt.figure(figsize=(12, 6))\n",
        "\n",
        "plt.subplot(1, 2, 1)\n",
        "sns.barplot(x=df_1_EYE['ET_ValidityLeft'].value_counts().index, y=df_1_EYE['ET_ValidityLeft'].value_counts().values)\n",
        "plt.title('Count of ET_ValidityLeft')\n",
        "plt.xlabel('Validity')\n",
        "plt.ylabel('Count')\n",
        "\n",
        "\n",
        "plt.subplot(1, 2, 2)\n",
        "sns.barplot(x=df_1_EYE['ET_ValidityRight'].value_counts().index, y=df_1_EYE['ET_ValidityRight'].value_counts().values)\n",
        "plt.title('Count of ET_ValidityRight')\n",
        "plt.xlabel('Validity')\n",
        "plt.ylabel('Count')\n",
        "\n",
        "plt.tight_layout()\n",
        "plt.show()"
      ]
    },
    {
      "cell_type": "markdown",
      "id": "44f0a5ec",
      "metadata": {
        "id": "44f0a5ec"
      },
      "source": [
        "# Notes & Observations\n",
        "\n",
        "- The `ET_ValidityLeft` and `ET_ValidityRight` columns indicate the validity of the eye-tracking data for the left and right eye, respectively.\n",
        "- Based on the value counts and the bar plots, it appears that a value of `0.0` represents valid eye-tracking data, while a value of `4.0` represents invalid data.\n",
        "- Although the amount of invalid data is relatively small, removing these rows could introduce unwanted patterns or gaps in the time series data.\n",
        "- Therefore, we will keep the data and replace the value `4.0` with `1.0` in both `ET_ValidityLeft` and `ET_ValidityRight` columns. This will indicate to a machine learning model that the eye tracker had invalid data at those specific points in time while maintaining the integrity of the time series."
      ]
    },
    {
      "cell_type": "markdown",
      "id": "fa2383bc",
      "metadata": {
        "id": "fa2383bc"
      },
      "source": [
        "Define a mapping to convert validity values from `0.0` and `4.0` to `0` and `1`."
      ]
    },
    {
      "cell_type": "code",
      "execution_count": null,
      "id": "5e773dfb",
      "metadata": {
        "id": "5e773dfb"
      },
      "outputs": [],
      "source": [
        "validity_map = {4.0: 1.0, 0.0: 0.0}"
      ]
    },
    {
      "cell_type": "code",
      "execution_count": null,
      "id": "c54313d2",
      "metadata": {
        "id": "c54313d2"
      },
      "outputs": [],
      "source": [
        "df_1_EYE['ET_ValidityLeft'] = df_1_EYE['ET_ValidityLeft'].map(validity_map).astype(np.int8)\n",
        "df_1_EYE['ET_ValidityRight'] = df_1_EYE['ET_ValidityRight'].map(validity_map).astype(np.int8)"
      ]
    },
    {
      "cell_type": "code",
      "execution_count": null,
      "id": "b989ac98",
      "metadata": {
        "id": "b989ac98"
      },
      "outputs": [],
      "source": [
        "df_1_EYE.head(3)"
      ]
    },
    {
      "cell_type": "code",
      "execution_count": null,
      "id": "dff39cad",
      "metadata": {
        "id": "dff39cad"
      },
      "outputs": [],
      "source": [
        "df_1_EYE.describe()"
      ]
    },
    {
      "cell_type": "code",
      "execution_count": null,
      "id": "e347502f",
      "metadata": {
        "id": "e347502f",
        "colab": {
          "base_uri": "https://localhost:8080/"
        },
        "outputId": "f7d7263b-c5e6-4f18-ef19-9af6b0a1a3ce"
      },
      "outputs": [
        {
          "output_type": "execute_result",
          "data": {
            "text/plain": [
              "(11630, 18)"
            ]
          },
          "metadata": {},
          "execution_count": 43
        }
      ],
      "source": [
        "df_1_EYE[df_1_EYE['ET_ValidityLeft'] == 1].shape"
      ]
    },
    {
      "cell_type": "code",
      "execution_count": null,
      "id": "832af9e2",
      "metadata": {
        "id": "832af9e2",
        "colab": {
          "base_uri": "https://localhost:8080/"
        },
        "outputId": "9ed52da8-bc42-438e-fd3e-18721cfcb74a"
      },
      "outputs": [
        {
          "output_type": "execute_result",
          "data": {
            "text/plain": [
              "(9098, 18)"
            ]
          },
          "metadata": {},
          "execution_count": 44
        }
      ],
      "source": [
        "df_1_EYE[df_1_EYE['ET_ValidityRight'] == 1].shape"
      ]
    },
    {
      "cell_type": "code",
      "execution_count": null,
      "id": "52970360",
      "metadata": {
        "id": "52970360",
        "colab": {
          "base_uri": "https://localhost:8080/"
        },
        "outputId": "bd8da711-828e-4279-f6e7-552c61b8f231"
      },
      "outputs": [
        {
          "output_type": "execute_result",
          "data": {
            "text/plain": [
              "0.13020162780023062"
            ]
          },
          "metadata": {},
          "execution_count": 45
        }
      ],
      "source": [
        "df_1_EYE[df_1_EYE['ET_ValidityLeft'] == 1].shape[0] / df_1_EYE.shape[0]"
      ]
    },
    {
      "cell_type": "code",
      "execution_count": null,
      "id": "c3ce3ab7",
      "metadata": {
        "id": "c3ce3ab7",
        "colab": {
          "base_uri": "https://localhost:8080/"
        },
        "outputId": "d59147c4-a7e9-4721-c6db-1c2fcebbd8ee"
      },
      "outputs": [
        {
          "output_type": "execute_result",
          "data": {
            "text/plain": [
              "0.1018550653247204"
            ]
          },
          "metadata": {},
          "execution_count": 46
        }
      ],
      "source": [
        "df_1_EYE[df_1_EYE['ET_ValidityRight'] == 1].shape[0] / df_1_EYE.shape[0]"
      ]
    },
    {
      "cell_type": "code",
      "execution_count": null,
      "id": "6f4cd32a",
      "metadata": {
        "id": "6f4cd32a"
      },
      "outputs": [],
      "source": [
        "plt.figure(figsize=(18, 8))\n",
        "\n",
        "plt.subplot(1, 2, 1)\n",
        "sns.heatmap(df_1_EYE == -1, cmap='viridis')\n",
        "plt.title('Heatmap of -1 Values')\n",
        "\n",
        "plt.subplot(1, 2, 2)\n",
        "sns.heatmap(df_1_EYE == 1, cmap='viridis')\n",
        "plt.title('Heatmap of 1 Values')\n",
        "\n",
        "plt.tight_layout()\n",
        "plt.show()"
      ]
    },
    {
      "cell_type": "code",
      "execution_count": null,
      "id": "00ed0ea7",
      "metadata": {
        "id": "00ed0ea7",
        "colab": {
          "base_uri": "https://localhost:8080/"
        },
        "outputId": "fbea9239-22a0-49e0-f800-0c915a146f90"
      },
      "outputs": [
        {
          "output_type": "execute_result",
          "data": {
            "text/plain": [
              "(65801, 18)"
            ]
          },
          "metadata": {},
          "execution_count": 48
        }
      ],
      "source": [
        "df_1_EYE[df_1_EYE['ET_PupilLeft'] == -1].shape"
      ]
    },
    {
      "cell_type": "code",
      "execution_count": null,
      "id": "078d6e97",
      "metadata": {
        "id": "078d6e97",
        "colab": {
          "base_uri": "https://localhost:8080/"
        },
        "outputId": "95a71bef-64a3-4f3f-b6dc-df570b9629c0"
      },
      "outputs": [
        {
          "output_type": "execute_result",
          "data": {
            "text/plain": [
              "(64086, 18)"
            ]
          },
          "metadata": {},
          "execution_count": 49
        }
      ],
      "source": [
        "df_1_EYE[df_1_EYE['ET_PupilRight'] == -1].shape"
      ]
    },
    {
      "cell_type": "code",
      "execution_count": null,
      "id": "56e1b242",
      "metadata": {
        "id": "56e1b242",
        "colab": {
          "base_uri": "https://localhost:8080/"
        },
        "outputId": "567e7840-411a-4fd4-b5e5-4ecd77e1a334"
      },
      "outputs": [
        {
          "output_type": "execute_result",
          "data": {
            "text/plain": [
              "0.7366635692934631"
            ]
          },
          "metadata": {},
          "execution_count": 50
        }
      ],
      "source": [
        "df_1_EYE[df_1_EYE['ET_PupilLeft'] == -1].shape[0] / df_1_EYE.shape[0]"
      ]
    },
    {
      "cell_type": "code",
      "execution_count": null,
      "id": "221a1b5e",
      "metadata": {
        "id": "221a1b5e",
        "colab": {
          "base_uri": "https://localhost:8080/"
        },
        "outputId": "e7146adc-42d9-4489-e4c8-7fa8b24ee032"
      },
      "outputs": [
        {
          "output_type": "execute_result",
          "data": {
            "text/plain": [
              "0.7174635872059828"
            ]
          },
          "metadata": {},
          "execution_count": 51
        }
      ],
      "source": [
        "df_1_EYE[df_1_EYE['ET_PupilRight'] == -1].shape[0] / df_1_EYE.shape[0]"
      ]
    },
    {
      "cell_type": "code",
      "execution_count": null,
      "id": "6a8dfec3",
      "metadata": {
        "id": "6a8dfec3"
      },
      "outputs": [],
      "source": [
        "plt.figure(figsize=(18, 8))\n",
        "\n",
        "plt.subplot(1, 2, 1)\n",
        "sns.heatmap(df_1_EYE[df_1_EYE['ET_ValidityLeft'] == 1] == -1, cmap='viridis')\n",
        "plt.title('Heatmap of -1 Values')\n",
        "\n",
        "plt.subplot(1, 2, 2)\n",
        "sns.heatmap(df_1_EYE[df_1_EYE['ET_ValidityRight'] == 1] == -1, cmap='viridis')\n",
        "plt.title('Heatmap of -1 Values')\n",
        "\n",
        "plt.tight_layout()\n",
        "plt.show()"
      ]
    },
    {
      "cell_type": "markdown",
      "id": "00d0d684",
      "metadata": {
        "id": "00d0d684"
      },
      "source": [
        "# Notes & Observations\n",
        "\n",
        "- The heatmaps reveal the distribution of -1 values across different columns.\n",
        "- It is evident that the `-1` values are not randomly scattered but appear in specific columns, notably `ET_GazeLeftx`, `ET_GazeLefty`, `ET_GazeRightx`, `ET_GazeRighty`, `ET_PupilLeft`, `ET_PupilRight`, `ET_DistanceLeft`, `ET_DistanceRight`, `ET_CameraLeftX`, `ET_CameraLeftY`, `ET_CameraRightX`, and `ET_CameraRightY`.\n",
        "- These `-1` values often coincide with instances where `ET_ValidityLeft` or `ET_ValidityRight` is 1, indicating invalid eye-tracking data. This suggests that `-1` is used as a placeholder for missing or invalid measurements in these columns when the eye tracker is not providing valid data for a particular eye.\n",
        "- Given that over 70% of the data in the `ET_PupilLeft` and `ET_PupilRight` columns is marked as invalid (-1), so instead of dropping them we can create new feature for both the `ET_PupilLeft` and `ET_PupilRight` to represent which row consist invalid `ET_PupilLeft` and `ET_PupilRight` data"
      ]
    },
    {
      "cell_type": "code",
      "execution_count": null,
      "id": "4f9d9293",
      "metadata": {
        "id": "4f9d9293"
      },
      "outputs": [],
      "source": [
        "pupil_validity = {-1: 1 }"
      ]
    },
    {
      "cell_type": "code",
      "execution_count": null,
      "id": "d5322fde",
      "metadata": {
        "id": "d5322fde"
      },
      "outputs": [],
      "source": [
        "df_1_EYE['ET_PupilLeft_validity'] = df_1_EYE['ET_PupilLeft'].map(pupil_validity)"
      ]
    },
    {
      "cell_type": "code",
      "execution_count": null,
      "id": "f77bad6a",
      "metadata": {
        "id": "f77bad6a"
      },
      "outputs": [],
      "source": [
        "df_1_EYE['ET_PupilRight_validity'] = df_1_EYE['ET_PupilRight'].map(pupil_validity)"
      ]
    },
    {
      "cell_type": "code",
      "execution_count": null,
      "id": "6cb3d188",
      "metadata": {
        "id": "6cb3d188"
      },
      "outputs": [],
      "source": [
        "df_1_EYE[['ET_PupilLeft_validity', 'ET_PupilRight_validity']].head()"
      ]
    },
    {
      "cell_type": "code",
      "execution_count": null,
      "id": "3d05301a",
      "metadata": {
        "id": "3d05301a",
        "colab": {
          "base_uri": "https://localhost:8080/"
        },
        "outputId": "e899c50a-73da-4a01-f020-9e7c05ce5bda"
      },
      "outputs": [
        {
          "output_type": "execute_result",
          "data": {
            "text/plain": [
              "ET_PupilLeft_validity     23522\n",
              "ET_PupilRight_validity    25237\n",
              "dtype: int64"
            ]
          },
          "metadata": {},
          "execution_count": 57
        }
      ],
      "source": [
        "df_1_EYE[['ET_PupilLeft_validity', 'ET_PupilRight_validity']].isnull().sum()"
      ]
    },
    {
      "cell_type": "code",
      "execution_count": null,
      "id": "c00e6047",
      "metadata": {
        "id": "c00e6047"
      },
      "outputs": [],
      "source": [
        "plt.figure(figsize=(18, 8))\n",
        "sns.heatmap(df_1_EYE[['ET_PupilLeft_validity', 'ET_PupilRight_validity']].isnull(), cmap='viridis')\n",
        "plt.show()"
      ]
    },
    {
      "cell_type": "code",
      "execution_count": null,
      "id": "d04ee9bc",
      "metadata": {
        "id": "d04ee9bc"
      },
      "outputs": [],
      "source": [
        "df_1_EYE['ET_PupilLeft_validity'] = df_1_EYE['ET_PupilLeft_validity'].fillna(0)"
      ]
    },
    {
      "cell_type": "code",
      "execution_count": null,
      "id": "d33a50d4",
      "metadata": {
        "id": "d33a50d4"
      },
      "outputs": [],
      "source": [
        "df_1_EYE['ET_PupilRight_validity'] = df_1_EYE['ET_PupilRight_validity'].fillna(0)"
      ]
    },
    {
      "cell_type": "code",
      "execution_count": null,
      "id": "31f31f3e",
      "metadata": {
        "id": "31f31f3e"
      },
      "outputs": [],
      "source": [
        "df_1_EYE[['ET_PupilLeft_validity', 'ET_PupilRight_validity']].head()"
      ]
    },
    {
      "cell_type": "code",
      "execution_count": null,
      "id": "f3322421",
      "metadata": {
        "id": "f3322421"
      },
      "outputs": [],
      "source": [
        "plt.figure(figsize=(18, 8))\n",
        "sns.heatmap(df_1_EYE[['ET_PupilLeft_validity', 'ET_PupilRight_validity']].isnull(), cmap='viridis')\n",
        "plt.show()"
      ]
    },
    {
      "cell_type": "code",
      "execution_count": null,
      "id": "bd2cf448",
      "metadata": {
        "id": "bd2cf448"
      },
      "outputs": [],
      "source": [
        "df_1_EYE.head()"
      ]
    },
    {
      "cell_type": "code",
      "execution_count": null,
      "id": "7ba2006c",
      "metadata": {
        "id": "7ba2006c"
      },
      "outputs": [],
      "source": [
        "plt.figure(figsize=(18, 8))\n",
        "\n",
        "plt.subplot(1, 2, 1)\n",
        "sns.heatmap(df_1_EYE == -1, cmap='viridis')\n",
        "plt.title('Heatmap of -1 Values')\n",
        "\n",
        "plt.subplot(1, 2, 2)\n",
        "sns.heatmap(df_1_EYE == 1, cmap='viridis')\n",
        "plt.title('Heatmap of -1 Values')\n",
        "\n",
        "plt.tight_layout()\n",
        "plt.show()"
      ]
    },
    {
      "cell_type": "code",
      "execution_count": null,
      "id": "faa602eb",
      "metadata": {
        "id": "faa602eb"
      },
      "outputs": [],
      "source": [
        "valid_left_ratio  = 1 - df_1_EYE['ET_ValidityLeft'].mean()"
      ]
    },
    {
      "cell_type": "code",
      "execution_count": null,
      "id": "d674e225",
      "metadata": {
        "id": "d674e225",
        "colab": {
          "base_uri": "https://localhost:8080/"
        },
        "outputId": "5cf3d885-d3af-4658-9967-f3e2be555e75"
      },
      "outputs": [
        {
          "output_type": "execute_result",
          "data": {
            "text/plain": [
              "np.float64(0.8697983721997694)"
            ]
          },
          "metadata": {},
          "execution_count": 66
        }
      ],
      "source": [
        "valid_left_ratio"
      ]
    },
    {
      "cell_type": "code",
      "execution_count": null,
      "id": "524483f2",
      "metadata": {
        "id": "524483f2"
      },
      "outputs": [],
      "source": [
        "valid_right_ratio = 1 - df_1_EYE['ET_ValidityRight'].mean()"
      ]
    },
    {
      "cell_type": "code",
      "execution_count": null,
      "id": "f9cfc080",
      "metadata": {
        "id": "f9cfc080",
        "colab": {
          "base_uri": "https://localhost:8080/"
        },
        "outputId": "c2a421f2-4a58-4b97-d2d3-79bb3554c07f"
      },
      "outputs": [
        {
          "output_type": "execute_result",
          "data": {
            "text/plain": [
              "np.float64(0.8981449346752796)"
            ]
          },
          "metadata": {},
          "execution_count": 68
        }
      ],
      "source": [
        "valid_right_ratio"
      ]
    },
    {
      "cell_type": "code",
      "execution_count": null,
      "id": "cd16a040",
      "metadata": {
        "id": "cd16a040"
      },
      "outputs": [],
      "source": [
        "df_1_EYE['ET_PupilLeft_validity'] = df_1_EYE['ET_PupilLeft_validity'].astype(np.int8)\n",
        "df_1_EYE['ET_PupilRight_validity'] = df_1_EYE['ET_PupilRight_validity'].astype(np.int8)"
      ]
    },
    {
      "cell_type": "markdown",
      "id": "5b3da434",
      "metadata": {
        "id": "5b3da434"
      },
      "source": [
        "# Feature Engineering and Observations\n",
        "\n",
        "Based on the analysis of the data, we've created two new features, `ET_PupilLeft_validity` and `ET_PupilRight_validity`. These features indicate the validity of the pupil data for the left and right eyes, respectively, with a value of 1 representing invalid data (originally -1) and 0 representing valid data.\n",
        "\n",
        "The heatmaps above visually demonstrate the distribution of -1 and 1 values across the dataset. We observed that:\n",
        "- The `-1` values are concentrated in specific columns related to gaze, pupil size, distance, and camera position, suggesting they represent missing or invalid sensor readings.\n",
        "- The `1` values, after mapping from `4.0` in the original validity columns, indicate instances of invalid eye-tracking data.\n",
        "- The heatmaps also show a strong correlation between the `-1` values in the pupil columns and a validity of 1 in the newly created pupil validity features, confirming that -1 was used to mark invalid pupil data."
      ]
    },
    {
      "cell_type": "code",
      "execution_count": null,
      "id": "435ac29e",
      "metadata": {
        "id": "435ac29e"
      },
      "outputs": [],
      "source": [
        "df_1_EYE.head()"
      ]
    },
    {
      "cell_type": "code",
      "execution_count": null,
      "id": "4198be71",
      "metadata": {
        "id": "4198be71"
      },
      "outputs": [],
      "source": [
        "# Select only the numeric columns for plotting histograms, excluding time-related columns\n",
        "numeric_cols = df_1_EYE.select_dtypes(include=np.number).columns\n",
        "cols_to_plot = [col for col in numeric_cols if col not in ['UnixTime']]\n",
        "\n",
        "# Calculate the number of rows and columns for the grid\n",
        "n_cols = 4  # You can adjust the number of columns as needed\n",
        "n_rows = (len(cols_to_plot) + n_cols - 1) // n_cols\n",
        "\n",
        "plt.figure(figsize=(n_cols * 5, n_rows * 4)) # Adjust figure size as needed\n",
        "\n",
        "for i, col in enumerate(cols_to_plot):\n",
        "    plt.subplot(n_rows, n_cols, i + 1)\n",
        "    sns.histplot(df_1_EYE[col], kde=True)\n",
        "    plt.title(f'Distribution of {col}')\n",
        "    plt.xlabel(col)\n",
        "    plt.ylabel('Frequency')\n",
        "\n",
        "plt.tight_layout()\n",
        "plt.show()"
      ]
    },
    {
      "cell_type": "markdown",
      "id": "13675d0a",
      "metadata": {
        "id": "13675d0a"
      },
      "source": [
        "# Observations from Histograms\n",
        "\n",
        "The grid of histograms provides insights into the distribution of values for each numeric column in the dataset (excluding 'UnixTime'). Key observations include:\n",
        "\n",
        "- Several columns, such as `ET_GazeLeftx`, `ET_GazeLefty`, `ET_GazeRightx`, and `ET_GazeRighty`, show distributions that appear somewhat multimodal or skewed, suggesting variations in gaze patterns.\n",
        "- The `ET_PupilLeft` and `ET_PupilRight` histograms clearly show a peak at -1, confirming the presence of a significant number of invalid pupil readings.\n",
        "- `ET_TimeSignal` shows a relatively uniform distribution, as expected for a time-based signal.\n",
        "- `ET_DistanceLeft` and `ET_DistanceRight` appear to have distributions centered around certain values, with some outliers or variations.\n",
        "- The camera position columns (`ET_CameraLeftX`, `ET_CameraLeftY`, `ET_CameraRightX`, `ET_CameraRightY`) seem to have distributions concentrated within specific ranges, reflecting the camera's field of view.\n",
        "- The validity columns (`ET_ValidityLeft`, `ET_ValidityRight`, `ET_PupilLeft_validity`, `ET_PupilRight_validity`) show distributions dominated by 0, indicating that most of the data is considered valid after the mapping. The smaller peaks at 1 represent the instances of invalid data.\n",
        "\n",
        "These distributions highlight the need for appropriate handling of the -1 values and potential outliers in subsequent analysis or modeling steps."
      ]
    },
    {
      "cell_type": "code",
      "execution_count": null,
      "id": "9ad181a5",
      "metadata": {
        "id": "9ad181a5",
        "colab": {
          "base_uri": "https://localhost:8080/"
        },
        "outputId": "01110823-3ddb-4e83-d4cc-e845cab2b56e"
      },
      "outputs": [
        {
          "output_type": "execute_result",
          "data": {
            "text/plain": [
              "Index(['UnixTime', 'QuestionKey', 'Timestamp', 'ET_GazeLeftx', 'ET_GazeLefty',\n",
              "       'ET_GazeRightx', 'ET_GazeRighty', 'ET_PupilLeft', 'ET_PupilRight',\n",
              "       'ET_TimeSignal', 'ET_DistanceLeft', 'ET_DistanceRight',\n",
              "       'ET_CameraLeftX', 'ET_CameraLeftY', 'ET_CameraRightX',\n",
              "       'ET_CameraRightY', 'ET_ValidityLeft', 'ET_ValidityRight',\n",
              "       'ET_PupilLeft_validity', 'ET_PupilRight_validity'],\n",
              "      dtype='object')"
            ]
          },
          "metadata": {},
          "execution_count": 72
        }
      ],
      "source": [
        "df_1_EYE.columns"
      ]
    },
    {
      "cell_type": "code",
      "execution_count": null,
      "id": "ce18f555",
      "metadata": {
        "id": "ce18f555"
      },
      "outputs": [],
      "source": [
        "cols = ['ET_GazeLeftx', 'ET_GazeLefty',\n",
        "       'ET_GazeRightx', 'ET_GazeRighty', 'ET_PupilLeft', 'ET_PupilRight',\n",
        "       'ET_TimeSignal', 'ET_DistanceLeft', 'ET_DistanceRight',\n",
        "       'ET_CameraLeftX', 'ET_CameraLeftY', 'ET_CameraRightX',\n",
        "       'ET_CameraRightY', 'ET_ValidityLeft', 'ET_ValidityRight',\n",
        "       'ET_PupilLeft_validity', 'ET_PupilRight_validity']"
      ]
    },
    {
      "cell_type": "code",
      "execution_count": null,
      "id": "f8e206da",
      "metadata": {
        "id": "f8e206da"
      },
      "outputs": [],
      "source": [
        "from IPython.display import display, Markdown\n",
        "\n",
        "for col in cols:\n",
        "    # Add a markdown cell before each plot for better separation and labeling\n",
        "    display(Markdown(f'### {col} over Time'))\n",
        "    plt.figure(figsize=(16, 10))\n",
        "    plt.plot(df_1_EYE['Timestamp'], df_1_EYE[col])\n",
        "    plt.xlabel(\"Timestamp\") # Add x-axis label\n",
        "    plt.ylabel(col) # Add y-axis label\n",
        "    plt.show()"
      ]
    },
    {
      "cell_type": "markdown",
      "id": "f8973d76",
      "metadata": {
        "id": "f8973d76"
      },
      "source": [
        "# Observations from Time Series Plots\n",
        "\n",
        "The line plots showing various features against the `Timestamp` reveal the temporal patterns and fluctuations in the eye-tracking data. Key observations include:\n",
        "\n",
        "- **Gaze Coordinates (`ET_GazeLeftx`, `ET_GazeLefty`, `ET_GazeRightx`, `ET_GazeRighty`):** These plots show the changes in gaze position over time. We can observe periods of relatively stable gaze interspersed with rapid movements (saccades) and blinks or other events where the gaze data might be invalid (-1 values appear as gaps or spikes if not handled).\n",
        "- **Pupil Size (`ET_PupilLeft`, `ET_PupilRight`):** The pupil size plots show variations over time. The presence of many -1 values is evident as flat lines at the bottom of the plot, indicating periods where pupil data was not recorded or was invalid.\n",
        "- **Time Signal (`ET_TimeSignal`):** This plot shows a steady, increasing trend, as expected for a time-based signal.\n",
        "- **Distance and Camera Position (`ET_DistanceLeft`, `ET_DistanceRight`, `ET_CameraLeftX`, `ET_CameraLeftY`, `ET_CameraRightX`, `ET_CameraRightY`):** These plots show how the distance from the eye tracker and the camera positions change over time. Variations in these features can be related to head movements or changes in the user's position relative to the eye tracker.\n",
        "- **Validity (`ET_ValidityLeft`, `ET_ValidityRight`, `ET_PupilLeft_validity`, `ET_PupilRight_validity`):** These plots clearly show periods of invalid data (represented by 1) as spikes or plateaus, corresponding to instances where the eye tracker lost track of the eyes or the pupil data was marked as invalid.\n",
        "\n",
        "Analyzing these time series plots is crucial for understanding the dynamics of the eye-tracking data and identifying patterns or anomalies that may require further investigation or specific handling during subsequent analysis."
      ]
    },
    {
      "cell_type": "code",
      "execution_count": null,
      "id": "167940d5",
      "metadata": {
        "id": "167940d5"
      },
      "outputs": [],
      "source": [
        "# Select only the numeric columns for plotting histograms, excluding time-related columns\n",
        "numeric_cols = df_1_EYE.select_dtypes(include=np.number).columns\n",
        "\n",
        "# Calculate the number of rows and columns for the grid\n",
        "n_cols = 4  # You can adjust the number of columns as needed\n",
        "n_rows = (len(numeric_cols) + n_cols - 1) // n_cols\n",
        "\n",
        "plt.figure(figsize=(n_cols * 5, n_rows * 4)) # Adjust figure size as needed\n",
        "\n",
        "for i, col in enumerate(numeric_cols):\n",
        "    plt.subplot(n_rows, n_cols, i + 1)\n",
        "    sns.boxplot(df_1_EYE[col])\n",
        "    plt.title(f'Boxplot of {col}')\n",
        "    plt.xlabel(col)\n",
        "\n",
        "plt.tight_layout()\n",
        "plt.show()"
      ]
    },
    {
      "cell_type": "markdown",
      "id": "ec679c3d",
      "metadata": {
        "id": "ec679c3d"
      },
      "source": [
        "# Observations from Boxplots and Handling -1 Values\n",
        "\n",
        "The boxplots provide a visual summary of the distribution and potential outliers for each numeric column. Key observations from the boxplots include:\n",
        "\n",
        "- The boxplots for columns like `ET_GazeLeftx`, `ET_GazeLefty`, `ET_GazeRightx`, `ET_GazeRighty`, `ET_PupilLeft`, `ET_PupilRight`, `ET_DistanceLeft`, `ET_DistanceRight`, `ET_CameraLeftX`, `ET_CameraLeftY`, `ET_CameraRightX`, and `ET_CameraRightY` clearly show the presence of -1 values as significant outliers, confirming our earlier observations from the heatmaps and histograms.\n",
        "- The boxplots for the validity columns (`ET_ValidityLeft`, `ET_ValidityRight`, `ET_PupilLeft_validity`, `ET_PupilRight_validity`) show the discrete nature of these features, with the majority of data points at 0 (valid) and a smaller number at 1 (invalid).\n",
        "\n",
        "Given the significant presence of -1 values, which represent invalid or missing data, especially in the pupil-related columns, we have decided to replace these -1 values with NaN to properly represent them as missing data. Subsequently, we will impute these missing values using the mean of each respective column. This approach helps to retain the data structure and allows for further analysis or modeling without the distortion caused by the -1 placeholders."
      ]
    },
    {
      "cell_type": "code",
      "execution_count": null,
      "id": "576bebd7",
      "metadata": {
        "id": "576bebd7"
      },
      "outputs": [],
      "source": [
        "df_1_EYE.replace({-1: np.nan}, inplace=True)"
      ]
    },
    {
      "cell_type": "code",
      "execution_count": null,
      "id": "4ff723c3",
      "metadata": {
        "id": "4ff723c3",
        "colab": {
          "base_uri": "https://localhost:8080/"
        },
        "outputId": "6b07fdd9-938f-4bde-832c-0ab6756e4401"
      },
      "outputs": [
        {
          "output_type": "execute_result",
          "data": {
            "text/plain": [
              "ET_GazeLeftx                 928.506747\n",
              "ET_GazeLefty                 523.503516\n",
              "ET_GazeRightx                946.160736\n",
              "ET_GazeRighty                540.409797\n",
              "ET_PupilLeft                   2.988845\n",
              "ET_PupilRight                  3.124275\n",
              "ET_TimeSignal             372182.616266\n",
              "ET_DistanceLeft              582.618727\n",
              "ET_DistanceRight             578.183736\n",
              "ET_CameraLeftX                 0.599164\n",
              "ET_CameraLeftY                 0.488960\n",
              "ET_CameraRightX                0.439478\n",
              "ET_CameraRightY                0.486628\n",
              "ET_ValidityLeft                0.130202\n",
              "ET_ValidityRight               0.101855\n",
              "ET_PupilLeft_validity          0.736664\n",
              "ET_PupilRight_validity         0.717464\n",
              "dtype: float64"
            ]
          },
          "metadata": {},
          "execution_count": 77
        }
      ],
      "source": [
        "df_1_EYE[['ET_GazeLeftx', 'ET_GazeLefty',\n",
        "       'ET_GazeRightx', 'ET_GazeRighty', 'ET_PupilLeft', 'ET_PupilRight',\n",
        "       'ET_TimeSignal', 'ET_DistanceLeft', 'ET_DistanceRight',\n",
        "       'ET_CameraLeftX', 'ET_CameraLeftY', 'ET_CameraRightX',\n",
        "       'ET_CameraRightY', 'ET_ValidityLeft', 'ET_ValidityRight',\n",
        "       'ET_PupilLeft_validity', 'ET_PupilRight_validity']].mean()"
      ]
    },
    {
      "cell_type": "code",
      "execution_count": null,
      "id": "28f58004",
      "metadata": {
        "id": "28f58004",
        "colab": {
          "base_uri": "https://localhost:8080/"
        },
        "outputId": "f566a46d-0fc4-48ef-a31e-d69267e12203"
      },
      "outputs": [
        {
          "output_type": "execute_result",
          "data": {
            "text/plain": [
              "ET_GazeLeftx                 920.000000\n",
              "ET_GazeLefty                 487.000000\n",
              "ET_GazeRightx                928.000000\n",
              "ET_GazeRighty                506.000000\n",
              "ET_PupilLeft                   2.986412\n",
              "ET_PupilRight                  3.134888\n",
              "ET_TimeSignal             372185.320000\n",
              "ET_DistanceLeft              581.791260\n",
              "ET_DistanceRight             577.356384\n",
              "ET_CameraLeftX                 0.601382\n",
              "ET_CameraLeftY                 0.489263\n",
              "ET_CameraRightX                0.441483\n",
              "ET_CameraRightY                0.486358\n",
              "ET_ValidityLeft                0.000000\n",
              "ET_ValidityRight               0.000000\n",
              "ET_PupilLeft_validity          1.000000\n",
              "ET_PupilRight_validity         1.000000\n",
              "dtype: float64"
            ]
          },
          "metadata": {},
          "execution_count": 78
        }
      ],
      "source": [
        "df_1_EYE[['ET_GazeLeftx', 'ET_GazeLefty',\n",
        "       'ET_GazeRightx', 'ET_GazeRighty', 'ET_PupilLeft', 'ET_PupilRight',\n",
        "       'ET_TimeSignal', 'ET_DistanceLeft', 'ET_DistanceRight',\n",
        "       'ET_CameraLeftX', 'ET_CameraLeftY', 'ET_CameraRightX',\n",
        "       'ET_CameraRightY', 'ET_ValidityLeft', 'ET_ValidityRight',\n",
        "       'ET_PupilLeft_validity', 'ET_PupilRight_validity']].median()"
      ]
    },
    {
      "cell_type": "code",
      "execution_count": null,
      "id": "efd283e7",
      "metadata": {
        "id": "efd283e7"
      },
      "outputs": [],
      "source": [
        "numeric_cols = df_1_EYE.select_dtypes(include=np.number).columns\n",
        "\n",
        "for col in numeric_cols:\n",
        "    df_1_EYE[col] = df_1_EYE[col].fillna(df_1_EYE[col].mean())"
      ]
    },
    {
      "cell_type": "code",
      "execution_count": null,
      "id": "461e074e",
      "metadata": {
        "id": "461e074e"
      },
      "outputs": [],
      "source": [
        "plt.figure(figsize=(18, 8))\n",
        "\n",
        "plt.subplot(1, 2, 1)\n",
        "sns.heatmap(df_1_EYE.isnull(), cmap='viridis')\n",
        "plt.title('Heatmap of Missing Values After Imputation')\n",
        "\n",
        "plt.subplot(1, 2, 2)\n",
        "sns.heatmap(df_1_EYE == 1, cmap='viridis')\n",
        "plt.title('Heatmap of 1 Values')\n",
        "\n",
        "plt.tight_layout()\n",
        "plt.show()"
      ]
    },
    {
      "cell_type": "markdown",
      "id": "b3ae1983",
      "metadata": {
        "id": "b3ae1983"
      },
      "source": [
        "# Handling Missing Values (Imputation)\n",
        "\n",
        "As decided, we have replaced all the `-1` values with `NaN` to treat them as missing data. Subsequently, we have imputed these `NaN` values with the mean of their respective columns. The heatmap above, which was generated after the imputation, now shows no visible signs of `NaN` values, indicating that the imputation was successful."
      ]
    },
    {
      "cell_type": "code",
      "execution_count": null,
      "id": "7e0f8615",
      "metadata": {
        "id": "7e0f8615"
      },
      "outputs": [],
      "source": [
        "df_1_EYE.head()"
      ]
    },
    {
      "cell_type": "code",
      "execution_count": null,
      "id": "ef4aa6ae",
      "metadata": {
        "id": "ef4aa6ae"
      },
      "outputs": [],
      "source": [
        "# Select only the numeric columns for plotting histograms, excluding time-related columns\n",
        "numeric_cols = df_1_EYE.select_dtypes(include=np.number).columns\n",
        "cols_to_plot = [col for col in numeric_cols if col not in ['UnixTime']]\n",
        "\n",
        "# Calculate the number of rows and columns for the grid\n",
        "n_cols = 4  # You can adjust the number of columns as needed\n",
        "n_rows = (len(cols_to_plot) + n_cols - 1) // n_cols\n",
        "\n",
        "plt.figure(figsize=(n_cols * 5, n_rows * 4)) # Adjust figure size as needed\n",
        "\n",
        "for i, col in enumerate(cols_to_plot):\n",
        "    plt.subplot(n_rows, n_cols, i + 1)\n",
        "    sns.histplot(df_1_EYE[col], kde=True)\n",
        "    plt.title(f'Distribution of {col}')\n",
        "    plt.xlabel(col)\n",
        "    plt.ylabel('Frequency')\n",
        "\n",
        "plt.tight_layout()\n",
        "plt.show()"
      ]
    },
    {
      "cell_type": "markdown",
      "id": "bd7b9d1a",
      "metadata": {
        "id": "bd7b9d1a"
      },
      "source": [
        "# Observations from Histograms After Imputation\n",
        "\n",
        "The histograms generated after replacing the -1 values with the mean of each column show the distributions of the numeric features with the missing data handled. Key observations from these updated histograms include:\n",
        "\n",
        "- The distinct peaks at -1, which were prominent in the histograms for several columns (e.g., pupil size, gaze coordinates, distance, and camera position) before imputation, are now replaced by a peak at the mean of each respective column.\n",
        "- The distributions in many columns now appear more unimodal or show shifted modes compared to the original histograms.\n",
        "- The histograms for the validity columns still show their bimodal distributions with peaks at 0 and 1, as these were handled separately.\n",
        "\n",
        "These histograms provide an updated view of the data's distribution after handling the missing values, highlighting the impact of the imputation method on the data's characteristics."
      ]
    },
    {
      "cell_type": "code",
      "execution_count": null,
      "id": "977fc0c7",
      "metadata": {
        "id": "977fc0c7"
      },
      "outputs": [],
      "source": [
        "cols = ['ET_GazeLeftx', 'ET_GazeLefty',\n",
        "       'ET_GazeRightx', 'ET_GazeRighty', 'ET_PupilLeft', 'ET_PupilRight',\n",
        "       'ET_TimeSignal', 'ET_DistanceLeft', 'ET_DistanceRight',\n",
        "       'ET_CameraLeftX', 'ET_CameraLeftY', 'ET_CameraRightX',\n",
        "       'ET_CameraRightY', 'ET_ValidityLeft', 'ET_ValidityRight',\n",
        "       'ET_PupilLeft_validity', 'ET_PupilRight_validity']"
      ]
    },
    {
      "cell_type": "code",
      "execution_count": null,
      "id": "593deb44",
      "metadata": {
        "id": "593deb44"
      },
      "outputs": [],
      "source": [
        "for col in cols:\n",
        "    # Add a markdown cell before each plot for better separation and labeling\n",
        "    display(Markdown(f'### {col} over Time'))\n",
        "    plt.figure(figsize=(16, 10))\n",
        "    plt.plot(df_1_EYE['Timestamp'], df_1_EYE[col])\n",
        "    plt.xlabel(\"Timestamp\") # Add x-axis label\n",
        "    plt.ylabel(col) # Add y-axis label\n",
        "    plt.show()"
      ]
    },
    {
      "cell_type": "markdown",
      "id": "18d76a20",
      "metadata": {
        "id": "18d76a20"
      },
      "source": [
        "# Observations from Time Series Plots After Imputation\n",
        "\n",
        "The line plots generated after imputing the missing values with the mean show the temporal patterns of the features with the missing data handled. Key observations from these updated plots include:\n",
        "\n",
        "- The gaps or flat lines at -1, which were prominent in the plots for columns like gaze coordinates, pupil size, distance, and camera position, are now filled by lines at the mean value of the respective columns.\n",
        "- The plots for the validity columns remain the same as they were handled separately.\n",
        "- The `ET_TimeSignal` plot still shows a steady increasing trend, as expected."
      ]
    },
    {
      "cell_type": "code",
      "execution_count": null,
      "id": "4f9950f6",
      "metadata": {
        "id": "4f9950f6"
      },
      "outputs": [],
      "source": [
        "plt.figure(figsize=(16, 10))\n",
        "sns.heatmap(df_1_EYE.corr(numeric_only=True), cmap='YlGnBu', annot=True)\n",
        "plt.show()"
      ]
    },
    {
      "cell_type": "markdown",
      "id": "000cc9a2",
      "metadata": {
        "id": "000cc9a2"
      },
      "source": [
        "# Observations from Correlation Heatmap\n",
        "\n",
        "The correlation heatmap provides a visual representation of the pairwise correlations between the numeric columns in the dataset. Key observations from the heatmap include:\n",
        "\n",
        "- **High Positive Correlations:** We observe strong positive correlations (values close to 1) between:\n",
        "  - `ET_GazeLeftx` and `ET_GazeRightx`: This is expected as the gaze positions of both eyes should be highly correlated when fixating on a point.\n",
        "  - `ET_GazeLefty` and `ET_GazeRighty`: Similar to the x-coordinates, the y-coordinates of gaze should also be highly correlated.\n",
        "  - `ET_PupilLeft` and `ET_PupilRight`: Pupil sizes of both eyes tend to change together in response to light and cognitive load.\n",
        "  - `ET_DistanceLeft` and `ET_DistanceRight`: The distance from the eye tracker to each eye should be highly correlated.\n",
        "  - `ET_CameraLeftX` and `ET_CameraRightX`, `ET_CameraLeftY` and `ET_CameraRightY`: The camera positions for both eyes are also expected to be highly correlated.\n",
        "  - `UnixTime` and `ET_TimeSignal`: As previously noted, these two columns are almost perfectly linearly correlated, indicating redundancy.\n",
        "  - `ET_ValidityLeft` and `ET_PupilLeft_validity`: There is a positive correlation, suggesting that when the overall left eye data is invalid, the left pupil data is also likely to be invalid.\n",
        "  - `ET_ValidityRight` and `ET_PupilRight_validity`: Similar to the left eye, there is a positive correlation between the overall right eye validity and the right pupil validity.\n",
        "- **Other Correlations:** We can also observe other varying degrees of correlations between different features, which can provide insights into the relationships between gaze behavior, pupil size, distance, and camera position. For example, there might be correlations between gaze coordinates and camera positions, reflecting head movements.\n",
        "- **Low or Near-Zero Correlations:** Columns with low or near-zero correlations are relatively independent of each other.\n",
        "\n",
        "Understanding these correlations is important for feature selection and for building models, as highly correlated features might indicate multicollinearity, while correlations between features can reveal underlying patterns in the data."
      ]
    },
    {
      "cell_type": "markdown",
      "id": "927d4f0a",
      "metadata": {
        "id": "927d4f0a"
      },
      "source": [
        "# Analysis of ET_TimeSignal and Decision to Drop\n",
        "\n",
        "As observed in the time series plot and confirmed by the correlation heatmap, the `ET_TimeSignal` column exhibits a near-perfect linear relationship with both the `Timestamp` and `UnixTime` columns. This strong correlation (close to 1) suggests that `ET_TimeSignal` is essentially redundant and likely represents another form of time recording or a signal directly derived from the timestamp.\n",
        "\n",
        "Including highly correlated features like this in a dataset can lead to issues such as multicollinearity in some statistical models, which can make it difficult to interpret the individual impact of each feature. Since the `Timestamp` column already provides the necessary temporal information, retaining `ET_TimeSignal` does not appear to add significant value for further analysis or modeling in most cases.\n",
        "\n",
        "Therefore, based on its high correlation and lack of unique insight, we will proceed to drop the `ET_TimeSignal` column to simplify the dataset and potentially improve the performance and interpretability of future analyses."
      ]
    },
    {
      "cell_type": "code",
      "execution_count": null,
      "id": "dea6ea40",
      "metadata": {
        "id": "dea6ea40"
      },
      "outputs": [],
      "source": [
        "df_1_EYE.drop('ET_TimeSignal', axis=1, inplace=True)"
      ]
    },
    {
      "cell_type": "code",
      "execution_count": null,
      "id": "1d908c9e",
      "metadata": {
        "id": "1d908c9e"
      },
      "outputs": [],
      "source": [
        "plt.figure(figsize=(16, 10))\n",
        "sns.pairplot(df_1_EYE)\n",
        "plt.show()"
      ]
    },
    {
      "cell_type": "markdown",
      "id": "c6af9c3e",
      "metadata": {
        "id": "c6af9c3e"
      },
      "source": [
        "# **2_EYE**"
      ]
    },
    {
      "cell_type": "code",
      "execution_count": null,
      "id": "2ba21203",
      "metadata": {
        "id": "2ba21203"
      },
      "outputs": [],
      "source": []
    },
    {
      "cell_type": "code",
      "execution_count": null,
      "id": "69265b3c",
      "metadata": {
        "id": "69265b3c"
      },
      "outputs": [],
      "source": [
        "df_2_EYE = pd.read_csv('data/STData/2/2_EYE.csv')"
      ]
    },
    {
      "cell_type": "code",
      "execution_count": null,
      "id": "2a7f4554",
      "metadata": {
        "id": "2a7f4554"
      },
      "outputs": [],
      "source": [
        "df_2_EYE.head()"
      ]
    },
    {
      "cell_type": "code",
      "execution_count": null,
      "id": "b3072154",
      "metadata": {
        "id": "b3072154",
        "colab": {
          "base_uri": "https://localhost:8080/"
        },
        "outputId": "eff3716e-981d-4a05-df32-dfa96c9b664f"
      },
      "outputs": [
        {
          "output_type": "execute_result",
          "data": {
            "text/plain": [
              "(106869, 19)"
            ]
          },
          "metadata": {},
          "execution_count": 90
        }
      ],
      "source": [
        "df_2_EYE.shape"
      ]
    },
    {
      "cell_type": "code",
      "execution_count": null,
      "id": "01f1e627",
      "metadata": {
        "id": "01f1e627",
        "colab": {
          "base_uri": "https://localhost:8080/"
        },
        "outputId": "a9066821-0811-42ac-e5fa-a1c679574a66"
      },
      "outputs": [
        {
          "output_type": "execute_result",
          "data": {
            "text/plain": [
              "Index(['UnixTime', 'Row', 'QuestionKey', 'Timestamp', 'ET_GazeLeftx',\n",
              "       'ET_GazeLefty', 'ET_GazeRightx', 'ET_GazeRighty', 'ET_PupilLeft',\n",
              "       'ET_PupilRight', 'ET_TimeSignal', 'ET_DistanceLeft', 'ET_DistanceRight',\n",
              "       'ET_CameraLeftX', 'ET_CameraLeftY', 'ET_CameraRightX',\n",
              "       'ET_CameraRightY', 'ET_ValidityLeft', 'ET_ValidityRight'],\n",
              "      dtype='object')"
            ]
          },
          "metadata": {},
          "execution_count": 91
        }
      ],
      "source": [
        "df_2_EYE.columns"
      ]
    },
    {
      "cell_type": "code",
      "execution_count": null,
      "id": "a5ee68ed",
      "metadata": {
        "id": "a5ee68ed",
        "colab": {
          "base_uri": "https://localhost:8080/"
        },
        "outputId": "023234cf-1484-4ab7-e84c-593e3131caef"
      },
      "outputs": [
        {
          "output_type": "stream",
          "name": "stdout",
          "text": [
            "<class 'pandas.core.frame.DataFrame'>\n",
            "RangeIndex: 106869 entries, 0 to 106868\n",
            "Data columns (total 19 columns):\n",
            " #   Column            Non-Null Count   Dtype  \n",
            "---  ------            --------------   -----  \n",
            " 0   UnixTime          106869 non-null  float64\n",
            " 1   Row               106869 non-null  int64  \n",
            " 2   QuestionKey       68297 non-null   object \n",
            " 3   Timestamp         106869 non-null  object \n",
            " 4   ET_GazeLeftx      106865 non-null  float64\n",
            " 5   ET_GazeLefty      106865 non-null  float64\n",
            " 6   ET_GazeRightx     106865 non-null  float64\n",
            " 7   ET_GazeRighty     106865 non-null  float64\n",
            " 8   ET_PupilLeft      106865 non-null  float64\n",
            " 9   ET_PupilRight     106865 non-null  float64\n",
            " 10  ET_TimeSignal     106865 non-null  float64\n",
            " 11  ET_DistanceLeft   106865 non-null  float64\n",
            " 12  ET_DistanceRight  106865 non-null  float64\n",
            " 13  ET_CameraLeftX    106865 non-null  float64\n",
            " 14  ET_CameraLeftY    106865 non-null  float64\n",
            " 15  ET_CameraRightX   106865 non-null  float64\n",
            " 16  ET_CameraRightY   106865 non-null  float64\n",
            " 17  ET_ValidityLeft   106865 non-null  float64\n",
            " 18  ET_ValidityRight  106865 non-null  float64\n",
            "dtypes: float64(16), int64(1), object(2)\n",
            "memory usage: 15.5+ MB\n"
          ]
        }
      ],
      "source": [
        "df_2_EYE.info()"
      ]
    },
    {
      "cell_type": "code",
      "execution_count": null,
      "id": "85351df7",
      "metadata": {
        "id": "85351df7",
        "colab": {
          "base_uri": "https://localhost:8080/"
        },
        "outputId": "6ec0cdbe-57c8-4dbc-ccf4-cb0c8eab45a1"
      },
      "outputs": [
        {
          "output_type": "execute_result",
          "data": {
            "text/plain": [
              "UnixTime                0\n",
              "Row                     0\n",
              "QuestionKey         38572\n",
              "Timestamp               0\n",
              "ET_GazeLeftx            4\n",
              "ET_GazeLefty            4\n",
              "ET_GazeRightx           4\n",
              "ET_GazeRighty           4\n",
              "ET_PupilLeft            4\n",
              "ET_PupilRight           4\n",
              "ET_TimeSignal           4\n",
              "ET_DistanceLeft         4\n",
              "ET_DistanceRight        4\n",
              "ET_CameraLeftX          4\n",
              "ET_CameraLeftY          4\n",
              "ET_CameraRightX         4\n",
              "ET_CameraRightY         4\n",
              "ET_ValidityLeft         4\n",
              "ET_ValidityRight        4\n",
              "dtype: int64"
            ]
          },
          "metadata": {},
          "execution_count": 93
        }
      ],
      "source": [
        "df_2_EYE.isnull().sum()"
      ]
    },
    {
      "cell_type": "code",
      "execution_count": null,
      "id": "80378a1d",
      "metadata": {
        "id": "80378a1d"
      },
      "outputs": [],
      "source": [
        "plt.figure(figsize=(12,8))\n",
        "sns.heatmap(df_2_EYE.isnull(), cmap='viridis')\n",
        "plt.show()"
      ]
    },
    {
      "cell_type": "markdown",
      "id": "2d8c7c41",
      "metadata": {
        "id": "2d8c7c41"
      },
      "source": [
        "# Notes & Observations\n",
        "\n",
        "- We observe many **null** (or missing) values in the `QuestionKey` columns.\n",
        "- The nulls in the `QuestionKey` column may not represent “true” nulls. Rather, they follow interval patterns, suggesting that during those periods no question was displayed.\n",
        "- These missing values in `QuestionKey` require additional investigation and context-aware handling."
      ]
    },
    {
      "cell_type": "code",
      "execution_count": null,
      "id": "e83f6633",
      "metadata": {
        "id": "e83f6633",
        "colab": {
          "base_uri": "https://localhost:8080/"
        },
        "outputId": "bbcf4c3e-27f5-4eec-9f19-4b20e0e8d443"
      },
      "outputs": [
        {
          "output_type": "execute_result",
          "data": {
            "text/plain": [
              "array([nan, '1spl1', '1spl2', '1Item1', '1Item2', '1Item3', '1Item4',\n",
              "       '1Item5', '1Item6', '1Item7', '1Item8', '1Item9', '1Item10',\n",
              "       '2spl1', '2spl2', '2Item1', '2Item2', '2Item3', '2Item4', '2Item5',\n",
              "       '2Item6', '2Item7', '2Item8', '2Item9', '2Item10', '3spl1',\n",
              "       '3Item15', '3Item2', '3Item5', '3Item12', '3Item6', '3Item8',\n",
              "       '3Item7', '3Item9'], dtype=object)"
            ]
          },
          "metadata": {},
          "execution_count": 95
        }
      ],
      "source": [
        "df_2_EYE['QuestionKey'].unique()"
      ]
    },
    {
      "cell_type": "code",
      "execution_count": null,
      "id": "4812bce4",
      "metadata": {
        "id": "4812bce4"
      },
      "outputs": [],
      "source": [
        "df_2_EYE['Timestamp'] = pd.to_datetime(df_2_EYE['Timestamp'])"
      ]
    },
    {
      "cell_type": "code",
      "execution_count": null,
      "id": "c675d12f",
      "metadata": {
        "id": "c675d12f"
      },
      "outputs": [],
      "source": [
        "df_2_EYE.head(3)"
      ]
    },
    {
      "cell_type": "code",
      "execution_count": null,
      "id": "04b01b91",
      "metadata": {
        "id": "04b01b91"
      },
      "outputs": [],
      "source": [
        "df_2_EYE['QuestionKey'] = df_2_EYE['QuestionKey'].fillna('None')"
      ]
    },
    {
      "cell_type": "code",
      "execution_count": null,
      "id": "2b51f3bf",
      "metadata": {
        "id": "2b51f3bf",
        "colab": {
          "base_uri": "https://localhost:8080/"
        },
        "outputId": "2fbf5230-e67d-4fc1-fdc5-df6a85ae38aa"
      },
      "outputs": [
        {
          "output_type": "execute_result",
          "data": {
            "text/plain": [
              "QuestionKey\n",
              "None       38572\n",
              "1Item5      4378\n",
              "1Item9      3941\n",
              "2Item9      3546\n",
              "1Item4      3403\n",
              "1Item6      3303\n",
              "1Item8      3205\n",
              "2Item3      3030\n",
              "2Item7      2503\n",
              "2Item10     2417\n",
              "3Item2      2256\n",
              "3Item8      2167\n",
              "1Item3      2128\n",
              "2Item1      2115\n",
              "2Item6      1951\n",
              "2spl1       1933\n",
              "3Item6      1927\n",
              "2Item5      1906\n",
              "3Item12     1851\n",
              "3Item7      1768\n",
              "2Item2      1755\n",
              "3Item5      1743\n",
              "2spl2       1734\n",
              "2Item8      1625\n",
              "1Item2      1538\n",
              "1Item7      1520\n",
              "3Item9      1440\n",
              "3spl1       1304\n",
              "1spl1       1296\n",
              "2Item4      1225\n",
              "3Item15     1223\n",
              "1Item1       843\n",
              "1Item10      777\n",
              "1spl2        546\n",
              "Name: count, dtype: int64"
            ]
          },
          "metadata": {},
          "execution_count": 99
        }
      ],
      "source": [
        "df_2_EYE['QuestionKey'].value_counts()"
      ]
    },
    {
      "cell_type": "code",
      "execution_count": null,
      "id": "9e828e8e",
      "metadata": {
        "id": "9e828e8e"
      },
      "outputs": [],
      "source": [
        "plt.figure(figsize=(12,8))\n",
        "sns.heatmap(df_2_EYE.isnull(), cmap='viridis')\n",
        "plt.show()"
      ]
    },
    {
      "cell_type": "code",
      "execution_count": null,
      "id": "d6847cd7",
      "metadata": {
        "id": "d6847cd7",
        "colab": {
          "base_uri": "https://localhost:8080/"
        },
        "outputId": "9fdcc855-f3c4-4c7e-dfe9-99614df20b24"
      },
      "outputs": [
        {
          "output_type": "execute_result",
          "data": {
            "text/plain": [
              "UnixTime            0\n",
              "Row                 0\n",
              "QuestionKey         0\n",
              "Timestamp           0\n",
              "ET_GazeLeftx        4\n",
              "ET_GazeLefty        4\n",
              "ET_GazeRightx       4\n",
              "ET_GazeRighty       4\n",
              "ET_PupilLeft        4\n",
              "ET_PupilRight       4\n",
              "ET_TimeSignal       4\n",
              "ET_DistanceLeft     4\n",
              "ET_DistanceRight    4\n",
              "ET_CameraLeftX      4\n",
              "ET_CameraLeftY      4\n",
              "ET_CameraRightX     4\n",
              "ET_CameraRightY     4\n",
              "ET_ValidityLeft     4\n",
              "ET_ValidityRight    4\n",
              "dtype: int64"
            ]
          },
          "metadata": {},
          "execution_count": 101
        }
      ],
      "source": [
        "df_2_EYE.isnull().sum()"
      ]
    },
    {
      "cell_type": "code",
      "execution_count": null,
      "id": "81f83551",
      "metadata": {
        "id": "81f83551"
      },
      "outputs": [],
      "source": [
        "df_2_EYE.dropna(inplace=True)"
      ]
    },
    {
      "cell_type": "code",
      "execution_count": null,
      "id": "23bea793",
      "metadata": {
        "id": "23bea793"
      },
      "outputs": [],
      "source": [
        "df_2_EYE.head()"
      ]
    },
    {
      "cell_type": "code",
      "execution_count": null,
      "id": "786387ac",
      "metadata": {
        "id": "786387ac",
        "colab": {
          "base_uri": "https://localhost:8080/"
        },
        "outputId": "5d1dd74b-5172-403e-9e35-fef4ecd5e26d"
      },
      "outputs": [
        {
          "output_type": "execute_result",
          "data": {
            "text/plain": [
              "array([     2,      3,      4, ..., 106865, 106866, 106867],\n",
              "      shape=(106865,))"
            ]
          },
          "metadata": {},
          "execution_count": 104
        }
      ],
      "source": [
        "df_2_EYE['Row'].unique()"
      ]
    },
    {
      "cell_type": "code",
      "execution_count": null,
      "id": "90c1ec77",
      "metadata": {
        "id": "90c1ec77"
      },
      "outputs": [],
      "source": [
        "plt.figure(figsize=(8,6))\n",
        "sns.histplot(df_2_EYE['Row'])\n",
        "plt.show()"
      ]
    },
    {
      "cell_type": "markdown",
      "id": "7c13cb80",
      "metadata": {
        "id": "7c13cb80"
      },
      "source": [
        "# Notes & Observations\n",
        "\n",
        "- The `Row` column appears to be a simple row index and does not provide meaningful information relevant to the eye-tracking data itself. Therefore, it can be dropped."
      ]
    },
    {
      "cell_type": "code",
      "execution_count": null,
      "id": "1957b2d2",
      "metadata": {
        "id": "1957b2d2"
      },
      "outputs": [],
      "source": [
        "df_2_EYE.drop('Row', axis=1, inplace=True)"
      ]
    },
    {
      "cell_type": "code",
      "execution_count": null,
      "id": "bedd19d1",
      "metadata": {
        "id": "bedd19d1",
        "colab": {
          "base_uri": "https://localhost:8080/"
        },
        "outputId": "e8fc98e9-c04d-4abe-b2fe-82ef5b8c1552"
      },
      "outputs": [
        {
          "output_type": "execute_result",
          "data": {
            "text/plain": [
              "array([0., 4.])"
            ]
          },
          "metadata": {},
          "execution_count": 107
        }
      ],
      "source": [
        "df_2_EYE['ET_ValidityLeft'].unique()"
      ]
    },
    {
      "cell_type": "code",
      "execution_count": null,
      "id": "b58936eb",
      "metadata": {
        "id": "b58936eb",
        "colab": {
          "base_uri": "https://localhost:8080/"
        },
        "outputId": "f4d7cd8b-755e-4c5d-db88-a8899627f00c"
      },
      "outputs": [
        {
          "output_type": "execute_result",
          "data": {
            "text/plain": [
              "ET_ValidityLeft\n",
              "0.0    94337\n",
              "4.0    12528\n",
              "Name: count, dtype: int64"
            ]
          },
          "metadata": {},
          "execution_count": 108
        }
      ],
      "source": [
        "df_2_EYE['ET_ValidityLeft'].value_counts()"
      ]
    },
    {
      "cell_type": "code",
      "execution_count": null,
      "id": "894f88c7",
      "metadata": {
        "id": "894f88c7",
        "colab": {
          "base_uri": "https://localhost:8080/"
        },
        "outputId": "a9be01af-0130-498c-e5e2-7c38fd59d1a3"
      },
      "outputs": [
        {
          "output_type": "execute_result",
          "data": {
            "text/plain": [
              "array([0., 4.])"
            ]
          },
          "metadata": {},
          "execution_count": 109
        }
      ],
      "source": [
        "df_2_EYE['ET_ValidityRight'].unique()"
      ]
    },
    {
      "cell_type": "code",
      "execution_count": null,
      "id": "b2dfcd8b",
      "metadata": {
        "id": "b2dfcd8b",
        "colab": {
          "base_uri": "https://localhost:8080/"
        },
        "outputId": "00b65dd3-2f75-4cff-8e98-e845baf6f4bc"
      },
      "outputs": [
        {
          "output_type": "execute_result",
          "data": {
            "text/plain": [
              "ET_ValidityRight\n",
              "0.0    97983\n",
              "4.0     8882\n",
              "Name: count, dtype: int64"
            ]
          },
          "metadata": {},
          "execution_count": 110
        }
      ],
      "source": [
        "df_2_EYE['ET_ValidityRight'].value_counts()"
      ]
    },
    {
      "cell_type": "code",
      "execution_count": null,
      "id": "9d8ea3b5",
      "metadata": {
        "id": "9d8ea3b5"
      },
      "outputs": [],
      "source": [
        "plt.figure(figsize=(12, 6))\n",
        "\n",
        "plt.subplot(1, 2, 1)\n",
        "sns.barplot(x=df_2_EYE['ET_ValidityLeft'].value_counts().index, y=df_2_EYE['ET_ValidityLeft'].value_counts().values)\n",
        "plt.title('Count of ET_ValidityLeft')\n",
        "plt.xlabel('Validity')\n",
        "plt.ylabel('Count')\n",
        "\n",
        "\n",
        "plt.subplot(1, 2, 2)\n",
        "sns.barplot(x=df_2_EYE['ET_ValidityRight'].value_counts().index, y=df_2_EYE['ET_ValidityRight'].value_counts().values)\n",
        "plt.title('Count of ET_ValidityRight')\n",
        "plt.xlabel('Validity')\n",
        "plt.ylabel('Count')\n",
        "\n",
        "plt.tight_layout()\n",
        "plt.show()"
      ]
    },
    {
      "cell_type": "markdown",
      "id": "d1f278f5",
      "metadata": {
        "id": "d1f278f5"
      },
      "source": [
        "# Notes & Observations\n",
        "\n",
        "- The `ET_ValidityLeft` and `ET_ValidityRight` columns indicate the validity of the eye-tracking data for the left and right eye, respectively.\n",
        "- Based on the value counts and the bar plots, it appears that a value of `0.0` represents valid eye-tracking data, while a value of `4.0` represents invalid data.\n",
        "- Although the amount of invalid data is relatively small, removing these rows could introduce unwanted patterns or gaps in the time series data.\n",
        "- Therefore, we will keep the data and replace the value `4.0` with `1.0` in both `ET_ValidityLeft` and `ET_ValidityRight` columns. This will indicate to a machine learning model that the eye tracker had invalid data at those specific points in time while maintaining the integrity of the time series."
      ]
    },
    {
      "cell_type": "markdown",
      "id": "33895bc7",
      "metadata": {
        "id": "33895bc7"
      },
      "source": [
        "Define a mapping to convert validity values from `0.0` and `4.0` to `0` and `1`."
      ]
    },
    {
      "cell_type": "code",
      "execution_count": null,
      "id": "22fbbda6",
      "metadata": {
        "id": "22fbbda6"
      },
      "outputs": [],
      "source": [
        "validity_map = {4.0: 1.0, 0.0: 0.0}"
      ]
    },
    {
      "cell_type": "code",
      "execution_count": null,
      "id": "40dcb59f",
      "metadata": {
        "id": "40dcb59f"
      },
      "outputs": [],
      "source": [
        "df_2_EYE['ET_ValidityLeft'] = df_2_EYE['ET_ValidityLeft'].map(validity_map).astype(np.int8)\n",
        "df_2_EYE['ET_ValidityRight'] = df_2_EYE['ET_ValidityRight'].map(validity_map).astype(np.int8)"
      ]
    },
    {
      "cell_type": "code",
      "execution_count": null,
      "id": "acd71b4c",
      "metadata": {
        "id": "acd71b4c"
      },
      "outputs": [],
      "source": [
        "df_2_EYE.head(3)"
      ]
    },
    {
      "cell_type": "code",
      "execution_count": null,
      "id": "b6cb2762",
      "metadata": {
        "id": "b6cb2762"
      },
      "outputs": [],
      "source": [
        "df_2_EYE.describe()"
      ]
    },
    {
      "cell_type": "code",
      "execution_count": null,
      "id": "0bda616d",
      "metadata": {
        "id": "0bda616d",
        "colab": {
          "base_uri": "https://localhost:8080/"
        },
        "outputId": "45574372-4754-4423-8bdb-88d1900b4c5f"
      },
      "outputs": [
        {
          "output_type": "execute_result",
          "data": {
            "text/plain": [
              "(12528, 18)"
            ]
          },
          "metadata": {},
          "execution_count": 116
        }
      ],
      "source": [
        "df_2_EYE[df_2_EYE['ET_ValidityLeft'] == 1].shape"
      ]
    },
    {
      "cell_type": "code",
      "execution_count": null,
      "id": "8bd856d3",
      "metadata": {
        "id": "8bd856d3",
        "colab": {
          "base_uri": "https://localhost:8080/"
        },
        "outputId": "5d4bc52f-8a9f-4c13-ef58-4e823de81d92"
      },
      "outputs": [
        {
          "output_type": "execute_result",
          "data": {
            "text/plain": [
              "(8882, 18)"
            ]
          },
          "metadata": {},
          "execution_count": 117
        }
      ],
      "source": [
        "df_2_EYE[df_2_EYE['ET_ValidityRight'] == 1].shape"
      ]
    },
    {
      "cell_type": "code",
      "execution_count": null,
      "id": "702913d9",
      "metadata": {
        "id": "702913d9",
        "colab": {
          "base_uri": "https://localhost:8080/"
        },
        "outputId": "8afe0952-e6f6-4824-fce8-e6234480b80f"
      },
      "outputs": [
        {
          "output_type": "execute_result",
          "data": {
            "text/plain": [
              "0.11723202170963365"
            ]
          },
          "metadata": {},
          "execution_count": 118
        }
      ],
      "source": [
        "df_2_EYE[df_2_EYE['ET_ValidityLeft'] == 1].shape[0] / df_2_EYE.shape[0]"
      ]
    },
    {
      "cell_type": "code",
      "execution_count": null,
      "id": "cd6366c3",
      "metadata": {
        "id": "cd6366c3",
        "colab": {
          "base_uri": "https://localhost:8080/"
        },
        "outputId": "21efa30a-929e-424c-f87c-50d0bb4a9692"
      },
      "outputs": [
        {
          "output_type": "execute_result",
          "data": {
            "text/plain": [
              "0.08311420951667993"
            ]
          },
          "metadata": {},
          "execution_count": 119
        }
      ],
      "source": [
        "df_2_EYE[df_2_EYE['ET_ValidityRight'] == 1].shape[0] / df_2_EYE.shape[0]"
      ]
    },
    {
      "cell_type": "code",
      "execution_count": null,
      "id": "eac929b6",
      "metadata": {
        "id": "eac929b6"
      },
      "outputs": [],
      "source": [
        "plt.figure(figsize=(18, 8))\n",
        "\n",
        "plt.subplot(1, 2, 1)\n",
        "sns.heatmap(df_2_EYE == -1, cmap='viridis')\n",
        "plt.title('Heatmap of -1 Values')\n",
        "\n",
        "plt.subplot(1, 2, 2)\n",
        "sns.heatmap(df_2_EYE == 1, cmap='viridis')\n",
        "plt.title('Heatmap of 1 Values')\n",
        "\n",
        "plt.tight_layout()\n",
        "plt.show()"
      ]
    },
    {
      "cell_type": "code",
      "execution_count": null,
      "id": "71914778",
      "metadata": {
        "id": "71914778",
        "colab": {
          "base_uri": "https://localhost:8080/"
        },
        "outputId": "b4989f76-eb4a-436c-c3ca-29a6593c70e0"
      },
      "outputs": [
        {
          "output_type": "execute_result",
          "data": {
            "text/plain": [
              "(77091, 18)"
            ]
          },
          "metadata": {},
          "execution_count": 121
        }
      ],
      "source": [
        "df_2_EYE[df_2_EYE['ET_PupilLeft'] == -1].shape"
      ]
    },
    {
      "cell_type": "code",
      "execution_count": null,
      "id": "25767993",
      "metadata": {
        "id": "25767993",
        "colab": {
          "base_uri": "https://localhost:8080/"
        },
        "outputId": "fca46e22-da65-42a2-c325-109ecf706e81"
      },
      "outputs": [
        {
          "output_type": "execute_result",
          "data": {
            "text/plain": [
              "(74213, 18)"
            ]
          },
          "metadata": {},
          "execution_count": 122
        }
      ],
      "source": [
        "df_2_EYE[df_2_EYE['ET_PupilRight'] == -1].shape"
      ]
    },
    {
      "cell_type": "code",
      "execution_count": null,
      "id": "0b37d042",
      "metadata": {
        "id": "0b37d042",
        "colab": {
          "base_uri": "https://localhost:8080/"
        },
        "outputId": "db736218-eac3-48d5-f5fa-76bd760f43b2"
      },
      "outputs": [
        {
          "output_type": "execute_result",
          "data": {
            "text/plain": [
              "0.7213867964253965"
            ]
          },
          "metadata": {},
          "execution_count": 123
        }
      ],
      "source": [
        "df_2_EYE[df_2_EYE['ET_PupilLeft'] == -1].shape[0] / df_2_EYE.shape[0]"
      ]
    },
    {
      "cell_type": "code",
      "execution_count": null,
      "id": "3331de4c",
      "metadata": {
        "id": "3331de4c",
        "colab": {
          "base_uri": "https://localhost:8080/"
        },
        "outputId": "4d3505ee-9f2b-4244-b551-1782d6559658"
      },
      "outputs": [
        {
          "output_type": "execute_result",
          "data": {
            "text/plain": [
              "0.6944556215786273"
            ]
          },
          "metadata": {},
          "execution_count": 124
        }
      ],
      "source": [
        "df_2_EYE[df_2_EYE['ET_PupilRight'] == -1].shape[0] / df_2_EYE.shape[0]"
      ]
    },
    {
      "cell_type": "code",
      "execution_count": null,
      "id": "f831aabb",
      "metadata": {
        "id": "f831aabb"
      },
      "outputs": [],
      "source": [
        "plt.figure(figsize=(18, 8))\n",
        "\n",
        "plt.subplot(1, 2, 1)\n",
        "sns.heatmap(df_2_EYE[df_2_EYE['ET_ValidityLeft'] == 1] == -1, cmap='viridis')\n",
        "plt.title('Heatmap of -1 Values')\n",
        "\n",
        "plt.subplot(1, 2, 2)\n",
        "sns.heatmap(df_2_EYE[df_2_EYE['ET_ValidityRight'] == 1] == -1, cmap='viridis')\n",
        "plt.title('Heatmap of -1 Values')\n",
        "\n",
        "plt.tight_layout()\n",
        "plt.show()"
      ]
    },
    {
      "cell_type": "markdown",
      "id": "1f2783f0",
      "metadata": {
        "id": "1f2783f0"
      },
      "source": [
        "# Notes & Observations\n",
        "\n",
        "- The heatmaps reveal the distribution of -1 values across different columns.\n",
        "- It is evident that the `-1` values are not randomly scattered but appear in specific columns, notably `ET_GazeLeftx`, `ET_GazeLefty`, `ET_GazeRightx`, `ET_GazeRighty`, `ET_PupilLeft`, `ET_PupilRight`, `ET_DistanceLeft`, `ET_DistanceRight`, `ET_CameraLeftX`, `ET_CameraLeftY`, `ET_CameraRightX`, and `ET_CameraRightY`.\n",
        "- These `-1` values often coincide with instances where `ET_ValidityLeft` or `ET_ValidityRight` is 1, indicating invalid eye-tracking data. This suggests that `-1` is used as a placeholder for missing or invalid measurements in these columns when the eye tracker is not providing valid data for a particular eye.\n",
        "- Given that over 70% of the data in the `ET_PupilLeft` and `ET_PupilRight` columns is marked as invalid (-1), so instead of dropping them we can create new feature for both the `ET_PupilLeft` and `ET_PupilRight` to represent which row consist invalid `ET_PupilLeft` and `ET_PupilRight` data"
      ]
    },
    {
      "cell_type": "code",
      "execution_count": null,
      "id": "659148f9",
      "metadata": {
        "id": "659148f9"
      },
      "outputs": [],
      "source": [
        "pupil_validity = {-1: 1 }"
      ]
    },
    {
      "cell_type": "code",
      "execution_count": null,
      "id": "fd8d441c",
      "metadata": {
        "id": "fd8d441c"
      },
      "outputs": [],
      "source": [
        "df_2_EYE['ET_PupilLeft_validity'] = df_2_EYE['ET_PupilLeft'].map(pupil_validity)"
      ]
    },
    {
      "cell_type": "code",
      "execution_count": null,
      "id": "38813f07",
      "metadata": {
        "id": "38813f07"
      },
      "outputs": [],
      "source": [
        "df_2_EYE['ET_PupilRight_validity'] = df_2_EYE['ET_PupilRight'].map(pupil_validity)"
      ]
    },
    {
      "cell_type": "code",
      "execution_count": null,
      "id": "e9b3fa3c",
      "metadata": {
        "id": "e9b3fa3c"
      },
      "outputs": [],
      "source": [
        "df_2_EYE[['ET_PupilLeft_validity', 'ET_PupilRight_validity']].head()"
      ]
    },
    {
      "cell_type": "code",
      "execution_count": null,
      "id": "9b5affd4",
      "metadata": {
        "id": "9b5affd4",
        "colab": {
          "base_uri": "https://localhost:8080/"
        },
        "outputId": "6eb4e77f-610a-40cc-e562-61175663830d"
      },
      "outputs": [
        {
          "output_type": "execute_result",
          "data": {
            "text/plain": [
              "ET_PupilLeft_validity     29774\n",
              "ET_PupilRight_validity    32652\n",
              "dtype: int64"
            ]
          },
          "metadata": {},
          "execution_count": 130
        }
      ],
      "source": [
        "df_2_EYE[['ET_PupilLeft_validity', 'ET_PupilRight_validity']].isnull().sum()"
      ]
    },
    {
      "cell_type": "code",
      "execution_count": null,
      "id": "64ea27a4",
      "metadata": {
        "id": "64ea27a4"
      },
      "outputs": [],
      "source": [
        "plt.figure(figsize=(18, 8))\n",
        "sns.heatmap(df_2_EYE[['ET_PupilLeft_validity', 'ET_PupilRight_validity']].isnull(), cmap='viridis')\n",
        "plt.show()"
      ]
    },
    {
      "cell_type": "code",
      "execution_count": null,
      "id": "5d913641",
      "metadata": {
        "id": "5d913641"
      },
      "outputs": [],
      "source": [
        "df_2_EYE['ET_PupilLeft_validity'] = df_2_EYE['ET_PupilLeft_validity'].fillna(0)"
      ]
    },
    {
      "cell_type": "code",
      "execution_count": null,
      "id": "2930c874",
      "metadata": {
        "id": "2930c874"
      },
      "outputs": [],
      "source": [
        "df_2_EYE['ET_PupilRight_validity'] = df_2_EYE['ET_PupilRight_validity'].fillna(0)"
      ]
    },
    {
      "cell_type": "code",
      "execution_count": null,
      "id": "fe84e69f",
      "metadata": {
        "id": "fe84e69f"
      },
      "outputs": [],
      "source": [
        "df_2_EYE[['ET_PupilLeft_validity', 'ET_PupilRight_validity']].head()"
      ]
    },
    {
      "cell_type": "code",
      "execution_count": null,
      "id": "eef10833",
      "metadata": {
        "id": "eef10833"
      },
      "outputs": [],
      "source": [
        "plt.figure(figsize=(18, 8))\n",
        "sns.heatmap(df_2_EYE[['ET_PupilLeft_validity', 'ET_PupilRight_validity']].isnull(), cmap='viridis')\n",
        "plt.show()"
      ]
    },
    {
      "cell_type": "code",
      "execution_count": null,
      "id": "caeaf560",
      "metadata": {
        "id": "caeaf560"
      },
      "outputs": [],
      "source": [
        "df_2_EYE.head()"
      ]
    },
    {
      "cell_type": "code",
      "execution_count": null,
      "id": "6aef555a",
      "metadata": {
        "id": "6aef555a"
      },
      "outputs": [],
      "source": [
        "plt.figure(figsize=(18, 8))\n",
        "\n",
        "plt.subplot(1, 2, 1)\n",
        "sns.heatmap(df_2_EYE == -1, cmap='viridis')\n",
        "plt.title('Heatmap of -1 Values')\n",
        "\n",
        "plt.subplot(1, 2, 2)\n",
        "sns.heatmap(df_2_EYE == 1, cmap='viridis')\n",
        "plt.title('Heatmap of -1 Values')\n",
        "\n",
        "plt.tight_layout()\n",
        "plt.show()"
      ]
    },
    {
      "cell_type": "code",
      "execution_count": null,
      "id": "ad6c12f2",
      "metadata": {
        "id": "ad6c12f2"
      },
      "outputs": [],
      "source": [
        "valid_left_ratio  = 1 - df_2_EYE['ET_ValidityLeft'].mean()"
      ]
    },
    {
      "cell_type": "code",
      "execution_count": null,
      "id": "e8e5966e",
      "metadata": {
        "id": "e8e5966e",
        "colab": {
          "base_uri": "https://localhost:8080/"
        },
        "outputId": "c5a6a193-5ce8-4d3c-efb4-0f4f7e0a11d0"
      },
      "outputs": [
        {
          "output_type": "execute_result",
          "data": {
            "text/plain": [
              "np.float64(0.8827679782903664)"
            ]
          },
          "metadata": {},
          "execution_count": 139
        }
      ],
      "source": [
        "valid_left_ratio"
      ]
    },
    {
      "cell_type": "code",
      "execution_count": null,
      "id": "9d01cb5c",
      "metadata": {
        "id": "9d01cb5c"
      },
      "outputs": [],
      "source": [
        "valid_right_ratio = 1 - df_2_EYE['ET_ValidityRight'].mean()"
      ]
    },
    {
      "cell_type": "code",
      "execution_count": null,
      "id": "6afaa9ea",
      "metadata": {
        "id": "6afaa9ea",
        "colab": {
          "base_uri": "https://localhost:8080/"
        },
        "outputId": "ea7afaac-73bd-4a4a-9968-6661dd6238da"
      },
      "outputs": [
        {
          "output_type": "execute_result",
          "data": {
            "text/plain": [
              "np.float64(0.9168857904833201)"
            ]
          },
          "metadata": {},
          "execution_count": 141
        }
      ],
      "source": [
        "valid_right_ratio"
      ]
    },
    {
      "cell_type": "code",
      "execution_count": null,
      "id": "dba8b6a9",
      "metadata": {
        "id": "dba8b6a9"
      },
      "outputs": [],
      "source": [
        "df_2_EYE['ET_PupilLeft_validity'] = df_2_EYE['ET_PupilLeft_validity'].astype(np.int8)\n",
        "df_2_EYE['ET_PupilRight_validity'] = df_2_EYE['ET_PupilRight_validity'].astype(np.int8)"
      ]
    },
    {
      "cell_type": "markdown",
      "id": "a8d5c642",
      "metadata": {
        "id": "a8d5c642"
      },
      "source": [
        "# Feature Engineering and Observations\n",
        "\n",
        "Based on the analysis of the data, we've created two new features, `ET_PupilLeft_validity` and `ET_PupilRight_validity`. These features indicate the validity of the pupil data for the left and right eyes, respectively, with a value of 1 representing invalid data (originally -1) and 0 representing valid data.\n",
        "\n",
        "The heatmaps above visually demonstrate the distribution of -1 and 1 values across the dataset. We observed that:\n",
        "- The `-1` values are concentrated in specific columns related to gaze, pupil size, distance, and camera position, suggesting they represent missing or invalid sensor readings.\n",
        "- The `1` values, after mapping from `4.0` in the original validity columns, indicate instances of invalid eye-tracking data.\n",
        "- The heatmaps also show a strong correlation between the `-1` values in the pupil columns and a validity of 1 in the newly created pupil validity features, confirming that -1 was used to mark invalid pupil data."
      ]
    },
    {
      "cell_type": "code",
      "execution_count": null,
      "id": "22d4c117",
      "metadata": {
        "id": "22d4c117"
      },
      "outputs": [],
      "source": [
        "df_2_EYE.head()"
      ]
    },
    {
      "cell_type": "code",
      "execution_count": null,
      "id": "7f2fad2b",
      "metadata": {
        "id": "7f2fad2b"
      },
      "outputs": [],
      "source": [
        "# Select only the numeric columns for plotting histograms, excluding time-related columns\n",
        "numeric_cols = df_2_EYE.select_dtypes(include=np.number).columns\n",
        "cols_to_plot = [col for col in numeric_cols if col not in ['UnixTime']]\n",
        "\n",
        "# Calculate the number of rows and columns for the grid\n",
        "n_cols = 4  # You can adjust the number of columns as needed\n",
        "n_rows = (len(cols_to_plot) + n_cols - 1) // n_cols\n",
        "\n",
        "plt.figure(figsize=(n_cols * 5, n_rows * 4)) # Adjust figure size as needed\n",
        "\n",
        "for i, col in enumerate(cols_to_plot):\n",
        "    plt.subplot(n_rows, n_cols, i + 1)\n",
        "    sns.histplot(df_2_EYE[col], kde=True)\n",
        "    plt.title(f'Distribution of {col}')\n",
        "    plt.xlabel(col)\n",
        "    plt.ylabel('Frequency')\n",
        "\n",
        "plt.tight_layout()\n",
        "plt.show()"
      ]
    },
    {
      "cell_type": "markdown",
      "id": "1fda2925",
      "metadata": {
        "id": "1fda2925"
      },
      "source": [
        "# Observations from Histograms\n",
        "\n",
        "The grid of histograms provides insights into the distribution of values for each numeric column in the dataset (excluding 'UnixTime'). Key observations include:\n",
        "\n",
        "- Several columns, such as `ET_GazeLeftx`, `ET_GazeLefty`, `ET_GazeRightx`, and `ET_GazeRighty`, show distributions that appear somewhat multimodal or skewed, suggesting variations in gaze patterns.\n",
        "- The `ET_PupilLeft` and `ET_PupilRight` histograms clearly show a peak at -1, confirming the presence of a significant number of invalid pupil readings.\n",
        "- `ET_TimeSignal` shows a relatively uniform distribution, as expected for a time-based signal.\n",
        "- `ET_DistanceLeft` and `ET_DistanceRight` appear to have distributions centered around certain values, with some outliers or variations.\n",
        "- The camera position columns (`ET_CameraLeftX`, `ET_CameraLeftY`, `ET_CameraRightX`, `ET_CameraRightY`) seem to have distributions concentrated within specific ranges, reflecting the camera's field of view.\n",
        "- The validity columns (`ET_ValidityLeft`, `ET_ValidityRight`, `ET_PupilLeft_validity`, `ET_PupilRight_validity`) show distributions dominated by 0, indicating that most of the data is considered valid after the mapping. The smaller peaks at 1 represent the instances of invalid data.\n",
        "\n",
        "These distributions highlight the need for appropriate handling of the -1 values and potential outliers in subsequent analysis or modeling steps."
      ]
    },
    {
      "cell_type": "code",
      "execution_count": null,
      "id": "5004abd5",
      "metadata": {
        "id": "5004abd5",
        "colab": {
          "base_uri": "https://localhost:8080/"
        },
        "outputId": "17770e9a-918a-42d2-96f0-66d24c3a2989"
      },
      "outputs": [
        {
          "output_type": "execute_result",
          "data": {
            "text/plain": [
              "Index(['UnixTime', 'QuestionKey', 'Timestamp', 'ET_GazeLeftx', 'ET_GazeLefty',\n",
              "       'ET_GazeRightx', 'ET_GazeRighty', 'ET_PupilLeft', 'ET_PupilRight',\n",
              "       'ET_TimeSignal', 'ET_DistanceLeft', 'ET_DistanceRight',\n",
              "       'ET_CameraLeftX', 'ET_CameraLeftY', 'ET_CameraRightX',\n",
              "       'ET_CameraRightY', 'ET_ValidityLeft', 'ET_ValidityRight',\n",
              "       'ET_PupilLeft_validity', 'ET_PupilRight_validity'],\n",
              "      dtype='object')"
            ]
          },
          "metadata": {},
          "execution_count": 145
        }
      ],
      "source": [
        "df_2_EYE.columns"
      ]
    },
    {
      "cell_type": "code",
      "execution_count": null,
      "id": "71a48209",
      "metadata": {
        "id": "71a48209"
      },
      "outputs": [],
      "source": [
        "cols = ['ET_GazeLeftx', 'ET_GazeLefty',\n",
        "       'ET_GazeRightx', 'ET_GazeRighty', 'ET_PupilLeft', 'ET_PupilRight',\n",
        "       'ET_TimeSignal', 'ET_DistanceLeft', 'ET_DistanceRight',\n",
        "       'ET_CameraLeftX', 'ET_CameraLeftY', 'ET_CameraRightX',\n",
        "       'ET_CameraRightY', 'ET_ValidityLeft', 'ET_ValidityRight',\n",
        "       'ET_PupilLeft_validity', 'ET_PupilRight_validity']"
      ]
    },
    {
      "cell_type": "code",
      "execution_count": null,
      "id": "2f4851f2",
      "metadata": {
        "id": "2f4851f2"
      },
      "outputs": [],
      "source": [
        "from IPython.display import display, Markdown\n",
        "\n",
        "for col in cols:\n",
        "    # Add a markdown cell before each plot for better separation and labeling\n",
        "    display(Markdown(f'### {col} over Time'))\n",
        "    plt.figure(figsize=(16, 10))\n",
        "    plt.plot(df_2_EYE['Timestamp'], df_2_EYE[col])\n",
        "    plt.xlabel(\"Timestamp\") # Add x-axis label\n",
        "    plt.ylabel(col) # Add y-axis label\n",
        "    plt.show()"
      ]
    },
    {
      "cell_type": "markdown",
      "id": "c269cc2b",
      "metadata": {
        "id": "c269cc2b"
      },
      "source": [
        "# Observations from Time Series Plots\n",
        "\n",
        "The line plots showing various features against the `Timestamp` reveal the temporal patterns and fluctuations in the eye-tracking data. Key observations include:\n",
        "\n",
        "- **Gaze Coordinates (`ET_GazeLeftx`, `ET_GazeLefty`, `ET_GazeRightx`, `ET_GazeRighty`):** These plots show the changes in gaze position over time. We can observe periods of relatively stable gaze interspersed with rapid movements (saccades) and blinks or other events where the gaze data might be invalid (-1 values appear as gaps or spikes if not handled).\n",
        "- **Pupil Size (`ET_PupilLeft`, `ET_PupilRight`):** The pupil size plots show variations over time. The presence of many -1 values is evident as flat lines at the bottom of the plot, indicating periods where pupil data was not recorded or was invalid.\n",
        "- **Time Signal (`ET_TimeSignal`):** This plot shows a steady, increasing trend, as expected for a time-based signal.\n",
        "- **Distance and Camera Position (`ET_DistanceLeft`, `ET_DistanceRight`, `ET_CameraLeftX`, `ET_CameraLeftY`, `ET_CameraRightX`, `ET_CameraRightY`):** These plots show how the distance from the eye tracker and the camera positions change over time. Variations in these features can be related to head movements or changes in the user's position relative to the eye tracker.\n",
        "- **Validity (`ET_ValidityLeft`, `ET_ValidityRight`, `ET_PupilLeft_validity`, `ET_PupilRight_validity`):** These plots clearly show periods of invalid data (represented by 1) as spikes or plateaus, corresponding to instances where the eye tracker lost track of the eyes or the pupil data was marked as invalid.\n",
        "\n",
        "Analyzing these time series plots is crucial for understanding the dynamics of the eye-tracking data and identifying patterns or anomalies that may require further investigation or specific handling during subsequent analysis."
      ]
    },
    {
      "cell_type": "code",
      "execution_count": null,
      "id": "9272a1a7",
      "metadata": {
        "id": "9272a1a7"
      },
      "outputs": [],
      "source": [
        "# Select only the numeric columns for plotting histograms, excluding time-related columns\n",
        "numeric_cols = df_2_EYE.select_dtypes(include=np.number).columns\n",
        "\n",
        "# Calculate the number of rows and columns for the grid\n",
        "n_cols = 4  # You can adjust the number of columns as needed\n",
        "n_rows = (len(numeric_cols) + n_cols - 1) // n_cols\n",
        "\n",
        "plt.figure(figsize=(n_cols * 5, n_rows * 4)) # Adjust figure size as needed\n",
        "\n",
        "for i, col in enumerate(numeric_cols):\n",
        "    plt.subplot(n_rows, n_cols, i + 1)\n",
        "    sns.boxplot(df_2_EYE[col])\n",
        "    plt.title(f'Boxplot of {col}')\n",
        "    plt.xlabel(col)\n",
        "\n",
        "plt.tight_layout()\n",
        "plt.show()"
      ]
    },
    {
      "cell_type": "markdown",
      "id": "01dc8930",
      "metadata": {
        "id": "01dc8930"
      },
      "source": [
        "# Observations from Boxplots and Handling -1 Values\n",
        "\n",
        "The boxplots provide a visual summary of the distribution and potential outliers for each numeric column. Key observations from the boxplots include:\n",
        "\n",
        "- The boxplots for columns like `ET_GazeLeftx`, `ET_GazeLefty`, `ET_GazeRightx`, `ET_GazeRighty`, `ET_PupilLeft`, `ET_PupilRight`, `ET_DistanceLeft`, `ET_DistanceRight`, `ET_CameraLeftX`, `ET_CameraLeftY`, `ET_CameraRightX`, and `ET_CameraRightY` clearly show the presence of -1 values as significant outliers, confirming our earlier observations from the heatmaps and histograms.\n",
        "- The boxplots for the validity columns (`ET_ValidityLeft`, `ET_ValidityRight`, `ET_PupilLeft_validity`, `ET_PupilRight_validity`) show the discrete nature of these features, with the majority of data points at 0 (valid) and a smaller number at 1 (invalid).\n",
        "\n",
        "Given the significant presence of -1 values, which represent invalid or missing data, especially in the pupil-related columns, we have decided to replace these -1 values with NaN to properly represent them as missing data. Subsequently, we will impute these missing values using the mean of each respective column. This approach helps to retain the data structure and allows for further analysis or modeling without the distortion caused by the -1 placeholders."
      ]
    },
    {
      "cell_type": "code",
      "execution_count": null,
      "id": "37a8905d",
      "metadata": {
        "id": "37a8905d"
      },
      "outputs": [],
      "source": [
        "df_2_EYE.replace({-1: np.nan}, inplace=True)"
      ]
    },
    {
      "cell_type": "code",
      "execution_count": null,
      "id": "595f5bb6",
      "metadata": {
        "id": "595f5bb6",
        "colab": {
          "base_uri": "https://localhost:8080/"
        },
        "outputId": "680183e9-ab95-470a-b32f-6cee74672b8a"
      },
      "outputs": [
        {
          "output_type": "execute_result",
          "data": {
            "text/plain": [
              "ET_GazeLeftx                 882.876257\n",
              "ET_GazeLefty                 479.351772\n",
              "ET_GazeRightx                863.983609\n",
              "ET_GazeRighty                494.519536\n",
              "ET_PupilLeft                   3.203455\n",
              "ET_PupilRight                  3.118278\n",
              "ET_TimeSignal             445230.050053\n",
              "ET_DistanceLeft              623.936395\n",
              "ET_DistanceRight             620.491745\n",
              "ET_CameraLeftX                 0.557639\n",
              "ET_CameraLeftY                 0.523285\n",
              "ET_CameraRightX                0.411965\n",
              "ET_CameraRightY                0.514766\n",
              "ET_ValidityLeft                0.117232\n",
              "ET_ValidityRight               0.083114\n",
              "ET_PupilLeft_validity          0.721387\n",
              "ET_PupilRight_validity         0.694456\n",
              "dtype: float64"
            ]
          },
          "metadata": {},
          "execution_count": 150
        }
      ],
      "source": [
        "df_2_EYE[['ET_GazeLeftx', 'ET_GazeLefty',\n",
        "       'ET_GazeRightx', 'ET_GazeRighty', 'ET_PupilLeft', 'ET_PupilRight',\n",
        "       'ET_TimeSignal', 'ET_DistanceLeft', 'ET_DistanceRight',\n",
        "       'ET_CameraLeftX', 'ET_CameraLeftY', 'ET_CameraRightX',\n",
        "       'ET_CameraRightY', 'ET_ValidityLeft', 'ET_ValidityRight',\n",
        "       'ET_PupilLeft_validity', 'ET_PupilRight_validity']].mean()"
      ]
    },
    {
      "cell_type": "code",
      "execution_count": null,
      "id": "10676fdb",
      "metadata": {
        "id": "10676fdb",
        "colab": {
          "base_uri": "https://localhost:8080/"
        },
        "outputId": "d8632883-6377-4b45-f3d4-348e6d5c8ed2"
      },
      "outputs": [
        {
          "output_type": "execute_result",
          "data": {
            "text/plain": [
              "ET_GazeLeftx                 775.000000\n",
              "ET_GazeLefty                 457.000000\n",
              "ET_GazeRightx                770.000000\n",
              "ET_GazeRighty                473.000000\n",
              "ET_PupilLeft                   3.201729\n",
              "ET_PupilRight                  3.116295\n",
              "ET_TimeSignal             445235.881000\n",
              "ET_DistanceLeft              624.471252\n",
              "ET_DistanceRight             619.740051\n",
              "ET_CameraLeftX                 0.556977\n",
              "ET_CameraLeftY                 0.523459\n",
              "ET_CameraRightX                0.410210\n",
              "ET_CameraRightY                0.513715\n",
              "ET_ValidityLeft                0.000000\n",
              "ET_ValidityRight               0.000000\n",
              "ET_PupilLeft_validity          1.000000\n",
              "ET_PupilRight_validity         1.000000\n",
              "dtype: float64"
            ]
          },
          "metadata": {},
          "execution_count": 151
        }
      ],
      "source": [
        "df_2_EYE[['ET_GazeLeftx', 'ET_GazeLefty',\n",
        "       'ET_GazeRightx', 'ET_GazeRighty', 'ET_PupilLeft', 'ET_PupilRight',\n",
        "       'ET_TimeSignal', 'ET_DistanceLeft', 'ET_DistanceRight',\n",
        "       'ET_CameraLeftX', 'ET_CameraLeftY', 'ET_CameraRightX',\n",
        "       'ET_CameraRightY', 'ET_ValidityLeft', 'ET_ValidityRight',\n",
        "       'ET_PupilLeft_validity', 'ET_PupilRight_validity']].median()"
      ]
    },
    {
      "cell_type": "code",
      "execution_count": null,
      "id": "ff048c7b",
      "metadata": {
        "id": "ff048c7b"
      },
      "outputs": [],
      "source": [
        "numeric_cols = df_2_EYE.select_dtypes(include=np.number).columns\n",
        "\n",
        "for col in numeric_cols:\n",
        "    df_2_EYE[col] = df_2_EYE[col].fillna(df_2_EYE[col].mean())"
      ]
    },
    {
      "cell_type": "code",
      "execution_count": null,
      "id": "29576d03",
      "metadata": {
        "id": "29576d03"
      },
      "outputs": [],
      "source": [
        "plt.figure(figsize=(18, 8))\n",
        "\n",
        "plt.subplot(1, 2, 1)\n",
        "sns.heatmap(df_2_EYE.isnull(), cmap='viridis')\n",
        "plt.title('Heatmap of Missing Values After Imputation')\n",
        "\n",
        "plt.subplot(1, 2, 2)\n",
        "sns.heatmap(df_2_EYE == 1, cmap='viridis')\n",
        "plt.title('Heatmap of 1 Values')\n",
        "\n",
        "plt.tight_layout()\n",
        "plt.show()"
      ]
    },
    {
      "cell_type": "markdown",
      "id": "d3e96238",
      "metadata": {
        "id": "d3e96238"
      },
      "source": [
        "# Handling Missing Values (Imputation)\n",
        "\n",
        "As decided, we have replaced all the `-1` values with `NaN` to treat them as missing data. Subsequently, we have imputed these `NaN` values with the mean of their respective columns. The heatmap above, which was generated after the imputation, now shows no visible signs of `NaN` values, indicating that the imputation was successful."
      ]
    },
    {
      "cell_type": "code",
      "execution_count": null,
      "id": "3d4c3573",
      "metadata": {
        "id": "3d4c3573"
      },
      "outputs": [],
      "source": [
        "df_2_EYE.head()"
      ]
    },
    {
      "cell_type": "code",
      "execution_count": null,
      "id": "385de801",
      "metadata": {
        "id": "385de801"
      },
      "outputs": [],
      "source": [
        "# Select only the numeric columns for plotting histograms, excluding time-related columns\n",
        "numeric_cols = df_2_EYE.select_dtypes(include=np.number).columns\n",
        "cols_to_plot = [col for col in numeric_cols if col not in ['UnixTime']]\n",
        "\n",
        "# Calculate the number of rows and columns for the grid\n",
        "n_cols = 4  # You can adjust the number of columns as needed\n",
        "n_rows = (len(cols_to_plot) + n_cols - 1) // n_cols\n",
        "\n",
        "plt.figure(figsize=(n_cols * 5, n_rows * 4)) # Adjust figure size as needed\n",
        "\n",
        "for i, col in enumerate(cols_to_plot):\n",
        "    plt.subplot(n_rows, n_cols, i + 1)\n",
        "    sns.histplot(df_2_EYE[col], kde=True)\n",
        "    plt.title(f'Distribution of {col}')\n",
        "    plt.xlabel(col)\n",
        "    plt.ylabel('Frequency')\n",
        "\n",
        "plt.tight_layout()\n",
        "plt.show()"
      ]
    },
    {
      "cell_type": "markdown",
      "id": "766f1093",
      "metadata": {
        "id": "766f1093"
      },
      "source": [
        "# Observations from Histograms After Imputation\n",
        "\n",
        "The histograms generated after replacing the -1 values with the mean of each column show the distributions of the numeric features with the missing data handled. Key observations from these updated histograms include:\n",
        "\n",
        "- The distinct peaks at -1, which were prominent in the histograms for several columns (e.g., pupil size, gaze coordinates, distance, and camera position) before imputation, are now replaced by a peak at the mean of each respective column.\n",
        "- The distributions in many columns now appear more unimodal or show shifted modes compared to the original histograms.\n",
        "- The histograms for the validity columns still show their bimodal distributions with peaks at 0 and 1, as these were handled separately.\n",
        "\n",
        "These histograms provide an updated view of the data's distribution after handling the missing values, highlighting the impact of the imputation method on the data's characteristics."
      ]
    },
    {
      "cell_type": "code",
      "execution_count": null,
      "id": "43d56721",
      "metadata": {
        "id": "43d56721"
      },
      "outputs": [],
      "source": [
        "cols = ['ET_GazeLeftx', 'ET_GazeLefty',\n",
        "       'ET_GazeRightx', 'ET_GazeRighty', 'ET_PupilLeft', 'ET_PupilRight',\n",
        "       'ET_TimeSignal', 'ET_DistanceLeft', 'ET_DistanceRight',\n",
        "       'ET_CameraLeftX', 'ET_CameraLeftY', 'ET_CameraRightX',\n",
        "       'ET_CameraRightY', 'ET_ValidityLeft', 'ET_ValidityRight',\n",
        "       'ET_PupilLeft_validity', 'ET_PupilRight_validity']"
      ]
    },
    {
      "cell_type": "code",
      "execution_count": null,
      "id": "600c9566",
      "metadata": {
        "id": "600c9566"
      },
      "outputs": [],
      "source": [
        "for col in cols:\n",
        "    # Add a markdown cell before each plot for better separation and labeling\n",
        "    display(Markdown(f'### {col} over Time'))\n",
        "    plt.figure(figsize=(16, 10))\n",
        "    plt.plot(df_2_EYE['Timestamp'], df_2_EYE[col])\n",
        "    plt.xlabel(\"Timestamp\") # Add x-axis label\n",
        "    plt.ylabel(col) # Add y-axis label\n",
        "    plt.show()"
      ]
    },
    {
      "cell_type": "markdown",
      "id": "5f12fca9",
      "metadata": {
        "id": "5f12fca9"
      },
      "source": [
        "# Observations from Time Series Plots After Imputation\n",
        "\n",
        "The line plots generated after imputing the missing values with the mean show the temporal patterns of the features with the missing data handled. Key observations from these updated plots include:\n",
        "\n",
        "- The gaps or flat lines at -1, which were prominent in the plots for columns like gaze coordinates, pupil size, distance, and camera position, are now filled by lines at the mean value of the respective columns.\n",
        "- The plots for the validity columns remain the same as they were handled separately.\n",
        "- The `ET_TimeSignal` plot still shows a steady increasing trend, as expected."
      ]
    },
    {
      "cell_type": "code",
      "execution_count": null,
      "id": "05998361",
      "metadata": {
        "id": "05998361"
      },
      "outputs": [],
      "source": [
        "plt.figure(figsize=(16, 10))\n",
        "sns.heatmap(df_2_EYE.corr(numeric_only=True), cmap='YlGnBu', annot=True)\n",
        "plt.show()"
      ]
    },
    {
      "cell_type": "markdown",
      "id": "4b70003c",
      "metadata": {
        "id": "4b70003c"
      },
      "source": [
        "# Observations from Correlation Heatmap\n",
        "\n",
        "The correlation heatmap provides a visual representation of the pairwise correlations between the numeric columns in the dataset. Key observations from the heatmap include:\n",
        "\n",
        "- **High Positive Correlations:** We observe strong positive correlations (values close to 1) between:\n",
        "  - `ET_GazeLeftx` and `ET_GazeRightx`: This is expected as the gaze positions of both eyes should be highly correlated when fixating on a point.\n",
        "  - `ET_GazeLefty` and `ET_GazeRighty`: Similar to the x-coordinates, the y-coordinates of gaze should also be highly correlated.\n",
        "  - `ET_PupilLeft` and `ET_PupilRight`: Pupil sizes of both eyes tend to change together in response to light and cognitive load.\n",
        "  - `ET_DistanceLeft` and `ET_DistanceRight`: The distance from the eye tracker to each eye should be highly correlated.\n",
        "  - `ET_CameraLeftX` and `ET_CameraRightX`, `ET_CameraLeftY` and `ET_CameraRightY`: The camera positions for both eyes are also expected to be highly correlated.\n",
        "  - `UnixTime` and `ET_TimeSignal`: As previously noted, these two columns are almost perfectly linearly correlated, indicating redundancy.\n",
        "  - `ET_ValidityLeft` and `ET_PupilLeft_validity`: There is a positive correlation, suggesting that when the overall left eye data is invalid, the left pupil data is also likely to be invalid.\n",
        "  - `ET_ValidityRight` and `ET_PupilRight_validity`: Similar to the left eye, there is a positive correlation between the overall right eye validity and the right pupil validity.\n",
        "- **Other Correlations:** We can also observe other varying degrees of correlations between different features, which can provide insights into the relationships between gaze behavior, pupil size, distance, and camera position. For example, there might be correlations between gaze coordinates and camera positions, reflecting head movements.\n",
        "- **Low or Near-Zero Correlations:** Columns with low or near-zero correlations are relatively independent of each other.\n",
        "\n",
        "Understanding these correlations is important for feature selection and for building models, as highly correlated features might indicate multicollinearity, while correlations between features can reveal underlying patterns in the data."
      ]
    },
    {
      "cell_type": "markdown",
      "id": "9bf353af",
      "metadata": {
        "id": "9bf353af"
      },
      "source": [
        "# Analysis of ET_TimeSignal and Decision to Drop\n",
        "\n",
        "As observed in the time series plot and confirmed by the correlation heatmap, the `ET_TimeSignal` column exhibits a near-perfect linear relationship with both the `Timestamp` and `UnixTime` columns. This strong correlation (close to 1) suggests that `ET_TimeSignal` is essentially redundant and likely represents another form of time recording or a signal directly derived from the timestamp.\n",
        "\n",
        "Including highly correlated features like this in a dataset can lead to issues such as multicollinearity in some statistical models, which can make it difficult to interpret the individual impact of each feature. Since the `Timestamp` column already provides the necessary temporal information, retaining `ET_TimeSignal` does not appear to add significant value for further analysis or modeling in most cases.\n",
        "\n",
        "Therefore, based on its high correlation and lack of unique insight, we will proceed to drop the `ET_TimeSignal` column to simplify the dataset and potentially improve the performance and interpretability of future analyses."
      ]
    },
    {
      "cell_type": "code",
      "execution_count": null,
      "id": "bb77ca05",
      "metadata": {
        "id": "bb77ca05"
      },
      "outputs": [],
      "source": [
        "df_2_EYE.drop('ET_TimeSignal', axis=1, inplace=True)"
      ]
    },
    {
      "cell_type": "code",
      "execution_count": null,
      "id": "99ae27f9",
      "metadata": {
        "id": "99ae27f9"
      },
      "outputs": [],
      "source": [
        "plt.figure(figsize=(16, 10))\n",
        "sns.pairplot(df_2_EYE)\n",
        "plt.show()"
      ]
    },
    {
      "cell_type": "markdown",
      "id": "ce91b764",
      "metadata": {
        "id": "ce91b764"
      },
      "source": [
        "# **3_EYE**"
      ]
    },
    {
      "cell_type": "code",
      "execution_count": null,
      "id": "cd31b936",
      "metadata": {
        "id": "cd31b936"
      },
      "outputs": [],
      "source": []
    },
    {
      "cell_type": "code",
      "execution_count": null,
      "id": "c9f8e08e",
      "metadata": {
        "id": "c9f8e08e",
        "colab": {
          "base_uri": "https://localhost:8080/"
        },
        "outputId": "7bd0a9aa-cc0a-4133-da31-b163a7c71f27"
      },
      "outputs": [
        {
          "output_type": "stream",
          "name": "stderr",
          "text": [
            "/tmp/ipykernel_31755/3703935867.py:1: DtypeWarning: Columns (2) have mixed types. Specify dtype option on import or set low_memory=False.\n",
            "  df_3_EYE = pd.read_csv('data/STData/3/3_EYE.csv')\n"
          ]
        }
      ],
      "source": [
        "df_3_EYE = pd.read_csv('data/STData/3/3_EYE.csv')"
      ]
    },
    {
      "cell_type": "code",
      "execution_count": null,
      "id": "1cd7f5fd",
      "metadata": {
        "id": "1cd7f5fd"
      },
      "outputs": [],
      "source": [
        "df_3_EYE.head()"
      ]
    },
    {
      "cell_type": "code",
      "execution_count": null,
      "id": "240b5824",
      "metadata": {
        "id": "240b5824",
        "colab": {
          "base_uri": "https://localhost:8080/"
        },
        "outputId": "cd7a3144-05ca-4353-8c5f-5a58dc44bbfe"
      },
      "outputs": [
        {
          "output_type": "execute_result",
          "data": {
            "text/plain": [
              "(164413, 19)"
            ]
          },
          "metadata": {},
          "execution_count": 163
        }
      ],
      "source": [
        "df_3_EYE.shape"
      ]
    },
    {
      "cell_type": "code",
      "execution_count": null,
      "id": "241e3d84",
      "metadata": {
        "id": "241e3d84",
        "colab": {
          "base_uri": "https://localhost:8080/"
        },
        "outputId": "c79440f2-10c9-4550-bc28-981f8842a659"
      },
      "outputs": [
        {
          "output_type": "execute_result",
          "data": {
            "text/plain": [
              "Index(['UnixTime', 'Row', 'QuestionKey', 'Timestamp', 'ET_GazeLeftx',\n",
              "       'ET_GazeLefty', 'ET_GazeRightx', 'ET_GazeRighty', 'ET_PupilLeft',\n",
              "       'ET_PupilRight', 'ET_TimeSignal', 'ET_DistanceLeft', 'ET_DistanceRight',\n",
              "       'ET_CameraLeftX', 'ET_CameraLeftY', 'ET_CameraRightX',\n",
              "       'ET_CameraRightY', 'ET_ValidityLeft', 'ET_ValidityRight'],\n",
              "      dtype='object')"
            ]
          },
          "metadata": {},
          "execution_count": 164
        }
      ],
      "source": [
        "df_3_EYE.columns"
      ]
    },
    {
      "cell_type": "code",
      "execution_count": null,
      "id": "fb248c1d",
      "metadata": {
        "id": "fb248c1d",
        "colab": {
          "base_uri": "https://localhost:8080/"
        },
        "outputId": "8f1fa67d-9ab2-4e69-ac05-ac9528aaa8d4"
      },
      "outputs": [
        {
          "output_type": "stream",
          "name": "stdout",
          "text": [
            "<class 'pandas.core.frame.DataFrame'>\n",
            "RangeIndex: 164413 entries, 0 to 164412\n",
            "Data columns (total 19 columns):\n",
            " #   Column            Non-Null Count   Dtype  \n",
            "---  ------            --------------   -----  \n",
            " 0   UnixTime          164413 non-null  float64\n",
            " 1   Row               164413 non-null  int64  \n",
            " 2   QuestionKey       90353 non-null   object \n",
            " 3   Timestamp         164413 non-null  object \n",
            " 4   ET_GazeLeftx      164409 non-null  float64\n",
            " 5   ET_GazeLefty      164409 non-null  float64\n",
            " 6   ET_GazeRightx     164409 non-null  float64\n",
            " 7   ET_GazeRighty     164409 non-null  float64\n",
            " 8   ET_PupilLeft      164409 non-null  float64\n",
            " 9   ET_PupilRight     164409 non-null  float64\n",
            " 10  ET_TimeSignal     164409 non-null  float64\n",
            " 11  ET_DistanceLeft   164409 non-null  float64\n",
            " 12  ET_DistanceRight  164409 non-null  float64\n",
            " 13  ET_CameraLeftX    164409 non-null  float64\n",
            " 14  ET_CameraLeftY    164409 non-null  float64\n",
            " 15  ET_CameraRightX   164409 non-null  float64\n",
            " 16  ET_CameraRightY   164409 non-null  float64\n",
            " 17  ET_ValidityLeft   164409 non-null  float64\n",
            " 18  ET_ValidityRight  164409 non-null  float64\n",
            "dtypes: float64(16), int64(1), object(2)\n",
            "memory usage: 23.8+ MB\n"
          ]
        }
      ],
      "source": [
        "df_3_EYE.info()"
      ]
    },
    {
      "cell_type": "code",
      "execution_count": null,
      "id": "86175df5",
      "metadata": {
        "id": "86175df5",
        "colab": {
          "base_uri": "https://localhost:8080/"
        },
        "outputId": "b6f96833-1244-478f-9bb3-cda27d69973d"
      },
      "outputs": [
        {
          "output_type": "execute_result",
          "data": {
            "text/plain": [
              "UnixTime                0\n",
              "Row                     0\n",
              "QuestionKey         74060\n",
              "Timestamp               0\n",
              "ET_GazeLeftx            4\n",
              "ET_GazeLefty            4\n",
              "ET_GazeRightx           4\n",
              "ET_GazeRighty           4\n",
              "ET_PupilLeft            4\n",
              "ET_PupilRight           4\n",
              "ET_TimeSignal           4\n",
              "ET_DistanceLeft         4\n",
              "ET_DistanceRight        4\n",
              "ET_CameraLeftX          4\n",
              "ET_CameraLeftY          4\n",
              "ET_CameraRightX         4\n",
              "ET_CameraRightY         4\n",
              "ET_ValidityLeft         4\n",
              "ET_ValidityRight        4\n",
              "dtype: int64"
            ]
          },
          "metadata": {},
          "execution_count": 166
        }
      ],
      "source": [
        "df_3_EYE.isnull().sum()"
      ]
    },
    {
      "cell_type": "code",
      "execution_count": null,
      "id": "1984d52c",
      "metadata": {
        "id": "1984d52c"
      },
      "outputs": [],
      "source": [
        "plt.figure(figsize=(12,8))\n",
        "sns.heatmap(df_3_EYE.isnull(), cmap='viridis')\n",
        "plt.show()"
      ]
    },
    {
      "cell_type": "markdown",
      "id": "541a12f6",
      "metadata": {
        "id": "541a12f6"
      },
      "source": [
        "# Notes & Observations\n",
        "\n",
        "- We observe many **null** (or missing) values in the `QuestionKey` columns.\n",
        "- The nulls in the `QuestionKey` column may not represent “true” nulls. Rather, they follow interval patterns, suggesting that during those periods no question was displayed.\n",
        "- These missing values in `QuestionKey` require additional investigation and context-aware handling."
      ]
    },
    {
      "cell_type": "code",
      "execution_count": null,
      "id": "54c46926",
      "metadata": {
        "id": "54c46926",
        "colab": {
          "base_uri": "https://localhost:8080/"
        },
        "outputId": "94859d64-8770-4020-ebb8-4bc37c1dbe1b"
      },
      "outputs": [
        {
          "output_type": "execute_result",
          "data": {
            "text/plain": [
              "array([nan, '1spl1', '1spl2', '1Item1', '1Item2', '1Item3', '1Item4',\n",
              "       '1Item5', '1Item6', '1Item7', '1Item8', '1Item9', '1Item10',\n",
              "       '2spl1', '2spl2', '2Item1', '2Item2', '2Item3', '2Item4', '2Item5',\n",
              "       '2Item6', '2Item7', '2Item8', '2Item9', '2Item10', '3spl1',\n",
              "       '3Item15', '3Item2', '3Item5', '3Item12', '3Item6', '3Item8',\n",
              "       '3Item7', '3Item9', '3Item17', '3Item19', '3Item11', '3Item4',\n",
              "       '3Item13', '3Item10', '3Item14', '3Item3', '3Item20'], dtype=object)"
            ]
          },
          "metadata": {},
          "execution_count": 168
        }
      ],
      "source": [
        "df_3_EYE['QuestionKey'].unique()"
      ]
    },
    {
      "cell_type": "code",
      "execution_count": null,
      "id": "a286d20d",
      "metadata": {
        "id": "a286d20d"
      },
      "outputs": [],
      "source": [
        "df_3_EYE['Timestamp'] = pd.to_datetime(df_3_EYE['Timestamp'])"
      ]
    },
    {
      "cell_type": "code",
      "execution_count": null,
      "id": "b2307454",
      "metadata": {
        "id": "b2307454"
      },
      "outputs": [],
      "source": [
        "df_3_EYE.head(3)"
      ]
    },
    {
      "cell_type": "code",
      "execution_count": null,
      "id": "4ef82b39",
      "metadata": {
        "id": "4ef82b39"
      },
      "outputs": [],
      "source": [
        "df_3_EYE['QuestionKey'] = df_3_EYE['QuestionKey'].fillna('None')"
      ]
    },
    {
      "cell_type": "code",
      "execution_count": null,
      "id": "6dca6ac9",
      "metadata": {
        "id": "6dca6ac9",
        "colab": {
          "base_uri": "https://localhost:8080/"
        },
        "outputId": "127dc92f-0d44-4201-920e-d3463aeb7b7d"
      },
      "outputs": [
        {
          "output_type": "execute_result",
          "data": {
            "text/plain": [
              "QuestionKey\n",
              "None       74060\n",
              "1Item5     10007\n",
              "2Item7      6102\n",
              "2Item10     6066\n",
              "2Item8      4799\n",
              "1Item9      3725\n",
              "1Item8      3584\n",
              "2Item9      3309\n",
              "1Item2      3193\n",
              "1Item1      3025\n",
              "1Item4      2888\n",
              "2Item5      2781\n",
              "2Item3      2542\n",
              "1spl2       2488\n",
              "1Item10     2445\n",
              "1Item6      2428\n",
              "2Item4      2394\n",
              "1Item7      2348\n",
              "1spl1       2298\n",
              "2Item6      2158\n",
              "1Item3      2009\n",
              "3Item12     1679\n",
              "3Item7      1594\n",
              "3Item17     1280\n",
              "2spl2       1270\n",
              "3Item15     1258\n",
              "2Item1      1198\n",
              "2Item2      1179\n",
              "3Item8      1150\n",
              "3Item2      1072\n",
              "3Item4       892\n",
              "2spl1        868\n",
              "3Item6       850\n",
              "3Item13      785\n",
              "3spl1        775\n",
              "3Item9       738\n",
              "3Item5       690\n",
              "3Item14      506\n",
              "3Item10      506\n",
              "3Item11      464\n",
              "3Item3       395\n",
              "3Item19      375\n",
              "3Item20      240\n",
              "Name: count, dtype: int64"
            ]
          },
          "metadata": {},
          "execution_count": 172
        }
      ],
      "source": [
        "df_3_EYE['QuestionKey'].value_counts()"
      ]
    },
    {
      "cell_type": "code",
      "execution_count": null,
      "id": "8b56f3a3",
      "metadata": {
        "id": "8b56f3a3"
      },
      "outputs": [],
      "source": [
        "plt.figure(figsize=(12,8))\n",
        "sns.heatmap(df_3_EYE.isnull(), cmap='viridis')\n",
        "plt.show()"
      ]
    },
    {
      "cell_type": "code",
      "execution_count": null,
      "id": "ce52355a",
      "metadata": {
        "id": "ce52355a",
        "colab": {
          "base_uri": "https://localhost:8080/"
        },
        "outputId": "7ac961ca-a630-46d1-8f33-2398fbba403d"
      },
      "outputs": [
        {
          "output_type": "execute_result",
          "data": {
            "text/plain": [
              "UnixTime            0\n",
              "Row                 0\n",
              "QuestionKey         0\n",
              "Timestamp           0\n",
              "ET_GazeLeftx        4\n",
              "ET_GazeLefty        4\n",
              "ET_GazeRightx       4\n",
              "ET_GazeRighty       4\n",
              "ET_PupilLeft        4\n",
              "ET_PupilRight       4\n",
              "ET_TimeSignal       4\n",
              "ET_DistanceLeft     4\n",
              "ET_DistanceRight    4\n",
              "ET_CameraLeftX      4\n",
              "ET_CameraLeftY      4\n",
              "ET_CameraRightX     4\n",
              "ET_CameraRightY     4\n",
              "ET_ValidityLeft     4\n",
              "ET_ValidityRight    4\n",
              "dtype: int64"
            ]
          },
          "metadata": {},
          "execution_count": 174
        }
      ],
      "source": [
        "df_3_EYE.isnull().sum()"
      ]
    },
    {
      "cell_type": "code",
      "execution_count": null,
      "id": "0435aea0",
      "metadata": {
        "id": "0435aea0"
      },
      "outputs": [],
      "source": [
        "df_3_EYE.dropna(inplace=True)"
      ]
    },
    {
      "cell_type": "code",
      "execution_count": null,
      "id": "48072f64",
      "metadata": {
        "id": "48072f64"
      },
      "outputs": [],
      "source": [
        "df_3_EYE.head()"
      ]
    },
    {
      "cell_type": "code",
      "execution_count": null,
      "id": "95a01ba8",
      "metadata": {
        "id": "95a01ba8",
        "colab": {
          "base_uri": "https://localhost:8080/"
        },
        "outputId": "0d985376-6e7d-43db-b939-8d8c8d283e8b"
      },
      "outputs": [
        {
          "output_type": "execute_result",
          "data": {
            "text/plain": [
              "array([     2,      3,      4, ..., 164409, 164410, 164411],\n",
              "      shape=(164409,))"
            ]
          },
          "metadata": {},
          "execution_count": 177
        }
      ],
      "source": [
        "df_3_EYE['Row'].unique()"
      ]
    },
    {
      "cell_type": "code",
      "execution_count": null,
      "id": "b7e917b8",
      "metadata": {
        "id": "b7e917b8"
      },
      "outputs": [],
      "source": [
        "plt.figure(figsize=(8,6))\n",
        "sns.histplot(df_3_EYE['Row'])\n",
        "plt.show()"
      ]
    },
    {
      "cell_type": "markdown",
      "id": "77bdffe4",
      "metadata": {
        "id": "77bdffe4"
      },
      "source": [
        "# Notes & Observations\n",
        "\n",
        "- The `Row` column appears to be a simple row index and does not provide meaningful information relevant to the eye-tracking data itself. Therefore, it can be dropped."
      ]
    },
    {
      "cell_type": "code",
      "execution_count": null,
      "id": "08559989",
      "metadata": {
        "id": "08559989"
      },
      "outputs": [],
      "source": [
        "df_3_EYE.drop('Row', axis=1, inplace=True)"
      ]
    },
    {
      "cell_type": "code",
      "execution_count": null,
      "id": "8f881fa8",
      "metadata": {
        "id": "8f881fa8",
        "colab": {
          "base_uri": "https://localhost:8080/"
        },
        "outputId": "ed898cc0-76f2-4681-adbd-efd55bc7ca42"
      },
      "outputs": [
        {
          "output_type": "execute_result",
          "data": {
            "text/plain": [
              "array([4., 0.])"
            ]
          },
          "metadata": {},
          "execution_count": 180
        }
      ],
      "source": [
        "df_3_EYE['ET_ValidityLeft'].unique()"
      ]
    },
    {
      "cell_type": "code",
      "execution_count": null,
      "id": "c711ffc3",
      "metadata": {
        "id": "c711ffc3",
        "colab": {
          "base_uri": "https://localhost:8080/"
        },
        "outputId": "0ca5eae8-053d-403c-ac12-5264d0be3bec"
      },
      "outputs": [
        {
          "output_type": "execute_result",
          "data": {
            "text/plain": [
              "ET_ValidityLeft\n",
              "0.0    153585\n",
              "4.0     10824\n",
              "Name: count, dtype: int64"
            ]
          },
          "metadata": {},
          "execution_count": 181
        }
      ],
      "source": [
        "df_3_EYE['ET_ValidityLeft'].value_counts()"
      ]
    },
    {
      "cell_type": "code",
      "execution_count": null,
      "id": "f0bd3a02",
      "metadata": {
        "id": "f0bd3a02",
        "colab": {
          "base_uri": "https://localhost:8080/"
        },
        "outputId": "438e401d-2c80-4b32-c9fb-9270a81bdbc0"
      },
      "outputs": [
        {
          "output_type": "execute_result",
          "data": {
            "text/plain": [
              "array([4., 0.])"
            ]
          },
          "metadata": {},
          "execution_count": 182
        }
      ],
      "source": [
        "df_3_EYE['ET_ValidityRight'].unique()"
      ]
    },
    {
      "cell_type": "code",
      "execution_count": null,
      "id": "f088acdf",
      "metadata": {
        "id": "f088acdf",
        "colab": {
          "base_uri": "https://localhost:8080/"
        },
        "outputId": "c35abb94-b541-45dd-9598-ad10ef6efa29"
      },
      "outputs": [
        {
          "output_type": "execute_result",
          "data": {
            "text/plain": [
              "ET_ValidityRight\n",
              "0.0    154843\n",
              "4.0      9566\n",
              "Name: count, dtype: int64"
            ]
          },
          "metadata": {},
          "execution_count": 183
        }
      ],
      "source": [
        "df_3_EYE['ET_ValidityRight'].value_counts()"
      ]
    },
    {
      "cell_type": "code",
      "execution_count": null,
      "id": "0770b0e5",
      "metadata": {
        "id": "0770b0e5"
      },
      "outputs": [],
      "source": [
        "plt.figure(figsize=(12, 6))\n",
        "\n",
        "plt.subplot(1, 2, 1)\n",
        "sns.barplot(x=df_3_EYE['ET_ValidityLeft'].value_counts().index, y=df_3_EYE['ET_ValidityLeft'].value_counts().values)\n",
        "plt.title('Count of ET_ValidityLeft')\n",
        "plt.xlabel('Validity')\n",
        "plt.ylabel('Count')\n",
        "\n",
        "\n",
        "plt.subplot(1, 2, 2)\n",
        "sns.barplot(x=df_3_EYE['ET_ValidityRight'].value_counts().index, y=df_3_EYE['ET_ValidityRight'].value_counts().values)\n",
        "plt.title('Count of ET_ValidityRight')\n",
        "plt.xlabel('Validity')\n",
        "plt.ylabel('Count')\n",
        "\n",
        "plt.tight_layout()\n",
        "plt.show()"
      ]
    },
    {
      "cell_type": "markdown",
      "id": "6ec5bc47",
      "metadata": {
        "id": "6ec5bc47"
      },
      "source": [
        "# Notes & Observations\n",
        "\n",
        "- The `ET_ValidityLeft` and `ET_ValidityRight` columns indicate the validity of the eye-tracking data for the left and right eye, respectively.\n",
        "- Based on the value counts and the bar plots, it appears that a value of `0.0` represents valid eye-tracking data, while a value of `4.0` represents invalid data.\n",
        "- Although the amount of invalid data is relatively small, removing these rows could introduce unwanted patterns or gaps in the time series data.\n",
        "- Therefore, we will keep the data and replace the value `4.0` with `1.0` in both `ET_ValidityLeft` and `ET_ValidityRight` columns. This will indicate to a machine learning model that the eye tracker had invalid data at those specific points in time while maintaining the integrity of the time series."
      ]
    },
    {
      "cell_type": "markdown",
      "id": "0b93e88b",
      "metadata": {
        "id": "0b93e88b"
      },
      "source": [
        "Define a mapping to convert validity values from `0.0` and `4.0` to `0` and `1`."
      ]
    },
    {
      "cell_type": "code",
      "execution_count": null,
      "id": "8201d223",
      "metadata": {
        "id": "8201d223"
      },
      "outputs": [],
      "source": [
        "validity_map = {4.0: 1.0, 0.0: 0.0}"
      ]
    },
    {
      "cell_type": "code",
      "execution_count": null,
      "id": "d44f4146",
      "metadata": {
        "id": "d44f4146"
      },
      "outputs": [],
      "source": [
        "df_3_EYE['ET_ValidityLeft'] = df_3_EYE['ET_ValidityLeft'].map(validity_map).astype(np.int8)\n",
        "df_3_EYE['ET_ValidityRight'] = df_3_EYE['ET_ValidityRight'].map(validity_map).astype(np.int8)"
      ]
    },
    {
      "cell_type": "code",
      "execution_count": null,
      "id": "19d59bf2",
      "metadata": {
        "id": "19d59bf2"
      },
      "outputs": [],
      "source": [
        "df_3_EYE.head(3)"
      ]
    },
    {
      "cell_type": "code",
      "execution_count": null,
      "id": "9ee24bc0",
      "metadata": {
        "id": "9ee24bc0"
      },
      "outputs": [],
      "source": [
        "df_3_EYE.describe()"
      ]
    },
    {
      "cell_type": "code",
      "execution_count": null,
      "id": "5b593dd2",
      "metadata": {
        "id": "5b593dd2",
        "colab": {
          "base_uri": "https://localhost:8080/"
        },
        "outputId": "be6d370e-e1a4-47fc-d1d6-a6f02954a019"
      },
      "outputs": [
        {
          "output_type": "execute_result",
          "data": {
            "text/plain": [
              "(10824, 18)"
            ]
          },
          "metadata": {},
          "execution_count": 189
        }
      ],
      "source": [
        "df_3_EYE[df_3_EYE['ET_ValidityLeft'] == 1].shape"
      ]
    },
    {
      "cell_type": "code",
      "execution_count": null,
      "id": "01a10ba5",
      "metadata": {
        "id": "01a10ba5",
        "colab": {
          "base_uri": "https://localhost:8080/"
        },
        "outputId": "6a755ffc-68ff-4a00-98de-8a8ea762ceac"
      },
      "outputs": [
        {
          "output_type": "execute_result",
          "data": {
            "text/plain": [
              "(9566, 18)"
            ]
          },
          "metadata": {},
          "execution_count": 190
        }
      ],
      "source": [
        "df_3_EYE[df_3_EYE['ET_ValidityRight'] == 1].shape"
      ]
    },
    {
      "cell_type": "code",
      "execution_count": null,
      "id": "90e83d0f",
      "metadata": {
        "id": "90e83d0f",
        "colab": {
          "base_uri": "https://localhost:8080/"
        },
        "outputId": "6cc16def-c3ab-48a8-d948-0c0406d85301"
      },
      "outputs": [
        {
          "output_type": "execute_result",
          "data": {
            "text/plain": [
              "0.06583581190810722"
            ]
          },
          "metadata": {},
          "execution_count": 191
        }
      ],
      "source": [
        "df_3_EYE[df_3_EYE['ET_ValidityLeft'] == 1].shape[0] / df_3_EYE.shape[0]"
      ]
    },
    {
      "cell_type": "code",
      "execution_count": null,
      "id": "048cd9b8",
      "metadata": {
        "id": "048cd9b8",
        "colab": {
          "base_uri": "https://localhost:8080/"
        },
        "outputId": "a17d1cd8-2624-47e2-8b9c-81b7501a3c6e"
      },
      "outputs": [
        {
          "output_type": "execute_result",
          "data": {
            "text/plain": [
              "0.05818416266749387"
            ]
          },
          "metadata": {},
          "execution_count": 192
        }
      ],
      "source": [
        "df_3_EYE[df_3_EYE['ET_ValidityRight'] == 1].shape[0] / df_3_EYE.shape[0]"
      ]
    },
    {
      "cell_type": "code",
      "execution_count": null,
      "id": "4c586eb3",
      "metadata": {
        "id": "4c586eb3"
      },
      "outputs": [],
      "source": [
        "plt.figure(figsize=(18, 8))\n",
        "\n",
        "plt.subplot(1, 2, 1)\n",
        "sns.heatmap(df_3_EYE == -1, cmap='viridis')\n",
        "plt.title('Heatmap of -1 Values')\n",
        "\n",
        "plt.subplot(1, 2, 2)\n",
        "sns.heatmap(df_3_EYE == 1, cmap='viridis')\n",
        "plt.title('Heatmap of 1 Values')\n",
        "\n",
        "plt.tight_layout()\n",
        "plt.show()"
      ]
    },
    {
      "cell_type": "code",
      "execution_count": null,
      "id": "04c70d5e",
      "metadata": {
        "id": "04c70d5e",
        "colab": {
          "base_uri": "https://localhost:8080/"
        },
        "outputId": "5632fefa-874a-4460-832c-3ca7e1aee509"
      },
      "outputs": [
        {
          "output_type": "execute_result",
          "data": {
            "text/plain": [
              "(112996, 18)"
            ]
          },
          "metadata": {},
          "execution_count": 194
        }
      ],
      "source": [
        "df_3_EYE[df_3_EYE['ET_PupilLeft'] == -1].shape"
      ]
    },
    {
      "cell_type": "code",
      "execution_count": null,
      "id": "56a25c8a",
      "metadata": {
        "id": "56a25c8a",
        "colab": {
          "base_uri": "https://localhost:8080/"
        },
        "outputId": "af85d018-db3f-419e-8549-d91ceaa448e1"
      },
      "outputs": [
        {
          "output_type": "execute_result",
          "data": {
            "text/plain": [
              "(113527, 18)"
            ]
          },
          "metadata": {},
          "execution_count": 195
        }
      ],
      "source": [
        "df_3_EYE[df_3_EYE['ET_PupilRight'] == -1].shape"
      ]
    },
    {
      "cell_type": "code",
      "execution_count": null,
      "id": "a880b978",
      "metadata": {
        "id": "a880b978",
        "colab": {
          "base_uri": "https://localhost:8080/"
        },
        "outputId": "4d2a078f-6ee2-48c9-b200-b1a2fa4e7704"
      },
      "outputs": [
        {
          "output_type": "execute_result",
          "data": {
            "text/plain": [
              "0.6872859758285739"
            ]
          },
          "metadata": {},
          "execution_count": 196
        }
      ],
      "source": [
        "df_3_EYE[df_3_EYE['ET_PupilLeft'] == -1].shape[0] / df_3_EYE.shape[0]"
      ]
    },
    {
      "cell_type": "code",
      "execution_count": null,
      "id": "5b7c545d",
      "metadata": {
        "id": "5b7c545d",
        "colab": {
          "base_uri": "https://localhost:8080/"
        },
        "outputId": "53e66a65-a23e-44b7-e221-303ef436657a"
      },
      "outputs": [
        {
          "output_type": "execute_result",
          "data": {
            "text/plain": [
              "0.690515726024731"
            ]
          },
          "metadata": {},
          "execution_count": 197
        }
      ],
      "source": [
        "df_3_EYE[df_3_EYE['ET_PupilRight'] == -1].shape[0] / df_3_EYE.shape[0]"
      ]
    },
    {
      "cell_type": "code",
      "execution_count": null,
      "id": "828916e4",
      "metadata": {
        "id": "828916e4"
      },
      "outputs": [],
      "source": [
        "plt.figure(figsize=(18, 8))\n",
        "\n",
        "plt.subplot(1, 2, 1)\n",
        "sns.heatmap(df_3_EYE[df_3_EYE['ET_ValidityLeft'] == 1] == -1, cmap='viridis')\n",
        "plt.title('Heatmap of -1 Values')\n",
        "\n",
        "plt.subplot(1, 2, 2)\n",
        "sns.heatmap(df_3_EYE[df_3_EYE['ET_ValidityRight'] == 1] == -1, cmap='viridis')\n",
        "plt.title('Heatmap of -1 Values')\n",
        "\n",
        "plt.tight_layout()\n",
        "plt.show()"
      ]
    },
    {
      "cell_type": "markdown",
      "id": "e550e10d",
      "metadata": {
        "id": "e550e10d"
      },
      "source": [
        "# Notes & Observations\n",
        "\n",
        "- The heatmaps reveal the distribution of -1 values across different columns.\n",
        "- It is evident that the `-1` values are not randomly scattered but appear in specific columns, notably `ET_GazeLeftx`, `ET_GazeLefty`, `ET_GazeRightx`, `ET_GazeRighty`, `ET_PupilLeft`, `ET_PupilRight`, `ET_DistanceLeft`, `ET_DistanceRight`, `ET_CameraLeftX`, `ET_CameraLeftY`, `ET_CameraRightX`, and `ET_CameraRightY`.\n",
        "- These `-1` values often coincide with instances where `ET_ValidityLeft` or `ET_ValidityRight` is 1, indicating invalid eye-tracking data. This suggests that `-1` is used as a placeholder for missing or invalid measurements in these columns when the eye tracker is not providing valid data for a particular eye.\n",
        "- Given that over 70% of the data in the `ET_PupilLeft` and `ET_PupilRight` columns is marked as invalid (-1), so instead of dropping them we can create new feature for both the `ET_PupilLeft` and `ET_PupilRight` to represent which row consist invalid `ET_PupilLeft` and `ET_PupilRight` data"
      ]
    },
    {
      "cell_type": "code",
      "execution_count": null,
      "id": "092d3bc0",
      "metadata": {
        "id": "092d3bc0"
      },
      "outputs": [],
      "source": [
        "pupil_validity = {-1: 1 }"
      ]
    },
    {
      "cell_type": "code",
      "execution_count": null,
      "id": "87b2d185",
      "metadata": {
        "id": "87b2d185"
      },
      "outputs": [],
      "source": [
        "df_3_EYE['ET_PupilLeft_validity'] = df_3_EYE['ET_PupilLeft'].map(pupil_validity)"
      ]
    },
    {
      "cell_type": "code",
      "execution_count": null,
      "id": "bafda434",
      "metadata": {
        "id": "bafda434"
      },
      "outputs": [],
      "source": [
        "df_3_EYE['ET_PupilRight_validity'] = df_3_EYE['ET_PupilRight'].map(pupil_validity)"
      ]
    },
    {
      "cell_type": "code",
      "execution_count": null,
      "id": "cb6e0217",
      "metadata": {
        "id": "cb6e0217"
      },
      "outputs": [],
      "source": [
        "df_3_EYE[['ET_PupilLeft_validity', 'ET_PupilRight_validity']].head()"
      ]
    },
    {
      "cell_type": "code",
      "execution_count": null,
      "id": "7becc65f",
      "metadata": {
        "id": "7becc65f",
        "colab": {
          "base_uri": "https://localhost:8080/"
        },
        "outputId": "09b84390-b29f-4dd3-90d2-331b5d34acee"
      },
      "outputs": [
        {
          "output_type": "execute_result",
          "data": {
            "text/plain": [
              "ET_PupilLeft_validity     51413\n",
              "ET_PupilRight_validity    50882\n",
              "dtype: int64"
            ]
          },
          "metadata": {},
          "execution_count": 203
        }
      ],
      "source": [
        "df_3_EYE[['ET_PupilLeft_validity', 'ET_PupilRight_validity']].isnull().sum()"
      ]
    },
    {
      "cell_type": "code",
      "execution_count": null,
      "id": "1cbdf957",
      "metadata": {
        "id": "1cbdf957"
      },
      "outputs": [],
      "source": [
        "plt.figure(figsize=(18, 8))\n",
        "sns.heatmap(df_3_EYE[['ET_PupilLeft_validity', 'ET_PupilRight_validity']].isnull(), cmap='viridis')\n",
        "plt.show()"
      ]
    },
    {
      "cell_type": "code",
      "execution_count": null,
      "id": "a4c306f7",
      "metadata": {
        "id": "a4c306f7"
      },
      "outputs": [],
      "source": [
        "df_3_EYE['ET_PupilLeft_validity'] = df_3_EYE['ET_PupilLeft_validity'].fillna(0)"
      ]
    },
    {
      "cell_type": "code",
      "execution_count": null,
      "id": "e1797b79",
      "metadata": {
        "id": "e1797b79"
      },
      "outputs": [],
      "source": [
        "df_3_EYE['ET_PupilRight_validity'] = df_3_EYE['ET_PupilRight_validity'].fillna(0)"
      ]
    },
    {
      "cell_type": "code",
      "execution_count": null,
      "id": "04536540",
      "metadata": {
        "id": "04536540"
      },
      "outputs": [],
      "source": [
        "df_3_EYE[['ET_PupilLeft_validity', 'ET_PupilRight_validity']].head()"
      ]
    },
    {
      "cell_type": "code",
      "execution_count": null,
      "id": "94b678e1",
      "metadata": {
        "id": "94b678e1"
      },
      "outputs": [],
      "source": [
        "plt.figure(figsize=(18, 8))\n",
        "sns.heatmap(df_3_EYE[['ET_PupilLeft_validity', 'ET_PupilRight_validity']].isnull(), cmap='viridis')\n",
        "plt.show()"
      ]
    },
    {
      "cell_type": "code",
      "execution_count": null,
      "id": "e3d0bb4b",
      "metadata": {
        "id": "e3d0bb4b"
      },
      "outputs": [],
      "source": [
        "df_3_EYE.head()"
      ]
    },
    {
      "cell_type": "code",
      "execution_count": null,
      "id": "72c619c4",
      "metadata": {
        "id": "72c619c4"
      },
      "outputs": [],
      "source": [
        "plt.figure(figsize=(18, 8))\n",
        "\n",
        "plt.subplot(1, 2, 1)\n",
        "sns.heatmap(df_3_EYE == -1, cmap='viridis')\n",
        "plt.title('Heatmap of -1 Values')\n",
        "\n",
        "plt.subplot(1, 2, 2)\n",
        "sns.heatmap(df_3_EYE == 1, cmap='viridis')\n",
        "plt.title('Heatmap of -1 Values')\n",
        "\n",
        "plt.tight_layout()\n",
        "plt.show()"
      ]
    },
    {
      "cell_type": "code",
      "execution_count": null,
      "id": "a0daf30e",
      "metadata": {
        "id": "a0daf30e"
      },
      "outputs": [],
      "source": [
        "valid_left_ratio  = 1 - df_3_EYE['ET_ValidityLeft'].mean()"
      ]
    },
    {
      "cell_type": "code",
      "execution_count": null,
      "id": "853541f7",
      "metadata": {
        "id": "853541f7",
        "colab": {
          "base_uri": "https://localhost:8080/"
        },
        "outputId": "d9ccc0a1-c429-4878-ed28-9d18e621ce04"
      },
      "outputs": [
        {
          "output_type": "execute_result",
          "data": {
            "text/plain": [
              "np.float64(0.9341641880918927)"
            ]
          },
          "metadata": {},
          "execution_count": 212
        }
      ],
      "source": [
        "valid_left_ratio"
      ]
    },
    {
      "cell_type": "code",
      "execution_count": null,
      "id": "00d5164f",
      "metadata": {
        "id": "00d5164f"
      },
      "outputs": [],
      "source": [
        "valid_right_ratio = 1 - df_3_EYE['ET_ValidityRight'].mean()"
      ]
    },
    {
      "cell_type": "code",
      "execution_count": null,
      "id": "400aa0e1",
      "metadata": {
        "id": "400aa0e1",
        "colab": {
          "base_uri": "https://localhost:8080/"
        },
        "outputId": "047f57b4-7c5e-49f9-8c30-5ebfc5605eb8"
      },
      "outputs": [
        {
          "output_type": "execute_result",
          "data": {
            "text/plain": [
              "np.float64(0.9418158373325062)"
            ]
          },
          "metadata": {},
          "execution_count": 214
        }
      ],
      "source": [
        "valid_right_ratio"
      ]
    },
    {
      "cell_type": "code",
      "execution_count": null,
      "id": "63b4a723",
      "metadata": {
        "id": "63b4a723"
      },
      "outputs": [],
      "source": [
        "df_3_EYE['ET_PupilLeft_validity'] = df_3_EYE['ET_PupilLeft_validity'].astype(np.int8)\n",
        "df_3_EYE['ET_PupilRight_validity'] = df_3_EYE['ET_PupilRight_validity'].astype(np.int8)"
      ]
    },
    {
      "cell_type": "markdown",
      "id": "e59d7124",
      "metadata": {
        "id": "e59d7124"
      },
      "source": [
        "# Feature Engineering and Observations\n",
        "\n",
        "Based on the analysis of the data, we've created two new features, `ET_PupilLeft_validity` and `ET_PupilRight_validity`. These features indicate the validity of the pupil data for the left and right eyes, respectively, with a value of 1 representing invalid data (originally -1) and 0 representing valid data.\n",
        "\n",
        "The heatmaps above visually demonstrate the distribution of -1 and 1 values across the dataset. We observed that:\n",
        "- The `-1` values are concentrated in specific columns related to gaze, pupil size, distance, and camera position, suggesting they represent missing or invalid sensor readings.\n",
        "- The `1` values, after mapping from `4.0` in the original validity columns, indicate instances of invalid eye-tracking data.\n",
        "- The heatmaps also show a strong correlation between the `-1` values in the pupil columns and a validity of 1 in the newly created pupil validity features, confirming that -1 was used to mark invalid pupil data."
      ]
    },
    {
      "cell_type": "code",
      "execution_count": null,
      "id": "5bf76162",
      "metadata": {
        "id": "5bf76162"
      },
      "outputs": [],
      "source": [
        "df_3_EYE.head()"
      ]
    },
    {
      "cell_type": "code",
      "execution_count": null,
      "id": "f54db683",
      "metadata": {
        "id": "f54db683"
      },
      "outputs": [],
      "source": [
        "# Select only the numeric columns for plotting histograms, excluding time-related columns\n",
        "numeric_cols = df_3_EYE.select_dtypes(include=np.number).columns\n",
        "cols_to_plot = [col for col in numeric_cols if col not in ['UnixTime']]\n",
        "\n",
        "# Calculate the number of rows and columns for the grid\n",
        "n_cols = 4  # You can adjust the number of columns as needed\n",
        "n_rows = (len(cols_to_plot) + n_cols - 1) // n_cols\n",
        "\n",
        "plt.figure(figsize=(n_cols * 5, n_rows * 4)) # Adjust figure size as needed\n",
        "\n",
        "for i, col in enumerate(cols_to_plot):\n",
        "    plt.subplot(n_rows, n_cols, i + 1)\n",
        "    sns.histplot(df_3_EYE[col], kde=True)\n",
        "    plt.title(f'Distribution of {col}')\n",
        "    plt.xlabel(col)\n",
        "    plt.ylabel('Frequency')\n",
        "\n",
        "plt.tight_layout()\n",
        "plt.show()"
      ]
    },
    {
      "cell_type": "markdown",
      "id": "6f2e9b26",
      "metadata": {
        "id": "6f2e9b26"
      },
      "source": [
        "# Observations from Histograms\n",
        "\n",
        "The grid of histograms provides insights into the distribution of values for each numeric column in the dataset (excluding 'UnixTime'). Key observations include:\n",
        "\n",
        "- Several columns, such as `ET_GazeLeftx`, `ET_GazeLefty`, `ET_GazeRightx`, and `ET_GazeRighty`, show distributions that appear somewhat multimodal or skewed, suggesting variations in gaze patterns.\n",
        "- The `ET_PupilLeft` and `ET_PupilRight` histograms clearly show a peak at -1, confirming the presence of a significant number of invalid pupil readings.\n",
        "- `ET_TimeSignal` shows a relatively uniform distribution, as expected for a time-based signal.\n",
        "- `ET_DistanceLeft` and `ET_DistanceRight` appear to have distributions centered around certain values, with some outliers or variations.\n",
        "- The camera position columns (`ET_CameraLeftX`, `ET_CameraLeftY`, `ET_CameraRightX`, `ET_CameraRightY`) seem to have distributions concentrated within specific ranges, reflecting the camera's field of view.\n",
        "- The validity columns (`ET_ValidityLeft`, `ET_ValidityRight`, `ET_PupilLeft_validity`, `ET_PupilRight_validity`) show distributions dominated by 0, indicating that most of the data is considered valid after the mapping. The smaller peaks at 1 represent the instances of invalid data.\n",
        "\n",
        "These distributions highlight the need for appropriate handling of the -1 values and potential outliers in subsequent analysis or modeling steps."
      ]
    },
    {
      "cell_type": "code",
      "execution_count": null,
      "id": "f87898ef",
      "metadata": {
        "id": "f87898ef",
        "colab": {
          "base_uri": "https://localhost:8080/"
        },
        "outputId": "bcf0709d-ca91-4fb6-dee4-c8133b3d2dcd"
      },
      "outputs": [
        {
          "output_type": "execute_result",
          "data": {
            "text/plain": [
              "Index(['UnixTime', 'QuestionKey', 'Timestamp', 'ET_GazeLeftx', 'ET_GazeLefty',\n",
              "       'ET_GazeRightx', 'ET_GazeRighty', 'ET_PupilLeft', 'ET_PupilRight',\n",
              "       'ET_TimeSignal', 'ET_DistanceLeft', 'ET_DistanceRight',\n",
              "       'ET_CameraLeftX', 'ET_CameraLeftY', 'ET_CameraRightX',\n",
              "       'ET_CameraRightY', 'ET_ValidityLeft', 'ET_ValidityRight',\n",
              "       'ET_PupilLeft_validity', 'ET_PupilRight_validity'],\n",
              "      dtype='object')"
            ]
          },
          "metadata": {},
          "execution_count": 218
        }
      ],
      "source": [
        "df_3_EYE.columns"
      ]
    },
    {
      "cell_type": "code",
      "execution_count": null,
      "id": "f3f7a360",
      "metadata": {
        "id": "f3f7a360"
      },
      "outputs": [],
      "source": [
        "cols = ['ET_GazeLeftx', 'ET_GazeLefty',\n",
        "       'ET_GazeRightx', 'ET_GazeRighty', 'ET_PupilLeft', 'ET_PupilRight',\n",
        "       'ET_TimeSignal', 'ET_DistanceLeft', 'ET_DistanceRight',\n",
        "       'ET_CameraLeftX', 'ET_CameraLeftY', 'ET_CameraRightX',\n",
        "       'ET_CameraRightY', 'ET_ValidityLeft', 'ET_ValidityRight',\n",
        "       'ET_PupilLeft_validity', 'ET_PupilRight_validity']"
      ]
    },
    {
      "cell_type": "code",
      "execution_count": null,
      "id": "575f45b0",
      "metadata": {
        "id": "575f45b0"
      },
      "outputs": [],
      "source": [
        "from IPython.display import display, Markdown\n",
        "\n",
        "for col in cols:\n",
        "    # Add a markdown cell before each plot for better separation and labeling\n",
        "    display(Markdown(f'### {col} over Time'))\n",
        "    plt.figure(figsize=(16, 10))\n",
        "    plt.plot(df_3_EYE['Timestamp'], df_3_EYE[col])\n",
        "    plt.xlabel(\"Timestamp\") # Add x-axis label\n",
        "    plt.ylabel(col) # Add y-axis label\n",
        "    plt.show()"
      ]
    },
    {
      "cell_type": "markdown",
      "id": "015a8583",
      "metadata": {
        "id": "015a8583"
      },
      "source": [
        "# Observations from Time Series Plots\n",
        "\n",
        "The line plots showing various features against the `Timestamp` reveal the temporal patterns and fluctuations in the eye-tracking data. Key observations include:\n",
        "\n",
        "- **Gaze Coordinates (`ET_GazeLeftx`, `ET_GazeLefty`, `ET_GazeRightx`, `ET_GazeRighty`):** These plots show the changes in gaze position over time. We can observe periods of relatively stable gaze interspersed with rapid movements (saccades) and blinks or other events where the gaze data might be invalid (-1 values appear as gaps or spikes if not handled).\n",
        "- **Pupil Size (`ET_PupilLeft`, `ET_PupilRight`):** The pupil size plots show variations over time. The presence of many -1 values is evident as flat lines at the bottom of the plot, indicating periods where pupil data was not recorded or was invalid.\n",
        "- **Time Signal (`ET_TimeSignal`):** This plot shows a steady, increasing trend, as expected for a time-based signal.\n",
        "- **Distance and Camera Position (`ET_DistanceLeft`, `ET_DistanceRight`, `ET_CameraLeftX`, `ET_CameraLeftY`, `ET_CameraRightX`, `ET_CameraRightY`):** These plots show how the distance from the eye tracker and the camera positions change over time. Variations in these features can be related to head movements or changes in the user's position relative to the eye tracker.\n",
        "- **Validity (`ET_ValidityLeft`, `ET_ValidityRight`, `ET_PupilLeft_validity`, `ET_PupilRight_validity`):** These plots clearly show periods of invalid data (represented by 1) as spikes or plateaus, corresponding to instances where the eye tracker lost track of the eyes or the pupil data was marked as invalid.\n",
        "\n",
        "Analyzing these time series plots is crucial for understanding the dynamics of the eye-tracking data and identifying patterns or anomalies that may require further investigation or specific handling during subsequent analysis."
      ]
    },
    {
      "cell_type": "code",
      "execution_count": null,
      "id": "e0f7571d",
      "metadata": {
        "id": "e0f7571d"
      },
      "outputs": [],
      "source": [
        "# Select only the numeric columns for plotting histograms, excluding time-related columns\n",
        "numeric_cols = df_3_EYE.select_dtypes(include=np.number).columns\n",
        "\n",
        "# Calculate the number of rows and columns for the grid\n",
        "n_cols = 4  # You can adjust the number of columns as needed\n",
        "n_rows = (len(numeric_cols) + n_cols - 1) // n_cols\n",
        "\n",
        "plt.figure(figsize=(n_cols * 5, n_rows * 4)) # Adjust figure size as needed\n",
        "\n",
        "for i, col in enumerate(numeric_cols):\n",
        "    plt.subplot(n_rows, n_cols, i + 1)\n",
        "    sns.boxplot(df_3_EYE[col])\n",
        "    plt.title(f'Boxplot of {col}')\n",
        "    plt.xlabel(col)\n",
        "\n",
        "plt.tight_layout()\n",
        "plt.show()"
      ]
    },
    {
      "cell_type": "markdown",
      "id": "561484a0",
      "metadata": {
        "id": "561484a0"
      },
      "source": [
        "# Observations from Boxplots and Handling -1 Values\n",
        "\n",
        "The boxplots provide a visual summary of the distribution and potential outliers for each numeric column. Key observations from the boxplots include:\n",
        "\n",
        "- The boxplots for columns like `ET_GazeLeftx`, `ET_GazeLefty`, `ET_GazeRightx`, `ET_GazeRighty`, `ET_PupilLeft`, `ET_PupilRight`, `ET_DistanceLeft`, `ET_DistanceRight`, `ET_CameraLeftX`, `ET_CameraLeftY`, `ET_CameraRightX`, and `ET_CameraRightY` clearly show the presence of -1 values as significant outliers, confirming our earlier observations from the heatmaps and histograms.\n",
        "- The boxplots for the validity columns (`ET_ValidityLeft`, `ET_ValidityRight`, `ET_PupilLeft_validity`, `ET_PupilRight_validity`) show the discrete nature of these features, with the majority of data points at 0 (valid) and a smaller number at 1 (invalid).\n",
        "\n",
        "Given the significant presence of -1 values, which represent invalid or missing data, especially in the pupil-related columns, we have decided to replace these -1 values with NaN to properly represent them as missing data. Subsequently, we will impute these missing values using the mean of each respective column. This approach helps to retain the data structure and allows for further analysis or modeling without the distortion caused by the -1 placeholders."
      ]
    },
    {
      "cell_type": "code",
      "execution_count": null,
      "id": "1c7eadab",
      "metadata": {
        "id": "1c7eadab"
      },
      "outputs": [],
      "source": [
        "df_3_EYE.replace({-1: np.nan}, inplace=True)"
      ]
    },
    {
      "cell_type": "code",
      "execution_count": null,
      "id": "890e8d2b",
      "metadata": {
        "id": "890e8d2b",
        "colab": {
          "base_uri": "https://localhost:8080/"
        },
        "outputId": "3016b5ff-7ffb-4d95-bdba-c8aed06603e9"
      },
      "outputs": [
        {
          "output_type": "execute_result",
          "data": {
            "text/plain": [
              "ET_GazeLeftx                1001.851379\n",
              "ET_GazeLefty                 519.690972\n",
              "ET_GazeRightx               1011.184492\n",
              "ET_GazeRighty                542.670639\n",
              "ET_PupilLeft                   3.855004\n",
              "ET_PupilRight                  3.594437\n",
              "ET_TimeSignal             684908.005680\n",
              "ET_DistanceLeft              620.354569\n",
              "ET_DistanceRight             619.447059\n",
              "ET_CameraLeftX                 0.571441\n",
              "ET_CameraLeftY                 0.451605\n",
              "ET_CameraRightX                0.420906\n",
              "ET_CameraRightY                0.453449\n",
              "ET_ValidityLeft                0.065836\n",
              "ET_ValidityRight               0.058184\n",
              "ET_PupilLeft_validity          0.687286\n",
              "ET_PupilRight_validity         0.690516\n",
              "dtype: float64"
            ]
          },
          "metadata": {},
          "execution_count": 223
        }
      ],
      "source": [
        "df_3_EYE[['ET_GazeLeftx', 'ET_GazeLefty',\n",
        "       'ET_GazeRightx', 'ET_GazeRighty', 'ET_PupilLeft', 'ET_PupilRight',\n",
        "       'ET_TimeSignal', 'ET_DistanceLeft', 'ET_DistanceRight',\n",
        "       'ET_CameraLeftX', 'ET_CameraLeftY', 'ET_CameraRightX',\n",
        "       'ET_CameraRightY', 'ET_ValidityLeft', 'ET_ValidityRight',\n",
        "       'ET_PupilLeft_validity', 'ET_PupilRight_validity']].mean()"
      ]
    },
    {
      "cell_type": "code",
      "execution_count": null,
      "id": "dd04fe4b",
      "metadata": {
        "id": "dd04fe4b",
        "colab": {
          "base_uri": "https://localhost:8080/"
        },
        "outputId": "0e21d735-b153-43fc-c0f2-85677e21a741"
      },
      "outputs": [
        {
          "output_type": "execute_result",
          "data": {
            "text/plain": [
              "ET_GazeLeftx                1044.000000\n",
              "ET_GazeLefty                 476.000000\n",
              "ET_GazeRightx               1044.000000\n",
              "ET_GazeRighty                509.000000\n",
              "ET_PupilLeft                   3.876862\n",
              "ET_PupilRight                  3.593674\n",
              "ET_TimeSignal             684903.020000\n",
              "ET_DistanceLeft              620.185059\n",
              "ET_DistanceRight             619.316711\n",
              "ET_CameraLeftX                 0.572754\n",
              "ET_CameraLeftY                 0.451636\n",
              "ET_CameraRightX                0.421962\n",
              "ET_CameraRightY                0.453643\n",
              "ET_ValidityLeft                0.000000\n",
              "ET_ValidityRight               0.000000\n",
              "ET_PupilLeft_validity          1.000000\n",
              "ET_PupilRight_validity         1.000000\n",
              "dtype: float64"
            ]
          },
          "metadata": {},
          "execution_count": 224
        }
      ],
      "source": [
        "df_3_EYE[['ET_GazeLeftx', 'ET_GazeLefty',\n",
        "       'ET_GazeRightx', 'ET_GazeRighty', 'ET_PupilLeft', 'ET_PupilRight',\n",
        "       'ET_TimeSignal', 'ET_DistanceLeft', 'ET_DistanceRight',\n",
        "       'ET_CameraLeftX', 'ET_CameraLeftY', 'ET_CameraRightX',\n",
        "       'ET_CameraRightY', 'ET_ValidityLeft', 'ET_ValidityRight',\n",
        "       'ET_PupilLeft_validity', 'ET_PupilRight_validity']].median()"
      ]
    },
    {
      "cell_type": "code",
      "execution_count": null,
      "id": "4e976878",
      "metadata": {
        "id": "4e976878"
      },
      "outputs": [],
      "source": [
        "numeric_cols = df_3_EYE.select_dtypes(include=np.number).columns\n",
        "\n",
        "for col in numeric_cols:\n",
        "    df_3_EYE[col] = df_3_EYE[col].fillna(df_3_EYE[col].mean())"
      ]
    },
    {
      "cell_type": "code",
      "execution_count": null,
      "id": "bb945562",
      "metadata": {
        "id": "bb945562"
      },
      "outputs": [],
      "source": [
        "plt.figure(figsize=(18, 8))\n",
        "\n",
        "plt.subplot(1, 2, 1)\n",
        "sns.heatmap(df_3_EYE.isnull(), cmap='viridis')\n",
        "plt.title('Heatmap of Missing Values After Imputation')\n",
        "\n",
        "plt.subplot(1, 2, 2)\n",
        "sns.heatmap(df_3_EYE == 1, cmap='viridis')\n",
        "plt.title('Heatmap of 1 Values')\n",
        "\n",
        "plt.tight_layout()\n",
        "plt.show()"
      ]
    },
    {
      "cell_type": "markdown",
      "id": "9a24e8cf",
      "metadata": {
        "id": "9a24e8cf"
      },
      "source": [
        "# Handling Missing Values (Imputation)\n",
        "\n",
        "As decided, we have replaced all the `-1` values with `NaN` to treat them as missing data. Subsequently, we have imputed these `NaN` values with the mean of their respective columns. The heatmap above, which was generated after the imputation, now shows no visible signs of `NaN` values, indicating that the imputation was successful."
      ]
    },
    {
      "cell_type": "code",
      "execution_count": null,
      "id": "a16eee8f",
      "metadata": {
        "id": "a16eee8f"
      },
      "outputs": [],
      "source": [
        "df_3_EYE.head()"
      ]
    },
    {
      "cell_type": "code",
      "execution_count": null,
      "id": "a268b013",
      "metadata": {
        "id": "a268b013"
      },
      "outputs": [],
      "source": [
        "# Select only the numeric columns for plotting histograms, excluding time-related columns\n",
        "numeric_cols = df_3_EYE.select_dtypes(include=np.number).columns\n",
        "cols_to_plot = [col for col in numeric_cols if col not in ['UnixTime']]\n",
        "\n",
        "# Calculate the number of rows and columns for the grid\n",
        "n_cols = 4  # You can adjust the number of columns as needed\n",
        "n_rows = (len(cols_to_plot) + n_cols - 1) // n_cols\n",
        "\n",
        "plt.figure(figsize=(n_cols * 5, n_rows * 4)) # Adjust figure size as needed\n",
        "\n",
        "for i, col in enumerate(cols_to_plot):\n",
        "    plt.subplot(n_rows, n_cols, i + 1)\n",
        "    sns.histplot(df_3_EYE[col], kde=True)\n",
        "    plt.title(f'Distribution of {col}')\n",
        "    plt.xlabel(col)\n",
        "    plt.ylabel('Frequency')\n",
        "\n",
        "plt.tight_layout()\n",
        "plt.show()"
      ]
    },
    {
      "cell_type": "markdown",
      "id": "d30cacb6",
      "metadata": {
        "id": "d30cacb6"
      },
      "source": [
        "# Observations from Histograms After Imputation\n",
        "\n",
        "The histograms generated after replacing the -1 values with the mean of each column show the distributions of the numeric features with the missing data handled. Key observations from these updated histograms include:\n",
        "\n",
        "- The distinct peaks at -1, which were prominent in the histograms for several columns (e.g., pupil size, gaze coordinates, distance, and camera position) before imputation, are now replaced by a peak at the mean of each respective column.\n",
        "- The distributions in many columns now appear more unimodal or show shifted modes compared to the original histograms.\n",
        "- The histograms for the validity columns still show their bimodal distributions with peaks at 0 and 1, as these were handled separately.\n",
        "\n",
        "These histograms provide an updated view of the data's distribution after handling the missing values, highlighting the impact of the imputation method on the data's characteristics."
      ]
    },
    {
      "cell_type": "code",
      "execution_count": null,
      "id": "06cc044f",
      "metadata": {
        "id": "06cc044f"
      },
      "outputs": [],
      "source": [
        "cols = ['ET_GazeLeftx', 'ET_GazeLefty',\n",
        "       'ET_GazeRightx', 'ET_GazeRighty', 'ET_PupilLeft', 'ET_PupilRight',\n",
        "       'ET_TimeSignal', 'ET_DistanceLeft', 'ET_DistanceRight',\n",
        "       'ET_CameraLeftX', 'ET_CameraLeftY', 'ET_CameraRightX',\n",
        "       'ET_CameraRightY', 'ET_ValidityLeft', 'ET_ValidityRight',\n",
        "       'ET_PupilLeft_validity', 'ET_PupilRight_validity']"
      ]
    },
    {
      "cell_type": "code",
      "execution_count": null,
      "id": "6a203cef",
      "metadata": {
        "id": "6a203cef"
      },
      "outputs": [],
      "source": [
        "for col in cols:\n",
        "    # Add a markdown cell before each plot for better separation and labeling\n",
        "    display(Markdown(f'### {col} over Time'))\n",
        "    plt.figure(figsize=(16, 10))\n",
        "    plt.plot(df_3_EYE['Timestamp'], df_3_EYE[col])\n",
        "    plt.xlabel(\"Timestamp\") # Add x-axis label\n",
        "    plt.ylabel(col) # Add y-axis label\n",
        "    plt.show()"
      ]
    },
    {
      "cell_type": "markdown",
      "id": "4f7a5769",
      "metadata": {
        "id": "4f7a5769"
      },
      "source": [
        "# Observations from Time Series Plots After Imputation\n",
        "\n",
        "The line plots generated after imputing the missing values with the mean show the temporal patterns of the features with the missing data handled. Key observations from these updated plots include:\n",
        "\n",
        "- The gaps or flat lines at -1, which were prominent in the plots for columns like gaze coordinates, pupil size, distance, and camera position, are now filled by lines at the mean value of the respective columns.\n",
        "- The plots for the validity columns remain the same as they were handled separately.\n",
        "- The `ET_TimeSignal` plot still shows a steady increasing trend, as expected."
      ]
    },
    {
      "cell_type": "code",
      "execution_count": null,
      "id": "bf21595e",
      "metadata": {
        "id": "bf21595e"
      },
      "outputs": [],
      "source": [
        "plt.figure(figsize=(16, 10))\n",
        "sns.heatmap(df_3_EYE.corr(numeric_only=True), cmap='YlGnBu', annot=True)\n",
        "plt.show()"
      ]
    },
    {
      "cell_type": "markdown",
      "id": "6dbb89c4",
      "metadata": {
        "id": "6dbb89c4"
      },
      "source": [
        "# Observations from Correlation Heatmap\n",
        "\n",
        "The correlation heatmap provides a visual representation of the pairwise correlations between the numeric columns in the dataset. Key observations from the heatmap include:\n",
        "\n",
        "- **High Positive Correlations:** We observe strong positive correlations (values close to 1) between:\n",
        "  - `ET_GazeLeftx` and `ET_GazeRightx`: This is expected as the gaze positions of both eyes should be highly correlated when fixating on a point.\n",
        "  - `ET_GazeLefty` and `ET_GazeRighty`: Similar to the x-coordinates, the y-coordinates of gaze should also be highly correlated.\n",
        "  - `ET_PupilLeft` and `ET_PupilRight`: Pupil sizes of both eyes tend to change together in response to light and cognitive load.\n",
        "  - `ET_DistanceLeft` and `ET_DistanceRight`: The distance from the eye tracker to each eye should be highly correlated.\n",
        "  - `ET_CameraLeftX` and `ET_CameraRightX`, `ET_CameraLeftY` and `ET_CameraRightY`: The camera positions for both eyes are also expected to be highly correlated.\n",
        "  - `UnixTime` and `ET_TimeSignal`: As previously noted, these two columns are almost perfectly linearly correlated, indicating redundancy.\n",
        "  - `ET_ValidityLeft` and `ET_PupilLeft_validity`: There is a positive correlation, suggesting that when the overall left eye data is invalid, the left pupil data is also likely to be invalid.\n",
        "  - `ET_ValidityRight` and `ET_PupilRight_validity`: Similar to the left eye, there is a positive correlation between the overall right eye validity and the right pupil validity.\n",
        "- **Other Correlations:** We can also observe other varying degrees of correlations between different features, which can provide insights into the relationships between gaze behavior, pupil size, distance, and camera position. For example, there might be correlations between gaze coordinates and camera positions, reflecting head movements.\n",
        "- **Low or Near-Zero Correlations:** Columns with low or near-zero correlations are relatively independent of each other.\n",
        "\n",
        "Understanding these correlations is important for feature selection and for building models, as highly correlated features might indicate multicollinearity, while correlations between features can reveal underlying patterns in the data."
      ]
    },
    {
      "cell_type": "markdown",
      "id": "2974ed99",
      "metadata": {
        "id": "2974ed99"
      },
      "source": [
        "# Analysis of ET_TimeSignal and Decision to Drop\n",
        "\n",
        "As observed in the time series plot and confirmed by the correlation heatmap, the `ET_TimeSignal` column exhibits a near-perfect linear relationship with both the `Timestamp` and `UnixTime` columns. This strong correlation (close to 1) suggests that `ET_TimeSignal` is essentially redundant and likely represents another form of time recording or a signal directly derived from the timestamp.\n",
        "\n",
        "Including highly correlated features like this in a dataset can lead to issues such as multicollinearity in some statistical models, which can make it difficult to interpret the individual impact of each feature. Since the `Timestamp` column already provides the necessary temporal information, retaining `ET_TimeSignal` does not appear to add significant value for further analysis or modeling in most cases.\n",
        "\n",
        "Therefore, based on its high correlation and lack of unique insight, we will proceed to drop the `ET_TimeSignal` column to simplify the dataset and potentially improve the performance and interpretability of future analyses."
      ]
    },
    {
      "cell_type": "code",
      "execution_count": null,
      "id": "94b735b6",
      "metadata": {
        "id": "94b735b6"
      },
      "outputs": [],
      "source": [
        "df_3_EYE.drop('ET_TimeSignal', axis=1, inplace=True)"
      ]
    },
    {
      "cell_type": "code",
      "execution_count": null,
      "id": "26d7abbe",
      "metadata": {
        "id": "26d7abbe"
      },
      "outputs": [],
      "source": [
        "plt.figure(figsize=(16, 10))\n",
        "sns.pairplot(df_3_EYE)\n",
        "plt.show()"
      ]
    },
    {
      "cell_type": "markdown",
      "id": "f925e348",
      "metadata": {
        "id": "f925e348"
      },
      "source": [
        "# **4_EYE**"
      ]
    },
    {
      "cell_type": "code",
      "execution_count": null,
      "id": "fa2f2e8f",
      "metadata": {
        "id": "fa2f2e8f"
      },
      "outputs": [],
      "source": [
        "df_4_EYE = pd.read_csv('data/STData/4/4_EYE.csv')"
      ]
    },
    {
      "cell_type": "code",
      "execution_count": null,
      "id": "28eec37d",
      "metadata": {
        "id": "28eec37d"
      },
      "outputs": [],
      "source": [
        "df_4_EYE.head()"
      ]
    },
    {
      "cell_type": "code",
      "execution_count": null,
      "id": "99585107",
      "metadata": {
        "id": "99585107",
        "colab": {
          "base_uri": "https://localhost:8080/"
        },
        "outputId": "5a72f889-c37a-4c98-9679-4a57912a11b9"
      },
      "outputs": [
        {
          "output_type": "execute_result",
          "data": {
            "text/plain": [
              "(110192, 19)"
            ]
          },
          "metadata": {},
          "execution_count": 236
        }
      ],
      "source": [
        "df_4_EYE.shape"
      ]
    },
    {
      "cell_type": "code",
      "execution_count": null,
      "id": "9eb2cad4",
      "metadata": {
        "id": "9eb2cad4",
        "colab": {
          "base_uri": "https://localhost:8080/"
        },
        "outputId": "01970e26-6157-4d40-b3e4-fe3fdf0a4b47"
      },
      "outputs": [
        {
          "output_type": "execute_result",
          "data": {
            "text/plain": [
              "Index(['UnixTime', 'Row', 'QuestionKey', 'Timestamp', 'ET_GazeLeftx',\n",
              "       'ET_GazeLefty', 'ET_GazeRightx', 'ET_GazeRighty', 'ET_PupilLeft',\n",
              "       'ET_PupilRight', 'ET_TimeSignal', 'ET_DistanceLeft', 'ET_DistanceRight',\n",
              "       'ET_CameraLeftX', 'ET_CameraLeftY', 'ET_CameraRightX',\n",
              "       'ET_CameraRightY', 'ET_ValidityLeft', 'ET_ValidityRight'],\n",
              "      dtype='object')"
            ]
          },
          "metadata": {},
          "execution_count": 237
        }
      ],
      "source": [
        "df_4_EYE.columns"
      ]
    },
    {
      "cell_type": "code",
      "execution_count": null,
      "id": "687927e8",
      "metadata": {
        "id": "687927e8",
        "colab": {
          "base_uri": "https://localhost:8080/"
        },
        "outputId": "ae07fe7d-92ea-4e50-b27a-2e3c506f9688"
      },
      "outputs": [
        {
          "output_type": "stream",
          "name": "stdout",
          "text": [
            "<class 'pandas.core.frame.DataFrame'>\n",
            "RangeIndex: 110192 entries, 0 to 110191\n",
            "Data columns (total 19 columns):\n",
            " #   Column            Non-Null Count   Dtype  \n",
            "---  ------            --------------   -----  \n",
            " 0   UnixTime          110192 non-null  float64\n",
            " 1   Row               110192 non-null  int64  \n",
            " 2   QuestionKey       69702 non-null   object \n",
            " 3   Timestamp         110192 non-null  object \n",
            " 4   ET_GazeLeftx      110188 non-null  float64\n",
            " 5   ET_GazeLefty      110188 non-null  float64\n",
            " 6   ET_GazeRightx     110188 non-null  float64\n",
            " 7   ET_GazeRighty     110188 non-null  float64\n",
            " 8   ET_PupilLeft      110188 non-null  float64\n",
            " 9   ET_PupilRight     110188 non-null  float64\n",
            " 10  ET_TimeSignal     110188 non-null  float64\n",
            " 11  ET_DistanceLeft   110188 non-null  float64\n",
            " 12  ET_DistanceRight  110188 non-null  float64\n",
            " 13  ET_CameraLeftX    110188 non-null  float64\n",
            " 14  ET_CameraLeftY    110188 non-null  float64\n",
            " 15  ET_CameraRightX   110188 non-null  float64\n",
            " 16  ET_CameraRightY   110188 non-null  float64\n",
            " 17  ET_ValidityLeft   110188 non-null  float64\n",
            " 18  ET_ValidityRight  110188 non-null  float64\n",
            "dtypes: float64(16), int64(1), object(2)\n",
            "memory usage: 16.0+ MB\n"
          ]
        }
      ],
      "source": [
        "df_4_EYE.info()"
      ]
    },
    {
      "cell_type": "code",
      "execution_count": null,
      "id": "22bdec24",
      "metadata": {
        "id": "22bdec24",
        "colab": {
          "base_uri": "https://localhost:8080/"
        },
        "outputId": "7f31fa7c-0163-4d0c-955c-1e2d69a8e0fa"
      },
      "outputs": [
        {
          "output_type": "execute_result",
          "data": {
            "text/plain": [
              "UnixTime                0\n",
              "Row                     0\n",
              "QuestionKey         40490\n",
              "Timestamp               0\n",
              "ET_GazeLeftx            4\n",
              "ET_GazeLefty            4\n",
              "ET_GazeRightx           4\n",
              "ET_GazeRighty           4\n",
              "ET_PupilLeft            4\n",
              "ET_PupilRight           4\n",
              "ET_TimeSignal           4\n",
              "ET_DistanceLeft         4\n",
              "ET_DistanceRight        4\n",
              "ET_CameraLeftX          4\n",
              "ET_CameraLeftY          4\n",
              "ET_CameraRightX         4\n",
              "ET_CameraRightY         4\n",
              "ET_ValidityLeft         4\n",
              "ET_ValidityRight        4\n",
              "dtype: int64"
            ]
          },
          "metadata": {},
          "execution_count": 239
        }
      ],
      "source": [
        "df_4_EYE.isnull().sum()"
      ]
    },
    {
      "cell_type": "code",
      "execution_count": null,
      "id": "790871ae",
      "metadata": {
        "id": "790871ae"
      },
      "outputs": [],
      "source": [
        "plt.figure(figsize=(12,8))\n",
        "sns.heatmap(df_4_EYE.isnull(), cmap='viridis')\n",
        "plt.show()"
      ]
    },
    {
      "cell_type": "markdown",
      "id": "6778d6b0",
      "metadata": {
        "id": "6778d6b0"
      },
      "source": [
        "# Notes & Observations\n",
        "\n",
        "- We observe many **null** (or missing) values in the `QuestionKey` columns.\n",
        "- The nulls in the `QuestionKey` column may not represent “true” nulls. Rather, they follow interval patterns, suggesting that during those periods no question was displayed.\n",
        "- These missing values in `QuestionKey` require additional investigation and context-aware handling."
      ]
    },
    {
      "cell_type": "code",
      "execution_count": null,
      "id": "56d1142e",
      "metadata": {
        "id": "56d1142e",
        "colab": {
          "base_uri": "https://localhost:8080/"
        },
        "outputId": "30ec4e78-b56f-4799-c630-11513d9b3c20"
      },
      "outputs": [
        {
          "output_type": "execute_result",
          "data": {
            "text/plain": [
              "array([nan, '1spl1', '1spl2', '1Item1', '1Item2', '1Item3', '1Item4',\n",
              "       '1Item5', '1Item6', '1Item7', '1Item8', '1Item9', '1Item10',\n",
              "       '2spl1', '2spl2', '2Item1', '2Item2', '2Item3', '2Item4', '2Item5',\n",
              "       '2Item6', '2Item7', '2Item8', '2Item9', '2Item10', '3spl1',\n",
              "       '3Item15', '3Item2', '3Item5', '3Item12', '3Item6', '3Item8',\n",
              "       '3Item7', '3Item9', '3Item17', '3Item19', '3Item11', '3Item4',\n",
              "       '3Item13', '3Item10', '3Item14', '3Item3', '3Item20'], dtype=object)"
            ]
          },
          "metadata": {},
          "execution_count": 241
        }
      ],
      "source": [
        "df_4_EYE['QuestionKey'].unique()"
      ]
    },
    {
      "cell_type": "code",
      "execution_count": null,
      "id": "d1e95184",
      "metadata": {
        "id": "d1e95184"
      },
      "outputs": [],
      "source": [
        "df_4_EYE['Timestamp'] = pd.to_datetime(df_4_EYE['Timestamp'])"
      ]
    },
    {
      "cell_type": "code",
      "execution_count": null,
      "id": "0d4265fa",
      "metadata": {
        "id": "0d4265fa"
      },
      "outputs": [],
      "source": [
        "df_4_EYE.head(3)"
      ]
    },
    {
      "cell_type": "code",
      "execution_count": null,
      "id": "3595fb86",
      "metadata": {
        "id": "3595fb86"
      },
      "outputs": [],
      "source": [
        "df_4_EYE['QuestionKey'] = df_4_EYE['QuestionKey'].fillna('None')"
      ]
    },
    {
      "cell_type": "code",
      "execution_count": null,
      "id": "4788fc0c",
      "metadata": {
        "id": "4788fc0c",
        "colab": {
          "base_uri": "https://localhost:8080/"
        },
        "outputId": "818a543f-ca45-4d0a-98d9-8bb11e33a429"
      },
      "outputs": [
        {
          "output_type": "execute_result",
          "data": {
            "text/plain": [
              "QuestionKey\n",
              "None       40490\n",
              "1Item7      4057\n",
              "2Item4      3799\n",
              "1Item3      3648\n",
              "1Item4      3254\n",
              "1Item9      2984\n",
              "1Item8      2980\n",
              "1Item2      2908\n",
              "2Item10     2753\n",
              "2Item5      2410\n",
              "2Item7      2367\n",
              "1Item10     2297\n",
              "2Item6      2295\n",
              "1Item6      2101\n",
              "2Item3      1933\n",
              "1Item1      1915\n",
              "1Item5      1816\n",
              "2Item2      1767\n",
              "2Item9      1720\n",
              "3Item14     1550\n",
              "2Item1      1514\n",
              "3Item8      1458\n",
              "3Item19     1421\n",
              "2Item8      1319\n",
              "3Item12     1285\n",
              "1spl2       1260\n",
              "3Item9      1168\n",
              "3Item11     1153\n",
              "1spl1       1113\n",
              "2spl1       1052\n",
              "2spl2       1009\n",
              "3Item15     1008\n",
              "3spl1        957\n",
              "3Item7       786\n",
              "3Item10      755\n",
              "3Item5       706\n",
              "3Item17      584\n",
              "3Item6       541\n",
              "3Item4       529\n",
              "3Item3       474\n",
              "3Item13      464\n",
              "3Item2       352\n",
              "3Item20      240\n",
              "Name: count, dtype: int64"
            ]
          },
          "metadata": {},
          "execution_count": 245
        }
      ],
      "source": [
        "df_4_EYE['QuestionKey'].value_counts()"
      ]
    },
    {
      "cell_type": "code",
      "execution_count": null,
      "id": "9d92c66c",
      "metadata": {
        "id": "9d92c66c"
      },
      "outputs": [],
      "source": [
        "plt.figure(figsize=(12,8))\n",
        "sns.heatmap(df_4_EYE.isnull(), cmap='viridis')\n",
        "plt.show()"
      ]
    },
    {
      "cell_type": "code",
      "execution_count": null,
      "id": "2ee07404",
      "metadata": {
        "id": "2ee07404",
        "colab": {
          "base_uri": "https://localhost:8080/"
        },
        "outputId": "835669a2-df4e-4e96-d717-d4a5dde548da"
      },
      "outputs": [
        {
          "output_type": "execute_result",
          "data": {
            "text/plain": [
              "UnixTime            0\n",
              "Row                 0\n",
              "QuestionKey         0\n",
              "Timestamp           0\n",
              "ET_GazeLeftx        4\n",
              "ET_GazeLefty        4\n",
              "ET_GazeRightx       4\n",
              "ET_GazeRighty       4\n",
              "ET_PupilLeft        4\n",
              "ET_PupilRight       4\n",
              "ET_TimeSignal       4\n",
              "ET_DistanceLeft     4\n",
              "ET_DistanceRight    4\n",
              "ET_CameraLeftX      4\n",
              "ET_CameraLeftY      4\n",
              "ET_CameraRightX     4\n",
              "ET_CameraRightY     4\n",
              "ET_ValidityLeft     4\n",
              "ET_ValidityRight    4\n",
              "dtype: int64"
            ]
          },
          "metadata": {},
          "execution_count": 247
        }
      ],
      "source": [
        "df_4_EYE.isnull().sum()"
      ]
    },
    {
      "cell_type": "code",
      "execution_count": null,
      "id": "8aa30aa1",
      "metadata": {
        "id": "8aa30aa1"
      },
      "outputs": [],
      "source": [
        "df_4_EYE.dropna(inplace=True)"
      ]
    },
    {
      "cell_type": "code",
      "execution_count": null,
      "id": "b286b807",
      "metadata": {
        "id": "b286b807"
      },
      "outputs": [],
      "source": [
        "df_4_EYE.head()"
      ]
    },
    {
      "cell_type": "code",
      "execution_count": null,
      "id": "6577e66e",
      "metadata": {
        "id": "6577e66e",
        "colab": {
          "base_uri": "https://localhost:8080/"
        },
        "outputId": "171ebfd8-843a-4a2b-ae0f-caa31f0eaae3"
      },
      "outputs": [
        {
          "output_type": "execute_result",
          "data": {
            "text/plain": [
              "array([     2,      3,      4, ..., 110188, 110189, 110190],\n",
              "      shape=(110188,))"
            ]
          },
          "metadata": {},
          "execution_count": 250
        }
      ],
      "source": [
        "df_4_EYE['Row'].unique()"
      ]
    },
    {
      "cell_type": "code",
      "execution_count": null,
      "id": "86774a61",
      "metadata": {
        "id": "86774a61"
      },
      "outputs": [],
      "source": [
        "plt.figure(figsize=(8,6))\n",
        "sns.histplot(df_4_EYE['Row'])\n",
        "plt.show()"
      ]
    },
    {
      "cell_type": "markdown",
      "id": "2e573141",
      "metadata": {
        "id": "2e573141"
      },
      "source": [
        "# Notes & Observations\n",
        "\n",
        "- The `Row` column appears to be a simple row index and does not provide meaningful information relevant to the eye-tracking data itself. Therefore, it can be dropped."
      ]
    },
    {
      "cell_type": "code",
      "execution_count": null,
      "id": "72565d1d",
      "metadata": {
        "id": "72565d1d"
      },
      "outputs": [],
      "source": [
        "df_4_EYE.drop('Row', axis=1, inplace=True)"
      ]
    },
    {
      "cell_type": "code",
      "execution_count": null,
      "id": "ff5af4ab",
      "metadata": {
        "id": "ff5af4ab",
        "colab": {
          "base_uri": "https://localhost:8080/"
        },
        "outputId": "990ea18c-d477-4cbb-a078-26e631d29c56"
      },
      "outputs": [
        {
          "output_type": "execute_result",
          "data": {
            "text/plain": [
              "array([4., 0.])"
            ]
          },
          "metadata": {},
          "execution_count": 253
        }
      ],
      "source": [
        "df_4_EYE['ET_ValidityLeft'].unique()"
      ]
    },
    {
      "cell_type": "code",
      "execution_count": null,
      "id": "1f268f28",
      "metadata": {
        "id": "1f268f28",
        "colab": {
          "base_uri": "https://localhost:8080/"
        },
        "outputId": "c61cc856-d0b3-4608-f2d9-41176ee7c222"
      },
      "outputs": [
        {
          "output_type": "execute_result",
          "data": {
            "text/plain": [
              "ET_ValidityLeft\n",
              "0.0    74973\n",
              "4.0    35215\n",
              "Name: count, dtype: int64"
            ]
          },
          "metadata": {},
          "execution_count": 254
        }
      ],
      "source": [
        "df_4_EYE['ET_ValidityLeft'].value_counts()"
      ]
    },
    {
      "cell_type": "code",
      "execution_count": null,
      "id": "f40799a2",
      "metadata": {
        "id": "f40799a2",
        "colab": {
          "base_uri": "https://localhost:8080/"
        },
        "outputId": "9801138d-3fd4-4610-ca59-e56800fa0460"
      },
      "outputs": [
        {
          "output_type": "execute_result",
          "data": {
            "text/plain": [
              "array([0., 4.])"
            ]
          },
          "metadata": {},
          "execution_count": 255
        }
      ],
      "source": [
        "df_4_EYE['ET_ValidityRight'].unique()"
      ]
    },
    {
      "cell_type": "code",
      "execution_count": null,
      "id": "fd630a1d",
      "metadata": {
        "id": "fd630a1d",
        "colab": {
          "base_uri": "https://localhost:8080/"
        },
        "outputId": "7dd8bf31-953f-4f62-d2c7-9cd22e330b09"
      },
      "outputs": [
        {
          "output_type": "execute_result",
          "data": {
            "text/plain": [
              "ET_ValidityRight\n",
              "0.0    72667\n",
              "4.0    37521\n",
              "Name: count, dtype: int64"
            ]
          },
          "metadata": {},
          "execution_count": 256
        }
      ],
      "source": [
        "df_4_EYE['ET_ValidityRight'].value_counts()"
      ]
    },
    {
      "cell_type": "code",
      "execution_count": null,
      "id": "199c675f",
      "metadata": {
        "id": "199c675f"
      },
      "outputs": [],
      "source": [
        "plt.figure(figsize=(12, 6))\n",
        "\n",
        "plt.subplot(1, 2, 1)\n",
        "sns.barplot(x=df_4_EYE['ET_ValidityLeft'].value_counts().index, y=df_4_EYE['ET_ValidityLeft'].value_counts().values)\n",
        "plt.title('Count of ET_ValidityLeft')\n",
        "plt.xlabel('Validity')\n",
        "plt.ylabel('Count')\n",
        "\n",
        "\n",
        "plt.subplot(1, 2, 2)\n",
        "sns.barplot(x=df_4_EYE['ET_ValidityRight'].value_counts().index, y=df_4_EYE['ET_ValidityRight'].value_counts().values)\n",
        "plt.title('Count of ET_ValidityRight')\n",
        "plt.xlabel('Validity')\n",
        "plt.ylabel('Count')\n",
        "\n",
        "plt.tight_layout()\n",
        "plt.show()"
      ]
    },
    {
      "cell_type": "markdown",
      "id": "ae9f8732",
      "metadata": {
        "id": "ae9f8732"
      },
      "source": [
        "# Notes & Observations\n",
        "\n",
        "- The `ET_ValidityLeft` and `ET_ValidityRight` columns indicate the validity of the eye-tracking data for the left and right eye, respectively.\n",
        "- Based on the value counts and the bar plots, it appears that a value of `0.0` represents valid eye-tracking data, while a value of `4.0` represents invalid data.\n",
        "- Although the amount of invalid data is relatively small, removing these rows could introduce unwanted patterns or gaps in the time series data.\n",
        "- Therefore, we will keep the data and replace the value `4.0` with `1.0` in both `ET_ValidityLeft` and `ET_ValidityRight` columns. This will indicate to a machine learning model that the eye tracker had invalid data at those specific points in time while maintaining the integrity of the time series."
      ]
    },
    {
      "cell_type": "markdown",
      "id": "1b985449",
      "metadata": {
        "id": "1b985449"
      },
      "source": [
        "Define a mapping to convert validity values from `0.0` and `4.0` to `0` and `1`."
      ]
    },
    {
      "cell_type": "code",
      "execution_count": null,
      "id": "71702755",
      "metadata": {
        "id": "71702755"
      },
      "outputs": [],
      "source": [
        "validity_map = {4.0: 1.0, 0.0: 0.0}"
      ]
    },
    {
      "cell_type": "code",
      "execution_count": null,
      "id": "86510c68",
      "metadata": {
        "id": "86510c68"
      },
      "outputs": [],
      "source": [
        "df_4_EYE['ET_ValidityLeft'] = df_4_EYE['ET_ValidityLeft'].map(validity_map).astype(np.int8)\n",
        "df_4_EYE['ET_ValidityRight'] = df_4_EYE['ET_ValidityRight'].map(validity_map).astype(np.int8)"
      ]
    },
    {
      "cell_type": "code",
      "execution_count": null,
      "id": "fb5dcc54",
      "metadata": {
        "id": "fb5dcc54"
      },
      "outputs": [],
      "source": [
        "df_4_EYE.head(3)"
      ]
    },
    {
      "cell_type": "code",
      "execution_count": null,
      "id": "b6ae2ee2",
      "metadata": {
        "id": "b6ae2ee2"
      },
      "outputs": [],
      "source": [
        "df_4_EYE.describe()"
      ]
    },
    {
      "cell_type": "code",
      "execution_count": null,
      "id": "4c558e41",
      "metadata": {
        "id": "4c558e41",
        "colab": {
          "base_uri": "https://localhost:8080/"
        },
        "outputId": "f8bd719e-2041-47c2-ba9d-144a5369243e"
      },
      "outputs": [
        {
          "output_type": "execute_result",
          "data": {
            "text/plain": [
              "(35215, 18)"
            ]
          },
          "metadata": {},
          "execution_count": 262
        }
      ],
      "source": [
        "df_4_EYE[df_4_EYE['ET_ValidityLeft'] == 1].shape"
      ]
    },
    {
      "cell_type": "code",
      "execution_count": null,
      "id": "5f30e14b",
      "metadata": {
        "id": "5f30e14b",
        "colab": {
          "base_uri": "https://localhost:8080/"
        },
        "outputId": "1bad6d1c-ee33-414d-fa8b-c35bc4f2f972"
      },
      "outputs": [
        {
          "output_type": "execute_result",
          "data": {
            "text/plain": [
              "(37521, 18)"
            ]
          },
          "metadata": {},
          "execution_count": 263
        }
      ],
      "source": [
        "df_4_EYE[df_4_EYE['ET_ValidityRight'] == 1].shape"
      ]
    },
    {
      "cell_type": "code",
      "execution_count": null,
      "id": "a3fb74b9",
      "metadata": {
        "id": "a3fb74b9",
        "colab": {
          "base_uri": "https://localhost:8080/"
        },
        "outputId": "f73e6af7-cc5a-4561-c9fc-8cdceb769633"
      },
      "outputs": [
        {
          "output_type": "execute_result",
          "data": {
            "text/plain": [
              "0.31959015500780485"
            ]
          },
          "metadata": {},
          "execution_count": 264
        }
      ],
      "source": [
        "df_4_EYE[df_4_EYE['ET_ValidityLeft'] == 1].shape[0] / df_4_EYE.shape[0]"
      ]
    },
    {
      "cell_type": "code",
      "execution_count": null,
      "id": "65a6d5d7",
      "metadata": {
        "id": "65a6d5d7",
        "colab": {
          "base_uri": "https://localhost:8080/"
        },
        "outputId": "3ee0da11-b9e4-46ac-dbef-319a2c6e8ceb"
      },
      "outputs": [
        {
          "output_type": "execute_result",
          "data": {
            "text/plain": [
              "0.34051802374124224"
            ]
          },
          "metadata": {},
          "execution_count": 265
        }
      ],
      "source": [
        "df_4_EYE[df_4_EYE['ET_ValidityRight'] == 1].shape[0] / df_4_EYE.shape[0]"
      ]
    },
    {
      "cell_type": "code",
      "execution_count": null,
      "id": "645e7bc3",
      "metadata": {
        "id": "645e7bc3"
      },
      "outputs": [],
      "source": [
        "plt.figure(figsize=(18, 8))\n",
        "\n",
        "plt.subplot(1, 2, 1)\n",
        "sns.heatmap(df_4_EYE == -1, cmap='viridis')\n",
        "plt.title('Heatmap of -1 Values')\n",
        "\n",
        "plt.subplot(1, 2, 2)\n",
        "sns.heatmap(df_4_EYE == 1, cmap='viridis')\n",
        "plt.title('Heatmap of 1 Values')\n",
        "\n",
        "plt.tight_layout()\n",
        "plt.show()"
      ]
    },
    {
      "cell_type": "code",
      "execution_count": null,
      "id": "e6a19cea",
      "metadata": {
        "id": "e6a19cea",
        "colab": {
          "base_uri": "https://localhost:8080/"
        },
        "outputId": "8736d651-00a4-4776-e013-85613e05c79b"
      },
      "outputs": [
        {
          "output_type": "execute_result",
          "data": {
            "text/plain": [
              "(83612, 18)"
            ]
          },
          "metadata": {},
          "execution_count": 267
        }
      ],
      "source": [
        "df_4_EYE[df_4_EYE['ET_PupilLeft'] == -1].shape"
      ]
    },
    {
      "cell_type": "code",
      "execution_count": null,
      "id": "23a489c0",
      "metadata": {
        "id": "23a489c0",
        "colab": {
          "base_uri": "https://localhost:8080/"
        },
        "outputId": "d82b425e-b631-4c07-9611-8b3a66a22f61"
      },
      "outputs": [
        {
          "output_type": "execute_result",
          "data": {
            "text/plain": [
              "(83455, 18)"
            ]
          },
          "metadata": {},
          "execution_count": 268
        }
      ],
      "source": [
        "df_4_EYE[df_4_EYE['ET_PupilRight'] == -1].shape"
      ]
    },
    {
      "cell_type": "code",
      "execution_count": null,
      "id": "0db65fd8",
      "metadata": {
        "id": "0db65fd8",
        "colab": {
          "base_uri": "https://localhost:8080/"
        },
        "outputId": "184385c2-ad73-41d6-d918-308f76220bd3"
      },
      "outputs": [
        {
          "output_type": "execute_result",
          "data": {
            "text/plain": [
              "0.7588122118561005"
            ]
          },
          "metadata": {},
          "execution_count": 269
        }
      ],
      "source": [
        "df_4_EYE[df_4_EYE['ET_PupilLeft'] == -1].shape[0] / df_4_EYE.shape[0]"
      ]
    },
    {
      "cell_type": "code",
      "execution_count": null,
      "id": "84cfb9cd",
      "metadata": {
        "id": "84cfb9cd",
        "colab": {
          "base_uri": "https://localhost:8080/"
        },
        "outputId": "eab9b286-2782-4a01-d4fc-170ab13ecc74"
      },
      "outputs": [
        {
          "output_type": "execute_result",
          "data": {
            "text/plain": [
              "0.757387374305732"
            ]
          },
          "metadata": {},
          "execution_count": 270
        }
      ],
      "source": [
        "df_4_EYE[df_4_EYE['ET_PupilRight'] == -1].shape[0] / df_4_EYE.shape[0]"
      ]
    },
    {
      "cell_type": "code",
      "execution_count": null,
      "id": "b73438e2",
      "metadata": {
        "id": "b73438e2"
      },
      "outputs": [],
      "source": [
        "plt.figure(figsize=(18, 8))\n",
        "\n",
        "plt.subplot(1, 2, 1)\n",
        "sns.heatmap(df_4_EYE[df_4_EYE['ET_ValidityLeft'] == 1] == -1, cmap='viridis')\n",
        "plt.title('Heatmap of -1 Values')\n",
        "\n",
        "plt.subplot(1, 2, 2)\n",
        "sns.heatmap(df_4_EYE[df_4_EYE['ET_ValidityRight'] == 1] == -1, cmap='viridis')\n",
        "plt.title('Heatmap of -1 Values')\n",
        "\n",
        "plt.tight_layout()\n",
        "plt.show()"
      ]
    },
    {
      "cell_type": "markdown",
      "id": "dd58b31e",
      "metadata": {
        "id": "dd58b31e"
      },
      "source": [
        "# Notes & Observations\n",
        "\n",
        "- The heatmaps reveal the distribution of -1 values across different columns.\n",
        "- It is evident that the `-1` values are not randomly scattered but appear in specific columns, notably `ET_GazeLeftx`, `ET_GazeLefty`, `ET_GazeRightx`, `ET_GazeRighty`, `ET_PupilLeft`, `ET_PupilRight`, `ET_DistanceLeft`, `ET_DistanceRight`, `ET_CameraLeftX`, `ET_CameraLeftY`, `ET_CameraRightX`, and `ET_CameraRightY`.\n",
        "- These `-1` values often coincide with instances where `ET_ValidityLeft` or `ET_ValidityRight` is 1, indicating invalid eye-tracking data. This suggests that `-1` is used as a placeholder for missing or invalid measurements in these columns when the eye tracker is not providing valid data for a particular eye.\n",
        "- Given that over 70% of the data in the `ET_PupilLeft` and `ET_PupilRight` columns is marked as invalid (-1), so instead of dropping them we can create new feature for both the `ET_PupilLeft` and `ET_PupilRight` to represent which row consist invalid `ET_PupilLeft` and `ET_PupilRight` data"
      ]
    },
    {
      "cell_type": "code",
      "execution_count": null,
      "id": "22cd0a40",
      "metadata": {
        "id": "22cd0a40"
      },
      "outputs": [],
      "source": [
        "pupil_validity = {-1: 1 }"
      ]
    },
    {
      "cell_type": "code",
      "execution_count": null,
      "id": "36efa905",
      "metadata": {
        "id": "36efa905"
      },
      "outputs": [],
      "source": [
        "df_4_EYE['ET_PupilLeft_validity'] = df_4_EYE['ET_PupilLeft'].map(pupil_validity)"
      ]
    },
    {
      "cell_type": "code",
      "execution_count": null,
      "id": "6d86e690",
      "metadata": {
        "id": "6d86e690"
      },
      "outputs": [],
      "source": [
        "df_4_EYE['ET_PupilRight_validity'] = df_4_EYE['ET_PupilRight'].map(pupil_validity)"
      ]
    },
    {
      "cell_type": "code",
      "execution_count": null,
      "id": "5dc8e8bc",
      "metadata": {
        "id": "5dc8e8bc"
      },
      "outputs": [],
      "source": [
        "df_4_EYE[['ET_PupilLeft_validity', 'ET_PupilRight_validity']].head()"
      ]
    },
    {
      "cell_type": "code",
      "execution_count": null,
      "id": "92ab54fc",
      "metadata": {
        "id": "92ab54fc",
        "colab": {
          "base_uri": "https://localhost:8080/"
        },
        "outputId": "baf16efe-ad79-48f2-a794-9e231c60af31"
      },
      "outputs": [
        {
          "output_type": "execute_result",
          "data": {
            "text/plain": [
              "ET_PupilLeft_validity     26576\n",
              "ET_PupilRight_validity    26733\n",
              "dtype: int64"
            ]
          },
          "metadata": {},
          "execution_count": 276
        }
      ],
      "source": [
        "df_4_EYE[['ET_PupilLeft_validity', 'ET_PupilRight_validity']].isnull().sum()"
      ]
    },
    {
      "cell_type": "code",
      "execution_count": null,
      "id": "82c98c6f",
      "metadata": {
        "id": "82c98c6f"
      },
      "outputs": [],
      "source": [
        "plt.figure(figsize=(18, 8))\n",
        "sns.heatmap(df_4_EYE[['ET_PupilLeft_validity', 'ET_PupilRight_validity']].isnull(), cmap='viridis')\n",
        "plt.show()"
      ]
    },
    {
      "cell_type": "code",
      "execution_count": null,
      "id": "544774b0",
      "metadata": {
        "id": "544774b0"
      },
      "outputs": [],
      "source": [
        "df_4_EYE['ET_PupilLeft_validity'] = df_4_EYE['ET_PupilLeft_validity'].fillna(0)"
      ]
    },
    {
      "cell_type": "code",
      "execution_count": null,
      "id": "7c66f644",
      "metadata": {
        "id": "7c66f644"
      },
      "outputs": [],
      "source": [
        "df_4_EYE['ET_PupilRight_validity'] = df_4_EYE['ET_PupilRight_validity'].fillna(0)"
      ]
    },
    {
      "cell_type": "code",
      "execution_count": null,
      "id": "8caf89fa",
      "metadata": {
        "id": "8caf89fa"
      },
      "outputs": [],
      "source": [
        "df_4_EYE[['ET_PupilLeft_validity', 'ET_PupilRight_validity']].head()"
      ]
    },
    {
      "cell_type": "code",
      "execution_count": null,
      "id": "eea619e1",
      "metadata": {
        "id": "eea619e1"
      },
      "outputs": [],
      "source": [
        "plt.figure(figsize=(18, 8))\n",
        "sns.heatmap(df_4_EYE[['ET_PupilLeft_validity', 'ET_PupilRight_validity']].isnull(), cmap='viridis')\n",
        "plt.show()"
      ]
    },
    {
      "cell_type": "code",
      "execution_count": null,
      "id": "e98d187f",
      "metadata": {
        "id": "e98d187f"
      },
      "outputs": [],
      "source": [
        "df_4_EYE.head()"
      ]
    },
    {
      "cell_type": "code",
      "execution_count": null,
      "id": "6d74435d",
      "metadata": {
        "id": "6d74435d"
      },
      "outputs": [],
      "source": [
        "plt.figure(figsize=(18, 8))\n",
        "\n",
        "plt.subplot(1, 2, 1)\n",
        "sns.heatmap(df_4_EYE == -1, cmap='viridis')\n",
        "plt.title('Heatmap of -1 Values')\n",
        "\n",
        "plt.subplot(1, 2, 2)\n",
        "sns.heatmap(df_4_EYE == 1, cmap='viridis')\n",
        "plt.title('Heatmap of -1 Values')\n",
        "\n",
        "plt.tight_layout()\n",
        "plt.show()"
      ]
    },
    {
      "cell_type": "code",
      "execution_count": null,
      "id": "3018b25c",
      "metadata": {
        "id": "3018b25c"
      },
      "outputs": [],
      "source": [
        "valid_left_ratio  = 1 - df_4_EYE['ET_ValidityLeft'].mean()"
      ]
    },
    {
      "cell_type": "code",
      "execution_count": null,
      "id": "43cc11a2",
      "metadata": {
        "id": "43cc11a2",
        "colab": {
          "base_uri": "https://localhost:8080/"
        },
        "outputId": "37794861-6b4b-4a2e-b228-309cc9a9e416"
      },
      "outputs": [
        {
          "output_type": "execute_result",
          "data": {
            "text/plain": [
              "np.float64(0.6804098449921951)"
            ]
          },
          "metadata": {},
          "execution_count": 285
        }
      ],
      "source": [
        "valid_left_ratio"
      ]
    },
    {
      "cell_type": "code",
      "execution_count": null,
      "id": "df3ed029",
      "metadata": {
        "id": "df3ed029"
      },
      "outputs": [],
      "source": [
        "valid_right_ratio = 1 - df_4_EYE['ET_ValidityRight'].mean()"
      ]
    },
    {
      "cell_type": "code",
      "execution_count": null,
      "id": "c6a64c51",
      "metadata": {
        "id": "c6a64c51",
        "colab": {
          "base_uri": "https://localhost:8080/"
        },
        "outputId": "f1c32ac8-2626-4fd0-dd9f-266dcc80cd91"
      },
      "outputs": [
        {
          "output_type": "execute_result",
          "data": {
            "text/plain": [
              "np.float64(0.6594819762587578)"
            ]
          },
          "metadata": {},
          "execution_count": 287
        }
      ],
      "source": [
        "valid_right_ratio"
      ]
    },
    {
      "cell_type": "code",
      "execution_count": null,
      "id": "ddf8e95f",
      "metadata": {
        "id": "ddf8e95f"
      },
      "outputs": [],
      "source": [
        "df_4_EYE['ET_PupilLeft_validity'] = df_4_EYE['ET_PupilLeft_validity'].astype(np.int8)\n",
        "df_4_EYE['ET_PupilRight_validity'] = df_4_EYE['ET_PupilRight_validity'].astype(np.int8)"
      ]
    },
    {
      "cell_type": "markdown",
      "id": "6a436a0a",
      "metadata": {
        "id": "6a436a0a"
      },
      "source": [
        "# Feature Engineering and Observations\n",
        "\n",
        "Based on the analysis of the data, we've created two new features, `ET_PupilLeft_validity` and `ET_PupilRight_validity`. These features indicate the validity of the pupil data for the left and right eyes, respectively, with a value of 1 representing invalid data (originally -1) and 0 representing valid data.\n",
        "\n",
        "The heatmaps above visually demonstrate the distribution of -1 and 1 values across the dataset. We observed that:\n",
        "- The `-1` values are concentrated in specific columns related to gaze, pupil size, distance, and camera position, suggesting they represent missing or invalid sensor readings.\n",
        "- The `1` values, after mapping from `4.0` in the original validity columns, indicate instances of invalid eye-tracking data.\n",
        "- The heatmaps also show a strong correlation between the `-1` values in the pupil columns and a validity of 1 in the newly created pupil validity features, confirming that -1 was used to mark invalid pupil data."
      ]
    },
    {
      "cell_type": "code",
      "execution_count": null,
      "id": "21d63751",
      "metadata": {
        "id": "21d63751"
      },
      "outputs": [],
      "source": [
        "df_4_EYE.head()"
      ]
    },
    {
      "cell_type": "code",
      "execution_count": null,
      "id": "d3049e60",
      "metadata": {
        "id": "d3049e60"
      },
      "outputs": [],
      "source": [
        "# Select only the numeric columns for plotting histograms, excluding time-related columns\n",
        "numeric_cols = df_4_EYE.select_dtypes(include=np.number).columns\n",
        "cols_to_plot = [col for col in numeric_cols if col not in ['UnixTime']]\n",
        "\n",
        "# Calculate the number of rows and columns for the grid\n",
        "n_cols = 4  # You can adjust the number of columns as needed\n",
        "n_rows = (len(cols_to_plot) + n_cols - 1) // n_cols\n",
        "\n",
        "plt.figure(figsize=(n_cols * 5, n_rows * 4)) # Adjust figure size as needed\n",
        "\n",
        "for i, col in enumerate(cols_to_plot):\n",
        "    plt.subplot(n_rows, n_cols, i + 1)\n",
        "    sns.histplot(df_4_EYE[col], kde=True)\n",
        "    plt.title(f'Distribution of {col}')\n",
        "    plt.xlabel(col)\n",
        "    plt.ylabel('Frequency')\n",
        "\n",
        "plt.tight_layout()\n",
        "plt.show()"
      ]
    },
    {
      "cell_type": "markdown",
      "id": "16613edf",
      "metadata": {
        "id": "16613edf"
      },
      "source": [
        "# Observations from Histograms\n",
        "\n",
        "The grid of histograms provides insights into the distribution of values for each numeric column in the dataset (excluding 'UnixTime'). Key observations include:\n",
        "\n",
        "- Several columns, such as `ET_GazeLeftx`, `ET_GazeLefty`, `ET_GazeRightx`, and `ET_GazeRighty`, show distributions that appear somewhat multimodal or skewed, suggesting variations in gaze patterns.\n",
        "- The `ET_PupilLeft` and `ET_PupilRight` histograms clearly show a peak at -1, confirming the presence of a significant number of invalid pupil readings.\n",
        "- `ET_TimeSignal` shows a relatively uniform distribution, as expected for a time-based signal.\n",
        "- `ET_DistanceLeft` and `ET_DistanceRight` appear to have distributions centered around certain values, with some outliers or variations.\n",
        "- The camera position columns (`ET_CameraLeftX`, `ET_CameraLeftY`, `ET_CameraRightX`, `ET_CameraRightY`) seem to have distributions concentrated within specific ranges, reflecting the camera's field of view.\n",
        "- The validity columns (`ET_ValidityLeft`, `ET_ValidityRight`, `ET_PupilLeft_validity`, `ET_PupilRight_validity`) show distributions dominated by 0, indicating that most of the data is considered valid after the mapping. The smaller peaks at 1 represent the instances of invalid data.\n",
        "\n",
        "These distributions highlight the need for appropriate handling of the -1 values and potential outliers in subsequent analysis or modeling steps."
      ]
    },
    {
      "cell_type": "code",
      "execution_count": null,
      "id": "4e7a294f",
      "metadata": {
        "id": "4e7a294f",
        "colab": {
          "base_uri": "https://localhost:8080/"
        },
        "outputId": "ed45d2f7-8855-44b7-d49d-6bcb112e090f"
      },
      "outputs": [
        {
          "output_type": "execute_result",
          "data": {
            "text/plain": [
              "Index(['UnixTime', 'QuestionKey', 'Timestamp', 'ET_GazeLeftx', 'ET_GazeLefty',\n",
              "       'ET_GazeRightx', 'ET_GazeRighty', 'ET_PupilLeft', 'ET_PupilRight',\n",
              "       'ET_TimeSignal', 'ET_DistanceLeft', 'ET_DistanceRight',\n",
              "       'ET_CameraLeftX', 'ET_CameraLeftY', 'ET_CameraRightX',\n",
              "       'ET_CameraRightY', 'ET_ValidityLeft', 'ET_ValidityRight',\n",
              "       'ET_PupilLeft_validity', 'ET_PupilRight_validity'],\n",
              "      dtype='object')"
            ]
          },
          "metadata": {},
          "execution_count": 291
        }
      ],
      "source": [
        "df_4_EYE.columns"
      ]
    },
    {
      "cell_type": "code",
      "execution_count": null,
      "id": "62f56c52",
      "metadata": {
        "id": "62f56c52"
      },
      "outputs": [],
      "source": [
        "cols = ['ET_GazeLeftx', 'ET_GazeLefty',\n",
        "       'ET_GazeRightx', 'ET_GazeRighty', 'ET_PupilLeft', 'ET_PupilRight',\n",
        "       'ET_TimeSignal', 'ET_DistanceLeft', 'ET_DistanceRight',\n",
        "       'ET_CameraLeftX', 'ET_CameraLeftY', 'ET_CameraRightX',\n",
        "       'ET_CameraRightY', 'ET_ValidityLeft', 'ET_ValidityRight',\n",
        "       'ET_PupilLeft_validity', 'ET_PupilRight_validity']"
      ]
    },
    {
      "cell_type": "code",
      "execution_count": null,
      "id": "2a5f49b9",
      "metadata": {
        "id": "2a5f49b9"
      },
      "outputs": [],
      "source": [
        "from IPython.display import display, Markdown\n",
        "\n",
        "for col in cols:\n",
        "    # Add a markdown cell before each plot for better separation and labeling\n",
        "    display(Markdown(f'### {col} over Time'))\n",
        "    plt.figure(figsize=(16, 10))\n",
        "    plt.plot(df_4_EYE['Timestamp'], df_4_EYE[col])\n",
        "    plt.xlabel(\"Timestamp\") # Add x-axis label\n",
        "    plt.ylabel(col) # Add y-axis label\n",
        "    plt.show()"
      ]
    },
    {
      "cell_type": "markdown",
      "id": "9a97d5cb",
      "metadata": {
        "id": "9a97d5cb"
      },
      "source": [
        "# Observations from Time Series Plots\n",
        "\n",
        "The line plots showing various features against the `Timestamp` reveal the temporal patterns and fluctuations in the eye-tracking data. Key observations include:\n",
        "\n",
        "- **Gaze Coordinates (`ET_GazeLeftx`, `ET_GazeLefty`, `ET_GazeRightx`, `ET_GazeRighty`):** These plots show the changes in gaze position over time. We can observe periods of relatively stable gaze interspersed with rapid movements (saccades) and blinks or other events where the gaze data might be invalid (-1 values appear as gaps or spikes if not handled).\n",
        "- **Pupil Size (`ET_PupilLeft`, `ET_PupilRight`):** The pupil size plots show variations over time. The presence of many -1 values is evident as flat lines at the bottom of the plot, indicating periods where pupil data was not recorded or was invalid.\n",
        "- **Time Signal (`ET_TimeSignal`):** This plot shows a steady, increasing trend, as expected for a time-based signal.\n",
        "- **Distance and Camera Position (`ET_DistanceLeft`, `ET_DistanceRight`, `ET_CameraLeftX`, `ET_CameraLeftY`, `ET_CameraRightX`, `ET_CameraRightY`):** These plots show how the distance from the eye tracker and the camera positions change over time. Variations in these features can be related to head movements or changes in the user's position relative to the eye tracker.\n",
        "- **Validity (`ET_ValidityLeft`, `ET_ValidityRight`, `ET_PupilLeft_validity`, `ET_PupilRight_validity`):** These plots clearly show periods of invalid data (represented by 1) as spikes or plateaus, corresponding to instances where the eye tracker lost track of the eyes or the pupil data was marked as invalid.\n",
        "\n",
        "Analyzing these time series plots is crucial for understanding the dynamics of the eye-tracking data and identifying patterns or anomalies that may require further investigation or specific handling during subsequent analysis."
      ]
    },
    {
      "cell_type": "code",
      "execution_count": null,
      "id": "814aa419",
      "metadata": {
        "id": "814aa419"
      },
      "outputs": [],
      "source": [
        "# Select only the numeric columns for plotting histograms, excluding time-related columns\n",
        "numeric_cols = df_4_EYE.select_dtypes(include=np.number).columns\n",
        "\n",
        "# Calculate the number of rows and columns for the grid\n",
        "n_cols = 4  # You can adjust the number of columns as needed\n",
        "n_rows = (len(numeric_cols) + n_cols - 1) // n_cols\n",
        "\n",
        "plt.figure(figsize=(n_cols * 5, n_rows * 4)) # Adjust figure size as needed\n",
        "\n",
        "for i, col in enumerate(numeric_cols):\n",
        "    plt.subplot(n_rows, n_cols, i + 1)\n",
        "    sns.boxplot(df_4_EYE[col])\n",
        "    plt.title(f'Boxplot of {col}')\n",
        "    plt.xlabel(col)\n",
        "\n",
        "plt.tight_layout()\n",
        "plt.show()"
      ]
    },
    {
      "cell_type": "markdown",
      "id": "ba54471a",
      "metadata": {
        "id": "ba54471a"
      },
      "source": [
        "# Observations from Boxplots and Handling -1 Values\n",
        "\n",
        "The boxplots provide a visual summary of the distribution and potential outliers for each numeric column. Key observations from the boxplots include:\n",
        "\n",
        "- The boxplots for columns like `ET_GazeLeftx`, `ET_GazeLefty`, `ET_GazeRightx`, `ET_GazeRighty`, `ET_PupilLeft`, `ET_PupilRight`, `ET_DistanceLeft`, `ET_DistanceRight`, `ET_CameraLeftX`, `ET_CameraLeftY`, `ET_CameraRightX`, and `ET_CameraRightY` clearly show the presence of -1 values as significant outliers, confirming our earlier observations from the heatmaps and histograms.\n",
        "- The boxplots for the validity columns (`ET_ValidityLeft`, `ET_ValidityRight`, `ET_PupilLeft_validity`, `ET_PupilRight_validity`) show the discrete nature of these features, with the majority of data points at 0 (valid) and a smaller number at 1 (invalid).\n",
        "\n",
        "Given the significant presence of -1 values, which represent invalid or missing data, especially in the pupil-related columns, we have decided to replace these -1 values with NaN to properly represent them as missing data. Subsequently, we will impute these missing values using the mean of each respective column. This approach helps to retain the data structure and allows for further analysis or modeling without the distortion caused by the -1 placeholders."
      ]
    },
    {
      "cell_type": "code",
      "execution_count": null,
      "id": "a539745f",
      "metadata": {
        "id": "a539745f"
      },
      "outputs": [],
      "source": [
        "df_4_EYE.replace({-1: np.nan}, inplace=True)"
      ]
    },
    {
      "cell_type": "code",
      "execution_count": null,
      "id": "1c5ff5fe",
      "metadata": {
        "id": "1c5ff5fe",
        "colab": {
          "base_uri": "https://localhost:8080/"
        },
        "outputId": "8ecc5976-9192-40d7-8343-4324c8e85e59"
      },
      "outputs": [
        {
          "output_type": "execute_result",
          "data": {
            "text/plain": [
              "ET_GazeLeftx                 909.311319\n",
              "ET_GazeLefty                 466.601749\n",
              "ET_GazeRightx                901.493644\n",
              "ET_GazeRighty                497.241178\n",
              "ET_PupilLeft                   3.065492\n",
              "ET_PupilRight                  2.857533\n",
              "ET_TimeSignal             459104.326593\n",
              "ET_DistanceLeft              747.481592\n",
              "ET_DistanceRight             722.777487\n",
              "ET_CameraLeftX                 0.510252\n",
              "ET_CameraLeftY                 0.471040\n",
              "ET_CameraRightX                0.370682\n",
              "ET_CameraRightY                0.469910\n",
              "ET_ValidityLeft                0.319590\n",
              "ET_ValidityRight               0.340518\n",
              "ET_PupilLeft_validity          0.758812\n",
              "ET_PupilRight_validity         0.757387\n",
              "dtype: float64"
            ]
          },
          "metadata": {},
          "execution_count": 296
        }
      ],
      "source": [
        "df_4_EYE[['ET_GazeLeftx', 'ET_GazeLefty',\n",
        "       'ET_GazeRightx', 'ET_GazeRighty', 'ET_PupilLeft', 'ET_PupilRight',\n",
        "       'ET_TimeSignal', 'ET_DistanceLeft', 'ET_DistanceRight',\n",
        "       'ET_CameraLeftX', 'ET_CameraLeftY', 'ET_CameraRightX',\n",
        "       'ET_CameraRightY', 'ET_ValidityLeft', 'ET_ValidityRight',\n",
        "       'ET_PupilLeft_validity', 'ET_PupilRight_validity']].mean()"
      ]
    },
    {
      "cell_type": "code",
      "execution_count": null,
      "id": "a9e04c90",
      "metadata": {
        "id": "a9e04c90",
        "colab": {
          "base_uri": "https://localhost:8080/"
        },
        "outputId": "6aa0cb45-6f4b-4104-b92f-492c77ad3f67"
      },
      "outputs": [
        {
          "output_type": "execute_result",
          "data": {
            "text/plain": [
              "ET_GazeLeftx                 874.000000\n",
              "ET_GazeLefty                 440.000000\n",
              "ET_GazeRightx                811.000000\n",
              "ET_GazeRighty                477.000000\n",
              "ET_PupilLeft                   3.093086\n",
              "ET_PupilRight                  2.878967\n",
              "ET_TimeSignal             459108.057500\n",
              "ET_DistanceLeft              748.847229\n",
              "ET_DistanceRight             723.198486\n",
              "ET_CameraLeftX                 0.511973\n",
              "ET_CameraLeftY                 0.471893\n",
              "ET_CameraRightX                0.372864\n",
              "ET_CameraRightY                0.470963\n",
              "ET_ValidityLeft                0.000000\n",
              "ET_ValidityRight               0.000000\n",
              "ET_PupilLeft_validity          1.000000\n",
              "ET_PupilRight_validity         1.000000\n",
              "dtype: float64"
            ]
          },
          "metadata": {},
          "execution_count": 297
        }
      ],
      "source": [
        "df_4_EYE[['ET_GazeLeftx', 'ET_GazeLefty',\n",
        "       'ET_GazeRightx', 'ET_GazeRighty', 'ET_PupilLeft', 'ET_PupilRight',\n",
        "       'ET_TimeSignal', 'ET_DistanceLeft', 'ET_DistanceRight',\n",
        "       'ET_CameraLeftX', 'ET_CameraLeftY', 'ET_CameraRightX',\n",
        "       'ET_CameraRightY', 'ET_ValidityLeft', 'ET_ValidityRight',\n",
        "       'ET_PupilLeft_validity', 'ET_PupilRight_validity']].median()"
      ]
    },
    {
      "cell_type": "code",
      "execution_count": null,
      "id": "cb4cf9a5",
      "metadata": {
        "id": "cb4cf9a5"
      },
      "outputs": [],
      "source": [
        "numeric_cols = df_4_EYE.select_dtypes(include=np.number).columns\n",
        "\n",
        "for col in numeric_cols:\n",
        "    df_4_EYE[col] = df_4_EYE[col].fillna(df_4_EYE[col].mean())"
      ]
    },
    {
      "cell_type": "code",
      "execution_count": null,
      "id": "a899e42d",
      "metadata": {
        "id": "a899e42d"
      },
      "outputs": [],
      "source": [
        "plt.figure(figsize=(18, 8))\n",
        "\n",
        "plt.subplot(1, 2, 1)\n",
        "sns.heatmap(df_4_EYE.isnull(), cmap='viridis')\n",
        "plt.title('Heatmap of Missing Values After Imputation')\n",
        "\n",
        "plt.subplot(1, 2, 2)\n",
        "sns.heatmap(df_4_EYE == 1, cmap='viridis')\n",
        "plt.title('Heatmap of 1 Values')\n",
        "\n",
        "plt.tight_layout()\n",
        "plt.show()"
      ]
    },
    {
      "cell_type": "markdown",
      "id": "5c51e9bc",
      "metadata": {
        "id": "5c51e9bc"
      },
      "source": [
        "# Handling Missing Values (Imputation)\n",
        "\n",
        "As decided, we have replaced all the `-1` values with `NaN` to treat them as missing data. Subsequently, we have imputed these `NaN` values with the mean of their respective columns. The heatmap above, which was generated after the imputation, now shows no visible signs of `NaN` values, indicating that the imputation was successful."
      ]
    },
    {
      "cell_type": "code",
      "execution_count": null,
      "id": "4cb535f8",
      "metadata": {
        "id": "4cb535f8"
      },
      "outputs": [],
      "source": [
        "df_4_EYE.head()"
      ]
    },
    {
      "cell_type": "code",
      "execution_count": null,
      "id": "7febad06",
      "metadata": {
        "id": "7febad06"
      },
      "outputs": [],
      "source": [
        "# Select only the numeric columns for plotting histograms, excluding time-related columns\n",
        "numeric_cols = df_4_EYE.select_dtypes(include=np.number).columns\n",
        "cols_to_plot = [col for col in numeric_cols if col not in ['UnixTime']]\n",
        "\n",
        "# Calculate the number of rows and columns for the grid\n",
        "n_cols = 4  # You can adjust the number of columns as needed\n",
        "n_rows = (len(cols_to_plot) + n_cols - 1) // n_cols\n",
        "\n",
        "plt.figure(figsize=(n_cols * 5, n_rows * 4)) # Adjust figure size as needed\n",
        "\n",
        "for i, col in enumerate(cols_to_plot):\n",
        "    plt.subplot(n_rows, n_cols, i + 1)\n",
        "    sns.histplot(df_4_EYE[col], kde=True)\n",
        "    plt.title(f'Distribution of {col}')\n",
        "    plt.xlabel(col)\n",
        "    plt.ylabel('Frequency')\n",
        "\n",
        "plt.tight_layout()\n",
        "plt.show()"
      ]
    },
    {
      "cell_type": "markdown",
      "id": "b7448aeb",
      "metadata": {
        "id": "b7448aeb"
      },
      "source": [
        "# Observations from Histograms After Imputation\n",
        "\n",
        "The histograms generated after replacing the -1 values with the mean of each column show the distributions of the numeric features with the missing data handled. Key observations from these updated histograms include:\n",
        "\n",
        "- The distinct peaks at -1, which were prominent in the histograms for several columns (e.g., pupil size, gaze coordinates, distance, and camera position) before imputation, are now replaced by a peak at the mean of each respective column.\n",
        "- The distributions in many columns now appear more unimodal or show shifted modes compared to the original histograms.\n",
        "- The histograms for the validity columns still show their bimodal distributions with peaks at 0 and 1, as these were handled separately.\n",
        "\n",
        "These histograms provide an updated view of the data's distribution after handling the missing values, highlighting the impact of the imputation method on the data's characteristics."
      ]
    },
    {
      "cell_type": "code",
      "execution_count": null,
      "id": "0f35bf9c",
      "metadata": {
        "id": "0f35bf9c"
      },
      "outputs": [],
      "source": [
        "cols = ['ET_GazeLeftx', 'ET_GazeLefty',\n",
        "       'ET_GazeRightx', 'ET_GazeRighty', 'ET_PupilLeft', 'ET_PupilRight',\n",
        "       'ET_TimeSignal', 'ET_DistanceLeft', 'ET_DistanceRight',\n",
        "       'ET_CameraLeftX', 'ET_CameraLeftY', 'ET_CameraRightX',\n",
        "       'ET_CameraRightY', 'ET_ValidityLeft', 'ET_ValidityRight',\n",
        "       'ET_PupilLeft_validity', 'ET_PupilRight_validity']"
      ]
    },
    {
      "cell_type": "code",
      "execution_count": null,
      "id": "59558afb",
      "metadata": {
        "id": "59558afb"
      },
      "outputs": [],
      "source": [
        "for col in cols:\n",
        "    # Add a markdown cell before each plot for better separation and labeling\n",
        "    display(Markdown(f'### {col} over Time'))\n",
        "    plt.figure(figsize=(16, 10))\n",
        "    plt.plot(df_4_EYE['Timestamp'], df_4_EYE[col])\n",
        "    plt.xlabel(\"Timestamp\") # Add x-axis label\n",
        "    plt.ylabel(col) # Add y-axis label\n",
        "    plt.show()"
      ]
    },
    {
      "cell_type": "markdown",
      "id": "0452819d",
      "metadata": {
        "id": "0452819d"
      },
      "source": [
        "# Observations from Time Series Plots After Imputation\n",
        "\n",
        "The line plots generated after imputing the missing values with the mean show the temporal patterns of the features with the missing data handled. Key observations from these updated plots include:\n",
        "\n",
        "- The gaps or flat lines at -1, which were prominent in the plots for columns like gaze coordinates, pupil size, distance, and camera position, are now filled by lines at the mean value of the respective columns.\n",
        "- The plots for the validity columns remain the same as they were handled separately.\n",
        "- The `ET_TimeSignal` plot still shows a steady increasing trend, as expected."
      ]
    },
    {
      "cell_type": "code",
      "execution_count": null,
      "id": "0dfa69af",
      "metadata": {
        "id": "0dfa69af"
      },
      "outputs": [],
      "source": [
        "plt.figure(figsize=(16, 10))\n",
        "sns.heatmap(df_4_EYE.corr(numeric_only=True), cmap='YlGnBu', annot=True)\n",
        "plt.show()"
      ]
    },
    {
      "cell_type": "markdown",
      "id": "9679b048",
      "metadata": {
        "id": "9679b048"
      },
      "source": [
        "# Observations from Correlation Heatmap\n",
        "\n",
        "The correlation heatmap provides a visual representation of the pairwise correlations between the numeric columns in the dataset. Key observations from the heatmap include:\n",
        "\n",
        "- **High Positive Correlations:** We observe strong positive correlations (values close to 1) between:\n",
        "  - `ET_GazeLeftx` and `ET_GazeRightx`: This is expected as the gaze positions of both eyes should be highly correlated when fixating on a point.\n",
        "  - `ET_GazeLefty` and `ET_GazeRighty`: Similar to the x-coordinates, the y-coordinates of gaze should also be highly correlated.\n",
        "  - `ET_PupilLeft` and `ET_PupilRight`: Pupil sizes of both eyes tend to change together in response to light and cognitive load.\n",
        "  - `ET_DistanceLeft` and `ET_DistanceRight`: The distance from the eye tracker to each eye should be highly correlated.\n",
        "  - `ET_CameraLeftX` and `ET_CameraRightX`, `ET_CameraLeftY` and `ET_CameraRightY`: The camera positions for both eyes are also expected to be highly correlated.\n",
        "  - `UnixTime` and `ET_TimeSignal`: As previously noted, these two columns are almost perfectly linearly correlated, indicating redundancy.\n",
        "  - `ET_ValidityLeft` and `ET_PupilLeft_validity`: There is a positive correlation, suggesting that when the overall left eye data is invalid, the left pupil data is also likely to be invalid.\n",
        "  - `ET_ValidityRight` and `ET_PupilRight_validity`: Similar to the left eye, there is a positive correlation between the overall right eye validity and the right pupil validity.\n",
        "- **Other Correlations:** We can also observe other varying degrees of correlations between different features, which can provide insights into the relationships between gaze behavior, pupil size, distance, and camera position. For example, there might be correlations between gaze coordinates and camera positions, reflecting head movements.\n",
        "- **Low or Near-Zero Correlations:** Columns with low or near-zero correlations are relatively independent of each other.\n",
        "\n",
        "Understanding these correlations is important for feature selection and for building models, as highly correlated features might indicate multicollinearity, while correlations between features can reveal underlying patterns in the data."
      ]
    },
    {
      "cell_type": "markdown",
      "id": "515d54ff",
      "metadata": {
        "id": "515d54ff"
      },
      "source": [
        "# Analysis of ET_TimeSignal and Decision to Drop\n",
        "\n",
        "As observed in the time series plot and confirmed by the correlation heatmap, the `ET_TimeSignal` column exhibits a near-perfect linear relationship with both the `Timestamp` and `UnixTime` columns. This strong correlation (close to 1) suggests that `ET_TimeSignal` is essentially redundant and likely represents another form of time recording or a signal directly derived from the timestamp.\n",
        "\n",
        "Including highly correlated features like this in a dataset can lead to issues such as multicollinearity in some statistical models, which can make it difficult to interpret the individual impact of each feature. Since the `Timestamp` column already provides the necessary temporal information, retaining `ET_TimeSignal` does not appear to add significant value for further analysis or modeling in most cases.\n",
        "\n",
        "Therefore, based on its high correlation and lack of unique insight, we will proceed to drop the `ET_TimeSignal` column to simplify the dataset and potentially improve the performance and interpretability of future analyses."
      ]
    },
    {
      "cell_type": "code",
      "execution_count": null,
      "id": "326a59d1",
      "metadata": {
        "id": "326a59d1"
      },
      "outputs": [],
      "source": [
        "df_4_EYE.drop('ET_TimeSignal', axis=1, inplace=True)"
      ]
    },
    {
      "cell_type": "code",
      "execution_count": null,
      "id": "18aafd72",
      "metadata": {
        "id": "18aafd72"
      },
      "outputs": [],
      "source": [
        "plt.figure(figsize=(16, 10))\n",
        "sns.pairplot(df_4_EYE)\n",
        "plt.show()"
      ]
    },
    {
      "cell_type": "markdown",
      "id": "eab8d5b1",
      "metadata": {
        "id": "eab8d5b1"
      },
      "source": [
        "# **5_EYE**"
      ]
    },
    {
      "cell_type": "code",
      "execution_count": null,
      "id": "9281a8c5",
      "metadata": {
        "id": "9281a8c5"
      },
      "outputs": [],
      "source": [
        "df_5_EYE = pd.read_csv('data/STData/5/5_EYE.csv')"
      ]
    },
    {
      "cell_type": "code",
      "execution_count": null,
      "id": "701bea11",
      "metadata": {
        "id": "701bea11"
      },
      "outputs": [],
      "source": [
        "df_5_EYE.head()"
      ]
    },
    {
      "cell_type": "code",
      "execution_count": null,
      "id": "d0d3bd5e",
      "metadata": {
        "id": "d0d3bd5e",
        "colab": {
          "base_uri": "https://localhost:8080/"
        },
        "outputId": "26d6e6f7-8913-4dbd-c5d6-b645bf12f71c"
      },
      "outputs": [
        {
          "output_type": "execute_result",
          "data": {
            "text/plain": [
              "(152979, 19)"
            ]
          },
          "metadata": {},
          "execution_count": 309
        }
      ],
      "source": [
        "df_5_EYE.shape"
      ]
    },
    {
      "cell_type": "code",
      "execution_count": null,
      "id": "76f5d2fb",
      "metadata": {
        "id": "76f5d2fb",
        "colab": {
          "base_uri": "https://localhost:8080/"
        },
        "outputId": "ddbac4c3-af62-44ca-ea6e-6d57dd79e61a"
      },
      "outputs": [
        {
          "output_type": "execute_result",
          "data": {
            "text/plain": [
              "Index(['UnixTime', 'Row', 'QuestionKey', 'Timestamp', 'ET_GazeLeftx',\n",
              "       'ET_GazeLefty', 'ET_GazeRightx', 'ET_GazeRighty', 'ET_PupilLeft',\n",
              "       'ET_PupilRight', 'ET_TimeSignal', 'ET_DistanceLeft', 'ET_DistanceRight',\n",
              "       'ET_CameraLeftX', 'ET_CameraLeftY', 'ET_CameraRightX',\n",
              "       'ET_CameraRightY', 'ET_ValidityLeft', 'ET_ValidityRight'],\n",
              "      dtype='object')"
            ]
          },
          "metadata": {},
          "execution_count": 310
        }
      ],
      "source": [
        "df_5_EYE.columns"
      ]
    },
    {
      "cell_type": "code",
      "execution_count": null,
      "id": "a8f399f5",
      "metadata": {
        "id": "a8f399f5",
        "colab": {
          "base_uri": "https://localhost:8080/"
        },
        "outputId": "b7911f28-c690-409e-e986-892cf0f3e66b"
      },
      "outputs": [
        {
          "output_type": "stream",
          "name": "stdout",
          "text": [
            "<class 'pandas.core.frame.DataFrame'>\n",
            "RangeIndex: 152979 entries, 0 to 152978\n",
            "Data columns (total 19 columns):\n",
            " #   Column            Non-Null Count   Dtype  \n",
            "---  ------            --------------   -----  \n",
            " 0   UnixTime          152979 non-null  float64\n",
            " 1   Row               152979 non-null  int64  \n",
            " 2   QuestionKey       93335 non-null   object \n",
            " 3   Timestamp         152979 non-null  object \n",
            " 4   ET_GazeLeftx      152975 non-null  float64\n",
            " 5   ET_GazeLefty      152975 non-null  float64\n",
            " 6   ET_GazeRightx     152975 non-null  float64\n",
            " 7   ET_GazeRighty     152975 non-null  float64\n",
            " 8   ET_PupilLeft      152975 non-null  float64\n",
            " 9   ET_PupilRight     152975 non-null  float64\n",
            " 10  ET_TimeSignal     152975 non-null  float64\n",
            " 11  ET_DistanceLeft   152975 non-null  float64\n",
            " 12  ET_DistanceRight  152975 non-null  float64\n",
            " 13  ET_CameraLeftX    152975 non-null  float64\n",
            " 14  ET_CameraLeftY    152975 non-null  float64\n",
            " 15  ET_CameraRightX   152975 non-null  float64\n",
            " 16  ET_CameraRightY   152975 non-null  float64\n",
            " 17  ET_ValidityLeft   152975 non-null  float64\n",
            " 18  ET_ValidityRight  152975 non-null  float64\n",
            "dtypes: float64(16), int64(1), object(2)\n",
            "memory usage: 22.2+ MB\n"
          ]
        }
      ],
      "source": [
        "df_5_EYE.info()"
      ]
    },
    {
      "cell_type": "code",
      "execution_count": null,
      "id": "3ff08b07",
      "metadata": {
        "id": "3ff08b07",
        "colab": {
          "base_uri": "https://localhost:8080/"
        },
        "outputId": "4e6856c0-141c-4b41-a6be-65bc69eea88d"
      },
      "outputs": [
        {
          "output_type": "execute_result",
          "data": {
            "text/plain": [
              "UnixTime                0\n",
              "Row                     0\n",
              "QuestionKey         59644\n",
              "Timestamp               0\n",
              "ET_GazeLeftx            4\n",
              "ET_GazeLefty            4\n",
              "ET_GazeRightx           4\n",
              "ET_GazeRighty           4\n",
              "ET_PupilLeft            4\n",
              "ET_PupilRight           4\n",
              "ET_TimeSignal           4\n",
              "ET_DistanceLeft         4\n",
              "ET_DistanceRight        4\n",
              "ET_CameraLeftX          4\n",
              "ET_CameraLeftY          4\n",
              "ET_CameraRightX         4\n",
              "ET_CameraRightY         4\n",
              "ET_ValidityLeft         4\n",
              "ET_ValidityRight        4\n",
              "dtype: int64"
            ]
          },
          "metadata": {},
          "execution_count": 312
        }
      ],
      "source": [
        "df_5_EYE.isnull().sum()"
      ]
    },
    {
      "cell_type": "code",
      "execution_count": null,
      "id": "53704573",
      "metadata": {
        "id": "53704573"
      },
      "outputs": [],
      "source": [
        "plt.figure(figsize=(12,8))\n",
        "sns.heatmap(df_5_EYE.isnull(), cmap='viridis')\n",
        "plt.show()"
      ]
    },
    {
      "cell_type": "markdown",
      "id": "045bf280",
      "metadata": {
        "id": "045bf280"
      },
      "source": [
        "# Notes & Observations\n",
        "\n",
        "- We observe many **null** (or missing) values in the `QuestionKey` columns.\n",
        "- The nulls in the `QuestionKey` column may not represent “true” nulls. Rather, they follow interval patterns, suggesting that during those periods no question was displayed.\n",
        "- These missing values in `QuestionKey` require additional investigation and context-aware handling."
      ]
    },
    {
      "cell_type": "code",
      "execution_count": null,
      "id": "ba966431",
      "metadata": {
        "id": "ba966431",
        "colab": {
          "base_uri": "https://localhost:8080/"
        },
        "outputId": "a137e581-cc99-455f-ec0c-97ee5a928830"
      },
      "outputs": [
        {
          "output_type": "execute_result",
          "data": {
            "text/plain": [
              "array([nan, '1spl1', '1spl2', '1Item1', '1Item2', '1Item3', '1Item4',\n",
              "       '1Item5', '1Item6', '1Item7', '1Item8', '1Item9', '1Item10',\n",
              "       '2spl1', '2spl2', '2Item1', '2Item2', '2Item3', '2Item4', '2Item5',\n",
              "       '2Item6', '2Item7', '2Item8', '2Item9', '2Item10', '3spl1',\n",
              "       '3spl2', '3Item15', '3Item2', '3Item5', '3Item12', '3Item6',\n",
              "       '3Item8', '3Item7', '3Item9', '3Item17', '3Item19', '3Item11',\n",
              "       '3Item4', '3Item13', '3Item10', '3Item14', '3Item3', '3Item20',\n",
              "       '3Item18'], dtype=object)"
            ]
          },
          "metadata": {},
          "execution_count": 314
        }
      ],
      "source": [
        "df_5_EYE['QuestionKey'].unique()"
      ]
    },
    {
      "cell_type": "code",
      "execution_count": null,
      "id": "6e2c4f8a",
      "metadata": {
        "id": "6e2c4f8a"
      },
      "outputs": [],
      "source": [
        "df_5_EYE['Timestamp'] = pd.to_datetime(df_5_EYE['Timestamp'])"
      ]
    },
    {
      "cell_type": "code",
      "execution_count": null,
      "id": "a8c4c383",
      "metadata": {
        "id": "a8c4c383"
      },
      "outputs": [],
      "source": [
        "df_5_EYE.head(3)"
      ]
    },
    {
      "cell_type": "code",
      "execution_count": null,
      "id": "503840d1",
      "metadata": {
        "id": "503840d1"
      },
      "outputs": [],
      "source": [
        "df_5_EYE['QuestionKey'] = df_5_EYE['QuestionKey'].fillna('None')"
      ]
    },
    {
      "cell_type": "code",
      "execution_count": null,
      "id": "9e3f6540",
      "metadata": {
        "id": "9e3f6540",
        "colab": {
          "base_uri": "https://localhost:8080/"
        },
        "outputId": "62224dda-f231-49bd-b168-61399ae5adbd"
      },
      "outputs": [
        {
          "output_type": "execute_result",
          "data": {
            "text/plain": [
              "QuestionKey\n",
              "None       59644\n",
              "1Item5      7200\n",
              "2Item10     6339\n",
              "1Item6      5468\n",
              "2Item8      5046\n",
              "2Item7      4762\n",
              "1Item2      4491\n",
              "1spl1       3903\n",
              "1Item4      3711\n",
              "1Item7      3653\n",
              "2Item5      3269\n",
              "1spl2       3111\n",
              "2Item6      3059\n",
              "1Item1      2912\n",
              "1Item8      2838\n",
              "2Item4      2737\n",
              "1Item3      2614\n",
              "3Item19     2301\n",
              "2Item9      2270\n",
              "2Item1      2105\n",
              "2Item2      1742\n",
              "2spl1       1727\n",
              "2Item3      1570\n",
              "2spl2       1461\n",
              "3Item9      1207\n",
              "3Item8      1129\n",
              "1Item10     1097\n",
              "3Item17     1049\n",
              "3Item15     1045\n",
              "3Item20      980\n",
              "3Item11      816\n",
              "3Item2       770\n",
              "3Item7       755\n",
              "3Item18      743\n",
              "3spl2        641\n",
              "1Item9       625\n",
              "3Item4       620\n",
              "3spl1        594\n",
              "3Item5       516\n",
              "3Item12      482\n",
              "3Item10      471\n",
              "3Item3       438\n",
              "3Item14      392\n",
              "3Item6       364\n",
              "3Item13      312\n",
              "Name: count, dtype: int64"
            ]
          },
          "metadata": {},
          "execution_count": 318
        }
      ],
      "source": [
        "df_5_EYE['QuestionKey'].value_counts()"
      ]
    },
    {
      "cell_type": "code",
      "execution_count": null,
      "id": "e00ab624",
      "metadata": {
        "id": "e00ab624"
      },
      "outputs": [],
      "source": [
        "plt.figure(figsize=(12,8))\n",
        "sns.heatmap(df_5_EYE.isnull(), cmap='viridis')\n",
        "plt.show()"
      ]
    },
    {
      "cell_type": "code",
      "execution_count": null,
      "id": "a1585e61",
      "metadata": {
        "id": "a1585e61",
        "colab": {
          "base_uri": "https://localhost:8080/"
        },
        "outputId": "f3212873-b29e-4236-9838-779ca62d8682"
      },
      "outputs": [
        {
          "output_type": "execute_result",
          "data": {
            "text/plain": [
              "UnixTime            0\n",
              "Row                 0\n",
              "QuestionKey         0\n",
              "Timestamp           0\n",
              "ET_GazeLeftx        4\n",
              "ET_GazeLefty        4\n",
              "ET_GazeRightx       4\n",
              "ET_GazeRighty       4\n",
              "ET_PupilLeft        4\n",
              "ET_PupilRight       4\n",
              "ET_TimeSignal       4\n",
              "ET_DistanceLeft     4\n",
              "ET_DistanceRight    4\n",
              "ET_CameraLeftX      4\n",
              "ET_CameraLeftY      4\n",
              "ET_CameraRightX     4\n",
              "ET_CameraRightY     4\n",
              "ET_ValidityLeft     4\n",
              "ET_ValidityRight    4\n",
              "dtype: int64"
            ]
          },
          "metadata": {},
          "execution_count": 320
        }
      ],
      "source": [
        "df_5_EYE.isnull().sum()"
      ]
    },
    {
      "cell_type": "code",
      "execution_count": null,
      "id": "26a4ebe8",
      "metadata": {
        "id": "26a4ebe8"
      },
      "outputs": [],
      "source": [
        "df_5_EYE.dropna(inplace=True)"
      ]
    },
    {
      "cell_type": "code",
      "execution_count": null,
      "id": "28f5d970",
      "metadata": {
        "id": "28f5d970"
      },
      "outputs": [],
      "source": [
        "df_5_EYE.head()"
      ]
    },
    {
      "cell_type": "code",
      "execution_count": null,
      "id": "1dd63bb9",
      "metadata": {
        "id": "1dd63bb9",
        "colab": {
          "base_uri": "https://localhost:8080/"
        },
        "outputId": "0351929e-880c-41e4-d086-12eabb8c062a"
      },
      "outputs": [
        {
          "output_type": "execute_result",
          "data": {
            "text/plain": [
              "array([     2,      3,      4, ..., 152975, 152976, 152978],\n",
              "      shape=(152975,))"
            ]
          },
          "metadata": {},
          "execution_count": 323
        }
      ],
      "source": [
        "df_5_EYE['Row'].unique()"
      ]
    },
    {
      "cell_type": "code",
      "execution_count": null,
      "id": "58aa19e4",
      "metadata": {
        "id": "58aa19e4"
      },
      "outputs": [],
      "source": [
        "plt.figure(figsize=(8,6))\n",
        "sns.histplot(df_5_EYE['Row'])\n",
        "plt.show()"
      ]
    },
    {
      "cell_type": "markdown",
      "id": "4dec3fec",
      "metadata": {
        "id": "4dec3fec"
      },
      "source": [
        "# Notes & Observations\n",
        "\n",
        "- The `Row` column appears to be a simple row index and does not provide meaningful information relevant to the eye-tracking data itself. Therefore, it can be dropped."
      ]
    },
    {
      "cell_type": "code",
      "execution_count": null,
      "id": "50f40fde",
      "metadata": {
        "id": "50f40fde"
      },
      "outputs": [],
      "source": [
        "df_5_EYE.drop('Row', axis=1, inplace=True)"
      ]
    },
    {
      "cell_type": "code",
      "execution_count": null,
      "id": "83b98cf7",
      "metadata": {
        "id": "83b98cf7",
        "colab": {
          "base_uri": "https://localhost:8080/"
        },
        "outputId": "7482deaf-e750-41fd-80f6-a52d37e0648d"
      },
      "outputs": [
        {
          "output_type": "execute_result",
          "data": {
            "text/plain": [
              "array([4., 0.])"
            ]
          },
          "metadata": {},
          "execution_count": 326
        }
      ],
      "source": [
        "df_5_EYE['ET_ValidityLeft'].unique()"
      ]
    },
    {
      "cell_type": "code",
      "execution_count": null,
      "id": "654a47ac",
      "metadata": {
        "id": "654a47ac",
        "colab": {
          "base_uri": "https://localhost:8080/"
        },
        "outputId": "8fa1cb09-806d-4dc2-ea13-156a98704cfb"
      },
      "outputs": [
        {
          "output_type": "execute_result",
          "data": {
            "text/plain": [
              "ET_ValidityLeft\n",
              "0.0    138267\n",
              "4.0     14708\n",
              "Name: count, dtype: int64"
            ]
          },
          "metadata": {},
          "execution_count": 327
        }
      ],
      "source": [
        "df_5_EYE['ET_ValidityLeft'].value_counts()"
      ]
    },
    {
      "cell_type": "code",
      "execution_count": null,
      "id": "ac0f37be",
      "metadata": {
        "id": "ac0f37be",
        "colab": {
          "base_uri": "https://localhost:8080/"
        },
        "outputId": "4eca61e1-8d6d-479d-c92d-6ebdbbb34cc8"
      },
      "outputs": [
        {
          "output_type": "execute_result",
          "data": {
            "text/plain": [
              "array([4., 0.])"
            ]
          },
          "metadata": {},
          "execution_count": 328
        }
      ],
      "source": [
        "df_5_EYE['ET_ValidityRight'].unique()"
      ]
    },
    {
      "cell_type": "code",
      "execution_count": null,
      "id": "1b724b29",
      "metadata": {
        "id": "1b724b29",
        "colab": {
          "base_uri": "https://localhost:8080/"
        },
        "outputId": "f2b883b8-c648-488a-9545-5e4f74ecd69c"
      },
      "outputs": [
        {
          "output_type": "execute_result",
          "data": {
            "text/plain": [
              "ET_ValidityRight\n",
              "0.0    135446\n",
              "4.0     17529\n",
              "Name: count, dtype: int64"
            ]
          },
          "metadata": {},
          "execution_count": 329
        }
      ],
      "source": [
        "df_5_EYE['ET_ValidityRight'].value_counts()"
      ]
    },
    {
      "cell_type": "code",
      "execution_count": null,
      "id": "27b344ab",
      "metadata": {
        "id": "27b344ab"
      },
      "outputs": [],
      "source": [
        "plt.figure(figsize=(12, 6))\n",
        "\n",
        "plt.subplot(1, 2, 1)\n",
        "sns.barplot(x=df_5_EYE['ET_ValidityLeft'].value_counts().index, y=df_5_EYE['ET_ValidityLeft'].value_counts().values)\n",
        "plt.title('Count of ET_ValidityLeft')\n",
        "plt.xlabel('Validity')\n",
        "plt.ylabel('Count')\n",
        "\n",
        "\n",
        "plt.subplot(1, 2, 2)\n",
        "sns.barplot(x=df_5_EYE['ET_ValidityRight'].value_counts().index, y=df_5_EYE['ET_ValidityRight'].value_counts().values)\n",
        "plt.title('Count of ET_ValidityRight')\n",
        "plt.xlabel('Validity')\n",
        "plt.ylabel('Count')\n",
        "\n",
        "plt.tight_layout()\n",
        "plt.show()"
      ]
    },
    {
      "cell_type": "markdown",
      "id": "2162a4ef",
      "metadata": {
        "id": "2162a4ef"
      },
      "source": [
        "# Notes & Observations\n",
        "\n",
        "- The `ET_ValidityLeft` and `ET_ValidityRight` columns indicate the validity of the eye-tracking data for the left and right eye, respectively.\n",
        "- Based on the value counts and the bar plots, it appears that a value of `0.0` represents valid eye-tracking data, while a value of `4.0` represents invalid data.\n",
        "- Although the amount of invalid data is relatively small, removing these rows could introduce unwanted patterns or gaps in the time series data.\n",
        "- Therefore, we will keep the data and replace the value `4.0` with `1.0` in both `ET_ValidityLeft` and `ET_ValidityRight` columns. This will indicate to a machine learning model that the eye tracker had invalid data at those specific points in time while maintaining the integrity of the time series."
      ]
    },
    {
      "cell_type": "markdown",
      "id": "feabed2b",
      "metadata": {
        "id": "feabed2b"
      },
      "source": [
        "Define a mapping to convert validity values from `0.0` and `4.0` to `0` and `1`."
      ]
    },
    {
      "cell_type": "code",
      "execution_count": null,
      "id": "756ec30b",
      "metadata": {
        "id": "756ec30b"
      },
      "outputs": [],
      "source": [
        "validity_map = {4.0: 1.0, 0.0: 0.0}"
      ]
    },
    {
      "cell_type": "code",
      "execution_count": null,
      "id": "2341c8e3",
      "metadata": {
        "id": "2341c8e3"
      },
      "outputs": [],
      "source": [
        "df_5_EYE['ET_ValidityLeft'] = df_5_EYE['ET_ValidityLeft'].map(validity_map).astype(np.int8)\n",
        "df_5_EYE['ET_ValidityRight'] = df_5_EYE['ET_ValidityRight'].map(validity_map).astype(np.int8)"
      ]
    },
    {
      "cell_type": "code",
      "execution_count": null,
      "id": "dd4f7973",
      "metadata": {
        "id": "dd4f7973"
      },
      "outputs": [],
      "source": [
        "df_5_EYE.head(3)"
      ]
    },
    {
      "cell_type": "code",
      "execution_count": null,
      "id": "455406d2",
      "metadata": {
        "id": "455406d2"
      },
      "outputs": [],
      "source": [
        "df_5_EYE.describe()"
      ]
    },
    {
      "cell_type": "code",
      "execution_count": null,
      "id": "1d789086",
      "metadata": {
        "id": "1d789086",
        "colab": {
          "base_uri": "https://localhost:8080/"
        },
        "outputId": "eabfdb79-0d9c-44e6-b984-97bc3114adf5"
      },
      "outputs": [
        {
          "output_type": "execute_result",
          "data": {
            "text/plain": [
              "(14708, 18)"
            ]
          },
          "metadata": {},
          "execution_count": 335
        }
      ],
      "source": [
        "df_5_EYE[df_5_EYE['ET_ValidityLeft'] == 1].shape"
      ]
    },
    {
      "cell_type": "code",
      "execution_count": null,
      "id": "6625f21f",
      "metadata": {
        "id": "6625f21f",
        "colab": {
          "base_uri": "https://localhost:8080/"
        },
        "outputId": "7754620b-c3e6-4a70-cdeb-a09efca5d6dc"
      },
      "outputs": [
        {
          "output_type": "execute_result",
          "data": {
            "text/plain": [
              "(17529, 18)"
            ]
          },
          "metadata": {},
          "execution_count": 336
        }
      ],
      "source": [
        "df_5_EYE[df_5_EYE['ET_ValidityRight'] == 1].shape"
      ]
    },
    {
      "cell_type": "code",
      "execution_count": null,
      "id": "9ba72125",
      "metadata": {
        "id": "9ba72125",
        "colab": {
          "base_uri": "https://localhost:8080/"
        },
        "outputId": "813d6773-336e-4ef8-aadc-7e4607e94947"
      },
      "outputs": [
        {
          "output_type": "execute_result",
          "data": {
            "text/plain": [
              "0.0961464291550907"
            ]
          },
          "metadata": {},
          "execution_count": 337
        }
      ],
      "source": [
        "df_5_EYE[df_5_EYE['ET_ValidityLeft'] == 1].shape[0] / df_5_EYE.shape[0]"
      ]
    },
    {
      "cell_type": "code",
      "execution_count": null,
      "id": "1b1e0f31",
      "metadata": {
        "id": "1b1e0f31",
        "colab": {
          "base_uri": "https://localhost:8080/"
        },
        "outputId": "96eb7eae-8584-40d1-d6f9-2a34ed3066a6"
      },
      "outputs": [
        {
          "output_type": "execute_result",
          "data": {
            "text/plain": [
              "0.11458735087432587"
            ]
          },
          "metadata": {},
          "execution_count": 338
        }
      ],
      "source": [
        "df_5_EYE[df_5_EYE['ET_ValidityRight'] == 1].shape[0] / df_5_EYE.shape[0]"
      ]
    },
    {
      "cell_type": "code",
      "execution_count": null,
      "id": "9212aee7",
      "metadata": {
        "id": "9212aee7"
      },
      "outputs": [],
      "source": [
        "plt.figure(figsize=(18, 8))\n",
        "\n",
        "plt.subplot(1, 2, 1)\n",
        "sns.heatmap(df_5_EYE == -1, cmap='viridis')\n",
        "plt.title('Heatmap of -1 Values')\n",
        "\n",
        "plt.subplot(1, 2, 2)\n",
        "sns.heatmap(df_5_EYE == 1, cmap='viridis')\n",
        "plt.title('Heatmap of 1 Values')\n",
        "\n",
        "plt.tight_layout()\n",
        "plt.show()"
      ]
    },
    {
      "cell_type": "code",
      "execution_count": null,
      "id": "44382857",
      "metadata": {
        "id": "44382857",
        "colab": {
          "base_uri": "https://localhost:8080/"
        },
        "outputId": "0e91c4f8-29d1-4446-edd7-99fc7d7cbcc1"
      },
      "outputs": [
        {
          "output_type": "execute_result",
          "data": {
            "text/plain": [
              "(106704, 18)"
            ]
          },
          "metadata": {},
          "execution_count": 340
        }
      ],
      "source": [
        "df_5_EYE[df_5_EYE['ET_PupilLeft'] == -1].shape"
      ]
    },
    {
      "cell_type": "code",
      "execution_count": null,
      "id": "f27393e4",
      "metadata": {
        "id": "f27393e4",
        "colab": {
          "base_uri": "https://localhost:8080/"
        },
        "outputId": "521051d5-0338-4ce9-f333-f90b5c1a9044"
      },
      "outputs": [
        {
          "output_type": "execute_result",
          "data": {
            "text/plain": [
              "(107226, 18)"
            ]
          },
          "metadata": {},
          "execution_count": 341
        }
      ],
      "source": [
        "df_5_EYE[df_5_EYE['ET_PupilRight'] == -1].shape"
      ]
    },
    {
      "cell_type": "code",
      "execution_count": null,
      "id": "aba0f4ec",
      "metadata": {
        "id": "aba0f4ec",
        "colab": {
          "base_uri": "https://localhost:8080/"
        },
        "outputId": "4ba2c8da-da29-43e9-b3b6-5cc691736663"
      },
      "outputs": [
        {
          "output_type": "execute_result",
          "data": {
            "text/plain": [
              "0.6975257394999183"
            ]
          },
          "metadata": {},
          "execution_count": 342
        }
      ],
      "source": [
        "df_5_EYE[df_5_EYE['ET_PupilLeft'] == -1].shape[0] / df_5_EYE.shape[0]"
      ]
    },
    {
      "cell_type": "code",
      "execution_count": null,
      "id": "6de674d0",
      "metadata": {
        "id": "6de674d0",
        "colab": {
          "base_uri": "https://localhost:8080/"
        },
        "outputId": "48e51baa-b4b4-43d9-ed00-b7faf928dfe7"
      },
      "outputs": [
        {
          "output_type": "execute_result",
          "data": {
            "text/plain": [
              "0.7009380617747998"
            ]
          },
          "metadata": {},
          "execution_count": 343
        }
      ],
      "source": [
        "df_5_EYE[df_5_EYE['ET_PupilRight'] == -1].shape[0] / df_5_EYE.shape[0]"
      ]
    },
    {
      "cell_type": "code",
      "execution_count": null,
      "id": "1cebdb51",
      "metadata": {
        "id": "1cebdb51"
      },
      "outputs": [],
      "source": [
        "plt.figure(figsize=(18, 8))\n",
        "\n",
        "plt.subplot(1, 2, 1)\n",
        "sns.heatmap(df_5_EYE[df_5_EYE['ET_ValidityLeft'] == 1] == -1, cmap='viridis')\n",
        "plt.title('Heatmap of -1 Values')\n",
        "\n",
        "plt.subplot(1, 2, 2)\n",
        "sns.heatmap(df_5_EYE[df_5_EYE['ET_ValidityRight'] == 1] == -1, cmap='viridis')\n",
        "plt.title('Heatmap of -1 Values')\n",
        "\n",
        "plt.tight_layout()\n",
        "plt.show()"
      ]
    },
    {
      "cell_type": "markdown",
      "id": "ca587643",
      "metadata": {
        "id": "ca587643"
      },
      "source": [
        "# Notes & Observations\n",
        "\n",
        "- The heatmaps reveal the distribution of -1 values across different columns.\n",
        "- It is evident that the `-1` values are not randomly scattered but appear in specific columns, notably `ET_GazeLeftx`, `ET_GazeLefty`, `ET_GazeRightx`, `ET_GazeRighty`, `ET_PupilLeft`, `ET_PupilRight`, `ET_DistanceLeft`, `ET_DistanceRight`, `ET_CameraLeftX`, `ET_CameraLeftY`, `ET_CameraRightX`, and `ET_CameraRightY`.\n",
        "- These `-1` values often coincide with instances where `ET_ValidityLeft` or `ET_ValidityRight` is 1, indicating invalid eye-tracking data. This suggests that `-1` is used as a placeholder for missing or invalid measurements in these columns when the eye tracker is not providing valid data for a particular eye.\n",
        "- Given that over 70% of the data in the `ET_PupilLeft` and `ET_PupilRight` columns is marked as invalid (-1), so instead of dropping them we can create new feature for both the `ET_PupilLeft` and `ET_PupilRight` to represent which row consist invalid `ET_PupilLeft` and `ET_PupilRight` data"
      ]
    },
    {
      "cell_type": "code",
      "execution_count": null,
      "id": "20a069b1",
      "metadata": {
        "id": "20a069b1"
      },
      "outputs": [],
      "source": [
        "pupil_validity = {-1: 1 }"
      ]
    },
    {
      "cell_type": "code",
      "execution_count": null,
      "id": "03acaff0",
      "metadata": {
        "id": "03acaff0"
      },
      "outputs": [],
      "source": [
        "df_5_EYE['ET_PupilLeft_validity'] = df_5_EYE['ET_PupilLeft'].map(pupil_validity)"
      ]
    },
    {
      "cell_type": "code",
      "execution_count": null,
      "id": "4096be1b",
      "metadata": {
        "id": "4096be1b"
      },
      "outputs": [],
      "source": [
        "df_5_EYE['ET_PupilRight_validity'] = df_5_EYE['ET_PupilRight'].map(pupil_validity)"
      ]
    },
    {
      "cell_type": "code",
      "execution_count": null,
      "id": "cbd1cf83",
      "metadata": {
        "id": "cbd1cf83"
      },
      "outputs": [],
      "source": [
        "df_5_EYE[['ET_PupilLeft_validity', 'ET_PupilRight_validity']].head()"
      ]
    },
    {
      "cell_type": "code",
      "execution_count": null,
      "id": "6a67ccdf",
      "metadata": {
        "id": "6a67ccdf",
        "colab": {
          "base_uri": "https://localhost:8080/"
        },
        "outputId": "ad3eef7b-4b1d-4021-e72e-044300bbf186"
      },
      "outputs": [
        {
          "output_type": "execute_result",
          "data": {
            "text/plain": [
              "ET_PupilLeft_validity     46271\n",
              "ET_PupilRight_validity    45749\n",
              "dtype: int64"
            ]
          },
          "metadata": {},
          "execution_count": 349
        }
      ],
      "source": [
        "df_5_EYE[['ET_PupilLeft_validity', 'ET_PupilRight_validity']].isnull().sum()"
      ]
    },
    {
      "cell_type": "code",
      "execution_count": null,
      "id": "58897267",
      "metadata": {
        "id": "58897267"
      },
      "outputs": [],
      "source": [
        "plt.figure(figsize=(18, 8))\n",
        "sns.heatmap(df_5_EYE[['ET_PupilLeft_validity', 'ET_PupilRight_validity']].isnull(), cmap='viridis')\n",
        "plt.show()"
      ]
    },
    {
      "cell_type": "code",
      "execution_count": null,
      "id": "6e7b2f85",
      "metadata": {
        "id": "6e7b2f85"
      },
      "outputs": [],
      "source": [
        "df_5_EYE['ET_PupilLeft_validity'] = df_5_EYE['ET_PupilLeft_validity'].fillna(0)"
      ]
    },
    {
      "cell_type": "code",
      "execution_count": null,
      "id": "6ca0a3cf",
      "metadata": {
        "id": "6ca0a3cf"
      },
      "outputs": [],
      "source": [
        "df_5_EYE['ET_PupilRight_validity'] = df_5_EYE['ET_PupilRight_validity'].fillna(0)"
      ]
    },
    {
      "cell_type": "code",
      "execution_count": null,
      "id": "a6a3a232",
      "metadata": {
        "id": "a6a3a232"
      },
      "outputs": [],
      "source": [
        "df_5_EYE[['ET_PupilLeft_validity', 'ET_PupilRight_validity']].head()"
      ]
    },
    {
      "cell_type": "code",
      "execution_count": null,
      "id": "e45d2201",
      "metadata": {
        "id": "e45d2201"
      },
      "outputs": [],
      "source": [
        "plt.figure(figsize=(18, 8))\n",
        "sns.heatmap(df_5_EYE[['ET_PupilLeft_validity', 'ET_PupilRight_validity']].isnull(), cmap='viridis')\n",
        "plt.show()"
      ]
    },
    {
      "cell_type": "code",
      "execution_count": null,
      "id": "076dfd13",
      "metadata": {
        "id": "076dfd13"
      },
      "outputs": [],
      "source": [
        "df_5_EYE.head()"
      ]
    },
    {
      "cell_type": "code",
      "execution_count": null,
      "id": "1d4f545b",
      "metadata": {
        "id": "1d4f545b"
      },
      "outputs": [],
      "source": [
        "plt.figure(figsize=(18, 8))\n",
        "\n",
        "plt.subplot(1, 2, 1)\n",
        "sns.heatmap(df_5_EYE == -1, cmap='viridis')\n",
        "plt.title('Heatmap of -1 Values')\n",
        "\n",
        "plt.subplot(1, 2, 2)\n",
        "sns.heatmap(df_5_EYE == 1, cmap='viridis')\n",
        "plt.title('Heatmap of -1 Values')\n",
        "\n",
        "plt.tight_layout()\n",
        "plt.show()"
      ]
    },
    {
      "cell_type": "code",
      "execution_count": null,
      "id": "194bf09c",
      "metadata": {
        "id": "194bf09c"
      },
      "outputs": [],
      "source": [
        "valid_left_ratio  = 1 - df_5_EYE['ET_ValidityLeft'].mean()"
      ]
    },
    {
      "cell_type": "code",
      "execution_count": null,
      "id": "ecd829de",
      "metadata": {
        "id": "ecd829de",
        "colab": {
          "base_uri": "https://localhost:8080/"
        },
        "outputId": "1864deea-b464-4bfc-8eda-9b8a6f31ece2"
      },
      "outputs": [
        {
          "output_type": "execute_result",
          "data": {
            "text/plain": [
              "np.float64(0.9038535708449094)"
            ]
          },
          "metadata": {},
          "execution_count": 358
        }
      ],
      "source": [
        "valid_left_ratio"
      ]
    },
    {
      "cell_type": "code",
      "execution_count": null,
      "id": "4ad807e7",
      "metadata": {
        "id": "4ad807e7"
      },
      "outputs": [],
      "source": [
        "valid_right_ratio = 1 - df_5_EYE['ET_ValidityRight'].mean()"
      ]
    },
    {
      "cell_type": "code",
      "execution_count": null,
      "id": "ef1657a1",
      "metadata": {
        "id": "ef1657a1",
        "colab": {
          "base_uri": "https://localhost:8080/"
        },
        "outputId": "dd852c5d-becd-46a9-f388-b5d305290adc"
      },
      "outputs": [
        {
          "output_type": "execute_result",
          "data": {
            "text/plain": [
              "np.float64(0.8854126491256742)"
            ]
          },
          "metadata": {},
          "execution_count": 360
        }
      ],
      "source": [
        "valid_right_ratio"
      ]
    },
    {
      "cell_type": "code",
      "execution_count": null,
      "id": "19e3fa90",
      "metadata": {
        "id": "19e3fa90"
      },
      "outputs": [],
      "source": [
        "df_5_EYE['ET_PupilLeft_validity'] = df_5_EYE['ET_PupilLeft_validity'].astype(np.int8)\n",
        "df_5_EYE['ET_PupilRight_validity'] = df_5_EYE['ET_PupilRight_validity'].astype(np.int8)"
      ]
    },
    {
      "cell_type": "markdown",
      "id": "b4d2b6b8",
      "metadata": {
        "id": "b4d2b6b8"
      },
      "source": [
        "# Feature Engineering and Observations\n",
        "\n",
        "Based on the analysis of the data, we've created two new features, `ET_PupilLeft_validity` and `ET_PupilRight_validity`. These features indicate the validity of the pupil data for the left and right eyes, respectively, with a value of 1 representing invalid data (originally -1) and 0 representing valid data.\n",
        "\n",
        "The heatmaps above visually demonstrate the distribution of -1 and 1 values across the dataset. We observed that:\n",
        "- The `-1` values are concentrated in specific columns related to gaze, pupil size, distance, and camera position, suggesting they represent missing or invalid sensor readings.\n",
        "- The `1` values, after mapping from `4.0` in the original validity columns, indicate instances of invalid eye-tracking data.\n",
        "- The heatmaps also show a strong correlation between the `-1` values in the pupil columns and a validity of 1 in the newly created pupil validity features, confirming that -1 was used to mark invalid pupil data."
      ]
    },
    {
      "cell_type": "code",
      "execution_count": null,
      "id": "ca5c9dfd",
      "metadata": {
        "id": "ca5c9dfd"
      },
      "outputs": [],
      "source": [
        "df_5_EYE.head()"
      ]
    },
    {
      "cell_type": "code",
      "execution_count": null,
      "id": "a932c0ef",
      "metadata": {
        "id": "a932c0ef"
      },
      "outputs": [],
      "source": [
        "# Select only the numeric columns for plotting histograms, excluding time-related columns\n",
        "numeric_cols = df_5_EYE.select_dtypes(include=np.number).columns\n",
        "cols_to_plot = [col for col in numeric_cols if col not in ['UnixTime']]\n",
        "\n",
        "# Calculate the number of rows and columns for the grid\n",
        "n_cols = 4  # You can adjust the number of columns as needed\n",
        "n_rows = (len(cols_to_plot) + n_cols - 1) // n_cols\n",
        "\n",
        "plt.figure(figsize=(n_cols * 5, n_rows * 4)) # Adjust figure size as needed\n",
        "\n",
        "for i, col in enumerate(cols_to_plot):\n",
        "    plt.subplot(n_rows, n_cols, i + 1)\n",
        "    sns.histplot(df_5_EYE[col], kde=True)\n",
        "    plt.title(f'Distribution of {col}')\n",
        "    plt.xlabel(col)\n",
        "    plt.ylabel('Frequency')\n",
        "\n",
        "plt.tight_layout()\n",
        "plt.show()"
      ]
    },
    {
      "cell_type": "markdown",
      "id": "0b4f5ddb",
      "metadata": {
        "id": "0b4f5ddb"
      },
      "source": [
        "# Observations from Histograms\n",
        "\n",
        "The grid of histograms provides insights into the distribution of values for each numeric column in the dataset (excluding 'UnixTime'). Key observations include:\n",
        "\n",
        "- Several columns, such as `ET_GazeLeftx`, `ET_GazeLefty`, `ET_GazeRightx`, and `ET_GazeRighty`, show distributions that appear somewhat multimodal or skewed, suggesting variations in gaze patterns.\n",
        "- The `ET_PupilLeft` and `ET_PupilRight` histograms clearly show a peak at -1, confirming the presence of a significant number of invalid pupil readings.\n",
        "- `ET_TimeSignal` shows a relatively uniform distribution, as expected for a time-based signal.\n",
        "- `ET_DistanceLeft` and `ET_DistanceRight` appear to have distributions centered around certain values, with some outliers or variations.\n",
        "- The camera position columns (`ET_CameraLeftX`, `ET_CameraLeftY`, `ET_CameraRightX`, `ET_CameraRightY`) seem to have distributions concentrated within specific ranges, reflecting the camera's field of view.\n",
        "- The validity columns (`ET_ValidityLeft`, `ET_ValidityRight`, `ET_PupilLeft_validity`, `ET_PupilRight_validity`) show distributions dominated by 0, indicating that most of the data is considered valid after the mapping. The smaller peaks at 1 represent the instances of invalid data.\n",
        "\n",
        "These distributions highlight the need for appropriate handling of the -1 values and potential outliers in subsequent analysis or modeling steps."
      ]
    },
    {
      "cell_type": "code",
      "execution_count": null,
      "id": "da115a80",
      "metadata": {
        "id": "da115a80",
        "colab": {
          "base_uri": "https://localhost:8080/"
        },
        "outputId": "6b81554e-86e4-419b-a16d-38d8b2100f0c"
      },
      "outputs": [
        {
          "output_type": "execute_result",
          "data": {
            "text/plain": [
              "Index(['UnixTime', 'QuestionKey', 'Timestamp', 'ET_GazeLeftx', 'ET_GazeLefty',\n",
              "       'ET_GazeRightx', 'ET_GazeRighty', 'ET_PupilLeft', 'ET_PupilRight',\n",
              "       'ET_TimeSignal', 'ET_DistanceLeft', 'ET_DistanceRight',\n",
              "       'ET_CameraLeftX', 'ET_CameraLeftY', 'ET_CameraRightX',\n",
              "       'ET_CameraRightY', 'ET_ValidityLeft', 'ET_ValidityRight',\n",
              "       'ET_PupilLeft_validity', 'ET_PupilRight_validity'],\n",
              "      dtype='object')"
            ]
          },
          "metadata": {},
          "execution_count": 364
        }
      ],
      "source": [
        "df_5_EYE.columns"
      ]
    },
    {
      "cell_type": "code",
      "execution_count": null,
      "id": "fd1fa3b8",
      "metadata": {
        "id": "fd1fa3b8"
      },
      "outputs": [],
      "source": [
        "cols = ['ET_GazeLeftx', 'ET_GazeLefty',\n",
        "       'ET_GazeRightx', 'ET_GazeRighty', 'ET_PupilLeft', 'ET_PupilRight',\n",
        "       'ET_TimeSignal', 'ET_DistanceLeft', 'ET_DistanceRight',\n",
        "       'ET_CameraLeftX', 'ET_CameraLeftY', 'ET_CameraRightX',\n",
        "       'ET_CameraRightY', 'ET_ValidityLeft', 'ET_ValidityRight',\n",
        "       'ET_PupilLeft_validity', 'ET_PupilRight_validity']"
      ]
    },
    {
      "cell_type": "code",
      "execution_count": null,
      "id": "d2c57171",
      "metadata": {
        "id": "d2c57171"
      },
      "outputs": [],
      "source": [
        "from IPython.display import display, Markdown\n",
        "\n",
        "for col in cols:\n",
        "    # Add a markdown cell before each plot for better separation and labeling\n",
        "    display(Markdown(f'### {col} over Time'))\n",
        "    plt.figure(figsize=(16, 10))\n",
        "    plt.plot(df_5_EYE['Timestamp'], df_5_EYE[col])\n",
        "    plt.xlabel(\"Timestamp\") # Add x-axis label\n",
        "    plt.ylabel(col) # Add y-axis label\n",
        "    plt.show()"
      ]
    },
    {
      "cell_type": "markdown",
      "id": "39a1685f",
      "metadata": {
        "id": "39a1685f"
      },
      "source": [
        "# Observations from Time Series Plots\n",
        "\n",
        "The line plots showing various features against the `Timestamp` reveal the temporal patterns and fluctuations in the eye-tracking data. Key observations include:\n",
        "\n",
        "- **Gaze Coordinates (`ET_GazeLeftx`, `ET_GazeLefty`, `ET_GazeRightx`, `ET_GazeRighty`):** These plots show the changes in gaze position over time. We can observe periods of relatively stable gaze interspersed with rapid movements (saccades) and blinks or other events where the gaze data might be invalid (-1 values appear as gaps or spikes if not handled).\n",
        "- **Pupil Size (`ET_PupilLeft`, `ET_PupilRight`):** The pupil size plots show variations over time. The presence of many -1 values is evident as flat lines at the bottom of the plot, indicating periods where pupil data was not recorded or was invalid.\n",
        "- **Time Signal (`ET_TimeSignal`):** This plot shows a steady, increasing trend, as expected for a time-based signal.\n",
        "- **Distance and Camera Position (`ET_DistanceLeft`, `ET_DistanceRight`, `ET_CameraLeftX`, `ET_CameraLeftY`, `ET_CameraRightX`, `ET_CameraRightY`):** These plots show how the distance from the eye tracker and the camera positions change over time. Variations in these features can be related to head movements or changes in the user's position relative to the eye tracker.\n",
        "- **Validity (`ET_ValidityLeft`, `ET_ValidityRight`, `ET_PupilLeft_validity`, `ET_PupilRight_validity`):** These plots clearly show periods of invalid data (represented by 1) as spikes or plateaus, corresponding to instances where the eye tracker lost track of the eyes or the pupil data was marked as invalid.\n",
        "\n",
        "Analyzing these time series plots is crucial for understanding the dynamics of the eye-tracking data and identifying patterns or anomalies that may require further investigation or specific handling during subsequent analysis."
      ]
    },
    {
      "cell_type": "code",
      "execution_count": null,
      "id": "2ca5494c",
      "metadata": {
        "id": "2ca5494c"
      },
      "outputs": [],
      "source": [
        "# Select only the numeric columns for plotting histograms, excluding time-related columns\n",
        "numeric_cols = df_5_EYE.select_dtypes(include=np.number).columns\n",
        "\n",
        "# Calculate the number of rows and columns for the grid\n",
        "n_cols = 4  # You can adjust the number of columns as needed\n",
        "n_rows = (len(numeric_cols) + n_cols - 1) // n_cols\n",
        "\n",
        "plt.figure(figsize=(n_cols * 5, n_rows * 4)) # Adjust figure size as needed\n",
        "\n",
        "for i, col in enumerate(numeric_cols):\n",
        "    plt.subplot(n_rows, n_cols, i + 1)\n",
        "    sns.boxplot(df_5_EYE[col])\n",
        "    plt.title(f'Boxplot of {col}')\n",
        "    plt.xlabel(col)\n",
        "\n",
        "plt.tight_layout()\n",
        "plt.show()"
      ]
    },
    {
      "cell_type": "markdown",
      "id": "4bd68f35",
      "metadata": {
        "id": "4bd68f35"
      },
      "source": [
        "# Observations from Boxplots and Handling -1 Values\n",
        "\n",
        "The boxplots provide a visual summary of the distribution and potential outliers for each numeric column. Key observations from the boxplots include:\n",
        "\n",
        "- The boxplots for columns like `ET_GazeLeftx`, `ET_GazeLefty`, `ET_GazeRightx`, `ET_GazeRighty`, `ET_PupilLeft`, `ET_PupilRight`, `ET_DistanceLeft`, `ET_DistanceRight`, `ET_CameraLeftX`, `ET_CameraLeftY`, `ET_CameraRightX`, and `ET_CameraRightY` clearly show the presence of -1 values as significant outliers, confirming our earlier observations from the heatmaps and histograms.\n",
        "- The boxplots for the validity columns (`ET_ValidityLeft`, `ET_ValidityRight`, `ET_PupilLeft_validity`, `ET_PupilRight_validity`) show the discrete nature of these features, with the majority of data points at 0 (valid) and a smaller number at 1 (invalid).\n",
        "\n",
        "Given the significant presence of -1 values, which represent invalid or missing data, especially in the pupil-related columns, we have decided to replace these -1 values with NaN to properly represent them as missing data. Subsequently, we will impute these missing values using the mean of each respective column. This approach helps to retain the data structure and allows for further analysis or modeling without the distortion caused by the -1 placeholders."
      ]
    },
    {
      "cell_type": "code",
      "execution_count": null,
      "id": "32fbe2ac",
      "metadata": {
        "id": "32fbe2ac"
      },
      "outputs": [],
      "source": [
        "df_5_EYE.replace({-1: np.nan}, inplace=True)"
      ]
    },
    {
      "cell_type": "code",
      "execution_count": null,
      "id": "96af520e",
      "metadata": {
        "id": "96af520e",
        "colab": {
          "base_uri": "https://localhost:8080/"
        },
        "outputId": "af61b1a7-bc83-4ee4-ea5d-d781f6029e19"
      },
      "outputs": [
        {
          "output_type": "execute_result",
          "data": {
            "text/plain": [
              "ET_GazeLeftx                 907.590279\n",
              "ET_GazeLefty                 518.033301\n",
              "ET_GazeRightx                932.204006\n",
              "ET_GazeRighty                521.918840\n",
              "ET_PupilLeft                   3.627043\n",
              "ET_PupilRight                  3.627100\n",
              "ET_TimeSignal             637308.994606\n",
              "ET_DistanceLeft              648.312272\n",
              "ET_DistanceRight             645.030911\n",
              "ET_CameraLeftX                 0.567709\n",
              "ET_CameraLeftY                 0.518405\n",
              "ET_CameraRightX                0.412766\n",
              "ET_CameraRightY                0.511692\n",
              "ET_ValidityLeft                0.096146\n",
              "ET_ValidityRight               0.114587\n",
              "ET_PupilLeft_validity          0.697526\n",
              "ET_PupilRight_validity         0.700938\n",
              "dtype: float64"
            ]
          },
          "metadata": {},
          "execution_count": 369
        }
      ],
      "source": [
        "df_5_EYE[['ET_GazeLeftx', 'ET_GazeLefty',\n",
        "       'ET_GazeRightx', 'ET_GazeRighty', 'ET_PupilLeft', 'ET_PupilRight',\n",
        "       'ET_TimeSignal', 'ET_DistanceLeft', 'ET_DistanceRight',\n",
        "       'ET_CameraLeftX', 'ET_CameraLeftY', 'ET_CameraRightX',\n",
        "       'ET_CameraRightY', 'ET_ValidityLeft', 'ET_ValidityRight',\n",
        "       'ET_PupilLeft_validity', 'ET_PupilRight_validity']].mean()"
      ]
    },
    {
      "cell_type": "code",
      "execution_count": null,
      "id": "0cb7a94c",
      "metadata": {
        "id": "0cb7a94c",
        "colab": {
          "base_uri": "https://localhost:8080/"
        },
        "outputId": "18ccc6a0-7b16-46a9-e857-fb5e9f472940"
      },
      "outputs": [
        {
          "output_type": "execute_result",
          "data": {
            "text/plain": [
              "ET_GazeLeftx                 879.000000\n",
              "ET_GazeLefty                 481.000000\n",
              "ET_GazeRightx                907.000000\n",
              "ET_GazeRighty                487.000000\n",
              "ET_PupilLeft                   3.633133\n",
              "ET_PupilRight                  3.645859\n",
              "ET_TimeSignal             637310.298000\n",
              "ET_DistanceLeft              645.814819\n",
              "ET_DistanceRight             642.775818\n",
              "ET_CameraLeftX                 0.566298\n",
              "ET_CameraLeftY                 0.520902\n",
              "ET_CameraRightX                0.410616\n",
              "ET_CameraRightY                0.512614\n",
              "ET_ValidityLeft                0.000000\n",
              "ET_ValidityRight               0.000000\n",
              "ET_PupilLeft_validity          1.000000\n",
              "ET_PupilRight_validity         1.000000\n",
              "dtype: float64"
            ]
          },
          "metadata": {},
          "execution_count": 370
        }
      ],
      "source": [
        "df_5_EYE[['ET_GazeLeftx', 'ET_GazeLefty',\n",
        "       'ET_GazeRightx', 'ET_GazeRighty', 'ET_PupilLeft', 'ET_PupilRight',\n",
        "       'ET_TimeSignal', 'ET_DistanceLeft', 'ET_DistanceRight',\n",
        "       'ET_CameraLeftX', 'ET_CameraLeftY', 'ET_CameraRightX',\n",
        "       'ET_CameraRightY', 'ET_ValidityLeft', 'ET_ValidityRight',\n",
        "       'ET_PupilLeft_validity', 'ET_PupilRight_validity']].median()"
      ]
    },
    {
      "cell_type": "code",
      "execution_count": null,
      "id": "a3ff9f43",
      "metadata": {
        "id": "a3ff9f43"
      },
      "outputs": [],
      "source": [
        "numeric_cols = df_5_EYE.select_dtypes(include=np.number).columns\n",
        "\n",
        "for col in numeric_cols:\n",
        "    df_5_EYE[col] = df_5_EYE[col].fillna(df_5_EYE[col].mean())"
      ]
    },
    {
      "cell_type": "code",
      "execution_count": null,
      "id": "1029df84",
      "metadata": {
        "id": "1029df84"
      },
      "outputs": [],
      "source": [
        "plt.figure(figsize=(18, 8))\n",
        "\n",
        "plt.subplot(1, 2, 1)\n",
        "sns.heatmap(df_5_EYE.isnull(), cmap='viridis')\n",
        "plt.title('Heatmap of Missing Values After Imputation')\n",
        "\n",
        "plt.subplot(1, 2, 2)\n",
        "sns.heatmap(df_5_EYE == 1, cmap='viridis')\n",
        "plt.title('Heatmap of 1 Values')\n",
        "\n",
        "plt.tight_layout()\n",
        "plt.show()"
      ]
    },
    {
      "cell_type": "markdown",
      "id": "02f3bbc0",
      "metadata": {
        "id": "02f3bbc0"
      },
      "source": [
        "# Handling Missing Values (Imputation)\n",
        "\n",
        "As decided, we have replaced all the `-1` values with `NaN` to treat them as missing data. Subsequently, we have imputed these `NaN` values with the mean of their respective columns. The heatmap above, which was generated after the imputation, now shows no visible signs of `NaN` values, indicating that the imputation was successful."
      ]
    },
    {
      "cell_type": "code",
      "execution_count": null,
      "id": "dab3a3a5",
      "metadata": {
        "id": "dab3a3a5"
      },
      "outputs": [],
      "source": [
        "df_5_EYE.head()"
      ]
    },
    {
      "cell_type": "code",
      "execution_count": null,
      "id": "91b4c73c",
      "metadata": {
        "id": "91b4c73c"
      },
      "outputs": [],
      "source": [
        "# Select only the numeric columns for plotting histograms, excluding time-related columns\n",
        "numeric_cols = df_5_EYE.select_dtypes(include=np.number).columns\n",
        "cols_to_plot = [col for col in numeric_cols if col not in ['UnixTime']]\n",
        "\n",
        "# Calculate the number of rows and columns for the grid\n",
        "n_cols = 4  # You can adjust the number of columns as needed\n",
        "n_rows = (len(cols_to_plot) + n_cols - 1) // n_cols\n",
        "\n",
        "plt.figure(figsize=(n_cols * 5, n_rows * 4)) # Adjust figure size as needed\n",
        "\n",
        "for i, col in enumerate(cols_to_plot):\n",
        "    plt.subplot(n_rows, n_cols, i + 1)\n",
        "    sns.histplot(df_5_EYE[col], kde=True)\n",
        "    plt.title(f'Distribution of {col}')\n",
        "    plt.xlabel(col)\n",
        "    plt.ylabel('Frequency')\n",
        "\n",
        "plt.tight_layout()\n",
        "plt.show()"
      ]
    },
    {
      "cell_type": "markdown",
      "id": "228c2f10",
      "metadata": {
        "id": "228c2f10"
      },
      "source": [
        "# Observations from Histograms After Imputation\n",
        "\n",
        "The histograms generated after replacing the -1 values with the mean of each column show the distributions of the numeric features with the missing data handled. Key observations from these updated histograms include:\n",
        "\n",
        "- The distinct peaks at -1, which were prominent in the histograms for several columns (e.g., pupil size, gaze coordinates, distance, and camera position) before imputation, are now replaced by a peak at the mean of each respective column.\n",
        "- The distributions in many columns now appear more unimodal or show shifted modes compared to the original histograms.\n",
        "- The histograms for the validity columns still show their bimodal distributions with peaks at 0 and 1, as these were handled separately.\n",
        "\n",
        "These histograms provide an updated view of the data's distribution after handling the missing values, highlighting the impact of the imputation method on the data's characteristics."
      ]
    },
    {
      "cell_type": "code",
      "execution_count": null,
      "id": "9070ae04",
      "metadata": {
        "id": "9070ae04"
      },
      "outputs": [],
      "source": [
        "cols = ['ET_GazeLeftx', 'ET_GazeLefty',\n",
        "       'ET_GazeRightx', 'ET_GazeRighty', 'ET_PupilLeft', 'ET_PupilRight',\n",
        "       'ET_TimeSignal', 'ET_DistanceLeft', 'ET_DistanceRight',\n",
        "       'ET_CameraLeftX', 'ET_CameraLeftY', 'ET_CameraRightX',\n",
        "       'ET_CameraRightY', 'ET_ValidityLeft', 'ET_ValidityRight',\n",
        "       'ET_PupilLeft_validity', 'ET_PupilRight_validity']"
      ]
    },
    {
      "cell_type": "code",
      "execution_count": null,
      "id": "e69b5ff3",
      "metadata": {
        "id": "e69b5ff3"
      },
      "outputs": [],
      "source": [
        "for col in cols:\n",
        "    # Add a markdown cell before each plot for better separation and labeling\n",
        "    display(Markdown(f'### {col} over Time'))\n",
        "    plt.figure(figsize=(16, 10))\n",
        "    plt.plot(df_5_EYE['Timestamp'], df_5_EYE[col])\n",
        "    plt.xlabel(\"Timestamp\") # Add x-axis label\n",
        "    plt.ylabel(col) # Add y-axis label\n",
        "    plt.show()"
      ]
    },
    {
      "cell_type": "markdown",
      "id": "8b86d254",
      "metadata": {
        "id": "8b86d254"
      },
      "source": [
        "# Observations from Time Series Plots After Imputation\n",
        "\n",
        "The line plots generated after imputing the missing values with the mean show the temporal patterns of the features with the missing data handled. Key observations from these updated plots include:\n",
        "\n",
        "- The gaps or flat lines at -1, which were prominent in the plots for columns like gaze coordinates, pupil size, distance, and camera position, are now filled by lines at the mean value of the respective columns.\n",
        "- The plots for the validity columns remain the same as they were handled separately.\n",
        "- The `ET_TimeSignal` plot still shows a steady increasing trend, as expected."
      ]
    },
    {
      "cell_type": "code",
      "execution_count": null,
      "id": "3e4adbd2",
      "metadata": {
        "id": "3e4adbd2"
      },
      "outputs": [],
      "source": [
        "plt.figure(figsize=(16, 10))\n",
        "sns.heatmap(df_5_EYE.corr(numeric_only=True), cmap='YlGnBu', annot=True)\n",
        "plt.show()"
      ]
    },
    {
      "cell_type": "markdown",
      "id": "49c7af52",
      "metadata": {
        "id": "49c7af52"
      },
      "source": [
        "# Observations from Correlation Heatmap\n",
        "\n",
        "The correlation heatmap provides a visual representation of the pairwise correlations between the numeric columns in the dataset. Key observations from the heatmap include:\n",
        "\n",
        "- **High Positive Correlations:** We observe strong positive correlations (values close to 1) between:\n",
        "  - `ET_GazeLeftx` and `ET_GazeRightx`: This is expected as the gaze positions of both eyes should be highly correlated when fixating on a point.\n",
        "  - `ET_GazeLefty` and `ET_GazeRighty`: Similar to the x-coordinates, the y-coordinates of gaze should also be highly correlated.\n",
        "  - `ET_PupilLeft` and `ET_PupilRight`: Pupil sizes of both eyes tend to change together in response to light and cognitive load.\n",
        "  - `ET_DistanceLeft` and `ET_DistanceRight`: The distance from the eye tracker to each eye should be highly correlated.\n",
        "  - `ET_CameraLeftX` and `ET_CameraRightX`, `ET_CameraLeftY` and `ET_CameraRightY`: The camera positions for both eyes are also expected to be highly correlated.\n",
        "  - `UnixTime` and `ET_TimeSignal`: As previously noted, these two columns are almost perfectly linearly correlated, indicating redundancy.\n",
        "  - `ET_ValidityLeft` and `ET_PupilLeft_validity`: There is a positive correlation, suggesting that when the overall left eye data is invalid, the left pupil data is also likely to be invalid.\n",
        "  - `ET_ValidityRight` and `ET_PupilRight_validity`: Similar to the left eye, there is a positive correlation between the overall right eye validity and the right pupil validity.\n",
        "- **Other Correlations:** We can also observe other varying degrees of correlations between different features, which can provide insights into the relationships between gaze behavior, pupil size, distance, and camera position. For example, there might be correlations between gaze coordinates and camera positions, reflecting head movements.\n",
        "- **Low or Near-Zero Correlations:** Columns with low or near-zero correlations are relatively independent of each other.\n",
        "\n",
        "Understanding these correlations is important for feature selection and for building models, as highly correlated features might indicate multicollinearity, while correlations between features can reveal underlying patterns in the data."
      ]
    },
    {
      "cell_type": "markdown",
      "id": "a7554eea",
      "metadata": {
        "id": "a7554eea"
      },
      "source": [
        "# Analysis of ET_TimeSignal and Decision to Drop\n",
        "\n",
        "As observed in the time series plot and confirmed by the correlation heatmap, the `ET_TimeSignal` column exhibits a near-perfect linear relationship with both the `Timestamp` and `UnixTime` columns. This strong correlation (close to 1) suggests that `ET_TimeSignal` is essentially redundant and likely represents another form of time recording or a signal directly derived from the timestamp.\n",
        "\n",
        "Including highly correlated features like this in a dataset can lead to issues such as multicollinearity in some statistical models, which can make it difficult to interpret the individual impact of each feature. Since the `Timestamp` column already provides the necessary temporal information, retaining `ET_TimeSignal` does not appear to add significant value for further analysis or modeling in most cases.\n",
        "\n",
        "Therefore, based on its high correlation and lack of unique insight, we will proceed to drop the `ET_TimeSignal` column to simplify the dataset and potentially improve the performance and interpretability of future analyses."
      ]
    },
    {
      "cell_type": "code",
      "execution_count": null,
      "id": "5bbb1985",
      "metadata": {
        "id": "5bbb1985"
      },
      "outputs": [],
      "source": [
        "df_5_EYE.drop('ET_TimeSignal', axis=1, inplace=True)"
      ]
    },
    {
      "cell_type": "code",
      "execution_count": null,
      "id": "4fb0ede7",
      "metadata": {
        "id": "4fb0ede7"
      },
      "outputs": [],
      "source": [
        "plt.figure(figsize=(16, 10))\n",
        "sns.pairplot(df_5_EYE)\n",
        "plt.show()"
      ]
    },
    {
      "cell_type": "markdown",
      "id": "6dd23bf7",
      "metadata": {
        "id": "6dd23bf7"
      },
      "source": [
        "# **6_EYE**"
      ]
    },
    {
      "cell_type": "code",
      "execution_count": null,
      "id": "8a933e2f",
      "metadata": {
        "id": "8a933e2f"
      },
      "outputs": [],
      "source": []
    },
    {
      "cell_type": "code",
      "execution_count": null,
      "id": "149272f6",
      "metadata": {
        "id": "149272f6",
        "colab": {
          "base_uri": "https://localhost:8080/"
        },
        "outputId": "4d3e0c81-1972-4934-df0b-f8d6ece71211"
      },
      "outputs": [
        {
          "output_type": "stream",
          "name": "stderr",
          "text": [
            "/tmp/ipykernel_31755/3854048331.py:1: DtypeWarning: Columns (2) have mixed types. Specify dtype option on import or set low_memory=False.\n",
            "  df_6_EYE = pd.read_csv('data/STData/6/6_EYE.csv')\n"
          ]
        }
      ],
      "source": [
        "df_6_EYE = pd.read_csv('data/STData/6/6_EYE.csv')"
      ]
    },
    {
      "cell_type": "code",
      "execution_count": null,
      "id": "01faeeb1",
      "metadata": {
        "id": "01faeeb1"
      },
      "outputs": [],
      "source": [
        "df_6_EYE.head()"
      ]
    },
    {
      "cell_type": "code",
      "execution_count": null,
      "id": "b0bdb651",
      "metadata": {
        "id": "b0bdb651",
        "colab": {
          "base_uri": "https://localhost:8080/"
        },
        "outputId": "10ddac32-109d-403b-9385-5b58658eeb91"
      },
      "outputs": [
        {
          "output_type": "execute_result",
          "data": {
            "text/plain": [
              "(163026, 19)"
            ]
          },
          "metadata": {},
          "execution_count": 382
        }
      ],
      "source": [
        "df_6_EYE.shape"
      ]
    },
    {
      "cell_type": "code",
      "execution_count": null,
      "id": "60258e71",
      "metadata": {
        "id": "60258e71",
        "colab": {
          "base_uri": "https://localhost:8080/"
        },
        "outputId": "c7c769f3-7b4b-475c-9542-aba3190e350c"
      },
      "outputs": [
        {
          "output_type": "execute_result",
          "data": {
            "text/plain": [
              "Index(['UnixTime', 'Row', 'QuestionKey', 'Timestamp', 'ET_GazeLeftx',\n",
              "       'ET_GazeLefty', 'ET_GazeRightx', 'ET_GazeRighty', 'ET_PupilLeft',\n",
              "       'ET_PupilRight', 'ET_TimeSignal', 'ET_DistanceLeft', 'ET_DistanceRight',\n",
              "       'ET_CameraLeftX', 'ET_CameraLeftY', 'ET_CameraRightX',\n",
              "       'ET_CameraRightY', 'ET_ValidityLeft', 'ET_ValidityRight'],\n",
              "      dtype='object')"
            ]
          },
          "metadata": {},
          "execution_count": 383
        }
      ],
      "source": [
        "df_6_EYE.columns"
      ]
    },
    {
      "cell_type": "code",
      "execution_count": null,
      "id": "4e60a429",
      "metadata": {
        "id": "4e60a429",
        "colab": {
          "base_uri": "https://localhost:8080/"
        },
        "outputId": "16021889-1866-48e1-cb7e-96c5d8861e94"
      },
      "outputs": [
        {
          "output_type": "stream",
          "name": "stdout",
          "text": [
            "<class 'pandas.core.frame.DataFrame'>\n",
            "RangeIndex: 163026 entries, 0 to 163025\n",
            "Data columns (total 19 columns):\n",
            " #   Column            Non-Null Count   Dtype  \n",
            "---  ------            --------------   -----  \n",
            " 0   UnixTime          163026 non-null  float64\n",
            " 1   Row               163026 non-null  int64  \n",
            " 2   QuestionKey       79417 non-null   object \n",
            " 3   Timestamp         163026 non-null  object \n",
            " 4   ET_GazeLeftx      163022 non-null  float64\n",
            " 5   ET_GazeLefty      163022 non-null  float64\n",
            " 6   ET_GazeRightx     163022 non-null  float64\n",
            " 7   ET_GazeRighty     163022 non-null  float64\n",
            " 8   ET_PupilLeft      163022 non-null  float64\n",
            " 9   ET_PupilRight     163022 non-null  float64\n",
            " 10  ET_TimeSignal     163022 non-null  float64\n",
            " 11  ET_DistanceLeft   163022 non-null  float64\n",
            " 12  ET_DistanceRight  163022 non-null  float64\n",
            " 13  ET_CameraLeftX    163022 non-null  float64\n",
            " 14  ET_CameraLeftY    163022 non-null  float64\n",
            " 15  ET_CameraRightX   163022 non-null  float64\n",
            " 16  ET_CameraRightY   163022 non-null  float64\n",
            " 17  ET_ValidityLeft   163022 non-null  float64\n",
            " 18  ET_ValidityRight  163022 non-null  float64\n",
            "dtypes: float64(16), int64(1), object(2)\n",
            "memory usage: 23.6+ MB\n"
          ]
        }
      ],
      "source": [
        "df_6_EYE.info()"
      ]
    },
    {
      "cell_type": "code",
      "execution_count": null,
      "id": "0bdb0c2c",
      "metadata": {
        "id": "0bdb0c2c",
        "colab": {
          "base_uri": "https://localhost:8080/"
        },
        "outputId": "fca861a9-cfb4-4617-ce80-c6b18c9451a3"
      },
      "outputs": [
        {
          "output_type": "execute_result",
          "data": {
            "text/plain": [
              "UnixTime                0\n",
              "Row                     0\n",
              "QuestionKey         83609\n",
              "Timestamp               0\n",
              "ET_GazeLeftx            4\n",
              "ET_GazeLefty            4\n",
              "ET_GazeRightx           4\n",
              "ET_GazeRighty           4\n",
              "ET_PupilLeft            4\n",
              "ET_PupilRight           4\n",
              "ET_TimeSignal           4\n",
              "ET_DistanceLeft         4\n",
              "ET_DistanceRight        4\n",
              "ET_CameraLeftX          4\n",
              "ET_CameraLeftY          4\n",
              "ET_CameraRightX         4\n",
              "ET_CameraRightY         4\n",
              "ET_ValidityLeft         4\n",
              "ET_ValidityRight        4\n",
              "dtype: int64"
            ]
          },
          "metadata": {},
          "execution_count": 385
        }
      ],
      "source": [
        "df_6_EYE.isnull().sum()"
      ]
    },
    {
      "cell_type": "code",
      "execution_count": null,
      "id": "6c4861fd",
      "metadata": {
        "id": "6c4861fd"
      },
      "outputs": [],
      "source": [
        "plt.figure(figsize=(12,8))\n",
        "sns.heatmap(df_6_EYE.isnull(), cmap='viridis')\n",
        "plt.show()"
      ]
    },
    {
      "cell_type": "markdown",
      "id": "ae97acb5",
      "metadata": {
        "id": "ae97acb5"
      },
      "source": [
        "# Notes & Observations\n",
        "\n",
        "- We observe many **null** (or missing) values in the `QuestionKey` columns.\n",
        "- The nulls in the `QuestionKey` column may not represent “true” nulls. Rather, they follow interval patterns, suggesting that during those periods no question was displayed.\n",
        "- These missing values in `QuestionKey` require additional investigation and context-aware handling."
      ]
    },
    {
      "cell_type": "code",
      "execution_count": null,
      "id": "bc8f3de3",
      "metadata": {
        "id": "bc8f3de3",
        "colab": {
          "base_uri": "https://localhost:8080/"
        },
        "outputId": "46e877ee-6664-48b6-80e6-6b7bf37141af"
      },
      "outputs": [
        {
          "output_type": "execute_result",
          "data": {
            "text/plain": [
              "array([nan, '1spl1', '1Item1', '1Item2', '1Item3', '1Item4', '1Item5',\n",
              "       '1Item6', '1Item7', '2spl1', '2spl2', '2Item1', '2Item2', '2Item3',\n",
              "       '2Item4', '2Item5', '2Item6', '2Item7', '2Item8', '2Item9',\n",
              "       '2Item10'], dtype=object)"
            ]
          },
          "metadata": {},
          "execution_count": 387
        }
      ],
      "source": [
        "df_6_EYE['QuestionKey'].unique()"
      ]
    },
    {
      "cell_type": "code",
      "execution_count": null,
      "id": "9ba69264",
      "metadata": {
        "id": "9ba69264"
      },
      "outputs": [],
      "source": [
        "df_6_EYE['Timestamp'] = pd.to_datetime(df_6_EYE['Timestamp'])"
      ]
    },
    {
      "cell_type": "code",
      "execution_count": null,
      "id": "9e904e0b",
      "metadata": {
        "id": "9e904e0b"
      },
      "outputs": [],
      "source": [
        "df_6_EYE.head(3)"
      ]
    },
    {
      "cell_type": "code",
      "execution_count": null,
      "id": "4803daa8",
      "metadata": {
        "id": "4803daa8"
      },
      "outputs": [],
      "source": [
        "df_6_EYE['QuestionKey'] = df_6_EYE['QuestionKey'].fillna('None')"
      ]
    },
    {
      "cell_type": "code",
      "execution_count": null,
      "id": "46e17f67",
      "metadata": {
        "id": "46e17f67",
        "colab": {
          "base_uri": "https://localhost:8080/"
        },
        "outputId": "4a5ee9de-555d-4c69-954e-53a30655eca4"
      },
      "outputs": [
        {
          "output_type": "execute_result",
          "data": {
            "text/plain": [
              "QuestionKey\n",
              "None       83609\n",
              "1Item3      9234\n",
              "1Item5      7496\n",
              "2Item4      6418\n",
              "2Item7      5824\n",
              "1Item4      5444\n",
              "2Item5      5236\n",
              "1Item1      4494\n",
              "1Item2      4490\n",
              "1spl1       4000\n",
              "2Item6      3710\n",
              "1Item6      3505\n",
              "2Item8      3347\n",
              "2Item1      3116\n",
              "2Item3      2957\n",
              "2spl2       2412\n",
              "2Item2      2261\n",
              "2Item10     2040\n",
              "1Item7      1320\n",
              "2Item9      1098\n",
              "2spl1       1015\n",
              "Name: count, dtype: int64"
            ]
          },
          "metadata": {},
          "execution_count": 391
        }
      ],
      "source": [
        "df_6_EYE['QuestionKey'].value_counts()"
      ]
    },
    {
      "cell_type": "code",
      "execution_count": null,
      "id": "6e41e8f3",
      "metadata": {
        "id": "6e41e8f3"
      },
      "outputs": [],
      "source": [
        "plt.figure(figsize=(12,8))\n",
        "sns.heatmap(df_6_EYE.isnull(), cmap='viridis')\n",
        "plt.show()"
      ]
    },
    {
      "cell_type": "code",
      "execution_count": null,
      "id": "d969bf56",
      "metadata": {
        "id": "d969bf56",
        "colab": {
          "base_uri": "https://localhost:8080/"
        },
        "outputId": "9c841b56-7fb6-4109-ef0e-46325f269c0b"
      },
      "outputs": [
        {
          "output_type": "execute_result",
          "data": {
            "text/plain": [
              "UnixTime            0\n",
              "Row                 0\n",
              "QuestionKey         0\n",
              "Timestamp           0\n",
              "ET_GazeLeftx        4\n",
              "ET_GazeLefty        4\n",
              "ET_GazeRightx       4\n",
              "ET_GazeRighty       4\n",
              "ET_PupilLeft        4\n",
              "ET_PupilRight       4\n",
              "ET_TimeSignal       4\n",
              "ET_DistanceLeft     4\n",
              "ET_DistanceRight    4\n",
              "ET_CameraLeftX      4\n",
              "ET_CameraLeftY      4\n",
              "ET_CameraRightX     4\n",
              "ET_CameraRightY     4\n",
              "ET_ValidityLeft     4\n",
              "ET_ValidityRight    4\n",
              "dtype: int64"
            ]
          },
          "metadata": {},
          "execution_count": 393
        }
      ],
      "source": [
        "df_6_EYE.isnull().sum()"
      ]
    },
    {
      "cell_type": "code",
      "execution_count": null,
      "id": "2c53e36d",
      "metadata": {
        "id": "2c53e36d"
      },
      "outputs": [],
      "source": [
        "df_6_EYE.dropna(inplace=True)"
      ]
    },
    {
      "cell_type": "code",
      "execution_count": null,
      "id": "fc4e0e24",
      "metadata": {
        "id": "fc4e0e24"
      },
      "outputs": [],
      "source": [
        "df_6_EYE.head()"
      ]
    },
    {
      "cell_type": "code",
      "execution_count": null,
      "id": "315954b4",
      "metadata": {
        "id": "315954b4",
        "colab": {
          "base_uri": "https://localhost:8080/"
        },
        "outputId": "1eebb41b-1378-454e-fc0d-d6d3b62c1964"
      },
      "outputs": [
        {
          "output_type": "execute_result",
          "data": {
            "text/plain": [
              "array([     2,      3,      4, ..., 163022, 163023, 163024],\n",
              "      shape=(163022,))"
            ]
          },
          "metadata": {},
          "execution_count": 396
        }
      ],
      "source": [
        "df_6_EYE['Row'].unique()"
      ]
    },
    {
      "cell_type": "code",
      "execution_count": null,
      "id": "b8d560c4",
      "metadata": {
        "id": "b8d560c4"
      },
      "outputs": [],
      "source": [
        "plt.figure(figsize=(8,6))\n",
        "sns.histplot(df_6_EYE['Row'])\n",
        "plt.show()"
      ]
    },
    {
      "cell_type": "markdown",
      "id": "5e510423",
      "metadata": {
        "id": "5e510423"
      },
      "source": [
        "# Notes & Observations\n",
        "\n",
        "- The `Row` column appears to be a simple row index and does not provide meaningful information relevant to the eye-tracking data itself. Therefore, it can be dropped."
      ]
    },
    {
      "cell_type": "code",
      "execution_count": null,
      "id": "3c958736",
      "metadata": {
        "id": "3c958736"
      },
      "outputs": [],
      "source": [
        "df_6_EYE.drop('Row', axis=1, inplace=True)"
      ]
    },
    {
      "cell_type": "code",
      "execution_count": null,
      "id": "913168e0",
      "metadata": {
        "id": "913168e0",
        "colab": {
          "base_uri": "https://localhost:8080/"
        },
        "outputId": "5ef93b56-eda0-4d71-e714-f01987738891"
      },
      "outputs": [
        {
          "output_type": "execute_result",
          "data": {
            "text/plain": [
              "array([0., 4.])"
            ]
          },
          "metadata": {},
          "execution_count": 399
        }
      ],
      "source": [
        "df_6_EYE['ET_ValidityLeft'].unique()"
      ]
    },
    {
      "cell_type": "code",
      "execution_count": null,
      "id": "ec5d937a",
      "metadata": {
        "id": "ec5d937a",
        "colab": {
          "base_uri": "https://localhost:8080/"
        },
        "outputId": "2a72e539-bef1-48a3-b969-945f88bb722b"
      },
      "outputs": [
        {
          "output_type": "execute_result",
          "data": {
            "text/plain": [
              "ET_ValidityLeft\n",
              "4.0    132818\n",
              "0.0     30204\n",
              "Name: count, dtype: int64"
            ]
          },
          "metadata": {},
          "execution_count": 400
        }
      ],
      "source": [
        "df_6_EYE['ET_ValidityLeft'].value_counts()"
      ]
    },
    {
      "cell_type": "code",
      "execution_count": null,
      "id": "0a828dbf",
      "metadata": {
        "id": "0a828dbf",
        "colab": {
          "base_uri": "https://localhost:8080/"
        },
        "outputId": "1bdfd33f-1b93-456d-c54b-3f2ecc41d2b8"
      },
      "outputs": [
        {
          "output_type": "execute_result",
          "data": {
            "text/plain": [
              "array([0., 4.])"
            ]
          },
          "metadata": {},
          "execution_count": 401
        }
      ],
      "source": [
        "df_6_EYE['ET_ValidityRight'].unique()"
      ]
    },
    {
      "cell_type": "code",
      "execution_count": null,
      "id": "9d0676c3",
      "metadata": {
        "id": "9d0676c3",
        "colab": {
          "base_uri": "https://localhost:8080/"
        },
        "outputId": "5172dbb3-a8ca-422a-b6c6-c80be31c9b12"
      },
      "outputs": [
        {
          "output_type": "execute_result",
          "data": {
            "text/plain": [
              "ET_ValidityRight\n",
              "0.0    91363\n",
              "4.0    71659\n",
              "Name: count, dtype: int64"
            ]
          },
          "metadata": {},
          "execution_count": 402
        }
      ],
      "source": [
        "df_6_EYE['ET_ValidityRight'].value_counts()"
      ]
    },
    {
      "cell_type": "code",
      "execution_count": null,
      "id": "5b8746a8",
      "metadata": {
        "id": "5b8746a8"
      },
      "outputs": [],
      "source": [
        "plt.figure(figsize=(12, 6))\n",
        "\n",
        "plt.subplot(1, 2, 1)\n",
        "sns.barplot(x=df_6_EYE['ET_ValidityLeft'].value_counts().index, y=df_6_EYE['ET_ValidityLeft'].value_counts().values)\n",
        "plt.title('Count of ET_ValidityLeft')\n",
        "plt.xlabel('Validity')\n",
        "plt.ylabel('Count')\n",
        "\n",
        "\n",
        "plt.subplot(1, 2, 2)\n",
        "sns.barplot(x=df_6_EYE['ET_ValidityRight'].value_counts().index, y=df_6_EYE['ET_ValidityRight'].value_counts().values)\n",
        "plt.title('Count of ET_ValidityRight')\n",
        "plt.xlabel('Validity')\n",
        "plt.ylabel('Count')\n",
        "\n",
        "plt.tight_layout()\n",
        "plt.show()"
      ]
    },
    {
      "cell_type": "markdown",
      "id": "400e000c",
      "metadata": {
        "id": "400e000c"
      },
      "source": [
        "# Notes & Observations\n",
        "\n",
        "- The `ET_ValidityLeft` and `ET_ValidityRight` columns indicate the validity of the eye-tracking data for the left and right eye, respectively.\n",
        "- Based on the value counts and the bar plots, it appears that a value of `0.0` represents valid eye-tracking data, while a value of `4.0` represents invalid data.\n",
        "- Although the amount of invalid data is relatively small, removing these rows could introduce unwanted patterns or gaps in the time series data.\n",
        "- Therefore, we will keep the data and replace the value `4.0` with `1.0` in both `ET_ValidityLeft` and `ET_ValidityRight` columns. This will indicate to a machine learning model that the eye tracker had invalid data at those specific points in time while maintaining the integrity of the time series."
      ]
    },
    {
      "cell_type": "markdown",
      "id": "959bd1b1",
      "metadata": {
        "id": "959bd1b1"
      },
      "source": [
        "Define a mapping to convert validity values from `0.0` and `4.0` to `0` and `1`."
      ]
    },
    {
      "cell_type": "code",
      "execution_count": null,
      "id": "e9d1d156",
      "metadata": {
        "id": "e9d1d156"
      },
      "outputs": [],
      "source": [
        "validity_map = {4.0: 1.0, 0.0: 0.0}"
      ]
    },
    {
      "cell_type": "code",
      "execution_count": null,
      "id": "c8a6fe4c",
      "metadata": {
        "id": "c8a6fe4c"
      },
      "outputs": [],
      "source": [
        "df_6_EYE['ET_ValidityLeft'] = df_6_EYE['ET_ValidityLeft'].map(validity_map).astype(np.int8)\n",
        "df_6_EYE['ET_ValidityRight'] = df_6_EYE['ET_ValidityRight'].map(validity_map).astype(np.int8)"
      ]
    },
    {
      "cell_type": "code",
      "execution_count": null,
      "id": "23a17b39",
      "metadata": {
        "id": "23a17b39"
      },
      "outputs": [],
      "source": [
        "df_6_EYE.head(3)"
      ]
    },
    {
      "cell_type": "code",
      "execution_count": null,
      "id": "1714d48c",
      "metadata": {
        "id": "1714d48c"
      },
      "outputs": [],
      "source": [
        "df_6_EYE.describe()"
      ]
    },
    {
      "cell_type": "code",
      "execution_count": null,
      "id": "008d58b9",
      "metadata": {
        "id": "008d58b9",
        "colab": {
          "base_uri": "https://localhost:8080/"
        },
        "outputId": "933aaace-d0a1-40c6-d715-d56bb562a212"
      },
      "outputs": [
        {
          "output_type": "execute_result",
          "data": {
            "text/plain": [
              "(132818, 18)"
            ]
          },
          "metadata": {},
          "execution_count": 408
        }
      ],
      "source": [
        "df_6_EYE[df_6_EYE['ET_ValidityLeft'] == 1].shape"
      ]
    },
    {
      "cell_type": "code",
      "execution_count": null,
      "id": "0c22b5e4",
      "metadata": {
        "id": "0c22b5e4",
        "colab": {
          "base_uri": "https://localhost:8080/"
        },
        "outputId": "5f3de7ba-8356-4ee1-d739-97de7da33473"
      },
      "outputs": [
        {
          "output_type": "execute_result",
          "data": {
            "text/plain": [
              "(71659, 18)"
            ]
          },
          "metadata": {},
          "execution_count": 409
        }
      ],
      "source": [
        "df_6_EYE[df_6_EYE['ET_ValidityRight'] == 1].shape"
      ]
    },
    {
      "cell_type": "code",
      "execution_count": null,
      "id": "adc56152",
      "metadata": {
        "id": "adc56152",
        "colab": {
          "base_uri": "https://localhost:8080/"
        },
        "outputId": "4dc1c88e-56fd-4cb1-fb0c-6cfcd8953619"
      },
      "outputs": [
        {
          "output_type": "execute_result",
          "data": {
            "text/plain": [
              "0.8147243930267081"
            ]
          },
          "metadata": {},
          "execution_count": 410
        }
      ],
      "source": [
        "df_6_EYE[df_6_EYE['ET_ValidityLeft'] == 1].shape[0] / df_6_EYE.shape[0]"
      ]
    },
    {
      "cell_type": "code",
      "execution_count": null,
      "id": "d6bb8022",
      "metadata": {
        "id": "d6bb8022",
        "colab": {
          "base_uri": "https://localhost:8080/"
        },
        "outputId": "cf32131d-0b1f-419a-fc2f-90b786a1460b"
      },
      "outputs": [
        {
          "output_type": "execute_result",
          "data": {
            "text/plain": [
              "0.4395664388855492"
            ]
          },
          "metadata": {},
          "execution_count": 411
        }
      ],
      "source": [
        "df_6_EYE[df_6_EYE['ET_ValidityRight'] == 1].shape[0] / df_6_EYE.shape[0]"
      ]
    },
    {
      "cell_type": "code",
      "execution_count": null,
      "id": "eda2ddee",
      "metadata": {
        "id": "eda2ddee"
      },
      "outputs": [],
      "source": [
        "plt.figure(figsize=(18, 8))\n",
        "\n",
        "plt.subplot(1, 2, 1)\n",
        "sns.heatmap(df_6_EYE == -1, cmap='viridis')\n",
        "plt.title('Heatmap of -1 Values')\n",
        "\n",
        "plt.subplot(1, 2, 2)\n",
        "sns.heatmap(df_6_EYE == 1, cmap='viridis')\n",
        "plt.title('Heatmap of 1 Values')\n",
        "\n",
        "plt.tight_layout()\n",
        "plt.show()"
      ]
    },
    {
      "cell_type": "code",
      "execution_count": null,
      "id": "9c5c679f",
      "metadata": {
        "id": "9c5c679f",
        "colab": {
          "base_uri": "https://localhost:8080/"
        },
        "outputId": "ebdc5396-fdcb-4ee0-f9b9-ba73537725de"
      },
      "outputs": [
        {
          "output_type": "execute_result",
          "data": {
            "text/plain": [
              "(149629, 18)"
            ]
          },
          "metadata": {},
          "execution_count": 413
        }
      ],
      "source": [
        "df_6_EYE[df_6_EYE['ET_PupilLeft'] == -1].shape"
      ]
    },
    {
      "cell_type": "code",
      "execution_count": null,
      "id": "1b2c04de",
      "metadata": {
        "id": "1b2c04de",
        "colab": {
          "base_uri": "https://localhost:8080/"
        },
        "outputId": "5866d951-2a97-4c5e-83e4-ac6f0fdbec91"
      },
      "outputs": [
        {
          "output_type": "execute_result",
          "data": {
            "text/plain": [
              "(125558, 18)"
            ]
          },
          "metadata": {},
          "execution_count": 414
        }
      ],
      "source": [
        "df_6_EYE[df_6_EYE['ET_PupilRight'] == -1].shape"
      ]
    },
    {
      "cell_type": "code",
      "execution_count": null,
      "id": "62511a15",
      "metadata": {
        "id": "62511a15",
        "colab": {
          "base_uri": "https://localhost:8080/"
        },
        "outputId": "e528a646-a5f2-47df-fa24-5563d54deb5f"
      },
      "outputs": [
        {
          "output_type": "execute_result",
          "data": {
            "text/plain": [
              "0.917845444173179"
            ]
          },
          "metadata": {},
          "execution_count": 415
        }
      ],
      "source": [
        "df_6_EYE[df_6_EYE['ET_PupilLeft'] == -1].shape[0] / df_6_EYE.shape[0]"
      ]
    },
    {
      "cell_type": "code",
      "execution_count": null,
      "id": "a183921f",
      "metadata": {
        "id": "a183921f",
        "colab": {
          "base_uri": "https://localhost:8080/"
        },
        "outputId": "44649c98-3f90-451b-c8db-938a967c49ac"
      },
      "outputs": [
        {
          "output_type": "execute_result",
          "data": {
            "text/plain": [
              "0.7701905264320154"
            ]
          },
          "metadata": {},
          "execution_count": 416
        }
      ],
      "source": [
        "df_6_EYE[df_6_EYE['ET_PupilRight'] == -1].shape[0] / df_6_EYE.shape[0]"
      ]
    },
    {
      "cell_type": "code",
      "execution_count": null,
      "id": "04230213",
      "metadata": {
        "id": "04230213"
      },
      "outputs": [],
      "source": [
        "plt.figure(figsize=(18, 8))\n",
        "\n",
        "plt.subplot(1, 2, 1)\n",
        "sns.heatmap(df_6_EYE[df_6_EYE['ET_ValidityLeft'] == 1] == -1, cmap='viridis')\n",
        "plt.title('Heatmap of -1 Values')\n",
        "\n",
        "plt.subplot(1, 2, 2)\n",
        "sns.heatmap(df_6_EYE[df_6_EYE['ET_ValidityRight'] == 1] == -1, cmap='viridis')\n",
        "plt.title('Heatmap of -1 Values')\n",
        "\n",
        "plt.tight_layout()\n",
        "plt.show()"
      ]
    },
    {
      "cell_type": "markdown",
      "id": "07241ae1",
      "metadata": {
        "id": "07241ae1"
      },
      "source": [
        "# Notes & Observations\n",
        "\n",
        "- The heatmaps reveal the distribution of -1 values across different columns.\n",
        "- It is evident that the `-1` values are not randomly scattered but appear in specific columns, notably `ET_GazeLeftx`, `ET_GazeLefty`, `ET_GazeRightx`, `ET_GazeRighty`, `ET_PupilLeft`, `ET_PupilRight`, `ET_DistanceLeft`, `ET_DistanceRight`, `ET_CameraLeftX`, `ET_CameraLeftY`, `ET_CameraRightX`, and `ET_CameraRightY`.\n",
        "- These `-1` values often coincide with instances where `ET_ValidityLeft` or `ET_ValidityRight` is 1, indicating invalid eye-tracking data. This suggests that `-1` is used as a placeholder for missing or invalid measurements in these columns when the eye tracker is not providing valid data for a particular eye.\n",
        "- Given that over 70% of the data in the `ET_PupilLeft` and `ET_PupilRight` columns is marked as invalid (-1), so instead of dropping them we can create new feature for both the `ET_PupilLeft` and `ET_PupilRight` to represent which row consist invalid `ET_PupilLeft` and `ET_PupilRight` data"
      ]
    },
    {
      "cell_type": "code",
      "execution_count": null,
      "id": "97ed88f3",
      "metadata": {
        "id": "97ed88f3"
      },
      "outputs": [],
      "source": [
        "pupil_validity = {-1: 1 }"
      ]
    },
    {
      "cell_type": "code",
      "execution_count": null,
      "id": "22fffe90",
      "metadata": {
        "id": "22fffe90"
      },
      "outputs": [],
      "source": [
        "df_6_EYE['ET_PupilLeft_validity'] = df_6_EYE['ET_PupilLeft'].map(pupil_validity)"
      ]
    },
    {
      "cell_type": "code",
      "execution_count": null,
      "id": "c35df0c8",
      "metadata": {
        "id": "c35df0c8"
      },
      "outputs": [],
      "source": [
        "df_6_EYE['ET_PupilRight_validity'] = df_6_EYE['ET_PupilRight'].map(pupil_validity)"
      ]
    },
    {
      "cell_type": "code",
      "execution_count": null,
      "id": "807f1339",
      "metadata": {
        "id": "807f1339"
      },
      "outputs": [],
      "source": [
        "df_6_EYE[['ET_PupilLeft_validity', 'ET_PupilRight_validity']].head()"
      ]
    },
    {
      "cell_type": "code",
      "execution_count": null,
      "id": "b35a78dd",
      "metadata": {
        "id": "b35a78dd",
        "colab": {
          "base_uri": "https://localhost:8080/"
        },
        "outputId": "ced499f7-ec31-4828-b1e0-578174b5610b"
      },
      "outputs": [
        {
          "output_type": "execute_result",
          "data": {
            "text/plain": [
              "ET_PupilLeft_validity     13393\n",
              "ET_PupilRight_validity    37464\n",
              "dtype: int64"
            ]
          },
          "metadata": {},
          "execution_count": 422
        }
      ],
      "source": [
        "df_6_EYE[['ET_PupilLeft_validity', 'ET_PupilRight_validity']].isnull().sum()"
      ]
    },
    {
      "cell_type": "code",
      "execution_count": null,
      "id": "a862567e",
      "metadata": {
        "id": "a862567e"
      },
      "outputs": [],
      "source": [
        "plt.figure(figsize=(18, 8))\n",
        "sns.heatmap(df_6_EYE[['ET_PupilLeft_validity', 'ET_PupilRight_validity']].isnull(), cmap='viridis')\n",
        "plt.show()"
      ]
    },
    {
      "cell_type": "code",
      "execution_count": null,
      "id": "e4d79f73",
      "metadata": {
        "id": "e4d79f73"
      },
      "outputs": [],
      "source": [
        "df_6_EYE['ET_PupilLeft_validity'] = df_6_EYE['ET_PupilLeft_validity'].fillna(0)"
      ]
    },
    {
      "cell_type": "code",
      "execution_count": null,
      "id": "35cb9ed5",
      "metadata": {
        "id": "35cb9ed5"
      },
      "outputs": [],
      "source": [
        "df_6_EYE['ET_PupilRight_validity'] = df_6_EYE['ET_PupilRight_validity'].fillna(0)"
      ]
    },
    {
      "cell_type": "code",
      "execution_count": null,
      "id": "d8c703a3",
      "metadata": {
        "id": "d8c703a3"
      },
      "outputs": [],
      "source": [
        "df_6_EYE[['ET_PupilLeft_validity', 'ET_PupilRight_validity']].head()"
      ]
    },
    {
      "cell_type": "code",
      "execution_count": null,
      "id": "d6b8045f",
      "metadata": {
        "id": "d6b8045f"
      },
      "outputs": [],
      "source": [
        "plt.figure(figsize=(18, 8))\n",
        "sns.heatmap(df_6_EYE[['ET_PupilLeft_validity', 'ET_PupilRight_validity']].isnull(), cmap='viridis')\n",
        "plt.show()"
      ]
    },
    {
      "cell_type": "code",
      "execution_count": null,
      "id": "cad43fbb",
      "metadata": {
        "id": "cad43fbb"
      },
      "outputs": [],
      "source": [
        "df_6_EYE.head()"
      ]
    },
    {
      "cell_type": "code",
      "execution_count": null,
      "id": "abfd8663",
      "metadata": {
        "id": "abfd8663"
      },
      "outputs": [],
      "source": [
        "plt.figure(figsize=(18, 8))\n",
        "\n",
        "plt.subplot(1, 2, 1)\n",
        "sns.heatmap(df_6_EYE == -1, cmap='viridis')\n",
        "plt.title('Heatmap of -1 Values')\n",
        "\n",
        "plt.subplot(1, 2, 2)\n",
        "sns.heatmap(df_6_EYE == 1, cmap='viridis')\n",
        "plt.title('Heatmap of -1 Values')\n",
        "\n",
        "plt.tight_layout()\n",
        "plt.show()"
      ]
    },
    {
      "cell_type": "code",
      "execution_count": null,
      "id": "1d7c795d",
      "metadata": {
        "id": "1d7c795d"
      },
      "outputs": [],
      "source": [
        "valid_left_ratio  = 1 - df_6_EYE['ET_ValidityLeft'].mean()"
      ]
    },
    {
      "cell_type": "code",
      "execution_count": null,
      "id": "074bd1cd",
      "metadata": {
        "id": "074bd1cd",
        "colab": {
          "base_uri": "https://localhost:8080/"
        },
        "outputId": "6630d7a2-8a9c-40a4-c548-dcfd689e56b5"
      },
      "outputs": [
        {
          "output_type": "execute_result",
          "data": {
            "text/plain": [
              "np.float64(0.18527560697329193)"
            ]
          },
          "metadata": {},
          "execution_count": 431
        }
      ],
      "source": [
        "valid_left_ratio"
      ]
    },
    {
      "cell_type": "code",
      "execution_count": null,
      "id": "9e8ae0d1",
      "metadata": {
        "id": "9e8ae0d1"
      },
      "outputs": [],
      "source": [
        "valid_right_ratio = 1 - df_6_EYE['ET_ValidityRight'].mean()"
      ]
    },
    {
      "cell_type": "code",
      "execution_count": null,
      "id": "03f90d42",
      "metadata": {
        "id": "03f90d42",
        "colab": {
          "base_uri": "https://localhost:8080/"
        },
        "outputId": "f4b2a22c-f647-4f86-9f26-eff5a77b429b"
      },
      "outputs": [
        {
          "output_type": "execute_result",
          "data": {
            "text/plain": [
              "np.float64(0.5604335611144509)"
            ]
          },
          "metadata": {},
          "execution_count": 433
        }
      ],
      "source": [
        "valid_right_ratio"
      ]
    },
    {
      "cell_type": "code",
      "execution_count": null,
      "id": "de1a83cb",
      "metadata": {
        "id": "de1a83cb"
      },
      "outputs": [],
      "source": [
        "df_6_EYE['ET_PupilLeft_validity'] = df_6_EYE['ET_PupilLeft_validity'].astype(np.int8)\n",
        "df_6_EYE['ET_PupilRight_validity'] = df_6_EYE['ET_PupilRight_validity'].astype(np.int8)"
      ]
    },
    {
      "cell_type": "markdown",
      "id": "3f8b7022",
      "metadata": {
        "id": "3f8b7022"
      },
      "source": [
        "# Feature Engineering and Observations\n",
        "\n",
        "Based on the analysis of the data, we've created two new features, `ET_PupilLeft_validity` and `ET_PupilRight_validity`. These features indicate the validity of the pupil data for the left and right eyes, respectively, with a value of 1 representing invalid data (originally -1) and 0 representing valid data.\n",
        "\n",
        "The heatmaps above visually demonstrate the distribution of -1 and 1 values across the dataset. We observed that:\n",
        "- The `-1` values are concentrated in specific columns related to gaze, pupil size, distance, and camera position, suggesting they represent missing or invalid sensor readings.\n",
        "- The `1` values, after mapping from `4.0` in the original validity columns, indicate instances of invalid eye-tracking data.\n",
        "- The heatmaps also show a strong correlation between the `-1` values in the pupil columns and a validity of 1 in the newly created pupil validity features, confirming that -1 was used to mark invalid pupil data."
      ]
    },
    {
      "cell_type": "code",
      "execution_count": null,
      "id": "fef7ad44",
      "metadata": {
        "id": "fef7ad44"
      },
      "outputs": [],
      "source": [
        "df_6_EYE.head()"
      ]
    },
    {
      "cell_type": "code",
      "execution_count": null,
      "id": "51ec82cc",
      "metadata": {
        "id": "51ec82cc"
      },
      "outputs": [],
      "source": [
        "# Select only the numeric columns for plotting histograms, excluding time-related columns\n",
        "numeric_cols = df_6_EYE.select_dtypes(include=np.number).columns\n",
        "cols_to_plot = [col for col in numeric_cols if col not in ['UnixTime']]\n",
        "\n",
        "# Calculate the number of rows and columns for the grid\n",
        "n_cols = 4  # You can adjust the number of columns as needed\n",
        "n_rows = (len(cols_to_plot) + n_cols - 1) // n_cols\n",
        "\n",
        "plt.figure(figsize=(n_cols * 5, n_rows * 4)) # Adjust figure size as needed\n",
        "\n",
        "for i, col in enumerate(cols_to_plot):\n",
        "    plt.subplot(n_rows, n_cols, i + 1)\n",
        "    sns.histplot(df_6_EYE[col], kde=True)\n",
        "    plt.title(f'Distribution of {col}')\n",
        "    plt.xlabel(col)\n",
        "    plt.ylabel('Frequency')\n",
        "\n",
        "plt.tight_layout()\n",
        "plt.show()"
      ]
    },
    {
      "cell_type": "markdown",
      "id": "088e23d2",
      "metadata": {
        "id": "088e23d2"
      },
      "source": [
        "# Observations from Histograms\n",
        "\n",
        "The grid of histograms provides insights into the distribution of values for each numeric column in the dataset (excluding 'UnixTime'). Key observations include:\n",
        "\n",
        "- Several columns, such as `ET_GazeLeftx`, `ET_GazeLefty`, `ET_GazeRightx`, and `ET_GazeRighty`, show distributions that appear somewhat multimodal or skewed, suggesting variations in gaze patterns.\n",
        "- The `ET_PupilLeft` and `ET_PupilRight` histograms clearly show a peak at -1, confirming the presence of a significant number of invalid pupil readings.\n",
        "- `ET_TimeSignal` shows a relatively uniform distribution, as expected for a time-based signal.\n",
        "- `ET_DistanceLeft` and `ET_DistanceRight` appear to have distributions centered around certain values, with some outliers or variations.\n",
        "- The camera position columns (`ET_CameraLeftX`, `ET_CameraLeftY`, `ET_CameraRightX`, `ET_CameraRightY`) seem to have distributions concentrated within specific ranges, reflecting the camera's field of view.\n",
        "- The validity columns (`ET_ValidityLeft`, `ET_ValidityRight`, `ET_PupilLeft_validity`, `ET_PupilRight_validity`) show distributions dominated by 0, indicating that most of the data is considered valid after the mapping. The smaller peaks at 1 represent the instances of invalid data.\n",
        "\n",
        "These distributions highlight the need for appropriate handling of the -1 values and potential outliers in subsequent analysis or modeling steps."
      ]
    },
    {
      "cell_type": "code",
      "execution_count": null,
      "id": "e2c77d9a",
      "metadata": {
        "id": "e2c77d9a",
        "colab": {
          "base_uri": "https://localhost:8080/"
        },
        "outputId": "b24ab973-e349-496d-acd5-c79e1a0b0f17"
      },
      "outputs": [
        {
          "output_type": "execute_result",
          "data": {
            "text/plain": [
              "Index(['UnixTime', 'QuestionKey', 'Timestamp', 'ET_GazeLeftx', 'ET_GazeLefty',\n",
              "       'ET_GazeRightx', 'ET_GazeRighty', 'ET_PupilLeft', 'ET_PupilRight',\n",
              "       'ET_TimeSignal', 'ET_DistanceLeft', 'ET_DistanceRight',\n",
              "       'ET_CameraLeftX', 'ET_CameraLeftY', 'ET_CameraRightX',\n",
              "       'ET_CameraRightY', 'ET_ValidityLeft', 'ET_ValidityRight',\n",
              "       'ET_PupilLeft_validity', 'ET_PupilRight_validity'],\n",
              "      dtype='object')"
            ]
          },
          "metadata": {},
          "execution_count": 437
        }
      ],
      "source": [
        "df_6_EYE.columns"
      ]
    },
    {
      "cell_type": "code",
      "execution_count": null,
      "id": "7dd05a52",
      "metadata": {
        "id": "7dd05a52"
      },
      "outputs": [],
      "source": [
        "cols = ['ET_GazeLeftx', 'ET_GazeLefty',\n",
        "       'ET_GazeRightx', 'ET_GazeRighty', 'ET_PupilLeft', 'ET_PupilRight',\n",
        "       'ET_TimeSignal', 'ET_DistanceLeft', 'ET_DistanceRight',\n",
        "       'ET_CameraLeftX', 'ET_CameraLeftY', 'ET_CameraRightX',\n",
        "       'ET_CameraRightY', 'ET_ValidityLeft', 'ET_ValidityRight',\n",
        "       'ET_PupilLeft_validity', 'ET_PupilRight_validity']"
      ]
    },
    {
      "cell_type": "code",
      "execution_count": null,
      "id": "e73dd464",
      "metadata": {
        "id": "e73dd464"
      },
      "outputs": [],
      "source": [
        "from IPython.display import display, Markdown\n",
        "\n",
        "for col in cols:\n",
        "    # Add a markdown cell before each plot for better separation and labeling\n",
        "    display(Markdown(f'### {col} over Time'))\n",
        "    plt.figure(figsize=(16, 10))\n",
        "    plt.plot(df_6_EYE['Timestamp'], df_6_EYE[col])\n",
        "    plt.xlabel(\"Timestamp\") # Add x-axis label\n",
        "    plt.ylabel(col) # Add y-axis label\n",
        "    plt.show()"
      ]
    },
    {
      "cell_type": "markdown",
      "id": "10612edf",
      "metadata": {
        "id": "10612edf"
      },
      "source": [
        "# Observations from Time Series Plots\n",
        "\n",
        "The line plots showing various features against the `Timestamp` reveal the temporal patterns and fluctuations in the eye-tracking data. Key observations include:\n",
        "\n",
        "- **Gaze Coordinates (`ET_GazeLeftx`, `ET_GazeLefty`, `ET_GazeRightx`, `ET_GazeRighty`):** These plots show the changes in gaze position over time. We can observe periods of relatively stable gaze interspersed with rapid movements (saccades) and blinks or other events where the gaze data might be invalid (-1 values appear as gaps or spikes if not handled).\n",
        "- **Pupil Size (`ET_PupilLeft`, `ET_PupilRight`):** The pupil size plots show variations over time. The presence of many -1 values is evident as flat lines at the bottom of the plot, indicating periods where pupil data was not recorded or was invalid.\n",
        "- **Time Signal (`ET_TimeSignal`):** This plot shows a steady, increasing trend, as expected for a time-based signal.\n",
        "- **Distance and Camera Position (`ET_DistanceLeft`, `ET_DistanceRight`, `ET_CameraLeftX`, `ET_CameraLeftY`, `ET_CameraRightX`, `ET_CameraRightY`):** These plots show how the distance from the eye tracker and the camera positions change over time. Variations in these features can be related to head movements or changes in the user's position relative to the eye tracker.\n",
        "- **Validity (`ET_ValidityLeft`, `ET_ValidityRight`, `ET_PupilLeft_validity`, `ET_PupilRight_validity`):** These plots clearly show periods of invalid data (represented by 1) as spikes or plateaus, corresponding to instances where the eye tracker lost track of the eyes or the pupil data was marked as invalid.\n",
        "\n",
        "Analyzing these time series plots is crucial for understanding the dynamics of the eye-tracking data and identifying patterns or anomalies that may require further investigation or specific handling during subsequent analysis."
      ]
    },
    {
      "cell_type": "code",
      "execution_count": null,
      "id": "52e91f9b",
      "metadata": {
        "id": "52e91f9b"
      },
      "outputs": [],
      "source": [
        "# Select only the numeric columns for plotting histograms, excluding time-related columns\n",
        "numeric_cols = df_6_EYE.select_dtypes(include=np.number).columns\n",
        "\n",
        "# Calculate the number of rows and columns for the grid\n",
        "n_cols = 4  # You can adjust the number of columns as needed\n",
        "n_rows = (len(numeric_cols) + n_cols - 1) // n_cols\n",
        "\n",
        "plt.figure(figsize=(n_cols * 5, n_rows * 4)) # Adjust figure size as needed\n",
        "\n",
        "for i, col in enumerate(numeric_cols):\n",
        "    plt.subplot(n_rows, n_cols, i + 1)\n",
        "    sns.boxplot(df_6_EYE[col])\n",
        "    plt.title(f'Boxplot of {col}')\n",
        "    plt.xlabel(col)\n",
        "\n",
        "plt.tight_layout()\n",
        "plt.show()"
      ]
    },
    {
      "cell_type": "markdown",
      "id": "acb6fdd9",
      "metadata": {
        "id": "acb6fdd9"
      },
      "source": [
        "# Observations from Boxplots and Handling -1 Values\n",
        "\n",
        "The boxplots provide a visual summary of the distribution and potential outliers for each numeric column. Key observations from the boxplots include:\n",
        "\n",
        "- The boxplots for columns like `ET_GazeLeftx`, `ET_GazeLefty`, `ET_GazeRightx`, `ET_GazeRighty`, `ET_PupilLeft`, `ET_PupilRight`, `ET_DistanceLeft`, `ET_DistanceRight`, `ET_CameraLeftX`, `ET_CameraLeftY`, `ET_CameraRightX`, and `ET_CameraRightY` clearly show the presence of -1 values as significant outliers, confirming our earlier observations from the heatmaps and histograms.\n",
        "- The boxplots for the validity columns (`ET_ValidityLeft`, `ET_ValidityRight`, `ET_PupilLeft_validity`, `ET_PupilRight_validity`) show the discrete nature of these features, with the majority of data points at 0 (valid) and a smaller number at 1 (invalid).\n",
        "\n",
        "Given the significant presence of -1 values, which represent invalid or missing data, especially in the pupil-related columns, we have decided to replace these -1 values with NaN to properly represent them as missing data. Subsequently, we will impute these missing values using the mean of each respective column. This approach helps to retain the data structure and allows for further analysis or modeling without the distortion caused by the -1 placeholders."
      ]
    },
    {
      "cell_type": "code",
      "execution_count": null,
      "id": "762fced8",
      "metadata": {
        "id": "762fced8"
      },
      "outputs": [],
      "source": [
        "df_6_EYE.replace({-1: np.nan}, inplace=True)"
      ]
    },
    {
      "cell_type": "code",
      "execution_count": null,
      "id": "eb83ae39",
      "metadata": {
        "id": "eb83ae39",
        "colab": {
          "base_uri": "https://localhost:8080/"
        },
        "outputId": "878d5100-b3ae-408b-884c-500a76204db8"
      },
      "outputs": [
        {
          "output_type": "execute_result",
          "data": {
            "text/plain": [
              "ET_GazeLeftx                1220.524959\n",
              "ET_GazeLefty                 556.372873\n",
              "ET_GazeRightx                945.450128\n",
              "ET_GazeRighty                553.814260\n",
              "ET_PupilLeft                   3.365516\n",
              "ET_PupilRight                  4.173422\n",
              "ET_TimeSignal             679187.904343\n",
              "ET_DistanceLeft              722.895834\n",
              "ET_DistanceRight             721.078992\n",
              "ET_CameraLeftX                 0.557358\n",
              "ET_CameraLeftY                 0.481044\n",
              "ET_CameraRightX                0.419494\n",
              "ET_CameraRightY                0.473386\n",
              "ET_ValidityLeft                0.814724\n",
              "ET_ValidityRight               0.439566\n",
              "ET_PupilLeft_validity          0.917845\n",
              "ET_PupilRight_validity         0.770191\n",
              "dtype: float64"
            ]
          },
          "metadata": {},
          "execution_count": 442
        }
      ],
      "source": [
        "df_6_EYE[['ET_GazeLeftx', 'ET_GazeLefty',\n",
        "       'ET_GazeRightx', 'ET_GazeRighty', 'ET_PupilLeft', 'ET_PupilRight',\n",
        "       'ET_TimeSignal', 'ET_DistanceLeft', 'ET_DistanceRight',\n",
        "       'ET_CameraLeftX', 'ET_CameraLeftY', 'ET_CameraRightX',\n",
        "       'ET_CameraRightY', 'ET_ValidityLeft', 'ET_ValidityRight',\n",
        "       'ET_PupilLeft_validity', 'ET_PupilRight_validity']].mean()"
      ]
    },
    {
      "cell_type": "code",
      "execution_count": null,
      "id": "e61118e8",
      "metadata": {
        "id": "e61118e8",
        "colab": {
          "base_uri": "https://localhost:8080/"
        },
        "outputId": "72d7f22e-2c50-4489-cb83-b4077219e46d"
      },
      "outputs": [
        {
          "output_type": "execute_result",
          "data": {
            "text/plain": [
              "ET_GazeLeftx                1350.000000\n",
              "ET_GazeLefty                 560.000000\n",
              "ET_GazeRightx                952.000000\n",
              "ET_GazeRighty                537.000000\n",
              "ET_PupilLeft                   3.386887\n",
              "ET_PupilRight                  4.230110\n",
              "ET_TimeSignal             679081.672500\n",
              "ET_DistanceLeft              721.861633\n",
              "ET_DistanceRight             721.680786\n",
              "ET_CameraLeftX                 0.558230\n",
              "ET_CameraLeftY                 0.480019\n",
              "ET_CameraRightX                0.420204\n",
              "ET_CameraRightY                0.473129\n",
              "ET_ValidityLeft                1.000000\n",
              "ET_ValidityRight               0.000000\n",
              "ET_PupilLeft_validity          1.000000\n",
              "ET_PupilRight_validity         1.000000\n",
              "dtype: float64"
            ]
          },
          "metadata": {},
          "execution_count": 443
        }
      ],
      "source": [
        "df_6_EYE[['ET_GazeLeftx', 'ET_GazeLefty',\n",
        "       'ET_GazeRightx', 'ET_GazeRighty', 'ET_PupilLeft', 'ET_PupilRight',\n",
        "       'ET_TimeSignal', 'ET_DistanceLeft', 'ET_DistanceRight',\n",
        "       'ET_CameraLeftX', 'ET_CameraLeftY', 'ET_CameraRightX',\n",
        "       'ET_CameraRightY', 'ET_ValidityLeft', 'ET_ValidityRight',\n",
        "       'ET_PupilLeft_validity', 'ET_PupilRight_validity']].median()"
      ]
    },
    {
      "cell_type": "code",
      "execution_count": null,
      "id": "6c29b5d1",
      "metadata": {
        "id": "6c29b5d1"
      },
      "outputs": [],
      "source": [
        "numeric_cols = df_6_EYE.select_dtypes(include=np.number).columns\n",
        "\n",
        "for col in numeric_cols:\n",
        "    df_6_EYE[col] = df_6_EYE[col].fillna(df_6_EYE[col].mean())"
      ]
    },
    {
      "cell_type": "code",
      "execution_count": null,
      "id": "2de4628d",
      "metadata": {
        "id": "2de4628d"
      },
      "outputs": [],
      "source": [
        "plt.figure(figsize=(18, 8))\n",
        "\n",
        "plt.subplot(1, 2, 1)\n",
        "sns.heatmap(df_6_EYE.isnull(), cmap='viridis')\n",
        "plt.title('Heatmap of Missing Values After Imputation')\n",
        "\n",
        "plt.subplot(1, 2, 2)\n",
        "sns.heatmap(df_6_EYE == 1, cmap='viridis')\n",
        "plt.title('Heatmap of 1 Values')\n",
        "\n",
        "plt.tight_layout()\n",
        "plt.show()"
      ]
    },
    {
      "cell_type": "markdown",
      "id": "e1cf27be",
      "metadata": {
        "id": "e1cf27be"
      },
      "source": [
        "# Handling Missing Values (Imputation)\n",
        "\n",
        "As decided, we have replaced all the `-1` values with `NaN` to treat them as missing data. Subsequently, we have imputed these `NaN` values with the mean of their respective columns. The heatmap above, which was generated after the imputation, now shows no visible signs of `NaN` values, indicating that the imputation was successful."
      ]
    },
    {
      "cell_type": "code",
      "execution_count": null,
      "id": "5008580d",
      "metadata": {
        "id": "5008580d"
      },
      "outputs": [],
      "source": [
        "df_6_EYE.head()"
      ]
    },
    {
      "cell_type": "code",
      "execution_count": null,
      "id": "906af03e",
      "metadata": {
        "id": "906af03e"
      },
      "outputs": [],
      "source": [
        "# Select only the numeric columns for plotting histograms, excluding time-related columns\n",
        "numeric_cols = df_6_EYE.select_dtypes(include=np.number).columns\n",
        "cols_to_plot = [col for col in numeric_cols if col not in ['UnixTime']]\n",
        "\n",
        "# Calculate the number of rows and columns for the grid\n",
        "n_cols = 4  # You can adjust the number of columns as needed\n",
        "n_rows = (len(cols_to_plot) + n_cols - 1) // n_cols\n",
        "\n",
        "plt.figure(figsize=(n_cols * 5, n_rows * 4)) # Adjust figure size as needed\n",
        "\n",
        "for i, col in enumerate(cols_to_plot):\n",
        "    plt.subplot(n_rows, n_cols, i + 1)\n",
        "    sns.histplot(df_6_EYE[col], kde=True)\n",
        "    plt.title(f'Distribution of {col}')\n",
        "    plt.xlabel(col)\n",
        "    plt.ylabel('Frequency')\n",
        "\n",
        "plt.tight_layout()\n",
        "plt.show()"
      ]
    },
    {
      "cell_type": "markdown",
      "id": "6607f7c6",
      "metadata": {
        "id": "6607f7c6"
      },
      "source": [
        "# Observations from Histograms After Imputation\n",
        "\n",
        "The histograms generated after replacing the -1 values with the mean of each column show the distributions of the numeric features with the missing data handled. Key observations from these updated histograms include:\n",
        "\n",
        "- The distinct peaks at -1, which were prominent in the histograms for several columns (e.g., pupil size, gaze coordinates, distance, and camera position) before imputation, are now replaced by a peak at the mean of each respective column.\n",
        "- The distributions in many columns now appear more unimodal or show shifted modes compared to the original histograms.\n",
        "- The histograms for the validity columns still show their bimodal distributions with peaks at 0 and 1, as these were handled separately.\n",
        "\n",
        "These histograms provide an updated view of the data's distribution after handling the missing values, highlighting the impact of the imputation method on the data's characteristics."
      ]
    },
    {
      "cell_type": "code",
      "execution_count": null,
      "id": "1f6b7fed",
      "metadata": {
        "id": "1f6b7fed"
      },
      "outputs": [],
      "source": [
        "cols = ['ET_GazeLeftx', 'ET_GazeLefty',\n",
        "       'ET_GazeRightx', 'ET_GazeRighty', 'ET_PupilLeft', 'ET_PupilRight',\n",
        "       'ET_TimeSignal', 'ET_DistanceLeft', 'ET_DistanceRight',\n",
        "       'ET_CameraLeftX', 'ET_CameraLeftY', 'ET_CameraRightX',\n",
        "       'ET_CameraRightY', 'ET_ValidityLeft', 'ET_ValidityRight',\n",
        "       'ET_PupilLeft_validity', 'ET_PupilRight_validity']"
      ]
    },
    {
      "cell_type": "code",
      "execution_count": null,
      "id": "00181e11",
      "metadata": {
        "id": "00181e11"
      },
      "outputs": [],
      "source": [
        "for col in cols:\n",
        "    # Add a markdown cell before each plot for better separation and labeling\n",
        "    display(Markdown(f'### {col} over Time'))\n",
        "    plt.figure(figsize=(16, 10))\n",
        "    plt.plot(df_6_EYE['Timestamp'], df_6_EYE[col])\n",
        "    plt.xlabel(\"Timestamp\") # Add x-axis label\n",
        "    plt.ylabel(col) # Add y-axis label\n",
        "    plt.show()"
      ]
    },
    {
      "cell_type": "markdown",
      "id": "420084d5",
      "metadata": {
        "id": "420084d5"
      },
      "source": [
        "# Observations from Time Series Plots After Imputation\n",
        "\n",
        "The line plots generated after imputing the missing values with the mean show the temporal patterns of the features with the missing data handled. Key observations from these updated plots include:\n",
        "\n",
        "- The gaps or flat lines at -1, which were prominent in the plots for columns like gaze coordinates, pupil size, distance, and camera position, are now filled by lines at the mean value of the respective columns.\n",
        "- The plots for the validity columns remain the same as they were handled separately.\n",
        "- The `ET_TimeSignal` plot still shows a steady increasing trend, as expected."
      ]
    },
    {
      "cell_type": "code",
      "execution_count": null,
      "id": "34001dd9",
      "metadata": {
        "id": "34001dd9"
      },
      "outputs": [],
      "source": [
        "plt.figure(figsize=(16, 10))\n",
        "sns.heatmap(df_6_EYE.corr(numeric_only=True), cmap='YlGnBu', annot=True)\n",
        "plt.show()"
      ]
    },
    {
      "cell_type": "markdown",
      "id": "a00239cb",
      "metadata": {
        "id": "a00239cb"
      },
      "source": [
        "# Observations from Correlation Heatmap\n",
        "\n",
        "The correlation heatmap provides a visual representation of the pairwise correlations between the numeric columns in the dataset. Key observations from the heatmap include:\n",
        "\n",
        "- **High Positive Correlations:** We observe strong positive correlations (values close to 1) between:\n",
        "  - `ET_GazeLeftx` and `ET_GazeRightx`: This is expected as the gaze positions of both eyes should be highly correlated when fixating on a point.\n",
        "  - `ET_GazeLefty` and `ET_GazeRighty`: Similar to the x-coordinates, the y-coordinates of gaze should also be highly correlated.\n",
        "  - `ET_PupilLeft` and `ET_PupilRight`: Pupil sizes of both eyes tend to change together in response to light and cognitive load.\n",
        "  - `ET_DistanceLeft` and `ET_DistanceRight`: The distance from the eye tracker to each eye should be highly correlated.\n",
        "  - `ET_CameraLeftX` and `ET_CameraRightX`, `ET_CameraLeftY` and `ET_CameraRightY`: The camera positions for both eyes are also expected to be highly correlated.\n",
        "  - `UnixTime` and `ET_TimeSignal`: As previously noted, these two columns are almost perfectly linearly correlated, indicating redundancy.\n",
        "  - `ET_ValidityLeft` and `ET_PupilLeft_validity`: There is a positive correlation, suggesting that when the overall left eye data is invalid, the left pupil data is also likely to be invalid.\n",
        "  - `ET_ValidityRight` and `ET_PupilRight_validity`: Similar to the left eye, there is a positive correlation between the overall right eye validity and the right pupil validity.\n",
        "- **Other Correlations:** We can also observe other varying degrees of correlations between different features, which can provide insights into the relationships between gaze behavior, pupil size, distance, and camera position. For example, there might be correlations between gaze coordinates and camera positions, reflecting head movements.\n",
        "- **Low or Near-Zero Correlations:** Columns with low or near-zero correlations are relatively independent of each other.\n",
        "\n",
        "Understanding these correlations is important for feature selection and for building models, as highly correlated features might indicate multicollinearity, while correlations between features can reveal underlying patterns in the data."
      ]
    },
    {
      "cell_type": "markdown",
      "id": "8eab47b8",
      "metadata": {
        "id": "8eab47b8"
      },
      "source": [
        "# Analysis of ET_TimeSignal and Decision to Drop\n",
        "\n",
        "As observed in the time series plot and confirmed by the correlation heatmap, the `ET_TimeSignal` column exhibits a near-perfect linear relationship with both the `Timestamp` and `UnixTime` columns. This strong correlation (close to 1) suggests that `ET_TimeSignal` is essentially redundant and likely represents another form of time recording or a signal directly derived from the timestamp.\n",
        "\n",
        "Including highly correlated features like this in a dataset can lead to issues such as multicollinearity in some statistical models, which can make it difficult to interpret the individual impact of each feature. Since the `Timestamp` column already provides the necessary temporal information, retaining `ET_TimeSignal` does not appear to add significant value for further analysis or modeling in most cases.\n",
        "\n",
        "Therefore, based on its high correlation and lack of unique insight, we will proceed to drop the `ET_TimeSignal` column to simplify the dataset and potentially improve the performance and interpretability of future analyses."
      ]
    },
    {
      "cell_type": "code",
      "execution_count": null,
      "id": "3b474b2a",
      "metadata": {
        "id": "3b474b2a"
      },
      "outputs": [],
      "source": [
        "df_6_EYE.drop('ET_TimeSignal', axis=1, inplace=True)"
      ]
    },
    {
      "cell_type": "code",
      "execution_count": null,
      "id": "e769d0c5",
      "metadata": {
        "id": "e769d0c5"
      },
      "outputs": [],
      "source": [
        "plt.figure(figsize=(16, 10))\n",
        "sns.pairplot(df_6_EYE)\n",
        "plt.show()"
      ]
    },
    {
      "cell_type": "markdown",
      "id": "94faa7e1",
      "metadata": {
        "id": "94faa7e1"
      },
      "source": [
        "# **7_EYE**"
      ]
    },
    {
      "cell_type": "code",
      "execution_count": null,
      "id": "4b14858a",
      "metadata": {
        "id": "4b14858a"
      },
      "outputs": [],
      "source": [
        "df_7_EYE = pd.read_csv('data/STData/7/7_EYE.csv')"
      ]
    },
    {
      "cell_type": "code",
      "execution_count": null,
      "id": "3cc3706c",
      "metadata": {
        "id": "3cc3706c"
      },
      "outputs": [],
      "source": [
        "df_7_EYE.head()"
      ]
    },
    {
      "cell_type": "code",
      "execution_count": null,
      "id": "92ea0348",
      "metadata": {
        "id": "92ea0348",
        "colab": {
          "base_uri": "https://localhost:8080/"
        },
        "outputId": "b6c299d9-e767-4ded-a2b0-1a8f88b95a4c"
      },
      "outputs": [
        {
          "output_type": "execute_result",
          "data": {
            "text/plain": [
              "(130310, 19)"
            ]
          },
          "metadata": {},
          "execution_count": 455
        }
      ],
      "source": [
        "df_7_EYE.shape"
      ]
    },
    {
      "cell_type": "code",
      "execution_count": null,
      "id": "7268d9bc",
      "metadata": {
        "id": "7268d9bc",
        "colab": {
          "base_uri": "https://localhost:8080/"
        },
        "outputId": "8c4529aa-b3fd-4f80-eb47-555e7b921adf"
      },
      "outputs": [
        {
          "output_type": "execute_result",
          "data": {
            "text/plain": [
              "Index(['UnixTime', 'Row', 'QuestionKey', 'Timestamp', 'ET_GazeLeftx',\n",
              "       'ET_GazeLefty', 'ET_GazeRightx', 'ET_GazeRighty', 'ET_PupilLeft',\n",
              "       'ET_PupilRight', 'ET_TimeSignal', 'ET_DistanceLeft', 'ET_DistanceRight',\n",
              "       'ET_CameraLeftX', 'ET_CameraLeftY', 'ET_CameraRightX',\n",
              "       'ET_CameraRightY', 'ET_ValidityLeft', 'ET_ValidityRight'],\n",
              "      dtype='object')"
            ]
          },
          "metadata": {},
          "execution_count": 456
        }
      ],
      "source": [
        "df_7_EYE.columns"
      ]
    },
    {
      "cell_type": "code",
      "execution_count": null,
      "id": "28d24a1d",
      "metadata": {
        "id": "28d24a1d",
        "colab": {
          "base_uri": "https://localhost:8080/"
        },
        "outputId": "b495790e-0df6-4e2d-8d96-dcfb22775741"
      },
      "outputs": [
        {
          "output_type": "stream",
          "name": "stdout",
          "text": [
            "<class 'pandas.core.frame.DataFrame'>\n",
            "RangeIndex: 130310 entries, 0 to 130309\n",
            "Data columns (total 19 columns):\n",
            " #   Column            Non-Null Count   Dtype  \n",
            "---  ------            --------------   -----  \n",
            " 0   UnixTime          130310 non-null  float64\n",
            " 1   Row               130310 non-null  int64  \n",
            " 2   QuestionKey       61934 non-null   object \n",
            " 3   Timestamp         130310 non-null  object \n",
            " 4   ET_GazeLeftx      130306 non-null  float64\n",
            " 5   ET_GazeLefty      130306 non-null  float64\n",
            " 6   ET_GazeRightx     130306 non-null  float64\n",
            " 7   ET_GazeRighty     130306 non-null  float64\n",
            " 8   ET_PupilLeft      130306 non-null  float64\n",
            " 9   ET_PupilRight     130306 non-null  float64\n",
            " 10  ET_TimeSignal     130306 non-null  float64\n",
            " 11  ET_DistanceLeft   130306 non-null  float64\n",
            " 12  ET_DistanceRight  130306 non-null  float64\n",
            " 13  ET_CameraLeftX    130306 non-null  float64\n",
            " 14  ET_CameraLeftY    130306 non-null  float64\n",
            " 15  ET_CameraRightX   130306 non-null  float64\n",
            " 16  ET_CameraRightY   130306 non-null  float64\n",
            " 17  ET_ValidityLeft   130306 non-null  float64\n",
            " 18  ET_ValidityRight  130306 non-null  float64\n",
            "dtypes: float64(16), int64(1), object(2)\n",
            "memory usage: 18.9+ MB\n"
          ]
        }
      ],
      "source": [
        "df_7_EYE.info()"
      ]
    },
    {
      "cell_type": "code",
      "execution_count": null,
      "id": "b85f90da",
      "metadata": {
        "id": "b85f90da",
        "colab": {
          "base_uri": "https://localhost:8080/"
        },
        "outputId": "8baff651-9c21-49e4-904a-402b47ecd46d"
      },
      "outputs": [
        {
          "output_type": "execute_result",
          "data": {
            "text/plain": [
              "UnixTime                0\n",
              "Row                     0\n",
              "QuestionKey         68376\n",
              "Timestamp               0\n",
              "ET_GazeLeftx            4\n",
              "ET_GazeLefty            4\n",
              "ET_GazeRightx           4\n",
              "ET_GazeRighty           4\n",
              "ET_PupilLeft            4\n",
              "ET_PupilRight           4\n",
              "ET_TimeSignal           4\n",
              "ET_DistanceLeft         4\n",
              "ET_DistanceRight        4\n",
              "ET_CameraLeftX          4\n",
              "ET_CameraLeftY          4\n",
              "ET_CameraRightX         4\n",
              "ET_CameraRightY         4\n",
              "ET_ValidityLeft         4\n",
              "ET_ValidityRight        4\n",
              "dtype: int64"
            ]
          },
          "metadata": {},
          "execution_count": 458
        }
      ],
      "source": [
        "df_7_EYE.isnull().sum()"
      ]
    },
    {
      "cell_type": "code",
      "execution_count": null,
      "id": "0863d3c2",
      "metadata": {
        "id": "0863d3c2"
      },
      "outputs": [],
      "source": [
        "plt.figure(figsize=(12,8))\n",
        "sns.heatmap(df_7_EYE.isnull(), cmap='viridis')\n",
        "plt.show()"
      ]
    },
    {
      "cell_type": "markdown",
      "id": "de3250c2",
      "metadata": {
        "id": "de3250c2"
      },
      "source": [
        "# Notes & Observations\n",
        "\n",
        "- We observe many **null** (or missing) values in the `QuestionKey` columns.\n",
        "- The nulls in the `QuestionKey` column may not represent “true” nulls. Rather, they follow interval patterns, suggesting that during those periods no question was displayed.\n",
        "- These missing values in `QuestionKey` require additional investigation and context-aware handling."
      ]
    },
    {
      "cell_type": "code",
      "execution_count": null,
      "id": "cf950b24",
      "metadata": {
        "id": "cf950b24",
        "colab": {
          "base_uri": "https://localhost:8080/"
        },
        "outputId": "3edf1195-7491-4cc3-88a2-351601a91c9c"
      },
      "outputs": [
        {
          "output_type": "execute_result",
          "data": {
            "text/plain": [
              "array([nan, '1spl1', '1spl2', '1Item1', '1Item2', '1Item3', '1Item4',\n",
              "       '1Item5', '1Item6', '1Item7', '1Item8', '1Item9', '1Item10',\n",
              "       '2spl1', '2spl2', '2Item1', '2Item2', '2Item3', '2Item4', '2Item5',\n",
              "       '2Item6', '2Item7', '2Item8', '2Item9', '2Item10', '3spl1',\n",
              "       '3Item15', '3Item2', '3Item5', '3Item12', '3Item6', '3Item8',\n",
              "       '3Item7', '3Item9', '3Item17', '3Item19'], dtype=object)"
            ]
          },
          "metadata": {},
          "execution_count": 460
        }
      ],
      "source": [
        "df_7_EYE['QuestionKey'].unique()"
      ]
    },
    {
      "cell_type": "code",
      "execution_count": null,
      "id": "9e4e2df7",
      "metadata": {
        "id": "9e4e2df7"
      },
      "outputs": [],
      "source": [
        "df_7_EYE['Timestamp'] = pd.to_datetime(df_7_EYE['Timestamp'])"
      ]
    },
    {
      "cell_type": "code",
      "execution_count": null,
      "id": "aa23448c",
      "metadata": {
        "id": "aa23448c"
      },
      "outputs": [],
      "source": [
        "df_7_EYE.head(3)"
      ]
    },
    {
      "cell_type": "code",
      "execution_count": null,
      "id": "2fdc5529",
      "metadata": {
        "id": "2fdc5529"
      },
      "outputs": [],
      "source": [
        "df_7_EYE['QuestionKey'] = df_7_EYE['QuestionKey'].fillna('None')"
      ]
    },
    {
      "cell_type": "code",
      "execution_count": null,
      "id": "19dfd668",
      "metadata": {
        "id": "19dfd668",
        "colab": {
          "base_uri": "https://localhost:8080/"
        },
        "outputId": "0be98560-495b-4fe3-ff7e-039e2e188656"
      },
      "outputs": [
        {
          "output_type": "execute_result",
          "data": {
            "text/plain": [
              "QuestionKey\n",
              "None       68376\n",
              "2Item7      3632\n",
              "1Item10     3103\n",
              "1spl2       3036\n",
              "3Item9      2663\n",
              "2Item4      2657\n",
              "3Item15     2456\n",
              "2Item8      2434\n",
              "2spl2       2418\n",
              "2Item10     2340\n",
              "1Item3      2218\n",
              "3Item17     2050\n",
              "3Item8      2044\n",
              "1Item6      1971\n",
              "2Item9      1968\n",
              "2Item5      1911\n",
              "1spl1       1878\n",
              "1Item5      1844\n",
              "2spl1       1813\n",
              "2Item3      1772\n",
              "1Item4      1683\n",
              "2Item6      1637\n",
              "1Item9      1581\n",
              "2Item1      1493\n",
              "1Item8      1342\n",
              "1Item7      1212\n",
              "2Item2      1164\n",
              "3spl1       1158\n",
              "3Item7      1101\n",
              "3Item12     1069\n",
              "3Item6       951\n",
              "3Item2       793\n",
              "3Item5       752\n",
              "1Item2       715\n",
              "1Item1       595\n",
              "3Item19      480\n",
              "Name: count, dtype: int64"
            ]
          },
          "metadata": {},
          "execution_count": 464
        }
      ],
      "source": [
        "df_7_EYE['QuestionKey'].value_counts()"
      ]
    },
    {
      "cell_type": "code",
      "execution_count": null,
      "id": "aae2969f",
      "metadata": {
        "id": "aae2969f"
      },
      "outputs": [],
      "source": [
        "plt.figure(figsize=(12,8))\n",
        "sns.heatmap(df_7_EYE.isnull(), cmap='viridis')\n",
        "plt.show()"
      ]
    },
    {
      "cell_type": "code",
      "execution_count": null,
      "id": "ba496257",
      "metadata": {
        "id": "ba496257",
        "colab": {
          "base_uri": "https://localhost:8080/"
        },
        "outputId": "5ca95944-d1d9-4cbe-c158-5705906a650e"
      },
      "outputs": [
        {
          "output_type": "execute_result",
          "data": {
            "text/plain": [
              "UnixTime            0\n",
              "Row                 0\n",
              "QuestionKey         0\n",
              "Timestamp           0\n",
              "ET_GazeLeftx        4\n",
              "ET_GazeLefty        4\n",
              "ET_GazeRightx       4\n",
              "ET_GazeRighty       4\n",
              "ET_PupilLeft        4\n",
              "ET_PupilRight       4\n",
              "ET_TimeSignal       4\n",
              "ET_DistanceLeft     4\n",
              "ET_DistanceRight    4\n",
              "ET_CameraLeftX      4\n",
              "ET_CameraLeftY      4\n",
              "ET_CameraRightX     4\n",
              "ET_CameraRightY     4\n",
              "ET_ValidityLeft     4\n",
              "ET_ValidityRight    4\n",
              "dtype: int64"
            ]
          },
          "metadata": {},
          "execution_count": 466
        }
      ],
      "source": [
        "df_7_EYE.isnull().sum()"
      ]
    },
    {
      "cell_type": "code",
      "execution_count": null,
      "id": "561684f1",
      "metadata": {
        "id": "561684f1"
      },
      "outputs": [],
      "source": [
        "df_7_EYE.dropna(inplace=True)"
      ]
    },
    {
      "cell_type": "code",
      "execution_count": null,
      "id": "ddb2645d",
      "metadata": {
        "id": "ddb2645d"
      },
      "outputs": [],
      "source": [
        "df_7_EYE.head()"
      ]
    },
    {
      "cell_type": "code",
      "execution_count": null,
      "id": "af33147a",
      "metadata": {
        "id": "af33147a",
        "colab": {
          "base_uri": "https://localhost:8080/"
        },
        "outputId": "a43100b9-e3c8-49be-a92b-8899b7a0708b"
      },
      "outputs": [
        {
          "output_type": "execute_result",
          "data": {
            "text/plain": [
              "array([     2,      3,      4, ..., 130306, 130307, 130308],\n",
              "      shape=(130306,))"
            ]
          },
          "metadata": {},
          "execution_count": 469
        }
      ],
      "source": [
        "df_7_EYE['Row'].unique()"
      ]
    },
    {
      "cell_type": "code",
      "execution_count": null,
      "id": "307932c4",
      "metadata": {
        "id": "307932c4"
      },
      "outputs": [],
      "source": [
        "plt.figure(figsize=(8,6))\n",
        "sns.histplot(df_7_EYE['Row'])\n",
        "plt.show()"
      ]
    },
    {
      "cell_type": "markdown",
      "id": "8ebcbbe2",
      "metadata": {
        "id": "8ebcbbe2"
      },
      "source": [
        "# Notes & Observations\n",
        "\n",
        "- The `Row` column appears to be a simple row index and does not provide meaningful information relevant to the eye-tracking data itself. Therefore, it can be dropped."
      ]
    },
    {
      "cell_type": "code",
      "execution_count": null,
      "id": "953b8a8d",
      "metadata": {
        "id": "953b8a8d"
      },
      "outputs": [],
      "source": [
        "df_7_EYE.drop('Row', axis=1, inplace=True)"
      ]
    },
    {
      "cell_type": "code",
      "execution_count": null,
      "id": "e6d4f0ad",
      "metadata": {
        "id": "e6d4f0ad",
        "colab": {
          "base_uri": "https://localhost:8080/"
        },
        "outputId": "d01ce0b0-26b4-49e6-a5b6-e931d17afd4e"
      },
      "outputs": [
        {
          "output_type": "execute_result",
          "data": {
            "text/plain": [
              "array([4., 0.])"
            ]
          },
          "metadata": {},
          "execution_count": 472
        }
      ],
      "source": [
        "df_7_EYE['ET_ValidityLeft'].unique()"
      ]
    },
    {
      "cell_type": "code",
      "execution_count": null,
      "id": "30b84295",
      "metadata": {
        "id": "30b84295",
        "colab": {
          "base_uri": "https://localhost:8080/"
        },
        "outputId": "1f611959-ff7f-4cd3-ec87-3a68fca8eae4"
      },
      "outputs": [
        {
          "output_type": "execute_result",
          "data": {
            "text/plain": [
              "ET_ValidityLeft\n",
              "0.0    105944\n",
              "4.0     24362\n",
              "Name: count, dtype: int64"
            ]
          },
          "metadata": {},
          "execution_count": 473
        }
      ],
      "source": [
        "df_7_EYE['ET_ValidityLeft'].value_counts()"
      ]
    },
    {
      "cell_type": "code",
      "execution_count": null,
      "id": "48c5b2e5",
      "metadata": {
        "id": "48c5b2e5",
        "colab": {
          "base_uri": "https://localhost:8080/"
        },
        "outputId": "c4579232-077b-4ab1-df24-5f1da6005053"
      },
      "outputs": [
        {
          "output_type": "execute_result",
          "data": {
            "text/plain": [
              "array([0., 4.])"
            ]
          },
          "metadata": {},
          "execution_count": 474
        }
      ],
      "source": [
        "df_7_EYE['ET_ValidityRight'].unique()"
      ]
    },
    {
      "cell_type": "code",
      "execution_count": null,
      "id": "22a4a88a",
      "metadata": {
        "id": "22a4a88a",
        "colab": {
          "base_uri": "https://localhost:8080/"
        },
        "outputId": "cf0046fa-9545-4631-80a5-841638ee8222"
      },
      "outputs": [
        {
          "output_type": "execute_result",
          "data": {
            "text/plain": [
              "ET_ValidityRight\n",
              "0.0    107008\n",
              "4.0     23298\n",
              "Name: count, dtype: int64"
            ]
          },
          "metadata": {},
          "execution_count": 475
        }
      ],
      "source": [
        "df_7_EYE['ET_ValidityRight'].value_counts()"
      ]
    },
    {
      "cell_type": "code",
      "execution_count": null,
      "id": "719e92ca",
      "metadata": {
        "id": "719e92ca"
      },
      "outputs": [],
      "source": [
        "plt.figure(figsize=(12, 6))\n",
        "\n",
        "plt.subplot(1, 2, 1)\n",
        "sns.barplot(x=df_7_EYE['ET_ValidityLeft'].value_counts().index, y=df_7_EYE['ET_ValidityLeft'].value_counts().values)\n",
        "plt.title('Count of ET_ValidityLeft')\n",
        "plt.xlabel('Validity')\n",
        "plt.ylabel('Count')\n",
        "\n",
        "\n",
        "plt.subplot(1, 2, 2)\n",
        "sns.barplot(x=df_7_EYE['ET_ValidityRight'].value_counts().index, y=df_7_EYE['ET_ValidityRight'].value_counts().values)\n",
        "plt.title('Count of ET_ValidityRight')\n",
        "plt.xlabel('Validity')\n",
        "plt.ylabel('Count')\n",
        "\n",
        "plt.tight_layout()\n",
        "plt.show()"
      ]
    },
    {
      "cell_type": "markdown",
      "id": "859c87c5",
      "metadata": {
        "id": "859c87c5"
      },
      "source": [
        "# Notes & Observations\n",
        "\n",
        "- The `ET_ValidityLeft` and `ET_ValidityRight` columns indicate the validity of the eye-tracking data for the left and right eye, respectively.\n",
        "- Based on the value counts and the bar plots, it appears that a value of `0.0` represents valid eye-tracking data, while a value of `4.0` represents invalid data.\n",
        "- Although the amount of invalid data is relatively small, removing these rows could introduce unwanted patterns or gaps in the time series data.\n",
        "- Therefore, we will keep the data and replace the value `4.0` with `1.0` in both `ET_ValidityLeft` and `ET_ValidityRight` columns. This will indicate to a machine learning model that the eye tracker had invalid data at those specific points in time while maintaining the integrity of the time series."
      ]
    },
    {
      "cell_type": "markdown",
      "id": "8ce8f5ee",
      "metadata": {
        "id": "8ce8f5ee"
      },
      "source": [
        "Define a mapping to convert validity values from `0.0` and `4.0` to `0` and `1`."
      ]
    },
    {
      "cell_type": "code",
      "execution_count": null,
      "id": "8243149e",
      "metadata": {
        "id": "8243149e"
      },
      "outputs": [],
      "source": [
        "validity_map = {4.0: 1.0, 0.0: 0.0}"
      ]
    },
    {
      "cell_type": "code",
      "execution_count": null,
      "id": "310484ba",
      "metadata": {
        "id": "310484ba"
      },
      "outputs": [],
      "source": [
        "df_7_EYE['ET_ValidityLeft'] = df_7_EYE['ET_ValidityLeft'].map(validity_map).astype(np.int8)\n",
        "df_7_EYE['ET_ValidityRight'] = df_7_EYE['ET_ValidityRight'].map(validity_map).astype(np.int8)"
      ]
    },
    {
      "cell_type": "code",
      "execution_count": null,
      "id": "d1a538b6",
      "metadata": {
        "id": "d1a538b6"
      },
      "outputs": [],
      "source": [
        "df_7_EYE.head(3)"
      ]
    },
    {
      "cell_type": "code",
      "execution_count": null,
      "id": "92c16d07",
      "metadata": {
        "id": "92c16d07"
      },
      "outputs": [],
      "source": [
        "df_7_EYE.describe()"
      ]
    },
    {
      "cell_type": "code",
      "execution_count": null,
      "id": "3a230ae1",
      "metadata": {
        "id": "3a230ae1",
        "colab": {
          "base_uri": "https://localhost:8080/"
        },
        "outputId": "8fbe57b3-34db-41f3-d234-479613133627"
      },
      "outputs": [
        {
          "output_type": "execute_result",
          "data": {
            "text/plain": [
              "(24362, 18)"
            ]
          },
          "metadata": {},
          "execution_count": 481
        }
      ],
      "source": [
        "df_7_EYE[df_7_EYE['ET_ValidityLeft'] == 1].shape"
      ]
    },
    {
      "cell_type": "code",
      "execution_count": null,
      "id": "7715f4b2",
      "metadata": {
        "id": "7715f4b2",
        "colab": {
          "base_uri": "https://localhost:8080/"
        },
        "outputId": "17a91f7f-61b9-4122-a726-8e979c2d569e"
      },
      "outputs": [
        {
          "output_type": "execute_result",
          "data": {
            "text/plain": [
              "(23298, 18)"
            ]
          },
          "metadata": {},
          "execution_count": 482
        }
      ],
      "source": [
        "df_7_EYE[df_7_EYE['ET_ValidityRight'] == 1].shape"
      ]
    },
    {
      "cell_type": "code",
      "execution_count": null,
      "id": "2fd6c0af",
      "metadata": {
        "id": "2fd6c0af",
        "colab": {
          "base_uri": "https://localhost:8080/"
        },
        "outputId": "1261fe41-ea82-4868-d5de-35b70b295208"
      },
      "outputs": [
        {
          "output_type": "execute_result",
          "data": {
            "text/plain": [
              "0.18695992509938145"
            ]
          },
          "metadata": {},
          "execution_count": 483
        }
      ],
      "source": [
        "df_7_EYE[df_7_EYE['ET_ValidityLeft'] == 1].shape[0] / df_7_EYE.shape[0]"
      ]
    },
    {
      "cell_type": "code",
      "execution_count": null,
      "id": "a140d32d",
      "metadata": {
        "id": "a140d32d",
        "colab": {
          "base_uri": "https://localhost:8080/"
        },
        "outputId": "93ebeda6-383c-47f1-aebf-a57924573fc9"
      },
      "outputs": [
        {
          "output_type": "execute_result",
          "data": {
            "text/plain": [
              "0.1787945297990883"
            ]
          },
          "metadata": {},
          "execution_count": 484
        }
      ],
      "source": [
        "df_7_EYE[df_7_EYE['ET_ValidityRight'] == 1].shape[0] / df_7_EYE.shape[0]"
      ]
    },
    {
      "cell_type": "code",
      "execution_count": null,
      "id": "654be669",
      "metadata": {
        "id": "654be669"
      },
      "outputs": [],
      "source": [
        "plt.figure(figsize=(18, 8))\n",
        "\n",
        "plt.subplot(1, 2, 1)\n",
        "sns.heatmap(df_7_EYE == -1, cmap='viridis')\n",
        "plt.title('Heatmap of -1 Values')\n",
        "\n",
        "plt.subplot(1, 2, 2)\n",
        "sns.heatmap(df_7_EYE == 1, cmap='viridis')\n",
        "plt.title('Heatmap of 1 Values')\n",
        "\n",
        "plt.tight_layout()\n",
        "plt.show()"
      ]
    },
    {
      "cell_type": "code",
      "execution_count": null,
      "id": "16a3d6a1",
      "metadata": {
        "id": "16a3d6a1",
        "colab": {
          "base_uri": "https://localhost:8080/"
        },
        "outputId": "5e565281-a202-44bc-dcc9-ad1cd0dc9e18"
      },
      "outputs": [
        {
          "output_type": "execute_result",
          "data": {
            "text/plain": [
              "(96002, 18)"
            ]
          },
          "metadata": {},
          "execution_count": 486
        }
      ],
      "source": [
        "df_7_EYE[df_7_EYE['ET_PupilLeft'] == -1].shape"
      ]
    },
    {
      "cell_type": "code",
      "execution_count": null,
      "id": "e4d2801b",
      "metadata": {
        "id": "e4d2801b",
        "colab": {
          "base_uri": "https://localhost:8080/"
        },
        "outputId": "aa778764-c1b3-4847-92e8-a45364c0e2c7"
      },
      "outputs": [
        {
          "output_type": "execute_result",
          "data": {
            "text/plain": [
              "(95646, 18)"
            ]
          },
          "metadata": {},
          "execution_count": 487
        }
      ],
      "source": [
        "df_7_EYE[df_7_EYE['ET_PupilRight'] == -1].shape"
      ]
    },
    {
      "cell_type": "code",
      "execution_count": null,
      "id": "9d5e4d7b",
      "metadata": {
        "id": "9d5e4d7b",
        "colab": {
          "base_uri": "https://localhost:8080/"
        },
        "outputId": "8bebd962-32ea-4e0c-bea8-7802b3247a34"
      },
      "outputs": [
        {
          "output_type": "execute_result",
          "data": {
            "text/plain": [
              "0.7367427440025786"
            ]
          },
          "metadata": {},
          "execution_count": 488
        }
      ],
      "source": [
        "df_7_EYE[df_7_EYE['ET_PupilLeft'] == -1].shape[0] / df_7_EYE.shape[0]"
      ]
    },
    {
      "cell_type": "code",
      "execution_count": null,
      "id": "3f570934",
      "metadata": {
        "id": "3f570934",
        "colab": {
          "base_uri": "https://localhost:8080/"
        },
        "outputId": "c3cc235e-931d-4605-e4e0-d78662e6d3e7"
      },
      "outputs": [
        {
          "output_type": "execute_result",
          "data": {
            "text/plain": [
              "0.7340107132442097"
            ]
          },
          "metadata": {},
          "execution_count": 489
        }
      ],
      "source": [
        "df_7_EYE[df_7_EYE['ET_PupilRight'] == -1].shape[0] / df_7_EYE.shape[0]"
      ]
    },
    {
      "cell_type": "code",
      "execution_count": null,
      "id": "cd30205a",
      "metadata": {
        "id": "cd30205a"
      },
      "outputs": [],
      "source": [
        "plt.figure(figsize=(18, 8))\n",
        "\n",
        "plt.subplot(1, 2, 1)\n",
        "sns.heatmap(df_7_EYE[df_7_EYE['ET_ValidityLeft'] == 1] == -1, cmap='viridis')\n",
        "plt.title('Heatmap of -1 Values')\n",
        "\n",
        "plt.subplot(1, 2, 2)\n",
        "sns.heatmap(df_7_EYE[df_7_EYE['ET_ValidityRight'] == 1] == -1, cmap='viridis')\n",
        "plt.title('Heatmap of -1 Values')\n",
        "\n",
        "plt.tight_layout()\n",
        "plt.show()"
      ]
    },
    {
      "cell_type": "markdown",
      "id": "18286ae7",
      "metadata": {
        "id": "18286ae7"
      },
      "source": [
        "# Notes & Observations\n",
        "\n",
        "- The heatmaps reveal the distribution of -1 values across different columns.\n",
        "- It is evident that the `-1` values are not randomly scattered but appear in specific columns, notably `ET_GazeLeftx`, `ET_GazeLefty`, `ET_GazeRightx`, `ET_GazeRighty`, `ET_PupilLeft`, `ET_PupilRight`, `ET_DistanceLeft`, `ET_DistanceRight`, `ET_CameraLeftX`, `ET_CameraLeftY`, `ET_CameraRightX`, and `ET_CameraRightY`.\n",
        "- These `-1` values often coincide with instances where `ET_ValidityLeft` or `ET_ValidityRight` is 1, indicating invalid eye-tracking data. This suggests that `-1` is used as a placeholder for missing or invalid measurements in these columns when the eye tracker is not providing valid data for a particular eye.\n",
        "- Given that over 70% of the data in the `ET_PupilLeft` and `ET_PupilRight` columns is marked as invalid (-1), so instead of dropping them we can create new feature for both the `ET_PupilLeft` and `ET_PupilRight` to represent which row consist invalid `ET_PupilLeft` and `ET_PupilRight` data"
      ]
    },
    {
      "cell_type": "code",
      "execution_count": null,
      "id": "b711cdc2",
      "metadata": {
        "id": "b711cdc2"
      },
      "outputs": [],
      "source": [
        "pupil_validity = {-1: 1 }"
      ]
    },
    {
      "cell_type": "code",
      "execution_count": null,
      "id": "3ecfa495",
      "metadata": {
        "id": "3ecfa495"
      },
      "outputs": [],
      "source": [
        "df_7_EYE['ET_PupilLeft_validity'] = df_7_EYE['ET_PupilLeft'].map(pupil_validity)"
      ]
    },
    {
      "cell_type": "code",
      "execution_count": null,
      "id": "0097e084",
      "metadata": {
        "id": "0097e084"
      },
      "outputs": [],
      "source": [
        "df_7_EYE['ET_PupilRight_validity'] = df_7_EYE['ET_PupilRight'].map(pupil_validity)"
      ]
    },
    {
      "cell_type": "code",
      "execution_count": null,
      "id": "8f584919",
      "metadata": {
        "id": "8f584919"
      },
      "outputs": [],
      "source": [
        "df_7_EYE[['ET_PupilLeft_validity', 'ET_PupilRight_validity']].head()"
      ]
    },
    {
      "cell_type": "code",
      "execution_count": null,
      "id": "fb23ff3e",
      "metadata": {
        "id": "fb23ff3e",
        "colab": {
          "base_uri": "https://localhost:8080/"
        },
        "outputId": "ae31f674-b14c-4ed3-95ae-2c083cadb24c"
      },
      "outputs": [
        {
          "output_type": "execute_result",
          "data": {
            "text/plain": [
              "ET_PupilLeft_validity     34304\n",
              "ET_PupilRight_validity    34660\n",
              "dtype: int64"
            ]
          },
          "metadata": {},
          "execution_count": 495
        }
      ],
      "source": [
        "df_7_EYE[['ET_PupilLeft_validity', 'ET_PupilRight_validity']].isnull().sum()"
      ]
    },
    {
      "cell_type": "code",
      "execution_count": null,
      "id": "7b543255",
      "metadata": {
        "id": "7b543255"
      },
      "outputs": [],
      "source": [
        "plt.figure(figsize=(18, 8))\n",
        "sns.heatmap(df_7_EYE[['ET_PupilLeft_validity', 'ET_PupilRight_validity']].isnull(), cmap='viridis')\n",
        "plt.show()"
      ]
    },
    {
      "cell_type": "code",
      "execution_count": null,
      "id": "26558e5a",
      "metadata": {
        "id": "26558e5a"
      },
      "outputs": [],
      "source": [
        "df_7_EYE['ET_PupilLeft_validity'] = df_7_EYE['ET_PupilLeft_validity'].fillna(0)"
      ]
    },
    {
      "cell_type": "code",
      "execution_count": null,
      "id": "e54aa429",
      "metadata": {
        "id": "e54aa429"
      },
      "outputs": [],
      "source": [
        "df_7_EYE['ET_PupilRight_validity'] = df_7_EYE['ET_PupilRight_validity'].fillna(0)"
      ]
    },
    {
      "cell_type": "code",
      "execution_count": null,
      "id": "ca19b242",
      "metadata": {
        "id": "ca19b242"
      },
      "outputs": [],
      "source": [
        "df_7_EYE[['ET_PupilLeft_validity', 'ET_PupilRight_validity']].head()"
      ]
    },
    {
      "cell_type": "code",
      "execution_count": null,
      "id": "bfade87d",
      "metadata": {
        "id": "bfade87d"
      },
      "outputs": [],
      "source": [
        "plt.figure(figsize=(18, 8))\n",
        "sns.heatmap(df_7_EYE[['ET_PupilLeft_validity', 'ET_PupilRight_validity']].isnull(), cmap='viridis')\n",
        "plt.show()"
      ]
    },
    {
      "cell_type": "code",
      "execution_count": null,
      "id": "274df992",
      "metadata": {
        "id": "274df992"
      },
      "outputs": [],
      "source": [
        "df_7_EYE.head()"
      ]
    },
    {
      "cell_type": "code",
      "execution_count": null,
      "id": "33837af1",
      "metadata": {
        "id": "33837af1"
      },
      "outputs": [],
      "source": [
        "plt.figure(figsize=(18, 8))\n",
        "\n",
        "plt.subplot(1, 2, 1)\n",
        "sns.heatmap(df_7_EYE == -1, cmap='viridis')\n",
        "plt.title('Heatmap of -1 Values')\n",
        "\n",
        "plt.subplot(1, 2, 2)\n",
        "sns.heatmap(df_7_EYE == 1, cmap='viridis')\n",
        "plt.title('Heatmap of -1 Values')\n",
        "\n",
        "plt.tight_layout()\n",
        "plt.show()"
      ]
    },
    {
      "cell_type": "code",
      "execution_count": null,
      "id": "6770b161",
      "metadata": {
        "id": "6770b161"
      },
      "outputs": [],
      "source": [
        "valid_left_ratio  = 1 - df_7_EYE['ET_ValidityLeft'].mean()"
      ]
    },
    {
      "cell_type": "code",
      "execution_count": null,
      "id": "9e847b4d",
      "metadata": {
        "id": "9e847b4d",
        "colab": {
          "base_uri": "https://localhost:8080/"
        },
        "outputId": "6c70a1d9-9155-4e4c-85f4-3ae042a93d4d"
      },
      "outputs": [
        {
          "output_type": "execute_result",
          "data": {
            "text/plain": [
              "np.float64(0.8130400749006186)"
            ]
          },
          "metadata": {},
          "execution_count": 504
        }
      ],
      "source": [
        "valid_left_ratio"
      ]
    },
    {
      "cell_type": "code",
      "execution_count": null,
      "id": "d178bc8b",
      "metadata": {
        "id": "d178bc8b"
      },
      "outputs": [],
      "source": [
        "valid_right_ratio = 1 - df_7_EYE['ET_ValidityRight'].mean()"
      ]
    },
    {
      "cell_type": "code",
      "execution_count": null,
      "id": "346e20aa",
      "metadata": {
        "id": "346e20aa",
        "colab": {
          "base_uri": "https://localhost:8080/"
        },
        "outputId": "a7a7209f-2a0c-4efb-9802-ff34d2a4980e"
      },
      "outputs": [
        {
          "output_type": "execute_result",
          "data": {
            "text/plain": [
              "np.float64(0.8212054702009117)"
            ]
          },
          "metadata": {},
          "execution_count": 506
        }
      ],
      "source": [
        "valid_right_ratio"
      ]
    },
    {
      "cell_type": "code",
      "execution_count": null,
      "id": "31bd0aa4",
      "metadata": {
        "id": "31bd0aa4"
      },
      "outputs": [],
      "source": [
        "df_7_EYE['ET_PupilLeft_validity'] = df_7_EYE['ET_PupilLeft_validity'].astype(np.int8)\n",
        "df_7_EYE['ET_PupilRight_validity'] = df_7_EYE['ET_PupilRight_validity'].astype(np.int8)"
      ]
    },
    {
      "cell_type": "markdown",
      "id": "80836880",
      "metadata": {
        "id": "80836880"
      },
      "source": [
        "# Feature Engineering and Observations\n",
        "\n",
        "Based on the analysis of the data, we've created two new features, `ET_PupilLeft_validity` and `ET_PupilRight_validity`. These features indicate the validity of the pupil data for the left and right eyes, respectively, with a value of 1 representing invalid data (originally -1) and 0 representing valid data.\n",
        "\n",
        "The heatmaps above visually demonstrate the distribution of -1 and 1 values across the dataset. We observed that:\n",
        "- The `-1` values are concentrated in specific columns related to gaze, pupil size, distance, and camera position, suggesting they represent missing or invalid sensor readings.\n",
        "- The `1` values, after mapping from `4.0` in the original validity columns, indicate instances of invalid eye-tracking data.\n",
        "- The heatmaps also show a strong correlation between the `-1` values in the pupil columns and a validity of 1 in the newly created pupil validity features, confirming that -1 was used to mark invalid pupil data."
      ]
    },
    {
      "cell_type": "code",
      "execution_count": null,
      "id": "176fa6ec",
      "metadata": {
        "id": "176fa6ec"
      },
      "outputs": [],
      "source": [
        "df_7_EYE.head()"
      ]
    },
    {
      "cell_type": "code",
      "execution_count": null,
      "id": "be91bfb7",
      "metadata": {
        "id": "be91bfb7"
      },
      "outputs": [],
      "source": [
        "# Select only the numeric columns for plotting histograms, excluding time-related columns\n",
        "numeric_cols = df_7_EYE.select_dtypes(include=np.number).columns\n",
        "cols_to_plot = [col for col in numeric_cols if col not in ['UnixTime']]\n",
        "\n",
        "# Calculate the number of rows and columns for the grid\n",
        "n_cols = 4  # You can adjust the number of columns as needed\n",
        "n_rows = (len(cols_to_plot) + n_cols - 1) // n_cols\n",
        "\n",
        "plt.figure(figsize=(n_cols * 5, n_rows * 4)) # Adjust figure size as needed\n",
        "\n",
        "for i, col in enumerate(cols_to_plot):\n",
        "    plt.subplot(n_rows, n_cols, i + 1)\n",
        "    sns.histplot(df_7_EYE[col], kde=True)\n",
        "    plt.title(f'Distribution of {col}')\n",
        "    plt.xlabel(col)\n",
        "    plt.ylabel('Frequency')\n",
        "\n",
        "plt.tight_layout()\n",
        "plt.show()"
      ]
    },
    {
      "cell_type": "markdown",
      "id": "e60a907e",
      "metadata": {
        "id": "e60a907e"
      },
      "source": [
        "# Observations from Histograms\n",
        "\n",
        "The grid of histograms provides insights into the distribution of values for each numeric column in the dataset (excluding 'UnixTime'). Key observations include:\n",
        "\n",
        "- Several columns, such as `ET_GazeLeftx`, `ET_GazeLefty`, `ET_GazeRightx`, and `ET_GazeRighty`, show distributions that appear somewhat multimodal or skewed, suggesting variations in gaze patterns.\n",
        "- The `ET_PupilLeft` and `ET_PupilRight` histograms clearly show a peak at -1, confirming the presence of a significant number of invalid pupil readings.\n",
        "- `ET_TimeSignal` shows a relatively uniform distribution, as expected for a time-based signal.\n",
        "- `ET_DistanceLeft` and `ET_DistanceRight` appear to have distributions centered around certain values, with some outliers or variations.\n",
        "- The camera position columns (`ET_CameraLeftX`, `ET_CameraLeftY`, `ET_CameraRightX`, `ET_CameraRightY`) seem to have distributions concentrated within specific ranges, reflecting the camera's field of view.\n",
        "- The validity columns (`ET_ValidityLeft`, `ET_ValidityRight`, `ET_PupilLeft_validity`, `ET_PupilRight_validity`) show distributions dominated by 0, indicating that most of the data is considered valid after the mapping. The smaller peaks at 1 represent the instances of invalid data.\n",
        "\n",
        "These distributions highlight the need for appropriate handling of the -1 values and potential outliers in subsequent analysis or modeling steps."
      ]
    },
    {
      "cell_type": "code",
      "execution_count": null,
      "id": "ab7073e4",
      "metadata": {
        "id": "ab7073e4",
        "colab": {
          "base_uri": "https://localhost:8080/"
        },
        "outputId": "8aa34fd5-df3d-433f-dc48-351ddb54a038"
      },
      "outputs": [
        {
          "output_type": "execute_result",
          "data": {
            "text/plain": [
              "Index(['UnixTime', 'QuestionKey', 'Timestamp', 'ET_GazeLeftx', 'ET_GazeLefty',\n",
              "       'ET_GazeRightx', 'ET_GazeRighty', 'ET_PupilLeft', 'ET_PupilRight',\n",
              "       'ET_TimeSignal', 'ET_DistanceLeft', 'ET_DistanceRight',\n",
              "       'ET_CameraLeftX', 'ET_CameraLeftY', 'ET_CameraRightX',\n",
              "       'ET_CameraRightY', 'ET_ValidityLeft', 'ET_ValidityRight',\n",
              "       'ET_PupilLeft_validity', 'ET_PupilRight_validity'],\n",
              "      dtype='object')"
            ]
          },
          "metadata": {},
          "execution_count": 510
        }
      ],
      "source": [
        "df_7_EYE.columns"
      ]
    },
    {
      "cell_type": "code",
      "execution_count": null,
      "id": "f92ee71a",
      "metadata": {
        "id": "f92ee71a"
      },
      "outputs": [],
      "source": [
        "cols = ['ET_GazeLeftx', 'ET_GazeLefty',\n",
        "       'ET_GazeRightx', 'ET_GazeRighty', 'ET_PupilLeft', 'ET_PupilRight',\n",
        "       'ET_TimeSignal', 'ET_DistanceLeft', 'ET_DistanceRight',\n",
        "       'ET_CameraLeftX', 'ET_CameraLeftY', 'ET_CameraRightX',\n",
        "       'ET_CameraRightY', 'ET_ValidityLeft', 'ET_ValidityRight',\n",
        "       'ET_PupilLeft_validity', 'ET_PupilRight_validity']"
      ]
    },
    {
      "cell_type": "code",
      "execution_count": null,
      "id": "70d8bf33",
      "metadata": {
        "id": "70d8bf33"
      },
      "outputs": [],
      "source": [
        "from IPython.display import display, Markdown\n",
        "\n",
        "for col in cols:\n",
        "    # Add a markdown cell before each plot for better separation and labeling\n",
        "    display(Markdown(f'### {col} over Time'))\n",
        "    plt.figure(figsize=(16, 10))\n",
        "    plt.plot(df_7_EYE['Timestamp'], df_7_EYE[col])\n",
        "    plt.xlabel(\"Timestamp\") # Add x-axis label\n",
        "    plt.ylabel(col) # Add y-axis label\n",
        "    plt.show()"
      ]
    },
    {
      "cell_type": "markdown",
      "id": "8b8d2748",
      "metadata": {
        "id": "8b8d2748"
      },
      "source": [
        "# Observations from Time Series Plots\n",
        "\n",
        "The line plots showing various features against the `Timestamp` reveal the temporal patterns and fluctuations in the eye-tracking data. Key observations include:\n",
        "\n",
        "- **Gaze Coordinates (`ET_GazeLeftx`, `ET_GazeLefty`, `ET_GazeRightx`, `ET_GazeRighty`):** These plots show the changes in gaze position over time. We can observe periods of relatively stable gaze interspersed with rapid movements (saccades) and blinks or other events where the gaze data might be invalid (-1 values appear as gaps or spikes if not handled).\n",
        "- **Pupil Size (`ET_PupilLeft`, `ET_PupilRight`):** The pupil size plots show variations over time. The presence of many -1 values is evident as flat lines at the bottom of the plot, indicating periods where pupil data was not recorded or was invalid.\n",
        "- **Time Signal (`ET_TimeSignal`):** This plot shows a steady, increasing trend, as expected for a time-based signal.\n",
        "- **Distance and Camera Position (`ET_DistanceLeft`, `ET_DistanceRight`, `ET_CameraLeftX`, `ET_CameraLeftY`, `ET_CameraRightX`, `ET_CameraRightY`):** These plots show how the distance from the eye tracker and the camera positions change over time. Variations in these features can be related to head movements or changes in the user's position relative to the eye tracker.\n",
        "- **Validity (`ET_ValidityLeft`, `ET_ValidityRight`, `ET_PupilLeft_validity`, `ET_PupilRight_validity`):** These plots clearly show periods of invalid data (represented by 1) as spikes or plateaus, corresponding to instances where the eye tracker lost track of the eyes or the pupil data was marked as invalid.\n",
        "\n",
        "Analyzing these time series plots is crucial for understanding the dynamics of the eye-tracking data and identifying patterns or anomalies that may require further investigation or specific handling during subsequent analysis."
      ]
    },
    {
      "cell_type": "code",
      "execution_count": null,
      "id": "f7497a66",
      "metadata": {
        "id": "f7497a66"
      },
      "outputs": [],
      "source": [
        "# Select only the numeric columns for plotting histograms, excluding time-related columns\n",
        "numeric_cols = df_7_EYE.select_dtypes(include=np.number).columns\n",
        "\n",
        "# Calculate the number of rows and columns for the grid\n",
        "n_cols = 4  # You can adjust the number of columns as needed\n",
        "n_rows = (len(numeric_cols) + n_cols - 1) // n_cols\n",
        "\n",
        "plt.figure(figsize=(n_cols * 5, n_rows * 4)) # Adjust figure size as needed\n",
        "\n",
        "for i, col in enumerate(numeric_cols):\n",
        "    plt.subplot(n_rows, n_cols, i + 1)\n",
        "    sns.boxplot(df_7_EYE[col])\n",
        "    plt.title(f'Boxplot of {col}')\n",
        "    plt.xlabel(col)\n",
        "\n",
        "plt.tight_layout()\n",
        "plt.show()"
      ]
    },
    {
      "cell_type": "markdown",
      "id": "7851c8c3",
      "metadata": {
        "id": "7851c8c3"
      },
      "source": [
        "# Observations from Boxplots and Handling -1 Values\n",
        "\n",
        "The boxplots provide a visual summary of the distribution and potential outliers for each numeric column. Key observations from the boxplots include:\n",
        "\n",
        "- The boxplots for columns like `ET_GazeLeftx`, `ET_GazeLefty`, `ET_GazeRightx`, `ET_GazeRighty`, `ET_PupilLeft`, `ET_PupilRight`, `ET_DistanceLeft`, `ET_DistanceRight`, `ET_CameraLeftX`, `ET_CameraLeftY`, `ET_CameraRightX`, and `ET_CameraRightY` clearly show the presence of -1 values as significant outliers, confirming our earlier observations from the heatmaps and histograms.\n",
        "- The boxplots for the validity columns (`ET_ValidityLeft`, `ET_ValidityRight`, `ET_PupilLeft_validity`, `ET_PupilRight_validity`) show the discrete nature of these features, with the majority of data points at 0 (valid) and a smaller number at 1 (invalid).\n",
        "\n",
        "Given the significant presence of -1 values, which represent invalid or missing data, especially in the pupil-related columns, we have decided to replace these -1 values with NaN to properly represent them as missing data. Subsequently, we will impute these missing values using the mean of each respective column. This approach helps to retain the data structure and allows for further analysis or modeling without the distortion caused by the -1 placeholders."
      ]
    },
    {
      "cell_type": "code",
      "execution_count": null,
      "id": "c4e300f2",
      "metadata": {
        "id": "c4e300f2"
      },
      "outputs": [],
      "source": [
        "df_7_EYE.replace({-1: np.nan}, inplace=True)"
      ]
    },
    {
      "cell_type": "code",
      "execution_count": null,
      "id": "d5e5794c",
      "metadata": {
        "id": "d5e5794c",
        "colab": {
          "base_uri": "https://localhost:8080/"
        },
        "outputId": "7148e951-ae9f-4f62-9489-e46e08d3e66d"
      },
      "outputs": [
        {
          "output_type": "execute_result",
          "data": {
            "text/plain": [
              "ET_GazeLeftx                 970.714373\n",
              "ET_GazeLefty                 548.248899\n",
              "ET_GazeRightx                973.966464\n",
              "ET_GazeRighty                549.615244\n",
              "ET_PupilLeft                   3.062301\n",
              "ET_PupilRight                  3.116815\n",
              "ET_TimeSignal             542892.712460\n",
              "ET_DistanceLeft              663.969573\n",
              "ET_DistanceRight             658.632625\n",
              "ET_CameraLeftX                 0.551305\n",
              "ET_CameraLeftY                 0.489702\n",
              "ET_CameraRightX                0.410841\n",
              "ET_CameraRightY                0.489987\n",
              "ET_ValidityLeft                0.186960\n",
              "ET_ValidityRight               0.178795\n",
              "ET_PupilLeft_validity          0.736743\n",
              "ET_PupilRight_validity         0.734011\n",
              "dtype: float64"
            ]
          },
          "metadata": {},
          "execution_count": 515
        }
      ],
      "source": [
        "df_7_EYE[['ET_GazeLeftx', 'ET_GazeLefty',\n",
        "       'ET_GazeRightx', 'ET_GazeRighty', 'ET_PupilLeft', 'ET_PupilRight',\n",
        "       'ET_TimeSignal', 'ET_DistanceLeft', 'ET_DistanceRight',\n",
        "       'ET_CameraLeftX', 'ET_CameraLeftY', 'ET_CameraRightX',\n",
        "       'ET_CameraRightY', 'ET_ValidityLeft', 'ET_ValidityRight',\n",
        "       'ET_PupilLeft_validity', 'ET_PupilRight_validity']].mean()"
      ]
    },
    {
      "cell_type": "code",
      "execution_count": null,
      "id": "dab640b4",
      "metadata": {
        "id": "dab640b4",
        "colab": {
          "base_uri": "https://localhost:8080/"
        },
        "outputId": "c74d61fb-d2b7-4879-f914-09fd90488ee2"
      },
      "outputs": [
        {
          "output_type": "execute_result",
          "data": {
            "text/plain": [
              "ET_GazeLeftx                1008.000000\n",
              "ET_GazeLefty                 517.000000\n",
              "ET_GazeRightx                985.000000\n",
              "ET_GazeRighty                511.000000\n",
              "ET_PupilLeft                   3.077408\n",
              "ET_PupilRight                  3.138962\n",
              "ET_TimeSignal             542891.976000\n",
              "ET_DistanceLeft              663.572693\n",
              "ET_DistanceRight             658.524963\n",
              "ET_CameraLeftX                 0.551247\n",
              "ET_CameraLeftY                 0.490739\n",
              "ET_CameraRightX                0.410743\n",
              "ET_CameraRightY                0.490784\n",
              "ET_ValidityLeft                0.000000\n",
              "ET_ValidityRight               0.000000\n",
              "ET_PupilLeft_validity          1.000000\n",
              "ET_PupilRight_validity         1.000000\n",
              "dtype: float64"
            ]
          },
          "metadata": {},
          "execution_count": 516
        }
      ],
      "source": [
        "df_7_EYE[['ET_GazeLeftx', 'ET_GazeLefty',\n",
        "       'ET_GazeRightx', 'ET_GazeRighty', 'ET_PupilLeft', 'ET_PupilRight',\n",
        "       'ET_TimeSignal', 'ET_DistanceLeft', 'ET_DistanceRight',\n",
        "       'ET_CameraLeftX', 'ET_CameraLeftY', 'ET_CameraRightX',\n",
        "       'ET_CameraRightY', 'ET_ValidityLeft', 'ET_ValidityRight',\n",
        "       'ET_PupilLeft_validity', 'ET_PupilRight_validity']].median()"
      ]
    },
    {
      "cell_type": "code",
      "execution_count": null,
      "id": "98e6b42a",
      "metadata": {
        "id": "98e6b42a"
      },
      "outputs": [],
      "source": [
        "numeric_cols = df_7_EYE.select_dtypes(include=np.number).columns\n",
        "\n",
        "for col in numeric_cols:\n",
        "    df_7_EYE[col] = df_7_EYE[col].fillna(df_7_EYE[col].mean())"
      ]
    },
    {
      "cell_type": "code",
      "execution_count": null,
      "id": "9bed386a",
      "metadata": {
        "id": "9bed386a"
      },
      "outputs": [],
      "source": [
        "plt.figure(figsize=(18, 8))\n",
        "\n",
        "plt.subplot(1, 2, 1)\n",
        "sns.heatmap(df_7_EYE.isnull(), cmap='viridis')\n",
        "plt.title('Heatmap of Missing Values After Imputation')\n",
        "\n",
        "plt.subplot(1, 2, 2)\n",
        "sns.heatmap(df_7_EYE == 1, cmap='viridis')\n",
        "plt.title('Heatmap of 1 Values')\n",
        "\n",
        "plt.tight_layout()\n",
        "plt.show()"
      ]
    },
    {
      "cell_type": "markdown",
      "id": "05fb6cf6",
      "metadata": {
        "id": "05fb6cf6"
      },
      "source": [
        "# Handling Missing Values (Imputation)\n",
        "\n",
        "As decided, we have replaced all the `-1` values with `NaN` to treat them as missing data. Subsequently, we have imputed these `NaN` values with the mean of their respective columns. The heatmap above, which was generated after the imputation, now shows no visible signs of `NaN` values, indicating that the imputation was successful."
      ]
    },
    {
      "cell_type": "code",
      "execution_count": null,
      "id": "9ae35c85",
      "metadata": {
        "id": "9ae35c85"
      },
      "outputs": [],
      "source": [
        "df_7_EYE.head()"
      ]
    },
    {
      "cell_type": "code",
      "execution_count": null,
      "id": "516bc6a9",
      "metadata": {
        "id": "516bc6a9"
      },
      "outputs": [],
      "source": [
        "# Select only the numeric columns for plotting histograms, excluding time-related columns\n",
        "numeric_cols = df_7_EYE.select_dtypes(include=np.number).columns\n",
        "cols_to_plot = [col for col in numeric_cols if col not in ['UnixTime']]\n",
        "\n",
        "# Calculate the number of rows and columns for the grid\n",
        "n_cols = 4  # You can adjust the number of columns as needed\n",
        "n_rows = (len(cols_to_plot) + n_cols - 1) // n_cols\n",
        "\n",
        "plt.figure(figsize=(n_cols * 5, n_rows * 4)) # Adjust figure size as needed\n",
        "\n",
        "for i, col in enumerate(cols_to_plot):\n",
        "    plt.subplot(n_rows, n_cols, i + 1)\n",
        "    sns.histplot(df_7_EYE[col], kde=True)\n",
        "    plt.title(f'Distribution of {col}')\n",
        "    plt.xlabel(col)\n",
        "    plt.ylabel('Frequency')\n",
        "\n",
        "plt.tight_layout()\n",
        "plt.show()"
      ]
    },
    {
      "cell_type": "markdown",
      "id": "6c924bd0",
      "metadata": {
        "id": "6c924bd0"
      },
      "source": [
        "# Observations from Histograms After Imputation\n",
        "\n",
        "The histograms generated after replacing the -1 values with the mean of each column show the distributions of the numeric features with the missing data handled. Key observations from these updated histograms include:\n",
        "\n",
        "- The distinct peaks at -1, which were prominent in the histograms for several columns (e.g., pupil size, gaze coordinates, distance, and camera position) before imputation, are now replaced by a peak at the mean of each respective column.\n",
        "- The distributions in many columns now appear more unimodal or show shifted modes compared to the original histograms.\n",
        "- The histograms for the validity columns still show their bimodal distributions with peaks at 0 and 1, as these were handled separately.\n",
        "\n",
        "These histograms provide an updated view of the data's distribution after handling the missing values, highlighting the impact of the imputation method on the data's characteristics."
      ]
    },
    {
      "cell_type": "code",
      "execution_count": null,
      "id": "21818a1b",
      "metadata": {
        "id": "21818a1b"
      },
      "outputs": [],
      "source": [
        "cols = ['ET_GazeLeftx', 'ET_GazeLefty',\n",
        "       'ET_GazeRightx', 'ET_GazeRighty', 'ET_PupilLeft', 'ET_PupilRight',\n",
        "       'ET_TimeSignal', 'ET_DistanceLeft', 'ET_DistanceRight',\n",
        "       'ET_CameraLeftX', 'ET_CameraLeftY', 'ET_CameraRightX',\n",
        "       'ET_CameraRightY', 'ET_ValidityLeft', 'ET_ValidityRight',\n",
        "       'ET_PupilLeft_validity', 'ET_PupilRight_validity']"
      ]
    },
    {
      "cell_type": "code",
      "execution_count": null,
      "id": "b3b067a2",
      "metadata": {
        "id": "b3b067a2"
      },
      "outputs": [],
      "source": [
        "for col in cols:\n",
        "    # Add a markdown cell before each plot for better separation and labeling\n",
        "    display(Markdown(f'### {col} over Time'))\n",
        "    plt.figure(figsize=(16, 10))\n",
        "    plt.plot(df_7_EYE['Timestamp'], df_7_EYE[col])\n",
        "    plt.xlabel(\"Timestamp\") # Add x-axis label\n",
        "    plt.ylabel(col) # Add y-axis label\n",
        "    plt.show()"
      ]
    },
    {
      "cell_type": "markdown",
      "id": "35b19abf",
      "metadata": {
        "id": "35b19abf"
      },
      "source": [
        "# Observations from Time Series Plots After Imputation\n",
        "\n",
        "The line plots generated after imputing the missing values with the mean show the temporal patterns of the features with the missing data handled. Key observations from these updated plots include:\n",
        "\n",
        "- The gaps or flat lines at -1, which were prominent in the plots for columns like gaze coordinates, pupil size, distance, and camera position, are now filled by lines at the mean value of the respective columns.\n",
        "- The plots for the validity columns remain the same as they were handled separately.\n",
        "- The `ET_TimeSignal` plot still shows a steady increasing trend, as expected."
      ]
    },
    {
      "cell_type": "code",
      "execution_count": null,
      "id": "4983fc81",
      "metadata": {
        "id": "4983fc81"
      },
      "outputs": [],
      "source": [
        "plt.figure(figsize=(16, 10))\n",
        "sns.heatmap(df_7_EYE.corr(numeric_only=True), cmap='YlGnBu', annot=True)\n",
        "plt.show()"
      ]
    },
    {
      "cell_type": "markdown",
      "id": "fb6c4c76",
      "metadata": {
        "id": "fb6c4c76"
      },
      "source": [
        "# Observations from Correlation Heatmap\n",
        "\n",
        "The correlation heatmap provides a visual representation of the pairwise correlations between the numeric columns in the dataset. Key observations from the heatmap include:\n",
        "\n",
        "- **High Positive Correlations:** We observe strong positive correlations (values close to 1) between:\n",
        "  - `ET_GazeLeftx` and `ET_GazeRightx`: This is expected as the gaze positions of both eyes should be highly correlated when fixating on a point.\n",
        "  - `ET_GazeLefty` and `ET_GazeRighty`: Similar to the x-coordinates, the y-coordinates of gaze should also be highly correlated.\n",
        "  - `ET_PupilLeft` and `ET_PupilRight`: Pupil sizes of both eyes tend to change together in response to light and cognitive load.\n",
        "  - `ET_DistanceLeft` and `ET_DistanceRight`: The distance from the eye tracker to each eye should be highly correlated.\n",
        "  - `ET_CameraLeftX` and `ET_CameraRightX`, `ET_CameraLeftY` and `ET_CameraRightY`: The camera positions for both eyes are also expected to be highly correlated.\n",
        "  - `UnixTime` and `ET_TimeSignal`: As previously noted, these two columns are almost perfectly linearly correlated, indicating redundancy.\n",
        "  - `ET_ValidityLeft` and `ET_PupilLeft_validity`: There is a positive correlation, suggesting that when the overall left eye data is invalid, the left pupil data is also likely to be invalid.\n",
        "  - `ET_ValidityRight` and `ET_PupilRight_validity`: Similar to the left eye, there is a positive correlation between the overall right eye validity and the right pupil validity.\n",
        "- **Other Correlations:** We can also observe other varying degrees of correlations between different features, which can provide insights into the relationships between gaze behavior, pupil size, distance, and camera position. For example, there might be correlations between gaze coordinates and camera positions, reflecting head movements.\n",
        "- **Low or Near-Zero Correlations:** Columns with low or near-zero correlations are relatively independent of each other.\n",
        "\n",
        "Understanding these correlations is important for feature selection and for building models, as highly correlated features might indicate multicollinearity, while correlations between features can reveal underlying patterns in the data."
      ]
    },
    {
      "cell_type": "markdown",
      "id": "70337018",
      "metadata": {
        "id": "70337018"
      },
      "source": [
        "# Analysis of ET_TimeSignal and Decision to Drop\n",
        "\n",
        "As observed in the time series plot and confirmed by the correlation heatmap, the `ET_TimeSignal` column exhibits a near-perfect linear relationship with both the `Timestamp` and `UnixTime` columns. This strong correlation (close to 1) suggests that `ET_TimeSignal` is essentially redundant and likely represents another form of time recording or a signal directly derived from the timestamp.\n",
        "\n",
        "Including highly correlated features like this in a dataset can lead to issues such as multicollinearity in some statistical models, which can make it difficult to interpret the individual impact of each feature. Since the `Timestamp` column already provides the necessary temporal information, retaining `ET_TimeSignal` does not appear to add significant value for further analysis or modeling in most cases.\n",
        "\n",
        "Therefore, based on its high correlation and lack of unique insight, we will proceed to drop the `ET_TimeSignal` column to simplify the dataset and potentially improve the performance and interpretability of future analyses."
      ]
    },
    {
      "cell_type": "code",
      "execution_count": null,
      "id": "34370df0",
      "metadata": {
        "id": "34370df0"
      },
      "outputs": [],
      "source": [
        "df_7_EYE.drop('ET_TimeSignal', axis=1, inplace=True)"
      ]
    },
    {
      "cell_type": "code",
      "execution_count": null,
      "id": "c1873f28",
      "metadata": {
        "id": "c1873f28"
      },
      "outputs": [],
      "source": [
        "plt.figure(figsize=(16, 10))\n",
        "sns.pairplot(df_7_EYE)\n",
        "plt.show()"
      ]
    },
    {
      "cell_type": "markdown",
      "id": "b06f3725",
      "metadata": {
        "id": "b06f3725"
      },
      "source": [
        "# **8_EYE**"
      ]
    },
    {
      "cell_type": "code",
      "execution_count": null,
      "id": "0077a361",
      "metadata": {
        "id": "0077a361"
      },
      "outputs": [],
      "source": [
        "df_8_EYE = pd.read_csv('data/STData/8/8_EYE.csv')"
      ]
    },
    {
      "cell_type": "code",
      "execution_count": null,
      "id": "0a35961c",
      "metadata": {
        "id": "0a35961c"
      },
      "outputs": [],
      "source": [
        "df_8_EYE.head()"
      ]
    },
    {
      "cell_type": "code",
      "execution_count": null,
      "id": "fa3e0e98",
      "metadata": {
        "id": "fa3e0e98",
        "colab": {
          "base_uri": "https://localhost:8080/"
        },
        "outputId": "1f5a2ae2-2dc5-4aa2-f2ee-f49e412cb8eb"
      },
      "outputs": [
        {
          "output_type": "execute_result",
          "data": {
            "text/plain": [
              "(78715, 19)"
            ]
          },
          "metadata": {},
          "execution_count": 528
        }
      ],
      "source": [
        "df_8_EYE.shape"
      ]
    },
    {
      "cell_type": "code",
      "execution_count": null,
      "id": "341a7b88",
      "metadata": {
        "id": "341a7b88",
        "colab": {
          "base_uri": "https://localhost:8080/"
        },
        "outputId": "ced43a4f-53ca-4fa7-bbfe-520cddd66f6a"
      },
      "outputs": [
        {
          "output_type": "execute_result",
          "data": {
            "text/plain": [
              "Index(['UnixTime', 'Row', 'QuestionKey', 'Timestamp', 'ET_GazeLeftx',\n",
              "       'ET_GazeLefty', 'ET_GazeRightx', 'ET_GazeRighty', 'ET_PupilLeft',\n",
              "       'ET_PupilRight', 'ET_TimeSignal', 'ET_DistanceLeft', 'ET_DistanceRight',\n",
              "       'ET_CameraLeftX', 'ET_CameraLeftY', 'ET_CameraRightX',\n",
              "       'ET_CameraRightY', 'ET_ValidityLeft', 'ET_ValidityRight'],\n",
              "      dtype='object')"
            ]
          },
          "metadata": {},
          "execution_count": 529
        }
      ],
      "source": [
        "df_8_EYE.columns"
      ]
    },
    {
      "cell_type": "code",
      "execution_count": null,
      "id": "367bdfd4",
      "metadata": {
        "id": "367bdfd4",
        "colab": {
          "base_uri": "https://localhost:8080/"
        },
        "outputId": "5ef232d1-c759-4bc3-8761-4798a58a8819"
      },
      "outputs": [
        {
          "output_type": "stream",
          "name": "stdout",
          "text": [
            "<class 'pandas.core.frame.DataFrame'>\n",
            "RangeIndex: 78715 entries, 0 to 78714\n",
            "Data columns (total 19 columns):\n",
            " #   Column            Non-Null Count  Dtype  \n",
            "---  ------            --------------  -----  \n",
            " 0   UnixTime          78715 non-null  float64\n",
            " 1   Row               78715 non-null  int64  \n",
            " 2   QuestionKey       35065 non-null  object \n",
            " 3   Timestamp         78715 non-null  object \n",
            " 4   ET_GazeLeftx      78711 non-null  float64\n",
            " 5   ET_GazeLefty      78711 non-null  float64\n",
            " 6   ET_GazeRightx     78711 non-null  float64\n",
            " 7   ET_GazeRighty     78711 non-null  float64\n",
            " 8   ET_PupilLeft      78711 non-null  float64\n",
            " 9   ET_PupilRight     78711 non-null  float64\n",
            " 10  ET_TimeSignal     78711 non-null  float64\n",
            " 11  ET_DistanceLeft   78711 non-null  float64\n",
            " 12  ET_DistanceRight  78711 non-null  float64\n",
            " 13  ET_CameraLeftX    78711 non-null  float64\n",
            " 14  ET_CameraLeftY    78711 non-null  float64\n",
            " 15  ET_CameraRightX   78711 non-null  float64\n",
            " 16  ET_CameraRightY   78711 non-null  float64\n",
            " 17  ET_ValidityLeft   78711 non-null  float64\n",
            " 18  ET_ValidityRight  78711 non-null  float64\n",
            "dtypes: float64(16), int64(1), object(2)\n",
            "memory usage: 11.4+ MB\n"
          ]
        }
      ],
      "source": [
        "df_8_EYE.info()"
      ]
    },
    {
      "cell_type": "code",
      "execution_count": null,
      "id": "8c85d12a",
      "metadata": {
        "id": "8c85d12a",
        "colab": {
          "base_uri": "https://localhost:8080/"
        },
        "outputId": "36834602-def1-47b6-8aea-24757dfcd696"
      },
      "outputs": [
        {
          "output_type": "execute_result",
          "data": {
            "text/plain": [
              "UnixTime                0\n",
              "Row                     0\n",
              "QuestionKey         43650\n",
              "Timestamp               0\n",
              "ET_GazeLeftx            4\n",
              "ET_GazeLefty            4\n",
              "ET_GazeRightx           4\n",
              "ET_GazeRighty           4\n",
              "ET_PupilLeft            4\n",
              "ET_PupilRight           4\n",
              "ET_TimeSignal           4\n",
              "ET_DistanceLeft         4\n",
              "ET_DistanceRight        4\n",
              "ET_CameraLeftX          4\n",
              "ET_CameraLeftY          4\n",
              "ET_CameraRightX         4\n",
              "ET_CameraRightY         4\n",
              "ET_ValidityLeft         4\n",
              "ET_ValidityRight        4\n",
              "dtype: int64"
            ]
          },
          "metadata": {},
          "execution_count": 531
        }
      ],
      "source": [
        "df_8_EYE.isnull().sum()"
      ]
    },
    {
      "cell_type": "code",
      "execution_count": null,
      "id": "8301ed25",
      "metadata": {
        "id": "8301ed25"
      },
      "outputs": [],
      "source": [
        "plt.figure(figsize=(12,8))\n",
        "sns.heatmap(df_8_EYE.isnull(), cmap='viridis')\n",
        "plt.show()"
      ]
    },
    {
      "cell_type": "markdown",
      "id": "36dd8275",
      "metadata": {
        "id": "36dd8275"
      },
      "source": [
        "# Notes & Observations\n",
        "\n",
        "- We observe many **null** (or missing) values in the `QuestionKey` columns.\n",
        "- The nulls in the `QuestionKey` column may not represent “true” nulls. Rather, they follow interval patterns, suggesting that during those periods no question was displayed.\n",
        "- These missing values in `QuestionKey` require additional investigation and context-aware handling."
      ]
    },
    {
      "cell_type": "code",
      "execution_count": null,
      "id": "971fbda9",
      "metadata": {
        "id": "971fbda9",
        "colab": {
          "base_uri": "https://localhost:8080/"
        },
        "outputId": "515c2da7-51a2-412e-a205-273f636683d6"
      },
      "outputs": [
        {
          "output_type": "execute_result",
          "data": {
            "text/plain": [
              "array([nan, '1spl1', '1spl2', '1Item1', '1Item2', '1Item3', '1Item4',\n",
              "       '1Item5', '1Item6', '1Item7', '1Item8', '1Item9', '1Item10',\n",
              "       '2spl1', '2spl2', '2Item1', '2Item2', '2Item3', '2Item4', '2Item5',\n",
              "       '2Item6', '2Item7', '2Item8', '2Item9', '2Item10', '3spl1',\n",
              "       '3spl2', '3Item15', '3Item2', '3Item5', '3Item12', '3Item6',\n",
              "       '3Item8', '3Item7', '3Item9', '3Item17', '3Item19', '3Item11',\n",
              "       '3Item4', '3Item13', '3Item10', '3Item14', '3Item3'], dtype=object)"
            ]
          },
          "metadata": {},
          "execution_count": 533
        }
      ],
      "source": [
        "df_8_EYE['QuestionKey'].unique()"
      ]
    },
    {
      "cell_type": "code",
      "execution_count": null,
      "id": "b79be357",
      "metadata": {
        "id": "b79be357"
      },
      "outputs": [],
      "source": [
        "df_8_EYE['Timestamp'] = pd.to_datetime(df_8_EYE['Timestamp'])"
      ]
    },
    {
      "cell_type": "code",
      "execution_count": null,
      "id": "c8433f6e",
      "metadata": {
        "id": "c8433f6e"
      },
      "outputs": [],
      "source": [
        "df_8_EYE.head(3)"
      ]
    },
    {
      "cell_type": "code",
      "execution_count": null,
      "id": "7ed472c8",
      "metadata": {
        "id": "7ed472c8"
      },
      "outputs": [],
      "source": [
        "df_8_EYE['QuestionKey'] = df_8_EYE['QuestionKey'].fillna('None')"
      ]
    },
    {
      "cell_type": "code",
      "execution_count": null,
      "id": "886bf80c",
      "metadata": {
        "id": "886bf80c",
        "colab": {
          "base_uri": "https://localhost:8080/"
        },
        "outputId": "3b710f87-a866-447c-a3d4-7d728bd55383"
      },
      "outputs": [
        {
          "output_type": "execute_result",
          "data": {
            "text/plain": [
              "QuestionKey\n",
              "None       43650\n",
              "3Item19     2789\n",
              "1Item10     2364\n",
              "3Item8      1410\n",
              "1Item4      1395\n",
              "3Item5      1262\n",
              "1Item6      1238\n",
              "3Item17     1159\n",
              "2spl2       1119\n",
              "2Item10     1106\n",
              "3Item14     1046\n",
              "1Item3       974\n",
              "3Item7       962\n",
              "2Item6       947\n",
              "1Item2       839\n",
              "3Item9       808\n",
              "1Item9       798\n",
              "1Item1       784\n",
              "2Item4       757\n",
              "1spl1        740\n",
              "3Item12      700\n",
              "1Item7       644\n",
              "1Item8       629\n",
              "2Item8       629\n",
              "1spl2        628\n",
              "3Item10      625\n",
              "2Item3       614\n",
              "3Item3       600\n",
              "3Item6       598\n",
              "2Item9       595\n",
              "2Item7       591\n",
              "2spl1        584\n",
              "3Item4       572\n",
              "3Item15      557\n",
              "2Item5       542\n",
              "3Item11      539\n",
              "3spl1        508\n",
              "3Item13      460\n",
              "1Item5       440\n",
              "3spl2        401\n",
              "3Item2       393\n",
              "2Item2       388\n",
              "2Item1       331\n",
              "Name: count, dtype: int64"
            ]
          },
          "metadata": {},
          "execution_count": 537
        }
      ],
      "source": [
        "df_8_EYE['QuestionKey'].value_counts()"
      ]
    },
    {
      "cell_type": "code",
      "execution_count": null,
      "id": "60a751a3",
      "metadata": {
        "id": "60a751a3"
      },
      "outputs": [],
      "source": [
        "plt.figure(figsize=(12,8))\n",
        "sns.heatmap(df_8_EYE.isnull(), cmap='viridis')\n",
        "plt.show()"
      ]
    },
    {
      "cell_type": "code",
      "execution_count": null,
      "id": "d1c84756",
      "metadata": {
        "id": "d1c84756",
        "colab": {
          "base_uri": "https://localhost:8080/"
        },
        "outputId": "92947046-5981-451a-ca31-308d581e0c51"
      },
      "outputs": [
        {
          "output_type": "execute_result",
          "data": {
            "text/plain": [
              "UnixTime            0\n",
              "Row                 0\n",
              "QuestionKey         0\n",
              "Timestamp           0\n",
              "ET_GazeLeftx        4\n",
              "ET_GazeLefty        4\n",
              "ET_GazeRightx       4\n",
              "ET_GazeRighty       4\n",
              "ET_PupilLeft        4\n",
              "ET_PupilRight       4\n",
              "ET_TimeSignal       4\n",
              "ET_DistanceLeft     4\n",
              "ET_DistanceRight    4\n",
              "ET_CameraLeftX      4\n",
              "ET_CameraLeftY      4\n",
              "ET_CameraRightX     4\n",
              "ET_CameraRightY     4\n",
              "ET_ValidityLeft     4\n",
              "ET_ValidityRight    4\n",
              "dtype: int64"
            ]
          },
          "metadata": {},
          "execution_count": 539
        }
      ],
      "source": [
        "df_8_EYE.isnull().sum()"
      ]
    },
    {
      "cell_type": "code",
      "execution_count": null,
      "id": "4415fb23",
      "metadata": {
        "id": "4415fb23"
      },
      "outputs": [],
      "source": [
        "df_8_EYE.dropna(inplace=True)"
      ]
    },
    {
      "cell_type": "code",
      "execution_count": null,
      "id": "0e5f190f",
      "metadata": {
        "id": "0e5f190f"
      },
      "outputs": [],
      "source": [
        "df_8_EYE.head()"
      ]
    },
    {
      "cell_type": "code",
      "execution_count": null,
      "id": "900abafd",
      "metadata": {
        "id": "900abafd",
        "colab": {
          "base_uri": "https://localhost:8080/"
        },
        "outputId": "4969f93b-13a8-48b2-b82a-ef4cb4fc7c7e"
      },
      "outputs": [
        {
          "output_type": "execute_result",
          "data": {
            "text/plain": [
              "array([    2,     3,     4, ..., 78711, 78712, 78713], shape=(78711,))"
            ]
          },
          "metadata": {},
          "execution_count": 542
        }
      ],
      "source": [
        "df_8_EYE['Row'].unique()"
      ]
    },
    {
      "cell_type": "code",
      "execution_count": null,
      "id": "e9dafe07",
      "metadata": {
        "id": "e9dafe07"
      },
      "outputs": [],
      "source": [
        "plt.figure(figsize=(8,6))\n",
        "sns.histplot(df_8_EYE['Row'])\n",
        "plt.show()"
      ]
    },
    {
      "cell_type": "markdown",
      "id": "9fddb5ba",
      "metadata": {
        "id": "9fddb5ba"
      },
      "source": [
        "# Notes & Observations\n",
        "\n",
        "- The `Row` column appears to be a simple row index and does not provide meaningful information relevant to the eye-tracking data itself. Therefore, it can be dropped."
      ]
    },
    {
      "cell_type": "code",
      "execution_count": null,
      "id": "7b4d006e",
      "metadata": {
        "id": "7b4d006e"
      },
      "outputs": [],
      "source": [
        "df_8_EYE.drop('Row', axis=1, inplace=True)"
      ]
    },
    {
      "cell_type": "code",
      "execution_count": null,
      "id": "b9e373a1",
      "metadata": {
        "id": "b9e373a1",
        "colab": {
          "base_uri": "https://localhost:8080/"
        },
        "outputId": "82963cdb-a8b1-4154-f7f3-292cf1690557"
      },
      "outputs": [
        {
          "output_type": "execute_result",
          "data": {
            "text/plain": [
              "array([0., 4.])"
            ]
          },
          "metadata": {},
          "execution_count": 545
        }
      ],
      "source": [
        "df_8_EYE['ET_ValidityLeft'].unique()"
      ]
    },
    {
      "cell_type": "code",
      "execution_count": null,
      "id": "65ac734d",
      "metadata": {
        "id": "65ac734d",
        "colab": {
          "base_uri": "https://localhost:8080/"
        },
        "outputId": "087b9df3-b7b1-4a5f-d1d6-11532fcab618"
      },
      "outputs": [
        {
          "output_type": "execute_result",
          "data": {
            "text/plain": [
              "ET_ValidityLeft\n",
              "0.0    70033\n",
              "4.0     8678\n",
              "Name: count, dtype: int64"
            ]
          },
          "metadata": {},
          "execution_count": 546
        }
      ],
      "source": [
        "df_8_EYE['ET_ValidityLeft'].value_counts()"
      ]
    },
    {
      "cell_type": "code",
      "execution_count": null,
      "id": "e100c803",
      "metadata": {
        "id": "e100c803",
        "colab": {
          "base_uri": "https://localhost:8080/"
        },
        "outputId": "047532d0-26a7-43a3-a6cb-e294042795c9"
      },
      "outputs": [
        {
          "output_type": "execute_result",
          "data": {
            "text/plain": [
              "array([0., 4.])"
            ]
          },
          "metadata": {},
          "execution_count": 547
        }
      ],
      "source": [
        "df_8_EYE['ET_ValidityRight'].unique()"
      ]
    },
    {
      "cell_type": "code",
      "execution_count": null,
      "id": "a2904b1c",
      "metadata": {
        "id": "a2904b1c",
        "colab": {
          "base_uri": "https://localhost:8080/"
        },
        "outputId": "6444b19b-9c4b-4b7f-fa86-0c5f48dc26c4"
      },
      "outputs": [
        {
          "output_type": "execute_result",
          "data": {
            "text/plain": [
              "ET_ValidityRight\n",
              "0.0    71681\n",
              "4.0     7030\n",
              "Name: count, dtype: int64"
            ]
          },
          "metadata": {},
          "execution_count": 548
        }
      ],
      "source": [
        "df_8_EYE['ET_ValidityRight'].value_counts()"
      ]
    },
    {
      "cell_type": "code",
      "execution_count": null,
      "id": "6b266811",
      "metadata": {
        "id": "6b266811"
      },
      "outputs": [],
      "source": [
        "plt.figure(figsize=(12, 6))\n",
        "\n",
        "plt.subplot(1, 2, 1)\n",
        "sns.barplot(x=df_8_EYE['ET_ValidityLeft'].value_counts().index, y=df_8_EYE['ET_ValidityLeft'].value_counts().values)\n",
        "plt.title('Count of ET_ValidityLeft')\n",
        "plt.xlabel('Validity')\n",
        "plt.ylabel('Count')\n",
        "\n",
        "\n",
        "plt.subplot(1, 2, 2)\n",
        "sns.barplot(x=df_8_EYE['ET_ValidityRight'].value_counts().index, y=df_8_EYE['ET_ValidityRight'].value_counts().values)\n",
        "plt.title('Count of ET_ValidityRight')\n",
        "plt.xlabel('Validity')\n",
        "plt.ylabel('Count')\n",
        "\n",
        "plt.tight_layout()\n",
        "plt.show()"
      ]
    },
    {
      "cell_type": "markdown",
      "id": "9386e327",
      "metadata": {
        "id": "9386e327"
      },
      "source": [
        "# Notes & Observations\n",
        "\n",
        "- The `ET_ValidityLeft` and `ET_ValidityRight` columns indicate the validity of the eye-tracking data for the left and right eye, respectively.\n",
        "- Based on the value counts and the bar plots, it appears that a value of `0.0` represents valid eye-tracking data, while a value of `4.0` represents invalid data.\n",
        "- Although the amount of invalid data is relatively small, removing these rows could introduce unwanted patterns or gaps in the time series data.\n",
        "- Therefore, we will keep the data and replace the value `4.0` with `1.0` in both `ET_ValidityLeft` and `ET_ValidityRight` columns. This will indicate to a machine learning model that the eye tracker had invalid data at those specific points in time while maintaining the integrity of the time series."
      ]
    },
    {
      "cell_type": "markdown",
      "id": "670995d6",
      "metadata": {
        "id": "670995d6"
      },
      "source": [
        "Define a mapping to convert validity values from `0.0` and `4.0` to `0` and `1`."
      ]
    },
    {
      "cell_type": "code",
      "execution_count": null,
      "id": "60b9dc8c",
      "metadata": {
        "id": "60b9dc8c"
      },
      "outputs": [],
      "source": [
        "validity_map = {4.0: 1.0, 0.0: 0.0}"
      ]
    },
    {
      "cell_type": "code",
      "execution_count": null,
      "id": "4af32f2c",
      "metadata": {
        "id": "4af32f2c"
      },
      "outputs": [],
      "source": [
        "df_8_EYE['ET_ValidityLeft'] = df_8_EYE['ET_ValidityLeft'].map(validity_map).astype(np.int8)\n",
        "df_8_EYE['ET_ValidityRight'] = df_8_EYE['ET_ValidityRight'].map(validity_map).astype(np.int8)"
      ]
    },
    {
      "cell_type": "code",
      "execution_count": null,
      "id": "0e9ec4a7",
      "metadata": {
        "id": "0e9ec4a7"
      },
      "outputs": [],
      "source": [
        "df_8_EYE.head(3)"
      ]
    },
    {
      "cell_type": "code",
      "execution_count": null,
      "id": "af6e1e23",
      "metadata": {
        "id": "af6e1e23"
      },
      "outputs": [],
      "source": [
        "df_8_EYE.describe()"
      ]
    },
    {
      "cell_type": "code",
      "execution_count": null,
      "id": "196a72aa",
      "metadata": {
        "id": "196a72aa",
        "colab": {
          "base_uri": "https://localhost:8080/"
        },
        "outputId": "981a3ea8-d571-4468-d3c1-d105bdc7b9c1"
      },
      "outputs": [
        {
          "output_type": "execute_result",
          "data": {
            "text/plain": [
              "(8678, 18)"
            ]
          },
          "metadata": {},
          "execution_count": 554
        }
      ],
      "source": [
        "df_8_EYE[df_8_EYE['ET_ValidityLeft'] == 1].shape"
      ]
    },
    {
      "cell_type": "code",
      "execution_count": null,
      "id": "bb55a648",
      "metadata": {
        "id": "bb55a648",
        "colab": {
          "base_uri": "https://localhost:8080/"
        },
        "outputId": "6c91a533-605c-46b0-ce4e-1016df93d1f1"
      },
      "outputs": [
        {
          "output_type": "execute_result",
          "data": {
            "text/plain": [
              "(7030, 18)"
            ]
          },
          "metadata": {},
          "execution_count": 555
        }
      ],
      "source": [
        "df_8_EYE[df_8_EYE['ET_ValidityRight'] == 1].shape"
      ]
    },
    {
      "cell_type": "code",
      "execution_count": null,
      "id": "9d29217c",
      "metadata": {
        "id": "9d29217c",
        "colab": {
          "base_uri": "https://localhost:8080/"
        },
        "outputId": "5ec56b6d-6b66-42f4-cd65-c9300220ce50"
      },
      "outputs": [
        {
          "output_type": "execute_result",
          "data": {
            "text/plain": [
              "0.11025142610308597"
            ]
          },
          "metadata": {},
          "execution_count": 556
        }
      ],
      "source": [
        "df_8_EYE[df_8_EYE['ET_ValidityLeft'] == 1].shape[0] / df_8_EYE.shape[0]"
      ]
    },
    {
      "cell_type": "code",
      "execution_count": null,
      "id": "734472e5",
      "metadata": {
        "id": "734472e5",
        "colab": {
          "base_uri": "https://localhost:8080/"
        },
        "outputId": "8fd3c1e8-1d25-4698-f344-92bef47506e5"
      },
      "outputs": [
        {
          "output_type": "execute_result",
          "data": {
            "text/plain": [
              "0.08931407300123236"
            ]
          },
          "metadata": {},
          "execution_count": 557
        }
      ],
      "source": [
        "df_8_EYE[df_8_EYE['ET_ValidityRight'] == 1].shape[0] / df_8_EYE.shape[0]"
      ]
    },
    {
      "cell_type": "code",
      "execution_count": null,
      "id": "4c072848",
      "metadata": {
        "id": "4c072848"
      },
      "outputs": [],
      "source": [
        "plt.figure(figsize=(18, 8))\n",
        "\n",
        "plt.subplot(1, 2, 1)\n",
        "sns.heatmap(df_8_EYE == -1, cmap='viridis')\n",
        "plt.title('Heatmap of -1 Values')\n",
        "\n",
        "plt.subplot(1, 2, 2)\n",
        "sns.heatmap(df_8_EYE == 1, cmap='viridis')\n",
        "plt.title('Heatmap of 1 Values')\n",
        "\n",
        "plt.tight_layout()\n",
        "plt.show()"
      ]
    },
    {
      "cell_type": "code",
      "execution_count": null,
      "id": "9b45181d",
      "metadata": {
        "id": "9b45181d",
        "colab": {
          "base_uri": "https://localhost:8080/"
        },
        "outputId": "851ca41b-7fe0-44e4-ba9f-c6e9b8aa7222"
      },
      "outputs": [
        {
          "output_type": "execute_result",
          "data": {
            "text/plain": [
              "(55828, 18)"
            ]
          },
          "metadata": {},
          "execution_count": 559
        }
      ],
      "source": [
        "df_8_EYE[df_8_EYE['ET_PupilLeft'] == -1].shape"
      ]
    },
    {
      "cell_type": "code",
      "execution_count": null,
      "id": "6c8d9028",
      "metadata": {
        "id": "6c8d9028",
        "colab": {
          "base_uri": "https://localhost:8080/"
        },
        "outputId": "390d952d-0f6b-4837-a05e-b09b7fb1fb14"
      },
      "outputs": [
        {
          "output_type": "execute_result",
          "data": {
            "text/plain": [
              "(54673, 18)"
            ]
          },
          "metadata": {},
          "execution_count": 560
        }
      ],
      "source": [
        "df_8_EYE[df_8_EYE['ET_PupilRight'] == -1].shape"
      ]
    },
    {
      "cell_type": "code",
      "execution_count": null,
      "id": "8c0c6d79",
      "metadata": {
        "id": "8c0c6d79",
        "colab": {
          "base_uri": "https://localhost:8080/"
        },
        "outputId": "c0900d3f-4c58-4bc7-9f74-4d0b657ff0d0"
      },
      "outputs": [
        {
          "output_type": "execute_result",
          "data": {
            "text/plain": [
              "0.7092782457343955"
            ]
          },
          "metadata": {},
          "execution_count": 561
        }
      ],
      "source": [
        "df_8_EYE[df_8_EYE['ET_PupilLeft'] == -1].shape[0] / df_8_EYE.shape[0]"
      ]
    },
    {
      "cell_type": "code",
      "execution_count": null,
      "id": "761c780d",
      "metadata": {
        "id": "761c780d",
        "colab": {
          "base_uri": "https://localhost:8080/"
        },
        "outputId": "47614488-4f48-4426-f841-8e74894438dd"
      },
      "outputs": [
        {
          "output_type": "execute_result",
          "data": {
            "text/plain": [
              "0.694604311976725"
            ]
          },
          "metadata": {},
          "execution_count": 562
        }
      ],
      "source": [
        "df_8_EYE[df_8_EYE['ET_PupilRight'] == -1].shape[0] / df_8_EYE.shape[0]"
      ]
    },
    {
      "cell_type": "code",
      "execution_count": null,
      "id": "948ebac8",
      "metadata": {
        "id": "948ebac8"
      },
      "outputs": [],
      "source": [
        "plt.figure(figsize=(18, 8))\n",
        "\n",
        "plt.subplot(1, 2, 1)\n",
        "sns.heatmap(df_8_EYE[df_8_EYE['ET_ValidityLeft'] == 1] == -1, cmap='viridis')\n",
        "plt.title('Heatmap of -1 Values')\n",
        "\n",
        "plt.subplot(1, 2, 2)\n",
        "sns.heatmap(df_8_EYE[df_8_EYE['ET_ValidityRight'] == 1] == -1, cmap='viridis')\n",
        "plt.title('Heatmap of -1 Values')\n",
        "\n",
        "plt.tight_layout()\n",
        "plt.show()"
      ]
    },
    {
      "cell_type": "markdown",
      "id": "e1a92f35",
      "metadata": {
        "id": "e1a92f35"
      },
      "source": [
        "# Notes & Observations\n",
        "\n",
        "- The heatmaps reveal the distribution of -1 values across different columns.\n",
        "- It is evident that the `-1` values are not randomly scattered but appear in specific columns, notably `ET_GazeLeftx`, `ET_GazeLefty`, `ET_GazeRightx`, `ET_GazeRighty`, `ET_PupilLeft`, `ET_PupilRight`, `ET_DistanceLeft`, `ET_DistanceRight`, `ET_CameraLeftX`, `ET_CameraLeftY`, `ET_CameraRightX`, and `ET_CameraRightY`.\n",
        "- These `-1` values often coincide with instances where `ET_ValidityLeft` or `ET_ValidityRight` is 1, indicating invalid eye-tracking data. This suggests that `-1` is used as a placeholder for missing or invalid measurements in these columns when the eye tracker is not providing valid data for a particular eye.\n",
        "- Given that over 70% of the data in the `ET_PupilLeft` and `ET_PupilRight` columns is marked as invalid (-1), so instead of dropping them we can create new feature for both the `ET_PupilLeft` and `ET_PupilRight` to represent which row consist invalid `ET_PupilLeft` and `ET_PupilRight` data"
      ]
    },
    {
      "cell_type": "code",
      "execution_count": null,
      "id": "623aaaac",
      "metadata": {
        "id": "623aaaac"
      },
      "outputs": [],
      "source": [
        "pupil_validity = {-1: 1 }"
      ]
    },
    {
      "cell_type": "code",
      "execution_count": null,
      "id": "59acb265",
      "metadata": {
        "id": "59acb265"
      },
      "outputs": [],
      "source": [
        "df_8_EYE['ET_PupilLeft_validity'] = df_8_EYE['ET_PupilLeft'].map(pupil_validity)"
      ]
    },
    {
      "cell_type": "code",
      "execution_count": null,
      "id": "ab5be9c5",
      "metadata": {
        "id": "ab5be9c5"
      },
      "outputs": [],
      "source": [
        "df_8_EYE['ET_PupilRight_validity'] = df_8_EYE['ET_PupilRight'].map(pupil_validity)"
      ]
    },
    {
      "cell_type": "code",
      "execution_count": null,
      "id": "027735b4",
      "metadata": {
        "id": "027735b4"
      },
      "outputs": [],
      "source": [
        "df_8_EYE[['ET_PupilLeft_validity', 'ET_PupilRight_validity']].head()"
      ]
    },
    {
      "cell_type": "code",
      "execution_count": null,
      "id": "7a457b36",
      "metadata": {
        "id": "7a457b36",
        "colab": {
          "base_uri": "https://localhost:8080/"
        },
        "outputId": "f09273e6-460a-4574-a518-9926bcde0e6a"
      },
      "outputs": [
        {
          "output_type": "execute_result",
          "data": {
            "text/plain": [
              "ET_PupilLeft_validity     22883\n",
              "ET_PupilRight_validity    24038\n",
              "dtype: int64"
            ]
          },
          "metadata": {},
          "execution_count": 568
        }
      ],
      "source": [
        "df_8_EYE[['ET_PupilLeft_validity', 'ET_PupilRight_validity']].isnull().sum()"
      ]
    },
    {
      "cell_type": "code",
      "execution_count": null,
      "id": "85425bf7",
      "metadata": {
        "id": "85425bf7"
      },
      "outputs": [],
      "source": [
        "plt.figure(figsize=(18, 8))\n",
        "sns.heatmap(df_8_EYE[['ET_PupilLeft_validity', 'ET_PupilRight_validity']].isnull(), cmap='viridis')\n",
        "plt.show()"
      ]
    },
    {
      "cell_type": "code",
      "execution_count": null,
      "id": "939a2098",
      "metadata": {
        "id": "939a2098"
      },
      "outputs": [],
      "source": [
        "df_8_EYE['ET_PupilLeft_validity'] = df_8_EYE['ET_PupilLeft_validity'].fillna(0)"
      ]
    },
    {
      "cell_type": "code",
      "execution_count": null,
      "id": "0bbc30f5",
      "metadata": {
        "id": "0bbc30f5"
      },
      "outputs": [],
      "source": [
        "df_8_EYE['ET_PupilRight_validity'] = df_8_EYE['ET_PupilRight_validity'].fillna(0)"
      ]
    },
    {
      "cell_type": "code",
      "execution_count": null,
      "id": "35c41376",
      "metadata": {
        "id": "35c41376"
      },
      "outputs": [],
      "source": [
        "df_8_EYE[['ET_PupilLeft_validity', 'ET_PupilRight_validity']].head()"
      ]
    },
    {
      "cell_type": "code",
      "execution_count": null,
      "id": "5f7f6c4e",
      "metadata": {
        "id": "5f7f6c4e"
      },
      "outputs": [],
      "source": [
        "plt.figure(figsize=(18, 8))\n",
        "sns.heatmap(df_8_EYE[['ET_PupilLeft_validity', 'ET_PupilRight_validity']].isnull(), cmap='viridis')\n",
        "plt.show()"
      ]
    },
    {
      "cell_type": "code",
      "execution_count": null,
      "id": "2b19b7ab",
      "metadata": {
        "id": "2b19b7ab"
      },
      "outputs": [],
      "source": [
        "df_8_EYE.head()"
      ]
    },
    {
      "cell_type": "code",
      "execution_count": null,
      "id": "1e240fce",
      "metadata": {
        "id": "1e240fce"
      },
      "outputs": [],
      "source": [
        "plt.figure(figsize=(18, 8))\n",
        "\n",
        "plt.subplot(1, 2, 1)\n",
        "sns.heatmap(df_8_EYE == -1, cmap='viridis')\n",
        "plt.title('Heatmap of -1 Values')\n",
        "\n",
        "plt.subplot(1, 2, 2)\n",
        "sns.heatmap(df_8_EYE == 1, cmap='viridis')\n",
        "plt.title('Heatmap of -1 Values')\n",
        "\n",
        "plt.tight_layout()\n",
        "plt.show()"
      ]
    },
    {
      "cell_type": "code",
      "execution_count": null,
      "id": "ed299438",
      "metadata": {
        "id": "ed299438"
      },
      "outputs": [],
      "source": [
        "valid_left_ratio  = 1 - df_8_EYE['ET_ValidityLeft'].mean()"
      ]
    },
    {
      "cell_type": "code",
      "execution_count": null,
      "id": "d2f7418b",
      "metadata": {
        "id": "d2f7418b",
        "colab": {
          "base_uri": "https://localhost:8080/"
        },
        "outputId": "afefb797-96c6-4002-8e62-8ade4c2d45ac"
      },
      "outputs": [
        {
          "output_type": "execute_result",
          "data": {
            "text/plain": [
              "np.float64(0.889748573896914)"
            ]
          },
          "metadata": {},
          "execution_count": 577
        }
      ],
      "source": [
        "valid_left_ratio"
      ]
    },
    {
      "cell_type": "code",
      "execution_count": null,
      "id": "df560066",
      "metadata": {
        "id": "df560066"
      },
      "outputs": [],
      "source": [
        "valid_right_ratio = 1 - df_8_EYE['ET_ValidityRight'].mean()"
      ]
    },
    {
      "cell_type": "code",
      "execution_count": null,
      "id": "99a5fdcc",
      "metadata": {
        "id": "99a5fdcc",
        "colab": {
          "base_uri": "https://localhost:8080/"
        },
        "outputId": "f65c8a92-93cf-4185-b4f3-e67173242fa8"
      },
      "outputs": [
        {
          "output_type": "execute_result",
          "data": {
            "text/plain": [
              "np.float64(0.9106859269987676)"
            ]
          },
          "metadata": {},
          "execution_count": 579
        }
      ],
      "source": [
        "valid_right_ratio"
      ]
    },
    {
      "cell_type": "code",
      "execution_count": null,
      "id": "6600eedb",
      "metadata": {
        "id": "6600eedb"
      },
      "outputs": [],
      "source": [
        "df_8_EYE['ET_PupilLeft_validity'] = df_8_EYE['ET_PupilLeft_validity'].astype(np.int8)\n",
        "df_8_EYE['ET_PupilRight_validity'] = df_8_EYE['ET_PupilRight_validity'].astype(np.int8)"
      ]
    },
    {
      "cell_type": "markdown",
      "id": "1af48c84",
      "metadata": {
        "id": "1af48c84"
      },
      "source": [
        "# Feature Engineering and Observations\n",
        "\n",
        "Based on the analysis of the data, we've created two new features, `ET_PupilLeft_validity` and `ET_PupilRight_validity`. These features indicate the validity of the pupil data for the left and right eyes, respectively, with a value of 1 representing invalid data (originally -1) and 0 representing valid data.\n",
        "\n",
        "The heatmaps above visually demonstrate the distribution of -1 and 1 values across the dataset. We observed that:\n",
        "- The `-1` values are concentrated in specific columns related to gaze, pupil size, distance, and camera position, suggesting they represent missing or invalid sensor readings.\n",
        "- The `1` values, after mapping from `4.0` in the original validity columns, indicate instances of invalid eye-tracking data.\n",
        "- The heatmaps also show a strong correlation between the `-1` values in the pupil columns and a validity of 1 in the newly created pupil validity features, confirming that -1 was used to mark invalid pupil data."
      ]
    },
    {
      "cell_type": "code",
      "execution_count": null,
      "id": "3a213384",
      "metadata": {
        "id": "3a213384"
      },
      "outputs": [],
      "source": [
        "df_8_EYE.head()"
      ]
    },
    {
      "cell_type": "code",
      "execution_count": null,
      "id": "fb90e4d1",
      "metadata": {
        "id": "fb90e4d1"
      },
      "outputs": [],
      "source": [
        "# Select only the numeric columns for plotting histograms, excluding time-related columns\n",
        "numeric_cols = df_8_EYE.select_dtypes(include=np.number).columns\n",
        "cols_to_plot = [col for col in numeric_cols if col not in ['UnixTime']]\n",
        "\n",
        "# Calculate the number of rows and columns for the grid\n",
        "n_cols = 4  # You can adjust the number of columns as needed\n",
        "n_rows = (len(cols_to_plot) + n_cols - 1) // n_cols\n",
        "\n",
        "plt.figure(figsize=(n_cols * 5, n_rows * 4)) # Adjust figure size as needed\n",
        "\n",
        "for i, col in enumerate(cols_to_plot):\n",
        "    plt.subplot(n_rows, n_cols, i + 1)\n",
        "    sns.histplot(df_8_EYE[col], kde=True)\n",
        "    plt.title(f'Distribution of {col}')\n",
        "    plt.xlabel(col)\n",
        "    plt.ylabel('Frequency')\n",
        "\n",
        "plt.tight_layout()\n",
        "plt.show()"
      ]
    },
    {
      "cell_type": "markdown",
      "id": "2c98b20f",
      "metadata": {
        "id": "2c98b20f"
      },
      "source": [
        "# Observations from Histograms\n",
        "\n",
        "The grid of histograms provides insights into the distribution of values for each numeric column in the dataset (excluding 'UnixTime'). Key observations include:\n",
        "\n",
        "- Several columns, such as `ET_GazeLeftx`, `ET_GazeLefty`, `ET_GazeRightx`, and `ET_GazeRighty`, show distributions that appear somewhat multimodal or skewed, suggesting variations in gaze patterns.\n",
        "- The `ET_PupilLeft` and `ET_PupilRight` histograms clearly show a peak at -1, confirming the presence of a significant number of invalid pupil readings.\n",
        "- `ET_TimeSignal` shows a relatively uniform distribution, as expected for a time-based signal.\n",
        "- `ET_DistanceLeft` and `ET_DistanceRight` appear to have distributions centered around certain values, with some outliers or variations.\n",
        "- The camera position columns (`ET_CameraLeftX`, `ET_CameraLeftY`, `ET_CameraRightX`, `ET_CameraRightY`) seem to have distributions concentrated within specific ranges, reflecting the camera's field of view.\n",
        "- The validity columns (`ET_ValidityLeft`, `ET_ValidityRight`, `ET_PupilLeft_validity`, `ET_PupilRight_validity`) show distributions dominated by 0, indicating that most of the data is considered valid after the mapping. The smaller peaks at 1 represent the instances of invalid data.\n",
        "\n",
        "These distributions highlight the need for appropriate handling of the -1 values and potential outliers in subsequent analysis or modeling steps."
      ]
    },
    {
      "cell_type": "code",
      "execution_count": null,
      "id": "701eb00b",
      "metadata": {
        "id": "701eb00b",
        "colab": {
          "base_uri": "https://localhost:8080/"
        },
        "outputId": "bb89a3b0-c3ab-4fbb-84da-aa57440902e6"
      },
      "outputs": [
        {
          "output_type": "execute_result",
          "data": {
            "text/plain": [
              "Index(['UnixTime', 'QuestionKey', 'Timestamp', 'ET_GazeLeftx', 'ET_GazeLefty',\n",
              "       'ET_GazeRightx', 'ET_GazeRighty', 'ET_PupilLeft', 'ET_PupilRight',\n",
              "       'ET_TimeSignal', 'ET_DistanceLeft', 'ET_DistanceRight',\n",
              "       'ET_CameraLeftX', 'ET_CameraLeftY', 'ET_CameraRightX',\n",
              "       'ET_CameraRightY', 'ET_ValidityLeft', 'ET_ValidityRight',\n",
              "       'ET_PupilLeft_validity', 'ET_PupilRight_validity'],\n",
              "      dtype='object')"
            ]
          },
          "metadata": {},
          "execution_count": 583
        }
      ],
      "source": [
        "df_8_EYE.columns"
      ]
    },
    {
      "cell_type": "code",
      "execution_count": null,
      "id": "2321566e",
      "metadata": {
        "id": "2321566e"
      },
      "outputs": [],
      "source": [
        "cols = ['ET_GazeLeftx', 'ET_GazeLefty',\n",
        "       'ET_GazeRightx', 'ET_GazeRighty', 'ET_PupilLeft', 'ET_PupilRight',\n",
        "       'ET_TimeSignal', 'ET_DistanceLeft', 'ET_DistanceRight',\n",
        "       'ET_CameraLeftX', 'ET_CameraLeftY', 'ET_CameraRightX',\n",
        "       'ET_CameraRightY', 'ET_ValidityLeft', 'ET_ValidityRight',\n",
        "       'ET_PupilLeft_validity', 'ET_PupilRight_validity']"
      ]
    },
    {
      "cell_type": "code",
      "execution_count": null,
      "id": "f3d46909",
      "metadata": {
        "id": "f3d46909"
      },
      "outputs": [],
      "source": [
        "from IPython.display import display, Markdown\n",
        "\n",
        "for col in cols:\n",
        "    # Add a markdown cell before each plot for better separation and labeling\n",
        "    display(Markdown(f'### {col} over Time'))\n",
        "    plt.figure(figsize=(16, 10))\n",
        "    plt.plot(df_8_EYE['Timestamp'], df_8_EYE[col])\n",
        "    plt.xlabel(\"Timestamp\") # Add x-axis label\n",
        "    plt.ylabel(col) # Add y-axis label\n",
        "    plt.show()"
      ]
    },
    {
      "cell_type": "markdown",
      "id": "f86d62a3",
      "metadata": {
        "id": "f86d62a3"
      },
      "source": [
        "# Observations from Time Series Plots\n",
        "\n",
        "The line plots showing various features against the `Timestamp` reveal the temporal patterns and fluctuations in the eye-tracking data. Key observations include:\n",
        "\n",
        "- **Gaze Coordinates (`ET_GazeLeftx`, `ET_GazeLefty`, `ET_GazeRightx`, `ET_GazeRighty`):** These plots show the changes in gaze position over time. We can observe periods of relatively stable gaze interspersed with rapid movements (saccades) and blinks or other events where the gaze data might be invalid (-1 values appear as gaps or spikes if not handled).\n",
        "- **Pupil Size (`ET_PupilLeft`, `ET_PupilRight`):** The pupil size plots show variations over time. The presence of many -1 values is evident as flat lines at the bottom of the plot, indicating periods where pupil data was not recorded or was invalid.\n",
        "- **Time Signal (`ET_TimeSignal`):** This plot shows a steady, increasing trend, as expected for a time-based signal.\n",
        "- **Distance and Camera Position (`ET_DistanceLeft`, `ET_DistanceRight`, `ET_CameraLeftX`, `ET_CameraLeftY`, `ET_CameraRightX`, `ET_CameraRightY`):** These plots show how the distance from the eye tracker and the camera positions change over time. Variations in these features can be related to head movements or changes in the user's position relative to the eye tracker.\n",
        "- **Validity (`ET_ValidityLeft`, `ET_ValidityRight`, `ET_PupilLeft_validity`, `ET_PupilRight_validity`):** These plots clearly show periods of invalid data (represented by 1) as spikes or plateaus, corresponding to instances where the eye tracker lost track of the eyes or the pupil data was marked as invalid.\n",
        "\n",
        "Analyzing these time series plots is crucial for understanding the dynamics of the eye-tracking data and identifying patterns or anomalies that may require further investigation or specific handling during subsequent analysis."
      ]
    },
    {
      "cell_type": "code",
      "execution_count": null,
      "id": "97ac909e",
      "metadata": {
        "id": "97ac909e"
      },
      "outputs": [],
      "source": [
        "# Select only the numeric columns for plotting histograms, excluding time-related columns\n",
        "numeric_cols = df_8_EYE.select_dtypes(include=np.number).columns\n",
        "\n",
        "# Calculate the number of rows and columns for the grid\n",
        "n_cols = 4  # You can adjust the number of columns as needed\n",
        "n_rows = (len(numeric_cols) + n_cols - 1) // n_cols\n",
        "\n",
        "plt.figure(figsize=(n_cols * 5, n_rows * 4)) # Adjust figure size as needed\n",
        "\n",
        "for i, col in enumerate(numeric_cols):\n",
        "    plt.subplot(n_rows, n_cols, i + 1)\n",
        "    sns.boxplot(df_8_EYE[col])\n",
        "    plt.title(f'Boxplot of {col}')\n",
        "    plt.xlabel(col)\n",
        "\n",
        "plt.tight_layout()\n",
        "plt.show()"
      ]
    },
    {
      "cell_type": "markdown",
      "id": "30d90a1e",
      "metadata": {
        "id": "30d90a1e"
      },
      "source": [
        "# Observations from Boxplots and Handling -1 Values\n",
        "\n",
        "The boxplots provide a visual summary of the distribution and potential outliers for each numeric column. Key observations from the boxplots include:\n",
        "\n",
        "- The boxplots for columns like `ET_GazeLeftx`, `ET_GazeLefty`, `ET_GazeRightx`, `ET_GazeRighty`, `ET_PupilLeft`, `ET_PupilRight`, `ET_DistanceLeft`, `ET_DistanceRight`, `ET_CameraLeftX`, `ET_CameraLeftY`, `ET_CameraRightX`, and `ET_CameraRightY` clearly show the presence of -1 values as significant outliers, confirming our earlier observations from the heatmaps and histograms.\n",
        "- The boxplots for the validity columns (`ET_ValidityLeft`, `ET_ValidityRight`, `ET_PupilLeft_validity`, `ET_PupilRight_validity`) show the discrete nature of these features, with the majority of data points at 0 (valid) and a smaller number at 1 (invalid).\n",
        "\n",
        "Given the significant presence of -1 values, which represent invalid or missing data, especially in the pupil-related columns, we have decided to replace these -1 values with NaN to properly represent them as missing data. Subsequently, we will impute these missing values using the mean of each respective column. This approach helps to retain the data structure and allows for further analysis or modeling without the distortion caused by the -1 placeholders."
      ]
    },
    {
      "cell_type": "code",
      "execution_count": null,
      "id": "3eec0f05",
      "metadata": {
        "id": "3eec0f05"
      },
      "outputs": [],
      "source": [
        "df_8_EYE.replace({-1: np.nan}, inplace=True)"
      ]
    },
    {
      "cell_type": "code",
      "execution_count": null,
      "id": "79f9ee00",
      "metadata": {
        "id": "79f9ee00",
        "colab": {
          "base_uri": "https://localhost:8080/"
        },
        "outputId": "a3587064-d0f9-431b-82f4-a87066185857"
      },
      "outputs": [
        {
          "output_type": "execute_result",
          "data": {
            "text/plain": [
              "ET_GazeLeftx                 921.788101\n",
              "ET_GazeLefty                 509.305437\n",
              "ET_GazeRightx                864.354550\n",
              "ET_GazeRighty                532.364488\n",
              "ET_PupilLeft                   4.379470\n",
              "ET_PupilRight                  4.203896\n",
              "ET_TimeSignal             327894.717803\n",
              "ET_DistanceLeft              663.614534\n",
              "ET_DistanceRight             662.595434\n",
              "ET_CameraLeftX                 0.555895\n",
              "ET_CameraLeftY                 0.521516\n",
              "ET_CameraRightX                0.395979\n",
              "ET_CameraRightY                0.520169\n",
              "ET_ValidityLeft                0.110251\n",
              "ET_ValidityRight               0.089314\n",
              "ET_PupilLeft_validity          0.709278\n",
              "ET_PupilRight_validity         0.694604\n",
              "dtype: float64"
            ]
          },
          "metadata": {},
          "execution_count": 588
        }
      ],
      "source": [
        "df_8_EYE[['ET_GazeLeftx', 'ET_GazeLefty',\n",
        "       'ET_GazeRightx', 'ET_GazeRighty', 'ET_PupilLeft', 'ET_PupilRight',\n",
        "       'ET_TimeSignal', 'ET_DistanceLeft', 'ET_DistanceRight',\n",
        "       'ET_CameraLeftX', 'ET_CameraLeftY', 'ET_CameraRightX',\n",
        "       'ET_CameraRightY', 'ET_ValidityLeft', 'ET_ValidityRight',\n",
        "       'ET_PupilLeft_validity', 'ET_PupilRight_validity']].mean()"
      ]
    },
    {
      "cell_type": "code",
      "execution_count": null,
      "id": "844c8b8e",
      "metadata": {
        "id": "844c8b8e",
        "colab": {
          "base_uri": "https://localhost:8080/"
        },
        "outputId": "f5a235ee-e481-4eaf-d40b-506c0b08b980"
      },
      "outputs": [
        {
          "output_type": "execute_result",
          "data": {
            "text/plain": [
              "ET_GazeLeftx                 919.000000\n",
              "ET_GazeLefty                 478.000000\n",
              "ET_GazeRightx                830.000000\n",
              "ET_GazeRighty                495.000000\n",
              "ET_PupilLeft                   4.480911\n",
              "ET_PupilRight                  4.310020\n",
              "ET_TimeSignal             327895.605000\n",
              "ET_DistanceLeft              663.793274\n",
              "ET_DistanceRight             663.349854\n",
              "ET_CameraLeftX                 0.557264\n",
              "ET_CameraLeftY                 0.522116\n",
              "ET_CameraRightX                0.397364\n",
              "ET_CameraRightY                0.520171\n",
              "ET_ValidityLeft                0.000000\n",
              "ET_ValidityRight               0.000000\n",
              "ET_PupilLeft_validity          1.000000\n",
              "ET_PupilRight_validity         1.000000\n",
              "dtype: float64"
            ]
          },
          "metadata": {},
          "execution_count": 589
        }
      ],
      "source": [
        "df_8_EYE[['ET_GazeLeftx', 'ET_GazeLefty',\n",
        "       'ET_GazeRightx', 'ET_GazeRighty', 'ET_PupilLeft', 'ET_PupilRight',\n",
        "       'ET_TimeSignal', 'ET_DistanceLeft', 'ET_DistanceRight',\n",
        "       'ET_CameraLeftX', 'ET_CameraLeftY', 'ET_CameraRightX',\n",
        "       'ET_CameraRightY', 'ET_ValidityLeft', 'ET_ValidityRight',\n",
        "       'ET_PupilLeft_validity', 'ET_PupilRight_validity']].median()"
      ]
    },
    {
      "cell_type": "code",
      "execution_count": null,
      "id": "7ab87ecb",
      "metadata": {
        "id": "7ab87ecb"
      },
      "outputs": [],
      "source": [
        "numeric_cols = df_8_EYE.select_dtypes(include=np.number).columns\n",
        "\n",
        "for col in numeric_cols:\n",
        "    df_8_EYE[col] = df_8_EYE[col].fillna(df_8_EYE[col].mean())"
      ]
    },
    {
      "cell_type": "code",
      "execution_count": null,
      "id": "b3e63840",
      "metadata": {
        "id": "b3e63840"
      },
      "outputs": [],
      "source": [
        "plt.figure(figsize=(18, 8))\n",
        "\n",
        "plt.subplot(1, 2, 1)\n",
        "sns.heatmap(df_8_EYE.isnull(), cmap='viridis')\n",
        "plt.title('Heatmap of Missing Values After Imputation')\n",
        "\n",
        "plt.subplot(1, 2, 2)\n",
        "sns.heatmap(df_8_EYE == 1, cmap='viridis')\n",
        "plt.title('Heatmap of 1 Values')\n",
        "\n",
        "plt.tight_layout()\n",
        "plt.show()"
      ]
    },
    {
      "cell_type": "markdown",
      "id": "119f685e",
      "metadata": {
        "id": "119f685e"
      },
      "source": [
        "# Handling Missing Values (Imputation)\n",
        "\n",
        "As decided, we have replaced all the `-1` values with `NaN` to treat them as missing data. Subsequently, we have imputed these `NaN` values with the mean of their respective columns. The heatmap above, which was generated after the imputation, now shows no visible signs of `NaN` values, indicating that the imputation was successful."
      ]
    },
    {
      "cell_type": "code",
      "execution_count": null,
      "id": "904941f4",
      "metadata": {
        "id": "904941f4"
      },
      "outputs": [],
      "source": [
        "df_8_EYE.head()"
      ]
    },
    {
      "cell_type": "code",
      "execution_count": null,
      "id": "3c42ff9d",
      "metadata": {
        "id": "3c42ff9d"
      },
      "outputs": [],
      "source": [
        "# Select only the numeric columns for plotting histograms, excluding time-related columns\n",
        "numeric_cols = df_8_EYE.select_dtypes(include=np.number).columns\n",
        "cols_to_plot = [col for col in numeric_cols if col not in ['UnixTime']]\n",
        "\n",
        "# Calculate the number of rows and columns for the grid\n",
        "n_cols = 4  # You can adjust the number of columns as needed\n",
        "n_rows = (len(cols_to_plot) + n_cols - 1) // n_cols\n",
        "\n",
        "plt.figure(figsize=(n_cols * 5, n_rows * 4)) # Adjust figure size as needed\n",
        "\n",
        "for i, col in enumerate(cols_to_plot):\n",
        "    plt.subplot(n_rows, n_cols, i + 1)\n",
        "    sns.histplot(df_8_EYE[col], kde=True)\n",
        "    plt.title(f'Distribution of {col}')\n",
        "    plt.xlabel(col)\n",
        "    plt.ylabel('Frequency')\n",
        "\n",
        "plt.tight_layout()\n",
        "plt.show()"
      ]
    },
    {
      "cell_type": "markdown",
      "id": "c6087876",
      "metadata": {
        "id": "c6087876"
      },
      "source": [
        "# Observations from Histograms After Imputation\n",
        "\n",
        "The histograms generated after replacing the -1 values with the mean of each column show the distributions of the numeric features with the missing data handled. Key observations from these updated histograms include:\n",
        "\n",
        "- The distinct peaks at -1, which were prominent in the histograms for several columns (e.g., pupil size, gaze coordinates, distance, and camera position) before imputation, are now replaced by a peak at the mean of each respective column.\n",
        "- The distributions in many columns now appear more unimodal or show shifted modes compared to the original histograms.\n",
        "- The histograms for the validity columns still show their bimodal distributions with peaks at 0 and 1, as these were handled separately.\n",
        "\n",
        "These histograms provide an updated view of the data's distribution after handling the missing values, highlighting the impact of the imputation method on the data's characteristics."
      ]
    },
    {
      "cell_type": "code",
      "execution_count": null,
      "id": "eab0ba57",
      "metadata": {
        "id": "eab0ba57"
      },
      "outputs": [],
      "source": [
        "cols = ['ET_GazeLeftx', 'ET_GazeLefty',\n",
        "       'ET_GazeRightx', 'ET_GazeRighty', 'ET_PupilLeft', 'ET_PupilRight',\n",
        "       'ET_TimeSignal', 'ET_DistanceLeft', 'ET_DistanceRight',\n",
        "       'ET_CameraLeftX', 'ET_CameraLeftY', 'ET_CameraRightX',\n",
        "       'ET_CameraRightY', 'ET_ValidityLeft', 'ET_ValidityRight',\n",
        "       'ET_PupilLeft_validity', 'ET_PupilRight_validity']"
      ]
    },
    {
      "cell_type": "code",
      "execution_count": null,
      "id": "cfef5194",
      "metadata": {
        "id": "cfef5194"
      },
      "outputs": [],
      "source": [
        "for col in cols:\n",
        "    # Add a markdown cell before each plot for better separation and labeling\n",
        "    display(Markdown(f'### {col} over Time'))\n",
        "    plt.figure(figsize=(16, 10))\n",
        "    plt.plot(df_8_EYE['Timestamp'], df_8_EYE[col])\n",
        "    plt.xlabel(\"Timestamp\") # Add x-axis label\n",
        "    plt.ylabel(col) # Add y-axis label\n",
        "    plt.show()"
      ]
    },
    {
      "cell_type": "markdown",
      "id": "4bba9a8c",
      "metadata": {
        "id": "4bba9a8c"
      },
      "source": [
        "# Observations from Time Series Plots After Imputation\n",
        "\n",
        "The line plots generated after imputing the missing values with the mean show the temporal patterns of the features with the missing data handled. Key observations from these updated plots include:\n",
        "\n",
        "- The gaps or flat lines at -1, which were prominent in the plots for columns like gaze coordinates, pupil size, distance, and camera position, are now filled by lines at the mean value of the respective columns.\n",
        "- The plots for the validity columns remain the same as they were handled separately.\n",
        "- The `ET_TimeSignal` plot still shows a steady increasing trend, as expected."
      ]
    },
    {
      "cell_type": "code",
      "execution_count": null,
      "id": "bce3e50a",
      "metadata": {
        "id": "bce3e50a"
      },
      "outputs": [],
      "source": [
        "plt.figure(figsize=(16, 10))\n",
        "sns.heatmap(df_8_EYE.corr(numeric_only=True), cmap='YlGnBu', annot=True)\n",
        "plt.show()"
      ]
    },
    {
      "cell_type": "markdown",
      "id": "c1167852",
      "metadata": {
        "id": "c1167852"
      },
      "source": [
        "# Observations from Correlation Heatmap\n",
        "\n",
        "The correlation heatmap provides a visual representation of the pairwise correlations between the numeric columns in the dataset. Key observations from the heatmap include:\n",
        "\n",
        "- **High Positive Correlations:** We observe strong positive correlations (values close to 1) between:\n",
        "  - `ET_GazeLeftx` and `ET_GazeRightx`: This is expected as the gaze positions of both eyes should be highly correlated when fixating on a point.\n",
        "  - `ET_GazeLefty` and `ET_GazeRighty`: Similar to the x-coordinates, the y-coordinates of gaze should also be highly correlated.\n",
        "  - `ET_PupilLeft` and `ET_PupilRight`: Pupil sizes of both eyes tend to change together in response to light and cognitive load.\n",
        "  - `ET_DistanceLeft` and `ET_DistanceRight`: The distance from the eye tracker to each eye should be highly correlated.\n",
        "  - `ET_CameraLeftX` and `ET_CameraRightX`, `ET_CameraLeftY` and `ET_CameraRightY`: The camera positions for both eyes are also expected to be highly correlated.\n",
        "  - `UnixTime` and `ET_TimeSignal`: As previously noted, these two columns are almost perfectly linearly correlated, indicating redundancy.\n",
        "  - `ET_ValidityLeft` and `ET_PupilLeft_validity`: There is a positive correlation, suggesting that when the overall left eye data is invalid, the left pupil data is also likely to be invalid.\n",
        "  - `ET_ValidityRight` and `ET_PupilRight_validity`: Similar to the left eye, there is a positive correlation between the overall right eye validity and the right pupil validity.\n",
        "- **Other Correlations:** We can also observe other varying degrees of correlations between different features, which can provide insights into the relationships between gaze behavior, pupil size, distance, and camera position. For example, there might be correlations between gaze coordinates and camera positions, reflecting head movements.\n",
        "- **Low or Near-Zero Correlations:** Columns with low or near-zero correlations are relatively independent of each other.\n",
        "\n",
        "Understanding these correlations is important for feature selection and for building models, as highly correlated features might indicate multicollinearity, while correlations between features can reveal underlying patterns in the data."
      ]
    },
    {
      "cell_type": "markdown",
      "id": "57aa46f7",
      "metadata": {
        "id": "57aa46f7"
      },
      "source": [
        "# Analysis of ET_TimeSignal and Decision to Drop\n",
        "\n",
        "As observed in the time series plot and confirmed by the correlation heatmap, the `ET_TimeSignal` column exhibits a near-perfect linear relationship with both the `Timestamp` and `UnixTime` columns. This strong correlation (close to 1) suggests that `ET_TimeSignal` is essentially redundant and likely represents another form of time recording or a signal directly derived from the timestamp.\n",
        "\n",
        "Including highly correlated features like this in a dataset can lead to issues such as multicollinearity in some statistical models, which can make it difficult to interpret the individual impact of each feature. Since the `Timestamp` column already provides the necessary temporal information, retaining `ET_TimeSignal` does not appear to add significant value for further analysis or modeling in most cases.\n",
        "\n",
        "Therefore, based on its high correlation and lack of unique insight, we will proceed to drop the `ET_TimeSignal` column to simplify the dataset and potentially improve the performance and interpretability of future analyses."
      ]
    },
    {
      "cell_type": "code",
      "execution_count": null,
      "id": "84f67e94",
      "metadata": {
        "id": "84f67e94"
      },
      "outputs": [],
      "source": [
        "df_8_EYE.drop('ET_TimeSignal', axis=1, inplace=True)"
      ]
    },
    {
      "cell_type": "code",
      "execution_count": null,
      "id": "89181cea",
      "metadata": {
        "id": "89181cea"
      },
      "outputs": [],
      "source": [
        "plt.figure(figsize=(16, 10))\n",
        "sns.pairplot(df_8_EYE)\n",
        "plt.show()"
      ]
    },
    {
      "cell_type": "markdown",
      "id": "c4446c77",
      "metadata": {
        "id": "c4446c77"
      },
      "source": [
        "# **9_EYE**"
      ]
    },
    {
      "cell_type": "code",
      "execution_count": null,
      "id": "02923f8a",
      "metadata": {
        "id": "02923f8a",
        "colab": {
          "base_uri": "https://localhost:8080/"
        },
        "outputId": "e33604b8-4316-49c0-a7f9-9bb73be8b1ab"
      },
      "outputs": [
        {
          "output_type": "stream",
          "name": "stderr",
          "text": [
            "/tmp/ipykernel_31755/530502901.py:1: DtypeWarning: Columns (2) have mixed types. Specify dtype option on import or set low_memory=False.\n",
            "  df_9_EYE = pd.read_csv('data/STData/9/9_EYE.csv')\n"
          ]
        }
      ],
      "source": [
        "df_9_EYE = pd.read_csv('data/STData/9/9_EYE.csv')"
      ]
    },
    {
      "cell_type": "code",
      "execution_count": null,
      "id": "ce9aade5",
      "metadata": {
        "id": "ce9aade5"
      },
      "outputs": [],
      "source": [
        "df_9_EYE.head()"
      ]
    },
    {
      "cell_type": "code",
      "execution_count": null,
      "id": "410d6749",
      "metadata": {
        "id": "410d6749",
        "colab": {
          "base_uri": "https://localhost:8080/"
        },
        "outputId": "d0840807-e2d4-47c0-9162-cb4196c52bb8"
      },
      "outputs": [
        {
          "output_type": "execute_result",
          "data": {
            "text/plain": [
              "(138274, 19)"
            ]
          },
          "metadata": {},
          "execution_count": 601
        }
      ],
      "source": [
        "df_9_EYE.shape"
      ]
    },
    {
      "cell_type": "code",
      "execution_count": null,
      "id": "45a349f4",
      "metadata": {
        "id": "45a349f4",
        "colab": {
          "base_uri": "https://localhost:8080/"
        },
        "outputId": "927dcd29-c145-479b-8733-48fb3897eb35"
      },
      "outputs": [
        {
          "output_type": "execute_result",
          "data": {
            "text/plain": [
              "Index(['UnixTime', 'Row', 'QuestionKey', 'Timestamp', 'ET_GazeLeftx',\n",
              "       'ET_GazeLefty', 'ET_GazeRightx', 'ET_GazeRighty', 'ET_PupilLeft',\n",
              "       'ET_PupilRight', 'ET_TimeSignal', 'ET_DistanceLeft', 'ET_DistanceRight',\n",
              "       'ET_CameraLeftX', 'ET_CameraLeftY', 'ET_CameraRightX',\n",
              "       'ET_CameraRightY', 'ET_ValidityLeft', 'ET_ValidityRight'],\n",
              "      dtype='object')"
            ]
          },
          "metadata": {},
          "execution_count": 602
        }
      ],
      "source": [
        "df_9_EYE.columns"
      ]
    },
    {
      "cell_type": "code",
      "execution_count": null,
      "id": "95dcdb51",
      "metadata": {
        "id": "95dcdb51",
        "colab": {
          "base_uri": "https://localhost:8080/"
        },
        "outputId": "915a17ee-f32f-4789-c9e4-419cba3e71bf"
      },
      "outputs": [
        {
          "output_type": "stream",
          "name": "stdout",
          "text": [
            "<class 'pandas.core.frame.DataFrame'>\n",
            "RangeIndex: 138274 entries, 0 to 138273\n",
            "Data columns (total 19 columns):\n",
            " #   Column            Non-Null Count   Dtype  \n",
            "---  ------            --------------   -----  \n",
            " 0   UnixTime          138274 non-null  float64\n",
            " 1   Row               138274 non-null  int64  \n",
            " 2   QuestionKey       86815 non-null   object \n",
            " 3   Timestamp         138274 non-null  object \n",
            " 4   ET_GazeLeftx      138270 non-null  float64\n",
            " 5   ET_GazeLefty      138270 non-null  float64\n",
            " 6   ET_GazeRightx     138270 non-null  float64\n",
            " 7   ET_GazeRighty     138270 non-null  float64\n",
            " 8   ET_PupilLeft      138270 non-null  float64\n",
            " 9   ET_PupilRight     138270 non-null  float64\n",
            " 10  ET_TimeSignal     138270 non-null  float64\n",
            " 11  ET_DistanceLeft   138270 non-null  float64\n",
            " 12  ET_DistanceRight  138270 non-null  float64\n",
            " 13  ET_CameraLeftX    138270 non-null  float64\n",
            " 14  ET_CameraLeftY    138270 non-null  float64\n",
            " 15  ET_CameraRightX   138270 non-null  float64\n",
            " 16  ET_CameraRightY   138270 non-null  float64\n",
            " 17  ET_ValidityLeft   138270 non-null  float64\n",
            " 18  ET_ValidityRight  138270 non-null  float64\n",
            "dtypes: float64(16), int64(1), object(2)\n",
            "memory usage: 20.0+ MB\n"
          ]
        }
      ],
      "source": [
        "df_9_EYE.info()"
      ]
    },
    {
      "cell_type": "code",
      "execution_count": null,
      "id": "2b152d8f",
      "metadata": {
        "id": "2b152d8f",
        "colab": {
          "base_uri": "https://localhost:8080/"
        },
        "outputId": "33966fd3-8741-4979-f80a-b4c5ab255a5d"
      },
      "outputs": [
        {
          "output_type": "execute_result",
          "data": {
            "text/plain": [
              "UnixTime                0\n",
              "Row                     0\n",
              "QuestionKey         51459\n",
              "Timestamp               0\n",
              "ET_GazeLeftx            4\n",
              "ET_GazeLefty            4\n",
              "ET_GazeRightx           4\n",
              "ET_GazeRighty           4\n",
              "ET_PupilLeft            4\n",
              "ET_PupilRight           4\n",
              "ET_TimeSignal           4\n",
              "ET_DistanceLeft         4\n",
              "ET_DistanceRight        4\n",
              "ET_CameraLeftX          4\n",
              "ET_CameraLeftY          4\n",
              "ET_CameraRightX         4\n",
              "ET_CameraRightY         4\n",
              "ET_ValidityLeft         4\n",
              "ET_ValidityRight        4\n",
              "dtype: int64"
            ]
          },
          "metadata": {},
          "execution_count": 604
        }
      ],
      "source": [
        "df_9_EYE.isnull().sum()"
      ]
    },
    {
      "cell_type": "code",
      "execution_count": null,
      "id": "c340466e",
      "metadata": {
        "id": "c340466e"
      },
      "outputs": [],
      "source": [
        "plt.figure(figsize=(12,8))\n",
        "sns.heatmap(df_9_EYE.isnull(), cmap='viridis')\n",
        "plt.show()"
      ]
    },
    {
      "cell_type": "markdown",
      "id": "8aa33bb7",
      "metadata": {
        "id": "8aa33bb7"
      },
      "source": [
        "# Notes & Observations\n",
        "\n",
        "- We observe many **null** (or missing) values in the `QuestionKey` columns.\n",
        "- The nulls in the `QuestionKey` column may not represent “true” nulls. Rather, they follow interval patterns, suggesting that during those periods no question was displayed.\n",
        "- These missing values in `QuestionKey` require additional investigation and context-aware handling."
      ]
    },
    {
      "cell_type": "code",
      "execution_count": null,
      "id": "b1fd754f",
      "metadata": {
        "id": "b1fd754f",
        "colab": {
          "base_uri": "https://localhost:8080/"
        },
        "outputId": "3f65bc7f-9bcb-440b-a750-e471ef2f9fe5"
      },
      "outputs": [
        {
          "output_type": "execute_result",
          "data": {
            "text/plain": [
              "array([nan, '1spl1', '1spl2', '1Item1', '1Item2', '1Item3', '1Item4',\n",
              "       '1Item5', '1Item6', '1Item7', '1Item8', '1Item9', '1Item10',\n",
              "       '2spl1', '2spl2', '2Item1', '2Item2', '2Item3', '2Item4', '2Item5',\n",
              "       '2Item6', '2Item7', '2Item8', '2Item9', '2Item10', '3spl1',\n",
              "       '3Item15', '3Item2', '3Item5', '3Item12', '3Item6', '3Item8',\n",
              "       '3Item7', '3Item9', '3Item17', '3Item19', '3Item11', '3Item4',\n",
              "       '3Item13'], dtype=object)"
            ]
          },
          "metadata": {},
          "execution_count": 606
        }
      ],
      "source": [
        "df_9_EYE['QuestionKey'].unique()"
      ]
    },
    {
      "cell_type": "code",
      "execution_count": null,
      "id": "71c33f2b",
      "metadata": {
        "id": "71c33f2b"
      },
      "outputs": [],
      "source": [
        "df_9_EYE['Timestamp'] = pd.to_datetime(df_9_EYE['Timestamp'])"
      ]
    },
    {
      "cell_type": "code",
      "execution_count": null,
      "id": "ccdbb053",
      "metadata": {
        "id": "ccdbb053"
      },
      "outputs": [],
      "source": [
        "df_9_EYE.head(3)"
      ]
    },
    {
      "cell_type": "code",
      "execution_count": null,
      "id": "c04f1c87",
      "metadata": {
        "id": "c04f1c87"
      },
      "outputs": [],
      "source": [
        "df_9_EYE['QuestionKey'] = df_9_EYE['QuestionKey'].fillna('None')"
      ]
    },
    {
      "cell_type": "code",
      "execution_count": null,
      "id": "88f87752",
      "metadata": {
        "id": "88f87752",
        "colab": {
          "base_uri": "https://localhost:8080/"
        },
        "outputId": "a49fb90d-251c-4521-b72d-52285781f000"
      },
      "outputs": [
        {
          "output_type": "execute_result",
          "data": {
            "text/plain": [
              "QuestionKey\n",
              "None       51459\n",
              "1Item8      8914\n",
              "2Item8      7788\n",
              "2Item10     7426\n",
              "1Item9      5842\n",
              "2Item7      4342\n",
              "2Item9      3972\n",
              "1Item10     3933\n",
              "2Item4      3798\n",
              "1Item7      3007\n",
              "1Item6      2541\n",
              "1Item2      2371\n",
              "1Item5      2343\n",
              "2Item6      2272\n",
              "3Item9      1917\n",
              "3Item19     1801\n",
              "2Item5      1782\n",
              "1spl2       1766\n",
              "3Item15     1669\n",
              "3Item11     1655\n",
              "1Item3      1642\n",
              "1Item4      1609\n",
              "3Item12     1546\n",
              "2Item1      1420\n",
              "3Item17     1266\n",
              "3Item8      1225\n",
              "1spl1       1051\n",
              "2spl1        933\n",
              "1Item1       850\n",
              "2Item2       822\n",
              "3Item6       787\n",
              "3Item7       735\n",
              "2spl2        734\n",
              "3Item2       691\n",
              "2Item3       629\n",
              "3spl1        545\n",
              "3Item5       536\n",
              "3Item4       415\n",
              "3Item13      240\n",
              "Name: count, dtype: int64"
            ]
          },
          "metadata": {},
          "execution_count": 610
        }
      ],
      "source": [
        "df_9_EYE['QuestionKey'].value_counts()"
      ]
    },
    {
      "cell_type": "code",
      "execution_count": null,
      "id": "5a35943c",
      "metadata": {
        "id": "5a35943c"
      },
      "outputs": [],
      "source": [
        "plt.figure(figsize=(12,8))\n",
        "sns.heatmap(df_9_EYE.isnull(), cmap='viridis')\n",
        "plt.show()"
      ]
    },
    {
      "cell_type": "code",
      "execution_count": null,
      "id": "506cc1d7",
      "metadata": {
        "id": "506cc1d7",
        "colab": {
          "base_uri": "https://localhost:8080/"
        },
        "outputId": "86a27d66-9e0a-4ad8-8049-e67498b24387"
      },
      "outputs": [
        {
          "output_type": "execute_result",
          "data": {
            "text/plain": [
              "UnixTime            0\n",
              "Row                 0\n",
              "QuestionKey         0\n",
              "Timestamp           0\n",
              "ET_GazeLeftx        4\n",
              "ET_GazeLefty        4\n",
              "ET_GazeRightx       4\n",
              "ET_GazeRighty       4\n",
              "ET_PupilLeft        4\n",
              "ET_PupilRight       4\n",
              "ET_TimeSignal       4\n",
              "ET_DistanceLeft     4\n",
              "ET_DistanceRight    4\n",
              "ET_CameraLeftX      4\n",
              "ET_CameraLeftY      4\n",
              "ET_CameraRightX     4\n",
              "ET_CameraRightY     4\n",
              "ET_ValidityLeft     4\n",
              "ET_ValidityRight    4\n",
              "dtype: int64"
            ]
          },
          "metadata": {},
          "execution_count": 612
        }
      ],
      "source": [
        "df_9_EYE.isnull().sum()"
      ]
    },
    {
      "cell_type": "code",
      "execution_count": null,
      "id": "5453fd00",
      "metadata": {
        "id": "5453fd00"
      },
      "outputs": [],
      "source": [
        "df_9_EYE.dropna(inplace=True)"
      ]
    },
    {
      "cell_type": "code",
      "execution_count": null,
      "id": "0574d8eb",
      "metadata": {
        "id": "0574d8eb"
      },
      "outputs": [],
      "source": [
        "df_9_EYE.head()"
      ]
    },
    {
      "cell_type": "code",
      "execution_count": null,
      "id": "890d0612",
      "metadata": {
        "id": "890d0612",
        "colab": {
          "base_uri": "https://localhost:8080/"
        },
        "outputId": "ae288bd5-a446-4bc0-fd74-0f27b1a8e54d"
      },
      "outputs": [
        {
          "output_type": "execute_result",
          "data": {
            "text/plain": [
              "array([     2,      3,      4, ..., 138270, 138271, 138272],\n",
              "      shape=(138270,))"
            ]
          },
          "metadata": {},
          "execution_count": 615
        }
      ],
      "source": [
        "df_9_EYE['Row'].unique()"
      ]
    },
    {
      "cell_type": "code",
      "execution_count": null,
      "id": "d27f1e81",
      "metadata": {
        "id": "d27f1e81"
      },
      "outputs": [],
      "source": [
        "plt.figure(figsize=(8,6))\n",
        "sns.histplot(df_9_EYE['Row'])\n",
        "plt.show()"
      ]
    },
    {
      "cell_type": "markdown",
      "id": "9b10e104",
      "metadata": {
        "id": "9b10e104"
      },
      "source": [
        "# Notes & Observations\n",
        "\n",
        "- The `Row` column appears to be a simple row index and does not provide meaningful information relevant to the eye-tracking data itself. Therefore, it can be dropped."
      ]
    },
    {
      "cell_type": "code",
      "execution_count": null,
      "id": "7b0a7f17",
      "metadata": {
        "id": "7b0a7f17"
      },
      "outputs": [],
      "source": [
        "df_9_EYE.drop('Row', axis=1, inplace=True)"
      ]
    },
    {
      "cell_type": "code",
      "execution_count": null,
      "id": "d6ce2336",
      "metadata": {
        "id": "d6ce2336",
        "colab": {
          "base_uri": "https://localhost:8080/"
        },
        "outputId": "42a92f85-c164-4b1d-a05a-8140d37c5ee6"
      },
      "outputs": [
        {
          "output_type": "execute_result",
          "data": {
            "text/plain": [
              "array([4., 0.])"
            ]
          },
          "metadata": {},
          "execution_count": 618
        }
      ],
      "source": [
        "df_9_EYE['ET_ValidityLeft'].unique()"
      ]
    },
    {
      "cell_type": "code",
      "execution_count": null,
      "id": "4e9ab403",
      "metadata": {
        "id": "4e9ab403",
        "colab": {
          "base_uri": "https://localhost:8080/"
        },
        "outputId": "f617bac4-4f85-47f7-ca13-4a0e0e303a11"
      },
      "outputs": [
        {
          "output_type": "execute_result",
          "data": {
            "text/plain": [
              "ET_ValidityLeft\n",
              "0.0    125893\n",
              "4.0     12377\n",
              "Name: count, dtype: int64"
            ]
          },
          "metadata": {},
          "execution_count": 619
        }
      ],
      "source": [
        "df_9_EYE['ET_ValidityLeft'].value_counts()"
      ]
    },
    {
      "cell_type": "code",
      "execution_count": null,
      "id": "8d10de26",
      "metadata": {
        "id": "8d10de26",
        "colab": {
          "base_uri": "https://localhost:8080/"
        },
        "outputId": "f84ba87e-5a8c-4ca4-a5ee-a48cb66ad483"
      },
      "outputs": [
        {
          "output_type": "execute_result",
          "data": {
            "text/plain": [
              "array([4., 0.])"
            ]
          },
          "metadata": {},
          "execution_count": 620
        }
      ],
      "source": [
        "df_9_EYE['ET_ValidityRight'].unique()"
      ]
    },
    {
      "cell_type": "code",
      "execution_count": null,
      "id": "0a5efebb",
      "metadata": {
        "id": "0a5efebb",
        "colab": {
          "base_uri": "https://localhost:8080/"
        },
        "outputId": "6b5e5338-8d81-4500-d4d4-5fe17b001b0a"
      },
      "outputs": [
        {
          "output_type": "execute_result",
          "data": {
            "text/plain": [
              "ET_ValidityRight\n",
              "0.0    127237\n",
              "4.0     11033\n",
              "Name: count, dtype: int64"
            ]
          },
          "metadata": {},
          "execution_count": 621
        }
      ],
      "source": [
        "df_9_EYE['ET_ValidityRight'].value_counts()"
      ]
    },
    {
      "cell_type": "code",
      "execution_count": null,
      "id": "47c0032c",
      "metadata": {
        "id": "47c0032c"
      },
      "outputs": [],
      "source": [
        "plt.figure(figsize=(12, 6))\n",
        "\n",
        "plt.subplot(1, 2, 1)\n",
        "sns.barplot(x=df_9_EYE['ET_ValidityLeft'].value_counts().index, y=df_9_EYE['ET_ValidityLeft'].value_counts().values)\n",
        "plt.title('Count of ET_ValidityLeft')\n",
        "plt.xlabel('Validity')\n",
        "plt.ylabel('Count')\n",
        "\n",
        "\n",
        "plt.subplot(1, 2, 2)\n",
        "sns.barplot(x=df_9_EYE['ET_ValidityRight'].value_counts().index, y=df_9_EYE['ET_ValidityRight'].value_counts().values)\n",
        "plt.title('Count of ET_ValidityRight')\n",
        "plt.xlabel('Validity')\n",
        "plt.ylabel('Count')\n",
        "\n",
        "plt.tight_layout()\n",
        "plt.show()"
      ]
    },
    {
      "cell_type": "markdown",
      "id": "3c41284c",
      "metadata": {
        "id": "3c41284c"
      },
      "source": [
        "# Notes & Observations\n",
        "\n",
        "- The `ET_ValidityLeft` and `ET_ValidityRight` columns indicate the validity of the eye-tracking data for the left and right eye, respectively.\n",
        "- Based on the value counts and the bar plots, it appears that a value of `0.0` represents valid eye-tracking data, while a value of `4.0` represents invalid data.\n",
        "- Although the amount of invalid data is relatively small, removing these rows could introduce unwanted patterns or gaps in the time series data.\n",
        "- Therefore, we will keep the data and replace the value `4.0` with `1.0` in both `ET_ValidityLeft` and `ET_ValidityRight` columns. This will indicate to a machine learning model that the eye tracker had invalid data at those specific points in time while maintaining the integrity of the time series."
      ]
    },
    {
      "cell_type": "markdown",
      "id": "4c8e3c06",
      "metadata": {
        "id": "4c8e3c06"
      },
      "source": [
        "Define a mapping to convert validity values from `0.0` and `4.0` to `0` and `1`."
      ]
    },
    {
      "cell_type": "code",
      "execution_count": null,
      "id": "48390ce2",
      "metadata": {
        "id": "48390ce2"
      },
      "outputs": [],
      "source": [
        "validity_map = {4.0: 1.0, 0.0: 0.0}"
      ]
    },
    {
      "cell_type": "code",
      "execution_count": null,
      "id": "bf14064a",
      "metadata": {
        "id": "bf14064a"
      },
      "outputs": [],
      "source": [
        "df_9_EYE['ET_ValidityLeft'] = df_9_EYE['ET_ValidityLeft'].map(validity_map).astype(np.int8)\n",
        "df_9_EYE['ET_ValidityRight'] = df_9_EYE['ET_ValidityRight'].map(validity_map).astype(np.int8)"
      ]
    },
    {
      "cell_type": "code",
      "execution_count": null,
      "id": "db0e282b",
      "metadata": {
        "id": "db0e282b"
      },
      "outputs": [],
      "source": [
        "df_9_EYE.head(3)"
      ]
    },
    {
      "cell_type": "code",
      "execution_count": null,
      "id": "371f04fb",
      "metadata": {
        "id": "371f04fb"
      },
      "outputs": [],
      "source": [
        "df_9_EYE.describe()"
      ]
    },
    {
      "cell_type": "code",
      "execution_count": null,
      "id": "52f11d5b",
      "metadata": {
        "id": "52f11d5b",
        "colab": {
          "base_uri": "https://localhost:8080/"
        },
        "outputId": "343c9d7e-b7a4-4b8f-952f-2a0a4102cb33"
      },
      "outputs": [
        {
          "output_type": "execute_result",
          "data": {
            "text/plain": [
              "(12377, 18)"
            ]
          },
          "metadata": {},
          "execution_count": 627
        }
      ],
      "source": [
        "df_9_EYE[df_9_EYE['ET_ValidityLeft'] == 1].shape"
      ]
    },
    {
      "cell_type": "code",
      "execution_count": null,
      "id": "6447cc1f",
      "metadata": {
        "id": "6447cc1f",
        "colab": {
          "base_uri": "https://localhost:8080/"
        },
        "outputId": "e454a580-c1ff-46fe-def6-e32f47e3bc9e"
      },
      "outputs": [
        {
          "output_type": "execute_result",
          "data": {
            "text/plain": [
              "(11033, 18)"
            ]
          },
          "metadata": {},
          "execution_count": 628
        }
      ],
      "source": [
        "df_9_EYE[df_9_EYE['ET_ValidityRight'] == 1].shape"
      ]
    },
    {
      "cell_type": "code",
      "execution_count": null,
      "id": "a91c4349",
      "metadata": {
        "id": "a91c4349",
        "colab": {
          "base_uri": "https://localhost:8080/"
        },
        "outputId": "bdc2c234-f8a5-42bd-f0ea-76cffa7fd6e6"
      },
      "outputs": [
        {
          "output_type": "execute_result",
          "data": {
            "text/plain": [
              "0.08951327113618283"
            ]
          },
          "metadata": {},
          "execution_count": 629
        }
      ],
      "source": [
        "df_9_EYE[df_9_EYE['ET_ValidityLeft'] == 1].shape[0] / df_9_EYE.shape[0]"
      ]
    },
    {
      "cell_type": "code",
      "execution_count": null,
      "id": "d3dde98d",
      "metadata": {
        "id": "d3dde98d",
        "colab": {
          "base_uri": "https://localhost:8080/"
        },
        "outputId": "d853ce9b-3905-4061-e084-2ace960c7938"
      },
      "outputs": [
        {
          "output_type": "execute_result",
          "data": {
            "text/plain": [
              "0.0797931583134447"
            ]
          },
          "metadata": {},
          "execution_count": 630
        }
      ],
      "source": [
        "df_9_EYE[df_9_EYE['ET_ValidityRight'] == 1].shape[0] / df_9_EYE.shape[0]"
      ]
    },
    {
      "cell_type": "code",
      "execution_count": null,
      "id": "471ccbe2",
      "metadata": {
        "id": "471ccbe2"
      },
      "outputs": [],
      "source": [
        "plt.figure(figsize=(18, 8))\n",
        "\n",
        "plt.subplot(1, 2, 1)\n",
        "sns.heatmap(df_9_EYE == -1, cmap='viridis')\n",
        "plt.title('Heatmap of -1 Values')\n",
        "\n",
        "plt.subplot(1, 2, 2)\n",
        "sns.heatmap(df_9_EYE == 1, cmap='viridis')\n",
        "plt.title('Heatmap of 1 Values')\n",
        "\n",
        "plt.tight_layout()\n",
        "plt.show()"
      ]
    },
    {
      "cell_type": "code",
      "execution_count": null,
      "id": "d90dd593",
      "metadata": {
        "id": "d90dd593",
        "colab": {
          "base_uri": "https://localhost:8080/"
        },
        "outputId": "71c81ea1-bc01-4acc-cd9b-aef72e3c8138"
      },
      "outputs": [
        {
          "output_type": "execute_result",
          "data": {
            "text/plain": [
              "(98990, 18)"
            ]
          },
          "metadata": {},
          "execution_count": 632
        }
      ],
      "source": [
        "df_9_EYE[df_9_EYE['ET_PupilLeft'] == -1].shape"
      ]
    },
    {
      "cell_type": "code",
      "execution_count": null,
      "id": "04c84214",
      "metadata": {
        "id": "04c84214",
        "colab": {
          "base_uri": "https://localhost:8080/"
        },
        "outputId": "84195555-1076-40a1-a4b5-1223193047c2"
      },
      "outputs": [
        {
          "output_type": "execute_result",
          "data": {
            "text/plain": [
              "(97745, 18)"
            ]
          },
          "metadata": {},
          "execution_count": 633
        }
      ],
      "source": [
        "df_9_EYE[df_9_EYE['ET_PupilRight'] == -1].shape"
      ]
    },
    {
      "cell_type": "code",
      "execution_count": null,
      "id": "a389b9da",
      "metadata": {
        "id": "a389b9da",
        "colab": {
          "base_uri": "https://localhost:8080/"
        },
        "outputId": "a274e1c0-53fc-42a5-96e5-c3c88888b3dd"
      },
      "outputs": [
        {
          "output_type": "execute_result",
          "data": {
            "text/plain": [
              "0.7159181311925942"
            ]
          },
          "metadata": {},
          "execution_count": 634
        }
      ],
      "source": [
        "df_9_EYE[df_9_EYE['ET_PupilLeft'] == -1].shape[0] / df_9_EYE.shape[0]"
      ]
    },
    {
      "cell_type": "code",
      "execution_count": null,
      "id": "80901efe",
      "metadata": {
        "id": "80901efe",
        "colab": {
          "base_uri": "https://localhost:8080/"
        },
        "outputId": "58ca9dfd-5e6a-4033-995a-b154d36374ae"
      },
      "outputs": [
        {
          "output_type": "execute_result",
          "data": {
            "text/plain": [
              "0.7069140088233167"
            ]
          },
          "metadata": {},
          "execution_count": 635
        }
      ],
      "source": [
        "df_9_EYE[df_9_EYE['ET_PupilRight'] == -1].shape[0] / df_9_EYE.shape[0]"
      ]
    },
    {
      "cell_type": "code",
      "execution_count": null,
      "id": "f822c1ac",
      "metadata": {
        "id": "f822c1ac"
      },
      "outputs": [],
      "source": [
        "plt.figure(figsize=(18, 8))\n",
        "\n",
        "plt.subplot(1, 2, 1)\n",
        "sns.heatmap(df_9_EYE[df_9_EYE['ET_ValidityLeft'] == 1] == -1, cmap='viridis')\n",
        "plt.title('Heatmap of -1 Values')\n",
        "\n",
        "plt.subplot(1, 2, 2)\n",
        "sns.heatmap(df_9_EYE[df_9_EYE['ET_ValidityRight'] == 1] == -1, cmap='viridis')\n",
        "plt.title('Heatmap of -1 Values')\n",
        "\n",
        "plt.tight_layout()\n",
        "plt.show()"
      ]
    },
    {
      "cell_type": "markdown",
      "id": "f8cd7c21",
      "metadata": {
        "id": "f8cd7c21"
      },
      "source": [
        "# Notes & Observations\n",
        "\n",
        "- The heatmaps reveal the distribution of -1 values across different columns.\n",
        "- It is evident that the `-1` values are not randomly scattered but appear in specific columns, notably `ET_GazeLeftx`, `ET_GazeLefty`, `ET_GazeRightx`, `ET_GazeRighty`, `ET_PupilLeft`, `ET_PupilRight`, `ET_DistanceLeft`, `ET_DistanceRight`, `ET_CameraLeftX`, `ET_CameraLeftY`, `ET_CameraRightX`, and `ET_CameraRightY`.\n",
        "- These `-1` values often coincide with instances where `ET_ValidityLeft` or `ET_ValidityRight` is 1, indicating invalid eye-tracking data. This suggests that `-1` is used as a placeholder for missing or invalid measurements in these columns when the eye tracker is not providing valid data for a particular eye.\n",
        "- Given that over 70% of the data in the `ET_PupilLeft` and `ET_PupilRight` columns is marked as invalid (-1), so instead of dropping them we can create new feature for both the `ET_PupilLeft` and `ET_PupilRight` to represent which row consist invalid `ET_PupilLeft` and `ET_PupilRight` data"
      ]
    },
    {
      "cell_type": "code",
      "execution_count": null,
      "id": "ddf910be",
      "metadata": {
        "id": "ddf910be"
      },
      "outputs": [],
      "source": [
        "pupil_validity = {-1: 1 }"
      ]
    },
    {
      "cell_type": "code",
      "execution_count": null,
      "id": "ef2e30f4",
      "metadata": {
        "id": "ef2e30f4"
      },
      "outputs": [],
      "source": [
        "df_9_EYE['ET_PupilLeft_validity'] = df_9_EYE['ET_PupilLeft'].map(pupil_validity)"
      ]
    },
    {
      "cell_type": "code",
      "execution_count": null,
      "id": "2d0c347c",
      "metadata": {
        "id": "2d0c347c"
      },
      "outputs": [],
      "source": [
        "df_9_EYE['ET_PupilRight_validity'] = df_9_EYE['ET_PupilRight'].map(pupil_validity)"
      ]
    },
    {
      "cell_type": "code",
      "execution_count": null,
      "id": "c95211cb",
      "metadata": {
        "id": "c95211cb"
      },
      "outputs": [],
      "source": [
        "df_9_EYE[['ET_PupilLeft_validity', 'ET_PupilRight_validity']].head()"
      ]
    },
    {
      "cell_type": "code",
      "execution_count": null,
      "id": "f4d7e1b4",
      "metadata": {
        "id": "f4d7e1b4",
        "colab": {
          "base_uri": "https://localhost:8080/"
        },
        "outputId": "4af6e0d7-e0aa-4c74-fe00-b5a1b3d9e8c6"
      },
      "outputs": [
        {
          "output_type": "execute_result",
          "data": {
            "text/plain": [
              "ET_PupilLeft_validity     39280\n",
              "ET_PupilRight_validity    40525\n",
              "dtype: int64"
            ]
          },
          "metadata": {},
          "execution_count": 641
        }
      ],
      "source": [
        "df_9_EYE[['ET_PupilLeft_validity', 'ET_PupilRight_validity']].isnull().sum()"
      ]
    },
    {
      "cell_type": "code",
      "execution_count": null,
      "id": "29ad4686",
      "metadata": {
        "id": "29ad4686"
      },
      "outputs": [],
      "source": [
        "plt.figure(figsize=(18, 8))\n",
        "sns.heatmap(df_9_EYE[['ET_PupilLeft_validity', 'ET_PupilRight_validity']].isnull(), cmap='viridis')\n",
        "plt.show()"
      ]
    },
    {
      "cell_type": "code",
      "execution_count": null,
      "id": "07445448",
      "metadata": {
        "id": "07445448"
      },
      "outputs": [],
      "source": [
        "df_9_EYE['ET_PupilLeft_validity'] = df_9_EYE['ET_PupilLeft_validity'].fillna(0)"
      ]
    },
    {
      "cell_type": "code",
      "execution_count": null,
      "id": "87e42759",
      "metadata": {
        "id": "87e42759"
      },
      "outputs": [],
      "source": [
        "df_9_EYE['ET_PupilRight_validity'] = df_9_EYE['ET_PupilRight_validity'].fillna(0)"
      ]
    },
    {
      "cell_type": "code",
      "execution_count": null,
      "id": "6cadf2bf",
      "metadata": {
        "id": "6cadf2bf"
      },
      "outputs": [],
      "source": [
        "df_9_EYE[['ET_PupilLeft_validity', 'ET_PupilRight_validity']].head()"
      ]
    },
    {
      "cell_type": "code",
      "execution_count": null,
      "id": "a4bb9301",
      "metadata": {
        "id": "a4bb9301"
      },
      "outputs": [],
      "source": [
        "plt.figure(figsize=(18, 8))\n",
        "sns.heatmap(df_9_EYE[['ET_PupilLeft_validity', 'ET_PupilRight_validity']].isnull(), cmap='viridis')\n",
        "plt.show()"
      ]
    },
    {
      "cell_type": "code",
      "execution_count": null,
      "id": "d5a10fff",
      "metadata": {
        "id": "d5a10fff"
      },
      "outputs": [],
      "source": [
        "df_9_EYE.head()"
      ]
    },
    {
      "cell_type": "code",
      "execution_count": null,
      "id": "34d304d5",
      "metadata": {
        "id": "34d304d5"
      },
      "outputs": [],
      "source": [
        "plt.figure(figsize=(18, 8))\n",
        "\n",
        "plt.subplot(1, 2, 1)\n",
        "sns.heatmap(df_9_EYE == -1, cmap='viridis')\n",
        "plt.title('Heatmap of -1 Values')\n",
        "\n",
        "plt.subplot(1, 2, 2)\n",
        "sns.heatmap(df_9_EYE == 1, cmap='viridis')\n",
        "plt.title('Heatmap of -1 Values')\n",
        "\n",
        "plt.tight_layout()\n",
        "plt.show()"
      ]
    },
    {
      "cell_type": "code",
      "execution_count": null,
      "id": "6a878a1f",
      "metadata": {
        "id": "6a878a1f"
      },
      "outputs": [],
      "source": [
        "valid_left_ratio  = 1 - df_9_EYE['ET_ValidityLeft'].mean()"
      ]
    },
    {
      "cell_type": "code",
      "execution_count": null,
      "id": "4175e8fe",
      "metadata": {
        "id": "4175e8fe",
        "colab": {
          "base_uri": "https://localhost:8080/"
        },
        "outputId": "f66596f0-af9d-422b-97b8-0612336ad9f1"
      },
      "outputs": [
        {
          "output_type": "execute_result",
          "data": {
            "text/plain": [
              "np.float64(0.9104867288638172)"
            ]
          },
          "metadata": {},
          "execution_count": 650
        }
      ],
      "source": [
        "valid_left_ratio"
      ]
    },
    {
      "cell_type": "code",
      "execution_count": null,
      "id": "de46b687",
      "metadata": {
        "id": "de46b687"
      },
      "outputs": [],
      "source": [
        "valid_right_ratio = 1 - df_9_EYE['ET_ValidityRight'].mean()"
      ]
    },
    {
      "cell_type": "code",
      "execution_count": null,
      "id": "de4cba74",
      "metadata": {
        "id": "de4cba74",
        "colab": {
          "base_uri": "https://localhost:8080/"
        },
        "outputId": "4313688c-3cb1-40e3-eece-71a98f8ea6a5"
      },
      "outputs": [
        {
          "output_type": "execute_result",
          "data": {
            "text/plain": [
              "np.float64(0.9202068416865553)"
            ]
          },
          "metadata": {},
          "execution_count": 652
        }
      ],
      "source": [
        "valid_right_ratio"
      ]
    },
    {
      "cell_type": "code",
      "execution_count": null,
      "id": "77756a81",
      "metadata": {
        "id": "77756a81"
      },
      "outputs": [],
      "source": [
        "df_9_EYE['ET_PupilLeft_validity'] = df_9_EYE['ET_PupilLeft_validity'].astype(np.int8)\n",
        "df_9_EYE['ET_PupilRight_validity'] = df_9_EYE['ET_PupilRight_validity'].astype(np.int8)"
      ]
    },
    {
      "cell_type": "markdown",
      "id": "52734e85",
      "metadata": {
        "id": "52734e85"
      },
      "source": [
        "# Feature Engineering and Observations\n",
        "\n",
        "Based on the analysis of the data, we've created two new features, `ET_PupilLeft_validity` and `ET_PupilRight_validity`. These features indicate the validity of the pupil data for the left and right eyes, respectively, with a value of 1 representing invalid data (originally -1) and 0 representing valid data.\n",
        "\n",
        "The heatmaps above visually demonstrate the distribution of -1 and 1 values across the dataset. We observed that:\n",
        "- The `-1` values are concentrated in specific columns related to gaze, pupil size, distance, and camera position, suggesting they represent missing or invalid sensor readings.\n",
        "- The `1` values, after mapping from `4.0` in the original validity columns, indicate instances of invalid eye-tracking data.\n",
        "- The heatmaps also show a strong correlation between the `-1` values in the pupil columns and a validity of 1 in the newly created pupil validity features, confirming that -1 was used to mark invalid pupil data."
      ]
    },
    {
      "cell_type": "code",
      "execution_count": null,
      "id": "3439a1c5",
      "metadata": {
        "id": "3439a1c5"
      },
      "outputs": [],
      "source": [
        "df_9_EYE.head()"
      ]
    },
    {
      "cell_type": "code",
      "execution_count": null,
      "id": "f844dc2c",
      "metadata": {
        "id": "f844dc2c"
      },
      "outputs": [],
      "source": [
        "# Select only the numeric columns for plotting histograms, excluding time-related columns\n",
        "numeric_cols = df_9_EYE.select_dtypes(include=np.number).columns\n",
        "cols_to_plot = [col for col in numeric_cols if col not in ['UnixTime']]\n",
        "\n",
        "# Calculate the number of rows and columns for the grid\n",
        "n_cols = 4  # You can adjust the number of columns as needed\n",
        "n_rows = (len(cols_to_plot) + n_cols - 1) // n_cols\n",
        "\n",
        "plt.figure(figsize=(n_cols * 5, n_rows * 4)) # Adjust figure size as needed\n",
        "\n",
        "for i, col in enumerate(cols_to_plot):\n",
        "    plt.subplot(n_rows, n_cols, i + 1)\n",
        "    sns.histplot(df_9_EYE[col], kde=True)\n",
        "    plt.title(f'Distribution of {col}')\n",
        "    plt.xlabel(col)\n",
        "    plt.ylabel('Frequency')\n",
        "\n",
        "plt.tight_layout()\n",
        "plt.show()"
      ]
    },
    {
      "cell_type": "markdown",
      "id": "0f3d3081",
      "metadata": {
        "id": "0f3d3081"
      },
      "source": [
        "# Observations from Histograms\n",
        "\n",
        "The grid of histograms provides insights into the distribution of values for each numeric column in the dataset (excluding 'UnixTime'). Key observations include:\n",
        "\n",
        "- Several columns, such as `ET_GazeLeftx`, `ET_GazeLefty`, `ET_GazeRightx`, and `ET_GazeRighty`, show distributions that appear somewhat multimodal or skewed, suggesting variations in gaze patterns.\n",
        "- The `ET_PupilLeft` and `ET_PupilRight` histograms clearly show a peak at -1, confirming the presence of a significant number of invalid pupil readings.\n",
        "- `ET_TimeSignal` shows a relatively uniform distribution, as expected for a time-based signal.\n",
        "- `ET_DistanceLeft` and `ET_DistanceRight` appear to have distributions centered around certain values, with some outliers or variations.\n",
        "- The camera position columns (`ET_CameraLeftX`, `ET_CameraLeftY`, `ET_CameraRightX`, `ET_CameraRightY`) seem to have distributions concentrated within specific ranges, reflecting the camera's field of view.\n",
        "- The validity columns (`ET_ValidityLeft`, `ET_ValidityRight`, `ET_PupilLeft_validity`, `ET_PupilRight_validity`) show distributions dominated by 0, indicating that most of the data is considered valid after the mapping. The smaller peaks at 1 represent the instances of invalid data.\n",
        "\n",
        "These distributions highlight the need for appropriate handling of the -1 values and potential outliers in subsequent analysis or modeling steps."
      ]
    },
    {
      "cell_type": "code",
      "execution_count": null,
      "id": "e7e3f9eb",
      "metadata": {
        "id": "e7e3f9eb",
        "colab": {
          "base_uri": "https://localhost:8080/"
        },
        "outputId": "6ce44e40-7ef5-46a2-dfbd-cec3b1d429b9"
      },
      "outputs": [
        {
          "output_type": "execute_result",
          "data": {
            "text/plain": [
              "Index(['UnixTime', 'QuestionKey', 'Timestamp', 'ET_GazeLeftx', 'ET_GazeLefty',\n",
              "       'ET_GazeRightx', 'ET_GazeRighty', 'ET_PupilLeft', 'ET_PupilRight',\n",
              "       'ET_TimeSignal', 'ET_DistanceLeft', 'ET_DistanceRight',\n",
              "       'ET_CameraLeftX', 'ET_CameraLeftY', 'ET_CameraRightX',\n",
              "       'ET_CameraRightY', 'ET_ValidityLeft', 'ET_ValidityRight',\n",
              "       'ET_PupilLeft_validity', 'ET_PupilRight_validity'],\n",
              "      dtype='object')"
            ]
          },
          "metadata": {},
          "execution_count": 656
        }
      ],
      "source": [
        "df_9_EYE.columns"
      ]
    },
    {
      "cell_type": "code",
      "execution_count": null,
      "id": "6f44636d",
      "metadata": {
        "id": "6f44636d"
      },
      "outputs": [],
      "source": [
        "cols = ['ET_GazeLeftx', 'ET_GazeLefty',\n",
        "       'ET_GazeRightx', 'ET_GazeRighty', 'ET_PupilLeft', 'ET_PupilRight',\n",
        "       'ET_TimeSignal', 'ET_DistanceLeft', 'ET_DistanceRight',\n",
        "       'ET_CameraLeftX', 'ET_CameraLeftY', 'ET_CameraRightX',\n",
        "       'ET_CameraRightY', 'ET_ValidityLeft', 'ET_ValidityRight',\n",
        "       'ET_PupilLeft_validity', 'ET_PupilRight_validity']"
      ]
    },
    {
      "cell_type": "code",
      "execution_count": null,
      "id": "cf97b3ae",
      "metadata": {
        "id": "cf97b3ae"
      },
      "outputs": [],
      "source": [
        "from IPython.display import display, Markdown\n",
        "\n",
        "for col in cols:\n",
        "    # Add a markdown cell before each plot for better separation and labeling\n",
        "    display(Markdown(f'### {col} over Time'))\n",
        "    plt.figure(figsize=(16, 10))\n",
        "    plt.plot(df_9_EYE['Timestamp'], df_9_EYE[col])\n",
        "    plt.xlabel(\"Timestamp\") # Add x-axis label\n",
        "    plt.ylabel(col) # Add y-axis label\n",
        "    plt.show()"
      ]
    },
    {
      "cell_type": "markdown",
      "id": "1004b5d2",
      "metadata": {
        "id": "1004b5d2"
      },
      "source": [
        "# Observations from Time Series Plots\n",
        "\n",
        "The line plots showing various features against the `Timestamp` reveal the temporal patterns and fluctuations in the eye-tracking data. Key observations include:\n",
        "\n",
        "- **Gaze Coordinates (`ET_GazeLeftx`, `ET_GazeLefty`, `ET_GazeRightx`, `ET_GazeRighty`):** These plots show the changes in gaze position over time. We can observe periods of relatively stable gaze interspersed with rapid movements (saccades) and blinks or other events where the gaze data might be invalid (-1 values appear as gaps or spikes if not handled).\n",
        "- **Pupil Size (`ET_PupilLeft`, `ET_PupilRight`):** The pupil size plots show variations over time. The presence of many -1 values is evident as flat lines at the bottom of the plot, indicating periods where pupil data was not recorded or was invalid.\n",
        "- **Time Signal (`ET_TimeSignal`):** This plot shows a steady, increasing trend, as expected for a time-based signal.\n",
        "- **Distance and Camera Position (`ET_DistanceLeft`, `ET_DistanceRight`, `ET_CameraLeftX`, `ET_CameraLeftY`, `ET_CameraRightX`, `ET_CameraRightY`):** These plots show how the distance from the eye tracker and the camera positions change over time. Variations in these features can be related to head movements or changes in the user's position relative to the eye tracker.\n",
        "- **Validity (`ET_ValidityLeft`, `ET_ValidityRight`, `ET_PupilLeft_validity`, `ET_PupilRight_validity`):** These plots clearly show periods of invalid data (represented by 1) as spikes or plateaus, corresponding to instances where the eye tracker lost track of the eyes or the pupil data was marked as invalid.\n",
        "\n",
        "Analyzing these time series plots is crucial for understanding the dynamics of the eye-tracking data and identifying patterns or anomalies that may require further investigation or specific handling during subsequent analysis."
      ]
    },
    {
      "cell_type": "code",
      "execution_count": null,
      "id": "f8dd4456",
      "metadata": {
        "id": "f8dd4456"
      },
      "outputs": [],
      "source": [
        "# Select only the numeric columns for plotting histograms, excluding time-related columns\n",
        "numeric_cols = df_9_EYE.select_dtypes(include=np.number).columns\n",
        "\n",
        "# Calculate the number of rows and columns for the grid\n",
        "n_cols = 4  # You can adjust the number of columns as needed\n",
        "n_rows = (len(numeric_cols) + n_cols - 1) // n_cols\n",
        "\n",
        "plt.figure(figsize=(n_cols * 5, n_rows * 4)) # Adjust figure size as needed\n",
        "\n",
        "for i, col in enumerate(numeric_cols):\n",
        "    plt.subplot(n_rows, n_cols, i + 1)\n",
        "    sns.boxplot(df_9_EYE[col])\n",
        "    plt.title(f'Boxplot of {col}')\n",
        "    plt.xlabel(col)\n",
        "\n",
        "plt.tight_layout()\n",
        "plt.show()"
      ]
    },
    {
      "cell_type": "markdown",
      "id": "3d5e3842",
      "metadata": {
        "id": "3d5e3842"
      },
      "source": [
        "# Observations from Boxplots and Handling -1 Values\n",
        "\n",
        "The boxplots provide a visual summary of the distribution and potential outliers for each numeric column. Key observations from the boxplots include:\n",
        "\n",
        "- The boxplots for columns like `ET_GazeLeftx`, `ET_GazeLefty`, `ET_GazeRightx`, `ET_GazeRighty`, `ET_PupilLeft`, `ET_PupilRight`, `ET_DistanceLeft`, `ET_DistanceRight`, `ET_CameraLeftX`, `ET_CameraLeftY`, `ET_CameraRightX`, and `ET_CameraRightY` clearly show the presence of -1 values as significant outliers, confirming our earlier observations from the heatmaps and histograms.\n",
        "- The boxplots for the validity columns (`ET_ValidityLeft`, `ET_ValidityRight`, `ET_PupilLeft_validity`, `ET_PupilRight_validity`) show the discrete nature of these features, with the majority of data points at 0 (valid) and a smaller number at 1 (invalid).\n",
        "\n",
        "Given the significant presence of -1 values, which represent invalid or missing data, especially in the pupil-related columns, we have decided to replace these -1 values with NaN to properly represent them as missing data. Subsequently, we will impute these missing values using the mean of each respective column. This approach helps to retain the data structure and allows for further analysis or modeling without the distortion caused by the -1 placeholders."
      ]
    },
    {
      "cell_type": "code",
      "execution_count": null,
      "id": "ccd7b33d",
      "metadata": {
        "id": "ccd7b33d"
      },
      "outputs": [],
      "source": [
        "df_9_EYE.replace({-1: np.nan}, inplace=True)"
      ]
    },
    {
      "cell_type": "code",
      "execution_count": null,
      "id": "ad2bb098",
      "metadata": {
        "id": "ad2bb098",
        "colab": {
          "base_uri": "https://localhost:8080/"
        },
        "outputId": "0e29e52e-d39f-42d2-8227-96ff16e90e0c"
      },
      "outputs": [
        {
          "output_type": "execute_result",
          "data": {
            "text/plain": [
              "ET_GazeLeftx                 926.475659\n",
              "ET_GazeLefty                 517.236608\n",
              "ET_GazeRightx                943.481520\n",
              "ET_GazeRighty                544.513007\n",
              "ET_PupilLeft                   3.117591\n",
              "ET_PupilRight                  3.255436\n",
              "ET_TimeSignal             576057.347682\n",
              "ET_DistanceLeft              590.970521\n",
              "ET_DistanceRight             585.750245\n",
              "ET_CameraLeftX                 0.542093\n",
              "ET_CameraLeftY                 0.559583\n",
              "ET_CameraRightX                0.394110\n",
              "ET_CameraRightY                0.569125\n",
              "ET_ValidityLeft                0.089513\n",
              "ET_ValidityRight               0.079793\n",
              "ET_PupilLeft_validity          0.715918\n",
              "ET_PupilRight_validity         0.706914\n",
              "dtype: float64"
            ]
          },
          "metadata": {},
          "execution_count": 661
        }
      ],
      "source": [
        "df_9_EYE[['ET_GazeLeftx', 'ET_GazeLefty',\n",
        "       'ET_GazeRightx', 'ET_GazeRighty', 'ET_PupilLeft', 'ET_PupilRight',\n",
        "       'ET_TimeSignal', 'ET_DistanceLeft', 'ET_DistanceRight',\n",
        "       'ET_CameraLeftX', 'ET_CameraLeftY', 'ET_CameraRightX',\n",
        "       'ET_CameraRightY', 'ET_ValidityLeft', 'ET_ValidityRight',\n",
        "       'ET_PupilLeft_validity', 'ET_PupilRight_validity']].mean()"
      ]
    },
    {
      "cell_type": "code",
      "execution_count": null,
      "id": "505460ee",
      "metadata": {
        "id": "505460ee",
        "colab": {
          "base_uri": "https://localhost:8080/"
        },
        "outputId": "845502ed-b80a-4534-d24e-b6ac7fc52b8c"
      },
      "outputs": [
        {
          "output_type": "execute_result",
          "data": {
            "text/plain": [
              "ET_GazeLeftx                 929.000000\n",
              "ET_GazeLefty                 482.000000\n",
              "ET_GazeRightx                950.000000\n",
              "ET_GazeRighty                512.000000\n",
              "ET_PupilLeft                   3.125122\n",
              "ET_PupilRight                  3.272293\n",
              "ET_TimeSignal             576053.872000\n",
              "ET_DistanceLeft              592.427856\n",
              "ET_DistanceRight             587.359253\n",
              "ET_CameraLeftX                 0.541059\n",
              "ET_CameraLeftY                 0.559262\n",
              "ET_CameraRightX                0.391873\n",
              "ET_CameraRightY                0.569390\n",
              "ET_ValidityLeft                0.000000\n",
              "ET_ValidityRight               0.000000\n",
              "ET_PupilLeft_validity          1.000000\n",
              "ET_PupilRight_validity         1.000000\n",
              "dtype: float64"
            ]
          },
          "metadata": {},
          "execution_count": 662
        }
      ],
      "source": [
        "df_9_EYE[['ET_GazeLeftx', 'ET_GazeLefty',\n",
        "       'ET_GazeRightx', 'ET_GazeRighty', 'ET_PupilLeft', 'ET_PupilRight',\n",
        "       'ET_TimeSignal', 'ET_DistanceLeft', 'ET_DistanceRight',\n",
        "       'ET_CameraLeftX', 'ET_CameraLeftY', 'ET_CameraRightX',\n",
        "       'ET_CameraRightY', 'ET_ValidityLeft', 'ET_ValidityRight',\n",
        "       'ET_PupilLeft_validity', 'ET_PupilRight_validity']].median()"
      ]
    },
    {
      "cell_type": "code",
      "execution_count": null,
      "id": "6aad4653",
      "metadata": {
        "id": "6aad4653"
      },
      "outputs": [],
      "source": [
        "numeric_cols = df_9_EYE.select_dtypes(include=np.number).columns\n",
        "\n",
        "for col in numeric_cols:\n",
        "    df_9_EYE[col] = df_9_EYE[col].fillna(df_9_EYE[col].mean())"
      ]
    },
    {
      "cell_type": "code",
      "execution_count": null,
      "id": "1a8de8ed",
      "metadata": {
        "id": "1a8de8ed"
      },
      "outputs": [],
      "source": [
        "plt.figure(figsize=(18, 8))\n",
        "\n",
        "plt.subplot(1, 2, 1)\n",
        "sns.heatmap(df_9_EYE.isnull(), cmap='viridis')\n",
        "plt.title('Heatmap of Missing Values After Imputation')\n",
        "\n",
        "plt.subplot(1, 2, 2)\n",
        "sns.heatmap(df_9_EYE == 1, cmap='viridis')\n",
        "plt.title('Heatmap of 1 Values')\n",
        "\n",
        "plt.tight_layout()\n",
        "plt.show()"
      ]
    },
    {
      "cell_type": "markdown",
      "id": "39d771de",
      "metadata": {
        "id": "39d771de"
      },
      "source": [
        "# Handling Missing Values (Imputation)\n",
        "\n",
        "As decided, we have replaced all the `-1` values with `NaN` to treat them as missing data. Subsequently, we have imputed these `NaN` values with the mean of their respective columns. The heatmap above, which was generated after the imputation, now shows no visible signs of `NaN` values, indicating that the imputation was successful."
      ]
    },
    {
      "cell_type": "code",
      "execution_count": null,
      "id": "1ca53b3e",
      "metadata": {
        "id": "1ca53b3e"
      },
      "outputs": [],
      "source": [
        "df_9_EYE.head()"
      ]
    },
    {
      "cell_type": "code",
      "execution_count": null,
      "id": "da0e911e",
      "metadata": {
        "id": "da0e911e"
      },
      "outputs": [],
      "source": [
        "# Select only the numeric columns for plotting histograms, excluding time-related columns\n",
        "numeric_cols = df_9_EYE.select_dtypes(include=np.number).columns\n",
        "cols_to_plot = [col for col in numeric_cols if col not in ['UnixTime']]\n",
        "\n",
        "# Calculate the number of rows and columns for the grid\n",
        "n_cols = 4  # You can adjust the number of columns as needed\n",
        "n_rows = (len(cols_to_plot) + n_cols - 1) // n_cols\n",
        "\n",
        "plt.figure(figsize=(n_cols * 5, n_rows * 4)) # Adjust figure size as needed\n",
        "\n",
        "for i, col in enumerate(cols_to_plot):\n",
        "    plt.subplot(n_rows, n_cols, i + 1)\n",
        "    sns.histplot(df_9_EYE[col], kde=True)\n",
        "    plt.title(f'Distribution of {col}')\n",
        "    plt.xlabel(col)\n",
        "    plt.ylabel('Frequency')\n",
        "\n",
        "plt.tight_layout()\n",
        "plt.show()"
      ]
    },
    {
      "cell_type": "markdown",
      "id": "7145bb4a",
      "metadata": {
        "id": "7145bb4a"
      },
      "source": [
        "# Observations from Histograms After Imputation\n",
        "\n",
        "The histograms generated after replacing the -1 values with the mean of each column show the distributions of the numeric features with the missing data handled. Key observations from these updated histograms include:\n",
        "\n",
        "- The distinct peaks at -1, which were prominent in the histograms for several columns (e.g., pupil size, gaze coordinates, distance, and camera position) before imputation, are now replaced by a peak at the mean of each respective column.\n",
        "- The distributions in many columns now appear more unimodal or show shifted modes compared to the original histograms.\n",
        "- The histograms for the validity columns still show their bimodal distributions with peaks at 0 and 1, as these were handled separately.\n",
        "\n",
        "These histograms provide an updated view of the data's distribution after handling the missing values, highlighting the impact of the imputation method on the data's characteristics."
      ]
    },
    {
      "cell_type": "code",
      "execution_count": null,
      "id": "5042f0d2",
      "metadata": {
        "id": "5042f0d2"
      },
      "outputs": [],
      "source": [
        "cols = ['ET_GazeLeftx', 'ET_GazeLefty',\n",
        "       'ET_GazeRightx', 'ET_GazeRighty', 'ET_PupilLeft', 'ET_PupilRight',\n",
        "       'ET_TimeSignal', 'ET_DistanceLeft', 'ET_DistanceRight',\n",
        "       'ET_CameraLeftX', 'ET_CameraLeftY', 'ET_CameraRightX',\n",
        "       'ET_CameraRightY', 'ET_ValidityLeft', 'ET_ValidityRight',\n",
        "       'ET_PupilLeft_validity', 'ET_PupilRight_validity']"
      ]
    },
    {
      "cell_type": "code",
      "execution_count": null,
      "id": "41b3ddae",
      "metadata": {
        "id": "41b3ddae"
      },
      "outputs": [],
      "source": [
        "for col in cols:\n",
        "    # Add a markdown cell before each plot for better separation and labeling\n",
        "    display(Markdown(f'### {col} over Time'))\n",
        "    plt.figure(figsize=(16, 10))\n",
        "    plt.plot(df_9_EYE['Timestamp'], df_9_EYE[col])\n",
        "    plt.xlabel(\"Timestamp\") # Add x-axis label\n",
        "    plt.ylabel(col) # Add y-axis label\n",
        "    plt.show()"
      ]
    },
    {
      "cell_type": "markdown",
      "id": "f40b13c7",
      "metadata": {
        "id": "f40b13c7"
      },
      "source": [
        "# Observations from Time Series Plots After Imputation\n",
        "\n",
        "The line plots generated after imputing the missing values with the mean show the temporal patterns of the features with the missing data handled. Key observations from these updated plots include:\n",
        "\n",
        "- The gaps or flat lines at -1, which were prominent in the plots for columns like gaze coordinates, pupil size, distance, and camera position, are now filled by lines at the mean value of the respective columns.\n",
        "- The plots for the validity columns remain the same as they were handled separately.\n",
        "- The `ET_TimeSignal` plot still shows a steady increasing trend, as expected."
      ]
    },
    {
      "cell_type": "code",
      "execution_count": null,
      "id": "59c8013b",
      "metadata": {
        "id": "59c8013b"
      },
      "outputs": [],
      "source": [
        "plt.figure(figsize=(16, 10))\n",
        "sns.heatmap(df_9_EYE.corr(numeric_only=True), cmap='YlGnBu', annot=True)\n",
        "plt.show()"
      ]
    },
    {
      "cell_type": "markdown",
      "id": "f22f5617",
      "metadata": {
        "id": "f22f5617"
      },
      "source": [
        "# Observations from Correlation Heatmap\n",
        "\n",
        "The correlation heatmap provides a visual representation of the pairwise correlations between the numeric columns in the dataset. Key observations from the heatmap include:\n",
        "\n",
        "- **High Positive Correlations:** We observe strong positive correlations (values close to 1) between:\n",
        "  - `ET_GazeLeftx` and `ET_GazeRightx`: This is expected as the gaze positions of both eyes should be highly correlated when fixating on a point.\n",
        "  - `ET_GazeLefty` and `ET_GazeRighty`: Similar to the x-coordinates, the y-coordinates of gaze should also be highly correlated.\n",
        "  - `ET_PupilLeft` and `ET_PupilRight`: Pupil sizes of both eyes tend to change together in response to light and cognitive load.\n",
        "  - `ET_DistanceLeft` and `ET_DistanceRight`: The distance from the eye tracker to each eye should be highly correlated.\n",
        "  - `ET_CameraLeftX` and `ET_CameraRightX`, `ET_CameraLeftY` and `ET_CameraRightY`: The camera positions for both eyes are also expected to be highly correlated.\n",
        "  - `UnixTime` and `ET_TimeSignal`: As previously noted, these two columns are almost perfectly linearly correlated, indicating redundancy.\n",
        "  - `ET_ValidityLeft` and `ET_PupilLeft_validity`: There is a positive correlation, suggesting that when the overall left eye data is invalid, the left pupil data is also likely to be invalid.\n",
        "  - `ET_ValidityRight` and `ET_PupilRight_validity`: Similar to the left eye, there is a positive correlation between the overall right eye validity and the right pupil validity.\n",
        "- **Other Correlations:** We can also observe other varying degrees of correlations between different features, which can provide insights into the relationships between gaze behavior, pupil size, distance, and camera position. For example, there might be correlations between gaze coordinates and camera positions, reflecting head movements.\n",
        "- **Low or Near-Zero Correlations:** Columns with low or near-zero correlations are relatively independent of each other.\n",
        "\n",
        "Understanding these correlations is important for feature selection and for building models, as highly correlated features might indicate multicollinearity, while correlations between features can reveal underlying patterns in the data."
      ]
    },
    {
      "cell_type": "markdown",
      "id": "268798c7",
      "metadata": {
        "id": "268798c7"
      },
      "source": [
        "# Analysis of ET_TimeSignal and Decision to Drop\n",
        "\n",
        "As observed in the time series plot and confirmed by the correlation heatmap, the `ET_TimeSignal` column exhibits a near-perfect linear relationship with both the `Timestamp` and `UnixTime` columns. This strong correlation (close to 1) suggests that `ET_TimeSignal` is essentially redundant and likely represents another form of time recording or a signal directly derived from the timestamp.\n",
        "\n",
        "Including highly correlated features like this in a dataset can lead to issues such as multicollinearity in some statistical models, which can make it difficult to interpret the individual impact of each feature. Since the `Timestamp` column already provides the necessary temporal information, retaining `ET_TimeSignal` does not appear to add significant value for further analysis or modeling in most cases.\n",
        "\n",
        "Therefore, based on its high correlation and lack of unique insight, we will proceed to drop the `ET_TimeSignal` column to simplify the dataset and potentially improve the performance and interpretability of future analyses."
      ]
    },
    {
      "cell_type": "code",
      "execution_count": null,
      "id": "5035826e",
      "metadata": {
        "id": "5035826e"
      },
      "outputs": [],
      "source": [
        "df_9_EYE.drop('ET_TimeSignal', axis=1, inplace=True)"
      ]
    },
    {
      "cell_type": "code",
      "execution_count": null,
      "id": "7b9c9a80",
      "metadata": {
        "id": "7b9c9a80"
      },
      "outputs": [],
      "source": [
        "plt.figure(figsize=(16, 10))\n",
        "sns.pairplot(df_9_EYE)\n",
        "plt.show()"
      ]
    },
    {
      "cell_type": "markdown",
      "id": "6fc5aed3",
      "metadata": {
        "id": "6fc5aed3"
      },
      "source": [
        "# **10_EYE**"
      ]
    },
    {
      "cell_type": "code",
      "execution_count": null,
      "id": "73a77947",
      "metadata": {
        "id": "73a77947"
      },
      "outputs": [],
      "source": []
    },
    {
      "cell_type": "code",
      "execution_count": null,
      "id": "1bd4bcdd",
      "metadata": {
        "id": "1bd4bcdd"
      },
      "outputs": [],
      "source": [
        "df_10_EYE = pd.read_csv('data/STData/10/10_EYE.csv')"
      ]
    },
    {
      "cell_type": "code",
      "execution_count": null,
      "id": "3e659393",
      "metadata": {
        "id": "3e659393"
      },
      "outputs": [],
      "source": [
        "df_10_EYE.head()"
      ]
    },
    {
      "cell_type": "code",
      "execution_count": null,
      "id": "14fc8489",
      "metadata": {
        "id": "14fc8489",
        "colab": {
          "base_uri": "https://localhost:8080/"
        },
        "outputId": "842404d6-8ea5-4e98-86b1-b1e22bb0853d"
      },
      "outputs": [
        {
          "output_type": "execute_result",
          "data": {
            "text/plain": [
              "(122664, 19)"
            ]
          },
          "metadata": {},
          "execution_count": 674
        }
      ],
      "source": [
        "df_10_EYE.shape"
      ]
    },
    {
      "cell_type": "code",
      "execution_count": null,
      "id": "b8503b88",
      "metadata": {
        "id": "b8503b88",
        "colab": {
          "base_uri": "https://localhost:8080/"
        },
        "outputId": "fbbd2899-5aa3-42c6-cfb3-584ff16f5521"
      },
      "outputs": [
        {
          "output_type": "execute_result",
          "data": {
            "text/plain": [
              "Index(['UnixTime', 'Row', 'QuestionKey', 'Timestamp', 'ET_GazeLeftx',\n",
              "       'ET_GazeLefty', 'ET_GazeRightx', 'ET_GazeRighty', 'ET_PupilLeft',\n",
              "       'ET_PupilRight', 'ET_TimeSignal', 'ET_DistanceLeft', 'ET_DistanceRight',\n",
              "       'ET_CameraLeftX', 'ET_CameraLeftY', 'ET_CameraRightX',\n",
              "       'ET_CameraRightY', 'ET_ValidityLeft', 'ET_ValidityRight'],\n",
              "      dtype='object')"
            ]
          },
          "metadata": {},
          "execution_count": 675
        }
      ],
      "source": [
        "df_10_EYE.columns"
      ]
    },
    {
      "cell_type": "code",
      "execution_count": null,
      "id": "8789a345",
      "metadata": {
        "id": "8789a345",
        "colab": {
          "base_uri": "https://localhost:8080/"
        },
        "outputId": "4c1fafe5-e177-42b3-d057-609c454678b9"
      },
      "outputs": [
        {
          "output_type": "stream",
          "name": "stdout",
          "text": [
            "<class 'pandas.core.frame.DataFrame'>\n",
            "RangeIndex: 122664 entries, 0 to 122663\n",
            "Data columns (total 19 columns):\n",
            " #   Column            Non-Null Count   Dtype  \n",
            "---  ------            --------------   -----  \n",
            " 0   UnixTime          122664 non-null  float64\n",
            " 1   Row               122664 non-null  int64  \n",
            " 2   QuestionKey       68504 non-null   object \n",
            " 3   Timestamp         122664 non-null  object \n",
            " 4   ET_GazeLeftx      122660 non-null  float64\n",
            " 5   ET_GazeLefty      122660 non-null  float64\n",
            " 6   ET_GazeRightx     122660 non-null  float64\n",
            " 7   ET_GazeRighty     122660 non-null  float64\n",
            " 8   ET_PupilLeft      122660 non-null  float64\n",
            " 9   ET_PupilRight     122660 non-null  float64\n",
            " 10  ET_TimeSignal     122660 non-null  float64\n",
            " 11  ET_DistanceLeft   122660 non-null  float64\n",
            " 12  ET_DistanceRight  122660 non-null  float64\n",
            " 13  ET_CameraLeftX    122660 non-null  float64\n",
            " 14  ET_CameraLeftY    122660 non-null  float64\n",
            " 15  ET_CameraRightX   122660 non-null  float64\n",
            " 16  ET_CameraRightY   122660 non-null  float64\n",
            " 17  ET_ValidityLeft   122660 non-null  float64\n",
            " 18  ET_ValidityRight  122660 non-null  float64\n",
            "dtypes: float64(16), int64(1), object(2)\n",
            "memory usage: 17.8+ MB\n"
          ]
        }
      ],
      "source": [
        "df_10_EYE.info()"
      ]
    },
    {
      "cell_type": "code",
      "execution_count": null,
      "id": "a081e813",
      "metadata": {
        "id": "a081e813",
        "colab": {
          "base_uri": "https://localhost:8080/"
        },
        "outputId": "bbb172ab-9fca-42f1-c2d1-b4f070c80704"
      },
      "outputs": [
        {
          "output_type": "execute_result",
          "data": {
            "text/plain": [
              "UnixTime                0\n",
              "Row                     0\n",
              "QuestionKey         54160\n",
              "Timestamp               0\n",
              "ET_GazeLeftx            4\n",
              "ET_GazeLefty            4\n",
              "ET_GazeRightx           4\n",
              "ET_GazeRighty           4\n",
              "ET_PupilLeft            4\n",
              "ET_PupilRight           4\n",
              "ET_TimeSignal           4\n",
              "ET_DistanceLeft         4\n",
              "ET_DistanceRight        4\n",
              "ET_CameraLeftX          4\n",
              "ET_CameraLeftY          4\n",
              "ET_CameraRightX         4\n",
              "ET_CameraRightY         4\n",
              "ET_ValidityLeft         4\n",
              "ET_ValidityRight        4\n",
              "dtype: int64"
            ]
          },
          "metadata": {},
          "execution_count": 677
        }
      ],
      "source": [
        "df_10_EYE.isnull().sum()"
      ]
    },
    {
      "cell_type": "code",
      "execution_count": null,
      "id": "04a9a6b0",
      "metadata": {
        "id": "04a9a6b0"
      },
      "outputs": [],
      "source": [
        "plt.figure(figsize=(12,8))\n",
        "sns.heatmap(df_10_EYE.isnull(), cmap='viridis')\n",
        "plt.show()"
      ]
    },
    {
      "cell_type": "markdown",
      "id": "4e4c26ce",
      "metadata": {
        "id": "4e4c26ce"
      },
      "source": [
        "# Notes & Observations\n",
        "\n",
        "- We observe many **null** (or missing) values in the `QuestionKey` columns.\n",
        "- The nulls in the `QuestionKey` column may not represent “true” nulls. Rather, they follow interval patterns, suggesting that during those periods no question was displayed.\n",
        "- These missing values in `QuestionKey` require additional investigation and context-aware handling."
      ]
    },
    {
      "cell_type": "code",
      "execution_count": null,
      "id": "a9899a76",
      "metadata": {
        "id": "a9899a76",
        "colab": {
          "base_uri": "https://localhost:8080/"
        },
        "outputId": "cde52188-8db8-4b07-8014-7075450091af"
      },
      "outputs": [
        {
          "output_type": "execute_result",
          "data": {
            "text/plain": [
              "array([nan, '1spl1', '1spl2', '1Item1', '1Item2', '1Item3', '1Item4',\n",
              "       '1Item5', '1Item6', '1Item7', '1Item8', '1Item9', '1Item10',\n",
              "       '2spl1', '2spl2', '2Item1', '2Item2', '2Item3', '2Item4', '2Item5',\n",
              "       '2Item6', '2Item7', '2Item8', '2Item9', '2Item10', '3spl1',\n",
              "       '3spl2', '3Item15', '3Item2', '3Item5', '3Item12', '3Item6',\n",
              "       '3Item8', '3Item7', '3Item9', '3Item17', '3Item19', '3Item11',\n",
              "       '3Item4'], dtype=object)"
            ]
          },
          "metadata": {},
          "execution_count": 679
        }
      ],
      "source": [
        "df_10_EYE['QuestionKey'].unique()"
      ]
    },
    {
      "cell_type": "code",
      "execution_count": null,
      "id": "7365dcaa",
      "metadata": {
        "id": "7365dcaa"
      },
      "outputs": [],
      "source": [
        "df_10_EYE['Timestamp'] = pd.to_datetime(df_10_EYE['Timestamp'])"
      ]
    },
    {
      "cell_type": "code",
      "execution_count": null,
      "id": "23c03a31",
      "metadata": {
        "id": "23c03a31"
      },
      "outputs": [],
      "source": [
        "df_10_EYE.head(3)"
      ]
    },
    {
      "cell_type": "code",
      "execution_count": null,
      "id": "70378c45",
      "metadata": {
        "id": "70378c45"
      },
      "outputs": [],
      "source": [
        "df_10_EYE['QuestionKey'] = df_10_EYE['QuestionKey'].fillna('None')"
      ]
    },
    {
      "cell_type": "code",
      "execution_count": null,
      "id": "0da3fabf",
      "metadata": {
        "id": "0da3fabf",
        "colab": {
          "base_uri": "https://localhost:8080/"
        },
        "outputId": "0cedc6b4-13aa-4135-c802-462a211d9fcd"
      },
      "outputs": [
        {
          "output_type": "execute_result",
          "data": {
            "text/plain": [
              "QuestionKey\n",
              "None       54160\n",
              "2Item7      5747\n",
              "1Item2      4522\n",
              "3Item9      3712\n",
              "1Item9      3275\n",
              "2Item8      3114\n",
              "1Item1      2949\n",
              "2Item5      2926\n",
              "1Item7      2784\n",
              "1Item6      2715\n",
              "1Item5      2668\n",
              "3Item7      2611\n",
              "2Item3      2547\n",
              "1spl1       2413\n",
              "2spl2       2039\n",
              "1Item10     2001\n",
              "1Item3      1925\n",
              "3Item12     1825\n",
              "1Item8      1811\n",
              "2Item6      1504\n",
              "2Item4      1362\n",
              "2Item2      1356\n",
              "2Item1      1183\n",
              "1spl2       1116\n",
              "3Item2      1092\n",
              "1Item4       993\n",
              "3Item8       985\n",
              "3Item6       980\n",
              "2spl1        885\n",
              "3Item15      741\n",
              "2Item10      734\n",
              "3Item5       660\n",
              "3Item17      627\n",
              "3spl1        568\n",
              "2Item9       562\n",
              "3Item19      514\n",
              "3Item4       360\n",
              "3Item11      354\n",
              "3spl2        344\n",
              "Name: count, dtype: int64"
            ]
          },
          "metadata": {},
          "execution_count": 683
        }
      ],
      "source": [
        "df_10_EYE['QuestionKey'].value_counts()"
      ]
    },
    {
      "cell_type": "code",
      "execution_count": null,
      "id": "ae3d017f",
      "metadata": {
        "id": "ae3d017f"
      },
      "outputs": [],
      "source": [
        "plt.figure(figsize=(12,8))\n",
        "sns.heatmap(df_10_EYE.isnull(), cmap='viridis')\n",
        "plt.show()"
      ]
    },
    {
      "cell_type": "code",
      "execution_count": null,
      "id": "99238b53",
      "metadata": {
        "id": "99238b53",
        "colab": {
          "base_uri": "https://localhost:8080/"
        },
        "outputId": "423a21d7-fcda-49b2-a9cc-fa15373d744b"
      },
      "outputs": [
        {
          "output_type": "execute_result",
          "data": {
            "text/plain": [
              "UnixTime            0\n",
              "Row                 0\n",
              "QuestionKey         0\n",
              "Timestamp           0\n",
              "ET_GazeLeftx        4\n",
              "ET_GazeLefty        4\n",
              "ET_GazeRightx       4\n",
              "ET_GazeRighty       4\n",
              "ET_PupilLeft        4\n",
              "ET_PupilRight       4\n",
              "ET_TimeSignal       4\n",
              "ET_DistanceLeft     4\n",
              "ET_DistanceRight    4\n",
              "ET_CameraLeftX      4\n",
              "ET_CameraLeftY      4\n",
              "ET_CameraRightX     4\n",
              "ET_CameraRightY     4\n",
              "ET_ValidityLeft     4\n",
              "ET_ValidityRight    4\n",
              "dtype: int64"
            ]
          },
          "metadata": {},
          "execution_count": 685
        }
      ],
      "source": [
        "df_10_EYE.isnull().sum()"
      ]
    },
    {
      "cell_type": "code",
      "execution_count": null,
      "id": "96693869",
      "metadata": {
        "id": "96693869"
      },
      "outputs": [],
      "source": [
        "df_10_EYE.dropna(inplace=True)"
      ]
    },
    {
      "cell_type": "code",
      "execution_count": null,
      "id": "5c739dfa",
      "metadata": {
        "id": "5c739dfa"
      },
      "outputs": [],
      "source": [
        "df_10_EYE.head()"
      ]
    },
    {
      "cell_type": "code",
      "execution_count": null,
      "id": "13aaf105",
      "metadata": {
        "id": "13aaf105",
        "colab": {
          "base_uri": "https://localhost:8080/"
        },
        "outputId": "a9b0d8b1-847c-41f6-a2b1-0fab57f73d90"
      },
      "outputs": [
        {
          "output_type": "execute_result",
          "data": {
            "text/plain": [
              "array([     2,      3,      4, ..., 122660, 122661, 122662],\n",
              "      shape=(122660,))"
            ]
          },
          "metadata": {},
          "execution_count": 688
        }
      ],
      "source": [
        "df_10_EYE['Row'].unique()"
      ]
    },
    {
      "cell_type": "code",
      "execution_count": null,
      "id": "371db399",
      "metadata": {
        "id": "371db399"
      },
      "outputs": [],
      "source": [
        "plt.figure(figsize=(8,6))\n",
        "sns.histplot(df_10_EYE['Row'])\n",
        "plt.show()"
      ]
    },
    {
      "cell_type": "markdown",
      "id": "3584dd3f",
      "metadata": {
        "id": "3584dd3f"
      },
      "source": [
        "# Notes & Observations\n",
        "\n",
        "- The `Row` column appears to be a simple row index and does not provide meaningful information relevant to the eye-tracking data itself. Therefore, it can be dropped."
      ]
    },
    {
      "cell_type": "code",
      "execution_count": null,
      "id": "88c53b21",
      "metadata": {
        "id": "88c53b21"
      },
      "outputs": [],
      "source": [
        "df_10_EYE.drop('Row', axis=1, inplace=True)"
      ]
    },
    {
      "cell_type": "code",
      "execution_count": null,
      "id": "7018e353",
      "metadata": {
        "id": "7018e353",
        "colab": {
          "base_uri": "https://localhost:8080/"
        },
        "outputId": "ce747c2f-672f-4b8a-8fa9-5eae594bed5e"
      },
      "outputs": [
        {
          "output_type": "execute_result",
          "data": {
            "text/plain": [
              "array([0., 4.])"
            ]
          },
          "metadata": {},
          "execution_count": 691
        }
      ],
      "source": [
        "df_10_EYE['ET_ValidityLeft'].unique()"
      ]
    },
    {
      "cell_type": "code",
      "execution_count": null,
      "id": "3f42ada3",
      "metadata": {
        "id": "3f42ada3",
        "colab": {
          "base_uri": "https://localhost:8080/"
        },
        "outputId": "b73eacae-5a52-414d-eae1-2fbd2dce70f4"
      },
      "outputs": [
        {
          "output_type": "execute_result",
          "data": {
            "text/plain": [
              "ET_ValidityLeft\n",
              "0.0    106525\n",
              "4.0     16135\n",
              "Name: count, dtype: int64"
            ]
          },
          "metadata": {},
          "execution_count": 692
        }
      ],
      "source": [
        "df_10_EYE['ET_ValidityLeft'].value_counts()"
      ]
    },
    {
      "cell_type": "code",
      "execution_count": null,
      "id": "a19dab6e",
      "metadata": {
        "id": "a19dab6e",
        "colab": {
          "base_uri": "https://localhost:8080/"
        },
        "outputId": "481a4e70-974b-4934-9a2a-cc0e43bf2935"
      },
      "outputs": [
        {
          "output_type": "execute_result",
          "data": {
            "text/plain": [
              "array([0., 4.])"
            ]
          },
          "metadata": {},
          "execution_count": 693
        }
      ],
      "source": [
        "df_10_EYE['ET_ValidityRight'].unique()"
      ]
    },
    {
      "cell_type": "code",
      "execution_count": null,
      "id": "33063453",
      "metadata": {
        "id": "33063453",
        "colab": {
          "base_uri": "https://localhost:8080/"
        },
        "outputId": "94ce7db2-1933-4cee-a5b9-61da470c8299"
      },
      "outputs": [
        {
          "output_type": "execute_result",
          "data": {
            "text/plain": [
              "ET_ValidityRight\n",
              "0.0    111517\n",
              "4.0     11143\n",
              "Name: count, dtype: int64"
            ]
          },
          "metadata": {},
          "execution_count": 694
        }
      ],
      "source": [
        "df_10_EYE['ET_ValidityRight'].value_counts()"
      ]
    },
    {
      "cell_type": "code",
      "execution_count": null,
      "id": "3aa0ea7a",
      "metadata": {
        "id": "3aa0ea7a"
      },
      "outputs": [],
      "source": [
        "plt.figure(figsize=(12, 6))\n",
        "\n",
        "plt.subplot(1, 2, 1)\n",
        "sns.barplot(x=df_10_EYE['ET_ValidityLeft'].value_counts().index, y=df_10_EYE['ET_ValidityLeft'].value_counts().values)\n",
        "plt.title('Count of ET_ValidityLeft')\n",
        "plt.xlabel('Validity')\n",
        "plt.ylabel('Count')\n",
        "\n",
        "\n",
        "plt.subplot(1, 2, 2)\n",
        "sns.barplot(x=df_10_EYE['ET_ValidityRight'].value_counts().index, y=df_10_EYE['ET_ValidityRight'].value_counts().values)\n",
        "plt.title('Count of ET_ValidityRight')\n",
        "plt.xlabel('Validity')\n",
        "plt.ylabel('Count')\n",
        "\n",
        "plt.tight_layout()\n",
        "plt.show()"
      ]
    },
    {
      "cell_type": "markdown",
      "id": "c3534a93",
      "metadata": {
        "id": "c3534a93"
      },
      "source": [
        "# Notes & Observations\n",
        "\n",
        "- The `ET_ValidityLeft` and `ET_ValidityRight` columns indicate the validity of the eye-tracking data for the left and right eye, respectively.\n",
        "- Based on the value counts and the bar plots, it appears that a value of `0.0` represents valid eye-tracking data, while a value of `4.0` represents invalid data.\n",
        "- Although the amount of invalid data is relatively small, removing these rows could introduce unwanted patterns or gaps in the time series data.\n",
        "- Therefore, we will keep the data and replace the value `4.0` with `1.0` in both `ET_ValidityLeft` and `ET_ValidityRight` columns. This will indicate to a machine learning model that the eye tracker had invalid data at those specific points in time while maintaining the integrity of the time series."
      ]
    },
    {
      "cell_type": "markdown",
      "id": "9511eb06",
      "metadata": {
        "id": "9511eb06"
      },
      "source": [
        "Define a mapping to convert validity values from `0.0` and `4.0` to `0` and `1`."
      ]
    },
    {
      "cell_type": "code",
      "execution_count": null,
      "id": "1376d80c",
      "metadata": {
        "id": "1376d80c"
      },
      "outputs": [],
      "source": [
        "validity_map = {4.0: 1.0, 0.0: 0.0}"
      ]
    },
    {
      "cell_type": "code",
      "execution_count": null,
      "id": "486d5336",
      "metadata": {
        "id": "486d5336"
      },
      "outputs": [],
      "source": [
        "df_10_EYE['ET_ValidityLeft'] = df_10_EYE['ET_ValidityLeft'].map(validity_map).astype(np.int8)\n",
        "df_10_EYE['ET_ValidityRight'] = df_10_EYE['ET_ValidityRight'].map(validity_map).astype(np.int8)"
      ]
    },
    {
      "cell_type": "code",
      "execution_count": null,
      "id": "224c1dc7",
      "metadata": {
        "id": "224c1dc7"
      },
      "outputs": [],
      "source": [
        "df_10_EYE.head(3)"
      ]
    },
    {
      "cell_type": "code",
      "execution_count": null,
      "id": "08b4c270",
      "metadata": {
        "id": "08b4c270"
      },
      "outputs": [],
      "source": [
        "df_10_EYE.describe()"
      ]
    },
    {
      "cell_type": "code",
      "execution_count": null,
      "id": "e0bf6d73",
      "metadata": {
        "id": "e0bf6d73",
        "colab": {
          "base_uri": "https://localhost:8080/"
        },
        "outputId": "e0808939-4da9-4fd1-8310-cac6d013b35e"
      },
      "outputs": [
        {
          "output_type": "execute_result",
          "data": {
            "text/plain": [
              "(16135, 18)"
            ]
          },
          "metadata": {},
          "execution_count": 700
        }
      ],
      "source": [
        "df_10_EYE[df_10_EYE['ET_ValidityLeft'] == 1].shape"
      ]
    },
    {
      "cell_type": "code",
      "execution_count": null,
      "id": "74308547",
      "metadata": {
        "id": "74308547",
        "colab": {
          "base_uri": "https://localhost:8080/"
        },
        "outputId": "75de4c2a-ec57-4443-bef9-51496107bf0e"
      },
      "outputs": [
        {
          "output_type": "execute_result",
          "data": {
            "text/plain": [
              "(11143, 18)"
            ]
          },
          "metadata": {},
          "execution_count": 701
        }
      ],
      "source": [
        "df_10_EYE[df_10_EYE['ET_ValidityRight'] == 1].shape"
      ]
    },
    {
      "cell_type": "code",
      "execution_count": null,
      "id": "75056964",
      "metadata": {
        "id": "75056964",
        "colab": {
          "base_uri": "https://localhost:8080/"
        },
        "outputId": "09d86c73-bc55-4d2f-8c6a-97024aede8b5"
      },
      "outputs": [
        {
          "output_type": "execute_result",
          "data": {
            "text/plain": [
              "0.1315424751345182"
            ]
          },
          "metadata": {},
          "execution_count": 702
        }
      ],
      "source": [
        "df_10_EYE[df_10_EYE['ET_ValidityLeft'] == 1].shape[0] / df_10_EYE.shape[0]"
      ]
    },
    {
      "cell_type": "code",
      "execution_count": null,
      "id": "82166e04",
      "metadata": {
        "id": "82166e04",
        "colab": {
          "base_uri": "https://localhost:8080/"
        },
        "outputId": "45aac356-2cd6-47a7-c22a-d735b7e38bc0"
      },
      "outputs": [
        {
          "output_type": "execute_result",
          "data": {
            "text/plain": [
              "0.09084461112016957"
            ]
          },
          "metadata": {},
          "execution_count": 703
        }
      ],
      "source": [
        "df_10_EYE[df_10_EYE['ET_ValidityRight'] == 1].shape[0] / df_10_EYE.shape[0]"
      ]
    },
    {
      "cell_type": "code",
      "execution_count": null,
      "id": "661aaa19",
      "metadata": {
        "id": "661aaa19"
      },
      "outputs": [],
      "source": [
        "plt.figure(figsize=(18, 8))\n",
        "\n",
        "plt.subplot(1, 2, 1)\n",
        "sns.heatmap(df_10_EYE == -1, cmap='viridis')\n",
        "plt.title('Heatmap of -1 Values')\n",
        "\n",
        "plt.subplot(1, 2, 2)\n",
        "sns.heatmap(df_10_EYE == 1, cmap='viridis')\n",
        "plt.title('Heatmap of 1 Values')\n",
        "\n",
        "plt.tight_layout()\n",
        "plt.show()"
      ]
    },
    {
      "cell_type": "code",
      "execution_count": null,
      "id": "4e853298",
      "metadata": {
        "id": "4e853298",
        "colab": {
          "base_uri": "https://localhost:8080/"
        },
        "outputId": "3ae26c86-d668-49ce-9af2-2741fcaa5090"
      },
      "outputs": [
        {
          "output_type": "execute_result",
          "data": {
            "text/plain": [
              "(94000, 18)"
            ]
          },
          "metadata": {},
          "execution_count": 705
        }
      ],
      "source": [
        "df_10_EYE[df_10_EYE['ET_PupilLeft'] == -1].shape"
      ]
    },
    {
      "cell_type": "code",
      "execution_count": null,
      "id": "e393c8d9",
      "metadata": {
        "id": "e393c8d9",
        "colab": {
          "base_uri": "https://localhost:8080/"
        },
        "outputId": "5c49ec1c-7fb1-4363-8970-43be5ddd69fe"
      },
      "outputs": [
        {
          "output_type": "execute_result",
          "data": {
            "text/plain": [
              "(84946, 18)"
            ]
          },
          "metadata": {},
          "execution_count": 706
        }
      ],
      "source": [
        "df_10_EYE[df_10_EYE['ET_PupilRight'] == -1].shape"
      ]
    },
    {
      "cell_type": "code",
      "execution_count": null,
      "id": "c579225b",
      "metadata": {
        "id": "c579225b",
        "colab": {
          "base_uri": "https://localhost:8080/"
        },
        "outputId": "7cbc867b-0a10-46e3-dc2d-54499c3f09d0"
      },
      "outputs": [
        {
          "output_type": "execute_result",
          "data": {
            "text/plain": [
              "0.7663459970650579"
            ]
          },
          "metadata": {},
          "execution_count": 707
        }
      ],
      "source": [
        "df_10_EYE[df_10_EYE['ET_PupilLeft'] == -1].shape[0] / df_10_EYE.shape[0]"
      ]
    },
    {
      "cell_type": "code",
      "execution_count": null,
      "id": "f861b08a",
      "metadata": {
        "id": "f861b08a",
        "colab": {
          "base_uri": "https://localhost:8080/"
        },
        "outputId": "8be9582a-0d78-43ec-d14a-233d9cd718ba"
      },
      "outputs": [
        {
          "output_type": "execute_result",
          "data": {
            "text/plain": [
              "0.6925322028371107"
            ]
          },
          "metadata": {},
          "execution_count": 708
        }
      ],
      "source": [
        "df_10_EYE[df_10_EYE['ET_PupilRight'] == -1].shape[0] / df_10_EYE.shape[0]"
      ]
    },
    {
      "cell_type": "code",
      "execution_count": null,
      "id": "8f39fa36",
      "metadata": {
        "id": "8f39fa36"
      },
      "outputs": [],
      "source": [
        "plt.figure(figsize=(18, 8))\n",
        "\n",
        "plt.subplot(1, 2, 1)\n",
        "sns.heatmap(df_10_EYE[df_10_EYE['ET_ValidityLeft'] == 1] == -1, cmap='viridis')\n",
        "plt.title('Heatmap of -1 Values')\n",
        "\n",
        "plt.subplot(1, 2, 2)\n",
        "sns.heatmap(df_10_EYE[df_10_EYE['ET_ValidityRight'] == 1] == -1, cmap='viridis')\n",
        "plt.title('Heatmap of -1 Values')\n",
        "\n",
        "plt.tight_layout()\n",
        "plt.show()"
      ]
    },
    {
      "cell_type": "markdown",
      "id": "beca7097",
      "metadata": {
        "id": "beca7097"
      },
      "source": [
        "# Notes & Observations\n",
        "\n",
        "- The heatmaps reveal the distribution of -1 values across different columns.\n",
        "- It is evident that the `-1` values are not randomly scattered but appear in specific columns, notably `ET_GazeLeftx`, `ET_GazeLefty`, `ET_GazeRightx`, `ET_GazeRighty`, `ET_PupilLeft`, `ET_PupilRight`, `ET_DistanceLeft`, `ET_DistanceRight`, `ET_CameraLeftX`, `ET_CameraLeftY`, `ET_CameraRightX`, and `ET_CameraRightY`.\n",
        "- These `-1` values often coincide with instances where `ET_ValidityLeft` or `ET_ValidityRight` is 1, indicating invalid eye-tracking data. This suggests that `-1` is used as a placeholder for missing or invalid measurements in these columns when the eye tracker is not providing valid data for a particular eye.\n",
        "- Given that over 70% of the data in the `ET_PupilLeft` and `ET_PupilRight` columns is marked as invalid (-1), so instead of dropping them we can create new feature for both the `ET_PupilLeft` and `ET_PupilRight` to represent which row consist invalid `ET_PupilLeft` and `ET_PupilRight` data"
      ]
    },
    {
      "cell_type": "code",
      "execution_count": null,
      "id": "d9d7619c",
      "metadata": {
        "id": "d9d7619c"
      },
      "outputs": [],
      "source": [
        "pupil_validity = {-1: 1 }"
      ]
    },
    {
      "cell_type": "code",
      "execution_count": null,
      "id": "2659f428",
      "metadata": {
        "id": "2659f428"
      },
      "outputs": [],
      "source": [
        "df_10_EYE['ET_PupilLeft_validity'] = df_10_EYE['ET_PupilLeft'].map(pupil_validity)"
      ]
    },
    {
      "cell_type": "code",
      "execution_count": null,
      "id": "bd4755e5",
      "metadata": {
        "id": "bd4755e5"
      },
      "outputs": [],
      "source": [
        "df_10_EYE['ET_PupilRight_validity'] = df_10_EYE['ET_PupilRight'].map(pupil_validity)"
      ]
    },
    {
      "cell_type": "code",
      "execution_count": null,
      "id": "f22fb8f3",
      "metadata": {
        "id": "f22fb8f3"
      },
      "outputs": [],
      "source": [
        "df_10_EYE[['ET_PupilLeft_validity', 'ET_PupilRight_validity']].head()"
      ]
    },
    {
      "cell_type": "code",
      "execution_count": null,
      "id": "e02edb50",
      "metadata": {
        "id": "e02edb50",
        "colab": {
          "base_uri": "https://localhost:8080/"
        },
        "outputId": "5e71035a-8862-451d-9009-7a7f26c86bdf"
      },
      "outputs": [
        {
          "output_type": "execute_result",
          "data": {
            "text/plain": [
              "ET_PupilLeft_validity     28660\n",
              "ET_PupilRight_validity    37714\n",
              "dtype: int64"
            ]
          },
          "metadata": {},
          "execution_count": 714
        }
      ],
      "source": [
        "df_10_EYE[['ET_PupilLeft_validity', 'ET_PupilRight_validity']].isnull().sum()"
      ]
    },
    {
      "cell_type": "code",
      "execution_count": null,
      "id": "95bb4f1d",
      "metadata": {
        "id": "95bb4f1d"
      },
      "outputs": [],
      "source": [
        "plt.figure(figsize=(18, 8))\n",
        "sns.heatmap(df_10_EYE[['ET_PupilLeft_validity', 'ET_PupilRight_validity']].isnull(), cmap='viridis')\n",
        "plt.show()"
      ]
    },
    {
      "cell_type": "code",
      "execution_count": null,
      "id": "d80f1cd3",
      "metadata": {
        "id": "d80f1cd3"
      },
      "outputs": [],
      "source": [
        "df_10_EYE['ET_PupilLeft_validity'] = df_10_EYE['ET_PupilLeft_validity'].fillna(0)"
      ]
    },
    {
      "cell_type": "code",
      "execution_count": null,
      "id": "f0b71f99",
      "metadata": {
        "id": "f0b71f99"
      },
      "outputs": [],
      "source": [
        "df_10_EYE['ET_PupilRight_validity'] = df_10_EYE['ET_PupilRight_validity'].fillna(0)"
      ]
    },
    {
      "cell_type": "code",
      "execution_count": null,
      "id": "b148a7ac",
      "metadata": {
        "id": "b148a7ac"
      },
      "outputs": [],
      "source": [
        "df_10_EYE[['ET_PupilLeft_validity', 'ET_PupilRight_validity']].head()"
      ]
    },
    {
      "cell_type": "code",
      "execution_count": null,
      "id": "02f0aefc",
      "metadata": {
        "id": "02f0aefc"
      },
      "outputs": [],
      "source": [
        "plt.figure(figsize=(18, 8))\n",
        "sns.heatmap(df_10_EYE[['ET_PupilLeft_validity', 'ET_PupilRight_validity']].isnull(), cmap='viridis')\n",
        "plt.show()"
      ]
    },
    {
      "cell_type": "code",
      "execution_count": null,
      "id": "eb6af046",
      "metadata": {
        "id": "eb6af046"
      },
      "outputs": [],
      "source": [
        "df_10_EYE.head()"
      ]
    },
    {
      "cell_type": "code",
      "execution_count": null,
      "id": "60c204be",
      "metadata": {
        "id": "60c204be"
      },
      "outputs": [],
      "source": [
        "plt.figure(figsize=(18, 8))\n",
        "\n",
        "plt.subplot(1, 2, 1)\n",
        "sns.heatmap(df_10_EYE == -1, cmap='viridis')\n",
        "plt.title('Heatmap of -1 Values')\n",
        "\n",
        "plt.subplot(1, 2, 2)\n",
        "sns.heatmap(df_10_EYE == 1, cmap='viridis')\n",
        "plt.title('Heatmap of -1 Values')\n",
        "\n",
        "plt.tight_layout()\n",
        "plt.show()"
      ]
    },
    {
      "cell_type": "code",
      "execution_count": null,
      "id": "34fe2a92",
      "metadata": {
        "id": "34fe2a92"
      },
      "outputs": [],
      "source": [
        "valid_left_ratio  = 1 - df_10_EYE['ET_ValidityLeft'].mean()"
      ]
    },
    {
      "cell_type": "code",
      "execution_count": null,
      "id": "8831c3d7",
      "metadata": {
        "id": "8831c3d7",
        "colab": {
          "base_uri": "https://localhost:8080/"
        },
        "outputId": "7e32305d-6407-49e2-8fa8-67369008abd5"
      },
      "outputs": [
        {
          "output_type": "execute_result",
          "data": {
            "text/plain": [
              "np.float64(0.8684575248654818)"
            ]
          },
          "metadata": {},
          "execution_count": 723
        }
      ],
      "source": [
        "valid_left_ratio"
      ]
    },
    {
      "cell_type": "code",
      "execution_count": null,
      "id": "4d4f6e1a",
      "metadata": {
        "id": "4d4f6e1a"
      },
      "outputs": [],
      "source": [
        "valid_right_ratio = 1 - df_10_EYE['ET_ValidityRight'].mean()"
      ]
    },
    {
      "cell_type": "code",
      "execution_count": null,
      "id": "626b9cdc",
      "metadata": {
        "id": "626b9cdc",
        "colab": {
          "base_uri": "https://localhost:8080/"
        },
        "outputId": "e27db740-83ea-48ac-8378-a0f381f4ed38"
      },
      "outputs": [
        {
          "output_type": "execute_result",
          "data": {
            "text/plain": [
              "np.float64(0.9091553888798304)"
            ]
          },
          "metadata": {},
          "execution_count": 725
        }
      ],
      "source": [
        "valid_right_ratio"
      ]
    },
    {
      "cell_type": "code",
      "execution_count": null,
      "id": "01e68dd5",
      "metadata": {
        "id": "01e68dd5"
      },
      "outputs": [],
      "source": [
        "df_10_EYE['ET_PupilLeft_validity'] = df_10_EYE['ET_PupilLeft_validity'].astype(np.int8)\n",
        "df_10_EYE['ET_PupilRight_validity'] = df_10_EYE['ET_PupilRight_validity'].astype(np.int8)"
      ]
    },
    {
      "cell_type": "markdown",
      "id": "ff301e3a",
      "metadata": {
        "id": "ff301e3a"
      },
      "source": [
        "# Feature Engineering and Observations\n",
        "\n",
        "Based on the analysis of the data, we've created two new features, `ET_PupilLeft_validity` and `ET_PupilRight_validity`. These features indicate the validity of the pupil data for the left and right eyes, respectively, with a value of 1 representing invalid data (originally -1) and 0 representing valid data.\n",
        "\n",
        "The heatmaps above visually demonstrate the distribution of -1 and 1 values across the dataset. We observed that:\n",
        "- The `-1` values are concentrated in specific columns related to gaze, pupil size, distance, and camera position, suggesting they represent missing or invalid sensor readings.\n",
        "- The `1` values, after mapping from `4.0` in the original validity columns, indicate instances of invalid eye-tracking data.\n",
        "- The heatmaps also show a strong correlation between the `-1` values in the pupil columns and a validity of 1 in the newly created pupil validity features, confirming that -1 was used to mark invalid pupil data."
      ]
    },
    {
      "cell_type": "code",
      "execution_count": null,
      "id": "fbe26dc2",
      "metadata": {
        "id": "fbe26dc2"
      },
      "outputs": [],
      "source": [
        "df_10_EYE.head()"
      ]
    },
    {
      "cell_type": "code",
      "execution_count": null,
      "id": "ddbac3c4",
      "metadata": {
        "id": "ddbac3c4"
      },
      "outputs": [],
      "source": [
        "# Select only the numeric columns for plotting histograms, excluding time-related columns\n",
        "numeric_cols = df_10_EYE.select_dtypes(include=np.number).columns\n",
        "cols_to_plot = [col for col in numeric_cols if col not in ['UnixTime']]\n",
        "\n",
        "# Calculate the number of rows and columns for the grid\n",
        "n_cols = 4  # You can adjust the number of columns as needed\n",
        "n_rows = (len(cols_to_plot) + n_cols - 1) // n_cols\n",
        "\n",
        "plt.figure(figsize=(n_cols * 5, n_rows * 4)) # Adjust figure size as needed\n",
        "\n",
        "for i, col in enumerate(cols_to_plot):\n",
        "    plt.subplot(n_rows, n_cols, i + 1)\n",
        "    sns.histplot(df_10_EYE[col], kde=True)\n",
        "    plt.title(f'Distribution of {col}')\n",
        "    plt.xlabel(col)\n",
        "    plt.ylabel('Frequency')\n",
        "\n",
        "plt.tight_layout()\n",
        "plt.show()"
      ]
    },
    {
      "cell_type": "markdown",
      "id": "71bc3a82",
      "metadata": {
        "id": "71bc3a82"
      },
      "source": [
        "# Observations from Histograms\n",
        "\n",
        "The grid of histograms provides insights into the distribution of values for each numeric column in the dataset (excluding 'UnixTime'). Key observations include:\n",
        "\n",
        "- Several columns, such as `ET_GazeLeftx`, `ET_GazeLefty`, `ET_GazeRightx`, and `ET_GazeRighty`, show distributions that appear somewhat multimodal or skewed, suggesting variations in gaze patterns.\n",
        "- The `ET_PupilLeft` and `ET_PupilRight` histograms clearly show a peak at -1, confirming the presence of a significant number of invalid pupil readings.\n",
        "- `ET_TimeSignal` shows a relatively uniform distribution, as expected for a time-based signal.\n",
        "- `ET_DistanceLeft` and `ET_DistanceRight` appear to have distributions centered around certain values, with some outliers or variations.\n",
        "- The camera position columns (`ET_CameraLeftX`, `ET_CameraLeftY`, `ET_CameraRightX`, `ET_CameraRightY`) seem to have distributions concentrated within specific ranges, reflecting the camera's field of view.\n",
        "- The validity columns (`ET_ValidityLeft`, `ET_ValidityRight`, `ET_PupilLeft_validity`, `ET_PupilRight_validity`) show distributions dominated by 0, indicating that most of the data is considered valid after the mapping. The smaller peaks at 1 represent the instances of invalid data.\n",
        "\n",
        "These distributions highlight the need for appropriate handling of the -1 values and potential outliers in subsequent analysis or modeling steps."
      ]
    },
    {
      "cell_type": "code",
      "execution_count": null,
      "id": "164f4db2",
      "metadata": {
        "id": "164f4db2",
        "colab": {
          "base_uri": "https://localhost:8080/"
        },
        "outputId": "f65ac6b5-a1a6-47e0-f799-743761582277"
      },
      "outputs": [
        {
          "output_type": "execute_result",
          "data": {
            "text/plain": [
              "Index(['UnixTime', 'QuestionKey', 'Timestamp', 'ET_GazeLeftx', 'ET_GazeLefty',\n",
              "       'ET_GazeRightx', 'ET_GazeRighty', 'ET_PupilLeft', 'ET_PupilRight',\n",
              "       'ET_TimeSignal', 'ET_DistanceLeft', 'ET_DistanceRight',\n",
              "       'ET_CameraLeftX', 'ET_CameraLeftY', 'ET_CameraRightX',\n",
              "       'ET_CameraRightY', 'ET_ValidityLeft', 'ET_ValidityRight',\n",
              "       'ET_PupilLeft_validity', 'ET_PupilRight_validity'],\n",
              "      dtype='object')"
            ]
          },
          "metadata": {},
          "execution_count": 729
        }
      ],
      "source": [
        "df_10_EYE.columns"
      ]
    },
    {
      "cell_type": "code",
      "execution_count": null,
      "id": "42e71d76",
      "metadata": {
        "id": "42e71d76"
      },
      "outputs": [],
      "source": [
        "cols = ['ET_GazeLeftx', 'ET_GazeLefty',\n",
        "       'ET_GazeRightx', 'ET_GazeRighty', 'ET_PupilLeft', 'ET_PupilRight',\n",
        "       'ET_TimeSignal', 'ET_DistanceLeft', 'ET_DistanceRight',\n",
        "       'ET_CameraLeftX', 'ET_CameraLeftY', 'ET_CameraRightX',\n",
        "       'ET_CameraRightY', 'ET_ValidityLeft', 'ET_ValidityRight',\n",
        "       'ET_PupilLeft_validity', 'ET_PupilRight_validity']"
      ]
    },
    {
      "cell_type": "code",
      "execution_count": null,
      "id": "71e9198c",
      "metadata": {
        "id": "71e9198c"
      },
      "outputs": [],
      "source": [
        "from IPython.display import display, Markdown\n",
        "\n",
        "for col in cols:\n",
        "    # Add a markdown cell before each plot for better separation and labeling\n",
        "    display(Markdown(f'### {col} over Time'))\n",
        "    plt.figure(figsize=(16, 10))\n",
        "    plt.plot(df_10_EYE['Timestamp'], df_10_EYE[col])\n",
        "    plt.xlabel(\"Timestamp\") # Add x-axis label\n",
        "    plt.ylabel(col) # Add y-axis label\n",
        "    plt.show()"
      ]
    },
    {
      "cell_type": "markdown",
      "id": "a91080af",
      "metadata": {
        "id": "a91080af"
      },
      "source": [
        "# Observations from Time Series Plots\n",
        "\n",
        "The line plots showing various features against the `Timestamp` reveal the temporal patterns and fluctuations in the eye-tracking data. Key observations include:\n",
        "\n",
        "- **Gaze Coordinates (`ET_GazeLeftx`, `ET_GazeLefty`, `ET_GazeRightx`, `ET_GazeRighty`):** These plots show the changes in gaze position over time. We can observe periods of relatively stable gaze interspersed with rapid movements (saccades) and blinks or other events where the gaze data might be invalid (-1 values appear as gaps or spikes if not handled).\n",
        "- **Pupil Size (`ET_PupilLeft`, `ET_PupilRight`):** The pupil size plots show variations over time. The presence of many -1 values is evident as flat lines at the bottom of the plot, indicating periods where pupil data was not recorded or was invalid.\n",
        "- **Time Signal (`ET_TimeSignal`):** This plot shows a steady, increasing trend, as expected for a time-based signal.\n",
        "- **Distance and Camera Position (`ET_DistanceLeft`, `ET_DistanceRight`, `ET_CameraLeftX`, `ET_CameraLeftY`, `ET_CameraRightX`, `ET_CameraRightY`):** These plots show how the distance from the eye tracker and the camera positions change over time. Variations in these features can be related to head movements or changes in the user's position relative to the eye tracker.\n",
        "- **Validity (`ET_ValidityLeft`, `ET_ValidityRight`, `ET_PupilLeft_validity`, `ET_PupilRight_validity`):** These plots clearly show periods of invalid data (represented by 1) as spikes or plateaus, corresponding to instances where the eye tracker lost track of the eyes or the pupil data was marked as invalid.\n",
        "\n",
        "Analyzing these time series plots is crucial for understanding the dynamics of the eye-tracking data and identifying patterns or anomalies that may require further investigation or specific handling during subsequent analysis."
      ]
    },
    {
      "cell_type": "code",
      "execution_count": null,
      "id": "d24dbc3a",
      "metadata": {
        "id": "d24dbc3a"
      },
      "outputs": [],
      "source": [
        "# Select only the numeric columns for plotting histograms, excluding time-related columns\n",
        "numeric_cols = df_10_EYE.select_dtypes(include=np.number).columns\n",
        "\n",
        "# Calculate the number of rows and columns for the grid\n",
        "n_cols = 4  # You can adjust the number of columns as needed\n",
        "n_rows = (len(numeric_cols) + n_cols - 1) // n_cols\n",
        "\n",
        "plt.figure(figsize=(n_cols * 5, n_rows * 4)) # Adjust figure size as needed\n",
        "\n",
        "for i, col in enumerate(numeric_cols):\n",
        "    plt.subplot(n_rows, n_cols, i + 1)\n",
        "    sns.boxplot(df_10_EYE[col])\n",
        "    plt.title(f'Boxplot of {col}')\n",
        "    plt.xlabel(col)\n",
        "\n",
        "plt.tight_layout()\n",
        "plt.show()"
      ]
    },
    {
      "cell_type": "markdown",
      "id": "8ab42aac",
      "metadata": {
        "id": "8ab42aac"
      },
      "source": [
        "# Observations from Boxplots and Handling -1 Values\n",
        "\n",
        "The boxplots provide a visual summary of the distribution and potential outliers for each numeric column. Key observations from the boxplots include:\n",
        "\n",
        "- The boxplots for columns like `ET_GazeLeftx`, `ET_GazeLefty`, `ET_GazeRightx`, `ET_GazeRighty`, `ET_PupilLeft`, `ET_PupilRight`, `ET_DistanceLeft`, `ET_DistanceRight`, `ET_CameraLeftX`, `ET_CameraLeftY`, `ET_CameraRightX`, and `ET_CameraRightY` clearly show the presence of -1 values as significant outliers, confirming our earlier observations from the heatmaps and histograms.\n",
        "- The boxplots for the validity columns (`ET_ValidityLeft`, `ET_ValidityRight`, `ET_PupilLeft_validity`, `ET_PupilRight_validity`) show the discrete nature of these features, with the majority of data points at 0 (valid) and a smaller number at 1 (invalid).\n",
        "\n",
        "Given the significant presence of -1 values, which represent invalid or missing data, especially in the pupil-related columns, we have decided to replace these -1 values with NaN to properly represent them as missing data. Subsequently, we will impute these missing values using the mean of each respective column. This approach helps to retain the data structure and allows for further analysis or modeling without the distortion caused by the -1 placeholders."
      ]
    },
    {
      "cell_type": "code",
      "execution_count": null,
      "id": "8ca2c99d",
      "metadata": {
        "id": "8ca2c99d"
      },
      "outputs": [],
      "source": [
        "df_10_EYE.replace({-1: np.nan}, inplace=True)"
      ]
    },
    {
      "cell_type": "code",
      "execution_count": null,
      "id": "3a4c1f3c",
      "metadata": {
        "id": "3a4c1f3c",
        "colab": {
          "base_uri": "https://localhost:8080/"
        },
        "outputId": "241e39fa-e5d3-4986-9f9b-15832050d1fa"
      },
      "outputs": [
        {
          "output_type": "execute_result",
          "data": {
            "text/plain": [
              "ET_GazeLeftx                 914.380999\n",
              "ET_GazeLefty                 551.850982\n",
              "ET_GazeRightx                910.256696\n",
              "ET_GazeRighty                544.266441\n",
              "ET_PupilLeft                   3.321256\n",
              "ET_PupilRight                  3.825051\n",
              "ET_TimeSignal             511071.141129\n",
              "ET_DistanceLeft              636.625841\n",
              "ET_DistanceRight             634.710874\n",
              "ET_CameraLeftX                 0.602763\n",
              "ET_CameraLeftY                 0.492493\n",
              "ET_CameraRightX                0.448805\n",
              "ET_CameraRightY                0.495304\n",
              "ET_ValidityLeft                0.131542\n",
              "ET_ValidityRight               0.090845\n",
              "ET_PupilLeft_validity          0.766346\n",
              "ET_PupilRight_validity         0.692532\n",
              "dtype: float64"
            ]
          },
          "metadata": {},
          "execution_count": 734
        }
      ],
      "source": [
        "df_10_EYE[['ET_GazeLeftx', 'ET_GazeLefty',\n",
        "       'ET_GazeRightx', 'ET_GazeRighty', 'ET_PupilLeft', 'ET_PupilRight',\n",
        "       'ET_TimeSignal', 'ET_DistanceLeft', 'ET_DistanceRight',\n",
        "       'ET_CameraLeftX', 'ET_CameraLeftY', 'ET_CameraRightX',\n",
        "       'ET_CameraRightY', 'ET_ValidityLeft', 'ET_ValidityRight',\n",
        "       'ET_PupilLeft_validity', 'ET_PupilRight_validity']].mean()"
      ]
    },
    {
      "cell_type": "code",
      "execution_count": null,
      "id": "b16cde7c",
      "metadata": {
        "id": "b16cde7c",
        "colab": {
          "base_uri": "https://localhost:8080/"
        },
        "outputId": "a4ba8269-ce31-42e3-c0da-9f51fd9bac2a"
      },
      "outputs": [
        {
          "output_type": "execute_result",
          "data": {
            "text/plain": [
              "ET_GazeLeftx                 877.000000\n",
              "ET_GazeLefty                 516.000000\n",
              "ET_GazeRightx                884.000000\n",
              "ET_GazeRighty                515.000000\n",
              "ET_PupilLeft                   3.331581\n",
              "ET_PupilRight                  3.856125\n",
              "ET_TimeSignal             511070.918500\n",
              "ET_DistanceLeft              634.062927\n",
              "ET_DistanceRight             632.294800\n",
              "ET_CameraLeftX                 0.603918\n",
              "ET_CameraLeftY                 0.491029\n",
              "ET_CameraRightX                0.449248\n",
              "ET_CameraRightY                0.493417\n",
              "ET_ValidityLeft                0.000000\n",
              "ET_ValidityRight               0.000000\n",
              "ET_PupilLeft_validity          1.000000\n",
              "ET_PupilRight_validity         1.000000\n",
              "dtype: float64"
            ]
          },
          "metadata": {},
          "execution_count": 735
        }
      ],
      "source": [
        "df_10_EYE[['ET_GazeLeftx', 'ET_GazeLefty',\n",
        "       'ET_GazeRightx', 'ET_GazeRighty', 'ET_PupilLeft', 'ET_PupilRight',\n",
        "       'ET_TimeSignal', 'ET_DistanceLeft', 'ET_DistanceRight',\n",
        "       'ET_CameraLeftX', 'ET_CameraLeftY', 'ET_CameraRightX',\n",
        "       'ET_CameraRightY', 'ET_ValidityLeft', 'ET_ValidityRight',\n",
        "       'ET_PupilLeft_validity', 'ET_PupilRight_validity']].median()"
      ]
    },
    {
      "cell_type": "code",
      "execution_count": null,
      "id": "1181cd21",
      "metadata": {
        "id": "1181cd21"
      },
      "outputs": [],
      "source": [
        "numeric_cols = df_10_EYE.select_dtypes(include=np.number).columns\n",
        "\n",
        "for col in numeric_cols:\n",
        "    df_10_EYE[col] = df_10_EYE[col].fillna(df_10_EYE[col].mean())"
      ]
    },
    {
      "cell_type": "code",
      "execution_count": null,
      "id": "9bb68ced",
      "metadata": {
        "id": "9bb68ced"
      },
      "outputs": [],
      "source": [
        "plt.figure(figsize=(18, 8))\n",
        "\n",
        "plt.subplot(1, 2, 1)\n",
        "sns.heatmap(df_10_EYE.isnull(), cmap='viridis')\n",
        "plt.title('Heatmap of Missing Values After Imputation')\n",
        "\n",
        "plt.subplot(1, 2, 2)\n",
        "sns.heatmap(df_10_EYE == 1, cmap='viridis')\n",
        "plt.title('Heatmap of 1 Values')\n",
        "\n",
        "plt.tight_layout()\n",
        "plt.show()"
      ]
    },
    {
      "cell_type": "markdown",
      "id": "9434663f",
      "metadata": {
        "id": "9434663f"
      },
      "source": [
        "# Handling Missing Values (Imputation)\n",
        "\n",
        "As decided, we have replaced all the `-1` values with `NaN` to treat them as missing data. Subsequently, we have imputed these `NaN` values with the mean of their respective columns. The heatmap above, which was generated after the imputation, now shows no visible signs of `NaN` values, indicating that the imputation was successful."
      ]
    },
    {
      "cell_type": "code",
      "execution_count": null,
      "id": "bd6dd807",
      "metadata": {
        "id": "bd6dd807"
      },
      "outputs": [],
      "source": [
        "df_10_EYE.head()"
      ]
    },
    {
      "cell_type": "code",
      "execution_count": null,
      "id": "bb9a0c44",
      "metadata": {
        "id": "bb9a0c44"
      },
      "outputs": [],
      "source": [
        "# Select only the numeric columns for plotting histograms, excluding time-related columns\n",
        "numeric_cols = df_10_EYE.select_dtypes(include=np.number).columns\n",
        "cols_to_plot = [col for col in numeric_cols if col not in ['UnixTime']]\n",
        "\n",
        "# Calculate the number of rows and columns for the grid\n",
        "n_cols = 4  # You can adjust the number of columns as needed\n",
        "n_rows = (len(cols_to_plot) + n_cols - 1) // n_cols\n",
        "\n",
        "plt.figure(figsize=(n_cols * 5, n_rows * 4)) # Adjust figure size as needed\n",
        "\n",
        "for i, col in enumerate(cols_to_plot):\n",
        "    plt.subplot(n_rows, n_cols, i + 1)\n",
        "    sns.histplot(df_10_EYE[col], kde=True)\n",
        "    plt.title(f'Distribution of {col}')\n",
        "    plt.xlabel(col)\n",
        "    plt.ylabel('Frequency')\n",
        "\n",
        "plt.tight_layout()\n",
        "plt.show()"
      ]
    },
    {
      "cell_type": "markdown",
      "id": "a975f1e0",
      "metadata": {
        "id": "a975f1e0"
      },
      "source": [
        "# Observations from Histograms After Imputation\n",
        "\n",
        "The histograms generated after replacing the -1 values with the mean of each column show the distributions of the numeric features with the missing data handled. Key observations from these updated histograms include:\n",
        "\n",
        "- The distinct peaks at -1, which were prominent in the histograms for several columns (e.g., pupil size, gaze coordinates, distance, and camera position) before imputation, are now replaced by a peak at the mean of each respective column.\n",
        "- The distributions in many columns now appear more unimodal or show shifted modes compared to the original histograms.\n",
        "- The histograms for the validity columns still show their bimodal distributions with peaks at 0 and 1, as these were handled separately.\n",
        "\n",
        "These histograms provide an updated view of the data's distribution after handling the missing values, highlighting the impact of the imputation method on the data's characteristics."
      ]
    },
    {
      "cell_type": "code",
      "execution_count": null,
      "id": "ecb9df8a",
      "metadata": {
        "id": "ecb9df8a"
      },
      "outputs": [],
      "source": [
        "cols = ['ET_GazeLeftx', 'ET_GazeLefty',\n",
        "       'ET_GazeRightx', 'ET_GazeRighty', 'ET_PupilLeft', 'ET_PupilRight',\n",
        "       'ET_TimeSignal', 'ET_DistanceLeft', 'ET_DistanceRight',\n",
        "       'ET_CameraLeftX', 'ET_CameraLeftY', 'ET_CameraRightX',\n",
        "       'ET_CameraRightY', 'ET_ValidityLeft', 'ET_ValidityRight',\n",
        "       'ET_PupilLeft_validity', 'ET_PupilRight_validity']"
      ]
    },
    {
      "cell_type": "code",
      "execution_count": null,
      "id": "0c71882d",
      "metadata": {
        "id": "0c71882d"
      },
      "outputs": [],
      "source": [
        "for col in cols:\n",
        "    # Add a markdown cell before each plot for better separation and labeling\n",
        "    display(Markdown(f'### {col} over Time'))\n",
        "    plt.figure(figsize=(16, 10))\n",
        "    plt.plot(df_10_EYE['Timestamp'], df_10_EYE[col])\n",
        "    plt.xlabel(\"Timestamp\") # Add x-axis label\n",
        "    plt.ylabel(col) # Add y-axis label\n",
        "    plt.show()"
      ]
    },
    {
      "cell_type": "markdown",
      "id": "86a3e981",
      "metadata": {
        "id": "86a3e981"
      },
      "source": [
        "# Observations from Time Series Plots After Imputation\n",
        "\n",
        "The line plots generated after imputing the missing values with the mean show the temporal patterns of the features with the missing data handled. Key observations from these updated plots include:\n",
        "\n",
        "- The gaps or flat lines at -1, which were prominent in the plots for columns like gaze coordinates, pupil size, distance, and camera position, are now filled by lines at the mean value of the respective columns.\n",
        "- The plots for the validity columns remain the same as they were handled separately.\n",
        "- The `ET_TimeSignal` plot still shows a steady increasing trend, as expected."
      ]
    },
    {
      "cell_type": "code",
      "execution_count": null,
      "id": "7fb09eca",
      "metadata": {
        "id": "7fb09eca"
      },
      "outputs": [],
      "source": [
        "plt.figure(figsize=(16, 10))\n",
        "sns.heatmap(df_10_EYE.corr(numeric_only=True), cmap='YlGnBu', annot=True)\n",
        "plt.show()"
      ]
    },
    {
      "cell_type": "markdown",
      "id": "538f871e",
      "metadata": {
        "id": "538f871e"
      },
      "source": [
        "# Observations from Correlation Heatmap\n",
        "\n",
        "The correlation heatmap provides a visual representation of the pairwise correlations between the numeric columns in the dataset. Key observations from the heatmap include:\n",
        "\n",
        "- **High Positive Correlations:** We observe strong positive correlations (values close to 1) between:\n",
        "  - `ET_GazeLeftx` and `ET_GazeRightx`: This is expected as the gaze positions of both eyes should be highly correlated when fixating on a point.\n",
        "  - `ET_GazeLefty` and `ET_GazeRighty`: Similar to the x-coordinates, the y-coordinates of gaze should also be highly correlated.\n",
        "  - `ET_PupilLeft` and `ET_PupilRight`: Pupil sizes of both eyes tend to change together in response to light and cognitive load.\n",
        "  - `ET_DistanceLeft` and `ET_DistanceRight`: The distance from the eye tracker to each eye should be highly correlated.\n",
        "  - `ET_CameraLeftX` and `ET_CameraRightX`, `ET_CameraLeftY` and `ET_CameraRightY`: The camera positions for both eyes are also expected to be highly correlated.\n",
        "  - `UnixTime` and `ET_TimeSignal`: As previously noted, these two columns are almost perfectly linearly correlated, indicating redundancy.\n",
        "  - `ET_ValidityLeft` and `ET_PupilLeft_validity`: There is a positive correlation, suggesting that when the overall left eye data is invalid, the left pupil data is also likely to be invalid.\n",
        "  - `ET_ValidityRight` and `ET_PupilRight_validity`: Similar to the left eye, there is a positive correlation between the overall right eye validity and the right pupil validity.\n",
        "- **Other Correlations:** We can also observe other varying degrees of correlations between different features, which can provide insights into the relationships between gaze behavior, pupil size, distance, and camera position. For example, there might be correlations between gaze coordinates and camera positions, reflecting head movements.\n",
        "- **Low or Near-Zero Correlations:** Columns with low or near-zero correlations are relatively independent of each other.\n",
        "\n",
        "Understanding these correlations is important for feature selection and for building models, as highly correlated features might indicate multicollinearity, while correlations between features can reveal underlying patterns in the data."
      ]
    },
    {
      "cell_type": "markdown",
      "id": "8df959db",
      "metadata": {
        "id": "8df959db"
      },
      "source": [
        "# Analysis of ET_TimeSignal and Decision to Drop\n",
        "\n",
        "As observed in the time series plot and confirmed by the correlation heatmap, the `ET_TimeSignal` column exhibits a near-perfect linear relationship with both the `Timestamp` and `UnixTime` columns. This strong correlation (close to 1) suggests that `ET_TimeSignal` is essentially redundant and likely represents another form of time recording or a signal directly derived from the timestamp.\n",
        "\n",
        "Including highly correlated features like this in a dataset can lead to issues such as multicollinearity in some statistical models, which can make it difficult to interpret the individual impact of each feature. Since the `Timestamp` column already provides the necessary temporal information, retaining `ET_TimeSignal` does not appear to add significant value for further analysis or modeling in most cases.\n",
        "\n",
        "Therefore, based on its high correlation and lack of unique insight, we will proceed to drop the `ET_TimeSignal` column to simplify the dataset and potentially improve the performance and interpretability of future analyses."
      ]
    },
    {
      "cell_type": "code",
      "execution_count": null,
      "id": "ae668ac4",
      "metadata": {
        "id": "ae668ac4"
      },
      "outputs": [],
      "source": [
        "df_10_EYE.drop('ET_TimeSignal', axis=1, inplace=True)"
      ]
    },
    {
      "cell_type": "code",
      "execution_count": null,
      "id": "08827470",
      "metadata": {
        "id": "08827470"
      },
      "outputs": [],
      "source": [
        "plt.figure(figsize=(16, 10))\n",
        "sns.pairplot(df_10_EYE)\n",
        "plt.show()"
      ]
    },
    {
      "cell_type": "code",
      "source": [],
      "metadata": {
        "id": "dNOYvtjBP8Bj"
      },
      "id": "dNOYvtjBP8Bj",
      "execution_count": null,
      "outputs": []
    }
  ],
  "metadata": {
    "colab": {
      "provenance": []
    },
    "kernelspec": {
      "display_name": "Python 3",
      "name": "python3"
    },
    "language_info": {
      "name": "python"
    }
  },
  "nbformat": 4,
  "nbformat_minor": 5
}